{
 "cells": [
  {
   "cell_type": "markdown",
   "metadata": {},
   "source": [
    "# The sys module"
   ]
  },
  {
   "cell_type": "markdown",
   "metadata": {},
   "source": [
    "The system module sys gives details about objects used or maintained by the Python interpreter. It can be imported using:"
   ]
  },
  {
   "cell_type": "code",
   "execution_count": 1,
   "metadata": {},
   "outputs": [],
   "source": [
    "import sys"
   ]
  },
  {
   "cell_type": "markdown",
   "metadata": {},
   "source": [
    "And a summary of the module can be seen by using ```?```"
   ]
  },
  {
   "cell_type": "code",
   "execution_count": 2,
   "metadata": {},
   "outputs": [
    {
     "name": "stdout",
     "output_type": "stream",
     "text": [
      "\u001b[1;31mType:\u001b[0m        module\n",
      "\u001b[1;31mString form:\u001b[0m <module 'sys' (built-in)>\n",
      "\u001b[1;31mDocstring:\u001b[0m  \n",
      "This module provides access to some objects used or maintained by the\n",
      "interpreter and to functions that interact strongly with the interpreter.\n",
      "\n",
      "Dynamic objects:\n",
      "\n",
      "argv -- command line arguments; argv[0] is the script pathname if known\n",
      "path -- module search path; path[0] is the script directory, else ''\n",
      "modules -- dictionary of loaded modules\n",
      "\n",
      "displayhook -- called to show results in an interactive session\n",
      "excepthook -- called to handle any uncaught exception other than SystemExit\n",
      "  To customize printing in an interactive session or to install a custom\n",
      "  top-level exception handler, assign other functions to replace these.\n",
      "\n",
      "stdin -- standard input file object; used by input()\n",
      "stdout -- standard output file object; used by print()\n",
      "stderr -- standard error object; used for error messages\n",
      "  By assigning other file objects (or objects that behave like files)\n",
      "  to these, it is possible to redirect all of the interpreter's I/O.\n",
      "\n",
      "last_type -- type of last uncaught exception\n",
      "last_value -- value of last uncaught exception\n",
      "last_traceback -- traceback of last uncaught exception\n",
      "  These three are only available in an interactive session after a\n",
      "  traceback has been printed.\n",
      "\n",
      "Static objects:\n",
      "\n",
      "builtin_module_names -- tuple of module names built into this interpreter\n",
      "copyright -- copyright notice pertaining to this interpreter\n",
      "exec_prefix -- prefix used to find the machine-specific Python library\n",
      "executable -- absolute path of the executable binary of the Python interpreter\n",
      "float_info -- a named tuple with information about the float implementation.\n",
      "float_repr_style -- string indicating the style of repr() output for floats\n",
      "hash_info -- a named tuple with information about the hash algorithm.\n",
      "hexversion -- version information encoded as a single integer\n",
      "implementation -- Python implementation information.\n",
      "int_info -- a named tuple with information about the int implementation.\n",
      "maxsize -- the largest supported length of containers.\n",
      "maxunicode -- the value of the largest Unicode code point\n",
      "platform -- platform identifier\n",
      "prefix -- prefix used to find the Python library\n",
      "thread_info -- a named tuple with information about the thread implementation.\n",
      "version -- the version of this interpreter as a string\n",
      "version_info -- version information as a named tuple\n",
      "dllhandle -- [Windows only] integer handle of the Python DLL\n",
      "winver -- [Windows only] version number of the Python DLL\n",
      "_enablelegacywindowsfsencoding -- [Windows only]\n",
      "__stdin__ -- the original stdin; don't touch!\n",
      "__stdout__ -- the original stdout; don't touch!\n",
      "__stderr__ -- the original stderr; don't touch!\n",
      "__displayhook__ -- the original displayhook; don't touch!\n",
      "__excepthook__ -- the original excepthook; don't touch!\n",
      "\n",
      "Functions:\n",
      "\n",
      "displayhook() -- print an object to the screen, and save it in builtins._\n",
      "excepthook() -- print an exception and its traceback to sys.stderr\n",
      "exception() -- return the current thread's active exception\n",
      "exc_info() -- return information about the current thread's active exception\n",
      "exit() -- exit the interpreter by raising SystemExit\n",
      "getdlopenflags() -- returns flags to be used for dlopen() calls\n",
      "getprofile() -- get the global profiling function\n",
      "getrefcount() -- return the reference count for an object (plus one :-)\n",
      "getrecursionlimit() -- return the max recursion depth for the interpreter\n",
      "getsizeof() -- return the size of an object in bytes\n",
      "gettrace() -- get the global debug tracing function\n",
      "setdlopenflags() -- set the flags to be used for dlopen() calls\n",
      "setprofile() -- set the global profiling function\n",
      "setrecursionlimit() -- set the max recursion depth for the interpreter\n",
      "settrace() -- set the global debug tracing function"
     ]
    }
   ],
   "source": [
    "sys?"
   ]
  },
  {
   "cell_type": "markdown",
   "metadata": {},
   "source": [
    "The module has dynamic objects and static objects: \n",
    "\n",
    "* The mutatable objects are typically lists or dictionaries which mutate as changes in the Python interpretter are made when command line arguments are added to a Python call or a module is imported.\n",
    "\n",
    "* The static objects are generally immutatable objects such as a tuple or Unicode string corresponding to a property of the Python interpretter which will not change.\n",
    "\n",
    "A small number of functions are available which control the behaviour of the Python interpretter.\n"
   ]
  },
  {
   "cell_type": "markdown",
   "metadata": {},
   "source": [
    "## argv"
   ]
  },
  {
   "cell_type": "markdown",
   "metadata": {},
   "source": [
    "The default shell in Windows is PowerShell and in Linux/Mac is bash. These scripting languages use the following syntax:"
   ]
  },
  {
   "cell_type": "raw",
   "metadata": {},
   "source": [
    "command"
   ]
  },
  {
   "cell_type": "raw",
   "metadata": {},
   "source": [
    "command command_arg0"
   ]
  },
  {
   "cell_type": "raw",
   "metadata": {},
   "source": [
    "command command_arg0 command_arg1"
   ]
  },
  {
   "cell_type": "markdown",
   "metadata": {},
   "source": [
    "Whereas Python uses the following syntax:"
   ]
  },
  {
   "cell_type": "raw",
   "metadata": {},
   "source": [
    "function()"
   ]
  },
  {
   "cell_type": "raw",
   "metadata": {},
   "source": [
    "function(input_arg0)"
   ]
  },
  {
   "cell_type": "raw",
   "metadata": {},
   "source": [
    "function(input_arg0, input_arg1)"
   ]
  },
  {
   "cell_type": "markdown",
   "metadata": {},
   "source": [
    "There are slight different shells used for each Operating System. So te ```os``` module will be imported, so that if, else code blocks can be setup in accordance to the Operating System:"
   ]
  },
  {
   "cell_type": "code",
   "execution_count": 3,
   "metadata": {},
   "outputs": [],
   "source": [
    "import os"
   ]
  },
  {
   "cell_type": "markdown",
   "metadata": {},
   "source": [
    "The command ```python``` can be launched from the default shell using:"
   ]
  },
  {
   "cell_type": "raw",
   "metadata": {},
   "source": [
    "if os.name == 'nt':\n",
    "    !powershell python\n",
    "else:\n",
    "    !python"
   ]
  },
  {
   "cell_type": "markdown",
   "metadata": {},
   "source": [
    "When Python is ran from the Terminal using the Terminals default shell and no input arguments, a Python prompt will display. \n",
    "\n",
    "Note that this Python prompt does not show up in an interactive Python notebook... Therefore if the raw cell is run as Python code, the cell will hang as it is waiting for an input from the user, while the user cannot view the shell to supply the requested input."
   ]
  },
  {
   "cell_type": "markdown",
   "metadata": {},
   "source": [
    "The following Python script file can be created using an IPython cell magic: "
   ]
  },
  {
   "cell_type": "code",
   "execution_count": 4,
   "metadata": {},
   "outputs": [
    {
     "name": "stdout",
     "output_type": "stream",
     "text": [
      "Overwriting script1.py\n"
     ]
    }
   ],
   "source": [
    "%%writefile script1.py\n",
    "print('Hello World')"
   ]
  },
  {
   "cell_type": "markdown",
   "metadata": {},
   "source": [
    "And ```script1.py``` can be provided as a command line argument to the PowerShell or bash command ```python```. Providing a script file as the first (index 0) command line argument will execute the Python script file, closing Python after the code in the Python script file has been executed:"
   ]
  },
  {
   "cell_type": "code",
   "execution_count": 5,
   "metadata": {},
   "outputs": [
    {
     "name": "stdout",
     "output_type": "stream",
     "text": [
      "Hello World\n"
     ]
    }
   ],
   "source": [
    "if os.name == 'nt':\n",
    "    !powershell python script1.py\n",
    "else:\n",
    "    !python script1.py"
   ]
  },
  {
   "cell_type": "markdown",
   "metadata": {},
   "source": [
    "```sys.argv``` is a list of command line arguments sent to the Python interpretter. \n",
    "\n",
    "The script file can be modified to import the ```sys``` module and print out the results of ```sys.argv```:"
   ]
  },
  {
   "cell_type": "code",
   "execution_count": 6,
   "metadata": {},
   "outputs": [
    {
     "name": "stdout",
     "output_type": "stream",
     "text": [
      "Overwriting script2.py\n"
     ]
    }
   ],
   "source": [
    "%%writefile script2.py\n",
    "import sys\n",
    "print(f'type: {type(sys.argv)}')\n",
    "print(f'len: {len(sys.argv)}')\n",
    "print(sys.argv)"
   ]
  },
  {
   "cell_type": "markdown",
   "metadata": {},
   "source": [
    "Now if the script is run a list of strings is shown. Each string corresponds to the command line argument supplied when using the PowerShell command python:"
   ]
  },
  {
   "cell_type": "code",
   "execution_count": 17,
   "metadata": {},
   "outputs": [
    {
     "name": "stdout",
     "output_type": "stream",
     "text": [
      "type: <class 'list'>\n",
      "len: 1\n",
      "['script2.py']\n"
     ]
    }
   ],
   "source": [
    "if os.name == 'nt':\n",
    "    !powershell python script2.py\n",
    "else:\n",
    "    !python script2.py"
   ]
  },
  {
   "cell_type": "markdown",
   "metadata": {},
   "source": [
    "Notice what happens if other command line arguments are added:"
   ]
  },
  {
   "cell_type": "code",
   "execution_count": 18,
   "metadata": {},
   "outputs": [
    {
     "name": "stdout",
     "output_type": "stream",
     "text": [
      "type: <class 'list'>\n",
      "len: 4\n",
      "['script2.py', 'sometext', 'sometext2', 'sometext3']\n"
     ]
    }
   ],
   "source": [
    "if os.name == 'nt':\n",
    "    !powershell python script2.py sometext sometext2 sometext3\n",
    "else:\n",
    "    !python script2.py sometext sometext2 sometext3"
   ]
  },
  {
   "cell_type": "markdown",
   "metadata": {},
   "source": [
    "The strings within ```sys.argv``` can be processed in the Python Script File:"
   ]
  },
  {
   "cell_type": "code",
   "execution_count": 9,
   "metadata": {},
   "outputs": [
    {
     "name": "stdout",
     "output_type": "stream",
     "text": [
      "Overwriting script3.py\n"
     ]
    }
   ],
   "source": [
    "%%writefile script3.py\n",
    "import sys\n",
    "ncommands = len(sys.argv)\n",
    "\n",
    "print(f'Command 0 The Script File: {sys.argv[0]}')\n",
    "\n",
    "if ncommands >= 2:\n",
    "    print(f'Command 1: {sys.argv[1]}')\n",
    "    \n",
    "if ncommands >= 3:\n",
    "    print(f'Command 2: {sys.argv[2]}')"
   ]
  },
  {
   "cell_type": "markdown",
   "metadata": {},
   "source": [
    "The differing results can be seen when additional command arguments are added:"
   ]
  },
  {
   "cell_type": "code",
   "execution_count": 19,
   "metadata": {},
   "outputs": [
    {
     "name": "stdout",
     "output_type": "stream",
     "text": [
      "Command 0 The Script File: script3.py\n",
      "Command 1: sometext\n",
      "Command 2: sometext2\n"
     ]
    }
   ],
   "source": [
    "if os.name == 'nt':\n",
    "    !powershell python script3.py sometext sometext2 sometext3\n",
    "else:\n",
    "    !python script3.py sometext sometext2 sometext3"
   ]
  },
  {
   "cell_type": "code",
   "execution_count": 22,
   "metadata": {},
   "outputs": [
    {
     "name": "stdout",
     "output_type": "stream",
     "text": [
      "Command 0 The Script File: script3.py\n",
      "Command 1: hello\n"
     ]
    }
   ],
   "source": [
    "if os.name == 'nt':\n",
    "    !powershell python script3.py hello\n",
    "else:\n",
    "    !python script3.py hello"
   ]
  },
  {
   "cell_type": "code",
   "execution_count": 23,
   "metadata": {},
   "outputs": [
    {
     "name": "stdout",
     "output_type": "stream",
     "text": [
      "Command 0 The Script File: script3.py\n",
      "Command 1: hello\n",
      "Command 2: world\n"
     ]
    }
   ],
   "source": [
    "if os.name == 'nt':\n",
    "    !powershell python script3.py hello world\n",
    "else:\n",
    "    !python script3.py hello world"
   ]
  },
  {
   "cell_type": "markdown",
   "metadata": {},
   "source": [
    "Normally the supplementary command line arguments are used within a function. Recall these are Unicode strings and must be cast to the appropriate data type:"
   ]
  },
  {
   "cell_type": "code",
   "execution_count": 25,
   "metadata": {},
   "outputs": [
    {
     "name": "stdout",
     "output_type": "stream",
     "text": [
      "Overwriting addnums.py\n"
     ]
    }
   ],
   "source": [
    "%%writefile addnums.py\n",
    "import sys\n",
    "numbers = sys.argv\n",
    "if len(numbers) == 3:\n",
    "    try:\n",
    "        num1 = float(sys.argv[1])\n",
    "        num2 = float(sys.argv[2])\n",
    "        print(f'{num1} + {num2} = {num1 + num2}')\n",
    "    except ValueError:\n",
    "        print('Invalid command line arguments')\n",
    "else:\n",
    "    print('Wrong number of command line arguments')"
   ]
  },
  {
   "cell_type": "markdown",
   "metadata": {},
   "source": [
    "This can be tested using:"
   ]
  },
  {
   "cell_type": "code",
   "execution_count": 26,
   "metadata": {},
   "outputs": [
    {
     "name": "stdout",
     "output_type": "stream",
     "text": [
      "1.0 + 2.0 = 3.0\n"
     ]
    }
   ],
   "source": [
    "if os.name == 'nt':\n",
    "    !powershell python addnums.py 1 2\n",
    "else:\n",
    "    !python addnums.py 1 2"
   ]
  },
  {
   "cell_type": "code",
   "execution_count": 27,
   "metadata": {},
   "outputs": [
    {
     "name": "stdout",
     "output_type": "stream",
     "text": [
      "Wrong number of command line arguments\n"
     ]
    }
   ],
   "source": [
    "if os.name == 'nt':\n",
    "    !powershell python addnums.py\n",
    "else:\n",
    "    !python addnums.py"
   ]
  },
  {
   "cell_type": "code",
   "execution_count": 28,
   "metadata": {},
   "outputs": [
    {
     "name": "stdout",
     "output_type": "stream",
     "text": [
      "Invalid command line argument\n"
     ]
    }
   ],
   "source": [
    "if os.name == 'nt':\n",
    "    !powershell python addnums.py hello world\n",
    "else:\n",
    "    !python addnums.py hello world"
   ]
  },
  {
   "cell_type": "markdown",
   "metadata": {},
   "source": [
    "## Modules"
   ]
  },
  {
   "cell_type": "markdown",
   "metadata": {},
   "source": [
    "Another list is ```sys.modules``` which displays a dictionary of all the loaded modules. The key si the module name and the value is the module itself:"
   ]
  },
  {
   "cell_type": "code",
   "execution_count": 31,
   "metadata": {},
   "outputs": [
    {
     "name": "stdout",
     "output_type": "stream",
     "text": [
      "Overwriting script4.py\n"
     ]
    }
   ],
   "source": [
    "%%writefile script4.py\n",
    "import sys\n",
    "print(f'type: {type(sys.modules)}')\n",
    "print(f'len: {len(sys.modules)}')\n",
    "print(sys.modules)\n",
    "print(sys.modules.keys())"
   ]
  },
  {
   "cell_type": "markdown",
   "metadata": {},
   "source": []
  },
  {
   "cell_type": "code",
   "execution_count": 32,
   "metadata": {},
   "outputs": [
    {
     "name": "stdout",
     "output_type": "stream",
     "text": [
      "type: <class 'dict'>\n",
      "len: 55\n",
      "{'sys': <module 'sys' (built-in)>, 'builtins': <module 'builtins' (built-in)>, '_frozen_importlib': <module '_frozen_importlib' (frozen)>, '_imp': <module '_imp' (built-in)>, '_thread': <module '_thread' (built-in)>, '_warnings': <module '_warnings' (built-in)>, '_weakref': <module '_weakref' (built-in)>, 'winreg': <module 'winreg' (built-in)>, '_io': <module '_io' (built-in)>, 'marshal': <module 'marshal' (built-in)>, 'nt': <module 'nt' (built-in)>, '_frozen_importlib_external': <module '_frozen_importlib_external' (frozen)>, 'time': <module 'time' (built-in)>, 'zipimport': <module 'zipimport' (frozen)>, '_codecs': <module '_codecs' (built-in)>, 'codecs': <module 'codecs' (frozen)>, 'encodings.aliases': <module 'encodings.aliases' from 'c:\\\\Users\\\\pyip\\\\miniconda3\\\\envs\\\\jupyterlab\\\\Lib\\\\encodings\\\\aliases.py'>, 'encodings': <module 'encodings' from 'c:\\\\Users\\\\pyip\\\\miniconda3\\\\envs\\\\jupyterlab\\\\Lib\\\\encodings\\\\__init__.py'>, 'encodings.utf_8': <module 'encodings.utf_8' from 'c:\\\\Users\\\\pyip\\\\miniconda3\\\\envs\\\\jupyterlab\\\\Lib\\\\encodings\\\\utf_8.py'>, '_signal': <module '_signal' (built-in)>, '_abc': <module '_abc' (built-in)>, 'abc': <module 'abc' (frozen)>, 'io': <module 'io' (frozen)>, '__main__': <module '__main__' from 'C:\\\\Users\\\\pyip\\\\Documents\\\\GitHub\\\\python-notebooks\\\\sys_module\\\\script4.py'>, '_stat': <module '_stat' (built-in)>, 'stat': <module 'stat' (frozen)>, '_collections_abc': <module '_collections_abc' (frozen)>, 'genericpath': <module 'genericpath' (frozen)>, '_winapi': <module '_winapi' (built-in)>, 'ntpath': <module 'ntpath' (frozen)>, 'os.path': <module 'ntpath' (frozen)>, 'os': <module 'os' (frozen)>, '_sitebuiltins': <module '_sitebuiltins' (frozen)>, 'encodings.cp1252': <module 'encodings.cp1252' from 'c:\\\\Users\\\\pyip\\\\miniconda3\\\\envs\\\\jupyterlab\\\\Lib\\\\encodings\\\\cp1252.py'>, '_distutils_hack': <module '_distutils_hack' from 'c:\\\\Users\\\\pyip\\\\miniconda3\\\\envs\\\\jupyterlab\\\\Lib\\\\site-packages\\\\_distutils_hack\\\\__init__.py'>, 'types': <module 'types' from 'c:\\\\Users\\\\pyip\\\\miniconda3\\\\envs\\\\jupyterlab\\\\Lib\\\\types.py'>, 'importlib._bootstrap': <module '_frozen_importlib' (frozen)>, 'importlib._bootstrap_external': <module '_frozen_importlib_external' (frozen)>, 'warnings': <module 'warnings' from 'c:\\\\Users\\\\pyip\\\\miniconda3\\\\envs\\\\jupyterlab\\\\Lib\\\\warnings.py'>, 'importlib': <module 'importlib' from 'c:\\\\Users\\\\pyip\\\\miniconda3\\\\envs\\\\jupyterlab\\\\Lib\\\\importlib\\\\__init__.py'>, 'importlib._abc': <module 'importlib._abc' from 'c:\\\\Users\\\\pyip\\\\miniconda3\\\\envs\\\\jupyterlab\\\\Lib\\\\importlib\\\\_abc.py'>, 'itertools': <module 'itertools' (built-in)>, 'keyword': <module 'keyword' from 'c:\\\\Users\\\\pyip\\\\miniconda3\\\\envs\\\\jupyterlab\\\\Lib\\\\keyword.py'>, '_operator': <module '_operator' (built-in)>, 'operator': <module 'operator' from 'c:\\\\Users\\\\pyip\\\\miniconda3\\\\envs\\\\jupyterlab\\\\Lib\\\\operator.py'>, 'reprlib': <module 'reprlib' from 'c:\\\\Users\\\\pyip\\\\miniconda3\\\\envs\\\\jupyterlab\\\\Lib\\\\reprlib.py'>, '_collections': <module '_collections' (built-in)>, 'collections': <module 'collections' from 'c:\\\\Users\\\\pyip\\\\miniconda3\\\\envs\\\\jupyterlab\\\\Lib\\\\collections\\\\__init__.py'>, '_functools': <module '_functools' (built-in)>, 'functools': <module 'functools' from 'c:\\\\Users\\\\pyip\\\\miniconda3\\\\envs\\\\jupyterlab\\\\Lib\\\\functools.py'>, 'contextlib': <module 'contextlib' from 'c:\\\\Users\\\\pyip\\\\miniconda3\\\\envs\\\\jupyterlab\\\\Lib\\\\contextlib.py'>, 'importlib.util': <module 'importlib.util' (frozen)>, 'importlib.machinery': <module 'importlib.machinery' (frozen)>, 'mpl_toolkits': <module 'mpl_toolkits' (<_frozen_importlib_external.NamespaceLoader object at 0x000001A148394610>)>, 'site': <module 'site' (frozen)>}\n",
      "dict_keys(['sys', 'builtins', '_frozen_importlib', '_imp', '_thread', '_warnings', '_weakref', 'winreg', '_io', 'marshal', 'nt', '_frozen_importlib_external', 'time', 'zipimport', '_codecs', 'codecs', 'encodings.aliases', 'encodings', 'encodings.utf_8', '_signal', '_abc', 'abc', 'io', '__main__', '_stat', 'stat', '_collections_abc', 'genericpath', '_winapi', 'ntpath', 'os.path', 'os', '_sitebuiltins', 'encodings.cp1252', '_distutils_hack', 'types', 'importlib._bootstrap', 'importlib._bootstrap_external', 'warnings', 'importlib', 'importlib._abc', 'itertools', 'keyword', '_operator', 'operator', 'reprlib', '_collections', 'collections', '_functools', 'functools', 'contextlib', 'importlib.util', 'importlib.machinery', 'mpl_toolkits', 'site'])\n"
     ]
    }
   ],
   "source": [
    "if os.name == 'nt':\n",
    "    !powershell python script4.py\n",
    "else:\n",
    "    !python script4.py"
   ]
  },
  {
   "cell_type": "markdown",
   "metadata": {},
   "source": [
    "Most of these are builtin modules. ```sys.builtin_module_names``` is an immutable tuple (static variable) that contains these modules:"
   ]
  },
  {
   "cell_type": "code",
   "execution_count": 33,
   "metadata": {},
   "outputs": [
    {
     "data": {
      "text/plain": [
       "('_abc',\n",
       " '_ast',\n",
       " '_bisect',\n",
       " '_blake2',\n",
       " '_codecs',\n",
       " '_codecs_cn',\n",
       " '_codecs_hk',\n",
       " '_codecs_iso2022',\n",
       " '_codecs_jp',\n",
       " '_codecs_kr',\n",
       " '_codecs_tw',\n",
       " '_collections',\n",
       " '_contextvars',\n",
       " '_csv',\n",
       " '_datetime',\n",
       " '_functools',\n",
       " '_heapq',\n",
       " '_imp',\n",
       " '_io',\n",
       " '_json',\n",
       " '_locale',\n",
       " '_lsprof',\n",
       " '_md5',\n",
       " '_multibytecodec',\n",
       " '_opcode',\n",
       " '_operator',\n",
       " '_pickle',\n",
       " '_random',\n",
       " '_sha1',\n",
       " '_sha256',\n",
       " '_sha3',\n",
       " '_sha512',\n",
       " '_signal',\n",
       " '_sre',\n",
       " '_stat',\n",
       " '_statistics',\n",
       " '_string',\n",
       " '_struct',\n",
       " '_symtable',\n",
       " '_thread',\n",
       " '_tokenize',\n",
       " '_tracemalloc',\n",
       " '_typing',\n",
       " '_warnings',\n",
       " '_weakref',\n",
       " '_winapi',\n",
       " '_xxsubinterpreters',\n",
       " 'array',\n",
       " 'atexit',\n",
       " 'audioop',\n",
       " 'binascii',\n",
       " 'builtins',\n",
       " 'cmath',\n",
       " 'errno',\n",
       " 'faulthandler',\n",
       " 'gc',\n",
       " 'itertools',\n",
       " 'marshal',\n",
       " 'math',\n",
       " 'mmap',\n",
       " 'msvcrt',\n",
       " 'nt',\n",
       " 'sys',\n",
       " 'time',\n",
       " 'winreg',\n",
       " 'xxsubtype',\n",
       " 'zlib')"
      ]
     },
     "execution_count": 33,
     "metadata": {},
     "output_type": "execute_result"
    }
   ],
   "source": [
    "sys.builtin_module_names"
   ]
  },
  {
   "cell_type": "markdown",
   "metadata": {},
   "source": []
  },
  {
   "cell_type": "markdown",
   "metadata": {},
   "source": [
    "Ther"
   ]
  },
  {
   "cell_type": "code",
   "execution_count": 38,
   "metadata": {},
   "outputs": [
    {
     "name": "stdout",
     "output_type": "stream",
     "text": [
      "Overwriting script5.py\n"
     ]
    }
   ],
   "source": [
    "%%writefile script5.py\n",
    "import sys\n",
    "other_keys = []\n",
    "for key in sys.modules:\n",
    "    if key not in sys.builtin_module_names and not key.startswith('_'):\n",
    "        other_keys.append(key)\n",
    "\n",
    "print(f'len: {len(other_keys)}')\n",
    "print(other_keys)"
   ]
  },
  {
   "cell_type": "code",
   "execution_count": 39,
   "metadata": {},
   "outputs": [
    {
     "name": "stdout",
     "output_type": "stream",
     "text": [
      "len: 29\n",
      "['zipimport', 'codecs', 'encodings.aliases', 'encodings', 'encodings.utf_8', 'abc', 'io', 'stat', 'genericpath', 'ntpath', 'os.path', 'os', 'encodings.cp1252', 'types', 'importlib._bootstrap', 'importlib._bootstrap_external', 'warnings', 'importlib', 'importlib._abc', 'keyword', 'operator', 'reprlib', 'collections', 'functools', 'contextlib', 'importlib.util', 'importlib.machinery', 'mpl_toolkits', 'site']\n"
     ]
    }
   ],
   "source": [
    "if os.name == 'nt':\n",
    "    !powershell python script5.py\n",
    "else:\n",
    "    !python script5.py"
   ]
  }
 ],
 "metadata": {
  "kernelspec": {
   "display_name": "Python 3",
   "language": "python",
   "name": "python3"
  },
  "language_info": {
   "codemirror_mode": {
    "name": "ipython",
    "version": 3
   },
   "file_extension": ".py",
   "mimetype": "text/x-python",
   "name": "python",
   "nbconvert_exporter": "python",
   "pygments_lexer": "ipython3",
   "version": "3.11.5"
  }
 },
 "nbformat": 4,
 "nbformat_minor": 2
}
