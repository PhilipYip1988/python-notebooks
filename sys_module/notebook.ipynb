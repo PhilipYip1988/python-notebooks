{
 "cells": [
  {
   "cell_type": "markdown",
   "metadata": {},
   "source": [
    "# The sys module"
   ]
  },
  {
   "cell_type": "markdown",
   "metadata": {},
   "source": [
    "The system module sys gives details about objects used or maintained by the Python interpreter. It can be imported using:"
   ]
  },
  {
   "cell_type": "code",
   "execution_count": 1,
   "metadata": {},
   "outputs": [],
   "source": [
    "import sys"
   ]
  },
  {
   "cell_type": "markdown",
   "metadata": {},
   "source": [
    "And a summary of the module can be seen by using ```?```"
   ]
  },
  {
   "cell_type": "code",
   "execution_count": 2,
   "metadata": {},
   "outputs": [
    {
     "name": "stdout",
     "output_type": "stream",
     "text": [
      "\u001b[1;31mType:\u001b[0m        module\n",
      "\u001b[1;31mString form:\u001b[0m <module 'sys' (built-in)>\n",
      "\u001b[1;31mDocstring:\u001b[0m  \n",
      "This module provides access to some objects used or maintained by the\n",
      "interpreter and to functions that interact strongly with the interpreter.\n",
      "\n",
      "Dynamic objects:\n",
      "\n",
      "argv -- command line arguments; argv[0] is the script pathname if known\n",
      "path -- module search path; path[0] is the script directory, else ''\n",
      "modules -- dictionary of loaded modules\n",
      "\n",
      "displayhook -- called to show results in an interactive session\n",
      "excepthook -- called to handle any uncaught exception other than SystemExit\n",
      "  To customize printing in an interactive session or to install a custom\n",
      "  top-level exception handler, assign other functions to replace these.\n",
      "\n",
      "stdin -- standard input file object; used by input()\n",
      "stdout -- standard output file object; used by print()\n",
      "stderr -- standard error object; used for error messages\n",
      "  By assigning other file objects (or objects that behave like files)\n",
      "  to these, it is possible to redirect all of the interpreter's I/O.\n",
      "\n",
      "last_type -- type of last uncaught exception\n",
      "last_value -- value of last uncaught exception\n",
      "last_traceback -- traceback of last uncaught exception\n",
      "  These three are only available in an interactive session after a\n",
      "  traceback has been printed.\n",
      "\n",
      "Static objects:\n",
      "\n",
      "builtin_module_names -- tuple of module names built into this interpreter\n",
      "copyright -- copyright notice pertaining to this interpreter\n",
      "exec_prefix -- prefix used to find the machine-specific Python library\n",
      "executable -- absolute path of the executable binary of the Python interpreter\n",
      "float_info -- a named tuple with information about the float implementation.\n",
      "float_repr_style -- string indicating the style of repr() output for floats\n",
      "hash_info -- a named tuple with information about the hash algorithm.\n",
      "hexversion -- version information encoded as a single integer\n",
      "implementation -- Python implementation information.\n",
      "int_info -- a named tuple with information about the int implementation.\n",
      "maxsize -- the largest supported length of containers.\n",
      "maxunicode -- the value of the largest Unicode code point\n",
      "platform -- platform identifier\n",
      "prefix -- prefix used to find the Python library\n",
      "thread_info -- a named tuple with information about the thread implementation.\n",
      "version -- the version of this interpreter as a string\n",
      "version_info -- version information as a named tuple\n",
      "dllhandle -- [Windows only] integer handle of the Python DLL\n",
      "winver -- [Windows only] version number of the Python DLL\n",
      "_enablelegacywindowsfsencoding -- [Windows only]\n",
      "__stdin__ -- the original stdin; don't touch!\n",
      "__stdout__ -- the original stdout; don't touch!\n",
      "__stderr__ -- the original stderr; don't touch!\n",
      "__displayhook__ -- the original displayhook; don't touch!\n",
      "__excepthook__ -- the original excepthook; don't touch!\n",
      "\n",
      "Functions:\n",
      "\n",
      "displayhook() -- print an object to the screen, and save it in builtins._\n",
      "excepthook() -- print an exception and its traceback to sys.stderr\n",
      "exception() -- return the current thread's active exception\n",
      "exc_info() -- return information about the current thread's active exception\n",
      "exit() -- exit the interpreter by raising SystemExit\n",
      "getdlopenflags() -- returns flags to be used for dlopen() calls\n",
      "getprofile() -- get the global profiling function\n",
      "getrefcount() -- return the reference count for an object (plus one :-)\n",
      "getrecursionlimit() -- return the max recursion depth for the interpreter\n",
      "getsizeof() -- return the size of an object in bytes\n",
      "gettrace() -- get the global debug tracing function\n",
      "setdlopenflags() -- set the flags to be used for dlopen() calls\n",
      "setprofile() -- set the global profiling function\n",
      "setrecursionlimit() -- set the max recursion depth for the interpreter\n",
      "settrace() -- set the global debug tracing function"
     ]
    }
   ],
   "source": [
    "sys?"
   ]
  },
  {
   "cell_type": "markdown",
   "metadata": {},
   "source": [
    "The module has dynamic objects and static objects: \n",
    "\n",
    "* The mutatable objects are typically lists or dictionaries which mutate as changes in the Python interpretter are made when command line arguments are added to a Python call or a module is imported.\n",
    "\n",
    "* The static objects are generally immutatable objects such as a tuple or Unicode string corresponding to a property of the Python interpretter which will not change.\n",
    "\n",
    "A small number of functions are available which control the behaviour of the Python interpretter.\n"
   ]
  },
  {
   "cell_type": "markdown",
   "metadata": {},
   "source": [
    "## argv"
   ]
  },
  {
   "cell_type": "markdown",
   "metadata": {},
   "source": [
    "The default shell in Windows is PowerShell and in Linux/Mac is bash. These scripting languages use the following syntax:"
   ]
  },
  {
   "cell_type": "raw",
   "metadata": {},
   "source": [
    "command"
   ]
  },
  {
   "cell_type": "raw",
   "metadata": {},
   "source": [
    "command command_arg0"
   ]
  },
  {
   "cell_type": "raw",
   "metadata": {},
   "source": [
    "command command_arg0 command_arg1"
   ]
  },
  {
   "cell_type": "markdown",
   "metadata": {},
   "source": [
    "Whereas Python uses the following syntax:"
   ]
  },
  {
   "cell_type": "raw",
   "metadata": {},
   "source": [
    "function()"
   ]
  },
  {
   "cell_type": "raw",
   "metadata": {},
   "source": [
    "function(input_arg0)"
   ]
  },
  {
   "cell_type": "raw",
   "metadata": {},
   "source": [
    "function(input_arg0, input_arg1)"
   ]
  },
  {
   "cell_type": "markdown",
   "metadata": {},
   "source": [
    "There are slight different shells used for each Operating System. So te ```os``` module will be imported, so that if, else code blocks can be setup in accordance to the Operating System:"
   ]
  },
  {
   "cell_type": "code",
   "execution_count": 3,
   "metadata": {},
   "outputs": [],
   "source": [
    "import os"
   ]
  },
  {
   "cell_type": "markdown",
   "metadata": {},
   "source": [
    "The command ```python``` can be launched from the default shell using:"
   ]
  },
  {
   "cell_type": "raw",
   "metadata": {},
   "source": [
    "if os.name == 'nt':\n",
    "    !powershell python\n",
    "else:\n",
    "    !python"
   ]
  },
  {
   "cell_type": "markdown",
   "metadata": {},
   "source": [
    "When Python is ran from the Terminal using the Terminals default shell and no input arguments, a Python prompt will display. \n",
    "\n",
    "Note that this Python prompt does not show up in an interactive Python notebook... Therefore if the raw cell is run as Python code, the cell will hang as it is waiting for an input from the user, while the user cannot view the shell to supply the requested input."
   ]
  },
  {
   "cell_type": "markdown",
   "metadata": {},
   "source": [
    "The following Python script file can be created using an IPython cell magic: "
   ]
  },
  {
   "cell_type": "code",
   "execution_count": 4,
   "metadata": {},
   "outputs": [
    {
     "name": "stdout",
     "output_type": "stream",
     "text": [
      "Overwriting script1.py\n"
     ]
    }
   ],
   "source": [
    "%%writefile script1.py\n",
    "print('Hello World')"
   ]
  },
  {
   "cell_type": "markdown",
   "metadata": {},
   "source": [
    "And ```script1.py``` can be provided as a command line argument to the PowerShell or bash command ```python```. Providing a script file as the first (index 0) command line argument will execute the Python script file, closing Python after the code in the Python script file has been executed:"
   ]
  },
  {
   "cell_type": "code",
   "execution_count": 5,
   "metadata": {},
   "outputs": [
    {
     "name": "stdout",
     "output_type": "stream",
     "text": [
      "Hello World\n"
     ]
    }
   ],
   "source": [
    "if os.name == 'nt':\n",
    "    !powershell python script1.py\n",
    "else:\n",
    "    !python script1.py"
   ]
  },
  {
   "cell_type": "markdown",
   "metadata": {},
   "source": [
    "```sys.argv``` is a list of command line arguments sent to the Python interpretter. \n",
    "\n",
    "The script file can be modified to import the ```sys``` module and print out the results of ```sys.argv```:"
   ]
  },
  {
   "cell_type": "code",
   "execution_count": 6,
   "metadata": {},
   "outputs": [
    {
     "name": "stdout",
     "output_type": "stream",
     "text": [
      "Overwriting script2.py\n"
     ]
    }
   ],
   "source": [
    "%%writefile script2.py\n",
    "import sys\n",
    "print(f'type: {type(sys.argv)}')\n",
    "print(f'len: {len(sys.argv)}')\n",
    "print(sys.argv)"
   ]
  },
  {
   "cell_type": "markdown",
   "metadata": {},
   "source": [
    "Now if the script is run a list of strings is shown. Each string corresponds to the command line argument supplied when using the PowerShell command python:"
   ]
  },
  {
   "cell_type": "code",
   "execution_count": 7,
   "metadata": {},
   "outputs": [
    {
     "name": "stdout",
     "output_type": "stream",
     "text": [
      "type: <class 'list'>\n",
      "len: 1\n",
      "['script2.py']\n"
     ]
    }
   ],
   "source": [
    "if os.name == 'nt':\n",
    "    !powershell python script2.py\n",
    "else:\n",
    "    !python script2.py"
   ]
  },
  {
   "cell_type": "markdown",
   "metadata": {},
   "source": [
    "Notice what happens if other command line arguments are added:"
   ]
  },
  {
   "cell_type": "code",
   "execution_count": 8,
   "metadata": {},
   "outputs": [
    {
     "name": "stdout",
     "output_type": "stream",
     "text": [
      "type: <class 'list'>\n",
      "len: 4\n",
      "['script2.py', 'sometext', 'sometext2', 'sometext3']\n"
     ]
    }
   ],
   "source": [
    "if os.name == 'nt':\n",
    "    !powershell python script2.py sometext sometext2 sometext3\n",
    "else:\n",
    "    !python script2.py sometext sometext2 sometext3"
   ]
  },
  {
   "cell_type": "markdown",
   "metadata": {},
   "source": [
    "The strings within ```sys.argv``` can be processed in the Python Script File:"
   ]
  },
  {
   "cell_type": "code",
   "execution_count": 9,
   "metadata": {},
   "outputs": [
    {
     "name": "stdout",
     "output_type": "stream",
     "text": [
      "Overwriting script3.py\n"
     ]
    }
   ],
   "source": [
    "%%writefile script3.py\n",
    "import sys\n",
    "ncommands = len(sys.argv)\n",
    "\n",
    "print(f'Command 0 The Script File: {sys.argv[0]}')\n",
    "\n",
    "if ncommands >= 2:\n",
    "    print(f'Command 1: {sys.argv[1]}')\n",
    "    \n",
    "if ncommands >= 3:\n",
    "    print(f'Command 2: {sys.argv[2]}')"
   ]
  },
  {
   "cell_type": "markdown",
   "metadata": {},
   "source": [
    "The differing results can be seen when additional command arguments are added:"
   ]
  },
  {
   "cell_type": "code",
   "execution_count": 10,
   "metadata": {},
   "outputs": [
    {
     "name": "stdout",
     "output_type": "stream",
     "text": [
      "Command 0 The Script File: script3.py\n",
      "Command 1: sometext\n",
      "Command 2: sometext2\n"
     ]
    }
   ],
   "source": [
    "if os.name == 'nt':\n",
    "    !powershell python script3.py sometext sometext2 sometext3\n",
    "else:\n",
    "    !python script3.py sometext sometext2 sometext3"
   ]
  },
  {
   "cell_type": "code",
   "execution_count": 11,
   "metadata": {},
   "outputs": [
    {
     "name": "stdout",
     "output_type": "stream",
     "text": [
      "Command 0 The Script File: script3.py\n",
      "Command 1: hello\n"
     ]
    }
   ],
   "source": [
    "if os.name == 'nt':\n",
    "    !powershell python script3.py hello\n",
    "else:\n",
    "    !python script3.py hello"
   ]
  },
  {
   "cell_type": "code",
   "execution_count": 12,
   "metadata": {},
   "outputs": [
    {
     "name": "stdout",
     "output_type": "stream",
     "text": [
      "Command 0 The Script File: script3.py\n",
      "Command 1: hello\n",
      "Command 2: world\n"
     ]
    }
   ],
   "source": [
    "if os.name == 'nt':\n",
    "    !powershell python script3.py hello world\n",
    "else:\n",
    "    !python script3.py hello world"
   ]
  },
  {
   "cell_type": "markdown",
   "metadata": {},
   "source": [
    "Normally the supplementary command line arguments are used within a function. Recall these are Unicode strings and must be cast to the appropriate data type:"
   ]
  },
  {
   "cell_type": "code",
   "execution_count": 13,
   "metadata": {},
   "outputs": [
    {
     "name": "stdout",
     "output_type": "stream",
     "text": [
      "Overwriting addnums.py\n"
     ]
    }
   ],
   "source": [
    "%%writefile addnums.py\n",
    "import sys\n",
    "numbers = sys.argv\n",
    "if len(numbers) == 3:\n",
    "    try:\n",
    "        num1 = float(sys.argv[1])\n",
    "        num2 = float(sys.argv[2])\n",
    "        print(f'{num1} + {num2} = {num1 + num2}')\n",
    "    except ValueError:\n",
    "        print('Invalid command line arguments')\n",
    "else:\n",
    "    print('Wrong number of command line arguments')"
   ]
  },
  {
   "cell_type": "markdown",
   "metadata": {},
   "source": [
    "This can be tested using:"
   ]
  },
  {
   "cell_type": "code",
   "execution_count": 14,
   "metadata": {},
   "outputs": [
    {
     "name": "stdout",
     "output_type": "stream",
     "text": [
      "1.0 + 2.0 = 3.0\n"
     ]
    }
   ],
   "source": [
    "if os.name == 'nt':\n",
    "    !powershell python addnums.py 1 2\n",
    "else:\n",
    "    !python addnums.py 1 2"
   ]
  },
  {
   "cell_type": "code",
   "execution_count": 15,
   "metadata": {},
   "outputs": [
    {
     "name": "stdout",
     "output_type": "stream",
     "text": [
      "Wrong number of command line arguments\n"
     ]
    }
   ],
   "source": [
    "if os.name == 'nt':\n",
    "    !powershell python addnums.py\n",
    "else:\n",
    "    !python addnums.py"
   ]
  },
  {
   "cell_type": "code",
   "execution_count": 16,
   "metadata": {},
   "outputs": [
    {
     "name": "stdout",
     "output_type": "stream",
     "text": [
      "Invalid command line arguments\n"
     ]
    }
   ],
   "source": [
    "if os.name == 'nt':\n",
    "    !powershell python addnums.py hello world\n",
    "else:\n",
    "    !python addnums.py hello world"
   ]
  },
  {
   "cell_type": "markdown",
   "metadata": {},
   "source": [
    "## Modules"
   ]
  },
  {
   "cell_type": "markdown",
   "metadata": {},
   "source": [
    "Another list is ```sys.modules``` which displays a dictionary of all the loaded modules. The key is the module name and the value is the module itself:"
   ]
  },
  {
   "cell_type": "code",
   "execution_count": 17,
   "metadata": {},
   "outputs": [
    {
     "name": "stdout",
     "output_type": "stream",
     "text": [
      "Overwriting script4.py\n"
     ]
    }
   ],
   "source": [
    "%%writefile script4.py\n",
    "import sys\n",
    "print(f'type: {type(sys.modules)}')\n",
    "print(f'len: {len(sys.modules)}')\n",
    "print(sys.modules)\n",
    "print(sys.modules.keys())"
   ]
  },
  {
   "cell_type": "markdown",
   "metadata": {},
   "source": [
    "The only module imported in the script was ```sys```. The other modules are loaded in the background, by the Python interpretter itself, some as internal attrributes:"
   ]
  },
  {
   "cell_type": "code",
   "execution_count": 18,
   "metadata": {},
   "outputs": [
    {
     "name": "stdout",
     "output_type": "stream",
     "text": [
      "type: <class 'dict'>\n",
      "len: 58\n",
      "{'sys': <module 'sys' (built-in)>, 'builtins': <module 'builtins' (built-in)>, '_frozen_importlib': <module '_frozen_importlib' (frozen)>, '_imp': <module '_imp' (built-in)>, '_thread': <module '_thread' (built-in)>, '_warnings': <module '_warnings' (built-in)>, '_weakref': <module '_weakref' (built-in)>, 'winreg': <module 'winreg' (built-in)>, '_io': <module '_io' (built-in)>, 'marshal': <module 'marshal' (built-in)>, 'nt': <module 'nt' (built-in)>, '_frozen_importlib_external': <module '_frozen_importlib_external' (frozen)>, 'time': <module 'time' (built-in)>, 'zipimport': <module 'zipimport' (frozen)>, '_codecs': <module '_codecs' (built-in)>, 'codecs': <module 'codecs' (frozen)>, 'encodings.aliases': <module 'encodings.aliases' from 'C:\\\\Users\\\\Philip\\\\Anaconda3\\\\Lib\\\\encodings\\\\aliases.py'>, 'encodings': <module 'encodings' from 'C:\\\\Users\\\\Philip\\\\Anaconda3\\\\Lib\\\\encodings\\\\__init__.py'>, 'encodings.utf_8': <module 'encodings.utf_8' from 'C:\\\\Users\\\\Philip\\\\Anaconda3\\\\Lib\\\\encodings\\\\utf_8.py'>, '_signal': <module '_signal' (built-in)>, '_abc': <module '_abc' (built-in)>, 'abc': <module 'abc' (frozen)>, 'io': <module 'io' (frozen)>, '__main__': <module '__main__' from 'C:\\\\Users\\\\Philip\\\\Documents\\\\GitHub\\\\python-notebooks\\\\sys_module\\\\script4.py'>, '_stat': <module '_stat' (built-in)>, 'stat': <module 'stat' (frozen)>, '_collections_abc': <module '_collections_abc' (frozen)>, 'genericpath': <module 'genericpath' (frozen)>, '_winapi': <module '_winapi' (built-in)>, 'ntpath': <module 'ntpath' (frozen)>, 'os.path': <module 'ntpath' (frozen)>, 'os': <module 'os' (frozen)>, '_sitebuiltins': <module '_sitebuiltins' (frozen)>, 'encodings.cp1252': <module 'encodings.cp1252' from 'C:\\\\Users\\\\Philip\\\\Anaconda3\\\\Lib\\\\encodings\\\\cp1252.py'>, '_distutils_hack': <module '_distutils_hack' from 'C:\\\\Users\\\\Philip\\\\Anaconda3\\\\Lib\\\\site-packages\\\\_distutils_hack\\\\__init__.py'>, 'types': <module 'types' from 'C:\\\\Users\\\\Philip\\\\Anaconda3\\\\Lib\\\\types.py'>, 'importlib._bootstrap': <module '_frozen_importlib' (frozen)>, 'importlib._bootstrap_external': <module '_frozen_importlib_external' (frozen)>, 'warnings': <module 'warnings' from 'C:\\\\Users\\\\Philip\\\\Anaconda3\\\\Lib\\\\warnings.py'>, 'importlib': <module 'importlib' from 'C:\\\\Users\\\\Philip\\\\Anaconda3\\\\Lib\\\\importlib\\\\__init__.py'>, 'importlib._abc': <module 'importlib._abc' from 'C:\\\\Users\\\\Philip\\\\Anaconda3\\\\Lib\\\\importlib\\\\_abc.py'>, 'itertools': <module 'itertools' (built-in)>, 'keyword': <module 'keyword' from 'C:\\\\Users\\\\Philip\\\\Anaconda3\\\\Lib\\\\keyword.py'>, '_operator': <module '_operator' (built-in)>, 'operator': <module 'operator' from 'C:\\\\Users\\\\Philip\\\\Anaconda3\\\\Lib\\\\operator.py'>, 'reprlib': <module 'reprlib' from 'C:\\\\Users\\\\Philip\\\\Anaconda3\\\\Lib\\\\reprlib.py'>, '_collections': <module '_collections' (built-in)>, 'collections': <module 'collections' from 'C:\\\\Users\\\\Philip\\\\Anaconda3\\\\Lib\\\\collections\\\\__init__.py'>, '_functools': <module '_functools' (built-in)>, 'functools': <module 'functools' from 'C:\\\\Users\\\\Philip\\\\Anaconda3\\\\Lib\\\\functools.py'>, 'contextlib': <module 'contextlib' from 'C:\\\\Users\\\\Philip\\\\Anaconda3\\\\Lib\\\\contextlib.py'>, 'importlib.util': <module 'importlib.util' (frozen)>, 'importlib.machinery': <module 'importlib.machinery' (frozen)>, 'mpl_toolkits': <module 'mpl_toolkits' (<_frozen_importlib_external.NamespaceLoader object at 0x000002A2A0166C50>)>, 'ruamel': <module 'ruamel' (<_frozen_importlib_external.NamespaceLoader object at 0x000002A2A01D3250>)>, 'sphinxcontrib': <module 'sphinxcontrib' (<_frozen_importlib_external.NamespaceLoader object at 0x000002A2A01D3490>)>, 'zope': <module 'zope' from 'C:\\\\Users\\\\Philip\\\\Anaconda3\\\\Lib\\\\site-packages\\\\zope\\\\__init__.py'>, 'site': <module 'site' (frozen)>}\n",
      "dict_keys(['sys', 'builtins', '_frozen_importlib', '_imp', '_thread', '_warnings', '_weakref', 'winreg', '_io', 'marshal', 'nt', '_frozen_importlib_external', 'time', 'zipimport', '_codecs', 'codecs', 'encodings.aliases', 'encodings', 'encodings.utf_8', '_signal', '_abc', 'abc', 'io', '__main__', '_stat', 'stat', '_collections_abc', 'genericpath', '_winapi', 'ntpath', 'os.path', 'os', '_sitebuiltins', 'encodings.cp1252', '_distutils_hack', 'types', 'importlib._bootstrap', 'importlib._bootstrap_external', 'warnings', 'importlib', 'importlib._abc', 'itertools', 'keyword', '_operator', 'operator', 'reprlib', '_collections', 'collections', '_functools', 'functools', 'contextlib', 'importlib.util', 'importlib.machinery', 'mpl_toolkits', 'ruamel', 'sphinxcontrib', 'zope', 'site'])\n"
     ]
    }
   ],
   "source": [
    "if os.name == 'nt':\n",
    "    !powershell python script4.py\n",
    "else:\n",
    "    !python script4.py"
   ]
  },
  {
   "cell_type": "markdown",
   "metadata": {},
   "source": []
  },
  {
   "cell_type": "code",
   "execution_count": 27,
   "metadata": {},
   "outputs": [
    {
     "name": "stdout",
     "output_type": "stream",
     "text": [
      "Overwriting script5.py\n"
     ]
    }
   ],
   "source": [
    "%%writefile script5.py\n",
    "import sys\n",
    "\n",
    "import numpy as np\n",
    "\n",
    "print(f'type: {type(sys.modules)}')\n",
    "print(f'len: {len(sys.modules)}')\n",
    "print(sys.modules)\n",
    "print(sys.modules.keys())"
   ]
  },
  {
   "cell_type": "code",
   "execution_count": 28,
   "metadata": {},
   "outputs": [
    {
     "name": "stdout",
     "output_type": "stream",
     "text": [
      "type: <class 'dict'>\n",
      "len: 218\n",
      "{'sys': <module 'sys' (built-in)>, 'builtins': <module 'builtins' (built-in)>, '_frozen_importlib': <module '_frozen_importlib' (frozen)>, '_imp': <module '_imp' (built-in)>, '_thread': <module '_thread' (built-in)>, '_warnings': <module '_warnings' (built-in)>, '_weakref': <module '_weakref' (built-in)>, 'winreg': <module 'winreg' (built-in)>, '_io': <module '_io' (built-in)>, 'marshal': <module 'marshal' (built-in)>, 'nt': <module 'nt' (built-in)>, '_frozen_importlib_external': <module '_frozen_importlib_external' (frozen)>, 'time': <module 'time' (built-in)>, 'zipimport': <module 'zipimport' (frozen)>, '_codecs': <module '_codecs' (built-in)>, 'codecs': <module 'codecs' (frozen)>, 'encodings.aliases': <module 'encodings.aliases' from 'C:\\\\Users\\\\Philip\\\\Anaconda3\\\\Lib\\\\encodings\\\\aliases.py'>, 'encodings': <module 'encodings' from 'C:\\\\Users\\\\Philip\\\\Anaconda3\\\\Lib\\\\encodings\\\\__init__.py'>, 'encodings.utf_8': <module 'encodings.utf_8' from 'C:\\\\Users\\\\Philip\\\\Anaconda3\\\\Lib\\\\encodings\\\\utf_8.py'>, '_signal': <module '_signal' (built-in)>, '_abc': <module '_abc' (built-in)>, 'abc': <module 'abc' (frozen)>, 'io': <module 'io' (frozen)>, '__main__': <module '__main__' from 'C:\\\\Users\\\\Philip\\\\Documents\\\\GitHub\\\\python-notebooks\\\\sys_module\\\\script5.py'>, '_stat': <module '_stat' (built-in)>, 'stat': <module 'stat' (frozen)>, '_collections_abc': <module '_collections_abc' (frozen)>, 'genericpath': <module 'genericpath' (frozen)>, '_winapi': <module '_winapi' (built-in)>, 'ntpath': <module 'ntpath' (frozen)>, 'os.path': <module 'ntpath' (frozen)>, 'os': <module 'os' (frozen)>, '_sitebuiltins': <module '_sitebuiltins' (frozen)>, 'encodings.cp1252': <module 'encodings.cp1252' from 'C:\\\\Users\\\\Philip\\\\Anaconda3\\\\Lib\\\\encodings\\\\cp1252.py'>, '_distutils_hack': <module '_distutils_hack' from 'C:\\\\Users\\\\Philip\\\\Anaconda3\\\\Lib\\\\site-packages\\\\_distutils_hack\\\\__init__.py'>, 'types': <module 'types' from 'C:\\\\Users\\\\Philip\\\\Anaconda3\\\\Lib\\\\types.py'>, 'importlib._bootstrap': <module '_frozen_importlib' (frozen)>, 'importlib._bootstrap_external': <module '_frozen_importlib_external' (frozen)>, 'warnings': <module 'warnings' from 'C:\\\\Users\\\\Philip\\\\Anaconda3\\\\Lib\\\\warnings.py'>, 'importlib': <module 'importlib' from 'C:\\\\Users\\\\Philip\\\\Anaconda3\\\\Lib\\\\importlib\\\\__init__.py'>, 'importlib._abc': <module 'importlib._abc' from 'C:\\\\Users\\\\Philip\\\\Anaconda3\\\\Lib\\\\importlib\\\\_abc.py'>, 'itertools': <module 'itertools' (built-in)>, 'keyword': <module 'keyword' from 'C:\\\\Users\\\\Philip\\\\Anaconda3\\\\Lib\\\\keyword.py'>, '_operator': <module '_operator' (built-in)>, 'operator': <module 'operator' from 'C:\\\\Users\\\\Philip\\\\Anaconda3\\\\Lib\\\\operator.py'>, 'reprlib': <module 'reprlib' from 'C:\\\\Users\\\\Philip\\\\Anaconda3\\\\Lib\\\\reprlib.py'>, '_collections': <module '_collections' (built-in)>, 'collections': <module 'collections' from 'C:\\\\Users\\\\Philip\\\\Anaconda3\\\\Lib\\\\collections\\\\__init__.py'>, '_functools': <module '_functools' (built-in)>, 'functools': <module 'functools' from 'C:\\\\Users\\\\Philip\\\\Anaconda3\\\\Lib\\\\functools.py'>, 'contextlib': <module 'contextlib' from 'C:\\\\Users\\\\Philip\\\\Anaconda3\\\\Lib\\\\contextlib.py'>, 'importlib.util': <module 'importlib.util' (frozen)>, 'importlib.machinery': <module 'importlib.machinery' (frozen)>, 'mpl_toolkits': <module 'mpl_toolkits' (<_frozen_importlib_external.NamespaceLoader object at 0x000001E08DD36C50>)>, 'ruamel': <module 'ruamel' (<_frozen_importlib_external.NamespaceLoader object at 0x000001E08DDA3250>)>, 'sphinxcontrib': <module 'sphinxcontrib' (<_frozen_importlib_external.NamespaceLoader object at 0x000001E08DDA3490>)>, 'zope': <module 'zope' from 'C:\\\\Users\\\\Philip\\\\Anaconda3\\\\Lib\\\\site-packages\\\\zope\\\\__init__.py'>, 'site': <module 'site' (frozen)>, 'enum': <module 'enum' from 'C:\\\\Users\\\\Philip\\\\Anaconda3\\\\Lib\\\\enum.py'>, 'numpy._globals': <module 'numpy._globals' from 'C:\\\\Users\\\\Philip\\\\Anaconda3\\\\Lib\\\\site-packages\\\\numpy\\\\_globals.py'>, 'numpy.__config__': <module 'numpy.__config__' from 'C:\\\\Users\\\\Philip\\\\Anaconda3\\\\Lib\\\\site-packages\\\\numpy\\\\__config__.py'>, '_ctypes': <module '_ctypes' from 'C:\\\\Users\\\\Philip\\\\Anaconda3\\\\DLLs\\\\_ctypes.pyd'>, '_struct': <module '_struct' (built-in)>, 'struct': <module 'struct' from 'C:\\\\Users\\\\Philip\\\\Anaconda3\\\\Lib\\\\struct.py'>, 'ctypes._endian': <module 'ctypes._endian' from 'C:\\\\Users\\\\Philip\\\\Anaconda3\\\\Lib\\\\ctypes\\\\_endian.py'>, 'ctypes': <module 'ctypes' from 'C:\\\\Users\\\\Philip\\\\Anaconda3\\\\Lib\\\\ctypes\\\\__init__.py'>, 'mkl._mklinit': <module 'mkl._mklinit' from 'C:\\\\Users\\\\Philip\\\\Anaconda3\\\\Lib\\\\site-packages\\\\mkl\\\\_mklinit.cp311-win_amd64.pyd'>, 'cython_runtime': <module 'cython_runtime'>, 'numbers': <module 'numbers' from 'C:\\\\Users\\\\Philip\\\\Anaconda3\\\\Lib\\\\numbers.py'>, 'mkl._py_mkl_service': <module 'mkl._py_mkl_service' from 'C:\\\\Users\\\\Philip\\\\Anaconda3\\\\Lib\\\\site-packages\\\\mkl\\\\_py_mkl_service.cp311-win_amd64.pyd'>, 'mkl': <module 'mkl' from 'C:\\\\Users\\\\Philip\\\\Anaconda3\\\\Lib\\\\site-packages\\\\mkl\\\\__init__.py'>, 'numpy._distributor_init': <module 'numpy._distributor_init' from 'C:\\\\Users\\\\Philip\\\\Anaconda3\\\\Lib\\\\site-packages\\\\numpy\\\\_distributor_init.py'>, '__future__': <module '__future__' from 'C:\\\\Users\\\\Philip\\\\Anaconda3\\\\Lib\\\\__future__.py'>, '_sre': <module '_sre' (built-in)>, 're._constants': <module 're._constants' from 'C:\\\\Users\\\\Philip\\\\Anaconda3\\\\Lib\\\\re\\\\_constants.py'>, 're._parser': <module 're._parser' from 'C:\\\\Users\\\\Philip\\\\Anaconda3\\\\Lib\\\\re\\\\_parser.py'>, 're._casefix': <module 're._casefix' from 'C:\\\\Users\\\\Philip\\\\Anaconda3\\\\Lib\\\\re\\\\_casefix.py'>, 're._compiler': <module 're._compiler' from 'C:\\\\Users\\\\Philip\\\\Anaconda3\\\\Lib\\\\re\\\\_compiler.py'>, 'copyreg': <module 'copyreg' from 'C:\\\\Users\\\\Philip\\\\Anaconda3\\\\Lib\\\\copyreg.py'>, 're': <module 're' from 'C:\\\\Users\\\\Philip\\\\Anaconda3\\\\Lib\\\\re\\\\__init__.py'>, '_json': <module '_json' (built-in)>, 'json.scanner': <module 'json.scanner' from 'C:\\\\Users\\\\Philip\\\\Anaconda3\\\\Lib\\\\json\\\\scanner.py'>, 'json.decoder': <module 'json.decoder' from 'C:\\\\Users\\\\Philip\\\\Anaconda3\\\\Lib\\\\json\\\\decoder.py'>, 'json.encoder': <module 'json.encoder' from 'C:\\\\Users\\\\Philip\\\\Anaconda3\\\\Lib\\\\json\\\\encoder.py'>, 'json': <module 'json' from 'C:\\\\Users\\\\Philip\\\\Anaconda3\\\\Lib\\\\json\\\\__init__.py'>, 'numpy._version': <module 'numpy._version' from 'C:\\\\Users\\\\Philip\\\\Anaconda3\\\\Lib\\\\site-packages\\\\numpy\\\\_version.py'>, 'numpy.version': <module 'numpy.version' from 'C:\\\\Users\\\\Philip\\\\Anaconda3\\\\Lib\\\\site-packages\\\\numpy\\\\version.py'>, 'math': <module 'math' (built-in)>, '_datetime': <module '_datetime' (built-in)>, 'datetime': <module 'datetime' from 'C:\\\\Users\\\\Philip\\\\Anaconda3\\\\Lib\\\\datetime.py'>, 'numpy.core._multiarray_umath': <module 'numpy.core._multiarray_umath' from 'C:\\\\Users\\\\Philip\\\\Anaconda3\\\\Lib\\\\site-packages\\\\numpy\\\\core\\\\_multiarray_umath.cp311-win_amd64.pyd'>, 'numpy.compat._inspect': <module 'numpy.compat._inspect' from 'C:\\\\Users\\\\Philip\\\\Anaconda3\\\\Lib\\\\site-packages\\\\numpy\\\\compat\\\\_inspect.py'>, 'posixpath': <module 'posixpath' (frozen)>, 'fnmatch': <module 'fnmatch' from 'C:\\\\Users\\\\Philip\\\\Anaconda3\\\\Lib\\\\fnmatch.py'>, 'errno': <module 'errno' (built-in)>, 'urllib': <module 'urllib' from 'C:\\\\Users\\\\Philip\\\\Anaconda3\\\\Lib\\\\urllib\\\\__init__.py'>, 'ipaddress': <module 'ipaddress' from 'C:\\\\Users\\\\Philip\\\\Anaconda3\\\\Lib\\\\ipaddress.py'>, 'urllib.parse': <module 'urllib.parse' from 'C:\\\\Users\\\\Philip\\\\Anaconda3\\\\Lib\\\\urllib\\\\parse.py'>, 'pathlib': <module 'pathlib' from 'C:\\\\Users\\\\Philip\\\\Anaconda3\\\\Lib\\\\pathlib.py'>, '_compat_pickle': <module '_compat_pickle' from 'C:\\\\Users\\\\Philip\\\\Anaconda3\\\\Lib\\\\_compat_pickle.py'>, '_pickle': <module '_pickle' (built-in)>, 'pickle': <module 'pickle' from 'C:\\\\Users\\\\Philip\\\\Anaconda3\\\\Lib\\\\pickle.py'>, 'numpy.compat.py3k': <module 'numpy.compat.py3k' from 'C:\\\\Users\\\\Philip\\\\Anaconda3\\\\Lib\\\\site-packages\\\\numpy\\\\compat\\\\py3k.py'>, 'numpy.compat': <module 'numpy.compat' from 'C:\\\\Users\\\\Philip\\\\Anaconda3\\\\Lib\\\\site-packages\\\\numpy\\\\compat\\\\__init__.py'>, 'numpy.core.overrides': <module 'numpy.core.overrides' from 'C:\\\\Users\\\\Philip\\\\Anaconda3\\\\Lib\\\\site-packages\\\\numpy\\\\core\\\\overrides.py'>, 'numpy.core.multiarray': <module 'numpy.core.multiarray' from 'C:\\\\Users\\\\Philip\\\\Anaconda3\\\\Lib\\\\site-packages\\\\numpy\\\\core\\\\multiarray.py'>, 'numpy.core.umath': <module 'numpy.core.umath' from 'C:\\\\Users\\\\Philip\\\\Anaconda3\\\\Lib\\\\site-packages\\\\numpy\\\\core\\\\umath.py'>, 'numpy.core._string_helpers': <module 'numpy.core._string_helpers' from 'C:\\\\Users\\\\Philip\\\\Anaconda3\\\\Lib\\\\site-packages\\\\numpy\\\\core\\\\_string_helpers.py'>, 'numpy.core._dtype': <module 'numpy.core._dtype' from 'C:\\\\Users\\\\Philip\\\\Anaconda3\\\\Lib\\\\site-packages\\\\numpy\\\\core\\\\_dtype.py'>, 'numpy.core._type_aliases': <module 'numpy.core._type_aliases' from 'C:\\\\Users\\\\Philip\\\\Anaconda3\\\\Lib\\\\site-packages\\\\numpy\\\\core\\\\_type_aliases.py'>, 'numpy.core.numerictypes': <module 'numpy.core.numerictypes' from 'C:\\\\Users\\\\Philip\\\\Anaconda3\\\\Lib\\\\site-packages\\\\numpy\\\\core\\\\numerictypes.py'>, 'numpy.core._exceptions': <module 'numpy.core._exceptions' from 'C:\\\\Users\\\\Philip\\\\Anaconda3\\\\Lib\\\\site-packages\\\\numpy\\\\core\\\\_exceptions.py'>, 'collections.abc': <module 'collections.abc' from 'C:\\\\Users\\\\Philip\\\\Anaconda3\\\\Lib\\\\collections\\\\abc.py'>, '_contextvars': <module '_contextvars' (built-in)>, 'contextvars': <module 'contextvars' from 'C:\\\\Users\\\\Philip\\\\Anaconda3\\\\Lib\\\\contextvars.py'>, 'numpy.core._ufunc_config': <module 'numpy.core._ufunc_config' from 'C:\\\\Users\\\\Philip\\\\Anaconda3\\\\Lib\\\\site-packages\\\\numpy\\\\core\\\\_ufunc_config.py'>, 'numpy.core._methods': <module 'numpy.core._methods' from 'C:\\\\Users\\\\Philip\\\\Anaconda3\\\\Lib\\\\site-packages\\\\numpy\\\\core\\\\_methods.py'>, 'numpy.core.fromnumeric': <module 'numpy.core.fromnumeric' from 'C:\\\\Users\\\\Philip\\\\Anaconda3\\\\Lib\\\\site-packages\\\\numpy\\\\core\\\\fromnumeric.py'>, 'numpy.core.shape_base': <module 'numpy.core.shape_base' from 'C:\\\\Users\\\\Philip\\\\Anaconda3\\\\Lib\\\\site-packages\\\\numpy\\\\core\\\\shape_base.py'>, 'numpy.core.arrayprint': <module 'numpy.core.arrayprint' from 'C:\\\\Users\\\\Philip\\\\Anaconda3\\\\Lib\\\\site-packages\\\\numpy\\\\core\\\\arrayprint.py'>, 'numpy.core._asarray': <module 'numpy.core._asarray' from 'C:\\\\Users\\\\Philip\\\\Anaconda3\\\\Lib\\\\site-packages\\\\numpy\\\\core\\\\_asarray.py'>, 'numpy.core.numeric': <module 'numpy.core.numeric' from 'C:\\\\Users\\\\Philip\\\\Anaconda3\\\\Lib\\\\site-packages\\\\numpy\\\\core\\\\numeric.py'>, 'numpy.core.defchararray': <module 'numpy.core.defchararray' from 'C:\\\\Users\\\\Philip\\\\Anaconda3\\\\Lib\\\\site-packages\\\\numpy\\\\core\\\\defchararray.py'>, 'numpy.core.records': <module 'numpy.core.records' from 'C:\\\\Users\\\\Philip\\\\Anaconda3\\\\Lib\\\\site-packages\\\\numpy\\\\core\\\\records.py'>, 'numpy.core.memmap': <module 'numpy.core.memmap' from 'C:\\\\Users\\\\Philip\\\\Anaconda3\\\\Lib\\\\site-packages\\\\numpy\\\\core\\\\memmap.py'>, 'numpy.core.function_base': <module 'numpy.core.function_base' from 'C:\\\\Users\\\\Philip\\\\Anaconda3\\\\Lib\\\\site-packages\\\\numpy\\\\core\\\\function_base.py'>, 'numpy.core._machar': <module 'numpy.core._machar' from 'C:\\\\Users\\\\Philip\\\\Anaconda3\\\\Lib\\\\site-packages\\\\numpy\\\\core\\\\_machar.py'>, 'numpy.core.getlimits': <module 'numpy.core.getlimits' from 'C:\\\\Users\\\\Philip\\\\Anaconda3\\\\Lib\\\\site-packages\\\\numpy\\\\core\\\\getlimits.py'>, 'numpy.core.einsumfunc': <module 'numpy.core.einsumfunc' from 'C:\\\\Users\\\\Philip\\\\Anaconda3\\\\Lib\\\\site-packages\\\\numpy\\\\core\\\\einsumfunc.py'>, 'numpy.core._multiarray_tests': <module 'numpy.core._multiarray_tests' from 'C:\\\\Users\\\\Philip\\\\Anaconda3\\\\Lib\\\\site-packages\\\\numpy\\\\core\\\\_multiarray_tests.cp311-win_amd64.pyd'>, 'numpy.core._add_newdocs': <module 'numpy.core._add_newdocs' from 'C:\\\\Users\\\\Philip\\\\Anaconda3\\\\Lib\\\\site-packages\\\\numpy\\\\core\\\\_add_newdocs.py'>, 'numpy.core._add_newdocs_scalars': <module 'numpy.core._add_newdocs_scalars' from 'C:\\\\Users\\\\Philip\\\\Anaconda3\\\\Lib\\\\site-packages\\\\numpy\\\\core\\\\_add_newdocs_scalars.py'>, 'numpy.core._dtype_ctypes': <module 'numpy.core._dtype_ctypes' from 'C:\\\\Users\\\\Philip\\\\Anaconda3\\\\Lib\\\\site-packages\\\\numpy\\\\core\\\\_dtype_ctypes.py'>, '_ast': <module '_ast' (built-in)>, 'ast': <module 'ast' from 'C:\\\\Users\\\\Philip\\\\Anaconda3\\\\Lib\\\\ast.py'>, 'numpy.core._internal': <module 'numpy.core._internal' from 'C:\\\\Users\\\\Philip\\\\Anaconda3\\\\Lib\\\\site-packages\\\\numpy\\\\core\\\\_internal.py'>, 'numpy._pytesttester': <module 'numpy._pytesttester' from 'C:\\\\Users\\\\Philip\\\\Anaconda3\\\\Lib\\\\site-packages\\\\numpy\\\\_pytesttester.py'>, 'numpy.core': <module 'numpy.core' from 'C:\\\\Users\\\\Philip\\\\Anaconda3\\\\Lib\\\\site-packages\\\\numpy\\\\core\\\\__init__.py'>, 'numpy.lib.mixins': <module 'numpy.lib.mixins' from 'C:\\\\Users\\\\Philip\\\\Anaconda3\\\\Lib\\\\site-packages\\\\numpy\\\\lib\\\\mixins.py'>, 'numpy.lib.ufunclike': <module 'numpy.lib.ufunclike' from 'C:\\\\Users\\\\Philip\\\\Anaconda3\\\\Lib\\\\site-packages\\\\numpy\\\\lib\\\\ufunclike.py'>, 'numpy.lib.type_check': <module 'numpy.lib.type_check' from 'C:\\\\Users\\\\Philip\\\\Anaconda3\\\\Lib\\\\site-packages\\\\numpy\\\\lib\\\\type_check.py'>, 'numpy.lib.scimath': <module 'numpy.lib.scimath' from 'C:\\\\Users\\\\Philip\\\\Anaconda3\\\\Lib\\\\site-packages\\\\numpy\\\\lib\\\\scimath.py'>, 'numpy.lib.stride_tricks': <module 'numpy.lib.stride_tricks' from 'C:\\\\Users\\\\Philip\\\\Anaconda3\\\\Lib\\\\site-packages\\\\numpy\\\\lib\\\\stride_tricks.py'>, 'numpy.lib.twodim_base': <module 'numpy.lib.twodim_base' from 'C:\\\\Users\\\\Philip\\\\Anaconda3\\\\Lib\\\\site-packages\\\\numpy\\\\lib\\\\twodim_base.py'>, 'numpy.linalg._umath_linalg': <module 'numpy.linalg._umath_linalg' from 'C:\\\\Users\\\\Philip\\\\Anaconda3\\\\Lib\\\\site-packages\\\\numpy\\\\linalg\\\\_umath_linalg.cp311-win_amd64.pyd'>, 'numpy.linalg.linalg': <module 'numpy.linalg.linalg' from 'C:\\\\Users\\\\Philip\\\\Anaconda3\\\\Lib\\\\site-packages\\\\numpy\\\\linalg\\\\linalg.py'>, 'numpy.linalg': <module 'numpy.linalg' from 'C:\\\\Users\\\\Philip\\\\Anaconda3\\\\Lib\\\\site-packages\\\\numpy\\\\linalg\\\\__init__.py'>, 'numpy.matrixlib.defmatrix': <module 'numpy.matrixlib.defmatrix' from 'C:\\\\Users\\\\Philip\\\\Anaconda3\\\\Lib\\\\site-packages\\\\numpy\\\\matrixlib\\\\defmatrix.py'>, 'numpy.matrixlib': <module 'numpy.matrixlib' from 'C:\\\\Users\\\\Philip\\\\Anaconda3\\\\Lib\\\\site-packages\\\\numpy\\\\matrixlib\\\\__init__.py'>, 'numpy.lib.histograms': <module 'numpy.lib.histograms' from 'C:\\\\Users\\\\Philip\\\\Anaconda3\\\\Lib\\\\site-packages\\\\numpy\\\\lib\\\\histograms.py'>, 'numpy.lib.function_base': <module 'numpy.lib.function_base' from 'C:\\\\Users\\\\Philip\\\\Anaconda3\\\\Lib\\\\site-packages\\\\numpy\\\\lib\\\\function_base.py'>, 'numpy.lib.index_tricks': <module 'numpy.lib.index_tricks' from 'C:\\\\Users\\\\Philip\\\\Anaconda3\\\\Lib\\\\site-packages\\\\numpy\\\\lib\\\\index_tricks.py'>, 'numpy.lib.nanfunctions': <module 'numpy.lib.nanfunctions' from 'C:\\\\Users\\\\Philip\\\\Anaconda3\\\\Lib\\\\site-packages\\\\numpy\\\\lib\\\\nanfunctions.py'>, 'numpy.lib.shape_base': <module 'numpy.lib.shape_base' from 'C:\\\\Users\\\\Philip\\\\Anaconda3\\\\Lib\\\\site-packages\\\\numpy\\\\lib\\\\shape_base.py'>, 'numpy.lib.polynomial': <module 'numpy.lib.polynomial' from 'C:\\\\Users\\\\Philip\\\\Anaconda3\\\\Lib\\\\site-packages\\\\numpy\\\\lib\\\\polynomial.py'>, 'textwrap': <module 'textwrap' from 'C:\\\\Users\\\\Philip\\\\Anaconda3\\\\Lib\\\\textwrap.py'>, 'numpy.lib.utils': <module 'numpy.lib.utils' from 'C:\\\\Users\\\\Philip\\\\Anaconda3\\\\Lib\\\\site-packages\\\\numpy\\\\lib\\\\utils.py'>, 'numpy.lib.arraysetops': <module 'numpy.lib.arraysetops' from 'C:\\\\Users\\\\Philip\\\\Anaconda3\\\\Lib\\\\site-packages\\\\numpy\\\\lib\\\\arraysetops.py'>, '_weakrefset': <module '_weakrefset' from 'C:\\\\Users\\\\Philip\\\\Anaconda3\\\\Lib\\\\_weakrefset.py'>, 'weakref': <module 'weakref' from 'C:\\\\Users\\\\Philip\\\\Anaconda3\\\\Lib\\\\weakref.py'>, 'numpy.lib.format': <module 'numpy.lib.format' from 'C:\\\\Users\\\\Philip\\\\Anaconda3\\\\Lib\\\\site-packages\\\\numpy\\\\lib\\\\format.py'>, 'numpy.lib._datasource': <module 'numpy.lib._datasource' from 'C:\\\\Users\\\\Philip\\\\Anaconda3\\\\Lib\\\\site-packages\\\\numpy\\\\lib\\\\_datasource.py'>, 'numpy.lib._iotools': <module 'numpy.lib._iotools' from 'C:\\\\Users\\\\Philip\\\\Anaconda3\\\\Lib\\\\site-packages\\\\numpy\\\\lib\\\\_iotools.py'>, 'numpy.lib.npyio': <module 'numpy.lib.npyio' from 'C:\\\\Users\\\\Philip\\\\Anaconda3\\\\Lib\\\\site-packages\\\\numpy\\\\lib\\\\npyio.py'>, 'numpy.lib.arrayterator': <module 'numpy.lib.arrayterator' from 'C:\\\\Users\\\\Philip\\\\Anaconda3\\\\Lib\\\\site-packages\\\\numpy\\\\lib\\\\arrayterator.py'>, 'numpy.lib.arraypad': <module 'numpy.lib.arraypad' from 'C:\\\\Users\\\\Philip\\\\Anaconda3\\\\Lib\\\\site-packages\\\\numpy\\\\lib\\\\arraypad.py'>, 'numpy.lib._version': <module 'numpy.lib._version' from 'C:\\\\Users\\\\Philip\\\\Anaconda3\\\\Lib\\\\site-packages\\\\numpy\\\\lib\\\\_version.py'>, 'numpy.lib': <module 'numpy.lib' from 'C:\\\\Users\\\\Philip\\\\Anaconda3\\\\Lib\\\\site-packages\\\\numpy\\\\lib\\\\__init__.py'>, 'numpy.fft._pocketfft_internal': <module 'numpy.fft._pocketfft_internal' from 'C:\\\\Users\\\\Philip\\\\Anaconda3\\\\Lib\\\\site-packages\\\\numpy\\\\fft\\\\_pocketfft_internal.cp311-win_amd64.pyd'>, 'numpy.fft._pocketfft': <module 'numpy.fft._pocketfft' from 'C:\\\\Users\\\\Philip\\\\Anaconda3\\\\Lib\\\\site-packages\\\\numpy\\\\fft\\\\_pocketfft.py'>, 'numpy.fft.helper': <module 'numpy.fft.helper' from 'C:\\\\Users\\\\Philip\\\\Anaconda3\\\\Lib\\\\site-packages\\\\numpy\\\\fft\\\\helper.py'>, 'numpy.fft': <module 'numpy.fft' from 'C:\\\\Users\\\\Philip\\\\Anaconda3\\\\Lib\\\\site-packages\\\\numpy\\\\fft\\\\__init__.py'>, 'numpy.polynomial.polyutils': <module 'numpy.polynomial.polyutils' from 'C:\\\\Users\\\\Philip\\\\Anaconda3\\\\Lib\\\\site-packages\\\\numpy\\\\polynomial\\\\polyutils.py'>, 'numpy.polynomial._polybase': <module 'numpy.polynomial._polybase' from 'C:\\\\Users\\\\Philip\\\\Anaconda3\\\\Lib\\\\site-packages\\\\numpy\\\\polynomial\\\\_polybase.py'>, 'numpy.polynomial.polynomial': <module 'numpy.polynomial.polynomial' from 'C:\\\\Users\\\\Philip\\\\Anaconda3\\\\Lib\\\\site-packages\\\\numpy\\\\polynomial\\\\polynomial.py'>, 'numpy.polynomial.chebyshev': <module 'numpy.polynomial.chebyshev' from 'C:\\\\Users\\\\Philip\\\\Anaconda3\\\\Lib\\\\site-packages\\\\numpy\\\\polynomial\\\\chebyshev.py'>, 'numpy.polynomial.legendre': <module 'numpy.polynomial.legendre' from 'C:\\\\Users\\\\Philip\\\\Anaconda3\\\\Lib\\\\site-packages\\\\numpy\\\\polynomial\\\\legendre.py'>, 'numpy.polynomial.hermite': <module 'numpy.polynomial.hermite' from 'C:\\\\Users\\\\Philip\\\\Anaconda3\\\\Lib\\\\site-packages\\\\numpy\\\\polynomial\\\\hermite.py'>, 'numpy.polynomial.hermite_e': <module 'numpy.polynomial.hermite_e' from 'C:\\\\Users\\\\Philip\\\\Anaconda3\\\\Lib\\\\site-packages\\\\numpy\\\\polynomial\\\\hermite_e.py'>, 'numpy.polynomial.laguerre': <module 'numpy.polynomial.laguerre' from 'C:\\\\Users\\\\Philip\\\\Anaconda3\\\\Lib\\\\site-packages\\\\numpy\\\\polynomial\\\\laguerre.py'>, 'numpy.polynomial': <module 'numpy.polynomial' from 'C:\\\\Users\\\\Philip\\\\Anaconda3\\\\Lib\\\\site-packages\\\\numpy\\\\polynomial\\\\__init__.py'>, '_cython_0_29_33': <module '_cython_0_29_33'>, 'numpy.random._common': <module 'numpy.random._common' from 'C:\\\\Users\\\\Philip\\\\Anaconda3\\\\Lib\\\\site-packages\\\\numpy\\\\random\\\\_common.cp311-win_amd64.pyd'>, 'binascii': <module 'binascii' (built-in)>, 'base64': <module 'base64' from 'C:\\\\Users\\\\Philip\\\\Anaconda3\\\\Lib\\\\base64.py'>, '_hashlib': <module '_hashlib' from 'C:\\\\Users\\\\Philip\\\\Anaconda3\\\\DLLs\\\\_hashlib.pyd'>, '_blake2': <module '_blake2' (built-in)>, 'hashlib': <module 'hashlib' from 'C:\\\\Users\\\\Philip\\\\Anaconda3\\\\Lib\\\\hashlib.py'>, 'hmac': <module 'hmac' from 'C:\\\\Users\\\\Philip\\\\Anaconda3\\\\Lib\\\\hmac.py'>, '_bisect': <module '_bisect' (built-in)>, 'bisect': <module 'bisect' from 'C:\\\\Users\\\\Philip\\\\Anaconda3\\\\Lib\\\\bisect.py'>, '_random': <module '_random' (built-in)>, '_sha512': <module '_sha512' (built-in)>, 'random': <module 'random' from 'C:\\\\Users\\\\Philip\\\\Anaconda3\\\\Lib\\\\random.py'>, 'secrets': <module 'secrets' from 'C:\\\\Users\\\\Philip\\\\Anaconda3\\\\Lib\\\\secrets.py'>, 'threading': <module 'threading' from 'C:\\\\Users\\\\Philip\\\\Anaconda3\\\\Lib\\\\threading.py'>, 'numpy.random.bit_generator': <module 'numpy.random.bit_generator' from 'C:\\\\Users\\\\Philip\\\\Anaconda3\\\\Lib\\\\site-packages\\\\numpy\\\\random\\\\bit_generator.cp311-win_amd64.pyd'>, 'numpy.random._bounded_integers': <module 'numpy.random._bounded_integers' from 'C:\\\\Users\\\\Philip\\\\Anaconda3\\\\Lib\\\\site-packages\\\\numpy\\\\random\\\\_bounded_integers.cp311-win_amd64.pyd'>, 'numpy.random._mt19937': <module 'numpy.random._mt19937' from 'C:\\\\Users\\\\Philip\\\\Anaconda3\\\\Lib\\\\site-packages\\\\numpy\\\\random\\\\_mt19937.cp311-win_amd64.pyd'>, 'numpy.random.mtrand': <module 'numpy.random.mtrand' from 'C:\\\\Users\\\\Philip\\\\Anaconda3\\\\Lib\\\\site-packages\\\\numpy\\\\random\\\\mtrand.cp311-win_amd64.pyd'>, 'numpy.random._philox': <module 'numpy.random._philox' from 'C:\\\\Users\\\\Philip\\\\Anaconda3\\\\Lib\\\\site-packages\\\\numpy\\\\random\\\\_philox.cp311-win_amd64.pyd'>, 'numpy.random._pcg64': <module 'numpy.random._pcg64' from 'C:\\\\Users\\\\Philip\\\\Anaconda3\\\\Lib\\\\site-packages\\\\numpy\\\\random\\\\_pcg64.cp311-win_amd64.pyd'>, 'numpy.random._sfc64': <module 'numpy.random._sfc64' from 'C:\\\\Users\\\\Philip\\\\Anaconda3\\\\Lib\\\\site-packages\\\\numpy\\\\random\\\\_sfc64.cp311-win_amd64.pyd'>, 'numpy.random._generator': <module 'numpy.random._generator' from 'C:\\\\Users\\\\Philip\\\\Anaconda3\\\\Lib\\\\site-packages\\\\numpy\\\\random\\\\_generator.cp311-win_amd64.pyd'>, 'numpy.random._pickle': <module 'numpy.random._pickle' from 'C:\\\\Users\\\\Philip\\\\Anaconda3\\\\Lib\\\\site-packages\\\\numpy\\\\random\\\\_pickle.py'>, 'numpy.random': <module 'numpy.random' from 'C:\\\\Users\\\\Philip\\\\Anaconda3\\\\Lib\\\\site-packages\\\\numpy\\\\random\\\\__init__.py'>, 'numpy.ctypeslib': <module 'numpy.ctypeslib' from 'C:\\\\Users\\\\Philip\\\\Anaconda3\\\\Lib\\\\site-packages\\\\numpy\\\\ctypeslib.py'>, '_opcode': <module '_opcode' (built-in)>, 'opcode': <module 'opcode' from 'C:\\\\Users\\\\Philip\\\\Anaconda3\\\\Lib\\\\opcode.py'>, 'dis': <module 'dis' from 'C:\\\\Users\\\\Philip\\\\Anaconda3\\\\Lib\\\\dis.py'>, 'token': <module 'token' from 'C:\\\\Users\\\\Philip\\\\Anaconda3\\\\Lib\\\\token.py'>, 'tokenize': <module 'tokenize' from 'C:\\\\Users\\\\Philip\\\\Anaconda3\\\\Lib\\\\tokenize.py'>, 'linecache': <module 'linecache' from 'C:\\\\Users\\\\Philip\\\\Anaconda3\\\\Lib\\\\linecache.py'>, 'inspect': <module 'inspect' from 'C:\\\\Users\\\\Philip\\\\Anaconda3\\\\Lib\\\\inspect.py'>, 'numpy.ma.core': <module 'numpy.ma.core' from 'C:\\\\Users\\\\Philip\\\\Anaconda3\\\\Lib\\\\site-packages\\\\numpy\\\\ma\\\\core.py'>, 'numpy.ma.extras': <module 'numpy.ma.extras' from 'C:\\\\Users\\\\Philip\\\\Anaconda3\\\\Lib\\\\site-packages\\\\numpy\\\\ma\\\\extras.py'>, 'numpy.ma': <module 'numpy.ma' from 'C:\\\\Users\\\\Philip\\\\Anaconda3\\\\Lib\\\\site-packages\\\\numpy\\\\ma\\\\__init__.py'>, 'numpy': <module 'numpy' from 'C:\\\\Users\\\\Philip\\\\Anaconda3\\\\Lib\\\\site-packages\\\\numpy\\\\__init__.py'>}\n",
      "dict_keys(['sys', 'builtins', '_frozen_importlib', '_imp', '_thread', '_warnings', '_weakref', 'winreg', '_io', 'marshal', 'nt', '_frozen_importlib_external', 'time', 'zipimport', '_codecs', 'codecs', 'encodings.aliases', 'encodings', 'encodings.utf_8', '_signal', '_abc', 'abc', 'io', '__main__', '_stat', 'stat', '_collections_abc', 'genericpath', '_winapi', 'ntpath', 'os.path', 'os', '_sitebuiltins', 'encodings.cp1252', '_distutils_hack', 'types', 'importlib._bootstrap', 'importlib._bootstrap_external', 'warnings', 'importlib', 'importlib._abc', 'itertools', 'keyword', '_operator', 'operator', 'reprlib', '_collections', 'collections', '_functools', 'functools', 'contextlib', 'importlib.util', 'importlib.machinery', 'mpl_toolkits', 'ruamel', 'sphinxcontrib', 'zope', 'site', 'enum', 'numpy._globals', 'numpy.__config__', '_ctypes', '_struct', 'struct', 'ctypes._endian', 'ctypes', 'mkl._mklinit', 'cython_runtime', 'numbers', 'mkl._py_mkl_service', 'mkl', 'numpy._distributor_init', '__future__', '_sre', 're._constants', 're._parser', 're._casefix', 're._compiler', 'copyreg', 're', '_json', 'json.scanner', 'json.decoder', 'json.encoder', 'json', 'numpy._version', 'numpy.version', 'math', '_datetime', 'datetime', 'numpy.core._multiarray_umath', 'numpy.compat._inspect', 'posixpath', 'fnmatch', 'errno', 'urllib', 'ipaddress', 'urllib.parse', 'pathlib', '_compat_pickle', '_pickle', 'pickle', 'numpy.compat.py3k', 'numpy.compat', 'numpy.core.overrides', 'numpy.core.multiarray', 'numpy.core.umath', 'numpy.core._string_helpers', 'numpy.core._dtype', 'numpy.core._type_aliases', 'numpy.core.numerictypes', 'numpy.core._exceptions', 'collections.abc', '_contextvars', 'contextvars', 'numpy.core._ufunc_config', 'numpy.core._methods', 'numpy.core.fromnumeric', 'numpy.core.shape_base', 'numpy.core.arrayprint', 'numpy.core._asarray', 'numpy.core.numeric', 'numpy.core.defchararray', 'numpy.core.records', 'numpy.core.memmap', 'numpy.core.function_base', 'numpy.core._machar', 'numpy.core.getlimits', 'numpy.core.einsumfunc', 'numpy.core._multiarray_tests', 'numpy.core._add_newdocs', 'numpy.core._add_newdocs_scalars', 'numpy.core._dtype_ctypes', '_ast', 'ast', 'numpy.core._internal', 'numpy._pytesttester', 'numpy.core', 'numpy.lib.mixins', 'numpy.lib.ufunclike', 'numpy.lib.type_check', 'numpy.lib.scimath', 'numpy.lib.stride_tricks', 'numpy.lib.twodim_base', 'numpy.linalg._umath_linalg', 'numpy.linalg.linalg', 'numpy.linalg', 'numpy.matrixlib.defmatrix', 'numpy.matrixlib', 'numpy.lib.histograms', 'numpy.lib.function_base', 'numpy.lib.index_tricks', 'numpy.lib.nanfunctions', 'numpy.lib.shape_base', 'numpy.lib.polynomial', 'textwrap', 'numpy.lib.utils', 'numpy.lib.arraysetops', '_weakrefset', 'weakref', 'numpy.lib.format', 'numpy.lib._datasource', 'numpy.lib._iotools', 'numpy.lib.npyio', 'numpy.lib.arrayterator', 'numpy.lib.arraypad', 'numpy.lib._version', 'numpy.lib', 'numpy.fft._pocketfft_internal', 'numpy.fft._pocketfft', 'numpy.fft.helper', 'numpy.fft', 'numpy.polynomial.polyutils', 'numpy.polynomial._polybase', 'numpy.polynomial.polynomial', 'numpy.polynomial.chebyshev', 'numpy.polynomial.legendre', 'numpy.polynomial.hermite', 'numpy.polynomial.hermite_e', 'numpy.polynomial.laguerre', 'numpy.polynomial', '_cython_0_29_33', 'numpy.random._common', 'binascii', 'base64', '_hashlib', '_blake2', 'hashlib', 'hmac', '_bisect', 'bisect', '_random', '_sha512', 'random', 'secrets', 'threading', 'numpy.random.bit_generator', 'numpy.random._bounded_integers', 'numpy.random._mt19937', 'numpy.random.mtrand', 'numpy.random._philox', 'numpy.random._pcg64', 'numpy.random._sfc64', 'numpy.random._generator', 'numpy.random._pickle', 'numpy.random', 'numpy.ctypeslib', '_opcode', 'opcode', 'dis', 'token', 'tokenize', 'linecache', 'inspect', 'numpy.ma.core', 'numpy.ma.extras', 'numpy.ma', 'numpy'])\n"
     ]
    }
   ],
   "source": [
    "if os.name == 'nt':\n",
    "    !powershell python script5.py\n",
    "else:\n",
    "    !python script5.py"
   ]
  },
  {
   "cell_type": "markdown",
   "metadata": {},
   "source": []
  },
  {
   "cell_type": "markdown",
   "metadata": {},
   "source": []
  },
  {
   "cell_type": "markdown",
   "metadata": {},
   "source": []
  },
  {
   "cell_type": "markdown",
   "metadata": {},
   "source": []
  },
  {
   "cell_type": "markdown",
   "metadata": {},
   "source": []
  },
  {
   "cell_type": "markdown",
   "metadata": {},
   "source": []
  },
  {
   "cell_type": "markdown",
   "metadata": {},
   "source": [
    "Most of these are builtin modules. ```sys.builtin_module_names``` is an immutable tuple (static variable) that contains these modules:"
   ]
  },
  {
   "cell_type": "code",
   "execution_count": 19,
   "metadata": {},
   "outputs": [
    {
     "data": {
      "text/plain": [
       "('_abc',\n",
       " '_ast',\n",
       " '_bisect',\n",
       " '_blake2',\n",
       " '_codecs',\n",
       " '_codecs_cn',\n",
       " '_codecs_hk',\n",
       " '_codecs_iso2022',\n",
       " '_codecs_jp',\n",
       " '_codecs_kr',\n",
       " '_codecs_tw',\n",
       " '_collections',\n",
       " '_contextvars',\n",
       " '_csv',\n",
       " '_datetime',\n",
       " '_functools',\n",
       " '_heapq',\n",
       " '_imp',\n",
       " '_io',\n",
       " '_json',\n",
       " '_locale',\n",
       " '_lsprof',\n",
       " '_md5',\n",
       " '_multibytecodec',\n",
       " '_opcode',\n",
       " '_operator',\n",
       " '_pickle',\n",
       " '_random',\n",
       " '_sha1',\n",
       " '_sha256',\n",
       " '_sha3',\n",
       " '_sha512',\n",
       " '_signal',\n",
       " '_sre',\n",
       " '_stat',\n",
       " '_statistics',\n",
       " '_string',\n",
       " '_struct',\n",
       " '_symtable',\n",
       " '_thread',\n",
       " '_tokenize',\n",
       " '_tracemalloc',\n",
       " '_typing',\n",
       " '_warnings',\n",
       " '_weakref',\n",
       " '_winapi',\n",
       " '_xxsubinterpreters',\n",
       " 'array',\n",
       " 'atexit',\n",
       " 'audioop',\n",
       " 'binascii',\n",
       " 'builtins',\n",
       " 'cmath',\n",
       " 'errno',\n",
       " 'faulthandler',\n",
       " 'gc',\n",
       " 'itertools',\n",
       " 'marshal',\n",
       " 'math',\n",
       " 'mmap',\n",
       " 'msvcrt',\n",
       " 'nt',\n",
       " 'sys',\n",
       " 'time',\n",
       " 'winreg',\n",
       " 'xxsubtype',\n",
       " 'zlib')"
      ]
     },
     "execution_count": 19,
     "metadata": {},
     "output_type": "execute_result"
    }
   ],
   "source": [
    "sys.builtin_module_names"
   ]
  },
  {
   "cell_type": "markdown",
   "metadata": {},
   "source": []
  },
  {
   "cell_type": "markdown",
   "metadata": {},
   "source": [
    "Ther"
   ]
  },
  {
   "cell_type": "code",
   "execution_count": 22,
   "metadata": {},
   "outputs": [
    {
     "data": {
      "text/plain": [
       "frozenset({'__future__',\n",
       "           '_abc',\n",
       "           '_aix_support',\n",
       "           '_ast',\n",
       "           '_asyncio',\n",
       "           '_bisect',\n",
       "           '_blake2',\n",
       "           '_bootsubprocess',\n",
       "           '_bz2',\n",
       "           '_codecs',\n",
       "           '_codecs_cn',\n",
       "           '_codecs_hk',\n",
       "           '_codecs_iso2022',\n",
       "           '_codecs_jp',\n",
       "           '_codecs_kr',\n",
       "           '_codecs_tw',\n",
       "           '_collections',\n",
       "           '_collections_abc',\n",
       "           '_compat_pickle',\n",
       "           '_compression',\n",
       "           '_contextvars',\n",
       "           '_crypt',\n",
       "           '_csv',\n",
       "           '_ctypes',\n",
       "           '_curses',\n",
       "           '_curses_panel',\n",
       "           '_datetime',\n",
       "           '_dbm',\n",
       "           '_decimal',\n",
       "           '_elementtree',\n",
       "           '_frozen_importlib',\n",
       "           '_frozen_importlib_external',\n",
       "           '_functools',\n",
       "           '_gdbm',\n",
       "           '_hashlib',\n",
       "           '_heapq',\n",
       "           '_imp',\n",
       "           '_io',\n",
       "           '_json',\n",
       "           '_locale',\n",
       "           '_lsprof',\n",
       "           '_lzma',\n",
       "           '_markupbase',\n",
       "           '_md5',\n",
       "           '_msi',\n",
       "           '_multibytecodec',\n",
       "           '_multiprocessing',\n",
       "           '_opcode',\n",
       "           '_operator',\n",
       "           '_osx_support',\n",
       "           '_overlapped',\n",
       "           '_pickle',\n",
       "           '_posixshmem',\n",
       "           '_posixsubprocess',\n",
       "           '_py_abc',\n",
       "           '_pydecimal',\n",
       "           '_pyio',\n",
       "           '_queue',\n",
       "           '_random',\n",
       "           '_scproxy',\n",
       "           '_sha1',\n",
       "           '_sha256',\n",
       "           '_sha3',\n",
       "           '_sha512',\n",
       "           '_signal',\n",
       "           '_sitebuiltins',\n",
       "           '_socket',\n",
       "           '_sqlite3',\n",
       "           '_sre',\n",
       "           '_ssl',\n",
       "           '_stat',\n",
       "           '_statistics',\n",
       "           '_string',\n",
       "           '_strptime',\n",
       "           '_struct',\n",
       "           '_symtable',\n",
       "           '_thread',\n",
       "           '_threading_local',\n",
       "           '_tkinter',\n",
       "           '_tokenize',\n",
       "           '_tracemalloc',\n",
       "           '_typing',\n",
       "           '_uuid',\n",
       "           '_warnings',\n",
       "           '_weakref',\n",
       "           '_weakrefset',\n",
       "           '_winapi',\n",
       "           '_zoneinfo',\n",
       "           'abc',\n",
       "           'aifc',\n",
       "           'antigravity',\n",
       "           'argparse',\n",
       "           'array',\n",
       "           'ast',\n",
       "           'asynchat',\n",
       "           'asyncio',\n",
       "           'asyncore',\n",
       "           'atexit',\n",
       "           'audioop',\n",
       "           'base64',\n",
       "           'bdb',\n",
       "           'binascii',\n",
       "           'bisect',\n",
       "           'builtins',\n",
       "           'bz2',\n",
       "           'cProfile',\n",
       "           'calendar',\n",
       "           'cgi',\n",
       "           'cgitb',\n",
       "           'chunk',\n",
       "           'cmath',\n",
       "           'cmd',\n",
       "           'code',\n",
       "           'codecs',\n",
       "           'codeop',\n",
       "           'collections',\n",
       "           'colorsys',\n",
       "           'compileall',\n",
       "           'concurrent',\n",
       "           'configparser',\n",
       "           'contextlib',\n",
       "           'contextvars',\n",
       "           'copy',\n",
       "           'copyreg',\n",
       "           'crypt',\n",
       "           'csv',\n",
       "           'ctypes',\n",
       "           'curses',\n",
       "           'dataclasses',\n",
       "           'datetime',\n",
       "           'dbm',\n",
       "           'decimal',\n",
       "           'difflib',\n",
       "           'dis',\n",
       "           'distutils',\n",
       "           'doctest',\n",
       "           'email',\n",
       "           'encodings',\n",
       "           'ensurepip',\n",
       "           'enum',\n",
       "           'errno',\n",
       "           'faulthandler',\n",
       "           'fcntl',\n",
       "           'filecmp',\n",
       "           'fileinput',\n",
       "           'fnmatch',\n",
       "           'fractions',\n",
       "           'ftplib',\n",
       "           'functools',\n",
       "           'gc',\n",
       "           'genericpath',\n",
       "           'getopt',\n",
       "           'getpass',\n",
       "           'gettext',\n",
       "           'glob',\n",
       "           'graphlib',\n",
       "           'grp',\n",
       "           'gzip',\n",
       "           'hashlib',\n",
       "           'heapq',\n",
       "           'hmac',\n",
       "           'html',\n",
       "           'http',\n",
       "           'idlelib',\n",
       "           'imaplib',\n",
       "           'imghdr',\n",
       "           'imp',\n",
       "           'importlib',\n",
       "           'inspect',\n",
       "           'io',\n",
       "           'ipaddress',\n",
       "           'itertools',\n",
       "           'json',\n",
       "           'keyword',\n",
       "           'lib2to3',\n",
       "           'linecache',\n",
       "           'locale',\n",
       "           'logging',\n",
       "           'lzma',\n",
       "           'mailbox',\n",
       "           'mailcap',\n",
       "           'marshal',\n",
       "           'math',\n",
       "           'mimetypes',\n",
       "           'mmap',\n",
       "           'modulefinder',\n",
       "           'msilib',\n",
       "           'msvcrt',\n",
       "           'multiprocessing',\n",
       "           'netrc',\n",
       "           'nis',\n",
       "           'nntplib',\n",
       "           'nt',\n",
       "           'ntpath',\n",
       "           'nturl2path',\n",
       "           'numbers',\n",
       "           'opcode',\n",
       "           'operator',\n",
       "           'optparse',\n",
       "           'os',\n",
       "           'ossaudiodev',\n",
       "           'pathlib',\n",
       "           'pdb',\n",
       "           'pickle',\n",
       "           'pickletools',\n",
       "           'pipes',\n",
       "           'pkgutil',\n",
       "           'platform',\n",
       "           'plistlib',\n",
       "           'poplib',\n",
       "           'posix',\n",
       "           'posixpath',\n",
       "           'pprint',\n",
       "           'profile',\n",
       "           'pstats',\n",
       "           'pty',\n",
       "           'pwd',\n",
       "           'py_compile',\n",
       "           'pyclbr',\n",
       "           'pydoc',\n",
       "           'pydoc_data',\n",
       "           'pyexpat',\n",
       "           'queue',\n",
       "           'quopri',\n",
       "           'random',\n",
       "           're',\n",
       "           'readline',\n",
       "           'reprlib',\n",
       "           'resource',\n",
       "           'rlcompleter',\n",
       "           'runpy',\n",
       "           'sched',\n",
       "           'secrets',\n",
       "           'select',\n",
       "           'selectors',\n",
       "           'shelve',\n",
       "           'shlex',\n",
       "           'shutil',\n",
       "           'signal',\n",
       "           'site',\n",
       "           'smtpd',\n",
       "           'smtplib',\n",
       "           'sndhdr',\n",
       "           'socket',\n",
       "           'socketserver',\n",
       "           'spwd',\n",
       "           'sqlite3',\n",
       "           'sre_compile',\n",
       "           'sre_constants',\n",
       "           'sre_parse',\n",
       "           'ssl',\n",
       "           'stat',\n",
       "           'statistics',\n",
       "           'string',\n",
       "           'stringprep',\n",
       "           'struct',\n",
       "           'subprocess',\n",
       "           'sunau',\n",
       "           'symtable',\n",
       "           'sys',\n",
       "           'sysconfig',\n",
       "           'syslog',\n",
       "           'tabnanny',\n",
       "           'tarfile',\n",
       "           'telnetlib',\n",
       "           'tempfile',\n",
       "           'termios',\n",
       "           'textwrap',\n",
       "           'this',\n",
       "           'threading',\n",
       "           'time',\n",
       "           'timeit',\n",
       "           'tkinter',\n",
       "           'token',\n",
       "           'tokenize',\n",
       "           'tomllib',\n",
       "           'trace',\n",
       "           'traceback',\n",
       "           'tracemalloc',\n",
       "           'tty',\n",
       "           'turtle',\n",
       "           'turtledemo',\n",
       "           'types',\n",
       "           'typing',\n",
       "           'unicodedata',\n",
       "           'unittest',\n",
       "           'urllib',\n",
       "           'uu',\n",
       "           'uuid',\n",
       "           'venv',\n",
       "           'warnings',\n",
       "           'wave',\n",
       "           'weakref',\n",
       "           'webbrowser',\n",
       "           'winreg',\n",
       "           'winsound',\n",
       "           'wsgiref',\n",
       "           'xdrlib',\n",
       "           'xml',\n",
       "           'xmlrpc',\n",
       "           'zipapp',\n",
       "           'zipfile',\n",
       "           'zipimport',\n",
       "           'zlib',\n",
       "           'zoneinfo'})"
      ]
     },
     "execution_count": 22,
     "metadata": {},
     "output_type": "execute_result"
    }
   ],
   "source": [
    "sys.stdlib_module_names"
   ]
  },
  {
   "cell_type": "code",
   "execution_count": 20,
   "metadata": {},
   "outputs": [
    {
     "name": "stdout",
     "output_type": "stream",
     "text": [
      "Overwriting script5.py\n"
     ]
    }
   ],
   "source": [
    "%%writefile script5.py\n",
    "import sys\n",
    "other_keys = []\n",
    "for key in sys.modules:\n",
    "    if key not in sys.builtin_module_names and not key.startswith('_'):\n",
    "        other_keys.append(key)\n",
    "\n",
    "print(f'len: {len(other_keys)}')\n",
    "print(other_keys)"
   ]
  },
  {
   "cell_type": "code",
   "execution_count": 21,
   "metadata": {},
   "outputs": [
    {
     "name": "stdout",
     "output_type": "stream",
     "text": [
      "len: 32\n",
      "['zipimport', 'codecs', 'encodings.aliases', 'encodings', 'encodings.utf_8', 'abc', 'io', 'stat', 'genericpath', 'ntpath', 'os.path', 'os', 'encodings.cp1252', 'types', 'importlib._bootstrap', 'importlib._bootstrap_external', 'warnings', 'importlib', 'importlib._abc', 'keyword', 'operator', 'reprlib', 'collections', 'functools', 'contextlib', 'importlib.util', 'importlib.machinery', 'mpl_toolkits', 'ruamel', 'sphinxcontrib', 'zope', 'site']\n"
     ]
    }
   ],
   "source": [
    "if os.name == 'nt':\n",
    "    !powershell python script5.py\n",
    "else:\n",
    "    !python script5.py"
   ]
  }
 ],
 "metadata": {
  "kernelspec": {
   "display_name": "Python 3",
   "language": "python",
   "name": "python3"
  },
  "language_info": {
   "codemirror_mode": {
    "name": "ipython",
    "version": 3
   },
   "file_extension": ".py",
   "mimetype": "text/x-python",
   "name": "python",
   "nbconvert_exporter": "python",
   "pygments_lexer": "ipython3",
   "version": "3.11.5"
  }
 },
 "nbformat": 4,
 "nbformat_minor": 2
}
