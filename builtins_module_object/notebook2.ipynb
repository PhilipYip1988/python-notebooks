{
 "cells": [
  {
   "cell_type": "markdown",
   "metadata": {},
   "source": [
    "## Python object"
   ]
  },
  {
   "cell_type": "markdown",
   "metadata": {},
   "source": [
    "In Python, the directory function ```dir``` can be used to view a list of identifier names:"
   ]
  },
  {
   "cell_type": "code",
   "execution_count": null,
   "metadata": {},
   "outputs": [],
   "source": [
    "dir()"
   ]
  },
  {
   "cell_type": "markdown",
   "metadata": {},
   "source": [
    "These identifiers unfortunately aren't grouped by category. To do so a custom function ```categorize_identifiers_print``` will be imported from a custom module called ```categorize_identifiers```, that is in the same folder as the interactive Python notebook file: "
   ]
  },
  {
   "cell_type": "code",
   "execution_count": 1,
   "metadata": {},
   "outputs": [],
   "source": [
    "from categorize_identifiers import categorize_identifiers_print\n",
    "categorize_identifiers_print()"
   ]
  },
  {
   "cell_type": "code",
   "execution_count": null,
   "metadata": {},
   "outputs": [],
   "source": [
    "from old import categorize_identifiers_dict"
   ]
  },
  {
   "cell_type": "code",
   "execution_count": null,
   "metadata": {},
   "outputs": [],
   "source": [
    "categorize_identifiers_dict()"
   ]
  },
  {
   "cell_type": "markdown",
   "metadata": {},
   "source": [
    "The ```categorize_identifiers_print``` function will pretty print the list of identifiers above in a ```dict``` format grouped by category:"
   ]
  },
  {
   "cell_type": "code",
   "execution_count": 2,
   "metadata": {},
   "outputs": [
    {
     "name": "stdout",
     "output_type": "stream",
     "text": [
      "test1\n",
      "{'attribute': [],\n",
      " 'constant': [],\n",
      " 'module': [],\n",
      " 'method': ['clear',\n",
      "            'copy',\n",
      "            'fromkeys',\n",
      "            'get',\n",
      "            'items',\n",
      "            'keys',\n",
      "            'pop',\n",
      "            'popitem',\n",
      "            'setdefault',\n",
      "            'update',\n",
      "            'values'],\n",
      " 'lower_class': [],\n",
      " 'upper_class': [],\n",
      " 'datamodel_attribute': ['__doc__', '__hash__'],\n",
      " 'datamodel_method': ['__class__',\n",
      "                      '__class_getitem__',\n",
      "                      '__contains__',\n",
      "                      '__delattr__',\n",
      "                      '__delitem__',\n",
      "                      '__dir__',\n",
      "                      '__eq__',\n",
      "                      '__format__',\n",
      "                      '__ge__',\n",
      "                      '__getattribute__',\n",
      "                      '__getitem__',\n",
      "                      '__getstate__',\n",
      "                      '__gt__',\n",
      "                      '__init__',\n",
      "                      '__init_subclass__',\n",
      "                      '__ior__',\n",
      "                      '__iter__',\n",
      "                      '__le__',\n",
      "                      '__len__',\n",
      "                      '__lt__',\n",
      "                      '__ne__',\n",
      "                      '__new__',\n",
      "                      '__or__',\n",
      "                      '__reduce__',\n",
      "                      '__reduce_ex__',\n",
      "                      '__repr__',\n",
      "                      '__reversed__',\n",
      "                      '__ror__',\n",
      "                      '__setattr__',\n",
      "                      '__setitem__',\n",
      "                      '__sizeof__',\n",
      "                      '__str__',\n",
      "                      '__subclasshook__'],\n",
      " 'internal_attribute': [],\n",
      " 'internal_method': []}\n"
     ]
    }
   ],
   "source": [
    "categorize_identifiers_print()"
   ]
  },
  {
   "cell_type": "code",
   "execution_count": null,
   "metadata": {},
   "outputs": [],
   "source": [
    "categorize_identifiers_print(__builtins__)"
   ]
  },
  {
   "cell_type": "code",
   "execution_count": null,
   "metadata": {},
   "outputs": [],
   "source": [
    "categorize_identifiers_print(object)"
   ]
  },
  {
   "cell_type": "code",
   "execution_count": null,
   "metadata": {},
   "outputs": [],
   "source": [
    "categorize_identifiers_print(str, object, consistent_only=True)"
   ]
  },
  {
   "cell_type": "code",
   "execution_count": null,
   "metadata": {},
   "outputs": [],
   "source": [
    "categorize_identifiers_print(str, object, unique_only=True)"
   ]
  },
  {
   "cell_type": "code",
   "execution_count": null,
   "metadata": {},
   "outputs": [],
   "source": [
    "categorize_identifiers_print(list, tuple, consistent_only=True)"
   ]
  },
  {
   "cell_type": "code",
   "execution_count": null,
   "metadata": {},
   "outputs": [],
   "source": [
    "categorize_identifiers_print(list, tuple, unique_only=True)"
   ]
  },
  {
   "cell_type": "code",
   "execution_count": null,
   "metadata": {},
   "outputs": [],
   "source": [
    "import matplotlib.pyplot as plt\n",
    "fig1, ax1 = plt.subplots()\n",
    "fig2 = plt.figure()\n",
    "ax2 = fig2.add_subplot(projection='3d')"
   ]
  },
  {
   "cell_type": "code",
   "execution_count": null,
   "metadata": {},
   "outputs": [],
   "source": [
    "categorize_identifiers_print(ax2, ax1, consistent_only=True)"
   ]
  },
  {
   "cell_type": "code",
   "execution_count": null,
   "metadata": {},
   "outputs": [],
   "source": [
    "categorize_identifiers_print(ax2, ax1, unique_only=True)"
   ]
  },
  {
   "cell_type": "code",
   "execution_count": null,
   "metadata": {},
   "outputs": [],
   "source": [
    "import pandas as pd\n",
    "categorize_identifiers_print(pd.DataFrame)"
   ]
  },
  {
   "cell_type": "code",
   "execution_count": null,
   "metadata": {},
   "outputs": [],
   "source": [
    "import numpy as np"
   ]
  },
  {
   "cell_type": "code",
   "execution_count": null,
   "metadata": {},
   "outputs": [],
   "source": [
    "np.__dict__.keys()"
   ]
  },
  {
   "cell_type": "code",
   "execution_count": null,
   "metadata": {},
   "outputs": [],
   "source": [
    "hasattr(np, '__dict__.keys().__package__')"
   ]
  },
  {
   "cell_type": "code",
   "execution_count": null,
   "metadata": {},
   "outputs": [],
   "source": []
  },
  {
   "cell_type": "code",
   "execution_count": null,
   "metadata": {},
   "outputs": [],
   "source": [
    "\n",
    "df = pd.DataFrame({'x': [1, 2, 3, 4], 'y': [1, 2, 3, 4]})\n",
    "categorize_identifiers_print(df)"
   ]
  },
  {
   "cell_type": "code",
   "execution_count": null,
   "metadata": {},
   "outputs": [],
   "source": [
    "categorize_identifiers_print([1, 2, 3, 4])"
   ]
  },
  {
   "cell_type": "code",
   "execution_count": null,
   "metadata": {},
   "outputs": [],
   "source": [
    "import numpy as np\n",
    "categorize_identifiers_print(np.ndarray)"
   ]
  },
  {
   "cell_type": "code",
   "execution_count": null,
   "metadata": {},
   "outputs": [],
   "source": [
    "import numpy as np\n",
    "categorize_identifiers_print(np.array([1, 2, 3]))"
   ]
  },
  {
   "cell_type": "code",
   "execution_count": null,
   "metadata": {},
   "outputs": [],
   "source": []
  },
  {
   "cell_type": "code",
   "execution_count": null,
   "metadata": {},
   "outputs": [],
   "source": [
    "categorize_identifiers_print(bytearray, [str, list], unique_only=True)"
   ]
  },
  {
   "cell_type": "code",
   "execution_count": null,
   "metadata": {},
   "outputs": [],
   "source": []
  }
 ],
 "metadata": {
  "kernelspec": {
   "display_name": "vscode-env",
   "language": "python",
   "name": "python3"
  },
  "language_info": {
   "codemirror_mode": {
    "name": "ipython",
    "version": 3
   },
   "file_extension": ".py",
   "mimetype": "text/x-python",
   "name": "python",
   "nbconvert_exporter": "python",
   "pygments_lexer": "ipython3",
   "version": "3.12.1"
  }
 },
 "nbformat": 4,
 "nbformat_minor": 2
}
