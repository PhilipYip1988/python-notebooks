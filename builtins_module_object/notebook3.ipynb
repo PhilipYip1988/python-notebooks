{
 "cells": [
  {
   "cell_type": "markdown",
   "metadata": {},
   "source": [
    "## IPython Basics"
   ]
  },
  {
   "cell_type": "markdown",
   "metadata": {},
   "source": [
    "## dir Function"
   ]
  },
  {
   "cell_type": "markdown",
   "metadata": {},
   "source": [
    "In Python, the directory function ```dir``` treats identifiers as a directories. The function can be used to view a list of identifier names in the current scope:"
   ]
  },
  {
   "cell_type": "code",
   "execution_count": 1,
   "metadata": {},
   "outputs": [
    {
     "name": "stdout",
     "output_type": "stream",
     "text": [
      "\u001b[1;31mDocstring:\u001b[0m\n",
      "Show attributes of an object.\n",
      "\n",
      "If called without an argument, return the names in the current scope.\n",
      "Else, return an alphabetized list of names comprising (some of) the attributes\n",
      "of the given object, and of attributes reachable from it.\n",
      "If the object supplies a method named __dir__, it will be used; otherwise\n",
      "the default dir() logic is used and returns:\n",
      "  for a module object: the module's attributes.\n",
      "  for a class object:  its attributes, and recursively the attributes\n",
      "    of its bases.\n",
      "  for any other object: its attributes, its class's attributes, and\n",
      "    recursively the attributes of its class's base classes.\n",
      "\u001b[1;31mType:\u001b[0m      builtin_function_or_method"
     ]
    }
   ],
   "source": [
    "dir?"
   ]
  },
  {
   "cell_type": "code",
   "execution_count": 2,
   "metadata": {},
   "outputs": [
    {
     "data": {
      "text/plain": [
       "['In',\n",
       " 'Out',\n",
       " '_',\n",
       " '__',\n",
       " '___',\n",
       " '__builtin__',\n",
       " '__builtins__',\n",
       " '__doc__',\n",
       " '__loader__',\n",
       " '__name__',\n",
       " '__package__',\n",
       " '__spec__',\n",
       " '__vsc_ipynb_file__',\n",
       " '_dh',\n",
       " '_i',\n",
       " '_i1',\n",
       " '_i2',\n",
       " '_ih',\n",
       " '_ii',\n",
       " '_iii',\n",
       " '_oh',\n",
       " 'exit',\n",
       " 'get_ipython',\n",
       " 'open',\n",
       " 'quit']"
      ]
     },
     "execution_count": 2,
     "metadata": {},
     "output_type": "execute_result"
    }
   ],
   "source": [
    "dir()"
   ]
  },
  {
   "cell_type": "markdown",
   "metadata": {},
   "source": [
    "When ```dir``` is used, the identifiers above unfortunately aren't grouped by category. To do so a custom function ```dir2``` will be imported from a custom module called ```categorize_identifiers```, that is in the same folder as the interactive Python notebook file: "
   ]
  },
  {
   "cell_type": "code",
   "execution_count": 3,
   "metadata": {},
   "outputs": [],
   "source": [
    "from categorize_identifiers import dir2"
   ]
  },
  {
   "cell_type": "markdown",
   "metadata": {},
   "source": [
    "The ```dir2``` function will pretty print the list of identifiers above in a ```dict``` format grouped by category:"
   ]
  },
  {
   "cell_type": "code",
   "execution_count": 4,
   "metadata": {},
   "outputs": [
    {
     "name": "stdout",
     "output_type": "stream",
     "text": [
      "{'constant': ['In', 'Out'],\n",
      " 'method': ['get_ipython', 'exit', 'quit', 'open', 'dir2'],\n",
      " 'datamodel_attribute': ['__name__',\n",
      "                         '__doc__',\n",
      "                         '__package__',\n",
      "                         '__loader__',\n",
      "                         '__spec__',\n",
      "                         '__builtin__',\n",
      "                         '__builtins__',\n",
      "                         '__vsc_ipynb_file__'],\n",
      " 'internal_attribute': ['_ih',\n",
      "                        '_oh',\n",
      "                        '_dh',\n",
      "                        '_',\n",
      "                        '__',\n",
      "                        '___',\n",
      "                        '_i',\n",
      "                        '_ii',\n",
      "                        '_iii',\n",
      "                        '_i1',\n",
      "                        '_i2',\n",
      "                        '_2',\n",
      "                        '_i3',\n",
      "                        '_i4']}\n"
     ]
    }
   ],
   "source": [
    "dir2()"
   ]
  },
  {
   "cell_type": "markdown",
   "metadata": {},
   "source": [
    "## IPython Identifiers"
   ]
  },
  {
   "cell_type": "markdown",
   "metadata": {},
   "source": [
    "Many of the identifiers listed here are additions from IPython and relate to previously input and output values. In particular:\n",
    "\n",
    "|internal attribute|meaning|description|alias|\n",
    "|---|---|---|---|\n",
    "|\\_ih|input history|list of input history|In|\n",
    "|\\_oh|output history|dict of output history, key is ipython cell, value is cell output. items are only added to the dict when the cell has an output.|Out|\n",
    "|\\_1|output for cell 1|output for cell 1, only exists when cell 1 has an output|\n",
    "|\\_2|output for cell 2|output for cell 2, only exists when cell 2 has an output|\n",
    "|\\_3|output for cell 3|output for cell 3, only exists when cell 3 has an output|\n",
    "|\\_i|last input|||\n",
    "|\\_|last output|||\n",
    "|\\_ii|2nd last input|||\n",
    "|\\_\\_|2nd last output|||\n",
    "|\\_iii|3rd last input|||\n",
    "|\\_\\_\\_|3rd last output|||"
   ]
  },
  {
   "cell_type": "markdown",
   "metadata": {},
   "source": [
    "Note that there is a difference between a function that has a ```return``` value and a function that has a ```print``` statement:"
   ]
  },
  {
   "cell_type": "code",
   "execution_count": 5,
   "metadata": {},
   "outputs": [],
   "source": [
    "def fun_r():\n",
    "    return 'hello world!' \n",
    "\n",
    "def fun_p():\n",
    "    print('hello world!')"
   ]
  },
  {
   "cell_type": "markdown",
   "metadata": {},
   "source": [
    "When these functions are called without assignment. The behaviour of the first function is to display the return value in the cell:"
   ]
  },
  {
   "cell_type": "code",
   "execution_count": 6,
   "metadata": {},
   "outputs": [
    {
     "data": {
      "text/plain": [
       "'hello world!'"
      ]
     },
     "execution_count": 6,
     "metadata": {},
     "output_type": "execute_result"
    }
   ],
   "source": [
    "fun_r()"
   ]
  },
  {
   "cell_type": "markdown",
   "metadata": {},
   "source": [
    "When assignment of the function call is made to a variable, there is no cell output:"
   ]
  },
  {
   "cell_type": "code",
   "execution_count": 7,
   "metadata": {},
   "outputs": [],
   "source": [
    "return_val_r = fun_r()"
   ]
  },
  {
   "cell_type": "markdown",
   "metadata": {},
   "source": [
    "The behaviour of the second function is to always ```print``` the value. printing looks similar to the cell output however notice that the formatting characters ```''``` which enclose the ```str``` instance are processed and not shown when printed:"
   ]
  },
  {
   "cell_type": "code",
   "execution_count": 8,
   "metadata": {},
   "outputs": [
    {
     "name": "stdout",
     "output_type": "stream",
     "text": [
      "hello world!\n"
     ]
    }
   ],
   "source": [
    "fun_p()"
   ]
  },
  {
   "cell_type": "markdown",
   "metadata": {},
   "source": [
    "Notice when the second function call is assigned to a variable that the second function continues to ```print```:"
   ]
  },
  {
   "cell_type": "code",
   "execution_count": 9,
   "metadata": {},
   "outputs": [
    {
     "name": "stdout",
     "output_type": "stream",
     "text": [
      "hello world!\n"
     ]
    }
   ],
   "source": [
    "return_val_p = fun_p()"
   ]
  },
  {
   "cell_type": "markdown",
   "metadata": {},
   "source": [
    "Notice that the value of ```return_val_p``` is ```None``` because the function ```fun_p``` has no ```return``` value:"
   ]
  },
  {
   "cell_type": "code",
   "execution_count": 10,
   "metadata": {},
   "outputs": [
    {
     "data": {
      "text/plain": [
       "True"
      ]
     },
     "execution_count": 10,
     "metadata": {},
     "output_type": "execute_result"
    }
   ],
   "source": [
    "return_val_p == None"
   ]
  },
  {
   "cell_type": "markdown",
   "metadata": {},
   "source": [
    "The purpose of parenthesis during a function call is to provide a function with input data to work on. The following function can be defined which has a parameter with a default value ```'world!'```"
   ]
  },
  {
   "cell_type": "code",
   "execution_count": 11,
   "metadata": {},
   "outputs": [],
   "source": [
    "def fun_r(parameter='world'):\n",
    "    return f'hello {parameter}!' "
   ]
  },
  {
   "cell_type": "markdown",
   "metadata": {},
   "source": [
    "This function can be used as before:"
   ]
  },
  {
   "cell_type": "code",
   "execution_count": 12,
   "metadata": {},
   "outputs": [
    {
     "data": {
      "text/plain": [
       "'hello world!'"
      ]
     },
     "execution_count": 12,
     "metadata": {},
     "output_type": "execute_result"
    }
   ],
   "source": [
    "fun_r()"
   ]
  },
  {
   "cell_type": "markdown",
   "metadata": {},
   "source": [
    "However ```parameter``` can be assigned to a new value:"
   ]
  },
  {
   "cell_type": "code",
   "execution_count": 13,
   "metadata": {},
   "outputs": [
    {
     "data": {
      "text/plain": [
       "'hello earth!!'"
      ]
     },
     "execution_count": 13,
     "metadata": {},
     "output_type": "execute_result"
    }
   ],
   "source": [
    "fun_r(parameter='earth!')"
   ]
  },
  {
   "cell_type": "markdown",
   "metadata": {},
   "source": [
    "```functions``` can also be referenced, which does not perform any action but merely reads off details about the function:"
   ]
  },
  {
   "cell_type": "code",
   "execution_count": 14,
   "metadata": {},
   "outputs": [
    {
     "data": {
      "text/plain": [
       "<function __main__.fun_r(parameter='world')>"
      ]
     },
     "execution_count": 14,
     "metadata": {},
     "output_type": "execute_result"
    }
   ],
   "source": [
    "fun_r"
   ]
  },
  {
   "cell_type": "markdown",
   "metadata": {},
   "source": [
    "**identifiers** can be **functions** or **instances**; functions are typically called using parenthesis but can be referenced whereas instances are normally just referenced.\n",
    "\n",
    "A **function** that is bound to another instance (and accessed via that instance) is known as a **method**:"
   ]
  },
  {
   "cell_type": "code",
   "execution_count": 15,
   "metadata": {},
   "outputs": [
    {
     "data": {
      "text/plain": [
       "'HELLO'"
      ]
     },
     "execution_count": 15,
     "metadata": {},
     "output_type": "execute_result"
    }
   ],
   "source": [
    "'hello'.upper()"
   ]
  },
  {
   "cell_type": "markdown",
   "metadata": {},
   "source": [
    "An **instance** that is bound to another instance (and accessed via that instance) is known as an **attribute**:"
   ]
  },
  {
   "cell_type": "code",
   "execution_count": 16,
   "metadata": {},
   "outputs": [
    {
     "data": {
      "text/plain": [
       "str"
      ]
     },
     "execution_count": 16,
     "metadata": {},
     "output_type": "execute_result"
    }
   ],
   "source": [
    "'hello'.__class__"
   ]
  },
  {
   "cell_type": "markdown",
   "metadata": {},
   "source": [
    "There are subtle differences in the five terms above and functions/methods and instances/attributes are often used interchangable with identifiers being the umbrella term."
   ]
  },
  {
   "cell_type": "markdown",
   "metadata": {},
   "source": [
    "The IPython internal instances can be examined. Notice that ```_oh``` only has the keys ```2```, ```6```, ```10```, ```12```, ```14```, ```15``` and ```16``` because these are the only cells that ```return``` a value (to the cell output):"
   ]
  },
  {
   "cell_type": "code",
   "execution_count": 17,
   "metadata": {},
   "outputs": [
    {
     "name": "stdout",
     "output_type": "stream",
     "text": [
      "_2 ['In', 'Out', '_', '__', '___', '__builtin__', '__builtins__', '__doc__', '__loader__', '__name__', '__package__', '__spec__', '__vsc_ipynb_file__', '_dh', '_i', '_i1', '_i2', '_ih', '_ii', '_iii', '_oh', 'exit', 'get_ipython', 'open', 'quit']\n",
      "\n",
      "_ih ['', \"get_ipython().run_line_magic('pinfo', 'dir')\", 'dir()', 'from categorize_identifiers import dir2', 'dir2()', \"def fun_r():\\n    return 'hello world!' \\n\\ndef fun_p():\\n    print('hello world!')\", 'fun_r()', 'return_val_r = fun_r()', 'fun_p()', 'return_val_p = fun_p()', 'return_val_p == None', \"def fun_r(parameter='world'):\\n    return f'hello {parameter}!' \", 'fun_r()', \"fun_r(parameter='earth!')\", 'fun_r', \"'hello'.upper()\", \"'hello'.__class__\", \"print('_2', _2)\\nprint()\\nprint('_ih', _ih)\\nprint()\\nprint('_oh', _oh)\\nprint()\\nprint('_dh', _dh)\"]\n",
      "\n",
      "_oh {2: ['In', 'Out', '_', '__', '___', '__builtin__', '__builtins__', '__doc__', '__loader__', '__name__', '__package__', '__spec__', '__vsc_ipynb_file__', '_dh', '_i', '_i1', '_i2', '_ih', '_ii', '_iii', '_oh', 'exit', 'get_ipython', 'open', 'quit'], 6: 'hello world!', 10: True, 12: 'hello world!', 13: 'hello earth!!', 14: <function fun_r at 0x000002506CAC18A0>, 15: 'HELLO', 16: <class 'str'>}\n",
      "\n",
      "_dh [WindowsPath('c:/Users/phili/OneDrive/Documents/GitHub/python-notebooks/builtins_module_object'), WindowsPath('c:/Users/phili/OneDrive/Documents/GitHub/python-notebooks/builtins_module_object')]\n"
     ]
    }
   ],
   "source": [
    "print('_2', _2)\n",
    "print()\n",
    "print('_ih', _ih)\n",
    "print()\n",
    "print('_oh', _oh)\n",
    "print()\n",
    "print('_dh', _dh)"
   ]
  },
  {
   "cell_type": "markdown",
   "metadata": {},
   "source": [
    "```exit``` and ```quit``` are IPython additions to exit the IPython shell. The IPython shell can be exited using:\n",
    "\n",
    "```python\n",
    "exit\n",
    "exit()\n",
    "quit\n",
    "quit()\n",
    "```\n",
    "\n",
    "whereas the Python shell can only be exited using:\n",
    "\n",
    "```python\n",
    "exit()\n",
    "```\n",
    "\n",
    "```open``` is also available in the namespace directly to make it easier to ```open``` files."
   ]
  },
  {
   "cell_type": "markdown",
   "metadata": {},
   "source": [
    "## Datamodel Identifiers"
   ]
  },
  {
   "cell_type": "markdown",
   "metadata": {},
   "source": [
    "The identifiers starting and ending with a **d**ouble **under**score are known colloquially as dunder identifiers. The official term is datamodel identifiers as they follow a consistent design pattern. Python uses object orientated programming and everything in Python is based on an ```object```:"
   ]
  },
  {
   "cell_type": "code",
   "execution_count": 18,
   "metadata": {},
   "outputs": [
    {
     "name": "stdout",
     "output_type": "stream",
     "text": [
      "{'attribute': ['return_val_r', 'return_val_p'],\n",
      " 'constant': ['In', 'Out'],\n",
      " 'method': ['get_ipython', 'exit', 'quit', 'open', 'dir2', 'fun_r', 'fun_p'],\n",
      " 'datamodel_attribute': ['__name__',\n",
      "                         '__doc__',\n",
      "                         '__package__',\n",
      "                         '__loader__',\n",
      "                         '__spec__',\n",
      "                         '__builtin__',\n",
      "                         '__builtins__',\n",
      "                         '__vsc_ipynb_file__'],\n",
      " 'internal_attribute': ['_ih',\n",
      "                        '_oh',\n",
      "                        '_dh',\n",
      "                        '__',\n",
      "                        '_i',\n",
      "                        '_ii',\n",
      "                        '_iii',\n",
      "                        '_i1',\n",
      "                        '_i2',\n",
      "                        '_2',\n",
      "                        '_i3',\n",
      "                        '_i4',\n",
      "                        '_i5',\n",
      "                        '_i6',\n",
      "                        '_6',\n",
      "                        '_i7',\n",
      "                        '_i8',\n",
      "                        '_i9',\n",
      "                        '_i10',\n",
      "                        '_10',\n",
      "                        '_i11',\n",
      "                        '_i12',\n",
      "                        '_12',\n",
      "                        '_i13',\n",
      "                        '_13',\n",
      "                        '_i14',\n",
      "                        '_i15',\n",
      "                        '_15',\n",
      "                        '_i16',\n",
      "                        '_i17',\n",
      "                        '_i18'],\n",
      " 'internal_method': ['_', '___', '_14', '_16']}\n"
     ]
    }
   ],
   "source": [
    "dir2()"
   ]
  },
  {
   "cell_type": "markdown",
   "metadata": {},
   "source": [
    "The ```__name__``` (*dunder name*) gives the name of the notebook or script file being executed:"
   ]
  },
  {
   "cell_type": "code",
   "execution_count": 19,
   "metadata": {},
   "outputs": [
    {
     "data": {
      "text/plain": [
       "'__main__'"
      ]
     },
     "execution_count": 19,
     "metadata": {},
     "output_type": "execute_result"
    }
   ],
   "source": [
    "__name__"
   ]
  },
  {
   "cell_type": "markdown",
   "metadata": {},
   "source": [
    "When Python is being directly executed from the notebook or a script file, its name is ```'__main__'```, when it is imported ```__name__``` will match the file name without any file extension."
   ]
  },
  {
   "cell_type": "code",
   "execution_count": 20,
   "metadata": {},
   "outputs": [
    {
     "name": "stdout",
     "output_type": "stream",
     "text": [
      "code is executed directly\n"
     ]
    }
   ],
   "source": [
    "if __name__ == '__main__':\n",
    "    print('code is executed directly')\n",
    "else:\n",
    "    print('code was imported')"
   ]
  },
  {
   "cell_type": "markdown",
   "metadata": {},
   "source": [
    "The ```__doc__``` (*dunder doc*) is the docstring of the module or notebook file which is a ```str``` instance:"
   ]
  },
  {
   "cell_type": "code",
   "execution_count": 21,
   "metadata": {},
   "outputs": [
    {
     "data": {
      "text/plain": [
       "'Automatically created module for IPython interactive environment'"
      ]
     },
     "execution_count": 21,
     "metadata": {},
     "output_type": "execute_result"
    }
   ],
   "source": [
    "__doc__"
   ]
  },
  {
   "cell_type": "markdown",
   "metadata": {},
   "source": [
    "The docstring for the notebook file is automatically generated."
   ]
  },
  {
   "cell_type": "code",
   "execution_count": 22,
   "metadata": {},
   "outputs": [
    {
     "data": {
      "text/plain": [
       "True"
      ]
     },
     "execution_count": 22,
     "metadata": {},
     "output_type": "execute_result"
    }
   ],
   "source": [
    "__package__ == None"
   ]
  },
  {
   "cell_type": "code",
   "execution_count": 23,
   "metadata": {},
   "outputs": [
    {
     "data": {
      "text/plain": [
       "True"
      ]
     },
     "execution_count": 23,
     "metadata": {},
     "output_type": "execute_result"
    }
   ],
   "source": [
    "__loader__ == None"
   ]
  },
  {
   "cell_type": "code",
   "execution_count": 24,
   "metadata": {},
   "outputs": [
    {
     "data": {
      "text/plain": [
       "True"
      ]
     },
     "execution_count": 24,
     "metadata": {},
     "output_type": "execute_result"
    }
   ],
   "source": [
    "__spec__ == None"
   ]
  },
  {
   "cell_type": "markdown",
   "metadata": {},
   "source": [
    "## \\_\\_builtins\\_\\_"
   ]
  },
  {
   "cell_type": "markdown",
   "metadata": {},
   "source": [
    "Every Python notebook and script file has access to the identifiers in Pythons ```builtins``` module. These can be accessed directly or using the ```__builtins__``` attribute:"
   ]
  },
  {
   "cell_type": "code",
   "execution_count": 25,
   "metadata": {},
   "outputs": [
    {
     "name": "stdout",
     "output_type": "stream",
     "text": [
      "{'constant': ['Ellipsis', 'False', 'None', 'NotImplemented', 'True'],\n",
      " 'method': ['abs',\n",
      "            'aiter',\n",
      "            'all',\n",
      "            'anext',\n",
      "            'any',\n",
      "            'ascii',\n",
      "            'bin',\n",
      "            'breakpoint',\n",
      "            'callable',\n",
      "            'chr',\n",
      "            'compile',\n",
      "            'copyright',\n",
      "            'credits',\n",
      "            'delattr',\n",
      "            'dir',\n",
      "            'display',\n",
      "            'divmod',\n",
      "            'eval',\n",
      "            'exec',\n",
      "            'execfile',\n",
      "            'format',\n",
      "            'get_ipython',\n",
      "            'getattr',\n",
      "            'globals',\n",
      "            'hasattr',\n",
      "            'hash',\n",
      "            'help',\n",
      "            'hex',\n",
      "            'id',\n",
      "            'input',\n",
      "            'isinstance',\n",
      "            'issubclass',\n",
      "            'iter',\n",
      "            'len',\n",
      "            'license',\n",
      "            'locals',\n",
      "            'max',\n",
      "            'min',\n",
      "            'next',\n",
      "            'oct',\n",
      "            'open',\n",
      "            'ord',\n",
      "            'pow',\n",
      "            'print',\n",
      "            'repr',\n",
      "            'round',\n",
      "            'runfile',\n",
      "            'setattr',\n",
      "            'sorted',\n",
      "            'sum',\n",
      "            'vars'],\n",
      " 'lower_class': ['bool',\n",
      "                 'bytearray',\n",
      "                 'bytes',\n",
      "                 'classmethod',\n",
      "                 'complex',\n",
      "                 'dict',\n",
      "                 'enumerate',\n",
      "                 'filter',\n",
      "                 'float',\n",
      "                 'frozenset',\n",
      "                 'int',\n",
      "                 'list',\n",
      "                 'map',\n",
      "                 'memoryview',\n",
      "                 'object',\n",
      "                 'property',\n",
      "                 'range',\n",
      "                 'reversed',\n",
      "                 'set',\n",
      "                 'slice',\n",
      "                 'staticmethod',\n",
      "                 'str',\n",
      "                 'super',\n",
      "                 'tuple',\n",
      "                 'type',\n",
      "                 'zip'],\n",
      " 'upper_class': ['ArithmeticError',\n",
      "                 'AssertionError',\n",
      "                 'AttributeError',\n",
      "                 'BaseException',\n",
      "                 'BaseExceptionGroup',\n",
      "                 'BlockingIOError',\n",
      "                 'BrokenPipeError',\n",
      "                 'BufferError',\n",
      "                 'BytesWarning',\n",
      "                 'ChildProcessError',\n",
      "                 'ConnectionAbortedError',\n",
      "                 'ConnectionError',\n",
      "                 'ConnectionRefusedError',\n",
      "                 'ConnectionResetError',\n",
      "                 'DeprecationWarning',\n",
      "                 'EOFError',\n",
      "                 'EncodingWarning',\n",
      "                 'EnvironmentError',\n",
      "                 'Exception',\n",
      "                 'ExceptionGroup',\n",
      "                 'FileExistsError',\n",
      "                 'FileNotFoundError',\n",
      "                 'FloatingPointError',\n",
      "                 'FutureWarning',\n",
      "                 'GeneratorExit',\n",
      "                 'IOError',\n",
      "                 'ImportError',\n",
      "                 'ImportWarning',\n",
      "                 'IndentationError',\n",
      "                 'IndexError',\n",
      "                 'InterruptedError',\n",
      "                 'IsADirectoryError',\n",
      "                 'KeyError',\n",
      "                 'KeyboardInterrupt',\n",
      "                 'LookupError',\n",
      "                 'MemoryError',\n",
      "                 'ModuleNotFoundError',\n",
      "                 'NameError',\n",
      "                 'NotADirectoryError',\n",
      "                 'NotImplementedError',\n",
      "                 'OSError',\n",
      "                 'OverflowError',\n",
      "                 'PendingDeprecationWarning',\n",
      "                 'PermissionError',\n",
      "                 'ProcessLookupError',\n",
      "                 'RecursionError',\n",
      "                 'ReferenceError',\n",
      "                 'ResourceWarning',\n",
      "                 'RuntimeError',\n",
      "                 'RuntimeWarning',\n",
      "                 'StopAsyncIteration',\n",
      "                 'StopIteration',\n",
      "                 'SyntaxError',\n",
      "                 'SyntaxWarning',\n",
      "                 'SystemError',\n",
      "                 'SystemExit',\n",
      "                 'TabError',\n",
      "                 'TimeoutError',\n",
      "                 'TypeError',\n",
      "                 'UnboundLocalError',\n",
      "                 'UnicodeDecodeError',\n",
      "                 'UnicodeEncodeError',\n",
      "                 'UnicodeError',\n",
      "                 'UnicodeTranslateError',\n",
      "                 'UnicodeWarning',\n",
      "                 'UserWarning',\n",
      "                 'ValueError',\n",
      "                 'Warning',\n",
      "                 'WindowsError',\n",
      "                 'ZeroDivisionError'],\n",
      " 'datamodel_attribute': ['__IPYTHON__',\n",
      "                         '__debug__',\n",
      "                         '__doc__',\n",
      "                         '__name__',\n",
      "                         '__package__',\n",
      "                         '__spec__'],\n",
      " 'datamodel_method': ['__build_class__', '__import__', '__loader__']}\n"
     ]
    }
   ],
   "source": [
    "dir2(__builtins__)"
   ]
  },
  {
   "cell_type": "markdown",
   "metadata": {},
   "source": [
    "Notice the categories below:\n",
    "\n",
    "* attribute (instances)\n",
    "  * constant\n",
    "* method (function)\n",
    "    * datamodel method\n",
    "* class\n",
    "  * lower class\n",
    "  * upper class\n",
    "\n",
    "The builtins identifiers are normally called instances and functions however the terms attributes and methods are just as valid as they are identifiers defined in the ```builtins``` module."
   ]
  },
  {
   "cell_type": "markdown",
   "metadata": {},
   "source": [
    "For the ```builtins``` module all the attributes are constants and in uppercase:"
   ]
  },
  {
   "cell_type": "code",
   "execution_count": 26,
   "metadata": {},
   "outputs": [
    {
     "data": {
      "text/plain": [
       "['Ellipsis', 'False', 'None', 'NotImplemented', 'True']"
      ]
     },
     "execution_count": 26,
     "metadata": {},
     "output_type": "execute_result"
    }
   ],
   "source": [
    "dir2(__builtins__, print_output=False)['constant']"
   ]
  },
  {
   "cell_type": "markdown",
   "metadata": {},
   "source": [
    "For example the constants ```True``` and ```False``` are the only two instances of the ```bool``` class:"
   ]
  },
  {
   "cell_type": "code",
   "execution_count": 27,
   "metadata": {},
   "outputs": [
    {
     "data": {
      "text/plain": [
       "(True, bool)"
      ]
     },
     "execution_count": 27,
     "metadata": {},
     "output_type": "execute_result"
    }
   ],
   "source": [
    "True, type(True)"
   ]
  },
  {
   "cell_type": "code",
   "execution_count": 28,
   "metadata": {},
   "outputs": [
    {
     "data": {
      "text/plain": [
       "(False, bool)"
      ]
     },
     "execution_count": 28,
     "metadata": {},
     "output_type": "execute_result"
    }
   ],
   "source": [
    "False, type(False)"
   ]
  },
  {
   "cell_type": "markdown",
   "metadata": {},
   "source": [
    "And ```None``` is the solo instance of the ```NoneType``` class:"
   ]
  },
  {
   "cell_type": "code",
   "execution_count": 29,
   "metadata": {},
   "outputs": [
    {
     "data": {
      "text/plain": [
       "(None, NoneType)"
      ]
     },
     "execution_count": 29,
     "metadata": {},
     "output_type": "execute_result"
    }
   ],
   "source": [
    "None, type(None)"
   ]
  },
  {
   "cell_type": "markdown",
   "metadata": {},
   "source": [
    "In Python ```PascalCase``` is typically used for third-party classes. In ```builtins``` however the most the commonly used classes are in lower case and the classes typically have a shorthand way of instantiating an instance with data:"
   ]
  },
  {
   "cell_type": "code",
   "execution_count": 30,
   "metadata": {},
   "outputs": [
    {
     "data": {
      "text/plain": [
       "['bool',\n",
       " 'bytearray',\n",
       " 'bytes',\n",
       " 'classmethod',\n",
       " 'complex',\n",
       " 'dict',\n",
       " 'enumerate',\n",
       " 'filter',\n",
       " 'float',\n",
       " 'frozenset',\n",
       " 'int',\n",
       " 'list',\n",
       " 'map',\n",
       " 'memoryview',\n",
       " 'object',\n",
       " 'property',\n",
       " 'range',\n",
       " 'reversed',\n",
       " 'set',\n",
       " 'slice',\n",
       " 'staticmethod',\n",
       " 'str',\n",
       " 'super',\n",
       " 'tuple',\n",
       " 'type',\n",
       " 'zip']"
      ]
     },
     "execution_count": 30,
     "metadata": {},
     "output_type": "execute_result"
    }
   ],
   "source": [
    "dir2(__builtins__, print_output=False)['lower_class']"
   ]
  },
  {
   "cell_type": "markdown",
   "metadata": {},
   "source": [
    "The class themselves act as functions which cast data from one ```builtins``` class to another:"
   ]
  },
  {
   "cell_type": "code",
   "execution_count": 31,
   "metadata": {},
   "outputs": [
    {
     "data": {
      "text/plain": [
       "('hello', str)"
      ]
     },
     "execution_count": 31,
     "metadata": {},
     "output_type": "execute_result"
    }
   ],
   "source": [
    "'hello', type('hello')"
   ]
  },
  {
   "cell_type": "code",
   "execution_count": 32,
   "metadata": {},
   "outputs": [
    {
     "data": {
      "text/plain": [
       "('2', int, str)"
      ]
     },
     "execution_count": 32,
     "metadata": {},
     "output_type": "execute_result"
    }
   ],
   "source": [
    "str(2), type(2), type(str(2))"
   ]
  },
  {
   "cell_type": "markdown",
   "metadata": {},
   "source": [
    "The classes in ```builtins``` that are in ```PascalCase``` are the error classes which will be raised when a problem is encountered. These are not normally instantiated directly by the user but will be encountered a lot when getting started with Python:"
   ]
  },
  {
   "cell_type": "code",
   "execution_count": 33,
   "metadata": {},
   "outputs": [
    {
     "data": {
      "text/plain": [
       "['ArithmeticError',\n",
       " 'AssertionError',\n",
       " 'AttributeError',\n",
       " 'BaseException',\n",
       " 'BaseExceptionGroup',\n",
       " 'BlockingIOError',\n",
       " 'BrokenPipeError',\n",
       " 'BufferError',\n",
       " 'BytesWarning',\n",
       " 'ChildProcessError',\n",
       " 'ConnectionAbortedError',\n",
       " 'ConnectionError',\n",
       " 'ConnectionRefusedError',\n",
       " 'ConnectionResetError',\n",
       " 'DeprecationWarning',\n",
       " 'EOFError',\n",
       " 'EncodingWarning',\n",
       " 'EnvironmentError',\n",
       " 'Exception',\n",
       " 'ExceptionGroup',\n",
       " 'FileExistsError',\n",
       " 'FileNotFoundError',\n",
       " 'FloatingPointError',\n",
       " 'FutureWarning',\n",
       " 'GeneratorExit',\n",
       " 'IOError',\n",
       " 'ImportError',\n",
       " 'ImportWarning',\n",
       " 'IndentationError',\n",
       " 'IndexError',\n",
       " 'InterruptedError',\n",
       " 'IsADirectoryError',\n",
       " 'KeyError',\n",
       " 'KeyboardInterrupt',\n",
       " 'LookupError',\n",
       " 'MemoryError',\n",
       " 'ModuleNotFoundError',\n",
       " 'NameError',\n",
       " 'NotADirectoryError',\n",
       " 'NotImplementedError',\n",
       " 'OSError',\n",
       " 'OverflowError',\n",
       " 'PendingDeprecationWarning',\n",
       " 'PermissionError',\n",
       " 'ProcessLookupError',\n",
       " 'RecursionError',\n",
       " 'ReferenceError',\n",
       " 'ResourceWarning',\n",
       " 'RuntimeError',\n",
       " 'RuntimeWarning',\n",
       " 'StopAsyncIteration',\n",
       " 'StopIteration',\n",
       " 'SyntaxError',\n",
       " 'SyntaxWarning',\n",
       " 'SystemError',\n",
       " 'SystemExit',\n",
       " 'TabError',\n",
       " 'TimeoutError',\n",
       " 'TypeError',\n",
       " 'UnboundLocalError',\n",
       " 'UnicodeDecodeError',\n",
       " 'UnicodeEncodeError',\n",
       " 'UnicodeError',\n",
       " 'UnicodeTranslateError',\n",
       " 'UnicodeWarning',\n",
       " 'UserWarning',\n",
       " 'ValueError',\n",
       " 'Warning',\n",
       " 'WindowsError',\n",
       " 'ZeroDivisionError']"
      ]
     },
     "execution_count": 33,
     "metadata": {},
     "output_type": "execute_result"
    }
   ],
   "source": [
    "dir2(__builtins__, print_output=False)['upper_class']"
   ]
  },
  {
   "cell_type": "markdown",
   "metadata": {},
   "source": [
    "## The object "
   ]
  },
  {
   "cell_type": "markdown",
   "metadata": {},
   "source": [
    "Everything in Python is based on the ```object``` base class. If its identifiers are examined, notice that most of these are datamodel identifiers:"
   ]
  },
  {
   "cell_type": "code",
   "execution_count": 34,
   "metadata": {},
   "outputs": [
    {
     "name": "stdout",
     "output_type": "stream",
     "text": [
      "{'datamodel_attribute': ['__doc__'],\n",
      " 'datamodel_method': ['__class__',\n",
      "                      '__delattr__',\n",
      "                      '__dir__',\n",
      "                      '__eq__',\n",
      "                      '__format__',\n",
      "                      '__ge__',\n",
      "                      '__getattribute__',\n",
      "                      '__getstate__',\n",
      "                      '__gt__',\n",
      "                      '__hash__',\n",
      "                      '__init__',\n",
      "                      '__init_subclass__',\n",
      "                      '__le__',\n",
      "                      '__lt__',\n",
      "                      '__ne__',\n",
      "                      '__new__',\n",
      "                      '__reduce__',\n",
      "                      '__reduce_ex__',\n",
      "                      '__repr__',\n",
      "                      '__setattr__',\n",
      "                      '__sizeof__',\n",
      "                      '__str__',\n",
      "                      '__subclasshook__']}\n"
     ]
    }
   ],
   "source": [
    "dir2(object)"
   ]
  },
  {
   "cell_type": "markdown",
   "metadata": {},
   "source": [
    "Although most of these datamodel identifiers are defined in the ```object``` class, they are not typically used directly. Instead an equivalent function is used from ```builtins``` or operator:"
   ]
  },
  {
   "cell_type": "code",
   "execution_count": 35,
   "metadata": {},
   "outputs": [
    {
     "name": "stdout",
     "output_type": "stream",
     "text": [
      "{'method': ['abs',\n",
      "            'aiter',\n",
      "            'all',\n",
      "            'anext',\n",
      "            'any',\n",
      "            'ascii',\n",
      "            'bin',\n",
      "            'breakpoint',\n",
      "            'callable',\n",
      "            'chr',\n",
      "            'compile',\n",
      "            'copyright',\n",
      "            'credits',\n",
      "            'delattr',\n",
      "            'dir',\n",
      "            'display',\n",
      "            'divmod',\n",
      "            'eval',\n",
      "            'exec',\n",
      "            'execfile',\n",
      "            'format',\n",
      "            'get_ipython',\n",
      "            'getattr',\n",
      "            'globals',\n",
      "            'hasattr',\n",
      "            'hash',\n",
      "            'help',\n",
      "            'hex',\n",
      "            'id',\n",
      "            'input',\n",
      "            'isinstance',\n",
      "            'issubclass',\n",
      "            'iter',\n",
      "            'len',\n",
      "            'license',\n",
      "            'locals',\n",
      "            'max',\n",
      "            'min',\n",
      "            'next',\n",
      "            'oct',\n",
      "            'open',\n",
      "            'ord',\n",
      "            'pow',\n",
      "            'print',\n",
      "            'repr',\n",
      "            'round',\n",
      "            'runfile',\n",
      "            'setattr',\n",
      "            'sorted',\n",
      "            'sum',\n",
      "            'vars'],\n",
      " 'lower_class': ['bool',\n",
      "                 'bytearray',\n",
      "                 'bytes',\n",
      "                 'classmethod',\n",
      "                 'complex',\n",
      "                 'dict',\n",
      "                 'enumerate',\n",
      "                 'filter',\n",
      "                 'float',\n",
      "                 'frozenset',\n",
      "                 'int',\n",
      "                 'list',\n",
      "                 'map',\n",
      "                 'memoryview',\n",
      "                 'object',\n",
      "                 'property',\n",
      "                 'range',\n",
      "                 'reversed',\n",
      "                 'set',\n",
      "                 'slice',\n",
      "                 'staticmethod',\n",
      "                 'str',\n",
      "                 'super',\n",
      "                 'tuple',\n",
      "                 'type',\n",
      "                 'zip']}\n"
     ]
    }
   ],
   "source": [
    "dir2(__builtins__, show=['method', 'lower_class'])"
   ]
  },
  {
   "cell_type": "code",
   "execution_count": 36,
   "metadata": {},
   "outputs": [
    {
     "name": "stdout",
     "output_type": "stream",
     "text": [
      "{'method': ['abs',\n",
      "            'add',\n",
      "            'and_',\n",
      "            'call',\n",
      "            'concat',\n",
      "            'contains',\n",
      "            'countOf',\n",
      "            'delitem',\n",
      "            'eq',\n",
      "            'floordiv',\n",
      "            'ge',\n",
      "            'getitem',\n",
      "            'gt',\n",
      "            'iadd',\n",
      "            'iand',\n",
      "            'iconcat',\n",
      "            'ifloordiv',\n",
      "            'ilshift',\n",
      "            'imatmul',\n",
      "            'imod',\n",
      "            'imul',\n",
      "            'index',\n",
      "            'indexOf',\n",
      "            'inv',\n",
      "            'invert',\n",
      "            'ior',\n",
      "            'ipow',\n",
      "            'irshift',\n",
      "            'is_',\n",
      "            'is_not',\n",
      "            'isub',\n",
      "            'itruediv',\n",
      "            'ixor',\n",
      "            'le',\n",
      "            'length_hint',\n",
      "            'lshift',\n",
      "            'lt',\n",
      "            'matmul',\n",
      "            'mod',\n",
      "            'mul',\n",
      "            'ne',\n",
      "            'neg',\n",
      "            'not_',\n",
      "            'or_',\n",
      "            'pos',\n",
      "            'pow',\n",
      "            'rshift',\n",
      "            'setitem',\n",
      "            'sub',\n",
      "            'truediv',\n",
      "            'truth',\n",
      "            'xor'],\n",
      " 'lower_class': ['attrgetter', 'itemgetter', 'methodcaller'],\n",
      " 'datamodel_attribute': ['__all__',\n",
      "                         '__builtins__',\n",
      "                         '__cached__',\n",
      "                         '__doc__',\n",
      "                         '__file__',\n",
      "                         '__loader__',\n",
      "                         '__name__',\n",
      "                         '__package__',\n",
      "                         '__spec__'],\n",
      " 'datamodel_method': ['__abs__',\n",
      "                      '__add__',\n",
      "                      '__and__',\n",
      "                      '__call__',\n",
      "                      '__concat__',\n",
      "                      '__contains__',\n",
      "                      '__delitem__',\n",
      "                      '__eq__',\n",
      "                      '__floordiv__',\n",
      "                      '__ge__',\n",
      "                      '__getitem__',\n",
      "                      '__gt__',\n",
      "                      '__iadd__',\n",
      "                      '__iand__',\n",
      "                      '__iconcat__',\n",
      "                      '__ifloordiv__',\n",
      "                      '__ilshift__',\n",
      "                      '__imatmul__',\n",
      "                      '__imod__',\n",
      "                      '__imul__',\n",
      "                      '__index__',\n",
      "                      '__inv__',\n",
      "                      '__invert__',\n",
      "                      '__ior__',\n",
      "                      '__ipow__',\n",
      "                      '__irshift__',\n",
      "                      '__isub__',\n",
      "                      '__itruediv__',\n",
      "                      '__ixor__',\n",
      "                      '__le__',\n",
      "                      '__lshift__',\n",
      "                      '__lt__',\n",
      "                      '__matmul__',\n",
      "                      '__mod__',\n",
      "                      '__mul__',\n",
      "                      '__ne__',\n",
      "                      '__neg__',\n",
      "                      '__not__',\n",
      "                      '__or__',\n",
      "                      '__pos__',\n",
      "                      '__pow__',\n",
      "                      '__rshift__',\n",
      "                      '__setitem__',\n",
      "                      '__sub__',\n",
      "                      '__truediv__',\n",
      "                      '__xor__'],\n",
      " 'internal_method': ['_abs']}\n"
     ]
    }
   ],
   "source": [
    "import operator\n",
    "dir2(operator)"
   ]
  },
  {
   "cell_type": "markdown",
   "metadata": {},
   "source": [
    "In other words, the datamodel method defined in the class defines the behaviour of the ```builtins``` function when used on an instance of the ```object``` class:"
   ]
  },
  {
   "cell_type": "code",
   "execution_count": 37,
   "metadata": {},
   "outputs": [
    {
     "name": "stdout",
     "output_type": "stream",
     "text": [
      "Help on class object in module builtins:\n",
      "\n",
      "class object\n",
      " |  The base class of the class hierarchy.\n",
      " |\n",
      " |  When called, it accepts no arguments and returns a new featureless\n",
      " |  instance that has no instance attributes and cannot be given any.\n",
      " |\n",
      " |  Built-in subclasses:\n",
      " |      anext_awaitable\n",
      " |      async_generator\n",
      " |      async_generator_asend\n",
      " |      async_generator_athrow\n",
      " |      ... and 90 other subclasses\n",
      " |\n",
      " |  Methods defined here:\n",
      " |\n",
      " |  __delattr__(self, name, /)\n",
      " |      Implement delattr(self, name).\n",
      " |\n",
      " |  __dir__(self, /)\n",
      " |      Default dir() implementation.\n",
      " |\n",
      " |  __eq__(self, value, /)\n",
      " |      Return self==value.\n",
      " |\n",
      " |  __format__(self, format_spec, /)\n",
      " |      Default object formatter.\n",
      " |\n",
      " |      Return str(self) if format_spec is empty. Raise TypeError otherwise.\n",
      " |\n",
      " |  __ge__(self, value, /)\n",
      " |      Return self>=value.\n",
      " |\n",
      " |  __getattribute__(self, name, /)\n",
      " |      Return getattr(self, name).\n",
      " |\n",
      " |  __getstate__(self, /)\n",
      " |      Helper for pickle.\n",
      " |\n",
      " |  __gt__(self, value, /)\n",
      " |      Return self>value.\n",
      " |\n",
      " |  __hash__(self, /)\n",
      " |      Return hash(self).\n",
      " |\n",
      " |  __init__(self, /, *args, **kwargs)\n",
      " |      Initialize self.  See help(type(self)) for accurate signature.\n",
      " |\n",
      " |  __le__(self, value, /)\n",
      " |      Return self<=value.\n",
      " |\n",
      " |  __lt__(self, value, /)\n",
      " |      Return self<value.\n",
      " |\n",
      " |  __ne__(self, value, /)\n",
      " |      Return self!=value.\n",
      " |\n",
      " |  __reduce__(self, /)\n",
      " |      Helper for pickle.\n",
      " |\n",
      " |  __reduce_ex__(self, protocol, /)\n",
      " |      Helper for pickle.\n",
      " |\n",
      " |  __repr__(self, /)\n",
      " |      Return repr(self).\n",
      " |\n",
      " |  __setattr__(self, name, value, /)\n",
      " |      Implement setattr(self, name, value).\n",
      " |\n",
      " |  __sizeof__(self, /)\n",
      " |      Size of object in memory, in bytes.\n",
      " |\n",
      " |  __str__(self, /)\n",
      " |      Return str(self).\n",
      " |\n",
      " |  ----------------------------------------------------------------------\n",
      " |  Class methods defined here:\n",
      " |\n",
      " |  __init_subclass__(...) from builtins.type\n",
      " |      This method is called when a class is subclassed.\n",
      " |\n",
      " |      The default implementation does nothing. It may be\n",
      " |      overridden to extend subclasses.\n",
      " |\n",
      " |  __subclasshook__(...) from builtins.type\n",
      " |      Abstract classes can override this to customize issubclass().\n",
      " |\n",
      " |      This is invoked early on by abc.ABCMeta.__subclasscheck__().\n",
      " |      It should return True, False or NotImplemented.  If it returns\n",
      " |      NotImplemented, the normal algorithm is used.  Otherwise, it\n",
      " |      overrides the normal algorithm (and the outcome is cached).\n",
      " |\n",
      " |  ----------------------------------------------------------------------\n",
      " |  Static methods defined here:\n",
      " |\n",
      " |  __new__(*args, **kwargs) from builtins.type\n",
      " |      Create and return a new object.  See help(type) for accurate signature.\n",
      " |\n",
      " |  ----------------------------------------------------------------------\n",
      " |  Data and other attributes defined here:\n",
      " |\n",
      " |  __class__ = <class 'type'>\n",
      " |      type(object) -> the object's type\n",
      " |      type(name, bases, dict, **kwds) -> a new type\n",
      "\n"
     ]
    }
   ],
   "source": [
    "help(object)"
   ]
  },
  {
   "cell_type": "markdown",
   "metadata": {},
   "source": [
    "## \\_\\_doc\\_\\_"
   ]
  },
  {
   "cell_type": "markdown",
   "metadata": {},
   "source": [
    "The datamodel ```__doc__``` is the docstring:"
   ]
  },
  {
   "cell_type": "code",
   "execution_count": 38,
   "metadata": {},
   "outputs": [
    {
     "data": {
      "text/plain": [
       "'The base class of the class hierarchy.\\n\\nWhen called, it accepts no arguments and returns a new featureless\\ninstance that has no instance attributes and cannot be given any.\\n'"
      ]
     },
     "execution_count": 38,
     "metadata": {},
     "output_type": "execute_result"
    }
   ],
   "source": [
    "object.__doc__"
   ]
  },
  {
   "cell_type": "markdown",
   "metadata": {},
   "source": [
    "This is normally accessed in IPython using the ```?``` operator:"
   ]
  },
  {
   "cell_type": "code",
   "execution_count": 39,
   "metadata": {},
   "outputs": [
    {
     "name": "stdout",
     "output_type": "stream",
     "text": [
      "\u001b[1;31mInit signature:\u001b[0m \u001b[0mobject\u001b[0m\u001b[1;33m(\u001b[0m\u001b[1;33m)\u001b[0m\u001b[1;33m\u001b[0m\u001b[1;33m\u001b[0m\u001b[0m\n",
      "\u001b[1;31mDocstring:\u001b[0m     \n",
      "The base class of the class hierarchy.\n",
      "\n",
      "When called, it accepts no arguments and returns a new featureless\n",
      "instance that has no instance attributes and cannot be given any.\n",
      "\u001b[1;31mType:\u001b[0m           type\n",
      "\u001b[1;31mSubclasses:\u001b[0m     type, async_generator, bytearray_iterator, bytearray, bytes_iterator, bytes, builtin_function_or_method, callable_iterator, PyCapsule, cell, ..."
     ]
    }
   ],
   "source": [
    "object?"
   ]
  },
  {
   "cell_type": "markdown",
   "metadata": {},
   "source": [
    "More details can be seen using the ```help``` function."
   ]
  },
  {
   "cell_type": "markdown",
   "metadata": {},
   "source": [
    "## \\_\\_init\\_\\_ and \\_\\_new\\_\\_"
   ]
  },
  {
   "cell_type": "markdown",
   "metadata": {},
   "source": [
    "Each class has an initialisation signature ```__init__``` which is a method used by the constructor ```__new__``` to supply a new instance ```self``` with the instance data when it is constructed. When the ```?``` is used on the class name, the docstring associated with the initialisation signature will show. The docstring for the ```object``` class states that no instance data is required in order to initialise an instance however initialisation data is optional for the ```str``` and ```int``` instances:"
   ]
  },
  {
   "cell_type": "code",
   "execution_count": 40,
   "metadata": {},
   "outputs": [
    {
     "name": "stdout",
     "output_type": "stream",
     "text": [
      "\u001b[1;31mInit signature:\u001b[0m \u001b[0mobject\u001b[0m\u001b[1;33m(\u001b[0m\u001b[1;33m)\u001b[0m\u001b[1;33m\u001b[0m\u001b[1;33m\u001b[0m\u001b[0m\n",
      "\u001b[1;31mDocstring:\u001b[0m     \n",
      "The base class of the class hierarchy.\n",
      "\n",
      "When called, it accepts no arguments and returns a new featureless\n",
      "instance that has no instance attributes and cannot be given any.\n",
      "\u001b[1;31mType:\u001b[0m           type\n",
      "\u001b[1;31mSubclasses:\u001b[0m     type, async_generator, bytearray_iterator, bytearray, bytes_iterator, bytes, builtin_function_or_method, callable_iterator, PyCapsule, cell, ..."
     ]
    }
   ],
   "source": [
    "object?"
   ]
  },
  {
   "cell_type": "code",
   "execution_count": 41,
   "metadata": {},
   "outputs": [
    {
     "name": "stdout",
     "output_type": "stream",
     "text": [
      "\u001b[1;31mInit signature:\u001b[0m \u001b[0mstr\u001b[0m\u001b[1;33m(\u001b[0m\u001b[0mself\u001b[0m\u001b[1;33m,\u001b[0m \u001b[1;33m/\u001b[0m\u001b[1;33m,\u001b[0m \u001b[1;33m*\u001b[0m\u001b[0margs\u001b[0m\u001b[1;33m,\u001b[0m \u001b[1;33m**\u001b[0m\u001b[0mkwargs\u001b[0m\u001b[1;33m)\u001b[0m\u001b[1;33m\u001b[0m\u001b[1;33m\u001b[0m\u001b[0m\n",
      "\u001b[1;31mDocstring:\u001b[0m     \n",
      "str(object='') -> str\n",
      "str(bytes_or_buffer[, encoding[, errors]]) -> str\n",
      "\n",
      "Create a new string object from the given object. If encoding or\n",
      "errors is specified, then the object must expose a data buffer\n",
      "that will be decoded using the given encoding and error handler.\n",
      "Otherwise, returns the result of object.__str__() (if defined)\n",
      "or repr(object).\n",
      "encoding defaults to sys.getdefaultencoding().\n",
      "errors defaults to 'strict'.\n",
      "\u001b[1;31mType:\u001b[0m           type\n",
      "\u001b[1;31mSubclasses:\u001b[0m     StrEnum, DeferredConfigString, FoldedCase, _rstr, _ScriptTarget, _ModuleTarget, LSString, include, Keys, InputMode, ..."
     ]
    }
   ],
   "source": [
    "str?"
   ]
  },
  {
   "cell_type": "code",
   "execution_count": 42,
   "metadata": {},
   "outputs": [
    {
     "name": "stdout",
     "output_type": "stream",
     "text": [
      "\u001b[1;31mInit signature:\u001b[0m \u001b[0mint\u001b[0m\u001b[1;33m(\u001b[0m\u001b[0mself\u001b[0m\u001b[1;33m,\u001b[0m \u001b[1;33m/\u001b[0m\u001b[1;33m,\u001b[0m \u001b[1;33m*\u001b[0m\u001b[0margs\u001b[0m\u001b[1;33m,\u001b[0m \u001b[1;33m**\u001b[0m\u001b[0mkwargs\u001b[0m\u001b[1;33m)\u001b[0m\u001b[1;33m\u001b[0m\u001b[1;33m\u001b[0m\u001b[0m\n",
      "\u001b[1;31mDocstring:\u001b[0m     \n",
      "int([x]) -> integer\n",
      "int(x, base=10) -> integer\n",
      "\n",
      "Convert a number or string to an integer, or return 0 if no arguments\n",
      "are given.  If x is a number, return x.__int__().  For floating point\n",
      "numbers, this truncates towards zero.\n",
      "\n",
      "If x is not a number or if base is given, then x must be a string,\n",
      "bytes, or bytearray instance representing an integer literal in the\n",
      "given base.  The literal can be preceded by '+' or '-' and be surrounded\n",
      "by whitespace.  The base defaults to 10.  Valid bases are 0 and 2-36.\n",
      "Base 0 means to interpret the base from the string as an integer literal.\n",
      ">>> int('0b100', base=0)\n",
      "4\n",
      "\u001b[1;31mType:\u001b[0m           type\n",
      "\u001b[1;31mSubclasses:\u001b[0m     bool, IntEnum, IntFlag, _NamedIntConstant, Handle"
     ]
    }
   ],
   "source": [
    "int?"
   ]
  },
  {
   "cell_type": "markdown",
   "metadata": {},
   "source": [
    "The following ```object``` instances can be assigned:"
   ]
  },
  {
   "cell_type": "code",
   "execution_count": 43,
   "metadata": {},
   "outputs": [],
   "source": [
    "object_instance1 = object()\n",
    "object_instance2 = object()"
   ]
  },
  {
   "cell_type": "markdown",
   "metadata": {},
   "source": [
    "Instances for ```builtins``` classes can also be assigned:"
   ]
  },
  {
   "cell_type": "code",
   "execution_count": 44,
   "metadata": {},
   "outputs": [],
   "source": [
    "str_instance1 = str('hello')\n",
    "byte_instance1 = bytes(b'hello')\n",
    "bytearray_instance1 = bytearray(b'hello')\n",
    "int_instance1 = int(1)\n",
    "bool_instance1 = bool(True)\n",
    "float_instance1 = float(3.14)"
   ]
  },
  {
   "cell_type": "markdown",
   "metadata": {},
   "source": [
    "Although the docstring for ```\\_\\_repr\\_\\_``` is examined, it is ```\\_\\_new\\_\\_``` that is invoked to create a new instance during instantiation and ```\\_\\_new\\_\\_``` calls ```\\_\\_init\\_\\_``` to initialise this instance with instance data."
   ]
  },
  {
   "cell_type": "markdown",
   "metadata": {},
   "source": [
    "As many of these ```builtins``` classes are frequently used, they can be instantiated shorthand:"
   ]
  },
  {
   "cell_type": "code",
   "execution_count": 45,
   "metadata": {},
   "outputs": [],
   "source": [
    "str_instance2 = 'hello'\n",
    "byte_instance2 = b'hello'\n",
    "bytearray_instance2 = bytearray(b'hello')\n",
    "int_instance2 = 1\n",
    "bool_instance2 = True\n",
    "float_instance2 = 3.14"
   ]
  },
  {
   "cell_type": "markdown",
   "metadata": {},
   "source": [
    "## \\_\\_str\\_\\_ and \\_\\_repr\\_\\_"
   ]
  },
  {
   "cell_type": "markdown",
   "metadata": {},
   "source": [
    "A Python ```object``` has two types of ```str``` representation, formal and informal. The formal representation is shown in the cell output:"
   ]
  },
  {
   "cell_type": "code",
   "execution_count": 48,
   "metadata": {},
   "outputs": [
    {
     "data": {
      "text/plain": [
       "<object at 0x2506c7955b0>"
      ]
     },
     "execution_count": 48,
     "metadata": {},
     "output_type": "execute_result"
    }
   ],
   "source": [
    "object_instance1"
   ]
  },
  {
   "cell_type": "code",
   "execution_count": 49,
   "metadata": {},
   "outputs": [
    {
     "data": {
      "text/plain": [
       "<object at 0x2506c795340>"
      ]
     },
     "execution_count": 49,
     "metadata": {},
     "output_type": "execute_result"
    }
   ],
   "source": [
    "object_instance2"
   ]
  },
  {
   "cell_type": "markdown",
   "metadata": {},
   "source": [
    "The informal representation is shown when the instance is printed:"
   ]
  },
  {
   "cell_type": "code",
   "execution_count": 50,
   "metadata": {},
   "outputs": [
    {
     "name": "stdout",
     "output_type": "stream",
     "text": [
      "<object object at 0x000002506C7955B0>\n"
     ]
    }
   ],
   "source": [
    "print(object_instance1)"
   ]
  },
  {
   "cell_type": "code",
   "execution_count": 51,
   "metadata": {},
   "outputs": [
    {
     "name": "stdout",
     "output_type": "stream",
     "text": [
      "<object object at 0x000002506C795340>\n"
     ]
    }
   ],
   "source": [
    "print(object_instance2)"
   ]
  },
  {
   "cell_type": "markdown",
   "metadata": {},
   "source": [
    "The datamodel methods ```__repr__``` and ```__str__``` define the behaviour of the ```repr``` function and ```str``` class:"
   ]
  },
  {
   "cell_type": "code",
   "execution_count": 72,
   "metadata": {},
   "outputs": [
    {
     "name": "stdout",
     "output_type": "stream",
     "text": [
      "\u001b[1;31mSignature:\u001b[0m \u001b[0mrepr\u001b[0m\u001b[1;33m(\u001b[0m\u001b[0mobj\u001b[0m\u001b[1;33m,\u001b[0m \u001b[1;33m/\u001b[0m\u001b[1;33m)\u001b[0m\u001b[1;33m\u001b[0m\u001b[1;33m\u001b[0m\u001b[0m\n",
      "\u001b[1;31mDocstring:\u001b[0m\n",
      "Return the canonical string representation of the object.\n",
      "\n",
      "For many object types, including most builtins, eval(repr(obj)) == obj.\n",
      "\u001b[1;31mType:\u001b[0m      builtin_function_or_method"
     ]
    }
   ],
   "source": [
    "repr?"
   ]
  },
  {
   "cell_type": "code",
   "execution_count": 73,
   "metadata": {},
   "outputs": [
    {
     "name": "stdout",
     "output_type": "stream",
     "text": [
      "\u001b[1;31mInit signature:\u001b[0m \u001b[0mstr\u001b[0m\u001b[1;33m(\u001b[0m\u001b[0mself\u001b[0m\u001b[1;33m,\u001b[0m \u001b[1;33m/\u001b[0m\u001b[1;33m,\u001b[0m \u001b[1;33m*\u001b[0m\u001b[0margs\u001b[0m\u001b[1;33m,\u001b[0m \u001b[1;33m**\u001b[0m\u001b[0mkwargs\u001b[0m\u001b[1;33m)\u001b[0m\u001b[1;33m\u001b[0m\u001b[1;33m\u001b[0m\u001b[0m\n",
      "\u001b[1;31mDocstring:\u001b[0m     \n",
      "str(object='') -> str\n",
      "str(bytes_or_buffer[, encoding[, errors]]) -> str\n",
      "\n",
      "Create a new string object from the given object. If encoding or\n",
      "errors is specified, then the object must expose a data buffer\n",
      "that will be decoded using the given encoding and error handler.\n",
      "Otherwise, returns the result of object.__str__() (if defined)\n",
      "or repr(object).\n",
      "encoding defaults to sys.getdefaultencoding().\n",
      "errors defaults to 'strict'.\n",
      "\u001b[1;31mType:\u001b[0m           type\n",
      "\u001b[1;31mSubclasses:\u001b[0m     StrEnum, DeferredConfigString, FoldedCase, _rstr, _ScriptTarget, _ModuleTarget, LSString, include, Keys, InputMode, ..."
     ]
    }
   ],
   "source": [
    "str?"
   ]
  },
  {
   "cell_type": "code",
   "execution_count": 52,
   "metadata": {},
   "outputs": [
    {
     "data": {
      "text/plain": [
       "'<object object at 0x000002506C7955B0>'"
      ]
     },
     "execution_count": 52,
     "metadata": {},
     "output_type": "execute_result"
    }
   ],
   "source": [
    "repr(object_instance1)"
   ]
  },
  {
   "cell_type": "code",
   "execution_count": 53,
   "metadata": {},
   "outputs": [
    {
     "data": {
      "text/plain": [
       "'<object object at 0x000002506C7955B0>'"
      ]
     },
     "execution_count": 53,
     "metadata": {},
     "output_type": "execute_result"
    }
   ],
   "source": [
    "str(object_instance1)"
   ]
  },
  {
   "cell_type": "markdown",
   "metadata": {},
   "source": [
    "For the ```object``` class both ```str``` representations are identical, the difference can be seen more clearly in the ```str``` class itself because the ```str``` has escape characters that are used for formatting. The escape characters are processed when printing applying the formatting. The following ```str``` instance ```str_instance3``` includes a tab escape character ```\\t```:"
   ]
  },
  {
   "cell_type": "code",
   "execution_count": 56,
   "metadata": {},
   "outputs": [],
   "source": [
    "str_instance3 = 'hello\\tworld!'"
   ]
  },
  {
   "cell_type": "markdown",
   "metadata": {},
   "source": [
    "Notice the difference in the cell output which shows the escape character and the print out which instead processes the escape character applying the formatting:"
   ]
  },
  {
   "cell_type": "code",
   "execution_count": 57,
   "metadata": {},
   "outputs": [
    {
     "data": {
      "text/plain": [
       "'hello\\tworld!'"
      ]
     },
     "execution_count": 57,
     "metadata": {},
     "output_type": "execute_result"
    }
   ],
   "source": [
    "str_instance3"
   ]
  },
  {
   "cell_type": "code",
   "execution_count": 58,
   "metadata": {},
   "outputs": [
    {
     "name": "stdout",
     "output_type": "stream",
     "text": [
      "hello\tworld!\n"
     ]
    }
   ],
   "source": [
    "print(str_instance3)"
   ]
  },
  {
   "cell_type": "markdown",
   "metadata": {},
   "source": [
    "The formal and informal ```str``` instances can now be examined:"
   ]
  },
  {
   "cell_type": "code",
   "execution_count": 59,
   "metadata": {},
   "outputs": [
    {
     "data": {
      "text/plain": [
       "\"'hello\\\\tworld!'\""
      ]
     },
     "execution_count": 59,
     "metadata": {},
     "output_type": "execute_result"
    }
   ],
   "source": [
    "repr(str_instance3)"
   ]
  },
  {
   "cell_type": "code",
   "execution_count": 60,
   "metadata": {},
   "outputs": [
    {
     "data": {
      "text/plain": [
       "'hello\\tworld!'"
      ]
     },
     "execution_count": 60,
     "metadata": {},
     "output_type": "execute_result"
    }
   ],
   "source": [
    "str(str_instance3)"
   ]
  },
  {
   "cell_type": "markdown",
   "metadata": {},
   "source": [
    "Notice that casting the ```str``` instance to a ```str``` leaves it unchanged. However when the formal representation is used that additions are added. The ```'``` used to enclose the ```str``` and the ```\\``` used to indicate an escape character are now themselves incorporated as part of the ```str```. Since the ```str``` now contains a ```str``` literal, double quotations are used to enclose it. Notice also printing the formal representation matches the cell output of the informal representation:"
   ]
  },
  {
   "cell_type": "code",
   "execution_count": 61,
   "metadata": {},
   "outputs": [
    {
     "name": "stdout",
     "output_type": "stream",
     "text": [
      "'hello\\tworld!'\n"
     ]
    }
   ],
   "source": [
    "print(repr(str_instance3))"
   ]
  },
  {
   "cell_type": "markdown",
   "metadata": {},
   "source": [
    "Another example where the formal and informal representation differ is that of the ```Fraction``` class. It can be imported from the ```fractions``` module:"
   ]
  },
  {
   "cell_type": "code",
   "execution_count": 62,
   "metadata": {},
   "outputs": [],
   "source": [
    "from fractions import Fraction"
   ]
  },
  {
   "cell_type": "code",
   "execution_count": 67,
   "metadata": {},
   "outputs": [],
   "source": [
    "fraction_instance1 = Fraction(3, 4)"
   ]
  },
  {
   "cell_type": "markdown",
   "metadata": {},
   "source": [
    "The difference can be seen in the cell output and the print out of the ```Fraction``` instance:"
   ]
  },
  {
   "cell_type": "code",
   "execution_count": 68,
   "metadata": {},
   "outputs": [
    {
     "data": {
      "text/plain": [
       "Fraction(3, 4)"
      ]
     },
     "execution_count": 68,
     "metadata": {},
     "output_type": "execute_result"
    }
   ],
   "source": [
    "fraction_instance1"
   ]
  },
  {
   "cell_type": "code",
   "execution_count": 69,
   "metadata": {},
   "outputs": [
    {
     "name": "stdout",
     "output_type": "stream",
     "text": [
      "3/4\n"
     ]
    }
   ],
   "source": [
    "print(fraction_instance1)"
   ]
  },
  {
   "cell_type": "markdown",
   "metadata": {},
   "source": [
    "Notice the formal representation shown in the cell output matches how the class is input whereas the informal representation shows a simplified representation which is easier to read for printing."
   ]
  },
  {
   "cell_type": "code",
   "execution_count": 70,
   "metadata": {},
   "outputs": [
    {
     "data": {
      "text/plain": [
       "'Fraction(3, 4)'"
      ]
     },
     "execution_count": 70,
     "metadata": {},
     "output_type": "execute_result"
    }
   ],
   "source": [
    "repr(fraction_instance1)"
   ]
  },
  {
   "cell_type": "code",
   "execution_count": 71,
   "metadata": {},
   "outputs": [
    {
     "data": {
      "text/plain": [
       "'3/4'"
      ]
     },
     "execution_count": 71,
     "metadata": {},
     "output_type": "execute_result"
    }
   ],
   "source": [
    "str(fraction_instance1)"
   ]
  },
  {
   "cell_type": "markdown",
   "metadata": {},
   "source": [
    "## \\_\\_dir\\_\\_"
   ]
  },
  {
   "cell_type": "markdown",
   "metadata": {},
   "source": [
    "The ```__dir__``` datamodel method defines the behaviour of the ```dir``` function:"
   ]
  },
  {
   "cell_type": "code",
   "execution_count": 74,
   "metadata": {},
   "outputs": [
    {
     "name": "stdout",
     "output_type": "stream",
     "text": [
      "\u001b[1;31mDocstring:\u001b[0m\n",
      "Show attributes of an object.\n",
      "\n",
      "If called without an argument, return the names in the current scope.\n",
      "Else, return an alphabetized list of names comprising (some of) the attributes\n",
      "of the given object, and of attributes reachable from it.\n",
      "If the object supplies a method named __dir__, it will be used; otherwise\n",
      "the default dir() logic is used and returns:\n",
      "  for a module object: the module's attributes.\n",
      "  for a class object:  its attributes, and recursively the attributes\n",
      "    of its bases.\n",
      "  for any other object: its attributes, its class's attributes, and\n",
      "    recursively the attributes of its class's base classes.\n",
      "\u001b[1;31mType:\u001b[0m      builtin_function_or_method"
     ]
    }
   ],
   "source": [
    "dir?"
   ]
  },
  {
   "cell_type": "markdown",
   "metadata": {},
   "source": [
    "Previously this was used on the current scope, however an instance can be examined:"
   ]
  },
  {
   "cell_type": "code",
   "execution_count": 75,
   "metadata": {},
   "outputs": [
    {
     "data": {
      "text/plain": [
       "['__class__',\n",
       " '__delattr__',\n",
       " '__dir__',\n",
       " '__doc__',\n",
       " '__eq__',\n",
       " '__format__',\n",
       " '__ge__',\n",
       " '__getattribute__',\n",
       " '__getstate__',\n",
       " '__gt__',\n",
       " '__hash__',\n",
       " '__init__',\n",
       " '__init_subclass__',\n",
       " '__le__',\n",
       " '__lt__',\n",
       " '__ne__',\n",
       " '__new__',\n",
       " '__reduce__',\n",
       " '__reduce_ex__',\n",
       " '__repr__',\n",
       " '__setattr__',\n",
       " '__sizeof__',\n",
       " '__str__',\n",
       " '__subclasshook__']"
      ]
     },
     "execution_count": 75,
     "metadata": {},
     "output_type": "execute_result"
    }
   ],
   "source": [
    "dir(object_instance1)"
   ]
  },
  {
   "cell_type": "markdown",
   "metadata": {},
   "source": [
    "```dir``` shows all the identifiers alphabetically but does not group them, like in the custom function ```dir2```."
   ]
  },
  {
   "cell_type": "markdown",
   "metadata": {},
   "source": [
    "## \\_\\_class\\_\\_"
   ]
  },
  {
   "cell_type": "markdown",
   "metadata": {},
   "source": [
    "The datamodel method class can be used to return the class of an instance. If the method is not called, details about the class will display:"
   ]
  },
  {
   "cell_type": "code",
   "execution_count": 79,
   "metadata": {},
   "outputs": [
    {
     "data": {
      "text/plain": [
       "object"
      ]
     },
     "execution_count": 79,
     "metadata": {},
     "output_type": "execute_result"
    }
   ],
   "source": [
    "object_instance1.__class__"
   ]
  },
  {
   "cell_type": "markdown",
   "metadata": {},
   "source": [
    "If it is called, it will initialise another instance of this class:"
   ]
  },
  {
   "cell_type": "code",
   "execution_count": 80,
   "metadata": {},
   "outputs": [
    {
     "data": {
      "text/plain": [
       "<object at 0x2506d4ce320>"
      ]
     },
     "execution_count": 80,
     "metadata": {},
     "output_type": "execute_result"
    }
   ],
   "source": [
    "object_instance1.__class__()"
   ]
  },
  {
   "cell_type": "markdown",
   "metadata": {},
   "source": [
    "The datamodel method ```__class__``` defines the behaviour of the ```builtins``` class ```type``` (```type``` is a class and not a function) which returns the class type:"
   ]
  },
  {
   "cell_type": "code",
   "execution_count": 81,
   "metadata": {},
   "outputs": [
    {
     "name": "stdout",
     "output_type": "stream",
     "text": [
      "\u001b[1;31mInit signature:\u001b[0m \u001b[0mtype\u001b[0m\u001b[1;33m(\u001b[0m\u001b[0mself\u001b[0m\u001b[1;33m,\u001b[0m \u001b[1;33m/\u001b[0m\u001b[1;33m,\u001b[0m \u001b[1;33m*\u001b[0m\u001b[0margs\u001b[0m\u001b[1;33m,\u001b[0m \u001b[1;33m**\u001b[0m\u001b[0mkwargs\u001b[0m\u001b[1;33m)\u001b[0m\u001b[1;33m\u001b[0m\u001b[1;33m\u001b[0m\u001b[0m\n",
      "\u001b[1;31mDocstring:\u001b[0m     \n",
      "type(object) -> the object's type\n",
      "type(name, bases, dict, **kwds) -> a new type\n",
      "\u001b[1;31mType:\u001b[0m           type\n",
      "\u001b[1;31mSubclasses:\u001b[0m     ABCMeta, EnumType, _AnyMeta, NamedTupleMeta, _TypedDictMeta, _DeprecatedType, _ABC, MetaHasDescriptors, PyCStructType, UnionType, ..."
     ]
    }
   ],
   "source": [
    "type?"
   ]
  },
  {
   "cell_type": "code",
   "execution_count": 82,
   "metadata": {},
   "outputs": [
    {
     "data": {
      "text/plain": [
       "object"
      ]
     },
     "execution_count": 82,
     "metadata": {},
     "output_type": "execute_result"
    }
   ],
   "source": [
    "type(object_instance1)"
   ]
  },
  {
   "cell_type": "code",
   "execution_count": 83,
   "metadata": {},
   "outputs": [
    {
     "data": {
      "text/plain": [
       "str"
      ]
     },
     "execution_count": 83,
     "metadata": {},
     "output_type": "execute_result"
    }
   ],
   "source": [
    "type(str_instance1)"
   ]
  },
  {
   "cell_type": "code",
   "execution_count": 84,
   "metadata": {},
   "outputs": [
    {
     "data": {
      "text/plain": [
       "int"
      ]
     },
     "execution_count": 84,
     "metadata": {},
     "output_type": "execute_result"
    }
   ],
   "source": [
    "type(int_instance1)"
   ]
  },
  {
   "cell_type": "markdown",
   "metadata": {},
   "source": [
    "Note that the ```__class__``` defines the behaviour of the ```builtins``` identifier ```type``` and not the keyword ```class``` which is reserved for creating a class. A class looks something like:"
   ]
  },
  {
   "cell_type": "code",
   "execution_count": 179,
   "metadata": {},
   "outputs": [],
   "source": [
    "class Coordinate(object):\n",
    "    def __init__(self, x, y):\n",
    "        self.x = x\n",
    "        self.y = y\n",
    "\n",
    "    def __repr__(self):\n",
    "        return f'Coordinate(x={self.x}, y={self.y})' \n",
    "    \n",
    "    def __str__(self):\n",
    "        return f'(x={self.x}, y={self.y})'\n",
    "    \n",
    "    def distance_to(self, other):\n",
    "        \"\"\"\n",
    "        Calculate the Euclidean distance between two coordinates.\n",
    "        \"\"\"\n",
    "        dx = self.x - other.x\n",
    "        dy = self.y - other.y\n",
    "        return (dx**2 + dy**2)**0.5\n",
    "    \n",
    "    __hash__ = None\n",
    "    dimension = 2"
   ]
  },
  {
   "cell_type": "markdown",
   "metadata": {},
   "source": [
    "The first line is the class declaration. The parenthesis contain the base classes which in this case is ```object```. Everything in Python is based on the ```object``` class and if left unspecified, the base class will default to ```object```:\n",
    "\n",
    "```python\n",
    "class Coordinate(object):\n",
    "```\n",
    "\n",
    "Notice that under the class declaration is essentially a grouping of functions. The first one is the initialisation signature which was previously discussed. In this case two attributes ```x``` and ```y``` are required. Notice using ```?``` on the class displays details about the initialisation signature:\n"
   ]
  },
  {
   "cell_type": "code",
   "execution_count": 180,
   "metadata": {},
   "outputs": [
    {
     "name": "stdout",
     "output_type": "stream",
     "text": [
      "\u001b[1;31mInit signature:\u001b[0m \u001b[0mCoordinate\u001b[0m\u001b[1;33m(\u001b[0m\u001b[0mx\u001b[0m\u001b[1;33m,\u001b[0m \u001b[0my\u001b[0m\u001b[1;33m)\u001b[0m\u001b[1;33m\u001b[0m\u001b[1;33m\u001b[0m\u001b[0m\n",
      "\u001b[1;31mDocstring:\u001b[0m      <no docstring>\n",
      "\u001b[1;31mType:\u001b[0m           type\n",
      "\u001b[1;31mSubclasses:\u001b[0m     "
     ]
    }
   ],
   "source": [
    "Coordinate?"
   ]
  },
  {
   "cell_type": "markdown",
   "metadata": {},
   "source": [
    "Two co-ordinate instances can be instantiated:"
   ]
  },
  {
   "cell_type": "code",
   "execution_count": 181,
   "metadata": {},
   "outputs": [],
   "source": [
    "coordinate_instance1 = Coordinate(1, 2)"
   ]
  },
  {
   "cell_type": "code",
   "execution_count": 182,
   "metadata": {},
   "outputs": [],
   "source": [
    "coordinate_instance2 = Coordinate(3, 4)"
   ]
  },
  {
   "cell_type": "markdown",
   "metadata": {},
   "source": [
    "Notice as the class has ```__repr__``` and ```__str__``` defined, the ```builtins``` function ```repr``` and class ```str``` can be used. This difference can be seen by examining an instance in the cell output and printing it:"
   ]
  },
  {
   "cell_type": "code",
   "execution_count": 183,
   "metadata": {},
   "outputs": [
    {
     "data": {
      "text/plain": [
       "Coordinate(x=1, y=2)"
      ]
     },
     "execution_count": 183,
     "metadata": {},
     "output_type": "execute_result"
    }
   ],
   "source": [
    "coordinate_instance1"
   ]
  },
  {
   "cell_type": "code",
   "execution_count": 184,
   "metadata": {},
   "outputs": [
    {
     "name": "stdout",
     "output_type": "stream",
     "text": [
      "(x=1, y=2)\n"
     ]
    }
   ],
   "source": [
    "print(coordinate_instance1)"
   ]
  },
  {
   "cell_type": "markdown",
   "metadata": {},
   "source": [
    "The co-ordinate instance has 2 instance specific attributes:"
   ]
  },
  {
   "cell_type": "code",
   "execution_count": 185,
   "metadata": {},
   "outputs": [
    {
     "data": {
      "text/plain": [
       "1"
      ]
     },
     "execution_count": 185,
     "metadata": {},
     "output_type": "execute_result"
    }
   ],
   "source": [
    "coordinate_instance1.x"
   ]
  },
  {
   "cell_type": "code",
   "execution_count": 186,
   "metadata": {},
   "outputs": [
    {
     "data": {
      "text/plain": [
       "2"
      ]
     },
     "execution_count": 186,
     "metadata": {},
     "output_type": "execute_result"
    }
   ],
   "source": [
    "coordinate_instance1.y"
   ]
  },
  {
   "cell_type": "markdown",
   "metadata": {},
   "source": [
    "And a class attribute which is an instance defined in the class and therefore the same for all instances:"
   ]
  },
  {
   "cell_type": "code",
   "execution_count": 187,
   "metadata": {},
   "outputs": [
    {
     "data": {
      "text/plain": [
       "2"
      ]
     },
     "execution_count": 187,
     "metadata": {},
     "output_type": "execute_result"
    }
   ],
   "source": [
    "coordinate_instance1.dimension"
   ]
  },
  {
   "cell_type": "markdown",
   "metadata": {},
   "source": [
    "In the above:\n",
    "\n",
    "```python\n",
    "coordinate_instance1.x\n",
    "```\n",
    "\n",
    "The instance name is ```coordinate_instance1```. Notice that ```self``` is seen as the first input argument for all the instance methods above:\n",
    "\n",
    "```python\n",
    "    def __repr__(self):\n",
    "        return f'Coordinate(x={self.x}, y={self.y})' \n",
    "```\n",
    "\n",
    "```self``` is a term which essentially means **this instance**. When the above methods were called from the instance ```coordinate_instance1```, the instance name was implied and the ```x``` and ```y``` values were obtained from the instance data supplied to ```coordinate_instance1``` when it was initialised."
   ]
  },
  {
   "cell_type": "markdown",
   "metadata": {},
   "source": [
    "The distance formula has this instance ```self``` and also requires another instance ```other```:\n",
    "\n",
    "```python\n",
    "    def distance_to(self, other):\n",
    "        \"\"\"\n",
    "        Calculate the Euclidean distance between two coordinates.\n",
    "        \"\"\"\n",
    "        dx = self.x - other.x\n",
    "        dy = self.y - other.y\n",
    "        return (dx**2 + dy**2)**0.5\n",
    "```\n",
    "\n",
    "It is essentially an implementation of Pythagoras theorem and requires the second co-ordinate ```other``` to calculate the distance from. Because this method has no leading or trialing underscores, it is a regular instance method and not a datamodel method. This means the function should be used directly as there is no corresponding method or class in ```builtins``` for regular instance methods:"
   ]
  },
  {
   "cell_type": "code",
   "execution_count": 188,
   "metadata": {},
   "outputs": [
    {
     "data": {
      "text/plain": [
       "2.8284271247461903"
      ]
     },
     "execution_count": 188,
     "metadata": {},
     "output_type": "execute_result"
    }
   ],
   "source": [
    "coordinate_instance1.distance_to(other=coordinate_instance2)"
   ]
  },
  {
   "cell_type": "markdown",
   "metadata": {},
   "source": [
    "Note because the ```distance_to``` instance method was called from the instance ```coordiante_instance1```, this instance ```self``` was implied. \n",
    "\n",
    "If the instance method is called from the class it will require the instance ```self``` to work on:"
   ]
  },
  {
   "cell_type": "code",
   "execution_count": 189,
   "metadata": {},
   "outputs": [
    {
     "data": {
      "text/plain": [
       "2.8284271247461903"
      ]
     },
     "execution_count": 189,
     "metadata": {},
     "output_type": "execute_result"
    }
   ],
   "source": [
    "Coordinate.distance_to(self=coordinate_instance1, other=coordinate_instance2)"
   ]
  },
  {
   "cell_type": "markdown",
   "metadata": {},
   "source": [
    "Normally instance methods have a ```/``` preceding ```self``` which means ```self``` (and in this case ```other```) have to be provided positionally:\n",
    "\n",
    "```python\n",
    "    def distance_to(self, other, /):\n",
    "        \"\"\"\n",
    "        Calculate the Euclidean distance between two coordinates.\n",
    "        \"\"\"\n",
    "        dx = self.x - other.x\n",
    "        dy = self.y - other.y\n",
    "        return (dx**2 + dy**2)**0.5\n",
    "```\n"
   ]
  },
  {
   "cell_type": "markdown",
   "metadata": {},
   "source": [
    "Like the following:"
   ]
  },
  {
   "cell_type": "code",
   "execution_count": 190,
   "metadata": {},
   "outputs": [
    {
     "data": {
      "text/plain": [
       "2.8284271247461903"
      ]
     },
     "execution_count": 190,
     "metadata": {},
     "output_type": "execute_result"
    }
   ],
   "source": [
    "coordinate_instance1.distance_to(coordinate_instance2)"
   ]
  },
  {
   "cell_type": "code",
   "execution_count": 191,
   "metadata": {},
   "outputs": [
    {
     "data": {
      "text/plain": [
       "2.8284271247461903"
      ]
     },
     "execution_count": 191,
     "metadata": {},
     "output_type": "execute_result"
    }
   ],
   "source": [
    "Coordinate.distance_to(coordinate_instance1, coordinate_instance2)"
   ]
  },
  {
   "cell_type": "markdown",
   "metadata": {},
   "source": [
    "Because this ```Coordinate``` class uses ```object``` as a ```base``` class, it inherits all the identifiers from the ```object``` class. This can be seen if ```dir2``` (which is a modified version of ```dir``` which in turn invokes ```__dir__``` which is inherited from the ```object``` class):"
   ]
  },
  {
   "cell_type": "code",
   "execution_count": 192,
   "metadata": {},
   "outputs": [
    {
     "name": "stdout",
     "output_type": "stream",
     "text": [
      "{'attribute': ['dimension', 'x', 'y'],\n",
      " 'method': ['distance_to'],\n",
      " 'datamodel_attribute': ['__dict__',\n",
      "                         '__doc__',\n",
      "                         '__hash__',\n",
      "                         '__module__',\n",
      "                         '__weakref__'],\n",
      " 'datamodel_method': ['__class__',\n",
      "                      '__delattr__',\n",
      "                      '__dir__',\n",
      "                      '__eq__',\n",
      "                      '__format__',\n",
      "                      '__ge__',\n",
      "                      '__getattribute__',\n",
      "                      '__getstate__',\n",
      "                      '__gt__',\n",
      "                      '__init__',\n",
      "                      '__init_subclass__',\n",
      "                      '__le__',\n",
      "                      '__lt__',\n",
      "                      '__ne__',\n",
      "                      '__new__',\n",
      "                      '__reduce__',\n",
      "                      '__reduce_ex__',\n",
      "                      '__repr__',\n",
      "                      '__setattr__',\n",
      "                      '__sizeof__',\n",
      "                      '__str__',\n",
      "                      '__subclasshook__']}\n"
     ]
    }
   ],
   "source": [
    "dir2(coordinate_instance1)"
   ]
  },
  {
   "cell_type": "markdown",
   "metadata": {},
   "source": [
    "Notice all the identifiers from ```object``` are consistent:"
   ]
  },
  {
   "cell_type": "code",
   "execution_count": 193,
   "metadata": {},
   "outputs": [
    {
     "name": "stdout",
     "output_type": "stream",
     "text": [
      "{'datamodel_attribute': ['__doc__', '__hash__'],\n",
      " 'datamodel_method': ['__class__',\n",
      "                      '__delattr__',\n",
      "                      '__dir__',\n",
      "                      '__eq__',\n",
      "                      '__format__',\n",
      "                      '__ge__',\n",
      "                      '__getattribute__',\n",
      "                      '__getstate__',\n",
      "                      '__gt__',\n",
      "                      '__init__',\n",
      "                      '__init_subclass__',\n",
      "                      '__le__',\n",
      "                      '__lt__',\n",
      "                      '__ne__',\n",
      "                      '__new__',\n",
      "                      '__reduce__',\n",
      "                      '__reduce_ex__',\n",
      "                      '__repr__',\n",
      "                      '__setattr__',\n",
      "                      '__sizeof__',\n",
      "                      '__str__',\n",
      "                      '__subclasshook__']}\n"
     ]
    }
   ],
   "source": [
    "dir2(coordinate_instance1, object, consistent_only=True)"
   ]
  },
  {
   "cell_type": "markdown",
   "metadata": {},
   "source": [
    "Sometimes it can be useful to see only the unique identifiers in the class:"
   ]
  },
  {
   "cell_type": "code",
   "execution_count": 194,
   "metadata": {},
   "outputs": [
    {
     "name": "stdout",
     "output_type": "stream",
     "text": [
      "{'attribute': ['dimension', 'x', 'y'],\n",
      " 'method': ['distance_to'],\n",
      " 'datamodel_attribute': ['__dict__', '__module__', '__weakref__']}\n"
     ]
    }
   ],
   "source": [
    "dir2(coordinate_instance1, object, unique_only=True)"
   ]
  },
  {
   "cell_type": "markdown",
   "metadata": {},
   "source": [
    "Similar behaviour is seen when other ```builtins``` classes are examined:"
   ]
  },
  {
   "cell_type": "code",
   "execution_count": 195,
   "metadata": {},
   "outputs": [
    {
     "name": "stdout",
     "output_type": "stream",
     "text": [
      "{'datamodel_attribute': ['__doc__'],\n",
      " 'datamodel_method': ['__class__',\n",
      "                      '__delattr__',\n",
      "                      '__dir__',\n",
      "                      '__eq__',\n",
      "                      '__format__',\n",
      "                      '__ge__',\n",
      "                      '__getattribute__',\n",
      "                      '__getstate__',\n",
      "                      '__gt__',\n",
      "                      '__hash__',\n",
      "                      '__init__',\n",
      "                      '__init_subclass__',\n",
      "                      '__le__',\n",
      "                      '__lt__',\n",
      "                      '__ne__',\n",
      "                      '__new__',\n",
      "                      '__reduce__',\n",
      "                      '__reduce_ex__',\n",
      "                      '__repr__',\n",
      "                      '__setattr__',\n",
      "                      '__sizeof__',\n",
      "                      '__str__',\n",
      "                      '__subclasshook__']}\n"
     ]
    }
   ],
   "source": [
    "dir2(str, object, consistent_only=True)"
   ]
  },
  {
   "cell_type": "code",
   "execution_count": 196,
   "metadata": {},
   "outputs": [
    {
     "name": "stdout",
     "output_type": "stream",
     "text": [
      "{'method': ['capitalize',\n",
      "            'casefold',\n",
      "            'center',\n",
      "            'count',\n",
      "            'encode',\n",
      "            'endswith',\n",
      "            'expandtabs',\n",
      "            'find',\n",
      "            'format',\n",
      "            'format_map',\n",
      "            'index',\n",
      "            'isalnum',\n",
      "            'isalpha',\n",
      "            'isascii',\n",
      "            'isdecimal',\n",
      "            'isdigit',\n",
      "            'isidentifier',\n",
      "            'islower',\n",
      "            'isnumeric',\n",
      "            'isprintable',\n",
      "            'isspace',\n",
      "            'istitle',\n",
      "            'isupper',\n",
      "            'join',\n",
      "            'ljust',\n",
      "            'lower',\n",
      "            'lstrip',\n",
      "            'maketrans',\n",
      "            'partition',\n",
      "            'removeprefix',\n",
      "            'removesuffix',\n",
      "            'replace',\n",
      "            'rfind',\n",
      "            'rindex',\n",
      "            'rjust',\n",
      "            'rpartition',\n",
      "            'rsplit',\n",
      "            'rstrip',\n",
      "            'split',\n",
      "            'splitlines',\n",
      "            'startswith',\n",
      "            'strip',\n",
      "            'swapcase',\n",
      "            'title',\n",
      "            'translate',\n",
      "            'upper',\n",
      "            'zfill'],\n",
      " 'datamodel_method': ['__add__',\n",
      "                      '__contains__',\n",
      "                      '__getitem__',\n",
      "                      '__getnewargs__',\n",
      "                      '__iter__',\n",
      "                      '__len__',\n",
      "                      '__mod__',\n",
      "                      '__mul__',\n",
      "                      '__rmod__',\n",
      "                      '__rmul__']}\n"
     ]
    }
   ],
   "source": [
    "dir2(str, object, unique_only=True)"
   ]
  },
  {
   "cell_type": "code",
   "execution_count": 197,
   "metadata": {},
   "outputs": [
    {
     "name": "stdout",
     "output_type": "stream",
     "text": [
      "{'datamodel_attribute': ['__doc__'],\n",
      " 'datamodel_method': ['__class__',\n",
      "                      '__delattr__',\n",
      "                      '__dir__',\n",
      "                      '__eq__',\n",
      "                      '__format__',\n",
      "                      '__ge__',\n",
      "                      '__getattribute__',\n",
      "                      '__getstate__',\n",
      "                      '__gt__',\n",
      "                      '__hash__',\n",
      "                      '__init__',\n",
      "                      '__init_subclass__',\n",
      "                      '__le__',\n",
      "                      '__lt__',\n",
      "                      '__ne__',\n",
      "                      '__new__',\n",
      "                      '__reduce__',\n",
      "                      '__reduce_ex__',\n",
      "                      '__repr__',\n",
      "                      '__setattr__',\n",
      "                      '__sizeof__',\n",
      "                      '__str__',\n",
      "                      '__subclasshook__']}\n"
     ]
    }
   ],
   "source": [
    "dir2(int, object, consistent_only=True)"
   ]
  },
  {
   "cell_type": "code",
   "execution_count": 198,
   "metadata": {},
   "outputs": [
    {
     "name": "stdout",
     "output_type": "stream",
     "text": [
      "{'attribute': ['denominator', 'imag', 'numerator', 'real'],\n",
      " 'method': ['as_integer_ratio',\n",
      "            'bit_count',\n",
      "            'bit_length',\n",
      "            'conjugate',\n",
      "            'from_bytes',\n",
      "            'is_integer',\n",
      "            'to_bytes'],\n",
      " 'datamodel_method': ['__abs__',\n",
      "                      '__add__',\n",
      "                      '__and__',\n",
      "                      '__bool__',\n",
      "                      '__ceil__',\n",
      "                      '__divmod__',\n",
      "                      '__float__',\n",
      "                      '__floor__',\n",
      "                      '__floordiv__',\n",
      "                      '__getnewargs__',\n",
      "                      '__index__',\n",
      "                      '__int__',\n",
      "                      '__invert__',\n",
      "                      '__lshift__',\n",
      "                      '__mod__',\n",
      "                      '__mul__',\n",
      "                      '__neg__',\n",
      "                      '__or__',\n",
      "                      '__pos__',\n",
      "                      '__pow__',\n",
      "                      '__radd__',\n",
      "                      '__rand__',\n",
      "                      '__rdivmod__',\n",
      "                      '__rfloordiv__',\n",
      "                      '__rlshift__',\n",
      "                      '__rmod__',\n",
      "                      '__rmul__',\n",
      "                      '__ror__',\n",
      "                      '__round__',\n",
      "                      '__rpow__',\n",
      "                      '__rrshift__',\n",
      "                      '__rshift__',\n",
      "                      '__rsub__',\n",
      "                      '__rtruediv__',\n",
      "                      '__rxor__',\n",
      "                      '__sub__',\n",
      "                      '__truediv__',\n",
      "                      '__trunc__',\n",
      "                      '__xor__']}\n"
     ]
    }
   ],
   "source": [
    "dir2(int, object, unique_only=True)"
   ]
  },
  {
   "cell_type": "markdown",
   "metadata": {},
   "source": [
    "The identifiers in these classes will be explored in subsequent notebooks, what is important to note is that they both follow the design pattern of an ```object``` and therefore have consistent identifiers to the ```object``` class."
   ]
  },
  {
   "cell_type": "markdown",
   "metadata": {},
   "source": [
    "## \\_\\_eq\\_\\_, \\_\\_ne\\_\\_, \\_\\_lt\\_\\_, \\_\\_le\\_\\_, \\_\\_gt\\_\\_ and \\_\\_ge\\_\\_ Comparison Datamodel Methods"
   ]
  },
  {
   "cell_type": "markdown",
   "metadata": {},
   "source": [
    "The following datamodel methods are for comparison operators. If the docstring of each datamodel identifier is examined the docstring highlights what operator to use:"
   ]
  },
  {
   "cell_type": "code",
   "execution_count": 199,
   "metadata": {},
   "outputs": [
    {
     "name": "stdout",
     "output_type": "stream",
     "text": [
      "\u001b[1;31mSignature:\u001b[0m      \u001b[0mobject\u001b[0m\u001b[1;33m.\u001b[0m\u001b[0m__eq__\u001b[0m\u001b[1;33m(\u001b[0m\u001b[0mself\u001b[0m\u001b[1;33m,\u001b[0m \u001b[0mvalue\u001b[0m\u001b[1;33m,\u001b[0m \u001b[1;33m/\u001b[0m\u001b[1;33m)\u001b[0m\u001b[1;33m\u001b[0m\u001b[1;33m\u001b[0m\u001b[0m\n",
      "\u001b[1;31mCall signature:\u001b[0m \u001b[0mobject\u001b[0m\u001b[1;33m.\u001b[0m\u001b[0m__eq__\u001b[0m\u001b[1;33m(\u001b[0m\u001b[1;33m*\u001b[0m\u001b[0margs\u001b[0m\u001b[1;33m,\u001b[0m \u001b[1;33m**\u001b[0m\u001b[0mkwargs\u001b[0m\u001b[1;33m)\u001b[0m\u001b[1;33m\u001b[0m\u001b[1;33m\u001b[0m\u001b[0m\n",
      "\u001b[1;31mType:\u001b[0m           wrapper_descriptor\n",
      "\u001b[1;31mString form:\u001b[0m    <slot wrapper '__eq__' of 'object' objects>\n",
      "\u001b[1;31mNamespace:\u001b[0m      Python builtin\n",
      "\u001b[1;31mDocstring:\u001b[0m      Return self==value."
     ]
    }
   ],
   "source": [
    "object.__eq__?"
   ]
  },
  {
   "cell_type": "code",
   "execution_count": 200,
   "metadata": {},
   "outputs": [
    {
     "name": "stdout",
     "output_type": "stream",
     "text": [
      "\u001b[1;31mSignature:\u001b[0m      \u001b[0mobject\u001b[0m\u001b[1;33m.\u001b[0m\u001b[0m__ne__\u001b[0m\u001b[1;33m(\u001b[0m\u001b[0mself\u001b[0m\u001b[1;33m,\u001b[0m \u001b[0mvalue\u001b[0m\u001b[1;33m,\u001b[0m \u001b[1;33m/\u001b[0m\u001b[1;33m)\u001b[0m\u001b[1;33m\u001b[0m\u001b[1;33m\u001b[0m\u001b[0m\n",
      "\u001b[1;31mCall signature:\u001b[0m \u001b[0mobject\u001b[0m\u001b[1;33m.\u001b[0m\u001b[0m__ne__\u001b[0m\u001b[1;33m(\u001b[0m\u001b[1;33m*\u001b[0m\u001b[0margs\u001b[0m\u001b[1;33m,\u001b[0m \u001b[1;33m**\u001b[0m\u001b[0mkwargs\u001b[0m\u001b[1;33m)\u001b[0m\u001b[1;33m\u001b[0m\u001b[1;33m\u001b[0m\u001b[0m\n",
      "\u001b[1;31mType:\u001b[0m           wrapper_descriptor\n",
      "\u001b[1;31mString form:\u001b[0m    <slot wrapper '__ne__' of 'object' objects>\n",
      "\u001b[1;31mNamespace:\u001b[0m      Python builtin\n",
      "\u001b[1;31mDocstring:\u001b[0m      Return self!=value."
     ]
    }
   ],
   "source": [
    "object.__ne__?"
   ]
  },
  {
   "cell_type": "code",
   "execution_count": 201,
   "metadata": {},
   "outputs": [
    {
     "name": "stdout",
     "output_type": "stream",
     "text": [
      "\u001b[1;31mSignature:\u001b[0m      \u001b[0mobject\u001b[0m\u001b[1;33m.\u001b[0m\u001b[0m__lt__\u001b[0m\u001b[1;33m(\u001b[0m\u001b[0mself\u001b[0m\u001b[1;33m,\u001b[0m \u001b[0mvalue\u001b[0m\u001b[1;33m,\u001b[0m \u001b[1;33m/\u001b[0m\u001b[1;33m)\u001b[0m\u001b[1;33m\u001b[0m\u001b[1;33m\u001b[0m\u001b[0m\n",
      "\u001b[1;31mCall signature:\u001b[0m \u001b[0mobject\u001b[0m\u001b[1;33m.\u001b[0m\u001b[0m__lt__\u001b[0m\u001b[1;33m(\u001b[0m\u001b[1;33m*\u001b[0m\u001b[0margs\u001b[0m\u001b[1;33m,\u001b[0m \u001b[1;33m**\u001b[0m\u001b[0mkwargs\u001b[0m\u001b[1;33m)\u001b[0m\u001b[1;33m\u001b[0m\u001b[1;33m\u001b[0m\u001b[0m\n",
      "\u001b[1;31mType:\u001b[0m           wrapper_descriptor\n",
      "\u001b[1;31mString form:\u001b[0m    <slot wrapper '__lt__' of 'object' objects>\n",
      "\u001b[1;31mNamespace:\u001b[0m      Python builtin\n",
      "\u001b[1;31mDocstring:\u001b[0m      Return self<value."
     ]
    }
   ],
   "source": [
    "object.__lt__?"
   ]
  },
  {
   "cell_type": "code",
   "execution_count": 202,
   "metadata": {},
   "outputs": [
    {
     "name": "stdout",
     "output_type": "stream",
     "text": [
      "\u001b[1;31mSignature:\u001b[0m      \u001b[0mobject\u001b[0m\u001b[1;33m.\u001b[0m\u001b[0m__le__\u001b[0m\u001b[1;33m(\u001b[0m\u001b[0mself\u001b[0m\u001b[1;33m,\u001b[0m \u001b[0mvalue\u001b[0m\u001b[1;33m,\u001b[0m \u001b[1;33m/\u001b[0m\u001b[1;33m)\u001b[0m\u001b[1;33m\u001b[0m\u001b[1;33m\u001b[0m\u001b[0m\n",
      "\u001b[1;31mCall signature:\u001b[0m \u001b[0mobject\u001b[0m\u001b[1;33m.\u001b[0m\u001b[0m__le__\u001b[0m\u001b[1;33m(\u001b[0m\u001b[1;33m*\u001b[0m\u001b[0margs\u001b[0m\u001b[1;33m,\u001b[0m \u001b[1;33m**\u001b[0m\u001b[0mkwargs\u001b[0m\u001b[1;33m)\u001b[0m\u001b[1;33m\u001b[0m\u001b[1;33m\u001b[0m\u001b[0m\n",
      "\u001b[1;31mType:\u001b[0m           wrapper_descriptor\n",
      "\u001b[1;31mString form:\u001b[0m    <slot wrapper '__le__' of 'object' objects>\n",
      "\u001b[1;31mNamespace:\u001b[0m      Python builtin\n",
      "\u001b[1;31mDocstring:\u001b[0m      Return self<=value."
     ]
    }
   ],
   "source": [
    "object.__le__?"
   ]
  },
  {
   "cell_type": "code",
   "execution_count": 203,
   "metadata": {},
   "outputs": [
    {
     "name": "stdout",
     "output_type": "stream",
     "text": [
      "\u001b[1;31mSignature:\u001b[0m      \u001b[0mobject\u001b[0m\u001b[1;33m.\u001b[0m\u001b[0m__gt__\u001b[0m\u001b[1;33m(\u001b[0m\u001b[0mself\u001b[0m\u001b[1;33m,\u001b[0m \u001b[0mvalue\u001b[0m\u001b[1;33m,\u001b[0m \u001b[1;33m/\u001b[0m\u001b[1;33m)\u001b[0m\u001b[1;33m\u001b[0m\u001b[1;33m\u001b[0m\u001b[0m\n",
      "\u001b[1;31mCall signature:\u001b[0m \u001b[0mobject\u001b[0m\u001b[1;33m.\u001b[0m\u001b[0m__gt__\u001b[0m\u001b[1;33m(\u001b[0m\u001b[1;33m*\u001b[0m\u001b[0margs\u001b[0m\u001b[1;33m,\u001b[0m \u001b[1;33m**\u001b[0m\u001b[0mkwargs\u001b[0m\u001b[1;33m)\u001b[0m\u001b[1;33m\u001b[0m\u001b[1;33m\u001b[0m\u001b[0m\n",
      "\u001b[1;31mType:\u001b[0m           wrapper_descriptor\n",
      "\u001b[1;31mString form:\u001b[0m    <slot wrapper '__gt__' of 'object' objects>\n",
      "\u001b[1;31mNamespace:\u001b[0m      Python builtin\n",
      "\u001b[1;31mDocstring:\u001b[0m      Return self>value."
     ]
    }
   ],
   "source": [
    "object.__gt__?"
   ]
  },
  {
   "cell_type": "code",
   "execution_count": 204,
   "metadata": {},
   "outputs": [
    {
     "name": "stdout",
     "output_type": "stream",
     "text": [
      "\u001b[1;31mSignature:\u001b[0m      \u001b[0mobject\u001b[0m\u001b[1;33m.\u001b[0m\u001b[0m__ge__\u001b[0m\u001b[1;33m(\u001b[0m\u001b[0mself\u001b[0m\u001b[1;33m,\u001b[0m \u001b[0mvalue\u001b[0m\u001b[1;33m,\u001b[0m \u001b[1;33m/\u001b[0m\u001b[1;33m)\u001b[0m\u001b[1;33m\u001b[0m\u001b[1;33m\u001b[0m\u001b[0m\n",
      "\u001b[1;31mCall signature:\u001b[0m \u001b[0mobject\u001b[0m\u001b[1;33m.\u001b[0m\u001b[0m__ge__\u001b[0m\u001b[1;33m(\u001b[0m\u001b[1;33m*\u001b[0m\u001b[0margs\u001b[0m\u001b[1;33m,\u001b[0m \u001b[1;33m**\u001b[0m\u001b[0mkwargs\u001b[0m\u001b[1;33m)\u001b[0m\u001b[1;33m\u001b[0m\u001b[1;33m\u001b[0m\u001b[0m\n",
      "\u001b[1;31mType:\u001b[0m           wrapper_descriptor\n",
      "\u001b[1;31mString form:\u001b[0m    <slot wrapper '__ge__' of 'object' objects>\n",
      "\u001b[1;31mNamespace:\u001b[0m      Python builtin\n",
      "\u001b[1;31mDocstring:\u001b[0m      Return self>=value."
     ]
    }
   ],
   "source": [
    "object.__ge__?"
   ]
  },
  {
   "cell_type": "markdown",
   "metadata": {},
   "source": [
    "Notice that ```==``` checks for equality and should not be confused with ```=``` for assignment. For ```object``` instances, a check is made for the location each ```object``` instance is stored in memory:"
   ]
  },
  {
   "cell_type": "code",
   "execution_count": 205,
   "metadata": {},
   "outputs": [
    {
     "data": {
      "text/plain": [
       "<object at 0x2506c7955b0>"
      ]
     },
     "execution_count": 205,
     "metadata": {},
     "output_type": "execute_result"
    }
   ],
   "source": [
    "object_instance1"
   ]
  },
  {
   "cell_type": "code",
   "execution_count": 206,
   "metadata": {},
   "outputs": [
    {
     "data": {
      "text/plain": [
       "<object at 0x2506c795340>"
      ]
     },
     "execution_count": 206,
     "metadata": {},
     "output_type": "execute_result"
    }
   ],
   "source": [
    "object_instance2"
   ]
  },
  {
   "cell_type": "markdown",
   "metadata": {},
   "source": [
    "These two ```object``` instances are stored in different locations in memory and therefore:"
   ]
  },
  {
   "cell_type": "code",
   "execution_count": 207,
   "metadata": {},
   "outputs": [
    {
     "data": {
      "text/plain": [
       "False"
      ]
     },
     "execution_count": 207,
     "metadata": {},
     "output_type": "execute_result"
    }
   ],
   "source": [
    "object_instance1 == object_instance2"
   ]
  },
  {
   "cell_type": "markdown",
   "metadata": {},
   "source": [
    "If assignment is made to an existing instance:"
   ]
  },
  {
   "cell_type": "code",
   "execution_count": 208,
   "metadata": {},
   "outputs": [],
   "source": [
    "object_instance3 = object_instance1"
   ]
  },
  {
   "cell_type": "markdown",
   "metadata": {},
   "source": [
    "The assignment operator conceptually assigns the value on the right to the new instance name on the left.\n",
    "\n",
    "In the case above the instance name on the right acts like a label and retrieves the ```object``` instance affixed to the label. This ```object``` instance now effectively has two labels:"
   ]
  },
  {
   "cell_type": "code",
   "execution_count": 209,
   "metadata": {},
   "outputs": [
    {
     "data": {
      "text/plain": [
       "<object at 0x2506c7955b0>"
      ]
     },
     "execution_count": 209,
     "metadata": {},
     "output_type": "execute_result"
    }
   ],
   "source": [
    "object_instance1"
   ]
  },
  {
   "cell_type": "code",
   "execution_count": 210,
   "metadata": {},
   "outputs": [
    {
     "data": {
      "text/plain": [
       "<object at 0x2506c7955b0>"
      ]
     },
     "execution_count": 210,
     "metadata": {},
     "output_type": "execute_result"
    }
   ],
   "source": [
    "object_instance3"
   ]
  },
  {
   "cell_type": "markdown",
   "metadata": {},
   "source": [
    "Since both are the same ```object``` in memory therefore:"
   ]
  },
  {
   "cell_type": "code",
   "execution_count": 211,
   "metadata": {},
   "outputs": [
    {
     "data": {
      "text/plain": [
       "True"
      ]
     },
     "execution_count": 211,
     "metadata": {},
     "output_type": "execute_result"
    }
   ],
   "source": [
    "object_instance1 == object_instance3"
   ]
  },
  {
   "cell_type": "markdown",
   "metadata": {},
   "source": [
    "The not equal to ```!=``` operator reverses the results above:"
   ]
  },
  {
   "cell_type": "code",
   "execution_count": 212,
   "metadata": {},
   "outputs": [
    {
     "data": {
      "text/plain": [
       "False"
      ]
     },
     "execution_count": 212,
     "metadata": {},
     "output_type": "execute_result"
    }
   ],
   "source": [
    "object_instance1 == object_instance2"
   ]
  },
  {
   "cell_type": "code",
   "execution_count": 213,
   "metadata": {},
   "outputs": [
    {
     "data": {
      "text/plain": [
       "False"
      ]
     },
     "execution_count": 213,
     "metadata": {},
     "output_type": "execute_result"
    }
   ],
   "source": [
    "object_instance1 == object_instance2"
   ]
  },
  {
   "cell_type": "markdown",
   "metadata": {},
   "source": [
    "Although the slot wrappers for the other 4 comparison operators are defined, they are not implemented in the ```object``` class which is not ordinal. They can be examined in an ordinal class such as an ```int```. The greater than and less than correspond to the operators ```>``` and ```<```:"
   ]
  },
  {
   "cell_type": "code",
   "execution_count": 214,
   "metadata": {},
   "outputs": [
    {
     "data": {
      "text/plain": [
       "False"
      ]
     },
     "execution_count": 214,
     "metadata": {},
     "output_type": "execute_result"
    }
   ],
   "source": [
    "1 > 2"
   ]
  },
  {
   "cell_type": "code",
   "execution_count": 215,
   "metadata": {},
   "outputs": [
    {
     "data": {
      "text/plain": [
       "True"
      ]
     },
     "execution_count": 215,
     "metadata": {},
     "output_type": "execute_result"
    }
   ],
   "source": [
    "1 < 2"
   ]
  },
  {
   "cell_type": "markdown",
   "metadata": {},
   "source": [
    "A check for greater than or equal to is commonly made. This can be done longhand or using the ```>=``` and ```<=``` operators:"
   ]
  },
  {
   "cell_type": "code",
   "execution_count": 216,
   "metadata": {},
   "outputs": [
    {
     "data": {
      "text/plain": [
       "False"
      ]
     },
     "execution_count": 216,
     "metadata": {},
     "output_type": "execute_result"
    }
   ],
   "source": [
    "(1 > 2) or (1 == 2)"
   ]
  },
  {
   "cell_type": "code",
   "execution_count": 217,
   "metadata": {},
   "outputs": [
    {
     "data": {
      "text/plain": [
       "False"
      ]
     },
     "execution_count": 217,
     "metadata": {},
     "output_type": "execute_result"
    }
   ],
   "source": [
    "1 >= 2"
   ]
  },
  {
   "cell_type": "code",
   "execution_count": 218,
   "metadata": {},
   "outputs": [
    {
     "data": {
      "text/plain": [
       "True"
      ]
     },
     "execution_count": 218,
     "metadata": {},
     "output_type": "execute_result"
    }
   ],
   "source": [
    "(1 < 2) or (1 == 2)"
   ]
  },
  {
   "cell_type": "code",
   "execution_count": 219,
   "metadata": {},
   "outputs": [
    {
     "data": {
      "text/plain": [
       "True"
      ]
     },
     "execution_count": 219,
     "metadata": {},
     "output_type": "execute_result"
    }
   ],
   "source": [
    "1 <= 2"
   ]
  },
  {
   "cell_type": "code",
   "execution_count": null,
   "metadata": {},
   "outputs": [],
   "source": []
  },
  {
   "cell_type": "markdown",
   "metadata": {},
   "source": [
    "sizeof"
   ]
  },
  {
   "cell_type": "markdown",
   "metadata": {},
   "source": []
  },
  {
   "cell_type": "code",
   "execution_count": 220,
   "metadata": {},
   "outputs": [
    {
     "data": {
      "text/plain": [
       "<method-wrapper '__hash__' of object object at 0x000002506C7955B0>"
      ]
     },
     "execution_count": 220,
     "metadata": {},
     "output_type": "execute_result"
    }
   ],
   "source": [
    "object_instance1.__hash__"
   ]
  },
  {
   "cell_type": "code",
   "execution_count": 221,
   "metadata": {},
   "outputs": [],
   "source": [
    "coordinate_instance1.__hash__"
   ]
  },
  {
   "cell_type": "code",
   "execution_count": 224,
   "metadata": {},
   "outputs": [
    {
     "data": {
      "text/plain": [
       "<slot wrapper '__hash__' of 'str' objects>"
      ]
     },
     "execution_count": 224,
     "metadata": {},
     "output_type": "execute_result"
    }
   ],
   "source": [
    "str.__hash__"
   ]
  },
  {
   "cell_type": "code",
   "execution_count": 229,
   "metadata": {},
   "outputs": [
    {
     "data": {
      "text/plain": [
       "<slot wrapper '__hash__' of 'int' objects>"
      ]
     },
     "execution_count": 229,
     "metadata": {},
     "output_type": "execute_result"
    }
   ],
   "source": [
    "int.__hash__"
   ]
  },
  {
   "cell_type": "code",
   "execution_count": null,
   "metadata": {},
   "outputs": [],
   "source": []
  },
  {
   "cell_type": "code",
   "execution_count": 222,
   "metadata": {},
   "outputs": [
    {
     "name": "stdout",
     "output_type": "stream",
     "text": [
      "\u001b[1;31mSignature:\u001b[0m      \u001b[0mobject_instance1\u001b[0m\u001b[1;33m.\u001b[0m\u001b[0m__hash__\u001b[0m\u001b[1;33m(\u001b[0m\u001b[1;33m)\u001b[0m\u001b[1;33m\u001b[0m\u001b[1;33m\u001b[0m\u001b[0m\n",
      "\u001b[1;31mCall signature:\u001b[0m \u001b[0mobject_instance1\u001b[0m\u001b[1;33m.\u001b[0m\u001b[0m__hash__\u001b[0m\u001b[1;33m(\u001b[0m\u001b[1;33m*\u001b[0m\u001b[0margs\u001b[0m\u001b[1;33m,\u001b[0m \u001b[1;33m**\u001b[0m\u001b[0mkwargs\u001b[0m\u001b[1;33m)\u001b[0m\u001b[1;33m\u001b[0m\u001b[1;33m\u001b[0m\u001b[0m\n",
      "\u001b[1;31mType:\u001b[0m           method-wrapper\n",
      "\u001b[1;31mString form:\u001b[0m    <method-wrapper '__hash__' of object object at 0x000002506C7955B0>\n",
      "\u001b[1;31mDocstring:\u001b[0m      Return hash(self)."
     ]
    }
   ],
   "source": [
    "object_instance1.__hash__?"
   ]
  },
  {
   "cell_type": "code",
   "execution_count": 225,
   "metadata": {},
   "outputs": [
    {
     "data": {
      "text/plain": [
       "159027533147"
      ]
     },
     "execution_count": 225,
     "metadata": {},
     "output_type": "execute_result"
    }
   ],
   "source": [
    "hash(object_instance1)"
   ]
  },
  {
   "cell_type": "code",
   "execution_count": 226,
   "metadata": {},
   "outputs": [
    {
     "data": {
      "text/plain": [
       "159027533108"
      ]
     },
     "execution_count": 226,
     "metadata": {},
     "output_type": "execute_result"
    }
   ],
   "source": [
    "hash(object_instance2)"
   ]
  },
  {
   "cell_type": "code",
   "execution_count": 227,
   "metadata": {},
   "outputs": [
    {
     "data": {
      "text/plain": [
       "-8808090896842337048"
      ]
     },
     "execution_count": 227,
     "metadata": {},
     "output_type": "execute_result"
    }
   ],
   "source": [
    "hash(str_instance1)"
   ]
  },
  {
   "cell_type": "code",
   "execution_count": 228,
   "metadata": {},
   "outputs": [
    {
     "data": {
      "text/plain": [
       "1"
      ]
     },
     "execution_count": 228,
     "metadata": {},
     "output_type": "execute_result"
    }
   ],
   "source": [
    "hash(int_instance1)"
   ]
  },
  {
   "cell_type": "markdown",
   "metadata": {},
   "source": []
  },
  {
   "cell_type": "markdown",
   "metadata": {},
   "source": [
    "id"
   ]
  },
  {
   "cell_type": "code",
   "execution_count": 232,
   "metadata": {},
   "outputs": [
    {
     "data": {
      "text/plain": [
       "2544440530352"
      ]
     },
     "execution_count": 232,
     "metadata": {},
     "output_type": "execute_result"
    }
   ],
   "source": [
    "id(object_instance1)"
   ]
  },
  {
   "cell_type": "code",
   "execution_count": 233,
   "metadata": {},
   "outputs": [
    {
     "data": {
      "text/plain": [
       "2544449833488"
      ]
     },
     "execution_count": 233,
     "metadata": {},
     "output_type": "execute_result"
    }
   ],
   "source": [
    "id(coordinate_instance1)"
   ]
  },
  {
   "cell_type": "markdown",
   "metadata": {},
   "source": []
  },
  {
   "cell_type": "code",
   "execution_count": 142,
   "metadata": {},
   "outputs": [
    {
     "name": "stdout",
     "output_type": "stream",
     "text": [
      "\u001b[1;31mSignature:\u001b[0m      \u001b[0mobject\u001b[0m\u001b[1;33m.\u001b[0m\u001b[0m__getattribute__\u001b[0m\u001b[1;33m(\u001b[0m\u001b[0mself\u001b[0m\u001b[1;33m,\u001b[0m \u001b[0mname\u001b[0m\u001b[1;33m,\u001b[0m \u001b[1;33m/\u001b[0m\u001b[1;33m)\u001b[0m\u001b[1;33m\u001b[0m\u001b[1;33m\u001b[0m\u001b[0m\n",
      "\u001b[1;31mCall signature:\u001b[0m \u001b[0mobject\u001b[0m\u001b[1;33m.\u001b[0m\u001b[0m__getattribute__\u001b[0m\u001b[1;33m(\u001b[0m\u001b[1;33m*\u001b[0m\u001b[0margs\u001b[0m\u001b[1;33m,\u001b[0m \u001b[1;33m**\u001b[0m\u001b[0mkwargs\u001b[0m\u001b[1;33m)\u001b[0m\u001b[1;33m\u001b[0m\u001b[1;33m\u001b[0m\u001b[0m\n",
      "\u001b[1;31mType:\u001b[0m           wrapper_descriptor\n",
      "\u001b[1;31mString form:\u001b[0m    <slot wrapper '__getattribute__' of 'object' objects>\n",
      "\u001b[1;31mNamespace:\u001b[0m      Python builtin\n",
      "\u001b[1;31mDocstring:\u001b[0m      Return getattr(self, name)."
     ]
    }
   ],
   "source": [
    "object.__getattribute__?"
   ]
  },
  {
   "cell_type": "code",
   "execution_count": 144,
   "metadata": {},
   "outputs": [
    {
     "name": "stdout",
     "output_type": "stream",
     "text": [
      "\u001b[1;31mSignature:\u001b[0m      \u001b[0mobject\u001b[0m\u001b[1;33m.\u001b[0m\u001b[0m__setattr__\u001b[0m\u001b[1;33m(\u001b[0m\u001b[0mself\u001b[0m\u001b[1;33m,\u001b[0m \u001b[0mname\u001b[0m\u001b[1;33m,\u001b[0m \u001b[0mvalue\u001b[0m\u001b[1;33m,\u001b[0m \u001b[1;33m/\u001b[0m\u001b[1;33m)\u001b[0m\u001b[1;33m\u001b[0m\u001b[1;33m\u001b[0m\u001b[0m\n",
      "\u001b[1;31mCall signature:\u001b[0m \u001b[0mobject\u001b[0m\u001b[1;33m.\u001b[0m\u001b[0m__setattr__\u001b[0m\u001b[1;33m(\u001b[0m\u001b[1;33m*\u001b[0m\u001b[0margs\u001b[0m\u001b[1;33m,\u001b[0m \u001b[1;33m**\u001b[0m\u001b[0mkwargs\u001b[0m\u001b[1;33m)\u001b[0m\u001b[1;33m\u001b[0m\u001b[1;33m\u001b[0m\u001b[0m\n",
      "\u001b[1;31mType:\u001b[0m           wrapper_descriptor\n",
      "\u001b[1;31mString form:\u001b[0m    <slot wrapper '__setattr__' of 'object' objects>\n",
      "\u001b[1;31mNamespace:\u001b[0m      Python builtin\n",
      "\u001b[1;31mDocstring:\u001b[0m      Implement setattr(self, name, value)."
     ]
    }
   ],
   "source": [
    "object.__setattr__?"
   ]
  },
  {
   "cell_type": "code",
   "execution_count": 145,
   "metadata": {},
   "outputs": [
    {
     "name": "stdout",
     "output_type": "stream",
     "text": [
      "\u001b[1;31mSignature:\u001b[0m      \u001b[0mobject\u001b[0m\u001b[1;33m.\u001b[0m\u001b[0m__delattr__\u001b[0m\u001b[1;33m(\u001b[0m\u001b[0mself\u001b[0m\u001b[1;33m,\u001b[0m \u001b[0mname\u001b[0m\u001b[1;33m,\u001b[0m \u001b[1;33m/\u001b[0m\u001b[1;33m)\u001b[0m\u001b[1;33m\u001b[0m\u001b[1;33m\u001b[0m\u001b[0m\n",
      "\u001b[1;31mCall signature:\u001b[0m \u001b[0mobject\u001b[0m\u001b[1;33m.\u001b[0m\u001b[0m__delattr__\u001b[0m\u001b[1;33m(\u001b[0m\u001b[1;33m*\u001b[0m\u001b[0margs\u001b[0m\u001b[1;33m,\u001b[0m \u001b[1;33m**\u001b[0m\u001b[0mkwargs\u001b[0m\u001b[1;33m)\u001b[0m\u001b[1;33m\u001b[0m\u001b[1;33m\u001b[0m\u001b[0m\n",
      "\u001b[1;31mType:\u001b[0m           wrapper_descriptor\n",
      "\u001b[1;31mString form:\u001b[0m    <slot wrapper '__delattr__' of 'object' objects>\n",
      "\u001b[1;31mNamespace:\u001b[0m      Python builtin\n",
      "\u001b[1;31mDocstring:\u001b[0m      Implement delattr(self, name)."
     ]
    }
   ],
   "source": [
    "object.__delattr__?"
   ]
  },
  {
   "cell_type": "markdown",
   "metadata": {},
   "source": []
  },
  {
   "cell_type": "code",
   "execution_count": 147,
   "metadata": {},
   "outputs": [
    {
     "data": {
      "text/plain": [
       "1"
      ]
     },
     "execution_count": 147,
     "metadata": {},
     "output_type": "execute_result"
    }
   ],
   "source": [
    "coordinate_instance1.__getattribute__('x')"
   ]
  },
  {
   "cell_type": "code",
   "execution_count": 150,
   "metadata": {},
   "outputs": [
    {
     "data": {
      "text/plain": [
       "1"
      ]
     },
     "execution_count": 150,
     "metadata": {},
     "output_type": "execute_result"
    }
   ],
   "source": [
    "getattr(coordinate_instance1, 'x')"
   ]
  },
  {
   "cell_type": "code",
   "execution_count": 153,
   "metadata": {},
   "outputs": [
    {
     "data": {
      "text/plain": [
       "1"
      ]
     },
     "execution_count": 153,
     "metadata": {},
     "output_type": "execute_result"
    }
   ],
   "source": [
    "coordinate_instance1.x"
   ]
  },
  {
   "cell_type": "markdown",
   "metadata": {},
   "source": []
  },
  {
   "cell_type": "code",
   "execution_count": 235,
   "metadata": {},
   "outputs": [
    {
     "data": {
      "text/plain": [
       "2544449833488"
      ]
     },
     "execution_count": 235,
     "metadata": {},
     "output_type": "execute_result"
    }
   ],
   "source": [
    "id(coordinate_instance1)"
   ]
  },
  {
   "cell_type": "code",
   "execution_count": 154,
   "metadata": {},
   "outputs": [],
   "source": [
    "coordinate_instance1.__setattr__('x', 200)"
   ]
  },
  {
   "cell_type": "code",
   "execution_count": 234,
   "metadata": {},
   "outputs": [
    {
     "data": {
      "text/plain": [
       "2544449833488"
      ]
     },
     "execution_count": 234,
     "metadata": {},
     "output_type": "execute_result"
    }
   ],
   "source": [
    "id(coordinate_instance1)"
   ]
  },
  {
   "cell_type": "code",
   "execution_count": 155,
   "metadata": {},
   "outputs": [
    {
     "data": {
      "text/plain": [
       "200"
      ]
     },
     "execution_count": 155,
     "metadata": {},
     "output_type": "execute_result"
    }
   ],
   "source": [
    "coordinate_instance1.x"
   ]
  },
  {
   "cell_type": "code",
   "execution_count": 158,
   "metadata": {},
   "outputs": [],
   "source": [
    "setattr(coordinate_instance1, 'x', 250)"
   ]
  },
  {
   "cell_type": "code",
   "execution_count": 159,
   "metadata": {},
   "outputs": [
    {
     "data": {
      "text/plain": [
       "250"
      ]
     },
     "execution_count": 159,
     "metadata": {},
     "output_type": "execute_result"
    }
   ],
   "source": [
    "coordinate_instance1.x"
   ]
  },
  {
   "cell_type": "code",
   "execution_count": 160,
   "metadata": {},
   "outputs": [],
   "source": [
    "coordinate_instance1.x = 350"
   ]
  },
  {
   "cell_type": "code",
   "execution_count": 161,
   "metadata": {},
   "outputs": [
    {
     "data": {
      "text/plain": [
       "350"
      ]
     },
     "execution_count": 161,
     "metadata": {},
     "output_type": "execute_result"
    }
   ],
   "source": [
    "coordinate_instance1.x"
   ]
  },
  {
   "cell_type": "code",
   "execution_count": 171,
   "metadata": {},
   "outputs": [],
   "source": [
    "coordinate_instance1.z = 999"
   ]
  },
  {
   "cell_type": "code",
   "execution_count": null,
   "metadata": {},
   "outputs": [],
   "source": []
  },
  {
   "cell_type": "code",
   "execution_count": 163,
   "metadata": {},
   "outputs": [],
   "source": [
    "coordinate_instance1.__delattr__('x')"
   ]
  },
  {
   "cell_type": "code",
   "execution_count": 165,
   "metadata": {},
   "outputs": [
    {
     "name": "stdout",
     "output_type": "stream",
     "text": [
      "{'attribute': ['dimension', 'y'],\n",
      " 'method': ['distance_to'],\n",
      " 'datamodel_attribute': ['__dict__', '__doc__', '__module__', '__weakref__'],\n",
      " 'datamodel_method': ['__class__',\n",
      "                      '__delattr__',\n",
      "                      '__dir__',\n",
      "                      '__eq__',\n",
      "                      '__format__',\n",
      "                      '__ge__',\n",
      "                      '__getattribute__',\n",
      "                      '__getstate__',\n",
      "                      '__gt__',\n",
      "                      '__hash__',\n",
      "                      '__init__',\n",
      "                      '__init_subclass__',\n",
      "                      '__le__',\n",
      "                      '__lt__',\n",
      "                      '__ne__',\n",
      "                      '__new__',\n",
      "                      '__reduce__',\n",
      "                      '__reduce_ex__',\n",
      "                      '__repr__',\n",
      "                      '__setattr__',\n",
      "                      '__sizeof__',\n",
      "                      '__str__',\n",
      "                      '__subclasshook__']}\n"
     ]
    }
   ],
   "source": [
    "dir2(coordinate_instance1)"
   ]
  },
  {
   "cell_type": "code",
   "execution_count": 168,
   "metadata": {},
   "outputs": [],
   "source": [
    "delattr(coordinate_instance1, 'y')"
   ]
  },
  {
   "cell_type": "code",
   "execution_count": 169,
   "metadata": {},
   "outputs": [
    {
     "name": "stdout",
     "output_type": "stream",
     "text": [
      "{'attribute': ['dimension'],\n",
      " 'method': ['distance_to'],\n",
      " 'datamodel_attribute': ['__dict__', '__doc__', '__module__', '__weakref__'],\n",
      " 'datamodel_method': ['__class__',\n",
      "                      '__delattr__',\n",
      "                      '__dir__',\n",
      "                      '__eq__',\n",
      "                      '__format__',\n",
      "                      '__ge__',\n",
      "                      '__getattribute__',\n",
      "                      '__getstate__',\n",
      "                      '__gt__',\n",
      "                      '__hash__',\n",
      "                      '__init__',\n",
      "                      '__init_subclass__',\n",
      "                      '__le__',\n",
      "                      '__lt__',\n",
      "                      '__ne__',\n",
      "                      '__new__',\n",
      "                      '__reduce__',\n",
      "                      '__reduce_ex__',\n",
      "                      '__repr__',\n",
      "                      '__setattr__',\n",
      "                      '__sizeof__',\n",
      "                      '__str__',\n",
      "                      '__subclasshook__']}\n"
     ]
    }
   ],
   "source": [
    "dir2(coordinate_instance1)"
   ]
  },
  {
   "cell_type": "code",
   "execution_count": null,
   "metadata": {},
   "outputs": [],
   "source": []
  },
  {
   "cell_type": "code",
   "execution_count": 172,
   "metadata": {},
   "outputs": [],
   "source": [
    "del coordinate_instance1.z"
   ]
  },
  {
   "cell_type": "code",
   "execution_count": 173,
   "metadata": {},
   "outputs": [
    {
     "name": "stdout",
     "output_type": "stream",
     "text": [
      "{'attribute': ['dimension'],\n",
      " 'method': ['distance_to'],\n",
      " 'datamodel_attribute': ['__dict__', '__doc__', '__module__', '__weakref__'],\n",
      " 'datamodel_method': ['__class__',\n",
      "                      '__delattr__',\n",
      "                      '__dir__',\n",
      "                      '__eq__',\n",
      "                      '__format__',\n",
      "                      '__ge__',\n",
      "                      '__getattribute__',\n",
      "                      '__getstate__',\n",
      "                      '__gt__',\n",
      "                      '__hash__',\n",
      "                      '__init__',\n",
      "                      '__init_subclass__',\n",
      "                      '__le__',\n",
      "                      '__lt__',\n",
      "                      '__ne__',\n",
      "                      '__new__',\n",
      "                      '__reduce__',\n",
      "                      '__reduce_ex__',\n",
      "                      '__repr__',\n",
      "                      '__setattr__',\n",
      "                      '__sizeof__',\n",
      "                      '__str__',\n",
      "                      '__subclasshook__']}\n"
     ]
    }
   ],
   "source": [
    "dir2(coordinate_instance1)"
   ]
  },
  {
   "cell_type": "markdown",
   "metadata": {},
   "source": []
  },
  {
   "cell_type": "code",
   "execution_count": 117,
   "metadata": {},
   "outputs": [
    {
     "name": "stdout",
     "output_type": "stream",
     "text": [
      "{'datamodel_attribute': ['__doc__'],\n",
      " 'datamodel_method': ['__class__',\n",
      "                      '__delattr__',\n",
      "                      '__dir__',\n",
      "                      '__eq__',\n",
      "                      '__format__',\n",
      "                      '__ge__',\n",
      "                      '__getattribute__',\n",
      "                      '__getstate__',\n",
      "                      '__gt__',\n",
      "                      '__hash__',\n",
      "                      '__init__',\n",
      "                      '__init_subclass__',\n",
      "                      '__le__',\n",
      "                      '__lt__',\n",
      "                      '__ne__',\n",
      "                      '__new__',\n",
      "                      '__reduce__',\n",
      "                      '__reduce_ex__',\n",
      "                      '__repr__',\n",
      "                      '__setattr__',\n",
      "                      '__sizeof__',\n",
      "                      '__str__',\n",
      "                      '__subclasshook__']}\n"
     ]
    }
   ],
   "source": [
    "dir2(object)"
   ]
  },
  {
   "cell_type": "markdown",
   "metadata": {},
   "source": []
  },
  {
   "cell_type": "markdown",
   "metadata": {},
   "source": [
    "reduce\n",
    "reduce_ex\n",
    "getstate\n",
    "\n",
    "subclasshook"
   ]
  },
  {
   "cell_type": "markdown",
   "metadata": {},
   "source": []
  }
 ],
 "metadata": {
  "kernelspec": {
   "display_name": "vscode-env",
   "language": "python",
   "name": "python3"
  },
  "language_info": {
   "codemirror_mode": {
    "name": "ipython",
    "version": 3
   },
   "file_extension": ".py",
   "mimetype": "text/x-python",
   "name": "python",
   "nbconvert_exporter": "python",
   "pygments_lexer": "ipython3",
   "version": "3.12.1"
  }
 },
 "nbformat": 4,
 "nbformat_minor": 2
}
