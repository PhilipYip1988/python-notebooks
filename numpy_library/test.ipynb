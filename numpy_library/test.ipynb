{
 "cells": [
  {
   "cell_type": "code",
   "execution_count": 1,
   "metadata": {},
   "outputs": [],
   "source": [
    "import numpy as np\n",
    "import math, operator, builtins\n",
    "from helper_module import print_identifier_group"
   ]
  },
  {
   "cell_type": "code",
   "execution_count": 2,
   "metadata": {},
   "outputs": [
    {
     "name": "stdout",
     "output_type": "stream",
     "text": [
      "datamodel attribute: ['__array_interface__', '__array_priority__', '__array_struct__']\n",
      "datamodel method: ['__array__', '__array_finalize__', '__array_function__', '__array_prepare__', '__array_ufunc__', '__array_wrap__', '__buffer__', '__complex__', '__copy__', '__deepcopy__', '__dlpack__', '__dlpack_device__', '__rmatmul__', '__setstate__']\n",
      "constant: ['T']\n",
      "attribute: ['base', 'ctypes', 'data', 'dtype', 'flags', 'flat', 'itemsize', 'nbytes', 'ndim', 'shape', 'size', 'strides']\n",
      "method/function: ['argmax', 'argmin', 'argpartition', 'argsort', 'astype', 'byteswap', 'choose', 'clip', 'compress', 'conj', 'cumprod', 'cumsum', 'diagonal', 'dot', 'dump', 'dumps', 'fill', 'flatten', 'getfield', 'item', 'itemset', 'mean', 'newbyteorder', 'nonzero', 'partition', 'ptp', 'put', 'ravel', 'repeat', 'reshape', 'resize', 'searchsorted', 'setfield', 'setflags', 'squeeze', 'std', 'swapaxes', 'take', 'tobytes', 'tofile', 'tolist', 'tostring', 'trace', 'transpose', 'var', 'view']\n",
      "upper class: []\n",
      "lower class: []\n"
     ]
    }
   ],
   "source": [
    "print_identifier_group(np.ndarray, kind='all', second=[int, builtins, math, list, operator], show_unique_identifiers=True)"
   ]
  }
 ],
 "metadata": {
  "kernelspec": {
   "display_name": "vscode-env",
   "language": "python",
   "name": "python3"
  },
  "language_info": {
   "codemirror_mode": {
    "name": "ipython",
    "version": 3
   },
   "file_extension": ".py",
   "mimetype": "text/x-python",
   "name": "python",
   "nbconvert_exporter": "python",
   "pygments_lexer": "ipython3",
   "version": "3.12.1"
  }
 },
 "nbformat": 4,
 "nbformat_minor": 2
}
