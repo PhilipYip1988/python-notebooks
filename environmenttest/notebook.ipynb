{
 "cells": [
  {
   "attachments": {},
   "cell_type": "markdown",
   "metadata": {},
   "source": [
    "# Python Environment and Python Environment Test"
   ]
  },
  {
   "cell_type": "markdown",
   "metadata": {},
   "source": [
    "This is an interactive Python Notebook. It should be opened in VSCode or JupyterLab for best results. VSCode is a general purpose code editor and for Python requires:\n",
    "\n",
    "* Installation of a Python extension. This can be done by searching for Python in the extensions tab found to the left. \n",
    "* A Python environment. The Python environment should include notebook. This is needed as a dependency to display the interactive Python notebook. Mambaforge is recommended to setup a Python environment."
   ]
  },
  {
   "cell_type": "markdown",
   "metadata": {},
   "source": [
    "### Creating a Python Environment"
   ]
  },
  {
   "cell_type": "markdown",
   "metadata": {},
   "source": [
    "It is recommended to install Mambaforge and use the Mambaforge prompt to create a Python environment. Alternatively install Anaconda and use the Anaconda (base) environment.\n",
    "\n",
    "Install Mambaforge or Anaconda using the respective installer on Windows or by running the perspective shell file in the Linux Terminal (ensure to intialise the Linux Terminal when Prompted).\n",
    "\n",
    "If using Mambaforge, you should update the base Python environment to get the latest version of the Mamba package manager. You should then create a Python environment configured for VSCode. Skip to selecting the Python Interpretter if using Anaconda.\n",
    "\n",
    "Launch the Mambaforge Prompt (this may initially show as the Miniforge Prompt) in Windows or the Linux Terminal in Linux. Both of these should be prefixed with (base). To update the (base) Python environment copy the following command (without the <span style=\"color:green\">#</span>):"
   ]
  },
  {
   "cell_type": "code",
   "execution_count": null,
   "metadata": {},
   "outputs": [],
   "source": [
    "# mamba update --all"
   ]
  },
  {
   "cell_type": "markdown",
   "metadata": {},
   "source": [
    "Then follow the instructions to update. Then to create a new Python environment with the necessary packages copy the following command (without the <span style=\"color:green\">#</span>):"
   ]
  },
  {
   "cell_type": "code",
   "execution_count": null,
   "metadata": {},
   "outputs": [],
   "source": [
    "# mamba create -n vscode python=3.11 notebook cython seaborn scikit-learn sympy openpyxl xlrd xlsxwriter lxml sqlalchemy nodejs ipywidgets plotly ipympl pyqt"
   ]
  },
  {
   "cell_type": "markdown",
   "metadata": {},
   "source": [
    "### Selecting the Python Interpretter"
   ]
  },
  {
   "cell_type": "markdown",
   "metadata": {},
   "source": [
    "\n",
    "\n",
    "To change the Python Environment in VSCode input press Ctrl, Shift and p and search for Python select interpretter. Then select the Python environment vscode if using Mambaforge or base if using Anaconda."
   ]
  },
  {
   "cell_type": "markdown",
   "metadata": {},
   "source": [
    "### Checking the Python Version"
   ]
  },
  {
   "cell_type": "markdown",
   "metadata": {},
   "source": [
    "Run the following code cell to check your Python version. It should be 3.10.12 or higher:"
   ]
  },
  {
   "cell_type": "code",
   "execution_count": 1,
   "metadata": {},
   "outputs": [
    {
     "data": {
      "text/plain": [
       "'3.11.4 | packaged by conda-forge | (main, Jun 10 2023, 17:59:51) [MSC v.1935 64 bit (AMD64)]'"
      ]
     },
     "execution_count": 1,
     "metadata": {},
     "output_type": "execute_result"
    }
   ],
   "source": [
    "import sys\n",
    "sys.version"
   ]
  }
 ],
 "metadata": {
  "kernelspec": {
   "display_name": "jupyterlab",
   "language": "python",
   "name": "python3"
  },
  "language_info": {
   "codemirror_mode": {
    "name": "ipython",
    "version": 3
   },
   "file_extension": ".py",
   "mimetype": "text/x-python",
   "name": "python",
   "nbconvert_exporter": "python",
   "pygments_lexer": "ipython3",
   "version": "3.11.4"
  },
  "orig_nbformat": 4,
  "vscode": {
   "interpreter": {
    "hash": "4648373dafda34926c036cc9e466ef2f8d360789320441bb704a9be21d427d2a"
   }
  }
 },
 "nbformat": 4,
 "nbformat_minor": 2
}
