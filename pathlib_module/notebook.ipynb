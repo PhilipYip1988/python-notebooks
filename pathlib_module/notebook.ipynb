{
 "cells": [
  {
   "cell_type": "markdown",
   "metadata": {},
   "source": [
    "# pathlib module"
   ]
  },
  {
   "cell_type": "markdown",
   "metadata": {},
   "source": [
    "In the previous notebook, the ```os``` module was examined. This module contained the submodule ```os.path``` which was used for working with file paths. This module was seen to be functional and most of the functions returned strings."
   ]
  },
  {
   "cell_type": "markdown",
   "metadata": {},
   "source": [
    "The ```pathlib``` module can be imported using:"
   ]
  },
  {
   "cell_type": "code",
   "execution_count": 2,
   "metadata": {},
   "outputs": [],
   "source": [
    "import pathlib"
   ]
  },
  {
   "cell_type": "markdown",
   "metadata": {},
   "source": [
    "To view the identifiers the function ```print_identifier_group``` from the custom ```helper_module``` will be imported:"
   ]
  },
  {
   "cell_type": "code",
   "execution_count": 3,
   "metadata": {},
   "outputs": [],
   "source": [
    "from helper_module import print_identifier_group"
   ]
  },
  {
   "cell_type": "markdown",
   "metadata": {},
   "source": [
    "The ```pathlib``` module has a number of classes that are in ```PascalCase```:"
   ]
  },
  {
   "cell_type": "code",
   "execution_count": 9,
   "metadata": {},
   "outputs": [
    {
     "name": "stdout",
     "output_type": "stream",
     "text": [
      "['Path', 'PosixPath', 'PurePath', 'PurePosixPath', 'PureWindowsPath', 'WindowsPath']\n"
     ]
    }
   ],
   "source": [
    "print_identifier_group(pathlib, kind='error_class')"
   ]
  },
  {
   "cell_type": "markdown",
   "metadata": {},
   "source": [
    "In ```builtins``` there was a distinction between error classes that used ```PascalCase``` and fundamental classes such as the ```str```, ```int```, ```float```, ```tuple```, ```list``` and ```dict``` that were in lower case. Normally thirdparty classes are in ```PascalCase``` like these within ```pathlib```."
   ]
  },
  {
   "cell_type": "markdown",
   "metadata": {},
   "source": [
    "The most commonly used class in ```pathlib``` is ```'Path'```. This selects the appropriate path for your Operating System ```WindowsPath``` on Windows or ```'PosixPath'``` on Linux/Mac. These are only normally directly selected if a Windows path is required on a Linux/Mac machine or a Linux/Mac path is required on a Windows machine. \n",
    "\n",
    "```Path``` is a child class of ```PurePath```. ```PurePath``` is used purely for hardcoded paths. ```Path``` has additional support for user specific relative paths, in addition to input and output operations. Both of these classes can be imported and their intersection identifiers examined:"
   ]
  },
  {
   "cell_type": "code",
   "execution_count": 11,
   "metadata": {},
   "outputs": [],
   "source": [
    "from pathlib import Path, PurePath"
   ]
  },
  {
   "cell_type": "code",
   "execution_count": 44,
   "metadata": {},
   "outputs": [
    {
     "name": "stdout",
     "output_type": "stream",
     "text": [
      "['__doc__', '__module__', '__slots__']\n"
     ]
    }
   ],
   "source": [
    "print_identifier_group(Path, kind='datamodel_attribute', second=PurePath, show_only_intersection_identifiers=True)"
   ]
  },
  {
   "cell_type": "code",
   "execution_count": 46,
   "metadata": {},
   "outputs": [
    {
     "name": "stdout",
     "output_type": "stream",
     "text": [
      "['__bytes__', '__class__', '__delattr__', '__dir__', '__eq__', '__format__', '__fspath__', '__ge__', '__getattribute__', '__getstate__', '__gt__', '__hash__', '__init__', '__init_subclass__', '__le__', '__lt__', '__ne__', '__new__', '__reduce__', '__reduce_ex__', '__repr__', '__rtruediv__', '__setattr__', '__sizeof__', '__str__', '__subclasshook__', '__truediv__']\n"
     ]
    }
   ],
   "source": [
    "print_identifier_group(Path, kind='datamodel_method', second=PurePath, show_only_intersection_identifiers=True)"
   ]
  },
  {
   "cell_type": "code",
   "execution_count": 47,
   "metadata": {},
   "outputs": [
    {
     "name": "stdout",
     "output_type": "stream",
     "text": [
      "['_cached_cparts', '_cparts', '_drv', '_hash', '_parts', '_pparts', '_root', '_str', 'anchor', 'drive', 'name', 'parent', 'parents', 'parts', 'root', 'stem', 'suffix', 'suffixes']\n"
     ]
    }
   ],
   "source": [
    "print_identifier_group(Path, kind='attribute', second=PurePath, show_only_intersection_identifiers=True)"
   ]
  },
  {
   "cell_type": "code",
   "execution_count": 48,
   "metadata": {},
   "outputs": [
    {
     "name": "stdout",
     "output_type": "stream",
     "text": [
      "['_format_parsed_parts', '_from_parsed_parts', '_from_parts', '_make_child', '_parse_args', 'as_posix', 'as_uri', 'is_absolute', 'is_relative_to', 'is_reserved', 'joinpath', 'match', 'relative_to', 'with_name', 'with_stem', 'with_suffix']\n"
     ]
    }
   ],
   "source": [
    "print_identifier_group(Path, kind='method', second=PurePath, show_only_intersection_identifiers=True)"
   ]
  },
  {
   "cell_type": "markdown",
   "metadata": {},
   "source": [
    "The Windows Operating System uses ```\\``` as a seperator between folders and files. In Python ```\\``` is used in a string to represent an escape character. To insert ```\\``` as an escape character the string contains ```\\\\```:"
   ]
  },
  {
   "cell_type": "code",
   "execution_count": 59,
   "metadata": {},
   "outputs": [
    {
     "data": {
      "text/plain": [
       "'C:\\\\Windows'"
      ]
     },
     "execution_count": 59,
     "metadata": {},
     "output_type": "execute_result"
    }
   ],
   "source": [
    "'C:\\\\Windows'"
   ]
  },
  {
   "cell_type": "markdown",
   "metadata": {},
   "source": [
    "And if this is printed:"
   ]
  },
  {
   "cell_type": "code",
   "execution_count": 60,
   "metadata": {},
   "outputs": [
    {
     "name": "stdout",
     "output_type": "stream",
     "text": [
      "C:\\Windows\n"
     ]
    }
   ],
   "source": [
    "print('C:\\\\Windows')"
   ]
  },
  {
   "cell_type": "markdown",
   "metadata": {},
   "source": [
    "Manually converting each ```\\``` to a ```\\\\``` can be tedious for a long file path and the string can be prefixed with ```r``` to make a raw string. In a raw string the ```\\``` represents the character backslash and there is no means to insert an escape character:"
   ]
  },
  {
   "cell_type": "code",
   "execution_count": 61,
   "metadata": {},
   "outputs": [
    {
     "data": {
      "text/plain": [
       "'C:\\\\Windows'"
      ]
     },
     "execution_count": 61,
     "metadata": {},
     "output_type": "execute_result"
    }
   ],
   "source": [
    "r'C:\\Windows'"
   ]
  },
  {
   "cell_type": "code",
   "execution_count": 62,
   "metadata": {},
   "outputs": [
    {
     "name": "stdout",
     "output_type": "stream",
     "text": [
      "C:\\Windows\n"
     ]
    }
   ],
   "source": [
    "print(r'C:\\Windows')"
   ]
  },
  {
   "cell_type": "markdown",
   "metadata": {},
   "source": [
    "An instance of the ```Path``` class can be instantiated from one of the rawstrings:"
   ]
  },
  {
   "cell_type": "code",
   "execution_count": 56,
   "metadata": {},
   "outputs": [],
   "source": [
    "windows_folder = Path(r'C:\\Windows')"
   ]
  },
  {
   "cell_type": "markdown",
   "metadata": {},
   "source": [
    "Notice when the formal representation of the ```windows_folder``` instance of the ```Path``` class is examined that the ```\\``` is changed to a ```/``` which is recognised as an alternative folder and file seperator on Windows and the default on Linux."
   ]
  },
  {
   "cell_type": "code",
   "execution_count": 63,
   "metadata": {},
   "outputs": [
    {
     "data": {
      "text/plain": [
       "WindowsPath('C:/Windows/System32')"
      ]
     },
     "execution_count": 63,
     "metadata": {},
     "output_type": "execute_result"
    }
   ],
   "source": [
    "windows_folder"
   ]
  },
  {
   "cell_type": "markdown",
   "metadata": {},
   "source": [
    "The datamodel method ```__truediv__``` (*dunder truediv*) is defined which recall defines the behaviour of the ```/``` operator. This is used for concatenation of a directory to the file path:"
   ]
  },
  {
   "cell_type": "code",
   "execution_count": 64,
   "metadata": {},
   "outputs": [],
   "source": [
    "system_32 = windows_folder / 'System32'"
   ]
  },
  {
   "cell_type": "code",
   "execution_count": 65,
   "metadata": {},
   "outputs": [
    {
     "data": {
      "text/plain": [
       "WindowsPath('C:/Windows/System32')"
      ]
     },
     "execution_count": 65,
     "metadata": {},
     "output_type": "execute_result"
    }
   ],
   "source": [
    "system_32"
   ]
  },
  {
   "cell_type": "markdown",
   "metadata": {},
   "source": [
    "And the ```notepad.exe``` application is found here:"
   ]
  },
  {
   "cell_type": "code",
   "execution_count": 68,
   "metadata": {},
   "outputs": [],
   "source": [
    "app = windows_folder / 'System32' / 'notepad.exe'"
   ]
  },
  {
   "cell_type": "code",
   "execution_count": 69,
   "metadata": {},
   "outputs": [
    {
     "data": {
      "text/plain": [
       "WindowsPath('C:/Windows/System32/notepad.exe')"
      ]
     },
     "execution_count": 69,
     "metadata": {},
     "output_type": "execute_result"
    }
   ],
   "source": [
    "app"
   ]
  },
  {
   "cell_type": "markdown",
   "metadata": {},
   "source": [
    "The ```joinpath``` method of the ```Path``` class carries out a similar function:"
   ]
  },
  {
   "cell_type": "code",
   "execution_count": 94,
   "metadata": {},
   "outputs": [],
   "source": [
    "app2 = windows_folder.joinpath('System32', 'notepad.exe')"
   ]
  },
  {
   "cell_type": "code",
   "execution_count": 95,
   "metadata": {},
   "outputs": [
    {
     "data": {
      "text/plain": [
       "WindowsPath('C:/Windows/System32/notepad.exe')"
      ]
     },
     "execution_count": 95,
     "metadata": {},
     "output_type": "execute_result"
    }
   ],
   "source": [
    "app2"
   ]
  },
  {
   "cell_type": "markdown",
   "metadata": {},
   "source": [
    "This ```Path``` instance has a number of attributes for example the app ```name```:"
   ]
  },
  {
   "cell_type": "code",
   "execution_count": 70,
   "metadata": {},
   "outputs": [
    {
     "data": {
      "text/plain": [
       "'notepad.exe'"
      ]
     },
     "execution_count": 70,
     "metadata": {},
     "output_type": "execute_result"
    }
   ],
   "source": [
    "app.name"
   ]
  },
  {
   "cell_type": "markdown",
   "metadata": {},
   "source": [
    "Which includes the app ```stem``` and ```suffix```:"
   ]
  },
  {
   "cell_type": "code",
   "execution_count": 72,
   "metadata": {},
   "outputs": [
    {
     "data": {
      "text/plain": [
       "'notepad'"
      ]
     },
     "execution_count": 72,
     "metadata": {},
     "output_type": "execute_result"
    }
   ],
   "source": [
    "app.stem"
   ]
  },
  {
   "cell_type": "code",
   "execution_count": 75,
   "metadata": {},
   "outputs": [
    {
     "data": {
      "text/plain": [
       "'.exe'"
      ]
     },
     "execution_count": 75,
     "metadata": {},
     "output_type": "execute_result"
    }
   ],
   "source": [
    "app.suffix"
   ]
  },
  {
   "cell_type": "markdown",
   "metadata": {},
   "source": [
    "The suffix can also be added to a list:"
   ]
  },
  {
   "cell_type": "code",
   "execution_count": 77,
   "metadata": {},
   "outputs": [
    {
     "data": {
      "text/plain": [
       "['.exe']"
      ]
     },
     "execution_count": 77,
     "metadata": {},
     "output_type": "execute_result"
    }
   ],
   "source": [
    "app.suffixes"
   ]
  },
  {
   "cell_type": "markdown",
   "metadata": {},
   "source": [
    "The ```parent``` directory:"
   ]
  },
  {
   "cell_type": "code",
   "execution_count": 76,
   "metadata": {},
   "outputs": [
    {
     "data": {
      "text/plain": [
       "WindowsPath('C:/Windows/System32')"
      ]
     },
     "execution_count": 76,
     "metadata": {},
     "output_type": "execute_result"
    }
   ],
   "source": [
    "app.parent"
   ]
  },
  {
   "cell_type": "markdown",
   "metadata": {},
   "source": [
    "The ```parents``` directory, which is typically indexed:"
   ]
  },
  {
   "cell_type": "code",
   "execution_count": 78,
   "metadata": {},
   "outputs": [
    {
     "data": {
      "text/plain": [
       "<WindowsPath.parents>"
      ]
     },
     "execution_count": 78,
     "metadata": {},
     "output_type": "execute_result"
    }
   ],
   "source": [
    "app.parents"
   ]
  },
  {
   "cell_type": "code",
   "execution_count": 79,
   "metadata": {},
   "outputs": [
    {
     "data": {
      "text/plain": [
       "WindowsPath('C:/Windows/System32')"
      ]
     },
     "execution_count": 79,
     "metadata": {},
     "output_type": "execute_result"
    }
   ],
   "source": [
    "app.parents[0]"
   ]
  },
  {
   "cell_type": "code",
   "execution_count": 80,
   "metadata": {},
   "outputs": [
    {
     "data": {
      "text/plain": [
       "WindowsPath('C:/Windows')"
      ]
     },
     "execution_count": 80,
     "metadata": {},
     "output_type": "execute_result"
    }
   ],
   "source": [
    "app.parents[1]"
   ]
  },
  {
   "cell_type": "code",
   "execution_count": 81,
   "metadata": {},
   "outputs": [
    {
     "data": {
      "text/plain": [
       "WindowsPath('C:/')"
      ]
     },
     "execution_count": 81,
     "metadata": {},
     "output_type": "execute_result"
    }
   ],
   "source": [
    "app.parents[2]"
   ]
  },
  {
   "cell_type": "code",
   "execution_count": 83,
   "metadata": {},
   "outputs": [
    {
     "data": {
      "text/plain": [
       "(WindowsPath('C:/Windows/System32'),\n",
       " WindowsPath('C:/Windows'),\n",
       " WindowsPath('C:/'))"
      ]
     },
     "execution_count": 83,
     "metadata": {},
     "output_type": "execute_result"
    }
   ],
   "source": [
    "tuple(app.parents)"
   ]
  },
  {
   "cell_type": "markdown",
   "metadata": {},
   "source": [
    "The anchor includes the dirve and the root:"
   ]
  },
  {
   "cell_type": "code",
   "execution_count": 86,
   "metadata": {},
   "outputs": [
    {
     "data": {
      "text/plain": [
       "'C:\\\\'"
      ]
     },
     "execution_count": 86,
     "metadata": {},
     "output_type": "execute_result"
    }
   ],
   "source": [
    "app.anchor"
   ]
  },
  {
   "cell_type": "code",
   "execution_count": 85,
   "metadata": {},
   "outputs": [
    {
     "data": {
      "text/plain": [
       "'C:'"
      ]
     },
     "execution_count": 85,
     "metadata": {},
     "output_type": "execute_result"
    }
   ],
   "source": [
    "app.drive"
   ]
  },
  {
   "cell_type": "code",
   "execution_count": 84,
   "metadata": {},
   "outputs": [
    {
     "data": {
      "text/plain": [
       "'\\\\'"
      ]
     },
     "execution_count": 84,
     "metadata": {},
     "output_type": "execute_result"
    }
   ],
   "source": [
    "app.root"
   ]
  },
  {
   "cell_type": "markdown",
   "metadata": {},
   "source": [
    "The ```is_absolute``` method of the ```Path``` class will check if the instance corresponds to an absolute path:"
   ]
  },
  {
   "cell_type": "code",
   "execution_count": 96,
   "metadata": {},
   "outputs": [
    {
     "data": {
      "text/plain": [
       "True"
      ]
     },
     "execution_count": 96,
     "metadata": {},
     "output_type": "execute_result"
    }
   ],
   "source": [
    "app.is_absolute()"
   ]
  },
  {
   "cell_type": "code",
   "execution_count": 89,
   "metadata": {},
   "outputs": [
    {
     "data": {
      "text/plain": [
       "WindowsPath('C:/Windows/System32')"
      ]
     },
     "execution_count": 89,
     "metadata": {},
     "output_type": "execute_result"
    }
   ],
   "source": [
    "Path().joinpath('C:/', 'Windows', 'System32')"
   ]
  },
  {
   "cell_type": "markdown",
   "metadata": {},
   "source": [
    "The ```is_relative_to``` method of the ```Path``` class will check if the supplied ```Path``` instance is a root directory:"
   ]
  },
  {
   "cell_type": "code",
   "execution_count": 115,
   "metadata": {},
   "outputs": [
    {
     "data": {
      "text/plain": [
       "WindowsPath('C:/Windows')"
      ]
     },
     "execution_count": 115,
     "metadata": {},
     "output_type": "execute_result"
    }
   ],
   "source": [
    "windows_folder"
   ]
  },
  {
   "cell_type": "code",
   "execution_count": 116,
   "metadata": {},
   "outputs": [
    {
     "data": {
      "text/plain": [
       "WindowsPath('C:/Windows/System32')"
      ]
     },
     "execution_count": 116,
     "metadata": {},
     "output_type": "execute_result"
    }
   ],
   "source": [
    "system_32"
   ]
  },
  {
   "cell_type": "code",
   "execution_count": 113,
   "metadata": {},
   "outputs": [
    {
     "data": {
      "text/plain": [
       "True"
      ]
     },
     "execution_count": 113,
     "metadata": {},
     "output_type": "execute_result"
    }
   ],
   "source": [
    "app.is_relative_to(windows_folder)"
   ]
  },
  {
   "cell_type": "markdown",
   "metadata": {},
   "source": [
    "If it is a root directory the ```relative_to``` method will return a string that can be used, to get to the directory from that root:"
   ]
  },
  {
   "cell_type": "code",
   "execution_count": 114,
   "metadata": {},
   "outputs": [
    {
     "data": {
      "text/plain": [
       "WindowsPath('System32/notepad.exe')"
      ]
     },
     "execution_count": 114,
     "metadata": {},
     "output_type": "execute_result"
    }
   ],
   "source": [
    "app.relative_to(windows_folder)"
   ]
  },
  {
   "cell_type": "markdown",
   "metadata": {},
   "source": [
    "The ```is_reserved``` method of the ```Path``` class will check if the instance corresponds to a path name that is reserved by the operating system such as:"
   ]
  },
  {
   "cell_type": "markdown",
   "metadata": {},
   "source": [
    "* CON - Console\n",
    "* PRN - Printer\n",
    "* AUX - Auxiliary device\n",
    "* NUL - Null device\n",
    "* COM1, COM2, COM3, COM4, COM5, COM6, COM7, COM8, COM9 - Serial ports\n",
    "* LPT1, LPT2, LPT3, LPT4, LPT5, LPT6, LPT7, LPT8, LPT9 - Parallel ports"
   ]
  },
  {
   "cell_type": "code",
   "execution_count": 118,
   "metadata": {},
   "outputs": [
    {
     "data": {
      "text/plain": [
       "True"
      ]
     },
     "execution_count": 118,
     "metadata": {},
     "output_type": "execute_result"
    }
   ],
   "source": [
    "Path('CON').is_reserved()"
   ]
  },
  {
   "cell_type": "markdown",
   "metadata": {},
   "source": [
    "The ```match``` method of the ```Path``` class can be used to see if the ```Path``` instance matches a pattern, for example:"
   ]
  },
  {
   "cell_type": "code",
   "execution_count": 121,
   "metadata": {},
   "outputs": [
    {
     "data": {
      "text/plain": [
       "True"
      ]
     },
     "execution_count": 121,
     "metadata": {},
     "output_type": "execute_result"
    }
   ],
   "source": [
    "app.match('*.exe')"
   ]
  },
  {
   "cell_type": "code",
   "execution_count": 119,
   "metadata": {},
   "outputs": [
    {
     "name": "stdout",
     "output_type": "stream",
     "text": [
      "\u001b[1;31mSignature:\u001b[0m \u001b[0mapp\u001b[0m\u001b[1;33m.\u001b[0m\u001b[0mmatch\u001b[0m\u001b[1;33m(\u001b[0m\u001b[0mpath_pattern\u001b[0m\u001b[1;33m)\u001b[0m\u001b[1;33m\u001b[0m\u001b[1;33m\u001b[0m\u001b[0m\n",
      "\u001b[1;31mDocstring:\u001b[0m Return True if this path matches the given pattern.\n",
      "\u001b[1;31mFile:\u001b[0m      c:\\users\\pyip\\miniconda3\\envs\\jupyterlab\\lib\\pathlib.py\n",
      "\u001b[1;31mType:\u001b[0m      method"
     ]
    }
   ],
   "source": [
    "app.match?"
   ]
  },
  {
   "cell_type": "markdown",
   "metadata": {},
   "source": [
    "The ```with_stem```, ```with_name``` and ```with_suffix``` methods of the ```Path``` class can be used to change the ```stem``` of a file/program maintaining the file extension, ```name``` giving a subfolder without a file extension or used to change the file extension respectively:"
   ]
  },
  {
   "cell_type": "code",
   "execution_count": 125,
   "metadata": {},
   "outputs": [
    {
     "data": {
      "text/plain": [
       "WindowsPath('C:/Windows/System32/explorer.exe')"
      ]
     },
     "execution_count": 125,
     "metadata": {},
     "output_type": "execute_result"
    }
   ],
   "source": [
    "app.with_stem('explorer')"
   ]
  },
  {
   "cell_type": "code",
   "execution_count": 128,
   "metadata": {},
   "outputs": [
    {
     "data": {
      "text/plain": [
       "WindowsPath('C:/Windows/System32/debug')"
      ]
     },
     "execution_count": 128,
     "metadata": {},
     "output_type": "execute_result"
    }
   ],
   "source": [
    "app.with_name('debug')"
   ]
  },
  {
   "cell_type": "code",
   "execution_count": 127,
   "metadata": {},
   "outputs": [
    {
     "data": {
      "text/plain": [
       "WindowsPath('C:/Windows/System32/notepad.txt')"
      ]
     },
     "execution_count": 127,
     "metadata": {},
     "output_type": "execute_result"
    }
   ],
   "source": [
    "app.with_suffix('.txt')"
   ]
  },
  {
   "cell_type": "markdown",
   "metadata": {},
   "source": [
    "The ```Path``` class has additional support for user specific relative paths, in addition to input and output operations:"
   ]
  },
  {
   "cell_type": "code",
   "execution_count": 52,
   "metadata": {},
   "outputs": [
    {
     "name": "stdout",
     "output_type": "stream",
     "text": [
      "[]\n"
     ]
    }
   ],
   "source": [
    "print_identifier_group(Path, kind='datamodel_attribute', second=PurePath, show_unique_identifiers=True)"
   ]
  },
  {
   "cell_type": "code",
   "execution_count": 53,
   "metadata": {},
   "outputs": [
    {
     "name": "stdout",
     "output_type": "stream",
     "text": [
      "['__enter__', '__exit__']\n"
     ]
    }
   ],
   "source": [
    "print_identifier_group(Path, kind='datamodel_method', second=PurePath, show_unique_identifiers=True)"
   ]
  },
  {
   "cell_type": "code",
   "execution_count": 54,
   "metadata": {},
   "outputs": [
    {
     "name": "stdout",
     "output_type": "stream",
     "text": [
      "[]\n"
     ]
    }
   ],
   "source": [
    "print_identifier_group(Path, kind='attribute', second=PurePath, show_unique_identifiers=True)"
   ]
  },
  {
   "cell_type": "code",
   "execution_count": 55,
   "metadata": {},
   "outputs": [
    {
     "name": "stdout",
     "output_type": "stream",
     "text": [
      "['_make_child_relpath', '_scandir', 'absolute', 'chmod', 'cwd', 'exists', 'expanduser', 'glob', 'group', 'hardlink_to', 'home', 'is_block_device', 'is_char_device', 'is_dir', 'is_fifo', 'is_file', 'is_mount', 'is_socket', 'is_symlink', 'iterdir', 'lchmod', 'link_to', 'lstat', 'mkdir', 'open', 'owner', 'read_bytes', 'read_text', 'readlink', 'rename', 'replace', 'resolve', 'rglob', 'rmdir', 'samefile', 'stat', 'symlink_to', 'touch', 'unlink', 'write_bytes', 'write_text']\n"
     ]
    }
   ],
   "source": [
    "print_identifier_group(Path, kind='method', second=PurePath, show_unique_identifiers=True)"
   ]
  },
  {
   "cell_type": "markdown",
   "metadata": {},
   "source": [
    "```Path``` has two class methods ```cwd``` and ```home``` which are sued to create a relative path instance"
   ]
  },
  {
   "cell_type": "markdown",
   "metadata": {},
   "source": []
  },
  {
   "cell_type": "markdown",
   "metadata": {},
   "source": [
    "home \n",
    "expanduser \n",
    "\n",
    "glob \n",
    "chmod group\n",
    "lstat\n",
    "iterdir\n",
    "\n",
    "\n",
    "touch\n",
    "\n",
    "open\n",
    "read_bytes\n",
    "read_text\n",
    "write_bytes\n",
    "write_text\n",
    "rename\n",
    "replace"
   ]
  },
  {
   "cell_type": "code",
   "execution_count": 37,
   "metadata": {},
   "outputs": [
    {
     "ename": "AttributeError",
     "evalue": "'WindowsPath' object has no attribute 'expandvar'",
     "output_type": "error",
     "traceback": [
      "\u001b[1;31m---------------------------------------------------------------------------\u001b[0m",
      "\u001b[1;31mAttributeError\u001b[0m                            Traceback (most recent call last)",
      "\u001b[1;32mc:\\Users\\pyip\\Documents\\GitHub\\python-notebooks\\pathlib_module\\notebook.ipynb Cell 13\u001b[0m line \u001b[0;36m1\n\u001b[1;32m----> <a href='vscode-notebook-cell:/c%3A/Users/pyip/Documents/GitHub/python-notebooks/pathlib_module/notebook.ipynb#Y132sZmlsZQ%3D%3D?line=0'>1</a>\u001b[0m Path(\u001b[39m'\u001b[39;49m\u001b[39m%\u001b[39;49m\u001b[39mWINDIR\u001b[39;49m\u001b[39m%\u001b[39;49m\u001b[39m'\u001b[39;49m)\u001b[39m.\u001b[39;49mexpandvar()\n",
      "\u001b[1;31mAttributeError\u001b[0m: 'WindowsPath' object has no attribute 'expandvar'"
     ]
    }
   ],
   "source": [
    "Path('%WINDIR%').expandvar()"
   ]
  },
  {
   "cell_type": "code",
   "execution_count": 13,
   "metadata": {},
   "outputs": [
    {
     "data": {
      "text/plain": [
       "WindowsPath('C:/Users/pyip')"
      ]
     },
     "execution_count": 13,
     "metadata": {},
     "output_type": "execute_result"
    }
   ],
   "source": [
    "Path.home()"
   ]
  },
  {
   "cell_type": "code",
   "execution_count": 27,
   "metadata": {},
   "outputs": [
    {
     "data": {
      "text/plain": [
       "WindowsPath('C:/Users/pyip/Documents/GitHub')"
      ]
     },
     "execution_count": 27,
     "metadata": {},
     "output_type": "execute_result"
    }
   ],
   "source": [
    "Path('~/Documents/GitHub').expanduser()"
   ]
  },
  {
   "cell_type": "code",
   "execution_count": 12,
   "metadata": {},
   "outputs": [
    {
     "ename": "AttributeError",
     "evalue": "type object 'PurePath' has no attribute 'home'",
     "output_type": "error",
     "traceback": [
      "\u001b[1;31m---------------------------------------------------------------------------\u001b[0m",
      "\u001b[1;31mAttributeError\u001b[0m                            Traceback (most recent call last)",
      "\u001b[1;32mc:\\Users\\pyip\\Documents\\GitHub\\python-notebooks\\pathlib_module\\notebook.ipynb Cell 13\u001b[0m line \u001b[0;36m1\n\u001b[1;32m----> <a href='vscode-notebook-cell:/c%3A/Users/pyip/Documents/GitHub/python-notebooks/pathlib_module/notebook.ipynb#Y126sZmlsZQ%3D%3D?line=0'>1</a>\u001b[0m PurePath\u001b[39m.\u001b[39;49mhome()\n",
      "\u001b[1;31mAttributeError\u001b[0m: type object 'PurePath' has no attribute 'home'"
     ]
    }
   ],
   "source": [
    "PurePath.home()"
   ]
  },
  {
   "cell_type": "code",
   "execution_count": 1,
   "metadata": {},
   "outputs": [],
   "source": [
    "import pathlib"
   ]
  },
  {
   "cell_type": "code",
   "execution_count": null,
   "metadata": {},
   "outputs": [],
   "source": [
    "pathlib.PurePath"
   ]
  },
  {
   "cell_type": "code",
   "execution_count": 2,
   "metadata": {},
   "outputs": [
    {
     "name": "stdout",
     "output_type": "stream",
     "text": [
      "Help on class Path in module pathlib:\n",
      "\n",
      "class Path(PurePath)\n",
      " |  Path(*args, **kwargs)\n",
      " |  \n",
      " |  PurePath subclass that can make system calls.\n",
      " |  \n",
      " |  Path represents a filesystem path but unlike PurePath, also offers\n",
      " |  methods to do system calls on path objects. Depending on your system,\n",
      " |  instantiating a Path will return either a PosixPath or a WindowsPath\n",
      " |  object. You can also instantiate a PosixPath or WindowsPath directly,\n",
      " |  but cannot instantiate a WindowsPath on a POSIX system or vice versa.\n",
      " |  \n",
      " |  Method resolution order:\n",
      " |      Path\n",
      " |      PurePath\n",
      " |      builtins.object\n",
      " |  \n",
      " |  Methods defined here:\n",
      " |  \n",
      " |  __enter__(self)\n",
      " |  \n",
      " |  __exit__(self, t, v, tb)\n",
      " |  \n",
      " |  absolute(self)\n",
      " |      Return an absolute version of this path by prepending the current\n",
      " |      working directory. No normalization or symlink resolution is performed.\n",
      " |      \n",
      " |      Use resolve() to get the canonical path to a file.\n",
      " |  \n",
      " |  chmod(self, mode, *, follow_symlinks=True)\n",
      " |      Change the permissions of the path, like os.chmod().\n",
      " |  \n",
      " |  exists(self)\n",
      " |      Whether this path exists.\n",
      " |  \n",
      " |  expanduser(self)\n",
      " |      Return a new path with expanded ~ and ~user constructs\n",
      " |      (as returned by os.path.expanduser)\n",
      " |  \n",
      " |  glob(self, pattern)\n",
      " |      Iterate over this subtree and yield all existing files (of any\n",
      " |      kind, including directories) matching the given relative pattern.\n",
      " |  \n",
      " |  group(self)\n",
      " |      Return the group name of the file gid.\n",
      " |  \n",
      " |  hardlink_to(self, target)\n",
      " |      Make this path a hard link pointing to the same file as *target*.\n",
      " |      \n",
      " |      Note the order of arguments (self, target) is the reverse of os.link's.\n",
      " |  \n",
      " |  is_block_device(self)\n",
      " |      Whether this path is a block device.\n",
      " |  \n",
      " |  is_char_device(self)\n",
      " |      Whether this path is a character device.\n",
      " |  \n",
      " |  is_dir(self)\n",
      " |      Whether this path is a directory.\n",
      " |  \n",
      " |  is_fifo(self)\n",
      " |      Whether this path is a FIFO.\n",
      " |  \n",
      " |  is_file(self)\n",
      " |      Whether this path is a regular file (also True for symlinks pointing\n",
      " |      to regular files).\n",
      " |  \n",
      " |  is_mount(self)\n",
      " |      Check if this path is a POSIX mount point\n",
      " |  \n",
      " |  is_socket(self)\n",
      " |      Whether this path is a socket.\n",
      " |  \n",
      " |  is_symlink(self)\n",
      " |      Whether this path is a symbolic link.\n",
      " |  \n",
      " |  iterdir(self)\n",
      " |      Iterate over the files in this directory.  Does not yield any\n",
      " |      result for the special paths '.' and '..'.\n",
      " |  \n",
      " |  lchmod(self, mode)\n",
      " |      Like chmod(), except if the path points to a symlink, the symlink's\n",
      " |      permissions are changed, rather than its target's.\n",
      " |  \n",
      " |  link_to(self, target)\n",
      " |      Make the target path a hard link pointing to this path.\n",
      " |      \n",
      " |      Note this function does not make this path a hard link to *target*,\n",
      " |      despite the implication of the function and argument names. The order\n",
      " |      of arguments (target, link) is the reverse of Path.symlink_to, but\n",
      " |      matches that of os.link.\n",
      " |      \n",
      " |      Deprecated since Python 3.10 and scheduled for removal in Python 3.12.\n",
      " |      Use `hardlink_to()` instead.\n",
      " |  \n",
      " |  lstat(self)\n",
      " |      Like stat(), except if the path points to a symlink, the symlink's\n",
      " |      status information is returned, rather than its target's.\n",
      " |  \n",
      " |  mkdir(self, mode=511, parents=False, exist_ok=False)\n",
      " |      Create a new directory at this given path.\n",
      " |  \n",
      " |  open(self, mode='r', buffering=-1, encoding=None, errors=None, newline=None)\n",
      " |      Open the file pointed by this path and return a file object, as\n",
      " |      the built-in open() function does.\n",
      " |  \n",
      " |  owner(self)\n",
      " |      Return the login name of the file owner.\n",
      " |  \n",
      " |  read_bytes(self)\n",
      " |      Open the file in bytes mode, read it, and close the file.\n",
      " |  \n",
      " |  read_text(self, encoding=None, errors=None)\n",
      " |      Open the file in text mode, read it, and close the file.\n",
      " |  \n",
      " |  readlink(self)\n",
      " |      Return the path to which the symbolic link points.\n",
      " |  \n",
      " |  rename(self, target)\n",
      " |      Rename this path to the target path.\n",
      " |      \n",
      " |      The target path may be absolute or relative. Relative paths are\n",
      " |      interpreted relative to the current working directory, *not* the\n",
      " |      directory of the Path object.\n",
      " |      \n",
      " |      Returns the new Path instance pointing to the target path.\n",
      " |  \n",
      " |  replace(self, target)\n",
      " |      Rename this path to the target path, overwriting if that path exists.\n",
      " |      \n",
      " |      The target path may be absolute or relative. Relative paths are\n",
      " |      interpreted relative to the current working directory, *not* the\n",
      " |      directory of the Path object.\n",
      " |      \n",
      " |      Returns the new Path instance pointing to the target path.\n",
      " |  \n",
      " |  resolve(self, strict=False)\n",
      " |      Make the path absolute, resolving all symlinks on the way and also\n",
      " |      normalizing it.\n",
      " |  \n",
      " |  rglob(self, pattern)\n",
      " |      Recursively yield all existing files (of any kind, including\n",
      " |      directories) matching the given relative pattern, anywhere in\n",
      " |      this subtree.\n",
      " |  \n",
      " |  rmdir(self)\n",
      " |      Remove this directory.  The directory must be empty.\n",
      " |  \n",
      " |  samefile(self, other_path)\n",
      " |      Return whether other_path is the same or not as this file\n",
      " |      (as returned by os.path.samefile()).\n",
      " |  \n",
      " |  stat(self, *, follow_symlinks=True)\n",
      " |      Return the result of the stat() system call on this path, like\n",
      " |      os.stat() does.\n",
      " |  \n",
      " |  symlink_to(self, target, target_is_directory=False)\n",
      " |      Make this path a symlink pointing to the target path.\n",
      " |      Note the order of arguments (link, target) is the reverse of os.symlink.\n",
      " |  \n",
      " |  touch(self, mode=438, exist_ok=True)\n",
      " |      Create this file with the given access mode, if it doesn't exist.\n",
      " |  \n",
      " |  unlink(self, missing_ok=False)\n",
      " |      Remove this file or link.\n",
      " |      If the path is a directory, use rmdir() instead.\n",
      " |  \n",
      " |  write_bytes(self, data)\n",
      " |      Open the file in bytes mode, write to it, and close the file.\n",
      " |  \n",
      " |  write_text(self, data, encoding=None, errors=None, newline=None)\n",
      " |      Open the file in text mode, write to it, and close the file.\n",
      " |  \n",
      " |  ----------------------------------------------------------------------\n",
      " |  Class methods defined here:\n",
      " |  \n",
      " |  cwd() from builtins.type\n",
      " |      Return a new path pointing to the current working directory\n",
      " |      (as returned by os.getcwd()).\n",
      " |  \n",
      " |  home() from builtins.type\n",
      " |      Return a new path pointing to the user's home directory (as\n",
      " |      returned by os.path.expanduser('~')).\n",
      " |  \n",
      " |  ----------------------------------------------------------------------\n",
      " |  Static methods defined here:\n",
      " |  \n",
      " |  __new__(cls, *args, **kwargs)\n",
      " |      Construct a PurePath from one or several strings and or existing\n",
      " |      PurePath objects.  The strings and path objects are combined so as\n",
      " |      to yield a canonicalized path, which is incorporated into the\n",
      " |      new PurePath object.\n",
      " |  \n",
      " |  ----------------------------------------------------------------------\n",
      " |  Methods inherited from PurePath:\n",
      " |  \n",
      " |  __bytes__(self)\n",
      " |      Return the bytes representation of the path.  This is only\n",
      " |      recommended to use under Unix.\n",
      " |  \n",
      " |  __eq__(self, other)\n",
      " |      Return self==value.\n",
      " |  \n",
      " |  __fspath__(self)\n",
      " |  \n",
      " |  __ge__(self, other)\n",
      " |      Return self>=value.\n",
      " |  \n",
      " |  __gt__(self, other)\n",
      " |      Return self>value.\n",
      " |  \n",
      " |  __hash__(self)\n",
      " |      Return hash(self).\n",
      " |  \n",
      " |  __le__(self, other)\n",
      " |      Return self<=value.\n",
      " |  \n",
      " |  __lt__(self, other)\n",
      " |      Return self<value.\n",
      " |  \n",
      " |  __reduce__(self)\n",
      " |      Helper for pickle.\n",
      " |  \n",
      " |  __repr__(self)\n",
      " |      Return repr(self).\n",
      " |  \n",
      " |  __rtruediv__(self, key)\n",
      " |  \n",
      " |  __str__(self)\n",
      " |      Return the string representation of the path, suitable for\n",
      " |      passing to system calls.\n",
      " |  \n",
      " |  __truediv__(self, key)\n",
      " |  \n",
      " |  as_posix(self)\n",
      " |      Return the string representation of the path with forward (/)\n",
      " |      slashes.\n",
      " |  \n",
      " |  as_uri(self)\n",
      " |      Return the path as a 'file' URI.\n",
      " |  \n",
      " |  is_absolute(self)\n",
      " |      True if the path is absolute (has both a root and, if applicable,\n",
      " |      a drive).\n",
      " |  \n",
      " |  is_relative_to(self, *other)\n",
      " |      Return True if the path is relative to another path or False.\n",
      " |  \n",
      " |  is_reserved(self)\n",
      " |      Return True if the path contains one of the special names reserved\n",
      " |      by the system, if any.\n",
      " |  \n",
      " |  joinpath(self, *args)\n",
      " |      Combine this path with one or several arguments, and return a\n",
      " |      new path representing either a subpath (if all arguments are relative\n",
      " |      paths) or a totally different path (if one of the arguments is\n",
      " |      anchored).\n",
      " |  \n",
      " |  match(self, path_pattern)\n",
      " |      Return True if this path matches the given pattern.\n",
      " |  \n",
      " |  relative_to(self, *other)\n",
      " |      Return the relative path to another path identified by the passed\n",
      " |      arguments.  If the operation is not possible (because this is not\n",
      " |      a subpath of the other path), raise ValueError.\n",
      " |  \n",
      " |  with_name(self, name)\n",
      " |      Return a new path with the file name changed.\n",
      " |  \n",
      " |  with_stem(self, stem)\n",
      " |      Return a new path with the stem changed.\n",
      " |  \n",
      " |  with_suffix(self, suffix)\n",
      " |      Return a new path with the file suffix changed.  If the path\n",
      " |      has no suffix, add given suffix.  If the given suffix is an empty\n",
      " |      string, remove the suffix from the path.\n",
      " |  \n",
      " |  ----------------------------------------------------------------------\n",
      " |  Readonly properties inherited from PurePath:\n",
      " |  \n",
      " |  anchor\n",
      " |      The concatenation of the drive and root, or ''.\n",
      " |  \n",
      " |  drive\n",
      " |      The drive prefix (letter or UNC path), if any.\n",
      " |  \n",
      " |  name\n",
      " |      The final path component, if any.\n",
      " |  \n",
      " |  parent\n",
      " |      The logical parent of the path.\n",
      " |  \n",
      " |  parents\n",
      " |      A sequence of this path's logical parents.\n",
      " |  \n",
      " |  parts\n",
      " |      An object providing sequence-like access to the\n",
      " |      components in the filesystem path.\n",
      " |  \n",
      " |  root\n",
      " |      The root of the path, if any.\n",
      " |  \n",
      " |  stem\n",
      " |      The final path component, minus its last suffix.\n",
      " |  \n",
      " |  suffix\n",
      " |      The final component's last suffix, if any.\n",
      " |      \n",
      " |      This includes the leading period. For example: '.txt'\n",
      " |  \n",
      " |  suffixes\n",
      " |      A list of the final component's suffixes, if any.\n",
      " |      \n",
      " |      These include the leading periods. For example: ['.tar', '.gz']\n",
      "\n"
     ]
    }
   ],
   "source": [
    "help(Path)"
   ]
  },
  {
   "cell_type": "markdown",
   "metadata": {},
   "source": []
  },
  {
   "cell_type": "code",
   "execution_count": 27,
   "metadata": {},
   "outputs": [],
   "source": [
    "user_profile = Path('C:/Users/Philip') "
   ]
  },
  {
   "cell_type": "code",
   "execution_count": 28,
   "metadata": {},
   "outputs": [
    {
     "data": {
      "text/plain": [
       "WindowsPath('C:/Users/Philip')"
      ]
     },
     "execution_count": 28,
     "metadata": {},
     "output_type": "execute_result"
    }
   ],
   "source": [
    "user_profile"
   ]
  },
  {
   "cell_type": "markdown",
   "metadata": {},
   "source": []
  },
  {
   "cell_type": "code",
   "execution_count": 25,
   "metadata": {},
   "outputs": [],
   "source": [
    "user_profile = Path(r'C:\\Users\\Philip') "
   ]
  },
  {
   "cell_type": "code",
   "execution_count": 29,
   "metadata": {},
   "outputs": [
    {
     "data": {
      "text/plain": [
       "WindowsPath('C:/Users/Philip')"
      ]
     },
     "execution_count": 29,
     "metadata": {},
     "output_type": "execute_result"
    }
   ],
   "source": [
    "user_profile"
   ]
  },
  {
   "cell_type": "markdown",
   "metadata": {},
   "source": []
  },
  {
   "cell_type": "code",
   "execution_count": 26,
   "metadata": {},
   "outputs": [
    {
     "data": {
      "text/plain": [
       "WindowsPath('C:/Users/Philip/Documents')"
      ]
     },
     "execution_count": 26,
     "metadata": {},
     "output_type": "execute_result"
    }
   ],
   "source": [
    "user_profile / 'Documents'"
   ]
  },
  {
   "cell_type": "markdown",
   "metadata": {},
   "source": []
  },
  {
   "cell_type": "code",
   "execution_count": null,
   "metadata": {},
   "outputs": [],
   "source": []
  },
  {
   "cell_type": "code",
   "execution_count": 30,
   "metadata": {},
   "outputs": [
    {
     "data": {
      "text/plain": [
       "WindowsPath('c:/Users/Philip/Documents/GitHub/python-notebooks/pathlib_module')"
      ]
     },
     "execution_count": 30,
     "metadata": {},
     "output_type": "execute_result"
    }
   ],
   "source": [
    "Path.cwd()"
   ]
  },
  {
   "cell_type": "code",
   "execution_count": 31,
   "metadata": {},
   "outputs": [
    {
     "data": {
      "text/plain": [
       "WindowsPath('C:/Users/Philip')"
      ]
     },
     "execution_count": 31,
     "metadata": {},
     "output_type": "execute_result"
    }
   ],
   "source": [
    "Path.home()"
   ]
  },
  {
   "cell_type": "code",
   "execution_count": null,
   "metadata": {},
   "outputs": [],
   "source": [
    "Path."
   ]
  },
  {
   "cell_type": "markdown",
   "metadata": {},
   "source": []
  },
  {
   "cell_type": "code",
   "execution_count": 32,
   "metadata": {},
   "outputs": [],
   "source": [
    "from helper_module import print_identifier_group"
   ]
  },
  {
   "cell_type": "code",
   "execution_count": 34,
   "metadata": {},
   "outputs": [
    {
     "name": "stdout",
     "output_type": "stream",
     "text": [
      "['__doc__', '__module__', '__slots__']\n"
     ]
    }
   ],
   "source": [
    "print_identifier_group(Path, kind='datamodel_attribute')"
   ]
  },
  {
   "cell_type": "code",
   "execution_count": 35,
   "metadata": {},
   "outputs": [
    {
     "name": "stdout",
     "output_type": "stream",
     "text": [
      "['__bytes__', '__class__', '__delattr__', '__dir__', '__enter__', '__eq__', '__exit__', '__format__', '__fspath__', '__ge__', '__getattribute__', '__getstate__', '__gt__', '__hash__', '__init__', '__init_subclass__', '__le__', '__lt__', '__ne__', '__new__', '__reduce__', '__reduce_ex__', '__repr__', '__rtruediv__', '__setattr__', '__sizeof__', '__str__', '__subclasshook__', '__truediv__']\n"
     ]
    }
   ],
   "source": [
    "print_identifier_group(Path, kind='datamodel_method')"
   ]
  },
  {
   "cell_type": "code",
   "execution_count": 36,
   "metadata": {},
   "outputs": [
    {
     "name": "stdout",
     "output_type": "stream",
     "text": [
      "['_cached_cparts', '_cparts', '_drv', '_hash', '_parts', '_pparts', '_root', '_str', 'anchor', 'drive', 'name', 'parent', 'parents', 'parts', 'root', 'stem', 'suffix', 'suffixes']\n"
     ]
    }
   ],
   "source": [
    "print_identifier_group(Path, kind='attribute')"
   ]
  },
  {
   "cell_type": "code",
   "execution_count": 37,
   "metadata": {},
   "outputs": [
    {
     "name": "stdout",
     "output_type": "stream",
     "text": [
      "['_format_parsed_parts', '_from_parsed_parts', '_from_parts', '_make_child', '_make_child_relpath', '_parse_args', '_scandir', 'absolute', 'as_posix', 'as_uri', 'chmod', 'cwd', 'exists', 'expanduser', 'glob', 'group', 'hardlink_to', 'home', 'is_absolute', 'is_block_device', 'is_char_device', 'is_dir', 'is_fifo', 'is_file', 'is_mount', 'is_relative_to', 'is_reserved', 'is_socket', 'is_symlink', 'iterdir', 'joinpath', 'lchmod', 'link_to', 'lstat', 'match', 'mkdir', 'open', 'owner', 'read_bytes', 'read_text', 'readlink', 'relative_to', 'rename', 'replace', 'resolve', 'rglob', 'rmdir', 'samefile', 'stat', 'symlink_to', 'touch', 'unlink', 'with_name', 'with_stem', 'with_suffix', 'write_bytes', 'write_text']\n"
     ]
    }
   ],
   "source": [
    "print_identifier_group(Path, kind='method')"
   ]
  },
  {
   "cell_type": "code",
   "execution_count": 38,
   "metadata": {},
   "outputs": [],
   "source": [
    "user_profile = Path('C:/Users/Philip')"
   ]
  },
  {
   "cell_type": "code",
   "execution_count": 40,
   "metadata": {},
   "outputs": [
    {
     "data": {
      "text/plain": [
       "WindowsPath('C:/Users/Philip')"
      ]
     },
     "execution_count": 40,
     "metadata": {},
     "output_type": "execute_result"
    }
   ],
   "source": [
    "user_profile"
   ]
  },
  {
   "cell_type": "code",
   "execution_count": 39,
   "metadata": {},
   "outputs": [],
   "source": [
    "user_profile2 = Path(r'C:\\Users\\Philip')"
   ]
  },
  {
   "cell_type": "code",
   "execution_count": 41,
   "metadata": {},
   "outputs": [
    {
     "data": {
      "text/plain": [
       "WindowsPath('C:/Users/Philip')"
      ]
     },
     "execution_count": 41,
     "metadata": {},
     "output_type": "execute_result"
    }
   ],
   "source": [
    "user_profile2"
   ]
  },
  {
   "cell_type": "markdown",
   "metadata": {},
   "source": [
    "The ```/``` operator is assigned for path concatenation:"
   ]
  },
  {
   "cell_type": "code",
   "execution_count": 77,
   "metadata": {},
   "outputs": [],
   "source": [
    "file_path = user_profile / 'Documents' / 'notebook.ipynb'"
   ]
  },
  {
   "cell_type": "code",
   "execution_count": 78,
   "metadata": {},
   "outputs": [
    {
     "data": {
      "text/plain": [
       "WindowsPath('C:/Users/Philip/Documents/notebook.ipynb')"
      ]
     },
     "execution_count": 78,
     "metadata": {},
     "output_type": "execute_result"
    }
   ],
   "source": [
    "file_path"
   ]
  },
  {
   "cell_type": "code",
   "execution_count": 81,
   "metadata": {},
   "outputs": [
    {
     "data": {
      "text/plain": [
       "'C:'"
      ]
     },
     "execution_count": 81,
     "metadata": {},
     "output_type": "execute_result"
    }
   ],
   "source": [
    "file_path.drive"
   ]
  },
  {
   "cell_type": "code",
   "execution_count": 82,
   "metadata": {},
   "outputs": [
    {
     "data": {
      "text/plain": [
       "'\\\\'"
      ]
     },
     "execution_count": 82,
     "metadata": {},
     "output_type": "execute_result"
    }
   ],
   "source": [
    "file_path.root"
   ]
  },
  {
   "cell_type": "code",
   "execution_count": 83,
   "metadata": {},
   "outputs": [
    {
     "data": {
      "text/plain": [
       "'C:\\\\'"
      ]
     },
     "execution_count": 83,
     "metadata": {},
     "output_type": "execute_result"
    }
   ],
   "source": [
    "file_path.anchor"
   ]
  },
  {
   "cell_type": "code",
   "execution_count": 86,
   "metadata": {},
   "outputs": [
    {
     "data": {
      "text/plain": [
       "(WindowsPath('C:/Users/Philip/Documents'),\n",
       " WindowsPath('C:/Users/Philip'),\n",
       " WindowsPath('C:/Users'),\n",
       " WindowsPath('C:/'))"
      ]
     },
     "execution_count": 86,
     "metadata": {},
     "output_type": "execute_result"
    }
   ],
   "source": [
    "tuple(file_path.parents)"
   ]
  },
  {
   "cell_type": "code",
   "execution_count": 88,
   "metadata": {},
   "outputs": [
    {
     "data": {
      "text/plain": [
       "('C:\\\\', 'Users', 'Philip', 'Documents', 'notebook.ipynb')"
      ]
     },
     "execution_count": 88,
     "metadata": {},
     "output_type": "execute_result"
    }
   ],
   "source": [
    "file_path.parts"
   ]
  },
  {
   "cell_type": "code",
   "execution_count": null,
   "metadata": {},
   "outputs": [],
   "source": []
  },
  {
   "cell_type": "markdown",
   "metadata": {},
   "source": []
  },
  {
   "cell_type": "code",
   "execution_count": 101,
   "metadata": {},
   "outputs": [
    {
     "data": {
      "text/plain": [
       "WindowsPath('c:/Users/Philip/Documents/GitHub/python-notebooks/pathlib_module')"
      ]
     },
     "execution_count": 101,
     "metadata": {},
     "output_type": "execute_result"
    }
   ],
   "source": [
    "Path.cwd()"
   ]
  },
  {
   "cell_type": "code",
   "execution_count": 98,
   "metadata": {},
   "outputs": [
    {
     "data": {
      "text/plain": [
       "WindowsPath('C:/Users/Philip')"
      ]
     },
     "execution_count": 98,
     "metadata": {},
     "output_type": "execute_result"
    }
   ],
   "source": [
    "Path.home()"
   ]
  },
  {
   "cell_type": "code",
   "execution_count": null,
   "metadata": {},
   "outputs": [],
   "source": []
  },
  {
   "cell_type": "markdown",
   "metadata": {},
   "source": []
  },
  {
   "cell_type": "markdown",
   "metadata": {},
   "source": []
  },
  {
   "cell_type": "code",
   "execution_count": 95,
   "metadata": {},
   "outputs": [
    {
     "data": {
      "text/plain": [
       "WindowsPath('C:/Users/Philip/Documents/notebook.ipynb')"
      ]
     },
     "execution_count": 95,
     "metadata": {},
     "output_type": "execute_result"
    }
   ],
   "source": [
    "file_path.absolute()"
   ]
  },
  {
   "cell_type": "code",
   "execution_count": 102,
   "metadata": {},
   "outputs": [
    {
     "ename": "ValueError",
     "evalue": "'C:\\\\Users\\\\Philip\\\\Documents\\\\notebook.ipynb' is not in the subpath of 'c:\\\\Users\\\\Philip\\\\Documents\\\\GitHub\\\\python-notebooks\\\\pathlib_module' OR one path is relative and the other is absolute.",
     "output_type": "error",
     "traceback": [
      "\u001b[1;31m---------------------------------------------------------------------------\u001b[0m",
      "\u001b[1;31mValueError\u001b[0m                                Traceback (most recent call last)",
      "\u001b[1;32mc:\\Users\\Philip\\Documents\\GitHub\\python-notebooks\\pathlib_module\\notebook.ipynb Cell 50\u001b[0m line \u001b[0;36m1\n\u001b[1;32m----> <a href='vscode-notebook-cell:/c%3A/Users/Philip/Documents/GitHub/python-notebooks/pathlib_module/notebook.ipynb#Y101sZmlsZQ%3D%3D?line=0'>1</a>\u001b[0m file_path\u001b[39m.\u001b[39;49mrelative_to(Path\u001b[39m.\u001b[39;49mcwd())\n",
      "File \u001b[1;32mc:\\Users\\Philip\\Miniconda3\\envs\\vscode\\Lib\\pathlib.py:730\u001b[0m, in \u001b[0;36mPurePath.relative_to\u001b[1;34m(self, *other)\u001b[0m\n\u001b[0;32m    728\u001b[0m \u001b[39mif\u001b[39;00m (root \u001b[39mor\u001b[39;00m drv) \u001b[39mif\u001b[39;00m n \u001b[39m==\u001b[39m \u001b[39m0\u001b[39m \u001b[39melse\u001b[39;00m cf(abs_parts[:n]) \u001b[39m!=\u001b[39m cf(to_abs_parts):\n\u001b[0;32m    729\u001b[0m     formatted \u001b[39m=\u001b[39m \u001b[39mself\u001b[39m\u001b[39m.\u001b[39m_format_parsed_parts(to_drv, to_root, to_parts)\n\u001b[1;32m--> 730\u001b[0m     \u001b[39mraise\u001b[39;00m \u001b[39mValueError\u001b[39;00m(\u001b[39m\"\u001b[39m\u001b[39m{!r}\u001b[39;00m\u001b[39m is not in the subpath of \u001b[39m\u001b[39m{!r}\u001b[39;00m\u001b[39m\"\u001b[39m\n\u001b[0;32m    731\u001b[0m             \u001b[39m\"\u001b[39m\u001b[39m OR one path is relative and the other is absolute.\u001b[39m\u001b[39m\"\u001b[39m\n\u001b[0;32m    732\u001b[0m                      \u001b[39m.\u001b[39mformat(\u001b[39mstr\u001b[39m(\u001b[39mself\u001b[39m), \u001b[39mstr\u001b[39m(formatted)))\n\u001b[0;32m    733\u001b[0m \u001b[39mreturn\u001b[39;00m \u001b[39mself\u001b[39m\u001b[39m.\u001b[39m_from_parsed_parts(\u001b[39m'\u001b[39m\u001b[39m'\u001b[39m, root \u001b[39mif\u001b[39;00m n \u001b[39m==\u001b[39m \u001b[39m1\u001b[39m \u001b[39melse\u001b[39;00m \u001b[39m'\u001b[39m\u001b[39m'\u001b[39m,\n\u001b[0;32m    734\u001b[0m                                abs_parts[n:])\n",
      "\u001b[1;31mValueError\u001b[0m: 'C:\\\\Users\\\\Philip\\\\Documents\\\\notebook.ipynb' is not in the subpath of 'c:\\\\Users\\\\Philip\\\\Documents\\\\GitHub\\\\python-notebooks\\\\pathlib_module' OR one path is relative and the other is absolute."
     ]
    }
   ],
   "source": [
    "#file_path.relative_to(Path.cwd())"
   ]
  }
 ],
 "metadata": {
  "kernelspec": {
   "display_name": "Python 3",
   "language": "python",
   "name": "python3"
  },
  "language_info": {
   "codemirror_mode": {
    "name": "ipython",
    "version": 3
   },
   "file_extension": ".py",
   "mimetype": "text/x-python",
   "name": "python",
   "nbconvert_exporter": "python",
   "pygments_lexer": "ipython3",
   "version": "3.11.5"
  },
  "orig_nbformat": 4
 },
 "nbformat": 4,
 "nbformat_minor": 2
}
