{
 "cells": [
  {
   "cell_type": "markdown",
   "metadata": {},
   "source": [
    "# Python Formatters"
   ]
  },
  {
   "cell_type": "markdown",
   "metadata": {},
   "source": [
    "This tutorial will look at using some Code Formatters ```autopep8``` and ```black```"
   ]
  },
  {
   "cell_type": "markdown",
   "metadata": {},
   "source": [
    "## IPython Magics and CMD"
   ]
  },
  {
   "cell_type": "markdown",
   "metadata": {},
   "source": [
    "JupyterLab uses an IPython interpretter where each code cell is an IPython cell. An IPython cell can run: \n",
    "* Python code (default)\n",
    "* IPython magic commands\n",
    "* CMD (Windows) or bash (Linux/Mac) commands"
   ]
  },
  {
   "cell_type": "markdown",
   "metadata": {},
   "source": [
    "The list of magic commands can be seen using:"
   ]
  },
  {
   "cell_type": "code",
   "execution_count": 1,
   "metadata": {},
   "outputs": [
    {
     "data": {
      "application/json": {
       "cell": {
        "!": "OSMagics",
        "HTML": "Other",
        "SVG": "Other",
        "bash": "Other",
        "capture": "ExecutionMagics",
        "cmd": "Other",
        "code_wrap": "ExecutionMagics",
        "debug": "ExecutionMagics",
        "file": "Other",
        "html": "DisplayMagics",
        "javascript": "DisplayMagics",
        "js": "DisplayMagics",
        "latex": "DisplayMagics",
        "markdown": "DisplayMagics",
        "perl": "Other",
        "prun": "ExecutionMagics",
        "pypy": "Other",
        "python": "Other",
        "python2": "Other",
        "python3": "Other",
        "ruby": "Other",
        "script": "ScriptMagics",
        "sh": "Other",
        "svg": "DisplayMagics",
        "sx": "OSMagics",
        "system": "OSMagics",
        "time": "ExecutionMagics",
        "timeit": "ExecutionMagics",
        "writefile": "OSMagics"
       },
       "line": {
        "alias": "OSMagics",
        "alias_magic": "BasicMagics",
        "autoawait": "AsyncMagics",
        "autocall": "AutoMagics",
        "automagic": "AutoMagics",
        "autosave": "KernelMagics",
        "bookmark": "OSMagics",
        "cd": "OSMagics",
        "clear": "KernelMagics",
        "cls": "KernelMagics",
        "code_wrap": "ExecutionMagics",
        "colors": "BasicMagics",
        "conda": "PackagingMagics",
        "config": "ConfigMagics",
        "connect_info": "KernelMagics",
        "copy": "Other",
        "ddir": "Other",
        "debug": "ExecutionMagics",
        "dhist": "OSMagics",
        "dirs": "OSMagics",
        "doctest_mode": "BasicMagics",
        "echo": "Other",
        "ed": "Other",
        "edit": "KernelMagics",
        "env": "OSMagics",
        "gui": "BasicMagics",
        "hist": "Other",
        "history": "HistoryMagics",
        "killbgscripts": "ScriptMagics",
        "ldir": "Other",
        "less": "KernelMagics",
        "load": "CodeMagics",
        "load_ext": "ExtensionMagics",
        "loadpy": "CodeMagics",
        "logoff": "LoggingMagics",
        "logon": "LoggingMagics",
        "logstart": "LoggingMagics",
        "logstate": "LoggingMagics",
        "logstop": "LoggingMagics",
        "ls": "Other",
        "lsmagic": "BasicMagics",
        "macro": "ExecutionMagics",
        "magic": "BasicMagics",
        "matplotlib": "PylabMagics",
        "mkdir": "Other",
        "more": "KernelMagics",
        "notebook": "BasicMagics",
        "page": "BasicMagics",
        "pastebin": "CodeMagics",
        "pdb": "ExecutionMagics",
        "pdef": "NamespaceMagics",
        "pdoc": "NamespaceMagics",
        "pfile": "NamespaceMagics",
        "pinfo": "NamespaceMagics",
        "pinfo2": "NamespaceMagics",
        "pip": "PackagingMagics",
        "popd": "OSMagics",
        "pprint": "BasicMagics",
        "precision": "BasicMagics",
        "prun": "ExecutionMagics",
        "psearch": "NamespaceMagics",
        "psource": "NamespaceMagics",
        "pushd": "OSMagics",
        "pwd": "OSMagics",
        "pycat": "OSMagics",
        "pylab": "PylabMagics",
        "qtconsole": "KernelMagics",
        "quickref": "BasicMagics",
        "recall": "HistoryMagics",
        "rehashx": "OSMagics",
        "reload_ext": "ExtensionMagics",
        "ren": "Other",
        "rep": "Other",
        "rerun": "HistoryMagics",
        "reset": "NamespaceMagics",
        "reset_selective": "NamespaceMagics",
        "rmdir": "Other",
        "run": "ExecutionMagics",
        "save": "CodeMagics",
        "sc": "OSMagics",
        "set_env": "OSMagics",
        "store": "StoreMagics",
        "sx": "OSMagics",
        "system": "OSMagics",
        "tb": "ExecutionMagics",
        "time": "ExecutionMagics",
        "timeit": "ExecutionMagics",
        "unalias": "OSMagics",
        "unload_ext": "ExtensionMagics",
        "who": "NamespaceMagics",
        "who_ls": "NamespaceMagics",
        "whos": "NamespaceMagics",
        "xdel": "NamespaceMagics",
        "xmode": "BasicMagics"
       }
      },
      "text/plain": [
       "Available line magics:\n",
       "%alias  %alias_magic  %autoawait  %autocall  %automagic  %autosave  %bookmark  %cd  %clear  %cls  %code_wrap  %colors  %conda  %config  %connect_info  %copy  %ddir  %debug  %dhist  %dirs  %doctest_mode  %echo  %ed  %edit  %env  %gui  %hist  %history  %killbgscripts  %ldir  %less  %load  %load_ext  %loadpy  %logoff  %logon  %logstart  %logstate  %logstop  %ls  %lsmagic  %macro  %magic  %matplotlib  %mkdir  %more  %notebook  %page  %pastebin  %pdb  %pdef  %pdoc  %pfile  %pinfo  %pinfo2  %pip  %popd  %pprint  %precision  %prun  %psearch  %psource  %pushd  %pwd  %pycat  %pylab  %qtconsole  %quickref  %recall  %rehashx  %reload_ext  %ren  %rep  %rerun  %reset  %reset_selective  %rmdir  %run  %save  %sc  %set_env  %store  %sx  %system  %tb  %time  %timeit  %unalias  %unload_ext  %who  %who_ls  %whos  %xdel  %xmode\n",
       "\n",
       "Available cell magics:\n",
       "%%!  %%HTML  %%SVG  %%bash  %%capture  %%cmd  %%code_wrap  %%debug  %%file  %%html  %%javascript  %%js  %%latex  %%markdown  %%perl  %%prun  %%pypy  %%python  %%python2  %%python3  %%ruby  %%script  %%sh  %%svg  %%sx  %%system  %%time  %%timeit  %%writefile\n",
       "\n",
       "Automagic is ON, % prefix IS NOT needed for line magics."
      ]
     },
     "execution_count": 1,
     "metadata": {},
     "output_type": "execute_result"
    }
   ],
   "source": [
    "%lsmagic"
   ]
  },
  {
   "cell_type": "markdown",
   "metadata": {},
   "source": [
    "This displays using JSON which renders interactively in JupyterLab but not in VSCode. The JSON instance is essentially a dictionary with two keys ```\"line\"``` and ```\"cell\"``` and the values of each of these correspond to dictionaries of ipython line magic commands and ipython cell magic commands respectively. Each of the keys in these nested dictionaries is the name of the command and the value is the module where the command can be found. Note JSON preferences double quotations unlike Python.\n",
    "\n",
    "This command can be assigned to an instance:"
   ]
  },
  {
   "cell_type": "code",
   "execution_count": 2,
   "metadata": {},
   "outputs": [],
   "source": [
    "json_magics = %lsmagic"
   ]
  },
  {
   "cell_type": "markdown",
   "metadata": {},
   "source": [
    "Its class can be seen:"
   ]
  },
  {
   "cell_type": "code",
   "execution_count": 3,
   "metadata": {},
   "outputs": [
    {
     "data": {
      "text/plain": [
       "IPython.core.magics.basic.MagicsDisplay"
      ]
     },
     "execution_count": 3,
     "metadata": {},
     "output_type": "execute_result"
    }
   ],
   "source": [
    "type(json_magics)"
   ]
  },
  {
   "cell_type": "markdown",
   "metadata": {},
   "source": [
    "And it can be printed in a more simple format using:"
   ]
  },
  {
   "cell_type": "code",
   "execution_count": 4,
   "metadata": {},
   "outputs": [
    {
     "name": "stdout",
     "output_type": "stream",
     "text": [
      "Available line magics:\n",
      "%alias  %alias_magic  %autoawait  %autocall  %automagic  %autosave  %bookmark  %cd  %clear  %cls  %code_wrap  %colors  %conda  %config  %connect_info  %copy  %ddir  %debug  %dhist  %dirs  %doctest_mode  %echo  %ed  %edit  %env  %gui  %hist  %history  %killbgscripts  %ldir  %less  %load  %load_ext  %loadpy  %logoff  %logon  %logstart  %logstate  %logstop  %ls  %lsmagic  %macro  %magic  %matplotlib  %mkdir  %more  %notebook  %page  %pastebin  %pdb  %pdef  %pdoc  %pfile  %pinfo  %pinfo2  %pip  %popd  %pprint  %precision  %prun  %psearch  %psource  %pushd  %pwd  %pycat  %pylab  %qtconsole  %quickref  %recall  %rehashx  %reload_ext  %ren  %rep  %rerun  %reset  %reset_selective  %rmdir  %run  %save  %sc  %set_env  %store  %sx  %system  %tb  %time  %timeit  %unalias  %unload_ext  %who  %who_ls  %whos  %xdel  %xmode\n",
      "\n",
      "Available cell magics:\n",
      "%%!  %%HTML  %%SVG  %%bash  %%capture  %%cmd  %%code_wrap  %%debug  %%file  %%html  %%javascript  %%js  %%latex  %%markdown  %%perl  %%prun  %%pypy  %%python  %%python2  %%python3  %%ruby  %%script  %%sh  %%svg  %%sx  %%system  %%time  %%timeit  %%writefile\n",
      "\n",
      "Automagic is ON, % prefix IS NOT needed for line magics.\n"
     ]
    }
   ],
   "source": [
    "print(json_magics)"
   ]
  },
  {
   "cell_type": "markdown",
   "metadata": {},
   "source": [
    "Most of the IPython magics are based on the bash which is the scripting language for (Linux/Mac). On Windows there is a slightly different scripting language called CMD. For most cases the bash and CMD commands are identical however in other cases there are subtle differences. For example the CMD command clear screen ```%cls``` and Linux/Mac uses the bash command ```%clear```. Both these commands are designed to work with the Terminal scrolling down on the Terminal so the screen is cleared:"
   ]
  },
  {
   "cell_type": "code",
   "execution_count": 5,
   "metadata": {},
   "outputs": [
    {
     "name": "stdout",
     "output_type": "stream",
     "text": [
      "\f\n"
     ]
    }
   ],
   "source": [
    "%cls"
   ]
  },
  {
   "cell_type": "markdown",
   "metadata": {},
   "source": [
    "Using ```%clear``` on Windows or ```%cls``` on Linux/Mac will give a ```UsageError: Line magic function `%clear` not found.```:"
   ]
  },
  {
   "cell_type": "raw",
   "metadata": {},
   "source": [
    "%clear"
   ]
  },
  {
   "cell_type": "code",
   "execution_count": null,
   "metadata": {},
   "outputs": [],
   "source": []
  },
  {
   "cell_type": "markdown",
   "metadata": {},
   "source": [
    "Unfortunately on Windows IPython magics are based upon the legacy CMD shell and not the current PowerShell shell.  PowerShell has much more commands and also where common commands differ between bash and PowerShell, the bash command is used as an alias reducing confusion. However at present because IPython is based upon CMD and not PowerShell, these improvements are not available."
   ]
  },
  {
   "cell_type": "markdown",
   "metadata": {},
   "source": [
    "A line magic begins with a single ```%``` sign such as the print directory command ```%pwd```:"
   ]
  },
  {
   "cell_type": "code",
   "execution_count": 6,
   "metadata": {},
   "outputs": [
    {
     "data": {
      "text/plain": [
       "'c:\\\\Users\\\\Philip\\\\Documents\\\\GitHub\\\\python-notebooks\\\\autopep8'"
      ]
     },
     "execution_count": 6,
     "metadata": {},
     "output_type": "execute_result"
    }
   ],
   "source": [
    "%pwd"
   ]
  },
  {
   "cell_type": "markdown",
   "metadata": {},
   "source": [
    "It is also recognised using the alias without the ```%``` sign:"
   ]
  },
  {
   "cell_type": "code",
   "execution_count": 7,
   "metadata": {},
   "outputs": [
    {
     "data": {
      "text/plain": [
       "'c:\\\\Users\\\\Philip\\\\Documents\\\\GitHub\\\\python-notebooks\\\\autopep8'"
      ]
     },
     "execution_count": 7,
     "metadata": {},
     "output_type": "execute_result"
    }
   ],
   "source": [
    "pwd"
   ]
  },
  {
   "cell_type": "markdown",
   "metadata": {},
   "source": [
    "Under the hood, the IPython magic ```%pwd``` is a wrapper for the CMD (Windows) or bash (Linux/Mac) command that has been implemented in Python. In this case the name ```%pwd``` (print working directory) comes from ```bash``` however the equivalent CMD command is ```cd``` which shows the current working directory when no directory is supplied. Note that the ```cd``` implementation on bash and therefore behaves slightly differently and changes the directory to the home folder when no directory is supplied.\n",
    "\n",
    "Prefixing a command with ```!``` will use the CMD (Windows) or bash (Linux/Mac) command directly:"
   ]
  },
  {
   "cell_type": "code",
   "execution_count": 8,
   "metadata": {},
   "outputs": [
    {
     "name": "stdout",
     "output_type": "stream",
     "text": [
      "c:\\Users\\Philip\\Documents\\GitHub\\python-notebooks\\autopep8\n"
     ]
    }
   ],
   "source": [
    "!cd"
   ]
  },
  {
   "cell_type": "markdown",
   "metadata": {},
   "source": [
    "Attempting to use ```!pwd``` on Windows will attempt to use the command ```pwd``` which is not available in CMD as a result the error message will display ```'pwd' is not recognized as an internal or external command,\n",
    "operable program or batch file.``` Note that the command ```pwd``` is available in PowerShell as an alias but CMD instead of PowerShell is used here:"
   ]
  },
  {
   "cell_type": "raw",
   "metadata": {},
   "source": [
    "!pwd"
   ]
  },
  {
   "cell_type": "code",
   "execution_count": null,
   "metadata": {},
   "outputs": [],
   "source": []
  },
  {
   "cell_type": "markdown",
   "metadata": {},
   "source": [
    "When a CMD (Windows) or bash (Linux/Mac) command that has an IPython is used normally there is a warning stating to preference the magic command as it has essentially been rewritten in Python and has additional checks for Python compatability and therefore will work more reliably when used within an IPython kernel. When available an IPython magic should always be used in preference to an equivalent CMD or bash command."
   ]
  },
  {
   "cell_type": "markdown",
   "metadata": {},
   "source": [
    "In the JSON representation of ```%lsmagic``` the ```\"pwd\"``` key has the value ```\"OSMagics\"```. Under the hood this means there is a function ```pwd``` found under ```IPython.core.magics.OSMagics```:"
   ]
  },
  {
   "cell_type": "code",
   "execution_count": 9,
   "metadata": {},
   "outputs": [],
   "source": [
    "import IPython"
   ]
  },
  {
   "cell_type": "code",
   "execution_count": 10,
   "metadata": {},
   "outputs": [
    {
     "name": "stdout",
     "output_type": "stream",
     "text": [
      "\u001b[1;31mSignature:\u001b[0m \u001b[0mIPython\u001b[0m\u001b[1;33m.\u001b[0m\u001b[0mcore\u001b[0m\u001b[1;33m.\u001b[0m\u001b[0mmagics\u001b[0m\u001b[1;33m.\u001b[0m\u001b[0mOSMagics\u001b[0m\u001b[1;33m.\u001b[0m\u001b[0mpwd\u001b[0m\u001b[1;33m(\u001b[0m\u001b[0mself\u001b[0m\u001b[1;33m,\u001b[0m \u001b[0mparameter_s\u001b[0m\u001b[1;33m=\u001b[0m\u001b[1;34m''\u001b[0m\u001b[1;33m)\u001b[0m\u001b[1;33m\u001b[0m\u001b[1;33m\u001b[0m\u001b[0m\n",
      "\u001b[1;31mDocstring:\u001b[0m\n",
      "Return the current working directory path.\n",
      "\n",
      "Examples\n",
      "--------\n",
      "::\n",
      "\n",
      "  In [9]: pwd\n",
      "  Out[9]: '/home/tsuser/sprint/ipython'\n",
      "\u001b[1;31mFile:\u001b[0m      c:\\users\\philip\\miniconda3\\envs\\vscode\\lib\\site-packages\\ipython\\core\\magics\\osm.py\n",
      "\u001b[1;31mType:\u001b[0m      function"
     ]
    }
   ],
   "source": [
    "IPython.core.magics.OSMagics.pwd?"
   ]
  },
  {
   "cell_type": "markdown",
   "metadata": {},
   "source": [
    "By default the current working directory will be the parent folder of the interactive Python notebook:"
   ]
  },
  {
   "cell_type": "code",
   "execution_count": 11,
   "metadata": {},
   "outputs": [
    {
     "data": {
      "text/plain": [
       "'c:\\\\Users\\\\Philip\\\\Documents\\\\GitHub\\\\python-notebooks\\\\autopep8'"
      ]
     },
     "execution_count": 11,
     "metadata": {},
     "output_type": "execute_result"
    }
   ],
   "source": [
    "%pwd"
   ]
  },
  {
   "cell_type": "code",
   "execution_count": 12,
   "metadata": {},
   "outputs": [
    {
     "name": "stdout",
     "output_type": "stream",
     "text": [
      "c:\\Users\\Philip\\Documents\\GitHub\\python-notebooks\\autopep8\n"
     ]
    }
   ],
   "source": [
    "!cd"
   ]
  },
  {
   "cell_type": "markdown",
   "metadata": {},
   "source": [
    "The line magic list ```%ls``` can be used to list the files in the current directory:"
   ]
  },
  {
   "cell_type": "code",
   "execution_count": 13,
   "metadata": {},
   "outputs": [
    {
     "name": "stdout",
     "output_type": "stream",
     "text": [
      " Volume in drive C has no label.\n",
      " Volume Serial Number is C81E-CFEF\n",
      "\n",
      " Directory of c:\\Users\\Philip\\Documents\\GitHub\\python-notebooks\\autopep8\n",
      "\n",
      "07/10/2023  18:24    <DIR>          .\n",
      "07/10/2023  14:51    <DIR>          ..\n",
      "07/10/2023  18:47            24,181 notebook.ipynb\n",
      "07/10/2023  17:31                44 script1.py\n",
      "07/10/2023  18:26               389 script2.py\n",
      "               3 File(s)         24,614 bytes\n",
      "               2 Dir(s)  98,442,465,280 bytes free\n"
     ]
    }
   ],
   "source": [
    "%ls"
   ]
  },
  {
   "cell_type": "code",
   "execution_count": 14,
   "metadata": {},
   "outputs": [
    {
     "name": "stdout",
     "output_type": "stream",
     "text": [
      " Volume in drive C has no label.\n",
      " Volume Serial Number is C81E-CFEF\n",
      "\n",
      " Directory of c:\\Users\\Philip\\Documents\\GitHub\\python-notebooks\\autopep8\n",
      "\n",
      "07/10/2023  18:24    <DIR>          .\n",
      "07/10/2023  14:51    <DIR>          ..\n",
      "07/10/2023  18:47            24,181 notebook.ipynb\n",
      "07/10/2023  17:31                44 script1.py\n",
      "07/10/2023  18:26               389 script2.py\n",
      "               3 File(s)         24,614 bytes\n",
      "               2 Dir(s)  98,442,465,280 bytes free\n"
     ]
    }
   ],
   "source": [
    "!dir"
   ]
  },
  {
   "cell_type": "markdown",
   "metadata": {},
   "source": [
    "A cell IPython magic begins with ```%%``` and as the name suggests applies to a whole IPython cell. When used in an IPython cell from the Terminal, 2 blank lines are required to exit out of the cell and execute the code. The cell magic ```writefile``` can be used to write a Python script file:"
   ]
  },
  {
   "cell_type": "code",
   "execution_count": 15,
   "metadata": {},
   "outputs": [
    {
     "name": "stdout",
     "output_type": "stream",
     "text": [
      "Overwriting script1.py\n"
     ]
    }
   ],
   "source": [
    "%%writefile script1.py\n",
    "var1 = 'Hello World!'\n",
    "print(var1)\n",
    "\n",
    "    "
   ]
  },
  {
   "cell_type": "markdown",
   "metadata": {},
   "source": [
    "Note that this file is created however the code is not run, attempting to access ```var1``` will therefore give a ```NameError```:"
   ]
  },
  {
   "cell_type": "raw",
   "metadata": {},
   "source": [
    "var1"
   ]
  },
  {
   "cell_type": "code",
   "execution_count": null,
   "metadata": {},
   "outputs": [],
   "source": []
  },
  {
   "cell_type": "markdown",
   "metadata": {},
   "source": [
    "This script file can be run using the magic command ```%run```:"
   ]
  },
  {
   "cell_type": "code",
   "execution_count": 16,
   "metadata": {},
   "outputs": [
    {
     "name": "stdout",
     "output_type": "stream",
     "text": [
      "Hello World!\n"
     ]
    }
   ],
   "source": [
    "%run script1"
   ]
  },
  {
   "cell_type": "markdown",
   "metadata": {},
   "source": [
    "Now ```var1``` can be accessed:"
   ]
  },
  {
   "cell_type": "code",
   "execution_count": 17,
   "metadata": {},
   "outputs": [
    {
     "data": {
      "text/plain": [
       "'Hello World!'"
      ]
     },
     "execution_count": 17,
     "metadata": {},
     "output_type": "execute_result"
    }
   ],
   "source": [
    "var1"
   ]
  },
  {
   "cell_type": "markdown",
   "metadata": {},
   "source": [
    "## AutoPEP8"
   ]
  },
  {
   "cell_type": "markdown",
   "metadata": {},
   "source": [
    "Supposing the following script file is created:"
   ]
  },
  {
   "cell_type": "code",
   "execution_count": 45,
   "metadata": {},
   "outputs": [
    {
     "name": "stdout",
     "output_type": "stream",
     "text": [
      "Overwriting script2.py\n"
     ]
    }
   ],
   "source": [
    "%%writefile script2.py\n",
    "var1= 'Hello'\n",
    "var2 =\"World\"\n",
    "import numpy as np\n",
    "x=np.array([0,1,2,3,4])\n",
    "y=np.array([0,2,4, 6 ,8])\n",
    "import pandas as pd\n",
    "df=pd.DataFrame({'x':x,\"y\":y})\n",
    "import datetime\n",
    "now=datetime.datetime(year = 2023,month=12 ,day=1)\n",
    "hour=datetime.timedelta(hours=1)\n",
    "import collections\n",
    "counts=collections.Counter([1,  2,2  ,2,3,3])\n",
    "import itertools\n",
    "cycle=itertools.cycle([1,2,3])\n",
    "import sys, os\n",
    "sys.sizeof(cycle)\n",
    "os.environ['USERPROFILE']    "
   ]
  },
  {
   "cell_type": "markdown",
   "metadata": {},
   "source": [
    "Notice that the spacing is deliberately sloppy around the assignment operator and also around delimiters. This code violates [PEP8 Whitespace Expressions and Statements](https://peps.python.org/pep-0008/#whitespace-in-expressions-and-statements) which explains how to use whitespace to emphasis Python code. Whitespace for example should be placed around an operator such as the assignment operator, except in the case for a function call where whitespace should instead be placed after each comma to visually seperate input arguments.\n",
    "\n",
    "This code also violates [PEP 8 Imports](https://peps.python.org/pep-0008/#imports) which states imports should be at the top of the file, each import should be on a seperate line and standard libraries should be imported before third-party or custom modules."
   ]
  },
  {
   "cell_type": "markdown",
   "metadata": {},
   "source": [
    "To rectify this ```autopep8``` can be used. The following command should work however in my case the error is returned ```'autopep8' is not recognized as an internal or external command, operable program or batch file.``` To get around this specifying the full path of the ```.exe``` can be specified:"
   ]
  },
  {
   "cell_type": "raw",
   "metadata": {},
   "source": [
    "!autopep8 script2.py"
   ]
  },
  {
   "cell_type": "code",
   "execution_count": null,
   "metadata": {},
   "outputs": [],
   "source": []
  },
  {
   "cell_type": "markdown",
   "metadata": {},
   "source": [
    "In this case:"
   ]
  },
  {
   "cell_type": "code",
   "execution_count": 50,
   "metadata": {},
   "outputs": [
    {
     "name": "stdout",
     "output_type": "stream",
     "text": [
      "C:\\Users\\Philip\\anaconda3\\Scripts\\autopep8.exe\n"
     ]
    }
   ],
   "source": [
    "import os\n",
    "autopep8 = os.path.expanduser(r'~\\anaconda3\\Scripts\\autopep8.exe')\n",
    "print(autopep8)"
   ]
  },
  {
   "cell_type": "code",
   "execution_count": 55,
   "metadata": {},
   "outputs": [
    {
     "name": "stdout",
     "output_type": "stream",
     "text": [
      "import os\n",
      "import sys\n",
      "import itertools\n",
      "import collections\n",
      "import datetime\n",
      "import pandas as pd\n",
      "import numpy as np\n",
      "var1 = 'Hello'\n",
      "var2 = \"World\"\n",
      "x = np.array([0, 1, 2, 3, 4])\n",
      "y = np.array([0, 2, 4, 6, 8])\n",
      "df = pd.DataFrame({'x': x, \"y\": y})\n",
      "now = datetime.datetime(year=2023, month=12, day=1)\n",
      "hour = datetime.timedelta(hours=1)\n",
      "counts = collections.Counter([1,  2, 2, 2, 3, 3])\n",
      "cycle = itertools.cycle([1, 2, 3])\n",
      "sys.sizeof(cycle)\n",
      "os.environ['USERPROFILE']\n"
     ]
    }
   ],
   "source": [
    "!\"C:\\Users\\Philip\\anaconda3\\Scripts\\autopep8.exe\" script2.py"
   ]
  },
  {
   "cell_type": "markdown",
   "metadata": {},
   "source": []
  },
  {
   "cell_type": "markdown",
   "metadata": {},
   "source": [
    "To make the changes in place:"
   ]
  },
  {
   "cell_type": "code",
   "execution_count": 36,
   "metadata": {},
   "outputs": [],
   "source": [
    "!\"C:\\Users\\Philip\\anaconda3\\Scripts\\autopep8.exe\" -i script2.py"
   ]
  },
  {
   "cell_type": "markdown",
   "metadata": {},
   "source": [
    "These can be viewed using:"
   ]
  },
  {
   "cell_type": "code",
   "execution_count": 41,
   "metadata": {},
   "outputs": [
    {
     "name": "stdout",
     "output_type": "stream",
     "text": [
      "import os\n",
      "import sys\n",
      "import itertools\n",
      "import collections\n",
      "import datetime\n",
      "import pandas as pd\n",
      "import numpy as np\n",
      "var1 = 'Hello'\n",
      "var2 = \"World\"\n",
      "x = np.array([0, 1, 2, 3, 4])\n",
      "y = np.array([0, 2, 4, 6, 8])\n",
      "df = pd.DataFrame({'x': x, \"y\": y})\n",
      "now = datetime.datetime(year=2023, month=12, day=1)\n",
      "hour = datetime.timedelta(hours=1)\n",
      "counts = collections.Counter([1,  2, 2, 2, 3, 3])\n",
      "cycle = itertools.cycle([1, 2, 3])\n",
      "sys.sizeof(cycle)\n",
      "os.environ['USERPROFILE']\n"
     ]
    }
   ],
   "source": [
    "!type script2.py"
   ]
  },
  {
   "cell_type": "markdown",
   "metadata": {},
   "source": [
    "## Import Sort"
   ]
  },
  {
   "cell_type": "code",
   "execution_count": 56,
   "metadata": {},
   "outputs": [
    {
     "name": "stdout",
     "output_type": "stream",
     "text": [
      "Writing script3.py\n"
     ]
    }
   ],
   "source": [
    "%%writefile script3.py\n",
    "var1= 'Hello'\n",
    "var2 =\"World\"\n",
    "import numpy as np\n",
    "x=np.array([0,1,2,3,4])\n",
    "y=np.array([0,2,4, 6 ,8])\n",
    "import pandas as pd\n",
    "df=pd.DataFrame({'x':x,\"y\":y})\n",
    "import datetime\n",
    "now=datetime.datetime(year = 2023,month=12 ,day=1)\n",
    "hour=datetime.timedelta(hours=1)\n",
    "import collections\n",
    "counts=collections.Counter([1,  2,2  ,2,3,3])\n",
    "import itertools\n",
    "cycle=itertools.cycle([1,2,3])\n",
    "import sys, os\n",
    "sys.sizeof(cycle)\n",
    "os.environ['USERPROFILE']    "
   ]
  },
  {
   "cell_type": "code",
   "execution_count": null,
   "metadata": {},
   "outputs": [],
   "source": []
  },
  {
   "cell_type": "code",
   "execution_count": 59,
   "metadata": {},
   "outputs": [],
   "source": [
    "!\"C:\\Users\\Philip\\anaconda3\\Scripts\\isort.exe\" script3.py"
   ]
  },
  {
   "cell_type": "markdown",
   "metadata": {},
   "source": []
  },
  {
   "cell_type": "code",
   "execution_count": 20,
   "metadata": {},
   "outputs": [
    {
     "name": "stderr",
     "output_type": "stream",
     "text": [
      "Traceback (most recent call last):\n",
      "  File \"c:\\Users\\Philip\\Miniconda3\\envs\\vscode\\Scripts\\black-script.py\", line 9, in <module>\n",
      "    sys.exit(patched_main())\n",
      "             ^^^^^^^^^^^^^^\n",
      "  File \"c:\\Users\\Philip\\Miniconda3\\envs\\vscode\\Lib\\site-packages\\black\\__init__.py\", line 1423, in patched_main\n",
      "    patch_click()\n",
      "  File \"c:\\Users\\Philip\\Miniconda3\\envs\\vscode\\Lib\\site-packages\\black\\__init__.py\", line 1409, in patch_click\n",
      "    from click import _unicodefun\n",
      "ImportError: cannot import name '_unicodefun' from 'click' (c:\\Users\\Philip\\Miniconda3\\envs\\vscode\\Lib\\site-packages\\click\\__init__.py)\n"
     ]
    }
   ],
   "source": [
    "!black"
   ]
  },
  {
   "cell_type": "markdown",
   "metadata": {},
   "source": []
  },
  {
   "cell_type": "markdown",
   "metadata": {},
   "source": []
  }
 ],
 "metadata": {
  "kernelspec": {
   "display_name": "Python 3",
   "language": "python",
   "name": "python3"
  },
  "language_info": {
   "codemirror_mode": {
    "name": "ipython",
    "version": 3
   },
   "file_extension": ".py",
   "mimetype": "text/x-python",
   "name": "python",
   "nbconvert_exporter": "python",
   "pygments_lexer": "ipython3",
   "version": "3.11.5"
  }
 },
 "nbformat": 4,
 "nbformat_minor": 2
}
