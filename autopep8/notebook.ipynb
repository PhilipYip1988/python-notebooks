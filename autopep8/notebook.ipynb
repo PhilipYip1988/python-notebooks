{
 "cells": [
  {
   "cell_type": "markdown",
   "metadata": {},
   "source": [
    "# Python Formatters"
   ]
  },
  {
   "cell_type": "markdown",
   "metadata": {},
   "source": [
    "This tutorial will look at using some Code Formatters ```autopep8```, ```isort```, ```black``` and ```blue```."
   ]
  },
  {
   "cell_type": "markdown",
   "metadata": {},
   "source": [
    "If on Windows the string instance ```os.name``` will be ```'nt'```, otherwise if on Linux/Mac the string instance will be ```'posix'```:"
   ]
  },
  {
   "cell_type": "code",
   "execution_count": 1,
   "metadata": {},
   "outputs": [
    {
     "data": {
      "text/plain": [
       "'nt'"
      ]
     },
     "execution_count": 1,
     "metadata": {},
     "output_type": "execute_result"
    }
   ],
   "source": [
    "import os\n",
    "os.name"
   ]
  },
  {
   "cell_type": "markdown",
   "metadata": {},
   "source": [
    "## AutoPEP8 Formatter"
   ]
  },
  {
   "cell_type": "markdown",
   "metadata": {},
   "source": [
    "Supposing the following script file is created twice so there is a copy of the original:"
   ]
  },
  {
   "cell_type": "code",
   "execution_count": 2,
   "metadata": {},
   "outputs": [
    {
     "name": "stdout",
     "output_type": "stream",
     "text": [
      "Overwriting script1.py\n"
     ]
    }
   ],
   "source": [
    "%%writefile script1.py\n",
    "var1= 'Hello'\n",
    "var2 =\"World\"\n",
    "import numpy as np\n",
    "x=np.array([0,1,2,3,4])\n",
    "y=np.array([0,2,4, 6 ,8])\n",
    "import pandas as pd\n",
    "df=pd.DataFrame({'x':x,\"y\":y})\n",
    "import datetime\n",
    "now=datetime.datetime(year = 2023,month=12 ,day=1)\n",
    "hour=datetime.timedelta(hours=1)\n",
    "import collections\n",
    "counts=collections.Counter([1,  2,2  ,2,3,3])\n",
    "import itertools\n",
    "cycle=itertools.cycle([1,2,3])\n",
    "import sys, os\n",
    "sys.sizeof(cycle)\n",
    "os.environ['USERPROFILE']\n",
    "num1 = 0xabb4ab8a"
   ]
  },
  {
   "cell_type": "code",
   "execution_count": 3,
   "metadata": {},
   "outputs": [
    {
     "name": "stdout",
     "output_type": "stream",
     "text": [
      "Overwriting script2.py\n"
     ]
    }
   ],
   "source": [
    "%%writefile script2.py\n",
    "var1= 'Hello'\n",
    "var2 =\"World\"\n",
    "import numpy as np\n",
    "x=np.array([0,1,2,3,4])\n",
    "y=np.array([0,2,4, 6 ,8])\n",
    "import pandas as pd\n",
    "df=pd.DataFrame({'x':x,\"y\":y})\n",
    "import datetime\n",
    "now=datetime.datetime(year = 2023,month=12 ,day=1)\n",
    "hour=datetime.timedelta(hours=1)\n",
    "import collections\n",
    "counts=collections.Counter([1,  2,2  ,2,3,3])\n",
    "import itertools\n",
    "cycle=itertools.cycle([1,2,3])\n",
    "import sys, os\n",
    "sys.sizeof(cycle)\n",
    "os.environ['USERPROFILE']\n",
    "num1 = 0xabb4ab8a"
   ]
  },
  {
   "cell_type": "markdown",
   "metadata": {},
   "source": [
    "Notice that the spacing is deliberately sloppy around the assignment operator and also around delimiters. This code violates [PEP8 Whitespace Expressions and Statements](https://peps.python.org/pep-0008/#whitespace-in-expressions-and-statements) which explains how to use whitespace to emphasis Python code. Whitespace for example should be placed around an operator such as the assignment operator, except in the case for a function call where whitespace should instead be placed after each comma to visually seperate input arguments.\n",
    "\n",
    "This code also violates [PEP 8 Imports](https://peps.python.org/pep-0008/#imports) which states imports should be at the top of the file, each import should be on a seperate line and standard libraries should be imported before third-party or custom modules."
   ]
  },
  {
   "cell_type": "markdown",
   "metadata": {},
   "source": [
    "To rectify this ```autopep8``` can be used:"
   ]
  },
  {
   "cell_type": "code",
   "execution_count": 4,
   "metadata": {},
   "outputs": [
    {
     "name": "stdout",
     "output_type": "stream",
     "text": [
      "import os\n",
      "import sys\n",
      "import itertools\n",
      "import collections\n",
      "import datetime\n",
      "import pandas as pd\n",
      "import numpy as np\n",
      "var1 = 'Hello'\n",
      "var2 = \"World\"\n",
      "x = np.array([0, 1, 2, 3, 4])\n",
      "y = np.array([0, 2, 4, 6, 8])\n",
      "df = pd.DataFrame({'x': x, \"y\": y})\n",
      "now = datetime.datetime(year=2023, month=12, day=1)\n",
      "hour = datetime.timedelta(hours=1)\n",
      "counts = collections.Counter([1,  2, 2, 2, 3, 3])\n",
      "cycle = itertools.cycle([1, 2, 3])\n",
      "sys.sizeof(cycle)\n",
      "os.environ['USERPROFILE']\n",
      "num1 = 0xabb4ab8a\n"
     ]
    }
   ],
   "source": [
    "if os.name == 'nt':\n",
    "    !powershell autopep8 script2.py\n",
    "else:\n",
    "    !autopep8 script2.py"
   ]
  },
  {
   "cell_type": "markdown",
   "metadata": {},
   "source": [
    "The command above will only work in VSCode when the Anaconda base Python environment has been initialised. If it is not initialised the full path to the ```autopep8.exe``` needed to be specified:"
   ]
  },
  {
   "cell_type": "code",
   "execution_count": 5,
   "metadata": {},
   "outputs": [
    {
     "name": "stdout",
     "output_type": "stream",
     "text": [
      "C:\\Users\\Philip\\anaconda3\\Scripts\\autopep8.exe\n"
     ]
    }
   ],
   "source": [
    "if os.name == 'nt':\n",
    "    print(os.path.expanduser(r'~\\anaconda3\\Scripts\\autopep8.exe'))"
   ]
  },
  {
   "cell_type": "markdown",
   "metadata": {},
   "source": [
    "Note a formatted string cannot be used with this file path because the command being used is PowerShell which won't recognise a Python fstring as its command line argument."
   ]
  },
  {
   "cell_type": "markdown",
   "metadata": {},
   "source": [
    "To make the changes in place:"
   ]
  },
  {
   "cell_type": "code",
   "execution_count": 6,
   "metadata": {},
   "outputs": [],
   "source": [
    "if os.name == 'nt':\n",
    "    !powershell autopep8 -i script2.py\n",
    "else:\n",
    "    !autopep8 -i script2.py"
   ]
  },
  {
   "cell_type": "markdown",
   "metadata": {},
   "source": [
    "These can be viewed using:"
   ]
  },
  {
   "cell_type": "code",
   "execution_count": 7,
   "metadata": {},
   "outputs": [
    {
     "name": "stdout",
     "output_type": "stream",
     "text": [
      "import os\n",
      "import sys\n",
      "import itertools\n",
      "import collections\n",
      "import datetime\n",
      "import pandas as pd\n",
      "import numpy as np\n",
      "var1 = 'Hello'\n",
      "var2 = \"World\"\n",
      "x = np.array([0, 1, 2, 3, 4])\n",
      "y = np.array([0, 2, 4, 6, 8])\n",
      "df = pd.DataFrame({'x': x, \"y\": y})\n",
      "now = datetime.datetime(year=2023, month=12, day=1)\n",
      "hour = datetime.timedelta(hours=1)\n",
      "counts = collections.Counter([1,  2, 2, 2, 3, 3])\n",
      "cycle = itertools.cycle([1, 2, 3])\n",
      "sys.sizeof(cycle)\n",
      "os.environ['USERPROFILE']\n",
      "num1 = 0xabb4ab8a\n"
     ]
    }
   ],
   "source": [
    "if os.name == 'nt':\n",
    "    !powershell type script2.py\n",
    "else:\n",
    "    !type script2.py"
   ]
  },
  {
   "cell_type": "markdown",
   "metadata": {},
   "source": [
    "## Import Sort Formatter"
   ]
  },
  {
   "cell_type": "markdown",
   "metadata": {},
   "source": [
    "AutoPEP8 has placed all the imports at the start of the fil with the standard modules placed before the third-party modules. However the moduels are not sorted alphabetically by this grouping. To rectify this import sort formatter ```isort``` can be used. Let's return to the starting code:"
   ]
  },
  {
   "cell_type": "code",
   "execution_count": 8,
   "metadata": {},
   "outputs": [
    {
     "name": "stdout",
     "output_type": "stream",
     "text": [
      "Overwriting script3.py\n"
     ]
    }
   ],
   "source": [
    "%%writefile script3.py\n",
    "var1= 'Hello'\n",
    "var2 =\"World\"\n",
    "import numpy as np\n",
    "x=np.array([0,1,2,3,4])\n",
    "y=np.array([0,2,4, 6 ,8])\n",
    "import pandas as pd\n",
    "df=pd.DataFrame({'x':x,\"y\":y})\n",
    "import datetime\n",
    "now=datetime.datetime(year = 2023,month=12 ,day=1)\n",
    "hour=datetime.timedelta(hours=1)\n",
    "import collections\n",
    "counts=collections.Counter([1,  2,2  ,2,3,3])\n",
    "import itertools\n",
    "cycle=itertools.cycle([1,2,3])\n",
    "import sys, os\n",
    "sys.sizeof(cycle)\n",
    "os.environ['USERPROFILE']\n",
    "num1 = 0xabb4ab8a"
   ]
  },
  {
   "cell_type": "markdown",
   "metadata": {},
   "source": [
    "The import sort formatter ```isort``` can be used directly on this script and by default operates inplace:"
   ]
  },
  {
   "cell_type": "code",
   "execution_count": 9,
   "metadata": {},
   "outputs": [
    {
     "name": "stdout",
     "output_type": "stream",
     "text": [
      "Fixing C:\\Users\\Philip\\Documents\\GitHub\\python-notebooks\\autopep8\\script3.py\n"
     ]
    }
   ],
   "source": [
    "if os.name == 'nt':\n",
    "    !powershell isort script3.py\n",
    "else:\n",
    "    !isort script3.py"
   ]
  },
  {
   "cell_type": "markdown",
   "metadata": {},
   "source": [
    "Unfortunately the results aren't great when the code is otherwise sloppy:"
   ]
  },
  {
   "cell_type": "code",
   "execution_count": 10,
   "metadata": {},
   "outputs": [
    {
     "name": "stdout",
     "output_type": "stream",
     "text": [
      "var1= 'Hello'\n",
      "var2 =\"World\"\n",
      "import numpy as np\n",
      "\n",
      "x=np.array([0,1,2,3,4])\n",
      "y=np.array([0,2,4, 6 ,8])\n",
      "import pandas as pd\n",
      "\n",
      "df=pd.DataFrame({'x':x,\"y\":y})\n",
      "import datetime\n",
      "\n",
      "now=datetime.datetime(year = 2023,month=12 ,day=1)\n",
      "hour=datetime.timedelta(hours=1)\n",
      "import collections\n",
      "\n",
      "counts=collections.Counter([1,  2,2  ,2,3,3])\n",
      "import itertools\n",
      "\n",
      "cycle=itertools.cycle([1,2,3])\n",
      "import os\n",
      "import sys\n",
      "\n",
      "sys.sizeof(cycle)\n",
      "os.environ['USERPROFILE']\n",
      "num1 = 0xabb4ab8a\n"
     ]
    }
   ],
   "source": [
    "if os.name == 'nt':\n",
    "    !powershell type script3.py\n",
    "else:\n",
    "    !type script3.py"
   ]
  },
  {
   "cell_type": "markdown",
   "metadata": {},
   "source": [
    "Returning to the starting code:"
   ]
  },
  {
   "cell_type": "code",
   "execution_count": 11,
   "metadata": {},
   "outputs": [
    {
     "name": "stdout",
     "output_type": "stream",
     "text": [
      "Overwriting script4.py\n"
     ]
    }
   ],
   "source": [
    "%%writefile script4.py\n",
    "var1= 'Hello'\n",
    "var2 =\"World\"\n",
    "import numpy as np\n",
    "x=np.array([0,1,2,3,4])\n",
    "y=np.array([0,2,4, 6 ,8])\n",
    "import pandas as pd\n",
    "df=pd.DataFrame({'x':x,\"y\":y})\n",
    "import datetime\n",
    "now=datetime.datetime(year = 2023,month=12 ,day=1)\n",
    "hour=datetime.timedelta(hours=1)\n",
    "import collections\n",
    "counts=collections.Counter([1,  2,2  ,2,3,3])\n",
    "import itertools\n",
    "cycle=itertools.cycle([1,2,3])\n",
    "import sys, os\n",
    "sys.sizeof(cycle)\n",
    "os.environ['USERPROFILE']\n",
    "num1 = 0xabb4ab8a"
   ]
  },
  {
   "cell_type": "markdown",
   "metadata": {},
   "source": [
    "Using ```autopep8``` and ```isort``` together:"
   ]
  },
  {
   "cell_type": "code",
   "execution_count": 12,
   "metadata": {},
   "outputs": [
    {
     "name": "stdout",
     "output_type": "stream",
     "text": [
      "Fixing C:\\Users\\Philip\\Documents\\GitHub\\python-notebooks\\autopep8\\script4.py\n"
     ]
    }
   ],
   "source": [
    "if os.name == 'nt':\n",
    "    !powershell autopep8 -i script4.py\n",
    "    !powershell isort script4.py\n",
    "else:\n",
    "    !autopep8 -i script4.py\n",
    "    !isort script4.py"
   ]
  },
  {
   "cell_type": "markdown",
   "metadata": {},
   "source": [
    "Will give better results:"
   ]
  },
  {
   "cell_type": "code",
   "execution_count": 13,
   "metadata": {},
   "outputs": [
    {
     "name": "stdout",
     "output_type": "stream",
     "text": [
      "import collections\n",
      "import datetime\n",
      "import itertools\n",
      "import os\n",
      "import sys\n",
      "\n",
      "import numpy as np\n",
      "import pandas as pd\n",
      "\n",
      "var1 = 'Hello'\n",
      "var2 = \"World\"\n",
      "x = np.array([0, 1, 2, 3, 4])\n",
      "y = np.array([0, 2, 4, 6, 8])\n",
      "df = pd.DataFrame({'x': x, \"y\": y})\n",
      "now = datetime.datetime(year=2023, month=12, day=1)\n",
      "hour = datetime.timedelta(hours=1)\n",
      "counts = collections.Counter([1,  2, 2, 2, 3, 3])\n",
      "cycle = itertools.cycle([1, 2, 3])\n",
      "sys.sizeof(cycle)\n",
      "os.environ['USERPROFILE']\n",
      "num1 = 0xabb4ab8a\n"
     ]
    }
   ],
   "source": [
    "if os.name == 'nt':\n",
    "    !powershell type script4.py\n",
    "else:\n",
    "    !type script4.py"
   ]
  },
  {
   "cell_type": "markdown",
   "metadata": {},
   "source": [
    "The quotation style above is inconsistent and haven't been amended using ```autopep8```. The reason no amendment to the quotation style has been made is because [PEP8 String Quotes](https://peps.python.org/pep-0008/#string-quotes) has acknowledged that the Python community is divided on quotation style and does not explicitly recommend single quotations over double quotations or vice-versa. Despite not implicitly recommending single quotations, PEP8 itself is written preferencing single quotations and all of Pythons documentation is written using single quotations. The default string representation in Python also prefers single quotes, and this can be seen in the output values shown by the Python interpretter below:"
   ]
  },
  {
   "cell_type": "code",
   "execution_count": 14,
   "metadata": {},
   "outputs": [
    {
     "data": {
      "text/plain": [
       "'Hello World!'"
      ]
     },
     "execution_count": 14,
     "metadata": {},
     "output_type": "execute_result"
    }
   ],
   "source": [
    "'Hello World!'"
   ]
  },
  {
   "cell_type": "code",
   "execution_count": 15,
   "metadata": {},
   "outputs": [
    {
     "data": {
      "text/plain": [
       "'Hello World!'"
      ]
     },
     "execution_count": 15,
     "metadata": {},
     "output_type": "execute_result"
    }
   ],
   "source": [
    "\"Hello World!\""
   ]
  },
  {
   "cell_type": "code",
   "execution_count": 16,
   "metadata": {},
   "outputs": [
    {
     "data": {
      "text/plain": [
       "'0xabb4ab8a'"
      ]
     },
     "execution_count": 16,
     "metadata": {},
     "output_type": "execute_result"
    }
   ],
   "source": [
    "hex(2880744330)"
   ]
  },
  {
   "cell_type": "markdown",
   "metadata": {},
   "source": [
    "## Black Formatter"
   ]
  },
  {
   "cell_type": "markdown",
   "metadata": {},
   "source": [
    "```black``` is an opinionated formatter that applies additional opinionated formatting to the script. Let's return to the starting code:"
   ]
  },
  {
   "cell_type": "code",
   "execution_count": 17,
   "metadata": {},
   "outputs": [
    {
     "name": "stdout",
     "output_type": "stream",
     "text": [
      "Overwriting script5.py\n"
     ]
    }
   ],
   "source": [
    "%%writefile script5.py\n",
    "var1= 'Hello'\n",
    "var2 =\"World\"\n",
    "import numpy as np\n",
    "x=np.array([0,1,2,3,4])\n",
    "y=np.array([0,2,4, 6 ,8])\n",
    "import pandas as pd\n",
    "df=pd.DataFrame({'x':x,\"y\":y})\n",
    "import datetime\n",
    "now=datetime.datetime(year = 2023,month=12 ,day=1)\n",
    "hour=datetime.timedelta(hours=1)\n",
    "import collections\n",
    "counts=collections.Counter([1,  2,2  ,2,3,3])\n",
    "import itertools\n",
    "cycle=itertools.cycle([1,2,3])\n",
    "import sys, os\n",
    "sys.sizeof(cycle)\n",
    "os.environ['USERPROFILE']\n",
    "num1 = 0xabb4ab8a"
   ]
  },
  {
   "cell_type": "markdown",
   "metadata": {},
   "source": [
    "```black``` can be used on the script file and changes are made inplace by default:"
   ]
  },
  {
   "cell_type": "code",
   "execution_count": 18,
   "metadata": {},
   "outputs": [
    {
     "name": "stderr",
     "output_type": "stream",
     "text": [
      "reformatted script5.py\n",
      "\n",
      "All done! ✨ 🍰 ✨\n",
      "1 file reformatted.\n"
     ]
    }
   ],
   "source": [
    "if os.name == 'nt':\n",
    "    !powershell black script5.py\n",
    "else:\n",
    "    !black script5.py"
   ]
  },
  {
   "cell_type": "markdown",
   "metadata": {},
   "source": [
    "The result looks like the following:"
   ]
  },
  {
   "cell_type": "code",
   "execution_count": 19,
   "metadata": {},
   "outputs": [
    {
     "name": "stdout",
     "output_type": "stream",
     "text": [
      "var1 = \"Hello\"\n",
      "var2 = \"World\"\n",
      "import numpy as np\n",
      "\n",
      "x = np.array([0, 1, 2, 3, 4])\n",
      "y = np.array([0, 2, 4, 6, 8])\n",
      "import pandas as pd\n",
      "\n",
      "df = pd.DataFrame({\"x\": x, \"y\": y})\n",
      "import datetime\n",
      "\n",
      "now = datetime.datetime(year=2023, month=12, day=1)\n",
      "hour = datetime.timedelta(hours=1)\n",
      "import collections\n",
      "\n",
      "counts = collections.Counter([1, 2, 2, 2, 3, 3])\n",
      "import itertools\n",
      "\n",
      "cycle = itertools.cycle([1, 2, 3])\n",
      "import sys, os\n",
      "\n",
      "sys.sizeof(cycle)\n",
      "os.environ[\"USERPROFILE\"]\n",
      "num1 = 0xABB4AB8A\n"
     ]
    }
   ],
   "source": [
    "if os.name == 'nt':\n",
    "    !powershell type script5.py\n",
    "else:\n",
    "    !type script5.py"
   ]
  },
  {
   "cell_type": "markdown",
   "metadata": {},
   "source": [
    "```black``` does not sort the imports and therefore ```autopep8``` and ```isort``` should be used before using ```black```. Returning to the starting code:"
   ]
  },
  {
   "cell_type": "code",
   "execution_count": 20,
   "metadata": {},
   "outputs": [
    {
     "name": "stdout",
     "output_type": "stream",
     "text": [
      "Overwriting script6.py\n"
     ]
    }
   ],
   "source": [
    "%%writefile script6.py\n",
    "var1= 'Hello'\n",
    "var2 =\"World\"\n",
    "import numpy as np\n",
    "x=np.array([0,1,2,3,4])\n",
    "y=np.array([0,2,4, 6 ,8])\n",
    "import pandas as pd\n",
    "df=pd.DataFrame({'x':x,\"y\":y})\n",
    "import datetime\n",
    "now=datetime.datetime(year = 2023,month=12 ,day=1)\n",
    "hour=datetime.timedelta(hours=1)\n",
    "import collections\n",
    "counts=collections.Counter([1,  2,2  ,2,3,3])\n",
    "import itertools\n",
    "cycle=itertools.cycle([1,2,3])\n",
    "import sys, os\n",
    "sys.sizeof(cycle)\n",
    "os.environ['USERPROFILE']\n",
    "num1 = 0xabb4ab8a"
   ]
  },
  {
   "cell_type": "markdown",
   "metadata": {},
   "source": [
    "Running these three formatters gives the following results:"
   ]
  },
  {
   "cell_type": "code",
   "execution_count": 21,
   "metadata": {},
   "outputs": [
    {
     "name": "stdout",
     "output_type": "stream",
     "text": [
      "Fixing C:\\Users\\Philip\\Documents\\GitHub\\python-notebooks\\autopep8\\script6.py\n"
     ]
    },
    {
     "name": "stderr",
     "output_type": "stream",
     "text": [
      "reformatted script6.py\n",
      "\n",
      "All done! ✨ 🍰 ✨\n",
      "1 file reformatted.\n"
     ]
    }
   ],
   "source": [
    "if os.name == 'nt':\n",
    "    !powershell autopep8 -i script6.py\n",
    "    !powershell isort script6.py\n",
    "    !powershell black script6.py\n",
    "else:\n",
    "    !autopep8 -i script6.py\n",
    "    !isort script6.py\n",
    "    !black script6.py"
   ]
  },
  {
   "cell_type": "code",
   "execution_count": 22,
   "metadata": {},
   "outputs": [
    {
     "name": "stdout",
     "output_type": "stream",
     "text": [
      "import collections\n",
      "import datetime\n",
      "import itertools\n",
      "import os\n",
      "import sys\n",
      "\n",
      "import numpy as np\n",
      "import pandas as pd\n",
      "\n",
      "var1 = \"Hello\"\n",
      "var2 = \"World\"\n",
      "x = np.array([0, 1, 2, 3, 4])\n",
      "y = np.array([0, 2, 4, 6, 8])\n",
      "df = pd.DataFrame({\"x\": x, \"y\": y})\n",
      "now = datetime.datetime(year=2023, month=12, day=1)\n",
      "hour = datetime.timedelta(hours=1)\n",
      "counts = collections.Counter([1, 2, 2, 2, 3, 3])\n",
      "cycle = itertools.cycle([1, 2, 3])\n",
      "sys.sizeof(cycle)\n",
      "os.environ[\"USERPROFILE\"]\n",
      "num1 = 0xABB4AB8A\n"
     ]
    }
   ],
   "source": [
    "if os.name == 'nt':\n",
    "    !powershell type script6.py\n",
    "else:\n",
    "    !type script6.py"
   ]
  },
  {
   "cell_type": "markdown",
   "metadata": {},
   "source": [
    "Notice all the quotes are now consistent however the ```black``` opinionated preferences are inconsistent to the IPython interpreter and Python documentation... The strings when autoformatted with black are in double quotes and the hexadecimal number also uses uppercase."
   ]
  },
  {
   "cell_type": "markdown",
   "metadata": {},
   "source": [
    "## Blue Formatter"
   ]
  },
  {
   "cell_type": "markdown",
   "metadata": {},
   "source": [
    "The ```blue``` formatter is based upon ```black``` but attempts to make the opinionated format more consistent with the Python interpretter. Unfortunately it is not preinstalled by Anaconda and needs to be setup using its own Python environment from the community channel ```conda-forge```. A seperate Python environment needs to be used because ```blue``` is not frequently updated and generally relies on an older version of ```black```. \n",
    "\n",
    "Use the Anaconda Powershell Prompt or Linux Terminal directly to make the following Python environment:"
   ]
  },
  {
   "cell_type": "raw",
   "metadata": {},
   "source": [
    "conda create -n blue -c conda-forge blue"
   ]
  },
  {
   "cell_type": "markdown",
   "metadata": {},
   "source": [
    "Once this is done, return to the starting code:"
   ]
  },
  {
   "cell_type": "code",
   "execution_count": 23,
   "metadata": {},
   "outputs": [
    {
     "name": "stdout",
     "output_type": "stream",
     "text": [
      "Overwriting script7.py\n"
     ]
    }
   ],
   "source": [
    "%%writefile script7.py\n",
    "var1= 'Hello'\n",
    "var2 =\"World\"\n",
    "import numpy as np\n",
    "x=np.array([0,1,2,3,4])\n",
    "y=np.array([0,2,4, 6 ,8])\n",
    "import pandas as pd\n",
    "df=pd.DataFrame({'x':x,\"y\":y})\n",
    "import datetime\n",
    "now=datetime.datetime(year = 2023,month=12 ,day=1)\n",
    "hour=datetime.timedelta(hours=1)\n",
    "import collections\n",
    "counts=collections.Counter([1,  2,2  ,2,3,3])\n",
    "import itertools\n",
    "cycle=itertools.cycle([1,2,3])\n",
    "import sys, os\n",
    "sys.sizeof(cycle)\n",
    "os.environ['USERPROFILE']\n",
    "num1 = 0xabb4ab8a"
   ]
  },
  {
   "cell_type": "markdown",
   "metadata": {},
   "source": [
    "Now ```blue``` can be used in the place of ```black```:"
   ]
  },
  {
   "cell_type": "code",
   "execution_count": 24,
   "metadata": {},
   "outputs": [
    {
     "name": "stdout",
     "output_type": "stream",
     "text": [
      "Fixing C:\\Users\\Philip\\Documents\\GitHub\\python-notebooks\\autopep8\\script7.py\n"
     ]
    },
    {
     "name": "stderr",
     "output_type": "stream",
     "text": [
      "reformatted script7.py\n",
      "\n",
      "All done! ✨ 🍰 ✨\n",
      "1 file reformatted.\n"
     ]
    }
   ],
   "source": [
    "if os.name == 'nt':\n",
    "    !powershell autopep8 -i script7.py\n",
    "    !powershell isort script7.py\n",
    "    !powershell \"C:\\Users\\Philip\\anaconda3\\envs\\blue\\Scripts\\blue.exe\" script7.py\n",
    "else:\n",
    "    !autopep8 -i script7.py\n",
    "    !isort script7.py\n",
    "    !\"~/anaconda3/envs/blue/bin/blue\" script7.py"
   ]
  },
  {
   "cell_type": "markdown",
   "metadata": {},
   "source": [
    "Now the strings preference single-quotations and the code is more consistent to official Python documentation and the Python interpreter:"
   ]
  },
  {
   "cell_type": "code",
   "execution_count": 25,
   "metadata": {},
   "outputs": [
    {
     "name": "stdout",
     "output_type": "stream",
     "text": [
      "import collections\n",
      "import datetime\n",
      "import itertools\n",
      "import os\n",
      "import sys\n",
      "\n",
      "import numpy as np\n",
      "import pandas as pd\n",
      "\n",
      "var1 = 'Hello'\n",
      "var2 = 'World'\n",
      "x = np.array([0, 1, 2, 3, 4])\n",
      "y = np.array([0, 2, 4, 6, 8])\n",
      "df = pd.DataFrame({'x': x, 'y': y})\n",
      "now = datetime.datetime(year=2023, month=12, day=1)\n",
      "hour = datetime.timedelta(hours=1)\n",
      "counts = collections.Counter([1, 2, 2, 2, 3, 3])\n",
      "cycle = itertools.cycle([1, 2, 3])\n",
      "sys.sizeof(cycle)\n",
      "os.environ['USERPROFILE']\n",
      "num1 = 0xABB4AB8A\n"
     ]
    }
   ],
   "source": [
    "!type script7.py"
   ]
  },
  {
   "cell_type": "markdown",
   "metadata": {},
   "source": [
    "```blue``` uses most of the other default preferences ```black```, this unfortunately changes the case of the hexadecimal number which is inconsistent to the Python interpreter."
   ]
  },
  {
   "cell_type": "markdown",
   "metadata": {},
   "source": [
    "## VSCode Format Extensions"
   ]
  },
  {
   "cell_type": "markdown",
   "metadata": {},
   "source": [
    "Microsoft have an ```autopep8```, ```isort``` and ```black``` extensions available which can be used to apply these formatters to Python scripts or interactive Python notebooks. ```blue``` unfortunately at the time of writing hasn't been updated in a while and has far less support regarding IDE integration.\n",
    "\n",
    "Once installed these formatters can be accessed using the command palette. \n",
    "\n",
    "Open up a Python Script file and press ```Ctrl```, ```⇧``` and ```p``` to open the command palette and search for ```Format Document with``` (this setting only shows when a script file is currently selected and can be used to change the default formatter), ```Format Document``` or ```Format Notebook```."
   ]
  }
 ],
 "metadata": {
  "kernelspec": {
   "display_name": "Python 3",
   "language": "python",
   "name": "python3"
  },
  "language_info": {
   "codemirror_mode": {
    "name": "ipython",
    "version": 3
   },
   "file_extension": ".py",
   "mimetype": "text/x-python",
   "name": "python",
   "nbconvert_exporter": "python",
   "pygments_lexer": "ipython3",
   "version": "3.11.5"
  }
 },
 "nbformat": 4,
 "nbformat_minor": 2
}
