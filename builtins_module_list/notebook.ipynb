{
 "cells": [
  {
   "attachments": {},
   "cell_type": "markdown",
   "metadata": {},
   "source": [
    "## The List Class"
   ]
  },
  {
   "attachments": {},
   "cell_type": "markdown",
   "metadata": {},
   "source": [
    "In the previous notebook the immutable tuple was examined which was a collection of instance names which can be conceptualised as a collection of labels that each act as a reference to a Python object:"
   ]
  },
  {
   "cell_type": "code",
   "execution_count": 1,
   "metadata": {},
   "outputs": [
    {
     "data": {
      "text/plain": [
       "(<object at 0x1f982add520>,\n",
       " <object at 0x1f982add480>,\n",
       " <object at 0x1f982add490>,\n",
       " <object at 0x1f982add370>,\n",
       " <object at 0x1f982add4c0>)"
      ]
     },
     "execution_count": 1,
     "metadata": {},
     "output_type": "execute_result"
    }
   ],
   "source": [
    "archive = (object(), object(), object(), object(), object())\n",
    "archive"
   ]
  },
  {
   "attachments": {},
   "cell_type": "markdown",
   "metadata": {},
   "source": [
    "The function view_collection can be defined to view a collection in more detail:"
   ]
  },
  {
   "cell_type": "code",
   "execution_count": 2,
   "metadata": {},
   "outputs": [],
   "source": [
    "def view_collection(collection):\n",
    "    print('Index', '\\t', 'Type'.ljust(20), '\\t', 'Size'.ljust(6), '\\t', 'Value'.ljust(30))\n",
    "    for idx, obj in enumerate(collection):\n",
    "        if '__len__' in dir(obj):\n",
    "            size = len(obj)\n",
    "        else:\n",
    "            size = 1\n",
    "        print(idx, '\\t', str(type(obj)).removeprefix(\"<class '\").removesuffix(\"'>\").ljust(20), '\\t', str(size).ljust(6), '\\t', str(obj).ljust(30), '\\t',)"
   ]
  },
  {
   "attachments": {},
   "cell_type": "markdown",
   "metadata": {},
   "source": [
    "The tuple, string class and bytes class all sharew the design pattern of an immutable Collection and therefore have consistent behaviour. \n",
    "\n",
    "The fundamental unit in these three collections are a reference to a Python object for a tuple:"
   ]
  },
  {
   "cell_type": "code",
   "execution_count": 3,
   "metadata": {},
   "outputs": [
    {
     "name": "stdout",
     "output_type": "stream",
     "text": [
      "Index \t Type                 \t Size   \t Value                         \n",
      "0 \t object               \t 1      \t <object object at 0x000001F982ADD520> \t\n",
      "1 \t object               \t 1      \t <object object at 0x000001F982ADD480> \t\n",
      "2 \t object               \t 1      \t <object object at 0x000001F982ADD490> \t\n",
      "3 \t object               \t 1      \t <object object at 0x000001F982ADD370> \t\n",
      "4 \t object               \t 1      \t <object object at 0x000001F982ADD4C0> \t\n"
     ]
    }
   ],
   "source": [
    "view_collection(archive)"
   ]
  },
  {
   "attachments": {},
   "cell_type": "markdown",
   "metadata": {},
   "source": [
    "A Unicode character for a Unicode string:"
   ]
  },
  {
   "cell_type": "code",
   "execution_count": 4,
   "metadata": {},
   "outputs": [
    {
     "name": "stdout",
     "output_type": "stream",
     "text": [
      "Index \t Type                 \t Size   \t Value                         \n",
      "0 \t str                  \t 1      \t h                              \t\n",
      "1 \t str                  \t 1      \t e                              \t\n",
      "2 \t str                  \t 1      \t l                              \t\n",
      "3 \t str                  \t 1      \t l                              \t\n",
      "4 \t str                  \t 1      \t o                              \t\n"
     ]
    }
   ],
   "source": [
    "view_collection('hello')"
   ]
  },
  {
   "attachments": {},
   "cell_type": "markdown",
   "metadata": {},
   "source": [
    "And a byte for a bytes string (which is in this case represented as an integer <256):"
   ]
  },
  {
   "cell_type": "code",
   "execution_count": 5,
   "metadata": {},
   "outputs": [
    {
     "name": "stdout",
     "output_type": "stream",
     "text": [
      "Index \t Type                 \t Size   \t Value                         \n",
      "0 \t int                  \t 1      \t 104                            \t\n",
      "1 \t int                  \t 1      \t 101                            \t\n",
      "2 \t int                  \t 1      \t 108                            \t\n",
      "3 \t int                  \t 1      \t 108                            \t\n",
      "4 \t int                  \t 1      \t 111                            \t\n"
     ]
    }
   ],
   "source": [
    "view_collection(b'hello')"
   ]
  },
  {
   "attachments": {},
   "cell_type": "markdown",
   "metadata": {},
   "source": [
    "All the methods in an immutable class are configured to have a return value which returns another instance of the same class or another class. For example in an immutable Collection the binary data model method \\_\\_add\\_\\_ maps to the + operator returns a new instance of the collection:"
   ]
  },
  {
   "cell_type": "code",
   "execution_count": 6,
   "metadata": {},
   "outputs": [],
   "source": [
    "archive1 = (object(), object())\n",
    "archive2 = (object(), object(), object())"
   ]
  },
  {
   "cell_type": "code",
   "execution_count": 7,
   "metadata": {},
   "outputs": [
    {
     "data": {
      "text/plain": [
       "(<object at 0x1f982add560>,\n",
       " <object at 0x1f982add3e0>,\n",
       " <object at 0x1f982add4d0>,\n",
       " <object at 0x1f982add350>,\n",
       " <object at 0x1f982add470>)"
      ]
     },
     "execution_count": 7,
     "metadata": {},
     "output_type": "execute_result"
    }
   ],
   "source": [
    "archive1 + archive2"
   ]
  },
  {
   "cell_type": "code",
   "execution_count": 8,
   "metadata": {},
   "outputs": [
    {
     "data": {
      "text/plain": [
       "'helloworld'"
      ]
     },
     "execution_count": 8,
     "metadata": {},
     "output_type": "execute_result"
    }
   ],
   "source": [
    "'hello' + 'world'"
   ]
  },
  {
   "cell_type": "code",
   "execution_count": 9,
   "metadata": {},
   "outputs": [
    {
     "data": {
      "text/plain": [
       "b'helloworld'"
      ]
     },
     "execution_count": 9,
     "metadata": {},
     "output_type": "execute_result"
    }
   ],
   "source": [
    "b'hello' + b'world'"
   ]
  },
  {
   "attachments": {},
   "cell_type": "markdown",
   "metadata": {},
   "source": [
    "The bytearray was previously seen to be an immutable version of the bytes class and had supplementary behaviour that allowed for mutating the bytearray instance inplace:"
   ]
  },
  {
   "cell_type": "code",
   "execution_count": 10,
   "metadata": {},
   "outputs": [],
   "source": [
    "text = bytearray(b'hello')"
   ]
  },
  {
   "cell_type": "code",
   "execution_count": 11,
   "metadata": {},
   "outputs": [
    {
     "name": "stdout",
     "output_type": "stream",
     "text": [
      "Index \t Type                 \t Size   \t Value                         \n",
      "0 \t int                  \t 1      \t 104                            \t\n",
      "1 \t int                  \t 1      \t 101                            \t\n",
      "2 \t int                  \t 1      \t 108                            \t\n",
      "3 \t int                  \t 1      \t 108                            \t\n",
      "4 \t int                  \t 1      \t 111                            \t\n"
     ]
    }
   ],
   "source": [
    "view_collection(text)"
   ]
  },
  {
   "cell_type": "code",
   "execution_count": 12,
   "metadata": {},
   "outputs": [],
   "source": [
    "text.append(33) # No return value"
   ]
  },
  {
   "cell_type": "code",
   "execution_count": 13,
   "metadata": {},
   "outputs": [
    {
     "name": "stdout",
     "output_type": "stream",
     "text": [
      "Index \t Type                 \t Size   \t Value                         \n",
      "0 \t int                  \t 1      \t 104                            \t\n",
      "1 \t int                  \t 1      \t 101                            \t\n",
      "2 \t int                  \t 1      \t 108                            \t\n",
      "3 \t int                  \t 1      \t 108                            \t\n",
      "4 \t int                  \t 1      \t 111                            \t\n",
      "5 \t int                  \t 1      \t 33                             \t\n"
     ]
    }
   ],
   "source": [
    "view_collection(text)"
   ]
  },
  {
   "attachments": {},
   "cell_type": "markdown",
   "metadata": {},
   "source": [
    "The next Collection to be examined is the list which is a Mutable version of the tuple and therefore like the tuple has an instance name or label that references a Python object as its fundamental unit."
   ]
  },
  {
   "attachments": {},
   "cell_type": "markdown",
   "metadata": {},
   "source": [
    "## Initialisation Signature"
   ]
  },
  {
   "attachments": {},
   "cell_type": "markdown",
   "metadata": {},
   "source": [
    "The initialisation signature of a list can be viewed by inputting:"
   ]
  },
  {
   "cell_type": "code",
   "execution_count": 14,
   "metadata": {},
   "outputs": [
    {
     "name": "stdout",
     "output_type": "stream",
     "text": [
      "\u001b[1;31mInit signature:\u001b[0m  \u001b[0mlist\u001b[0m\u001b[1;33m(\u001b[0m\u001b[0miterable\u001b[0m\u001b[1;33m=\u001b[0m\u001b[1;33m(\u001b[0m\u001b[1;33m)\u001b[0m\u001b[1;33m,\u001b[0m \u001b[1;33m/\u001b[0m\u001b[1;33m)\u001b[0m\u001b[1;33m\u001b[0m\u001b[1;33m\u001b[0m\u001b[0m\n",
      "\u001b[1;31mDocstring:\u001b[0m     \n",
      "Built-in mutable sequence.\n",
      "\n",
      "If no argument is given, the constructor creates a new empty list.\n",
      "The argument must be an iterable if specified.\n",
      "\u001b[1;31mType:\u001b[0m           type\n",
      "\u001b[1;31mSubclasses:\u001b[0m     _HashedSeq, StackSummary, _Threads, ConvertingList, DeferredConfigList, _ymd, _Accumulator, DeprecatedList, SList, _ImmutableLineList, ..."
     ]
    }
   ],
   "source": [
    "? list"
   ]
  },
  {
   "attachments": {},
   "cell_type": "markdown",
   "metadata": {},
   "source": [
    "A list, like a tuple is instantiated from an iterable. A list can be case from the tuple archive example:"
   ]
  },
  {
   "cell_type": "code",
   "execution_count": 15,
   "metadata": {},
   "outputs": [
    {
     "data": {
      "text/plain": [
       "[<object at 0x1f982add520>,\n",
       " <object at 0x1f982add480>,\n",
       " <object at 0x1f982add490>,\n",
       " <object at 0x1f982add370>,\n",
       " <object at 0x1f982add4c0>]"
      ]
     },
     "execution_count": 15,
     "metadata": {},
     "output_type": "execute_result"
    }
   ],
   "source": [
    "list(archive)"
   ]
  },
  {
   "cell_type": "markdown",
   "metadata": {},
   "source": [
    "Or the Unicode string 'hello':"
   ]
  },
  {
   "cell_type": "code",
   "execution_count": 16,
   "metadata": {},
   "outputs": [
    {
     "data": {
      "text/plain": [
       "['h', 'e', 'l', 'l', 'o']"
      ]
     },
     "execution_count": 16,
     "metadata": {},
     "output_type": "execute_result"
    }
   ],
   "source": [
    "list('hello')"
   ]
  },
  {
   "cell_type": "markdown",
   "metadata": {},
   "source": [
    "The cell output displays the formal representation of the list. Because the list is a commly used builtins collection it can be instantiated shorthand using square brackets to enclose the objects that will be labelled at each corresponding index of the list. Notice that the list collection is enclosed in square brackets [ ] instead of the parenthesis ();"
   ]
  },
  {
   "cell_type": "code",
   "execution_count": 17,
   "metadata": {},
   "outputs": [
    {
     "data": {
      "text/plain": [
       "('h', 'e', 'l', 'l', 'o')"
      ]
     },
     "execution_count": 17,
     "metadata": {},
     "output_type": "execute_result"
    }
   ],
   "source": [
    "tuple('hello')"
   ]
  },
  {
   "cell_type": "markdown",
   "metadata": {},
   "source": [
    "If the function view_collection is used on either of these, the same output will display;"
   ]
  },
  {
   "cell_type": "code",
   "execution_count": 18,
   "metadata": {},
   "outputs": [
    {
     "name": "stdout",
     "output_type": "stream",
     "text": [
      "Index \t Type                 \t Size   \t Value                         \n",
      "0 \t str                  \t 1      \t h                              \t\n",
      "1 \t str                  \t 1      \t e                              \t\n",
      "2 \t str                  \t 1      \t l                              \t\n",
      "3 \t str                  \t 1      \t l                              \t\n",
      "4 \t str                  \t 1      \t o                              \t\n"
     ]
    }
   ],
   "source": [
    "view_collection(tuple('hello'))"
   ]
  },
  {
   "cell_type": "code",
   "execution_count": 19,
   "metadata": {},
   "outputs": [
    {
     "name": "stdout",
     "output_type": "stream",
     "text": [
      "Index \t Type                 \t Size   \t Value                         \n",
      "0 \t str                  \t 1      \t h                              \t\n",
      "1 \t str                  \t 1      \t e                              \t\n",
      "2 \t str                  \t 1      \t l                              \t\n",
      "3 \t str                  \t 1      \t l                              \t\n",
      "4 \t str                  \t 1      \t o                              \t\n"
     ]
    }
   ],
   "source": [
    "view_collection(list('hello'))"
   ]
  },
  {
   "cell_type": "code",
   "execution_count": 20,
   "metadata": {},
   "outputs": [
    {
     "name": "stdout",
     "output_type": "stream",
     "text": [
      "Index \t Type                 \t Size   \t Value                         \n",
      "0 \t str                  \t 1      \t h                              \t\n",
      "1 \t str                  \t 1      \t e                              \t\n",
      "2 \t str                  \t 1      \t l                              \t\n",
      "3 \t str                  \t 1      \t l                              \t\n",
      "4 \t str                  \t 1      \t o                              \t\n"
     ]
    }
   ],
   "source": [
    "view_collection('hello')"
   ]
  },
  {
   "cell_type": "markdown",
   "metadata": {},
   "source": [
    "The list can be instantiated using the shorthand form:"
   ]
  },
  {
   "cell_type": "code",
   "execution_count": 21,
   "metadata": {},
   "outputs": [
    {
     "data": {
      "text/plain": [
       "[1, True, 3.14, 'hello', b'hello', bytearray(b'hello')]"
      ]
     },
     "execution_count": 21,
     "metadata": {},
     "output_type": "execute_result"
    }
   ],
   "source": [
    "[1, True, 3.14, 'hello', b'hello', bytearray(b'hello')]"
   ]
  },
  {
   "cell_type": "markdown",
   "metadata": {},
   "source": [
    "The square brackets [ ] are also used in Python for indexing and slicing. Generally there is no confusion with regards to the terminology:"
   ]
  },
  {
   "cell_type": "code",
   "execution_count": 22,
   "metadata": {},
   "outputs": [
    {
     "data": {
      "text/plain": [
       "3.14"
      ]
     },
     "execution_count": 22,
     "metadata": {},
     "output_type": "execute_result"
    }
   ],
   "source": [
    "[1, True, 3.14, 'hello', b'hello', bytearray(b'hello')][2]"
   ]
  },
  {
   "cell_type": "markdown",
   "metadata": {},
   "source": [
    "Square brackets can be used to create an empty list and 1 element list:"
   ]
  },
  {
   "cell_type": "code",
   "execution_count": 23,
   "metadata": {},
   "outputs": [],
   "source": [
    "empty_active = []"
   ]
  },
  {
   "cell_type": "code",
   "execution_count": 24,
   "metadata": {},
   "outputs": [
    {
     "data": {
      "text/plain": [
       "[]"
      ]
     },
     "execution_count": 24,
     "metadata": {},
     "output_type": "execute_result"
    }
   ],
   "source": [
    "empty_active"
   ]
  },
  {
   "cell_type": "code",
   "execution_count": 25,
   "metadata": {},
   "outputs": [
    {
     "data": {
      "text/plain": [
       "list"
      ]
     },
     "execution_count": 25,
     "metadata": {},
     "output_type": "execute_result"
    }
   ],
   "source": [
    "type(empty_active)"
   ]
  },
  {
   "cell_type": "code",
   "execution_count": 26,
   "metadata": {},
   "outputs": [],
   "source": [
    "single_element_active = ['hello']"
   ]
  },
  {
   "cell_type": "code",
   "execution_count": 27,
   "metadata": {},
   "outputs": [
    {
     "data": {
      "text/plain": [
       "['hello']"
      ]
     },
     "execution_count": 27,
     "metadata": {},
     "output_type": "execute_result"
    }
   ],
   "source": [
    "single_element_active"
   ]
  },
  {
   "cell_type": "code",
   "execution_count": 28,
   "metadata": {},
   "outputs": [
    {
     "data": {
      "text/plain": [
       "list"
      ]
     },
     "execution_count": 28,
     "metadata": {},
     "output_type": "execute_result"
    }
   ],
   "source": [
    "type(single_element_active)"
   ]
  },
  {
   "cell_type": "markdown",
   "metadata": {},
   "source": [
    "The syntax below should be clear, the left hand side square brackets are used to enclose the contents in the list and the right hand square brackets are used to index into the list:"
   ]
  },
  {
   "cell_type": "code",
   "execution_count": 29,
   "metadata": {},
   "outputs": [
    {
     "data": {
      "text/plain": [
       "3"
      ]
     },
     "execution_count": 29,
     "metadata": {},
     "output_type": "execute_result"
    }
   ],
   "source": [
    "[1, 2, 3][2]"
   ]
  },
  {
   "cell_type": "markdown",
   "metadata": {},
   "source": [
    "## Identifiers"
   ]
  },
  {
   "attachments": {},
   "cell_type": "markdown",
   "metadata": {},
   "source": [
    "Details about the identifiers in the list class can be seen by using the help function:"
   ]
  },
  {
   "cell_type": "code",
   "execution_count": 30,
   "metadata": {},
   "outputs": [
    {
     "name": "stdout",
     "output_type": "stream",
     "text": [
      "Help on class list in module builtins:\n",
      "\n",
      "class list(object)\n",
      " |  list(iterable=(), /)\n",
      " |  \n",
      " |  Built-in mutable sequence.\n",
      " |  \n",
      " |  If no argument is given, the constructor creates a new empty list.\n",
      " |  The argument must be an iterable if specified.\n",
      " |  \n",
      " |  Methods defined here:\n",
      " |  \n",
      " |  __add__(self, value, /)\n",
      " |      Return self+value.\n",
      " |  \n",
      " |  __contains__(self, key, /)\n",
      " |      Return key in self.\n",
      " |  \n",
      " |  __delitem__(self, key, /)\n",
      " |      Delete self[key].\n",
      " |  \n",
      " |  __eq__(self, value, /)\n",
      " |      Return self==value.\n",
      " |  \n",
      " |  __ge__(self, value, /)\n",
      " |      Return self>=value.\n",
      " |  \n",
      " |  __getattribute__(self, name, /)\n",
      " |      Return getattr(self, name).\n",
      " |  \n",
      " |  __getitem__(...)\n",
      " |      x.__getitem__(y) <==> x[y]\n",
      " |  \n",
      " |  __gt__(self, value, /)\n",
      " |      Return self>value.\n",
      " |  \n",
      " |  __iadd__(self, value, /)\n",
      " |      Implement self+=value.\n",
      " |  \n",
      " |  __imul__(self, value, /)\n",
      " |      Implement self*=value.\n",
      " |  \n",
      " |  __init__(self, /, *args, **kwargs)\n",
      " |      Initialize self.  See help(type(self)) for accurate signature.\n",
      " |  \n",
      " |  __iter__(self, /)\n",
      " |      Implement iter(self).\n",
      " |  \n",
      " |  __le__(self, value, /)\n",
      " |      Return self<=value.\n",
      " |  \n",
      " |  __len__(self, /)\n",
      " |      Return len(self).\n",
      " |  \n",
      " |  __lt__(self, value, /)\n",
      " |      Return self<value.\n",
      " |  \n",
      " |  __mul__(self, value, /)\n",
      " |      Return self*value.\n",
      " |  \n",
      " |  __ne__(self, value, /)\n",
      " |      Return self!=value.\n",
      " |  \n",
      " |  __repr__(self, /)\n",
      " |      Return repr(self).\n",
      " |  \n",
      " |  __reversed__(self, /)\n",
      " |      Return a reverse iterator over the list.\n",
      " |  \n",
      " |  __rmul__(self, value, /)\n",
      " |      Return value*self.\n",
      " |  \n",
      " |  __setitem__(self, key, value, /)\n",
      " |      Set self[key] to value.\n",
      " |  \n",
      " |  __sizeof__(self, /)\n",
      " |      Return the size of the list in memory, in bytes.\n",
      " |  \n",
      " |  append(self, object, /)\n",
      " |      Append object to the end of the list.\n",
      " |  \n",
      " |  clear(self, /)\n",
      " |      Remove all items from list.\n",
      " |  \n",
      " |  copy(self, /)\n",
      " |      Return a shallow copy of the list.\n",
      " |  \n",
      " |  count(self, value, /)\n",
      " |      Return number of occurrences of value.\n",
      " |  \n",
      " |  extend(self, iterable, /)\n",
      " |      Extend list by appending elements from the iterable.\n",
      " |  \n",
      " |  index(self, value, start=0, stop=9223372036854775807, /)\n",
      " |      Return first index of value.\n",
      " |      \n",
      " |      Raises ValueError if the value is not present.\n",
      " |  \n",
      " |  insert(self, index, object, /)\n",
      " |      Insert object before index.\n",
      " |  \n",
      " |  pop(self, index=-1, /)\n",
      " |      Remove and return item at index (default last).\n",
      " |      \n",
      " |      Raises IndexError if list is empty or index is out of range.\n",
      " |  \n",
      " |  remove(self, value, /)\n",
      " |      Remove first occurrence of value.\n",
      " |      \n",
      " |      Raises ValueError if the value is not present.\n",
      " |  \n",
      " |  reverse(self, /)\n",
      " |      Reverse *IN PLACE*.\n",
      " |  \n",
      " |  sort(self, /, *, key=None, reverse=False)\n",
      " |      Sort the list in ascending order and return None.\n",
      " |      \n",
      " |      The sort is in-place (i.e. the list itself is modified) and stable (i.e. the\n",
      " |      order of two equal elements is maintained).\n",
      " |      \n",
      " |      If a key function is given, apply it once to each list item and sort them,\n",
      " |      ascending or descending, according to their function values.\n",
      " |      \n",
      " |      The reverse flag can be set to sort in descending order.\n",
      " |  \n",
      " |  ----------------------------------------------------------------------\n",
      " |  Class methods defined here:\n",
      " |  \n",
      " |  __class_getitem__(...) from builtins.type\n",
      " |      See PEP 585\n",
      " |  \n",
      " |  ----------------------------------------------------------------------\n",
      " |  Static methods defined here:\n",
      " |  \n",
      " |  __new__(*args, **kwargs) from builtins.type\n",
      " |      Create and return a new object.  See help(type) for accurate signature.\n",
      " |  \n",
      " |  ----------------------------------------------------------------------\n",
      " |  Data and other attributes defined here:\n",
      " |  \n",
      " |  __hash__ = None\n",
      "\n"
     ]
    }
   ],
   "source": [
    "help(list)"
   ]
  },
  {
   "attachments": {},
   "cell_type": "markdown",
   "metadata": {},
   "source": [
    "These identifiers can be split into attributes (there aren't any):"
   ]
  },
  {
   "cell_type": "code",
   "execution_count": 31,
   "metadata": {},
   "outputs": [],
   "source": [
    "for identifier in dir(list):\n",
    "    isfunction = callable(getattr(list, identifier))\n",
    "    isdatamodel = identifier[0] == '_'\n",
    "    if (not isfunction and not isdatamodel):\n",
    "        print(identifier, end=' ')"
   ]
  },
  {
   "attachments": {},
   "cell_type": "markdown",
   "metadata": {},
   "source": [
    "Data model attributes:"
   ]
  },
  {
   "cell_type": "code",
   "execution_count": 32,
   "metadata": {},
   "outputs": [
    {
     "name": "stdout",
     "output_type": "stream",
     "text": [
      "__doc__ __hash__ "
     ]
    }
   ],
   "source": [
    "for identifier in dir(list):\n",
    "    isfunction = callable(getattr(list, identifier))\n",
    "    isdatamodel = identifier[0] == '_'\n",
    "    if (not isfunction and isdatamodel):\n",
    "        print(identifier, end=' ')"
   ]
  },
  {
   "attachments": {},
   "cell_type": "markdown",
   "metadata": {},
   "source": [
    "Methods:"
   ]
  },
  {
   "cell_type": "code",
   "execution_count": 33,
   "metadata": {},
   "outputs": [
    {
     "name": "stdout",
     "output_type": "stream",
     "text": [
      "append clear copy count extend index insert pop remove reverse sort "
     ]
    }
   ],
   "source": [
    "for identifier in dir(list):\n",
    "    isfunction = callable(getattr(list, identifier))\n",
    "    isdatamodel = identifier[0] == '_'\n",
    "    if (isfunction and not isdatamodel):\n",
    "        print(identifier, end=' ')"
   ]
  },
  {
   "attachments": {},
   "cell_type": "markdown",
   "metadata": {},
   "source": [
    "Data Model Methods:"
   ]
  },
  {
   "cell_type": "code",
   "execution_count": 34,
   "metadata": {},
   "outputs": [
    {
     "name": "stdout",
     "output_type": "stream",
     "text": [
      "__add__ __class__ __class_getitem__ __contains__ __delattr__ __delitem__ __dir__ __eq__ __format__ __ge__ __getattribute__ __getitem__ __getstate__ __gt__ __iadd__ __imul__ __init__ __init_subclass__ __iter__ __le__ __len__ __lt__ __mul__ __ne__ __new__ __reduce__ __reduce_ex__ __repr__ __reversed__ __rmul__ __setattr__ __setitem__ __sizeof__ __str__ __subclasshook__ "
     ]
    }
   ],
   "source": [
    "for identifier in dir(list):\n",
    "    isfunction = callable(getattr(list, identifier))\n",
    "    isdatamodel = identifier[0] == '_'\n",
    "    if (isfunction and isdatamodel):\n",
    "        print(identifier, end=' ')"
   ]
  },
  {
   "attachments": {},
   "cell_type": "markdown",
   "metadata": {},
   "source": [
    "The list is a mutatable counterpart to the immutable tuple which was previously examined. Therefore the immutable methods have consistent behaviour. The identifiers in the list that aren't present in the tuple are the mutatable methods:"
   ]
  },
  {
   "cell_type": "code",
   "execution_count": 35,
   "metadata": {},
   "outputs": [],
   "source": [
    "for identifier in dir(list):\n",
    "    isfunction = callable(getattr(list, identifier))\n",
    "    isintuple = identifier in dir(tuple)\n",
    "    isdatamodel = identifier[0] == '_'\n",
    "    if (not isfunction and not isdatamodel and not isintuple):\n",
    "        print(identifier, end=' ')"
   ]
  },
  {
   "cell_type": "code",
   "execution_count": 36,
   "metadata": {},
   "outputs": [
    {
     "name": "stdout",
     "output_type": "stream",
     "text": [
      "append clear copy extend insert pop remove reverse sort "
     ]
    }
   ],
   "source": [
    "for identifier in dir(list):\n",
    "    isfunction = callable(getattr(list, identifier))\n",
    "    isintuple = identifier in dir(tuple)\n",
    "    isdatamodel = identifier[0] == '_'\n",
    "    if (isfunction and not isdatamodel and not isintuple):\n",
    "        print(identifier, end=' ')"
   ]
  },
  {
   "cell_type": "code",
   "execution_count": 37,
   "metadata": {},
   "outputs": [],
   "source": [
    "for identifier in dir(list):\n",
    "    isfunction = callable(getattr(list, identifier))\n",
    "    isintuple = identifier in dir(tuple)\n",
    "    isdatamodel = identifier[0] == '_'\n",
    "    if (not isfunction and isdatamodel and not isintuple):\n",
    "        print(identifier, end=' ')"
   ]
  },
  {
   "cell_type": "code",
   "execution_count": 38,
   "metadata": {},
   "outputs": [
    {
     "name": "stdout",
     "output_type": "stream",
     "text": [
      "__delitem__ __iadd__ __imul__ __reversed__ __setitem__ "
     ]
    }
   ],
   "source": [
    "for identifier in dir(list):\n",
    "    isfunction = callable(getattr(list, identifier))\n",
    "    isintuple = identifier in dir(tuple)\n",
    "    isdatamodel = identifier[0] == '_'\n",
    "    if (isfunction and isdatamodel and not isintuple):\n",
    "        print(identifier, end=' ')"
   ]
  },
  {
   "attachments": {},
   "cell_type": "markdown",
   "metadata": {},
   "source": [
    "There is consistency with the list class and the bytearray class which are both follow the design pattern of a mutatable Collection. Therefore most of the identifiers in the list are also present in the bytearray class:"
   ]
  },
  {
   "cell_type": "code",
   "execution_count": 39,
   "metadata": {},
   "outputs": [
    {
     "name": "stdout",
     "output_type": "stream",
     "text": [
      "sort "
     ]
    }
   ],
   "source": [
    "for identifier in dir(list):\n",
    "    isfunction = callable(getattr(list, identifier))\n",
    "    isinbytearray = identifier in dir(bytearray)\n",
    "    isdatamodel = identifier[0] == '_'\n",
    "    if (isfunction and not isdatamodel and not isinbytearray):\n",
    "        print(identifier, end=' ')"
   ]
  },
  {
   "cell_type": "code",
   "execution_count": 40,
   "metadata": {},
   "outputs": [
    {
     "name": "stdout",
     "output_type": "stream",
     "text": [
      "__class_getitem__ __reversed__ "
     ]
    }
   ],
   "source": [
    "for identifier in dir(list):\n",
    "    isfunction = callable(getattr(list, identifier))\n",
    "    isinbytearray = identifier in dir(bytearray)\n",
    "    isdatamodel = identifier[0] == '_'\n",
    "    if (isfunction and isdatamodel and not isinbytearray):\n",
    "        print(identifier, end=' ')"
   ]
  },
  {
   "attachments": {},
   "cell_type": "markdown",
   "metadata": {},
   "source": [
    "## Mutatable Methods"
   ]
  },
  {
   "attachments": {},
   "cell_type": "markdown",
   "metadata": {},
   "source": [
    "The tuple is a mutatable version of the archive:"
   ]
  },
  {
   "cell_type": "code",
   "execution_count": 41,
   "metadata": {},
   "outputs": [
    {
     "name": "stdout",
     "output_type": "stream",
     "text": [
      "Index \t Type                 \t Size   \t Value                         \n",
      "0 \t object               \t 1      \t <object object at 0x000001F982ADD520> \t\n",
      "1 \t object               \t 1      \t <object object at 0x000001F982ADD480> \t\n",
      "2 \t object               \t 1      \t <object object at 0x000001F982ADD490> \t\n",
      "3 \t object               \t 1      \t <object object at 0x000001F982ADD370> \t\n",
      "4 \t object               \t 1      \t <object object at 0x000001F982ADD4C0> \t\n"
     ]
    }
   ],
   "source": [
    "view_collection(archive)"
   ]
  },
  {
   "cell_type": "code",
   "execution_count": 42,
   "metadata": {},
   "outputs": [],
   "source": [
    "active = list(archive)"
   ]
  },
  {
   "cell_type": "code",
   "execution_count": 43,
   "metadata": {},
   "outputs": [
    {
     "name": "stdout",
     "output_type": "stream",
     "text": [
      "Index \t Type                 \t Size   \t Value                         \n",
      "0 \t object               \t 1      \t <object object at 0x000001F982ADD520> \t\n",
      "1 \t object               \t 1      \t <object object at 0x000001F982ADD480> \t\n",
      "2 \t object               \t 1      \t <object object at 0x000001F982ADD490> \t\n",
      "3 \t object               \t 1      \t <object object at 0x000001F982ADD370> \t\n",
      "4 \t object               \t 1      \t <object object at 0x000001F982ADD4C0> \t\n"
     ]
    }
   ],
   "source": [
    "view_collection(active)"
   ]
  },
  {
   "attachments": {},
   "cell_type": "markdown",
   "metadata": {},
   "source": [
    "Both the tuple and list have the immutable method \\_\\_getitem\\_\\_ however only the list has the mutatable methods \\_\\_setitem\\_\\_ and \\_\\_detitem\\_\\_. This means it is possible to index into both collections to obtain a reference to a Python object but only possible to assign the reference to another object or delete the reference in the list:"
   ]
  },
  {
   "cell_type": "code",
   "execution_count": 44,
   "metadata": {},
   "outputs": [
    {
     "data": {
      "text/plain": [
       "<object at 0x1f982add480>"
      ]
     },
     "execution_count": 44,
     "metadata": {},
     "output_type": "execute_result"
    }
   ],
   "source": [
    "archive[1]"
   ]
  },
  {
   "cell_type": "code",
   "execution_count": 45,
   "metadata": {},
   "outputs": [
    {
     "data": {
      "text/plain": [
       "<object at 0x1f982add480>"
      ]
     },
     "execution_count": 45,
     "metadata": {},
     "output_type": "execute_result"
    }
   ],
   "source": [
    "active[1]"
   ]
  },
  {
   "cell_type": "code",
   "execution_count": 46,
   "metadata": {},
   "outputs": [],
   "source": [
    "active[1] = object() # Mutatable"
   ]
  },
  {
   "cell_type": "code",
   "execution_count": 47,
   "metadata": {},
   "outputs": [
    {
     "name": "stdout",
     "output_type": "stream",
     "text": [
      "Index \t Type                 \t Size   \t Value                         \n",
      "0 \t object               \t 1      \t <object object at 0x000001F982ADD520> \t\n",
      "1 \t object               \t 1      \t <object object at 0x000001F982ADD5B0> \t\n",
      "2 \t object               \t 1      \t <object object at 0x000001F982ADD490> \t\n",
      "3 \t object               \t 1      \t <object object at 0x000001F982ADD370> \t\n",
      "4 \t object               \t 1      \t <object object at 0x000001F982ADD4C0> \t\n"
     ]
    }
   ],
   "source": [
    "view_collection(active)"
   ]
  },
  {
   "cell_type": "code",
   "execution_count": 48,
   "metadata": {},
   "outputs": [],
   "source": [
    "del active[1] # Mutatable"
   ]
  },
  {
   "cell_type": "code",
   "execution_count": 49,
   "metadata": {},
   "outputs": [
    {
     "name": "stdout",
     "output_type": "stream",
     "text": [
      "Index \t Type                 \t Size   \t Value                         \n",
      "0 \t object               \t 1      \t <object object at 0x000001F982ADD520> \t\n",
      "1 \t object               \t 1      \t <object object at 0x000001F982ADD490> \t\n",
      "2 \t object               \t 1      \t <object object at 0x000001F982ADD370> \t\n",
      "3 \t object               \t 1      \t <object object at 0x000001F982ADD4C0> \t\n"
     ]
    }
   ],
   "source": [
    "view_collection(active)"
   ]
  },
  {
   "attachments": {},
   "cell_type": "markdown",
   "metadata": {},
   "source": [
    "Notice the object that was at index 1 has been deleted. All other objects that had a lower index are shunted down by 1. The list now has a length of 4."
   ]
  },
  {
   "attachments": {},
   "cell_type": "markdown",
   "metadata": {},
   "source": [
    "Recreating the list active from the tuple archive:"
   ]
  },
  {
   "cell_type": "code",
   "execution_count": 50,
   "metadata": {},
   "outputs": [
    {
     "name": "stdout",
     "output_type": "stream",
     "text": [
      "Index \t Type                 \t Size   \t Value                         \n",
      "0 \t object               \t 1      \t <object object at 0x000001F982ADD520> \t\n",
      "1 \t object               \t 1      \t <object object at 0x000001F982ADD480> \t\n",
      "2 \t object               \t 1      \t <object object at 0x000001F982ADD490> \t\n",
      "3 \t object               \t 1      \t <object object at 0x000001F982ADD370> \t\n",
      "4 \t object               \t 1      \t <object object at 0x000001F982ADD4C0> \t\n"
     ]
    }
   ],
   "source": [
    "view_collection(archive)"
   ]
  },
  {
   "cell_type": "code",
   "execution_count": 51,
   "metadata": {},
   "outputs": [],
   "source": [
    "active = list(archive)"
   ]
  },
  {
   "cell_type": "code",
   "execution_count": 52,
   "metadata": {},
   "outputs": [
    {
     "name": "stdout",
     "output_type": "stream",
     "text": [
      "Index \t Type                 \t Size   \t Value                         \n",
      "0 \t object               \t 1      \t <object object at 0x000001F982ADD520> \t\n",
      "1 \t object               \t 1      \t <object object at 0x000001F982ADD480> \t\n",
      "2 \t object               \t 1      \t <object object at 0x000001F982ADD490> \t\n",
      "3 \t object               \t 1      \t <object object at 0x000001F982ADD370> \t\n",
      "4 \t object               \t 1      \t <object object at 0x000001F982ADD4C0> \t\n"
     ]
    }
   ],
   "source": [
    "view_collection(active)"
   ]
  },
  {
   "attachments": {},
   "cell_type": "markdown",
   "metadata": {},
   "source": [
    "The + operator performs concatenation in a collection returning a new collection. This is defined by the addition data model method \\_\\_add\\_\\_:"
   ]
  },
  {
   "cell_type": "code",
   "execution_count": 53,
   "metadata": {},
   "outputs": [
    {
     "data": {
      "text/plain": [
       "(<object at 0x1f982add520>,\n",
       " <object at 0x1f982add480>,\n",
       " <object at 0x1f982add490>,\n",
       " <object at 0x1f982add370>,\n",
       " <object at 0x1f982add4c0>,\n",
       " '',\n",
       " '')"
      ]
     },
     "execution_count": 53,
     "metadata": {},
     "output_type": "execute_result"
    }
   ],
   "source": [
    "archive + (str(), str()) # Return value"
   ]
  },
  {
   "cell_type": "code",
   "execution_count": 54,
   "metadata": {},
   "outputs": [
    {
     "data": {
      "text/plain": [
       "[<object at 0x1f982add520>,\n",
       " <object at 0x1f982add480>,\n",
       " <object at 0x1f982add490>,\n",
       " <object at 0x1f982add370>,\n",
       " <object at 0x1f982add4c0>,\n",
       " '',\n",
       " '']"
      ]
     },
     "execution_count": 54,
     "metadata": {},
     "output_type": "execute_result"
    }
   ],
   "source": [
    "active + [str(), str()] # Return value"
   ]
  },
  {
   "attachments": {},
   "cell_type": "markdown",
   "metadata": {},
   "source": [
    "There is a subtle difference with the += operator which performs inplace concatenation. Because a tuple is immutable, *inplace concatenation* creates a new instance and the reference or instance name from the original name is moved to the new instance. As a consequence the id of the tuple before and after the inplace addition operator is used:"
   ]
  },
  {
   "cell_type": "code",
   "execution_count": 55,
   "metadata": {},
   "outputs": [],
   "source": [
    "id1 = id(archive)"
   ]
  },
  {
   "cell_type": "code",
   "execution_count": 56,
   "metadata": {},
   "outputs": [],
   "source": [
    "archive += (str(), str()) "
   ]
  },
  {
   "cell_type": "code",
   "execution_count": 57,
   "metadata": {},
   "outputs": [],
   "source": [
    "id2 = id(archive)"
   ]
  },
  {
   "cell_type": "code",
   "execution_count": 58,
   "metadata": {},
   "outputs": [
    {
     "data": {
      "text/plain": [
       "False"
      ]
     },
     "execution_count": 58,
     "metadata": {},
     "output_type": "execute_result"
    }
   ],
   "source": [
    "id1 == id2"
   ]
  },
  {
   "attachments": {},
   "cell_type": "markdown",
   "metadata": {},
   "source": [
    "For a list, the inplace addition data model \\_\\_iadd\\_\\_ is redefined. This mutates the original instance inplace and therefore the list has the same id before and after the inplace concatenation:"
   ]
  },
  {
   "cell_type": "code",
   "execution_count": 59,
   "metadata": {},
   "outputs": [],
   "source": [
    "id1 = id(active)"
   ]
  },
  {
   "cell_type": "code",
   "execution_count": 60,
   "metadata": {},
   "outputs": [],
   "source": [
    "active += [str(), str()] "
   ]
  },
  {
   "cell_type": "code",
   "execution_count": 61,
   "metadata": {},
   "outputs": [],
   "source": [
    "id2 = id(active)"
   ]
  },
  {
   "attachments": {},
   "cell_type": "markdown",
   "metadata": {},
   "source": [
    "The mutated list can be viewed:"
   ]
  },
  {
   "cell_type": "code",
   "execution_count": 62,
   "metadata": {},
   "outputs": [
    {
     "name": "stdout",
     "output_type": "stream",
     "text": [
      "Index \t Type                 \t Size   \t Value                         \n",
      "0 \t object               \t 1      \t <object object at 0x000001F982ADD520> \t\n",
      "1 \t object               \t 1      \t <object object at 0x000001F982ADD480> \t\n",
      "2 \t object               \t 1      \t <object object at 0x000001F982ADD490> \t\n",
      "3 \t object               \t 1      \t <object object at 0x000001F982ADD370> \t\n",
      "4 \t object               \t 1      \t <object object at 0x000001F982ADD4C0> \t\n",
      "5 \t str                  \t 0      \t                                \t\n",
      "6 \t str                  \t 0      \t                                \t\n"
     ]
    }
   ],
   "source": [
    "view_collection(active)"
   ]
  },
  {
   "attachments": {},
   "cell_type": "markdown",
   "metadata": {},
   "source": [
    "The mutatable method append, appends a reference to a single object at the end of a list:"
   ]
  },
  {
   "cell_type": "code",
   "execution_count": 63,
   "metadata": {},
   "outputs": [],
   "source": [
    "active.append(bytes()) # No return value"
   ]
  },
  {
   "cell_type": "code",
   "execution_count": 64,
   "metadata": {},
   "outputs": [
    {
     "name": "stdout",
     "output_type": "stream",
     "text": [
      "Index \t Type                 \t Size   \t Value                         \n",
      "0 \t object               \t 1      \t <object object at 0x000001F982ADD520> \t\n",
      "1 \t object               \t 1      \t <object object at 0x000001F982ADD480> \t\n",
      "2 \t object               \t 1      \t <object object at 0x000001F982ADD490> \t\n",
      "3 \t object               \t 1      \t <object object at 0x000001F982ADD370> \t\n",
      "4 \t object               \t 1      \t <object object at 0x000001F982ADD4C0> \t\n",
      "5 \t str                  \t 0      \t                                \t\n",
      "6 \t str                  \t 0      \t                                \t\n",
      "7 \t bytes                \t 0      \t b''                            \t\n"
     ]
    }
   ],
   "source": [
    "view_collection(active)"
   ]
  },
  {
   "attachments": {},
   "cell_type": "markdown",
   "metadata": {},
   "source": [
    "If this object is a collection such as a tuple, it will be appended as a single element:"
   ]
  },
  {
   "cell_type": "code",
   "execution_count": 65,
   "metadata": {},
   "outputs": [],
   "source": [
    "active.append(('a', 'b', 'c')) # No return value"
   ]
  },
  {
   "attachments": {},
   "cell_type": "markdown",
   "metadata": {},
   "source": [
    "The mutated list can then be viewed:"
   ]
  },
  {
   "cell_type": "code",
   "execution_count": 66,
   "metadata": {},
   "outputs": [
    {
     "name": "stdout",
     "output_type": "stream",
     "text": [
      "Index \t Type                 \t Size   \t Value                         \n",
      "0 \t object               \t 1      \t <object object at 0x000001F982ADD520> \t\n",
      "1 \t object               \t 1      \t <object object at 0x000001F982ADD480> \t\n",
      "2 \t object               \t 1      \t <object object at 0x000001F982ADD490> \t\n",
      "3 \t object               \t 1      \t <object object at 0x000001F982ADD370> \t\n",
      "4 \t object               \t 1      \t <object object at 0x000001F982ADD4C0> \t\n",
      "5 \t str                  \t 0      \t                                \t\n",
      "6 \t str                  \t 0      \t                                \t\n",
      "7 \t bytes                \t 0      \t b''                            \t\n",
      "8 \t tuple                \t 3      \t ('a', 'b', 'c')                \t\n"
     ]
    }
   ],
   "source": [
    "view_collection(active)"
   ]
  },
  {
   "attachments": {},
   "cell_type": "markdown",
   "metadata": {},
   "source": [
    "The extend method will extend a list using the contents of a collection:"
   ]
  },
  {
   "cell_type": "code",
   "execution_count": 67,
   "metadata": {},
   "outputs": [],
   "source": [
    "active.extend((1, 2, 3)) # No return value"
   ]
  },
  {
   "attachments": {},
   "cell_type": "markdown",
   "metadata": {},
   "source": [
    "The mutated list can be viewed:"
   ]
  },
  {
   "cell_type": "code",
   "execution_count": 68,
   "metadata": {},
   "outputs": [
    {
     "name": "stdout",
     "output_type": "stream",
     "text": [
      "Index \t Type                 \t Size   \t Value                         \n",
      "0 \t object               \t 1      \t <object object at 0x000001F982ADD520> \t\n",
      "1 \t object               \t 1      \t <object object at 0x000001F982ADD480> \t\n",
      "2 \t object               \t 1      \t <object object at 0x000001F982ADD490> \t\n",
      "3 \t object               \t 1      \t <object object at 0x000001F982ADD370> \t\n",
      "4 \t object               \t 1      \t <object object at 0x000001F982ADD4C0> \t\n",
      "5 \t str                  \t 0      \t                                \t\n",
      "6 \t str                  \t 0      \t                                \t\n",
      "7 \t bytes                \t 0      \t b''                            \t\n",
      "8 \t tuple                \t 3      \t ('a', 'b', 'c')                \t\n",
      "9 \t int                  \t 1      \t 1                              \t\n",
      "10 \t int                  \t 1      \t 2                              \t\n",
      "11 \t int                  \t 1      \t 3                              \t\n"
     ]
    }
   ],
   "source": [
    "view_collection(active)"
   ]
  },
  {
   "attachments": {},
   "cell_type": "markdown",
   "metadata": {},
   "source": [
    "The method insert can be used to insert a reference to a single object at a specific index behaving similarly to append. Any references that are at this index and later indexes get shunted up by 1:"
   ]
  },
  {
   "cell_type": "code",
   "execution_count": 75,
   "metadata": {},
   "outputs": [],
   "source": [
    "active.insert(2, ('d', 'e', 'f')) # No return value"
   ]
  },
  {
   "attachments": {},
   "cell_type": "markdown",
   "metadata": {},
   "source": [
    "The mutated list can then be viewed:"
   ]
  },
  {
   "cell_type": "code",
   "execution_count": 76,
   "metadata": {},
   "outputs": [
    {
     "name": "stdout",
     "output_type": "stream",
     "text": [
      "Index \t Type                 \t Size   \t Value                         \n",
      "0 \t object               \t 1      \t <object object at 0x000001F982ADD520> \t\n",
      "1 \t object               \t 1      \t <object object at 0x000001F982ADD480> \t\n",
      "2 \t tuple                \t 3      \t ('d', 'e', 'f')                \t\n",
      "3 \t object               \t 1      \t <object object at 0x000001F982ADD490> \t\n",
      "4 \t object               \t 1      \t <object object at 0x000001F982ADD370> \t\n",
      "5 \t object               \t 1      \t <object object at 0x000001F982ADD4C0> \t\n",
      "6 \t str                  \t 0      \t                                \t\n",
      "7 \t str                  \t 0      \t                                \t\n",
      "8 \t bytes                \t 0      \t b''                            \t\n",
      "9 \t tuple                \t 3      \t ('a', 'b', 'c')                \t\n",
      "10 \t int                  \t 1      \t 1                              \t\n",
      "11 \t int                  \t 1      \t 2                              \t\n",
      "12 \t int                  \t 1      \t 3                              \t\n"
     ]
    }
   ],
   "source": [
    "view_collection(active)"
   ]
  },
  {
   "attachments": {},
   "cell_type": "markdown",
   "metadata": {},
   "source": [
    "The method remove can be used to remove the first occurance of a value:"
   ]
  },
  {
   "cell_type": "code",
   "execution_count": 78,
   "metadata": {},
   "outputs": [],
   "source": [
    "active.remove('') # No return value"
   ]
  },
  {
   "attachments": {},
   "cell_type": "markdown",
   "metadata": {},
   "source": [
    "The mutated list can be viewed:"
   ]
  },
  {
   "cell_type": "code",
   "execution_count": 79,
   "metadata": {},
   "outputs": [
    {
     "name": "stdout",
     "output_type": "stream",
     "text": [
      "Index \t Type                 \t Size   \t Value                         \n",
      "0 \t object               \t 1      \t <object object at 0x000001F982ADD520> \t\n",
      "1 \t object               \t 1      \t <object object at 0x000001F982ADD480> \t\n",
      "2 \t tuple                \t 3      \t ('d', 'e', 'f')                \t\n",
      "3 \t object               \t 1      \t <object object at 0x000001F982ADD490> \t\n",
      "4 \t object               \t 1      \t <object object at 0x000001F982ADD370> \t\n",
      "5 \t object               \t 1      \t <object object at 0x000001F982ADD4C0> \t\n",
      "6 \t str                  \t 0      \t                                \t\n",
      "7 \t bytes                \t 0      \t b''                            \t\n",
      "8 \t tuple                \t 3      \t ('a', 'b', 'c')                \t\n",
      "9 \t int                  \t 1      \t 1                              \t\n",
      "10 \t int                  \t 1      \t 2                              \t\n",
      "11 \t int                  \t 1      \t 3                              \t\n"
     ]
    }
   ],
   "source": [
    "view_collection(active)"
   ]
  },
  {
   "attachments": {},
   "cell_type": "markdown",
   "metadata": {},
   "source": [
    "The order of the list can be sorted using the method sort, this will only work for a list where each element is ordinal:"
   ]
  },
  {
   "cell_type": "code",
   "execution_count": 80,
   "metadata": {},
   "outputs": [],
   "source": [
    "text_archive = list('AaBbCcDdEe')"
   ]
  },
  {
   "cell_type": "code",
   "execution_count": 81,
   "metadata": {},
   "outputs": [
    {
     "name": "stdout",
     "output_type": "stream",
     "text": [
      "Index \t Type                 \t Size   \t Value                         \n",
      "0 \t str                  \t 1      \t A                              \t\n",
      "1 \t str                  \t 1      \t a                              \t\n",
      "2 \t str                  \t 1      \t B                              \t\n",
      "3 \t str                  \t 1      \t b                              \t\n",
      "4 \t str                  \t 1      \t C                              \t\n",
      "5 \t str                  \t 1      \t c                              \t\n",
      "6 \t str                  \t 1      \t D                              \t\n",
      "7 \t str                  \t 1      \t d                              \t\n",
      "8 \t str                  \t 1      \t E                              \t\n",
      "9 \t str                  \t 1      \t e                              \t\n"
     ]
    }
   ],
   "source": [
    "view_collection(text_archive)"
   ]
  },
  {
   "cell_type": "code",
   "execution_count": 82,
   "metadata": {},
   "outputs": [],
   "source": [
    "text_archive.sort()"
   ]
  },
  {
   "cell_type": "code",
   "execution_count": 84,
   "metadata": {},
   "outputs": [
    {
     "name": "stdout",
     "output_type": "stream",
     "text": [
      "Index \t Type                 \t Size   \t Value                         \n",
      "0 \t str                  \t 1      \t A                              \t\n",
      "1 \t str                  \t 1      \t B                              \t\n",
      "2 \t str                  \t 1      \t C                              \t\n",
      "3 \t str                  \t 1      \t D                              \t\n",
      "4 \t str                  \t 1      \t E                              \t\n",
      "5 \t str                  \t 1      \t a                              \t\n",
      "6 \t str                  \t 1      \t b                              \t\n",
      "7 \t str                  \t 1      \t c                              \t\n",
      "8 \t str                  \t 1      \t d                              \t\n",
      "9 \t str                  \t 1      \t e                              \t\n"
     ]
    }
   ],
   "source": [
    "view_collection(text_archive)"
   ]
  },
  {
   "cell_type": "code",
   "execution_count": 87,
   "metadata": {},
   "outputs": [
    {
     "name": "stdout",
     "output_type": "stream",
     "text": [
      "65 A\n",
      "66 B\n",
      "67 C\n",
      "68 D\n",
      "69 E\n",
      "97 a\n",
      "98 b\n",
      "99 c\n",
      "100 d\n",
      "101 e\n"
     ]
    }
   ],
   "source": [
    "for char in text_archive:\n",
    "    print(ord(char), char)"
   ]
  },
  {
   "attachments": {},
   "cell_type": "markdown",
   "metadata": {},
   "source": [
    "The order of elements in a list can be reversed in a list by using the reverse method:"
   ]
  },
  {
   "cell_type": "code",
   "execution_count": 89,
   "metadata": {},
   "outputs": [],
   "source": [
    "text_archive.reverse() # No return method"
   ]
  },
  {
   "cell_type": "code",
   "execution_count": 90,
   "metadata": {},
   "outputs": [
    {
     "name": "stdout",
     "output_type": "stream",
     "text": [
      "Index \t Type                 \t Size   \t Value                         \n",
      "0 \t str                  \t 1      \t e                              \t\n",
      "1 \t str                  \t 1      \t d                              \t\n",
      "2 \t str                  \t 1      \t c                              \t\n",
      "3 \t str                  \t 1      \t b                              \t\n",
      "4 \t str                  \t 1      \t a                              \t\n",
      "5 \t str                  \t 1      \t E                              \t\n",
      "6 \t str                  \t 1      \t D                              \t\n",
      "7 \t str                  \t 1      \t C                              \t\n",
      "8 \t str                  \t 1      \t B                              \t\n",
      "9 \t str                  \t 1      \t A                              \t\n"
     ]
    }
   ],
   "source": [
    "view_collection(text_archive)"
   ]
  },
  {
   "attachments": {},
   "cell_type": "markdown",
   "metadata": {},
   "source": [
    "The method clear will clear all the references to Python objects in the list:"
   ]
  },
  {
   "cell_type": "code",
   "execution_count": 91,
   "metadata": {},
   "outputs": [],
   "source": [
    "text_archive.clear() # No return value"
   ]
  },
  {
   "attachments": {},
   "cell_type": "markdown",
   "metadata": {},
   "source": [
    "The updated collection can be viewed:"
   ]
  },
  {
   "cell_type": "code",
   "execution_count": 92,
   "metadata": {},
   "outputs": [
    {
     "name": "stdout",
     "output_type": "stream",
     "text": [
      "Index \t Type                 \t Size   \t Value                         \n"
     ]
    }
   ],
   "source": [
    "view_collection(text_archive)"
   ]
  },
  {
   "attachments": {},
   "cell_type": "markdown",
   "metadata": {},
   "source": [
    "The pop method is the outlier mutatable method that has a return value. It pops a reference to a Python object off of the list mutating the list in place and returns the popped value:"
   ]
  },
  {
   "cell_type": "code",
   "execution_count": 98,
   "metadata": {},
   "outputs": [
    {
     "name": "stdout",
     "output_type": "stream",
     "text": [
      "Index \t Type                 \t Size   \t Value                         \n",
      "0 \t object               \t 1      \t <object object at 0x000001F982ADD520> \t\n",
      "1 \t object               \t 1      \t <object object at 0x000001F982ADD480> \t\n",
      "2 \t tuple                \t 3      \t ('d', 'e', 'f')                \t\n",
      "3 \t object               \t 1      \t <object object at 0x000001F982ADD490> \t\n",
      "4 \t object               \t 1      \t <object object at 0x000001F982ADD370> \t\n",
      "5 \t object               \t 1      \t <object object at 0x000001F982ADD4C0> \t\n",
      "6 \t str                  \t 0      \t                                \t\n",
      "7 \t bytes                \t 0      \t b''                            \t\n",
      "8 \t tuple                \t 3      \t ('a', 'b', 'c')                \t\n",
      "9 \t int                  \t 1      \t 1                              \t\n",
      "10 \t int                  \t 1      \t 2                              \t\n"
     ]
    }
   ],
   "source": [
    "view_collection(active)"
   ]
  },
  {
   "attachments": {},
   "cell_type": "markdown",
   "metadata": {},
   "source": [
    "The reference to the value popped is returned:"
   ]
  },
  {
   "cell_type": "code",
   "execution_count": 96,
   "metadata": {},
   "outputs": [
    {
     "data": {
      "text/plain": [
       "3"
      ]
     },
     "execution_count": 96,
     "metadata": {},
     "output_type": "execute_result"
    }
   ],
   "source": [
    "active.pop()"
   ]
  },
  {
   "attachments": {},
   "cell_type": "markdown",
   "metadata": {},
   "source": [
    "The mutated list can be viewed:"
   ]
  },
  {
   "cell_type": "code",
   "execution_count": 97,
   "metadata": {},
   "outputs": [
    {
     "name": "stdout",
     "output_type": "stream",
     "text": [
      "Index \t Type                 \t Size   \t Value                         \n",
      "0 \t object               \t 1      \t <object object at 0x000001F982ADD520> \t\n",
      "1 \t object               \t 1      \t <object object at 0x000001F982ADD480> \t\n",
      "2 \t tuple                \t 3      \t ('d', 'e', 'f')                \t\n",
      "3 \t object               \t 1      \t <object object at 0x000001F982ADD490> \t\n",
      "4 \t object               \t 1      \t <object object at 0x000001F982ADD370> \t\n",
      "5 \t object               \t 1      \t <object object at 0x000001F982ADD4C0> \t\n",
      "6 \t str                  \t 0      \t                                \t\n",
      "7 \t bytes                \t 0      \t b''                            \t\n",
      "8 \t tuple                \t 3      \t ('a', 'b', 'c')                \t\n",
      "9 \t int                  \t 1      \t 1                              \t\n",
      "10 \t int                  \t 1      \t 2                              \t\n"
     ]
    }
   ],
   "source": [
    "view_collection(active)"
   ]
  },
  {
   "attachments": {},
   "cell_type": "markdown",
   "metadata": {},
   "source": [
    "pop by default pops off the last value, however an index can be selected:"
   ]
  },
  {
   "cell_type": "code",
   "execution_count": 99,
   "metadata": {},
   "outputs": [
    {
     "data": {
      "text/plain": [
       "''"
      ]
     },
     "execution_count": 99,
     "metadata": {},
     "output_type": "execute_result"
    }
   ],
   "source": [
    "active.pop(6)"
   ]
  },
  {
   "attachments": {},
   "cell_type": "markdown",
   "metadata": {},
   "source": [
    "The mutated list can be viewed:"
   ]
  },
  {
   "cell_type": "code",
   "execution_count": 100,
   "metadata": {},
   "outputs": [
    {
     "name": "stdout",
     "output_type": "stream",
     "text": [
      "Index \t Type                 \t Size   \t Value                         \n",
      "0 \t object               \t 1      \t <object object at 0x000001F982ADD520> \t\n",
      "1 \t object               \t 1      \t <object object at 0x000001F982ADD480> \t\n",
      "2 \t tuple                \t 3      \t ('d', 'e', 'f')                \t\n",
      "3 \t object               \t 1      \t <object object at 0x000001F982ADD490> \t\n",
      "4 \t object               \t 1      \t <object object at 0x000001F982ADD370> \t\n",
      "5 \t object               \t 1      \t <object object at 0x000001F982ADD4C0> \t\n",
      "6 \t bytes                \t 0      \t b''                            \t\n",
      "7 \t tuple                \t 3      \t ('a', 'b', 'c')                \t\n",
      "8 \t int                  \t 1      \t 1                              \t\n",
      "9 \t int                  \t 1      \t 2                              \t\n"
     ]
    }
   ],
   "source": [
    "view_collection(active)"
   ]
  },
  {
   "attachments": {},
   "cell_type": "markdown",
   "metadata": {},
   "source": [
    "## Return Value"
   ]
  },
  {
   "cell_type": "code",
   "execution_count": 126,
   "metadata": {},
   "outputs": [],
   "source": [
    "archive1 = ('a', 'b', 'c', 'd')\n",
    "active1 = [1, 2, 3, 4]"
   ]
  },
  {
   "attachments": {},
   "cell_type": "markdown",
   "metadata": {},
   "source": []
  },
  {
   "cell_type": "code",
   "execution_count": 143,
   "metadata": {},
   "outputs": [],
   "source": [
    "def fun():\n",
    "    value = archive1 + ('E', 'F', 'G', 'H')\n",
    "    return value"
   ]
  },
  {
   "cell_type": "code",
   "execution_count": 144,
   "metadata": {},
   "outputs": [
    {
     "data": {
      "text/plain": [
       "('a', 'b', 'c', 'd', 'E', 'F', 'G', 'H')"
      ]
     },
     "execution_count": 144,
     "metadata": {},
     "output_type": "execute_result"
    }
   ],
   "source": [
    "fun()"
   ]
  },
  {
   "cell_type": "code",
   "execution_count": 145,
   "metadata": {},
   "outputs": [],
   "source": [
    "def fun():\n",
    "    archive1 = archive1 + ('E', 'F', 'G', 'H')\n",
    "    return None"
   ]
  },
  {
   "cell_type": "code",
   "execution_count": 146,
   "metadata": {},
   "outputs": [
    {
     "ename": "UnboundLocalError",
     "evalue": "cannot access local variable 'archive1' where it is not associated with a value",
     "output_type": "error",
     "traceback": [
      "\u001b[1;31m---------------------------------------------------------------------------\u001b[0m",
      "\u001b[1;31mUnboundLocalError\u001b[0m                         Traceback (most recent call last)",
      "Cell \u001b[1;32mIn[146], line 1\u001b[0m\n\u001b[1;32m----> 1\u001b[0m fun()\n",
      "Cell \u001b[1;32mIn[145], line 2\u001b[0m, in \u001b[0;36mfun\u001b[1;34m()\u001b[0m\n\u001b[0;32m      1\u001b[0m \u001b[39mdef\u001b[39;00m \u001b[39mfun\u001b[39m():\n\u001b[1;32m----> 2\u001b[0m     archive1 \u001b[39m=\u001b[39m archive1 \u001b[39m+\u001b[39m (\u001b[39m'\u001b[39m\u001b[39mE\u001b[39m\u001b[39m'\u001b[39m, \u001b[39m'\u001b[39m\u001b[39mF\u001b[39m\u001b[39m'\u001b[39m, \u001b[39m'\u001b[39m\u001b[39mG\u001b[39m\u001b[39m'\u001b[39m, \u001b[39m'\u001b[39m\u001b[39mH\u001b[39m\u001b[39m'\u001b[39m)\n\u001b[0;32m      3\u001b[0m     \u001b[39mreturn\u001b[39;00m \u001b[39mNone\u001b[39;00m\n",
      "\u001b[1;31mUnboundLocalError\u001b[0m: cannot access local variable 'archive1' where it is not associated with a value"
     ]
    }
   ],
   "source": [
    "# fun()"
   ]
  },
  {
   "cell_type": "code",
   "execution_count": 147,
   "metadata": {},
   "outputs": [],
   "source": [
    "def fun():\n",
    "    value = active1 + [5, 6, 7, 8]\n",
    "    return value"
   ]
  },
  {
   "cell_type": "code",
   "execution_count": 148,
   "metadata": {},
   "outputs": [
    {
     "data": {
      "text/plain": [
       "[1, 2, 3, 4, 5, 6, 7, 8]"
      ]
     },
     "execution_count": 148,
     "metadata": {},
     "output_type": "execute_result"
    }
   ],
   "source": [
    "fun()"
   ]
  },
  {
   "cell_type": "code",
   "execution_count": 150,
   "metadata": {},
   "outputs": [],
   "source": [
    "def fun():\n",
    "    active1 = active1 + [5, 6, 7, 8]\n",
    "    return None"
   ]
  },
  {
   "cell_type": "code",
   "execution_count": 151,
   "metadata": {},
   "outputs": [
    {
     "ename": "UnboundLocalError",
     "evalue": "cannot access local variable 'active1' where it is not associated with a value",
     "output_type": "error",
     "traceback": [
      "\u001b[1;31m---------------------------------------------------------------------------\u001b[0m",
      "\u001b[1;31mUnboundLocalError\u001b[0m                         Traceback (most recent call last)",
      "Cell \u001b[1;32mIn[151], line 1\u001b[0m\n\u001b[1;32m----> 1\u001b[0m fun()\n",
      "Cell \u001b[1;32mIn[150], line 2\u001b[0m, in \u001b[0;36mfun\u001b[1;34m()\u001b[0m\n\u001b[0;32m      1\u001b[0m \u001b[39mdef\u001b[39;00m \u001b[39mfun\u001b[39m():\n\u001b[1;32m----> 2\u001b[0m     active1 \u001b[39m=\u001b[39m active1 \u001b[39m+\u001b[39m [\u001b[39m5\u001b[39m, \u001b[39m6\u001b[39m, \u001b[39m7\u001b[39m, \u001b[39m8\u001b[39m]\n\u001b[0;32m      3\u001b[0m     \u001b[39mreturn\u001b[39;00m \u001b[39mNone\u001b[39;00m\n",
      "\u001b[1;31mUnboundLocalError\u001b[0m: cannot access local variable 'active1' where it is not associated with a value"
     ]
    }
   ],
   "source": [
    "# fun()"
   ]
  },
  {
   "cell_type": "code",
   "execution_count": 152,
   "metadata": {},
   "outputs": [],
   "source": [
    "def fun():\n",
    "    active1.extend([5, 6, 7, 8])\n",
    "    return None"
   ]
  },
  {
   "cell_type": "code",
   "execution_count": 153,
   "metadata": {},
   "outputs": [],
   "source": [
    "fun()"
   ]
  },
  {
   "cell_type": "code",
   "execution_count": 154,
   "metadata": {},
   "outputs": [
    {
     "name": "stdout",
     "output_type": "stream",
     "text": [
      "Index \t Type                 \t Size   \t Value                         \n",
      "0 \t int                  \t 1      \t 1                              \t\n",
      "1 \t int                  \t 1      \t 2                              \t\n",
      "2 \t int                  \t 1      \t 3                              \t\n",
      "3 \t int                  \t 1      \t 4                              \t\n",
      "4 \t int                  \t 1      \t 5                              \t\n",
      "5 \t int                  \t 1      \t 6                              \t\n",
      "6 \t int                  \t 1      \t 7                              \t\n",
      "7 \t int                  \t 1      \t 8                              \t\n"
     ]
    }
   ],
   "source": [
    "view_collection(active1)"
   ]
  },
  {
   "cell_type": "markdown",
   "metadata": {},
   "source": []
  },
  {
   "attachments": {},
   "cell_type": "markdown",
   "metadata": {},
   "source": [
    "## Mutability"
   ]
  },
  {
   "attachments": {},
   "cell_type": "markdown",
   "metadata": {},
   "source": [
    "Most beginner tutorials tend to overuse lists and underuse tuples. Although there is some obvious advantages to mutatability:"
   ]
  },
  {
   "cell_type": "code",
   "execution_count": null,
   "metadata": {},
   "outputs": [],
   "source": [
    "def updatecollection(t1):\n",
    "    return t1 + tuple('hello')"
   ]
  },
  {
   "cell_type": "code",
   "execution_count": null,
   "metadata": {},
   "outputs": [],
   "source": [
    "def mutatecollection(l1):\n",
    "    l1.append('hello')\n",
    "    return None\n",
    "    "
   ]
  }
 ],
 "metadata": {
  "kernelspec": {
   "display_name": "jupyterlab",
   "language": "python",
   "name": "python3"
  },
  "language_info": {
   "codemirror_mode": {
    "name": "ipython",
    "version": 3
   },
   "file_extension": ".py",
   "mimetype": "text/x-python",
   "name": "python",
   "nbconvert_exporter": "python",
   "pygments_lexer": "ipython3",
   "version": "3.11.4"
  },
  "orig_nbformat": 4,
  "vscode": {
   "interpreter": {
    "hash": "4648373dafda34926c036cc9e466ef2f8d360789320441bb704a9be21d427d2a"
   }
  }
 },
 "nbformat": 4,
 "nbformat_minor": 2
}
