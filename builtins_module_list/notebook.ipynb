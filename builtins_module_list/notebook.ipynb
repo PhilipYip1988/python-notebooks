{
 "cells": [
  {
   "attachments": {},
   "cell_type": "markdown",
   "metadata": {},
   "source": [
    "## builtins module: the list class"
   ]
  },
  {
   "attachments": {},
   "cell_type": "markdown",
   "metadata": {},
   "source": [
    "In the previous notebook the immutable tuple was examined which was a collection of instance names which can be conceptualised as a collection of labels that each act as a reference to a Python object:"
   ]
  },
  {
   "cell_type": "code",
   "execution_count": 1,
   "metadata": {},
   "outputs": [
    {
     "data": {
      "text/plain": [
       "(<object at 0x14a408ad3f0>,\n",
       " <object at 0x14a408ad410>,\n",
       " <object at 0x14a408ad3b0>,\n",
       " <object at 0x14a408ad360>,\n",
       " <object at 0x14a408ad5f0>)"
      ]
     },
     "execution_count": 1,
     "metadata": {},
     "output_type": "execute_result"
    }
   ],
   "source": [
    "archive = (object(), object(), object(), object(), object())\n",
    "archive"
   ]
  },
  {
   "attachments": {},
   "cell_type": "markdown",
   "metadata": {},
   "source": [
    "The function view_collection can be defined to view a collection in more detail:"
   ]
  },
  {
   "cell_type": "code",
   "execution_count": 2,
   "metadata": {},
   "outputs": [],
   "source": [
    "def view_collection(collection):\n",
    "    print('Index', '\\t', 'Type'.ljust(20), '\\t', 'Size'.ljust(6), '\\t', 'Value'.ljust(30))\n",
    "    for idx, obj in enumerate(collection):\n",
    "        if '__len__' in dir(obj):\n",
    "            size = len(obj)\n",
    "        else:\n",
    "            size = 1\n",
    "        print(idx, '\\t', str(type(obj)).removeprefix(\"<class '\").removesuffix(\"'>\").ljust(20), '\\t', str(size).ljust(6), '\\t', str(obj).ljust(30), '\\t',)"
   ]
  },
  {
   "attachments": {},
   "cell_type": "markdown",
   "metadata": {},
   "source": [
    "The tuple, string class and bytes class all sharew the design pattern of an immutable Collection and therefore have consistent behaviour. \n",
    "\n",
    "The fundamental unit in these three collections are a reference to a Python object for a tuple:"
   ]
  },
  {
   "cell_type": "code",
   "execution_count": 3,
   "metadata": {},
   "outputs": [
    {
     "name": "stdout",
     "output_type": "stream",
     "text": [
      "Index \t Type                 \t Size   \t Value                         \n",
      "0 \t object               \t 1      \t <object object at 0x0000014A408AD3F0> \t\n",
      "1 \t object               \t 1      \t <object object at 0x0000014A408AD410> \t\n",
      "2 \t object               \t 1      \t <object object at 0x0000014A408AD3B0> \t\n",
      "3 \t object               \t 1      \t <object object at 0x0000014A408AD360> \t\n",
      "4 \t object               \t 1      \t <object object at 0x0000014A408AD5F0> \t\n"
     ]
    }
   ],
   "source": [
    "view_collection(archive)"
   ]
  },
  {
   "attachments": {},
   "cell_type": "markdown",
   "metadata": {},
   "source": [
    "A Unicode character for a Unicode string:"
   ]
  },
  {
   "cell_type": "code",
   "execution_count": 4,
   "metadata": {},
   "outputs": [
    {
     "name": "stdout",
     "output_type": "stream",
     "text": [
      "Index \t Type                 \t Size   \t Value                         \n",
      "0 \t str                  \t 1      \t h                              \t\n",
      "1 \t str                  \t 1      \t e                              \t\n",
      "2 \t str                  \t 1      \t l                              \t\n",
      "3 \t str                  \t 1      \t l                              \t\n",
      "4 \t str                  \t 1      \t o                              \t\n"
     ]
    }
   ],
   "source": [
    "view_collection('hello')"
   ]
  },
  {
   "attachments": {},
   "cell_type": "markdown",
   "metadata": {},
   "source": [
    "And a byte for a bytes string (which is in this case represented as an integer <256):"
   ]
  },
  {
   "cell_type": "code",
   "execution_count": 5,
   "metadata": {},
   "outputs": [
    {
     "name": "stdout",
     "output_type": "stream",
     "text": [
      "Index \t Type                 \t Size   \t Value                         \n",
      "0 \t int                  \t 1      \t 104                            \t\n",
      "1 \t int                  \t 1      \t 101                            \t\n",
      "2 \t int                  \t 1      \t 108                            \t\n",
      "3 \t int                  \t 1      \t 108                            \t\n",
      "4 \t int                  \t 1      \t 111                            \t\n"
     ]
    }
   ],
   "source": [
    "view_collection(b'hello')"
   ]
  },
  {
   "attachments": {},
   "cell_type": "markdown",
   "metadata": {},
   "source": [
    "All the methods in an immutable class are configured to have a return value which returns another instance of the same class or another class. For example in an immutable Collection the binary data model method \\_\\_add\\_\\_ maps to the + operator returns a new instance of the collection:"
   ]
  },
  {
   "cell_type": "code",
   "execution_count": 6,
   "metadata": {},
   "outputs": [],
   "source": [
    "archive1 = (object(), object())\n",
    "archive2 = (object(), object(), object())"
   ]
  },
  {
   "cell_type": "code",
   "execution_count": 7,
   "metadata": {},
   "outputs": [
    {
     "data": {
      "text/plain": [
       "(<object at 0x14a408ad590>,\n",
       " <object at 0x14a408ad650>,\n",
       " <object at 0x14a408ad380>,\n",
       " <object at 0x14a408ad680>,\n",
       " <object at 0x14a408ad660>)"
      ]
     },
     "execution_count": 7,
     "metadata": {},
     "output_type": "execute_result"
    }
   ],
   "source": [
    "archive1 + archive2"
   ]
  },
  {
   "cell_type": "code",
   "execution_count": 8,
   "metadata": {},
   "outputs": [
    {
     "data": {
      "text/plain": [
       "'helloworld'"
      ]
     },
     "execution_count": 8,
     "metadata": {},
     "output_type": "execute_result"
    }
   ],
   "source": [
    "'hello' + 'world'"
   ]
  },
  {
   "cell_type": "code",
   "execution_count": 9,
   "metadata": {},
   "outputs": [
    {
     "data": {
      "text/plain": [
       "b'helloworld'"
      ]
     },
     "execution_count": 9,
     "metadata": {},
     "output_type": "execute_result"
    }
   ],
   "source": [
    "b'hello' + b'world'"
   ]
  },
  {
   "attachments": {},
   "cell_type": "markdown",
   "metadata": {},
   "source": [
    "The bytearray was previously seen to be an immutable version of the bytes class and had supplementary behaviour that allowed for mutating the bytearray instance inplace:"
   ]
  },
  {
   "cell_type": "code",
   "execution_count": 10,
   "metadata": {},
   "outputs": [],
   "source": [
    "text = bytearray(b'hello')"
   ]
  },
  {
   "cell_type": "code",
   "execution_count": 11,
   "metadata": {},
   "outputs": [
    {
     "name": "stdout",
     "output_type": "stream",
     "text": [
      "Index \t Type                 \t Size   \t Value                         \n",
      "0 \t int                  \t 1      \t 104                            \t\n",
      "1 \t int                  \t 1      \t 101                            \t\n",
      "2 \t int                  \t 1      \t 108                            \t\n",
      "3 \t int                  \t 1      \t 108                            \t\n",
      "4 \t int                  \t 1      \t 111                            \t\n"
     ]
    }
   ],
   "source": [
    "view_collection(text)"
   ]
  },
  {
   "cell_type": "code",
   "execution_count": 12,
   "metadata": {},
   "outputs": [],
   "source": [
    "text.append(33) # No return value"
   ]
  },
  {
   "cell_type": "code",
   "execution_count": 13,
   "metadata": {},
   "outputs": [
    {
     "name": "stdout",
     "output_type": "stream",
     "text": [
      "Index \t Type                 \t Size   \t Value                         \n",
      "0 \t int                  \t 1      \t 104                            \t\n",
      "1 \t int                  \t 1      \t 101                            \t\n",
      "2 \t int                  \t 1      \t 108                            \t\n",
      "3 \t int                  \t 1      \t 108                            \t\n",
      "4 \t int                  \t 1      \t 111                            \t\n",
      "5 \t int                  \t 1      \t 33                             \t\n"
     ]
    }
   ],
   "source": [
    "view_collection(text)"
   ]
  },
  {
   "attachments": {},
   "cell_type": "markdown",
   "metadata": {},
   "source": [
    "The next Collection to be examined is the list which is a Mutable version of the tuple and therefore like the tuple has an instance name or label that references a Python object as its fundamental unit."
   ]
  },
  {
   "attachments": {},
   "cell_type": "markdown",
   "metadata": {},
   "source": [
    "## Initialisation Signature"
   ]
  },
  {
   "attachments": {},
   "cell_type": "markdown",
   "metadata": {},
   "source": [
    "The initialisation signature of a list can be viewed by inputting:"
   ]
  },
  {
   "cell_type": "code",
   "execution_count": 14,
   "metadata": {},
   "outputs": [
    {
     "name": "stdout",
     "output_type": "stream",
     "text": [
      "\u001b[1;31mInit signature:\u001b[0m  \u001b[0mlist\u001b[0m\u001b[1;33m(\u001b[0m\u001b[0miterable\u001b[0m\u001b[1;33m=\u001b[0m\u001b[1;33m(\u001b[0m\u001b[1;33m)\u001b[0m\u001b[1;33m,\u001b[0m \u001b[1;33m/\u001b[0m\u001b[1;33m)\u001b[0m\u001b[1;33m\u001b[0m\u001b[1;33m\u001b[0m\u001b[0m\n",
      "\u001b[1;31mDocstring:\u001b[0m     \n",
      "Built-in mutable sequence.\n",
      "\n",
      "If no argument is given, the constructor creates a new empty list.\n",
      "The argument must be an iterable if specified.\n",
      "\u001b[1;31mType:\u001b[0m           type\n",
      "\u001b[1;31mSubclasses:\u001b[0m     _HashedSeq, StackSummary, _Threads, ConvertingList, DeferredConfigList, _ymd, _Accumulator, DeprecatedList, SList, _ImmutableLineList, ..."
     ]
    }
   ],
   "source": [
    "? list"
   ]
  },
  {
   "attachments": {},
   "cell_type": "markdown",
   "metadata": {},
   "source": [
    "A list, like a tuple is instantiated from an iterable. A list can be case from the tuple archive example:"
   ]
  },
  {
   "cell_type": "code",
   "execution_count": 15,
   "metadata": {},
   "outputs": [
    {
     "data": {
      "text/plain": [
       "[<object at 0x14a408ad3f0>,\n",
       " <object at 0x14a408ad410>,\n",
       " <object at 0x14a408ad3b0>,\n",
       " <object at 0x14a408ad360>,\n",
       " <object at 0x14a408ad5f0>]"
      ]
     },
     "execution_count": 15,
     "metadata": {},
     "output_type": "execute_result"
    }
   ],
   "source": [
    "list(archive)"
   ]
  },
  {
   "cell_type": "markdown",
   "metadata": {},
   "source": [
    "Or the Unicode string 'hello':"
   ]
  },
  {
   "cell_type": "code",
   "execution_count": 16,
   "metadata": {},
   "outputs": [
    {
     "data": {
      "text/plain": [
       "['h', 'e', 'l', 'l', 'o']"
      ]
     },
     "execution_count": 16,
     "metadata": {},
     "output_type": "execute_result"
    }
   ],
   "source": [
    "list('hello')"
   ]
  },
  {
   "cell_type": "markdown",
   "metadata": {},
   "source": [
    "The cell output displays the formal representation of the list. Because the list is a commly used builtins collection it can be instantiated shorthand using square brackets to enclose the objects that will be labelled at each corresponding index of the list. Notice that the list collection is enclosed in square brackets [ ] instead of the parenthesis ();"
   ]
  },
  {
   "cell_type": "code",
   "execution_count": 17,
   "metadata": {},
   "outputs": [
    {
     "data": {
      "text/plain": [
       "('h', 'e', 'l', 'l', 'o')"
      ]
     },
     "execution_count": 17,
     "metadata": {},
     "output_type": "execute_result"
    }
   ],
   "source": [
    "tuple('hello')"
   ]
  },
  {
   "cell_type": "markdown",
   "metadata": {},
   "source": [
    "If the function view_collection is used on either of these, the same output will display;"
   ]
  },
  {
   "cell_type": "code",
   "execution_count": 18,
   "metadata": {},
   "outputs": [
    {
     "name": "stdout",
     "output_type": "stream",
     "text": [
      "Index \t Type                 \t Size   \t Value                         \n",
      "0 \t str                  \t 1      \t h                              \t\n",
      "1 \t str                  \t 1      \t e                              \t\n",
      "2 \t str                  \t 1      \t l                              \t\n",
      "3 \t str                  \t 1      \t l                              \t\n",
      "4 \t str                  \t 1      \t o                              \t\n"
     ]
    }
   ],
   "source": [
    "view_collection(tuple('hello'))"
   ]
  },
  {
   "cell_type": "code",
   "execution_count": 19,
   "metadata": {},
   "outputs": [
    {
     "name": "stdout",
     "output_type": "stream",
     "text": [
      "Index \t Type                 \t Size   \t Value                         \n",
      "0 \t str                  \t 1      \t h                              \t\n",
      "1 \t str                  \t 1      \t e                              \t\n",
      "2 \t str                  \t 1      \t l                              \t\n",
      "3 \t str                  \t 1      \t l                              \t\n",
      "4 \t str                  \t 1      \t o                              \t\n"
     ]
    }
   ],
   "source": [
    "view_collection(list('hello'))"
   ]
  },
  {
   "cell_type": "code",
   "execution_count": 20,
   "metadata": {},
   "outputs": [
    {
     "name": "stdout",
     "output_type": "stream",
     "text": [
      "Index \t Type                 \t Size   \t Value                         \n",
      "0 \t str                  \t 1      \t h                              \t\n",
      "1 \t str                  \t 1      \t e                              \t\n",
      "2 \t str                  \t 1      \t l                              \t\n",
      "3 \t str                  \t 1      \t l                              \t\n",
      "4 \t str                  \t 1      \t o                              \t\n"
     ]
    }
   ],
   "source": [
    "view_collection('hello')"
   ]
  },
  {
   "cell_type": "markdown",
   "metadata": {},
   "source": [
    "The list can be instantiated using the shorthand form:"
   ]
  },
  {
   "cell_type": "code",
   "execution_count": 21,
   "metadata": {},
   "outputs": [
    {
     "data": {
      "text/plain": [
       "[1, True, 3.14, 'hello', b'hello', bytearray(b'hello')]"
      ]
     },
     "execution_count": 21,
     "metadata": {},
     "output_type": "execute_result"
    }
   ],
   "source": [
    "[1, True, 3.14, 'hello', b'hello', bytearray(b'hello')]"
   ]
  },
  {
   "cell_type": "markdown",
   "metadata": {},
   "source": [
    "The square brackets [ ] are also used in Python for indexing and slicing. Generally there is no confusion with regards to the terminology:"
   ]
  },
  {
   "cell_type": "code",
   "execution_count": 22,
   "metadata": {},
   "outputs": [
    {
     "data": {
      "text/plain": [
       "3.14"
      ]
     },
     "execution_count": 22,
     "metadata": {},
     "output_type": "execute_result"
    }
   ],
   "source": [
    "[1, True, 3.14, 'hello', b'hello', bytearray(b'hello')][2]"
   ]
  },
  {
   "cell_type": "markdown",
   "metadata": {},
   "source": [
    "Square brackets can be used to create an empty list and 1 element list:"
   ]
  },
  {
   "cell_type": "code",
   "execution_count": 23,
   "metadata": {},
   "outputs": [],
   "source": [
    "empty_active = []"
   ]
  },
  {
   "cell_type": "code",
   "execution_count": 24,
   "metadata": {},
   "outputs": [
    {
     "data": {
      "text/plain": [
       "[]"
      ]
     },
     "execution_count": 24,
     "metadata": {},
     "output_type": "execute_result"
    }
   ],
   "source": [
    "empty_active"
   ]
  },
  {
   "cell_type": "code",
   "execution_count": 25,
   "metadata": {},
   "outputs": [
    {
     "data": {
      "text/plain": [
       "list"
      ]
     },
     "execution_count": 25,
     "metadata": {},
     "output_type": "execute_result"
    }
   ],
   "source": [
    "type(empty_active)"
   ]
  },
  {
   "cell_type": "code",
   "execution_count": 26,
   "metadata": {},
   "outputs": [],
   "source": [
    "single_element_active = ['hello']"
   ]
  },
  {
   "cell_type": "code",
   "execution_count": 27,
   "metadata": {},
   "outputs": [
    {
     "data": {
      "text/plain": [
       "['hello']"
      ]
     },
     "execution_count": 27,
     "metadata": {},
     "output_type": "execute_result"
    }
   ],
   "source": [
    "single_element_active"
   ]
  },
  {
   "cell_type": "code",
   "execution_count": 28,
   "metadata": {},
   "outputs": [
    {
     "data": {
      "text/plain": [
       "list"
      ]
     },
     "execution_count": 28,
     "metadata": {},
     "output_type": "execute_result"
    }
   ],
   "source": [
    "type(single_element_active)"
   ]
  },
  {
   "cell_type": "markdown",
   "metadata": {},
   "source": [
    "The syntax below should be clear, the left hand side square brackets are used to enclose the contents in the list and the right hand square brackets are used to index into the list:"
   ]
  },
  {
   "cell_type": "code",
   "execution_count": 29,
   "metadata": {},
   "outputs": [
    {
     "data": {
      "text/plain": [
       "3"
      ]
     },
     "execution_count": 29,
     "metadata": {},
     "output_type": "execute_result"
    }
   ],
   "source": [
    "[1, 2, 3][2]"
   ]
  },
  {
   "cell_type": "markdown",
   "metadata": {},
   "source": [
    "## Identifiers"
   ]
  },
  {
   "attachments": {},
   "cell_type": "markdown",
   "metadata": {},
   "source": [
    "Details about the identifiers in the list class can be seen by using the help function:"
   ]
  },
  {
   "cell_type": "code",
   "execution_count": 30,
   "metadata": {},
   "outputs": [
    {
     "name": "stdout",
     "output_type": "stream",
     "text": [
      "Help on class list in module builtins:\n",
      "\n",
      "class list(object)\n",
      " |  list(iterable=(), /)\n",
      " |  \n",
      " |  Built-in mutable sequence.\n",
      " |  \n",
      " |  If no argument is given, the constructor creates a new empty list.\n",
      " |  The argument must be an iterable if specified.\n",
      " |  \n",
      " |  Methods defined here:\n",
      " |  \n",
      " |  __add__(self, value, /)\n",
      " |      Return self+value.\n",
      " |  \n",
      " |  __contains__(self, key, /)\n",
      " |      Return key in self.\n",
      " |  \n",
      " |  __delitem__(self, key, /)\n",
      " |      Delete self[key].\n",
      " |  \n",
      " |  __eq__(self, value, /)\n",
      " |      Return self==value.\n",
      " |  \n",
      " |  __ge__(self, value, /)\n",
      " |      Return self>=value.\n",
      " |  \n",
      " |  __getattribute__(self, name, /)\n",
      " |      Return getattr(self, name).\n",
      " |  \n",
      " |  __getitem__(...)\n",
      " |      x.__getitem__(y) <==> x[y]\n",
      " |  \n",
      " |  __gt__(self, value, /)\n",
      " |      Return self>value.\n",
      " |  \n",
      " |  __iadd__(self, value, /)\n",
      " |      Implement self+=value.\n",
      " |  \n",
      " |  __imul__(self, value, /)\n",
      " |      Implement self*=value.\n",
      " |  \n",
      " |  __init__(self, /, *args, **kwargs)\n",
      " |      Initialize self.  See help(type(self)) for accurate signature.\n",
      " |  \n",
      " |  __iter__(self, /)\n",
      " |      Implement iter(self).\n",
      " |  \n",
      " |  __le__(self, value, /)\n",
      " |      Return self<=value.\n",
      " |  \n",
      " |  __len__(self, /)\n",
      " |      Return len(self).\n",
      " |  \n",
      " |  __lt__(self, value, /)\n",
      " |      Return self<value.\n",
      " |  \n",
      " |  __mul__(self, value, /)\n",
      " |      Return self*value.\n",
      " |  \n",
      " |  __ne__(self, value, /)\n",
      " |      Return self!=value.\n",
      " |  \n",
      " |  __repr__(self, /)\n",
      " |      Return repr(self).\n",
      " |  \n",
      " |  __reversed__(self, /)\n",
      " |      Return a reverse iterator over the list.\n",
      " |  \n",
      " |  __rmul__(self, value, /)\n",
      " |      Return value*self.\n",
      " |  \n",
      " |  __setitem__(self, key, value, /)\n",
      " |      Set self[key] to value.\n",
      " |  \n",
      " |  __sizeof__(self, /)\n",
      " |      Return the size of the list in memory, in bytes.\n",
      " |  \n",
      " |  append(self, object, /)\n",
      " |      Append object to the end of the list.\n",
      " |  \n",
      " |  clear(self, /)\n",
      " |      Remove all items from list.\n",
      " |  \n",
      " |  copy(self, /)\n",
      " |      Return a shallow copy of the list.\n",
      " |  \n",
      " |  count(self, value, /)\n",
      " |      Return number of occurrences of value.\n",
      " |  \n",
      " |  extend(self, iterable, /)\n",
      " |      Extend list by appending elements from the iterable.\n",
      " |  \n",
      " |  index(self, value, start=0, stop=9223372036854775807, /)\n",
      " |      Return first index of value.\n",
      " |      \n",
      " |      Raises ValueError if the value is not present.\n",
      " |  \n",
      " |  insert(self, index, object, /)\n",
      " |      Insert object before index.\n",
      " |  \n",
      " |  pop(self, index=-1, /)\n",
      " |      Remove and return item at index (default last).\n",
      " |      \n",
      " |      Raises IndexError if list is empty or index is out of range.\n",
      " |  \n",
      " |  remove(self, value, /)\n",
      " |      Remove first occurrence of value.\n",
      " |      \n",
      " |      Raises ValueError if the value is not present.\n",
      " |  \n",
      " |  reverse(self, /)\n",
      " |      Reverse *IN PLACE*.\n",
      " |  \n",
      " |  sort(self, /, *, key=None, reverse=False)\n",
      " |      Sort the list in ascending order and return None.\n",
      " |      \n",
      " |      The sort is in-place (i.e. the list itself is modified) and stable (i.e. the\n",
      " |      order of two equal elements is maintained).\n",
      " |      \n",
      " |      If a key function is given, apply it once to each list item and sort them,\n",
      " |      ascending or descending, according to their function values.\n",
      " |      \n",
      " |      The reverse flag can be set to sort in descending order.\n",
      " |  \n",
      " |  ----------------------------------------------------------------------\n",
      " |  Class methods defined here:\n",
      " |  \n",
      " |  __class_getitem__(...) from builtins.type\n",
      " |      See PEP 585\n",
      " |  \n",
      " |  ----------------------------------------------------------------------\n",
      " |  Static methods defined here:\n",
      " |  \n",
      " |  __new__(*args, **kwargs) from builtins.type\n",
      " |      Create and return a new object.  See help(type) for accurate signature.\n",
      " |  \n",
      " |  ----------------------------------------------------------------------\n",
      " |  Data and other attributes defined here:\n",
      " |  \n",
      " |  __hash__ = None\n",
      "\n"
     ]
    }
   ],
   "source": [
    "help(list)"
   ]
  },
  {
   "attachments": {},
   "cell_type": "markdown",
   "metadata": {},
   "source": [
    "These identifiers can be split into attributes (there aren't any):"
   ]
  },
  {
   "cell_type": "code",
   "execution_count": 31,
   "metadata": {},
   "outputs": [],
   "source": [
    "for identifier in dir(list):\n",
    "    isfunction = callable(getattr(list, identifier))\n",
    "    isdatamodel = identifier[0] == '_'\n",
    "    if (not isfunction and not isdatamodel):\n",
    "        print(identifier, end=' ')"
   ]
  },
  {
   "attachments": {},
   "cell_type": "markdown",
   "metadata": {},
   "source": [
    "Data model attributes:"
   ]
  },
  {
   "cell_type": "code",
   "execution_count": 32,
   "metadata": {},
   "outputs": [
    {
     "name": "stdout",
     "output_type": "stream",
     "text": [
      "__doc__ __hash__ "
     ]
    }
   ],
   "source": [
    "for identifier in dir(list):\n",
    "    isfunction = callable(getattr(list, identifier))\n",
    "    isdatamodel = identifier[0] == '_'\n",
    "    if (not isfunction and isdatamodel):\n",
    "        print(identifier, end=' ')"
   ]
  },
  {
   "attachments": {},
   "cell_type": "markdown",
   "metadata": {},
   "source": [
    "Methods:"
   ]
  },
  {
   "cell_type": "code",
   "execution_count": 33,
   "metadata": {},
   "outputs": [
    {
     "name": "stdout",
     "output_type": "stream",
     "text": [
      "append clear copy count extend index insert pop remove reverse sort "
     ]
    }
   ],
   "source": [
    "for identifier in dir(list):\n",
    "    isfunction = callable(getattr(list, identifier))\n",
    "    isdatamodel = identifier[0] == '_'\n",
    "    if (isfunction and not isdatamodel):\n",
    "        print(identifier, end=' ')"
   ]
  },
  {
   "attachments": {},
   "cell_type": "markdown",
   "metadata": {},
   "source": [
    "Data Model Methods:"
   ]
  },
  {
   "cell_type": "code",
   "execution_count": 34,
   "metadata": {},
   "outputs": [
    {
     "name": "stdout",
     "output_type": "stream",
     "text": [
      "__add__ __class__ __class_getitem__ __contains__ __delattr__ __delitem__ __dir__ __eq__ __format__ __ge__ __getattribute__ __getitem__ __getstate__ __gt__ __iadd__ __imul__ __init__ __init_subclass__ __iter__ __le__ __len__ __lt__ __mul__ __ne__ __new__ __reduce__ __reduce_ex__ __repr__ __reversed__ __rmul__ __setattr__ __setitem__ __sizeof__ __str__ __subclasshook__ "
     ]
    }
   ],
   "source": [
    "for identifier in dir(list):\n",
    "    isfunction = callable(getattr(list, identifier))\n",
    "    isdatamodel = identifier[0] == '_'\n",
    "    if (isfunction and isdatamodel):\n",
    "        print(identifier, end=' ')"
   ]
  },
  {
   "attachments": {},
   "cell_type": "markdown",
   "metadata": {},
   "source": [
    "The list is a mutatable counterpart to the immutable tuple which was previously examined. Therefore the immutable methods have consistent behaviour. The identifiers in the list that aren't present in the tuple are the mutatable methods:"
   ]
  },
  {
   "cell_type": "code",
   "execution_count": 35,
   "metadata": {},
   "outputs": [],
   "source": [
    "for identifier in dir(list):\n",
    "    isfunction = callable(getattr(list, identifier))\n",
    "    isintuple = identifier in dir(tuple)\n",
    "    isdatamodel = identifier[0] == '_'\n",
    "    if (not isfunction and not isdatamodel and not isintuple):\n",
    "        print(identifier, end=' ')"
   ]
  },
  {
   "cell_type": "code",
   "execution_count": 36,
   "metadata": {},
   "outputs": [
    {
     "name": "stdout",
     "output_type": "stream",
     "text": [
      "append clear copy extend insert pop remove reverse sort "
     ]
    }
   ],
   "source": [
    "for identifier in dir(list):\n",
    "    isfunction = callable(getattr(list, identifier))\n",
    "    isintuple = identifier in dir(tuple)\n",
    "    isdatamodel = identifier[0] == '_'\n",
    "    if (isfunction and not isdatamodel and not isintuple):\n",
    "        print(identifier, end=' ')"
   ]
  },
  {
   "cell_type": "code",
   "execution_count": 37,
   "metadata": {},
   "outputs": [],
   "source": [
    "for identifier in dir(list):\n",
    "    isfunction = callable(getattr(list, identifier))\n",
    "    isintuple = identifier in dir(tuple)\n",
    "    isdatamodel = identifier[0] == '_'\n",
    "    if (not isfunction and isdatamodel and not isintuple):\n",
    "        print(identifier, end=' ')"
   ]
  },
  {
   "cell_type": "code",
   "execution_count": 38,
   "metadata": {},
   "outputs": [
    {
     "name": "stdout",
     "output_type": "stream",
     "text": [
      "__delitem__ __iadd__ __imul__ __reversed__ __setitem__ "
     ]
    }
   ],
   "source": [
    "for identifier in dir(list):\n",
    "    isfunction = callable(getattr(list, identifier))\n",
    "    isintuple = identifier in dir(tuple)\n",
    "    isdatamodel = identifier[0] == '_'\n",
    "    if (isfunction and isdatamodel and not isintuple):\n",
    "        print(identifier, end=' ')"
   ]
  },
  {
   "attachments": {},
   "cell_type": "markdown",
   "metadata": {},
   "source": [
    "There is consistency with the list class and the bytearray class which are both follow the design pattern of a mutatable Collection. Therefore most of the identifiers in the list are also present in the bytearray class:"
   ]
  },
  {
   "cell_type": "code",
   "execution_count": 39,
   "metadata": {},
   "outputs": [
    {
     "name": "stdout",
     "output_type": "stream",
     "text": [
      "sort "
     ]
    }
   ],
   "source": [
    "for identifier in dir(list):\n",
    "    isfunction = callable(getattr(list, identifier))\n",
    "    isinbytearray = identifier in dir(bytearray)\n",
    "    isdatamodel = identifier[0] == '_'\n",
    "    if (isfunction and not isdatamodel and not isinbytearray):\n",
    "        print(identifier, end=' ')"
   ]
  },
  {
   "cell_type": "code",
   "execution_count": 40,
   "metadata": {},
   "outputs": [
    {
     "name": "stdout",
     "output_type": "stream",
     "text": [
      "__class_getitem__ __reversed__ "
     ]
    }
   ],
   "source": [
    "for identifier in dir(list):\n",
    "    isfunction = callable(getattr(list, identifier))\n",
    "    isinbytearray = identifier in dir(bytearray)\n",
    "    isdatamodel = identifier[0] == '_'\n",
    "    if (isfunction and isdatamodel and not isinbytearray):\n",
    "        print(identifier, end=' ')"
   ]
  },
  {
   "attachments": {},
   "cell_type": "markdown",
   "metadata": {},
   "source": [
    "## Mutatable Methods"
   ]
  },
  {
   "attachments": {},
   "cell_type": "markdown",
   "metadata": {},
   "source": [
    "The tuple is a mutatable version of the archive:"
   ]
  },
  {
   "cell_type": "code",
   "execution_count": 41,
   "metadata": {},
   "outputs": [
    {
     "name": "stdout",
     "output_type": "stream",
     "text": [
      "Index \t Type                 \t Size   \t Value                         \n",
      "0 \t object               \t 1      \t <object object at 0x0000014A408AD3F0> \t\n",
      "1 \t object               \t 1      \t <object object at 0x0000014A408AD410> \t\n",
      "2 \t object               \t 1      \t <object object at 0x0000014A408AD3B0> \t\n",
      "3 \t object               \t 1      \t <object object at 0x0000014A408AD360> \t\n",
      "4 \t object               \t 1      \t <object object at 0x0000014A408AD5F0> \t\n"
     ]
    }
   ],
   "source": [
    "view_collection(archive)"
   ]
  },
  {
   "cell_type": "code",
   "execution_count": 42,
   "metadata": {},
   "outputs": [],
   "source": [
    "active = list(archive)"
   ]
  },
  {
   "cell_type": "code",
   "execution_count": 43,
   "metadata": {},
   "outputs": [
    {
     "name": "stdout",
     "output_type": "stream",
     "text": [
      "Index \t Type                 \t Size   \t Value                         \n",
      "0 \t object               \t 1      \t <object object at 0x0000014A408AD3F0> \t\n",
      "1 \t object               \t 1      \t <object object at 0x0000014A408AD410> \t\n",
      "2 \t object               \t 1      \t <object object at 0x0000014A408AD3B0> \t\n",
      "3 \t object               \t 1      \t <object object at 0x0000014A408AD360> \t\n",
      "4 \t object               \t 1      \t <object object at 0x0000014A408AD5F0> \t\n"
     ]
    }
   ],
   "source": [
    "view_collection(active)"
   ]
  },
  {
   "attachments": {},
   "cell_type": "markdown",
   "metadata": {},
   "source": [
    "Both the tuple and list have the immutable method \\_\\_getitem\\_\\_ however only the list has the mutatable methods \\_\\_setitem\\_\\_ and \\_\\_detitem\\_\\_. This means it is possible to index into both collections to obtain a reference to a Python object but only possible to assign the reference to another object or delete the reference in the list:"
   ]
  },
  {
   "cell_type": "code",
   "execution_count": 44,
   "metadata": {},
   "outputs": [
    {
     "data": {
      "text/plain": [
       "<object at 0x14a408ad410>"
      ]
     },
     "execution_count": 44,
     "metadata": {},
     "output_type": "execute_result"
    }
   ],
   "source": [
    "archive[1]"
   ]
  },
  {
   "cell_type": "code",
   "execution_count": 45,
   "metadata": {},
   "outputs": [
    {
     "data": {
      "text/plain": [
       "<object at 0x14a408ad410>"
      ]
     },
     "execution_count": 45,
     "metadata": {},
     "output_type": "execute_result"
    }
   ],
   "source": [
    "active[1]"
   ]
  },
  {
   "cell_type": "code",
   "execution_count": 46,
   "metadata": {},
   "outputs": [],
   "source": [
    "active[1] = object() # Mutatable"
   ]
  },
  {
   "cell_type": "code",
   "execution_count": 47,
   "metadata": {},
   "outputs": [
    {
     "name": "stdout",
     "output_type": "stream",
     "text": [
      "Index \t Type                 \t Size   \t Value                         \n",
      "0 \t object               \t 1      \t <object object at 0x0000014A408AD3F0> \t\n",
      "1 \t object               \t 1      \t <object object at 0x0000014A408AD4B0> \t\n",
      "2 \t object               \t 1      \t <object object at 0x0000014A408AD3B0> \t\n",
      "3 \t object               \t 1      \t <object object at 0x0000014A408AD360> \t\n",
      "4 \t object               \t 1      \t <object object at 0x0000014A408AD5F0> \t\n"
     ]
    }
   ],
   "source": [
    "view_collection(active)"
   ]
  },
  {
   "cell_type": "code",
   "execution_count": 48,
   "metadata": {},
   "outputs": [],
   "source": [
    "del active[1] # Mutatable"
   ]
  },
  {
   "cell_type": "code",
   "execution_count": 49,
   "metadata": {},
   "outputs": [
    {
     "name": "stdout",
     "output_type": "stream",
     "text": [
      "Index \t Type                 \t Size   \t Value                         \n",
      "0 \t object               \t 1      \t <object object at 0x0000014A408AD3F0> \t\n",
      "1 \t object               \t 1      \t <object object at 0x0000014A408AD3B0> \t\n",
      "2 \t object               \t 1      \t <object object at 0x0000014A408AD360> \t\n",
      "3 \t object               \t 1      \t <object object at 0x0000014A408AD5F0> \t\n"
     ]
    }
   ],
   "source": [
    "view_collection(active)"
   ]
  },
  {
   "attachments": {},
   "cell_type": "markdown",
   "metadata": {},
   "source": [
    "Notice the object that was at index 1 has been deleted. All other objects that had a lower index are shunted down by 1. The list now has a length of 4."
   ]
  },
  {
   "attachments": {},
   "cell_type": "markdown",
   "metadata": {},
   "source": [
    "Recreating the list active from the tuple archive:"
   ]
  },
  {
   "cell_type": "code",
   "execution_count": 50,
   "metadata": {},
   "outputs": [
    {
     "name": "stdout",
     "output_type": "stream",
     "text": [
      "Index \t Type                 \t Size   \t Value                         \n",
      "0 \t object               \t 1      \t <object object at 0x0000014A408AD3F0> \t\n",
      "1 \t object               \t 1      \t <object object at 0x0000014A408AD410> \t\n",
      "2 \t object               \t 1      \t <object object at 0x0000014A408AD3B0> \t\n",
      "3 \t object               \t 1      \t <object object at 0x0000014A408AD360> \t\n",
      "4 \t object               \t 1      \t <object object at 0x0000014A408AD5F0> \t\n"
     ]
    }
   ],
   "source": [
    "view_collection(archive)"
   ]
  },
  {
   "cell_type": "code",
   "execution_count": 51,
   "metadata": {},
   "outputs": [],
   "source": [
    "active = list(archive)"
   ]
  },
  {
   "cell_type": "code",
   "execution_count": 52,
   "metadata": {},
   "outputs": [
    {
     "name": "stdout",
     "output_type": "stream",
     "text": [
      "Index \t Type                 \t Size   \t Value                         \n",
      "0 \t object               \t 1      \t <object object at 0x0000014A408AD3F0> \t\n",
      "1 \t object               \t 1      \t <object object at 0x0000014A408AD410> \t\n",
      "2 \t object               \t 1      \t <object object at 0x0000014A408AD3B0> \t\n",
      "3 \t object               \t 1      \t <object object at 0x0000014A408AD360> \t\n",
      "4 \t object               \t 1      \t <object object at 0x0000014A408AD5F0> \t\n"
     ]
    }
   ],
   "source": [
    "view_collection(active)"
   ]
  },
  {
   "attachments": {},
   "cell_type": "markdown",
   "metadata": {},
   "source": [
    "The + operator performs concatenation in a collection returning a new collection. This is defined by the addition data model method \\_\\_add\\_\\_:"
   ]
  },
  {
   "cell_type": "code",
   "execution_count": 53,
   "metadata": {},
   "outputs": [
    {
     "data": {
      "text/plain": [
       "(<object at 0x14a408ad3f0>,\n",
       " <object at 0x14a408ad410>,\n",
       " <object at 0x14a408ad3b0>,\n",
       " <object at 0x14a408ad360>,\n",
       " <object at 0x14a408ad5f0>,\n",
       " '',\n",
       " '')"
      ]
     },
     "execution_count": 53,
     "metadata": {},
     "output_type": "execute_result"
    }
   ],
   "source": [
    "archive + (str(), str()) # Return value"
   ]
  },
  {
   "cell_type": "code",
   "execution_count": 54,
   "metadata": {},
   "outputs": [
    {
     "data": {
      "text/plain": [
       "[<object at 0x14a408ad3f0>,\n",
       " <object at 0x14a408ad410>,\n",
       " <object at 0x14a408ad3b0>,\n",
       " <object at 0x14a408ad360>,\n",
       " <object at 0x14a408ad5f0>,\n",
       " '',\n",
       " '']"
      ]
     },
     "execution_count": 54,
     "metadata": {},
     "output_type": "execute_result"
    }
   ],
   "source": [
    "active + [str(), str()] # Return value"
   ]
  },
  {
   "attachments": {},
   "cell_type": "markdown",
   "metadata": {},
   "source": [
    "There is a subtle difference with the += operator which performs inplace concatenation. Because a tuple is immutable, *inplace concatenation* creates a new instance and the reference or instance name from the original name is moved to the new instance. As a consequence the id of the tuple before and after the inplace addition operator is used:"
   ]
  },
  {
   "cell_type": "code",
   "execution_count": 55,
   "metadata": {},
   "outputs": [],
   "source": [
    "id1 = id(archive)"
   ]
  },
  {
   "cell_type": "code",
   "execution_count": 56,
   "metadata": {},
   "outputs": [],
   "source": [
    "archive += (str(), str()) "
   ]
  },
  {
   "cell_type": "code",
   "execution_count": 57,
   "metadata": {},
   "outputs": [],
   "source": [
    "id2 = id(archive)"
   ]
  },
  {
   "cell_type": "code",
   "execution_count": 58,
   "metadata": {},
   "outputs": [
    {
     "data": {
      "text/plain": [
       "False"
      ]
     },
     "execution_count": 58,
     "metadata": {},
     "output_type": "execute_result"
    }
   ],
   "source": [
    "id1 == id2"
   ]
  },
  {
   "attachments": {},
   "cell_type": "markdown",
   "metadata": {},
   "source": [
    "For a list, the inplace addition data model \\_\\_iadd\\_\\_ is redefined. This mutates the original instance inplace and therefore the list has the same id before and after the inplace concatenation:"
   ]
  },
  {
   "cell_type": "code",
   "execution_count": 59,
   "metadata": {},
   "outputs": [],
   "source": [
    "id1 = id(active)"
   ]
  },
  {
   "cell_type": "code",
   "execution_count": 60,
   "metadata": {},
   "outputs": [],
   "source": [
    "active += [str(), str()] "
   ]
  },
  {
   "cell_type": "code",
   "execution_count": 61,
   "metadata": {},
   "outputs": [],
   "source": [
    "id2 = id(active)"
   ]
  },
  {
   "attachments": {},
   "cell_type": "markdown",
   "metadata": {},
   "source": [
    "The mutated list can be viewed:"
   ]
  },
  {
   "cell_type": "code",
   "execution_count": 62,
   "metadata": {},
   "outputs": [
    {
     "name": "stdout",
     "output_type": "stream",
     "text": [
      "Index \t Type                 \t Size   \t Value                         \n",
      "0 \t object               \t 1      \t <object object at 0x0000014A408AD3F0> \t\n",
      "1 \t object               \t 1      \t <object object at 0x0000014A408AD410> \t\n",
      "2 \t object               \t 1      \t <object object at 0x0000014A408AD3B0> \t\n",
      "3 \t object               \t 1      \t <object object at 0x0000014A408AD360> \t\n",
      "4 \t object               \t 1      \t <object object at 0x0000014A408AD5F0> \t\n",
      "5 \t str                  \t 0      \t                                \t\n",
      "6 \t str                  \t 0      \t                                \t\n"
     ]
    }
   ],
   "source": [
    "view_collection(active)"
   ]
  },
  {
   "attachments": {},
   "cell_type": "markdown",
   "metadata": {},
   "source": [
    "The mutatable method append, appends a reference to a single object at the end of a list:"
   ]
  },
  {
   "cell_type": "code",
   "execution_count": 63,
   "metadata": {},
   "outputs": [],
   "source": [
    "active.append(bytes()) # No return value"
   ]
  },
  {
   "cell_type": "code",
   "execution_count": 64,
   "metadata": {},
   "outputs": [
    {
     "name": "stdout",
     "output_type": "stream",
     "text": [
      "Index \t Type                 \t Size   \t Value                         \n",
      "0 \t object               \t 1      \t <object object at 0x0000014A408AD3F0> \t\n",
      "1 \t object               \t 1      \t <object object at 0x0000014A408AD410> \t\n",
      "2 \t object               \t 1      \t <object object at 0x0000014A408AD3B0> \t\n",
      "3 \t object               \t 1      \t <object object at 0x0000014A408AD360> \t\n",
      "4 \t object               \t 1      \t <object object at 0x0000014A408AD5F0> \t\n",
      "5 \t str                  \t 0      \t                                \t\n",
      "6 \t str                  \t 0      \t                                \t\n",
      "7 \t bytes                \t 0      \t b''                            \t\n"
     ]
    }
   ],
   "source": [
    "view_collection(active)"
   ]
  },
  {
   "attachments": {},
   "cell_type": "markdown",
   "metadata": {},
   "source": [
    "If this object is a collection such as a tuple, it will be appended as a single element:"
   ]
  },
  {
   "cell_type": "code",
   "execution_count": 65,
   "metadata": {},
   "outputs": [],
   "source": [
    "active.append(('a', 'b', 'c')) # No return value"
   ]
  },
  {
   "attachments": {},
   "cell_type": "markdown",
   "metadata": {},
   "source": [
    "The mutated list can then be viewed:"
   ]
  },
  {
   "cell_type": "code",
   "execution_count": 66,
   "metadata": {},
   "outputs": [
    {
     "name": "stdout",
     "output_type": "stream",
     "text": [
      "Index \t Type                 \t Size   \t Value                         \n",
      "0 \t object               \t 1      \t <object object at 0x0000014A408AD3F0> \t\n",
      "1 \t object               \t 1      \t <object object at 0x0000014A408AD410> \t\n",
      "2 \t object               \t 1      \t <object object at 0x0000014A408AD3B0> \t\n",
      "3 \t object               \t 1      \t <object object at 0x0000014A408AD360> \t\n",
      "4 \t object               \t 1      \t <object object at 0x0000014A408AD5F0> \t\n",
      "5 \t str                  \t 0      \t                                \t\n",
      "6 \t str                  \t 0      \t                                \t\n",
      "7 \t bytes                \t 0      \t b''                            \t\n",
      "8 \t tuple                \t 3      \t ('a', 'b', 'c')                \t\n"
     ]
    }
   ],
   "source": [
    "view_collection(active)"
   ]
  },
  {
   "attachments": {},
   "cell_type": "markdown",
   "metadata": {},
   "source": [
    "The extend method will extend a list using the contents of a collection:"
   ]
  },
  {
   "cell_type": "code",
   "execution_count": 67,
   "metadata": {},
   "outputs": [],
   "source": [
    "active.extend((1, 2, 3)) # No return value"
   ]
  },
  {
   "attachments": {},
   "cell_type": "markdown",
   "metadata": {},
   "source": [
    "The mutated list can be viewed:"
   ]
  },
  {
   "cell_type": "code",
   "execution_count": 68,
   "metadata": {},
   "outputs": [
    {
     "name": "stdout",
     "output_type": "stream",
     "text": [
      "Index \t Type                 \t Size   \t Value                         \n",
      "0 \t object               \t 1      \t <object object at 0x0000014A408AD3F0> \t\n",
      "1 \t object               \t 1      \t <object object at 0x0000014A408AD410> \t\n",
      "2 \t object               \t 1      \t <object object at 0x0000014A408AD3B0> \t\n",
      "3 \t object               \t 1      \t <object object at 0x0000014A408AD360> \t\n",
      "4 \t object               \t 1      \t <object object at 0x0000014A408AD5F0> \t\n",
      "5 \t str                  \t 0      \t                                \t\n",
      "6 \t str                  \t 0      \t                                \t\n",
      "7 \t bytes                \t 0      \t b''                            \t\n",
      "8 \t tuple                \t 3      \t ('a', 'b', 'c')                \t\n",
      "9 \t int                  \t 1      \t 1                              \t\n",
      "10 \t int                  \t 1      \t 2                              \t\n",
      "11 \t int                  \t 1      \t 3                              \t\n"
     ]
    }
   ],
   "source": [
    "view_collection(active)"
   ]
  },
  {
   "attachments": {},
   "cell_type": "markdown",
   "metadata": {},
   "source": [
    "The method insert can be used to insert a reference to a single object at a specific index behaving similarly to append. Any references that are at this index and later indexes get shunted up by 1:"
   ]
  },
  {
   "cell_type": "code",
   "execution_count": 69,
   "metadata": {},
   "outputs": [],
   "source": [
    "active.insert(2, ('d', 'e', 'f')) # No return value"
   ]
  },
  {
   "attachments": {},
   "cell_type": "markdown",
   "metadata": {},
   "source": [
    "The mutated list can then be viewed:"
   ]
  },
  {
   "cell_type": "code",
   "execution_count": 70,
   "metadata": {},
   "outputs": [
    {
     "name": "stdout",
     "output_type": "stream",
     "text": [
      "Index \t Type                 \t Size   \t Value                         \n",
      "0 \t object               \t 1      \t <object object at 0x0000014A408AD3F0> \t\n",
      "1 \t object               \t 1      \t <object object at 0x0000014A408AD410> \t\n",
      "2 \t tuple                \t 3      \t ('d', 'e', 'f')                \t\n",
      "3 \t object               \t 1      \t <object object at 0x0000014A408AD3B0> \t\n",
      "4 \t object               \t 1      \t <object object at 0x0000014A408AD360> \t\n",
      "5 \t object               \t 1      \t <object object at 0x0000014A408AD5F0> \t\n",
      "6 \t str                  \t 0      \t                                \t\n",
      "7 \t str                  \t 0      \t                                \t\n",
      "8 \t bytes                \t 0      \t b''                            \t\n",
      "9 \t tuple                \t 3      \t ('a', 'b', 'c')                \t\n",
      "10 \t int                  \t 1      \t 1                              \t\n",
      "11 \t int                  \t 1      \t 2                              \t\n",
      "12 \t int                  \t 1      \t 3                              \t\n"
     ]
    }
   ],
   "source": [
    "view_collection(active)"
   ]
  },
  {
   "attachments": {},
   "cell_type": "markdown",
   "metadata": {},
   "source": [
    "The method remove can be used to remove the first occurance of a value:"
   ]
  },
  {
   "cell_type": "code",
   "execution_count": 71,
   "metadata": {},
   "outputs": [],
   "source": [
    "active.remove('') # No return value"
   ]
  },
  {
   "attachments": {},
   "cell_type": "markdown",
   "metadata": {},
   "source": [
    "The mutated list can be viewed:"
   ]
  },
  {
   "cell_type": "code",
   "execution_count": 72,
   "metadata": {},
   "outputs": [
    {
     "name": "stdout",
     "output_type": "stream",
     "text": [
      "Index \t Type                 \t Size   \t Value                         \n",
      "0 \t object               \t 1      \t <object object at 0x0000014A408AD3F0> \t\n",
      "1 \t object               \t 1      \t <object object at 0x0000014A408AD410> \t\n",
      "2 \t tuple                \t 3      \t ('d', 'e', 'f')                \t\n",
      "3 \t object               \t 1      \t <object object at 0x0000014A408AD3B0> \t\n",
      "4 \t object               \t 1      \t <object object at 0x0000014A408AD360> \t\n",
      "5 \t object               \t 1      \t <object object at 0x0000014A408AD5F0> \t\n",
      "6 \t str                  \t 0      \t                                \t\n",
      "7 \t bytes                \t 0      \t b''                            \t\n",
      "8 \t tuple                \t 3      \t ('a', 'b', 'c')                \t\n",
      "9 \t int                  \t 1      \t 1                              \t\n",
      "10 \t int                  \t 1      \t 2                              \t\n",
      "11 \t int                  \t 1      \t 3                              \t\n"
     ]
    }
   ],
   "source": [
    "view_collection(active)"
   ]
  },
  {
   "attachments": {},
   "cell_type": "markdown",
   "metadata": {},
   "source": [
    "The order of the list can be sorted using the method sort, this will only work for a list where each element is ordinal:"
   ]
  },
  {
   "cell_type": "code",
   "execution_count": 73,
   "metadata": {},
   "outputs": [],
   "source": [
    "text_archive = list('AaBbCcDdEe')"
   ]
  },
  {
   "cell_type": "code",
   "execution_count": 74,
   "metadata": {},
   "outputs": [
    {
     "name": "stdout",
     "output_type": "stream",
     "text": [
      "Index \t Type                 \t Size   \t Value                         \n",
      "0 \t str                  \t 1      \t A                              \t\n",
      "1 \t str                  \t 1      \t a                              \t\n",
      "2 \t str                  \t 1      \t B                              \t\n",
      "3 \t str                  \t 1      \t b                              \t\n",
      "4 \t str                  \t 1      \t C                              \t\n",
      "5 \t str                  \t 1      \t c                              \t\n",
      "6 \t str                  \t 1      \t D                              \t\n",
      "7 \t str                  \t 1      \t d                              \t\n",
      "8 \t str                  \t 1      \t E                              \t\n",
      "9 \t str                  \t 1      \t e                              \t\n"
     ]
    }
   ],
   "source": [
    "view_collection(text_archive)"
   ]
  },
  {
   "cell_type": "code",
   "execution_count": 75,
   "metadata": {},
   "outputs": [],
   "source": [
    "text_archive.sort()"
   ]
  },
  {
   "cell_type": "code",
   "execution_count": 76,
   "metadata": {},
   "outputs": [
    {
     "name": "stdout",
     "output_type": "stream",
     "text": [
      "Index \t Type                 \t Size   \t Value                         \n",
      "0 \t str                  \t 1      \t A                              \t\n",
      "1 \t str                  \t 1      \t B                              \t\n",
      "2 \t str                  \t 1      \t C                              \t\n",
      "3 \t str                  \t 1      \t D                              \t\n",
      "4 \t str                  \t 1      \t E                              \t\n",
      "5 \t str                  \t 1      \t a                              \t\n",
      "6 \t str                  \t 1      \t b                              \t\n",
      "7 \t str                  \t 1      \t c                              \t\n",
      "8 \t str                  \t 1      \t d                              \t\n",
      "9 \t str                  \t 1      \t e                              \t\n"
     ]
    }
   ],
   "source": [
    "view_collection(text_archive)"
   ]
  },
  {
   "cell_type": "code",
   "execution_count": 77,
   "metadata": {},
   "outputs": [
    {
     "name": "stdout",
     "output_type": "stream",
     "text": [
      "65 A\n",
      "66 B\n",
      "67 C\n",
      "68 D\n",
      "69 E\n",
      "97 a\n",
      "98 b\n",
      "99 c\n",
      "100 d\n",
      "101 e\n"
     ]
    }
   ],
   "source": [
    "for char in text_archive:\n",
    "    print(ord(char), char)"
   ]
  },
  {
   "attachments": {},
   "cell_type": "markdown",
   "metadata": {},
   "source": [
    "The order of elements in a list can be reversed in a list by using the reverse method:"
   ]
  },
  {
   "cell_type": "code",
   "execution_count": 78,
   "metadata": {},
   "outputs": [],
   "source": [
    "text_archive.reverse() # No return method"
   ]
  },
  {
   "cell_type": "code",
   "execution_count": 79,
   "metadata": {},
   "outputs": [
    {
     "name": "stdout",
     "output_type": "stream",
     "text": [
      "Index \t Type                 \t Size   \t Value                         \n",
      "0 \t str                  \t 1      \t e                              \t\n",
      "1 \t str                  \t 1      \t d                              \t\n",
      "2 \t str                  \t 1      \t c                              \t\n",
      "3 \t str                  \t 1      \t b                              \t\n",
      "4 \t str                  \t 1      \t a                              \t\n",
      "5 \t str                  \t 1      \t E                              \t\n",
      "6 \t str                  \t 1      \t D                              \t\n",
      "7 \t str                  \t 1      \t C                              \t\n",
      "8 \t str                  \t 1      \t B                              \t\n",
      "9 \t str                  \t 1      \t A                              \t\n"
     ]
    }
   ],
   "source": [
    "view_collection(text_archive)"
   ]
  },
  {
   "attachments": {},
   "cell_type": "markdown",
   "metadata": {},
   "source": [
    "The method clear will clear all the references to Python objects in the list:"
   ]
  },
  {
   "cell_type": "code",
   "execution_count": 80,
   "metadata": {},
   "outputs": [],
   "source": [
    "text_archive.clear() # No return value"
   ]
  },
  {
   "attachments": {},
   "cell_type": "markdown",
   "metadata": {},
   "source": [
    "The updated collection can be viewed:"
   ]
  },
  {
   "cell_type": "code",
   "execution_count": 81,
   "metadata": {},
   "outputs": [
    {
     "name": "stdout",
     "output_type": "stream",
     "text": [
      "Index \t Type                 \t Size   \t Value                         \n"
     ]
    }
   ],
   "source": [
    "view_collection(text_archive)"
   ]
  },
  {
   "attachments": {},
   "cell_type": "markdown",
   "metadata": {},
   "source": [
    "The pop method is the outlier mutatable method that has a return value. It pops a reference to a Python object off of the list mutating the list in place and returns the popped value:"
   ]
  },
  {
   "cell_type": "code",
   "execution_count": 82,
   "metadata": {},
   "outputs": [
    {
     "name": "stdout",
     "output_type": "stream",
     "text": [
      "Index \t Type                 \t Size   \t Value                         \n",
      "0 \t object               \t 1      \t <object object at 0x0000014A408AD3F0> \t\n",
      "1 \t object               \t 1      \t <object object at 0x0000014A408AD410> \t\n",
      "2 \t tuple                \t 3      \t ('d', 'e', 'f')                \t\n",
      "3 \t object               \t 1      \t <object object at 0x0000014A408AD3B0> \t\n",
      "4 \t object               \t 1      \t <object object at 0x0000014A408AD360> \t\n",
      "5 \t object               \t 1      \t <object object at 0x0000014A408AD5F0> \t\n",
      "6 \t str                  \t 0      \t                                \t\n",
      "7 \t bytes                \t 0      \t b''                            \t\n",
      "8 \t tuple                \t 3      \t ('a', 'b', 'c')                \t\n",
      "9 \t int                  \t 1      \t 1                              \t\n",
      "10 \t int                  \t 1      \t 2                              \t\n",
      "11 \t int                  \t 1      \t 3                              \t\n"
     ]
    }
   ],
   "source": [
    "view_collection(active)"
   ]
  },
  {
   "attachments": {},
   "cell_type": "markdown",
   "metadata": {},
   "source": [
    "The reference to the value popped is returned:"
   ]
  },
  {
   "cell_type": "code",
   "execution_count": 83,
   "metadata": {},
   "outputs": [
    {
     "data": {
      "text/plain": [
       "3"
      ]
     },
     "execution_count": 83,
     "metadata": {},
     "output_type": "execute_result"
    }
   ],
   "source": [
    "active.pop()"
   ]
  },
  {
   "attachments": {},
   "cell_type": "markdown",
   "metadata": {},
   "source": [
    "The mutated list can be viewed:"
   ]
  },
  {
   "cell_type": "code",
   "execution_count": 84,
   "metadata": {},
   "outputs": [
    {
     "name": "stdout",
     "output_type": "stream",
     "text": [
      "Index \t Type                 \t Size   \t Value                         \n",
      "0 \t object               \t 1      \t <object object at 0x0000014A408AD3F0> \t\n",
      "1 \t object               \t 1      \t <object object at 0x0000014A408AD410> \t\n",
      "2 \t tuple                \t 3      \t ('d', 'e', 'f')                \t\n",
      "3 \t object               \t 1      \t <object object at 0x0000014A408AD3B0> \t\n",
      "4 \t object               \t 1      \t <object object at 0x0000014A408AD360> \t\n",
      "5 \t object               \t 1      \t <object object at 0x0000014A408AD5F0> \t\n",
      "6 \t str                  \t 0      \t                                \t\n",
      "7 \t bytes                \t 0      \t b''                            \t\n",
      "8 \t tuple                \t 3      \t ('a', 'b', 'c')                \t\n",
      "9 \t int                  \t 1      \t 1                              \t\n",
      "10 \t int                  \t 1      \t 2                              \t\n"
     ]
    }
   ],
   "source": [
    "view_collection(active)"
   ]
  },
  {
   "attachments": {},
   "cell_type": "markdown",
   "metadata": {},
   "source": [
    "pop by default pops off the last value, however an index can be selected:"
   ]
  },
  {
   "cell_type": "code",
   "execution_count": 85,
   "metadata": {},
   "outputs": [
    {
     "data": {
      "text/plain": [
       "''"
      ]
     },
     "execution_count": 85,
     "metadata": {},
     "output_type": "execute_result"
    }
   ],
   "source": [
    "active.pop(6)"
   ]
  },
  {
   "attachments": {},
   "cell_type": "markdown",
   "metadata": {},
   "source": [
    "The mutated list can be viewed:"
   ]
  },
  {
   "cell_type": "code",
   "execution_count": 86,
   "metadata": {},
   "outputs": [
    {
     "name": "stdout",
     "output_type": "stream",
     "text": [
      "Index \t Type                 \t Size   \t Value                         \n",
      "0 \t object               \t 1      \t <object object at 0x0000014A408AD3F0> \t\n",
      "1 \t object               \t 1      \t <object object at 0x0000014A408AD410> \t\n",
      "2 \t tuple                \t 3      \t ('d', 'e', 'f')                \t\n",
      "3 \t object               \t 1      \t <object object at 0x0000014A408AD3B0> \t\n",
      "4 \t object               \t 1      \t <object object at 0x0000014A408AD360> \t\n",
      "5 \t object               \t 1      \t <object object at 0x0000014A408AD5F0> \t\n",
      "6 \t bytes                \t 0      \t b''                            \t\n",
      "7 \t tuple                \t 3      \t ('a', 'b', 'c')                \t\n",
      "8 \t int                  \t 1      \t 1                              \t\n",
      "9 \t int                  \t 1      \t 2                              \t\n"
     ]
    }
   ],
   "source": [
    "view_collection(active)"
   ]
  },
  {
   "attachments": {},
   "cell_type": "markdown",
   "metadata": {},
   "source": [
    "## Mutability and Functions"
   ]
  },
  {
   "cell_type": "markdown",
   "metadata": {},
   "source": [
    "Supposing the following tuple is instantiated:"
   ]
  },
  {
   "cell_type": "code",
   "execution_count": 87,
   "metadata": {},
   "outputs": [],
   "source": [
    "archive1 = ('a', 'b', 'c', 'd')"
   ]
  },
  {
   "cell_type": "markdown",
   "metadata": {},
   "source": [
    "Functions have their own local scope but can access variables from the global scope. For immutable methods they can only return a value using their return statement. The global scope can otherwise not access variables from the local scope."
   ]
  },
  {
   "attachments": {},
   "cell_type": "markdown",
   "metadata": {},
   "source": [
    "A function can be created which accesses the immutable tuple, creates a local variable value using concatenation and then returns this value:"
   ]
  },
  {
   "cell_type": "code",
   "execution_count": 88,
   "metadata": {},
   "outputs": [],
   "source": [
    "def fun():\n",
    "    value = archive1 + ('E', 'F', 'G', 'H')\n",
    "    return value"
   ]
  },
  {
   "cell_type": "markdown",
   "metadata": {},
   "source": [
    "If this function is called, the return value is shown:"
   ]
  },
  {
   "cell_type": "code",
   "execution_count": 89,
   "metadata": {},
   "outputs": [
    {
     "data": {
      "text/plain": [
       "('a', 'b', 'c', 'd', 'E', 'F', 'G', 'H')"
      ]
     },
     "execution_count": 89,
     "metadata": {},
     "output_type": "execute_result"
    }
   ],
   "source": [
    "fun()"
   ]
  },
  {
   "cell_type": "markdown",
   "metadata": {},
   "source": [
    "And the immutable tuple is unmodified:"
   ]
  },
  {
   "cell_type": "code",
   "execution_count": 90,
   "metadata": {},
   "outputs": [
    {
     "data": {
      "text/plain": [
       "('a', 'b', 'c', 'd')"
      ]
     },
     "execution_count": 90,
     "metadata": {},
     "output_type": "execute_result"
    }
   ],
   "source": [
    "archive1"
   ]
  },
  {
   "cell_type": "markdown",
   "metadata": {},
   "source": [
    "Variables assigned in a function are local:"
   ]
  },
  {
   "cell_type": "code",
   "execution_count": 91,
   "metadata": {},
   "outputs": [],
   "source": [
    "def fun():\n",
    "    local_variable = (1, 2, 3, 4)"
   ]
  },
  {
   "cell_type": "markdown",
   "metadata": {},
   "source": [
    "Notice that when the function is called, there is nothing in the cell output as the function has no return value. When a return value is not specified, the function will return None:"
   ]
  },
  {
   "cell_type": "code",
   "execution_count": 92,
   "metadata": {},
   "outputs": [],
   "source": [
    "fun()"
   ]
  },
  {
   "cell_type": "markdown",
   "metadata": {},
   "source": [
    "This local_variable cannot be accessed outside the functions local scope:"
   ]
  },
  {
   "cell_type": "code",
   "execution_count": 93,
   "metadata": {},
   "outputs": [],
   "source": [
    "# local_variable"
   ]
  },
  {
   "cell_type": "markdown",
   "metadata": {},
   "source": [
    "<span style='color:red'>NameError</span>: name 'local_variable' is not defined"
   ]
  },
  {
   "cell_type": "markdown",
   "metadata": {},
   "source": [
    "Therefore a function can assign an instance name to an instanc in ites local scope that already exists in the global scope:"
   ]
  },
  {
   "cell_type": "code",
   "execution_count": 94,
   "metadata": {},
   "outputs": [],
   "source": [
    "def fun():\n",
    "    archive1 = ('E', 'F', 'G', 'H')"
   ]
  },
  {
   "cell_type": "markdown",
   "metadata": {},
   "source": [
    "This function has no return value:"
   ]
  },
  {
   "cell_type": "code",
   "execution_count": 95,
   "metadata": {},
   "outputs": [],
   "source": [
    "fun()"
   ]
  },
  {
   "cell_type": "markdown",
   "metadata": {},
   "source": [
    "The instance name in the global instance is unmodified: "
   ]
  },
  {
   "cell_type": "code",
   "execution_count": 96,
   "metadata": {},
   "outputs": [
    {
     "data": {
      "text/plain": [
       "('a', 'b', 'c', 'd')"
      ]
     },
     "execution_count": 96,
     "metadata": {},
     "output_type": "execute_result"
    }
   ],
   "source": [
    "archive1"
   ]
  },
  {
   "cell_type": "markdown",
   "metadata": {},
   "source": [
    "If the function tries to access an existing instance name in the global scope and then tries to reassign it in the local scope:"
   ]
  },
  {
   "cell_type": "code",
   "execution_count": 97,
   "metadata": {},
   "outputs": [],
   "source": [
    "def fun():\n",
    "    archive1 = archive1 + ('E', 'F', 'G', 'H')"
   ]
  },
  {
   "cell_type": "markdown",
   "metadata": {},
   "source": [
    "An UnboundLocalError message displays:"
   ]
  },
  {
   "cell_type": "code",
   "execution_count": 98,
   "metadata": {},
   "outputs": [],
   "source": [
    "# fun()"
   ]
  },
  {
   "cell_type": "markdown",
   "metadata": {},
   "source": [
    "<span style='color:red'>UnboundLocalError</span>: cannot access local variable 'archive1' where it is not associated with a value"
   ]
  },
  {
   "cell_type": "markdown",
   "metadata": {},
   "source": [
    "Now supposing the following list is instantiated:"
   ]
  },
  {
   "cell_type": "code",
   "execution_count": 99,
   "metadata": {},
   "outputs": [],
   "source": [
    "active1 = [1, 2, 3, 4]"
   ]
  },
  {
   "cell_type": "markdown",
   "metadata": {},
   "source": [
    "The function can access a global instance and use a mutatable method on the global instance:"
   ]
  },
  {
   "cell_type": "code",
   "execution_count": 100,
   "metadata": {},
   "outputs": [],
   "source": [
    "def fun():\n",
    "    active1.clear()"
   ]
  },
  {
   "cell_type": "markdown",
   "metadata": {},
   "source": [
    "The function has no return value:"
   ]
  },
  {
   "cell_type": "code",
   "execution_count": 101,
   "metadata": {},
   "outputs": [],
   "source": [
    "fun()"
   ]
  },
  {
   "cell_type": "markdown",
   "metadata": {},
   "source": [
    "However the global instance will be updated in place:"
   ]
  },
  {
   "cell_type": "code",
   "execution_count": 102,
   "metadata": {},
   "outputs": [
    {
     "data": {
      "text/plain": [
       "[]"
      ]
     },
     "execution_count": 102,
     "metadata": {},
     "output_type": "execute_result"
    }
   ],
   "source": [
    "active1"
   ]
  },
  {
   "cell_type": "markdown",
   "metadata": {},
   "source": [
    "Supposing the following tuples and lists are instantiated:"
   ]
  },
  {
   "cell_type": "code",
   "execution_count": 103,
   "metadata": {},
   "outputs": [],
   "source": [
    "archive1 = ('a', 'b', 'c', 'd')\n",
    "archive2 = ('e', 'f', 'g', 'h')\n",
    "\n",
    "active1 = [1, 2, 3, 4]\n",
    "active2 = [5, 6, 7, 8]"
   ]
  },
  {
   "cell_type": "markdown",
   "metadata": {},
   "source": [
    "Functions are typically configured to reference an instance from the global scope using input arguments:"
   ]
  },
  {
   "cell_type": "code",
   "execution_count": 104,
   "metadata": {},
   "outputs": [],
   "source": [
    "def fun(t1):\n",
    "    value = t1 * 2\n",
    "    return value"
   ]
  },
  {
   "cell_type": "markdown",
   "metadata": {},
   "source": [
    "This allows them to be used again and again on different data:"
   ]
  },
  {
   "cell_type": "code",
   "execution_count": 105,
   "metadata": {},
   "outputs": [
    {
     "data": {
      "text/plain": [
       "('a', 'b', 'c', 'd', 'a', 'b', 'c', 'd')"
      ]
     },
     "execution_count": 105,
     "metadata": {},
     "output_type": "execute_result"
    }
   ],
   "source": [
    "fun(archive1)"
   ]
  },
  {
   "cell_type": "code",
   "execution_count": 106,
   "metadata": {},
   "outputs": [
    {
     "data": {
      "text/plain": [
       "('e', 'f', 'g', 'h', 'e', 'f', 'g', 'h')"
      ]
     },
     "execution_count": 106,
     "metadata": {},
     "output_type": "execute_result"
    }
   ],
   "source": [
    "fun(archive2)"
   ]
  },
  {
   "cell_type": "code",
   "execution_count": 107,
   "metadata": {},
   "outputs": [
    {
     "data": {
      "text/plain": [
       "[1, 2, 3, 4, 1, 2, 3, 4]"
      ]
     },
     "execution_count": 107,
     "metadata": {},
     "output_type": "execute_result"
    }
   ],
   "source": [
    "fun(active1)"
   ]
  },
  {
   "cell_type": "code",
   "execution_count": 108,
   "metadata": {},
   "outputs": [
    {
     "data": {
      "text/plain": [
       "[5, 6, 7, 8, 5, 6, 7, 8]"
      ]
     },
     "execution_count": 108,
     "metadata": {},
     "output_type": "execute_result"
    }
   ],
   "source": [
    "fun(active2)"
   ]
  },
  {
   "cell_type": "markdown",
   "metadata": {},
   "source": [
    "Care needs to be taken if a function is configured to reference a global mutatable instance:"
   ]
  },
  {
   "cell_type": "code",
   "execution_count": 109,
   "metadata": {},
   "outputs": [],
   "source": [
    "def fun(l1):\n",
    "    l1.clear()"
   ]
  },
  {
   "cell_type": "markdown",
   "metadata": {},
   "source": [
    "Because the input argument is a local instance name or reference to a global mutatable instance, the global mutatable instance is mutated:"
   ]
  },
  {
   "cell_type": "code",
   "execution_count": 110,
   "metadata": {},
   "outputs": [],
   "source": [
    "fun(active1)"
   ]
  },
  {
   "cell_type": "code",
   "execution_count": 111,
   "metadata": {},
   "outputs": [
    {
     "data": {
      "text/plain": [
       "[]"
      ]
     },
     "execution_count": 111,
     "metadata": {},
     "output_type": "execute_result"
    }
   ],
   "source": [
    "active1"
   ]
  },
  {
   "cell_type": "markdown",
   "metadata": {},
   "source": [
    "When there is no intention to mutate the original instance, a copy of it can be created in the functions local namespace:"
   ]
  },
  {
   "cell_type": "code",
   "execution_count": 112,
   "metadata": {},
   "outputs": [],
   "source": [
    "def fun(l1):\n",
    "    l2 = l1.copy()\n",
    "    l2.clear()"
   ]
  },
  {
   "cell_type": "markdown",
   "metadata": {},
   "source": [
    "Calling the function creates a local copy of active2 and mutates it:"
   ]
  },
  {
   "cell_type": "code",
   "execution_count": 113,
   "metadata": {},
   "outputs": [],
   "source": [
    "fun(active2)"
   ]
  },
  {
   "cell_type": "markdown",
   "metadata": {},
   "source": [
    "Leaving active2 in place:"
   ]
  },
  {
   "cell_type": "code",
   "execution_count": 114,
   "metadata": {},
   "outputs": [
    {
     "data": {
      "text/plain": [
       "[5, 6, 7, 8]"
      ]
     },
     "execution_count": 114,
     "metadata": {},
     "output_type": "execute_result"
    }
   ],
   "source": [
    "active2"
   ]
  },
  {
   "cell_type": "markdown",
   "metadata": {},
   "source": [
    "Care should be taken when mutatable methods are used in a function with a return value:"
   ]
  },
  {
   "cell_type": "code",
   "execution_count": 115,
   "metadata": {},
   "outputs": [],
   "source": [
    "def fun(l1):\n",
    "    popped_val = l1.pop()\n",
    "    return (popped_val, ) * 3"
   ]
  },
  {
   "cell_type": "markdown",
   "metadata": {},
   "source": [
    "If active2 is examined:"
   ]
  },
  {
   "cell_type": "code",
   "execution_count": 116,
   "metadata": {},
   "outputs": [
    {
     "data": {
      "text/plain": [
       "[5, 6, 7, 8]"
      ]
     },
     "execution_count": 116,
     "metadata": {},
     "output_type": "execute_result"
    }
   ],
   "source": [
    "active2"
   ]
  },
  {
   "cell_type": "markdown",
   "metadata": {},
   "source": [
    "Calling the above function will return a tuple that replicates the popped value 3 times:"
   ]
  },
  {
   "cell_type": "code",
   "execution_count": 117,
   "metadata": {},
   "outputs": [
    {
     "data": {
      "text/plain": [
       "(8, 8, 8)"
      ]
     },
     "execution_count": 117,
     "metadata": {},
     "output_type": "execute_result"
    }
   ],
   "source": [
    "fun(active2)"
   ]
  },
  {
   "cell_type": "markdown",
   "metadata": {},
   "source": [
    "Notice that active2 is however mutated:"
   ]
  },
  {
   "cell_type": "code",
   "execution_count": 118,
   "metadata": {},
   "outputs": [
    {
     "data": {
      "text/plain": [
       "[5, 6, 7]"
      ]
     },
     "execution_count": 118,
     "metadata": {},
     "output_type": "execute_result"
    }
   ],
   "source": [
    "active2"
   ]
  },
  {
   "cell_type": "markdown",
   "metadata": {},
   "source": [
    "If instead a copy is made in the function and that is operated on:"
   ]
  },
  {
   "cell_type": "code",
   "execution_count": 119,
   "metadata": {},
   "outputs": [],
   "source": [
    "def fun(l1):\n",
    "    l2 = l1.copy()\n",
    "    popped_val = l2.pop()\n",
    "    return (popped_val, ) * 3"
   ]
  },
  {
   "cell_type": "markdown",
   "metadata": {},
   "source": [
    "The return value is similar to before:"
   ]
  },
  {
   "cell_type": "code",
   "execution_count": 120,
   "metadata": {},
   "outputs": [
    {
     "data": {
      "text/plain": [
       "(7, 7, 7)"
      ]
     },
     "execution_count": 120,
     "metadata": {},
     "output_type": "execute_result"
    }
   ],
   "source": [
    "fun(active2)"
   ]
  },
  {
   "cell_type": "markdown",
   "metadata": {},
   "source": [
    "However the mutatable list supplied as a reference via the functions input argument is not mutated:"
   ]
  },
  {
   "cell_type": "code",
   "execution_count": 121,
   "metadata": {},
   "outputs": [
    {
     "data": {
      "text/plain": [
       "[5, 6, 7]"
      ]
     },
     "execution_count": 121,
     "metadata": {},
     "output_type": "execute_result"
    }
   ],
   "source": [
    "active2"
   ]
  },
  {
   "attachments": {},
   "cell_type": "markdown",
   "metadata": {},
   "source": [
    "## Advantages of Immutability"
   ]
  },
  {
   "attachments": {},
   "cell_type": "markdown",
   "metadata": {},
   "source": [
    "Most beginner tutorials tend to overuse lists and underuse tuples. Although the list has some additional functionality due to being mutatable, this mutability comes with a number of drawbacks which include:\n",
    "\n",
    "* Possible unwanted mutability\n",
    "* Larger memory overhead\n",
    "* Slower due to larger memory overhead\n",
    "\n",
    "In general a tuple should preferentially be used instead of a list when a collection is used to group data that is later read in a program and not modified.\n",
    "\n",
    "An example is the return statement in a function. This can manually be configured to return a list:"
   ]
  },
  {
   "cell_type": "code",
   "execution_count": 122,
   "metadata": {},
   "outputs": [],
   "source": [
    "def fun1():\n",
    "    return [1, 4]"
   ]
  },
  {
   "cell_type": "markdown",
   "metadata": {},
   "source": [
    "Or a tuple:"
   ]
  },
  {
   "cell_type": "code",
   "execution_count": 123,
   "metadata": {},
   "outputs": [],
   "source": [
    "def fun2():\n",
    "    return (1, 4)"
   ]
  },
  {
   "cell_type": "markdown",
   "metadata": {},
   "source": [
    "If parenthesis aren't specified, a tuple will also be returned (as the default collection):"
   ]
  },
  {
   "cell_type": "code",
   "execution_count": 124,
   "metadata": {},
   "outputs": [],
   "source": [
    "def fun3():\n",
    "    return 1, 4"
   ]
  },
  {
   "cell_type": "markdown",
   "metadata": {},
   "source": [
    "This can be seen in the return values of these functions:"
   ]
  },
  {
   "cell_type": "code",
   "execution_count": 125,
   "metadata": {},
   "outputs": [
    {
     "data": {
      "text/plain": [
       "[1, 4]"
      ]
     },
     "execution_count": 125,
     "metadata": {},
     "output_type": "execute_result"
    }
   ],
   "source": [
    "fun1()"
   ]
  },
  {
   "cell_type": "code",
   "execution_count": 126,
   "metadata": {},
   "outputs": [
    {
     "data": {
      "text/plain": [
       "(1, 4)"
      ]
     },
     "execution_count": 126,
     "metadata": {},
     "output_type": "execute_result"
    }
   ],
   "source": [
    "fun2()"
   ]
  },
  {
   "cell_type": "code",
   "execution_count": 127,
   "metadata": {},
   "outputs": [
    {
     "data": {
      "text/plain": [
       "(1, 4)"
      ]
     },
     "execution_count": 127,
     "metadata": {},
     "output_type": "execute_result"
    }
   ],
   "source": [
    "fun3()"
   ]
  },
  {
   "cell_type": "markdown",
   "metadata": {},
   "source": [
    "Normally the values returned from the function are assigned to variables:"
   ]
  },
  {
   "cell_type": "code",
   "execution_count": 128,
   "metadata": {},
   "outputs": [],
   "source": [
    "num1, num2 = fun1()"
   ]
  },
  {
   "cell_type": "code",
   "execution_count": 129,
   "metadata": {},
   "outputs": [
    {
     "data": {
      "text/plain": [
       "1"
      ]
     },
     "execution_count": 129,
     "metadata": {},
     "output_type": "execute_result"
    }
   ],
   "source": [
    "num1"
   ]
  },
  {
   "cell_type": "code",
   "execution_count": 130,
   "metadata": {},
   "outputs": [
    {
     "data": {
      "text/plain": [
       "4"
      ]
     },
     "execution_count": 130,
     "metadata": {},
     "output_type": "execute_result"
    }
   ],
   "source": [
    "num2"
   ]
  },
  {
   "cell_type": "markdown",
   "metadata": {},
   "source": [
    "The same form can be used for fun2:"
   ]
  },
  {
   "cell_type": "code",
   "execution_count": 131,
   "metadata": {},
   "outputs": [],
   "source": [
    "num1, num2 = fun2()"
   ]
  },
  {
   "cell_type": "code",
   "execution_count": 132,
   "metadata": {},
   "outputs": [
    {
     "data": {
      "text/plain": [
       "1"
      ]
     },
     "execution_count": 132,
     "metadata": {},
     "output_type": "execute_result"
    }
   ],
   "source": [
    "num1"
   ]
  },
  {
   "cell_type": "markdown",
   "metadata": {},
   "source": [
    "And fun3:"
   ]
  },
  {
   "cell_type": "code",
   "execution_count": 133,
   "metadata": {},
   "outputs": [
    {
     "data": {
      "text/plain": [
       "4"
      ]
     },
     "execution_count": 133,
     "metadata": {},
     "output_type": "execute_result"
    }
   ],
   "source": [
    "num2"
   ]
  },
  {
   "cell_type": "code",
   "execution_count": 134,
   "metadata": {},
   "outputs": [],
   "source": [
    "num1, num2 = fun3()"
   ]
  },
  {
   "cell_type": "code",
   "execution_count": 135,
   "metadata": {},
   "outputs": [
    {
     "data": {
      "text/plain": [
       "1"
      ]
     },
     "execution_count": 135,
     "metadata": {},
     "output_type": "execute_result"
    }
   ],
   "source": [
    "num1"
   ]
  },
  {
   "cell_type": "code",
   "execution_count": 136,
   "metadata": {},
   "outputs": [
    {
     "data": {
      "text/plain": [
       "4"
      ]
     },
     "execution_count": 136,
     "metadata": {},
     "output_type": "execute_result"
    }
   ],
   "source": [
    "num2"
   ]
  },
  {
   "cell_type": "markdown",
   "metadata": {},
   "source": [
    "The above syntax creates a tuple with the two instance names in it:"
   ]
  },
  {
   "cell_type": "code",
   "execution_count": 137,
   "metadata": {},
   "outputs": [],
   "source": [
    "(num1, num2) = fun1()"
   ]
  },
  {
   "cell_type": "markdown",
   "metadata": {},
   "source": [
    "Notice the tuple on the left hand side itself is not assigned to an instance name. This is because its only purpose is for a single time use to instantiate the two instance names:"
   ]
  },
  {
   "cell_type": "code",
   "execution_count": 138,
   "metadata": {},
   "outputs": [
    {
     "data": {
      "text/plain": [
       "1"
      ]
     },
     "execution_count": 138,
     "metadata": {},
     "output_type": "execute_result"
    }
   ],
   "source": [
    "num1"
   ]
  },
  {
   "cell_type": "code",
   "execution_count": 139,
   "metadata": {},
   "outputs": [
    {
     "data": {
      "text/plain": [
       "4"
      ]
     },
     "execution_count": 139,
     "metadata": {},
     "output_type": "execute_result"
    }
   ],
   "source": [
    "num2"
   ]
  },
  {
   "cell_type": "markdown",
   "metadata": {},
   "source": [
    "When the enumerate class is used on a collection:"
   ]
  },
  {
   "cell_type": "code",
   "execution_count": 140,
   "metadata": {},
   "outputs": [
    {
     "name": "stdout",
     "output_type": "stream",
     "text": [
      "Index \t Type                 \t Size   \t Value                         \n",
      "0 \t str                  \t 1      \t h                              \t\n",
      "1 \t str                  \t 1      \t e                              \t\n",
      "2 \t str                  \t 1      \t l                              \t\n",
      "3 \t str                  \t 1      \t l                              \t\n",
      "4 \t str                  \t 1      \t o                              \t\n"
     ]
    }
   ],
   "source": [
    "view_collection('hello')"
   ]
  },
  {
   "cell_type": "markdown",
   "metadata": {},
   "source": [
    "Each element in it is a tuple, this can be seen by casting to a tuple:"
   ]
  },
  {
   "cell_type": "code",
   "execution_count": 141,
   "metadata": {},
   "outputs": [
    {
     "data": {
      "text/plain": [
       "((0, 'h'), (1, 'e'), (2, 'l'), (3, 'l'), (4, 'o'))"
      ]
     },
     "execution_count": 141,
     "metadata": {},
     "output_type": "execute_result"
    }
   ],
   "source": [
    "tuple(enumerate('hello'))"
   ]
  },
  {
   "cell_type": "markdown",
   "metadata": {},
   "source": [
    "Recall that the enumerate class is normally used in a for loop and each element is only used to read data during its specific iteration of the for loop:"
   ]
  },
  {
   "cell_type": "code",
   "execution_count": 142,
   "metadata": {},
   "outputs": [
    {
     "name": "stdout",
     "output_type": "stream",
     "text": [
      "0 h\n",
      "1 e\n",
      "2 l\n",
      "3 l\n",
      "4 o\n"
     ]
    }
   ],
   "source": [
    "for idx, val in enumerate('hello'):\n",
    "    print(idx, val)"
   ]
  },
  {
   "cell_type": "markdown",
   "metadata": {},
   "source": [
    "Since there are two inbuilt collections, distinguished by two different types of brackets. They are sometimes used to distinguish nested collections from the outer collection:"
   ]
  },
  {
   "cell_type": "code",
   "execution_count": 143,
   "metadata": {},
   "outputs": [
    {
     "data": {
      "text/plain": [
       "[(0, 'h'), (1, 'e'), (2, 'l'), (3, 'l'), (4, 'o')]"
      ]
     },
     "execution_count": 143,
     "metadata": {},
     "output_type": "execute_result"
    }
   ],
   "source": [
    "list(enumerate('hello'))"
   ]
  }
 ],
 "metadata": {
  "kernelspec": {
   "display_name": "jupyterlab",
   "language": "python",
   "name": "python3"
  },
  "language_info": {
   "codemirror_mode": {
    "name": "ipython",
    "version": 3
   },
   "file_extension": ".py",
   "mimetype": "text/x-python",
   "name": "python",
   "nbconvert_exporter": "python",
   "pygments_lexer": "ipython3",
   "version": "3.11.4"
  },
  "orig_nbformat": 4,
  "vscode": {
   "interpreter": {
    "hash": "4648373dafda34926c036cc9e466ef2f8d360789320441bb704a9be21d427d2a"
   }
  }
 },
 "nbformat": 4,
 "nbformat_minor": 2
}
