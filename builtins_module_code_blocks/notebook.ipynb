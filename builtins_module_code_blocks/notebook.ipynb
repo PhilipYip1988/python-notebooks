{
 "cells": [
  {
   "cell_type": "markdown",
   "metadata": {},
   "source": [
    "# builtins module: code blocks"
   ]
  },
  {
   "cell_type": "markdown",
   "metadata": {},
   "source": [
    "This tutorial will look at the use of code blocks in the Python programming language. Code blocks can be used to direct code in response to a condition, repeat an operation multiple times, or to handle errors. They are also used to create custom functions."
   ]
  },
  {
   "cell_type": "markdown",
   "metadata": {},
   "source": [
    "## Code Block Spacing"
   ]
  },
  {
   "cell_type": "markdown",
   "metadata": {},
   "source": [
    "The code block has the following syntax:"
   ]
  },
  {
   "cell_type": "raw",
   "metadata": {},
   "source": [
    "statement:\n",
    "    line of code\n",
    "    line of code\n",
    "    line of code\n",
    "\n"
   ]
  },
  {
   "cell_type": "markdown",
   "metadata": {},
   "source": [
    "Notice that:\n",
    "\n",
    "* The statement ends in a colon : which is used to indicate the beginning of a code block.\n",
    "* Each line of code belonging to the code block is indented by 4 spaces.\n",
    "* There are two blank lines left at the end of the code block to make it clear the code block has ended. "
   ]
  },
  {
   "cell_type": "markdown",
   "metadata": {},
   "source": [
    "Code not belonging to the code block is not indented:"
   ]
  },
  {
   "cell_type": "raw",
   "metadata": {},
   "source": [
    "statement:\n",
    "    line of code inside block\n",
    "    line of code inside block\n",
    "    line of code inside block\n",
    "\n",
    "\n",
    "line of code outside block\n",
    "line of code outside block"
   ]
  },
  {
   "cell_type": "markdown",
   "metadata": {},
   "source": [
    "Code blocks can included statements with nested code blocks. Anything belonging to a nested statement is indented twice using 8 spaces (4 spaces for the outer statement and another 4 spaces for the inner statement):"
   ]
  },
  {
   "cell_type": "raw",
   "metadata": {},
   "source": [
    "statement:\n",
    "    line of code inside block\n",
    "    line of code inside block\n",
    "    line of code inside block\n",
    "    nestedstatement:\n",
    "        line of code inside nestedblock\n",
    "        line of code inside nestedblock\n",
    "        line of code inside nestedblock\n",
    "\n",
    "\n",
    "line of code outside block\n",
    "line of code outside block"
   ]
  },
  {
   "cell_type": "markdown",
   "metadata": {},
   "source": [
    "## if, elif and else"
   ]
  },
  {
   "cell_type": "markdown",
   "metadata": {},
   "source": [
    "### if"
   ]
  },
  {
   "cell_type": "markdown",
   "metadata": {},
   "source": [
    "The if code block is carried out in response to a condition. Notice that the print statement is executed for a True condition:"
   ]
  },
  {
   "cell_type": "code",
   "execution_count": 2,
   "metadata": {},
   "outputs": [],
   "source": [
    "condition = True"
   ]
  },
  {
   "cell_type": "code",
   "execution_count": 3,
   "metadata": {},
   "outputs": [
    {
     "name": "stdout",
     "output_type": "stream",
     "text": [
      "The condition is True\n"
     ]
    }
   ],
   "source": [
    "if condition:\n",
    "    print('The condition is True')\n",
    "\n",
    "    "
   ]
  },
  {
   "cell_type": "markdown",
   "metadata": {},
   "source": [
    "When the condition is instead False, the print statement is not executed and the contents of the code block are skipped:"
   ]
  },
  {
   "cell_type": "code",
   "execution_count": 4,
   "metadata": {},
   "outputs": [],
   "source": [
    "condition = False"
   ]
  },
  {
   "cell_type": "code",
   "execution_count": 5,
   "metadata": {},
   "outputs": [],
   "source": [
    "if condition:\n",
    "    print('The condition is True')\n",
    "\n",
    "    "
   ]
  },
  {
   "cell_type": "markdown",
   "metadata": {},
   "source": [
    "A print statement outside the code block can be added. This is carried out after the code block when the condition is True:"
   ]
  },
  {
   "cell_type": "code",
   "execution_count": 6,
   "metadata": {},
   "outputs": [],
   "source": [
    "condition = True"
   ]
  },
  {
   "cell_type": "code",
   "execution_count": 14,
   "metadata": {},
   "outputs": [
    {
     "name": "stdout",
     "output_type": "stream",
     "text": [
      "The condition is True\n",
      "Outside the code block\n"
     ]
    }
   ],
   "source": [
    "if condition:\n",
    "    print('The condition is True')\n",
    "\n",
    "\n",
    "print('Outside the code block')"
   ]
  },
  {
   "cell_type": "markdown",
   "metadata": {},
   "source": [
    "When the condition is False and the code block is skipped, only the print statement outside the code block is carried out:"
   ]
  },
  {
   "cell_type": "code",
   "execution_count": 15,
   "metadata": {},
   "outputs": [],
   "source": [
    "condition = False"
   ]
  },
  {
   "cell_type": "code",
   "execution_count": 16,
   "metadata": {},
   "outputs": [
    {
     "name": "stdout",
     "output_type": "stream",
     "text": [
      "Outside the code block\n"
     ]
    }
   ],
   "source": [
    "if condition:\n",
    "    print('The condition is True')\n",
    "\n",
    "\n",
    "print('Outside the code block')"
   ]
  },
  {
   "cell_type": "markdown",
   "metadata": {},
   "source": [
    "### Comparison Operators"
   ]
  },
  {
   "cell_type": "markdown",
   "metadata": {},
   "source": [
    "The previous notebooks explored the most commonly used data types in builtins:\n",
    "\n",
    "* object\n",
    "* str\n",
    "* bytes\n",
    "* bytearray\n",
    "* int\n",
    "* bool\n",
    "* float\n",
    "* tuple\n",
    "* list\n",
    "* frozenset\n",
    "* set\n",
    "* dict"
   ]
  },
  {
   "cell_type": "markdown",
   "metadata": {},
   "source": [
    "The 6 comparison operators are defined slightly differently in these classes:\n",
    "\n",
    "* ordinally (str, bytes, bytearray, int, bool and float classes)\n",
    "* element by element ordinally (tuple, list)\n",
    "* subset/superset (frozenset, set)\n",
    "* only eaual to and not equal to implemented (object, dict)"
   ]
  },
  {
   "cell_type": "markdown",
   "metadata": {},
   "source": [
    "|Data model method|Comparison operator|Description|\n",
    "|---|---|---|\n",
    "|\\_\\_eq\\_\\_|==|is equal to|\n",
    "|\\_\\_ne\\_\\_|!=|not equal|\n",
    "|\\_\\_gt\\_\\_|>|greater than|\n",
    "|\\_\\_ge\\_\\_|>=|greater than or equal to|\n",
    "|\\_\\_lt\\_\\_|<|less than|\n",
    "|\\_\\_le\\_\\_|<=|less than or equal to|"
   ]
  },
  {
   "cell_type": "markdown",
   "metadata": {},
   "source": [
    "These comparison operators alongside other boolean identifiers return a bool in response to a condition and can be used for the condition in the code block. An example of a boolean operator:"
   ]
  },
  {
   "cell_type": "code",
   "execution_count": 21,
   "metadata": {},
   "outputs": [],
   "source": [
    "condition = 5 > 3"
   ]
  },
  {
   "cell_type": "code",
   "execution_count": 22,
   "metadata": {},
   "outputs": [
    {
     "data": {
      "text/plain": [
       "True"
      ]
     },
     "execution_count": 22,
     "metadata": {},
     "output_type": "execute_result"
    }
   ],
   "source": [
    "condition"
   ]
  },
  {
   "cell_type": "code",
   "execution_count": 23,
   "metadata": {},
   "outputs": [
    {
     "name": "stdout",
     "output_type": "stream",
     "text": [
      "The condition is True\n"
     ]
    }
   ],
   "source": [
    "if condition:\n",
    "    print('The condition is True')\n",
    "\n"
   ]
  },
  {
   "cell_type": "markdown",
   "metadata": {},
   "source": [
    "This can be shortened using:"
   ]
  },
  {
   "cell_type": "code",
   "execution_count": 25,
   "metadata": {},
   "outputs": [
    {
     "name": "stdout",
     "output_type": "stream",
     "text": [
      "The condition is True\n"
     ]
    }
   ],
   "source": [
    "if 5 > 3:\n",
    "    print('The condition is True')\n",
    "\n"
   ]
  },
  {
   "cell_type": "markdown",
   "metadata": {},
   "source": [
    "And an example of a boolean method:"
   ]
  },
  {
   "cell_type": "code",
   "execution_count": 26,
   "metadata": {},
   "outputs": [],
   "source": [
    "word = 'Hello'"
   ]
  },
  {
   "cell_type": "code",
   "execution_count": 28,
   "metadata": {},
   "outputs": [
    {
     "data": {
      "text/plain": [
       "True"
      ]
     },
     "execution_count": 28,
     "metadata": {},
     "output_type": "execute_result"
    }
   ],
   "source": [
    "word.istitle()"
   ]
  },
  {
   "cell_type": "code",
   "execution_count": 29,
   "metadata": {},
   "outputs": [
    {
     "name": "stdout",
     "output_type": "stream",
     "text": [
      "Hello\n"
     ]
    }
   ],
   "source": [
    "if word.upper():\n",
    "    print(word)\n",
    "\n",
    "    "
   ]
  },
  {
   "cell_type": "markdown",
   "metadata": {},
   "source": [
    "Multiple conditions can be combined using the bitwise operators:"
   ]
  },
  {
   "cell_type": "markdown",
   "metadata": {},
   "source": [
    "|Data model method|Comparison operator|Description|\n",
    "|---|---|---|\n",
    "|\\_\\_and\\_\\_|&|and|\n",
    "|\\_\\_or\\_\\_|\\||or|\n",
    "|\\_\\_xor\\_\\_|^|exclusive or|"
   ]
  },
  {
   "cell_type": "markdown",
   "metadata": {},
   "source": [
    "The bitwise operators &, |, ^ take precedence over the comparison operators ==, !=, >, >=, < and <=, so conditions are normally placed in parenthesis:"
   ]
  },
  {
   "cell_type": "code",
   "execution_count": 30,
   "metadata": {},
   "outputs": [
    {
     "name": "stdout",
     "output_type": "stream",
     "text": [
      "The condition is True\n"
     ]
    }
   ],
   "source": [
    "if (5 > 3) & ('a' < 'b'):\n",
    "    print('The condition is True')\n",
    "\n"
   ]
  },
  {
   "cell_type": "markdown",
   "metadata": {},
   "source": [
    "This becomes:"
   ]
  },
  {
   "cell_type": "code",
   "execution_count": 33,
   "metadata": {},
   "outputs": [
    {
     "name": "stdout",
     "output_type": "stream",
     "text": [
      "The condition is True\n"
     ]
    }
   ],
   "source": [
    "if True & True:\n",
    "    print('The condition is True')\n",
    "\n"
   ]
  },
  {
   "cell_type": "markdown",
   "metadata": {},
   "source": [
    "Without parenthesis:"
   ]
  },
  {
   "cell_type": "raw",
   "metadata": {},
   "source": [
    "if 5 > 3 & 'a' < 'b':\n",
    "    print('The condition is True')\n",
    "\n"
   ]
  },
  {
   "cell_type": "markdown",
   "metadata": {},
   "source": [
    "This operation is essentially attempted and a TypeError shows because the bitwise operator is not implemented for mixed data types:"
   ]
  },
  {
   "cell_type": "raw",
   "metadata": {},
   "source": [
    "if 5 > (3 & 'a') < 'b':\n",
    "    print('The condition is True')\n",
    "\n"
   ]
  },
  {
   "cell_type": "markdown",
   "metadata": {},
   "source": [
    "<span style='color:red'>TypeError</span>: unsupported operand type(s) for &: 'int' and 'str'"
   ]
  },
  {
   "cell_type": "markdown",
   "metadata": {},
   "source": [
    "The above shows a TypeError making it obvious what operation Python has tried to carry out. When all the data is numeric, the condition in the code block is calculated as False and the code in the code block is therefore skipped:"
   ]
  },
  {
   "cell_type": "code",
   "execution_count": 35,
   "metadata": {},
   "outputs": [],
   "source": [
    "if 5 > 3 & 5 > 3:\n",
    "    print('The condition is True')\n",
    "\n"
   ]
  },
  {
   "cell_type": "markdown",
   "metadata": {},
   "source": [
    "Without parenthesis the integer bitwise operator takes precidence:"
   ]
  },
  {
   "cell_type": "code",
   "execution_count": 36,
   "metadata": {},
   "outputs": [
    {
     "data": {
      "text/plain": [
       "1"
      ]
     },
     "execution_count": 36,
     "metadata": {},
     "output_type": "execute_result"
    }
   ],
   "source": [
    "3 & 5"
   ]
  },
  {
   "cell_type": "markdown",
   "metadata": {},
   "source": [
    "Recall this returns 1 when both bits are 1 and 0 otherwise:"
   ]
  },
  {
   "cell_type": "code",
   "execution_count": 43,
   "metadata": {},
   "outputs": [
    {
     "data": {
      "text/plain": [
       "'0b011'"
      ]
     },
     "execution_count": 43,
     "metadata": {},
     "output_type": "execute_result"
    }
   ],
   "source": [
    "'0b' + bin(3).removeprefix('0b').zfill(3)"
   ]
  },
  {
   "cell_type": "code",
   "execution_count": 44,
   "metadata": {},
   "outputs": [
    {
     "data": {
      "text/plain": [
       "'0b101'"
      ]
     },
     "execution_count": 44,
     "metadata": {},
     "output_type": "execute_result"
    }
   ],
   "source": [
    "'0b' + bin(5).removeprefix('0b').zfill(3)"
   ]
  },
  {
   "cell_type": "code",
   "execution_count": 45,
   "metadata": {},
   "outputs": [
    {
     "data": {
      "text/plain": [
       "'0b001'"
      ]
     },
     "execution_count": 45,
     "metadata": {},
     "output_type": "execute_result"
    }
   ],
   "source": [
    "'0b' + bin(3 & 5).removeprefix('0b').zfill(3)"
   ]
  },
  {
   "cell_type": "markdown",
   "metadata": {},
   "source": [
    "And therefore this expression becomes:"
   ]
  },
  {
   "cell_type": "code",
   "execution_count": 46,
   "metadata": {},
   "outputs": [
    {
     "data": {
      "text/plain": [
       "False"
      ]
     },
     "execution_count": 46,
     "metadata": {},
     "output_type": "execute_result"
    }
   ],
   "source": [
    "5 > 1 > 3"
   ]
  },
  {
   "cell_type": "markdown",
   "metadata": {},
   "source": [
    "Which is short hand for:"
   ]
  },
  {
   "cell_type": "code",
   "execution_count": 47,
   "metadata": {},
   "outputs": [
    {
     "data": {
      "text/plain": [
       "False"
      ]
     },
     "execution_count": 47,
     "metadata": {},
     "output_type": "execute_result"
    }
   ],
   "source": [
    "(5 > 1) & (1 > 3)"
   ]
  },
  {
   "cell_type": "markdown",
   "metadata": {},
   "source": [
    "If parenthesis are added, then the two comparison operators first return a boolean value which then allows the bitwise operation between two boolean instances:"
   ]
  },
  {
   "cell_type": "code",
   "execution_count": 48,
   "metadata": {},
   "outputs": [
    {
     "name": "stdout",
     "output_type": "stream",
     "text": [
      "The condition is True\n"
     ]
    }
   ],
   "source": [
    "if (5 > 3) & (5 > 3):\n",
    "    print('The condition is True')\n",
    "\n"
   ]
  },
  {
   "cell_type": "markdown",
   "metadata": {},
   "source": [
    "Other conditions can be added, using parenthesis appropriately:"
   ]
  },
  {
   "cell_type": "code",
   "execution_count": null,
   "metadata": {},
   "outputs": [],
   "source": [
    "if (((5 > 3) & ('a' > 'b')) | (4 == 3)):\n",
    "    print('The condition was True')\n",
    "    \n",
    "    "
   ]
  }
 ],
 "metadata": {
  "kernelspec": {
   "display_name": "vscode",
   "language": "python",
   "name": "python3"
  },
  "language_info": {
   "codemirror_mode": {
    "name": "ipython",
    "version": 3
   },
   "file_extension": ".py",
   "mimetype": "text/x-python",
   "name": "python",
   "nbconvert_exporter": "python",
   "pygments_lexer": "ipython3",
   "version": "3.11.4"
  },
  "orig_nbformat": 4
 },
 "nbformat": 4,
 "nbformat_minor": 2
}
