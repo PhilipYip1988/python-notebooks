{
 "cells": [
  {
   "cell_type": "markdown",
   "metadata": {},
   "source": [
    "# The Plotting Library"
   ]
  },
  {
   "cell_type": "markdown",
   "metadata": {},
   "source": [
    "Another popular plotting library is ```plotly```, this library uses Python bindings to output interactive plots in nodejs which is also the language used to display the interactive Python notebook within a browser. "
   ]
  },
  {
   "cell_type": "markdown",
   "metadata": {},
   "source": [
    "## Categorize_Identifiers Module"
   ]
  },
  {
   "cell_type": "markdown",
   "metadata": {},
   "source": [
    "This notebook will use the following functions ```dir2```, ```variables``` and ```view``` in the custom module ```categorize_identifiers``` which is found in the same directory as this notebook file. ```dir2``` is a variant of ```dir``` that groups identifiers into a ```dict``` under categories and ```variables``` is an IPython based a variable inspector. ```view``` is used to view a ```Collection``` in more detail:"
   ]
  },
  {
   "cell_type": "code",
   "execution_count": 1,
   "metadata": {},
   "outputs": [],
   "source": [
    "from categorize_identifiers import dir2, variables, view"
   ]
  },
  {
   "cell_type": "markdown",
   "metadata": {},
   "source": [
    "## Viewing Identifiers"
   ]
  },
  {
   "cell_type": "markdown",
   "metadata": {},
   "source": [
    "The datascience libraries previously used will be imported:"
   ]
  },
  {
   "cell_type": "code",
   "execution_count": 2,
   "metadata": {},
   "outputs": [],
   "source": [
    "import numpy as np\n",
    "import pandas as pd\n",
    "import matplotlib.pyplot as plt\n",
    "import seaborn as sns"
   ]
  },
  {
   "cell_type": "markdown",
   "metadata": {},
   "source": [
    "There is another popular Python plotting library called ```plotly``` which outputs only using NodeJS giving interactive plots in notebook cell outputs. The following modules are normally imported:"
   ]
  },
  {
   "cell_type": "code",
   "execution_count": 3,
   "metadata": {},
   "outputs": [],
   "source": [
    "import plotly.express as px\n",
    "import plotly.graph_objects as go\n",
    "import plotly.offline as pyo\n",
    "from plotly.subplots import make_subplots"
   ]
  },
  {
   "cell_type": "markdown",
   "metadata": {},
   "source": [
    "```plotly``` has not yet been updated for changes made in the latest version of ```pandas```. Under the hood, ```plotly``` uses functions from ```pd``` to access data from a ```pd.DataFrame``` and ```pandas``` flags a ```FutureWarning``` for every graph, this can be suppressed:"
   ]
  },
  {
   "cell_type": "code",
   "execution_count": 19,
   "metadata": {},
   "outputs": [],
   "source": [
    "import warnings\n",
    "warnings.simplefilter(action='ignore', category=FutureWarning)"
   ]
  },
  {
   "cell_type": "markdown",
   "metadata": {},
   "source": [
    "Graph objects ```go``` is a low-level interface to figures, traces and layout and similar to the ```matplotlib.pyplot``` module but more with an object-orientated approach:"
   ]
  },
  {
   "cell_type": "code",
   "execution_count": 5,
   "metadata": {
    "scrolled": true
   },
   "outputs": [
    {
     "name": "stdout",
     "output_type": "stream",
     "text": [
      "{'module': ['bar',\n",
      "            'barpolar',\n",
      "            'box',\n",
      "            'candlestick',\n",
      "            'carpet',\n",
      "            'choropleth',\n",
      "            'choroplethmapbox',\n",
      "            'cone',\n",
      "            'contour',\n",
      "            'contourcarpet',\n",
      "            'densitymapbox',\n",
      "            'funnel',\n",
      "            'funnelarea',\n",
      "            'heatmap',\n",
      "            'heatmapgl',\n",
      "            'histogram',\n",
      "            'histogram2d',\n",
      "            'histogram2dcontour',\n",
      "            'icicle',\n",
      "            'image',\n",
      "            'indicator',\n",
      "            'isosurface',\n",
      "            'layout',\n",
      "            'mesh3d',\n",
      "            'ohlc',\n",
      "            'parcats',\n",
      "            'parcoords',\n",
      "            'pie',\n",
      "            'pointcloud',\n",
      "            'sankey',\n",
      "            'scatter',\n",
      "            'scatter3d',\n",
      "            'scattercarpet',\n",
      "            'scattergeo',\n",
      "            'scattergl',\n",
      "            'scattermapbox',\n",
      "            'scatterpolar',\n",
      "            'scatterpolargl',\n",
      "            'scattersmith',\n",
      "            'scatterternary',\n",
      "            'splom',\n",
      "            'streamtube',\n",
      "            'sunburst',\n",
      "            'surface',\n",
      "            'table',\n",
      "            'treemap',\n",
      "            'violin',\n",
      "            'volume',\n",
      "            'waterfall'],\n",
      " 'upper_class': ['AngularAxis',\n",
      "                 'Annotation',\n",
      "                 'Annotations',\n",
      "                 'Bar',\n",
      "                 'Barpolar',\n",
      "                 'Box',\n",
      "                 'Candlestick',\n",
      "                 'Carpet',\n",
      "                 'Choropleth',\n",
      "                 'Choroplethmapbox',\n",
      "                 'ColorBar',\n",
      "                 'Cone',\n",
      "                 'Contour',\n",
      "                 'Contourcarpet',\n",
      "                 'Contours',\n",
      "                 'Data',\n",
      "                 'Densitymapbox',\n",
      "                 'ErrorX',\n",
      "                 'ErrorY',\n",
      "                 'ErrorZ',\n",
      "                 'Figure',\n",
      "                 'FigureWidget',\n",
      "                 'Font',\n",
      "                 'Frame',\n",
      "                 'Frames',\n",
      "                 'Funnel',\n",
      "                 'Funnelarea',\n",
      "                 'Heatmap',\n",
      "                 'Heatmapgl',\n",
      "                 'Histogram',\n",
      "                 'Histogram2d',\n",
      "                 'Histogram2dContour',\n",
      "                 'Histogram2dcontour',\n",
      "                 'Icicle',\n",
      "                 'Image',\n",
      "                 'Indicator',\n",
      "                 'Isosurface',\n",
      "                 'Layout',\n",
      "                 'Legend',\n",
      "                 'Line',\n",
      "                 'Margin',\n",
      "                 'Marker',\n",
      "                 'Mesh3d',\n",
      "                 'Ohlc',\n",
      "                 'Parcats',\n",
      "                 'Parcoords',\n",
      "                 'Pie',\n",
      "                 'Pointcloud',\n",
      "                 'RadialAxis',\n",
      "                 'Sankey',\n",
      "                 'Scatter',\n",
      "                 'Scatter3d',\n",
      "                 'Scattercarpet',\n",
      "                 'Scattergeo',\n",
      "                 'Scattergl',\n",
      "                 'Scattermapbox',\n",
      "                 'Scatterpolar',\n",
      "                 'Scatterpolargl',\n",
      "                 'Scattersmith',\n",
      "                 'Scatterternary',\n",
      "                 'Scene',\n",
      "                 'Splom',\n",
      "                 'Stream',\n",
      "                 'Streamtube',\n",
      "                 'Sunburst',\n",
      "                 'Surface',\n",
      "                 'Table',\n",
      "                 'Trace',\n",
      "                 'Treemap',\n",
      "                 'Violin',\n",
      "                 'Volume',\n",
      "                 'Waterfall',\n",
      "                 'XAxis',\n",
      "                 'XBins',\n",
      "                 'YAxis',\n",
      "                 'YBins',\n",
      "                 'ZAxis']}\n"
     ]
    }
   ],
   "source": [
    "dir2(go)"
   ]
  },
  {
   "cell_type": "code",
   "execution_count": 7,
   "metadata": {
    "scrolled": true
   },
   "outputs": [
    {
     "name": "stdout",
     "output_type": "stream",
     "text": [
      "{'attribute': ['annotations',\n",
      "               'color_sequences',\n",
      "               'rcParams',\n",
      "               'rcParamsDefault',\n",
      "               'rcParamsOrig'],\n",
      " 'constant': ['TYPE_CHECKING'],\n",
      " 'module': ['cbook',\n",
      "            'cm',\n",
      "            'functools',\n",
      "            'importlib',\n",
      "            'inspect',\n",
      "            'logging',\n",
      "            'matplotlib',\n",
      "            'mlab',\n",
      "            'np',\n",
      "            'rcsetup',\n",
      "            're',\n",
      "            'style',\n",
      "            'sys',\n",
      "            'threading',\n",
      "            'time'],\n",
      " 'method': ['acorr',\n",
      "            'angle_spectrum',\n",
      "            'annotate',\n",
      "            'arrow',\n",
      "            'autoscale',\n",
      "            'autumn',\n",
      "            'axes',\n",
      "            'axhline',\n",
      "            'axhspan',\n",
      "            'axis',\n",
      "            'axline',\n",
      "            'axvline',\n",
      "            'axvspan',\n",
      "            'bar',\n",
      "            'bar_label',\n",
      "            'barbs',\n",
      "            'barh',\n",
      "            'bone',\n",
      "            'box',\n",
      "            'boxplot',\n",
      "            'broken_barh',\n",
      "            'cast',\n",
      "            'cla',\n",
      "            'clabel',\n",
      "            'clf',\n",
      "            'clim',\n",
      "            'close',\n",
      "            'cohere',\n",
      "            'colorbar',\n",
      "            'colormaps',\n",
      "            'connect',\n",
      "            'contour',\n",
      "            'contourf',\n",
      "            'cool',\n",
      "            'copper',\n",
      "            'csd',\n",
      "            'cycler',\n",
      "            'delaxes',\n",
      "            'disconnect',\n",
      "            'draw',\n",
      "            'draw_all',\n",
      "            'draw_if_interactive',\n",
      "            'ecdf',\n",
      "            'errorbar',\n",
      "            'eventplot',\n",
      "            'figaspect',\n",
      "            'figimage',\n",
      "            'figlegend',\n",
      "            'fignum_exists',\n",
      "            'figtext',\n",
      "            'figure',\n",
      "            'fill',\n",
      "            'fill_between',\n",
      "            'fill_betweenx',\n",
      "            'findobj',\n",
      "            'flag',\n",
      "            'gca',\n",
      "            'gcf',\n",
      "            'gci',\n",
      "            'get',\n",
      "            'get_backend',\n",
      "            'get_cmap',\n",
      "            'get_current_fig_manager',\n",
      "            'get_figlabels',\n",
      "            'get_fignums',\n",
      "            'get_plot_commands',\n",
      "            'get_scale_names',\n",
      "            'getp',\n",
      "            'ginput',\n",
      "            'gray',\n",
      "            'grid',\n",
      "            'hexbin',\n",
      "            'hist',\n",
      "            'hist2d',\n",
      "            'hlines',\n",
      "            'hot',\n",
      "            'hsv',\n",
      "            'imread',\n",
      "            'imsave',\n",
      "            'imshow',\n",
      "            'inferno',\n",
      "            'install_repl_displayhook',\n",
      "            'interactive',\n",
      "            'ioff',\n",
      "            'ion',\n",
      "            'isinteractive',\n",
      "            'jet',\n",
      "            'legend',\n",
      "            'locator_params',\n",
      "            'loglog',\n",
      "            'magma',\n",
      "            'magnitude_spectrum',\n",
      "            'margins',\n",
      "            'matshow',\n",
      "            'minorticks_off',\n",
      "            'minorticks_on',\n",
      "            'new_figure_manager',\n",
      "            'nipy_spectral',\n",
      "            'overload',\n",
      "            'pause',\n",
      "            'pcolor',\n",
      "            'pcolormesh',\n",
      "            'phase_spectrum',\n",
      "            'pie',\n",
      "            'pink',\n",
      "            'plasma',\n",
      "            'plot',\n",
      "            'plot_date',\n",
      "            'polar',\n",
      "            'prism',\n",
      "            'psd',\n",
      "            'quiver',\n",
      "            'quiverkey',\n",
      "            'rc',\n",
      "            'rc_context',\n",
      "            'rcdefaults',\n",
      "            'register_cmap',\n",
      "            'rgrids',\n",
      "            'savefig',\n",
      "            'sca',\n",
      "            'scatter',\n",
      "            'sci',\n",
      "            'semilogx',\n",
      "            'semilogy',\n",
      "            'set_cmap',\n",
      "            'set_loglevel',\n",
      "            'setp',\n",
      "            'show',\n",
      "            'specgram',\n",
      "            'spring',\n",
      "            'spy',\n",
      "            'stackplot',\n",
      "            'stairs',\n",
      "            'stem',\n",
      "            'step',\n",
      "            'streamplot',\n",
      "            'subplot',\n",
      "            'subplot2grid',\n",
      "            'subplot_mosaic',\n",
      "            'subplot_tool',\n",
      "            'subplots',\n",
      "            'subplots_adjust',\n",
      "            'summer',\n",
      "            'suptitle',\n",
      "            'switch_backend',\n",
      "            'table',\n",
      "            'text',\n",
      "            'thetagrids',\n",
      "            'tick_params',\n",
      "            'ticklabel_format',\n",
      "            'tight_layout',\n",
      "            'title',\n",
      "            'tricontour',\n",
      "            'tricontourf',\n",
      "            'tripcolor',\n",
      "            'triplot',\n",
      "            'twinx',\n",
      "            'twiny',\n",
      "            'uninstall_repl_displayhook',\n",
      "            'violinplot',\n",
      "            'viridis',\n",
      "            'vlines',\n",
      "            'waitforbuttonpress',\n",
      "            'winter',\n",
      "            'xcorr',\n",
      "            'xkcd',\n",
      "            'xlabel',\n",
      "            'xlim',\n",
      "            'xscale',\n",
      "            'xticks',\n",
      "            'ylabel',\n",
      "            'ylim',\n",
      "            'yscale',\n",
      "            'yticks'],\n",
      " 'upper_class': ['AbstractContextManager',\n",
      "                 'Annotation',\n",
      "                 'Arrow',\n",
      "                 'Artist',\n",
      "                 'AutoLocator',\n",
      "                 'Axes',\n",
      "                 'Button',\n",
      "                 'Circle',\n",
      "                 'Enum',\n",
      "                 'ExitStack',\n",
      "                 'Figure',\n",
      "                 'FigureBase',\n",
      "                 'FigureCanvasBase',\n",
      "                 'FigureManagerBase',\n",
      "                 'FixedFormatter',\n",
      "                 'FixedLocator',\n",
      "                 'FormatStrFormatter',\n",
      "                 'Formatter',\n",
      "                 'FuncFormatter',\n",
      "                 'GridSpec',\n",
      "                 'IndexLocator',\n",
      "                 'Line2D',\n",
      "                 'LinearLocator',\n",
      "                 'Locator',\n",
      "                 'LogFormatter',\n",
      "                 'LogFormatterExponent',\n",
      "                 'LogFormatterMathtext',\n",
      "                 'LogLocator',\n",
      "                 'MaxNLocator',\n",
      "                 'MouseButton',\n",
      "                 'MultipleLocator',\n",
      "                 'Normalize',\n",
      "                 'NullFormatter',\n",
      "                 'NullLocator',\n",
      "                 'PolarAxes',\n",
      "                 'Polygon',\n",
      "                 'Rectangle',\n",
      "                 'ScalarFormatter',\n",
      "                 'Slider',\n",
      "                 'Subplot',\n",
      "                 'SubplotSpec',\n",
      "                 'Text',\n",
      "                 'TickHelper',\n",
      "                 'Widget'],\n",
      " 'datamodel_attribute': ['__annotations__',\n",
      "                         '__builtins__',\n",
      "                         '__cached__',\n",
      "                         '__doc__',\n",
      "                         '__file__',\n",
      "                         '__loader__',\n",
      "                         '__name__',\n",
      "                         '__package__',\n",
      "                         '__spec__']}\n"
     ]
    }
   ],
   "source": [
    "dir2(plt, drop_internal=True)"
   ]
  },
  {
   "cell_type": "markdown",
   "metadata": {
    "slideshow": {
     "slide_type": "slide"
    }
   },
   "source": [
    "In ```go``` instances of a class are typically instantiated using the classes initialisation signature:"
   ]
  },
  {
   "cell_type": "code",
   "execution_count": 8,
   "metadata": {
    "scrolled": true
   },
   "outputs": [
    {
     "data": {
      "text/plain": [
       "\u001b[1;31mInit signature:\u001b[0m\n",
       "\u001b[0mgo\u001b[0m\u001b[1;33m.\u001b[0m\u001b[0mScatter\u001b[0m\u001b[1;33m(\u001b[0m\u001b[1;33m\n",
       "\u001b[0m    \u001b[0marg\u001b[0m\u001b[1;33m=\u001b[0m\u001b[1;32mNone\u001b[0m\u001b[1;33m,\u001b[0m\u001b[1;33m\n",
       "\u001b[0m    \u001b[0malignmentgroup\u001b[0m\u001b[1;33m=\u001b[0m\u001b[1;32mNone\u001b[0m\u001b[1;33m,\u001b[0m\u001b[1;33m\n",
       "\u001b[0m    \u001b[0mcliponaxis\u001b[0m\u001b[1;33m=\u001b[0m\u001b[1;32mNone\u001b[0m\u001b[1;33m,\u001b[0m\u001b[1;33m\n",
       "\u001b[0m    \u001b[0mconnectgaps\u001b[0m\u001b[1;33m=\u001b[0m\u001b[1;32mNone\u001b[0m\u001b[1;33m,\u001b[0m\u001b[1;33m\n",
       "\u001b[0m    \u001b[0mcustomdata\u001b[0m\u001b[1;33m=\u001b[0m\u001b[1;32mNone\u001b[0m\u001b[1;33m,\u001b[0m\u001b[1;33m\n",
       "\u001b[0m    \u001b[0mcustomdatasrc\u001b[0m\u001b[1;33m=\u001b[0m\u001b[1;32mNone\u001b[0m\u001b[1;33m,\u001b[0m\u001b[1;33m\n",
       "\u001b[0m    \u001b[0mdx\u001b[0m\u001b[1;33m=\u001b[0m\u001b[1;32mNone\u001b[0m\u001b[1;33m,\u001b[0m\u001b[1;33m\n",
       "\u001b[0m    \u001b[0mdy\u001b[0m\u001b[1;33m=\u001b[0m\u001b[1;32mNone\u001b[0m\u001b[1;33m,\u001b[0m\u001b[1;33m\n",
       "\u001b[0m    \u001b[0merror_x\u001b[0m\u001b[1;33m=\u001b[0m\u001b[1;32mNone\u001b[0m\u001b[1;33m,\u001b[0m\u001b[1;33m\n",
       "\u001b[0m    \u001b[0merror_y\u001b[0m\u001b[1;33m=\u001b[0m\u001b[1;32mNone\u001b[0m\u001b[1;33m,\u001b[0m\u001b[1;33m\n",
       "\u001b[0m    \u001b[0mfill\u001b[0m\u001b[1;33m=\u001b[0m\u001b[1;32mNone\u001b[0m\u001b[1;33m,\u001b[0m\u001b[1;33m\n",
       "\u001b[0m    \u001b[0mfillcolor\u001b[0m\u001b[1;33m=\u001b[0m\u001b[1;32mNone\u001b[0m\u001b[1;33m,\u001b[0m\u001b[1;33m\n",
       "\u001b[0m    \u001b[0mfillpattern\u001b[0m\u001b[1;33m=\u001b[0m\u001b[1;32mNone\u001b[0m\u001b[1;33m,\u001b[0m\u001b[1;33m\n",
       "\u001b[0m    \u001b[0mgroupnorm\u001b[0m\u001b[1;33m=\u001b[0m\u001b[1;32mNone\u001b[0m\u001b[1;33m,\u001b[0m\u001b[1;33m\n",
       "\u001b[0m    \u001b[0mhoverinfo\u001b[0m\u001b[1;33m=\u001b[0m\u001b[1;32mNone\u001b[0m\u001b[1;33m,\u001b[0m\u001b[1;33m\n",
       "\u001b[0m    \u001b[0mhoverinfosrc\u001b[0m\u001b[1;33m=\u001b[0m\u001b[1;32mNone\u001b[0m\u001b[1;33m,\u001b[0m\u001b[1;33m\n",
       "\u001b[0m    \u001b[0mhoverlabel\u001b[0m\u001b[1;33m=\u001b[0m\u001b[1;32mNone\u001b[0m\u001b[1;33m,\u001b[0m\u001b[1;33m\n",
       "\u001b[0m    \u001b[0mhoveron\u001b[0m\u001b[1;33m=\u001b[0m\u001b[1;32mNone\u001b[0m\u001b[1;33m,\u001b[0m\u001b[1;33m\n",
       "\u001b[0m    \u001b[0mhovertemplate\u001b[0m\u001b[1;33m=\u001b[0m\u001b[1;32mNone\u001b[0m\u001b[1;33m,\u001b[0m\u001b[1;33m\n",
       "\u001b[0m    \u001b[0mhovertemplatesrc\u001b[0m\u001b[1;33m=\u001b[0m\u001b[1;32mNone\u001b[0m\u001b[1;33m,\u001b[0m\u001b[1;33m\n",
       "\u001b[0m    \u001b[0mhovertext\u001b[0m\u001b[1;33m=\u001b[0m\u001b[1;32mNone\u001b[0m\u001b[1;33m,\u001b[0m\u001b[1;33m\n",
       "\u001b[0m    \u001b[0mhovertextsrc\u001b[0m\u001b[1;33m=\u001b[0m\u001b[1;32mNone\u001b[0m\u001b[1;33m,\u001b[0m\u001b[1;33m\n",
       "\u001b[0m    \u001b[0mids\u001b[0m\u001b[1;33m=\u001b[0m\u001b[1;32mNone\u001b[0m\u001b[1;33m,\u001b[0m\u001b[1;33m\n",
       "\u001b[0m    \u001b[0midssrc\u001b[0m\u001b[1;33m=\u001b[0m\u001b[1;32mNone\u001b[0m\u001b[1;33m,\u001b[0m\u001b[1;33m\n",
       "\u001b[0m    \u001b[0mlegend\u001b[0m\u001b[1;33m=\u001b[0m\u001b[1;32mNone\u001b[0m\u001b[1;33m,\u001b[0m\u001b[1;33m\n",
       "\u001b[0m    \u001b[0mlegendgroup\u001b[0m\u001b[1;33m=\u001b[0m\u001b[1;32mNone\u001b[0m\u001b[1;33m,\u001b[0m\u001b[1;33m\n",
       "\u001b[0m    \u001b[0mlegendgrouptitle\u001b[0m\u001b[1;33m=\u001b[0m\u001b[1;32mNone\u001b[0m\u001b[1;33m,\u001b[0m\u001b[1;33m\n",
       "\u001b[0m    \u001b[0mlegendrank\u001b[0m\u001b[1;33m=\u001b[0m\u001b[1;32mNone\u001b[0m\u001b[1;33m,\u001b[0m\u001b[1;33m\n",
       "\u001b[0m    \u001b[0mlegendwidth\u001b[0m\u001b[1;33m=\u001b[0m\u001b[1;32mNone\u001b[0m\u001b[1;33m,\u001b[0m\u001b[1;33m\n",
       "\u001b[0m    \u001b[0mline\u001b[0m\u001b[1;33m=\u001b[0m\u001b[1;32mNone\u001b[0m\u001b[1;33m,\u001b[0m\u001b[1;33m\n",
       "\u001b[0m    \u001b[0mmarker\u001b[0m\u001b[1;33m=\u001b[0m\u001b[1;32mNone\u001b[0m\u001b[1;33m,\u001b[0m\u001b[1;33m\n",
       "\u001b[0m    \u001b[0mmeta\u001b[0m\u001b[1;33m=\u001b[0m\u001b[1;32mNone\u001b[0m\u001b[1;33m,\u001b[0m\u001b[1;33m\n",
       "\u001b[0m    \u001b[0mmetasrc\u001b[0m\u001b[1;33m=\u001b[0m\u001b[1;32mNone\u001b[0m\u001b[1;33m,\u001b[0m\u001b[1;33m\n",
       "\u001b[0m    \u001b[0mmode\u001b[0m\u001b[1;33m=\u001b[0m\u001b[1;32mNone\u001b[0m\u001b[1;33m,\u001b[0m\u001b[1;33m\n",
       "\u001b[0m    \u001b[0mname\u001b[0m\u001b[1;33m=\u001b[0m\u001b[1;32mNone\u001b[0m\u001b[1;33m,\u001b[0m\u001b[1;33m\n",
       "\u001b[0m    \u001b[0moffsetgroup\u001b[0m\u001b[1;33m=\u001b[0m\u001b[1;32mNone\u001b[0m\u001b[1;33m,\u001b[0m\u001b[1;33m\n",
       "\u001b[0m    \u001b[0mopacity\u001b[0m\u001b[1;33m=\u001b[0m\u001b[1;32mNone\u001b[0m\u001b[1;33m,\u001b[0m\u001b[1;33m\n",
       "\u001b[0m    \u001b[0morientation\u001b[0m\u001b[1;33m=\u001b[0m\u001b[1;32mNone\u001b[0m\u001b[1;33m,\u001b[0m\u001b[1;33m\n",
       "\u001b[0m    \u001b[0mselected\u001b[0m\u001b[1;33m=\u001b[0m\u001b[1;32mNone\u001b[0m\u001b[1;33m,\u001b[0m\u001b[1;33m\n",
       "\u001b[0m    \u001b[0mselectedpoints\u001b[0m\u001b[1;33m=\u001b[0m\u001b[1;32mNone\u001b[0m\u001b[1;33m,\u001b[0m\u001b[1;33m\n",
       "\u001b[0m    \u001b[0mshowlegend\u001b[0m\u001b[1;33m=\u001b[0m\u001b[1;32mNone\u001b[0m\u001b[1;33m,\u001b[0m\u001b[1;33m\n",
       "\u001b[0m    \u001b[0mstackgaps\u001b[0m\u001b[1;33m=\u001b[0m\u001b[1;32mNone\u001b[0m\u001b[1;33m,\u001b[0m\u001b[1;33m\n",
       "\u001b[0m    \u001b[0mstackgroup\u001b[0m\u001b[1;33m=\u001b[0m\u001b[1;32mNone\u001b[0m\u001b[1;33m,\u001b[0m\u001b[1;33m\n",
       "\u001b[0m    \u001b[0mstream\u001b[0m\u001b[1;33m=\u001b[0m\u001b[1;32mNone\u001b[0m\u001b[1;33m,\u001b[0m\u001b[1;33m\n",
       "\u001b[0m    \u001b[0mtext\u001b[0m\u001b[1;33m=\u001b[0m\u001b[1;32mNone\u001b[0m\u001b[1;33m,\u001b[0m\u001b[1;33m\n",
       "\u001b[0m    \u001b[0mtextfont\u001b[0m\u001b[1;33m=\u001b[0m\u001b[1;32mNone\u001b[0m\u001b[1;33m,\u001b[0m\u001b[1;33m\n",
       "\u001b[0m    \u001b[0mtextposition\u001b[0m\u001b[1;33m=\u001b[0m\u001b[1;32mNone\u001b[0m\u001b[1;33m,\u001b[0m\u001b[1;33m\n",
       "\u001b[0m    \u001b[0mtextpositionsrc\u001b[0m\u001b[1;33m=\u001b[0m\u001b[1;32mNone\u001b[0m\u001b[1;33m,\u001b[0m\u001b[1;33m\n",
       "\u001b[0m    \u001b[0mtextsrc\u001b[0m\u001b[1;33m=\u001b[0m\u001b[1;32mNone\u001b[0m\u001b[1;33m,\u001b[0m\u001b[1;33m\n",
       "\u001b[0m    \u001b[0mtexttemplate\u001b[0m\u001b[1;33m=\u001b[0m\u001b[1;32mNone\u001b[0m\u001b[1;33m,\u001b[0m\u001b[1;33m\n",
       "\u001b[0m    \u001b[0mtexttemplatesrc\u001b[0m\u001b[1;33m=\u001b[0m\u001b[1;32mNone\u001b[0m\u001b[1;33m,\u001b[0m\u001b[1;33m\n",
       "\u001b[0m    \u001b[0muid\u001b[0m\u001b[1;33m=\u001b[0m\u001b[1;32mNone\u001b[0m\u001b[1;33m,\u001b[0m\u001b[1;33m\n",
       "\u001b[0m    \u001b[0muirevision\u001b[0m\u001b[1;33m=\u001b[0m\u001b[1;32mNone\u001b[0m\u001b[1;33m,\u001b[0m\u001b[1;33m\n",
       "\u001b[0m    \u001b[0munselected\u001b[0m\u001b[1;33m=\u001b[0m\u001b[1;32mNone\u001b[0m\u001b[1;33m,\u001b[0m\u001b[1;33m\n",
       "\u001b[0m    \u001b[0mvisible\u001b[0m\u001b[1;33m=\u001b[0m\u001b[1;32mNone\u001b[0m\u001b[1;33m,\u001b[0m\u001b[1;33m\n",
       "\u001b[0m    \u001b[0mx\u001b[0m\u001b[1;33m=\u001b[0m\u001b[1;32mNone\u001b[0m\u001b[1;33m,\u001b[0m\u001b[1;33m\n",
       "\u001b[0m    \u001b[0mx0\u001b[0m\u001b[1;33m=\u001b[0m\u001b[1;32mNone\u001b[0m\u001b[1;33m,\u001b[0m\u001b[1;33m\n",
       "\u001b[0m    \u001b[0mxaxis\u001b[0m\u001b[1;33m=\u001b[0m\u001b[1;32mNone\u001b[0m\u001b[1;33m,\u001b[0m\u001b[1;33m\n",
       "\u001b[0m    \u001b[0mxcalendar\u001b[0m\u001b[1;33m=\u001b[0m\u001b[1;32mNone\u001b[0m\u001b[1;33m,\u001b[0m\u001b[1;33m\n",
       "\u001b[0m    \u001b[0mxhoverformat\u001b[0m\u001b[1;33m=\u001b[0m\u001b[1;32mNone\u001b[0m\u001b[1;33m,\u001b[0m\u001b[1;33m\n",
       "\u001b[0m    \u001b[0mxperiod\u001b[0m\u001b[1;33m=\u001b[0m\u001b[1;32mNone\u001b[0m\u001b[1;33m,\u001b[0m\u001b[1;33m\n",
       "\u001b[0m    \u001b[0mxperiod0\u001b[0m\u001b[1;33m=\u001b[0m\u001b[1;32mNone\u001b[0m\u001b[1;33m,\u001b[0m\u001b[1;33m\n",
       "\u001b[0m    \u001b[0mxperiodalignment\u001b[0m\u001b[1;33m=\u001b[0m\u001b[1;32mNone\u001b[0m\u001b[1;33m,\u001b[0m\u001b[1;33m\n",
       "\u001b[0m    \u001b[0mxsrc\u001b[0m\u001b[1;33m=\u001b[0m\u001b[1;32mNone\u001b[0m\u001b[1;33m,\u001b[0m\u001b[1;33m\n",
       "\u001b[0m    \u001b[0my\u001b[0m\u001b[1;33m=\u001b[0m\u001b[1;32mNone\u001b[0m\u001b[1;33m,\u001b[0m\u001b[1;33m\n",
       "\u001b[0m    \u001b[0my0\u001b[0m\u001b[1;33m=\u001b[0m\u001b[1;32mNone\u001b[0m\u001b[1;33m,\u001b[0m\u001b[1;33m\n",
       "\u001b[0m    \u001b[0myaxis\u001b[0m\u001b[1;33m=\u001b[0m\u001b[1;32mNone\u001b[0m\u001b[1;33m,\u001b[0m\u001b[1;33m\n",
       "\u001b[0m    \u001b[0mycalendar\u001b[0m\u001b[1;33m=\u001b[0m\u001b[1;32mNone\u001b[0m\u001b[1;33m,\u001b[0m\u001b[1;33m\n",
       "\u001b[0m    \u001b[0myhoverformat\u001b[0m\u001b[1;33m=\u001b[0m\u001b[1;32mNone\u001b[0m\u001b[1;33m,\u001b[0m\u001b[1;33m\n",
       "\u001b[0m    \u001b[0myperiod\u001b[0m\u001b[1;33m=\u001b[0m\u001b[1;32mNone\u001b[0m\u001b[1;33m,\u001b[0m\u001b[1;33m\n",
       "\u001b[0m    \u001b[0myperiod0\u001b[0m\u001b[1;33m=\u001b[0m\u001b[1;32mNone\u001b[0m\u001b[1;33m,\u001b[0m\u001b[1;33m\n",
       "\u001b[0m    \u001b[0myperiodalignment\u001b[0m\u001b[1;33m=\u001b[0m\u001b[1;32mNone\u001b[0m\u001b[1;33m,\u001b[0m\u001b[1;33m\n",
       "\u001b[0m    \u001b[0mysrc\u001b[0m\u001b[1;33m=\u001b[0m\u001b[1;32mNone\u001b[0m\u001b[1;33m,\u001b[0m\u001b[1;33m\n",
       "\u001b[0m    \u001b[1;33m**\u001b[0m\u001b[0mkwargs\u001b[0m\u001b[1;33m,\u001b[0m\u001b[1;33m\n",
       "\u001b[0m\u001b[1;33m)\u001b[0m\u001b[1;33m\u001b[0m\u001b[1;33m\u001b[0m\u001b[0m\n",
       "\u001b[1;31mDocstring:\u001b[0m     \n",
       "Base class for the all trace types.\n",
       "\n",
       "Specific trace type classes (Scatter, Bar, etc.) are code generated as\n",
       "subclasses of this class.\n",
       "\u001b[1;31mInit docstring:\u001b[0m\n",
       "Construct a new Scatter object\n",
       "\n",
       "The scatter trace type encompasses line charts, scatter charts,\n",
       "text charts, and bubble charts. The data visualized as scatter\n",
       "point or lines is set in `x` and `y`. Text (appearing either on\n",
       "the chart or on hover only) is via `text`. Bubble charts are\n",
       "achieved by setting `marker.size` and/or `marker.color` to\n",
       "numerical arrays.\n",
       "\n",
       "Parameters\n",
       "----------\n",
       "arg\n",
       "    dict of properties compatible with this constructor or\n",
       "    an instance of :class:`plotly.graph_objs.Scatter`\n",
       "alignmentgroup\n",
       "    Set several traces linked to the same position axis or\n",
       "    matching axes to the same alignmentgroup. This controls\n",
       "    whether bars compute their positional range dependently\n",
       "    or independently.\n",
       "cliponaxis\n",
       "    Determines whether or not markers and text nodes are\n",
       "    clipped about the subplot axes. To show markers and\n",
       "    text nodes above axis lines and tick labels, make sure\n",
       "    to set `xaxis.layer` and `yaxis.layer` to *below\n",
       "    traces*.\n",
       "connectgaps\n",
       "    Determines whether or not gaps (i.e. {nan} or missing\n",
       "    values) in the provided data arrays are connected.\n",
       "customdata\n",
       "    Assigns extra data each datum. This may be useful when\n",
       "    listening to hover, click and selection events. Note\n",
       "    that, \"scatter\" traces also appends customdata items in\n",
       "    the markers DOM elements\n",
       "customdatasrc\n",
       "    Sets the source reference on Chart Studio Cloud for\n",
       "    `customdata`.\n",
       "dx\n",
       "    Sets the x coordinate step. See `x0` for more info.\n",
       "dy\n",
       "    Sets the y coordinate step. See `y0` for more info.\n",
       "error_x\n",
       "    :class:`plotly.graph_objects.scatter.ErrorX` instance\n",
       "    or dict with compatible properties\n",
       "error_y\n",
       "    :class:`plotly.graph_objects.scatter.ErrorY` instance\n",
       "    or dict with compatible properties\n",
       "fill\n",
       "    Sets the area to fill with a solid color. Defaults to\n",
       "    \"none\" unless this trace is stacked, then it gets\n",
       "    \"tonexty\" (\"tonextx\") if `orientation` is \"v\" (\"h\") Use\n",
       "    with `fillcolor` if not \"none\". \"tozerox\" and \"tozeroy\"\n",
       "    fill to x=0 and y=0 respectively. \"tonextx\" and\n",
       "    \"tonexty\" fill between the endpoints of this trace and\n",
       "    the endpoints of the trace before it, connecting those\n",
       "    endpoints with straight lines (to make a stacked area\n",
       "    graph); if there is no trace before it, they behave\n",
       "    like \"tozerox\" and \"tozeroy\". \"toself\" connects the\n",
       "    endpoints of the trace (or each segment of the trace if\n",
       "    it has gaps) into a closed shape. \"tonext\" fills the\n",
       "    space between two traces if one completely encloses the\n",
       "    other (eg consecutive contour lines), and behaves like\n",
       "    \"toself\" if there is no trace before it. \"tonext\"\n",
       "    should not be used if one trace does not enclose the\n",
       "    other. Traces in a `stackgroup` will only fill to (or\n",
       "    be filled to) other traces in the same group. With\n",
       "    multiple `stackgroup`s or some traces stacked and some\n",
       "    not, if fill-linked traces are not already consecutive,\n",
       "    the later ones will be pushed down in the drawing\n",
       "    order.\n",
       "fillcolor\n",
       "    Sets the fill color. Defaults to a half-transparent\n",
       "    variant of the line color, marker color, or marker line\n",
       "    color, whichever is available.\n",
       "fillpattern\n",
       "    Sets the pattern within the marker.\n",
       "groupnorm\n",
       "    Only relevant when `stackgroup` is used, and only the\n",
       "    first `groupnorm` found in the `stackgroup` will be\n",
       "    used - including if `visible` is \"legendonly\" but not\n",
       "    if it is `false`. Sets the normalization for the sum of\n",
       "    this `stackgroup`. With \"fraction\", the value of each\n",
       "    trace at each location is divided by the sum of all\n",
       "    trace values at that location. \"percent\" is the same\n",
       "    but multiplied by 100 to show percentages. If there are\n",
       "    multiple subplots, or multiple `stackgroup`s on one\n",
       "    subplot, each will be normalized within its own set.\n",
       "hoverinfo\n",
       "    Determines which trace information appear on hover. If\n",
       "    `none` or `skip` are set, no information is displayed\n",
       "    upon hovering. But, if `none` is set, click and hover\n",
       "    events are still fired.\n",
       "hoverinfosrc\n",
       "    Sets the source reference on Chart Studio Cloud for\n",
       "    `hoverinfo`.\n",
       "hoverlabel\n",
       "    :class:`plotly.graph_objects.scatter.Hoverlabel`\n",
       "    instance or dict with compatible properties\n",
       "hoveron\n",
       "    Do the hover effects highlight individual points\n",
       "    (markers or line points) or do they highlight filled\n",
       "    regions? If the fill is \"toself\" or \"tonext\" and there\n",
       "    are no markers or text, then the default is \"fills\",\n",
       "    otherwise it is \"points\".\n",
       "hovertemplate\n",
       "    Template string used for rendering the information that\n",
       "    appear on hover box. Note that this will override\n",
       "    `hoverinfo`. Variables are inserted using %{variable},\n",
       "    for example \"y: %{y}\" as well as %{xother}, {%_xother},\n",
       "    {%_xother_}, {%xother_}. When showing info for several\n",
       "    points, \"xother\" will be added to those with different\n",
       "    x positions from the first point. An underscore before\n",
       "    or after \"(x|y)other\" will add a space on that side,\n",
       "    only when this field is shown. Numbers are formatted\n",
       "    using d3-format's syntax %{variable:d3-format}, for\n",
       "    example \"Price: %{y:$.2f}\".\n",
       "    https://github.com/d3/d3-format/tree/v1.4.5#d3-format\n",
       "    for details on the formatting syntax. Dates are\n",
       "    formatted using d3-time-format's syntax\n",
       "    %{variable|d3-time-format}, for example \"Day:\n",
       "    %{2019-01-01|%A}\". https://github.com/d3/d3-time-\n",
       "    format/tree/v2.2.3#locale_format for details on the\n",
       "    date formatting syntax. The variables available in\n",
       "    `hovertemplate` are the ones emitted as event data\n",
       "    described at this link\n",
       "    https://plotly.com/javascript/plotlyjs-events/#event-\n",
       "    data. Additionally, every attributes that can be\n",
       "    specified per-point (the ones that are `arrayOk: true`)\n",
       "    are available.  Anything contained in tag `<extra>` is\n",
       "    displayed in the secondary box, for example\n",
       "    \"<extra>{fullData.name}</extra>\". To hide the secondary\n",
       "    box completely, use an empty tag `<extra></extra>`.\n",
       "hovertemplatesrc\n",
       "    Sets the source reference on Chart Studio Cloud for\n",
       "    `hovertemplate`.\n",
       "hovertext\n",
       "    Sets hover text elements associated with each (x,y)\n",
       "    pair. If a single string, the same string appears over\n",
       "    all the data points. If an array of string, the items\n",
       "    are mapped in order to the this trace's (x,y)\n",
       "    coordinates. To be seen, trace `hoverinfo` must contain\n",
       "    a \"text\" flag.\n",
       "hovertextsrc\n",
       "    Sets the source reference on Chart Studio Cloud for\n",
       "    `hovertext`.\n",
       "ids\n",
       "    Assigns id labels to each datum. These ids for object\n",
       "    constancy of data points during animation. Should be an\n",
       "    array of strings, not numbers or any other type.\n",
       "idssrc\n",
       "    Sets the source reference on Chart Studio Cloud for\n",
       "    `ids`.\n",
       "legend\n",
       "    Sets the reference to a legend to show this trace in.\n",
       "    References to these legends are \"legend\", \"legend2\",\n",
       "    \"legend3\", etc. Settings for these legends are set in\n",
       "    the layout, under `layout.legend`, `layout.legend2`,\n",
       "    etc.\n",
       "legendgroup\n",
       "    Sets the legend group for this trace. Traces and shapes\n",
       "    part of the same legend group hide/show at the same\n",
       "    time when toggling legend items.\n",
       "legendgrouptitle\n",
       "    :class:`plotly.graph_objects.scatter.Legendgrouptitle`\n",
       "    instance or dict with compatible properties\n",
       "legendrank\n",
       "    Sets the legend rank for this trace. Items and groups\n",
       "    with smaller ranks are presented on top/left side while\n",
       "    with \"reversed\" `legend.traceorder` they are on\n",
       "    bottom/right side. The default legendrank is 1000, so\n",
       "    that you can use ranks less than 1000 to place certain\n",
       "    items before all unranked items, and ranks greater than\n",
       "    1000 to go after all unranked items. When having\n",
       "    unranked or equal rank items shapes would be displayed\n",
       "    after traces i.e. according to their order in data and\n",
       "    layout.\n",
       "legendwidth\n",
       "    Sets the width (in px or fraction) of the legend for\n",
       "    this trace.\n",
       "line\n",
       "    :class:`plotly.graph_objects.scatter.Line` instance or\n",
       "    dict with compatible properties\n",
       "marker\n",
       "    :class:`plotly.graph_objects.scatter.Marker` instance\n",
       "    or dict with compatible properties\n",
       "meta\n",
       "    Assigns extra meta information associated with this\n",
       "    trace that can be used in various text attributes.\n",
       "    Attributes such as trace `name`, graph, axis and\n",
       "    colorbar `title.text`, annotation `text`\n",
       "    `rangeselector`, `updatemenues` and `sliders` `label`\n",
       "    text all support `meta`. To access the trace `meta`\n",
       "    values in an attribute in the same trace, simply use\n",
       "    `%{meta[i]}` where `i` is the index or key of the\n",
       "    `meta` item in question. To access trace `meta` in\n",
       "    layout attributes, use `%{data[n[.meta[i]}` where `i`\n",
       "    is the index or key of the `meta` and `n` is the trace\n",
       "    index.\n",
       "metasrc\n",
       "    Sets the source reference on Chart Studio Cloud for\n",
       "    `meta`.\n",
       "mode\n",
       "    Determines the drawing mode for this scatter trace. If\n",
       "    the provided `mode` includes \"text\" then the `text`\n",
       "    elements appear at the coordinates. Otherwise, the\n",
       "    `text` elements appear on hover. If there are less than\n",
       "    20 points and the trace is not stacked then the default\n",
       "    is \"lines+markers\". Otherwise, \"lines\".\n",
       "name\n",
       "    Sets the trace name. The trace name appears as the\n",
       "    legend item and on hover.\n",
       "offsetgroup\n",
       "    Set several traces linked to the same position axis or\n",
       "    matching axes to the same offsetgroup where bars of the\n",
       "    same position coordinate will line up.\n",
       "opacity\n",
       "    Sets the opacity of the trace.\n",
       "orientation\n",
       "    Only relevant in the following cases: 1. when\n",
       "    `scattermode` is set to \"group\". 2. when `stackgroup`\n",
       "    is used, and only the first `orientation` found in the\n",
       "    `stackgroup` will be used - including if `visible` is\n",
       "    \"legendonly\" but not if it is `false`. Sets the\n",
       "    stacking direction. With \"v\" (\"h\"), the y (x) values of\n",
       "    subsequent traces are added. Also affects the default\n",
       "    value of `fill`.\n",
       "selected\n",
       "    :class:`plotly.graph_objects.scatter.Selected` instance\n",
       "    or dict with compatible properties\n",
       "selectedpoints\n",
       "    Array containing integer indices of selected points.\n",
       "    Has an effect only for traces that support selections.\n",
       "    Note that an empty array means an empty selection where\n",
       "    the `unselected` are turned on for all points, whereas,\n",
       "    any other non-array values means no selection all where\n",
       "    the `selected` and `unselected` styles have no effect.\n",
       "showlegend\n",
       "    Determines whether or not an item corresponding to this\n",
       "    trace is shown in the legend.\n",
       "stackgaps\n",
       "    Only relevant when `stackgroup` is used, and only the\n",
       "    first `stackgaps` found in the `stackgroup` will be\n",
       "    used - including if `visible` is \"legendonly\" but not\n",
       "    if it is `false`. Determines how we handle locations at\n",
       "    which other traces in this group have data but this one\n",
       "    does not. With *infer zero* we insert a zero at these\n",
       "    locations. With \"interpolate\" we linearly interpolate\n",
       "    between existing values, and extrapolate a constant\n",
       "    beyond the existing values.\n",
       "stackgroup\n",
       "    Set several scatter traces (on the same subplot) to the\n",
       "    same stackgroup in order to add their y values (or\n",
       "    their x values if `orientation` is \"h\"). If blank or\n",
       "    omitted this trace will not be stacked. Stacking also\n",
       "    turns `fill` on by default, using \"tonexty\" (\"tonextx\")\n",
       "    if `orientation` is \"h\" (\"v\") and sets the default\n",
       "    `mode` to \"lines\" irrespective of point count. You can\n",
       "    only stack on a numeric (linear or log) axis. Traces in\n",
       "    a `stackgroup` will only fill to (or be filled to)\n",
       "    other traces in the same group. With multiple\n",
       "    `stackgroup`s or some traces stacked and some not, if\n",
       "    fill-linked traces are not already consecutive, the\n",
       "    later ones will be pushed down in the drawing order.\n",
       "stream\n",
       "    :class:`plotly.graph_objects.scatter.Stream` instance\n",
       "    or dict with compatible properties\n",
       "text\n",
       "    Sets text elements associated with each (x,y) pair. If\n",
       "    a single string, the same string appears over all the\n",
       "    data points. If an array of string, the items are\n",
       "    mapped in order to the this trace's (x,y) coordinates.\n",
       "    If trace `hoverinfo` contains a \"text\" flag and\n",
       "    \"hovertext\" is not set, these elements will be seen in\n",
       "    the hover labels.\n",
       "textfont\n",
       "    Sets the text font.\n",
       "textposition\n",
       "    Sets the positions of the `text` elements with respects\n",
       "    to the (x,y) coordinates.\n",
       "textpositionsrc\n",
       "    Sets the source reference on Chart Studio Cloud for\n",
       "    `textposition`.\n",
       "textsrc\n",
       "    Sets the source reference on Chart Studio Cloud for\n",
       "    `text`.\n",
       "texttemplate\n",
       "    Template string used for rendering the information text\n",
       "    that appear on points. Note that this will override\n",
       "    `textinfo`. Variables are inserted using %{variable},\n",
       "    for example \"y: %{y}\". Numbers are formatted using\n",
       "    d3-format's syntax %{variable:d3-format}, for example\n",
       "    \"Price: %{y:$.2f}\".\n",
       "    https://github.com/d3/d3-format/tree/v1.4.5#d3-format\n",
       "    for details on the formatting syntax. Dates are\n",
       "    formatted using d3-time-format's syntax\n",
       "    %{variable|d3-time-format}, for example \"Day:\n",
       "    %{2019-01-01|%A}\". https://github.com/d3/d3-time-\n",
       "    format/tree/v2.2.3#locale_format for details on the\n",
       "    date formatting syntax. Every attributes that can be\n",
       "    specified per-point (the ones that are `arrayOk: true`)\n",
       "    are available.\n",
       "texttemplatesrc\n",
       "    Sets the source reference on Chart Studio Cloud for\n",
       "    `texttemplate`.\n",
       "uid\n",
       "    Assign an id to this trace, Use this to provide object\n",
       "    constancy between traces during animations and\n",
       "    transitions.\n",
       "uirevision\n",
       "    Controls persistence of some user-driven changes to the\n",
       "    trace: `constraintrange` in `parcoords` traces, as well\n",
       "    as some `editable: true` modifications such as `name`\n",
       "    and `colorbar.title`. Defaults to `layout.uirevision`.\n",
       "    Note that other user-driven trace attribute changes are\n",
       "    controlled by `layout` attributes: `trace.visible` is\n",
       "    controlled by `layout.legend.uirevision`,\n",
       "    `selectedpoints` is controlled by\n",
       "    `layout.selectionrevision`, and `colorbar.(x|y)`\n",
       "    (accessible with `config: {editable: true}`) is\n",
       "    controlled by `layout.editrevision`. Trace changes are\n",
       "    tracked by `uid`, which only falls back on trace index\n",
       "    if no `uid` is provided. So if your app can add/remove\n",
       "    traces before the end of the `data` array, such that\n",
       "    the same trace has a different index, you can still\n",
       "    preserve user-driven changes if you give each trace a\n",
       "    `uid` that stays with it as it moves.\n",
       "unselected\n",
       "    :class:`plotly.graph_objects.scatter.Unselected`\n",
       "    instance or dict with compatible properties\n",
       "visible\n",
       "    Determines whether or not this trace is visible. If\n",
       "    \"legendonly\", the trace is not drawn, but can appear as\n",
       "    a legend item (provided that the legend itself is\n",
       "    visible).\n",
       "x\n",
       "    Sets the x coordinates.\n",
       "x0\n",
       "    Alternate to `x`. Builds a linear space of x\n",
       "    coordinates. Use with `dx` where `x0` is the starting\n",
       "    coordinate and `dx` the step.\n",
       "xaxis\n",
       "    Sets a reference between this trace's x coordinates and\n",
       "    a 2D cartesian x axis. If \"x\" (the default value), the\n",
       "    x coordinates refer to `layout.xaxis`. If \"x2\", the x\n",
       "    coordinates refer to `layout.xaxis2`, and so on.\n",
       "xcalendar\n",
       "    Sets the calendar system to use with `x` date data.\n",
       "xhoverformat\n",
       "    Sets the hover text formatting rulefor `x`  using d3\n",
       "    formatting mini-languages which are very similar to\n",
       "    those in Python. For numbers, see:\n",
       "    https://github.com/d3/d3-format/tree/v1.4.5#d3-format.\n",
       "    And for dates see: https://github.com/d3/d3-time-\n",
       "    format/tree/v2.2.3#locale_format. We add two items to\n",
       "    d3's date formatter: \"%h\" for half of the year as a\n",
       "    decimal number as well as \"%{n}f\" for fractional\n",
       "    seconds with n digits. For example, *2016-10-13\n",
       "    09:15:23.456* with tickformat \"%H~%M~%S.%2f\" would\n",
       "    display *09~15~23.46*By default the values are\n",
       "    formatted using `xaxis.hoverformat`.\n",
       "xperiod\n",
       "    Only relevant when the axis `type` is \"date\". Sets the\n",
       "    period positioning in milliseconds or \"M<n>\" on the x\n",
       "    axis. Special values in the form of \"M<n>\" could be\n",
       "    used to declare the number of months. In this case `n`\n",
       "    must be a positive integer.\n",
       "xperiod0\n",
       "    Only relevant when the axis `type` is \"date\". Sets the\n",
       "    base for period positioning in milliseconds or date\n",
       "    string on the x0 axis. When `x0period` is round number\n",
       "    of weeks, the `x0period0` by default would be on a\n",
       "    Sunday i.e. 2000-01-02, otherwise it would be at\n",
       "    2000-01-01.\n",
       "xperiodalignment\n",
       "    Only relevant when the axis `type` is \"date\". Sets the\n",
       "    alignment of data points on the x axis.\n",
       "xsrc\n",
       "    Sets the source reference on Chart Studio Cloud for\n",
       "    `x`.\n",
       "y\n",
       "    Sets the y coordinates.\n",
       "y0\n",
       "    Alternate to `y`. Builds a linear space of y\n",
       "    coordinates. Use with `dy` where `y0` is the starting\n",
       "    coordinate and `dy` the step.\n",
       "yaxis\n",
       "    Sets a reference between this trace's y coordinates and\n",
       "    a 2D cartesian y axis. If \"y\" (the default value), the\n",
       "    y coordinates refer to `layout.yaxis`. If \"y2\", the y\n",
       "    coordinates refer to `layout.yaxis2`, and so on.\n",
       "ycalendar\n",
       "    Sets the calendar system to use with `y` date data.\n",
       "yhoverformat\n",
       "    Sets the hover text formatting rulefor `y`  using d3\n",
       "    formatting mini-languages which are very similar to\n",
       "    those in Python. For numbers, see:\n",
       "    https://github.com/d3/d3-format/tree/v1.4.5#d3-format.\n",
       "    And for dates see: https://github.com/d3/d3-time-\n",
       "    format/tree/v2.2.3#locale_format. We add two items to\n",
       "    d3's date formatter: \"%h\" for half of the year as a\n",
       "    decimal number as well as \"%{n}f\" for fractional\n",
       "    seconds with n digits. For example, *2016-10-13\n",
       "    09:15:23.456* with tickformat \"%H~%M~%S.%2f\" would\n",
       "    display *09~15~23.46*By default the values are\n",
       "    formatted using `yaxis.hoverformat`.\n",
       "yperiod\n",
       "    Only relevant when the axis `type` is \"date\". Sets the\n",
       "    period positioning in milliseconds or \"M<n>\" on the y\n",
       "    axis. Special values in the form of \"M<n>\" could be\n",
       "    used to declare the number of months. In this case `n`\n",
       "    must be a positive integer.\n",
       "yperiod0\n",
       "    Only relevant when the axis `type` is \"date\". Sets the\n",
       "    base for period positioning in milliseconds or date\n",
       "    string on the y0 axis. When `y0period` is round number\n",
       "    of weeks, the `y0period0` by default would be on a\n",
       "    Sunday i.e. 2000-01-02, otherwise it would be at\n",
       "    2000-01-01.\n",
       "yperiodalignment\n",
       "    Only relevant when the axis `type` is \"date\". Sets the\n",
       "    alignment of data points on the y axis.\n",
       "ysrc\n",
       "    Sets the source reference on Chart Studio Cloud for\n",
       "    `y`.\n",
       "\n",
       "Returns\n",
       "-------\n",
       "Scatter\n",
       "\u001b[1;31mFile:\u001b[0m           c:\\users\\phili\\anaconda3\\envs\\vscode-env\\lib\\site-packages\\plotly\\graph_objs\\_scatter.py\n",
       "\u001b[1;31mType:\u001b[0m           type\n",
       "\u001b[1;31mSubclasses:\u001b[0m     "
      ]
     },
     "metadata": {},
     "output_type": "display_data"
    }
   ],
   "source": [
    "go.Scatter?"
   ]
  },
  {
   "cell_type": "markdown",
   "metadata": {},
   "source": [
    "```pyplot``` has a functional syntax where a plotting function can directly be used or an OOP syntax where an equivalent plotting method can be called from an ```Axes```:"
   ]
  },
  {
   "cell_type": "code",
   "execution_count": 9,
   "metadata": {
    "scrolled": true
   },
   "outputs": [
    {
     "data": {
      "text/plain": [
       "\u001b[1;31mSignature:\u001b[0m\n",
       "\u001b[0mplt\u001b[0m\u001b[1;33m.\u001b[0m\u001b[0mscatter\u001b[0m\u001b[1;33m(\u001b[0m\u001b[1;33m\n",
       "\u001b[0m    \u001b[0mx\u001b[0m\u001b[1;33m:\u001b[0m \u001b[1;34m'float | ArrayLike'\u001b[0m\u001b[1;33m,\u001b[0m\u001b[1;33m\n",
       "\u001b[0m    \u001b[0my\u001b[0m\u001b[1;33m:\u001b[0m \u001b[1;34m'float | ArrayLike'\u001b[0m\u001b[1;33m,\u001b[0m\u001b[1;33m\n",
       "\u001b[0m    \u001b[0ms\u001b[0m\u001b[1;33m:\u001b[0m \u001b[1;34m'float | ArrayLike | None'\u001b[0m \u001b[1;33m=\u001b[0m \u001b[1;32mNone\u001b[0m\u001b[1;33m,\u001b[0m\u001b[1;33m\n",
       "\u001b[0m    \u001b[0mc\u001b[0m\u001b[1;33m:\u001b[0m \u001b[1;34m'ArrayLike | Sequence[ColorType] | ColorType | None'\u001b[0m \u001b[1;33m=\u001b[0m \u001b[1;32mNone\u001b[0m\u001b[1;33m,\u001b[0m\u001b[1;33m\n",
       "\u001b[0m    \u001b[0mmarker\u001b[0m\u001b[1;33m:\u001b[0m \u001b[1;34m'MarkerType | None'\u001b[0m \u001b[1;33m=\u001b[0m \u001b[1;32mNone\u001b[0m\u001b[1;33m,\u001b[0m\u001b[1;33m\n",
       "\u001b[0m    \u001b[0mcmap\u001b[0m\u001b[1;33m:\u001b[0m \u001b[1;34m'str | Colormap | None'\u001b[0m \u001b[1;33m=\u001b[0m \u001b[1;32mNone\u001b[0m\u001b[1;33m,\u001b[0m\u001b[1;33m\n",
       "\u001b[0m    \u001b[0mnorm\u001b[0m\u001b[1;33m:\u001b[0m \u001b[1;34m'str | Normalize | None'\u001b[0m \u001b[1;33m=\u001b[0m \u001b[1;32mNone\u001b[0m\u001b[1;33m,\u001b[0m\u001b[1;33m\n",
       "\u001b[0m    \u001b[0mvmin\u001b[0m\u001b[1;33m:\u001b[0m \u001b[1;34m'float | None'\u001b[0m \u001b[1;33m=\u001b[0m \u001b[1;32mNone\u001b[0m\u001b[1;33m,\u001b[0m\u001b[1;33m\n",
       "\u001b[0m    \u001b[0mvmax\u001b[0m\u001b[1;33m:\u001b[0m \u001b[1;34m'float | None'\u001b[0m \u001b[1;33m=\u001b[0m \u001b[1;32mNone\u001b[0m\u001b[1;33m,\u001b[0m\u001b[1;33m\n",
       "\u001b[0m    \u001b[0malpha\u001b[0m\u001b[1;33m:\u001b[0m \u001b[1;34m'float | None'\u001b[0m \u001b[1;33m=\u001b[0m \u001b[1;32mNone\u001b[0m\u001b[1;33m,\u001b[0m\u001b[1;33m\n",
       "\u001b[0m    \u001b[0mlinewidths\u001b[0m\u001b[1;33m:\u001b[0m \u001b[1;34m'float | Sequence[float] | None'\u001b[0m \u001b[1;33m=\u001b[0m \u001b[1;32mNone\u001b[0m\u001b[1;33m,\u001b[0m\u001b[1;33m\n",
       "\u001b[0m    \u001b[1;33m*\u001b[0m\u001b[1;33m,\u001b[0m\u001b[1;33m\n",
       "\u001b[0m    \u001b[0medgecolors\u001b[0m\u001b[1;33m:\u001b[0m \u001b[1;34m\"Literal['face', 'none'] | ColorType | Sequence[ColorType] | None\"\u001b[0m \u001b[1;33m=\u001b[0m \u001b[1;32mNone\u001b[0m\u001b[1;33m,\u001b[0m\u001b[1;33m\n",
       "\u001b[0m    \u001b[0mplotnonfinite\u001b[0m\u001b[1;33m:\u001b[0m \u001b[1;34m'bool'\u001b[0m \u001b[1;33m=\u001b[0m \u001b[1;32mFalse\u001b[0m\u001b[1;33m,\u001b[0m\u001b[1;33m\n",
       "\u001b[0m    \u001b[0mdata\u001b[0m\u001b[1;33m=\u001b[0m\u001b[1;32mNone\u001b[0m\u001b[1;33m,\u001b[0m\u001b[1;33m\n",
       "\u001b[0m    \u001b[1;33m**\u001b[0m\u001b[0mkwargs\u001b[0m\u001b[1;33m,\u001b[0m\u001b[1;33m\n",
       "\u001b[0m\u001b[1;33m)\u001b[0m \u001b[1;33m->\u001b[0m \u001b[1;34m'PathCollection'\u001b[0m\u001b[1;33m\u001b[0m\u001b[1;33m\u001b[0m\u001b[0m\n",
       "\u001b[1;31mDocstring:\u001b[0m\n",
       "A scatter plot of *y* vs. *x* with varying marker size and/or color.\n",
       "\n",
       "Parameters\n",
       "----------\n",
       "x, y : float or array-like, shape (n, )\n",
       "    The data positions.\n",
       "\n",
       "s : float or array-like, shape (n, ), optional\n",
       "    The marker size in points**2 (typographic points are 1/72 in.).\n",
       "    Default is ``rcParams['lines.markersize'] ** 2``.\n",
       "\n",
       "    The linewidth and edgecolor can visually interact with the marker\n",
       "    size, and can lead to artifacts if the marker size is smaller than\n",
       "    the linewidth.\n",
       "\n",
       "    If the linewidth is greater than 0 and the edgecolor is anything\n",
       "    but *'none'*, then the effective size of the marker will be\n",
       "    increased by half the linewidth because the stroke will be centered\n",
       "    on the edge of the shape.\n",
       "\n",
       "    To eliminate the marker edge either set *linewidth=0* or\n",
       "    *edgecolor='none'*.\n",
       "\n",
       "c : array-like or list of colors or color, optional\n",
       "    The marker colors. Possible values:\n",
       "\n",
       "    - A scalar or sequence of n numbers to be mapped to colors using\n",
       "      *cmap* and *norm*.\n",
       "    - A 2D array in which the rows are RGB or RGBA.\n",
       "    - A sequence of colors of length n.\n",
       "    - A single color format string.\n",
       "\n",
       "    Note that *c* should not be a single numeric RGB or RGBA sequence\n",
       "    because that is indistinguishable from an array of values to be\n",
       "    colormapped. If you want to specify the same RGB or RGBA value for\n",
       "    all points, use a 2D array with a single row.  Otherwise,\n",
       "    value-matching will have precedence in case of a size matching with\n",
       "    *x* and *y*.\n",
       "\n",
       "    If you wish to specify a single color for all points\n",
       "    prefer the *color* keyword argument.\n",
       "\n",
       "    Defaults to `None`. In that case the marker color is determined\n",
       "    by the value of *color*, *facecolor* or *facecolors*. In case\n",
       "    those are not specified or `None`, the marker color is determined\n",
       "    by the next color of the ``Axes``' current \"shape and fill\" color\n",
       "    cycle. This cycle defaults to :rc:`axes.prop_cycle`.\n",
       "\n",
       "marker : `~.markers.MarkerStyle`, default: :rc:`scatter.marker`\n",
       "    The marker style. *marker* can be either an instance of the class\n",
       "    or the text shorthand for a particular marker.\n",
       "    See :mod:`matplotlib.markers` for more information about marker\n",
       "    styles.\n",
       "\n",
       "cmap : str or `~matplotlib.colors.Colormap`, default: :rc:`image.cmap`\n",
       "    The Colormap instance or registered colormap name used to map scalar data\n",
       "    to colors.\n",
       "\n",
       "    This parameter is ignored if *c* is RGB(A).\n",
       "\n",
       "norm : str or `~matplotlib.colors.Normalize`, optional\n",
       "    The normalization method used to scale scalar data to the [0, 1] range\n",
       "    before mapping to colors using *cmap*. By default, a linear scaling is\n",
       "    used, mapping the lowest value to 0 and the highest to 1.\n",
       "\n",
       "    If given, this can be one of the following:\n",
       "\n",
       "    - An instance of `.Normalize` or one of its subclasses\n",
       "      (see :ref:`colormapnorms`).\n",
       "    - A scale name, i.e. one of \"linear\", \"log\", \"symlog\", \"logit\", etc.  For a\n",
       "      list of available scales, call `matplotlib.scale.get_scale_names()`.\n",
       "      In that case, a suitable `.Normalize` subclass is dynamically generated\n",
       "      and instantiated.\n",
       "\n",
       "    This parameter is ignored if *c* is RGB(A).\n",
       "\n",
       "vmin, vmax : float, optional\n",
       "    When using scalar data and no explicit *norm*, *vmin* and *vmax* define\n",
       "    the data range that the colormap covers. By default, the colormap covers\n",
       "    the complete value range of the supplied data. It is an error to use\n",
       "    *vmin*/*vmax* when a *norm* instance is given (but using a `str` *norm*\n",
       "    name together with *vmin*/*vmax* is acceptable).\n",
       "\n",
       "    This parameter is ignored if *c* is RGB(A).\n",
       "\n",
       "alpha : float, default: None\n",
       "    The alpha blending value, between 0 (transparent) and 1 (opaque).\n",
       "\n",
       "linewidths : float or array-like, default: :rc:`lines.linewidth`\n",
       "    The linewidth of the marker edges. Note: The default *edgecolors*\n",
       "    is 'face'. You may want to change this as well.\n",
       "\n",
       "edgecolors : {'face', 'none', *None*} or color or sequence of color, default: :rc:`scatter.edgecolors`\n",
       "    The edge color of the marker. Possible values:\n",
       "\n",
       "    - 'face': The edge color will always be the same as the face color.\n",
       "    - 'none': No patch boundary will be drawn.\n",
       "    - A color or sequence of colors.\n",
       "\n",
       "    For non-filled markers, *edgecolors* is ignored. Instead, the color\n",
       "    is determined like with 'face', i.e. from *c*, *colors*, or\n",
       "    *facecolors*.\n",
       "\n",
       "plotnonfinite : bool, default: False\n",
       "    Whether to plot points with nonfinite *c* (i.e. ``inf``, ``-inf``\n",
       "    or ``nan``). If ``True`` the points are drawn with the *bad*\n",
       "    colormap color (see `.Colormap.set_bad`).\n",
       "\n",
       "Returns\n",
       "-------\n",
       "`~matplotlib.collections.PathCollection`\n",
       "\n",
       "Other Parameters\n",
       "----------------\n",
       "data : indexable object, optional\n",
       "    If given, the following parameters also accept a string ``s``, which is\n",
       "    interpreted as ``data[s]`` (unless this raises an exception):\n",
       "\n",
       "    *x*, *y*, *s*, *linewidths*, *edgecolors*, *c*, *facecolor*, *facecolors*, *color*\n",
       "**kwargs : `~matplotlib.collections.Collection` properties\n",
       "\n",
       "See Also\n",
       "--------\n",
       "plot : To plot scatter plots when markers are identical in size and\n",
       "    color.\n",
       "\n",
       "Notes\n",
       "-----\n",
       "* The `.plot` function will be faster for scatterplots where markers\n",
       "  don't vary in size or color.\n",
       "\n",
       "* Any or all of *x*, *y*, *s*, and *c* may be masked arrays, in which\n",
       "  case all masks will be combined and only unmasked points will be\n",
       "  plotted.\n",
       "\n",
       "* Fundamentally, scatter works with 1D arrays; *x*, *y*, *s*, and *c*\n",
       "  may be input as N-D arrays, but within scatter they will be\n",
       "  flattened. The exception is *c*, which will be flattened only if its\n",
       "  size matches the size of *x* and *y*.\n",
       "\u001b[1;31mFile:\u001b[0m      c:\\users\\phili\\anaconda3\\envs\\vscode-env\\lib\\site-packages\\matplotlib\\pyplot.py\n",
       "\u001b[1;31mType:\u001b[0m      function"
      ]
     },
     "metadata": {},
     "output_type": "display_data"
    }
   ],
   "source": [
    "plt.scatter?"
   ]
  },
  {
   "cell_type": "markdown",
   "metadata": {},
   "source": [
    "Express ```px``` is a high-level interface for data visualization and uses a similar syntax to ```seaborn```:"
   ]
  },
  {
   "cell_type": "code",
   "execution_count": 11,
   "metadata": {
    "scrolled": true
   },
   "outputs": [
    {
     "name": "stdout",
     "output_type": "stream",
     "text": [
      "{'attribute': ['defaults'],\n",
      " 'constant': ['NO_COLOR'],\n",
      " 'module': ['colors',\n",
      "            'data',\n",
      "            'imshow_utils',\n",
      "            'optional_imports',\n",
      "            'pd',\n",
      "            'trendline_functions'],\n",
      " 'method': ['area',\n",
      "            'bar',\n",
      "            'bar_polar',\n",
      "            'box',\n",
      "            'choropleth',\n",
      "            'choropleth_mapbox',\n",
      "            'density_contour',\n",
      "            'density_heatmap',\n",
      "            'density_mapbox',\n",
      "            'ecdf',\n",
      "            'funnel',\n",
      "            'funnel_area',\n",
      "            'get_trendline_results',\n",
      "            'histogram',\n",
      "            'icicle',\n",
      "            'imshow',\n",
      "            'line',\n",
      "            'line_3d',\n",
      "            'line_geo',\n",
      "            'line_mapbox',\n",
      "            'line_polar',\n",
      "            'line_ternary',\n",
      "            'parallel_categories',\n",
      "            'parallel_coordinates',\n",
      "            'pie',\n",
      "            'scatter',\n",
      "            'scatter_3d',\n",
      "            'scatter_geo',\n",
      "            'scatter_mapbox',\n",
      "            'scatter_matrix',\n",
      "            'scatter_polar',\n",
      "            'scatter_ternary',\n",
      "            'set_mapbox_access_token',\n",
      "            'strip',\n",
      "            'sunburst',\n",
      "            'timeline',\n",
      "            'treemap',\n",
      "            'violin'],\n",
      " 'upper_class': ['Constant', 'IdentityMap', 'Range'],\n",
      " 'datamodel_attribute': ['__all__',\n",
      "                         '__builtins__',\n",
      "                         '__cached__',\n",
      "                         '__doc__',\n",
      "                         '__file__',\n",
      "                         '__loader__',\n",
      "                         '__name__',\n",
      "                         '__package__',\n",
      "                         '__path__',\n",
      "                         '__spec__']}\n"
     ]
    }
   ],
   "source": [
    "dir2(px, drop_internal=True)"
   ]
  },
  {
   "cell_type": "markdown",
   "metadata": {},
   "source": [
    "Notice the similarity between the two docstrings:"
   ]
  },
  {
   "cell_type": "code",
   "execution_count": 12,
   "metadata": {
    "scrolled": true
   },
   "outputs": [
    {
     "name": "stdout",
     "output_type": "stream",
     "text": [
      "{'attribute': ['crayons', 'xkcd_rgb'],\n",
      " 'module': ['algorithms',\n",
      "            'axisgrid',\n",
      "            'categorical',\n",
      "            'cm',\n",
      "            'colors',\n",
      "            'distributions',\n",
      "            'external',\n",
      "            'matrix',\n",
      "            'miscplot',\n",
      "            'mpl',\n",
      "            'palettes',\n",
      "            'rcmod',\n",
      "            'regression',\n",
      "            'relational',\n",
      "            'utils',\n",
      "            'widgets'],\n",
      " 'method': ['axes_style',\n",
      "            'barplot',\n",
      "            'blend_palette',\n",
      "            'boxenplot',\n",
      "            'boxplot',\n",
      "            'catplot',\n",
      "            'choose_colorbrewer_palette',\n",
      "            'choose_cubehelix_palette',\n",
      "            'choose_dark_palette',\n",
      "            'choose_diverging_palette',\n",
      "            'choose_light_palette',\n",
      "            'clustermap',\n",
      "            'color_palette',\n",
      "            'countplot',\n",
      "            'crayon_palette',\n",
      "            'cubehelix_palette',\n",
      "            'dark_palette',\n",
      "            'desaturate',\n",
      "            'despine',\n",
      "            'displot',\n",
      "            'distplot',\n",
      "            'diverging_palette',\n",
      "            'dogplot',\n",
      "            'ecdfplot',\n",
      "            'get_data_home',\n",
      "            'get_dataset_names',\n",
      "            'heatmap',\n",
      "            'histplot',\n",
      "            'hls_palette',\n",
      "            'husl_palette',\n",
      "            'jointplot',\n",
      "            'kdeplot',\n",
      "            'light_palette',\n",
      "            'lineplot',\n",
      "            'lmplot',\n",
      "            'load_dataset',\n",
      "            'move_legend',\n",
      "            'mpl_palette',\n",
      "            'pairplot',\n",
      "            'palplot',\n",
      "            'plotting_context',\n",
      "            'pointplot',\n",
      "            'regplot',\n",
      "            'relplot',\n",
      "            'reset_defaults',\n",
      "            'reset_orig',\n",
      "            'residplot',\n",
      "            'rugplot',\n",
      "            'saturate',\n",
      "            'scatterplot',\n",
      "            'set',\n",
      "            'set_color_codes',\n",
      "            'set_context',\n",
      "            'set_hls_values',\n",
      "            'set_palette',\n",
      "            'set_style',\n",
      "            'set_theme',\n",
      "            'stripplot',\n",
      "            'swarmplot',\n",
      "            'violinplot',\n",
      "            'xkcd_palette'],\n",
      " 'upper_class': ['FacetGrid', 'JointGrid', 'PairGrid'],\n",
      " 'datamodel_attribute': ['__builtins__',\n",
      "                         '__cached__',\n",
      "                         '__doc__',\n",
      "                         '__file__',\n",
      "                         '__loader__',\n",
      "                         '__name__',\n",
      "                         '__package__',\n",
      "                         '__path__',\n",
      "                         '__spec__',\n",
      "                         '__version__']}\n"
     ]
    }
   ],
   "source": [
    "dir2(sns, drop_internal=True)"
   ]
  },
  {
   "cell_type": "code",
   "execution_count": 13,
   "metadata": {
    "scrolled": true
   },
   "outputs": [
    {
     "data": {
      "text/plain": [
       "\u001b[1;31mSignature:\u001b[0m\n",
       "\u001b[0mpx\u001b[0m\u001b[1;33m.\u001b[0m\u001b[0mscatter\u001b[0m\u001b[1;33m(\u001b[0m\u001b[1;33m\n",
       "\u001b[0m    \u001b[0mdata_frame\u001b[0m\u001b[1;33m=\u001b[0m\u001b[1;32mNone\u001b[0m\u001b[1;33m,\u001b[0m\u001b[1;33m\n",
       "\u001b[0m    \u001b[0mx\u001b[0m\u001b[1;33m=\u001b[0m\u001b[1;32mNone\u001b[0m\u001b[1;33m,\u001b[0m\u001b[1;33m\n",
       "\u001b[0m    \u001b[0my\u001b[0m\u001b[1;33m=\u001b[0m\u001b[1;32mNone\u001b[0m\u001b[1;33m,\u001b[0m\u001b[1;33m\n",
       "\u001b[0m    \u001b[0mcolor\u001b[0m\u001b[1;33m=\u001b[0m\u001b[1;32mNone\u001b[0m\u001b[1;33m,\u001b[0m\u001b[1;33m\n",
       "\u001b[0m    \u001b[0msymbol\u001b[0m\u001b[1;33m=\u001b[0m\u001b[1;32mNone\u001b[0m\u001b[1;33m,\u001b[0m\u001b[1;33m\n",
       "\u001b[0m    \u001b[0msize\u001b[0m\u001b[1;33m=\u001b[0m\u001b[1;32mNone\u001b[0m\u001b[1;33m,\u001b[0m\u001b[1;33m\n",
       "\u001b[0m    \u001b[0mhover_name\u001b[0m\u001b[1;33m=\u001b[0m\u001b[1;32mNone\u001b[0m\u001b[1;33m,\u001b[0m\u001b[1;33m\n",
       "\u001b[0m    \u001b[0mhover_data\u001b[0m\u001b[1;33m=\u001b[0m\u001b[1;32mNone\u001b[0m\u001b[1;33m,\u001b[0m\u001b[1;33m\n",
       "\u001b[0m    \u001b[0mcustom_data\u001b[0m\u001b[1;33m=\u001b[0m\u001b[1;32mNone\u001b[0m\u001b[1;33m,\u001b[0m\u001b[1;33m\n",
       "\u001b[0m    \u001b[0mtext\u001b[0m\u001b[1;33m=\u001b[0m\u001b[1;32mNone\u001b[0m\u001b[1;33m,\u001b[0m\u001b[1;33m\n",
       "\u001b[0m    \u001b[0mfacet_row\u001b[0m\u001b[1;33m=\u001b[0m\u001b[1;32mNone\u001b[0m\u001b[1;33m,\u001b[0m\u001b[1;33m\n",
       "\u001b[0m    \u001b[0mfacet_col\u001b[0m\u001b[1;33m=\u001b[0m\u001b[1;32mNone\u001b[0m\u001b[1;33m,\u001b[0m\u001b[1;33m\n",
       "\u001b[0m    \u001b[0mfacet_col_wrap\u001b[0m\u001b[1;33m=\u001b[0m\u001b[1;36m0\u001b[0m\u001b[1;33m,\u001b[0m\u001b[1;33m\n",
       "\u001b[0m    \u001b[0mfacet_row_spacing\u001b[0m\u001b[1;33m=\u001b[0m\u001b[1;32mNone\u001b[0m\u001b[1;33m,\u001b[0m\u001b[1;33m\n",
       "\u001b[0m    \u001b[0mfacet_col_spacing\u001b[0m\u001b[1;33m=\u001b[0m\u001b[1;32mNone\u001b[0m\u001b[1;33m,\u001b[0m\u001b[1;33m\n",
       "\u001b[0m    \u001b[0merror_x\u001b[0m\u001b[1;33m=\u001b[0m\u001b[1;32mNone\u001b[0m\u001b[1;33m,\u001b[0m\u001b[1;33m\n",
       "\u001b[0m    \u001b[0merror_x_minus\u001b[0m\u001b[1;33m=\u001b[0m\u001b[1;32mNone\u001b[0m\u001b[1;33m,\u001b[0m\u001b[1;33m\n",
       "\u001b[0m    \u001b[0merror_y\u001b[0m\u001b[1;33m=\u001b[0m\u001b[1;32mNone\u001b[0m\u001b[1;33m,\u001b[0m\u001b[1;33m\n",
       "\u001b[0m    \u001b[0merror_y_minus\u001b[0m\u001b[1;33m=\u001b[0m\u001b[1;32mNone\u001b[0m\u001b[1;33m,\u001b[0m\u001b[1;33m\n",
       "\u001b[0m    \u001b[0manimation_frame\u001b[0m\u001b[1;33m=\u001b[0m\u001b[1;32mNone\u001b[0m\u001b[1;33m,\u001b[0m\u001b[1;33m\n",
       "\u001b[0m    \u001b[0manimation_group\u001b[0m\u001b[1;33m=\u001b[0m\u001b[1;32mNone\u001b[0m\u001b[1;33m,\u001b[0m\u001b[1;33m\n",
       "\u001b[0m    \u001b[0mcategory_orders\u001b[0m\u001b[1;33m=\u001b[0m\u001b[1;32mNone\u001b[0m\u001b[1;33m,\u001b[0m\u001b[1;33m\n",
       "\u001b[0m    \u001b[0mlabels\u001b[0m\u001b[1;33m=\u001b[0m\u001b[1;32mNone\u001b[0m\u001b[1;33m,\u001b[0m\u001b[1;33m\n",
       "\u001b[0m    \u001b[0morientation\u001b[0m\u001b[1;33m=\u001b[0m\u001b[1;32mNone\u001b[0m\u001b[1;33m,\u001b[0m\u001b[1;33m\n",
       "\u001b[0m    \u001b[0mcolor_discrete_sequence\u001b[0m\u001b[1;33m=\u001b[0m\u001b[1;32mNone\u001b[0m\u001b[1;33m,\u001b[0m\u001b[1;33m\n",
       "\u001b[0m    \u001b[0mcolor_discrete_map\u001b[0m\u001b[1;33m=\u001b[0m\u001b[1;32mNone\u001b[0m\u001b[1;33m,\u001b[0m\u001b[1;33m\n",
       "\u001b[0m    \u001b[0mcolor_continuous_scale\u001b[0m\u001b[1;33m=\u001b[0m\u001b[1;32mNone\u001b[0m\u001b[1;33m,\u001b[0m\u001b[1;33m\n",
       "\u001b[0m    \u001b[0mrange_color\u001b[0m\u001b[1;33m=\u001b[0m\u001b[1;32mNone\u001b[0m\u001b[1;33m,\u001b[0m\u001b[1;33m\n",
       "\u001b[0m    \u001b[0mcolor_continuous_midpoint\u001b[0m\u001b[1;33m=\u001b[0m\u001b[1;32mNone\u001b[0m\u001b[1;33m,\u001b[0m\u001b[1;33m\n",
       "\u001b[0m    \u001b[0msymbol_sequence\u001b[0m\u001b[1;33m=\u001b[0m\u001b[1;32mNone\u001b[0m\u001b[1;33m,\u001b[0m\u001b[1;33m\n",
       "\u001b[0m    \u001b[0msymbol_map\u001b[0m\u001b[1;33m=\u001b[0m\u001b[1;32mNone\u001b[0m\u001b[1;33m,\u001b[0m\u001b[1;33m\n",
       "\u001b[0m    \u001b[0mopacity\u001b[0m\u001b[1;33m=\u001b[0m\u001b[1;32mNone\u001b[0m\u001b[1;33m,\u001b[0m\u001b[1;33m\n",
       "\u001b[0m    \u001b[0msize_max\u001b[0m\u001b[1;33m=\u001b[0m\u001b[1;32mNone\u001b[0m\u001b[1;33m,\u001b[0m\u001b[1;33m\n",
       "\u001b[0m    \u001b[0mmarginal_x\u001b[0m\u001b[1;33m=\u001b[0m\u001b[1;32mNone\u001b[0m\u001b[1;33m,\u001b[0m\u001b[1;33m\n",
       "\u001b[0m    \u001b[0mmarginal_y\u001b[0m\u001b[1;33m=\u001b[0m\u001b[1;32mNone\u001b[0m\u001b[1;33m,\u001b[0m\u001b[1;33m\n",
       "\u001b[0m    \u001b[0mtrendline\u001b[0m\u001b[1;33m=\u001b[0m\u001b[1;32mNone\u001b[0m\u001b[1;33m,\u001b[0m\u001b[1;33m\n",
       "\u001b[0m    \u001b[0mtrendline_options\u001b[0m\u001b[1;33m=\u001b[0m\u001b[1;32mNone\u001b[0m\u001b[1;33m,\u001b[0m\u001b[1;33m\n",
       "\u001b[0m    \u001b[0mtrendline_color_override\u001b[0m\u001b[1;33m=\u001b[0m\u001b[1;32mNone\u001b[0m\u001b[1;33m,\u001b[0m\u001b[1;33m\n",
       "\u001b[0m    \u001b[0mtrendline_scope\u001b[0m\u001b[1;33m=\u001b[0m\u001b[1;34m'trace'\u001b[0m\u001b[1;33m,\u001b[0m\u001b[1;33m\n",
       "\u001b[0m    \u001b[0mlog_x\u001b[0m\u001b[1;33m=\u001b[0m\u001b[1;32mFalse\u001b[0m\u001b[1;33m,\u001b[0m\u001b[1;33m\n",
       "\u001b[0m    \u001b[0mlog_y\u001b[0m\u001b[1;33m=\u001b[0m\u001b[1;32mFalse\u001b[0m\u001b[1;33m,\u001b[0m\u001b[1;33m\n",
       "\u001b[0m    \u001b[0mrange_x\u001b[0m\u001b[1;33m=\u001b[0m\u001b[1;32mNone\u001b[0m\u001b[1;33m,\u001b[0m\u001b[1;33m\n",
       "\u001b[0m    \u001b[0mrange_y\u001b[0m\u001b[1;33m=\u001b[0m\u001b[1;32mNone\u001b[0m\u001b[1;33m,\u001b[0m\u001b[1;33m\n",
       "\u001b[0m    \u001b[0mrender_mode\u001b[0m\u001b[1;33m=\u001b[0m\u001b[1;34m'auto'\u001b[0m\u001b[1;33m,\u001b[0m\u001b[1;33m\n",
       "\u001b[0m    \u001b[0mtitle\u001b[0m\u001b[1;33m=\u001b[0m\u001b[1;32mNone\u001b[0m\u001b[1;33m,\u001b[0m\u001b[1;33m\n",
       "\u001b[0m    \u001b[0mtemplate\u001b[0m\u001b[1;33m=\u001b[0m\u001b[1;32mNone\u001b[0m\u001b[1;33m,\u001b[0m\u001b[1;33m\n",
       "\u001b[0m    \u001b[0mwidth\u001b[0m\u001b[1;33m=\u001b[0m\u001b[1;32mNone\u001b[0m\u001b[1;33m,\u001b[0m\u001b[1;33m\n",
       "\u001b[0m    \u001b[0mheight\u001b[0m\u001b[1;33m=\u001b[0m\u001b[1;32mNone\u001b[0m\u001b[1;33m,\u001b[0m\u001b[1;33m\n",
       "\u001b[0m\u001b[1;33m)\u001b[0m \u001b[1;33m->\u001b[0m \u001b[0mplotly\u001b[0m\u001b[1;33m.\u001b[0m\u001b[0mgraph_objs\u001b[0m\u001b[1;33m.\u001b[0m\u001b[0m_figure\u001b[0m\u001b[1;33m.\u001b[0m\u001b[0mFigure\u001b[0m\u001b[1;33m\u001b[0m\u001b[1;33m\u001b[0m\u001b[0m\n",
       "\u001b[1;31mDocstring:\u001b[0m\n",
       "    In a scatter plot, each row of `data_frame` is represented by a symbol\n",
       "    mark in 2D space.\n",
       "    \n",
       "Parameters\n",
       "----------\n",
       "data_frame: DataFrame or array-like or dict\n",
       "    This argument needs to be passed for column names (and not keyword\n",
       "    names) to be used. Array-like and dict are transformed internally to a\n",
       "    pandas DataFrame. Optional: if missing, a DataFrame gets constructed\n",
       "    under the hood using the other arguments.\n",
       "x: str or int or Series or array-like\n",
       "    Either a name of a column in `data_frame`, or a pandas Series or\n",
       "    array_like object. Values from this column or array_like are used to\n",
       "    position marks along the x axis in cartesian coordinates. Either `x` or\n",
       "    `y` can optionally be a list of column references or array_likes,  in\n",
       "    which case the data will be treated as if it were 'wide' rather than\n",
       "    'long'.\n",
       "y: str or int or Series or array-like\n",
       "    Either a name of a column in `data_frame`, or a pandas Series or\n",
       "    array_like object. Values from this column or array_like are used to\n",
       "    position marks along the y axis in cartesian coordinates. Either `x` or\n",
       "    `y` can optionally be a list of column references or array_likes,  in\n",
       "    which case the data will be treated as if it were 'wide' rather than\n",
       "    'long'.\n",
       "color: str or int or Series or array-like\n",
       "    Either a name of a column in `data_frame`, or a pandas Series or\n",
       "    array_like object. Values from this column or array_like are used to\n",
       "    assign color to marks.\n",
       "symbol: str or int or Series or array-like\n",
       "    Either a name of a column in `data_frame`, or a pandas Series or\n",
       "    array_like object. Values from this column or array_like are used to\n",
       "    assign symbols to marks.\n",
       "size: str or int or Series or array-like\n",
       "    Either a name of a column in `data_frame`, or a pandas Series or\n",
       "    array_like object. Values from this column or array_like are used to\n",
       "    assign mark sizes.\n",
       "hover_name: str or int or Series or array-like\n",
       "    Either a name of a column in `data_frame`, or a pandas Series or\n",
       "    array_like object. Values from this column or array_like appear in bold\n",
       "    in the hover tooltip.\n",
       "hover_data: str, or list of str or int, or Series or array-like, or dict\n",
       "    Either a name or list of names of columns in `data_frame`, or pandas\n",
       "    Series, or array_like objects or a dict with column names as keys, with\n",
       "    values True (for default formatting) False (in order to remove this\n",
       "    column from hover information), or a formatting string, for example\n",
       "    ':.3f' or '|%a' or list-like data to appear in the hover tooltip or\n",
       "    tuples with a bool or formatting string as first element, and list-like\n",
       "    data to appear in hover as second element Values from these columns\n",
       "    appear as extra data in the hover tooltip.\n",
       "custom_data: str, or list of str or int, or Series or array-like\n",
       "    Either name or list of names of columns in `data_frame`, or pandas\n",
       "    Series, or array_like objects Values from these columns are extra data,\n",
       "    to be used in widgets or Dash callbacks for example. This data is not\n",
       "    user-visible but is included in events emitted by the figure (lasso\n",
       "    selection etc.)\n",
       "text: str or int or Series or array-like\n",
       "    Either a name of a column in `data_frame`, or a pandas Series or\n",
       "    array_like object. Values from this column or array_like appear in the\n",
       "    figure as text labels.\n",
       "facet_row: str or int or Series or array-like\n",
       "    Either a name of a column in `data_frame`, or a pandas Series or\n",
       "    array_like object. Values from this column or array_like are used to\n",
       "    assign marks to facetted subplots in the vertical direction.\n",
       "facet_col: str or int or Series or array-like\n",
       "    Either a name of a column in `data_frame`, or a pandas Series or\n",
       "    array_like object. Values from this column or array_like are used to\n",
       "    assign marks to facetted subplots in the horizontal direction.\n",
       "facet_col_wrap: int\n",
       "    Maximum number of facet columns. Wraps the column variable at this\n",
       "    width, so that the column facets span multiple rows. Ignored if 0, and\n",
       "    forced to 0 if `facet_row` or a `marginal` is set.\n",
       "facet_row_spacing: float between 0 and 1\n",
       "    Spacing between facet rows, in paper units. Default is 0.03 or 0.0.7\n",
       "    when facet_col_wrap is used.\n",
       "facet_col_spacing: float between 0 and 1\n",
       "    Spacing between facet columns, in paper units Default is 0.02.\n",
       "error_x: str or int or Series or array-like\n",
       "    Either a name of a column in `data_frame`, or a pandas Series or\n",
       "    array_like object. Values from this column or array_like are used to\n",
       "    size x-axis error bars. If `error_x_minus` is `None`, error bars will\n",
       "    be symmetrical, otherwise `error_x` is used for the positive direction\n",
       "    only.\n",
       "error_x_minus: str or int or Series or array-like\n",
       "    Either a name of a column in `data_frame`, or a pandas Series or\n",
       "    array_like object. Values from this column or array_like are used to\n",
       "    size x-axis error bars in the negative direction. Ignored if `error_x`\n",
       "    is `None`.\n",
       "error_y: str or int or Series or array-like\n",
       "    Either a name of a column in `data_frame`, or a pandas Series or\n",
       "    array_like object. Values from this column or array_like are used to\n",
       "    size y-axis error bars. If `error_y_minus` is `None`, error bars will\n",
       "    be symmetrical, otherwise `error_y` is used for the positive direction\n",
       "    only.\n",
       "error_y_minus: str or int or Series or array-like\n",
       "    Either a name of a column in `data_frame`, or a pandas Series or\n",
       "    array_like object. Values from this column or array_like are used to\n",
       "    size y-axis error bars in the negative direction. Ignored if `error_y`\n",
       "    is `None`.\n",
       "animation_frame: str or int or Series or array-like\n",
       "    Either a name of a column in `data_frame`, or a pandas Series or\n",
       "    array_like object. Values from this column or array_like are used to\n",
       "    assign marks to animation frames.\n",
       "animation_group: str or int or Series or array-like\n",
       "    Either a name of a column in `data_frame`, or a pandas Series or\n",
       "    array_like object. Values from this column or array_like are used to\n",
       "    provide object-constancy across animation frames: rows with matching\n",
       "    `animation_group`s will be treated as if they describe the same object\n",
       "    in each frame.\n",
       "category_orders: dict with str keys and list of str values (default `{}`)\n",
       "    By default, in Python 3.6+, the order of categorical values in axes,\n",
       "    legends and facets depends on the order in which these values are first\n",
       "    encountered in `data_frame` (and no order is guaranteed by default in\n",
       "    Python below 3.6). This parameter is used to force a specific ordering\n",
       "    of values per column. The keys of this dict should correspond to column\n",
       "    names, and the values should be lists of strings corresponding to the\n",
       "    specific display order desired.\n",
       "labels: dict with str keys and str values (default `{}`)\n",
       "    By default, column names are used in the figure for axis titles, legend\n",
       "    entries and hovers. This parameter allows this to be overridden. The\n",
       "    keys of this dict should correspond to column names, and the values\n",
       "    should correspond to the desired label to be displayed.\n",
       "orientation: str, one of `'h'` for horizontal or `'v'` for vertical. \n",
       "    (default `'v'` if `x` and `y` are provided and both continous or both\n",
       "    categorical,  otherwise `'v'`(`'h'`) if `x`(`y`) is categorical and\n",
       "    `y`(`x`) is continuous,  otherwise `'v'`(`'h'`) if only `x`(`y`) is\n",
       "    provided)\n",
       "color_discrete_sequence: list of str\n",
       "    Strings should define valid CSS-colors. When `color` is set and the\n",
       "    values in the corresponding column are not numeric, values in that\n",
       "    column are assigned colors by cycling through `color_discrete_sequence`\n",
       "    in the order described in `category_orders`, unless the value of\n",
       "    `color` is a key in `color_discrete_map`. Various useful color\n",
       "    sequences are available in the `plotly.express.colors` submodules,\n",
       "    specifically `plotly.express.colors.qualitative`.\n",
       "color_discrete_map: dict with str keys and str values (default `{}`)\n",
       "    String values should define valid CSS-colors Used to override\n",
       "    `color_discrete_sequence` to assign a specific colors to marks\n",
       "    corresponding with specific values. Keys in `color_discrete_map` should\n",
       "    be values in the column denoted by `color`. Alternatively, if the\n",
       "    values of `color` are valid colors, the string `'identity'` may be\n",
       "    passed to cause them to be used directly.\n",
       "color_continuous_scale: list of str\n",
       "    Strings should define valid CSS-colors This list is used to build a\n",
       "    continuous color scale when the column denoted by `color` contains\n",
       "    numeric data. Various useful color scales are available in the\n",
       "    `plotly.express.colors` submodules, specifically\n",
       "    `plotly.express.colors.sequential`, `plotly.express.colors.diverging`\n",
       "    and `plotly.express.colors.cyclical`.\n",
       "range_color: list of two numbers\n",
       "    If provided, overrides auto-scaling on the continuous color scale.\n",
       "color_continuous_midpoint: number (default `None`)\n",
       "    If set, computes the bounds of the continuous color scale to have the\n",
       "    desired midpoint. Setting this value is recommended when using\n",
       "    `plotly.express.colors.diverging` color scales as the inputs to\n",
       "    `color_continuous_scale`.\n",
       "symbol_sequence: list of str\n",
       "    Strings should define valid plotly.js symbols. When `symbol` is set,\n",
       "    values in that column are assigned symbols by cycling through\n",
       "    `symbol_sequence` in the order described in `category_orders`, unless\n",
       "    the value of `symbol` is a key in `symbol_map`.\n",
       "symbol_map: dict with str keys and str values (default `{}`)\n",
       "    String values should define plotly.js symbols Used to override\n",
       "    `symbol_sequence` to assign a specific symbols to marks corresponding\n",
       "    with specific values. Keys in `symbol_map` should be values in the\n",
       "    column denoted by `symbol`. Alternatively, if the values of `symbol`\n",
       "    are valid symbol names, the string `'identity'` may be passed to cause\n",
       "    them to be used directly.\n",
       "opacity: float\n",
       "    Value between 0 and 1. Sets the opacity for markers.\n",
       "size_max: int (default `20`)\n",
       "    Set the maximum mark size when using `size`.\n",
       "marginal_x: str\n",
       "    One of `'rug'`, `'box'`, `'violin'`, or `'histogram'`. If set, a\n",
       "    horizontal subplot is drawn above the main plot, visualizing the\n",
       "    x-distribution.\n",
       "marginal_y: str\n",
       "    One of `'rug'`, `'box'`, `'violin'`, or `'histogram'`. If set, a\n",
       "    vertical subplot is drawn to the right of the main plot, visualizing\n",
       "    the y-distribution.\n",
       "trendline: str\n",
       "    One of `'ols'`, `'lowess'`, `'rolling'`, `'expanding'` or `'ewm'`. If\n",
       "    `'ols'`, an Ordinary Least Squares regression line will be drawn for\n",
       "    each discrete-color/symbol group. If `'lowess`', a Locally Weighted\n",
       "    Scatterplot Smoothing line will be drawn for each discrete-color/symbol\n",
       "    group. If `'rolling`', a Rolling (e.g. rolling average, rolling median)\n",
       "    line will be drawn for each discrete-color/symbol group. If\n",
       "    `'expanding`', an Expanding (e.g. expanding average, expanding sum)\n",
       "    line will be drawn for each discrete-color/symbol group. If `'ewm`', an\n",
       "    Exponentially Weighted Moment (e.g. exponentially-weighted moving\n",
       "    average) line will be drawn for each discrete-color/symbol group. See\n",
       "    the docstrings for the functions in\n",
       "    `plotly.express.trendline_functions` for more details on these\n",
       "    functions and how to configure them with the `trendline_options`\n",
       "    argument.\n",
       "trendline_options: dict\n",
       "    Options passed as the first argument to the function from\n",
       "    `plotly.express.trendline_functions`  named in the `trendline`\n",
       "    argument.\n",
       "trendline_color_override: str\n",
       "    Valid CSS color. If provided, and if `trendline` is set, all trendlines\n",
       "    will be drawn in this color rather than in the same color as the traces\n",
       "    from which they draw their inputs.\n",
       "trendline_scope: str (one of `'trace'` or `'overall'`, default `'trace'`)\n",
       "    If `'trace'`, then one trendline is drawn per trace (i.e. per color,\n",
       "    symbol, facet, animation frame etc) and if `'overall'` then one\n",
       "    trendline is computed for the entire dataset, and replicated across all\n",
       "    facets.\n",
       "log_x: boolean (default `False`)\n",
       "    If `True`, the x-axis is log-scaled in cartesian coordinates.\n",
       "log_y: boolean (default `False`)\n",
       "    If `True`, the y-axis is log-scaled in cartesian coordinates.\n",
       "range_x: list of two numbers\n",
       "    If provided, overrides auto-scaling on the x-axis in cartesian\n",
       "    coordinates.\n",
       "range_y: list of two numbers\n",
       "    If provided, overrides auto-scaling on the y-axis in cartesian\n",
       "    coordinates.\n",
       "render_mode: str\n",
       "    One of `'auto'`, `'svg'` or `'webgl'`, default `'auto'` Controls the\n",
       "    browser API used to draw marks. `'svg`' is appropriate for figures of\n",
       "    less than 1000 data points, and will allow for fully-vectorized output.\n",
       "    `'webgl'` is likely necessary for acceptable performance above 1000\n",
       "    points but rasterizes part of the output.  `'auto'` uses heuristics to\n",
       "    choose the mode.\n",
       "title: str\n",
       "    The figure title.\n",
       "template: str or dict or plotly.graph_objects.layout.Template instance\n",
       "    The figure template name (must be a key in plotly.io.templates) or\n",
       "    definition.\n",
       "width: int (default `None`)\n",
       "    The figure width in pixels.\n",
       "height: int (default `None`)\n",
       "    The figure height in pixels.\n",
       "\n",
       "Returns\n",
       "-------\n",
       "    plotly.graph_objects.Figure\n",
       "\u001b[1;31mFile:\u001b[0m      c:\\users\\phili\\anaconda3\\envs\\vscode-env\\lib\\site-packages\\plotly\\express\\_chart_types.py\n",
       "\u001b[1;31mType:\u001b[0m      function"
      ]
     },
     "metadata": {},
     "output_type": "display_data"
    }
   ],
   "source": [
    "px.scatter?"
   ]
  },
  {
   "cell_type": "code",
   "execution_count": 14,
   "metadata": {
    "scrolled": true
   },
   "outputs": [
    {
     "data": {
      "text/plain": [
       "\u001b[1;31mSignature:\u001b[0m\n",
       "\u001b[0msns\u001b[0m\u001b[1;33m.\u001b[0m\u001b[0mscatterplot\u001b[0m\u001b[1;33m(\u001b[0m\u001b[1;33m\n",
       "\u001b[0m    \u001b[0mdata\u001b[0m\u001b[1;33m=\u001b[0m\u001b[1;32mNone\u001b[0m\u001b[1;33m,\u001b[0m\u001b[1;33m\n",
       "\u001b[0m    \u001b[1;33m*\u001b[0m\u001b[1;33m,\u001b[0m\u001b[1;33m\n",
       "\u001b[0m    \u001b[0mx\u001b[0m\u001b[1;33m=\u001b[0m\u001b[1;32mNone\u001b[0m\u001b[1;33m,\u001b[0m\u001b[1;33m\n",
       "\u001b[0m    \u001b[0my\u001b[0m\u001b[1;33m=\u001b[0m\u001b[1;32mNone\u001b[0m\u001b[1;33m,\u001b[0m\u001b[1;33m\n",
       "\u001b[0m    \u001b[0mhue\u001b[0m\u001b[1;33m=\u001b[0m\u001b[1;32mNone\u001b[0m\u001b[1;33m,\u001b[0m\u001b[1;33m\n",
       "\u001b[0m    \u001b[0msize\u001b[0m\u001b[1;33m=\u001b[0m\u001b[1;32mNone\u001b[0m\u001b[1;33m,\u001b[0m\u001b[1;33m\n",
       "\u001b[0m    \u001b[0mstyle\u001b[0m\u001b[1;33m=\u001b[0m\u001b[1;32mNone\u001b[0m\u001b[1;33m,\u001b[0m\u001b[1;33m\n",
       "\u001b[0m    \u001b[0mpalette\u001b[0m\u001b[1;33m=\u001b[0m\u001b[1;32mNone\u001b[0m\u001b[1;33m,\u001b[0m\u001b[1;33m\n",
       "\u001b[0m    \u001b[0mhue_order\u001b[0m\u001b[1;33m=\u001b[0m\u001b[1;32mNone\u001b[0m\u001b[1;33m,\u001b[0m\u001b[1;33m\n",
       "\u001b[0m    \u001b[0mhue_norm\u001b[0m\u001b[1;33m=\u001b[0m\u001b[1;32mNone\u001b[0m\u001b[1;33m,\u001b[0m\u001b[1;33m\n",
       "\u001b[0m    \u001b[0msizes\u001b[0m\u001b[1;33m=\u001b[0m\u001b[1;32mNone\u001b[0m\u001b[1;33m,\u001b[0m\u001b[1;33m\n",
       "\u001b[0m    \u001b[0msize_order\u001b[0m\u001b[1;33m=\u001b[0m\u001b[1;32mNone\u001b[0m\u001b[1;33m,\u001b[0m\u001b[1;33m\n",
       "\u001b[0m    \u001b[0msize_norm\u001b[0m\u001b[1;33m=\u001b[0m\u001b[1;32mNone\u001b[0m\u001b[1;33m,\u001b[0m\u001b[1;33m\n",
       "\u001b[0m    \u001b[0mmarkers\u001b[0m\u001b[1;33m=\u001b[0m\u001b[1;32mTrue\u001b[0m\u001b[1;33m,\u001b[0m\u001b[1;33m\n",
       "\u001b[0m    \u001b[0mstyle_order\u001b[0m\u001b[1;33m=\u001b[0m\u001b[1;32mNone\u001b[0m\u001b[1;33m,\u001b[0m\u001b[1;33m\n",
       "\u001b[0m    \u001b[0mlegend\u001b[0m\u001b[1;33m=\u001b[0m\u001b[1;34m'auto'\u001b[0m\u001b[1;33m,\u001b[0m\u001b[1;33m\n",
       "\u001b[0m    \u001b[0max\u001b[0m\u001b[1;33m=\u001b[0m\u001b[1;32mNone\u001b[0m\u001b[1;33m,\u001b[0m\u001b[1;33m\n",
       "\u001b[0m    \u001b[1;33m**\u001b[0m\u001b[0mkwargs\u001b[0m\u001b[1;33m,\u001b[0m\u001b[1;33m\n",
       "\u001b[0m\u001b[1;33m)\u001b[0m\u001b[1;33m\u001b[0m\u001b[1;33m\u001b[0m\u001b[0m\n",
       "\u001b[1;31mDocstring:\u001b[0m\n",
       "Draw a scatter plot with possibility of several semantic groupings.\n",
       "\n",
       "The relationship between `x` and `y` can be shown for different subsets\n",
       "of the data using the `hue`, `size`, and `style` parameters. These\n",
       "parameters control what visual semantics are used to identify the different\n",
       "subsets. It is possible to show up to three dimensions independently by\n",
       "using all three semantic types, but this style of plot can be hard to\n",
       "interpret and is often ineffective. Using redundant semantics (i.e. both\n",
       "`hue` and `style` for the same variable) can be helpful for making\n",
       "graphics more accessible.\n",
       "\n",
       "See the :ref:`tutorial <relational_tutorial>` for more information.\n",
       "\n",
       "The default treatment of the `hue` (and to a lesser extent, `size`)\n",
       "semantic, if present, depends on whether the variable is inferred to\n",
       "represent \"numeric\" or \"categorical\" data. In particular, numeric variables\n",
       "are represented with a sequential colormap by default, and the legend\n",
       "entries show regular \"ticks\" with values that may or may not exist in the\n",
       "data. This behavior can be controlled through various parameters, as\n",
       "described and illustrated below.\n",
       "\n",
       "Parameters\n",
       "----------\n",
       "data : :class:`pandas.DataFrame`, :class:`numpy.ndarray`, mapping, or sequence\n",
       "    Input data structure. Either a long-form collection of vectors that can be\n",
       "    assigned to named variables or a wide-form dataset that will be internally\n",
       "    reshaped.\n",
       "x, y : vectors or keys in ``data``\n",
       "    Variables that specify positions on the x and y axes.\n",
       "hue : vector or key in `data`\n",
       "    Grouping variable that will produce points with different colors.\n",
       "    Can be either categorical or numeric, although color mapping will\n",
       "    behave differently in latter case.\n",
       "size : vector or key in `data`\n",
       "    Grouping variable that will produce points with different sizes.\n",
       "    Can be either categorical or numeric, although size mapping will\n",
       "    behave differently in latter case.\n",
       "style : vector or key in `data`\n",
       "    Grouping variable that will produce points with different markers.\n",
       "    Can have a numeric dtype but will always be treated as categorical.\n",
       "palette : string, list, dict, or :class:`matplotlib.colors.Colormap`\n",
       "    Method for choosing the colors to use when mapping the ``hue`` semantic.\n",
       "    String values are passed to :func:`color_palette`. List or dict values\n",
       "    imply categorical mapping, while a colormap object implies numeric mapping.\n",
       "hue_order : vector of strings\n",
       "    Specify the order of processing and plotting for categorical levels of the\n",
       "    ``hue`` semantic.\n",
       "hue_norm : tuple or :class:`matplotlib.colors.Normalize`\n",
       "    Either a pair of values that set the normalization range in data units\n",
       "    or an object that will map from data units into a [0, 1] interval. Usage\n",
       "    implies numeric mapping.\n",
       "sizes : list, dict, or tuple\n",
       "    An object that determines how sizes are chosen when `size` is used.\n",
       "    List or dict arguments should provide a size for each unique data value,\n",
       "    which forces a categorical interpretation. The argument may also be a\n",
       "    min, max tuple.\n",
       "size_order : list\n",
       "    Specified order for appearance of the `size` variable levels,\n",
       "    otherwise they are determined from the data. Not relevant when the\n",
       "    `size` variable is numeric.\n",
       "size_norm : tuple or Normalize object\n",
       "    Normalization in data units for scaling plot objects when the\n",
       "    `size` variable is numeric.\n",
       "markers : boolean, list, or dictionary\n",
       "    Object determining how to draw the markers for different levels of the\n",
       "    `style` variable. Setting to `True` will use default markers, or\n",
       "    you can pass a list of markers or a dictionary mapping levels of the\n",
       "    `style` variable to markers. Setting to `False` will draw\n",
       "    marker-less lines.  Markers are specified as in matplotlib.\n",
       "style_order : list\n",
       "    Specified order for appearance of the `style` variable levels\n",
       "    otherwise they are determined from the data. Not relevant when the\n",
       "    `style` variable is numeric.\n",
       "legend : \"auto\", \"brief\", \"full\", or False\n",
       "    How to draw the legend. If \"brief\", numeric `hue` and `size`\n",
       "    variables will be represented with a sample of evenly spaced values.\n",
       "    If \"full\", every group will get an entry in the legend. If \"auto\",\n",
       "    choose between brief or full representation based on number of levels.\n",
       "    If `False`, no legend data is added and no legend is drawn.\n",
       "ax : :class:`matplotlib.axes.Axes`\n",
       "    Pre-existing axes for the plot. Otherwise, call :func:`matplotlib.pyplot.gca`\n",
       "    internally.\n",
       "kwargs : key, value mappings\n",
       "    Other keyword arguments are passed down to\n",
       "    :meth:`matplotlib.axes.Axes.scatter`.\n",
       "\n",
       "Returns\n",
       "-------\n",
       ":class:`matplotlib.axes.Axes`\n",
       "    The matplotlib axes containing the plot.\n",
       "\n",
       "See Also\n",
       "--------\n",
       "lineplot : Plot data using lines.\n",
       "stripplot : Plot a categorical scatter with jitter.\n",
       "swarmplot : Plot a categorical scatter with non-overlapping points.\n",
       "\n",
       "Examples\n",
       "--------\n",
       "\n",
       ".. include:: ../docstrings/scatterplot.rst\n",
       "\u001b[1;31mFile:\u001b[0m      c:\\users\\phili\\anaconda3\\envs\\vscode-env\\lib\\site-packages\\seaborn\\relational.py\n",
       "\u001b[1;31mType:\u001b[0m      function"
      ]
     },
     "metadata": {},
     "output_type": "display_data"
    }
   ],
   "source": [
    "sns.scatterplot?"
   ]
  },
  {
   "cell_type": "markdown",
   "metadata": {},
   "source": [
    "In both cases ```data``` (```sns```) or ```data_frame``` (```plotly```) is a ```pd.Dataframe``` instance and the ```flights``` example dataset from ```sns``` can be used:"
   ]
  },
  {
   "cell_type": "code",
   "execution_count": 15,
   "metadata": {},
   "outputs": [],
   "source": [
    "import load_dataset_fix\n",
    "flights = sns.load_dataset(name='flights')"
   ]
  },
  {
   "cell_type": "markdown",
   "metadata": {},
   "source": [
    "If the following are compared, the syntax is very similar:\n",
    "\n",
    "```python\n",
    "sns.lineplot(data=flights, x='year', y='passengers', hue='month')\n",
    "```\n",
    "\n",
    "```python\n",
    "px.line(data_frame=flights, x='year', y='passengers', color='month')\n",
    "```\n",
    "\n",
    "In the functions input arguments ```data``` becomes ```data_frame``` and ```hue``` becomes ```color```. Notice the ```sns``` (```mpl``` based) plot is a static image but the ```px``` plot is interactive:"
   ]
  },
  {
   "cell_type": "code",
   "execution_count": 16,
   "metadata": {},
   "outputs": [
    {
     "data": {
      "image/png": "[encoded data removed]",
      "text/plain": [
       "<Figure size 640x480 with 1 Axes>"
      ]
     },
     "metadata": {},
     "output_type": "display_data"
    }
   ],
   "source": [
    "sns.lineplot(data=flights, x='year', y='passengers', hue='month');"
   ]
  },
  {
   "cell_type": "code",
   "execution_count": 20,
   "metadata": {},
   "outputs": [
    {
     "data": {
      "application/vnd.plotly.v1+json": {
       "config": {
        "plotlyServerURL": "https://plot.ly"
       },
       "data": [
        {
         "hovertemplate": "month=Jan<br>year=%{x}<br>passengers=%{y}<extra></extra>",
         "legendgroup": "Jan",
         "line": {
          "color": "#636efa",
          "dash": "solid"
         },
         "marker": {
          "symbol": "circle"
         },
         "mode": "lines",
         "name": "Jan",
         "orientation": "v",
         "showlegend": true,
         "type": "scatter",
         "x": [
          1949,
          1950,
          1951,
          1952,
          1953,
          1954,
          1955,
          1956,
          1957,
          1958,
          1959,
          1960
         ],
         "xaxis": "x",
         "y": [
          112,
          115,
          145,
          171,
          196,
          204,
          242,
          284,
          315,
          340,
          360,
          417
         ],
         "yaxis": "y"
        },
        {
         "hovertemplate": "month=Feb<br>year=%{x}<br>passengers=%{y}<extra></extra>",
         "legendgroup": "Feb",
         "line": {
          "color": "#EF553B",
          "dash": "solid"
         },
         "marker": {
          "symbol": "circle"
         },
         "mode": "lines",
         "name": "Feb",
         "orientation": "v",
         "showlegend": true,
         "type": "scatter",
         "x": [
          1949,
          1950,
          1951,
          1952,
          1953,
          1954,
          1955,
          1956,
          1957,
          1958,
          1959,
          1960
         ],
         "xaxis": "x",
         "y": [
          118,
          126,
          150,
          180,
          196,
          188,
          233,
          277,
          301,
          318,
          342,
          391
         ],
         "yaxis": "y"
        },
        {
         "hovertemplate": "month=Mar<br>year=%{x}<br>passengers=%{y}<extra></extra>",
         "legendgroup": "Mar",
         "line": {
          "color": "#00cc96",
          "dash": "solid"
         },
         "marker": {
          "symbol": "circle"
         },
         "mode": "lines",
         "name": "Mar",
         "orientation": "v",
         "showlegend": true,
         "type": "scatter",
         "x": [
          1949,
          1950,
          1951,
          1952,
          1953,
          1954,
          1955,
          1956,
          1957,
          1958,
          1959,
          1960
         ],
         "xaxis": "x",
         "y": [
          132,
          141,
          178,
          193,
          236,
          235,
          267,
          317,
          356,
          362,
          406,
          419
         ],
         "yaxis": "y"
        },
        {
         "hovertemplate": "month=Apr<br>year=%{x}<br>passengers=%{y}<extra></extra>",
         "legendgroup": "Apr",
         "line": {
          "color": "#ab63fa",
          "dash": "solid"
         },
         "marker": {
          "symbol": "circle"
         },
         "mode": "lines",
         "name": "Apr",
         "orientation": "v",
         "showlegend": true,
         "type": "scatter",
         "x": [
          1949,
          1950,
          1951,
          1952,
          1953,
          1954,
          1955,
          1956,
          1957,
          1958,
          1959,
          1960
         ],
         "xaxis": "x",
         "y": [
          129,
          135,
          163,
          181,
          235,
          227,
          269,
          313,
          348,
          348,
          396,
          461
         ],
         "yaxis": "y"
        },
        {
         "hovertemplate": "month=May<br>year=%{x}<br>passengers=%{y}<extra></extra>",
         "legendgroup": "May",
         "line": {
          "color": "#FFA15A",
          "dash": "solid"
         },
         "marker": {
          "symbol": "circle"
         },
         "mode": "lines",
         "name": "May",
         "orientation": "v",
         "showlegend": true,
         "type": "scatter",
         "x": [
          1949,
          1950,
          1951,
          1952,
          1953,
          1954,
          1955,
          1956,
          1957,
          1958,
          1959,
          1960
         ],
         "xaxis": "x",
         "y": [
          121,
          125,
          172,
          183,
          229,
          234,
          270,
          318,
          355,
          363,
          420,
          472
         ],
         "yaxis": "y"
        },
        {
         "hovertemplate": "month=Jun<br>year=%{x}<br>passengers=%{y}<extra></extra>",
         "legendgroup": "Jun",
         "line": {
          "color": "#19d3f3",
          "dash": "solid"
         },
         "marker": {
          "symbol": "circle"
         },
         "mode": "lines",
         "name": "Jun",
         "orientation": "v",
         "showlegend": true,
         "type": "scatter",
         "x": [
          1949,
          1950,
          1951,
          1952,
          1953,
          1954,
          1955,
          1956,
          1957,
          1958,
          1959,
          1960
         ],
         "xaxis": "x",
         "y": [
          135,
          149,
          178,
          218,
          243,
          264,
          315,
          374,
          422,
          435,
          472,
          535
         ],
         "yaxis": "y"
        },
        {
         "hovertemplate": "month=Jul<br>year=%{x}<br>passengers=%{y}<extra></extra>",
         "legendgroup": "Jul",
         "line": {
          "color": "#FF6692",
          "dash": "solid"
         },
         "marker": {
          "symbol": "circle"
         },
         "mode": "lines",
         "name": "Jul",
         "orientation": "v",
         "showlegend": true,
         "type": "scatter",
         "x": [
          1949,
          1950,
          1951,
          1952,
          1953,
          1954,
          1955,
          1956,
          1957,
          1958,
          1959,
          1960
         ],
         "xaxis": "x",
         "y": [
          148,
          170,
          199,
          230,
          264,
          302,
          364,
          413,
          465,
          491,
          548,
          622
         ],
         "yaxis": "y"
        },
        {
         "hovertemplate": "month=Aug<br>year=%{x}<br>passengers=%{y}<extra></extra>",
         "legendgroup": "Aug",
         "line": {
          "color": "#B6E880",
          "dash": "solid"
         },
         "marker": {
          "symbol": "circle"
         },
         "mode": "lines",
         "name": "Aug",
         "orientation": "v",
         "showlegend": true,
         "type": "scatter",
         "x": [
          1949,
          1950,
          1951,
          1952,
          1953,
          1954,
          1955,
          1956,
          1957,
          1958,
          1959,
          1960
         ],
         "xaxis": "x",
         "y": [
          148,
          170,
          199,
          242,
          272,
          293,
          347,
          405,
          467,
          505,
          559,
          606
         ],
         "yaxis": "y"
        },
        {
         "hovertemplate": "month=Sep<br>year=%{x}<br>passengers=%{y}<extra></extra>",
         "legendgroup": "Sep",
         "line": {
          "color": "#FF97FF",
          "dash": "solid"
         },
         "marker": {
          "symbol": "circle"
         },
         "mode": "lines",
         "name": "Sep",
         "orientation": "v",
         "showlegend": true,
         "type": "scatter",
         "x": [
          1949,
          1950,
          1951,
          1952,
          1953,
          1954,
          1955,
          1956,
          1957,
          1958,
          1959,
          1960
         ],
         "xaxis": "x",
         "y": [
          136,
          158,
          184,
          209,
          237,
          259,
          312,
          355,
          404,
          404,
          463,
          508
         ],
         "yaxis": "y"
        },
        {
         "hovertemplate": "month=Oct<br>year=%{x}<br>passengers=%{y}<extra></extra>",
         "legendgroup": "Oct",
         "line": {
          "color": "#FECB52",
          "dash": "solid"
         },
         "marker": {
          "symbol": "circle"
         },
         "mode": "lines",
         "name": "Oct",
         "orientation": "v",
         "showlegend": true,
         "type": "scatter",
         "x": [
          1949,
          1950,
          1951,
          1952,
          1953,
          1954,
          1955,
          1956,
          1957,
          1958,
          1959,
          1960
         ],
         "xaxis": "x",
         "y": [
          119,
          133,
          162,
          191,
          211,
          229,
          274,
          306,
          347,
          359,
          407,
          461
         ],
         "yaxis": "y"
        },
        {
         "hovertemplate": "month=Nov<br>year=%{x}<br>passengers=%{y}<extra></extra>",
         "legendgroup": "Nov",
         "line": {
          "color": "#636efa",
          "dash": "solid"
         },
         "marker": {
          "symbol": "circle"
         },
         "mode": "lines",
         "name": "Nov",
         "orientation": "v",
         "showlegend": true,
         "type": "scatter",
         "x": [
          1949,
          1950,
          1951,
          1952,
          1953,
          1954,
          1955,
          1956,
          1957,
          1958,
          1959,
          1960
         ],
         "xaxis": "x",
         "y": [
          104,
          114,
          146,
          172,
          180,
          203,
          237,
          271,
          305,
          310,
          362,
          390
         ],
         "yaxis": "y"
        },
        {
         "hovertemplate": "month=Dec<br>year=%{x}<br>passengers=%{y}<extra></extra>",
         "legendgroup": "Dec",
         "line": {
          "color": "#EF553B",
          "dash": "solid"
         },
         "marker": {
          "symbol": "circle"
         },
         "mode": "lines",
         "name": "Dec",
         "orientation": "v",
         "showlegend": true,
         "type": "scatter",
         "x": [
          1949,
          1950,
          1951,
          1952,
          1953,
          1954,
          1955,
          1956,
          1957,
          1958,
          1959,
          1960
         ],
         "xaxis": "x",
         "y": [
          118,
          140,
          166,
          194,
          201,
          229,
          278,
          306,
          336,
          337,
          405,
          432
         ],
         "yaxis": "y"
        }
       ],
       "layout": {
        "autosize": true,
        "legend": {
         "title": {
          "text": "month"
         },
         "tracegroupgap": 0
        },
        "margin": {
         "t": 60
        },
        "template": {
         "data": {
          "bar": [
           {
            "error_x": {
             "color": "#2a3f5f"
            },
            "error_y": {
             "color": "#2a3f5f"
            },
            "marker": {
             "line": {
              "color": "#E5ECF6",
              "width": 0.5
             },
             "pattern": {
              "fillmode": "overlay",
              "size": 10,
              "solidity": 0.2
             }
            },
            "type": "bar"
           }
          ],
          "barpolar": [
           {
            "marker": {
             "line": {
              "color": "#E5ECF6",
              "width": 0.5
             },
             "pattern": {
              "fillmode": "overlay",
              "size": 10,
              "solidity": 0.2
             }
            },
            "type": "barpolar"
           }
          ],
          "carpet": [
           {
            "aaxis": {
             "endlinecolor": "#2a3f5f",
             "gridcolor": "white",
             "linecolor": "white",
             "minorgridcolor": "white",
             "startlinecolor": "#2a3f5f"
            },
            "baxis": {
             "endlinecolor": "#2a3f5f",
             "gridcolor": "white",
             "linecolor": "white",
             "minorgridcolor": "white",
             "startlinecolor": "#2a3f5f"
            },
            "type": "carpet"
           }
          ],
          "choropleth": [
           {
            "colorbar": {
             "outlinewidth": 0,
             "ticks": ""
            },
            "type": "choropleth"
           }
          ],
          "contour": [
           {
            "colorbar": {
             "outlinewidth": 0,
             "ticks": ""
            },
            "colorscale": [
             [
              0,
              "#0d0887"
             ],
             [
              0.1111111111111111,
              "#46039f"
             ],
             [
              0.2222222222222222,
              "#7201a8"
             ],
             [
              0.3333333333333333,
              "#9c179e"
             ],
             [
              0.4444444444444444,
              "#bd3786"
             ],
             [
              0.5555555555555556,
              "#d8576b"
             ],
             [
              0.6666666666666666,
              "#ed7953"
             ],
             [
              0.7777777777777778,
              "#fb9f3a"
             ],
             [
              0.8888888888888888,
              "#fdca26"
             ],
             [
              1,
              "#f0f921"
             ]
            ],
            "type": "contour"
           }
          ],
          "contourcarpet": [
           {
            "colorbar": {
             "outlinewidth": 0,
             "ticks": ""
            },
            "type": "contourcarpet"
           }
          ],
          "heatmap": [
           {
            "colorbar": {
             "outlinewidth": 0,
             "ticks": ""
            },
            "colorscale": [
             [
              0,
              "#0d0887"
             ],
             [
              0.1111111111111111,
              "#46039f"
             ],
             [
              0.2222222222222222,
              "#7201a8"
             ],
             [
              0.3333333333333333,
              "#9c179e"
             ],
             [
              0.4444444444444444,
              "#bd3786"
             ],
             [
              0.5555555555555556,
              "#d8576b"
             ],
             [
              0.6666666666666666,
              "#ed7953"
             ],
             [
              0.7777777777777778,
              "#fb9f3a"
             ],
             [
              0.8888888888888888,
              "#fdca26"
             ],
             [
              1,
              "#f0f921"
             ]
            ],
            "type": "heatmap"
           }
          ],
          "heatmapgl": [
           {
            "colorbar": {
             "outlinewidth": 0,
             "ticks": ""
            },
            "colorscale": [
             [
              0,
              "#0d0887"
             ],
             [
              0.1111111111111111,
              "#46039f"
             ],
             [
              0.2222222222222222,
              "#7201a8"
             ],
             [
              0.3333333333333333,
              "#9c179e"
             ],
             [
              0.4444444444444444,
              "#bd3786"
             ],
             [
              0.5555555555555556,
              "#d8576b"
             ],
             [
              0.6666666666666666,
              "#ed7953"
             ],
             [
              0.7777777777777778,
              "#fb9f3a"
             ],
             [
              0.8888888888888888,
              "#fdca26"
             ],
             [
              1,
              "#f0f921"
             ]
            ],
            "type": "heatmapgl"
           }
          ],
          "histogram": [
           {
            "marker": {
             "pattern": {
              "fillmode": "overlay",
              "size": 10,
              "solidity": 0.2
             }
            },
            "type": "histogram"
           }
          ],
          "histogram2d": [
           {
            "colorbar": {
             "outlinewidth": 0,
             "ticks": ""
            },
            "colorscale": [
             [
              0,
              "#0d0887"
             ],
             [
              0.1111111111111111,
              "#46039f"
             ],
             [
              0.2222222222222222,
              "#7201a8"
             ],
             [
              0.3333333333333333,
              "#9c179e"
             ],
             [
              0.4444444444444444,
              "#bd3786"
             ],
             [
              0.5555555555555556,
              "#d8576b"
             ],
             [
              0.6666666666666666,
              "#ed7953"
             ],
             [
              0.7777777777777778,
              "#fb9f3a"
             ],
             [
              0.8888888888888888,
              "#fdca26"
             ],
             [
              1,
              "#f0f921"
             ]
            ],
            "type": "histogram2d"
           }
          ],
          "histogram2dcontour": [
           {
            "colorbar": {
             "outlinewidth": 0,
             "ticks": ""
            },
            "colorscale": [
             [
              0,
              "#0d0887"
             ],
             [
              0.1111111111111111,
              "#46039f"
             ],
             [
              0.2222222222222222,
              "#7201a8"
             ],
             [
              0.3333333333333333,
              "#9c179e"
             ],
             [
              0.4444444444444444,
              "#bd3786"
             ],
             [
              0.5555555555555556,
              "#d8576b"
             ],
             [
              0.6666666666666666,
              "#ed7953"
             ],
             [
              0.7777777777777778,
              "#fb9f3a"
             ],
             [
              0.8888888888888888,
              "#fdca26"
             ],
             [
              1,
              "#f0f921"
             ]
            ],
            "type": "histogram2dcontour"
           }
          ],
          "mesh3d": [
           {
            "colorbar": {
             "outlinewidth": 0,
             "ticks": ""
            },
            "type": "mesh3d"
           }
          ],
          "parcoords": [
           {
            "line": {
             "colorbar": {
              "outlinewidth": 0,
              "ticks": ""
             }
            },
            "type": "parcoords"
           }
          ],
          "pie": [
           {
            "automargin": true,
            "type": "pie"
           }
          ],
          "scatter": [
           {
            "fillpattern": {
             "fillmode": "overlay",
             "size": 10,
             "solidity": 0.2
            },
            "type": "scatter"
           }
          ],
          "scatter3d": [
           {
            "line": {
             "colorbar": {
              "outlinewidth": 0,
              "ticks": ""
             }
            },
            "marker": {
             "colorbar": {
              "outlinewidth": 0,
              "ticks": ""
             }
            },
            "type": "scatter3d"
           }
          ],
          "scattercarpet": [
           {
            "marker": {
             "colorbar": {
              "outlinewidth": 0,
              "ticks": ""
             }
            },
            "type": "scattercarpet"
           }
          ],
          "scattergeo": [
           {
            "marker": {
             "colorbar": {
              "outlinewidth": 0,
              "ticks": ""
             }
            },
            "type": "scattergeo"
           }
          ],
          "scattergl": [
           {
            "marker": {
             "colorbar": {
              "outlinewidth": 0,
              "ticks": ""
             }
            },
            "type": "scattergl"
           }
          ],
          "scattermapbox": [
           {
            "marker": {
             "colorbar": {
              "outlinewidth": 0,
              "ticks": ""
             }
            },
            "type": "scattermapbox"
           }
          ],
          "scatterpolar": [
           {
            "marker": {
             "colorbar": {
              "outlinewidth": 0,
              "ticks": ""
             }
            },
            "type": "scatterpolar"
           }
          ],
          "scatterpolargl": [
           {
            "marker": {
             "colorbar": {
              "outlinewidth": 0,
              "ticks": ""
             }
            },
            "type": "scatterpolargl"
           }
          ],
          "scatterternary": [
           {
            "marker": {
             "colorbar": {
              "outlinewidth": 0,
              "ticks": ""
             }
            },
            "type": "scatterternary"
           }
          ],
          "surface": [
           {
            "colorbar": {
             "outlinewidth": 0,
             "ticks": ""
            },
            "colorscale": [
             [
              0,
              "#0d0887"
             ],
             [
              0.1111111111111111,
              "#46039f"
             ],
             [
              0.2222222222222222,
              "#7201a8"
             ],
             [
              0.3333333333333333,
              "#9c179e"
             ],
             [
              0.4444444444444444,
              "#bd3786"
             ],
             [
              0.5555555555555556,
              "#d8576b"
             ],
             [
              0.6666666666666666,
              "#ed7953"
             ],
             [
              0.7777777777777778,
              "#fb9f3a"
             ],
             [
              0.8888888888888888,
              "#fdca26"
             ],
             [
              1,
              "#f0f921"
             ]
            ],
            "type": "surface"
           }
          ],
          "table": [
           {
            "cells": {
             "fill": {
              "color": "#EBF0F8"
             },
             "line": {
              "color": "white"
             }
            },
            "header": {
             "fill": {
              "color": "#C8D4E3"
             },
             "line": {
              "color": "white"
             }
            },
            "type": "table"
           }
          ]
         },
         "layout": {
          "annotationdefaults": {
           "arrowcolor": "#2a3f5f",
           "arrowhead": 0,
           "arrowwidth": 1
          },
          "autotypenumbers": "strict",
          "coloraxis": {
           "colorbar": {
            "outlinewidth": 0,
            "ticks": ""
           }
          },
          "colorscale": {
           "diverging": [
            [
             0,
             "#8e0152"
            ],
            [
             0.1,
             "#c51b7d"
            ],
            [
             0.2,
             "#de77ae"
            ],
            [
             0.3,
             "#f1b6da"
            ],
            [
             0.4,
             "#fde0ef"
            ],
            [
             0.5,
             "#f7f7f7"
            ],
            [
             0.6,
             "#e6f5d0"
            ],
            [
             0.7,
             "#b8e186"
            ],
            [
             0.8,
             "#7fbc41"
            ],
            [
             0.9,
             "#4d9221"
            ],
            [
             1,
             "#276419"
            ]
           ],
           "sequential": [
            [
             0,
             "#0d0887"
            ],
            [
             0.1111111111111111,
             "#46039f"
            ],
            [
             0.2222222222222222,
             "#7201a8"
            ],
            [
             0.3333333333333333,
             "#9c179e"
            ],
            [
             0.4444444444444444,
             "#bd3786"
            ],
            [
             0.5555555555555556,
             "#d8576b"
            ],
            [
             0.6666666666666666,
             "#ed7953"
            ],
            [
             0.7777777777777778,
             "#fb9f3a"
            ],
            [
             0.8888888888888888,
             "#fdca26"
            ],
            [
             1,
             "#f0f921"
            ]
           ],
           "sequentialminus": [
            [
             0,
             "#0d0887"
            ],
            [
             0.1111111111111111,
             "#46039f"
            ],
            [
             0.2222222222222222,
             "#7201a8"
            ],
            [
             0.3333333333333333,
             "#9c179e"
            ],
            [
             0.4444444444444444,
             "#bd3786"
            ],
            [
             0.5555555555555556,
             "#d8576b"
            ],
            [
             0.6666666666666666,
             "#ed7953"
            ],
            [
             0.7777777777777778,
             "#fb9f3a"
            ],
            [
             0.8888888888888888,
             "#fdca26"
            ],
            [
             1,
             "#f0f921"
            ]
           ]
          },
          "colorway": [
           "#636efa",
           "#EF553B",
           "#00cc96",
           "#ab63fa",
           "#FFA15A",
           "#19d3f3",
           "#FF6692",
           "#B6E880",
           "#FF97FF",
           "#FECB52"
          ],
          "font": {
           "color": "#2a3f5f"
          },
          "geo": {
           "bgcolor": "white",
           "lakecolor": "white",
           "landcolor": "#E5ECF6",
           "showlakes": true,
           "showland": true,
           "subunitcolor": "white"
          },
          "hoverlabel": {
           "align": "left"
          },
          "hovermode": "closest",
          "mapbox": {
           "style": "light"
          },
          "paper_bgcolor": "white",
          "plot_bgcolor": "#E5ECF6",
          "polar": {
           "angularaxis": {
            "gridcolor": "white",
            "linecolor": "white",
            "ticks": ""
           },
           "bgcolor": "#E5ECF6",
           "radialaxis": {
            "gridcolor": "white",
            "linecolor": "white",
            "ticks": ""
           }
          },
          "scene": {
           "xaxis": {
            "backgroundcolor": "#E5ECF6",
            "gridcolor": "white",
            "gridwidth": 2,
            "linecolor": "white",
            "showbackground": true,
            "ticks": "",
            "zerolinecolor": "white"
           },
           "yaxis": {
            "backgroundcolor": "#E5ECF6",
            "gridcolor": "white",
            "gridwidth": 2,
            "linecolor": "white",
            "showbackground": true,
            "ticks": "",
            "zerolinecolor": "white"
           },
           "zaxis": {
            "backgroundcolor": "#E5ECF6",
            "gridcolor": "white",
            "gridwidth": 2,
            "linecolor": "white",
            "showbackground": true,
            "ticks": "",
            "zerolinecolor": "white"
           }
          },
          "shapedefaults": {
           "line": {
            "color": "#2a3f5f"
           }
          },
          "ternary": {
           "aaxis": {
            "gridcolor": "white",
            "linecolor": "white",
            "ticks": ""
           },
           "baxis": {
            "gridcolor": "white",
            "linecolor": "white",
            "ticks": ""
           },
           "bgcolor": "#E5ECF6",
           "caxis": {
            "gridcolor": "white",
            "linecolor": "white",
            "ticks": ""
           }
          },
          "title": {
           "x": 0.05
          },
          "xaxis": {
           "automargin": true,
           "gridcolor": "white",
           "linecolor": "white",
           "ticks": "",
           "title": {
            "standoff": 15
           },
           "zerolinecolor": "white",
           "zerolinewidth": 2
          },
          "yaxis": {
           "automargin": true,
           "gridcolor": "white",
           "linecolor": "white",
           "ticks": "",
           "title": {
            "standoff": 15
           },
           "zerolinecolor": "white",
           "zerolinewidth": 2
          }
         }
        },
        "xaxis": {
         "anchor": "y",
         "autorange": true,
         "domain": [
          0,
          1
         ],
         "range": [
          1949,
          1960
         ],
         "title": {
          "text": "year"
         },
         "type": "linear"
        },
        "yaxis": {
         "anchor": "x",
         "autorange": true,
         "domain": [
          0,
          1
         ],
         "range": [
          75.22222222222223,
          650.7777777777778
         ],
         "title": {
          "text": "passengers"
         },
         "type": "linear"
        }
       }
      },
      "image/png": "[encoded data removed]",
      "text/html": [
       "<div>                            <div id=\"ce57de2c-cc72-4520-ae25-9325fc45e4ba\" class=\"plotly-graph-div\" style=\"height:525px; width:100%;\"></div>            <script type=\"text/javascript\">                require([\"plotly\"], function(Plotly) {                    window.PLOTLYENV=window.PLOTLYENV || {};                                    if (document.getElementById(\"ce57de2c-cc72-4520-ae25-9325fc45e4ba\")) {                    Plotly.newPlot(                        \"ce57de2c-cc72-4520-ae25-9325fc45e4ba\",                        [{\"hovertemplate\":\"month=Jan\\u003cbr\\u003eyear=%{x}\\u003cbr\\u003epassengers=%{y}\\u003cextra\\u003e\\u003c\\u002fextra\\u003e\",\"legendgroup\":\"Jan\",\"line\":{\"color\":\"#636efa\",\"dash\":\"solid\"},\"marker\":{\"symbol\":\"circle\"},\"mode\":\"lines\",\"name\":\"Jan\",\"orientation\":\"v\",\"showlegend\":true,\"x\":[1949,1950,1951,1952,1953,1954,1955,1956,1957,1958,1959,1960],\"xaxis\":\"x\",\"y\":[112,115,145,171,196,204,242,284,315,340,360,417],\"yaxis\":\"y\",\"type\":\"scatter\"},{\"hovertemplate\":\"month=Feb\\u003cbr\\u003eyear=%{x}\\u003cbr\\u003epassengers=%{y}\\u003cextra\\u003e\\u003c\\u002fextra\\u003e\",\"legendgroup\":\"Feb\",\"line\":{\"color\":\"#EF553B\",\"dash\":\"solid\"},\"marker\":{\"symbol\":\"circle\"},\"mode\":\"lines\",\"name\":\"Feb\",\"orientation\":\"v\",\"showlegend\":true,\"x\":[1949,1950,1951,1952,1953,1954,1955,1956,1957,1958,1959,1960],\"xaxis\":\"x\",\"y\":[118,126,150,180,196,188,233,277,301,318,342,391],\"yaxis\":\"y\",\"type\":\"scatter\"},{\"hovertemplate\":\"month=Mar\\u003cbr\\u003eyear=%{x}\\u003cbr\\u003epassengers=%{y}\\u003cextra\\u003e\\u003c\\u002fextra\\u003e\",\"legendgroup\":\"Mar\",\"line\":{\"color\":\"#00cc96\",\"dash\":\"solid\"},\"marker\":{\"symbol\":\"circle\"},\"mode\":\"lines\",\"name\":\"Mar\",\"orientation\":\"v\",\"showlegend\":true,\"x\":[1949,1950,1951,1952,1953,1954,1955,1956,1957,1958,1959,1960],\"xaxis\":\"x\",\"y\":[132,141,178,193,236,235,267,317,356,362,406,419],\"yaxis\":\"y\",\"type\":\"scatter\"},{\"hovertemplate\":\"month=Apr\\u003cbr\\u003eyear=%{x}\\u003cbr\\u003epassengers=%{y}\\u003cextra\\u003e\\u003c\\u002fextra\\u003e\",\"legendgroup\":\"Apr\",\"line\":{\"color\":\"#ab63fa\",\"dash\":\"solid\"},\"marker\":{\"symbol\":\"circle\"},\"mode\":\"lines\",\"name\":\"Apr\",\"orientation\":\"v\",\"showlegend\":true,\"x\":[1949,1950,1951,1952,1953,1954,1955,1956,1957,1958,1959,1960],\"xaxis\":\"x\",\"y\":[129,135,163,181,235,227,269,313,348,348,396,461],\"yaxis\":\"y\",\"type\":\"scatter\"},{\"hovertemplate\":\"month=May\\u003cbr\\u003eyear=%{x}\\u003cbr\\u003epassengers=%{y}\\u003cextra\\u003e\\u003c\\u002fextra\\u003e\",\"legendgroup\":\"May\",\"line\":{\"color\":\"#FFA15A\",\"dash\":\"solid\"},\"marker\":{\"symbol\":\"circle\"},\"mode\":\"lines\",\"name\":\"May\",\"orientation\":\"v\",\"showlegend\":true,\"x\":[1949,1950,1951,1952,1953,1954,1955,1956,1957,1958,1959,1960],\"xaxis\":\"x\",\"y\":[121,125,172,183,229,234,270,318,355,363,420,472],\"yaxis\":\"y\",\"type\":\"scatter\"},{\"hovertemplate\":\"month=Jun\\u003cbr\\u003eyear=%{x}\\u003cbr\\u003epassengers=%{y}\\u003cextra\\u003e\\u003c\\u002fextra\\u003e\",\"legendgroup\":\"Jun\",\"line\":{\"color\":\"#19d3f3\",\"dash\":\"solid\"},\"marker\":{\"symbol\":\"circle\"},\"mode\":\"lines\",\"name\":\"Jun\",\"orientation\":\"v\",\"showlegend\":true,\"x\":[1949,1950,1951,1952,1953,1954,1955,1956,1957,1958,1959,1960],\"xaxis\":\"x\",\"y\":[135,149,178,218,243,264,315,374,422,435,472,535],\"yaxis\":\"y\",\"type\":\"scatter\"},{\"hovertemplate\":\"month=Jul\\u003cbr\\u003eyear=%{x}\\u003cbr\\u003epassengers=%{y}\\u003cextra\\u003e\\u003c\\u002fextra\\u003e\",\"legendgroup\":\"Jul\",\"line\":{\"color\":\"#FF6692\",\"dash\":\"solid\"},\"marker\":{\"symbol\":\"circle\"},\"mode\":\"lines\",\"name\":\"Jul\",\"orientation\":\"v\",\"showlegend\":true,\"x\":[1949,1950,1951,1952,1953,1954,1955,1956,1957,1958,1959,1960],\"xaxis\":\"x\",\"y\":[148,170,199,230,264,302,364,413,465,491,548,622],\"yaxis\":\"y\",\"type\":\"scatter\"},{\"hovertemplate\":\"month=Aug\\u003cbr\\u003eyear=%{x}\\u003cbr\\u003epassengers=%{y}\\u003cextra\\u003e\\u003c\\u002fextra\\u003e\",\"legendgroup\":\"Aug\",\"line\":{\"color\":\"#B6E880\",\"dash\":\"solid\"},\"marker\":{\"symbol\":\"circle\"},\"mode\":\"lines\",\"name\":\"Aug\",\"orientation\":\"v\",\"showlegend\":true,\"x\":[1949,1950,1951,1952,1953,1954,1955,1956,1957,1958,1959,1960],\"xaxis\":\"x\",\"y\":[148,170,199,242,272,293,347,405,467,505,559,606],\"yaxis\":\"y\",\"type\":\"scatter\"},{\"hovertemplate\":\"month=Sep\\u003cbr\\u003eyear=%{x}\\u003cbr\\u003epassengers=%{y}\\u003cextra\\u003e\\u003c\\u002fextra\\u003e\",\"legendgroup\":\"Sep\",\"line\":{\"color\":\"#FF97FF\",\"dash\":\"solid\"},\"marker\":{\"symbol\":\"circle\"},\"mode\":\"lines\",\"name\":\"Sep\",\"orientation\":\"v\",\"showlegend\":true,\"x\":[1949,1950,1951,1952,1953,1954,1955,1956,1957,1958,1959,1960],\"xaxis\":\"x\",\"y\":[136,158,184,209,237,259,312,355,404,404,463,508],\"yaxis\":\"y\",\"type\":\"scatter\"},{\"hovertemplate\":\"month=Oct\\u003cbr\\u003eyear=%{x}\\u003cbr\\u003epassengers=%{y}\\u003cextra\\u003e\\u003c\\u002fextra\\u003e\",\"legendgroup\":\"Oct\",\"line\":{\"color\":\"#FECB52\",\"dash\":\"solid\"},\"marker\":{\"symbol\":\"circle\"},\"mode\":\"lines\",\"name\":\"Oct\",\"orientation\":\"v\",\"showlegend\":true,\"x\":[1949,1950,1951,1952,1953,1954,1955,1956,1957,1958,1959,1960],\"xaxis\":\"x\",\"y\":[119,133,162,191,211,229,274,306,347,359,407,461],\"yaxis\":\"y\",\"type\":\"scatter\"},{\"hovertemplate\":\"month=Nov\\u003cbr\\u003eyear=%{x}\\u003cbr\\u003epassengers=%{y}\\u003cextra\\u003e\\u003c\\u002fextra\\u003e\",\"legendgroup\":\"Nov\",\"line\":{\"color\":\"#636efa\",\"dash\":\"solid\"},\"marker\":{\"symbol\":\"circle\"},\"mode\":\"lines\",\"name\":\"Nov\",\"orientation\":\"v\",\"showlegend\":true,\"x\":[1949,1950,1951,1952,1953,1954,1955,1956,1957,1958,1959,1960],\"xaxis\":\"x\",\"y\":[104,114,146,172,180,203,237,271,305,310,362,390],\"yaxis\":\"y\",\"type\":\"scatter\"},{\"hovertemplate\":\"month=Dec\\u003cbr\\u003eyear=%{x}\\u003cbr\\u003epassengers=%{y}\\u003cextra\\u003e\\u003c\\u002fextra\\u003e\",\"legendgroup\":\"Dec\",\"line\":{\"color\":\"#EF553B\",\"dash\":\"solid\"},\"marker\":{\"symbol\":\"circle\"},\"mode\":\"lines\",\"name\":\"Dec\",\"orientation\":\"v\",\"showlegend\":true,\"x\":[1949,1950,1951,1952,1953,1954,1955,1956,1957,1958,1959,1960],\"xaxis\":\"x\",\"y\":[118,140,166,194,201,229,278,306,336,337,405,432],\"yaxis\":\"y\",\"type\":\"scatter\"}],                        {\"template\":{\"data\":{\"histogram2dcontour\":[{\"type\":\"histogram2dcontour\",\"colorbar\":{\"outlinewidth\":0,\"ticks\":\"\"},\"colorscale\":[[0.0,\"#0d0887\"],[0.1111111111111111,\"#46039f\"],[0.2222222222222222,\"#7201a8\"],[0.3333333333333333,\"#9c179e\"],[0.4444444444444444,\"#bd3786\"],[0.5555555555555556,\"#d8576b\"],[0.6666666666666666,\"#ed7953\"],[0.7777777777777778,\"#fb9f3a\"],[0.8888888888888888,\"#fdca26\"],[1.0,\"#f0f921\"]]}],\"choropleth\":[{\"type\":\"choropleth\",\"colorbar\":{\"outlinewidth\":0,\"ticks\":\"\"}}],\"histogram2d\":[{\"type\":\"histogram2d\",\"colorbar\":{\"outlinewidth\":0,\"ticks\":\"\"},\"colorscale\":[[0.0,\"#0d0887\"],[0.1111111111111111,\"#46039f\"],[0.2222222222222222,\"#7201a8\"],[0.3333333333333333,\"#9c179e\"],[0.4444444444444444,\"#bd3786\"],[0.5555555555555556,\"#d8576b\"],[0.6666666666666666,\"#ed7953\"],[0.7777777777777778,\"#fb9f3a\"],[0.8888888888888888,\"#fdca26\"],[1.0,\"#f0f921\"]]}],\"heatmap\":[{\"type\":\"heatmap\",\"colorbar\":{\"outlinewidth\":0,\"ticks\":\"\"},\"colorscale\":[[0.0,\"#0d0887\"],[0.1111111111111111,\"#46039f\"],[0.2222222222222222,\"#7201a8\"],[0.3333333333333333,\"#9c179e\"],[0.4444444444444444,\"#bd3786\"],[0.5555555555555556,\"#d8576b\"],[0.6666666666666666,\"#ed7953\"],[0.7777777777777778,\"#fb9f3a\"],[0.8888888888888888,\"#fdca26\"],[1.0,\"#f0f921\"]]}],\"heatmapgl\":[{\"type\":\"heatmapgl\",\"colorbar\":{\"outlinewidth\":0,\"ticks\":\"\"},\"colorscale\":[[0.0,\"#0d0887\"],[0.1111111111111111,\"#46039f\"],[0.2222222222222222,\"#7201a8\"],[0.3333333333333333,\"#9c179e\"],[0.4444444444444444,\"#bd3786\"],[0.5555555555555556,\"#d8576b\"],[0.6666666666666666,\"#ed7953\"],[0.7777777777777778,\"#fb9f3a\"],[0.8888888888888888,\"#fdca26\"],[1.0,\"#f0f921\"]]}],\"contourcarpet\":[{\"type\":\"contourcarpet\",\"colorbar\":{\"outlinewidth\":0,\"ticks\":\"\"}}],\"contour\":[{\"type\":\"contour\",\"colorbar\":{\"outlinewidth\":0,\"ticks\":\"\"},\"colorscale\":[[0.0,\"#0d0887\"],[0.1111111111111111,\"#46039f\"],[0.2222222222222222,\"#7201a8\"],[0.3333333333333333,\"#9c179e\"],[0.4444444444444444,\"#bd3786\"],[0.5555555555555556,\"#d8576b\"],[0.6666666666666666,\"#ed7953\"],[0.7777777777777778,\"#fb9f3a\"],[0.8888888888888888,\"#fdca26\"],[1.0,\"#f0f921\"]]}],\"surface\":[{\"type\":\"surface\",\"colorbar\":{\"outlinewidth\":0,\"ticks\":\"\"},\"colorscale\":[[0.0,\"#0d0887\"],[0.1111111111111111,\"#46039f\"],[0.2222222222222222,\"#7201a8\"],[0.3333333333333333,\"#9c179e\"],[0.4444444444444444,\"#bd3786\"],[0.5555555555555556,\"#d8576b\"],[0.6666666666666666,\"#ed7953\"],[0.7777777777777778,\"#fb9f3a\"],[0.8888888888888888,\"#fdca26\"],[1.0,\"#f0f921\"]]}],\"mesh3d\":[{\"type\":\"mesh3d\",\"colorbar\":{\"outlinewidth\":0,\"ticks\":\"\"}}],\"scatter\":[{\"fillpattern\":{\"fillmode\":\"overlay\",\"size\":10,\"solidity\":0.2},\"type\":\"scatter\"}],\"parcoords\":[{\"type\":\"parcoords\",\"line\":{\"colorbar\":{\"outlinewidth\":0,\"ticks\":\"\"}}}],\"scatterpolargl\":[{\"type\":\"scatterpolargl\",\"marker\":{\"colorbar\":{\"outlinewidth\":0,\"ticks\":\"\"}}}],\"bar\":[{\"error_x\":{\"color\":\"#2a3f5f\"},\"error_y\":{\"color\":\"#2a3f5f\"},\"marker\":{\"line\":{\"color\":\"#E5ECF6\",\"width\":0.5},\"pattern\":{\"fillmode\":\"overlay\",\"size\":10,\"solidity\":0.2}},\"type\":\"bar\"}],\"scattergeo\":[{\"type\":\"scattergeo\",\"marker\":{\"colorbar\":{\"outlinewidth\":0,\"ticks\":\"\"}}}],\"scatterpolar\":[{\"type\":\"scatterpolar\",\"marker\":{\"colorbar\":{\"outlinewidth\":0,\"ticks\":\"\"}}}],\"histogram\":[{\"marker\":{\"pattern\":{\"fillmode\":\"overlay\",\"size\":10,\"solidity\":0.2}},\"type\":\"histogram\"}],\"scattergl\":[{\"type\":\"scattergl\",\"marker\":{\"colorbar\":{\"outlinewidth\":0,\"ticks\":\"\"}}}],\"scatter3d\":[{\"type\":\"scatter3d\",\"line\":{\"colorbar\":{\"outlinewidth\":0,\"ticks\":\"\"}},\"marker\":{\"colorbar\":{\"outlinewidth\":0,\"ticks\":\"\"}}}],\"scattermapbox\":[{\"type\":\"scattermapbox\",\"marker\":{\"colorbar\":{\"outlinewidth\":0,\"ticks\":\"\"}}}],\"scatterternary\":[{\"type\":\"scatterternary\",\"marker\":{\"colorbar\":{\"outlinewidth\":0,\"ticks\":\"\"}}}],\"scattercarpet\":[{\"type\":\"scattercarpet\",\"marker\":{\"colorbar\":{\"outlinewidth\":0,\"ticks\":\"\"}}}],\"carpet\":[{\"aaxis\":{\"endlinecolor\":\"#2a3f5f\",\"gridcolor\":\"white\",\"linecolor\":\"white\",\"minorgridcolor\":\"white\",\"startlinecolor\":\"#2a3f5f\"},\"baxis\":{\"endlinecolor\":\"#2a3f5f\",\"gridcolor\":\"white\",\"linecolor\":\"white\",\"minorgridcolor\":\"white\",\"startlinecolor\":\"#2a3f5f\"},\"type\":\"carpet\"}],\"table\":[{\"cells\":{\"fill\":{\"color\":\"#EBF0F8\"},\"line\":{\"color\":\"white\"}},\"header\":{\"fill\":{\"color\":\"#C8D4E3\"},\"line\":{\"color\":\"white\"}},\"type\":\"table\"}],\"barpolar\":[{\"marker\":{\"line\":{\"color\":\"#E5ECF6\",\"width\":0.5},\"pattern\":{\"fillmode\":\"overlay\",\"size\":10,\"solidity\":0.2}},\"type\":\"barpolar\"}],\"pie\":[{\"automargin\":true,\"type\":\"pie\"}]},\"layout\":{\"autotypenumbers\":\"strict\",\"colorway\":[\"#636efa\",\"#EF553B\",\"#00cc96\",\"#ab63fa\",\"#FFA15A\",\"#19d3f3\",\"#FF6692\",\"#B6E880\",\"#FF97FF\",\"#FECB52\"],\"font\":{\"color\":\"#2a3f5f\"},\"hovermode\":\"closest\",\"hoverlabel\":{\"align\":\"left\"},\"paper_bgcolor\":\"white\",\"plot_bgcolor\":\"#E5ECF6\",\"polar\":{\"bgcolor\":\"#E5ECF6\",\"angularaxis\":{\"gridcolor\":\"white\",\"linecolor\":\"white\",\"ticks\":\"\"},\"radialaxis\":{\"gridcolor\":\"white\",\"linecolor\":\"white\",\"ticks\":\"\"}},\"ternary\":{\"bgcolor\":\"#E5ECF6\",\"aaxis\":{\"gridcolor\":\"white\",\"linecolor\":\"white\",\"ticks\":\"\"},\"baxis\":{\"gridcolor\":\"white\",\"linecolor\":\"white\",\"ticks\":\"\"},\"caxis\":{\"gridcolor\":\"white\",\"linecolor\":\"white\",\"ticks\":\"\"}},\"coloraxis\":{\"colorbar\":{\"outlinewidth\":0,\"ticks\":\"\"}},\"colorscale\":{\"sequential\":[[0.0,\"#0d0887\"],[0.1111111111111111,\"#46039f\"],[0.2222222222222222,\"#7201a8\"],[0.3333333333333333,\"#9c179e\"],[0.4444444444444444,\"#bd3786\"],[0.5555555555555556,\"#d8576b\"],[0.6666666666666666,\"#ed7953\"],[0.7777777777777778,\"#fb9f3a\"],[0.8888888888888888,\"#fdca26\"],[1.0,\"#f0f921\"]],\"sequentialminus\":[[0.0,\"#0d0887\"],[0.1111111111111111,\"#46039f\"],[0.2222222222222222,\"#7201a8\"],[0.3333333333333333,\"#9c179e\"],[0.4444444444444444,\"#bd3786\"],[0.5555555555555556,\"#d8576b\"],[0.6666666666666666,\"#ed7953\"],[0.7777777777777778,\"#fb9f3a\"],[0.8888888888888888,\"#fdca26\"],[1.0,\"#f0f921\"]],\"diverging\":[[0,\"#8e0152\"],[0.1,\"#c51b7d\"],[0.2,\"#de77ae\"],[0.3,\"#f1b6da\"],[0.4,\"#fde0ef\"],[0.5,\"#f7f7f7\"],[0.6,\"#e6f5d0\"],[0.7,\"#b8e186\"],[0.8,\"#7fbc41\"],[0.9,\"#4d9221\"],[1,\"#276419\"]]},\"xaxis\":{\"gridcolor\":\"white\",\"linecolor\":\"white\",\"ticks\":\"\",\"title\":{\"standoff\":15},\"zerolinecolor\":\"white\",\"automargin\":true,\"zerolinewidth\":2},\"yaxis\":{\"gridcolor\":\"white\",\"linecolor\":\"white\",\"ticks\":\"\",\"title\":{\"standoff\":15},\"zerolinecolor\":\"white\",\"automargin\":true,\"zerolinewidth\":2},\"scene\":{\"xaxis\":{\"backgroundcolor\":\"#E5ECF6\",\"gridcolor\":\"white\",\"linecolor\":\"white\",\"showbackground\":true,\"ticks\":\"\",\"zerolinecolor\":\"white\",\"gridwidth\":2},\"yaxis\":{\"backgroundcolor\":\"#E5ECF6\",\"gridcolor\":\"white\",\"linecolor\":\"white\",\"showbackground\":true,\"ticks\":\"\",\"zerolinecolor\":\"white\",\"gridwidth\":2},\"zaxis\":{\"backgroundcolor\":\"#E5ECF6\",\"gridcolor\":\"white\",\"linecolor\":\"white\",\"showbackground\":true,\"ticks\":\"\",\"zerolinecolor\":\"white\",\"gridwidth\":2}},\"shapedefaults\":{\"line\":{\"color\":\"#2a3f5f\"}},\"annotationdefaults\":{\"arrowcolor\":\"#2a3f5f\",\"arrowhead\":0,\"arrowwidth\":1},\"geo\":{\"bgcolor\":\"white\",\"landcolor\":\"#E5ECF6\",\"subunitcolor\":\"white\",\"showland\":true,\"showlakes\":true,\"lakecolor\":\"white\"},\"title\":{\"x\":0.05},\"mapbox\":{\"style\":\"light\"}}},\"xaxis\":{\"anchor\":\"y\",\"domain\":[0.0,1.0],\"title\":{\"text\":\"year\"}},\"yaxis\":{\"anchor\":\"x\",\"domain\":[0.0,1.0],\"title\":{\"text\":\"passengers\"}},\"legend\":{\"title\":{\"text\":\"month\"},\"tracegroupgap\":0},\"margin\":{\"t\":60}},                        {\"responsive\": true}                    ).then(function(){\n",
       "                            \n",
       "var gd = document.getElementById('ce57de2c-cc72-4520-ae25-9325fc45e4ba');\n",
       "var x = new MutationObserver(function (mutations, observer) {{\n",
       "        var display = window.getComputedStyle(gd).display;\n",
       "        if (!display || display === 'none') {{\n",
       "            console.log([gd, 'removed!']);\n",
       "            Plotly.purge(gd);\n",
       "            observer.disconnect();\n",
       "        }}\n",
       "}});\n",
       "\n",
       "// Listen for the removal of the full notebook cells\n",
       "var notebookContainer = gd.closest('#notebook-container');\n",
       "if (notebookContainer) {{\n",
       "    x.observe(notebookContainer, {childList: true});\n",
       "}}\n",
       "\n",
       "// Listen for the clearing of the current output cell\n",
       "var outputEl = gd.closest('.output');\n",
       "if (outputEl) {{\n",
       "    x.observe(outputEl, {childList: true});\n",
       "}}\n",
       "\n",
       "                        })                };                });            </script>        </div>"
      ]
     },
     "metadata": {},
     "output_type": "display_data"
    }
   ],
   "source": [
    "px.line(data_frame=flights, x='year', y='passengers', color='month')"
   ]
  },
  {
   "cell_type": "markdown",
   "metadata": {},
   "source": [
    "The syntax is similar for ```px.scatter```:"
   ]
  },
  {
   "cell_type": "code",
   "execution_count": 21,
   "metadata": {},
   "outputs": [
    {
     "data": {
      "application/vnd.plotly.v1+json": {
       "config": {
        "plotlyServerURL": "https://plot.ly"
       },
       "data": [
        {
         "hovertemplate": "month=Jan<br>year=%{x}<br>passengers=%{y}<extra></extra>",
         "legendgroup": "Jan",
         "marker": {
          "color": "#636efa",
          "symbol": "circle"
         },
         "mode": "markers",
         "name": "Jan",
         "orientation": "v",
         "showlegend": true,
         "type": "scatter",
         "x": [
          1949,
          1950,
          1951,
          1952,
          1953,
          1954,
          1955,
          1956,
          1957,
          1958,
          1959,
          1960
         ],
         "xaxis": "x",
         "y": [
          112,
          115,
          145,
          171,
          196,
          204,
          242,
          284,
          315,
          340,
          360,
          417
         ],
         "yaxis": "y"
        },
        {
         "hovertemplate": "month=Feb<br>year=%{x}<br>passengers=%{y}<extra></extra>",
         "legendgroup": "Feb",
         "marker": {
          "color": "#EF553B",
          "symbol": "circle"
         },
         "mode": "markers",
         "name": "Feb",
         "orientation": "v",
         "showlegend": true,
         "type": "scatter",
         "x": [
          1949,
          1950,
          1951,
          1952,
          1953,
          1954,
          1955,
          1956,
          1957,
          1958,
          1959,
          1960
         ],
         "xaxis": "x",
         "y": [
          118,
          126,
          150,
          180,
          196,
          188,
          233,
          277,
          301,
          318,
          342,
          391
         ],
         "yaxis": "y"
        },
        {
         "hovertemplate": "month=Mar<br>year=%{x}<br>passengers=%{y}<extra></extra>",
         "legendgroup": "Mar",
         "marker": {
          "color": "#00cc96",
          "symbol": "circle"
         },
         "mode": "markers",
         "name": "Mar",
         "orientation": "v",
         "showlegend": true,
         "type": "scatter",
         "x": [
          1949,
          1950,
          1951,
          1952,
          1953,
          1954,
          1955,
          1956,
          1957,
          1958,
          1959,
          1960
         ],
         "xaxis": "x",
         "y": [
          132,
          141,
          178,
          193,
          236,
          235,
          267,
          317,
          356,
          362,
          406,
          419
         ],
         "yaxis": "y"
        },
        {
         "hovertemplate": "month=Apr<br>year=%{x}<br>passengers=%{y}<extra></extra>",
         "legendgroup": "Apr",
         "marker": {
          "color": "#ab63fa",
          "symbol": "circle"
         },
         "mode": "markers",
         "name": "Apr",
         "orientation": "v",
         "showlegend": true,
         "type": "scatter",
         "x": [
          1949,
          1950,
          1951,
          1952,
          1953,
          1954,
          1955,
          1956,
          1957,
          1958,
          1959,
          1960
         ],
         "xaxis": "x",
         "y": [
          129,
          135,
          163,
          181,
          235,
          227,
          269,
          313,
          348,
          348,
          396,
          461
         ],
         "yaxis": "y"
        },
        {
         "hovertemplate": "month=May<br>year=%{x}<br>passengers=%{y}<extra></extra>",
         "legendgroup": "May",
         "marker": {
          "color": "#FFA15A",
          "symbol": "circle"
         },
         "mode": "markers",
         "name": "May",
         "orientation": "v",
         "showlegend": true,
         "type": "scatter",
         "x": [
          1949,
          1950,
          1951,
          1952,
          1953,
          1954,
          1955,
          1956,
          1957,
          1958,
          1959,
          1960
         ],
         "xaxis": "x",
         "y": [
          121,
          125,
          172,
          183,
          229,
          234,
          270,
          318,
          355,
          363,
          420,
          472
         ],
         "yaxis": "y"
        },
        {
         "hovertemplate": "month=Jun<br>year=%{x}<br>passengers=%{y}<extra></extra>",
         "legendgroup": "Jun",
         "marker": {
          "color": "#19d3f3",
          "symbol": "circle"
         },
         "mode": "markers",
         "name": "Jun",
         "orientation": "v",
         "showlegend": true,
         "type": "scatter",
         "x": [
          1949,
          1950,
          1951,
          1952,
          1953,
          1954,
          1955,
          1956,
          1957,
          1958,
          1959,
          1960
         ],
         "xaxis": "x",
         "y": [
          135,
          149,
          178,
          218,
          243,
          264,
          315,
          374,
          422,
          435,
          472,
          535
         ],
         "yaxis": "y"
        },
        {
         "hovertemplate": "month=Jul<br>year=%{x}<br>passengers=%{y}<extra></extra>",
         "legendgroup": "Jul",
         "marker": {
          "color": "#FF6692",
          "symbol": "circle"
         },
         "mode": "markers",
         "name": "Jul",
         "orientation": "v",
         "showlegend": true,
         "type": "scatter",
         "x": [
          1949,
          1950,
          1951,
          1952,
          1953,
          1954,
          1955,
          1956,
          1957,
          1958,
          1959,
          1960
         ],
         "xaxis": "x",
         "y": [
          148,
          170,
          199,
          230,
          264,
          302,
          364,
          413,
          465,
          491,
          548,
          622
         ],
         "yaxis": "y"
        },
        {
         "hovertemplate": "month=Aug<br>year=%{x}<br>passengers=%{y}<extra></extra>",
         "legendgroup": "Aug",
         "marker": {
          "color": "#B6E880",
          "symbol": "circle"
         },
         "mode": "markers",
         "name": "Aug",
         "orientation": "v",
         "showlegend": true,
         "type": "scatter",
         "x": [
          1949,
          1950,
          1951,
          1952,
          1953,
          1954,
          1955,
          1956,
          1957,
          1958,
          1959,
          1960
         ],
         "xaxis": "x",
         "y": [
          148,
          170,
          199,
          242,
          272,
          293,
          347,
          405,
          467,
          505,
          559,
          606
         ],
         "yaxis": "y"
        },
        {
         "hovertemplate": "month=Sep<br>year=%{x}<br>passengers=%{y}<extra></extra>",
         "legendgroup": "Sep",
         "marker": {
          "color": "#FF97FF",
          "symbol": "circle"
         },
         "mode": "markers",
         "name": "Sep",
         "orientation": "v",
         "showlegend": true,
         "type": "scatter",
         "x": [
          1949,
          1950,
          1951,
          1952,
          1953,
          1954,
          1955,
          1956,
          1957,
          1958,
          1959,
          1960
         ],
         "xaxis": "x",
         "y": [
          136,
          158,
          184,
          209,
          237,
          259,
          312,
          355,
          404,
          404,
          463,
          508
         ],
         "yaxis": "y"
        },
        {
         "hovertemplate": "month=Oct<br>year=%{x}<br>passengers=%{y}<extra></extra>",
         "legendgroup": "Oct",
         "marker": {
          "color": "#FECB52",
          "symbol": "circle"
         },
         "mode": "markers",
         "name": "Oct",
         "orientation": "v",
         "showlegend": true,
         "type": "scatter",
         "x": [
          1949,
          1950,
          1951,
          1952,
          1953,
          1954,
          1955,
          1956,
          1957,
          1958,
          1959,
          1960
         ],
         "xaxis": "x",
         "y": [
          119,
          133,
          162,
          191,
          211,
          229,
          274,
          306,
          347,
          359,
          407,
          461
         ],
         "yaxis": "y"
        },
        {
         "hovertemplate": "month=Nov<br>year=%{x}<br>passengers=%{y}<extra></extra>",
         "legendgroup": "Nov",
         "marker": {
          "color": "#636efa",
          "symbol": "circle"
         },
         "mode": "markers",
         "name": "Nov",
         "orientation": "v",
         "showlegend": true,
         "type": "scatter",
         "x": [
          1949,
          1950,
          1951,
          1952,
          1953,
          1954,
          1955,
          1956,
          1957,
          1958,
          1959,
          1960
         ],
         "xaxis": "x",
         "y": [
          104,
          114,
          146,
          172,
          180,
          203,
          237,
          271,
          305,
          310,
          362,
          390
         ],
         "yaxis": "y"
        },
        {
         "hovertemplate": "month=Dec<br>year=%{x}<br>passengers=%{y}<extra></extra>",
         "legendgroup": "Dec",
         "marker": {
          "color": "#EF553B",
          "symbol": "circle"
         },
         "mode": "markers",
         "name": "Dec",
         "orientation": "v",
         "showlegend": true,
         "type": "scatter",
         "x": [
          1949,
          1950,
          1951,
          1952,
          1953,
          1954,
          1955,
          1956,
          1957,
          1958,
          1959,
          1960
         ],
         "xaxis": "x",
         "y": [
          118,
          140,
          166,
          194,
          201,
          229,
          278,
          306,
          336,
          337,
          405,
          432
         ],
         "yaxis": "y"
        }
       ],
       "layout": {
        "autosize": true,
        "legend": {
         "title": {
          "text": "month"
         },
         "tracegroupgap": 0
        },
        "margin": {
         "t": 60
        },
        "template": {
         "data": {
          "bar": [
           {
            "error_x": {
             "color": "#2a3f5f"
            },
            "error_y": {
             "color": "#2a3f5f"
            },
            "marker": {
             "line": {
              "color": "#E5ECF6",
              "width": 0.5
             },
             "pattern": {
              "fillmode": "overlay",
              "size": 10,
              "solidity": 0.2
             }
            },
            "type": "bar"
           }
          ],
          "barpolar": [
           {
            "marker": {
             "line": {
              "color": "#E5ECF6",
              "width": 0.5
             },
             "pattern": {
              "fillmode": "overlay",
              "size": 10,
              "solidity": 0.2
             }
            },
            "type": "barpolar"
           }
          ],
          "carpet": [
           {
            "aaxis": {
             "endlinecolor": "#2a3f5f",
             "gridcolor": "white",
             "linecolor": "white",
             "minorgridcolor": "white",
             "startlinecolor": "#2a3f5f"
            },
            "baxis": {
             "endlinecolor": "#2a3f5f",
             "gridcolor": "white",
             "linecolor": "white",
             "minorgridcolor": "white",
             "startlinecolor": "#2a3f5f"
            },
            "type": "carpet"
           }
          ],
          "choropleth": [
           {
            "colorbar": {
             "outlinewidth": 0,
             "ticks": ""
            },
            "type": "choropleth"
           }
          ],
          "contour": [
           {
            "colorbar": {
             "outlinewidth": 0,
             "ticks": ""
            },
            "colorscale": [
             [
              0,
              "#0d0887"
             ],
             [
              0.1111111111111111,
              "#46039f"
             ],
             [
              0.2222222222222222,
              "#7201a8"
             ],
             [
              0.3333333333333333,
              "#9c179e"
             ],
             [
              0.4444444444444444,
              "#bd3786"
             ],
             [
              0.5555555555555556,
              "#d8576b"
             ],
             [
              0.6666666666666666,
              "#ed7953"
             ],
             [
              0.7777777777777778,
              "#fb9f3a"
             ],
             [
              0.8888888888888888,
              "#fdca26"
             ],
             [
              1,
              "#f0f921"
             ]
            ],
            "type": "contour"
           }
          ],
          "contourcarpet": [
           {
            "colorbar": {
             "outlinewidth": 0,
             "ticks": ""
            },
            "type": "contourcarpet"
           }
          ],
          "heatmap": [
           {
            "colorbar": {
             "outlinewidth": 0,
             "ticks": ""
            },
            "colorscale": [
             [
              0,
              "#0d0887"
             ],
             [
              0.1111111111111111,
              "#46039f"
             ],
             [
              0.2222222222222222,
              "#7201a8"
             ],
             [
              0.3333333333333333,
              "#9c179e"
             ],
             [
              0.4444444444444444,
              "#bd3786"
             ],
             [
              0.5555555555555556,
              "#d8576b"
             ],
             [
              0.6666666666666666,
              "#ed7953"
             ],
             [
              0.7777777777777778,
              "#fb9f3a"
             ],
             [
              0.8888888888888888,
              "#fdca26"
             ],
             [
              1,
              "#f0f921"
             ]
            ],
            "type": "heatmap"
           }
          ],
          "heatmapgl": [
           {
            "colorbar": {
             "outlinewidth": 0,
             "ticks": ""
            },
            "colorscale": [
             [
              0,
              "#0d0887"
             ],
             [
              0.1111111111111111,
              "#46039f"
             ],
             [
              0.2222222222222222,
              "#7201a8"
             ],
             [
              0.3333333333333333,
              "#9c179e"
             ],
             [
              0.4444444444444444,
              "#bd3786"
             ],
             [
              0.5555555555555556,
              "#d8576b"
             ],
             [
              0.6666666666666666,
              "#ed7953"
             ],
             [
              0.7777777777777778,
              "#fb9f3a"
             ],
             [
              0.8888888888888888,
              "#fdca26"
             ],
             [
              1,
              "#f0f921"
             ]
            ],
            "type": "heatmapgl"
           }
          ],
          "histogram": [
           {
            "marker": {
             "pattern": {
              "fillmode": "overlay",
              "size": 10,
              "solidity": 0.2
             }
            },
            "type": "histogram"
           }
          ],
          "histogram2d": [
           {
            "colorbar": {
             "outlinewidth": 0,
             "ticks": ""
            },
            "colorscale": [
             [
              0,
              "#0d0887"
             ],
             [
              0.1111111111111111,
              "#46039f"
             ],
             [
              0.2222222222222222,
              "#7201a8"
             ],
             [
              0.3333333333333333,
              "#9c179e"
             ],
             [
              0.4444444444444444,
              "#bd3786"
             ],
             [
              0.5555555555555556,
              "#d8576b"
             ],
             [
              0.6666666666666666,
              "#ed7953"
             ],
             [
              0.7777777777777778,
              "#fb9f3a"
             ],
             [
              0.8888888888888888,
              "#fdca26"
             ],
             [
              1,
              "#f0f921"
             ]
            ],
            "type": "histogram2d"
           }
          ],
          "histogram2dcontour": [
           {
            "colorbar": {
             "outlinewidth": 0,
             "ticks": ""
            },
            "colorscale": [
             [
              0,
              "#0d0887"
             ],
             [
              0.1111111111111111,
              "#46039f"
             ],
             [
              0.2222222222222222,
              "#7201a8"
             ],
             [
              0.3333333333333333,
              "#9c179e"
             ],
             [
              0.4444444444444444,
              "#bd3786"
             ],
             [
              0.5555555555555556,
              "#d8576b"
             ],
             [
              0.6666666666666666,
              "#ed7953"
             ],
             [
              0.7777777777777778,
              "#fb9f3a"
             ],
             [
              0.8888888888888888,
              "#fdca26"
             ],
             [
              1,
              "#f0f921"
             ]
            ],
            "type": "histogram2dcontour"
           }
          ],
          "mesh3d": [
           {
            "colorbar": {
             "outlinewidth": 0,
             "ticks": ""
            },
            "type": "mesh3d"
           }
          ],
          "parcoords": [
           {
            "line": {
             "colorbar": {
              "outlinewidth": 0,
              "ticks": ""
             }
            },
            "type": "parcoords"
           }
          ],
          "pie": [
           {
            "automargin": true,
            "type": "pie"
           }
          ],
          "scatter": [
           {
            "fillpattern": {
             "fillmode": "overlay",
             "size": 10,
             "solidity": 0.2
            },
            "type": "scatter"
           }
          ],
          "scatter3d": [
           {
            "line": {
             "colorbar": {
              "outlinewidth": 0,
              "ticks": ""
             }
            },
            "marker": {
             "colorbar": {
              "outlinewidth": 0,
              "ticks": ""
             }
            },
            "type": "scatter3d"
           }
          ],
          "scattercarpet": [
           {
            "marker": {
             "colorbar": {
              "outlinewidth": 0,
              "ticks": ""
             }
            },
            "type": "scattercarpet"
           }
          ],
          "scattergeo": [
           {
            "marker": {
             "colorbar": {
              "outlinewidth": 0,
              "ticks": ""
             }
            },
            "type": "scattergeo"
           }
          ],
          "scattergl": [
           {
            "marker": {
             "colorbar": {
              "outlinewidth": 0,
              "ticks": ""
             }
            },
            "type": "scattergl"
           }
          ],
          "scattermapbox": [
           {
            "marker": {
             "colorbar": {
              "outlinewidth": 0,
              "ticks": ""
             }
            },
            "type": "scattermapbox"
           }
          ],
          "scatterpolar": [
           {
            "marker": {
             "colorbar": {
              "outlinewidth": 0,
              "ticks": ""
             }
            },
            "type": "scatterpolar"
           }
          ],
          "scatterpolargl": [
           {
            "marker": {
             "colorbar": {
              "outlinewidth": 0,
              "ticks": ""
             }
            },
            "type": "scatterpolargl"
           }
          ],
          "scatterternary": [
           {
            "marker": {
             "colorbar": {
              "outlinewidth": 0,
              "ticks": ""
             }
            },
            "type": "scatterternary"
           }
          ],
          "surface": [
           {
            "colorbar": {
             "outlinewidth": 0,
             "ticks": ""
            },
            "colorscale": [
             [
              0,
              "#0d0887"
             ],
             [
              0.1111111111111111,
              "#46039f"
             ],
             [
              0.2222222222222222,
              "#7201a8"
             ],
             [
              0.3333333333333333,
              "#9c179e"
             ],
             [
              0.4444444444444444,
              "#bd3786"
             ],
             [
              0.5555555555555556,
              "#d8576b"
             ],
             [
              0.6666666666666666,
              "#ed7953"
             ],
             [
              0.7777777777777778,
              "#fb9f3a"
             ],
             [
              0.8888888888888888,
              "#fdca26"
             ],
             [
              1,
              "#f0f921"
             ]
            ],
            "type": "surface"
           }
          ],
          "table": [
           {
            "cells": {
             "fill": {
              "color": "#EBF0F8"
             },
             "line": {
              "color": "white"
             }
            },
            "header": {
             "fill": {
              "color": "#C8D4E3"
             },
             "line": {
              "color": "white"
             }
            },
            "type": "table"
           }
          ]
         },
         "layout": {
          "annotationdefaults": {
           "arrowcolor": "#2a3f5f",
           "arrowhead": 0,
           "arrowwidth": 1
          },
          "autotypenumbers": "strict",
          "coloraxis": {
           "colorbar": {
            "outlinewidth": 0,
            "ticks": ""
           }
          },
          "colorscale": {
           "diverging": [
            [
             0,
             "#8e0152"
            ],
            [
             0.1,
             "#c51b7d"
            ],
            [
             0.2,
             "#de77ae"
            ],
            [
             0.3,
             "#f1b6da"
            ],
            [
             0.4,
             "#fde0ef"
            ],
            [
             0.5,
             "#f7f7f7"
            ],
            [
             0.6,
             "#e6f5d0"
            ],
            [
             0.7,
             "#b8e186"
            ],
            [
             0.8,
             "#7fbc41"
            ],
            [
             0.9,
             "#4d9221"
            ],
            [
             1,
             "#276419"
            ]
           ],
           "sequential": [
            [
             0,
             "#0d0887"
            ],
            [
             0.1111111111111111,
             "#46039f"
            ],
            [
             0.2222222222222222,
             "#7201a8"
            ],
            [
             0.3333333333333333,
             "#9c179e"
            ],
            [
             0.4444444444444444,
             "#bd3786"
            ],
            [
             0.5555555555555556,
             "#d8576b"
            ],
            [
             0.6666666666666666,
             "#ed7953"
            ],
            [
             0.7777777777777778,
             "#fb9f3a"
            ],
            [
             0.8888888888888888,
             "#fdca26"
            ],
            [
             1,
             "#f0f921"
            ]
           ],
           "sequentialminus": [
            [
             0,
             "#0d0887"
            ],
            [
             0.1111111111111111,
             "#46039f"
            ],
            [
             0.2222222222222222,
             "#7201a8"
            ],
            [
             0.3333333333333333,
             "#9c179e"
            ],
            [
             0.4444444444444444,
             "#bd3786"
            ],
            [
             0.5555555555555556,
             "#d8576b"
            ],
            [
             0.6666666666666666,
             "#ed7953"
            ],
            [
             0.7777777777777778,
             "#fb9f3a"
            ],
            [
             0.8888888888888888,
             "#fdca26"
            ],
            [
             1,
             "#f0f921"
            ]
           ]
          },
          "colorway": [
           "#636efa",
           "#EF553B",
           "#00cc96",
           "#ab63fa",
           "#FFA15A",
           "#19d3f3",
           "#FF6692",
           "#B6E880",
           "#FF97FF",
           "#FECB52"
          ],
          "font": {
           "color": "#2a3f5f"
          },
          "geo": {
           "bgcolor": "white",
           "lakecolor": "white",
           "landcolor": "#E5ECF6",
           "showlakes": true,
           "showland": true,
           "subunitcolor": "white"
          },
          "hoverlabel": {
           "align": "left"
          },
          "hovermode": "closest",
          "mapbox": {
           "style": "light"
          },
          "paper_bgcolor": "white",
          "plot_bgcolor": "#E5ECF6",
          "polar": {
           "angularaxis": {
            "gridcolor": "white",
            "linecolor": "white",
            "ticks": ""
           },
           "bgcolor": "#E5ECF6",
           "radialaxis": {
            "gridcolor": "white",
            "linecolor": "white",
            "ticks": ""
           }
          },
          "scene": {
           "xaxis": {
            "backgroundcolor": "#E5ECF6",
            "gridcolor": "white",
            "gridwidth": 2,
            "linecolor": "white",
            "showbackground": true,
            "ticks": "",
            "zerolinecolor": "white"
           },
           "yaxis": {
            "backgroundcolor": "#E5ECF6",
            "gridcolor": "white",
            "gridwidth": 2,
            "linecolor": "white",
            "showbackground": true,
            "ticks": "",
            "zerolinecolor": "white"
           },
           "zaxis": {
            "backgroundcolor": "#E5ECF6",
            "gridcolor": "white",
            "gridwidth": 2,
            "linecolor": "white",
            "showbackground": true,
            "ticks": "",
            "zerolinecolor": "white"
           }
          },
          "shapedefaults": {
           "line": {
            "color": "#2a3f5f"
           }
          },
          "ternary": {
           "aaxis": {
            "gridcolor": "white",
            "linecolor": "white",
            "ticks": ""
           },
           "baxis": {
            "gridcolor": "white",
            "linecolor": "white",
            "ticks": ""
           },
           "bgcolor": "#E5ECF6",
           "caxis": {
            "gridcolor": "white",
            "linecolor": "white",
            "ticks": ""
           }
          },
          "title": {
           "x": 0.05
          },
          "xaxis": {
           "automargin": true,
           "gridcolor": "white",
           "linecolor": "white",
           "ticks": "",
           "title": {
            "standoff": 15
           },
           "zerolinecolor": "white",
           "zerolinewidth": 2
          },
          "yaxis": {
           "automargin": true,
           "gridcolor": "white",
           "linecolor": "white",
           "ticks": "",
           "title": {
            "standoff": 15
           },
           "zerolinecolor": "white",
           "zerolinewidth": 2
          }
         }
        },
        "xaxis": {
         "anchor": "y",
         "autorange": true,
         "domain": [
          0,
          1
         ],
         "range": [
          1948.3043879056047,
          1960.6956120943953
         ],
         "title": {
          "text": "year"
         },
         "type": "linear"
        },
        "yaxis": {
         "anchor": "x",
         "autorange": true,
         "domain": [
          0,
          1
         ],
         "range": [
          63.89238845144357,
          662.1076115485564
         ],
         "title": {
          "text": "passengers"
         },
         "type": "linear"
        }
       }
      },
      "image/png": "[encoded data removed]",
      "text/html": [
       "<div>                            <div id=\"d101e15f-e4d3-432d-bb85-20b17765b271\" class=\"plotly-graph-div\" style=\"height:525px; width:100%;\"></div>            <script type=\"text/javascript\">                require([\"plotly\"], function(Plotly) {                    window.PLOTLYENV=window.PLOTLYENV || {};                                    if (document.getElementById(\"d101e15f-e4d3-432d-bb85-20b17765b271\")) {                    Plotly.newPlot(                        \"d101e15f-e4d3-432d-bb85-20b17765b271\",                        [{\"hovertemplate\":\"month=Jan\\u003cbr\\u003eyear=%{x}\\u003cbr\\u003epassengers=%{y}\\u003cextra\\u003e\\u003c\\u002fextra\\u003e\",\"legendgroup\":\"Jan\",\"marker\":{\"color\":\"#636efa\",\"symbol\":\"circle\"},\"mode\":\"markers\",\"name\":\"Jan\",\"orientation\":\"v\",\"showlegend\":true,\"x\":[1949,1950,1951,1952,1953,1954,1955,1956,1957,1958,1959,1960],\"xaxis\":\"x\",\"y\":[112,115,145,171,196,204,242,284,315,340,360,417],\"yaxis\":\"y\",\"type\":\"scatter\"},{\"hovertemplate\":\"month=Feb\\u003cbr\\u003eyear=%{x}\\u003cbr\\u003epassengers=%{y}\\u003cextra\\u003e\\u003c\\u002fextra\\u003e\",\"legendgroup\":\"Feb\",\"marker\":{\"color\":\"#EF553B\",\"symbol\":\"circle\"},\"mode\":\"markers\",\"name\":\"Feb\",\"orientation\":\"v\",\"showlegend\":true,\"x\":[1949,1950,1951,1952,1953,1954,1955,1956,1957,1958,1959,1960],\"xaxis\":\"x\",\"y\":[118,126,150,180,196,188,233,277,301,318,342,391],\"yaxis\":\"y\",\"type\":\"scatter\"},{\"hovertemplate\":\"month=Mar\\u003cbr\\u003eyear=%{x}\\u003cbr\\u003epassengers=%{y}\\u003cextra\\u003e\\u003c\\u002fextra\\u003e\",\"legendgroup\":\"Mar\",\"marker\":{\"color\":\"#00cc96\",\"symbol\":\"circle\"},\"mode\":\"markers\",\"name\":\"Mar\",\"orientation\":\"v\",\"showlegend\":true,\"x\":[1949,1950,1951,1952,1953,1954,1955,1956,1957,1958,1959,1960],\"xaxis\":\"x\",\"y\":[132,141,178,193,236,235,267,317,356,362,406,419],\"yaxis\":\"y\",\"type\":\"scatter\"},{\"hovertemplate\":\"month=Apr\\u003cbr\\u003eyear=%{x}\\u003cbr\\u003epassengers=%{y}\\u003cextra\\u003e\\u003c\\u002fextra\\u003e\",\"legendgroup\":\"Apr\",\"marker\":{\"color\":\"#ab63fa\",\"symbol\":\"circle\"},\"mode\":\"markers\",\"name\":\"Apr\",\"orientation\":\"v\",\"showlegend\":true,\"x\":[1949,1950,1951,1952,1953,1954,1955,1956,1957,1958,1959,1960],\"xaxis\":\"x\",\"y\":[129,135,163,181,235,227,269,313,348,348,396,461],\"yaxis\":\"y\",\"type\":\"scatter\"},{\"hovertemplate\":\"month=May\\u003cbr\\u003eyear=%{x}\\u003cbr\\u003epassengers=%{y}\\u003cextra\\u003e\\u003c\\u002fextra\\u003e\",\"legendgroup\":\"May\",\"marker\":{\"color\":\"#FFA15A\",\"symbol\":\"circle\"},\"mode\":\"markers\",\"name\":\"May\",\"orientation\":\"v\",\"showlegend\":true,\"x\":[1949,1950,1951,1952,1953,1954,1955,1956,1957,1958,1959,1960],\"xaxis\":\"x\",\"y\":[121,125,172,183,229,234,270,318,355,363,420,472],\"yaxis\":\"y\",\"type\":\"scatter\"},{\"hovertemplate\":\"month=Jun\\u003cbr\\u003eyear=%{x}\\u003cbr\\u003epassengers=%{y}\\u003cextra\\u003e\\u003c\\u002fextra\\u003e\",\"legendgroup\":\"Jun\",\"marker\":{\"color\":\"#19d3f3\",\"symbol\":\"circle\"},\"mode\":\"markers\",\"name\":\"Jun\",\"orientation\":\"v\",\"showlegend\":true,\"x\":[1949,1950,1951,1952,1953,1954,1955,1956,1957,1958,1959,1960],\"xaxis\":\"x\",\"y\":[135,149,178,218,243,264,315,374,422,435,472,535],\"yaxis\":\"y\",\"type\":\"scatter\"},{\"hovertemplate\":\"month=Jul\\u003cbr\\u003eyear=%{x}\\u003cbr\\u003epassengers=%{y}\\u003cextra\\u003e\\u003c\\u002fextra\\u003e\",\"legendgroup\":\"Jul\",\"marker\":{\"color\":\"#FF6692\",\"symbol\":\"circle\"},\"mode\":\"markers\",\"name\":\"Jul\",\"orientation\":\"v\",\"showlegend\":true,\"x\":[1949,1950,1951,1952,1953,1954,1955,1956,1957,1958,1959,1960],\"xaxis\":\"x\",\"y\":[148,170,199,230,264,302,364,413,465,491,548,622],\"yaxis\":\"y\",\"type\":\"scatter\"},{\"hovertemplate\":\"month=Aug\\u003cbr\\u003eyear=%{x}\\u003cbr\\u003epassengers=%{y}\\u003cextra\\u003e\\u003c\\u002fextra\\u003e\",\"legendgroup\":\"Aug\",\"marker\":{\"color\":\"#B6E880\",\"symbol\":\"circle\"},\"mode\":\"markers\",\"name\":\"Aug\",\"orientation\":\"v\",\"showlegend\":true,\"x\":[1949,1950,1951,1952,1953,1954,1955,1956,1957,1958,1959,1960],\"xaxis\":\"x\",\"y\":[148,170,199,242,272,293,347,405,467,505,559,606],\"yaxis\":\"y\",\"type\":\"scatter\"},{\"hovertemplate\":\"month=Sep\\u003cbr\\u003eyear=%{x}\\u003cbr\\u003epassengers=%{y}\\u003cextra\\u003e\\u003c\\u002fextra\\u003e\",\"legendgroup\":\"Sep\",\"marker\":{\"color\":\"#FF97FF\",\"symbol\":\"circle\"},\"mode\":\"markers\",\"name\":\"Sep\",\"orientation\":\"v\",\"showlegend\":true,\"x\":[1949,1950,1951,1952,1953,1954,1955,1956,1957,1958,1959,1960],\"xaxis\":\"x\",\"y\":[136,158,184,209,237,259,312,355,404,404,463,508],\"yaxis\":\"y\",\"type\":\"scatter\"},{\"hovertemplate\":\"month=Oct\\u003cbr\\u003eyear=%{x}\\u003cbr\\u003epassengers=%{y}\\u003cextra\\u003e\\u003c\\u002fextra\\u003e\",\"legendgroup\":\"Oct\",\"marker\":{\"color\":\"#FECB52\",\"symbol\":\"circle\"},\"mode\":\"markers\",\"name\":\"Oct\",\"orientation\":\"v\",\"showlegend\":true,\"x\":[1949,1950,1951,1952,1953,1954,1955,1956,1957,1958,1959,1960],\"xaxis\":\"x\",\"y\":[119,133,162,191,211,229,274,306,347,359,407,461],\"yaxis\":\"y\",\"type\":\"scatter\"},{\"hovertemplate\":\"month=Nov\\u003cbr\\u003eyear=%{x}\\u003cbr\\u003epassengers=%{y}\\u003cextra\\u003e\\u003c\\u002fextra\\u003e\",\"legendgroup\":\"Nov\",\"marker\":{\"color\":\"#636efa\",\"symbol\":\"circle\"},\"mode\":\"markers\",\"name\":\"Nov\",\"orientation\":\"v\",\"showlegend\":true,\"x\":[1949,1950,1951,1952,1953,1954,1955,1956,1957,1958,1959,1960],\"xaxis\":\"x\",\"y\":[104,114,146,172,180,203,237,271,305,310,362,390],\"yaxis\":\"y\",\"type\":\"scatter\"},{\"hovertemplate\":\"month=Dec\\u003cbr\\u003eyear=%{x}\\u003cbr\\u003epassengers=%{y}\\u003cextra\\u003e\\u003c\\u002fextra\\u003e\",\"legendgroup\":\"Dec\",\"marker\":{\"color\":\"#EF553B\",\"symbol\":\"circle\"},\"mode\":\"markers\",\"name\":\"Dec\",\"orientation\":\"v\",\"showlegend\":true,\"x\":[1949,1950,1951,1952,1953,1954,1955,1956,1957,1958,1959,1960],\"xaxis\":\"x\",\"y\":[118,140,166,194,201,229,278,306,336,337,405,432],\"yaxis\":\"y\",\"type\":\"scatter\"}],                        {\"template\":{\"data\":{\"histogram2dcontour\":[{\"type\":\"histogram2dcontour\",\"colorbar\":{\"outlinewidth\":0,\"ticks\":\"\"},\"colorscale\":[[0.0,\"#0d0887\"],[0.1111111111111111,\"#46039f\"],[0.2222222222222222,\"#7201a8\"],[0.3333333333333333,\"#9c179e\"],[0.4444444444444444,\"#bd3786\"],[0.5555555555555556,\"#d8576b\"],[0.6666666666666666,\"#ed7953\"],[0.7777777777777778,\"#fb9f3a\"],[0.8888888888888888,\"#fdca26\"],[1.0,\"#f0f921\"]]}],\"choropleth\":[{\"type\":\"choropleth\",\"colorbar\":{\"outlinewidth\":0,\"ticks\":\"\"}}],\"histogram2d\":[{\"type\":\"histogram2d\",\"colorbar\":{\"outlinewidth\":0,\"ticks\":\"\"},\"colorscale\":[[0.0,\"#0d0887\"],[0.1111111111111111,\"#46039f\"],[0.2222222222222222,\"#7201a8\"],[0.3333333333333333,\"#9c179e\"],[0.4444444444444444,\"#bd3786\"],[0.5555555555555556,\"#d8576b\"],[0.6666666666666666,\"#ed7953\"],[0.7777777777777778,\"#fb9f3a\"],[0.8888888888888888,\"#fdca26\"],[1.0,\"#f0f921\"]]}],\"heatmap\":[{\"type\":\"heatmap\",\"colorbar\":{\"outlinewidth\":0,\"ticks\":\"\"},\"colorscale\":[[0.0,\"#0d0887\"],[0.1111111111111111,\"#46039f\"],[0.2222222222222222,\"#7201a8\"],[0.3333333333333333,\"#9c179e\"],[0.4444444444444444,\"#bd3786\"],[0.5555555555555556,\"#d8576b\"],[0.6666666666666666,\"#ed7953\"],[0.7777777777777778,\"#fb9f3a\"],[0.8888888888888888,\"#fdca26\"],[1.0,\"#f0f921\"]]}],\"heatmapgl\":[{\"type\":\"heatmapgl\",\"colorbar\":{\"outlinewidth\":0,\"ticks\":\"\"},\"colorscale\":[[0.0,\"#0d0887\"],[0.1111111111111111,\"#46039f\"],[0.2222222222222222,\"#7201a8\"],[0.3333333333333333,\"#9c179e\"],[0.4444444444444444,\"#bd3786\"],[0.5555555555555556,\"#d8576b\"],[0.6666666666666666,\"#ed7953\"],[0.7777777777777778,\"#fb9f3a\"],[0.8888888888888888,\"#fdca26\"],[1.0,\"#f0f921\"]]}],\"contourcarpet\":[{\"type\":\"contourcarpet\",\"colorbar\":{\"outlinewidth\":0,\"ticks\":\"\"}}],\"contour\":[{\"type\":\"contour\",\"colorbar\":{\"outlinewidth\":0,\"ticks\":\"\"},\"colorscale\":[[0.0,\"#0d0887\"],[0.1111111111111111,\"#46039f\"],[0.2222222222222222,\"#7201a8\"],[0.3333333333333333,\"#9c179e\"],[0.4444444444444444,\"#bd3786\"],[0.5555555555555556,\"#d8576b\"],[0.6666666666666666,\"#ed7953\"],[0.7777777777777778,\"#fb9f3a\"],[0.8888888888888888,\"#fdca26\"],[1.0,\"#f0f921\"]]}],\"surface\":[{\"type\":\"surface\",\"colorbar\":{\"outlinewidth\":0,\"ticks\":\"\"},\"colorscale\":[[0.0,\"#0d0887\"],[0.1111111111111111,\"#46039f\"],[0.2222222222222222,\"#7201a8\"],[0.3333333333333333,\"#9c179e\"],[0.4444444444444444,\"#bd3786\"],[0.5555555555555556,\"#d8576b\"],[0.6666666666666666,\"#ed7953\"],[0.7777777777777778,\"#fb9f3a\"],[0.8888888888888888,\"#fdca26\"],[1.0,\"#f0f921\"]]}],\"mesh3d\":[{\"type\":\"mesh3d\",\"colorbar\":{\"outlinewidth\":0,\"ticks\":\"\"}}],\"scatter\":[{\"fillpattern\":{\"fillmode\":\"overlay\",\"size\":10,\"solidity\":0.2},\"type\":\"scatter\"}],\"parcoords\":[{\"type\":\"parcoords\",\"line\":{\"colorbar\":{\"outlinewidth\":0,\"ticks\":\"\"}}}],\"scatterpolargl\":[{\"type\":\"scatterpolargl\",\"marker\":{\"colorbar\":{\"outlinewidth\":0,\"ticks\":\"\"}}}],\"bar\":[{\"error_x\":{\"color\":\"#2a3f5f\"},\"error_y\":{\"color\":\"#2a3f5f\"},\"marker\":{\"line\":{\"color\":\"#E5ECF6\",\"width\":0.5},\"pattern\":{\"fillmode\":\"overlay\",\"size\":10,\"solidity\":0.2}},\"type\":\"bar\"}],\"scattergeo\":[{\"type\":\"scattergeo\",\"marker\":{\"colorbar\":{\"outlinewidth\":0,\"ticks\":\"\"}}}],\"scatterpolar\":[{\"type\":\"scatterpolar\",\"marker\":{\"colorbar\":{\"outlinewidth\":0,\"ticks\":\"\"}}}],\"histogram\":[{\"marker\":{\"pattern\":{\"fillmode\":\"overlay\",\"size\":10,\"solidity\":0.2}},\"type\":\"histogram\"}],\"scattergl\":[{\"type\":\"scattergl\",\"marker\":{\"colorbar\":{\"outlinewidth\":0,\"ticks\":\"\"}}}],\"scatter3d\":[{\"type\":\"scatter3d\",\"line\":{\"colorbar\":{\"outlinewidth\":0,\"ticks\":\"\"}},\"marker\":{\"colorbar\":{\"outlinewidth\":0,\"ticks\":\"\"}}}],\"scattermapbox\":[{\"type\":\"scattermapbox\",\"marker\":{\"colorbar\":{\"outlinewidth\":0,\"ticks\":\"\"}}}],\"scatterternary\":[{\"type\":\"scatterternary\",\"marker\":{\"colorbar\":{\"outlinewidth\":0,\"ticks\":\"\"}}}],\"scattercarpet\":[{\"type\":\"scattercarpet\",\"marker\":{\"colorbar\":{\"outlinewidth\":0,\"ticks\":\"\"}}}],\"carpet\":[{\"aaxis\":{\"endlinecolor\":\"#2a3f5f\",\"gridcolor\":\"white\",\"linecolor\":\"white\",\"minorgridcolor\":\"white\",\"startlinecolor\":\"#2a3f5f\"},\"baxis\":{\"endlinecolor\":\"#2a3f5f\",\"gridcolor\":\"white\",\"linecolor\":\"white\",\"minorgridcolor\":\"white\",\"startlinecolor\":\"#2a3f5f\"},\"type\":\"carpet\"}],\"table\":[{\"cells\":{\"fill\":{\"color\":\"#EBF0F8\"},\"line\":{\"color\":\"white\"}},\"header\":{\"fill\":{\"color\":\"#C8D4E3\"},\"line\":{\"color\":\"white\"}},\"type\":\"table\"}],\"barpolar\":[{\"marker\":{\"line\":{\"color\":\"#E5ECF6\",\"width\":0.5},\"pattern\":{\"fillmode\":\"overlay\",\"size\":10,\"solidity\":0.2}},\"type\":\"barpolar\"}],\"pie\":[{\"automargin\":true,\"type\":\"pie\"}]},\"layout\":{\"autotypenumbers\":\"strict\",\"colorway\":[\"#636efa\",\"#EF553B\",\"#00cc96\",\"#ab63fa\",\"#FFA15A\",\"#19d3f3\",\"#FF6692\",\"#B6E880\",\"#FF97FF\",\"#FECB52\"],\"font\":{\"color\":\"#2a3f5f\"},\"hovermode\":\"closest\",\"hoverlabel\":{\"align\":\"left\"},\"paper_bgcolor\":\"white\",\"plot_bgcolor\":\"#E5ECF6\",\"polar\":{\"bgcolor\":\"#E5ECF6\",\"angularaxis\":{\"gridcolor\":\"white\",\"linecolor\":\"white\",\"ticks\":\"\"},\"radialaxis\":{\"gridcolor\":\"white\",\"linecolor\":\"white\",\"ticks\":\"\"}},\"ternary\":{\"bgcolor\":\"#E5ECF6\",\"aaxis\":{\"gridcolor\":\"white\",\"linecolor\":\"white\",\"ticks\":\"\"},\"baxis\":{\"gridcolor\":\"white\",\"linecolor\":\"white\",\"ticks\":\"\"},\"caxis\":{\"gridcolor\":\"white\",\"linecolor\":\"white\",\"ticks\":\"\"}},\"coloraxis\":{\"colorbar\":{\"outlinewidth\":0,\"ticks\":\"\"}},\"colorscale\":{\"sequential\":[[0.0,\"#0d0887\"],[0.1111111111111111,\"#46039f\"],[0.2222222222222222,\"#7201a8\"],[0.3333333333333333,\"#9c179e\"],[0.4444444444444444,\"#bd3786\"],[0.5555555555555556,\"#d8576b\"],[0.6666666666666666,\"#ed7953\"],[0.7777777777777778,\"#fb9f3a\"],[0.8888888888888888,\"#fdca26\"],[1.0,\"#f0f921\"]],\"sequentialminus\":[[0.0,\"#0d0887\"],[0.1111111111111111,\"#46039f\"],[0.2222222222222222,\"#7201a8\"],[0.3333333333333333,\"#9c179e\"],[0.4444444444444444,\"#bd3786\"],[0.5555555555555556,\"#d8576b\"],[0.6666666666666666,\"#ed7953\"],[0.7777777777777778,\"#fb9f3a\"],[0.8888888888888888,\"#fdca26\"],[1.0,\"#f0f921\"]],\"diverging\":[[0,\"#8e0152\"],[0.1,\"#c51b7d\"],[0.2,\"#de77ae\"],[0.3,\"#f1b6da\"],[0.4,\"#fde0ef\"],[0.5,\"#f7f7f7\"],[0.6,\"#e6f5d0\"],[0.7,\"#b8e186\"],[0.8,\"#7fbc41\"],[0.9,\"#4d9221\"],[1,\"#276419\"]]},\"xaxis\":{\"gridcolor\":\"white\",\"linecolor\":\"white\",\"ticks\":\"\",\"title\":{\"standoff\":15},\"zerolinecolor\":\"white\",\"automargin\":true,\"zerolinewidth\":2},\"yaxis\":{\"gridcolor\":\"white\",\"linecolor\":\"white\",\"ticks\":\"\",\"title\":{\"standoff\":15},\"zerolinecolor\":\"white\",\"automargin\":true,\"zerolinewidth\":2},\"scene\":{\"xaxis\":{\"backgroundcolor\":\"#E5ECF6\",\"gridcolor\":\"white\",\"linecolor\":\"white\",\"showbackground\":true,\"ticks\":\"\",\"zerolinecolor\":\"white\",\"gridwidth\":2},\"yaxis\":{\"backgroundcolor\":\"#E5ECF6\",\"gridcolor\":\"white\",\"linecolor\":\"white\",\"showbackground\":true,\"ticks\":\"\",\"zerolinecolor\":\"white\",\"gridwidth\":2},\"zaxis\":{\"backgroundcolor\":\"#E5ECF6\",\"gridcolor\":\"white\",\"linecolor\":\"white\",\"showbackground\":true,\"ticks\":\"\",\"zerolinecolor\":\"white\",\"gridwidth\":2}},\"shapedefaults\":{\"line\":{\"color\":\"#2a3f5f\"}},\"annotationdefaults\":{\"arrowcolor\":\"#2a3f5f\",\"arrowhead\":0,\"arrowwidth\":1},\"geo\":{\"bgcolor\":\"white\",\"landcolor\":\"#E5ECF6\",\"subunitcolor\":\"white\",\"showland\":true,\"showlakes\":true,\"lakecolor\":\"white\"},\"title\":{\"x\":0.05},\"mapbox\":{\"style\":\"light\"}}},\"xaxis\":{\"anchor\":\"y\",\"domain\":[0.0,1.0],\"title\":{\"text\":\"year\"}},\"yaxis\":{\"anchor\":\"x\",\"domain\":[0.0,1.0],\"title\":{\"text\":\"passengers\"}},\"legend\":{\"title\":{\"text\":\"month\"},\"tracegroupgap\":0},\"margin\":{\"t\":60}},                        {\"responsive\": true}                    ).then(function(){\n",
       "                            \n",
       "var gd = document.getElementById('d101e15f-e4d3-432d-bb85-20b17765b271');\n",
       "var x = new MutationObserver(function (mutations, observer) {{\n",
       "        var display = window.getComputedStyle(gd).display;\n",
       "        if (!display || display === 'none') {{\n",
       "            console.log([gd, 'removed!']);\n",
       "            Plotly.purge(gd);\n",
       "            observer.disconnect();\n",
       "        }}\n",
       "}});\n",
       "\n",
       "// Listen for the removal of the full notebook cells\n",
       "var notebookContainer = gd.closest('#notebook-container');\n",
       "if (notebookContainer) {{\n",
       "    x.observe(notebookContainer, {childList: true});\n",
       "}}\n",
       "\n",
       "// Listen for the clearing of the current output cell\n",
       "var outputEl = gd.closest('.output');\n",
       "if (outputEl) {{\n",
       "    x.observe(outputEl, {childList: true});\n",
       "}}\n",
       "\n",
       "                        })                };                });            </script>        </div>"
      ]
     },
     "metadata": {},
     "output_type": "display_data"
    }
   ],
   "source": [
    "px.scatter(data_frame=flights, x='year', y='passengers', color='month')"
   ]
  },
  {
   "cell_type": "markdown",
   "metadata": {},
   "source": [
    "In ```sns.relational``` recall there were 3 plots, 2 which output a plot on the ```Axes``` level and had compatibility with other ```pyplot``` functions:\n",
    "\n",
    "```python\n",
    "sns.lineplot(data=flights, x='year', y='passengers', hue='month')\n",
    "```\n",
    "\n",
    "```python\n",
    "sns.scatterplot(data=flights, x='year', y='passengers', hue='month')\n",
    "```\n",
    "\n",
    "And one which output a plot on a ```Figure``` level ```FacetGrid``` which could have multiple subplots:\n",
    "\n",
    "```python\n",
    "sns.relplot(data=flights, x='year', y='passengers', hue='month', col='month', col_wrap=3, kind='line')\n",
    "```\n",
    "\n",
    "In ```px``` there is no compatibility with ```pyplot``` and all functions output essentially a ```plotly``` equivalent to a ```Figure``` level ```FacetGrid```. Notice that there are once again similar input parameters:\n",
    "\n",
    "```python\n",
    "px.line(data_frame=flights, x='year', y='passengers', color='month', facet_col='month', facet_col_wrap=3)\n",
    "```\n",
    "\n",
    "```python\n",
    "px.scatter(data_frame=flights, x='year', y='passengers', color='month', facet_col='month', facet_col_wrap=3)\n",
    "```\n",
    "\n",
    "In the functions input arguments ```col``` becomes ```facet_col```, ```row``` becomes ```facet_row``` and ```col_wrap``` becomes ```facet_col_wrap```. Instead of a ```kind``` parameter used to switch the plot type, the plot type is directly selected."
   ]
  },
  {
   "cell_type": "code",
   "execution_count": 22,
   "metadata": {},
   "outputs": [
    {
     "data": {
      "application/vnd.plotly.v1+json": {
       "config": {
        "plotlyServerURL": "https://plot.ly"
       },
       "data": [
        {
         "hovertemplate": "month=Jan<br>year=%{x}<br>passengers=%{y}<extra></extra>",
         "legendgroup": "Jan",
         "line": {
          "color": "#636efa",
          "dash": "solid"
         },
         "marker": {
          "symbol": "circle"
         },
         "mode": "lines",
         "name": "Jan",
         "orientation": "v",
         "showlegend": true,
         "type": "scatter",
         "x": [
          1949,
          1950,
          1951,
          1952,
          1953,
          1954,
          1955,
          1956,
          1957,
          1958,
          1959,
          1960
         ],
         "xaxis": "x10",
         "y": [
          112,
          115,
          145,
          171,
          196,
          204,
          242,
          284,
          315,
          340,
          360,
          417
         ],
         "yaxis": "y10"
        },
        {
         "hovertemplate": "month=Feb<br>year=%{x}<br>passengers=%{y}<extra></extra>",
         "legendgroup": "Feb",
         "line": {
          "color": "#EF553B",
          "dash": "solid"
         },
         "marker": {
          "symbol": "circle"
         },
         "mode": "lines",
         "name": "Feb",
         "orientation": "v",
         "showlegend": true,
         "type": "scatter",
         "x": [
          1949,
          1950,
          1951,
          1952,
          1953,
          1954,
          1955,
          1956,
          1957,
          1958,
          1959,
          1960
         ],
         "xaxis": "x11",
         "y": [
          118,
          126,
          150,
          180,
          196,
          188,
          233,
          277,
          301,
          318,
          342,
          391
         ],
         "yaxis": "y11"
        },
        {
         "hovertemplate": "month=Mar<br>year=%{x}<br>passengers=%{y}<extra></extra>",
         "legendgroup": "Mar",
         "line": {
          "color": "#00cc96",
          "dash": "solid"
         },
         "marker": {
          "symbol": "circle"
         },
         "mode": "lines",
         "name": "Mar",
         "orientation": "v",
         "showlegend": true,
         "type": "scatter",
         "x": [
          1949,
          1950,
          1951,
          1952,
          1953,
          1954,
          1955,
          1956,
          1957,
          1958,
          1959,
          1960
         ],
         "xaxis": "x12",
         "y": [
          132,
          141,
          178,
          193,
          236,
          235,
          267,
          317,
          356,
          362,
          406,
          419
         ],
         "yaxis": "y12"
        },
        {
         "hovertemplate": "month=Apr<br>year=%{x}<br>passengers=%{y}<extra></extra>",
         "legendgroup": "Apr",
         "line": {
          "color": "#ab63fa",
          "dash": "solid"
         },
         "marker": {
          "symbol": "circle"
         },
         "mode": "lines",
         "name": "Apr",
         "orientation": "v",
         "showlegend": true,
         "type": "scatter",
         "x": [
          1949,
          1950,
          1951,
          1952,
          1953,
          1954,
          1955,
          1956,
          1957,
          1958,
          1959,
          1960
         ],
         "xaxis": "x7",
         "y": [
          129,
          135,
          163,
          181,
          235,
          227,
          269,
          313,
          348,
          348,
          396,
          461
         ],
         "yaxis": "y7"
        },
        {
         "hovertemplate": "month=May<br>year=%{x}<br>passengers=%{y}<extra></extra>",
         "legendgroup": "May",
         "line": {
          "color": "#FFA15A",
          "dash": "solid"
         },
         "marker": {
          "symbol": "circle"
         },
         "mode": "lines",
         "name": "May",
         "orientation": "v",
         "showlegend": true,
         "type": "scatter",
         "x": [
          1949,
          1950,
          1951,
          1952,
          1953,
          1954,
          1955,
          1956,
          1957,
          1958,
          1959,
          1960
         ],
         "xaxis": "x8",
         "y": [
          121,
          125,
          172,
          183,
          229,
          234,
          270,
          318,
          355,
          363,
          420,
          472
         ],
         "yaxis": "y8"
        },
        {
         "hovertemplate": "month=Jun<br>year=%{x}<br>passengers=%{y}<extra></extra>",
         "legendgroup": "Jun",
         "line": {
          "color": "#19d3f3",
          "dash": "solid"
         },
         "marker": {
          "symbol": "circle"
         },
         "mode": "lines",
         "name": "Jun",
         "orientation": "v",
         "showlegend": true,
         "type": "scatter",
         "x": [
          1949,
          1950,
          1951,
          1952,
          1953,
          1954,
          1955,
          1956,
          1957,
          1958,
          1959,
          1960
         ],
         "xaxis": "x9",
         "y": [
          135,
          149,
          178,
          218,
          243,
          264,
          315,
          374,
          422,
          435,
          472,
          535
         ],
         "yaxis": "y9"
        },
        {
         "hovertemplate": "month=Jul<br>year=%{x}<br>passengers=%{y}<extra></extra>",
         "legendgroup": "Jul",
         "line": {
          "color": "#FF6692",
          "dash": "solid"
         },
         "marker": {
          "symbol": "circle"
         },
         "mode": "lines",
         "name": "Jul",
         "orientation": "v",
         "showlegend": true,
         "type": "scatter",
         "x": [
          1949,
          1950,
          1951,
          1952,
          1953,
          1954,
          1955,
          1956,
          1957,
          1958,
          1959,
          1960
         ],
         "xaxis": "x4",
         "y": [
          148,
          170,
          199,
          230,
          264,
          302,
          364,
          413,
          465,
          491,
          548,
          622
         ],
         "yaxis": "y4"
        },
        {
         "hovertemplate": "month=Aug<br>year=%{x}<br>passengers=%{y}<extra></extra>",
         "legendgroup": "Aug",
         "line": {
          "color": "#B6E880",
          "dash": "solid"
         },
         "marker": {
          "symbol": "circle"
         },
         "mode": "lines",
         "name": "Aug",
         "orientation": "v",
         "showlegend": true,
         "type": "scatter",
         "x": [
          1949,
          1950,
          1951,
          1952,
          1953,
          1954,
          1955,
          1956,
          1957,
          1958,
          1959,
          1960
         ],
         "xaxis": "x5",
         "y": [
          148,
          170,
          199,
          242,
          272,
          293,
          347,
          405,
          467,
          505,
          559,
          606
         ],
         "yaxis": "y5"
        },
        {
         "hovertemplate": "month=Sep<br>year=%{x}<br>passengers=%{y}<extra></extra>",
         "legendgroup": "Sep",
         "line": {
          "color": "#FF97FF",
          "dash": "solid"
         },
         "marker": {
          "symbol": "circle"
         },
         "mode": "lines",
         "name": "Sep",
         "orientation": "v",
         "showlegend": true,
         "type": "scatter",
         "x": [
          1949,
          1950,
          1951,
          1952,
          1953,
          1954,
          1955,
          1956,
          1957,
          1958,
          1959,
          1960
         ],
         "xaxis": "x6",
         "y": [
          136,
          158,
          184,
          209,
          237,
          259,
          312,
          355,
          404,
          404,
          463,
          508
         ],
         "yaxis": "y6"
        },
        {
         "hovertemplate": "month=Oct<br>year=%{x}<br>passengers=%{y}<extra></extra>",
         "legendgroup": "Oct",
         "line": {
          "color": "#FECB52",
          "dash": "solid"
         },
         "marker": {
          "symbol": "circle"
         },
         "mode": "lines",
         "name": "Oct",
         "orientation": "v",
         "showlegend": true,
         "type": "scatter",
         "x": [
          1949,
          1950,
          1951,
          1952,
          1953,
          1954,
          1955,
          1956,
          1957,
          1958,
          1959,
          1960
         ],
         "xaxis": "x",
         "y": [
          119,
          133,
          162,
          191,
          211,
          229,
          274,
          306,
          347,
          359,
          407,
          461
         ],
         "yaxis": "y"
        },
        {
         "hovertemplate": "month=Nov<br>year=%{x}<br>passengers=%{y}<extra></extra>",
         "legendgroup": "Nov",
         "line": {
          "color": "#636efa",
          "dash": "solid"
         },
         "marker": {
          "symbol": "circle"
         },
         "mode": "lines",
         "name": "Nov",
         "orientation": "v",
         "showlegend": true,
         "type": "scatter",
         "x": [
          1949,
          1950,
          1951,
          1952,
          1953,
          1954,
          1955,
          1956,
          1957,
          1958,
          1959,
          1960
         ],
         "xaxis": "x2",
         "y": [
          104,
          114,
          146,
          172,
          180,
          203,
          237,
          271,
          305,
          310,
          362,
          390
         ],
         "yaxis": "y2"
        },
        {
         "hovertemplate": "month=Dec<br>year=%{x}<br>passengers=%{y}<extra></extra>",
         "legendgroup": "Dec",
         "line": {
          "color": "#EF553B",
          "dash": "solid"
         },
         "marker": {
          "symbol": "circle"
         },
         "mode": "lines",
         "name": "Dec",
         "orientation": "v",
         "showlegend": true,
         "type": "scatter",
         "x": [
          1949,
          1950,
          1951,
          1952,
          1953,
          1954,
          1955,
          1956,
          1957,
          1958,
          1959,
          1960
         ],
         "xaxis": "x3",
         "y": [
          118,
          140,
          166,
          194,
          201,
          229,
          278,
          306,
          336,
          337,
          405,
          432
         ],
         "yaxis": "y3"
        }
       ],
       "layout": {
        "annotations": [
         {
          "font": {},
          "showarrow": false,
          "text": "month=Oct",
          "x": 0.15999999999999998,
          "xanchor": "center",
          "xref": "paper",
          "y": 0.1975,
          "yanchor": "bottom",
          "yref": "paper"
         },
         {
          "font": {},
          "showarrow": false,
          "text": "month=Nov",
          "x": 0.49999999999999994,
          "xanchor": "center",
          "xref": "paper",
          "y": 0.1975,
          "yanchor": "bottom",
          "yref": "paper"
         },
         {
          "font": {},
          "showarrow": false,
          "text": "month=Dec",
          "x": 0.8399999999999999,
          "xanchor": "center",
          "xref": "paper",
          "y": 0.1975,
          "yanchor": "bottom",
          "yref": "paper"
         },
         {
          "font": {},
          "showarrow": false,
          "text": "month=Jul",
          "x": 0.15999999999999998,
          "xanchor": "center",
          "xref": "paper",
          "y": 0.465,
          "yanchor": "bottom",
          "yref": "paper"
         },
         {
          "font": {},
          "showarrow": false,
          "text": "month=Aug",
          "x": 0.49999999999999994,
          "xanchor": "center",
          "xref": "paper",
          "y": 0.465,
          "yanchor": "bottom",
          "yref": "paper"
         },
         {
          "font": {},
          "showarrow": false,
          "text": "month=Sep",
          "x": 0.8399999999999999,
          "xanchor": "center",
          "xref": "paper",
          "y": 0.465,
          "yanchor": "bottom",
          "yref": "paper"
         },
         {
          "font": {},
          "showarrow": false,
          "text": "month=Apr",
          "x": 0.15999999999999998,
          "xanchor": "center",
          "xref": "paper",
          "y": 0.7325,
          "yanchor": "bottom",
          "yref": "paper"
         },
         {
          "font": {},
          "showarrow": false,
          "text": "month=May",
          "x": 0.49999999999999994,
          "xanchor": "center",
          "xref": "paper",
          "y": 0.7325,
          "yanchor": "bottom",
          "yref": "paper"
         },
         {
          "font": {},
          "showarrow": false,
          "text": "month=Jun",
          "x": 0.8399999999999999,
          "xanchor": "center",
          "xref": "paper",
          "y": 0.7325,
          "yanchor": "bottom",
          "yref": "paper"
         },
         {
          "font": {},
          "showarrow": false,
          "text": "month=Jan",
          "x": 0.15999999999999998,
          "xanchor": "center",
          "xref": "paper",
          "y": 1,
          "yanchor": "bottom",
          "yref": "paper"
         },
         {
          "font": {},
          "showarrow": false,
          "text": "month=Feb",
          "x": 0.49999999999999994,
          "xanchor": "center",
          "xref": "paper",
          "y": 1,
          "yanchor": "bottom",
          "yref": "paper"
         },
         {
          "font": {},
          "showarrow": false,
          "text": "month=Mar",
          "x": 0.8399999999999999,
          "xanchor": "center",
          "xref": "paper",
          "y": 1,
          "yanchor": "bottom",
          "yref": "paper"
         }
        ],
        "autosize": true,
        "legend": {
         "title": {
          "text": "month"
         },
         "tracegroupgap": 0
        },
        "margin": {
         "t": 60
        },
        "template": {
         "data": {
          "bar": [
           {
            "error_x": {
             "color": "#2a3f5f"
            },
            "error_y": {
             "color": "#2a3f5f"
            },
            "marker": {
             "line": {
              "color": "#E5ECF6",
              "width": 0.5
             },
             "pattern": {
              "fillmode": "overlay",
              "size": 10,
              "solidity": 0.2
             }
            },
            "type": "bar"
           }
          ],
          "barpolar": [
           {
            "marker": {
             "line": {
              "color": "#E5ECF6",
              "width": 0.5
             },
             "pattern": {
              "fillmode": "overlay",
              "size": 10,
              "solidity": 0.2
             }
            },
            "type": "barpolar"
           }
          ],
          "carpet": [
           {
            "aaxis": {
             "endlinecolor": "#2a3f5f",
             "gridcolor": "white",
             "linecolor": "white",
             "minorgridcolor": "white",
             "startlinecolor": "#2a3f5f"
            },
            "baxis": {
             "endlinecolor": "#2a3f5f",
             "gridcolor": "white",
             "linecolor": "white",
             "minorgridcolor": "white",
             "startlinecolor": "#2a3f5f"
            },
            "type": "carpet"
           }
          ],
          "choropleth": [
           {
            "colorbar": {
             "outlinewidth": 0,
             "ticks": ""
            },
            "type": "choropleth"
           }
          ],
          "contour": [
           {
            "colorbar": {
             "outlinewidth": 0,
             "ticks": ""
            },
            "colorscale": [
             [
              0,
              "#0d0887"
             ],
             [
              0.1111111111111111,
              "#46039f"
             ],
             [
              0.2222222222222222,
              "#7201a8"
             ],
             [
              0.3333333333333333,
              "#9c179e"
             ],
             [
              0.4444444444444444,
              "#bd3786"
             ],
             [
              0.5555555555555556,
              "#d8576b"
             ],
             [
              0.6666666666666666,
              "#ed7953"
             ],
             [
              0.7777777777777778,
              "#fb9f3a"
             ],
             [
              0.8888888888888888,
              "#fdca26"
             ],
             [
              1,
              "#f0f921"
             ]
            ],
            "type": "contour"
           }
          ],
          "contourcarpet": [
           {
            "colorbar": {
             "outlinewidth": 0,
             "ticks": ""
            },
            "type": "contourcarpet"
           }
          ],
          "heatmap": [
           {
            "colorbar": {
             "outlinewidth": 0,
             "ticks": ""
            },
            "colorscale": [
             [
              0,
              "#0d0887"
             ],
             [
              0.1111111111111111,
              "#46039f"
             ],
             [
              0.2222222222222222,
              "#7201a8"
             ],
             [
              0.3333333333333333,
              "#9c179e"
             ],
             [
              0.4444444444444444,
              "#bd3786"
             ],
             [
              0.5555555555555556,
              "#d8576b"
             ],
             [
              0.6666666666666666,
              "#ed7953"
             ],
             [
              0.7777777777777778,
              "#fb9f3a"
             ],
             [
              0.8888888888888888,
              "#fdca26"
             ],
             [
              1,
              "#f0f921"
             ]
            ],
            "type": "heatmap"
           }
          ],
          "heatmapgl": [
           {
            "colorbar": {
             "outlinewidth": 0,
             "ticks": ""
            },
            "colorscale": [
             [
              0,
              "#0d0887"
             ],
             [
              0.1111111111111111,
              "#46039f"
             ],
             [
              0.2222222222222222,
              "#7201a8"
             ],
             [
              0.3333333333333333,
              "#9c179e"
             ],
             [
              0.4444444444444444,
              "#bd3786"
             ],
             [
              0.5555555555555556,
              "#d8576b"
             ],
             [
              0.6666666666666666,
              "#ed7953"
             ],
             [
              0.7777777777777778,
              "#fb9f3a"
             ],
             [
              0.8888888888888888,
              "#fdca26"
             ],
             [
              1,
              "#f0f921"
             ]
            ],
            "type": "heatmapgl"
           }
          ],
          "histogram": [
           {
            "marker": {
             "pattern": {
              "fillmode": "overlay",
              "size": 10,
              "solidity": 0.2
             }
            },
            "type": "histogram"
           }
          ],
          "histogram2d": [
           {
            "colorbar": {
             "outlinewidth": 0,
             "ticks": ""
            },
            "colorscale": [
             [
              0,
              "#0d0887"
             ],
             [
              0.1111111111111111,
              "#46039f"
             ],
             [
              0.2222222222222222,
              "#7201a8"
             ],
             [
              0.3333333333333333,
              "#9c179e"
             ],
             [
              0.4444444444444444,
              "#bd3786"
             ],
             [
              0.5555555555555556,
              "#d8576b"
             ],
             [
              0.6666666666666666,
              "#ed7953"
             ],
             [
              0.7777777777777778,
              "#fb9f3a"
             ],
             [
              0.8888888888888888,
              "#fdca26"
             ],
             [
              1,
              "#f0f921"
             ]
            ],
            "type": "histogram2d"
           }
          ],
          "histogram2dcontour": [
           {
            "colorbar": {
             "outlinewidth": 0,
             "ticks": ""
            },
            "colorscale": [
             [
              0,
              "#0d0887"
             ],
             [
              0.1111111111111111,
              "#46039f"
             ],
             [
              0.2222222222222222,
              "#7201a8"
             ],
             [
              0.3333333333333333,
              "#9c179e"
             ],
             [
              0.4444444444444444,
              "#bd3786"
             ],
             [
              0.5555555555555556,
              "#d8576b"
             ],
             [
              0.6666666666666666,
              "#ed7953"
             ],
             [
              0.7777777777777778,
              "#fb9f3a"
             ],
             [
              0.8888888888888888,
              "#fdca26"
             ],
             [
              1,
              "#f0f921"
             ]
            ],
            "type": "histogram2dcontour"
           }
          ],
          "mesh3d": [
           {
            "colorbar": {
             "outlinewidth": 0,
             "ticks": ""
            },
            "type": "mesh3d"
           }
          ],
          "parcoords": [
           {
            "line": {
             "colorbar": {
              "outlinewidth": 0,
              "ticks": ""
             }
            },
            "type": "parcoords"
           }
          ],
          "pie": [
           {
            "automargin": true,
            "type": "pie"
           }
          ],
          "scatter": [
           {
            "fillpattern": {
             "fillmode": "overlay",
             "size": 10,
             "solidity": 0.2
            },
            "type": "scatter"
           }
          ],
          "scatter3d": [
           {
            "line": {
             "colorbar": {
              "outlinewidth": 0,
              "ticks": ""
             }
            },
            "marker": {
             "colorbar": {
              "outlinewidth": 0,
              "ticks": ""
             }
            },
            "type": "scatter3d"
           }
          ],
          "scattercarpet": [
           {
            "marker": {
             "colorbar": {
              "outlinewidth": 0,
              "ticks": ""
             }
            },
            "type": "scattercarpet"
           }
          ],
          "scattergeo": [
           {
            "marker": {
             "colorbar": {
              "outlinewidth": 0,
              "ticks": ""
             }
            },
            "type": "scattergeo"
           }
          ],
          "scattergl": [
           {
            "marker": {
             "colorbar": {
              "outlinewidth": 0,
              "ticks": ""
             }
            },
            "type": "scattergl"
           }
          ],
          "scattermapbox": [
           {
            "marker": {
             "colorbar": {
              "outlinewidth": 0,
              "ticks": ""
             }
            },
            "type": "scattermapbox"
           }
          ],
          "scatterpolar": [
           {
            "marker": {
             "colorbar": {
              "outlinewidth": 0,
              "ticks": ""
             }
            },
            "type": "scatterpolar"
           }
          ],
          "scatterpolargl": [
           {
            "marker": {
             "colorbar": {
              "outlinewidth": 0,
              "ticks": ""
             }
            },
            "type": "scatterpolargl"
           }
          ],
          "scatterternary": [
           {
            "marker": {
             "colorbar": {
              "outlinewidth": 0,
              "ticks": ""
             }
            },
            "type": "scatterternary"
           }
          ],
          "surface": [
           {
            "colorbar": {
             "outlinewidth": 0,
             "ticks": ""
            },
            "colorscale": [
             [
              0,
              "#0d0887"
             ],
             [
              0.1111111111111111,
              "#46039f"
             ],
             [
              0.2222222222222222,
              "#7201a8"
             ],
             [
              0.3333333333333333,
              "#9c179e"
             ],
             [
              0.4444444444444444,
              "#bd3786"
             ],
             [
              0.5555555555555556,
              "#d8576b"
             ],
             [
              0.6666666666666666,
              "#ed7953"
             ],
             [
              0.7777777777777778,
              "#fb9f3a"
             ],
             [
              0.8888888888888888,
              "#fdca26"
             ],
             [
              1,
              "#f0f921"
             ]
            ],
            "type": "surface"
           }
          ],
          "table": [
           {
            "cells": {
             "fill": {
              "color": "#EBF0F8"
             },
             "line": {
              "color": "white"
             }
            },
            "header": {
             "fill": {
              "color": "#C8D4E3"
             },
             "line": {
              "color": "white"
             }
            },
            "type": "table"
           }
          ]
         },
         "layout": {
          "annotationdefaults": {
           "arrowcolor": "#2a3f5f",
           "arrowhead": 0,
           "arrowwidth": 1
          },
          "autotypenumbers": "strict",
          "coloraxis": {
           "colorbar": {
            "outlinewidth": 0,
            "ticks": ""
           }
          },
          "colorscale": {
           "diverging": [
            [
             0,
             "#8e0152"
            ],
            [
             0.1,
             "#c51b7d"
            ],
            [
             0.2,
             "#de77ae"
            ],
            [
             0.3,
             "#f1b6da"
            ],
            [
             0.4,
             "#fde0ef"
            ],
            [
             0.5,
             "#f7f7f7"
            ],
            [
             0.6,
             "#e6f5d0"
            ],
            [
             0.7,
             "#b8e186"
            ],
            [
             0.8,
             "#7fbc41"
            ],
            [
             0.9,
             "#4d9221"
            ],
            [
             1,
             "#276419"
            ]
           ],
           "sequential": [
            [
             0,
             "#0d0887"
            ],
            [
             0.1111111111111111,
             "#46039f"
            ],
            [
             0.2222222222222222,
             "#7201a8"
            ],
            [
             0.3333333333333333,
             "#9c179e"
            ],
            [
             0.4444444444444444,
             "#bd3786"
            ],
            [
             0.5555555555555556,
             "#d8576b"
            ],
            [
             0.6666666666666666,
             "#ed7953"
            ],
            [
             0.7777777777777778,
             "#fb9f3a"
            ],
            [
             0.8888888888888888,
             "#fdca26"
            ],
            [
             1,
             "#f0f921"
            ]
           ],
           "sequentialminus": [
            [
             0,
             "#0d0887"
            ],
            [
             0.1111111111111111,
             "#46039f"
            ],
            [
             0.2222222222222222,
             "#7201a8"
            ],
            [
             0.3333333333333333,
             "#9c179e"
            ],
            [
             0.4444444444444444,
             "#bd3786"
            ],
            [
             0.5555555555555556,
             "#d8576b"
            ],
            [
             0.6666666666666666,
             "#ed7953"
            ],
            [
             0.7777777777777778,
             "#fb9f3a"
            ],
            [
             0.8888888888888888,
             "#fdca26"
            ],
            [
             1,
             "#f0f921"
            ]
           ]
          },
          "colorway": [
           "#636efa",
           "#EF553B",
           "#00cc96",
           "#ab63fa",
           "#FFA15A",
           "#19d3f3",
           "#FF6692",
           "#B6E880",
           "#FF97FF",
           "#FECB52"
          ],
          "font": {
           "color": "#2a3f5f"
          },
          "geo": {
           "bgcolor": "white",
           "lakecolor": "white",
           "landcolor": "#E5ECF6",
           "showlakes": true,
           "showland": true,
           "subunitcolor": "white"
          },
          "hoverlabel": {
           "align": "left"
          },
          "hovermode": "closest",
          "mapbox": {
           "style": "light"
          },
          "paper_bgcolor": "white",
          "plot_bgcolor": "#E5ECF6",
          "polar": {
           "angularaxis": {
            "gridcolor": "white",
            "linecolor": "white",
            "ticks": ""
           },
           "bgcolor": "#E5ECF6",
           "radialaxis": {
            "gridcolor": "white",
            "linecolor": "white",
            "ticks": ""
           }
          },
          "scene": {
           "xaxis": {
            "backgroundcolor": "#E5ECF6",
            "gridcolor": "white",
            "gridwidth": 2,
            "linecolor": "white",
            "showbackground": true,
            "ticks": "",
            "zerolinecolor": "white"
           },
           "yaxis": {
            "backgroundcolor": "#E5ECF6",
            "gridcolor": "white",
            "gridwidth": 2,
            "linecolor": "white",
            "showbackground": true,
            "ticks": "",
            "zerolinecolor": "white"
           },
           "zaxis": {
            "backgroundcolor": "#E5ECF6",
            "gridcolor": "white",
            "gridwidth": 2,
            "linecolor": "white",
            "showbackground": true,
            "ticks": "",
            "zerolinecolor": "white"
           }
          },
          "shapedefaults": {
           "line": {
            "color": "#2a3f5f"
           }
          },
          "ternary": {
           "aaxis": {
            "gridcolor": "white",
            "linecolor": "white",
            "ticks": ""
           },
           "baxis": {
            "gridcolor": "white",
            "linecolor": "white",
            "ticks": ""
           },
           "bgcolor": "#E5ECF6",
           "caxis": {
            "gridcolor": "white",
            "linecolor": "white",
            "ticks": ""
           }
          },
          "title": {
           "x": 0.05
          },
          "xaxis": {
           "automargin": true,
           "gridcolor": "white",
           "linecolor": "white",
           "ticks": "",
           "title": {
            "standoff": 15
           },
           "zerolinecolor": "white",
           "zerolinewidth": 2
          },
          "yaxis": {
           "automargin": true,
           "gridcolor": "white",
           "linecolor": "white",
           "ticks": "",
           "title": {
            "standoff": 15
           },
           "zerolinecolor": "white",
           "zerolinewidth": 2
          }
         }
        },
        "xaxis": {
         "anchor": "y",
         "autorange": true,
         "domain": [
          0,
          0.31999999999999995
         ],
         "range": [
          1949,
          1960
         ],
         "title": {
          "text": "year"
         },
         "type": "linear"
        },
        "xaxis10": {
         "anchor": "y10",
         "autorange": true,
         "domain": [
          0,
          0.31999999999999995
         ],
         "matches": "x",
         "range": [
          1949,
          1960
         ],
         "showticklabels": false,
         "type": "linear"
        },
        "xaxis11": {
         "anchor": "y11",
         "autorange": true,
         "domain": [
          0.33999999999999997,
          0.6599999999999999
         ],
         "matches": "x",
         "range": [
          1949,
          1960
         ],
         "showticklabels": false,
         "type": "linear"
        },
        "xaxis12": {
         "anchor": "y12",
         "autorange": true,
         "domain": [
          0.6799999999999999,
          0.9999999999999999
         ],
         "matches": "x",
         "range": [
          1949,
          1960
         ],
         "showticklabels": false,
         "type": "linear"
        },
        "xaxis2": {
         "anchor": "y2",
         "autorange": true,
         "domain": [
          0.33999999999999997,
          0.6599999999999999
         ],
         "matches": "x",
         "range": [
          1949,
          1960
         ],
         "title": {
          "text": "year"
         },
         "type": "linear"
        },
        "xaxis3": {
         "anchor": "y3",
         "autorange": true,
         "domain": [
          0.6799999999999999,
          0.9999999999999999
         ],
         "matches": "x",
         "range": [
          1949,
          1960
         ],
         "title": {
          "text": "year"
         },
         "type": "linear"
        },
        "xaxis4": {
         "anchor": "y4",
         "autorange": true,
         "domain": [
          0,
          0.31999999999999995
         ],
         "matches": "x",
         "range": [
          1949,
          1960
         ],
         "showticklabels": false,
         "type": "linear"
        },
        "xaxis5": {
         "anchor": "y5",
         "autorange": true,
         "domain": [
          0.33999999999999997,
          0.6599999999999999
         ],
         "matches": "x",
         "range": [
          1949,
          1960
         ],
         "showticklabels": false,
         "type": "linear"
        },
        "xaxis6": {
         "anchor": "y6",
         "autorange": true,
         "domain": [
          0.6799999999999999,
          0.9999999999999999
         ],
         "matches": "x",
         "range": [
          1949,
          1960
         ],
         "showticklabels": false,
         "type": "linear"
        },
        "xaxis7": {
         "anchor": "y7",
         "autorange": true,
         "domain": [
          0,
          0.31999999999999995
         ],
         "matches": "x",
         "range": [
          1949,
          1960
         ],
         "showticklabels": false,
         "type": "linear"
        },
        "xaxis8": {
         "anchor": "y8",
         "autorange": true,
         "domain": [
          0.33999999999999997,
          0.6599999999999999
         ],
         "matches": "x",
         "range": [
          1949,
          1960
         ],
         "showticklabels": false,
         "type": "linear"
        },
        "xaxis9": {
         "anchor": "y9",
         "autorange": true,
         "domain": [
          0.6799999999999999,
          0.9999999999999999
         ],
         "matches": "x",
         "range": [
          1949,
          1960
         ],
         "showticklabels": false,
         "type": "linear"
        },
        "yaxis": {
         "anchor": "x",
         "autorange": true,
         "domain": [
          0,
          0.1975
         ],
         "range": [
          75.22222222222223,
          650.7777777777778
         ],
         "title": {
          "text": "passengers"
         },
         "type": "linear"
        },
        "yaxis10": {
         "anchor": "x10",
         "autorange": true,
         "domain": [
          0.8025,
          1
         ],
         "matches": "y",
         "range": [
          75.22222222222223,
          650.7777777777778
         ],
         "title": {
          "text": "passengers"
         },
         "type": "linear"
        },
        "yaxis11": {
         "anchor": "x11",
         "autorange": true,
         "domain": [
          0.8025,
          1
         ],
         "matches": "y",
         "range": [
          75.22222222222223,
          650.7777777777778
         ],
         "showticklabels": false,
         "type": "linear"
        },
        "yaxis12": {
         "anchor": "x12",
         "autorange": true,
         "domain": [
          0.8025,
          1
         ],
         "matches": "y",
         "range": [
          75.22222222222223,
          650.7777777777778
         ],
         "showticklabels": false,
         "type": "linear"
        },
        "yaxis2": {
         "anchor": "x2",
         "autorange": true,
         "domain": [
          0,
          0.1975
         ],
         "matches": "y",
         "range": [
          75.22222222222223,
          650.7777777777778
         ],
         "showticklabels": false,
         "type": "linear"
        },
        "yaxis3": {
         "anchor": "x3",
         "autorange": true,
         "domain": [
          0,
          0.1975
         ],
         "matches": "y",
         "range": [
          75.22222222222223,
          650.7777777777778
         ],
         "showticklabels": false,
         "type": "linear"
        },
        "yaxis4": {
         "anchor": "x4",
         "autorange": true,
         "domain": [
          0.2675,
          0.465
         ],
         "matches": "y",
         "range": [
          75.22222222222223,
          650.7777777777778
         ],
         "title": {
          "text": "passengers"
         },
         "type": "linear"
        },
        "yaxis5": {
         "anchor": "x5",
         "autorange": true,
         "domain": [
          0.2675,
          0.465
         ],
         "matches": "y",
         "range": [
          75.22222222222223,
          650.7777777777778
         ],
         "showticklabels": false,
         "type": "linear"
        },
        "yaxis6": {
         "anchor": "x6",
         "autorange": true,
         "domain": [
          0.2675,
          0.465
         ],
         "matches": "y",
         "range": [
          75.22222222222223,
          650.7777777777778
         ],
         "showticklabels": false,
         "type": "linear"
        },
        "yaxis7": {
         "anchor": "x7",
         "autorange": true,
         "domain": [
          0.535,
          0.7325
         ],
         "matches": "y",
         "range": [
          75.22222222222223,
          650.7777777777778
         ],
         "title": {
          "text": "passengers"
         },
         "type": "linear"
        },
        "yaxis8": {
         "anchor": "x8",
         "autorange": true,
         "domain": [
          0.535,
          0.7325
         ],
         "matches": "y",
         "range": [
          75.22222222222223,
          650.7777777777778
         ],
         "showticklabels": false,
         "type": "linear"
        },
        "yaxis9": {
         "anchor": "x9",
         "autorange": true,
         "domain": [
          0.535,
          0.7325
         ],
         "matches": "y",
         "range": [
          75.22222222222223,
          650.7777777777778
         ],
         "showticklabels": false,
         "type": "linear"
        }
       }
      },
      "image/png": "[encoded data removed]",
      "text/html": [
       "<div>                            <div id=\"5a95b3c3-5b8d-437f-be22-11c17ccc4ae9\" class=\"plotly-graph-div\" style=\"height:525px; width:100%;\"></div>            <script type=\"text/javascript\">                require([\"plotly\"], function(Plotly) {                    window.PLOTLYENV=window.PLOTLYENV || {};                                    if (document.getElementById(\"5a95b3c3-5b8d-437f-be22-11c17ccc4ae9\")) {                    Plotly.newPlot(                        \"5a95b3c3-5b8d-437f-be22-11c17ccc4ae9\",                        [{\"hovertemplate\":\"month=Jan\\u003cbr\\u003eyear=%{x}\\u003cbr\\u003epassengers=%{y}\\u003cextra\\u003e\\u003c\\u002fextra\\u003e\",\"legendgroup\":\"Jan\",\"line\":{\"color\":\"#636efa\",\"dash\":\"solid\"},\"marker\":{\"symbol\":\"circle\"},\"mode\":\"lines\",\"name\":\"Jan\",\"orientation\":\"v\",\"showlegend\":true,\"x\":[1949,1950,1951,1952,1953,1954,1955,1956,1957,1958,1959,1960],\"xaxis\":\"x10\",\"y\":[112,115,145,171,196,204,242,284,315,340,360,417],\"yaxis\":\"y10\",\"type\":\"scatter\"},{\"hovertemplate\":\"month=Feb\\u003cbr\\u003eyear=%{x}\\u003cbr\\u003epassengers=%{y}\\u003cextra\\u003e\\u003c\\u002fextra\\u003e\",\"legendgroup\":\"Feb\",\"line\":{\"color\":\"#EF553B\",\"dash\":\"solid\"},\"marker\":{\"symbol\":\"circle\"},\"mode\":\"lines\",\"name\":\"Feb\",\"orientation\":\"v\",\"showlegend\":true,\"x\":[1949,1950,1951,1952,1953,1954,1955,1956,1957,1958,1959,1960],\"xaxis\":\"x11\",\"y\":[118,126,150,180,196,188,233,277,301,318,342,391],\"yaxis\":\"y11\",\"type\":\"scatter\"},{\"hovertemplate\":\"month=Mar\\u003cbr\\u003eyear=%{x}\\u003cbr\\u003epassengers=%{y}\\u003cextra\\u003e\\u003c\\u002fextra\\u003e\",\"legendgroup\":\"Mar\",\"line\":{\"color\":\"#00cc96\",\"dash\":\"solid\"},\"marker\":{\"symbol\":\"circle\"},\"mode\":\"lines\",\"name\":\"Mar\",\"orientation\":\"v\",\"showlegend\":true,\"x\":[1949,1950,1951,1952,1953,1954,1955,1956,1957,1958,1959,1960],\"xaxis\":\"x12\",\"y\":[132,141,178,193,236,235,267,317,356,362,406,419],\"yaxis\":\"y12\",\"type\":\"scatter\"},{\"hovertemplate\":\"month=Apr\\u003cbr\\u003eyear=%{x}\\u003cbr\\u003epassengers=%{y}\\u003cextra\\u003e\\u003c\\u002fextra\\u003e\",\"legendgroup\":\"Apr\",\"line\":{\"color\":\"#ab63fa\",\"dash\":\"solid\"},\"marker\":{\"symbol\":\"circle\"},\"mode\":\"lines\",\"name\":\"Apr\",\"orientation\":\"v\",\"showlegend\":true,\"x\":[1949,1950,1951,1952,1953,1954,1955,1956,1957,1958,1959,1960],\"xaxis\":\"x7\",\"y\":[129,135,163,181,235,227,269,313,348,348,396,461],\"yaxis\":\"y7\",\"type\":\"scatter\"},{\"hovertemplate\":\"month=May\\u003cbr\\u003eyear=%{x}\\u003cbr\\u003epassengers=%{y}\\u003cextra\\u003e\\u003c\\u002fextra\\u003e\",\"legendgroup\":\"May\",\"line\":{\"color\":\"#FFA15A\",\"dash\":\"solid\"},\"marker\":{\"symbol\":\"circle\"},\"mode\":\"lines\",\"name\":\"May\",\"orientation\":\"v\",\"showlegend\":true,\"x\":[1949,1950,1951,1952,1953,1954,1955,1956,1957,1958,1959,1960],\"xaxis\":\"x8\",\"y\":[121,125,172,183,229,234,270,318,355,363,420,472],\"yaxis\":\"y8\",\"type\":\"scatter\"},{\"hovertemplate\":\"month=Jun\\u003cbr\\u003eyear=%{x}\\u003cbr\\u003epassengers=%{y}\\u003cextra\\u003e\\u003c\\u002fextra\\u003e\",\"legendgroup\":\"Jun\",\"line\":{\"color\":\"#19d3f3\",\"dash\":\"solid\"},\"marker\":{\"symbol\":\"circle\"},\"mode\":\"lines\",\"name\":\"Jun\",\"orientation\":\"v\",\"showlegend\":true,\"x\":[1949,1950,1951,1952,1953,1954,1955,1956,1957,1958,1959,1960],\"xaxis\":\"x9\",\"y\":[135,149,178,218,243,264,315,374,422,435,472,535],\"yaxis\":\"y9\",\"type\":\"scatter\"},{\"hovertemplate\":\"month=Jul\\u003cbr\\u003eyear=%{x}\\u003cbr\\u003epassengers=%{y}\\u003cextra\\u003e\\u003c\\u002fextra\\u003e\",\"legendgroup\":\"Jul\",\"line\":{\"color\":\"#FF6692\",\"dash\":\"solid\"},\"marker\":{\"symbol\":\"circle\"},\"mode\":\"lines\",\"name\":\"Jul\",\"orientation\":\"v\",\"showlegend\":true,\"x\":[1949,1950,1951,1952,1953,1954,1955,1956,1957,1958,1959,1960],\"xaxis\":\"x4\",\"y\":[148,170,199,230,264,302,364,413,465,491,548,622],\"yaxis\":\"y4\",\"type\":\"scatter\"},{\"hovertemplate\":\"month=Aug\\u003cbr\\u003eyear=%{x}\\u003cbr\\u003epassengers=%{y}\\u003cextra\\u003e\\u003c\\u002fextra\\u003e\",\"legendgroup\":\"Aug\",\"line\":{\"color\":\"#B6E880\",\"dash\":\"solid\"},\"marker\":{\"symbol\":\"circle\"},\"mode\":\"lines\",\"name\":\"Aug\",\"orientation\":\"v\",\"showlegend\":true,\"x\":[1949,1950,1951,1952,1953,1954,1955,1956,1957,1958,1959,1960],\"xaxis\":\"x5\",\"y\":[148,170,199,242,272,293,347,405,467,505,559,606],\"yaxis\":\"y5\",\"type\":\"scatter\"},{\"hovertemplate\":\"month=Sep\\u003cbr\\u003eyear=%{x}\\u003cbr\\u003epassengers=%{y}\\u003cextra\\u003e\\u003c\\u002fextra\\u003e\",\"legendgroup\":\"Sep\",\"line\":{\"color\":\"#FF97FF\",\"dash\":\"solid\"},\"marker\":{\"symbol\":\"circle\"},\"mode\":\"lines\",\"name\":\"Sep\",\"orientation\":\"v\",\"showlegend\":true,\"x\":[1949,1950,1951,1952,1953,1954,1955,1956,1957,1958,1959,1960],\"xaxis\":\"x6\",\"y\":[136,158,184,209,237,259,312,355,404,404,463,508],\"yaxis\":\"y6\",\"type\":\"scatter\"},{\"hovertemplate\":\"month=Oct\\u003cbr\\u003eyear=%{x}\\u003cbr\\u003epassengers=%{y}\\u003cextra\\u003e\\u003c\\u002fextra\\u003e\",\"legendgroup\":\"Oct\",\"line\":{\"color\":\"#FECB52\",\"dash\":\"solid\"},\"marker\":{\"symbol\":\"circle\"},\"mode\":\"lines\",\"name\":\"Oct\",\"orientation\":\"v\",\"showlegend\":true,\"x\":[1949,1950,1951,1952,1953,1954,1955,1956,1957,1958,1959,1960],\"xaxis\":\"x\",\"y\":[119,133,162,191,211,229,274,306,347,359,407,461],\"yaxis\":\"y\",\"type\":\"scatter\"},{\"hovertemplate\":\"month=Nov\\u003cbr\\u003eyear=%{x}\\u003cbr\\u003epassengers=%{y}\\u003cextra\\u003e\\u003c\\u002fextra\\u003e\",\"legendgroup\":\"Nov\",\"line\":{\"color\":\"#636efa\",\"dash\":\"solid\"},\"marker\":{\"symbol\":\"circle\"},\"mode\":\"lines\",\"name\":\"Nov\",\"orientation\":\"v\",\"showlegend\":true,\"x\":[1949,1950,1951,1952,1953,1954,1955,1956,1957,1958,1959,1960],\"xaxis\":\"x2\",\"y\":[104,114,146,172,180,203,237,271,305,310,362,390],\"yaxis\":\"y2\",\"type\":\"scatter\"},{\"hovertemplate\":\"month=Dec\\u003cbr\\u003eyear=%{x}\\u003cbr\\u003epassengers=%{y}\\u003cextra\\u003e\\u003c\\u002fextra\\u003e\",\"legendgroup\":\"Dec\",\"line\":{\"color\":\"#EF553B\",\"dash\":\"solid\"},\"marker\":{\"symbol\":\"circle\"},\"mode\":\"lines\",\"name\":\"Dec\",\"orientation\":\"v\",\"showlegend\":true,\"x\":[1949,1950,1951,1952,1953,1954,1955,1956,1957,1958,1959,1960],\"xaxis\":\"x3\",\"y\":[118,140,166,194,201,229,278,306,336,337,405,432],\"yaxis\":\"y3\",\"type\":\"scatter\"}],                        {\"template\":{\"data\":{\"histogram2dcontour\":[{\"type\":\"histogram2dcontour\",\"colorbar\":{\"outlinewidth\":0,\"ticks\":\"\"},\"colorscale\":[[0.0,\"#0d0887\"],[0.1111111111111111,\"#46039f\"],[0.2222222222222222,\"#7201a8\"],[0.3333333333333333,\"#9c179e\"],[0.4444444444444444,\"#bd3786\"],[0.5555555555555556,\"#d8576b\"],[0.6666666666666666,\"#ed7953\"],[0.7777777777777778,\"#fb9f3a\"],[0.8888888888888888,\"#fdca26\"],[1.0,\"#f0f921\"]]}],\"choropleth\":[{\"type\":\"choropleth\",\"colorbar\":{\"outlinewidth\":0,\"ticks\":\"\"}}],\"histogram2d\":[{\"type\":\"histogram2d\",\"colorbar\":{\"outlinewidth\":0,\"ticks\":\"\"},\"colorscale\":[[0.0,\"#0d0887\"],[0.1111111111111111,\"#46039f\"],[0.2222222222222222,\"#7201a8\"],[0.3333333333333333,\"#9c179e\"],[0.4444444444444444,\"#bd3786\"],[0.5555555555555556,\"#d8576b\"],[0.6666666666666666,\"#ed7953\"],[0.7777777777777778,\"#fb9f3a\"],[0.8888888888888888,\"#fdca26\"],[1.0,\"#f0f921\"]]}],\"heatmap\":[{\"type\":\"heatmap\",\"colorbar\":{\"outlinewidth\":0,\"ticks\":\"\"},\"colorscale\":[[0.0,\"#0d0887\"],[0.1111111111111111,\"#46039f\"],[0.2222222222222222,\"#7201a8\"],[0.3333333333333333,\"#9c179e\"],[0.4444444444444444,\"#bd3786\"],[0.5555555555555556,\"#d8576b\"],[0.6666666666666666,\"#ed7953\"],[0.7777777777777778,\"#fb9f3a\"],[0.8888888888888888,\"#fdca26\"],[1.0,\"#f0f921\"]]}],\"heatmapgl\":[{\"type\":\"heatmapgl\",\"colorbar\":{\"outlinewidth\":0,\"ticks\":\"\"},\"colorscale\":[[0.0,\"#0d0887\"],[0.1111111111111111,\"#46039f\"],[0.2222222222222222,\"#7201a8\"],[0.3333333333333333,\"#9c179e\"],[0.4444444444444444,\"#bd3786\"],[0.5555555555555556,\"#d8576b\"],[0.6666666666666666,\"#ed7953\"],[0.7777777777777778,\"#fb9f3a\"],[0.8888888888888888,\"#fdca26\"],[1.0,\"#f0f921\"]]}],\"contourcarpet\":[{\"type\":\"contourcarpet\",\"colorbar\":{\"outlinewidth\":0,\"ticks\":\"\"}}],\"contour\":[{\"type\":\"contour\",\"colorbar\":{\"outlinewidth\":0,\"ticks\":\"\"},\"colorscale\":[[0.0,\"#0d0887\"],[0.1111111111111111,\"#46039f\"],[0.2222222222222222,\"#7201a8\"],[0.3333333333333333,\"#9c179e\"],[0.4444444444444444,\"#bd3786\"],[0.5555555555555556,\"#d8576b\"],[0.6666666666666666,\"#ed7953\"],[0.7777777777777778,\"#fb9f3a\"],[0.8888888888888888,\"#fdca26\"],[1.0,\"#f0f921\"]]}],\"surface\":[{\"type\":\"surface\",\"colorbar\":{\"outlinewidth\":0,\"ticks\":\"\"},\"colorscale\":[[0.0,\"#0d0887\"],[0.1111111111111111,\"#46039f\"],[0.2222222222222222,\"#7201a8\"],[0.3333333333333333,\"#9c179e\"],[0.4444444444444444,\"#bd3786\"],[0.5555555555555556,\"#d8576b\"],[0.6666666666666666,\"#ed7953\"],[0.7777777777777778,\"#fb9f3a\"],[0.8888888888888888,\"#fdca26\"],[1.0,\"#f0f921\"]]}],\"mesh3d\":[{\"type\":\"mesh3d\",\"colorbar\":{\"outlinewidth\":0,\"ticks\":\"\"}}],\"scatter\":[{\"fillpattern\":{\"fillmode\":\"overlay\",\"size\":10,\"solidity\":0.2},\"type\":\"scatter\"}],\"parcoords\":[{\"type\":\"parcoords\",\"line\":{\"colorbar\":{\"outlinewidth\":0,\"ticks\":\"\"}}}],\"scatterpolargl\":[{\"type\":\"scatterpolargl\",\"marker\":{\"colorbar\":{\"outlinewidth\":0,\"ticks\":\"\"}}}],\"bar\":[{\"error_x\":{\"color\":\"#2a3f5f\"},\"error_y\":{\"color\":\"#2a3f5f\"},\"marker\":{\"line\":{\"color\":\"#E5ECF6\",\"width\":0.5},\"pattern\":{\"fillmode\":\"overlay\",\"size\":10,\"solidity\":0.2}},\"type\":\"bar\"}],\"scattergeo\":[{\"type\":\"scattergeo\",\"marker\":{\"colorbar\":{\"outlinewidth\":0,\"ticks\":\"\"}}}],\"scatterpolar\":[{\"type\":\"scatterpolar\",\"marker\":{\"colorbar\":{\"outlinewidth\":0,\"ticks\":\"\"}}}],\"histogram\":[{\"marker\":{\"pattern\":{\"fillmode\":\"overlay\",\"size\":10,\"solidity\":0.2}},\"type\":\"histogram\"}],\"scattergl\":[{\"type\":\"scattergl\",\"marker\":{\"colorbar\":{\"outlinewidth\":0,\"ticks\":\"\"}}}],\"scatter3d\":[{\"type\":\"scatter3d\",\"line\":{\"colorbar\":{\"outlinewidth\":0,\"ticks\":\"\"}},\"marker\":{\"colorbar\":{\"outlinewidth\":0,\"ticks\":\"\"}}}],\"scattermapbox\":[{\"type\":\"scattermapbox\",\"marker\":{\"colorbar\":{\"outlinewidth\":0,\"ticks\":\"\"}}}],\"scatterternary\":[{\"type\":\"scatterternary\",\"marker\":{\"colorbar\":{\"outlinewidth\":0,\"ticks\":\"\"}}}],\"scattercarpet\":[{\"type\":\"scattercarpet\",\"marker\":{\"colorbar\":{\"outlinewidth\":0,\"ticks\":\"\"}}}],\"carpet\":[{\"aaxis\":{\"endlinecolor\":\"#2a3f5f\",\"gridcolor\":\"white\",\"linecolor\":\"white\",\"minorgridcolor\":\"white\",\"startlinecolor\":\"#2a3f5f\"},\"baxis\":{\"endlinecolor\":\"#2a3f5f\",\"gridcolor\":\"white\",\"linecolor\":\"white\",\"minorgridcolor\":\"white\",\"startlinecolor\":\"#2a3f5f\"},\"type\":\"carpet\"}],\"table\":[{\"cells\":{\"fill\":{\"color\":\"#EBF0F8\"},\"line\":{\"color\":\"white\"}},\"header\":{\"fill\":{\"color\":\"#C8D4E3\"},\"line\":{\"color\":\"white\"}},\"type\":\"table\"}],\"barpolar\":[{\"marker\":{\"line\":{\"color\":\"#E5ECF6\",\"width\":0.5},\"pattern\":{\"fillmode\":\"overlay\",\"size\":10,\"solidity\":0.2}},\"type\":\"barpolar\"}],\"pie\":[{\"automargin\":true,\"type\":\"pie\"}]},\"layout\":{\"autotypenumbers\":\"strict\",\"colorway\":[\"#636efa\",\"#EF553B\",\"#00cc96\",\"#ab63fa\",\"#FFA15A\",\"#19d3f3\",\"#FF6692\",\"#B6E880\",\"#FF97FF\",\"#FECB52\"],\"font\":{\"color\":\"#2a3f5f\"},\"hovermode\":\"closest\",\"hoverlabel\":{\"align\":\"left\"},\"paper_bgcolor\":\"white\",\"plot_bgcolor\":\"#E5ECF6\",\"polar\":{\"bgcolor\":\"#E5ECF6\",\"angularaxis\":{\"gridcolor\":\"white\",\"linecolor\":\"white\",\"ticks\":\"\"},\"radialaxis\":{\"gridcolor\":\"white\",\"linecolor\":\"white\",\"ticks\":\"\"}},\"ternary\":{\"bgcolor\":\"#E5ECF6\",\"aaxis\":{\"gridcolor\":\"white\",\"linecolor\":\"white\",\"ticks\":\"\"},\"baxis\":{\"gridcolor\":\"white\",\"linecolor\":\"white\",\"ticks\":\"\"},\"caxis\":{\"gridcolor\":\"white\",\"linecolor\":\"white\",\"ticks\":\"\"}},\"coloraxis\":{\"colorbar\":{\"outlinewidth\":0,\"ticks\":\"\"}},\"colorscale\":{\"sequential\":[[0.0,\"#0d0887\"],[0.1111111111111111,\"#46039f\"],[0.2222222222222222,\"#7201a8\"],[0.3333333333333333,\"#9c179e\"],[0.4444444444444444,\"#bd3786\"],[0.5555555555555556,\"#d8576b\"],[0.6666666666666666,\"#ed7953\"],[0.7777777777777778,\"#fb9f3a\"],[0.8888888888888888,\"#fdca26\"],[1.0,\"#f0f921\"]],\"sequentialminus\":[[0.0,\"#0d0887\"],[0.1111111111111111,\"#46039f\"],[0.2222222222222222,\"#7201a8\"],[0.3333333333333333,\"#9c179e\"],[0.4444444444444444,\"#bd3786\"],[0.5555555555555556,\"#d8576b\"],[0.6666666666666666,\"#ed7953\"],[0.7777777777777778,\"#fb9f3a\"],[0.8888888888888888,\"#fdca26\"],[1.0,\"#f0f921\"]],\"diverging\":[[0,\"#8e0152\"],[0.1,\"#c51b7d\"],[0.2,\"#de77ae\"],[0.3,\"#f1b6da\"],[0.4,\"#fde0ef\"],[0.5,\"#f7f7f7\"],[0.6,\"#e6f5d0\"],[0.7,\"#b8e186\"],[0.8,\"#7fbc41\"],[0.9,\"#4d9221\"],[1,\"#276419\"]]},\"xaxis\":{\"gridcolor\":\"white\",\"linecolor\":\"white\",\"ticks\":\"\",\"title\":{\"standoff\":15},\"zerolinecolor\":\"white\",\"automargin\":true,\"zerolinewidth\":2},\"yaxis\":{\"gridcolor\":\"white\",\"linecolor\":\"white\",\"ticks\":\"\",\"title\":{\"standoff\":15},\"zerolinecolor\":\"white\",\"automargin\":true,\"zerolinewidth\":2},\"scene\":{\"xaxis\":{\"backgroundcolor\":\"#E5ECF6\",\"gridcolor\":\"white\",\"linecolor\":\"white\",\"showbackground\":true,\"ticks\":\"\",\"zerolinecolor\":\"white\",\"gridwidth\":2},\"yaxis\":{\"backgroundcolor\":\"#E5ECF6\",\"gridcolor\":\"white\",\"linecolor\":\"white\",\"showbackground\":true,\"ticks\":\"\",\"zerolinecolor\":\"white\",\"gridwidth\":2},\"zaxis\":{\"backgroundcolor\":\"#E5ECF6\",\"gridcolor\":\"white\",\"linecolor\":\"white\",\"showbackground\":true,\"ticks\":\"\",\"zerolinecolor\":\"white\",\"gridwidth\":2}},\"shapedefaults\":{\"line\":{\"color\":\"#2a3f5f\"}},\"annotationdefaults\":{\"arrowcolor\":\"#2a3f5f\",\"arrowhead\":0,\"arrowwidth\":1},\"geo\":{\"bgcolor\":\"white\",\"landcolor\":\"#E5ECF6\",\"subunitcolor\":\"white\",\"showland\":true,\"showlakes\":true,\"lakecolor\":\"white\"},\"title\":{\"x\":0.05},\"mapbox\":{\"style\":\"light\"}}},\"xaxis\":{\"anchor\":\"y\",\"domain\":[0.0,0.31999999999999995],\"title\":{\"text\":\"year\"}},\"yaxis\":{\"anchor\":\"x\",\"domain\":[0.0,0.1975],\"title\":{\"text\":\"passengers\"}},\"xaxis2\":{\"anchor\":\"y2\",\"domain\":[0.33999999999999997,0.6599999999999999],\"matches\":\"x\",\"title\":{\"text\":\"year\"}},\"yaxis2\":{\"anchor\":\"x2\",\"domain\":[0.0,0.1975],\"matches\":\"y\",\"showticklabels\":false},\"xaxis3\":{\"anchor\":\"y3\",\"domain\":[0.6799999999999999,0.9999999999999999],\"matches\":\"x\",\"title\":{\"text\":\"year\"}},\"yaxis3\":{\"anchor\":\"x3\",\"domain\":[0.0,0.1975],\"matches\":\"y\",\"showticklabels\":false},\"xaxis4\":{\"anchor\":\"y4\",\"domain\":[0.0,0.31999999999999995],\"matches\":\"x\",\"showticklabels\":false},\"yaxis4\":{\"anchor\":\"x4\",\"domain\":[0.2675,0.465],\"matches\":\"y\",\"title\":{\"text\":\"passengers\"}},\"xaxis5\":{\"anchor\":\"y5\",\"domain\":[0.33999999999999997,0.6599999999999999],\"matches\":\"x\",\"showticklabels\":false},\"yaxis5\":{\"anchor\":\"x5\",\"domain\":[0.2675,0.465],\"matches\":\"y\",\"showticklabels\":false},\"xaxis6\":{\"anchor\":\"y6\",\"domain\":[0.6799999999999999,0.9999999999999999],\"matches\":\"x\",\"showticklabels\":false},\"yaxis6\":{\"anchor\":\"x6\",\"domain\":[0.2675,0.465],\"matches\":\"y\",\"showticklabels\":false},\"xaxis7\":{\"anchor\":\"y7\",\"domain\":[0.0,0.31999999999999995],\"matches\":\"x\",\"showticklabels\":false},\"yaxis7\":{\"anchor\":\"x7\",\"domain\":[0.535,0.7325],\"matches\":\"y\",\"title\":{\"text\":\"passengers\"}},\"xaxis8\":{\"anchor\":\"y8\",\"domain\":[0.33999999999999997,0.6599999999999999],\"matches\":\"x\",\"showticklabels\":false},\"yaxis8\":{\"anchor\":\"x8\",\"domain\":[0.535,0.7325],\"matches\":\"y\",\"showticklabels\":false},\"xaxis9\":{\"anchor\":\"y9\",\"domain\":[0.6799999999999999,0.9999999999999999],\"matches\":\"x\",\"showticklabels\":false},\"yaxis9\":{\"anchor\":\"x9\",\"domain\":[0.535,0.7325],\"matches\":\"y\",\"showticklabels\":false},\"xaxis10\":{\"anchor\":\"y10\",\"domain\":[0.0,0.31999999999999995],\"matches\":\"x\",\"showticklabels\":false},\"yaxis10\":{\"anchor\":\"x10\",\"domain\":[0.8025,1.0],\"matches\":\"y\",\"title\":{\"text\":\"passengers\"}},\"xaxis11\":{\"anchor\":\"y11\",\"domain\":[0.33999999999999997,0.6599999999999999],\"matches\":\"x\",\"showticklabels\":false},\"yaxis11\":{\"anchor\":\"x11\",\"domain\":[0.8025,1.0],\"matches\":\"y\",\"showticklabels\":false},\"xaxis12\":{\"anchor\":\"y12\",\"domain\":[0.6799999999999999,0.9999999999999999],\"matches\":\"x\",\"showticklabels\":false},\"yaxis12\":{\"anchor\":\"x12\",\"domain\":[0.8025,1.0],\"matches\":\"y\",\"showticklabels\":false},\"annotations\":[{\"font\":{},\"showarrow\":false,\"text\":\"month=Oct\",\"x\":0.15999999999999998,\"xanchor\":\"center\",\"xref\":\"paper\",\"y\":0.1975,\"yanchor\":\"bottom\",\"yref\":\"paper\"},{\"font\":{},\"showarrow\":false,\"text\":\"month=Nov\",\"x\":0.49999999999999994,\"xanchor\":\"center\",\"xref\":\"paper\",\"y\":0.1975,\"yanchor\":\"bottom\",\"yref\":\"paper\"},{\"font\":{},\"showarrow\":false,\"text\":\"month=Dec\",\"x\":0.8399999999999999,\"xanchor\":\"center\",\"xref\":\"paper\",\"y\":0.1975,\"yanchor\":\"bottom\",\"yref\":\"paper\"},{\"font\":{},\"showarrow\":false,\"text\":\"month=Jul\",\"x\":0.15999999999999998,\"xanchor\":\"center\",\"xref\":\"paper\",\"y\":0.465,\"yanchor\":\"bottom\",\"yref\":\"paper\"},{\"font\":{},\"showarrow\":false,\"text\":\"month=Aug\",\"x\":0.49999999999999994,\"xanchor\":\"center\",\"xref\":\"paper\",\"y\":0.465,\"yanchor\":\"bottom\",\"yref\":\"paper\"},{\"font\":{},\"showarrow\":false,\"text\":\"month=Sep\",\"x\":0.8399999999999999,\"xanchor\":\"center\",\"xref\":\"paper\",\"y\":0.465,\"yanchor\":\"bottom\",\"yref\":\"paper\"},{\"font\":{},\"showarrow\":false,\"text\":\"month=Apr\",\"x\":0.15999999999999998,\"xanchor\":\"center\",\"xref\":\"paper\",\"y\":0.7325,\"yanchor\":\"bottom\",\"yref\":\"paper\"},{\"font\":{},\"showarrow\":false,\"text\":\"month=May\",\"x\":0.49999999999999994,\"xanchor\":\"center\",\"xref\":\"paper\",\"y\":0.7325,\"yanchor\":\"bottom\",\"yref\":\"paper\"},{\"font\":{},\"showarrow\":false,\"text\":\"month=Jun\",\"x\":0.8399999999999999,\"xanchor\":\"center\",\"xref\":\"paper\",\"y\":0.7325,\"yanchor\":\"bottom\",\"yref\":\"paper\"},{\"font\":{},\"showarrow\":false,\"text\":\"month=Jan\",\"x\":0.15999999999999998,\"xanchor\":\"center\",\"xref\":\"paper\",\"y\":1.0,\"yanchor\":\"bottom\",\"yref\":\"paper\"},{\"font\":{},\"showarrow\":false,\"text\":\"month=Feb\",\"x\":0.49999999999999994,\"xanchor\":\"center\",\"xref\":\"paper\",\"y\":1.0,\"yanchor\":\"bottom\",\"yref\":\"paper\"},{\"font\":{},\"showarrow\":false,\"text\":\"month=Mar\",\"x\":0.8399999999999999,\"xanchor\":\"center\",\"xref\":\"paper\",\"y\":1.0,\"yanchor\":\"bottom\",\"yref\":\"paper\"}],\"legend\":{\"title\":{\"text\":\"month\"},\"tracegroupgap\":0},\"margin\":{\"t\":60}},                        {\"responsive\": true}                    ).then(function(){\n",
       "                            \n",
       "var gd = document.getElementById('5a95b3c3-5b8d-437f-be22-11c17ccc4ae9');\n",
       "var x = new MutationObserver(function (mutations, observer) {{\n",
       "        var display = window.getComputedStyle(gd).display;\n",
       "        if (!display || display === 'none') {{\n",
       "            console.log([gd, 'removed!']);\n",
       "            Plotly.purge(gd);\n",
       "            observer.disconnect();\n",
       "        }}\n",
       "}});\n",
       "\n",
       "// Listen for the removal of the full notebook cells\n",
       "var notebookContainer = gd.closest('#notebook-container');\n",
       "if (notebookContainer) {{\n",
       "    x.observe(notebookContainer, {childList: true});\n",
       "}}\n",
       "\n",
       "// Listen for the clearing of the current output cell\n",
       "var outputEl = gd.closest('.output');\n",
       "if (outputEl) {{\n",
       "    x.observe(outputEl, {childList: true});\n",
       "}}\n",
       "\n",
       "                        })                };                });            </script>        </div>"
      ]
     },
     "metadata": {},
     "output_type": "display_data"
    }
   ],
   "source": [
    "px.line(data_frame=flights, x='year', y='passengers', color='month', facet_col='month', facet_col_wrap=3)"
   ]
  },
  {
   "cell_type": "markdown",
   "metadata": {},
   "source": [
    "```sns.regression``` had the ```Figure``` level function ```sns.lmplot``` which could fit a linear model to essentially a scatter plot:\n",
    "\n",
    "```python\n",
    "sns.lmplot(data=flights, x='year', y='passengers', hue='month', col='month', col_wrap=3)\n",
    "```\n",
    "\n",
    "```python\n",
    "px.scatter(data_frame=flights, x='year', y='passengers', color='month', facet_col='month', facet_col_wrap=3, trendline='ols')\n",
    "```\n",
    "\n",
    "In plotly, this is an option in ```px.scatter``` using the parameter ```trendline``` and setting it to ordinary least squares ```'ols'```:"
   ]
  },
  {
   "cell_type": "code",
   "execution_count": 23,
   "metadata": {},
   "outputs": [
    {
     "data": {
      "application/vnd.plotly.v1+json": {
       "config": {
        "plotlyServerURL": "https://plot.ly"
       },
       "data": [
        {
         "hovertemplate": "month=Jan<br>year=%{x}<br>passengers=%{y}<extra></extra>",
         "legendgroup": "Jan",
         "marker": {
          "color": "#636efa",
          "symbol": "circle"
         },
         "mode": "markers",
         "name": "Jan",
         "orientation": "v",
         "showlegend": true,
         "type": "scatter",
         "x": [
          1949,
          1950,
          1951,
          1952,
          1953,
          1954,
          1955,
          1956,
          1957,
          1958,
          1959,
          1960
         ],
         "xaxis": "x10",
         "y": [
          112,
          115,
          145,
          171,
          196,
          204,
          242,
          284,
          315,
          340,
          360,
          417
         ],
         "yaxis": "y10"
        },
        {
         "hovertemplate": "<b>OLS trendline</b><br>passengers = 27.7867 * year + -54067.4<br>R<sup>2</sup>=0.983312<br><br>month=Jan<br>year=%{x}<br>passengers=%{y} <b>(trend)</b><extra></extra>",
         "legendgroup": "Jan",
         "marker": {
          "color": "#636efa",
          "symbol": "circle"
         },
         "mode": "lines",
         "name": "Jan",
         "showlegend": false,
         "type": "scatter",
         "x": [
          1949,
          1950,
          1951,
          1952,
          1953,
          1954,
          1955,
          1956,
          1957,
          1958,
          1959,
          1960
         ],
         "xaxis": "x10",
         "y": [
          88.92307692304894,
          116.70979020975938,
          144.4965034964771,
          172.2832167831948,
          200.06993006991252,
          227.85664335662295,
          255.64335664334067,
          283.4300699300584,
          311.2167832167688,
          339.00349650348653,
          366.79020979020424,
          394.5769230769147
         ],
         "yaxis": "y10"
        },
        {
         "hovertemplate": "month=Feb<br>year=%{x}<br>passengers=%{y}<extra></extra>",
         "legendgroup": "Feb",
         "marker": {
          "color": "#EF553B",
          "symbol": "circle"
         },
         "mode": "markers",
         "name": "Feb",
         "orientation": "v",
         "showlegend": true,
         "type": "scatter",
         "x": [
          1949,
          1950,
          1951,
          1952,
          1953,
          1954,
          1955,
          1956,
          1957,
          1958,
          1959,
          1960
         ],
         "xaxis": "x11",
         "y": [
          118,
          126,
          150,
          180,
          196,
          188,
          233,
          277,
          301,
          318,
          342,
          391
         ],
         "yaxis": "y11"
        },
        {
         "hovertemplate": "<b>OLS trendline</b><br>passengers = 24.5315 * year + -47711.8<br>R<sup>2</sup>=0.974062<br><br>month=Feb<br>year=%{x}<br>passengers=%{y} <b>(trend)</b><extra></extra>",
         "legendgroup": "Feb",
         "marker": {
          "color": "#EF553B",
          "symbol": "circle"
         },
         "mode": "lines",
         "name": "Feb",
         "showlegend": false,
         "type": "scatter",
         "x": [
          1949,
          1950,
          1951,
          1952,
          1953,
          1954,
          1955,
          1956,
          1957,
          1958,
          1959,
          1960
         ],
         "xaxis": "x11",
         "y": [
          100.07692307692196,
          124.60839160839532,
          149.1398601398614,
          173.67132867133478,
          198.20279720280087,
          222.73426573427423,
          247.2657342657476,
          271.7972027972137,
          296.32867132868705,
          320.86013986015314,
          345.3916083916265,
          369.9230769230926
         ],
         "yaxis": "y11"
        },
        {
         "hovertemplate": "month=Mar<br>year=%{x}<br>passengers=%{y}<extra></extra>",
         "legendgroup": "Mar",
         "marker": {
          "color": "#00cc96",
          "symbol": "circle"
         },
         "mode": "markers",
         "name": "Mar",
         "orientation": "v",
         "showlegend": true,
         "type": "scatter",
         "x": [
          1949,
          1950,
          1951,
          1952,
          1953,
          1954,
          1955,
          1956,
          1957,
          1958,
          1959,
          1960
         ],
         "xaxis": "x12",
         "y": [
          132,
          141,
          178,
          193,
          236,
          235,
          267,
          317,
          356,
          362,
          406,
          419
         ],
         "yaxis": "y12"
        },
        {
         "hovertemplate": "<b>OLS trendline</b><br>passengers = 27.6923 * year + -53854.4<br>R<sup>2</sup>=0.985866<br><br>month=Mar<br>year=%{x}<br>passengers=%{y} <b>(trend)</b><extra></extra>",
         "legendgroup": "Mar",
         "marker": {
          "color": "#00cc96",
          "symbol": "circle"
         },
         "mode": "lines",
         "name": "Mar",
         "showlegend": false,
         "type": "scatter",
         "x": [
          1949,
          1950,
          1951,
          1952,
          1953,
          1954,
          1955,
          1956,
          1957,
          1958,
          1959,
          1960
         ],
         "xaxis": "x12",
         "y": [
          117.85897435894731,
          145.55128205125948,
          173.24358974356437,
          200.93589743587654,
          228.6282051281887,
          256.3205128204936,
          284.0128205128058,
          311.70512820511794,
          339.39743589742284,
          367.089743589735,
          394.7820512820472,
          422.47435897435207
         ],
         "yaxis": "y12"
        },
        {
         "hovertemplate": "month=Apr<br>year=%{x}<br>passengers=%{y}<extra></extra>",
         "legendgroup": "Apr",
         "marker": {
          "color": "#ab63fa",
          "symbol": "circle"
         },
         "mode": "markers",
         "name": "Apr",
         "orientation": "v",
         "showlegend": true,
         "type": "scatter",
         "x": [
          1949,
          1950,
          1951,
          1952,
          1953,
          1954,
          1955,
          1956,
          1957,
          1958,
          1959,
          1960
         ],
         "xaxis": "x7",
         "y": [
          129,
          135,
          163,
          181,
          235,
          227,
          269,
          313,
          348,
          348,
          396,
          461
         ],
         "yaxis": "y7"
        },
        {
         "hovertemplate": "<b>OLS trendline</b><br>passengers = 29.3951 * year + -57185.6<br>R<sup>2</sup>=0.974290<br><br>month=Apr<br>year=%{x}<br>passengers=%{y} <b>(trend)</b><extra></extra>",
         "legendgroup": "Apr",
         "marker": {
          "color": "#ab63fa",
          "symbol": "circle"
         },
         "mode": "lines",
         "name": "Apr",
         "showlegend": false,
         "type": "scatter",
         "x": [
          1949,
          1950,
          1951,
          1952,
          1953,
          1954,
          1955,
          1956,
          1957,
          1958,
          1959,
          1960
         ],
         "xaxis": "x7",
         "y": [
          105.41025641023589,
          134.80536130534165,
          164.2004662004474,
          193.59557109555317,
          222.9906759906662,
          252.38578088577196,
          281.7808857808777,
          311.1759906759835,
          340.57109557108924,
          369.966200466195,
          399.36130536130804,
          428.7564102564138
         ],
         "yaxis": "y7"
        },
        {
         "hovertemplate": "month=May<br>year=%{x}<br>passengers=%{y}<extra></extra>",
         "legendgroup": "May",
         "marker": {
          "color": "#FFA15A",
          "symbol": "circle"
         },
         "mode": "markers",
         "name": "May",
         "orientation": "v",
         "showlegend": true,
         "type": "scatter",
         "x": [
          1949,
          1950,
          1951,
          1952,
          1953,
          1954,
          1955,
          1956,
          1957,
          1958,
          1959,
          1960
         ],
         "xaxis": "x8",
         "y": [
          121,
          125,
          172,
          183,
          229,
          234,
          270,
          318,
          355,
          363,
          420,
          472
         ],
         "yaxis": "y8"
        },
        {
         "hovertemplate": "<b>OLS trendline</b><br>passengers = 31.5245 * year + -61342.8<br>R<sup>2</sup>=0.981319<br><br>month=May<br>year=%{x}<br>passengers=%{y} <b>(trend)</b><extra></extra>",
         "legendgroup": "May",
         "marker": {
          "color": "#FFA15A",
          "symbol": "circle"
         },
         "mode": "lines",
         "name": "May",
         "showlegend": false,
         "type": "scatter",
         "x": [
          1949,
          1950,
          1951,
          1952,
          1953,
          1954,
          1955,
          1956,
          1957,
          1958,
          1959,
          1960
         ],
         "xaxis": "x8",
         "y": [
          98.44871794869687,
          129.97319347317534,
          161.49766899765382,
          193.0221445221323,
          224.54662004661077,
          256.07109557108924,
          287.5955710955677,
          319.1200466200462,
          350.6445221445247,
          382.16899766900315,
          413.6934731934816,
          445.2179487179528
         ],
         "yaxis": "y8"
        },
        {
         "hovertemplate": "month=Jun<br>year=%{x}<br>passengers=%{y}<extra></extra>",
         "legendgroup": "Jun",
         "marker": {
          "color": "#19d3f3",
          "symbol": "circle"
         },
         "mode": "markers",
         "name": "Jun",
         "orientation": "v",
         "showlegend": true,
         "type": "scatter",
         "x": [
          1949,
          1950,
          1951,
          1952,
          1953,
          1954,
          1955,
          1956,
          1957,
          1958,
          1959,
          1960
         ],
         "xaxis": "x9",
         "y": [
          135,
          149,
          178,
          218,
          243,
          264,
          315,
          374,
          422,
          435,
          472,
          535
         ],
         "yaxis": "y9"
        },
        {
         "hovertemplate": "<b>OLS trendline</b><br>passengers = 36.958 * year + -71922.8<br>R<sup>2</sup>=0.985661<br><br>month=Jun<br>year=%{x}<br>passengers=%{y} <b>(trend)</b><extra></extra>",
         "legendgroup": "Jun",
         "marker": {
          "color": "#19d3f3",
          "symbol": "circle"
         },
         "mode": "lines",
         "name": "Jun",
         "showlegend": false,
         "type": "scatter",
         "x": [
          1949,
          1950,
          1951,
          1952,
          1953,
          1954,
          1955,
          1956,
          1957,
          1958,
          1959,
          1960
         ],
         "xaxis": "x9",
         "y": [
          108.39743589742284,
          145.3554778554535,
          182.31351981349871,
          219.27156177154393,
          256.22960372958914,
          293.18764568763436,
          330.1456876456796,
          367.1037296037248,
          404.06177156177,
          441.0198135198152,
          477.97785547786043,
          514.9358974359056
         ],
         "yaxis": "y9"
        },
        {
         "hovertemplate": "month=Jul<br>year=%{x}<br>passengers=%{y}<extra></extra>",
         "legendgroup": "Jul",
         "marker": {
          "color": "#FF6692",
          "symbol": "circle"
         },
         "mode": "markers",
         "name": "Jul",
         "orientation": "v",
         "showlegend": true,
         "type": "scatter",
         "x": [
          1949,
          1950,
          1951,
          1952,
          1953,
          1954,
          1955,
          1956,
          1957,
          1958,
          1959,
          1960
         ],
         "xaxis": "x4",
         "y": [
          148,
          170,
          199,
          230,
          264,
          302,
          364,
          413,
          465,
          491,
          548,
          622
         ],
         "yaxis": "y4"
        },
        {
         "hovertemplate": "<b>OLS trendline</b><br>passengers = 43.1608 * year + -84006.5<br>R<sup>2</sup>=0.984646<br><br>month=Jul<br>year=%{x}<br>passengers=%{y} <b>(trend)</b><extra></extra>",
         "legendgroup": "Jul",
         "marker": {
          "color": "#FF6692",
          "symbol": "circle"
         },
         "mode": "lines",
         "name": "Jul",
         "showlegend": false,
         "type": "scatter",
         "x": [
          1949,
          1950,
          1951,
          1952,
          1953,
          1954,
          1955,
          1956,
          1957,
          1958,
          1959,
          1960
         ],
         "xaxis": "x4",
         "y": [
          113.94871794870414,
          157.10955710955022,
          200.2703962703963,
          243.43123543122783,
          286.5920745920739,
          329.75291375292,
          372.9137529137661,
          416.0745920745976,
          459.2354312354437,
          502.39627039628976,
          545.5571095571358,
          588.7179487179674
         ],
         "yaxis": "y4"
        },
        {
         "hovertemplate": "month=Aug<br>year=%{x}<br>passengers=%{y}<extra></extra>",
         "legendgroup": "Aug",
         "marker": {
          "color": "#B6E880",
          "symbol": "circle"
         },
         "mode": "markers",
         "name": "Aug",
         "orientation": "v",
         "showlegend": true,
         "type": "scatter",
         "x": [
          1949,
          1950,
          1951,
          1952,
          1953,
          1954,
          1955,
          1956,
          1957,
          1958,
          1959,
          1960
         ],
         "xaxis": "x5",
         "y": [
          148,
          170,
          199,
          242,
          272,
          293,
          347,
          405,
          467,
          505,
          559,
          606
         ],
         "yaxis": "y5"
        },
        {
         "hovertemplate": "<b>OLS trendline</b><br>passengers = 42.8636 * year + -83425.9<br>R<sup>2</sup>=0.984191<br><br>month=Aug<br>year=%{x}<br>passengers=%{y} <b>(trend)</b><extra></extra>",
         "legendgroup": "Aug",
         "marker": {
          "color": "#B6E880",
          "symbol": "circle"
         },
         "mode": "lines",
         "name": "Aug",
         "showlegend": false,
         "type": "scatter",
         "x": [
          1949,
          1950,
          1951,
          1952,
          1953,
          1954,
          1955,
          1956,
          1957,
          1958,
          1959,
          1960
         ],
         "xaxis": "x5",
         "y": [
          115.33333333329938,
          158.19696969694633,
          201.06060606057872,
          243.92424242422567,
          286.78787878785806,
          329.651515151505,
          372.5151515151374,
          415.37878787878435,
          458.24242424241675,
          501.1060606060637,
          543.9696969696961,
          586.833333333343
         ],
         "yaxis": "y5"
        },
        {
         "hovertemplate": "month=Sep<br>year=%{x}<br>passengers=%{y}<extra></extra>",
         "legendgroup": "Sep",
         "marker": {
          "color": "#FF97FF",
          "symbol": "circle"
         },
         "mode": "markers",
         "name": "Sep",
         "orientation": "v",
         "showlegend": true,
         "type": "scatter",
         "x": [
          1949,
          1950,
          1951,
          1952,
          1953,
          1954,
          1955,
          1956,
          1957,
          1958,
          1959,
          1960
         ],
         "xaxis": "x6",
         "y": [
          136,
          158,
          184,
          209,
          237,
          259,
          312,
          355,
          404,
          404,
          463,
          508
         ],
         "yaxis": "y6"
        },
        {
         "hovertemplate": "<b>OLS trendline</b><br>passengers = 34.1224 * year + -66389.8<br>R<sup>2</sup>=0.985144<br><br>month=Sep<br>year=%{x}<br>passengers=%{y} <b>(trend)</b><extra></extra>",
         "legendgroup": "Sep",
         "marker": {
          "color": "#FF97FF",
          "symbol": "circle"
         },
         "mode": "lines",
         "name": "Sep",
         "showlegend": false,
         "type": "scatter",
         "x": [
          1949,
          1950,
          1951,
          1952,
          1953,
          1954,
          1955,
          1956,
          1957,
          1958,
          1959,
          1960
         ],
         "xaxis": "x6",
         "y": [
          114.74358974357892,
          148.8659673659713,
          182.98834498834913,
          217.11072261072695,
          251.23310023310478,
          285.3554778554826,
          319.47785547786043,
          353.6002331002528,
          387.72261072263063,
          421.84498834500846,
          455.9673659673863,
          490.0897435897641
         ],
         "yaxis": "y6"
        },
        {
         "hovertemplate": "month=Oct<br>year=%{x}<br>passengers=%{y}<extra></extra>",
         "legendgroup": "Oct",
         "marker": {
          "color": "#FECB52",
          "symbol": "circle"
         },
         "mode": "markers",
         "name": "Oct",
         "orientation": "v",
         "showlegend": true,
         "type": "scatter",
         "x": [
          1949,
          1950,
          1951,
          1952,
          1953,
          1954,
          1955,
          1956,
          1957,
          1958,
          1959,
          1960
         ],
         "xaxis": "x",
         "y": [
          119,
          133,
          162,
          191,
          211,
          229,
          274,
          306,
          347,
          359,
          407,
          461
         ],
         "yaxis": "y"
        },
        {
         "hovertemplate": "<b>OLS trendline</b><br>passengers = 30.479 * year + -59304.7<br>R<sup>2</sup>=0.984685<br><br>month=Oct<br>year=%{x}<br>passengers=%{y} <b>(trend)</b><extra></extra>",
         "legendgroup": "Oct",
         "marker": {
          "color": "#FECB52",
          "symbol": "circle"
         },
         "mode": "lines",
         "name": "Oct",
         "showlegend": false,
         "type": "scatter",
         "x": [
          1949,
          1950,
          1951,
          1952,
          1953,
          1954,
          1955,
          1956,
          1957,
          1958,
          1959,
          1960
         ],
         "xaxis": "x",
         "y": [
          98.94871794870414,
          129.42773892772675,
          159.90675990674936,
          190.38578088577196,
          220.86480186479457,
          251.34382284381718,
          281.8228438228398,
          312.3018648018624,
          342.780885780885,
          373.2599067599149,
          403.7389277389375,
          434.2179487179601
         ],
         "yaxis": "y"
        },
        {
         "hovertemplate": "month=Nov<br>year=%{x}<br>passengers=%{y}<extra></extra>",
         "legendgroup": "Nov",
         "marker": {
          "color": "#636efa",
          "symbol": "circle"
         },
         "mode": "markers",
         "name": "Nov",
         "orientation": "v",
         "showlegend": true,
         "type": "scatter",
         "x": [
          1949,
          1950,
          1951,
          1952,
          1953,
          1954,
          1955,
          1956,
          1957,
          1958,
          1959,
          1960
         ],
         "xaxis": "x2",
         "y": [
          104,
          114,
          146,
          172,
          180,
          203,
          237,
          271,
          305,
          310,
          362,
          390
         ],
         "yaxis": "y2"
        },
        {
         "hovertemplate": "<b>OLS trendline</b><br>passengers = 26.2168 * year + -51007.9<br>R<sup>2</sup>=0.986184<br><br>month=Nov<br>year=%{x}<br>passengers=%{y} <b>(trend)</b><extra></extra>",
         "legendgroup": "Nov",
         "marker": {
          "color": "#636efa",
          "symbol": "circle"
         },
         "mode": "lines",
         "name": "Nov",
         "showlegend": false,
         "type": "scatter",
         "x": [
          1949,
          1950,
          1951,
          1952,
          1953,
          1954,
          1955,
          1956,
          1957,
          1958,
          1959,
          1960
         ],
         "xaxis": "x2",
         "y": [
          88.64102564102359,
          114.85780885780696,
          141.0745920745976,
          167.29137529138097,
          193.50815850816434,
          219.7249417249477,
          245.94172494173836,
          272.1585081585217,
          298.3752913753051,
          324.59207459208847,
          350.8088578088791,
          377.0256410256625
         ],
         "yaxis": "y2"
        },
        {
         "hovertemplate": "month=Dec<br>year=%{x}<br>passengers=%{y}<extra></extra>",
         "legendgroup": "Dec",
         "marker": {
          "color": "#EF553B",
          "symbol": "circle"
         },
         "mode": "markers",
         "name": "Dec",
         "orientation": "v",
         "showlegend": true,
         "type": "scatter",
         "x": [
          1949,
          1950,
          1951,
          1952,
          1953,
          1954,
          1955,
          1956,
          1957,
          1958,
          1959,
          1960
         ],
         "xaxis": "x3",
         "y": [
          118,
          140,
          166,
          194,
          201,
          229,
          278,
          306,
          336,
          337,
          405,
          432
         ],
         "yaxis": "y3"
        },
        {
         "hovertemplate": "<b>OLS trendline</b><br>passengers = 28.3566 * year + -55161.2<br>R<sup>2</sup>=0.983530<br><br>month=Dec<br>year=%{x}<br>passengers=%{y} <b>(trend)</b><extra></extra>",
         "legendgroup": "Dec",
         "marker": {
          "color": "#EF553B",
          "symbol": "circle"
         },
         "mode": "lines",
         "name": "Dec",
         "showlegend": false,
         "type": "scatter",
         "x": [
          1949,
          1950,
          1951,
          1952,
          1953,
          1954,
          1955,
          1956,
          1957,
          1958,
          1959,
          1960
         ],
         "xaxis": "x3",
         "y": [
          105.87179487178219,
          134.22843822842697,
          162.58508158507175,
          190.94172494171653,
          219.2983682983686,
          247.65501165501337,
          276.01165501165815,
          304.36829836830293,
          332.7249417249477,
          361.0815850815925,
          389.4382284382373,
          417.79487179488206
         ],
         "yaxis": "y3"
        }
       ],
       "layout": {
        "annotations": [
         {
          "font": {},
          "showarrow": false,
          "text": "month=Oct",
          "x": 0.15999999999999998,
          "xanchor": "center",
          "xref": "paper",
          "y": 0.1975,
          "yanchor": "bottom",
          "yref": "paper"
         },
         {
          "font": {},
          "showarrow": false,
          "text": "month=Nov",
          "x": 0.49999999999999994,
          "xanchor": "center",
          "xref": "paper",
          "y": 0.1975,
          "yanchor": "bottom",
          "yref": "paper"
         },
         {
          "font": {},
          "showarrow": false,
          "text": "month=Dec",
          "x": 0.8399999999999999,
          "xanchor": "center",
          "xref": "paper",
          "y": 0.1975,
          "yanchor": "bottom",
          "yref": "paper"
         },
         {
          "font": {},
          "showarrow": false,
          "text": "month=Jul",
          "x": 0.15999999999999998,
          "xanchor": "center",
          "xref": "paper",
          "y": 0.465,
          "yanchor": "bottom",
          "yref": "paper"
         },
         {
          "font": {},
          "showarrow": false,
          "text": "month=Aug",
          "x": 0.49999999999999994,
          "xanchor": "center",
          "xref": "paper",
          "y": 0.465,
          "yanchor": "bottom",
          "yref": "paper"
         },
         {
          "font": {},
          "showarrow": false,
          "text": "month=Sep",
          "x": 0.8399999999999999,
          "xanchor": "center",
          "xref": "paper",
          "y": 0.465,
          "yanchor": "bottom",
          "yref": "paper"
         },
         {
          "font": {},
          "showarrow": false,
          "text": "month=Apr",
          "x": 0.15999999999999998,
          "xanchor": "center",
          "xref": "paper",
          "y": 0.7325,
          "yanchor": "bottom",
          "yref": "paper"
         },
         {
          "font": {},
          "showarrow": false,
          "text": "month=May",
          "x": 0.49999999999999994,
          "xanchor": "center",
          "xref": "paper",
          "y": 0.7325,
          "yanchor": "bottom",
          "yref": "paper"
         },
         {
          "font": {},
          "showarrow": false,
          "text": "month=Jun",
          "x": 0.8399999999999999,
          "xanchor": "center",
          "xref": "paper",
          "y": 0.7325,
          "yanchor": "bottom",
          "yref": "paper"
         },
         {
          "font": {},
          "showarrow": false,
          "text": "month=Jan",
          "x": 0.15999999999999998,
          "xanchor": "center",
          "xref": "paper",
          "y": 1,
          "yanchor": "bottom",
          "yref": "paper"
         },
         {
          "font": {},
          "showarrow": false,
          "text": "month=Feb",
          "x": 0.49999999999999994,
          "xanchor": "center",
          "xref": "paper",
          "y": 1,
          "yanchor": "bottom",
          "yref": "paper"
         },
         {
          "font": {},
          "showarrow": false,
          "text": "month=Mar",
          "x": 0.8399999999999999,
          "xanchor": "center",
          "xref": "paper",
          "y": 1,
          "yanchor": "bottom",
          "yref": "paper"
         }
        ],
        "autosize": true,
        "legend": {
         "title": {
          "text": "month"
         },
         "tracegroupgap": 0
        },
        "margin": {
         "t": 60
        },
        "template": {
         "data": {
          "bar": [
           {
            "error_x": {
             "color": "#2a3f5f"
            },
            "error_y": {
             "color": "#2a3f5f"
            },
            "marker": {
             "line": {
              "color": "#E5ECF6",
              "width": 0.5
             },
             "pattern": {
              "fillmode": "overlay",
              "size": 10,
              "solidity": 0.2
             }
            },
            "type": "bar"
           }
          ],
          "barpolar": [
           {
            "marker": {
             "line": {
              "color": "#E5ECF6",
              "width": 0.5
             },
             "pattern": {
              "fillmode": "overlay",
              "size": 10,
              "solidity": 0.2
             }
            },
            "type": "barpolar"
           }
          ],
          "carpet": [
           {
            "aaxis": {
             "endlinecolor": "#2a3f5f",
             "gridcolor": "white",
             "linecolor": "white",
             "minorgridcolor": "white",
             "startlinecolor": "#2a3f5f"
            },
            "baxis": {
             "endlinecolor": "#2a3f5f",
             "gridcolor": "white",
             "linecolor": "white",
             "minorgridcolor": "white",
             "startlinecolor": "#2a3f5f"
            },
            "type": "carpet"
           }
          ],
          "choropleth": [
           {
            "colorbar": {
             "outlinewidth": 0,
             "ticks": ""
            },
            "type": "choropleth"
           }
          ],
          "contour": [
           {
            "colorbar": {
             "outlinewidth": 0,
             "ticks": ""
            },
            "colorscale": [
             [
              0,
              "#0d0887"
             ],
             [
              0.1111111111111111,
              "#46039f"
             ],
             [
              0.2222222222222222,
              "#7201a8"
             ],
             [
              0.3333333333333333,
              "#9c179e"
             ],
             [
              0.4444444444444444,
              "#bd3786"
             ],
             [
              0.5555555555555556,
              "#d8576b"
             ],
             [
              0.6666666666666666,
              "#ed7953"
             ],
             [
              0.7777777777777778,
              "#fb9f3a"
             ],
             [
              0.8888888888888888,
              "#fdca26"
             ],
             [
              1,
              "#f0f921"
             ]
            ],
            "type": "contour"
           }
          ],
          "contourcarpet": [
           {
            "colorbar": {
             "outlinewidth": 0,
             "ticks": ""
            },
            "type": "contourcarpet"
           }
          ],
          "heatmap": [
           {
            "colorbar": {
             "outlinewidth": 0,
             "ticks": ""
            },
            "colorscale": [
             [
              0,
              "#0d0887"
             ],
             [
              0.1111111111111111,
              "#46039f"
             ],
             [
              0.2222222222222222,
              "#7201a8"
             ],
             [
              0.3333333333333333,
              "#9c179e"
             ],
             [
              0.4444444444444444,
              "#bd3786"
             ],
             [
              0.5555555555555556,
              "#d8576b"
             ],
             [
              0.6666666666666666,
              "#ed7953"
             ],
             [
              0.7777777777777778,
              "#fb9f3a"
             ],
             [
              0.8888888888888888,
              "#fdca26"
             ],
             [
              1,
              "#f0f921"
             ]
            ],
            "type": "heatmap"
           }
          ],
          "heatmapgl": [
           {
            "colorbar": {
             "outlinewidth": 0,
             "ticks": ""
            },
            "colorscale": [
             [
              0,
              "#0d0887"
             ],
             [
              0.1111111111111111,
              "#46039f"
             ],
             [
              0.2222222222222222,
              "#7201a8"
             ],
             [
              0.3333333333333333,
              "#9c179e"
             ],
             [
              0.4444444444444444,
              "#bd3786"
             ],
             [
              0.5555555555555556,
              "#d8576b"
             ],
             [
              0.6666666666666666,
              "#ed7953"
             ],
             [
              0.7777777777777778,
              "#fb9f3a"
             ],
             [
              0.8888888888888888,
              "#fdca26"
             ],
             [
              1,
              "#f0f921"
             ]
            ],
            "type": "heatmapgl"
           }
          ],
          "histogram": [
           {
            "marker": {
             "pattern": {
              "fillmode": "overlay",
              "size": 10,
              "solidity": 0.2
             }
            },
            "type": "histogram"
           }
          ],
          "histogram2d": [
           {
            "colorbar": {
             "outlinewidth": 0,
             "ticks": ""
            },
            "colorscale": [
             [
              0,
              "#0d0887"
             ],
             [
              0.1111111111111111,
              "#46039f"
             ],
             [
              0.2222222222222222,
              "#7201a8"
             ],
             [
              0.3333333333333333,
              "#9c179e"
             ],
             [
              0.4444444444444444,
              "#bd3786"
             ],
             [
              0.5555555555555556,
              "#d8576b"
             ],
             [
              0.6666666666666666,
              "#ed7953"
             ],
             [
              0.7777777777777778,
              "#fb9f3a"
             ],
             [
              0.8888888888888888,
              "#fdca26"
             ],
             [
              1,
              "#f0f921"
             ]
            ],
            "type": "histogram2d"
           }
          ],
          "histogram2dcontour": [
           {
            "colorbar": {
             "outlinewidth": 0,
             "ticks": ""
            },
            "colorscale": [
             [
              0,
              "#0d0887"
             ],
             [
              0.1111111111111111,
              "#46039f"
             ],
             [
              0.2222222222222222,
              "#7201a8"
             ],
             [
              0.3333333333333333,
              "#9c179e"
             ],
             [
              0.4444444444444444,
              "#bd3786"
             ],
             [
              0.5555555555555556,
              "#d8576b"
             ],
             [
              0.6666666666666666,
              "#ed7953"
             ],
             [
              0.7777777777777778,
              "#fb9f3a"
             ],
             [
              0.8888888888888888,
              "#fdca26"
             ],
             [
              1,
              "#f0f921"
             ]
            ],
            "type": "histogram2dcontour"
           }
          ],
          "mesh3d": [
           {
            "colorbar": {
             "outlinewidth": 0,
             "ticks": ""
            },
            "type": "mesh3d"
           }
          ],
          "parcoords": [
           {
            "line": {
             "colorbar": {
              "outlinewidth": 0,
              "ticks": ""
             }
            },
            "type": "parcoords"
           }
          ],
          "pie": [
           {
            "automargin": true,
            "type": "pie"
           }
          ],
          "scatter": [
           {
            "fillpattern": {
             "fillmode": "overlay",
             "size": 10,
             "solidity": 0.2
            },
            "type": "scatter"
           }
          ],
          "scatter3d": [
           {
            "line": {
             "colorbar": {
              "outlinewidth": 0,
              "ticks": ""
             }
            },
            "marker": {
             "colorbar": {
              "outlinewidth": 0,
              "ticks": ""
             }
            },
            "type": "scatter3d"
           }
          ],
          "scattercarpet": [
           {
            "marker": {
             "colorbar": {
              "outlinewidth": 0,
              "ticks": ""
             }
            },
            "type": "scattercarpet"
           }
          ],
          "scattergeo": [
           {
            "marker": {
             "colorbar": {
              "outlinewidth": 0,
              "ticks": ""
             }
            },
            "type": "scattergeo"
           }
          ],
          "scattergl": [
           {
            "marker": {
             "colorbar": {
              "outlinewidth": 0,
              "ticks": ""
             }
            },
            "type": "scattergl"
           }
          ],
          "scattermapbox": [
           {
            "marker": {
             "colorbar": {
              "outlinewidth": 0,
              "ticks": ""
             }
            },
            "type": "scattermapbox"
           }
          ],
          "scatterpolar": [
           {
            "marker": {
             "colorbar": {
              "outlinewidth": 0,
              "ticks": ""
             }
            },
            "type": "scatterpolar"
           }
          ],
          "scatterpolargl": [
           {
            "marker": {
             "colorbar": {
              "outlinewidth": 0,
              "ticks": ""
             }
            },
            "type": "scatterpolargl"
           }
          ],
          "scatterternary": [
           {
            "marker": {
             "colorbar": {
              "outlinewidth": 0,
              "ticks": ""
             }
            },
            "type": "scatterternary"
           }
          ],
          "surface": [
           {
            "colorbar": {
             "outlinewidth": 0,
             "ticks": ""
            },
            "colorscale": [
             [
              0,
              "#0d0887"
             ],
             [
              0.1111111111111111,
              "#46039f"
             ],
             [
              0.2222222222222222,
              "#7201a8"
             ],
             [
              0.3333333333333333,
              "#9c179e"
             ],
             [
              0.4444444444444444,
              "#bd3786"
             ],
             [
              0.5555555555555556,
              "#d8576b"
             ],
             [
              0.6666666666666666,
              "#ed7953"
             ],
             [
              0.7777777777777778,
              "#fb9f3a"
             ],
             [
              0.8888888888888888,
              "#fdca26"
             ],
             [
              1,
              "#f0f921"
             ]
            ],
            "type": "surface"
           }
          ],
          "table": [
           {
            "cells": {
             "fill": {
              "color": "#EBF0F8"
             },
             "line": {
              "color": "white"
             }
            },
            "header": {
             "fill": {
              "color": "#C8D4E3"
             },
             "line": {
              "color": "white"
             }
            },
            "type": "table"
           }
          ]
         },
         "layout": {
          "annotationdefaults": {
           "arrowcolor": "#2a3f5f",
           "arrowhead": 0,
           "arrowwidth": 1
          },
          "autotypenumbers": "strict",
          "coloraxis": {
           "colorbar": {
            "outlinewidth": 0,
            "ticks": ""
           }
          },
          "colorscale": {
           "diverging": [
            [
             0,
             "#8e0152"
            ],
            [
             0.1,
             "#c51b7d"
            ],
            [
             0.2,
             "#de77ae"
            ],
            [
             0.3,
             "#f1b6da"
            ],
            [
             0.4,
             "#fde0ef"
            ],
            [
             0.5,
             "#f7f7f7"
            ],
            [
             0.6,
             "#e6f5d0"
            ],
            [
             0.7,
             "#b8e186"
            ],
            [
             0.8,
             "#7fbc41"
            ],
            [
             0.9,
             "#4d9221"
            ],
            [
             1,
             "#276419"
            ]
           ],
           "sequential": [
            [
             0,
             "#0d0887"
            ],
            [
             0.1111111111111111,
             "#46039f"
            ],
            [
             0.2222222222222222,
             "#7201a8"
            ],
            [
             0.3333333333333333,
             "#9c179e"
            ],
            [
             0.4444444444444444,
             "#bd3786"
            ],
            [
             0.5555555555555556,
             "#d8576b"
            ],
            [
             0.6666666666666666,
             "#ed7953"
            ],
            [
             0.7777777777777778,
             "#fb9f3a"
            ],
            [
             0.8888888888888888,
             "#fdca26"
            ],
            [
             1,
             "#f0f921"
            ]
           ],
           "sequentialminus": [
            [
             0,
             "#0d0887"
            ],
            [
             0.1111111111111111,
             "#46039f"
            ],
            [
             0.2222222222222222,
             "#7201a8"
            ],
            [
             0.3333333333333333,
             "#9c179e"
            ],
            [
             0.4444444444444444,
             "#bd3786"
            ],
            [
             0.5555555555555556,
             "#d8576b"
            ],
            [
             0.6666666666666666,
             "#ed7953"
            ],
            [
             0.7777777777777778,
             "#fb9f3a"
            ],
            [
             0.8888888888888888,
             "#fdca26"
            ],
            [
             1,
             "#f0f921"
            ]
           ]
          },
          "colorway": [
           "#636efa",
           "#EF553B",
           "#00cc96",
           "#ab63fa",
           "#FFA15A",
           "#19d3f3",
           "#FF6692",
           "#B6E880",
           "#FF97FF",
           "#FECB52"
          ],
          "font": {
           "color": "#2a3f5f"
          },
          "geo": {
           "bgcolor": "white",
           "lakecolor": "white",
           "landcolor": "#E5ECF6",
           "showlakes": true,
           "showland": true,
           "subunitcolor": "white"
          },
          "hoverlabel": {
           "align": "left"
          },
          "hovermode": "closest",
          "mapbox": {
           "style": "light"
          },
          "paper_bgcolor": "white",
          "plot_bgcolor": "#E5ECF6",
          "polar": {
           "angularaxis": {
            "gridcolor": "white",
            "linecolor": "white",
            "ticks": ""
           },
           "bgcolor": "#E5ECF6",
           "radialaxis": {
            "gridcolor": "white",
            "linecolor": "white",
            "ticks": ""
           }
          },
          "scene": {
           "xaxis": {
            "backgroundcolor": "#E5ECF6",
            "gridcolor": "white",
            "gridwidth": 2,
            "linecolor": "white",
            "showbackground": true,
            "ticks": "",
            "zerolinecolor": "white"
           },
           "yaxis": {
            "backgroundcolor": "#E5ECF6",
            "gridcolor": "white",
            "gridwidth": 2,
            "linecolor": "white",
            "showbackground": true,
            "ticks": "",
            "zerolinecolor": "white"
           },
           "zaxis": {
            "backgroundcolor": "#E5ECF6",
            "gridcolor": "white",
            "gridwidth": 2,
            "linecolor": "white",
            "showbackground": true,
            "ticks": "",
            "zerolinecolor": "white"
           }
          },
          "shapedefaults": {
           "line": {
            "color": "#2a3f5f"
           }
          },
          "ternary": {
           "aaxis": {
            "gridcolor": "white",
            "linecolor": "white",
            "ticks": ""
           },
           "baxis": {
            "gridcolor": "white",
            "linecolor": "white",
            "ticks": ""
           },
           "bgcolor": "#E5ECF6",
           "caxis": {
            "gridcolor": "white",
            "linecolor": "white",
            "ticks": ""
           }
          },
          "title": {
           "x": 0.05
          },
          "xaxis": {
           "automargin": true,
           "gridcolor": "white",
           "linecolor": "white",
           "ticks": "",
           "title": {
            "standoff": 15
           },
           "zerolinecolor": "white",
           "zerolinewidth": 2
          },
          "yaxis": {
           "automargin": true,
           "gridcolor": "white",
           "linecolor": "white",
           "ticks": "",
           "title": {
            "standoff": 15
           },
           "zerolinecolor": "white",
           "zerolinewidth": 2
          }
         }
        },
        "xaxis": {
         "anchor": "y",
         "autorange": true,
         "domain": [
          0,
          0.31999999999999995
         ],
         "range": [
          1948.1168293088301,
          1960.8831706911699
         ],
         "title": {
          "text": "year"
         },
         "type": "linear"
        },
        "xaxis10": {
         "anchor": "y10",
         "autorange": true,
         "domain": [
          0,
          0.31999999999999995
         ],
         "matches": "x",
         "range": [
          1948.1168293088301,
          1960.8831706911699
         ],
         "showticklabels": false,
         "type": "linear"
        },
        "xaxis11": {
         "anchor": "y11",
         "autorange": true,
         "domain": [
          0.33999999999999997,
          0.6599999999999999
         ],
         "matches": "x",
         "range": [
          1948.1168293088301,
          1960.8831706911699
         ],
         "showticklabels": false,
         "type": "linear"
        },
        "xaxis12": {
         "anchor": "y12",
         "autorange": true,
         "domain": [
          0.6799999999999999,
          0.9999999999999999
         ],
         "matches": "x",
         "range": [
          1948.1168293088301,
          1960.8831706911699
         ],
         "showticklabels": false,
         "type": "linear"
        },
        "xaxis2": {
         "anchor": "y2",
         "autorange": true,
         "domain": [
          0.33999999999999997,
          0.6599999999999999
         ],
         "matches": "x",
         "range": [
          1948.1168293088301,
          1960.8831706911699
         ],
         "title": {
          "text": "year"
         },
         "type": "linear"
        },
        "xaxis3": {
         "anchor": "y3",
         "autorange": true,
         "domain": [
          0.6799999999999999,
          0.9999999999999999
         ],
         "matches": "x",
         "range": [
          1948.1168293088301,
          1960.8831706911699
         ],
         "title": {
          "text": "year"
         },
         "type": "linear"
        },
        "xaxis4": {
         "anchor": "y4",
         "autorange": true,
         "domain": [
          0,
          0.31999999999999995
         ],
         "matches": "x",
         "range": [
          1948.1168293088301,
          1960.8831706911699
         ],
         "showticklabels": false,
         "type": "linear"
        },
        "xaxis5": {
         "anchor": "y5",
         "autorange": true,
         "domain": [
          0.33999999999999997,
          0.6599999999999999
         ],
         "matches": "x",
         "range": [
          1948.1168293088301,
          1960.8831706911699
         ],
         "showticklabels": false,
         "type": "linear"
        },
        "xaxis6": {
         "anchor": "y6",
         "autorange": true,
         "domain": [
          0.6799999999999999,
          0.9999999999999999
         ],
         "matches": "x",
         "range": [
          1948.1168293088301,
          1960.8831706911699
         ],
         "showticklabels": false,
         "type": "linear"
        },
        "xaxis7": {
         "anchor": "y7",
         "autorange": true,
         "domain": [
          0,
          0.31999999999999995
         ],
         "matches": "x",
         "range": [
          1948.1168293088301,
          1960.8831706911699
         ],
         "showticklabels": false,
         "type": "linear"
        },
        "xaxis8": {
         "anchor": "y8",
         "autorange": true,
         "domain": [
          0.33999999999999997,
          0.6599999999999999
         ],
         "matches": "x",
         "range": [
          1948.1168293088301,
          1960.8831706911699
         ],
         "showticklabels": false,
         "type": "linear"
        },
        "xaxis9": {
         "anchor": "y9",
         "autorange": true,
         "domain": [
          0.6799999999999999,
          0.9999999999999999
         ],
         "matches": "x",
         "range": [
          1948.1168293088301,
          1960.8831706911699
         ],
         "showticklabels": false,
         "type": "linear"
        },
        "yaxis": {
         "anchor": "x",
         "autorange": true,
         "domain": [
          0,
          0.1975
         ],
         "range": [
          6.931339977851621,
          719.0686600221484
         ],
         "title": {
          "text": "passengers"
         },
         "type": "linear"
        },
        "yaxis10": {
         "anchor": "x10",
         "autorange": true,
         "domain": [
          0.8025,
          1
         ],
         "matches": "y",
         "range": [
          6.931339977851621,
          719.0686600221484
         ],
         "title": {
          "text": "passengers"
         },
         "type": "linear"
        },
        "yaxis11": {
         "anchor": "x11",
         "autorange": true,
         "domain": [
          0.8025,
          1
         ],
         "matches": "y",
         "range": [
          6.931339977851621,
          719.0686600221484
         ],
         "showticklabels": false,
         "type": "linear"
        },
        "yaxis12": {
         "anchor": "x12",
         "autorange": true,
         "domain": [
          0.8025,
          1
         ],
         "matches": "y",
         "range": [
          6.931339977851621,
          719.0686600221484
         ],
         "showticklabels": false,
         "type": "linear"
        },
        "yaxis2": {
         "anchor": "x2",
         "autorange": true,
         "domain": [
          0,
          0.1975
         ],
         "matches": "y",
         "range": [
          6.931339977851621,
          719.0686600221484
         ],
         "showticklabels": false,
         "type": "linear"
        },
        "yaxis3": {
         "anchor": "x3",
         "autorange": true,
         "domain": [
          0,
          0.1975
         ],
         "matches": "y",
         "range": [
          6.931339977851621,
          719.0686600221484
         ],
         "showticklabels": false,
         "type": "linear"
        },
        "yaxis4": {
         "anchor": "x4",
         "autorange": true,
         "domain": [
          0.2675,
          0.465
         ],
         "matches": "y",
         "range": [
          6.931339977851621,
          719.0686600221484
         ],
         "title": {
          "text": "passengers"
         },
         "type": "linear"
        },
        "yaxis5": {
         "anchor": "x5",
         "autorange": true,
         "domain": [
          0.2675,
          0.465
         ],
         "matches": "y",
         "range": [
          6.931339977851621,
          719.0686600221484
         ],
         "showticklabels": false,
         "type": "linear"
        },
        "yaxis6": {
         "anchor": "x6",
         "autorange": true,
         "domain": [
          0.2675,
          0.465
         ],
         "matches": "y",
         "range": [
          6.931339977851621,
          719.0686600221484
         ],
         "showticklabels": false,
         "type": "linear"
        },
        "yaxis7": {
         "anchor": "x7",
         "autorange": true,
         "domain": [
          0.535,
          0.7325
         ],
         "matches": "y",
         "range": [
          6.931339977851621,
          719.0686600221484
         ],
         "title": {
          "text": "passengers"
         },
         "type": "linear"
        },
        "yaxis8": {
         "anchor": "x8",
         "autorange": true,
         "domain": [
          0.535,
          0.7325
         ],
         "matches": "y",
         "range": [
          6.931339977851621,
          719.0686600221484
         ],
         "showticklabels": false,
         "type": "linear"
        },
        "yaxis9": {
         "anchor": "x9",
         "autorange": true,
         "domain": [
          0.535,
          0.7325
         ],
         "matches": "y",
         "range": [
          6.931339977851621,
          719.0686600221484
         ],
         "showticklabels": false,
         "type": "linear"
        }
       }
      },
      "image/png": "[encoded data removed]",
      "text/html": [
       "<div>                            <div id=\"d6d470f1-d9ba-460c-a703-8b9a9698dd90\" class=\"plotly-graph-div\" style=\"height:525px; width:100%;\"></div>            <script type=\"text/javascript\">                require([\"plotly\"], function(Plotly) {                    window.PLOTLYENV=window.PLOTLYENV || {};                                    if (document.getElementById(\"d6d470f1-d9ba-460c-a703-8b9a9698dd90\")) {                    Plotly.newPlot(                        \"d6d470f1-d9ba-460c-a703-8b9a9698dd90\",                        [{\"hovertemplate\":\"month=Jan\\u003cbr\\u003eyear=%{x}\\u003cbr\\u003epassengers=%{y}\\u003cextra\\u003e\\u003c\\u002fextra\\u003e\",\"legendgroup\":\"Jan\",\"marker\":{\"color\":\"#636efa\",\"symbol\":\"circle\"},\"mode\":\"markers\",\"name\":\"Jan\",\"orientation\":\"v\",\"showlegend\":true,\"x\":[1949,1950,1951,1952,1953,1954,1955,1956,1957,1958,1959,1960],\"xaxis\":\"x10\",\"y\":[112,115,145,171,196,204,242,284,315,340,360,417],\"yaxis\":\"y10\",\"type\":\"scatter\"},{\"hovertemplate\":\"\\u003cb\\u003eOLS trendline\\u003c\\u002fb\\u003e\\u003cbr\\u003epassengers = 27.7867 * year + -54067.4\\u003cbr\\u003eR\\u003csup\\u003e2\\u003c\\u002fsup\\u003e=0.983312\\u003cbr\\u003e\\u003cbr\\u003emonth=Jan\\u003cbr\\u003eyear=%{x}\\u003cbr\\u003epassengers=%{y} \\u003cb\\u003e(trend)\\u003c\\u002fb\\u003e\\u003cextra\\u003e\\u003c\\u002fextra\\u003e\",\"legendgroup\":\"Jan\",\"marker\":{\"color\":\"#636efa\",\"symbol\":\"circle\"},\"mode\":\"lines\",\"name\":\"Jan\",\"showlegend\":false,\"x\":[1949,1950,1951,1952,1953,1954,1955,1956,1957,1958,1959,1960],\"xaxis\":\"x10\",\"y\":[88.92307692304894,116.70979020975938,144.4965034964771,172.2832167831948,200.06993006991252,227.85664335662295,255.64335664334067,283.4300699300584,311.2167832167688,339.00349650348653,366.79020979020424,394.5769230769147],\"yaxis\":\"y10\",\"type\":\"scatter\"},{\"hovertemplate\":\"month=Feb\\u003cbr\\u003eyear=%{x}\\u003cbr\\u003epassengers=%{y}\\u003cextra\\u003e\\u003c\\u002fextra\\u003e\",\"legendgroup\":\"Feb\",\"marker\":{\"color\":\"#EF553B\",\"symbol\":\"circle\"},\"mode\":\"markers\",\"name\":\"Feb\",\"orientation\":\"v\",\"showlegend\":true,\"x\":[1949,1950,1951,1952,1953,1954,1955,1956,1957,1958,1959,1960],\"xaxis\":\"x11\",\"y\":[118,126,150,180,196,188,233,277,301,318,342,391],\"yaxis\":\"y11\",\"type\":\"scatter\"},{\"hovertemplate\":\"\\u003cb\\u003eOLS trendline\\u003c\\u002fb\\u003e\\u003cbr\\u003epassengers = 24.5315 * year + -47711.8\\u003cbr\\u003eR\\u003csup\\u003e2\\u003c\\u002fsup\\u003e=0.974062\\u003cbr\\u003e\\u003cbr\\u003emonth=Feb\\u003cbr\\u003eyear=%{x}\\u003cbr\\u003epassengers=%{y} \\u003cb\\u003e(trend)\\u003c\\u002fb\\u003e\\u003cextra\\u003e\\u003c\\u002fextra\\u003e\",\"legendgroup\":\"Feb\",\"marker\":{\"color\":\"#EF553B\",\"symbol\":\"circle\"},\"mode\":\"lines\",\"name\":\"Feb\",\"showlegend\":false,\"x\":[1949,1950,1951,1952,1953,1954,1955,1956,1957,1958,1959,1960],\"xaxis\":\"x11\",\"y\":[100.07692307692196,124.60839160839532,149.1398601398614,173.67132867133478,198.20279720280087,222.73426573427423,247.2657342657476,271.7972027972137,296.32867132868705,320.86013986015314,345.3916083916265,369.9230769230926],\"yaxis\":\"y11\",\"type\":\"scatter\"},{\"hovertemplate\":\"month=Mar\\u003cbr\\u003eyear=%{x}\\u003cbr\\u003epassengers=%{y}\\u003cextra\\u003e\\u003c\\u002fextra\\u003e\",\"legendgroup\":\"Mar\",\"marker\":{\"color\":\"#00cc96\",\"symbol\":\"circle\"},\"mode\":\"markers\",\"name\":\"Mar\",\"orientation\":\"v\",\"showlegend\":true,\"x\":[1949,1950,1951,1952,1953,1954,1955,1956,1957,1958,1959,1960],\"xaxis\":\"x12\",\"y\":[132,141,178,193,236,235,267,317,356,362,406,419],\"yaxis\":\"y12\",\"type\":\"scatter\"},{\"hovertemplate\":\"\\u003cb\\u003eOLS trendline\\u003c\\u002fb\\u003e\\u003cbr\\u003epassengers = 27.6923 * year + -53854.4\\u003cbr\\u003eR\\u003csup\\u003e2\\u003c\\u002fsup\\u003e=0.985866\\u003cbr\\u003e\\u003cbr\\u003emonth=Mar\\u003cbr\\u003eyear=%{x}\\u003cbr\\u003epassengers=%{y} \\u003cb\\u003e(trend)\\u003c\\u002fb\\u003e\\u003cextra\\u003e\\u003c\\u002fextra\\u003e\",\"legendgroup\":\"Mar\",\"marker\":{\"color\":\"#00cc96\",\"symbol\":\"circle\"},\"mode\":\"lines\",\"name\":\"Mar\",\"showlegend\":false,\"x\":[1949,1950,1951,1952,1953,1954,1955,1956,1957,1958,1959,1960],\"xaxis\":\"x12\",\"y\":[117.85897435894731,145.55128205125948,173.24358974356437,200.93589743587654,228.6282051281887,256.3205128204936,284.0128205128058,311.70512820511794,339.39743589742284,367.089743589735,394.7820512820472,422.47435897435207],\"yaxis\":\"y12\",\"type\":\"scatter\"},{\"hovertemplate\":\"month=Apr\\u003cbr\\u003eyear=%{x}\\u003cbr\\u003epassengers=%{y}\\u003cextra\\u003e\\u003c\\u002fextra\\u003e\",\"legendgroup\":\"Apr\",\"marker\":{\"color\":\"#ab63fa\",\"symbol\":\"circle\"},\"mode\":\"markers\",\"name\":\"Apr\",\"orientation\":\"v\",\"showlegend\":true,\"x\":[1949,1950,1951,1952,1953,1954,1955,1956,1957,1958,1959,1960],\"xaxis\":\"x7\",\"y\":[129,135,163,181,235,227,269,313,348,348,396,461],\"yaxis\":\"y7\",\"type\":\"scatter\"},{\"hovertemplate\":\"\\u003cb\\u003eOLS trendline\\u003c\\u002fb\\u003e\\u003cbr\\u003epassengers = 29.3951 * year + -57185.6\\u003cbr\\u003eR\\u003csup\\u003e2\\u003c\\u002fsup\\u003e=0.974290\\u003cbr\\u003e\\u003cbr\\u003emonth=Apr\\u003cbr\\u003eyear=%{x}\\u003cbr\\u003epassengers=%{y} \\u003cb\\u003e(trend)\\u003c\\u002fb\\u003e\\u003cextra\\u003e\\u003c\\u002fextra\\u003e\",\"legendgroup\":\"Apr\",\"marker\":{\"color\":\"#ab63fa\",\"symbol\":\"circle\"},\"mode\":\"lines\",\"name\":\"Apr\",\"showlegend\":false,\"x\":[1949,1950,1951,1952,1953,1954,1955,1956,1957,1958,1959,1960],\"xaxis\":\"x7\",\"y\":[105.41025641023589,134.80536130534165,164.2004662004474,193.59557109555317,222.9906759906662,252.38578088577196,281.7808857808777,311.1759906759835,340.57109557108924,369.966200466195,399.36130536130804,428.7564102564138],\"yaxis\":\"y7\",\"type\":\"scatter\"},{\"hovertemplate\":\"month=May\\u003cbr\\u003eyear=%{x}\\u003cbr\\u003epassengers=%{y}\\u003cextra\\u003e\\u003c\\u002fextra\\u003e\",\"legendgroup\":\"May\",\"marker\":{\"color\":\"#FFA15A\",\"symbol\":\"circle\"},\"mode\":\"markers\",\"name\":\"May\",\"orientation\":\"v\",\"showlegend\":true,\"x\":[1949,1950,1951,1952,1953,1954,1955,1956,1957,1958,1959,1960],\"xaxis\":\"x8\",\"y\":[121,125,172,183,229,234,270,318,355,363,420,472],\"yaxis\":\"y8\",\"type\":\"scatter\"},{\"hovertemplate\":\"\\u003cb\\u003eOLS trendline\\u003c\\u002fb\\u003e\\u003cbr\\u003epassengers = 31.5245 * year + -61342.8\\u003cbr\\u003eR\\u003csup\\u003e2\\u003c\\u002fsup\\u003e=0.981319\\u003cbr\\u003e\\u003cbr\\u003emonth=May\\u003cbr\\u003eyear=%{x}\\u003cbr\\u003epassengers=%{y} \\u003cb\\u003e(trend)\\u003c\\u002fb\\u003e\\u003cextra\\u003e\\u003c\\u002fextra\\u003e\",\"legendgroup\":\"May\",\"marker\":{\"color\":\"#FFA15A\",\"symbol\":\"circle\"},\"mode\":\"lines\",\"name\":\"May\",\"showlegend\":false,\"x\":[1949,1950,1951,1952,1953,1954,1955,1956,1957,1958,1959,1960],\"xaxis\":\"x8\",\"y\":[98.44871794869687,129.97319347317534,161.49766899765382,193.0221445221323,224.54662004661077,256.07109557108924,287.5955710955677,319.1200466200462,350.6445221445247,382.16899766900315,413.6934731934816,445.2179487179528],\"yaxis\":\"y8\",\"type\":\"scatter\"},{\"hovertemplate\":\"month=Jun\\u003cbr\\u003eyear=%{x}\\u003cbr\\u003epassengers=%{y}\\u003cextra\\u003e\\u003c\\u002fextra\\u003e\",\"legendgroup\":\"Jun\",\"marker\":{\"color\":\"#19d3f3\",\"symbol\":\"circle\"},\"mode\":\"markers\",\"name\":\"Jun\",\"orientation\":\"v\",\"showlegend\":true,\"x\":[1949,1950,1951,1952,1953,1954,1955,1956,1957,1958,1959,1960],\"xaxis\":\"x9\",\"y\":[135,149,178,218,243,264,315,374,422,435,472,535],\"yaxis\":\"y9\",\"type\":\"scatter\"},{\"hovertemplate\":\"\\u003cb\\u003eOLS trendline\\u003c\\u002fb\\u003e\\u003cbr\\u003epassengers = 36.958 * year + -71922.8\\u003cbr\\u003eR\\u003csup\\u003e2\\u003c\\u002fsup\\u003e=0.985661\\u003cbr\\u003e\\u003cbr\\u003emonth=Jun\\u003cbr\\u003eyear=%{x}\\u003cbr\\u003epassengers=%{y} \\u003cb\\u003e(trend)\\u003c\\u002fb\\u003e\\u003cextra\\u003e\\u003c\\u002fextra\\u003e\",\"legendgroup\":\"Jun\",\"marker\":{\"color\":\"#19d3f3\",\"symbol\":\"circle\"},\"mode\":\"lines\",\"name\":\"Jun\",\"showlegend\":false,\"x\":[1949,1950,1951,1952,1953,1954,1955,1956,1957,1958,1959,1960],\"xaxis\":\"x9\",\"y\":[108.39743589742284,145.3554778554535,182.31351981349871,219.27156177154393,256.22960372958914,293.18764568763436,330.1456876456796,367.1037296037248,404.06177156177,441.0198135198152,477.97785547786043,514.9358974359056],\"yaxis\":\"y9\",\"type\":\"scatter\"},{\"hovertemplate\":\"month=Jul\\u003cbr\\u003eyear=%{x}\\u003cbr\\u003epassengers=%{y}\\u003cextra\\u003e\\u003c\\u002fextra\\u003e\",\"legendgroup\":\"Jul\",\"marker\":{\"color\":\"#FF6692\",\"symbol\":\"circle\"},\"mode\":\"markers\",\"name\":\"Jul\",\"orientation\":\"v\",\"showlegend\":true,\"x\":[1949,1950,1951,1952,1953,1954,1955,1956,1957,1958,1959,1960],\"xaxis\":\"x4\",\"y\":[148,170,199,230,264,302,364,413,465,491,548,622],\"yaxis\":\"y4\",\"type\":\"scatter\"},{\"hovertemplate\":\"\\u003cb\\u003eOLS trendline\\u003c\\u002fb\\u003e\\u003cbr\\u003epassengers = 43.1608 * year + -84006.5\\u003cbr\\u003eR\\u003csup\\u003e2\\u003c\\u002fsup\\u003e=0.984646\\u003cbr\\u003e\\u003cbr\\u003emonth=Jul\\u003cbr\\u003eyear=%{x}\\u003cbr\\u003epassengers=%{y} \\u003cb\\u003e(trend)\\u003c\\u002fb\\u003e\\u003cextra\\u003e\\u003c\\u002fextra\\u003e\",\"legendgroup\":\"Jul\",\"marker\":{\"color\":\"#FF6692\",\"symbol\":\"circle\"},\"mode\":\"lines\",\"name\":\"Jul\",\"showlegend\":false,\"x\":[1949,1950,1951,1952,1953,1954,1955,1956,1957,1958,1959,1960],\"xaxis\":\"x4\",\"y\":[113.94871794870414,157.10955710955022,200.2703962703963,243.43123543122783,286.5920745920739,329.75291375292,372.9137529137661,416.0745920745976,459.2354312354437,502.39627039628976,545.5571095571358,588.7179487179674],\"yaxis\":\"y4\",\"type\":\"scatter\"},{\"hovertemplate\":\"month=Aug\\u003cbr\\u003eyear=%{x}\\u003cbr\\u003epassengers=%{y}\\u003cextra\\u003e\\u003c\\u002fextra\\u003e\",\"legendgroup\":\"Aug\",\"marker\":{\"color\":\"#B6E880\",\"symbol\":\"circle\"},\"mode\":\"markers\",\"name\":\"Aug\",\"orientation\":\"v\",\"showlegend\":true,\"x\":[1949,1950,1951,1952,1953,1954,1955,1956,1957,1958,1959,1960],\"xaxis\":\"x5\",\"y\":[148,170,199,242,272,293,347,405,467,505,559,606],\"yaxis\":\"y5\",\"type\":\"scatter\"},{\"hovertemplate\":\"\\u003cb\\u003eOLS trendline\\u003c\\u002fb\\u003e\\u003cbr\\u003epassengers = 42.8636 * year + -83425.9\\u003cbr\\u003eR\\u003csup\\u003e2\\u003c\\u002fsup\\u003e=0.984191\\u003cbr\\u003e\\u003cbr\\u003emonth=Aug\\u003cbr\\u003eyear=%{x}\\u003cbr\\u003epassengers=%{y} \\u003cb\\u003e(trend)\\u003c\\u002fb\\u003e\\u003cextra\\u003e\\u003c\\u002fextra\\u003e\",\"legendgroup\":\"Aug\",\"marker\":{\"color\":\"#B6E880\",\"symbol\":\"circle\"},\"mode\":\"lines\",\"name\":\"Aug\",\"showlegend\":false,\"x\":[1949,1950,1951,1952,1953,1954,1955,1956,1957,1958,1959,1960],\"xaxis\":\"x5\",\"y\":[115.33333333329938,158.19696969694633,201.06060606057872,243.92424242422567,286.78787878785806,329.651515151505,372.5151515151374,415.37878787878435,458.24242424241675,501.1060606060637,543.9696969696961,586.833333333343],\"yaxis\":\"y5\",\"type\":\"scatter\"},{\"hovertemplate\":\"month=Sep\\u003cbr\\u003eyear=%{x}\\u003cbr\\u003epassengers=%{y}\\u003cextra\\u003e\\u003c\\u002fextra\\u003e\",\"legendgroup\":\"Sep\",\"marker\":{\"color\":\"#FF97FF\",\"symbol\":\"circle\"},\"mode\":\"markers\",\"name\":\"Sep\",\"orientation\":\"v\",\"showlegend\":true,\"x\":[1949,1950,1951,1952,1953,1954,1955,1956,1957,1958,1959,1960],\"xaxis\":\"x6\",\"y\":[136,158,184,209,237,259,312,355,404,404,463,508],\"yaxis\":\"y6\",\"type\":\"scatter\"},{\"hovertemplate\":\"\\u003cb\\u003eOLS trendline\\u003c\\u002fb\\u003e\\u003cbr\\u003epassengers = 34.1224 * year + -66389.8\\u003cbr\\u003eR\\u003csup\\u003e2\\u003c\\u002fsup\\u003e=0.985144\\u003cbr\\u003e\\u003cbr\\u003emonth=Sep\\u003cbr\\u003eyear=%{x}\\u003cbr\\u003epassengers=%{y} \\u003cb\\u003e(trend)\\u003c\\u002fb\\u003e\\u003cextra\\u003e\\u003c\\u002fextra\\u003e\",\"legendgroup\":\"Sep\",\"marker\":{\"color\":\"#FF97FF\",\"symbol\":\"circle\"},\"mode\":\"lines\",\"name\":\"Sep\",\"showlegend\":false,\"x\":[1949,1950,1951,1952,1953,1954,1955,1956,1957,1958,1959,1960],\"xaxis\":\"x6\",\"y\":[114.74358974357892,148.8659673659713,182.98834498834913,217.11072261072695,251.23310023310478,285.3554778554826,319.47785547786043,353.6002331002528,387.72261072263063,421.84498834500846,455.9673659673863,490.0897435897641],\"yaxis\":\"y6\",\"type\":\"scatter\"},{\"hovertemplate\":\"month=Oct\\u003cbr\\u003eyear=%{x}\\u003cbr\\u003epassengers=%{y}\\u003cextra\\u003e\\u003c\\u002fextra\\u003e\",\"legendgroup\":\"Oct\",\"marker\":{\"color\":\"#FECB52\",\"symbol\":\"circle\"},\"mode\":\"markers\",\"name\":\"Oct\",\"orientation\":\"v\",\"showlegend\":true,\"x\":[1949,1950,1951,1952,1953,1954,1955,1956,1957,1958,1959,1960],\"xaxis\":\"x\",\"y\":[119,133,162,191,211,229,274,306,347,359,407,461],\"yaxis\":\"y\",\"type\":\"scatter\"},{\"hovertemplate\":\"\\u003cb\\u003eOLS trendline\\u003c\\u002fb\\u003e\\u003cbr\\u003epassengers = 30.479 * year + -59304.7\\u003cbr\\u003eR\\u003csup\\u003e2\\u003c\\u002fsup\\u003e=0.984685\\u003cbr\\u003e\\u003cbr\\u003emonth=Oct\\u003cbr\\u003eyear=%{x}\\u003cbr\\u003epassengers=%{y} \\u003cb\\u003e(trend)\\u003c\\u002fb\\u003e\\u003cextra\\u003e\\u003c\\u002fextra\\u003e\",\"legendgroup\":\"Oct\",\"marker\":{\"color\":\"#FECB52\",\"symbol\":\"circle\"},\"mode\":\"lines\",\"name\":\"Oct\",\"showlegend\":false,\"x\":[1949,1950,1951,1952,1953,1954,1955,1956,1957,1958,1959,1960],\"xaxis\":\"x\",\"y\":[98.94871794870414,129.42773892772675,159.90675990674936,190.38578088577196,220.86480186479457,251.34382284381718,281.8228438228398,312.3018648018624,342.780885780885,373.2599067599149,403.7389277389375,434.2179487179601],\"yaxis\":\"y\",\"type\":\"scatter\"},{\"hovertemplate\":\"month=Nov\\u003cbr\\u003eyear=%{x}\\u003cbr\\u003epassengers=%{y}\\u003cextra\\u003e\\u003c\\u002fextra\\u003e\",\"legendgroup\":\"Nov\",\"marker\":{\"color\":\"#636efa\",\"symbol\":\"circle\"},\"mode\":\"markers\",\"name\":\"Nov\",\"orientation\":\"v\",\"showlegend\":true,\"x\":[1949,1950,1951,1952,1953,1954,1955,1956,1957,1958,1959,1960],\"xaxis\":\"x2\",\"y\":[104,114,146,172,180,203,237,271,305,310,362,390],\"yaxis\":\"y2\",\"type\":\"scatter\"},{\"hovertemplate\":\"\\u003cb\\u003eOLS trendline\\u003c\\u002fb\\u003e\\u003cbr\\u003epassengers = 26.2168 * year + -51007.9\\u003cbr\\u003eR\\u003csup\\u003e2\\u003c\\u002fsup\\u003e=0.986184\\u003cbr\\u003e\\u003cbr\\u003emonth=Nov\\u003cbr\\u003eyear=%{x}\\u003cbr\\u003epassengers=%{y} \\u003cb\\u003e(trend)\\u003c\\u002fb\\u003e\\u003cextra\\u003e\\u003c\\u002fextra\\u003e\",\"legendgroup\":\"Nov\",\"marker\":{\"color\":\"#636efa\",\"symbol\":\"circle\"},\"mode\":\"lines\",\"name\":\"Nov\",\"showlegend\":false,\"x\":[1949,1950,1951,1952,1953,1954,1955,1956,1957,1958,1959,1960],\"xaxis\":\"x2\",\"y\":[88.64102564102359,114.85780885780696,141.0745920745976,167.29137529138097,193.50815850816434,219.7249417249477,245.94172494173836,272.1585081585217,298.3752913753051,324.59207459208847,350.8088578088791,377.0256410256625],\"yaxis\":\"y2\",\"type\":\"scatter\"},{\"hovertemplate\":\"month=Dec\\u003cbr\\u003eyear=%{x}\\u003cbr\\u003epassengers=%{y}\\u003cextra\\u003e\\u003c\\u002fextra\\u003e\",\"legendgroup\":\"Dec\",\"marker\":{\"color\":\"#EF553B\",\"symbol\":\"circle\"},\"mode\":\"markers\",\"name\":\"Dec\",\"orientation\":\"v\",\"showlegend\":true,\"x\":[1949,1950,1951,1952,1953,1954,1955,1956,1957,1958,1959,1960],\"xaxis\":\"x3\",\"y\":[118,140,166,194,201,229,278,306,336,337,405,432],\"yaxis\":\"y3\",\"type\":\"scatter\"},{\"hovertemplate\":\"\\u003cb\\u003eOLS trendline\\u003c\\u002fb\\u003e\\u003cbr\\u003epassengers = 28.3566 * year + -55161.2\\u003cbr\\u003eR\\u003csup\\u003e2\\u003c\\u002fsup\\u003e=0.983530\\u003cbr\\u003e\\u003cbr\\u003emonth=Dec\\u003cbr\\u003eyear=%{x}\\u003cbr\\u003epassengers=%{y} \\u003cb\\u003e(trend)\\u003c\\u002fb\\u003e\\u003cextra\\u003e\\u003c\\u002fextra\\u003e\",\"legendgroup\":\"Dec\",\"marker\":{\"color\":\"#EF553B\",\"symbol\":\"circle\"},\"mode\":\"lines\",\"name\":\"Dec\",\"showlegend\":false,\"x\":[1949,1950,1951,1952,1953,1954,1955,1956,1957,1958,1959,1960],\"xaxis\":\"x3\",\"y\":[105.87179487178219,134.22843822842697,162.58508158507175,190.94172494171653,219.2983682983686,247.65501165501337,276.01165501165815,304.36829836830293,332.7249417249477,361.0815850815925,389.4382284382373,417.79487179488206],\"yaxis\":\"y3\",\"type\":\"scatter\"}],                        {\"template\":{\"data\":{\"histogram2dcontour\":[{\"type\":\"histogram2dcontour\",\"colorbar\":{\"outlinewidth\":0,\"ticks\":\"\"},\"colorscale\":[[0.0,\"#0d0887\"],[0.1111111111111111,\"#46039f\"],[0.2222222222222222,\"#7201a8\"],[0.3333333333333333,\"#9c179e\"],[0.4444444444444444,\"#bd3786\"],[0.5555555555555556,\"#d8576b\"],[0.6666666666666666,\"#ed7953\"],[0.7777777777777778,\"#fb9f3a\"],[0.8888888888888888,\"#fdca26\"],[1.0,\"#f0f921\"]]}],\"choropleth\":[{\"type\":\"choropleth\",\"colorbar\":{\"outlinewidth\":0,\"ticks\":\"\"}}],\"histogram2d\":[{\"type\":\"histogram2d\",\"colorbar\":{\"outlinewidth\":0,\"ticks\":\"\"},\"colorscale\":[[0.0,\"#0d0887\"],[0.1111111111111111,\"#46039f\"],[0.2222222222222222,\"#7201a8\"],[0.3333333333333333,\"#9c179e\"],[0.4444444444444444,\"#bd3786\"],[0.5555555555555556,\"#d8576b\"],[0.6666666666666666,\"#ed7953\"],[0.7777777777777778,\"#fb9f3a\"],[0.8888888888888888,\"#fdca26\"],[1.0,\"#f0f921\"]]}],\"heatmap\":[{\"type\":\"heatmap\",\"colorbar\":{\"outlinewidth\":0,\"ticks\":\"\"},\"colorscale\":[[0.0,\"#0d0887\"],[0.1111111111111111,\"#46039f\"],[0.2222222222222222,\"#7201a8\"],[0.3333333333333333,\"#9c179e\"],[0.4444444444444444,\"#bd3786\"],[0.5555555555555556,\"#d8576b\"],[0.6666666666666666,\"#ed7953\"],[0.7777777777777778,\"#fb9f3a\"],[0.8888888888888888,\"#fdca26\"],[1.0,\"#f0f921\"]]}],\"heatmapgl\":[{\"type\":\"heatmapgl\",\"colorbar\":{\"outlinewidth\":0,\"ticks\":\"\"},\"colorscale\":[[0.0,\"#0d0887\"],[0.1111111111111111,\"#46039f\"],[0.2222222222222222,\"#7201a8\"],[0.3333333333333333,\"#9c179e\"],[0.4444444444444444,\"#bd3786\"],[0.5555555555555556,\"#d8576b\"],[0.6666666666666666,\"#ed7953\"],[0.7777777777777778,\"#fb9f3a\"],[0.8888888888888888,\"#fdca26\"],[1.0,\"#f0f921\"]]}],\"contourcarpet\":[{\"type\":\"contourcarpet\",\"colorbar\":{\"outlinewidth\":0,\"ticks\":\"\"}}],\"contour\":[{\"type\":\"contour\",\"colorbar\":{\"outlinewidth\":0,\"ticks\":\"\"},\"colorscale\":[[0.0,\"#0d0887\"],[0.1111111111111111,\"#46039f\"],[0.2222222222222222,\"#7201a8\"],[0.3333333333333333,\"#9c179e\"],[0.4444444444444444,\"#bd3786\"],[0.5555555555555556,\"#d8576b\"],[0.6666666666666666,\"#ed7953\"],[0.7777777777777778,\"#fb9f3a\"],[0.8888888888888888,\"#fdca26\"],[1.0,\"#f0f921\"]]}],\"surface\":[{\"type\":\"surface\",\"colorbar\":{\"outlinewidth\":0,\"ticks\":\"\"},\"colorscale\":[[0.0,\"#0d0887\"],[0.1111111111111111,\"#46039f\"],[0.2222222222222222,\"#7201a8\"],[0.3333333333333333,\"#9c179e\"],[0.4444444444444444,\"#bd3786\"],[0.5555555555555556,\"#d8576b\"],[0.6666666666666666,\"#ed7953\"],[0.7777777777777778,\"#fb9f3a\"],[0.8888888888888888,\"#fdca26\"],[1.0,\"#f0f921\"]]}],\"mesh3d\":[{\"type\":\"mesh3d\",\"colorbar\":{\"outlinewidth\":0,\"ticks\":\"\"}}],\"scatter\":[{\"fillpattern\":{\"fillmode\":\"overlay\",\"size\":10,\"solidity\":0.2},\"type\":\"scatter\"}],\"parcoords\":[{\"type\":\"parcoords\",\"line\":{\"colorbar\":{\"outlinewidth\":0,\"ticks\":\"\"}}}],\"scatterpolargl\":[{\"type\":\"scatterpolargl\",\"marker\":{\"colorbar\":{\"outlinewidth\":0,\"ticks\":\"\"}}}],\"bar\":[{\"error_x\":{\"color\":\"#2a3f5f\"},\"error_y\":{\"color\":\"#2a3f5f\"},\"marker\":{\"line\":{\"color\":\"#E5ECF6\",\"width\":0.5},\"pattern\":{\"fillmode\":\"overlay\",\"size\":10,\"solidity\":0.2}},\"type\":\"bar\"}],\"scattergeo\":[{\"type\":\"scattergeo\",\"marker\":{\"colorbar\":{\"outlinewidth\":0,\"ticks\":\"\"}}}],\"scatterpolar\":[{\"type\":\"scatterpolar\",\"marker\":{\"colorbar\":{\"outlinewidth\":0,\"ticks\":\"\"}}}],\"histogram\":[{\"marker\":{\"pattern\":{\"fillmode\":\"overlay\",\"size\":10,\"solidity\":0.2}},\"type\":\"histogram\"}],\"scattergl\":[{\"type\":\"scattergl\",\"marker\":{\"colorbar\":{\"outlinewidth\":0,\"ticks\":\"\"}}}],\"scatter3d\":[{\"type\":\"scatter3d\",\"line\":{\"colorbar\":{\"outlinewidth\":0,\"ticks\":\"\"}},\"marker\":{\"colorbar\":{\"outlinewidth\":0,\"ticks\":\"\"}}}],\"scattermapbox\":[{\"type\":\"scattermapbox\",\"marker\":{\"colorbar\":{\"outlinewidth\":0,\"ticks\":\"\"}}}],\"scatterternary\":[{\"type\":\"scatterternary\",\"marker\":{\"colorbar\":{\"outlinewidth\":0,\"ticks\":\"\"}}}],\"scattercarpet\":[{\"type\":\"scattercarpet\",\"marker\":{\"colorbar\":{\"outlinewidth\":0,\"ticks\":\"\"}}}],\"carpet\":[{\"aaxis\":{\"endlinecolor\":\"#2a3f5f\",\"gridcolor\":\"white\",\"linecolor\":\"white\",\"minorgridcolor\":\"white\",\"startlinecolor\":\"#2a3f5f\"},\"baxis\":{\"endlinecolor\":\"#2a3f5f\",\"gridcolor\":\"white\",\"linecolor\":\"white\",\"minorgridcolor\":\"white\",\"startlinecolor\":\"#2a3f5f\"},\"type\":\"carpet\"}],\"table\":[{\"cells\":{\"fill\":{\"color\":\"#EBF0F8\"},\"line\":{\"color\":\"white\"}},\"header\":{\"fill\":{\"color\":\"#C8D4E3\"},\"line\":{\"color\":\"white\"}},\"type\":\"table\"}],\"barpolar\":[{\"marker\":{\"line\":{\"color\":\"#E5ECF6\",\"width\":0.5},\"pattern\":{\"fillmode\":\"overlay\",\"size\":10,\"solidity\":0.2}},\"type\":\"barpolar\"}],\"pie\":[{\"automargin\":true,\"type\":\"pie\"}]},\"layout\":{\"autotypenumbers\":\"strict\",\"colorway\":[\"#636efa\",\"#EF553B\",\"#00cc96\",\"#ab63fa\",\"#FFA15A\",\"#19d3f3\",\"#FF6692\",\"#B6E880\",\"#FF97FF\",\"#FECB52\"],\"font\":{\"color\":\"#2a3f5f\"},\"hovermode\":\"closest\",\"hoverlabel\":{\"align\":\"left\"},\"paper_bgcolor\":\"white\",\"plot_bgcolor\":\"#E5ECF6\",\"polar\":{\"bgcolor\":\"#E5ECF6\",\"angularaxis\":{\"gridcolor\":\"white\",\"linecolor\":\"white\",\"ticks\":\"\"},\"radialaxis\":{\"gridcolor\":\"white\",\"linecolor\":\"white\",\"ticks\":\"\"}},\"ternary\":{\"bgcolor\":\"#E5ECF6\",\"aaxis\":{\"gridcolor\":\"white\",\"linecolor\":\"white\",\"ticks\":\"\"},\"baxis\":{\"gridcolor\":\"white\",\"linecolor\":\"white\",\"ticks\":\"\"},\"caxis\":{\"gridcolor\":\"white\",\"linecolor\":\"white\",\"ticks\":\"\"}},\"coloraxis\":{\"colorbar\":{\"outlinewidth\":0,\"ticks\":\"\"}},\"colorscale\":{\"sequential\":[[0.0,\"#0d0887\"],[0.1111111111111111,\"#46039f\"],[0.2222222222222222,\"#7201a8\"],[0.3333333333333333,\"#9c179e\"],[0.4444444444444444,\"#bd3786\"],[0.5555555555555556,\"#d8576b\"],[0.6666666666666666,\"#ed7953\"],[0.7777777777777778,\"#fb9f3a\"],[0.8888888888888888,\"#fdca26\"],[1.0,\"#f0f921\"]],\"sequentialminus\":[[0.0,\"#0d0887\"],[0.1111111111111111,\"#46039f\"],[0.2222222222222222,\"#7201a8\"],[0.3333333333333333,\"#9c179e\"],[0.4444444444444444,\"#bd3786\"],[0.5555555555555556,\"#d8576b\"],[0.6666666666666666,\"#ed7953\"],[0.7777777777777778,\"#fb9f3a\"],[0.8888888888888888,\"#fdca26\"],[1.0,\"#f0f921\"]],\"diverging\":[[0,\"#8e0152\"],[0.1,\"#c51b7d\"],[0.2,\"#de77ae\"],[0.3,\"#f1b6da\"],[0.4,\"#fde0ef\"],[0.5,\"#f7f7f7\"],[0.6,\"#e6f5d0\"],[0.7,\"#b8e186\"],[0.8,\"#7fbc41\"],[0.9,\"#4d9221\"],[1,\"#276419\"]]},\"xaxis\":{\"gridcolor\":\"white\",\"linecolor\":\"white\",\"ticks\":\"\",\"title\":{\"standoff\":15},\"zerolinecolor\":\"white\",\"automargin\":true,\"zerolinewidth\":2},\"yaxis\":{\"gridcolor\":\"white\",\"linecolor\":\"white\",\"ticks\":\"\",\"title\":{\"standoff\":15},\"zerolinecolor\":\"white\",\"automargin\":true,\"zerolinewidth\":2},\"scene\":{\"xaxis\":{\"backgroundcolor\":\"#E5ECF6\",\"gridcolor\":\"white\",\"linecolor\":\"white\",\"showbackground\":true,\"ticks\":\"\",\"zerolinecolor\":\"white\",\"gridwidth\":2},\"yaxis\":{\"backgroundcolor\":\"#E5ECF6\",\"gridcolor\":\"white\",\"linecolor\":\"white\",\"showbackground\":true,\"ticks\":\"\",\"zerolinecolor\":\"white\",\"gridwidth\":2},\"zaxis\":{\"backgroundcolor\":\"#E5ECF6\",\"gridcolor\":\"white\",\"linecolor\":\"white\",\"showbackground\":true,\"ticks\":\"\",\"zerolinecolor\":\"white\",\"gridwidth\":2}},\"shapedefaults\":{\"line\":{\"color\":\"#2a3f5f\"}},\"annotationdefaults\":{\"arrowcolor\":\"#2a3f5f\",\"arrowhead\":0,\"arrowwidth\":1},\"geo\":{\"bgcolor\":\"white\",\"landcolor\":\"#E5ECF6\",\"subunitcolor\":\"white\",\"showland\":true,\"showlakes\":true,\"lakecolor\":\"white\"},\"title\":{\"x\":0.05},\"mapbox\":{\"style\":\"light\"}}},\"xaxis\":{\"anchor\":\"y\",\"domain\":[0.0,0.31999999999999995],\"title\":{\"text\":\"year\"}},\"yaxis\":{\"anchor\":\"x\",\"domain\":[0.0,0.1975],\"title\":{\"text\":\"passengers\"}},\"xaxis2\":{\"anchor\":\"y2\",\"domain\":[0.33999999999999997,0.6599999999999999],\"matches\":\"x\",\"title\":{\"text\":\"year\"}},\"yaxis2\":{\"anchor\":\"x2\",\"domain\":[0.0,0.1975],\"matches\":\"y\",\"showticklabels\":false},\"xaxis3\":{\"anchor\":\"y3\",\"domain\":[0.6799999999999999,0.9999999999999999],\"matches\":\"x\",\"title\":{\"text\":\"year\"}},\"yaxis3\":{\"anchor\":\"x3\",\"domain\":[0.0,0.1975],\"matches\":\"y\",\"showticklabels\":false},\"xaxis4\":{\"anchor\":\"y4\",\"domain\":[0.0,0.31999999999999995],\"matches\":\"x\",\"showticklabels\":false},\"yaxis4\":{\"anchor\":\"x4\",\"domain\":[0.2675,0.465],\"matches\":\"y\",\"title\":{\"text\":\"passengers\"}},\"xaxis5\":{\"anchor\":\"y5\",\"domain\":[0.33999999999999997,0.6599999999999999],\"matches\":\"x\",\"showticklabels\":false},\"yaxis5\":{\"anchor\":\"x5\",\"domain\":[0.2675,0.465],\"matches\":\"y\",\"showticklabels\":false},\"xaxis6\":{\"anchor\":\"y6\",\"domain\":[0.6799999999999999,0.9999999999999999],\"matches\":\"x\",\"showticklabels\":false},\"yaxis6\":{\"anchor\":\"x6\",\"domain\":[0.2675,0.465],\"matches\":\"y\",\"showticklabels\":false},\"xaxis7\":{\"anchor\":\"y7\",\"domain\":[0.0,0.31999999999999995],\"matches\":\"x\",\"showticklabels\":false},\"yaxis7\":{\"anchor\":\"x7\",\"domain\":[0.535,0.7325],\"matches\":\"y\",\"title\":{\"text\":\"passengers\"}},\"xaxis8\":{\"anchor\":\"y8\",\"domain\":[0.33999999999999997,0.6599999999999999],\"matches\":\"x\",\"showticklabels\":false},\"yaxis8\":{\"anchor\":\"x8\",\"domain\":[0.535,0.7325],\"matches\":\"y\",\"showticklabels\":false},\"xaxis9\":{\"anchor\":\"y9\",\"domain\":[0.6799999999999999,0.9999999999999999],\"matches\":\"x\",\"showticklabels\":false},\"yaxis9\":{\"anchor\":\"x9\",\"domain\":[0.535,0.7325],\"matches\":\"y\",\"showticklabels\":false},\"xaxis10\":{\"anchor\":\"y10\",\"domain\":[0.0,0.31999999999999995],\"matches\":\"x\",\"showticklabels\":false},\"yaxis10\":{\"anchor\":\"x10\",\"domain\":[0.8025,1.0],\"matches\":\"y\",\"title\":{\"text\":\"passengers\"}},\"xaxis11\":{\"anchor\":\"y11\",\"domain\":[0.33999999999999997,0.6599999999999999],\"matches\":\"x\",\"showticklabels\":false},\"yaxis11\":{\"anchor\":\"x11\",\"domain\":[0.8025,1.0],\"matches\":\"y\",\"showticklabels\":false},\"xaxis12\":{\"anchor\":\"y12\",\"domain\":[0.6799999999999999,0.9999999999999999],\"matches\":\"x\",\"showticklabels\":false},\"yaxis12\":{\"anchor\":\"x12\",\"domain\":[0.8025,1.0],\"matches\":\"y\",\"showticklabels\":false},\"annotations\":[{\"font\":{},\"showarrow\":false,\"text\":\"month=Oct\",\"x\":0.15999999999999998,\"xanchor\":\"center\",\"xref\":\"paper\",\"y\":0.1975,\"yanchor\":\"bottom\",\"yref\":\"paper\"},{\"font\":{},\"showarrow\":false,\"text\":\"month=Nov\",\"x\":0.49999999999999994,\"xanchor\":\"center\",\"xref\":\"paper\",\"y\":0.1975,\"yanchor\":\"bottom\",\"yref\":\"paper\"},{\"font\":{},\"showarrow\":false,\"text\":\"month=Dec\",\"x\":0.8399999999999999,\"xanchor\":\"center\",\"xref\":\"paper\",\"y\":0.1975,\"yanchor\":\"bottom\",\"yref\":\"paper\"},{\"font\":{},\"showarrow\":false,\"text\":\"month=Jul\",\"x\":0.15999999999999998,\"xanchor\":\"center\",\"xref\":\"paper\",\"y\":0.465,\"yanchor\":\"bottom\",\"yref\":\"paper\"},{\"font\":{},\"showarrow\":false,\"text\":\"month=Aug\",\"x\":0.49999999999999994,\"xanchor\":\"center\",\"xref\":\"paper\",\"y\":0.465,\"yanchor\":\"bottom\",\"yref\":\"paper\"},{\"font\":{},\"showarrow\":false,\"text\":\"month=Sep\",\"x\":0.8399999999999999,\"xanchor\":\"center\",\"xref\":\"paper\",\"y\":0.465,\"yanchor\":\"bottom\",\"yref\":\"paper\"},{\"font\":{},\"showarrow\":false,\"text\":\"month=Apr\",\"x\":0.15999999999999998,\"xanchor\":\"center\",\"xref\":\"paper\",\"y\":0.7325,\"yanchor\":\"bottom\",\"yref\":\"paper\"},{\"font\":{},\"showarrow\":false,\"text\":\"month=May\",\"x\":0.49999999999999994,\"xanchor\":\"center\",\"xref\":\"paper\",\"y\":0.7325,\"yanchor\":\"bottom\",\"yref\":\"paper\"},{\"font\":{},\"showarrow\":false,\"text\":\"month=Jun\",\"x\":0.8399999999999999,\"xanchor\":\"center\",\"xref\":\"paper\",\"y\":0.7325,\"yanchor\":\"bottom\",\"yref\":\"paper\"},{\"font\":{},\"showarrow\":false,\"text\":\"month=Jan\",\"x\":0.15999999999999998,\"xanchor\":\"center\",\"xref\":\"paper\",\"y\":1.0,\"yanchor\":\"bottom\",\"yref\":\"paper\"},{\"font\":{},\"showarrow\":false,\"text\":\"month=Feb\",\"x\":0.49999999999999994,\"xanchor\":\"center\",\"xref\":\"paper\",\"y\":1.0,\"yanchor\":\"bottom\",\"yref\":\"paper\"},{\"font\":{},\"showarrow\":false,\"text\":\"month=Mar\",\"x\":0.8399999999999999,\"xanchor\":\"center\",\"xref\":\"paper\",\"y\":1.0,\"yanchor\":\"bottom\",\"yref\":\"paper\"}],\"legend\":{\"title\":{\"text\":\"month\"},\"tracegroupgap\":0},\"margin\":{\"t\":60}},                        {\"responsive\": true}                    ).then(function(){\n",
       "                            \n",
       "var gd = document.getElementById('d6d470f1-d9ba-460c-a703-8b9a9698dd90');\n",
       "var x = new MutationObserver(function (mutations, observer) {{\n",
       "        var display = window.getComputedStyle(gd).display;\n",
       "        if (!display || display === 'none') {{\n",
       "            console.log([gd, 'removed!']);\n",
       "            Plotly.purge(gd);\n",
       "            observer.disconnect();\n",
       "        }}\n",
       "}});\n",
       "\n",
       "// Listen for the removal of the full notebook cells\n",
       "var notebookContainer = gd.closest('#notebook-container');\n",
       "if (notebookContainer) {{\n",
       "    x.observe(notebookContainer, {childList: true});\n",
       "}}\n",
       "\n",
       "// Listen for the clearing of the current output cell\n",
       "var outputEl = gd.closest('.output');\n",
       "if (outputEl) {{\n",
       "    x.observe(outputEl, {childList: true});\n",
       "}}\n",
       "\n",
       "                        })                };                });            </script>        </div>"
      ]
     },
     "metadata": {},
     "output_type": "display_data"
    }
   ],
   "source": [
    "px.scatter(data_frame=flights, x='year', y='passengers', color='month', trendline='ols', facet_col='month', facet_col_wrap=3)"
   ]
  },
  {
   "cell_type": "markdown",
   "metadata": {},
   "source": [
    "The ```iris``` dataset was used as an example of distribution data:"
   ]
  },
  {
   "cell_type": "code",
   "execution_count": 24,
   "metadata": {},
   "outputs": [],
   "source": [
    "iris = sns.load_dataset('iris')"
   ]
  },
  {
   "cell_type": "markdown",
   "metadata": {},
   "source": [
    "```sns.distributions``` had the ```Axes``` level ```sns.histplot```, ```sns.rugplot```, ```sns.kdeplot```, ```sns.ecdfplot``` and ```Figure``` level ```sns.displot```.\n",
    "\n",
    "The histogram plot is very similar but uses the parameter ```nbins``` opposed to ```bins```:\n",
    "\n",
    "```python\n",
    "sns.histplot(data=iris, x='petal_length', hue='species', bins=100)\n",
    "```\n",
    "\n",
    "```python\n",
    "px.histogram(data_frame=iris, x='petal_length', color='species', nbins=100)\n",
    "```\n",
    "\n",
    "In ```sns```, the rug plot and kde plot were separate plots: \n",
    "\n",
    "```python\n",
    "sns.rugplot(data=iris, x='petal_length', hue='species')\n",
    "```\n",
    "\n",
    "```python\n",
    "sns.kdeplot(data=iris, x='petal_length', hue='species')\n",
    "```\n",
    "\n",
    "In ```plotly``` these are not separate plot options but a rug plot can be displayed as a marginal using the parameter ```marginal```: \n",
    "\n",
    "```python\n",
    "px.histogram(data_frame=iris, x='petal_length', color='species', nbins=100, marginal='rug')\n",
    "```\n",
    "\n",
    "```python\n",
    "px.histogram(data_frame=iris, x='petal_length', color='species', nbins=100, marginal='kde')\n",
    "```"
   ]
  },
  {
   "cell_type": "code",
   "execution_count": null,
   "metadata": {},
   "outputs": [],
   "source": [
    "px.histogram(data_frame=iris, x='petal_length', color='species', nbins=100, marginal='rug')"
   ]
  },
  {
   "cell_type": "markdown",
   "metadata": {},
   "source": [
    "The empirical density cumulative functions are similar:\n",
    "\n",
    "```python\n",
    "sns.ecdfplot(data=iris, x='petal_length', hue='species')\n",
    "```\n",
    "\n",
    "```python\n",
    "px.ecdf(data_frame=iris, x='petal_length', color='species')\n",
    "```"
   ]
  },
  {
   "cell_type": "code",
   "execution_count": null,
   "metadata": {},
   "outputs": [],
   "source": [
    "px.ecdf(data_frame=iris, x='petal_length', color='species')"
   ]
  },
  {
   "cell_type": "markdown",
   "metadata": {},
   "source": [
    "In ```sns``` the histogram plot was typically expanded to 2 dimensions:\n",
    "\n",
    "```python\n",
    "sns.histplot(data=iris, x='petal_length', y='sepal_width', hue='species', bins=50)\n",
    "```\n",
    "\n",
    "However in ```px``` a scatter plot is typically used:\n",
    "\n",
    "```python\n",
    "px.scatter(data_frame=iris, x='petal_length', y='sepal_width', color='species')\n",
    "```"
   ]
  },
  {
   "cell_type": "code",
   "execution_count": null,
   "metadata": {},
   "outputs": [],
   "source": [
    "px.scatter(data_frame=iris, x='petal_length', y='sepal_width', color='species')"
   ]
  },
  {
   "cell_type": "markdown",
   "metadata": {},
   "source": [
    "In ```sns``` the kde plot was typically expanded to 2 dimensions:\n",
    "\n",
    "```python\n",
    "sns.kdeplot(data=iris, x='petal_length', y='petal_width', hue='species');\n",
    "```\n",
    "\n",
    "However in ```px``` a density contour plot is typically used:\n",
    "\n",
    "```python\n",
    "px.density_contour(data_frame=iris, x='petal_length', y='petal_width', color='species')\n",
    "```\n",
    "\n",
    "When only 1 plot is enabled, a marginal view can be displayed for each axis:\n",
    "\n",
    "```python\n",
    "px.density_contour(data_frame=iris, x='petal_length', y='petal_width', color='species', marginal_x='rug', marginal_y='rug')\n",
    "```"
   ]
  },
  {
   "cell_type": "code",
   "execution_count": null,
   "metadata": {},
   "outputs": [],
   "source": [
    "px.density_contour(data_frame=iris, x='petal_length', y='petal_width', color='species', marginal_x='rug', marginal_y='rug')"
   ]
  },
  {
   "cell_type": "markdown",
   "metadata": {},
   "source": [
    "```marginal_y``` is not available and is ignored if a ```facet_col``` has been enabled. Likewise ```marginal_x``` is not available and is ignored if a ```facet_row``` has been enabled. The ```penguins``` dataset can be used to reproduce more complicated plots using the ```facet_col``` and ```facet_row```:"
   ]
  },
  {
   "cell_type": "code",
   "execution_count": null,
   "metadata": {},
   "outputs": [],
   "source": [
    "penguins = sns.load_dataset('penguins')\n",
    "penguins.dropna(inplace=True)"
   ]
  },
  {
   "cell_type": "code",
   "execution_count": null,
   "metadata": {},
   "outputs": [],
   "source": [
    "px.density_contour(data_frame=penguins, x='bill_length_mm', y='bill_depth_mm', color='species', facet_col='sex')"
   ]
  },
  {
   "cell_type": "code",
   "execution_count": null,
   "metadata": {},
   "outputs": [],
   "source": [
    "px.density_contour(data_frame=penguins, x='bill_length_mm', y='bill_depth_mm', color='species', facet_col='island', facet_row='sex')"
   ]
  },
  {
   "cell_type": "markdown",
   "metadata": {},
   "source": [
    "The ```exercise``` dataset is an example categorical dataset:"
   ]
  },
  {
   "cell_type": "code",
   "execution_count": null,
   "metadata": {},
   "outputs": [],
   "source": [
    "exercise = sns.load_dataset('exercise')\n",
    "del exercise['Unnamed: 0']"
   ]
  },
  {
   "cell_type": "markdown",
   "metadata": {},
   "source": [
    "In ```sns.categorical``` there was a ```sns.stripplot```, ```sns.swarmplot```, ```sns.boxplot```, ```sns.violinplot```, ```sns.barplot``` and ```sns.countplot``` which were ```Axes``` level and ```sns.catplot``` which was on the ```Figure``` level. \n",
    "\n",
    "The syntax is similar for ```sns``` and ```px``` for strip plots:\n",
    "\n",
    "```python\n",
    "sns.stripplot(data=exercise, x='pulse', y='kind', hue='diet')\n",
    "```\n",
    "\n",
    "```python\n",
    "px.strip(data_frame=exercise, x='pulse', y='kind', color='diet')\n",
    "```\n",
    "\n",
    "For box plots:\n",
    "\n",
    "```python\n",
    "sns.boxplot(data=exercise, x='pulse', y='kind', hue='diet')\n",
    "```\n",
    "\n",
    "```python\n",
    "px.box(data_frame=exercise, x='pulse', y='kind', color='diet')\n",
    "```\n",
    "\n",
    "For violin plots:\n",
    "\n",
    "```python\n",
    "sns.violinplot(data=exercise, x='pulse', y='kind', hue='diet')\n",
    "```\n",
    "\n",
    "```python\n",
    "px.violin(data_frame=exercise, x='pulse', y='kind', color='diet')\n",
    "```\n",
    "\n",
    "For bar plots:\n",
    "\n",
    "```python\n",
    "sns.barplot(data=exercise, x='pulse', y='kind', hue='diet')\n",
    "```\n",
    "\n",
    "```python\n",
    "px.bar(data_frame=exercise, x='pulse', y='kind', color='diet', barmode='group')\n",
    "```"
   ]
  },
  {
   "cell_type": "code",
   "execution_count": null,
   "metadata": {},
   "outputs": [],
   "source": [
    "px.strip(data_frame=exercise, x='pulse', y='kind', color='diet')"
   ]
  },
  {
   "cell_type": "code",
   "execution_count": null,
   "metadata": {},
   "outputs": [],
   "source": [
    "px.box(data_frame=exercise, x='pulse', y='kind', color='diet')"
   ]
  },
  {
   "cell_type": "code",
   "execution_count": null,
   "metadata": {},
   "outputs": [],
   "source": [
    "px.violin(data_frame=exercise, x='pulse', y='kind', color='diet')"
   ]
  },
  {
   "cell_type": "code",
   "execution_count": null,
   "metadata": {},
   "outputs": [],
   "source": [
    "px.bar(data_frame=exercise, x='pulse', y='kind', color='diet', barmode='group')"
   ]
  },
  {
   "cell_type": "markdown",
   "metadata": {},
   "source": [
    "If only the ```flights``` in the month of April are examined:"
   ]
  },
  {
   "cell_type": "code",
   "execution_count": null,
   "metadata": {},
   "outputs": [],
   "source": [
    "april_flights = flights[flights['month'] == 'Apr']"
   ]
  },
  {
   "cell_type": "markdown",
   "metadata": {},
   "source": [
    "These can be used to create a simple plot using ```go```."
   ]
  },
  {
   "cell_type": "markdown",
   "metadata": {},
   "source": [
    "When ```plt``` is used with OOP syntax. Typically the ```plt.subplots``` is used to create a Figure and an Axes:\n",
    "\n",
    "```python\n",
    "fig, ax = plt.subplots()\n",
    "```\n",
    "\n",
    "A plot is created using an Axes method and supplied with data:\n",
    "\n",
    "```python\n",
    "ax.scatter(x=april_flights['year'], y=april_flights['passengers'], \n",
    "           s=50, marker='*', facecolor='royalblue', edgecolor='tomato', linewidths=0.5)\n",
    "```\n",
    "\n",
    "And a number of Axes methods are used to configure the Axes layout:\n",
    "\n",
    "```python\n",
    "ax.set_xlabel('year')\n",
    "ax.set_ylabel('passengers')\n",
    "ax.set_title('flights')\n",
    "```\n",
    "\n",
    "To show the plot, the plot backend is selected, normally using the ipython magic and for some backends an additional instruction to display the figure is necessary. For example, the inline backend which displays the plot using a static image in the cell output:\n",
    "\n",
    "```python\n",
    "%matplotlib inline\n",
    "fig.show()\n",
    "plt.show()\n",
    "```\n",
    "\n",
    "Or the qt5 backend which displays the plot in its own window:\n",
    "\n",
    "```python\n",
    "%matplotlib qt5\n",
    "fig.show()\n",
    "plt.show()\n",
    "```\n",
    "\n",
    "In ```go``` a slightly different approach is used, a ```go.Figure``` instance is created which has a ```data``` parameter and a ```layout``` parameter:\n",
    "\n",
    "```python\n",
    "fig = go.Figure(data=data, layout=layout)\n",
    "```\n",
    "\n",
    "The ```data``` parameter is a list of all the data traces to be added to the ```go.Figure``` instance:\n",
    "\n",
    "```python\n",
    "data = [trace0, trace1, trace2]\n",
    "```\n",
    "\n",
    "A data trace has the form:\n",
    "\n",
    "```python\n",
    "trace0 = go.Scatter(x=april_flights['year'], y=april_flights['passengers'], mode='markers',\n",
    "                    marker=marker_props)\n",
    "```\n",
    "\n",
    "```marker_props``` is a ```dict``` where the key is the name of a setting and the value is the supplied setting. When it is appropriate to further group settings a nested ```dict``` is used. Both plotting libraries recognise ```str``` instances corresponding to the names of English colors using CSS4 colors as well as the hexadecimal form ```'#rrggbb'```:\n",
    "\n",
    "```python\n",
    "marker_props = {'size': 12, \n",
    "                'color': 'royalblue', \n",
    "                'symbol':'pentagon',\n",
    "                'line': {'width': 2, 'color': 'tomato'}}\n",
    "```\n",
    "\n",
    "The ```go``` documentation does not usually use the above form of a Python ```dict``` and commonly instantiates the ```dict``` class explicitly:\n",
    "\n",
    "```python\n",
    "marker_props = dict(size=12,\n",
    "                    color='royalblue', \n",
    "                    symbol='pentagon',\n",
    "                    line={'width': 2, 'color': 'tomato'})\n",
    "```\n",
    "\n",
    "The nested ```dict``` instance can also be instantiated explicitly:\n",
    "\n",
    "```python\n",
    "marker_props = dict(size=12,\n",
    "                    color='royalblue', \n",
    "                    symbol='pentagon',\n",
    "                    line=dict(width=2, color='tomato'))\n",
    "```\n",
    "\n",
    "Therefore the trace often looks like the following:\n",
    "\n",
    "```python\n",
    "trace0 = go.Scatter(x=april_flights['year'], y=april_flights['passengers'], mode='markers',\n",
    "                    marker=dict(size=12,\n",
    "                           color='royalblue', \n",
    "                           symbol='pentagon',\n",
    "                           line=dict(width=2, color='tomato')))\n",
    "```\n",
    "\n",
    "Notice in the above that indentation is important for code readability. The layout contains, the ```title```, ```xaxis``` and ```yaxis```. Notice that ```xaxis``` and ```yaxis``` are ```dict``` instances, each with their own key ```title```:\n",
    "\n",
    "```python\n",
    "layout = go.Layout(title='flights', \n",
    "                   xaxis=dict(title='year'), \n",
    "                   yaxis=dict(title='passenger'), \n",
    "                   hovermode='closest')\n",
    "```\n",
    "\n",
    "The figure can be shown using its default renderer using the ```go.Figure``` method ```show```:\n",
    "\n",
    "```python\n",
    "fig.show()\n",
    "```\n",
    "\n",
    "Alternatively an instruction to display the figure is given using the interactive plot command or plot command. The interactive plot command will display the plot in the IPython code cell output and the plot command will save the plot as a html file which will open in a separate browser window:\n",
    "\n",
    "```python\n",
    "fig.show()\n",
    "pyo.iplot(fig)\n",
    "pyo.plot(fig, filename='april_flights.html')\n",
    "```\n",
    "\n",
    "Bringing this together the work flow is more typical of the form:\n",
    "\n",
    "```python\n",
    "trace0 = go.Scatter(x=april_flights['year'], y=april_flights['passengers'], mode='markers',\n",
    "                    marker=dict(size=12,\n",
    "                           color='royalblue', \n",
    "                           symbol='pentagon',\n",
    "                           line=dict(width=2, color='tomato')))\n",
    "\n",
    "layout = go.Layout(title='flights', \n",
    "                   xaxis=dict(title='year'), \n",
    "                   yaxis=dict(title='passenger'), \n",
    "                   hovermode='closest')\n",
    "\n",
    "data = [trace0,]\n",
    "\n",
    "fig = go.Figure(data=data, layout=layout)\n",
    "\n",
    "fig.show()\n",
    "```"
   ]
  },
  {
   "cell_type": "code",
   "execution_count": null,
   "metadata": {},
   "outputs": [],
   "source": [
    "fig, ax = plt.subplots()\n",
    "ax.scatter(x=april_flights['year'], y=april_flights['passengers'], \n",
    "           s=50, marker='*', facecolor='royalblue', edgecolor='tomato', linewidths=0.5)\n",
    "ax.set_xlabel('year')\n",
    "ax.set_ylabel('passengers')\n",
    "ax.set_title('flights')"
   ]
  },
  {
   "cell_type": "code",
   "execution_count": null,
   "metadata": {},
   "outputs": [],
   "source": [
    "trace0 = go.Scatter(x=april_flights['year'], y=april_flights['passengers'], mode='markers',\n",
    "                    marker=dict(size=12,\n",
    "                           color='royalblue', \n",
    "                           symbol='pentagon',\n",
    "                           line=dict(width=2, color='tomato')))\n",
    "\n",
    "layout = go.Layout(title='flights', \n",
    "                   xaxis=dict(title='year'), \n",
    "                   yaxis=dict(title='passenger'), \n",
    "                   hovermode='closest')\n",
    "\n",
    "data = [trace0,]\n",
    "\n",
    "fig = go.Figure(data=data, layout=layout)\n",
    "fig.show()"
   ]
  },
  {
   "cell_type": "markdown",
   "metadata": {},
   "source": [
    "This figure can also be saved as a html file and opened in a new browser window:"
   ]
  },
  {
   "cell_type": "code",
   "execution_count": null,
   "metadata": {},
   "outputs": [],
   "source": [
    "pyo.plot(fig, filename='flights.html')"
   ]
  },
  {
   "cell_type": "markdown",
   "metadata": {},
   "source": [
    "The four stages above used to create the ```go.Figure``` instance are often combined:\n",
    "\n",
    "```python\n",
    "fig = go.Figure(data=[go.Scatter(x=april_flights['year'], y=april_flights['passengers'], mode='markers',\n",
    "                      marker=dict(size=12,\n",
    "                                  color='royalblue', \n",
    "                                  symbol='pentagon',\n",
    "                                  line=dict(width=2, color='tomato')))],\n",
    "                      layout=go.Layout(title='flights', \n",
    "                             xaxis=dict(title='year'), \n",
    "                             yaxis=dict(title='passenger'), \n",
    "                             hovermode='closest'))\n",
    "\n",
    "fig.show()\n",
    "```\n",
    "\n",
    "Notice that indentation is important for code readability and care needs to be taken to match each ```()``` and ```[]```."
   ]
  },
  {
   "cell_type": "code",
   "execution_count": null,
   "metadata": {},
   "outputs": [],
   "source": [
    "fig = go.Figure(data=[go.Scatter(x=april_flights['year'], y=april_flights['passengers'], mode='markers',\n",
    "                      marker=dict(size=12,\n",
    "                                  color='royalblue', \n",
    "                                  symbol='pentagon',\n",
    "                                  line=dict(width=2, color='tomato')))],\n",
    "                      layout=go.Layout(title='flights', \n",
    "                             xaxis=dict(title='year'), \n",
    "                             yaxis=dict(title='passenger'), \n",
    "                             hovermode='closest'))\n",
    "\n",
    "pyo.iplot(fig)"
   ]
  },
  {
   "cell_type": "markdown",
   "metadata": {},
   "source": [
    "If the ```flights``` month dataset is examined:"
   ]
  },
  {
   "cell_type": "code",
   "execution_count": null,
   "metadata": {},
   "outputs": [],
   "source": [
    "flights['month'].cat.categories"
   ]
  },
  {
   "cell_type": "markdown",
   "metadata": {},
   "source": [
    "A ```bool``` selector for the month ```'Apr'``` can be created:"
   ]
  },
  {
   "cell_type": "code",
   "execution_count": null,
   "metadata": {},
   "outputs": [],
   "source": [
    "flights['month'] == 'Apr'"
   ]
  },
  {
   "cell_type": "markdown",
   "metadata": {},
   "source": [
    "This can be used to access a ```DataFrame```:"
   ]
  },
  {
   "cell_type": "code",
   "execution_count": null,
   "metadata": {},
   "outputs": [],
   "source": [
    "flights[flights['month'] == 'Apr']"
   ]
  },
  {
   "cell_type": "markdown",
   "metadata": {},
   "source": [
    "And so the ```'year'``` and ```'passengers'``` instances of the ```pd.Series``` can be selected using:"
   ]
  },
  {
   "cell_type": "code",
   "execution_count": null,
   "metadata": {},
   "outputs": [],
   "source": [
    "flights[flights['month'] == 'Apr']['year']"
   ]
  },
  {
   "cell_type": "code",
   "execution_count": null,
   "metadata": {},
   "outputs": [],
   "source": [
    "flights[flights['month'] == 'Apr']['passengers']"
   ]
  },
  {
   "cell_type": "code",
   "execution_count": null,
   "metadata": {},
   "outputs": [],
   "source": [
    "[flights['month'], flights['passengers']]"
   ]
  },
  {
   "cell_type": "markdown",
   "metadata": {},
   "source": [
    "The x, y data required for a trace therefore has the form:"
   ]
  },
  {
   "cell_type": "code",
   "execution_count": null,
   "metadata": {},
   "outputs": [],
   "source": [
    "go.Scatter(x=flights[flights['month'] == 'Apr']['year'], y=flights[flights['month'] == 'Apr']['passengers'], mode='markers', name='Apr')"
   ]
  },
  {
   "cell_type": "markdown",
   "metadata": {},
   "source": [
    "And ```list``` comprehension can be used to get data for all the months:"
   ]
  },
  {
   "cell_type": "code",
   "execution_count": null,
   "metadata": {},
   "outputs": [],
   "source": [
    "[go.Scatter(x=flights[flights['month'] == month]['year'], y=flights[flights['month'] == month]['passengers'], mode='markers', name=month) \n",
    " for month in flights['month'].cat.categories]"
   ]
  },
  {
   "cell_type": "markdown",
   "metadata": {},
   "source": [
    "This allows a plot to be made for traces for each month:"
   ]
  },
  {
   "cell_type": "code",
   "execution_count": null,
   "metadata": {},
   "outputs": [],
   "source": [
    "fig = go.Figure(data=[go.Scatter(x=flights[flights['month'] == month]['year'], y=flights[flights['month'] == month]['passengers'], mode='markers', name=month) \n",
    "                      for month in flights['month'].cat.categories],\n",
    "                      layout=go.Layout(title='flights', \n",
    "                             xaxis=dict(title='year'), \n",
    "                             yaxis=dict(title='passenger'), \n",
    "                             hovermode='closest'))\n",
    "\n",
    "fig.show()"
   ]
  },
  {
   "cell_type": "markdown",
   "metadata": {},
   "source": [
    "If ```pd.DataFrame``` instances are created for the month of ```'Apr'``` and ```'May'```:"
   ]
  },
  {
   "cell_type": "code",
   "execution_count": null,
   "metadata": {},
   "outputs": [],
   "source": [
    "april_flights = flights[flights['month'] == 'Apr']\n",
    "may_flights = flights[flights['month'] == 'May']"
   ]
  },
  {
   "cell_type": "markdown",
   "metadata": {},
   "source": [
    "```python\n",
    "fig = make_subplots(rows=1, cols=2)\n",
    "fig.add_trace(go.Scatter(april_flights['year'], april_flights['passengers']), row=1, col=1)\n",
    "fig.add_trace(go.Scatter(may_flights['year'], may_flights['passengers']), row=1, col=2)\n",
    "```\n",
    "\n",
    "\n"
   ]
  },
  {
   "cell_type": "markdown",
   "metadata": {},
   "source": [
    "A ```go.Figure``` with 2 subplots can be created using the ```make_subplots``` function. This function should be supplied the ```rows``` and ```cols``` as well as additional layout information and then the method ```add_trace``` can be used to add a trace to a perspective subplot by assignment of the ```row``` and ```col```: "
   ]
  },
  {
   "cell_type": "code",
   "execution_count": null,
   "metadata": {},
   "outputs": [],
   "source": [
    "type(fig)"
   ]
  },
  {
   "cell_type": "code",
   "execution_count": null,
   "metadata": {},
   "outputs": [],
   "source": [
    "fig = make_subplots(rows=1, cols=2, subplot_titles=('Apr Flights',  'May Flights'), x_title='year', y_title='passengers')\n",
    "fig.add_trace(go.Scatter(x=april_flights['year'], y=april_flights['passengers'], name='Apr'), row=1, col=1)\n",
    "fig.add_trace(go.Scatter(x=may_flights['year'], y=may_flights['passengers'], name='May'), row=1, col=2)"
   ]
  },
  {
   "cell_type": "markdown",
   "metadata": {},
   "source": [
    "The parameter ```mode``` wasn't supplied for the traces above and used its default value ```'markers+lines'```, it can be changed to ```'lines'``` or ```'markers'```."
   ]
  }
 ],
 "metadata": {
  "kernelspec": {
   "display_name": "Python 3 (ipykernel)",
   "language": "python",
   "name": "python3"
  },
  "language_info": {
   "codemirror_mode": {
    "name": "ipython",
    "version": 3
   },
   "file_extension": ".py",
   "mimetype": "text/x-python",
   "name": "python",
   "nbconvert_exporter": "python",
   "pygments_lexer": "ipython3",
   "version": "3.12.1"
  }
 },
 "nbformat": 4,
 "nbformat_minor": 4
}
