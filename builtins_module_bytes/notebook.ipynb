{
 "cells": [
  {
   "attachments": {},
   "cell_type": "markdown",
   "metadata": {},
   "source": [
    "# The bytes class"
   ]
  },
  {
   "attachments": {},
   "cell_type": "markdown",
   "metadata": {},
   "source": [
    "In the previous tutorial the string class was examined and was seen to have a Unicode character as a fundamental unit. The bytes class on the other hand use a byte as a fundamental unit. It was the foundation for text data in Python 2. \n",
    "\n",
    "Recall that a byte physically is a configuration of 8 switches in memory:"
   ]
  },
  {
   "attachments": {},
   "cell_type": "markdown",
   "metadata": {},
   "source": [
    "<img src='./images/img_001.png' alt='img_001' width='400'/>"
   ]
  },
  {
   "attachments": {},
   "cell_type": "markdown",
   "metadata": {},
   "source": [
    "## ASCII Characters"
   ]
  },
  {
   "attachments": {},
   "cell_type": "markdown",
   "metadata": {},
   "source": [
    "ASCII characters span half of the possible values in a byte:\n",
    "\n",
    "\n",
    "|byte|hex|num|command|\n",
    "|---|---|---|---|\n",
    "|00000000|00|000|null|\n",
    "|00000001|01|001|start of heading|\n",
    "|00000010|02|002|start of text|\n",
    "|00000011|03|003|end of text|\n",
    "|00000100|04|004|end of transmission|\n",
    "|00000101|05|005|enquiry|\n",
    "|00000110|06|006|acknowledge|\n",
    "|00000111|07|007|bell|\n",
    "|00001000|08|008|**backspace**|\n",
    "|00001001|09|009|**horizontal tab**|\n",
    "|00001010|0a|010|**new line**|\n",
    "|00001011|0b|011|**vertical tab**|\n",
    "|00001100|0c|012|**form feed**|\n",
    "|00001101|0d|013|**carriage return**|\n",
    "|00001110|0e|014|shift out|\n",
    "|00001111|0f|015|shift in|\n",
    "|00010000|10|016|data link escape|\n",
    "|00010001|11|017|device control 1|\n",
    "|00010010|12|018|device control 2|\n",
    "|00010011|13|019|device control 3|\n",
    "|00010100|14|020|device control 4|\n",
    "|00010101|15|021|negative acknowledge|\n",
    "|00010110|16|022|synchronous idle|\n",
    "|00010111|17|023|end of transmission block|\n",
    "|00011000|18|024|cancel|\n",
    "|00011001|19|025|end of medium|\n",
    "|00011010|1a|026|substitute|\n",
    "|00011011|1b|027|**escape**|\n",
    "|00011100|1c|028|file separator|\n",
    "|00011101|1d|029|group separator|\n",
    "|00011110|1e|030|record separator|\n",
    "|00011111|1f|031|unit seperator|\n",
    "|00100000|20|032|**space**|\n",
    "\n",
    "The remaining commands spanning up to half a byte contained the characters most commonly used in the English language.\n",
    "\n",
    "|byte|hex|num|character|\n",
    "|---|---|---|---|\n",
    "|00100001|21|033|!|\n",
    "|00100010|22|034|\"|\n",
    "|00100011|23|035|#|\n",
    "|00100100|24|036|$|\n",
    "|00100101|25|037|%|\n",
    "|00100110|26|038|&|\n",
    "|00100111|27|039|'|\n",
    "|00101000|28|040|(|\n",
    "|00101001|29|041|)|\n",
    "|00101010|2a|042|*|\n",
    "|00101011|2b|043|+|\n",
    "|00101100|2c|044|,|\n",
    "|00101101|2d|045|-|\n",
    "|00101110|2e|046|.|\n",
    "|00101111|2f|047|/|\n",
    "|00110000|30|048|0|\n",
    "|00110001|31|049|1|\n",
    "|00110010|32|050|2|\n",
    "|00110011|33|051|3|\n",
    "|00110100|34|052|4|\n",
    "|00110101|35|053|5|\n",
    "|00110110|36|054|6|\n",
    "|00110111|37|055|7|\n",
    "|00111000|38|056|8|\n",
    "|00111001|39|057|9|\n",
    "|00111010|3a|058|:|\n",
    "|00111011|3b|059|;|\n",
    "|00111100|3c|060|<|\n",
    "|00111101|3d|061|=|\n",
    "|00111110|3e|062|>|\n",
    "|00111111|3f|063|?|\n",
    "|01000000|40|064|@|\n",
    "|01000001|41|065|A|\n",
    "|01000010|42|066|B|\n",
    "|01000011|43|067|C|\n",
    "|01000100|44|068|D|\n",
    "|01000101|45|069|E|\n",
    "|01000110|46|070|F|\n",
    "|01000111|47|071|G|\n",
    "|01001000|48|072|H|\n",
    "|01001001|49|073|I|\n",
    "|01001010|4a|074|J|\n",
    "|01001011|4b|075|K|\n",
    "|01001100|4c|076|L|\n",
    "|01001101|4d|077|M|\n",
    "|01001110|4e|078|N|\n",
    "|01001111|4f|079|O|\n",
    "|01010000|50|080|P|\n",
    "|01010001|51|081|Q|\n",
    "|01010010|52|082|R|\n",
    "|01010011|53|083|S|\n",
    "|01010100|54|084|T|\n",
    "|01010101|55|085|U|\n",
    "|01010110|56|086|V|\n",
    "|01010111|57|087|W|\n",
    "|01011000|58|088|X|\n",
    "|01011001|59|089|Y|\n",
    "|01011010|5a|090|Z|\n",
    "|01011011|5b|091|[|\n",
    "|01011100|5c|092|\\|\n",
    "|01011101|5d|093|]|\n",
    "|01011110|5e|094|^|\n",
    "|01011111|5f|095|_|\n",
    "|01100000|60|096|`|\n",
    "|01100001|61|097|a|\n",
    "|01100010|62|098|b|\n",
    "|01100011|63|099|c|\n",
    "|01100100|64|100|d|\n",
    "|01100101|65|101|e|\n",
    "|01100110|66|102|f|\n",
    "|01100111|67|103|g|\n",
    "|01101000|68|104|h|\n",
    "|01101001|69|105|i|\n",
    "|01101010|6a|106|j|\n",
    "|01101011|6b|107|k|\n",
    "|01101100|6c|108|l|\n",
    "|01101101|6d|109|m|\n",
    "|01101110|6e|110|n|\n",
    "|01101111|6f|111|o|\n",
    "|01110000|70|112|p|\n",
    "|01110001|71|113|q|\n",
    "|01110010|72|114|r|\n",
    "|01110011|73|115|s|\n",
    "|01110100|74|116|t|\n",
    "|01110101|75|117|u|\n",
    "|01110110|76|118|v|\n",
    "|01110111|77|119|w|\n",
    "|01111000|78|120|x|\n",
    "|01111001|79|121|y|\n",
    "|01111010|7a|122|z|\n",
    "|01111011|7b|123|{|\n",
    "|01111100|7c|124|||\n",
    "|01111101|7d|125|}|\n",
    "|01111110|7e|126|~|\n",
    "|01111111|7f|127||\n"
   ]
  },
  {
   "attachments": {},
   "cell_type": "markdown",
   "metadata": {},
   "source": [
    "## Initialisation Signature"
   ]
  },
  {
   "attachments": {},
   "cell_type": "markdown",
   "metadata": {},
   "source": [
    "The initialisation signature can be viewed by inputting:"
   ]
  },
  {
   "cell_type": "code",
   "execution_count": null,
   "metadata": {},
   "outputs": [],
   "source": [
    "# bytes()"
   ]
  },
  {
   "attachments": {},
   "cell_type": "markdown",
   "metadata": {},
   "source": [
    "Or output to a cell using:"
   ]
  },
  {
   "cell_type": "code",
   "execution_count": null,
   "metadata": {},
   "outputs": [],
   "source": [
    "? bytes"
   ]
  },
  {
   "attachments": {},
   "cell_type": "markdown",
   "metadata": {},
   "source": [
    "The init signature shows five different ways of initialising a bytes instance:"
   ]
  },
  {
   "cell_type": "code",
   "execution_count": null,
   "metadata": {},
   "outputs": [],
   "source": [
    "# bytes(self, /, *args, **kwargs)\n",
    "# bytes(iterable_of_ints) -> bytes\n",
    "# bytes(string, encoding[, errors]) -> bytes\n",
    "# bytes(bytes_or_buffer) -> immutable copy of bytes_or_buffer\n",
    "# bytes(int) -> bytes object of size given by the parameter initialized with null bytes\n",
    "# bytes() -> empty bytes object"
   ]
  },
  {
   "attachments": {},
   "cell_type": "markdown",
   "metadata": {},
   "source": [
    "As bytes is a fundamental datatype, the first way is instantiation of a bytes class using an existing bytes class and is analogous to its counterpart in the string class."
   ]
  },
  {
   "attachments": {},
   "cell_type": "markdown",
   "metadata": {},
   "source": [
    "The second way is by using an iterable of integers such as a tuple. Each integer must a valid value for a byte. Recall that a byte has 8 switches and each switch has 2 combinations:\n",
    "\n",
    "<img src='./images/img_001.png' alt='img_001' width='400'/>"
   ]
  },
  {
   "attachments": {},
   "cell_type": "markdown",
   "metadata": {},
   "source": [
    "Therefore there are:"
   ]
  },
  {
   "cell_type": "code",
   "execution_count": null,
   "metadata": {},
   "outputs": [],
   "source": [
    "2 ** 8"
   ]
  },
  {
   "attachments": {},
   "cell_type": "markdown",
   "metadata": {},
   "source": [
    "combinations. Which have the range of 0:256 inclusive of the lower bound 0 and exclusive of the upper bound 256 as zero-order indexing is utilised."
   ]
  },
  {
   "attachments": {},
   "cell_type": "markdown",
   "metadata": {},
   "source": [
    "So for example:"
   ]
  },
  {
   "cell_type": "code",
   "execution_count": null,
   "metadata": {},
   "outputs": [],
   "source": [
    "integers = (104, 101, 108, 108, 111, 32, 119, 111, 114, 108, 100, 33)\n",
    "bytes(integers)"
   ]
  },
  {
   "attachments": {},
   "cell_type": "markdown",
   "metadata": {},
   "source": [
    "If the first number is examined recall that the decimal integer 104 in binary is:"
   ]
  },
  {
   "cell_type": "code",
   "execution_count": null,
   "metadata": {},
   "outputs": [],
   "source": [
    "'0b' + bin(104).removeprefix('0b').zfill(8)"
   ]
  },
  {
   "attachments": {},
   "cell_type": "markdown",
   "metadata": {},
   "source": [
    "And is an ASCII character:"
   ]
  },
  {
   "cell_type": "code",
   "execution_count": null,
   "metadata": {},
   "outputs": [],
   "source": [
    "chr(104)"
   ]
  },
  {
   "attachments": {},
   "cell_type": "markdown",
   "metadata": {},
   "source": [
    "And this bytes instance at the fundamental level consists of 12 bytes as shown:"
   ]
  },
  {
   "cell_type": "code",
   "execution_count": null,
   "metadata": {},
   "outputs": [],
   "source": [
    "for number in integers:\n",
    "    print(str(number).center(8), end=' ')\n",
    "\n",
    "print()\n",
    "for number in integers:\n",
    "    print(bin(number).removeprefix('0b').zfill(8), end=' ')\n",
    "\n",
    "print()\n",
    "for number in integers:\n",
    "    print(chr(number).center(8), end=' ')"
   ]
  },
  {
   "attachments": {},
   "cell_type": "markdown",
   "metadata": {},
   "source": [
    "When every byte is a printable ASCII character it will be displayed instead of the byte sequence:"
   ]
  },
  {
   "cell_type": "code",
   "execution_count": null,
   "metadata": {},
   "outputs": [],
   "source": [
    "bytes(integers)"
   ]
  },
  {
   "attachments": {},
   "cell_type": "markdown",
   "metadata": {},
   "source": [
    "When the byte sequence contains whitespace characters:"
   ]
  },
  {
   "cell_type": "code",
   "execution_count": null,
   "metadata": {},
   "outputs": [],
   "source": [
    "integers = (9, 10, 11, 12, 13)\n",
    "bytes(integers)"
   ]
  },
  {
   "attachments": {},
   "cell_type": "markdown",
   "metadata": {},
   "source": [
    "The ASCII escape characters for the tab, new line and carriage return display as \\r \\n \\r. The vertical tab and form feed instead are displayed using a hexadecimal escape character. Recall that a byte has 8 bits:\n",
    "\n",
    "<img src='./images/img_001.png' alt='img_001' width='400'/>"
   ]
  },
  {
   "attachments": {},
   "cell_type": "markdown",
   "metadata": {},
   "source": [
    "And groups of 4 bits can each be represented as a hexadecimal character. In other words the byte is split into 2 halves and each half is represented by a hexadecimal character:"
   ]
  },
  {
   "attachments": {},
   "cell_type": "markdown",
   "metadata": {},
   "source": [
    "<img src='./images/img_002.png' alt='img_002' width='400'/>"
   ]
  },
  {
   "attachments": {},
   "cell_type": "markdown",
   "metadata": {},
   "source": [
    "For example the decimal number 12 in binary and hexadecimal is:"
   ]
  },
  {
   "cell_type": "code",
   "execution_count": null,
   "metadata": {},
   "outputs": [],
   "source": [
    "bin(12)"
   ]
  },
  {
   "cell_type": "code",
   "execution_count": null,
   "metadata": {},
   "outputs": [],
   "source": [
    "hex(12)"
   ]
  },
  {
   "attachments": {},
   "cell_type": "markdown",
   "metadata": {},
   "source": [
    "Striping the prefix and zerofilling to a byte (8 bits or 2 hexadecimal characters):"
   ]
  },
  {
   "cell_type": "code",
   "execution_count": null,
   "metadata": {},
   "outputs": [],
   "source": [
    "bin(12).removeprefix('0b').zfill(8)"
   ]
  },
  {
   "cell_type": "code",
   "execution_count": null,
   "metadata": {},
   "outputs": [],
   "source": [
    "hex(12).removeprefix('0x').zfill(2)"
   ]
  },
  {
   "attachments": {},
   "cell_type": "markdown",
   "metadata": {},
   "source": [
    "And:"
   ]
  },
  {
   "cell_type": "code",
   "execution_count": null,
   "metadata": {},
   "outputs": [],
   "source": [
    "print(bin(12).removeprefix('0b').zfill(8)[:4], bin(12).removeprefix('0b').zfill(8)[4:])\n",
    "print(hex(12).removeprefix('0x').zfill(2)[:1].center(4), hex(12).removeprefix('0x').zfill(2)[1:].center(4))"
   ]
  },
  {
   "attachments": {},
   "cell_type": "markdown",
   "metadata": {},
   "source": [
    "Non-printable ASCII characters and byte values outwith the 128:256 outwith the ASCII range are also displayed using the hexadecimal escape character:"
   ]
  },
  {
   "cell_type": "code",
   "execution_count": null,
   "metadata": {},
   "outputs": [],
   "source": [
    "integers = (1, 2, 3)\n",
    "bytes(integers)"
   ]
  },
  {
   "cell_type": "code",
   "execution_count": null,
   "metadata": {},
   "outputs": [],
   "source": [
    "integers = (128, 129, 130)\n",
    "bytes(integers)"
   ]
  },
  {
   "attachments": {},
   "cell_type": "markdown",
   "metadata": {},
   "source": [
    "And for clarity:"
   ]
  },
  {
   "cell_type": "code",
   "execution_count": null,
   "metadata": {},
   "outputs": [],
   "source": [
    "integers = (104, 101, 108, 108, 111, 32, 119, 111, 114, 108, 100, 33)\n",
    "bytes(integers)\n",
    "\n",
    "for number in integers:\n",
    "    print(str(number).center(8), end=' ')\n",
    "\n",
    "print()\n",
    "for number in integers:\n",
    "    print(bin(number).removeprefix('0b').zfill(8), end=' ')\n",
    "\n",
    "print()\n",
    "for number in integers:\n",
    "    print((r'\\x' + hex(number).removeprefix('0x')).center(8), end=' ')\n",
    "\n",
    "print()\n",
    "for number in integers:\n",
    "    print(chr(number).center(8), end=' ')\n",
    "    "
   ]
  },
  {
   "attachments": {},
   "cell_type": "markdown",
   "metadata": {},
   "source": [
    "Integers that exceed 256 do not map to a byte and a ValueError will display if they are attempted to be used:"
   ]
  },
  {
   "cell_type": "code",
   "execution_count": null,
   "metadata": {},
   "outputs": [],
   "source": [
    "# bytes((256, ))"
   ]
  },
  {
   "attachments": {},
   "cell_type": "markdown",
   "metadata": {},
   "source": [
    "<span style='color:red'>ValueError</span>: bytes must be in range(0, 256)"
   ]
  },
  {
   "attachments": {},
   "cell_type": "markdown",
   "metadata": {},
   "source": [
    "A byte string can also be created using the equivalent hexadecimal escape characters notice that the encoding needs to also be specified and in this case is 'ASCII'. Encoding is essentially a translation mapping each byte to a Unicode character:"
   ]
  },
  {
   "cell_type": "code",
   "execution_count": null,
   "metadata": {},
   "outputs": [],
   "source": [
    "greeting = bytes('\\x68\\x65\\x6c\\x6c\\x6f\\x20\\x77\\x6f\\x72\\x6c\\x64\\x21', encoding='ASCII')\n",
    "greeting"
   ]
  },
  {
   "attachments": {},
   "cell_type": "markdown",
   "metadata": {},
   "source": [
    "A bytes sequence can be created by casting a Unicode string to bytes, once again the encoding is specified as 'ASCII':"
   ]
  },
  {
   "cell_type": "code",
   "execution_count": null,
   "metadata": {},
   "outputs": [],
   "source": [
    "greeting = bytes('hello world!', encoding='ASCII')\n",
    "greeting"
   ]
  },
  {
   "attachments": {},
   "cell_type": "markdown",
   "metadata": {},
   "source": [
    "When each character spans a single byte as in the case of ASCII, the encoding is assumed to be ASCII and the bytes can be instantiated using short hand notation. A prefix b is added which distinguishes it from a Unicode string:"
   ]
  },
  {
   "cell_type": "code",
   "execution_count": null,
   "metadata": {},
   "outputs": [],
   "source": [
    "b'hello world!'"
   ]
  },
  {
   "cell_type": "code",
   "execution_count": null,
   "metadata": {},
   "outputs": [],
   "source": [
    "hex(128)"
   ]
  },
  {
   "attachments": {},
   "cell_type": "markdown",
   "metadata": {},
   "source": [
    "## Encoding and Decoding"
   ]
  },
  {
   "attachments": {},
   "cell_type": "markdown",
   "metadata": {},
   "source": [
    "When a string was instantiated, an encoding translation table was selected; that is a table that maps the bytes sequence to a specific character. \n",
    "\n",
    "The most basic one is 'ASCII' where each character is encoded over 1 byte using only half of the possible values. ASCII is restricted to a small subset of English characters:"
   ]
  },
  {
   "cell_type": "code",
   "execution_count": null,
   "metadata": {},
   "outputs": [],
   "source": [
    "a_ascii = b'a'\n",
    "a_ascii"
   ]
  },
  {
   "attachments": {},
   "cell_type": "markdown",
   "metadata": {},
   "source": [
    "The current standard is the Unicode Transformation 8 'UTF-8' format which is adaptable and can use:\n",
    "* 1 byte (8 bits) for an ASCII character\n",
    "* 2 bytes (16 bits) for the more popular Unicode characters (e.g. from European alphabets and commonly used mathematical symbols)\n",
    "* 4 bytes (32 bits) for extended Unicode characters"
   ]
  },
  {
   "cell_type": "code",
   "execution_count": null,
   "metadata": {},
   "outputs": [],
   "source": [
    "a_utf8 = bytes('a', encoding='utf-8')\n",
    "a_utf8"
   ]
  },
  {
   "cell_type": "code",
   "execution_count": null,
   "metadata": {},
   "outputs": [],
   "source": [
    "alpha_utf8 = bytes('α', encoding='utf-8')\n",
    "alpha_utf8"
   ]
  },
  {
   "cell_type": "code",
   "execution_count": null,
   "metadata": {},
   "outputs": [],
   "source": [
    "um_utf8 = bytes('㎛', encoding='utf-8')\n",
    "um_utf8"
   ]
  },
  {
   "attachments": {},
   "cell_type": "markdown",
   "metadata": {},
   "source": [
    "The 'UTF-16-LE' and 'UTF-16-BE' were previous standards where each character occupies 2 bytes, notice the additional byte \\\\x00 is added at the back and front respectively. There is need to add a zero byte for each ASCII character so it spans over 2 bytes:"
   ]
  },
  {
   "cell_type": "code",
   "execution_count": null,
   "metadata": {},
   "outputs": [],
   "source": [
    "a_le = bytes('a', encoding='utf-16-le')\n",
    "a_le"
   ]
  },
  {
   "cell_type": "code",
   "execution_count": null,
   "metadata": {},
   "outputs": [],
   "source": [
    "a_be = bytes('a', encoding='utf-16-be')\n",
    "a_be"
   ]
  },
  {
   "cell_type": "code",
   "execution_count": null,
   "metadata": {},
   "outputs": [],
   "source": [
    "alpha_le = bytes('α', encoding='utf-16-le')\n",
    "alpha_le"
   ]
  },
  {
   "cell_type": "code",
   "execution_count": null,
   "metadata": {},
   "outputs": [],
   "source": [
    "alpha_be = bytes('α', encoding='utf-16-be')\n",
    "alpha_be"
   ]
  },
  {
   "attachments": {},
   "cell_type": "markdown",
   "metadata": {},
   "source": [
    "If the correct encoding scheme (translation table) is used for the character, it will be decoded correctly:"
   ]
  },
  {
   "cell_type": "code",
   "execution_count": null,
   "metadata": {},
   "outputs": [],
   "source": [
    "a_utf8.decode(encoding='utf-8')"
   ]
  },
  {
   "cell_type": "code",
   "execution_count": null,
   "metadata": {},
   "outputs": [],
   "source": [
    "a_le.decode(encoding='utf-16-le')"
   ]
  },
  {
   "attachments": {},
   "cell_type": "markdown",
   "metadata": {},
   "source": [
    "If the wrong one is selected it can result in a UnicodeDecodeError:"
   ]
  },
  {
   "cell_type": "code",
   "execution_count": null,
   "metadata": {},
   "outputs": [],
   "source": [
    "# a8.decode(encoding='utf-16-be')"
   ]
  },
  {
   "attachments": {},
   "cell_type": "markdown",
   "metadata": {},
   "source": [
    "<span style='color:red'>UnicodeDecodeError</span>: 'utf-16-be' codec can't decode byte 0x61 in position 0: truncated data"
   ]
  },
  {
   "attachments": {},
   "cell_type": "markdown",
   "metadata": {},
   "source": [
    "However it can also result in additional characters or completely different character replacement:"
   ]
  },
  {
   "cell_type": "code",
   "execution_count": null,
   "metadata": {},
   "outputs": [],
   "source": [
    "a_le.decode(encoding='utf-8')"
   ]
  },
  {
   "cell_type": "code",
   "execution_count": null,
   "metadata": {},
   "outputs": [],
   "source": [
    "alpha_le.decode(encoding='utf-16-be')"
   ]
  },
  {
   "attachments": {},
   "cell_type": "markdown",
   "metadata": {},
   "source": [
    "Unicode strings are more reliable than byte strings as they do not have the encoding problems. They should therefore be used preferentially in Python code where possible. \n",
    "\n",
    "Bytes are however commonly used when interfacing with basic hardware. If the bytes sequence is examined in binary it is a series of 0 and 1 which is not very human readible:"
   ]
  },
  {
   "cell_type": "code",
   "execution_count": null,
   "metadata": {},
   "outputs": [],
   "source": [
    "for number in b'hello world!':\n",
    "    print(bin(number).removeprefix('0b').zfill(8), end='')"
   ]
  },
  {
   "attachments": {},
   "cell_type": "markdown",
   "metadata": {},
   "source": [
    "However in this form it is easy to transmit this information using a digital signal. A serial port for example has a signal pin which is configured to transmit or receive a digital time trace. The baud rate, 9600 for example means 9600 bits are processed in a second. When the bit is 0, the voltage of the signal pin is LOW and when the bit is 1 the voltage of the signal pin is HIGH."
   ]
  },
  {
   "attachments": {},
   "cell_type": "markdown",
   "metadata": {},
   "source": [
    "As humans it is easier to examine the byte sequence using hexadecimal and this can be done using the bytes method hex:"
   ]
  },
  {
   "cell_type": "code",
   "execution_count": null,
   "metadata": {},
   "outputs": [],
   "source": [
    "? bytes.hex"
   ]
  },
  {
   "cell_type": "code",
   "execution_count": null,
   "metadata": {},
   "outputs": [],
   "source": [
    "b'hello world!'.hex()"
   ]
  },
  {
   "cell_type": "code",
   "execution_count": null,
   "metadata": {},
   "outputs": [],
   "source": [
    "for number in b'hello world!':\n",
    "    print(bin(number).removeprefix('0b').zfill(8), end=' ')\n",
    "    \n",
    "print()\n",
    "\n",
    "for number in b'hello world!':\n",
    "    print(hex(number).removeprefix('0x').zfill(2).center(8), end=' ')"
   ]
  },
  {
   "attachments": {},
   "cell_type": "markdown",
   "metadata": {},
   "source": [
    "It is recommended to decode a byte string to a Unicode string as early as possible in a Python program and to case a Unicode string to a byte string as late as possible before transmitting it to basic hardware in order to avoid encoding issues."
   ]
  },
  {
   "attachments": {},
   "cell_type": "markdown",
   "metadata": {},
   "source": [
    "If the 16 bit (2 bytes) encoding is examined in more detail as hex so it is human readible:"
   ]
  },
  {
   "cell_type": "code",
   "execution_count": null,
   "metadata": {},
   "outputs": [],
   "source": [
    "greek_be = bytes('αβγδε', encoding='UTF-16-BE').hex()\n",
    "greek_be"
   ]
  },
  {
   "cell_type": "code",
   "execution_count": null,
   "metadata": {},
   "outputs": [],
   "source": [
    "greek_le = bytes('αβγδε', encoding='UTF-16-LE').hex()\n",
    "greek_le"
   ]
  },
  {
   "cell_type": "code",
   "execution_count": null,
   "metadata": {},
   "outputs": [],
   "source": [
    "greek = bytes('αβγδε', encoding='UTF-16').hex()\n",
    "greek"
   ]
  },
  {
   "attachments": {},
   "cell_type": "markdown",
   "metadata": {},
   "source": [
    "And in groupings of 4 are examined:"
   ]
  },
  {
   "cell_type": "code",
   "execution_count": null,
   "metadata": {},
   "outputs": [],
   "source": [
    "print('UTF-16-BE', end=':      ')\n",
    "\n",
    "for i in range(0, len(greek_be), 4):\n",
    "    print(greek_be [i:i+4], end=' ')\n",
    "\n",
    "print()    \n",
    "print('UTF-16-LE', end=':      ')\n",
    "\n",
    "for i in range(0, len(greek_le), 4):\n",
    "    print(greek_le [i:i+4], end=' ')  \n",
    "    \n",
    "print()    \n",
    "print('UTF-16', end=':    ')\n",
    "\n",
    "for i in range(0, len(greek), 4):\n",
    "    print(greek [i:i+4], end=' ')    "
   ]
  },
  {
   "attachments": {},
   "cell_type": "markdown",
   "metadata": {},
   "source": [
    "Notice the difference in the first character between UTF-16-BE and UTF-16-LE; for big endian it is encoded as 03 b1 with the big order byte being displayed first. For little endian it is encoded as b1 03 with the little order byte being displayed first.\n",
    "\n",
    "An analogy is the number twelve, it is usually written in English using the big number first as 12. However if it is written with the little number first it would be written as 21.\n",
    "\n",
    "Although big endian is used with decimal numbers, little endian was more commonly used for byte ordering, for example being the standard on all Intel processors. There was early encoding/decoding issues due to the byte order when UTF-16 was first issued and as a result UTF-16 Byte Order Marker (BOM) is typically prefixed. This BOM is seen when UTF-16 is specified but not when UTF-16-LE is specified which are otherwise identical.\n",
    "\n",
    "UTF-8 was designed to always be big order and has no encoding issues regarding byte ordering however there is a variation UTF-8-Sig which includes a BOM. This is commonly used in Microsoft Applications:"
   ]
  },
  {
   "cell_type": "code",
   "execution_count": null,
   "metadata": {},
   "outputs": [],
   "source": [
    "greek_utf8 = bytes('αβγδε', encoding='UTF-8').hex()\n",
    "greek_utf8"
   ]
  },
  {
   "cell_type": "code",
   "execution_count": null,
   "metadata": {},
   "outputs": [],
   "source": [
    "greek_utf8sig = bytes('αβγδε', encoding='UTF-8-Sig').hex()\n",
    "greek_utf8sig"
   ]
  },
  {
   "attachments": {},
   "cell_type": "markdown",
   "metadata": {},
   "source": [
    "The first standard encoding scheme was 'ASCII', which was fixed over 1 byte (8 bit). Recall a byte has:"
   ]
  },
  {
   "cell_type": "code",
   "execution_count": null,
   "metadata": {},
   "outputs": [],
   "source": [
    "2 ** 8"
   ]
  },
  {
   "attachments": {},
   "cell_type": "markdown",
   "metadata": {},
   "source": [
    "combinations although only half were used. Initially there were regional encoding schemes (translation tables) which mapped the second half of the combinations to regional characters. For example in the UK, 'Latin1' was used which includes the £ sign:"
   ]
  },
  {
   "cell_type": "code",
   "execution_count": null,
   "metadata": {},
   "outputs": [],
   "source": [
    "gb = bytes('£123.45', encoding='Latin1')\n",
    "gb"
   ]
  },
  {
   "cell_type": "code",
   "execution_count": null,
   "metadata": {},
   "outputs": [],
   "source": [
    "int('0xa3', base=16)"
   ]
  },
  {
   "cell_type": "code",
   "execution_count": null,
   "metadata": {},
   "outputs": [],
   "source": [
    "gb.decode(encoding='Latin1')"
   ]
  },
  {
   "attachments": {},
   "cell_type": "markdown",
   "metadata": {},
   "source": [
    "This regional encoding scheme spanned over the full byte. The problem with early regional encoding was that operating systems were configured to use a different encoding scheme than content such as early websites and characters outwith ASCII which were fixed were often substituted. For example:"
   ]
  },
  {
   "cell_type": "code",
   "execution_count": null,
   "metadata": {},
   "outputs": [],
   "source": [
    "gb.decode(encoding='Latin2')"
   ]
  },
  {
   "cell_type": "code",
   "execution_count": null,
   "metadata": {},
   "outputs": [],
   "source": [
    "gb.decode(encoding='Latin3')"
   ]
  },
  {
   "cell_type": "code",
   "execution_count": null,
   "metadata": {},
   "outputs": [],
   "source": [
    "gb.decode(encoding='Greek')"
   ]
  },
  {
   "cell_type": "code",
   "execution_count": null,
   "metadata": {},
   "outputs": [],
   "source": [
    "gb.decode(encoding='Cyrillic')"
   ]
  },
  {
   "attachments": {},
   "cell_type": "markdown",
   "metadata": {},
   "source": [
    "UTF-16 (16 bits) was created which has:"
   ]
  },
  {
   "cell_type": "code",
   "execution_count": null,
   "metadata": {},
   "outputs": [],
   "source": [
    "2 ** 16"
   ]
  },
  {
   "attachments": {},
   "cell_type": "markdown",
   "metadata": {},
   "source": [
    "combinations and hence allowed more characters. ASCII characters have to be extended to 2 bytes as the byte size is fixed. The restriction in the number of characters led to UTF-32 (32 bits) giving:"
   ]
  },
  {
   "cell_type": "code",
   "execution_count": null,
   "metadata": {},
   "outputs": [],
   "source": [
    "2 ** 32"
   ]
  },
  {
   "attachments": {},
   "cell_type": "markdown",
   "metadata": {},
   "source": [
    "combinations. ASCII characters have to be extended to 4 bytes as the byte size is fixed. Finally UTF-8 was created which is adaptable between 1 byte for ASCII characters, 2 bytes for common Unicode characters and 4 bytes for extended Unicode characters. UTF-16 and UTF-32 had variations byte order which was also fixed for UTF-8. UTF-8 is the standard used for Unicode strings and will be used from now on."
   ]
  },
  {
   "attachments": {},
   "cell_type": "markdown",
   "metadata": {},
   "source": [
    "## Bytes Identifiers"
   ]
  },
  {
   "attachments": {},
   "cell_type": "markdown",
   "metadata": {},
   "source": [
    "The bytes class uses the design model of a Python object as seen by its method resolution order:"
   ]
  },
  {
   "cell_type": "code",
   "execution_count": null,
   "metadata": {},
   "outputs": [],
   "source": [
    "bytes.mro"
   ]
  },
  {
   "attachments": {},
   "cell_type": "markdown",
   "metadata": {},
   "source": [
    "If the help function is used on bytes, details about all the identifiers will be given:"
   ]
  },
  {
   "cell_type": "code",
   "execution_count": null,
   "metadata": {},
   "outputs": [],
   "source": [
    "help(bytes)"
   ]
  },
  {
   "attachments": {},
   "cell_type": "markdown",
   "metadata": {},
   "source": [
    "From the previous notebook, you'll recognise many of these identifiers as they are seen in the string class. For the most part the identifiers between the two classes are consistent however some will differ due to the difference in fundamental unit.\n",
    "\n",
    "If the methods are compared:"
   ]
  },
  {
   "cell_type": "code",
   "execution_count": 1,
   "metadata": {},
   "outputs": [
    {
     "name": "stdout",
     "output_type": "stream",
     "text": [
      "capitalize casefold center count encode endswith expandtabs find format format_map index isalnum isalpha isascii isdecimal isdigit isidentifier islower isnumeric isprintable isspace istitle isupper join ljust lower lstrip maketrans partition removeprefix removesuffix replace rfind rindex rjust rpartition rsplit rstrip split splitlines startswith strip swapcase title translate upper zfill "
     ]
    }
   ],
   "source": [
    "for identifier in dir(str):\n",
    "    isfunction = callable(getattr(str, identifier))\n",
    "    isdatamodel = identifier[0] == '_'\n",
    "    if (isfunction and not isdatamodel):\n",
    "        print(identifier, end=' ')"
   ]
  },
  {
   "cell_type": "code",
   "execution_count": 2,
   "metadata": {},
   "outputs": [
    {
     "name": "stdout",
     "output_type": "stream",
     "text": [
      "capitalize center count decode endswith expandtabs find fromhex hex index isalnum isalpha isascii isdigit islower isspace istitle isupper join ljust lower lstrip maketrans partition removeprefix removesuffix replace rfind rindex rjust rpartition rsplit rstrip split splitlines startswith strip swapcase title translate upper zfill "
     ]
    }
   ],
   "source": [
    "for identifier in dir(bytes):\n",
    "    isfunction = callable(getattr(bytes, identifier))\n",
    "    isdatamodel = identifier[0] == '_'\n",
    "    if (isfunction and not isdatamodel):\n",
    "        print(identifier, end=' ')"
   ]
  },
  {
   "attachments": {},
   "cell_type": "markdown",
   "metadata": {},
   "source": [
    "And if a check is made for methods in the bytes class but not in the str class, there are only 3 additions:"
   ]
  },
  {
   "cell_type": "code",
   "execution_count": 4,
   "metadata": {},
   "outputs": [
    {
     "name": "stdout",
     "output_type": "stream",
     "text": [
      "decode fromhex hex "
     ]
    }
   ],
   "source": [
    "for identifier in dir(bytes):\n",
    "    isfunction = callable(getattr(bytes, identifier))\n",
    "    isinstr = identifier in dir(str)\n",
    "    isdatamodel = identifier[0] == '_'\n",
    "    if (isfunction and not isdatamodel and not isinstr):\n",
    "        print(identifier, end=' ')"
   ]
  },
  {
   "attachments": {},
   "cell_type": "markdown",
   "metadata": {},
   "source": [
    "Likewise if the data model methods are compared:"
   ]
  },
  {
   "cell_type": "code",
   "execution_count": 5,
   "metadata": {},
   "outputs": [
    {
     "name": "stdout",
     "output_type": "stream",
     "text": [
      "__add__ __class__ __contains__ __delattr__ __dir__ __eq__ __format__ __ge__ __getattribute__ __getitem__ __getnewargs__ __getstate__ __gt__ __hash__ __init__ __init_subclass__ __iter__ __le__ __len__ __lt__ __mod__ __mul__ __ne__ __new__ __reduce__ __reduce_ex__ __repr__ __rmod__ __rmul__ __setattr__ __sizeof__ __str__ __subclasshook__ "
     ]
    }
   ],
   "source": [
    "for identifier in dir(str):\n",
    "    isfunction = callable(getattr(str, identifier))\n",
    "    isdatamodel = identifier[0] == '_'\n",
    "    if (isfunction and isdatamodel):\n",
    "        print(identifier, end=' ')"
   ]
  },
  {
   "cell_type": "code",
   "execution_count": 6,
   "metadata": {},
   "outputs": [
    {
     "name": "stdout",
     "output_type": "stream",
     "text": [
      "__add__ __bytes__ __class__ __contains__ __delattr__ __dir__ __eq__ __format__ __ge__ __getattribute__ __getitem__ __getnewargs__ __getstate__ __gt__ __hash__ __init__ __init_subclass__ __iter__ __le__ __len__ __lt__ __mod__ __mul__ __ne__ __new__ __reduce__ __reduce_ex__ __repr__ __rmod__ __rmul__ __setattr__ __sizeof__ __str__ __subclasshook__ "
     ]
    }
   ],
   "source": [
    "for identifier in dir(bytes):\n",
    "    isfunction = callable(getattr(bytes, identifier))\n",
    "    isdatamodel = identifier[0] == '_'\n",
    "    if (isfunction and isdatamodel):\n",
    "        print(identifier, end=' ')"
   ]
  },
  {
   "attachments": {},
   "cell_type": "markdown",
   "metadata": {},
   "source": [
    "And if a check is made for the data model methods in the bytes class but not in the str class, there is only 1 addition:"
   ]
  },
  {
   "cell_type": "code",
   "execution_count": 7,
   "metadata": {},
   "outputs": [
    {
     "name": "stdout",
     "output_type": "stream",
     "text": [
      "__bytes__ "
     ]
    }
   ],
   "source": [
    "for identifier in dir(bytes):\n",
    "    isfunction = callable(getattr(bytes, identifier))\n",
    "    isinstr = identifier in dir(str)\n",
    "    isdatamodel = identifier[0] == '_'\n",
    "    if (isfunction and isdatamodel and not isinstr):\n",
    "        print(identifier, end=' ')"
   ]
  },
  {
   "attachments": {},
   "cell_type": "markdown",
   "metadata": {},
   "source": [
    "Most methods and data model methods have the same names between the two classes and have consistent behaviour. The immutable methods in the str class which return a new str instance will generally return a new bytes instance instead. The individual unit of a Unicode string is a Unicode character and the individual unit of a bytes is a byte. The data model method \\_\\_len\\_\\_ which maps to the builtins function len will return how many of these individual units are in an instance:"
   ]
  },
  {
   "cell_type": "code",
   "execution_count": null,
   "metadata": {},
   "outputs": [],
   "source": [
    "english_b = b'abcde'\n",
    "greek_b = bytes('αβγδε', encoding='UTF-8')\n",
    "english_s = 'abcde'\n",
    "greek_s = 'αβγδε'"
   ]
  },
  {
   "attachments": {},
   "cell_type": "markdown",
   "metadata": {},
   "source": [
    "Notice that the len of english_s and greek_s are consistently 5 as there are 5 Unicode characters:"
   ]
  },
  {
   "cell_type": "code",
   "execution_count": null,
   "metadata": {},
   "outputs": [],
   "source": [
    "len(english_s)"
   ]
  },
  {
   "cell_type": "code",
   "execution_count": null,
   "metadata": {},
   "outputs": [],
   "source": [
    "len(greek_s)"
   ]
  },
  {
   "attachments": {},
   "cell_type": "markdown",
   "metadata": {},
   "source": [
    "Notice that the len of english_b is also 5 as each ASCII character spans 1 byte, however greek_s is a length of 10 as each character spans 2 bytes:"
   ]
  },
  {
   "cell_type": "code",
   "execution_count": null,
   "metadata": {},
   "outputs": [],
   "source": [
    "len(english_b)"
   ]
  },
  {
   "cell_type": "code",
   "execution_count": null,
   "metadata": {},
   "outputs": [],
   "source": [
    "len(greek_b)"
   ]
  },
  {
   "attachments": {},
   "cell_type": "markdown",
   "metadata": {},
   "source": [
    "Recall that the data model identifier \\_\\_getitem\\_\\_ defines the behaviour when indexing with square brackets. For a string, the Unicode character corresponding to that index is returned, for a byte, the byte in the form of an int is returned:"
   ]
  },
  {
   "cell_type": "code",
   "execution_count": null,
   "metadata": {},
   "outputs": [],
   "source": [
    "greek_s[0]"
   ]
  },
  {
   "cell_type": "code",
   "execution_count": null,
   "metadata": {},
   "outputs": [],
   "source": [
    "greek_b[0]"
   ]
  },
  {
   "cell_type": "code",
   "execution_count": null,
   "metadata": {},
   "outputs": [],
   "source": [
    "greek_b.hex()"
   ]
  },
  {
   "cell_type": "code",
   "execution_count": null,
   "metadata": {},
   "outputs": [],
   "source": [
    "hex(206)"
   ]
  },
  {
   "attachments": {},
   "cell_type": "markdown",
   "metadata": {},
   "source": [
    "Slicing will instead return a bytes instance. the difference can be seen when 1 byte is selected from a slice:"
   ]
  },
  {
   "cell_type": "code",
   "execution_count": null,
   "metadata": {},
   "outputs": [],
   "source": [
    "greek_b[:1]"
   ]
  },
  {
   "attachments": {},
   "cell_type": "markdown",
   "metadata": {},
   "source": [
    "The syntax otherwise is consistent to slicing using the string class:"
   ]
  },
  {
   "cell_type": "code",
   "execution_count": null,
   "metadata": {},
   "outputs": [],
   "source": [
    "greek_b[:2:]"
   ]
  },
  {
   "cell_type": "code",
   "execution_count": null,
   "metadata": {},
   "outputs": [],
   "source": [
    "greek_b[::2]"
   ]
  },
  {
   "cell_type": "code",
   "execution_count": null,
   "metadata": {},
   "outputs": [],
   "source": [
    "greek_b[1::2]"
   ]
  },
  {
   "attachments": {},
   "cell_type": "markdown",
   "metadata": {},
   "source": [
    "Earlier the method hex was examined:"
   ]
  },
  {
   "cell_type": "code",
   "execution_count": null,
   "metadata": {},
   "outputs": [],
   "source": [
    "? greek_b.hex"
   ]
  },
  {
   "cell_type": "code",
   "execution_count": null,
   "metadata": {},
   "outputs": [],
   "source": [
    "greek_b.hex()"
   ]
  },
  {
   "attachments": {},
   "cell_type": "markdown",
   "metadata": {},
   "source": [
    "There is class method fromhex which is an alternative constructor which will create a bytes instance from a string of hexadecimal numbers:"
   ]
  },
  {
   "cell_type": "code",
   "execution_count": null,
   "metadata": {},
   "outputs": [],
   "source": [
    "? bytes.fromhex"
   ]
  },
  {
   "attachments": {},
   "cell_type": "markdown",
   "metadata": {},
   "source": [
    "Note that the class method is normally called from a class and returns an instance:"
   ]
  },
  {
   "cell_type": "code",
   "execution_count": null,
   "metadata": {},
   "outputs": [],
   "source": [
    "bytes.fromhex('ceb1ceb2ceb3ceb4ceb5')"
   ]
  }
 ],
 "metadata": {
  "kernelspec": {
   "display_name": "jupyterlab",
   "language": "python",
   "name": "python3"
  },
  "language_info": {
   "codemirror_mode": {
    "name": "ipython",
    "version": 3
   },
   "file_extension": ".py",
   "mimetype": "text/x-python",
   "name": "python",
   "nbconvert_exporter": "python",
   "pygments_lexer": "ipython3",
   "version": "3.11.4"
  },
  "orig_nbformat": 4,
  "vscode": {
   "interpreter": {
    "hash": "4648373dafda34926c036cc9e466ef2f8d360789320441bb704a9be21d427d2a"
   }
  }
 },
 "nbformat": 4,
 "nbformat_minor": 2
}
