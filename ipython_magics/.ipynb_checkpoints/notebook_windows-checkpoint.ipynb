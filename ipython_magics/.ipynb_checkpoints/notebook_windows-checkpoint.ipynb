{
 "cells": [
  {
   "cell_type": "markdown",
   "id": "0892fd0f-71be-4d08-b482-096c987d5709",
   "metadata": {},
   "source": [
    "# IPython Magics (Windows)"
   ]
  },
  {
   "cell_type": "markdown",
   "id": "f66d54b6-554c-49f2-a9f0-e4c35a43d584",
   "metadata": {},
   "source": [
    "## Shells"
   ]
  },
  {
   "cell_type": "markdown",
   "id": "9871fba8-0aca-415e-92fb-62aff0a4f91e",
   "metadata": {},
   "source": [
    "In order to prevent confusion between programming languages, the following recap will be made.\n",
    "\n",
    "The Windows Terminal uses PowerShell by default.\n",
    "\n",
    "PowerShell Prompt:\n",
    "\n",
    "```powershell\n",
    "(base) PS ~>\n",
    "```\n",
    "\n",
    "PowerShell can be used to launch Python:\n",
    "\n",
    "```powershell\n",
    "(base) PS ~> python\n",
    "```\n",
    "\n",
    "Python Prompt:\n",
    "\n",
    "```python\n",
    ">>> \n",
    "```\n",
    "\n",
    "The Python program can be exited using the ```exit``` function returning to the PowerShell Prompt:\n",
    "\n",
    "```python\n",
    ">>> exit()\n",
    "(base) PS ~>\n",
    "```\n",
    "\n",
    "PowerShell can be used to launch IPython:\n",
    "\n",
    "```powershell\n",
    "(base) PS ~> ipython\n",
    "```\n",
    "\n",
    "IPython Prompt:\n",
    "\n",
    "```python\n",
    "[1] \n",
    "```\n",
    "\n",
    "The IPython program can be exited using the ```exit``` function returning to the PowerShell Prompt:\n",
    "\n",
    "```python\n",
    "[1] exit\n",
    "(base) PS ~>\n",
    "```\n",
    "\n",
    "On Windows there are 2 Shell programming languages; PowerShell which is the modern programming language and CMD which is the legacy programming language. CMD can be launched from PowerShell using:\n",
    "\n",
    "```powershell\n",
    "(base) PS ~> cmd\n",
    "```\n",
    "\n",
    "CMD Prompt:\n",
    "\n",
    "```cmd\n",
    "~>\n",
    "```\n",
    "\n",
    "This CMD command ```exit``` can be used to exit, returning to a PowerShell Prompt:\n",
    "\n",
    "```cmd\n",
    "~> exit\n",
    "(base) PS ~>\n",
    "```\n"
   ]
  },
  {
   "cell_type": "markdown",
   "id": "b9aff41d-adb5-4dca-8010-ab22f32fd6e3",
   "metadata": {},
   "source": [
    "## IPython Cells"
   ]
  },
  {
   "cell_type": "markdown",
   "id": "235abfcd-a3c8-4712-a43a-a74e2d4ec474",
   "metadata": {},
   "source": [
    "An interactive Python notebook uses an IPython shell by default. This is why all the cells are numbered like in IPython when executed:"
   ]
  },
  {
   "cell_type": "code",
   "execution_count": null,
   "id": "86a77932-8401-406d-b6cd-6c36b0de7a13",
   "metadata": {},
   "outputs": [],
   "source": [
    "print('Hello World!')"
   ]
  },
  {
   "cell_type": "markdown",
   "id": "a2891d2f-35de-40b0-a80a-cc6fdfe7fba1",
   "metadata": {},
   "source": [
    "## IPython Magics"
   ]
  },
  {
   "cell_type": "markdown",
   "id": "cb9a3cc8-2bee-4a7a-9cf7-b5e892c82f78",
   "metadata": {},
   "source": [
    "IPython also has access to IPython Magics. These are reimplementations of CMD commands in Python. CMD is used opposed to PowerShell because IPython originally supported Windows 7 which only had CMD. \n",
    "\n",
    "```%lsmagic``` can be used to list the IPython magics. These are split into line and cell magics. In a notebook the magics will output using JSON and one can interactively examine the output:"
   ]
  },
  {
   "cell_type": "code",
   "execution_count": null,
   "id": "7f944d73-397f-4df6-80b9-0e020b6e8fe5",
   "metadata": {},
   "outputs": [],
   "source": [
    "%lsmagic"
   ]
  },
  {
   "cell_type": "markdown",
   "id": "022da2cf-bf85-498b-968f-403c4ec6142d",
   "metadata": {},
   "source": [
    "A quick reference of the commands can be seen by using ```%quickref```:"
   ]
  },
  {
   "cell_type": "code",
   "execution_count": null,
   "id": "d3b25bc0-eda7-42c6-827d-49aec905af99",
   "metadata": {
    "scrolled": true
   },
   "outputs": [],
   "source": [
    "%quickref"
   ]
  },
  {
   "cell_type": "markdown",
   "id": "2bff0e9a-bfe5-47ee-9f3c-156a70597d97",
   "metadata": {},
   "source": [
    "More details will show when the line magic ```%magic``` is used:"
   ]
  },
  {
   "cell_type": "code",
   "execution_count": null,
   "id": "d0263dc5-69f6-452a-8503-33f5a72d94ce",
   "metadata": {
    "scrolled": true
   },
   "outputs": [],
   "source": [
    "%magic"
   ]
  },
  {
   "cell_type": "markdown",
   "id": "78754db5-ee30-4b97-a162-ec7b34604dfa",
   "metadata": {},
   "source": [
    "A line magic is normally prefixed with a ```%``` which indicates an IPython magic is used:"
   ]
  },
  {
   "cell_type": "code",
   "execution_count": null,
   "id": "3cee61b5-b06d-4079-ac26-6c0fb08873ee",
   "metadata": {},
   "outputs": [],
   "source": [
    "%ls"
   ]
  },
  {
   "cell_type": "markdown",
   "id": "ea7cbc12-83de-426b-9145-7d418515e4d6",
   "metadata": {},
   "source": [
    "Because automagic is on, it is also possible to use a line magic without the ```%``` sign but less common to do so:"
   ]
  },
  {
   "cell_type": "code",
   "execution_count": null,
   "id": "f8f1b293-4a13-4805-b865-aeeb6eeb137e",
   "metadata": {},
   "outputs": [],
   "source": [
    "%automagic?"
   ]
  },
  {
   "cell_type": "code",
   "execution_count": null,
   "id": "7b521b49-fbb3-4d13-9b5f-1f4bf85067ca",
   "metadata": {},
   "outputs": [],
   "source": [
    "ls"
   ]
  },
  {
   "cell_type": "markdown",
   "id": "cb8328a1-a99a-4684-835b-98bc6e5d8334",
   "metadata": {},
   "source": [
    "Help about the line magic can be viewed using:"
   ]
  },
  {
   "cell_type": "code",
   "execution_count": null,
   "id": "7ac4359b-d409-4ea2-9d4e-bb2f5d8e4c69",
   "metadata": {},
   "outputs": [],
   "source": [
    "%ls?"
   ]
  },
  {
   "cell_type": "markdown",
   "id": "d2112939-d9c5-4ed7-ad44-b6868d1ffd99",
   "metadata": {},
   "source": [
    "A cell magic begins with ```%%``` and occupies a cell:"
   ]
  },
  {
   "cell_type": "markdown",
   "id": "6461f0a0-13d1-431f-935a-3f76c41f9272",
   "metadata": {},
   "source": [
    "The cell magic ```%%writefile``` is used to write a file:"
   ]
  },
  {
   "cell_type": "code",
   "execution_count": null,
   "id": "f12ad30c-7c09-464e-b8df-66c14759aa41",
   "metadata": {},
   "outputs": [],
   "source": [
    "%%writefile?"
   ]
  },
  {
   "cell_type": "markdown",
   "id": "958eb95e-a386-4807-854c-d92ab1562792",
   "metadata": {},
   "source": [
    "And has the alias ```%%file```:"
   ]
  },
  {
   "cell_type": "code",
   "execution_count": null,
   "id": "875fffbd-8858-4e5c-8755-db98d7215ef9",
   "metadata": {},
   "outputs": [],
   "source": [
    "%%file?"
   ]
  },
  {
   "cell_type": "markdown",
   "id": "5132bf91-ff23-47af-a38a-96182ae1a85d",
   "metadata": {},
   "source": [
    "A Python script can be created using:"
   ]
  },
  {
   "cell_type": "code",
   "execution_count": null,
   "id": "efc046e2-b9b1-4ce4-9dc7-788a198dbb28",
   "metadata": {},
   "outputs": [],
   "source": [
    "%%writefile script.py\n",
    "print('Hello World!')\n",
    "print('Hello World!')"
   ]
  },
  {
   "cell_type": "markdown",
   "id": "f2055d68-7b55-4b44-9461-822831bb5c93",
   "metadata": {},
   "source": [
    "This script can be run using the cell magic ```%run```:"
   ]
  },
  {
   "cell_type": "code",
   "execution_count": null,
   "id": "25c65719-1c93-4029-99a2-f78604211ec8",
   "metadata": {},
   "outputs": [],
   "source": [
    "%run script.py"
   ]
  },
  {
   "cell_type": "markdown",
   "id": "6d7d8e0c-6036-48ed-8dc0-880cade6cb39",
   "metadata": {},
   "source": [
    "```%run``` is an IPython magic used to execute a Python script and ```%%python``` is a cell magic used to run Python code (opening a Python Shell within an IPython Cell):"
   ]
  },
  {
   "cell_type": "code",
   "execution_count": null,
   "id": "f1e5361d-2f5d-47e2-8f47-67787a700137",
   "metadata": {},
   "outputs": [],
   "source": [
    "%%python\n",
    "print('Hello World!')\n",
    "print('Hello World!')"
   ]
  },
  {
   "cell_type": "markdown",
   "id": "6a8414bb-e5fa-4e87-a44e-5f0e81930aff",
   "metadata": {},
   "source": [
    "## CMD Commands"
   ]
  },
  {
   "cell_type": "markdown",
   "id": "a7d1eb41-1cd9-4a95-98a5-8cb48bef19af",
   "metadata": {},
   "source": [
    "A CMD command can be run directly using the prefix ```!```, the CMD command ```python``` that the line magic ```%run``` and cell magic ```%%python``` are based on can be used to run a script file. Because the Python shell closes after the script file is executed, this works as expected:"
   ]
  },
  {
   "cell_type": "code",
   "execution_count": null,
   "id": "8f56275d-e582-46b0-b2e6-3f9b8e2c41ab",
   "metadata": {},
   "outputs": [],
   "source": [
    "!python script.py"
   ]
  },
  {
   "cell_type": "markdown",
   "id": "966503a2-e5e1-484b-868b-4674711123f2",
   "metadata": {},
   "source": [
    "If however the following is run:\n",
    "\n",
    "```python\n",
    "!python\n",
    "print('Hello World!')\n",
    "print('Hello World!')\n",
    "```\n",
    "\n",
    "The IPython cell will freeze as the Python program has not closed. Generally a preference should be made for IPython magics when available over their original CMD counterparts as they have been updated to work properly within an IPython cell:"
   ]
  },
  {
   "cell_type": "code",
   "execution_count": null,
   "id": "ec53dbb2-c539-4a95-9a1c-895e100f9a36",
   "metadata": {},
   "outputs": [],
   "source": []
  },
  {
   "cell_type": "markdown",
   "id": "687afcba-af64-46d4-bfe9-bccb440912bf",
   "metadata": {},
   "source": [
    "Details about these two commands can be seen using ```?```"
   ]
  },
  {
   "cell_type": "code",
   "execution_count": null,
   "id": "d42e4a55-a650-4987-b9ce-8d99e87621d9",
   "metadata": {
    "scrolled": true
   },
   "outputs": [],
   "source": [
    "%run?"
   ]
  },
  {
   "cell_type": "code",
   "execution_count": null,
   "id": "4f28fb6e-8ea6-4349-9e52-18222b234e87",
   "metadata": {},
   "outputs": [],
   "source": [
    "%%python?"
   ]
  },
  {
   "cell_type": "markdown",
   "id": "81d2a5a9-633d-4419-bb48-bc7ee793d905",
   "metadata": {},
   "source": [
    "The list of commonly used CMD commands can be viewed using the CMD command ```help```, recall this is prefixed with a ```!```:"
   ]
  },
  {
   "cell_type": "code",
   "execution_count": null,
   "id": "ac006dd1-e950-4de3-a8f4-032d71ebca33",
   "metadata": {
    "scrolled": true
   },
   "outputs": [],
   "source": [
    "!help"
   ]
  },
  {
   "cell_type": "markdown",
   "id": "f9c10c67-9f94-4457-b99c-41bf7e372eae",
   "metadata": {},
   "source": [
    "Although the commands above are shown in capitals, they can also be used in lower case:"
   ]
  },
  {
   "cell_type": "code",
   "execution_count": null,
   "id": "d8e9e734-3152-4fe3-90f9-b3be18689aff",
   "metadata": {},
   "outputs": [],
   "source": [
    "!DIR"
   ]
  },
  {
   "cell_type": "code",
   "execution_count": null,
   "id": "cef09553-85f2-462f-b498-d636fd225ec0",
   "metadata": {},
   "outputs": [],
   "source": [
    "!dir"
   ]
  },
  {
   "cell_type": "markdown",
   "id": "919ea08b-2c03-438a-b006-14724d441b2c",
   "metadata": {},
   "source": [
    "The IPython magic on the other hand has to be in lowercase:"
   ]
  },
  {
   "cell_type": "code",
   "execution_count": null,
   "id": "84f57d98-e473-43fc-9c05-404abd5d6980",
   "metadata": {},
   "outputs": [],
   "source": [
    "%ls"
   ]
  },
  {
   "cell_type": "markdown",
   "id": "1693ba42-0157-4d0c-892a-7fd15ee0a16f",
   "metadata": {},
   "source": [
    "The CMD command ```dir``` lists all the subdirectories and files in a directory, with the default argument being the current working directory.\n",
    "\n",
    "The Python function ```dir``` lists all the identifiers belonging to a Python ```object``` with the default being the global namespace.\n",
    "\n",
    "```%dir``` is not available as an IPython magic, because ```dir``` is a keyword in Python and therefore there would be confusion when the instruction when ```dir``` is used. Instead the ```bash``` command ```ls``` is used which is equivalent.\n",
    "\n",
    "Note in PowerShell ```ls``` is an alias of ```dir``` but ```ls``` does not exist in CMD."
   ]
  },
  {
   "cell_type": "code",
   "execution_count": null,
   "id": "3e36078c-8023-433a-980f-db8c16df93ee",
   "metadata": {},
   "outputs": [],
   "source": [
    "%ls?"
   ]
  },
  {
   "cell_type": "markdown",
   "id": "1f8e03ec-f83b-4757-821e-15fac6fad10c",
   "metadata": {},
   "source": [
    "The CMD command ```del``` is used to delete a file.\n",
    "\n",
    "The Python keyword ```del``` is used to delete a reference.\n",
    "\n",
    "```%del``` is not available as an IPython magic, because ```del``` is a keyword and therefore would be confusion when ```del``` is used. Unfortunately there is no alias to ```%rm```. To delete a file, the ```!``` needs to be used which specifies use of the CMD command:"
   ]
  },
  {
   "cell_type": "code",
   "execution_count": null,
   "id": "e03eee23-24b7-466e-85be-bc83937d6466",
   "metadata": {},
   "outputs": [],
   "source": [
    "!del script.py"
   ]
  },
  {
   "cell_type": "markdown",
   "id": "23dae3fd-6796-4ce1-9eb1-fe8c5300589d",
   "metadata": {},
   "source": [
    "If the script file is recreated:"
   ]
  },
  {
   "cell_type": "code",
   "execution_count": null,
   "id": "4a27c702-729f-45ec-87b4-1515a14dbdde",
   "metadata": {},
   "outputs": [],
   "source": [
    "%%writefile script.py\n",
    "print('Hello World!')\n",
    "print('Hello World!')"
   ]
  },
  {
   "cell_type": "markdown",
   "id": "3431f9b7-5178-4bf7-ba91-aeae4b522d6b",
   "metadata": {},
   "source": [
    "The IPython line magic ```%alias``` can be used to view the list of alias, the ones shown are available by default:"
   ]
  },
  {
   "cell_type": "code",
   "execution_count": null,
   "id": "bfd5ccd5-d89f-4b59-bf30-0f15992cbad8",
   "metadata": {},
   "outputs": [],
   "source": [
    "%alias"
   ]
  },
  {
   "cell_type": "markdown",
   "id": "6a2b21ba-b7ff-4783-a83b-69e4035f543e",
   "metadata": {},
   "source": [
    "A new alias can be created using this line magic:"
   ]
  },
  {
   "cell_type": "code",
   "execution_count": null,
   "id": "663be773-52d0-4a76-b6c2-d9d182d79b83",
   "metadata": {
    "scrolled": true
   },
   "outputs": [],
   "source": [
    "%alias?"
   ]
  },
  {
   "cell_type": "markdown",
   "id": "ab7fc726-148e-483d-aaad-30e14dc9c6e6",
   "metadata": {},
   "source": [
    "Then the cmd command ```del``` can be used using the new line magic ```%rm```:"
   ]
  },
  {
   "cell_type": "code",
   "execution_count": null,
   "id": "05793244-b673-47f2-aa54-f67518c2f449",
   "metadata": {},
   "outputs": [],
   "source": [
    "%alias rm del"
   ]
  },
  {
   "cell_type": "markdown",
   "id": "ac0f5aff-39e2-405a-b819-a882c797ca96",
   "metadata": {},
   "source": [
    "Now this command is added:"
   ]
  },
  {
   "cell_type": "code",
   "execution_count": null,
   "id": "3c67a615-7c90-4ada-ab69-323d18a3c473",
   "metadata": {},
   "outputs": [],
   "source": [
    "%alias"
   ]
  },
  {
   "cell_type": "code",
   "execution_count": null,
   "id": "8657cbc6-f38f-4870-861d-f13270de8d3e",
   "metadata": {},
   "outputs": [],
   "source": [
    "%rm script.py"
   ]
  },
  {
   "cell_type": "markdown",
   "id": "e7107764-9168-4904-a8dc-c6451651861c",
   "metadata": {},
   "source": [
    "Because automagic is enabled, the following also works:"
   ]
  },
  {
   "cell_type": "code",
   "execution_count": null,
   "id": "48ddb812-4256-4248-b9f4-1392d619f613",
   "metadata": {},
   "outputs": [],
   "source": [
    "%%writefile script.py\n",
    "print('Hello World!')\n",
    "print('Hello World!')"
   ]
  },
  {
   "cell_type": "code",
   "execution_count": null,
   "id": "74be88aa-8efe-43a1-b93e-1388cf15b282",
   "metadata": {},
   "outputs": [],
   "source": [
    "rm script.py"
   ]
  },
  {
   "cell_type": "markdown",
   "id": "62e6568f-617e-4acc-b9c4-1097db3fe552",
   "metadata": {},
   "source": [
    "PowerShell can be launched from ```CMD``` using the command ```powershell``` however when this is implemented using:\n",
    "\n",
    "```python\n",
    "!powershell\n",
    "```\n",
    "\n",
    "The command line will freeze because there is no instruction to exit, this was also seen when ```!python``` was used."
   ]
  },
  {
   "cell_type": "code",
   "execution_count": null,
   "id": "4d5bf852-39c1-4c4c-8778-bb3755eae598",
   "metadata": {},
   "outputs": [],
   "source": []
  },
  {
   "cell_type": "markdown",
   "id": "e58d3206-6d4a-45e8-ad4a-d23877e9a675",
   "metadata": {},
   "source": [
    "If a ```powershell``` command is used that does not wait for a prompt, it will execute and then close:"
   ]
  },
  {
   "cell_type": "code",
   "execution_count": null,
   "id": "db2210e6-b7e8-4efa-b669-a5fa10edcb00",
   "metadata": {
    "scrolled": true
   },
   "outputs": [],
   "source": [
    "!powershell help"
   ]
  },
  {
   "cell_type": "markdown",
   "id": "d3ba4126-33a5-4aa2-8622-5a65b1d9248f",
   "metadata": {},
   "source": [
    "CMD has no equivalent to the PowerShell command ```New-Item``` which can be used to create a blank file:"
   ]
  },
  {
   "cell_type": "code",
   "execution_count": null,
   "id": "ce8bf42e-f7d1-47f2-a450-84de8e919d5e",
   "metadata": {},
   "outputs": [],
   "source": [
    "!powershell new-item empty_image.png"
   ]
  },
  {
   "cell_type": "markdown",
   "id": "cd85269e-b96e-4560-8650-1d3d8f464a51",
   "metadata": {},
   "source": [
    "And an alias to this powershell command can be created using:"
   ]
  },
  {
   "cell_type": "code",
   "execution_count": null,
   "id": "7cd385f3-1778-410f-8082-fa96b0f11691",
   "metadata": {},
   "outputs": [],
   "source": [
    "%alias new-item powershell new-item"
   ]
  },
  {
   "cell_type": "code",
   "execution_count": null,
   "id": "c6c1afa9-42d0-4583-aee0-0a58a8cf0029",
   "metadata": {},
   "outputs": [],
   "source": [
    "%alias"
   ]
  },
  {
   "cell_type": "markdown",
   "id": "2289bb86-534b-4ec0-a086-7b14d5b218e5",
   "metadata": {},
   "source": [
    "This can be used to create a blank text file:"
   ]
  },
  {
   "cell_type": "code",
   "execution_count": null,
   "id": "584ee612-0929-4bd1-93ab-972cb0e81e39",
   "metadata": {},
   "outputs": [],
   "source": [
    "%new-item empty.txt"
   ]
  },
  {
   "cell_type": "markdown",
   "id": "c37e9b99-04b9-4e18-b44e-11450505cbcb",
   "metadata": {},
   "source": [
    "These can be removed using:"
   ]
  },
  {
   "cell_type": "code",
   "execution_count": null,
   "id": "19a62603-264e-4df5-bc38-a3b38388e48e",
   "metadata": {},
   "outputs": [],
   "source": [
    "%rm empty.txt\n",
    "%rm empty_image.png"
   ]
  },
  {
   "cell_type": "markdown",
   "id": "a3f939e6-d3b1-4982-bccb-b56a0fca794c",
   "metadata": {},
   "source": [
    "Note powershell commands often incorporate ```-``` to space out words in a command name. In Python, the ```-``` is recognised as an operator. Despite automagics being enabled use of a custom linemagic which incroporates a ```-``` will result in Python attempting to use the ```-``` as an operator and usually result in a ```NameError```:\n",
    "\n",
    "```python\n",
    "new-item\n",
    "```\n",
    "\n",
    "For example ```NameError: name 'new' is not defined```."
   ]
  },
  {
   "cell_type": "markdown",
   "id": "12e54697-c697-45f5-81ae-92a8cae574b2",
   "metadata": {},
   "source": [
    "The cell magic ```%%cmd``` can be used to run a series of CMD commands, for example creating a variable and printing it:"
   ]
  },
  {
   "cell_type": "code",
   "execution_count": null,
   "id": "caf3f861-ff66-4235-89fd-d8d0f4358491",
   "metadata": {},
   "outputs": [],
   "source": [
    "%%cmd\n",
    "set myVariable=\"Hello, World!\"\n",
    "echo %myVariable%"
   ]
  },
  {
   "cell_type": "markdown",
   "id": "0a0fd35c-9e8b-40e3-9a0f-f9b23929fc02",
   "metadata": {},
   "source": [
    "It can also be used to invoke PowerShell and use PowerShell to create a variable and print it:"
   ]
  },
  {
   "cell_type": "code",
   "execution_count": null,
   "id": "0f2407f2-a7bf-46b8-9089-8edc11ad7341",
   "metadata": {},
   "outputs": [],
   "source": [
    "%%cmd\n",
    "powershell\n",
    "$myVariable = \"Hello, World!\"\n",
    "Write-Output $myVariable"
   ]
  },
  {
   "cell_type": "markdown",
   "id": "de978357-b8ff-46b2-8568-80fec882560d",
   "metadata": {},
   "source": [
    "## Magics for File and Folders"
   ]
  },
  {
   "cell_type": "markdown",
   "id": "6cad8617-126c-44c2-8364-d56b751b6ba1",
   "metadata": {},
   "source": [
    "The ```echo``` command is the CMD equivalent for a ```print``` statement:"
   ]
  },
  {
   "cell_type": "code",
   "execution_count": null,
   "id": "57887b1a-b2b4-43c3-8026-20c3407b560c",
   "metadata": {},
   "outputs": [],
   "source": [
    "%echo?"
   ]
  },
  {
   "cell_type": "code",
   "execution_count": null,
   "id": "4411323f-a5f4-4fcd-ada1-84dcff7ab028",
   "metadata": {},
   "outputs": [],
   "source": [
    "%echo 'Hello World!'"
   ]
  },
  {
   "cell_type": "markdown",
   "id": "67d017f7-edb1-47b2-9549-f24051816b7e",
   "metadata": {},
   "source": [
    "The cell magic ```%%writefile``` can be used to create a new file:"
   ]
  },
  {
   "cell_type": "code",
   "execution_count": null,
   "id": "38ea3964-e274-49e1-9c13-ce5a56ec85c3",
   "metadata": {},
   "outputs": [],
   "source": [
    "%%writefile script.py\n",
    "print('Hello World!')"
   ]
  },
  {
   "cell_type": "markdown",
   "id": "79203927-0a14-4852-8ed2-d47b7474a05c",
   "metadata": {},
   "source": [
    "The cell magic ```%copy``` can be used to copy the file:"
   ]
  },
  {
   "cell_type": "code",
   "execution_count": null,
   "id": "317180a6-ac5f-4e0a-87d8-bda4902b3020",
   "metadata": {},
   "outputs": [],
   "source": [
    "%copy script.py script2.py"
   ]
  },
  {
   "cell_type": "markdown",
   "id": "a7b8485a-f237-47f9-99db-b99b0bb7f9cd",
   "metadata": {},
   "source": [
    "There are three line magics related to the CMD command ```dir```. The option ```/on``` specifies to order by name and ```/ad``` means attribute directory, in other words to list only the folders:"
   ]
  },
  {
   "cell_type": "code",
   "execution_count": null,
   "id": "545c3ff5-388b-44af-8071-7cbe8f02274a",
   "metadata": {},
   "outputs": [],
   "source": [
    "%ls?"
   ]
  },
  {
   "cell_type": "code",
   "execution_count": null,
   "id": "2030c012-bd76-404d-aac7-0b4be26cf110",
   "metadata": {},
   "outputs": [],
   "source": [
    "%ldir?"
   ]
  },
  {
   "cell_type": "code",
   "execution_count": null,
   "id": "df4fac30-a498-4933-97f9-600e98cbf3ac",
   "metadata": {},
   "outputs": [],
   "source": [
    "%ddir?"
   ]
  },
  {
   "cell_type": "markdown",
   "id": "2b00b5a7-387f-4647-8729-1eaeb102996c",
   "metadata": {},
   "source": [
    "The line magics ```%mkdir``` and ```%rmdir``` can be used to make and remove directories. Note that use of a space will make separate folders:"
   ]
  },
  {
   "cell_type": "code",
   "execution_count": null,
   "id": "8a450f8b-d722-42cd-847a-3f2675bef50f",
   "metadata": {},
   "outputs": [],
   "source": [
    "%mkdir new folder"
   ]
  },
  {
   "cell_type": "code",
   "execution_count": null,
   "id": "60551fd3-4f98-4c41-9864-c833ba4977f4",
   "metadata": {},
   "outputs": [],
   "source": [
    "%ddir"
   ]
  },
  {
   "cell_type": "code",
   "execution_count": null,
   "id": "37a47f2f-9a95-43a6-a425-9611a5038e16",
   "metadata": {},
   "outputs": [],
   "source": [
    "%rmdir new\n",
    "%rmdir folder"
   ]
  },
  {
   "cell_type": "markdown",
   "id": "51aabf38-1e8e-4bdf-a058-e633294c3afa",
   "metadata": {},
   "source": [
    "A single quotation can be used in a directories name:"
   ]
  },
  {
   "cell_type": "code",
   "execution_count": null,
   "id": "3e144b65-e776-4cbf-aca6-be3d04330e0b",
   "metadata": {},
   "outputs": [],
   "source": [
    "%mkdir 'new folder'"
   ]
  },
  {
   "cell_type": "code",
   "execution_count": null,
   "id": "2f387295-989e-4213-ac64-2e0a856def27",
   "metadata": {},
   "outputs": [],
   "source": [
    "%ddir"
   ]
  },
  {
   "cell_type": "code",
   "execution_count": null,
   "id": "f3503101-031f-42f1-8e44-f18b2aa445dd",
   "metadata": {},
   "outputs": [],
   "source": [
    "%rmdir 'new\n",
    "%rmdir folder'"
   ]
  },
  {
   "cell_type": "markdown",
   "id": "9f5bd117-532c-4b04-86e9-70e94f792a54",
   "metadata": {},
   "source": [
    "Double quotations can't be used in a directory name so are used to enclose names which include spaces:"
   ]
  },
  {
   "cell_type": "code",
   "execution_count": null,
   "id": "d0a06add-f40a-4f1d-b292-8f9c9961f249",
   "metadata": {},
   "outputs": [],
   "source": [
    "%mkdir \"new folder\""
   ]
  },
  {
   "cell_type": "markdown",
   "id": "55b958e9-8ec1-4dff-8710-235c3aedb632",
   "metadata": {},
   "source": [
    "The current working directory can be printed:"
   ]
  },
  {
   "cell_type": "code",
   "execution_count": null,
   "id": "f272145f-afbf-406f-a844-c883c4dc9aba",
   "metadata": {},
   "outputs": [],
   "source": [
    "%pwd"
   ]
  },
  {
   "cell_type": "markdown",
   "id": "9d1c04ac-5938-4d3b-bbae-e40360467ef8",
   "metadata": {},
   "source": [
    "The IPython reimplementation allows for this return value to be assigned to a variable:"
   ]
  },
  {
   "cell_type": "code",
   "execution_count": null,
   "id": "330ae9ed-2c2b-4e42-b66a-f4228d74d045",
   "metadata": {},
   "outputs": [],
   "source": [
    "current_directory = %pwd"
   ]
  },
  {
   "cell_type": "markdown",
   "id": "be8064fc-35ef-48bd-97df-59089f023532",
   "metadata": {},
   "source": [
    "The line magic ```%cd``` can be used to change the directory:"
   ]
  },
  {
   "cell_type": "code",
   "execution_count": null,
   "id": "376ae940-c524-43c0-8c4a-7896a3bb8054",
   "metadata": {
    "scrolled": true
   },
   "outputs": [],
   "source": [
    "%cd?"
   ]
  },
  {
   "cell_type": "markdown",
   "id": "0de9df83-5a21-4e0b-b578-dc1788edd444",
   "metadata": {},
   "source": [
    "When no input argument is made the directory will change to:"
   ]
  },
  {
   "cell_type": "code",
   "execution_count": null,
   "id": "fdc3c2b9-6840-40b2-bc94-b14c5c7b3e53",
   "metadata": {},
   "outputs": [],
   "source": [
    "%cd"
   ]
  },
  {
   "cell_type": "markdown",
   "id": "8f287495-50d8-419c-9292-7e0968a19d8e",
   "metadata": {},
   "source": [
    "Which is the same as the ```%UserProfile%``` accessible using ```~```:"
   ]
  },
  {
   "cell_type": "markdown",
   "id": "dd6d6d6d-6a00-4896-a3b3-39cc5e0bc08f",
   "metadata": {},
   "source": [
    "This can be changed to Documents using:"
   ]
  },
  {
   "cell_type": "code",
   "execution_count": null,
   "id": "5a405c0d-38ae-40ac-a897-ed874b0b2245",
   "metadata": {},
   "outputs": [],
   "source": [
    "%cd ~\\Documents"
   ]
  },
  {
   "cell_type": "markdown",
   "id": "c941f991-5094-4e2c-95da-050cb2bc856d",
   "metadata": {},
   "source": [
    "To change back to the original current working directory, the variable needs to be inserted using braces:"
   ]
  },
  {
   "cell_type": "code",
   "execution_count": null,
   "id": "0965590a-dd68-4a5c-a901-a0aaddcfc098",
   "metadata": {},
   "outputs": [],
   "source": [
    "%cd {current_directory}"
   ]
  },
  {
   "cell_type": "markdown",
   "id": "29164d6b-e66f-4c04-bb7a-7d3a5505a592",
   "metadata": {},
   "source": [
    "The line magic ```%bookmark``` can be used to bookmark a directory:"
   ]
  },
  {
   "cell_type": "code",
   "execution_count": null,
   "id": "8d60277f-8bc4-49df-b65b-41da198b959a",
   "metadata": {},
   "outputs": [],
   "source": [
    "%bookmark Documents ~\\OneDrive\\Documents"
   ]
  },
  {
   "cell_type": "markdown",
   "id": "82e70733-2148-4e9a-b9d9-7c40b04b3715",
   "metadata": {},
   "source": [
    "And this bookmarked directory can be used with ```%cd```:"
   ]
  },
  {
   "cell_type": "code",
   "execution_count": null,
   "id": "d840998c-554a-4b56-a00e-8d61735760da",
   "metadata": {},
   "outputs": [],
   "source": [
    "%cd Documents"
   ]
  },
  {
   "cell_type": "markdown",
   "id": "ee9538eb-973e-4bd3-856c-3e70ba9ae22d",
   "metadata": {},
   "source": [
    "Changing back to the working directory of the notebook file:"
   ]
  },
  {
   "cell_type": "code",
   "execution_count": null,
   "id": "9e9519a2-6cc3-4a66-a3ce-97f58dc52dbd",
   "metadata": {},
   "outputs": [],
   "source": [
    "%cd {current_directory}"
   ]
  },
  {
   "cell_type": "markdown",
   "id": "3b5a9fcc-b4dc-45ef-96ac-104a8fc75619",
   "metadata": {},
   "source": [
    "A file can be renamed using the line magic ```%ren```:"
   ]
  },
  {
   "cell_type": "code",
   "execution_count": null,
   "id": "6fff7f63-307d-401b-8046-2dfb6fc8ea60",
   "metadata": {},
   "outputs": [],
   "source": [
    "%ren?"
   ]
  },
  {
   "cell_type": "code",
   "execution_count": null,
   "id": "cda5254b-811a-4c1a-b77b-16d3d1b69f76",
   "metadata": {},
   "outputs": [],
   "source": [
    "%ren script2.py script3.py"
   ]
  },
  {
   "cell_type": "code",
   "execution_count": null,
   "id": "228a952e-c54f-427f-95f1-8eaa4f7b50c8",
   "metadata": {},
   "outputs": [],
   "source": [
    "%ls"
   ]
  },
  {
   "cell_type": "markdown",
   "id": "5f7925cb-e23f-4ad1-9a22-2bf56f585ec9",
   "metadata": {},
   "source": [
    "The cell magic ```%%script``` can be used to launch a script using the specified programming language:"
   ]
  },
  {
   "cell_type": "code",
   "execution_count": null,
   "id": "39491c90-c3dc-47b0-9561-402c1aee5e82",
   "metadata": {
    "scrolled": true
   },
   "outputs": [],
   "source": [
    "%%script?"
   ]
  },
  {
   "cell_type": "markdown",
   "id": "69b25256-4689-4070-aa90-719a695834ce",
   "metadata": {},
   "source": [
    "Each supported programming language has an alias ```%%cmd```, ```%%python``` (```%%python3```) and ```%%bash``` (the Shell language for Linux) and ```%%perl```. \n",
    "\n",
    "Examples of ```%%cmd``` and use of ```%%cmd``` to invoke PowerShell as well as ```%python3``` have already been examined. ```%%sh``` and ```%%python2``` are older versions of the Linux and Python shells and are generally no longer used."
   ]
  },
  {
   "cell_type": "code",
   "execution_count": null,
   "id": "382b08b5-74ca-4671-b7ca-afe9c4cfa4cf",
   "metadata": {},
   "outputs": [],
   "source": [
    "%%cmd?"
   ]
  },
  {
   "cell_type": "code",
   "execution_count": null,
   "id": "cde0c235-886c-4804-bda2-4484339db6fa",
   "metadata": {},
   "outputs": [],
   "source": [
    "%%python?"
   ]
  },
  {
   "cell_type": "markdown",
   "id": "39e8be28-e2a3-4ac2-b19c-0b5df36eb093",
   "metadata": {},
   "source": [
    "The additional files and folders created in this notebook will be deleted, in order for it to be run again wirthout any errors:"
   ]
  },
  {
   "cell_type": "code",
   "execution_count": null,
   "id": "a6f47f92-b6e8-4691-a5ba-b3a19be74172",
   "metadata": {},
   "outputs": [],
   "source": [
    "%rmdir \"new folder\"\n",
    "%rm script.py\n",
    "%rm script3.py"
   ]
  },
  {
   "cell_type": "markdown",
   "id": "89ae7c44-d568-488c-9f15-7a51d4c2ca8b",
   "metadata": {},
   "source": [
    "## Other Magics"
   ]
  },
  {
   "cell_type": "markdown",
   "id": "f3e73de8-cb03-410d-8520-9543861e0b50",
   "metadata": {},
   "source": [
    "```%pdef```, ```%pdoc``` are line magics used to print the definition of a function and the docstring of a function respectively. Normally these are combined in the line magic ```%pinfo```, some functions may also have extended information which can be accessed using the line magic ```%pinfo2```. Because the line magic ```%pinfo``` is so commonly used it is implemented using the alias ```?```"
   ]
  },
  {
   "cell_type": "code",
   "execution_count": null,
   "id": "5cb56b21-7c5d-4132-a9a9-5b589667bcfc",
   "metadata": {},
   "outputs": [],
   "source": [
    "print?"
   ]
  },
  {
   "cell_type": "code",
   "execution_count": null,
   "id": "2161fca4-1cb9-4a2f-85a9-a2f5824e0ae7",
   "metadata": {},
   "outputs": [],
   "source": [
    "%pdef print"
   ]
  },
  {
   "cell_type": "code",
   "execution_count": null,
   "id": "0a526819-3838-4d9f-a92b-6863a6f6672f",
   "metadata": {},
   "outputs": [],
   "source": [
    "%pdoc print"
   ]
  },
  {
   "cell_type": "code",
   "execution_count": null,
   "id": "b93c234e-7079-47a5-a3d1-57f7c652edc4",
   "metadata": {},
   "outputs": [],
   "source": [
    "%pinfo print"
   ]
  },
  {
   "cell_type": "code",
   "execution_count": null,
   "id": "a8cd3843-bcf9-4787-aa27-909ced19c251",
   "metadata": {
    "scrolled": true
   },
   "outputs": [],
   "source": [
    "%pinfo2 print"
   ]
  },
  {
   "cell_type": "markdown",
   "id": "dcf89ffe-3ae8-49a3-b08b-c8d9515e3eb5",
   "metadata": {},
   "source": [
    "The line magic ```%matplotlib``` is used to change the configuration options for ```matplotlib```:"
   ]
  },
  {
   "cell_type": "code",
   "execution_count": null,
   "id": "aa4579a8-8a33-479a-93b6-a4b8bcdd201f",
   "metadata": {
    "scrolled": true
   },
   "outputs": [],
   "source": [
    "%matplotlib?"
   ]
  },
  {
   "cell_type": "markdown",
   "id": "ad1cf9ff-26d6-40e7-b0be-2aef856e7f28",
   "metadata": {},
   "source": [
    "The backends can be viewed using:"
   ]
  },
  {
   "cell_type": "code",
   "execution_count": null,
   "id": "a935499a-1073-4bdf-8a41-5085b5e427c1",
   "metadata": {},
   "outputs": [],
   "source": [
    "%matplotlib --list"
   ]
  },
  {
   "cell_type": "code",
   "execution_count": null,
   "id": "e734341d-ce9a-4aea-9b90-cb56455c404a",
   "metadata": {},
   "outputs": [],
   "source": [
    "import matplotlib as mpl\n",
    "import matplotlib.pyplot as plt"
   ]
  },
  {
   "cell_type": "markdown",
   "id": "126a497d-8f87-4781-831c-d07ce37ab5c3",
   "metadata": {},
   "source": [
    "A plot can be made using the default inline backend of a notebook:"
   ]
  },
  {
   "cell_type": "code",
   "execution_count": null,
   "id": "dfd1a9f6-9440-46c4-82c5-ece6a3a119cb",
   "metadata": {},
   "outputs": [],
   "source": [
    "plt.plot([1, 2, 3, 4, 5], [2, 4, 6, 8, 10])"
   ]
  },
  {
   "cell_type": "markdown",
   "id": "d0327911-05f9-4a65-96fc-87659a3aa996",
   "metadata": {},
   "source": [
    "Or it can be plotted in an interactive window using qt:"
   ]
  },
  {
   "cell_type": "code",
   "execution_count": null,
   "id": "ba5ea2da-26d0-478f-b947-a46e447c3df4",
   "metadata": {},
   "outputs": [],
   "source": [
    "%matplotlib qt"
   ]
  },
  {
   "cell_type": "code",
   "execution_count": null,
   "id": "6f3927fe-c006-4430-b558-1c469ecc1d41",
   "metadata": {},
   "outputs": [],
   "source": [
    "plt.plot([1, 2, 3, 4, 5], [2, 4, 6, 8, 10])"
   ]
  },
  {
   "cell_type": "markdown",
   "id": "4420adf5-3940-4724-959d-5b2ced55c5eb",
   "metadata": {},
   "source": [
    "The line magic ```%pprint``` can be used to change pretty print settings which will attempt to pretty print collections such as ```list``` and ```dict``` instances:"
   ]
  },
  {
   "cell_type": "code",
   "execution_count": null,
   "id": "5a61d66f-20f0-44e5-88cc-00e6ba6c56a7",
   "metadata": {},
   "outputs": [],
   "source": [
    "%pprint?"
   ]
  },
  {
   "cell_type": "markdown",
   "id": "488234db-f5e8-4873-946b-2fe093f82bd3",
   "metadata": {},
   "source": [
    "For example the ```dict``` instance ```CSS4_COLORS``` can be examined with and without pretty printing:"
   ]
  },
  {
   "cell_type": "code",
   "execution_count": null,
   "id": "4d73d0c6-c487-4e23-acb3-dcb0bef52260",
   "metadata": {},
   "outputs": [],
   "source": [
    "%pprint"
   ]
  },
  {
   "cell_type": "code",
   "execution_count": null,
   "id": "6f8727b3-c06d-4f78-9204-fb32b11f0ba6",
   "metadata": {
    "scrolled": true
   },
   "outputs": [],
   "source": [
    "mpl.colors.CSS4_COLORS"
   ]
  },
  {
   "cell_type": "code",
   "execution_count": null,
   "id": "d0ba030d-104c-4c09-809e-c52e4a63df3e",
   "metadata": {},
   "outputs": [],
   "source": [
    "%pprint"
   ]
  },
  {
   "cell_type": "code",
   "execution_count": null,
   "id": "4550c9e9-5aa0-4098-a185-3db13f91d778",
   "metadata": {
    "scrolled": true
   },
   "outputs": [],
   "source": [
    "mpl.colors.CSS4_COLORS"
   ]
  },
  {
   "cell_type": "markdown",
   "id": "291531c3-42fb-49dd-bdd7-f4df96310536",
   "metadata": {},
   "source": [
    "The line magic ```%history``` gives the command history:"
   ]
  },
  {
   "cell_type": "code",
   "execution_count": null,
   "id": "187a75c1-05f3-4af2-91f1-4471d6d689fe",
   "metadata": {
    "scrolled": true
   },
   "outputs": [],
   "source": [
    "%history?"
   ]
  },
  {
   "cell_type": "markdown",
   "id": "7f18eea0-b04d-4b21-ba18-6161286c8da4",
   "metadata": {},
   "source": [
    "It has the alias ```%hist```:"
   ]
  },
  {
   "cell_type": "code",
   "execution_count": null,
   "id": "442c266f-b941-4975-a27f-4742324b9762",
   "metadata": {},
   "outputs": [],
   "source": [
    "%hist?"
   ]
  },
  {
   "cell_type": "code",
   "execution_count": null,
   "id": "cab4b4ad-fdb9-4abd-a546-d5540302e366",
   "metadata": {
    "scrolled": true
   },
   "outputs": [],
   "source": [
    "%history"
   ]
  },
  {
   "cell_type": "markdown",
   "id": "85101426-fa92-4496-afde-3fd4a216c68c",
   "metadata": {},
   "source": [
    "The line magics ```%conda```, ```%mamba``` and ```%pip``` are for the respective package managers. For a conda environment only the ```conda``` package manager should be used. ```conda``` now uses the ```libmamba``` solver by default. Unfortunately when the ipython magic ```%conda``` is used on Windows:\n",
    "\n",
    "```python\n",
    "%conda list\n",
    "```\n",
    "\n",
    "The following error displays ```error: incomplete escape \\U at position 28``` which means under the hood a raw string isn't be used to represent a Windows path where it should."
   ]
  },
  {
   "cell_type": "code",
   "execution_count": null,
   "id": "cd5febc5-72bb-45cb-b446-61f4e1b5a672",
   "metadata": {},
   "outputs": [],
   "source": []
  }
 ],
 "metadata": {
  "kernelspec": {
   "display_name": "Python 3 (ipykernel)",
   "language": "python",
   "name": "python3"
  },
  "language_info": {
   "codemirror_mode": {
    "name": "ipython",
    "version": 3
   },
   "file_extension": ".py",
   "mimetype": "text/x-python",
   "name": "python",
   "nbconvert_exporter": "python",
   "pygments_lexer": "ipython3",
   "version": "3.12.1"
  }
 },
 "nbformat": 4,
 "nbformat_minor": 5
}
