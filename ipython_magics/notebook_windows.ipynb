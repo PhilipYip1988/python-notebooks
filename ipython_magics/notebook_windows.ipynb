{
 "cells": [
  {
   "cell_type": "markdown",
   "id": "0892fd0f-71be-4d08-b482-096c987d5709",
   "metadata": {},
   "source": [
    "# IPython Magics (Windows)"
   ]
  },
  {
   "cell_type": "markdown",
   "id": "f66d54b6-554c-49f2-a9f0-e4c35a43d584",
   "metadata": {},
   "source": [
    "## Shells"
   ]
  },
  {
   "cell_type": "markdown",
   "id": "9871fba8-0aca-415e-92fb-62aff0a4f91e",
   "metadata": {},
   "source": [
    "In order to prevent confusion between programming languages, the following recap will be made.\n",
    "\n",
    "The Windows Terminal uses PowerShell by default.\n",
    "\n",
    "PowerShell Prompt:\n",
    "\n",
    "```powershell\n",
    "(base) PS ~>\n",
    "```\n",
    "\n",
    "PowerShell can be used to launch Python:\n",
    "\n",
    "```powershell\n",
    "(base) PS ~> python\n",
    "```\n",
    "\n",
    "Python Prompt:\n",
    "\n",
    "```python\n",
    ">>> \n",
    "```\n",
    "\n",
    "The Python program can be exited using the ```exit``` function returning to the PowerShell Prompt:\n",
    "\n",
    "```python\n",
    ">>> exit()\n",
    "(base) PS ~>\n",
    "```\n",
    "\n",
    "PowerShell can be used to launch IPython:\n",
    "\n",
    "```powershell\n",
    "(base) PS ~> ipython\n",
    "```\n",
    "\n",
    "IPython Prompt:\n",
    "\n",
    "```python\n",
    "[1] \n",
    "```\n",
    "\n",
    "The IPython program can be exited using the ```exit``` function returning to the PowerShell Prompt:\n",
    "\n",
    "```python\n",
    "[1] exit\n",
    "(base) PS ~>\n",
    "```\n",
    "\n",
    "On Windows there are 2 Shell programming languages; PowerShell which is the modern programming language and CMD which is the legacy programming language. CMD can be launched from PowerShell using:\n",
    "\n",
    "```powershell\n",
    "(base) PS ~> cmd\n",
    "```\n",
    "\n",
    "CMD Prompt:\n",
    "\n",
    "```cmd\n",
    "~>\n",
    "```\n",
    "\n",
    "This CMD command ```exit``` can be used to exit, returning to a PowerShell Prompt:\n",
    "\n",
    "```cmd\n",
    "~> exit\n",
    "(base) PS ~>\n",
    "```\n"
   ]
  },
  {
   "cell_type": "markdown",
   "id": "b9aff41d-adb5-4dca-8010-ab22f32fd6e3",
   "metadata": {},
   "source": [
    "## IPython Cells"
   ]
  },
  {
   "cell_type": "markdown",
   "id": "235abfcd-a3c8-4712-a43a-a74e2d4ec474",
   "metadata": {},
   "source": [
    "An interactive Python notebook uses an IPython shell by default. This is why all the cells are numbered like in IPython when executed:"
   ]
  },
  {
   "cell_type": "code",
   "execution_count": 1,
   "id": "86a77932-8401-406d-b6cd-6c36b0de7a13",
   "metadata": {},
   "outputs": [
    {
     "name": "stdout",
     "output_type": "stream",
     "text": [
      "Hello World!\n"
     ]
    }
   ],
   "source": [
    "print('Hello World!')"
   ]
  },
  {
   "cell_type": "markdown",
   "id": "a2891d2f-35de-40b0-a80a-cc6fdfe7fba1",
   "metadata": {},
   "source": [
    "## IPython Magics"
   ]
  },
  {
   "cell_type": "markdown",
   "id": "cb9a3cc8-2bee-4a7a-9cf7-b5e892c82f78",
   "metadata": {},
   "source": [
    "IPython also has access to IPython Magics. These are reimplementations of CMD commands in Python. CMD is used opposed to PowerShell because IPython originally supported Windows 7 which only had CMD. \n",
    "\n",
    "```%lsmagic``` can be used to list the IPython magics. These are split into line and cell magics. In a notebook the magics will output using JSON and one can interactively examine the output:"
   ]
  },
  {
   "cell_type": "code",
   "execution_count": 2,
   "id": "7f944d73-397f-4df6-80b9-0e020b6e8fe5",
   "metadata": {},
   "outputs": [
    {
     "data": {
      "application/json": {
       "cell": {
        "!": "OSMagics",
        "HTML": "Other",
        "SVG": "Other",
        "bash": "Other",
        "capture": "ExecutionMagics",
        "cmd": "Other",
        "code_wrap": "ExecutionMagics",
        "debug": "ExecutionMagics",
        "file": "Other",
        "html": "DisplayMagics",
        "javascript": "DisplayMagics",
        "js": "DisplayMagics",
        "latex": "DisplayMagics",
        "markdown": "DisplayMagics",
        "perl": "Other",
        "prun": "ExecutionMagics",
        "pypy": "Other",
        "python": "Other",
        "python2": "Other",
        "python3": "Other",
        "ruby": "Other",
        "script": "ScriptMagics",
        "sh": "Other",
        "svg": "DisplayMagics",
        "sx": "OSMagics",
        "system": "OSMagics",
        "time": "ExecutionMagics",
        "timeit": "ExecutionMagics",
        "writefile": "OSMagics"
       },
       "line": {
        "alias": "OSMagics",
        "alias_magic": "BasicMagics",
        "autoawait": "AsyncMagics",
        "autocall": "AutoMagics",
        "automagic": "AutoMagics",
        "autosave": "KernelMagics",
        "bookmark": "OSMagics",
        "cd": "OSMagics",
        "clear": "KernelMagics",
        "cls": "KernelMagics",
        "code_wrap": "ExecutionMagics",
        "colors": "BasicMagics",
        "conda": "PackagingMagics",
        "config": "ConfigMagics",
        "connect_info": "KernelMagics",
        "copy": "Other",
        "ddir": "Other",
        "debug": "ExecutionMagics",
        "dhist": "OSMagics",
        "dirs": "OSMagics",
        "doctest_mode": "BasicMagics",
        "echo": "Other",
        "ed": "Other",
        "edit": "KernelMagics",
        "env": "OSMagics",
        "gui": "BasicMagics",
        "hist": "Other",
        "history": "HistoryMagics",
        "killbgscripts": "ScriptMagics",
        "ldir": "Other",
        "less": "KernelMagics",
        "load": "CodeMagics",
        "load_ext": "ExtensionMagics",
        "loadpy": "CodeMagics",
        "logoff": "LoggingMagics",
        "logon": "LoggingMagics",
        "logstart": "LoggingMagics",
        "logstate": "LoggingMagics",
        "logstop": "LoggingMagics",
        "ls": "Other",
        "lsmagic": "BasicMagics",
        "macro": "ExecutionMagics",
        "magic": "BasicMagics",
        "mamba": "PackagingMagics",
        "matplotlib": "PylabMagics",
        "micromamba": "PackagingMagics",
        "mkdir": "Other",
        "more": "KernelMagics",
        "notebook": "BasicMagics",
        "page": "BasicMagics",
        "pastebin": "CodeMagics",
        "pdb": "ExecutionMagics",
        "pdef": "NamespaceMagics",
        "pdoc": "NamespaceMagics",
        "pfile": "NamespaceMagics",
        "pinfo": "NamespaceMagics",
        "pinfo2": "NamespaceMagics",
        "pip": "PackagingMagics",
        "popd": "OSMagics",
        "pprint": "BasicMagics",
        "precision": "BasicMagics",
        "prun": "ExecutionMagics",
        "psearch": "NamespaceMagics",
        "psource": "NamespaceMagics",
        "pushd": "OSMagics",
        "pwd": "OSMagics",
        "pycat": "OSMagics",
        "pylab": "PylabMagics",
        "qtconsole": "KernelMagics",
        "quickref": "BasicMagics",
        "recall": "HistoryMagics",
        "rehashx": "OSMagics",
        "reload_ext": "ExtensionMagics",
        "ren": "Other",
        "rep": "Other",
        "rerun": "HistoryMagics",
        "reset": "NamespaceMagics",
        "reset_selective": "NamespaceMagics",
        "rmdir": "Other",
        "run": "ExecutionMagics",
        "save": "CodeMagics",
        "sc": "OSMagics",
        "set_env": "OSMagics",
        "store": "StoreMagics",
        "sx": "OSMagics",
        "system": "OSMagics",
        "tb": "ExecutionMagics",
        "time": "ExecutionMagics",
        "timeit": "ExecutionMagics",
        "unalias": "OSMagics",
        "unload_ext": "ExtensionMagics",
        "who": "NamespaceMagics",
        "who_ls": "NamespaceMagics",
        "whos": "NamespaceMagics",
        "xdel": "NamespaceMagics",
        "xmode": "BasicMagics"
       }
      },
      "text/plain": [
       "Available line magics:\n",
       "%alias  %alias_magic  %autoawait  %autocall  %automagic  %autosave  %bookmark  %cd  %clear  %cls  %code_wrap  %colors  %conda  %config  %connect_info  %copy  %ddir  %debug  %dhist  %dirs  %doctest_mode  %echo  %ed  %edit  %env  %gui  %hist  %history  %killbgscripts  %ldir  %less  %load  %load_ext  %loadpy  %logoff  %logon  %logstart  %logstate  %logstop  %ls  %lsmagic  %macro  %magic  %mamba  %matplotlib  %micromamba  %mkdir  %more  %notebook  %page  %pastebin  %pdb  %pdef  %pdoc  %pfile  %pinfo  %pinfo2  %pip  %popd  %pprint  %precision  %prun  %psearch  %psource  %pushd  %pwd  %pycat  %pylab  %qtconsole  %quickref  %recall  %rehashx  %reload_ext  %ren  %rep  %rerun  %reset  %reset_selective  %rmdir  %run  %save  %sc  %set_env  %store  %sx  %system  %tb  %time  %timeit  %unalias  %unload_ext  %who  %who_ls  %whos  %xdel  %xmode\n",
       "\n",
       "Available cell magics:\n",
       "%%!  %%HTML  %%SVG  %%bash  %%capture  %%cmd  %%code_wrap  %%debug  %%file  %%html  %%javascript  %%js  %%latex  %%markdown  %%perl  %%prun  %%pypy  %%python  %%python2  %%python3  %%ruby  %%script  %%sh  %%svg  %%sx  %%system  %%time  %%timeit  %%writefile\n",
       "\n",
       "Automagic is ON, % prefix IS NOT needed for line magics."
      ]
     },
     "execution_count": 2,
     "metadata": {},
     "output_type": "execute_result"
    }
   ],
   "source": [
    "%lsmagic"
   ]
  },
  {
   "cell_type": "markdown",
   "id": "2bff0e9a-bfe5-47ee-9f3c-156a70597d97",
   "metadata": {},
   "source": [
    "If IPython is opened from the Windows Terminal the following will display:\n",
    "\n",
    "```\n",
    "Available line magics:\n",
    "%alias  %alias_magic  %autoawait  %autocall  %autoindent  %automagic  %bookmark  %cd  %cls  %code_wrap  %colors  %conda  %config  %copy  %cpaste  %ddir  %debug  %dhist  %dirs  %doctest_mode  %echo  %ed  %edit  %env  %gui  %hist  %history  %killbgscripts  %ldir  %load  %load_ext  %loadpy  %logoff  %logon  %logstart  %logstate  %logstop  %ls  %lsmagic  %macro  %magic  %mamba  %matplotlib  %micromamba  %mkdir  %notebook  %page  %paste  %pastebin  %pdb  %pdef  %pdoc  %pfile  %pinfo  %pinfo2  %pip  %popd  %pprint  %precision  %prun  %psearch  %psource  %pushd  %pwd  %pycat  %pylab  %quickref  %recall  %rehashx  %reload_ext  %ren  %rep  %rerun  %reset  %reset_selective  %rmdir  %run  %save  %sc  %set_env  %store  %sx  %system  %tb  %time  %timeit  %unalias  %unload_ext  %who  %who_ls  %whos  %xdel  %xmode\n",
    "\n",
    "Available cell magics:\n",
    "%%!  %%HTML  %%SVG  %%bash  %%capture  %%cmd  %%code_wrap  %%debug  %%file  %%html  %%javascript  %%js  %%latex  %%markdown  %%perl  %%prun  %%pypy  %%python  %%python2  %%python3  %%ruby  %%script  %%sh  %%svg  %%sx  %%system  %%time  %%timeit  %%writefile\n",
    "\n",
    "Automagic is ON, % prefix IS NOT needed for line magics.\n",
    "```"
   ]
  },
  {
   "cell_type": "markdown",
   "id": "78754db5-ee30-4b97-a162-ec7b34604dfa",
   "metadata": {},
   "source": [
    "A line magic is normally prefixed with a ```%``` which indicates an IPython magic is used:"
   ]
  },
  {
   "cell_type": "code",
   "execution_count": 3,
   "id": "3cee61b5-b06d-4079-ac26-6c0fb08873ee",
   "metadata": {},
   "outputs": [
    {
     "name": "stdout",
     "output_type": "stream",
     "text": [
      " Volume in drive C is Windows\n",
      " Volume Serial Number is 06FD-FC80\n",
      "\n",
      " Directory of C:\\Users\\pyip\\Documents\\GitHub\\python-notebooks\\ipython_magics\n",
      "\n",
      "05/02/2024  17:58    <DIR>          .\n",
      "05/02/2024  12:55    <DIR>          ..\n",
      "05/02/2024  14:47    <DIR>          .ipynb_checkpoints\n",
      "11/01/2024  10:23    <DIR>          __pycache__\n",
      "05/02/2024  12:55            47,922 notebook.ipynb\n",
      "05/02/2024  17:58           111,866 notebook_windows.ipynb\n",
      "               2 File(s)        159,788 bytes\n",
      "               4 Dir(s)  340,511,739,904 bytes free\n"
     ]
    }
   ],
   "source": [
    "%ls"
   ]
  },
  {
   "cell_type": "markdown",
   "id": "ea7cbc12-83de-426b-9145-7d418515e4d6",
   "metadata": {},
   "source": [
    "Because automagic is on, it is also possible to use a line magic without the ```%``` sign but less common to do so:"
   ]
  },
  {
   "cell_type": "code",
   "execution_count": 4,
   "id": "f8f1b293-4a13-4805-b865-aeeb6eeb137e",
   "metadata": {},
   "outputs": [
    {
     "data": {
      "text/plain": [
       "\u001b[1;31mDocstring:\u001b[0m\n",
       "Make magic functions callable without having to type the initial %.\n",
       "\n",
       "Without arguments toggles on/off (when off, you must call it as\n",
       "%automagic, of course).  With arguments it sets the value, and you can\n",
       "use any of (case insensitive):\n",
       "\n",
       " - on, 1, True: to activate\n",
       "\n",
       " - off, 0, False: to deactivate.\n",
       "\n",
       "Note that magic functions have lowest priority, so if there's a\n",
       "variable whose name collides with that of a magic fn, automagic won't\n",
       "work for that function (you get the variable instead). However, if you\n",
       "delete the variable (del var), the previously shadowed magic function\n",
       "becomes visible to automagic again.\n",
       "\u001b[1;31mFile:\u001b[0m      c:\\users\\pyip\\miniconda3\\envs\\vscode-env\\lib\\site-packages\\ipython\\core\\magics\\auto.py"
      ]
     },
     "metadata": {},
     "output_type": "display_data"
    }
   ],
   "source": [
    "%automagic?"
   ]
  },
  {
   "cell_type": "code",
   "execution_count": 5,
   "id": "7b521b49-fbb3-4d13-9b5f-1f4bf85067ca",
   "metadata": {},
   "outputs": [
    {
     "name": "stdout",
     "output_type": "stream",
     "text": [
      " Volume in drive C is Windows\n",
      " Volume Serial Number is 06FD-FC80\n",
      "\n",
      " Directory of C:\\Users\\pyip\\Documents\\GitHub\\python-notebooks\\ipython_magics\n",
      "\n",
      "05/02/2024  17:58    <DIR>          .\n",
      "05/02/2024  12:55    <DIR>          ..\n",
      "05/02/2024  14:47    <DIR>          .ipynb_checkpoints\n",
      "11/01/2024  10:23    <DIR>          __pycache__\n",
      "05/02/2024  12:55            47,922 notebook.ipynb\n",
      "05/02/2024  17:58           111,866 notebook_windows.ipynb\n",
      "               2 File(s)        159,788 bytes\n",
      "               4 Dir(s)  340,511,637,504 bytes free\n"
     ]
    }
   ],
   "source": [
    "ls"
   ]
  },
  {
   "cell_type": "markdown",
   "id": "d2112939-d9c5-4ed7-ad44-b6868d1ffd99",
   "metadata": {},
   "source": [
    "A cell magic begins with ```%%``` and occupies a cell:"
   ]
  },
  {
   "cell_type": "code",
   "execution_count": 6,
   "id": "efc046e2-b9b1-4ce4-9dc7-788a198dbb28",
   "metadata": {},
   "outputs": [
    {
     "name": "stdout",
     "output_type": "stream",
     "text": [
      "Writing script.py\n"
     ]
    }
   ],
   "source": [
    "%%writefile script.py\n",
    "print('Hello World!')\n",
    "print('Hello World!')"
   ]
  },
  {
   "cell_type": "markdown",
   "id": "f2055d68-7b55-4b44-9461-822831bb5c93",
   "metadata": {},
   "source": [
    "This script can be run using the cell magic ```%run```:"
   ]
  },
  {
   "cell_type": "code",
   "execution_count": 7,
   "id": "25c65719-1c93-4029-99a2-f78604211ec8",
   "metadata": {},
   "outputs": [
    {
     "name": "stdout",
     "output_type": "stream",
     "text": [
      "Hello World!\n",
      "Hello World!\n"
     ]
    }
   ],
   "source": [
    "%run script.py"
   ]
  },
  {
   "cell_type": "markdown",
   "id": "6d7d8e0c-6036-48ed-8dc0-880cade6cb39",
   "metadata": {},
   "source": [
    "```%run``` is an IPython magic used to execute a Python script and ```%%python``` is a cell magic used to run Python code (opening a Python Shell within an IPython Cell):"
   ]
  },
  {
   "cell_type": "code",
   "execution_count": 8,
   "id": "f1e5361d-2f5d-47e2-8f47-67787a700137",
   "metadata": {},
   "outputs": [
    {
     "name": "stdout",
     "output_type": "stream",
     "text": [
      "Hello World!\n",
      "Hello World!\n"
     ]
    }
   ],
   "source": [
    "%%python\n",
    "print('Hello World!')\n",
    "print('Hello World!')"
   ]
  },
  {
   "cell_type": "markdown",
   "id": "6a8414bb-e5fa-4e87-a44e-5f0e81930aff",
   "metadata": {},
   "source": [
    "## CMD Commands"
   ]
  },
  {
   "cell_type": "markdown",
   "id": "a7d1eb41-1cd9-4a95-98a5-8cb48bef19af",
   "metadata": {},
   "source": [
    "A CMD command can be run directly using the prefix ```!```, the CMD command ```python``` that the line magic ```%run``` and cell magic ```%%python``` are based on can be used to run a script file. Because the Python shell closes after the script file is executed, this works as expected:"
   ]
  },
  {
   "cell_type": "code",
   "execution_count": 9,
   "id": "8f56275d-e582-46b0-b2e6-3f9b8e2c41ab",
   "metadata": {},
   "outputs": [
    {
     "name": "stdout",
     "output_type": "stream",
     "text": [
      "Hello World!\n",
      "Hello World!\n"
     ]
    }
   ],
   "source": [
    "!python script.py"
   ]
  },
  {
   "cell_type": "markdown",
   "id": "966503a2-e5e1-484b-868b-4674711123f2",
   "metadata": {},
   "source": [
    "If however the following is run:\n",
    "\n",
    "```python\n",
    "!python\n",
    "print('Hello World!')\n",
    "print('Hello World!')\n",
    "```\n",
    "\n",
    "The IPython cell will freeze as the Python program has not closed. Generally a preference should be made for IPython magics when available over their original CMD counterparts as they have been updated to work properly within an IPython cell:"
   ]
  },
  {
   "cell_type": "code",
   "execution_count": null,
   "id": "ec53dbb2-c539-4a95-9a1c-895e100f9a36",
   "metadata": {},
   "outputs": [],
   "source": []
  },
  {
   "cell_type": "markdown",
   "id": "687afcba-af64-46d4-bfe9-bccb440912bf",
   "metadata": {},
   "source": [
    "Details about these two commands can be seen using ```?```"
   ]
  },
  {
   "cell_type": "code",
   "execution_count": 10,
   "id": "d42e4a55-a650-4987-b9ce-8d99e87621d9",
   "metadata": {
    "scrolled": true
   },
   "outputs": [
    {
     "data": {
      "text/plain": [
       "\u001b[1;31mDocstring:\u001b[0m\n",
       "Run the named file inside IPython as a program.\n",
       "\n",
       "Usage::\n",
       "\n",
       "  %run [-n -i -e -G]\n",
       "       [( -t [-N<N>] | -d [-b<N>] | -p [profile options] )]\n",
       "       ( -m mod | filename ) [args]\n",
       "\n",
       "The filename argument should be either a pure Python script (with\n",
       "extension ``.py``), or a file with custom IPython syntax (such as\n",
       "magics). If the latter, the file can be either a script with ``.ipy``\n",
       "extension, or a Jupyter notebook with ``.ipynb`` extension. When running\n",
       "a Jupyter notebook, the output from print statements and other\n",
       "displayed objects will appear in the terminal (even matplotlib figures\n",
       "will open, if a terminal-compliant backend is being used). Note that,\n",
       "at the system command line, the ``jupyter run`` command offers similar\n",
       "functionality for executing notebooks (albeit currently with some\n",
       "differences in supported options).\n",
       "\n",
       "Parameters after the filename are passed as command-line arguments to\n",
       "the program (put in sys.argv). Then, control returns to IPython's\n",
       "prompt.\n",
       "\n",
       "This is similar to running at a system prompt ``python file args``,\n",
       "but with the advantage of giving you IPython's tracebacks, and of\n",
       "loading all variables into your interactive namespace for further use\n",
       "(unless -p is used, see below).\n",
       "\n",
       "The file is executed in a namespace initially consisting only of\n",
       "``__name__=='__main__'`` and sys.argv constructed as indicated. It thus\n",
       "sees its environment as if it were being run as a stand-alone program\n",
       "(except for sharing global objects such as previously imported\n",
       "modules). But after execution, the IPython interactive namespace gets\n",
       "updated with all variables defined in the program (except for __name__\n",
       "and sys.argv). This allows for very convenient loading of code for\n",
       "interactive work, while giving each program a 'clean sheet' to run in.\n",
       "\n",
       "Arguments are expanded using shell-like glob match.  Patterns\n",
       "'*', '?', '[seq]' and '[!seq]' can be used.  Additionally,\n",
       "tilde '~' will be expanded into user's home directory.  Unlike\n",
       "real shells, quotation does not suppress expansions.  Use\n",
       "*two* back slashes (e.g. ``\\\\*``) to suppress expansions.\n",
       "To completely disable these expansions, you can use -G flag.\n",
       "\n",
       "On Windows systems, the use of single quotes `'` when specifying\n",
       "a file is not supported. Use double quotes `\"`.\n",
       "\n",
       "Options:\n",
       "\n",
       "-n\n",
       "  __name__ is NOT set to '__main__', but to the running file's name\n",
       "  without extension (as python does under import).  This allows running\n",
       "  scripts and reloading the definitions in them without calling code\n",
       "  protected by an ``if __name__ == \"__main__\"`` clause.\n",
       "\n",
       "-i\n",
       "  run the file in IPython's namespace instead of an empty one. This\n",
       "  is useful if you are experimenting with code written in a text editor\n",
       "  which depends on variables defined interactively.\n",
       "\n",
       "-e\n",
       "  ignore sys.exit() calls or SystemExit exceptions in the script\n",
       "  being run.  This is particularly useful if IPython is being used to\n",
       "  run unittests, which always exit with a sys.exit() call.  In such\n",
       "  cases you are interested in the output of the test results, not in\n",
       "  seeing a traceback of the unittest module.\n",
       "\n",
       "-t\n",
       "  print timing information at the end of the run.  IPython will give\n",
       "  you an estimated CPU time consumption for your script, which under\n",
       "  Unix uses the resource module to avoid the wraparound problems of\n",
       "  time.clock().  Under Unix, an estimate of time spent on system tasks\n",
       "  is also given (for Windows platforms this is reported as 0.0).\n",
       "\n",
       "If -t is given, an additional ``-N<N>`` option can be given, where <N>\n",
       "must be an integer indicating how many times you want the script to\n",
       "run.  The final timing report will include total and per run results.\n",
       "\n",
       "For example (testing the script uniq_stable.py)::\n",
       "\n",
       "    In [1]: run -t uniq_stable\n",
       "\n",
       "    IPython CPU timings (estimated):\n",
       "      User  :    0.19597 s.\n",
       "      System:        0.0 s.\n",
       "\n",
       "    In [2]: run -t -N5 uniq_stable\n",
       "\n",
       "    IPython CPU timings (estimated):\n",
       "    Total runs performed: 5\n",
       "      Times :      Total       Per run\n",
       "      User  :   0.910862 s,  0.1821724 s.\n",
       "      System:        0.0 s,        0.0 s.\n",
       "\n",
       "-d\n",
       "  run your program under the control of pdb, the Python debugger.\n",
       "  This allows you to execute your program step by step, watch variables,\n",
       "  etc.  Internally, what IPython does is similar to calling::\n",
       "\n",
       "      pdb.run('execfile(\"YOURFILENAME\")')\n",
       "\n",
       "  with a breakpoint set on line 1 of your file.  You can change the line\n",
       "  number for this automatic breakpoint to be <N> by using the -bN option\n",
       "  (where N must be an integer). For example::\n",
       "\n",
       "      %run -d -b40 myscript\n",
       "\n",
       "  will set the first breakpoint at line 40 in myscript.py.  Note that\n",
       "  the first breakpoint must be set on a line which actually does\n",
       "  something (not a comment or docstring) for it to stop execution.\n",
       "\n",
       "  Or you can specify a breakpoint in a different file::\n",
       "\n",
       "      %run -d -b myotherfile.py:20 myscript\n",
       "\n",
       "  When the pdb debugger starts, you will see a (Pdb) prompt.  You must\n",
       "  first enter 'c' (without quotes) to start execution up to the first\n",
       "  breakpoint.\n",
       "\n",
       "  Entering 'help' gives information about the use of the debugger.  You\n",
       "  can easily see pdb's full documentation with \"import pdb;pdb.help()\"\n",
       "  at a prompt.\n",
       "\n",
       "-p\n",
       "  run program under the control of the Python profiler module (which\n",
       "  prints a detailed report of execution times, function calls, etc).\n",
       "\n",
       "  You can pass other options after -p which affect the behavior of the\n",
       "  profiler itself. See the docs for %prun for details.\n",
       "\n",
       "  In this mode, the program's variables do NOT propagate back to the\n",
       "  IPython interactive namespace (because they remain in the namespace\n",
       "  where the profiler executes them).\n",
       "\n",
       "  Internally this triggers a call to %prun, see its documentation for\n",
       "  details on the options available specifically for profiling.\n",
       "\n",
       "There is one special usage for which the text above doesn't apply:\n",
       "if the filename ends with .ipy[nb], the file is run as ipython script,\n",
       "just as if the commands were written on IPython prompt.\n",
       "\n",
       "-m\n",
       "  specify module name to load instead of script path. Similar to\n",
       "  the -m option for the python interpreter. Use this option last if you\n",
       "  want to combine with other %run options. Unlike the python interpreter\n",
       "  only source modules are allowed no .pyc or .pyo files.\n",
       "  For example::\n",
       "\n",
       "      %run -m example\n",
       "\n",
       "  will run the example module.\n",
       "\n",
       "-G\n",
       "  disable shell-like glob expansion of arguments.\n",
       "\u001b[1;31mFile:\u001b[0m      c:\\users\\pyip\\miniconda3\\envs\\vscode-env\\lib\\site-packages\\ipython\\core\\magics\\execution.py"
      ]
     },
     "metadata": {},
     "output_type": "display_data"
    }
   ],
   "source": [
    "%run?"
   ]
  },
  {
   "cell_type": "code",
   "execution_count": 11,
   "id": "4f28fb6e-8ea6-4349-9e52-18222b234e87",
   "metadata": {},
   "outputs": [
    {
     "data": {
      "text/plain": [
       "\u001b[1;31mDocstring:\u001b[0m\n",
       "%%python script magic\n",
       "\n",
       "Run cells with python in a subprocess.\n",
       "\n",
       "This is a shortcut for `%%script python`\n",
       "\u001b[1;31mFile:\u001b[0m      c:\\users\\pyip\\miniconda3\\envs\\vscode-env\\lib\\site-packages\\ipython\\core\\magics\\script.py"
      ]
     },
     "metadata": {},
     "output_type": "display_data"
    }
   ],
   "source": [
    "%%python?"
   ]
  },
  {
   "cell_type": "code",
   "execution_count": null,
   "id": "3913a244-d09e-4970-aeda-684eabe0f56c",
   "metadata": {},
   "outputs": [],
   "source": []
  },
  {
   "cell_type": "markdown",
   "id": "81d2a5a9-633d-4419-bb48-bc7ee793d905",
   "metadata": {},
   "source": [
    "The list of commonly used CMD commands can be viewed using the CMD command ```help```, recall this is prefixed with a ```!```:"
   ]
  },
  {
   "cell_type": "code",
   "execution_count": 12,
   "id": "ac006dd1-e950-4de3-a8f4-032d71ebca33",
   "metadata": {
    "scrolled": true
   },
   "outputs": [
    {
     "name": "stdout",
     "output_type": "stream",
     "text": [
      "For more information on a specific command, type HELP command-name\n",
      "ASSOC          Displays or modifies file extension associations.\n",
      "ATTRIB         Displays or changes file attributes.\n",
      "BREAK          Sets or clears extended CTRL+C checking.\n",
      "BCDEDIT        Sets properties in boot database to control boot loading.\n",
      "CACLS          Displays or modifies access control lists (ACLs) of files.\n",
      "CALL           Calls one batch program from another.\n",
      "CD             Displays the name of or changes the current directory.\n",
      "CHCP           Displays or sets the active code page number.\n",
      "CHDIR          Displays the name of or changes the current directory.\n",
      "CHKDSK         Checks a disk and displays a status report.\n",
      "CHKNTFS        Displays or modifies the checking of disk at boot time.\n",
      "CLS            Clears the screen.\n",
      "CMD            Starts a new instance of the Windows command interpreter.\n",
      "COLOR          Sets the default console foreground and background colors.\n",
      "COMP           Compares the contents of two files or sets of files.\n",
      "COMPACT        Displays or alters the compression of files on NTFS partitions.\n",
      "CONVERT        Converts FAT volumes to NTFS.  You cannot convert the\n",
      "               current drive.\n",
      "COPY           Copies one or more files to another location.\n",
      "DATE           Displays or sets the date.\n",
      "DEL            Deletes one or more files.\n",
      "DIR            Displays a list of files and subdirectories in a directory.\n",
      "DISKPART       Displays or configures Disk Partition properties.\n",
      "DOSKEY         Edits command lines, recalls Windows commands, and \n",
      "               creates macros.\n",
      "DRIVERQUERY    Displays current device driver status and properties.\n",
      "ECHO           Displays messages, or turns command echoing on or off.\n",
      "ENDLOCAL       Ends localization of environment changes in a batch file.\n",
      "ERASE          Deletes one or more files.\n",
      "EXIT           Quits the CMD.EXE program (command interpreter).\n",
      "FC             Compares two files or sets of files, and displays the \n",
      "               differences between them.\n",
      "FIND           Searches for a text string in a file or files.\n",
      "FINDSTR        Searches for strings in files.\n",
      "FOR            Runs a specified command for each file in a set of files.\n",
      "FORMAT         Formats a disk for use with Windows.\n",
      "FSUTIL         Displays or configures the file system properties.\n",
      "FTYPE          Displays or modifies file types used in file extension \n",
      "               associations.\n",
      "GOTO           Directs the Windows command interpreter to a labeled line in \n",
      "               a batch program.\n",
      "GPRESULT       Displays Group Policy information for machine or user.\n",
      "GRAFTABL       Enables Windows to display an extended character set in \n",
      "               graphics mode.\n",
      "HELP           Provides Help information for Windows commands.\n",
      "ICACLS         Display, modify, backup, or restore ACLs for files and \n",
      "               directories.\n",
      "IF             Performs conditional processing in batch programs.\n",
      "LABEL          Creates, changes, or deletes the volume label of a disk.\n",
      "MD             Creates a directory.\n",
      "MKDIR          Creates a directory.\n",
      "MKLINK         Creates Symbolic Links and Hard Links\n",
      "MODE           Configures a system device.\n",
      "MORE           Displays output one screen at a time.\n",
      "MOVE           Moves one or more files from one directory to another \n",
      "               directory.\n",
      "OPENFILES      Displays files opened by remote users for a file share.\n",
      "PATH           Displays or sets a search path for executable files.\n",
      "PAUSE          Suspends processing of a batch file and displays a message.\n",
      "POPD           Restores the previous value of the current directory saved by \n",
      "               PUSHD.\n",
      "PRINT          Prints a text file.\n",
      "PROMPT         Changes the Windows command prompt.\n",
      "PUSHD          Saves the current directory then changes it.\n",
      "RD             Removes a directory.\n",
      "RECOVER        Recovers readable information from a bad or defective disk.\n",
      "REM            Records comments (remarks) in batch files or CONFIG.SYS.\n",
      "REN            Renames a file or files.\n",
      "RENAME         Renames a file or files.\n",
      "REPLACE        Replaces files.\n",
      "RMDIR          Removes a directory.\n",
      "ROBOCOPY       Advanced utility to copy files and directory trees\n",
      "SET            Displays, sets, or removes Windows environment variables.\n",
      "SETLOCAL       Begins localization of environment changes in a batch file.\n",
      "SC             Displays or configures services (background processes).\n",
      "SCHTASKS       Schedules commands and programs to run on a computer.\n",
      "SHIFT          Shifts the position of replaceable parameters in batch files.\n",
      "SHUTDOWN       Allows proper local or remote shutdown of machine.\n",
      "SORT           Sorts input.\n",
      "START          Starts a separate window to run a specified program or command.\n",
      "SUBST          Associates a path with a drive letter.\n",
      "SYSTEMINFO     Displays machine specific properties and configuration.\n",
      "TASKLIST       Displays all currently running tasks including services.\n",
      "TASKKILL       Kill or stop a running process or application.\n",
      "TIME           Displays or sets the system time.\n",
      "TITLE          Sets the window title for a CMD.EXE session.\n",
      "TREE           Graphically displays the directory structure of a drive or \n",
      "               path.\n",
      "TYPE           Displays the contents of a text file.\n",
      "VER            Displays the Windows version.\n",
      "VERIFY         Tells Windows whether to verify that your files are written\n",
      "               correctly to a disk.\n",
      "VOL            Displays a disk volume label and serial number.\n",
      "XCOPY          Copies files and directory trees.\n",
      "WMIC           Displays WMI information inside interactive command shell.\n",
      "\n",
      "For more information on tools see the command-line reference in the online help.\n"
     ]
    }
   ],
   "source": [
    "!help"
   ]
  },
  {
   "cell_type": "markdown",
   "id": "f9c10c67-9f94-4457-b99c-41bf7e372eae",
   "metadata": {},
   "source": [
    "Although the commands above are shown in capitals, they can also be used in lower case:"
   ]
  },
  {
   "cell_type": "code",
   "execution_count": 13,
   "id": "d8e9e734-3152-4fe3-90f9-b3be18689aff",
   "metadata": {},
   "outputs": [
    {
     "name": "stdout",
     "output_type": "stream",
     "text": [
      " Volume in drive C is Windows\n",
      " Volume Serial Number is 06FD-FC80\n",
      "\n",
      " Directory of C:\\Users\\pyip\\Documents\\GitHub\\python-notebooks\\ipython_magics\n",
      "\n",
      "05/02/2024  17:58    <DIR>          .\n",
      "05/02/2024  12:55    <DIR>          ..\n",
      "05/02/2024  14:47    <DIR>          .ipynb_checkpoints\n",
      "05/02/2024  12:55            47,922 notebook.ipynb\n",
      "05/02/2024  17:58           111,866 notebook_windows.ipynb\n",
      "05/02/2024  17:58                46 script.py\n",
      "11/01/2024  10:23    <DIR>          __pycache__\n",
      "               3 File(s)        159,834 bytes\n",
      "               4 Dir(s)  340,511,633,408 bytes free\n"
     ]
    }
   ],
   "source": [
    "!DIR"
   ]
  },
  {
   "cell_type": "code",
   "execution_count": 14,
   "id": "cef09553-85f2-462f-b498-d636fd225ec0",
   "metadata": {},
   "outputs": [
    {
     "name": "stdout",
     "output_type": "stream",
     "text": [
      " Volume in drive C is Windows\n",
      " Volume Serial Number is 06FD-FC80\n",
      "\n",
      " Directory of C:\\Users\\pyip\\Documents\\GitHub\\python-notebooks\\ipython_magics\n",
      "\n",
      "05/02/2024  17:58    <DIR>          .\n",
      "05/02/2024  12:55    <DIR>          ..\n",
      "05/02/2024  14:47    <DIR>          .ipynb_checkpoints\n",
      "05/02/2024  12:55            47,922 notebook.ipynb\n",
      "05/02/2024  17:58           111,866 notebook_windows.ipynb\n",
      "05/02/2024  17:58                46 script.py\n",
      "11/01/2024  10:23    <DIR>          __pycache__\n",
      "               3 File(s)        159,834 bytes\n",
      "               4 Dir(s)  340,511,453,184 bytes free\n"
     ]
    }
   ],
   "source": [
    "!dir"
   ]
  },
  {
   "cell_type": "markdown",
   "id": "919ea08b-2c03-438a-b006-14724d441b2c",
   "metadata": {},
   "source": [
    "The IPython magic on the other hand has to be in lowercase:"
   ]
  },
  {
   "cell_type": "code",
   "execution_count": 15,
   "id": "84f57d98-e473-43fc-9c05-404abd5d6980",
   "metadata": {},
   "outputs": [
    {
     "name": "stdout",
     "output_type": "stream",
     "text": [
      " Volume in drive C is Windows\n",
      " Volume Serial Number is 06FD-FC80\n",
      "\n",
      " Directory of C:\\Users\\pyip\\Documents\\GitHub\\python-notebooks\\ipython_magics\n",
      "\n",
      "05/02/2024  17:58    <DIR>          .\n",
      "05/02/2024  12:55    <DIR>          ..\n",
      "05/02/2024  14:47    <DIR>          .ipynb_checkpoints\n",
      "11/01/2024  10:23    <DIR>          __pycache__\n",
      "05/02/2024  12:55            47,922 notebook.ipynb\n",
      "05/02/2024  17:58           111,866 notebook_windows.ipynb\n",
      "05/02/2024  17:58                46 script.py\n",
      "               3 File(s)        159,834 bytes\n",
      "               4 Dir(s)  340,511,453,184 bytes free\n"
     ]
    }
   ],
   "source": [
    "%ls"
   ]
  },
  {
   "cell_type": "markdown",
   "id": "1693ba42-0157-4d0c-892a-7fd15ee0a16f",
   "metadata": {},
   "source": [
    "The CMD command ```dir``` lists all the subdirectories and files in a directory, with the default argument being the current working directory.\n",
    "\n",
    "The Python function ```dir``` lists all the identifiers belonging to a Python ```object``` with the default being the global namespace.\n",
    "\n",
    "```%dir``` is not available as an IPython magic, because ```dir``` is a keyword in Python and therefore there would be confusion when the instruction when ```dir``` is used. Instead the ```bash``` command ```ls``` is used which is equivalent.\n",
    "\n",
    "Note in PowerShell ```ls``` is an alias of ```dir``` but ```ls``` does not exist in CMD."
   ]
  },
  {
   "cell_type": "code",
   "execution_count": 16,
   "id": "3e36078c-8023-433a-980f-db8c16df93ee",
   "metadata": {},
   "outputs": [
    {
     "data": {
      "text/plain": [
       "\u001b[1;31mRepr:\u001b[0m <alias ls for 'dir /on'>"
      ]
     },
     "metadata": {},
     "output_type": "display_data"
    }
   ],
   "source": [
    "%ls?"
   ]
  },
  {
   "cell_type": "markdown",
   "id": "1f8e03ec-f83b-4757-821e-15fac6fad10c",
   "metadata": {},
   "source": [
    "The CMD command ```del``` is used to delete a file.\n",
    "\n",
    "The Python keyword ```del``` is used to delete a reference.\n",
    "\n",
    "```%del``` is not available as an IPython magic, because ```del``` is a keyword and therefore would be confusion when ```del``` is used. Unfortunately there is no alias to ```%rm```. To delete a file, the ```!``` needs to be used which specifies use of the CMD command:"
   ]
  },
  {
   "cell_type": "code",
   "execution_count": 17,
   "id": "e03eee23-24b7-466e-85be-bc83937d6466",
   "metadata": {},
   "outputs": [],
   "source": [
    "!del script.py"
   ]
  },
  {
   "cell_type": "markdown",
   "id": "23dae3fd-6796-4ce1-9eb1-fe8c5300589d",
   "metadata": {},
   "source": [
    "If the script file is recreated:"
   ]
  },
  {
   "cell_type": "code",
   "execution_count": 18,
   "id": "4a27c702-729f-45ec-87b4-1515a14dbdde",
   "metadata": {},
   "outputs": [
    {
     "name": "stdout",
     "output_type": "stream",
     "text": [
      "Writing script.py\n"
     ]
    }
   ],
   "source": [
    "%%writefile script.py\n",
    "print('Hello World!')\n",
    "print('Hello World!')"
   ]
  },
  {
   "cell_type": "markdown",
   "id": "3431f9b7-5178-4bf7-ba91-aeae4b522d6b",
   "metadata": {},
   "source": [
    "The IPython line magic ```%alias``` can be used to view the list of alias, the ones shown are available by default:"
   ]
  },
  {
   "cell_type": "code",
   "execution_count": 19,
   "id": "bfd5ccd5-d89f-4b59-bf30-0f15992cbad8",
   "metadata": {},
   "outputs": [
    {
     "name": "stdout",
     "output_type": "stream",
     "text": [
      "Total number of aliases: 8\n"
     ]
    },
    {
     "data": {
      "text/plain": [
       "[('copy', 'copy'),\n",
       " ('ddir', 'dir /ad /on'),\n",
       " ('echo', 'echo'),\n",
       " ('ldir', 'dir /ad /on'),\n",
       " ('ls', 'dir /on'),\n",
       " ('mkdir', 'mkdir'),\n",
       " ('ren', 'ren'),\n",
       " ('rmdir', 'rmdir')]"
      ]
     },
     "execution_count": 19,
     "metadata": {},
     "output_type": "execute_result"
    }
   ],
   "source": [
    "%alias"
   ]
  },
  {
   "cell_type": "markdown",
   "id": "6a2b21ba-b7ff-4783-a83b-69e4035f543e",
   "metadata": {},
   "source": [
    "A new alias can be created using this line magic:"
   ]
  },
  {
   "cell_type": "code",
   "execution_count": 20,
   "id": "663be773-52d0-4a76-b6c2-d9d182d79b83",
   "metadata": {
    "scrolled": true
   },
   "outputs": [
    {
     "data": {
      "text/plain": [
       "\u001b[1;31mDocstring:\u001b[0m\n",
       "Define an alias for a system command.\n",
       "\n",
       "'%alias alias_name cmd' defines 'alias_name' as an alias for 'cmd'\n",
       "\n",
       "Then, typing 'alias_name params' will execute the system command 'cmd\n",
       "params' (from your underlying operating system).\n",
       "\n",
       "Aliases have lower precedence than magic functions and Python normal\n",
       "variables, so if 'foo' is both a Python variable and an alias, the\n",
       "alias can not be executed until 'del foo' removes the Python variable.\n",
       "\n",
       "You can use the %l specifier in an alias definition to represent the\n",
       "whole line when the alias is called.  For example::\n",
       "\n",
       "  In [2]: alias bracket echo \"Input in brackets: <%l>\"\n",
       "  In [3]: bracket hello world\n",
       "  Input in brackets: <hello world>\n",
       "\n",
       "You can also define aliases with parameters using %s specifiers (one\n",
       "per parameter)::\n",
       "\n",
       "  In [1]: alias parts echo first %s second %s\n",
       "  In [2]: %parts A B\n",
       "  first A second B\n",
       "  In [3]: %parts A\n",
       "  Incorrect number of arguments: 2 expected.\n",
       "  parts is an alias to: 'echo first %s second %s'\n",
       "\n",
       "Note that %l and %s are mutually exclusive.  You can only use one or\n",
       "the other in your aliases.\n",
       "\n",
       "Aliases expand Python variables just like system calls using ! or !!\n",
       "do: all expressions prefixed with '$' get expanded.  For details of\n",
       "the semantic rules, see PEP-215:\n",
       "https://peps.python.org/pep-0215/.  This is the library used by\n",
       "IPython for variable expansion.  If you want to access a true shell\n",
       "variable, an extra $ is necessary to prevent its expansion by\n",
       "IPython::\n",
       "\n",
       "  In [6]: alias show echo\n",
       "  In [7]: PATH='A Python string'\n",
       "  In [8]: show $PATH\n",
       "  A Python string\n",
       "  In [9]: show $$PATH\n",
       "  /usr/local/lf9560/bin:/usr/local/intel/compiler70/ia32/bin:...\n",
       "\n",
       "You can use the alias facility to access all of $PATH.  See the %rehashx\n",
       "function, which automatically creates aliases for the contents of your\n",
       "$PATH.\n",
       "\n",
       "If called with no parameters, %alias prints the current alias table\n",
       "for your system.  For posix systems, the default aliases are 'cat',\n",
       "'cp', 'mv', 'rm', 'rmdir', and 'mkdir', and other platform-specific\n",
       "aliases are added.  For windows-based systems, the default aliases are\n",
       "'copy', 'ddir', 'echo', 'ls', 'ldir', 'mkdir', 'ren', and 'rmdir'.\n",
       "\n",
       "You can see the definition of alias by adding a question mark in the\n",
       "end::\n",
       "\n",
       "  In [1]: cat?\n",
       "  Repr: <alias cat for 'cat'>\n",
       "\u001b[1;31mFile:\u001b[0m      c:\\users\\pyip\\miniconda3\\envs\\vscode-env\\lib\\site-packages\\ipython\\core\\magics\\osm.py"
      ]
     },
     "metadata": {},
     "output_type": "display_data"
    }
   ],
   "source": [
    "%alias?"
   ]
  },
  {
   "cell_type": "markdown",
   "id": "ab7fc726-148e-483d-aaad-30e14dc9c6e6",
   "metadata": {},
   "source": [
    "Then the cmd command ```del``` can be used using the new line magic ```%rm```:"
   ]
  },
  {
   "cell_type": "code",
   "execution_count": 21,
   "id": "05793244-b673-47f2-aa54-f67518c2f449",
   "metadata": {},
   "outputs": [],
   "source": [
    "%alias rm del"
   ]
  },
  {
   "cell_type": "markdown",
   "id": "ac0f5aff-39e2-405a-b819-a882c797ca96",
   "metadata": {},
   "source": [
    "Now this command is added:"
   ]
  },
  {
   "cell_type": "code",
   "execution_count": 22,
   "id": "3c67a615-7c90-4ada-ab69-323d18a3c473",
   "metadata": {},
   "outputs": [
    {
     "name": "stdout",
     "output_type": "stream",
     "text": [
      "Total number of aliases: 9\n"
     ]
    },
    {
     "data": {
      "text/plain": [
       "[('copy', 'copy'),\n",
       " ('ddir', 'dir /ad /on'),\n",
       " ('echo', 'echo'),\n",
       " ('ldir', 'dir /ad /on'),\n",
       " ('ls', 'dir /on'),\n",
       " ('mkdir', 'mkdir'),\n",
       " ('ren', 'ren'),\n",
       " ('rm', 'del'),\n",
       " ('rmdir', 'rmdir')]"
      ]
     },
     "execution_count": 22,
     "metadata": {},
     "output_type": "execute_result"
    }
   ],
   "source": [
    "%alias"
   ]
  },
  {
   "cell_type": "code",
   "execution_count": 23,
   "id": "8657cbc6-f38f-4870-861d-f13270de8d3e",
   "metadata": {},
   "outputs": [],
   "source": [
    "%rm script.py"
   ]
  },
  {
   "cell_type": "markdown",
   "id": "e7107764-9168-4904-a8dc-c6451651861c",
   "metadata": {},
   "source": [
    "Because automagic is enabled, the following also works:"
   ]
  },
  {
   "cell_type": "code",
   "execution_count": 24,
   "id": "48ddb812-4256-4248-b9f4-1392d619f613",
   "metadata": {},
   "outputs": [
    {
     "name": "stdout",
     "output_type": "stream",
     "text": [
      "Writing script.py\n"
     ]
    }
   ],
   "source": [
    "%%writefile script.py\n",
    "print('Hello World!')\n",
    "print('Hello World!')"
   ]
  },
  {
   "cell_type": "code",
   "execution_count": 25,
   "id": "74be88aa-8efe-43a1-b93e-1388cf15b282",
   "metadata": {},
   "outputs": [],
   "source": [
    "rm script.py"
   ]
  },
  {
   "cell_type": "markdown",
   "id": "62e6568f-617e-4acc-b9c4-1097db3fe552",
   "metadata": {},
   "source": [
    "PowerShell can be launched from ```CMD``` using the command ```powershell``` however when this is implemented using:\n",
    "\n",
    "```python\n",
    "!powershell\n",
    "```\n",
    "\n",
    "The command line will freeze because there is no instruction to exit, this was also seen when ```!python``` was used."
   ]
  },
  {
   "cell_type": "code",
   "execution_count": null,
   "id": "4d5bf852-39c1-4c4c-8778-bb3755eae598",
   "metadata": {},
   "outputs": [],
   "source": []
  },
  {
   "cell_type": "markdown",
   "id": "e58d3206-6d4a-45e8-ad4a-d23877e9a675",
   "metadata": {},
   "source": [
    "If a ```powershell``` command is used that does not wait for a prompt, it will execute and then close:"
   ]
  },
  {
   "cell_type": "code",
   "execution_count": 26,
   "id": "db2210e6-b7e8-4efa-b669-a5fa10edcb00",
   "metadata": {
    "scrolled": true
   },
   "outputs": [
    {
     "name": "stdout",
     "output_type": "stream",
     "text": [
      "\n",
      "TOPIC\n",
      "    Windows PowerShell Help System\n",
      "\n",
      "SHORT DESCRIPTION\n",
      "    Displays help about Windows PowerShell cmdlets and concepts. \n",
      "\n",
      "LONG DESCRIPTION\n",
      "    Windows PowerShell Help describes Windows PowerShell cmdlets,\n",
      "    functions, scripts, and modules, and explains concepts, including\n",
      "    the elements of the Windows PowerShell language.\n",
      "\n",
      "    Windows PowerShell does not include help files, but you can read the\n",
      "    help topics online, or use the Update-Help cmdlet to download help files\n",
      "    to your computer and then use the Get-Help cmdlet to display the help\n",
      "    topics at the command line.\n",
      "\n",
      "    You can also use the Update-Help cmdlet to download updated help files\n",
      "    as they are released so that your local help content is never obsolete. \n",
      "\n",
      "    Without help files, Get-Help displays auto-generated help for cmdlets, \n",
      "    functions, and scripts.\n",
      "\n",
      "\n",
      "  ONLINE HELP    \n",
      "    You can find help for Windows PowerShell online in the TechNet Library\n",
      "    beginning at http://go.microsoft.com/fwlink/?LinkID=108518. \n",
      "\n",
      "    To open online help for any cmdlet or function, type:\n",
      "\n",
      "        Get-Help <cmdlet-name> -Online    \n",
      "\n",
      "  UPDATE-HELP\n",
      "    To download and install help files on your computer:\n",
      "\n",
      "       1. Start Windows PowerShell with the \"Run as administrator\" option.\n",
      "       2. Type:\n",
      "\n",
      "          Update-Help\n",
      "\n",
      "    After the help files are installed, you can use the Get-Help cmdlet to\n",
      "    display the help topics. You can also use the Update-Help cmdlet to\n",
      "    download updated help files so that your local help files are always\n",
      "    up-to-date.\n",
      "    \n",
      "    For more information about the Update-Help cmdlet, type:\n",
      "\n",
      "       Get-Help Update-Help -Online\n",
      "\n",
      "    or go to: http://go.microsoft.com/fwlink/?LinkID=210614\n",
      "\n",
      "\n",
      "  GET-HELP\n",
      "    The Get-Help cmdlet displays help at the command line from content in\n",
      "    help files on your computer. Without help files, Get-Help displays basic\n",
      "    help about cmdlets and functions. You can also use Get-Help to display\n",
      "    online help for cmdlets and functions.\n",
      "\n",
      "    To get help for a cmdlet, type:\n",
      "\n",
      "        Get-Help <cmdlet-name>\n",
      "    \n",
      "    To get online help, type:\n",
      "   \n",
      "        Get-Help <cmdlet-name> -Online    \n",
      "\n",
      "    The titles of conceptual topics begin with \"About_\".\n",
      "    To get help for a concept or language element, type:\n",
      "\n",
      "        Get-Help About_<topic-name>\n",
      "\n",
      "    To search for a word or phrase in all help files, type:\n",
      "\n",
      "        Get-Help <search-term>\n",
      "\n",
      "    For more information about the Get-Help cmdlet, type:\n",
      "\n",
      "        Get-Help Get-Help -Online\n",
      "\n",
      "    or go to: http://go.microsoft.com/fwlink/?LinkID=113316\n",
      "\n",
      "\n",
      "  EXAMPLES:\n",
      "      Save-Help              : Download help files from the Internet and saves\n",
      "                               them on a file share.\n",
      "      Update-Help            : Downloads and installs help files from the\n",
      "                               Internet or a file share.\n",
      "      Get-Help Get-Process   : Displays help about the Get-Process cmdlet.   \n",
      "      Get-Help Get-Process -Online\n",
      "                             : Opens online help for the Get-Process cmdlet.                            \n",
      "      Help Get-Process       : Displays help about Get-Process one page at a time.\n",
      "      Get-Process -?         : Displays help about the Get-Process cmdlet.      \n",
      "      Get-Help About_Modules : Displays help about Windows PowerShell modules.\n",
      "      Get-Help remoting      : Searches the help topics for the word \"remoting.\"\n",
      "\n",
      "  SEE ALSO:\n",
      "      about_Updatable_Help\n",
      "      Get-Help\n",
      "      Save-Help\n",
      "      Update-Help\n",
      "\n",
      "\n",
      "\n",
      "\n",
      "\n",
      "\n",
      "\n",
      "\n",
      "\n",
      "\n",
      "\n",
      "\n",
      "\n",
      "\n"
     ]
    }
   ],
   "source": [
    "!powershell help"
   ]
  },
  {
   "cell_type": "markdown",
   "id": "d3ba4126-33a5-4aa2-8622-5a65b1d9248f",
   "metadata": {},
   "source": [
    "CMD has no equivalent to the PowerShell command ```New-Item``` which can be used to create a blank file:"
   ]
  },
  {
   "cell_type": "code",
   "execution_count": 27,
   "id": "ce8bf42e-f7d1-47f2-a450-84de8e919d5e",
   "metadata": {},
   "outputs": [
    {
     "name": "stdout",
     "output_type": "stream",
     "text": [
      "\n",
      "\n",
      "    Directory: C:\\Users\\pyip\\Documents\\GitHub\\python-notebooks\\ipython_magics\n",
      "\n",
      "\n",
      "Mode                 LastWriteTime         Length Name                                                                              \n",
      "----                 -------------         ------ ----                                                                              \n",
      "-a----        05/02/2024     17:58              0 empty_image.png                                                                   \n",
      "\n",
      "\n"
     ]
    }
   ],
   "source": [
    "!powershell new-item empty_image.png"
   ]
  },
  {
   "cell_type": "markdown",
   "id": "cd85269e-b96e-4560-8650-1d3d8f464a51",
   "metadata": {},
   "source": [
    "And an alias to this powershell command can be created using:"
   ]
  },
  {
   "cell_type": "code",
   "execution_count": 28,
   "id": "7cd385f3-1778-410f-8082-fa96b0f11691",
   "metadata": {},
   "outputs": [],
   "source": [
    "%alias new-item powershell new-item"
   ]
  },
  {
   "cell_type": "code",
   "execution_count": 29,
   "id": "c6c1afa9-42d0-4583-aee0-0a58a8cf0029",
   "metadata": {},
   "outputs": [
    {
     "name": "stdout",
     "output_type": "stream",
     "text": [
      "Total number of aliases: 10\n"
     ]
    },
    {
     "data": {
      "text/plain": [
       "[('copy', 'copy'),\n",
       " ('ddir', 'dir /ad /on'),\n",
       " ('echo', 'echo'),\n",
       " ('ldir', 'dir /ad /on'),\n",
       " ('ls', 'dir /on'),\n",
       " ('mkdir', 'mkdir'),\n",
       " ('new-item', 'powershell new-item'),\n",
       " ('ren', 'ren'),\n",
       " ('rm', 'del'),\n",
       " ('rmdir', 'rmdir')]"
      ]
     },
     "execution_count": 29,
     "metadata": {},
     "output_type": "execute_result"
    }
   ],
   "source": [
    "%alias"
   ]
  },
  {
   "cell_type": "markdown",
   "id": "2289bb86-534b-4ec0-a086-7b14d5b218e5",
   "metadata": {},
   "source": [
    "This can be used to create a blank text file:"
   ]
  },
  {
   "cell_type": "code",
   "execution_count": 30,
   "id": "584ee612-0929-4bd1-93ab-972cb0e81e39",
   "metadata": {},
   "outputs": [
    {
     "name": "stdout",
     "output_type": "stream",
     "text": [
      "\n",
      "\n",
      "    Directory: C:\\Users\\pyip\\Documents\\GitHub\\python-notebooks\\ipython_magics\n",
      "\n",
      "\n",
      "Mode                 LastWriteTime         Length Name                                                                              \n",
      "----                 -------------         ------ ----                                                                              \n",
      "-a----        05/02/2024     17:58              0 empty.txt                                                                         \n",
      "\n",
      "\n"
     ]
    }
   ],
   "source": [
    "%new-item empty.txt"
   ]
  },
  {
   "cell_type": "markdown",
   "id": "c37e9b99-04b9-4e18-b44e-11450505cbcb",
   "metadata": {},
   "source": [
    "These can be removed using:"
   ]
  },
  {
   "cell_type": "code",
   "execution_count": 31,
   "id": "19a62603-264e-4df5-bc38-a3b38388e48e",
   "metadata": {},
   "outputs": [],
   "source": [
    "%rm empty.txt\n",
    "%rm empty_image.png"
   ]
  },
  {
   "cell_type": "markdown",
   "id": "a3f939e6-d3b1-4982-bccb-b56a0fca794c",
   "metadata": {},
   "source": [
    "Note powershell commands often incorporate ```-``` to space out words in a command name. In Python, the ```-``` is recognised as an operator. Despite automagics being enabled use of a custom linemagic which incroporates a ```-``` will result in Python attempting to use the ```-``` as an operator and usually result in a ```NameError```:\n",
    "\n",
    "```python\n",
    "new-item\n",
    "```\n",
    "\n",
    "For example ```NameError: name 'new' is not defined```."
   ]
  },
  {
   "cell_type": "code",
   "execution_count": null,
   "id": "caf3f861-ff66-4235-89fd-d8d0f4358491",
   "metadata": {},
   "outputs": [],
   "source": []
  },
  {
   "cell_type": "markdown",
   "id": "de978357-b8ff-46b2-8568-80fec882560d",
   "metadata": {},
   "source": [
    "## Commonly Used Commands"
   ]
  },
  {
   "cell_type": "markdown",
   "id": "0f83232b-9cc0-4b65-8cd8-58b6b4f92ccd",
   "metadata": {},
   "source": [
    "```%lsmagic``` as mentioned can be used to view a list of the IPython magics:"
   ]
  },
  {
   "cell_type": "code",
   "execution_count": 32,
   "id": "2311bc48-a5a2-45e5-98cf-8b7a2ef48a38",
   "metadata": {},
   "outputs": [
    {
     "data": {
      "application/json": {
       "cell": {
        "!": "OSMagics",
        "HTML": "Other",
        "SVG": "Other",
        "bash": "Other",
        "capture": "ExecutionMagics",
        "cmd": "Other",
        "code_wrap": "ExecutionMagics",
        "debug": "ExecutionMagics",
        "file": "Other",
        "html": "DisplayMagics",
        "javascript": "DisplayMagics",
        "js": "DisplayMagics",
        "latex": "DisplayMagics",
        "markdown": "DisplayMagics",
        "perl": "Other",
        "prun": "ExecutionMagics",
        "pypy": "Other",
        "python": "Other",
        "python2": "Other",
        "python3": "Other",
        "ruby": "Other",
        "script": "ScriptMagics",
        "sh": "Other",
        "svg": "DisplayMagics",
        "sx": "OSMagics",
        "system": "OSMagics",
        "time": "ExecutionMagics",
        "timeit": "ExecutionMagics",
        "writefile": "OSMagics"
       },
       "line": {
        "alias": "OSMagics",
        "alias_magic": "BasicMagics",
        "autoawait": "AsyncMagics",
        "autocall": "AutoMagics",
        "automagic": "AutoMagics",
        "autosave": "KernelMagics",
        "bookmark": "OSMagics",
        "cd": "OSMagics",
        "clear": "KernelMagics",
        "cls": "KernelMagics",
        "code_wrap": "ExecutionMagics",
        "colors": "BasicMagics",
        "conda": "PackagingMagics",
        "config": "ConfigMagics",
        "connect_info": "KernelMagics",
        "copy": "Other",
        "ddir": "Other",
        "debug": "ExecutionMagics",
        "dhist": "OSMagics",
        "dirs": "OSMagics",
        "doctest_mode": "BasicMagics",
        "echo": "Other",
        "ed": "Other",
        "edit": "KernelMagics",
        "env": "OSMagics",
        "gui": "BasicMagics",
        "hist": "Other",
        "history": "HistoryMagics",
        "killbgscripts": "ScriptMagics",
        "ldir": "Other",
        "less": "KernelMagics",
        "load": "CodeMagics",
        "load_ext": "ExtensionMagics",
        "loadpy": "CodeMagics",
        "logoff": "LoggingMagics",
        "logon": "LoggingMagics",
        "logstart": "LoggingMagics",
        "logstate": "LoggingMagics",
        "logstop": "LoggingMagics",
        "ls": "Other",
        "lsmagic": "BasicMagics",
        "macro": "ExecutionMagics",
        "magic": "BasicMagics",
        "mamba": "PackagingMagics",
        "matplotlib": "PylabMagics",
        "micromamba": "PackagingMagics",
        "mkdir": "Other",
        "more": "KernelMagics",
        "new-item": "Other",
        "notebook": "BasicMagics",
        "page": "BasicMagics",
        "pastebin": "CodeMagics",
        "pdb": "ExecutionMagics",
        "pdef": "NamespaceMagics",
        "pdoc": "NamespaceMagics",
        "pfile": "NamespaceMagics",
        "pinfo": "NamespaceMagics",
        "pinfo2": "NamespaceMagics",
        "pip": "PackagingMagics",
        "popd": "OSMagics",
        "pprint": "BasicMagics",
        "precision": "BasicMagics",
        "prun": "ExecutionMagics",
        "psearch": "NamespaceMagics",
        "psource": "NamespaceMagics",
        "pushd": "OSMagics",
        "pwd": "OSMagics",
        "pycat": "OSMagics",
        "pylab": "PylabMagics",
        "qtconsole": "KernelMagics",
        "quickref": "BasicMagics",
        "recall": "HistoryMagics",
        "rehashx": "OSMagics",
        "reload_ext": "ExtensionMagics",
        "ren": "Other",
        "rep": "Other",
        "rerun": "HistoryMagics",
        "reset": "NamespaceMagics",
        "reset_selective": "NamespaceMagics",
        "rm": "Other",
        "rmdir": "Other",
        "run": "ExecutionMagics",
        "save": "CodeMagics",
        "sc": "OSMagics",
        "set_env": "OSMagics",
        "store": "StoreMagics",
        "sx": "OSMagics",
        "system": "OSMagics",
        "tb": "ExecutionMagics",
        "time": "ExecutionMagics",
        "timeit": "ExecutionMagics",
        "unalias": "OSMagics",
        "unload_ext": "ExtensionMagics",
        "who": "NamespaceMagics",
        "who_ls": "NamespaceMagics",
        "whos": "NamespaceMagics",
        "xdel": "NamespaceMagics",
        "xmode": "BasicMagics"
       }
      },
      "text/plain": [
       "Available line magics:\n",
       "%alias  %alias_magic  %autoawait  %autocall  %automagic  %autosave  %bookmark  %cd  %clear  %cls  %code_wrap  %colors  %conda  %config  %connect_info  %copy  %ddir  %debug  %dhist  %dirs  %doctest_mode  %echo  %ed  %edit  %env  %gui  %hist  %history  %killbgscripts  %ldir  %less  %load  %load_ext  %loadpy  %logoff  %logon  %logstart  %logstate  %logstop  %ls  %lsmagic  %macro  %magic  %mamba  %matplotlib  %micromamba  %mkdir  %more  %new-item  %notebook  %page  %pastebin  %pdb  %pdef  %pdoc  %pfile  %pinfo  %pinfo2  %pip  %popd  %pprint  %precision  %prun  %psearch  %psource  %pushd  %pwd  %pycat  %pylab  %qtconsole  %quickref  %recall  %rehashx  %reload_ext  %ren  %rep  %rerun  %reset  %reset_selective  %rm  %rmdir  %run  %save  %sc  %set_env  %store  %sx  %system  %tb  %time  %timeit  %unalias  %unload_ext  %who  %who_ls  %whos  %xdel  %xmode\n",
       "\n",
       "Available cell magics:\n",
       "%%!  %%HTML  %%SVG  %%bash  %%capture  %%cmd  %%code_wrap  %%debug  %%file  %%html  %%javascript  %%js  %%latex  %%markdown  %%perl  %%prun  %%pypy  %%python  %%python2  %%python3  %%ruby  %%script  %%sh  %%svg  %%sx  %%system  %%time  %%timeit  %%writefile\n",
       "\n",
       "Automagic is ON, % prefix IS NOT needed for line magics."
      ]
     },
     "execution_count": 32,
     "metadata": {},
     "output_type": "execute_result"
    }
   ],
   "source": [
    "%lsmagic"
   ]
  },
  {
   "cell_type": "markdown",
   "id": "6cad8617-126c-44c2-8364-d56b751b6ba1",
   "metadata": {},
   "source": [
    "The ```echo``` command is the CMD equivalent for a ```print``` statement:"
   ]
  },
  {
   "cell_type": "code",
   "execution_count": 33,
   "id": "57887b1a-b2b4-43c3-8026-20c3407b560c",
   "metadata": {},
   "outputs": [
    {
     "data": {
      "text/plain": [
       "\u001b[1;31mRepr:\u001b[0m <alias echo for 'echo'>"
      ]
     },
     "metadata": {},
     "output_type": "display_data"
    }
   ],
   "source": [
    "%echo?"
   ]
  },
  {
   "cell_type": "code",
   "execution_count": 34,
   "id": "4411323f-a5f4-4fcd-ada1-84dcff7ab028",
   "metadata": {},
   "outputs": [
    {
     "name": "stdout",
     "output_type": "stream",
     "text": [
      "'Hello World!'\n"
     ]
    }
   ],
   "source": [
    "%echo 'Hello World!'"
   ]
  },
  {
   "cell_type": "markdown",
   "id": "e8fa099c-acab-4e5f-a940-c4be8b38ebce",
   "metadata": {},
   "source": [
    "The most commonly used operations are alias for file operations:"
   ]
  },
  {
   "cell_type": "markdown",
   "id": "67d017f7-edb1-47b2-9549-f24051816b7e",
   "metadata": {},
   "source": [
    "The cell magic ```%%writefile``` can be used to create a new file:"
   ]
  },
  {
   "cell_type": "code",
   "execution_count": 35,
   "id": "38ea3964-e274-49e1-9c13-ce5a56ec85c3",
   "metadata": {},
   "outputs": [
    {
     "name": "stdout",
     "output_type": "stream",
     "text": [
      "Writing script.py\n"
     ]
    }
   ],
   "source": [
    "%%writefile script.py\n",
    "print('Hello World!')"
   ]
  },
  {
   "cell_type": "markdown",
   "id": "79203927-0a14-4852-8ed2-d47b7474a05c",
   "metadata": {},
   "source": [
    "The cell magic ```%copy``` can be used to copy the file:"
   ]
  },
  {
   "cell_type": "code",
   "execution_count": 36,
   "id": "317180a6-ac5f-4e0a-87d8-bda4902b3020",
   "metadata": {},
   "outputs": [
    {
     "name": "stdout",
     "output_type": "stream",
     "text": [
      "        1 file(s) copied.\n"
     ]
    }
   ],
   "source": [
    "%copy script.py script2.py"
   ]
  },
  {
   "cell_type": "markdown",
   "id": "a7b8485a-f237-47f9-99db-b99b0bb7f9cd",
   "metadata": {},
   "source": [
    "There are three line magics related to the CMD command ```dir```. The option ```/on``` specifies to order by name and ```/ad``` means attribute directory, in other words to list only the folders:"
   ]
  },
  {
   "cell_type": "code",
   "execution_count": 37,
   "id": "545c3ff5-388b-44af-8071-7cbe8f02274a",
   "metadata": {},
   "outputs": [
    {
     "data": {
      "text/plain": [
       "\u001b[1;31mRepr:\u001b[0m <alias ls for 'dir /on'>"
      ]
     },
     "metadata": {},
     "output_type": "display_data"
    }
   ],
   "source": [
    "%ls?"
   ]
  },
  {
   "cell_type": "code",
   "execution_count": 38,
   "id": "2030c012-bd76-404d-aac7-0b4be26cf110",
   "metadata": {},
   "outputs": [
    {
     "data": {
      "text/plain": [
       "\u001b[1;31mRepr:\u001b[0m <alias ldir for 'dir /ad /on'>"
      ]
     },
     "metadata": {},
     "output_type": "display_data"
    }
   ],
   "source": [
    "%ldir?"
   ]
  },
  {
   "cell_type": "code",
   "execution_count": 39,
   "id": "df4fac30-a498-4933-97f9-600e98cbf3ac",
   "metadata": {},
   "outputs": [
    {
     "data": {
      "text/plain": [
       "\u001b[1;31mRepr:\u001b[0m <alias ddir for 'dir /ad /on'>"
      ]
     },
     "metadata": {},
     "output_type": "display_data"
    }
   ],
   "source": [
    "%ddir?"
   ]
  },
  {
   "cell_type": "markdown",
   "id": "2b00b5a7-387f-4647-8729-1eaeb102996c",
   "metadata": {},
   "source": [
    "The line magics ```%mkdir``` and ```%rmdir``` can be used to make and remove directories. Note that use of a space will make separate folders:"
   ]
  },
  {
   "cell_type": "code",
   "execution_count": 40,
   "id": "8a450f8b-d722-42cd-847a-3f2675bef50f",
   "metadata": {},
   "outputs": [],
   "source": [
    "%mkdir new folder"
   ]
  },
  {
   "cell_type": "code",
   "execution_count": 41,
   "id": "60551fd3-4f98-4c41-9864-c833ba4977f4",
   "metadata": {},
   "outputs": [
    {
     "name": "stdout",
     "output_type": "stream",
     "text": [
      " Volume in drive C is Windows\n",
      " Volume Serial Number is 06FD-FC80\n",
      "\n",
      " Directory of C:\\Users\\pyip\\Documents\\GitHub\\python-notebooks\\ipython_magics\n",
      "\n",
      "05/02/2024  17:58    <DIR>          .\n",
      "05/02/2024  12:55    <DIR>          ..\n",
      "05/02/2024  14:47    <DIR>          .ipynb_checkpoints\n",
      "11/01/2024  10:23    <DIR>          __pycache__\n",
      "05/02/2024  17:58    <DIR>          folder\n",
      "05/02/2024  17:58    <DIR>          new\n",
      "               0 File(s)              0 bytes\n",
      "               6 Dir(s)  340,510,806,016 bytes free\n"
     ]
    }
   ],
   "source": [
    "%ddir"
   ]
  },
  {
   "cell_type": "code",
   "execution_count": 42,
   "id": "37a47f2f-9a95-43a6-a425-9611a5038e16",
   "metadata": {},
   "outputs": [],
   "source": [
    "%rmdir new\n",
    "%rmdir folder"
   ]
  },
  {
   "cell_type": "markdown",
   "id": "51aabf38-1e8e-4bdf-a058-e633294c3afa",
   "metadata": {},
   "source": [
    "A single quotation can be used in a directories name:"
   ]
  },
  {
   "cell_type": "code",
   "execution_count": 43,
   "id": "3e144b65-e776-4cbf-aca6-be3d04330e0b",
   "metadata": {},
   "outputs": [],
   "source": [
    "%mkdir 'new folder'"
   ]
  },
  {
   "cell_type": "code",
   "execution_count": 44,
   "id": "2f387295-989e-4213-ac64-2e0a856def27",
   "metadata": {},
   "outputs": [
    {
     "name": "stdout",
     "output_type": "stream",
     "text": [
      " Volume in drive C is Windows\n",
      " Volume Serial Number is 06FD-FC80\n",
      "\n",
      " Directory of C:\\Users\\pyip\\Documents\\GitHub\\python-notebooks\\ipython_magics\n",
      "\n",
      "05/02/2024  17:58    <DIR>          .\n",
      "05/02/2024  12:55    <DIR>          ..\n",
      "05/02/2024  14:47    <DIR>          .ipynb_checkpoints\n",
      "11/01/2024  10:23    <DIR>          __pycache__\n",
      "05/02/2024  17:58    <DIR>          folder'\n",
      "05/02/2024  17:58    <DIR>          'new\n",
      "               0 File(s)              0 bytes\n",
      "               6 Dir(s)  340,510,740,480 bytes free\n"
     ]
    }
   ],
   "source": [
    "%ddir"
   ]
  },
  {
   "cell_type": "code",
   "execution_count": 45,
   "id": "f3503101-031f-42f1-8e44-f18b2aa445dd",
   "metadata": {},
   "outputs": [],
   "source": [
    "%rmdir 'new\n",
    "%rmdir folder'"
   ]
  },
  {
   "cell_type": "markdown",
   "id": "9f5bd117-532c-4b04-86e9-70e94f792a54",
   "metadata": {},
   "source": [
    "Double quotations can't be used in a directory name so are used to enclose names which include spaces:"
   ]
  },
  {
   "cell_type": "code",
   "execution_count": 46,
   "id": "d0a06add-f40a-4f1d-b292-8f9c9961f249",
   "metadata": {},
   "outputs": [],
   "source": [
    "%mkdir \"new folder\""
   ]
  },
  {
   "cell_type": "markdown",
   "id": "55b958e9-8ec1-4dff-8710-235c3aedb632",
   "metadata": {},
   "source": [
    "The current working directory can be printed:"
   ]
  },
  {
   "cell_type": "code",
   "execution_count": 47,
   "id": "f272145f-afbf-406f-a844-c883c4dc9aba",
   "metadata": {},
   "outputs": [
    {
     "data": {
      "text/plain": [
       "'C:\\\\Users\\\\pyip\\\\Documents\\\\GitHub\\\\python-notebooks\\\\ipython_magics'"
      ]
     },
     "execution_count": 47,
     "metadata": {},
     "output_type": "execute_result"
    }
   ],
   "source": [
    "%pwd"
   ]
  },
  {
   "cell_type": "markdown",
   "id": "9d1c04ac-5938-4d3b-bbae-e40360467ef8",
   "metadata": {},
   "source": [
    "The IPython reimplementation allows for this return value to be assigned to a variable:"
   ]
  },
  {
   "cell_type": "code",
   "execution_count": 48,
   "id": "330ae9ed-2c2b-4e42-b66a-f4228d74d045",
   "metadata": {},
   "outputs": [],
   "source": [
    "current_directory = %pwd"
   ]
  },
  {
   "cell_type": "markdown",
   "id": "be8064fc-35ef-48bd-97df-59089f023532",
   "metadata": {},
   "source": [
    "The line magic ```%cd``` can be used to change the directory:"
   ]
  },
  {
   "cell_type": "code",
   "execution_count": 49,
   "id": "376ae940-c524-43c0-8c4a-7896a3bb8054",
   "metadata": {
    "scrolled": true
   },
   "outputs": [
    {
     "data": {
      "text/plain": [
       "\u001b[1;31mDocstring:\u001b[0m\n",
       "Change the current working directory.\n",
       "\n",
       "This command automatically maintains an internal list of directories\n",
       "you visit during your IPython session, in the variable ``_dh``. The\n",
       "command :magic:`%dhist` shows this history nicely formatted. You can\n",
       "also do ``cd -<tab>`` to see directory history conveniently.\n",
       "Usage:\n",
       "\n",
       "  - ``cd 'dir'``: changes to directory 'dir'.\n",
       "  - ``cd -``: changes to the last visited directory.\n",
       "  - ``cd -<n>``: changes to the n-th directory in the directory history.\n",
       "  - ``cd --foo``: change to directory that matches 'foo' in history\n",
       "  - ``cd -b <bookmark_name>``: jump to a bookmark set by %bookmark\n",
       "  - Hitting a tab key after ``cd -b`` allows you to tab-complete\n",
       "    bookmark names.\n",
       "\n",
       "  .. note::\n",
       "    ``cd <bookmark_name>`` is enough if there is no directory\n",
       "    ``<bookmark_name>``, but a bookmark with the name exists.\n",
       "\n",
       "Options:\n",
       "\n",
       "-q               Be quiet. Do not print the working directory after the\n",
       "                 cd command is executed. By default IPython's cd\n",
       "                 command does print this directory, since the default\n",
       "                 prompts do not display path information.\n",
       "\n",
       ".. note::\n",
       "   Note that ``!cd`` doesn't work for this purpose because the shell\n",
       "   where ``!command`` runs is immediately discarded after executing\n",
       "   'command'.\n",
       "\n",
       "Examples\n",
       "--------\n",
       "::\n",
       "\n",
       "  In [10]: cd parent/child\n",
       "  /home/tsuser/parent/child\n",
       "\u001b[1;31mFile:\u001b[0m      c:\\users\\pyip\\miniconda3\\envs\\vscode-env\\lib\\site-packages\\ipython\\core\\magics\\osm.py"
      ]
     },
     "metadata": {},
     "output_type": "display_data"
    }
   ],
   "source": [
    "%cd?"
   ]
  },
  {
   "cell_type": "markdown",
   "id": "0de9df83-5a21-4e0b-b578-dc1788edd444",
   "metadata": {},
   "source": [
    "When no input argument is made the directory will change to:"
   ]
  },
  {
   "cell_type": "code",
   "execution_count": 50,
   "id": "fdc3c2b9-6840-40b2-bc94-b14c5c7b3e53",
   "metadata": {},
   "outputs": [
    {
     "name": "stdout",
     "output_type": "stream",
     "text": [
      "C:\\Users\\pyip\n"
     ]
    }
   ],
   "source": [
    "%cd"
   ]
  },
  {
   "cell_type": "markdown",
   "id": "8f287495-50d8-419c-9292-7e0968a19d8e",
   "metadata": {},
   "source": [
    "Which is the same as the ```%UserProfile%``` accessible using ```~```:"
   ]
  },
  {
   "cell_type": "markdown",
   "id": "dd6d6d6d-6a00-4896-a3b3-39cc5e0bc08f",
   "metadata": {},
   "source": [
    "This can be changed to Documents using:"
   ]
  },
  {
   "cell_type": "code",
   "execution_count": 51,
   "id": "5a405c0d-38ae-40ac-a897-ed874b0b2245",
   "metadata": {},
   "outputs": [
    {
     "name": "stdout",
     "output_type": "stream",
     "text": [
      "C:\\Users\\pyip\\Documents\n"
     ]
    }
   ],
   "source": [
    "%cd ~\\Documents"
   ]
  },
  {
   "cell_type": "markdown",
   "id": "c941f991-5094-4e2c-95da-050cb2bc856d",
   "metadata": {},
   "source": [
    "To change back to the original current working directory, the variable needs to be inserted using braces:"
   ]
  },
  {
   "cell_type": "code",
   "execution_count": 52,
   "id": "0965590a-dd68-4a5c-a901-a0aaddcfc098",
   "metadata": {},
   "outputs": [
    {
     "name": "stdout",
     "output_type": "stream",
     "text": [
      "C:\\Users\\pyip\\Documents\\GitHub\\python-notebooks\\ipython_magics\n"
     ]
    }
   ],
   "source": [
    "%cd {current_directory}"
   ]
  },
  {
   "cell_type": "markdown",
   "id": "3b5a9fcc-b4dc-45ef-96ac-104a8fc75619",
   "metadata": {},
   "source": [
    "A file can be renamed using the line magic ```%ren```:"
   ]
  },
  {
   "cell_type": "code",
   "execution_count": 53,
   "id": "6fff7f63-307d-401b-8046-2dfb6fc8ea60",
   "metadata": {},
   "outputs": [
    {
     "data": {
      "text/plain": [
       "\u001b[1;31mRepr:\u001b[0m <alias ren for 'ren'>"
      ]
     },
     "metadata": {},
     "output_type": "display_data"
    }
   ],
   "source": [
    "%ren?"
   ]
  },
  {
   "cell_type": "code",
   "execution_count": 54,
   "id": "cda5254b-811a-4c1a-b77b-16d3d1b69f76",
   "metadata": {},
   "outputs": [],
   "source": [
    "%ren script2.py script3.py"
   ]
  },
  {
   "cell_type": "markdown",
   "id": "3095de34-e385-45b5-9d34-181e5806ea58",
   "metadata": {},
   "source": [
    "The matplotlib backend can be viewed using the line magic ```%matplotlib```:"
   ]
  },
  {
   "cell_type": "code",
   "execution_count": 55,
   "id": "6b755136-ecdb-478e-a723-659adc9ee6a6",
   "metadata": {
    "scrolled": true
   },
   "outputs": [
    {
     "data": {
      "text/plain": [
       "\u001b[1;31mDocstring:\u001b[0m\n",
       "::\n",
       "\n",
       "  %matplotlib [-l] [gui]\n",
       "\n",
       "Set up matplotlib to work interactively.\n",
       "\n",
       "This function lets you activate matplotlib interactive support\n",
       "at any point during an IPython session. It does not import anything\n",
       "into the interactive namespace.\n",
       "\n",
       "If you are using the inline matplotlib backend in the IPython Notebook\n",
       "you can set which figure formats are enabled using the following::\n",
       "\n",
       "    In [1]: from matplotlib_inline.backend_inline import set_matplotlib_formats\n",
       "\n",
       "    In [2]: set_matplotlib_formats('pdf', 'svg')\n",
       "\n",
       "The default for inline figures sets `bbox_inches` to 'tight'. This can\n",
       "cause discrepancies between the displayed image and the identical\n",
       "image created using `savefig`. This behavior can be disabled using the\n",
       "`%config` magic::\n",
       "\n",
       "    In [3]: %config InlineBackend.print_figure_kwargs = {'bbox_inches':None}\n",
       "\n",
       "In addition, see the docstrings of\n",
       "`matplotlib_inline.backend_inline.set_matplotlib_formats` and\n",
       "`matplotlib_inline.backend_inline.set_matplotlib_close` for more information on\n",
       "changing additional behaviors of the inline backend.\n",
       "\n",
       "Examples\n",
       "--------\n",
       "To enable the inline backend for usage with the IPython Notebook::\n",
       "\n",
       "    In [1]: %matplotlib inline\n",
       "\n",
       "In this case, where the matplotlib default is TkAgg::\n",
       "\n",
       "    In [2]: %matplotlib\n",
       "    Using matplotlib backend: TkAgg\n",
       "\n",
       "But you can explicitly request a different GUI backend::\n",
       "\n",
       "    In [3]: %matplotlib qt\n",
       "\n",
       "You can list the available backends using the -l/--list option::\n",
       "\n",
       "   In [4]: %matplotlib --list\n",
       "   Available matplotlib backends: ['osx', 'qt4', 'qt5', 'gtk3', 'gtk4', 'notebook', 'wx', 'qt', 'nbagg',\n",
       "   'gtk', 'tk', 'inline']\n",
       "\n",
       "positional arguments:\n",
       "  gui         Name of the matplotlib backend to use ('agg', 'gtk', 'gtk3', 'gtk4', 'inline', 'ipympl', 'nbagg', 'notebook', 'osx',\n",
       "              'pdf', 'ps', 'qt', 'qt4', 'qt5', 'qt6', 'svg', 'tk', 'webagg', 'widget', 'wx'). If given, the corresponding\n",
       "              matplotlib backend is used, otherwise it will be matplotlib's default (which you can set in your matplotlib config\n",
       "              file).\n",
       "\n",
       "options:\n",
       "  -l, --list  Show available matplotlib backends\n",
       "\u001b[1;31mFile:\u001b[0m      c:\\users\\pyip\\miniconda3\\envs\\vscode-env\\lib\\site-packages\\ipython\\core\\magics\\pylab.py"
      ]
     },
     "metadata": {},
     "output_type": "display_data"
    }
   ],
   "source": [
    "%matplotlib?"
   ]
  },
  {
   "cell_type": "markdown",
   "id": "dbd851a5-6370-413b-9284-4fea3e784980",
   "metadata": {},
   "source": [
    "This is usually used to change the plot backend used by a notebook:"
   ]
  },
  {
   "cell_type": "code",
   "execution_count": 56,
   "id": "1d2eeaae-3790-4192-b362-7a4365a5d8cc",
   "metadata": {},
   "outputs": [
    {
     "name": "stdout",
     "output_type": "stream",
     "text": [
      "Available matplotlib backends: ['tk', 'gtk', 'gtk3', 'gtk4', 'wx', 'qt4', 'qt5', 'qt6', 'qt', 'osx', 'nbagg', 'webagg', 'notebook', 'agg', 'svg', 'pdf', 'ps', 'inline', 'ipympl', 'widget']\n"
     ]
    }
   ],
   "source": [
    "%matplotlib --list"
   ]
  },
  {
   "cell_type": "code",
   "execution_count": 57,
   "id": "9b24874b-5fdb-4f2c-bf00-1dcf81ffbaa5",
   "metadata": {},
   "outputs": [],
   "source": [
    "%matplotlib qt"
   ]
  },
  {
   "cell_type": "markdown",
   "id": "85101426-fa92-4496-afde-3fd4a216c68c",
   "metadata": {},
   "source": [
    "The line magics ```%conda```, ```%mamba``` and ```%pip``` are for the respective package managers."
   ]
  },
  {
   "cell_type": "code",
   "execution_count": null,
   "id": "221dc005-9a05-4862-9940-b8904a87bb51",
   "metadata": {},
   "outputs": [],
   "source": [
    "!C:\\Users\\pyip\\miniconda3\\scripts\\conda.exe list"
   ]
  },
  {
   "cell_type": "code",
   "execution_count": 59,
   "id": "c17339c9-0b07-468e-b6ff-2c85d1e22b4b",
   "metadata": {},
   "outputs": [
    {
     "ename": "SyntaxError",
     "evalue": "invalid syntax (271686214.py, line 1)",
     "output_type": "error",
     "traceback": [
      "\u001b[1;36m  Cell \u001b[1;32mIn[59], line 1\u001b[1;36m\u001b[0m\n\u001b[1;33m    ```\u001b[0m\n\u001b[1;37m    ^\u001b[0m\n\u001b[1;31mSyntaxError\u001b[0m\u001b[1;31m:\u001b[0m invalid syntax\n"
     ]
    }
   ],
   "source": [
    "```\n",
    "%conda\n",
    "%mamba\n",
    "```"
   ]
  },
  {
   "cell_type": "code",
   "execution_count": null,
   "id": "5d06ac1d-7efc-4301-8dc1-56f204874e24",
   "metadata": {},
   "outputs": [],
   "source": []
  },
  {
   "cell_type": "code",
   "execution_count": null,
   "id": "99c6a1f6-7ef2-4e9d-8ff9-b908b596487f",
   "metadata": {},
   "outputs": [],
   "source": []
  },
  {
   "cell_type": "code",
   "execution_count": null,
   "id": "5ce1eb96-4cb8-4ded-984f-ecc9b336d461",
   "metadata": {},
   "outputs": [],
   "source": []
  },
  {
   "cell_type": "code",
   "execution_count": null,
   "id": "18cb65f1-6129-44c4-8b26-a03f4d595960",
   "metadata": {},
   "outputs": [],
   "source": []
  },
  {
   "cell_type": "code",
   "execution_count": null,
   "id": "a1e6352d-5a55-4f84-a7da-4d94c3f549a8",
   "metadata": {},
   "outputs": [],
   "source": []
  },
  {
   "cell_type": "code",
   "execution_count": null,
   "id": "a1bb5de9-4189-476e-af43-df186ea59292",
   "metadata": {},
   "outputs": [],
   "source": [
    "%rmdir \"new folder\"\n",
    "%rm script.py\n",
    "%rm script3.py"
   ]
  },
  {
   "cell_type": "code",
   "execution_count": null,
   "id": "6d014b5d-e2ce-4d28-bbc0-6c5e30b4494b",
   "metadata": {},
   "outputs": [],
   "source": []
  },
  {
   "cell_type": "code",
   "execution_count": null,
   "id": "3de7ab10-062f-46a4-ac04-1469bb7d7c3f",
   "metadata": {},
   "outputs": [],
   "source": []
  },
  {
   "cell_type": "code",
   "execution_count": null,
   "id": "bdaac596-c2dd-4ca2-8c34-8e1d076df4e0",
   "metadata": {},
   "outputs": [],
   "source": []
  },
  {
   "cell_type": "markdown",
   "id": "7a615c69-f50d-4487-9c30-3e834bbcae9e",
   "metadata": {},
   "source": [
    "The cell magic ```%%script``` can be used to launch a script using the specified programming language:"
   ]
  },
  {
   "cell_type": "code",
   "execution_count": null,
   "id": "39491c90-c3dc-47b0-9561-402c1aee5e82",
   "metadata": {
    "scrolled": true
   },
   "outputs": [],
   "source": [
    "%%script?"
   ]
  },
  {
   "cell_type": "markdown",
   "id": "94b22d74-b9c3-4a18-8983-aef3cabdc9a3",
   "metadata": {},
   "source": [
    "Each supported programming language has an alias ```%%bash```, ```%%cmd```, ```%%python``` (```%%python3```) and ```%%perl```. \n",
    "\n",
    " ```%%sh``` and ```%%python2``` are older versions of the Linux and Python shells and are generally no longer used."
   ]
  },
  {
   "cell_type": "code",
   "execution_count": null,
   "id": "382b08b5-74ca-4671-b7ca-afe9c4cfa4cf",
   "metadata": {},
   "outputs": [],
   "source": [
    "%%cmd?"
   ]
  },
  {
   "cell_type": "code",
   "execution_count": null,
   "id": "cde0c235-886c-4804-bda2-4484339db6fa",
   "metadata": {},
   "outputs": [],
   "source": [
    "%%python?"
   ]
  },
  {
   "cell_type": "markdown",
   "id": "c440a3b0-a77e-45b2-8f11-c7e551fa1ab1",
   "metadata": {},
   "source": [
    "The cell magic ```%%writefile``` is used to write a file:"
   ]
  },
  {
   "cell_type": "code",
   "execution_count": null,
   "id": "f12ad30c-7c09-464e-b8df-66c14759aa41",
   "metadata": {},
   "outputs": [],
   "source": [
    "%%writefile?"
   ]
  },
  {
   "cell_type": "markdown",
   "id": "c3302f32-762b-4ce4-857a-92082319dafe",
   "metadata": {},
   "source": [
    "And has the alias ```%%file```:"
   ]
  },
  {
   "cell_type": "code",
   "execution_count": null,
   "id": "875fffbd-8858-4e5c-8755-db98d7215ef9",
   "metadata": {},
   "outputs": [],
   "source": [
    "%%file?"
   ]
  },
  {
   "cell_type": "code",
   "execution_count": null,
   "id": "a0000d06-f9a1-45be-9c68-a7d99445d98a",
   "metadata": {},
   "outputs": [],
   "source": []
  },
  {
   "cell_type": "markdown",
   "id": "eb1b2c06-8655-48ba-8693-475447cf8ec8",
   "metadata": {},
   "source": [
    "```\n",
    "Available line magics:\n",
    "%alias  %alias_magic  %autoawait  %autocall  %autoindent  %automagic  %bookmark  %cd  %cls  %code_wrap  %colors  %conda  %config  %copy  %cpaste  %ddir  %debug  %dhist  %dirs  %doctest_mode  %echo  %ed  %edit  %env  %gui  %hist  %history  %killbgscripts  %ldir  %load  %load_ext  %loadpy  %logoff  %logon  %logstart  %logstate  %logstop  %ls  %lsmagic  %macro  %magic  %mamba  %matplotlib  %micromamba  %mkdir  %notebook  %page  %paste  %pastebin  %pdb  %pdef  %pdoc  %pfile  %pinfo  %pinfo2  %pip  %popd  %pprint  %precision  %prun  %psearch  %psource  %pushd  %pwd  %pycat  %pylab  %quickref  %recall  %rehashx  %reload_ext  %ren  %rep  %rerun  %reset  %reset_selective  %rmdir  %run  %save  %sc  %set_env  %store  %sx  %system  %tb  %time  %timeit  %unalias  %unload_ext  %who  %who_ls  %whos  %xdel  %xmode\n",
    "\n",
    "Available cell magics:\n",
    "%%!  %%HTML  %%SVG  %%bash  %%capture  %%cmd  %%code_wrap  %%debug  %%file  %%html  %%javascript  %%js  %%latex  %%markdown  %%perl  %%prun  %%pypy  %%python  %%python2  %%python3  %%ruby  %%script  %%sh  %%svg  %%sx  %%system  %%time  %%timeit  %%writefile\n",
    "\n",
    "Automagic is ON, % prefix IS NOT needed for line magics.\n",
    "```"
   ]
  },
  {
   "cell_type": "code",
   "execution_count": null,
   "id": "891fea10-853a-4beb-9515-5c6140ebb9fc",
   "metadata": {},
   "outputs": [],
   "source": []
  },
  {
   "cell_type": "code",
   "execution_count": null,
   "id": "5b6da5f3-0832-43e3-83a5-160dd4fe4477",
   "metadata": {},
   "outputs": [],
   "source": [
    "%alias"
   ]
  },
  {
   "cell_type": "code",
   "execution_count": null,
   "id": "7273d2fe-0319-44ef-b133-baeee6d28f47",
   "metadata": {},
   "outputs": [],
   "source": [
    "%ren?"
   ]
  },
  {
   "cell_type": "code",
   "execution_count": null,
   "id": "225a4c77-4c73-4087-afc8-bb5d4db8909d",
   "metadata": {},
   "outputs": [],
   "source": []
  }
 ],
 "metadata": {
  "kernelspec": {
   "display_name": "Python 3 (ipykernel)",
   "language": "python",
   "name": "python3"
  },
  "language_info": {
   "codemirror_mode": {
    "name": "ipython",
    "version": 3
   },
   "file_extension": ".py",
   "mimetype": "text/x-python",
   "name": "python",
   "nbconvert_exporter": "python",
   "pygments_lexer": "ipython3",
   "version": "3.12.1"
  }
 },
 "nbformat": 4,
 "nbformat_minor": 5
}
