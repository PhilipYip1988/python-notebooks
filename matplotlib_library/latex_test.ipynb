{
 "cells": [
  {
   "cell_type": "markdown",
   "metadata": {},
   "source": [
    "## Import Libraries"
   ]
  },
  {
   "cell_type": "code",
   "execution_count": 4,
   "metadata": {},
   "outputs": [],
   "source": [
    "import numpy as np\n",
    "import matplotlib\n",
    "import matplotlib.pyplot as plt\n",
    "%matplotlib qt5"
   ]
  },
  {
   "cell_type": "markdown",
   "metadata": {},
   "source": [
    "install postscript to env"
   ]
  },
  {
   "cell_type": "code",
   "execution_count": 5,
   "metadata": {},
   "outputs": [],
   "source": [
    "x = np.array([0, 1, 2, 3, 4, 5])\n",
    "y = np.array([0.001, 2.001, 3.999, 5.999, 8.002, 10.001])"
   ]
  },
  {
   "cell_type": "code",
   "execution_count": 6,
   "metadata": {},
   "outputs": [],
   "source": [
    "fig, ax = plt.subplots(num=1)\n",
    "ax.plot(x, y, color='tomato')\n",
    "ax.set_xlabel(r'$\\dot{\\alpha}$', usetex=True)\n",
    "ax.set_ylabel(r'$\\ddot{\\beta}$', usetex=True)\n",
    "ax.set_title(r'$\\ddot{\\beta}$=f$(\\frac{\\dot{\\alpha}}{1})$', usetex=True);"
   ]
  },
  {
   "cell_type": "markdown",
   "metadata": {},
   "source": [
    "In my vscode-env the following error displays:\n",
    "\n",
    "Error in callback <function _draw_all_if_interactive at 0x0000027B48D68360> (for post_execute), with arguments args (),kwargs {}:\n",
    "\n",
    "C:\\Users\\phili\\anaconda3\\envs\\vscode-env\\Library\\miktex\\texmfs\\data\\miktex\\log\\latex.log\n",
    "\n",
    "The log had:\n",
    "\n",
    "2024-01-11 07:30:25,470Z ERROR latex - C:\\Users\\phili\\anaconda3\\envs\\vscode-env\\Library\\miktex\\texmfs\\install\\miktex\\bin\\x64\\miktex.exe did not succeed; exitCode: 1\n",
    "2024-01-11 07:30:25,470Z ERROR latex - output:\n",
    "2024-01-11 07:30:25,470Z ERROR latex - Building format 'latex' with engine 'pdftex'...\n",
    "\n",
    "Sorry, but: The installed file does not exist.\n",
    "\n",
    "The physical miktex.exe did exist."
   ]
  },
  {
   "cell_type": "markdown",
   "metadata": {},
   "source": [
    "Go to:\n",
    "\n",
    "```\n",
    "%USERPROFILE%\\anaconda3\\envs\\vscode-env\\Library\\miktex\\texmfs\\install\\miktex\\bin\\x64\n",
    "```\n",
    "\n",
    "Launch miktex-console.exe\n",
    "\n",
    "Select the updates tab and update now."
   ]
  },
  {
   "cell_type": "markdown",
   "metadata": {},
   "source": []
  },
  {
   "cell_type": "code",
   "execution_count": null,
   "metadata": {},
   "outputs": [],
   "source": []
  }
 ],
 "metadata": {
  "kernelspec": {
   "display_name": "vscode-env",
   "language": "python",
   "name": "python3"
  },
  "language_info": {
   "codemirror_mode": {
    "name": "ipython",
    "version": 3
   },
   "file_extension": ".py",
   "mimetype": "text/x-python",
   "name": "python",
   "nbconvert_exporter": "python",
   "pygments_lexer": "ipython3",
   "version": "3.12.1"
  }
 },
 "nbformat": 4,
 "nbformat_minor": 2
}
