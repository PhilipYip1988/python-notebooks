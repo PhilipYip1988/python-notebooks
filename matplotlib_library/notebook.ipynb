{
 "cells": [
  {
   "attachments": {},
   "cell_type": "markdown",
   "metadata": {},
   "source": [
    "# matplotlib library"
   ]
  },
  {
   "attachments": {},
   "cell_type": "markdown",
   "metadata": {},
   "source": [
    "matplotlib is an abbreviation for the math plotting library. The data to be plotted is normally in the form of a numeric python array:"
   ]
  },
  {
   "cell_type": "code",
   "execution_count": 2,
   "metadata": {},
   "outputs": [],
   "source": [
    "import numpy as np"
   ]
  },
  {
   "attachments": {},
   "cell_type": "markdown",
   "metadata": {},
   "source": [
    "A simple plot requires y values measured at respect x values. y is known as the dependent variable and x is known as the dependent variable. Notice that the independent x measurements are taken at linearly spaced intervals. The y values taken at these values of x have some associated error:"
   ]
  },
  {
   "cell_type": "code",
   "execution_count": 6,
   "metadata": {},
   "outputs": [],
   "source": [
    "x = np.array([0, 1, 2, 3, 4, 5])\n",
    "y = np.array([0.001, 2.001, 3.999, 5.999, 8.002, 10.001])"
   ]
  },
  {
   "cell_type": "code",
   "execution_count": 7,
   "metadata": {},
   "outputs": [
    {
     "data": {
      "text/plain": [
       "array([0, 1, 2, 3, 4, 5])"
      ]
     },
     "execution_count": 7,
     "metadata": {},
     "output_type": "execute_result"
    }
   ],
   "source": [
    "x"
   ]
  },
  {
   "cell_type": "code",
   "execution_count": 8,
   "metadata": {},
   "outputs": [
    {
     "data": {
      "text/plain": [
       "array([1.0000e-03, 2.0010e+00, 3.9990e+00, 5.9990e+00, 8.0020e+00,\n",
       "       1.0001e+01])"
      ]
     },
     "execution_count": 8,
     "metadata": {},
     "output_type": "execute_result"
    }
   ],
   "source": [
    "y"
   ]
  },
  {
   "attachments": {},
   "cell_type": "markdown",
   "metadata": {},
   "source": [
    "A plot involves instantiation of a Figure class. This Figure canvas instance is normally white with a 0 width but shown with a facecolor of cyan, edgecolor of black and edgecolor of 10:"
   ]
  },
  {
   "cell_type": "code",
   "execution_count": 1,
   "metadata": {},
   "outputs": [
    {
     "data": {
      "image/png": "[encoded data removed]",
      "text/plain": [
       "<Figure size 480x288 with 1 Axes>"
      ]
     },
     "metadata": {},
     "output_type": "display_data"
    }
   ],
   "source": [
    "from module import figurecanvas\n",
    "figurecanvas()"
   ]
  },
  {
   "attachments": {},
   "cell_type": "markdown",
   "metadata": {},
   "source": [
    "To this Figure class, one or more Axes instances are added:"
   ]
  },
  {
   "cell_type": "code",
   "execution_count": 9,
   "metadata": {},
   "outputs": [
    {
     "data": {
      "image/png": "[encoded data removed]",
      "text/plain": [
       "<Figure size 480x288 with 1 Axes>"
      ]
     },
     "metadata": {},
     "output_type": "display_data"
    }
   ],
   "source": [
    "from module import axes\n",
    "axes()"
   ]
  },
  {
   "attachments": {},
   "cell_type": "markdown",
   "metadata": {},
   "source": [
    "The Axes above contain no data and are normalised. Axes labels can be added to this Axes:"
   ]
  },
  {
   "cell_type": "code",
   "execution_count": 10,
   "metadata": {},
   "outputs": [
    {
     "data": {
      "image/png": "[encoded data removed]",
      "text/plain": [
       "<Figure size 480x288 with 1 Axes>"
      ]
     },
     "metadata": {},
     "output_type": "display_data"
    }
   ],
   "source": [
    "from module import axes_label\n",
    "axes_label()"
   ]
  },
  {
   "attachments": {},
   "cell_type": "markdown",
   "metadata": {},
   "source": [
    "Finally a plotting method is used to plot data. The plotted data is an instance of another class:"
   ]
  },
  {
   "cell_type": "code",
   "execution_count": 11,
   "metadata": {},
   "outputs": [
    {
     "data": {
      "image/png": "[encoded data removed]",
      "text/plain": [
       "<Figure size 480x288 with 1 Axes>"
      ]
     },
     "metadata": {},
     "output_type": "display_data"
    }
   ],
   "source": [
    "from module import plot\n",
    "plot()"
   ]
  },
  {
   "attachments": {},
   "cell_type": "markdown",
   "metadata": {},
   "source": [
    "## Importing Libraries"
   ]
  },
  {
   "attachments": {},
   "cell_type": "markdown",
   "metadata": {},
   "source": [
    "To create numeric data the numpy library is imported:"
   ]
  },
  {
   "cell_type": "code",
   "execution_count": 12,
   "metadata": {},
   "outputs": [],
   "source": [
    "import numpy as np"
   ]
  },
  {
   "attachments": {},
   "cell_type": "markdown",
   "metadata": {},
   "source": [
    "It can be imported and its name and version checked using:"
   ]
  },
  {
   "cell_type": "code",
   "execution_count": 15,
   "metadata": {},
   "outputs": [
    {
     "data": {
      "text/plain": [
       "'numpy'"
      ]
     },
     "execution_count": 15,
     "metadata": {},
     "output_type": "execute_result"
    }
   ],
   "source": [
    "np.__name__"
   ]
  },
  {
   "cell_type": "code",
   "execution_count": 16,
   "metadata": {},
   "outputs": [
    {
     "data": {
      "text/plain": [
       "'1.25.1'"
      ]
     },
     "execution_count": 16,
     "metadata": {},
     "output_type": "execute_result"
    }
   ],
   "source": [
    "np.__version__"
   ]
  },
  {
   "cell_type": "code",
   "execution_count": 20,
   "metadata": {},
   "outputs": [
    {
     "data": {
      "text/plain": [
       "'c:\\\\Users\\\\pyip\\\\AppData\\\\Local\\\\mambaforge\\\\envs\\\\jupyterlab\\\\Lib\\\\site-packages\\\\numpy\\\\__init__.py'"
      ]
     },
     "execution_count": 20,
     "metadata": {},
     "output_type": "execute_result"
    }
   ],
   "source": [
    "np.__file__"
   ]
  },
  {
   "attachments": {},
   "cell_type": "markdown",
   "metadata": {},
   "source": [
    "matplotlib can similarly be imported:"
   ]
  },
  {
   "cell_type": "code",
   "execution_count": 17,
   "metadata": {},
   "outputs": [],
   "source": [
    "import matplotlib"
   ]
  },
  {
   "cell_type": "code",
   "execution_count": 19,
   "metadata": {},
   "outputs": [
    {
     "data": {
      "text/plain": [
       "'matplotlib'"
      ]
     },
     "execution_count": 19,
     "metadata": {},
     "output_type": "execute_result"
    }
   ],
   "source": [
    "matplotlib.__name__"
   ]
  },
  {
   "cell_type": "code",
   "execution_count": 18,
   "metadata": {},
   "outputs": [
    {
     "data": {
      "text/plain": [
       "'3.7.1'"
      ]
     },
     "execution_count": 18,
     "metadata": {},
     "output_type": "execute_result"
    }
   ],
   "source": [
    "matplotlib.__version__"
   ]
  },
  {
   "cell_type": "code",
   "execution_count": 21,
   "metadata": {},
   "outputs": [
    {
     "data": {
      "text/plain": [
       "'c:\\\\Users\\\\pyip\\\\AppData\\\\Local\\\\mambaforge\\\\envs\\\\jupyterlab\\\\Lib\\\\site-packages\\\\matplotlib\\\\__init__.py'"
      ]
     },
     "execution_count": 21,
     "metadata": {},
     "output_type": "execute_result"
    }
   ],
   "source": [
    "matplotlib.__file__"
   ]
  },
  {
   "attachments": {},
   "cell_type": "markdown",
   "metadata": {},
   "source": [
    "However matplotlib is a very large library and for the vast majority of cases only a single module, the python plot module pyplot is interacted with. It is normally imported using the three letter alias plt:"
   ]
  },
  {
   "cell_type": "code",
   "execution_count": 22,
   "metadata": {},
   "outputs": [],
   "source": [
    "import matplotlib.pyplot as plt"
   ]
  },
  {
   "cell_type": "code",
   "execution_count": 23,
   "metadata": {},
   "outputs": [
    {
     "data": {
      "text/plain": [
       "'matplotlib.pyplot'"
      ]
     },
     "execution_count": 23,
     "metadata": {},
     "output_type": "execute_result"
    }
   ],
   "source": [
    "plt.__name__"
   ]
  },
  {
   "cell_type": "code",
   "execution_count": 25,
   "metadata": {},
   "outputs": [
    {
     "data": {
      "text/plain": [
       "'c:\\\\Users\\\\pyip\\\\AppData\\\\Local\\\\mambaforge\\\\envs\\\\jupyterlab\\\\Lib\\\\site-packages\\\\matplotlib\\\\pyplot.py'"
      ]
     },
     "execution_count": 25,
     "metadata": {},
     "output_type": "execute_result"
    }
   ],
   "source": [
    "plt.__file__"
   ]
  },
  {
   "attachments": {},
   "cell_type": "markdown",
   "metadata": {},
   "source": [
    "## pyplot Identifiers"
   ]
  },
  {
   "attachments": {},
   "cell_type": "markdown",
   "metadata": {},
   "source": [
    "The pyplot has a large number of identifiers. "
   ]
  },
  {
   "cell_type": "code",
   "execution_count": 75,
   "metadata": {},
   "outputs": [
    {
     "name": "stdout",
     "output_type": "stream",
     "text": [
      "Annotation Arrow Artist AutoLocator Axes Button Circle Enum ExitStack Figure FigureBase FigureCanvasBase FigureManagerBase FixedFormatter FixedLocator FormatStrFormatter Formatter FuncFormatter GridSpec IndexLocator Line2D LinearLocator Locator LogFormatter LogFormatterExponent LogFormatterMathtext LogLocator MaxNLocator MouseButton MultipleLocator Normalize NullFormatter NullLocator Number PolarAxes Polygon Rectangle ScalarFormatter Slider Subplot SubplotSpec Text TickHelper Widget _REPL_DISPLAYHOOK _ReplDisplayHook __builtins__ __cached__ __doc__ __file__ __loader__ __name__ __package__ __spec__ _api _auto_draw_if_interactive _backend_mod _copy_docstring_and_deprecators _docstring _draw_all_if_interactive _get_backend_mod _get_pyplot_commands _get_required_interactive_framework _interactive_bk _log _pylab_helpers _warn_if_gui_out_of_main_thread acorr angle_spectrum annotate arrow autoscale autumn axes axhline axhspan axis axline axvline axvspan bar bar_label barbs barh bone box boxplot broken_barh cbook cla clabel clf clim close cm cohere color_sequences colorbar colormaps connect contour contourf cool copper csd cycler delaxes disconnect draw draw_all draw_if_interactive errorbar eventplot figaspect figimage figlegend fignum_exists figtext figure fill fill_between fill_betweenx findobj flag functools gca gcf gci get get_backend get_cmap get_current_fig_manager get_figlabels get_fignums get_plot_commands get_scale_names getp ginput gray grid hexbin hist hist2d hlines hot hsv importlib imread imsave imshow inferno inspect install_repl_displayhook interactive ioff ion isinteractive jet legend locator_params logging loglog magma magnitude_spectrum margins matplotlib matshow minorticks_off minorticks_on mlab new_figure_manager nipy_spectral np pause pcolor pcolormesh phase_spectrum pie pink plasma plot plot_date polar prism psd quiver quiverkey rc rcParams rcParamsDefault rcParamsOrig rc_context rcdefaults rcsetup re register_cmap rgrids savefig sca scatter sci semilogx semilogy set_cmap set_loglevel setp show specgram spring spy stackplot stairs stem step streamplot style subplot subplot2grid subplot_mosaic subplot_tool subplots subplots_adjust summer suptitle switch_backend sys table text thetagrids threading tick_params ticklabel_format tight_layout time title tricontour tricontourf tripcolor triplot twinx twiny uninstall_repl_displayhook violinplot viridis vlines waitforbuttonpress winter xcorr xkcd xlabel xlim xscale xticks ylabel ylim yscale yticks "
     ]
    }
   ],
   "source": [
    "for identifier in dir(plt):\n",
    "    print(identifier, end=' ')"
   ]
  },
  {
   "attachments": {},
   "cell_type": "markdown",
   "metadata": {},
   "source": [
    "It is better to look at these in groups. The following are data model attributes:"
   ]
  },
  {
   "cell_type": "code",
   "execution_count": 32,
   "metadata": {},
   "outputs": [
    {
     "name": "stdout",
     "output_type": "stream",
     "text": [
      "__builtins__ __cached__ __doc__ __file__ __loader__ __name__ __package__ __spec__ "
     ]
    }
   ],
   "source": [
    "for identifier in dir(plt):\n",
    "    isfunction = callable(getattr(plt, identifier))\n",
    "    isupper = identifier[0].isupper()\n",
    "    isdatamodel = (identifier[0:2] == '__')\n",
    "    if (not isfunction and not isupper and isdatamodel):\n",
    "        print(identifier, end=' ')"
   ]
  },
  {
   "attachments": {},
   "cell_type": "markdown",
   "metadata": {},
   "source": [
    "These are used to give details about the module as seen above."
   ]
  },
  {
   "attachments": {},
   "cell_type": "markdown",
   "metadata": {},
   "source": [
    "There are also a number of private attributes:"
   ]
  },
  {
   "cell_type": "code",
   "execution_count": 33,
   "metadata": {},
   "outputs": [
    {
     "name": "stdout",
     "output_type": "stream",
     "text": [
      "_REPL_DISPLAYHOOK _api _docstring _interactive_bk _log _pylab_helpers "
     ]
    }
   ],
   "source": [
    "for identifier in dir(plt):\n",
    "    isfunction = callable(getattr(plt, identifier))\n",
    "    isupper = identifier[0].isupper()\n",
    "    isdatamodel = (identifier[0:1] == '_') & (identifier[0:2] != '__') \n",
    "    if (not isfunction and not isupper and isdatamodel):\n",
    "        print(identifier, end=' ')"
   ]
  },
  {
   "attachments": {},
   "cell_type": "markdown",
   "metadata": {},
   "source": [
    "And private functions:"
   ]
  },
  {
   "cell_type": "code",
   "execution_count": 36,
   "metadata": {},
   "outputs": [
    {
     "name": "stdout",
     "output_type": "stream",
     "text": [
      "_ReplDisplayHook _auto_draw_if_interactive _backend_mod _copy_docstring_and_deprecators _draw_all_if_interactive _get_backend_mod _get_pyplot_commands _get_required_interactive_framework _warn_if_gui_out_of_main_thread "
     ]
    }
   ],
   "source": [
    "for identifier in dir(plt):\n",
    "    isfunction = callable(getattr(plt, identifier))\n",
    "    isupper = identifier[0].isupper()\n",
    "    isdatamodel = (identifier[0:1] == '_') & (identifier[0:2] != '__') \n",
    "    if (isfunction and not isupper and isdatamodel):\n",
    "        print(identifier, end=' ')"
   ]
  },
  {
   "attachments": {},
   "cell_type": "markdown",
   "metadata": {},
   "source": [
    "These private attributes and methods are not normally used directly by the end user."
   ]
  },
  {
   "attachments": {},
   "cell_type": "markdown",
   "metadata": {},
   "source": [
    "The attributes shown are mainly references to other modules which pyplot depends on:"
   ]
  },
  {
   "cell_type": "code",
   "execution_count": 38,
   "metadata": {},
   "outputs": [
    {
     "name": "stdout",
     "output_type": "stream",
     "text": [
      "cbook cm color_sequences functools importlib inspect logging matplotlib mlab np rcParams rcParamsDefault rcParamsOrig rcsetup re style sys threading time "
     ]
    }
   ],
   "source": [
    "for identifier in dir(plt):\n",
    "    isfunction = callable(getattr(plt, identifier))\n",
    "    isupper = identifier[0].isupper()\n",
    "    isdatamodel = (identifier[0:1] == '_')\n",
    "    if (not isfunction and not isupper and not isdatamodel):\n",
    "        print(identifier, end=' ')"
   ]
  },
  {
   "attachments": {},
   "cell_type": "markdown",
   "metadata": {},
   "source": [
    "For example the standard module time, in addition to the full numpy and matplotlib libraries. These libraries are imported in the pyplot name space because pyplot functions call upon objects in these libraries:"
   ]
  },
  {
   "cell_type": "code",
   "execution_count": 51,
   "metadata": {},
   "outputs": [
    {
     "data": {
      "text/plain": [
       "True"
      ]
     },
     "execution_count": 51,
     "metadata": {},
     "output_type": "execute_result"
    }
   ],
   "source": [
    "np == plt.np"
   ]
  },
  {
   "attachments": {},
   "cell_type": "markdown",
   "metadata": {},
   "source": [
    "Having the library in the pyplot namespace means it can be used by pyplot regardless if the user imports the library or not and is insensitive to what alias the user imports the library as. In general if the user is to also use functions from these libraries directly, they will import them seperately and not reference them via pyplot."
   ]
  },
  {
   "attachments": {},
   "cell_type": "markdown",
   "metadata": {},
   "source": [
    "The classes are in CamelCase:"
   ]
  },
  {
   "cell_type": "code",
   "execution_count": 42,
   "metadata": {},
   "outputs": [
    {
     "name": "stdout",
     "output_type": "stream",
     "text": [
      "Annotation Arrow Artist AutoLocator Axes Button Circle Enum ExitStack Figure FigureBase FigureCanvasBase FigureManagerBase FixedFormatter FixedLocator FormatStrFormatter Formatter FuncFormatter GridSpec IndexLocator Line2D LinearLocator Locator LogFormatter LogFormatterExponent LogFormatterMathtext LogLocator MaxNLocator MouseButton MultipleLocator Normalize NullFormatter NullLocator Number PolarAxes Polygon Rectangle ScalarFormatter Slider Subplot SubplotSpec Text TickHelper Widget "
     ]
    }
   ],
   "source": [
    "for identifier in dir(plt):\n",
    "    isfunction = callable(getattr(plt, identifier))\n",
    "    isupper = identifier[0].isupper()\n",
    "    isdatamodel = (identifier[0:1] == '_')\n",
    "    if (isfunction and isupper and not isdatamodel):\n",
    "        print(identifier, end=' ')"
   ]
  },
  {
   "attachments": {},
   "cell_type": "markdown",
   "metadata": {},
   "source": [
    "Notice the form of these classes:\n",
    "\n",
    "* Figure - the Figure canvas\n",
    "* Axes PolarAxes - Axes added to the Figure canvas\n",
    "* Line2D Text Polygon Rectangle Widget Annotation Arrow - Plots added to the Axes (on the Figure canvas)"
   ]
  },
  {
   "attachments": {},
   "cell_type": "markdown",
   "metadata": {},
   "source": [
    "There are a large number of functions in pyplot:"
   ]
  },
  {
   "cell_type": "code",
   "execution_count": 41,
   "metadata": {},
   "outputs": [
    {
     "name": "stdout",
     "output_type": "stream",
     "text": [
      "acorr angle_spectrum annotate arrow autoscale autumn axes axhline axhspan axis axline axvline axvspan bar bar_label barbs barh bone box boxplot broken_barh cla clabel clf clim close cohere colorbar colormaps connect contour contourf cool copper csd cycler delaxes disconnect draw draw_all draw_if_interactive errorbar eventplot figaspect figimage figlegend fignum_exists figtext figure fill fill_between fill_betweenx findobj flag gca gcf gci get get_backend get_cmap get_current_fig_manager get_figlabels get_fignums get_plot_commands get_scale_names getp ginput gray grid hexbin hist hist2d hlines hot hsv imread imsave imshow inferno install_repl_displayhook interactive ioff ion isinteractive jet legend locator_params loglog magma magnitude_spectrum margins matshow minorticks_off minorticks_on new_figure_manager nipy_spectral pause pcolor pcolormesh phase_spectrum pie pink plasma plot plot_date polar prism psd quiver quiverkey rc rc_context rcdefaults register_cmap rgrids savefig sca scatter sci semilogx semilogy set_cmap set_loglevel setp show specgram spring spy stackplot stairs stem step streamplot subplot subplot2grid subplot_mosaic subplot_tool subplots subplots_adjust summer suptitle switch_backend table text thetagrids tick_params ticklabel_format tight_layout title tricontour tricontourf tripcolor triplot twinx twiny uninstall_repl_displayhook violinplot viridis vlines waitforbuttonpress winter xcorr xkcd xlabel xlim xscale xticks ylabel ylim yscale yticks "
     ]
    }
   ],
   "source": [
    "for identifier in dir(plt):\n",
    "    isfunction = callable(getattr(plt, identifier))\n",
    "    isupper = identifier[0].isupper()\n",
    "    isdatamodel = (identifier[0:1] == '_')\n",
    "    if (isfunction and not isupper and not isdatamodel):\n",
    "        print(identifier, end=' ')"
   ]
  },
  {
   "attachments": {},
   "cell_type": "markdown",
   "metadata": {},
   "source": [
    "A number of functions in pyplot are related to the Figure canvas and are identifiers in the Figure class. Most of these functions add something to a Figure canvas for example an Axes:"
   ]
  },
  {
   "cell_type": "code",
   "execution_count": 59,
   "metadata": {},
   "outputs": [
    {
     "name": "stdout",
     "output_type": "stream",
     "text": [
      "clf colorbar delaxes figimage gca ginput savefig sca show subplot_mosaic subplots subplots_adjust suptitle tight_layout waitforbuttonpress "
     ]
    }
   ],
   "source": [
    "for identifier in dir(plt):\n",
    "    isfunction = callable(getattr(plt, identifier))\n",
    "    isupper = identifier[0].isupper()\n",
    "    isinfigure = identifier in dir(plt.Figure)\n",
    "    isinaxes = identifier in dir(plt.Axes)\n",
    "    isdatamodel = (identifier[0:1] == '_')\n",
    "    if (isinfigure and not isinaxes and isfunction and not isupper and not isdatamodel):\n",
    "        print(identifier, end=' ')"
   ]
  },
  {
   "attachments": {},
   "cell_type": "markdown",
   "metadata": {},
   "source": [
    "Many functions in pyplot are related to the Axes and are identifiers in the Axes class. Many of these functions add something to the Axes such as the plotting functions:"
   ]
  },
  {
   "cell_type": "code",
   "execution_count": 60,
   "metadata": {},
   "outputs": [
    {
     "name": "stdout",
     "output_type": "stream",
     "text": [
      "acorr angle_spectrum annotate arrow autoscale axhline axhspan axis axline axvline axvspan bar bar_label barbs barh boxplot broken_barh cla clabel cohere contour contourf csd errorbar eventplot fill fill_between fill_betweenx grid hexbin hist hist2d hlines imshow locator_params loglog magnitude_spectrum margins matshow minorticks_off minorticks_on pcolor pcolormesh phase_spectrum pie plot plot_date psd quiver quiverkey scatter semilogx semilogy specgram spy stackplot stairs stem step streamplot table tick_params ticklabel_format tricontour tricontourf tripcolor triplot twinx twiny violinplot vlines xcorr "
     ]
    }
   ],
   "source": [
    "for identifier in dir(plt):\n",
    "    isfunction = callable(getattr(plt, identifier))\n",
    "    isupper = identifier[0].isupper()\n",
    "    isinfigure = identifier in dir(plt.Figure)\n",
    "    isinaxes = identifier in dir(plt.Axes)\n",
    "    isdatamodel = (identifier[0:1] == '_')\n",
    "    if (not isinfigure and isinaxes and isfunction and not isupper and not isdatamodel):\n",
    "        print(identifier, end=' ')"
   ]
  },
  {
   "attachments": {},
   "cell_type": "markdown",
   "metadata": {},
   "source": [
    "There are a number of additional functions that have equivalent get and set methods in the Axes class:"
   ]
  },
  {
   "cell_type": "code",
   "execution_count": 61,
   "metadata": {},
   "outputs": [
    {
     "name": "stdout",
     "output_type": "stream",
     "text": [
      "figure title xlabel xlim xscale xticks ylabel ylim yscale yticks "
     ]
    }
   ],
   "source": [
    "for identifier in dir(plt):\n",
    "    isfunction = callable(getattr(plt, identifier))\n",
    "    isupper = identifier[0].isupper()\n",
    "    isinfigure = identifier in dir(plt.Figure)\n",
    "    isinaxes = identifier in dir(plt.Axes)\n",
    "    isinaxes2 = 'set_' + identifier in dir(plt.Axes)\n",
    "    isdatamodel = (identifier[0:1] == '_')\n",
    "    if (not isinfigure and not isinaxes and isinaxes2 and isfunction and not isupper and not isdatamodel):\n",
    "        print(identifier, end=' ')"
   ]
  },
  {
   "attachments": {},
   "cell_type": "markdown",
   "metadata": {},
   "source": [
    "A number of identifiers are also colormaps, colormaps are used to visually distinguish 3d data on 2d plots through the use of color:"
   ]
  },
  {
   "cell_type": "code",
   "execution_count": 70,
   "metadata": {},
   "outputs": [
    {
     "name": "stdout",
     "output_type": "stream",
     "text": [
      "autumn bone cool copper flag gray hot hsv inferno jet magma nipy_spectral pink plasma prism spring summer viridis winter "
     ]
    }
   ],
   "source": [
    "for identifier in dir(plt):\n",
    "    isfunction = callable(getattr(plt, identifier))\n",
    "    isupper = identifier[0].isupper()\n",
    "    isinfigure = identifier in dir(plt.Figure)\n",
    "    isinaxes = identifier in dir(plt.Axes)\n",
    "    isinaxes2 = 'set_' + identifier in dir(plt.Axes)\n",
    "    iscolormap = identifier in plt.colormaps()\n",
    "    isdatamodel = (identifier[0:1] == '_')\n",
    "    if (not isinfigure and not isinaxes and not isinaxes2 and iscolormap and isfunction and not isupper and not isdatamodel):\n",
    "        print(identifier, end=' ')"
   ]
  },
  {
   "attachments": {},
   "cell_type": "markdown",
   "metadata": {},
   "source": [
    "There are a number of additional functions that can be invoked from pyplot that don't have equivalents in the above categories:"
   ]
  },
  {
   "cell_type": "code",
   "execution_count": 71,
   "metadata": {},
   "outputs": [
    {
     "name": "stdout",
     "output_type": "stream",
     "text": [
      "box clim close colormaps connect cycler disconnect draw_all draw_if_interactive figaspect figlegend fignum_exists figtext gcf gci get get_backend get_cmap get_current_fig_manager get_figlabels get_fignums get_plot_commands get_scale_names getp imread imsave install_repl_displayhook interactive ioff ion isinteractive new_figure_manager pause polar rc rc_context rcdefaults register_cmap rgrids sci set_cmap set_loglevel setp subplot subplot2grid subplot_tool switch_backend thetagrids uninstall_repl_displayhook xkcd "
     ]
    }
   ],
   "source": [
    "for identifier in dir(plt):\n",
    "    isfunction = callable(getattr(plt, identifier))\n",
    "    isupper = identifier[0].isupper()\n",
    "    isinfigure = identifier in dir(plt.Figure)\n",
    "    isinaxes = identifier in dir(plt.Axes)\n",
    "    isinaxes2 = 'set_' + identifier in dir(plt.Axes)\n",
    "    iscolormap = identifier in plt.colormaps()\n",
    "    isdatamodel = (identifier[0:1] == '_')\n",
    "    if (not isinfigure and not isinaxes and not isinaxes2 and not iscolormap and isfunction and not isupper and not isdatamodel):\n",
    "        print(identifier, end=' ')"
   ]
  },
  {
   "attachments": {},
   "cell_type": "markdown",
   "metadata": {},
   "source": [
    "However some of these have equivalent methods with substantially different names:"
   ]
  },
  {
   "cell_type": "code",
   "execution_count": 76,
   "metadata": {},
   "outputs": [
    {
     "name": "stdout",
     "output_type": "stream",
     "text": [
      "\u001b[1;31mSignature:\u001b[0m  \u001b[0mplt\u001b[0m\u001b[1;33m.\u001b[0m\u001b[0mbox\u001b[0m\u001b[1;33m(\u001b[0m\u001b[0mon\u001b[0m\u001b[1;33m=\u001b[0m\u001b[1;32mNone\u001b[0m\u001b[1;33m)\u001b[0m\u001b[1;33m\u001b[0m\u001b[1;33m\u001b[0m\u001b[0m\n",
      "\u001b[1;31mDocstring:\u001b[0m\n",
      "Turn the axes box on or off on the current axes.\n",
      "\n",
      "Parameters\n",
      "----------\n",
      "on : bool or None\n",
      "    The new `~matplotlib.axes.Axes` box state. If ``None``, toggle\n",
      "    the state.\n",
      "\n",
      "See Also\n",
      "--------\n",
      ":meth:`matplotlib.axes.Axes.set_frame_on`\n",
      ":meth:`matplotlib.axes.Axes.get_frame_on`\n",
      "\u001b[1;31mFile:\u001b[0m      c:\\users\\pyip\\appdata\\local\\mambaforge\\envs\\jupyterlab\\lib\\site-packages\\matplotlib\\pyplot.py\n",
      "\u001b[1;31mType:\u001b[0m      function"
     ]
    }
   ],
   "source": [
    "? plt.box"
   ]
  },
  {
   "attachments": {},
   "cell_type": "markdown",
   "metadata": {},
   "source": [
    "## Functional Plotting"
   ]
  },
  {
   "attachments": {},
   "cell_type": "markdown",
   "metadata": {},
   "source": [
    "Let's create the following data:"
   ]
  },
  {
   "cell_type": "code",
   "execution_count": 81,
   "metadata": {},
   "outputs": [],
   "source": [
    "tau = 2 * np.pi"
   ]
  },
  {
   "cell_type": "code",
   "execution_count": 93,
   "metadata": {},
   "outputs": [],
   "source": [
    "x = np.linspace(-2*tau, 2*tau, 100)\n",
    "y1 = 1 * np.sin(x)\n",
    "y2 = 2 * np.sin(x)\n",
    "y3 = 3 * np.sin(x)\n"
   ]
  },
  {
   "attachments": {},
   "cell_type": "markdown",
   "metadata": {},
   "source": [
    "pyplot has two types of plotting syntaxes, functional plotting where everything is called as a function from pyplot:"
   ]
  },
  {
   "cell_type": "code",
   "execution_count": 94,
   "metadata": {},
   "outputs": [
    {
     "data": {
      "text/plain": [
       "[<matplotlib.lines.Line2D at 0x1e127037f10>]"
      ]
     },
     "execution_count": 94,
     "metadata": {},
     "output_type": "execute_result"
    },
    {
     "data": {
      "image/png": "[encoded data removed]",
      "text/plain": [
       "<Figure size 640x480 with 1 Axes>"
      ]
     },
     "metadata": {},
     "output_type": "display_data"
    }
   ],
   "source": [
    "#%% Figure\n",
    "plt.figure(num=1) \n",
    "# Figure created \n",
    "# Currently selected Figure\n",
    "\n",
    "#%% Axes\n",
    "plt.axes()\n",
    "# Axes created on the selected Figure\n",
    "# currently selected Axes\n",
    "\n",
    "plt.xlabel('x')\n",
    "plt.ylabel('y')\n",
    "plt.title(r'$y$ = sin($x$)')\n",
    "# labels added to currently selected Axes\n",
    "\n",
    "#%% Plot\n",
    "plt.plot(x, y1)\n",
    "# Line2D created on the selected Axes"
   ]
  },
  {
   "cell_type": "code",
   "execution_count": 98,
   "metadata": {},
   "outputs": [
    {
     "data": {
      "text/plain": [
       "[<matplotlib.lines.Line2D at 0x1e129930d10>]"
      ]
     },
     "execution_count": 98,
     "metadata": {},
     "output_type": "execute_result"
    },
    {
     "data": {
      "image/png": "[encoded data removed]",
      "text/plain": [
       "<Figure size 640x480 with 1 Axes>"
      ]
     },
     "metadata": {},
     "output_type": "display_data"
    }
   ],
   "source": [
    "#%% Figure and Axes\n",
    "plt.subplots(nrows=1, ncols=1, num=2) \n",
    "# create a single Figure with a single Axes subplot\n",
    "\n",
    "plt.xlabel('x')\n",
    "plt.ylabel('y')\n",
    "plt.title(r'$y$ = sin($x$)')\n",
    "# labels added to currently selected Axes\n",
    "\n",
    "#%% Plot\n",
    "plt.plot(x, y1)\n",
    "# Line2D created on the selected Axes"
   ]
  },
  {
   "attachments": {},
   "cell_type": "markdown",
   "metadata": {},
   "source": [
    "nrows=1 and ncols=1 are the defaults:"
   ]
  },
  {
   "cell_type": "code",
   "execution_count": 99,
   "metadata": {},
   "outputs": [
    {
     "data": {
      "text/plain": [
       "[<matplotlib.lines.Line2D at 0x1e126fd46d0>]"
      ]
     },
     "execution_count": 99,
     "metadata": {},
     "output_type": "execute_result"
    },
    {
     "data": {
      "image/png": "[encoded data removed]",
      "text/plain": [
       "<Figure size 640x480 with 1 Axes>"
      ]
     },
     "metadata": {},
     "output_type": "display_data"
    }
   ],
   "source": [
    "plt.subplots(num=3) \n",
    "plt.xlabel('x')\n",
    "plt.ylabel('y')\n",
    "plt.title(r'$y$ = sin($x$)')\n",
    "plt.plot(x, y1)"
   ]
  },
  {
   "cell_type": "code",
   "execution_count": 101,
   "metadata": {},
   "outputs": [
    {
     "data": {
      "text/plain": [
       "<Axes: >"
      ]
     },
     "execution_count": 101,
     "metadata": {},
     "output_type": "execute_result"
    },
    {
     "data": {
      "image/png": "[encoded data removed]",
      "text/plain": [
       "<Figure size 640x480 with 2 Axes>"
      ]
     },
     "metadata": {},
     "output_type": "display_data"
    }
   ],
   "source": [
    "#%% Figure\n",
    "plt.figure(num=1) \n",
    "# Figure created \n",
    "# Currently selected Figure\n",
    "\n",
    "#%% Axes\n",
    "plt.subplot(2, 1, 1)\n",
    "# Axes created on the selected Figure\n",
    "# currently selected Axes\n",
    "\n",
    "# Line2D created on the selected Axes\n",
    "\n",
    "plt.subplot(2, 1, 2)"
   ]
  },
  {
   "cell_type": "code",
   "execution_count": null,
   "metadata": {},
   "outputs": [],
   "source": []
  }
 ],
 "metadata": {
  "kernelspec": {
   "display_name": "jupyterlab",
   "language": "python",
   "name": "python3"
  },
  "language_info": {
   "codemirror_mode": {
    "name": "ipython",
    "version": 3
   },
   "file_extension": ".py",
   "mimetype": "text/x-python",
   "name": "python",
   "nbconvert_exporter": "python",
   "pygments_lexer": "ipython3",
   "version": "3.11.4"
  },
  "orig_nbformat": 4,
  "vscode": {
   "interpreter": {
    "hash": "4648373dafda34926c036cc9e466ef2f8d360789320441bb704a9be21d427d2a"
   }
  }
 },
 "nbformat": 4,
 "nbformat_minor": 2
}
