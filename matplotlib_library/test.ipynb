{
 "cells": [
  {
   "cell_type": "code",
   "execution_count": 1,
   "metadata": {},
   "outputs": [],
   "source": [
    "import numpy as np\n",
    "import matplotlib.pyplot as plt"
   ]
  },
  {
   "cell_type": "code",
   "execution_count": 2,
   "metadata": {},
   "outputs": [],
   "source": [
    "%matplotlib inline"
   ]
  },
  {
   "cell_type": "code",
   "execution_count": 3,
   "metadata": {},
   "outputs": [
    {
     "name": "stdout",
     "output_type": "stream",
     "text": [
      "Available matplotlib backends: ['tk', 'gtk', 'gtk3', 'gtk4', 'wx', 'qt4', 'qt5', 'qt6', 'qt', 'osx', 'nbagg', 'webagg', 'notebook', 'agg', 'svg', 'pdf', 'ps', 'inline', 'ipympl', 'widget']\n"
     ]
    }
   ],
   "source": [
    "%matplotlib --list"
   ]
  },
  {
   "cell_type": "code",
   "execution_count": 4,
   "metadata": {},
   "outputs": [],
   "source": [
    "#%matplotlib agg"
   ]
  },
  {
   "cell_type": "code",
   "execution_count": 5,
   "metadata": {},
   "outputs": [
    {
     "name": "stdout",
     "output_type": "stream",
     "text": [
      "\u001b[1;31mSignature:\u001b[0m\n",
      " \u001b[0mplt\u001b[0m\u001b[1;33m.\u001b[0m\u001b[0mfigure\u001b[0m\u001b[1;33m(\u001b[0m\u001b[1;33m\n",
      "\u001b[0m    \u001b[0mnum\u001b[0m\u001b[1;33m=\u001b[0m\u001b[1;32mNone\u001b[0m\u001b[1;33m,\u001b[0m\u001b[1;33m\n",
      "\u001b[0m    \u001b[0mfigsize\u001b[0m\u001b[1;33m=\u001b[0m\u001b[1;32mNone\u001b[0m\u001b[1;33m,\u001b[0m\u001b[1;33m\n",
      "\u001b[0m    \u001b[0mdpi\u001b[0m\u001b[1;33m=\u001b[0m\u001b[1;32mNone\u001b[0m\u001b[1;33m,\u001b[0m\u001b[1;33m\n",
      "\u001b[0m    \u001b[1;33m*\u001b[0m\u001b[1;33m,\u001b[0m\u001b[1;33m\n",
      "\u001b[0m    \u001b[0mfacecolor\u001b[0m\u001b[1;33m=\u001b[0m\u001b[1;32mNone\u001b[0m\u001b[1;33m,\u001b[0m\u001b[1;33m\n",
      "\u001b[0m    \u001b[0medgecolor\u001b[0m\u001b[1;33m=\u001b[0m\u001b[1;32mNone\u001b[0m\u001b[1;33m,\u001b[0m\u001b[1;33m\n",
      "\u001b[0m    \u001b[0mframeon\u001b[0m\u001b[1;33m=\u001b[0m\u001b[1;32mTrue\u001b[0m\u001b[1;33m,\u001b[0m\u001b[1;33m\n",
      "\u001b[0m    \u001b[0mFigureClass\u001b[0m\u001b[1;33m=\u001b[0m\u001b[1;33m<\u001b[0m\u001b[1;32mclass\u001b[0m \u001b[1;34m'matplotlib.figure.Figure'\u001b[0m\u001b[1;33m>\u001b[0m\u001b[1;33m,\u001b[0m\u001b[1;33m\n",
      "\u001b[0m    \u001b[0mclear\u001b[0m\u001b[1;33m=\u001b[0m\u001b[1;32mFalse\u001b[0m\u001b[1;33m,\u001b[0m\u001b[1;33m\n",
      "\u001b[0m    \u001b[1;33m**\u001b[0m\u001b[0mkwargs\u001b[0m\u001b[1;33m,\u001b[0m\u001b[1;33m\n",
      "\u001b[0m\u001b[1;33m)\u001b[0m\u001b[1;33m\u001b[0m\u001b[1;33m\u001b[0m\u001b[0m\n",
      "\u001b[1;31mDocstring:\u001b[0m\n",
      "Create a new figure, or activate an existing figure.\n",
      "\n",
      "Parameters\n",
      "----------\n",
      "num : int or str or `.Figure` or `.SubFigure`, optional\n",
      "    A unique identifier for the figure.\n",
      "\n",
      "    If a figure with that identifier already exists, this figure is made\n",
      "    active and returned. An integer refers to the ``Figure.number``\n",
      "    attribute, a string refers to the figure label.\n",
      "\n",
      "    If there is no figure with the identifier or *num* is not given, a new\n",
      "    figure is created, made active and returned.  If *num* is an int, it\n",
      "    will be used for the ``Figure.number`` attribute, otherwise, an\n",
      "    auto-generated integer value is used (starting at 1 and incremented\n",
      "    for each new figure). If *num* is a string, the figure label and the\n",
      "    window title is set to this value.  If num is a ``SubFigure``, its\n",
      "    parent ``Figure`` is activated.\n",
      "\n",
      "figsize : (float, float), default: :rc:`figure.figsize`\n",
      "    Width, height in inches.\n",
      "\n",
      "dpi : float, default: :rc:`figure.dpi`\n",
      "    The resolution of the figure in dots-per-inch.\n",
      "\n",
      "facecolor : color, default: :rc:`figure.facecolor`\n",
      "    The background color.\n",
      "\n",
      "edgecolor : color, default: :rc:`figure.edgecolor`\n",
      "    The border color.\n",
      "\n",
      "frameon : bool, default: True\n",
      "    If False, suppress drawing the figure frame.\n",
      "\n",
      "FigureClass : subclass of `~matplotlib.figure.Figure`\n",
      "    If set, an instance of this subclass will be created, rather than a\n",
      "    plain `.Figure`.\n",
      "\n",
      "clear : bool, default: False\n",
      "    If True and the figure already exists, then it is cleared.\n",
      "\n",
      "layout : {'constrained', 'compressed', 'tight', 'none', `.LayoutEngine`, None}, default: None\n",
      "    The layout mechanism for positioning of plot elements to avoid\n",
      "    overlapping Axes decorations (labels, ticks, etc). Note that layout\n",
      "    managers can measurably slow down figure display.\n",
      "\n",
      "    - 'constrained': The constrained layout solver adjusts axes sizes\n",
      "      to avoid overlapping axes decorations.  Can handle complex plot\n",
      "      layouts and colorbars, and is thus recommended.\n",
      "\n",
      "      See :doc:`/tutorials/intermediate/constrainedlayout_guide`\n",
      "      for examples.\n",
      "\n",
      "    - 'compressed': uses the same algorithm as 'constrained', but\n",
      "      removes extra space between fixed-aspect-ratio Axes.  Best for\n",
      "      simple grids of axes.\n",
      "\n",
      "    - 'tight': Use the tight layout mechanism. This is a relatively\n",
      "      simple algorithm that adjusts the subplot parameters so that\n",
      "      decorations do not overlap. See `.Figure.set_tight_layout` for\n",
      "      further details.\n",
      "\n",
      "    - 'none': Do not use a layout engine.\n",
      "\n",
      "    - A `.LayoutEngine` instance. Builtin layout classes are\n",
      "      `.ConstrainedLayoutEngine` and `.TightLayoutEngine`, more easily\n",
      "      accessible by 'constrained' and 'tight'.  Passing an instance\n",
      "      allows third parties to provide their own layout engine.\n",
      "\n",
      "    If not given, fall back to using the parameters *tight_layout* and\n",
      "    *constrained_layout*, including their config defaults\n",
      "    :rc:`figure.autolayout` and :rc:`figure.constrained_layout.use`.\n",
      "\n",
      "**kwargs\n",
      "    Additional keyword arguments are passed to the `.Figure` constructor.\n",
      "\n",
      "Returns\n",
      "-------\n",
      "`~matplotlib.figure.Figure`\n",
      "\n",
      "Notes\n",
      "-----\n",
      "A newly created figure is passed to the `~.FigureCanvasBase.new_manager`\n",
      "method or the `new_figure_manager` function provided by the current\n",
      "backend, which install a canvas and a manager on the figure.\n",
      "\n",
      "Once this is done, :rc:`figure.hooks` are called, one at a time, on the\n",
      "figure; these hooks allow arbitrary customization of the figure (e.g.,\n",
      "attaching callbacks) or of associated elements (e.g., modifying the\n",
      "toolbar).  See :doc:`/gallery/user_interfaces/mplcvd` for an example of\n",
      "toolbar customization.\n",
      "\n",
      "If you are creating many figures, make sure you explicitly call\n",
      "`.pyplot.close` on the figures you are not using, because this will\n",
      "enable pyplot to properly clean up the memory.\n",
      "\n",
      "`~matplotlib.rcParams` defines the default values, which can be modified\n",
      "in the matplotlibrc file.\n",
      "\u001b[1;31mFile:\u001b[0m      c:\\users\\pyip\\appdata\\local\\mambaforge\\envs\\jupyterlab\\lib\\site-packages\\matplotlib\\pyplot.py\n",
      "\u001b[1;31mType:\u001b[0m      function"
     ]
    }
   ],
   "source": [
    "? plt.figure"
   ]
  },
  {
   "cell_type": "code",
   "execution_count": 23,
   "metadata": {},
   "outputs": [
    {
     "data": {
      "image/png": "[encoded data removed]",
      "text/plain": [
       "<Figure size 480x288 with 1 Axes>"
      ]
     },
     "metadata": {},
     "output_type": "display_data"
    }
   ],
   "source": [
    "fig = plt.figure(num=1, figsize=(5, 3), dpi=96, facecolor='cyan', edgecolor='black', linewidth=5);\n",
    "ax = fig.add_subplot();\n",
    "ax.set_visible(b=False);"
   ]
  },
  {
   "cell_type": "code",
   "execution_count": 24,
   "metadata": {},
   "outputs": [
    {
     "name": "stdout",
     "output_type": "stream",
     "text": [
      "Bbox(x0=0.0, y0=0.0, x1=5.0, y1=3.0)\n"
     ]
    },
    {
     "data": {
      "image/png": "[encoded data removed]",
      "text/plain": [
       "<Figure size 480x288 with 1 Axes>"
      ]
     },
     "metadata": {},
     "output_type": "display_data"
    }
   ],
   "source": [
    "fig, ax = plt.subplots(num=2, figsize=(5, 3), dpi=96, facecolor='cyan', edgecolor='black', linewidth=5);\n",
    "ax.set_facecolor('yellow');"
   ]
  },
  {
   "cell_type": "code",
   "execution_count": 37,
   "metadata": {},
   "outputs": [
    {
     "data": {
      "image/png": "[encoded data removed]",
      "text/plain": [
       "<Figure size 480x288 with 1 Axes>"
      ]
     },
     "metadata": {},
     "output_type": "display_data"
    }
   ],
   "source": [
    "fig, ax = plt.subplots(num=3, figsize=(5, 3), dpi=96, facecolor='cyan', edgecolor='black', linewidth=5);\n",
    "ax.set_facecolor('yellow');\n",
    "ax.set_xlabel('x', color='red');\n",
    "ax.set_ylabel('y', color='red');\n",
    "ax.set_title('y = f(x)', color='red');"
   ]
  },
  {
   "cell_type": "code",
   "execution_count": 39,
   "metadata": {},
   "outputs": [
    {
     "data": {
      "image/png": "[encoded data removed]",
      "text/plain": [
       "<Figure size 480x288 with 1 Axes>"
      ]
     },
     "metadata": {},
     "output_type": "display_data"
    }
   ],
   "source": [
    "fig, ax = plt.subplots(num=4, figsize=(5, 3), dpi=96, facecolor='cyan', edgecolor='black', linewidth=5);\n",
    "ax.set_facecolor('yellow')\n",
    "ax.set_xlabel('x', color='red');\n",
    "ax.set_ylabel('y', color='red');\n",
    "ax.set_title('y = f(x)', color='red');\n",
    "ax.scatter(x=np.array([1, 2, 3, 4, 5]), \n",
    "           y=np.array([2, 4, 6, 8, 10]), color='blueviolet', s=100);"
   ]
  },
  {
   "cell_type": "code",
   "execution_count": null,
   "metadata": {},
   "outputs": [],
   "source": []
  }
 ],
 "metadata": {
  "kernelspec": {
   "display_name": "Python 3 (ipykernel)",
   "language": "python",
   "name": "python3"
  },
  "language_info": {
   "codemirror_mode": {
    "name": "ipython",
    "version": 3
   },
   "file_extension": ".py",
   "mimetype": "text/x-python",
   "name": "python",
   "nbconvert_exporter": "python",
   "pygments_lexer": "ipython3",
   "version": "3.11.4"
  },
  "vscode": {
   "interpreter": {
    "hash": "4648373dafda34926c036cc9e466ef2f8d360789320441bb704a9be21d427d2a"
   }
  }
 },
 "nbformat": 4,
 "nbformat_minor": 4
}
