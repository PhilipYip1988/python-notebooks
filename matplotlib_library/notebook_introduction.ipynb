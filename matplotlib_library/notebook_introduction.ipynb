{
 "cells": [
  {
   "attachments": {},
   "cell_type": "markdown",
   "metadata": {},
   "source": [
    "# The matplotlib library"
   ]
  },
  {
   "cell_type": "markdown",
   "metadata": {},
   "source": [
    "```matplotlib``` is an abbreviation for the matrix plotting library."
   ]
  },
  {
   "cell_type": "markdown",
   "metadata": {},
   "source": [
    "## Categorize_Identifiers Module"
   ]
  },
  {
   "cell_type": "markdown",
   "metadata": {},
   "source": [
    "This notebook will use the following functions ```dir2```, ```variables``` and ```view``` in the custom module ```categorize_identifiers``` which is found in the same directory as this notebook file. ```dir2``` is a variant of ```dir``` that groups identifiers into a ```dict``` under categories and ```variables``` is an IPython based a variable inspector. ```view``` is used to view a ```Collection``` in more detail:"
   ]
  },
  {
   "cell_type": "code",
   "execution_count": 1,
   "metadata": {},
   "outputs": [],
   "source": [
    "from categorize_identifiers import dir2, variables, view"
   ]
  },
  {
   "cell_type": "markdown",
   "metadata": {},
   "source": [
    "## Importing the datascience libraries"
   ]
  },
  {
   "attachments": {},
   "cell_type": "markdown",
   "metadata": {},
   "source": [
    "Normally ```numpy``` is imported alongside ```matplotlib``` as ```ndarray``` instances are used to store data for plotting. The three letter alias ```mpl``` is typically used for ```matplotlib``` and the ```pyplot``` module is normally imported using the three letter alias ```plt```:"
   ]
  },
  {
   "cell_type": "code",
   "execution_count": 2,
   "metadata": {},
   "outputs": [],
   "source": [
    "import numpy as np\n",
    "import pandas as pd\n",
    "import matplotlib as mpl\n",
    "import matplotlib.pyplot as plt"
   ]
  },
  {
   "cell_type": "markdown",
   "metadata": {},
   "source": [
    "The version can be determined using the datamodel attribute ```__version__```:"
   ]
  },
  {
   "cell_type": "code",
   "execution_count": 3,
   "metadata": {},
   "outputs": [
    {
     "data": {
      "text/plain": [
       "'3.8.2'"
      ]
     },
     "execution_count": 3,
     "metadata": {},
     "output_type": "execute_result"
    }
   ],
   "source": [
    "mpl.__version__"
   ]
  },
  {
   "cell_type": "markdown",
   "metadata": {},
   "source": [
    "The identifiers of the ```mpl``` library can be examined:"
   ]
  },
  {
   "cell_type": "code",
   "execution_count": 4,
   "metadata": {},
   "outputs": [
    {
     "name": "stdout",
     "output_type": "stream",
     "text": [
      "{'attribute': ['color_sequences',\n",
      "               'defaultParams',\n",
      "               'rcParams',\n",
      "               'rcParamsDefault',\n",
      "               'rcParamsOrig',\n",
      "               'sys'],\n",
      " 'module': ['artist',\n",
      "            'axes',\n",
      "            'axis',\n",
      "            'backend_bases',\n",
      "            'backend_managers',\n",
      "            'backend_tools',\n",
      "            'bezier',\n",
      "            'category',\n",
      "            'cbook',\n",
      "            'cm',\n",
      "            'collections',\n",
      "            'colorbar',\n",
      "            'colors',\n",
      "            'container',\n",
      "            'contour',\n",
      "            'dates',\n",
      "            'dviread',\n",
      "            'figure',\n",
      "            'font_manager',\n",
      "            'ft2font',\n",
      "            'gridspec',\n",
      "            'hatch',\n",
      "            'image',\n",
      "            'inspect',\n",
      "            'layout_engine',\n",
      "            'legend',\n",
      "            'legend_handler',\n",
      "            'lines',\n",
      "            'logging',\n",
      "            'markers',\n",
      "            'mathtext',\n",
      "            'mlab',\n",
      "            'offsetbox',\n",
      "            'patches',\n",
      "            'path',\n",
      "            'projections',\n",
      "            'pyplot',\n",
      "            'quiver',\n",
      "            'rcsetup',\n",
      "            'scale',\n",
      "            'spines',\n",
      "            'stackplot',\n",
      "            'streamplot',\n",
      "            'style',\n",
      "            'table',\n",
      "            'texmanager',\n",
      "            'text',\n",
      "            'textpath',\n",
      "            'ticker',\n",
      "            'transforms',\n",
      "            'tri',\n",
      "            'units',\n",
      "            'widgets'],\n",
      " 'method': ['colormaps',\n",
      "            'get_backend',\n",
      "            'get_cachedir',\n",
      "            'get_configdir',\n",
      "            'get_data_path',\n",
      "            'interactive',\n",
      "            'is_interactive',\n",
      "            'matplotlib_fname',\n",
      "            'namedtuple',\n",
      "            'parse_version',\n",
      "            'rc',\n",
      "            'rc_context',\n",
      "            'rc_file',\n",
      "            'rc_file_defaults',\n",
      "            'rc_params',\n",
      "            'rc_params_from_file',\n",
      "            'rcdefaults',\n",
      "            'sanitize_sequence',\n",
      "            'set_loglevel',\n",
      "            'use',\n",
      "            'validate_backend'],\n",
      " 'upper_class': ['ExecutableNotFoundError',\n",
      "                 'MatplotlibDeprecationWarning',\n",
      "                 'MutableMapping',\n",
      "                 'Parameter',\n",
      "                 'Path',\n",
      "                 'RcParams'],\n",
      " 'datamodel_attribute': ['__all__',\n",
      "                         '__bibtex__',\n",
      "                         '__builtins__',\n",
      "                         '__cached__',\n",
      "                         '__doc__',\n",
      "                         '__file__',\n",
      "                         '__loader__',\n",
      "                         '__name__',\n",
      "                         '__package__',\n",
      "                         '__path__',\n",
      "                         '__spec__'],\n",
      " 'datamodel_method': ['__getattr__'],\n",
      " 'internal_attribute': ['_afm',\n",
      "                        '_api',\n",
      "                        '_blocking_input',\n",
      "                        '_c_internal_utils',\n",
      "                        '_cm',\n",
      "                        '_cm_listed',\n",
      "                        '_color_data',\n",
      "                        '_constrained_layout',\n",
      "                        '_deprecated_ignore_map',\n",
      "                        '_deprecated_map',\n",
      "                        '_deprecated_remain_as_none',\n",
      "                        '_docstring',\n",
      "                        '_enums',\n",
      "                        '_fontconfig_pattern',\n",
      "                        '_image',\n",
      "                        '_layoutgrid',\n",
      "                        '_log',\n",
      "                        '_mathtext',\n",
      "                        '_mathtext_data',\n",
      "                        '_path',\n",
      "                        '_pylab_helpers',\n",
      "                        '_text_helpers',\n",
      "                        '_tight_bbox',\n",
      "                        '_tight_layout',\n",
      "                        '_version'],\n",
      " 'internal_method': ['_ExecInfo',\n",
      "                     '_VersionInfo',\n",
      "                     '_add_data_doc',\n",
      "                     '_check_versions',\n",
      "                     '_ensure_handler',\n",
      "                     '_get_config_or_cache_dir',\n",
      "                     '_get_executable_info',\n",
      "                     '_get_ssl_context',\n",
      "                     '_get_version',\n",
      "                     '_get_xdg_cache_dir',\n",
      "                     '_get_xdg_config_dir',\n",
      "                     '_init_tests',\n",
      "                     '_label_from_arg',\n",
      "                     '_logged_cached',\n",
      "                     '_open_file_or_url',\n",
      "                     '_parse_to_version_info',\n",
      "                     '_preprocess_data',\n",
      "                     '_rc_params_in_file',\n",
      "                     '_replacer',\n",
      "                     '_val_or_rc']}\n"
     ]
    }
   ],
   "source": [
    "dir2(mpl, exclude_external_modules=True)"
   ]
  },
  {
   "cell_type": "markdown",
   "metadata": {},
   "source": [
    "Notice that the ```mpl``` library is compartmentalised into a modules. The modules listed above exclude standard modules and third-party modules used within the ```mpl``` library for example ```numpy```. These modules are used internally by ```mpl``` and should be imported separately by the user, when the user intends to use functionality direct from them."
   ]
  },
  {
   "attachments": {},
   "cell_type": "markdown",
   "metadata": {},
   "source": [
    "The ```ndarray``` is used as the default datastructure for simple plots. The simple plots use a 1D ```ndarray``` however more advanced plots are configured to use higher dimension ```ndarray``` instances.\n",
    "\n",
    "A simple plot requires ```y``` values measured at respect to ```x``` values. ```y``` is known as the dependent variable and ```x``` is known as the dependent variable. Notice that the independent ```x``` measurements are taken at linearly spaced intervals. The ```y``` values taken at these values of ```x``` have some associated error:"
   ]
  },
  {
   "cell_type": "code",
   "execution_count": 5,
   "metadata": {},
   "outputs": [],
   "source": [
    "x = np.array([0, 1, 2, 3, 4, 5])\n",
    "y = np.array([0.001, 2.001, 3.999, 5.999, 8.002, 10.001])"
   ]
  },
  {
   "cell_type": "markdown",
   "metadata": {},
   "source": [
    "```mpl``` was originally a Python plotting library based on MATLAB which was a popular commercial programming language for numeric computation and plotting. During early development there were ```mlab``` and ```pylab``` modules which had function names equivalent to functions found in MATLAB. Functions from these modules were typically imported into the global namespace and used like they are in MATLAB however importing all the functions in the global namespace and overriding the ```builtins``` functions is considered bad practice and goes against the Object Orientated Programming Principles (OOP) commonly adopted in Python. The Python plot ```pyplot``` module updated most of these plotting functions using OOP principles. The ```pyplot``` module is imported using the alias ```plt``` and now that the ```mpl``` library is mature is the main module used. The ```mlab``` module now only contains a small number of specialised function for spectral computations and kernel density estimations that aren't yet incorporated into ```pyplot```.\n",
    "\n",
    "The identifiers for the ```pyplot``` module can be examined:"
   ]
  },
  {
   "cell_type": "code",
   "execution_count": 6,
   "metadata": {},
   "outputs": [
    {
     "name": "stdout",
     "output_type": "stream",
     "text": [
      "{'attribute': ['annotations',\n",
      "               'color_sequences',\n",
      "               'rcParams',\n",
      "               'rcParamsDefault',\n",
      "               'rcParamsOrig'],\n",
      " 'constant': ['TYPE_CHECKING'],\n",
      " 'module': ['cbook', 'cm', 'matplotlib', 'mlab', 'np', 'rcsetup', 'style'],\n",
      " 'method': ['acorr',\n",
      "            'angle_spectrum',\n",
      "            'annotate',\n",
      "            'arrow',\n",
      "            'autoscale',\n",
      "            'autumn',\n",
      "            'axes',\n",
      "            'axhline',\n",
      "            'axhspan',\n",
      "            'axis',\n",
      "            'axline',\n",
      "            'axvline',\n",
      "            'axvspan',\n",
      "            'bar',\n",
      "            'bar_label',\n",
      "            'barbs',\n",
      "            'barh',\n",
      "            'bone',\n",
      "            'box',\n",
      "            'boxplot',\n",
      "            'broken_barh',\n",
      "            'cast',\n",
      "            'cla',\n",
      "            'clabel',\n",
      "            'clf',\n",
      "            'clim',\n",
      "            'close',\n",
      "            'cohere',\n",
      "            'colorbar',\n",
      "            'colormaps',\n",
      "            'connect',\n",
      "            'contour',\n",
      "            'contourf',\n",
      "            'cool',\n",
      "            'copper',\n",
      "            'csd',\n",
      "            'delaxes',\n",
      "            'disconnect',\n",
      "            'draw',\n",
      "            'draw_all',\n",
      "            'draw_if_interactive',\n",
      "            'ecdf',\n",
      "            'errorbar',\n",
      "            'eventplot',\n",
      "            'figaspect',\n",
      "            'figimage',\n",
      "            'figlegend',\n",
      "            'fignum_exists',\n",
      "            'figtext',\n",
      "            'figure',\n",
      "            'fill',\n",
      "            'fill_between',\n",
      "            'fill_betweenx',\n",
      "            'findobj',\n",
      "            'flag',\n",
      "            'gca',\n",
      "            'gcf',\n",
      "            'gci',\n",
      "            'get',\n",
      "            'get_backend',\n",
      "            'get_cmap',\n",
      "            'get_current_fig_manager',\n",
      "            'get_figlabels',\n",
      "            'get_fignums',\n",
      "            'get_plot_commands',\n",
      "            'get_scale_names',\n",
      "            'getp',\n",
      "            'ginput',\n",
      "            'gray',\n",
      "            'grid',\n",
      "            'hexbin',\n",
      "            'hist',\n",
      "            'hist2d',\n",
      "            'hlines',\n",
      "            'hot',\n",
      "            'hsv',\n",
      "            'imread',\n",
      "            'imsave',\n",
      "            'imshow',\n",
      "            'inferno',\n",
      "            'install_repl_displayhook',\n",
      "            'interactive',\n",
      "            'ioff',\n",
      "            'ion',\n",
      "            'isinteractive',\n",
      "            'jet',\n",
      "            'legend',\n",
      "            'locator_params',\n",
      "            'loglog',\n",
      "            'magma',\n",
      "            'magnitude_spectrum',\n",
      "            'margins',\n",
      "            'matshow',\n",
      "            'minorticks_off',\n",
      "            'minorticks_on',\n",
      "            'new_figure_manager',\n",
      "            'nipy_spectral',\n",
      "            'overload',\n",
      "            'pause',\n",
      "            'pcolor',\n",
      "            'pcolormesh',\n",
      "            'phase_spectrum',\n",
      "            'pie',\n",
      "            'pink',\n",
      "            'plasma',\n",
      "            'plot',\n",
      "            'plot_date',\n",
      "            'polar',\n",
      "            'prism',\n",
      "            'psd',\n",
      "            'quiver',\n",
      "            'quiverkey',\n",
      "            'rc',\n",
      "            'rc_context',\n",
      "            'rcdefaults',\n",
      "            'register_cmap',\n",
      "            'rgrids',\n",
      "            'savefig',\n",
      "            'sca',\n",
      "            'scatter',\n",
      "            'sci',\n",
      "            'semilogx',\n",
      "            'semilogy',\n",
      "            'set_cmap',\n",
      "            'set_loglevel',\n",
      "            'setp',\n",
      "            'show',\n",
      "            'specgram',\n",
      "            'spring',\n",
      "            'spy',\n",
      "            'stackplot',\n",
      "            'stairs',\n",
      "            'stem',\n",
      "            'step',\n",
      "            'streamplot',\n",
      "            'subplot',\n",
      "            'subplot2grid',\n",
      "            'subplot_mosaic',\n",
      "            'subplot_tool',\n",
      "            'subplots',\n",
      "            'subplots_adjust',\n",
      "            'summer',\n",
      "            'suptitle',\n",
      "            'switch_backend',\n",
      "            'table',\n",
      "            'text',\n",
      "            'thetagrids',\n",
      "            'tick_params',\n",
      "            'ticklabel_format',\n",
      "            'tight_layout',\n",
      "            'title',\n",
      "            'tricontour',\n",
      "            'tricontourf',\n",
      "            'tripcolor',\n",
      "            'triplot',\n",
      "            'twinx',\n",
      "            'twiny',\n",
      "            'uninstall_repl_displayhook',\n",
      "            'violinplot',\n",
      "            'viridis',\n",
      "            'vlines',\n",
      "            'waitforbuttonpress',\n",
      "            'winter',\n",
      "            'xcorr',\n",
      "            'xkcd',\n",
      "            'xlabel',\n",
      "            'xlim',\n",
      "            'xscale',\n",
      "            'xticks',\n",
      "            'ylabel',\n",
      "            'ylim',\n",
      "            'yscale',\n",
      "            'yticks'],\n",
      " 'upper_class': ['AbstractContextManager',\n",
      "                 'Annotation',\n",
      "                 'Arrow',\n",
      "                 'Artist',\n",
      "                 'AutoLocator',\n",
      "                 'Axes',\n",
      "                 'Button',\n",
      "                 'Circle',\n",
      "                 'Enum',\n",
      "                 'ExitStack',\n",
      "                 'Figure',\n",
      "                 'FigureBase',\n",
      "                 'FigureCanvasBase',\n",
      "                 'FigureManagerBase',\n",
      "                 'FixedFormatter',\n",
      "                 'FixedLocator',\n",
      "                 'FormatStrFormatter',\n",
      "                 'Formatter',\n",
      "                 'FuncFormatter',\n",
      "                 'GridSpec',\n",
      "                 'IndexLocator',\n",
      "                 'Line2D',\n",
      "                 'LinearLocator',\n",
      "                 'Locator',\n",
      "                 'LogFormatter',\n",
      "                 'LogFormatterExponent',\n",
      "                 'LogFormatterMathtext',\n",
      "                 'LogLocator',\n",
      "                 'MaxNLocator',\n",
      "                 'MouseButton',\n",
      "                 'MultipleLocator',\n",
      "                 'Normalize',\n",
      "                 'NullFormatter',\n",
      "                 'NullLocator',\n",
      "                 'PolarAxes',\n",
      "                 'Polygon',\n",
      "                 'Rectangle',\n",
      "                 'ScalarFormatter',\n",
      "                 'Slider',\n",
      "                 'Subplot',\n",
      "                 'SubplotSpec',\n",
      "                 'Text',\n",
      "                 'TickHelper',\n",
      "                 'Widget'],\n",
      " 'datamodel_attribute': ['__annotations__',\n",
      "                         '__builtins__',\n",
      "                         '__cached__',\n",
      "                         '__doc__',\n",
      "                         '__file__',\n",
      "                         '__loader__',\n",
      "                         '__name__',\n",
      "                         '__package__',\n",
      "                         '__spec__'],\n",
      " 'internal_attribute': ['_REPL_DISPLAYHOOK',\n",
      "                        '_api',\n",
      "                        '_backend_mod',\n",
      "                        '_color_sequences',\n",
      "                        '_docstring',\n",
      "                        '_log',\n",
      "                        '_pylab_helpers'],\n",
      " 'internal_method': ['_ReplDisplayHook',\n",
      "                     '_auto_draw_if_interactive',\n",
      "                     '_colormaps',\n",
      "                     '_copy_docstring_and_deprecators',\n",
      "                     '_draw_all_if_interactive',\n",
      "                     '_get_backend_mod',\n",
      "                     '_get_pyplot_commands',\n",
      "                     '_warn_if_gui_out_of_main_thread']}\n"
     ]
    }
   ],
   "source": [
    "dir2(plt, exclude_external_modules=True)"
   ]
  },
  {
   "cell_type": "markdown",
   "metadata": {},
   "source": [
    "The most important classes are ```plt.Figure``` and ```plt.Axes```:"
   ]
  },
  {
   "cell_type": "code",
   "execution_count": 7,
   "metadata": {},
   "outputs": [
    {
     "name": "stdout",
     "output_type": "stream",
     "text": [
      "{'attribute': ['axes',\n",
      "               'dpi',\n",
      "               'frameon',\n",
      "               'mouseover',\n",
      "               'stale',\n",
      "               'sticky_edges',\n",
      "               'zorder'],\n",
      " 'method': ['add_artist',\n",
      "            'add_axes',\n",
      "            'add_axobserver',\n",
      "            'add_callback',\n",
      "            'add_gridspec',\n",
      "            'add_subfigure',\n",
      "            'add_subplot',\n",
      "            'align_labels',\n",
      "            'align_xlabels',\n",
      "            'align_ylabels',\n",
      "            'autofmt_xdate',\n",
      "            'clear',\n",
      "            'clf',\n",
      "            'colorbar',\n",
      "            'contains',\n",
      "            'convert_xunits',\n",
      "            'convert_yunits',\n",
      "            'delaxes',\n",
      "            'draw',\n",
      "            'draw_artist',\n",
      "            'draw_without_rendering',\n",
      "            'figimage',\n",
      "            'findobj',\n",
      "            'format_cursor_data',\n",
      "            'gca',\n",
      "            'get_agg_filter',\n",
      "            'get_alpha',\n",
      "            'get_animated',\n",
      "            'get_axes',\n",
      "            'get_children',\n",
      "            'get_clip_box',\n",
      "            'get_clip_on',\n",
      "            'get_clip_path',\n",
      "            'get_constrained_layout',\n",
      "            'get_constrained_layout_pads',\n",
      "            'get_cursor_data',\n",
      "            'get_default_bbox_extra_artists',\n",
      "            'get_dpi',\n",
      "            'get_edgecolor',\n",
      "            'get_facecolor',\n",
      "            'get_figheight',\n",
      "            'get_figure',\n",
      "            'get_figwidth',\n",
      "            'get_frameon',\n",
      "            'get_gid',\n",
      "            'get_in_layout',\n",
      "            'get_label',\n",
      "            'get_layout_engine',\n",
      "            'get_linewidth',\n",
      "            'get_mouseover',\n",
      "            'get_path_effects',\n",
      "            'get_picker',\n",
      "            'get_rasterized',\n",
      "            'get_size_inches',\n",
      "            'get_sketch_params',\n",
      "            'get_snap',\n",
      "            'get_suptitle',\n",
      "            'get_supxlabel',\n",
      "            'get_supylabel',\n",
      "            'get_tight_layout',\n",
      "            'get_tightbbox',\n",
      "            'get_transform',\n",
      "            'get_transformed_clip_path_and_affine',\n",
      "            'get_url',\n",
      "            'get_visible',\n",
      "            'get_window_extent',\n",
      "            'get_zorder',\n",
      "            'ginput',\n",
      "            'have_units',\n",
      "            'is_transform_set',\n",
      "            'legend',\n",
      "            'pchanged',\n",
      "            'pick',\n",
      "            'pickable',\n",
      "            'properties',\n",
      "            'remove',\n",
      "            'remove_callback',\n",
      "            'savefig',\n",
      "            'sca',\n",
      "            'set',\n",
      "            'set_agg_filter',\n",
      "            'set_alpha',\n",
      "            'set_animated',\n",
      "            'set_canvas',\n",
      "            'set_clip_box',\n",
      "            'set_clip_on',\n",
      "            'set_clip_path',\n",
      "            'set_constrained_layout',\n",
      "            'set_constrained_layout_pads',\n",
      "            'set_dpi',\n",
      "            'set_edgecolor',\n",
      "            'set_facecolor',\n",
      "            'set_figheight',\n",
      "            'set_figure',\n",
      "            'set_figwidth',\n",
      "            'set_frameon',\n",
      "            'set_gid',\n",
      "            'set_in_layout',\n",
      "            'set_label',\n",
      "            'set_layout_engine',\n",
      "            'set_linewidth',\n",
      "            'set_mouseover',\n",
      "            'set_path_effects',\n",
      "            'set_picker',\n",
      "            'set_rasterized',\n",
      "            'set_size_inches',\n",
      "            'set_sketch_params',\n",
      "            'set_snap',\n",
      "            'set_tight_layout',\n",
      "            'set_transform',\n",
      "            'set_url',\n",
      "            'set_visible',\n",
      "            'set_zorder',\n",
      "            'show',\n",
      "            'subfigures',\n",
      "            'subplot_mosaic',\n",
      "            'subplots',\n",
      "            'subplots_adjust',\n",
      "            'suptitle',\n",
      "            'supxlabel',\n",
      "            'supylabel',\n",
      "            'text',\n",
      "            'tight_layout',\n",
      "            'update',\n",
      "            'update_from',\n",
      "            'waitforbuttonpress'],\n",
      " 'datamodel_attribute': ['__dict__', '__module__', '__weakref__'],\n",
      " 'datamodel_method': ['__setstate__'],\n",
      " 'internal_attribute': ['_PROPERTIES_EXCLUDED_FROM_SET', '_render_lock'],\n",
      " 'internal_method': ['_add_axes_internal',\n",
      "                     '_check_layout_engines_compat',\n",
      "                     '_cm_set',\n",
      "                     '_different_canvas',\n",
      "                     '_fully_clipped_to_axes',\n",
      "                     '_gci',\n",
      "                     '_get_dpi',\n",
      "                     '_get_draw_artists',\n",
      "                     '_get_renderer',\n",
      "                     '_internal_update',\n",
      "                     '_norm_per_subplot_kw',\n",
      "                     '_normalize_grid_string',\n",
      "                     '_process_projection_requirements',\n",
      "                     '_remove_axes',\n",
      "                     '_repr_html_',\n",
      "                     '_set_alpha_for_array',\n",
      "                     '_set_artist_props',\n",
      "                     '_set_dpi',\n",
      "                     '_set_gc_clip',\n",
      "                     '_suplabels',\n",
      "                     '_update_props',\n",
      "                     '_update_set_signature_and_docstring']}\n"
     ]
    }
   ],
   "source": [
    "dir2(plt.Figure, unique_only=True)"
   ]
  },
  {
   "cell_type": "code",
   "execution_count": 8,
   "metadata": {},
   "outputs": [
    {
     "name": "stdout",
     "output_type": "stream",
     "text": [
      "{'attribute': ['artists',\n",
      "               'axes',\n",
      "               'collections',\n",
      "               'images',\n",
      "               'lines',\n",
      "               'mouseover',\n",
      "               'name',\n",
      "               'patches',\n",
      "               'stale',\n",
      "               'sticky_edges',\n",
      "               'tables',\n",
      "               'texts',\n",
      "               'use_sticky_edges',\n",
      "               'viewLim',\n",
      "               'zorder'],\n",
      " 'method': ['acorr',\n",
      "            'add_artist',\n",
      "            'add_callback',\n",
      "            'add_child_axes',\n",
      "            'add_collection',\n",
      "            'add_container',\n",
      "            'add_image',\n",
      "            'add_line',\n",
      "            'add_patch',\n",
      "            'add_table',\n",
      "            'angle_spectrum',\n",
      "            'annotate',\n",
      "            'apply_aspect',\n",
      "            'arrow',\n",
      "            'autoscale',\n",
      "            'autoscale_view',\n",
      "            'axhline',\n",
      "            'axhspan',\n",
      "            'axis',\n",
      "            'axline',\n",
      "            'axvline',\n",
      "            'axvspan',\n",
      "            'bar',\n",
      "            'bar_label',\n",
      "            'barbs',\n",
      "            'barh',\n",
      "            'boxplot',\n",
      "            'broken_barh',\n",
      "            'bxp',\n",
      "            'can_pan',\n",
      "            'can_zoom',\n",
      "            'cla',\n",
      "            'clabel',\n",
      "            'clear',\n",
      "            'cohere',\n",
      "            'contains',\n",
      "            'contains_point',\n",
      "            'contour',\n",
      "            'contourf',\n",
      "            'convert_xunits',\n",
      "            'convert_yunits',\n",
      "            'csd',\n",
      "            'drag_pan',\n",
      "            'draw',\n",
      "            'draw_artist',\n",
      "            'ecdf',\n",
      "            'end_pan',\n",
      "            'errorbar',\n",
      "            'eventplot',\n",
      "            'fill',\n",
      "            'fill_between',\n",
      "            'fill_betweenx',\n",
      "            'findobj',\n",
      "            'format_coord',\n",
      "            'format_cursor_data',\n",
      "            'format_xdata',\n",
      "            'format_ydata',\n",
      "            'get_adjustable',\n",
      "            'get_agg_filter',\n",
      "            'get_alpha',\n",
      "            'get_anchor',\n",
      "            'get_animated',\n",
      "            'get_aspect',\n",
      "            'get_autoscale_on',\n",
      "            'get_autoscalex_on',\n",
      "            'get_autoscaley_on',\n",
      "            'get_axes_locator',\n",
      "            'get_axisbelow',\n",
      "            'get_box_aspect',\n",
      "            'get_children',\n",
      "            'get_clip_box',\n",
      "            'get_clip_on',\n",
      "            'get_clip_path',\n",
      "            'get_cursor_data',\n",
      "            'get_data_ratio',\n",
      "            'get_default_bbox_extra_artists',\n",
      "            'get_facecolor',\n",
      "            'get_fc',\n",
      "            'get_figure',\n",
      "            'get_frame_on',\n",
      "            'get_gid',\n",
      "            'get_gridspec',\n",
      "            'get_images',\n",
      "            'get_in_layout',\n",
      "            'get_label',\n",
      "            'get_legend',\n",
      "            'get_legend_handles_labels',\n",
      "            'get_lines',\n",
      "            'get_mouseover',\n",
      "            'get_navigate',\n",
      "            'get_navigate_mode',\n",
      "            'get_path_effects',\n",
      "            'get_picker',\n",
      "            'get_position',\n",
      "            'get_rasterization_zorder',\n",
      "            'get_rasterized',\n",
      "            'get_shared_x_axes',\n",
      "            'get_shared_y_axes',\n",
      "            'get_sketch_params',\n",
      "            'get_snap',\n",
      "            'get_subplotspec',\n",
      "            'get_tightbbox',\n",
      "            'get_title',\n",
      "            'get_transform',\n",
      "            'get_transformed_clip_path_and_affine',\n",
      "            'get_url',\n",
      "            'get_visible',\n",
      "            'get_window_extent',\n",
      "            'get_xaxis',\n",
      "            'get_xaxis_text1_transform',\n",
      "            'get_xaxis_text2_transform',\n",
      "            'get_xaxis_transform',\n",
      "            'get_xbound',\n",
      "            'get_xgridlines',\n",
      "            'get_xlabel',\n",
      "            'get_xlim',\n",
      "            'get_xmajorticklabels',\n",
      "            'get_xminorticklabels',\n",
      "            'get_xscale',\n",
      "            'get_xticklabels',\n",
      "            'get_xticklines',\n",
      "            'get_xticks',\n",
      "            'get_yaxis',\n",
      "            'get_yaxis_text1_transform',\n",
      "            'get_yaxis_text2_transform',\n",
      "            'get_yaxis_transform',\n",
      "            'get_ybound',\n",
      "            'get_ygridlines',\n",
      "            'get_ylabel',\n",
      "            'get_ylim',\n",
      "            'get_ymajorticklabels',\n",
      "            'get_yminorticklabels',\n",
      "            'get_yscale',\n",
      "            'get_yticklabels',\n",
      "            'get_yticklines',\n",
      "            'get_yticks',\n",
      "            'get_zorder',\n",
      "            'grid',\n",
      "            'has_data',\n",
      "            'have_units',\n",
      "            'hexbin',\n",
      "            'hist',\n",
      "            'hist2d',\n",
      "            'hlines',\n",
      "            'imshow',\n",
      "            'in_axes',\n",
      "            'indicate_inset',\n",
      "            'indicate_inset_zoom',\n",
      "            'inset_axes',\n",
      "            'invert_xaxis',\n",
      "            'invert_yaxis',\n",
      "            'is_transform_set',\n",
      "            'label_outer',\n",
      "            'legend',\n",
      "            'locator_params',\n",
      "            'loglog',\n",
      "            'magnitude_spectrum',\n",
      "            'margins',\n",
      "            'matshow',\n",
      "            'minorticks_off',\n",
      "            'minorticks_on',\n",
      "            'pchanged',\n",
      "            'pcolor',\n",
      "            'pcolorfast',\n",
      "            'pcolormesh',\n",
      "            'phase_spectrum',\n",
      "            'pick',\n",
      "            'pickable',\n",
      "            'pie',\n",
      "            'plot',\n",
      "            'plot_date',\n",
      "            'properties',\n",
      "            'psd',\n",
      "            'quiver',\n",
      "            'quiverkey',\n",
      "            'redraw_in_frame',\n",
      "            'relim',\n",
      "            'remove',\n",
      "            'remove_callback',\n",
      "            'reset_position',\n",
      "            'scatter',\n",
      "            'secondary_xaxis',\n",
      "            'secondary_yaxis',\n",
      "            'semilogx',\n",
      "            'semilogy',\n",
      "            'set',\n",
      "            'set_adjustable',\n",
      "            'set_agg_filter',\n",
      "            'set_alpha',\n",
      "            'set_anchor',\n",
      "            'set_animated',\n",
      "            'set_aspect',\n",
      "            'set_autoscale_on',\n",
      "            'set_autoscalex_on',\n",
      "            'set_autoscaley_on',\n",
      "            'set_axes_locator',\n",
      "            'set_axis_off',\n",
      "            'set_axis_on',\n",
      "            'set_axisbelow',\n",
      "            'set_box_aspect',\n",
      "            'set_clip_box',\n",
      "            'set_clip_on',\n",
      "            'set_clip_path',\n",
      "            'set_facecolor',\n",
      "            'set_fc',\n",
      "            'set_figure',\n",
      "            'set_frame_on',\n",
      "            'set_gid',\n",
      "            'set_in_layout',\n",
      "            'set_label',\n",
      "            'set_mouseover',\n",
      "            'set_navigate',\n",
      "            'set_navigate_mode',\n",
      "            'set_path_effects',\n",
      "            'set_picker',\n",
      "            'set_position',\n",
      "            'set_prop_cycle',\n",
      "            'set_rasterization_zorder',\n",
      "            'set_rasterized',\n",
      "            'set_sketch_params',\n",
      "            'set_snap',\n",
      "            'set_subplotspec',\n",
      "            'set_title',\n",
      "            'set_transform',\n",
      "            'set_url',\n",
      "            'set_visible',\n",
      "            'set_xbound',\n",
      "            'set_xlabel',\n",
      "            'set_xlim',\n",
      "            'set_xmargin',\n",
      "            'set_xscale',\n",
      "            'set_xticklabels',\n",
      "            'set_xticks',\n",
      "            'set_ybound',\n",
      "            'set_ylabel',\n",
      "            'set_ylim',\n",
      "            'set_ymargin',\n",
      "            'set_yscale',\n",
      "            'set_yticklabels',\n",
      "            'set_yticks',\n",
      "            'set_zorder',\n",
      "            'sharex',\n",
      "            'sharey',\n",
      "            'specgram',\n",
      "            'spy',\n",
      "            'stackplot',\n",
      "            'stairs',\n",
      "            'start_pan',\n",
      "            'stem',\n",
      "            'step',\n",
      "            'streamplot',\n",
      "            'table',\n",
      "            'text',\n",
      "            'tick_params',\n",
      "            'ticklabel_format',\n",
      "            'tricontour',\n",
      "            'tricontourf',\n",
      "            'tripcolor',\n",
      "            'triplot',\n",
      "            'twinx',\n",
      "            'twiny',\n",
      "            'update',\n",
      "            'update_datalim',\n",
      "            'update_from',\n",
      "            'violin',\n",
      "            'violinplot',\n",
      "            'vlines',\n",
      "            'xaxis_date',\n",
      "            'xaxis_inverted',\n",
      "            'xcorr',\n",
      "            'yaxis_date',\n",
      "            'yaxis_inverted'],\n",
      " 'upper_class': ['ArtistList'],\n",
      " 'datamodel_attribute': ['__dict__', '__module__', '__weakref__'],\n",
      " 'datamodel_method': ['__setstate__'],\n",
      " 'internal_attribute': ['_PROPERTIES_EXCLUDED_FROM_SET',\n",
      "                        '_alias_map',\n",
      "                        '_axis_map',\n",
      "                        '_axis_names',\n",
      "                        '_shared_axes',\n",
      "                        '_subclass_uses_cla',\n",
      "                        '_twinned_axes'],\n",
      " 'internal_method': ['_AxesBase__clear',\n",
      "                     '_add_text',\n",
      "                     '_check_no_units',\n",
      "                     '_cm_set',\n",
      "                     '_convert_dx',\n",
      "                     '_different_canvas',\n",
      "                     '_errorevery_to_mask',\n",
      "                     '_fill_between_x_or_y',\n",
      "                     '_fully_clipped_to_axes',\n",
      "                     '_gci',\n",
      "                     '_gen_axes_patch',\n",
      "                     '_gen_axes_spines',\n",
      "                     '_get_aspect_ratio',\n",
      "                     '_get_pan_points',\n",
      "                     '_get_view',\n",
      "                     '_init_axis',\n",
      "                     '_internal_update',\n",
      "                     '_label_outer_xaxis',\n",
      "                     '_label_outer_yaxis',\n",
      "                     '_make_twin_axes',\n",
      "                     '_parse_scatter_color_args',\n",
      "                     '_pcolorargs',\n",
      "                     '_prepare_view_from_bbox',\n",
      "                     '_process_unit_info',\n",
      "                     '_quiver_units',\n",
      "                     '_remove_legend',\n",
      "                     '_request_autoscale_view',\n",
      "                     '_sci',\n",
      "                     '_set_alpha_for_array',\n",
      "                     '_set_artist_props',\n",
      "                     '_set_gc_clip',\n",
      "                     '_set_lim_and_transforms',\n",
      "                     '_set_position',\n",
      "                     '_set_title_offset_trans',\n",
      "                     '_set_view',\n",
      "                     '_set_view_from_bbox',\n",
      "                     '_unit_change_handler',\n",
      "                     '_unstale_viewLim',\n",
      "                     '_update_image_limits',\n",
      "                     '_update_line_limits',\n",
      "                     '_update_patch_limits',\n",
      "                     '_update_props',\n",
      "                     '_update_set_signature_and_docstring',\n",
      "                     '_update_title_position',\n",
      "                     '_update_transScale',\n",
      "                     '_validate_converted_limits']}\n"
     ]
    }
   ],
   "source": [
    "dir2(plt.Axes, object, unique_only=True)"
   ]
  },
  {
   "cell_type": "markdown",
   "metadata": {},
   "source": [
    "These classes are typically not instantiated directly. The ```pyplot``` factory function ```plt.figure``` is used to create a ```plt.Figure``` instance:"
   ]
  },
  {
   "cell_type": "code",
   "execution_count": 9,
   "metadata": {},
   "outputs": [
    {
     "name": "stdout",
     "output_type": "stream",
     "text": [
      "\u001b[1;31mSignature:\u001b[0m\n",
      "\u001b[0mplt\u001b[0m\u001b[1;33m.\u001b[0m\u001b[0mfigure\u001b[0m\u001b[1;33m(\u001b[0m\u001b[1;33m\n",
      "\u001b[0m    \u001b[0mnum\u001b[0m\u001b[1;33m:\u001b[0m \u001b[1;34m'int | str | Figure | SubFigure | None'\u001b[0m \u001b[1;33m=\u001b[0m \u001b[1;32mNone\u001b[0m\u001b[1;33m,\u001b[0m\u001b[1;33m\n",
      "\u001b[0m    \u001b[0mfigsize\u001b[0m\u001b[1;33m:\u001b[0m \u001b[1;34m'tuple[float, float] | None'\u001b[0m \u001b[1;33m=\u001b[0m \u001b[1;32mNone\u001b[0m\u001b[1;33m,\u001b[0m\u001b[1;33m\n",
      "\u001b[0m    \u001b[0mdpi\u001b[0m\u001b[1;33m:\u001b[0m \u001b[1;34m'float | None'\u001b[0m \u001b[1;33m=\u001b[0m \u001b[1;32mNone\u001b[0m\u001b[1;33m,\u001b[0m\u001b[1;33m\n",
      "\u001b[0m    \u001b[1;33m*\u001b[0m\u001b[1;33m,\u001b[0m\u001b[1;33m\n",
      "\u001b[0m    \u001b[0mfacecolor\u001b[0m\u001b[1;33m:\u001b[0m \u001b[1;34m'ColorType | None'\u001b[0m \u001b[1;33m=\u001b[0m \u001b[1;32mNone\u001b[0m\u001b[1;33m,\u001b[0m\u001b[1;33m\n",
      "\u001b[0m    \u001b[0medgecolor\u001b[0m\u001b[1;33m:\u001b[0m \u001b[1;34m'ColorType | None'\u001b[0m \u001b[1;33m=\u001b[0m \u001b[1;32mNone\u001b[0m\u001b[1;33m,\u001b[0m\u001b[1;33m\n",
      "\u001b[0m    \u001b[0mframeon\u001b[0m\u001b[1;33m:\u001b[0m \u001b[1;34m'bool'\u001b[0m \u001b[1;33m=\u001b[0m \u001b[1;32mTrue\u001b[0m\u001b[1;33m,\u001b[0m\u001b[1;33m\n",
      "\u001b[0m    \u001b[0mFigureClass\u001b[0m\u001b[1;33m:\u001b[0m \u001b[1;34m'type[Figure]'\u001b[0m \u001b[1;33m=\u001b[0m \u001b[1;33m<\u001b[0m\u001b[1;32mclass\u001b[0m \u001b[1;34m'matplotlib.figure.Figure'\u001b[0m\u001b[1;33m>\u001b[0m\u001b[1;33m,\u001b[0m\u001b[1;33m\n",
      "\u001b[0m    \u001b[0mclear\u001b[0m\u001b[1;33m:\u001b[0m \u001b[1;34m'bool'\u001b[0m \u001b[1;33m=\u001b[0m \u001b[1;32mFalse\u001b[0m\u001b[1;33m,\u001b[0m\u001b[1;33m\n",
      "\u001b[0m    \u001b[1;33m**\u001b[0m\u001b[0mkwargs\u001b[0m\u001b[1;33m,\u001b[0m\u001b[1;33m\n",
      "\u001b[0m\u001b[1;33m)\u001b[0m \u001b[1;33m->\u001b[0m \u001b[1;34m'Figure'\u001b[0m\u001b[1;33m\u001b[0m\u001b[1;33m\u001b[0m\u001b[0m\n",
      "\u001b[1;31mDocstring:\u001b[0m\n",
      "Create a new figure, or activate an existing figure.\n",
      "\n",
      "Parameters\n",
      "----------\n",
      "num : int or str or `.Figure` or `.SubFigure`, optional\n",
      "    A unique identifier for the figure.\n",
      "\n",
      "    If a figure with that identifier already exists, this figure is made\n",
      "    active and returned. An integer refers to the ``Figure.number``\n",
      "    attribute, a string refers to the figure label.\n",
      "\n",
      "    If there is no figure with the identifier or *num* is not given, a new\n",
      "    figure is created, made active and returned.  If *num* is an int, it\n",
      "    will be used for the ``Figure.number`` attribute, otherwise, an\n",
      "    auto-generated integer value is used (starting at 1 and incremented\n",
      "    for each new figure). If *num* is a string, the figure label and the\n",
      "    window title is set to this value.  If num is a ``SubFigure``, its\n",
      "    parent ``Figure`` is activated.\n",
      "\n",
      "figsize : (float, float), default: :rc:`figure.figsize`\n",
      "    Width, height in inches.\n",
      "\n",
      "dpi : float, default: :rc:`figure.dpi`\n",
      "    The resolution of the figure in dots-per-inch.\n",
      "\n",
      "facecolor : color, default: :rc:`figure.facecolor`\n",
      "    The background color.\n",
      "\n",
      "edgecolor : color, default: :rc:`figure.edgecolor`\n",
      "    The border color.\n",
      "\n",
      "frameon : bool, default: True\n",
      "    If False, suppress drawing the figure frame.\n",
      "\n",
      "FigureClass : subclass of `~matplotlib.figure.Figure`\n",
      "    If set, an instance of this subclass will be created, rather than a\n",
      "    plain `.Figure`.\n",
      "\n",
      "clear : bool, default: False\n",
      "    If True and the figure already exists, then it is cleared.\n",
      "\n",
      "layout : {'constrained', 'compressed', 'tight', 'none', `.LayoutEngine`, None}, default: None\n",
      "    The layout mechanism for positioning of plot elements to avoid\n",
      "    overlapping Axes decorations (labels, ticks, etc). Note that layout\n",
      "    managers can measurably slow down figure display.\n",
      "\n",
      "    - 'constrained': The constrained layout solver adjusts axes sizes\n",
      "      to avoid overlapping axes decorations.  Can handle complex plot\n",
      "      layouts and colorbars, and is thus recommended.\n",
      "\n",
      "      See :ref:`constrainedlayout_guide`\n",
      "      for examples.\n",
      "\n",
      "    - 'compressed': uses the same algorithm as 'constrained', but\n",
      "      removes extra space between fixed-aspect-ratio Axes.  Best for\n",
      "      simple grids of axes.\n",
      "\n",
      "    - 'tight': Use the tight layout mechanism. This is a relatively\n",
      "      simple algorithm that adjusts the subplot parameters so that\n",
      "      decorations do not overlap. See `.Figure.set_tight_layout` for\n",
      "      further details.\n",
      "\n",
      "    - 'none': Do not use a layout engine.\n",
      "\n",
      "    - A `.LayoutEngine` instance. Builtin layout classes are\n",
      "      `.ConstrainedLayoutEngine` and `.TightLayoutEngine`, more easily\n",
      "      accessible by 'constrained' and 'tight'.  Passing an instance\n",
      "      allows third parties to provide their own layout engine.\n",
      "\n",
      "    If not given, fall back to using the parameters *tight_layout* and\n",
      "    *constrained_layout*, including their config defaults\n",
      "    :rc:`figure.autolayout` and :rc:`figure.constrained_layout.use`.\n",
      "\n",
      "**kwargs\n",
      "    Additional keyword arguments are passed to the `.Figure` constructor.\n",
      "\n",
      "Returns\n",
      "-------\n",
      "`~matplotlib.figure.Figure`\n",
      "\n",
      "Notes\n",
      "-----\n",
      "A newly created figure is passed to the `~.FigureCanvasBase.new_manager`\n",
      "method or the `new_figure_manager` function provided by the current\n",
      "backend, which install a canvas and a manager on the figure.\n",
      "\n",
      "Once this is done, :rc:`figure.hooks` are called, one at a time, on the\n",
      "figure; these hooks allow arbitrary customization of the figure (e.g.,\n",
      "attaching callbacks) or of associated elements (e.g., modifying the\n",
      "toolbar).  See :doc:`/gallery/user_interfaces/mplcvd` for an example of\n",
      "toolbar customization.\n",
      "\n",
      "If you are creating many figures, make sure you explicitly call\n",
      "`.pyplot.close` on the figures you are not using, because this will\n",
      "enable pyplot to properly clean up the memory.\n",
      "\n",
      "`~matplotlib.rcParams` defines the default values, which can be modified\n",
      "in the matplotlibrc file.\n",
      "\u001b[1;31mFile:\u001b[0m      c:\\users\\pyip\\miniconda3\\envs\\vscode-env\\lib\\site-packages\\matplotlib\\pyplot.py\n",
      "\u001b[1;31mType:\u001b[0m      function"
     ]
    }
   ],
   "source": [
    "plt.figure?"
   ]
  },
  {
   "cell_type": "markdown",
   "metadata": {},
   "source": [
    "Notice that this factory function returns a ```plt.Figure```. "
   ]
  },
  {
   "cell_type": "markdown",
   "metadata": {},
   "source": [
    "There are generally 2 approaches, a functional approach where the current ```plt.Figure``` is not assigned to an instance name during instantiation and is instead updated using a series of functions from the ```plt```. For example:"
   ]
  },
  {
   "cell_type": "code",
   "execution_count": 10,
   "metadata": {},
   "outputs": [
    {
     "data": {
      "text/plain": [
       "[<matplotlib.lines.Line2D at 0x17eaf1927e0>]"
      ]
     },
     "execution_count": 10,
     "metadata": {},
     "output_type": "execute_result"
    },
    {
     "data": {
      "image/png": "[encoded data removed]",
      "text/plain": [
       "<Figure size 640x480 with 1 Axes>"
      ]
     },
     "metadata": {},
     "output_type": "display_data"
    }
   ],
   "source": [
    "plt.figure()\n",
    "plt.subplot(1, 1, 1)\n",
    "plt.xlabel('x')\n",
    "plt.ylabel('y')\n",
    "plt.title('y=f(x)')\n",
    "plt.plot(x, y)"
   ]
  },
  {
   "cell_type": "markdown",
   "metadata": {},
   "source": [
    "Alternatively an OOP design approach is used:"
   ]
  },
  {
   "cell_type": "code",
   "execution_count": 11,
   "metadata": {},
   "outputs": [
    {
     "data": {
      "image/png": "[encoded data removed]",
      "text/plain": [
       "<Figure size 640x480 with 1 Axes>"
      ]
     },
     "metadata": {},
     "output_type": "display_data"
    }
   ],
   "source": [
    "fig = plt.figure()\n",
    "ax = fig.add_subplot(1, 1, 1)\n",
    "x_text = ax.set_xlabel('x')\n",
    "y_text = ax.set_ylabel('y')\n",
    "title_text = ax.set_title('y=f(x)')\n",
    "line_list = ax.plot(x, y)"
   ]
  },
  {
   "cell_type": "markdown",
   "metadata": {},
   "source": [
    "Notice in the OOP design approach that the ```Axes``` is added using the ```Figure``` method ```add_subplot```. The labels are added to the ```Axes``` using the ```Axes``` methods ```set_xlabel```, ```set_ylabel``` and ```set_title``` respectively. These methods are similar to the ```plt``` functions ```xlabel```, ```ylabel``` and ```title``` which operate on the currently selected ```Axes```.\n",
    "\n",
    "Each plotting function from ```plt``` is also available as an ```Axes``` method with the same name. The class type of all the instances above can be examined:"
   ]
  },
  {
   "cell_type": "code",
   "execution_count": 12,
   "metadata": {},
   "outputs": [
    {
     "name": "stdout",
     "output_type": "stream",
     "text": [
      "Figure(640x480): <class 'matplotlib.figure.Figure'>\n",
      "Axes(0.125,0.11;0.775x0.77): <class 'matplotlib.axes._axes.Axes'>\n",
      "Text(0.5, 24.0, 'x'): <class 'matplotlib.text.Text'>\n",
      "Text(24.000000000000007, 0.5, 'y'): <class 'matplotlib.text.Text'>\n",
      "Text(0.5, 1.0, 'y=f(x)'): <class 'matplotlib.text.Text'>\n",
      "[<matplotlib.lines.Line2D object at 0x0000017EAF233A10>]: <class 'list'>\n",
      "Line2D(_child0): <class 'matplotlib.lines.Line2D'>\n"
     ]
    }
   ],
   "source": [
    "print(f'{fig}: {type(fig)}')\n",
    "print(f'{ax}: {type(ax)}')\n",
    "print(f'{x_text}: {type(x_text)}')\n",
    "print(f'{y_text}: {type(y_text)}')\n",
    "print(f'{title_text}: {type(title_text)}')\n",
    "print(f'{line_list}: {type(line_list)}')\n",
    "print(f'{line_list[0]}: {type(line_list[0])}')"
   ]
  },
  {
   "cell_type": "markdown",
   "metadata": {},
   "source": [
    "Notice when the functional approach is used, the return value of the last line in the cell is shown in the cell output above the plot:"
   ]
  },
  {
   "cell_type": "code",
   "execution_count": 13,
   "metadata": {},
   "outputs": [
    {
     "data": {
      "text/plain": [
       "[<matplotlib.lines.Line2D at 0x17eaf32c560>]"
      ]
     },
     "execution_count": 13,
     "metadata": {},
     "output_type": "execute_result"
    },
    {
     "data": {
      "image/png": "[encoded data removed]",
      "text/plain": [
       "<Figure size 640x480 with 1 Axes>"
      ]
     },
     "metadata": {},
     "output_type": "display_data"
    }
   ],
   "source": [
    "plt.figure()\n",
    "plt.subplot(1, 1, 1)\n",
    "plt.xlabel('x')\n",
    "plt.ylabel('y')\n",
    "plt.title('y=f(x)')\n",
    "plt.plot(x, y)"
   ]
  },
  {
   "cell_type": "markdown",
   "metadata": {},
   "source": [
    "This can be suppressed by use of a semicolon at the end of the last line:"
   ]
  },
  {
   "cell_type": "code",
   "execution_count": 14,
   "metadata": {},
   "outputs": [
    {
     "data": {
      "image/png": "[encoded data removed]",
      "text/plain": [
       "<Figure size 640x480 with 1 Axes>"
      ]
     },
     "metadata": {},
     "output_type": "display_data"
    }
   ],
   "source": [
    "plt.figure()\n",
    "plt.subplot(1, 1, 1)\n",
    "plt.xlabel('x')\n",
    "plt.ylabel('y')\n",
    "plt.title('y=f(x)')\n",
    "plt.plot(x, y);"
   ]
  },
  {
   "cell_type": "markdown",
   "metadata": {},
   "source": [
    "The ```figure``` function is a factory function for creating a ```Figure``` instance. There is a complementary ```subplots``` function which creates both a ```Figure``` and ```Axes``` instance. In other words the following are equivalent:"
   ]
  },
  {
   "cell_type": "code",
   "execution_count": 15,
   "metadata": {},
   "outputs": [
    {
     "name": "stdout",
     "output_type": "stream",
     "text": [
      "Figure(640x480): <class 'matplotlib.figure.Figure'>\n",
      "Axes(0.125,0.11;0.775x0.77): <class 'matplotlib.axes._axes.Axes'>\n"
     ]
    },
    {
     "data": {
      "image/png": "[encoded data removed]",
      "text/plain": [
       "<Figure size 640x480 with 1 Axes>"
      ]
     },
     "metadata": {},
     "output_type": "display_data"
    }
   ],
   "source": [
    "print(f'{fig}: {type(fig)}')\n",
    "print(f'{ax}: {type(ax)}')\n",
    "fig = plt.figure()\n",
    "ax = fig.add_subplot(1, 1, 1)"
   ]
  },
  {
   "cell_type": "code",
   "execution_count": 16,
   "metadata": {},
   "outputs": [
    {
     "name": "stdout",
     "output_type": "stream",
     "text": [
      "Figure(640x480): <class 'matplotlib.figure.Figure'>\n",
      "Axes(0.125,0.11;0.775x0.77): <class 'matplotlib.axes._axes.Axes'>\n"
     ]
    },
    {
     "data": {
      "image/png": "[encoded data removed]",
      "text/plain": [
       "<Figure size 640x480 with 1 Axes>"
      ]
     },
     "metadata": {},
     "output_type": "display_data"
    }
   ],
   "source": [
    "fig, ax = plt.subplots()\n",
    "print(f'{fig}: {type(fig)}')\n",
    "print(f'{ax}: {type(ax)}')"
   ]
  },
  {
   "cell_type": "markdown",
   "metadata": {},
   "source": [
    "The factory function ```plt.subplots``` takes in consistent keyword input arguments to ```plt.Figure```, for example ```num``` which can be used to specify the ```Figure``` number. Normally each ```Figure``` instance has an ```int``` ```Figure``` number which is automatically assigned from 1 (first order indexing). This number is restarted for each cell output in an IPython cell.\n",
    "\n",
    "The factory function ```plt.subplots``` also has keyword input arguments to specify the number of subplots to add. Notice when a single ```Axes``` is specified using ```nrows=1``` (default) by ```ncols=1``` (default) the return value is a single ```Axes``` instance. When a 1d array of ```Axes``` is specified, the return value is a 1D ```ndarray``` of ```Axes``` instances. When a 2d array of ```Axes``` is specified, the return value is a 2D ```ndarray```. Because these are ```ndarray``` instances they can be indexed into using zero-order indexing:"
   ]
  },
  {
   "cell_type": "code",
   "execution_count": 17,
   "metadata": {},
   "outputs": [
    {
     "name": "stdout",
     "output_type": "stream",
     "text": [
      "Figure(640x480): <class 'matplotlib.figure.Figure'>\n",
      "[<Axes: > <Axes: >]: <class 'numpy.ndarray'>\n",
      "Figure(640x480): <class 'matplotlib.figure.Figure'>\n",
      "[<Axes: > <Axes: > <Axes: >]: <class 'numpy.ndarray'>\n",
      "Figure(640x480): <class 'matplotlib.figure.Figure'>\n",
      "[[<Axes: > <Axes: > <Axes: >]\n",
      " [<Axes: > <Axes: > <Axes: >]\n",
      " [<Axes: > <Axes: > <Axes: >]\n",
      " [<Axes: > <Axes: > <Axes: >]]: <class 'numpy.ndarray'>\n"
     ]
    },
    {
     "data": {
      "image/png": "[encoded data removed]",
      "text/plain": [
       "<Figure size 640x480 with 1 Axes>"
      ]
     },
     "metadata": {},
     "output_type": "display_data"
    },
    {
     "data": {
      "image/png": "[encoded data removed]",
      "text/plain": [
       "<Figure size 640x480 with 2 Axes>"
      ]
     },
     "metadata": {},
     "output_type": "display_data"
    },
    {
     "data": {
      "image/png": "[encoded data removed]",
      "text/plain": [
       "<Figure size 640x480 with 3 Axes>"
      ]
     },
     "metadata": {},
     "output_type": "display_data"
    },
    {
     "data": {
      "image/png": "[encoded data removed]",
      "text/plain": [
       "<Figure size 640x480 with 12 Axes>"
      ]
     },
     "metadata": {},
     "output_type": "display_data"
    }
   ],
   "source": [
    "fig1, ax1 = plt.subplots(num=1)\n",
    "\n",
    "fig2, ax2 = plt.subplots(num=2, nrows=2, ncols=1)\n",
    "print(f'{fig2}: {type(fig2)}')\n",
    "print(f'{ax2}: {type(ax2)}')\n",
    "\n",
    "fig3, ax3 = plt.subplots(num=3, nrows=1, ncols=3)\n",
    "print(f'{fig3}: {type(fig3)}')\n",
    "print(f'{ax3}: {type(ax3)}')\n",
    "\n",
    "fig4, ax4 = plt.subplots(num=4, nrows=4, ncols=3)\n",
    "print(f'{fig4}: {type(fig4)}')\n",
    "print(f'{ax4}: {type(ax4)}')"
   ]
  },
  {
   "cell_type": "markdown",
   "metadata": {},
   "source": [
    "Having the ```Figure``` and ```Axes``` instances instantiated to instance names means they can be indexed into to select an ```Axes``` and then an ```Axes``` method such as a plotting function can be used:"
   ]
  },
  {
   "cell_type": "code",
   "execution_count": 18,
   "metadata": {},
   "outputs": [
    {
     "data": {
      "text/plain": [
       "[<matplotlib.lines.Line2D at 0x17eb0da24e0>]"
      ]
     },
     "execution_count": 18,
     "metadata": {},
     "output_type": "execute_result"
    },
    {
     "data": {
      "image/png": "[encoded data removed]",
      "text/plain": [
       "<Figure size 640x480 with 1 Axes>"
      ]
     },
     "metadata": {},
     "output_type": "display_data"
    },
    {
     "data": {
      "image/png": "[encoded data removed]",
      "text/plain": [
       "<Figure size 640x480 with 2 Axes>"
      ]
     },
     "metadata": {},
     "output_type": "display_data"
    },
    {
     "data": {
      "image/png": "[encoded data removed]",
      "text/plain": [
       "<Figure size 640x480 with 3 Axes>"
      ]
     },
     "metadata": {},
     "output_type": "display_data"
    },
    {
     "data": {
      "image/png": "[encoded data removed]",
      "text/plain": [
       "<Figure size 640x480 with 12 Axes>"
      ]
     },
     "metadata": {},
     "output_type": "display_data"
    }
   ],
   "source": [
    "fig1, ax1 = plt.subplots()\n",
    "\n",
    "fig2, ax2 = plt.subplots(nrows=2, ncols=1)\n",
    "\n",
    "fig3, ax3 = plt.subplots(nrows=1, ncols=3)\n",
    "\n",
    "fig4, ax4 = plt.subplots(nrows=4, ncols=3)\n",
    "\n",
    "ax1.plot(x, y)\n",
    "ax2[0].plot(x, y)\n",
    "ax2[1].plot(x, -y)\n",
    "ax3[0].plot(x, -y)\n",
    "ax3[2].plot(x, y)\n",
    "ax4[0, 0].plot(x, y)\n",
    "ax4[3, 2].plot(x, y)"
   ]
  },
  {
   "cell_type": "markdown",
   "metadata": {},
   "source": [
    "The function ```plt.subplot``` has the positional input arguments ```nrow```, ```ncol``` and ```index```. For the index first-order indexing is used. Typically each subplot is selected and then the ```plt``` plotting functions for example can be used to create a plot. Notice that ```plt.subplot``` can be used to reselect a subplot and so the last line is added to the first subplot:"
   ]
  },
  {
   "cell_type": "code",
   "execution_count": 19,
   "metadata": {},
   "outputs": [
    {
     "data": {
      "text/plain": [
       "[<matplotlib.lines.Line2D at 0x17eb0cae840>]"
      ]
     },
     "execution_count": 19,
     "metadata": {},
     "output_type": "execute_result"
    },
    {
     "data": {
      "image/png": "[encoded data removed]",
      "text/plain": [
       "<Figure size 640x480 with 4 Axes>"
      ]
     },
     "metadata": {},
     "output_type": "display_data"
    }
   ],
   "source": [
    "plt.figure()\n",
    "plt.subplot(2, 2, 1)\n",
    "plt.title('1')\n",
    "plt.plot(x, y, color='tomato')\n",
    "\n",
    "plt.subplot(2, 2, 2)\n",
    "plt.title('2')\n",
    "plt.plot(x, y, color='royalblue')\n",
    "\n",
    "plt.subplot(2, 2, 3)\n",
    "plt.title('3')\n",
    "plt.plot(x, y, color='seagreen')\n",
    "\n",
    "plt.subplot(2, 2, 4)\n",
    "plt.title('4')\n",
    "plt.plot(x, y, color='gold')\n",
    "\n",
    "plt.subplot(2, 2, 1)\n",
    "plt.plot(x, -y, color='gray')"
   ]
  },
  {
   "cell_type": "markdown",
   "metadata": {},
   "source": [
    "If the functional approach was initially used the ```plt.gcf``` (get current Figure) function can be used to assign the currently selected ```Figure``` for assignment to an instance name. Once the ```Figure``` is selected there is a ```Figure``` method ```gca``` (get current Axes) or function ```plt.gca``` which can be used for assignment of an ```Axes``` to an instance name.\n",
    "\n",
    "The ```Figure``` has an ```ax``` attribute which is (always) a ```list``` of ```Axes``` instances and this can be indexed into to access an ```Axes```. Each time a new ```Axes``` is added to the ```Figure``` it is appended to this ```list```, in other words the ```list``` follows the insertion order.\n",
    "\n",
    "The ```Axes``` also has a ```figure``` attribute which can be used to instantiate a ```Figure```.\n"
   ]
  },
  {
   "cell_type": "code",
   "execution_count": 20,
   "metadata": {},
   "outputs": [
    {
     "name": "stdout",
     "output_type": "stream",
     "text": [
      "Figure(640x480): <class 'matplotlib.figure.Figure'>\n",
      "Axes(0.125,0.11;0.775x0.77): <class 'matplotlib.axes._axes.Axes'>\n",
      "\n",
      "[<Axes: title={'center': '1'}>]: <class 'list'>\n",
      "\n",
      "Figure(640x480): <class 'matplotlib.figure.Figure'>\n"
     ]
    },
    {
     "data": {
      "image/png": "[encoded data removed]",
      "text/plain": [
       "<Figure size 640x480 with 1 Axes>"
      ]
     },
     "metadata": {},
     "output_type": "display_data"
    }
   ],
   "source": [
    "plt.figure()\n",
    "plt.title(1)\n",
    "plt.subplot(1, 1, 1)\n",
    "plt.plot(x, y, color='tomato')\n",
    "\n",
    "fig = plt.gcf()\n",
    "ax = fig.gca()\n",
    "print(f'{fig}: {type(fig)}')\n",
    "print(f'{ax}: {type(ax)}')\n",
    "print()\n",
    "print(f'{fig.axes}: {type(fig.axes)}')\n",
    "print()\n",
    "print(f'{ax.figure}: {type(ax.figure)}')"
   ]
  },
  {
   "cell_type": "markdown",
   "metadata": {},
   "source": [
    "A ```Figure``` can be reselected using the ```figure``` function, alongside an existing ```num```. Note the first ```Figure``` with ```num=1``` is created, then the ```Figure``` with ```num=2``` is created. then the ```Figure``` with ```num=3``` is created and finally the ```Figure``` with ```num=1``` is updated. The ```Figure``` instances get displayed in the cell output using the order of the last modification time which is why the ```Figure``` with ```num=1``` is at the bottom:"
   ]
  },
  {
   "cell_type": "code",
   "execution_count": 21,
   "metadata": {},
   "outputs": [
    {
     "data": {
      "text/plain": [
       "[<matplotlib.lines.Line2D at 0x17eb0647ec0>]"
      ]
     },
     "execution_count": 21,
     "metadata": {},
     "output_type": "execute_result"
    },
    {
     "data": {
      "image/png": "[encoded data removed]",
      "text/plain": [
       "<Figure size 640x480 with 1 Axes>"
      ]
     },
     "metadata": {},
     "output_type": "display_data"
    },
    {
     "data": {
      "image/png": "[encoded data removed]",
      "text/plain": [
       "<Figure size 640x480 with 1 Axes>"
      ]
     },
     "metadata": {},
     "output_type": "display_data"
    },
    {
     "data": {
      "image/png": "[encoded data removed]",
      "text/plain": [
       "<Figure size 640x480 with 1 Axes>"
      ]
     },
     "metadata": {},
     "output_type": "display_data"
    }
   ],
   "source": [
    "plt.figure()\n",
    "plt.title(1)\n",
    "plt.subplot(1, 1, 1)\n",
    "plt.plot(x, y, color='tomato')\n",
    "\n",
    "plt.figure()\n",
    "plt.title(2)\n",
    "plt.subplot(1, 1, 1)\n",
    "plt.plot(x, y, color='royalblue')\n",
    "\n",
    "plt.figure()\n",
    "plt.title(3)\n",
    "plt.subplot(1, 1, 1)\n",
    "plt.plot(x, y, color='seagreen')\n",
    "\n",
    "fig = plt.figure(num=1)\n",
    "ax = fig.gca()\n",
    "ax.plot(x, -y, color='gray')"
   ]
  },
  {
   "cell_type": "markdown",
   "metadata": {},
   "source": [
    "The ```Figure``` class has the method ```subplots``` which behaves similar to the ```plt.subplots``` but is bound to the existing ```Figure``` instance. This creates an ```ndarray``` of ```Axes``` which can be indexed:"
   ]
  },
  {
   "cell_type": "code",
   "execution_count": 22,
   "metadata": {},
   "outputs": [
    {
     "name": "stdout",
     "output_type": "stream",
     "text": [
      "Figure(640x480): <class 'matplotlib.figure.Figure'>\n",
      "[[<Axes: > <Axes: >]\n",
      " [<Axes: > <Axes: >]]: <class 'numpy.ndarray'>\n"
     ]
    },
    {
     "data": {
      "image/png": "[encoded data removed]",
      "text/plain": [
       "<Figure size 640x480 with 4 Axes>"
      ]
     },
     "metadata": {},
     "output_type": "display_data"
    }
   ],
   "source": [
    "fig = plt.figure()\n",
    "ax = fig.subplots(nrows=2, ncols=2)\n",
    "print(f'{fig}: {type(fig)}')\n",
    "print(f'{ax}: {type(ax)}')\n",
    "\n",
    "ax[0, 0].plot(x, y, color='tomato');\n",
    "ax[1, 0].plot(x, y, color='seagreen');\n",
    "ax[0, 1].plot(x, y, color='royalblue');"
   ]
  },
  {
   "cell_type": "markdown",
   "metadata": {},
   "source": [
    "The ```Figure``` class has the method ```subplot_mosaic``` which can be used to create a label for each ```Axes```. This creates an ```dict``` of ```Axes``` where the label is the ```key``` and can be used to index into the ```Axes```. Notice also if neighbouring subplots are given the same label, then the plot will be expanded over them:"
   ]
  },
  {
   "cell_type": "code",
   "execution_count": 23,
   "metadata": {},
   "outputs": [
    {
     "name": "stdout",
     "output_type": "stream",
     "text": [
      "Figure(640x480): <class 'matplotlib.figure.Figure'>\n",
      "{'tomato': <Axes: label='tomato'>, 'royalblue': <Axes: label='royalblue'>, 'seagreen': <Axes: label='seagreen'>}: <class 'dict'>\n"
     ]
    },
    {
     "data": {
      "image/png": "[encoded data removed]",
      "text/plain": [
       "<Figure size 640x480 with 3 Axes>"
      ]
     },
     "metadata": {},
     "output_type": "display_data"
    }
   ],
   "source": [
    "mosaic = [['tomato', 'royalblue'],\n",
    "          ['seagreen', 'royalblue']]\n",
    "\n",
    "fig = plt.figure()\n",
    "ax = fig.subplot_mosaic(mosaic=mosaic)\n",
    "print(f'{fig}: {type(fig)}')\n",
    "print(f'{ax}: {type(ax)}')\n",
    "\n",
    "ax['tomato'].plot(x, y, color='tomato');\n",
    "ax['royalblue'].plot(x, y, color='royalblue');\n",
    "ax['seagreen'].plot(x, y, color='seagreen');"
   ]
  },
  {
   "cell_type": "markdown",
   "metadata": {},
   "source": [
    "It is not possible to do the above by slicing into the ```ndarray``` (2D) of ```Axes``` generated by ```plt.subplots``` or ```Figure.subplots``` as the slice creates another ```ndarray``` (1D) which is not a ```mpl``` class and therefore has no plot methods. \n",
    "\n",
    "The ```Figure.add_subplot``` method is similar to the ```plt.subplot``` function and is bound to the ```Figure``` instance. The ```Figure.add_subplot``` places each subplot individually on the ```Figure``` instead of instantiating them all simultaneously like ```Figure.subplots``` or ```Figure.subplot_mosaic``` and uses the ```index``` to select a subplot. The ```index``` is only configured for an ```int``` instance and does not recognise a ```list``` of ```int``` neighbouring values, therefore has the same limitations of ```Figure.subplots``` and isn't as flexible as ```Figure.subplot_mosaic```:"
   ]
  },
  {
   "cell_type": "code",
   "execution_count": 24,
   "metadata": {},
   "outputs": [
    {
     "data": {
      "image/png": "[encoded data removed]",
      "text/plain": [
       "<Figure size 640x480 with 3 Axes>"
      ]
     },
     "metadata": {},
     "output_type": "display_data"
    }
   ],
   "source": [
    "mosaic = [['tomato', 'royalblue'],\n",
    "          ['seagreen', 'royalblue']]\n",
    "\n",
    "fig = plt.figure()\n",
    "tomato = fig.add_subplot(2, 2, 1)\n",
    "royalblue = fig.add_subplot(2, 2, 2)\n",
    "seagreen = fig.add_subplot(2, 2, 3)\n",
    "\n",
    "tomato.plot(x, y, color='tomato');\n",
    "royalblue.plot(x, y, color='royalblue');\n",
    "seagreen.plot(x, y, color='seagreen');"
   ]
  },
  {
   "cell_type": "markdown",
   "metadata": {},
   "source": [
    "Another way of adding ```Axes``` is by using the ```Figure.add_axes``` which takes in a rectangle of normalised co-ordinates of the form:\n",
    "\n",
    "```python\n",
    "rectangle = (left, bottom, width, height)\n",
    "```\n",
    "\n",
    "The parameters provided in the ```tuple``` are not named and the code can be more readable using a ```namedtuple```:"
   ]
  },
  {
   "cell_type": "code",
   "execution_count": 25,
   "metadata": {},
   "outputs": [
    {
     "data": {
      "image/png": "[encoded data removed]",
      "text/plain": [
       "<Figure size 640x480 with 2 Axes>"
      ]
     },
     "metadata": {},
     "output_type": "display_data"
    }
   ],
   "source": [
    "from collections import namedtuple\n",
    "AxesRect = namedtuple('AxesRect', ['left', 'bottom', 'width', 'height'])\n",
    "\n",
    "fig = plt.figure()\n",
    "ax1 = fig.add_axes(rect=AxesRect(left=0, bottom=0, width=1, height=1), facecolor='royalblue')\n",
    "ax2 = fig.add_axes(rect=AxesRect(left=0.2, bottom=0.2, width=0.5, height=0.5), facecolor='tomato')"
   ]
  },
  {
   "cell_type": "markdown",
   "metadata": {},
   "source": [
    "it is possible to create two ```Axes``` instances that have a linked x-axis or linked y-axis:"
   ]
  },
  {
   "cell_type": "code",
   "execution_count": null,
   "metadata": {},
   "outputs": [],
   "source": [
    "fig = plt.figure()\n",
    "ax1 = fig.add_subplot(1, 1, 1)\n",
    "ax1.plot(x, y, color='tomato')\n",
    "ax1.set_xlabel('x')\n",
    "ax1.set_ylabel('y1 (tomato)')\n",
    "ax2 = ax1.twinx()\n",
    "ax2.set_ylabel('y2 (royalblue)')\n",
    "ax2.plot(x, -2*y, color='royalblue')"
   ]
  },
  {
   "cell_type": "code",
   "execution_count": null,
   "metadata": {},
   "outputs": [],
   "source": [
    "fig = plt.figure()\n",
    "ax1 = fig.add_subplot(1, 1, 1)\n",
    "ax1.plot(x, y, color='seagreen')\n",
    "ax1.set_xlabel('x1 (seagreen)')\n",
    "ax2 = ax1.twiny()\n",
    "ax2.plot(-2*x, y, color='gold')\n",
    "ax2.set_xlabel('x2 (gold)')"
   ]
  },
  {
   "cell_type": "markdown",
   "metadata": {},
   "source": [
    "The ```fig.add_subplots``` method has a parameter ```projection```:"
   ]
  },
  {
   "cell_type": "code",
   "execution_count": null,
   "metadata": {},
   "outputs": [],
   "source": [
    "x = np.array([1, 2])\n",
    "y = np.array([3, 6])\n",
    "\n",
    "fig = plt.figure()\n",
    "ax2d = fig.add_subplot(1, 1, 1)\n",
    "ax2d.plot(x, y, marker='o')\n",
    "ax2d.set_xlabel('x')\n",
    "ax2d.set_ylabel('y')\n",
    "\n",
    "print(ax2d, type(ax2d))"
   ]
  },
  {
   "cell_type": "code",
   "execution_count": null,
   "metadata": {},
   "outputs": [],
   "source": [
    "x = np.array([1, 2])\n",
    "y = np.array([3, 6])\n",
    "z = np.array([4, 8])\n",
    "\n",
    "fig = plt.figure()\n",
    "ax3d = fig.add_subplot(1, 1, 1, projection='3d')\n",
    "ax3d.plot3D(x, y, z, marker='o')\n",
    "ax3d.set_xlabel('x')\n",
    "ax3d.set_ylabel('y')\n",
    "ax3d.set_zlabel('z')\n",
    "\n",
    "print(ax3d, type(ax3d))"
   ]
  },
  {
   "cell_type": "markdown",
   "metadata": {},
   "source": [
    "The ```Axes3D``` class is based on the ```Axes``` class and has most of the same identifiers:"
   ]
  },
  {
   "cell_type": "code",
   "execution_count": null,
   "metadata": {},
   "outputs": [],
   "source": [
    "dir2(ax3d, ax2d, consistent_only=True)"
   ]
  },
  {
   "cell_type": "markdown",
   "metadata": {},
   "source": [
    "It however includes the following 3D additions:"
   ]
  },
  {
   "cell_type": "code",
   "execution_count": null,
   "metadata": {},
   "outputs": [],
   "source": [
    "dir2(ax3d, ax2d, unique_only=True)"
   ]
  },
  {
   "cell_type": "markdown",
   "metadata": {},
   "source": [
    "Another ```projection``` is ```'polar'```. \n",
    "\n",
    "$x$ and $y$ data can be expressed as a radius $r$ and angle $\\theta$ where:\n",
    "\n",
    "$$r=\\sqrt{x^{2}+y^{2}}$$\n",
    "\n",
    "And:\n",
    "\n",
    "$$\\theta=\\arctan{\\left(\\frac{y}{x}\\right)}"
   ]
  },
  {
   "cell_type": "markdown",
   "metadata": {},
   "source": [
    "Note that $\\theta$ is measured in radians but usually displayed in a polar plot using degrees.\n",
    "\n",
    "The following dataset can be examined:"
   ]
  },
  {
   "cell_type": "code",
   "execution_count": null,
   "metadata": {},
   "outputs": [],
   "source": [
    "r = np.arange(0, 1, 0.1)\n",
    "theta = 2 * np.pi * r\n",
    "degree = np.rad2deg(theta)\n",
    "\n",
    "y = r * np.sin(theta)\n",
    "x = r * np.cos(theta)\n",
    "\n",
    "pd.DataFrame({'x': x, 'y': y, 'r': r, 'theta': theta, 'degree': degree, })"
   ]
  },
  {
   "cell_type": "markdown",
   "metadata": {},
   "source": [
    "This can be plotted using a normal $x$, $y$ ```Axes``` and a $r$, $\\theta$ ```PolarAxes```:"
   ]
  },
  {
   "cell_type": "code",
   "execution_count": null,
   "metadata": {},
   "outputs": [],
   "source": [
    "fig, ax = plt.subplots()\n",
    "ax.plot(x, y, marker='o')\n",
    "\n",
    "fig = plt.figure()\n",
    "axpolar = fig.add_subplot(1, 1, 1, projection='polar')\n",
    "axpolar.plot(theta, r, marker='o')\n",
    "print(axpolar, type(axpolar))"
   ]
  },
  {
   "cell_type": "markdown",
   "metadata": {},
   "source": [
    "Notice that ```AxesPolar``` has the same identifiers as ```Axes```"
   ]
  },
  {
   "cell_type": "code",
   "execution_count": null,
   "metadata": {},
   "outputs": [],
   "source": [
    "dir2(axpolar, ax2d, consistent_only=True)"
   ]
  },
  {
   "cell_type": "markdown",
   "metadata": {},
   "source": [
    "However has the following additions for the polar axes:"
   ]
  },
  {
   "cell_type": "code",
   "execution_count": null,
   "metadata": {},
   "outputs": [],
   "source": [
    "dir2(axpolar, ax2d, unique_only=True)"
   ]
  },
  {
   "cell_type": "markdown",
   "metadata": {},
   "source": [
    "The function ```plt.getp``` (get properties) can be used to get the properties of an instance that belongs to a ```plt``` class. If the following components of the ```Figure``` are examined:"
   ]
  },
  {
   "cell_type": "code",
   "execution_count": null,
   "metadata": {},
   "outputs": [],
   "source": [
    "x = np.array([0, 1, 2, 3, 4, 5])\n",
    "y = np.array([0.001, 2.001, 3.999, 5.999, 8.002, 10.001])\n",
    "\n",
    "fig = plt.figure()\n",
    "ax = fig.add_subplot(1, 1, 1)\n",
    "x_text = ax.set_xlabel('x')\n",
    "y_text = ax.set_ylabel('y')\n",
    "title_text = ax.set_title('y=f(x)')\n",
    "line_list = ax.plot(x, y)"
   ]
  },
  {
   "cell_type": "markdown",
   "metadata": {},
   "source": [
    "The properties of the ```Figure``` instance can be examined:"
   ]
  },
  {
   "cell_type": "code",
   "execution_count": null,
   "metadata": {},
   "outputs": [],
   "source": [
    "plt.getp(fig)"
   ]
  },
  {
   "cell_type": "markdown",
   "metadata": {},
   "source": [
    "The most commonly changed keyword input arguments match those shown in the docstring of the ```plt.Figure``` classes initialisation signature:"
   ]
  },
  {
   "cell_type": "code",
   "execution_count": null,
   "metadata": {},
   "outputs": [],
   "source": [
    "plt.Figure?"
   ]
  },
  {
   "cell_type": "markdown",
   "metadata": {},
   "source": [
    "The properties of the ```Axes``` instance can be examined:"
   ]
  },
  {
   "cell_type": "code",
   "execution_count": null,
   "metadata": {},
   "outputs": [],
   "source": [
    "plt.getp(ax)"
   ]
  },
  {
   "cell_type": "markdown",
   "metadata": {},
   "source": [
    "The most commonly changed keyword input arguments match those shown in the docstring of the ```plt.Axes``` classes initialisation signature:"
   ]
  },
  {
   "cell_type": "code",
   "execution_count": null,
   "metadata": {},
   "outputs": [],
   "source": [
    "plt.Axes?"
   ]
  },
  {
   "cell_type": "markdown",
   "metadata": {},
   "source": [
    "The properties of the ```Text``` instance can be examined:"
   ]
  },
  {
   "cell_type": "code",
   "execution_count": null,
   "metadata": {},
   "outputs": [],
   "source": [
    "plt.getp(x_text)"
   ]
  },
  {
   "cell_type": "markdown",
   "metadata": {},
   "source": [
    "The most commonly changed keyword input arguments match those shown in the docstring of the ```plt.Text``` classes initialisation signature:"
   ]
  },
  {
   "cell_type": "code",
   "execution_count": null,
   "metadata": {},
   "outputs": [],
   "source": [
    "plt.Text?"
   ]
  },
  {
   "cell_type": "markdown",
   "metadata": {},
   "source": [
    "The properties of the ```list``` instance of ```Line2D``` classes can be examined:"
   ]
  },
  {
   "cell_type": "code",
   "execution_count": null,
   "metadata": {},
   "outputs": [],
   "source": [
    "plt.getp(line_list)"
   ]
  },
  {
   "cell_type": "markdown",
   "metadata": {},
   "source": [
    "Or of a single ```Line2D``` class can be examined:"
   ]
  },
  {
   "cell_type": "code",
   "execution_count": null,
   "metadata": {},
   "outputs": [],
   "source": [
    "plt.getp(line_list[0])"
   ]
  },
  {
   "cell_type": "markdown",
   "metadata": {},
   "source": [
    "The most commonly changed keyword input arguments match those shown in the docstring of the ```ax.plot``` classes initialisation signature:"
   ]
  },
  {
   "cell_type": "code",
   "execution_count": null,
   "metadata": {},
   "outputs": [],
   "source": [
    "ax.plot?"
   ]
  },
  {
   "cell_type": "markdown",
   "metadata": {},
   "source": [
    "The associated function ```plt.setp``` (set properties) can be used to set properties, for example:"
   ]
  },
  {
   "cell_type": "code",
   "execution_count": null,
   "metadata": {},
   "outputs": [],
   "source": [
    "fig = plt.figure()\n",
    "ax = fig.add_subplot(1, 1, 1)\n",
    "x_text = ax.set_xlabel('x')\n",
    "y_text = ax.set_ylabel('y')\n",
    "title_text = ax.set_title('y=f(x)')\n",
    "line_list = ax.plot(x, y)\n",
    "plt.setp(line_list[0], color='tomato', linewidth=3, linestyle=':')"
   ]
  },
  {
   "cell_type": "markdown",
   "metadata": {},
   "source": [
    "Instead of using ```plt.setp``` these can be supplied as input arguments for the plotting function. Normally only the ```mpl``` instances likely to be later accessed are assigned to instance names and the code above is written typically like:"
   ]
  },
  {
   "cell_type": "code",
   "execution_count": null,
   "metadata": {},
   "outputs": [],
   "source": [
    "fig, ax = plt.subplots()\n",
    "ax.set_xlabel('x')\n",
    "ax.set_ylabel('y')\n",
    "ax.set_title('y=f(x)')\n",
    "line_list = ax.plot(x, y, color='tomato', linewidth=3, linestyle=':')"
   ]
  },
  {
   "cell_type": "markdown",
   "metadata": {},
   "source": [
    "## Text"
   ]
  },
  {
   "cell_type": "markdown",
   "metadata": {},
   "source": [
    "The most commonly added ```Text``` to a plot are ```Axes``` labels:"
   ]
  },
  {
   "cell_type": "markdown",
   "metadata": {},
   "source": [
    "### Axes Labels"
   ]
  },
  {
   "cell_type": "code",
   "execution_count": null,
   "metadata": {},
   "outputs": [],
   "source": [
    "fig, ax = plt.subplots()\n",
    "ax.plot(x, y, color='tomato')\n",
    "ax.set_xlabel('x')\n",
    "ax.set_ylabel('y')\n",
    "ax.set_title('y=f(x)');"
   ]
  },
  {
   "cell_type": "markdown",
   "metadata": {},
   "source": [
    "The docstring of the ```Axes.set_xlabel``` method may be examined to see additional properties:"
   ]
  },
  {
   "cell_type": "code",
   "execution_count": null,
   "metadata": {},
   "outputs": [],
   "source": [
    "ax.set_xlabel?"
   ]
  },
  {
   "cell_type": "markdown",
   "metadata": {},
   "source": [
    "These are Text related so also have the following keyword input arguments:"
   ]
  },
  {
   "cell_type": "code",
   "execution_count": null,
   "metadata": {},
   "outputs": [],
   "source": [
    "plt.Text?"
   ]
  },
  {
   "cell_type": "markdown",
   "metadata": {},
   "source": [
    "For example the following changes can be made to the xlabel;"
   ]
  },
  {
   "cell_type": "code",
   "execution_count": null,
   "metadata": {},
   "outputs": [],
   "source": [
    "fig, ax = plt.subplots(num=1);\n",
    "ax.plot(x, y, color='tomato');\n",
    "ax.set_xlabel('xlabel', loc='left', color='tomato', rotation=270);"
   ]
  },
  {
   "cell_type": "markdown",
   "metadata": {},
   "source": [
    "### Labels and TeX"
   ]
  },
  {
   "cell_type": "markdown",
   "metadata": {},
   "source": [
    "The labels also TeX input, for example:\n",
    "\n",
    "Inline Equation:\n",
    "\n",
    "```tex\n",
    "$\\sin{\\alpha}\\pm\\sin{\\beta}=2\\sin{\\frac{1}{2}\\left(\\alpha\\pm\\beta\\right)}\\cos{\\frac{1}{2}\\left(\\alpha\\mp\\beta\\right)}$\n",
    "```\n",
    "\n",
    "$\\sin{\\alpha}\\pm\\sin{\\beta}=2\\sin{\\frac{1}{2}\\left(\\alpha\\pm\\beta\\right)}\\cos{\\frac{1}{2}\\left(\\alpha\\mp\\beta\\right)}$\n",
    "\n",
    "Display Equation:\n",
    "\n",
    "```tex\n",
    "$$\\sin{\\alpha}\\pm\\sin{\\beta}=2\\sin{\\frac{1}{2}\\left(\\alpha\\pm\\beta\\right)}\\cos{\\frac{1}{2}\\left(\\alpha\\mp\\beta\\right)}$$\n",
    "```\n",
    "\n",
    "$$\\sin{\\alpha}\\pm\\sin{\\beta}=2\\sin{\\frac{1}{2}\\left(\\alpha\\pm\\beta\\right)}\\cos{\\frac{1}{2}\\left(\\alpha\\mp\\beta\\right)}$$\n",
    "\n",
    "Note that inline equations are raw strings enclosed in single ```$``` signs of the form:\n",
    "\n",
    "```python\n",
    "r'$EQUATION$'\n",
    "```\n",
    "\n",
    "And display equations are raw strings enclosed in double ```$$``` signs of the form:\n",
    "\n",
    "```python\n",
    "r'$$EQUATION$$'\n",
    "```\n",
    "\n",
    "The ```Axes``` methods return ```Text``` objects have the ```usetex``` keyword input argument which is ```False``` by default which renders the text using the quick default that only supports inline equations. This can be set to ```True``` which will instead render the text using TeX and supports both inline and display equations. Rendering is slightly slower using TeX."
   ]
  },
  {
   "cell_type": "code",
   "execution_count": null,
   "metadata": {},
   "outputs": [],
   "source": [
    "fig, ax = plt.subplots()\n",
    "ax.plot(x, y, color='tomato')\n",
    "ax.set_xlabel(r'$\\sin{\\alpha}\\pm\\sin{\\beta}=2\\sin{\\frac{1}{2}\\left(\\alpha\\pm\\beta\\right)}\\cos{\\frac{1}{2}\\left(\\alpha\\mp\\beta\\right)}$', \n",
    "              usetex=False)\n",
    "ax.set_ylabel(r'$\\sin{\\alpha}\\pm\\sin{\\beta}=2\\sin{\\frac{1}{2}\\left(\\alpha\\pm\\beta\\right)}\\cos{\\frac{1}{2}\\left(\\alpha\\mp\\beta\\right)}$', \n",
    "              usetex=False)\n",
    "ax.set_title(r'$\\sin{\\alpha}\\pm\\sin{\\beta}=2\\sin{\\frac{1}{2}\\left(\\alpha\\pm\\beta\\right)}\\cos{\\frac{1}{2}\\left(\\alpha\\mp\\beta\\right)}$',\n",
    "             usetex=False)\n",
    "ax.text(x=2, y=4, s=r'$\\sin{\\alpha}\\pm\\sin{\\beta}=2\\sin{\\frac{1}{2}\\left(\\alpha\\pm\\beta\\right)}\\cos{\\frac{1}{2}\\left(\\alpha\\mp\\beta\\right)}$',\n",
    "        usetex=False)\n",
    "\n",
    "fig, ax = plt.subplots()\n",
    "ax.plot(x, y, color='tomato')\n",
    "ax.set_xlabel(r'$\\sin{\\alpha}\\pm\\sin{\\beta}=2\\sin{\\frac{1}{2}\\left(\\alpha\\pm\\beta\\right)}\\cos{\\frac{1}{2}\\left(\\alpha\\mp\\beta\\right)}$', \n",
    "              usetex=True)\n",
    "ax.set_ylabel(r'$\\sin{\\alpha}\\pm\\sin{\\beta}=2\\sin{\\frac{1}{2}\\left(\\alpha\\pm\\beta\\right)}\\cos{\\frac{1}{2}\\left(\\alpha\\mp\\beta\\right)}$', \n",
    "              usetex=True)\n",
    "ax.set_title(r'$$\\sin{\\alpha}\\pm\\sin{\\beta}=2\\sin{\\frac{1}{2}\\left(\\alpha\\pm\\beta\\right)}\\cos{\\frac{1}{2}\\left(\\alpha\\mp\\beta\\right)}$$',\n",
    "             usetex=True)\n",
    "ax.text(x=2, y=4, s=r'$$\\sin{\\alpha}\\pm\\sin{\\beta}=2\\sin{\\frac{1}{2}\\left(\\alpha\\pm\\beta\\right)}\\cos{\\frac{1}{2}\\left(\\alpha\\mp\\beta\\right)}$$',\n",
    "        usetex=True)"
   ]
  },
  {
   "cell_type": "markdown",
   "metadata": {},
   "source": [
    "Note that the ```Axes.Text``` instance is inserted at the data co-ordinate ```x=2, y=4``` as expected (the ```Axes.Text``` method does not have the parameter ```xycoords='data'``` but the behaviour is consistent with other methods such as ```Axes.annotate```)."
   ]
  },
  {
   "cell_type": "markdown",
   "metadata": {},
   "source": [
    "TeX equations can be constructed in a WYSIWYG equation editor such as the equation Editor in Microsoft Word or OnlyOffice Desktop Editors. The setting can be changed to LaTeX and it can be displayed in a linear view. This will give the equation in the format required but it will need to be placed in a raw string with dollar signs or double dollar signs. There is a subtle difference between TeX and LaTeX (as previously discussed in the Markdown tutorial). LaTeX is essentially an extension of TeX which is the underlying typeset and LateX can be extended with packages. Sometimes the output in LaTeX will need to be simplified to TeX."
   ]
  },
  {
   "cell_type": "markdown",
   "metadata": {},
   "source": [
    "The following characters are reserved symbols as they are used as formatting characters in TeX:\n",
    "\n",
    "|Symbol Name|Symbol|Meaning|\n",
    "|---|---|---|\n",
    "|dollar sign|```$```|enclosure for math mode; single enclosure=inline equation, double enclosure=display equation|\n",
    "|single quotes|```'```|used for str|\n",
    "|double quotes|```\"```|used for str|\n",
    "|backslash|```\\```|inserts an escape character or command|\n",
    "|braces|```{}```|enclose command arguments|\n",
    "|ampersand|```&```|group command arguments|\n",
    "|hash|```#```|used for a reference|\n",
    "|percentage sign|```%```|comment|\n",
    "|pipe|```\\|```|column divider|\n",
    "|hyphen|```-```|minus symbol|\n",
    "|caret|```^```|superscript|\n",
    "|underscore|```_```|subscript|\n",
    "|tilde|```~```|non-breaking space|\n",
    "\n",
    "The following commands can be used to change the text type:\n",
    "\n",
    "|description|TeX|output|\n",
    "|---|---|---|\n",
    "|math text|```$Hello World! 1-2$```|$Hello World! 1-2$|\n",
    "|math roman|```$\\mathrm{Hello World! 1-2}$```|$\\mathrm{Hello World! 1-2}$|\n",
    "|bold text|```$\\textbf{Hello World! 1-2}$```|$\\textbf{Hello World! 1-2}$|\n",
    "|normal text|```$\\text{Hello World! 1-2}$```|$\\text{Hello World! 1-2}$|\n",
    "|verbatim text|```$\\verb\\|{\"Hello World!\" 1-2 ~^\\}\\|$```|$\\verb\\|{\"Hello World!\" 1-2 ~^\\}\\|$|\n",
    "\n",
    "Notice a command is of the form:\n",
    "\n",
    "```tex\n",
    "\\command{arg}\n",
    "```\n",
    "\n",
    "Verbatim text has additional support for some of the formatting characters such as ```~^\\{}```. \n",
    "\n",
    "Recall in Python that a quotation is recognised as an instruction to close the ```str``` and Python can uses the escape characters to indicate that ```\\'``` and ```\\\"``` are instead part of the ```str```. This instruction is unfortunately not recognised by LaTeX which will instead display the ```\\``` in verbatim text. Single quotations can be used to enclose a ```str``` that is intended to have double quotations and vice-versa. If the ```LaTeX``` text contains both, then concatenation can be used:\n",
    "\n",
    "```python\n",
    "r'$\\verb|\"|$' + r\"$\\verb|'|$\"\n",
    "```"
   ]
  },
  {
   "cell_type": "code",
   "execution_count": null,
   "metadata": {},
   "outputs": [],
   "source": [
    "fig, ax = plt.subplots()\n",
    "ax.plot(x, y, color='tomato')\n",
    "ax.set_xlabel(r'$\\verb|\"Hello World!\"|$'+r\"$\\verb|'Hello World!'|$\", \n",
    "              usetex=True)\n",
    "ax.set_ylabel(r'$\\verb|\"Hello World!\"|$'+r\"$\\verb|'Hello World!'|$\", \n",
    "              usetex=True)\n",
    "ax.set_title(r'$\\verb|\"Hello World!\"|$'+r\"$\\verb|'Hello World!'|$\", \n",
    "              usetex=True)\n",
    "ax.text(x=2, y=4, s=r'$\\verb|\"Hello World!\"|$'+r\"$\\verb|'Hello World!'|$\",\n",
    "        usetex=True)"
   ]
  },
  {
   "cell_type": "markdown",
   "metadata": {},
   "source": [
    "Sometimes the formatting characters need to be incorporated into the equation. This can be done using the escape characters:\n",
    "\n",
    "|description|TeX|output|\n",
    "|---|---|---|\n",
    "|dollar sign|```$\\$$```|$\\$$|\n",
    "|percentage sign|```$\\%$```|$\\%$|\n",
    "|hash|```$\\#$```|$\\#$|\n",
    "|ampersand|```$\\&$```|$\\&$|\n",
    "\n",
    "Some of the other formatting characters can be inserted using the following syntax:\n",
    "\n",
    "|description|TeX|output|\n",
    "|---|---|---|\n",
    "|backslash|```$\\backslash$```|$\\backslash$|\n",
    "|pipe|```$\\vert$```|$\\vert$|\n",
    "|left brace|```$\\lbrace$```|$\\lbrace$|\n",
    "|right brace|```$\\rbrace$```|$\\rbrace$|\n",
    "\n",
    "This syntax is also available for commonly used mathematical symbols:\n",
    "\n",
    "|description|TeX|output|\n",
    "|---|---|---|\n",
    "|equal to|```$=$```|$=$|\n",
    "|equivalent to|```$\\equiv$```|$\\equiv$|\n",
    "|not equal to|```$\\ne$```|$\\ne$|\n",
    "|similar to|```$\\sim$```|$\\sim$|\n",
    "|approximate to|```$\\approx$```|$\\approx$|\n",
    "|tilde|```$\\sim$```|$\\sim$|\n",
    "|approximately equal to|```$\\cong$```|$\\cong$|\n",
    "|plus|```$+$```|$+$|\n",
    "|minus|```$-$```|$-$|\n",
    "|plus minus|```$\\pm$```|$\\pm$|\n",
    "|minus plus|```$\\mp$```|$\\mp$|\n",
    "|asterisk|```$\\ast$```|$\\ast$|\n",
    "|times|```$\\times$```|$\\times$|\n",
    "|centre dot|```$\\cdot$```|$\\cdot$|\n",
    "|period|```$.$```|$.$|\n",
    "|bullet|```$\\bullet$```|$\\bullet$|\n",
    "|colon|```$\\colon$```|$\\colon$|\n",
    "|centre dots|```$\\cdots$```|$\\cdots$|\n",
    "|vertical dots|```$\\vdots$```|$\\vdots$|\n",
    "|therefore|```$\\therefore$```|$\\therefore$|\n",
    "|division slash|```$/$```|$/$|\n",
    "|division sign|```$\\div$```|$\\div$|\n",
    "|less than|```$<$```|$<$|\n",
    "|less than or equal to|```$\\leq$```|$\\leq$|\n",
    "|greater than|```$>$```|$>$|\n",
    "|greater than or equal to|```$\\geq$```|$\\geq$|\n",
    "|factorial|```$!$```|$!$|\n",
    "|degree|```$\\degree$```|$\\degree$|\n",
    "|infinity|```$\\infty$```|$\\infty$|\n",
    "|proportional to|```$\\propto$```|$\\propto$|\n",
    "|partial|```$\\partial$```|$\\partial$|\n",
    "|hbar|```$\\hbar$```|$\\hbar$|\n",
    "|union|```$\\cup$```|$\\cup$|\n",
    "|intersection|```$\\cap$```|$\\cap$|\n",
    "|emptyset|```$\\emptyset$```|$\\emptyset$|\n",
    "|exists|```$\\exists$```|$\\exists$|\n",
    "|in|```$\\in$```|$\\in$|\n",
    "|not in|```$\\notin$```|$\\notin$|\n",
    "|ni|```$\\ni$```|$\\ni$|\n",
    "|left arrow|```$\\leftarrow$```|$\\leftarrow$|\n",
    "|right arrow|```$\\rightarrow$```|$\\rightarrow$|\n",
    "|left right arrow|```$\\leftrightarrow$```|$\\leftrightarrow$|\n",
    "|up arrow|```$\\uparrow$```|$\\uparrow$|\n",
    "|down arrow|```$\\uparrow$```|$\\downarrow$|\n",
    "|up down arrow|```$\\updownarrow$```|$\\updownarrow$|\n",
    "\n",
    "Greek Letters:\n",
    "\n",
    "|description|TeX|output|\n",
    "|---|---|---|\n",
    "|alpha|```$\\alpha$```|$\\alpha$|\n",
    "|beta|```$\\beta$```|$\\beta$|\n",
    "|Gamma|```$\\Gamma$```|$\\Gamma$|\n",
    "|gamma|```$\\gamma$```|$\\gamma$|\n",
    "|Delta|```$\\Delta$```|$\\Delta$|\n",
    "|delta|```$\\delta$```|$\\delta$|\n",
    "|nabla|```$\\nabla$```|$\\nabla$|\n",
    "|epsilon|```$\\epsilon$```|$\\epsilon$|\n",
    "|epsilon|```$\\varepsilon$```|$\\varepsilon$|\n",
    "|zeta|```$\\zeta$```|$\\zeta$|\n",
    "|eta|```$\\eta$```|$\\eta$|\n",
    "|kappa|```$\\kappa$```|$\\kappa$|\n",
    "|Lambda|```$\\Lamba$```|$\\Lambda$|\n",
    "|mu|```$\\mu$```|$\\mu$|\n",
    "|Xi|```$\\Xi$```|$\\Xi$|\n",
    "|xi|```$\\xi$```|$\\xi$|\n",
    "|Pi|```$\\Pi$```|$\\Pi$|\n",
    "|pi|```$\\pi$```|$\\pi$|\n",
    "|rho|```$\\rho$```|$\\rho$|\n",
    "|Sigma|```$\\Sigma$```|$\\Sigma$|\n",
    "|sigma|```$\\sigma$```|$\\sigma$|\n",
    "|sigma|```$\\varsigma$```|$\\varsigma$|\n",
    "|tau|```$\\tau$```|$\\tau$|\n",
    "|Upsilon|```$\\Upsilon$```|$\\Upsilon$|\n",
    "|upsilon|```$\\upsilon$```|$\\upsilon$|\n",
    "|Phi|```$\\Phi$```|$\\Phi$|\n",
    "|phi|```$\\phi$```|$\\phi$|\n",
    "|chi|```$\\chi$```|$\\chi$|\n",
    "|Psi|```$\\Psi$```|$\\Psi$|\n",
    "|psi|```$\\psi$```|$\\psi$|\n",
    "|Omega|```$\\Omega$```|$\\Omega$|\n",
    "|omega|```$\\omega$```|$\\omega$|\n",
    "\n",
    "Note the Greek letters A, B, E, Z, H, I, i, K, M, N, O, o and P that are the same as Latin letters are therefore just represented using the Latin letters.\n",
    "\n",
    "Commands can be used to apply an accent:\n",
    "\n",
    "|description|TeX|output|\n",
    "|---|---|---|\n",
    "|math text with dot|```$\\dot{x}$```|$\\dot{x}$|\n",
    "|math text with double dot|```$\\ddot{x}$```|$\\ddot{x}$|\n",
    "|math text with bar|```$\\bar{x}$```|$\\bar{x}$|\n",
    "|math text with hat|```$\\hat{x}$```|$\\hat{x}$|\n",
    "|math text with arrow vector|```$\\vec{x}$```|$\\vec{x}$|\n",
    "|math text with tilde|```$\\tilde{x}$```|$\\tilde{x}$|\n",
    "|math text with wide tilde|```$\\widetilde{xx}$```|$\\widetilde{xx}$|\n",
    "|math text with check|```$\\check{x}$```|$\\check{x}$|\n",
    "|math text with acute|```$\\acute{x}$```|$\\acute{x}$|\n",
    "|math text with grave|```$\\grave{x}$```|$\\grave{x}$|\n",
    "|math text with breve|```$\\breve{x}$```|$\\breve{x}$|\n",
    "|subscript|```$x_{2}$```|$x_{2}$|\n",
    "|superscript|```$x^{3}$```|$x^{3}$|\n",
    "|subscript and superscript|```$x_{2}^{3}$```|$x_{2}^{3}$|\n",
    "|square root|```$\\sqrt{x}$```|$\\sqrt{x}$|\n",
    "|sin|```$\\sin{x}$```|$\\sin{x}$|\n",
    "|cos|```$\\cos{x}$```|$\\cos{x}$|\n",
    "|tan|```$\\tan{x}$```|$\\tan{x}$|\n",
    "|log|```$\\log{x}$```|$\\log{x}$|\n",
    "|exp|```$\\exp{x}$```|$\\exp{x}$|\n",
    "\n",
    "Fractions can be added using:\n",
    "\n",
    "|description|TeX|output|\n",
    "|---|---|---|\n",
    "|inline fraction|```$\\frac{a}{b}$```|$\\frac{a}{b}$|\n",
    "\n",
    "Brackets are added using:\n",
    "\n",
    "|description|TeX|output|\n",
    "|---|---|---|\n",
    "|inline fraction parenthesis|```$(\\frac{a}{b})$```|$(\\frac{a}{b})$|\n",
    "|inline fraction square|```$[\\frac{a}{b}]$```|$[\\frac{a}{b}]$|\n",
    "|inline fraction braces|```$\\lbrace\\frac{a}{b}\\rbrace$```|$\\lbrace\\frac{a}{b} \\rbrace$|"
   ]
  },
  {
   "cell_type": "markdown",
   "metadata": {},
   "source": [
    "### Annotations"
   ]
  },
  {
   "attachments": {},
   "cell_type": "markdown",
   "metadata": {},
   "source": [
    "Annotations can be added using the method ```Axes.annotate``` or function ```plt.annotate```:"
   ]
  },
  {
   "cell_type": "code",
   "execution_count": null,
   "metadata": {},
   "outputs": [],
   "source": [
    "ax.annotate?"
   ]
  },
  {
   "attachments": {},
   "cell_type": "markdown",
   "metadata": {},
   "source": [
    "The annotation takes in a number of keyword input arguments. \n",
    "\n",
    "In the simplest case, ```text``` is the text to be annotated and ```xy``` is a tuple of the co-ordinates using the units specified in ```xycoords```.\n",
    "\n",
    "More generally a specific data point at ```xy``` is annotated using text at ```xytext``` and an arrow is drawn from ```xytext``` to ```xy```. \n",
    "\n",
    "The keyword argument ```arrowprops``` is a ```dict``` of arrow properties. The default Python syntax ```{}``` can be used for the ```dict``` instance however often instantiation of the ```dict``` class using named parameters is preferred. Instantiation of a ```dict``` using the ```dict``` class matches the format of input arguments used elsewhere in the function call:"
   ]
  },
  {
   "cell_type": "code",
   "execution_count": null,
   "metadata": {},
   "outputs": [],
   "source": [
    "fig, ax = plt.subplots()\n",
    "ax.plot(x, y, color='tomato')\n",
    "\n",
    "ax.annotate(text='noarrow', xy=(0.5, 1), xycoords='data')\n",
    "\n",
    "ax.annotate(text='fancyarrow', xy=(1, 2), xytext=(1, 4), xycoords='data', color='dodgerblue', \n",
    "            arrowprops={'color': 'magenta', 'arrowstyle': 'fancy'})\n",
    "ax.annotate(text='fancyarrow', xy=(2, 4), xytext=(2, 6), xycoords='data', \n",
    "            arrowprops={'facecolor': 'magenta', 'edgecolor': 'cyan', 'arrowstyle': 'fancy'})\n",
    "ax.annotate(text='simplearrow', xy=(3, 6), xytext=(3, 4), xycoords='data', \n",
    "            arrowprops={'facecolor': 'lime', 'edgecolor': 'yellow', 'arrowstyle': 'simple'})\n",
    "\n",
    "ax.annotate(text='customarrow', xy=(4, 8), xytext=(4, 6), xycoords='data', \n",
    "            arrowprops=dict(facecolor='royalblue', edgecolor='skyblue', headlength=10, headwidth=10, linewidth=2))"
   ]
  },
  {
   "attachments": {},
   "cell_type": "markdown",
   "metadata": {},
   "source": [
    "## Axes Limits"
   ]
  },
  {
   "attachments": {},
   "cell_type": "markdown",
   "metadata": {},
   "source": [
    "The Axes limits are automatically determined from the data:"
   ]
  },
  {
   "cell_type": "code",
   "execution_count": null,
   "metadata": {},
   "outputs": [],
   "source": [
    "fig = plt.figure()\n",
    "ax1 = fig.add_axes(rect=AxesRect(left=0, bottom=0, width=1, height=1))\n",
    "ax1.plot(x, y**2, color='tomato')\n",
    "ax2 = fig.add_axes(rect=AxesRect(left=0.1, bottom=0.55, width=0.4, height=0.4))\n",
    "ax2.plot(x, y**2, color='tomato')"
   ]
  },
  {
   "attachments": {},
   "cell_type": "markdown",
   "metadata": {},
   "source": [
    "Sometimes it is desirable to change the ```Axes``` limits to zoom in or out of a region. This is done by the methods ```Axes.set_xlim``` and ```Axes.set_ylim``` or equivalent function ```plt.xlim``` or ```plt.ylim```:"
   ]
  },
  {
   "cell_type": "code",
   "execution_count": null,
   "metadata": {},
   "outputs": [],
   "source": [
    "ax1.set_xlim?"
   ]
  },
  {
   "cell_type": "markdown",
   "metadata": {},
   "source": [
    "Supposing the smaller ```Axes``` is supposed to highlight the start of the data, the following limits can be added:"
   ]
  },
  {
   "cell_type": "code",
   "execution_count": null,
   "metadata": {},
   "outputs": [],
   "source": [
    "fig = plt.figure()\n",
    "ax1 = fig.add_axes(rect=AxesRect(left=0, bottom=0, width=1, height=1))\n",
    "ax1.set_xlim(left=0, right=6, auto=False)\n",
    "ax1.set_ylim(bottom=0, top=200, auto=False)\n",
    "ax1.plot(x, y**2, color='tomato')\n",
    "ax2 = fig.add_axes(rect=AxesRect(left=0.1, bottom=0.55, width=0.4, height=0.4))\n",
    "ax2.set_xlim(left=-0.5, right=1, auto=False)\n",
    "ax2.set_ylim(bottom=-5, top=10, auto=False)\n",
    "ax2.plot(x, y**2, color='tomato')"
   ]
  },
  {
   "attachments": {},
   "cell_type": "markdown",
   "metadata": {},
   "source": [
    "The limits are normally set by using the keyword arguments ```left``` and ```right``` for x or ```bottom``` and ```top``` for y. \n",
    "\n",
    "```python\n",
    "ax1.set_xlim(left=0, right=6, auto=False)\n",
    "ax1.set_ylim(bottom=0, top=200, auto=False)\n",
    "```\n",
    "\n",
    "```left``` and ```right``` have the alias ```xmin``` and ```xmax```. Likewise ```bottom``` and ```top``` have the alias ```ymin``` and ```ymax```:\n",
    "\n",
    "```python\n",
    "ax1.set_xlim(xmin=0, xmax=6, auto=False)\n",
    "ax1.set_ylim(ymin=0, ymax=200, auto=False)\n",
    "```\n",
    "\n",
    "If both limits are provided, they can also be supplied using a ```tuple```:\n",
    "\n",
    "```python\n",
    "ax1.set_xlim((0, 6), auto=False)\n",
    "ax1.set_ylim((0, 200), auto=False)\n",
    "```\n"
   ]
  },
  {
   "attachments": {},
   "cell_type": "markdown",
   "metadata": {},
   "source": [
    "## Axes Scale"
   ]
  },
  {
   "attachments": {},
   "cell_type": "markdown",
   "metadata": {},
   "source": [
    "When a value has a non-linear dependence it is sometimes insightful to view it on a logarithmic scale. This can be done using the methods ```Axes.set_xscale``` and ```Axes.set_yscale``` or the equivalent functions ```plt.xscale``` and ```plt.yscale```:"
   ]
  },
  {
   "cell_type": "code",
   "execution_count": null,
   "metadata": {},
   "outputs": [],
   "source": [
    "ax2.set_yscale?"
   ]
  },
  {
   "attachments": {},
   "cell_type": "markdown",
   "metadata": {},
   "source": [
    "The log of 0 is -∞:\n",
    "\n",
    "```python\n",
    "np.log(0)\n",
    "```"
   ]
  },
  {
   "cell_type": "code",
   "execution_count": null,
   "metadata": {},
   "outputs": [],
   "source": []
  },
  {
   "attachments": {},
   "cell_type": "markdown",
   "metadata": {},
   "source": [
    "And the log of a negative number is not a number:\n",
    "\n",
    "```python\n",
    "np.log(-1)\n",
    "```"
   ]
  },
  {
   "cell_type": "code",
   "execution_count": null,
   "metadata": {},
   "outputs": [],
   "source": []
  },
  {
   "attachments": {},
   "cell_type": "markdown",
   "metadata": {},
   "source": [
    "Therefore the ```bottom``` limit is normally set to 1 when using a log scale:"
   ]
  },
  {
   "cell_type": "code",
   "execution_count": null,
   "metadata": {},
   "outputs": [],
   "source": [
    "fig = plt.figure()\n",
    "ax1 = fig.add_axes(rect=AxesRect(left=0, bottom=0, width=1, height=1))\n",
    "ax1.plot(x, y**10, color='tomato')\n",
    "ax2 = fig.add_axes(rect=AxesRect(left=0.1, bottom=0.55, width=0.4, height=0.4))\n",
    "ax2.plot(x, y**10, color='tomato')\n",
    "ax2.set_yscale('log')\n",
    "ax2.set_ylim(bottom=1)"
   ]
  },
  {
   "attachments": {},
   "cell_type": "markdown",
   "metadata": {},
   "source": [
    "## Line Plot"
   ]
  },
  {
   "attachments": {},
   "cell_type": "markdown",
   "metadata": {},
   "source": [
    "Previously a single line plot was created using the ```Axes.plot``` method:"
   ]
  },
  {
   "cell_type": "code",
   "execution_count": null,
   "metadata": {},
   "outputs": [],
   "source": [
    "fig, ax = plt.subplots()\n",
    "lines = ax.plot(x, y)\n",
    "print(lines, type(lines))\n",
    "print(lines[0], type(lines[0]))"
   ]
  },
  {
   "cell_type": "markdown",
   "metadata": {},
   "source": [
    "The ```Axes.plot``` method has ```*args``` which mean a variable number of input arguments can be input. Multiple traces can be plotted using:"
   ]
  },
  {
   "cell_type": "code",
   "execution_count": null,
   "metadata": {},
   "outputs": [],
   "source": [
    "fig, ax = plt.subplots()\n",
    "lines = ax.plot(x, y, \n",
    "                x, y+1,\n",
    "                x, y+2,\n",
    "                x, y+3, \n",
    "                x, y+4,\n",
    "                x, y+5,\n",
    "                x, y+6,\n",
    "                x, y+7,\n",
    "                x, y+8,\n",
    "                x, y+9,\n",
    "                x, y+10,\n",
    "                x, y+11)\n",
    "print(lines, type(lines))"
   ]
  },
  {
   "attachments": {},
   "cell_type": "markdown",
   "metadata": {},
   "source": [
    "## Colours"
   ]
  },
  {
   "attachments": {},
   "cell_type": "markdown",
   "metadata": {},
   "source": [
    "Notice that each line has its own colour until the 10th line is reached and the colours then repeat. This is because the default colours used are called ```TABLEAU_COLORS```* and there are 10 colours:"
   ]
  },
  {
   "cell_type": "code",
   "execution_count": null,
   "metadata": {},
   "outputs": [],
   "source": [
    "mpl.colors.TABLEAU_COLORS"
   ]
  },
  {
   "cell_type": "markdown",
   "metadata": {},
   "source": [
    "The colours in ```TABLEAU_COLORS``` are discrete colours carefully selected to make it easy to distinguish each line."
   ]
  },
  {
   "cell_type": "markdown",
   "metadata": {},
   "source": [
    "\\* Unfortunately Python uses US English opposed to UK English, British spellings of colo**u**r won't be recognised."
   ]
  },
  {
   "attachments": {},
   "cell_type": "markdown",
   "metadata": {},
   "source": [
    "Notice that ```TABLEAU_colors``` is a ```dict``` instance. The keys are ```str``` instance of the form ```'palette:colour'``` and the values are hexadecimal strings have the form ```#rrggbb```. \n",
    "\n",
    "```00:ff``` (base 16) ranges from ```0:256``` (base 10). ```mpl``` also accepts colours as normalised ```(r, g, b)``` values.\n",
    "\n",
    "More details can be seen by looking at a colour picker for example in Microsoft Word."
   ]
  },
  {
   "cell_type": "markdown",
   "metadata": {},
   "source": [
    "<img src='images/img_001.png' alt='img_001' width='450'/>"
   ]
  },
  {
   "cell_type": "markdown",
   "metadata": {},
   "source": [
    "The color above is a hexadecimal ```str``` with value ```#55aa7f```. This is also the normalised decimal ```tuple``` ```(85/255, 170/255, 127/255)```."
   ]
  },
  {
   "cell_type": "markdown",
   "metadata": {},
   "source": [
    "The wavelength response of the human eye can be examined. It has three types of receptors that are responsive to short, medium and long wavelengths respectively:"
   ]
  },
  {
   "cell_type": "markdown",
   "metadata": {},
   "source": [
    "```human_eye.csv``` is placed in the ```data``` subfolder relative to this notebook file and contains data from the following publication:\n",
    "\n",
    "[The spectral sensitivities of the middle- and long-wavelength-sensitive cones derived from measurements in observers of known genotype](https://www.sciencedirect.com/science/article/pii/S0042698900000213). \n",
    "\n",
    "It can be read into a ```pd.DataFrame``` instance:"
   ]
  },
  {
   "cell_type": "code",
   "execution_count": null,
   "metadata": {},
   "outputs": [],
   "source": [
    "human_response = pd.read_csv(r'data\\human_eye.csv', header=None, names=['wavelength', 'long', 'medium', 'short'])\n",
    "human_response.head()"
   ]
  },
  {
   "cell_type": "code",
   "execution_count": null,
   "metadata": {},
   "outputs": [],
   "source": [
    "fig, ax = plt.subplots()\n",
    "ax.plot(human_response['wavelength'], human_response['short'], color='royalblue', label='short')\n",
    "ax.plot(human_response['wavelength'], human_response['medium'], color='seagreen', label='medium')\n",
    "ax.plot(human_response['wavelength'], human_response['long'], color='tomato', label='long')\n",
    "ax.set_xlabel('wavelength')\n",
    "ax.set_ylabel('normalised energy')\n",
    "ax.set_title('Human Eye Response')\n",
    "ax.legend()"
   ]
  },
  {
   "cell_type": "markdown",
   "metadata": {},
   "source": [
    "Essentially the eye records intensities using these three types of sensors and the brain maps this intensity ratio to a colour performing colour mixing."
   ]
  },
  {
   "cell_type": "markdown",
   "metadata": {},
   "source": [
    "Each pixel in a computer LED screen is a RGB LED which is a combination of the individual Red, Green and Blue LEDs. The intensity for each LED can be independently tuned over the 8 bits (1 byte) intensity level that the human eye is sensitive to ```000:255``` (decimal) or ```00:ff``` (hexadecimal). The brain colour ratios and the brain registers as a colour."
   ]
  },
  {
   "cell_type": "markdown",
   "metadata": {},
   "source": [
    "<img src='images/img_002.png' alt='img_002' width='450'/>"
   ]
  },
  {
   "attachments": {},
   "cell_type": "markdown",
   "metadata": {},
   "source": [
    "```mpl``` has another colour ```dict``` called ```CSS4_COLORS```, the key for each color is a ```str``` that corresponds to the English name of the colour and the value is the corresponding hexadecimal value of the form ```#rrggbb```:"
   ]
  },
  {
   "cell_type": "code",
   "execution_count": null,
   "metadata": {},
   "outputs": [],
   "source": [
    "mpl"
   ]
  },
  {
   "cell_type": "code",
   "execution_count": null,
   "metadata": {},
   "outputs": [],
   "source": [
    "mpl.colors.CSS4_COLORS"
   ]
  },
  {
   "attachments": {},
   "cell_type": "markdown",
   "metadata": {},
   "source": [
    "The ```key``` can be used to access the hexadecimal colour ```value```:"
   ]
  },
  {
   "cell_type": "code",
   "execution_count": null,
   "metadata": {},
   "outputs": [],
   "source": [
    "mpl.colors.CSS4_COLORS['royalblue']"
   ]
  },
  {
   "cell_type": "markdown",
   "metadata": {},
   "source": [
    "However every colour parameter from a ```mpl``` plotting is configured to recognise a key from ```CSS4_COLORS``` and therefore it is uncommon to make an explicit reference to the ```dict```. "
   ]
  },
  {
   "attachments": {},
   "cell_type": "markdown",
   "metadata": {},
   "source": [
    "Notice that if ```color``` is provided as a keyword input argument, in a multiline plot that all lines will have the same ```color```:"
   ]
  },
  {
   "cell_type": "code",
   "execution_count": null,
   "metadata": {},
   "outputs": [],
   "source": [
    "fig, ax = plt.subplots()\n",
    "lines = ax.plot(x, y, \n",
    "                x, y+1,\n",
    "                x, y+2,\n",
    "                x, y+3, \n",
    "                x, y+4,\n",
    "                x, y+5,\n",
    "                x, y+6,\n",
    "                x, y+7,\n",
    "                x, y+8,\n",
    "                x, y+9,\n",
    "                x, y+10,\n",
    "                x, y+11,\n",
    "                color='royalblue')"
   ]
  },
  {
   "attachments": {},
   "cell_type": "markdown",
   "metadata": {},
   "source": [
    "Instead these can be provided positionally for each line:"
   ]
  },
  {
   "cell_type": "code",
   "execution_count": null,
   "metadata": {},
   "outputs": [],
   "source": [
    "fig, ax = plt.subplots()\n",
    "lines = ax.plot(x, y, 'royalblue', \n",
    "                x, y+1, 'tomato',\n",
    "                x, y+2, 'chocolate',\n",
    "                x, y+3, 'forestgreen',\n",
    "                x, y+4, 'springgreen',\n",
    "                x, y+5, 'turquoise',\n",
    "                x, y+6, 'teal',\n",
    "                x, y+7, 'skyblue',\n",
    "                x, y+8, 'dodgerblue',\n",
    "                x, y+9, 'slateblue',\n",
    "                x, y+10, 'fuchsia',\n",
    "                x, y+11, 'hotpink')\n",
    "for line in lines:\n",
    "    print(line, plt.getp(line, 'color'))"
   ]
  },
  {
   "cell_type": "markdown",
   "metadata": {},
   "source": [
    "The eye has the long, medium and short wavelength receptors which correspond to the primary colours ```'red'```, ```'green'``` and ```'blue'```:"
   ]
  },
  {
   "cell_type": "code",
   "execution_count": null,
   "metadata": {},
   "outputs": [],
   "source": [
    "mpl.colors.CSS4_COLORS['red']"
   ]
  },
  {
   "cell_type": "code",
   "execution_count": null,
   "metadata": {},
   "outputs": [],
   "source": [
    "mpl.colors.CSS4_COLORS['green']"
   ]
  },
  {
   "cell_type": "code",
   "execution_count": null,
   "metadata": {},
   "outputs": [],
   "source": [
    "mpl.colors.CSS4_COLORS['blue']"
   ]
  },
  {
   "cell_type": "markdown",
   "metadata": {},
   "source": [
    "Notice that the intensity of ```'green'``` is not ```'#008000'``` and not ```'#00ff00'``` as a compensation has been made due to the eye being about twice as much green sensitive."
   ]
  },
  {
   "cell_type": "markdown",
   "metadata": {},
   "source": [
    "Secondary colours are even mixes of the primary colours:"
   ]
  },
  {
   "cell_type": "code",
   "execution_count": null,
   "metadata": {},
   "outputs": [],
   "source": [
    "mpl.colors.CSS4_COLORS['cyan']"
   ]
  },
  {
   "cell_type": "code",
   "execution_count": null,
   "metadata": {},
   "outputs": [],
   "source": [
    "mpl.colors.CSS4_COLORS['magenta']"
   ]
  },
  {
   "cell_type": "code",
   "execution_count": null,
   "metadata": {},
   "outputs": [],
   "source": [
    "mpl.colors.CSS4_COLORS['yellow']"
   ]
  },
  {
   "cell_type": "markdown",
   "metadata": {},
   "source": [
    "black is the absence of any light:"
   ]
  },
  {
   "cell_type": "code",
   "execution_count": null,
   "metadata": {},
   "outputs": [],
   "source": [
    "mpl.colors.CSS4_COLORS['black']"
   ]
  },
  {
   "cell_type": "markdown",
   "metadata": {},
   "source": [
    "white is when all three LEDs are equally illuminated:"
   ]
  },
  {
   "cell_type": "code",
   "execution_count": null,
   "metadata": {},
   "outputs": [],
   "source": [
    "mpl.colors.CSS4_COLORS['white']"
   ]
  },
  {
   "cell_type": "markdown",
   "metadata": {},
   "source": [
    "Another colour ```dict``` is ```BASE_COLORS``` which gives one letter abbreviations for these colours:"
   ]
  },
  {
   "cell_type": "code",
   "execution_count": null,
   "metadata": {},
   "outputs": [],
   "source": [
    "mpl.colors.BASE_COLORS"
   ]
  },
  {
   "cell_type": "markdown",
   "metadata": {},
   "source": [
    "Like ```CSS4_COLORS``` every colour parameter from a ```mpl``` plotting is configured to recognise the one letter key from ```BASE_COLORS``` and therefore it is uncommon to make an explicit reference to the ```dict```. "
   ]
  },
  {
   "cell_type": "markdown",
   "metadata": {},
   "source": [
    "Comparing the keys in ```BASE_COLORS``` with ```CSS4_COLORS```, the one letter key is equivalent to the full colour name:\n",
    "\n",
    "```python\n",
    "mapping  = {'r': 'red',\n",
    "            'b': 'blue',\n",
    "            'g': 'green',\n",
    "            'c': 'cyan',\n",
    "            'm': 'magenta',\n",
    "            'y': 'yellow'\n",
    "            'k': 'black'\n",
    "            'w': 'white'}\n",
    "```\n",
    "\n",
    "However there is a subtle difference in the overall intensity level for the secondary colours."
   ]
  },
  {
   "cell_type": "markdown",
   "metadata": {},
   "source": [
    "**Generally when specifying a colour, the use of ```CSS4_COLORS``` key names is preferred where possible as it makes the code more readable.** "
   ]
  },
  {
   "attachments": {},
   "cell_type": "markdown",
   "metadata": {},
   "source": [
    "## LineWidth"
   ]
  },
  {
   "attachments": {},
   "cell_type": "markdown",
   "metadata": {},
   "source": [
    "The ```linewidth``` can be changed using the keyword argument ```linewidth``` or alias ```lw```:"
   ]
  },
  {
   "cell_type": "code",
   "execution_count": null,
   "metadata": {},
   "outputs": [],
   "source": [
    "fig, ax = plt.subplots(2, 1)\n",
    "ax[0].plot(x, y, linewidth=5)\n",
    "ax[1].plot(x, y, lw=2.5)"
   ]
  },
  {
   "attachments": {},
   "cell_type": "markdown",
   "metadata": {},
   "source": [
    "When ```linewidth``` is provided as a keyword input argument, in a multiline plot that all lines will have the same linewidth:"
   ]
  },
  {
   "cell_type": "code",
   "execution_count": null,
   "metadata": {},
   "outputs": [],
   "source": [
    "fig, ax = plt.subplots()\n",
    "lines = ax.plot(x, y, \n",
    "                x, y+1,\n",
    "                x, y+2,\n",
    "                x, y+3, \n",
    "                x, y+4,\n",
    "                x, y+5,\n",
    "                x, y+6,\n",
    "                x, y+7,\n",
    "                x, y+8,\n",
    "                x, y+9,\n",
    "                x, y+10,\n",
    "                x, y+11,\n",
    "                color='royalblue', linewidth=0.5)\n",
    "for line in lines:\n",
    "    print(line, plt.getp(line, 'color'), plt.getp(line, 'linewidth'))"
   ]
  },
  {
   "attachments": {},
   "cell_type": "markdown",
   "metadata": {},
   "source": [
    "When a high level of customisation is desired, each line is normally separately plotted. The ```Axes.lines``` attribute is a list of every ```Line2D``` instances added to the plot in their insertion order:"
   ]
  },
  {
   "cell_type": "code",
   "execution_count": null,
   "metadata": {},
   "outputs": [],
   "source": [
    "fig, ax = plt.subplots(num=1)\n",
    "ax.plot(x, y, color='royalblue', linewidth=0.5)\n",
    "ax.plot(x, y+1, color='tomato', linewidth=0.6)\n",
    "ax.plot(x, y+2, color='chocolate', linewidth=0.7)\n",
    "ax.plot(x, y+3, color='forestgreen', linewidth=0.8)\n",
    "ax.plot(x, y+4, color='springgreen', linewidth=0.9)\n",
    "ax.plot(x, y+5, color='turquoise', linewidth=1.0)\n",
    "ax.plot(x, y+6, color='teal', linewidth=1.1)\n",
    "ax.plot(x, y+7, color='skyblue', linewidth=1.2)\n",
    "ax.plot(x, y+8, color='dodgerblue', linewidth=1.3)\n",
    "ax.plot(x, y+9, color='slateblue', linewidth=1.4)\n",
    "ax.plot(x, y+10, color='fuchsia', linewidth=1.5)\n",
    "ax.plot(x, y+11, color='hotpink', linewidth=1.6)\n",
    "\n",
    "for line in ax.lines:\n",
    "    print(line, plt.getp(line, 'color'), plt.getp(line, 'linewidth'))"
   ]
  },
  {
   "attachments": {},
   "cell_type": "markdown",
   "metadata": {},
   "source": [
    "## LineStyle"
   ]
  },
  {
   "attachments": {},
   "cell_type": "markdown",
   "metadata": {},
   "source": [
    "The linestyle can be changed using the keyword input argument linestyle:"
   ]
  },
  {
   "cell_type": "code",
   "execution_count": null,
   "metadata": {},
   "outputs": [],
   "source": [
    "fig, ax = plt.subplots(3, 1)\n",
    "ax[0].plot(x, y, color='royalblue', linestyle='dashed', linewidth=1.0)\n",
    "ax[0].plot(x, y+1, color='tomato', linestyle='dotted', linewidth=1.0)\n",
    "ax[0].plot(x, y+2, color='seagreen', linestyle='dashdot', linewidth=1.0)\n",
    "ax[1].plot(x, y, color='royalblue', ls='--', lw=1.0)\n",
    "ax[1].plot(x, y+1, color='tomato', ls=':', lw=1.0)\n",
    "ax[1].plot(x, y+2, color='seagreen', ls='-.', lw=1.0)\n",
    "ax[2].plot(x, y, color='royalblue', ls=(0, (5, 5)), lw=1.0)\n",
    "ax[2].plot(x, y+1, color='tomato', ls=(0, (1, 1)), lw=1.0)\n",
    "ax[2].plot(x, y+2, color='springgreen', ls=(0, (1, 10)), lw=1.0)\n",
    "ax[2].plot(x, y+3, color='gold', ls=(0, (1, 1)), lw=1.0)\n",
    "ax[2].plot(x, y+4, color='teal', ls=(5, (10, 3)), lw=1.0)\n",
    "ax[2].plot(x, y+5, color='purple', ls=(0, (5, 10)), lw=1.0)\n",
    "ax[2].plot(x, y+6, color='dodgerblue', ls=(0, (5, 1)), lw=1.0)\n",
    "ax[2].plot(x, y+7, color='slateblue', ls=(0, (3, 10, 1, 10)), lw=1.0)\n",
    "ax[2].plot(x, y+8, color='hotpink', ls=(0, (3, 5, 1, 5)), lw=1.0)\n",
    "ax[2].plot(x, y+9, color='grey', ls=(0, (3, 1, 1, 1)), lw=1.0)\n"
   ]
  },
  {
   "attachments": {},
   "cell_type": "markdown",
   "metadata": {},
   "source": [
    "## Markers"
   ]
  },
  {
   "attachments": {},
   "cell_type": "markdown",
   "metadata": {},
   "source": [
    "In a ```Line2D```, markers are not added by default, they can be added using the keyword ```marker```:"
   ]
  },
  {
   "cell_type": "code",
   "execution_count": null,
   "metadata": {},
   "outputs": [],
   "source": [
    "fig, ax = plt.subplots(num=1)\n",
    "lines = ax.plot(x, y, color='royalblue', marker='o')\n",
    "print(lines[0], plt.getp(lines[0], 'marker'))"
   ]
  },
  {
   "attachments": {},
   "cell_type": "markdown",
   "metadata": {},
   "source": [
    "The following are commonly used markers:"
   ]
  },
  {
   "cell_type": "markdown",
   "metadata": {},
   "source": [
    "|Marker Description|String|Integer or None|\n",
    "|---|---|---|\n",
    "|nothing|```''```|```None```|\n",
    "|point|```'.'```||\n",
    "|pixel|```','```||\n",
    "|circle|```'o'```||\n",
    "|triangle_down|```'v'```||\n",
    "|triangle_up|```'^'```||\n",
    "|triangle_left|```'<'```||\n",
    "|triangle_right|```'>'```||\n",
    "|tri_down|```'1'```||\n",
    "|tri_up|```'2'```||\n",
    "|tri_left|```'3'```||\n",
    "|tri_right|```'4'```||\n",
    "|octagon|```'8'```||\n",
    "|square|```'s'```||\n",
    "|pentagon|```'p'```||\n",
    "|plus_filled|```'P'```||\n",
    "|star|```'*'```||\n",
    "|hexagon1|```'h'```||\n",
    "|hexagon2|```'H'```||\n",
    "|plus|```'+'```||\n",
    "|x|```'x'```||\n",
    "|X|```'X'```||\n",
    "|vline|```'\\|'```||\n",
    "|hline|```'_'```||\n",
    "|tickleft||```0```|\n",
    "|tickright||```1```|\n",
    "|caretleft||```2```|\n",
    "|caretright||```3```|\n",
    "|caretup||```4```|\n",
    "|caretdown||```5```|\n",
    "|caretleftbase||```6```|\n",
    "|caretrightbase||```7```|\n",
    "|caretupbase||```8```|\n",
    "|caretdownbase||```9```|"
   ]
  },
  {
   "attachments": {},
   "cell_type": "markdown",
   "metadata": {},
   "source": [
    "Once again specification of a keyword input argument, in a multiline plot will apply that option to all lines:"
   ]
  },
  {
   "cell_type": "code",
   "execution_count": null,
   "metadata": {},
   "outputs": [],
   "source": [
    "fig, ax = plt.subplots()\n",
    "lines = ax.plot(x, y, \n",
    "                x, y+1,\n",
    "                x, y+2,\n",
    "                x, y+3, \n",
    "                x, y+4,\n",
    "                x, y+5,\n",
    "                x, y+6,\n",
    "                x, y+7,\n",
    "                x, y+8,\n",
    "                x, y+9,\n",
    "                x, y+10,\n",
    "                x, y+11,\n",
    "                marker='o')"
   ]
  },
  {
   "attachments": {},
   "cell_type": "markdown",
   "metadata": {},
   "source": [
    "The marker can be specified individually as a positional input argument:"
   ]
  },
  {
   "cell_type": "code",
   "execution_count": null,
   "metadata": {},
   "outputs": [],
   "source": [
    "fig, ax = plt.subplots(num=1);\n",
    "chart = ax.plot(x, y, 'o', \n",
    "                x, y+1, 'v',\n",
    "                x, y+2, '^',\n",
    "                x, y+3, '<',\n",
    "                x, y+4, '>',\n",
    "                x, y+5, '8',\n",
    "                x, y+6, 's',\n",
    "                x, y+7, 'p',\n",
    "                x, y+8, 'h',\n",
    "                x, y+9, '*',\n",
    "                x, y+10, '+',\n",
    "                x, y+11, '|');"
   ]
  },
  {
   "attachments": {},
   "cell_type": "markdown",
   "metadata": {},
   "source": [
    "There are a number of marker related parameters such as ```markersize```, ```markeredgewidth```, ```markeredgecolor```, ```markerfacecolor``` and ```markerfacecoloralt``` which are only relevant if a ```fillstyle``` is selected:"
   ]
  },
  {
   "cell_type": "code",
   "execution_count": null,
   "metadata": {},
   "outputs": [],
   "source": [
    "fig, ax = plt.subplots(2, 1)\n",
    "ax[0].plot(x, y, color='orange', linestyle=':',\n",
    "          marker='o', markersize=15,\n",
    "          markeredgewidth=2, markeredgecolor='cyan',\n",
    "          markerfacecolor='yellow',\n",
    "          fillstyle='top', markerfacecoloralt='plum')\n",
    "ax[1].plot(x, y, color='orange', ls='dotted',\n",
    "          marker='o', ms=15,\n",
    "          mew=2, mec='cyan',\n",
    "          mfc='yellow',\n",
    "          fillstyle='left', mfcalt='plum')"
   ]
  },
  {
   "attachments": {},
   "cell_type": "markdown",
   "metadata": {},
   "source": [
    "## Draw Style"
   ]
  },
  {
   "attachments": {},
   "cell_type": "markdown",
   "metadata": {},
   "source": [
    "The parameter ```drawstyle``` determines the connection between datapoints, the ```'default'``` style draws a line between them, however it is also possible to connect them using a step. The step can be ```'steps-pre'```, ```'steps-mid'``` or ```'steps-post'```:"
   ]
  },
  {
   "cell_type": "code",
   "execution_count": null,
   "metadata": {},
   "outputs": [],
   "source": [
    "fig, ax = plt.subplots(nrows=2, ncols=2)\n",
    "ax[0, 0].plot(x, y, color='orange', linestyle='dotted',\n",
    "              drawstyle='default',\n",
    "              marker='o', ms=15,\n",
    "              mfc='cyan')\n",
    "ax[0, 1].plot(x, y, color='orange', linestyle='dotted',\n",
    "              drawstyle='steps-pre',\n",
    "              marker='o', ms=15,\n",
    "              mfc='cyan')\n",
    "ax[1, 0].plot(x, y, color='orange', linestyle='dotted',\n",
    "              drawstyle='steps-mid',\n",
    "              marker='o', ms=15,\n",
    "              mfc='cyan')\n",
    "ax[1, 1].plot(x, y, color='orange', linestyle='dotted',\n",
    "              drawstyle='steps-post',\n",
    "              marker='o', ms=15,\n",
    "              mfc='cyan')"
   ]
  },
  {
   "attachments": {},
   "cell_type": "markdown",
   "metadata": {},
   "source": [
    "## Label and Legend"
   ]
  },
  {
   "attachments": {},
   "cell_type": "markdown",
   "metadata": {},
   "source": [
    "The parameter ```label``` can be added for each line and the ```Axes.legend``` method can be used to produce a legend:"
   ]
  },
  {
   "cell_type": "code",
   "execution_count": null,
   "metadata": {},
   "outputs": [],
   "source": [
    "fig, ax = plt.subplots()\n",
    "ax.plot(x, y, color='royalblue', label='royalblue')\n",
    "ax.plot(x, y+1, color='tomato', label='tomato')\n",
    "ax.plot(x, y+2, color='chocolate', label='chocolate')\n",
    "ax.plot(x, y+3, color='forestgreen', label='forestgreen')\n",
    "ax.plot(x, y+4, color='springgreen', label='springgreen')\n",
    "ax.plot(x, y+5, color='turquoise', label='turquise')\n",
    "ax.plot(x, y+6, color='teal', label='teal')\n",
    "ax.plot(x, y+7, color='skyblue', label='skyblue')\n",
    "ax.plot(x, y+8, color='dodgerblue', label='dodgerblue')\n",
    "ax.plot(x, y+9, color='slateblue', label='slateblue')\n",
    "ax.plot(x, y+10, color='fuchsia', label='fuchsia')\n",
    "ax.plot(x, y+11, color='hotpink', label='hotpink')\n",
    "ax.legend()"
   ]
  },
  {
   "cell_type": "code",
   "execution_count": null,
   "metadata": {},
   "outputs": [],
   "source": [
    "ax.legend?"
   ]
  },
  {
   "cell_type": "markdown",
   "metadata": {},
   "source": [
    "The location of the legend can be adjusted:"
   ]
  },
  {
   "cell_type": "code",
   "execution_count": null,
   "metadata": {},
   "outputs": [],
   "source": [
    "fig, ax = plt.subplots()\n",
    "ax.plot(x, y, color='royalblue', label='royalblue')\n",
    "ax.plot(x, y+1, color='tomato', label='tomato')\n",
    "ax.plot(x, y+2, color='chocolate', label='chocolate')\n",
    "ax.plot(x, y+3, color='forestgreen', label='forestgreen')\n",
    "ax.plot(x, y+4, color='springgreen', label='springgreen')\n",
    "ax.plot(x, y+5, color='turquoise', label='turquise')\n",
    "ax.plot(x, y+6, color='teal', label='teal')\n",
    "ax.plot(x, y+7, color='skyblue', label='skyblue')\n",
    "ax.plot(x, y+8, color='dodgerblue', label='dodgerblue')\n",
    "ax.plot(x, y+9, color='slateblue', label='slateblue')\n",
    "ax.plot(x, y+10, color='fuchsia', label='fuchsia')\n",
    "ax.plot(x, y+11, color='hotpink', label='hotpink')\n",
    "ax.legend(loc='center right')"
   ]
  },
  {
   "attachments": {},
   "cell_type": "markdown",
   "metadata": {},
   "source": [
    "The black box enclosing the axis is known as the ```bbox```. The ```bbox_to_anchor``` input argument will anchor the legend to the ```bbox``` using a tuple of the form ```(x, y)```, where ```x``` and ```y``` are the normalised ratios of the ```bbox```. A ```bbox_to_anchor=(0.3, 0.8)``` for example moves the bottom left corner of the ```legend``` to the normalised position specified:"
   ]
  },
  {
   "cell_type": "code",
   "execution_count": null,
   "metadata": {},
   "outputs": [],
   "source": [
    "fig, ax = plt.subplots()\n",
    "ax.plot(x, y, color='royalblue', label='royalblue')\n",
    "ax.plot(x, y+1, color='tomato', label='tomato')\n",
    "ax.plot(x, y+2, color='chocolate', label='chocolate')\n",
    "ax.plot(x, y+3, color='forestgreen', label='forestgreen')\n",
    "ax.plot(x, y+4, color='springgreen', label='springgreen')\n",
    "ax.plot(x, y+5, color='turquoise', label='turquise')\n",
    "ax.plot(x, y+6, color='teal', label='teal')\n",
    "ax.plot(x, y+7, color='skyblue', label='skyblue')\n",
    "ax.plot(x, y+8, color='dodgerblue', label='dodgerblue')\n",
    "ax.plot(x, y+9, color='slateblue', label='slateblue')\n",
    "ax.plot(x, y+10, color='fuchsia', label='fuchsia')\n",
    "ax.plot(x, y+11, color='hotpink', label='hotpink')\n",
    "ax.legend(bbox_to_anchor=(0.3, 0.8))"
   ]
  },
  {
   "attachments": {},
   "cell_type": "markdown",
   "metadata": {},
   "source": [
    "Notice that the legend now is partially outside the ```bbox```. A ```bbox_to_anchor=(1.0, 0)``` moves the top right corner of the legend to the bottom right of the box:"
   ]
  },
  {
   "cell_type": "code",
   "execution_count": null,
   "metadata": {},
   "outputs": [],
   "source": [
    "fig, ax = plt.subplots()\n",
    "ax.plot(x, y, color='royalblue', label='royalblue')\n",
    "ax.plot(x, y+1, color='tomato', label='tomato')\n",
    "ax.plot(x, y+2, color='chocolate', label='chocolate')\n",
    "ax.plot(x, y+3, color='forestgreen', label='forestgreen')\n",
    "ax.plot(x, y+4, color='springgreen', label='springgreen')\n",
    "ax.plot(x, y+5, color='turquoise', label='turquise')\n",
    "ax.plot(x, y+6, color='teal', label='teal')\n",
    "ax.plot(x, y+7, color='skyblue', label='skyblue')\n",
    "ax.plot(x, y+8, color='dodgerblue', label='dodgerblue')\n",
    "ax.plot(x, y+9, color='slateblue', label='slateblue')\n",
    "ax.plot(x, y+10, color='fuchsia', label='fuchsia')\n",
    "ax.plot(x, y+11, color='hotpink', label='hotpink')\n",
    "ax.legend(bbox_to_anchor=(1.0, 0))"
   ]
  },
  {
   "attachments": {},
   "cell_type": "markdown",
   "metadata": {},
   "source": [
    "A ```bbox_to_anchor=(1.0, 0.5)``` for example moves the top left corner of the legend to the middle right:"
   ]
  },
  {
   "cell_type": "code",
   "execution_count": null,
   "metadata": {},
   "outputs": [],
   "source": [
    "fig, ax = plt.subplots()\n",
    "ax.plot(x, y, color='royalblue', label='royalblue')\n",
    "ax.plot(x, y+1, color='tomato', label='tomato')\n",
    "ax.plot(x, y+2, color='chocolate', label='chocolate')\n",
    "ax.plot(x, y+3, color='forestgreen', label='forestgreen')\n",
    "ax.plot(x, y+4, color='springgreen', label='springgreen')\n",
    "ax.plot(x, y+5, color='turquoise', label='turquise')\n",
    "ax.plot(x, y+6, color='teal', label='teal')\n",
    "ax.plot(x, y+7, color='skyblue', label='skyblue')\n",
    "ax.plot(x, y+8, color='dodgerblue', label='dodgerblue')\n",
    "ax.plot(x, y+9, color='slateblue', label='slateblue')\n",
    "ax.plot(x, y+10, color='fuchsia', label='fuchsia')\n",
    "ax.plot(x, y+11, color='hotpink', label='hotpink')\n",
    "ax.legend(bbox_to_anchor=(1.0, 0.5))"
   ]
  },
  {
   "attachments": {},
   "cell_type": "markdown",
   "metadata": {},
   "source": [
    "A ```bbox_to_anchor=(1.0, 0.9)``` moves the top left corner of the legend to a better position:"
   ]
  },
  {
   "cell_type": "code",
   "execution_count": null,
   "metadata": {},
   "outputs": [],
   "source": [
    "fig, ax = plt.subplots()\n",
    "ax.plot(x, y, color='royalblue', label='royalblue')\n",
    "ax.plot(x, y+1, color='tomato', label='tomato')\n",
    "ax.plot(x, y+2, color='chocolate', label='chocolate')\n",
    "ax.plot(x, y+3, color='forestgreen', label='forestgreen')\n",
    "ax.plot(x, y+4, color='springgreen', label='springgreen')\n",
    "ax.plot(x, y+5, color='turquoise', label='turquise')\n",
    "ax.plot(x, y+6, color='teal', label='teal')\n",
    "ax.plot(x, y+7, color='skyblue', label='skyblue')\n",
    "ax.plot(x, y+8, color='dodgerblue', label='dodgerblue')\n",
    "ax.plot(x, y+9, color='slateblue', label='slateblue')\n",
    "ax.plot(x, y+10, color='fuchsia', label='fuchsia')\n",
    "ax.plot(x, y+11, color='hotpink', label='hotpink')\n",
    "ax.legend(bbox_to_anchor=(1.0, 0.90))"
   ]
  },
  {
   "attachments": {},
   "cell_type": "markdown",
   "metadata": {},
   "source": [
    "If subplots are created, the ```Axes.legend``` method can be used for each ```Axes```:"
   ]
  },
  {
   "cell_type": "code",
   "execution_count": null,
   "metadata": {},
   "outputs": [],
   "source": [
    "fig, ax = plt.subplots(nrows=2, ncols=1, num=1);\n",
    "ax[0].plot(x, y, color='royalblue', label='royalblue')\n",
    "ax[0].plot(x, y+1, color='tomato', label='tomato')\n",
    "ax[0].plot(x, y+2, color='chocolate', label='chocolate')\n",
    "ax[0].plot(x, y+3, color='forestgreen', label='forestgreen')\n",
    "ax[0].plot(x, y+4, color='springgreen', label='springgreen')\n",
    "ax[0].plot(x, y+5, color='turquoise', label='turquise')\n",
    "ax[1].plot(x, y+6, color='teal', label='teal')\n",
    "ax[1].plot(x, y+7, color='skyblue', label='skyblue')\n",
    "ax[1].plot(x, y+8, color='dodgerblue', label='dodgerblue')\n",
    "ax[1].plot(x, y+9, color='slateblue', label='slateblue')\n",
    "ax[1].plot(x, y+10, color='fuchsia', label='fuchsia')\n",
    "ax[1].plot(x, y+11, color='hotpink', label='hotpink')\n",
    "ax[0].legend(bbox_to_anchor=(1.0, 0.90))\n",
    "ax[1].legend(bbox_to_anchor=(1.0, 0.90))"
   ]
  },
  {
   "attachments": {},
   "cell_type": "markdown",
   "metadata": {},
   "source": [
    "The ```Figure.legend``` method can also be used which combines the legends of each ```Axes``` on the ```Figure``` together. The ```bbox``` for the ```Figure``` can be conceptualised as an invisible ```bbox``` around all the subplots on the ```Figure```, for example a ```bbox_to_anchor=(0.5, 0.5)``` moves the top right of the legend to the following position:"
   ]
  },
  {
   "cell_type": "code",
   "execution_count": null,
   "metadata": {},
   "outputs": [],
   "source": [
    "fig, ax = plt.subplots(nrows=2, ncols=1)\n",
    "ax[0].plot(x, y, color='royalblue', label='royalblue')\n",
    "ax[0].plot(x, y+1, color='tomato', label='tomato')\n",
    "ax[0].plot(x, y+2, color='chocolate', label='chocolate')\n",
    "ax[0].plot(x, y+3, color='forestgreen', label='forestgreen')\n",
    "ax[0].plot(x, y+4, color='springgreen', label='springgreen')\n",
    "ax[0].plot(x, y+5, color='turquoise', label='turquise')\n",
    "ax[1].plot(x, y+6, color='teal', label='teal')\n",
    "ax[1].plot(x, y+7, color='skyblue', label='skyblue')\n",
    "ax[1].plot(x, y+8, color='dodgerblue', label='dodgerblue')\n",
    "ax[1].plot(x, y+9, color='slateblue', label='slateblue')\n",
    "ax[1].plot(x, y+10, color='fuchsia', label='fuchsia')\n",
    "ax[1].plot(x, y+11, color='hotpink', label='hotpink')\n",
    "fig.legend(bbox_to_anchor=(0.5, 0.5))"
   ]
  },
  {
   "attachments": {},
   "cell_type": "markdown",
   "metadata": {},
   "source": [
    "An ```x``` value greater than ```1``` is often used to move this outside the ```Figure``` ```bbox```:"
   ]
  },
  {
   "cell_type": "code",
   "execution_count": null,
   "metadata": {},
   "outputs": [],
   "source": [
    "fig, ax = plt.subplots(nrows=2, ncols=1)\n",
    "ax[0].plot(x, y, color='royalblue', label='royalblue')\n",
    "ax[0].plot(x, y+1, color='tomato', label='tomato')\n",
    "ax[0].plot(x, y+2, color='chocolate', label='chocolate')\n",
    "ax[0].plot(x, y+3, color='forestgreen', label='forestgreen')\n",
    "ax[0].plot(x, y+4, color='springgreen', label='springgreen')\n",
    "ax[0].plot(x, y+5, color='turquoise', label='turquise')\n",
    "ax[1].plot(x, y+6, color='teal', label='teal')\n",
    "ax[1].plot(x, y+7, color='skyblue', label='skyblue')\n",
    "ax[1].plot(x, y+8, color='dodgerblue', label='dodgerblue')\n",
    "ax[1].plot(x, y+9, color='slateblue', label='slateblue')\n",
    "ax[1].plot(x, y+10, color='fuchsia', label='fuchsia')\n",
    "ax[1].plot(x, y+11, color='hotpink', label='hotpink')\n",
    "fig.legend(bbox_to_anchor=(1.15, 0.80))"
   ]
  },
  {
   "attachments": {},
   "cell_type": "markdown",
   "metadata": {},
   "source": [
    "Note that ```plt.legend``` is equivalent to the ```Axes.legend``` method and not the ```Fig.legend``` method."
   ]
  },
  {
   "attachments": {},
   "cell_type": "markdown",
   "metadata": {},
   "source": [
    "## Grid"
   ]
  },
  {
   "attachments": {},
   "cell_type": "markdown",
   "metadata": {},
   "source": [
    "Gridlines are not shown by default:"
   ]
  },
  {
   "cell_type": "code",
   "execution_count": null,
   "metadata": {},
   "outputs": [],
   "source": [
    "fig, ax = plt.subplots()\n",
    "ax.plot(x, y, color='royalblue', marker='o')"
   ]
  },
  {
   "attachments": {},
   "cell_type": "markdown",
   "metadata": {},
   "source": [
    "Major gridlines can be added using the method ```Axes.grid``` which by default makes major gridlines visible making them ```'grey'```:"
   ]
  },
  {
   "cell_type": "code",
   "execution_count": null,
   "metadata": {},
   "outputs": [],
   "source": [
    "fig, ax = plt.subplots()\n",
    "ax.plot(x, y, color='royalblue', marker='o')\n",
    "ax.grid()"
   ]
  },
  {
   "attachments": {},
   "cell_type": "markdown",
   "metadata": {},
   "source": [
    "Minorticks can also be added using the method ```Axes.minorticks_on```:"
   ]
  },
  {
   "cell_type": "code",
   "execution_count": null,
   "metadata": {},
   "outputs": [],
   "source": [
    "fig, ax = plt.subplots(nrows=1, ncols=2, num=1);\n",
    "ax[0].plot(x, y, color='royalblue', marker='o')\n",
    "ax[1].plot(x, y, color='royalblue', marker='o')\n",
    "ax[1].minorticks_on()"
   ]
  },
  {
   "attachments": {},
   "cell_type": "markdown",
   "metadata": {},
   "source": [
    "Parameters can be used in the method ```Axes.grid``` to specify which gridline and axis is modified. The line specific parameters are consistent with those found in the ```Axes.line``` method:"
   ]
  },
  {
   "cell_type": "code",
   "execution_count": null,
   "metadata": {},
   "outputs": [],
   "source": [
    "fig, ax = plt.subplots()\n",
    "ax.plot(x, y, color='royalblue', marker='o')\n",
    "ax.minorticks_on()\n",
    "ax.grid(which='major', axis='both', visible=True, color='turquoise', linewidth=1, linestyle='solid')\n",
    "ax.grid(which='minor', axis='both', visible=True, color='paleturquoise', linewidth=0.5, linestyle=(0, (1, 1)))"
   ]
  }
 ],
 "metadata": {
  "kernelspec": {
   "display_name": "jupyterlab",
   "language": "python",
   "name": "python3"
  },
  "language_info": {
   "codemirror_mode": {
    "name": "ipython",
    "version": 3
   },
   "file_extension": ".py",
   "mimetype": "text/x-python",
   "name": "python",
   "nbconvert_exporter": "python",
   "pygments_lexer": "ipython3",
   "version": "3.12.1"
  },
  "orig_nbformat": 4,
  "vscode": {
   "interpreter": {
    "hash": "4648373dafda34926c036cc9e466ef2f8d360789320441bb704a9be21d427d2a"
   }
  }
 },
 "nbformat": 4,
 "nbformat_minor": 2
}
