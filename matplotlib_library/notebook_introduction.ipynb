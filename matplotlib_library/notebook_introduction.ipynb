{
 "cells": [
  {
   "attachments": {},
   "cell_type": "markdown",
   "metadata": {},
   "source": [
    "# The matplotlib library"
   ]
  },
  {
   "cell_type": "markdown",
   "metadata": {},
   "source": [
    "## Importing the datascience libraries"
   ]
  },
  {
   "attachments": {},
   "cell_type": "markdown",
   "metadata": {},
   "source": [
    "```matplotlib``` is an abbreviation for the matrix plotting library. Normally ```numpy``` is imported alongside ```matplotlib``` as ```ndarray``` instances are used to store data for plotting. The three letter alias ```mpl``` is typically used for ```matplotlib``` and the ```pyplot``` module is normally imported using the three letter alias ```plt```:"
   ]
  },
  {
   "cell_type": "code",
   "execution_count": 1,
   "metadata": {},
   "outputs": [],
   "source": [
    "import numpy as np\n",
    "import matplotlib as mpl\n",
    "import matplotlib.pyplot as plt"
   ]
  },
  {
   "cell_type": "markdown",
   "metadata": {},
   "source": [
    "The version can be determined using the datamodel attribute ```__version__```:"
   ]
  },
  {
   "cell_type": "code",
   "execution_count": 2,
   "metadata": {},
   "outputs": [
    {
     "data": {
      "text/plain": [
       "'3.8.2'"
      ]
     },
     "execution_count": 2,
     "metadata": {},
     "output_type": "execute_result"
    }
   ],
   "source": [
    "mpl.__version__"
   ]
  },
  {
   "cell_type": "markdown",
   "metadata": {},
   "source": [
    "The custom function ```print_identifier_group``` can be imported:"
   ]
  },
  {
   "cell_type": "code",
   "execution_count": 3,
   "metadata": {},
   "outputs": [],
   "source": [
    "from helper_module import print_identifier_group"
   ]
  },
  {
   "cell_type": "markdown",
   "metadata": {},
   "source": [
    "And used to examine the identifiers of the ```mpl``` library:"
   ]
  },
  {
   "cell_type": "code",
   "execution_count": 4,
   "metadata": {},
   "outputs": [
    {
     "name": "stdout",
     "output_type": "stream",
     "text": [
      "datamodel attribute: ['__all__', '__bibtex__', '__builtins__', '__cached__', '__doc__', '__file__', '__loader__', '__name__', '__package__', '__path__', '__spec__']\n",
      "datamodel method: ['__getattr__']\n",
      "constant: []\n",
      "attribute: ['artist', 'axes', 'axis', 'backend_bases', 'backend_managers', 'backend_tools', 'bezier', 'category', 'cbook', 'cm', 'collections', 'color_sequences', 'colorbar', 'colors', 'container', 'contour', 'dates', 'defaultParams', 'dviread', 'figure', 'font_manager', 'ft2font', 'gridspec', 'hatch', 'image', 'inspect', 'layout_engine', 'legend', 'legend_handler', 'lines', 'logging', 'markers', 'mathtext', 'mlab', 'numpy', 'offsetbox', 'patches', 'path', 'projections', 'pyplot', 'quiver', 'rcParams', 'rcParamsDefault', 'rcParamsOrig', 'rcsetup', 'scale', 'spines', 'stackplot', 'streamplot', 'style', 'sys', 'table', 'texmanager', 'text', 'textpath', 'ticker', 'transforms', 'tri', 'units', 'widgets']\n",
      "method/function: ['colormaps', 'cycler', 'get_backend', 'get_cachedir', 'get_configdir', 'get_data_path', 'interactive', 'is_interactive', 'matplotlib_fname', 'namedtuple', 'parse_version', 'rc', 'rc_context', 'rc_file', 'rc_file_defaults', 'rc_params', 'rc_params_from_file', 'rcdefaults', 'sanitize_sequence', 'set_loglevel', 'use', 'validate_backend']\n",
      "upper class: ['ExecutableNotFoundError', 'MatplotlibDeprecationWarning', 'Parameter', 'Path']\n",
      "lower class: []\n"
     ]
    }
   ],
   "source": [
    "print_identifier_group(mpl, kind='all', exclude_std=True)"
   ]
  },
  {
   "cell_type": "markdown",
   "metadata": {},
   "source": [
    "The ```mpl``` library has a large number of modules, many of the modules are Python standard libraries which are used internally by ```mpl``` functions and have been excluded in the output above. ```mpl``` also uses third-party libraries such as ```numpy``` internally. When ```np``` is used by the end user, it is typically imported separately using the alias ```np```:\n",
    "\n",
    "```python\n",
    "import numpy as np\n",
    "```\n",
    "\n",
    "Although the following would be equivalent, it is not typically accessed the long way via ```mpl```:\n",
    "\n",
    "```python\n",
    "import matplotlib.numpy as np\n",
    "```"
   ]
  },
  {
   "attachments": {},
   "cell_type": "markdown",
   "metadata": {},
   "source": [
    "The ```ndarray``` is used as the default datastructure for simple plots. The simple plots use a 1D ```ndarray``` however more advanced plots are configured to use higher dimension ```ndarray``` instances.\n",
    "\n",
    "A simple plot requires ```y``` values measured at respect to ```x``` values. ```y``` is known as the dependent variable and ```x``` is known as the dependent variable. Notice that the independent ```x``` measurements are taken at linearly spaced intervals. The ```y``` values taken at these values of ```x``` have some associated error:"
   ]
  },
  {
   "cell_type": "code",
   "execution_count": 26,
   "metadata": {},
   "outputs": [],
   "source": [
    "x = np.array([0, 1, 2, 3, 4, 5])\n",
    "y = np.array([0.001, 2.001, 3.999, 5.999, 8.002, 10.001])"
   ]
  },
  {
   "cell_type": "markdown",
   "metadata": {},
   "source": [
    "```mpl``` was originally a Python plotting library based on MATLAB. During early development there were ```mlab``` and ```pylab``` modules which had function names equivalent to functions found in MATLAB. Functions from these modules were typically imported into the global namespace and used like they are in MATLAB however importing all the functions in the global namespace and overriding the ```builtins``` functions is considered bad practice and goes against the Object Orientated Programming Principles (OOP) commonly adopted in Python. The Python plot ```pyplot``` module updated most of these plotting functions using OOP principles. The ```pyplot``` module is imported using the alias ```plt``` and now that the ```mpl``` library is mature is the main module used. The ```mlab``` module now only contains a small number of specialised function for spectral computations and kernel density estimations that aren't yet incorporated into ```pyplot```.\n",
    "\n",
    "The identifiers for the ```pyplot``` module can be examined:"
   ]
  },
  {
   "cell_type": "code",
   "execution_count": 7,
   "metadata": {},
   "outputs": [
    {
     "name": "stdout",
     "output_type": "stream",
     "text": [
      "datamodel attribute: ['__annotations__', '__builtins__', '__cached__', '__doc__', '__file__', '__loader__', '__name__', '__package__', '__spec__']\n",
      "datamodel method: []\n",
      "constant: ['TYPE_CHECKING']\n",
      "attribute: ['annotations', 'cbook', 'cm', 'color_sequences', 'matplotlib', 'mlab', 'np', 'rcParams', 'rcParamsDefault', 'rcParamsOrig', 'rcsetup', 'style']\n",
      "method/function: ['acorr', 'angle_spectrum', 'annotate', 'arrow', 'autoscale', 'autumn', 'axes', 'axhline', 'axhspan', 'axis', 'axline', 'axvline', 'axvspan', 'bar', 'bar_label', 'barbs', 'barh', 'bone', 'box', 'boxplot', 'broken_barh', 'cast', 'cla', 'clabel', 'clf', 'clim', 'close', 'cohere', 'colorbar', 'colormaps', 'connect', 'contour', 'contourf', 'cool', 'copper', 'csd', 'cycler', 'delaxes', 'disconnect', 'draw', 'draw_all', 'draw_if_interactive', 'ecdf', 'errorbar', 'eventplot', 'figaspect', 'figimage', 'figlegend', 'fignum_exists', 'figtext', 'figure', 'fill', 'fill_between', 'fill_betweenx', 'findobj', 'flag', 'gca', 'gcf', 'gci', 'get', 'get_backend', 'get_cmap', 'get_current_fig_manager', 'get_figlabels', 'get_fignums', 'get_plot_commands', 'get_scale_names', 'getp', 'ginput', 'gray', 'grid', 'hexbin', 'hist', 'hist2d', 'hlines', 'hot', 'hsv', 'imread', 'imsave', 'imshow', 'inferno', 'install_repl_displayhook', 'interactive', 'ioff', 'ion', 'isinteractive', 'jet', 'legend', 'locator_params', 'loglog', 'magma', 'magnitude_spectrum', 'margins', 'matshow', 'minorticks_off', 'minorticks_on', 'new_figure_manager', 'nipy_spectral', 'overload', 'pause', 'pcolor', 'pcolormesh', 'phase_spectrum', 'pie', 'pink', 'plasma', 'plot', 'plot_date', 'polar', 'prism', 'psd', 'quiver', 'quiverkey', 'rc', 'rc_context', 'rcdefaults', 'register_cmap', 'rgrids', 'savefig', 'sca', 'scatter', 'sci', 'semilogx', 'semilogy', 'set_cmap', 'set_loglevel', 'setp', 'show', 'specgram', 'spring', 'spy', 'stackplot', 'stairs', 'stem', 'step', 'streamplot', 'subplot', 'subplot2grid', 'subplot_mosaic', 'subplot_tool', 'subplots', 'subplots_adjust', 'summer', 'suptitle', 'switch_backend', 'table', 'text', 'thetagrids', 'tick_params', 'ticklabel_format', 'tight_layout', 'title', 'tricontour', 'tricontourf', 'tripcolor', 'triplot', 'twinx', 'twiny', 'uninstall_repl_displayhook', 'violinplot', 'viridis', 'vlines', 'waitforbuttonpress', 'winter', 'xcorr', 'xkcd', 'xlabel', 'xlim', 'xscale', 'xticks', 'ylabel', 'ylim', 'yscale', 'yticks']\n",
      "upper class: ['Annotation', 'Arrow', 'Artist', 'AutoLocator', 'Axes', 'Button', 'Circle', 'Figure', 'FigureBase', 'FigureCanvasBase', 'FigureManagerBase', 'FixedFormatter', 'FixedLocator', 'FormatStrFormatter', 'Formatter', 'FuncFormatter', 'GridSpec', 'IndexLocator', 'Line2D', 'LinearLocator', 'Locator', 'LogFormatter', 'LogFormatterExponent', 'LogFormatterMathtext', 'LogLocator', 'MaxNLocator', 'MultipleLocator', 'Normalize', 'NullFormatter', 'NullLocator', 'PolarAxes', 'Polygon', 'Rectangle', 'ScalarFormatter', 'Slider', 'Subplot', 'SubplotSpec', 'Text', 'TickHelper', 'Widget']\n",
      "lower class: []\n"
     ]
    }
   ],
   "source": [
    "print_identifier_group(plt, kind='all', exclude_std=True)"
   ]
  },
  {
   "cell_type": "markdown",
   "metadata": {},
   "source": [
    "The most important classes are ```plt.Figure``` and ```plt.Axes```:"
   ]
  },
  {
   "cell_type": "code",
   "execution_count": 18,
   "metadata": {},
   "outputs": [
    {
     "name": "stdout",
     "output_type": "stream",
     "text": [
      "datamodel attribute: ['__dict__', '__doc__', '__module__', '__weakref__']\n",
      "datamodel method: ['__class__', '__delattr__', '__dir__', '__eq__', '__format__', '__ge__', '__getattribute__', '__getstate__', '__gt__', '__hash__', '__init__', '__init_subclass__', '__le__', '__lt__', '__ne__', '__new__', '__reduce__', '__reduce_ex__', '__repr__', '__setattr__', '__setstate__', '__sizeof__', '__str__', '__subclasshook__']\n",
      "constant: []\n",
      "attribute: ['axes', 'dpi', 'frameon', 'mouseover', 'stale', 'sticky_edges', 'zorder']\n",
      "method/function: ['add_artist', 'add_axes', 'add_axobserver', 'add_callback', 'add_gridspec', 'add_subfigure', 'add_subplot', 'align_labels', 'align_xlabels', 'align_ylabels', 'autofmt_xdate', 'clear', 'clf', 'colorbar', 'contains', 'convert_xunits', 'convert_yunits', 'delaxes', 'draw', 'draw_artist', 'draw_without_rendering', 'figimage', 'findobj', 'format_cursor_data', 'gca', 'get_agg_filter', 'get_alpha', 'get_animated', 'get_axes', 'get_children', 'get_clip_box', 'get_clip_on', 'get_clip_path', 'get_constrained_layout', 'get_constrained_layout_pads', 'get_cursor_data', 'get_default_bbox_extra_artists', 'get_dpi', 'get_edgecolor', 'get_facecolor', 'get_figheight', 'get_figure', 'get_figwidth', 'get_frameon', 'get_gid', 'get_in_layout', 'get_label', 'get_layout_engine', 'get_linewidth', 'get_mouseover', 'get_path_effects', 'get_picker', 'get_rasterized', 'get_size_inches', 'get_sketch_params', 'get_snap', 'get_suptitle', 'get_supxlabel', 'get_supylabel', 'get_tight_layout', 'get_tightbbox', 'get_transform', 'get_transformed_clip_path_and_affine', 'get_url', 'get_visible', 'get_window_extent', 'get_zorder', 'ginput', 'have_units', 'is_transform_set', 'legend', 'pchanged', 'pick', 'pickable', 'properties', 'remove', 'remove_callback', 'savefig', 'sca', 'set', 'set_agg_filter', 'set_alpha', 'set_animated', 'set_canvas', 'set_clip_box', 'set_clip_on', 'set_clip_path', 'set_constrained_layout', 'set_constrained_layout_pads', 'set_dpi', 'set_edgecolor', 'set_facecolor', 'set_figheight', 'set_figure', 'set_figwidth', 'set_frameon', 'set_gid', 'set_in_layout', 'set_label', 'set_layout_engine', 'set_linewidth', 'set_mouseover', 'set_path_effects', 'set_picker', 'set_rasterized', 'set_size_inches', 'set_sketch_params', 'set_snap', 'set_tight_layout', 'set_transform', 'set_url', 'set_visible', 'set_zorder', 'show', 'subfigures', 'subplot_mosaic', 'subplots', 'subplots_adjust', 'suptitle', 'supxlabel', 'supylabel', 'text', 'tight_layout', 'update', 'update_from', 'waitforbuttonpress']\n",
      "upper class: []\n",
      "lower class: []\n"
     ]
    }
   ],
   "source": [
    "print_identifier_group(plt.Figure, kind='all')"
   ]
  },
  {
   "cell_type": "code",
   "execution_count": 19,
   "metadata": {},
   "outputs": [
    {
     "name": "stdout",
     "output_type": "stream",
     "text": [
      "datamodel attribute: ['__dict__', '__doc__', '__module__', '__weakref__']\n",
      "datamodel method: ['__class__', '__delattr__', '__dir__', '__eq__', '__format__', '__ge__', '__getattribute__', '__getstate__', '__gt__', '__hash__', '__init__', '__init_subclass__', '__le__', '__lt__', '__ne__', '__new__', '__reduce__', '__reduce_ex__', '__repr__', '__setattr__', '__setstate__', '__sizeof__', '__str__', '__subclasshook__']\n",
      "constant: []\n",
      "attribute: ['artists', 'axes', 'collections', 'images', 'lines', 'mouseover', 'name', 'patches', 'stale', 'sticky_edges', 'tables', 'texts', 'use_sticky_edges', 'viewLim', 'zorder']\n",
      "method/function: ['acorr', 'add_artist', 'add_callback', 'add_child_axes', 'add_collection', 'add_container', 'add_image', 'add_line', 'add_patch', 'add_table', 'angle_spectrum', 'annotate', 'apply_aspect', 'arrow', 'autoscale', 'autoscale_view', 'axhline', 'axhspan', 'axis', 'axline', 'axvline', 'axvspan', 'bar', 'bar_label', 'barbs', 'barh', 'boxplot', 'broken_barh', 'bxp', 'can_pan', 'can_zoom', 'cla', 'clabel', 'clear', 'cohere', 'contains', 'contains_point', 'contour', 'contourf', 'convert_xunits', 'convert_yunits', 'csd', 'drag_pan', 'draw', 'draw_artist', 'ecdf', 'end_pan', 'errorbar', 'eventplot', 'fill', 'fill_between', 'fill_betweenx', 'findobj', 'format_coord', 'format_cursor_data', 'format_xdata', 'format_ydata', 'get_adjustable', 'get_agg_filter', 'get_alpha', 'get_anchor', 'get_animated', 'get_aspect', 'get_autoscale_on', 'get_autoscalex_on', 'get_autoscaley_on', 'get_axes_locator', 'get_axisbelow', 'get_box_aspect', 'get_children', 'get_clip_box', 'get_clip_on', 'get_clip_path', 'get_cursor_data', 'get_data_ratio', 'get_default_bbox_extra_artists', 'get_facecolor', 'get_fc', 'get_figure', 'get_frame_on', 'get_gid', 'get_gridspec', 'get_images', 'get_in_layout', 'get_label', 'get_legend', 'get_legend_handles_labels', 'get_lines', 'get_mouseover', 'get_navigate', 'get_navigate_mode', 'get_path_effects', 'get_picker', 'get_position', 'get_rasterization_zorder', 'get_rasterized', 'get_shared_x_axes', 'get_shared_y_axes', 'get_sketch_params', 'get_snap', 'get_subplotspec', 'get_tightbbox', 'get_title', 'get_transform', 'get_transformed_clip_path_and_affine', 'get_url', 'get_visible', 'get_window_extent', 'get_xaxis', 'get_xaxis_text1_transform', 'get_xaxis_text2_transform', 'get_xaxis_transform', 'get_xbound', 'get_xgridlines', 'get_xlabel', 'get_xlim', 'get_xmajorticklabels', 'get_xminorticklabels', 'get_xscale', 'get_xticklabels', 'get_xticklines', 'get_xticks', 'get_yaxis', 'get_yaxis_text1_transform', 'get_yaxis_text2_transform', 'get_yaxis_transform', 'get_ybound', 'get_ygridlines', 'get_ylabel', 'get_ylim', 'get_ymajorticklabels', 'get_yminorticklabels', 'get_yscale', 'get_yticklabels', 'get_yticklines', 'get_yticks', 'get_zorder', 'grid', 'has_data', 'have_units', 'hexbin', 'hist', 'hist2d', 'hlines', 'imshow', 'in_axes', 'indicate_inset', 'indicate_inset_zoom', 'inset_axes', 'invert_xaxis', 'invert_yaxis', 'is_transform_set', 'label_outer', 'legend', 'locator_params', 'loglog', 'magnitude_spectrum', 'margins', 'matshow', 'minorticks_off', 'minorticks_on', 'pchanged', 'pcolor', 'pcolorfast', 'pcolormesh', 'phase_spectrum', 'pick', 'pickable', 'pie', 'plot', 'plot_date', 'properties', 'psd', 'quiver', 'quiverkey', 'redraw_in_frame', 'relim', 'remove', 'remove_callback', 'reset_position', 'scatter', 'secondary_xaxis', 'secondary_yaxis', 'semilogx', 'semilogy', 'set', 'set_adjustable', 'set_agg_filter', 'set_alpha', 'set_anchor', 'set_animated', 'set_aspect', 'set_autoscale_on', 'set_autoscalex_on', 'set_autoscaley_on', 'set_axes_locator', 'set_axis_off', 'set_axis_on', 'set_axisbelow', 'set_box_aspect', 'set_clip_box', 'set_clip_on', 'set_clip_path', 'set_facecolor', 'set_fc', 'set_figure', 'set_frame_on', 'set_gid', 'set_in_layout', 'set_label', 'set_mouseover', 'set_navigate', 'set_navigate_mode', 'set_path_effects', 'set_picker', 'set_position', 'set_prop_cycle', 'set_rasterization_zorder', 'set_rasterized', 'set_sketch_params', 'set_snap', 'set_subplotspec', 'set_title', 'set_transform', 'set_url', 'set_visible', 'set_xbound', 'set_xlabel', 'set_xlim', 'set_xmargin', 'set_xscale', 'set_xticklabels', 'set_xticks', 'set_ybound', 'set_ylabel', 'set_ylim', 'set_ymargin', 'set_yscale', 'set_yticklabels', 'set_yticks', 'set_zorder', 'sharex', 'sharey', 'specgram', 'spy', 'stackplot', 'stairs', 'start_pan', 'stem', 'step', 'streamplot', 'table', 'text', 'tick_params', 'ticklabel_format', 'tricontour', 'tricontourf', 'tripcolor', 'triplot', 'twinx', 'twiny', 'update', 'update_datalim', 'update_from', 'violin', 'violinplot', 'vlines', 'xaxis_date', 'xaxis_inverted', 'xcorr', 'yaxis_date', 'yaxis_inverted']\n",
      "upper class: []\n",
      "lower class: []\n"
     ]
    }
   ],
   "source": [
    "print_identifier_group(plt.Axes, kind='all')"
   ]
  },
  {
   "cell_type": "markdown",
   "metadata": {},
   "source": [
    "These classes are typically not instantiated directly. The ```pyplot``` factory function ```plt.figure``` is used to create a ```plt.Figure``` instance:"
   ]
  },
  {
   "cell_type": "code",
   "execution_count": 24,
   "metadata": {},
   "outputs": [
    {
     "name": "stdout",
     "output_type": "stream",
     "text": [
      "\u001b[1;31mSignature:\u001b[0m\n",
      "\u001b[0mplt\u001b[0m\u001b[1;33m.\u001b[0m\u001b[0mfigure\u001b[0m\u001b[1;33m(\u001b[0m\u001b[1;33m\n",
      "\u001b[0m    \u001b[0mnum\u001b[0m\u001b[1;33m:\u001b[0m \u001b[1;34m'int | str | Figure | SubFigure | None'\u001b[0m \u001b[1;33m=\u001b[0m \u001b[1;32mNone\u001b[0m\u001b[1;33m,\u001b[0m\u001b[1;33m\n",
      "\u001b[0m    \u001b[0mfigsize\u001b[0m\u001b[1;33m:\u001b[0m \u001b[1;34m'tuple[float, float] | None'\u001b[0m \u001b[1;33m=\u001b[0m \u001b[1;32mNone\u001b[0m\u001b[1;33m,\u001b[0m\u001b[1;33m\n",
      "\u001b[0m    \u001b[0mdpi\u001b[0m\u001b[1;33m:\u001b[0m \u001b[1;34m'float | None'\u001b[0m \u001b[1;33m=\u001b[0m \u001b[1;32mNone\u001b[0m\u001b[1;33m,\u001b[0m\u001b[1;33m\n",
      "\u001b[0m    \u001b[1;33m*\u001b[0m\u001b[1;33m,\u001b[0m\u001b[1;33m\n",
      "\u001b[0m    \u001b[0mfacecolor\u001b[0m\u001b[1;33m:\u001b[0m \u001b[1;34m'ColorType | None'\u001b[0m \u001b[1;33m=\u001b[0m \u001b[1;32mNone\u001b[0m\u001b[1;33m,\u001b[0m\u001b[1;33m\n",
      "\u001b[0m    \u001b[0medgecolor\u001b[0m\u001b[1;33m:\u001b[0m \u001b[1;34m'ColorType | None'\u001b[0m \u001b[1;33m=\u001b[0m \u001b[1;32mNone\u001b[0m\u001b[1;33m,\u001b[0m\u001b[1;33m\n",
      "\u001b[0m    \u001b[0mframeon\u001b[0m\u001b[1;33m:\u001b[0m \u001b[1;34m'bool'\u001b[0m \u001b[1;33m=\u001b[0m \u001b[1;32mTrue\u001b[0m\u001b[1;33m,\u001b[0m\u001b[1;33m\n",
      "\u001b[0m    \u001b[0mFigureClass\u001b[0m\u001b[1;33m:\u001b[0m \u001b[1;34m'type[Figure]'\u001b[0m \u001b[1;33m=\u001b[0m \u001b[1;33m<\u001b[0m\u001b[1;32mclass\u001b[0m \u001b[1;34m'matplotlib.figure.Figure'\u001b[0m\u001b[1;33m>\u001b[0m\u001b[1;33m,\u001b[0m\u001b[1;33m\n",
      "\u001b[0m    \u001b[0mclear\u001b[0m\u001b[1;33m:\u001b[0m \u001b[1;34m'bool'\u001b[0m \u001b[1;33m=\u001b[0m \u001b[1;32mFalse\u001b[0m\u001b[1;33m,\u001b[0m\u001b[1;33m\n",
      "\u001b[0m    \u001b[1;33m**\u001b[0m\u001b[0mkwargs\u001b[0m\u001b[1;33m,\u001b[0m\u001b[1;33m\n",
      "\u001b[0m\u001b[1;33m)\u001b[0m \u001b[1;33m->\u001b[0m \u001b[1;34m'Figure'\u001b[0m\u001b[1;33m\u001b[0m\u001b[1;33m\u001b[0m\u001b[0m\n",
      "\u001b[1;31mDocstring:\u001b[0m\n",
      "Create a new figure, or activate an existing figure.\n",
      "\n",
      "Parameters\n",
      "----------\n",
      "num : int or str or `.Figure` or `.SubFigure`, optional\n",
      "    A unique identifier for the figure.\n",
      "\n",
      "    If a figure with that identifier already exists, this figure is made\n",
      "    active and returned. An integer refers to the ``Figure.number``\n",
      "    attribute, a string refers to the figure label.\n",
      "\n",
      "    If there is no figure with the identifier or *num* is not given, a new\n",
      "    figure is created, made active and returned.  If *num* is an int, it\n",
      "    will be used for the ``Figure.number`` attribute, otherwise, an\n",
      "    auto-generated integer value is used (starting at 1 and incremented\n",
      "    for each new figure). If *num* is a string, the figure label and the\n",
      "    window title is set to this value.  If num is a ``SubFigure``, its\n",
      "    parent ``Figure`` is activated.\n",
      "\n",
      "figsize : (float, float), default: :rc:`figure.figsize`\n",
      "    Width, height in inches.\n",
      "\n",
      "dpi : float, default: :rc:`figure.dpi`\n",
      "    The resolution of the figure in dots-per-inch.\n",
      "\n",
      "facecolor : color, default: :rc:`figure.facecolor`\n",
      "    The background color.\n",
      "\n",
      "edgecolor : color, default: :rc:`figure.edgecolor`\n",
      "    The border color.\n",
      "\n",
      "frameon : bool, default: True\n",
      "    If False, suppress drawing the figure frame.\n",
      "\n",
      "FigureClass : subclass of `~matplotlib.figure.Figure`\n",
      "    If set, an instance of this subclass will be created, rather than a\n",
      "    plain `.Figure`.\n",
      "\n",
      "clear : bool, default: False\n",
      "    If True and the figure already exists, then it is cleared.\n",
      "\n",
      "layout : {'constrained', 'compressed', 'tight', 'none', `.LayoutEngine`, None}, default: None\n",
      "    The layout mechanism for positioning of plot elements to avoid\n",
      "    overlapping Axes decorations (labels, ticks, etc). Note that layout\n",
      "    managers can measurably slow down figure display.\n",
      "\n",
      "    - 'constrained': The constrained layout solver adjusts axes sizes\n",
      "      to avoid overlapping axes decorations.  Can handle complex plot\n",
      "      layouts and colorbars, and is thus recommended.\n",
      "\n",
      "      See :ref:`constrainedlayout_guide`\n",
      "      for examples.\n",
      "\n",
      "    - 'compressed': uses the same algorithm as 'constrained', but\n",
      "      removes extra space between fixed-aspect-ratio Axes.  Best for\n",
      "      simple grids of axes.\n",
      "\n",
      "    - 'tight': Use the tight layout mechanism. This is a relatively\n",
      "      simple algorithm that adjusts the subplot parameters so that\n",
      "      decorations do not overlap. See `.Figure.set_tight_layout` for\n",
      "      further details.\n",
      "\n",
      "    - 'none': Do not use a layout engine.\n",
      "\n",
      "    - A `.LayoutEngine` instance. Builtin layout classes are\n",
      "      `.ConstrainedLayoutEngine` and `.TightLayoutEngine`, more easily\n",
      "      accessible by 'constrained' and 'tight'.  Passing an instance\n",
      "      allows third parties to provide their own layout engine.\n",
      "\n",
      "    If not given, fall back to using the parameters *tight_layout* and\n",
      "    *constrained_layout*, including their config defaults\n",
      "    :rc:`figure.autolayout` and :rc:`figure.constrained_layout.use`.\n",
      "\n",
      "**kwargs\n",
      "    Additional keyword arguments are passed to the `.Figure` constructor.\n",
      "\n",
      "Returns\n",
      "-------\n",
      "`~matplotlib.figure.Figure`\n",
      "\n",
      "Notes\n",
      "-----\n",
      "A newly created figure is passed to the `~.FigureCanvasBase.new_manager`\n",
      "method or the `new_figure_manager` function provided by the current\n",
      "backend, which install a canvas and a manager on the figure.\n",
      "\n",
      "Once this is done, :rc:`figure.hooks` are called, one at a time, on the\n",
      "figure; these hooks allow arbitrary customization of the figure (e.g.,\n",
      "attaching callbacks) or of associated elements (e.g., modifying the\n",
      "toolbar).  See :doc:`/gallery/user_interfaces/mplcvd` for an example of\n",
      "toolbar customization.\n",
      "\n",
      "If you are creating many figures, make sure you explicitly call\n",
      "`.pyplot.close` on the figures you are not using, because this will\n",
      "enable pyplot to properly clean up the memory.\n",
      "\n",
      "`~matplotlib.rcParams` defines the default values, which can be modified\n",
      "in the matplotlibrc file.\n",
      "\u001b[1;31mFile:\u001b[0m      c:\\users\\pyip\\miniconda3\\envs\\vscode-env\\lib\\site-packages\\matplotlib\\pyplot.py\n",
      "\u001b[1;31mType:\u001b[0m      function"
     ]
    }
   ],
   "source": [
    "plt.figure?"
   ]
  },
  {
   "cell_type": "markdown",
   "metadata": {},
   "source": [
    "Notice that this factory function returns a ```plt.Figure```. "
   ]
  },
  {
   "cell_type": "markdown",
   "metadata": {},
   "source": [
    "There are generally 2 approaches, a functional approach where the current ```plt.Figure``` is not assigned to an instance name during instantiation and is instead updated using a series of functions from the ```plt```. For example:"
   ]
  },
  {
   "cell_type": "code",
   "execution_count": 27,
   "metadata": {},
   "outputs": [
    {
     "data": {
      "text/plain": [
       "[<matplotlib.lines.Line2D at 0x219efbf6960>]"
      ]
     },
     "execution_count": 27,
     "metadata": {},
     "output_type": "execute_result"
    },
    {
     "data": {
      "image/png": "[encoded data removed]",
      "text/plain": [
       "<Figure size 640x480 with 1 Axes>"
      ]
     },
     "metadata": {},
     "output_type": "display_data"
    }
   ],
   "source": [
    "plt.figure()\n",
    "plt.subplot(1, 1, 1)\n",
    "plt.xlabel('x')\n",
    "plt.ylabel('y')\n",
    "plt.title('y=f(x)')\n",
    "plt.plot(x, y)"
   ]
  },
  {
   "cell_type": "markdown",
   "metadata": {},
   "source": [
    "Alternatively an OOP design approach is used:"
   ]
  },
  {
   "cell_type": "code",
   "execution_count": 43,
   "metadata": {},
   "outputs": [
    {
     "data": {
      "image/png": "[encoded data removed]",
      "text/plain": [
       "<Figure size 640x480 with 1 Axes>"
      ]
     },
     "metadata": {},
     "output_type": "display_data"
    }
   ],
   "source": [
    "fig = plt.figure()\n",
    "ax = fig.add_subplot(1, 1, 1)\n",
    "x_text = ax.set_xlabel('x')\n",
    "y_text = ax.set_ylabel('y')\n",
    "title_text = ax.set_title('y=f(x)')\n",
    "line_list = ax.plot(x, y)"
   ]
  },
  {
   "cell_type": "markdown",
   "metadata": {},
   "source": [
    "Notice in the OOP design approach that the ```Axes``` is added using the ```Figure``` method ```add_subplot```. The labels are added to the ```Axes``` using the ```Axes``` methods ```set_xlabel```, ```set_ylabel``` and ```set_title``` respectively. These methods are similar to the ```plt``` functions ```xlabel```, ```ylabel``` and ```title``` which operate on the currently selected ```Axes```.\n",
    "\n",
    "Each plotting function from ```plt``` is also available as an ```Axes``` method with the same name. The class type of all the instances above can be examined:"
   ]
  },
  {
   "cell_type": "code",
   "execution_count": 36,
   "metadata": {},
   "outputs": [
    {
     "name": "stdout",
     "output_type": "stream",
     "text": [
      "Figure(640x480): <class 'matplotlib.figure.Figure'>\n",
      "Axes(0.125,0.11;0.775x0.77): <class 'matplotlib.axes._axes.Axes'>\n",
      "Text(0.5, 24.0, 'x'): <class 'matplotlib.text.Text'>\n",
      "Text(24.000000000000007, 0.5, 'y'): <class 'matplotlib.text.Text'>\n",
      "Text(0.5, 1.0, 'y=f(x)'): <class 'matplotlib.text.Text'>\n",
      "[<matplotlib.lines.Line2D object at 0x00000219F1354D40>]: <class 'list'>\n",
      "Line2D(_child0): <class 'matplotlib.lines.Line2D'>\n"
     ]
    }
   ],
   "source": [
    "print(f'{fig}: {type(fig)}')\n",
    "print(f'{ax}: {type(ax)}')\n",
    "print(f'{x_text}: {type(x_text)}')\n",
    "print(f'{y_text}: {type(y_text)}')\n",
    "print(f'{title_text}: {type(title_text)}')\n",
    "print(f'{line_list}: {type(line_list)}')\n",
    "print(f'{line_list[0]}: {type(line_list[0])}')"
   ]
  },
  {
   "cell_type": "markdown",
   "metadata": {},
   "source": [
    "Notice when the functional approach is used, the return value of the last line in the cell is shown in the cell output above the plot:"
   ]
  },
  {
   "cell_type": "code",
   "execution_count": 37,
   "metadata": {},
   "outputs": [
    {
     "data": {
      "text/plain": [
       "[<matplotlib.lines.Line2D at 0x219efc2c170>]"
      ]
     },
     "execution_count": 37,
     "metadata": {},
     "output_type": "execute_result"
    },
    {
     "data": {
      "image/png": "[encoded data removed]",
      "text/plain": [
       "<Figure size 640x480 with 1 Axes>"
      ]
     },
     "metadata": {},
     "output_type": "display_data"
    }
   ],
   "source": [
    "plt.figure()\n",
    "plt.subplot(1, 1, 1)\n",
    "plt.xlabel('x')\n",
    "plt.ylabel('y')\n",
    "plt.title('y=f(x)')\n",
    "plt.plot(x, y)"
   ]
  },
  {
   "cell_type": "markdown",
   "metadata": {},
   "source": [
    "This can be suppressed by use of a semicolon at the end of the last line:"
   ]
  },
  {
   "cell_type": "code",
   "execution_count": 38,
   "metadata": {},
   "outputs": [
    {
     "data": {
      "image/png": "[encoded data removed]",
      "text/plain": [
       "<Figure size 640x480 with 1 Axes>"
      ]
     },
     "metadata": {},
     "output_type": "display_data"
    }
   ],
   "source": [
    "plt.figure()\n",
    "plt.subplot(1, 1, 1)\n",
    "plt.xlabel('x')\n",
    "plt.ylabel('y')\n",
    "plt.title('y=f(x)')\n",
    "plt.plot(x, y);"
   ]
  },
  {
   "cell_type": "markdown",
   "metadata": {},
   "source": [
    "The ```figure``` function is a factory function for creating a ```Figure``` instance. There is a complementary ```subplots``` function which creates both a ```Figure``` and ```Axes``` instance. In other words the following are equivalent:"
   ]
  },
  {
   "cell_type": "code",
   "execution_count": 48,
   "metadata": {},
   "outputs": [
    {
     "name": "stdout",
     "output_type": "stream",
     "text": [
      "Figure(640x480): <class 'matplotlib.figure.Figure'>\n",
      "[<Axes: > <Axes: >]: <class 'numpy.ndarray'>\n"
     ]
    },
    {
     "data": {
      "image/png": "[encoded data removed]",
      "text/plain": [
       "<Figure size 640x480 with 1 Axes>"
      ]
     },
     "metadata": {},
     "output_type": "display_data"
    }
   ],
   "source": [
    "print(f'{fig}: {type(fig)}')\n",
    "print(f'{ax}: {type(ax)}')\n",
    "fig = plt.figure()\n",
    "ax = fig.add_subplot(1, 1, 1)"
   ]
  },
  {
   "cell_type": "code",
   "execution_count": 39,
   "metadata": {},
   "outputs": [
    {
     "name": "stdout",
     "output_type": "stream",
     "text": [
      "Figure(640x480): <class 'matplotlib.figure.Figure'>\n",
      "Axes(0.125,0.11;0.775x0.77): <class 'matplotlib.axes._axes.Axes'>\n"
     ]
    },
    {
     "data": {
      "image/png": "[encoded data removed]",
      "text/plain": [
       "<Figure size 640x480 with 1 Axes>"
      ]
     },
     "metadata": {},
     "output_type": "display_data"
    }
   ],
   "source": [
    "fig, ax = plt.subplots()\n",
    "print(f'{fig}: {type(fig)}')\n",
    "print(f'{ax}: {type(ax)}')"
   ]
  },
  {
   "cell_type": "markdown",
   "metadata": {},
   "source": [
    "The factory function ```plt.subplots``` takes in consistent keyword input arguments to ```plt.Figure```, for example ```num``` which can be used to specify the ```Figure``` number. Normally each ```Figure``` instance has an ```int``` ```Figure``` number which is automatically assigned from 1 (first order indexing). This number is restarted for each cell output in an IPython cell.\n",
    "\n",
    "The factory function ```plt.subplots``` also has keyword input arguments to specify the number of subplots to add. Notice when a single ```Axes``` is specified using ```nrows=1``` (default) by ```ncols=1``` (default) the return value is a single ```Axes``` instance. When a 1d array of ```Axes``` is specified, the return value is a 1D ```ndarray``` of ```Axes``` instances. When a 2d array of ```Axes``` is specified, the return value is a 2D ```ndarray```. Because these are ```ndarray``` instances they can be indexed into using zero-order indexing:"
   ]
  },
  {
   "cell_type": "code",
   "execution_count": 52,
   "metadata": {},
   "outputs": [
    {
     "name": "stdout",
     "output_type": "stream",
     "text": [
      "Figure(640x480): <class 'matplotlib.figure.Figure'>\n",
      "[<Axes: > <Axes: >]: <class 'numpy.ndarray'>\n",
      "Figure(640x480): <class 'matplotlib.figure.Figure'>\n",
      "[<Axes: > <Axes: > <Axes: >]: <class 'numpy.ndarray'>\n"
     ]
    },
    {
     "name": "stdout",
     "output_type": "stream",
     "text": [
      "Figure(640x480): <class 'matplotlib.figure.Figure'>\n",
      "[[<Axes: > <Axes: > <Axes: >]\n",
      " [<Axes: > <Axes: > <Axes: >]\n",
      " [<Axes: > <Axes: > <Axes: >]\n",
      " [<Axes: > <Axes: > <Axes: >]]: <class 'numpy.ndarray'>\n"
     ]
    },
    {
     "data": {
      "image/png": "[encoded data removed]",
      "text/plain": [
       "<Figure size 640x480 with 1 Axes>"
      ]
     },
     "metadata": {},
     "output_type": "display_data"
    },
    {
     "data": {
      "image/png": "[encoded data removed]",
      "text/plain": [
       "<Figure size 640x480 with 2 Axes>"
      ]
     },
     "metadata": {},
     "output_type": "display_data"
    },
    {
     "data": {
      "image/png": "[encoded data removed]",
      "text/plain": [
       "<Figure size 640x480 with 3 Axes>"
      ]
     },
     "metadata": {},
     "output_type": "display_data"
    },
    {
     "data": {
      "image/png": "[encoded data removed]",
      "text/plain": [
       "<Figure size 640x480 with 12 Axes>"
      ]
     },
     "metadata": {},
     "output_type": "display_data"
    }
   ],
   "source": [
    "fig1, ax1 = plt.subplots(num=1)\n",
    "\n",
    "fig2, ax2 = plt.subplots(num=2, nrows=2, ncols=1)\n",
    "print(f'{fig2}: {type(fig2)}')\n",
    "print(f'{ax2}: {type(ax2)}')\n",
    "\n",
    "fig3, ax3 = plt.subplots(num=3, nrows=1, ncols=3)\n",
    "print(f'{fig3}: {type(fig3)}')\n",
    "print(f'{ax3}: {type(ax3)}')\n",
    "\n",
    "fig4, ax4 = plt.subplots(num=4, nrows=4, ncols=3)\n",
    "print(f'{fig4}: {type(fig4)}')\n",
    "print(f'{ax4}: {type(ax4)}')"
   ]
  },
  {
   "cell_type": "markdown",
   "metadata": {},
   "source": [
    "Having the ```Figure``` and ```Axes``` instances instantiated to instance names means they can be indexed into to select an ```Axes``` and then an ```Axes``` method such as a plotting function can be used:"
   ]
  },
  {
   "cell_type": "code",
   "execution_count": 57,
   "metadata": {},
   "outputs": [
    {
     "data": {
      "text/plain": [
       "[<matplotlib.lines.Line2D at 0x219f4d96e70>]"
      ]
     },
     "execution_count": 57,
     "metadata": {},
     "output_type": "execute_result"
    },
    {
     "data": {
      "image/png": "[encoded data removed]",
      "text/plain": [
       "<Figure size 640x480 with 1 Axes>"
      ]
     },
     "metadata": {},
     "output_type": "display_data"
    },
    {
     "data": {
      "image/png": "[encoded data removed]",
      "text/plain": [
       "<Figure size 640x480 with 2 Axes>"
      ]
     },
     "metadata": {},
     "output_type": "display_data"
    },
    {
     "data": {
      "image/png": "[encoded data removed]",
      "text/plain": [
       "<Figure size 640x480 with 3 Axes>"
      ]
     },
     "metadata": {},
     "output_type": "display_data"
    },
    {
     "data": {
      "image/png": "[encoded data removed]",
      "text/plain": [
       "<Figure size 640x480 with 12 Axes>"
      ]
     },
     "metadata": {},
     "output_type": "display_data"
    }
   ],
   "source": [
    "fig1, ax1 = plt.subplots()\n",
    "\n",
    "fig2, ax2 = plt.subplots(nrows=2, ncols=1)\n",
    "\n",
    "fig3, ax3 = plt.subplots(nrows=1, ncols=3)\n",
    "\n",
    "fig4, ax4 = plt.subplots(nrows=4, ncols=3)\n",
    "\n",
    "ax1.plot(x, y)\n",
    "ax2[0].plot(x, y)\n",
    "ax2[1].plot(x, -y)\n",
    "ax3[0].plot(x, -y)\n",
    "ax3[2].plot(x, y)\n",
    "ax4[0, 0].plot(x, y)\n",
    "ax4[3, 2].plot(x, y)"
   ]
  },
  {
   "cell_type": "markdown",
   "metadata": {},
   "source": [
    "The function ```plt.subplot``` has the positional input arguments ```nrow```, ```ncol``` and ```index```. For the index first-order indexing is used. Typically each subplot is selected and then the ```plt``` plotting functions for example can be used to create a plot. Notice that ```plt.subplot``` can be used to reselect a subplot and so the last line is added to the first subplot:"
   ]
  },
  {
   "cell_type": "code",
   "execution_count": 66,
   "metadata": {},
   "outputs": [
    {
     "data": {
      "text/plain": [
       "[<matplotlib.lines.Line2D at 0x219f62b6780>]"
      ]
     },
     "execution_count": 66,
     "metadata": {},
     "output_type": "execute_result"
    },
    {
     "data": {
      "image/png": "[encoded data removed]",
      "text/plain": [
       "<Figure size 640x480 with 4 Axes>"
      ]
     },
     "metadata": {},
     "output_type": "display_data"
    }
   ],
   "source": [
    "plt.figure()\n",
    "plt.subplot(2, 2, 1)\n",
    "plt.title('1')\n",
    "plt.plot(x, y, color='tomato')\n",
    "\n",
    "plt.subplot(2, 2, 2)\n",
    "plt.title('2')\n",
    "plt.plot(x, y, color='royalblue')\n",
    "\n",
    "plt.subplot(2, 2, 3)\n",
    "plt.title('3')\n",
    "plt.plot(x, y, color='seagreen')\n",
    "\n",
    "plt.subplot(2, 2, 4)\n",
    "plt.title('4')\n",
    "plt.plot(x, y, color='gold')\n",
    "\n",
    "plt.subplot(2, 2, 1)\n",
    "plt.plot(x, -y, color='gray')"
   ]
  },
  {
   "cell_type": "markdown",
   "metadata": {},
   "source": [
    "If the functional approach was initially used the ```plt.gcf``` (get current Figure) function can be used to assign the currently selected ```Figure``` for assignment to an instance name. Once the ```Figure``` is selected there is a ```Figure``` method ```gca``` (get current Axes) or function ```plt.gca``` which can be used for assignment of an ```Axes``` to an instance name.\n",
    "\n",
    "The ```Figure``` has an ```ax``` attribute which is (always) a ```list``` of ```Axes``` instances and this can be indexed into to access an ```Axes```. Each time a new ```Axes``` is added to the ```Figure``` it is appended to this ```list```, in other words the ```list``` follows the insertion order.\n",
    "\n",
    "The ```Axes``` also has a ```figure``` attribute which can be used to instantiate a ```Figure```.\n"
   ]
  },
  {
   "cell_type": "code",
   "execution_count": 81,
   "metadata": {},
   "outputs": [
    {
     "name": "stdout",
     "output_type": "stream",
     "text": [
      "Figure(640x480): <class 'matplotlib.figure.Figure'>\n",
      "Axes(0.125,0.11;0.775x0.77): <class 'matplotlib.axes._axes.Axes'>\n",
      "\n",
      "[<Axes: title={'center': '1'}>]: <class 'list'>\n",
      "\n",
      "Figure(640x480): <class 'matplotlib.figure.Figure'>\n"
     ]
    },
    {
     "data": {
      "image/png": "[encoded data removed]",
      "text/plain": [
       "<Figure size 640x480 with 1 Axes>"
      ]
     },
     "metadata": {},
     "output_type": "display_data"
    }
   ],
   "source": [
    "plt.figure()\n",
    "plt.title(1)\n",
    "plt.subplot(1, 1, 1)\n",
    "plt.plot(x, y, color='tomato')\n",
    "\n",
    "fig = plt.gcf()\n",
    "ax = fig.gca()\n",
    "print(f'{fig}: {type(fig)}')\n",
    "print(f'{ax}: {type(ax)}')\n",
    "print()\n",
    "print(f'{fig.axes}: {type(fig.axes)}')\n",
    "print()\n",
    "print(f'{ax.figure}: {type(ax.figure)}')"
   ]
  },
  {
   "cell_type": "markdown",
   "metadata": {},
   "source": [
    "A ```Figure``` can be reselected using the ```figure``` function, alongside an existing ```num```. Note the first ```Figure``` with ```num=1``` is created, then the ```Figure``` with ```num=2``` is created. then the ```Figure``` with ```num=3``` is created and finally the ```Figure``` with ```num=1``` is updated. The ```Figure``` instances get displayed in the cell output using the order of the last modification time which is why the ```Figure``` with ```num=1``` is at the bottom:"
   ]
  },
  {
   "cell_type": "code",
   "execution_count": 82,
   "metadata": {},
   "outputs": [
    {
     "data": {
      "text/plain": [
       "[<matplotlib.lines.Line2D at 0x219f7f99790>]"
      ]
     },
     "execution_count": 82,
     "metadata": {},
     "output_type": "execute_result"
    },
    {
     "data": {
      "image/png": "[encoded data removed]",
      "text/plain": [
       "<Figure size 640x480 with 1 Axes>"
      ]
     },
     "metadata": {},
     "output_type": "display_data"
    },
    {
     "data": {
      "image/png": "[encoded data removed]",
      "text/plain": [
       "<Figure size 640x480 with 1 Axes>"
      ]
     },
     "metadata": {},
     "output_type": "display_data"
    },
    {
     "data": {
      "image/png": "[encoded data removed]",
      "text/plain": [
       "<Figure size 640x480 with 1 Axes>"
      ]
     },
     "metadata": {},
     "output_type": "display_data"
    }
   ],
   "source": [
    "plt.figure()\n",
    "plt.title(1)\n",
    "plt.subplot(1, 1, 1)\n",
    "plt.plot(x, y, color='tomato')\n",
    "\n",
    "plt.figure()\n",
    "plt.title(2)\n",
    "plt.subplot(1, 1, 1)\n",
    "plt.plot(x, y, color='royalblue')\n",
    "\n",
    "plt.figure()\n",
    "plt.title(3)\n",
    "plt.subplot(1, 1, 1)\n",
    "plt.plot(x, y, color='seagreen')\n",
    "\n",
    "fig = plt.figure(num=1)\n",
    "ax = fig.gca()\n",
    "ax.plot(x, -y, color='gray')"
   ]
  },
  {
   "cell_type": "markdown",
   "metadata": {},
   "source": [
    "The ```Figure``` class has the method ```subplots``` which behaves similar to the ```plt.subplots``` but is bound to the existing ```Figure``` instance. This creates an ```ndarray``` of ```Axes``` which can be indexed:"
   ]
  },
  {
   "cell_type": "code",
   "execution_count": 120,
   "metadata": {},
   "outputs": [
    {
     "name": "stdout",
     "output_type": "stream",
     "text": [
      "Figure(640x480): <class 'matplotlib.figure.Figure'>\n",
      "[[<Axes: > <Axes: >]\n",
      " [<Axes: > <Axes: >]]: <class 'numpy.ndarray'>\n"
     ]
    },
    {
     "data": {
      "image/png": "[encoded data removed]",
      "text/plain": [
       "<Figure size 640x480 with 4 Axes>"
      ]
     },
     "metadata": {},
     "output_type": "display_data"
    }
   ],
   "source": [
    "fig = plt.figure()\n",
    "ax = fig.subplots(nrows=2, ncols=2)\n",
    "print(f'{fig}: {type(fig)}')\n",
    "print(f'{ax}: {type(ax)}')\n",
    "\n",
    "ax[0, 0].plot(x, y, color='tomato');\n",
    "ax[1, 0].plot(x, y, color='seagreen');\n",
    "ax[0, 1].plot(x, y, color='royalblue');"
   ]
  },
  {
   "cell_type": "markdown",
   "metadata": {},
   "source": [
    "The ```Figure``` class has the method ```subplot_mosaic``` which can be used to create a label for each ```Axes```. This creates an ```dict``` of ```Axes``` where the label is the ```key``` and can be used to index into the ```Axes```. Notice also if neighbouring subplots are given the same label, then the plot will be expanded over them:"
   ]
  },
  {
   "cell_type": "code",
   "execution_count": 121,
   "metadata": {},
   "outputs": [
    {
     "name": "stdout",
     "output_type": "stream",
     "text": [
      "Figure(640x480): <class 'matplotlib.figure.Figure'>\n",
      "{'tomato': <Axes: label='tomato'>, 'royalblue': <Axes: label='royalblue'>, 'seagreen': <Axes: label='seagreen'>}: <class 'dict'>\n"
     ]
    },
    {
     "data": {
      "text/plain": [
       "[<matplotlib.lines.Line2D at 0x219fab89d00>]"
      ]
     },
     "execution_count": 121,
     "metadata": {},
     "output_type": "execute_result"
    },
    {
     "data": {
      "image/png": "[encoded data removed]",
      "text/plain": [
       "<Figure size 640x480 with 3 Axes>"
      ]
     },
     "metadata": {},
     "output_type": "display_data"
    }
   ],
   "source": [
    "mosaic = [['tomato', 'royalblue'],\n",
    "          ['seagreen', 'royalblue']]\n",
    "\n",
    "fig = plt.figure()\n",
    "ax = fig.subplot_mosaic(mosaic=mosaic)\n",
    "print(f'{fig}: {type(fig)}')\n",
    "print(f'{ax}: {type(ax)}')\n",
    "\n",
    "ax['tomato'].plot(x, y, color='tomato');\n",
    "ax['royalblue'].plot(x, y, color='royalblue');\n",
    "ax['seagreen'].plot(x, y, color='seagreen');"
   ]
  },
  {
   "cell_type": "markdown",
   "metadata": {},
   "source": [
    "It is not possible to do the above by slicing into the ```ndarray``` (2D) of ```Axes``` generated by ```plt.subplots``` or ```Figure.subplots``` as the slice creates another ```ndarray``` (1D) which is not a ```mpl``` class and therefore has no plot methods. \n",
    "\n",
    "The ```Figure.add_subplot``` method is similar to the ```plt.subplot``` function and is bound to the ```Figure``` instance. The ```Figure.add_subplot``` places each subplot individually on the ```Figure``` instead of instantiating them all simultaneously like ```Figure.subplots``` or ```Figure.subplot_mosaic``` and uses the ```index``` to select a subplot. The ```index``` is only configured for an ```int``` instance and does not recognise a ```list``` of ```int``` neighbouring values, therefore has the same limitations of ```Figure.subplots``` and isn't as flexible as ```Figure.subplot_mosaic```:"
   ]
  },
  {
   "cell_type": "code",
   "execution_count": 123,
   "metadata": {},
   "outputs": [
    {
     "data": {
      "image/png": "[encoded data removed]",
      "text/plain": [
       "<Figure size 640x480 with 3 Axes>"
      ]
     },
     "metadata": {},
     "output_type": "display_data"
    }
   ],
   "source": [
    "mosaic = [['tomato', 'royalblue'],\n",
    "          ['seagreen', 'royalblue']]\n",
    "\n",
    "fig = plt.figure()\n",
    "tomato = fig.add_subplot(2, 2, 1)\n",
    "royalblue = fig.add_subplot(2, 2, 2)\n",
    "seagreen = fig.add_subplot(2, 2, 3)\n",
    "\n",
    "tomato.plot(x, y, color='tomato');\n",
    "royalblue.plot(x, y, color='royalblue');\n",
    "seagreen.plot(x, y, color='seagreen');"
   ]
  },
  {
   "cell_type": "markdown",
   "metadata": {},
   "source": [
    "Another way of adding ```Axes``` is by using the ```Figure.add_axes``` which takes in a rectangle of normalised co-ordinates of the form:\n",
    "\n",
    "```python\n",
    "rectangle = (left, bottom, width, height)\n",
    "```\n",
    "\n",
    "The parameters provided in the ```tuple``` are not named and the code can be more readable using a ```namedtuple```:"
   ]
  },
  {
   "cell_type": "code",
   "execution_count": 132,
   "metadata": {},
   "outputs": [
    {
     "data": {
      "image/png": "[encoded data removed]",
      "text/plain": [
       "<Figure size 640x480 with 2 Axes>"
      ]
     },
     "metadata": {},
     "output_type": "display_data"
    }
   ],
   "source": [
    "from collections import namedtuple\n",
    "AxesRect = namedtuple('AxesRect', ['left', 'bottom', 'width', 'height'])\n",
    "\n",
    "fig = plt.figure()\n",
    "ax1 = fig.add_axes(rect=AxesRect(left=0, bottom=0, width=1, height=1), facecolor='royalblue')\n",
    "ax2 = fig.add_axes(rect=AxesRect(left=0.2, bottom=0.2, width=0.5, height=0.5), facecolor='tomato')"
   ]
  },
  {
   "cell_type": "markdown",
   "metadata": {},
   "source": [
    "The function ```plt.getp``` (get properties) can be used to get the properties of an instance that belongs to a ```plt``` class. If the following components of the ```Figure``` are examined:"
   ]
  },
  {
   "cell_type": "code",
   "execution_count": 84,
   "metadata": {},
   "outputs": [
    {
     "data": {
      "image/png": "[encoded data removed]",
      "text/plain": [
       "<Figure size 640x480 with 1 Axes>"
      ]
     },
     "metadata": {},
     "output_type": "display_data"
    }
   ],
   "source": [
    "fig = plt.figure()\n",
    "ax = fig.add_subplot(1, 1, 1)\n",
    "x_text = ax.set_xlabel('x')\n",
    "y_text = ax.set_ylabel('y')\n",
    "title_text = ax.set_title('y=f(x)')\n",
    "line_list = ax.plot(x, y)"
   ]
  },
  {
   "cell_type": "markdown",
   "metadata": {},
   "source": [
    "The properties of the ```Figure``` instance can be examined:"
   ]
  },
  {
   "cell_type": "code",
   "execution_count": 85,
   "metadata": {},
   "outputs": [
    {
     "name": "stdout",
     "output_type": "stream",
     "text": [
      "    agg_filter = None\n",
      "    alpha = None\n",
      "    animated = False\n",
      "    axes = [<Axes: title={'center': 'y=f(x)'}, xlabel='x', yl...\n",
      "    children = [<matplotlib.patches.Rectangle object at 0x0000021...\n",
      "    clip_box = None\n",
      "    clip_on = True\n",
      "    clip_path = None\n",
      "    constrained_layout = False\n",
      "    constrained_layout_pads = (None, None, None, None)\n",
      "    default_bbox_extra_artists = [<Axes: title={'center': 'y=f(x)'}, xlabel='x', yl...\n",
      "    dpi = 100.0\n",
      "    edgecolor = (1.0, 1.0, 1.0, 1.0)\n",
      "    facecolor = (1.0, 1.0, 1.0, 1.0)\n",
      "    figheight = 4.8\n",
      "    figure = Figure(640x480)\n",
      "    figwidth = 6.4\n",
      "    frameon = True\n",
      "    gid = None\n",
      "    in_layout = True\n",
      "    label = \n",
      "    layout_engine = None\n",
      "    linewidth = 0.0\n",
      "    mouseover = False\n",
      "    path_effects = []\n",
      "    picker = None\n",
      "    rasterized = False\n",
      "    size_inches = [6.4 4.8]\n",
      "    sketch_params = None\n",
      "    snap = None\n",
      "    suptitle = \n",
      "    supxlabel = \n",
      "    supylabel = \n",
      "    tight_layout = False\n",
      "    tightbbox = TransformedBbox(     Bbox(x0=32.972222222222214, y...\n",
      "    transform = IdentityTransform()\n",
      "    transformed_clip_path_and_affine = (None, None)\n",
      "    url = None\n",
      "    visible = True\n",
      "    window_extent = TransformedBbox(     Bbox(x0=0.0, y0=0.0, x1=6.4, ...\n",
      "    zorder = 0\n"
     ]
    }
   ],
   "source": [
    "plt.getp(fig)"
   ]
  },
  {
   "cell_type": "markdown",
   "metadata": {},
   "source": [
    "The most commonly changed keyword input arguments match those shown in the docstring of the ```plt.Figure``` classes initialisation signature:"
   ]
  },
  {
   "cell_type": "code",
   "execution_count": 91,
   "metadata": {},
   "outputs": [
    {
     "name": "stdout",
     "output_type": "stream",
     "text": [
      "\u001b[1;31mInit signature:\u001b[0m\n",
      "\u001b[0mplt\u001b[0m\u001b[1;33m.\u001b[0m\u001b[0mFigure\u001b[0m\u001b[1;33m(\u001b[0m\u001b[1;33m\n",
      "\u001b[0m    \u001b[0mfigsize\u001b[0m\u001b[1;33m=\u001b[0m\u001b[1;32mNone\u001b[0m\u001b[1;33m,\u001b[0m\u001b[1;33m\n",
      "\u001b[0m    \u001b[0mdpi\u001b[0m\u001b[1;33m=\u001b[0m\u001b[1;32mNone\u001b[0m\u001b[1;33m,\u001b[0m\u001b[1;33m\n",
      "\u001b[0m    \u001b[1;33m*\u001b[0m\u001b[1;33m,\u001b[0m\u001b[1;33m\n",
      "\u001b[0m    \u001b[0mfacecolor\u001b[0m\u001b[1;33m=\u001b[0m\u001b[1;32mNone\u001b[0m\u001b[1;33m,\u001b[0m\u001b[1;33m\n",
      "\u001b[0m    \u001b[0medgecolor\u001b[0m\u001b[1;33m=\u001b[0m\u001b[1;32mNone\u001b[0m\u001b[1;33m,\u001b[0m\u001b[1;33m\n",
      "\u001b[0m    \u001b[0mlinewidth\u001b[0m\u001b[1;33m=\u001b[0m\u001b[1;36m0.0\u001b[0m\u001b[1;33m,\u001b[0m\u001b[1;33m\n",
      "\u001b[0m    \u001b[0mframeon\u001b[0m\u001b[1;33m=\u001b[0m\u001b[1;32mNone\u001b[0m\u001b[1;33m,\u001b[0m\u001b[1;33m\n",
      "\u001b[0m    \u001b[0msubplotpars\u001b[0m\u001b[1;33m=\u001b[0m\u001b[1;32mNone\u001b[0m\u001b[1;33m,\u001b[0m\u001b[1;33m\n",
      "\u001b[0m    \u001b[0mtight_layout\u001b[0m\u001b[1;33m=\u001b[0m\u001b[1;32mNone\u001b[0m\u001b[1;33m,\u001b[0m\u001b[1;33m\n",
      "\u001b[0m    \u001b[0mconstrained_layout\u001b[0m\u001b[1;33m=\u001b[0m\u001b[1;32mNone\u001b[0m\u001b[1;33m,\u001b[0m\u001b[1;33m\n",
      "\u001b[0m    \u001b[0mlayout\u001b[0m\u001b[1;33m=\u001b[0m\u001b[1;32mNone\u001b[0m\u001b[1;33m,\u001b[0m\u001b[1;33m\n",
      "\u001b[0m    \u001b[1;33m**\u001b[0m\u001b[0mkwargs\u001b[0m\u001b[1;33m,\u001b[0m\u001b[1;33m\n",
      "\u001b[0m\u001b[1;33m)\u001b[0m\u001b[1;33m\u001b[0m\u001b[1;33m\u001b[0m\u001b[0m\n",
      "\u001b[1;31mDocstring:\u001b[0m     \n",
      "The top level container for all the plot elements.\n",
      "\n",
      "Attributes\n",
      "----------\n",
      "patch\n",
      "    The `.Rectangle` instance representing the figure background patch.\n",
      "\n",
      "suppressComposite\n",
      "    For multiple images, the figure will make composite images\n",
      "    depending on the renderer option_image_nocomposite function.  If\n",
      "    *suppressComposite* is a boolean, this will override the renderer.\n",
      "\u001b[1;31mInit docstring:\u001b[0m\n",
      "Parameters\n",
      "----------\n",
      "figsize : 2-tuple of floats, default: :rc:`figure.figsize`\n",
      "    Figure dimension ``(width, height)`` in inches.\n",
      "\n",
      "dpi : float, default: :rc:`figure.dpi`\n",
      "    Dots per inch.\n",
      "\n",
      "facecolor : default: :rc:`figure.facecolor`\n",
      "    The figure patch facecolor.\n",
      "\n",
      "edgecolor : default: :rc:`figure.edgecolor`\n",
      "    The figure patch edge color.\n",
      "\n",
      "linewidth : float\n",
      "    The linewidth of the frame (i.e. the edge linewidth of the figure\n",
      "    patch).\n",
      "\n",
      "frameon : bool, default: :rc:`figure.frameon`\n",
      "    If ``False``, suppress drawing the figure background patch.\n",
      "\n",
      "subplotpars : `SubplotParams`\n",
      "    Subplot parameters. If not given, the default subplot\n",
      "    parameters :rc:`figure.subplot.*` are used.\n",
      "\n",
      "tight_layout : bool or dict, default: :rc:`figure.autolayout`\n",
      "    Whether to use the tight layout mechanism. See `.set_tight_layout`.\n",
      "\n",
      "    .. admonition:: Discouraged\n",
      "\n",
      "        The use of this parameter is discouraged. Please use\n",
      "        ``layout='tight'`` instead for the common case of\n",
      "        ``tight_layout=True`` and use `.set_tight_layout` otherwise.\n",
      "\n",
      "constrained_layout : bool, default: :rc:`figure.constrained_layout.use`\n",
      "    This is equal to ``layout='constrained'``.\n",
      "\n",
      "    .. admonition:: Discouraged\n",
      "\n",
      "        The use of this parameter is discouraged. Please use\n",
      "        ``layout='constrained'`` instead.\n",
      "\n",
      "layout : {'constrained', 'compressed', 'tight', 'none', `.LayoutEngine`, None}, default: None\n",
      "    The layout mechanism for positioning of plot elements to avoid\n",
      "    overlapping Axes decorations (labels, ticks, etc). Note that\n",
      "    layout managers can have significant performance penalties.\n",
      "\n",
      "    - 'constrained': The constrained layout solver adjusts axes sizes\n",
      "      to avoid overlapping axes decorations.  Can handle complex plot\n",
      "      layouts and colorbars, and is thus recommended.\n",
      "\n",
      "      See :ref:`constrainedlayout_guide` for examples.\n",
      "\n",
      "    - 'compressed': uses the same algorithm as 'constrained', but\n",
      "      removes extra space between fixed-aspect-ratio Axes.  Best for\n",
      "      simple grids of axes.\n",
      "\n",
      "    - 'tight': Use the tight layout mechanism. This is a relatively\n",
      "      simple algorithm that adjusts the subplot parameters so that\n",
      "      decorations do not overlap.\n",
      "\n",
      "      See :ref:`tight_layout_guide` for examples.\n",
      "\n",
      "    - 'none': Do not use a layout engine.\n",
      "\n",
      "    - A `.LayoutEngine` instance. Builtin layout classes are\n",
      "      `.ConstrainedLayoutEngine` and `.TightLayoutEngine`, more easily\n",
      "      accessible by 'constrained' and 'tight'.  Passing an instance\n",
      "      allows third parties to provide their own layout engine.\n",
      "\n",
      "    If not given, fall back to using the parameters *tight_layout* and\n",
      "    *constrained_layout*, including their config defaults\n",
      "    :rc:`figure.autolayout` and :rc:`figure.constrained_layout.use`.\n",
      "\n",
      "Other Parameters\n",
      "----------------\n",
      "**kwargs : `.Figure` properties, optional\n",
      "\n",
      "    Properties:\n",
      "    agg_filter: a filter function, which takes a (m, n, 3) float array and a dpi value, and returns a (m, n, 3) array and two offsets from the bottom left corner of the image\n",
      "    alpha: scalar or None\n",
      "    animated: bool\n",
      "    canvas: FigureCanvas\n",
      "    clip_box: `~matplotlib.transforms.BboxBase` or None\n",
      "    clip_on: bool\n",
      "    clip_path: Patch or (Path, Transform) or None\n",
      "    constrained_layout: unknown\n",
      "    constrained_layout_pads: unknown\n",
      "    dpi: float\n",
      "    edgecolor: color\n",
      "    facecolor: color\n",
      "    figheight: float\n",
      "    figure: `~matplotlib.figure.Figure`\n",
      "    figwidth: float\n",
      "    frameon: bool\n",
      "    gid: str\n",
      "    in_layout: bool\n",
      "    label: object\n",
      "    layout_engine: {'constrained', 'compressed', 'tight', 'none', `.LayoutEngine`, None}\n",
      "    linewidth: number\n",
      "    mouseover: bool\n",
      "    path_effects: list of `.AbstractPathEffect`\n",
      "    picker: None or bool or float or callable\n",
      "    rasterized: bool\n",
      "    size_inches: (float, float) or float\n",
      "    sketch_params: (scale: float, length: float, randomness: float)\n",
      "    snap: bool or None\n",
      "    tight_layout: unknown\n",
      "    transform: `~matplotlib.transforms.Transform`\n",
      "    url: str\n",
      "    visible: bool\n",
      "    zorder: float\n",
      "\u001b[1;31mFile:\u001b[0m           c:\\users\\pyip\\miniconda3\\envs\\vscode-env\\lib\\site-packages\\matplotlib\\figure.py\n",
      "\u001b[1;31mType:\u001b[0m           type\n",
      "\u001b[1;31mSubclasses:\u001b[0m     "
     ]
    }
   ],
   "source": [
    "plt.Figure?"
   ]
  },
  {
   "cell_type": "markdown",
   "metadata": {},
   "source": [
    "The properties of the ```Axes``` instance can be examined:"
   ]
  },
  {
   "cell_type": "code",
   "execution_count": 92,
   "metadata": {},
   "outputs": [
    {
     "name": "stdout",
     "output_type": "stream",
     "text": [
      "    adjustable = box\n",
      "    agg_filter = None\n",
      "    alpha = None\n",
      "    anchor = C\n",
      "    animated = False\n",
      "    aspect = auto\n",
      "    autoscale_on = True\n",
      "    autoscalex_on = True\n",
      "    autoscaley_on = True\n",
      "    axes_locator = None\n",
      "    axisbelow = line\n",
      "    box_aspect = None\n",
      "    children = [<matplotlib.lines.Line2D object at 0x00000219F926...\n",
      "    clip_box = None\n",
      "    clip_on = True\n",
      "    clip_path = None\n",
      "    data_ratio = 2.0\n",
      "    default_bbox_extra_artists = [<matplotlib.spines.Spine object at 0x00000219F925...\n",
      "    facecolor or fc = (1.0, 1.0, 1.0, 1.0)\n",
      "    figure = Figure(640x480)\n",
      "    frame_on = True\n",
      "    gid = None\n",
      "    gridspec = GridSpec(1, 1)\n",
      "    images = <a list of 0 AxesImage objects>\n",
      "    in_layout = True\n",
      "    label = \n",
      "    legend = None\n",
      "    legend_handles_labels = ([], [])\n",
      "    lines = <a list of 1 Line2D objects>\n",
      "    mouseover = False\n",
      "    navigate = True\n",
      "    navigate_mode = None\n",
      "    path_effects = []\n",
      "    picker = None\n",
      "    position = Bbox(x0=0.125, y0=0.10999999999999999, x1=0.9, y1=...\n",
      "    rasterization_zorder = None\n",
      "    rasterized = False\n",
      "    shared_x_axes = <matplotlib.cbook.GrouperView object at 0x00000219...\n",
      "    shared_y_axes = <matplotlib.cbook.GrouperView object at 0x00000219...\n",
      "    sketch_params = None\n",
      "    snap = None\n",
      "    subplotspec = GridSpec(1, 1)[0:1, 0:1]\n",
      "    tightbbox = Bbox(x0=32.972222222222214, y0=9.522222222222219, ...\n",
      "    title = y=f(x)\n",
      "    transform = IdentityTransform()\n",
      "    transformed_clip_path_and_affine = (None, None)\n",
      "    url = None\n",
      "    visible = True\n",
      "    window_extent = TransformedBbox(     Bbox(x0=0.125, y0=0.109999999...\n",
      "    xaxis = XAxis(80.0,52.8)\n",
      "    xaxis_transform = BlendedGenericTransform(     CompositeGenericTrans...\n",
      "    xbound = (-0.25, 5.25)\n",
      "    xgridlines = <a list of 8 Line2D gridline objects>\n",
      "    xlabel = x\n",
      "    xlim = (-0.25, 5.25)\n",
      "    xmajorticklabels = [Text(-1.0, 0, '−1'), Text(0.0, 0, '0'), Text(1.0,...\n",
      "    xminorticklabels = []\n",
      "    xscale = linear\n",
      "    xticklabels = [Text(-1.0, 0, '−1'), Text(0.0, 0, '0'), Text(1.0,...\n",
      "    xticklines = <a list of 16 Line2D ticklines objects>\n",
      "    xticks = [-1.  0.  1.  2.  3.  4.]...\n",
      "    yaxis = YAxis(80.0,52.8)\n",
      "    yaxis_transform = BlendedGenericTransform(     BboxTransformTo(     ...\n",
      "    ybound = (-0.499, 10.501)\n",
      "    ygridlines = <a list of 8 Line2D gridline objects>\n",
      "    ylabel = y\n",
      "    ylim = (-0.499, 10.501)\n",
      "    ymajorticklabels = [Text(0, -2.0, '−2'), Text(0, 0.0, '0'), Text(0, 2...\n",
      "    yminorticklabels = []\n",
      "    yscale = linear\n",
      "    yticklabels = [Text(0, -2.0, '−2'), Text(0, 0.0, '0'), Text(0, 2...\n",
      "    yticklines = <a list of 16 Line2D ticklines objects>\n",
      "    yticks = [-2.  0.  2.  4.  6.  8.]...\n",
      "    zorder = 0\n"
     ]
    }
   ],
   "source": [
    "plt.getp(ax)"
   ]
  },
  {
   "cell_type": "markdown",
   "metadata": {},
   "source": [
    "The most commonly changed keyword input arguments match those shown in the docstring of the ```plt.Axes``` classes initialisation signature:"
   ]
  },
  {
   "cell_type": "code",
   "execution_count": 90,
   "metadata": {},
   "outputs": [
    {
     "name": "stdout",
     "output_type": "stream",
     "text": [
      "\u001b[1;31mInit signature:\u001b[0m\n",
      "\u001b[0mplt\u001b[0m\u001b[1;33m.\u001b[0m\u001b[0mAxes\u001b[0m\u001b[1;33m(\u001b[0m\u001b[1;33m\n",
      "\u001b[0m    \u001b[0mfig\u001b[0m\u001b[1;33m,\u001b[0m\u001b[1;33m\n",
      "\u001b[0m    \u001b[1;33m*\u001b[0m\u001b[0margs\u001b[0m\u001b[1;33m,\u001b[0m\u001b[1;33m\n",
      "\u001b[0m    \u001b[0mfacecolor\u001b[0m\u001b[1;33m=\u001b[0m\u001b[1;32mNone\u001b[0m\u001b[1;33m,\u001b[0m\u001b[1;33m\n",
      "\u001b[0m    \u001b[0mframeon\u001b[0m\u001b[1;33m=\u001b[0m\u001b[1;32mTrue\u001b[0m\u001b[1;33m,\u001b[0m\u001b[1;33m\n",
      "\u001b[0m    \u001b[0msharex\u001b[0m\u001b[1;33m=\u001b[0m\u001b[1;32mNone\u001b[0m\u001b[1;33m,\u001b[0m\u001b[1;33m\n",
      "\u001b[0m    \u001b[0msharey\u001b[0m\u001b[1;33m=\u001b[0m\u001b[1;32mNone\u001b[0m\u001b[1;33m,\u001b[0m\u001b[1;33m\n",
      "\u001b[0m    \u001b[0mlabel\u001b[0m\u001b[1;33m=\u001b[0m\u001b[1;34m''\u001b[0m\u001b[1;33m,\u001b[0m\u001b[1;33m\n",
      "\u001b[0m    \u001b[0mxscale\u001b[0m\u001b[1;33m=\u001b[0m\u001b[1;32mNone\u001b[0m\u001b[1;33m,\u001b[0m\u001b[1;33m\n",
      "\u001b[0m    \u001b[0myscale\u001b[0m\u001b[1;33m=\u001b[0m\u001b[1;32mNone\u001b[0m\u001b[1;33m,\u001b[0m\u001b[1;33m\n",
      "\u001b[0m    \u001b[0mbox_aspect\u001b[0m\u001b[1;33m=\u001b[0m\u001b[1;32mNone\u001b[0m\u001b[1;33m,\u001b[0m\u001b[1;33m\n",
      "\u001b[0m    \u001b[1;33m**\u001b[0m\u001b[0mkwargs\u001b[0m\u001b[1;33m,\u001b[0m\u001b[1;33m\n",
      "\u001b[0m\u001b[1;33m)\u001b[0m\u001b[1;33m\u001b[0m\u001b[1;33m\u001b[0m\u001b[0m\n",
      "\u001b[1;31mDocstring:\u001b[0m     \n",
      "An Axes object encapsulates all the elements of an individual (sub-)plot in\n",
      "a figure.\n",
      "\n",
      "It contains most of the (sub-)plot elements: `~.axis.Axis`,\n",
      "`~.axis.Tick`, `~.lines.Line2D`, `~.text.Text`, `~.patches.Polygon`, etc.,\n",
      "and sets the coordinate system.\n",
      "\n",
      "Like all visible elements in a figure, Axes is an `.Artist` subclass.\n",
      "\n",
      "The `Axes` instance supports callbacks through a callbacks attribute which\n",
      "is a `~.cbook.CallbackRegistry` instance.  The events you can connect to\n",
      "are 'xlim_changed' and 'ylim_changed' and the callback will be called with\n",
      "func(*ax*) where *ax* is the `Axes` instance.\n",
      "\n",
      ".. note::\n",
      "\n",
      "    As a user, you do not instantiate Axes directly, but use Axes creation\n",
      "    methods instead; e.g. from `.pyplot` or `.Figure`:\n",
      "    `~.pyplot.subplots`, `~.pyplot.subplot_mosaic` or `.Figure.add_axes`.\n",
      "\n",
      "Attributes\n",
      "----------\n",
      "dataLim : `.Bbox`\n",
      "    The bounding box enclosing all data displayed in the Axes.\n",
      "viewLim : `.Bbox`\n",
      "    The view limits in data coordinates.\n",
      "\u001b[1;31mInit docstring:\u001b[0m\n",
      "Build an Axes in a figure.\n",
      "\n",
      "Parameters\n",
      "----------\n",
      "fig : `~matplotlib.figure.Figure`\n",
      "    The Axes is built in the `.Figure` *fig*.\n",
      "\n",
      "*args\n",
      "    ``*args`` can be a single ``(left, bottom, width, height)``\n",
      "    rectangle or a single `.Bbox`.  This specifies the rectangle (in\n",
      "    figure coordinates) where the Axes is positioned.\n",
      "\n",
      "    ``*args`` can also consist of three numbers or a single three-digit\n",
      "    number; in the latter case, the digits are considered as\n",
      "    independent numbers.  The numbers are interpreted as ``(nrows,\n",
      "    ncols, index)``: ``(nrows, ncols)`` specifies the size of an array\n",
      "    of subplots, and ``index`` is the 1-based index of the subplot\n",
      "    being created.  Finally, ``*args`` can also directly be a\n",
      "    `.SubplotSpec` instance.\n",
      "\n",
      "sharex, sharey : `~matplotlib.axes.Axes`, optional\n",
      "    The x- or y-`~.matplotlib.axis` is shared with the x- or y-axis in\n",
      "    the input `~.axes.Axes`.\n",
      "\n",
      "frameon : bool, default: True\n",
      "    Whether the Axes frame is visible.\n",
      "\n",
      "box_aspect : float, optional\n",
      "    Set a fixed aspect for the Axes box, i.e. the ratio of height to\n",
      "    width. See `~.axes.Axes.set_box_aspect` for details.\n",
      "\n",
      "**kwargs\n",
      "    Other optional keyword arguments:\n",
      "\n",
      "    Properties:\n",
      "    adjustable: {'box', 'datalim'}\n",
      "    agg_filter: a filter function, which takes a (m, n, 3) float array and a dpi value, and returns a (m, n, 3) array and two offsets from the bottom left corner of the image\n",
      "    alpha: scalar or None\n",
      "    anchor: (float, float) or {'C', 'SW', 'S', 'SE', 'E', 'NE', ...}\n",
      "    animated: bool\n",
      "    aspect: {'auto', 'equal'} or float\n",
      "    autoscale_on: bool\n",
      "    autoscalex_on: unknown\n",
      "    autoscaley_on: unknown\n",
      "    axes_locator: Callable[[Axes, Renderer], Bbox]\n",
      "    axisbelow: bool or 'line'\n",
      "    box_aspect: float or None\n",
      "    clip_box: `~matplotlib.transforms.BboxBase` or None\n",
      "    clip_on: bool\n",
      "    clip_path: Patch or (Path, Transform) or None\n",
      "    facecolor or fc: color\n",
      "    figure: `~matplotlib.figure.Figure`\n",
      "    frame_on: bool\n",
      "    gid: str\n",
      "    in_layout: bool\n",
      "    label: object\n",
      "    mouseover: bool\n",
      "    navigate: bool\n",
      "    navigate_mode: unknown\n",
      "    path_effects: list of `.AbstractPathEffect`\n",
      "    picker: None or bool or float or callable\n",
      "    position: [left, bottom, width, height] or `~matplotlib.transforms.Bbox`\n",
      "    prop_cycle: `~cycler.Cycler`\n",
      "    rasterization_zorder: float or None\n",
      "    rasterized: bool\n",
      "    sketch_params: (scale: float, length: float, randomness: float)\n",
      "    snap: bool or None\n",
      "    subplotspec: unknown\n",
      "    title: str\n",
      "    transform: `~matplotlib.transforms.Transform`\n",
      "    url: str\n",
      "    visible: bool\n",
      "    xbound: (lower: float, upper: float)\n",
      "    xlabel: str\n",
      "    xlim: (left: float, right: float)\n",
      "    xmargin: float greater than -0.5\n",
      "    xscale: unknown\n",
      "    xticklabels: unknown\n",
      "    xticks: unknown\n",
      "    ybound: (lower: float, upper: float)\n",
      "    ylabel: str\n",
      "    ylim: (bottom: float, top: float)\n",
      "    ymargin: float greater than -0.5\n",
      "    yscale: unknown\n",
      "    yticklabels: unknown\n",
      "    yticks: unknown\n",
      "    zorder: float\n",
      "\n",
      "Returns\n",
      "-------\n",
      "`~.axes.Axes`\n",
      "    The new `~.axes.Axes` object.\n",
      "\u001b[1;31mFile:\u001b[0m           c:\\users\\pyip\\miniconda3\\envs\\vscode-env\\lib\\site-packages\\matplotlib\\axes\\_axes.py\n",
      "\u001b[1;31mType:\u001b[0m           type\n",
      "\u001b[1;31mSubclasses:\u001b[0m     GeoAxes, PolarAxes, Axes3D"
     ]
    }
   ],
   "source": [
    "plt.Axes?"
   ]
  },
  {
   "cell_type": "markdown",
   "metadata": {},
   "source": [
    "The properties of the ```Text``` instance can be examined:"
   ]
  },
  {
   "cell_type": "code",
   "execution_count": 97,
   "metadata": {},
   "outputs": [
    {
     "name": "stdout",
     "output_type": "stream",
     "text": [
      "    agg_filter = None\n",
      "    alpha = None\n",
      "    animated = False\n",
      "    antialiased = True\n",
      "    bbox_patch = None\n",
      "    children = []\n",
      "    clip_box = None\n",
      "    clip_on = True\n",
      "    clip_path = None\n",
      "    color or c = black\n",
      "    figure = Figure(640x480)\n",
      "    fontfamily or family or fontname = ['sans-serif']\n",
      "    fontname or name = DejaVu Sans\n",
      "    fontproperties or font or font_properties = sans\\-serif:style=normal:variant=normal:weight=nor...\n",
      "    fontsize or size = 10.0\n",
      "    fontstyle or style = normal\n",
      "    fontvariant or variant = normal\n",
      "    fontweight or weight = normal\n",
      "    gid = None\n",
      "    horizontalalignment or ha = center\n",
      "    in_layout = True\n",
      "    label = \n",
      "    math_fontfamily = dejavusans\n",
      "    mouseover = False\n",
      "    parse_math = True\n",
      "    path_effects = []\n",
      "    picker = None\n",
      "    position = (0.5, 23.52222222222222)\n",
      "    rasterized = False\n",
      "    rotation = 0.0\n",
      "    rotation_mode = default\n",
      "    sketch_params = None\n",
      "    snap = None\n",
      "    stretch = normal\n",
      "    text = x\n",
      "    tightbbox = Bbox(x0=323.875, y0=9.522222222222219, x1=332.125,...\n",
      "    transform = BlendedAffine2D(     BboxTransformTo(         Tran...\n",
      "    transform_rotates_text = False\n",
      "    transformed_clip_path_and_affine = (None, None)\n",
      "    unitless_position = (0.5, 23.52222222222222)\n",
      "    url = None\n",
      "    usetex = False\n",
      "    verticalalignment or va = top\n",
      "    visible = True\n",
      "    window_extent = Bbox(x0=323.875, y0=9.522222222222219, x1=332.125,...\n",
      "    wrap = False\n",
      "    zorder = 3\n"
     ]
    }
   ],
   "source": [
    "plt.getp(x_text)"
   ]
  },
  {
   "cell_type": "markdown",
   "metadata": {},
   "source": [
    "The most commonly changed keyword input arguments match those shown in the docstring of the ```plt.Text``` classes initialisation signature:"
   ]
  },
  {
   "cell_type": "code",
   "execution_count": 96,
   "metadata": {},
   "outputs": [
    {
     "name": "stdout",
     "output_type": "stream",
     "text": [
      "\u001b[1;31mInit signature:\u001b[0m\n",
      "\u001b[0mplt\u001b[0m\u001b[1;33m.\u001b[0m\u001b[0mText\u001b[0m\u001b[1;33m(\u001b[0m\u001b[1;33m\n",
      "\u001b[0m    \u001b[0mx\u001b[0m\u001b[1;33m=\u001b[0m\u001b[1;36m0\u001b[0m\u001b[1;33m,\u001b[0m\u001b[1;33m\n",
      "\u001b[0m    \u001b[0my\u001b[0m\u001b[1;33m=\u001b[0m\u001b[1;36m0\u001b[0m\u001b[1;33m,\u001b[0m\u001b[1;33m\n",
      "\u001b[0m    \u001b[0mtext\u001b[0m\u001b[1;33m=\u001b[0m\u001b[1;34m''\u001b[0m\u001b[1;33m,\u001b[0m\u001b[1;33m\n",
      "\u001b[0m    \u001b[1;33m*\u001b[0m\u001b[1;33m,\u001b[0m\u001b[1;33m\n",
      "\u001b[0m    \u001b[0mcolor\u001b[0m\u001b[1;33m=\u001b[0m\u001b[1;32mNone\u001b[0m\u001b[1;33m,\u001b[0m\u001b[1;33m\n",
      "\u001b[0m    \u001b[0mverticalalignment\u001b[0m\u001b[1;33m=\u001b[0m\u001b[1;34m'baseline'\u001b[0m\u001b[1;33m,\u001b[0m\u001b[1;33m\n",
      "\u001b[0m    \u001b[0mhorizontalalignment\u001b[0m\u001b[1;33m=\u001b[0m\u001b[1;34m'left'\u001b[0m\u001b[1;33m,\u001b[0m\u001b[1;33m\n",
      "\u001b[0m    \u001b[0mmultialignment\u001b[0m\u001b[1;33m=\u001b[0m\u001b[1;32mNone\u001b[0m\u001b[1;33m,\u001b[0m\u001b[1;33m\n",
      "\u001b[0m    \u001b[0mfontproperties\u001b[0m\u001b[1;33m=\u001b[0m\u001b[1;32mNone\u001b[0m\u001b[1;33m,\u001b[0m\u001b[1;33m\n",
      "\u001b[0m    \u001b[0mrotation\u001b[0m\u001b[1;33m=\u001b[0m\u001b[1;32mNone\u001b[0m\u001b[1;33m,\u001b[0m\u001b[1;33m\n",
      "\u001b[0m    \u001b[0mlinespacing\u001b[0m\u001b[1;33m=\u001b[0m\u001b[1;32mNone\u001b[0m\u001b[1;33m,\u001b[0m\u001b[1;33m\n",
      "\u001b[0m    \u001b[0mrotation_mode\u001b[0m\u001b[1;33m=\u001b[0m\u001b[1;32mNone\u001b[0m\u001b[1;33m,\u001b[0m\u001b[1;33m\n",
      "\u001b[0m    \u001b[0musetex\u001b[0m\u001b[1;33m=\u001b[0m\u001b[1;32mNone\u001b[0m\u001b[1;33m,\u001b[0m\u001b[1;33m\n",
      "\u001b[0m    \u001b[0mwrap\u001b[0m\u001b[1;33m=\u001b[0m\u001b[1;32mFalse\u001b[0m\u001b[1;33m,\u001b[0m\u001b[1;33m\n",
      "\u001b[0m    \u001b[0mtransform_rotates_text\u001b[0m\u001b[1;33m=\u001b[0m\u001b[1;32mFalse\u001b[0m\u001b[1;33m,\u001b[0m\u001b[1;33m\n",
      "\u001b[0m    \u001b[0mparse_math\u001b[0m\u001b[1;33m=\u001b[0m\u001b[1;32mNone\u001b[0m\u001b[1;33m,\u001b[0m\u001b[1;33m\n",
      "\u001b[0m    \u001b[0mantialiased\u001b[0m\u001b[1;33m=\u001b[0m\u001b[1;32mNone\u001b[0m\u001b[1;33m,\u001b[0m\u001b[1;33m\n",
      "\u001b[0m    \u001b[1;33m**\u001b[0m\u001b[0mkwargs\u001b[0m\u001b[1;33m,\u001b[0m\u001b[1;33m\n",
      "\u001b[0m\u001b[1;33m)\u001b[0m\u001b[1;33m\u001b[0m\u001b[1;33m\u001b[0m\u001b[0m\n",
      "\u001b[1;31mDocstring:\u001b[0m      Handle storing and drawing of text in window or data coordinates.\n",
      "\u001b[1;31mInit docstring:\u001b[0m\n",
      "Create a `.Text` instance at *x*, *y* with string *text*.\n",
      "\n",
      "The text is aligned relative to the anchor point (*x*, *y*) according\n",
      "to ``horizontalalignment`` (default: 'left') and ``verticalalignment``\n",
      "(default: 'bottom'). See also\n",
      ":doc:`/gallery/text_labels_and_annotations/text_alignment`.\n",
      "\n",
      "While Text accepts the 'label' keyword argument, by default it is not\n",
      "added to the handles of a legend.\n",
      "\n",
      "Valid keyword arguments are:\n",
      "\n",
      "Properties:\n",
      "    agg_filter: a filter function, which takes a (m, n, 3) float array and a dpi value, and returns a (m, n, 3) array and two offsets from the bottom left corner of the image\n",
      "    alpha: scalar or None\n",
      "    animated: bool\n",
      "    antialiased: bool\n",
      "    backgroundcolor: color\n",
      "    bbox: dict with properties for `.patches.FancyBboxPatch`\n",
      "    clip_box: unknown\n",
      "    clip_on: unknown\n",
      "    clip_path: unknown\n",
      "    color or c: color\n",
      "    figure: `~matplotlib.figure.Figure`\n",
      "    fontfamily or family or fontname: {FONTNAME, 'serif', 'sans-serif', 'cursive', 'fantasy', 'monospace'}\n",
      "    fontproperties or font or font_properties: `.font_manager.FontProperties` or `str` or `pathlib.Path`\n",
      "    fontsize or size: float or {'xx-small', 'x-small', 'small', 'medium', 'large', 'x-large', 'xx-large'}\n",
      "    fontstretch or stretch: {a numeric value in range 0-1000, 'ultra-condensed', 'extra-condensed', 'condensed', 'semi-condensed', 'normal', 'semi-expanded', 'expanded', 'extra-expanded', 'ultra-expanded'}\n",
      "    fontstyle or style: {'normal', 'italic', 'oblique'}\n",
      "    fontvariant or variant: {'normal', 'small-caps'}\n",
      "    fontweight or weight: {a numeric value in range 0-1000, 'ultralight', 'light', 'normal', 'regular', 'book', 'medium', 'roman', 'semibold', 'demibold', 'demi', 'bold', 'heavy', 'extra bold', 'black'}\n",
      "    gid: str\n",
      "    horizontalalignment or ha: {'left', 'center', 'right'}\n",
      "    in_layout: bool\n",
      "    label: object\n",
      "    linespacing: float (multiple of font size)\n",
      "    math_fontfamily: str\n",
      "    mouseover: bool\n",
      "    multialignment or ma: {'left', 'right', 'center'}\n",
      "    parse_math: bool\n",
      "    path_effects: list of `.AbstractPathEffect`\n",
      "    picker: None or bool or float or callable\n",
      "    position: (float, float)\n",
      "    rasterized: bool\n",
      "    rotation: float or {'vertical', 'horizontal'}\n",
      "    rotation_mode: {None, 'default', 'anchor'}\n",
      "    sketch_params: (scale: float, length: float, randomness: float)\n",
      "    snap: bool or None\n",
      "    text: object\n",
      "    transform: `~matplotlib.transforms.Transform`\n",
      "    transform_rotates_text: bool\n",
      "    url: str\n",
      "    usetex: bool or None\n",
      "    verticalalignment or va: {'bottom', 'baseline', 'center', 'center_baseline', 'top'}\n",
      "    visible: bool\n",
      "    wrap: bool\n",
      "    x: float\n",
      "    y: float\n",
      "    zorder: float\n",
      "\u001b[1;31mFile:\u001b[0m           c:\\users\\pyip\\miniconda3\\envs\\vscode-env\\lib\\site-packages\\matplotlib\\text.py\n",
      "\u001b[1;31mType:\u001b[0m           type\n",
      "\u001b[1;31mSubclasses:\u001b[0m     Annotation, ClabelText, Text3D"
     ]
    }
   ],
   "source": [
    "plt.Text?"
   ]
  },
  {
   "cell_type": "markdown",
   "metadata": {},
   "source": [
    "The properties of the ```list``` instance of ```Line2D``` classes can be examined:"
   ]
  },
  {
   "cell_type": "code",
   "execution_count": 102,
   "metadata": {},
   "outputs": [
    {
     "name": "stdout",
     "output_type": "stream",
     "text": [
      "    agg_filter = None\n",
      "    alpha = None\n",
      "    animated = False\n",
      "    antialiased or aa = True\n",
      "    bbox = Bbox(x0=0.0, y0=0.001, x1=5.0, y1=10.001)\n",
      "    children = []\n",
      "    clip_box = TransformedBbox(     Bbox(x0=0.0, y0=0.0, x1=1.0, ...\n",
      "    clip_on = True\n",
      "    clip_path = None\n",
      "    color or c = #1f77b4\n",
      "    dash_capstyle = butt\n",
      "    dash_joinstyle = round\n",
      "    data = (array([0, 1, 2, 3, 4, 5]), array([1.0000e-03, 2.0...\n",
      "    drawstyle or ds = default\n",
      "    figure = Figure(640x480)\n",
      "    fillstyle = full\n",
      "    gapcolor = None\n",
      "    gid = None\n",
      "    in_layout = True\n",
      "    label = _child0\n",
      "    linestyle or ls = -\n",
      "    linewidth or lw = 1.5\n",
      "    marker = None\n",
      "    markeredgecolor or mec = #1f77b4\n",
      "    markeredgewidth or mew = 1.0\n",
      "    markerfacecolor or mfc = #1f77b4\n",
      "    markerfacecoloralt or mfcalt = none\n",
      "    markersize or ms = 6.0\n",
      "    markevery = None\n",
      "    mouseover = False\n",
      "    path = Path(array([[0.0000e+00, 1.0000e-03],        [1.00...\n",
      "    path_effects = []\n",
      "    picker = None\n",
      "    pickradius = 5\n",
      "    rasterized = False\n",
      "    sketch_params = None\n",
      "    snap = None\n",
      "    solid_capstyle = projecting\n",
      "    solid_joinstyle = round\n",
      "    tightbbox = Bbox(x0=102.54545454545455, y0=69.6, x1=553.454545...\n",
      "    transform = CompositeGenericTransform(     TransformWrapper(  ...\n",
      "    transformed_clip_path_and_affine = (None, None)\n",
      "    url = None\n",
      "    visible = True\n",
      "    window_extent = Bbox(x0=102.54545454545455, y0=69.6, x1=553.454545...\n",
      "    xdata = [0 1 2 3 4 5]\n",
      "    xydata = [[0.0000e+00 1.0000e-03]  [1.0000e+00 2.0010e+00] ...\n",
      "    ydata = [1.0000e-03 2.0010e+00 3.9990e+00 5.9990e+00 8.002...\n",
      "    zorder = 2\n"
     ]
    }
   ],
   "source": [
    "plt.getp(line_list)"
   ]
  },
  {
   "cell_type": "markdown",
   "metadata": {},
   "source": [
    "Or of a single ```Line2D``` class can be examined:"
   ]
  },
  {
   "cell_type": "code",
   "execution_count": 101,
   "metadata": {},
   "outputs": [
    {
     "name": "stdout",
     "output_type": "stream",
     "text": [
      "    agg_filter = None\n",
      "    alpha = None\n",
      "    animated = False\n",
      "    antialiased or aa = True\n",
      "    bbox = Bbox(x0=0.0, y0=0.001, x1=5.0, y1=10.001)\n",
      "    children = []\n",
      "    clip_box = TransformedBbox(     Bbox(x0=0.0, y0=0.0, x1=1.0, ...\n",
      "    clip_on = True\n",
      "    clip_path = None\n",
      "    color or c = #1f77b4\n",
      "    dash_capstyle = butt\n",
      "    dash_joinstyle = round\n",
      "    data = (array([0, 1, 2, 3, 4, 5]), array([1.0000e-03, 2.0...\n",
      "    drawstyle or ds = default\n",
      "    figure = Figure(640x480)\n",
      "    fillstyle = full\n",
      "    gapcolor = None\n",
      "    gid = None\n",
      "    in_layout = True\n",
      "    label = _child0\n",
      "    linestyle or ls = -\n",
      "    linewidth or lw = 1.5\n",
      "    marker = None\n",
      "    markeredgecolor or mec = #1f77b4\n",
      "    markeredgewidth or mew = 1.0\n",
      "    markerfacecolor or mfc = #1f77b4\n",
      "    markerfacecoloralt or mfcalt = none\n",
      "    markersize or ms = 6.0\n",
      "    markevery = None\n",
      "    mouseover = False\n",
      "    path = Path(array([[0.0000e+00, 1.0000e-03],        [1.00...\n",
      "    path_effects = []\n",
      "    picker = None\n",
      "    pickradius = 5\n",
      "    rasterized = False\n",
      "    sketch_params = None\n",
      "    snap = None\n",
      "    solid_capstyle = projecting\n",
      "    solid_joinstyle = round\n",
      "    tightbbox = Bbox(x0=102.54545454545455, y0=69.6, x1=553.454545...\n",
      "    transform = CompositeGenericTransform(     TransformWrapper(  ...\n",
      "    transformed_clip_path_and_affine = (None, None)\n",
      "    url = None\n",
      "    visible = True\n",
      "    window_extent = Bbox(x0=102.54545454545455, y0=69.6, x1=553.454545...\n",
      "    xdata = [0 1 2 3 4 5]\n",
      "    xydata = [[0.0000e+00 1.0000e-03]  [1.0000e+00 2.0010e+00] ...\n",
      "    ydata = [1.0000e-03 2.0010e+00 3.9990e+00 5.9990e+00 8.002...\n",
      "    zorder = 2\n"
     ]
    }
   ],
   "source": [
    "plt.getp(line_list[0])"
   ]
  },
  {
   "cell_type": "markdown",
   "metadata": {},
   "source": [
    "The most commonly changed keyword input arguments match those shown in the docstring of the ```ax.plot``` classes initialisation signature:"
   ]
  },
  {
   "cell_type": "code",
   "execution_count": 100,
   "metadata": {},
   "outputs": [
    {
     "name": "stdout",
     "output_type": "stream",
     "text": [
      "\u001b[1;31mSignature:\u001b[0m \u001b[0max\u001b[0m\u001b[1;33m.\u001b[0m\u001b[0mplot\u001b[0m\u001b[1;33m(\u001b[0m\u001b[1;33m*\u001b[0m\u001b[0margs\u001b[0m\u001b[1;33m,\u001b[0m \u001b[0mscalex\u001b[0m\u001b[1;33m=\u001b[0m\u001b[1;32mTrue\u001b[0m\u001b[1;33m,\u001b[0m \u001b[0mscaley\u001b[0m\u001b[1;33m=\u001b[0m\u001b[1;32mTrue\u001b[0m\u001b[1;33m,\u001b[0m \u001b[0mdata\u001b[0m\u001b[1;33m=\u001b[0m\u001b[1;32mNone\u001b[0m\u001b[1;33m,\u001b[0m \u001b[1;33m**\u001b[0m\u001b[0mkwargs\u001b[0m\u001b[1;33m)\u001b[0m\u001b[1;33m\u001b[0m\u001b[1;33m\u001b[0m\u001b[0m\n",
      "\u001b[1;31mDocstring:\u001b[0m\n",
      "Plot y versus x as lines and/or markers.\n",
      "\n",
      "Call signatures::\n",
      "\n",
      "    plot([x], y, [fmt], *, data=None, **kwargs)\n",
      "    plot([x], y, [fmt], [x2], y2, [fmt2], ..., **kwargs)\n",
      "\n",
      "The coordinates of the points or line nodes are given by *x*, *y*.\n",
      "\n",
      "The optional parameter *fmt* is a convenient way for defining basic\n",
      "formatting like color, marker and linestyle. It's a shortcut string\n",
      "notation described in the *Notes* section below.\n",
      "\n",
      ">>> plot(x, y)        # plot x and y using default line style and color\n",
      ">>> plot(x, y, 'bo')  # plot x and y using blue circle markers\n",
      ">>> plot(y)           # plot y using x as index array 0..N-1\n",
      ">>> plot(y, 'r+')     # ditto, but with red plusses\n",
      "\n",
      "You can use `.Line2D` properties as keyword arguments for more\n",
      "control on the appearance. Line properties and *fmt* can be mixed.\n",
      "The following two calls yield identical results:\n",
      "\n",
      ">>> plot(x, y, 'go--', linewidth=2, markersize=12)\n",
      ">>> plot(x, y, color='green', marker='o', linestyle='dashed',\n",
      "...      linewidth=2, markersize=12)\n",
      "\n",
      "When conflicting with *fmt*, keyword arguments take precedence.\n",
      "\n",
      "\n",
      "**Plotting labelled data**\n",
      "\n",
      "There's a convenient way for plotting objects with labelled data (i.e.\n",
      "data that can be accessed by index ``obj['y']``). Instead of giving\n",
      "the data in *x* and *y*, you can provide the object in the *data*\n",
      "parameter and just give the labels for *x* and *y*::\n",
      "\n",
      ">>> plot('xlabel', 'ylabel', data=obj)\n",
      "\n",
      "All indexable objects are supported. This could e.g. be a `dict`, a\n",
      "`pandas.DataFrame` or a structured numpy array.\n",
      "\n",
      "\n",
      "**Plotting multiple sets of data**\n",
      "\n",
      "There are various ways to plot multiple sets of data.\n",
      "\n",
      "- The most straight forward way is just to call `plot` multiple times.\n",
      "  Example:\n",
      "\n",
      "  >>> plot(x1, y1, 'bo')\n",
      "  >>> plot(x2, y2, 'go')\n",
      "\n",
      "- If *x* and/or *y* are 2D arrays a separate data set will be drawn\n",
      "  for every column. If both *x* and *y* are 2D, they must have the\n",
      "  same shape. If only one of them is 2D with shape (N, m) the other\n",
      "  must have length N and will be used for every data set m.\n",
      "\n",
      "  Example:\n",
      "\n",
      "  >>> x = [1, 2, 3]\n",
      "  >>> y = np.array([[1, 2], [3, 4], [5, 6]])\n",
      "  >>> plot(x, y)\n",
      "\n",
      "  is equivalent to:\n",
      "\n",
      "  >>> for col in range(y.shape[1]):\n",
      "  ...     plot(x, y[:, col])\n",
      "\n",
      "- The third way is to specify multiple sets of *[x]*, *y*, *[fmt]*\n",
      "  groups::\n",
      "\n",
      "  >>> plot(x1, y1, 'g^', x2, y2, 'g-')\n",
      "\n",
      "  In this case, any additional keyword argument applies to all\n",
      "  datasets. Also, this syntax cannot be combined with the *data*\n",
      "  parameter.\n",
      "\n",
      "By default, each line is assigned a different style specified by a\n",
      "'style cycle'. The *fmt* and line property parameters are only\n",
      "necessary if you want explicit deviations from these defaults.\n",
      "Alternatively, you can also change the style cycle using\n",
      ":rc:`axes.prop_cycle`.\n",
      "\n",
      "\n",
      "Parameters\n",
      "----------\n",
      "x, y : array-like or scalar\n",
      "    The horizontal / vertical coordinates of the data points.\n",
      "    *x* values are optional and default to ``range(len(y))``.\n",
      "\n",
      "    Commonly, these parameters are 1D arrays.\n",
      "\n",
      "    They can also be scalars, or two-dimensional (in that case, the\n",
      "    columns represent separate data sets).\n",
      "\n",
      "    These arguments cannot be passed as keywords.\n",
      "\n",
      "fmt : str, optional\n",
      "    A format string, e.g. 'ro' for red circles. See the *Notes*\n",
      "    section for a full description of the format strings.\n",
      "\n",
      "    Format strings are just an abbreviation for quickly setting\n",
      "    basic line properties. All of these and more can also be\n",
      "    controlled by keyword arguments.\n",
      "\n",
      "    This argument cannot be passed as keyword.\n",
      "\n",
      "data : indexable object, optional\n",
      "    An object with labelled data. If given, provide the label names to\n",
      "    plot in *x* and *y*.\n",
      "\n",
      "    .. note::\n",
      "        Technically there's a slight ambiguity in calls where the\n",
      "        second label is a valid *fmt*. ``plot('n', 'o', data=obj)``\n",
      "        could be ``plt(x, y)`` or ``plt(y, fmt)``. In such cases,\n",
      "        the former interpretation is chosen, but a warning is issued.\n",
      "        You may suppress the warning by adding an empty format string\n",
      "        ``plot('n', 'o', '', data=obj)``.\n",
      "\n",
      "Returns\n",
      "-------\n",
      "list of `.Line2D`\n",
      "    A list of lines representing the plotted data.\n",
      "\n",
      "Other Parameters\n",
      "----------------\n",
      "scalex, scaley : bool, default: True\n",
      "    These parameters determine if the view limits are adapted to the\n",
      "    data limits. The values are passed on to\n",
      "    `~.axes.Axes.autoscale_view`.\n",
      "\n",
      "**kwargs : `~matplotlib.lines.Line2D` properties, optional\n",
      "    *kwargs* are used to specify properties like a line label (for\n",
      "    auto legends), linewidth, antialiasing, marker face color.\n",
      "    Example::\n",
      "\n",
      "    >>> plot([1, 2, 3], [1, 2, 3], 'go-', label='line 1', linewidth=2)\n",
      "    >>> plot([1, 2, 3], [1, 4, 9], 'rs', label='line 2')\n",
      "\n",
      "    If you specify multiple lines with one plot call, the kwargs apply\n",
      "    to all those lines. In case the label object is iterable, each\n",
      "    element is used as labels for each set of data.\n",
      "\n",
      "    Here is a list of available `.Line2D` properties:\n",
      "\n",
      "    Properties:\n",
      "    agg_filter: a filter function, which takes a (m, n, 3) float array and a dpi value, and returns a (m, n, 3) array and two offsets from the bottom left corner of the image\n",
      "    alpha: scalar or None\n",
      "    animated: bool\n",
      "    antialiased or aa: bool\n",
      "    clip_box: `~matplotlib.transforms.BboxBase` or None\n",
      "    clip_on: bool\n",
      "    clip_path: Patch or (Path, Transform) or None\n",
      "    color or c: color\n",
      "    dash_capstyle: `.CapStyle` or {'butt', 'projecting', 'round'}\n",
      "    dash_joinstyle: `.JoinStyle` or {'miter', 'round', 'bevel'}\n",
      "    dashes: sequence of floats (on/off ink in points) or (None, None)\n",
      "    data: (2, N) array or two 1D arrays\n",
      "    drawstyle or ds: {'default', 'steps', 'steps-pre', 'steps-mid', 'steps-post'}, default: 'default'\n",
      "    figure: `~matplotlib.figure.Figure`\n",
      "    fillstyle: {'full', 'left', 'right', 'bottom', 'top', 'none'}\n",
      "    gapcolor: color or None\n",
      "    gid: str\n",
      "    in_layout: bool\n",
      "    label: object\n",
      "    linestyle or ls: {'-', '--', '-.', ':', '', (offset, on-off-seq), ...}\n",
      "    linewidth or lw: float\n",
      "    marker: marker style string, `~.path.Path` or `~.markers.MarkerStyle`\n",
      "    markeredgecolor or mec: color\n",
      "    markeredgewidth or mew: float\n",
      "    markerfacecolor or mfc: color\n",
      "    markerfacecoloralt or mfcalt: color\n",
      "    markersize or ms: float\n",
      "    markevery: None or int or (int, int) or slice or list[int] or float or (float, float) or list[bool]\n",
      "    mouseover: bool\n",
      "    path_effects: list of `.AbstractPathEffect`\n",
      "    picker: float or callable[[Artist, Event], tuple[bool, dict]]\n",
      "    pickradius: float\n",
      "    rasterized: bool\n",
      "    sketch_params: (scale: float, length: float, randomness: float)\n",
      "    snap: bool or None\n",
      "    solid_capstyle: `.CapStyle` or {'butt', 'projecting', 'round'}\n",
      "    solid_joinstyle: `.JoinStyle` or {'miter', 'round', 'bevel'}\n",
      "    transform: unknown\n",
      "    url: str\n",
      "    visible: bool\n",
      "    xdata: 1D array\n",
      "    ydata: 1D array\n",
      "    zorder: float\n",
      "\n",
      "See Also\n",
      "--------\n",
      "scatter : XY scatter plot with markers of varying size and/or color (\n",
      "    sometimes also called bubble chart).\n",
      "\n",
      "Notes\n",
      "-----\n",
      "**Format Strings**\n",
      "\n",
      "A format string consists of a part for color, marker and line::\n",
      "\n",
      "    fmt = '[marker][line][color]'\n",
      "\n",
      "Each of them is optional. If not provided, the value from the style\n",
      "cycle is used. Exception: If ``line`` is given, but no ``marker``,\n",
      "the data will be a line without markers.\n",
      "\n",
      "Other combinations such as ``[color][marker][line]`` are also\n",
      "supported, but note that their parsing may be ambiguous.\n",
      "\n",
      "**Markers**\n",
      "\n",
      "=============   ===============================\n",
      "character       description\n",
      "=============   ===============================\n",
      "``'.'``         point marker\n",
      "``','``         pixel marker\n",
      "``'o'``         circle marker\n",
      "``'v'``         triangle_down marker\n",
      "``'^'``         triangle_up marker\n",
      "``'<'``         triangle_left marker\n",
      "``'>'``         triangle_right marker\n",
      "``'1'``         tri_down marker\n",
      "``'2'``         tri_up marker\n",
      "``'3'``         tri_left marker\n",
      "``'4'``         tri_right marker\n",
      "``'8'``         octagon marker\n",
      "``'s'``         square marker\n",
      "``'p'``         pentagon marker\n",
      "``'P'``         plus (filled) marker\n",
      "``'*'``         star marker\n",
      "``'h'``         hexagon1 marker\n",
      "``'H'``         hexagon2 marker\n",
      "``'+'``         plus marker\n",
      "``'x'``         x marker\n",
      "``'X'``         x (filled) marker\n",
      "``'D'``         diamond marker\n",
      "``'d'``         thin_diamond marker\n",
      "``'|'``         vline marker\n",
      "``'_'``         hline marker\n",
      "=============   ===============================\n",
      "\n",
      "**Line Styles**\n",
      "\n",
      "=============    ===============================\n",
      "character        description\n",
      "=============    ===============================\n",
      "``'-'``          solid line style\n",
      "``'--'``         dashed line style\n",
      "``'-.'``         dash-dot line style\n",
      "``':'``          dotted line style\n",
      "=============    ===============================\n",
      "\n",
      "Example format strings::\n",
      "\n",
      "    'b'    # blue markers with default shape\n",
      "    'or'   # red circles\n",
      "    '-g'   # green solid line\n",
      "    '--'   # dashed line with default color\n",
      "    '^k:'  # black triangle_up markers connected by a dotted line\n",
      "\n",
      "**Colors**\n",
      "\n",
      "The supported color abbreviations are the single letter codes\n",
      "\n",
      "=============    ===============================\n",
      "character        color\n",
      "=============    ===============================\n",
      "``'b'``          blue\n",
      "``'g'``          green\n",
      "``'r'``          red\n",
      "``'c'``          cyan\n",
      "``'m'``          magenta\n",
      "``'y'``          yellow\n",
      "``'k'``          black\n",
      "``'w'``          white\n",
      "=============    ===============================\n",
      "\n",
      "and the ``'CN'`` colors that index into the default property cycle.\n",
      "\n",
      "If the color is the only part of the format string, you can\n",
      "additionally use any  `matplotlib.colors` spec, e.g. full names\n",
      "(``'green'``) or hex strings (``'#008000'``).\n",
      "\u001b[1;31mFile:\u001b[0m      c:\\users\\pyip\\miniconda3\\envs\\vscode-env\\lib\\site-packages\\matplotlib\\axes\\_axes.py\n",
      "\u001b[1;31mType:\u001b[0m      method"
     ]
    }
   ],
   "source": [
    "ax.plot?"
   ]
  },
  {
   "cell_type": "markdown",
   "metadata": {},
   "source": [
    "The associated function ```plt.setp``` (set properties) can be used to set properties, for example:"
   ]
  },
  {
   "cell_type": "code",
   "execution_count": 106,
   "metadata": {},
   "outputs": [
    {
     "data": {
      "text/plain": [
       "[None, None, None]"
      ]
     },
     "execution_count": 106,
     "metadata": {},
     "output_type": "execute_result"
    },
    {
     "data": {
      "image/png": "[encoded data removed]",
      "text/plain": [
       "<Figure size 640x480 with 1 Axes>"
      ]
     },
     "metadata": {},
     "output_type": "display_data"
    }
   ],
   "source": [
    "fig = plt.figure()\n",
    "ax = fig.add_subplot(1, 1, 1)\n",
    "x_text = ax.set_xlabel('x')\n",
    "y_text = ax.set_ylabel('y')\n",
    "title_text = ax.set_title('y=f(x)')\n",
    "line_list = ax.plot(x, y)\n",
    "plt.setp(line_list[0], color='tomato', linewidth=3, linestyle=':')"
   ]
  },
  {
   "cell_type": "markdown",
   "metadata": {},
   "source": [
    "Instead of using ```plt.setp``` these can be supplied as input arguments for the plotting function. Normally only the ```mpl``` instances likely to be later accessed are assigned to instance names and the code above is written typically like:"
   ]
  },
  {
   "cell_type": "code",
   "execution_count": 109,
   "metadata": {},
   "outputs": [
    {
     "data": {
      "image/png": "[encoded data removed]",
      "text/plain": [
       "<Figure size 640x480 with 1 Axes>"
      ]
     },
     "metadata": {},
     "output_type": "display_data"
    }
   ],
   "source": [
    "fig, ax = plt.subplots()\n",
    "ax.set_xlabel('x')\n",
    "ax.set_ylabel('y')\n",
    "ax.set_title('y=f(x)')\n",
    "line_list = ax.plot(x, y, color='tomato', linewidth=3, linestyle=':')"
   ]
  },
  {
   "cell_type": "markdown",
   "metadata": {},
   "source": [
    "## Text"
   ]
  },
  {
   "cell_type": "markdown",
   "metadata": {},
   "source": [
    "The most commonly added ```Text``` to a plot are ```Axes``` labels:"
   ]
  },
  {
   "cell_type": "markdown",
   "metadata": {},
   "source": [
    "### Axes Labels"
   ]
  },
  {
   "cell_type": "code",
   "execution_count": 133,
   "metadata": {},
   "outputs": [
    {
     "data": {
      "image/png": "[encoded data removed]",
      "text/plain": [
       "<Figure size 640x480 with 1 Axes>"
      ]
     },
     "metadata": {},
     "output_type": "display_data"
    }
   ],
   "source": [
    "fig, ax = plt.subplots()\n",
    "ax.plot(x, y, color='tomato')\n",
    "ax.set_xlabel('x')\n",
    "ax.set_ylabel('y')\n",
    "ax.set_title('y=f(x)');"
   ]
  },
  {
   "cell_type": "markdown",
   "metadata": {},
   "source": [
    "The docstring of the ```Axes.set_xlabel``` method may be examined to see additional properties:"
   ]
  },
  {
   "cell_type": "code",
   "execution_count": 135,
   "metadata": {},
   "outputs": [
    {
     "name": "stdout",
     "output_type": "stream",
     "text": [
      "\u001b[1;31mSignature:\u001b[0m \u001b[0max\u001b[0m\u001b[1;33m.\u001b[0m\u001b[0mset_xlabel\u001b[0m\u001b[1;33m(\u001b[0m\u001b[0mxlabel\u001b[0m\u001b[1;33m,\u001b[0m \u001b[0mfontdict\u001b[0m\u001b[1;33m=\u001b[0m\u001b[1;32mNone\u001b[0m\u001b[1;33m,\u001b[0m \u001b[0mlabelpad\u001b[0m\u001b[1;33m=\u001b[0m\u001b[1;32mNone\u001b[0m\u001b[1;33m,\u001b[0m \u001b[1;33m*\u001b[0m\u001b[1;33m,\u001b[0m \u001b[0mloc\u001b[0m\u001b[1;33m=\u001b[0m\u001b[1;32mNone\u001b[0m\u001b[1;33m,\u001b[0m \u001b[1;33m**\u001b[0m\u001b[0mkwargs\u001b[0m\u001b[1;33m)\u001b[0m\u001b[1;33m\u001b[0m\u001b[1;33m\u001b[0m\u001b[0m\n",
      "\u001b[1;31mDocstring:\u001b[0m\n",
      "Set the label for the x-axis.\n",
      "\n",
      "Parameters\n",
      "----------\n",
      "xlabel : str\n",
      "    The label text.\n",
      "\n",
      "labelpad : float, default: :rc:`axes.labelpad`\n",
      "    Spacing in points from the Axes bounding box including ticks\n",
      "    and tick labels.  If None, the previous value is left as is.\n",
      "\n",
      "loc : {'left', 'center', 'right'}, default: :rc:`xaxis.labellocation`\n",
      "    The label position. This is a high-level alternative for passing\n",
      "    parameters *x* and *horizontalalignment*.\n",
      "\n",
      "Other Parameters\n",
      "----------------\n",
      "**kwargs : `~matplotlib.text.Text` properties\n",
      "    `.Text` properties control the appearance of the label.\n",
      "\n",
      "See Also\n",
      "--------\n",
      "text : Documents the properties supported by `.Text`.\n",
      "\u001b[1;31mFile:\u001b[0m      c:\\users\\pyip\\miniconda3\\envs\\vscode-env\\lib\\site-packages\\matplotlib\\axes\\_base.py\n",
      "\u001b[1;31mType:\u001b[0m      method"
     ]
    }
   ],
   "source": [
    "ax.set_xlabel?"
   ]
  },
  {
   "cell_type": "markdown",
   "metadata": {},
   "source": [
    "These are Text related so also have the following keyword input arguments:"
   ]
  },
  {
   "cell_type": "code",
   "execution_count": 136,
   "metadata": {},
   "outputs": [
    {
     "name": "stdout",
     "output_type": "stream",
     "text": [
      "\u001b[1;31mInit signature:\u001b[0m\n",
      "\u001b[0mplt\u001b[0m\u001b[1;33m.\u001b[0m\u001b[0mText\u001b[0m\u001b[1;33m(\u001b[0m\u001b[1;33m\n",
      "\u001b[0m    \u001b[0mx\u001b[0m\u001b[1;33m=\u001b[0m\u001b[1;36m0\u001b[0m\u001b[1;33m,\u001b[0m\u001b[1;33m\n",
      "\u001b[0m    \u001b[0my\u001b[0m\u001b[1;33m=\u001b[0m\u001b[1;36m0\u001b[0m\u001b[1;33m,\u001b[0m\u001b[1;33m\n",
      "\u001b[0m    \u001b[0mtext\u001b[0m\u001b[1;33m=\u001b[0m\u001b[1;34m''\u001b[0m\u001b[1;33m,\u001b[0m\u001b[1;33m\n",
      "\u001b[0m    \u001b[1;33m*\u001b[0m\u001b[1;33m,\u001b[0m\u001b[1;33m\n",
      "\u001b[0m    \u001b[0mcolor\u001b[0m\u001b[1;33m=\u001b[0m\u001b[1;32mNone\u001b[0m\u001b[1;33m,\u001b[0m\u001b[1;33m\n",
      "\u001b[0m    \u001b[0mverticalalignment\u001b[0m\u001b[1;33m=\u001b[0m\u001b[1;34m'baseline'\u001b[0m\u001b[1;33m,\u001b[0m\u001b[1;33m\n",
      "\u001b[0m    \u001b[0mhorizontalalignment\u001b[0m\u001b[1;33m=\u001b[0m\u001b[1;34m'left'\u001b[0m\u001b[1;33m,\u001b[0m\u001b[1;33m\n",
      "\u001b[0m    \u001b[0mmultialignment\u001b[0m\u001b[1;33m=\u001b[0m\u001b[1;32mNone\u001b[0m\u001b[1;33m,\u001b[0m\u001b[1;33m\n",
      "\u001b[0m    \u001b[0mfontproperties\u001b[0m\u001b[1;33m=\u001b[0m\u001b[1;32mNone\u001b[0m\u001b[1;33m,\u001b[0m\u001b[1;33m\n",
      "\u001b[0m    \u001b[0mrotation\u001b[0m\u001b[1;33m=\u001b[0m\u001b[1;32mNone\u001b[0m\u001b[1;33m,\u001b[0m\u001b[1;33m\n",
      "\u001b[0m    \u001b[0mlinespacing\u001b[0m\u001b[1;33m=\u001b[0m\u001b[1;32mNone\u001b[0m\u001b[1;33m,\u001b[0m\u001b[1;33m\n",
      "\u001b[0m    \u001b[0mrotation_mode\u001b[0m\u001b[1;33m=\u001b[0m\u001b[1;32mNone\u001b[0m\u001b[1;33m,\u001b[0m\u001b[1;33m\n",
      "\u001b[0m    \u001b[0musetex\u001b[0m\u001b[1;33m=\u001b[0m\u001b[1;32mNone\u001b[0m\u001b[1;33m,\u001b[0m\u001b[1;33m\n",
      "\u001b[0m    \u001b[0mwrap\u001b[0m\u001b[1;33m=\u001b[0m\u001b[1;32mFalse\u001b[0m\u001b[1;33m,\u001b[0m\u001b[1;33m\n",
      "\u001b[0m    \u001b[0mtransform_rotates_text\u001b[0m\u001b[1;33m=\u001b[0m\u001b[1;32mFalse\u001b[0m\u001b[1;33m,\u001b[0m\u001b[1;33m\n",
      "\u001b[0m    \u001b[0mparse_math\u001b[0m\u001b[1;33m=\u001b[0m\u001b[1;32mNone\u001b[0m\u001b[1;33m,\u001b[0m\u001b[1;33m\n",
      "\u001b[0m    \u001b[0mantialiased\u001b[0m\u001b[1;33m=\u001b[0m\u001b[1;32mNone\u001b[0m\u001b[1;33m,\u001b[0m\u001b[1;33m\n",
      "\u001b[0m    \u001b[1;33m**\u001b[0m\u001b[0mkwargs\u001b[0m\u001b[1;33m,\u001b[0m\u001b[1;33m\n",
      "\u001b[0m\u001b[1;33m)\u001b[0m\u001b[1;33m\u001b[0m\u001b[1;33m\u001b[0m\u001b[0m\n",
      "\u001b[1;31mDocstring:\u001b[0m      Handle storing and drawing of text in window or data coordinates.\n",
      "\u001b[1;31mInit docstring:\u001b[0m\n",
      "Create a `.Text` instance at *x*, *y* with string *text*.\n",
      "\n",
      "The text is aligned relative to the anchor point (*x*, *y*) according\n",
      "to ``horizontalalignment`` (default: 'left') and ``verticalalignment``\n",
      "(default: 'bottom'). See also\n",
      ":doc:`/gallery/text_labels_and_annotations/text_alignment`.\n",
      "\n",
      "While Text accepts the 'label' keyword argument, by default it is not\n",
      "added to the handles of a legend.\n",
      "\n",
      "Valid keyword arguments are:\n",
      "\n",
      "Properties:\n",
      "    agg_filter: a filter function, which takes a (m, n, 3) float array and a dpi value, and returns a (m, n, 3) array and two offsets from the bottom left corner of the image\n",
      "    alpha: scalar or None\n",
      "    animated: bool\n",
      "    antialiased: bool\n",
      "    backgroundcolor: color\n",
      "    bbox: dict with properties for `.patches.FancyBboxPatch`\n",
      "    clip_box: unknown\n",
      "    clip_on: unknown\n",
      "    clip_path: unknown\n",
      "    color or c: color\n",
      "    figure: `~matplotlib.figure.Figure`\n",
      "    fontfamily or family or fontname: {FONTNAME, 'serif', 'sans-serif', 'cursive', 'fantasy', 'monospace'}\n",
      "    fontproperties or font or font_properties: `.font_manager.FontProperties` or `str` or `pathlib.Path`\n",
      "    fontsize or size: float or {'xx-small', 'x-small', 'small', 'medium', 'large', 'x-large', 'xx-large'}\n",
      "    fontstretch or stretch: {a numeric value in range 0-1000, 'ultra-condensed', 'extra-condensed', 'condensed', 'semi-condensed', 'normal', 'semi-expanded', 'expanded', 'extra-expanded', 'ultra-expanded'}\n",
      "    fontstyle or style: {'normal', 'italic', 'oblique'}\n",
      "    fontvariant or variant: {'normal', 'small-caps'}\n",
      "    fontweight or weight: {a numeric value in range 0-1000, 'ultralight', 'light', 'normal', 'regular', 'book', 'medium', 'roman', 'semibold', 'demibold', 'demi', 'bold', 'heavy', 'extra bold', 'black'}\n",
      "    gid: str\n",
      "    horizontalalignment or ha: {'left', 'center', 'right'}\n",
      "    in_layout: bool\n",
      "    label: object\n",
      "    linespacing: float (multiple of font size)\n",
      "    math_fontfamily: str\n",
      "    mouseover: bool\n",
      "    multialignment or ma: {'left', 'right', 'center'}\n",
      "    parse_math: bool\n",
      "    path_effects: list of `.AbstractPathEffect`\n",
      "    picker: None or bool or float or callable\n",
      "    position: (float, float)\n",
      "    rasterized: bool\n",
      "    rotation: float or {'vertical', 'horizontal'}\n",
      "    rotation_mode: {None, 'default', 'anchor'}\n",
      "    sketch_params: (scale: float, length: float, randomness: float)\n",
      "    snap: bool or None\n",
      "    text: object\n",
      "    transform: `~matplotlib.transforms.Transform`\n",
      "    transform_rotates_text: bool\n",
      "    url: str\n",
      "    usetex: bool or None\n",
      "    verticalalignment or va: {'bottom', 'baseline', 'center', 'center_baseline', 'top'}\n",
      "    visible: bool\n",
      "    wrap: bool\n",
      "    x: float\n",
      "    y: float\n",
      "    zorder: float\n",
      "\u001b[1;31mFile:\u001b[0m           c:\\users\\pyip\\miniconda3\\envs\\vscode-env\\lib\\site-packages\\matplotlib\\text.py\n",
      "\u001b[1;31mType:\u001b[0m           type\n",
      "\u001b[1;31mSubclasses:\u001b[0m     Annotation, ClabelText, Text3D"
     ]
    }
   ],
   "source": [
    "plt.Text?"
   ]
  },
  {
   "cell_type": "markdown",
   "metadata": {},
   "source": [
    "For example the following changes can be made to the xlabel;"
   ]
  },
  {
   "cell_type": "code",
   "execution_count": 137,
   "metadata": {},
   "outputs": [
    {
     "data": {
      "image/png": "[encoded data removed]",
      "text/plain": [
       "<Figure size 640x480 with 1 Axes>"
      ]
     },
     "metadata": {},
     "output_type": "display_data"
    }
   ],
   "source": [
    "fig, ax = plt.subplots(num=1);\n",
    "ax.plot(x, y, color='tomato');\n",
    "ax.set_xlabel('xlabel', loc='left', color='tomato', rotation=270);"
   ]
  },
  {
   "cell_type": "markdown",
   "metadata": {},
   "source": [
    "### Labels and LaTeX (MathJax)"
   ]
  },
  {
   "cell_type": "markdown",
   "metadata": {},
   "source": [
    "The labels also support some basic LaTeX in the form of MathJax. Commonly used symbols include:"
   ]
  },
  {
   "cell_type": "markdown",
   "metadata": {},
   "source": [
    "LaTeX Text (MathJax)\n",
    "\n",
    "|description|LaTeX|output|\n",
    "|---|---|---|\n",
    "|math text|```$x$```|$x$|\n",
    "|normal text|```$\\text{x}$```|$\\text{x}$|\n",
    "|bold text|```$\\textbf{x}$```|$\\textbf{x}$|\n",
    "|math text with dot|```$\\dot{x}$```|$\\dot{x}$|\n",
    "|math text with double dot|```$\\ddot{x}$```|$\\ddot{x}$|\n",
    "|math text with triple dot|```$\\dddot{x}$```|$\\dddot{x}$|\n",
    "|math text with bar|```$\\bar{x}$```|$\\bar{x}$|\n",
    "|math text with hat|```$\\hat{x}$```|$\\hat{x}$|\n",
    "|math text with arrow vector|```$\\vec{x}$```|$\\vec{x}$|\n",
    "|math text with tilde|```$\\tilde{x}$```|$\\tilde{x}$|\n",
    "|math text with wide tilde|```$\\widetilde{xx}$```|$\\widetilde{xx}$|\n",
    "|math text with check|```$\\check{x}$```|$\\check{x}$|\n",
    "|math text with acute|```$\\acute{x}$```|$\\acute{x}$|\n",
    "|math text with grave|```$\\grave{x}$```|$\\grave{x}$|\n",
    "|math text with breve|```$\\breve{x}$```|$\\breve{x}$|\n",
    "|subscript|```$x_{2}$```|$x_{2}$|\n",
    "|superscript|```$x^{3}$```|$x^{3}$|\n",
    "|subscript and superscript|```$x_{2}^{3}$```|$x_{2}^{3}$|\n",
    "|square root|```$\\sqrt{x}$```|$\\sqrt{x}$|\n",
    "|sin|```$\\sin{x}$```|$\\sin{x}$|\n",
    "|cos|```$\\cos{x}$```|$\\cos{x}$|\n",
    "|tan|```$\\tan{x}$```|$\\tan{x}$|\n",
    "|log|```$\\log{x}$```|$\\log{x}$|\n",
    "|exp|```$\\exp{x}$```|$\\exp{x}$|\n",
    "\n",
    "LaTeX Mathematical Symbols (MathJax)\n",
    "\n",
    "|description|LaTeX|output|\n",
    "|---|---|---|\n",
    "|equal to|```$=$```|$=$|\n",
    "|equivalent to|```$\\equiv$```|$\\equiv$|\n",
    "|not equal to|```$\\ne$```|$\\ne$|\n",
    "|similar to|```$\\sim$```|$\\sim$|\n",
    "|approximate to|```$\\approx$```|$\\approx$|\n",
    "|tilde|```$\\textasciitilde$```|$\\textasciitilde$|\n",
    "|approximately equal to|```$\\cong$```|$\\cong$|\n",
    "|plus|```$+$```|$+$|\n",
    "|minus|```$-$```|$-$|\n",
    "|plus minus|```$\\pm$```|$\\pm$|\n",
    "|minus plus|```$\\mp$```|$\\mp$|\n",
    "|dash|```$\\text{-}$```|$\\text{-}$|\n",
    "|circumflex|```$\\textasciicircum$```|$\\textasciicircum$|\n",
    "|asterisk|```$\\ast$```|$\\ast$|\n",
    "|star|```$\\text{\\*}$```|$\\text{\\*}$|\n",
    "|times|```$\\times$```|$\\times$|\n",
    "|centre dot|```$\\cdot$```|$\\cdot$|\n",
    "|period|```$.$```|$.$|\n",
    "|bullet|```$\\bullet$```|$\\bullet$|\n",
    "|colon|```$\\colon$```|$\\colon$|\n",
    "|centre dots|```$\\cdots$```|$\\cdots$|\n",
    "|vertical dots|```$\\vdots$```|$\\vdots$|\n",
    "|therefore|```$\\therefore$```|$\\therefore$|\n",
    "|division slash|```$/$```|$/$|\n",
    "|division sign|```$\\div$```|$\\div$|\n",
    "|less than|```$<$```|$<$|\n",
    "|less than or equal to|```$\\leq$```|$\\leq$|\n",
    "|greater than|```$>$```|$>$|\n",
    "|greater than or equal to|```$\\geq$```|$\\geq$|\n",
    "|factorial|```$!$```|$!$|\n",
    "|degree|```$\\degree$```|$\\degree$|\n",
    "|infinity|```$\\infty$```|$\\infty$|\n",
    "|proportional to|```$\\propto$```|$\\propto$|\n",
    "|partial|```$\\partial$```|$\\partial$|\n",
    "|hbar|```$\\hbar$```|$\\hbar$|\n",
    "|union|```$\\cup$```|$\\cup$|\n",
    "|intersection|```$\\cap$```|$\\cap$|\n",
    "|emptyset|```$\\emptyset$```|$\\emptyset$|\n",
    "|exists|```$\\exists$```|$\\exists$|\n",
    "|in|```$\\in$```|$\\in$|\n",
    "|not in|```$\\notin$```|$\\notin$|\n",
    "|ni|```$\\ni$```|$\\ni$|\n",
    "|left arrow|```$\\leftarrow$```|$\\leftarrow$|\n",
    "|right arrow|```$\\rightarrow$```|$\\rightarrow$|\n",
    "|left right arrow|```$\\leftrightarrow$```|$\\leftrightarrow$|\n",
    "|up arrow|```$\\uparrow$```|$\\uparrow$|\n",
    "|down arrow|```$\\uparrow$```|$\\downarrow$|\n",
    "|up down arrow|```$\\updownarrow$```|$\\updownarrow$|\n",
    "\n",
    "LaTeX Greek Letters (MathJax)\n",
    "\n",
    "|description|LaTeX|output|\n",
    "|---|---|---|\n",
    "|alpha|```$\\alpha$```|$\\alpha$|\n",
    "|beta|```$\\beta$```|$\\beta$|\n",
    "|Gamma|```$\\Gamma$```|$\\Gamma$|\n",
    "|gamma|```$\\gamma$```|$\\gamma$|\n",
    "|Delta|```$\\Delta$```|$\\Delta$|\n",
    "|delta|```$\\delta$```|$\\delta$|\n",
    "|nabla|```$\\nabla$```|$\\nabla$|\n",
    "|epsilon|```$\\epsilon$```|$\\epsilon$|\n",
    "|epsilon|```$\\varepsilon$```|$\\varepsilon$|\n",
    "|zeta|```$\\zeta$```|$\\zeta$|\n",
    "|eta|```$\\eta$```|$\\eta$|\n",
    "|kappa|```$\\kappa$```|$\\kappa$|\n",
    "|Lambda|```$\\Lamba$```|$\\Lambda$|\n",
    "|mu|```$\\mu$```|$\\mu$|\n",
    "|Xi|```$\\Xi$```|$\\Xi$|\n",
    "|xi|```$\\xi$```|$\\xi$|\n",
    "|Pi|```$\\Pi$```|$\\Pi$|\n",
    "|pi|```$\\pi$```|$\\pi$|\n",
    "|rho|```$\\rho$```|$\\rho$|\n",
    "|Sigma|```$\\Sigma$```|$\\Sigma$|\n",
    "|sigma|```$\\sigma$```|$\\sigma$|\n",
    "|sigma|```$\\varsigma$```|$\\varsigma$|\n",
    "|tau|```$\\tau$```|$\\tau$|\n",
    "|Upsilon|```$\\Upsilon$```|$\\Upsilon$|\n",
    "|upsilon|```$\\upsilon$```|$\\upsilon$|\n",
    "|Phi|```$\\Phi$```|$\\Phi$|\n",
    "|phi|```$\\phi$```|$\\phi$|\n",
    "|chi|```$\\chi$```|$\\chi$|\n",
    "|Psi|```$\\Psi$```|$\\Psi$|\n",
    "|psi|```$\\psi$```|$\\psi$|\n",
    "|Omega|```$\\Omega$```|$\\Omega$|\n",
    "|omega|```$\\omega$```|$\\omega$|\n",
    "\n",
    "Note the Greek letters A, B, E, Z, H, I, i, K, M, N, O, o and P that are the same as Latin letters are therefore just represented using the Latin letters.\n",
    "\n",
    "LaTeX Fractions (MathJax)\n",
    "\n",
    "|description|LaTeX|output|\n",
    "|---|---|---|\n",
    "|inline fraction|```$\\frac{a}{b}$```|$\\frac{a}{b}$|\n",
    "\n",
    "LaTeX Brackets (MathJax)\n",
    "\n",
    "|description|LaTeX|output|\n",
    "|---|---|---|\n",
    "|inline fraction parenthesis|```$(\\frac{a}{b})$```|$(\\frac{a}{b})$|\n",
    "|inline fraction square|```$[\\frac{a}{b}]$```|$[\\frac{a}{b}]$|\n",
    "|inline fraction braces|```$\\lbrace\\frac{a}{b}\\rbrace$```|$\\lbrace\\frac{a}{b} \\rbrace$|\n",
    "\n",
    "The ```{``` and ```}``` are reserved so ```\\lbrace``` and ```\\rbrace``` need to be used."
   ]
  },
  {
   "cell_type": "markdown",
   "metadata": {},
   "source": [
    "Input any code containing LaTeX as a raw ```str```. The LaTeX will be processed but use the default font in ```mpl```. Supplying the additional keyword input argument ```usetex=True``` will attempt to process the plot with LaTeX but there are often issues with LaTeX setup:"
   ]
  },
  {
   "cell_type": "code",
   "execution_count": 143,
   "metadata": {},
   "outputs": [
    {
     "data": {
      "image/png": "[encoded data removed]",
      "text/plain": [
       "<Figure size 640x480 with 1 Axes>"
      ]
     },
     "metadata": {},
     "output_type": "display_data"
    }
   ],
   "source": [
    "fig, ax = plt.subplots()\n",
    "ax.plot(x, y, color='tomato')\n",
    "ax.set_xlabel(r'$x$')\n",
    "ax.set_ylabel(r'$y$')\n",
    "ax.set_title(r'$y$=f($x$)');"
   ]
  },
  {
   "cell_type": "code",
   "execution_count": 139,
   "metadata": {},
   "outputs": [
    {
     "data": {
      "image/png": "[encoded data removed]",
      "text/plain": [
       "<Figure size 640x480 with 1 Axes>"
      ]
     },
     "metadata": {},
     "output_type": "display_data"
    }
   ],
   "source": [
    "fig, ax = plt.subplots(num=1)\n",
    "ax.plot(x, y, color='tomato')\n",
    "ax.set_xlabel(r'$\\dot{\\alpha}$')\n",
    "ax.set_ylabel(r'$\\ddot{\\beta}$')\n",
    "ax.set_title(r'$\\ddot{\\beta}$=f$(\\frac{\\dot{\\alpha}}{1})$');"
   ]
  },
  {
   "cell_type": "markdown",
   "metadata": {},
   "source": [
    "### Annotations"
   ]
  },
  {
   "attachments": {},
   "cell_type": "markdown",
   "metadata": {},
   "source": [
    "Annotations can be added using the method ```Axes.annotate``` or function ```plt.annotate```:"
   ]
  },
  {
   "cell_type": "code",
   "execution_count": 144,
   "metadata": {},
   "outputs": [
    {
     "name": "stdout",
     "output_type": "stream",
     "text": [
      "\u001b[1;31mSignature:\u001b[0m\n",
      "\u001b[0max\u001b[0m\u001b[1;33m.\u001b[0m\u001b[0mannotate\u001b[0m\u001b[1;33m(\u001b[0m\u001b[1;33m\n",
      "\u001b[0m    \u001b[0mtext\u001b[0m\u001b[1;33m,\u001b[0m\u001b[1;33m\n",
      "\u001b[0m    \u001b[0mxy\u001b[0m\u001b[1;33m,\u001b[0m\u001b[1;33m\n",
      "\u001b[0m    \u001b[0mxytext\u001b[0m\u001b[1;33m=\u001b[0m\u001b[1;32mNone\u001b[0m\u001b[1;33m,\u001b[0m\u001b[1;33m\n",
      "\u001b[0m    \u001b[0mxycoords\u001b[0m\u001b[1;33m=\u001b[0m\u001b[1;34m'data'\u001b[0m\u001b[1;33m,\u001b[0m\u001b[1;33m\n",
      "\u001b[0m    \u001b[0mtextcoords\u001b[0m\u001b[1;33m=\u001b[0m\u001b[1;32mNone\u001b[0m\u001b[1;33m,\u001b[0m\u001b[1;33m\n",
      "\u001b[0m    \u001b[0marrowprops\u001b[0m\u001b[1;33m=\u001b[0m\u001b[1;32mNone\u001b[0m\u001b[1;33m,\u001b[0m\u001b[1;33m\n",
      "\u001b[0m    \u001b[0mannotation_clip\u001b[0m\u001b[1;33m=\u001b[0m\u001b[1;32mNone\u001b[0m\u001b[1;33m,\u001b[0m\u001b[1;33m\n",
      "\u001b[0m    \u001b[1;33m**\u001b[0m\u001b[0mkwargs\u001b[0m\u001b[1;33m,\u001b[0m\u001b[1;33m\n",
      "\u001b[0m\u001b[1;33m)\u001b[0m\u001b[1;33m\u001b[0m\u001b[1;33m\u001b[0m\u001b[0m\n",
      "\u001b[1;31mDocstring:\u001b[0m\n",
      "Annotate the point *xy* with text *text*.\n",
      "\n",
      "In the simplest form, the text is placed at *xy*.\n",
      "\n",
      "Optionally, the text can be displayed in another position *xytext*.\n",
      "An arrow pointing from the text to the annotated point *xy* can then\n",
      "be added by defining *arrowprops*.\n",
      "\n",
      "Parameters\n",
      "----------\n",
      "text : str\n",
      "    The text of the annotation.\n",
      "\n",
      "xy : (float, float)\n",
      "    The point *(x, y)* to annotate. The coordinate system is determined\n",
      "    by *xycoords*.\n",
      "\n",
      "xytext : (float, float), default: *xy*\n",
      "    The position *(x, y)* to place the text at. The coordinate system\n",
      "    is determined by *textcoords*.\n",
      "\n",
      "xycoords : single or two-tuple of str or `.Artist` or `.Transform` or callable, default: 'data'\n",
      "\n",
      "    The coordinate system that *xy* is given in. The following types\n",
      "    of values are supported:\n",
      "\n",
      "    - One of the following strings:\n",
      "\n",
      "      ==================== ============================================\n",
      "      Value                Description\n",
      "      ==================== ============================================\n",
      "      'figure points'      Points from the lower left of the figure\n",
      "      'figure pixels'      Pixels from the lower left of the figure\n",
      "      'figure fraction'    Fraction of figure from lower left\n",
      "      'subfigure points'   Points from the lower left of the subfigure\n",
      "      'subfigure pixels'   Pixels from the lower left of the subfigure\n",
      "      'subfigure fraction' Fraction of subfigure from lower left\n",
      "      'axes points'        Points from lower left corner of axes\n",
      "      'axes pixels'        Pixels from lower left corner of axes\n",
      "      'axes fraction'      Fraction of axes from lower left\n",
      "      'data'               Use the coordinate system of the object\n",
      "                           being annotated (default)\n",
      "      'polar'              *(theta, r)* if not native 'data'\n",
      "                           coordinates\n",
      "      ==================== ============================================\n",
      "\n",
      "      Note that 'subfigure pixels' and 'figure pixels' are the same\n",
      "      for the parent figure, so users who want code that is usable in\n",
      "      a subfigure can use 'subfigure pixels'.\n",
      "\n",
      "    - An `.Artist`: *xy* is interpreted as a fraction of the artist's\n",
      "      `~matplotlib.transforms.Bbox`. E.g. *(0, 0)* would be the lower\n",
      "      left corner of the bounding box and *(0.5, 1)* would be the\n",
      "      center top of the bounding box.\n",
      "\n",
      "    - A `.Transform` to transform *xy* to screen coordinates.\n",
      "\n",
      "    - A function with one of the following signatures::\n",
      "\n",
      "        def transform(renderer) -> Bbox\n",
      "        def transform(renderer) -> Transform\n",
      "\n",
      "      where *renderer* is a `.RendererBase` subclass.\n",
      "\n",
      "      The result of the function is interpreted like the `.Artist` and\n",
      "      `.Transform` cases above.\n",
      "\n",
      "    - A tuple *(xcoords, ycoords)* specifying separate coordinate\n",
      "      systems for *x* and *y*. *xcoords* and *ycoords* must each be\n",
      "      of one of the above described types.\n",
      "\n",
      "    See :ref:`plotting-guide-annotation` for more details.\n",
      "\n",
      "textcoords : single or two-tuple of str or `.Artist` or `.Transform` or callable, default: value of *xycoords*\n",
      "    The coordinate system that *xytext* is given in.\n",
      "\n",
      "    All *xycoords* values are valid as well as the following strings:\n",
      "\n",
      "    =================   =================================================\n",
      "    Value               Description\n",
      "    =================   =================================================\n",
      "    'offset points'     Offset, in points, from the *xy* value\n",
      "    'offset pixels'     Offset, in pixels, from the *xy* value\n",
      "    'offset fontsize'   Offset, relative to fontsize, from the *xy* value\n",
      "    =================   =================================================\n",
      "\n",
      "arrowprops : dict, optional\n",
      "    The properties used to draw a `.FancyArrowPatch` arrow between the\n",
      "    positions *xy* and *xytext*.  Defaults to None, i.e. no arrow is\n",
      "    drawn.\n",
      "\n",
      "    For historical reasons there are two different ways to specify\n",
      "    arrows, \"simple\" and \"fancy\":\n",
      "\n",
      "    **Simple arrow:**\n",
      "\n",
      "    If *arrowprops* does not contain the key 'arrowstyle' the\n",
      "    allowed keys are:\n",
      "\n",
      "    ==========  =================================================\n",
      "    Key         Description\n",
      "    ==========  =================================================\n",
      "    width       The width of the arrow in points\n",
      "    headwidth   The width of the base of the arrow head in points\n",
      "    headlength  The length of the arrow head in points\n",
      "    shrink      Fraction of total length to shrink from both ends\n",
      "    ?           Any `.FancyArrowPatch` property\n",
      "    ==========  =================================================\n",
      "\n",
      "    The arrow is attached to the edge of the text box, the exact\n",
      "    position (corners or centers) depending on where it's pointing to.\n",
      "\n",
      "    **Fancy arrow:**\n",
      "\n",
      "    This is used if 'arrowstyle' is provided in the *arrowprops*.\n",
      "\n",
      "    Valid keys are the following `.FancyArrowPatch` parameters:\n",
      "\n",
      "    ===============  ===================================\n",
      "    Key              Description\n",
      "    ===============  ===================================\n",
      "    arrowstyle       The arrow style\n",
      "    connectionstyle  The connection style\n",
      "    relpos           See below; default is (0.5, 0.5)\n",
      "    patchA           Default is bounding box of the text\n",
      "    patchB           Default is None\n",
      "    shrinkA          Default is 2 points\n",
      "    shrinkB          Default is 2 points\n",
      "    mutation_scale   Default is text size (in points)\n",
      "    mutation_aspect  Default is 1\n",
      "    ?                Any `.FancyArrowPatch` property\n",
      "    ===============  ===================================\n",
      "\n",
      "    The exact starting point position of the arrow is defined by\n",
      "    *relpos*. It's a tuple of relative coordinates of the text box,\n",
      "    where (0, 0) is the lower left corner and (1, 1) is the upper\n",
      "    right corner. Values <0 and >1 are supported and specify points\n",
      "    outside the text box. By default (0.5, 0.5), so the starting point\n",
      "    is centered in the text box.\n",
      "\n",
      "annotation_clip : bool or None, default: None\n",
      "    Whether to clip (i.e. not draw) the annotation when the annotation\n",
      "    point *xy* is outside the axes area.\n",
      "\n",
      "    - If *True*, the annotation will be clipped when *xy* is outside\n",
      "      the axes.\n",
      "    - If *False*, the annotation will always be drawn.\n",
      "    - If *None*, the annotation will be clipped when *xy* is outside\n",
      "      the axes and *xycoords* is 'data'.\n",
      "\n",
      "**kwargs\n",
      "    Additional kwargs are passed to `.Text`.\n",
      "\n",
      "Returns\n",
      "-------\n",
      "`.Annotation`\n",
      "\n",
      "See Also\n",
      "--------\n",
      ":ref:`plotting-guide-annotation`\n",
      "\u001b[1;31mFile:\u001b[0m      c:\\users\\pyip\\miniconda3\\envs\\vscode-env\\lib\\site-packages\\matplotlib\\axes\\_axes.py\n",
      "\u001b[1;31mType:\u001b[0m      method"
     ]
    }
   ],
   "source": [
    "ax.annotate?"
   ]
  },
  {
   "attachments": {},
   "cell_type": "markdown",
   "metadata": {},
   "source": [
    "The annotation takes in a number of keyword input arguments. \n",
    "\n",
    "In the simplest case, ```text``` is the text to be annotated and ```xy``` is a tuple of the co-ordinates using the units specified in ```xycoords```.\n",
    "\n",
    "More generally a specific data point at ```xy``` is annotated using text at ```xytext``` and an arrow is drawn from ```xytext``` to ```xy```. \n",
    "\n",
    "The keyword argument ```arrowprops``` is a ```dict``` of arrow properties. The default Python syntax ```{}``` can be used for the ```dict``` instance however often instantiation of the ```dict``` class using named parameters is preferred. Instantiation of a ```dict``` using the ```dict``` class matches the format of input arguments used elsewhere in the function call:"
   ]
  },
  {
   "cell_type": "code",
   "execution_count": 146,
   "metadata": {},
   "outputs": [
    {
     "data": {
      "text/plain": [
       "Text(4, 6, 'customarrow')"
      ]
     },
     "execution_count": 146,
     "metadata": {},
     "output_type": "execute_result"
    },
    {
     "data": {
      "image/png": "[encoded data removed]",
      "text/plain": [
       "<Figure size 640x480 with 1 Axes>"
      ]
     },
     "metadata": {},
     "output_type": "display_data"
    }
   ],
   "source": [
    "fig, ax = plt.subplots()\n",
    "ax.plot(x, y, color='tomato')\n",
    "\n",
    "ax.annotate(text='noarrow', xy=(0.5, 1), xycoords='data')\n",
    "\n",
    "ax.annotate(text='fancyarrow', xy=(1, 2), xytext=(1, 4), xycoords='data', color='dodgerblue', \n",
    "            arrowprops={'color': 'magenta', 'arrowstyle': 'fancy'})\n",
    "ax.annotate(text='fancyarrow', xy=(2, 4), xytext=(2, 6), xycoords='data', \n",
    "            arrowprops={'facecolor': 'magenta', 'edgecolor': 'cyan', 'arrowstyle': 'fancy'})\n",
    "ax.annotate(text='simplearrow', xy=(3, 6), xytext=(3, 4), xycoords='data', \n",
    "            arrowprops={'facecolor': 'lime', 'edgecolor': 'yellow', 'arrowstyle': 'simple'})\n",
    "\n",
    "ax.annotate(text='customarrow', xy=(4, 8), xytext=(4, 6), xycoords='data', \n",
    "            arrowprops=dict(facecolor='royalblue', edgecolor='skyblue', headlength=10, headwidth=10, linewidth=2))"
   ]
  },
  {
   "attachments": {},
   "cell_type": "markdown",
   "metadata": {},
   "source": [
    "## Axes Limits"
   ]
  },
  {
   "attachments": {},
   "cell_type": "markdown",
   "metadata": {},
   "source": [
    "The Axes limits are automatically determined from the data:"
   ]
  },
  {
   "cell_type": "code",
   "execution_count": 151,
   "metadata": {},
   "outputs": [
    {
     "data": {
      "text/plain": [
       "[<matplotlib.lines.Line2D at 0x219fb5ddfd0>]"
      ]
     },
     "execution_count": 151,
     "metadata": {},
     "output_type": "execute_result"
    },
    {
     "data": {
      "image/png": "[encoded data removed]",
      "text/plain": [
       "<Figure size 640x480 with 2 Axes>"
      ]
     },
     "metadata": {},
     "output_type": "display_data"
    }
   ],
   "source": [
    "fig = plt.figure()\n",
    "ax1 = fig.add_axes(rect=AxesRect(left=0, bottom=0, width=1, height=1))\n",
    "ax1.plot(x, y**2, color='tomato')\n",
    "ax2 = fig.add_axes(rect=AxesRect(left=0.1, bottom=0.55, width=0.4, height=0.4))\n",
    "ax2.plot(x, y**2, color='tomato')"
   ]
  },
  {
   "attachments": {},
   "cell_type": "markdown",
   "metadata": {},
   "source": [
    "Sometimes it is desirable to change the ```Axes``` limits to zoom in or out of a region. This is done by the methods ```Axes.set_xlim``` and ```Axes.set_ylim``` or equivalent function ```plt.xlim``` or ```plt.ylim```:"
   ]
  },
  {
   "cell_type": "code",
   "execution_count": 152,
   "metadata": {},
   "outputs": [
    {
     "name": "stdout",
     "output_type": "stream",
     "text": [
      "\u001b[1;31mSignature:\u001b[0m\n",
      "\u001b[0max1\u001b[0m\u001b[1;33m.\u001b[0m\u001b[0mset_xlim\u001b[0m\u001b[1;33m(\u001b[0m\u001b[1;33m\n",
      "\u001b[0m    \u001b[0mleft\u001b[0m\u001b[1;33m=\u001b[0m\u001b[1;32mNone\u001b[0m\u001b[1;33m,\u001b[0m\u001b[1;33m\n",
      "\u001b[0m    \u001b[0mright\u001b[0m\u001b[1;33m=\u001b[0m\u001b[1;32mNone\u001b[0m\u001b[1;33m,\u001b[0m\u001b[1;33m\n",
      "\u001b[0m    \u001b[1;33m*\u001b[0m\u001b[1;33m,\u001b[0m\u001b[1;33m\n",
      "\u001b[0m    \u001b[0memit\u001b[0m\u001b[1;33m=\u001b[0m\u001b[1;32mTrue\u001b[0m\u001b[1;33m,\u001b[0m\u001b[1;33m\n",
      "\u001b[0m    \u001b[0mauto\u001b[0m\u001b[1;33m=\u001b[0m\u001b[1;32mFalse\u001b[0m\u001b[1;33m,\u001b[0m\u001b[1;33m\n",
      "\u001b[0m    \u001b[0mxmin\u001b[0m\u001b[1;33m=\u001b[0m\u001b[1;32mNone\u001b[0m\u001b[1;33m,\u001b[0m\u001b[1;33m\n",
      "\u001b[0m    \u001b[0mxmax\u001b[0m\u001b[1;33m=\u001b[0m\u001b[1;32mNone\u001b[0m\u001b[1;33m,\u001b[0m\u001b[1;33m\n",
      "\u001b[0m\u001b[1;33m)\u001b[0m\u001b[1;33m\u001b[0m\u001b[1;33m\u001b[0m\u001b[0m\n",
      "\u001b[1;31mDocstring:\u001b[0m\n",
      "Set the x-axis view limits.\n",
      "\n",
      "Parameters\n",
      "----------\n",
      "left : float, optional\n",
      "    The left xlim in data coordinates. Passing *None* leaves the\n",
      "    limit unchanged.\n",
      "\n",
      "    The left and right xlims may also be passed as the tuple\n",
      "    (*left*, *right*) as the first positional argument (or as\n",
      "    the *left* keyword argument).\n",
      "\n",
      "    .. ACCEPTS: (left: float, right: float)\n",
      "\n",
      "right : float, optional\n",
      "    The right xlim in data coordinates. Passing *None* leaves the\n",
      "    limit unchanged.\n",
      "\n",
      "emit : bool, default: True\n",
      "    Whether to notify observers of limit change.\n",
      "\n",
      "auto : bool or None, default: False\n",
      "    Whether to turn on autoscaling of the x-axis. True turns on,\n",
      "    False turns off, None leaves unchanged.\n",
      "\n",
      "xmin, xmax : float, optional\n",
      "    They are equivalent to left and right respectively, and it is an\n",
      "    error to pass both *xmin* and *left* or *xmax* and *right*.\n",
      "\n",
      "Returns\n",
      "-------\n",
      "left, right : (float, float)\n",
      "    The new x-axis limits in data coordinates.\n",
      "\n",
      "See Also\n",
      "--------\n",
      "get_xlim\n",
      "set_xbound, get_xbound\n",
      "invert_xaxis, xaxis_inverted\n",
      "\n",
      "Notes\n",
      "-----\n",
      "The *left* value may be greater than the *right* value, in which\n",
      "case the x-axis values will decrease from left to right.\n",
      "\n",
      "Examples\n",
      "--------\n",
      ">>> set_xlim(left, right)\n",
      ">>> set_xlim((left, right))\n",
      ">>> left, right = set_xlim(left, right)\n",
      "\n",
      "One limit may be left unchanged.\n",
      "\n",
      ">>> set_xlim(right=right_lim)\n",
      "\n",
      "Limits may be passed in reverse order to flip the direction of\n",
      "the x-axis. For example, suppose *x* represents the number of\n",
      "years before present. The x-axis limits might be set like the\n",
      "following so 5000 years ago is on the left of the plot and the\n",
      "present is on the right.\n",
      "\n",
      ">>> set_xlim(5000, 0)\n",
      "\u001b[1;31mFile:\u001b[0m      c:\\users\\pyip\\miniconda3\\envs\\vscode-env\\lib\\site-packages\\matplotlib\\axes\\_base.py\n",
      "\u001b[1;31mType:\u001b[0m      method"
     ]
    }
   ],
   "source": [
    "ax1.set_xlim?"
   ]
  },
  {
   "cell_type": "markdown",
   "metadata": {},
   "source": [
    "Supposing the smaller ```Axes``` is supposed to highlight the start of the data, the following limits can be added:"
   ]
  },
  {
   "cell_type": "code",
   "execution_count": 153,
   "metadata": {},
   "outputs": [
    {
     "data": {
      "text/plain": [
       "[<matplotlib.lines.Line2D at 0x219fd2982f0>]"
      ]
     },
     "execution_count": 153,
     "metadata": {},
     "output_type": "execute_result"
    },
    {
     "data": {
      "image/png": "[encoded data removed]",
      "text/plain": [
       "<Figure size 640x480 with 2 Axes>"
      ]
     },
     "metadata": {},
     "output_type": "display_data"
    }
   ],
   "source": [
    "fig = plt.figure()\n",
    "ax1 = fig.add_axes(rect=AxesRect(left=0, bottom=0, width=1, height=1))\n",
    "ax1.set_xlim(left=0, right=6, auto=False)\n",
    "ax1.set_ylim(bottom=0, top=200, auto=False)\n",
    "ax1.plot(x, y**2, color='tomato')\n",
    "ax2 = fig.add_axes(rect=AxesRect(left=0.1, bottom=0.55, width=0.4, height=0.4))\n",
    "ax2.set_xlim(left=-0.5, right=1, auto=False)\n",
    "ax2.set_ylim(bottom=-5, top=10, auto=False)\n",
    "ax2.plot(x, y**2, color='tomato')"
   ]
  },
  {
   "attachments": {},
   "cell_type": "markdown",
   "metadata": {},
   "source": [
    "The limits are normally set by using the keyword arguments ```left``` and ```right``` for x or ```bottom``` and ```top``` for y. \n",
    "\n",
    "```python\n",
    "ax1.set_xlim(left=0, right=6, auto=False)\n",
    "ax1.set_ylim(bottom=0, top=200, auto=False)\n",
    "```\n",
    "\n",
    "```left``` and ```right``` have the alias ```xmin``` and ```xmax```. Likewise ```bottom``` and ```top``` have the alias ```ymin``` and ```ymax```:\n",
    "\n",
    "```python\n",
    "ax1.set_xlim(xmin=0, xmax=6, auto=False)\n",
    "ax1.set_ylim(ymin=0, ymax=200, auto=False)\n",
    "```\n",
    "\n",
    "If both limits are provided, they can also be supplied using a ```tuple```:\n",
    "\n",
    "```python\n",
    "ax1.set_xlim((0, 6), auto=False)\n",
    "ax1.set_ylim((0, 200), auto=False)\n",
    "```\n"
   ]
  },
  {
   "attachments": {},
   "cell_type": "markdown",
   "metadata": {},
   "source": [
    "## Axes Scale"
   ]
  },
  {
   "attachments": {},
   "cell_type": "markdown",
   "metadata": {},
   "source": [
    "When a value has a non-linear dependence it is sometimes insightful to view it on a logarithmic scale. This can be done using the axes methods set_xscale and set_yscale respectively which also have the pyplot functions xscale and yscale:"
   ]
  },
  {
   "cell_type": "code",
   "execution_count": null,
   "metadata": {},
   "outputs": [],
   "source": [
    "? ax2.set_yscale"
   ]
  },
  {
   "attachments": {},
   "cell_type": "markdown",
   "metadata": {},
   "source": [
    "The log of 0 is -∞:"
   ]
  },
  {
   "cell_type": "code",
   "execution_count": null,
   "metadata": {},
   "outputs": [],
   "source": [
    "# np.log(0)"
   ]
  },
  {
   "attachments": {},
   "cell_type": "markdown",
   "metadata": {},
   "source": [
    "And the log of a negative number is not a number:"
   ]
  },
  {
   "cell_type": "code",
   "execution_count": null,
   "metadata": {},
   "outputs": [],
   "source": [
    "# np.log(-1)"
   ]
  },
  {
   "attachments": {},
   "cell_type": "markdown",
   "metadata": {},
   "source": [
    "Therefore the bottom limit is normally set to 1 when using a log scale:"
   ]
  },
  {
   "cell_type": "code",
   "execution_count": null,
   "metadata": {},
   "outputs": [],
   "source": [
    "fig = plt.Figure()\n",
    "ax1 = fig.add_axes(rect=(0, 0, 1, 1))\n",
    "ax1.plot(x, y**10, color='tomato')\n",
    "ax2 = fig.add_axes(rect=(0.1, 0.55, 0.4, 0.4))\n",
    "ax2.plot(x, y**10, color='tomato')\n",
    "\n",
    "ax2.set_yscale('log')\n",
    "ax2.set_ylim(bottom=1)\n",
    "fig"
   ]
  },
  {
   "attachments": {},
   "cell_type": "markdown",
   "metadata": {},
   "source": [
    "## Line Plot"
   ]
  },
  {
   "attachments": {},
   "cell_type": "markdown",
   "metadata": {},
   "source": [
    "Previously a single line plot was created using the plot function and returned to the instance name chart:"
   ]
  },
  {
   "cell_type": "code",
   "execution_count": null,
   "metadata": {},
   "outputs": [],
   "source": [
    "fig, ax = plt.subplots(num=1);\n",
    "chart = ax.plot(x, y);"
   ]
  },
  {
   "attachments": {},
   "cell_type": "markdown",
   "metadata": {},
   "source": [
    "chart was seen to be a list of Line2D objects and in this case a single element list:"
   ]
  },
  {
   "cell_type": "code",
   "execution_count": null,
   "metadata": {},
   "outputs": [],
   "source": [
    "chart"
   ]
  },
  {
   "attachments": {},
   "cell_type": "markdown",
   "metadata": {},
   "source": [
    "The method plot can take it multiple positional input arguments:"
   ]
  },
  {
   "cell_type": "code",
   "execution_count": null,
   "metadata": {},
   "outputs": [],
   "source": [
    "fig, ax = plt.subplots(num=1);\n",
    "chart = ax.plot(x, y, \n",
    "                x, y+1,\n",
    "                x, y+2,\n",
    "                x, y+3, \n",
    "                x, y+4,\n",
    "                x, y+5,\n",
    "                x, y+6,\n",
    "                x, y+7,\n",
    "                x, y+8,\n",
    "                x, y+9,\n",
    "                x, y+10,\n",
    "                x, y+11);"
   ]
  },
  {
   "attachments": {},
   "cell_type": "markdown",
   "metadata": {},
   "source": [
    "## Colors"
   ]
  },
  {
   "attachments": {},
   "cell_type": "markdown",
   "metadata": {},
   "source": [
    "Notice that each line has its own color until the 10th line is reached and the colors then repeat. This is because the default colors used are called TABLEAU_COLORS and there are 10 colors:"
   ]
  },
  {
   "cell_type": "code",
   "execution_count": null,
   "metadata": {},
   "outputs": [],
   "source": [
    "from matplotlib.colors import TABLEAU_COLORS"
   ]
  },
  {
   "cell_type": "code",
   "execution_count": null,
   "metadata": {},
   "outputs": [],
   "source": [
    "TABLEAU_COLORS"
   ]
  },
  {
   "attachments": {},
   "cell_type": "markdown",
   "metadata": {},
   "source": [
    "Notice that TABLEAU_colors is a dictionary. The keys are strings and the values are hexadecimal strings.\n",
    "\n",
    "Hexadecimal strings have the form:\n",
    "\n",
    "```\n",
    "#rrggbb\n",
    "```\n",
    "\n",
    "The human eye has short wavelength (blue sensitive), medium wavelength (green sensitive) and long wavelength (red sensitive) receptors and the brain maps a color ratio from these receptors to what a human perceives as a color.\n",
    "\n",
    "Each pixel in screen uses a red, green and blue LED known as a rgb LED to perform color mixing. Each channel spans over 1 byte which recall can be represented using 2 hexadecimal characters."
   ]
  },
  {
   "attachments": {},
   "cell_type": "markdown",
   "metadata": {},
   "source": [
    "matplotlib has another color dictionary called CSS4_COLORS, the key for each color is a string that corresponds to the English name of the color and the value is the corresponding hexadecimal value:"
   ]
  },
  {
   "cell_type": "code",
   "execution_count": null,
   "metadata": {},
   "outputs": [],
   "source": [
    "from matplotlib.colors import CSS4_COLORS"
   ]
  },
  {
   "cell_type": "code",
   "execution_count": null,
   "metadata": {},
   "outputs": [],
   "source": [
    "CSS4_COLORS"
   ]
  },
  {
   "attachments": {},
   "cell_type": "markdown",
   "metadata": {},
   "source": [
    "The key can be used to access the color:"
   ]
  },
  {
   "cell_type": "code",
   "execution_count": null,
   "metadata": {},
   "outputs": [],
   "source": [
    "CSS4_COLORS['royalblue']"
   ]
  },
  {
   "cell_type": "code",
   "execution_count": null,
   "metadata": {},
   "outputs": [],
   "source": [
    "fig, ax = plt.subplots(num=1);\n",
    "chart = ax.plot(x, y, color=CSS4_COLORS['royalblue']);"
   ]
  },
  {
   "attachments": {},
   "cell_type": "markdown",
   "metadata": {},
   "source": [
    "However the keys from CSS4_COLORS are recognised by color related input arguments of matplotlib functions and normally used directly:"
   ]
  },
  {
   "cell_type": "code",
   "execution_count": null,
   "metadata": {},
   "outputs": [],
   "source": [
    "fig, ax = plt.subplots(num=1);\n",
    "chart = ax.plot(x, y, color='royalblue');"
   ]
  },
  {
   "attachments": {},
   "cell_type": "markdown",
   "metadata": {},
   "source": [
    "Notice that if color is provided as a keyword input argument, in a multiline plot that all lines will have the same color:"
   ]
  },
  {
   "cell_type": "code",
   "execution_count": null,
   "metadata": {},
   "outputs": [],
   "source": [
    "fig, ax = plt.subplots(num=1);\n",
    "chart = ax.plot(x, y, \n",
    "                x, y+1,\n",
    "                x, y+2,\n",
    "                x, y+3, \n",
    "                x, y+4,\n",
    "                x, y+5,\n",
    "                x, y+6,\n",
    "                x, y+7,\n",
    "                x, y+8,\n",
    "                x, y+9,\n",
    "                x, y+10,\n",
    "                x, y+11,\n",
    "                color='royalblue');"
   ]
  },
  {
   "attachments": {},
   "cell_type": "markdown",
   "metadata": {},
   "source": [
    "Instead these can be provided positionally for each line:"
   ]
  },
  {
   "cell_type": "code",
   "execution_count": null,
   "metadata": {},
   "outputs": [],
   "source": [
    "fig, ax = plt.subplots(num=1);\n",
    "chart = ax.plot(x, y, 'royalblue', \n",
    "                x, y+1, 'tomato',\n",
    "                x, y+2, 'chocolate',\n",
    "                x, y+3, 'forestgreen',\n",
    "                x, y+4, 'springgreen',\n",
    "                x, y+5, 'turquoise',\n",
    "                x, y+6, 'teal',\n",
    "                x, y+7, 'skyblue',\n",
    "                x, y+8, 'dodgerblue',\n",
    "                x, y+9, 'slateblue',\n",
    "                x, y+10, 'fuchsia',\n",
    "                x, y+11, 'hotpink');"
   ]
  },
  {
   "attachments": {},
   "cell_type": "markdown",
   "metadata": {},
   "source": [
    "## LineWidth"
   ]
  },
  {
   "attachments": {},
   "cell_type": "markdown",
   "metadata": {},
   "source": [
    "The linewidth can be changed using the keyword argument linewidth:"
   ]
  },
  {
   "cell_type": "code",
   "execution_count": null,
   "metadata": {},
   "outputs": [],
   "source": [
    "fig, ax = plt.subplots(num=1);\n",
    "chart = ax.plot(x, y, linewidth=5)"
   ]
  },
  {
   "attachments": {},
   "cell_type": "markdown",
   "metadata": {},
   "source": [
    "This has the alias lw:"
   ]
  },
  {
   "cell_type": "code",
   "execution_count": null,
   "metadata": {},
   "outputs": [],
   "source": [
    "fig, ax = plt.subplots(num=1);\n",
    "chart = ax.plot(x, y, lw=2.5)"
   ]
  },
  {
   "attachments": {},
   "cell_type": "markdown",
   "metadata": {},
   "source": [
    "When linewidth is provided as a keyword input argument, in a multiline plot that all lines will have the same width:"
   ]
  },
  {
   "cell_type": "code",
   "execution_count": null,
   "metadata": {},
   "outputs": [],
   "source": [
    "fig, ax = plt.subplots(num=1);\n",
    "chart = ax.plot(x, y, \n",
    "                x, y+1,\n",
    "                x, y+2,\n",
    "                x, y+3, \n",
    "                x, y+4,\n",
    "                x, y+5,\n",
    "                x, y+6,\n",
    "                x, y+7,\n",
    "                x, y+8,\n",
    "                x, y+9,\n",
    "                x, y+10,\n",
    "                x, y+11,\n",
    "                color='royalblue', linewidth=0.5);"
   ]
  },
  {
   "attachments": {},
   "cell_type": "markdown",
   "metadata": {},
   "source": [
    "When a high level of customisation is desired, each line is normally seperately plotted. Recall the return value for ax.plot is a list of lines, in this case a single line. An empty list chart can be made and each plot appended:"
   ]
  },
  {
   "cell_type": "code",
   "execution_count": null,
   "metadata": {},
   "outputs": [],
   "source": [
    "fig, ax = plt.subplots(num=1);\n",
    "chart = []\n",
    "chart.append(ax.plot(x, y, color='royalblue', linewidth=0.5)[0])\n",
    "chart.append(ax.plot(x, y+1, color='tomato', linewidth=0.6)[0])\n",
    "chart.append(ax.plot(x, y+2, color='chocolate', linewidth=0.7)[0])\n",
    "chart.append(ax.plot(x, y+3, color='forestgreen', linewidth=0.8)[0])\n",
    "chart.append(ax.plot(x, y+4, color='springgreen', linewidth=0.9)[0])\n",
    "chart.append(ax.plot(x, y+5, color='turquoise', linewidth=1.0)[0])\n",
    "chart.append(ax.plot(x, y+6, color='teal', linewidth=1.1)[0])\n",
    "chart.append(ax.plot(x, y+7, color='skyblue', linewidth=1.2)[0])\n",
    "chart.append(ax.plot(x, y+8, color='dodgerblue', linewidth=1.3)[0])\n",
    "chart.append(ax.plot(x, y+9, color='slateblue', linewidth=1.4)[0])\n",
    "chart.append(ax.plot(x, y+10, color='fuchsia', linewidth=1.5)[0])\n",
    "chart.append(ax.plot(x, y+11, color='hotpink', linewidth=1.6)[0])"
   ]
  },
  {
   "attachments": {},
   "cell_type": "markdown",
   "metadata": {},
   "source": [
    "The list chart contaisn the 12 lines:"
   ]
  },
  {
   "cell_type": "code",
   "execution_count": null,
   "metadata": {},
   "outputs": [],
   "source": [
    "chart"
   ]
  },
  {
   "attachments": {},
   "cell_type": "markdown",
   "metadata": {},
   "source": [
    "The ax attribute lines also gives these:"
   ]
  },
  {
   "cell_type": "code",
   "execution_count": null,
   "metadata": {},
   "outputs": [],
   "source": [
    "ax.lines"
   ]
  },
  {
   "attachments": {},
   "cell_type": "markdown",
   "metadata": {},
   "source": [
    "This is seen more clearly if it is cast to a list:"
   ]
  },
  {
   "cell_type": "code",
   "execution_count": null,
   "metadata": {},
   "outputs": [],
   "source": [
    "list(ax.lines)"
   ]
  },
  {
   "attachments": {},
   "cell_type": "markdown",
   "metadata": {},
   "source": [
    "This means the more simpler syntax can be used:"
   ]
  },
  {
   "cell_type": "code",
   "execution_count": null,
   "metadata": {},
   "outputs": [],
   "source": [
    "fig, ax = plt.subplots(num=1);\n",
    "ax.plot(x, y, color='royalblue', linewidth=0.5)\n",
    "ax.plot(x, y+1, color='tomato', linewidth=0.6)\n",
    "ax.plot(x, y+2, color='chocolate', linewidth=0.7)\n",
    "ax.plot(x, y+3, color='forestgreen', linewidth=0.8)\n",
    "ax.plot(x, y+4, color='springgreen', linewidth=0.9)\n",
    "ax.plot(x, y+5, color='turquoise', linewidth=1.0)\n",
    "ax.plot(x, y+6, color='teal', linewidth=1.1)\n",
    "ax.plot(x, y+7, color='skyblue', linewidth=1.2)\n",
    "ax.plot(x, y+8, color='dodgerblue', linewidth=1.3)\n",
    "ax.plot(x, y+9, color='slateblue', linewidth=1.4)\n",
    "ax.plot(x, y+10, color='fuchsia', linewidth=1.5)\n",
    "ax.plot(x, y+11, color='hotpink', linewidth=1.6)"
   ]
  },
  {
   "attachments": {},
   "cell_type": "markdown",
   "metadata": {},
   "source": [
    "## Line Style"
   ]
  },
  {
   "attachments": {},
   "cell_type": "markdown",
   "metadata": {},
   "source": [
    "The linestyle can be changed using the keyword input argument linestyle:"
   ]
  },
  {
   "cell_type": "code",
   "execution_count": null,
   "metadata": {},
   "outputs": [],
   "source": [
    "fig, ax = plt.subplots(num=1);\n",
    "ax.plot(x, y, color='royalblue', linestyle='dashed', linewidth=2.0)"
   ]
  },
  {
   "attachments": {},
   "cell_type": "markdown",
   "metadata": {},
   "source": [
    "This has the abbreviation ls:"
   ]
  },
  {
   "cell_type": "code",
   "execution_count": null,
   "metadata": {},
   "outputs": [],
   "source": [
    "fig, ax = plt.subplots(num=1);\n",
    "ax.plot(x, y, color='royalblue', ls='dotted', lw=3.0)"
   ]
  },
  {
   "attachments": {},
   "cell_type": "markdown",
   "metadata": {},
   "source": [
    "The most common linestyles have a linestyle string and abbreviated linestyle string. Other line styles can be specified usign a tuple:"
   ]
  },
  {
   "attachments": {},
   "cell_type": "markdown",
   "metadata": {},
   "source": [
    "|description|linestyle string|line style string abbreviation|line style tuple|\n",
    "|---|---|---|---|\n",
    "|solid|'solid'|'-'||\n",
    "|dashed|'dashed'|'--'|(0, (5, 5)))|\n",
    "|dotted|'dotted'|':'|(0, (1, 1)))|\n",
    "|dashdot|'dashdot|'-.'||\n",
    "|loosely dotted|||(0, (1, 10)))|\n",
    "|densely dotted|||(0, (1, 1)))|\n",
    "|long dash with offset|||(5, (10, 3)))|\n",
    "|loosely dashed|||(0, (5, 10)))|\n",
    "|densely dashed|||(0, (5, 1)))|\n",
    "|loosely dashdotted|||(0, (3, 10, 1, 10)))|\n",
    "|dashdotted|||(0, (3, 5, 1, 5)))|\n",
    "|densely dashdotted|||(0, (3, 1, 1, 1)))|\n",
    "|dashdotdotted|||(0, (3, 5, 1, 5, 1, 5)))|\n",
    "|loosely dashdotdotted|||(0, (3, 10, 1, 10, 1, 10)))|\n",
    "|densely dashdotdotted|||(0, (3, 1, 1, 1, 1, 1)))|\n"
   ]
  },
  {
   "cell_type": "code",
   "execution_count": null,
   "metadata": {},
   "outputs": [],
   "source": [
    "fig, ax = plt.subplots(num=1);\n",
    "ax.plot(x, y, color='royalblue', linewidth=1.0, linestyle='solid')\n",
    "ax.plot(x, y+1, color='tomato', linewidth=1.0, linestyle='dashed')\n",
    "ax.plot(x, y+2, color='chocolate', linewidth=1.0, linestyle='dotted')\n",
    "ax.plot(x, y+3, color='forestgreen', linewidth=1.0, linestyle='dashdot')\n",
    "ax.plot(x, y+4, color='springgreen', linewidth=1.0, linestyle=(0, (1, 10)))\n",
    "ax.plot(x, y+5, color='turquoise', linewidth=1.0, linestyle=(0, (1, 1)))\n",
    "ax.plot(x, y+6, color='teal', linewidth=1.0, linestyle=(5, (10, 3)))\n",
    "ax.plot(x, y+7, color='skyblue', linewidth=1.0, linestyle=(0, (5, 10)))\n",
    "ax.plot(x, y+8, color='dodgerblue', linewidth=1.0, linestyle=(0, (5, 1)))\n",
    "ax.plot(x, y+9, color='slateblue', linewidth=1.0, linestyle=(0, (3, 10, 1, 10)))\n",
    "ax.plot(x, y+10, color='fuchsia', linewidth=1.0, linestyle=(0, (3, 5, 1, 5)))\n",
    "ax.plot(x, y+11, color='hotpink', linewidth=1.0, linestyle=(0, (3, 1, 1, 1)))"
   ]
  },
  {
   "attachments": {},
   "cell_type": "markdown",
   "metadata": {},
   "source": [
    "## Markers"
   ]
  },
  {
   "attachments": {},
   "cell_type": "markdown",
   "metadata": {},
   "source": [
    "In a line plot, markers are not added by default, they can be added using the keyword marker:"
   ]
  },
  {
   "cell_type": "code",
   "execution_count": null,
   "metadata": {},
   "outputs": [],
   "source": [
    "fig, ax = plt.subplots(num=1);\n",
    "chart = ax.plot(x, y, color='royalblue', marker='o')"
   ]
  },
  {
   "attachments": {},
   "cell_type": "markdown",
   "metadata": {},
   "source": [
    "The following are commonly used markers:"
   ]
  },
  {
   "cell_type": "markdown",
   "metadata": {},
   "source": [
    "|Marker Description|String|Integer or None|\n",
    "|---|---|---|\n",
    "|nothing|```''```|```None```|\n",
    "|point|```'.'```||\n",
    "|pixel|```','```||\n",
    "|circle|```'o'```||\n",
    "|triangle_down|```'v'```||\n",
    "|triangle_up|```'^'```||\n",
    "|triangle_left|```'<'```||\n",
    "|triangle_right|```'>'```||\n",
    "|tri_down|```'1'```||\n",
    "|tri_up|```'2'```||\n",
    "|tri_left|```'3'```||\n",
    "|tri_right|```'4'```||\n",
    "|octagon|```'8'```||\n",
    "|square|```'s'```||\n",
    "|pentagon|```'p'```||\n",
    "|plus_filled|```'P'```||\n",
    "|star|```'*'```||\n",
    "|hexagon1|```'h'```||\n",
    "|hexagon2|```'H'```||\n",
    "|plus|```'+'```||\n",
    "|x|```'x'```||\n",
    "|X|```'X'```||\n",
    "|vline|```'\\|'```||\n",
    "|hline|```'_'```||\n",
    "|tickleft||```0```|\n",
    "|tickright||```1```|\n",
    "|caretleft||```2```|\n",
    "|caretright||```3```|\n",
    "|caretup||```4```|\n",
    "|caretdown||```5```|\n",
    "|caretleftbase||```6```|\n",
    "|caretrightbase||```7```|\n",
    "|caretupbase||```8```|\n",
    "|caretdownbase||```9```|"
   ]
  },
  {
   "attachments": {},
   "cell_type": "markdown",
   "metadata": {},
   "source": [
    "Once again specification of a keyword input argument, in a multiline plot will apply that option to all lines:"
   ]
  },
  {
   "cell_type": "code",
   "execution_count": null,
   "metadata": {},
   "outputs": [],
   "source": [
    "fig, ax = plt.subplots(num=1);\n",
    "chart = ax.plot(x, y, \n",
    "                x, y+1,\n",
    "                x, y+2,\n",
    "                x, y+3, \n",
    "                x, y+4,\n",
    "                x, y+5,\n",
    "                x, y+6,\n",
    "                x, y+7,\n",
    "                x, y+8,\n",
    "                x, y+9,\n",
    "                x, y+10,\n",
    "                x, y+11,\n",
    "                marker='o');"
   ]
  },
  {
   "attachments": {},
   "cell_type": "markdown",
   "metadata": {},
   "source": [
    "The marker can be specified individually as a positional input argument:"
   ]
  },
  {
   "cell_type": "code",
   "execution_count": null,
   "metadata": {},
   "outputs": [],
   "source": [
    "fig, ax = plt.subplots(num=1);\n",
    "chart = ax.plot(x, y, 'o', \n",
    "                x, y+1, 'v',\n",
    "                x, y+2, '^',\n",
    "                x, y+3, '<',\n",
    "                x, y+4, '>',\n",
    "                x, y+5, '8',\n",
    "                x, y+6, 's',\n",
    "                x, y+7, 'p',\n",
    "                x, y+8, 'h',\n",
    "                x, y+9, '*',\n",
    "                x, y+10, '+',\n",
    "                x, y+11, '|');"
   ]
  },
  {
   "attachments": {},
   "cell_type": "markdown",
   "metadata": {},
   "source": [
    "There are a number of marker related settings such as markersize, markeredgewidth, markeredgecolor, markerfacecolor and markerfacecoloralt which is only relevent if a fillstyle is selected:"
   ]
  },
  {
   "cell_type": "code",
   "execution_count": null,
   "metadata": {},
   "outputs": [],
   "source": [
    "fig, ax = plt.subplots(num=1);\n",
    "ax.plot(x, y, color='orange', linestyle=':',\n",
    "        marker='o', markersize=15,\n",
    "        markeredgewidth=2, markeredgecolor='cyan',\n",
    "        markerfacecolor='yellow',\n",
    "        fillstyle='top', markerfacecoloralt='plum')"
   ]
  },
  {
   "attachments": {},
   "cell_type": "markdown",
   "metadata": {},
   "source": [
    "These have the following abbreviated alias:"
   ]
  },
  {
   "cell_type": "code",
   "execution_count": null,
   "metadata": {},
   "outputs": [],
   "source": [
    "fig, ax = plt.subplots(num=1);\n",
    "ax.plot(x, y, color='orange', ls='dotted',\n",
    "        marker='o', ms=15,\n",
    "        mew=2, mec='cyan',\n",
    "        mfc='yellow',\n",
    "        fillstyle='left', mfcalt='plum')"
   ]
  },
  {
   "attachments": {},
   "cell_type": "markdown",
   "metadata": {},
   "source": [
    "## Draw Style"
   ]
  },
  {
   "attachments": {},
   "cell_type": "markdown",
   "metadata": {},
   "source": [
    "The input argument drawstyle determines the connection between datapoints, the default style draws a line between them, however it is also possible to connect them using a step. The step can be pre, mid or post:"
   ]
  },
  {
   "cell_type": "code",
   "execution_count": null,
   "metadata": {},
   "outputs": [],
   "source": [
    "fig, ax = plt.subplots(nrows=2, ncols=2, num=1);\n",
    "ax[0, 0].plot(x, y, color='orange', linestyle='dotted',\n",
    "              drawstyle='default',\n",
    "              marker='o', ms=15,\n",
    "              mfc='cyan')\n",
    "ax[0, 1].plot(x, y, color='orange', linestyle='dotted',\n",
    "              drawstyle='steps-pre',\n",
    "              marker='o', ms=15,\n",
    "              mfc='cyan')\n",
    "ax[1, 0].plot(x, y, color='orange', linestyle='dotted',\n",
    "              drawstyle='steps-mid',\n",
    "              marker='o', ms=15,\n",
    "              mfc='cyan')\n",
    "ax[1, 1].plot(x, y, color='orange', linestyle='dotted',\n",
    "              drawstyle='steps-post',\n",
    "              marker='o', ms=15,\n",
    "              mfc='cyan')"
   ]
  },
  {
   "attachments": {},
   "cell_type": "markdown",
   "metadata": {},
   "source": [
    "## Label and Legend"
   ]
  },
  {
   "attachments": {},
   "cell_type": "markdown",
   "metadata": {},
   "source": [
    "A label can be added for each line and a legend produced:"
   ]
  },
  {
   "cell_type": "code",
   "execution_count": null,
   "metadata": {},
   "outputs": [],
   "source": [
    "fig, ax = plt.subplots(num=1);\n",
    "ax.plot(x, y, color='royalblue', label='royalblue')\n",
    "ax.plot(x, y+1, color='tomato', label='tomato')\n",
    "ax.plot(x, y+2, color='chocolate', label='chocolate')\n",
    "ax.plot(x, y+3, color='forestgreen', label='forestgreen')\n",
    "ax.plot(x, y+4, color='springgreen', label='springgreen')\n",
    "ax.plot(x, y+5, color='turquoise', label='turquise')\n",
    "ax.plot(x, y+6, color='teal', label='teal')\n",
    "ax.plot(x, y+7, color='skyblue', label='skyblue')\n",
    "ax.plot(x, y+8, color='dodgerblue', label='dodgerblue')\n",
    "ax.plot(x, y+9, color='slateblue', label='slateblue')\n",
    "ax.plot(x, y+10, color='fuchsia', label='fuchsia')\n",
    "ax.plot(x, y+11, color='hotpink', label='hotpink')\n",
    "ax.legend()"
   ]
  },
  {
   "cell_type": "code",
   "execution_count": null,
   "metadata": {},
   "outputs": [],
   "source": [
    "? ax.legend"
   ]
  },
  {
   "cell_type": "code",
   "execution_count": null,
   "metadata": {},
   "outputs": [],
   "source": [
    "fig, ax = plt.subplots(num=1);\n",
    "ax.plot(x, y, color='royalblue', label='royalblue')\n",
    "ax.plot(x, y+1, color='tomato', label='tomato')\n",
    "ax.plot(x, y+2, color='chocolate', label='chocolate')\n",
    "ax.plot(x, y+3, color='forestgreen', label='forestgreen')\n",
    "ax.plot(x, y+4, color='springgreen', label='springgreen')\n",
    "ax.plot(x, y+5, color='turquoise', label='turquise')\n",
    "ax.plot(x, y+6, color='teal', label='teal')\n",
    "ax.plot(x, y+7, color='skyblue', label='skyblue')\n",
    "ax.plot(x, y+8, color='dodgerblue', label='dodgerblue')\n",
    "ax.plot(x, y+9, color='slateblue', label='slateblue')\n",
    "ax.plot(x, y+10, color='fuchsia', label='fuchsia')\n",
    "ax.plot(x, y+11, color='hotpink', label='hotpink')\n",
    "ax.legend(loc='center right')"
   ]
  },
  {
   "attachments": {},
   "cell_type": "markdown",
   "metadata": {},
   "source": [
    "The black box enclosing the axis is known as the bbox. The bbox_to_anchor input argument will anchor the legend to the bbox using a tuple of the form (x, y), x is the normalised ratio of the bbox x and y is the normalised ratio of the bbox y. A bbox_to_anchor=(0.3, 0.8) for example moves the bottom left corner of the legend to the normalised position specified:"
   ]
  },
  {
   "cell_type": "code",
   "execution_count": null,
   "metadata": {},
   "outputs": [],
   "source": [
    "fig, ax = plt.subplots(num=1);\n",
    "ax.plot(x, y, color='royalblue', label='royalblue')\n",
    "ax.plot(x, y+1, color='tomato', label='tomato')\n",
    "ax.plot(x, y+2, color='chocolate', label='chocolate')\n",
    "ax.plot(x, y+3, color='forestgreen', label='forestgreen')\n",
    "ax.plot(x, y+4, color='springgreen', label='springgreen')\n",
    "ax.plot(x, y+5, color='turquoise', label='turquise')\n",
    "ax.plot(x, y+6, color='teal', label='teal')\n",
    "ax.plot(x, y+7, color='skyblue', label='skyblue')\n",
    "ax.plot(x, y+8, color='dodgerblue', label='dodgerblue')\n",
    "ax.plot(x, y+9, color='slateblue', label='slateblue')\n",
    "ax.plot(x, y+10, color='fuchsia', label='fuchsia')\n",
    "ax.plot(x, y+11, color='hotpink', label='hotpink')\n",
    "ax.legend(bbox_to_anchor=(0.3, 0.8))"
   ]
  },
  {
   "attachments": {},
   "cell_type": "markdown",
   "metadata": {},
   "source": [
    "A bbox_to_anchor=(1.0, 0) for example moves the top right corner of the legend to the normalised position specified:"
   ]
  },
  {
   "cell_type": "code",
   "execution_count": null,
   "metadata": {},
   "outputs": [],
   "source": [
    "fig, ax = plt.subplots(num=1);\n",
    "ax.plot(x, y, color='royalblue', label='royalblue')\n",
    "ax.plot(x, y+1, color='tomato', label='tomato')\n",
    "ax.plot(x, y+2, color='chocolate', label='chocolate')\n",
    "ax.plot(x, y+3, color='forestgreen', label='forestgreen')\n",
    "ax.plot(x, y+4, color='springgreen', label='springgreen')\n",
    "ax.plot(x, y+5, color='turquoise', label='turquise')\n",
    "ax.plot(x, y+6, color='teal', label='teal')\n",
    "ax.plot(x, y+7, color='skyblue', label='skyblue')\n",
    "ax.plot(x, y+8, color='dodgerblue', label='dodgerblue')\n",
    "ax.plot(x, y+9, color='slateblue', label='slateblue')\n",
    "ax.plot(x, y+10, color='fuchsia', label='fuchsia')\n",
    "ax.plot(x, y+11, color='hotpink', label='hotpink')\n",
    "ax.legend(bbox_to_anchor=(1.0, 0))"
   ]
  },
  {
   "attachments": {},
   "cell_type": "markdown",
   "metadata": {},
   "source": [
    "A bbox_to_anchor=(1.0, 0.5) for example moves the top left corner of the legend to the normalised position specified:"
   ]
  },
  {
   "cell_type": "code",
   "execution_count": null,
   "metadata": {},
   "outputs": [],
   "source": [
    "fig, ax = plt.subplots(num=1);\n",
    "ax.plot(x, y, color='royalblue', label='royalblue')\n",
    "ax.plot(x, y+1, color='tomato', label='tomato')\n",
    "ax.plot(x, y+2, color='chocolate', label='chocolate')\n",
    "ax.plot(x, y+3, color='forestgreen', label='forestgreen')\n",
    "ax.plot(x, y+4, color='springgreen', label='springgreen')\n",
    "ax.plot(x, y+5, color='turquoise', label='turquise')\n",
    "ax.plot(x, y+6, color='teal', label='teal')\n",
    "ax.plot(x, y+7, color='skyblue', label='skyblue')\n",
    "ax.plot(x, y+8, color='dodgerblue', label='dodgerblue')\n",
    "ax.plot(x, y+9, color='slateblue', label='slateblue')\n",
    "ax.plot(x, y+10, color='fuchsia', label='fuchsia')\n",
    "ax.plot(x, y+11, color='hotpink', label='hotpink')\n",
    "ax.legend(bbox_to_anchor=(1.0, 0.5))"
   ]
  },
  {
   "attachments": {},
   "cell_type": "markdown",
   "metadata": {},
   "source": [
    "A bbox_to_anchor=(1.0, 0.9) for example moves the top left corner of the legend to the normalised position specified:"
   ]
  },
  {
   "cell_type": "code",
   "execution_count": null,
   "metadata": {},
   "outputs": [],
   "source": [
    "fig, ax = plt.subplots(num=1);\n",
    "ax.plot(x, y, color='royalblue', label='royalblue')\n",
    "ax.plot(x, y+1, color='tomato', label='tomato')\n",
    "ax.plot(x, y+2, color='chocolate', label='chocolate')\n",
    "ax.plot(x, y+3, color='forestgreen', label='forestgreen')\n",
    "ax.plot(x, y+4, color='springgreen', label='springgreen')\n",
    "ax.plot(x, y+5, color='turquoise', label='turquise')\n",
    "ax.plot(x, y+6, color='teal', label='teal')\n",
    "ax.plot(x, y+7, color='skyblue', label='skyblue')\n",
    "ax.plot(x, y+8, color='dodgerblue', label='dodgerblue')\n",
    "ax.plot(x, y+9, color='slateblue', label='slateblue')\n",
    "ax.plot(x, y+10, color='fuchsia', label='fuchsia')\n",
    "ax.plot(x, y+11, color='hotpink', label='hotpink')\n",
    "ax.legend(bbox_to_anchor=(1.0, 0.90))"
   ]
  },
  {
   "attachments": {},
   "cell_type": "markdown",
   "metadata": {},
   "source": [
    "If subplots are created, the ax legend method can be used on each axis:"
   ]
  },
  {
   "cell_type": "code",
   "execution_count": null,
   "metadata": {},
   "outputs": [],
   "source": [
    "fig, ax = plt.subplots(nrows=2, ncols=1, num=1);\n",
    "ax[0].plot(x, y, color='royalblue', label='royalblue')\n",
    "ax[0].plot(x, y+1, color='tomato', label='tomato')\n",
    "ax[0].plot(x, y+2, color='chocolate', label='chocolate')\n",
    "ax[0].plot(x, y+3, color='forestgreen', label='forestgreen')\n",
    "ax[0].plot(x, y+4, color='springgreen', label='springgreen')\n",
    "ax[0].plot(x, y+5, color='turquoise', label='turquise')\n",
    "ax[1].plot(x, y+6, color='teal', label='teal')\n",
    "ax[1].plot(x, y+7, color='skyblue', label='skyblue')\n",
    "ax[1].plot(x, y+8, color='dodgerblue', label='dodgerblue')\n",
    "ax[1].plot(x, y+9, color='slateblue', label='slateblue')\n",
    "ax[1].plot(x, y+10, color='fuchsia', label='fuchsia')\n",
    "ax[1].plot(x, y+11, color='hotpink', label='hotpink')\n",
    "ax[0].legend(bbox_to_anchor=(1.0, 0.90))\n",
    "ax[1].legend(bbox_to_anchor=(1.0, 0.90))"
   ]
  },
  {
   "attachments": {},
   "cell_type": "markdown",
   "metadata": {},
   "source": [
    "The figure ax method can also be used which combines the legends together. The bbox for the figure can be conceptualisaed as an invisible bbox around all the subplots on the figure, for example a bbox_to_anchor=(0.5, 0.5) moves the top right of the legend to the following position:"
   ]
  },
  {
   "cell_type": "code",
   "execution_count": null,
   "metadata": {},
   "outputs": [],
   "source": [
    "fig, ax = plt.subplots(nrows=2, ncols=1, num=1);\n",
    "ax[0].plot(x, y, color='royalblue', label='royalblue')\n",
    "ax[0].plot(x, y+1, color='tomato', label='tomato')\n",
    "ax[0].plot(x, y+2, color='chocolate', label='chocolate')\n",
    "ax[0].plot(x, y+3, color='forestgreen', label='forestgreen')\n",
    "ax[0].plot(x, y+4, color='springgreen', label='springgreen')\n",
    "ax[0].plot(x, y+5, color='turquoise', label='turquise')\n",
    "ax[1].plot(x, y+6, color='teal', label='teal')\n",
    "ax[1].plot(x, y+7, color='skyblue', label='skyblue')\n",
    "ax[1].plot(x, y+8, color='dodgerblue', label='dodgerblue')\n",
    "ax[1].plot(x, y+9, color='slateblue', label='slateblue')\n",
    "ax[1].plot(x, y+10, color='fuchsia', label='fuchsia')\n",
    "ax[1].plot(x, y+11, color='hotpink', label='hotpink')\n",
    "fig.legend(bbox_to_anchor=(0.5, 0.5))"
   ]
  },
  {
   "attachments": {},
   "cell_type": "markdown",
   "metadata": {},
   "source": [
    "An x value greater than 1 is often used to move this outside the bbox:"
   ]
  },
  {
   "cell_type": "code",
   "execution_count": null,
   "metadata": {},
   "outputs": [],
   "source": [
    "fig, ax = plt.subplots(nrows=2, ncols=1, num=1);\n",
    "ax[0].plot(x, y, color='royalblue', label='royalblue')\n",
    "ax[0].plot(x, y+1, color='tomato', label='tomato')\n",
    "ax[0].plot(x, y+2, color='chocolate', label='chocolate')\n",
    "ax[0].plot(x, y+3, color='forestgreen', label='forestgreen')\n",
    "ax[0].plot(x, y+4, color='springgreen', label='springgreen')\n",
    "ax[0].plot(x, y+5, color='turquoise', label='turquise')\n",
    "ax[1].plot(x, y+6, color='teal', label='teal')\n",
    "ax[1].plot(x, y+7, color='skyblue', label='skyblue')\n",
    "ax[1].plot(x, y+8, color='dodgerblue', label='dodgerblue')\n",
    "ax[1].plot(x, y+9, color='slateblue', label='slateblue')\n",
    "ax[1].plot(x, y+10, color='fuchsia', label='fuchsia')\n",
    "ax[1].plot(x, y+11, color='hotpink', label='hotpink')\n",
    "fig.legend(bbox_to_anchor=(1.15, 0.80))"
   ]
  },
  {
   "attachments": {},
   "cell_type": "markdown",
   "metadata": {},
   "source": [
    "Note the pyplot function legend is equivalent to the Axes method legend."
   ]
  },
  {
   "attachments": {},
   "cell_type": "markdown",
   "metadata": {},
   "source": [
    "## Grid"
   ]
  },
  {
   "attachments": {},
   "cell_type": "markdown",
   "metadata": {},
   "source": [
    "gridlines are not shown by default:"
   ]
  },
  {
   "cell_type": "code",
   "execution_count": null,
   "metadata": {},
   "outputs": [],
   "source": [
    "fig, ax = plt.subplots(num=1);\n",
    "chart = ax.plot(x, y, color='royalblue', marker='o')"
   ]
  },
  {
   "attachments": {},
   "cell_type": "markdown",
   "metadata": {},
   "source": [
    "Major gridlines can be added using the Axes method grid which by default turns major gridlines visible making them 'grey':"
   ]
  },
  {
   "cell_type": "code",
   "execution_count": null,
   "metadata": {},
   "outputs": [],
   "source": [
    "fig, ax = plt.subplots(num=1);\n",
    "chart = ax.plot(x, y, color='royalblue', marker='o')\n",
    "ax.grid()"
   ]
  },
  {
   "attachments": {},
   "cell_type": "markdown",
   "metadata": {},
   "source": [
    "minorticks can also be added:"
   ]
  },
  {
   "cell_type": "code",
   "execution_count": null,
   "metadata": {},
   "outputs": [],
   "source": [
    "fig, ax = plt.subplots(nrows=1, ncols=2, num=1);\n",
    "ax[0].plot(x, y, color='royalblue', marker='o')\n",
    "ax[1].plot(x, y, color='royalblue', marker='o')\n",
    "ax[1].minorticks_on()"
   ]
  },
  {
   "attachments": {},
   "cell_type": "markdown",
   "metadata": {},
   "source": [
    "keyword arguments can be added to grid to specify which gridline and axis are modified. The line specific keyword input arguments are consistent with the line plot:"
   ]
  },
  {
   "cell_type": "code",
   "execution_count": null,
   "metadata": {},
   "outputs": [],
   "source": [
    "fig, ax = plt.subplots(num=1);\n",
    "chart = ax.plot(x, y, color='royalblue', marker='o')\n",
    "ax.minorticks_on()\n",
    "ax.grid(which='major', axis='both', visible=True, color='turquoise', linewidth=1, linestyle='solid')\n",
    "ax.grid(which='minor', axis='both', visible=True, color='paleturquoise', linewidth=0.5, linestyle=(0, (1, 1)))"
   ]
  },
  {
   "attachments": {},
   "cell_type": "markdown",
   "metadata": {},
   "source": [
    "## Get Properties and Set Properties"
   ]
  },
  {
   "attachments": {},
   "cell_type": "markdown",
   "metadata": {},
   "source": [
    "Supposing the multi-line plot is created:"
   ]
  },
  {
   "cell_type": "code",
   "execution_count": null,
   "metadata": {},
   "outputs": [],
   "source": [
    "fig, ax = plt.subplots(num=1);\n",
    "ax.plot(x, y, \n",
    "        x, y+1,\n",
    "        x, y+2,\n",
    "        x, y+3, \n",
    "        x, y+4,\n",
    "        x, y+5,\n",
    "        x, y+6,\n",
    "        x, y+7,\n",
    "        x, y+8,\n",
    "        x, y+9,\n",
    "        x, y+10,\n",
    "        x, y+11,\n",
    "        color='royalblue');"
   ]
  },
  {
   "attachments": {},
   "cell_type": "markdown",
   "metadata": {},
   "source": [
    "The Axes lines attribute contains all these lines:"
   ]
  },
  {
   "cell_type": "code",
   "execution_count": null,
   "metadata": {},
   "outputs": [],
   "source": [
    "ax.lines"
   ]
  },
  {
   "attachments": {},
   "cell_type": "markdown",
   "metadata": {},
   "source": [
    "The pyplot function get properties getp can be used to examine the properties of all the lines using:"
   ]
  },
  {
   "cell_type": "code",
   "execution_count": null,
   "metadata": {},
   "outputs": [],
   "source": [
    "plt.getp(ax.lines)"
   ]
  },
  {
   "attachments": {},
   "cell_type": "markdown",
   "metadata": {},
   "source": [
    "Of a line using:"
   ]
  },
  {
   "cell_type": "code",
   "execution_count": null,
   "metadata": {},
   "outputs": [],
   "source": [
    "plt.getp(ax.lines[0])"
   ]
  },
  {
   "attachments": {},
   "cell_type": "markdown",
   "metadata": {},
   "source": [
    "This function can also be used on the Axes:"
   ]
  },
  {
   "cell_type": "code",
   "execution_count": null,
   "metadata": {},
   "outputs": [],
   "source": [
    "plt.getp(ax)"
   ]
  },
  {
   "attachments": {},
   "cell_type": "markdown",
   "metadata": {},
   "source": [
    "And the Figure:"
   ]
  },
  {
   "cell_type": "code",
   "execution_count": null,
   "metadata": {},
   "outputs": [],
   "source": [
    "plt.getp(fig)"
   ]
  },
  {
   "attachments": {},
   "cell_type": "markdown",
   "metadata": {},
   "source": [
    "The related function set properties can be used on the same matplotlib objects alongside the parameters above in the form of keyword input arguments. With the default backend of inline, all the commands used for a single plot must be input in the same cell, this includes setting properties: "
   ]
  },
  {
   "cell_type": "code",
   "execution_count": null,
   "metadata": {},
   "outputs": [],
   "source": [
    "fig, ax = plt.subplots(num=1);\n",
    "ax.plot(x, y, \n",
    "        x, y+1,\n",
    "        x, y+2,\n",
    "        x, y+3, \n",
    "        x, y+4,\n",
    "        x, y+5,\n",
    "        x, y+6,\n",
    "        x, y+7,\n",
    "        x, y+8,\n",
    "        x, y+9,\n",
    "        x, y+10,\n",
    "        x, y+11,\n",
    "        color='royalblue');\n",
    "\n",
    "plt.setp(ax.lines[0], color='tomato', linestyle='dotted', marker='o');"
   ]
  }
 ],
 "metadata": {
  "kernelspec": {
   "display_name": "jupyterlab",
   "language": "python",
   "name": "python3"
  },
  "language_info": {
   "codemirror_mode": {
    "name": "ipython",
    "version": 3
   },
   "file_extension": ".py",
   "mimetype": "text/x-python",
   "name": "python",
   "nbconvert_exporter": "python",
   "pygments_lexer": "ipython3",
   "version": "3.12.1"
  },
  "orig_nbformat": 4,
  "vscode": {
   "interpreter": {
    "hash": "4648373dafda34926c036cc9e466ef2f8d360789320441bb704a9be21d427d2a"
   }
  }
 },
 "nbformat": 4,
 "nbformat_minor": 2
}
