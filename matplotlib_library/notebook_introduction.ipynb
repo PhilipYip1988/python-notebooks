{
 "cells": [
  {
   "attachments": {},
   "cell_type": "markdown",
   "metadata": {},
   "source": [
    "# The matplotlib library"
   ]
  },
  {
   "attachments": {},
   "cell_type": "markdown",
   "metadata": {},
   "source": [
    "```matplotlib``` is an abbreviation for the matrix plotting library. Normally ```numpy``` is imported alongside ```matplotlib``` as ```ndarray``` instances are used to store data for plotting. The three letter alias ```mpl``` is typically used for ```matplotlib``` and the ```pyplot``` module is normally imported using the three letter alias ```plt```:"
   ]
  },
  {
   "cell_type": "code",
   "execution_count": 1,
   "metadata": {},
   "outputs": [],
   "source": [
    "import numpy as np\n",
    "import matplotlib as mpl\n",
    "import matplotlib.pyplot as plt"
   ]
  },
  {
   "cell_type": "markdown",
   "metadata": {},
   "source": [
    "The version can be determined using the datamodel attribute ```__version__```:"
   ]
  },
  {
   "cell_type": "code",
   "execution_count": 2,
   "metadata": {},
   "outputs": [
    {
     "data": {
      "text/plain": [
       "'3.8.2'"
      ]
     },
     "execution_count": 2,
     "metadata": {},
     "output_type": "execute_result"
    }
   ],
   "source": [
    "mpl.__version__"
   ]
  },
  {
   "cell_type": "markdown",
   "metadata": {},
   "source": [
    "The custom function ```print_identifier_group``` can be imported:"
   ]
  },
  {
   "cell_type": "code",
   "execution_count": 3,
   "metadata": {},
   "outputs": [],
   "source": [
    "from helper_module import print_identifier_group"
   ]
  },
  {
   "cell_type": "markdown",
   "metadata": {},
   "source": [
    "And used to examine the identifiers of the ```mpl``` library:"
   ]
  },
  {
   "cell_type": "code",
   "execution_count": 4,
   "metadata": {},
   "outputs": [
    {
     "name": "stdout",
     "output_type": "stream",
     "text": [
      "datamodel attribute: ['__all__', '__bibtex__', '__builtins__', '__cached__', '__doc__', '__file__', '__loader__', '__name__', '__package__', '__path__', '__spec__']\n",
      "datamodel method: ['__getattr__']\n",
      "constant: []\n",
      "attribute: ['artist', 'axes', 'axis', 'backend_bases', 'backend_managers', 'backend_tools', 'bezier', 'category', 'cbook', 'cm', 'collections', 'color_sequences', 'colorbar', 'colors', 'container', 'contour', 'dates', 'defaultParams', 'dviread', 'figure', 'font_manager', 'ft2font', 'gridspec', 'hatch', 'image', 'inspect', 'layout_engine', 'legend', 'legend_handler', 'lines', 'logging', 'markers', 'mathtext', 'mlab', 'numpy', 'offsetbox', 'patches', 'path', 'projections', 'pyplot', 'quiver', 'rcParams', 'rcParamsDefault', 'rcParamsOrig', 'rcsetup', 'scale', 'spines', 'stackplot', 'streamplot', 'style', 'sys', 'table', 'texmanager', 'text', 'textpath', 'ticker', 'transforms', 'tri', 'units', 'widgets']\n",
      "method/function: ['colormaps', 'cycler', 'get_backend', 'get_cachedir', 'get_configdir', 'get_data_path', 'interactive', 'is_interactive', 'matplotlib_fname', 'namedtuple', 'parse_version', 'rc', 'rc_context', 'rc_file', 'rc_file_defaults', 'rc_params', 'rc_params_from_file', 'rcdefaults', 'sanitize_sequence', 'set_loglevel', 'use', 'validate_backend']\n",
      "upper class: ['ExecutableNotFoundError', 'MatplotlibDeprecationWarning', 'Parameter', 'Path']\n",
      "lower class: []\n"
     ]
    }
   ],
   "source": [
    "print_identifier_group(mpl, kind='all', exclude_std=True)"
   ]
  },
  {
   "cell_type": "markdown",
   "metadata": {},
   "source": [
    "The file corresponding to the ```mpl``` library can be examined:"
   ]
  },
  {
   "cell_type": "code",
   "execution_count": null,
   "metadata": {},
   "outputs": [],
   "source": [
    "print(mpl.__file__)"
   ]
  },
  {
   "cell_type": "markdown",
   "metadata": {},
   "source": [
    "Double clicking the link to the file in the output cell should open the file in a new window. At the top of this file are a large number of ```import``` statements. These are typically from Python standard modules and other datascience libraries like ```numpy```:"
   ]
  },
  {
   "cell_type": "markdown",
   "metadata": {},
   "source": [
    "```python\n",
    "import atexit\n",
    "from collections import namedtuple\n",
    "from collections.abc import MutableMapping\n",
    "import contextlib\n",
    "import functools\n",
    "import importlib\n",
    "import inspect\n",
    "from inspect import Parameter\n",
    "import locale\n",
    "import logging\n",
    "import os\n",
    "from pathlib import Path\n",
    "import pprint\n",
    "import re\n",
    "import shutil\n",
    "import subprocess\n",
    "import sys\n",
    "import tempfile\n",
    "import warnings\n",
    "\n",
    "import numpy\n",
    "from packaging.version import parse as parse_version\n",
    "\n",
    "from . import _api, _version, cbook, _docstring, rcsetup\n",
    "from matplotlib.cbook import sanitize_sequence\n",
    "from matplotlib._api import MatplotlibDeprecationWarning\n",
    "from matplotlib.rcsetup import validate_backend, cycler\n",
    "```"
   ]
  },
  {
   "cell_type": "markdown",
   "metadata": {},
   "source": [
    "These display in the namespace of the ```mpl``` library as attributes, so they can internally be accessed by ```mpl``` functions. These modules are not typically accessed by an end-user via ```mpl``` and are instead separately imported:"
   ]
  },
  {
   "cell_type": "code",
   "execution_count": null,
   "metadata": {},
   "outputs": [],
   "source": [
    "np == mpl.numpy"
   ]
  },
  {
   "cell_type": "code",
   "execution_count": null,
   "metadata": {},
   "outputs": [],
   "source": [
    "print_identifier_group(mpl.mlab, kind='all')"
   ]
  },
  {
   "cell_type": "markdown",
   "metadata": {},
   "source": []
  },
  {
   "cell_type": "markdown",
   "metadata": {},
   "source": []
  },
  {
   "attachments": {},
   "cell_type": "markdown",
   "metadata": {},
   "source": [
    "A simple plot requires y values measured at respect x values. y is known as the dependent variable and x is known as the dependent variable. Notice that the independent x measurements are taken at linearly spaced intervals. The y values taken at these values of x have some associated error:"
   ]
  },
  {
   "cell_type": "code",
   "execution_count": null,
   "metadata": {},
   "outputs": [],
   "source": [
    "x = np.array([0, 1, 2, 3, 4, 5])\n",
    "y = np.array([0.001, 2.001, 3.999, 5.999, 8.002, 10.001])"
   ]
  },
  {
   "cell_type": "code",
   "execution_count": null,
   "metadata": {},
   "outputs": [],
   "source": [
    "x"
   ]
  },
  {
   "cell_type": "code",
   "execution_count": null,
   "metadata": {},
   "outputs": [],
   "source": [
    "y"
   ]
  },
  {
   "attachments": {},
   "cell_type": "markdown",
   "metadata": {},
   "source": [
    "A plot involves instantiation of a Figure class. This Figure canvas instance is normally white with a 0 width but shown with a facecolor of cyan, edgecolor of black and edgecolor of 10:"
   ]
  },
  {
   "cell_type": "code",
   "execution_count": null,
   "metadata": {},
   "outputs": [],
   "source": [
    "from module import figurecanvas\n",
    "figurecanvas()"
   ]
  },
  {
   "attachments": {},
   "cell_type": "markdown",
   "metadata": {},
   "source": [
    "To this Figure class, one or more Axes instances are added:"
   ]
  },
  {
   "cell_type": "code",
   "execution_count": null,
   "metadata": {},
   "outputs": [],
   "source": [
    "from module import axes\n",
    "axes()"
   ]
  },
  {
   "attachments": {},
   "cell_type": "markdown",
   "metadata": {},
   "source": [
    "The Axes above contain no data and are normalised. Axes labels can be added to this Axes:"
   ]
  },
  {
   "cell_type": "code",
   "execution_count": null,
   "metadata": {},
   "outputs": [],
   "source": [
    "from module import axes_label\n",
    "axes_label()"
   ]
  },
  {
   "attachments": {},
   "cell_type": "markdown",
   "metadata": {},
   "source": [
    "Finally a plotting method is used to plot data. The plotted data is an instance of another class:"
   ]
  },
  {
   "cell_type": "code",
   "execution_count": null,
   "metadata": {},
   "outputs": [],
   "source": [
    "from module import plot\n",
    "plot()"
   ]
  },
  {
   "attachments": {},
   "cell_type": "markdown",
   "metadata": {},
   "source": [
    "## Importing Libraries"
   ]
  },
  {
   "attachments": {},
   "cell_type": "markdown",
   "metadata": {},
   "source": [
    "To create numeric data the numpy library is imported:"
   ]
  },
  {
   "cell_type": "code",
   "execution_count": null,
   "metadata": {},
   "outputs": [],
   "source": [
    "import numpy as np"
   ]
  },
  {
   "attachments": {},
   "cell_type": "markdown",
   "metadata": {},
   "source": [
    "It can be imported and its name and version checked using:"
   ]
  },
  {
   "cell_type": "code",
   "execution_count": null,
   "metadata": {},
   "outputs": [],
   "source": [
    "np.__name__"
   ]
  },
  {
   "cell_type": "code",
   "execution_count": null,
   "metadata": {},
   "outputs": [],
   "source": [
    "plt.__file__"
   ]
  },
  {
   "attachments": {},
   "cell_type": "markdown",
   "metadata": {},
   "source": [
    "## pyplot Identifiers"
   ]
  },
  {
   "attachments": {},
   "cell_type": "markdown",
   "metadata": {},
   "source": [
    "The pyplot has a large number of identifiers. "
   ]
  },
  {
   "cell_type": "markdown",
   "metadata": {},
   "source": [
    "Notice that the pyplot module imports\n",
    "\n",
    "* Python standard modules: functools, importlib, inspect,logging, re, sys, threading, time\n",
    "\n",
    "* Third party libraries: numpy, matplotlib\n",
    "\n",
    "* Other modules from matplotlib: colorbar, image\n",
    "\n",
    "In addition to individual objects from Python standard modules, third-party libraries and other matplotlib modules."
   ]
  },
  {
   "cell_type": "raw",
   "metadata": {},
   "source": [
    "from contextlib import ExitStack\n",
    "from enum import Enum\n",
    "import functools\n",
    "import importlib\n",
    "import inspect\n",
    "import logging\n",
    "from numbers import Number\n",
    "import re\n",
    "import sys\n",
    "import threading\n",
    "import time\n",
    "\n",
    "from cycler import cycler\n",
    "import matplotlib\n",
    "import matplotlib.colorbar\n",
    "import matplotlib.image\n",
    "from matplotlib import _api\n",
    "from matplotlib import rcsetup, style\n",
    "from matplotlib import _pylab_helpers, interactive\n",
    "from matplotlib import cbook\n",
    "from matplotlib import _docstring\n",
    "from matplotlib.backend_bases import (\n",
    "    FigureCanvasBase, FigureManagerBase, MouseButton)\n",
    "from matplotlib.figure import Figure, FigureBase, figaspect\n",
    "from matplotlib.gridspec import GridSpec, SubplotSpec\n",
    "from matplotlib import rcParams, rcParamsDefault, get_backend, rcParamsOrig\n",
    "from matplotlib.rcsetup import interactive_bk as _interactive_bk\n",
    "from matplotlib.artist import Artist\n",
    "from matplotlib.axes import Axes, Subplot\n",
    "from matplotlib.projections import PolarAxes\n",
    "from matplotlib import mlab  # for detrend_none, window_hanning\n",
    "from matplotlib.scale import get_scale_names\n",
    "\n",
    "from matplotlib import cm\n",
    "from matplotlib.cm import _colormaps as colormaps, register_cmap\n",
    "from matplotlib.colors import _color_sequences as color_sequences\n",
    "\n",
    "import numpy as np\n",
    "\n",
    "# We may not need the following imports here:\n",
    "from matplotlib.colors import Normalize\n",
    "from matplotlib.lines import Line2D\n",
    "from matplotlib.text import Text, Annotation\n",
    "from matplotlib.patches import Polygon, Rectangle, Circle, Arrow\n",
    "from matplotlib.widgets import Button, Slider, Widget"
   ]
  },
  {
   "attachments": {},
   "cell_type": "markdown",
   "metadata": {},
   "source": [
    "These are all known as **dependencies** of pyplot. Everything imported within pyplot is accessible in the main namespace. Because numpy was imported as np in the pyplot module which was in turn imported using the alias plt, it becomes np.plt in the global namespace:"
   ]
  },
  {
   "cell_type": "code",
   "execution_count": null,
   "metadata": {},
   "outputs": [],
   "source": [
    "np == plt.np"
   ]
  },
  {
   "cell_type": "markdown",
   "metadata": {},
   "source": [
    "np is not typically used in the global namespace as an attribute fo the pyplot module i.e. it is very rare for a user to instantiate an array using:"
   ]
  },
  {
   "cell_type": "code",
   "execution_count": null,
   "metadata": {},
   "outputs": [],
   "source": [
    "plt.np.array([0, 1, 2, 3, 4])"
   ]
  },
  {
   "cell_type": "markdown",
   "metadata": {},
   "source": [
    "When numpy is used directly in the global namespace, it is imported directly into the global namespace using the alias np:"
   ]
  },
  {
   "cell_type": "code",
   "execution_count": null,
   "metadata": {},
   "outputs": [],
   "source": [
    "import numpy as np"
   ]
  },
  {
   "cell_type": "code",
   "execution_count": null,
   "metadata": {},
   "outputs": [],
   "source": [
    "np.array([0, 1, 2, 3, 4])"
   ]
  },
  {
   "cell_type": "markdown",
   "metadata": {},
   "source": [
    "Therefore these pyplot attributes are not typically used in the global namespace. If functionality from these modules or libraries is required, they are normally imported directly."
   ]
  },
  {
   "attachments": {},
   "cell_type": "markdown",
   "metadata": {},
   "source": [
    "The classes are in CamelCase:"
   ]
  },
  {
   "cell_type": "code",
   "execution_count": null,
   "metadata": {},
   "outputs": [],
   "source": [
    "for identifier in dir(plt):\n",
    "    isfunction = callable(getattr(plt, identifier))\n",
    "    isupper = identifier[0].isupper()\n",
    "    isdatamodel = (identifier[0:1] == '_')\n",
    "    if (isfunction and isupper and not isdatamodel):\n",
    "        print(identifier, end=' ')"
   ]
  },
  {
   "cell_type": "markdown",
   "metadata": {},
   "source": [
    "Notice that these classes are imported into pyplot from their perspective modules:"
   ]
  },
  {
   "cell_type": "code",
   "execution_count": null,
   "metadata": {},
   "outputs": [],
   "source": [
    "print(plt.__file__)"
   ]
  },
  {
   "cell_type": "raw",
   "metadata": {},
   "source": [
    "from matplotlib.figure import Figure, FigureBase\n",
    "from matplotlib.axes import Axes, Subplot\n",
    "\n",
    "from matplotlib.gridspec import GridSpec, SubplotSpec\n",
    "\n",
    "from matplotlib.artist import Artist\n",
    "from matplotlib.projections import PolarAxes\n",
    "from matplotlib.colors import Normalize\n",
    "from matplotlib.lines import Line2D\n",
    "from matplotlib.text import Text, Annotation\n",
    "from matplotlib.patches import Polygon, Rectangle, Circle, Arrow\n",
    "from matplotlib.widgets import Button, Slider, Widget\n",
    "\n",
    "from .ticker import (\n",
    "    TickHelper, Formatter, FixedFormatter, NullFormatter, FuncFormatter,\n",
    "    FormatStrFormatter, ScalarFormatter, LogFormatter, LogFormatterExponent,\n",
    "    LogFormatterMathtext, Locator, IndexLocator, FixedLocator, NullLocator,\n",
    "    LinearLocator, LogLocator, AutoLocator, MultipleLocator, MaxNLocator)"
   ]
  },
  {
   "cell_type": "markdown",
   "metadata": {},
   "source": [
    "The modules show what classes are related to one another. The most two important classes are **Figure** and **Axes**. The Figure class is the Figure canvas instance and the Axes class is the Axes instance which is placed on the Figure canvas. Most of the other classes are additional instances which display the data on the Axes instance."
   ]
  },
  {
   "attachments": {},
   "cell_type": "markdown",
   "metadata": {},
   "source": [
    "The pyplot module is configured for functional programming and as a consequence there are a large number of functions in pyplot:"
   ]
  },
  {
   "cell_type": "code",
   "execution_count": null,
   "metadata": {},
   "outputs": [],
   "source": [
    "for identifier in dir(plt):\n",
    "    isfunction = callable(getattr(plt, identifier))\n",
    "    isupper = identifier[0].isupper()\n",
    "    isdatamodel = (identifier[0:1] == '_')\n",
    "    if (isfunction and not isupper and not isdatamodel):\n",
    "        print(identifier, end=' ')"
   ]
  },
  {
   "attachments": {},
   "cell_type": "markdown",
   "metadata": {},
   "source": [
    "A number of functions in pyplot are related to the Figure instance and are therefore identifiers in the Figure class. Most of these functions add something to a Figure canvas for example an Axes instance:"
   ]
  },
  {
   "cell_type": "code",
   "execution_count": null,
   "metadata": {},
   "outputs": [],
   "source": [
    "for identifier in dir(plt):\n",
    "    isfunction = callable(getattr(plt, identifier))\n",
    "    isupper = identifier[0].isupper()\n",
    "    isinfigure = identifier in dir(plt.Figure)\n",
    "    isinaxes = identifier in dir(plt.Axes)\n",
    "    isdatamodel = (identifier[0:1] == '_')\n",
    "    if (isinfigure and not isinaxes and isfunction and not isupper and not isdatamodel):\n",
    "        print(identifier, end=' ')"
   ]
  },
  {
   "attachments": {},
   "cell_type": "markdown",
   "metadata": {},
   "source": [
    "A number of functions in pyplot are related to the Axes instance and are therefore identifiers in the Axes class. Most of these functions add something to the Axes and are essentially plotting functions:"
   ]
  },
  {
   "cell_type": "code",
   "execution_count": null,
   "metadata": {},
   "outputs": [],
   "source": [
    "for identifier in dir(plt):\n",
    "    isfunction = callable(getattr(plt, identifier))\n",
    "    isupper = identifier[0].isupper()\n",
    "    isinfigure = identifier in dir(plt.Figure)\n",
    "    isinaxes = identifier in dir(plt.Axes)\n",
    "    isdatamodel = (identifier[0:1] == '_')\n",
    "    if (not isinfigure and isinaxes and isfunction and not isupper and not isdatamodel):\n",
    "        print(identifier, end=' ')"
   ]
  },
  {
   "attachments": {},
   "cell_type": "markdown",
   "metadata": {},
   "source": [
    "There are a number of additional functions that have equivalent get and set methods in the Axes class:"
   ]
  },
  {
   "cell_type": "code",
   "execution_count": null,
   "metadata": {},
   "outputs": [],
   "source": [
    "for identifier in dir(plt):\n",
    "    isfunction = callable(getattr(plt, identifier))\n",
    "    isupper = identifier[0].isupper()\n",
    "    isinfigure = identifier in dir(plt.Figure)\n",
    "    isinaxes = identifier in dir(plt.Axes)\n",
    "    isinaxes2 = 'set_' + identifier in dir(plt.Axes)\n",
    "    isdatamodel = (identifier[0:1] == '_')\n",
    "    if (not isinfigure and not isinaxes and isinaxes2 and isfunction and not isupper and not isdatamodel):\n",
    "        print(identifier, end=' ')"
   ]
  },
  {
   "attachments": {},
   "cell_type": "markdown",
   "metadata": {},
   "source": [
    "A number of identifiers are also colormaps, colormaps are used to visually distinguish 3d data on 2d plots through the use of color:"
   ]
  },
  {
   "cell_type": "code",
   "execution_count": null,
   "metadata": {},
   "outputs": [],
   "source": [
    "for identifier in dir(plt):\n",
    "    isfunction = callable(getattr(plt, identifier))\n",
    "    isupper = identifier[0].isupper()\n",
    "    isinfigure = identifier in dir(plt.Figure)\n",
    "    isinaxes = identifier in dir(plt.Axes)\n",
    "    isinaxes2 = 'set_' + identifier in dir(plt.Axes)\n",
    "    iscolormap = identifier in plt.colormaps()\n",
    "    isdatamodel = (identifier[0:1] == '_')\n",
    "    if (not isinfigure and not isinaxes and not isinaxes2 and iscolormap and isfunction and not isupper and not isdatamodel):\n",
    "        print(identifier, end=' ')"
   ]
  },
  {
   "attachments": {},
   "cell_type": "markdown",
   "metadata": {},
   "source": [
    "There are a number of additional functions that can be invoked from pyplot that don't have equivalents in the above categories:"
   ]
  },
  {
   "cell_type": "code",
   "execution_count": null,
   "metadata": {},
   "outputs": [],
   "source": [
    "for identifier in dir(plt):\n",
    "    isfunction = callable(getattr(plt, identifier))\n",
    "    isupper = identifier[0].isupper()\n",
    "    isinfigure = identifier in dir(plt.Figure)\n",
    "    isinaxes = identifier in dir(plt.Axes)\n",
    "    isinaxes2 = 'set_' + identifier in dir(plt.Axes)\n",
    "    iscolormap = identifier in plt.colormaps()\n",
    "    isdatamodel = (identifier[0:1] == '_')\n",
    "    if (not isinfigure and not isinaxes and not isinaxes2 and not iscolormap and isfunction and not isupper and not isdatamodel):\n",
    "        print(identifier, end=' ')"
   ]
  },
  {
   "attachments": {},
   "cell_type": "markdown",
   "metadata": {},
   "source": [
    "However some of these have equivalent methods with substantially different names:"
   ]
  },
  {
   "cell_type": "code",
   "execution_count": null,
   "metadata": {},
   "outputs": [],
   "source": [
    "? plt.box"
   ]
  },
  {
   "attachments": {},
   "cell_type": "markdown",
   "metadata": {},
   "source": [
    "## Object Orientated Programming"
   ]
  },
  {
   "cell_type": "markdown",
   "metadata": {},
   "source": [
    "matplotlib is configured for an Object Orientated Programming approach which is generally recommended when programming. This involves instantiation of a Figure instance using the Figure class:"
   ]
  },
  {
   "cell_type": "code",
   "execution_count": null,
   "metadata": {},
   "outputs": [],
   "source": [
    "? plt.Figure"
   ]
  },
  {
   "cell_type": "markdown",
   "metadata": {},
   "source": [
    "If all the keyword arguments are left at their default values:"
   ]
  },
  {
   "cell_type": "code",
   "execution_count": null,
   "metadata": {},
   "outputs": [],
   "source": [
    "fig = plt.Figure()"
   ]
  },
  {
   "cell_type": "markdown",
   "metadata": {},
   "source": [
    "This Figure can be shown by inputting:"
   ]
  },
  {
   "cell_type": "code",
   "execution_count": null,
   "metadata": {},
   "outputs": [],
   "source": [
    "fig"
   ]
  },
  {
   "cell_type": "markdown",
   "metadata": {},
   "source": [
    "When the canvas is blank only details about the Figure will be shown. Notice that this Figure canvas includes 0 Axes. An instance of the Axes class needs to be instantiated:"
   ]
  },
  {
   "cell_type": "code",
   "execution_count": null,
   "metadata": {},
   "outputs": [],
   "source": [
    "? plt.Axes"
   ]
  },
  {
   "cell_type": "markdown",
   "metadata": {},
   "source": [
    "The docstring for this class states that this class is not instantiated directly and instead a Figure method should be used to instantiate an Axes, for example the method add_axes:"
   ]
  },
  {
   "cell_type": "code",
   "execution_count": null,
   "metadata": {},
   "outputs": [],
   "source": [
    "? fig.add_axes"
   ]
  },
  {
   "cell_type": "markdown",
   "metadata": {},
   "source": [
    "A Figure instance is instantiated:"
   ]
  },
  {
   "cell_type": "code",
   "execution_count": null,
   "metadata": {},
   "outputs": [],
   "source": [
    "fig = plt.Figure()"
   ]
  },
  {
   "cell_type": "markdown",
   "metadata": {},
   "source": [
    "The method add_axes creates an Axes instance from a rectangle. Recall the Figure instance is 640 pixels wide by 480 pixels in height. Note however the rectangle uses normalised dimensions of the figure canvas:"
   ]
  },
  {
   "cell_type": "code",
   "execution_count": null,
   "metadata": {},
   "outputs": [],
   "source": [
    "left = 0 # 0 pixels\n",
    "bottom = 0 # 0 pixels\n",
    "width = 1 # 640 pixels\n",
    "height = 1 # 480 pixels\n",
    "\n",
    "ax1 = fig.add_axes(rect=(left, bottom, width, height))"
   ]
  },
  {
   "cell_type": "markdown",
   "metadata": {},
   "source": [
    "Notice that ax1 is an instance of Axes but has no information:"
   ]
  },
  {
   "cell_type": "code",
   "execution_count": null,
   "metadata": {},
   "outputs": [],
   "source": [
    "ax1"
   ]
  },
  {
   "cell_type": "markdown",
   "metadata": {},
   "source": [
    "The Figure instance fig with the Axes instance ax1 can now be seen:"
   ]
  },
  {
   "cell_type": "code",
   "execution_count": null,
   "metadata": {},
   "outputs": [],
   "source": [
    "fig"
   ]
  },
  {
   "cell_type": "markdown",
   "metadata": {},
   "source": [
    "A second Axes instance can be added to the Figure instance using:"
   ]
  },
  {
   "cell_type": "code",
   "execution_count": null,
   "metadata": {},
   "outputs": [],
   "source": [
    "left = 0.2 # 128 pixels\n",
    "bottom = 0.2 # 96 pixels\n",
    "width = 0.5 # 320 pixels\n",
    "height = 0.5 # 240 pixels\n",
    "\n",
    "ax2 = fig.add_axes(rect=(left, bottom, width, height))"
   ]
  },
  {
   "cell_type": "markdown",
   "metadata": {},
   "source": [
    "It also has no information:"
   ]
  },
  {
   "cell_type": "code",
   "execution_count": null,
   "metadata": {},
   "outputs": [],
   "source": [
    "ax2"
   ]
  },
  {
   "cell_type": "markdown",
   "metadata": {},
   "source": [
    "Information can be added using the axis labels:"
   ]
  },
  {
   "cell_type": "code",
   "execution_count": null,
   "metadata": {},
   "outputs": [],
   "source": [
    "ax2.set_xlabel('x')\n",
    "ax2.set_ylabel('y')\n",
    "ax2.set_title('y(x)')"
   ]
  },
  {
   "cell_type": "code",
   "execution_count": null,
   "metadata": {},
   "outputs": [],
   "source": [
    "ax2"
   ]
  },
  {
   "cell_type": "code",
   "execution_count": null,
   "metadata": {},
   "outputs": [],
   "source": [
    "fig"
   ]
  },
  {
   "cell_type": "markdown",
   "metadata": {},
   "source": [
    "The data plotted is usually in the form of ndarrays. In this case independent x data and dependent y data:"
   ]
  },
  {
   "cell_type": "code",
   "execution_count": null,
   "metadata": {},
   "outputs": [],
   "source": [
    "x"
   ]
  },
  {
   "cell_type": "code",
   "execution_count": null,
   "metadata": {},
   "outputs": [],
   "source": [
    "y"
   ]
  },
  {
   "cell_type": "markdown",
   "metadata": {},
   "source": [
    "They are plotted using an Axes method:"
   ]
  },
  {
   "cell_type": "code",
   "execution_count": null,
   "metadata": {},
   "outputs": [],
   "source": [
    "? ax2.plot"
   ]
  },
  {
   "cell_type": "markdown",
   "metadata": {},
   "source": [
    "The most simple plot will be created leaving all the keyword input arguments at their default:"
   ]
  },
  {
   "cell_type": "code",
   "execution_count": null,
   "metadata": {},
   "outputs": [],
   "source": [
    "chart = ax2.plot(x, y)"
   ]
  },
  {
   "cell_type": "markdown",
   "metadata": {},
   "source": [
    "If the chart is examined, notice that it is a list of Line2D objects (in this case a single line):"
   ]
  },
  {
   "cell_type": "code",
   "execution_count": null,
   "metadata": {},
   "outputs": [],
   "source": [
    "chart"
   ]
  },
  {
   "cell_type": "markdown",
   "metadata": {},
   "source": [
    "A single Line2D instance can be accessed by indexing:"
   ]
  },
  {
   "cell_type": "code",
   "execution_count": null,
   "metadata": {},
   "outputs": [],
   "source": [
    "line = chart[0]"
   ]
  },
  {
   "cell_type": "markdown",
   "metadata": {},
   "source": [
    "If fig is examined, the two Axes instances ax1 and ax2 display. The axes labels and Line2D instance line display on ax2:"
   ]
  },
  {
   "cell_type": "code",
   "execution_count": null,
   "metadata": {},
   "outputs": [],
   "source": [
    "fig"
   ]
  },
  {
   "cell_type": "markdown",
   "metadata": {},
   "source": [
    "Notice that methods can be accessed from these four objects:"
   ]
  },
  {
   "cell_type": "code",
   "execution_count": null,
   "metadata": {},
   "outputs": [],
   "source": [
    "# fig."
   ]
  },
  {
   "cell_type": "code",
   "execution_count": null,
   "metadata": {},
   "outputs": [],
   "source": [
    "# ax1."
   ]
  },
  {
   "cell_type": "code",
   "execution_count": null,
   "metadata": {},
   "outputs": [],
   "source": [
    "# ax2."
   ]
  },
  {
   "cell_type": "code",
   "execution_count": null,
   "metadata": {},
   "outputs": [],
   "source": [
    "# line."
   ]
  },
  {
   "cell_type": "markdown",
   "metadata": {},
   "source": [
    "For example the Line2D method get_color can be used to get the color of the Line2D instance:"
   ]
  },
  {
   "cell_type": "code",
   "execution_count": null,
   "metadata": {},
   "outputs": [],
   "source": [
    "line.get_color()"
   ]
  },
  {
   "cell_type": "markdown",
   "metadata": {},
   "source": [
    "And the matching set_color method can be used to set the color to 'tomato':"
   ]
  },
  {
   "cell_type": "code",
   "execution_count": null,
   "metadata": {},
   "outputs": [],
   "source": [
    "line.set_color('tomato')"
   ]
  },
  {
   "cell_type": "markdown",
   "metadata": {},
   "source": [
    "If fig is re-examined the line is updated:"
   ]
  },
  {
   "cell_type": "code",
   "execution_count": null,
   "metadata": {},
   "outputs": [],
   "source": [
    "fig"
   ]
  },
  {
   "cell_type": "markdown",
   "metadata": {},
   "source": [
    "Bringing this together:"
   ]
  },
  {
   "cell_type": "code",
   "execution_count": null,
   "metadata": {},
   "outputs": [],
   "source": [
    "fig = plt.Figure()\n",
    "ax1 = fig.add_axes(rect=(0, 0, 1, 1))\n",
    "ax2 = fig.add_axes(rect=(0.2, 0.2, 0.5, 0.5))\n",
    "ax2.set_xlabel('x')\n",
    "ax2.set_ylabel('y')\n",
    "ax2.set_title('y(x)')\n",
    "line = ax2.plot(x, y)[0]\n",
    "line.set_color('tomato')\n",
    "\n",
    "fig"
   ]
  },
  {
   "cell_type": "markdown",
   "metadata": {},
   "source": [
    "Normally the properties of the plot are specified when creating the plot, for example the color rcan be specified as a keyword argument in the plot function:"
   ]
  },
  {
   "cell_type": "code",
   "execution_count": null,
   "metadata": {},
   "outputs": [],
   "source": [
    "fig = plt.Figure()\n",
    "ax1 = fig.add_axes(rect=(0, 0, 1, 1))\n",
    "ax2 = fig.add_axes(rect=(0.2, 0.2, 0.5, 0.5))\n",
    "ax2.set_xlabel('x')\n",
    "ax2.set_ylabel('y')\n",
    "ax2.set_title('y(x)')\n",
    "line = ax2.plot(x, y, color='tomato')[0]\n",
    "\n",
    "fig"
   ]
  },
  {
   "cell_type": "markdown",
   "metadata": {},
   "source": [
    "If only the Figure instance is instantiated to an instance name, then the return value of the last object will be displayed in the cell output:"
   ]
  },
  {
   "cell_type": "code",
   "execution_count": null,
   "metadata": {},
   "outputs": [],
   "source": [
    "fig = plt.Figure()\n",
    "fig.add_axes(rect=(0, 0, 1, 1))\n",
    "fig.add_axes(rect=(0.2, 0.2, 0.5, 0.5))"
   ]
  },
  {
   "cell_type": "markdown",
   "metadata": {},
   "source": [
    "This can be suppressed with a semicolon:"
   ]
  },
  {
   "cell_type": "code",
   "execution_count": null,
   "metadata": {},
   "outputs": [],
   "source": [
    "fig = plt.Figure()\n",
    "fig.add_axes(rect=(0, 0, 1, 1));\n",
    "fig.add_axes(rect=(0.2, 0.2, 0.5, 0.5));"
   ]
  },
  {
   "cell_type": "markdown",
   "metadata": {},
   "source": [
    "The Axes can be accessed from the Figure using the Figure axes attribute:"
   ]
  },
  {
   "cell_type": "code",
   "execution_count": null,
   "metadata": {},
   "outputs": [],
   "source": [
    "fig.axes"
   ]
  },
  {
   "cell_type": "markdown",
   "metadata": {},
   "source": [
    "And then the Axes instance of interest can be assigned to an instance name:"
   ]
  },
  {
   "cell_type": "code",
   "execution_count": null,
   "metadata": {},
   "outputs": [],
   "source": [
    "ax2 = fig.axes[1]"
   ]
  },
  {
   "cell_type": "code",
   "execution_count": null,
   "metadata": {},
   "outputs": [],
   "source": [
    "ax2.set_xlabel('x');\n",
    "fig.axes[1].set_ylabel('y');\n",
    "ax2.set_title('y(x)');"
   ]
  },
  {
   "cell_type": "markdown",
   "metadata": {},
   "source": [
    "Notice the Axes is now updated in the Figure attribute axes:"
   ]
  },
  {
   "cell_type": "code",
   "execution_count": null,
   "metadata": {},
   "outputs": [],
   "source": [
    "fig.axes"
   ]
  },
  {
   "cell_type": "markdown",
   "metadata": {},
   "source": [
    "Likewise the Axes instance has the attribute Figure:"
   ]
  },
  {
   "cell_type": "code",
   "execution_count": null,
   "metadata": {},
   "outputs": [],
   "source": [
    "ax2.figure"
   ]
  },
  {
   "cell_type": "markdown",
   "metadata": {},
   "source": [
    "And:"
   ]
  },
  {
   "cell_type": "code",
   "execution_count": null,
   "metadata": {},
   "outputs": [],
   "source": [
    "ax2.figure == fig"
   ]
  },
  {
   "cell_type": "markdown",
   "metadata": {},
   "source": [
    "And if a line is added:"
   ]
  },
  {
   "cell_type": "code",
   "execution_count": null,
   "metadata": {},
   "outputs": [],
   "source": [
    "chart = ax2.plot(x, y) # list of Line2D"
   ]
  },
  {
   "cell_type": "code",
   "execution_count": null,
   "metadata": {},
   "outputs": [],
   "source": [
    "line = ax2.plot(x, y)[0]"
   ]
  },
  {
   "cell_type": "markdown",
   "metadata": {},
   "source": [
    "This has the attribute axes and figure:"
   ]
  },
  {
   "cell_type": "code",
   "execution_count": null,
   "metadata": {},
   "outputs": [],
   "source": [
    "line.axes"
   ]
  },
  {
   "cell_type": "code",
   "execution_count": null,
   "metadata": {},
   "outputs": [],
   "source": [
    "line.figure"
   ]
  },
  {
   "cell_type": "markdown",
   "metadata": {},
   "source": [
    "If a Figure is instantiated without an instance name:"
   ]
  },
  {
   "cell_type": "code",
   "execution_count": null,
   "metadata": {},
   "outputs": [],
   "source": [
    "plt.Figure()"
   ]
  },
  {
   "cell_type": "markdown",
   "metadata": {},
   "source": [
    "The cell output displays details about this Figure. The last Figure is the currently selected figure. The get current figure pyplot function gcf can be used to select this Figure:"
   ]
  },
  {
   "cell_type": "code",
   "execution_count": null,
   "metadata": {},
   "outputs": [],
   "source": [
    "plt.gcf()"
   ]
  },
  {
   "cell_type": "markdown",
   "metadata": {},
   "source": [
    "And assign it to an instance name:"
   ]
  },
  {
   "cell_type": "code",
   "execution_count": null,
   "metadata": {},
   "outputs": [],
   "source": [
    "fig = plt.gcf()"
   ]
  },
  {
   "cell_type": "markdown",
   "metadata": {},
   "source": [
    "If two Axes instance are added to the currently selected Figure without instance names:"
   ]
  },
  {
   "cell_type": "code",
   "execution_count": null,
   "metadata": {},
   "outputs": [],
   "source": [
    "fig.add_axes(rect=(0, 0, 1, 1))"
   ]
  },
  {
   "cell_type": "code",
   "execution_count": null,
   "metadata": {},
   "outputs": [],
   "source": [
    "fig.add_axes(rect=(0.2, 0.2, 0.5, 0.5))"
   ]
  },
  {
   "cell_type": "markdown",
   "metadata": {},
   "source": [
    "The last Axes is the currently selected Axes and can be accessed using the get current axes pyplot function gca:"
   ]
  },
  {
   "cell_type": "code",
   "execution_count": null,
   "metadata": {},
   "outputs": [],
   "source": [
    "plt.gca()"
   ]
  },
  {
   "cell_type": "markdown",
   "metadata": {},
   "source": [
    "Or Figure method gca:"
   ]
  },
  {
   "cell_type": "code",
   "execution_count": null,
   "metadata": {},
   "outputs": [],
   "source": [
    "fig.gca()"
   ]
  },
  {
   "cell_type": "markdown",
   "metadata": {},
   "source": [
    "If the currently selected Axes is assigned to an instance name:"
   ]
  },
  {
   "cell_type": "code",
   "execution_count": null,
   "metadata": {},
   "outputs": [],
   "source": [
    "ax2 = fig.gca()"
   ]
  },
  {
   "cell_type": "code",
   "execution_count": null,
   "metadata": {},
   "outputs": [],
   "source": [
    "ax2"
   ]
  },
  {
   "cell_type": "markdown",
   "metadata": {},
   "source": [
    "Then Axes labels and plot can be added:"
   ]
  },
  {
   "cell_type": "code",
   "execution_count": null,
   "metadata": {},
   "outputs": [],
   "source": [
    "ax2.set_xlabel('x')\n",
    "fig.axes[1].set_ylabel('y')\n",
    "ax2.set_title('y(x)')\n",
    "line = ax2.plot(x, y)[0]"
   ]
  },
  {
   "cell_type": "code",
   "execution_count": null,
   "metadata": {},
   "outputs": [],
   "source": [
    "fig"
   ]
  },
  {
   "cell_type": "markdown",
   "metadata": {},
   "source": [
    "## Subplots"
   ]
  },
  {
   "cell_type": "markdown",
   "metadata": {},
   "source": [
    "Instead of creating an Axes using a rectangle, it is more common to create an Axes using a subplot:"
   ]
  },
  {
   "cell_type": "code",
   "execution_count": null,
   "metadata": {},
   "outputs": [],
   "source": [
    "fig = plt.Figure()"
   ]
  },
  {
   "cell_type": "markdown",
   "metadata": {},
   "source": [
    "The Figure method add_subplot can be used to add a subplot using three integers nrows, ncols and index. nrows and ncols corresponding to the number of rows and number of columns to be created in the subplot respectively. The subplots index is row-ordered:"
   ]
  },
  {
   "cell_type": "code",
   "execution_count": null,
   "metadata": {},
   "outputs": [],
   "source": [
    "? fig.add_subplot"
   ]
  },
  {
   "cell_type": "markdown",
   "metadata": {},
   "source": [
    "The most common is a 1 row by 1 column with a single index 1 subplot:"
   ]
  },
  {
   "cell_type": "code",
   "execution_count": null,
   "metadata": {},
   "outputs": [],
   "source": [
    "fig.add_subplot(1, 1, 1) # nrows ncols index"
   ]
  },
  {
   "cell_type": "markdown",
   "metadata": {},
   "source": [
    "Notice this creates an Axes instance that spans the full Figure canvas instance:"
   ]
  },
  {
   "cell_type": "code",
   "execution_count": null,
   "metadata": {},
   "outputs": [],
   "source": [
    "fig"
   ]
  },
  {
   "cell_type": "markdown",
   "metadata": {},
   "source": [
    "A Figure can be instantiated with a subplot specification of 2 rows by 1 column and an Axes instance at index 1:"
   ]
  },
  {
   "cell_type": "code",
   "execution_count": null,
   "metadata": {},
   "outputs": [],
   "source": [
    "fig = plt.Figure()\n",
    "fig.add_subplot(2, 1, 1) # nrows ncols index"
   ]
  },
  {
   "cell_type": "markdown",
   "metadata": {},
   "source": [
    "If the Figure canvas is displayed, only half the canvas displays as the other half is empty:"
   ]
  },
  {
   "cell_type": "code",
   "execution_count": null,
   "metadata": {},
   "outputs": [],
   "source": [
    "fig"
   ]
  },
  {
   "cell_type": "markdown",
   "metadata": {},
   "source": [
    "An Axes at the second index is also be added:"
   ]
  },
  {
   "cell_type": "code",
   "execution_count": null,
   "metadata": {},
   "outputs": [],
   "source": [
    "fig.add_subplot(2, 1, 2) #nrows ncols index"
   ]
  },
  {
   "cell_type": "markdown",
   "metadata": {},
   "source": [
    "And the FIgure instance examined, both Axes instances now display:"
   ]
  },
  {
   "cell_type": "code",
   "execution_count": null,
   "metadata": {},
   "outputs": [],
   "source": [
    "fig"
   ]
  },
  {
   "cell_type": "markdown",
   "metadata": {},
   "source": [
    "A Figure instance with a subplots specification of 2 rows by 2 columns can be instantiated. Axes can be added at index 1, 2 and 3 leavind index 4 blank:"
   ]
  },
  {
   "cell_type": "code",
   "execution_count": null,
   "metadata": {},
   "outputs": [],
   "source": [
    "fig = plt.Figure()\n",
    "ax1 = fig.add_subplot(2, 2, 1) #nrows ncols index\n",
    "ax1.plot(x, y, color='tomato')\n",
    "ax2 = fig.add_subplot(2, 2, 2) #nrows ncols index\n",
    "ax2.plot(x, y, color='royalblue')\n",
    "ax3 = fig.add_subplot(2, 2, 3) #nrows ncols index\n",
    "ax3.plot(x, y, color='purple')\n",
    "\n",
    "fig"
   ]
  },
  {
   "cell_type": "markdown",
   "metadata": {},
   "source": [
    "This can be visualised as follows:"
   ]
  },
  {
   "cell_type": "markdown",
   "metadata": {},
   "source": [
    "$$\\begin{matrix}2\\ \\text{cols}&\\\\\\left[\\begin{matrix}1&2\\\\3&4\\\\\\end{matrix}\\right]&2\\ \\text{rows}\\\\\\end{matrix}$$"
   ]
  },
  {
   "cell_type": "markdown",
   "metadata": {},
   "source": [
    "An Axes can occupy multiple neighbouring index positions:"
   ]
  },
  {
   "cell_type": "code",
   "execution_count": null,
   "metadata": {},
   "outputs": [],
   "source": [
    "fig = plt.Figure()\n",
    "ax1 = fig.add_subplot(2, 2, 1) #nrows ncols index\n",
    "ax1.plot(x, y, color='tomato')\n",
    "ax2 = fig.add_subplot(2, 2, 2) #nrows ncols index\n",
    "ax2.plot(x, y, color='royalblue')\n",
    "ax3 = fig.add_subplot(2, 2, (3, 4)) #nrows ncols index\n",
    "ax3.plot(x, y, color='purple')\n",
    "\n",
    "fig"
   ]
  },
  {
   "cell_type": "markdown",
   "metadata": {},
   "source": [
    "A related method is subplots:"
   ]
  },
  {
   "cell_type": "code",
   "execution_count": null,
   "metadata": {},
   "outputs": [],
   "source": [
    "fig = plt.Figure()"
   ]
  },
  {
   "cell_type": "markdown",
   "metadata": {},
   "source": [
    "Instead of positional values for nrows and ncols these are keyword arguments with a default value of 1 each. Notice the exclusion of index:"
   ]
  },
  {
   "cell_type": "code",
   "execution_count": null,
   "metadata": {},
   "outputs": [],
   "source": [
    "? fig.subplots"
   ]
  },
  {
   "cell_type": "markdown",
   "metadata": {},
   "source": [
    "The return value for subplots is an Axes if nrows and ncols are 1:"
   ]
  },
  {
   "cell_type": "code",
   "execution_count": null,
   "metadata": {},
   "outputs": [],
   "source": [
    "ax = fig.subplots(nrows=1, ncols=1)\n",
    "ax"
   ]
  },
  {
   "cell_type": "markdown",
   "metadata": {},
   "source": [
    "However more generally the return value is a ndarray of Axes:"
   ]
  },
  {
   "cell_type": "code",
   "execution_count": null,
   "metadata": {},
   "outputs": [],
   "source": [
    "fig = plt.Figure()\n",
    "ax = fig.subplots(nrows=2, ncols=1)\n",
    "ax"
   ]
  },
  {
   "cell_type": "markdown",
   "metadata": {},
   "source": [
    "This ndarray is indexed into to access the Axes. Notice that zero-order indexing is used which is normal for ndarrays:"
   ]
  },
  {
   "cell_type": "code",
   "execution_count": null,
   "metadata": {},
   "outputs": [],
   "source": [
    "ax[0].plot(x, y, color='royalblue')\n",
    "ax[1].plot(x, y, color='purple')\n",
    "fig"
   ]
  },
  {
   "cell_type": "markdown",
   "metadata": {},
   "source": [
    "For a scalar, using the default values of 1 for nrows and ncols, an Axes scalar will be returned:"
   ]
  },
  {
   "cell_type": "code",
   "execution_count": null,
   "metadata": {},
   "outputs": [],
   "source": [
    "fig = plt.Figure()\n",
    "ax = fig.subplots()\n",
    "ax"
   ]
  },
  {
   "cell_type": "markdown",
   "metadata": {},
   "source": [
    "For a row vector or a column vector a 1darray will be output:"
   ]
  },
  {
   "cell_type": "code",
   "execution_count": null,
   "metadata": {},
   "outputs": [],
   "source": [
    "fig = plt.Figure()\n",
    "ax = fig.subplots(nrows=2, ncols=1)\n",
    "ax"
   ]
  },
  {
   "cell_type": "code",
   "execution_count": null,
   "metadata": {},
   "outputs": [],
   "source": [
    "fig = plt.Figure()\n",
    "ax = fig.subplots(nrows=1, ncols=2)\n",
    "ax"
   ]
  },
  {
   "cell_type": "markdown",
   "metadata": {},
   "source": [
    "For any other dimensions a 2darray will be output:"
   ]
  },
  {
   "cell_type": "code",
   "execution_count": null,
   "metadata": {},
   "outputs": [],
   "source": [
    "fig = plt.Figure()\n",
    "ax = fig.subplots(nrows=2, ncols=2)\n",
    "ax"
   ]
  },
  {
   "cell_type": "markdown",
   "metadata": {},
   "source": [
    "This can be indexed into to select each Axes:"
   ]
  },
  {
   "cell_type": "code",
   "execution_count": null,
   "metadata": {},
   "outputs": [],
   "source": [
    "ax[0, 0].plot(x, y, color='tomato')\n",
    "ax[0, 1].plot(x, y, color='royalblue')\n",
    "ax[1, 0].plot(x, y, color='purple')"
   ]
  },
  {
   "cell_type": "code",
   "execution_count": null,
   "metadata": {},
   "outputs": [],
   "source": [
    "fig"
   ]
  },
  {
   "cell_type": "markdown",
   "metadata": {},
   "source": [
    "Notice when the Figure method subplots is used all subplots display and therefore the last subplot has a normalised Axes with no data. "
   ]
  },
  {
   "cell_type": "markdown",
   "metadata": {},
   "source": [
    "Another common way to create a subplot is using subplot_mosaic which essnetially configures a mapping of Axes:"
   ]
  },
  {
   "cell_type": "code",
   "execution_count": null,
   "metadata": {},
   "outputs": [],
   "source": [
    "fig = plt.Figure()"
   ]
  },
  {
   "cell_type": "code",
   "execution_count": null,
   "metadata": {},
   "outputs": [],
   "source": [
    "? fig.subplot_mosaic"
   ]
  },
  {
   "cell_type": "code",
   "execution_count": null,
   "metadata": {},
   "outputs": [],
   "source": [
    "ax = fig.subplot_mosaic(mosaic=[['tomato', 'purple'],\n",
    "                                ['royalblue', 'purple']])\n",
    "ax"
   ]
  },
  {
   "cell_type": "markdown",
   "metadata": {},
   "source": [
    "The key is used to return the respective Axes:"
   ]
  },
  {
   "cell_type": "code",
   "execution_count": null,
   "metadata": {},
   "outputs": [],
   "source": [
    "ax['tomato'].plot(x, y, color='tomato')\n",
    "ax['purple'].plot(x, y, color='purple')\n",
    "ax['royalblue'].plot(x, y, color='royalblue')\n",
    "fig"
   ]
  },
  {
   "attachments": {},
   "cell_type": "markdown",
   "metadata": {},
   "source": [
    "## Functional Plotting"
   ]
  },
  {
   "cell_type": "markdown",
   "metadata": {},
   "source": [
    "The pyplot module can also be used functionally. The figure function (lower case) is used to create a Figure instance (upper case) and acts as a Figure instance manager:"
   ]
  },
  {
   "cell_type": "code",
   "execution_count": null,
   "metadata": {},
   "outputs": [],
   "source": [
    "? plt.figure"
   ]
  },
  {
   "cell_type": "markdown",
   "metadata": {},
   "source": [
    "The main difference here is the figure has the keyword argument argument num:"
   ]
  },
  {
   "cell_type": "code",
   "execution_count": null,
   "metadata": {},
   "outputs": [],
   "source": [
    "plt.figure(num=1)\n",
    "plt.axes()\n",
    "plt.title('1')\n",
    "plt.plot(x, y, color='royalblue')\n",
    "\n",
    "plt.figure(num=2)\n",
    "plt.axes()\n",
    "plt.title('2')\n",
    "plt.plot(x, y, color='purple')\n",
    "\n",
    "plt.figure(num=3)\n",
    "plt.axes()\n",
    "plt.title('3')\n",
    "plt.plot(x, y, color='tomato')"
   ]
  },
  {
   "cell_type": "markdown",
   "metadata": {},
   "source": [
    "In an interactive Python notebook, the figure manager operates independently for each cell and will display each plot. However within the cell the figure manager can be used to reselect a figure, notice how Figure 2 is udpated to have a line with a magenta color opposed to a purple color and that it displays at the end because it is re-selected:"
   ]
  },
  {
   "cell_type": "code",
   "execution_count": null,
   "metadata": {},
   "outputs": [],
   "source": [
    "plt.figure(num=1);\n",
    "plt.axes();\n",
    "plt.title('1');\n",
    "plt.plot(x, y, color='royalblue');\n",
    "\n",
    "plt.figure(num=2);\n",
    "plt.axes();\n",
    "plt.title('2');\n",
    "plt.plot(x, y, color='purple');\n",
    "\n",
    "plt.figure(num=3);\n",
    "plt.axes();\n",
    "plt.title('3');\n",
    "plt.plot(x, y, color='tomato');\n",
    "\n",
    "plt.figure(num=2);\n",
    "ax2 = plt.gca();\n",
    "ax2.lines[0].set_color('magenta');"
   ]
  },
  {
   "cell_type": "markdown",
   "metadata": {},
   "source": [
    "Many of the OOP methods examined above have a functional equivalent (although there might be some differences):"
   ]
  },
  {
   "cell_type": "code",
   "execution_count": null,
   "metadata": {},
   "outputs": [],
   "source": [
    "fig = plt.Figure()\n",
    "ax = fig.add_axes(rect=(0, 0, 1, 1))\n",
    "ax.set_xlabel('x')\n",
    "ax.set_ylabel('y')\n",
    "ax.set_title('y=f(x)')\n",
    "ax.plot(x, y, color='royalblue')\n",
    "\n",
    "fig"
   ]
  },
  {
   "cell_type": "code",
   "execution_count": null,
   "metadata": {},
   "outputs": [],
   "source": [
    "plt.figure(num=1)\n",
    "plt.axes((0, 0, 1, 1))\n",
    "plt.xlabel('x')\n",
    "plt.ylabel('y')\n",
    "plt.title('y=f(x)')\n",
    "plt.plot(x, y, color='royalblue')"
   ]
  },
  {
   "cell_type": "markdown",
   "metadata": {},
   "source": [
    "## Functional and Object Orientated Programming"
   ]
  },
  {
   "cell_type": "markdown",
   "metadata": {},
   "source": [
    "Although these are functional, they have a return value which can be returned to an instance:"
   ]
  },
  {
   "cell_type": "code",
   "execution_count": null,
   "metadata": {},
   "outputs": [],
   "source": [
    "fig = plt.figure(num=1)\n",
    "ax = plt.axes((0, 0, 1, 1))\n",
    "plt.xlabel('x')\n",
    "plt.ylabel('y')\n",
    "plt.title('y=f(x)')\n",
    "plt.plot(x, y, color='royalblue')"
   ]
  },
  {
   "cell_type": "code",
   "execution_count": null,
   "metadata": {},
   "outputs": [],
   "source": [
    "type(fig)"
   ]
  },
  {
   "cell_type": "code",
   "execution_count": null,
   "metadata": {},
   "outputs": [],
   "source": [
    "type(ax)"
   ]
  },
  {
   "cell_type": "markdown",
   "metadata": {},
   "source": [
    "A comparison can be made for the method add_subplot and the function subplot:"
   ]
  },
  {
   "cell_type": "code",
   "execution_count": null,
   "metadata": {},
   "outputs": [],
   "source": [
    "fig = plt.Figure()\n",
    "ax1 = fig.add_subplot(2, 2, 1) #nrows ncols index\n",
    "ax1.plot(x, y, color='tomato')\n",
    "ax2 = fig.add_subplot(2, 2, 2) #nrows ncols index\n",
    "ax2.plot(x, y, color='royalblue')\n",
    "ax3 = fig.add_subplot(2, 2, (3, 4)) #nrows ncols index\n",
    "ax3.plot(x, y, color='purple')\n",
    "\n",
    "fig"
   ]
  },
  {
   "cell_type": "code",
   "execution_count": null,
   "metadata": {},
   "outputs": [],
   "source": [
    "plt.figure(num=1)\n",
    "plt.subplot(2, 2, 1)\n",
    "plt.plot(x, y, color='tomato')\n",
    "plt.subplot(2, 2, 2)\n",
    "plt.plot(x, y, color='royalblue')\n",
    "plt.subplot(2, 2, (3, 4))\n",
    "plt.plot(x, y, color='purple')"
   ]
  },
  {
   "cell_type": "markdown",
   "metadata": {},
   "source": [
    "The method subplots returns an ndarray of Axes and the functional counterparts essentially returns a tuple where the first element is the Figure and second element is the ndArray of Axes. This function takes all input arguments of the figure manager figure:"
   ]
  },
  {
   "cell_type": "code",
   "execution_count": null,
   "metadata": {},
   "outputs": [],
   "source": [
    "fig, ax = plt.subplots(nrows=2, ncols=2, num=1)\n",
    "ax[0, 0].plot(x, y, color='tomato')\n",
    "ax[0, 1].plot(x, y, color='royalblue')\n",
    "ax[1, 0].plot(x, y, color='purple')"
   ]
  },
  {
   "cell_type": "markdown",
   "metadata": {},
   "source": [
    "Since the input arguments default to 1, this is commonly used to instantiate a Figure with a single Axes subplot spanning the Figure canvas:"
   ]
  },
  {
   "cell_type": "code",
   "execution_count": null,
   "metadata": {},
   "outputs": [],
   "source": [
    "fig, ax = plt.subplots(num=1);\n",
    "ax.plot(x, y, color='tomato');"
   ]
  },
  {
   "cell_type": "markdown",
   "metadata": {},
   "source": [
    "The method subplot_mosaic returns a mapping of key: Axes pairs and the functional counterparts essentially returns a tuple where the first element is the Figure and second element is this mapping. This function also takes all input arguments of the figure manager figure:"
   ]
  },
  {
   "cell_type": "code",
   "execution_count": null,
   "metadata": {},
   "outputs": [],
   "source": [
    "fig, ax = plt.subplot_mosaic(num=1,\n",
    "                             mosaic=[['tomato', 'purple'],\n",
    "                                     ['royalblue', 'purple']])\n",
    "ax['tomato'].plot(x, y, color='tomato')\n",
    "ax['purple'].plot(x, y, color='purple')\n",
    "ax['royalblue'].plot(x, y, color='royalblue')"
   ]
  },
  {
   "cell_type": "markdown",
   "metadata": {},
   "source": [
    "The pyplot module is therefore used with a combination of both functional and object orientated programming syntax by default, particularly for more advanced plots."
   ]
  },
  {
   "cell_type": "markdown",
   "metadata": {},
   "source": [
    "If a plotting function is created without a Figure and no Axes previously being instantiated, they will be inferred:"
   ]
  },
  {
   "cell_type": "code",
   "execution_count": null,
   "metadata": {},
   "outputs": [],
   "source": [
    "plt.plot(x, y, color='tomato')"
   ]
  },
  {
   "cell_type": "markdown",
   "metadata": {},
   "source": [
    "## Text"
   ]
  },
  {
   "cell_type": "markdown",
   "metadata": {},
   "source": [
    "### Axes Labels"
   ]
  },
  {
   "cell_type": "markdown",
   "metadata": {},
   "source": [
    "The Axes labels can be set using OOP syntax:"
   ]
  },
  {
   "cell_type": "code",
   "execution_count": null,
   "metadata": {},
   "outputs": [],
   "source": [
    "fig, ax = plt.subplots(num=1);\n",
    "ax.plot(x, y, color='tomato');\n",
    "ax.set_xlabel('x');\n",
    "ax.set_ylabel('y');\n",
    "ax.set_title('y=f(x)');"
   ]
  },
  {
   "cell_type": "markdown",
   "metadata": {},
   "source": [
    "Or functionally:"
   ]
  },
  {
   "cell_type": "code",
   "execution_count": null,
   "metadata": {},
   "outputs": [],
   "source": [
    "fig, ax = plt.subplots(num=1);\n",
    "plt.plot(x, y, color='tomato');\n",
    "plt.xlabel('x');\n",
    "plt.ylabel('y');\n",
    "plt.title('y=f(x)');"
   ]
  },
  {
   "cell_type": "markdown",
   "metadata": {},
   "source": [
    "The docstring may be examined to see additional properties:"
   ]
  },
  {
   "cell_type": "code",
   "execution_count": null,
   "metadata": {},
   "outputs": [],
   "source": [
    "? plt.xlabel"
   ]
  },
  {
   "cell_type": "markdown",
   "metadata": {},
   "source": [
    "These are Text related so also have the following keyword input arguments:"
   ]
  },
  {
   "cell_type": "code",
   "execution_count": null,
   "metadata": {},
   "outputs": [],
   "source": [
    "? plt.Text"
   ]
  },
  {
   "cell_type": "markdown",
   "metadata": {},
   "source": [
    "For example the following changes can be made to the xlabel;"
   ]
  },
  {
   "cell_type": "code",
   "execution_count": null,
   "metadata": {},
   "outputs": [],
   "source": [
    "fig, ax = plt.subplots(num=1);\n",
    "plt.plot(x, y, color='tomato');\n",
    "plt.xlabel('xlabel', loc='left', \n",
    "           color='tomato', rotation=270);"
   ]
  },
  {
   "cell_type": "markdown",
   "metadata": {},
   "source": [
    "### Labels and LaTeX (MathJax)"
   ]
  },
  {
   "cell_type": "markdown",
   "metadata": {},
   "source": [
    "The labels also support some basic LaTeX in the form of MathJax. Commly used symbols include:"
   ]
  },
  {
   "cell_type": "markdown",
   "metadata": {},
   "source": [
    "LaTeX Text (MathJax)\n",
    "\n",
    "|description|LaTeX|output|\n",
    "|---|---|---|\n",
    "|math text|```$x$```|$x$|\n",
    "|normal text|```$\\text{x}$```|$\\text{x}$|\n",
    "|bold text|```$\\textbf{x}$```|$\\textbf{x}$|\n",
    "|math text with dot|```$\\dot{x}$```|$\\dot{x}$|\n",
    "|math text with double dot|```$\\ddot{x}$```|$\\ddot{x}$|\n",
    "|math text with triple dot|```$\\dddot{x}$```|$\\dddot{x}$|\n",
    "|math text with bar|```$\\bar{x}$```|$\\bar{x}$|\n",
    "|math text with hat|```$\\hat{x}$```|$\\hat{x}$|\n",
    "|math text with arrow vector|```$\\vec{x}$```|$\\vec{x}$|\n",
    "|math text with tilde|```$\\tilde{x}$```|$\\tilde{x}$|\n",
    "|math text with wide tilde|```$\\widetilde{xx}$```|$\\widetilde{xx}$|\n",
    "|math text with check|```$\\check{x}$```|$\\check{x}$|\n",
    "|math text with acute|```$\\acute{x}$```|$\\acute{x}$|\n",
    "|math text with grave|```$\\grave{x}$```|$\\grave{x}$|\n",
    "|math text with breve|```$\\breve{x}$```|$\\breve{x}$|\n",
    "|subscript|```$x_{2}$```|$x_{2}$|\n",
    "|superscript|```$x^{3}$```|$x^{3}$|\n",
    "|subscript and superscript|```$x_{2}^{3}$```|$x_{2}^{3}$|\n",
    "|square root|```$\\sqrt{x}$```|$\\sqrt{x}$|\n",
    "|sin|```$\\sin{x}$```|$\\sin{x}$|\n",
    "|cos|```$\\cos{x}$```|$\\cos{x}$|\n",
    "|tan|```$\\tan{x}$```|$\\tan{x}$|\n",
    "|log|```$\\log{x}$```|$\\log{x}$|\n",
    "|exp|```$\\exp{x}$```|$\\exp{x}$|\n",
    "\n",
    "LaTeX Mathematical Symbols (MathJax)\n",
    "\n",
    "|description|LaTeX|output|\n",
    "|---|---|---|\n",
    "|equal to|```$=$```|$=$|\n",
    "|equivalent to|```$\\equiv$```|$\\equiv$|\n",
    "|not equal to|```$\\ne$```|$\\ne$|\n",
    "|similar to|```$\\sim$```|$\\sim$|\n",
    "|approximate to|```$\\approx$```|$\\approx$|\n",
    "|tilde|```$\\textasciitilde$```|$\\textasciitilde$|\n",
    "|approximately equal to|```$\\cong$```|$\\cong$|\n",
    "|plus|```$+$```|$+$|\n",
    "|minus|```$-$```|$-$|\n",
    "|plus minus|```$\\pm$```|$\\pm$|\n",
    "|minus plus|```$\\mp$```|$\\mp$|\n",
    "|dash|```$\\text{-}$```|$\\text{-}$|\n",
    "|circumflex|```$\\textasciicircum$```|$\\textasciicircum$|\n",
    "|asterisk|```$\\ast$```|$\\ast$|\n",
    "|star|```$\\text{\\*}$```|$\\text{\\*}$|\n",
    "|times|```$\\times$```|$\\times$|\n",
    "|centre dot|```$\\cdot$```|$\\cdot$|\n",
    "|period|```$.$```|$.$|\n",
    "|bullet|```$\\bullet$```|$\\bullet$|\n",
    "|colon|```$\\colon$```|$\\colon$|\n",
    "|centre dots|```$\\cdots$```|$\\cdots$|\n",
    "|vertical dots|```$\\vdots$```|$\\vdots$|\n",
    "|therefore|```$\\therefore$```|$\\therefore$|\n",
    "|division slash|```$/$```|$/$|\n",
    "|division sign|```$\\div$```|$\\div$|\n",
    "|less than|```$<$```|$<$|\n",
    "|less than or equal to|```$\\leq$```|$\\leq$|\n",
    "|greater than|```$>$```|$>$|\n",
    "|greater than or equal to|```$\\geq$```|$\\geq$|\n",
    "|factorial|```$!$```|$!$|\n",
    "|degree|```$\\degree$```|$\\degree$|\n",
    "|infinity|```$\\infty$```|$\\infty$|\n",
    "|proportional to|```$\\propto$```|$\\propto$|\n",
    "|partial|```$\\partial$```|$\\partial$|\n",
    "|hbar|```$\\hbar$```|$\\hbar$|\n",
    "|union|```$\\cup$```|$\\cup$|\n",
    "|intersection|```$\\cap$```|$\\cap$|\n",
    "|emptyset|```$\\emptyset$```|$\\emptyset$|\n",
    "|exists|```$\\exists$```|$\\exists$|\n",
    "|in|```$\\in$```|$\\in$|\n",
    "|not in|```$\\notin$```|$\\notin$|\n",
    "|ni|```$\\ni$```|$\\ni$|\n",
    "|left arrow|```$\\leftarrow$```|$\\leftarrow$|\n",
    "|right arrow|```$\\rightarrow$```|$\\rightarrow$|\n",
    "|left right arrow|```$\\leftrightarrow$```|$\\leftrightarrow$|\n",
    "|up arrow|```$\\uparrow$```|$\\uparrow$|\n",
    "|down arrow|```$\\uparrow$```|$\\downarrow$|\n",
    "|up down arrow|```$\\updownarrow$```|$\\updownarrow$|\n",
    "\n",
    "LaTeX Greek Letters (MathJax)\n",
    "\n",
    "|description|LaTeX|output|\n",
    "|---|---|---|\n",
    "|alpha|```$\\alpha$```|$\\alpha$|\n",
    "|beta|```$\\beta$```|$\\beta$|\n",
    "|Gamma|```$\\Gamma$```|$\\Gamma$|\n",
    "|gamma|```$\\gamma$```|$\\gamma$|\n",
    "|Delta|```$\\Delta$```|$\\Delta$|\n",
    "|delta|```$\\delta$```|$\\delta$|\n",
    "|nabla|```$\\nabla$```|$\\nabla$|\n",
    "|epsilon|```$\\epsilon$```|$\\epsilon$|\n",
    "|epsilon|```$\\varepsilon$```|$\\varepsilon$|\n",
    "|zeta|```$\\zeta$```|$\\zeta$|\n",
    "|eta|```$\\eta$```|$\\eta$|\n",
    "|kappa|```$\\kappa$```|$\\kappa$|\n",
    "|Lambda|```$\\Lamba$```|$\\Lambda$|\n",
    "|mu|```$\\mu$```|$\\mu$|\n",
    "|Xi|```$\\Xi$```|$\\Xi$|\n",
    "|xi|```$\\xi$```|$\\xi$|\n",
    "|Pi|```$\\Pi$```|$\\Pi$|\n",
    "|pi|```$\\pi$```|$\\pi$|\n",
    "|rho|```$\\rho$```|$\\rho$|\n",
    "|Sigma|```$\\Sigma$```|$\\Sigma$|\n",
    "|sigma|```$\\sigma$```|$\\sigma$|\n",
    "|sigma|```$\\varsigma$```|$\\varsigma$|\n",
    "|tau|```$\\tau$```|$\\tau$|\n",
    "|Upsilon|```$\\Upsilon$```|$\\Upsilon$|\n",
    "|upsilon|```$\\upsilon$```|$\\upsilon$|\n",
    "|Phi|```$\\Phi$```|$\\Phi$|\n",
    "|phi|```$\\phi$```|$\\phi$|\n",
    "|chi|```$\\chi$```|$\\chi$|\n",
    "|Psi|```$\\Psi$```|$\\Psi$|\n",
    "|psi|```$\\psi$```|$\\psi$|\n",
    "|Omega|```$\\Omega$```|$\\Omega$|\n",
    "|omega|```$\\omega$```|$\\omega$|\n",
    "\n",
    "Note the Greek letters A, B, E, Z, H, I, i, K, M, N, O, o and P that are the same as Latin letters are therefore just represented using the Latin letters.\n",
    "\n",
    "LaTeX Fractions (MathJax)\n",
    "\n",
    "|description|LaTeX|output|\n",
    "|---|---|---|\n",
    "|inline fraction|```$\\frac{a}{b}$```|$\\frac{a}{b}$|\n",
    "\n",
    "LaTeX Brackets (MathJax)\n",
    "\n",
    "|description|LaTeX|output|\n",
    "|---|---|---|\n",
    "|inline fraction parenthesis|```$(\\frac{a}{b})$```|$(\\frac{a}{b})$|\n",
    "|inline fraction square|```$[\\frac{a}{b}]$```|$[\\frac{a}{b}]$|\n",
    "|inline fraction braces|```$\\lbrace\\frac{a}{b}\\rbrace$```|$\\lbrace\\frac{a}{b} \\rbrace$|\n",
    "\n",
    "The ```{``` and ```}``` are reserved so ```\\lbrace``` and ```\\rbrace``` need to be used."
   ]
  },
  {
   "cell_type": "markdown",
   "metadata": {},
   "source": [
    "The strings are converted to raw strings and $ signs are added around LaTeX expressions:"
   ]
  },
  {
   "cell_type": "code",
   "execution_count": null,
   "metadata": {},
   "outputs": [],
   "source": [
    "fig, ax = plt.subplots(num=1);\n",
    "plt.plot(x, y, color='tomato');\n",
    "plt.xlabel(r'$x$');\n",
    "plt.ylabel(r'$y$');\n",
    "plt.title(r'$y$=f($x$)');"
   ]
  },
  {
   "cell_type": "code",
   "execution_count": null,
   "metadata": {},
   "outputs": [],
   "source": [
    "fig, ax = plt.subplots(num=1);\n",
    "plt.plot(x, y, color='tomato');\n",
    "plt.xlabel(r'$\\dot{\\alpha}$');\n",
    "plt.ylabel(r'$\\ddot{\\beta}$');\n",
    "plt.title(r'$\\ddot{\\beta}$=f$(\\frac{\\dot{\\alpha}}{1})$');"
   ]
  },
  {
   "cell_type": "markdown",
   "metadata": {},
   "source": [
    "### Annotations"
   ]
  },
  {
   "attachments": {},
   "cell_type": "markdown",
   "metadata": {},
   "source": [
    "Annotations can be added using the Axes method annotate or pyplot function annotate:"
   ]
  },
  {
   "cell_type": "code",
   "execution_count": null,
   "metadata": {},
   "outputs": [],
   "source": [
    "? ax.annotate"
   ]
  },
  {
   "attachments": {},
   "cell_type": "markdown",
   "metadata": {},
   "source": [
    "The annotation takes in a number of keyword input arguments. \n",
    "\n",
    "In the simplest case, text is the text to be annotated and xy is a tuple of the co-ordinates using the units specified in xycoords.\n",
    "\n",
    "More generally a specific data point at xy is annotated using text at xytext and an arrow is drawn from xytext to xy. The keyword argument arrowprops is a dictionary of arrow properties, the dictionary is used to seperate these properties from the text properties."
   ]
  },
  {
   "cell_type": "code",
   "execution_count": null,
   "metadata": {},
   "outputs": [],
   "source": [
    "fig, ax = plt.subplots(num=1);\n",
    "ax.plot(x, y, color='tomato');\n",
    "ax.annotate(text='noarrow', xy=(0.5, 1), xycoords='data')\n",
    "ax.annotate(text='fancyarrow', xy=(1, 2), xytext=(1, 4), xycoords='data', \n",
    "            color='dodgerblue',\n",
    "            arrowprops={'color': 'magenta',\n",
    "                        'arrowstyle': 'fancy'})\n",
    "ax.annotate(text='fancyarrow', xy=(2, 4), xytext=(2, 6), xycoords='data', \n",
    "            arrowprops={'facecolor': 'magenta',\n",
    "                        'edgecolor': 'cyan',\n",
    "                        'arrowstyle': 'fancy'})\n",
    "ax.annotate(text='simplearrow', xy=(3, 6), xytext=(3, 4), xycoords='data', \n",
    "            arrowprops={'facecolor': 'lime',\n",
    "                        'edgecolor': 'yellow',\n",
    "                        'arrowstyle': 'simple'})\n",
    "ax.annotate(text='customarrow', xy=(4, 8), xytext=(4, 6), xycoords='data', \n",
    "            arrowprops={'facecolor': 'royalblue',\n",
    "                        'edgecolor': 'skyblue',\n",
    "                        'headlength': 10,\n",
    "                        'headwidth': 10,\n",
    "                        'linewidth': 2})"
   ]
  },
  {
   "attachments": {},
   "cell_type": "markdown",
   "metadata": {},
   "source": [
    "## Axes Limits"
   ]
  },
  {
   "attachments": {},
   "cell_type": "markdown",
   "metadata": {},
   "source": [
    "The Axes limits are automatically determined from the data:"
   ]
  },
  {
   "cell_type": "code",
   "execution_count": null,
   "metadata": {},
   "outputs": [],
   "source": [
    "fig = plt.Figure()\n",
    "ax1 = fig.add_axes(rect=(0, 0, 1, 1))\n",
    "ax1.plot(x, y**2, color='tomato')\n",
    "ax2 = fig.add_axes(rect=(0.05, 0.55, 0.4, 0.4))\n",
    "ax2.plot(x, y**2, color='tomato')\n",
    "\n",
    "fig"
   ]
  },
  {
   "attachments": {},
   "cell_type": "markdown",
   "metadata": {},
   "source": [
    "Sometimes it is desirable to change the Axes limits to zoom in or out of a region. This is done by the axes method set_xlim or analogous pyplot function xlim for the x-axis or set_ylim and ylim for the y-axis:"
   ]
  },
  {
   "cell_type": "code",
   "execution_count": null,
   "metadata": {},
   "outputs": [],
   "source": [
    "? ax1.set_xlim"
   ]
  },
  {
   "attachments": {},
   "cell_type": "markdown",
   "metadata": {},
   "source": [
    "The limits are normally set by using the keyword arguments left and right for x or bottom and top for y. left and right have the alias xmin and xmax. Likewise bottom and top have the alias ymin and ymax. auto can be assigned to a boolean which will rescale the axes to new data if new data is added to the Axes:"
   ]
  },
  {
   "cell_type": "code",
   "execution_count": null,
   "metadata": {},
   "outputs": [],
   "source": [
    "fig = plt.Figure()\n",
    "ax1 = fig.add_axes(rect=(0, 0, 1, 1))\n",
    "ax1.plot(x, y**2, color='tomato')\n",
    "\n",
    "ax1.set_xlim(left=0, right=6, auto=False)\n",
    "ax1.set_ylim(bottom=0, top=200, auto=False)\n",
    "\n",
    "ax2 = fig.add_axes(rect=(0.1, 0.55, 0.4, 0.4))\n",
    "ax2.plot(x, y**2, color='tomato')\n",
    "\n",
    "ax2.set_xlim(left=-0.5, right=1, auto=False)\n",
    "ax2.set_ylim(bottom=-5, top=10, auto=False)\n",
    "\n",
    "fig"
   ]
  },
  {
   "attachments": {},
   "cell_type": "markdown",
   "metadata": {},
   "source": [
    "If both limits are provided, they can also be provided positionally using a tuple. the keyword argument should be supplied if only one of the limits is changing:"
   ]
  },
  {
   "cell_type": "code",
   "execution_count": null,
   "metadata": {},
   "outputs": [],
   "source": [
    "fig = plt.Figure()\n",
    "ax1 = fig.add_axes(rect=(0, 0, 1, 1))\n",
    "ax1.plot(x, y**2, color='tomato')\n",
    "\n",
    "ax1.set_xlim(right=6, auto=False)\n",
    "ax1.set_ylim(top=200, auto=False)\n",
    "\n",
    "ax2 = fig.add_axes(rect=(0.1, 0.55, 0.4, 0.4))\n",
    "ax2.plot(x, y**2, color='tomato')\n",
    "\n",
    "ax2.set_xlim((0.5, 1), auto=False)\n",
    "ax2.set_ylim((-5, 10), auto=False)\n",
    "\n",
    "fig"
   ]
  },
  {
   "attachments": {},
   "cell_type": "markdown",
   "metadata": {},
   "source": [
    "## Axes Scale"
   ]
  },
  {
   "attachments": {},
   "cell_type": "markdown",
   "metadata": {},
   "source": [
    "When a value has a non-linear dependence it is sometimes insightful to view it on a logarithmic scale. This can be done using the axes methods set_xscale and set_yscale respectively which also have the pyplot functions xscale and yscale:"
   ]
  },
  {
   "cell_type": "code",
   "execution_count": null,
   "metadata": {},
   "outputs": [],
   "source": [
    "? ax2.set_yscale"
   ]
  },
  {
   "attachments": {},
   "cell_type": "markdown",
   "metadata": {},
   "source": [
    "The log of 0 is -∞:"
   ]
  },
  {
   "cell_type": "code",
   "execution_count": null,
   "metadata": {},
   "outputs": [],
   "source": [
    "# np.log(0)"
   ]
  },
  {
   "attachments": {},
   "cell_type": "markdown",
   "metadata": {},
   "source": [
    "And the log of a negative number is not a number:"
   ]
  },
  {
   "cell_type": "code",
   "execution_count": null,
   "metadata": {},
   "outputs": [],
   "source": [
    "# np.log(-1)"
   ]
  },
  {
   "attachments": {},
   "cell_type": "markdown",
   "metadata": {},
   "source": [
    "Therefore the bottom limit is normally set to 1 when using a log scale:"
   ]
  },
  {
   "cell_type": "code",
   "execution_count": null,
   "metadata": {},
   "outputs": [],
   "source": [
    "fig = plt.Figure()\n",
    "ax1 = fig.add_axes(rect=(0, 0, 1, 1))\n",
    "ax1.plot(x, y**10, color='tomato')\n",
    "ax2 = fig.add_axes(rect=(0.1, 0.55, 0.4, 0.4))\n",
    "ax2.plot(x, y**10, color='tomato')\n",
    "\n",
    "ax2.set_yscale('log')\n",
    "ax2.set_ylim(bottom=1)\n",
    "fig"
   ]
  },
  {
   "attachments": {},
   "cell_type": "markdown",
   "metadata": {},
   "source": [
    "## Line Plot"
   ]
  },
  {
   "attachments": {},
   "cell_type": "markdown",
   "metadata": {},
   "source": [
    "Previously a single line plot was created using the plot function and returned to the instance name chart:"
   ]
  },
  {
   "cell_type": "code",
   "execution_count": null,
   "metadata": {},
   "outputs": [],
   "source": [
    "fig, ax = plt.subplots(num=1);\n",
    "chart = ax.plot(x, y);"
   ]
  },
  {
   "attachments": {},
   "cell_type": "markdown",
   "metadata": {},
   "source": [
    "chart was seen to be a list of Line2D objects and in this case a single element list:"
   ]
  },
  {
   "cell_type": "code",
   "execution_count": null,
   "metadata": {},
   "outputs": [],
   "source": [
    "chart"
   ]
  },
  {
   "attachments": {},
   "cell_type": "markdown",
   "metadata": {},
   "source": [
    "The method plot can take it multiple positional input arguments:"
   ]
  },
  {
   "cell_type": "code",
   "execution_count": null,
   "metadata": {},
   "outputs": [],
   "source": [
    "fig, ax = plt.subplots(num=1);\n",
    "chart = ax.plot(x, y, \n",
    "                x, y+1,\n",
    "                x, y+2,\n",
    "                x, y+3, \n",
    "                x, y+4,\n",
    "                x, y+5,\n",
    "                x, y+6,\n",
    "                x, y+7,\n",
    "                x, y+8,\n",
    "                x, y+9,\n",
    "                x, y+10,\n",
    "                x, y+11);"
   ]
  },
  {
   "attachments": {},
   "cell_type": "markdown",
   "metadata": {},
   "source": [
    "## Colors"
   ]
  },
  {
   "attachments": {},
   "cell_type": "markdown",
   "metadata": {},
   "source": [
    "Notice that each line has its own color until the 10th line is reached and the colors then repeat. This is because the default colors used are called TABLEAU_COLORS and there are 10 colors:"
   ]
  },
  {
   "cell_type": "code",
   "execution_count": null,
   "metadata": {},
   "outputs": [],
   "source": [
    "from matplotlib.colors import TABLEAU_COLORS"
   ]
  },
  {
   "cell_type": "code",
   "execution_count": null,
   "metadata": {},
   "outputs": [],
   "source": [
    "TABLEAU_COLORS"
   ]
  },
  {
   "attachments": {},
   "cell_type": "markdown",
   "metadata": {},
   "source": [
    "Notice that TABLEAU_colors is a dictionary. The keys are strings and the values are hexadecimal strings.\n",
    "\n",
    "Hexadecimal strings have the form:\n",
    "\n",
    "```\n",
    "#rrggbb\n",
    "```\n",
    "\n",
    "The human eye has short wavelength (blue sensitive), medium wavelength (green sensitive) and long wavelength (red sensitive) receptors and the brain maps a color ratio from these receptors to what a human perceives as a color.\n",
    "\n",
    "Each pixel in screen uses a red, green and blue LED known as a rgb LED to perform color mixing. Each channel spans over 1 byte which recall can be represented using 2 hexadecimal characters."
   ]
  },
  {
   "attachments": {},
   "cell_type": "markdown",
   "metadata": {},
   "source": [
    "matplotlib has another color dictionary called CSS4_COLORS, the key for each color is a string that corresponds to the English name of the color and the value is the corresponding hexadecimal value:"
   ]
  },
  {
   "cell_type": "code",
   "execution_count": null,
   "metadata": {},
   "outputs": [],
   "source": [
    "from matplotlib.colors import CSS4_COLORS"
   ]
  },
  {
   "cell_type": "code",
   "execution_count": null,
   "metadata": {},
   "outputs": [],
   "source": [
    "CSS4_COLORS"
   ]
  },
  {
   "attachments": {},
   "cell_type": "markdown",
   "metadata": {},
   "source": [
    "The key can be used to access the color:"
   ]
  },
  {
   "cell_type": "code",
   "execution_count": null,
   "metadata": {},
   "outputs": [],
   "source": [
    "CSS4_COLORS['royalblue']"
   ]
  },
  {
   "cell_type": "code",
   "execution_count": null,
   "metadata": {},
   "outputs": [],
   "source": [
    "fig, ax = plt.subplots(num=1);\n",
    "chart = ax.plot(x, y, color=CSS4_COLORS['royalblue']);"
   ]
  },
  {
   "attachments": {},
   "cell_type": "markdown",
   "metadata": {},
   "source": [
    "However the keys from CSS4_COLORS are recognised by color related input arguments of matplotlib functions and normally used directly:"
   ]
  },
  {
   "cell_type": "code",
   "execution_count": null,
   "metadata": {},
   "outputs": [],
   "source": [
    "fig, ax = plt.subplots(num=1);\n",
    "chart = ax.plot(x, y, color='royalblue');"
   ]
  },
  {
   "attachments": {},
   "cell_type": "markdown",
   "metadata": {},
   "source": [
    "Notice that if color is provided as a keyword input argument, in a multiline plot that all lines will have the same color:"
   ]
  },
  {
   "cell_type": "code",
   "execution_count": null,
   "metadata": {},
   "outputs": [],
   "source": [
    "fig, ax = plt.subplots(num=1);\n",
    "chart = ax.plot(x, y, \n",
    "                x, y+1,\n",
    "                x, y+2,\n",
    "                x, y+3, \n",
    "                x, y+4,\n",
    "                x, y+5,\n",
    "                x, y+6,\n",
    "                x, y+7,\n",
    "                x, y+8,\n",
    "                x, y+9,\n",
    "                x, y+10,\n",
    "                x, y+11,\n",
    "                color='royalblue');"
   ]
  },
  {
   "attachments": {},
   "cell_type": "markdown",
   "metadata": {},
   "source": [
    "Instead these can be provided positionally for each line:"
   ]
  },
  {
   "cell_type": "code",
   "execution_count": null,
   "metadata": {},
   "outputs": [],
   "source": [
    "fig, ax = plt.subplots(num=1);\n",
    "chart = ax.plot(x, y, 'royalblue', \n",
    "                x, y+1, 'tomato',\n",
    "                x, y+2, 'chocolate',\n",
    "                x, y+3, 'forestgreen',\n",
    "                x, y+4, 'springgreen',\n",
    "                x, y+5, 'turquoise',\n",
    "                x, y+6, 'teal',\n",
    "                x, y+7, 'skyblue',\n",
    "                x, y+8, 'dodgerblue',\n",
    "                x, y+9, 'slateblue',\n",
    "                x, y+10, 'fuchsia',\n",
    "                x, y+11, 'hotpink');"
   ]
  },
  {
   "attachments": {},
   "cell_type": "markdown",
   "metadata": {},
   "source": [
    "## LineWidth"
   ]
  },
  {
   "attachments": {},
   "cell_type": "markdown",
   "metadata": {},
   "source": [
    "The linewidth can be changed using the keyword argument linewidth:"
   ]
  },
  {
   "cell_type": "code",
   "execution_count": null,
   "metadata": {},
   "outputs": [],
   "source": [
    "fig, ax = plt.subplots(num=1);\n",
    "chart = ax.plot(x, y, linewidth=5)"
   ]
  },
  {
   "attachments": {},
   "cell_type": "markdown",
   "metadata": {},
   "source": [
    "This has the alias lw:"
   ]
  },
  {
   "cell_type": "code",
   "execution_count": null,
   "metadata": {},
   "outputs": [],
   "source": [
    "fig, ax = plt.subplots(num=1);\n",
    "chart = ax.plot(x, y, lw=2.5)"
   ]
  },
  {
   "attachments": {},
   "cell_type": "markdown",
   "metadata": {},
   "source": [
    "When linewidth is provided as a keyword input argument, in a multiline plot that all lines will have the same width:"
   ]
  },
  {
   "cell_type": "code",
   "execution_count": null,
   "metadata": {},
   "outputs": [],
   "source": [
    "fig, ax = plt.subplots(num=1);\n",
    "chart = ax.plot(x, y, \n",
    "                x, y+1,\n",
    "                x, y+2,\n",
    "                x, y+3, \n",
    "                x, y+4,\n",
    "                x, y+5,\n",
    "                x, y+6,\n",
    "                x, y+7,\n",
    "                x, y+8,\n",
    "                x, y+9,\n",
    "                x, y+10,\n",
    "                x, y+11,\n",
    "                color='royalblue', linewidth=0.5);"
   ]
  },
  {
   "attachments": {},
   "cell_type": "markdown",
   "metadata": {},
   "source": [
    "When a high level of customisation is desired, each line is normally seperately plotted. Recall the return value for ax.plot is a list of lines, in this case a single line. An empty list chart can be made and each plot appended:"
   ]
  },
  {
   "cell_type": "code",
   "execution_count": null,
   "metadata": {},
   "outputs": [],
   "source": [
    "fig, ax = plt.subplots(num=1);\n",
    "chart = []\n",
    "chart.append(ax.plot(x, y, color='royalblue', linewidth=0.5)[0])\n",
    "chart.append(ax.plot(x, y+1, color='tomato', linewidth=0.6)[0])\n",
    "chart.append(ax.plot(x, y+2, color='chocolate', linewidth=0.7)[0])\n",
    "chart.append(ax.plot(x, y+3, color='forestgreen', linewidth=0.8)[0])\n",
    "chart.append(ax.plot(x, y+4, color='springgreen', linewidth=0.9)[0])\n",
    "chart.append(ax.plot(x, y+5, color='turquoise', linewidth=1.0)[0])\n",
    "chart.append(ax.plot(x, y+6, color='teal', linewidth=1.1)[0])\n",
    "chart.append(ax.plot(x, y+7, color='skyblue', linewidth=1.2)[0])\n",
    "chart.append(ax.plot(x, y+8, color='dodgerblue', linewidth=1.3)[0])\n",
    "chart.append(ax.plot(x, y+9, color='slateblue', linewidth=1.4)[0])\n",
    "chart.append(ax.plot(x, y+10, color='fuchsia', linewidth=1.5)[0])\n",
    "chart.append(ax.plot(x, y+11, color='hotpink', linewidth=1.6)[0])"
   ]
  },
  {
   "attachments": {},
   "cell_type": "markdown",
   "metadata": {},
   "source": [
    "The list chart contaisn the 12 lines:"
   ]
  },
  {
   "cell_type": "code",
   "execution_count": null,
   "metadata": {},
   "outputs": [],
   "source": [
    "chart"
   ]
  },
  {
   "attachments": {},
   "cell_type": "markdown",
   "metadata": {},
   "source": [
    "The ax attribute lines also gives these:"
   ]
  },
  {
   "cell_type": "code",
   "execution_count": null,
   "metadata": {},
   "outputs": [],
   "source": [
    "ax.lines"
   ]
  },
  {
   "attachments": {},
   "cell_type": "markdown",
   "metadata": {},
   "source": [
    "This is seen more clearly if it is cast to a list:"
   ]
  },
  {
   "cell_type": "code",
   "execution_count": null,
   "metadata": {},
   "outputs": [],
   "source": [
    "list(ax.lines)"
   ]
  },
  {
   "attachments": {},
   "cell_type": "markdown",
   "metadata": {},
   "source": [
    "This means the more simpler syntax can be used:"
   ]
  },
  {
   "cell_type": "code",
   "execution_count": null,
   "metadata": {},
   "outputs": [],
   "source": [
    "fig, ax = plt.subplots(num=1);\n",
    "ax.plot(x, y, color='royalblue', linewidth=0.5)\n",
    "ax.plot(x, y+1, color='tomato', linewidth=0.6)\n",
    "ax.plot(x, y+2, color='chocolate', linewidth=0.7)\n",
    "ax.plot(x, y+3, color='forestgreen', linewidth=0.8)\n",
    "ax.plot(x, y+4, color='springgreen', linewidth=0.9)\n",
    "ax.plot(x, y+5, color='turquoise', linewidth=1.0)\n",
    "ax.plot(x, y+6, color='teal', linewidth=1.1)\n",
    "ax.plot(x, y+7, color='skyblue', linewidth=1.2)\n",
    "ax.plot(x, y+8, color='dodgerblue', linewidth=1.3)\n",
    "ax.plot(x, y+9, color='slateblue', linewidth=1.4)\n",
    "ax.plot(x, y+10, color='fuchsia', linewidth=1.5)\n",
    "ax.plot(x, y+11, color='hotpink', linewidth=1.6)"
   ]
  },
  {
   "attachments": {},
   "cell_type": "markdown",
   "metadata": {},
   "source": [
    "## Line Style"
   ]
  },
  {
   "attachments": {},
   "cell_type": "markdown",
   "metadata": {},
   "source": [
    "The linestyle can be changed using the keyword input argument linestyle:"
   ]
  },
  {
   "cell_type": "code",
   "execution_count": null,
   "metadata": {},
   "outputs": [],
   "source": [
    "fig, ax = plt.subplots(num=1);\n",
    "ax.plot(x, y, color='royalblue', linestyle='dashed', linewidth=2.0)"
   ]
  },
  {
   "attachments": {},
   "cell_type": "markdown",
   "metadata": {},
   "source": [
    "This has the abbreviation ls:"
   ]
  },
  {
   "cell_type": "code",
   "execution_count": null,
   "metadata": {},
   "outputs": [],
   "source": [
    "fig, ax = plt.subplots(num=1);\n",
    "ax.plot(x, y, color='royalblue', ls='dotted', lw=3.0)"
   ]
  },
  {
   "attachments": {},
   "cell_type": "markdown",
   "metadata": {},
   "source": [
    "The most common linestyles have a linestyle string and abbreviated linestyle string. Other line styles can be specified usign a tuple:"
   ]
  },
  {
   "attachments": {},
   "cell_type": "markdown",
   "metadata": {},
   "source": [
    "|description|linestyle string|line style string abbreviation|line style tuple|\n",
    "|---|---|---|---|\n",
    "|solid|'solid'|'-'||\n",
    "|dashed|'dashed'|'--'|(0, (5, 5)))|\n",
    "|dotted|'dotted'|':'|(0, (1, 1)))|\n",
    "|dashdot|'dashdot|'-.'||\n",
    "|loosely dotted|||(0, (1, 10)))|\n",
    "|densely dotted|||(0, (1, 1)))|\n",
    "|long dash with offset|||(5, (10, 3)))|\n",
    "|loosely dashed|||(0, (5, 10)))|\n",
    "|densely dashed|||(0, (5, 1)))|\n",
    "|loosely dashdotted|||(0, (3, 10, 1, 10)))|\n",
    "|dashdotted|||(0, (3, 5, 1, 5)))|\n",
    "|densely dashdotted|||(0, (3, 1, 1, 1)))|\n",
    "|dashdotdotted|||(0, (3, 5, 1, 5, 1, 5)))|\n",
    "|loosely dashdotdotted|||(0, (3, 10, 1, 10, 1, 10)))|\n",
    "|densely dashdotdotted|||(0, (3, 1, 1, 1, 1, 1)))|\n"
   ]
  },
  {
   "cell_type": "code",
   "execution_count": null,
   "metadata": {},
   "outputs": [],
   "source": [
    "fig, ax = plt.subplots(num=1);\n",
    "ax.plot(x, y, color='royalblue', linewidth=1.0, linestyle='solid')\n",
    "ax.plot(x, y+1, color='tomato', linewidth=1.0, linestyle='dashed')\n",
    "ax.plot(x, y+2, color='chocolate', linewidth=1.0, linestyle='dotted')\n",
    "ax.plot(x, y+3, color='forestgreen', linewidth=1.0, linestyle='dashdot')\n",
    "ax.plot(x, y+4, color='springgreen', linewidth=1.0, linestyle=(0, (1, 10)))\n",
    "ax.plot(x, y+5, color='turquoise', linewidth=1.0, linestyle=(0, (1, 1)))\n",
    "ax.plot(x, y+6, color='teal', linewidth=1.0, linestyle=(5, (10, 3)))\n",
    "ax.plot(x, y+7, color='skyblue', linewidth=1.0, linestyle=(0, (5, 10)))\n",
    "ax.plot(x, y+8, color='dodgerblue', linewidth=1.0, linestyle=(0, (5, 1)))\n",
    "ax.plot(x, y+9, color='slateblue', linewidth=1.0, linestyle=(0, (3, 10, 1, 10)))\n",
    "ax.plot(x, y+10, color='fuchsia', linewidth=1.0, linestyle=(0, (3, 5, 1, 5)))\n",
    "ax.plot(x, y+11, color='hotpink', linewidth=1.0, linestyle=(0, (3, 1, 1, 1)))"
   ]
  },
  {
   "attachments": {},
   "cell_type": "markdown",
   "metadata": {},
   "source": [
    "## Markers"
   ]
  },
  {
   "attachments": {},
   "cell_type": "markdown",
   "metadata": {},
   "source": [
    "In a line plot, markers are not added by default, they can be added using the keyword marker:"
   ]
  },
  {
   "cell_type": "code",
   "execution_count": null,
   "metadata": {},
   "outputs": [],
   "source": [
    "fig, ax = plt.subplots(num=1);\n",
    "chart = ax.plot(x, y, color='royalblue', marker='o')"
   ]
  },
  {
   "attachments": {},
   "cell_type": "markdown",
   "metadata": {},
   "source": [
    "The following are commonly used markers:"
   ]
  },
  {
   "cell_type": "markdown",
   "metadata": {},
   "source": [
    "|Marker Description|String|Integer or None|\n",
    "|---|---|---|\n",
    "|nothing|```''```|```None```|\n",
    "|point|```'.'```||\n",
    "|pixel|```','```||\n",
    "|circle|```'o'```||\n",
    "|triangle_down|```'v'```||\n",
    "|triangle_up|```'^'```||\n",
    "|triangle_left|```'<'```||\n",
    "|triangle_right|```'>'```||\n",
    "|tri_down|```'1'```||\n",
    "|tri_up|```'2'```||\n",
    "|tri_left|```'3'```||\n",
    "|tri_right|```'4'```||\n",
    "|octagon|```'8'```||\n",
    "|square|```'s'```||\n",
    "|pentagon|```'p'```||\n",
    "|plus_filled|```'P'```||\n",
    "|star|```'*'```||\n",
    "|hexagon1|```'h'```||\n",
    "|hexagon2|```'H'```||\n",
    "|plus|```'+'```||\n",
    "|x|```'x'```||\n",
    "|X|```'X'```||\n",
    "|vline|```'\\|'```||\n",
    "|hline|```'_'```||\n",
    "|tickleft||```0```|\n",
    "|tickright||```1```|\n",
    "|caretleft||```2```|\n",
    "|caretright||```3```|\n",
    "|caretup||```4```|\n",
    "|caretdown||```5```|\n",
    "|caretleftbase||```6```|\n",
    "|caretrightbase||```7```|\n",
    "|caretupbase||```8```|\n",
    "|caretdownbase||```9```|"
   ]
  },
  {
   "attachments": {},
   "cell_type": "markdown",
   "metadata": {},
   "source": [
    "Once again specification of a keyword input argument, in a multiline plot will apply that option to all lines:"
   ]
  },
  {
   "cell_type": "code",
   "execution_count": null,
   "metadata": {},
   "outputs": [],
   "source": [
    "fig, ax = plt.subplots(num=1);\n",
    "chart = ax.plot(x, y, \n",
    "                x, y+1,\n",
    "                x, y+2,\n",
    "                x, y+3, \n",
    "                x, y+4,\n",
    "                x, y+5,\n",
    "                x, y+6,\n",
    "                x, y+7,\n",
    "                x, y+8,\n",
    "                x, y+9,\n",
    "                x, y+10,\n",
    "                x, y+11,\n",
    "                marker='o');"
   ]
  },
  {
   "attachments": {},
   "cell_type": "markdown",
   "metadata": {},
   "source": [
    "The marker can be specified individually as a positional input argument:"
   ]
  },
  {
   "cell_type": "code",
   "execution_count": null,
   "metadata": {},
   "outputs": [],
   "source": [
    "fig, ax = plt.subplots(num=1);\n",
    "chart = ax.plot(x, y, 'o', \n",
    "                x, y+1, 'v',\n",
    "                x, y+2, '^',\n",
    "                x, y+3, '<',\n",
    "                x, y+4, '>',\n",
    "                x, y+5, '8',\n",
    "                x, y+6, 's',\n",
    "                x, y+7, 'p',\n",
    "                x, y+8, 'h',\n",
    "                x, y+9, '*',\n",
    "                x, y+10, '+',\n",
    "                x, y+11, '|');"
   ]
  },
  {
   "attachments": {},
   "cell_type": "markdown",
   "metadata": {},
   "source": [
    "There are a number of marker related settings such as markersize, markeredgewidth, markeredgecolor, markerfacecolor and markerfacecoloralt which is only relevent if a fillstyle is selected:"
   ]
  },
  {
   "cell_type": "code",
   "execution_count": null,
   "metadata": {},
   "outputs": [],
   "source": [
    "fig, ax = plt.subplots(num=1);\n",
    "ax.plot(x, y, color='orange', linestyle=':',\n",
    "        marker='o', markersize=15,\n",
    "        markeredgewidth=2, markeredgecolor='cyan',\n",
    "        markerfacecolor='yellow',\n",
    "        fillstyle='top', markerfacecoloralt='plum')"
   ]
  },
  {
   "attachments": {},
   "cell_type": "markdown",
   "metadata": {},
   "source": [
    "These have the following abbreviated alias:"
   ]
  },
  {
   "cell_type": "code",
   "execution_count": null,
   "metadata": {},
   "outputs": [],
   "source": [
    "fig, ax = plt.subplots(num=1);\n",
    "ax.plot(x, y, color='orange', ls='dotted',\n",
    "        marker='o', ms=15,\n",
    "        mew=2, mec='cyan',\n",
    "        mfc='yellow',\n",
    "        fillstyle='left', mfcalt='plum')"
   ]
  },
  {
   "attachments": {},
   "cell_type": "markdown",
   "metadata": {},
   "source": [
    "## Draw Style"
   ]
  },
  {
   "attachments": {},
   "cell_type": "markdown",
   "metadata": {},
   "source": [
    "The input argument drawstyle determines the connection between datapoints, the default style draws a line between them, however it is also possible to connect them using a step. The step can be pre, mid or post:"
   ]
  },
  {
   "cell_type": "code",
   "execution_count": null,
   "metadata": {},
   "outputs": [],
   "source": [
    "fig, ax = plt.subplots(nrows=2, ncols=2, num=1);\n",
    "ax[0, 0].plot(x, y, color='orange', linestyle='dotted',\n",
    "              drawstyle='default',\n",
    "              marker='o', ms=15,\n",
    "              mfc='cyan')\n",
    "ax[0, 1].plot(x, y, color='orange', linestyle='dotted',\n",
    "              drawstyle='steps-pre',\n",
    "              marker='o', ms=15,\n",
    "              mfc='cyan')\n",
    "ax[1, 0].plot(x, y, color='orange', linestyle='dotted',\n",
    "              drawstyle='steps-mid',\n",
    "              marker='o', ms=15,\n",
    "              mfc='cyan')\n",
    "ax[1, 1].plot(x, y, color='orange', linestyle='dotted',\n",
    "              drawstyle='steps-post',\n",
    "              marker='o', ms=15,\n",
    "              mfc='cyan')"
   ]
  },
  {
   "attachments": {},
   "cell_type": "markdown",
   "metadata": {},
   "source": [
    "## Label and Legend"
   ]
  },
  {
   "attachments": {},
   "cell_type": "markdown",
   "metadata": {},
   "source": [
    "A label can be added for each line and a legend produced:"
   ]
  },
  {
   "cell_type": "code",
   "execution_count": null,
   "metadata": {},
   "outputs": [],
   "source": [
    "fig, ax = plt.subplots(num=1);\n",
    "ax.plot(x, y, color='royalblue', label='royalblue')\n",
    "ax.plot(x, y+1, color='tomato', label='tomato')\n",
    "ax.plot(x, y+2, color='chocolate', label='chocolate')\n",
    "ax.plot(x, y+3, color='forestgreen', label='forestgreen')\n",
    "ax.plot(x, y+4, color='springgreen', label='springgreen')\n",
    "ax.plot(x, y+5, color='turquoise', label='turquise')\n",
    "ax.plot(x, y+6, color='teal', label='teal')\n",
    "ax.plot(x, y+7, color='skyblue', label='skyblue')\n",
    "ax.plot(x, y+8, color='dodgerblue', label='dodgerblue')\n",
    "ax.plot(x, y+9, color='slateblue', label='slateblue')\n",
    "ax.plot(x, y+10, color='fuchsia', label='fuchsia')\n",
    "ax.plot(x, y+11, color='hotpink', label='hotpink')\n",
    "ax.legend()"
   ]
  },
  {
   "cell_type": "code",
   "execution_count": null,
   "metadata": {},
   "outputs": [],
   "source": [
    "? ax.legend"
   ]
  },
  {
   "cell_type": "code",
   "execution_count": null,
   "metadata": {},
   "outputs": [],
   "source": [
    "fig, ax = plt.subplots(num=1);\n",
    "ax.plot(x, y, color='royalblue', label='royalblue')\n",
    "ax.plot(x, y+1, color='tomato', label='tomato')\n",
    "ax.plot(x, y+2, color='chocolate', label='chocolate')\n",
    "ax.plot(x, y+3, color='forestgreen', label='forestgreen')\n",
    "ax.plot(x, y+4, color='springgreen', label='springgreen')\n",
    "ax.plot(x, y+5, color='turquoise', label='turquise')\n",
    "ax.plot(x, y+6, color='teal', label='teal')\n",
    "ax.plot(x, y+7, color='skyblue', label='skyblue')\n",
    "ax.plot(x, y+8, color='dodgerblue', label='dodgerblue')\n",
    "ax.plot(x, y+9, color='slateblue', label='slateblue')\n",
    "ax.plot(x, y+10, color='fuchsia', label='fuchsia')\n",
    "ax.plot(x, y+11, color='hotpink', label='hotpink')\n",
    "ax.legend(loc='center right')"
   ]
  },
  {
   "attachments": {},
   "cell_type": "markdown",
   "metadata": {},
   "source": [
    "The black box enclosing the axis is known as the bbox. The bbox_to_anchor input argument will anchor the legend to the bbox using a tuple of the form (x, y), x is the normalised ratio of the bbox x and y is the normalised ratio of the bbox y. A bbox_to_anchor=(0.3, 0.8) for example moves the bottom left corner of the legend to the normalised position specified:"
   ]
  },
  {
   "cell_type": "code",
   "execution_count": null,
   "metadata": {},
   "outputs": [],
   "source": [
    "fig, ax = plt.subplots(num=1);\n",
    "ax.plot(x, y, color='royalblue', label='royalblue')\n",
    "ax.plot(x, y+1, color='tomato', label='tomato')\n",
    "ax.plot(x, y+2, color='chocolate', label='chocolate')\n",
    "ax.plot(x, y+3, color='forestgreen', label='forestgreen')\n",
    "ax.plot(x, y+4, color='springgreen', label='springgreen')\n",
    "ax.plot(x, y+5, color='turquoise', label='turquise')\n",
    "ax.plot(x, y+6, color='teal', label='teal')\n",
    "ax.plot(x, y+7, color='skyblue', label='skyblue')\n",
    "ax.plot(x, y+8, color='dodgerblue', label='dodgerblue')\n",
    "ax.plot(x, y+9, color='slateblue', label='slateblue')\n",
    "ax.plot(x, y+10, color='fuchsia', label='fuchsia')\n",
    "ax.plot(x, y+11, color='hotpink', label='hotpink')\n",
    "ax.legend(bbox_to_anchor=(0.3, 0.8))"
   ]
  },
  {
   "attachments": {},
   "cell_type": "markdown",
   "metadata": {},
   "source": [
    "A bbox_to_anchor=(1.0, 0) for example moves the top right corner of the legend to the normalised position specified:"
   ]
  },
  {
   "cell_type": "code",
   "execution_count": null,
   "metadata": {},
   "outputs": [],
   "source": [
    "fig, ax = plt.subplots(num=1);\n",
    "ax.plot(x, y, color='royalblue', label='royalblue')\n",
    "ax.plot(x, y+1, color='tomato', label='tomato')\n",
    "ax.plot(x, y+2, color='chocolate', label='chocolate')\n",
    "ax.plot(x, y+3, color='forestgreen', label='forestgreen')\n",
    "ax.plot(x, y+4, color='springgreen', label='springgreen')\n",
    "ax.plot(x, y+5, color='turquoise', label='turquise')\n",
    "ax.plot(x, y+6, color='teal', label='teal')\n",
    "ax.plot(x, y+7, color='skyblue', label='skyblue')\n",
    "ax.plot(x, y+8, color='dodgerblue', label='dodgerblue')\n",
    "ax.plot(x, y+9, color='slateblue', label='slateblue')\n",
    "ax.plot(x, y+10, color='fuchsia', label='fuchsia')\n",
    "ax.plot(x, y+11, color='hotpink', label='hotpink')\n",
    "ax.legend(bbox_to_anchor=(1.0, 0))"
   ]
  },
  {
   "attachments": {},
   "cell_type": "markdown",
   "metadata": {},
   "source": [
    "A bbox_to_anchor=(1.0, 0.5) for example moves the top left corner of the legend to the normalised position specified:"
   ]
  },
  {
   "cell_type": "code",
   "execution_count": null,
   "metadata": {},
   "outputs": [],
   "source": [
    "fig, ax = plt.subplots(num=1);\n",
    "ax.plot(x, y, color='royalblue', label='royalblue')\n",
    "ax.plot(x, y+1, color='tomato', label='tomato')\n",
    "ax.plot(x, y+2, color='chocolate', label='chocolate')\n",
    "ax.plot(x, y+3, color='forestgreen', label='forestgreen')\n",
    "ax.plot(x, y+4, color='springgreen', label='springgreen')\n",
    "ax.plot(x, y+5, color='turquoise', label='turquise')\n",
    "ax.plot(x, y+6, color='teal', label='teal')\n",
    "ax.plot(x, y+7, color='skyblue', label='skyblue')\n",
    "ax.plot(x, y+8, color='dodgerblue', label='dodgerblue')\n",
    "ax.plot(x, y+9, color='slateblue', label='slateblue')\n",
    "ax.plot(x, y+10, color='fuchsia', label='fuchsia')\n",
    "ax.plot(x, y+11, color='hotpink', label='hotpink')\n",
    "ax.legend(bbox_to_anchor=(1.0, 0.5))"
   ]
  },
  {
   "attachments": {},
   "cell_type": "markdown",
   "metadata": {},
   "source": [
    "A bbox_to_anchor=(1.0, 0.9) for example moves the top left corner of the legend to the normalised position specified:"
   ]
  },
  {
   "cell_type": "code",
   "execution_count": null,
   "metadata": {},
   "outputs": [],
   "source": [
    "fig, ax = plt.subplots(num=1);\n",
    "ax.plot(x, y, color='royalblue', label='royalblue')\n",
    "ax.plot(x, y+1, color='tomato', label='tomato')\n",
    "ax.plot(x, y+2, color='chocolate', label='chocolate')\n",
    "ax.plot(x, y+3, color='forestgreen', label='forestgreen')\n",
    "ax.plot(x, y+4, color='springgreen', label='springgreen')\n",
    "ax.plot(x, y+5, color='turquoise', label='turquise')\n",
    "ax.plot(x, y+6, color='teal', label='teal')\n",
    "ax.plot(x, y+7, color='skyblue', label='skyblue')\n",
    "ax.plot(x, y+8, color='dodgerblue', label='dodgerblue')\n",
    "ax.plot(x, y+9, color='slateblue', label='slateblue')\n",
    "ax.plot(x, y+10, color='fuchsia', label='fuchsia')\n",
    "ax.plot(x, y+11, color='hotpink', label='hotpink')\n",
    "ax.legend(bbox_to_anchor=(1.0, 0.90))"
   ]
  },
  {
   "attachments": {},
   "cell_type": "markdown",
   "metadata": {},
   "source": [
    "If subplots are created, the ax legend method can be used on each axis:"
   ]
  },
  {
   "cell_type": "code",
   "execution_count": null,
   "metadata": {},
   "outputs": [],
   "source": [
    "fig, ax = plt.subplots(nrows=2, ncols=1, num=1);\n",
    "ax[0].plot(x, y, color='royalblue', label='royalblue')\n",
    "ax[0].plot(x, y+1, color='tomato', label='tomato')\n",
    "ax[0].plot(x, y+2, color='chocolate', label='chocolate')\n",
    "ax[0].plot(x, y+3, color='forestgreen', label='forestgreen')\n",
    "ax[0].plot(x, y+4, color='springgreen', label='springgreen')\n",
    "ax[0].plot(x, y+5, color='turquoise', label='turquise')\n",
    "ax[1].plot(x, y+6, color='teal', label='teal')\n",
    "ax[1].plot(x, y+7, color='skyblue', label='skyblue')\n",
    "ax[1].plot(x, y+8, color='dodgerblue', label='dodgerblue')\n",
    "ax[1].plot(x, y+9, color='slateblue', label='slateblue')\n",
    "ax[1].plot(x, y+10, color='fuchsia', label='fuchsia')\n",
    "ax[1].plot(x, y+11, color='hotpink', label='hotpink')\n",
    "ax[0].legend(bbox_to_anchor=(1.0, 0.90))\n",
    "ax[1].legend(bbox_to_anchor=(1.0, 0.90))"
   ]
  },
  {
   "attachments": {},
   "cell_type": "markdown",
   "metadata": {},
   "source": [
    "The figure ax method can also be used which combines the legends together. The bbox for the figure can be conceptualisaed as an invisible bbox around all the subplots on the figure, for example a bbox_to_anchor=(0.5, 0.5) moves the top right of the legend to the following position:"
   ]
  },
  {
   "cell_type": "code",
   "execution_count": null,
   "metadata": {},
   "outputs": [],
   "source": [
    "fig, ax = plt.subplots(nrows=2, ncols=1, num=1);\n",
    "ax[0].plot(x, y, color='royalblue', label='royalblue')\n",
    "ax[0].plot(x, y+1, color='tomato', label='tomato')\n",
    "ax[0].plot(x, y+2, color='chocolate', label='chocolate')\n",
    "ax[0].plot(x, y+3, color='forestgreen', label='forestgreen')\n",
    "ax[0].plot(x, y+4, color='springgreen', label='springgreen')\n",
    "ax[0].plot(x, y+5, color='turquoise', label='turquise')\n",
    "ax[1].plot(x, y+6, color='teal', label='teal')\n",
    "ax[1].plot(x, y+7, color='skyblue', label='skyblue')\n",
    "ax[1].plot(x, y+8, color='dodgerblue', label='dodgerblue')\n",
    "ax[1].plot(x, y+9, color='slateblue', label='slateblue')\n",
    "ax[1].plot(x, y+10, color='fuchsia', label='fuchsia')\n",
    "ax[1].plot(x, y+11, color='hotpink', label='hotpink')\n",
    "fig.legend(bbox_to_anchor=(0.5, 0.5))"
   ]
  },
  {
   "attachments": {},
   "cell_type": "markdown",
   "metadata": {},
   "source": [
    "An x value greater than 1 is often used to move this outside the bbox:"
   ]
  },
  {
   "cell_type": "code",
   "execution_count": null,
   "metadata": {},
   "outputs": [],
   "source": [
    "fig, ax = plt.subplots(nrows=2, ncols=1, num=1);\n",
    "ax[0].plot(x, y, color='royalblue', label='royalblue')\n",
    "ax[0].plot(x, y+1, color='tomato', label='tomato')\n",
    "ax[0].plot(x, y+2, color='chocolate', label='chocolate')\n",
    "ax[0].plot(x, y+3, color='forestgreen', label='forestgreen')\n",
    "ax[0].plot(x, y+4, color='springgreen', label='springgreen')\n",
    "ax[0].plot(x, y+5, color='turquoise', label='turquise')\n",
    "ax[1].plot(x, y+6, color='teal', label='teal')\n",
    "ax[1].plot(x, y+7, color='skyblue', label='skyblue')\n",
    "ax[1].plot(x, y+8, color='dodgerblue', label='dodgerblue')\n",
    "ax[1].plot(x, y+9, color='slateblue', label='slateblue')\n",
    "ax[1].plot(x, y+10, color='fuchsia', label='fuchsia')\n",
    "ax[1].plot(x, y+11, color='hotpink', label='hotpink')\n",
    "fig.legend(bbox_to_anchor=(1.15, 0.80))"
   ]
  },
  {
   "attachments": {},
   "cell_type": "markdown",
   "metadata": {},
   "source": [
    "Note the pyplot function legend is equivalent to the Axes method legend."
   ]
  },
  {
   "attachments": {},
   "cell_type": "markdown",
   "metadata": {},
   "source": [
    "## Grid"
   ]
  },
  {
   "attachments": {},
   "cell_type": "markdown",
   "metadata": {},
   "source": [
    "gridlines are not shown by default:"
   ]
  },
  {
   "cell_type": "code",
   "execution_count": null,
   "metadata": {},
   "outputs": [],
   "source": [
    "fig, ax = plt.subplots(num=1);\n",
    "chart = ax.plot(x, y, color='royalblue', marker='o')"
   ]
  },
  {
   "attachments": {},
   "cell_type": "markdown",
   "metadata": {},
   "source": [
    "Major gridlines can be added using the Axes method grid which by default turns major gridlines visible making them 'grey':"
   ]
  },
  {
   "cell_type": "code",
   "execution_count": null,
   "metadata": {},
   "outputs": [],
   "source": [
    "fig, ax = plt.subplots(num=1);\n",
    "chart = ax.plot(x, y, color='royalblue', marker='o')\n",
    "ax.grid()"
   ]
  },
  {
   "attachments": {},
   "cell_type": "markdown",
   "metadata": {},
   "source": [
    "minorticks can also be added:"
   ]
  },
  {
   "cell_type": "code",
   "execution_count": null,
   "metadata": {},
   "outputs": [],
   "source": [
    "fig, ax = plt.subplots(nrows=1, ncols=2, num=1);\n",
    "ax[0].plot(x, y, color='royalblue', marker='o')\n",
    "ax[1].plot(x, y, color='royalblue', marker='o')\n",
    "ax[1].minorticks_on()"
   ]
  },
  {
   "attachments": {},
   "cell_type": "markdown",
   "metadata": {},
   "source": [
    "keyword arguments can be added to grid to specify which gridline and axis are modified. The line specific keyword input arguments are consistent with the line plot:"
   ]
  },
  {
   "cell_type": "code",
   "execution_count": null,
   "metadata": {},
   "outputs": [],
   "source": [
    "fig, ax = plt.subplots(num=1);\n",
    "chart = ax.plot(x, y, color='royalblue', marker='o')\n",
    "ax.minorticks_on()\n",
    "ax.grid(which='major', axis='both', visible=True, color='turquoise', linewidth=1, linestyle='solid')\n",
    "ax.grid(which='minor', axis='both', visible=True, color='paleturquoise', linewidth=0.5, linestyle=(0, (1, 1)))"
   ]
  },
  {
   "attachments": {},
   "cell_type": "markdown",
   "metadata": {},
   "source": [
    "## Get Properties and Set Properties"
   ]
  },
  {
   "attachments": {},
   "cell_type": "markdown",
   "metadata": {},
   "source": [
    "Supposing the multi-line plot is created:"
   ]
  },
  {
   "cell_type": "code",
   "execution_count": null,
   "metadata": {},
   "outputs": [],
   "source": [
    "fig, ax = plt.subplots(num=1);\n",
    "ax.plot(x, y, \n",
    "        x, y+1,\n",
    "        x, y+2,\n",
    "        x, y+3, \n",
    "        x, y+4,\n",
    "        x, y+5,\n",
    "        x, y+6,\n",
    "        x, y+7,\n",
    "        x, y+8,\n",
    "        x, y+9,\n",
    "        x, y+10,\n",
    "        x, y+11,\n",
    "        color='royalblue');"
   ]
  },
  {
   "attachments": {},
   "cell_type": "markdown",
   "metadata": {},
   "source": [
    "The Axes lines attribute contains all these lines:"
   ]
  },
  {
   "cell_type": "code",
   "execution_count": null,
   "metadata": {},
   "outputs": [],
   "source": [
    "ax.lines"
   ]
  },
  {
   "attachments": {},
   "cell_type": "markdown",
   "metadata": {},
   "source": [
    "The pyplot function get properties getp can be used to examine the properties of all the lines using:"
   ]
  },
  {
   "cell_type": "code",
   "execution_count": null,
   "metadata": {},
   "outputs": [],
   "source": [
    "plt.getp(ax.lines)"
   ]
  },
  {
   "attachments": {},
   "cell_type": "markdown",
   "metadata": {},
   "source": [
    "Of a line using:"
   ]
  },
  {
   "cell_type": "code",
   "execution_count": null,
   "metadata": {},
   "outputs": [],
   "source": [
    "plt.getp(ax.lines[0])"
   ]
  },
  {
   "attachments": {},
   "cell_type": "markdown",
   "metadata": {},
   "source": [
    "This function can also be used on the Axes:"
   ]
  },
  {
   "cell_type": "code",
   "execution_count": null,
   "metadata": {},
   "outputs": [],
   "source": [
    "plt.getp(ax)"
   ]
  },
  {
   "attachments": {},
   "cell_type": "markdown",
   "metadata": {},
   "source": [
    "And the Figure:"
   ]
  },
  {
   "cell_type": "code",
   "execution_count": null,
   "metadata": {},
   "outputs": [],
   "source": [
    "plt.getp(fig)"
   ]
  },
  {
   "attachments": {},
   "cell_type": "markdown",
   "metadata": {},
   "source": [
    "The related function set properties can be used on the same matplotlib objects alongside the parameters above in the form of keyword input arguments. With the default backend of inline, all the commands used for a single plot must be input in the same cell, this includes setting properties: "
   ]
  },
  {
   "cell_type": "code",
   "execution_count": null,
   "metadata": {},
   "outputs": [],
   "source": [
    "fig, ax = plt.subplots(num=1);\n",
    "ax.plot(x, y, \n",
    "        x, y+1,\n",
    "        x, y+2,\n",
    "        x, y+3, \n",
    "        x, y+4,\n",
    "        x, y+5,\n",
    "        x, y+6,\n",
    "        x, y+7,\n",
    "        x, y+8,\n",
    "        x, y+9,\n",
    "        x, y+10,\n",
    "        x, y+11,\n",
    "        color='royalblue');\n",
    "\n",
    "plt.setp(ax.lines[0], color='tomato', linestyle='dotted', marker='o');"
   ]
  }
 ],
 "metadata": {
  "kernelspec": {
   "display_name": "jupyterlab",
   "language": "python",
   "name": "python3"
  },
  "language_info": {
   "codemirror_mode": {
    "name": "ipython",
    "version": 3
   },
   "file_extension": ".py",
   "mimetype": "text/x-python",
   "name": "python",
   "nbconvert_exporter": "python",
   "pygments_lexer": "ipython3",
   "version": "3.12.1"
  },
  "orig_nbformat": 4,
  "vscode": {
   "interpreter": {
    "hash": "4648373dafda34926c036cc9e466ef2f8d360789320441bb704a9be21d427d2a"
   }
  }
 },
 "nbformat": 4,
 "nbformat_minor": 2
}
