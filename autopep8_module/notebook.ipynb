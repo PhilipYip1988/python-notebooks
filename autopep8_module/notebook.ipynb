{
 "cells": [
  {
   "cell_type": "markdown",
   "metadata": {},
   "source": [
    "# Python Formatters"
   ]
  },
  {
   "cell_type": "markdown",
   "metadata": {},
   "source": [
    "This tutorial will look at using some Code Formatters ```autopep8```, ```isort```, ```black``` and ```ruff```."
   ]
  },
  {
   "cell_type": "markdown",
   "metadata": {},
   "source": [
    "If on Windows the string instance ```os.name``` will be ```'nt'```, otherwise if on Linux/Mac the string instance will be ```'posix'```:"
   ]
  },
  {
   "cell_type": "code",
   "execution_count": 4,
   "metadata": {},
   "outputs": [
    {
     "data": {
      "text/plain": [
       "'nt'"
      ]
     },
     "execution_count": 4,
     "metadata": {},
     "output_type": "execute_result"
    }
   ],
   "source": [
    "import os\n",
    "os.name"
   ]
  },
  {
   "cell_type": "markdown",
   "metadata": {},
   "source": [
    "## AutoPEP8 Formatter"
   ]
  },
  {
   "cell_type": "markdown",
   "metadata": {},
   "source": [
    "Supposing the following script file is created twice so there is a copy of the original:"
   ]
  },
  {
   "cell_type": "code",
   "execution_count": 58,
   "metadata": {},
   "outputs": [
    {
     "name": "stdout",
     "output_type": "stream",
     "text": [
      "Overwriting script1.py\n"
     ]
    }
   ],
   "source": [
    "%%writefile script1.py\n",
    "var1= 'Hello'\n",
    "var2 =\"World\"\n",
    "import numpy as np\n",
    "x=np.array([0,1,2,3,4])\n",
    "y=np.array([0,2,4, 6 ,8])\n",
    "import pandas as pd\n",
    "df=pd.DataFrame({'x':x,\"y\":y})\n",
    "import datetime\n",
    "now=datetime.datetime(year = 2023,month=12 ,day=1)\n",
    "hour=datetime.timedelta(hours=1)\n",
    "import collections\n",
    "counts=collections.Counter([1,  2,2  ,2,3,3])\n",
    "import itertools\n",
    "cycle=itertools.cycle([1,2,3])\n",
    "import sys, os\n",
    "sys.sizeof(cycle)\n",
    "os.environ['USERPROFILE']\n",
    "num1 = 0xabb4ab8a\n",
    "import string"
   ]
  },
  {
   "cell_type": "code",
   "execution_count": 59,
   "metadata": {},
   "outputs": [
    {
     "name": "stdout",
     "output_type": "stream",
     "text": [
      "Overwriting script2.py\n"
     ]
    }
   ],
   "source": [
    "%%writefile script2.py\n",
    "var1= 'Hello'\n",
    "var2 =\"World\"\n",
    "import numpy as np\n",
    "x=np.array([0,1,2,3,4])\n",
    "y=np.array([0,2,4, 6 ,8])\n",
    "import pandas as pd\n",
    "df=pd.DataFrame({'x':x,\"y\":y})\n",
    "import datetime\n",
    "now=datetime.datetime(year = 2023,month=12 ,day=1)\n",
    "hour=datetime.timedelta(hours=1)\n",
    "import collections\n",
    "counts=collections.Counter([1,  2,2  ,2,3,3])\n",
    "import itertools\n",
    "cycle=itertools.cycle([1,2,3])\n",
    "import sys, os\n",
    "sys.sizeof(cycle)\n",
    "os.environ['USERPROFILE']\n",
    "num1 = 0xabb4ab8a\n",
    "import string"
   ]
  },
  {
   "cell_type": "markdown",
   "metadata": {},
   "source": [
    "Notice that the spacing is deliberately sloppy around the assignment operator and also around delimiters. This code violates [PEP8 Whitespace Expressions and Statements](https://peps.python.org/pep-0008/#whitespace-in-expressions-and-statements) which explains how to use whitespace to emphasis Python code. Whitespace for example should be placed around an operator such as the assignment operator, except in the case for a function call where whitespace should instead be placed after each comma to visually seperate input arguments.\n",
    "\n",
    "This code also violates [PEP 8 Imports](https://peps.python.org/pep-0008/#imports) which states imports should be at the top of the file, each import should be on a seperate line and standard libraries should be imported before third-party or custom modules."
   ]
  },
  {
   "cell_type": "markdown",
   "metadata": {},
   "source": [
    "To rectify this ```autopep8``` can be used. \n",
    "\n",
    "In VSCode the AutoPEP8 extension can be installed:"
   ]
  },
  {
   "cell_type": "markdown",
   "metadata": {},
   "source": [
    "<img src='images\\img_001.png' alt='img_001' width='350'/>"
   ]
  },
  {
   "cell_type": "markdown",
   "metadata": {},
   "source": [
    "Once installed, the Format Document and Format Document with... commands will be available from the Command Palette when a Python script file is opened. Press ```Ctrl```, ```⇧``` and ```p``` to open the command palette:"
   ]
  },
  {
   "cell_type": "markdown",
   "metadata": {},
   "source": [
    "<img src='images\\img_002.png' alt='img_002' width='450'/>"
   ]
  },
  {
   "cell_type": "markdown",
   "metadata": {},
   "source": [
    "Notice that the imports are placed at the top of the file, with standard module imports placed before third-party library imports. Notice that the spacing has mainly been addressed:"
   ]
  },
  {
   "cell_type": "markdown",
   "metadata": {},
   "source": [
    "<img src='images\\img_003.png' alt='img_003' width='450'/>"
   ]
  },
  {
   "cell_type": "markdown",
   "metadata": {},
   "source": [
    "The Format Document with... command allows selection of other formatters if installed:"
   ]
  },
  {
   "cell_type": "markdown",
   "metadata": {},
   "source": [
    "<img src='images\\img_004.png' alt='img_004' width='450'/>"
   ]
  },
  {
   "cell_type": "markdown",
   "metadata": {},
   "source": [
    "It also allows for configuration of the default formatter:"
   ]
  },
  {
   "cell_type": "markdown",
   "metadata": {},
   "source": [
    "<img src='images\\img_005.png' alt='img_005' width='450'/>"
   ]
  },
  {
   "cell_type": "markdown",
   "metadata": {},
   "source": [
    "For an interactive Python notebook file, there is the equivalent command Format notebook:"
   ]
  },
  {
   "cell_type": "markdown",
   "metadata": {},
   "source": [
    "<img src='images\\img_006.png' alt='img_006' width='450'/>"
   ]
  },
  {
   "cell_type": "markdown",
   "metadata": {},
   "source": [
    "This makes the spacing AutoPEP8 compliant but does not sort imports:"
   ]
  },
  {
   "cell_type": "markdown",
   "metadata": {},
   "source": [
    "<img src='images\\img_007.png' alt='img_007' width='450'/>"
   ]
  },
  {
   "cell_type": "markdown",
   "metadata": {},
   "source": [
    "AutoPEP8 can also be used via the command:"
   ]
  },
  {
   "cell_type": "code",
   "execution_count": 7,
   "metadata": {},
   "outputs": [
    {
     "name": "stdout",
     "output_type": "stream",
     "text": [
      "import os\n",
      "import sys\n",
      "import itertools\n",
      "import collections\n",
      "import datetime\n",
      "import pandas as pd\n",
      "import numpy as np\n",
      "var1 = 'Hello'\n",
      "var2 = \"World\"\n",
      "x = np.array([0, 1, 2, 3, 4])\n",
      "y = np.array([0, 2, 4, 6, 8])\n",
      "df = pd.DataFrame({'x': x, \"y\": y})\n",
      "now = datetime.datetime(year=2023, month=12, day=1)\n",
      "hour = datetime.timedelta(hours=1)\n",
      "counts = collections.Counter([1,  2, 2, 2, 3, 3])\n",
      "cycle = itertools.cycle([1, 2, 3])\n",
      "sys.sizeof(cycle)\n",
      "os.environ['USERPROFILE']\n",
      "num1 = 0xabb4ab8a\n"
     ]
    }
   ],
   "source": [
    "if os.name == 'nt':\n",
    "    !powershell ~\\anaconda3\\Scripts\\autopep8.exe script2.py\n",
    "else:\n",
    "    !autopep8 script2.py"
   ]
  },
  {
   "cell_type": "markdown",
   "metadata": {},
   "source": [
    "To make the changes in place:"
   ]
  },
  {
   "cell_type": "code",
   "execution_count": 8,
   "metadata": {},
   "outputs": [],
   "source": [
    "if os.name == 'nt':\n",
    "    !powershell ~\\anaconda3\\Scripts\\autopep8.exe -i script2.py\n",
    "else:\n",
    "    !autopep8 -i script2.py"
   ]
  },
  {
   "cell_type": "markdown",
   "metadata": {},
   "source": [
    "These can be viewed using:"
   ]
  },
  {
   "cell_type": "code",
   "execution_count": 9,
   "metadata": {},
   "outputs": [
    {
     "name": "stdout",
     "output_type": "stream",
     "text": [
      "import os\n",
      "import sys\n",
      "import itertools\n",
      "import collections\n",
      "import datetime\n",
      "import pandas as pd\n",
      "import numpy as np\n",
      "var1 = 'Hello'\n",
      "var2 = \"World\"\n",
      "x = np.array([0, 1, 2, 3, 4])\n",
      "y = np.array([0, 2, 4, 6, 8])\n",
      "df = pd.DataFrame({'x': x, \"y\": y})\n",
      "now = datetime.datetime(year=2023, month=12, day=1)\n",
      "hour = datetime.timedelta(hours=1)\n",
      "counts = collections.Counter([1,  2, 2, 2, 3, 3])\n",
      "cycle = itertools.cycle([1, 2, 3])\n",
      "sys.sizeof(cycle)\n",
      "os.environ['USERPROFILE']\n",
      "num1 = 0xabb4ab8a\n"
     ]
    }
   ],
   "source": [
    "if os.name == 'nt':\n",
    "    !powershell type script2.py\n",
    "else:\n",
    "    !type script2.py"
   ]
  },
  {
   "cell_type": "markdown",
   "metadata": {},
   "source": [
    "## Import Sort Formatter"
   ]
  },
  {
   "cell_type": "markdown",
   "metadata": {},
   "source": [
    "AutoPEP8 has placed all the imports at the start of the fil with the standard modules placed before the third-party modules. However the moduels are not sorted alphabetically by this grouping. To rectify this import sort formatter ```isort``` can be used. Let's return to the starting code (3 identical files will eb created):"
   ]
  },
  {
   "cell_type": "code",
   "execution_count": 10,
   "metadata": {},
   "outputs": [
    {
     "name": "stdout",
     "output_type": "stream",
     "text": [
      "Overwriting script3.py\n"
     ]
    }
   ],
   "source": [
    "%%writefile script3.py\n",
    "var1= 'Hello'\n",
    "var2 =\"World\"\n",
    "import numpy as np\n",
    "x=np.array([0,1,2,3,4])\n",
    "y=np.array([0,2,4, 6 ,8])\n",
    "import pandas as pd\n",
    "df=pd.DataFrame({'x':x,\"y\":y})\n",
    "import datetime\n",
    "now=datetime.datetime(year = 2023,month=12 ,day=1)\n",
    "hour=datetime.timedelta(hours=1)\n",
    "import collections\n",
    "counts=collections.Counter([1,  2,2  ,2,3,3])\n",
    "import itertools\n",
    "cycle=itertools.cycle([1,2,3])\n",
    "import sys, os\n",
    "sys.sizeof(cycle)\n",
    "os.environ['USERPROFILE']\n",
    "num1 = 0xabb4ab8a\n",
    "import string"
   ]
  },
  {
   "cell_type": "code",
   "execution_count": 131,
   "metadata": {},
   "outputs": [
    {
     "name": "stdout",
     "output_type": "stream",
     "text": [
      "Overwriting script4.py\n"
     ]
    }
   ],
   "source": [
    "%%writefile script4.py\n",
    "var1= 'Hello'\n",
    "var2 =\"World\"\n",
    "import numpy as np\n",
    "x=np.array([0,1,2,3,4])\n",
    "y=np.array([0,2,4, 6 ,8])\n",
    "import pandas as pd\n",
    "df=pd.DataFrame({'x':x,\"y\":y})\n",
    "import datetime\n",
    "now=datetime.datetime(year = 2023,month=12 ,day=1)\n",
    "hour=datetime.timedelta(hours=1)\n",
    "import collections\n",
    "counts=collections.Counter([1,  2,2  ,2,3,3])\n",
    "import itertools\n",
    "cycle=itertools.cycle([1,2,3])\n",
    "import sys, os\n",
    "sys.sizeof(cycle)\n",
    "os.environ['USERPROFILE']\n",
    "num1 = 0xabb4ab8a\n",
    "import string"
   ]
  },
  {
   "cell_type": "code",
   "execution_count": 134,
   "metadata": {},
   "outputs": [
    {
     "name": "stdout",
     "output_type": "stream",
     "text": [
      "Overwriting script5.py\n"
     ]
    }
   ],
   "source": [
    "%%writefile script5.py\n",
    "var1= 'Hello'\n",
    "var2 =\"World\"\n",
    "import numpy as np\n",
    "x=np.array([0,1,2,3,4])\n",
    "y=np.array([0,2,4, 6 ,8])\n",
    "import pandas as pd\n",
    "df=pd.DataFrame({'x':x,\"y\":y})\n",
    "import datetime\n",
    "now=datetime.datetime(year = 2023,month=12 ,day=1)\n",
    "hour=datetime.timedelta(hours=1)\n",
    "import collections\n",
    "counts=collections.Counter([1,  2,2  ,2,3,3])\n",
    "import itertools\n",
    "cycle=itertools.cycle([1,2,3])\n",
    "import sys, os\n",
    "sys.sizeof(cycle)\n",
    "os.environ['USERPROFILE']\n",
    "num1 = 0xabb4ab8a\n",
    "import string"
   ]
  },
  {
   "cell_type": "markdown",
   "metadata": {},
   "source": [
    "In VSCode the isort extension can be installed. Once installed, the Organize Imports command displays:"
   ]
  },
  {
   "cell_type": "markdown",
   "metadata": {},
   "source": [
    "<img src='images\\img_008.png' alt='img_008' width='350'/>"
   ]
  },
  {
   "cell_type": "markdown",
   "metadata": {},
   "source": [
    "This command can be used on a Python script file:"
   ]
  },
  {
   "cell_type": "markdown",
   "metadata": {},
   "source": [
    "<img src='images\\img_009.png' alt='img_009' width='450'/>"
   ]
  },
  {
   "cell_type": "markdown",
   "metadata": {},
   "source": [
    "It seems however that isort does not work very well on a file that has not previously been processed by autopep8:"
   ]
  },
  {
   "cell_type": "markdown",
   "metadata": {},
   "source": [
    "<img src='images\\img_010.png' alt='img_010' width='450'/>"
   ]
  },
  {
   "cell_type": "markdown",
   "metadata": {},
   "source": [
    "The import sort formatter ```isort``` can be used directly on this script and by default operates inplace:"
   ]
  },
  {
   "cell_type": "code",
   "execution_count": 132,
   "metadata": {},
   "outputs": [
    {
     "name": "stdout",
     "output_type": "stream",
     "text": [
      "Fixing C:\\Users\\Philip\\Documents\\GitHub\\python-notebooks\\autopep8_module\\script4.py\n"
     ]
    }
   ],
   "source": [
    "if os.name == 'nt':\n",
    "    !powershell ~\\anaconda3\\Scripts\\isort.exe script4.py\n",
    "else:\n",
    "    !isort script4.py"
   ]
  },
  {
   "cell_type": "markdown",
   "metadata": {},
   "source": [
    "Unfortunately the results aren't great when the code has not previously been processed with autopep8:"
   ]
  },
  {
   "cell_type": "code",
   "execution_count": 133,
   "metadata": {},
   "outputs": [
    {
     "name": "stdout",
     "output_type": "stream",
     "text": [
      "var1= 'Hello'\n",
      "var2 =\"World\"\n",
      "import numpy as np\n",
      "\n",
      "x=np.array([0,1,2,3,4])\n",
      "y=np.array([0,2,4, 6 ,8])\n",
      "import pandas as pd\n",
      "\n",
      "df=pd.DataFrame({'x':x,\"y\":y})\n",
      "import datetime\n",
      "\n",
      "now=datetime.datetime(year = 2023,month=12 ,day=1)\n",
      "hour=datetime.timedelta(hours=1)\n",
      "import collections\n",
      "\n",
      "counts=collections.Counter([1,  2,2  ,2,3,3])\n",
      "import itertools\n",
      "\n",
      "cycle=itertools.cycle([1,2,3])\n",
      "import os\n",
      "import sys\n",
      "\n",
      "sys.sizeof(cycle)\n",
      "os.environ['USERPROFILE']\n",
      "num1 = 0xabb4ab8a\n",
      "import string\n"
     ]
    }
   ],
   "source": [
    "if os.name == 'nt':\n",
    "    !powershell type script4.py\n",
    "else:\n",
    "    !type script4.py"
   ]
  },
  {
   "cell_type": "markdown",
   "metadata": {},
   "source": [
    "Returning to the starting code and using ```autopep8``` and ```isort``` together:"
   ]
  },
  {
   "cell_type": "code",
   "execution_count": 135,
   "metadata": {},
   "outputs": [
    {
     "name": "stdout",
     "output_type": "stream",
     "text": [
      "Fixing C:\\Users\\Philip\\Documents\\GitHub\\python-notebooks\\autopep8_module\\script5.py\n"
     ]
    }
   ],
   "source": [
    "if os.name == 'nt':\n",
    "    !powershell ~\\anaconda3\\Scripts\\autopep8.exe -i script5.py\n",
    "    !powershell ~\\anaconda3\\Scripts\\isort.exe script5.py\n",
    "else:\n",
    "    !autopep8 -i script5.py\n",
    "    !isort script5.py"
   ]
  },
  {
   "cell_type": "markdown",
   "metadata": {},
   "source": [
    "Gives better results:"
   ]
  },
  {
   "cell_type": "code",
   "execution_count": 15,
   "metadata": {},
   "outputs": [
    {
     "name": "stdout",
     "output_type": "stream",
     "text": [
      "import collections\n",
      "import datetime\n",
      "import itertools\n",
      "import os\n",
      "import sys\n",
      "\n",
      "import numpy as np\n",
      "import pandas as pd\n",
      "\n",
      "var1 = 'Hello'\n",
      "var2 = \"World\"\n",
      "x = np.array([0, 1, 2, 3, 4])\n",
      "y = np.array([0, 2, 4, 6, 8])\n",
      "df = pd.DataFrame({'x': x, \"y\": y})\n",
      "now = datetime.datetime(year=2023, month=12, day=1)\n",
      "hour = datetime.timedelta(hours=1)\n",
      "counts = collections.Counter([1,  2, 2, 2, 3, 3])\n",
      "cycle = itertools.cycle([1, 2, 3])\n",
      "sys.sizeof(cycle)\n",
      "os.environ['USERPROFILE']\n",
      "num1 = 0xabb4ab8a\n"
     ]
    }
   ],
   "source": [
    "if os.name == 'nt':\n",
    "    !powershell type script4.py\n",
    "else:\n",
    "    !type script4.py"
   ]
  },
  {
   "cell_type": "markdown",
   "metadata": {},
   "source": [
    "The quotation style above is inconsistent and haven't been amended using ```autopep8```. The reason no amendment to the quotation style has been made is because [PEP8 String Quotes](https://peps.python.org/pep-0008/#string-quotes) has acknowledged that the Python community is divided on quotation style and does not explicitly recommend single quotations over double quotations or vice-versa."
   ]
  },
  {
   "cell_type": "markdown",
   "metadata": {},
   "source": [
    "## Black Formatter"
   ]
  },
  {
   "cell_type": "markdown",
   "metadata": {},
   "source": [
    "```black``` is an opinionated formatter that applies additional opinionated formatting to the script. Let's return to the starting code, creating 3 identicial files:"
   ]
  },
  {
   "cell_type": "code",
   "execution_count": 136,
   "metadata": {},
   "outputs": [
    {
     "name": "stdout",
     "output_type": "stream",
     "text": [
      "Overwriting script6.py\n"
     ]
    }
   ],
   "source": [
    "%%writefile script6.py\n",
    "var1= 'Hello'\n",
    "var2 =\"World\"\n",
    "import numpy as np\n",
    "x=np.array([0,1,2,3,4])\n",
    "y=np.array([0,2,4, 6 ,8])\n",
    "import pandas as pd\n",
    "df=pd.DataFrame({'x':x,\"y\":y})\n",
    "import datetime\n",
    "now=datetime.datetime(year = 2023,month=12 ,day=1)\n",
    "hour=datetime.timedelta(hours=1)\n",
    "import collections\n",
    "counts=collections.Counter([1,  2,2  ,2,3,3])\n",
    "import itertools\n",
    "cycle=itertools.cycle([1,2,3])\n",
    "import sys, os\n",
    "sys.sizeof(cycle)\n",
    "os.environ['USERPROFILE']\n",
    "num1 = 0xabb4ab8a\n",
    "import string"
   ]
  },
  {
   "cell_type": "code",
   "execution_count": 137,
   "metadata": {},
   "outputs": [
    {
     "name": "stdout",
     "output_type": "stream",
     "text": [
      "Overwriting script7.py\n"
     ]
    }
   ],
   "source": [
    "%%writefile script7.py\n",
    "var1= 'Hello'\n",
    "var2 =\"World\"\n",
    "import numpy as np\n",
    "x=np.array([0,1,2,3,4])\n",
    "y=np.array([0,2,4, 6 ,8])\n",
    "import pandas as pd\n",
    "df=pd.DataFrame({'x':x,\"y\":y})\n",
    "import datetime\n",
    "now=datetime.datetime(year = 2023,month=12 ,day=1)\n",
    "hour=datetime.timedelta(hours=1)\n",
    "import collections\n",
    "counts=collections.Counter([1,  2,2  ,2,3,3])\n",
    "import itertools\n",
    "cycle=itertools.cycle([1,2,3])\n",
    "import sys, os\n",
    "sys.sizeof(cycle)\n",
    "os.environ['USERPROFILE']\n",
    "num1 = 0xabb4ab8a\n",
    "import string"
   ]
  },
  {
   "cell_type": "code",
   "execution_count": 138,
   "metadata": {},
   "outputs": [
    {
     "name": "stdout",
     "output_type": "stream",
     "text": [
      "Writing script8.py\n"
     ]
    }
   ],
   "source": [
    "%%writefile script8.py\n",
    "var1= 'Hello'\n",
    "var2 =\"World\"\n",
    "import numpy as np\n",
    "x=np.array([0,1,2,3,4])\n",
    "y=np.array([0,2,4, 6 ,8])\n",
    "import pandas as pd\n",
    "df=pd.DataFrame({'x':x,\"y\":y})\n",
    "import datetime\n",
    "now=datetime.datetime(year = 2023,month=12 ,day=1)\n",
    "hour=datetime.timedelta(hours=1)\n",
    "import collections\n",
    "counts=collections.Counter([1,  2,2  ,2,3,3])\n",
    "import itertools\n",
    "cycle=itertools.cycle([1,2,3])\n",
    "import sys, os\n",
    "sys.sizeof(cycle)\n",
    "os.environ['USERPROFILE']\n",
    "num1 = 0xabb4ab8a\n",
    "import string"
   ]
  },
  {
   "cell_type": "markdown",
   "metadata": {},
   "source": [
    "There is a VSCode extension for black. This makes the black formatter available under the command Format Document with..."
   ]
  },
  {
   "cell_type": "markdown",
   "metadata": {},
   "source": [
    "<img src='images\\img_012.png' alt='img_012' width='350'/>"
   ]
  },
  {
   "cell_type": "markdown",
   "metadata": {},
   "source": [
    "<img src='images\\img_013.png' alt='img_013' width='450'/>"
   ]
  },
  {
   "cell_type": "markdown",
   "metadata": {},
   "source": [
    "Unfortunately black doesn't support import sorting and relies on use of isort to do this. Therefore autopep8, isort and then black should be sued:"
   ]
  },
  {
   "cell_type": "markdown",
   "metadata": {},
   "source": [
    "<img src='images\\img_014.png' alt='img_014' width='450'/>"
   ]
  },
  {
   "cell_type": "markdown",
   "metadata": {},
   "source": [
    "```black``` can be used on the script file and changes are made inplace by default:"
   ]
  },
  {
   "cell_type": "code",
   "execution_count": 139,
   "metadata": {},
   "outputs": [
    {
     "name": "stderr",
     "output_type": "stream",
     "text": [
      "reformatted script7.py\n",
      "\n",
      "All done! ✨ 🍰 ✨\n",
      "1 file reformatted.\n"
     ]
    }
   ],
   "source": [
    "if os.name == 'nt':\n",
    "    !powershell ~\\anaconda3\\Scripts\\black.exe script7.py\n",
    "else:\n",
    "    !black script7.py"
   ]
  },
  {
   "cell_type": "markdown",
   "metadata": {},
   "source": [
    "The result looks like the following:"
   ]
  },
  {
   "cell_type": "code",
   "execution_count": 140,
   "metadata": {},
   "outputs": [
    {
     "name": "stdout",
     "output_type": "stream",
     "text": [
      "var1 = \"Hello\"\n",
      "var2 = \"World\"\n",
      "import numpy as np\n",
      "\n",
      "x = np.array([0, 1, 2, 3, 4])\n",
      "y = np.array([0, 2, 4, 6, 8])\n",
      "import pandas as pd\n",
      "\n",
      "df = pd.DataFrame({\"x\": x, \"y\": y})\n",
      "import datetime\n",
      "\n",
      "now = datetime.datetime(year=2023, month=12, day=1)\n",
      "hour = datetime.timedelta(hours=1)\n",
      "import collections\n",
      "\n",
      "counts = collections.Counter([1, 2, 2, 2, 3, 3])\n",
      "import itertools\n",
      "\n",
      "cycle = itertools.cycle([1, 2, 3])\n",
      "import sys, os\n",
      "\n",
      "sys.sizeof(cycle)\n",
      "os.environ[\"USERPROFILE\"]\n",
      "num1 = 0xABB4AB8A\n",
      "import string\n"
     ]
    }
   ],
   "source": [
    "if os.name == 'nt':\n",
    "    !powershell type script7.py\n",
    "else:\n",
    "    !type script7.py"
   ]
  },
  {
   "cell_type": "markdown",
   "metadata": {},
   "source": [
    "```black``` does not sort the imports and therefore ```autopep8``` and ```isort``` should be used before using ```black```. Running these three formatters gives the following results:"
   ]
  },
  {
   "cell_type": "code",
   "execution_count": 141,
   "metadata": {},
   "outputs": [
    {
     "name": "stdout",
     "output_type": "stream",
     "text": [
      "Fixing C:\\Users\\Philip\\Documents\\GitHub\\python-notebooks\\autopep8_module\\script8.py\n"
     ]
    },
    {
     "name": "stderr",
     "output_type": "stream",
     "text": [
      "reformatted script8.py\n",
      "\n",
      "All done! ✨ 🍰 ✨\n",
      "1 file reformatted.\n"
     ]
    }
   ],
   "source": [
    "if os.name == 'nt':\n",
    "    !powershell ~\\anaconda3\\Scripts\\autopep8.exe -i script8.py\n",
    "    !powershell ~\\anaconda3\\Scripts\\isort.exe script8.py\n",
    "    !powershell ~\\anaconda3\\Scripts\\black.exe script8.py\n",
    "else:\n",
    "    !autopep8 -i script8.py\n",
    "    !isort script8.py\n",
    "    !black script8.py"
   ]
  },
  {
   "cell_type": "code",
   "execution_count": 142,
   "metadata": {},
   "outputs": [
    {
     "name": "stdout",
     "output_type": "stream",
     "text": [
      "import collections\n",
      "import datetime\n",
      "import itertools\n",
      "import os\n",
      "import string\n",
      "import sys\n",
      "\n",
      "import numpy as np\n",
      "import pandas as pd\n",
      "\n",
      "var1 = \"Hello\"\n",
      "var2 = \"World\"\n",
      "x = np.array([0, 1, 2, 3, 4])\n",
      "y = np.array([0, 2, 4, 6, 8])\n",
      "df = pd.DataFrame({\"x\": x, \"y\": y})\n",
      "now = datetime.datetime(year=2023, month=12, day=1)\n",
      "hour = datetime.timedelta(hours=1)\n",
      "counts = collections.Counter([1, 2, 2, 2, 3, 3])\n",
      "cycle = itertools.cycle([1, 2, 3])\n",
      "sys.sizeof(cycle)\n",
      "os.environ[\"USERPROFILE\"]\n",
      "num1 = 0xABB4AB8A\n"
     ]
    }
   ],
   "source": [
    "if os.name == 'nt':\n",
    "    !powershell type script8.py\n",
    "else:\n",
    "    !type script8.py"
   ]
  },
  {
   "cell_type": "markdown",
   "metadata": {},
   "source": [
    "Notice all the quotes are now consistent however the ```black``` opinionated preferences are inconsistent to the IPython interpreter and Python documentation... "
   ]
  },
  {
   "cell_type": "code",
   "execution_count": 143,
   "metadata": {},
   "outputs": [
    {
     "data": {
      "text/plain": [
       "'Hello World!'"
      ]
     },
     "execution_count": 143,
     "metadata": {},
     "output_type": "execute_result"
    }
   ],
   "source": [
    "'Hello World!'"
   ]
  },
  {
   "cell_type": "code",
   "execution_count": 144,
   "metadata": {},
   "outputs": [
    {
     "data": {
      "text/plain": [
       "'Hello World!'"
      ]
     },
     "execution_count": 144,
     "metadata": {},
     "output_type": "execute_result"
    }
   ],
   "source": [
    "\"Hello World!\""
   ]
  },
  {
   "cell_type": "code",
   "execution_count": 145,
   "metadata": {},
   "outputs": [
    {
     "data": {
      "text/plain": [
       "'0xabb4ab8a'"
      ]
     },
     "execution_count": 145,
     "metadata": {},
     "output_type": "execute_result"
    }
   ],
   "source": [
    "hex(2880744330)"
   ]
  },
  {
   "cell_type": "markdown",
   "metadata": {},
   "source": [
    "## Ruff Formatter"
   ]
  },
  {
   "cell_type": "markdown",
   "metadata": {},
   "source": [
    "The Rust implemented fast formatter (ruff) is a configurable formatter. It is in the early stages of development and unfortunately is not preinstalled in the Anaconda base Python environment yet, however as it is a small package with little dependencies it can be directly installed in the base Python environment using:"
   ]
  },
  {
   "cell_type": "raw",
   "metadata": {},
   "source": [
    "conda install -c conda-forge ruff"
   ]
  },
  {
   "cell_type": "markdown",
   "metadata": {},
   "source": [
    "Once this is done, return to the starting code:"
   ]
  },
  {
   "cell_type": "code",
   "execution_count": 164,
   "metadata": {},
   "outputs": [
    {
     "name": "stdout",
     "output_type": "stream",
     "text": [
      "Overwriting script9.py\n"
     ]
    }
   ],
   "source": [
    "%%writefile script9.py\n",
    "var1= 'Hello'\n",
    "var2 =\"World\"\n",
    "import numpy as np\n",
    "x=np.array([0,1,2,3,4])\n",
    "y=np.array([0,2,4, 6 ,8])\n",
    "import pandas as pd\n",
    "df=pd.DataFrame({'x':x,\"y\":y})\n",
    "import datetime\n",
    "now=datetime.datetime(year = 2023,month=12 ,day=1)\n",
    "hour=datetime.timedelta(hours=1)\n",
    "import collections\n",
    "counts=collections.Counter([1,  2,2  ,2,3,3])\n",
    "import itertools\n",
    "cycle=itertools.cycle([1,2,3])\n",
    "import sys, os\n",
    "sys.sizeof(cycle)\n",
    "os.environ['USERPROFILE']\n",
    "num1 = 0xabb4ab8a\n",
    "import string"
   ]
  },
  {
   "cell_type": "code",
   "execution_count": 155,
   "metadata": {},
   "outputs": [
    {
     "name": "stdout",
     "output_type": "stream",
     "text": [
      "Writing script10.py\n"
     ]
    }
   ],
   "source": [
    "%%writefile script10.py\n",
    "var1= 'Hello'\n",
    "var2 =\"World\"\n",
    "import numpy as np\n",
    "x=np.array([0,1,2,3,4])\n",
    "y=np.array([0,2,4, 6 ,8])\n",
    "import pandas as pd\n",
    "df=pd.DataFrame({'x':x,\"y\":y})\n",
    "import datetime\n",
    "now=datetime.datetime(year = 2023,month=12 ,day=1)\n",
    "hour=datetime.timedelta(hours=1)\n",
    "import collections\n",
    "counts=collections.Counter([1,  2,2  ,2,3,3])\n",
    "import itertools\n",
    "cycle=itertools.cycle([1,2,3])\n",
    "import sys, os\n",
    "sys.sizeof(cycle)\n",
    "os.environ['USERPROFILE']\n",
    "num1 = 0xabb4ab8a\n",
    "import string"
   ]
  },
  {
   "cell_type": "markdown",
   "metadata": {},
   "source": [
    "There is a third-party extension for RUff in VSCode:"
   ]
  },
  {
   "cell_type": "markdown",
   "metadata": {},
   "source": [
    "<img src='images\\img_015.png' alt='img_015' width='350'/>"
   ]
  },
  {
   "cell_type": "markdown",
   "metadata": {},
   "source": [
    "This displays warnings for problems:"
   ]
  },
  {
   "cell_type": "markdown",
   "metadata": {},
   "source": [
    "<img src='images\\img_016.png' alt='img_016' width='450'/>"
   ]
  },
  {
   "cell_type": "markdown",
   "metadata": {},
   "source": [
    "The commands Ruff Format Imports and Ruff Format Document are available. Ruff: Format Imports seems to be reliant on isort and does not work well unless autopep8 has previously been run. Ruff: Format Document can be used to apply opinionated formatting:"
   ]
  },
  {
   "cell_type": "markdown",
   "metadata": {},
   "source": [
    "<img src='images\\img_017.png' alt='img_017' width='450'/>"
   ]
  },
  {
   "cell_type": "markdown",
   "metadata": {},
   "source": [
    "Ruff can be used with the command to check the file, these display the same warnings the VSCode extension displays when a Python script file is opened:"
   ]
  },
  {
   "cell_type": "code",
   "execution_count": 156,
   "metadata": {},
   "outputs": [
    {
     "name": "stdout",
     "output_type": "stream",
     "text": [
      "\u001b[1mscript10.py\u001b[0m\u001b[36m:\u001b[0m3\u001b[36m:\u001b[0m1\u001b[36m:\u001b[0m \u001b[1;31mE402\u001b[0m Module level import not at top of file\n",
      "\u001b[1mscript10.py\u001b[0m\u001b[36m:\u001b[0m6\u001b[36m:\u001b[0m1\u001b[36m:\u001b[0m \u001b[1;31mE402\u001b[0m Module level import not at top of file\n",
      "\u001b[1mscript10.py\u001b[0m\u001b[36m:\u001b[0m8\u001b[36m:\u001b[0m1\u001b[36m:\u001b[0m \u001b[1;31mE402\u001b[0m Module level import not at top of file\n",
      "\u001b[1mscript10.py\u001b[0m\u001b[36m:\u001b[0m11\u001b[36m:\u001b[0m1\u001b[36m:\u001b[0m \u001b[1;31mE402\u001b[0m Module level import not at top of file\n",
      "\u001b[1mscript10.py\u001b[0m\u001b[36m:\u001b[0m13\u001b[36m:\u001b[0m1\u001b[36m:\u001b[0m \u001b[1;31mE402\u001b[0m Module level import not at top of file\n",
      "\u001b[1mscript10.py\u001b[0m\u001b[36m:\u001b[0m15\u001b[36m:\u001b[0m1\u001b[36m:\u001b[0m \u001b[1;31mE401\u001b[0m Multiple imports on one line\n",
      "\u001b[1mscript10.py\u001b[0m\u001b[36m:\u001b[0m15\u001b[36m:\u001b[0m1\u001b[36m:\u001b[0m \u001b[1;31mE402\u001b[0m Module level import not at top of file\n",
      "\u001b[1mscript10.py\u001b[0m\u001b[36m:\u001b[0m19\u001b[36m:\u001b[0m1\u001b[36m:\u001b[0m \u001b[1;31mE402\u001b[0m Module level import not at top of file\n",
      "\u001b[1mscript10.py\u001b[0m\u001b[36m:\u001b[0m19\u001b[36m:\u001b[0m8\u001b[36m:\u001b[0m \u001b[1;31mF401\u001b[0m [\u001b[36m*\u001b[0m] `string` imported but unused\n",
      "Found 9 errors.\n",
      "[\u001b[36m*\u001b[0m] 1 fixable with the `--fix` option.\n"
     ]
    }
   ],
   "source": [
    "if os.name == 'nt':\n",
    "    !powershell ~\\anaconda3\\Scripts\\ruff.exe check script10.py\n",
    "else:\n",
    "    !ruff check script10.py"
   ]
  },
  {
   "cell_type": "markdown",
   "metadata": {},
   "source": [
    "Ruff seems to have limited support for fixing these errors and only seems to be able to fix 1 error in this case:"
   ]
  },
  {
   "cell_type": "code",
   "execution_count": 157,
   "metadata": {},
   "outputs": [
    {
     "name": "stdout",
     "output_type": "stream",
     "text": [
      "\u001b[1mscript10.py\u001b[0m\u001b[36m:\u001b[0m3\u001b[36m:\u001b[0m1\u001b[36m:\u001b[0m \u001b[1;31mE402\u001b[0m Module level import not at top of file\n",
      "\u001b[1mscript10.py\u001b[0m\u001b[36m:\u001b[0m6\u001b[36m:\u001b[0m1\u001b[36m:\u001b[0m \u001b[1;31mE402\u001b[0m Module level import not at top of file\n",
      "\u001b[1mscript10.py\u001b[0m\u001b[36m:\u001b[0m8\u001b[36m:\u001b[0m1\u001b[36m:\u001b[0m \u001b[1;31mE402\u001b[0m Module level import not at top of file\n",
      "\u001b[1mscript10.py\u001b[0m\u001b[36m:\u001b[0m11\u001b[36m:\u001b[0m1\u001b[36m:\u001b[0m \u001b[1;31mE402\u001b[0m Module level import not at top of file\n",
      "\u001b[1mscript10.py\u001b[0m\u001b[36m:\u001b[0m13\u001b[36m:\u001b[0m1\u001b[36m:\u001b[0m \u001b[1;31mE402\u001b[0m Module level import not at top of file\n",
      "\u001b[1mscript10.py\u001b[0m\u001b[36m:\u001b[0m15\u001b[36m:\u001b[0m1\u001b[36m:\u001b[0m \u001b[1;31mE401\u001b[0m Multiple imports on one line\n",
      "\u001b[1mscript10.py\u001b[0m\u001b[36m:\u001b[0m15\u001b[36m:\u001b[0m1\u001b[36m:\u001b[0m \u001b[1;31mE402\u001b[0m Module level import not at top of file\n",
      "Found 8 errors (1 fixed, 7 remaining).\n"
     ]
    }
   ],
   "source": [
    "if os.name == 'nt':\n",
    "    !powershell ~\\anaconda3\\Scripts\\ruff.exe check --fix script10.py\n",
    "else:\n",
    "    !ruff check --fix script10.py"
   ]
  },
  {
   "cell_type": "markdown",
   "metadata": {},
   "source": [
    "The unused import statement is removed:"
   ]
  },
  {
   "cell_type": "code",
   "execution_count": 158,
   "metadata": {},
   "outputs": [
    {
     "name": "stdout",
     "output_type": "stream",
     "text": [
      "var1= 'Hello'\n",
      "var2 =\"World\"\n",
      "import numpy as np\n",
      "x=np.array([0,1,2,3,4])\n",
      "y=np.array([0,2,4, 6 ,8])\n",
      "import pandas as pd\n",
      "df=pd.DataFrame({'x':x,\"y\":y})\n",
      "import datetime\n",
      "now=datetime.datetime(year = 2023,month=12 ,day=1)\n",
      "hour=datetime.timedelta(hours=1)\n",
      "import collections\n",
      "counts=collections.Counter([1,  2,2  ,2,3,3])\n",
      "import itertools\n",
      "cycle=itertools.cycle([1,2,3])\n",
      "import sys, os\n",
      "sys.sizeof(cycle)\n",
      "os.environ['USERPROFILE']\n",
      "num1 = 0xabb4ab8a\n"
     ]
    }
   ],
   "source": [
    "if os.name == 'nt':\n",
    "    !powershell type script10.py\n",
    "else:\n",
    "    !type script10.py"
   ]
  },
  {
   "cell_type": "markdown",
   "metadata": {},
   "source": [
    "The other errors are sorted by using ```autopep8``` and ```isort```:"
   ]
  },
  {
   "cell_type": "code",
   "execution_count": 159,
   "metadata": {},
   "outputs": [
    {
     "name": "stdout",
     "output_type": "stream",
     "text": [
      "Fixing C:\\Users\\Philip\\Documents\\GitHub\\python-notebooks\\autopep8_module\\script10.py\n"
     ]
    }
   ],
   "source": [
    "if os.name == 'nt':\n",
    "    !powershell ~\\anaconda3\\Scripts\\autopep8.exe -i script10.py\n",
    "    !powershell ~\\anaconda3\\Scripts\\isort.exe script10.py\n",
    "else:\n",
    "    !autopep8 -i script9.py\n",
    "    !isort script9.py"
   ]
  },
  {
   "cell_type": "code",
   "execution_count": 160,
   "metadata": {},
   "outputs": [
    {
     "name": "stdout",
     "output_type": "stream",
     "text": [
      "import collections\n",
      "import datetime\n",
      "import itertools\n",
      "import os\n",
      "import sys\n",
      "\n",
      "import numpy as np\n",
      "import pandas as pd\n",
      "\n",
      "var1 = 'Hello'\n",
      "var2 = \"World\"\n",
      "x = np.array([0, 1, 2, 3, 4])\n",
      "y = np.array([0, 2, 4, 6, 8])\n",
      "df = pd.DataFrame({'x': x, \"y\": y})\n",
      "now = datetime.datetime(year=2023, month=12, day=1)\n",
      "hour = datetime.timedelta(hours=1)\n",
      "counts = collections.Counter([1,  2, 2, 2, 3, 3])\n",
      "cycle = itertools.cycle([1, 2, 3])\n",
      "sys.sizeof(cycle)\n",
      "os.environ['USERPROFILE']\n",
      "num1 = 0xabb4ab8a\n"
     ]
    }
   ],
   "source": [
    "if os.name == 'nt':\n",
    "    !powershell type script10.py\n",
    "else:\n",
    "    !type script10.py"
   ]
  },
  {
   "cell_type": "markdown",
   "metadata": {},
   "source": [
    "Now no errors are found. This means that ruff can be used to format the file:"
   ]
  },
  {
   "cell_type": "code",
   "execution_count": 161,
   "metadata": {},
   "outputs": [
    {
     "name": "stdout",
     "output_type": "stream",
     "text": [
      "1 file reformatted\n"
     ]
    }
   ],
   "source": [
    "if os.name == 'nt':\n",
    "    !powershell ~\\anaconda3\\Scripts\\ruff.exe format script10.py\n",
    "else:\n",
    "    !ruff format script10.py"
   ]
  },
  {
   "cell_type": "markdown",
   "metadata": {},
   "source": [
    "By default ruff, like black unfortunately preferences double quotations:"
   ]
  },
  {
   "cell_type": "code",
   "execution_count": 162,
   "metadata": {},
   "outputs": [
    {
     "name": "stdout",
     "output_type": "stream",
     "text": [
      "import collections\n",
      "import datetime\n",
      "import itertools\n",
      "import os\n",
      "import sys\n",
      "\n",
      "import numpy as np\n",
      "import pandas as pd\n",
      "\n",
      "var1 = 'Hello'\n",
      "var2 = 'World'\n",
      "x = np.array([0, 1, 2, 3, 4])\n",
      "y = np.array([0, 2, 4, 6, 8])\n",
      "df = pd.DataFrame({'x': x, 'y': y})\n",
      "now = datetime.datetime(year=2023, month=12, day=1)\n",
      "hour = datetime.timedelta(hours=1)\n",
      "counts = collections.Counter([1, 2, 2, 2, 3, 3])\n",
      "cycle = itertools.cycle([1, 2, 3])\n",
      "sys.sizeof(cycle)\n",
      "os.environ['USERPROFILE']\n",
      "num1 = 0xABB4AB8A\n"
     ]
    }
   ],
   "source": [
    "if os.name == 'nt':\n",
    "    !powershell type script10.py\n",
    "else:\n",
    "    !type script10.py"
   ]
  },
  {
   "cell_type": "markdown",
   "metadata": {},
   "source": [
    "However the quote style is easily configurable using a ```toml``` file:"
   ]
  },
  {
   "cell_type": "code",
   "execution_count": 153,
   "metadata": {},
   "outputs": [
    {
     "name": "stdout",
     "output_type": "stream",
     "text": [
      "Writing ruff.toml\n"
     ]
    }
   ],
   "source": [
    "%%writefile ruff.toml\n",
    "[format]\n",
    "quote-style = 'single'\n",
    "#case = 'lower'"
   ]
  },
  {
   "cell_type": "markdown",
   "metadata": {},
   "source": [
    "Now when the file is formatted single quotations are preferred:"
   ]
  },
  {
   "cell_type": "code",
   "execution_count": 124,
   "metadata": {},
   "outputs": [
    {
     "name": "stdout",
     "output_type": "stream",
     "text": [
      "1 file reformatted\n"
     ]
    }
   ],
   "source": [
    "if os.name == 'nt':\n",
    "    !powershell ~\\anaconda3\\Scripts\\ruff.exe format script10.py\n",
    "else:\n",
    "    !ruff format script10.py"
   ]
  },
  {
   "cell_type": "code",
   "execution_count": 163,
   "metadata": {},
   "outputs": [
    {
     "name": "stdout",
     "output_type": "stream",
     "text": [
      "import collections\n",
      "import datetime\n",
      "import itertools\n",
      "import os\n",
      "import sys\n",
      "\n",
      "import numpy as np\n",
      "import pandas as pd\n",
      "\n",
      "var1 = 'Hello'\n",
      "var2 = 'World'\n",
      "x = np.array([0, 1, 2, 3, 4])\n",
      "y = np.array([0, 2, 4, 6, 8])\n",
      "df = pd.DataFrame({'x': x, 'y': y})\n",
      "now = datetime.datetime(year=2023, month=12, day=1)\n",
      "hour = datetime.timedelta(hours=1)\n",
      "counts = collections.Counter([1, 2, 2, 2, 3, 3])\n",
      "cycle = itertools.cycle([1, 2, 3])\n",
      "sys.sizeof(cycle)\n",
      "os.environ['USERPROFILE']\n",
      "num1 = 0xABB4AB8A\n"
     ]
    }
   ],
   "source": [
    "if os.name == 'nt':\n",
    "    !powershell type script10.py\n",
    "else:\n",
    "    !type script10.py"
   ]
  },
  {
   "cell_type": "markdown",
   "metadata": {},
   "source": [
    "With the current version there seems to be no option to set hexadecimal values to lower case."
   ]
  }
 ],
 "metadata": {
  "kernelspec": {
   "display_name": "Python 3",
   "language": "python",
   "name": "python3"
  },
  "language_info": {
   "codemirror_mode": {
    "name": "ipython",
    "version": 3
   },
   "file_extension": ".py",
   "mimetype": "text/x-python",
   "name": "python",
   "nbconvert_exporter": "python",
   "pygments_lexer": "ipython3",
   "version": "3.11.6"
  }
 },
 "nbformat": 4,
 "nbformat_minor": 2
}
