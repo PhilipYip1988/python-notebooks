{
 "cells": [
  {
   "attachments": {},
   "cell_type": "markdown",
   "metadata": {},
   "source": [
    "# Datetime and Zoneinfo Modules"
   ]
  },
  {
   "attachments": {},
   "cell_type": "markdown",
   "metadata": {},
   "source": [
    "The datetime module contains classes for manipulating dates and times and is complemented by the zoneinfo module which has improvements on timezone implementations. "
   ]
  },
  {
   "cell_type": "markdown",
   "metadata": {},
   "source": [
    "## Categorize_Identifiers Module"
   ]
  },
  {
   "cell_type": "markdown",
   "metadata": {},
   "source": [
    "This notebook will use the following functions ```dir2```, ```variables``` and ```view``` in the custom module ```categorize_identifiers``` which is found in the same directory as this notebook file. ```dir2``` is a variant of ```dir``` that groups identifiers into a ```dict``` under categories and ```variables``` is an IPython based a variable inspector. ```view``` is used to view a ```Collection``` in more detail:"
   ]
  },
  {
   "cell_type": "code",
   "execution_count": 5,
   "metadata": {},
   "outputs": [],
   "source": [
    "from categorize_identifiers import dir2, variables, view"
   ]
  },
  {
   "cell_type": "markdown",
   "metadata": {},
   "source": [
    "## Imports"
   ]
  },
  {
   "attachments": {},
   "cell_type": "markdown",
   "metadata": {},
   "source": [
    "The ```datetime``` module can be imported using:"
   ]
  },
  {
   "cell_type": "code",
   "execution_count": 39,
   "metadata": {},
   "outputs": [],
   "source": [
    "import datetime"
   ]
  },
  {
   "cell_type": "markdown",
   "metadata": {},
   "source": [
    "Its identifiers can be viewed by using:"
   ]
  },
  {
   "cell_type": "code",
   "execution_count": 40,
   "metadata": {},
   "outputs": [
    {
     "name": "stdout",
     "output_type": "stream",
     "text": [
      "{'attribute': ['datetime_CAPI'],\n",
      " 'constant': ['MAXYEAR', 'MINYEAR', 'UTC'],\n",
      " 'lower_class': ['date', 'datetime', 'time', 'timedelta', 'timezone', 'tzinfo'],\n",
      " 'datamodel_attribute': ['__all__',\n",
      "                         '__builtins__',\n",
      "                         '__cached__',\n",
      "                         '__doc__',\n",
      "                         '__file__',\n",
      "                         '__loader__',\n",
      "                         '__name__',\n",
      "                         '__package__',\n",
      "                         '__spec__']}\n"
     ]
    }
   ],
   "source": [
    "dir2(datetime)"
   ]
  },
  {
   "cell_type": "markdown",
   "metadata": {},
   "source": [
    "The four main classes of interest are ```date```, ```time```, ```timedelta``` and ```datetime```. These classes are in lower case as they were originally designed to be incorporated into ```builtins``` before being compartmentalised into their own ```datetime``` module. \n",
    "\n",
    "Note do not confuse the module name ```datetime``` with the class name ```datetime```."
   ]
  },
  {
   "cell_type": "markdown",
   "metadata": {},
   "source": [
    "The other two classes ```timezone``` and ```tzinfo``` are legacy classes for handling timezones. These remain in ```datetime``` for backwards compatibility however it is recommended to use the newer implementation which was developed separately in the ```zoneinfo``` module:"
   ]
  },
  {
   "cell_type": "code",
   "execution_count": 43,
   "metadata": {},
   "outputs": [],
   "source": [
    "import zoneinfo"
   ]
  },
  {
   "cell_type": "markdown",
   "metadata": {},
   "source": [
    "The ```zoneinfo``` module contains the ```ZoneInfo``` class which is used to create timezone instances:"
   ]
  },
  {
   "cell_type": "code",
   "execution_count": 42,
   "metadata": {},
   "outputs": [
    {
     "name": "stdout",
     "output_type": "stream",
     "text": [
      "{'constant': ['TZPATH'],\n",
      " 'method': ['available_timezones', 'reset_tzpath'],\n",
      " 'upper_class': ['InvalidTZPathWarning', 'ZoneInfo', 'ZoneInfoNotFoundError'],\n",
      " 'datamodel_attribute': ['__all__',\n",
      "                         '__builtins__',\n",
      "                         '__cached__',\n",
      "                         '__doc__',\n",
      "                         '__file__',\n",
      "                         '__loader__',\n",
      "                         '__name__',\n",
      "                         '__package__',\n",
      "                         '__path__',\n",
      "                         '__spec__'],\n",
      " 'datamodel_method': ['__dir__', '__getattr__'],\n",
      " 'internal_attribute': ['_common', '_tzpath']}\n"
     ]
    }
   ],
   "source": [
    "dir2(zoneinfo)"
   ]
  },
  {
   "cell_type": "markdown",
   "metadata": {},
   "source": [
    "One module that is commonly used with ```datetime``` is ```time```. In order to avoid naming conflicts, the following code is not normally used:\n",
    "\n",
    "```python\n",
    "from datetime import time\n",
    "from time import time\n",
    "```\n"
   ]
  },
  {
   "cell_type": "markdown",
   "metadata": {},
   "source": [
    "Instead both modules are imported:"
   ]
  },
  {
   "cell_type": "code",
   "execution_count": 44,
   "metadata": {},
   "outputs": [],
   "source": [
    "import time"
   ]
  },
  {
   "cell_type": "markdown",
   "metadata": {},
   "source": [
    "And the identifiers can clearly be obtained from each module:"
   ]
  },
  {
   "cell_type": "code",
   "execution_count": 48,
   "metadata": {},
   "outputs": [
    {
     "data": {
      "text/plain": [
       "<module 'datetime' from 'C:\\\\Users\\\\pyip\\\\miniconda3\\\\envs\\\\vscode-env\\\\Lib\\\\datetime.py'>"
      ]
     },
     "execution_count": 48,
     "metadata": {},
     "output_type": "execute_result"
    }
   ],
   "source": [
    "datetime"
   ]
  },
  {
   "cell_type": "code",
   "execution_count": 51,
   "metadata": {},
   "outputs": [
    {
     "data": {
      "text/plain": [
       "<module 'time' (built-in)>"
      ]
     },
     "execution_count": 51,
     "metadata": {},
     "output_type": "execute_result"
    }
   ],
   "source": [
    "time"
   ]
  },
  {
   "cell_type": "code",
   "execution_count": 49,
   "metadata": {},
   "outputs": [
    {
     "data": {
      "text/plain": [
       "datetime.time"
      ]
     },
     "execution_count": 49,
     "metadata": {},
     "output_type": "execute_result"
    }
   ],
   "source": [
    "datetime.time"
   ]
  },
  {
   "cell_type": "code",
   "execution_count": 50,
   "metadata": {},
   "outputs": [
    {
     "data": {
      "text/plain": [
       "<function time.time>"
      ]
     },
     "execution_count": 50,
     "metadata": {},
     "output_type": "execute_result"
    }
   ],
   "source": [
    "time.time"
   ]
  },
  {
   "cell_type": "code",
   "execution_count": 52,
   "metadata": {},
   "outputs": [
    {
     "data": {
      "text/plain": [
       "datetime.datetime"
      ]
     },
     "execution_count": 52,
     "metadata": {},
     "output_type": "execute_result"
    }
   ],
   "source": [
    "datetime.datetime"
   ]
  },
  {
   "attachments": {},
   "cell_type": "markdown",
   "metadata": {},
   "source": [
    "Because there is only one class being imported from ```zoneinfo``` and no naming conflicts, the ```ZoneInfo``` class is normally imported using:"
   ]
  },
  {
   "cell_type": "code",
   "execution_count": 53,
   "metadata": {},
   "outputs": [],
   "source": [
    "from zoneinfo import ZoneInfo"
   ]
  },
  {
   "attachments": {},
   "cell_type": "markdown",
   "metadata": {},
   "source": [
    "## Date"
   ]
  },
  {
   "cell_type": "markdown",
   "metadata": {},
   "source": [
    "The identifiers for the ```datetime.date``` class can be examined. It has the instance attributes ```year```, ```month``` and ```day``` which are supplied during instantiation and the class attributes ```min```, ```max``` and ```resolution``` which give details about the minimum and maximum possible dates as well as the time resolution of a day. The ```datetime.date``` class also has a number of other methods that act as alternative constructors for another date format or export the date to such a format respectively:"
   ]
  },
  {
   "cell_type": "code",
   "execution_count": 54,
   "metadata": {},
   "outputs": [
    {
     "name": "stdout",
     "output_type": "stream",
     "text": [
      "{'attribute': ['day', 'max', 'min', 'month', 'resolution', 'year'],\n",
      " 'method': ['ctime',\n",
      "            'fromisocalendar',\n",
      "            'fromisoformat',\n",
      "            'fromordinal',\n",
      "            'fromtimestamp',\n",
      "            'isocalendar',\n",
      "            'isoformat',\n",
      "            'isoweekday',\n",
      "            'replace',\n",
      "            'strftime',\n",
      "            'timetuple',\n",
      "            'today',\n",
      "            'toordinal',\n",
      "            'weekday'],\n",
      " 'datamodel_method': ['__add__', '__radd__', '__rsub__', '__sub__']}\n"
     ]
    }
   ],
   "source": [
    "dir2(datetime.date, object, unique_only=True)"
   ]
  },
  {
   "attachments": {},
   "cell_type": "markdown",
   "metadata": {},
   "source": [
    "The initialization signature of the ```datetime.date``` class can be viewed by inputting:"
   ]
  },
  {
   "cell_type": "code",
   "execution_count": 55,
   "metadata": {},
   "outputs": [
    {
     "data": {
      "text/plain": [
       "\u001b[1;31mInit signature:\u001b[0m \u001b[0mdatetime\u001b[0m\u001b[1;33m.\u001b[0m\u001b[0mdate\u001b[0m\u001b[1;33m(\u001b[0m\u001b[0mself\u001b[0m\u001b[1;33m,\u001b[0m \u001b[1;33m/\u001b[0m\u001b[1;33m,\u001b[0m \u001b[1;33m*\u001b[0m\u001b[0margs\u001b[0m\u001b[1;33m,\u001b[0m \u001b[1;33m**\u001b[0m\u001b[0mkwargs\u001b[0m\u001b[1;33m)\u001b[0m\u001b[1;33m\u001b[0m\u001b[1;33m\u001b[0m\u001b[0m\n",
       "\u001b[1;31mDocstring:\u001b[0m      date(year, month, day) --> date object\n",
       "\u001b[1;31mFile:\u001b[0m           c:\\users\\pyip\\miniconda3\\envs\\vscode-env\\lib\\datetime.py\n",
       "\u001b[1;31mType:\u001b[0m           type\n",
       "\u001b[1;31mSubclasses:\u001b[0m     datetime"
      ]
     },
     "metadata": {},
     "output_type": "display_data"
    }
   ],
   "source": [
    "datetime.date?"
   ]
  },
  {
   "attachments": {},
   "cell_type": "markdown",
   "metadata": {},
   "source": [
    "It requires positional parameters, the ```year```, the ```month``` and the ```day``` which are collectively needed to specify a calendar date:"
   ]
  },
  {
   "cell_type": "code",
   "execution_count": 126,
   "metadata": {},
   "outputs": [],
   "source": [
    "day1 = datetime.date(2023, 9, 29)"
   ]
  },
  {
   "attachments": {},
   "cell_type": "markdown",
   "metadata": {},
   "source": [
    "Note the time is shown using descending format ```year```, ```month``` and then ```day``` to prevent confusion between UK and US formats:"
   ]
  },
  {
   "cell_type": "code",
   "execution_count": 10,
   "metadata": {},
   "outputs": [
    {
     "data": {
      "text/html": [
       "<div>\n",
       "<style scoped>\n",
       "    .dataframe tbody tr th:only-of-type {\n",
       "        vertical-align: middle;\n",
       "    }\n",
       "\n",
       "    .dataframe tbody tr th {\n",
       "        vertical-align: top;\n",
       "    }\n",
       "\n",
       "    .dataframe thead th {\n",
       "        text-align: right;\n",
       "    }\n",
       "</style>\n",
       "<table border=\"1\" class=\"dataframe\">\n",
       "  <thead>\n",
       "    <tr style=\"text-align: right;\">\n",
       "      <th></th>\n",
       "      <th>Type</th>\n",
       "      <th>Size/Shape</th>\n",
       "      <th>Value</th>\n",
       "    </tr>\n",
       "    <tr>\n",
       "      <th>Instance Name</th>\n",
       "      <th></th>\n",
       "      <th></th>\n",
       "      <th></th>\n",
       "    </tr>\n",
       "  </thead>\n",
       "  <tbody>\n",
       "    <tr>\n",
       "      <th>py3rd</th>\n",
       "      <td>date</td>\n",
       "      <td></td>\n",
       "      <td>2008-12-03</td>\n",
       "    </tr>\n",
       "    <tr>\n",
       "      <th>day1</th>\n",
       "      <td>date</td>\n",
       "      <td></td>\n",
       "      <td>2008-12-03</td>\n",
       "    </tr>\n",
       "  </tbody>\n",
       "</table>\n",
       "</div>"
      ],
      "text/plain": [
       "               Type Size/Shape       Value\n",
       "Instance Name                             \n",
       "py3rd          date             2008-12-03\n",
       "day1           date             2008-12-03"
      ]
     },
     "execution_count": 10,
     "metadata": {},
     "output_type": "execute_result"
    }
   ],
   "source": [
    "variables()"
   ]
  },
  {
   "cell_type": "markdown",
   "metadata": {},
   "source": [
    "The formal and informal ```str``` representation differ for a ```datetime.date``` instance with the formal representation matching the way to instantiate a new ```datetime.date``` instance and the informal representation matching the iso format:"
   ]
  },
  {
   "cell_type": "code",
   "execution_count": 83,
   "metadata": {},
   "outputs": [
    {
     "data": {
      "text/plain": [
       "'datetime.date(2008, 12, 3)'"
      ]
     },
     "execution_count": 83,
     "metadata": {},
     "output_type": "execute_result"
    }
   ],
   "source": [
    "repr(day1)"
   ]
  },
  {
   "cell_type": "code",
   "execution_count": 84,
   "metadata": {},
   "outputs": [
    {
     "data": {
      "text/plain": [
       "'2008-12-03'"
      ]
     },
     "execution_count": 84,
     "metadata": {},
     "output_type": "execute_result"
    }
   ],
   "source": [
    "str(day1)"
   ]
  },
  {
   "cell_type": "markdown",
   "metadata": {},
   "source": [
    "The instance attributes can be read off:"
   ]
  },
  {
   "cell_type": "code",
   "execution_count": 12,
   "metadata": {},
   "outputs": [
    {
     "data": {
      "text/plain": [
       "2008"
      ]
     },
     "execution_count": 12,
     "metadata": {},
     "output_type": "execute_result"
    }
   ],
   "source": [
    "day1.year"
   ]
  },
  {
   "cell_type": "code",
   "execution_count": 13,
   "metadata": {},
   "outputs": [
    {
     "data": {
      "text/plain": [
       "12"
      ]
     },
     "execution_count": 13,
     "metadata": {},
     "output_type": "execute_result"
    }
   ],
   "source": [
    "day1.month"
   ]
  },
  {
   "cell_type": "code",
   "execution_count": 15,
   "metadata": {},
   "outputs": [
    {
     "data": {
      "text/plain": [
       "3"
      ]
     },
     "execution_count": 15,
     "metadata": {},
     "output_type": "execute_result"
    }
   ],
   "source": [
    "day1.day"
   ]
  },
  {
   "attachments": {},
   "cell_type": "markdown",
   "metadata": {},
   "source": [
    "The class attributes ```min``` and ```max``` give the minimum and maximum possible date instance:"
   ]
  },
  {
   "cell_type": "code",
   "execution_count": 57,
   "metadata": {},
   "outputs": [
    {
     "data": {
      "text/plain": [
       "datetime.date(1, 1, 1)"
      ]
     },
     "execution_count": 57,
     "metadata": {},
     "output_type": "execute_result"
    }
   ],
   "source": [
    "day1.min"
   ]
  },
  {
   "cell_type": "code",
   "execution_count": 58,
   "metadata": {},
   "outputs": [
    {
     "data": {
      "text/plain": [
       "datetime.date(9999, 12, 31)"
      ]
     },
     "execution_count": 58,
     "metadata": {},
     "output_type": "execute_result"
    }
   ],
   "source": [
    "day1.max"
   ]
  },
  {
   "attachments": {},
   "cell_type": "markdown",
   "metadata": {},
   "source": [
    "The class attribute ```resolution```, gives the time resolution of the date instance, as a ```timedelta``` instance:"
   ]
  },
  {
   "cell_type": "code",
   "execution_count": 59,
   "metadata": {},
   "outputs": [
    {
     "data": {
      "text/plain": [
       "datetime.timedelta(days=1)"
      ]
     },
     "execution_count": 59,
     "metadata": {},
     "output_type": "execute_result"
    }
   ],
   "source": [
    "day1.resolution"
   ]
  },
  {
   "attachments": {},
   "cell_type": "markdown",
   "metadata": {},
   "source": [
    "Note this is in days which corresponds to the lowest unit possible for the ```date``` instance."
   ]
  },
  {
   "attachments": {},
   "cell_type": "markdown",
   "metadata": {},
   "source": [
    "A ```datetime.date``` instance can be constructed in multiple ways and therefore has a number of alternative constructors. Most of these begin with from or to methods. However there is also ```today``` which will return the date today:"
   ]
  },
  {
   "cell_type": "code",
   "execution_count": 60,
   "metadata": {},
   "outputs": [],
   "source": [
    "day2 = datetime.date.today()"
   ]
  },
  {
   "cell_type": "code",
   "execution_count": 20,
   "metadata": {},
   "outputs": [
    {
     "data": {
      "text/html": [
       "<div>\n",
       "<style scoped>\n",
       "    .dataframe tbody tr th:only-of-type {\n",
       "        vertical-align: middle;\n",
       "    }\n",
       "\n",
       "    .dataframe tbody tr th {\n",
       "        vertical-align: top;\n",
       "    }\n",
       "\n",
       "    .dataframe thead th {\n",
       "        text-align: right;\n",
       "    }\n",
       "</style>\n",
       "<table border=\"1\" class=\"dataframe\">\n",
       "  <thead>\n",
       "    <tr style=\"text-align: right;\">\n",
       "      <th></th>\n",
       "      <th>Type</th>\n",
       "      <th>Size/Shape</th>\n",
       "      <th>Value</th>\n",
       "    </tr>\n",
       "    <tr>\n",
       "      <th>Instance Name</th>\n",
       "      <th></th>\n",
       "      <th></th>\n",
       "      <th></th>\n",
       "    </tr>\n",
       "  </thead>\n",
       "  <tbody>\n",
       "    <tr>\n",
       "      <th>py3rd</th>\n",
       "      <td>date</td>\n",
       "      <td></td>\n",
       "      <td>2008-12-03</td>\n",
       "    </tr>\n",
       "    <tr>\n",
       "      <th>day1</th>\n",
       "      <td>date</td>\n",
       "      <td></td>\n",
       "      <td>2008-12-03</td>\n",
       "    </tr>\n",
       "    <tr>\n",
       "      <th>today</th>\n",
       "      <td>date</td>\n",
       "      <td></td>\n",
       "      <td>2024-02-09</td>\n",
       "    </tr>\n",
       "  </tbody>\n",
       "</table>\n",
       "</div>"
      ],
      "text/plain": [
       "               Type Size/Shape       Value\n",
       "Instance Name                             \n",
       "py3rd          date             2008-12-03\n",
       "day1           date             2008-12-03\n",
       "today          date             2024-02-09"
      ]
     },
     "execution_count": 20,
     "metadata": {},
     "output_type": "execute_result"
    }
   ],
   "source": [
    "variables()"
   ]
  },
  {
   "attachments": {},
   "cell_type": "markdown",
   "metadata": {},
   "source": [
    "The informal string representation of a ```date``` instance is in the isoformat:"
   ]
  },
  {
   "cell_type": "code",
   "execution_count": 22,
   "metadata": {},
   "outputs": [
    {
     "data": {
      "text/plain": [
       "'2008-12-03'"
      ]
     },
     "execution_count": 22,
     "metadata": {},
     "output_type": "execute_result"
    }
   ],
   "source": [
    "str(day1)"
   ]
  },
  {
   "attachments": {},
   "cell_type": "markdown",
   "metadata": {},
   "source": [
    "The alternative constructor (class method) ```fromisoformat``` can be used to construct a time instance from an isoformat string which is of the form ```'yyyy-mm-dd'```:"
   ]
  },
  {
   "cell_type": "code",
   "execution_count": 61,
   "metadata": {},
   "outputs": [],
   "source": [
    "day1a = datetime.date.fromisoformat('2008-12-03')"
   ]
  },
  {
   "cell_type": "code",
   "execution_count": 62,
   "metadata": {},
   "outputs": [
    {
     "data": {
      "text/html": [
       "<div>\n",
       "<style scoped>\n",
       "    .dataframe tbody tr th:only-of-type {\n",
       "        vertical-align: middle;\n",
       "    }\n",
       "\n",
       "    .dataframe tbody tr th {\n",
       "        vertical-align: top;\n",
       "    }\n",
       "\n",
       "    .dataframe thead th {\n",
       "        text-align: right;\n",
       "    }\n",
       "</style>\n",
       "<table border=\"1\" class=\"dataframe\">\n",
       "  <thead>\n",
       "    <tr style=\"text-align: right;\">\n",
       "      <th></th>\n",
       "      <th>Type</th>\n",
       "      <th>Size/Shape</th>\n",
       "      <th>Value</th>\n",
       "    </tr>\n",
       "    <tr>\n",
       "      <th>Instance Name</th>\n",
       "      <th></th>\n",
       "      <th></th>\n",
       "      <th></th>\n",
       "    </tr>\n",
       "  </thead>\n",
       "  <tbody>\n",
       "    <tr>\n",
       "      <th>py3rd</th>\n",
       "      <td>date</td>\n",
       "      <td></td>\n",
       "      <td>2008-12-03</td>\n",
       "    </tr>\n",
       "    <tr>\n",
       "      <th>day1</th>\n",
       "      <td>date</td>\n",
       "      <td></td>\n",
       "      <td>2008-12-03</td>\n",
       "    </tr>\n",
       "    <tr>\n",
       "      <th>today</th>\n",
       "      <td>date</td>\n",
       "      <td></td>\n",
       "      <td>2024-02-09</td>\n",
       "    </tr>\n",
       "    <tr>\n",
       "      <th>day2</th>\n",
       "      <td>date</td>\n",
       "      <td></td>\n",
       "      <td>2024-02-09</td>\n",
       "    </tr>\n",
       "    <tr>\n",
       "      <th>day1a</th>\n",
       "      <td>date</td>\n",
       "      <td></td>\n",
       "      <td>2008-12-03</td>\n",
       "    </tr>\n",
       "    <tr>\n",
       "      <th>day1b</th>\n",
       "      <td>date</td>\n",
       "      <td></td>\n",
       "      <td>2008-12-03</td>\n",
       "    </tr>\n",
       "    <tr>\n",
       "      <th>day1c</th>\n",
       "      <td>date</td>\n",
       "      <td></td>\n",
       "      <td>2008-12-03</td>\n",
       "    </tr>\n",
       "  </tbody>\n",
       "</table>\n",
       "</div>"
      ],
      "text/plain": [
       "               Type Size/Shape       Value\n",
       "Instance Name                             \n",
       "py3rd          date             2008-12-03\n",
       "day1           date             2008-12-03\n",
       "today          date             2024-02-09\n",
       "day2           date             2024-02-09\n",
       "day1a          date             2008-12-03\n",
       "day1b          date             2008-12-03\n",
       "day1c          date             2008-12-03"
      ]
     },
     "execution_count": 62,
     "metadata": {},
     "output_type": "execute_result"
    }
   ],
   "source": [
    "variables()"
   ]
  },
  {
   "attachments": {},
   "cell_type": "markdown",
   "metadata": {},
   "source": [
    "The method ```weekday``` gives a zero-order index weekday where Monday is at index ```0``` and Sunday is at index ```6```:"
   ]
  },
  {
   "cell_type": "code",
   "execution_count": 63,
   "metadata": {},
   "outputs": [
    {
     "data": {
      "text/plain": [
       "2"
      ]
     },
     "execution_count": 63,
     "metadata": {},
     "output_type": "execute_result"
    }
   ],
   "source": [
    "day1.weekday()"
   ]
  },
  {
   "attachments": {},
   "cell_type": "markdown",
   "metadata": {},
   "source": [
    "The method ```isoweekday``` gives a first-order index weekday where Monday is at index 1 and Sunday is at index 7:"
   ]
  },
  {
   "cell_type": "code",
   "execution_count": 64,
   "metadata": {},
   "outputs": [
    {
     "data": {
      "text/plain": [
       "3"
      ]
     },
     "execution_count": 64,
     "metadata": {},
     "output_type": "execute_result"
    }
   ],
   "source": [
    "day1.isoweekday()"
   ]
  },
  {
   "attachments": {},
   "cell_type": "markdown",
   "metadata": {},
   "source": [
    "The method ```isocalendar``` returns a ```date``` in the isoformat which contains a year, week and weekday:"
   ]
  },
  {
   "cell_type": "code",
   "execution_count": 65,
   "metadata": {},
   "outputs": [
    {
     "data": {
      "text/plain": [
       "datetime.IsoCalendarDate(year=2008, week=49, weekday=3)"
      ]
     },
     "execution_count": 65,
     "metadata": {},
     "output_type": "execute_result"
    }
   ],
   "source": [
    "day1.isocalendar()"
   ]
  },
  {
   "attachments": {},
   "cell_type": "markdown",
   "metadata": {},
   "source": [
    "The alternative constructor (class method) ```fromisocalendar``` is an alternative constructor using this format. The named parameters are however slightly inconsistent using day in fromisocalendar and weekday in isocalendar:"
   ]
  },
  {
   "cell_type": "code",
   "execution_count": 66,
   "metadata": {},
   "outputs": [],
   "source": [
    "day1b = datetime.date.fromisocalendar(year=2008, week=49, day=3)"
   ]
  },
  {
   "attachments": {},
   "cell_type": "markdown",
   "metadata": {},
   "source": [
    "The ordinal date begins at:"
   ]
  },
  {
   "cell_type": "code",
   "execution_count": 67,
   "metadata": {},
   "outputs": [
    {
     "data": {
      "text/plain": [
       "datetime.date(1, 1, 1)"
      ]
     },
     "execution_count": 67,
     "metadata": {},
     "output_type": "execute_result"
    }
   ],
   "source": [
    "day1.min"
   ]
  },
  {
   "attachments": {},
   "cell_type": "markdown",
   "metadata": {},
   "source": [
    "And 1 ordinal unit is 1 day:"
   ]
  },
  {
   "cell_type": "code",
   "execution_count": 34,
   "metadata": {},
   "outputs": [
    {
     "data": {
      "text/plain": [
       "733379"
      ]
     },
     "execution_count": 34,
     "metadata": {},
     "output_type": "execute_result"
    }
   ],
   "source": [
    "day1.toordinal()"
   ]
  },
  {
   "attachments": {},
   "cell_type": "markdown",
   "metadata": {},
   "source": [
    "This can be calculated as:"
   ]
  },
  {
   "cell_type": "code",
   "execution_count": 35,
   "metadata": {},
   "outputs": [
    {
     "data": {
      "text/plain": [
       "733379.0975"
      ]
     },
     "execution_count": 35,
     "metadata": {},
     "output_type": "execute_result"
    }
   ],
   "source": [
    "(2008 - 1) * 365.2425 + (12 - 1) * 30.4 + (3 - 1) + 1"
   ]
  },
  {
   "attachments": {},
   "cell_type": "markdown",
   "metadata": {},
   "source": [
    "The ```+1``` at the end is because ```2008``` is a leap year. The ```fromordinal``` alternative constructor will construct a ```date``` instance from this ordinal time:"
   ]
  },
  {
   "cell_type": "code",
   "execution_count": 68,
   "metadata": {},
   "outputs": [],
   "source": [
    "day1c = datetime.date.fromordinal(733379)"
   ]
  },
  {
   "cell_type": "code",
   "execution_count": 38,
   "metadata": {},
   "outputs": [
    {
     "data": {
      "text/html": [
       "<div>\n",
       "<style scoped>\n",
       "    .dataframe tbody tr th:only-of-type {\n",
       "        vertical-align: middle;\n",
       "    }\n",
       "\n",
       "    .dataframe tbody tr th {\n",
       "        vertical-align: top;\n",
       "    }\n",
       "\n",
       "    .dataframe thead th {\n",
       "        text-align: right;\n",
       "    }\n",
       "</style>\n",
       "<table border=\"1\" class=\"dataframe\">\n",
       "  <thead>\n",
       "    <tr style=\"text-align: right;\">\n",
       "      <th></th>\n",
       "      <th>Type</th>\n",
       "      <th>Size/Shape</th>\n",
       "      <th>Value</th>\n",
       "    </tr>\n",
       "    <tr>\n",
       "      <th>Instance Name</th>\n",
       "      <th></th>\n",
       "      <th></th>\n",
       "      <th></th>\n",
       "    </tr>\n",
       "  </thead>\n",
       "  <tbody>\n",
       "    <tr>\n",
       "      <th>py3rd</th>\n",
       "      <td>date</td>\n",
       "      <td></td>\n",
       "      <td>2008-12-03</td>\n",
       "    </tr>\n",
       "    <tr>\n",
       "      <th>day1</th>\n",
       "      <td>date</td>\n",
       "      <td></td>\n",
       "      <td>2008-12-03</td>\n",
       "    </tr>\n",
       "    <tr>\n",
       "      <th>today</th>\n",
       "      <td>date</td>\n",
       "      <td></td>\n",
       "      <td>2024-02-09</td>\n",
       "    </tr>\n",
       "    <tr>\n",
       "      <th>day2</th>\n",
       "      <td>date</td>\n",
       "      <td></td>\n",
       "      <td>2024-02-09</td>\n",
       "    </tr>\n",
       "    <tr>\n",
       "      <th>day1a</th>\n",
       "      <td>date</td>\n",
       "      <td></td>\n",
       "      <td>2008-12-03</td>\n",
       "    </tr>\n",
       "    <tr>\n",
       "      <th>day1b</th>\n",
       "      <td>date</td>\n",
       "      <td></td>\n",
       "      <td>2008-12-03</td>\n",
       "    </tr>\n",
       "    <tr>\n",
       "      <th>day1c</th>\n",
       "      <td>date</td>\n",
       "      <td></td>\n",
       "      <td>2008-12-03</td>\n",
       "    </tr>\n",
       "  </tbody>\n",
       "</table>\n",
       "</div>"
      ],
      "text/plain": [
       "               Type Size/Shape       Value\n",
       "Instance Name                             \n",
       "py3rd          date             2008-12-03\n",
       "day1           date             2008-12-03\n",
       "today          date             2024-02-09\n",
       "day2           date             2024-02-09\n",
       "day1a          date             2008-12-03\n",
       "day1b          date             2008-12-03\n",
       "day1c          date             2008-12-03"
      ]
     },
     "execution_count": 38,
     "metadata": {},
     "output_type": "execute_result"
    }
   ],
   "source": [
    "variables()"
   ]
  },
  {
   "attachments": {},
   "cell_type": "markdown",
   "metadata": {},
   "source": [
    "The ```time.time``` returns the system time as a timestamp. This is a unit of measurement in seconds that begins from the Epoch Time ```datetime.date(1970, 1, 1)``` which is designated ```0``` milliseconds:"
   ]
  },
  {
   "cell_type": "code",
   "execution_count": 69,
   "metadata": {},
   "outputs": [
    {
     "data": {
      "text/plain": [
       "1707487694.751957"
      ]
     },
     "execution_count": 69,
     "metadata": {},
     "output_type": "execute_result"
    }
   ],
   "source": [
    "time.time()"
   ]
  },
  {
   "attachments": {},
   "cell_type": "markdown",
   "metadata": {},
   "source": [
    "The alternative constructor ```fromtimestamp``` can be used to construct a ```datetime.date``` from this:"
   ]
  },
  {
   "cell_type": "code",
   "execution_count": 71,
   "metadata": {},
   "outputs": [
    {
     "data": {
      "text/plain": [
       "datetime.date(2024, 2, 9)"
      ]
     },
     "execution_count": 71,
     "metadata": {},
     "output_type": "execute_result"
    }
   ],
   "source": [
    "datetime.date.fromtimestamp(time.time())"
   ]
  },
  {
   "attachments": {},
   "cell_type": "markdown",
   "metadata": {},
   "source": [
    "There is no export method to a timestamp as the date is not accurate enough to be expressed in milliseconds."
   ]
  },
  {
   "attachments": {},
   "cell_type": "markdown",
   "metadata": {},
   "source": [
    "A ```datetime.date``` instance can also be converted to a timetuple:"
   ]
  },
  {
   "cell_type": "code",
   "execution_count": 72,
   "metadata": {},
   "outputs": [
    {
     "data": {
      "text/plain": [
       "time.struct_time(tm_year=2008, tm_mon=12, tm_mday=3, tm_hour=0, tm_min=0, tm_sec=0, tm_wday=2, tm_yday=338, tm_isdst=-1)"
      ]
     },
     "execution_count": 72,
     "metadata": {},
     "output_type": "execute_result"
    }
   ],
   "source": [
    "day1.timetuple()"
   ]
  },
  {
   "attachments": {},
   "cell_type": "markdown",
   "metadata": {},
   "source": [
    "Or a C-style time string:"
   ]
  },
  {
   "cell_type": "code",
   "execution_count": 73,
   "metadata": {},
   "outputs": [
    {
     "data": {
      "text/plain": [
       "'Wed Dec  3 00:00:00 2008'"
      ]
     },
     "execution_count": 73,
     "metadata": {},
     "output_type": "execute_result"
    }
   ],
   "source": [
    "day1.ctime()"
   ]
  },
  {
   "attachments": {},
   "cell_type": "markdown",
   "metadata": {},
   "source": [
    "A formatted string for the date instance can be created using the method ```strftime```. Lower case format codes are used for a date ```%y```, ```%m```, ```%d``` in a ```2``` digit format:"
   ]
  },
  {
   "cell_type": "code",
   "execution_count": 74,
   "metadata": {},
   "outputs": [
    {
     "data": {
      "text/plain": [
       "'08'"
      ]
     },
     "execution_count": 74,
     "metadata": {},
     "output_type": "execute_result"
    }
   ],
   "source": [
    "day1.strftime('%y')"
   ]
  },
  {
   "cell_type": "code",
   "execution_count": 75,
   "metadata": {},
   "outputs": [
    {
     "data": {
      "text/plain": [
       "'12'"
      ]
     },
     "execution_count": 75,
     "metadata": {},
     "output_type": "execute_result"
    }
   ],
   "source": [
    "day1.strftime('%m')"
   ]
  },
  {
   "cell_type": "code",
   "execution_count": 76,
   "metadata": {},
   "outputs": [
    {
     "data": {
      "text/plain": [
       "'03'"
      ]
     },
     "execution_count": 76,
     "metadata": {},
     "output_type": "execute_result"
    }
   ],
   "source": [
    "day1.strftime('%d')"
   ]
  },
  {
   "attachments": {},
   "cell_type": "markdown",
   "metadata": {},
   "source": [
    "The upper case variation ```%Y``` give the years in ```4``` digits:"
   ]
  },
  {
   "cell_type": "code",
   "execution_count": 77,
   "metadata": {},
   "outputs": [
    {
     "data": {
      "text/plain": [
       "'2008'"
      ]
     },
     "execution_count": 77,
     "metadata": {},
     "output_type": "execute_result"
    }
   ],
   "source": [
    "day1.strftime('%Y')"
   ]
  },
  {
   "attachments": {},
   "cell_type": "markdown",
   "metadata": {},
   "source": [
    "The upper case ```%dD```gives the date in the American format ```(month/day/year)```:"
   ]
  },
  {
   "cell_type": "code",
   "execution_count": 78,
   "metadata": {},
   "outputs": [
    {
     "data": {
      "text/plain": [
       "'12/03/08'"
      ]
     },
     "execution_count": 78,
     "metadata": {},
     "output_type": "execute_result"
    }
   ],
   "source": [
    "day1.strftime('%D')"
   ]
  },
  {
   "cell_type": "markdown",
   "metadata": {},
   "source": [
    "This is equivalent to:"
   ]
  },
  {
   "cell_type": "code",
   "execution_count": 79,
   "metadata": {},
   "outputs": [
    {
     "data": {
      "text/plain": [
       "'12/03/08'"
      ]
     },
     "execution_count": 79,
     "metadata": {},
     "output_type": "execute_result"
    }
   ],
   "source": [
    "day1.strftime(r'%m/%d/%y')"
   ]
  },
  {
   "attachments": {},
   "cell_type": "markdown",
   "metadata": {},
   "source": [
    "The British format can be constructed using:"
   ]
  },
  {
   "cell_type": "code",
   "execution_count": 81,
   "metadata": {},
   "outputs": [
    {
     "data": {
      "text/plain": [
       "'03/12/08'"
      ]
     },
     "execution_count": 81,
     "metadata": {},
     "output_type": "execute_result"
    }
   ],
   "source": [
    "day1.strftime(r'%d/%m/%y')"
   ]
  },
  {
   "attachments": {},
   "cell_type": "markdown",
   "metadata": {},
   "source": [
    "Note that the upper case ```%M``` is reserved for a ```datetime.time```, corresponding to a minute and will be examined later."
   ]
  },
  {
   "attachments": {},
   "cell_type": "markdown",
   "metadata": {},
   "source": [
    "The ```replace``` method can be used with the keywords ```year```, ```month``` and ```date``` to replace an attribute in the original ```datetime.date``` instance and because this class is immutable returns a new instance:"
   ]
  },
  {
   "cell_type": "code",
   "execution_count": 82,
   "metadata": {},
   "outputs": [],
   "source": [
    "day3 = day1.replace(year=2009)"
   ]
  },
  {
   "cell_type": "markdown",
   "metadata": {},
   "source": [
    "Because ```datetime.date``` instances are ordinal, the following datamodel methods are defined ```__eq__```, ```__ne__```, ```__lt__```, ```__le__```, ```__gt__```, and ```__ge__``` corresponding to the ```6``` comparison operators ```==```, ```!=```, ```<```, ```<=```, ```>``` and ```>=```: "
   ]
  },
  {
   "cell_type": "code",
   "execution_count": 86,
   "metadata": {},
   "outputs": [
    {
     "data": {
      "text/html": [
       "<div>\n",
       "<style scoped>\n",
       "    .dataframe tbody tr th:only-of-type {\n",
       "        vertical-align: middle;\n",
       "    }\n",
       "\n",
       "    .dataframe tbody tr th {\n",
       "        vertical-align: top;\n",
       "    }\n",
       "\n",
       "    .dataframe thead th {\n",
       "        text-align: right;\n",
       "    }\n",
       "</style>\n",
       "<table border=\"1\" class=\"dataframe\">\n",
       "  <thead>\n",
       "    <tr style=\"text-align: right;\">\n",
       "      <th></th>\n",
       "      <th>Type</th>\n",
       "      <th>Size/Shape</th>\n",
       "      <th>Value</th>\n",
       "    </tr>\n",
       "    <tr>\n",
       "      <th>Instance Name</th>\n",
       "      <th></th>\n",
       "      <th></th>\n",
       "      <th></th>\n",
       "    </tr>\n",
       "  </thead>\n",
       "  <tbody>\n",
       "    <tr>\n",
       "      <th>py3rd</th>\n",
       "      <td>date</td>\n",
       "      <td></td>\n",
       "      <td>2008-12-03</td>\n",
       "    </tr>\n",
       "    <tr>\n",
       "      <th>day1</th>\n",
       "      <td>date</td>\n",
       "      <td></td>\n",
       "      <td>2008-12-03</td>\n",
       "    </tr>\n",
       "    <tr>\n",
       "      <th>today</th>\n",
       "      <td>date</td>\n",
       "      <td></td>\n",
       "      <td>2024-02-09</td>\n",
       "    </tr>\n",
       "    <tr>\n",
       "      <th>day2</th>\n",
       "      <td>date</td>\n",
       "      <td></td>\n",
       "      <td>2024-02-09</td>\n",
       "    </tr>\n",
       "    <tr>\n",
       "      <th>day1a</th>\n",
       "      <td>date</td>\n",
       "      <td></td>\n",
       "      <td>2008-12-03</td>\n",
       "    </tr>\n",
       "    <tr>\n",
       "      <th>day1b</th>\n",
       "      <td>date</td>\n",
       "      <td></td>\n",
       "      <td>2008-12-03</td>\n",
       "    </tr>\n",
       "    <tr>\n",
       "      <th>day1c</th>\n",
       "      <td>date</td>\n",
       "      <td></td>\n",
       "      <td>2008-12-03</td>\n",
       "    </tr>\n",
       "    <tr>\n",
       "      <th>day3</th>\n",
       "      <td>date</td>\n",
       "      <td></td>\n",
       "      <td>2009-12-03</td>\n",
       "    </tr>\n",
       "  </tbody>\n",
       "</table>\n",
       "</div>"
      ],
      "text/plain": [
       "               Type Size/Shape       Value\n",
       "Instance Name                             \n",
       "py3rd          date             2008-12-03\n",
       "day1           date             2008-12-03\n",
       "today          date             2024-02-09\n",
       "day2           date             2024-02-09\n",
       "day1a          date             2008-12-03\n",
       "day1b          date             2008-12-03\n",
       "day1c          date             2008-12-03\n",
       "day3           date             2009-12-03"
      ]
     },
     "execution_count": 86,
     "metadata": {},
     "output_type": "execute_result"
    }
   ],
   "source": [
    "variables()"
   ]
  },
  {
   "cell_type": "code",
   "execution_count": 85,
   "metadata": {},
   "outputs": [
    {
     "data": {
      "text/plain": [
       "False"
      ]
     },
     "execution_count": 85,
     "metadata": {},
     "output_type": "execute_result"
    }
   ],
   "source": [
    "day1 == day2"
   ]
  },
  {
   "cell_type": "code",
   "execution_count": 87,
   "metadata": {},
   "outputs": [
    {
     "data": {
      "text/plain": [
       "False"
      ]
     },
     "execution_count": 87,
     "metadata": {},
     "output_type": "execute_result"
    }
   ],
   "source": [
    "day1 > day2"
   ]
  },
  {
   "cell_type": "code",
   "execution_count": 89,
   "metadata": {},
   "outputs": [
    {
     "data": {
      "text/plain": [
       "True"
      ]
     },
     "execution_count": 89,
     "metadata": {},
     "output_type": "execute_result"
    }
   ],
   "source": [
    "day1 < day2"
   ]
  },
  {
   "attachments": {},
   "cell_type": "markdown",
   "metadata": {},
   "source": [
    "The ```__sub__``` datamodel method is also defined and the ```-``` operator can be used between two ```datetime.date``` instances to the day difference in the form of a ```datetime.timedelta```:"
   ]
  },
  {
   "cell_type": "code",
   "execution_count": 90,
   "metadata": {},
   "outputs": [
    {
     "data": {
      "text/plain": [
       "datetime.timedelta(days=5546)"
      ]
     },
     "execution_count": 90,
     "metadata": {},
     "output_type": "execute_result"
    }
   ],
   "source": [
    "day2 - day1"
   ]
  },
  {
   "attachments": {},
   "cell_type": "markdown",
   "metadata": {},
   "source": [
    "The ```__add__``` datamodel method is also defined and the ```+``` operator can be used between a ```datetime.date``` instance and a ```datetime.timedelta``` instance to return a new ```datetime.timedelta```:"
   ]
  },
  {
   "cell_type": "code",
   "execution_count": 91,
   "metadata": {},
   "outputs": [
    {
     "data": {
      "text/plain": [
       "datetime.date(2008, 12, 4)"
      ]
     },
     "execution_count": 91,
     "metadata": {},
     "output_type": "execute_result"
    }
   ],
   "source": [
    "day1 + datetime.timedelta(days=1)"
   ]
  },
  {
   "attachments": {},
   "cell_type": "markdown",
   "metadata": {},
   "source": [
    "## Time"
   ]
  },
  {
   "cell_type": "markdown",
   "metadata": {},
   "source": [
    "The identifiers for the ```datetime.time``` class can be examined. It has the instance attributes ```hour```, ```minute```, ```second``` and ```microsecond``` which are supplied during instantiation and the class attributes ```min```, ```max``` and ```resolution``` which give details about the minimum and maximum possible dates as well as the time resolution of a day.\n",
    "\n",
    "The ```tzinfo``` attribute gives details about the timezone and ```fold``` is used for clock changes to distinguish duplicate times (due to clock changes).\n",
    "\n",
    "The ```datetime.time``` class also has a number of other methods that act as alternative constructors for another time format or export the date to such a format respectively:"
   ]
  },
  {
   "cell_type": "code",
   "execution_count": 93,
   "metadata": {},
   "outputs": [
    {
     "name": "stdout",
     "output_type": "stream",
     "text": [
      "{'attribute': ['fold',\n",
      "               'hour',\n",
      "               'max',\n",
      "               'microsecond',\n",
      "               'min',\n",
      "               'minute',\n",
      "               'resolution',\n",
      "               'second',\n",
      "               'tzinfo'],\n",
      " 'method': ['dst',\n",
      "            'fromisoformat',\n",
      "            'isoformat',\n",
      "            'replace',\n",
      "            'strftime',\n",
      "            'tzname',\n",
      "            'utcoffset']}\n"
     ]
    }
   ],
   "source": [
    "dir2(datetime.time, object, unique_only=True)"
   ]
  },
  {
   "attachments": {},
   "cell_type": "markdown",
   "metadata": {},
   "source": [
    "The initialization signature of the ```datetime.time``` class can be viewed by inputting:"
   ]
  },
  {
   "cell_type": "code",
   "execution_count": 94,
   "metadata": {},
   "outputs": [
    {
     "data": {
      "text/plain": [
       "\u001b[1;31mType:\u001b[0m        module\n",
       "\u001b[1;31mString form:\u001b[0m <module 'time' (built-in)>\n",
       "\u001b[1;31mDocstring:\u001b[0m  \n",
       "This module provides various functions to manipulate time values.\n",
       "\n",
       "There are two standard representations of time.  One is the number\n",
       "of seconds since the Epoch, in UTC (a.k.a. GMT).  It may be an integer\n",
       "or a floating point number (to represent fractions of seconds).\n",
       "The Epoch is system-defined; on Unix, it is generally January 1st, 1970.\n",
       "The actual value can be retrieved by calling gmtime(0).\n",
       "\n",
       "The other representation is a tuple of 9 integers giving local time.\n",
       "The tuple items are:\n",
       "  year (including century, e.g. 1998)\n",
       "  month (1-12)\n",
       "  day (1-31)\n",
       "  hours (0-23)\n",
       "  minutes (0-59)\n",
       "  seconds (0-59)\n",
       "  weekday (0-6, Monday is 0)\n",
       "  Julian day (day in the year, 1-366)\n",
       "  DST (Daylight Savings Time) flag (-1, 0 or 1)\n",
       "If the DST flag is 0, the time is given in the regular time zone;\n",
       "if it is 1, the time is given in the DST time zone;\n",
       "if it is -1, mktime() should guess based on the date and time."
      ]
     },
     "metadata": {},
     "output_type": "display_data"
    }
   ],
   "source": [
    "time?"
   ]
  },
  {
   "attachments": {},
   "cell_type": "markdown",
   "metadata": {},
   "source": [
    "A time instance can be constructed by specifying the ```hours```, ```minutes```, ```seconds``` and ```microseconds``` (the lower units of measurement are optional):"
   ]
  },
  {
   "cell_type": "code",
   "execution_count": 127,
   "metadata": {},
   "outputs": [],
   "source": [
    "time1 = datetime.time(hour=10, minute=43, second=35)"
   ]
  },
  {
   "cell_type": "code",
   "execution_count": 128,
   "metadata": {},
   "outputs": [],
   "source": [
    "time2 = datetime.time(hour=15, minute=30, second=14, microsecond=156789)"
   ]
  },
  {
   "attachments": {},
   "cell_type": "markdown",
   "metadata": {},
   "source": [
    "These can be viewed using:"
   ]
  },
  {
   "cell_type": "code",
   "execution_count": 129,
   "metadata": {},
   "outputs": [
    {
     "data": {
      "text/html": [
       "<div>\n",
       "<style scoped>\n",
       "    .dataframe tbody tr th:only-of-type {\n",
       "        vertical-align: middle;\n",
       "    }\n",
       "\n",
       "    .dataframe tbody tr th {\n",
       "        vertical-align: top;\n",
       "    }\n",
       "\n",
       "    .dataframe thead th {\n",
       "        text-align: right;\n",
       "    }\n",
       "</style>\n",
       "<table border=\"1\" class=\"dataframe\">\n",
       "  <thead>\n",
       "    <tr style=\"text-align: right;\">\n",
       "      <th></th>\n",
       "      <th>Type</th>\n",
       "      <th>Size/Shape</th>\n",
       "      <th>Value</th>\n",
       "    </tr>\n",
       "    <tr>\n",
       "      <th>Instance Name</th>\n",
       "      <th></th>\n",
       "      <th></th>\n",
       "      <th></th>\n",
       "    </tr>\n",
       "  </thead>\n",
       "  <tbody>\n",
       "    <tr>\n",
       "      <th>py3rd</th>\n",
       "      <td>date</td>\n",
       "      <td></td>\n",
       "      <td>2008-12-03</td>\n",
       "    </tr>\n",
       "    <tr>\n",
       "      <th>day1</th>\n",
       "      <td>date</td>\n",
       "      <td></td>\n",
       "      <td>2023-09-29</td>\n",
       "    </tr>\n",
       "    <tr>\n",
       "      <th>today</th>\n",
       "      <td>date</td>\n",
       "      <td></td>\n",
       "      <td>2024-02-09</td>\n",
       "    </tr>\n",
       "    <tr>\n",
       "      <th>day2</th>\n",
       "      <td>date</td>\n",
       "      <td></td>\n",
       "      <td>2024-02-09</td>\n",
       "    </tr>\n",
       "    <tr>\n",
       "      <th>day1a</th>\n",
       "      <td>time</td>\n",
       "      <td></td>\n",
       "      <td>12:13:14.156789</td>\n",
       "    </tr>\n",
       "    <tr>\n",
       "      <th>day1b</th>\n",
       "      <td>date</td>\n",
       "      <td></td>\n",
       "      <td>2008-12-03</td>\n",
       "    </tr>\n",
       "    <tr>\n",
       "      <th>day1c</th>\n",
       "      <td>date</td>\n",
       "      <td></td>\n",
       "      <td>2008-12-03</td>\n",
       "    </tr>\n",
       "    <tr>\n",
       "      <th>day3</th>\n",
       "      <td>date</td>\n",
       "      <td></td>\n",
       "      <td>2009-12-03</td>\n",
       "    </tr>\n",
       "    <tr>\n",
       "      <th>time1</th>\n",
       "      <td>time</td>\n",
       "      <td></td>\n",
       "      <td>10:43:35</td>\n",
       "    </tr>\n",
       "    <tr>\n",
       "      <th>time2</th>\n",
       "      <td>time</td>\n",
       "      <td></td>\n",
       "      <td>15:30:14.156789</td>\n",
       "    </tr>\n",
       "    <tr>\n",
       "      <th>time3</th>\n",
       "      <td>time</td>\n",
       "      <td></td>\n",
       "      <td>19:30:14.156789</td>\n",
       "    </tr>\n",
       "  </tbody>\n",
       "</table>\n",
       "</div>"
      ],
      "text/plain": [
       "               Type Size/Shape            Value\n",
       "Instance Name                                  \n",
       "py3rd          date                  2008-12-03\n",
       "day1           date                  2023-09-29\n",
       "today          date                  2024-02-09\n",
       "day2           date                  2024-02-09\n",
       "day1a          time             12:13:14.156789\n",
       "day1b          date                  2008-12-03\n",
       "day1c          date                  2008-12-03\n",
       "day3           date                  2009-12-03\n",
       "time1          time                    10:43:35\n",
       "time2          time             15:30:14.156789\n",
       "time3          time             19:30:14.156789"
      ]
     },
     "execution_count": 129,
     "metadata": {},
     "output_type": "execute_result"
    }
   ],
   "source": [
    "variables()"
   ]
  },
  {
   "cell_type": "markdown",
   "metadata": {},
   "source": [
    "The formal and informal ```str``` representation differ for a ```datetime.time``` instance with the formal representation matching the way to instantiate a new ```datetime.time``` instance and the informal representation matching the iso format:"
   ]
  },
  {
   "cell_type": "code",
   "execution_count": 130,
   "metadata": {},
   "outputs": [
    {
     "data": {
      "text/plain": [
       "'datetime.time(15, 30, 14, 156789)'"
      ]
     },
     "execution_count": 130,
     "metadata": {},
     "output_type": "execute_result"
    }
   ],
   "source": [
    "repr(time2)"
   ]
  },
  {
   "cell_type": "code",
   "execution_count": 131,
   "metadata": {},
   "outputs": [
    {
     "data": {
      "text/plain": [
       "'15:30:14.156789'"
      ]
     },
     "execution_count": 131,
     "metadata": {},
     "output_type": "execute_result"
    }
   ],
   "source": [
    "str(time2)"
   ]
  },
  {
   "attachments": {},
   "cell_type": "markdown",
   "metadata": {},
   "source": [
    "The time attributes corresponding to each unit can also be accessed:"
   ]
  },
  {
   "cell_type": "code",
   "execution_count": 132,
   "metadata": {},
   "outputs": [
    {
     "data": {
      "text/plain": [
       "15"
      ]
     },
     "execution_count": 132,
     "metadata": {},
     "output_type": "execute_result"
    }
   ],
   "source": [
    "time2.hour"
   ]
  },
  {
   "cell_type": "code",
   "execution_count": 133,
   "metadata": {},
   "outputs": [
    {
     "data": {
      "text/plain": [
       "30"
      ]
     },
     "execution_count": 133,
     "metadata": {},
     "output_type": "execute_result"
    }
   ],
   "source": [
    "time2.minute"
   ]
  },
  {
   "cell_type": "code",
   "execution_count": 134,
   "metadata": {},
   "outputs": [
    {
     "data": {
      "text/plain": [
       "14"
      ]
     },
     "execution_count": 134,
     "metadata": {},
     "output_type": "execute_result"
    }
   ],
   "source": [
    "time2.second"
   ]
  },
  {
   "cell_type": "code",
   "execution_count": 135,
   "metadata": {},
   "outputs": [
    {
     "data": {
      "text/plain": [
       "156789"
      ]
     },
     "execution_count": 135,
     "metadata": {},
     "output_type": "execute_result"
    }
   ],
   "source": [
    "time2.microsecond"
   ]
  },
  {
   "attachments": {},
   "cell_type": "markdown",
   "metadata": {},
   "source": [
    "The attributes ```min``` and ```max``` are class attributes and give the minimum and maximum possible ```datetime.time``` instance:"
   ]
  },
  {
   "cell_type": "code",
   "execution_count": 136,
   "metadata": {},
   "outputs": [
    {
     "data": {
      "text/plain": [
       "datetime.time(0, 0)"
      ]
     },
     "execution_count": 136,
     "metadata": {},
     "output_type": "execute_result"
    }
   ],
   "source": [
    "time2.min"
   ]
  },
  {
   "cell_type": "code",
   "execution_count": 137,
   "metadata": {},
   "outputs": [
    {
     "data": {
      "text/plain": [
       "datetime.time(23, 59, 59, 999999)"
      ]
     },
     "execution_count": 137,
     "metadata": {},
     "output_type": "execute_result"
    }
   ],
   "source": [
    "time2.max"
   ]
  },
  {
   "attachments": {},
   "cell_type": "markdown",
   "metadata": {},
   "source": [
    "Note do not confuse the attribute ```min``` with the attribute ```minute```."
   ]
  },
  {
   "attachments": {},
   "cell_type": "markdown",
   "metadata": {},
   "source": [
    "The class attribute ```resolution```, gives the time resolution of the ```datetime.date``` instance, as a ```timedelta``` instance:"
   ]
  },
  {
   "cell_type": "code",
   "execution_count": 138,
   "metadata": {},
   "outputs": [
    {
     "data": {
      "text/plain": [
       "datetime.timedelta(microseconds=1)"
      ]
     },
     "execution_count": 138,
     "metadata": {},
     "output_type": "execute_result"
    }
   ],
   "source": [
    "time1.resolution"
   ]
  },
  {
   "attachments": {},
   "cell_type": "markdown",
   "metadata": {},
   "source": [
    "Note the resolution for a ```datetime.time``` instance is ```1``` microsecond opposed to ```1``` day as seen for the ```datetime.date``` instance."
   ]
  },
  {
   "attachments": {},
   "cell_type": "markdown",
   "metadata": {},
   "source": [
    "The ```isoformat``` method returns the ```datetime.time``` in ```isoformat``` behaving identically to the informal ```str``` method:"
   ]
  },
  {
   "cell_type": "code",
   "execution_count": 139,
   "metadata": {},
   "outputs": [
    {
     "data": {
      "text/plain": [
       "'10:43:35'"
      ]
     },
     "execution_count": 139,
     "metadata": {},
     "output_type": "execute_result"
    }
   ],
   "source": [
    "time1.isoformat()"
   ]
  },
  {
   "attachments": {},
   "cell_type": "markdown",
   "metadata": {},
   "source": [
    "The alternative constructor (class method) ```fromisoformat``` that can be used to construct a ```datetime.time``` instance from an isoformat ```str``` instance:"
   ]
  },
  {
   "cell_type": "code",
   "execution_count": 140,
   "metadata": {},
   "outputs": [],
   "source": [
    "day1a = datetime.time.fromisoformat('12:13:14.156789')"
   ]
  },
  {
   "cell_type": "code",
   "execution_count": 141,
   "metadata": {},
   "outputs": [
    {
     "data": {
      "text/html": [
       "<div>\n",
       "<style scoped>\n",
       "    .dataframe tbody tr th:only-of-type {\n",
       "        vertical-align: middle;\n",
       "    }\n",
       "\n",
       "    .dataframe tbody tr th {\n",
       "        vertical-align: top;\n",
       "    }\n",
       "\n",
       "    .dataframe thead th {\n",
       "        text-align: right;\n",
       "    }\n",
       "</style>\n",
       "<table border=\"1\" class=\"dataframe\">\n",
       "  <thead>\n",
       "    <tr style=\"text-align: right;\">\n",
       "      <th></th>\n",
       "      <th>Type</th>\n",
       "      <th>Size/Shape</th>\n",
       "      <th>Value</th>\n",
       "    </tr>\n",
       "    <tr>\n",
       "      <th>Instance Name</th>\n",
       "      <th></th>\n",
       "      <th></th>\n",
       "      <th></th>\n",
       "    </tr>\n",
       "  </thead>\n",
       "  <tbody>\n",
       "    <tr>\n",
       "      <th>py3rd</th>\n",
       "      <td>date</td>\n",
       "      <td></td>\n",
       "      <td>2008-12-03</td>\n",
       "    </tr>\n",
       "    <tr>\n",
       "      <th>day1</th>\n",
       "      <td>date</td>\n",
       "      <td></td>\n",
       "      <td>2023-09-29</td>\n",
       "    </tr>\n",
       "    <tr>\n",
       "      <th>today</th>\n",
       "      <td>date</td>\n",
       "      <td></td>\n",
       "      <td>2024-02-09</td>\n",
       "    </tr>\n",
       "    <tr>\n",
       "      <th>day2</th>\n",
       "      <td>date</td>\n",
       "      <td></td>\n",
       "      <td>2024-02-09</td>\n",
       "    </tr>\n",
       "    <tr>\n",
       "      <th>day1a</th>\n",
       "      <td>time</td>\n",
       "      <td></td>\n",
       "      <td>12:13:14.156789</td>\n",
       "    </tr>\n",
       "    <tr>\n",
       "      <th>day1b</th>\n",
       "      <td>date</td>\n",
       "      <td></td>\n",
       "      <td>2008-12-03</td>\n",
       "    </tr>\n",
       "    <tr>\n",
       "      <th>day1c</th>\n",
       "      <td>date</td>\n",
       "      <td></td>\n",
       "      <td>2008-12-03</td>\n",
       "    </tr>\n",
       "    <tr>\n",
       "      <th>day3</th>\n",
       "      <td>date</td>\n",
       "      <td></td>\n",
       "      <td>2009-12-03</td>\n",
       "    </tr>\n",
       "    <tr>\n",
       "      <th>time1</th>\n",
       "      <td>time</td>\n",
       "      <td></td>\n",
       "      <td>10:43:35</td>\n",
       "    </tr>\n",
       "    <tr>\n",
       "      <th>time2</th>\n",
       "      <td>time</td>\n",
       "      <td></td>\n",
       "      <td>15:30:14.156789</td>\n",
       "    </tr>\n",
       "    <tr>\n",
       "      <th>time3</th>\n",
       "      <td>time</td>\n",
       "      <td></td>\n",
       "      <td>19:30:14.156789</td>\n",
       "    </tr>\n",
       "  </tbody>\n",
       "</table>\n",
       "</div>"
      ],
      "text/plain": [
       "               Type Size/Shape            Value\n",
       "Instance Name                                  \n",
       "py3rd          date                  2008-12-03\n",
       "day1           date                  2023-09-29\n",
       "today          date                  2024-02-09\n",
       "day2           date                  2024-02-09\n",
       "day1a          time             12:13:14.156789\n",
       "day1b          date                  2008-12-03\n",
       "day1c          date                  2008-12-03\n",
       "day3           date                  2009-12-03\n",
       "time1          time                    10:43:35\n",
       "time2          time             15:30:14.156789\n",
       "time3          time             19:30:14.156789"
      ]
     },
     "execution_count": 141,
     "metadata": {},
     "output_type": "execute_result"
    }
   ],
   "source": [
    "variables()"
   ]
  },
  {
   "attachments": {},
   "cell_type": "markdown",
   "metadata": {},
   "source": [
    "A formatted ```str``` for the ```datetime.time``` instance can be constructed using ```strftime```. Uppercase format codes are generally used for times ```%H```, ```%M```, ```%S``` however a lowercase format code ```%f``` is used for the microseconds:"
   ]
  },
  {
   "cell_type": "code",
   "execution_count": 142,
   "metadata": {},
   "outputs": [
    {
     "data": {
      "text/plain": [
       "'15'"
      ]
     },
     "execution_count": 142,
     "metadata": {},
     "output_type": "execute_result"
    }
   ],
   "source": [
    "time2.strftime('%H')"
   ]
  },
  {
   "cell_type": "code",
   "execution_count": 143,
   "metadata": {},
   "outputs": [
    {
     "data": {
      "text/plain": [
       "'30'"
      ]
     },
     "execution_count": 143,
     "metadata": {},
     "output_type": "execute_result"
    }
   ],
   "source": [
    "time2.strftime('%M')"
   ]
  },
  {
   "cell_type": "code",
   "execution_count": 144,
   "metadata": {},
   "outputs": [
    {
     "data": {
      "text/plain": [
       "'14'"
      ]
     },
     "execution_count": 144,
     "metadata": {},
     "output_type": "execute_result"
    }
   ],
   "source": [
    "time2.strftime('%S')"
   ]
  },
  {
   "cell_type": "code",
   "execution_count": 145,
   "metadata": {},
   "outputs": [
    {
     "data": {
      "text/plain": [
       "'156789'"
      ]
     },
     "execution_count": 145,
     "metadata": {},
     "output_type": "execute_result"
    }
   ],
   "source": [
    "time2.strftime('%f')"
   ]
  },
  {
   "attachments": {},
   "cell_type": "markdown",
   "metadata": {},
   "source": [
    "The ```replace``` method can be used with the keywords ```hour```, ```minute```, ```seconds``` and ```microseconds``` to replace an attribute in the original ```datetime.time``` instance and returns a new instance because this class is immutable:"
   ]
  },
  {
   "cell_type": "code",
   "execution_count": 146,
   "metadata": {},
   "outputs": [],
   "source": [
    "time3 = time2.replace(hour=19)"
   ]
  },
  {
   "cell_type": "code",
   "execution_count": 147,
   "metadata": {},
   "outputs": [
    {
     "data": {
      "text/html": [
       "<div>\n",
       "<style scoped>\n",
       "    .dataframe tbody tr th:only-of-type {\n",
       "        vertical-align: middle;\n",
       "    }\n",
       "\n",
       "    .dataframe tbody tr th {\n",
       "        vertical-align: top;\n",
       "    }\n",
       "\n",
       "    .dataframe thead th {\n",
       "        text-align: right;\n",
       "    }\n",
       "</style>\n",
       "<table border=\"1\" class=\"dataframe\">\n",
       "  <thead>\n",
       "    <tr style=\"text-align: right;\">\n",
       "      <th></th>\n",
       "      <th>Type</th>\n",
       "      <th>Size/Shape</th>\n",
       "      <th>Value</th>\n",
       "    </tr>\n",
       "    <tr>\n",
       "      <th>Instance Name</th>\n",
       "      <th></th>\n",
       "      <th></th>\n",
       "      <th></th>\n",
       "    </tr>\n",
       "  </thead>\n",
       "  <tbody>\n",
       "    <tr>\n",
       "      <th>py3rd</th>\n",
       "      <td>date</td>\n",
       "      <td></td>\n",
       "      <td>2008-12-03</td>\n",
       "    </tr>\n",
       "    <tr>\n",
       "      <th>day1</th>\n",
       "      <td>date</td>\n",
       "      <td></td>\n",
       "      <td>2023-09-29</td>\n",
       "    </tr>\n",
       "    <tr>\n",
       "      <th>today</th>\n",
       "      <td>date</td>\n",
       "      <td></td>\n",
       "      <td>2024-02-09</td>\n",
       "    </tr>\n",
       "    <tr>\n",
       "      <th>day2</th>\n",
       "      <td>date</td>\n",
       "      <td></td>\n",
       "      <td>2024-02-09</td>\n",
       "    </tr>\n",
       "    <tr>\n",
       "      <th>day1a</th>\n",
       "      <td>time</td>\n",
       "      <td></td>\n",
       "      <td>12:13:14.156789</td>\n",
       "    </tr>\n",
       "    <tr>\n",
       "      <th>day1b</th>\n",
       "      <td>date</td>\n",
       "      <td></td>\n",
       "      <td>2008-12-03</td>\n",
       "    </tr>\n",
       "    <tr>\n",
       "      <th>day1c</th>\n",
       "      <td>date</td>\n",
       "      <td></td>\n",
       "      <td>2008-12-03</td>\n",
       "    </tr>\n",
       "    <tr>\n",
       "      <th>day3</th>\n",
       "      <td>date</td>\n",
       "      <td></td>\n",
       "      <td>2009-12-03</td>\n",
       "    </tr>\n",
       "    <tr>\n",
       "      <th>time1</th>\n",
       "      <td>time</td>\n",
       "      <td></td>\n",
       "      <td>10:43:35</td>\n",
       "    </tr>\n",
       "    <tr>\n",
       "      <th>time2</th>\n",
       "      <td>time</td>\n",
       "      <td></td>\n",
       "      <td>15:30:14.156789</td>\n",
       "    </tr>\n",
       "    <tr>\n",
       "      <th>time3</th>\n",
       "      <td>time</td>\n",
       "      <td></td>\n",
       "      <td>19:30:14.156789</td>\n",
       "    </tr>\n",
       "  </tbody>\n",
       "</table>\n",
       "</div>"
      ],
      "text/plain": [
       "               Type Size/Shape            Value\n",
       "Instance Name                                  \n",
       "py3rd          date                  2008-12-03\n",
       "day1           date                  2023-09-29\n",
       "today          date                  2024-02-09\n",
       "day2           date                  2024-02-09\n",
       "day1a          time             12:13:14.156789\n",
       "day1b          date                  2008-12-03\n",
       "day1c          date                  2008-12-03\n",
       "day3           date                  2009-12-03\n",
       "time1          time                    10:43:35\n",
       "time2          time             15:30:14.156789\n",
       "time3          time             19:30:14.156789"
      ]
     },
     "execution_count": 147,
     "metadata": {},
     "output_type": "execute_result"
    }
   ],
   "source": [
    "variables()"
   ]
  },
  {
   "attachments": {},
   "cell_type": "markdown",
   "metadata": {},
   "source": [
    "```datetime.time``` instances are ordinal and the comparison operators are defined to operate between two instances: "
   ]
  },
  {
   "cell_type": "code",
   "execution_count": 148,
   "metadata": {},
   "outputs": [
    {
     "data": {
      "text/plain": [
       "True"
      ]
     },
     "execution_count": 148,
     "metadata": {},
     "output_type": "execute_result"
    }
   ],
   "source": [
    "day2 > day1"
   ]
  },
  {
   "attachments": {},
   "cell_type": "markdown",
   "metadata": {},
   "source": [
    "## Datetime"
   ]
  },
  {
   "cell_type": "markdown",
   "metadata": {},
   "source": [
    "The ```datetime.datetime``` class is effectively the combination of the ```datetime.date``` and ```datetime.time``` class. Most of the attributes are consistent to their counterparts in the ```datetime.date``` or ```datetime.tim``` classes respectively:"
   ]
  },
  {
   "cell_type": "code",
   "execution_count": 125,
   "metadata": {},
   "outputs": [
    {
     "name": "stdout",
     "output_type": "stream",
     "text": [
      "{'attribute': ['day',\n",
      "               'fold',\n",
      "               'hour',\n",
      "               'max',\n",
      "               'microsecond',\n",
      "               'min',\n",
      "               'minute',\n",
      "               'month',\n",
      "               'resolution',\n",
      "               'second',\n",
      "               'tzinfo',\n",
      "               'year'],\n",
      " 'method': ['astimezone',\n",
      "            'combine',\n",
      "            'ctime',\n",
      "            'date',\n",
      "            'dst',\n",
      "            'fromisocalendar',\n",
      "            'fromisoformat',\n",
      "            'fromordinal',\n",
      "            'fromtimestamp',\n",
      "            'isocalendar',\n",
      "            'isoformat',\n",
      "            'isoweekday',\n",
      "            'now',\n",
      "            'replace',\n",
      "            'strftime',\n",
      "            'strptime',\n",
      "            'time',\n",
      "            'timestamp',\n",
      "            'timetuple',\n",
      "            'timetz',\n",
      "            'today',\n",
      "            'toordinal',\n",
      "            'tzname',\n",
      "            'utcfromtimestamp',\n",
      "            'utcnow',\n",
      "            'utcoffset',\n",
      "            'utctimetuple',\n",
      "            'weekday'],\n",
      " 'datamodel_method': ['__add__', '__radd__', '__rsub__', '__sub__']}\n"
     ]
    }
   ],
   "source": [
    "dir2(datetime.datetime, object, unique_only=True)"
   ]
  },
  {
   "attachments": {},
   "cell_type": "markdown",
   "metadata": {},
   "source": [
    "The initialization signature of the ```datetime.datetime``` class can be viewed by inputting:"
   ]
  },
  {
   "cell_type": "code",
   "execution_count": 149,
   "metadata": {},
   "outputs": [
    {
     "data": {
      "text/plain": [
       "\u001b[1;31mInit signature:\u001b[0m \u001b[0mdatetime\u001b[0m\u001b[1;33m.\u001b[0m\u001b[0mdatetime\u001b[0m\u001b[1;33m(\u001b[0m\u001b[0mself\u001b[0m\u001b[1;33m,\u001b[0m \u001b[1;33m/\u001b[0m\u001b[1;33m,\u001b[0m \u001b[1;33m*\u001b[0m\u001b[0margs\u001b[0m\u001b[1;33m,\u001b[0m \u001b[1;33m**\u001b[0m\u001b[0mkwargs\u001b[0m\u001b[1;33m)\u001b[0m\u001b[1;33m\u001b[0m\u001b[1;33m\u001b[0m\u001b[0m\n",
       "\u001b[1;31mDocstring:\u001b[0m     \n",
       "datetime(year, month, day[, hour[, minute[, second[, microsecond[,tzinfo]]]]])\n",
       "\n",
       "The year, month and day arguments are required. tzinfo may be None, or an\n",
       "instance of a tzinfo subclass. The remaining arguments may be ints.\n",
       "\u001b[1;31mFile:\u001b[0m           c:\\users\\pyip\\miniconda3\\envs\\vscode-env\\lib\\datetime.py\n",
       "\u001b[1;31mType:\u001b[0m           type\n",
       "\u001b[1;31mSubclasses:\u001b[0m     ABCTimestamp, _NaT"
      ]
     },
     "metadata": {},
     "output_type": "display_data"
    }
   ],
   "source": [
    "datetime.datetime?"
   ]
  },
  {
   "cell_type": "code",
   "execution_count": 152,
   "metadata": {},
   "outputs": [],
   "source": [
    "datetime1 = datetime.datetime(2023, 9, 29, 10, 43, 35, 1)"
   ]
  },
  {
   "cell_type": "code",
   "execution_count": 153,
   "metadata": {},
   "outputs": [
    {
     "data": {
      "text/html": [
       "<div>\n",
       "<style scoped>\n",
       "    .dataframe tbody tr th:only-of-type {\n",
       "        vertical-align: middle;\n",
       "    }\n",
       "\n",
       "    .dataframe tbody tr th {\n",
       "        vertical-align: top;\n",
       "    }\n",
       "\n",
       "    .dataframe thead th {\n",
       "        text-align: right;\n",
       "    }\n",
       "</style>\n",
       "<table border=\"1\" class=\"dataframe\">\n",
       "  <thead>\n",
       "    <tr style=\"text-align: right;\">\n",
       "      <th></th>\n",
       "      <th>Type</th>\n",
       "      <th>Size/Shape</th>\n",
       "      <th>Value</th>\n",
       "    </tr>\n",
       "    <tr>\n",
       "      <th>Instance Name</th>\n",
       "      <th></th>\n",
       "      <th></th>\n",
       "      <th></th>\n",
       "    </tr>\n",
       "  </thead>\n",
       "  <tbody>\n",
       "    <tr>\n",
       "      <th>py3rd</th>\n",
       "      <td>date</td>\n",
       "      <td></td>\n",
       "      <td>2008-12-03</td>\n",
       "    </tr>\n",
       "    <tr>\n",
       "      <th>day1</th>\n",
       "      <td>date</td>\n",
       "      <td></td>\n",
       "      <td>2023-09-29</td>\n",
       "    </tr>\n",
       "    <tr>\n",
       "      <th>today</th>\n",
       "      <td>date</td>\n",
       "      <td></td>\n",
       "      <td>2024-02-09</td>\n",
       "    </tr>\n",
       "    <tr>\n",
       "      <th>day2</th>\n",
       "      <td>date</td>\n",
       "      <td></td>\n",
       "      <td>2024-02-09</td>\n",
       "    </tr>\n",
       "    <tr>\n",
       "      <th>day1a</th>\n",
       "      <td>time</td>\n",
       "      <td></td>\n",
       "      <td>12:13:14.156789</td>\n",
       "    </tr>\n",
       "    <tr>\n",
       "      <th>day1b</th>\n",
       "      <td>date</td>\n",
       "      <td></td>\n",
       "      <td>2008-12-03</td>\n",
       "    </tr>\n",
       "    <tr>\n",
       "      <th>day1c</th>\n",
       "      <td>date</td>\n",
       "      <td></td>\n",
       "      <td>2008-12-03</td>\n",
       "    </tr>\n",
       "    <tr>\n",
       "      <th>day3</th>\n",
       "      <td>date</td>\n",
       "      <td></td>\n",
       "      <td>2009-12-03</td>\n",
       "    </tr>\n",
       "    <tr>\n",
       "      <th>time1</th>\n",
       "      <td>time</td>\n",
       "      <td></td>\n",
       "      <td>10:43:35</td>\n",
       "    </tr>\n",
       "    <tr>\n",
       "      <th>time2</th>\n",
       "      <td>time</td>\n",
       "      <td></td>\n",
       "      <td>15:30:14.156789</td>\n",
       "    </tr>\n",
       "    <tr>\n",
       "      <th>time3</th>\n",
       "      <td>time</td>\n",
       "      <td></td>\n",
       "      <td>19:30:14.156789</td>\n",
       "    </tr>\n",
       "    <tr>\n",
       "      <th>datetime1</th>\n",
       "      <td>datetime</td>\n",
       "      <td></td>\n",
       "      <td>2023-09-29 10:43:35.000001</td>\n",
       "    </tr>\n",
       "  </tbody>\n",
       "</table>\n",
       "</div>"
      ],
      "text/plain": [
       "                   Type Size/Shape                       Value\n",
       "Instance Name                                                 \n",
       "py3rd              date                             2008-12-03\n",
       "day1               date                             2023-09-29\n",
       "today              date                             2024-02-09\n",
       "day2               date                             2024-02-09\n",
       "day1a              time                        12:13:14.156789\n",
       "day1b              date                             2008-12-03\n",
       "day1c              date                             2008-12-03\n",
       "day3               date                             2009-12-03\n",
       "time1              time                               10:43:35\n",
       "time2              time                        15:30:14.156789\n",
       "time3              time                        19:30:14.156789\n",
       "datetime1      datetime             2023-09-29 10:43:35.000001"
      ]
     },
     "execution_count": 153,
     "metadata": {},
     "output_type": "execute_result"
    }
   ],
   "source": [
    "variables()"
   ]
  },
  {
   "cell_type": "markdown",
   "metadata": {},
   "source": [
    "The formal and informal ```str``` representation differ for a ```datetime.datetime``` instance with the formal representation matching the way to instantiate a new ```datetime.datetime``` instance and the informal representation being similar in form similar to the iso format:"
   ]
  },
  {
   "cell_type": "code",
   "execution_count": 179,
   "metadata": {},
   "outputs": [
    {
     "data": {
      "text/plain": [
       "'datetime.datetime(2023, 9, 29, 10, 43, 35, 1)'"
      ]
     },
     "execution_count": 179,
     "metadata": {},
     "output_type": "execute_result"
    }
   ],
   "source": [
    "repr(datetime1)"
   ]
  },
  {
   "cell_type": "code",
   "execution_count": 180,
   "metadata": {},
   "outputs": [
    {
     "data": {
      "text/plain": [
       "'2023-09-29 10:43:35.000001'"
      ]
     },
     "execution_count": 180,
     "metadata": {},
     "output_type": "execute_result"
    }
   ],
   "source": [
    "str(datetime1)"
   ]
  },
  {
   "cell_type": "markdown",
   "metadata": {},
   "source": [
    "Note that there is a subtle difference between the informal ```str``` representation which uses a space between the date and time and the ```isoformat``` which uses a T between the date and time:"
   ]
  },
  {
   "cell_type": "code",
   "execution_count": 181,
   "metadata": {},
   "outputs": [
    {
     "data": {
      "text/plain": [
       "'2023-09-29T10:43:35.000001'"
      ]
     },
     "execution_count": 181,
     "metadata": {},
     "output_type": "execute_result"
    }
   ],
   "source": [
    "datetime1.isoformat()"
   ]
  },
  {
   "cell_type": "markdown",
   "metadata": {},
   "source": [
    "As a consequence the alternative constructor (class method) ```fromisoformat``` can be used to create a ```datetime.datetime``` instance from a isoformat ```str``` instance (with or without the T):"
   ]
  },
  {
   "cell_type": "code",
   "execution_count": 182,
   "metadata": {},
   "outputs": [],
   "source": [
    "datetime1a = datetime.datetime.fromisoformat('2023-09-29 10:43:35.000001')"
   ]
  },
  {
   "cell_type": "code",
   "execution_count": 183,
   "metadata": {},
   "outputs": [],
   "source": [
    "datetime1b = datetime.datetime.fromisoformat('2023-09-29T10:43:35.000001')"
   ]
  },
  {
   "cell_type": "code",
   "execution_count": 184,
   "metadata": {},
   "outputs": [
    {
     "data": {
      "text/html": [
       "<div>\n",
       "<style scoped>\n",
       "    .dataframe tbody tr th:only-of-type {\n",
       "        vertical-align: middle;\n",
       "    }\n",
       "\n",
       "    .dataframe tbody tr th {\n",
       "        vertical-align: top;\n",
       "    }\n",
       "\n",
       "    .dataframe thead th {\n",
       "        text-align: right;\n",
       "    }\n",
       "</style>\n",
       "<table border=\"1\" class=\"dataframe\">\n",
       "  <thead>\n",
       "    <tr style=\"text-align: right;\">\n",
       "      <th></th>\n",
       "      <th>Type</th>\n",
       "      <th>Size/Shape</th>\n",
       "      <th>Value</th>\n",
       "    </tr>\n",
       "    <tr>\n",
       "      <th>Instance Name</th>\n",
       "      <th></th>\n",
       "      <th></th>\n",
       "      <th></th>\n",
       "    </tr>\n",
       "  </thead>\n",
       "  <tbody>\n",
       "    <tr>\n",
       "      <th>py3rd</th>\n",
       "      <td>date</td>\n",
       "      <td></td>\n",
       "      <td>2008-12-03</td>\n",
       "    </tr>\n",
       "    <tr>\n",
       "      <th>day1</th>\n",
       "      <td>date</td>\n",
       "      <td></td>\n",
       "      <td>2023-09-29</td>\n",
       "    </tr>\n",
       "    <tr>\n",
       "      <th>today</th>\n",
       "      <td>date</td>\n",
       "      <td></td>\n",
       "      <td>2024-02-09</td>\n",
       "    </tr>\n",
       "    <tr>\n",
       "      <th>day2</th>\n",
       "      <td>date</td>\n",
       "      <td></td>\n",
       "      <td>2024-02-09</td>\n",
       "    </tr>\n",
       "    <tr>\n",
       "      <th>day1a</th>\n",
       "      <td>time</td>\n",
       "      <td></td>\n",
       "      <td>12:13:14.156789</td>\n",
       "    </tr>\n",
       "    <tr>\n",
       "      <th>day1b</th>\n",
       "      <td>date</td>\n",
       "      <td></td>\n",
       "      <td>2008-12-03</td>\n",
       "    </tr>\n",
       "    <tr>\n",
       "      <th>day1c</th>\n",
       "      <td>date</td>\n",
       "      <td></td>\n",
       "      <td>2008-12-03</td>\n",
       "    </tr>\n",
       "    <tr>\n",
       "      <th>day3</th>\n",
       "      <td>date</td>\n",
       "      <td></td>\n",
       "      <td>2009-12-03</td>\n",
       "    </tr>\n",
       "    <tr>\n",
       "      <th>time1</th>\n",
       "      <td>time</td>\n",
       "      <td></td>\n",
       "      <td>10:43:35</td>\n",
       "    </tr>\n",
       "    <tr>\n",
       "      <th>time2</th>\n",
       "      <td>time</td>\n",
       "      <td></td>\n",
       "      <td>15:30:14.156789</td>\n",
       "    </tr>\n",
       "    <tr>\n",
       "      <th>time3</th>\n",
       "      <td>time</td>\n",
       "      <td></td>\n",
       "      <td>19:30:14.156789</td>\n",
       "    </tr>\n",
       "    <tr>\n",
       "      <th>datetime1</th>\n",
       "      <td>datetime</td>\n",
       "      <td></td>\n",
       "      <td>2023-09-29 10:43:35.000001</td>\n",
       "    </tr>\n",
       "    <tr>\n",
       "      <th>datetime1a</th>\n",
       "      <td>datetime</td>\n",
       "      <td></td>\n",
       "      <td>2023-09-29 10:43:35.000001</td>\n",
       "    </tr>\n",
       "    <tr>\n",
       "      <th>datetime1b</th>\n",
       "      <td>datetime</td>\n",
       "      <td></td>\n",
       "      <td>2023-09-29 10:43:35.000001</td>\n",
       "    </tr>\n",
       "  </tbody>\n",
       "</table>\n",
       "</div>"
      ],
      "text/plain": [
       "                   Type Size/Shape                       Value\n",
       "Instance Name                                                 \n",
       "py3rd              date                             2008-12-03\n",
       "day1               date                             2023-09-29\n",
       "today              date                             2024-02-09\n",
       "day2               date                             2024-02-09\n",
       "day1a              time                        12:13:14.156789\n",
       "day1b              date                             2008-12-03\n",
       "day1c              date                             2008-12-03\n",
       "day3               date                             2009-12-03\n",
       "time1              time                               10:43:35\n",
       "time2              time                        15:30:14.156789\n",
       "time3              time                        19:30:14.156789\n",
       "datetime1      datetime             2023-09-29 10:43:35.000001\n",
       "datetime1a     datetime             2023-09-29 10:43:35.000001\n",
       "datetime1b     datetime             2023-09-29 10:43:35.000001"
      ]
     },
     "execution_count": 184,
     "metadata": {},
     "output_type": "execute_result"
    }
   ],
   "source": [
    "variables()"
   ]
  },
  {
   "attachments": {},
   "cell_type": "markdown",
   "metadata": {},
   "source": [
    "The ```datetime.datetime``` attributes corresponding to each unit can be read off:"
   ]
  },
  {
   "cell_type": "code",
   "execution_count": 154,
   "metadata": {},
   "outputs": [
    {
     "data": {
      "text/plain": [
       "2023"
      ]
     },
     "execution_count": 154,
     "metadata": {},
     "output_type": "execute_result"
    }
   ],
   "source": [
    "datetime1.year"
   ]
  },
  {
   "cell_type": "code",
   "execution_count": 155,
   "metadata": {},
   "outputs": [
    {
     "data": {
      "text/plain": [
       "9"
      ]
     },
     "execution_count": 155,
     "metadata": {},
     "output_type": "execute_result"
    }
   ],
   "source": [
    "datetime1.month"
   ]
  },
  {
   "cell_type": "code",
   "execution_count": 156,
   "metadata": {},
   "outputs": [
    {
     "data": {
      "text/plain": [
       "29"
      ]
     },
     "execution_count": 156,
     "metadata": {},
     "output_type": "execute_result"
    }
   ],
   "source": [
    "datetime1.day"
   ]
  },
  {
   "cell_type": "code",
   "execution_count": 157,
   "metadata": {},
   "outputs": [
    {
     "data": {
      "text/plain": [
       "10"
      ]
     },
     "execution_count": 157,
     "metadata": {},
     "output_type": "execute_result"
    }
   ],
   "source": [
    "datetime1.hour"
   ]
  },
  {
   "cell_type": "code",
   "execution_count": 158,
   "metadata": {},
   "outputs": [
    {
     "data": {
      "text/plain": [
       "43"
      ]
     },
     "execution_count": 158,
     "metadata": {},
     "output_type": "execute_result"
    }
   ],
   "source": [
    "datetime1.minute"
   ]
  },
  {
   "cell_type": "code",
   "execution_count": 161,
   "metadata": {},
   "outputs": [
    {
     "data": {
      "text/plain": [
       "35"
      ]
     },
     "execution_count": 161,
     "metadata": {},
     "output_type": "execute_result"
    }
   ],
   "source": [
    "datetime1.second"
   ]
  },
  {
   "cell_type": "code",
   "execution_count": 162,
   "metadata": {},
   "outputs": [
    {
     "data": {
      "text/plain": [
       "1"
      ]
     },
     "execution_count": 162,
     "metadata": {},
     "output_type": "execute_result"
    }
   ],
   "source": [
    "datetime1.microsecond"
   ]
  },
  {
   "attachments": {},
   "cell_type": "markdown",
   "metadata": {},
   "source": [
    "The attributes ```min``` and ```max``` are class attributes and give the minimum and maximum possible ```datetime.datetime``` instance which are a combination of the ```datetime.date``` and ```datetime.time``` attributes ```min``` and ```max```:"
   ]
  },
  {
   "cell_type": "code",
   "execution_count": 163,
   "metadata": {},
   "outputs": [
    {
     "data": {
      "text/plain": [
       "datetime.datetime(1, 1, 1, 0, 0)"
      ]
     },
     "execution_count": 163,
     "metadata": {},
     "output_type": "execute_result"
    }
   ],
   "source": [
    "datetime.datetime.min"
   ]
  },
  {
   "cell_type": "code",
   "execution_count": 165,
   "metadata": {},
   "outputs": [
    {
     "data": {
      "text/plain": [
       "datetime.date(1, 1, 1)"
      ]
     },
     "execution_count": 165,
     "metadata": {},
     "output_type": "execute_result"
    }
   ],
   "source": [
    "datetime.date.min"
   ]
  },
  {
   "cell_type": "code",
   "execution_count": 166,
   "metadata": {},
   "outputs": [
    {
     "data": {
      "text/plain": [
       "datetime.time(0, 0)"
      ]
     },
     "execution_count": 166,
     "metadata": {},
     "output_type": "execute_result"
    }
   ],
   "source": [
    "datetime.time.min"
   ]
  },
  {
   "cell_type": "code",
   "execution_count": 168,
   "metadata": {},
   "outputs": [
    {
     "data": {
      "text/plain": [
       "datetime.datetime(9999, 12, 31, 23, 59, 59, 999999)"
      ]
     },
     "execution_count": 168,
     "metadata": {},
     "output_type": "execute_result"
    }
   ],
   "source": [
    "datetime.datetime.max"
   ]
  },
  {
   "cell_type": "code",
   "execution_count": 169,
   "metadata": {},
   "outputs": [
    {
     "data": {
      "text/plain": [
       "datetime.date(9999, 12, 31)"
      ]
     },
     "execution_count": 169,
     "metadata": {},
     "output_type": "execute_result"
    }
   ],
   "source": [
    "datetime.date.max"
   ]
  },
  {
   "cell_type": "code",
   "execution_count": 170,
   "metadata": {},
   "outputs": [
    {
     "data": {
      "text/plain": [
       "datetime.time(23, 59, 59, 999999)"
      ]
     },
     "execution_count": 170,
     "metadata": {},
     "output_type": "execute_result"
    }
   ],
   "source": [
    "datetime.time.max"
   ]
  },
  {
   "attachments": {},
   "cell_type": "markdown",
   "metadata": {},
   "source": [
    "Once again do not confuse the attribute ```min``` with ```minute```."
   ]
  },
  {
   "attachments": {},
   "cell_type": "markdown",
   "metadata": {},
   "source": [
    "The class attribute ```resolution```, gives the time resolution of the ```datetime.datetime``` instance, as a ```datetime.timedelta``` instance:"
   ]
  },
  {
   "cell_type": "code",
   "execution_count": 171,
   "metadata": {},
   "outputs": [
    {
     "data": {
      "text/plain": [
       "datetime.timedelta(microseconds=1)"
      ]
     },
     "execution_count": 171,
     "metadata": {},
     "output_type": "execute_result"
    }
   ],
   "source": [
    "datetime.datetime.resolution"
   ]
  },
  {
   "attachments": {},
   "cell_type": "markdown",
   "metadata": {},
   "source": [
    "Note this is in microseconds which corresponds to the lowest unit possible for the ```datetime.datetime``` instance. \n",
    "\n",
    "The ```date``` and ```time``` methods return a ```datetime.date``` and ```datetime.time``` instance respectively:"
   ]
  },
  {
   "cell_type": "code",
   "execution_count": 172,
   "metadata": {},
   "outputs": [
    {
     "data": {
      "text/plain": [
       "datetime.date(2023, 9, 29)"
      ]
     },
     "execution_count": 172,
     "metadata": {},
     "output_type": "execute_result"
    }
   ],
   "source": [
    "datetime1.date()"
   ]
  },
  {
   "cell_type": "code",
   "execution_count": 173,
   "metadata": {},
   "outputs": [
    {
     "data": {
      "text/plain": [
       "datetime.time(10, 43, 35, 1)"
      ]
     },
     "execution_count": 173,
     "metadata": {},
     "output_type": "execute_result"
    }
   ],
   "source": [
    "datetime1.time()"
   ]
  },
  {
   "attachments": {},
   "cell_type": "markdown",
   "metadata": {},
   "source": [
    "The alternative constructor combine can be used to combine a ```datetime.date``` and ```datetime.time``` instance:"
   ]
  },
  {
   "cell_type": "code",
   "execution_count": 178,
   "metadata": {},
   "outputs": [
    {
     "data": {
      "text/plain": [
       "datetime.datetime(2023, 9, 29, 10, 43, 35)"
      ]
     },
     "execution_count": 178,
     "metadata": {},
     "output_type": "execute_result"
    }
   ],
   "source": [
    "datetime1.combine(day1, time1)"
   ]
  },
  {
   "cell_type": "code",
   "execution_count": null,
   "metadata": {},
   "outputs": [],
   "source": [
    "datetime.fromisoformat('2008-12-03 20:21:23')"
   ]
  },
  {
   "attachments": {},
   "cell_type": "markdown",
   "metadata": {},
   "source": [
    "The weekday and the isoweekday use the date related information and return a zero-order indexed week day and 1st order indexed week day respectively:"
   ]
  },
  {
   "cell_type": "code",
   "execution_count": 185,
   "metadata": {},
   "outputs": [
    {
     "data": {
      "text/plain": [
       "4"
      ]
     },
     "execution_count": 185,
     "metadata": {},
     "output_type": "execute_result"
    }
   ],
   "source": [
    "datetime1.weekday()"
   ]
  },
  {
   "cell_type": "code",
   "execution_count": 186,
   "metadata": {},
   "outputs": [
    {
     "data": {
      "text/plain": [
       "4"
      ]
     },
     "execution_count": 186,
     "metadata": {},
     "output_type": "execute_result"
    }
   ],
   "source": [
    "datetime1.weekday()"
   ]
  },
  {
   "cell_type": "code",
   "execution_count": 187,
   "metadata": {},
   "outputs": [
    {
     "data": {
      "text/plain": [
       "4"
      ]
     },
     "execution_count": 187,
     "metadata": {},
     "output_type": "execute_result"
    }
   ],
   "source": [
    "datetime1.weekday()"
   ]
  },
  {
   "cell_type": "code",
   "execution_count": 188,
   "metadata": {},
   "outputs": [
    {
     "data": {
      "text/plain": [
       "5"
      ]
     },
     "execution_count": 188,
     "metadata": {},
     "output_type": "execute_result"
    }
   ],
   "source": [
    "datetime1.isoweekday()"
   ]
  },
  {
   "cell_type": "markdown",
   "metadata": {},
   "source": [
    "The alternative constructor (class method) ```now``` will create a ```datetime.datetime``` instance from the system clock:"
   ]
  },
  {
   "cell_type": "code",
   "execution_count": 190,
   "metadata": {},
   "outputs": [],
   "source": [
    "datetime2 = datetime.datetime.now()"
   ]
  },
  {
   "cell_type": "code",
   "execution_count": 191,
   "metadata": {},
   "outputs": [
    {
     "data": {
      "text/html": [
       "<div>\n",
       "<style scoped>\n",
       "    .dataframe tbody tr th:only-of-type {\n",
       "        vertical-align: middle;\n",
       "    }\n",
       "\n",
       "    .dataframe tbody tr th {\n",
       "        vertical-align: top;\n",
       "    }\n",
       "\n",
       "    .dataframe thead th {\n",
       "        text-align: right;\n",
       "    }\n",
       "</style>\n",
       "<table border=\"1\" class=\"dataframe\">\n",
       "  <thead>\n",
       "    <tr style=\"text-align: right;\">\n",
       "      <th></th>\n",
       "      <th>Type</th>\n",
       "      <th>Size/Shape</th>\n",
       "      <th>Value</th>\n",
       "    </tr>\n",
       "    <tr>\n",
       "      <th>Instance Name</th>\n",
       "      <th></th>\n",
       "      <th></th>\n",
       "      <th></th>\n",
       "    </tr>\n",
       "  </thead>\n",
       "  <tbody>\n",
       "    <tr>\n",
       "      <th>py3rd</th>\n",
       "      <td>date</td>\n",
       "      <td></td>\n",
       "      <td>2008-12-03</td>\n",
       "    </tr>\n",
       "    <tr>\n",
       "      <th>day1</th>\n",
       "      <td>date</td>\n",
       "      <td></td>\n",
       "      <td>2023-09-29</td>\n",
       "    </tr>\n",
       "    <tr>\n",
       "      <th>today</th>\n",
       "      <td>date</td>\n",
       "      <td></td>\n",
       "      <td>2024-02-09</td>\n",
       "    </tr>\n",
       "    <tr>\n",
       "      <th>day2</th>\n",
       "      <td>date</td>\n",
       "      <td></td>\n",
       "      <td>2024-02-09</td>\n",
       "    </tr>\n",
       "    <tr>\n",
       "      <th>day1a</th>\n",
       "      <td>time</td>\n",
       "      <td></td>\n",
       "      <td>12:13:14.156789</td>\n",
       "    </tr>\n",
       "    <tr>\n",
       "      <th>day1b</th>\n",
       "      <td>date</td>\n",
       "      <td></td>\n",
       "      <td>2008-12-03</td>\n",
       "    </tr>\n",
       "    <tr>\n",
       "      <th>day1c</th>\n",
       "      <td>date</td>\n",
       "      <td></td>\n",
       "      <td>2008-12-03</td>\n",
       "    </tr>\n",
       "    <tr>\n",
       "      <th>day3</th>\n",
       "      <td>date</td>\n",
       "      <td></td>\n",
       "      <td>2009-12-03</td>\n",
       "    </tr>\n",
       "    <tr>\n",
       "      <th>time1</th>\n",
       "      <td>time</td>\n",
       "      <td></td>\n",
       "      <td>10:43:35</td>\n",
       "    </tr>\n",
       "    <tr>\n",
       "      <th>time2</th>\n",
       "      <td>time</td>\n",
       "      <td></td>\n",
       "      <td>15:30:14.156789</td>\n",
       "    </tr>\n",
       "    <tr>\n",
       "      <th>time3</th>\n",
       "      <td>time</td>\n",
       "      <td></td>\n",
       "      <td>19:30:14.156789</td>\n",
       "    </tr>\n",
       "    <tr>\n",
       "      <th>datetime1</th>\n",
       "      <td>datetime</td>\n",
       "      <td></td>\n",
       "      <td>2023-09-29 10:43:35.000001</td>\n",
       "    </tr>\n",
       "    <tr>\n",
       "      <th>datetime1a</th>\n",
       "      <td>datetime</td>\n",
       "      <td></td>\n",
       "      <td>2023-09-29 10:43:35.000001</td>\n",
       "    </tr>\n",
       "    <tr>\n",
       "      <th>datetime1b</th>\n",
       "      <td>datetime</td>\n",
       "      <td></td>\n",
       "      <td>2023-09-29 10:43:35.000001</td>\n",
       "    </tr>\n",
       "    <tr>\n",
       "      <th>datetime2</th>\n",
       "      <td>datetime</td>\n",
       "      <td></td>\n",
       "      <td>2024-02-09 15:49:56.187930</td>\n",
       "    </tr>\n",
       "  </tbody>\n",
       "</table>\n",
       "</div>"
      ],
      "text/plain": [
       "                   Type Size/Shape                       Value\n",
       "Instance Name                                                 \n",
       "py3rd              date                             2008-12-03\n",
       "day1               date                             2023-09-29\n",
       "today              date                             2024-02-09\n",
       "day2               date                             2024-02-09\n",
       "day1a              time                        12:13:14.156789\n",
       "day1b              date                             2008-12-03\n",
       "day1c              date                             2008-12-03\n",
       "day3               date                             2009-12-03\n",
       "time1              time                               10:43:35\n",
       "time2              time                        15:30:14.156789\n",
       "time3              time                        19:30:14.156789\n",
       "datetime1      datetime             2023-09-29 10:43:35.000001\n",
       "datetime1a     datetime             2023-09-29 10:43:35.000001\n",
       "datetime1b     datetime             2023-09-29 10:43:35.000001\n",
       "datetime2      datetime             2024-02-09 15:49:56.187930"
      ]
     },
     "execution_count": 191,
     "metadata": {},
     "output_type": "execute_result"
    }
   ],
   "source": [
    "variables()"
   ]
  },
  {
   "attachments": {},
   "cell_type": "markdown",
   "metadata": {},
   "source": [
    "All of the alternative constructors seen in the ```datetime.date``` class have consistent counterparts in the ```datetime.datetime``` class which include:"
   ]
  },
  {
   "attachments": {},
   "cell_type": "markdown",
   "metadata": {},
   "source": [
    "|to|from|\n",
    "|---|---|\n",
    "|isocalendar|fromisocalandar|\n",
    "|toordinal|fromordinal|\n",
    "|timestamp|fromtimestamp|\n",
    "|timetuple||\n",
    "|ctime||"
   ]
  },
  {
   "attachments": {},
   "cell_type": "markdown",
   "metadata": {},
   "source": [
    "The instance ```datetime1``` can be converted to these other formats using:"
   ]
  },
  {
   "cell_type": "code",
   "execution_count": 192,
   "metadata": {},
   "outputs": [
    {
     "data": {
      "text/plain": [
       "738792"
      ]
     },
     "execution_count": 192,
     "metadata": {},
     "output_type": "execute_result"
    }
   ],
   "source": [
    "datetime1.toordinal()"
   ]
  },
  {
   "cell_type": "code",
   "execution_count": 193,
   "metadata": {},
   "outputs": [
    {
     "data": {
      "text/plain": [
       "1695980615.000001"
      ]
     },
     "execution_count": 193,
     "metadata": {},
     "output_type": "execute_result"
    }
   ],
   "source": [
    "datetime1.timestamp()"
   ]
  },
  {
   "cell_type": "code",
   "execution_count": 194,
   "metadata": {},
   "outputs": [
    {
     "data": {
      "text/plain": [
       "time.struct_time(tm_year=2023, tm_mon=9, tm_mday=29, tm_hour=10, tm_min=43, tm_sec=35, tm_wday=4, tm_yday=272, tm_isdst=-1)"
      ]
     },
     "execution_count": 194,
     "metadata": {},
     "output_type": "execute_result"
    }
   ],
   "source": [
    "datetime1.timetuple()"
   ]
  },
  {
   "cell_type": "code",
   "execution_count": 195,
   "metadata": {},
   "outputs": [
    {
     "data": {
      "text/plain": [
       "'Fri Sep 29 10:43:35 2023'"
      ]
     },
     "execution_count": 195,
     "metadata": {},
     "output_type": "execute_result"
    }
   ],
   "source": [
    "datetime1.ctime()"
   ]
  },
  {
   "attachments": {},
   "cell_type": "markdown",
   "metadata": {},
   "source": [
    "A formatted ```str``` for the ```datetime.datetime``` instance can be created using ```strftime```. Both the format specifiers from the ```datetime.date``` and ```datetime.time``` instance are recognised:\n",
    "\n",
    "* Lowercase format codes are used for a date ```%y```, ```%m```, ```%d``` in a ```2``` digit format\n",
    "* Uppercase format code ```%Y``` is used for a ```4``` digit format for a year\n",
    "* Uppercase format code ```%D``` is used for a date in the US format ```'mm/dd/yy'```\n",
    "* Uppercase format codes are used for a time ```%H```, ```%M```, ```%S```\n",
    "* Lowercase format code ```%f``` is used for the microseconds."
   ]
  },
  {
   "attachments": {},
   "cell_type": "markdown",
   "metadata": {},
   "source": [
    "This can be used to construct a datetime ```str``` instance in the UK format for example:"
   ]
  },
  {
   "cell_type": "code",
   "execution_count": 196,
   "metadata": {},
   "outputs": [
    {
     "data": {
      "text/plain": [
       "'10:43:35 29/09/2023'"
      ]
     },
     "execution_count": 196,
     "metadata": {},
     "output_type": "execute_result"
    }
   ],
   "source": [
    "datetime1.strftime(r'%H:%M:%S %d/%m/%Y')"
   ]
  },
  {
   "attachments": {},
   "cell_type": "markdown",
   "metadata": {},
   "source": [
    "The method ```replace``` can be used to create a new instance where one or more of the units are changed:"
   ]
  },
  {
   "cell_type": "code",
   "execution_count": 197,
   "metadata": {},
   "outputs": [],
   "source": [
    "datetime3 = datetime1.replace(year=2019, second=52)"
   ]
  },
  {
   "cell_type": "code",
   "execution_count": 198,
   "metadata": {},
   "outputs": [
    {
     "data": {
      "text/html": [
       "<div>\n",
       "<style scoped>\n",
       "    .dataframe tbody tr th:only-of-type {\n",
       "        vertical-align: middle;\n",
       "    }\n",
       "\n",
       "    .dataframe tbody tr th {\n",
       "        vertical-align: top;\n",
       "    }\n",
       "\n",
       "    .dataframe thead th {\n",
       "        text-align: right;\n",
       "    }\n",
       "</style>\n",
       "<table border=\"1\" class=\"dataframe\">\n",
       "  <thead>\n",
       "    <tr style=\"text-align: right;\">\n",
       "      <th></th>\n",
       "      <th>Type</th>\n",
       "      <th>Size/Shape</th>\n",
       "      <th>Value</th>\n",
       "    </tr>\n",
       "    <tr>\n",
       "      <th>Instance Name</th>\n",
       "      <th></th>\n",
       "      <th></th>\n",
       "      <th></th>\n",
       "    </tr>\n",
       "  </thead>\n",
       "  <tbody>\n",
       "    <tr>\n",
       "      <th>py3rd</th>\n",
       "      <td>date</td>\n",
       "      <td></td>\n",
       "      <td>2008-12-03</td>\n",
       "    </tr>\n",
       "    <tr>\n",
       "      <th>day1</th>\n",
       "      <td>date</td>\n",
       "      <td></td>\n",
       "      <td>2023-09-29</td>\n",
       "    </tr>\n",
       "    <tr>\n",
       "      <th>today</th>\n",
       "      <td>date</td>\n",
       "      <td></td>\n",
       "      <td>2024-02-09</td>\n",
       "    </tr>\n",
       "    <tr>\n",
       "      <th>day2</th>\n",
       "      <td>date</td>\n",
       "      <td></td>\n",
       "      <td>2024-02-09</td>\n",
       "    </tr>\n",
       "    <tr>\n",
       "      <th>day1a</th>\n",
       "      <td>time</td>\n",
       "      <td></td>\n",
       "      <td>12:13:14.156789</td>\n",
       "    </tr>\n",
       "    <tr>\n",
       "      <th>day1b</th>\n",
       "      <td>date</td>\n",
       "      <td></td>\n",
       "      <td>2008-12-03</td>\n",
       "    </tr>\n",
       "    <tr>\n",
       "      <th>day1c</th>\n",
       "      <td>date</td>\n",
       "      <td></td>\n",
       "      <td>2008-12-03</td>\n",
       "    </tr>\n",
       "    <tr>\n",
       "      <th>day3</th>\n",
       "      <td>date</td>\n",
       "      <td></td>\n",
       "      <td>2009-12-03</td>\n",
       "    </tr>\n",
       "    <tr>\n",
       "      <th>time1</th>\n",
       "      <td>time</td>\n",
       "      <td></td>\n",
       "      <td>10:43:35</td>\n",
       "    </tr>\n",
       "    <tr>\n",
       "      <th>time2</th>\n",
       "      <td>time</td>\n",
       "      <td></td>\n",
       "      <td>15:30:14.156789</td>\n",
       "    </tr>\n",
       "    <tr>\n",
       "      <th>time3</th>\n",
       "      <td>time</td>\n",
       "      <td></td>\n",
       "      <td>19:30:14.156789</td>\n",
       "    </tr>\n",
       "    <tr>\n",
       "      <th>datetime1</th>\n",
       "      <td>datetime</td>\n",
       "      <td></td>\n",
       "      <td>2023-09-29 10:43:35.000001</td>\n",
       "    </tr>\n",
       "    <tr>\n",
       "      <th>datetime1a</th>\n",
       "      <td>datetime</td>\n",
       "      <td></td>\n",
       "      <td>2023-09-29 10:43:35.000001</td>\n",
       "    </tr>\n",
       "    <tr>\n",
       "      <th>datetime1b</th>\n",
       "      <td>datetime</td>\n",
       "      <td></td>\n",
       "      <td>2023-09-29 10:43:35.000001</td>\n",
       "    </tr>\n",
       "    <tr>\n",
       "      <th>datetime2</th>\n",
       "      <td>datetime</td>\n",
       "      <td></td>\n",
       "      <td>2024-02-09 15:49:56.187930</td>\n",
       "    </tr>\n",
       "    <tr>\n",
       "      <th>datetime3</th>\n",
       "      <td>datetime</td>\n",
       "      <td></td>\n",
       "      <td>2019-09-29 10:43:52.000001</td>\n",
       "    </tr>\n",
       "  </tbody>\n",
       "</table>\n",
       "</div>"
      ],
      "text/plain": [
       "                   Type Size/Shape                       Value\n",
       "Instance Name                                                 \n",
       "py3rd              date                             2008-12-03\n",
       "day1               date                             2023-09-29\n",
       "today              date                             2024-02-09\n",
       "day2               date                             2024-02-09\n",
       "day1a              time                        12:13:14.156789\n",
       "day1b              date                             2008-12-03\n",
       "day1c              date                             2008-12-03\n",
       "day3               date                             2009-12-03\n",
       "time1              time                               10:43:35\n",
       "time2              time                        15:30:14.156789\n",
       "time3              time                        19:30:14.156789\n",
       "datetime1      datetime             2023-09-29 10:43:35.000001\n",
       "datetime1a     datetime             2023-09-29 10:43:35.000001\n",
       "datetime1b     datetime             2023-09-29 10:43:35.000001\n",
       "datetime2      datetime             2024-02-09 15:49:56.187930\n",
       "datetime3      datetime             2019-09-29 10:43:52.000001"
      ]
     },
     "execution_count": 198,
     "metadata": {},
     "output_type": "execute_result"
    }
   ],
   "source": [
    "variables()"
   ]
  },
  {
   "attachments": {},
   "cell_type": "markdown",
   "metadata": {},
   "source": [
    "```datetime.datetime``` instances are ordinal so the comparison operators are defined:"
   ]
  },
  {
   "cell_type": "code",
   "execution_count": 199,
   "metadata": {},
   "outputs": [
    {
     "data": {
      "text/plain": [
       "False"
      ]
     },
     "execution_count": 199,
     "metadata": {},
     "output_type": "execute_result"
    }
   ],
   "source": [
    "datetime1 == datetime2"
   ]
  },
  {
   "cell_type": "code",
   "execution_count": 200,
   "metadata": {},
   "outputs": [
    {
     "data": {
      "text/plain": [
       "False"
      ]
     },
     "execution_count": 200,
     "metadata": {},
     "output_type": "execute_result"
    }
   ],
   "source": [
    "datetime1 > datetime2"
   ]
  },
  {
   "attachments": {},
   "cell_type": "markdown",
   "metadata": {},
   "source": [
    "The datamodel method ```__sub__``` and ```___add__``` are defined in a consistent manner to the ```datetime.date``` class. This means the ```-``` computes the time difference between two ```datetime.datetime``` instances, returning a ```datetime.timedelta``` instance:"
   ]
  },
  {
   "cell_type": "code",
   "execution_count": 201,
   "metadata": {},
   "outputs": [
    {
     "data": {
      "text/plain": [
       "datetime.timedelta(days=133, seconds=18381, microseconds=187929)"
      ]
     },
     "execution_count": 201,
     "metadata": {},
     "output_type": "execute_result"
    }
   ],
   "source": [
    "datetime2 - datetime1"
   ]
  },
  {
   "attachments": {},
   "cell_type": "markdown",
   "metadata": {},
   "source": [
    "And ```+``` can be used to add a ```datetime.datetime``` and ```datetime.timedelta``` instance returning a ```datetime.datetime``` instance:"
   ]
  },
  {
   "cell_type": "code",
   "execution_count": 202,
   "metadata": {},
   "outputs": [
    {
     "data": {
      "text/plain": [
       "datetime.datetime(2024, 6, 21, 20, 56, 17, 375859)"
      ]
     },
     "execution_count": 202,
     "metadata": {},
     "output_type": "execute_result"
    }
   ],
   "source": [
    "datetime2 + datetime.timedelta(days=133, seconds=18381, microseconds=187929)"
   ]
  },
  {
   "attachments": {},
   "cell_type": "markdown",
   "metadata": {},
   "source": [
    "## Timedelta"
   ]
  },
  {
   "attachments": {},
   "cell_type": "markdown",
   "metadata": {},
   "source": [
    "A timedelta is a time difference; instances of the timedelta class were seen when subtracting two date or datetime instances from one another. The initialisation signature of this class can be examined:"
   ]
  },
  {
   "cell_type": "code",
   "execution_count": null,
   "metadata": {},
   "outputs": [],
   "source": [
    "? timedelta"
   ]
  },
  {
   "attachments": {},
   "cell_type": "markdown",
   "metadata": {},
   "source": [
    "Notice the keyword input arguments by largest to smallest are weeks, days, hours, minutes, seconds, milliseconds and microseconds. \n",
    "\n",
    "days is first as its the only input argument used for a timedelta involving two date instances.\n",
    "\n",
    "seconds is next as this unit is the most commonly used timedeltas when dealing with datetime instances that are more commonly expressed to a second.\n",
    "\n",
    "However since these are keyword arguments they can be assigned in any order, defaulting to 0 when not implied."
   ]
  },
  {
   "attachments": {},
   "cell_type": "markdown",
   "metadata": {},
   "source": [
    "The revolution of the earth is 365 days, 6 hours and 9 minutes:"
   ]
  },
  {
   "attachments": {},
   "cell_type": "markdown",
   "metadata": {},
   "source": [
    "The timedelta is expressed in days and seconds by default:"
   ]
  },
  {
   "cell_type": "code",
   "execution_count": null,
   "metadata": {},
   "outputs": [],
   "source": [
    "duration = timedelta(days=365, hours=6, minutes=9)\n",
    "duration"
   ]
  },
  {
   "attachments": {},
   "cell_type": "markdown",
   "metadata": {},
   "source": [
    "The attributes and methods from the timedelta class can be examined:"
   ]
  },
  {
   "cell_type": "code",
   "execution_count": null,
   "metadata": {},
   "outputs": [],
   "source": [
    "for identifier in dir(timedelta):\n",
    "    if not callable(getattr(timedelta, identifier)):\n",
    "        print(identifier, end=' ')"
   ]
  },
  {
   "cell_type": "code",
   "execution_count": null,
   "metadata": {},
   "outputs": [],
   "source": [
    "for identifier in dir(timedelta):\n",
    "    if callable(getattr(timedelta, identifier)):\n",
    "        print(identifier, end=' ')"
   ]
  },
  {
   "attachments": {},
   "cell_type": "markdown",
   "metadata": {},
   "source": [
    "The attributes days and seconds give the duration in days and seconds:"
   ]
  },
  {
   "cell_type": "code",
   "execution_count": null,
   "metadata": {},
   "outputs": [],
   "source": [
    "duration"
   ]
  },
  {
   "cell_type": "code",
   "execution_count": null,
   "metadata": {},
   "outputs": [],
   "source": [
    "duration.days"
   ]
  },
  {
   "cell_type": "code",
   "execution_count": null,
   "metadata": {},
   "outputs": [],
   "source": [
    "duration.seconds"
   ]
  },
  {
   "attachments": {},
   "cell_type": "markdown",
   "metadata": {},
   "source": [
    "The method total seconds converts the years into seconds and returns the total time in seconds:"
   ]
  },
  {
   "cell_type": "code",
   "execution_count": null,
   "metadata": {},
   "outputs": [],
   "source": [
    "duration.total_seconds()"
   ]
  },
  {
   "attachments": {},
   "cell_type": "markdown",
   "metadata": {},
   "source": [
    "This method essentially calculates:"
   ]
  },
  {
   "cell_type": "code",
   "execution_count": null,
   "metadata": {},
   "outputs": [],
   "source": [
    "duration.days * (24 * 60 * 60) + duration.seconds"
   ]
  },
  {
   "attachments": {},
   "cell_type": "markdown",
   "metadata": {},
   "source": [
    "The class attributes min and max give the minimum and maximum possible datetime instance. Notice these are negative and positive as time differences can be negative or positive:"
   ]
  },
  {
   "cell_type": "code",
   "execution_count": null,
   "metadata": {},
   "outputs": [],
   "source": [
    "timedelta.min"
   ]
  },
  {
   "cell_type": "code",
   "execution_count": null,
   "metadata": {},
   "outputs": [],
   "source": [
    "timedelta.max"
   ]
  },
  {
   "attachments": {},
   "cell_type": "markdown",
   "metadata": {},
   "source": [
    "And the class attribute gives the timedelta resolution which is in microseconds:"
   ]
  },
  {
   "cell_type": "code",
   "execution_count": null,
   "metadata": {},
   "outputs": [],
   "source": [
    "timedelta.resolution"
   ]
  },
  {
   "attachments": {},
   "cell_type": "markdown",
   "metadata": {},
   "source": [
    "The \\_\\_class\\_\\_ data model identifier is used to return the class using the builtins class type:"
   ]
  },
  {
   "cell_type": "code",
   "execution_count": null,
   "metadata": {},
   "outputs": [],
   "source": [
    "type(duration)"
   ]
  },
  {
   "attachments": {},
   "cell_type": "markdown",
   "metadata": {},
   "source": [
    "The formal and informal string representation are slightly different. The formal representation shows the timedelta in days and seconds and the informal representation shows the second components in hours, minutes and seconds:"
   ]
  },
  {
   "cell_type": "code",
   "execution_count": null,
   "metadata": {},
   "outputs": [],
   "source": [
    "repr(duration)"
   ]
  },
  {
   "cell_type": "code",
   "execution_count": null,
   "metadata": {},
   "outputs": [],
   "source": [
    "print(duration)"
   ]
  },
  {
   "attachments": {},
   "cell_type": "markdown",
   "metadata": {},
   "source": [
    "The timedelta has most the numeric data model methods. For example the unitary data model methods \\_\\_abs\\_\\_, \\_\\_pos\\_\\_ and \\_\\_neg\\_\\_:"
   ]
  },
  {
   "cell_type": "code",
   "execution_count": null,
   "metadata": {},
   "outputs": [],
   "source": [
    "abs(duration)"
   ]
  },
  {
   "cell_type": "code",
   "execution_count": null,
   "metadata": {},
   "outputs": [],
   "source": [
    "+duration"
   ]
  },
  {
   "cell_type": "code",
   "execution_count": null,
   "metadata": {},
   "outputs": [],
   "source": [
    "-duration"
   ]
  },
  {
   "attachments": {},
   "cell_type": "markdown",
   "metadata": {},
   "source": [
    "The binary data model identifiers \\_\\_add\\_\\_, \\_\\_sub\\_\\_, \\_\\_mul\\_\\_, \\_\\_truediv\\_\\_, \\_\\_floordiv\\_\\_, \\_\\_mod\\_\\_, \\_\\_divmod\\_\\_ are defined:"
   ]
  },
  {
   "cell_type": "code",
   "execution_count": null,
   "metadata": {},
   "outputs": [],
   "source": [
    "duration + timedelta(weeks=1)"
   ]
  },
  {
   "cell_type": "code",
   "execution_count": null,
   "metadata": {},
   "outputs": [],
   "source": [
    "duration - timedelta(weeks=1)"
   ]
  },
  {
   "cell_type": "code",
   "execution_count": null,
   "metadata": {},
   "outputs": [],
   "source": [
    "duration / timedelta(weeks=1)"
   ]
  },
  {
   "cell_type": "code",
   "execution_count": null,
   "metadata": {},
   "outputs": [],
   "source": [
    "duration // timedelta(weeks=1)"
   ]
  },
  {
   "cell_type": "code",
   "execution_count": null,
   "metadata": {},
   "outputs": [],
   "source": [
    "duration % timedelta(weeks=1)"
   ]
  },
  {
   "cell_type": "code",
   "execution_count": null,
   "metadata": {},
   "outputs": [],
   "source": [
    "divmod(duration, timedelta(weeks=1))"
   ]
  },
  {
   "attachments": {},
   "cell_type": "markdown",
   "metadata": {},
   "source": [
    "Some of these data model identifiers will only work between an integer or float and a timedelta for example:"
   ]
  },
  {
   "cell_type": "code",
   "execution_count": null,
   "metadata": {},
   "outputs": [],
   "source": [
    "2.5 * duration"
   ]
  },
  {
   "attachments": {},
   "cell_type": "markdown",
   "metadata": {},
   "source": [
    "And some will work between two timedelta instances or a timedelta instance alongside an integer or float:"
   ]
  },
  {
   "cell_type": "code",
   "execution_count": null,
   "metadata": {},
   "outputs": [],
   "source": [
    "duration / 2"
   ]
  },
  {
   "attachments": {},
   "cell_type": "markdown",
   "metadata": {},
   "source": [
    "As the timedelta instance is ordinal, the 6 comparison data model identifiers are defined \\_\\_eq\\_\\_, \\_\\_ne\\_\\_, \\_\\_lt\\_\\_, \\_\\_le\\_\\_, \\_\\_gt\\_\\_ and \\_\\_ge\\_\\_ which define the operators ==, !=, <, <=, > and >=:"
   ]
  },
  {
   "cell_type": "code",
   "execution_count": null,
   "metadata": {},
   "outputs": [],
   "source": [
    "duration2 = duration + timedelta(days=100)"
   ]
  },
  {
   "cell_type": "code",
   "execution_count": null,
   "metadata": {},
   "outputs": [],
   "source": [
    "duration2 == duration"
   ]
  },
  {
   "cell_type": "code",
   "execution_count": null,
   "metadata": {},
   "outputs": [],
   "source": [
    "duration2 > duration"
   ]
  },
  {
   "attachments": {},
   "cell_type": "markdown",
   "metadata": {},
   "source": [
    "## timezone"
   ]
  },
  {
   "attachments": {},
   "cell_type": "markdown",
   "metadata": {},
   "source": [
    "The ZoneInfo class can be used to construct a timezone for example Universal Co-ordinated Time or from a geographic location:"
   ]
  },
  {
   "cell_type": "code",
   "execution_count": null,
   "metadata": {},
   "outputs": [],
   "source": [
    "utc = ZoneInfo('UTC')"
   ]
  },
  {
   "cell_type": "code",
   "execution_count": null,
   "metadata": {},
   "outputs": [],
   "source": [
    "london = ZoneInfo('Europe/London')"
   ]
  },
  {
   "attachments": {},
   "cell_type": "markdown",
   "metadata": {},
   "source": [
    "A datetime instance can be constructed with the UTC timezone:"
   ]
  },
  {
   "cell_type": "code",
   "execution_count": null,
   "metadata": {},
   "outputs": [],
   "source": [
    "dt1 = datetime(year=2024, month=3, day=31, hour=1, minute=30, tzinfo=utc)\n",
    "dt1"
   ]
  },
  {
   "attachments": {},
   "cell_type": "markdown",
   "metadata": {},
   "source": [
    "It has the timezone name of UTC:"
   ]
  },
  {
   "cell_type": "code",
   "execution_count": null,
   "metadata": {},
   "outputs": [],
   "source": [
    "dt1.tzname()"
   ]
  },
  {
   "attachments": {},
   "cell_type": "markdown",
   "metadata": {},
   "source": [
    "Each geographic location has a timezone. In London for example the following date has a time zone name of British Summer time with a UTC offset of 1 hour:"
   ]
  },
  {
   "cell_type": "code",
   "execution_count": null,
   "metadata": {},
   "outputs": [],
   "source": [
    "dt2 = datetime(year=2024, month=3, day=31, hour=0, minute=30, tzinfo=london)\n",
    "(dt2.tzname(), dt2.utcoffset())"
   ]
  },
  {
   "attachments": {},
   "cell_type": "markdown",
   "metadata": {},
   "source": [
    "The clocks go forward on this date. A time after the clock change can be examined. Notice that the tzname is now British Summer Time with a UTC Offset of 0 hours:"
   ]
  },
  {
   "cell_type": "code",
   "execution_count": null,
   "metadata": {},
   "outputs": [],
   "source": [
    "dt3 = datetime(year=2024, month=3, day=31, hour=2, minute=30, tzinfo=london)\n",
    "(dt3.tzname(), dt3.utcoffset())"
   ]
  },
  {
   "attachments": {},
   "cell_type": "markdown",
   "metadata": {},
   "source": [
    "On the day the clocks go forward, there is 1 hour that duplicates which is represented by a fold (0 before the clock change and 1 after the clock change):"
   ]
  },
  {
   "cell_type": "code",
   "execution_count": null,
   "metadata": {},
   "outputs": [],
   "source": [
    "dt4 = datetime(year=2024, month=3, day=31, hour=1, minute=30, tzinfo=london, fold=0)\n",
    "(dt4.tzname(), dt4.utcoffset())"
   ]
  },
  {
   "cell_type": "code",
   "execution_count": null,
   "metadata": {},
   "outputs": [],
   "source": [
    "dt5 = datetime(year=2024, month=3, day=31, hour=1, minute=30, tzinfo=london, fold=1)\n",
    "(dt5.tzname(), dt5.utcoffset())"
   ]
  },
  {
   "attachments": {},
   "cell_type": "markdown",
   "metadata": {},
   "source": [
    "Without specification of the fold, there is some ambiguity over this hour."
   ]
  },
  {
   "attachments": {},
   "cell_type": "markdown",
   "metadata": {},
   "source": [
    "The clocks change back in the winter:"
   ]
  },
  {
   "cell_type": "code",
   "execution_count": null,
   "metadata": {},
   "outputs": [],
   "source": [
    "dt6 = datetime(year=2024, month=10, day=27, hour=1, minute=30, tzinfo=london)\n",
    "(dt6.tzname(), dt6.utcoffset())"
   ]
  },
  {
   "cell_type": "code",
   "execution_count": null,
   "metadata": {},
   "outputs": [],
   "source": [
    "dt7 = datetime(year=2024, month=10, day=27, hour=2, minute=30, tzinfo=london)\n",
    "(dt7.tzname(), dt7.utcoffset())"
   ]
  },
  {
   "attachments": {},
   "cell_type": "markdown",
   "metadata": {},
   "source": [
    "There is no duplicate time when the clock goes back."
   ]
  },
  {
   "attachments": {},
   "cell_type": "markdown",
   "metadata": {},
   "source": [
    "Notice that addition of a British time with a timedelta does not take take into account clock changes:"
   ]
  },
  {
   "cell_type": "code",
   "execution_count": null,
   "metadata": {},
   "outputs": [],
   "source": [
    "dt8 = datetime(year=2024, month=3, day=31, hour=0, minute=30, tzinfo=london) + timedelta(hours=4)\n",
    "dt8"
   ]
  },
  {
   "attachments": {},
   "cell_type": "markdown",
   "metadata": {},
   "source": [
    "Therefore generally it is more reliable to work with timezones in UTC when working with a timedelta."
   ]
  },
  {
   "attachments": {},
   "cell_type": "markdown",
   "metadata": {},
   "source": [
    "## broadcasting"
   ]
  },
  {
   "attachments": {},
   "cell_type": "markdown",
   "metadata": {},
   "source": [
    "So far a single date, time, datetime or timedelta instance has been constructed. List comprehension can be used with a timedelta instance to get a list of timedelta instances:"
   ]
  },
  {
   "cell_type": "code",
   "execution_count": null,
   "metadata": {},
   "outputs": [],
   "source": [
    "[timedelta(days=day) for day in range(10)]"
   ]
  },
  {
   "attachments": {},
   "cell_type": "markdown",
   "metadata": {},
   "source": [
    "Recall that a timedelta added to a datetime instance returns another datetime instance:"
   ]
  },
  {
   "cell_type": "code",
   "execution_count": null,
   "metadata": {},
   "outputs": [],
   "source": [
    "dt = datetime(year=2023, month=1, day=1)"
   ]
  },
  {
   "attachments": {},
   "cell_type": "markdown",
   "metadata": {},
   "source": [
    "This can be taken advantage of while using list comprehension to get a list of datetime instances:"
   ]
  },
  {
   "cell_type": "code",
   "execution_count": null,
   "metadata": {},
   "outputs": [],
   "source": [
    "[dt + timedelta(days=day) for day in range(10)]"
   ]
  },
  {
   "attachments": {},
   "cell_type": "markdown",
   "metadata": {},
   "source": [
    "The syntaxing for broadcasting using Python standard libraries is a bit convoluted. Normally instances are broadcast using ndarrays with the third-party Python library numpy. This library needs to be imported: "
   ]
  },
  {
   "cell_type": "code",
   "execution_count": null,
   "metadata": {},
   "outputs": [],
   "source": [
    "import numpy as np"
   ]
  },
  {
   "attachments": {},
   "cell_type": "markdown",
   "metadata": {},
   "source": [
    "The numpy array range function is used to create an array of timedelta instances:"
   ]
  },
  {
   "cell_type": "code",
   "execution_count": null,
   "metadata": {},
   "outputs": [],
   "source": [
    "td1 = timedelta(hours=0)"
   ]
  },
  {
   "cell_type": "code",
   "execution_count": null,
   "metadata": {},
   "outputs": [],
   "source": [
    "td2 = timedelta(hours=24)"
   ]
  },
  {
   "cell_type": "code",
   "execution_count": null,
   "metadata": {},
   "outputs": [],
   "source": [
    "tds = timedelta(hours=1)"
   ]
  },
  {
   "cell_type": "code",
   "execution_count": null,
   "metadata": {},
   "outputs": [],
   "source": [
    "tds = np.arange(start=td1, stop=td2, step=tds)\n",
    "tds"
   ]
  },
  {
   "attachments": {},
   "cell_type": "markdown",
   "metadata": {},
   "source": [
    "Or an array of datetime instances:"
   ]
  },
  {
   "cell_type": "code",
   "execution_count": null,
   "metadata": {},
   "outputs": [],
   "source": [
    "dt1 = datetime(year=2024, month=1, day=1, hour=0)"
   ]
  },
  {
   "cell_type": "code",
   "execution_count": null,
   "metadata": {},
   "outputs": [],
   "source": [
    "dt2 = datetime(year=2024, month=1, day=1, hour=23)"
   ]
  },
  {
   "cell_type": "code",
   "execution_count": null,
   "metadata": {},
   "outputs": [],
   "source": [
    "tds = timedelta(hours=1)"
   ]
  },
  {
   "cell_type": "code",
   "execution_count": null,
   "metadata": {},
   "outputs": [],
   "source": [
    "dts = np.arange(start=dt1, stop=dt2, step=tds)\n",
    "dts"
   ]
  },
  {
   "attachments": {},
   "cell_type": "markdown",
   "metadata": {},
   "source": [
    "Notice the datatypes are slightly different timedelta64[us] and datetime64[us] are the classes used in numpy opposed to the timedelta and datetime classes from the standard datetime module:"
   ]
  },
  {
   "cell_type": "code",
   "execution_count": null,
   "metadata": {},
   "outputs": [],
   "source": [
    "? np.timedelta64"
   ]
  },
  {
   "cell_type": "code",
   "execution_count": null,
   "metadata": {},
   "outputs": [],
   "source": [
    "? np.datetime64"
   ]
  },
  {
   "attachments": {},
   "cell_type": "markdown",
   "metadata": {},
   "source": [
    "The numpy timedelta64 is initialised using an integer or float alongside a unit. Summation of these displays the value in terms of its smallest unit:"
   ]
  },
  {
   "cell_type": "code",
   "execution_count": null,
   "metadata": {},
   "outputs": [],
   "source": [
    "np.timedelta64(1, 'D') + np.timedelta64(1, 'h') + np.timedelta64(1, 'm') + np.timedelta64(1, 's')"
   ]
  },
  {
   "attachments": {},
   "cell_type": "markdown",
   "metadata": {},
   "source": [
    "Which has a higher accuracy and can go down to a nanosecond:"
   ]
  },
  {
   "cell_type": "code",
   "execution_count": null,
   "metadata": {},
   "outputs": [],
   "source": [
    "np.timedelta64(1, 'ms') + np.timedelta64(1, 'us') + np.timedelta64(1, 'ns')"
   ]
  },
  {
   "attachments": {},
   "cell_type": "markdown",
   "metadata": {},
   "source": [
    "The unit 'Y' and 'M' corresponding to Year and Month have a lower accuracy and are not typically used."
   ]
  },
  {
   "attachments": {},
   "cell_type": "markdown",
   "metadata": {},
   "source": [
    "The numpy datetime64 typically uses the ISO format for instantiation:"
   ]
  },
  {
   "cell_type": "code",
   "execution_count": null,
   "metadata": {},
   "outputs": [],
   "source": [
    "np.datetime64('2008-12-03T20:21:23.001002003')"
   ]
  },
  {
   "attachments": {},
   "cell_type": "markdown",
   "metadata": {},
   "source": [
    "Finally timedelta and datetime64 are normally displayed in pandas Series within pandas DataFrames. For this pandas needs to be imported:"
   ]
  },
  {
   "cell_type": "code",
   "execution_count": null,
   "metadata": {},
   "outputs": [],
   "source": [
    "import pandas as pd"
   ]
  },
  {
   "attachments": {},
   "cell_type": "markdown",
   "metadata": {},
   "source": [
    "A Series is based on a numpy array with a label:"
   ]
  },
  {
   "cell_type": "code",
   "execution_count": null,
   "metadata": {},
   "outputs": [],
   "source": [
    "pd.Series(data=dts, name='datetimes')"
   ]
  },
  {
   "cell_type": "code",
   "execution_count": null,
   "metadata": {},
   "outputs": [],
   "source": [
    "pd.Series(data=tds, name='timedeltas')"
   ]
  },
  {
   "attachments": {},
   "cell_type": "markdown",
   "metadata": {},
   "source": [
    "datetimes for example are normally used alongside numerical measurement data in a DataFrame:"
   ]
  },
  {
   "cell_type": "code",
   "execution_count": null,
   "metadata": {},
   "outputs": [],
   "source": [
    "pd.DataFrame({'datetimes': dts, \n",
    "              'temperature': 25 * np.ones(len(dts))})"
   ]
  }
 ],
 "metadata": {
  "kernelspec": {
   "display_name": "Python 3 (ipykernel)",
   "language": "python",
   "name": "python3"
  },
  "language_info": {
   "codemirror_mode": {
    "name": "ipython",
    "version": 3
   },
   "file_extension": ".py",
   "mimetype": "text/x-python",
   "name": "python",
   "nbconvert_exporter": "python",
   "pygments_lexer": "ipython3",
   "version": "3.12.1"
  },
  "vscode": {
   "interpreter": {
    "hash": "4648373dafda34926c036cc9e466ef2f8d360789320441bb704a9be21d427d2a"
   }
  }
 },
 "nbformat": 4,
 "nbformat_minor": 4
}
