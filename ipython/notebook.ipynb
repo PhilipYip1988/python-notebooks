{
 "cells": [
  {
   "cell_type": "markdown",
   "metadata": {},
   "source": [
    "## IPython Magics"
   ]
  },
  {
   "cell_type": "markdown",
   "metadata": {},
   "source": [
    "JupyterLab uses an IPython interpretter where each code cell is an IPython cell. An IPython cell can run: \n",
    "* Python code (default)\n",
    "* IPython magic commands\n",
    "* PowerShell (Windows) commands\n",
    "* bash (Linux/Mac) commands"
   ]
  },
  {
   "cell_type": "markdown",
   "metadata": {},
   "source": [
    "## OS Check"
   ]
  },
  {
   "cell_type": "markdown",
   "metadata": {},
   "source": [
    "Because there are slight differences in Windows to Linux and Mac the following check will be made:"
   ]
  },
  {
   "cell_type": "code",
   "execution_count": 1,
   "metadata": {},
   "outputs": [
    {
     "data": {
      "text/plain": [
       "'nt'"
      ]
     },
     "execution_count": 1,
     "metadata": {},
     "output_type": "execute_result"
    }
   ],
   "source": [
    "import os\n",
    "os.name"
   ]
  },
  {
   "cell_type": "markdown",
   "metadata": {},
   "source": [
    "If on Windows the string instance ```os.name``` will be ```'nt'```, otherwise if on Linux/Mac the string instance will be ```'posix'```."
   ]
  },
  {
   "cell_type": "markdown",
   "metadata": {},
   "source": [
    "## Windows"
   ]
  },
  {
   "cell_type": "markdown",
   "metadata": {},
   "source": [
    "On Windows there are two shells PowerShell and CMD. PowerShell is the modern shell while CMD is the legacy shell. \n",
    "\n",
    "A PowerShell command can be run using the prefix ```!powershell``` for example the ```help``` command:"
   ]
  },
  {
   "cell_type": "code",
   "execution_count": 2,
   "metadata": {},
   "outputs": [
    {
     "name": "stdout",
     "output_type": "stream",
     "text": [
      "\n",
      "TOPIC\n",
      "    Windows PowerShell Help System\n",
      "\n",
      "SHORT DESCRIPTION\n",
      "    Displays help about Windows PowerShell cmdlets and concepts. \n",
      "\n",
      "LONG DESCRIPTION\n",
      "    Windows PowerShell Help describes Windows PowerShell cmdlets,\n",
      "    functions, scripts, and modules, and explains concepts, including\n",
      "    the elements of the Windows PowerShell language.\n",
      "\n",
      "    Windows PowerShell does not include help files, but you can read the\n",
      "    help topics online, or use the Update-Help cmdlet to download help files\n",
      "    to your computer and then use the Get-Help cmdlet to display the help\n",
      "    topics at the command line.\n",
      "\n",
      "    You can also use the Update-Help cmdlet to download updated help files\n",
      "    as they are released so that your local help content is never obsolete. \n",
      "\n",
      "    Without help files, Get-Help displays auto-generated help for cmdlets, \n",
      "    functions, and scripts.\n",
      "\n",
      "\n",
      "  ONLINE HELP    \n",
      "    You can find help for Windows PowerShell online in the TechNet Library\n",
      "    beginning at http://go.microsoft.com/fwlink/?LinkID=108518. \n",
      "\n",
      "    To open online help for any cmdlet or function, type:\n",
      "\n",
      "        Get-Help <cmdlet-name> -Online    \n",
      "\n",
      "  UPDATE-HELP\n",
      "    To download and install help files on your computer:\n",
      "\n",
      "       1. Start Windows PowerShell with the \"Run as administrator\" option.\n",
      "       2. Type:\n",
      "\n",
      "          Update-Help\n",
      "\n",
      "    After the help files are installed, you can use the Get-Help cmdlet to\n",
      "    display the help topics. You can also use the Update-Help cmdlet to\n",
      "    download updated help files so that your local help files are always\n",
      "    up-to-date.\n",
      "    \n",
      "    For more information about the Update-Help cmdlet, type:\n",
      "\n",
      "       Get-Help Update-Help -Online\n",
      "\n",
      "    or go to: http://go.microsoft.com/fwlink/?LinkID=210614\n",
      "\n",
      "\n",
      "  GET-HELP\n",
      "    The Get-Help cmdlet displays help at the command line from content in\n",
      "    help files on your computer. Without help files, Get-Help displays basic\n",
      "    help about cmdlets and functions. You can also use Get-Help to display\n",
      "    online help for cmdlets and functions.\n",
      "\n",
      "    To get help for a cmdlet, type:\n",
      "\n",
      "        Get-Help <cmdlet-name>\n",
      "    \n",
      "    To get online help, type:\n",
      "   \n",
      "        Get-Help <cmdlet-name> -Online    \n",
      "\n",
      "    The titles of conceptual topics begin with \"About_\".\n",
      "    To get help for a concept or language element, type:\n",
      "\n",
      "        Get-Help About_<topic-name>\n",
      "\n",
      "    To search for a word or phrase in all help files, type:\n",
      "\n",
      "        Get-Help <search-term>\n",
      "\n",
      "    For more information about the Get-Help cmdlet, type:\n",
      "\n",
      "        Get-Help Get-Help -Online\n",
      "\n",
      "    or go to: http://go.microsoft.com/fwlink/?LinkID=113316\n",
      "\n",
      "\n",
      "  EXAMPLES:\n",
      "      Save-Help              : Download help files from the Internet and saves\n",
      "                               them on a file share.\n",
      "      Update-Help            : Downloads and installs help files from the\n",
      "                               Internet or a file share.\n",
      "      Get-Help Get-Process   : Displays help about the Get-Process cmdlet.   \n",
      "      Get-Help Get-Process -Online\n",
      "                             : Opens online help for the Get-Process cmdlet.                            \n",
      "      Help Get-Process       : Displays help about Get-Process one page at a time.\n",
      "      Get-Process -?         : Displays help about the Get-Process cmdlet.      \n",
      "      Get-Help About_Modules : Displays help about Windows PowerShell modules.\n",
      "      Get-Help remoting      : Searches the help topics for the word \"remoting.\"\n",
      "\n",
      "  SEE ALSO:\n",
      "      about_Updatable_Help\n",
      "      Get-Help\n",
      "      Save-Help\n",
      "      Update-Help\n",
      "\n",
      "\n",
      "\n",
      "\n",
      "\n",
      "\n",
      "\n",
      "\n",
      "\n",
      "\n",
      "\n",
      "\n",
      "\n",
      "\n"
     ]
    }
   ],
   "source": [
    "if os.name == 'nt':\n",
    "    !powershell help"
   ]
  },
  {
   "cell_type": "markdown",
   "metadata": {},
   "source": [
    "If ```powershell``` is not specified Windows, unfortunately the legacy shell CMD may be used. Notce the different documentation to the above:"
   ]
  },
  {
   "cell_type": "code",
   "execution_count": 3,
   "metadata": {},
   "outputs": [
    {
     "name": "stdout",
     "output_type": "stream",
     "text": [
      "For more information on a specific command, type HELP command-name\n",
      "ASSOC          Displays or modifies file extension associations.\n",
      "ATTRIB         Displays or changes file attributes.\n",
      "BREAK          Sets or clears extended CTRL+C checking.\n",
      "BCDEDIT        Sets properties in boot database to control boot loading.\n",
      "CACLS          Displays or modifies access control lists (ACLs) of files.\n",
      "CALL           Calls one batch program from another.\n",
      "CD             Displays the name of or changes the current directory.\n",
      "CHCP           Displays or sets the active code page number.\n",
      "CHDIR          Displays the name of or changes the current directory.\n",
      "CHKDSK         Checks a disk and displays a status report.\n",
      "CHKNTFS        Displays or modifies the checking of disk at boot time.\n",
      "CLS            Clears the screen.\n",
      "CMD            Starts a new instance of the Windows command interpreter.\n",
      "COLOR          Sets the default console foreground and background colors.\n",
      "COMP           Compares the contents of two files or sets of files.\n",
      "COMPACT        Displays or alters the compression of files on NTFS partitions.\n",
      "CONVERT        Converts FAT volumes to NTFS.  You cannot convert the\n",
      "               current drive.\n",
      "COPY           Copies one or more files to another location.\n",
      "DATE           Displays or sets the date.\n",
      "DEL            Deletes one or more files.\n",
      "DIR            Displays a list of files and subdirectories in a directory.\n",
      "DISKPART       Displays or configures Disk Partition properties.\n",
      "DOSKEY         Edits command lines, recalls Windows commands, and \n",
      "               creates macros.\n",
      "DRIVERQUERY    Displays current device driver status and properties.\n",
      "ECHO           Displays messages, or turns command echoing on or off.\n",
      "ENDLOCAL       Ends localization of environment changes in a batch file.\n",
      "ERASE          Deletes one or more files.\n",
      "EXIT           Quits the CMD.EXE program (command interpreter).\n",
      "FC             Compares two files or sets of files, and displays the \n",
      "               differences between them.\n",
      "FIND           Searches for a text string in a file or files.\n",
      "FINDSTR        Searches for strings in files.\n",
      "FOR            Runs a specified command for each file in a set of files.\n",
      "FORMAT         Formats a disk for use with Windows.\n",
      "FSUTIL         Displays or configures the file system properties.\n",
      "FTYPE          Displays or modifies file types used in file extension \n",
      "               associations.\n",
      "GOTO           Directs the Windows command interpreter to a labeled line in \n",
      "               a batch program.\n",
      "GPRESULT       Displays Group Policy information for machine or user.\n",
      "GRAFTABL       Enables Windows to display an extended character set in \n",
      "               graphics mode.\n",
      "HELP           Provides Help information for Windows commands.\n",
      "ICACLS         Display, modify, backup, or restore ACLs for files and \n",
      "               directories.\n",
      "IF             Performs conditional processing in batch programs.\n",
      "LABEL          Creates, changes, or deletes the volume label of a disk.\n",
      "MD             Creates a directory.\n",
      "MKDIR          Creates a directory.\n",
      "MKLINK         Creates Symbolic Links and Hard Links\n",
      "MODE           Configures a system device.\n",
      "MORE           Displays output one screen at a time.\n",
      "MOVE           Moves one or more files from one directory to another \n",
      "               directory.\n",
      "OPENFILES      Displays files opened by remote users for a file share.\n",
      "PATH           Displays or sets a search path for executable files.\n",
      "PAUSE          Suspends processing of a batch file and displays a message.\n",
      "POPD           Restores the previous value of the current directory saved by \n",
      "               PUSHD.\n",
      "PRINT          Prints a text file.\n",
      "PROMPT         Changes the Windows command prompt.\n",
      "PUSHD          Saves the current directory then changes it.\n",
      "RD             Removes a directory.\n",
      "RECOVER        Recovers readable information from a bad or defective disk.\n",
      "REM            Records comments (remarks) in batch files or CONFIG.SYS.\n",
      "REN            Renames a file or files.\n",
      "RENAME         Renames a file or files.\n",
      "REPLACE        Replaces files.\n",
      "RMDIR          Removes a directory.\n",
      "ROBOCOPY       Advanced utility to copy files and directory trees\n",
      "SET            Displays, sets, or removes Windows environment variables.\n",
      "SETLOCAL       Begins localization of environment changes in a batch file.\n",
      "SC             Displays or configures services (background processes).\n",
      "SCHTASKS       Schedules commands and programs to run on a computer.\n",
      "SHIFT          Shifts the position of replaceable parameters in batch files.\n",
      "SHUTDOWN       Allows proper local or remote shutdown of machine.\n",
      "SORT           Sorts input.\n",
      "START          Starts a separate window to run a specified program or command.\n",
      "SUBST          Associates a path with a drive letter.\n",
      "SYSTEMINFO     Displays machine specific properties and configuration.\n",
      "TASKLIST       Displays all currently running tasks including services.\n",
      "TASKKILL       Kill or stop a running process or application.\n",
      "TIME           Displays or sets the system time.\n",
      "TITLE          Sets the window title for a CMD.EXE session.\n",
      "TREE           Graphically displays the directory structure of a drive or \n",
      "               path.\n",
      "TYPE           Displays the contents of a text file.\n",
      "VER            Displays the Windows version.\n",
      "VERIFY         Tells Windows whether to verify that your files are written\n",
      "               correctly to a disk.\n",
      "VOL            Displays a disk volume label and serial number.\n",
      "XCOPY          Copies files and directory trees.\n",
      "WMIC           Displays WMI information inside interactive command shell.\n",
      "\n",
      "For more information on tools see the command-line reference in the online help.\n"
     ]
    }
   ],
   "source": [
    "if os.name == 'nt':\n",
    "    ! help"
   ]
  },
  {
   "cell_type": "markdown",
   "metadata": {},
   "source": [
    "## Linux/Mac"
   ]
  },
  {
   "cell_type": "markdown",
   "metadata": {},
   "source": [
    "On Linux/Mac the following command should be used:"
   ]
  },
  {
   "cell_type": "code",
   "execution_count": 4,
   "metadata": {},
   "outputs": [],
   "source": [
    "if os.path == 'posix':\n",
    "    !help"
   ]
  },
  {
   "cell_type": "markdown",
   "metadata": {},
   "source": [
    "This guide will continue use an if and an else block for Windows and Linux/Mac:"
   ]
  },
  {
   "cell_type": "markdown",
   "metadata": {},
   "source": [
    "## List Magic Commands"
   ]
  },
  {
   "cell_type": "markdown",
   "metadata": {},
   "source": [
    "```IPython``` also has magic commands, these magic commands can be listed using:"
   ]
  },
  {
   "cell_type": "code",
   "execution_count": 5,
   "metadata": {},
   "outputs": [
    {
     "data": {
      "application/json": {
       "cell": {
        "!": "OSMagics",
        "HTML": "Other",
        "SVG": "Other",
        "bash": "Other",
        "capture": "ExecutionMagics",
        "cmd": "Other",
        "code_wrap": "ExecutionMagics",
        "debug": "ExecutionMagics",
        "file": "Other",
        "html": "DisplayMagics",
        "javascript": "DisplayMagics",
        "js": "DisplayMagics",
        "latex": "DisplayMagics",
        "markdown": "DisplayMagics",
        "perl": "Other",
        "prun": "ExecutionMagics",
        "pypy": "Other",
        "python": "Other",
        "python2": "Other",
        "python3": "Other",
        "ruby": "Other",
        "script": "ScriptMagics",
        "sh": "Other",
        "svg": "DisplayMagics",
        "sx": "OSMagics",
        "system": "OSMagics",
        "time": "ExecutionMagics",
        "timeit": "ExecutionMagics",
        "writefile": "OSMagics"
       },
       "line": {
        "alias": "OSMagics",
        "alias_magic": "BasicMagics",
        "autoawait": "AsyncMagics",
        "autocall": "AutoMagics",
        "automagic": "AutoMagics",
        "autosave": "KernelMagics",
        "bookmark": "OSMagics",
        "cd": "OSMagics",
        "clear": "KernelMagics",
        "cls": "KernelMagics",
        "code_wrap": "ExecutionMagics",
        "colors": "BasicMagics",
        "conda": "PackagingMagics",
        "config": "ConfigMagics",
        "connect_info": "KernelMagics",
        "copy": "Other",
        "ddir": "Other",
        "debug": "ExecutionMagics",
        "dhist": "OSMagics",
        "dirs": "OSMagics",
        "doctest_mode": "BasicMagics",
        "echo": "Other",
        "ed": "Other",
        "edit": "KernelMagics",
        "env": "OSMagics",
        "gui": "BasicMagics",
        "hist": "Other",
        "history": "HistoryMagics",
        "killbgscripts": "ScriptMagics",
        "ldir": "Other",
        "less": "KernelMagics",
        "load": "CodeMagics",
        "load_ext": "ExtensionMagics",
        "loadpy": "CodeMagics",
        "logoff": "LoggingMagics",
        "logon": "LoggingMagics",
        "logstart": "LoggingMagics",
        "logstate": "LoggingMagics",
        "logstop": "LoggingMagics",
        "ls": "Other",
        "lsmagic": "BasicMagics",
        "macro": "ExecutionMagics",
        "magic": "BasicMagics",
        "matplotlib": "PylabMagics",
        "mkdir": "Other",
        "more": "KernelMagics",
        "notebook": "BasicMagics",
        "page": "BasicMagics",
        "pastebin": "CodeMagics",
        "pdb": "ExecutionMagics",
        "pdef": "NamespaceMagics",
        "pdoc": "NamespaceMagics",
        "pfile": "NamespaceMagics",
        "pinfo": "NamespaceMagics",
        "pinfo2": "NamespaceMagics",
        "pip": "PackagingMagics",
        "popd": "OSMagics",
        "pprint": "BasicMagics",
        "precision": "BasicMagics",
        "prun": "ExecutionMagics",
        "psearch": "NamespaceMagics",
        "psource": "NamespaceMagics",
        "pushd": "OSMagics",
        "pwd": "OSMagics",
        "pycat": "OSMagics",
        "pylab": "PylabMagics",
        "qtconsole": "KernelMagics",
        "quickref": "BasicMagics",
        "recall": "HistoryMagics",
        "rehashx": "OSMagics",
        "reload_ext": "ExtensionMagics",
        "ren": "Other",
        "rep": "Other",
        "rerun": "HistoryMagics",
        "reset": "NamespaceMagics",
        "reset_selective": "NamespaceMagics",
        "rmdir": "Other",
        "run": "ExecutionMagics",
        "save": "CodeMagics",
        "sc": "OSMagics",
        "set_env": "OSMagics",
        "store": "StoreMagics",
        "sx": "OSMagics",
        "system": "OSMagics",
        "tb": "ExecutionMagics",
        "time": "ExecutionMagics",
        "timeit": "ExecutionMagics",
        "unalias": "OSMagics",
        "unload_ext": "ExtensionMagics",
        "who": "NamespaceMagics",
        "who_ls": "NamespaceMagics",
        "whos": "NamespaceMagics",
        "xdel": "NamespaceMagics",
        "xmode": "BasicMagics"
       }
      },
      "text/plain": [
       "Available line magics:\n",
       "%alias  %alias_magic  %autoawait  %autocall  %automagic  %autosave  %bookmark  %cd  %clear  %cls  %code_wrap  %colors  %conda  %config  %connect_info  %copy  %ddir  %debug  %dhist  %dirs  %doctest_mode  %echo  %ed  %edit  %env  %gui  %hist  %history  %killbgscripts  %ldir  %less  %load  %load_ext  %loadpy  %logoff  %logon  %logstart  %logstate  %logstop  %ls  %lsmagic  %macro  %magic  %matplotlib  %mkdir  %more  %notebook  %page  %pastebin  %pdb  %pdef  %pdoc  %pfile  %pinfo  %pinfo2  %pip  %popd  %pprint  %precision  %prun  %psearch  %psource  %pushd  %pwd  %pycat  %pylab  %qtconsole  %quickref  %recall  %rehashx  %reload_ext  %ren  %rep  %rerun  %reset  %reset_selective  %rmdir  %run  %save  %sc  %set_env  %store  %sx  %system  %tb  %time  %timeit  %unalias  %unload_ext  %who  %who_ls  %whos  %xdel  %xmode\n",
       "\n",
       "Available cell magics:\n",
       "%%!  %%HTML  %%SVG  %%bash  %%capture  %%cmd  %%code_wrap  %%debug  %%file  %%html  %%javascript  %%js  %%latex  %%markdown  %%perl  %%prun  %%pypy  %%python  %%python2  %%python3  %%ruby  %%script  %%sh  %%svg  %%sx  %%system  %%time  %%timeit  %%writefile\n",
       "\n",
       "Automagic is ON, % prefix IS NOT needed for line magics."
      ]
     },
     "execution_count": 5,
     "metadata": {},
     "output_type": "execute_result"
    }
   ],
   "source": [
    "%lsmagic"
   ]
  },
  {
   "cell_type": "markdown",
   "metadata": {},
   "source": [
    "This displays using JSON which renders interactively in JupyterLab but not in VSCode. The JSON instance is essentially a dictionary with two keys ```\"line\"``` and ```\"cell\"``` and the values of each of these correspond to dictionaries of ipython line magic commands and ipython cell magic commands respectively. Each of the keys in these nested dictionaries is the name of the command and the value is the module where the command can be found. Note JSON preferences double quotations unlike Python.\n",
    "\n",
    "This command can be assigned to an instance:"
   ]
  },
  {
   "cell_type": "code",
   "execution_count": 6,
   "metadata": {},
   "outputs": [],
   "source": [
    "json_magics = %lsmagic"
   ]
  },
  {
   "cell_type": "markdown",
   "metadata": {},
   "source": [
    "Its class can be seen:"
   ]
  },
  {
   "cell_type": "code",
   "execution_count": 7,
   "metadata": {},
   "outputs": [
    {
     "data": {
      "text/plain": [
       "IPython.core.magics.basic.MagicsDisplay"
      ]
     },
     "execution_count": 7,
     "metadata": {},
     "output_type": "execute_result"
    }
   ],
   "source": [
    "type(json_magics)"
   ]
  },
  {
   "cell_type": "markdown",
   "metadata": {},
   "source": [
    "And it can be printed in a more simple format using:"
   ]
  },
  {
   "cell_type": "code",
   "execution_count": 8,
   "metadata": {},
   "outputs": [
    {
     "name": "stdout",
     "output_type": "stream",
     "text": [
      "Available line magics:\n",
      "%alias  %alias_magic  %autoawait  %autocall  %automagic  %autosave  %bookmark  %cd  %clear  %cls  %code_wrap  %colors  %conda  %config  %connect_info  %copy  %ddir  %debug  %dhist  %dirs  %doctest_mode  %echo  %ed  %edit  %env  %gui  %hist  %history  %killbgscripts  %ldir  %less  %load  %load_ext  %loadpy  %logoff  %logon  %logstart  %logstate  %logstop  %ls  %lsmagic  %macro  %magic  %matplotlib  %mkdir  %more  %notebook  %page  %pastebin  %pdb  %pdef  %pdoc  %pfile  %pinfo  %pinfo2  %pip  %popd  %pprint  %precision  %prun  %psearch  %psource  %pushd  %pwd  %pycat  %pylab  %qtconsole  %quickref  %recall  %rehashx  %reload_ext  %ren  %rep  %rerun  %reset  %reset_selective  %rmdir  %run  %save  %sc  %set_env  %store  %sx  %system  %tb  %time  %timeit  %unalias  %unload_ext  %who  %who_ls  %whos  %xdel  %xmode\n",
      "\n",
      "Available cell magics:\n",
      "%%!  %%HTML  %%SVG  %%bash  %%capture  %%cmd  %%code_wrap  %%debug  %%file  %%html  %%javascript  %%js  %%latex  %%markdown  %%perl  %%prun  %%pypy  %%python  %%python2  %%python3  %%ruby  %%script  %%sh  %%svg  %%sx  %%system  %%time  %%timeit  %%writefile\n",
      "\n",
      "Automagic is ON, % prefix IS NOT needed for line magics.\n"
     ]
    }
   ],
   "source": [
    "print(json_magics)"
   ]
  },
  {
   "cell_type": "markdown",
   "metadata": {},
   "source": [
    "Most of the IPython magics are consistent for Windows and Linux/Mac, a handful of the commands differ such as ```clear``` on Linux and ```cls``` (clear screen) on Windows:"
   ]
  },
  {
   "cell_type": "code",
   "execution_count": 9,
   "metadata": {},
   "outputs": [
    {
     "name": "stdout",
     "output_type": "stream",
     "text": [
      "\f\n"
     ]
    }
   ],
   "source": [
    "if os.name == 'nt':\n",
    "    %cls\n",
    "else:\n",
    "    %clear"
   ]
  },
  {
   "cell_type": "markdown",
   "metadata": {},
   "source": [
    "A line magic begins with a single ```%``` sign such as the print directory command ```%pwd```:"
   ]
  },
  {
   "cell_type": "code",
   "execution_count": 10,
   "metadata": {},
   "outputs": [
    {
     "data": {
      "text/plain": [
       "'c:\\\\Users\\\\Philip\\\\Documents\\\\GitHub\\\\python-notebooks\\\\ipython'"
      ]
     },
     "execution_count": 10,
     "metadata": {},
     "output_type": "execute_result"
    }
   ],
   "source": [
    "%pwd"
   ]
  },
  {
   "cell_type": "markdown",
   "metadata": {},
   "source": [
    "It is also recognised using the alias without the ```%``` sign:"
   ]
  },
  {
   "cell_type": "code",
   "execution_count": 11,
   "metadata": {},
   "outputs": [
    {
     "data": {
      "text/plain": [
       "'c:\\\\Users\\\\Philip\\\\Documents\\\\GitHub\\\\python-notebooks\\\\ipython'"
      ]
     },
     "execution_count": 11,
     "metadata": {},
     "output_type": "execute_result"
    }
   ],
   "source": [
    "pwd"
   ]
  },
  {
   "cell_type": "markdown",
   "metadata": {},
   "source": [
    "Under the hood, the IPython magic ```%pwd``` is a wrapper for the PowerShell (Windows) or bash (Linux/Mac) command that has been implemented in Python:"
   ]
  },
  {
   "cell_type": "code",
   "execution_count": 12,
   "metadata": {},
   "outputs": [
    {
     "name": "stdout",
     "output_type": "stream",
     "text": [
      "\n",
      "Path                                                     \n",
      "----                                                     \n",
      "C:\\Users\\Philip\\Documents\\GitHub\\python-notebooks\\ipython\n",
      "\n",
      "\n"
     ]
    }
   ],
   "source": [
    "if os.name == 'nt':\n",
    "    !powershell pwd\n",
    "else:\n",
    "    !pwd"
   ]
  },
  {
   "cell_type": "markdown",
   "metadata": {},
   "source": [
    "When a PowerShell (Windows) or bash (Linux/Mac) command that has an IPython is used normally there is a warning stating to preference the magic command as it has essentially been rewritten in Python and has additional checks for Python compatability and therefore will work more reliably when used within an IPython kernel. When available an IPython magic should always be used in preference to an equivalent PowerShell or bash command."
   ]
  },
  {
   "cell_type": "markdown",
   "metadata": {},
   "source": [
    "In the JSON representation of ```%lsmagic``` the ```\"pwd\"``` key has the value ```\"OSMagics\"```. Under the hood this means there is a function ```pwd``` found under ```IPython.core.magics.OSMagics```:"
   ]
  },
  {
   "cell_type": "code",
   "execution_count": 13,
   "metadata": {},
   "outputs": [],
   "source": [
    "import IPython"
   ]
  },
  {
   "cell_type": "code",
   "execution_count": 14,
   "metadata": {},
   "outputs": [
    {
     "name": "stdout",
     "output_type": "stream",
     "text": [
      "\u001b[1;31mSignature:\u001b[0m \u001b[0mIPython\u001b[0m\u001b[1;33m.\u001b[0m\u001b[0mcore\u001b[0m\u001b[1;33m.\u001b[0m\u001b[0mmagics\u001b[0m\u001b[1;33m.\u001b[0m\u001b[0mOSMagics\u001b[0m\u001b[1;33m.\u001b[0m\u001b[0mpwd\u001b[0m\u001b[1;33m(\u001b[0m\u001b[0mself\u001b[0m\u001b[1;33m,\u001b[0m \u001b[0mparameter_s\u001b[0m\u001b[1;33m=\u001b[0m\u001b[1;34m''\u001b[0m\u001b[1;33m)\u001b[0m\u001b[1;33m\u001b[0m\u001b[1;33m\u001b[0m\u001b[0m\n",
      "\u001b[1;31mDocstring:\u001b[0m\n",
      "Return the current working directory path.\n",
      "\n",
      "Examples\n",
      "--------\n",
      "::\n",
      "\n",
      "  In [9]: pwd\n",
      "  Out[9]: '/home/tsuser/sprint/ipython'\n",
      "\u001b[1;31mFile:\u001b[0m      c:\\users\\philip\\miniconda3\\envs\\vscode\\lib\\site-packages\\ipython\\core\\magics\\osm.py\n",
      "\u001b[1;31mType:\u001b[0m      function"
     ]
    }
   ],
   "source": [
    "IPython.core.magics.OSMagics.pwd?"
   ]
  },
  {
   "cell_type": "markdown",
   "metadata": {},
   "source": [
    "By default the current working directory will be the parent folder of the interactive Python notebook:"
   ]
  },
  {
   "cell_type": "code",
   "execution_count": 15,
   "metadata": {},
   "outputs": [
    {
     "data": {
      "text/plain": [
       "'c:\\\\Users\\\\Philip\\\\Documents\\\\GitHub\\\\python-notebooks\\\\ipython'"
      ]
     },
     "execution_count": 15,
     "metadata": {},
     "output_type": "execute_result"
    }
   ],
   "source": [
    "%pwd"
   ]
  },
  {
   "cell_type": "markdown",
   "metadata": {},
   "source": [
    "The line magic list ```%ls``` can be used to list the files in the current directory:"
   ]
  },
  {
   "cell_type": "code",
   "execution_count": 16,
   "metadata": {},
   "outputs": [
    {
     "name": "stdout",
     "output_type": "stream",
     "text": [
      " Volume in drive C has no label.\n",
      " Volume Serial Number is C81E-CFEF\n",
      "\n",
      " Directory of c:\\Users\\Philip\\Documents\\GitHub\\python-notebooks\\ipython\n",
      "\n",
      "07/10/2023  23:37    <DIR>          .\n",
      "07/10/2023  23:15    <DIR>          ..\n",
      "07/10/2023  23:13            26,104 notebook.ipynb\n",
      "07/10/2023  22:43                44 script1.py\n",
      "               2 File(s)         26,148 bytes\n",
      "               2 Dir(s)  102,380,331,008 bytes free\n"
     ]
    }
   ],
   "source": [
    "%ls"
   ]
  },
  {
   "cell_type": "markdown",
   "metadata": {},
   "source": [
    "A cell IPython magic begins with ```%%``` and as the name suggests applies to a whole IPython cell. When used in an IPython cell from the Terminal, 2 blank lines are required to exit out of the cell and execute the code. The cell magic ```writefile``` can be used to write a Python script file:"
   ]
  },
  {
   "cell_type": "code",
   "execution_count": 17,
   "metadata": {},
   "outputs": [
    {
     "name": "stdout",
     "output_type": "stream",
     "text": [
      "Overwriting script1.py\n"
     ]
    }
   ],
   "source": [
    "%%writefile script1.py\n",
    "var1 = 'Hello World!'\n",
    "print(var1)\n",
    "\n",
    "    "
   ]
  },
  {
   "cell_type": "markdown",
   "metadata": {},
   "source": [
    "Note that this file is created however the code is not run, attempting to access ```var1``` will therefore give a ```NameError```:"
   ]
  },
  {
   "cell_type": "raw",
   "metadata": {},
   "source": [
    "var1"
   ]
  },
  {
   "cell_type": "code",
   "execution_count": null,
   "metadata": {},
   "outputs": [],
   "source": []
  },
  {
   "cell_type": "markdown",
   "metadata": {},
   "source": [
    "This script file can be run using the magic command ```%run```:"
   ]
  },
  {
   "cell_type": "code",
   "execution_count": 18,
   "metadata": {},
   "outputs": [
    {
     "name": "stdout",
     "output_type": "stream",
     "text": [
      "Hello World!\n"
     ]
    }
   ],
   "source": [
    "%run script1"
   ]
  },
  {
   "cell_type": "markdown",
   "metadata": {},
   "source": [
    "Now ```var1``` can be accessed:"
   ]
  },
  {
   "cell_type": "code",
   "execution_count": 19,
   "metadata": {},
   "outputs": [
    {
     "data": {
      "text/plain": [
       "'Hello World!'"
      ]
     },
     "execution_count": 19,
     "metadata": {},
     "output_type": "execute_result"
    }
   ],
   "source": [
    "var1"
   ]
  }
 ],
 "metadata": {
  "kernelspec": {
   "display_name": "Python 3",
   "language": "python",
   "name": "python3"
  },
  "language_info": {
   "codemirror_mode": {
    "name": "ipython",
    "version": 3
   },
   "file_extension": ".py",
   "mimetype": "text/x-python",
   "name": "python",
   "nbconvert_exporter": "python",
   "pygments_lexer": "ipython3",
   "version": "3.11.5"
  }
 },
 "nbformat": 4,
 "nbformat_minor": 2
}
