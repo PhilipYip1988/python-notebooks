{
 "cells": [
  {
   "attachments": {},
   "cell_type": "markdown",
   "metadata": {},
   "source": [
    "# pandas library"
   ]
  },
  {
   "attachments": {},
   "cell_type": "markdown",
   "metadata": {},
   "source": [
    "pandas is an abbreviation for the **P**ython **an**d **D**ata **A**naly**s**is Library. It is a library that uses three main data structures:\n",
    "\n",
    "* the Index class\n",
    "* the Series class\n",
    "* the DataFrame class"
   ]
  },
  {
   "attachments": {},
   "cell_type": "markdown",
   "metadata": {},
   "source": [
    "Most Index classes are numeric, that is zero-order integer steps of one."
   ]
  },
  {
   "attachments": {},
   "cell_type": "markdown",
   "metadata": {},
   "source": [
    "The Index, similar to a tuple, list or 1darray has a single dimension which can be represented either as a row:\n",
    "\n",
    "|index|0|1|2|3|\n",
    "|---|---|---|---|---|\n",
    "\n",
    "Or as a column when convenient:\n",
    "\n",
    "|index|\n",
    "|---|\n",
    "|0|\n",
    "|1|\n",
    "|2|\n",
    "|3|\n"
   ]
  },
  {
   "attachments": {},
   "cell_type": "markdown",
   "metadata": {},
   "source": [
    "The Series class has a value at each index and a name. It is essentially a numpy 1darray that has a name. A Series is normally represented as a column (notice the Index associated with the Series is also displayed as a column):"
   ]
  },
  {
   "attachments": {},
   "cell_type": "markdown",
   "metadata": {},
   "source": [
    "|index|'x'|\n",
    "|---|---|\n",
    "|0|1.1|\n",
    "|1|2.1|\n",
    "|2|3.1|\n",
    "|3|4.1|"
   ]
  },
  {
   "attachments": {},
   "cell_type": "markdown",
   "metadata": {},
   "source": [
    "A DataFrame class is essentially a grouping of series instances that have the same index:"
   ]
  },
  {
   "attachments": {},
   "cell_type": "markdown",
   "metadata": {},
   "source": [
    "|index|'x'|'y'|\n",
    "|---|---|---|\n",
    "|0|1.1|1.2|\n",
    "|1|2.1|2.2|\n",
    "|2|3.1|3.2|\n",
    "|3|4.1|4.2|"
   ]
  },
  {
   "attachments": {},
   "cell_type": "markdown",
   "metadata": {},
   "source": [
    "## Importing Libraries"
   ]
  },
  {
   "attachments": {},
   "cell_type": "markdown",
   "metadata": {},
   "source": [
    "To use the data science libraries they need to be imported:"
   ]
  },
  {
   "cell_type": "code",
   "execution_count": 1,
   "metadata": {},
   "outputs": [],
   "source": [
    "import numpy as np \n",
    "import pandas as pd\n",
    "from helper_module import print_identifier_group"
   ]
  },
  {
   "attachments": {},
   "cell_type": "markdown",
   "metadata": {},
   "source": [
    "Once imported the identifiers can be viewed:"
   ]
  },
  {
   "cell_type": "code",
   "execution_count": 2,
   "metadata": {},
   "outputs": [
    {
     "name": "stdout",
     "output_type": "stream",
     "text": [
      "datamodel attribute: ['__all__', '__builtins__', '__cached__', '__doc__', '__docformat__', '__file__', '__git_version__', '__loader__', '__name__', '__package__', '__path__', '__spec__', '__version__']\n",
      "datamodel method: []\n",
      "attribute: ['annotations', 'api', 'arrays', 'compat', 'core', 'errors', 'io', 'offsets', 'options', 'pandas', 'plotting', 'testing', 'tseries', 'util']\n",
      "function: ['array', 'bdate_range', 'concat', 'crosstab', 'cut', 'date_range', 'describe_option', 'eval', 'factorize', 'from_dummies', 'get_dummies', 'get_option', 'infer_freq', 'interval_range', 'isna', 'isnull', 'json_normalize', 'lreshape', 'melt', 'merge', 'merge_asof', 'merge_ordered', 'notna', 'notnull', 'period_range', 'pivot', 'pivot_table', 'qcut', 'read_clipboard', 'read_csv', 'read_excel', 'read_feather', 'read_fwf', 'read_gbq', 'read_hdf', 'read_html', 'read_json', 'read_orc', 'read_parquet', 'read_pickle', 'read_sas', 'read_spss', 'read_sql', 'read_sql_query', 'read_sql_table', 'read_stata', 'read_table', 'read_xml', 'reset_option', 'set_eng_float_format', 'set_option', 'show_versions', 'test', 'timedelta_range', 'to_datetime', 'to_numeric', 'to_pickle', 'to_timedelta', 'unique', 'value_counts', 'wide_to_long']\n",
      "class: ['ArrowDtype', 'BooleanDtype', 'CategoricalDtype', 'CategoricalIndex', 'DataFrame', 'DatetimeTZDtype', 'ExcelFile', 'Flags', 'Float32Dtype', 'Float64Dtype', 'Grouper', 'HDFStore', 'Index', 'Int16Dtype', 'Int32Dtype', 'Int64Dtype', 'Int8Dtype', 'Interval', 'IntervalDtype', 'IntervalIndex', 'MultiIndex', 'NamedAgg', 'Period', 'PeriodDtype', 'RangeIndex', 'Series', 'SparseDtype', 'StringDtype', 'Timedelta', 'Timestamp', 'UInt16Dtype', 'UInt32Dtype', 'UInt64Dtype', 'UInt8Dtype']\n"
     ]
    }
   ],
   "source": [
    "print('datamodel attribute:', end=' ')\n",
    "print_identifier_group(pd, 'datamodel_attribute')\n",
    "print('datamodel method:', end=' ')\n",
    "print_identifier_group(pd, 'datamodel_method')\n",
    "print('attribute:', end=' ')\n",
    "print_identifier_group(pd, 'attribute')\n",
    "print('function:', end=' ')\n",
    "print_identifier_group(pd, 'function')\n",
    "print('class:', end=' ')\n",
    "print_identifier_group(pd, 'upper_class')\n"
   ]
  },
  {
   "attachments": {},
   "cell_type": "markdown",
   "metadata": {},
   "source": [
    "The datamodel attributes \\_\\_name\\_\\_ (dunder name), \\_\\_version\\_\\_ (dunder version) and \\_\\_file\\_\\_ (dunder file) can be used to get details about the library:"
   ]
  },
  {
   "cell_type": "code",
   "execution_count": 3,
   "metadata": {},
   "outputs": [
    {
     "data": {
      "text/plain": [
       "'pandas'"
      ]
     },
     "execution_count": 3,
     "metadata": {},
     "output_type": "execute_result"
    }
   ],
   "source": [
    "pd.__name__"
   ]
  },
  {
   "cell_type": "code",
   "execution_count": 4,
   "metadata": {},
   "outputs": [
    {
     "data": {
      "text/plain": [
       "'2.1.4'"
      ]
     },
     "execution_count": 4,
     "metadata": {},
     "output_type": "execute_result"
    }
   ],
   "source": [
    "pd.__version__"
   ]
  },
  {
   "cell_type": "code",
   "execution_count": 5,
   "metadata": {},
   "outputs": [
    {
     "data": {
      "text/plain": [
       "'c:\\\\Users\\\\phili\\\\Anaconda3\\\\envs\\\\vscode-env\\\\Lib\\\\site-packages\\\\pandas\\\\__init__.py'"
      ]
     },
     "execution_count": 5,
     "metadata": {},
     "output_type": "execute_result"
    }
   ],
   "source": [
    "pd.__file__"
   ]
  },
  {
   "attachments": {},
   "cell_type": "markdown",
   "metadata": {},
   "source": [
    "The classes are all in CamelCase. The main classes are:\n",
    "\n",
    "* Index\n",
    "* Series\n",
    "* DataFrame\n",
    " \n",
    "There are some variations of Index such as RangeIndex, MultiIndex, DateIndex and TimedeltaIndex. "
   ]
  },
  {
   "attachments": {},
   "cell_type": "markdown",
   "metadata": {},
   "source": [
    "In general pandas uses object orientated programming (OOP) opposed to functional programming. This means methods are normally applied to Index, Series and DataFrame instances to analyse or manipulate data from the instance. Most of the functions within the pandas library are used to read in data from a file and output a DataFrame instance."
   ]
  },
  {
   "attachments": {},
   "cell_type": "markdown",
   "metadata": {},
   "source": [
    "## Series"
   ]
  },
  {
   "attachments": {},
   "cell_type": "markdown",
   "metadata": {},
   "source": [
    "The initialisation signature for a pandas ```Series``` class can be examined:"
   ]
  },
  {
   "cell_type": "code",
   "execution_count": 6,
   "metadata": {},
   "outputs": [
    {
     "name": "stdout",
     "output_type": "stream",
     "text": [
      "\u001b[1;31mInit signature:\u001b[0m\n",
      "\u001b[0mpd\u001b[0m\u001b[1;33m.\u001b[0m\u001b[0mSeries\u001b[0m\u001b[1;33m(\u001b[0m\u001b[1;33m\n",
      "\u001b[0m    \u001b[0mdata\u001b[0m\u001b[1;33m=\u001b[0m\u001b[1;32mNone\u001b[0m\u001b[1;33m,\u001b[0m\u001b[1;33m\n",
      "\u001b[0m    \u001b[0mindex\u001b[0m\u001b[1;33m=\u001b[0m\u001b[1;32mNone\u001b[0m\u001b[1;33m,\u001b[0m\u001b[1;33m\n",
      "\u001b[0m    \u001b[0mdtype\u001b[0m\u001b[1;33m:\u001b[0m \u001b[1;34m'Dtype | None'\u001b[0m \u001b[1;33m=\u001b[0m \u001b[1;32mNone\u001b[0m\u001b[1;33m,\u001b[0m\u001b[1;33m\n",
      "\u001b[0m    \u001b[0mname\u001b[0m\u001b[1;33m=\u001b[0m\u001b[1;32mNone\u001b[0m\u001b[1;33m,\u001b[0m\u001b[1;33m\n",
      "\u001b[0m    \u001b[0mcopy\u001b[0m\u001b[1;33m:\u001b[0m \u001b[1;34m'bool | None'\u001b[0m \u001b[1;33m=\u001b[0m \u001b[1;32mNone\u001b[0m\u001b[1;33m,\u001b[0m\u001b[1;33m\n",
      "\u001b[0m    \u001b[0mfastpath\u001b[0m\u001b[1;33m:\u001b[0m \u001b[1;34m'bool'\u001b[0m \u001b[1;33m=\u001b[0m \u001b[1;32mFalse\u001b[0m\u001b[1;33m,\u001b[0m\u001b[1;33m\n",
      "\u001b[0m\u001b[1;33m)\u001b[0m \u001b[1;33m->\u001b[0m \u001b[1;34m'None'\u001b[0m\u001b[1;33m\u001b[0m\u001b[1;33m\u001b[0m\u001b[0m\n",
      "\u001b[1;31mDocstring:\u001b[0m     \n",
      "One-dimensional ndarray with axis labels (including time series).\n",
      "\n",
      "Labels need not be unique but must be a hashable type. The object\n",
      "supports both integer- and label-based indexing and provides a host of\n",
      "methods for performing operations involving the index. Statistical\n",
      "methods from ndarray have been overridden to automatically exclude\n",
      "missing data (currently represented as NaN).\n",
      "\n",
      "Operations between Series (+, -, /, \\*, \\*\\*) align values based on their\n",
      "associated index values-- they need not be the same length. The result\n",
      "index will be the sorted union of the two indexes.\n",
      "\n",
      "Parameters\n",
      "----------\n",
      "data : array-like, Iterable, dict, or scalar value\n",
      "    Contains data stored in Series. If data is a dict, argument order is\n",
      "    maintained.\n",
      "index : array-like or Index (1d)\n",
      "    Values must be hashable and have the same length as `data`.\n",
      "    Non-unique index values are allowed. Will default to\n",
      "    RangeIndex (0, 1, 2, ..., n) if not provided. If data is dict-like\n",
      "    and index is None, then the keys in the data are used as the index. If the\n",
      "    index is not None, the resulting Series is reindexed with the index values.\n",
      "dtype : str, numpy.dtype, or ExtensionDtype, optional\n",
      "    Data type for the output Series. If not specified, this will be\n",
      "    inferred from `data`.\n",
      "    See the :ref:`user guide <basics.dtypes>` for more usages.\n",
      "name : Hashable, default None\n",
      "    The name to give to the Series.\n",
      "copy : bool, default False\n",
      "    Copy input data. Only affects Series or 1d ndarray input. See examples.\n",
      "\n",
      "Notes\n",
      "-----\n",
      "Please reference the :ref:`User Guide <basics.series>` for more information.\n",
      "\n",
      "Examples\n",
      "--------\n",
      "Constructing Series from a dictionary with an Index specified\n",
      "\n",
      ">>> d = {'a': 1, 'b': 2, 'c': 3}\n",
      ">>> ser = pd.Series(data=d, index=['a', 'b', 'c'])\n",
      ">>> ser\n",
      "a   1\n",
      "b   2\n",
      "c   3\n",
      "dtype: int64\n",
      "\n",
      "The keys of the dictionary match with the Index values, hence the Index\n",
      "values have no effect.\n",
      "\n",
      ">>> d = {'a': 1, 'b': 2, 'c': 3}\n",
      ">>> ser = pd.Series(data=d, index=['x', 'y', 'z'])\n",
      ">>> ser\n",
      "x   NaN\n",
      "y   NaN\n",
      "z   NaN\n",
      "dtype: float64\n",
      "\n",
      "Note that the Index is first build with the keys from the dictionary.\n",
      "After this the Series is reindexed with the given Index values, hence we\n",
      "get all NaN as a result.\n",
      "\n",
      "Constructing Series from a list with `copy=False`.\n",
      "\n",
      ">>> r = [1, 2]\n",
      ">>> ser = pd.Series(r, copy=False)\n",
      ">>> ser.iloc[0] = 999\n",
      ">>> r\n",
      "[1, 2]\n",
      ">>> ser\n",
      "0    999\n",
      "1      2\n",
      "dtype: int64\n",
      "\n",
      "Due to input data type the Series has a `copy` of\n",
      "the original data even though `copy=False`, so\n",
      "the data is unchanged.\n",
      "\n",
      "Constructing Series from a 1d ndarray with `copy=False`.\n",
      "\n",
      ">>> r = np.array([1, 2])\n",
      ">>> ser = pd.Series(r, copy=False)\n",
      ">>> ser.iloc[0] = 999\n",
      ">>> r\n",
      "array([999,   2])\n",
      ">>> ser\n",
      "0    999\n",
      "1      2\n",
      "dtype: int64\n",
      "\n",
      "Due to input data type the Series has a `view` on\n",
      "the original data, so\n",
      "the data is changed as well.\n",
      "\u001b[1;31mFile:\u001b[0m           c:\\users\\phili\\anaconda3\\envs\\vscode-env\\lib\\site-packages\\pandas\\core\\series.py\n",
      "\u001b[1;31mType:\u001b[0m           type\n",
      "\u001b[1;31mSubclasses:\u001b[0m     SubclassedSeries"
     ]
    }
   ],
   "source": [
    "pd.Series?"
   ]
  },
  {
   "attachments": {},
   "cell_type": "markdown",
   "metadata": {},
   "source": [
    "The main keyword input arguments are:\n",
    "\n",
    "* data\n",
    "* index\n",
    "* dtype\n",
    "* name\n"
   ]
  },
  {
   "attachments": {},
   "cell_type": "markdown",
   "metadata": {},
   "source": [
    "If these are not supplied an empty series instance with no index, no name and a generic object datatype is instantiated:"
   ]
  },
  {
   "cell_type": "code",
   "execution_count": 7,
   "metadata": {},
   "outputs": [
    {
     "data": {
      "text/plain": [
       "Series([], dtype: object)"
      ]
     },
     "execution_count": 7,
     "metadata": {},
     "output_type": "execute_result"
    }
   ],
   "source": [
    "pd.Series()"
   ]
  },
  {
   "attachments": {},
   "cell_type": "markdown",
   "metadata": {},
   "source": [
    "Normally data is supplied in the form of a numpy 1darray:"
   ]
  },
  {
   "cell_type": "code",
   "execution_count": 8,
   "metadata": {},
   "outputs": [
    {
     "data": {
      "text/plain": [
       "0    1\n",
       "1    2\n",
       "2    3\n",
       "dtype: int32"
      ]
     },
     "execution_count": 8,
     "metadata": {},
     "output_type": "execute_result"
    }
   ],
   "source": [
    "pd.Series(data=np.array([1, 2, 3]))"
   ]
  },
  {
   "attachments": {},
   "cell_type": "markdown",
   "metadata": {},
   "source": [
    "Since a ndarray itself is initialised from a list, this can be abbreviated to:"
   ]
  },
  {
   "cell_type": "code",
   "execution_count": 9,
   "metadata": {},
   "outputs": [
    {
     "data": {
      "text/plain": [
       "0    1\n",
       "1    2\n",
       "2    3\n",
       "dtype: int64"
      ]
     },
     "execution_count": 9,
     "metadata": {},
     "output_type": "execute_result"
    }
   ],
   "source": [
    "pd.Series(data=[1, 2, 3])"
   ]
  },
  {
   "attachments": {},
   "cell_type": "markdown",
   "metadata": {},
   "source": [
    "When ```dtype=None```, the data type will be inferred from the data:"
   ]
  },
  {
   "cell_type": "code",
   "execution_count": 10,
   "metadata": {},
   "outputs": [
    {
     "data": {
      "text/plain": [
       "0    1.0\n",
       "1    2.0\n",
       "2    3.0\n",
       "dtype: float64"
      ]
     },
     "execution_count": 10,
     "metadata": {},
     "output_type": "execute_result"
    }
   ],
   "source": [
    "pd.Series(data=[1., 2., 3.])"
   ]
  },
  {
   "cell_type": "code",
   "execution_count": 11,
   "metadata": {},
   "outputs": [
    {
     "data": {
      "text/plain": [
       "0   2023-12-29 23:48:41.968987\n",
       "1   2023-12-30 23:48:41.968987\n",
       "2   2023-12-31 23:48:41.968987\n",
       "dtype: datetime64[ns]"
      ]
     },
     "execution_count": 11,
     "metadata": {},
     "output_type": "execute_result"
    }
   ],
   "source": [
    "from datetime import datetime, timedelta\n",
    "pd.Series(data=[datetime.now(), \n",
    "                datetime.now() + timedelta(days=1),\n",
    "                datetime.now() + timedelta(days=2)])"
   ]
  },
  {
   "cell_type": "code",
   "execution_count": 12,
   "metadata": {},
   "outputs": [
    {
     "data": {
      "text/plain": [
       "0    a\n",
       "1    b\n",
       "2    c\n",
       "dtype: object"
      ]
     },
     "execution_count": 12,
     "metadata": {},
     "output_type": "execute_result"
    }
   ],
   "source": [
    "pd.Series(data=['a', 'b', 'c'])"
   ]
  },
  {
   "attachments": {},
   "cell_type": "markdown",
   "metadata": {},
   "source": [
    "Anything with a string in it is classed as non-numeric and has the generic dtype ```object``` (meaning it can be any Python object)."
   ]
  },
  {
   "attachments": {},
   "cell_type": "markdown",
   "metadata": {},
   "source": [
    "The dtype can be manually overidden when supplying the numpy 1darray by using the ```np.array``` input argument ```dtype```:"
   ]
  },
  {
   "cell_type": "code",
   "execution_count": 13,
   "metadata": {},
   "outputs": [
    {
     "data": {
      "text/plain": [
       "0    1\n",
       "1    2\n",
       "2    3\n",
       "dtype: int32"
      ]
     },
     "execution_count": 13,
     "metadata": {},
     "output_type": "execute_result"
    }
   ],
   "source": [
    "pd.Series(data=np.array([1., 2., 3.], dtype=np.int32))"
   ]
  },
  {
   "attachments": {},
   "cell_type": "markdown",
   "metadata": {},
   "source": [
    "Or by alternatively using the ```Series``` keyword input argument ```dtype```:"
   ]
  },
  {
   "cell_type": "code",
   "execution_count": 14,
   "metadata": {},
   "outputs": [
    {
     "data": {
      "text/plain": [
       "0    1\n",
       "1    2\n",
       "2    3\n",
       "dtype: int32"
      ]
     },
     "execution_count": 14,
     "metadata": {},
     "output_type": "execute_result"
    }
   ],
   "source": [
    "pd.Series(data=[1., 2., 3.], dtype=np.int32)"
   ]
  },
  {
   "attachments": {},
   "cell_type": "markdown",
   "metadata": {},
   "source": [
    "Notice that the index is zero-ordered numeric in integer steps of 1 by default. This can be manually changed by use of the keyword input argument ```index``` and providing an ```Index``` instance, ```ndarray``` instance or ```list``` instance of index values:"
   ]
  },
  {
   "cell_type": "code",
   "execution_count": 15,
   "metadata": {},
   "outputs": [
    {
     "data": {
      "text/plain": [
       "a    1\n",
       "b    2\n",
       "c    3\n",
       "dtype: int32"
      ]
     },
     "execution_count": 15,
     "metadata": {},
     "output_type": "execute_result"
    }
   ],
   "source": [
    "pd.Series(index=['a', 'b', 'c'], data=[1., 2., 3.], dtype=np.int32)"
   ]
  },
  {
   "attachments": {},
   "cell_type": "markdown",
   "metadata": {},
   "source": [
    "A ```Series``` usually also has a ```name```:"
   ]
  },
  {
   "cell_type": "code",
   "execution_count": 16,
   "metadata": {},
   "outputs": [
    {
     "data": {
      "text/plain": [
       "a    1\n",
       "b    2\n",
       "c    3\n",
       "Name: x, dtype: int32"
      ]
     },
     "execution_count": 16,
     "metadata": {},
     "output_type": "execute_result"
    }
   ],
   "source": [
    "pd.Series(index=['a', 'b', 'c'], data=[1., 2., 3.], dtype=np.int32, name='x')"
   ]
  },
  {
   "attachments": {},
   "cell_type": "markdown",
   "metadata": {},
   "source": [
    "Normally the ```data``` and ```name``` are supplied and the ```index``` and ```dtype``` are inferred:"
   ]
  },
  {
   "cell_type": "code",
   "execution_count": 17,
   "metadata": {},
   "outputs": [
    {
     "data": {
      "text/plain": [
       "0    1.1\n",
       "1    2.1\n",
       "2    3.1\n",
       "3    4.1\n",
       "Name: x, dtype: float64"
      ]
     },
     "execution_count": 17,
     "metadata": {},
     "output_type": "execute_result"
    }
   ],
   "source": [
    "pd.Series([1.1, 2.1, 3.1, 4.1], name='x')"
   ]
  },
  {
   "attachments": {},
   "cell_type": "markdown",
   "metadata": {},
   "source": [
    "## DataFrame"
   ]
  },
  {
   "attachments": {},
   "cell_type": "markdown",
   "metadata": {},
   "source": [
    "The initialisation signature for a pandas DataFrame can be examined:"
   ]
  },
  {
   "cell_type": "code",
   "execution_count": 18,
   "metadata": {},
   "outputs": [
    {
     "name": "stdout",
     "output_type": "stream",
     "text": [
      "\u001b[1;31mInit signature:\u001b[0m\n",
      "\u001b[0mpd\u001b[0m\u001b[1;33m.\u001b[0m\u001b[0mDataFrame\u001b[0m\u001b[1;33m(\u001b[0m\u001b[1;33m\n",
      "\u001b[0m    \u001b[0mdata\u001b[0m\u001b[1;33m=\u001b[0m\u001b[1;32mNone\u001b[0m\u001b[1;33m,\u001b[0m\u001b[1;33m\n",
      "\u001b[0m    \u001b[0mindex\u001b[0m\u001b[1;33m:\u001b[0m \u001b[1;34m'Axes | None'\u001b[0m \u001b[1;33m=\u001b[0m \u001b[1;32mNone\u001b[0m\u001b[1;33m,\u001b[0m\u001b[1;33m\n",
      "\u001b[0m    \u001b[0mcolumns\u001b[0m\u001b[1;33m:\u001b[0m \u001b[1;34m'Axes | None'\u001b[0m \u001b[1;33m=\u001b[0m \u001b[1;32mNone\u001b[0m\u001b[1;33m,\u001b[0m\u001b[1;33m\n",
      "\u001b[0m    \u001b[0mdtype\u001b[0m\u001b[1;33m:\u001b[0m \u001b[1;34m'Dtype | None'\u001b[0m \u001b[1;33m=\u001b[0m \u001b[1;32mNone\u001b[0m\u001b[1;33m,\u001b[0m\u001b[1;33m\n",
      "\u001b[0m    \u001b[0mcopy\u001b[0m\u001b[1;33m:\u001b[0m \u001b[1;34m'bool | None'\u001b[0m \u001b[1;33m=\u001b[0m \u001b[1;32mNone\u001b[0m\u001b[1;33m,\u001b[0m\u001b[1;33m\n",
      "\u001b[0m\u001b[1;33m)\u001b[0m \u001b[1;33m->\u001b[0m \u001b[1;34m'None'\u001b[0m\u001b[1;33m\u001b[0m\u001b[1;33m\u001b[0m\u001b[0m\n",
      "\u001b[1;31mDocstring:\u001b[0m     \n",
      "Two-dimensional, size-mutable, potentially heterogeneous tabular data.\n",
      "\n",
      "Data structure also contains labeled axes (rows and columns).\n",
      "Arithmetic operations align on both row and column labels. Can be\n",
      "thought of as a dict-like container for Series objects. The primary\n",
      "pandas data structure.\n",
      "\n",
      "Parameters\n",
      "----------\n",
      "data : ndarray (structured or homogeneous), Iterable, dict, or DataFrame\n",
      "    Dict can contain Series, arrays, constants, dataclass or list-like objects. If\n",
      "    data is a dict, column order follows insertion-order. If a dict contains Series\n",
      "    which have an index defined, it is aligned by its index. This alignment also\n",
      "    occurs if data is a Series or a DataFrame itself. Alignment is done on\n",
      "    Series/DataFrame inputs.\n",
      "\n",
      "    If data is a list of dicts, column order follows insertion-order.\n",
      "\n",
      "index : Index or array-like\n",
      "    Index to use for resulting frame. Will default to RangeIndex if\n",
      "    no indexing information part of input data and no index provided.\n",
      "columns : Index or array-like\n",
      "    Column labels to use for resulting frame when data does not have them,\n",
      "    defaulting to RangeIndex(0, 1, 2, ..., n). If data contains column labels,\n",
      "    will perform column selection instead.\n",
      "dtype : dtype, default None\n",
      "    Data type to force. Only a single dtype is allowed. If None, infer.\n",
      "copy : bool or None, default None\n",
      "    Copy data from inputs.\n",
      "    For dict data, the default of None behaves like ``copy=True``.  For DataFrame\n",
      "    or 2d ndarray input, the default of None behaves like ``copy=False``.\n",
      "    If data is a dict containing one or more Series (possibly of different dtypes),\n",
      "    ``copy=False`` will ensure that these inputs are not copied.\n",
      "\n",
      "    .. versionchanged:: 1.3.0\n",
      "\n",
      "See Also\n",
      "--------\n",
      "DataFrame.from_records : Constructor from tuples, also record arrays.\n",
      "DataFrame.from_dict : From dicts of Series, arrays, or dicts.\n",
      "read_csv : Read a comma-separated values (csv) file into DataFrame.\n",
      "read_table : Read general delimited file into DataFrame.\n",
      "read_clipboard : Read text from clipboard into DataFrame.\n",
      "\n",
      "Notes\n",
      "-----\n",
      "Please reference the :ref:`User Guide <basics.dataframe>` for more information.\n",
      "\n",
      "Examples\n",
      "--------\n",
      "Constructing DataFrame from a dictionary.\n",
      "\n",
      ">>> d = {'col1': [1, 2], 'col2': [3, 4]}\n",
      ">>> df = pd.DataFrame(data=d)\n",
      ">>> df\n",
      "   col1  col2\n",
      "0     1     3\n",
      "1     2     4\n",
      "\n",
      "Notice that the inferred dtype is int64.\n",
      "\n",
      ">>> df.dtypes\n",
      "col1    int64\n",
      "col2    int64\n",
      "dtype: object\n",
      "\n",
      "To enforce a single dtype:\n",
      "\n",
      ">>> df = pd.DataFrame(data=d, dtype=np.int8)\n",
      ">>> df.dtypes\n",
      "col1    int8\n",
      "col2    int8\n",
      "dtype: object\n",
      "\n",
      "Constructing DataFrame from a dictionary including Series:\n",
      "\n",
      ">>> d = {'col1': [0, 1, 2, 3], 'col2': pd.Series([2, 3], index=[2, 3])}\n",
      ">>> pd.DataFrame(data=d, index=[0, 1, 2, 3])\n",
      "   col1  col2\n",
      "0     0   NaN\n",
      "1     1   NaN\n",
      "2     2   2.0\n",
      "3     3   3.0\n",
      "\n",
      "Constructing DataFrame from numpy ndarray:\n",
      "\n",
      ">>> df2 = pd.DataFrame(np.array([[1, 2, 3], [4, 5, 6], [7, 8, 9]]),\n",
      "...                    columns=['a', 'b', 'c'])\n",
      ">>> df2\n",
      "   a  b  c\n",
      "0  1  2  3\n",
      "1  4  5  6\n",
      "2  7  8  9\n",
      "\n",
      "Constructing DataFrame from a numpy ndarray that has labeled columns:\n",
      "\n",
      ">>> data = np.array([(1, 2, 3), (4, 5, 6), (7, 8, 9)],\n",
      "...                 dtype=[(\"a\", \"i4\"), (\"b\", \"i4\"), (\"c\", \"i4\")])\n",
      ">>> df3 = pd.DataFrame(data, columns=['c', 'a'])\n",
      "...\n",
      ">>> df3\n",
      "   c  a\n",
      "0  3  1\n",
      "1  6  4\n",
      "2  9  7\n",
      "\n",
      "Constructing DataFrame from dataclass:\n",
      "\n",
      ">>> from dataclasses import make_dataclass\n",
      ">>> Point = make_dataclass(\"Point\", [(\"x\", int), (\"y\", int)])\n",
      ">>> pd.DataFrame([Point(0, 0), Point(0, 3), Point(2, 3)])\n",
      "   x  y\n",
      "0  0  0\n",
      "1  0  3\n",
      "2  2  3\n",
      "\n",
      "Constructing DataFrame from Series/DataFrame:\n",
      "\n",
      ">>> ser = pd.Series([1, 2, 3], index=[\"a\", \"b\", \"c\"])\n",
      ">>> df = pd.DataFrame(data=ser, index=[\"a\", \"c\"])\n",
      ">>> df\n",
      "   0\n",
      "a  1\n",
      "c  3\n",
      "\n",
      ">>> df1 = pd.DataFrame([1, 2, 3], index=[\"a\", \"b\", \"c\"], columns=[\"x\"])\n",
      ">>> df2 = pd.DataFrame(data=df1, index=[\"a\", \"c\"])\n",
      ">>> df2\n",
      "   x\n",
      "a  1\n",
      "c  3\n",
      "\u001b[1;31mFile:\u001b[0m           c:\\users\\phili\\anaconda3\\envs\\vscode-env\\lib\\site-packages\\pandas\\core\\frame.py\n",
      "\u001b[1;31mType:\u001b[0m           type\n",
      "\u001b[1;31mSubclasses:\u001b[0m     SubclassedDataFrame"
     ]
    }
   ],
   "source": [
    "pd.DataFrame?"
   ]
  },
  {
   "attachments": {},
   "cell_type": "markdown",
   "metadata": {},
   "source": [
    "The keyword input arguments for a ```DataFrame``` instance are similar to those found for a ```Series``` instance however because a ```DataFrame``` is a collection of ```Series``` most of these are plural:\n",
    "\n",
    "* data (plural)\n",
    "* index (singular)\n",
    "* columns (plural of name)\n",
    "* dtype (plural)"
   ]
  },
  {
   "cell_type": "code",
   "execution_count": 19,
   "metadata": {},
   "outputs": [
    {
     "data": {
      "text/html": [
       "<div>\n",
       "<style scoped>\n",
       "    .dataframe tbody tr th:only-of-type {\n",
       "        vertical-align: middle;\n",
       "    }\n",
       "\n",
       "    .dataframe tbody tr th {\n",
       "        vertical-align: top;\n",
       "    }\n",
       "\n",
       "    .dataframe thead th {\n",
       "        text-align: right;\n",
       "    }\n",
       "</style>\n",
       "<table border=\"1\" class=\"dataframe\">\n",
       "  <thead>\n",
       "    <tr style=\"text-align: right;\">\n",
       "      <th></th>\n",
       "      <th>x</th>\n",
       "      <th>y</th>\n",
       "    </tr>\n",
       "  </thead>\n",
       "  <tbody>\n",
       "    <tr>\n",
       "      <th>a</th>\n",
       "      <td>1.1</td>\n",
       "      <td>1.2</td>\n",
       "    </tr>\n",
       "    <tr>\n",
       "      <th>b</th>\n",
       "      <td>2.1</td>\n",
       "      <td>2.2</td>\n",
       "    </tr>\n",
       "    <tr>\n",
       "      <th>c</th>\n",
       "      <td>3.1</td>\n",
       "      <td>3.2</td>\n",
       "    </tr>\n",
       "    <tr>\n",
       "      <th>d</th>\n",
       "      <td>4.1</td>\n",
       "      <td>4.2</td>\n",
       "    </tr>\n",
       "  </tbody>\n",
       "</table>\n",
       "</div>"
      ],
      "text/plain": [
       "     x    y\n",
       "a  1.1  1.2\n",
       "b  2.1  2.2\n",
       "c  3.1  3.2\n",
       "d  4.1  4.2"
      ]
     },
     "execution_count": 19,
     "metadata": {},
     "output_type": "execute_result"
    }
   ],
   "source": [
    "pd.DataFrame(data=[[1.1, 1.2], \n",
    "                   [2.1, 2.2],\n",
    "                   [3.1, 3.2],\n",
    "                   [4.1, 4.2]],\n",
    "             index=['a', 'b', 'c', 'd'],\n",
    "             columns=('x', 'y'),\n",
    "             dtype=(np.float64, np.float64))"
   ]
  },
  {
   "attachments": {},
   "cell_type": "markdown",
   "metadata": {},
   "source": [
    "The dtype has to be supplied as a ```tuple``` containing the ```dtype``` for each ```Series``` instance in the ```DataFrame``` instance. If it is supplied as a list of dtypes a ```TypeError``` will display.\n",
    "\n",
    "Once again normally the ```dtype``` and ```index``` are inferred:"
   ]
  },
  {
   "cell_type": "code",
   "execution_count": 20,
   "metadata": {},
   "outputs": [
    {
     "data": {
      "text/html": [
       "<div>\n",
       "<style scoped>\n",
       "    .dataframe tbody tr th:only-of-type {\n",
       "        vertical-align: middle;\n",
       "    }\n",
       "\n",
       "    .dataframe tbody tr th {\n",
       "        vertical-align: top;\n",
       "    }\n",
       "\n",
       "    .dataframe thead th {\n",
       "        text-align: right;\n",
       "    }\n",
       "</style>\n",
       "<table border=\"1\" class=\"dataframe\">\n",
       "  <thead>\n",
       "    <tr style=\"text-align: right;\">\n",
       "      <th></th>\n",
       "      <th>x</th>\n",
       "      <th>y</th>\n",
       "    </tr>\n",
       "  </thead>\n",
       "  <tbody>\n",
       "    <tr>\n",
       "      <th>0</th>\n",
       "      <td>1.1</td>\n",
       "      <td>1.2</td>\n",
       "    </tr>\n",
       "    <tr>\n",
       "      <th>1</th>\n",
       "      <td>2.1</td>\n",
       "      <td>2.2</td>\n",
       "    </tr>\n",
       "    <tr>\n",
       "      <th>2</th>\n",
       "      <td>3.1</td>\n",
       "      <td>3.2</td>\n",
       "    </tr>\n",
       "    <tr>\n",
       "      <th>3</th>\n",
       "      <td>4.1</td>\n",
       "      <td>4.2</td>\n",
       "    </tr>\n",
       "  </tbody>\n",
       "</table>\n",
       "</div>"
      ],
      "text/plain": [
       "     x    y\n",
       "0  1.1  1.2\n",
       "1  2.1  2.2\n",
       "2  3.1  3.2\n",
       "3  4.1  4.2"
      ]
     },
     "execution_count": 20,
     "metadata": {},
     "output_type": "execute_result"
    }
   ],
   "source": [
    "pd.DataFrame(data=[[1.1, 1.2], \n",
    "                   [2.1, 2.2],\n",
    "                   [3.1, 3.2],\n",
    "                   [4.1, 4.2]],\n",
    "             columns=('x', 'y'))"
   ]
  },
  {
   "attachments": {},
   "cell_type": "markdown",
   "metadata": {},
   "source": [
    "It is common to supply ```columns``` and ```data``` in the form of a mapping. The mapping has a key: value pair. The key should be a string which will become the column name and the value should be a 1darray or list which corresponds to the data:"
   ]
  },
  {
   "cell_type": "code",
   "execution_count": 21,
   "metadata": {},
   "outputs": [
    {
     "data": {
      "text/html": [
       "<div>\n",
       "<style scoped>\n",
       "    .dataframe tbody tr th:only-of-type {\n",
       "        vertical-align: middle;\n",
       "    }\n",
       "\n",
       "    .dataframe tbody tr th {\n",
       "        vertical-align: top;\n",
       "    }\n",
       "\n",
       "    .dataframe thead th {\n",
       "        text-align: right;\n",
       "    }\n",
       "</style>\n",
       "<table border=\"1\" class=\"dataframe\">\n",
       "  <thead>\n",
       "    <tr style=\"text-align: right;\">\n",
       "      <th></th>\n",
       "      <th>x</th>\n",
       "      <th>y</th>\n",
       "    </tr>\n",
       "  </thead>\n",
       "  <tbody>\n",
       "    <tr>\n",
       "      <th>0</th>\n",
       "      <td>1.1</td>\n",
       "      <td>1.2</td>\n",
       "    </tr>\n",
       "    <tr>\n",
       "      <th>1</th>\n",
       "      <td>2.1</td>\n",
       "      <td>2.2</td>\n",
       "    </tr>\n",
       "    <tr>\n",
       "      <th>2</th>\n",
       "      <td>3.1</td>\n",
       "      <td>3.2</td>\n",
       "    </tr>\n",
       "    <tr>\n",
       "      <th>3</th>\n",
       "      <td>3.1</td>\n",
       "      <td>4.2</td>\n",
       "    </tr>\n",
       "  </tbody>\n",
       "</table>\n",
       "</div>"
      ],
      "text/plain": [
       "     x    y\n",
       "0  1.1  1.2\n",
       "1  2.1  2.2\n",
       "2  3.1  3.2\n",
       "3  3.1  4.2"
      ]
     },
     "execution_count": 21,
     "metadata": {},
     "output_type": "execute_result"
    }
   ],
   "source": [
    "pd.DataFrame({'x': np.array([1.1, 2.1, 3.1, 3.1]),\n",
    "              'y': np.array([1.2, 2.2, 3.2, 4.2])})"
   ]
  },
  {
   "attachments": {},
   "cell_type": "markdown",
   "metadata": {},
   "source": [
    "## Series Identifiers"
   ]
  },
  {
   "attachments": {},
   "cell_type": "markdown",
   "metadata": {},
   "source": [
    "If the following ```NDArray``` (1D) and ```Series``` instances are created:"
   ]
  },
  {
   "cell_type": "code",
   "execution_count": 22,
   "metadata": {},
   "outputs": [],
   "source": [
    "xarray = np.array([1.1, 2.1, 3.1, 4.1])"
   ]
  },
  {
   "cell_type": "code",
   "execution_count": 23,
   "metadata": {},
   "outputs": [
    {
     "data": {
      "text/plain": [
       "array([1.1, 2.1, 3.1, 4.1])"
      ]
     },
     "execution_count": 23,
     "metadata": {},
     "output_type": "execute_result"
    }
   ],
   "source": [
    "xarray"
   ]
  },
  {
   "cell_type": "code",
   "execution_count": 24,
   "metadata": {},
   "outputs": [],
   "source": [
    "xseries = pd.Series(xarray, name='x')"
   ]
  },
  {
   "cell_type": "code",
   "execution_count": 25,
   "metadata": {},
   "outputs": [
    {
     "data": {
      "text/plain": [
       "0    1.1\n",
       "1    2.1\n",
       "2    3.1\n",
       "3    4.1\n",
       "Name: x, dtype: float64"
      ]
     },
     "execution_count": 25,
     "metadata": {},
     "output_type": "execute_result"
    }
   ],
   "source": [
    "xseries"
   ]
  },
  {
   "cell_type": "markdown",
   "metadata": {},
   "source": [
    "The ```Series``` is more commonly instantiated directly from a ```list```:"
   ]
  },
  {
   "cell_type": "code",
   "execution_count": 26,
   "metadata": {},
   "outputs": [],
   "source": [
    "yseries = pd.Series([1.1, -2.1, -3.1, None], name='y', dtype=float)"
   ]
  },
  {
   "cell_type": "code",
   "execution_count": 27,
   "metadata": {},
   "outputs": [
    {
     "data": {
      "text/plain": [
       "0    1.1\n",
       "1   -2.1\n",
       "2   -3.1\n",
       "3    NaN\n",
       "Name: y, dtype: float64"
      ]
     },
     "execution_count": 27,
     "metadata": {},
     "output_type": "execute_result"
    }
   ],
   "source": [
    "yseries"
   ]
  },
  {
   "attachments": {},
   "cell_type": "markdown",
   "metadata": {},
   "source": [
    "Its identifiers can be viewed. Notice that the following are consistent with a ```1darray``` instance because a ```Series``` instance is based on a ```NDArray``` (1D). This means the previous knowledge from the ```numpy``` tutorial is applicable to the ```Series```:"
   ]
  },
  {
   "cell_type": "code",
   "execution_count": 28,
   "metadata": {},
   "outputs": [
    {
     "name": "stdout",
     "output_type": "stream",
     "text": [
      "datamodel attribute: ['__array_priority__', '__doc__', '__hash__']\n",
      "datamodel method: ['__abs__', '__add__', '__and__', '__array__', '__array_ufunc__', '__bool__', '__class__', '__contains__', '__copy__', '__deepcopy__', '__delattr__', '__delitem__', '__dir__', '__divmod__', '__eq__', '__float__', '__floordiv__', '__format__', '__ge__', '__getattribute__', '__getitem__', '__getstate__', '__gt__', '__iadd__', '__iand__', '__ifloordiv__', '__imod__', '__imul__', '__init__', '__init_subclass__', '__int__', '__invert__', '__ior__', '__ipow__', '__isub__', '__iter__', '__itruediv__', '__ixor__', '__le__', '__len__', '__lt__', '__matmul__', '__mod__', '__mul__', '__ne__', '__neg__', '__new__', '__or__', '__pos__', '__pow__', '__radd__', '__rand__', '__rdivmod__', '__reduce__', '__reduce_ex__', '__repr__', '__rfloordiv__', '__rmatmul__', '__rmod__', '__rmul__', '__ror__', '__rpow__', '__rsub__', '__rtruediv__', '__rxor__', '__setattr__', '__setitem__', '__setstate__', '__sizeof__', '__str__', '__sub__', '__subclasshook__', '__truediv__', '__xor__']\n",
      "attribute: ['dtype', 'flags', 'nbytes', 'ndim', 'shape', 'size']\n",
      "method: ['all', 'any', 'argmax', 'argmin', 'argsort', 'astype', 'clip', 'copy', 'cumprod', 'cumsum', 'dot', 'item', 'max', 'mean', 'min', 'prod', 'ravel', 'repeat', 'round', 'searchsorted', 'squeeze', 'std', 'sum', 'swapaxes', 'take', 'transpose', 'var', 'view']\n"
     ]
    }
   ],
   "source": [
    "print('datamodel attribute:', end=' ')\n",
    "print_identifier_group(xarray, kind='datamodel_attribute', second=xseries, show_only_intersection_identifiers=True)\n",
    "print('datamodel method:', end=' ')\n",
    "print_identifier_group(xarray, kind='datamodel_method', second=xseries, show_only_intersection_identifiers=True)\n",
    "print('attribute:', end=' ')\n",
    "print_identifier_group(xarray, kind='attribute', second=xseries, show_only_intersection_identifiers=True)\n",
    "print('method:', end=' ')\n",
    "print_identifier_group(xarray, kind='function', second=xseries, show_only_intersection_identifiers=True)"
   ]
  },
  {
   "cell_type": "markdown",
   "metadata": {},
   "source": [
    "Some of the identifiers in a ```NDArray``` (1D) are not applicable to a ```Series``` such as the functions which work over multiple dimensions:"
   ]
  },
  {
   "cell_type": "code",
   "execution_count": 29,
   "metadata": {},
   "outputs": [
    {
     "name": "stdout",
     "output_type": "stream",
     "text": [
      "datamodel attribute: ['__array_interface__', '__array_struct__']\n",
      "datamodel method: ['__array_finalize__', '__array_function__', '__array_prepare__', '__array_wrap__', '__buffer__', '__class_getitem__', '__complex__', '__dlpack__', '__dlpack_device__', '__ilshift__', '__imatmul__', '__index__', '__irshift__', '__lshift__', '__rlshift__', '__rrshift__', '__rshift__']\n",
      "attribute: ['base', 'ctypes', 'data', 'flat', 'imag', 'itemsize', 'real', 'strides']\n",
      "method: ['argpartition', 'byteswap', 'choose', 'compress', 'conj', 'conjugate', 'diagonal', 'dump', 'dumps', 'fill', 'flatten', 'getfield', 'itemset', 'newbyteorder', 'nonzero', 'partition', 'ptp', 'put', 'reshape', 'resize', 'setfield', 'setflags', 'sort', 'tobytes', 'tofile', 'tolist', 'tostring', 'trace']\n"
     ]
    }
   ],
   "source": [
    "print('datamodel attribute:', end=' ')\n",
    "print_identifier_group(xarray, kind='datamodel_attribute', second=xseries, show_unique_identifiers=True)\n",
    "print('datamodel method:', end=' ')\n",
    "print_identifier_group(xarray, kind='datamodel_method', second=xseries, show_unique_identifiers=True)\n",
    "print('attribute:', end=' ')\n",
    "print_identifier_group(xarray, kind='attribute', second=xseries, show_unique_identifiers=True)\n",
    "print('method:', end=' ')\n",
    "print_identifier_group(xarray, kind='function', second=xseries, show_unique_identifiers=True)"
   ]
  },
  {
   "cell_type": "markdown",
   "metadata": {},
   "source": [
    "There are also additional identifiers in the ```Series``` class that are not available in the ```NDArray``` (1D):"
   ]
  },
  {
   "cell_type": "code",
   "execution_count": 30,
   "metadata": {},
   "outputs": [
    {
     "name": "stdout",
     "output_type": "stream",
     "text": [
      "datamodel attribute: ['__annotations__', '__dict__', '__module__', '__pandas_priority__']\n",
      "datamodel method: ['__column_consortium_standard__', '__finalize__', '__getattr__', '__nonzero__', '__round__', '__weakref__']\n",
      "attribute: ['array', 'at', 'attrs', 'axes', 'dtypes', 'empty', 'hasnans', 'iat', 'index', 'is_monotonic_decreasing', 'is_monotonic_increasing', 'is_unique', 'name', 'values']\n",
      "method: ['abs', 'add', 'add_prefix', 'add_suffix', 'agg', 'aggregate', 'align', 'apply', 'asfreq', 'asof', 'at_time', 'autocorr', 'backfill', 'between', 'between_time', 'bfill', 'bool', 'combine', 'combine_first', 'compare', 'convert_dtypes', 'corr', 'count', 'cov', 'cummax', 'cummin', 'describe', 'diff', 'div', 'divide', 'divmod', 'drop', 'drop_duplicates', 'droplevel', 'dropna', 'duplicated', 'eq', 'equals', 'ewm', 'expanding', 'explode', 'factorize', 'ffill', 'fillna', 'filter', 'first', 'first_valid_index', 'floordiv', 'ge', 'get', 'groupby', 'gt', 'head', 'hist', 'idxmax', 'idxmin', 'iloc', 'infer_objects', 'info', 'interpolate', 'isin', 'isna', 'isnull', 'items', 'keys', 'kurt', 'kurtosis', 'last', 'last_valid_index', 'le', 'loc', 'lt', 'map', 'mask', 'median', 'memory_usage', 'mod', 'mode', 'mul', 'multiply', 'ne', 'nlargest', 'notna', 'notnull', 'nsmallest', 'nunique', 'pad', 'pct_change', 'pipe', 'plot', 'pop', 'pow', 'product', 'quantile', 'radd', 'rank', 'rdiv', 'rdivmod', 'reindex', 'reindex_like', 'rename', 'rename_axis', 'reorder_levels', 'replace', 'resample', 'reset_index', 'rfloordiv', 'rmod', 'rmul', 'rolling', 'rpow', 'rsub', 'rtruediv', 'sample', 'sem', 'set_axis', 'set_flags', 'shift', 'skew', 'sort_index', 'sort_values', 'sub', 'subtract', 'swaplevel', 'tail', 'to_clipboard', 'to_csv', 'to_dict', 'to_excel', 'to_frame', 'to_hdf', 'to_json', 'to_latex', 'to_list', 'to_markdown', 'to_numpy', 'to_period', 'to_pickle', 'to_sql', 'to_string', 'to_timestamp', 'to_xarray', 'transform', 'truediv', 'truncate', 'tz_convert', 'tz_localize', 'unique', 'unstack', 'update', 'value_counts', 'where', 'xs']\n"
     ]
    }
   ],
   "source": [
    "print('datamodel attribute:', end=' ')\n",
    "print_identifier_group(xseries, kind='datamodel_attribute', second=xarray, show_unique_identifiers=True)\n",
    "print('datamodel method:', end=' ')\n",
    "print_identifier_group(xseries, kind='datamodel_method', second=xarray, show_unique_identifiers=True)\n",
    "print('attribute:', end=' ')\n",
    "print_identifier_group(xseries, kind='attribute', second=xarray, show_unique_identifiers=True)\n",
    "print('method:', end=' ')\n",
    "print_identifier_group(xseries, kind='function', second=xarray, show_unique_identifiers=True)"
   ]
  },
  {
   "attachments": {},
   "cell_type": "markdown",
   "metadata": {},
   "source": [
    "Many of the additional attributes return the supplied value in the initialisation signature:"
   ]
  },
  {
   "cell_type": "code",
   "execution_count": 31,
   "metadata": {},
   "outputs": [
    {
     "data": {
      "text/plain": [
       "<NumpyExtensionArray>\n",
       "[1.1, 2.1, 3.1, 4.1]\n",
       "Length: 4, dtype: float64"
      ]
     },
     "execution_count": 31,
     "metadata": {},
     "output_type": "execute_result"
    }
   ],
   "source": [
    "xseries.array"
   ]
  },
  {
   "cell_type": "code",
   "execution_count": 32,
   "metadata": {},
   "outputs": [
    {
     "data": {
      "text/plain": [
       "'x'"
      ]
     },
     "execution_count": 32,
     "metadata": {},
     "output_type": "execute_result"
    }
   ],
   "source": [
    "xseries.name"
   ]
  },
  {
   "cell_type": "code",
   "execution_count": 33,
   "metadata": {},
   "outputs": [
    {
     "data": {
      "text/plain": [
       "RangeIndex(start=0, stop=4, step=1)"
      ]
     },
     "execution_count": 33,
     "metadata": {},
     "output_type": "execute_result"
    }
   ],
   "source": [
    "xseries.index"
   ]
  },
  {
   "cell_type": "code",
   "execution_count": 34,
   "metadata": {},
   "outputs": [
    {
     "data": {
      "text/plain": [
       "array([1.1, 2.1, 3.1, 4.1])"
      ]
     },
     "execution_count": 34,
     "metadata": {},
     "output_type": "execute_result"
    }
   ],
   "source": [
    "xseries.values"
   ]
  },
  {
   "cell_type": "code",
   "execution_count": 35,
   "metadata": {},
   "outputs": [
    {
     "data": {
      "text/plain": [
       "dtype('float64')"
      ]
     },
     "execution_count": 35,
     "metadata": {},
     "output_type": "execute_result"
    }
   ],
   "source": [
    "xseries.dtypes"
   ]
  },
  {
   "cell_type": "markdown",
   "metadata": {},
   "source": [
    "Many of the additional methods duplicate the behaviour of an equivalent datamodel method for example ```abs``` and ```__abs__``` (dunder abs). Recall that the datamodel identifier ```__abs__``` defines the way the ```builtins``` function ```abs``` operates with an instance of the ```Series``` class and its use is generally preferred:"
   ]
  },
  {
   "cell_type": "code",
   "execution_count": 36,
   "metadata": {},
   "outputs": [
    {
     "data": {
      "text/plain": [
       "0    1.1\n",
       "1   -2.1\n",
       "2   -3.1\n",
       "3    NaN\n",
       "Name: y, dtype: float64"
      ]
     },
     "execution_count": 36,
     "metadata": {},
     "output_type": "execute_result"
    }
   ],
   "source": [
    "yseries"
   ]
  },
  {
   "cell_type": "code",
   "execution_count": 37,
   "metadata": {},
   "outputs": [
    {
     "data": {
      "text/plain": [
       "0    1.1\n",
       "1    2.1\n",
       "2    3.1\n",
       "3    NaN\n",
       "Name: y, dtype: float64"
      ]
     },
     "execution_count": 37,
     "metadata": {},
     "output_type": "execute_result"
    }
   ],
   "source": [
    "abs(yseries)"
   ]
  },
  {
   "cell_type": "code",
   "execution_count": 38,
   "metadata": {},
   "outputs": [
    {
     "data": {
      "text/plain": [
       "0    1.1\n",
       "1    2.1\n",
       "2    3.1\n",
       "3    NaN\n",
       "Name: y, dtype: float64"
      ]
     },
     "execution_count": 38,
     "metadata": {},
     "output_type": "execute_result"
    }
   ],
   "source": [
    "yseries.abs()"
   ]
  },
  {
   "cell_type": "markdown",
   "metadata": {},
   "source": [
    " The supplementary method ```add``` largely duplicates the behaviour of the datamodel ```__add__``` (dunder add) which recall defines the behaviour of the ```+``` operator which use is generally preferred:"
   ]
  },
  {
   "cell_type": "code",
   "execution_count": 39,
   "metadata": {},
   "outputs": [
    {
     "data": {
      "text/plain": [
       "0    2.2\n",
       "1    0.0\n",
       "2    0.0\n",
       "3    NaN\n",
       "dtype: float64"
      ]
     },
     "execution_count": 39,
     "metadata": {},
     "output_type": "execute_result"
    }
   ],
   "source": [
    "xseries.__add__(yseries)"
   ]
  },
  {
   "cell_type": "code",
   "execution_count": 40,
   "metadata": {},
   "outputs": [
    {
     "data": {
      "text/plain": [
       "0    2.2\n",
       "1    0.0\n",
       "2    0.0\n",
       "3    NaN\n",
       "dtype: float64"
      ]
     },
     "execution_count": 40,
     "metadata": {},
     "output_type": "execute_result"
    }
   ],
   "source": [
    "xseries + yseries"
   ]
  },
  {
   "cell_type": "markdown",
   "metadata": {},
   "source": [
    "The ```add``` method however includes additional options via keyword input arguments such as ```fill_value``` which can be used for an addition involving a missing value: "
   ]
  },
  {
   "cell_type": "code",
   "execution_count": 41,
   "metadata": {},
   "outputs": [
    {
     "data": {
      "text/plain": [
       "0    2.2\n",
       "1    0.0\n",
       "2    0.0\n",
       "3    NaN\n",
       "dtype: float64"
      ]
     },
     "execution_count": 41,
     "metadata": {},
     "output_type": "execute_result"
    }
   ],
   "source": [
    "xseries.add(yseries)"
   ]
  },
  {
   "cell_type": "code",
   "execution_count": 42,
   "metadata": {},
   "outputs": [
    {
     "data": {
      "text/plain": [
       "0    2.2\n",
       "1    0.0\n",
       "2    0.0\n",
       "3    4.1\n",
       "dtype: float64"
      ]
     },
     "execution_count": 42,
     "metadata": {},
     "output_type": "execute_result"
    }
   ],
   "source": [
    "xseries.add(yseries, fill_value=0)"
   ]
  },
  {
   "attachments": {},
   "cell_type": "markdown",
   "metadata": {},
   "source": [
    "## DataFrame Identifiers"
   ]
  },
  {
   "attachments": {},
   "cell_type": "markdown",
   "metadata": {},
   "source": [
    "If the following dataframe is constructed:"
   ]
  },
  {
   "cell_type": "code",
   "execution_count": 43,
   "metadata": {},
   "outputs": [],
   "source": [
    "df = pd.DataFrame({'x': np.array([1.1, 2.1, 3.1, 3.1]),\n",
    "                   'y': np.array([1.2, 2.2, 3.2, 4.2])})"
   ]
  },
  {
   "cell_type": "code",
   "execution_count": 44,
   "metadata": {},
   "outputs": [
    {
     "data": {
      "text/html": [
       "<div>\n",
       "<style scoped>\n",
       "    .dataframe tbody tr th:only-of-type {\n",
       "        vertical-align: middle;\n",
       "    }\n",
       "\n",
       "    .dataframe tbody tr th {\n",
       "        vertical-align: top;\n",
       "    }\n",
       "\n",
       "    .dataframe thead th {\n",
       "        text-align: right;\n",
       "    }\n",
       "</style>\n",
       "<table border=\"1\" class=\"dataframe\">\n",
       "  <thead>\n",
       "    <tr style=\"text-align: right;\">\n",
       "      <th></th>\n",
       "      <th>x</th>\n",
       "      <th>y</th>\n",
       "    </tr>\n",
       "  </thead>\n",
       "  <tbody>\n",
       "    <tr>\n",
       "      <th>0</th>\n",
       "      <td>1.1</td>\n",
       "      <td>1.2</td>\n",
       "    </tr>\n",
       "    <tr>\n",
       "      <th>1</th>\n",
       "      <td>2.1</td>\n",
       "      <td>2.2</td>\n",
       "    </tr>\n",
       "    <tr>\n",
       "      <th>2</th>\n",
       "      <td>3.1</td>\n",
       "      <td>3.2</td>\n",
       "    </tr>\n",
       "    <tr>\n",
       "      <th>3</th>\n",
       "      <td>3.1</td>\n",
       "      <td>4.2</td>\n",
       "    </tr>\n",
       "  </tbody>\n",
       "</table>\n",
       "</div>"
      ],
      "text/plain": [
       "     x    y\n",
       "0  1.1  1.2\n",
       "1  2.1  2.2\n",
       "2  3.1  3.2\n",
       "3  3.1  4.2"
      ]
     },
     "execution_count": 44,
     "metadata": {},
     "output_type": "execute_result"
    }
   ],
   "source": [
    "df"
   ]
  },
  {
   "cell_type": "markdown",
   "metadata": {},
   "source": [
    "A large number of identifiers can be seen to be consistent between a ```DataFrame``` and a ```Series``` instance such as almost all of the datamodel identifiers. These identifiers operate across 2 dimensions across a ```DataFrame``` instance instead of 1 dimension along a ```Series```:"
   ]
  },
  {
   "cell_type": "code",
   "execution_count": 45,
   "metadata": {},
   "outputs": [
    {
     "name": "stdout",
     "output_type": "stream",
     "text": [
      "datamodel attribute: ['__annotations__', '__array_priority__', '__dict__', '__doc__', '__hash__', '__module__', '__pandas_priority__']\n",
      "datamodel method: ['__abs__', '__add__', '__and__', '__array__', '__array_ufunc__', '__bool__', '__class__', '__contains__', '__copy__', '__deepcopy__', '__delattr__', '__delitem__', '__dir__', '__divmod__', '__eq__', '__finalize__', '__floordiv__', '__format__', '__ge__', '__getattr__', '__getattribute__', '__getitem__', '__getstate__', '__gt__', '__iadd__', '__iand__', '__ifloordiv__', '__imod__', '__imul__', '__init__', '__init_subclass__', '__invert__', '__ior__', '__ipow__', '__isub__', '__iter__', '__itruediv__', '__ixor__', '__le__', '__len__', '__lt__', '__matmul__', '__mod__', '__mul__', '__ne__', '__neg__', '__new__', '__nonzero__', '__or__', '__pos__', '__pow__', '__radd__', '__rand__', '__rdivmod__', '__reduce__', '__reduce_ex__', '__repr__', '__rfloordiv__', '__rmatmul__', '__rmod__', '__rmul__', '__ror__', '__round__', '__rpow__', '__rsub__', '__rtruediv__', '__rxor__', '__setattr__', '__setitem__', '__setstate__', '__sizeof__', '__str__', '__sub__', '__subclasshook__', '__truediv__', '__weakref__', '__xor__']\n",
      "attribute: ['at', 'attrs', 'axes', 'dtypes', 'empty', 'flags', 'iat', 'index', 'ndim', 'shape', 'size', 'values']\n",
      "method: ['abs', 'add', 'add_prefix', 'add_suffix', 'agg', 'aggregate', 'align', 'all', 'any', 'apply', 'asfreq', 'asof', 'astype', 'at_time', 'backfill', 'between_time', 'bfill', 'bool', 'clip', 'combine', 'combine_first', 'compare', 'convert_dtypes', 'copy', 'corr', 'count', 'cov', 'cummax', 'cummin', 'cumprod', 'cumsum', 'describe', 'diff', 'div', 'divide', 'dot', 'drop', 'drop_duplicates', 'droplevel', 'dropna', 'duplicated', 'eq', 'equals', 'ewm', 'expanding', 'explode', 'ffill', 'fillna', 'filter', 'first', 'first_valid_index', 'floordiv', 'ge', 'get', 'groupby', 'gt', 'head', 'hist', 'idxmax', 'idxmin', 'iloc', 'infer_objects', 'info', 'interpolate', 'isin', 'isna', 'isnull', 'items', 'keys', 'kurt', 'kurtosis', 'last', 'last_valid_index', 'le', 'loc', 'lt', 'map', 'mask', 'max', 'mean', 'median', 'memory_usage', 'min', 'mod', 'mode', 'mul', 'multiply', 'ne', 'nlargest', 'notna', 'notnull', 'nsmallest', 'nunique', 'pad', 'pct_change', 'pipe', 'plot', 'pop', 'pow', 'prod', 'product', 'quantile', 'radd', 'rank', 'rdiv', 'reindex', 'reindex_like', 'rename', 'rename_axis', 'reorder_levels', 'replace', 'resample', 'reset_index', 'rfloordiv', 'rmod', 'rmul', 'rolling', 'round', 'rpow', 'rsub', 'rtruediv', 'sample', 'sem', 'set_axis', 'set_flags', 'shift', 'skew', 'sort_index', 'sort_values', 'squeeze', 'std', 'sub', 'subtract', 'sum', 'swapaxes', 'swaplevel', 'tail', 'take', 'to_clipboard', 'to_csv', 'to_dict', 'to_excel', 'to_hdf', 'to_json', 'to_latex', 'to_markdown', 'to_numpy', 'to_period', 'to_pickle', 'to_sql', 'to_string', 'to_timestamp', 'to_xarray', 'transform', 'transpose', 'truediv', 'truncate', 'tz_convert', 'tz_localize', 'unstack', 'update', 'value_counts', 'var', 'where', 'xs']\n"
     ]
    }
   ],
   "source": [
    "print('datamodel attribute:', end=' ')\n",
    "print_identifier_group(df, kind='datamodel_attribute', second=xseries, show_only_intersection_identifiers=True)\n",
    "print('datamodel method:', end=' ')\n",
    "print_identifier_group(df, kind='datamodel_method', second=xseries, show_only_intersection_identifiers=True)\n",
    "print('attribute:', end=' ')\n",
    "print_identifier_group(df, kind='attribute', second=xseries, show_only_intersection_identifiers=True)\n",
    "print('method:', end=' ')\n",
    "print_identifier_group(df, kind='function', second=xseries, show_only_intersection_identifiers=True)"
   ]
  },
  {
   "cell_type": "markdown",
   "metadata": {},
   "source": [
    "The ```Series``` has ```Series``` specific attributes which are not available for a ```DataFrame``` instance. The datamodel methods in a ```Series``` not present in a ```DataFrame``` are for type-casting:"
   ]
  },
  {
   "cell_type": "code",
   "execution_count": 46,
   "metadata": {},
   "outputs": [
    {
     "name": "stdout",
     "output_type": "stream",
     "text": [
      "datamodel attribute: []\n",
      "datamodel method: ['__column_consortium_standard__', '__float__', '__int__']\n",
      "attribute: ['array', 'dtype', 'hasnans', 'is_monotonic_decreasing', 'is_monotonic_increasing', 'is_unique', 'name', 'nbytes']\n",
      "method: ['argmax', 'argmin', 'argsort', 'autocorr', 'between', 'divmod', 'factorize', 'item', 'ravel', 'rdivmod', 'repeat', 'searchsorted', 'to_frame', 'to_list', 'unique', 'view']\n"
     ]
    }
   ],
   "source": [
    "print('datamodel attribute:', end=' ')\n",
    "print_identifier_group(xseries, kind='datamodel_attribute', second=df, show_unique_identifiers=True)\n",
    "print('datamodel method:', end=' ')\n",
    "print_identifier_group(xseries, kind='datamodel_method', second=df, show_unique_identifiers=True)\n",
    "print('attribute:', end=' ')\n",
    "print_identifier_group(xseries, kind='attribute', second=df, show_unique_identifiers=True)\n",
    "print('method:', end=' ')\n",
    "print_identifier_group(xseries, kind='function', second=df, show_unique_identifiers=True)"
   ]
  },
  {
   "cell_type": "markdown",
   "metadata": {},
   "source": [
    "The ```DataFrame``` instead has ```DataFrame``` specific attributes such as the name of each ```Series``` in the ```DataFrame```. The ```DataFrame``` also has supplementary methods such as ```insert``` which is used to insert a ```Series``` instance into a ```DataFrame``` instance or ```join``` and ```merge``` used to join or merge ```DataFrame``` instances respectively. The datamodel methods in a ```DataFrame``` not present in a ```Series``` are for type-casting (to a ```DataFrame```):"
   ]
  },
  {
   "cell_type": "code",
   "execution_count": 47,
   "metadata": {},
   "outputs": [
    {
     "name": "stdout",
     "output_type": "stream",
     "text": [
      "datamodel attribute: []\n",
      "datamodel method: ['__dataframe__', '__dataframe_consortium_standard__']\n",
      "attribute: ['columns', 'style', 'x', 'y']\n",
      "method: ['applymap', 'assign', 'boxplot', 'corrwith', 'eval', 'from_dict', 'from_records', 'insert', 'isetitem', 'iterrows', 'itertuples', 'join', 'melt', 'merge', 'pivot', 'pivot_table', 'query', 'select_dtypes', 'set_index', 'stack', 'to_feather', 'to_gbq', 'to_html', 'to_orc', 'to_parquet', 'to_records', 'to_stata', 'to_xml']\n"
     ]
    }
   ],
   "source": [
    "print('datamodel attribute:', end=' ')\n",
    "print_identifier_group(df, kind='datamodel_attribute', second=xseries, show_unique_identifiers=True)\n",
    "print('datamodel method:', end=' ')\n",
    "print_identifier_group(df, kind='datamodel_method', second=xseries, show_unique_identifiers=True)\n",
    "print('attribute:', end=' ')\n",
    "print_identifier_group(df, kind='attribute', second=xseries, show_unique_identifiers=True)\n",
    "print('method:', end=' ')\n",
    "print_identifier_group(df, kind='function', second=xseries, show_unique_identifiers=True)"
   ]
  },
  {
   "attachments": {},
   "cell_type": "markdown",
   "metadata": {},
   "source": [
    "Notice the columns attribute returns a list of the names of each ```Series``` in the ```DataFrame```:"
   ]
  },
  {
   "cell_type": "code",
   "execution_count": 48,
   "metadata": {},
   "outputs": [
    {
     "data": {
      "text/plain": [
       "Index(['x', 'y'], dtype='object')"
      ]
     },
     "execution_count": 48,
     "metadata": {},
     "output_type": "execute_result"
    }
   ],
   "source": [
    "df.columns"
   ]
  },
  {
   "attachments": {},
   "cell_type": "markdown",
   "metadata": {},
   "source": [
    "Since the following conditions are satisfied:"
   ]
  },
  {
   "cell_type": "code",
   "execution_count": 49,
   "metadata": {},
   "outputs": [
    {
     "data": {
      "text/plain": [
       "True"
      ]
     },
     "execution_count": 49,
     "metadata": {},
     "output_type": "execute_result"
    }
   ],
   "source": [
    "'x'.isidentifier()"
   ]
  },
  {
   "cell_type": "code",
   "execution_count": 50,
   "metadata": {},
   "outputs": [
    {
     "data": {
      "text/plain": [
       "True"
      ]
     },
     "execution_count": 50,
     "metadata": {},
     "output_type": "execute_result"
    }
   ],
   "source": [
    "'y'.isidentifier()"
   ]
  },
  {
   "attachments": {},
   "cell_type": "markdown",
   "metadata": {},
   "source": [
    "And these identifier names don't clash with any of the other ```DataFrame``` identifiers, the following become ```DataFrame``` attributes and correspond to each ```Series``` in the ```DataFrame```:"
   ]
  },
  {
   "cell_type": "code",
   "execution_count": 51,
   "metadata": {},
   "outputs": [
    {
     "data": {
      "text/plain": [
       "0    1.1\n",
       "1    2.1\n",
       "2    3.1\n",
       "3    3.1\n",
       "Name: x, dtype: float64"
      ]
     },
     "execution_count": 51,
     "metadata": {},
     "output_type": "execute_result"
    }
   ],
   "source": [
    "df.x"
   ]
  },
  {
   "cell_type": "code",
   "execution_count": 52,
   "metadata": {},
   "outputs": [
    {
     "data": {
      "text/plain": [
       "0    1.2\n",
       "1    2.2\n",
       "2    3.2\n",
       "3    4.2\n",
       "Name: y, dtype: float64"
      ]
     },
     "execution_count": 52,
     "metadata": {},
     "output_type": "execute_result"
    }
   ],
   "source": [
    "df.y"
   ]
  },
  {
   "attachments": {},
   "cell_type": "markdown",
   "metadata": {},
   "source": [
    "## Mutability"
   ]
  },
  {
   "attachments": {},
   "cell_type": "markdown",
   "metadata": {},
   "source": [
    "The ```Index```, ```Series``` and ```DataFrame``` classes are mutable Collections meaning they have the immutable datamodel identifier ```__getitem__``` (dunder getitem) as well as the mutable identifier ```__setitem__``` (dunder setitem):"
   ]
  },
  {
   "cell_type": "code",
   "execution_count": 53,
   "metadata": {},
   "outputs": [
    {
     "data": {
      "text/plain": [
       "True"
      ]
     },
     "execution_count": 53,
     "metadata": {},
     "output_type": "execute_result"
    }
   ],
   "source": [
    "'__getitem__' in dir(pd.Series)"
   ]
  },
  {
   "cell_type": "code",
   "execution_count": 54,
   "metadata": {},
   "outputs": [
    {
     "data": {
      "text/plain": [
       "True"
      ]
     },
     "execution_count": 54,
     "metadata": {},
     "output_type": "execute_result"
    }
   ],
   "source": [
    "'__setitem__' in dir(pd.Series)"
   ]
  },
  {
   "cell_type": "code",
   "execution_count": 55,
   "metadata": {},
   "outputs": [
    {
     "data": {
      "text/plain": [
       "True"
      ]
     },
     "execution_count": 55,
     "metadata": {},
     "output_type": "execute_result"
    }
   ],
   "source": [
    "'__delitem__' in dir(pd.Series)"
   ]
  },
  {
   "attachments": {},
   "cell_type": "markdown",
   "metadata": {},
   "source": [
    "This means the following array can be indexed into:"
   ]
  },
  {
   "cell_type": "code",
   "execution_count": 56,
   "metadata": {},
   "outputs": [],
   "source": [
    "xseries = pd.Series([1.1, 2.1, 3.1, 4.1], name='x')"
   ]
  },
  {
   "cell_type": "code",
   "execution_count": 57,
   "metadata": {},
   "outputs": [
    {
     "data": {
      "text/plain": [
       "0    1.1\n",
       "1    2.1\n",
       "2    3.1\n",
       "3    4.1\n",
       "Name: x, dtype: float64"
      ]
     },
     "execution_count": 57,
     "metadata": {},
     "output_type": "execute_result"
    }
   ],
   "source": [
    "xseries"
   ]
  },
  {
   "attachments": {},
   "cell_type": "markdown",
   "metadata": {},
   "source": [
    "Recall the datamodel ```__getitem__``` (dunder getitem) defines how a ```Collection``` responds to indexing using square brackets:"
   ]
  },
  {
   "cell_type": "code",
   "execution_count": 58,
   "metadata": {},
   "outputs": [
    {
     "data": {
      "text/plain": [
       "1.1"
      ]
     },
     "execution_count": 58,
     "metadata": {},
     "output_type": "execute_result"
    }
   ],
   "source": [
    "xseries[0]"
   ]
  },
  {
   "attachments": {},
   "cell_type": "markdown",
   "metadata": {},
   "source": [
    "Recall that the mutable method ```__setitem__``` (dunder setitem) defines how a ```MutableCollection``` responds to indexing using square brackets followed by assignment to a new value:"
   ]
  },
  {
   "cell_type": "code",
   "execution_count": 59,
   "metadata": {},
   "outputs": [],
   "source": [
    "xseries[0] = None"
   ]
  },
  {
   "cell_type": "code",
   "execution_count": 60,
   "metadata": {},
   "outputs": [
    {
     "data": {
      "text/plain": [
       "0    NaN\n",
       "1    2.1\n",
       "2    3.1\n",
       "3    4.1\n",
       "Name: x, dtype: float64"
      ]
     },
     "execution_count": 60,
     "metadata": {},
     "output_type": "execute_result"
    }
   ],
   "source": [
    "xseries"
   ]
  },
  {
   "attachments": {},
   "cell_type": "markdown",
   "metadata": {},
   "source": [
    "Recall that the mutable method ```__delitem__``` (dunder delitem) defines how a ```MutableCollection``` responds to a ```del``` statement of an element indexing using square brackets:"
   ]
  },
  {
   "cell_type": "code",
   "execution_count": 61,
   "metadata": {},
   "outputs": [],
   "source": [
    "del xseries[2]"
   ]
  },
  {
   "cell_type": "code",
   "execution_count": 62,
   "metadata": {},
   "outputs": [
    {
     "data": {
      "text/plain": [
       "0    NaN\n",
       "1    2.1\n",
       "3    4.1\n",
       "Name: x, dtype: float64"
      ]
     },
     "execution_count": 62,
     "metadata": {},
     "output_type": "execute_result"
    }
   ],
   "source": [
    "xseries"
   ]
  },
  {
   "attachments": {},
   "cell_type": "markdown",
   "metadata": {},
   "source": [
    "Despite the ```NDArray```, ```Series``` and ```DataFrame``` being mutable datatypes, most the identifiers are immutable by default. If the docstring of the method ```dropna``` is examined:"
   ]
  },
  {
   "cell_type": "code",
   "execution_count": 63,
   "metadata": {},
   "outputs": [
    {
     "name": "stdout",
     "output_type": "stream",
     "text": [
      "\u001b[1;31mSignature:\u001b[0m\n",
      "\u001b[0mxseries\u001b[0m\u001b[1;33m.\u001b[0m\u001b[0mdropna\u001b[0m\u001b[1;33m(\u001b[0m\u001b[1;33m\n",
      "\u001b[0m    \u001b[1;33m*\u001b[0m\u001b[1;33m,\u001b[0m\u001b[1;33m\n",
      "\u001b[0m    \u001b[0maxis\u001b[0m\u001b[1;33m:\u001b[0m \u001b[1;34m'Axis'\u001b[0m \u001b[1;33m=\u001b[0m \u001b[1;36m0\u001b[0m\u001b[1;33m,\u001b[0m\u001b[1;33m\n",
      "\u001b[0m    \u001b[0minplace\u001b[0m\u001b[1;33m:\u001b[0m \u001b[1;34m'bool'\u001b[0m \u001b[1;33m=\u001b[0m \u001b[1;32mFalse\u001b[0m\u001b[1;33m,\u001b[0m\u001b[1;33m\n",
      "\u001b[0m    \u001b[0mhow\u001b[0m\u001b[1;33m:\u001b[0m \u001b[1;34m'AnyAll | None'\u001b[0m \u001b[1;33m=\u001b[0m \u001b[1;32mNone\u001b[0m\u001b[1;33m,\u001b[0m\u001b[1;33m\n",
      "\u001b[0m    \u001b[0mignore_index\u001b[0m\u001b[1;33m:\u001b[0m \u001b[1;34m'bool'\u001b[0m \u001b[1;33m=\u001b[0m \u001b[1;32mFalse\u001b[0m\u001b[1;33m,\u001b[0m\u001b[1;33m\n",
      "\u001b[0m\u001b[1;33m)\u001b[0m \u001b[1;33m->\u001b[0m \u001b[1;34m'Series | None'\u001b[0m\u001b[1;33m\u001b[0m\u001b[1;33m\u001b[0m\u001b[0m\n",
      "\u001b[1;31mDocstring:\u001b[0m\n",
      "Return a new Series with missing values removed.\n",
      "\n",
      "See the :ref:`User Guide <missing_data>` for more on which values are\n",
      "considered missing, and how to work with missing data.\n",
      "\n",
      "Parameters\n",
      "----------\n",
      "axis : {0 or 'index'}\n",
      "    Unused. Parameter needed for compatibility with DataFrame.\n",
      "inplace : bool, default False\n",
      "    If True, do operation inplace and return None.\n",
      "how : str, optional\n",
      "    Not in use. Kept for compatibility.\n",
      "ignore_index : bool, default ``False``\n",
      "    If ``True``, the resulting axis will be labeled 0, 1, …, n - 1.\n",
      "\n",
      "    .. versionadded:: 2.0.0\n",
      "\n",
      "Returns\n",
      "-------\n",
      "Series or None\n",
      "    Series with NA entries dropped from it or None if ``inplace=True``.\n",
      "\n",
      "See Also\n",
      "--------\n",
      "Series.isna: Indicate missing values.\n",
      "Series.notna : Indicate existing (non-missing) values.\n",
      "Series.fillna : Replace missing values.\n",
      "DataFrame.dropna : Drop rows or columns which contain NA values.\n",
      "Index.dropna : Drop missing indices.\n",
      "\n",
      "Examples\n",
      "--------\n",
      ">>> ser = pd.Series([1., 2., np.nan])\n",
      ">>> ser\n",
      "0    1.0\n",
      "1    2.0\n",
      "2    NaN\n",
      "dtype: float64\n",
      "\n",
      "Drop NA values from a Series.\n",
      "\n",
      ">>> ser.dropna()\n",
      "0    1.0\n",
      "1    2.0\n",
      "dtype: float64\n",
      "\n",
      "Empty strings are not considered NA values. ``None`` is considered an\n",
      "NA value.\n",
      "\n",
      ">>> ser = pd.Series([np.nan, 2, pd.NaT, '', None, 'I stay'])\n",
      ">>> ser\n",
      "0       NaN\n",
      "1         2\n",
      "2       NaT\n",
      "3\n",
      "4      None\n",
      "5    I stay\n",
      "dtype: object\n",
      ">>> ser.dropna()\n",
      "1         2\n",
      "3\n",
      "5    I stay\n",
      "dtype: object\n",
      "\u001b[1;31mFile:\u001b[0m      c:\\users\\phili\\anaconda3\\envs\\vscode-env\\lib\\site-packages\\pandas\\core\\series.py\n",
      "\u001b[1;31mType:\u001b[0m      method"
     ]
    }
   ],
   "source": [
    "xseries.dropna?"
   ]
  },
  {
   "attachments": {},
   "cell_type": "markdown",
   "metadata": {},
   "source": [
    "Notice it has the keyword input arguments ```inplace```. ```inplace``` has the default value of ```False``` making the method immutable by default and therefore returns a new ```Series```:"
   ]
  },
  {
   "cell_type": "code",
   "execution_count": 64,
   "metadata": {},
   "outputs": [
    {
     "data": {
      "text/plain": [
       "1    2.1\n",
       "3    4.1\n",
       "Name: x, dtype: float64"
      ]
     },
     "execution_count": 64,
     "metadata": {},
     "output_type": "execute_result"
    }
   ],
   "source": [
    "xseries.dropna() # Return value"
   ]
  },
  {
   "cell_type": "code",
   "execution_count": 65,
   "metadata": {},
   "outputs": [
    {
     "data": {
      "text/plain": [
       "0    NaN\n",
       "1    2.1\n",
       "3    4.1\n",
       "Name: x, dtype: float64"
      ]
     },
     "execution_count": 65,
     "metadata": {},
     "output_type": "execute_result"
    }
   ],
   "source": [
    "xseries # Unchanged"
   ]
  },
  {
   "attachments": {},
   "cell_type": "markdown",
   "metadata": {},
   "source": [
    "When ```inplace``` is set to ```True``` the method becomes mutable:"
   ]
  },
  {
   "cell_type": "code",
   "execution_count": 66,
   "metadata": {},
   "outputs": [],
   "source": [
    "xseries.dropna(inplace=True) # No return value"
   ]
  },
  {
   "cell_type": "code",
   "execution_count": 67,
   "metadata": {},
   "outputs": [
    {
     "data": {
      "text/plain": [
       "1    2.1\n",
       "3    4.1\n",
       "Name: x, dtype: float64"
      ]
     },
     "execution_count": 67,
     "metadata": {},
     "output_type": "execute_result"
    }
   ],
   "source": [
    "xseries # Modified inplace"
   ]
  },
  {
   "attachments": {},
   "cell_type": "markdown",
   "metadata": {},
   "source": [
    "The same behaviour can be seen on the method ```reset_index```:"
   ]
  },
  {
   "cell_type": "code",
   "execution_count": 68,
   "metadata": {},
   "outputs": [
    {
     "name": "stdout",
     "output_type": "stream",
     "text": [
      "\u001b[1;31mSignature:\u001b[0m\n",
      "\u001b[0mxseries\u001b[0m\u001b[1;33m.\u001b[0m\u001b[0mreset_index\u001b[0m\u001b[1;33m(\u001b[0m\u001b[1;33m\n",
      "\u001b[0m    \u001b[0mlevel\u001b[0m\u001b[1;33m:\u001b[0m \u001b[1;34m'IndexLabel | None'\u001b[0m \u001b[1;33m=\u001b[0m \u001b[1;32mNone\u001b[0m\u001b[1;33m,\u001b[0m\u001b[1;33m\n",
      "\u001b[0m    \u001b[1;33m*\u001b[0m\u001b[1;33m,\u001b[0m\u001b[1;33m\n",
      "\u001b[0m    \u001b[0mdrop\u001b[0m\u001b[1;33m:\u001b[0m \u001b[1;34m'bool'\u001b[0m \u001b[1;33m=\u001b[0m \u001b[1;32mFalse\u001b[0m\u001b[1;33m,\u001b[0m\u001b[1;33m\n",
      "\u001b[0m    \u001b[0mname\u001b[0m\u001b[1;33m:\u001b[0m \u001b[1;34m'Level'\u001b[0m \u001b[1;33m=\u001b[0m \u001b[1;33m<\u001b[0m\u001b[0mno_default\u001b[0m\u001b[1;33m>\u001b[0m\u001b[1;33m,\u001b[0m\u001b[1;33m\n",
      "\u001b[0m    \u001b[0minplace\u001b[0m\u001b[1;33m:\u001b[0m \u001b[1;34m'bool'\u001b[0m \u001b[1;33m=\u001b[0m \u001b[1;32mFalse\u001b[0m\u001b[1;33m,\u001b[0m\u001b[1;33m\n",
      "\u001b[0m    \u001b[0mallow_duplicates\u001b[0m\u001b[1;33m:\u001b[0m \u001b[1;34m'bool'\u001b[0m \u001b[1;33m=\u001b[0m \u001b[1;32mFalse\u001b[0m\u001b[1;33m,\u001b[0m\u001b[1;33m\n",
      "\u001b[0m\u001b[1;33m)\u001b[0m \u001b[1;33m->\u001b[0m \u001b[1;34m'DataFrame | Series | None'\u001b[0m\u001b[1;33m\u001b[0m\u001b[1;33m\u001b[0m\u001b[0m\n",
      "\u001b[1;31mDocstring:\u001b[0m\n",
      "Generate a new DataFrame or Series with the index reset.\n",
      "\n",
      "This is useful when the index needs to be treated as a column, or\n",
      "when the index is meaningless and needs to be reset to the default\n",
      "before another operation.\n",
      "\n",
      "Parameters\n",
      "----------\n",
      "level : int, str, tuple, or list, default optional\n",
      "    For a Series with a MultiIndex, only remove the specified levels\n",
      "    from the index. Removes all levels by default.\n",
      "drop : bool, default False\n",
      "    Just reset the index, without inserting it as a column in\n",
      "    the new DataFrame.\n",
      "name : object, optional\n",
      "    The name to use for the column containing the original Series\n",
      "    values. Uses ``self.name`` by default. This argument is ignored\n",
      "    when `drop` is True.\n",
      "inplace : bool, default False\n",
      "    Modify the Series in place (do not create a new object).\n",
      "allow_duplicates : bool, default False\n",
      "    Allow duplicate column labels to be created.\n",
      "\n",
      "    .. versionadded:: 1.5.0\n",
      "\n",
      "Returns\n",
      "-------\n",
      "Series or DataFrame or None\n",
      "    When `drop` is False (the default), a DataFrame is returned.\n",
      "    The newly created columns will come first in the DataFrame,\n",
      "    followed by the original Series values.\n",
      "    When `drop` is True, a `Series` is returned.\n",
      "    In either case, if ``inplace=True``, no value is returned.\n",
      "\n",
      "See Also\n",
      "--------\n",
      "DataFrame.reset_index: Analogous function for DataFrame.\n",
      "\n",
      "Examples\n",
      "--------\n",
      ">>> s = pd.Series([1, 2, 3, 4], name='foo',\n",
      "...               index=pd.Index(['a', 'b', 'c', 'd'], name='idx'))\n",
      "\n",
      "Generate a DataFrame with default index.\n",
      "\n",
      ">>> s.reset_index()\n",
      "  idx  foo\n",
      "0   a    1\n",
      "1   b    2\n",
      "2   c    3\n",
      "3   d    4\n",
      "\n",
      "To specify the name of the new column use `name`.\n",
      "\n",
      ">>> s.reset_index(name='values')\n",
      "  idx  values\n",
      "0   a       1\n",
      "1   b       2\n",
      "2   c       3\n",
      "3   d       4\n",
      "\n",
      "To generate a new Series with the default set `drop` to True.\n",
      "\n",
      ">>> s.reset_index(drop=True)\n",
      "0    1\n",
      "1    2\n",
      "2    3\n",
      "3    4\n",
      "Name: foo, dtype: int64\n",
      "\n",
      "The `level` parameter is interesting for Series with a multi-level\n",
      "index.\n",
      "\n",
      ">>> arrays = [np.array(['bar', 'bar', 'baz', 'baz']),\n",
      "...           np.array(['one', 'two', 'one', 'two'])]\n",
      ">>> s2 = pd.Series(\n",
      "...     range(4), name='foo',\n",
      "...     index=pd.MultiIndex.from_arrays(arrays,\n",
      "...                                     names=['a', 'b']))\n",
      "\n",
      "To remove a specific level from the Index, use `level`.\n",
      "\n",
      ">>> s2.reset_index(level='a')\n",
      "       a  foo\n",
      "b\n",
      "one  bar    0\n",
      "two  bar    1\n",
      "one  baz    2\n",
      "two  baz    3\n",
      "\n",
      "If `level` is not set, all levels are removed from the Index.\n",
      "\n",
      ">>> s2.reset_index()\n",
      "     a    b  foo\n",
      "0  bar  one    0\n",
      "1  bar  two    1\n",
      "2  baz  one    2\n",
      "3  baz  two    3\n",
      "\u001b[1;31mFile:\u001b[0m      c:\\users\\phili\\anaconda3\\envs\\vscode-env\\lib\\site-packages\\pandas\\core\\series.py\n",
      "\u001b[1;31mType:\u001b[0m      method"
     ]
    }
   ],
   "source": [
    "xseries.reset_index?"
   ]
  },
  {
   "attachments": {},
   "cell_type": "markdown",
   "metadata": {},
   "source": [
    "With default value this method is immutable and returns a ```DataFrame``` since the old index is now added as the first ```Series```:"
   ]
  },
  {
   "cell_type": "code",
   "execution_count": 69,
   "metadata": {},
   "outputs": [
    {
     "data": {
      "text/html": [
       "<div>\n",
       "<style scoped>\n",
       "    .dataframe tbody tr th:only-of-type {\n",
       "        vertical-align: middle;\n",
       "    }\n",
       "\n",
       "    .dataframe tbody tr th {\n",
       "        vertical-align: top;\n",
       "    }\n",
       "\n",
       "    .dataframe thead th {\n",
       "        text-align: right;\n",
       "    }\n",
       "</style>\n",
       "<table border=\"1\" class=\"dataframe\">\n",
       "  <thead>\n",
       "    <tr style=\"text-align: right;\">\n",
       "      <th></th>\n",
       "      <th>index</th>\n",
       "      <th>x</th>\n",
       "    </tr>\n",
       "  </thead>\n",
       "  <tbody>\n",
       "    <tr>\n",
       "      <th>0</th>\n",
       "      <td>1</td>\n",
       "      <td>2.1</td>\n",
       "    </tr>\n",
       "    <tr>\n",
       "      <th>1</th>\n",
       "      <td>3</td>\n",
       "      <td>4.1</td>\n",
       "    </tr>\n",
       "  </tbody>\n",
       "</table>\n",
       "</div>"
      ],
      "text/plain": [
       "   index    x\n",
       "0      1  2.1\n",
       "1      3  4.1"
      ]
     },
     "execution_count": 69,
     "metadata": {},
     "output_type": "execute_result"
    }
   ],
   "source": [
    "xseries.reset_index() # Return value"
   ]
  },
  {
   "attachments": {},
   "cell_type": "markdown",
   "metadata": {},
   "source": [
    "If the ```drop``` keyword input argument is set to ```True```, a ```Series``` will instead be returned:"
   ]
  },
  {
   "cell_type": "code",
   "execution_count": 70,
   "metadata": {},
   "outputs": [
    {
     "data": {
      "text/plain": [
       "0    2.1\n",
       "1    4.1\n",
       "Name: x, dtype: float64"
      ]
     },
     "execution_count": 70,
     "metadata": {},
     "output_type": "execute_result"
    }
   ],
   "source": [
    "xseries.reset_index(drop=True) # Return value"
   ]
  },
  {
   "attachments": {},
   "cell_type": "markdown",
   "metadata": {},
   "source": [
    "Once again the ```inplace``` keyword input argument can be assigned to ```True``` making the method mutable:"
   ]
  },
  {
   "cell_type": "code",
   "execution_count": 71,
   "metadata": {},
   "outputs": [],
   "source": [
    "xseries.reset_index(drop=True, inplace=True) # No return value"
   ]
  },
  {
   "cell_type": "code",
   "execution_count": 72,
   "metadata": {},
   "outputs": [
    {
     "data": {
      "text/plain": [
       "0    2.1\n",
       "1    4.1\n",
       "Name: x, dtype: float64"
      ]
     },
     "execution_count": 72,
     "metadata": {},
     "output_type": "execute_result"
    }
   ],
   "source": [
    "xseries # Modified inplace"
   ]
  },
  {
   "cell_type": "markdown",
   "metadata": {},
   "source": [
    "The following ```Series``` methods have the parameter ```inplace``` and are therefore immutable by default but are mutable when this parameter is assigned to ```True```:"
   ]
  },
  {
   "cell_type": "code",
   "execution_count": 73,
   "metadata": {},
   "outputs": [
    {
     "name": "stdout",
     "output_type": "stream",
     "text": [
      "['backfill', 'bfill', 'clip', 'drop', 'drop_duplicates', 'dropna', 'ffill', 'fillna', 'interpolate', 'mask', 'pad', 'rename', 'rename_axis', 'replace', 'reset_index', 'sort_index', 'sort_values', 'where']\n"
     ]
    }
   ],
   "source": [
    "print_identifier_group(xseries, kind='function', has_parameter='inplace')"
   ]
  },
  {
   "cell_type": "markdown",
   "metadata": {},
   "source": [
    "Notice that most of these are used to fill, interpolate or drop values along a ```Series``` in response to missing data. \n",
    "\n",
    "```sort_values``` for example can be used to sort the values along a ```Series```, by default ```inplace=False``` and the method is immutable:"
   ]
  },
  {
   "cell_type": "code",
   "execution_count": 74,
   "metadata": {},
   "outputs": [
    {
     "data": {
      "text/plain": [
       "1    4.1\n",
       "0    2.1\n",
       "Name: x, dtype: float64"
      ]
     },
     "execution_count": 74,
     "metadata": {},
     "output_type": "execute_result"
    }
   ],
   "source": [
    "xseries.sort_values(ascending=False) # Return value"
   ]
  },
  {
   "attachments": {},
   "cell_type": "markdown",
   "metadata": {},
   "source": [
    "Recall when an immutable method is used with assignment, the new value returned on the right of the assignment operator is assigned to the instance name or label on the left of the assignment operator. If the instance name is conceptualised as a label, then a reassignment peels the label from the original instance and places it on the new instance created:"
   ]
  },
  {
   "cell_type": "code",
   "execution_count": 75,
   "metadata": {},
   "outputs": [],
   "source": [
    "xseries = xseries.sort_values(ascending=False)"
   ]
  },
  {
   "cell_type": "code",
   "execution_count": 76,
   "metadata": {},
   "outputs": [
    {
     "data": {
      "text/plain": [
       "1    4.1\n",
       "0    2.1\n",
       "Name: x, dtype: float64"
      ]
     },
     "execution_count": 76,
     "metadata": {},
     "output_type": "execute_result"
    }
   ],
   "source": [
    "xseries"
   ]
  },
  {
   "attachments": {},
   "cell_type": "markdown",
   "metadata": {},
   "source": [
    "On the other hand when a method is immutable, there is no return value and the ```Series``` is updated inplace:"
   ]
  },
  {
   "cell_type": "code",
   "execution_count": 77,
   "metadata": {},
   "outputs": [],
   "source": [
    "xseries.sort_values(ascending=True, inplace=True) # No return value"
   ]
  },
  {
   "cell_type": "code",
   "execution_count": 78,
   "metadata": {},
   "outputs": [
    {
     "data": {
      "text/plain": [
       "0    2.1\n",
       "1    4.1\n",
       "Name: x, dtype: float64"
      ]
     },
     "execution_count": 78,
     "metadata": {},
     "output_type": "execute_result"
    }
   ],
   "source": [
    "xseries"
   ]
  },
  {
   "attachments": {},
   "cell_type": "markdown",
   "metadata": {},
   "source": [
    "If assignment is used with an mutable function, the return value of the function is ```None``` and therefore ```None``` will be assigned to the ```new_label```:"
   ]
  },
  {
   "cell_type": "code",
   "execution_count": 79,
   "metadata": {},
   "outputs": [],
   "source": [
    "new_label = xseries.sort_values(ascending=True, inplace=True) "
   ]
  },
  {
   "cell_type": "code",
   "execution_count": 80,
   "metadata": {},
   "outputs": [],
   "source": [
    "new_label"
   ]
  },
  {
   "cell_type": "markdown",
   "metadata": {},
   "source": [
    "And therefore reassignment with the ```inplace``` parameter set to ```True``` should be avoided as the value will being reassigned will be ```None```:"
   ]
  },
  {
   "cell_type": "code",
   "execution_count": 81,
   "metadata": {},
   "outputs": [],
   "source": [
    "xseries = xseries.sort_values(ascending=True, inplace=True) "
   ]
  },
  {
   "cell_type": "code",
   "execution_count": 82,
   "metadata": {},
   "outputs": [],
   "source": [
    "xseries"
   ]
  },
  {
   "attachments": {},
   "cell_type": "markdown",
   "metadata": {},
   "source": [
    "By convention immutable methods have a ```return``` value and mutable methods have no ```return``` value. An exception to this is the mutable method ```pop``` which returns the popped value and mutates the ```Series``` in place:"
   ]
  },
  {
   "cell_type": "code",
   "execution_count": 83,
   "metadata": {},
   "outputs": [],
   "source": [
    "xseries = pd.Series([4.1, 2.1, 3.1, 1.1], name='x')"
   ]
  },
  {
   "cell_type": "code",
   "execution_count": 84,
   "metadata": {},
   "outputs": [
    {
     "data": {
      "text/plain": [
       "0    4.1\n",
       "1    2.1\n",
       "2    3.1\n",
       "3    1.1\n",
       "Name: x, dtype: float64"
      ]
     },
     "execution_count": 84,
     "metadata": {},
     "output_type": "execute_result"
    }
   ],
   "source": [
    "xseries"
   ]
  },
  {
   "cell_type": "code",
   "execution_count": 85,
   "metadata": {},
   "outputs": [
    {
     "data": {
      "text/plain": [
       "2.1"
      ]
     },
     "execution_count": 85,
     "metadata": {},
     "output_type": "execute_result"
    }
   ],
   "source": [
    "xseries.pop(item=1) # Return value"
   ]
  },
  {
   "cell_type": "code",
   "execution_count": 86,
   "metadata": {},
   "outputs": [
    {
     "data": {
      "text/plain": [
       "0    4.1\n",
       "2    3.1\n",
       "3    1.1\n",
       "Name: x, dtype: float64"
      ]
     },
     "execution_count": 86,
     "metadata": {},
     "output_type": "execute_result"
    }
   ],
   "source": [
    "xseries # Mutated"
   ]
  },
  {
   "attachments": {},
   "cell_type": "markdown",
   "metadata": {},
   "source": [
    "The methods that have consistent names to the mutable methods in a ```list``` will also be mutable with no ```return``` value. Most of the other methods are immutable and have a ```return``` value."
   ]
  },
  {
   "cell_type": "markdown",
   "metadata": {},
   "source": [
    "## Axis"
   ]
  },
  {
   "cell_type": "markdown",
   "metadata": {},
   "source": [
    "Another common keyword is ```axis```:"
   ]
  },
  {
   "cell_type": "code",
   "execution_count": 87,
   "metadata": {},
   "outputs": [
    {
     "name": "stdout",
     "output_type": "stream",
     "text": [
      "['add', 'add_prefix', 'add_suffix', 'agg', 'aggregate', 'align', 'all', 'any', 'argmax', 'argmin', 'argsort', 'at_time', 'backfill', 'between_time', 'bfill', 'clip', 'cummax', 'cummin', 'cumprod', 'cumsum', 'div', 'divide', 'divmod', 'drop', 'droplevel', 'dropna', 'eq', 'ewm', 'expanding', 'ffill', 'fillna', 'filter', 'floordiv', 'ge', 'groupby', 'gt', 'idxmax', 'idxmin', 'iloc', 'interpolate', 'kurt', 'kurtosis', 'le', 'loc', 'lt', 'mask', 'max', 'mean', 'median', 'min', 'mod', 'mul', 'multiply', 'ne', 'pad', 'pow', 'prod', 'product', 'radd', 'rank', 'rdiv', 'rdivmod', 'reindex', 'rename', 'rename_axis', 'repeat', 'resample', 'rfloordiv', 'rmod', 'rmul', 'rolling', 'rpow', 'rsub', 'rtruediv', 'sample', 'sem', 'set_axis', 'shift', 'skew', 'sort_index', 'sort_values', 'squeeze', 'std', 'sub', 'subtract', 'sum', 'take', 'transform', 'truediv', 'truncate', 'tz_convert', 'tz_localize', 'var', 'where', 'xs']\n"
     ]
    }
   ],
   "source": [
    "print_identifier_group(xseries, kind='function', has_parameter='axis')"
   ]
  },
  {
   "cell_type": "markdown",
   "metadata": {},
   "source": [
    "A ```Series``` is a column and only has a single ```axis``` available, ```0```. The operation can be conceptualised as sorting the data in the rows by use of the ```Series``` name and therefore ```axis``` can also be assigned to the ```str``` instance ```'rows'```:"
   ]
  },
  {
   "cell_type": "code",
   "execution_count": 88,
   "metadata": {},
   "outputs": [
    {
     "data": {
      "text/plain": [
       "3    1.1\n",
       "2    3.1\n",
       "0    4.1\n",
       "Name: x, dtype: float64"
      ]
     },
     "execution_count": 88,
     "metadata": {},
     "output_type": "execute_result"
    }
   ],
   "source": [
    "xseries.sort_values(ascending=True, axis=0)"
   ]
  },
  {
   "cell_type": "code",
   "execution_count": 89,
   "metadata": {},
   "outputs": [
    {
     "data": {
      "text/plain": [
       "3    1.1\n",
       "2    3.1\n",
       "0    4.1\n",
       "Name: x, dtype: float64"
      ]
     },
     "execution_count": 89,
     "metadata": {},
     "output_type": "execute_result"
    }
   ],
   "source": [
    "xseries.sort_values(ascending=True, axis='rows')"
   ]
  },
  {
   "cell_type": "markdown",
   "metadata": {},
   "source": [
    "For a ```DataFrame``` there are two values for ```axis```, ```0``` which is the default and ```1```:"
   ]
  },
  {
   "cell_type": "code",
   "execution_count": 90,
   "metadata": {},
   "outputs": [],
   "source": [
    "df = pd.DataFrame({'x': np.array([5.1, 2.1, 2.1, 4.1]),\n",
    "                   'y': np.array([6.2, 7.0, 2.1, 1.2])},\n",
    "                   index=['a', 'b', 'c', 'd'])"
   ]
  },
  {
   "cell_type": "code",
   "execution_count": 91,
   "metadata": {},
   "outputs": [
    {
     "data": {
      "text/html": [
       "<div>\n",
       "<style scoped>\n",
       "    .dataframe tbody tr th:only-of-type {\n",
       "        vertical-align: middle;\n",
       "    }\n",
       "\n",
       "    .dataframe tbody tr th {\n",
       "        vertical-align: top;\n",
       "    }\n",
       "\n",
       "    .dataframe thead th {\n",
       "        text-align: right;\n",
       "    }\n",
       "</style>\n",
       "<table border=\"1\" class=\"dataframe\">\n",
       "  <thead>\n",
       "    <tr style=\"text-align: right;\">\n",
       "      <th></th>\n",
       "      <th>x</th>\n",
       "      <th>y</th>\n",
       "    </tr>\n",
       "  </thead>\n",
       "  <tbody>\n",
       "    <tr>\n",
       "      <th>a</th>\n",
       "      <td>5.1</td>\n",
       "      <td>6.2</td>\n",
       "    </tr>\n",
       "    <tr>\n",
       "      <th>b</th>\n",
       "      <td>2.1</td>\n",
       "      <td>7.0</td>\n",
       "    </tr>\n",
       "    <tr>\n",
       "      <th>c</th>\n",
       "      <td>2.1</td>\n",
       "      <td>2.1</td>\n",
       "    </tr>\n",
       "    <tr>\n",
       "      <th>d</th>\n",
       "      <td>4.1</td>\n",
       "      <td>1.2</td>\n",
       "    </tr>\n",
       "  </tbody>\n",
       "</table>\n",
       "</div>"
      ],
      "text/plain": [
       "     x    y\n",
       "a  5.1  6.2\n",
       "b  2.1  7.0\n",
       "c  2.1  2.1\n",
       "d  4.1  1.2"
      ]
     },
     "execution_count": 91,
     "metadata": {},
     "output_type": "execute_result"
    }
   ],
   "source": [
    "df"
   ]
  },
  {
   "cell_type": "markdown",
   "metadata": {},
   "source": [
    "The default ```axis``` is ```0``` which is equivalent to the ```str``` instance ```'rows'```. This is an instruction to sort the data in the rows ```by``` the ordering of the data in the columns:"
   ]
  },
  {
   "cell_type": "code",
   "execution_count": 92,
   "metadata": {},
   "outputs": [
    {
     "data": {
      "text/html": [
       "<div>\n",
       "<style scoped>\n",
       "    .dataframe tbody tr th:only-of-type {\n",
       "        vertical-align: middle;\n",
       "    }\n",
       "\n",
       "    .dataframe tbody tr th {\n",
       "        vertical-align: top;\n",
       "    }\n",
       "\n",
       "    .dataframe thead th {\n",
       "        text-align: right;\n",
       "    }\n",
       "</style>\n",
       "<table border=\"1\" class=\"dataframe\">\n",
       "  <thead>\n",
       "    <tr style=\"text-align: right;\">\n",
       "      <th></th>\n",
       "      <th>x</th>\n",
       "      <th>y</th>\n",
       "    </tr>\n",
       "  </thead>\n",
       "  <tbody>\n",
       "    <tr>\n",
       "      <th>c</th>\n",
       "      <td>2.1</td>\n",
       "      <td>2.1</td>\n",
       "    </tr>\n",
       "    <tr>\n",
       "      <th>b</th>\n",
       "      <td>2.1</td>\n",
       "      <td>7.0</td>\n",
       "    </tr>\n",
       "    <tr>\n",
       "      <th>d</th>\n",
       "      <td>4.1</td>\n",
       "      <td>1.2</td>\n",
       "    </tr>\n",
       "    <tr>\n",
       "      <th>a</th>\n",
       "      <td>5.1</td>\n",
       "      <td>6.2</td>\n",
       "    </tr>\n",
       "  </tbody>\n",
       "</table>\n",
       "</div>"
      ],
      "text/plain": [
       "     x    y\n",
       "c  2.1  2.1\n",
       "b  2.1  7.0\n",
       "d  4.1  1.2\n",
       "a  5.1  6.2"
      ]
     },
     "execution_count": 92,
     "metadata": {},
     "output_type": "execute_result"
    }
   ],
   "source": [
    "df.sort_values(by=['x', 'y'], axis='rows')"
   ]
  },
  {
   "cell_type": "markdown",
   "metadata": {},
   "source": [
    "Notice that the data is sorted in ascending order by ```'x'``` and in the case where the two values in ```'x'``` have duplicate values are sorted by ```'y'``` :"
   ]
  },
  {
   "cell_type": "code",
   "execution_count": 93,
   "metadata": {},
   "outputs": [
    {
     "data": {
      "text/html": [
       "<div>\n",
       "<style scoped>\n",
       "    .dataframe tbody tr th:only-of-type {\n",
       "        vertical-align: middle;\n",
       "    }\n",
       "\n",
       "    .dataframe tbody tr th {\n",
       "        vertical-align: top;\n",
       "    }\n",
       "\n",
       "    .dataframe thead th {\n",
       "        text-align: right;\n",
       "    }\n",
       "</style>\n",
       "<table border=\"1\" class=\"dataframe\">\n",
       "  <thead>\n",
       "    <tr style=\"text-align: right;\">\n",
       "      <th></th>\n",
       "      <th>x</th>\n",
       "      <th>y</th>\n",
       "    </tr>\n",
       "  </thead>\n",
       "  <tbody>\n",
       "    <tr>\n",
       "      <th>a</th>\n",
       "      <td>5.1</td>\n",
       "      <td>6.2</td>\n",
       "    </tr>\n",
       "    <tr>\n",
       "      <th>b</th>\n",
       "      <td>2.1</td>\n",
       "      <td>7.0</td>\n",
       "    </tr>\n",
       "    <tr>\n",
       "      <th>c</th>\n",
       "      <td>2.1</td>\n",
       "      <td>2.1</td>\n",
       "    </tr>\n",
       "    <tr>\n",
       "      <th>d</th>\n",
       "      <td>4.1</td>\n",
       "      <td>1.2</td>\n",
       "    </tr>\n",
       "  </tbody>\n",
       "</table>\n",
       "</div>"
      ],
      "text/plain": [
       "     x    y\n",
       "a  5.1  6.2\n",
       "b  2.1  7.0\n",
       "c  2.1  2.1\n",
       "d  4.1  1.2"
      ]
     },
     "execution_count": 93,
     "metadata": {},
     "output_type": "execute_result"
    }
   ],
   "source": [
    "df"
   ]
  },
  {
   "cell_type": "markdown",
   "metadata": {},
   "source": [
    "The ```axis``` can be changed to ```1``` which is equivalent to the ```str``` instance ```'columns'```. This is an instruction to sort the data in the columns ```by``` the ordering of the data in the index:"
   ]
  },
  {
   "cell_type": "code",
   "execution_count": 94,
   "metadata": {},
   "outputs": [
    {
     "data": {
      "text/html": [
       "<div>\n",
       "<style scoped>\n",
       "    .dataframe tbody tr th:only-of-type {\n",
       "        vertical-align: middle;\n",
       "    }\n",
       "\n",
       "    .dataframe tbody tr th {\n",
       "        vertical-align: top;\n",
       "    }\n",
       "\n",
       "    .dataframe thead th {\n",
       "        text-align: right;\n",
       "    }\n",
       "</style>\n",
       "<table border=\"1\" class=\"dataframe\">\n",
       "  <thead>\n",
       "    <tr style=\"text-align: right;\">\n",
       "      <th></th>\n",
       "      <th>y</th>\n",
       "      <th>x</th>\n",
       "    </tr>\n",
       "  </thead>\n",
       "  <tbody>\n",
       "    <tr>\n",
       "      <th>a</th>\n",
       "      <td>6.2</td>\n",
       "      <td>5.1</td>\n",
       "    </tr>\n",
       "    <tr>\n",
       "      <th>b</th>\n",
       "      <td>7.0</td>\n",
       "      <td>2.1</td>\n",
       "    </tr>\n",
       "    <tr>\n",
       "      <th>c</th>\n",
       "      <td>2.1</td>\n",
       "      <td>2.1</td>\n",
       "    </tr>\n",
       "    <tr>\n",
       "      <th>d</th>\n",
       "      <td>1.2</td>\n",
       "      <td>4.1</td>\n",
       "    </tr>\n",
       "  </tbody>\n",
       "</table>\n",
       "</div>"
      ],
      "text/plain": [
       "     y    x\n",
       "a  6.2  5.1\n",
       "b  7.0  2.1\n",
       "c  2.1  2.1\n",
       "d  1.2  4.1"
      ]
     },
     "execution_count": 94,
     "metadata": {},
     "output_type": "execute_result"
    }
   ],
   "source": [
    "df.sort_values(by=['c', 'd'], axis='columns')"
   ]
  },
  {
   "cell_type": "markdown",
   "metadata": {},
   "source": [
    "The data is sorted in ascending order first by ```'c'``` but the data in the two ```Series``` instances ```'x'``` and ```'y'``` have the same value 2.1 so there is no instruction to specify the order of the ```Series```. The next index value ```'d'``` is used and the value in the ```Series``` instance ```y``` is 1.2 and the ```Series``` instance ```'x'``` is 4.1, therefore ```'y'``` is ordered before ```'x'```."
   ]
  },
  {
   "cell_type": "markdown",
   "metadata": {},
   "source": [
    "In the ```NDArray``` negative indexes are quite commonly used to select an ```axis```. This are not used for the ```Series``` (1D) and ```DataFrame``` (2D) instances which are of fixed dimensions."
   ]
  },
  {
   "attachments": {},
   "cell_type": "markdown",
   "metadata": {},
   "source": [
    "## Indexing and Slicing"
   ]
  },
  {
   "attachments": {},
   "cell_type": "markdown",
   "metadata": {},
   "source": [
    "Supposing the following dictionary instance is instantiated:"
   ]
  },
  {
   "cell_type": "code",
   "execution_count": 95,
   "metadata": {},
   "outputs": [],
   "source": [
    "mapping = {'x': np.array([1.1, 2.1, 3.1, 4.1]),\n",
    "           'y': np.array([1.2, 2.2, 3.2, 4.2])}"
   ]
  },
  {
   "cell_type": "code",
   "execution_count": 96,
   "metadata": {},
   "outputs": [
    {
     "data": {
      "text/plain": [
       "{'x': array([1.1, 2.1, 3.1, 4.1]), 'y': array([1.2, 2.2, 3.2, 4.2])}"
      ]
     },
     "execution_count": 96,
     "metadata": {},
     "output_type": "execute_result"
    }
   ],
   "source": [
    "mapping"
   ]
  },
  {
   "attachments": {},
   "cell_type": "markdown",
   "metadata": {},
   "source": [
    "A ```DataFrame``` instance can be instantiated by assigning the ```mapping``` to the keyword input argument ```data```:"
   ]
  },
  {
   "cell_type": "code",
   "execution_count": 97,
   "metadata": {},
   "outputs": [],
   "source": [
    "df = pd.DataFrame(data=mapping)"
   ]
  },
  {
   "cell_type": "code",
   "execution_count": 98,
   "metadata": {},
   "outputs": [
    {
     "data": {
      "text/html": [
       "<div>\n",
       "<style scoped>\n",
       "    .dataframe tbody tr th:only-of-type {\n",
       "        vertical-align: middle;\n",
       "    }\n",
       "\n",
       "    .dataframe tbody tr th {\n",
       "        vertical-align: top;\n",
       "    }\n",
       "\n",
       "    .dataframe thead th {\n",
       "        text-align: right;\n",
       "    }\n",
       "</style>\n",
       "<table border=\"1\" class=\"dataframe\">\n",
       "  <thead>\n",
       "    <tr style=\"text-align: right;\">\n",
       "      <th></th>\n",
       "      <th>x</th>\n",
       "      <th>y</th>\n",
       "    </tr>\n",
       "  </thead>\n",
       "  <tbody>\n",
       "    <tr>\n",
       "      <th>0</th>\n",
       "      <td>1.1</td>\n",
       "      <td>1.2</td>\n",
       "    </tr>\n",
       "    <tr>\n",
       "      <th>1</th>\n",
       "      <td>2.1</td>\n",
       "      <td>2.2</td>\n",
       "    </tr>\n",
       "    <tr>\n",
       "      <th>2</th>\n",
       "      <td>3.1</td>\n",
       "      <td>3.2</td>\n",
       "    </tr>\n",
       "    <tr>\n",
       "      <th>3</th>\n",
       "      <td>4.1</td>\n",
       "      <td>4.2</td>\n",
       "    </tr>\n",
       "  </tbody>\n",
       "</table>\n",
       "</div>"
      ],
      "text/plain": [
       "     x    y\n",
       "0  1.1  1.2\n",
       "1  2.1  2.2\n",
       "2  3.1  3.2\n",
       "3  4.1  4.2"
      ]
     },
     "execution_count": 98,
     "metadata": {},
     "output_type": "execute_result"
    }
   ],
   "source": [
    "df"
   ]
  },
  {
   "attachments": {},
   "cell_type": "markdown",
   "metadata": {},
   "source": [
    "A ```mapping``` can be indexed with a ```key```. This returns the ```value``` the ```key``` references, in this case the ```NDArray```:"
   ]
  },
  {
   "cell_type": "code",
   "execution_count": 99,
   "metadata": {},
   "outputs": [
    {
     "data": {
      "text/plain": [
       "array([1.1, 2.1, 3.1, 4.1])"
      ]
     },
     "execution_count": 99,
     "metadata": {},
     "output_type": "execute_result"
    }
   ],
   "source": [
    "mapping['x']"
   ]
  },
  {
   "attachments": {},
   "cell_type": "markdown",
   "metadata": {},
   "source": [
    "Analogously, when a ```DataFrame``` is indexed using the ```name``` of a ```Series```, the ```Series``` is returned:"
   ]
  },
  {
   "cell_type": "code",
   "execution_count": 100,
   "metadata": {},
   "outputs": [
    {
     "data": {
      "text/plain": [
       "0    1.1\n",
       "1    2.1\n",
       "2    3.1\n",
       "3    4.1\n",
       "Name: x, dtype: float64"
      ]
     },
     "execution_count": 100,
     "metadata": {},
     "output_type": "execute_result"
    }
   ],
   "source": [
    "df['x']"
   ]
  },
  {
   "attachments": {},
   "cell_type": "markdown",
   "metadata": {},
   "source": [
    "A value in the ```NDArray``` instance can be indexed by use of a second set of square brackets to enclose the numeric index:"
   ]
  },
  {
   "cell_type": "code",
   "execution_count": 101,
   "metadata": {},
   "outputs": [
    {
     "data": {
      "text/plain": [
       "2.1"
      ]
     },
     "execution_count": 101,
     "metadata": {},
     "output_type": "execute_result"
    }
   ],
   "source": [
    "mapping['x'][1]"
   ]
  },
  {
   "attachments": {},
   "cell_type": "markdown",
   "metadata": {},
   "source": [
    "Analogously, a ```value``` in the ```Series``` can be indexed by use of a second set of square brackets to enclose the numeric index:"
   ]
  },
  {
   "cell_type": "code",
   "execution_count": 102,
   "metadata": {},
   "outputs": [
    {
     "data": {
      "text/plain": [
       "2.1"
      ]
     },
     "execution_count": 102,
     "metadata": {},
     "output_type": "execute_result"
    }
   ],
   "source": [
    "df['x'][1]"
   ]
  },
  {
   "attachments": {},
   "cell_type": "markdown",
   "metadata": {},
   "source": [
    "If the DataFrame instance is examined:"
   ]
  },
  {
   "attachments": {},
   "cell_type": "markdown",
   "metadata": {},
   "source": [
    "|index|'x'|'y'|\n",
    "|---|---|---|\n",
    "|0|1.1|1.2|\n",
    "|1|2.1|2.2|\n",
    "|2|3.1|3.2|\n",
    "|3|4.1|4.2|"
   ]
  },
  {
   "attachments": {},
   "cell_type": "markdown",
   "metadata": {},
   "source": [
    "The first set of brackets select the Series:"
   ]
  },
  {
   "attachments": {},
   "cell_type": "markdown",
   "metadata": {},
   "source": [
    "|index|'x'|\n",
    "|---|---|\n",
    "|0|1.1|\n",
    "|1|2.1|\n",
    "|2|3.1|\n",
    "|3|4.1|"
   ]
  },
  {
   "attachments": {},
   "cell_type": "markdown",
   "metadata": {},
   "source": [
    "And the second set of brackets selects the index retrieving the value:"
   ]
  },
  {
   "attachments": {},
   "cell_type": "markdown",
   "metadata": {},
   "source": [
    "2.1"
   ]
  },
  {
   "attachments": {},
   "cell_type": "markdown",
   "metadata": {},
   "source": [
    "If the DataFrame is examined:"
   ]
  },
  {
   "attachments": {},
   "cell_type": "markdown",
   "metadata": {},
   "source": [
    "|index|'x'|'y'|\n",
    "|---|---|---|\n",
    "|0|1.1|1.2|\n",
    "|1|2.1|2.2|\n",
    "|2|3.1|3.2|\n",
    "|3|4.1|4.2|"
   ]
  },
  {
   "attachments": {},
   "cell_type": "markdown",
   "metadata": {},
   "source": [
    "Sometimes the value for each ```Series``` at a value within the ```Index``` instance is desired:"
   ]
  },
  {
   "attachments": {},
   "cell_type": "markdown",
   "metadata": {},
   "source": [
    "|index|'x'|'y'|\n",
    "|---|---|---|\n",
    "|1|2.1|2.2|"
   ]
  },
  {
   "attachments": {},
   "cell_type": "markdown",
   "metadata": {},
   "source": [
    "This is done by use of the property location ```loc```. Note that ```loc``` returns the above *row* as a ```Series``` which is displayed by default as a *column*:"
   ]
  },
  {
   "attachments": {},
   "cell_type": "markdown",
   "metadata": {},
   "source": [
    "|index|1|\n",
    "|---|---|\n",
    "|'x'|2.1|\n",
    "|'y'|2.1|"
   ]
  },
  {
   "attachments": {},
   "cell_type": "markdown",
   "metadata": {},
   "source": [
    "```loc``` is callable and has a docstring:"
   ]
  },
  {
   "cell_type": "code",
   "execution_count": 103,
   "metadata": {},
   "outputs": [
    {
     "data": {
      "text/plain": [
       "True"
      ]
     },
     "execution_count": 103,
     "metadata": {},
     "output_type": "execute_result"
    }
   ],
   "source": [
    "callable(df.loc)"
   ]
  },
  {
   "cell_type": "code",
   "execution_count": 104,
   "metadata": {},
   "outputs": [
    {
     "name": "stdout",
     "output_type": "stream",
     "text": [
      "\u001b[1;31mType:\u001b[0m        property\n",
      "\u001b[1;31mString form:\u001b[0m <property object at 0x00000218B8169580>\n",
      "\u001b[1;31mDocstring:\u001b[0m  \n",
      "Access a group of rows and columns by label(s) or a boolean array.\n",
      "\n",
      "``.loc[]`` is primarily label based, but may also be used with a\n",
      "boolean array.\n",
      "\n",
      "Allowed inputs are:\n",
      "\n",
      "- A single label, e.g. ``5`` or ``'a'``, (note that ``5`` is\n",
      "  interpreted as a *label* of the index, and **never** as an\n",
      "  integer position along the index).\n",
      "- A list or array of labels, e.g. ``['a', 'b', 'c']``.\n",
      "- A slice object with labels, e.g. ``'a':'f'``.\n",
      "\n",
      "  .. warning:: Note that contrary to usual python slices, **both** the\n",
      "      start and the stop are included\n",
      "\n",
      "- A boolean array of the same length as the axis being sliced,\n",
      "  e.g. ``[True, False, True]``.\n",
      "- An alignable boolean Series. The index of the key will be aligned before\n",
      "  masking.\n",
      "- An alignable Index. The Index of the returned selection will be the input.\n",
      "- A ``callable`` function with one argument (the calling Series or\n",
      "  DataFrame) and that returns valid output for indexing (one of the above)\n",
      "\n",
      "See more at :ref:`Selection by Label <indexing.label>`.\n",
      "\n",
      "Raises\n",
      "------\n",
      "KeyError\n",
      "    If any items are not found.\n",
      "IndexingError\n",
      "    If an indexed key is passed and its index is unalignable to the frame index.\n",
      "\n",
      "See Also\n",
      "--------\n",
      "DataFrame.at : Access a single value for a row/column label pair.\n",
      "DataFrame.iloc : Access group of rows and columns by integer position(s).\n",
      "DataFrame.xs : Returns a cross-section (row(s) or column(s)) from the\n",
      "    Series/DataFrame.\n",
      "Series.loc : Access group of values using labels.\n",
      "\n",
      "Examples\n",
      "--------\n",
      "**Getting values**\n",
      "\n",
      ">>> df = pd.DataFrame([[1, 2], [4, 5], [7, 8]],\n",
      "...      index=['cobra', 'viper', 'sidewinder'],\n",
      "...      columns=['max_speed', 'shield'])\n",
      ">>> df\n",
      "            max_speed  shield\n",
      "cobra               1       2\n",
      "viper               4       5\n",
      "sidewinder          7       8\n",
      "\n",
      "Single label. Note this returns the row as a Series.\n",
      "\n",
      ">>> df.loc['viper']\n",
      "max_speed    4\n",
      "shield       5\n",
      "Name: viper, dtype: int64\n",
      "\n",
      "List of labels. Note using ``[[]]`` returns a DataFrame.\n",
      "\n",
      ">>> df.loc[['viper', 'sidewinder']]\n",
      "            max_speed  shield\n",
      "viper               4       5\n",
      "sidewinder          7       8\n",
      "\n",
      "Single label for row and column\n",
      "\n",
      ">>> df.loc['cobra', 'shield']\n",
      "2\n",
      "\n",
      "Slice with labels for row and single label for column. As mentioned\n",
      "above, note that both the start and stop of the slice are included.\n",
      "\n",
      ">>> df.loc['cobra':'viper', 'max_speed']\n",
      "cobra    1\n",
      "viper    4\n",
      "Name: max_speed, dtype: int64\n",
      "\n",
      "Boolean list with the same length as the row axis\n",
      "\n",
      ">>> df.loc[[False, False, True]]\n",
      "            max_speed  shield\n",
      "sidewinder          7       8\n",
      "\n",
      "Alignable boolean Series:\n",
      "\n",
      ">>> df.loc[pd.Series([False, True, False],\n",
      "...        index=['viper', 'sidewinder', 'cobra'])]\n",
      "            max_speed  shield\n",
      "sidewinder          7       8\n",
      "\n",
      "Index (same behavior as ``df.reindex``)\n",
      "\n",
      ">>> df.loc[pd.Index([\"cobra\", \"viper\"], name=\"foo\")]\n",
      "       max_speed  shield\n",
      "foo\n",
      "cobra          1       2\n",
      "viper          4       5\n",
      "\n",
      "Conditional that returns a boolean Series\n",
      "\n",
      ">>> df.loc[df['shield'] > 6]\n",
      "            max_speed  shield\n",
      "sidewinder          7       8\n",
      "\n",
      "Conditional that returns a boolean Series with column labels specified\n",
      "\n",
      ">>> df.loc[df['shield'] > 6, ['max_speed']]\n",
      "            max_speed\n",
      "sidewinder          7\n",
      "\n",
      "Multiple conditional using ``&`` that returns a boolean Series\n",
      "\n",
      ">>> df.loc[(df['max_speed'] > 1) & (df['shield'] < 8)]\n",
      "       max_speed  shield\n",
      "viper          4       5\n",
      "\n",
      "Multiple conditional using ``|`` that returns a boolean Series\n",
      "\n",
      ">>> df.loc[(df['max_speed'] > 4) | (df['shield'] < 5)]\n",
      "            max_speed  shield\n",
      "cobra               1       2\n",
      "sidewinder          7       8\n",
      "\n",
      "Please ensure that each condition is wrapped in parentheses ``()``.\n",
      "See the :ref:`user guide<indexing.boolean>`\n",
      "for more details and explanations of Boolean indexing.\n",
      "\n",
      ".. note::\n",
      "    If you find yourself using 3 or more conditionals in ``.loc[]``,\n",
      "    consider using :ref:`advanced indexing<advanced.advanced_hierarchical>`.\n",
      "\n",
      "    See below for using ``.loc[]`` on MultiIndex DataFrames.\n",
      "\n",
      "Callable that returns a boolean Series\n",
      "\n",
      ">>> df.loc[lambda df: df['shield'] == 8]\n",
      "            max_speed  shield\n",
      "sidewinder          7       8\n",
      "\n",
      "**Setting values**\n",
      "\n",
      "Set value for all items matching the list of labels\n",
      "\n",
      ">>> df.loc[['viper', 'sidewinder'], ['shield']] = 50\n",
      ">>> df\n",
      "            max_speed  shield\n",
      "cobra               1       2\n",
      "viper               4      50\n",
      "sidewinder          7      50\n",
      "\n",
      "Set value for an entire row\n",
      "\n",
      ">>> df.loc['cobra'] = 10\n",
      ">>> df\n",
      "            max_speed  shield\n",
      "cobra              10      10\n",
      "viper               4      50\n",
      "sidewinder          7      50\n",
      "\n",
      "Set value for an entire column\n",
      "\n",
      ">>> df.loc[:, 'max_speed'] = 30\n",
      ">>> df\n",
      "            max_speed  shield\n",
      "cobra              30      10\n",
      "viper              30      50\n",
      "sidewinder         30      50\n",
      "\n",
      "Set value for rows matching callable condition\n",
      "\n",
      ">>> df.loc[df['shield'] > 35] = 0\n",
      ">>> df\n",
      "            max_speed  shield\n",
      "cobra              30      10\n",
      "viper               0       0\n",
      "sidewinder          0       0\n",
      "\n",
      "Add value matching location\n",
      "\n",
      ">>> df.loc[\"viper\", \"shield\"] += 5\n",
      ">>> df\n",
      "            max_speed  shield\n",
      "cobra              30      10\n",
      "viper               0       5\n",
      "sidewinder          0       0\n",
      "\n",
      "Setting using a ``Series`` or a ``DataFrame`` sets the values matching the\n",
      "index labels, not the index positions.\n",
      "\n",
      ">>> shuffled_df = df.loc[[\"viper\", \"cobra\", \"sidewinder\"]]\n",
      ">>> df.loc[:] += shuffled_df\n",
      ">>> df\n",
      "            max_speed  shield\n",
      "cobra              60      20\n",
      "viper               0      10\n",
      "sidewinder          0       0\n",
      "\n",
      "**Getting values on a DataFrame with an index that has integer labels**\n",
      "\n",
      "Another example using integers for the index\n",
      "\n",
      ">>> df = pd.DataFrame([[1, 2], [4, 5], [7, 8]],\n",
      "...      index=[7, 8, 9], columns=['max_speed', 'shield'])\n",
      ">>> df\n",
      "   max_speed  shield\n",
      "7          1       2\n",
      "8          4       5\n",
      "9          7       8\n",
      "\n",
      "Slice with integer labels for rows. As mentioned above, note that both\n",
      "the start and stop of the slice are included.\n",
      "\n",
      ">>> df.loc[7:9]\n",
      "   max_speed  shield\n",
      "7          1       2\n",
      "8          4       5\n",
      "9          7       8\n",
      "\n",
      "**Getting values with a MultiIndex**\n",
      "\n",
      "A number of examples using a DataFrame with a MultiIndex\n",
      "\n",
      ">>> tuples = [\n",
      "...    ('cobra', 'mark i'), ('cobra', 'mark ii'),\n",
      "...    ('sidewinder', 'mark i'), ('sidewinder', 'mark ii'),\n",
      "...    ('viper', 'mark ii'), ('viper', 'mark iii')\n",
      "... ]\n",
      ">>> index = pd.MultiIndex.from_tuples(tuples)\n",
      ">>> values = [[12, 2], [0, 4], [10, 20],\n",
      "...         [1, 4], [7, 1], [16, 36]]\n",
      ">>> df = pd.DataFrame(values, columns=['max_speed', 'shield'], index=index)\n",
      ">>> df\n",
      "                     max_speed  shield\n",
      "cobra      mark i           12       2\n",
      "           mark ii           0       4\n",
      "sidewinder mark i           10      20\n",
      "           mark ii           1       4\n",
      "viper      mark ii           7       1\n",
      "           mark iii         16      36\n",
      "\n",
      "Single label. Note this returns a DataFrame with a single index.\n",
      "\n",
      ">>> df.loc['cobra']\n",
      "         max_speed  shield\n",
      "mark i          12       2\n",
      "mark ii          0       4\n",
      "\n",
      "Single index tuple. Note this returns a Series.\n",
      "\n",
      ">>> df.loc[('cobra', 'mark ii')]\n",
      "max_speed    0\n",
      "shield       4\n",
      "Name: (cobra, mark ii), dtype: int64\n",
      "\n",
      "Single label for row and column. Similar to passing in a tuple, this\n",
      "returns a Series.\n",
      "\n",
      ">>> df.loc['cobra', 'mark i']\n",
      "max_speed    12\n",
      "shield        2\n",
      "Name: (cobra, mark i), dtype: int64\n",
      "\n",
      "Single tuple. Note using ``[[]]`` returns a DataFrame.\n",
      "\n",
      ">>> df.loc[[('cobra', 'mark ii')]]\n",
      "               max_speed  shield\n",
      "cobra mark ii          0       4\n",
      "\n",
      "Single tuple for the index with a single label for the column\n",
      "\n",
      ">>> df.loc[('cobra', 'mark i'), 'shield']\n",
      "2\n",
      "\n",
      "Slice from index tuple to single label\n",
      "\n",
      ">>> df.loc[('cobra', 'mark i'):'viper']\n",
      "                     max_speed  shield\n",
      "cobra      mark i           12       2\n",
      "           mark ii           0       4\n",
      "sidewinder mark i           10      20\n",
      "           mark ii           1       4\n",
      "viper      mark ii           7       1\n",
      "           mark iii         16      36\n",
      "\n",
      "Slice from index tuple to index tuple\n",
      "\n",
      ">>> df.loc[('cobra', 'mark i'):('viper', 'mark ii')]\n",
      "                    max_speed  shield\n",
      "cobra      mark i          12       2\n",
      "           mark ii          0       4\n",
      "sidewinder mark i          10      20\n",
      "           mark ii          1       4\n",
      "viper      mark ii          7       1\n",
      "\n",
      "Please see the :ref:`user guide<advanced.advanced_hierarchical>`\n",
      "for more details and explanations of advanced indexing."
     ]
    }
   ],
   "source": [
    "df.loc?"
   ]
  },
  {
   "attachments": {},
   "cell_type": "markdown",
   "metadata": {},
   "source": [
    "However unlike most callables it is not called using parenthesis:"
   ]
  },
  {
   "cell_type": "code",
   "execution_count": 105,
   "metadata": {},
   "outputs": [
    {
     "data": {
      "text/plain": [
       "<pandas.core.indexing._LocIndexer at 0x218ba5a9360>"
      ]
     },
     "execution_count": 105,
     "metadata": {},
     "output_type": "execute_result"
    }
   ],
   "source": [
    "df.loc"
   ]
  },
  {
   "cell_type": "code",
   "execution_count": 106,
   "metadata": {},
   "outputs": [
    {
     "data": {
      "text/plain": [
       "<pandas.core.indexing._LocIndexer at 0x218ba5768f0>"
      ]
     },
     "execution_count": 106,
     "metadata": {},
     "output_type": "execute_result"
    }
   ],
   "source": [
    "df.loc()"
   ]
  },
  {
   "attachments": {},
   "cell_type": "markdown",
   "metadata": {},
   "source": [
    "Instead ```loc``` is a property. Under the hood it uses syntactic sugar around the datamodel method ```__getitem__``` that switches the order of indexing from the default ```[column, index]``` to ```[index, column]```:"
   ]
  },
  {
   "cell_type": "code",
   "execution_count": 107,
   "metadata": {},
   "outputs": [
    {
     "data": {
      "text/plain": [
       "x    2.1\n",
       "y    2.2\n",
       "Name: 1, dtype: float64"
      ]
     },
     "execution_count": 107,
     "metadata": {},
     "output_type": "execute_result"
    }
   ],
   "source": [
    "df.loc[1]"
   ]
  },
  {
   "cell_type": "code",
   "execution_count": 108,
   "metadata": {},
   "outputs": [
    {
     "data": {
      "text/plain": [
       "2.1"
      ]
     },
     "execution_count": 108,
     "metadata": {},
     "output_type": "execute_result"
    }
   ],
   "source": [
    "df.loc[1]['x']"
   ]
  },
  {
   "attachments": {},
   "cell_type": "markdown",
   "metadata": {},
   "source": [
    "```loc``` can also uses index values:"
   ]
  },
  {
   "cell_type": "code",
   "execution_count": 109,
   "metadata": {},
   "outputs": [
    {
     "data": {
      "text/html": [
       "<div>\n",
       "<style scoped>\n",
       "    .dataframe tbody tr th:only-of-type {\n",
       "        vertical-align: middle;\n",
       "    }\n",
       "\n",
       "    .dataframe tbody tr th {\n",
       "        vertical-align: top;\n",
       "    }\n",
       "\n",
       "    .dataframe thead th {\n",
       "        text-align: right;\n",
       "    }\n",
       "</style>\n",
       "<table border=\"1\" class=\"dataframe\">\n",
       "  <thead>\n",
       "    <tr style=\"text-align: right;\">\n",
       "      <th></th>\n",
       "      <th>x</th>\n",
       "      <th>y</th>\n",
       "    </tr>\n",
       "  </thead>\n",
       "  <tbody>\n",
       "    <tr>\n",
       "      <th>0</th>\n",
       "      <td>1.1</td>\n",
       "      <td>1.2</td>\n",
       "    </tr>\n",
       "    <tr>\n",
       "      <th>2</th>\n",
       "      <td>3.1</td>\n",
       "      <td>3.2</td>\n",
       "    </tr>\n",
       "  </tbody>\n",
       "</table>\n",
       "</div>"
      ],
      "text/plain": [
       "     x    y\n",
       "0  1.1  1.2\n",
       "2  3.1  3.2"
      ]
     },
     "execution_count": 109,
     "metadata": {},
     "output_type": "execute_result"
    }
   ],
   "source": [
    "df.loc[[0, 2]]"
   ]
  },
  {
   "attachments": {},
   "cell_type": "markdown",
   "metadata": {},
   "source": [
    "The related property integer location ```iloc``` always uses a numeric index. Since ```iloc``` has a numeric index, additional numeric operations can be used such as slicing:"
   ]
  },
  {
   "cell_type": "code",
   "execution_count": 110,
   "metadata": {},
   "outputs": [
    {
     "data": {
      "text/html": [
       "<div>\n",
       "<style scoped>\n",
       "    .dataframe tbody tr th:only-of-type {\n",
       "        vertical-align: middle;\n",
       "    }\n",
       "\n",
       "    .dataframe tbody tr th {\n",
       "        vertical-align: top;\n",
       "    }\n",
       "\n",
       "    .dataframe thead th {\n",
       "        text-align: right;\n",
       "    }\n",
       "</style>\n",
       "<table border=\"1\" class=\"dataframe\">\n",
       "  <thead>\n",
       "    <tr style=\"text-align: right;\">\n",
       "      <th></th>\n",
       "      <th>x</th>\n",
       "      <th>y</th>\n",
       "    </tr>\n",
       "  </thead>\n",
       "  <tbody>\n",
       "    <tr>\n",
       "      <th>0</th>\n",
       "      <td>1.1</td>\n",
       "      <td>1.2</td>\n",
       "    </tr>\n",
       "    <tr>\n",
       "      <th>2</th>\n",
       "      <td>3.1</td>\n",
       "      <td>3.2</td>\n",
       "    </tr>\n",
       "  </tbody>\n",
       "</table>\n",
       "</div>"
      ],
      "text/plain": [
       "     x    y\n",
       "0  1.1  1.2\n",
       "2  3.1  3.2"
      ]
     },
     "execution_count": 110,
     "metadata": {},
     "output_type": "execute_result"
    }
   ],
   "source": [
    "df.iloc[[0, 2]]"
   ]
  },
  {
   "cell_type": "code",
   "execution_count": 111,
   "metadata": {},
   "outputs": [
    {
     "data": {
      "text/html": [
       "<div>\n",
       "<style scoped>\n",
       "    .dataframe tbody tr th:only-of-type {\n",
       "        vertical-align: middle;\n",
       "    }\n",
       "\n",
       "    .dataframe tbody tr th {\n",
       "        vertical-align: top;\n",
       "    }\n",
       "\n",
       "    .dataframe thead th {\n",
       "        text-align: right;\n",
       "    }\n",
       "</style>\n",
       "<table border=\"1\" class=\"dataframe\">\n",
       "  <thead>\n",
       "    <tr style=\"text-align: right;\">\n",
       "      <th></th>\n",
       "      <th>x</th>\n",
       "      <th>y</th>\n",
       "    </tr>\n",
       "  </thead>\n",
       "  <tbody>\n",
       "    <tr>\n",
       "      <th>0</th>\n",
       "      <td>1.1</td>\n",
       "      <td>1.2</td>\n",
       "    </tr>\n",
       "    <tr>\n",
       "      <th>1</th>\n",
       "      <td>2.1</td>\n",
       "      <td>2.2</td>\n",
       "    </tr>\n",
       "  </tbody>\n",
       "</table>\n",
       "</div>"
      ],
      "text/plain": [
       "     x    y\n",
       "0  1.1  1.2\n",
       "1  2.1  2.2"
      ]
     },
     "execution_count": 111,
     "metadata": {},
     "output_type": "execute_result"
    }
   ],
   "source": [
    "df.iloc[0:2]"
   ]
  },
  {
   "attachments": {},
   "cell_type": "markdown",
   "metadata": {},
   "source": [
    "If the following DataFrame instance is created with index labels i.e. a non-numeric index:"
   ]
  },
  {
   "attachments": {},
   "cell_type": "markdown",
   "metadata": {},
   "source": [
    "|index|'x'|'y'|\n",
    "|---|---|---|\n",
    "|'a'|1.1|1.2|\n",
    "|'b'|2.1|2.2|\n",
    "|'c'|3.1|3.2|\n",
    "|'d'|4.1|4.2|"
   ]
  },
  {
   "cell_type": "code",
   "execution_count": 112,
   "metadata": {},
   "outputs": [],
   "source": [
    "df = pd.DataFrame(index=['a', 'b', 'c', 'd'],\n",
    "                  data=mapping)"
   ]
  },
  {
   "cell_type": "code",
   "execution_count": 113,
   "metadata": {},
   "outputs": [
    {
     "data": {
      "text/html": [
       "<div>\n",
       "<style scoped>\n",
       "    .dataframe tbody tr th:only-of-type {\n",
       "        vertical-align: middle;\n",
       "    }\n",
       "\n",
       "    .dataframe tbody tr th {\n",
       "        vertical-align: top;\n",
       "    }\n",
       "\n",
       "    .dataframe thead th {\n",
       "        text-align: right;\n",
       "    }\n",
       "</style>\n",
       "<table border=\"1\" class=\"dataframe\">\n",
       "  <thead>\n",
       "    <tr style=\"text-align: right;\">\n",
       "      <th></th>\n",
       "      <th>x</th>\n",
       "      <th>y</th>\n",
       "    </tr>\n",
       "  </thead>\n",
       "  <tbody>\n",
       "    <tr>\n",
       "      <th>a</th>\n",
       "      <td>1.1</td>\n",
       "      <td>1.2</td>\n",
       "    </tr>\n",
       "    <tr>\n",
       "      <th>b</th>\n",
       "      <td>2.1</td>\n",
       "      <td>2.2</td>\n",
       "    </tr>\n",
       "    <tr>\n",
       "      <th>c</th>\n",
       "      <td>3.1</td>\n",
       "      <td>3.2</td>\n",
       "    </tr>\n",
       "    <tr>\n",
       "      <th>d</th>\n",
       "      <td>4.1</td>\n",
       "      <td>4.2</td>\n",
       "    </tr>\n",
       "  </tbody>\n",
       "</table>\n",
       "</div>"
      ],
      "text/plain": [
       "     x    y\n",
       "a  1.1  1.2\n",
       "b  2.1  2.2\n",
       "c  3.1  3.2\n",
       "d  4.1  4.2"
      ]
     },
     "execution_count": 113,
     "metadata": {},
     "output_type": "execute_result"
    }
   ],
   "source": [
    "df"
   ]
  },
  {
   "attachments": {},
   "cell_type": "markdown",
   "metadata": {},
   "source": [
    "The difference between ```loc``` and ```iloc``` can be seen more clearly. For ```loc``` the index label is used:"
   ]
  },
  {
   "cell_type": "code",
   "execution_count": 114,
   "metadata": {},
   "outputs": [
    {
     "data": {
      "text/plain": [
       "x    2.1\n",
       "y    2.2\n",
       "Name: b, dtype: float64"
      ]
     },
     "execution_count": 114,
     "metadata": {},
     "output_type": "execute_result"
    }
   ],
   "source": [
    "df.loc['b']"
   ]
  },
  {
   "attachments": {},
   "cell_type": "markdown",
   "metadata": {},
   "source": [
    "Despite the labels being non-numeric ```iloc``` handles the index values numerically:"
   ]
  },
  {
   "cell_type": "code",
   "execution_count": 115,
   "metadata": {},
   "outputs": [
    {
     "data": {
      "text/plain": [
       "x    2.1\n",
       "y    2.2\n",
       "Name: b, dtype: float64"
      ]
     },
     "execution_count": 115,
     "metadata": {},
     "output_type": "execute_result"
    }
   ],
   "source": [
    "df.iloc[1]"
   ]
  },
  {
   "attachments": {},
   "cell_type": "markdown",
   "metadata": {},
   "source": [
    "Under the hood ```iloc``` essentially uses the ```DataFrame``` instances reset index:"
   ]
  },
  {
   "cell_type": "code",
   "execution_count": 116,
   "metadata": {},
   "outputs": [
    {
     "data": {
      "text/html": [
       "<div>\n",
       "<style scoped>\n",
       "    .dataframe tbody tr th:only-of-type {\n",
       "        vertical-align: middle;\n",
       "    }\n",
       "\n",
       "    .dataframe tbody tr th {\n",
       "        vertical-align: top;\n",
       "    }\n",
       "\n",
       "    .dataframe thead th {\n",
       "        text-align: right;\n",
       "    }\n",
       "</style>\n",
       "<table border=\"1\" class=\"dataframe\">\n",
       "  <thead>\n",
       "    <tr style=\"text-align: right;\">\n",
       "      <th></th>\n",
       "      <th>x</th>\n",
       "      <th>y</th>\n",
       "    </tr>\n",
       "  </thead>\n",
       "  <tbody>\n",
       "    <tr>\n",
       "      <th>0</th>\n",
       "      <td>1.1</td>\n",
       "      <td>1.2</td>\n",
       "    </tr>\n",
       "    <tr>\n",
       "      <th>1</th>\n",
       "      <td>2.1</td>\n",
       "      <td>2.2</td>\n",
       "    </tr>\n",
       "    <tr>\n",
       "      <th>2</th>\n",
       "      <td>3.1</td>\n",
       "      <td>3.2</td>\n",
       "    </tr>\n",
       "    <tr>\n",
       "      <th>3</th>\n",
       "      <td>4.1</td>\n",
       "      <td>4.2</td>\n",
       "    </tr>\n",
       "  </tbody>\n",
       "</table>\n",
       "</div>"
      ],
      "text/plain": [
       "     x    y\n",
       "0  1.1  1.2\n",
       "1  2.1  2.2\n",
       "2  3.1  3.2\n",
       "3  4.1  4.2"
      ]
     },
     "execution_count": 116,
     "metadata": {},
     "output_type": "execute_result"
    }
   ],
   "source": [
    "df.reset_index(drop=True)"
   ]
  },
  {
   "cell_type": "code",
   "execution_count": 117,
   "metadata": {},
   "outputs": [
    {
     "data": {
      "text/plain": [
       "x    2.1\n",
       "y    2.2\n",
       "Name: b, dtype: float64"
      ]
     },
     "execution_count": 117,
     "metadata": {},
     "output_type": "execute_result"
    }
   ],
   "source": [
    "df.iloc[1]"
   ]
  },
  {
   "attachments": {},
   "cell_type": "markdown",
   "metadata": {},
   "source": [
    "When ```loc``` and ```iloc``` are used to select a single index, the data for each ```Series``` at this index is itself displayed as a ```Series```:"
   ]
  },
  {
   "cell_type": "code",
   "execution_count": 118,
   "metadata": {},
   "outputs": [
    {
     "data": {
      "text/plain": [
       "x    2.1\n",
       "y    2.2\n",
       "Name: b, dtype: float64"
      ]
     },
     "execution_count": 118,
     "metadata": {},
     "output_type": "execute_result"
    }
   ],
   "source": [
    "df.loc['b']"
   ]
  },
  {
   "cell_type": "code",
   "execution_count": 119,
   "metadata": {},
   "outputs": [
    {
     "data": {
      "text/plain": [
       "x    2.1\n",
       "y    2.2\n",
       "Name: b, dtype: float64"
      ]
     },
     "execution_count": 119,
     "metadata": {},
     "output_type": "execute_result"
    }
   ],
   "source": [
    "df.iloc[1]"
   ]
  },
  {
   "attachments": {},
   "cell_type": "markdown",
   "metadata": {},
   "source": [
    "Because each of the above are a ```Series``` instance, they can in turn be indexed into:"
   ]
  },
  {
   "cell_type": "code",
   "execution_count": 120,
   "metadata": {},
   "outputs": [
    {
     "data": {
      "text/plain": [
       "2.2"
      ]
     },
     "execution_count": 120,
     "metadata": {},
     "output_type": "execute_result"
    }
   ],
   "source": [
    "df.loc['b']['y']"
   ]
  },
  {
   "cell_type": "code",
   "execution_count": 121,
   "metadata": {},
   "outputs": [
    {
     "data": {
      "text/plain": [
       "2.2"
      ]
     },
     "execution_count": 121,
     "metadata": {},
     "output_type": "execute_result"
    }
   ],
   "source": [
    "df.iloc[1]['y']"
   ]
  },
  {
   "attachments": {},
   "cell_type": "markdown",
   "metadata": {},
   "source": [
    "When ```iloc``` and ```loc``` are instead used to select data from multiple indexes a ```DataFrame``` instance is output:"
   ]
  },
  {
   "cell_type": "code",
   "execution_count": 122,
   "metadata": {},
   "outputs": [
    {
     "data": {
      "text/html": [
       "<div>\n",
       "<style scoped>\n",
       "    .dataframe tbody tr th:only-of-type {\n",
       "        vertical-align: middle;\n",
       "    }\n",
       "\n",
       "    .dataframe tbody tr th {\n",
       "        vertical-align: top;\n",
       "    }\n",
       "\n",
       "    .dataframe thead th {\n",
       "        text-align: right;\n",
       "    }\n",
       "</style>\n",
       "<table border=\"1\" class=\"dataframe\">\n",
       "  <thead>\n",
       "    <tr style=\"text-align: right;\">\n",
       "      <th></th>\n",
       "      <th>x</th>\n",
       "      <th>y</th>\n",
       "    </tr>\n",
       "  </thead>\n",
       "  <tbody>\n",
       "    <tr>\n",
       "      <th>a</th>\n",
       "      <td>1.1</td>\n",
       "      <td>1.2</td>\n",
       "    </tr>\n",
       "    <tr>\n",
       "      <th>b</th>\n",
       "      <td>2.1</td>\n",
       "      <td>2.2</td>\n",
       "    </tr>\n",
       "  </tbody>\n",
       "</table>\n",
       "</div>"
      ],
      "text/plain": [
       "     x    y\n",
       "a  1.1  1.2\n",
       "b  2.1  2.2"
      ]
     },
     "execution_count": 122,
     "metadata": {},
     "output_type": "execute_result"
    }
   ],
   "source": [
    "df.loc[['a', 'b']]"
   ]
  },
  {
   "cell_type": "code",
   "execution_count": 123,
   "metadata": {},
   "outputs": [
    {
     "data": {
      "text/html": [
       "<div>\n",
       "<style scoped>\n",
       "    .dataframe tbody tr th:only-of-type {\n",
       "        vertical-align: middle;\n",
       "    }\n",
       "\n",
       "    .dataframe tbody tr th {\n",
       "        vertical-align: top;\n",
       "    }\n",
       "\n",
       "    .dataframe thead th {\n",
       "        text-align: right;\n",
       "    }\n",
       "</style>\n",
       "<table border=\"1\" class=\"dataframe\">\n",
       "  <thead>\n",
       "    <tr style=\"text-align: right;\">\n",
       "      <th></th>\n",
       "      <th>x</th>\n",
       "      <th>y</th>\n",
       "    </tr>\n",
       "  </thead>\n",
       "  <tbody>\n",
       "    <tr>\n",
       "      <th>a</th>\n",
       "      <td>1.1</td>\n",
       "      <td>1.2</td>\n",
       "    </tr>\n",
       "    <tr>\n",
       "      <th>b</th>\n",
       "      <td>2.1</td>\n",
       "      <td>2.2</td>\n",
       "    </tr>\n",
       "  </tbody>\n",
       "</table>\n",
       "</div>"
      ],
      "text/plain": [
       "     x    y\n",
       "a  1.1  1.2\n",
       "b  2.1  2.2"
      ]
     },
     "execution_count": 123,
     "metadata": {},
     "output_type": "execute_result"
    }
   ],
   "source": [
    "df.iloc[0:2]"
   ]
  },
  {
   "attachments": {},
   "cell_type": "markdown",
   "metadata": {},
   "source": [
    "And because each of these is a ```DataFrame``` instance, the ```Series``` within the ```DataFrame``` instance can then be indexed using the ```Series``` name:"
   ]
  },
  {
   "cell_type": "code",
   "execution_count": 124,
   "metadata": {},
   "outputs": [
    {
     "data": {
      "text/plain": [
       "a    1.1\n",
       "b    2.1\n",
       "Name: x, dtype: float64"
      ]
     },
     "execution_count": 124,
     "metadata": {},
     "output_type": "execute_result"
    }
   ],
   "source": [
    "df.loc[['a', 'b']]['x']"
   ]
  },
  {
   "cell_type": "code",
   "execution_count": 125,
   "metadata": {},
   "outputs": [
    {
     "data": {
      "text/plain": [
       "a    1.1\n",
       "b    2.1\n",
       "Name: x, dtype: float64"
      ]
     },
     "execution_count": 125,
     "metadata": {},
     "output_type": "execute_result"
    }
   ],
   "source": [
    "df.iloc[0:2]['x']"
   ]
  },
  {
   "attachments": {},
   "cell_type": "markdown",
   "metadata": {},
   "source": [
    "```at``` is used for a scalar selector and requires both the index and the ```Series``` name: "
   ]
  },
  {
   "cell_type": "code",
   "execution_count": 126,
   "metadata": {},
   "outputs": [
    {
     "data": {
      "text/plain": [
       "1.2"
      ]
     },
     "execution_count": 126,
     "metadata": {},
     "output_type": "execute_result"
    }
   ],
   "source": [
    "df.at['a', 'y']"
   ]
  },
  {
   "attachments": {},
   "cell_type": "markdown",
   "metadata": {},
   "source": [
    "The related integer at ```iat``` is also a scalar selector and requires both the index and column to be specified as integers:"
   ]
  },
  {
   "cell_type": "code",
   "execution_count": 127,
   "metadata": {},
   "outputs": [
    {
     "data": {
      "text/plain": [
       "1.2"
      ]
     },
     "execution_count": 127,
     "metadata": {},
     "output_type": "execute_result"
    }
   ],
   "source": [
    "df.iat[0, 1]"
   ]
  },
  {
   "attachments": {},
   "cell_type": "markdown",
   "metadata": {},
   "source": [
    "Conceptualise, the ```DataFrame``` being cast to a ```NDArray``` (2D) and indexing a value from it:"
   ]
  },
  {
   "cell_type": "code",
   "execution_count": 128,
   "metadata": {},
   "outputs": [
    {
     "data": {
      "text/plain": [
       "array([[1.1, 1.2],\n",
       "       [2.1, 2.2],\n",
       "       [3.1, 3.2],\n",
       "       [4.1, 4.2]])"
      ]
     },
     "execution_count": 128,
     "metadata": {},
     "output_type": "execute_result"
    }
   ],
   "source": [
    "df.to_numpy()"
   ]
  },
  {
   "cell_type": "code",
   "execution_count": 129,
   "metadata": {},
   "outputs": [
    {
     "data": {
      "text/plain": [
       "1.2"
      ]
     },
     "execution_count": 129,
     "metadata": {},
     "output_type": "execute_result"
    }
   ],
   "source": [
    "df.to_numpy()[0, 1]"
   ]
  },
  {
   "attachments": {},
   "cell_type": "markdown",
   "metadata": {},
   "source": [
    "To recap, for a ```DataFrame``` instance:\n",
    "\n",
    "* ```__getitem__``` selects a ```Series``` by default\n",
    "* ```loc``` and ```iloc``` change the behaviour to select an observation from the ```Index``` instance label\n",
    "* ```at``` and ```iat``` select a scalar element\n"
   ]
  },
  {
   "attachments": {},
   "cell_type": "markdown",
   "metadata": {},
   "source": [
    "```loc``` can also be used to add a new observation to the ```DataFrame``` instance:"
   ]
  },
  {
   "cell_type": "code",
   "execution_count": 130,
   "metadata": {},
   "outputs": [
    {
     "data": {
      "text/html": [
       "<div>\n",
       "<style scoped>\n",
       "    .dataframe tbody tr th:only-of-type {\n",
       "        vertical-align: middle;\n",
       "    }\n",
       "\n",
       "    .dataframe tbody tr th {\n",
       "        vertical-align: top;\n",
       "    }\n",
       "\n",
       "    .dataframe thead th {\n",
       "        text-align: right;\n",
       "    }\n",
       "</style>\n",
       "<table border=\"1\" class=\"dataframe\">\n",
       "  <thead>\n",
       "    <tr style=\"text-align: right;\">\n",
       "      <th></th>\n",
       "      <th>x</th>\n",
       "      <th>y</th>\n",
       "    </tr>\n",
       "  </thead>\n",
       "  <tbody>\n",
       "    <tr>\n",
       "      <th>a</th>\n",
       "      <td>1.1</td>\n",
       "      <td>1.2</td>\n",
       "    </tr>\n",
       "    <tr>\n",
       "      <th>b</th>\n",
       "      <td>2.1</td>\n",
       "      <td>2.2</td>\n",
       "    </tr>\n",
       "    <tr>\n",
       "      <th>c</th>\n",
       "      <td>3.1</td>\n",
       "      <td>3.2</td>\n",
       "    </tr>\n",
       "    <tr>\n",
       "      <th>d</th>\n",
       "      <td>4.1</td>\n",
       "      <td>4.2</td>\n",
       "    </tr>\n",
       "  </tbody>\n",
       "</table>\n",
       "</div>"
      ],
      "text/plain": [
       "     x    y\n",
       "a  1.1  1.2\n",
       "b  2.1  2.2\n",
       "c  3.1  3.2\n",
       "d  4.1  4.2"
      ]
     },
     "execution_count": 130,
     "metadata": {},
     "output_type": "execute_result"
    }
   ],
   "source": [
    "df"
   ]
  },
  {
   "cell_type": "code",
   "execution_count": 131,
   "metadata": {},
   "outputs": [],
   "source": [
    "df.loc['f'] = {'x': 6.1, 'y': 6.2}"
   ]
  },
  {
   "cell_type": "code",
   "execution_count": 132,
   "metadata": {},
   "outputs": [],
   "source": [
    "df.loc['e'] = {'x': 5.1, 'y': 5.2}"
   ]
  },
  {
   "cell_type": "markdown",
   "metadata": {},
   "source": [
    "The ordering of rows (also known as observations) follows the insertion order: "
   ]
  },
  {
   "cell_type": "code",
   "execution_count": 133,
   "metadata": {},
   "outputs": [
    {
     "data": {
      "text/html": [
       "<div>\n",
       "<style scoped>\n",
       "    .dataframe tbody tr th:only-of-type {\n",
       "        vertical-align: middle;\n",
       "    }\n",
       "\n",
       "    .dataframe tbody tr th {\n",
       "        vertical-align: top;\n",
       "    }\n",
       "\n",
       "    .dataframe thead th {\n",
       "        text-align: right;\n",
       "    }\n",
       "</style>\n",
       "<table border=\"1\" class=\"dataframe\">\n",
       "  <thead>\n",
       "    <tr style=\"text-align: right;\">\n",
       "      <th></th>\n",
       "      <th>x</th>\n",
       "      <th>y</th>\n",
       "    </tr>\n",
       "  </thead>\n",
       "  <tbody>\n",
       "    <tr>\n",
       "      <th>a</th>\n",
       "      <td>1.1</td>\n",
       "      <td>1.2</td>\n",
       "    </tr>\n",
       "    <tr>\n",
       "      <th>b</th>\n",
       "      <td>2.1</td>\n",
       "      <td>2.2</td>\n",
       "    </tr>\n",
       "    <tr>\n",
       "      <th>c</th>\n",
       "      <td>3.1</td>\n",
       "      <td>3.2</td>\n",
       "    </tr>\n",
       "    <tr>\n",
       "      <th>d</th>\n",
       "      <td>4.1</td>\n",
       "      <td>4.2</td>\n",
       "    </tr>\n",
       "    <tr>\n",
       "      <th>f</th>\n",
       "      <td>6.1</td>\n",
       "      <td>6.2</td>\n",
       "    </tr>\n",
       "    <tr>\n",
       "      <th>e</th>\n",
       "      <td>5.1</td>\n",
       "      <td>5.2</td>\n",
       "    </tr>\n",
       "  </tbody>\n",
       "</table>\n",
       "</div>"
      ],
      "text/plain": [
       "     x    y\n",
       "a  1.1  1.2\n",
       "b  2.1  2.2\n",
       "c  3.1  3.2\n",
       "d  4.1  4.2\n",
       "f  6.1  6.2\n",
       "e  5.1  5.2"
      ]
     },
     "execution_count": 133,
     "metadata": {},
     "output_type": "execute_result"
    }
   ],
   "source": [
    "df"
   ]
  },
  {
   "cell_type": "markdown",
   "metadata": {},
   "source": [
    "The ```DataFrame``` method ```sort_index``` can be used to reorder the index: "
   ]
  },
  {
   "cell_type": "code",
   "execution_count": 134,
   "metadata": {},
   "outputs": [],
   "source": [
    "df.sort_index(inplace=True)"
   ]
  },
  {
   "cell_type": "code",
   "execution_count": 135,
   "metadata": {},
   "outputs": [
    {
     "data": {
      "text/html": [
       "<div>\n",
       "<style scoped>\n",
       "    .dataframe tbody tr th:only-of-type {\n",
       "        vertical-align: middle;\n",
       "    }\n",
       "\n",
       "    .dataframe tbody tr th {\n",
       "        vertical-align: top;\n",
       "    }\n",
       "\n",
       "    .dataframe thead th {\n",
       "        text-align: right;\n",
       "    }\n",
       "</style>\n",
       "<table border=\"1\" class=\"dataframe\">\n",
       "  <thead>\n",
       "    <tr style=\"text-align: right;\">\n",
       "      <th></th>\n",
       "      <th>x</th>\n",
       "      <th>y</th>\n",
       "    </tr>\n",
       "  </thead>\n",
       "  <tbody>\n",
       "    <tr>\n",
       "      <th>a</th>\n",
       "      <td>1.1</td>\n",
       "      <td>1.2</td>\n",
       "    </tr>\n",
       "    <tr>\n",
       "      <th>b</th>\n",
       "      <td>2.1</td>\n",
       "      <td>2.2</td>\n",
       "    </tr>\n",
       "    <tr>\n",
       "      <th>c</th>\n",
       "      <td>3.1</td>\n",
       "      <td>3.2</td>\n",
       "    </tr>\n",
       "    <tr>\n",
       "      <th>d</th>\n",
       "      <td>4.1</td>\n",
       "      <td>4.2</td>\n",
       "    </tr>\n",
       "    <tr>\n",
       "      <th>e</th>\n",
       "      <td>5.1</td>\n",
       "      <td>5.2</td>\n",
       "    </tr>\n",
       "    <tr>\n",
       "      <th>f</th>\n",
       "      <td>6.1</td>\n",
       "      <td>6.2</td>\n",
       "    </tr>\n",
       "  </tbody>\n",
       "</table>\n",
       "</div>"
      ],
      "text/plain": [
       "     x    y\n",
       "a  1.1  1.2\n",
       "b  2.1  2.2\n",
       "c  3.1  3.2\n",
       "d  4.1  4.2\n",
       "e  5.1  5.2\n",
       "f  6.1  6.2"
      ]
     },
     "execution_count": 135,
     "metadata": {},
     "output_type": "execute_result"
    }
   ],
   "source": [
    "df # modified inplace"
   ]
  },
  {
   "cell_type": "markdown",
   "metadata": {},
   "source": [
    "The ```Index``` instance can also be reset to a numeric index using the ```DataFrame``` instance ```reset_index```:"
   ]
  },
  {
   "cell_type": "code",
   "execution_count": 136,
   "metadata": {},
   "outputs": [],
   "source": [
    "df.reset_index(drop=True, inplace=True)"
   ]
  },
  {
   "cell_type": "code",
   "execution_count": 137,
   "metadata": {},
   "outputs": [
    {
     "data": {
      "text/html": [
       "<div>\n",
       "<style scoped>\n",
       "    .dataframe tbody tr th:only-of-type {\n",
       "        vertical-align: middle;\n",
       "    }\n",
       "\n",
       "    .dataframe tbody tr th {\n",
       "        vertical-align: top;\n",
       "    }\n",
       "\n",
       "    .dataframe thead th {\n",
       "        text-align: right;\n",
       "    }\n",
       "</style>\n",
       "<table border=\"1\" class=\"dataframe\">\n",
       "  <thead>\n",
       "    <tr style=\"text-align: right;\">\n",
       "      <th></th>\n",
       "      <th>x</th>\n",
       "      <th>y</th>\n",
       "    </tr>\n",
       "  </thead>\n",
       "  <tbody>\n",
       "    <tr>\n",
       "      <th>0</th>\n",
       "      <td>1.1</td>\n",
       "      <td>1.2</td>\n",
       "    </tr>\n",
       "    <tr>\n",
       "      <th>1</th>\n",
       "      <td>2.1</td>\n",
       "      <td>2.2</td>\n",
       "    </tr>\n",
       "    <tr>\n",
       "      <th>2</th>\n",
       "      <td>3.1</td>\n",
       "      <td>3.2</td>\n",
       "    </tr>\n",
       "    <tr>\n",
       "      <th>3</th>\n",
       "      <td>4.1</td>\n",
       "      <td>4.2</td>\n",
       "    </tr>\n",
       "    <tr>\n",
       "      <th>4</th>\n",
       "      <td>5.1</td>\n",
       "      <td>5.2</td>\n",
       "    </tr>\n",
       "    <tr>\n",
       "      <th>5</th>\n",
       "      <td>6.1</td>\n",
       "      <td>6.2</td>\n",
       "    </tr>\n",
       "  </tbody>\n",
       "</table>\n",
       "</div>"
      ],
      "text/plain": [
       "     x    y\n",
       "0  1.1  1.2\n",
       "1  2.1  2.2\n",
       "2  3.1  3.2\n",
       "3  4.1  4.2\n",
       "4  5.1  5.2\n",
       "5  6.1  6.2"
      ]
     },
     "execution_count": 137,
     "metadata": {},
     "output_type": "execute_result"
    }
   ],
   "source": [
    "df # modified inplace"
   ]
  },
  {
   "attachments": {},
   "cell_type": "markdown",
   "metadata": {},
   "source": [
    "The length of the ```DataFrame``` gives the number of rows (observations):"
   ]
  },
  {
   "cell_type": "code",
   "execution_count": 138,
   "metadata": {},
   "outputs": [
    {
     "data": {
      "text/plain": [
       "6"
      ]
     },
     "execution_count": 138,
     "metadata": {},
     "output_type": "execute_result"
    }
   ],
   "source": [
    "len(df)"
   ]
  },
  {
   "cell_type": "markdown",
   "metadata": {},
   "source": [
    "Python uses zero-order indexing and the ```Index``` starts at ```0``` (inclusive) and stops at ```len(df)``` (exclusive)."
   ]
  },
  {
   "attachments": {},
   "cell_type": "markdown",
   "metadata": {},
   "source": [
    "```iloc``` cannot be used to index into an index value that doesn't exist and cannot be used to add a new observation. However ```loc``` can be used to add a numeric index using the ```len``` of the ```DataFrame``` instance:"
   ]
  },
  {
   "cell_type": "code",
   "execution_count": 139,
   "metadata": {},
   "outputs": [],
   "source": [
    "df.loc[len(df)] = {'x': 7.1, 'y': 7.2}"
   ]
  },
  {
   "cell_type": "code",
   "execution_count": 140,
   "metadata": {},
   "outputs": [
    {
     "data": {
      "text/html": [
       "<div>\n",
       "<style scoped>\n",
       "    .dataframe tbody tr th:only-of-type {\n",
       "        vertical-align: middle;\n",
       "    }\n",
       "\n",
       "    .dataframe tbody tr th {\n",
       "        vertical-align: top;\n",
       "    }\n",
       "\n",
       "    .dataframe thead th {\n",
       "        text-align: right;\n",
       "    }\n",
       "</style>\n",
       "<table border=\"1\" class=\"dataframe\">\n",
       "  <thead>\n",
       "    <tr style=\"text-align: right;\">\n",
       "      <th></th>\n",
       "      <th>x</th>\n",
       "      <th>y</th>\n",
       "    </tr>\n",
       "  </thead>\n",
       "  <tbody>\n",
       "    <tr>\n",
       "      <th>0</th>\n",
       "      <td>1.1</td>\n",
       "      <td>1.2</td>\n",
       "    </tr>\n",
       "    <tr>\n",
       "      <th>1</th>\n",
       "      <td>2.1</td>\n",
       "      <td>2.2</td>\n",
       "    </tr>\n",
       "    <tr>\n",
       "      <th>2</th>\n",
       "      <td>3.1</td>\n",
       "      <td>3.2</td>\n",
       "    </tr>\n",
       "    <tr>\n",
       "      <th>3</th>\n",
       "      <td>4.1</td>\n",
       "      <td>4.2</td>\n",
       "    </tr>\n",
       "    <tr>\n",
       "      <th>4</th>\n",
       "      <td>5.1</td>\n",
       "      <td>5.2</td>\n",
       "    </tr>\n",
       "    <tr>\n",
       "      <th>5</th>\n",
       "      <td>6.1</td>\n",
       "      <td>6.2</td>\n",
       "    </tr>\n",
       "    <tr>\n",
       "      <th>6</th>\n",
       "      <td>7.1</td>\n",
       "      <td>7.2</td>\n",
       "    </tr>\n",
       "  </tbody>\n",
       "</table>\n",
       "</div>"
      ],
      "text/plain": [
       "     x    y\n",
       "0  1.1  1.2\n",
       "1  2.1  2.2\n",
       "2  3.1  3.2\n",
       "3  4.1  4.2\n",
       "4  5.1  5.2\n",
       "5  6.1  6.2\n",
       "6  7.1  7.2"
      ]
     },
     "execution_count": 140,
     "metadata": {},
     "output_type": "execute_result"
    }
   ],
   "source": [
    "df"
   ]
  },
  {
   "attachments": {},
   "cell_type": "markdown",
   "metadata": {},
   "source": [
    "## DataFrame Properties"
   ]
  },
  {
   "attachments": {},
   "cell_type": "markdown",
   "metadata": {},
   "source": [
    "Supposing the following ```DataFrame``` is instantiated to ```df```:"
   ]
  },
  {
   "cell_type": "code",
   "execution_count": 141,
   "metadata": {},
   "outputs": [],
   "source": [
    "df = pd.DataFrame(index=['a', 'b', 'c', 'd', 'e', 'f', 'g'],\n",
    "                  data={'x': np.array([1.1, 2.1, 3.1, 4.1, 5.1, 6.1, 7.1]),\n",
    "                        'y': np.array([1.2, 2.2, 3.2, 4.2, 5.2, 6.2, 7.2])})"
   ]
  },
  {
   "cell_type": "code",
   "execution_count": 142,
   "metadata": {},
   "outputs": [
    {
     "data": {
      "text/html": [
       "<div>\n",
       "<style scoped>\n",
       "    .dataframe tbody tr th:only-of-type {\n",
       "        vertical-align: middle;\n",
       "    }\n",
       "\n",
       "    .dataframe tbody tr th {\n",
       "        vertical-align: top;\n",
       "    }\n",
       "\n",
       "    .dataframe thead th {\n",
       "        text-align: right;\n",
       "    }\n",
       "</style>\n",
       "<table border=\"1\" class=\"dataframe\">\n",
       "  <thead>\n",
       "    <tr style=\"text-align: right;\">\n",
       "      <th></th>\n",
       "      <th>x</th>\n",
       "      <th>y</th>\n",
       "    </tr>\n",
       "  </thead>\n",
       "  <tbody>\n",
       "    <tr>\n",
       "      <th>a</th>\n",
       "      <td>1.1</td>\n",
       "      <td>1.2</td>\n",
       "    </tr>\n",
       "    <tr>\n",
       "      <th>b</th>\n",
       "      <td>2.1</td>\n",
       "      <td>2.2</td>\n",
       "    </tr>\n",
       "    <tr>\n",
       "      <th>c</th>\n",
       "      <td>3.1</td>\n",
       "      <td>3.2</td>\n",
       "    </tr>\n",
       "    <tr>\n",
       "      <th>d</th>\n",
       "      <td>4.1</td>\n",
       "      <td>4.2</td>\n",
       "    </tr>\n",
       "    <tr>\n",
       "      <th>e</th>\n",
       "      <td>5.1</td>\n",
       "      <td>5.2</td>\n",
       "    </tr>\n",
       "    <tr>\n",
       "      <th>f</th>\n",
       "      <td>6.1</td>\n",
       "      <td>6.2</td>\n",
       "    </tr>\n",
       "    <tr>\n",
       "      <th>g</th>\n",
       "      <td>7.1</td>\n",
       "      <td>7.2</td>\n",
       "    </tr>\n",
       "  </tbody>\n",
       "</table>\n",
       "</div>"
      ],
      "text/plain": [
       "     x    y\n",
       "a  1.1  1.2\n",
       "b  2.1  2.2\n",
       "c  3.1  3.2\n",
       "d  4.1  4.2\n",
       "e  5.1  5.2\n",
       "f  6.1  6.2\n",
       "g  7.1  7.2"
      ]
     },
     "execution_count": 142,
     "metadata": {},
     "output_type": "execute_result"
    }
   ],
   "source": [
    "df"
   ]
  },
  {
   "attachments": {},
   "cell_type": "markdown",
   "metadata": {},
   "source": [
    "The ```DataFrame``` instance has the following dimension related properties. The attribute ```empty``` returns a boolean that is ```True``` only with an empty DataFrame:"
   ]
  },
  {
   "cell_type": "code",
   "execution_count": 143,
   "metadata": {},
   "outputs": [
    {
     "data": {
      "text/plain": [
       "False"
      ]
     },
     "execution_count": 143,
     "metadata": {},
     "output_type": "execute_result"
    }
   ],
   "source": [
    "df.empty"
   ]
  },
  {
   "cell_type": "code",
   "execution_count": 144,
   "metadata": {},
   "outputs": [
    {
     "data": {
      "text/plain": [
       "True"
      ]
     },
     "execution_count": 144,
     "metadata": {},
     "output_type": "execute_result"
    }
   ],
   "source": [
    "pd.DataFrame(None).empty"
   ]
  },
  {
   "attachments": {},
   "cell_type": "markdown",
   "metadata": {},
   "source": [
    "A ```DataFrame``` instance has a length, which is returned by the ```builtins``` function ```len```. This was seen previously to correspond to the number of rows (number of observations):"
   ]
  },
  {
   "cell_type": "code",
   "execution_count": 145,
   "metadata": {},
   "outputs": [
    {
     "data": {
      "text/plain": [
       "7"
      ]
     },
     "execution_count": 145,
     "metadata": {},
     "output_type": "execute_result"
    }
   ],
   "source": [
    "len(df)"
   ]
  },
  {
   "attachments": {},
   "cell_type": "markdown",
   "metadata": {},
   "source": [
    "A ```DataFrame``` instance has the attribute ```shape``` which is a ```tuple``` of dimensions. The 1st dimension is the number of rows (observations in the index) and the 2nd value is the number of ```Series``` (columns):"
   ]
  },
  {
   "cell_type": "code",
   "execution_count": 146,
   "metadata": {},
   "outputs": [
    {
     "data": {
      "text/plain": [
       "(7, 2)"
      ]
     },
     "execution_count": 146,
     "metadata": {},
     "output_type": "execute_result"
    }
   ],
   "source": [
    "df.shape"
   ]
  },
  {
   "attachments": {},
   "cell_type": "markdown",
   "metadata": {},
   "source": [
    "A ```DataFrame``` instance has the attribute ```ndim``` which gives the number fo dimensions and is always ```2```:"
   ]
  },
  {
   "cell_type": "code",
   "execution_count": 147,
   "metadata": {},
   "outputs": [
    {
     "data": {
      "text/plain": [
       "2"
      ]
     },
     "execution_count": 147,
     "metadata": {},
     "output_type": "execute_result"
    }
   ],
   "source": [
    "df.ndim"
   ]
  },
  {
   "attachments": {},
   "cell_type": "markdown",
   "metadata": {},
   "source": [
    "Recall this is equivalent to the length of the ```shape``` ```tuple```:"
   ]
  },
  {
   "cell_type": "code",
   "execution_count": 148,
   "metadata": {},
   "outputs": [
    {
     "data": {
      "text/plain": [
       "2"
      ]
     },
     "execution_count": 148,
     "metadata": {},
     "output_type": "execute_result"
    }
   ],
   "source": [
    "len(df.shape)"
   ]
  },
  {
   "attachments": {},
   "cell_type": "markdown",
   "metadata": {},
   "source": [
    "The ```DataFrame``` instance has a ```size``` attribute which is the product of the elements in the ```shape``` ```tuple```:"
   ]
  },
  {
   "cell_type": "code",
   "execution_count": 149,
   "metadata": {},
   "outputs": [
    {
     "data": {
      "text/plain": [
       "14"
      ]
     },
     "execution_count": 149,
     "metadata": {},
     "output_type": "execute_result"
    }
   ],
   "source": [
    "df.size"
   ]
  },
  {
   "attachments": {},
   "cell_type": "markdown",
   "metadata": {},
   "source": [
    "The ```index``` attribute returns the ```Index``` instance associated with the ```DataFrame```. An ```Index``` instance has a single dimension that can either be depicted as a row or a column. The output below displays this as a row although the index itself is conventionally depicted as a column when incorporated as part of a ```DataFrame```:"
   ]
  },
  {
   "cell_type": "code",
   "execution_count": 150,
   "metadata": {},
   "outputs": [
    {
     "data": {
      "text/plain": [
       "Index(['a', 'b', 'c', 'd', 'e', 'f', 'g'], dtype='object')"
      ]
     },
     "execution_count": 150,
     "metadata": {},
     "output_type": "execute_result"
    }
   ],
   "source": [
    "df.index"
   ]
  },
  {
   "attachments": {},
   "cell_type": "markdown",
   "metadata": {},
   "source": [
    "When no ```index``` is supplied during ```DataFrame``` instantiation a ```RangeIndex``` is automatically generated:"
   ]
  },
  {
   "cell_type": "code",
   "execution_count": 151,
   "metadata": {},
   "outputs": [],
   "source": [
    "df2 = pd.DataFrame(data={'x': np.array([1.1, 2.1, 3.1, 3.1]),\n",
    "                         'y': np.array([1.2, 2.2, 3.2, 4.2])})"
   ]
  },
  {
   "cell_type": "code",
   "execution_count": 152,
   "metadata": {},
   "outputs": [
    {
     "data": {
      "text/plain": [
       "RangeIndex(start=0, stop=4, step=1)"
      ]
     },
     "execution_count": 152,
     "metadata": {},
     "output_type": "execute_result"
    }
   ],
   "source": [
    "df2.index"
   ]
  },
  {
   "attachments": {},
   "cell_type": "markdown",
   "metadata": {},
   "source": [
    "The ```columns``` attribute also returns an ```Index``` instance corresponding to the names of each ```Series``` in the ```DataFrame```:"
   ]
  },
  {
   "cell_type": "code",
   "execution_count": 153,
   "metadata": {},
   "outputs": [
    {
     "data": {
      "text/plain": [
       "Index(['x', 'y'], dtype='object')"
      ]
     },
     "execution_count": 153,
     "metadata": {},
     "output_type": "execute_result"
    }
   ],
   "source": [
    "df.columns"
   ]
  },
  {
   "attachments": {},
   "cell_type": "markdown",
   "metadata": {},
   "source": [
    "The attribute ```axes``` returns a 2 element list, where the first element is the ```index``` attribute and the second element is the ```columns``` attribute:"
   ]
  },
  {
   "cell_type": "code",
   "execution_count": 154,
   "metadata": {},
   "outputs": [
    {
     "data": {
      "text/plain": [
       "[Index(['a', 'b', 'c', 'd', 'e', 'f', 'g'], dtype='object'),\n",
       " Index(['x', 'y'], dtype='object')]"
      ]
     },
     "execution_count": 154,
     "metadata": {},
     "output_type": "execute_result"
    }
   ],
   "source": [
    "df.axes"
   ]
  },
  {
   "attachments": {},
   "cell_type": "markdown",
   "metadata": {},
   "source": [
    "The attribute ```values``` returns the values in the ```DataFrame``` in the form of a ```NDArray``` (2D):"
   ]
  },
  {
   "cell_type": "code",
   "execution_count": 155,
   "metadata": {},
   "outputs": [
    {
     "data": {
      "text/plain": [
       "array([[1.1, 1.2],\n",
       "       [2.1, 2.2],\n",
       "       [3.1, 3.2],\n",
       "       [4.1, 4.2],\n",
       "       [5.1, 5.2],\n",
       "       [6.1, 6.2],\n",
       "       [7.1, 7.2]])"
      ]
     },
     "execution_count": 155,
     "metadata": {},
     "output_type": "execute_result"
    }
   ],
   "source": [
    "df.values"
   ]
  },
  {
   "attachments": {},
   "cell_type": "markdown",
   "metadata": {},
   "source": [
    "The attribute ```dtypes``` returns the datatypes of each ```Series``` and of the ```DataFrame```:"
   ]
  },
  {
   "cell_type": "code",
   "execution_count": 156,
   "metadata": {},
   "outputs": [
    {
     "data": {
      "text/plain": [
       "x    float64\n",
       "y    float64\n",
       "dtype: object"
      ]
     },
     "execution_count": 156,
     "metadata": {},
     "output_type": "execute_result"
    }
   ],
   "source": [
    "df.dtypes"
   ]
  },
  {
   "attachments": {},
   "cell_type": "markdown",
   "metadata": {},
   "source": [
    "The ```Series``` instances ```x``` and ```y``` are each of the datatype ```float64```, the ```DataFrame``` instance ```df``` is of the datatype ```object```. A ```DataFrame``` instance is always of the type ```object```."
   ]
  },
  {
   "attachments": {},
   "cell_type": "markdown",
   "metadata": {},
   "source": [
    "Each existing ```Series``` is accessible as an attribute:"
   ]
  },
  {
   "cell_type": "code",
   "execution_count": 157,
   "metadata": {},
   "outputs": [
    {
     "data": {
      "text/plain": [
       "a    1.1\n",
       "b    2.1\n",
       "c    3.1\n",
       "d    4.1\n",
       "e    5.1\n",
       "f    6.1\n",
       "g    7.1\n",
       "Name: x, dtype: float64"
      ]
     },
     "execution_count": 157,
     "metadata": {},
     "output_type": "execute_result"
    }
   ],
   "source": [
    "df.x"
   ]
  },
  {
   "cell_type": "code",
   "execution_count": 158,
   "metadata": {},
   "outputs": [
    {
     "data": {
      "text/plain": [
       "a    1.2\n",
       "b    2.2\n",
       "c    3.2\n",
       "d    4.2\n",
       "e    5.2\n",
       "f    6.2\n",
       "g    7.2\n",
       "Name: y, dtype: float64"
      ]
     },
     "execution_count": 158,
     "metadata": {},
     "output_type": "execute_result"
    }
   ],
   "source": [
    "df.y"
   ]
  },
  {
   "attachments": {},
   "cell_type": "markdown",
   "metadata": {},
   "source": [
    "The formal representation of the ```DataFrame``` instance ```df``` can be examined in a cell:"
   ]
  },
  {
   "cell_type": "code",
   "execution_count": 159,
   "metadata": {},
   "outputs": [
    {
     "data": {
      "text/html": [
       "<div>\n",
       "<style scoped>\n",
       "    .dataframe tbody tr th:only-of-type {\n",
       "        vertical-align: middle;\n",
       "    }\n",
       "\n",
       "    .dataframe tbody tr th {\n",
       "        vertical-align: top;\n",
       "    }\n",
       "\n",
       "    .dataframe thead th {\n",
       "        text-align: right;\n",
       "    }\n",
       "</style>\n",
       "<table border=\"1\" class=\"dataframe\">\n",
       "  <thead>\n",
       "    <tr style=\"text-align: right;\">\n",
       "      <th></th>\n",
       "      <th>x</th>\n",
       "      <th>y</th>\n",
       "    </tr>\n",
       "  </thead>\n",
       "  <tbody>\n",
       "    <tr>\n",
       "      <th>a</th>\n",
       "      <td>1.1</td>\n",
       "      <td>1.2</td>\n",
       "    </tr>\n",
       "    <tr>\n",
       "      <th>b</th>\n",
       "      <td>2.1</td>\n",
       "      <td>2.2</td>\n",
       "    </tr>\n",
       "    <tr>\n",
       "      <th>c</th>\n",
       "      <td>3.1</td>\n",
       "      <td>3.2</td>\n",
       "    </tr>\n",
       "    <tr>\n",
       "      <th>d</th>\n",
       "      <td>4.1</td>\n",
       "      <td>4.2</td>\n",
       "    </tr>\n",
       "    <tr>\n",
       "      <th>e</th>\n",
       "      <td>5.1</td>\n",
       "      <td>5.2</td>\n",
       "    </tr>\n",
       "    <tr>\n",
       "      <th>f</th>\n",
       "      <td>6.1</td>\n",
       "      <td>6.2</td>\n",
       "    </tr>\n",
       "    <tr>\n",
       "      <th>g</th>\n",
       "      <td>7.1</td>\n",
       "      <td>7.2</td>\n",
       "    </tr>\n",
       "  </tbody>\n",
       "</table>\n",
       "</div>"
      ],
      "text/plain": [
       "     x    y\n",
       "a  1.1  1.2\n",
       "b  2.1  2.2\n",
       "c  3.1  3.2\n",
       "d  4.1  4.2\n",
       "e  5.1  5.2\n",
       "f  6.1  6.2\n",
       "g  7.1  7.2"
      ]
     },
     "execution_count": 159,
     "metadata": {},
     "output_type": "execute_result"
    }
   ],
   "source": [
    "df"
   ]
  },
  {
   "attachments": {},
   "cell_type": "markdown",
   "metadata": {},
   "source": [
    "The attribute ```style``` can instead be used to display a ```DataFrame``` instance using a specific style. The default style is shown:"
   ]
  },
  {
   "cell_type": "code",
   "execution_count": 160,
   "metadata": {},
   "outputs": [
    {
     "data": {
      "text/html": [
       "<style type=\"text/css\">\n",
       "</style>\n",
       "<table id=\"T_1a41d\">\n",
       "  <thead>\n",
       "    <tr>\n",
       "      <th class=\"blank level0\" >&nbsp;</th>\n",
       "      <th id=\"T_1a41d_level0_col0\" class=\"col_heading level0 col0\" >x</th>\n",
       "      <th id=\"T_1a41d_level0_col1\" class=\"col_heading level0 col1\" >y</th>\n",
       "    </tr>\n",
       "  </thead>\n",
       "  <tbody>\n",
       "    <tr>\n",
       "      <th id=\"T_1a41d_level0_row0\" class=\"row_heading level0 row0\" >a</th>\n",
       "      <td id=\"T_1a41d_row0_col0\" class=\"data row0 col0\" >1.100000</td>\n",
       "      <td id=\"T_1a41d_row0_col1\" class=\"data row0 col1\" >1.200000</td>\n",
       "    </tr>\n",
       "    <tr>\n",
       "      <th id=\"T_1a41d_level0_row1\" class=\"row_heading level0 row1\" >b</th>\n",
       "      <td id=\"T_1a41d_row1_col0\" class=\"data row1 col0\" >2.100000</td>\n",
       "      <td id=\"T_1a41d_row1_col1\" class=\"data row1 col1\" >2.200000</td>\n",
       "    </tr>\n",
       "    <tr>\n",
       "      <th id=\"T_1a41d_level0_row2\" class=\"row_heading level0 row2\" >c</th>\n",
       "      <td id=\"T_1a41d_row2_col0\" class=\"data row2 col0\" >3.100000</td>\n",
       "      <td id=\"T_1a41d_row2_col1\" class=\"data row2 col1\" >3.200000</td>\n",
       "    </tr>\n",
       "    <tr>\n",
       "      <th id=\"T_1a41d_level0_row3\" class=\"row_heading level0 row3\" >d</th>\n",
       "      <td id=\"T_1a41d_row3_col0\" class=\"data row3 col0\" >4.100000</td>\n",
       "      <td id=\"T_1a41d_row3_col1\" class=\"data row3 col1\" >4.200000</td>\n",
       "    </tr>\n",
       "    <tr>\n",
       "      <th id=\"T_1a41d_level0_row4\" class=\"row_heading level0 row4\" >e</th>\n",
       "      <td id=\"T_1a41d_row4_col0\" class=\"data row4 col0\" >5.100000</td>\n",
       "      <td id=\"T_1a41d_row4_col1\" class=\"data row4 col1\" >5.200000</td>\n",
       "    </tr>\n",
       "    <tr>\n",
       "      <th id=\"T_1a41d_level0_row5\" class=\"row_heading level0 row5\" >f</th>\n",
       "      <td id=\"T_1a41d_row5_col0\" class=\"data row5 col0\" >6.100000</td>\n",
       "      <td id=\"T_1a41d_row5_col1\" class=\"data row5 col1\" >6.200000</td>\n",
       "    </tr>\n",
       "    <tr>\n",
       "      <th id=\"T_1a41d_level0_row6\" class=\"row_heading level0 row6\" >g</th>\n",
       "      <td id=\"T_1a41d_row6_col0\" class=\"data row6 col0\" >7.100000</td>\n",
       "      <td id=\"T_1a41d_row6_col1\" class=\"data row6 col1\" >7.200000</td>\n",
       "    </tr>\n",
       "  </tbody>\n",
       "</table>\n"
      ],
      "text/plain": [
       "<pandas.io.formats.style.Styler at 0x218ba5b7140>"
      ]
     },
     "execution_count": 160,
     "metadata": {},
     "output_type": "execute_result"
    }
   ],
   "source": [
    "df.style"
   ]
  },
  {
   "attachments": {},
   "cell_type": "markdown",
   "metadata": {},
   "source": [
    "This ```style``` attribute has a number of stackable methods which return a modified ```style``` and can therefore be stacked to apply custom formatting:"
   ]
  },
  {
   "cell_type": "code",
   "execution_count": 161,
   "metadata": {},
   "outputs": [
    {
     "name": "stdout",
     "output_type": "stream",
     "text": [
      "['apply', 'apply_index', 'applymap', 'applymap_index', 'background_gradient', 'bar', 'clear', 'concat', 'export', 'format', 'format_index', 'from_custom_template', 'hide', 'highlight_between', 'highlight_max', 'highlight_min', 'highlight_null', 'highlight_quantile', 'map', 'map_index', 'pipe', 'relabel_index', 'set_caption', 'set_properties', 'set_sticky', 'set_table_attributes', 'set_table_styles', 'set_td_classes', 'set_tooltips', 'set_uuid', 'text_gradient', 'to_excel', 'to_html', 'to_latex', 'to_string', 'use']\n"
     ]
    }
   ],
   "source": [
    "print_identifier_group(df.style, kind='function')"
   ]
  },
  {
   "cell_type": "code",
   "execution_count": 162,
   "metadata": {},
   "outputs": [
    {
     "data": {
      "text/html": [
       "<style type=\"text/css\">\n",
       "</style>\n",
       "<table id=\"T_f5023\">\n",
       "  <caption>DataFrame Instance</caption>\n",
       "  <thead>\n",
       "    <tr>\n",
       "      <th class=\"blank level0\" >&nbsp;</th>\n",
       "      <th id=\"T_f5023_level0_col0\" class=\"col_heading level0 col0\" >x</th>\n",
       "      <th id=\"T_f5023_level0_col1\" class=\"col_heading level0 col1\" >y</th>\n",
       "    </tr>\n",
       "  </thead>\n",
       "  <tbody>\n",
       "    <tr>\n",
       "      <th id=\"T_f5023_level0_row0\" class=\"row_heading level0 row0\" >a</th>\n",
       "      <td id=\"T_f5023_row0_col0\" class=\"data row0 col0\" >1.100</td>\n",
       "      <td id=\"T_f5023_row0_col1\" class=\"data row0 col1\" >1.200</td>\n",
       "    </tr>\n",
       "    <tr>\n",
       "      <th id=\"T_f5023_level0_row1\" class=\"row_heading level0 row1\" >b</th>\n",
       "      <td id=\"T_f5023_row1_col0\" class=\"data row1 col0\" >2.100</td>\n",
       "      <td id=\"T_f5023_row1_col1\" class=\"data row1 col1\" >2.200</td>\n",
       "    </tr>\n",
       "    <tr>\n",
       "      <th id=\"T_f5023_level0_row2\" class=\"row_heading level0 row2\" >c</th>\n",
       "      <td id=\"T_f5023_row2_col0\" class=\"data row2 col0\" >3.100</td>\n",
       "      <td id=\"T_f5023_row2_col1\" class=\"data row2 col1\" >3.200</td>\n",
       "    </tr>\n",
       "    <tr>\n",
       "      <th id=\"T_f5023_level0_row3\" class=\"row_heading level0 row3\" >d</th>\n",
       "      <td id=\"T_f5023_row3_col0\" class=\"data row3 col0\" >4.100</td>\n",
       "      <td id=\"T_f5023_row3_col1\" class=\"data row3 col1\" >4.200</td>\n",
       "    </tr>\n",
       "    <tr>\n",
       "      <th id=\"T_f5023_level0_row4\" class=\"row_heading level0 row4\" >e</th>\n",
       "      <td id=\"T_f5023_row4_col0\" class=\"data row4 col0\" >5.100</td>\n",
       "      <td id=\"T_f5023_row4_col1\" class=\"data row4 col1\" >5.200</td>\n",
       "    </tr>\n",
       "    <tr>\n",
       "      <th id=\"T_f5023_level0_row5\" class=\"row_heading level0 row5\" >f</th>\n",
       "      <td id=\"T_f5023_row5_col0\" class=\"data row5 col0\" >6.100</td>\n",
       "      <td id=\"T_f5023_row5_col1\" class=\"data row5 col1\" >6.200</td>\n",
       "    </tr>\n",
       "    <tr>\n",
       "      <th id=\"T_f5023_level0_row6\" class=\"row_heading level0 row6\" >g</th>\n",
       "      <td id=\"T_f5023_row6_col0\" class=\"data row6 col0\" >7.100</td>\n",
       "      <td id=\"T_f5023_row6_col1\" class=\"data row6 col1\" >7.200</td>\n",
       "    </tr>\n",
       "  </tbody>\n",
       "</table>\n"
      ],
      "text/plain": [
       "<pandas.io.formats.style.Styler at 0x218ba5b5250>"
      ]
     },
     "execution_count": 162,
     "metadata": {},
     "output_type": "execute_result"
    }
   ],
   "source": [
    "df.style.format(precision=3).set_caption('DataFrame Instance')"
   ]
  },
  {
   "attachments": {},
   "cell_type": "markdown",
   "metadata": {},
   "source": [
    "The attributes ```attrs``` is an empty dictionary by default and is designed to store metadata associated with the ```DataFrame``` instance:"
   ]
  },
  {
   "cell_type": "code",
   "execution_count": 163,
   "metadata": {},
   "outputs": [
    {
     "data": {
      "text/plain": [
       "{}"
      ]
     },
     "execution_count": 163,
     "metadata": {},
     "output_type": "execute_result"
    }
   ],
   "source": [
    "df.attrs"
   ]
  },
  {
   "attachments": {},
   "cell_type": "markdown",
   "metadata": {},
   "source": [
    "This metadata can include a text description giving information about how the data was collection or contain a link to where the data was sourced from:"
   ]
  },
  {
   "cell_type": "code",
   "execution_count": 164,
   "metadata": {},
   "outputs": [],
   "source": [
    "df.attrs = {'description': 'this DataFrame was instantiated from a dict',\n",
    "            'documentation': r'https://pandas.pydata.org/docs/getting_started/index.html'}"
   ]
  },
  {
   "attachments": {},
   "cell_type": "markdown",
   "metadata": {},
   "source": [
    "The ```DataFrame``` method ```info``` gives information about the ```DataFrame```:"
   ]
  },
  {
   "cell_type": "code",
   "execution_count": 165,
   "metadata": {},
   "outputs": [
    {
     "name": "stdout",
     "output_type": "stream",
     "text": [
      "<class 'pandas.core.frame.DataFrame'>\n",
      "Index: 7 entries, a to g\n",
      "Data columns (total 2 columns):\n",
      " #   Column  Non-Null Count  Dtype  \n",
      "---  ------  --------------  -----  \n",
      " 0   x       7 non-null      float64\n",
      " 1   y       7 non-null      float64\n",
      "dtypes: float64(2)\n",
      "memory usage: 468.0+ bytes\n"
     ]
    }
   ],
   "source": [
    "df.info()"
   ]
  },
  {
   "attachments": {},
   "cell_type": "markdown",
   "metadata": {},
   "source": [
    "The ```DataFrame``` method ```describe``` method gives supplementary descriptive statistics on each numeric ```Series```:"
   ]
  },
  {
   "cell_type": "code",
   "execution_count": 166,
   "metadata": {},
   "outputs": [
    {
     "data": {
      "text/html": [
       "<div>\n",
       "<style scoped>\n",
       "    .dataframe tbody tr th:only-of-type {\n",
       "        vertical-align: middle;\n",
       "    }\n",
       "\n",
       "    .dataframe tbody tr th {\n",
       "        vertical-align: top;\n",
       "    }\n",
       "\n",
       "    .dataframe thead th {\n",
       "        text-align: right;\n",
       "    }\n",
       "</style>\n",
       "<table border=\"1\" class=\"dataframe\">\n",
       "  <thead>\n",
       "    <tr style=\"text-align: right;\">\n",
       "      <th></th>\n",
       "      <th>x</th>\n",
       "      <th>y</th>\n",
       "    </tr>\n",
       "  </thead>\n",
       "  <tbody>\n",
       "    <tr>\n",
       "      <th>count</th>\n",
       "      <td>7.000000</td>\n",
       "      <td>7.000000</td>\n",
       "    </tr>\n",
       "    <tr>\n",
       "      <th>mean</th>\n",
       "      <td>4.100000</td>\n",
       "      <td>4.200000</td>\n",
       "    </tr>\n",
       "    <tr>\n",
       "      <th>std</th>\n",
       "      <td>2.160247</td>\n",
       "      <td>2.160247</td>\n",
       "    </tr>\n",
       "    <tr>\n",
       "      <th>min</th>\n",
       "      <td>1.100000</td>\n",
       "      <td>1.200000</td>\n",
       "    </tr>\n",
       "    <tr>\n",
       "      <th>25%</th>\n",
       "      <td>2.600000</td>\n",
       "      <td>2.700000</td>\n",
       "    </tr>\n",
       "    <tr>\n",
       "      <th>50%</th>\n",
       "      <td>4.100000</td>\n",
       "      <td>4.200000</td>\n",
       "    </tr>\n",
       "    <tr>\n",
       "      <th>75%</th>\n",
       "      <td>5.600000</td>\n",
       "      <td>5.700000</td>\n",
       "    </tr>\n",
       "    <tr>\n",
       "      <th>max</th>\n",
       "      <td>7.100000</td>\n",
       "      <td>7.200000</td>\n",
       "    </tr>\n",
       "  </tbody>\n",
       "</table>\n",
       "</div>"
      ],
      "text/plain": [
       "              x         y\n",
       "count  7.000000  7.000000\n",
       "mean   4.100000  4.200000\n",
       "std    2.160247  2.160247\n",
       "min    1.100000  1.200000\n",
       "25%    2.600000  2.700000\n",
       "50%    4.100000  4.200000\n",
       "75%    5.600000  5.700000\n",
       "max    7.100000  7.200000"
      ]
     },
     "execution_count": 166,
     "metadata": {},
     "output_type": "execute_result"
    }
   ],
   "source": [
    "df.describe()"
   ]
  },
  {
   "attachments": {},
   "cell_type": "markdown",
   "metadata": {},
   "source": [
    "The ```DataFrame``` methods ```head``` and ```tail``` give the top 5 and last 5 observations by default and are usually used to preview a large ```DataFrame``` instance:"
   ]
  },
  {
   "cell_type": "code",
   "execution_count": 167,
   "metadata": {},
   "outputs": [
    {
     "data": {
      "text/html": [
       "<div>\n",
       "<style scoped>\n",
       "    .dataframe tbody tr th:only-of-type {\n",
       "        vertical-align: middle;\n",
       "    }\n",
       "\n",
       "    .dataframe tbody tr th {\n",
       "        vertical-align: top;\n",
       "    }\n",
       "\n",
       "    .dataframe thead th {\n",
       "        text-align: right;\n",
       "    }\n",
       "</style>\n",
       "<table border=\"1\" class=\"dataframe\">\n",
       "  <thead>\n",
       "    <tr style=\"text-align: right;\">\n",
       "      <th></th>\n",
       "      <th>x</th>\n",
       "      <th>y</th>\n",
       "    </tr>\n",
       "  </thead>\n",
       "  <tbody>\n",
       "    <tr>\n",
       "      <th>a</th>\n",
       "      <td>1.1</td>\n",
       "      <td>1.2</td>\n",
       "    </tr>\n",
       "    <tr>\n",
       "      <th>b</th>\n",
       "      <td>2.1</td>\n",
       "      <td>2.2</td>\n",
       "    </tr>\n",
       "    <tr>\n",
       "      <th>c</th>\n",
       "      <td>3.1</td>\n",
       "      <td>3.2</td>\n",
       "    </tr>\n",
       "    <tr>\n",
       "      <th>d</th>\n",
       "      <td>4.1</td>\n",
       "      <td>4.2</td>\n",
       "    </tr>\n",
       "    <tr>\n",
       "      <th>e</th>\n",
       "      <td>5.1</td>\n",
       "      <td>5.2</td>\n",
       "    </tr>\n",
       "    <tr>\n",
       "      <th>f</th>\n",
       "      <td>6.1</td>\n",
       "      <td>6.2</td>\n",
       "    </tr>\n",
       "    <tr>\n",
       "      <th>g</th>\n",
       "      <td>7.1</td>\n",
       "      <td>7.2</td>\n",
       "    </tr>\n",
       "  </tbody>\n",
       "</table>\n",
       "</div>"
      ],
      "text/plain": [
       "     x    y\n",
       "a  1.1  1.2\n",
       "b  2.1  2.2\n",
       "c  3.1  3.2\n",
       "d  4.1  4.2\n",
       "e  5.1  5.2\n",
       "f  6.1  6.2\n",
       "g  7.1  7.2"
      ]
     },
     "execution_count": 167,
     "metadata": {},
     "output_type": "execute_result"
    }
   ],
   "source": [
    "df"
   ]
  },
  {
   "cell_type": "code",
   "execution_count": 168,
   "metadata": {},
   "outputs": [
    {
     "data": {
      "text/html": [
       "<div>\n",
       "<style scoped>\n",
       "    .dataframe tbody tr th:only-of-type {\n",
       "        vertical-align: middle;\n",
       "    }\n",
       "\n",
       "    .dataframe tbody tr th {\n",
       "        vertical-align: top;\n",
       "    }\n",
       "\n",
       "    .dataframe thead th {\n",
       "        text-align: right;\n",
       "    }\n",
       "</style>\n",
       "<table border=\"1\" class=\"dataframe\">\n",
       "  <thead>\n",
       "    <tr style=\"text-align: right;\">\n",
       "      <th></th>\n",
       "      <th>x</th>\n",
       "      <th>y</th>\n",
       "    </tr>\n",
       "  </thead>\n",
       "  <tbody>\n",
       "    <tr>\n",
       "      <th>a</th>\n",
       "      <td>1.1</td>\n",
       "      <td>1.2</td>\n",
       "    </tr>\n",
       "    <tr>\n",
       "      <th>b</th>\n",
       "      <td>2.1</td>\n",
       "      <td>2.2</td>\n",
       "    </tr>\n",
       "    <tr>\n",
       "      <th>c</th>\n",
       "      <td>3.1</td>\n",
       "      <td>3.2</td>\n",
       "    </tr>\n",
       "    <tr>\n",
       "      <th>d</th>\n",
       "      <td>4.1</td>\n",
       "      <td>4.2</td>\n",
       "    </tr>\n",
       "    <tr>\n",
       "      <th>e</th>\n",
       "      <td>5.1</td>\n",
       "      <td>5.2</td>\n",
       "    </tr>\n",
       "  </tbody>\n",
       "</table>\n",
       "</div>"
      ],
      "text/plain": [
       "     x    y\n",
       "a  1.1  1.2\n",
       "b  2.1  2.2\n",
       "c  3.1  3.2\n",
       "d  4.1  4.2\n",
       "e  5.1  5.2"
      ]
     },
     "execution_count": 168,
     "metadata": {},
     "output_type": "execute_result"
    }
   ],
   "source": [
    "df.head()"
   ]
  },
  {
   "cell_type": "code",
   "execution_count": 169,
   "metadata": {},
   "outputs": [
    {
     "data": {
      "text/html": [
       "<div>\n",
       "<style scoped>\n",
       "    .dataframe tbody tr th:only-of-type {\n",
       "        vertical-align: middle;\n",
       "    }\n",
       "\n",
       "    .dataframe tbody tr th {\n",
       "        vertical-align: top;\n",
       "    }\n",
       "\n",
       "    .dataframe thead th {\n",
       "        text-align: right;\n",
       "    }\n",
       "</style>\n",
       "<table border=\"1\" class=\"dataframe\">\n",
       "  <thead>\n",
       "    <tr style=\"text-align: right;\">\n",
       "      <th></th>\n",
       "      <th>x</th>\n",
       "      <th>y</th>\n",
       "    </tr>\n",
       "  </thead>\n",
       "  <tbody>\n",
       "    <tr>\n",
       "      <th>c</th>\n",
       "      <td>3.1</td>\n",
       "      <td>3.2</td>\n",
       "    </tr>\n",
       "    <tr>\n",
       "      <th>d</th>\n",
       "      <td>4.1</td>\n",
       "      <td>4.2</td>\n",
       "    </tr>\n",
       "    <tr>\n",
       "      <th>e</th>\n",
       "      <td>5.1</td>\n",
       "      <td>5.2</td>\n",
       "    </tr>\n",
       "    <tr>\n",
       "      <th>f</th>\n",
       "      <td>6.1</td>\n",
       "      <td>6.2</td>\n",
       "    </tr>\n",
       "    <tr>\n",
       "      <th>g</th>\n",
       "      <td>7.1</td>\n",
       "      <td>7.2</td>\n",
       "    </tr>\n",
       "  </tbody>\n",
       "</table>\n",
       "</div>"
      ],
      "text/plain": [
       "     x    y\n",
       "c  3.1  3.2\n",
       "d  4.1  4.2\n",
       "e  5.1  5.2\n",
       "f  6.1  6.2\n",
       "g  7.1  7.2"
      ]
     },
     "execution_count": 169,
     "metadata": {},
     "output_type": "execute_result"
    }
   ],
   "source": [
    "df.tail()"
   ]
  },
  {
   "attachments": {},
   "cell_type": "markdown",
   "metadata": {},
   "source": [
    "The number of observations ```n``` defaults to ```5``` and can be changed:"
   ]
  },
  {
   "cell_type": "code",
   "execution_count": 170,
   "metadata": {},
   "outputs": [
    {
     "data": {
      "text/html": [
       "<div>\n",
       "<style scoped>\n",
       "    .dataframe tbody tr th:only-of-type {\n",
       "        vertical-align: middle;\n",
       "    }\n",
       "\n",
       "    .dataframe tbody tr th {\n",
       "        vertical-align: top;\n",
       "    }\n",
       "\n",
       "    .dataframe thead th {\n",
       "        text-align: right;\n",
       "    }\n",
       "</style>\n",
       "<table border=\"1\" class=\"dataframe\">\n",
       "  <thead>\n",
       "    <tr style=\"text-align: right;\">\n",
       "      <th></th>\n",
       "      <th>x</th>\n",
       "      <th>y</th>\n",
       "    </tr>\n",
       "  </thead>\n",
       "  <tbody>\n",
       "    <tr>\n",
       "      <th>a</th>\n",
       "      <td>1.1</td>\n",
       "      <td>1.2</td>\n",
       "    </tr>\n",
       "    <tr>\n",
       "      <th>b</th>\n",
       "      <td>2.1</td>\n",
       "      <td>2.2</td>\n",
       "    </tr>\n",
       "    <tr>\n",
       "      <th>c</th>\n",
       "      <td>3.1</td>\n",
       "      <td>3.2</td>\n",
       "    </tr>\n",
       "  </tbody>\n",
       "</table>\n",
       "</div>"
      ],
      "text/plain": [
       "     x    y\n",
       "a  1.1  1.2\n",
       "b  2.1  2.2\n",
       "c  3.1  3.2"
      ]
     },
     "execution_count": 170,
     "metadata": {},
     "output_type": "execute_result"
    }
   ],
   "source": [
    "df.head(n=3)"
   ]
  },
  {
   "attachments": {},
   "cell_type": "markdown",
   "metadata": {},
   "source": [
    "The ```DataFrame``` method ```nunique``` gives the number of unique observations for each ```Series```:"
   ]
  },
  {
   "cell_type": "code",
   "execution_count": 171,
   "metadata": {},
   "outputs": [
    {
     "data": {
      "text/plain": [
       "x    7\n",
       "y    7\n",
       "dtype: int64"
      ]
     },
     "execution_count": 171,
     "metadata": {},
     "output_type": "execute_result"
    }
   ],
   "source": [
    "df.nunique()"
   ]
  },
  {
   "attachments": {},
   "cell_type": "markdown",
   "metadata": {},
   "source": [
    "## Attribute Access - Dictionary Syntax vs Dot Syntax"
   ]
  },
  {
   "attachments": {},
   "cell_type": "markdown",
   "metadata": {},
   "source": [
    "If the following ```DataFrame``` is instantiated to ```df```:"
   ]
  },
  {
   "cell_type": "code",
   "execution_count": 172,
   "metadata": {},
   "outputs": [],
   "source": [
    "df = pd.DataFrame(index = np.array(['a', 'b', 'c', 'd']),\n",
    "                  data={'x': np.array([1.1, 2.1, 3.1, 4.1]),\n",
    "                        'y': np.array([1.2, 2.2, 3.2, 4.2])})"
   ]
  },
  {
   "cell_type": "code",
   "execution_count": 173,
   "metadata": {},
   "outputs": [
    {
     "data": {
      "text/html": [
       "<div>\n",
       "<style scoped>\n",
       "    .dataframe tbody tr th:only-of-type {\n",
       "        vertical-align: middle;\n",
       "    }\n",
       "\n",
       "    .dataframe tbody tr th {\n",
       "        vertical-align: top;\n",
       "    }\n",
       "\n",
       "    .dataframe thead th {\n",
       "        text-align: right;\n",
       "    }\n",
       "</style>\n",
       "<table border=\"1\" class=\"dataframe\">\n",
       "  <thead>\n",
       "    <tr style=\"text-align: right;\">\n",
       "      <th></th>\n",
       "      <th>x</th>\n",
       "      <th>y</th>\n",
       "    </tr>\n",
       "  </thead>\n",
       "  <tbody>\n",
       "    <tr>\n",
       "      <th>a</th>\n",
       "      <td>1.1</td>\n",
       "      <td>1.2</td>\n",
       "    </tr>\n",
       "    <tr>\n",
       "      <th>b</th>\n",
       "      <td>2.1</td>\n",
       "      <td>2.2</td>\n",
       "    </tr>\n",
       "    <tr>\n",
       "      <th>c</th>\n",
       "      <td>3.1</td>\n",
       "      <td>3.2</td>\n",
       "    </tr>\n",
       "    <tr>\n",
       "      <th>d</th>\n",
       "      <td>4.1</td>\n",
       "      <td>4.2</td>\n",
       "    </tr>\n",
       "  </tbody>\n",
       "</table>\n",
       "</div>"
      ],
      "text/plain": [
       "     x    y\n",
       "a  1.1  1.2\n",
       "b  2.1  2.2\n",
       "c  3.1  3.2\n",
       "d  4.1  4.2"
      ]
     },
     "execution_count": 173,
     "metadata": {},
     "output_type": "execute_result"
    }
   ],
   "source": [
    "df"
   ]
  },
  {
   "attachments": {},
   "cell_type": "markdown",
   "metadata": {},
   "source": [
    "Each ```Series``` can be accessed from the ```DataFrame``` instance ```df``` by indexing into ```df``` using the corresponding ```Series``` ```name``` enclosed in square brackets. This style of ```Series``` access is analogous to retrieving a value from a ```dict``` by use of its ```key```:"
   ]
  },
  {
   "cell_type": "code",
   "execution_count": 174,
   "metadata": {},
   "outputs": [
    {
     "data": {
      "text/plain": [
       "a    1.1\n",
       "b    2.1\n",
       "c    3.1\n",
       "d    4.1\n",
       "Name: x, dtype: float64"
      ]
     },
     "execution_count": 174,
     "metadata": {},
     "output_type": "execute_result"
    }
   ],
   "source": [
    "df['x']"
   ]
  },
  {
   "attachments": {},
   "cell_type": "markdown",
   "metadata": {},
   "source": [
    "Since the following is ```True```:"
   ]
  },
  {
   "cell_type": "code",
   "execution_count": 175,
   "metadata": {},
   "outputs": [
    {
     "data": {
      "text/plain": [
       "True"
      ]
     },
     "execution_count": 175,
     "metadata": {},
     "output_type": "execute_result"
    }
   ],
   "source": [
    "'x'.isidentifier()"
   ]
  },
  {
   "attachments": {},
   "cell_type": "markdown",
   "metadata": {},
   "source": [
    "```x``` becomes an attribute and can also be accessed using:"
   ]
  },
  {
   "cell_type": "code",
   "execution_count": 176,
   "metadata": {},
   "outputs": [
    {
     "data": {
      "text/plain": [
       "a    1.1\n",
       "b    2.1\n",
       "c    3.1\n",
       "d    4.1\n",
       "Name: x, dtype: float64"
      ]
     },
     "execution_count": 176,
     "metadata": {},
     "output_type": "execute_result"
    }
   ],
   "source": [
    "df.x"
   ]
  },
  {
   "cell_type": "code",
   "execution_count": 177,
   "metadata": {},
   "outputs": [
    {
     "data": {
      "text/plain": [
       "True"
      ]
     },
     "execution_count": 177,
     "metadata": {},
     "output_type": "execute_result"
    }
   ],
   "source": [
    "df.x is df['x']"
   ]
  },
  {
   "attachments": {},
   "cell_type": "markdown",
   "metadata": {},
   "source": [
    "A ```Series``` ```name``` only becomes an attribute of a DataFrame **after** it is instantiated and if it is a valid identifier:"
   ]
  },
  {
   "cell_type": "code",
   "execution_count": 178,
   "metadata": {},
   "outputs": [],
   "source": [
    "df['z1'] = np.array([1.3, 2.3, 2.3, 2.4])"
   ]
  },
  {
   "cell_type": "code",
   "execution_count": 179,
   "metadata": {},
   "outputs": [
    {
     "data": {
      "text/html": [
       "<div>\n",
       "<style scoped>\n",
       "    .dataframe tbody tr th:only-of-type {\n",
       "        vertical-align: middle;\n",
       "    }\n",
       "\n",
       "    .dataframe tbody tr th {\n",
       "        vertical-align: top;\n",
       "    }\n",
       "\n",
       "    .dataframe thead th {\n",
       "        text-align: right;\n",
       "    }\n",
       "</style>\n",
       "<table border=\"1\" class=\"dataframe\">\n",
       "  <thead>\n",
       "    <tr style=\"text-align: right;\">\n",
       "      <th></th>\n",
       "      <th>x</th>\n",
       "      <th>y</th>\n",
       "      <th>z1</th>\n",
       "    </tr>\n",
       "  </thead>\n",
       "  <tbody>\n",
       "    <tr>\n",
       "      <th>a</th>\n",
       "      <td>1.1</td>\n",
       "      <td>1.2</td>\n",
       "      <td>1.3</td>\n",
       "    </tr>\n",
       "    <tr>\n",
       "      <th>b</th>\n",
       "      <td>2.1</td>\n",
       "      <td>2.2</td>\n",
       "      <td>2.3</td>\n",
       "    </tr>\n",
       "    <tr>\n",
       "      <th>c</th>\n",
       "      <td>3.1</td>\n",
       "      <td>3.2</td>\n",
       "      <td>2.3</td>\n",
       "    </tr>\n",
       "    <tr>\n",
       "      <th>d</th>\n",
       "      <td>4.1</td>\n",
       "      <td>4.2</td>\n",
       "      <td>2.4</td>\n",
       "    </tr>\n",
       "  </tbody>\n",
       "</table>\n",
       "</div>"
      ],
      "text/plain": [
       "     x    y   z1\n",
       "a  1.1  1.2  1.3\n",
       "b  2.1  2.2  2.3\n",
       "c  3.1  3.2  2.3\n",
       "d  4.1  4.2  2.4"
      ]
     },
     "execution_count": 179,
     "metadata": {},
     "output_type": "execute_result"
    }
   ],
   "source": [
    "df"
   ]
  },
  {
   "cell_type": "code",
   "execution_count": 180,
   "metadata": {},
   "outputs": [
    {
     "data": {
      "text/plain": [
       "a    1.3\n",
       "b    2.3\n",
       "c    2.3\n",
       "d    2.4\n",
       "Name: z1, dtype: float64"
      ]
     },
     "execution_count": 180,
     "metadata": {},
     "output_type": "execute_result"
    }
   ],
   "source": [
    "df.z1"
   ]
  },
  {
   "attachments": {},
   "cell_type": "markdown",
   "metadata": {},
   "source": [
    "A ```UserWarning``` displays if the dot syntax is used in an attempt to create a new attribute, leaving the ```df``` instance unchanged. \n",
    "\n",
    "Notice when an invalid identifier is used as the ```nam``` for a new ```Series```:"
   ]
  },
  {
   "cell_type": "code",
   "execution_count": 181,
   "metadata": {},
   "outputs": [
    {
     "data": {
      "text/plain": [
       "False"
      ]
     },
     "execution_count": 181,
     "metadata": {},
     "output_type": "execute_result"
    }
   ],
   "source": [
    "'1'.isidentifier()"
   ]
  },
  {
   "cell_type": "code",
   "execution_count": 182,
   "metadata": {},
   "outputs": [],
   "source": [
    "df['1'] = np.array([1.3, 2.3, 2.3, 2.4])"
   ]
  },
  {
   "cell_type": "markdown",
   "metadata": {},
   "source": [
    "That it does not show as an attribute:"
   ]
  },
  {
   "cell_type": "code",
   "execution_count": 183,
   "metadata": {},
   "outputs": [
    {
     "name": "stdout",
     "output_type": "stream",
     "text": [
      "['at', 'attrs', 'axes', 'columns', 'dtypes', 'empty', 'flags', 'iat', 'index', 'ndim', 'shape', 'size', 'style', 'values', 'x', 'y', 'z1']\n"
     ]
    }
   ],
   "source": [
    "print_identifier_group(df, kind='attribute')"
   ]
  },
  {
   "attachments": {},
   "cell_type": "markdown",
   "metadata": {},
   "source": [
    "For this reason ```Series``` names should generally follow the naming conventions of Python identifiers."
   ]
  },
  {
   "attachments": {},
   "cell_type": "markdown",
   "metadata": {},
   "source": [
    "Although the dot attribute access from the ```DataFrame``` instance ```df``` is unavailable for this Series instance ```'1'```. The Series instance ```'1'``` can still be accessed by indexing into the ```DataFrame``` instance ```df``` using the ```Series``` ```name``` ```'1'```:"
   ]
  },
  {
   "cell_type": "code",
   "execution_count": 184,
   "metadata": {},
   "outputs": [
    {
     "data": {
      "text/plain": [
       "a    1.3\n",
       "b    2.3\n",
       "c    2.3\n",
       "d    2.4\n",
       "Name: 1, dtype: float64"
      ]
     },
     "execution_count": 184,
     "metadata": {},
     "output_type": "execute_result"
    }
   ],
   "source": [
    "df['1']"
   ]
  },
  {
   "attachments": {},
   "cell_type": "markdown",
   "metadata": {},
   "source": [
    "Accessing a ```Series``` via dictionary-style indexing is therefore more powerful and this syntax is generally preferred."
   ]
  },
  {
   "attachments": {},
   "cell_type": "markdown",
   "metadata": {},
   "source": [
    "The major drawback of the dictionary-style indexing syntax is with code-completion. Notice no docstring displays when ```?``` is used:"
   ]
  },
  {
   "cell_type": "code",
   "execution_count": 185,
   "metadata": {},
   "outputs": [
    {
     "name": "stdout",
     "output_type": "stream",
     "text": [
      "Object `info` not found.\n"
     ]
    }
   ],
   "source": [
    "df['x'].info?"
   ]
  },
  {
   "cell_type": "code",
   "execution_count": 186,
   "metadata": {},
   "outputs": [
    {
     "name": "stdout",
     "output_type": "stream",
     "text": [
      "<class 'pandas.core.series.Series'>\n",
      "Index: 4 entries, a to d\n",
      "Series name: x\n",
      "Non-Null Count  Dtype  \n",
      "--------------  -----  \n",
      "4 non-null      float64\n",
      "dtypes: float64(1)\n",
      "memory usage: 236.0+ bytes\n"
     ]
    }
   ],
   "source": [
    "df['x'].info()"
   ]
  },
  {
   "attachments": {},
   "cell_type": "markdown",
   "metadata": {},
   "source": [
    "However if the attribute is used, the docstring displays:"
   ]
  },
  {
   "cell_type": "code",
   "execution_count": 187,
   "metadata": {},
   "outputs": [
    {
     "name": "stdout",
     "output_type": "stream",
     "text": [
      "\u001b[1;31mSignature:\u001b[0m\n",
      "\u001b[0mdf\u001b[0m\u001b[1;33m.\u001b[0m\u001b[0mx\u001b[0m\u001b[1;33m.\u001b[0m\u001b[0minfo\u001b[0m\u001b[1;33m(\u001b[0m\u001b[1;33m\n",
      "\u001b[0m    \u001b[0mverbose\u001b[0m\u001b[1;33m:\u001b[0m \u001b[1;34m'bool | None'\u001b[0m \u001b[1;33m=\u001b[0m \u001b[1;32mNone\u001b[0m\u001b[1;33m,\u001b[0m\u001b[1;33m\n",
      "\u001b[0m    \u001b[0mbuf\u001b[0m\u001b[1;33m:\u001b[0m \u001b[1;34m'IO[str] | None'\u001b[0m \u001b[1;33m=\u001b[0m \u001b[1;32mNone\u001b[0m\u001b[1;33m,\u001b[0m\u001b[1;33m\n",
      "\u001b[0m    \u001b[0mmax_cols\u001b[0m\u001b[1;33m:\u001b[0m \u001b[1;34m'int | None'\u001b[0m \u001b[1;33m=\u001b[0m \u001b[1;32mNone\u001b[0m\u001b[1;33m,\u001b[0m\u001b[1;33m\n",
      "\u001b[0m    \u001b[0mmemory_usage\u001b[0m\u001b[1;33m:\u001b[0m \u001b[1;34m'bool | str | None'\u001b[0m \u001b[1;33m=\u001b[0m \u001b[1;32mNone\u001b[0m\u001b[1;33m,\u001b[0m\u001b[1;33m\n",
      "\u001b[0m    \u001b[0mshow_counts\u001b[0m\u001b[1;33m:\u001b[0m \u001b[1;34m'bool'\u001b[0m \u001b[1;33m=\u001b[0m \u001b[1;32mTrue\u001b[0m\u001b[1;33m,\u001b[0m\u001b[1;33m\n",
      "\u001b[0m\u001b[1;33m)\u001b[0m \u001b[1;33m->\u001b[0m \u001b[1;34m'None'\u001b[0m\u001b[1;33m\u001b[0m\u001b[1;33m\u001b[0m\u001b[0m\n",
      "\u001b[1;31mDocstring:\u001b[0m\n",
      "Print a concise summary of a Series.\n",
      "\n",
      "This method prints information about a Series including\n",
      "the index dtype, non-null values and memory usage.\n",
      "\n",
      ".. versionadded:: 1.4.0\n",
      "\n",
      "Parameters\n",
      "----------\n",
      "verbose : bool, optional\n",
      "    Whether to print the full summary. By default, the setting in\n",
      "    ``pandas.options.display.max_info_columns`` is followed.\n",
      "buf : writable buffer, defaults to sys.stdout\n",
      "    Where to send the output. By default, the output is printed to\n",
      "    sys.stdout. Pass a writable buffer if you need to further process\n",
      "    the output.\n",
      "\n",
      "memory_usage : bool, str, optional\n",
      "    Specifies whether total memory usage of the Series\n",
      "    elements (including the index) should be displayed. By default,\n",
      "    this follows the ``pandas.options.display.memory_usage`` setting.\n",
      "\n",
      "    True always show memory usage. False never shows memory usage.\n",
      "    A value of 'deep' is equivalent to \"True with deep introspection\".\n",
      "    Memory usage is shown in human-readable units (base-2\n",
      "    representation). Without deep introspection a memory estimation is\n",
      "    made based in column dtype and number of rows assuming values\n",
      "    consume the same memory amount for corresponding dtypes. With deep\n",
      "    memory introspection, a real memory usage calculation is performed\n",
      "    at the cost of computational resources. See the\n",
      "    :ref:`Frequently Asked Questions <df-memory-usage>` for more\n",
      "    details.\n",
      "show_counts : bool, optional\n",
      "    Whether to show the non-null counts. By default, this is shown\n",
      "    only if the DataFrame is smaller than\n",
      "    ``pandas.options.display.max_info_rows`` and\n",
      "    ``pandas.options.display.max_info_columns``. A value of True always\n",
      "    shows the counts, and False never shows the counts.\n",
      "\n",
      "Returns\n",
      "-------\n",
      "None\n",
      "    This method prints a summary of a Series and returns None.\n",
      "\n",
      "See Also\n",
      "--------\n",
      "Series.describe: Generate descriptive statistics of Series.\n",
      "Series.memory_usage: Memory usage of Series.\n",
      "\n",
      "Examples\n",
      "--------\n",
      ">>> int_values = [1, 2, 3, 4, 5]\n",
      ">>> text_values = ['alpha', 'beta', 'gamma', 'delta', 'epsilon']\n",
      ">>> s = pd.Series(text_values, index=int_values)\n",
      ">>> s.info()\n",
      "<class 'pandas.core.series.Series'>\n",
      "Index: 5 entries, 1 to 5\n",
      "Series name: None\n",
      "Non-Null Count  Dtype\n",
      "--------------  -----\n",
      "5 non-null      object\n",
      "dtypes: object(1)\n",
      "memory usage: 80.0+ bytes\n",
      "\n",
      "Prints a summary excluding information about its values:\n",
      "\n",
      ">>> s.info(verbose=False)\n",
      "<class 'pandas.core.series.Series'>\n",
      "Index: 5 entries, 1 to 5\n",
      "dtypes: object(1)\n",
      "memory usage: 80.0+ bytes\n",
      "\n",
      "Pipe output of Series.info to buffer instead of sys.stdout, get\n",
      "buffer content and writes to a text file:\n",
      "\n",
      ">>> import io\n",
      ">>> buffer = io.StringIO()\n",
      ">>> s.info(buf=buffer)\n",
      ">>> s = buffer.getvalue()\n",
      ">>> with open(\"df_info.txt\", \"w\",\n",
      "...           encoding=\"utf-8\") as f:  # doctest: +SKIP\n",
      "...     f.write(s)\n",
      "260\n",
      "\n",
      "The `memory_usage` parameter allows deep introspection mode, specially\n",
      "useful for big Series and fine-tune memory optimization:\n",
      "\n",
      ">>> random_strings_array = np.random.choice(['a', 'b', 'c'], 10 ** 6)\n",
      ">>> s = pd.Series(np.random.choice(['a', 'b', 'c'], 10 ** 6))\n",
      ">>> s.info()\n",
      "<class 'pandas.core.series.Series'>\n",
      "RangeIndex: 1000000 entries, 0 to 999999\n",
      "Series name: None\n",
      "Non-Null Count    Dtype\n",
      "--------------    -----\n",
      "1000000 non-null  object\n",
      "dtypes: object(1)\n",
      "memory usage: 7.6+ MB\n",
      "\n",
      ">>> s.info(memory_usage='deep')\n",
      "<class 'pandas.core.series.Series'>\n",
      "RangeIndex: 1000000 entries, 0 to 999999\n",
      "Series name: None\n",
      "Non-Null Count    Dtype\n",
      "--------------    -----\n",
      "1000000 non-null  object\n",
      "dtypes: object(1)\n",
      "memory usage: 55.3 MB\n",
      "\u001b[1;31mFile:\u001b[0m      c:\\users\\phili\\anaconda3\\envs\\vscode-env\\lib\\site-packages\\pandas\\core\\series.py\n",
      "\u001b[1;31mType:\u001b[0m      method"
     ]
    }
   ],
   "source": [
    "df.x.info?"
   ]
  },
  {
   "cell_type": "code",
   "execution_count": 188,
   "metadata": {},
   "outputs": [
    {
     "name": "stdout",
     "output_type": "stream",
     "text": [
      "<class 'pandas.core.series.Series'>\n",
      "Index: 4 entries, a to d\n",
      "Series name: x\n",
      "Non-Null Count  Dtype  \n",
      "--------------  -----  \n",
      "4 non-null      float64\n",
      "dtypes: float64(1)\n",
      "memory usage: 236.0+ bytes\n"
     ]
    }
   ],
   "source": [
    "df.x.info()"
   ]
  },
  {
   "attachments": {},
   "cell_type": "markdown",
   "metadata": {},
   "source": [
    "The ```Series``` method info gives the same result in both cases."
   ]
  },
  {
   "attachments": {},
   "cell_type": "markdown",
   "metadata": {},
   "source": [
    "When the ```name``` used in an  ```Index``` is also a valid identifier:"
   ]
  },
  {
   "cell_type": "code",
   "execution_count": 189,
   "metadata": {},
   "outputs": [
    {
     "data": {
      "text/plain": [
       "True"
      ]
     },
     "execution_count": 189,
     "metadata": {},
     "output_type": "execute_result"
    }
   ],
   "source": [
    "'a'.isidentifier()"
   ]
  },
  {
   "attachments": {},
   "cell_type": "markdown",
   "metadata": {},
   "source": [
    "It will be available as an attribute for each  ```Series```:"
   ]
  },
  {
   "cell_type": "code",
   "execution_count": 190,
   "metadata": {},
   "outputs": [
    {
     "data": {
      "text/plain": [
       "1.1"
      ]
     },
     "execution_count": 190,
     "metadata": {},
     "output_type": "execute_result"
    }
   ],
   "source": [
    "df.x.a"
   ]
  },
  {
   "attachments": {},
   "cell_type": "markdown",
   "metadata": {},
   "source": [
    "The default ```Index``` is numeric ```RangeIndex``` of integer steps which are invalid identifiers:"
   ]
  },
  {
   "cell_type": "code",
   "execution_count": 191,
   "metadata": {},
   "outputs": [
    {
     "data": {
      "text/plain": [
       "False"
      ]
     },
     "execution_count": 191,
     "metadata": {},
     "output_type": "execute_result"
    }
   ],
   "source": [
    "'0'.isidentifier()"
   ]
  },
  {
   "attachments": {},
   "cell_type": "markdown",
   "metadata": {},
   "source": [
    "And therefore when the default ```RangeIndex``` is used:"
   ]
  },
  {
   "cell_type": "code",
   "execution_count": 192,
   "metadata": {},
   "outputs": [],
   "source": [
    "df = pd.DataFrame(data={'x': np.array([1.1, 2.1, 3.1, 4.1]),\n",
    "                        'y': np.array([1.2, 2.2, 3.2, 4.2])})"
   ]
  },
  {
   "cell_type": "code",
   "execution_count": 193,
   "metadata": {},
   "outputs": [
    {
     "data": {
      "text/html": [
       "<div>\n",
       "<style scoped>\n",
       "    .dataframe tbody tr th:only-of-type {\n",
       "        vertical-align: middle;\n",
       "    }\n",
       "\n",
       "    .dataframe tbody tr th {\n",
       "        vertical-align: top;\n",
       "    }\n",
       "\n",
       "    .dataframe thead th {\n",
       "        text-align: right;\n",
       "    }\n",
       "</style>\n",
       "<table border=\"1\" class=\"dataframe\">\n",
       "  <thead>\n",
       "    <tr style=\"text-align: right;\">\n",
       "      <th></th>\n",
       "      <th>x</th>\n",
       "      <th>y</th>\n",
       "    </tr>\n",
       "  </thead>\n",
       "  <tbody>\n",
       "    <tr>\n",
       "      <th>0</th>\n",
       "      <td>1.1</td>\n",
       "      <td>1.2</td>\n",
       "    </tr>\n",
       "    <tr>\n",
       "      <th>1</th>\n",
       "      <td>2.1</td>\n",
       "      <td>2.2</td>\n",
       "    </tr>\n",
       "    <tr>\n",
       "      <th>2</th>\n",
       "      <td>3.1</td>\n",
       "      <td>3.2</td>\n",
       "    </tr>\n",
       "    <tr>\n",
       "      <th>3</th>\n",
       "      <td>4.1</td>\n",
       "      <td>4.2</td>\n",
       "    </tr>\n",
       "  </tbody>\n",
       "</table>\n",
       "</div>"
      ],
      "text/plain": [
       "     x    y\n",
       "0  1.1  1.2\n",
       "1  2.1  2.2\n",
       "2  3.1  3.2\n",
       "3  4.1  4.2"
      ]
     },
     "execution_count": 193,
     "metadata": {},
     "output_type": "execute_result"
    }
   ],
   "source": [
    "df"
   ]
  },
  {
   "attachments": {},
   "cell_type": "markdown",
   "metadata": {},
   "source": [
    "Because these are invalid identifiers they do not show as attributes for any of the ```Series``` belonging to the ```DataFrame``` instance:"
   ]
  },
  {
   "cell_type": "code",
   "execution_count": 194,
   "metadata": {},
   "outputs": [
    {
     "name": "stdout",
     "output_type": "stream",
     "text": [
      "['array', 'at', 'attrs', 'axes', 'dtype', 'dtypes', 'empty', 'flags', 'hasnans', 'iat', 'index', 'is_monotonic_decreasing', 'is_monotonic_increasing', 'is_unique', 'name', 'nbytes', 'ndim', 'shape', 'size', 'values']\n"
     ]
    }
   ],
   "source": [
    "print_identifier_group(df['x'], kind='attribute')"
   ]
  },
  {
   "attachments": {},
   "cell_type": "markdown",
   "metadata": {},
   "source": [
    "However the ```rows``` can be selected by indexing the numeric index in square brackets:"
   ]
  },
  {
   "cell_type": "code",
   "execution_count": 195,
   "metadata": {},
   "outputs": [
    {
     "data": {
      "text/plain": [
       "2.1"
      ]
     },
     "execution_count": 195,
     "metadata": {},
     "output_type": "execute_result"
    }
   ],
   "source": [
    "df['x'][1]"
   ]
  },
  {
   "attachments": {},
   "cell_type": "markdown",
   "metadata": {},
   "source": [
    "## Combining DataFrames"
   ]
  },
  {
   "attachments": {},
   "cell_type": "markdown",
   "metadata": {},
   "source": [
    "```DataFrame``` methods are generally setup for ```Series```. For example if the following ```DataFrame``` instance is examined:"
   ]
  },
  {
   "cell_type": "code",
   "execution_count": 196,
   "metadata": {},
   "outputs": [],
   "source": [
    "df = pd.DataFrame(data={'x': np.array([1.1, 2.1, 3.1, 4.1]),\n",
    "                        'y': np.array([1.2, 2.2, 3.2, 4.2])})"
   ]
  },
  {
   "cell_type": "code",
   "execution_count": 197,
   "metadata": {},
   "outputs": [
    {
     "data": {
      "text/html": [
       "<div>\n",
       "<style scoped>\n",
       "    .dataframe tbody tr th:only-of-type {\n",
       "        vertical-align: middle;\n",
       "    }\n",
       "\n",
       "    .dataframe tbody tr th {\n",
       "        vertical-align: top;\n",
       "    }\n",
       "\n",
       "    .dataframe thead th {\n",
       "        text-align: right;\n",
       "    }\n",
       "</style>\n",
       "<table border=\"1\" class=\"dataframe\">\n",
       "  <thead>\n",
       "    <tr style=\"text-align: right;\">\n",
       "      <th></th>\n",
       "      <th>x</th>\n",
       "      <th>y</th>\n",
       "    </tr>\n",
       "  </thead>\n",
       "  <tbody>\n",
       "    <tr>\n",
       "      <th>0</th>\n",
       "      <td>1.1</td>\n",
       "      <td>1.2</td>\n",
       "    </tr>\n",
       "    <tr>\n",
       "      <th>1</th>\n",
       "      <td>2.1</td>\n",
       "      <td>2.2</td>\n",
       "    </tr>\n",
       "    <tr>\n",
       "      <th>2</th>\n",
       "      <td>3.1</td>\n",
       "      <td>3.2</td>\n",
       "    </tr>\n",
       "    <tr>\n",
       "      <th>3</th>\n",
       "      <td>4.1</td>\n",
       "      <td>4.2</td>\n",
       "    </tr>\n",
       "  </tbody>\n",
       "</table>\n",
       "</div>"
      ],
      "text/plain": [
       "     x    y\n",
       "0  1.1  1.2\n",
       "1  2.1  2.2\n",
       "2  3.1  3.2\n",
       "3  4.1  4.2"
      ]
     },
     "execution_count": 197,
     "metadata": {},
     "output_type": "execute_result"
    }
   ],
   "source": [
    "df"
   ]
  },
  {
   "attachments": {},
   "cell_type": "markdown",
   "metadata": {},
   "source": [
    "A ```Series``` is typically appended to the end of the ```DataFrame``` by use of:"
   ]
  },
  {
   "cell_type": "code",
   "execution_count": 198,
   "metadata": {},
   "outputs": [],
   "source": [
    "df['z'] = np.array([1.3, 2.3, 3.3, 4.3])"
   ]
  },
  {
   "cell_type": "code",
   "execution_count": 199,
   "metadata": {},
   "outputs": [
    {
     "data": {
      "text/html": [
       "<div>\n",
       "<style scoped>\n",
       "    .dataframe tbody tr th:only-of-type {\n",
       "        vertical-align: middle;\n",
       "    }\n",
       "\n",
       "    .dataframe tbody tr th {\n",
       "        vertical-align: top;\n",
       "    }\n",
       "\n",
       "    .dataframe thead th {\n",
       "        text-align: right;\n",
       "    }\n",
       "</style>\n",
       "<table border=\"1\" class=\"dataframe\">\n",
       "  <thead>\n",
       "    <tr style=\"text-align: right;\">\n",
       "      <th></th>\n",
       "      <th>x</th>\n",
       "      <th>y</th>\n",
       "      <th>z</th>\n",
       "    </tr>\n",
       "  </thead>\n",
       "  <tbody>\n",
       "    <tr>\n",
       "      <th>0</th>\n",
       "      <td>1.1</td>\n",
       "      <td>1.2</td>\n",
       "      <td>1.3</td>\n",
       "    </tr>\n",
       "    <tr>\n",
       "      <th>1</th>\n",
       "      <td>2.1</td>\n",
       "      <td>2.2</td>\n",
       "      <td>2.3</td>\n",
       "    </tr>\n",
       "    <tr>\n",
       "      <th>2</th>\n",
       "      <td>3.1</td>\n",
       "      <td>3.2</td>\n",
       "      <td>3.3</td>\n",
       "    </tr>\n",
       "    <tr>\n",
       "      <th>3</th>\n",
       "      <td>4.1</td>\n",
       "      <td>4.2</td>\n",
       "      <td>4.3</td>\n",
       "    </tr>\n",
       "  </tbody>\n",
       "</table>\n",
       "</div>"
      ],
      "text/plain": [
       "     x    y    z\n",
       "0  1.1  1.2  1.3\n",
       "1  2.1  2.2  2.3\n",
       "2  3.1  3.2  3.3\n",
       "3  4.1  4.2  4.3"
      ]
     },
     "execution_count": 199,
     "metadata": {},
     "output_type": "execute_result"
    }
   ],
   "source": [
    "df"
   ]
  },
  {
   "attachments": {},
   "cell_type": "markdown",
   "metadata": {},
   "source": [
    "Alternatively a ```Series``` can be inserted at a specified index using the mutable method ```insert```:"
   ]
  },
  {
   "cell_type": "code",
   "execution_count": 200,
   "metadata": {},
   "outputs": [
    {
     "name": "stdout",
     "output_type": "stream",
     "text": [
      "\u001b[1;31mSignature:\u001b[0m\n",
      "\u001b[0mdf\u001b[0m\u001b[1;33m.\u001b[0m\u001b[0minsert\u001b[0m\u001b[1;33m(\u001b[0m\u001b[1;33m\n",
      "\u001b[0m    \u001b[0mloc\u001b[0m\u001b[1;33m:\u001b[0m \u001b[1;34m'int'\u001b[0m\u001b[1;33m,\u001b[0m\u001b[1;33m\n",
      "\u001b[0m    \u001b[0mcolumn\u001b[0m\u001b[1;33m:\u001b[0m \u001b[1;34m'Hashable'\u001b[0m\u001b[1;33m,\u001b[0m\u001b[1;33m\n",
      "\u001b[0m    \u001b[0mvalue\u001b[0m\u001b[1;33m:\u001b[0m \u001b[1;34m'Scalar | AnyArrayLike'\u001b[0m\u001b[1;33m,\u001b[0m\u001b[1;33m\n",
      "\u001b[0m    \u001b[0mallow_duplicates\u001b[0m\u001b[1;33m:\u001b[0m \u001b[1;34m'bool | lib.NoDefault'\u001b[0m \u001b[1;33m=\u001b[0m \u001b[1;33m<\u001b[0m\u001b[0mno_default\u001b[0m\u001b[1;33m>\u001b[0m\u001b[1;33m,\u001b[0m\u001b[1;33m\n",
      "\u001b[0m\u001b[1;33m)\u001b[0m \u001b[1;33m->\u001b[0m \u001b[1;34m'None'\u001b[0m\u001b[1;33m\u001b[0m\u001b[1;33m\u001b[0m\u001b[0m\n",
      "\u001b[1;31mDocstring:\u001b[0m\n",
      "Insert column into DataFrame at specified location.\n",
      "\n",
      "Raises a ValueError if `column` is already contained in the DataFrame,\n",
      "unless `allow_duplicates` is set to True.\n",
      "\n",
      "Parameters\n",
      "----------\n",
      "loc : int\n",
      "    Insertion index. Must verify 0 <= loc <= len(columns).\n",
      "column : str, number, or hashable object\n",
      "    Label of the inserted column.\n",
      "value : Scalar, Series, or array-like\n",
      "allow_duplicates : bool, optional, default lib.no_default\n",
      "\n",
      "See Also\n",
      "--------\n",
      "Index.insert : Insert new item by index.\n",
      "\n",
      "Examples\n",
      "--------\n",
      ">>> df = pd.DataFrame({'col1': [1, 2], 'col2': [3, 4]})\n",
      ">>> df\n",
      "   col1  col2\n",
      "0     1     3\n",
      "1     2     4\n",
      ">>> df.insert(1, \"newcol\", [99, 99])\n",
      ">>> df\n",
      "   col1  newcol  col2\n",
      "0     1      99     3\n",
      "1     2      99     4\n",
      ">>> df.insert(0, \"col1\", [100, 100], allow_duplicates=True)\n",
      ">>> df\n",
      "   col1  col1  newcol  col2\n",
      "0   100     1      99     3\n",
      "1   100     2      99     4\n",
      "\n",
      "Notice that pandas uses index alignment in case of `value` from type `Series`:\n",
      "\n",
      ">>> df.insert(0, \"col0\", pd.Series([5, 6], index=[1, 2]))\n",
      ">>> df\n",
      "   col0  col1  col1  newcol  col2\n",
      "0   NaN   100     1      99     3\n",
      "1   5.0   100     2      99     4\n",
      "\u001b[1;31mFile:\u001b[0m      c:\\users\\phili\\anaconda3\\envs\\vscode-env\\lib\\site-packages\\pandas\\core\\frame.py\n",
      "\u001b[1;31mType:\u001b[0m      method"
     ]
    }
   ],
   "source": [
    "df.insert?"
   ]
  },
  {
   "cell_type": "code",
   "execution_count": 201,
   "metadata": {},
   "outputs": [],
   "source": [
    "df.insert(loc=0, column='w', value=np.array([1.0, 2.0, 3.0, 4.0]))"
   ]
  },
  {
   "cell_type": "code",
   "execution_count": 202,
   "metadata": {},
   "outputs": [
    {
     "data": {
      "text/html": [
       "<div>\n",
       "<style scoped>\n",
       "    .dataframe tbody tr th:only-of-type {\n",
       "        vertical-align: middle;\n",
       "    }\n",
       "\n",
       "    .dataframe tbody tr th {\n",
       "        vertical-align: top;\n",
       "    }\n",
       "\n",
       "    .dataframe thead th {\n",
       "        text-align: right;\n",
       "    }\n",
       "</style>\n",
       "<table border=\"1\" class=\"dataframe\">\n",
       "  <thead>\n",
       "    <tr style=\"text-align: right;\">\n",
       "      <th></th>\n",
       "      <th>w</th>\n",
       "      <th>x</th>\n",
       "      <th>y</th>\n",
       "      <th>z</th>\n",
       "    </tr>\n",
       "  </thead>\n",
       "  <tbody>\n",
       "    <tr>\n",
       "      <th>0</th>\n",
       "      <td>1.0</td>\n",
       "      <td>1.1</td>\n",
       "      <td>1.2</td>\n",
       "      <td>1.3</td>\n",
       "    </tr>\n",
       "    <tr>\n",
       "      <th>1</th>\n",
       "      <td>2.0</td>\n",
       "      <td>2.1</td>\n",
       "      <td>2.2</td>\n",
       "      <td>2.3</td>\n",
       "    </tr>\n",
       "    <tr>\n",
       "      <th>2</th>\n",
       "      <td>3.0</td>\n",
       "      <td>3.1</td>\n",
       "      <td>3.2</td>\n",
       "      <td>3.3</td>\n",
       "    </tr>\n",
       "    <tr>\n",
       "      <th>3</th>\n",
       "      <td>4.0</td>\n",
       "      <td>4.1</td>\n",
       "      <td>4.2</td>\n",
       "      <td>4.3</td>\n",
       "    </tr>\n",
       "  </tbody>\n",
       "</table>\n",
       "</div>"
      ],
      "text/plain": [
       "     w    x    y    z\n",
       "0  1.0  1.1  1.2  1.3\n",
       "1  2.0  2.1  2.2  2.3\n",
       "2  3.0  3.1  3.2  3.3\n",
       "3  4.0  4.1  4.2  4.3"
      ]
     },
     "execution_count": 202,
     "metadata": {},
     "output_type": "execute_result"
    }
   ],
   "source": [
    "df"
   ]
  },
  {
   "attachments": {},
   "cell_type": "markdown",
   "metadata": {},
   "source": [
    "Recall to append an observation to a ```DataFrame```, ```loc``` is typically used and assigned to a mapping where the keys are the column names and the values are the associated values at that observation:"
   ]
  },
  {
   "cell_type": "code",
   "execution_count": 203,
   "metadata": {},
   "outputs": [],
   "source": [
    "df.loc[len(df)] = {'w': 5.0, 'x': 5.1, 'y': 5.2, 'z': 5.3}"
   ]
  },
  {
   "cell_type": "code",
   "execution_count": 204,
   "metadata": {},
   "outputs": [
    {
     "data": {
      "text/html": [
       "<div>\n",
       "<style scoped>\n",
       "    .dataframe tbody tr th:only-of-type {\n",
       "        vertical-align: middle;\n",
       "    }\n",
       "\n",
       "    .dataframe tbody tr th {\n",
       "        vertical-align: top;\n",
       "    }\n",
       "\n",
       "    .dataframe thead th {\n",
       "        text-align: right;\n",
       "    }\n",
       "</style>\n",
       "<table border=\"1\" class=\"dataframe\">\n",
       "  <thead>\n",
       "    <tr style=\"text-align: right;\">\n",
       "      <th></th>\n",
       "      <th>w</th>\n",
       "      <th>x</th>\n",
       "      <th>y</th>\n",
       "      <th>z</th>\n",
       "    </tr>\n",
       "  </thead>\n",
       "  <tbody>\n",
       "    <tr>\n",
       "      <th>0</th>\n",
       "      <td>1.0</td>\n",
       "      <td>1.1</td>\n",
       "      <td>1.2</td>\n",
       "      <td>1.3</td>\n",
       "    </tr>\n",
       "    <tr>\n",
       "      <th>1</th>\n",
       "      <td>2.0</td>\n",
       "      <td>2.1</td>\n",
       "      <td>2.2</td>\n",
       "      <td>2.3</td>\n",
       "    </tr>\n",
       "    <tr>\n",
       "      <th>2</th>\n",
       "      <td>3.0</td>\n",
       "      <td>3.1</td>\n",
       "      <td>3.2</td>\n",
       "      <td>3.3</td>\n",
       "    </tr>\n",
       "    <tr>\n",
       "      <th>3</th>\n",
       "      <td>4.0</td>\n",
       "      <td>4.1</td>\n",
       "      <td>4.2</td>\n",
       "      <td>4.3</td>\n",
       "    </tr>\n",
       "    <tr>\n",
       "      <th>4</th>\n",
       "      <td>5.0</td>\n",
       "      <td>5.1</td>\n",
       "      <td>5.2</td>\n",
       "      <td>5.3</td>\n",
       "    </tr>\n",
       "  </tbody>\n",
       "</table>\n",
       "</div>"
      ],
      "text/plain": [
       "     w    x    y    z\n",
       "0  1.0  1.1  1.2  1.3\n",
       "1  2.0  2.1  2.2  2.3\n",
       "2  3.0  3.1  3.2  3.3\n",
       "3  4.0  4.1  4.2  4.3\n",
       "4  5.0  5.1  5.2  5.3"
      ]
     },
     "execution_count": 204,
     "metadata": {},
     "output_type": "execute_result"
    }
   ],
   "source": [
    "df"
   ]
  },
  {
   "attachments": {},
   "cell_type": "markdown",
   "metadata": {},
   "source": [
    "When multiple observations are to be appended to a ```DataFrame``` they are normally in the form of a ```DataFrame```:"
   ]
  },
  {
   "cell_type": "code",
   "execution_count": 205,
   "metadata": {},
   "outputs": [],
   "source": [
    "df2 = pd.DataFrame(index=np.array([5, 6]),\n",
    "                                  data = {'w': np.array([6.0, 7.0]),\n",
    "                                          'x': np.array([6.1, 7.1]),\n",
    "                                          'y': np.array([6.2, 7.2]),\n",
    "                                          'z': np.array([6.3, 7.3])})"
   ]
  },
  {
   "cell_type": "code",
   "execution_count": 206,
   "metadata": {},
   "outputs": [
    {
     "data": {
      "text/html": [
       "<div>\n",
       "<style scoped>\n",
       "    .dataframe tbody tr th:only-of-type {\n",
       "        vertical-align: middle;\n",
       "    }\n",
       "\n",
       "    .dataframe tbody tr th {\n",
       "        vertical-align: top;\n",
       "    }\n",
       "\n",
       "    .dataframe thead th {\n",
       "        text-align: right;\n",
       "    }\n",
       "</style>\n",
       "<table border=\"1\" class=\"dataframe\">\n",
       "  <thead>\n",
       "    <tr style=\"text-align: right;\">\n",
       "      <th></th>\n",
       "      <th>w</th>\n",
       "      <th>x</th>\n",
       "      <th>y</th>\n",
       "      <th>z</th>\n",
       "    </tr>\n",
       "  </thead>\n",
       "  <tbody>\n",
       "    <tr>\n",
       "      <th>0</th>\n",
       "      <td>1.0</td>\n",
       "      <td>1.1</td>\n",
       "      <td>1.2</td>\n",
       "      <td>1.3</td>\n",
       "    </tr>\n",
       "    <tr>\n",
       "      <th>1</th>\n",
       "      <td>2.0</td>\n",
       "      <td>2.1</td>\n",
       "      <td>2.2</td>\n",
       "      <td>2.3</td>\n",
       "    </tr>\n",
       "    <tr>\n",
       "      <th>2</th>\n",
       "      <td>3.0</td>\n",
       "      <td>3.1</td>\n",
       "      <td>3.2</td>\n",
       "      <td>3.3</td>\n",
       "    </tr>\n",
       "    <tr>\n",
       "      <th>3</th>\n",
       "      <td>4.0</td>\n",
       "      <td>4.1</td>\n",
       "      <td>4.2</td>\n",
       "      <td>4.3</td>\n",
       "    </tr>\n",
       "    <tr>\n",
       "      <th>4</th>\n",
       "      <td>5.0</td>\n",
       "      <td>5.1</td>\n",
       "      <td>5.2</td>\n",
       "      <td>5.3</td>\n",
       "    </tr>\n",
       "  </tbody>\n",
       "</table>\n",
       "</div>"
      ],
      "text/plain": [
       "     w    x    y    z\n",
       "0  1.0  1.1  1.2  1.3\n",
       "1  2.0  2.1  2.2  2.3\n",
       "2  3.0  3.1  3.2  3.3\n",
       "3  4.0  4.1  4.2  4.3\n",
       "4  5.0  5.1  5.2  5.3"
      ]
     },
     "execution_count": 206,
     "metadata": {},
     "output_type": "execute_result"
    }
   ],
   "source": [
    "df"
   ]
  },
  {
   "cell_type": "code",
   "execution_count": 207,
   "metadata": {},
   "outputs": [
    {
     "data": {
      "text/html": [
       "<div>\n",
       "<style scoped>\n",
       "    .dataframe tbody tr th:only-of-type {\n",
       "        vertical-align: middle;\n",
       "    }\n",
       "\n",
       "    .dataframe tbody tr th {\n",
       "        vertical-align: top;\n",
       "    }\n",
       "\n",
       "    .dataframe thead th {\n",
       "        text-align: right;\n",
       "    }\n",
       "</style>\n",
       "<table border=\"1\" class=\"dataframe\">\n",
       "  <thead>\n",
       "    <tr style=\"text-align: right;\">\n",
       "      <th></th>\n",
       "      <th>w</th>\n",
       "      <th>x</th>\n",
       "      <th>y</th>\n",
       "      <th>z</th>\n",
       "    </tr>\n",
       "  </thead>\n",
       "  <tbody>\n",
       "    <tr>\n",
       "      <th>5</th>\n",
       "      <td>6.0</td>\n",
       "      <td>6.1</td>\n",
       "      <td>6.2</td>\n",
       "      <td>6.3</td>\n",
       "    </tr>\n",
       "    <tr>\n",
       "      <th>6</th>\n",
       "      <td>7.0</td>\n",
       "      <td>7.1</td>\n",
       "      <td>7.2</td>\n",
       "      <td>7.3</td>\n",
       "    </tr>\n",
       "  </tbody>\n",
       "</table>\n",
       "</div>"
      ],
      "text/plain": [
       "     w    x    y    z\n",
       "5  6.0  6.1  6.2  6.3\n",
       "6  7.0  7.1  7.2  7.3"
      ]
     },
     "execution_count": 207,
     "metadata": {},
     "output_type": "execute_result"
    }
   ],
   "source": [
    "df2"
   ]
  },
  {
   "attachments": {},
   "cell_type": "markdown",
   "metadata": {},
   "source": [
    "The function ```pd.concat``` can be used to concatenate these two ```DataFrame``` instances:"
   ]
  },
  {
   "cell_type": "code",
   "execution_count": 208,
   "metadata": {},
   "outputs": [
    {
     "name": "stdout",
     "output_type": "stream",
     "text": [
      "\u001b[1;31mSignature:\u001b[0m\n",
      "\u001b[0mpd\u001b[0m\u001b[1;33m.\u001b[0m\u001b[0mconcat\u001b[0m\u001b[1;33m(\u001b[0m\u001b[1;33m\n",
      "\u001b[0m    \u001b[0mobjs\u001b[0m\u001b[1;33m:\u001b[0m \u001b[1;34m'Iterable[Series | DataFrame] | Mapping[HashableT, Series | DataFrame]'\u001b[0m\u001b[1;33m,\u001b[0m\u001b[1;33m\n",
      "\u001b[0m    \u001b[1;33m*\u001b[0m\u001b[1;33m,\u001b[0m\u001b[1;33m\n",
      "\u001b[0m    \u001b[0maxis\u001b[0m\u001b[1;33m:\u001b[0m \u001b[1;34m'Axis'\u001b[0m \u001b[1;33m=\u001b[0m \u001b[1;36m0\u001b[0m\u001b[1;33m,\u001b[0m\u001b[1;33m\n",
      "\u001b[0m    \u001b[0mjoin\u001b[0m\u001b[1;33m:\u001b[0m \u001b[1;34m'str'\u001b[0m \u001b[1;33m=\u001b[0m \u001b[1;34m'outer'\u001b[0m\u001b[1;33m,\u001b[0m\u001b[1;33m\n",
      "\u001b[0m    \u001b[0mignore_index\u001b[0m\u001b[1;33m:\u001b[0m \u001b[1;34m'bool'\u001b[0m \u001b[1;33m=\u001b[0m \u001b[1;32mFalse\u001b[0m\u001b[1;33m,\u001b[0m\u001b[1;33m\n",
      "\u001b[0m    \u001b[0mkeys\u001b[0m\u001b[1;33m=\u001b[0m\u001b[1;32mNone\u001b[0m\u001b[1;33m,\u001b[0m\u001b[1;33m\n",
      "\u001b[0m    \u001b[0mlevels\u001b[0m\u001b[1;33m=\u001b[0m\u001b[1;32mNone\u001b[0m\u001b[1;33m,\u001b[0m\u001b[1;33m\n",
      "\u001b[0m    \u001b[0mnames\u001b[0m\u001b[1;33m:\u001b[0m \u001b[1;34m'list[HashableT] | None'\u001b[0m \u001b[1;33m=\u001b[0m \u001b[1;32mNone\u001b[0m\u001b[1;33m,\u001b[0m\u001b[1;33m\n",
      "\u001b[0m    \u001b[0mverify_integrity\u001b[0m\u001b[1;33m:\u001b[0m \u001b[1;34m'bool'\u001b[0m \u001b[1;33m=\u001b[0m \u001b[1;32mFalse\u001b[0m\u001b[1;33m,\u001b[0m\u001b[1;33m\n",
      "\u001b[0m    \u001b[0msort\u001b[0m\u001b[1;33m:\u001b[0m \u001b[1;34m'bool'\u001b[0m \u001b[1;33m=\u001b[0m \u001b[1;32mFalse\u001b[0m\u001b[1;33m,\u001b[0m\u001b[1;33m\n",
      "\u001b[0m    \u001b[0mcopy\u001b[0m\u001b[1;33m:\u001b[0m \u001b[1;34m'bool | None'\u001b[0m \u001b[1;33m=\u001b[0m \u001b[1;32mNone\u001b[0m\u001b[1;33m,\u001b[0m\u001b[1;33m\n",
      "\u001b[0m\u001b[1;33m)\u001b[0m \u001b[1;33m->\u001b[0m \u001b[1;34m'DataFrame | Series'\u001b[0m\u001b[1;33m\u001b[0m\u001b[1;33m\u001b[0m\u001b[0m\n",
      "\u001b[1;31mDocstring:\u001b[0m\n",
      "Concatenate pandas objects along a particular axis.\n",
      "\n",
      "Allows optional set logic along the other axes.\n",
      "\n",
      "Can also add a layer of hierarchical indexing on the concatenation axis,\n",
      "which may be useful if the labels are the same (or overlapping) on\n",
      "the passed axis number.\n",
      "\n",
      "Parameters\n",
      "----------\n",
      "objs : a sequence or mapping of Series or DataFrame objects\n",
      "    If a mapping is passed, the sorted keys will be used as the `keys`\n",
      "    argument, unless it is passed, in which case the values will be\n",
      "    selected (see below). Any None objects will be dropped silently unless\n",
      "    they are all None in which case a ValueError will be raised.\n",
      "axis : {0/'index', 1/'columns'}, default 0\n",
      "    The axis to concatenate along.\n",
      "join : {'inner', 'outer'}, default 'outer'\n",
      "    How to handle indexes on other axis (or axes).\n",
      "ignore_index : bool, default False\n",
      "    If True, do not use the index values along the concatenation axis. The\n",
      "    resulting axis will be labeled 0, ..., n - 1. This is useful if you are\n",
      "    concatenating objects where the concatenation axis does not have\n",
      "    meaningful indexing information. Note the index values on the other\n",
      "    axes are still respected in the join.\n",
      "keys : sequence, default None\n",
      "    If multiple levels passed, should contain tuples. Construct\n",
      "    hierarchical index using the passed keys as the outermost level.\n",
      "levels : list of sequences, default None\n",
      "    Specific levels (unique values) to use for constructing a\n",
      "    MultiIndex. Otherwise they will be inferred from the keys.\n",
      "names : list, default None\n",
      "    Names for the levels in the resulting hierarchical index.\n",
      "verify_integrity : bool, default False\n",
      "    Check whether the new concatenated axis contains duplicates. This can\n",
      "    be very expensive relative to the actual data concatenation.\n",
      "sort : bool, default False\n",
      "    Sort non-concatenation axis if it is not already aligned.\n",
      "\n",
      "copy : bool, default True\n",
      "    If False, do not copy data unnecessarily.\n",
      "\n",
      "Returns\n",
      "-------\n",
      "object, type of objs\n",
      "    When concatenating all ``Series`` along the index (axis=0), a\n",
      "    ``Series`` is returned. When ``objs`` contains at least one\n",
      "    ``DataFrame``, a ``DataFrame`` is returned. When concatenating along\n",
      "    the columns (axis=1), a ``DataFrame`` is returned.\n",
      "\n",
      "See Also\n",
      "--------\n",
      "DataFrame.join : Join DataFrames using indexes.\n",
      "DataFrame.merge : Merge DataFrames by indexes or columns.\n",
      "\n",
      "Notes\n",
      "-----\n",
      "The keys, levels, and names arguments are all optional.\n",
      "\n",
      "A walkthrough of how this method fits in with other tools for combining\n",
      "pandas objects can be found `here\n",
      "<https://pandas.pydata.org/pandas-docs/stable/user_guide/merging.html>`__.\n",
      "\n",
      "It is not recommended to build DataFrames by adding single rows in a\n",
      "for loop. Build a list of rows and make a DataFrame in a single concat.\n",
      "\n",
      "Examples\n",
      "--------\n",
      "Combine two ``Series``.\n",
      "\n",
      ">>> s1 = pd.Series(['a', 'b'])\n",
      ">>> s2 = pd.Series(['c', 'd'])\n",
      ">>> pd.concat([s1, s2])\n",
      "0    a\n",
      "1    b\n",
      "0    c\n",
      "1    d\n",
      "dtype: object\n",
      "\n",
      "Clear the existing index and reset it in the result\n",
      "by setting the ``ignore_index`` option to ``True``.\n",
      "\n",
      ">>> pd.concat([s1, s2], ignore_index=True)\n",
      "0    a\n",
      "1    b\n",
      "2    c\n",
      "3    d\n",
      "dtype: object\n",
      "\n",
      "Add a hierarchical index at the outermost level of\n",
      "the data with the ``keys`` option.\n",
      "\n",
      ">>> pd.concat([s1, s2], keys=['s1', 's2'])\n",
      "s1  0    a\n",
      "    1    b\n",
      "s2  0    c\n",
      "    1    d\n",
      "dtype: object\n",
      "\n",
      "Label the index keys you create with the ``names`` option.\n",
      "\n",
      ">>> pd.concat([s1, s2], keys=['s1', 's2'],\n",
      "...           names=['Series name', 'Row ID'])\n",
      "Series name  Row ID\n",
      "s1           0         a\n",
      "             1         b\n",
      "s2           0         c\n",
      "             1         d\n",
      "dtype: object\n",
      "\n",
      "Combine two ``DataFrame`` objects with identical columns.\n",
      "\n",
      ">>> df1 = pd.DataFrame([['a', 1], ['b', 2]],\n",
      "...                    columns=['letter', 'number'])\n",
      ">>> df1\n",
      "  letter  number\n",
      "0      a       1\n",
      "1      b       2\n",
      ">>> df2 = pd.DataFrame([['c', 3], ['d', 4]],\n",
      "...                    columns=['letter', 'number'])\n",
      ">>> df2\n",
      "  letter  number\n",
      "0      c       3\n",
      "1      d       4\n",
      ">>> pd.concat([df1, df2])\n",
      "  letter  number\n",
      "0      a       1\n",
      "1      b       2\n",
      "0      c       3\n",
      "1      d       4\n",
      "\n",
      "Combine ``DataFrame`` objects with overlapping columns\n",
      "and return everything. Columns outside the intersection will\n",
      "be filled with ``NaN`` values.\n",
      "\n",
      ">>> df3 = pd.DataFrame([['c', 3, 'cat'], ['d', 4, 'dog']],\n",
      "...                    columns=['letter', 'number', 'animal'])\n",
      ">>> df3\n",
      "  letter  number animal\n",
      "0      c       3    cat\n",
      "1      d       4    dog\n",
      ">>> pd.concat([df1, df3], sort=False)\n",
      "  letter  number animal\n",
      "0      a       1    NaN\n",
      "1      b       2    NaN\n",
      "0      c       3    cat\n",
      "1      d       4    dog\n",
      "\n",
      "Combine ``DataFrame`` objects with overlapping columns\n",
      "and return only those that are shared by passing ``inner`` to\n",
      "the ``join`` keyword argument.\n",
      "\n",
      ">>> pd.concat([df1, df3], join=\"inner\")\n",
      "  letter  number\n",
      "0      a       1\n",
      "1      b       2\n",
      "0      c       3\n",
      "1      d       4\n",
      "\n",
      "Combine ``DataFrame`` objects horizontally along the x axis by\n",
      "passing in ``axis=1``.\n",
      "\n",
      ">>> df4 = pd.DataFrame([['bird', 'polly'], ['monkey', 'george']],\n",
      "...                    columns=['animal', 'name'])\n",
      ">>> pd.concat([df1, df4], axis=1)\n",
      "  letter  number  animal    name\n",
      "0      a       1    bird   polly\n",
      "1      b       2  monkey  george\n",
      "\n",
      "Prevent the result from including duplicate index values with the\n",
      "``verify_integrity`` option.\n",
      "\n",
      ">>> df5 = pd.DataFrame([1], index=['a'])\n",
      ">>> df5\n",
      "   0\n",
      "a  1\n",
      ">>> df6 = pd.DataFrame([2], index=['a'])\n",
      ">>> df6\n",
      "   0\n",
      "a  2\n",
      ">>> pd.concat([df5, df6], verify_integrity=True)\n",
      "Traceback (most recent call last):\n",
      "    ...\n",
      "ValueError: Indexes have overlapping values: ['a']\n",
      "\n",
      "Append a single row to the end of a ``DataFrame`` object.\n",
      "\n",
      ">>> df7 = pd.DataFrame({'a': 1, 'b': 2}, index=[0])\n",
      ">>> df7\n",
      "    a   b\n",
      "0   1   2\n",
      ">>> new_row = pd.Series({'a': 3, 'b': 4})\n",
      ">>> new_row\n",
      "a    3\n",
      "b    4\n",
      "dtype: int64\n",
      ">>> pd.concat([df7, new_row.to_frame().T], ignore_index=True)\n",
      "    a   b\n",
      "0   1   2\n",
      "1   3   4\n",
      "\u001b[1;31mFile:\u001b[0m      c:\\users\\phili\\anaconda3\\envs\\vscode-env\\lib\\site-packages\\pandas\\core\\reshape\\concat.py\n",
      "\u001b[1;31mType:\u001b[0m      function"
     ]
    }
   ],
   "source": [
    "pd.concat?"
   ]
  },
  {
   "attachments": {},
   "cell_type": "markdown",
   "metadata": {},
   "source": [
    "For example, ```df``` and ```df2``` can be concatenated along ```axis``` ```0``` which recall is ```'rows'``` (the index):"
   ]
  },
  {
   "cell_type": "code",
   "execution_count": 209,
   "metadata": {},
   "outputs": [
    {
     "data": {
      "text/html": [
       "<div>\n",
       "<style scoped>\n",
       "    .dataframe tbody tr th:only-of-type {\n",
       "        vertical-align: middle;\n",
       "    }\n",
       "\n",
       "    .dataframe tbody tr th {\n",
       "        vertical-align: top;\n",
       "    }\n",
       "\n",
       "    .dataframe thead th {\n",
       "        text-align: right;\n",
       "    }\n",
       "</style>\n",
       "<table border=\"1\" class=\"dataframe\">\n",
       "  <thead>\n",
       "    <tr style=\"text-align: right;\">\n",
       "      <th></th>\n",
       "      <th>w</th>\n",
       "      <th>x</th>\n",
       "      <th>y</th>\n",
       "      <th>z</th>\n",
       "    </tr>\n",
       "  </thead>\n",
       "  <tbody>\n",
       "    <tr>\n",
       "      <th>0</th>\n",
       "      <td>1.0</td>\n",
       "      <td>1.1</td>\n",
       "      <td>1.2</td>\n",
       "      <td>1.3</td>\n",
       "    </tr>\n",
       "    <tr>\n",
       "      <th>1</th>\n",
       "      <td>2.0</td>\n",
       "      <td>2.1</td>\n",
       "      <td>2.2</td>\n",
       "      <td>2.3</td>\n",
       "    </tr>\n",
       "    <tr>\n",
       "      <th>2</th>\n",
       "      <td>3.0</td>\n",
       "      <td>3.1</td>\n",
       "      <td>3.2</td>\n",
       "      <td>3.3</td>\n",
       "    </tr>\n",
       "    <tr>\n",
       "      <th>3</th>\n",
       "      <td>4.0</td>\n",
       "      <td>4.1</td>\n",
       "      <td>4.2</td>\n",
       "      <td>4.3</td>\n",
       "    </tr>\n",
       "    <tr>\n",
       "      <th>4</th>\n",
       "      <td>5.0</td>\n",
       "      <td>5.1</td>\n",
       "      <td>5.2</td>\n",
       "      <td>5.3</td>\n",
       "    </tr>\n",
       "    <tr>\n",
       "      <th>5</th>\n",
       "      <td>6.0</td>\n",
       "      <td>6.1</td>\n",
       "      <td>6.2</td>\n",
       "      <td>6.3</td>\n",
       "    </tr>\n",
       "    <tr>\n",
       "      <th>6</th>\n",
       "      <td>7.0</td>\n",
       "      <td>7.1</td>\n",
       "      <td>7.2</td>\n",
       "      <td>7.3</td>\n",
       "    </tr>\n",
       "  </tbody>\n",
       "</table>\n",
       "</div>"
      ],
      "text/plain": [
       "     w    x    y    z\n",
       "0  1.0  1.1  1.2  1.3\n",
       "1  2.0  2.1  2.2  2.3\n",
       "2  3.0  3.1  3.2  3.3\n",
       "3  4.0  4.1  4.2  4.3\n",
       "4  5.0  5.1  5.2  5.3\n",
       "5  6.0  6.1  6.2  6.3\n",
       "6  7.0  7.1  7.2  7.3"
      ]
     },
     "execution_count": 209,
     "metadata": {},
     "output_type": "execute_result"
    }
   ],
   "source": [
    "pd.concat(objs=[df, df2], axis='rows') #'index'"
   ]
  },
  {
   "attachments": {},
   "cell_type": "markdown",
   "metadata": {},
   "source": [
    "If these ```DataFrame``` instances are created with the default indexes:"
   ]
  },
  {
   "cell_type": "code",
   "execution_count": 210,
   "metadata": {},
   "outputs": [
    {
     "data": {
      "text/html": [
       "<div>\n",
       "<style scoped>\n",
       "    .dataframe tbody tr th:only-of-type {\n",
       "        vertical-align: middle;\n",
       "    }\n",
       "\n",
       "    .dataframe tbody tr th {\n",
       "        vertical-align: top;\n",
       "    }\n",
       "\n",
       "    .dataframe thead th {\n",
       "        text-align: right;\n",
       "    }\n",
       "</style>\n",
       "<table border=\"1\" class=\"dataframe\">\n",
       "  <thead>\n",
       "    <tr style=\"text-align: right;\">\n",
       "      <th></th>\n",
       "      <th>w</th>\n",
       "      <th>x</th>\n",
       "      <th>y</th>\n",
       "      <th>z</th>\n",
       "    </tr>\n",
       "  </thead>\n",
       "  <tbody>\n",
       "    <tr>\n",
       "      <th>0</th>\n",
       "      <td>1.0</td>\n",
       "      <td>1.1</td>\n",
       "      <td>1.2</td>\n",
       "      <td>1.3</td>\n",
       "    </tr>\n",
       "    <tr>\n",
       "      <th>1</th>\n",
       "      <td>2.0</td>\n",
       "      <td>2.1</td>\n",
       "      <td>2.2</td>\n",
       "      <td>2.3</td>\n",
       "    </tr>\n",
       "    <tr>\n",
       "      <th>2</th>\n",
       "      <td>3.0</td>\n",
       "      <td>3.1</td>\n",
       "      <td>3.2</td>\n",
       "      <td>3.3</td>\n",
       "    </tr>\n",
       "    <tr>\n",
       "      <th>3</th>\n",
       "      <td>4.0</td>\n",
       "      <td>4.1</td>\n",
       "      <td>4.2</td>\n",
       "      <td>4.3</td>\n",
       "    </tr>\n",
       "    <tr>\n",
       "      <th>4</th>\n",
       "      <td>5.0</td>\n",
       "      <td>5.1</td>\n",
       "      <td>5.2</td>\n",
       "      <td>5.3</td>\n",
       "    </tr>\n",
       "  </tbody>\n",
       "</table>\n",
       "</div>"
      ],
      "text/plain": [
       "     w    x    y    z\n",
       "0  1.0  1.1  1.2  1.3\n",
       "1  2.0  2.1  2.2  2.3\n",
       "2  3.0  3.1  3.2  3.3\n",
       "3  4.0  4.1  4.2  4.3\n",
       "4  5.0  5.1  5.2  5.3"
      ]
     },
     "execution_count": 210,
     "metadata": {},
     "output_type": "execute_result"
    }
   ],
   "source": [
    "df.reset_index(drop=True, inplace=True)\n",
    "df"
   ]
  },
  {
   "cell_type": "code",
   "execution_count": 211,
   "metadata": {},
   "outputs": [
    {
     "data": {
      "text/html": [
       "<div>\n",
       "<style scoped>\n",
       "    .dataframe tbody tr th:only-of-type {\n",
       "        vertical-align: middle;\n",
       "    }\n",
       "\n",
       "    .dataframe tbody tr th {\n",
       "        vertical-align: top;\n",
       "    }\n",
       "\n",
       "    .dataframe thead th {\n",
       "        text-align: right;\n",
       "    }\n",
       "</style>\n",
       "<table border=\"1\" class=\"dataframe\">\n",
       "  <thead>\n",
       "    <tr style=\"text-align: right;\">\n",
       "      <th></th>\n",
       "      <th>w</th>\n",
       "      <th>x</th>\n",
       "      <th>y</th>\n",
       "      <th>z</th>\n",
       "    </tr>\n",
       "  </thead>\n",
       "  <tbody>\n",
       "    <tr>\n",
       "      <th>0</th>\n",
       "      <td>6.0</td>\n",
       "      <td>6.1</td>\n",
       "      <td>6.2</td>\n",
       "      <td>6.3</td>\n",
       "    </tr>\n",
       "    <tr>\n",
       "      <th>1</th>\n",
       "      <td>7.0</td>\n",
       "      <td>7.1</td>\n",
       "      <td>7.2</td>\n",
       "      <td>7.3</td>\n",
       "    </tr>\n",
       "  </tbody>\n",
       "</table>\n",
       "</div>"
      ],
      "text/plain": [
       "     w    x    y    z\n",
       "0  6.0  6.1  6.2  6.3\n",
       "1  7.0  7.1  7.2  7.3"
      ]
     },
     "execution_count": 211,
     "metadata": {},
     "output_type": "execute_result"
    }
   ],
   "source": [
    "df2.reset_index(drop=True, inplace=True)\n",
    "df2"
   ]
  },
  {
   "attachments": {},
   "cell_type": "markdown",
   "metadata": {},
   "source": [
    "Notice the index now has duplicate entires:"
   ]
  },
  {
   "cell_type": "code",
   "execution_count": 212,
   "metadata": {},
   "outputs": [
    {
     "data": {
      "text/html": [
       "<div>\n",
       "<style scoped>\n",
       "    .dataframe tbody tr th:only-of-type {\n",
       "        vertical-align: middle;\n",
       "    }\n",
       "\n",
       "    .dataframe tbody tr th {\n",
       "        vertical-align: top;\n",
       "    }\n",
       "\n",
       "    .dataframe thead th {\n",
       "        text-align: right;\n",
       "    }\n",
       "</style>\n",
       "<table border=\"1\" class=\"dataframe\">\n",
       "  <thead>\n",
       "    <tr style=\"text-align: right;\">\n",
       "      <th></th>\n",
       "      <th>w</th>\n",
       "      <th>x</th>\n",
       "      <th>y</th>\n",
       "      <th>z</th>\n",
       "    </tr>\n",
       "  </thead>\n",
       "  <tbody>\n",
       "    <tr>\n",
       "      <th>0</th>\n",
       "      <td>1.0</td>\n",
       "      <td>1.1</td>\n",
       "      <td>1.2</td>\n",
       "      <td>1.3</td>\n",
       "    </tr>\n",
       "    <tr>\n",
       "      <th>1</th>\n",
       "      <td>2.0</td>\n",
       "      <td>2.1</td>\n",
       "      <td>2.2</td>\n",
       "      <td>2.3</td>\n",
       "    </tr>\n",
       "    <tr>\n",
       "      <th>2</th>\n",
       "      <td>3.0</td>\n",
       "      <td>3.1</td>\n",
       "      <td>3.2</td>\n",
       "      <td>3.3</td>\n",
       "    </tr>\n",
       "    <tr>\n",
       "      <th>3</th>\n",
       "      <td>4.0</td>\n",
       "      <td>4.1</td>\n",
       "      <td>4.2</td>\n",
       "      <td>4.3</td>\n",
       "    </tr>\n",
       "    <tr>\n",
       "      <th>4</th>\n",
       "      <td>5.0</td>\n",
       "      <td>5.1</td>\n",
       "      <td>5.2</td>\n",
       "      <td>5.3</td>\n",
       "    </tr>\n",
       "    <tr>\n",
       "      <th>0</th>\n",
       "      <td>6.0</td>\n",
       "      <td>6.1</td>\n",
       "      <td>6.2</td>\n",
       "      <td>6.3</td>\n",
       "    </tr>\n",
       "    <tr>\n",
       "      <th>1</th>\n",
       "      <td>7.0</td>\n",
       "      <td>7.1</td>\n",
       "      <td>7.2</td>\n",
       "      <td>7.3</td>\n",
       "    </tr>\n",
       "  </tbody>\n",
       "</table>\n",
       "</div>"
      ],
      "text/plain": [
       "     w    x    y    z\n",
       "0  1.0  1.1  1.2  1.3\n",
       "1  2.0  2.1  2.2  2.3\n",
       "2  3.0  3.1  3.2  3.3\n",
       "3  4.0  4.1  4.2  4.3\n",
       "4  5.0  5.1  5.2  5.3\n",
       "0  6.0  6.1  6.2  6.3\n",
       "1  7.0  7.1  7.2  7.3"
      ]
     },
     "execution_count": 212,
     "metadata": {},
     "output_type": "execute_result"
    }
   ],
   "source": [
    "pd.concat(objs=[df, df2])"
   ]
  },
  {
   "attachments": {},
   "cell_type": "markdown",
   "metadata": {},
   "source": [
    "In such a scenario it is common to assign ```ignore_index``` to ```True``` which will recreate a numeric ```RangeIndex```:"
   ]
  },
  {
   "cell_type": "code",
   "execution_count": 213,
   "metadata": {},
   "outputs": [
    {
     "data": {
      "text/html": [
       "<div>\n",
       "<style scoped>\n",
       "    .dataframe tbody tr th:only-of-type {\n",
       "        vertical-align: middle;\n",
       "    }\n",
       "\n",
       "    .dataframe tbody tr th {\n",
       "        vertical-align: top;\n",
       "    }\n",
       "\n",
       "    .dataframe thead th {\n",
       "        text-align: right;\n",
       "    }\n",
       "</style>\n",
       "<table border=\"1\" class=\"dataframe\">\n",
       "  <thead>\n",
       "    <tr style=\"text-align: right;\">\n",
       "      <th></th>\n",
       "      <th>w</th>\n",
       "      <th>x</th>\n",
       "      <th>y</th>\n",
       "      <th>z</th>\n",
       "    </tr>\n",
       "  </thead>\n",
       "  <tbody>\n",
       "    <tr>\n",
       "      <th>0</th>\n",
       "      <td>1.0</td>\n",
       "      <td>1.1</td>\n",
       "      <td>1.2</td>\n",
       "      <td>1.3</td>\n",
       "    </tr>\n",
       "    <tr>\n",
       "      <th>1</th>\n",
       "      <td>2.0</td>\n",
       "      <td>2.1</td>\n",
       "      <td>2.2</td>\n",
       "      <td>2.3</td>\n",
       "    </tr>\n",
       "    <tr>\n",
       "      <th>2</th>\n",
       "      <td>3.0</td>\n",
       "      <td>3.1</td>\n",
       "      <td>3.2</td>\n",
       "      <td>3.3</td>\n",
       "    </tr>\n",
       "    <tr>\n",
       "      <th>3</th>\n",
       "      <td>4.0</td>\n",
       "      <td>4.1</td>\n",
       "      <td>4.2</td>\n",
       "      <td>4.3</td>\n",
       "    </tr>\n",
       "    <tr>\n",
       "      <th>4</th>\n",
       "      <td>5.0</td>\n",
       "      <td>5.1</td>\n",
       "      <td>5.2</td>\n",
       "      <td>5.3</td>\n",
       "    </tr>\n",
       "    <tr>\n",
       "      <th>5</th>\n",
       "      <td>6.0</td>\n",
       "      <td>6.1</td>\n",
       "      <td>6.2</td>\n",
       "      <td>6.3</td>\n",
       "    </tr>\n",
       "    <tr>\n",
       "      <th>6</th>\n",
       "      <td>7.0</td>\n",
       "      <td>7.1</td>\n",
       "      <td>7.2</td>\n",
       "      <td>7.3</td>\n",
       "    </tr>\n",
       "  </tbody>\n",
       "</table>\n",
       "</div>"
      ],
      "text/plain": [
       "     w    x    y    z\n",
       "0  1.0  1.1  1.2  1.3\n",
       "1  2.0  2.1  2.2  2.3\n",
       "2  3.0  3.1  3.2  3.3\n",
       "3  4.0  4.1  4.2  4.3\n",
       "4  5.0  5.1  5.2  5.3\n",
       "5  6.0  6.1  6.2  6.3\n",
       "6  7.0  7.1  7.2  7.3"
      ]
     },
     "execution_count": 213,
     "metadata": {},
     "output_type": "execute_result"
    }
   ],
   "source": [
    "pd.concat([df, df2], ignore_index=True)"
   ]
  },
  {
   "attachments": {},
   "cell_type": "markdown",
   "metadata": {},
   "source": [
    "When a ```DataFrame``` instance has a ```Series``` not in common with the second ```DataFrame``` instance being concatenated:"
   ]
  },
  {
   "cell_type": "code",
   "execution_count": 214,
   "metadata": {},
   "outputs": [],
   "source": [
    "df = pd.DataFrame(data={'x': np.array([1.1, 2.1, 3.1, 4.1]),\n",
    "                        'y': np.array([1.2, 2.2, 3.2, 4.2])})"
   ]
  },
  {
   "cell_type": "code",
   "execution_count": 215,
   "metadata": {},
   "outputs": [],
   "source": [
    "df2 = pd.DataFrame(data = {'w': np.array([6.0, 7.0]),\n",
    "                           'z': np.array([6.3, 7.3])})"
   ]
  },
  {
   "cell_type": "code",
   "execution_count": 216,
   "metadata": {},
   "outputs": [
    {
     "data": {
      "text/html": [
       "<div>\n",
       "<style scoped>\n",
       "    .dataframe tbody tr th:only-of-type {\n",
       "        vertical-align: middle;\n",
       "    }\n",
       "\n",
       "    .dataframe tbody tr th {\n",
       "        vertical-align: top;\n",
       "    }\n",
       "\n",
       "    .dataframe thead th {\n",
       "        text-align: right;\n",
       "    }\n",
       "</style>\n",
       "<table border=\"1\" class=\"dataframe\">\n",
       "  <thead>\n",
       "    <tr style=\"text-align: right;\">\n",
       "      <th></th>\n",
       "      <th>x</th>\n",
       "      <th>y</th>\n",
       "    </tr>\n",
       "  </thead>\n",
       "  <tbody>\n",
       "    <tr>\n",
       "      <th>0</th>\n",
       "      <td>1.1</td>\n",
       "      <td>1.2</td>\n",
       "    </tr>\n",
       "    <tr>\n",
       "      <th>1</th>\n",
       "      <td>2.1</td>\n",
       "      <td>2.2</td>\n",
       "    </tr>\n",
       "    <tr>\n",
       "      <th>2</th>\n",
       "      <td>3.1</td>\n",
       "      <td>3.2</td>\n",
       "    </tr>\n",
       "    <tr>\n",
       "      <th>3</th>\n",
       "      <td>4.1</td>\n",
       "      <td>4.2</td>\n",
       "    </tr>\n",
       "  </tbody>\n",
       "</table>\n",
       "</div>"
      ],
      "text/plain": [
       "     x    y\n",
       "0  1.1  1.2\n",
       "1  2.1  2.2\n",
       "2  3.1  3.2\n",
       "3  4.1  4.2"
      ]
     },
     "execution_count": 216,
     "metadata": {},
     "output_type": "execute_result"
    }
   ],
   "source": [
    "df"
   ]
  },
  {
   "cell_type": "code",
   "execution_count": 217,
   "metadata": {},
   "outputs": [
    {
     "data": {
      "text/html": [
       "<div>\n",
       "<style scoped>\n",
       "    .dataframe tbody tr th:only-of-type {\n",
       "        vertical-align: middle;\n",
       "    }\n",
       "\n",
       "    .dataframe tbody tr th {\n",
       "        vertical-align: top;\n",
       "    }\n",
       "\n",
       "    .dataframe thead th {\n",
       "        text-align: right;\n",
       "    }\n",
       "</style>\n",
       "<table border=\"1\" class=\"dataframe\">\n",
       "  <thead>\n",
       "    <tr style=\"text-align: right;\">\n",
       "      <th></th>\n",
       "      <th>w</th>\n",
       "      <th>z</th>\n",
       "    </tr>\n",
       "  </thead>\n",
       "  <tbody>\n",
       "    <tr>\n",
       "      <th>0</th>\n",
       "      <td>6.0</td>\n",
       "      <td>6.3</td>\n",
       "    </tr>\n",
       "    <tr>\n",
       "      <th>1</th>\n",
       "      <td>7.0</td>\n",
       "      <td>7.3</td>\n",
       "    </tr>\n",
       "  </tbody>\n",
       "</table>\n",
       "</div>"
      ],
      "text/plain": [
       "     w    z\n",
       "0  6.0  6.3\n",
       "1  7.0  7.3"
      ]
     },
     "execution_count": 217,
     "metadata": {},
     "output_type": "execute_result"
    }
   ],
   "source": [
    "df2"
   ]
  },
  {
   "attachments": {},
   "cell_type": "markdown",
   "metadata": {},
   "source": [
    "The ```DataFrame``` instances can be ```'outer'``` joined (the default). This will lead to ```NaN``` values where no data was supplied:"
   ]
  },
  {
   "cell_type": "code",
   "execution_count": 218,
   "metadata": {},
   "outputs": [
    {
     "data": {
      "text/html": [
       "<div>\n",
       "<style scoped>\n",
       "    .dataframe tbody tr th:only-of-type {\n",
       "        vertical-align: middle;\n",
       "    }\n",
       "\n",
       "    .dataframe tbody tr th {\n",
       "        vertical-align: top;\n",
       "    }\n",
       "\n",
       "    .dataframe thead th {\n",
       "        text-align: right;\n",
       "    }\n",
       "</style>\n",
       "<table border=\"1\" class=\"dataframe\">\n",
       "  <thead>\n",
       "    <tr style=\"text-align: right;\">\n",
       "      <th></th>\n",
       "      <th>x</th>\n",
       "      <th>y</th>\n",
       "      <th>w</th>\n",
       "      <th>z</th>\n",
       "    </tr>\n",
       "  </thead>\n",
       "  <tbody>\n",
       "    <tr>\n",
       "      <th>0</th>\n",
       "      <td>1.1</td>\n",
       "      <td>1.2</td>\n",
       "      <td>6.0</td>\n",
       "      <td>6.3</td>\n",
       "    </tr>\n",
       "    <tr>\n",
       "      <th>1</th>\n",
       "      <td>2.1</td>\n",
       "      <td>2.2</td>\n",
       "      <td>7.0</td>\n",
       "      <td>7.3</td>\n",
       "    </tr>\n",
       "    <tr>\n",
       "      <th>2</th>\n",
       "      <td>3.1</td>\n",
       "      <td>3.2</td>\n",
       "      <td>NaN</td>\n",
       "      <td>NaN</td>\n",
       "    </tr>\n",
       "    <tr>\n",
       "      <th>3</th>\n",
       "      <td>4.1</td>\n",
       "      <td>4.2</td>\n",
       "      <td>NaN</td>\n",
       "      <td>NaN</td>\n",
       "    </tr>\n",
       "  </tbody>\n",
       "</table>\n",
       "</div>"
      ],
      "text/plain": [
       "     x    y    w    z\n",
       "0  1.1  1.2  6.0  6.3\n",
       "1  2.1  2.2  7.0  7.3\n",
       "2  3.1  3.2  NaN  NaN\n",
       "3  4.1  4.2  NaN  NaN"
      ]
     },
     "execution_count": 218,
     "metadata": {},
     "output_type": "execute_result"
    }
   ],
   "source": [
    "pd.concat(objs=[df, df2], axis='columns', join='outer') #'columns'"
   ]
  },
  {
   "attachments": {},
   "cell_type": "markdown",
   "metadata": {},
   "source": [
    "Alternatively the two ```DataFrame``` instances can be ```'inner'``` joined, which will drop the observations that are missing data:"
   ]
  },
  {
   "cell_type": "code",
   "execution_count": 219,
   "metadata": {},
   "outputs": [
    {
     "data": {
      "text/html": [
       "<div>\n",
       "<style scoped>\n",
       "    .dataframe tbody tr th:only-of-type {\n",
       "        vertical-align: middle;\n",
       "    }\n",
       "\n",
       "    .dataframe tbody tr th {\n",
       "        vertical-align: top;\n",
       "    }\n",
       "\n",
       "    .dataframe thead th {\n",
       "        text-align: right;\n",
       "    }\n",
       "</style>\n",
       "<table border=\"1\" class=\"dataframe\">\n",
       "  <thead>\n",
       "    <tr style=\"text-align: right;\">\n",
       "      <th></th>\n",
       "      <th>x</th>\n",
       "      <th>y</th>\n",
       "      <th>w</th>\n",
       "      <th>z</th>\n",
       "    </tr>\n",
       "  </thead>\n",
       "  <tbody>\n",
       "    <tr>\n",
       "      <th>0</th>\n",
       "      <td>1.1</td>\n",
       "      <td>1.2</td>\n",
       "      <td>6.0</td>\n",
       "      <td>6.3</td>\n",
       "    </tr>\n",
       "    <tr>\n",
       "      <th>1</th>\n",
       "      <td>2.1</td>\n",
       "      <td>2.2</td>\n",
       "      <td>7.0</td>\n",
       "      <td>7.3</td>\n",
       "    </tr>\n",
       "  </tbody>\n",
       "</table>\n",
       "</div>"
      ],
      "text/plain": [
       "     x    y    w    z\n",
       "0  1.1  1.2  6.0  6.3\n",
       "1  2.1  2.2  7.0  7.3"
      ]
     },
     "execution_count": 219,
     "metadata": {},
     "output_type": "execute_result"
    }
   ],
   "source": [
    "pd.concat([df, df2], axis='columns', join='inner') #'columns'"
   ]
  },
  {
   "attachments": {},
   "cell_type": "markdown",
   "metadata": {},
   "source": [
    "The ```DataFrame``` method ```align``` can be used to align the data of a ```DataFrame``` with another ```DataFrame``` instance for the purpose of comparison:"
   ]
  },
  {
   "cell_type": "code",
   "execution_count": 220,
   "metadata": {},
   "outputs": [],
   "source": [
    "df3 = pd.concat([df, df2], axis=1, join='inner') #'columns'"
   ]
  },
  {
   "cell_type": "code",
   "execution_count": 221,
   "metadata": {},
   "outputs": [
    {
     "data": {
      "text/plain": [
       "(    w    x    y   z\n",
       " 0 NaN  1.1  1.2 NaN\n",
       " 1 NaN  2.1  2.2 NaN\n",
       " 2 NaN  3.1  3.2 NaN\n",
       " 3 NaN  4.1  4.2 NaN,\n",
       "      w    x    y    z\n",
       " 0  6.0  1.1  1.2  6.3\n",
       " 1  7.0  2.1  2.2  7.3\n",
       " 2  NaN  NaN  NaN  NaN\n",
       " 3  NaN  NaN  NaN  NaN)"
      ]
     },
     "execution_count": 221,
     "metadata": {},
     "output_type": "execute_result"
    }
   ],
   "source": [
    "df.align(other=df3)"
   ]
  },
  {
   "attachments": {},
   "cell_type": "markdown",
   "metadata": {},
   "source": [
    "## Not Available Values"
   ]
  },
  {
   "attachments": {},
   "cell_type": "markdown",
   "metadata": {},
   "source": [
    "The following ```DataFrame``` can be instantiated to ```df``` with multiple ```None``` values:"
   ]
  },
  {
   "cell_type": "code",
   "execution_count": 222,
   "metadata": {},
   "outputs": [],
   "source": [
    "df = pd.DataFrame(index=['a', 'b', 'c', 'd', 'e', 'f', 'g'],\n",
    "                  data={'x': np.array([1.1, None, 3.1, None, 5.1, None, 7.1]),\n",
    "                        'y': np.array([1.2, None, 3.2, 4.2, 5.2, 6.2, 7.2])})"
   ]
  },
  {
   "attachments": {},
   "cell_type": "markdown",
   "metadata": {},
   "source": [
    "The ```DataFrame``` instance ```df``` information can be examined. Notice that there are 7 rows; 4 rows have available (non-null) values in ```Series``` instance ```x``` and ```6``` rows have available (non-null) values in ```Series``` instance ```y```:"
   ]
  },
  {
   "cell_type": "code",
   "execution_count": 223,
   "metadata": {},
   "outputs": [
    {
     "name": "stdout",
     "output_type": "stream",
     "text": [
      "<class 'pandas.core.frame.DataFrame'>\n",
      "Index: 7 entries, a to g\n",
      "Data columns (total 2 columns):\n",
      " #   Column  Non-Null Count  Dtype \n",
      "---  ------  --------------  ----- \n",
      " 0   x       4 non-null      object\n",
      " 1   y       6 non-null      object\n",
      "dtypes: object(2)\n",
      "memory usage: 168.0+ bytes\n"
     ]
    }
   ],
   "source": [
    "df.info()"
   ]
  },
  {
   "attachments": {},
   "cell_type": "markdown",
   "metadata": {},
   "source": [
    "The ```DataFrame``` instance ```df``` descriptive statistics can be viewed:"
   ]
  },
  {
   "cell_type": "code",
   "execution_count": 224,
   "metadata": {},
   "outputs": [
    {
     "data": {
      "text/html": [
       "<div>\n",
       "<style scoped>\n",
       "    .dataframe tbody tr th:only-of-type {\n",
       "        vertical-align: middle;\n",
       "    }\n",
       "\n",
       "    .dataframe tbody tr th {\n",
       "        vertical-align: top;\n",
       "    }\n",
       "\n",
       "    .dataframe thead th {\n",
       "        text-align: right;\n",
       "    }\n",
       "</style>\n",
       "<table border=\"1\" class=\"dataframe\">\n",
       "  <thead>\n",
       "    <tr style=\"text-align: right;\">\n",
       "      <th></th>\n",
       "      <th>x</th>\n",
       "      <th>y</th>\n",
       "    </tr>\n",
       "  </thead>\n",
       "  <tbody>\n",
       "    <tr>\n",
       "      <th>count</th>\n",
       "      <td>4.0</td>\n",
       "      <td>6.0</td>\n",
       "    </tr>\n",
       "    <tr>\n",
       "      <th>unique</th>\n",
       "      <td>4.0</td>\n",
       "      <td>6.0</td>\n",
       "    </tr>\n",
       "    <tr>\n",
       "      <th>top</th>\n",
       "      <td>1.1</td>\n",
       "      <td>1.2</td>\n",
       "    </tr>\n",
       "    <tr>\n",
       "      <th>freq</th>\n",
       "      <td>1.0</td>\n",
       "      <td>1.0</td>\n",
       "    </tr>\n",
       "  </tbody>\n",
       "</table>\n",
       "</div>"
      ],
      "text/plain": [
       "          x    y\n",
       "count   4.0  6.0\n",
       "unique  4.0  6.0\n",
       "top     1.1  1.2\n",
       "freq    1.0  1.0"
      ]
     },
     "execution_count": 224,
     "metadata": {},
     "output_type": "execute_result"
    }
   ],
   "source": [
    "df.describe()"
   ]
  },
  {
   "attachments": {},
   "cell_type": "markdown",
   "metadata": {},
   "source": [
    "Notice in the information that the datatype is now ```object``` instead of ```float64```. The ```DataFrame``` instance uses the datatype ```object``` for each ```Series``` because each of these ```Series``` contain the value ```None``` which is a generic Python ```object```:"
   ]
  },
  {
   "cell_type": "code",
   "execution_count": 225,
   "metadata": {},
   "outputs": [
    {
     "data": {
      "text/html": [
       "<div>\n",
       "<style scoped>\n",
       "    .dataframe tbody tr th:only-of-type {\n",
       "        vertical-align: middle;\n",
       "    }\n",
       "\n",
       "    .dataframe tbody tr th {\n",
       "        vertical-align: top;\n",
       "    }\n",
       "\n",
       "    .dataframe thead th {\n",
       "        text-align: right;\n",
       "    }\n",
       "</style>\n",
       "<table border=\"1\" class=\"dataframe\">\n",
       "  <thead>\n",
       "    <tr style=\"text-align: right;\">\n",
       "      <th></th>\n",
       "      <th>x</th>\n",
       "      <th>y</th>\n",
       "    </tr>\n",
       "  </thead>\n",
       "  <tbody>\n",
       "    <tr>\n",
       "      <th>a</th>\n",
       "      <td>1.1</td>\n",
       "      <td>1.2</td>\n",
       "    </tr>\n",
       "    <tr>\n",
       "      <th>b</th>\n",
       "      <td>None</td>\n",
       "      <td>None</td>\n",
       "    </tr>\n",
       "    <tr>\n",
       "      <th>c</th>\n",
       "      <td>3.1</td>\n",
       "      <td>3.2</td>\n",
       "    </tr>\n",
       "    <tr>\n",
       "      <th>d</th>\n",
       "      <td>None</td>\n",
       "      <td>4.2</td>\n",
       "    </tr>\n",
       "    <tr>\n",
       "      <th>e</th>\n",
       "      <td>5.1</td>\n",
       "      <td>5.2</td>\n",
       "    </tr>\n",
       "    <tr>\n",
       "      <th>f</th>\n",
       "      <td>None</td>\n",
       "      <td>6.2</td>\n",
       "    </tr>\n",
       "    <tr>\n",
       "      <th>g</th>\n",
       "      <td>7.1</td>\n",
       "      <td>7.2</td>\n",
       "    </tr>\n",
       "  </tbody>\n",
       "</table>\n",
       "</div>"
      ],
      "text/plain": [
       "      x     y\n",
       "a   1.1   1.2\n",
       "b  None  None\n",
       "c   3.1   3.2\n",
       "d  None   4.2\n",
       "e   5.1   5.2\n",
       "f  None   6.2\n",
       "g   7.1   7.2"
      ]
     },
     "execution_count": 225,
     "metadata": {},
     "output_type": "execute_result"
    }
   ],
   "source": [
    "df"
   ]
  },
  {
   "cell_type": "markdown",
   "metadata": {},
   "source": [
    "The datatype of each ```Series``` in the ```DataFrame``` can be changed to a ```float``` using the method ```astype```:"
   ]
  },
  {
   "cell_type": "code",
   "execution_count": 226,
   "metadata": {},
   "outputs": [
    {
     "data": {
      "text/html": [
       "<div>\n",
       "<style scoped>\n",
       "    .dataframe tbody tr th:only-of-type {\n",
       "        vertical-align: middle;\n",
       "    }\n",
       "\n",
       "    .dataframe tbody tr th {\n",
       "        vertical-align: top;\n",
       "    }\n",
       "\n",
       "    .dataframe thead th {\n",
       "        text-align: right;\n",
       "    }\n",
       "</style>\n",
       "<table border=\"1\" class=\"dataframe\">\n",
       "  <thead>\n",
       "    <tr style=\"text-align: right;\">\n",
       "      <th></th>\n",
       "      <th>x</th>\n",
       "      <th>y</th>\n",
       "    </tr>\n",
       "  </thead>\n",
       "  <tbody>\n",
       "    <tr>\n",
       "      <th>a</th>\n",
       "      <td>1.1</td>\n",
       "      <td>1.2</td>\n",
       "    </tr>\n",
       "    <tr>\n",
       "      <th>b</th>\n",
       "      <td>NaN</td>\n",
       "      <td>NaN</td>\n",
       "    </tr>\n",
       "    <tr>\n",
       "      <th>c</th>\n",
       "      <td>3.1</td>\n",
       "      <td>3.2</td>\n",
       "    </tr>\n",
       "    <tr>\n",
       "      <th>d</th>\n",
       "      <td>NaN</td>\n",
       "      <td>4.2</td>\n",
       "    </tr>\n",
       "    <tr>\n",
       "      <th>e</th>\n",
       "      <td>5.1</td>\n",
       "      <td>5.2</td>\n",
       "    </tr>\n",
       "    <tr>\n",
       "      <th>f</th>\n",
       "      <td>NaN</td>\n",
       "      <td>6.2</td>\n",
       "    </tr>\n",
       "    <tr>\n",
       "      <th>g</th>\n",
       "      <td>7.1</td>\n",
       "      <td>7.2</td>\n",
       "    </tr>\n",
       "  </tbody>\n",
       "</table>\n",
       "</div>"
      ],
      "text/plain": [
       "     x    y\n",
       "a  1.1  1.2\n",
       "b  NaN  NaN\n",
       "c  3.1  3.2\n",
       "d  NaN  4.2\n",
       "e  5.1  5.2\n",
       "f  NaN  6.2\n",
       "g  7.1  7.2"
      ]
     },
     "execution_count": 226,
     "metadata": {},
     "output_type": "execute_result"
    }
   ],
   "source": [
    "df.astype(float)"
   ]
  },
  {
   "attachments": {},
   "cell_type": "markdown",
   "metadata": {},
   "source": [
    "Notice the values that were previously ```None``` are cast into ```NaN``` (Not a Number). ```NaN``` conceptually is similar to ```None``` however it has a datatype of ```float``` and is therefore designated as being numeric. ```Series``` instances that only have numeric data inclusive of ```NaN``` therefore have the datatype ```float```. Both ```None``` and ```NaN``` are classified as ```not available``` values and are known collectively as ```null``` values.\n",
    "\n",
    "The changes can be seen when the ```DataFrame``` method ```info``` is used on the returned ```DataFrame``` instance:"
   ]
  },
  {
   "cell_type": "code",
   "execution_count": 227,
   "metadata": {},
   "outputs": [
    {
     "name": "stdout",
     "output_type": "stream",
     "text": [
      "<class 'pandas.core.frame.DataFrame'>\n",
      "Index: 7 entries, a to g\n",
      "Data columns (total 2 columns):\n",
      " #   Column  Non-Null Count  Dtype  \n",
      "---  ------  --------------  -----  \n",
      " 0   x       4 non-null      float64\n",
      " 1   y       6 non-null      float64\n",
      "dtypes: float64(2)\n",
      "memory usage: 168.0+ bytes\n"
     ]
    }
   ],
   "source": [
    "df.astype(float).info()"
   ]
  },
  {
   "cell_type": "markdown",
   "metadata": {},
   "source": [
    "Notice the changes when the ```DataFrame``` method ```describe``` is used on the returned ```DataFrame``` instance. Because each ```Series``` is numeric additional statics can be calculated:"
   ]
  },
  {
   "cell_type": "code",
   "execution_count": 228,
   "metadata": {},
   "outputs": [
    {
     "data": {
      "text/html": [
       "<div>\n",
       "<style scoped>\n",
       "    .dataframe tbody tr th:only-of-type {\n",
       "        vertical-align: middle;\n",
       "    }\n",
       "\n",
       "    .dataframe tbody tr th {\n",
       "        vertical-align: top;\n",
       "    }\n",
       "\n",
       "    .dataframe thead th {\n",
       "        text-align: right;\n",
       "    }\n",
       "</style>\n",
       "<table border=\"1\" class=\"dataframe\">\n",
       "  <thead>\n",
       "    <tr style=\"text-align: right;\">\n",
       "      <th></th>\n",
       "      <th>x</th>\n",
       "      <th>y</th>\n",
       "    </tr>\n",
       "  </thead>\n",
       "  <tbody>\n",
       "    <tr>\n",
       "      <th>count</th>\n",
       "      <td>4.000000</td>\n",
       "      <td>6.000000</td>\n",
       "    </tr>\n",
       "    <tr>\n",
       "      <th>mean</th>\n",
       "      <td>4.100000</td>\n",
       "      <td>4.533333</td>\n",
       "    </tr>\n",
       "    <tr>\n",
       "      <th>std</th>\n",
       "      <td>2.581989</td>\n",
       "      <td>2.160247</td>\n",
       "    </tr>\n",
       "    <tr>\n",
       "      <th>min</th>\n",
       "      <td>1.100000</td>\n",
       "      <td>1.200000</td>\n",
       "    </tr>\n",
       "    <tr>\n",
       "      <th>25%</th>\n",
       "      <td>2.600000</td>\n",
       "      <td>3.450000</td>\n",
       "    </tr>\n",
       "    <tr>\n",
       "      <th>50%</th>\n",
       "      <td>4.100000</td>\n",
       "      <td>4.700000</td>\n",
       "    </tr>\n",
       "    <tr>\n",
       "      <th>75%</th>\n",
       "      <td>5.600000</td>\n",
       "      <td>5.950000</td>\n",
       "    </tr>\n",
       "    <tr>\n",
       "      <th>max</th>\n",
       "      <td>7.100000</td>\n",
       "      <td>7.200000</td>\n",
       "    </tr>\n",
       "  </tbody>\n",
       "</table>\n",
       "</div>"
      ],
      "text/plain": [
       "              x         y\n",
       "count  4.000000  6.000000\n",
       "mean   4.100000  4.533333\n",
       "std    2.581989  2.160247\n",
       "min    1.100000  1.200000\n",
       "25%    2.600000  3.450000\n",
       "50%    4.100000  4.700000\n",
       "75%    5.600000  5.950000\n",
       "max    7.100000  7.200000"
      ]
     },
     "execution_count": 228,
     "metadata": {},
     "output_type": "execute_result"
    }
   ],
   "source": [
    "df.astype(float).describe()"
   ]
  },
  {
   "attachments": {},
   "cell_type": "markdown",
   "metadata": {},
   "source": [
    "The ```DataFrame``` method drop not available ```dropna``` can be used to drop not available values (```None``` or ```NaN``` values) outputting a new ```DataFrame``` instance. Notice the number of rows is now reduced to 4: "
   ]
  },
  {
   "cell_type": "code",
   "execution_count": 229,
   "metadata": {},
   "outputs": [
    {
     "data": {
      "text/html": [
       "<div>\n",
       "<style scoped>\n",
       "    .dataframe tbody tr th:only-of-type {\n",
       "        vertical-align: middle;\n",
       "    }\n",
       "\n",
       "    .dataframe tbody tr th {\n",
       "        vertical-align: top;\n",
       "    }\n",
       "\n",
       "    .dataframe thead th {\n",
       "        text-align: right;\n",
       "    }\n",
       "</style>\n",
       "<table border=\"1\" class=\"dataframe\">\n",
       "  <thead>\n",
       "    <tr style=\"text-align: right;\">\n",
       "      <th></th>\n",
       "      <th>x</th>\n",
       "      <th>y</th>\n",
       "    </tr>\n",
       "  </thead>\n",
       "  <tbody>\n",
       "    <tr>\n",
       "      <th>a</th>\n",
       "      <td>1.1</td>\n",
       "      <td>1.2</td>\n",
       "    </tr>\n",
       "    <tr>\n",
       "      <th>c</th>\n",
       "      <td>3.1</td>\n",
       "      <td>3.2</td>\n",
       "    </tr>\n",
       "    <tr>\n",
       "      <th>e</th>\n",
       "      <td>5.1</td>\n",
       "      <td>5.2</td>\n",
       "    </tr>\n",
       "    <tr>\n",
       "      <th>g</th>\n",
       "      <td>7.1</td>\n",
       "      <td>7.2</td>\n",
       "    </tr>\n",
       "  </tbody>\n",
       "</table>\n",
       "</div>"
      ],
      "text/plain": [
       "     x    y\n",
       "a  1.1  1.2\n",
       "c  3.1  3.2\n",
       "e  5.1  5.2\n",
       "g  7.1  7.2"
      ]
     },
     "execution_count": 229,
     "metadata": {},
     "output_type": "execute_result"
    }
   ],
   "source": [
    "df.dropna()"
   ]
  },
  {
   "attachments": {},
   "cell_type": "markdown",
   "metadata": {},
   "source": [
    "If the ```DataFrame``` method ```info``` is used on this new ```DataFrame``` instance, notice the datatype of each ```Series``` is still ```object``` and not ```float64```:"
   ]
  },
  {
   "cell_type": "code",
   "execution_count": 230,
   "metadata": {},
   "outputs": [
    {
     "name": "stdout",
     "output_type": "stream",
     "text": [
      "<class 'pandas.core.frame.DataFrame'>\n",
      "Index: 4 entries, a to g\n",
      "Data columns (total 2 columns):\n",
      " #   Column  Non-Null Count  Dtype \n",
      "---  ------  --------------  ----- \n",
      " 0   x       4 non-null      object\n",
      " 1   y       4 non-null      object\n",
      "dtypes: object(2)\n",
      "memory usage: 96.0+ bytes\n"
     ]
    }
   ],
   "source": [
    "df.dropna().info()"
   ]
  },
  {
   "attachments": {},
   "cell_type": "markdown",
   "metadata": {},
   "source": [
    "The ```DataFrame``` method ```astype``` can be used to change the datatype of each ```Series``` in the returned ```DataFrame``` to ```float``` once again and this once again outputs a new ```DataFrame``` instance. If the ```DataFrame``` method ```info``` is examined for this new ```DataFrame``` instance, each ```Series``` now has a ```float64``` datatype:"
   ]
  },
  {
   "cell_type": "code",
   "execution_count": 231,
   "metadata": {},
   "outputs": [
    {
     "name": "stdout",
     "output_type": "stream",
     "text": [
      "<class 'pandas.core.frame.DataFrame'>\n",
      "Index: 4 entries, a to g\n",
      "Data columns (total 2 columns):\n",
      " #   Column  Non-Null Count  Dtype  \n",
      "---  ------  --------------  -----  \n",
      " 0   x       4 non-null      float64\n",
      " 1   y       4 non-null      float64\n",
      "dtypes: float64(2)\n",
      "memory usage: 96.0+ bytes\n"
     ]
    }
   ],
   "source": [
    "df.dropna().astype(float).info()"
   ]
  },
  {
   "cell_type": "markdown",
   "metadata": {},
   "source": [
    "Note ```DataFrame``` methods are often stacked for convenience:\n",
    "\n",
    "* df # Original DataFrame instance 1\n",
    "* df.drop(na) # returns a DataFrame instance 2\n",
    "* df.drop(na).astype(float) # returns a DataFrame instance 3\n",
    "\n",
    "A ```Series``` can also be selected from ```DataFrame``` instance 3:"
   ]
  },
  {
   "cell_type": "code",
   "execution_count": 232,
   "metadata": {},
   "outputs": [
    {
     "data": {
      "text/plain": [
       "a    1.1\n",
       "c    3.1\n",
       "e    5.1\n",
       "g    7.1\n",
       "Name: x, dtype: float64"
      ]
     },
     "execution_count": 232,
     "metadata": {},
     "output_type": "execute_result"
    }
   ],
   "source": [
    "df.dropna().astype(float)['x']"
   ]
  },
  {
   "cell_type": "markdown",
   "metadata": {},
   "source": [
    "And a ```Series``` method ```astype``` can be used on this ```Series``` returning another ```Series```:"
   ]
  },
  {
   "cell_type": "code",
   "execution_count": 233,
   "metadata": {},
   "outputs": [
    {
     "data": {
      "text/plain": [
       "a    1\n",
       "c    3\n",
       "e    5\n",
       "g    7\n",
       "Name: x, dtype: int32"
      ]
     },
     "execution_count": 233,
     "metadata": {},
     "output_type": "execute_result"
    }
   ],
   "source": [
    "df.dropna().astype(float)['x'].astype(int)"
   ]
  },
  {
   "attachments": {},
   "cell_type": "markdown",
   "metadata": {},
   "source": [
    "The ```DataFrame``` method ```dropna``` was demonstrated over a small ```DataFrame``` instance with a small number of rows. This method is however usually only typically employed on a ```DataFrame``` that contains a large number of rows that has enough data for further analysis without that isn't influence too much by the missing values. For a sparse dataset, it is common to attempt to fill in the missign values in some way. The ```DataFrame``` method ```fillna``` can be used to fill in not available values. These can be filled with a constant value:"
   ]
  },
  {
   "cell_type": "code",
   "execution_count": 234,
   "metadata": {},
   "outputs": [
    {
     "data": {
      "text/html": [
       "<div>\n",
       "<style scoped>\n",
       "    .dataframe tbody tr th:only-of-type {\n",
       "        vertical-align: middle;\n",
       "    }\n",
       "\n",
       "    .dataframe tbody tr th {\n",
       "        vertical-align: top;\n",
       "    }\n",
       "\n",
       "    .dataframe thead th {\n",
       "        text-align: right;\n",
       "    }\n",
       "</style>\n",
       "<table border=\"1\" class=\"dataframe\">\n",
       "  <thead>\n",
       "    <tr style=\"text-align: right;\">\n",
       "      <th></th>\n",
       "      <th>x</th>\n",
       "      <th>y</th>\n",
       "    </tr>\n",
       "  </thead>\n",
       "  <tbody>\n",
       "    <tr>\n",
       "      <th>a</th>\n",
       "      <td>1.1</td>\n",
       "      <td>1.2</td>\n",
       "    </tr>\n",
       "    <tr>\n",
       "      <th>b</th>\n",
       "      <td>0.0</td>\n",
       "      <td>0.0</td>\n",
       "    </tr>\n",
       "    <tr>\n",
       "      <th>c</th>\n",
       "      <td>3.1</td>\n",
       "      <td>3.2</td>\n",
       "    </tr>\n",
       "    <tr>\n",
       "      <th>d</th>\n",
       "      <td>0.0</td>\n",
       "      <td>4.2</td>\n",
       "    </tr>\n",
       "    <tr>\n",
       "      <th>e</th>\n",
       "      <td>5.1</td>\n",
       "      <td>5.2</td>\n",
       "    </tr>\n",
       "    <tr>\n",
       "      <th>f</th>\n",
       "      <td>0.0</td>\n",
       "      <td>6.2</td>\n",
       "    </tr>\n",
       "    <tr>\n",
       "      <th>g</th>\n",
       "      <td>7.1</td>\n",
       "      <td>7.2</td>\n",
       "    </tr>\n",
       "  </tbody>\n",
       "</table>\n",
       "</div>"
      ],
      "text/plain": [
       "     x    y\n",
       "a  1.1  1.2\n",
       "b  0.0  0.0\n",
       "c  3.1  3.2\n",
       "d  0.0  4.2\n",
       "e  5.1  5.2\n",
       "f  0.0  6.2\n",
       "g  7.1  7.2"
      ]
     },
     "execution_count": 234,
     "metadata": {},
     "output_type": "execute_result"
    }
   ],
   "source": [
    "df.fillna(0)"
   ]
  },
  {
   "cell_type": "code",
   "execution_count": 235,
   "metadata": {},
   "outputs": [
    {
     "data": {
      "text/html": [
       "<div>\n",
       "<style scoped>\n",
       "    .dataframe tbody tr th:only-of-type {\n",
       "        vertical-align: middle;\n",
       "    }\n",
       "\n",
       "    .dataframe tbody tr th {\n",
       "        vertical-align: top;\n",
       "    }\n",
       "\n",
       "    .dataframe thead th {\n",
       "        text-align: right;\n",
       "    }\n",
       "</style>\n",
       "<table border=\"1\" class=\"dataframe\">\n",
       "  <thead>\n",
       "    <tr style=\"text-align: right;\">\n",
       "      <th></th>\n",
       "      <th>x</th>\n",
       "      <th>y</th>\n",
       "    </tr>\n",
       "  </thead>\n",
       "  <tbody>\n",
       "    <tr>\n",
       "      <th>a</th>\n",
       "      <td>1.1</td>\n",
       "      <td>1.2</td>\n",
       "    </tr>\n",
       "    <tr>\n",
       "      <th>b</th>\n",
       "      <td>inf</td>\n",
       "      <td>inf</td>\n",
       "    </tr>\n",
       "    <tr>\n",
       "      <th>c</th>\n",
       "      <td>3.1</td>\n",
       "      <td>3.2</td>\n",
       "    </tr>\n",
       "    <tr>\n",
       "      <th>d</th>\n",
       "      <td>inf</td>\n",
       "      <td>4.2</td>\n",
       "    </tr>\n",
       "    <tr>\n",
       "      <th>e</th>\n",
       "      <td>5.1</td>\n",
       "      <td>5.2</td>\n",
       "    </tr>\n",
       "    <tr>\n",
       "      <th>f</th>\n",
       "      <td>inf</td>\n",
       "      <td>6.2</td>\n",
       "    </tr>\n",
       "    <tr>\n",
       "      <th>g</th>\n",
       "      <td>7.1</td>\n",
       "      <td>7.2</td>\n",
       "    </tr>\n",
       "  </tbody>\n",
       "</table>\n",
       "</div>"
      ],
      "text/plain": [
       "     x    y\n",
       "a  1.1  1.2\n",
       "b  inf  inf\n",
       "c  3.1  3.2\n",
       "d  inf  4.2\n",
       "e  5.1  5.2\n",
       "f  inf  6.2\n",
       "g  7.1  7.2"
      ]
     },
     "execution_count": 235,
     "metadata": {},
     "output_type": "execute_result"
    }
   ],
   "source": [
    "df.fillna(np.inf)"
   ]
  },
  {
   "attachments": {},
   "cell_type": "markdown",
   "metadata": {},
   "source": [
    "Alternatively the ```DataFrame``` method ```ffill``` can be used to linearly forward fill missing data. When using the forward fill, the previous available value is used to replace the not available value:"
   ]
  },
  {
   "cell_type": "code",
   "execution_count": 236,
   "metadata": {},
   "outputs": [
    {
     "data": {
      "text/html": [
       "<div>\n",
       "<style scoped>\n",
       "    .dataframe tbody tr th:only-of-type {\n",
       "        vertical-align: middle;\n",
       "    }\n",
       "\n",
       "    .dataframe tbody tr th {\n",
       "        vertical-align: top;\n",
       "    }\n",
       "\n",
       "    .dataframe thead th {\n",
       "        text-align: right;\n",
       "    }\n",
       "</style>\n",
       "<table border=\"1\" class=\"dataframe\">\n",
       "  <thead>\n",
       "    <tr style=\"text-align: right;\">\n",
       "      <th></th>\n",
       "      <th>x</th>\n",
       "      <th>y</th>\n",
       "    </tr>\n",
       "  </thead>\n",
       "  <tbody>\n",
       "    <tr>\n",
       "      <th>a</th>\n",
       "      <td>1.1</td>\n",
       "      <td>1.2</td>\n",
       "    </tr>\n",
       "    <tr>\n",
       "      <th>b</th>\n",
       "      <td>1.1</td>\n",
       "      <td>1.2</td>\n",
       "    </tr>\n",
       "    <tr>\n",
       "      <th>c</th>\n",
       "      <td>3.1</td>\n",
       "      <td>3.2</td>\n",
       "    </tr>\n",
       "    <tr>\n",
       "      <th>d</th>\n",
       "      <td>3.1</td>\n",
       "      <td>4.2</td>\n",
       "    </tr>\n",
       "    <tr>\n",
       "      <th>e</th>\n",
       "      <td>5.1</td>\n",
       "      <td>5.2</td>\n",
       "    </tr>\n",
       "    <tr>\n",
       "      <th>f</th>\n",
       "      <td>5.1</td>\n",
       "      <td>6.2</td>\n",
       "    </tr>\n",
       "    <tr>\n",
       "      <th>g</th>\n",
       "      <td>7.1</td>\n",
       "      <td>7.2</td>\n",
       "    </tr>\n",
       "  </tbody>\n",
       "</table>\n",
       "</div>"
      ],
      "text/plain": [
       "     x    y\n",
       "a  1.1  1.2\n",
       "b  1.1  1.2\n",
       "c  3.1  3.2\n",
       "d  3.1  4.2\n",
       "e  5.1  5.2\n",
       "f  5.1  6.2\n",
       "g  7.1  7.2"
      ]
     },
     "execution_count": 236,
     "metadata": {},
     "output_type": "execute_result"
    }
   ],
   "source": [
    "df.ffill()"
   ]
  },
  {
   "cell_type": "markdown",
   "metadata": {},
   "source": [
    "This can be aligned with the original ```DataFrame``` instance for comparison:"
   ]
  },
  {
   "cell_type": "code",
   "execution_count": 237,
   "metadata": {},
   "outputs": [
    {
     "data": {
      "text/plain": [
       "(     x    y\n",
       " a  1.1  1.2\n",
       " b  1.1  1.2\n",
       " c  3.1  3.2\n",
       " d  3.1  4.2\n",
       " e  5.1  5.2\n",
       " f  5.1  6.2\n",
       " g  7.1  7.2,\n",
       "       x     y\n",
       " a   1.1   1.2\n",
       " b  None  None\n",
       " c   3.1   3.2\n",
       " d  None   4.2\n",
       " e   5.1   5.2\n",
       " f  None   6.2\n",
       " g   7.1   7.2)"
      ]
     },
     "execution_count": 237,
     "metadata": {},
     "output_type": "execute_result"
    }
   ],
   "source": [
    "df.ffill().align(df)"
   ]
  },
  {
   "cell_type": "markdown",
   "metadata": {},
   "source": [
    "The related ```DataFrame``` method ```bfill``` can be used to linearly backwards fill missing data. When using the backward fill, the subsequent available value is used to replace the not available value:"
   ]
  },
  {
   "cell_type": "code",
   "execution_count": 238,
   "metadata": {},
   "outputs": [
    {
     "data": {
      "text/plain": [
       "(     x    y\n",
       " a  1.1  1.2\n",
       " b  3.1  3.2\n",
       " c  3.1  3.2\n",
       " d  5.1  4.2\n",
       " e  5.1  5.2\n",
       " f  7.1  6.2\n",
       " g  7.1  7.2,\n",
       "       x     y\n",
       " a   1.1   1.2\n",
       " b  None  None\n",
       " c   3.1   3.2\n",
       " d  None   4.2\n",
       " e   5.1   5.2\n",
       " f  None   6.2\n",
       " g   7.1   7.2)"
      ]
     },
     "execution_count": 238,
     "metadata": {},
     "output_type": "execute_result"
    }
   ],
   "source": [
    "df.bfill().align(df)"
   ]
  },
  {
   "attachments": {},
   "cell_type": "markdown",
   "metadata": {},
   "source": [
    "The ```DataFrame``` method ```interpolate``` method can use neighbouring datapoints to interpolate a missing value. It has a keyword input argument ```method``` which can be used to specify an interpolation method. Note that all the data in the ```DataFrame``` must be cast to numeric for the ```interpolate``` method to be used:"
   ]
  },
  {
   "cell_type": "code",
   "execution_count": 239,
   "metadata": {},
   "outputs": [
    {
     "data": {
      "text/html": [
       "<div>\n",
       "<style scoped>\n",
       "    .dataframe tbody tr th:only-of-type {\n",
       "        vertical-align: middle;\n",
       "    }\n",
       "\n",
       "    .dataframe tbody tr th {\n",
       "        vertical-align: top;\n",
       "    }\n",
       "\n",
       "    .dataframe thead th {\n",
       "        text-align: right;\n",
       "    }\n",
       "</style>\n",
       "<table border=\"1\" class=\"dataframe\">\n",
       "  <thead>\n",
       "    <tr style=\"text-align: right;\">\n",
       "      <th></th>\n",
       "      <th>x</th>\n",
       "      <th>y</th>\n",
       "    </tr>\n",
       "  </thead>\n",
       "  <tbody>\n",
       "    <tr>\n",
       "      <th>a</th>\n",
       "      <td>1.1</td>\n",
       "      <td>1.2</td>\n",
       "    </tr>\n",
       "    <tr>\n",
       "      <th>b</th>\n",
       "      <td>2.1</td>\n",
       "      <td>2.2</td>\n",
       "    </tr>\n",
       "    <tr>\n",
       "      <th>c</th>\n",
       "      <td>3.1</td>\n",
       "      <td>3.2</td>\n",
       "    </tr>\n",
       "    <tr>\n",
       "      <th>d</th>\n",
       "      <td>4.1</td>\n",
       "      <td>4.2</td>\n",
       "    </tr>\n",
       "    <tr>\n",
       "      <th>e</th>\n",
       "      <td>5.1</td>\n",
       "      <td>5.2</td>\n",
       "    </tr>\n",
       "    <tr>\n",
       "      <th>f</th>\n",
       "      <td>6.1</td>\n",
       "      <td>6.2</td>\n",
       "    </tr>\n",
       "    <tr>\n",
       "      <th>g</th>\n",
       "      <td>7.1</td>\n",
       "      <td>7.2</td>\n",
       "    </tr>\n",
       "  </tbody>\n",
       "</table>\n",
       "</div>"
      ],
      "text/plain": [
       "     x    y\n",
       "a  1.1  1.2\n",
       "b  2.1  2.2\n",
       "c  3.1  3.2\n",
       "d  4.1  4.2\n",
       "e  5.1  5.2\n",
       "f  6.1  6.2\n",
       "g  7.1  7.2"
      ]
     },
     "execution_count": 239,
     "metadata": {},
     "output_type": "execute_result"
    }
   ],
   "source": [
    "df.astype(float).interpolate(method='linear')"
   ]
  },
  {
   "cell_type": "markdown",
   "metadata": {},
   "source": [
    "Sometimes it is preferable to use the ```Series``` method ```interpolate``` which is consistent:"
   ]
  },
  {
   "cell_type": "code",
   "execution_count": 240,
   "metadata": {},
   "outputs": [
    {
     "data": {
      "text/plain": [
       "a    1.1\n",
       "b    2.1\n",
       "c    3.1\n",
       "d    4.1\n",
       "e    5.1\n",
       "f    6.1\n",
       "g    7.1\n",
       "Name: x, dtype: float64"
      ]
     },
     "execution_count": 240,
     "metadata": {},
     "output_type": "execute_result"
    }
   ],
   "source": [
    "df['x'].astype(float).interpolate(method='linear')"
   ]
  },
  {
   "cell_type": "markdown",
   "metadata": {},
   "source": [
    "Many of the interpolation methods need a numeric index to work properly:"
   ]
  },
  {
   "cell_type": "code",
   "execution_count": 241,
   "metadata": {},
   "outputs": [
    {
     "data": {
      "text/plain": [
       "0    1.1\n",
       "1    2.1\n",
       "2    3.1\n",
       "3    4.1\n",
       "4    5.1\n",
       "5    6.1\n",
       "6    7.1\n",
       "Name: x, dtype: float64"
      ]
     },
     "execution_count": 241,
     "metadata": {},
     "output_type": "execute_result"
    }
   ],
   "source": [
    "df['x'].astype(float).reset_index(drop=True).interpolate(method='linear')"
   ]
  },
  {
   "cell_type": "markdown",
   "metadata": {},
   "source": [
    "A new ```DataFrame``` instance can be created where each ```Series``` is an interpolated method used on the original ```Series``` ```'x'```. The ```Series``` methods ```astype``` and ```reset_index``` will be used to cast the ```Series``` ```'x'``` to a ```float``` with a numeric index. The original index from the ```Series``` ```'x'``` can be assigned to the new ```DataFrame``` instance after the interpolation:"
   ]
  },
  {
   "cell_type": "code",
   "execution_count": 242,
   "metadata": {},
   "outputs": [],
   "source": [
    "df2 = pd.DataFrame({'x': df['x'].astype(float).reset_index(drop=True),\n",
    "                    'x_1': df['x'].astype(float).reset_index(drop=True).interpolate(method='linear'),\n",
    "                    'x_2': df['x'].astype(float).reset_index(drop=True).interpolate(method='polynomial', order=2),\n",
    "                    'x_3': df['x'].astype(float).reset_index(drop=True).interpolate(method='polynomial', order=3)})\n",
    "df2.index = df['x'].index"
   ]
  },
  {
   "cell_type": "code",
   "execution_count": 243,
   "metadata": {},
   "outputs": [
    {
     "data": {
      "text/html": [
       "<div>\n",
       "<style scoped>\n",
       "    .dataframe tbody tr th:only-of-type {\n",
       "        vertical-align: middle;\n",
       "    }\n",
       "\n",
       "    .dataframe tbody tr th {\n",
       "        vertical-align: top;\n",
       "    }\n",
       "\n",
       "    .dataframe thead th {\n",
       "        text-align: right;\n",
       "    }\n",
       "</style>\n",
       "<table border=\"1\" class=\"dataframe\">\n",
       "  <thead>\n",
       "    <tr style=\"text-align: right;\">\n",
       "      <th></th>\n",
       "      <th>x</th>\n",
       "      <th>x_1</th>\n",
       "      <th>x_2</th>\n",
       "      <th>x_3</th>\n",
       "    </tr>\n",
       "  </thead>\n",
       "  <tbody>\n",
       "    <tr>\n",
       "      <th>a</th>\n",
       "      <td>1.1</td>\n",
       "      <td>1.1</td>\n",
       "      <td>1.1</td>\n",
       "      <td>1.1</td>\n",
       "    </tr>\n",
       "    <tr>\n",
       "      <th>b</th>\n",
       "      <td>NaN</td>\n",
       "      <td>2.1</td>\n",
       "      <td>2.1</td>\n",
       "      <td>2.1</td>\n",
       "    </tr>\n",
       "    <tr>\n",
       "      <th>c</th>\n",
       "      <td>3.1</td>\n",
       "      <td>3.1</td>\n",
       "      <td>3.1</td>\n",
       "      <td>3.1</td>\n",
       "    </tr>\n",
       "    <tr>\n",
       "      <th>d</th>\n",
       "      <td>NaN</td>\n",
       "      <td>4.1</td>\n",
       "      <td>4.1</td>\n",
       "      <td>4.1</td>\n",
       "    </tr>\n",
       "    <tr>\n",
       "      <th>e</th>\n",
       "      <td>5.1</td>\n",
       "      <td>5.1</td>\n",
       "      <td>5.1</td>\n",
       "      <td>5.1</td>\n",
       "    </tr>\n",
       "    <tr>\n",
       "      <th>f</th>\n",
       "      <td>NaN</td>\n",
       "      <td>6.1</td>\n",
       "      <td>6.1</td>\n",
       "      <td>6.1</td>\n",
       "    </tr>\n",
       "    <tr>\n",
       "      <th>g</th>\n",
       "      <td>7.1</td>\n",
       "      <td>7.1</td>\n",
       "      <td>7.1</td>\n",
       "      <td>7.1</td>\n",
       "    </tr>\n",
       "  </tbody>\n",
       "</table>\n",
       "</div>"
      ],
      "text/plain": [
       "     x  x_1  x_2  x_3\n",
       "a  1.1  1.1  1.1  1.1\n",
       "b  NaN  2.1  2.1  2.1\n",
       "c  3.1  3.1  3.1  3.1\n",
       "d  NaN  4.1  4.1  4.1\n",
       "e  5.1  5.1  5.1  5.1\n",
       "f  NaN  6.1  6.1  6.1\n",
       "g  7.1  7.1  7.1  7.1"
      ]
     },
     "execution_count": 243,
     "metadata": {},
     "output_type": "execute_result"
    }
   ],
   "source": [
    "df2"
   ]
  },
  {
   "attachments": {},
   "cell_type": "markdown",
   "metadata": {},
   "source": [
    "The ```DataFrame``` method ```isna``` returns a boolean ```DataFrame``` instance which is ```True``` for not available values and ```False``` otherwise:"
   ]
  },
  {
   "cell_type": "code",
   "execution_count": 244,
   "metadata": {},
   "outputs": [
    {
     "data": {
      "text/html": [
       "<div>\n",
       "<style scoped>\n",
       "    .dataframe tbody tr th:only-of-type {\n",
       "        vertical-align: middle;\n",
       "    }\n",
       "\n",
       "    .dataframe tbody tr th {\n",
       "        vertical-align: top;\n",
       "    }\n",
       "\n",
       "    .dataframe thead th {\n",
       "        text-align: right;\n",
       "    }\n",
       "</style>\n",
       "<table border=\"1\" class=\"dataframe\">\n",
       "  <thead>\n",
       "    <tr style=\"text-align: right;\">\n",
       "      <th></th>\n",
       "      <th>x</th>\n",
       "      <th>y</th>\n",
       "    </tr>\n",
       "  </thead>\n",
       "  <tbody>\n",
       "    <tr>\n",
       "      <th>a</th>\n",
       "      <td>False</td>\n",
       "      <td>False</td>\n",
       "    </tr>\n",
       "    <tr>\n",
       "      <th>b</th>\n",
       "      <td>True</td>\n",
       "      <td>True</td>\n",
       "    </tr>\n",
       "    <tr>\n",
       "      <th>c</th>\n",
       "      <td>False</td>\n",
       "      <td>False</td>\n",
       "    </tr>\n",
       "    <tr>\n",
       "      <th>d</th>\n",
       "      <td>True</td>\n",
       "      <td>False</td>\n",
       "    </tr>\n",
       "    <tr>\n",
       "      <th>e</th>\n",
       "      <td>False</td>\n",
       "      <td>False</td>\n",
       "    </tr>\n",
       "    <tr>\n",
       "      <th>f</th>\n",
       "      <td>True</td>\n",
       "      <td>False</td>\n",
       "    </tr>\n",
       "    <tr>\n",
       "      <th>g</th>\n",
       "      <td>False</td>\n",
       "      <td>False</td>\n",
       "    </tr>\n",
       "  </tbody>\n",
       "</table>\n",
       "</div>"
      ],
      "text/plain": [
       "       x      y\n",
       "a  False  False\n",
       "b   True   True\n",
       "c  False  False\n",
       "d   True  False\n",
       "e  False  False\n",
       "f   True  False\n",
       "g  False  False"
      ]
     },
     "execution_count": 244,
     "metadata": {},
     "output_type": "execute_result"
    }
   ],
   "source": [
    "df.isna()"
   ]
  },
  {
   "attachments": {},
   "cell_type": "markdown",
   "metadata": {},
   "source": [
    "The opposite method ```notna``` returns a boolean ```DataFrame``` of inverse values:"
   ]
  },
  {
   "cell_type": "code",
   "execution_count": 245,
   "metadata": {},
   "outputs": [
    {
     "data": {
      "text/plain": [
       "(       x      y\n",
       " a   True   True\n",
       " b  False  False\n",
       " c   True   True\n",
       " d  False   True\n",
       " e   True   True\n",
       " f  False   True\n",
       " g   True   True,\n",
       "        x      y\n",
       " a  False  False\n",
       " b   True   True\n",
       " c  False  False\n",
       " d   True  False\n",
       " e  False  False\n",
       " f   True  False\n",
       " g  False  False)"
      ]
     },
     "execution_count": 245,
     "metadata": {},
     "output_type": "execute_result"
    }
   ],
   "source": [
    "df.notna().align(df.isna())"
   ]
  },
  {
   "attachments": {},
   "cell_type": "markdown",
   "metadata": {},
   "source": [
    "These two methods have the alias ```isnull``` and ```notnull``` respectively which are used for consistency with the R programming language."
   ]
  },
  {
   "cell_type": "markdown",
   "metadata": {},
   "source": [
    "The boolean mask above can be used to index into the ```DataFrame``` instance:"
   ]
  },
  {
   "cell_type": "code",
   "execution_count": 246,
   "metadata": {},
   "outputs": [],
   "source": [
    "bool_mask = df.notna()"
   ]
  },
  {
   "attachments": {},
   "cell_type": "markdown",
   "metadata": {},
   "source": [
    "Notice indexing using the boolean mask updates ```None``` to ```NaN```:"
   ]
  },
  {
   "cell_type": "code",
   "execution_count": 247,
   "metadata": {},
   "outputs": [
    {
     "data": {
      "text/html": [
       "<div>\n",
       "<style scoped>\n",
       "    .dataframe tbody tr th:only-of-type {\n",
       "        vertical-align: middle;\n",
       "    }\n",
       "\n",
       "    .dataframe tbody tr th {\n",
       "        vertical-align: top;\n",
       "    }\n",
       "\n",
       "    .dataframe thead th {\n",
       "        text-align: right;\n",
       "    }\n",
       "</style>\n",
       "<table border=\"1\" class=\"dataframe\">\n",
       "  <thead>\n",
       "    <tr style=\"text-align: right;\">\n",
       "      <th></th>\n",
       "      <th>x</th>\n",
       "      <th>y</th>\n",
       "    </tr>\n",
       "  </thead>\n",
       "  <tbody>\n",
       "    <tr>\n",
       "      <th>a</th>\n",
       "      <td>1.1</td>\n",
       "      <td>1.2</td>\n",
       "    </tr>\n",
       "    <tr>\n",
       "      <th>b</th>\n",
       "      <td>None</td>\n",
       "      <td>None</td>\n",
       "    </tr>\n",
       "    <tr>\n",
       "      <th>c</th>\n",
       "      <td>3.1</td>\n",
       "      <td>3.2</td>\n",
       "    </tr>\n",
       "    <tr>\n",
       "      <th>d</th>\n",
       "      <td>None</td>\n",
       "      <td>4.2</td>\n",
       "    </tr>\n",
       "    <tr>\n",
       "      <th>e</th>\n",
       "      <td>5.1</td>\n",
       "      <td>5.2</td>\n",
       "    </tr>\n",
       "    <tr>\n",
       "      <th>f</th>\n",
       "      <td>None</td>\n",
       "      <td>6.2</td>\n",
       "    </tr>\n",
       "    <tr>\n",
       "      <th>g</th>\n",
       "      <td>7.1</td>\n",
       "      <td>7.2</td>\n",
       "    </tr>\n",
       "  </tbody>\n",
       "</table>\n",
       "</div>"
      ],
      "text/plain": [
       "      x     y\n",
       "a   1.1   1.2\n",
       "b  None  None\n",
       "c   3.1   3.2\n",
       "d  None   4.2\n",
       "e   5.1   5.2\n",
       "f  None   6.2\n",
       "g   7.1   7.2"
      ]
     },
     "execution_count": 247,
     "metadata": {},
     "output_type": "execute_result"
    }
   ],
   "source": [
    "df"
   ]
  },
  {
   "cell_type": "code",
   "execution_count": 248,
   "metadata": {},
   "outputs": [
    {
     "data": {
      "text/html": [
       "<div>\n",
       "<style scoped>\n",
       "    .dataframe tbody tr th:only-of-type {\n",
       "        vertical-align: middle;\n",
       "    }\n",
       "\n",
       "    .dataframe tbody tr th {\n",
       "        vertical-align: top;\n",
       "    }\n",
       "\n",
       "    .dataframe thead th {\n",
       "        text-align: right;\n",
       "    }\n",
       "</style>\n",
       "<table border=\"1\" class=\"dataframe\">\n",
       "  <thead>\n",
       "    <tr style=\"text-align: right;\">\n",
       "      <th></th>\n",
       "      <th>x</th>\n",
       "      <th>y</th>\n",
       "    </tr>\n",
       "  </thead>\n",
       "  <tbody>\n",
       "    <tr>\n",
       "      <th>a</th>\n",
       "      <td>1.1</td>\n",
       "      <td>1.2</td>\n",
       "    </tr>\n",
       "    <tr>\n",
       "      <th>b</th>\n",
       "      <td>NaN</td>\n",
       "      <td>NaN</td>\n",
       "    </tr>\n",
       "    <tr>\n",
       "      <th>c</th>\n",
       "      <td>3.1</td>\n",
       "      <td>3.2</td>\n",
       "    </tr>\n",
       "    <tr>\n",
       "      <th>d</th>\n",
       "      <td>NaN</td>\n",
       "      <td>4.2</td>\n",
       "    </tr>\n",
       "    <tr>\n",
       "      <th>e</th>\n",
       "      <td>5.1</td>\n",
       "      <td>5.2</td>\n",
       "    </tr>\n",
       "    <tr>\n",
       "      <th>f</th>\n",
       "      <td>NaN</td>\n",
       "      <td>6.2</td>\n",
       "    </tr>\n",
       "    <tr>\n",
       "      <th>g</th>\n",
       "      <td>7.1</td>\n",
       "      <td>7.2</td>\n",
       "    </tr>\n",
       "  </tbody>\n",
       "</table>\n",
       "</div>"
      ],
      "text/plain": [
       "     x    y\n",
       "a  1.1  1.2\n",
       "b  NaN  NaN\n",
       "c  3.1  3.2\n",
       "d  NaN  4.2\n",
       "e  5.1  5.2\n",
       "f  NaN  6.2\n",
       "g  7.1  7.2"
      ]
     },
     "execution_count": 248,
     "metadata": {},
     "output_type": "execute_result"
    }
   ],
   "source": [
    "df[bool_mask]"
   ]
  },
  {
   "attachments": {},
   "cell_type": "markdown",
   "metadata": {},
   "source": [
    "## String Series and String Methods"
   ]
  },
  {
   "attachments": {},
   "cell_type": "markdown",
   "metadata": {},
   "source": [
    "Supposing the following list of words is instantiated:"
   ]
  },
  {
   "cell_type": "code",
   "execution_count": 249,
   "metadata": {},
   "outputs": [],
   "source": [
    "words = 'the quick brown for jumped over the lazy dog'.split()"
   ]
  },
  {
   "cell_type": "code",
   "execution_count": 250,
   "metadata": {},
   "outputs": [
    {
     "data": {
      "text/plain": [
       "['the', 'quick', 'brown', 'for', 'jumped', 'over', 'the', 'lazy', 'dog']"
      ]
     },
     "execution_count": 250,
     "metadata": {},
     "output_type": "execute_result"
    }
   ],
   "source": [
    "words"
   ]
  },
  {
   "attachments": {},
   "cell_type": "markdown",
   "metadata": {},
   "source": [
    "Using ```len``` of words will return the number of words in the outer collection which is the ```list``` and not the length of each inner collection which is the word:"
   ]
  },
  {
   "cell_type": "code",
   "execution_count": 251,
   "metadata": {},
   "outputs": [
    {
     "data": {
      "text/plain": [
       "9"
      ]
     },
     "execution_count": 251,
     "metadata": {},
     "output_type": "execute_result"
    }
   ],
   "source": [
    "len(words)"
   ]
  },
  {
   "attachments": {},
   "cell_type": "markdown",
   "metadata": {},
   "source": [
    "To instead get a ```list``` of the length of each word, ```list``` comprehension can be used:"
   ]
  },
  {
   "cell_type": "code",
   "execution_count": 252,
   "metadata": {},
   "outputs": [
    {
     "data": {
      "text/plain": [
       "[3, 5, 5, 3, 6, 4, 3, 4, 3]"
      ]
     },
     "execution_count": 252,
     "metadata": {},
     "output_type": "execute_result"
    }
   ],
   "source": [
    "[len(word) for word in words]"
   ]
  },
  {
   "attachments": {},
   "cell_type": "markdown",
   "metadata": {},
   "source": [
    "This can also be done using ```map```:"
   ]
  },
  {
   "cell_type": "code",
   "execution_count": 253,
   "metadata": {},
   "outputs": [
    {
     "data": {
      "text/plain": [
       "<map at 0x218ba9306d0>"
      ]
     },
     "execution_count": 253,
     "metadata": {},
     "output_type": "execute_result"
    }
   ],
   "source": [
    "map(len, words)"
   ]
  },
  {
   "cell_type": "code",
   "execution_count": 254,
   "metadata": {},
   "outputs": [
    {
     "data": {
      "text/plain": [
       "[3, 5, 5, 3, 6, 4, 3, 4, 3]"
      ]
     },
     "execution_count": 254,
     "metadata": {},
     "output_type": "execute_result"
    }
   ],
   "source": [
    "list(map(len, words))"
   ]
  },
  {
   "attachments": {},
   "cell_type": "markdown",
   "metadata": {},
   "source": [
    "If an analogous ```Series``` is instantiated to ```words```:"
   ]
  },
  {
   "cell_type": "code",
   "execution_count": 255,
   "metadata": {},
   "outputs": [],
   "source": [
    "words = pd.Series(data='the quick brown for jumped over the lazy dog'.split())"
   ]
  },
  {
   "cell_type": "code",
   "execution_count": 256,
   "metadata": {},
   "outputs": [
    {
     "data": {
      "text/plain": [
       "0       the\n",
       "1     quick\n",
       "2     brown\n",
       "3       for\n",
       "4    jumped\n",
       "5      over\n",
       "6       the\n",
       "7      lazy\n",
       "8       dog\n",
       "dtype: object"
      ]
     },
     "execution_count": 256,
     "metadata": {},
     "output_type": "execute_result"
    }
   ],
   "source": [
    "words"
   ]
  },
  {
   "attachments": {},
   "cell_type": "markdown",
   "metadata": {},
   "source": [
    "Using ```len``` on the ```Series``` will return the number of rows:"
   ]
  },
  {
   "cell_type": "code",
   "execution_count": 257,
   "metadata": {},
   "outputs": [
    {
     "data": {
      "text/plain": [
       "9"
      ]
     },
     "execution_count": 257,
     "metadata": {},
     "output_type": "execute_result"
    }
   ],
   "source": [
    "len(words)"
   ]
  },
  {
   "attachments": {},
   "cell_type": "markdown",
   "metadata": {},
   "source": [
    "The ```Series``` method ```map``` is similar to the ```builtins``` function ```map``` and can be used to individually ```map``` a ```function``` to the ```Series```:"
   ]
  },
  {
   "cell_type": "code",
   "execution_count": 258,
   "metadata": {},
   "outputs": [
    {
     "data": {
      "text/plain": [
       "0    3\n",
       "1    5\n",
       "2    5\n",
       "3    3\n",
       "4    6\n",
       "5    4\n",
       "6    3\n",
       "7    4\n",
       "8    3\n",
       "dtype: int64"
      ]
     },
     "execution_count": 258,
     "metadata": {},
     "output_type": "execute_result"
    }
   ],
   "source": [
    "words.map(len)"
   ]
  },
  {
   "attachments": {},
   "cell_type": "markdown",
   "metadata": {},
   "source": [
    "Since every element in the ```Series``` is a ```str``` instance, a ```str``` method can be applied to each element using ```map``` and a ```lambda``` expression:"
   ]
  },
  {
   "cell_type": "code",
   "execution_count": 259,
   "metadata": {},
   "outputs": [
    {
     "data": {
      "text/plain": [
       "0       THE\n",
       "1     QUICK\n",
       "2     BROWN\n",
       "3       FOR\n",
       "4    JUMPED\n",
       "5      OVER\n",
       "6       THE\n",
       "7      LAZY\n",
       "8       DOG\n",
       "dtype: object"
      ]
     },
     "execution_count": 259,
     "metadata": {},
     "output_type": "execute_result"
    }
   ],
   "source": [
    "words.map(lambda str: str.upper())"
   ]
  },
  {
   "cell_type": "markdown",
   "metadata": {},
   "source": [
    "Recall that ```str``` instances are ordinal and the ```builtins``` universal ```max``` function can be mapped to get a ```Series``` that has the letter corresponding to the highest ordinal value in the word:"
   ]
  },
  {
   "cell_type": "code",
   "execution_count": 260,
   "metadata": {},
   "outputs": [
    {
     "data": {
      "text/plain": [
       "0    t\n",
       "1    u\n",
       "2    w\n",
       "3    r\n",
       "4    u\n",
       "5    v\n",
       "6    t\n",
       "7    z\n",
       "8    o\n",
       "dtype: object"
      ]
     },
     "execution_count": 260,
     "metadata": {},
     "output_type": "execute_result"
    }
   ],
   "source": [
    "words.map(max)"
   ]
  },
  {
   "cell_type": "markdown",
   "metadata": {},
   "source": [
    "If the ```DataFrame``` is instantiated to ```df```:"
   ]
  },
  {
   "cell_type": "code",
   "execution_count": 261,
   "metadata": {},
   "outputs": [],
   "source": [
    "df = pd.DataFrame({'words': words,\n",
    "                   'maximum': words.map(max)})"
   ]
  },
  {
   "cell_type": "code",
   "execution_count": 262,
   "metadata": {},
   "outputs": [
    {
     "data": {
      "text/html": [
       "<div>\n",
       "<style scoped>\n",
       "    .dataframe tbody tr th:only-of-type {\n",
       "        vertical-align: middle;\n",
       "    }\n",
       "\n",
       "    .dataframe tbody tr th {\n",
       "        vertical-align: top;\n",
       "    }\n",
       "\n",
       "    .dataframe thead th {\n",
       "        text-align: right;\n",
       "    }\n",
       "</style>\n",
       "<table border=\"1\" class=\"dataframe\">\n",
       "  <thead>\n",
       "    <tr style=\"text-align: right;\">\n",
       "      <th></th>\n",
       "      <th>words</th>\n",
       "      <th>maximum</th>\n",
       "    </tr>\n",
       "  </thead>\n",
       "  <tbody>\n",
       "    <tr>\n",
       "      <th>0</th>\n",
       "      <td>the</td>\n",
       "      <td>t</td>\n",
       "    </tr>\n",
       "    <tr>\n",
       "      <th>1</th>\n",
       "      <td>quick</td>\n",
       "      <td>u</td>\n",
       "    </tr>\n",
       "    <tr>\n",
       "      <th>2</th>\n",
       "      <td>brown</td>\n",
       "      <td>w</td>\n",
       "    </tr>\n",
       "    <tr>\n",
       "      <th>3</th>\n",
       "      <td>for</td>\n",
       "      <td>r</td>\n",
       "    </tr>\n",
       "    <tr>\n",
       "      <th>4</th>\n",
       "      <td>jumped</td>\n",
       "      <td>u</td>\n",
       "    </tr>\n",
       "    <tr>\n",
       "      <th>5</th>\n",
       "      <td>over</td>\n",
       "      <td>v</td>\n",
       "    </tr>\n",
       "    <tr>\n",
       "      <th>6</th>\n",
       "      <td>the</td>\n",
       "      <td>t</td>\n",
       "    </tr>\n",
       "    <tr>\n",
       "      <th>7</th>\n",
       "      <td>lazy</td>\n",
       "      <td>z</td>\n",
       "    </tr>\n",
       "    <tr>\n",
       "      <th>8</th>\n",
       "      <td>dog</td>\n",
       "      <td>o</td>\n",
       "    </tr>\n",
       "  </tbody>\n",
       "</table>\n",
       "</div>"
      ],
      "text/plain": [
       "    words maximum\n",
       "0     the       t\n",
       "1   quick       u\n",
       "2   brown       w\n",
       "3     for       r\n",
       "4  jumped       u\n",
       "5    over       v\n",
       "6     the       t\n",
       "7    lazy       z\n",
       "8     dog       o"
      ]
     },
     "execution_count": 262,
     "metadata": {},
     "output_type": "execute_result"
    }
   ],
   "source": [
    "df"
   ]
  },
  {
   "cell_type": "markdown",
   "metadata": {},
   "source": [
    "The ```DataFrame``` has a consistent method ```map``` which operates element by element:"
   ]
  },
  {
   "cell_type": "code",
   "execution_count": 263,
   "metadata": {},
   "outputs": [
    {
     "data": {
      "text/html": [
       "<div>\n",
       "<style scoped>\n",
       "    .dataframe tbody tr th:only-of-type {\n",
       "        vertical-align: middle;\n",
       "    }\n",
       "\n",
       "    .dataframe tbody tr th {\n",
       "        vertical-align: top;\n",
       "    }\n",
       "\n",
       "    .dataframe thead th {\n",
       "        text-align: right;\n",
       "    }\n",
       "</style>\n",
       "<table border=\"1\" class=\"dataframe\">\n",
       "  <thead>\n",
       "    <tr style=\"text-align: right;\">\n",
       "      <th></th>\n",
       "      <th>words</th>\n",
       "      <th>maximum</th>\n",
       "    </tr>\n",
       "  </thead>\n",
       "  <tbody>\n",
       "    <tr>\n",
       "      <th>0</th>\n",
       "      <td>t</td>\n",
       "      <td>t</td>\n",
       "    </tr>\n",
       "    <tr>\n",
       "      <th>1</th>\n",
       "      <td>u</td>\n",
       "      <td>u</td>\n",
       "    </tr>\n",
       "    <tr>\n",
       "      <th>2</th>\n",
       "      <td>w</td>\n",
       "      <td>w</td>\n",
       "    </tr>\n",
       "    <tr>\n",
       "      <th>3</th>\n",
       "      <td>r</td>\n",
       "      <td>r</td>\n",
       "    </tr>\n",
       "    <tr>\n",
       "      <th>4</th>\n",
       "      <td>u</td>\n",
       "      <td>u</td>\n",
       "    </tr>\n",
       "    <tr>\n",
       "      <th>5</th>\n",
       "      <td>v</td>\n",
       "      <td>v</td>\n",
       "    </tr>\n",
       "    <tr>\n",
       "      <th>6</th>\n",
       "      <td>t</td>\n",
       "      <td>t</td>\n",
       "    </tr>\n",
       "    <tr>\n",
       "      <th>7</th>\n",
       "      <td>z</td>\n",
       "      <td>z</td>\n",
       "    </tr>\n",
       "    <tr>\n",
       "      <th>8</th>\n",
       "      <td>o</td>\n",
       "      <td>o</td>\n",
       "    </tr>\n",
       "  </tbody>\n",
       "</table>\n",
       "</div>"
      ],
      "text/plain": [
       "  words maximum\n",
       "0     t       t\n",
       "1     u       u\n",
       "2     w       w\n",
       "3     r       r\n",
       "4     u       u\n",
       "5     v       v\n",
       "6     t       t\n",
       "7     z       z\n",
       "8     o       o"
      ]
     },
     "execution_count": 263,
     "metadata": {},
     "output_type": "execute_result"
    }
   ],
   "source": [
    "df.map(max)"
   ]
  },
  {
   "cell_type": "markdown",
   "metadata": {},
   "source": [
    "The ```DataFrame``` also has the method ```apply``` which operates along an ```axis```:"
   ]
  },
  {
   "cell_type": "code",
   "execution_count": 264,
   "metadata": {},
   "outputs": [
    {
     "data": {
      "text/plain": [
       "words      the\n",
       "maximum      z\n",
       "dtype: object"
      ]
     },
     "execution_count": 264,
     "metadata": {},
     "output_type": "execute_result"
    }
   ],
   "source": [
    "df.apply(max, axis='rows')"
   ]
  },
  {
   "cell_type": "code",
   "execution_count": 265,
   "metadata": {},
   "outputs": [
    {
     "data": {
      "text/plain": [
       "0    the\n",
       "1      u\n",
       "2      w\n",
       "3      r\n",
       "4      u\n",
       "5      v\n",
       "6    the\n",
       "7      z\n",
       "8      o\n",
       "dtype: object"
      ]
     },
     "execution_count": 265,
     "metadata": {},
     "output_type": "execute_result"
    }
   ],
   "source": [
    "df.apply(max, axis='columns')"
   ]
  },
  {
   "cell_type": "markdown",
   "metadata": {},
   "source": [
    "Most universal functions are implemented as ```Series``` and ```DataFrame``` methods:"
   ]
  },
  {
   "cell_type": "code",
   "execution_count": 266,
   "metadata": {},
   "outputs": [
    {
     "data": {
      "text/plain": [
       "'the'"
      ]
     },
     "execution_count": 266,
     "metadata": {},
     "output_type": "execute_result"
    }
   ],
   "source": [
    "words.max(axis='rows')"
   ]
  },
  {
   "cell_type": "code",
   "execution_count": 267,
   "metadata": {},
   "outputs": [
    {
     "data": {
      "text/plain": [
       "'brown'"
      ]
     },
     "execution_count": 267,
     "metadata": {},
     "output_type": "execute_result"
    }
   ],
   "source": [
    "words.min(axis='rows')"
   ]
  },
  {
   "attachments": {},
   "cell_type": "markdown",
   "metadata": {},
   "source": [
    "A ```Series``` has the attribute ```str``` which can be used to quickly access ```str``` methods:"
   ]
  },
  {
   "cell_type": "code",
   "execution_count": 268,
   "metadata": {},
   "outputs": [
    {
     "data": {
      "text/plain": [
       "0    00000000000000000the\n",
       "1    000000000000000quick\n",
       "2    000000000000000brown\n",
       "3    00000000000000000for\n",
       "4    00000000000000jumped\n",
       "5    0000000000000000over\n",
       "6    00000000000000000the\n",
       "7    0000000000000000lazy\n",
       "8    00000000000000000dog\n",
       "dtype: object"
      ]
     },
     "execution_count": 268,
     "metadata": {},
     "output_type": "execute_result"
    }
   ],
   "source": [
    "words.str.zfill(20)"
   ]
  },
  {
   "attachments": {},
   "cell_type": "markdown",
   "metadata": {},
   "source": [
    "The ```str``` datamodel method ```__len__``` is available under the ```str``` attribute as ```len```:"
   ]
  },
  {
   "cell_type": "code",
   "execution_count": 269,
   "metadata": {},
   "outputs": [
    {
     "data": {
      "text/plain": [
       "0    3\n",
       "1    5\n",
       "2    5\n",
       "3    3\n",
       "4    6\n",
       "5    4\n",
       "6    3\n",
       "7    4\n",
       "8    3\n",
       "dtype: int64"
      ]
     },
     "execution_count": 269,
     "metadata": {},
     "output_type": "execute_result"
    }
   ],
   "source": [
    "words.str.len()"
   ]
  },
  {
   "cell_type": "markdown",
   "metadata": {},
   "source": [
    "If the lengths of each strings are examined:"
   ]
  },
  {
   "cell_type": "code",
   "execution_count": 270,
   "metadata": {},
   "outputs": [],
   "source": [
    "lengths = words.map(len)"
   ]
  },
  {
   "cell_type": "code",
   "execution_count": 271,
   "metadata": {},
   "outputs": [
    {
     "data": {
      "text/plain": [
       "0    3\n",
       "1    5\n",
       "2    5\n",
       "3    3\n",
       "4    6\n",
       "5    4\n",
       "6    3\n",
       "7    4\n",
       "8    3\n",
       "dtype: int64"
      ]
     },
     "execution_count": 271,
     "metadata": {},
     "output_type": "execute_result"
    }
   ],
   "source": [
    "lengths"
   ]
  },
  {
   "cell_type": "markdown",
   "metadata": {},
   "source": [
    "A function can be created to cast a numeric length into a ```str``` for example ```3``` to ```'three'```:"
   ]
  },
  {
   "cell_type": "code",
   "execution_count": 272,
   "metadata": {},
   "outputs": [],
   "source": [
    "def get_length_str(length):\n",
    "    match length:\n",
    "        case 3:\n",
    "            return 'three'\n",
    "        case 4:\n",
    "            return 'four'\n",
    "        case 5:\n",
    "            return 'five'\n",
    "        case 6:\n",
    "            return 'six' "
   ]
  },
  {
   "cell_type": "markdown",
   "metadata": {},
   "source": [
    "This function can be applied to the ```length``` ```Series``` using ```map```:"
   ]
  },
  {
   "cell_type": "code",
   "execution_count": 273,
   "metadata": {},
   "outputs": [
    {
     "data": {
      "text/plain": [
       "0    three\n",
       "1     five\n",
       "2     five\n",
       "3    three\n",
       "4      six\n",
       "5     four\n",
       "6    three\n",
       "7     four\n",
       "8    three\n",
       "dtype: object"
      ]
     },
     "execution_count": 273,
     "metadata": {},
     "output_type": "execute_result"
    }
   ],
   "source": [
    "lengths.map(get_length_str)"
   ]
  },
  {
   "attachments": {},
   "cell_type": "markdown",
   "metadata": {},
   "source": [
    "## Numeric Series"
   ]
  },
  {
   "attachments": {},
   "cell_type": "markdown",
   "metadata": {},
   "source": [
    "If a ```DataFrame``` with numeric ```Series``` ```x```, ```y``` and ```z``` is instantiated to ```df```:"
   ]
  },
  {
   "cell_type": "code",
   "execution_count": 274,
   "metadata": {},
   "outputs": [],
   "source": [
    "df = pd.DataFrame({'x': [1, 2, 3, 4, 5],\n",
    "                   'y': [-2, -4, 6, 8, 10],\n",
    "                   'z': [12, 24, 48, -63, -999]})"
   ]
  },
  {
   "cell_type": "code",
   "execution_count": 275,
   "metadata": {},
   "outputs": [
    {
     "data": {
      "text/html": [
       "<div>\n",
       "<style scoped>\n",
       "    .dataframe tbody tr th:only-of-type {\n",
       "        vertical-align: middle;\n",
       "    }\n",
       "\n",
       "    .dataframe tbody tr th {\n",
       "        vertical-align: top;\n",
       "    }\n",
       "\n",
       "    .dataframe thead th {\n",
       "        text-align: right;\n",
       "    }\n",
       "</style>\n",
       "<table border=\"1\" class=\"dataframe\">\n",
       "  <thead>\n",
       "    <tr style=\"text-align: right;\">\n",
       "      <th></th>\n",
       "      <th>x</th>\n",
       "      <th>y</th>\n",
       "      <th>z</th>\n",
       "    </tr>\n",
       "  </thead>\n",
       "  <tbody>\n",
       "    <tr>\n",
       "      <th>0</th>\n",
       "      <td>1</td>\n",
       "      <td>-2</td>\n",
       "      <td>12</td>\n",
       "    </tr>\n",
       "    <tr>\n",
       "      <th>1</th>\n",
       "      <td>2</td>\n",
       "      <td>-4</td>\n",
       "      <td>24</td>\n",
       "    </tr>\n",
       "    <tr>\n",
       "      <th>2</th>\n",
       "      <td>3</td>\n",
       "      <td>6</td>\n",
       "      <td>48</td>\n",
       "    </tr>\n",
       "    <tr>\n",
       "      <th>3</th>\n",
       "      <td>4</td>\n",
       "      <td>8</td>\n",
       "      <td>-63</td>\n",
       "    </tr>\n",
       "    <tr>\n",
       "      <th>4</th>\n",
       "      <td>5</td>\n",
       "      <td>10</td>\n",
       "      <td>-999</td>\n",
       "    </tr>\n",
       "  </tbody>\n",
       "</table>\n",
       "</div>"
      ],
      "text/plain": [
       "   x   y    z\n",
       "0  1  -2   12\n",
       "1  2  -4   24\n",
       "2  3   6   48\n",
       "3  4   8  -63\n",
       "4  5  10 -999"
      ]
     },
     "execution_count": 275,
     "metadata": {},
     "output_type": "execute_result"
    }
   ],
   "source": [
    "df"
   ]
  },
  {
   "attachments": {},
   "cell_type": "markdown",
   "metadata": {},
   "source": [
    "The ```DataFrame``` method ```apply``` can be used to apply the builtins universal function ```max```:"
   ]
  },
  {
   "cell_type": "code",
   "execution_count": 276,
   "metadata": {},
   "outputs": [
    {
     "data": {
      "text/plain": [
       "x     5\n",
       "y    10\n",
       "z    48\n",
       "dtype: int64"
      ]
     },
     "execution_count": 276,
     "metadata": {},
     "output_type": "execute_result"
    }
   ],
   "source": [
    "df.apply(max, axis='rows')"
   ]
  },
  {
   "cell_type": "code",
   "execution_count": 277,
   "metadata": {},
   "outputs": [
    {
     "data": {
      "text/plain": [
       "0    12\n",
       "1    24\n",
       "2    48\n",
       "3     8\n",
       "4    10\n",
       "dtype: int64"
      ]
     },
     "execution_count": 277,
     "metadata": {},
     "output_type": "execute_result"
    }
   ],
   "source": [
    "df.apply(max, axis='columns') "
   ]
  },
  {
   "attachments": {},
   "cell_type": "markdown",
   "metadata": {},
   "source": [
    "Note however that most the universal functions from ```builtins``` or ```numpy``` are implemented directly as ```DataFrame``` methods:"
   ]
  },
  {
   "cell_type": "code",
   "execution_count": 278,
   "metadata": {},
   "outputs": [
    {
     "data": {
      "text/plain": [
       "x     5\n",
       "y    10\n",
       "z    48\n",
       "dtype: int64"
      ]
     },
     "execution_count": 278,
     "metadata": {},
     "output_type": "execute_result"
    }
   ],
   "source": [
    "df.max(axis='rows')"
   ]
  },
  {
   "cell_type": "code",
   "execution_count": 279,
   "metadata": {},
   "outputs": [
    {
     "data": {
      "text/plain": [
       "x      1\n",
       "y     -4\n",
       "z   -999\n",
       "dtype: int64"
      ]
     },
     "execution_count": 279,
     "metadata": {},
     "output_type": "execute_result"
    }
   ],
   "source": [
    "df.min(axis='rows')"
   ]
  },
  {
   "cell_type": "code",
   "execution_count": 280,
   "metadata": {},
   "outputs": [
    {
     "data": {
      "text/plain": [
       "x      3.0\n",
       "y      3.6\n",
       "z   -195.6\n",
       "dtype: float64"
      ]
     },
     "execution_count": 280,
     "metadata": {},
     "output_type": "execute_result"
    }
   ],
   "source": [
    "df.mean(axis='rows')"
   ]
  },
  {
   "cell_type": "code",
   "execution_count": 281,
   "metadata": {},
   "outputs": [
    {
     "data": {
      "text/plain": [
       "x         2.5\n",
       "y        38.8\n",
       "z    203424.3\n",
       "dtype: float64"
      ]
     },
     "execution_count": 281,
     "metadata": {},
     "output_type": "execute_result"
    }
   ],
   "source": [
    "df.var(axis='rows')"
   ]
  },
  {
   "cell_type": "code",
   "execution_count": 282,
   "metadata": {},
   "outputs": [
    {
     "data": {
      "text/plain": [
       "x      1.581139\n",
       "y      6.228965\n",
       "z    451.025831\n",
       "dtype: float64"
      ]
     },
     "execution_count": 282,
     "metadata": {},
     "output_type": "execute_result"
    }
   ],
   "source": [
    "df.std(axis='rows')"
   ]
  },
  {
   "attachments": {},
   "cell_type": "markdown",
   "metadata": {},
   "source": [
    "And the datamodel identifiers for a numeric ```Series``` are configured for numeric operations:"
   ]
  },
  {
   "cell_type": "code",
   "execution_count": 283,
   "metadata": {},
   "outputs": [
    {
     "data": {
      "text/plain": [
       "0    -1\n",
       "1    -2\n",
       "2     9\n",
       "3    12\n",
       "4    15\n",
       "dtype: int64"
      ]
     },
     "execution_count": 283,
     "metadata": {},
     "output_type": "execute_result"
    }
   ],
   "source": [
    "df['x'] + df['y']"
   ]
  },
  {
   "cell_type": "code",
   "execution_count": 284,
   "metadata": {},
   "outputs": [
    {
     "data": {
      "text/plain": [
       "0     6\n",
       "1     7\n",
       "2     8\n",
       "3     9\n",
       "4    10\n",
       "Name: x, dtype: int64"
      ]
     },
     "execution_count": 284,
     "metadata": {},
     "output_type": "execute_result"
    }
   ],
   "source": [
    "df['x'] + 5"
   ]
  },
  {
   "attachments": {},
   "cell_type": "markdown",
   "metadata": {},
   "source": [
    "The ```apply``` function can also be used with a ```tuple``` of universal functions outputting a ```DataFrame``` instance opposed to a Series:"
   ]
  },
  {
   "cell_type": "code",
   "execution_count": 285,
   "metadata": {},
   "outputs": [
    {
     "data": {
      "text/html": [
       "<div>\n",
       "<style scoped>\n",
       "    .dataframe tbody tr th:only-of-type {\n",
       "        vertical-align: middle;\n",
       "    }\n",
       "\n",
       "    .dataframe tbody tr th {\n",
       "        vertical-align: top;\n",
       "    }\n",
       "\n",
       "    .dataframe thead th {\n",
       "        text-align: right;\n",
       "    }\n",
       "</style>\n",
       "<table border=\"1\" class=\"dataframe\">\n",
       "  <thead>\n",
       "    <tr style=\"text-align: right;\">\n",
       "      <th></th>\n",
       "      <th>x</th>\n",
       "      <th>y</th>\n",
       "      <th>z</th>\n",
       "    </tr>\n",
       "  </thead>\n",
       "  <tbody>\n",
       "    <tr>\n",
       "      <th>len</th>\n",
       "      <td>5.000000</td>\n",
       "      <td>5.000000</td>\n",
       "      <td>5.000000</td>\n",
       "    </tr>\n",
       "    <tr>\n",
       "      <th>max</th>\n",
       "      <td>5.000000</td>\n",
       "      <td>10.000000</td>\n",
       "      <td>48.000000</td>\n",
       "    </tr>\n",
       "    <tr>\n",
       "      <th>min</th>\n",
       "      <td>1.000000</td>\n",
       "      <td>-4.000000</td>\n",
       "      <td>-999.000000</td>\n",
       "    </tr>\n",
       "    <tr>\n",
       "      <th>mean</th>\n",
       "      <td>3.000000</td>\n",
       "      <td>3.600000</td>\n",
       "      <td>-195.600000</td>\n",
       "    </tr>\n",
       "    <tr>\n",
       "      <th>var</th>\n",
       "      <td>2.000000</td>\n",
       "      <td>31.040000</td>\n",
       "      <td>162739.440000</td>\n",
       "    </tr>\n",
       "    <tr>\n",
       "      <th>std</th>\n",
       "      <td>1.414214</td>\n",
       "      <td>5.571355</td>\n",
       "      <td>403.409767</td>\n",
       "    </tr>\n",
       "  </tbody>\n",
       "</table>\n",
       "</div>"
      ],
      "text/plain": [
       "             x          y              z\n",
       "len   5.000000   5.000000       5.000000\n",
       "max   5.000000  10.000000      48.000000\n",
       "min   1.000000  -4.000000    -999.000000\n",
       "mean  3.000000   3.600000    -195.600000\n",
       "var   2.000000  31.040000  162739.440000\n",
       "std   1.414214   5.571355     403.409767"
      ]
     },
     "execution_count": 285,
     "metadata": {},
     "output_type": "execute_result"
    }
   ],
   "source": [
    "df.apply((len, max, min, np.mean, np.var, np.std))"
   ]
  },
  {
   "attachments": {},
   "cell_type": "markdown",
   "metadata": {},
   "source": [
    "## Categorical Series"
   ]
  },
  {
   "attachments": {},
   "cell_type": "markdown",
   "metadata": {},
   "source": [
    "Another common type of ```Series``` is a category ```Series```:"
   ]
  },
  {
   "cell_type": "code",
   "execution_count": 286,
   "metadata": {},
   "outputs": [],
   "source": [
    "df = pd.DataFrame({'student_names': ['student' + str(num) for num in range(1, 9)],\n",
    "                   'grades': ['b', 'F', 'A', 'C', 'a', 'C', 'B', 'A']})"
   ]
  },
  {
   "attachments": {},
   "cell_type": "markdown",
   "metadata": {},
   "source": [
    "When instantiated, the categories will normally be recognised as ```str``` instances:"
   ]
  },
  {
   "cell_type": "code",
   "execution_count": 287,
   "metadata": {},
   "outputs": [
    {
     "data": {
      "text/html": [
       "<div>\n",
       "<style scoped>\n",
       "    .dataframe tbody tr th:only-of-type {\n",
       "        vertical-align: middle;\n",
       "    }\n",
       "\n",
       "    .dataframe tbody tr th {\n",
       "        vertical-align: top;\n",
       "    }\n",
       "\n",
       "    .dataframe thead th {\n",
       "        text-align: right;\n",
       "    }\n",
       "</style>\n",
       "<table border=\"1\" class=\"dataframe\">\n",
       "  <thead>\n",
       "    <tr style=\"text-align: right;\">\n",
       "      <th></th>\n",
       "      <th>student_names</th>\n",
       "      <th>grades</th>\n",
       "    </tr>\n",
       "  </thead>\n",
       "  <tbody>\n",
       "    <tr>\n",
       "      <th>0</th>\n",
       "      <td>student1</td>\n",
       "      <td>b</td>\n",
       "    </tr>\n",
       "    <tr>\n",
       "      <th>1</th>\n",
       "      <td>student2</td>\n",
       "      <td>F</td>\n",
       "    </tr>\n",
       "    <tr>\n",
       "      <th>2</th>\n",
       "      <td>student3</td>\n",
       "      <td>A</td>\n",
       "    </tr>\n",
       "    <tr>\n",
       "      <th>3</th>\n",
       "      <td>student4</td>\n",
       "      <td>C</td>\n",
       "    </tr>\n",
       "    <tr>\n",
       "      <th>4</th>\n",
       "      <td>student5</td>\n",
       "      <td>a</td>\n",
       "    </tr>\n",
       "    <tr>\n",
       "      <th>5</th>\n",
       "      <td>student6</td>\n",
       "      <td>C</td>\n",
       "    </tr>\n",
       "    <tr>\n",
       "      <th>6</th>\n",
       "      <td>student7</td>\n",
       "      <td>B</td>\n",
       "    </tr>\n",
       "    <tr>\n",
       "      <th>7</th>\n",
       "      <td>student8</td>\n",
       "      <td>A</td>\n",
       "    </tr>\n",
       "  </tbody>\n",
       "</table>\n",
       "</div>"
      ],
      "text/plain": [
       "  student_names grades\n",
       "0      student1      b\n",
       "1      student2      F\n",
       "2      student3      A\n",
       "3      student4      C\n",
       "4      student5      a\n",
       "5      student6      C\n",
       "6      student7      B\n",
       "7      student8      A"
      ]
     },
     "execution_count": 287,
     "metadata": {},
     "output_type": "execute_result"
    }
   ],
   "source": [
    "df"
   ]
  },
  {
   "attachments": {},
   "cell_type": "markdown",
   "metadata": {},
   "source": [
    "And the datatypes will therefore be ```object``` for each ```Series```:"
   ]
  },
  {
   "cell_type": "code",
   "execution_count": 288,
   "metadata": {},
   "outputs": [
    {
     "data": {
      "text/plain": [
       "student_names    object\n",
       "grades           object\n",
       "dtype: object"
      ]
     },
     "execution_count": 288,
     "metadata": {},
     "output_type": "execute_result"
    }
   ],
   "source": [
    "df.dtypes"
   ]
  },
  {
   "attachments": {},
   "cell_type": "markdown",
   "metadata": {},
   "source": [
    "The datatype of a ```Series``` can be changed using the method ```astype```. To change to category use the input argument ```'category'```:"
   ]
  },
  {
   "cell_type": "code",
   "execution_count": 289,
   "metadata": {},
   "outputs": [
    {
     "data": {
      "text/plain": [
       "0    b\n",
       "1    F\n",
       "2    A\n",
       "3    C\n",
       "4    a\n",
       "5    C\n",
       "6    B\n",
       "7    A\n",
       "Name: grades, dtype: category\n",
       "Categories (6, object): ['A', 'B', 'C', 'F', 'a', 'b']"
      ]
     },
     "execution_count": 289,
     "metadata": {},
     "output_type": "execute_result"
    }
   ],
   "source": [
    "df['grades'].astype('category')"
   ]
  },
  {
   "attachments": {},
   "cell_type": "markdown",
   "metadata": {},
   "source": [
    "The original ```Series``` can be reassigned to the new ```Series``` that are now categorical:"
   ]
  },
  {
   "cell_type": "code",
   "execution_count": 290,
   "metadata": {},
   "outputs": [],
   "source": [
    "df['grades'] = df['grades'].astype('category')"
   ]
  },
  {
   "attachments": {},
   "cell_type": "markdown",
   "metadata": {},
   "source": [
    "If the ```DataFrame``` instance is examined, it looks the same:"
   ]
  },
  {
   "cell_type": "code",
   "execution_count": 291,
   "metadata": {},
   "outputs": [
    {
     "data": {
      "text/html": [
       "<div>\n",
       "<style scoped>\n",
       "    .dataframe tbody tr th:only-of-type {\n",
       "        vertical-align: middle;\n",
       "    }\n",
       "\n",
       "    .dataframe tbody tr th {\n",
       "        vertical-align: top;\n",
       "    }\n",
       "\n",
       "    .dataframe thead th {\n",
       "        text-align: right;\n",
       "    }\n",
       "</style>\n",
       "<table border=\"1\" class=\"dataframe\">\n",
       "  <thead>\n",
       "    <tr style=\"text-align: right;\">\n",
       "      <th></th>\n",
       "      <th>student_names</th>\n",
       "      <th>grades</th>\n",
       "    </tr>\n",
       "  </thead>\n",
       "  <tbody>\n",
       "    <tr>\n",
       "      <th>0</th>\n",
       "      <td>student1</td>\n",
       "      <td>b</td>\n",
       "    </tr>\n",
       "    <tr>\n",
       "      <th>1</th>\n",
       "      <td>student2</td>\n",
       "      <td>F</td>\n",
       "    </tr>\n",
       "    <tr>\n",
       "      <th>2</th>\n",
       "      <td>student3</td>\n",
       "      <td>A</td>\n",
       "    </tr>\n",
       "    <tr>\n",
       "      <th>3</th>\n",
       "      <td>student4</td>\n",
       "      <td>C</td>\n",
       "    </tr>\n",
       "    <tr>\n",
       "      <th>4</th>\n",
       "      <td>student5</td>\n",
       "      <td>a</td>\n",
       "    </tr>\n",
       "    <tr>\n",
       "      <th>5</th>\n",
       "      <td>student6</td>\n",
       "      <td>C</td>\n",
       "    </tr>\n",
       "    <tr>\n",
       "      <th>6</th>\n",
       "      <td>student7</td>\n",
       "      <td>B</td>\n",
       "    </tr>\n",
       "    <tr>\n",
       "      <th>7</th>\n",
       "      <td>student8</td>\n",
       "      <td>A</td>\n",
       "    </tr>\n",
       "  </tbody>\n",
       "</table>\n",
       "</div>"
      ],
      "text/plain": [
       "  student_names grades\n",
       "0      student1      b\n",
       "1      student2      F\n",
       "2      student3      A\n",
       "3      student4      C\n",
       "4      student5      a\n",
       "5      student6      C\n",
       "6      student7      B\n",
       "7      student8      A"
      ]
     },
     "execution_count": 291,
     "metadata": {},
     "output_type": "execute_result"
    }
   ],
   "source": [
    "df"
   ]
  },
  {
   "attachments": {},
   "cell_type": "markdown",
   "metadata": {},
   "source": [
    "However its datatype is updated:"
   ]
  },
  {
   "cell_type": "code",
   "execution_count": 292,
   "metadata": {},
   "outputs": [
    {
     "data": {
      "text/plain": [
       "student_names      object\n",
       "grades           category\n",
       "dtype: object"
      ]
     },
     "execution_count": 292,
     "metadata": {},
     "output_type": "execute_result"
    }
   ],
   "source": [
    "df.dtypes"
   ]
  },
  {
   "attachments": {},
   "cell_type": "markdown",
   "metadata": {},
   "source": [
    "A categorical ```Series``` also has the attribute ```cat``` which groups together attributes and methods commonly used for categorical ```Series```:"
   ]
  },
  {
   "cell_type": "code",
   "execution_count": 293,
   "metadata": {},
   "outputs": [
    {
     "name": "stdout",
     "output_type": "stream",
     "text": [
      "attributes ['categories', 'codes', 'ordered']\n",
      "methods ['add_categories', 'as_ordered', 'as_unordered', 'remove_categories', 'remove_unused_categories', 'rename_categories', 'reorder_categories', 'set_categories']\n"
     ]
    }
   ],
   "source": [
    "print('attributes', end=' ')\n",
    "print_identifier_group(df['grades'].cat, kind='attribute')\n",
    "print('methods', end=' ')\n",
    "print_identifier_group(df['grades'].cat, kind='function')"
   ]
  },
  {
   "cell_type": "markdown",
   "metadata": {},
   "source": [
    "The ```Series.cat``` attribute ```categories``` can be used to get the names of the existing categories:"
   ]
  },
  {
   "cell_type": "code",
   "execution_count": 294,
   "metadata": {},
   "outputs": [
    {
     "data": {
      "text/plain": [
       "Index(['A', 'B', 'C', 'F', 'a', 'b'], dtype='object')"
      ]
     },
     "execution_count": 294,
     "metadata": {},
     "output_type": "execute_result"
    }
   ],
   "source": [
    "df['grades'].cat.categories"
   ]
  },
  {
   "cell_type": "markdown",
   "metadata": {},
   "source": [
    "Notice that these categories have uppercase and lowercase variants. A ```list``` comprehension can be used with a ```str``` method to change the lowercase grades to uppercase:"
   ]
  },
  {
   "cell_type": "code",
   "execution_count": 295,
   "metadata": {},
   "outputs": [
    {
     "data": {
      "text/plain": [
       "['A', 'B', 'C', 'F', 'A', 'B']"
      ]
     },
     "execution_count": 295,
     "metadata": {},
     "output_type": "execute_result"
    }
   ],
   "source": [
    "old_grade_categories = df['grades'].cat.categories\n",
    "new_grade_categories = [grade.upper() for grade in old_grade_categories]\n",
    "new_grade_categories"
   ]
  },
  {
   "cell_type": "markdown",
   "metadata": {},
   "source": [
    "A category mapping can then be created:"
   ]
  },
  {
   "cell_type": "code",
   "execution_count": 296,
   "metadata": {},
   "outputs": [
    {
     "data": {
      "text/plain": [
       "{'A': 'A', 'B': 'B', 'C': 'C', 'F': 'F', 'a': 'A', 'b': 'B'}"
      ]
     },
     "execution_count": 296,
     "metadata": {},
     "output_type": "execute_result"
    }
   ],
   "source": [
    "category_mapping = dict(zip(old_grade_categories, new_grade_categories))\n",
    "category_mapping"
   ]
  },
  {
   "cell_type": "markdown",
   "metadata": {},
   "source": [
    "This is the type of ```mapping``` that can be used with the ```Series.cat``` method ```rename_categories``` however at present this method does not support merging of categories and flags a ```ValueError``` because some of the ```values``` are the same:"
   ]
  },
  {
   "cell_type": "code",
   "execution_count": 297,
   "metadata": {},
   "outputs": [],
   "source": [
    "# df['grades'].cat.rename_categories(category_mapping)"
   ]
  },
  {
   "cell_type": "markdown",
   "metadata": {},
   "source": [
    "It is therefore easier to manipulate the ```str``` datatype ```Series``` and then cast it to a ```category``` datatype ```Series```:"
   ]
  },
  {
   "cell_type": "code",
   "execution_count": 298,
   "metadata": {},
   "outputs": [
    {
     "data": {
      "text/plain": [
       "0    b\n",
       "1    f\n",
       "2    a\n",
       "3    c\n",
       "4    a\n",
       "5    c\n",
       "6    b\n",
       "7    a\n",
       "Name: grades, dtype: category\n",
       "Categories (4, object): ['a', 'b', 'c', 'f']"
      ]
     },
     "execution_count": 298,
     "metadata": {},
     "output_type": "execute_result"
    }
   ],
   "source": [
    "df['grades'] = df['grades'].str.lower().astype('category')\n",
    "df['grades']"
   ]
  },
  {
   "cell_type": "markdown",
   "metadata": {},
   "source": [
    "When all the values in the mapping are unique, the ```DataFrame``` method ```rename_category``` works as expected:"
   ]
  },
  {
   "cell_type": "code",
   "execution_count": 299,
   "metadata": {},
   "outputs": [
    {
     "data": {
      "text/plain": [
       "{'a': 'A', 'b': 'B', 'c': 'C', 'f': 'F'}"
      ]
     },
     "execution_count": 299,
     "metadata": {},
     "output_type": "execute_result"
    }
   ],
   "source": [
    "old_grade_categories = df['grades'].cat.categories\n",
    "new_grade_categories = [grade.upper() for grade in old_grade_categories]\n",
    "category_mapping = dict(zip(old_grade_categories, new_grade_categories))\n",
    "category_mapping"
   ]
  },
  {
   "cell_type": "code",
   "execution_count": 300,
   "metadata": {},
   "outputs": [
    {
     "data": {
      "text/plain": [
       "0    B\n",
       "1    F\n",
       "2    A\n",
       "3    C\n",
       "4    A\n",
       "5    C\n",
       "6    B\n",
       "7    A\n",
       "Name: grades, dtype: category\n",
       "Categories (4, object): ['A', 'B', 'C', 'F']"
      ]
     },
     "execution_count": 300,
     "metadata": {},
     "output_type": "execute_result"
    }
   ],
   "source": [
    "df['grades'] = df['grades'].cat.rename_categories(category_mapping)\n",
    "df['grades']"
   ]
  },
  {
   "attachments": {},
   "cell_type": "markdown",
   "metadata": {},
   "source": [
    "Categories are often used for boolean selectors:"
   ]
  },
  {
   "cell_type": "code",
   "execution_count": 301,
   "metadata": {},
   "outputs": [
    {
     "data": {
      "text/html": [
       "<div>\n",
       "<style scoped>\n",
       "    .dataframe tbody tr th:only-of-type {\n",
       "        vertical-align: middle;\n",
       "    }\n",
       "\n",
       "    .dataframe tbody tr th {\n",
       "        vertical-align: top;\n",
       "    }\n",
       "\n",
       "    .dataframe thead th {\n",
       "        text-align: right;\n",
       "    }\n",
       "</style>\n",
       "<table border=\"1\" class=\"dataframe\">\n",
       "  <thead>\n",
       "    <tr style=\"text-align: right;\">\n",
       "      <th></th>\n",
       "      <th>student_names</th>\n",
       "      <th>grades</th>\n",
       "    </tr>\n",
       "  </thead>\n",
       "  <tbody>\n",
       "    <tr>\n",
       "      <th>2</th>\n",
       "      <td>student3</td>\n",
       "      <td>A</td>\n",
       "    </tr>\n",
       "    <tr>\n",
       "      <th>4</th>\n",
       "      <td>student5</td>\n",
       "      <td>A</td>\n",
       "    </tr>\n",
       "    <tr>\n",
       "      <th>7</th>\n",
       "      <td>student8</td>\n",
       "      <td>A</td>\n",
       "    </tr>\n",
       "  </tbody>\n",
       "</table>\n",
       "</div>"
      ],
      "text/plain": [
       "  student_names grades\n",
       "2      student3      A\n",
       "4      student5      A\n",
       "7      student8      A"
      ]
     },
     "execution_count": 301,
     "metadata": {},
     "output_type": "execute_result"
    }
   ],
   "source": [
    "df[df['grades'] == 'A']"
   ]
  },
  {
   "cell_type": "code",
   "execution_count": 302,
   "metadata": {},
   "outputs": [
    {
     "data": {
      "text/html": [
       "<div>\n",
       "<style scoped>\n",
       "    .dataframe tbody tr th:only-of-type {\n",
       "        vertical-align: middle;\n",
       "    }\n",
       "\n",
       "    .dataframe tbody tr th {\n",
       "        vertical-align: top;\n",
       "    }\n",
       "\n",
       "    .dataframe thead th {\n",
       "        text-align: right;\n",
       "    }\n",
       "</style>\n",
       "<table border=\"1\" class=\"dataframe\">\n",
       "  <thead>\n",
       "    <tr style=\"text-align: right;\">\n",
       "      <th></th>\n",
       "      <th>student_names</th>\n",
       "      <th>grades</th>\n",
       "    </tr>\n",
       "  </thead>\n",
       "  <tbody>\n",
       "    <tr>\n",
       "      <th>0</th>\n",
       "      <td>student1</td>\n",
       "      <td>B</td>\n",
       "    </tr>\n",
       "    <tr>\n",
       "      <th>6</th>\n",
       "      <td>student7</td>\n",
       "      <td>B</td>\n",
       "    </tr>\n",
       "  </tbody>\n",
       "</table>\n",
       "</div>"
      ],
      "text/plain": [
       "  student_names grades\n",
       "0      student1      B\n",
       "6      student7      B"
      ]
     },
     "execution_count": 302,
     "metadata": {},
     "output_type": "execute_result"
    }
   ],
   "source": [
    "df[df['grades'] == 'B']"
   ]
  },
  {
   "cell_type": "code",
   "execution_count": 303,
   "metadata": {},
   "outputs": [
    {
     "data": {
      "text/html": [
       "<div>\n",
       "<style scoped>\n",
       "    .dataframe tbody tr th:only-of-type {\n",
       "        vertical-align: middle;\n",
       "    }\n",
       "\n",
       "    .dataframe tbody tr th {\n",
       "        vertical-align: top;\n",
       "    }\n",
       "\n",
       "    .dataframe thead th {\n",
       "        text-align: right;\n",
       "    }\n",
       "</style>\n",
       "<table border=\"1\" class=\"dataframe\">\n",
       "  <thead>\n",
       "    <tr style=\"text-align: right;\">\n",
       "      <th></th>\n",
       "      <th>student_names</th>\n",
       "      <th>grades</th>\n",
       "    </tr>\n",
       "  </thead>\n",
       "  <tbody>\n",
       "    <tr>\n",
       "      <th>0</th>\n",
       "      <td>student1</td>\n",
       "      <td>B</td>\n",
       "    </tr>\n",
       "    <tr>\n",
       "      <th>2</th>\n",
       "      <td>student3</td>\n",
       "      <td>A</td>\n",
       "    </tr>\n",
       "    <tr>\n",
       "      <th>4</th>\n",
       "      <td>student5</td>\n",
       "      <td>A</td>\n",
       "    </tr>\n",
       "    <tr>\n",
       "      <th>6</th>\n",
       "      <td>student7</td>\n",
       "      <td>B</td>\n",
       "    </tr>\n",
       "    <tr>\n",
       "      <th>7</th>\n",
       "      <td>student8</td>\n",
       "      <td>A</td>\n",
       "    </tr>\n",
       "  </tbody>\n",
       "</table>\n",
       "</div>"
      ],
      "text/plain": [
       "  student_names grades\n",
       "0      student1      B\n",
       "2      student3      A\n",
       "4      student5      A\n",
       "6      student7      B\n",
       "7      student8      A"
      ]
     },
     "execution_count": 303,
     "metadata": {},
     "output_type": "execute_result"
    }
   ],
   "source": [
    "df[(df['grades'] == 'A') | (df['grades'] == 'B')]"
   ]
  },
  {
   "attachments": {},
   "cell_type": "markdown",
   "metadata": {},
   "source": [
    "Only the equal to ```==``` and not equal to ```!=``` operators are defined for unordered categoricals. A ```TypeError``` displays if one of the other comparison operators is attempted to be used:"
   ]
  },
  {
   "attachments": {},
   "cell_type": "markdown",
   "metadata": {},
   "source": [
    "The ```Series.cat``` method ```as_ordered``` can be used to ordinally order categories:"
   ]
  },
  {
   "cell_type": "code",
   "execution_count": 304,
   "metadata": {},
   "outputs": [
    {
     "data": {
      "text/plain": [
       "0    B\n",
       "1    F\n",
       "2    A\n",
       "3    C\n",
       "4    A\n",
       "5    C\n",
       "6    B\n",
       "7    A\n",
       "Name: grades, dtype: category\n",
       "Categories (4, object): ['A' < 'B' < 'C' < 'F']"
      ]
     },
     "execution_count": 304,
     "metadata": {},
     "output_type": "execute_result"
    }
   ],
   "source": [
    "df['grades'].cat.as_ordered()"
   ]
  },
  {
   "attachments": {},
   "cell_type": "markdown",
   "metadata": {},
   "source": [
    "In this case, the order desired is reverse the ordinal values because ```'A'``` corresponds to a higher grade than ```'F'```:"
   ]
  },
  {
   "cell_type": "code",
   "execution_count": 305,
   "metadata": {},
   "outputs": [
    {
     "data": {
      "text/plain": [
       "0    B\n",
       "1    F\n",
       "2    A\n",
       "3    C\n",
       "4    A\n",
       "5    C\n",
       "6    B\n",
       "7    A\n",
       "Name: grades, dtype: category\n",
       "Categories (4, object): ['F' < 'C' < 'B' < 'A']"
      ]
     },
     "execution_count": 305,
     "metadata": {},
     "output_type": "execute_result"
    }
   ],
   "source": [
    "df['grades'].cat.reorder_categories(new_categories = ('F', 'C', 'B', 'A'),\n",
    "                                    ordered=True)"
   ]
  },
  {
   "attachments": {},
   "cell_type": "markdown",
   "metadata": {},
   "source": [
    "The original ```Series``` can be reassigned:"
   ]
  },
  {
   "cell_type": "code",
   "execution_count": 306,
   "metadata": {},
   "outputs": [],
   "source": [
    "df['grades'] = df['grades'].cat.reorder_categories(new_categories = ('F', 'C', 'B', 'A'),\n",
    "                                                   ordered=True)"
   ]
  },
  {
   "cell_type": "code",
   "execution_count": 307,
   "metadata": {},
   "outputs": [
    {
     "data": {
      "text/html": [
       "<div>\n",
       "<style scoped>\n",
       "    .dataframe tbody tr th:only-of-type {\n",
       "        vertical-align: middle;\n",
       "    }\n",
       "\n",
       "    .dataframe tbody tr th {\n",
       "        vertical-align: top;\n",
       "    }\n",
       "\n",
       "    .dataframe thead th {\n",
       "        text-align: right;\n",
       "    }\n",
       "</style>\n",
       "<table border=\"1\" class=\"dataframe\">\n",
       "  <thead>\n",
       "    <tr style=\"text-align: right;\">\n",
       "      <th></th>\n",
       "      <th>student_names</th>\n",
       "      <th>grades</th>\n",
       "    </tr>\n",
       "  </thead>\n",
       "  <tbody>\n",
       "    <tr>\n",
       "      <th>0</th>\n",
       "      <td>student1</td>\n",
       "      <td>B</td>\n",
       "    </tr>\n",
       "    <tr>\n",
       "      <th>2</th>\n",
       "      <td>student3</td>\n",
       "      <td>A</td>\n",
       "    </tr>\n",
       "    <tr>\n",
       "      <th>4</th>\n",
       "      <td>student5</td>\n",
       "      <td>A</td>\n",
       "    </tr>\n",
       "    <tr>\n",
       "      <th>6</th>\n",
       "      <td>student7</td>\n",
       "      <td>B</td>\n",
       "    </tr>\n",
       "    <tr>\n",
       "      <th>7</th>\n",
       "      <td>student8</td>\n",
       "      <td>A</td>\n",
       "    </tr>\n",
       "  </tbody>\n",
       "</table>\n",
       "</div>"
      ],
      "text/plain": [
       "  student_names grades\n",
       "0      student1      B\n",
       "2      student3      A\n",
       "4      student5      A\n",
       "6      student7      B\n",
       "7      student8      A"
      ]
     },
     "execution_count": 307,
     "metadata": {},
     "output_type": "execute_result"
    }
   ],
   "source": [
    "df[df['grades'] >= 'B']"
   ]
  },
  {
   "attachments": {},
   "cell_type": "markdown",
   "metadata": {},
   "source": [
    "When sorting out data in ```DataFrames```, ordinal ```Series``` are quite often used:"
   ]
  },
  {
   "cell_type": "code",
   "execution_count": 308,
   "metadata": {},
   "outputs": [
    {
     "data": {
      "text/html": [
       "<div>\n",
       "<style scoped>\n",
       "    .dataframe tbody tr th:only-of-type {\n",
       "        vertical-align: middle;\n",
       "    }\n",
       "\n",
       "    .dataframe tbody tr th {\n",
       "        vertical-align: top;\n",
       "    }\n",
       "\n",
       "    .dataframe thead th {\n",
       "        text-align: right;\n",
       "    }\n",
       "</style>\n",
       "<table border=\"1\" class=\"dataframe\">\n",
       "  <thead>\n",
       "    <tr style=\"text-align: right;\">\n",
       "      <th></th>\n",
       "      <th>student_names</th>\n",
       "      <th>grades</th>\n",
       "    </tr>\n",
       "  </thead>\n",
       "  <tbody>\n",
       "    <tr>\n",
       "      <th>1</th>\n",
       "      <td>student2</td>\n",
       "      <td>F</td>\n",
       "    </tr>\n",
       "    <tr>\n",
       "      <th>3</th>\n",
       "      <td>student4</td>\n",
       "      <td>C</td>\n",
       "    </tr>\n",
       "    <tr>\n",
       "      <th>5</th>\n",
       "      <td>student6</td>\n",
       "      <td>C</td>\n",
       "    </tr>\n",
       "    <tr>\n",
       "      <th>0</th>\n",
       "      <td>student1</td>\n",
       "      <td>B</td>\n",
       "    </tr>\n",
       "    <tr>\n",
       "      <th>6</th>\n",
       "      <td>student7</td>\n",
       "      <td>B</td>\n",
       "    </tr>\n",
       "    <tr>\n",
       "      <th>2</th>\n",
       "      <td>student3</td>\n",
       "      <td>A</td>\n",
       "    </tr>\n",
       "    <tr>\n",
       "      <th>4</th>\n",
       "      <td>student5</td>\n",
       "      <td>A</td>\n",
       "    </tr>\n",
       "    <tr>\n",
       "      <th>7</th>\n",
       "      <td>student8</td>\n",
       "      <td>A</td>\n",
       "    </tr>\n",
       "  </tbody>\n",
       "</table>\n",
       "</div>"
      ],
      "text/plain": [
       "  student_names grades\n",
       "1      student2      F\n",
       "3      student4      C\n",
       "5      student6      C\n",
       "0      student1      B\n",
       "6      student7      B\n",
       "2      student3      A\n",
       "4      student5      A\n",
       "7      student8      A"
      ]
     },
     "execution_count": 308,
     "metadata": {},
     "output_type": "execute_result"
    }
   ],
   "source": [
    "df.sort_values(['grades', 'student_names'])"
   ]
  },
  {
   "cell_type": "markdown",
   "metadata": {},
   "source": [
    "If the ```DataFrame``` method ```count``` is used, it will return the number of rows in each ```Series``` and return this information as a new ```Series```:"
   ]
  },
  {
   "cell_type": "code",
   "execution_count": 309,
   "metadata": {},
   "outputs": [
    {
     "data": {
      "text/plain": [
       "student_names    8\n",
       "grades           8\n",
       "dtype: int64"
      ]
     },
     "execution_count": 309,
     "metadata": {},
     "output_type": "execute_result"
    }
   ],
   "source": [
    "df.count()"
   ]
  },
  {
   "attachments": {},
   "cell_type": "markdown",
   "metadata": {},
   "source": [
    "A ```GroupBy``` instance can be created:"
   ]
  },
  {
   "cell_type": "code",
   "execution_count": 310,
   "metadata": {},
   "outputs": [],
   "source": [
    "gbo = df.groupby(df['grades'], observed=True)"
   ]
  },
  {
   "cell_type": "markdown",
   "metadata": {},
   "source": [
    "This ```gbo``` instance is essentially a ```DataFrame``` with an additional groupby instruction that is applied when a ```DataFrame``` method such as ```count``` is used. Notice that a ```DataFrame``` instance is returned:"
   ]
  },
  {
   "cell_type": "code",
   "execution_count": 311,
   "metadata": {},
   "outputs": [
    {
     "data": {
      "text/html": [
       "<div>\n",
       "<style scoped>\n",
       "    .dataframe tbody tr th:only-of-type {\n",
       "        vertical-align: middle;\n",
       "    }\n",
       "\n",
       "    .dataframe tbody tr th {\n",
       "        vertical-align: top;\n",
       "    }\n",
       "\n",
       "    .dataframe thead th {\n",
       "        text-align: right;\n",
       "    }\n",
       "</style>\n",
       "<table border=\"1\" class=\"dataframe\">\n",
       "  <thead>\n",
       "    <tr style=\"text-align: right;\">\n",
       "      <th></th>\n",
       "      <th>student_names</th>\n",
       "    </tr>\n",
       "    <tr>\n",
       "      <th>grades</th>\n",
       "      <th></th>\n",
       "    </tr>\n",
       "  </thead>\n",
       "  <tbody>\n",
       "    <tr>\n",
       "      <th>F</th>\n",
       "      <td>1</td>\n",
       "    </tr>\n",
       "    <tr>\n",
       "      <th>C</th>\n",
       "      <td>2</td>\n",
       "    </tr>\n",
       "    <tr>\n",
       "      <th>B</th>\n",
       "      <td>2</td>\n",
       "    </tr>\n",
       "    <tr>\n",
       "      <th>A</th>\n",
       "      <td>3</td>\n",
       "    </tr>\n",
       "  </tbody>\n",
       "</table>\n",
       "</div>"
      ],
      "text/plain": [
       "        student_names\n",
       "grades               \n",
       "F                   1\n",
       "C                   2\n",
       "B                   2\n",
       "A                   3"
      ]
     },
     "execution_count": 311,
     "metadata": {},
     "output_type": "execute_result"
    }
   ],
   "source": [
    "gbo.count()"
   ]
  },
  {
   "cell_type": "markdown",
   "metadata": {},
   "source": [
    "A ```GroupBy``` instance can be created from a ```Series```:"
   ]
  },
  {
   "cell_type": "code",
   "execution_count": 312,
   "metadata": {},
   "outputs": [],
   "source": [
    "gbo = df['grades'].groupby(df['grades'], observed=True)"
   ]
  },
  {
   "attachments": {},
   "cell_type": "markdown",
   "metadata": {},
   "source": [
    "This ```gbo``` instance is essentially a ```Series``` with an additional groupby instruction that is applied when a ```Series``` method such as ```count``` is used. A ```Series``` instance is returned:"
   ]
  },
  {
   "cell_type": "code",
   "execution_count": 313,
   "metadata": {},
   "outputs": [
    {
     "data": {
      "text/plain": [
       "grades\n",
       "F    1\n",
       "C    2\n",
       "B    2\n",
       "A    3\n",
       "Name: grades, dtype: int64"
      ]
     },
     "execution_count": 313,
     "metadata": {},
     "output_type": "execute_result"
    }
   ],
   "source": [
    "gbo.count()"
   ]
  },
  {
   "attachments": {},
   "cell_type": "markdown",
   "metadata": {},
   "source": [
    "Some ```Series``` methods like ```describe``` provide information spanning over multiple ```Series``` and will therefore return a ```DataFrame``` instance: "
   ]
  },
  {
   "cell_type": "code",
   "execution_count": 314,
   "metadata": {},
   "outputs": [
    {
     "data": {
      "text/html": [
       "<div>\n",
       "<style scoped>\n",
       "    .dataframe tbody tr th:only-of-type {\n",
       "        vertical-align: middle;\n",
       "    }\n",
       "\n",
       "    .dataframe tbody tr th {\n",
       "        vertical-align: top;\n",
       "    }\n",
       "\n",
       "    .dataframe thead th {\n",
       "        text-align: right;\n",
       "    }\n",
       "</style>\n",
       "<table border=\"1\" class=\"dataframe\">\n",
       "  <thead>\n",
       "    <tr style=\"text-align: right;\">\n",
       "      <th></th>\n",
       "      <th>count</th>\n",
       "      <th>unique</th>\n",
       "      <th>top</th>\n",
       "      <th>freq</th>\n",
       "    </tr>\n",
       "    <tr>\n",
       "      <th>grades</th>\n",
       "      <th></th>\n",
       "      <th></th>\n",
       "      <th></th>\n",
       "      <th></th>\n",
       "    </tr>\n",
       "  </thead>\n",
       "  <tbody>\n",
       "    <tr>\n",
       "      <th>F</th>\n",
       "      <td>1</td>\n",
       "      <td>1</td>\n",
       "      <td>F</td>\n",
       "      <td>1</td>\n",
       "    </tr>\n",
       "    <tr>\n",
       "      <th>C</th>\n",
       "      <td>2</td>\n",
       "      <td>1</td>\n",
       "      <td>C</td>\n",
       "      <td>2</td>\n",
       "    </tr>\n",
       "    <tr>\n",
       "      <th>B</th>\n",
       "      <td>2</td>\n",
       "      <td>1</td>\n",
       "      <td>B</td>\n",
       "      <td>2</td>\n",
       "    </tr>\n",
       "    <tr>\n",
       "      <th>A</th>\n",
       "      <td>3</td>\n",
       "      <td>1</td>\n",
       "      <td>A</td>\n",
       "      <td>3</td>\n",
       "    </tr>\n",
       "  </tbody>\n",
       "</table>\n",
       "</div>"
      ],
      "text/plain": [
       "       count unique top freq\n",
       "grades                      \n",
       "F          1      1   F    1\n",
       "C          2      1   C    2\n",
       "B          2      1   B    2\n",
       "A          3      1   A    3"
      ]
     },
     "execution_count": 314,
     "metadata": {},
     "output_type": "execute_result"
    }
   ],
   "source": [
    "gbo.describe()"
   ]
  },
  {
   "attachments": {},
   "cell_type": "markdown",
   "metadata": {},
   "source": [
    "Notice the slight difference with the column grouping ```student_names``` being used to group the statistical information (```count```, ```unique```, ```top``` and ```freq```) which for that specific ```Series```."
   ]
  },
  {
   "cell_type": "code",
   "execution_count": 315,
   "metadata": {},
   "outputs": [
    {
     "data": {
      "text/html": [
       "<div>\n",
       "<style scoped>\n",
       "    .dataframe tbody tr th:only-of-type {\n",
       "        vertical-align: middle;\n",
       "    }\n",
       "\n",
       "    .dataframe tbody tr th {\n",
       "        vertical-align: top;\n",
       "    }\n",
       "\n",
       "    .dataframe thead th {\n",
       "        text-align: right;\n",
       "    }\n",
       "</style>\n",
       "<table border=\"1\" class=\"dataframe\">\n",
       "  <thead>\n",
       "    <tr style=\"text-align: right;\">\n",
       "      <th></th>\n",
       "      <th>student_names</th>\n",
       "      <th>grades</th>\n",
       "    </tr>\n",
       "  </thead>\n",
       "  <tbody>\n",
       "    <tr>\n",
       "      <th>0</th>\n",
       "      <td>student1</td>\n",
       "      <td>B</td>\n",
       "    </tr>\n",
       "    <tr>\n",
       "      <th>1</th>\n",
       "      <td>student2</td>\n",
       "      <td>F</td>\n",
       "    </tr>\n",
       "    <tr>\n",
       "      <th>2</th>\n",
       "      <td>student3</td>\n",
       "      <td>A</td>\n",
       "    </tr>\n",
       "    <tr>\n",
       "      <th>3</th>\n",
       "      <td>student4</td>\n",
       "      <td>C</td>\n",
       "    </tr>\n",
       "    <tr>\n",
       "      <th>4</th>\n",
       "      <td>student5</td>\n",
       "      <td>A</td>\n",
       "    </tr>\n",
       "    <tr>\n",
       "      <th>5</th>\n",
       "      <td>student6</td>\n",
       "      <td>C</td>\n",
       "    </tr>\n",
       "    <tr>\n",
       "      <th>6</th>\n",
       "      <td>student7</td>\n",
       "      <td>B</td>\n",
       "    </tr>\n",
       "    <tr>\n",
       "      <th>7</th>\n",
       "      <td>student8</td>\n",
       "      <td>A</td>\n",
       "    </tr>\n",
       "  </tbody>\n",
       "</table>\n",
       "</div>"
      ],
      "text/plain": [
       "  student_names grades\n",
       "0      student1      B\n",
       "1      student2      F\n",
       "2      student3      A\n",
       "3      student4      C\n",
       "4      student5      A\n",
       "5      student6      C\n",
       "6      student7      B\n",
       "7      student8      A"
      ]
     },
     "execution_count": 315,
     "metadata": {},
     "output_type": "execute_result"
    }
   ],
   "source": [
    "df"
   ]
  },
  {
   "attachments": {},
   "cell_type": "markdown",
   "metadata": {},
   "source": [
    "The difference can be seen more clearly if a second category is added to the ```DataFrame```:"
   ]
  },
  {
   "cell_type": "code",
   "execution_count": 316,
   "metadata": {},
   "outputs": [],
   "source": [
    "import random\n",
    "random.seed(0)\n",
    "df['sex'] = pd.Series([random.choice(['F', 'M']) for num in range(8)])\n",
    "df['sex'] = df['sex'].astype('category')"
   ]
  },
  {
   "cell_type": "code",
   "execution_count": 317,
   "metadata": {},
   "outputs": [
    {
     "data": {
      "text/html": [
       "<div>\n",
       "<style scoped>\n",
       "    .dataframe tbody tr th:only-of-type {\n",
       "        vertical-align: middle;\n",
       "    }\n",
       "\n",
       "    .dataframe tbody tr th {\n",
       "        vertical-align: top;\n",
       "    }\n",
       "\n",
       "    .dataframe thead th {\n",
       "        text-align: right;\n",
       "    }\n",
       "</style>\n",
       "<table border=\"1\" class=\"dataframe\">\n",
       "  <thead>\n",
       "    <tr style=\"text-align: right;\">\n",
       "      <th></th>\n",
       "      <th>student_names</th>\n",
       "      <th>grades</th>\n",
       "      <th>sex</th>\n",
       "    </tr>\n",
       "  </thead>\n",
       "  <tbody>\n",
       "    <tr>\n",
       "      <th>0</th>\n",
       "      <td>student1</td>\n",
       "      <td>B</td>\n",
       "      <td>M</td>\n",
       "    </tr>\n",
       "    <tr>\n",
       "      <th>1</th>\n",
       "      <td>student2</td>\n",
       "      <td>F</td>\n",
       "      <td>M</td>\n",
       "    </tr>\n",
       "    <tr>\n",
       "      <th>2</th>\n",
       "      <td>student3</td>\n",
       "      <td>A</td>\n",
       "      <td>F</td>\n",
       "    </tr>\n",
       "    <tr>\n",
       "      <th>3</th>\n",
       "      <td>student4</td>\n",
       "      <td>C</td>\n",
       "      <td>M</td>\n",
       "    </tr>\n",
       "    <tr>\n",
       "      <th>4</th>\n",
       "      <td>student5</td>\n",
       "      <td>A</td>\n",
       "      <td>M</td>\n",
       "    </tr>\n",
       "    <tr>\n",
       "      <th>5</th>\n",
       "      <td>student6</td>\n",
       "      <td>C</td>\n",
       "      <td>M</td>\n",
       "    </tr>\n",
       "    <tr>\n",
       "      <th>6</th>\n",
       "      <td>student7</td>\n",
       "      <td>B</td>\n",
       "      <td>M</td>\n",
       "    </tr>\n",
       "    <tr>\n",
       "      <th>7</th>\n",
       "      <td>student8</td>\n",
       "      <td>A</td>\n",
       "      <td>M</td>\n",
       "    </tr>\n",
       "  </tbody>\n",
       "</table>\n",
       "</div>"
      ],
      "text/plain": [
       "  student_names grades sex\n",
       "0      student1      B   M\n",
       "1      student2      F   M\n",
       "2      student3      A   F\n",
       "3      student4      C   M\n",
       "4      student5      A   M\n",
       "5      student6      C   M\n",
       "6      student7      B   M\n",
       "7      student8      A   M"
      ]
     },
     "execution_count": 317,
     "metadata": {},
     "output_type": "execute_result"
    }
   ],
   "source": [
    "df"
   ]
  },
  {
   "cell_type": "markdown",
   "metadata": {},
   "source": [
    "Now when the ```DataFrame``` instance ```df``` is grouped by the ```Series``` ```grades``` followed by the ```DataFrame``` method ```describe```. Descriptive statistics are shown for each ```Series``` and each of these statistics is grouped using a multilevel ```Index```:"
   ]
  },
  {
   "cell_type": "code",
   "execution_count": 318,
   "metadata": {},
   "outputs": [
    {
     "data": {
      "text/html": [
       "<div>\n",
       "<style scoped>\n",
       "    .dataframe tbody tr th:only-of-type {\n",
       "        vertical-align: middle;\n",
       "    }\n",
       "\n",
       "    .dataframe tbody tr th {\n",
       "        vertical-align: top;\n",
       "    }\n",
       "\n",
       "    .dataframe thead tr th {\n",
       "        text-align: left;\n",
       "    }\n",
       "\n",
       "    .dataframe thead tr:last-of-type th {\n",
       "        text-align: right;\n",
       "    }\n",
       "</style>\n",
       "<table border=\"1\" class=\"dataframe\">\n",
       "  <thead>\n",
       "    <tr>\n",
       "      <th></th>\n",
       "      <th colspan=\"4\" halign=\"left\">student_names</th>\n",
       "      <th colspan=\"4\" halign=\"left\">sex</th>\n",
       "    </tr>\n",
       "    <tr>\n",
       "      <th></th>\n",
       "      <th>count</th>\n",
       "      <th>unique</th>\n",
       "      <th>top</th>\n",
       "      <th>freq</th>\n",
       "      <th>count</th>\n",
       "      <th>unique</th>\n",
       "      <th>top</th>\n",
       "      <th>freq</th>\n",
       "    </tr>\n",
       "    <tr>\n",
       "      <th>grades</th>\n",
       "      <th></th>\n",
       "      <th></th>\n",
       "      <th></th>\n",
       "      <th></th>\n",
       "      <th></th>\n",
       "      <th></th>\n",
       "      <th></th>\n",
       "      <th></th>\n",
       "    </tr>\n",
       "  </thead>\n",
       "  <tbody>\n",
       "    <tr>\n",
       "      <th>F</th>\n",
       "      <td>1</td>\n",
       "      <td>1</td>\n",
       "      <td>student2</td>\n",
       "      <td>1</td>\n",
       "      <td>1</td>\n",
       "      <td>1</td>\n",
       "      <td>M</td>\n",
       "      <td>1</td>\n",
       "    </tr>\n",
       "    <tr>\n",
       "      <th>C</th>\n",
       "      <td>2</td>\n",
       "      <td>2</td>\n",
       "      <td>student4</td>\n",
       "      <td>1</td>\n",
       "      <td>2</td>\n",
       "      <td>1</td>\n",
       "      <td>M</td>\n",
       "      <td>2</td>\n",
       "    </tr>\n",
       "    <tr>\n",
       "      <th>B</th>\n",
       "      <td>2</td>\n",
       "      <td>2</td>\n",
       "      <td>student1</td>\n",
       "      <td>1</td>\n",
       "      <td>2</td>\n",
       "      <td>1</td>\n",
       "      <td>M</td>\n",
       "      <td>2</td>\n",
       "    </tr>\n",
       "    <tr>\n",
       "      <th>A</th>\n",
       "      <td>3</td>\n",
       "      <td>3</td>\n",
       "      <td>student3</td>\n",
       "      <td>1</td>\n",
       "      <td>3</td>\n",
       "      <td>2</td>\n",
       "      <td>M</td>\n",
       "      <td>2</td>\n",
       "    </tr>\n",
       "  </tbody>\n",
       "</table>\n",
       "</div>"
      ],
      "text/plain": [
       "       student_names                         sex                \n",
       "               count unique       top freq count unique top freq\n",
       "grades                                                          \n",
       "F                  1      1  student2    1     1      1   M    1\n",
       "C                  2      2  student4    1     2      1   M    2\n",
       "B                  2      2  student1    1     2      1   M    2\n",
       "A                  3      3  student3    1     3      2   M    2"
      ]
     },
     "execution_count": 318,
     "metadata": {},
     "output_type": "execute_result"
    }
   ],
   "source": [
    "df.groupby('grades', observed=True).describe()"
   ]
  },
  {
   "cell_type": "markdown",
   "metadata": {},
   "source": [
    "If this ```DataFrame``` is indexed into using the top level column name:"
   ]
  },
  {
   "cell_type": "code",
   "execution_count": 319,
   "metadata": {},
   "outputs": [
    {
     "data": {
      "text/html": [
       "<div>\n",
       "<style scoped>\n",
       "    .dataframe tbody tr th:only-of-type {\n",
       "        vertical-align: middle;\n",
       "    }\n",
       "\n",
       "    .dataframe tbody tr th {\n",
       "        vertical-align: top;\n",
       "    }\n",
       "\n",
       "    .dataframe thead th {\n",
       "        text-align: right;\n",
       "    }\n",
       "</style>\n",
       "<table border=\"1\" class=\"dataframe\">\n",
       "  <thead>\n",
       "    <tr style=\"text-align: right;\">\n",
       "      <th></th>\n",
       "      <th>count</th>\n",
       "      <th>unique</th>\n",
       "      <th>top</th>\n",
       "      <th>freq</th>\n",
       "    </tr>\n",
       "    <tr>\n",
       "      <th>grades</th>\n",
       "      <th></th>\n",
       "      <th></th>\n",
       "      <th></th>\n",
       "      <th></th>\n",
       "    </tr>\n",
       "  </thead>\n",
       "  <tbody>\n",
       "    <tr>\n",
       "      <th>F</th>\n",
       "      <td>1</td>\n",
       "      <td>1</td>\n",
       "      <td>M</td>\n",
       "      <td>1</td>\n",
       "    </tr>\n",
       "    <tr>\n",
       "      <th>C</th>\n",
       "      <td>2</td>\n",
       "      <td>1</td>\n",
       "      <td>M</td>\n",
       "      <td>2</td>\n",
       "    </tr>\n",
       "    <tr>\n",
       "      <th>B</th>\n",
       "      <td>2</td>\n",
       "      <td>1</td>\n",
       "      <td>M</td>\n",
       "      <td>2</td>\n",
       "    </tr>\n",
       "    <tr>\n",
       "      <th>A</th>\n",
       "      <td>3</td>\n",
       "      <td>2</td>\n",
       "      <td>M</td>\n",
       "      <td>2</td>\n",
       "    </tr>\n",
       "  </tbody>\n",
       "</table>\n",
       "</div>"
      ],
      "text/plain": [
       "       count unique top freq\n",
       "grades                      \n",
       "F          1      1   M    1\n",
       "C          2      1   M    2\n",
       "B          2      1   M    2\n",
       "A          3      2   M    2"
      ]
     },
     "execution_count": 319,
     "metadata": {},
     "output_type": "execute_result"
    }
   ],
   "source": [
    "df.groupby('grades', observed=True).describe()['sex']"
   ]
  },
  {
   "cell_type": "markdown",
   "metadata": {},
   "source": [
    "This returns a single-index ```DataFrame``` which can also be indexed into for example by using the column name ```count```:"
   ]
  },
  {
   "cell_type": "code",
   "execution_count": 320,
   "metadata": {},
   "outputs": [
    {
     "data": {
      "text/plain": [
       "grades\n",
       "F    1\n",
       "C    2\n",
       "B    2\n",
       "A    3\n",
       "Name: count, dtype: object"
      ]
     },
     "execution_count": 320,
     "metadata": {},
     "output_type": "execute_result"
    }
   ],
   "source": [
    "df.groupby('grades', observed=True).describe()['sex']['count']"
   ]
  },
  {
   "cell_type": "markdown",
   "metadata": {},
   "source": [
    "The ```DataFrame``` can be grouped by a list of multiple ```Series``` names. This gives a multi-level index for both the ```Series``` and ```Index```:"
   ]
  },
  {
   "cell_type": "code",
   "execution_count": 321,
   "metadata": {},
   "outputs": [
    {
     "data": {
      "text/html": [
       "<div>\n",
       "<style scoped>\n",
       "    .dataframe tbody tr th:only-of-type {\n",
       "        vertical-align: middle;\n",
       "    }\n",
       "\n",
       "    .dataframe tbody tr th {\n",
       "        vertical-align: top;\n",
       "    }\n",
       "\n",
       "    .dataframe thead tr th {\n",
       "        text-align: left;\n",
       "    }\n",
       "\n",
       "    .dataframe thead tr:last-of-type th {\n",
       "        text-align: right;\n",
       "    }\n",
       "</style>\n",
       "<table border=\"1\" class=\"dataframe\">\n",
       "  <thead>\n",
       "    <tr>\n",
       "      <th></th>\n",
       "      <th></th>\n",
       "      <th colspan=\"4\" halign=\"left\">student_names</th>\n",
       "    </tr>\n",
       "    <tr>\n",
       "      <th></th>\n",
       "      <th></th>\n",
       "      <th>count</th>\n",
       "      <th>unique</th>\n",
       "      <th>top</th>\n",
       "      <th>freq</th>\n",
       "    </tr>\n",
       "    <tr>\n",
       "      <th>grades</th>\n",
       "      <th>sex</th>\n",
       "      <th></th>\n",
       "      <th></th>\n",
       "      <th></th>\n",
       "      <th></th>\n",
       "    </tr>\n",
       "  </thead>\n",
       "  <tbody>\n",
       "    <tr>\n",
       "      <th>F</th>\n",
       "      <th>M</th>\n",
       "      <td>1</td>\n",
       "      <td>1</td>\n",
       "      <td>student2</td>\n",
       "      <td>1</td>\n",
       "    </tr>\n",
       "    <tr>\n",
       "      <th>C</th>\n",
       "      <th>M</th>\n",
       "      <td>2</td>\n",
       "      <td>2</td>\n",
       "      <td>student4</td>\n",
       "      <td>1</td>\n",
       "    </tr>\n",
       "    <tr>\n",
       "      <th>B</th>\n",
       "      <th>M</th>\n",
       "      <td>2</td>\n",
       "      <td>2</td>\n",
       "      <td>student1</td>\n",
       "      <td>1</td>\n",
       "    </tr>\n",
       "    <tr>\n",
       "      <th rowspan=\"2\" valign=\"top\">A</th>\n",
       "      <th>F</th>\n",
       "      <td>1</td>\n",
       "      <td>1</td>\n",
       "      <td>student3</td>\n",
       "      <td>1</td>\n",
       "    </tr>\n",
       "    <tr>\n",
       "      <th>M</th>\n",
       "      <td>2</td>\n",
       "      <td>2</td>\n",
       "      <td>student5</td>\n",
       "      <td>1</td>\n",
       "    </tr>\n",
       "  </tbody>\n",
       "</table>\n",
       "</div>"
      ],
      "text/plain": [
       "           student_names                      \n",
       "                   count unique       top freq\n",
       "grades sex                                    \n",
       "F      M               1      1  student2    1\n",
       "C      M               2      2  student4    1\n",
       "B      M               2      2  student1    1\n",
       "A      F               1      1  student3    1\n",
       "       M               2      2  student5    1"
      ]
     },
     "execution_count": 321,
     "metadata": {},
     "output_type": "execute_result"
    }
   ],
   "source": [
    "df.groupby(['grades', 'sex'], observed=True).describe()"
   ]
  },
  {
   "cell_type": "markdown",
   "metadata": {},
   "source": [
    "Returning to:"
   ]
  },
  {
   "cell_type": "code",
   "execution_count": 322,
   "metadata": {},
   "outputs": [
    {
     "data": {
      "text/html": [
       "<div>\n",
       "<style scoped>\n",
       "    .dataframe tbody tr th:only-of-type {\n",
       "        vertical-align: middle;\n",
       "    }\n",
       "\n",
       "    .dataframe tbody tr th {\n",
       "        vertical-align: top;\n",
       "    }\n",
       "\n",
       "    .dataframe thead th {\n",
       "        text-align: right;\n",
       "    }\n",
       "</style>\n",
       "<table border=\"1\" class=\"dataframe\">\n",
       "  <thead>\n",
       "    <tr style=\"text-align: right;\">\n",
       "      <th></th>\n",
       "      <th>student_names</th>\n",
       "      <th>grades</th>\n",
       "      <th>sex</th>\n",
       "    </tr>\n",
       "  </thead>\n",
       "  <tbody>\n",
       "    <tr>\n",
       "      <th>0</th>\n",
       "      <td>student1</td>\n",
       "      <td>B</td>\n",
       "      <td>M</td>\n",
       "    </tr>\n",
       "    <tr>\n",
       "      <th>1</th>\n",
       "      <td>student2</td>\n",
       "      <td>F</td>\n",
       "      <td>M</td>\n",
       "    </tr>\n",
       "    <tr>\n",
       "      <th>2</th>\n",
       "      <td>student3</td>\n",
       "      <td>A</td>\n",
       "      <td>F</td>\n",
       "    </tr>\n",
       "    <tr>\n",
       "      <th>3</th>\n",
       "      <td>student4</td>\n",
       "      <td>C</td>\n",
       "      <td>M</td>\n",
       "    </tr>\n",
       "    <tr>\n",
       "      <th>4</th>\n",
       "      <td>student5</td>\n",
       "      <td>A</td>\n",
       "      <td>M</td>\n",
       "    </tr>\n",
       "    <tr>\n",
       "      <th>5</th>\n",
       "      <td>student6</td>\n",
       "      <td>C</td>\n",
       "      <td>M</td>\n",
       "    </tr>\n",
       "    <tr>\n",
       "      <th>6</th>\n",
       "      <td>student7</td>\n",
       "      <td>B</td>\n",
       "      <td>M</td>\n",
       "    </tr>\n",
       "    <tr>\n",
       "      <th>7</th>\n",
       "      <td>student8</td>\n",
       "      <td>A</td>\n",
       "      <td>M</td>\n",
       "    </tr>\n",
       "  </tbody>\n",
       "</table>\n",
       "</div>"
      ],
      "text/plain": [
       "  student_names grades sex\n",
       "0      student1      B   M\n",
       "1      student2      F   M\n",
       "2      student3      A   F\n",
       "3      student4      C   M\n",
       "4      student5      A   M\n",
       "5      student6      C   M\n",
       "6      student7      B   M\n",
       "7      student8      A   M"
      ]
     },
     "execution_count": 322,
     "metadata": {},
     "output_type": "execute_result"
    }
   ],
   "source": [
    "df"
   ]
  },
  {
   "cell_type": "markdown",
   "metadata": {},
   "source": [
    "A function can be made to generate a random ```score``` in response to a ```grade```:"
   ]
  },
  {
   "cell_type": "code",
   "execution_count": 323,
   "metadata": {},
   "outputs": [],
   "source": [
    "def generate_score(grade):\n",
    "    random.seed(0)\n",
    "    match grade:\n",
    "        case 'A':\n",
    "            return random.randint(70, 101)\n",
    "        case 'B':\n",
    "            return random.randint(60, 70)  \n",
    "        case 'C':\n",
    "            return random.randint(50, 60)\n",
    "        case 'F':\n",
    "            return random.randint(0, 50)"
   ]
  },
  {
   "cell_type": "markdown",
   "metadata": {},
   "source": [
    "This custom function can be applied to the ```grades``` ```Series``` to generate a ```Series``` of random marks for each student:"
   ]
  },
  {
   "cell_type": "code",
   "execution_count": 324,
   "metadata": {},
   "outputs": [],
   "source": [
    "df['scores'] = df['grades'].map(generate_score)"
   ]
  },
  {
   "cell_type": "code",
   "execution_count": 325,
   "metadata": {},
   "outputs": [
    {
     "data": {
      "text/html": [
       "<div>\n",
       "<style scoped>\n",
       "    .dataframe tbody tr th:only-of-type {\n",
       "        vertical-align: middle;\n",
       "    }\n",
       "\n",
       "    .dataframe tbody tr th {\n",
       "        vertical-align: top;\n",
       "    }\n",
       "\n",
       "    .dataframe thead th {\n",
       "        text-align: right;\n",
       "    }\n",
       "</style>\n",
       "<table border=\"1\" class=\"dataframe\">\n",
       "  <thead>\n",
       "    <tr style=\"text-align: right;\">\n",
       "      <th></th>\n",
       "      <th>student_names</th>\n",
       "      <th>grades</th>\n",
       "      <th>sex</th>\n",
       "      <th>scores</th>\n",
       "    </tr>\n",
       "  </thead>\n",
       "  <tbody>\n",
       "    <tr>\n",
       "      <th>0</th>\n",
       "      <td>student1</td>\n",
       "      <td>B</td>\n",
       "      <td>M</td>\n",
       "      <td>66</td>\n",
       "    </tr>\n",
       "    <tr>\n",
       "      <th>1</th>\n",
       "      <td>student2</td>\n",
       "      <td>F</td>\n",
       "      <td>M</td>\n",
       "      <td>24</td>\n",
       "    </tr>\n",
       "    <tr>\n",
       "      <th>2</th>\n",
       "      <td>student3</td>\n",
       "      <td>A</td>\n",
       "      <td>F</td>\n",
       "      <td>94</td>\n",
       "    </tr>\n",
       "    <tr>\n",
       "      <th>3</th>\n",
       "      <td>student4</td>\n",
       "      <td>C</td>\n",
       "      <td>M</td>\n",
       "      <td>56</td>\n",
       "    </tr>\n",
       "    <tr>\n",
       "      <th>4</th>\n",
       "      <td>student5</td>\n",
       "      <td>A</td>\n",
       "      <td>M</td>\n",
       "      <td>94</td>\n",
       "    </tr>\n",
       "    <tr>\n",
       "      <th>5</th>\n",
       "      <td>student6</td>\n",
       "      <td>C</td>\n",
       "      <td>M</td>\n",
       "      <td>56</td>\n",
       "    </tr>\n",
       "    <tr>\n",
       "      <th>6</th>\n",
       "      <td>student7</td>\n",
       "      <td>B</td>\n",
       "      <td>M</td>\n",
       "      <td>66</td>\n",
       "    </tr>\n",
       "    <tr>\n",
       "      <th>7</th>\n",
       "      <td>student8</td>\n",
       "      <td>A</td>\n",
       "      <td>M</td>\n",
       "      <td>94</td>\n",
       "    </tr>\n",
       "  </tbody>\n",
       "</table>\n",
       "</div>"
      ],
      "text/plain": [
       "  student_names grades sex scores\n",
       "0      student1      B   M     66\n",
       "1      student2      F   M     24\n",
       "2      student3      A   F     94\n",
       "3      student4      C   M     56\n",
       "4      student5      A   M     94\n",
       "5      student6      C   M     56\n",
       "6      student7      B   M     66\n",
       "7      student8      A   M     94"
      ]
     },
     "execution_count": 325,
     "metadata": {},
     "output_type": "execute_result"
    }
   ],
   "source": [
    "df"
   ]
  },
  {
   "attachments": {},
   "cell_type": "markdown",
   "metadata": {},
   "source": [
    "Categories can be created from ordinal values using the pandas function ```pd.cut```:"
   ]
  },
  {
   "cell_type": "code",
   "execution_count": 326,
   "metadata": {},
   "outputs": [
    {
     "data": {
      "text/plain": [
       "0     (60, 70]\n",
       "1      (0, 50]\n",
       "2    (70, 101]\n",
       "3     (50, 60]\n",
       "4    (70, 101]\n",
       "5     (50, 60]\n",
       "6     (60, 70]\n",
       "7    (70, 101]\n",
       "Name: scores, dtype: category\n",
       "Categories (4, interval[int64, right]): [(0, 50] < (50, 60] < (60, 70] < (70, 101]]"
      ]
     },
     "execution_count": 326,
     "metadata": {},
     "output_type": "execute_result"
    }
   ],
   "source": [
    "pd.cut(x=df['scores'], bins=[0, 50, 60, 70, 101])"
   ]
  },
  {
   "attachments": {},
   "cell_type": "markdown",
   "metadata": {},
   "source": [
    "In the output below the ```(``` means inclusive of the boundary and the ```]``` means exclusive of the top boundary. For convenience this will be inserted into the ```DataFrame``` at column index 3. Recall ```insert``` is an immutable method and occurs in place:"
   ]
  },
  {
   "cell_type": "code",
   "execution_count": 327,
   "metadata": {},
   "outputs": [],
   "source": [
    "df.insert(3, 'score_cats', pd.cut(x=df['scores'], bins=[0, 50, 60, 70, 101]))"
   ]
  },
  {
   "cell_type": "code",
   "execution_count": 328,
   "metadata": {},
   "outputs": [
    {
     "data": {
      "text/html": [
       "<div>\n",
       "<style scoped>\n",
       "    .dataframe tbody tr th:only-of-type {\n",
       "        vertical-align: middle;\n",
       "    }\n",
       "\n",
       "    .dataframe tbody tr th {\n",
       "        vertical-align: top;\n",
       "    }\n",
       "\n",
       "    .dataframe thead th {\n",
       "        text-align: right;\n",
       "    }\n",
       "</style>\n",
       "<table border=\"1\" class=\"dataframe\">\n",
       "  <thead>\n",
       "    <tr style=\"text-align: right;\">\n",
       "      <th></th>\n",
       "      <th>student_names</th>\n",
       "      <th>grades</th>\n",
       "      <th>sex</th>\n",
       "      <th>score_cats</th>\n",
       "      <th>scores</th>\n",
       "    </tr>\n",
       "  </thead>\n",
       "  <tbody>\n",
       "    <tr>\n",
       "      <th>0</th>\n",
       "      <td>student1</td>\n",
       "      <td>B</td>\n",
       "      <td>M</td>\n",
       "      <td>(60, 70]</td>\n",
       "      <td>66</td>\n",
       "    </tr>\n",
       "    <tr>\n",
       "      <th>1</th>\n",
       "      <td>student2</td>\n",
       "      <td>F</td>\n",
       "      <td>M</td>\n",
       "      <td>(0, 50]</td>\n",
       "      <td>24</td>\n",
       "    </tr>\n",
       "    <tr>\n",
       "      <th>2</th>\n",
       "      <td>student3</td>\n",
       "      <td>A</td>\n",
       "      <td>F</td>\n",
       "      <td>(70, 101]</td>\n",
       "      <td>94</td>\n",
       "    </tr>\n",
       "    <tr>\n",
       "      <th>3</th>\n",
       "      <td>student4</td>\n",
       "      <td>C</td>\n",
       "      <td>M</td>\n",
       "      <td>(50, 60]</td>\n",
       "      <td>56</td>\n",
       "    </tr>\n",
       "    <tr>\n",
       "      <th>4</th>\n",
       "      <td>student5</td>\n",
       "      <td>A</td>\n",
       "      <td>M</td>\n",
       "      <td>(70, 101]</td>\n",
       "      <td>94</td>\n",
       "    </tr>\n",
       "    <tr>\n",
       "      <th>5</th>\n",
       "      <td>student6</td>\n",
       "      <td>C</td>\n",
       "      <td>M</td>\n",
       "      <td>(50, 60]</td>\n",
       "      <td>56</td>\n",
       "    </tr>\n",
       "    <tr>\n",
       "      <th>6</th>\n",
       "      <td>student7</td>\n",
       "      <td>B</td>\n",
       "      <td>M</td>\n",
       "      <td>(60, 70]</td>\n",
       "      <td>66</td>\n",
       "    </tr>\n",
       "    <tr>\n",
       "      <th>7</th>\n",
       "      <td>student8</td>\n",
       "      <td>A</td>\n",
       "      <td>M</td>\n",
       "      <td>(70, 101]</td>\n",
       "      <td>94</td>\n",
       "    </tr>\n",
       "  </tbody>\n",
       "</table>\n",
       "</div>"
      ],
      "text/plain": [
       "  student_names grades sex score_cats scores\n",
       "0      student1      B   M   (60, 70]     66\n",
       "1      student2      F   M    (0, 50]     24\n",
       "2      student3      A   F  (70, 101]     94\n",
       "3      student4      C   M   (50, 60]     56\n",
       "4      student5      A   M  (70, 101]     94\n",
       "5      student6      C   M   (50, 60]     56\n",
       "6      student7      B   M   (60, 70]     66\n",
       "7      student8      A   M  (70, 101]     94"
      ]
     },
     "execution_count": 328,
     "metadata": {},
     "output_type": "execute_result"
    }
   ],
   "source": [
    "df"
   ]
  },
  {
   "cell_type": "markdown",
   "metadata": {},
   "source": [
    "```cut``` can be used with the keyword labels. Notice that there are ```5``` values for ```bins``` and ```4``` values for ```labels```, this is because each bin is between two values:"
   ]
  },
  {
   "cell_type": "code",
   "execution_count": 329,
   "metadata": {},
   "outputs": [
    {
     "data": {
      "text/plain": [
       "0    B\n",
       "1    F\n",
       "2    A\n",
       "3    C\n",
       "4    A\n",
       "5    C\n",
       "6    B\n",
       "7    A\n",
       "Name: scores, dtype: category\n",
       "Categories (4, object): ['F' < 'C' < 'B' < 'A']"
      ]
     },
     "execution_count": 329,
     "metadata": {},
     "output_type": "execute_result"
    }
   ],
   "source": [
    "pd.cut(x=df['scores'], bins=[0, 50, 60, 70, 101], labels=['F', 'C', 'B', 'A'])"
   ]
  },
  {
   "cell_type": "markdown",
   "metadata": {},
   "source": [
    "Notice that these categories are also automatically ordinal:"
   ]
  },
  {
   "cell_type": "code",
   "execution_count": 330,
   "metadata": {},
   "outputs": [],
   "source": [
    "df.insert(4, 'calculated_grades', pd.cut(x=df['scores'], bins=[0, 50, 60, 70, 101], labels=['F', 'C', 'B', 'A']))"
   ]
  },
  {
   "cell_type": "code",
   "execution_count": 331,
   "metadata": {},
   "outputs": [
    {
     "data": {
      "text/html": [
       "<div>\n",
       "<style scoped>\n",
       "    .dataframe tbody tr th:only-of-type {\n",
       "        vertical-align: middle;\n",
       "    }\n",
       "\n",
       "    .dataframe tbody tr th {\n",
       "        vertical-align: top;\n",
       "    }\n",
       "\n",
       "    .dataframe thead th {\n",
       "        text-align: right;\n",
       "    }\n",
       "</style>\n",
       "<table border=\"1\" class=\"dataframe\">\n",
       "  <thead>\n",
       "    <tr style=\"text-align: right;\">\n",
       "      <th></th>\n",
       "      <th>student_names</th>\n",
       "      <th>grades</th>\n",
       "      <th>sex</th>\n",
       "      <th>score_cats</th>\n",
       "      <th>calculated_grades</th>\n",
       "      <th>scores</th>\n",
       "    </tr>\n",
       "  </thead>\n",
       "  <tbody>\n",
       "    <tr>\n",
       "      <th>0</th>\n",
       "      <td>student1</td>\n",
       "      <td>B</td>\n",
       "      <td>M</td>\n",
       "      <td>(60, 70]</td>\n",
       "      <td>B</td>\n",
       "      <td>66</td>\n",
       "    </tr>\n",
       "    <tr>\n",
       "      <th>1</th>\n",
       "      <td>student2</td>\n",
       "      <td>F</td>\n",
       "      <td>M</td>\n",
       "      <td>(0, 50]</td>\n",
       "      <td>F</td>\n",
       "      <td>24</td>\n",
       "    </tr>\n",
       "    <tr>\n",
       "      <th>2</th>\n",
       "      <td>student3</td>\n",
       "      <td>A</td>\n",
       "      <td>F</td>\n",
       "      <td>(70, 101]</td>\n",
       "      <td>A</td>\n",
       "      <td>94</td>\n",
       "    </tr>\n",
       "    <tr>\n",
       "      <th>3</th>\n",
       "      <td>student4</td>\n",
       "      <td>C</td>\n",
       "      <td>M</td>\n",
       "      <td>(50, 60]</td>\n",
       "      <td>C</td>\n",
       "      <td>56</td>\n",
       "    </tr>\n",
       "    <tr>\n",
       "      <th>4</th>\n",
       "      <td>student5</td>\n",
       "      <td>A</td>\n",
       "      <td>M</td>\n",
       "      <td>(70, 101]</td>\n",
       "      <td>A</td>\n",
       "      <td>94</td>\n",
       "    </tr>\n",
       "    <tr>\n",
       "      <th>5</th>\n",
       "      <td>student6</td>\n",
       "      <td>C</td>\n",
       "      <td>M</td>\n",
       "      <td>(50, 60]</td>\n",
       "      <td>C</td>\n",
       "      <td>56</td>\n",
       "    </tr>\n",
       "    <tr>\n",
       "      <th>6</th>\n",
       "      <td>student7</td>\n",
       "      <td>B</td>\n",
       "      <td>M</td>\n",
       "      <td>(60, 70]</td>\n",
       "      <td>B</td>\n",
       "      <td>66</td>\n",
       "    </tr>\n",
       "    <tr>\n",
       "      <th>7</th>\n",
       "      <td>student8</td>\n",
       "      <td>A</td>\n",
       "      <td>M</td>\n",
       "      <td>(70, 101]</td>\n",
       "      <td>A</td>\n",
       "      <td>94</td>\n",
       "    </tr>\n",
       "  </tbody>\n",
       "</table>\n",
       "</div>"
      ],
      "text/plain": [
       "  student_names grades sex score_cats calculated_grades scores\n",
       "0      student1      B   M   (60, 70]                 B     66\n",
       "1      student2      F   M    (0, 50]                 F     24\n",
       "2      student3      A   F  (70, 101]                 A     94\n",
       "3      student4      C   M   (50, 60]                 C     56\n",
       "4      student5      A   M  (70, 101]                 A     94\n",
       "5      student6      C   M   (50, 60]                 C     56\n",
       "6      student7      B   M   (60, 70]                 B     66\n",
       "7      student8      A   M  (70, 101]                 A     94"
      ]
     },
     "execution_count": 331,
     "metadata": {},
     "output_type": "execute_result"
    }
   ],
   "source": [
    "df"
   ]
  },
  {
   "attachments": {},
   "cell_type": "markdown",
   "metadata": {},
   "source": [
    "## DateTime"
   ]
  },
  {
   "attachments": {},
   "cell_type": "markdown",
   "metadata": {},
   "source": [
    "In ```pandas``` date and time intervals are based upon the datatypes ```datetime64``` or ```timedelta64``` from the ```numpy``` library:"
   ]
  },
  {
   "attachments": {},
   "cell_type": "markdown",
   "metadata": {},
   "source": [
    "The ```datetime64``` class is normally initialised using a timestamp string of the following format:\n",
    "\n",
    "```python\n",
    "np.datetime64('YYYY-MM-DD')\n",
    "np.datetime64('YYYY-MM-DDThh:mm:ss:μμμμμμ')\n",
    "```"
   ]
  },
  {
   "attachments": {},
   "cell_type": "markdown",
   "metadata": {},
   "source": [
    "For example:"
   ]
  },
  {
   "cell_type": "code",
   "execution_count": 332,
   "metadata": {},
   "outputs": [
    {
     "data": {
      "text/plain": [
       "numpy.datetime64('2023-07-25')"
      ]
     },
     "execution_count": 332,
     "metadata": {},
     "output_type": "execute_result"
    }
   ],
   "source": [
    "np.datetime64('2023-07-25')"
   ]
  },
  {
   "cell_type": "code",
   "execution_count": 333,
   "metadata": {},
   "outputs": [
    {
     "data": {
      "text/plain": [
       "numpy.datetime64('2023-07-25T14:30:15.123456')"
      ]
     },
     "execution_count": 333,
     "metadata": {},
     "output_type": "execute_result"
    }
   ],
   "source": [
    "np.datetime64('2023-07-25T14:30:15.123456')"
   ]
  },
  {
   "attachments": {},
   "cell_type": "markdown",
   "metadata": {},
   "source": [
    "The ```timedelta64``` is normally initialised using a set of tuples where ```X``` is the quantity followed by the unit:\n",
    "\n",
    "```python\n",
    "np.datetime64(X, 'U')\n",
    "```"
   ]
  },
  {
   "cell_type": "markdown",
   "metadata": {},
   "source": [
    "These are usually combined using addition:"
   ]
  },
  {
   "cell_type": "code",
   "execution_count": 334,
   "metadata": {},
   "outputs": [
    {
     "data": {
      "text/plain": [
       "numpy.timedelta64(90001001,'ms')"
      ]
     },
     "execution_count": 334,
     "metadata": {},
     "output_type": "execute_result"
    }
   ],
   "source": [
    "np.timedelta64(1, 'D') + np.timedelta64(1, 'h') + np.timedelta64(1, 's') + np.timedelta64(1, 'ms')"
   ]
  },
  {
   "attachments": {},
   "cell_type": "markdown",
   "metadata": {},
   "source": [
    "These can be used to make an ```Index``` or ```Series``` respectively, using the ```np.arange``` function:"
   ]
  },
  {
   "cell_type": "code",
   "execution_count": 335,
   "metadata": {},
   "outputs": [],
   "source": [
    "start_time = np.datetime64('2023-07-25')\n",
    "end_time = np.datetime64('2023-07-26')\n",
    "time_interval = np.timedelta64(1, 'h')"
   ]
  },
  {
   "cell_type": "code",
   "execution_count": 336,
   "metadata": {},
   "outputs": [],
   "source": [
    "times = np.arange(start=start_time, #inclusive\n",
    "                  stop=end_time, #exclusive\n",
    "                  step=time_interval)"
   ]
  },
  {
   "cell_type": "code",
   "execution_count": 337,
   "metadata": {},
   "outputs": [
    {
     "data": {
      "text/plain": [
       "array(['2023-07-25T00', '2023-07-25T01', '2023-07-25T02', '2023-07-25T03',\n",
       "       '2023-07-25T04', '2023-07-25T05', '2023-07-25T06', '2023-07-25T07',\n",
       "       '2023-07-25T08', '2023-07-25T09', '2023-07-25T10', '2023-07-25T11',\n",
       "       '2023-07-25T12', '2023-07-25T13', '2023-07-25T14', '2023-07-25T15',\n",
       "       '2023-07-25T16', '2023-07-25T17', '2023-07-25T18', '2023-07-25T19',\n",
       "       '2023-07-25T20', '2023-07-25T21', '2023-07-25T22', '2023-07-25T23'],\n",
       "      dtype='datetime64[h]')"
      ]
     },
     "execution_count": 337,
     "metadata": {},
     "output_type": "execute_result"
    }
   ],
   "source": [
    "times"
   ]
  },
  {
   "attachments": {},
   "cell_type": "markdown",
   "metadata": {},
   "source": [
    "These times can be cast into an ```Index``` or ```Series```:"
   ]
  },
  {
   "cell_type": "code",
   "execution_count": 338,
   "metadata": {},
   "outputs": [
    {
     "data": {
      "text/plain": [
       "DatetimeIndex(['2023-07-25 00:00:00', '2023-07-25 01:00:00',\n",
       "               '2023-07-25 02:00:00', '2023-07-25 03:00:00',\n",
       "               '2023-07-25 04:00:00', '2023-07-25 05:00:00',\n",
       "               '2023-07-25 06:00:00', '2023-07-25 07:00:00',\n",
       "               '2023-07-25 08:00:00', '2023-07-25 09:00:00',\n",
       "               '2023-07-25 10:00:00', '2023-07-25 11:00:00',\n",
       "               '2023-07-25 12:00:00', '2023-07-25 13:00:00',\n",
       "               '2023-07-25 14:00:00', '2023-07-25 15:00:00',\n",
       "               '2023-07-25 16:00:00', '2023-07-25 17:00:00',\n",
       "               '2023-07-25 18:00:00', '2023-07-25 19:00:00',\n",
       "               '2023-07-25 20:00:00', '2023-07-25 21:00:00',\n",
       "               '2023-07-25 22:00:00', '2023-07-25 23:00:00'],\n",
       "              dtype='datetime64[s]', freq=None)"
      ]
     },
     "execution_count": 338,
     "metadata": {},
     "output_type": "execute_result"
    }
   ],
   "source": [
    "pd.Index(times)"
   ]
  },
  {
   "cell_type": "code",
   "execution_count": 339,
   "metadata": {},
   "outputs": [
    {
     "data": {
      "text/plain": [
       "0    2023-07-25 00:00:00\n",
       "1    2023-07-25 01:00:00\n",
       "2    2023-07-25 02:00:00\n",
       "3    2023-07-25 03:00:00\n",
       "4    2023-07-25 04:00:00\n",
       "5    2023-07-25 05:00:00\n",
       "6    2023-07-25 06:00:00\n",
       "7    2023-07-25 07:00:00\n",
       "8    2023-07-25 08:00:00\n",
       "9    2023-07-25 09:00:00\n",
       "10   2023-07-25 10:00:00\n",
       "11   2023-07-25 11:00:00\n",
       "12   2023-07-25 12:00:00\n",
       "13   2023-07-25 13:00:00\n",
       "14   2023-07-25 14:00:00\n",
       "15   2023-07-25 15:00:00\n",
       "16   2023-07-25 16:00:00\n",
       "17   2023-07-25 17:00:00\n",
       "18   2023-07-25 18:00:00\n",
       "19   2023-07-25 19:00:00\n",
       "20   2023-07-25 20:00:00\n",
       "21   2023-07-25 21:00:00\n",
       "22   2023-07-25 22:00:00\n",
       "23   2023-07-25 23:00:00\n",
       "Name: times, dtype: datetime64[s]"
      ]
     },
     "execution_count": 339,
     "metadata": {},
     "output_type": "execute_result"
    }
   ],
   "source": [
    "pd.Series(data=times, name='times')"
   ]
  },
  {
   "attachments": {},
   "cell_type": "markdown",
   "metadata": {},
   "source": [
    "The ```Index``` of the datatype ```datetime64``` can be used as a time index alongside measurement Series for example emulated temperature, ph and humidity data:"
   ]
  },
  {
   "cell_type": "code",
   "execution_count": 340,
   "metadata": {},
   "outputs": [],
   "source": [
    "np.random.seed(0)"
   ]
  },
  {
   "cell_type": "code",
   "execution_count": 341,
   "metadata": {},
   "outputs": [],
   "source": [
    "df = pd.DataFrame(index=pd.Index(times),\n",
    "                  data={'temperature': 25 + np.random.randn(24),\n",
    "                        'ph': 7 + np.random.randn(24) / 10,\n",
    "                        'humidity': 100 - np.random.randint(0, 100, 24)})"
   ]
  },
  {
   "cell_type": "code",
   "execution_count": 342,
   "metadata": {},
   "outputs": [
    {
     "data": {
      "text/html": [
       "<div>\n",
       "<style scoped>\n",
       "    .dataframe tbody tr th:only-of-type {\n",
       "        vertical-align: middle;\n",
       "    }\n",
       "\n",
       "    .dataframe tbody tr th {\n",
       "        vertical-align: top;\n",
       "    }\n",
       "\n",
       "    .dataframe thead th {\n",
       "        text-align: right;\n",
       "    }\n",
       "</style>\n",
       "<table border=\"1\" class=\"dataframe\">\n",
       "  <thead>\n",
       "    <tr style=\"text-align: right;\">\n",
       "      <th></th>\n",
       "      <th>temperature</th>\n",
       "      <th>ph</th>\n",
       "      <th>humidity</th>\n",
       "    </tr>\n",
       "  </thead>\n",
       "  <tbody>\n",
       "    <tr>\n",
       "      <th>2023-07-25 00:00:00</th>\n",
       "      <td>26.764052</td>\n",
       "      <td>7.226975</td>\n",
       "      <td>85</td>\n",
       "    </tr>\n",
       "    <tr>\n",
       "      <th>2023-07-25 01:00:00</th>\n",
       "      <td>25.400157</td>\n",
       "      <td>6.854563</td>\n",
       "      <td>80</td>\n",
       "    </tr>\n",
       "    <tr>\n",
       "      <th>2023-07-25 02:00:00</th>\n",
       "      <td>25.978738</td>\n",
       "      <td>7.004576</td>\n",
       "      <td>1</td>\n",
       "    </tr>\n",
       "    <tr>\n",
       "      <th>2023-07-25 03:00:00</th>\n",
       "      <td>27.240893</td>\n",
       "      <td>6.981282</td>\n",
       "      <td>42</td>\n",
       "    </tr>\n",
       "    <tr>\n",
       "      <th>2023-07-25 04:00:00</th>\n",
       "      <td>26.867558</td>\n",
       "      <td>7.153278</td>\n",
       "      <td>77</td>\n",
       "    </tr>\n",
       "    <tr>\n",
       "      <th>2023-07-25 05:00:00</th>\n",
       "      <td>24.022722</td>\n",
       "      <td>7.146936</td>\n",
       "      <td>21</td>\n",
       "    </tr>\n",
       "    <tr>\n",
       "      <th>2023-07-25 06:00:00</th>\n",
       "      <td>25.950088</td>\n",
       "      <td>7.015495</td>\n",
       "      <td>87</td>\n",
       "    </tr>\n",
       "    <tr>\n",
       "      <th>2023-07-25 07:00:00</th>\n",
       "      <td>24.848643</td>\n",
       "      <td>7.037816</td>\n",
       "      <td>15</td>\n",
       "    </tr>\n",
       "    <tr>\n",
       "      <th>2023-07-25 08:00:00</th>\n",
       "      <td>24.896781</td>\n",
       "      <td>6.911221</td>\n",
       "      <td>52</td>\n",
       "    </tr>\n",
       "    <tr>\n",
       "      <th>2023-07-25 09:00:00</th>\n",
       "      <td>25.410599</td>\n",
       "      <td>6.801920</td>\n",
       "      <td>51</td>\n",
       "    </tr>\n",
       "    <tr>\n",
       "      <th>2023-07-25 10:00:00</th>\n",
       "      <td>25.144044</td>\n",
       "      <td>6.965209</td>\n",
       "      <td>31</td>\n",
       "    </tr>\n",
       "    <tr>\n",
       "      <th>2023-07-25 11:00:00</th>\n",
       "      <td>26.454274</td>\n",
       "      <td>7.015635</td>\n",
       "      <td>59</td>\n",
       "    </tr>\n",
       "    <tr>\n",
       "      <th>2023-07-25 12:00:00</th>\n",
       "      <td>25.761038</td>\n",
       "      <td>7.123029</td>\n",
       "      <td>65</td>\n",
       "    </tr>\n",
       "    <tr>\n",
       "      <th>2023-07-25 13:00:00</th>\n",
       "      <td>25.121675</td>\n",
       "      <td>7.120238</td>\n",
       "      <td>36</td>\n",
       "    </tr>\n",
       "    <tr>\n",
       "      <th>2023-07-25 14:00:00</th>\n",
       "      <td>25.443863</td>\n",
       "      <td>6.961267</td>\n",
       "      <td>5</td>\n",
       "    </tr>\n",
       "    <tr>\n",
       "      <th>2023-07-25 15:00:00</th>\n",
       "      <td>25.333674</td>\n",
       "      <td>6.969770</td>\n",
       "      <td>31</td>\n",
       "    </tr>\n",
       "    <tr>\n",
       "      <th>2023-07-25 16:00:00</th>\n",
       "      <td>26.494079</td>\n",
       "      <td>6.895145</td>\n",
       "      <td>6</td>\n",
       "    </tr>\n",
       "    <tr>\n",
       "      <th>2023-07-25 17:00:00</th>\n",
       "      <td>24.794842</td>\n",
       "      <td>6.857998</td>\n",
       "      <td>100</td>\n",
       "    </tr>\n",
       "    <tr>\n",
       "      <th>2023-07-25 18:00:00</th>\n",
       "      <td>25.313068</td>\n",
       "      <td>6.829373</td>\n",
       "      <td>50</td>\n",
       "    </tr>\n",
       "    <tr>\n",
       "      <th>2023-07-25 19:00:00</th>\n",
       "      <td>24.145904</td>\n",
       "      <td>7.195078</td>\n",
       "      <td>64</td>\n",
       "    </tr>\n",
       "    <tr>\n",
       "      <th>2023-07-25 20:00:00</th>\n",
       "      <td>22.447010</td>\n",
       "      <td>6.949035</td>\n",
       "      <td>66</td>\n",
       "    </tr>\n",
       "    <tr>\n",
       "      <th>2023-07-25 21:00:00</th>\n",
       "      <td>25.653619</td>\n",
       "      <td>6.956193</td>\n",
       "      <td>52</td>\n",
       "    </tr>\n",
       "    <tr>\n",
       "      <th>2023-07-25 22:00:00</th>\n",
       "      <td>25.864436</td>\n",
       "      <td>6.874720</td>\n",
       "      <td>7</td>\n",
       "    </tr>\n",
       "    <tr>\n",
       "      <th>2023-07-25 23:00:00</th>\n",
       "      <td>24.257835</td>\n",
       "      <td>7.077749</td>\n",
       "      <td>97</td>\n",
       "    </tr>\n",
       "  </tbody>\n",
       "</table>\n",
       "</div>"
      ],
      "text/plain": [
       "                     temperature        ph  humidity\n",
       "2023-07-25 00:00:00    26.764052  7.226975        85\n",
       "2023-07-25 01:00:00    25.400157  6.854563        80\n",
       "2023-07-25 02:00:00    25.978738  7.004576         1\n",
       "2023-07-25 03:00:00    27.240893  6.981282        42\n",
       "2023-07-25 04:00:00    26.867558  7.153278        77\n",
       "2023-07-25 05:00:00    24.022722  7.146936        21\n",
       "2023-07-25 06:00:00    25.950088  7.015495        87\n",
       "2023-07-25 07:00:00    24.848643  7.037816        15\n",
       "2023-07-25 08:00:00    24.896781  6.911221        52\n",
       "2023-07-25 09:00:00    25.410599  6.801920        51\n",
       "2023-07-25 10:00:00    25.144044  6.965209        31\n",
       "2023-07-25 11:00:00    26.454274  7.015635        59\n",
       "2023-07-25 12:00:00    25.761038  7.123029        65\n",
       "2023-07-25 13:00:00    25.121675  7.120238        36\n",
       "2023-07-25 14:00:00    25.443863  6.961267         5\n",
       "2023-07-25 15:00:00    25.333674  6.969770        31\n",
       "2023-07-25 16:00:00    26.494079  6.895145         6\n",
       "2023-07-25 17:00:00    24.794842  6.857998       100\n",
       "2023-07-25 18:00:00    25.313068  6.829373        50\n",
       "2023-07-25 19:00:00    24.145904  7.195078        64\n",
       "2023-07-25 20:00:00    22.447010  6.949035        66\n",
       "2023-07-25 21:00:00    25.653619  6.956193        52\n",
       "2023-07-25 22:00:00    25.864436  6.874720         7\n",
       "2023-07-25 23:00:00    24.257835  7.077749        97"
      ]
     },
     "execution_count": 342,
     "metadata": {},
     "output_type": "execute_result"
    }
   ],
   "source": [
    "df"
   ]
  },
  {
   "attachments": {},
   "cell_type": "markdown",
   "metadata": {},
   "source": [
    "```loc``` can be used to retrieve the data at a specified ```datetime64```:"
   ]
  },
  {
   "cell_type": "code",
   "execution_count": 343,
   "metadata": {},
   "outputs": [
    {
     "data": {
      "text/plain": [
       "temperature    25.400157\n",
       "ph              6.854563\n",
       "humidity       80.000000\n",
       "Name: 2023-07-25 01:00:00, dtype: float64"
      ]
     },
     "execution_count": 343,
     "metadata": {},
     "output_type": "execute_result"
    }
   ],
   "source": [
    "df.loc['2023-07-25T01:00:00']"
   ]
  },
  {
   "attachments": {},
   "cell_type": "markdown",
   "metadata": {},
   "source": [
    "```iloc``` can also be used with the ```int``` which would correspond to the ```RangeIndex``` if the ```Index``` is reset:"
   ]
  },
  {
   "cell_type": "code",
   "execution_count": 344,
   "metadata": {},
   "outputs": [
    {
     "data": {
      "text/plain": [
       "temperature    25.400157\n",
       "ph              6.854563\n",
       "humidity       80.000000\n",
       "Name: 2023-07-25 01:00:00, dtype: float64"
      ]
     },
     "execution_count": 344,
     "metadata": {},
     "output_type": "execute_result"
    }
   ],
   "source": [
    "df.iloc[1]"
   ]
  },
  {
   "attachments": {},
   "cell_type": "markdown",
   "metadata": {},
   "source": [
    "A comparison between two times can be made:"
   ]
  },
  {
   "cell_type": "code",
   "execution_count": 345,
   "metadata": {},
   "outputs": [
    {
     "data": {
      "text/plain": [
       "temperature     1.093922\n",
       "ph              0.040581\n",
       "humidity      -74.000000\n",
       "dtype: float64"
      ]
     },
     "execution_count": 345,
     "metadata": {},
     "output_type": "execute_result"
    }
   ],
   "source": [
    "df.loc['2023-07-25 16:00:00'] - df.loc['2023-07-25T01:00:00']"
   ]
  },
  {
   "attachments": {},
   "cell_type": "markdown",
   "metadata": {},
   "source": [
    "In addition to the ```Index``` of datatype ```datetime64``` the ```Series``` instance ```times``` can be added to the ```DataFrame``` instance ```df```:"
   ]
  },
  {
   "cell_type": "code",
   "execution_count": 346,
   "metadata": {},
   "outputs": [],
   "source": [
    "df['times'] = times"
   ]
  },
  {
   "cell_type": "code",
   "execution_count": 347,
   "metadata": {},
   "outputs": [
    {
     "data": {
      "text/html": [
       "<div>\n",
       "<style scoped>\n",
       "    .dataframe tbody tr th:only-of-type {\n",
       "        vertical-align: middle;\n",
       "    }\n",
       "\n",
       "    .dataframe tbody tr th {\n",
       "        vertical-align: top;\n",
       "    }\n",
       "\n",
       "    .dataframe thead th {\n",
       "        text-align: right;\n",
       "    }\n",
       "</style>\n",
       "<table border=\"1\" class=\"dataframe\">\n",
       "  <thead>\n",
       "    <tr style=\"text-align: right;\">\n",
       "      <th></th>\n",
       "      <th>temperature</th>\n",
       "      <th>ph</th>\n",
       "      <th>humidity</th>\n",
       "      <th>times</th>\n",
       "    </tr>\n",
       "  </thead>\n",
       "  <tbody>\n",
       "    <tr>\n",
       "      <th>2023-07-25 00:00:00</th>\n",
       "      <td>26.764052</td>\n",
       "      <td>7.226975</td>\n",
       "      <td>85</td>\n",
       "      <td>2023-07-25 00:00:00</td>\n",
       "    </tr>\n",
       "    <tr>\n",
       "      <th>2023-07-25 01:00:00</th>\n",
       "      <td>25.400157</td>\n",
       "      <td>6.854563</td>\n",
       "      <td>80</td>\n",
       "      <td>2023-07-25 01:00:00</td>\n",
       "    </tr>\n",
       "    <tr>\n",
       "      <th>2023-07-25 02:00:00</th>\n",
       "      <td>25.978738</td>\n",
       "      <td>7.004576</td>\n",
       "      <td>1</td>\n",
       "      <td>2023-07-25 02:00:00</td>\n",
       "    </tr>\n",
       "    <tr>\n",
       "      <th>2023-07-25 03:00:00</th>\n",
       "      <td>27.240893</td>\n",
       "      <td>6.981282</td>\n",
       "      <td>42</td>\n",
       "      <td>2023-07-25 03:00:00</td>\n",
       "    </tr>\n",
       "    <tr>\n",
       "      <th>2023-07-25 04:00:00</th>\n",
       "      <td>26.867558</td>\n",
       "      <td>7.153278</td>\n",
       "      <td>77</td>\n",
       "      <td>2023-07-25 04:00:00</td>\n",
       "    </tr>\n",
       "    <tr>\n",
       "      <th>2023-07-25 05:00:00</th>\n",
       "      <td>24.022722</td>\n",
       "      <td>7.146936</td>\n",
       "      <td>21</td>\n",
       "      <td>2023-07-25 05:00:00</td>\n",
       "    </tr>\n",
       "    <tr>\n",
       "      <th>2023-07-25 06:00:00</th>\n",
       "      <td>25.950088</td>\n",
       "      <td>7.015495</td>\n",
       "      <td>87</td>\n",
       "      <td>2023-07-25 06:00:00</td>\n",
       "    </tr>\n",
       "    <tr>\n",
       "      <th>2023-07-25 07:00:00</th>\n",
       "      <td>24.848643</td>\n",
       "      <td>7.037816</td>\n",
       "      <td>15</td>\n",
       "      <td>2023-07-25 07:00:00</td>\n",
       "    </tr>\n",
       "    <tr>\n",
       "      <th>2023-07-25 08:00:00</th>\n",
       "      <td>24.896781</td>\n",
       "      <td>6.911221</td>\n",
       "      <td>52</td>\n",
       "      <td>2023-07-25 08:00:00</td>\n",
       "    </tr>\n",
       "    <tr>\n",
       "      <th>2023-07-25 09:00:00</th>\n",
       "      <td>25.410599</td>\n",
       "      <td>6.801920</td>\n",
       "      <td>51</td>\n",
       "      <td>2023-07-25 09:00:00</td>\n",
       "    </tr>\n",
       "    <tr>\n",
       "      <th>2023-07-25 10:00:00</th>\n",
       "      <td>25.144044</td>\n",
       "      <td>6.965209</td>\n",
       "      <td>31</td>\n",
       "      <td>2023-07-25 10:00:00</td>\n",
       "    </tr>\n",
       "    <tr>\n",
       "      <th>2023-07-25 11:00:00</th>\n",
       "      <td>26.454274</td>\n",
       "      <td>7.015635</td>\n",
       "      <td>59</td>\n",
       "      <td>2023-07-25 11:00:00</td>\n",
       "    </tr>\n",
       "    <tr>\n",
       "      <th>2023-07-25 12:00:00</th>\n",
       "      <td>25.761038</td>\n",
       "      <td>7.123029</td>\n",
       "      <td>65</td>\n",
       "      <td>2023-07-25 12:00:00</td>\n",
       "    </tr>\n",
       "    <tr>\n",
       "      <th>2023-07-25 13:00:00</th>\n",
       "      <td>25.121675</td>\n",
       "      <td>7.120238</td>\n",
       "      <td>36</td>\n",
       "      <td>2023-07-25 13:00:00</td>\n",
       "    </tr>\n",
       "    <tr>\n",
       "      <th>2023-07-25 14:00:00</th>\n",
       "      <td>25.443863</td>\n",
       "      <td>6.961267</td>\n",
       "      <td>5</td>\n",
       "      <td>2023-07-25 14:00:00</td>\n",
       "    </tr>\n",
       "    <tr>\n",
       "      <th>2023-07-25 15:00:00</th>\n",
       "      <td>25.333674</td>\n",
       "      <td>6.969770</td>\n",
       "      <td>31</td>\n",
       "      <td>2023-07-25 15:00:00</td>\n",
       "    </tr>\n",
       "    <tr>\n",
       "      <th>2023-07-25 16:00:00</th>\n",
       "      <td>26.494079</td>\n",
       "      <td>6.895145</td>\n",
       "      <td>6</td>\n",
       "      <td>2023-07-25 16:00:00</td>\n",
       "    </tr>\n",
       "    <tr>\n",
       "      <th>2023-07-25 17:00:00</th>\n",
       "      <td>24.794842</td>\n",
       "      <td>6.857998</td>\n",
       "      <td>100</td>\n",
       "      <td>2023-07-25 17:00:00</td>\n",
       "    </tr>\n",
       "    <tr>\n",
       "      <th>2023-07-25 18:00:00</th>\n",
       "      <td>25.313068</td>\n",
       "      <td>6.829373</td>\n",
       "      <td>50</td>\n",
       "      <td>2023-07-25 18:00:00</td>\n",
       "    </tr>\n",
       "    <tr>\n",
       "      <th>2023-07-25 19:00:00</th>\n",
       "      <td>24.145904</td>\n",
       "      <td>7.195078</td>\n",
       "      <td>64</td>\n",
       "      <td>2023-07-25 19:00:00</td>\n",
       "    </tr>\n",
       "    <tr>\n",
       "      <th>2023-07-25 20:00:00</th>\n",
       "      <td>22.447010</td>\n",
       "      <td>6.949035</td>\n",
       "      <td>66</td>\n",
       "      <td>2023-07-25 20:00:00</td>\n",
       "    </tr>\n",
       "    <tr>\n",
       "      <th>2023-07-25 21:00:00</th>\n",
       "      <td>25.653619</td>\n",
       "      <td>6.956193</td>\n",
       "      <td>52</td>\n",
       "      <td>2023-07-25 21:00:00</td>\n",
       "    </tr>\n",
       "    <tr>\n",
       "      <th>2023-07-25 22:00:00</th>\n",
       "      <td>25.864436</td>\n",
       "      <td>6.874720</td>\n",
       "      <td>7</td>\n",
       "      <td>2023-07-25 22:00:00</td>\n",
       "    </tr>\n",
       "    <tr>\n",
       "      <th>2023-07-25 23:00:00</th>\n",
       "      <td>24.257835</td>\n",
       "      <td>7.077749</td>\n",
       "      <td>97</td>\n",
       "      <td>2023-07-25 23:00:00</td>\n",
       "    </tr>\n",
       "  </tbody>\n",
       "</table>\n",
       "</div>"
      ],
      "text/plain": [
       "                     temperature        ph  humidity               times\n",
       "2023-07-25 00:00:00    26.764052  7.226975        85 2023-07-25 00:00:00\n",
       "2023-07-25 01:00:00    25.400157  6.854563        80 2023-07-25 01:00:00\n",
       "2023-07-25 02:00:00    25.978738  7.004576         1 2023-07-25 02:00:00\n",
       "2023-07-25 03:00:00    27.240893  6.981282        42 2023-07-25 03:00:00\n",
       "2023-07-25 04:00:00    26.867558  7.153278        77 2023-07-25 04:00:00\n",
       "2023-07-25 05:00:00    24.022722  7.146936        21 2023-07-25 05:00:00\n",
       "2023-07-25 06:00:00    25.950088  7.015495        87 2023-07-25 06:00:00\n",
       "2023-07-25 07:00:00    24.848643  7.037816        15 2023-07-25 07:00:00\n",
       "2023-07-25 08:00:00    24.896781  6.911221        52 2023-07-25 08:00:00\n",
       "2023-07-25 09:00:00    25.410599  6.801920        51 2023-07-25 09:00:00\n",
       "2023-07-25 10:00:00    25.144044  6.965209        31 2023-07-25 10:00:00\n",
       "2023-07-25 11:00:00    26.454274  7.015635        59 2023-07-25 11:00:00\n",
       "2023-07-25 12:00:00    25.761038  7.123029        65 2023-07-25 12:00:00\n",
       "2023-07-25 13:00:00    25.121675  7.120238        36 2023-07-25 13:00:00\n",
       "2023-07-25 14:00:00    25.443863  6.961267         5 2023-07-25 14:00:00\n",
       "2023-07-25 15:00:00    25.333674  6.969770        31 2023-07-25 15:00:00\n",
       "2023-07-25 16:00:00    26.494079  6.895145         6 2023-07-25 16:00:00\n",
       "2023-07-25 17:00:00    24.794842  6.857998       100 2023-07-25 17:00:00\n",
       "2023-07-25 18:00:00    25.313068  6.829373        50 2023-07-25 18:00:00\n",
       "2023-07-25 19:00:00    24.145904  7.195078        64 2023-07-25 19:00:00\n",
       "2023-07-25 20:00:00    22.447010  6.949035        66 2023-07-25 20:00:00\n",
       "2023-07-25 21:00:00    25.653619  6.956193        52 2023-07-25 21:00:00\n",
       "2023-07-25 22:00:00    25.864436  6.874720         7 2023-07-25 22:00:00\n",
       "2023-07-25 23:00:00    24.257835  7.077749        97 2023-07-25 23:00:00"
      ]
     },
     "execution_count": 347,
     "metadata": {},
     "output_type": "execute_result"
    }
   ],
   "source": [
    "df"
   ]
  },
  {
   "attachments": {},
   "cell_type": "markdown",
   "metadata": {},
   "source": [
    "When ```loc``` is used to calculate the difference between two measurements at the two different times, the time difference, i.e. ```timedelta64``` will be calculated:"
   ]
  },
  {
   "cell_type": "code",
   "execution_count": 348,
   "metadata": {},
   "outputs": [
    {
     "data": {
      "text/plain": [
       "temperature           1.093922\n",
       "ph                    0.040581\n",
       "humidity                   -74\n",
       "times          0 days 15:00:00\n",
       "dtype: object"
      ]
     },
     "execution_count": 348,
     "metadata": {},
     "output_type": "execute_result"
    }
   ],
   "source": [
    "df.loc['2023-07-25 16:00:00'] - df.loc['2023-07-25T01:00:00']"
   ]
  },
  {
   "attachments": {},
   "cell_type": "markdown",
   "metadata": {},
   "source": [
    "The ```Series``` method ```tz_localize``` can be used to specify a ```timezone``` using the input argument ```tz```. For example in the UK:"
   ]
  },
  {
   "cell_type": "code",
   "execution_count": 349,
   "metadata": {},
   "outputs": [
    {
     "data": {
      "text/plain": [
       "2023-07-25 00:00:00+01:00   2023-07-25 00:00:00\n",
       "2023-07-25 01:00:00+01:00   2023-07-25 01:00:00\n",
       "2023-07-25 02:00:00+01:00   2023-07-25 02:00:00\n",
       "2023-07-25 03:00:00+01:00   2023-07-25 03:00:00\n",
       "2023-07-25 04:00:00+01:00   2023-07-25 04:00:00\n",
       "2023-07-25 05:00:00+01:00   2023-07-25 05:00:00\n",
       "2023-07-25 06:00:00+01:00   2023-07-25 06:00:00\n",
       "2023-07-25 07:00:00+01:00   2023-07-25 07:00:00\n",
       "2023-07-25 08:00:00+01:00   2023-07-25 08:00:00\n",
       "2023-07-25 09:00:00+01:00   2023-07-25 09:00:00\n",
       "2023-07-25 10:00:00+01:00   2023-07-25 10:00:00\n",
       "2023-07-25 11:00:00+01:00   2023-07-25 11:00:00\n",
       "2023-07-25 12:00:00+01:00   2023-07-25 12:00:00\n",
       "2023-07-25 13:00:00+01:00   2023-07-25 13:00:00\n",
       "2023-07-25 14:00:00+01:00   2023-07-25 14:00:00\n",
       "2023-07-25 15:00:00+01:00   2023-07-25 15:00:00\n",
       "2023-07-25 16:00:00+01:00   2023-07-25 16:00:00\n",
       "2023-07-25 17:00:00+01:00   2023-07-25 17:00:00\n",
       "2023-07-25 18:00:00+01:00   2023-07-25 18:00:00\n",
       "2023-07-25 19:00:00+01:00   2023-07-25 19:00:00\n",
       "2023-07-25 20:00:00+01:00   2023-07-25 20:00:00\n",
       "2023-07-25 21:00:00+01:00   2023-07-25 21:00:00\n",
       "2023-07-25 22:00:00+01:00   2023-07-25 22:00:00\n",
       "2023-07-25 23:00:00+01:00   2023-07-25 23:00:00\n",
       "Name: times, dtype: datetime64[s]"
      ]
     },
     "execution_count": 349,
     "metadata": {},
     "output_type": "execute_result"
    }
   ],
   "source": [
    "df['times'].tz_localize(tz='Europe/London')"
   ]
  },
  {
   "attachments": {},
   "cell_type": "markdown",
   "metadata": {},
   "source": [
    "And in the Czech Republic:"
   ]
  },
  {
   "cell_type": "code",
   "execution_count": 350,
   "metadata": {},
   "outputs": [
    {
     "data": {
      "text/plain": [
       "2023-07-25 00:00:00+02:00   2023-07-25 00:00:00\n",
       "2023-07-25 01:00:00+02:00   2023-07-25 01:00:00\n",
       "2023-07-25 02:00:00+02:00   2023-07-25 02:00:00\n",
       "2023-07-25 03:00:00+02:00   2023-07-25 03:00:00\n",
       "2023-07-25 04:00:00+02:00   2023-07-25 04:00:00\n",
       "2023-07-25 05:00:00+02:00   2023-07-25 05:00:00\n",
       "2023-07-25 06:00:00+02:00   2023-07-25 06:00:00\n",
       "2023-07-25 07:00:00+02:00   2023-07-25 07:00:00\n",
       "2023-07-25 08:00:00+02:00   2023-07-25 08:00:00\n",
       "2023-07-25 09:00:00+02:00   2023-07-25 09:00:00\n",
       "2023-07-25 10:00:00+02:00   2023-07-25 10:00:00\n",
       "2023-07-25 11:00:00+02:00   2023-07-25 11:00:00\n",
       "2023-07-25 12:00:00+02:00   2023-07-25 12:00:00\n",
       "2023-07-25 13:00:00+02:00   2023-07-25 13:00:00\n",
       "2023-07-25 14:00:00+02:00   2023-07-25 14:00:00\n",
       "2023-07-25 15:00:00+02:00   2023-07-25 15:00:00\n",
       "2023-07-25 16:00:00+02:00   2023-07-25 16:00:00\n",
       "2023-07-25 17:00:00+02:00   2023-07-25 17:00:00\n",
       "2023-07-25 18:00:00+02:00   2023-07-25 18:00:00\n",
       "2023-07-25 19:00:00+02:00   2023-07-25 19:00:00\n",
       "2023-07-25 20:00:00+02:00   2023-07-25 20:00:00\n",
       "2023-07-25 21:00:00+02:00   2023-07-25 21:00:00\n",
       "2023-07-25 22:00:00+02:00   2023-07-25 22:00:00\n",
       "2023-07-25 23:00:00+02:00   2023-07-25 23:00:00\n",
       "Name: times, dtype: datetime64[s]"
      ]
     },
     "execution_count": 350,
     "metadata": {},
     "output_type": "execute_result"
    }
   ],
   "source": [
    "df['times'].tz_localize(tz='Europe/Prague')"
   ]
  },
  {
   "attachments": {},
   "cell_type": "markdown",
   "metadata": {},
   "source": [
    "Care needs to be taken with non-UTC timezones as clock changes leads to ambiguous times. In the UK one of biannual clock changes can be examined:"
   ]
  },
  {
   "cell_type": "code",
   "execution_count": 351,
   "metadata": {},
   "outputs": [],
   "source": [
    "start_time = np.datetime64('2023-10-28T11:00:00')\n",
    "end_time = np.datetime64('2023-10-29T03:00:00')\n",
    "time_interval = np.timedelta64(30, 'm')"
   ]
  },
  {
   "cell_type": "code",
   "execution_count": 352,
   "metadata": {},
   "outputs": [],
   "source": [
    "utc_times = np.arange(start=start_time, #inclusive\n",
    "                      stop=end_time, #exclusive\n",
    "                      step=time_interval)"
   ]
  },
  {
   "cell_type": "code",
   "execution_count": 353,
   "metadata": {},
   "outputs": [
    {
     "data": {
      "text/plain": [
       "DatetimeIndex(['2023-10-28 11:00:00+01:00', '2023-10-28 11:30:00+01:00',\n",
       "               '2023-10-28 12:00:00+01:00', '2023-10-28 12:30:00+01:00',\n",
       "               '2023-10-28 13:00:00+01:00', '2023-10-28 13:30:00+01:00',\n",
       "               '2023-10-28 14:00:00+01:00', '2023-10-28 14:30:00+01:00',\n",
       "               '2023-10-28 15:00:00+01:00', '2023-10-28 15:30:00+01:00',\n",
       "               '2023-10-28 16:00:00+01:00', '2023-10-28 16:30:00+01:00',\n",
       "               '2023-10-28 17:00:00+01:00', '2023-10-28 17:30:00+01:00',\n",
       "               '2023-10-28 18:00:00+01:00', '2023-10-28 18:30:00+01:00',\n",
       "               '2023-10-28 19:00:00+01:00', '2023-10-28 19:30:00+01:00',\n",
       "               '2023-10-28 20:00:00+01:00', '2023-10-28 20:30:00+01:00',\n",
       "               '2023-10-28 21:00:00+01:00', '2023-10-28 21:30:00+01:00',\n",
       "               '2023-10-28 22:00:00+01:00', '2023-10-28 22:30:00+01:00',\n",
       "               '2023-10-28 23:00:00+01:00', '2023-10-28 23:30:00+01:00',\n",
       "               '2023-10-29 00:00:00+01:00', '2023-10-29 00:30:00+01:00',\n",
       "               '2023-10-29 01:00:00+01:00', '2023-10-29 01:30:00+01:00',\n",
       "               '2023-10-29 02:00:00+00:00', '2023-10-29 02:30:00+00:00'],\n",
       "              dtype='datetime64[s, Europe/London]', freq=None)"
      ]
     },
     "execution_count": 353,
     "metadata": {},
     "output_type": "execute_result"
    }
   ],
   "source": [
    "pd.Index(utc_times).tz_localize(tz='Europe/London', ambiguous=True)"
   ]
  },
  {
   "cell_type": "code",
   "execution_count": 354,
   "metadata": {},
   "outputs": [
    {
     "data": {
      "text/plain": [
       "DatetimeIndex(['2023-10-28 11:00:00+01:00', '2023-10-28 11:30:00+01:00',\n",
       "               '2023-10-28 12:00:00+01:00', '2023-10-28 12:30:00+01:00',\n",
       "               '2023-10-28 13:00:00+01:00', '2023-10-28 13:30:00+01:00',\n",
       "               '2023-10-28 14:00:00+01:00', '2023-10-28 14:30:00+01:00',\n",
       "               '2023-10-28 15:00:00+01:00', '2023-10-28 15:30:00+01:00',\n",
       "               '2023-10-28 16:00:00+01:00', '2023-10-28 16:30:00+01:00',\n",
       "               '2023-10-28 17:00:00+01:00', '2023-10-28 17:30:00+01:00',\n",
       "               '2023-10-28 18:00:00+01:00', '2023-10-28 18:30:00+01:00',\n",
       "               '2023-10-28 19:00:00+01:00', '2023-10-28 19:30:00+01:00',\n",
       "               '2023-10-28 20:00:00+01:00', '2023-10-28 20:30:00+01:00',\n",
       "               '2023-10-28 21:00:00+01:00', '2023-10-28 21:30:00+01:00',\n",
       "               '2023-10-28 22:00:00+01:00', '2023-10-28 22:30:00+01:00',\n",
       "               '2023-10-28 23:00:00+01:00', '2023-10-28 23:30:00+01:00',\n",
       "               '2023-10-29 00:00:00+01:00', '2023-10-29 00:30:00+01:00',\n",
       "                                     'NaT',                       'NaT',\n",
       "               '2023-10-29 02:00:00+00:00', '2023-10-29 02:30:00+00:00'],\n",
       "              dtype='datetime64[s, Europe/London]', freq=None)"
      ]
     },
     "execution_count": 354,
     "metadata": {},
     "output_type": "execute_result"
    }
   ],
   "source": [
    "pd.Index(utc_times).tz_localize(tz='Europe/London', ambiguous='NaT')"
   ]
  },
  {
   "attachments": {},
   "cell_type": "markdown",
   "metadata": {},
   "source": [
    "## Reading Data from Files"
   ]
  },
  {
   "attachments": {},
   "cell_type": "markdown",
   "metadata": {},
   "source": [
    "The ```Series``` and ```DataFrames``` previously examined were created from scratch using ```builtins``` datatypes. It is also common to read data in from another source. The ```pandas``` library therefore has a number of functions for reading in data from external files. The function names all have a ```read_``` prefix followed by the file type:"
   ]
  },
  {
   "cell_type": "code",
   "execution_count": 355,
   "metadata": {},
   "outputs": [
    {
     "name": "stdout",
     "output_type": "stream",
     "text": [
      "read_clipboard read_csv read_excel read_feather read_fwf read_gbq read_hdf read_html read_json read_orc read_parquet read_pickle read_sas read_spss read_sql read_sql_query read_sql_table read_stata read_table read_xml "
     ]
    }
   ],
   "source": [
    "for identifier in dir(pd):\n",
    "    if identifier.startswith('read_'):\n",
    "        print(identifier, end=' ')"
   ]
  },
  {
   "cell_type": "markdown",
   "metadata": {},
   "source": [
    "Some of the most common formats will be explored."
   ]
  },
  {
   "attachments": {},
   "cell_type": "markdown",
   "metadata": {},
   "source": [
    "### Comma Separated Values File"
   ]
  },
  {
   "attachments": {},
   "cell_type": "markdown",
   "metadata": {},
   "source": [
    "CSV is an abbreviation for Comma Separated Values although lower case csv is typically used for the file format. The file format has a similar structure to a ```tuple```, where each element is separated by a comma. In the case of a csv file, each column is separated by a comma and the newline character ```\\n``` is an instruction to move onto the next row:"
   ]
  },
  {
   "cell_type": "raw",
   "metadata": {},
   "source": [
    "string,integer,bool,float,date,time,category\\n\n",
    "the fat black cat,4,TRUE,0.86,24/07/2023,11:36:00,A\\n\n",
    "sat on the mat,4,TRUE,0.86,25/07/2023,12:36:00,A\\n\n",
    "\"twinkle, twinkle\",2,TRUE,-1.14,26/07/2023,13:36:00,B\\n\n",
    "little star,2,TRUE,-1.14,27/07/2023,14:36:00,B\\n\n",
    "how I wonder,3,FALSE,-0.14,28/07/2023,15:36:00,B\\n\n",
    "what you are,4,TRUE,0.86,29/07/2023,16:36:00,B\\n"
   ]
  },
  {
   "attachments": {},
   "cell_type": "markdown",
   "metadata": {},
   "source": [
    "When opened in a program such as Microsoft Excel, these display as a grid:"
   ]
  },
  {
   "attachments": {},
   "cell_type": "markdown",
   "metadata": {},
   "source": [
    "<img src='./images/img_001.png' alt='img_001' width='800'/>"
   ]
  },
  {
   "attachments": {},
   "cell_type": "markdown",
   "metadata": {},
   "source": [
    "Notice that the comma in ```twinkle, twinkle``` is not a delimiter but part of the ```str```. For this reason ```\"twinkle, twinkle\"``` was is enclosed in quotations."
   ]
  },
  {
   "attachments": {},
   "cell_type": "markdown",
   "metadata": {},
   "source": [
    "The csv has a file name in this case:"
   ]
  },
  {
   "cell_type": "raw",
   "metadata": {},
   "source": [
    "Book1.csv"
   ]
  },
  {
   "attachments": {},
   "cell_type": "markdown",
   "metadata": {},
   "source": [
    "Because it is in the same folder as the interactive Python notebook, the file path can be specified as the following string:"
   ]
  },
  {
   "attachments": {},
   "cell_type": "markdown",
   "metadata": {},
   "source": [
    "<img src='./images/img_002.png' alt='img_002' width='800'/>"
   ]
  },
  {
   "cell_type": "code",
   "execution_count": 356,
   "metadata": {},
   "outputs": [],
   "source": [
    "file_path = r'.\\Book1.csv'"
   ]
  },
  {
   "cell_type": "code",
   "execution_count": 357,
   "metadata": {},
   "outputs": [
    {
     "data": {
      "text/plain": [
       "'.\\\\Book1.csv'"
      ]
     },
     "execution_count": 357,
     "metadata": {},
     "output_type": "execute_result"
    }
   ],
   "source": [
    "file_path"
   ]
  },
  {
   "attachments": {},
   "cell_type": "markdown",
   "metadata": {},
   "source": [
    "* r means raw string. In a raw string \\ is used to indicate a \\ instead of an instruction to insert an escape character.\n",
    "* .\\ means in the same folder as the interactive Python notebook"
   ]
  },
  {
   "attachments": {},
   "cell_type": "markdown",
   "metadata": {},
   "source": [
    "If the file is moved into a sub folder called files:"
   ]
  },
  {
   "attachments": {},
   "cell_type": "markdown",
   "metadata": {},
   "source": [
    "<img src='./images/img_003.png' alt='img_003' width='800'/>"
   ]
  },
  {
   "attachments": {},
   "cell_type": "markdown",
   "metadata": {},
   "source": [
    "Then the file path becomes:"
   ]
  },
  {
   "cell_type": "code",
   "execution_count": 358,
   "metadata": {},
   "outputs": [],
   "source": [
    "file_path = r'.\\files\\Book1.csv'"
   ]
  },
  {
   "cell_type": "code",
   "execution_count": 359,
   "metadata": {},
   "outputs": [
    {
     "data": {
      "text/plain": [
       "'.\\\\files\\\\Book1.csv'"
      ]
     },
     "execution_count": 359,
     "metadata": {},
     "output_type": "execute_result"
    }
   ],
   "source": [
    "file_path"
   ]
  },
  {
   "attachments": {},
   "cell_type": "markdown",
   "metadata": {},
   "source": [
    "If the file is place up a level from the interactive notebook, the file path becomes:"
   ]
  },
  {
   "attachments": {},
   "cell_type": "markdown",
   "metadata": {},
   "source": [
    "<img src='./images/img_005.png' alt='img_005' width='800'/>"
   ]
  },
  {
   "cell_type": "code",
   "execution_count": 360,
   "metadata": {},
   "outputs": [],
   "source": [
    "file_path = r'..\\Book1.csv'"
   ]
  },
  {
   "cell_type": "code",
   "execution_count": 361,
   "metadata": {},
   "outputs": [
    {
     "data": {
      "text/plain": [
       "'..\\\\Book1.csv'"
      ]
     },
     "execution_count": 361,
     "metadata": {},
     "output_type": "execute_result"
    }
   ],
   "source": [
    "file_path"
   ]
  },
  {
   "attachments": {},
   "cell_type": "markdown",
   "metadata": {},
   "source": [
    "And if a subfolder (that is in the folder up a level from the interactive Python notebook file) is made called files:"
   ]
  },
  {
   "attachments": {},
   "cell_type": "markdown",
   "metadata": {},
   "source": [
    "<img src='./images/img_006.png' alt='img_006' width='800'/>"
   ]
  },
  {
   "cell_type": "code",
   "execution_count": 362,
   "metadata": {},
   "outputs": [],
   "source": [
    "file_path = r'..\\files\\Book1.csv'"
   ]
  },
  {
   "cell_type": "code",
   "execution_count": 363,
   "metadata": {},
   "outputs": [
    {
     "data": {
      "text/plain": [
       "'..\\\\files\\\\Book1.csv'"
      ]
     },
     "execution_count": 363,
     "metadata": {},
     "output_type": "execute_result"
    }
   ],
   "source": [
    "file_path"
   ]
  },
  {
   "attachments": {},
   "cell_type": "markdown",
   "metadata": {},
   "source": [
    "The function ```read_csv``` is used to read in a csv file returning a ```DataFrame``` instance:"
   ]
  },
  {
   "cell_type": "code",
   "execution_count": 364,
   "metadata": {},
   "outputs": [
    {
     "name": "stdout",
     "output_type": "stream",
     "text": [
      "\u001b[1;31mSignature:\u001b[0m\n",
      "\u001b[0mpd\u001b[0m\u001b[1;33m.\u001b[0m\u001b[0mread_csv\u001b[0m\u001b[1;33m(\u001b[0m\u001b[1;33m\n",
      "\u001b[0m    \u001b[0mfilepath_or_buffer\u001b[0m\u001b[1;33m:\u001b[0m \u001b[1;34m'FilePath | ReadCsvBuffer[bytes] | ReadCsvBuffer[str]'\u001b[0m\u001b[1;33m,\u001b[0m\u001b[1;33m\n",
      "\u001b[0m    \u001b[1;33m*\u001b[0m\u001b[1;33m,\u001b[0m\u001b[1;33m\n",
      "\u001b[0m    \u001b[0msep\u001b[0m\u001b[1;33m:\u001b[0m \u001b[1;34m'str | None | lib.NoDefault'\u001b[0m \u001b[1;33m=\u001b[0m \u001b[1;33m<\u001b[0m\u001b[0mno_default\u001b[0m\u001b[1;33m>\u001b[0m\u001b[1;33m,\u001b[0m\u001b[1;33m\n",
      "\u001b[0m    \u001b[0mdelimiter\u001b[0m\u001b[1;33m:\u001b[0m \u001b[1;34m'str | None | lib.NoDefault'\u001b[0m \u001b[1;33m=\u001b[0m \u001b[1;32mNone\u001b[0m\u001b[1;33m,\u001b[0m\u001b[1;33m\n",
      "\u001b[0m    \u001b[0mheader\u001b[0m\u001b[1;33m:\u001b[0m \u001b[1;34m\"int | Sequence[int] | None | Literal['infer']\"\u001b[0m \u001b[1;33m=\u001b[0m \u001b[1;34m'infer'\u001b[0m\u001b[1;33m,\u001b[0m\u001b[1;33m\n",
      "\u001b[0m    \u001b[0mnames\u001b[0m\u001b[1;33m:\u001b[0m \u001b[1;34m'Sequence[Hashable] | None | lib.NoDefault'\u001b[0m \u001b[1;33m=\u001b[0m \u001b[1;33m<\u001b[0m\u001b[0mno_default\u001b[0m\u001b[1;33m>\u001b[0m\u001b[1;33m,\u001b[0m\u001b[1;33m\n",
      "\u001b[0m    \u001b[0mindex_col\u001b[0m\u001b[1;33m:\u001b[0m \u001b[1;34m'IndexLabel | Literal[False] | None'\u001b[0m \u001b[1;33m=\u001b[0m \u001b[1;32mNone\u001b[0m\u001b[1;33m,\u001b[0m\u001b[1;33m\n",
      "\u001b[0m    \u001b[0musecols\u001b[0m\u001b[1;33m:\u001b[0m \u001b[1;34m'list[HashableT] | Callable[[Hashable], bool] | None'\u001b[0m \u001b[1;33m=\u001b[0m \u001b[1;32mNone\u001b[0m\u001b[1;33m,\u001b[0m\u001b[1;33m\n",
      "\u001b[0m    \u001b[0mdtype\u001b[0m\u001b[1;33m:\u001b[0m \u001b[1;34m'DtypeArg | None'\u001b[0m \u001b[1;33m=\u001b[0m \u001b[1;32mNone\u001b[0m\u001b[1;33m,\u001b[0m\u001b[1;33m\n",
      "\u001b[0m    \u001b[0mengine\u001b[0m\u001b[1;33m:\u001b[0m \u001b[1;34m'CSVEngine | None'\u001b[0m \u001b[1;33m=\u001b[0m \u001b[1;32mNone\u001b[0m\u001b[1;33m,\u001b[0m\u001b[1;33m\n",
      "\u001b[0m    \u001b[0mconverters\u001b[0m\u001b[1;33m:\u001b[0m \u001b[1;34m'Mapping[Hashable, Callable] | None'\u001b[0m \u001b[1;33m=\u001b[0m \u001b[1;32mNone\u001b[0m\u001b[1;33m,\u001b[0m\u001b[1;33m\n",
      "\u001b[0m    \u001b[0mtrue_values\u001b[0m\u001b[1;33m:\u001b[0m \u001b[1;34m'list | None'\u001b[0m \u001b[1;33m=\u001b[0m \u001b[1;32mNone\u001b[0m\u001b[1;33m,\u001b[0m\u001b[1;33m\n",
      "\u001b[0m    \u001b[0mfalse_values\u001b[0m\u001b[1;33m:\u001b[0m \u001b[1;34m'list | None'\u001b[0m \u001b[1;33m=\u001b[0m \u001b[1;32mNone\u001b[0m\u001b[1;33m,\u001b[0m\u001b[1;33m\n",
      "\u001b[0m    \u001b[0mskipinitialspace\u001b[0m\u001b[1;33m:\u001b[0m \u001b[1;34m'bool'\u001b[0m \u001b[1;33m=\u001b[0m \u001b[1;32mFalse\u001b[0m\u001b[1;33m,\u001b[0m\u001b[1;33m\n",
      "\u001b[0m    \u001b[0mskiprows\u001b[0m\u001b[1;33m:\u001b[0m \u001b[1;34m'list[int] | int | Callable[[Hashable], bool] | None'\u001b[0m \u001b[1;33m=\u001b[0m \u001b[1;32mNone\u001b[0m\u001b[1;33m,\u001b[0m\u001b[1;33m\n",
      "\u001b[0m    \u001b[0mskipfooter\u001b[0m\u001b[1;33m:\u001b[0m \u001b[1;34m'int'\u001b[0m \u001b[1;33m=\u001b[0m \u001b[1;36m0\u001b[0m\u001b[1;33m,\u001b[0m\u001b[1;33m\n",
      "\u001b[0m    \u001b[0mnrows\u001b[0m\u001b[1;33m:\u001b[0m \u001b[1;34m'int | None'\u001b[0m \u001b[1;33m=\u001b[0m \u001b[1;32mNone\u001b[0m\u001b[1;33m,\u001b[0m\u001b[1;33m\n",
      "\u001b[0m    \u001b[0mna_values\u001b[0m\u001b[1;33m:\u001b[0m \u001b[1;34m'Sequence[str] | Mapping[str, Sequence[str]] | None'\u001b[0m \u001b[1;33m=\u001b[0m \u001b[1;32mNone\u001b[0m\u001b[1;33m,\u001b[0m\u001b[1;33m\n",
      "\u001b[0m    \u001b[0mkeep_default_na\u001b[0m\u001b[1;33m:\u001b[0m \u001b[1;34m'bool'\u001b[0m \u001b[1;33m=\u001b[0m \u001b[1;32mTrue\u001b[0m\u001b[1;33m,\u001b[0m\u001b[1;33m\n",
      "\u001b[0m    \u001b[0mna_filter\u001b[0m\u001b[1;33m:\u001b[0m \u001b[1;34m'bool'\u001b[0m \u001b[1;33m=\u001b[0m \u001b[1;32mTrue\u001b[0m\u001b[1;33m,\u001b[0m\u001b[1;33m\n",
      "\u001b[0m    \u001b[0mverbose\u001b[0m\u001b[1;33m:\u001b[0m \u001b[1;34m'bool'\u001b[0m \u001b[1;33m=\u001b[0m \u001b[1;32mFalse\u001b[0m\u001b[1;33m,\u001b[0m\u001b[1;33m\n",
      "\u001b[0m    \u001b[0mskip_blank_lines\u001b[0m\u001b[1;33m:\u001b[0m \u001b[1;34m'bool'\u001b[0m \u001b[1;33m=\u001b[0m \u001b[1;32mTrue\u001b[0m\u001b[1;33m,\u001b[0m\u001b[1;33m\n",
      "\u001b[0m    \u001b[0mparse_dates\u001b[0m\u001b[1;33m:\u001b[0m \u001b[1;34m'bool | Sequence[Hashable] | None'\u001b[0m \u001b[1;33m=\u001b[0m \u001b[1;32mNone\u001b[0m\u001b[1;33m,\u001b[0m\u001b[1;33m\n",
      "\u001b[0m    \u001b[0minfer_datetime_format\u001b[0m\u001b[1;33m:\u001b[0m \u001b[1;34m'bool | lib.NoDefault'\u001b[0m \u001b[1;33m=\u001b[0m \u001b[1;33m<\u001b[0m\u001b[0mno_default\u001b[0m\u001b[1;33m>\u001b[0m\u001b[1;33m,\u001b[0m\u001b[1;33m\n",
      "\u001b[0m    \u001b[0mkeep_date_col\u001b[0m\u001b[1;33m:\u001b[0m \u001b[1;34m'bool'\u001b[0m \u001b[1;33m=\u001b[0m \u001b[1;32mFalse\u001b[0m\u001b[1;33m,\u001b[0m\u001b[1;33m\n",
      "\u001b[0m    \u001b[0mdate_parser\u001b[0m\u001b[1;33m:\u001b[0m \u001b[1;34m'Callable | lib.NoDefault'\u001b[0m \u001b[1;33m=\u001b[0m \u001b[1;33m<\u001b[0m\u001b[0mno_default\u001b[0m\u001b[1;33m>\u001b[0m\u001b[1;33m,\u001b[0m\u001b[1;33m\n",
      "\u001b[0m    \u001b[0mdate_format\u001b[0m\u001b[1;33m:\u001b[0m \u001b[1;34m'str | None'\u001b[0m \u001b[1;33m=\u001b[0m \u001b[1;32mNone\u001b[0m\u001b[1;33m,\u001b[0m\u001b[1;33m\n",
      "\u001b[0m    \u001b[0mdayfirst\u001b[0m\u001b[1;33m:\u001b[0m \u001b[1;34m'bool'\u001b[0m \u001b[1;33m=\u001b[0m \u001b[1;32mFalse\u001b[0m\u001b[1;33m,\u001b[0m\u001b[1;33m\n",
      "\u001b[0m    \u001b[0mcache_dates\u001b[0m\u001b[1;33m:\u001b[0m \u001b[1;34m'bool'\u001b[0m \u001b[1;33m=\u001b[0m \u001b[1;32mTrue\u001b[0m\u001b[1;33m,\u001b[0m\u001b[1;33m\n",
      "\u001b[0m    \u001b[0miterator\u001b[0m\u001b[1;33m:\u001b[0m \u001b[1;34m'bool'\u001b[0m \u001b[1;33m=\u001b[0m \u001b[1;32mFalse\u001b[0m\u001b[1;33m,\u001b[0m\u001b[1;33m\n",
      "\u001b[0m    \u001b[0mchunksize\u001b[0m\u001b[1;33m:\u001b[0m \u001b[1;34m'int | None'\u001b[0m \u001b[1;33m=\u001b[0m \u001b[1;32mNone\u001b[0m\u001b[1;33m,\u001b[0m\u001b[1;33m\n",
      "\u001b[0m    \u001b[0mcompression\u001b[0m\u001b[1;33m:\u001b[0m \u001b[1;34m'CompressionOptions'\u001b[0m \u001b[1;33m=\u001b[0m \u001b[1;34m'infer'\u001b[0m\u001b[1;33m,\u001b[0m\u001b[1;33m\n",
      "\u001b[0m    \u001b[0mthousands\u001b[0m\u001b[1;33m:\u001b[0m \u001b[1;34m'str | None'\u001b[0m \u001b[1;33m=\u001b[0m \u001b[1;32mNone\u001b[0m\u001b[1;33m,\u001b[0m\u001b[1;33m\n",
      "\u001b[0m    \u001b[0mdecimal\u001b[0m\u001b[1;33m:\u001b[0m \u001b[1;34m'str'\u001b[0m \u001b[1;33m=\u001b[0m \u001b[1;34m'.'\u001b[0m\u001b[1;33m,\u001b[0m\u001b[1;33m\n",
      "\u001b[0m    \u001b[0mlineterminator\u001b[0m\u001b[1;33m:\u001b[0m \u001b[1;34m'str | None'\u001b[0m \u001b[1;33m=\u001b[0m \u001b[1;32mNone\u001b[0m\u001b[1;33m,\u001b[0m\u001b[1;33m\n",
      "\u001b[0m    \u001b[0mquotechar\u001b[0m\u001b[1;33m:\u001b[0m \u001b[1;34m'str'\u001b[0m \u001b[1;33m=\u001b[0m \u001b[1;34m'\"'\u001b[0m\u001b[1;33m,\u001b[0m\u001b[1;33m\n",
      "\u001b[0m    \u001b[0mquoting\u001b[0m\u001b[1;33m:\u001b[0m \u001b[1;34m'int'\u001b[0m \u001b[1;33m=\u001b[0m \u001b[1;36m0\u001b[0m\u001b[1;33m,\u001b[0m\u001b[1;33m\n",
      "\u001b[0m    \u001b[0mdoublequote\u001b[0m\u001b[1;33m:\u001b[0m \u001b[1;34m'bool'\u001b[0m \u001b[1;33m=\u001b[0m \u001b[1;32mTrue\u001b[0m\u001b[1;33m,\u001b[0m\u001b[1;33m\n",
      "\u001b[0m    \u001b[0mescapechar\u001b[0m\u001b[1;33m:\u001b[0m \u001b[1;34m'str | None'\u001b[0m \u001b[1;33m=\u001b[0m \u001b[1;32mNone\u001b[0m\u001b[1;33m,\u001b[0m\u001b[1;33m\n",
      "\u001b[0m    \u001b[0mcomment\u001b[0m\u001b[1;33m:\u001b[0m \u001b[1;34m'str | None'\u001b[0m \u001b[1;33m=\u001b[0m \u001b[1;32mNone\u001b[0m\u001b[1;33m,\u001b[0m\u001b[1;33m\n",
      "\u001b[0m    \u001b[0mencoding\u001b[0m\u001b[1;33m:\u001b[0m \u001b[1;34m'str | None'\u001b[0m \u001b[1;33m=\u001b[0m \u001b[1;32mNone\u001b[0m\u001b[1;33m,\u001b[0m\u001b[1;33m\n",
      "\u001b[0m    \u001b[0mencoding_errors\u001b[0m\u001b[1;33m:\u001b[0m \u001b[1;34m'str | None'\u001b[0m \u001b[1;33m=\u001b[0m \u001b[1;34m'strict'\u001b[0m\u001b[1;33m,\u001b[0m\u001b[1;33m\n",
      "\u001b[0m    \u001b[0mdialect\u001b[0m\u001b[1;33m:\u001b[0m \u001b[1;34m'str | csv.Dialect | None'\u001b[0m \u001b[1;33m=\u001b[0m \u001b[1;32mNone\u001b[0m\u001b[1;33m,\u001b[0m\u001b[1;33m\n",
      "\u001b[0m    \u001b[0mon_bad_lines\u001b[0m\u001b[1;33m:\u001b[0m \u001b[1;34m'str'\u001b[0m \u001b[1;33m=\u001b[0m \u001b[1;34m'error'\u001b[0m\u001b[1;33m,\u001b[0m\u001b[1;33m\n",
      "\u001b[0m    \u001b[0mdelim_whitespace\u001b[0m\u001b[1;33m:\u001b[0m \u001b[1;34m'bool'\u001b[0m \u001b[1;33m=\u001b[0m \u001b[1;32mFalse\u001b[0m\u001b[1;33m,\u001b[0m\u001b[1;33m\n",
      "\u001b[0m    \u001b[0mlow_memory\u001b[0m\u001b[1;33m:\u001b[0m \u001b[1;34m'bool'\u001b[0m \u001b[1;33m=\u001b[0m \u001b[1;32mTrue\u001b[0m\u001b[1;33m,\u001b[0m\u001b[1;33m\n",
      "\u001b[0m    \u001b[0mmemory_map\u001b[0m\u001b[1;33m:\u001b[0m \u001b[1;34m'bool'\u001b[0m \u001b[1;33m=\u001b[0m \u001b[1;32mFalse\u001b[0m\u001b[1;33m,\u001b[0m\u001b[1;33m\n",
      "\u001b[0m    \u001b[0mfloat_precision\u001b[0m\u001b[1;33m:\u001b[0m \u001b[1;34m\"Literal['high', 'legacy'] | None\"\u001b[0m \u001b[1;33m=\u001b[0m \u001b[1;32mNone\u001b[0m\u001b[1;33m,\u001b[0m\u001b[1;33m\n",
      "\u001b[0m    \u001b[0mstorage_options\u001b[0m\u001b[1;33m:\u001b[0m \u001b[1;34m'StorageOptions | None'\u001b[0m \u001b[1;33m=\u001b[0m \u001b[1;32mNone\u001b[0m\u001b[1;33m,\u001b[0m\u001b[1;33m\n",
      "\u001b[0m    \u001b[0mdtype_backend\u001b[0m\u001b[1;33m:\u001b[0m \u001b[1;34m'DtypeBackend | lib.NoDefault'\u001b[0m \u001b[1;33m=\u001b[0m \u001b[1;33m<\u001b[0m\u001b[0mno_default\u001b[0m\u001b[1;33m>\u001b[0m\u001b[1;33m,\u001b[0m\u001b[1;33m\n",
      "\u001b[0m\u001b[1;33m)\u001b[0m \u001b[1;33m->\u001b[0m \u001b[1;34m'DataFrame | TextFileReader'\u001b[0m\u001b[1;33m\u001b[0m\u001b[1;33m\u001b[0m\u001b[0m\n",
      "\u001b[1;31mDocstring:\u001b[0m\n",
      "Read a comma-separated values (csv) file into DataFrame.\n",
      "\n",
      "Also supports optionally iterating or breaking of the file\n",
      "into chunks.\n",
      "\n",
      "Additional help can be found in the online docs for\n",
      "`IO Tools <https://pandas.pydata.org/pandas-docs/stable/user_guide/io.html>`_.\n",
      "\n",
      "Parameters\n",
      "----------\n",
      "filepath_or_buffer : str, path object or file-like object\n",
      "    Any valid string path is acceptable. The string could be a URL. Valid\n",
      "    URL schemes include http, ftp, s3, gs, and file. For file URLs, a host is\n",
      "    expected. A local file could be: file://localhost/path/to/table.csv.\n",
      "\n",
      "    If you want to pass in a path object, pandas accepts any ``os.PathLike``.\n",
      "\n",
      "    By file-like object, we refer to objects with a ``read()`` method, such as\n",
      "    a file handle (e.g. via builtin ``open`` function) or ``StringIO``.\n",
      "sep : str, default ','\n",
      "    Character or regex pattern to treat as the delimiter. If ``sep=None``, the\n",
      "    C engine cannot automatically detect\n",
      "    the separator, but the Python parsing engine can, meaning the latter will\n",
      "    be used and automatically detect the separator from only the first valid\n",
      "    row of the file by Python's builtin sniffer tool, ``csv.Sniffer``.\n",
      "    In addition, separators longer than 1 character and different from\n",
      "    ``'\\s+'`` will be interpreted as regular expressions and will also force\n",
      "    the use of the Python parsing engine. Note that regex delimiters are prone\n",
      "    to ignoring quoted data. Regex example: ``'\\r\\t'``.\n",
      "delimiter : str, optional\n",
      "    Alias for ``sep``.\n",
      "header : int, Sequence of int, 'infer' or None, default 'infer'\n",
      "    Row number(s) containing column labels and marking the start of the\n",
      "    data (zero-indexed). Default behavior is to infer the column names: if no ``names``\n",
      "    are passed the behavior is identical to ``header=0`` and column\n",
      "    names are inferred from the first line of the file, if column\n",
      "    names are passed explicitly to ``names`` then the behavior is identical to\n",
      "    ``header=None``. Explicitly pass ``header=0`` to be able to\n",
      "    replace existing names. The header can be a list of integers that\n",
      "    specify row locations for a :class:`~pandas.MultiIndex` on the columns\n",
      "    e.g. ``[0, 1, 3]``. Intervening rows that are not specified will be\n",
      "    skipped (e.g. 2 in this example is skipped). Note that this\n",
      "    parameter ignores commented lines and empty lines if\n",
      "    ``skip_blank_lines=True``, so ``header=0`` denotes the first line of\n",
      "    data rather than the first line of the file.\n",
      "names : Sequence of Hashable, optional\n",
      "    Sequence of column labels to apply. If the file contains a header row,\n",
      "    then you should explicitly pass ``header=0`` to override the column names.\n",
      "    Duplicates in this list are not allowed.\n",
      "index_col : Hashable, Sequence of Hashable or False, optional\n",
      "  Column(s) to use as row label(s), denoted either by column labels or column\n",
      "  indices.  If a sequence of labels or indices is given, :class:`~pandas.MultiIndex`\n",
      "  will be formed for the row labels.\n",
      "\n",
      "  Note: ``index_col=False`` can be used to force pandas to *not* use the first\n",
      "  column as the index, e.g., when you have a malformed file with delimiters at\n",
      "  the end of each line.\n",
      "usecols : list of Hashable or Callable, optional\n",
      "    Subset of columns to select, denoted either by column labels or column indices.\n",
      "    If list-like, all elements must either\n",
      "    be positional (i.e. integer indices into the document columns) or strings\n",
      "    that correspond to column names provided either by the user in ``names`` or\n",
      "    inferred from the document header row(s). If ``names`` are given, the document\n",
      "    header row(s) are not taken into account. For example, a valid list-like\n",
      "    ``usecols`` parameter would be ``[0, 1, 2]`` or ``['foo', 'bar', 'baz']``.\n",
      "    Element order is ignored, so ``usecols=[0, 1]`` is the same as ``[1, 0]``.\n",
      "    To instantiate a :class:`~pandas.DataFrame` from ``data`` with element order\n",
      "    preserved use ``pd.read_csv(data, usecols=['foo', 'bar'])[['foo', 'bar']]``\n",
      "    for columns in ``['foo', 'bar']`` order or\n",
      "    ``pd.read_csv(data, usecols=['foo', 'bar'])[['bar', 'foo']]``\n",
      "    for ``['bar', 'foo']`` order.\n",
      "\n",
      "    If callable, the callable function will be evaluated against the column\n",
      "    names, returning names where the callable function evaluates to ``True``. An\n",
      "    example of a valid callable argument would be ``lambda x: x.upper() in\n",
      "    ['AAA', 'BBB', 'DDD']``. Using this parameter results in much faster\n",
      "    parsing time and lower memory usage.\n",
      "dtype : dtype or dict of {Hashable : dtype}, optional\n",
      "    Data type(s) to apply to either the whole dataset or individual columns.\n",
      "    E.g., ``{'a': np.float64, 'b': np.int32, 'c': 'Int64'}``\n",
      "    Use ``str`` or ``object`` together with suitable ``na_values`` settings\n",
      "    to preserve and not interpret ``dtype``.\n",
      "    If ``converters`` are specified, they will be applied INSTEAD\n",
      "    of ``dtype`` conversion.\n",
      "\n",
      "    .. versionadded:: 1.5.0\n",
      "\n",
      "        Support for ``defaultdict`` was added. Specify a ``defaultdict`` as input where\n",
      "        the default determines the ``dtype`` of the columns which are not explicitly\n",
      "        listed.\n",
      "engine : {'c', 'python', 'pyarrow'}, optional\n",
      "    Parser engine to use. The C and pyarrow engines are faster, while the python engine\n",
      "    is currently more feature-complete. Multithreading is currently only supported by\n",
      "    the pyarrow engine.\n",
      "\n",
      "    .. versionadded:: 1.4.0\n",
      "\n",
      "        The 'pyarrow' engine was added as an *experimental* engine, and some features\n",
      "        are unsupported, or may not work correctly, with this engine.\n",
      "converters : dict of {Hashable : Callable}, optional\n",
      "    Functions for converting values in specified columns. Keys can either\n",
      "    be column labels or column indices.\n",
      "true_values : list, optional\n",
      "    Values to consider as ``True`` in addition to case-insensitive variants of 'True'.\n",
      "false_values : list, optional\n",
      "    Values to consider as ``False`` in addition to case-insensitive variants of 'False'.\n",
      "skipinitialspace : bool, default False\n",
      "    Skip spaces after delimiter.\n",
      "skiprows : int, list of int or Callable, optional\n",
      "    Line numbers to skip (0-indexed) or number of lines to skip (``int``)\n",
      "    at the start of the file.\n",
      "\n",
      "    If callable, the callable function will be evaluated against the row\n",
      "    indices, returning ``True`` if the row should be skipped and ``False`` otherwise.\n",
      "    An example of a valid callable argument would be ``lambda x: x in [0, 2]``.\n",
      "skipfooter : int, default 0\n",
      "    Number of lines at bottom of file to skip (Unsupported with ``engine='c'``).\n",
      "nrows : int, optional\n",
      "    Number of rows of file to read. Useful for reading pieces of large files.\n",
      "na_values : Hashable, Iterable of Hashable or dict of {Hashable : Iterable}, optional\n",
      "    Additional strings to recognize as ``NA``/``NaN``. If ``dict`` passed, specific\n",
      "    per-column ``NA`` values.  By default the following values are interpreted as\n",
      "    ``NaN``: \" \", \"#N/A\", \"#N/A N/A\", \"#NA\", \"-1.#IND\", \"-1.#QNAN\", \"-NaN\", \"-nan\",\n",
      "    \"1.#IND\", \"1.#QNAN\", \"<NA>\", \"N/A\", \"NA\", \"NULL\", \"NaN\", \"None\",\n",
      "    \"n/a\", \"nan\", \"null \".\n",
      "\n",
      "keep_default_na : bool, default True\n",
      "    Whether or not to include the default ``NaN`` values when parsing the data.\n",
      "    Depending on whether ``na_values`` is passed in, the behavior is as follows:\n",
      "\n",
      "    * If ``keep_default_na`` is ``True``, and ``na_values`` are specified, ``na_values``\n",
      "      is appended to the default ``NaN`` values used for parsing.\n",
      "    * If ``keep_default_na`` is ``True``, and ``na_values`` are not specified, only\n",
      "      the default ``NaN`` values are used for parsing.\n",
      "    * If ``keep_default_na`` is ``False``, and ``na_values`` are specified, only\n",
      "      the ``NaN`` values specified ``na_values`` are used for parsing.\n",
      "    * If ``keep_default_na`` is ``False``, and ``na_values`` are not specified, no\n",
      "      strings will be parsed as ``NaN``.\n",
      "\n",
      "    Note that if ``na_filter`` is passed in as ``False``, the ``keep_default_na`` and\n",
      "    ``na_values`` parameters will be ignored.\n",
      "na_filter : bool, default True\n",
      "    Detect missing value markers (empty strings and the value of ``na_values``). In\n",
      "    data without any ``NA`` values, passing ``na_filter=False`` can improve the\n",
      "    performance of reading a large file.\n",
      "verbose : bool, default False\n",
      "    Indicate number of ``NA`` values placed in non-numeric columns.\n",
      "skip_blank_lines : bool, default True\n",
      "    If ``True``, skip over blank lines rather than interpreting as ``NaN`` values.\n",
      "parse_dates : bool, list of Hashable, list of lists or dict of {Hashable : list}, default False\n",
      "    The behavior is as follows:\n",
      "\n",
      "    * ``bool``. If ``True`` -> try parsing the index.\n",
      "    * ``list`` of ``int`` or names. e.g. If ``[1, 2, 3]`` -> try parsing columns 1, 2, 3\n",
      "      each as a separate date column.\n",
      "    * ``list`` of ``list``. e.g.  If ``[[1, 3]]`` -> combine columns 1 and 3 and parse\n",
      "      as a single date column.\n",
      "    * ``dict``, e.g. ``{'foo' : [1, 3]}`` -> parse columns 1, 3 as date and call\n",
      "      result 'foo'\n",
      "\n",
      "    If a column or index cannot be represented as an array of ``datetime``,\n",
      "    say because of an unparsable value or a mixture of timezones, the column\n",
      "    or index will be returned unaltered as an ``object`` data type. For\n",
      "    non-standard ``datetime`` parsing, use :func:`~pandas.to_datetime` after\n",
      "    :func:`~pandas.read_csv`.\n",
      "\n",
      "    Note: A fast-path exists for iso8601-formatted dates.\n",
      "infer_datetime_format : bool, default False\n",
      "    If ``True`` and ``parse_dates`` is enabled, pandas will attempt to infer the\n",
      "    format of the ``datetime`` strings in the columns, and if it can be inferred,\n",
      "    switch to a faster method of parsing them. In some cases this can increase\n",
      "    the parsing speed by 5-10x.\n",
      "\n",
      "    .. deprecated:: 2.0.0\n",
      "        A strict version of this argument is now the default, passing it has no effect.\n",
      "\n",
      "keep_date_col : bool, default False\n",
      "    If ``True`` and ``parse_dates`` specifies combining multiple columns then\n",
      "    keep the original columns.\n",
      "date_parser : Callable, optional\n",
      "    Function to use for converting a sequence of string columns to an array of\n",
      "    ``datetime`` instances. The default uses ``dateutil.parser.parser`` to do the\n",
      "    conversion. pandas will try to call ``date_parser`` in three different ways,\n",
      "    advancing to the next if an exception occurs: 1) Pass one or more arrays\n",
      "    (as defined by ``parse_dates``) as arguments; 2) concatenate (row-wise) the\n",
      "    string values from the columns defined by ``parse_dates`` into a single array\n",
      "    and pass that; and 3) call ``date_parser`` once for each row using one or\n",
      "    more strings (corresponding to the columns defined by ``parse_dates``) as\n",
      "    arguments.\n",
      "\n",
      "    .. deprecated:: 2.0.0\n",
      "       Use ``date_format`` instead, or read in as ``object`` and then apply\n",
      "       :func:`~pandas.to_datetime` as-needed.\n",
      "date_format : str or dict of column -> format, optional\n",
      "   Format to use for parsing dates when used in conjunction with ``parse_dates``.\n",
      "   For anything more complex, please read in as ``object`` and then apply\n",
      "   :func:`~pandas.to_datetime` as-needed.\n",
      "\n",
      "   .. versionadded:: 2.0.0\n",
      "dayfirst : bool, default False\n",
      "    DD/MM format dates, international and European format.\n",
      "cache_dates : bool, default True\n",
      "    If ``True``, use a cache of unique, converted dates to apply the ``datetime``\n",
      "    conversion. May produce significant speed-up when parsing duplicate\n",
      "    date strings, especially ones with timezone offsets.\n",
      "\n",
      "iterator : bool, default False\n",
      "    Return ``TextFileReader`` object for iteration or getting chunks with\n",
      "    ``get_chunk()``.\n",
      "\n",
      "    .. versionchanged:: 1.2\n",
      "\n",
      "       ``TextFileReader`` is a context manager.\n",
      "chunksize : int, optional\n",
      "    Number of lines to read from the file per chunk. Passing a value will cause the\n",
      "    function to return a ``TextFileReader`` object for iteration.\n",
      "    See the `IO Tools docs\n",
      "    <https://pandas.pydata.org/pandas-docs/stable/io.html#io-chunking>`_\n",
      "    for more information on ``iterator`` and ``chunksize``.\n",
      "\n",
      "    .. versionchanged:: 1.2\n",
      "\n",
      "       ``TextFileReader`` is a context manager.\n",
      "compression : str or dict, default 'infer'\n",
      "    For on-the-fly decompression of on-disk data. If 'infer' and 'filepath_or_buffer' is\n",
      "    path-like, then detect compression from the following extensions: '.gz',\n",
      "    '.bz2', '.zip', '.xz', '.zst', '.tar', '.tar.gz', '.tar.xz' or '.tar.bz2'\n",
      "    (otherwise no compression).\n",
      "    If using 'zip' or 'tar', the ZIP file must contain only one data file to be read in.\n",
      "    Set to ``None`` for no decompression.\n",
      "    Can also be a dict with key ``'method'`` set\n",
      "    to one of {``'zip'``, ``'gzip'``, ``'bz2'``, ``'zstd'``, ``'xz'``, ``'tar'``} and\n",
      "    other key-value pairs are forwarded to\n",
      "    ``zipfile.ZipFile``, ``gzip.GzipFile``,\n",
      "    ``bz2.BZ2File``, ``zstandard.ZstdDecompressor``, ``lzma.LZMAFile`` or\n",
      "    ``tarfile.TarFile``, respectively.\n",
      "    As an example, the following could be passed for Zstandard decompression using a\n",
      "    custom compression dictionary:\n",
      "    ``compression={'method': 'zstd', 'dict_data': my_compression_dict}``.\n",
      "\n",
      "    .. versionadded:: 1.5.0\n",
      "        Added support for `.tar` files.\n",
      "\n",
      "    .. versionchanged:: 1.4.0 Zstandard support.\n",
      "\n",
      "thousands : str (length 1), optional\n",
      "    Character acting as the thousands separator in numerical values.\n",
      "decimal : str (length 1), default '.'\n",
      "    Character to recognize as decimal point (e.g., use ',' for European data).\n",
      "lineterminator : str (length 1), optional\n",
      "    Character used to denote a line break. Only valid with C parser.\n",
      "quotechar : str (length 1), optional\n",
      "    Character used to denote the start and end of a quoted item. Quoted\n",
      "    items can include the ``delimiter`` and it will be ignored.\n",
      "quoting : {0 or csv.QUOTE_MINIMAL, 1 or csv.QUOTE_ALL, 2 or csv.QUOTE_NONNUMERIC, 3 or csv.QUOTE_NONE}, default csv.QUOTE_MINIMAL\n",
      "    Control field quoting behavior per ``csv.QUOTE_*`` constants. Default is\n",
      "    ``csv.QUOTE_MINIMAL`` (i.e., 0) which implies that only fields containing special\n",
      "    characters are quoted (e.g., characters defined in ``quotechar``, ``delimiter``,\n",
      "    or ``lineterminator``.\n",
      "doublequote : bool, default True\n",
      "   When ``quotechar`` is specified and ``quoting`` is not ``QUOTE_NONE``, indicate\n",
      "   whether or not to interpret two consecutive ``quotechar`` elements INSIDE a\n",
      "   field as a single ``quotechar`` element.\n",
      "escapechar : str (length 1), optional\n",
      "    Character used to escape other characters.\n",
      "comment : str (length 1), optional\n",
      "    Character indicating that the remainder of line should not be parsed.\n",
      "    If found at the beginning\n",
      "    of a line, the line will be ignored altogether. This parameter must be a\n",
      "    single character. Like empty lines (as long as ``skip_blank_lines=True``),\n",
      "    fully commented lines are ignored by the parameter ``header`` but not by\n",
      "    ``skiprows``. For example, if ``comment='#'``, parsing\n",
      "    ``#empty\\na,b,c\\n1,2,3`` with ``header=0`` will result in ``'a,b,c'`` being\n",
      "    treated as the header.\n",
      "encoding : str, optional, default 'utf-8'\n",
      "    Encoding to use for UTF when reading/writing (ex. ``'utf-8'``). `List of Python\n",
      "    standard encodings\n",
      "    <https://docs.python.org/3/library/codecs.html#standard-encodings>`_ .\n",
      "\n",
      "    .. versionchanged:: 1.2\n",
      "\n",
      "       When ``encoding`` is ``None``, ``errors='replace'`` is passed to\n",
      "       ``open()``. Otherwise, ``errors='strict'`` is passed to ``open()``.\n",
      "       This behavior was previously only the case for ``engine='python'``.\n",
      "\n",
      "    .. versionchanged:: 1.3.0\n",
      "\n",
      "       ``encoding_errors`` is a new argument. ``encoding`` has no longer an\n",
      "       influence on how encoding errors are handled.\n",
      "\n",
      "encoding_errors : str, optional, default 'strict'\n",
      "    How encoding errors are treated. `List of possible values\n",
      "    <https://docs.python.org/3/library/codecs.html#error-handlers>`_ .\n",
      "\n",
      "    .. versionadded:: 1.3.0\n",
      "\n",
      "dialect : str or csv.Dialect, optional\n",
      "    If provided, this parameter will override values (default or not) for the\n",
      "    following parameters: ``delimiter``, ``doublequote``, ``escapechar``,\n",
      "    ``skipinitialspace``, ``quotechar``, and ``quoting``. If it is necessary to\n",
      "    override values, a ``ParserWarning`` will be issued. See ``csv.Dialect``\n",
      "    documentation for more details.\n",
      "on_bad_lines : {'error', 'warn', 'skip'} or Callable, default 'error'\n",
      "    Specifies what to do upon encountering a bad line (a line with too many fields).\n",
      "    Allowed values are :\n",
      "\n",
      "    - ``'error'``, raise an Exception when a bad line is encountered.\n",
      "    - ``'warn'``, raise a warning when a bad line is encountered and skip that line.\n",
      "    - ``'skip'``, skip bad lines without raising or warning when they are encountered.\n",
      "\n",
      "    .. versionadded:: 1.3.0\n",
      "\n",
      "    .. versionadded:: 1.4.0\n",
      "\n",
      "        - Callable, function with signature\n",
      "          ``(bad_line: list[str]) -> list[str] | None`` that will process a single\n",
      "          bad line. ``bad_line`` is a list of strings split by the ``sep``.\n",
      "          If the function returns ``None``, the bad line will be ignored.\n",
      "          If the function returns a new ``list`` of strings with more elements than\n",
      "          expected, a ``ParserWarning`` will be emitted while dropping extra elements.\n",
      "          Only supported when ``engine='python'``\n",
      "\n",
      "delim_whitespace : bool, default False\n",
      "    Specifies whether or not whitespace (e.g. ``' '`` or ``'\\t'``) will be\n",
      "    used as the ``sep`` delimiter. Equivalent to setting ``sep='\\s+'``. If this option\n",
      "    is set to ``True``, nothing should be passed in for the ``delimiter``\n",
      "    parameter.\n",
      "low_memory : bool, default True\n",
      "    Internally process the file in chunks, resulting in lower memory use\n",
      "    while parsing, but possibly mixed type inference.  To ensure no mixed\n",
      "    types either set ``False``, or specify the type with the ``dtype`` parameter.\n",
      "    Note that the entire file is read into a single :class:`~pandas.DataFrame`\n",
      "    regardless, use the ``chunksize`` or ``iterator`` parameter to return the data in\n",
      "    chunks. (Only valid with C parser).\n",
      "memory_map : bool, default False\n",
      "    If a filepath is provided for ``filepath_or_buffer``, map the file object\n",
      "    directly onto memory and access the data directly from there. Using this\n",
      "    option can improve performance because there is no longer any I/O overhead.\n",
      "float_precision : {'high', 'legacy', 'round_trip'}, optional\n",
      "    Specifies which converter the C engine should use for floating-point\n",
      "    values. The options are ``None`` or ``'high'`` for the ordinary converter,\n",
      "    ``'legacy'`` for the original lower precision pandas converter, and\n",
      "    ``'round_trip'`` for the round-trip converter.\n",
      "\n",
      "    .. versionchanged:: 1.2\n",
      "\n",
      "storage_options : dict, optional\n",
      "    Extra options that make sense for a particular storage connection, e.g.\n",
      "    host, port, username, password, etc. For HTTP(S) URLs the key-value pairs\n",
      "    are forwarded to ``urllib.request.Request`` as header options. For other\n",
      "    URLs (e.g. starting with \"s3://\", and \"gcs://\") the key-value pairs are\n",
      "    forwarded to ``fsspec.open``. Please see ``fsspec`` and ``urllib`` for more\n",
      "    details, and for more examples on storage options refer `here\n",
      "    <https://pandas.pydata.org/docs/user_guide/io.html?\n",
      "    highlight=storage_options#reading-writing-remote-files>`_.\n",
      "\n",
      "    .. versionadded:: 1.2\n",
      "\n",
      "dtype_backend : {'numpy_nullable', 'pyarrow'}, default 'numpy_nullable'\n",
      "    Back-end data type applied to the resultant :class:`DataFrame`\n",
      "    (still experimental). Behaviour is as follows:\n",
      "\n",
      "    * ``\"numpy_nullable\"``: returns nullable-dtype-backed :class:`DataFrame`\n",
      "      (default).\n",
      "    * ``\"pyarrow\"``: returns pyarrow-backed nullable :class:`ArrowDtype`\n",
      "      DataFrame.\n",
      "\n",
      "    .. versionadded:: 2.0\n",
      "\n",
      "Returns\n",
      "-------\n",
      "DataFrame or TextFileReader\n",
      "    A comma-separated values (csv) file is returned as two-dimensional\n",
      "    data structure with labeled axes.\n",
      "\n",
      "See Also\n",
      "--------\n",
      "DataFrame.to_csv : Write DataFrame to a comma-separated values (csv) file.\n",
      "read_table : Read general delimited file into DataFrame.\n",
      "read_fwf : Read a table of fixed-width formatted lines into DataFrame.\n",
      "\n",
      "Examples\n",
      "--------\n",
      ">>> pd.read_csv('data.csv')  # doctest: +SKIP\n",
      "\u001b[1;31mFile:\u001b[0m      c:\\users\\phili\\anaconda3\\envs\\vscode-env\\lib\\site-packages\\pandas\\io\\parsers\\readers.py\n",
      "\u001b[1;31mType:\u001b[0m      function"
     ]
    }
   ],
   "source": [
    "pd.read_csv?"
   ]
  },
  {
   "attachments": {},
   "cell_type": "markdown",
   "metadata": {},
   "source": [
    "The ```read_csv``` has a larger number of input arguments. Note that most of these are keyword input arguments and are therefore assigned to a default value which is consistent to the default behaviour of a csv file. When the file is in the expected format only the ```filepath_or_buffer``` needs to be specified:"
   ]
  },
  {
   "cell_type": "code",
   "execution_count": 365,
   "metadata": {},
   "outputs": [],
   "source": [
    "df = pd.read_csv(filepath_or_buffer = 'Book1.csv')"
   ]
  },
  {
   "cell_type": "code",
   "execution_count": 366,
   "metadata": {},
   "outputs": [
    {
     "data": {
      "text/html": [
       "<div>\n",
       "<style scoped>\n",
       "    .dataframe tbody tr th:only-of-type {\n",
       "        vertical-align: middle;\n",
       "    }\n",
       "\n",
       "    .dataframe tbody tr th {\n",
       "        vertical-align: top;\n",
       "    }\n",
       "\n",
       "    .dataframe thead th {\n",
       "        text-align: right;\n",
       "    }\n",
       "</style>\n",
       "<table border=\"1\" class=\"dataframe\">\n",
       "  <thead>\n",
       "    <tr style=\"text-align: right;\">\n",
       "      <th></th>\n",
       "      <th>string</th>\n",
       "      <th>integer</th>\n",
       "      <th>boolean</th>\n",
       "      <th>floatingpoint</th>\n",
       "      <th>date</th>\n",
       "      <th>time</th>\n",
       "      <th>category</th>\n",
       "    </tr>\n",
       "  </thead>\n",
       "  <tbody>\n",
       "    <tr>\n",
       "      <th>0</th>\n",
       "      <td>the fat black cat</td>\n",
       "      <td>4</td>\n",
       "      <td>True</td>\n",
       "      <td>0.86</td>\n",
       "      <td>24/07/2023</td>\n",
       "      <td>11:36:00</td>\n",
       "      <td>A</td>\n",
       "    </tr>\n",
       "    <tr>\n",
       "      <th>1</th>\n",
       "      <td>sat on the mat</td>\n",
       "      <td>4</td>\n",
       "      <td>True</td>\n",
       "      <td>0.86</td>\n",
       "      <td>25/07/2023</td>\n",
       "      <td>12:36:00</td>\n",
       "      <td>A</td>\n",
       "    </tr>\n",
       "    <tr>\n",
       "      <th>2</th>\n",
       "      <td>twinkle, twinkle</td>\n",
       "      <td>2</td>\n",
       "      <td>True</td>\n",
       "      <td>-1.14</td>\n",
       "      <td>26/07/2023</td>\n",
       "      <td>13:36:00</td>\n",
       "      <td>B</td>\n",
       "    </tr>\n",
       "    <tr>\n",
       "      <th>3</th>\n",
       "      <td>little star</td>\n",
       "      <td>2</td>\n",
       "      <td>True</td>\n",
       "      <td>-1.14</td>\n",
       "      <td>27/07/2023</td>\n",
       "      <td>14:36:00</td>\n",
       "      <td>B</td>\n",
       "    </tr>\n",
       "    <tr>\n",
       "      <th>4</th>\n",
       "      <td>how I wonder</td>\n",
       "      <td>3</td>\n",
       "      <td>False</td>\n",
       "      <td>-0.14</td>\n",
       "      <td>28/07/2023</td>\n",
       "      <td>15:36:00</td>\n",
       "      <td>B</td>\n",
       "    </tr>\n",
       "    <tr>\n",
       "      <th>5</th>\n",
       "      <td>what you are</td>\n",
       "      <td>4</td>\n",
       "      <td>True</td>\n",
       "      <td>0.86</td>\n",
       "      <td>29/07/2023</td>\n",
       "      <td>16:36:00</td>\n",
       "      <td>B</td>\n",
       "    </tr>\n",
       "  </tbody>\n",
       "</table>\n",
       "</div>"
      ],
      "text/plain": [
       "              string  integer  boolean  floatingpoint        date      time  \\\n",
       "0  the fat black cat        4     True           0.86  24/07/2023  11:36:00   \n",
       "1     sat on the mat        4     True           0.86  25/07/2023  12:36:00   \n",
       "2   twinkle, twinkle        2     True          -1.14  26/07/2023  13:36:00   \n",
       "3        little star        2     True          -1.14  27/07/2023  14:36:00   \n",
       "4       how I wonder        3    False          -0.14  28/07/2023  15:36:00   \n",
       "5       what you are        4     True           0.86  29/07/2023  16:36:00   \n",
       "\n",
       "  category  \n",
       "0        A  \n",
       "1        A  \n",
       "2        B  \n",
       "3        B  \n",
       "4        B  \n",
       "5        B  "
      ]
     },
     "execution_count": 366,
     "metadata": {},
     "output_type": "execute_result"
    }
   ],
   "source": [
    "df"
   ]
  },
  {
   "attachments": {},
   "cell_type": "markdown",
   "metadata": {},
   "source": [
    "The first input argument is normally used positionally:"
   ]
  },
  {
   "cell_type": "code",
   "execution_count": 367,
   "metadata": {},
   "outputs": [],
   "source": [
    "df = pd.read_csv(r'.\\files\\Book1.csv')"
   ]
  },
  {
   "cell_type": "code",
   "execution_count": 368,
   "metadata": {},
   "outputs": [
    {
     "data": {
      "text/html": [
       "<div>\n",
       "<style scoped>\n",
       "    .dataframe tbody tr th:only-of-type {\n",
       "        vertical-align: middle;\n",
       "    }\n",
       "\n",
       "    .dataframe tbody tr th {\n",
       "        vertical-align: top;\n",
       "    }\n",
       "\n",
       "    .dataframe thead th {\n",
       "        text-align: right;\n",
       "    }\n",
       "</style>\n",
       "<table border=\"1\" class=\"dataframe\">\n",
       "  <thead>\n",
       "    <tr style=\"text-align: right;\">\n",
       "      <th></th>\n",
       "      <th>string</th>\n",
       "      <th>integer</th>\n",
       "      <th>boolean</th>\n",
       "      <th>floatingpoint</th>\n",
       "      <th>date</th>\n",
       "      <th>time</th>\n",
       "      <th>category</th>\n",
       "    </tr>\n",
       "  </thead>\n",
       "  <tbody>\n",
       "    <tr>\n",
       "      <th>0</th>\n",
       "      <td>the fat black cat</td>\n",
       "      <td>4</td>\n",
       "      <td>True</td>\n",
       "      <td>0.86</td>\n",
       "      <td>24/07/2023</td>\n",
       "      <td>11:36:00</td>\n",
       "      <td>A</td>\n",
       "    </tr>\n",
       "    <tr>\n",
       "      <th>1</th>\n",
       "      <td>sat on the mat</td>\n",
       "      <td>4</td>\n",
       "      <td>True</td>\n",
       "      <td>0.86</td>\n",
       "      <td>25/07/2023</td>\n",
       "      <td>12:36:00</td>\n",
       "      <td>A</td>\n",
       "    </tr>\n",
       "    <tr>\n",
       "      <th>2</th>\n",
       "      <td>twinkle, twinkle</td>\n",
       "      <td>2</td>\n",
       "      <td>True</td>\n",
       "      <td>-1.14</td>\n",
       "      <td>26/07/2023</td>\n",
       "      <td>13:36:00</td>\n",
       "      <td>B</td>\n",
       "    </tr>\n",
       "    <tr>\n",
       "      <th>3</th>\n",
       "      <td>little star</td>\n",
       "      <td>2</td>\n",
       "      <td>True</td>\n",
       "      <td>-1.14</td>\n",
       "      <td>27/07/2023</td>\n",
       "      <td>14:36:00</td>\n",
       "      <td>B</td>\n",
       "    </tr>\n",
       "    <tr>\n",
       "      <th>4</th>\n",
       "      <td>how I wonder</td>\n",
       "      <td>3</td>\n",
       "      <td>False</td>\n",
       "      <td>-0.14</td>\n",
       "      <td>28/07/2023</td>\n",
       "      <td>15:36:00</td>\n",
       "      <td>B</td>\n",
       "    </tr>\n",
       "    <tr>\n",
       "      <th>5</th>\n",
       "      <td>what you are</td>\n",
       "      <td>4</td>\n",
       "      <td>True</td>\n",
       "      <td>0.86</td>\n",
       "      <td>29/07/2023</td>\n",
       "      <td>16:36:00</td>\n",
       "      <td>B</td>\n",
       "    </tr>\n",
       "  </tbody>\n",
       "</table>\n",
       "</div>"
      ],
      "text/plain": [
       "              string  integer  boolean  floatingpoint        date      time  \\\n",
       "0  the fat black cat        4     True           0.86  24/07/2023  11:36:00   \n",
       "1     sat on the mat        4     True           0.86  25/07/2023  12:36:00   \n",
       "2   twinkle, twinkle        2     True          -1.14  26/07/2023  13:36:00   \n",
       "3        little star        2     True          -1.14  27/07/2023  14:36:00   \n",
       "4       how I wonder        3    False          -0.14  28/07/2023  15:36:00   \n",
       "5       what you are        4     True           0.86  29/07/2023  16:36:00   \n",
       "\n",
       "  category  \n",
       "0        A  \n",
       "1        A  \n",
       "2        B  \n",
       "3        B  \n",
       "4        B  \n",
       "5        B  "
      ]
     },
     "execution_count": 368,
     "metadata": {},
     "output_type": "execute_result"
    }
   ],
   "source": [
    "df"
   ]
  },
  {
   "attachments": {},
   "cell_type": "markdown",
   "metadata": {},
   "source": [
    "Notice the ```Series``` names in the file are in the expected format and taken from the first line. A csv does not have an index by default and so a ```RangeIndex``` is automatically generated:"
   ]
  },
  {
   "cell_type": "raw",
   "metadata": {},
   "source": [
    "string,integer,bool,float,date,time,category\\n\n",
    "the fat black cat,4,TRUE,0.86,24/07/2023,11:36:00,A\\n\n",
    "sat on the mat,4,TRUE,0.86,25/07/2023,12:36:00,A\\n\n",
    "\"twinkle, twinkle\",2,TRUE,-1.14,26/07/2023,13:36:00,B\\n\n",
    "little star,2,TRUE,-1.14,27/07/2023,14:36:00,B\\n\n",
    "how I wonder,3,FALSE,-0.14,28/07/2023,15:36:00,B\\n\n",
    "what you are,4,TRUE,0.86,29/07/2023,16:36:00,B\\n"
   ]
  },
  {
   "cell_type": "code",
   "execution_count": 369,
   "metadata": {},
   "outputs": [
    {
     "data": {
      "text/plain": [
       "[RangeIndex(start=0, stop=6, step=1),\n",
       " Index(['string', 'integer', 'boolean', 'floatingpoint', 'date', 'time',\n",
       "        'category'],\n",
       "       dtype='object')]"
      ]
     },
     "execution_count": 369,
     "metadata": {},
     "output_type": "execute_result"
    }
   ],
   "source": [
    "df.axes"
   ]
  },
  {
   "attachments": {},
   "cell_type": "markdown",
   "metadata": {},
   "source": [
    "## Tab Delimited Text File"
   ]
  },
  {
   "attachments": {},
   "cell_type": "markdown",
   "metadata": {},
   "source": [
    "A text file, has the file extension txt and is very similar to a csv file but uses ```\\t``` instead of ```,``` as a delimiter:"
   ]
  },
  {
   "cell_type": "raw",
   "metadata": {},
   "source": [
    "string\\tinteger\\tbool\\tfloat\\tdate\\ttime\\tcategory\\n\n",
    "the fat black cat\\t4\\tTRUE\\t0.86\\t24/07/2023\\t11:36:00\\tA\\n\n",
    "sat on the mat\\t4\\tTRUE\\t0.86\\t25/07/2023\\t12:36:00\\tA\\n\n",
    "\"twinkle, twinkle\"\\t2\\tTRUE\\t-1.14\\t26/07/2023\\t13:36:00\\tB\\n\n",
    "little star\\t2\\tTRUE\\t-1.14\\t27/07/2023\\t14:36:00\\tB\\n\n",
    "how I wonder\\t3\\tFALSE\\t-0.14\\t28/07/2023\\t15:36:00\\tB\\n\n",
    "what you are\\t4\\tTRUE\\t0.86\\t29/07/2023\\t16:36:00\\tB\\n"
   ]
  },
  {
   "attachments": {},
   "cell_type": "markdown",
   "metadata": {},
   "source": [
    "The same function ```read_csv``` is used to read in a txt file. However this function by default looks for a ```,``` as a delimiter to move onto the next column and as it is not present, the data is all shown in a single column:"
   ]
  },
  {
   "cell_type": "code",
   "execution_count": 370,
   "metadata": {},
   "outputs": [],
   "source": [
    "df = pd.read_csv(r'.\\files\\Book2.txt')"
   ]
  },
  {
   "cell_type": "code",
   "execution_count": 371,
   "metadata": {},
   "outputs": [
    {
     "data": {
      "text/html": [
       "<div>\n",
       "<style scoped>\n",
       "    .dataframe tbody tr th:only-of-type {\n",
       "        vertical-align: middle;\n",
       "    }\n",
       "\n",
       "    .dataframe tbody tr th {\n",
       "        vertical-align: top;\n",
       "    }\n",
       "\n",
       "    .dataframe thead th {\n",
       "        text-align: right;\n",
       "    }\n",
       "</style>\n",
       "<table border=\"1\" class=\"dataframe\">\n",
       "  <thead>\n",
       "    <tr style=\"text-align: right;\">\n",
       "      <th></th>\n",
       "      <th>string\\tinteger\\tboolean\\tfloatingpoint\\tdate\\ttime\\tcategory</th>\n",
       "    </tr>\n",
       "  </thead>\n",
       "  <tbody>\n",
       "    <tr>\n",
       "      <th>0</th>\n",
       "      <td>the fat black cat\\t4\\tTRUE\\t0.86\\t24/07/2023\\t...</td>\n",
       "    </tr>\n",
       "    <tr>\n",
       "      <th>1</th>\n",
       "      <td>sat on the mat\\t4\\tTRUE\\t0.86\\t25/07/2023\\t12:...</td>\n",
       "    </tr>\n",
       "    <tr>\n",
       "      <th>2</th>\n",
       "      <td>twinkle, twinkle\\t2\\tTRUE\\t-1.14\\t26/07/2023\\t...</td>\n",
       "    </tr>\n",
       "    <tr>\n",
       "      <th>3</th>\n",
       "      <td>little star\\t2\\tTRUE\\t-1.14\\t27/07/2023\\t14:36...</td>\n",
       "    </tr>\n",
       "    <tr>\n",
       "      <th>4</th>\n",
       "      <td>how I wonder\\t3\\tFALSE\\t-0.14\\t28/07/2023\\t15:...</td>\n",
       "    </tr>\n",
       "    <tr>\n",
       "      <th>5</th>\n",
       "      <td>what you are\\t4\\tTRUE\\t0.86\\t29/07/2023\\t16:36...</td>\n",
       "    </tr>\n",
       "  </tbody>\n",
       "</table>\n",
       "</div>"
      ],
      "text/plain": [
       "  string\\tinteger\\tboolean\\tfloatingpoint\\tdate\\ttime\\tcategory\n",
       "0  the fat black cat\\t4\\tTRUE\\t0.86\\t24/07/2023\\t...           \n",
       "1  sat on the mat\\t4\\tTRUE\\t0.86\\t25/07/2023\\t12:...           \n",
       "2  twinkle, twinkle\\t2\\tTRUE\\t-1.14\\t26/07/2023\\t...           \n",
       "3  little star\\t2\\tTRUE\\t-1.14\\t27/07/2023\\t14:36...           \n",
       "4  how I wonder\\t3\\tFALSE\\t-0.14\\t28/07/2023\\t15:...           \n",
       "5  what you are\\t4\\tTRUE\\t0.86\\t29/07/2023\\t16:36...           "
      ]
     },
     "execution_count": 371,
     "metadata": {},
     "output_type": "execute_result"
    }
   ],
   "source": [
    "df"
   ]
  },
  {
   "attachments": {},
   "cell_type": "markdown",
   "metadata": {},
   "source": [
    "If the delimiter is specified as ```'\\t'``` the data will instead be read in properly:"
   ]
  },
  {
   "cell_type": "code",
   "execution_count": 372,
   "metadata": {},
   "outputs": [],
   "source": [
    "df = pd.read_csv(r'.\\files\\Book2.txt', delimiter='\\t')"
   ]
  },
  {
   "cell_type": "code",
   "execution_count": 373,
   "metadata": {},
   "outputs": [
    {
     "data": {
      "text/html": [
       "<div>\n",
       "<style scoped>\n",
       "    .dataframe tbody tr th:only-of-type {\n",
       "        vertical-align: middle;\n",
       "    }\n",
       "\n",
       "    .dataframe tbody tr th {\n",
       "        vertical-align: top;\n",
       "    }\n",
       "\n",
       "    .dataframe thead th {\n",
       "        text-align: right;\n",
       "    }\n",
       "</style>\n",
       "<table border=\"1\" class=\"dataframe\">\n",
       "  <thead>\n",
       "    <tr style=\"text-align: right;\">\n",
       "      <th></th>\n",
       "      <th>string</th>\n",
       "      <th>integer</th>\n",
       "      <th>boolean</th>\n",
       "      <th>floatingpoint</th>\n",
       "      <th>date</th>\n",
       "      <th>time</th>\n",
       "      <th>category</th>\n",
       "    </tr>\n",
       "  </thead>\n",
       "  <tbody>\n",
       "    <tr>\n",
       "      <th>0</th>\n",
       "      <td>the fat black cat</td>\n",
       "      <td>4</td>\n",
       "      <td>True</td>\n",
       "      <td>0.86</td>\n",
       "      <td>24/07/2023</td>\n",
       "      <td>11:36:00</td>\n",
       "      <td>A</td>\n",
       "    </tr>\n",
       "    <tr>\n",
       "      <th>1</th>\n",
       "      <td>sat on the mat</td>\n",
       "      <td>4</td>\n",
       "      <td>True</td>\n",
       "      <td>0.86</td>\n",
       "      <td>25/07/2023</td>\n",
       "      <td>12:36:00</td>\n",
       "      <td>A</td>\n",
       "    </tr>\n",
       "    <tr>\n",
       "      <th>2</th>\n",
       "      <td>twinkle, twinkle</td>\n",
       "      <td>2</td>\n",
       "      <td>True</td>\n",
       "      <td>-1.14</td>\n",
       "      <td>26/07/2023</td>\n",
       "      <td>13:36:00</td>\n",
       "      <td>B</td>\n",
       "    </tr>\n",
       "    <tr>\n",
       "      <th>3</th>\n",
       "      <td>little star</td>\n",
       "      <td>2</td>\n",
       "      <td>True</td>\n",
       "      <td>-1.14</td>\n",
       "      <td>27/07/2023</td>\n",
       "      <td>14:36:00</td>\n",
       "      <td>B</td>\n",
       "    </tr>\n",
       "    <tr>\n",
       "      <th>4</th>\n",
       "      <td>how I wonder</td>\n",
       "      <td>3</td>\n",
       "      <td>False</td>\n",
       "      <td>-0.14</td>\n",
       "      <td>28/07/2023</td>\n",
       "      <td>15:36:00</td>\n",
       "      <td>B</td>\n",
       "    </tr>\n",
       "    <tr>\n",
       "      <th>5</th>\n",
       "      <td>what you are</td>\n",
       "      <td>4</td>\n",
       "      <td>True</td>\n",
       "      <td>0.86</td>\n",
       "      <td>29/07/2023</td>\n",
       "      <td>16:36:00</td>\n",
       "      <td>B</td>\n",
       "    </tr>\n",
       "  </tbody>\n",
       "</table>\n",
       "</div>"
      ],
      "text/plain": [
       "              string  integer  boolean  floatingpoint        date      time  \\\n",
       "0  the fat black cat        4     True           0.86  24/07/2023  11:36:00   \n",
       "1     sat on the mat        4     True           0.86  25/07/2023  12:36:00   \n",
       "2   twinkle, twinkle        2     True          -1.14  26/07/2023  13:36:00   \n",
       "3        little star        2     True          -1.14  27/07/2023  14:36:00   \n",
       "4       how I wonder        3    False          -0.14  28/07/2023  15:36:00   \n",
       "5       what you are        4     True           0.86  29/07/2023  16:36:00   \n",
       "\n",
       "  category  \n",
       "0        A  \n",
       "1        A  \n",
       "2        B  \n",
       "3        B  \n",
       "4        B  \n",
       "5        B  "
      ]
     },
     "execution_count": 373,
     "metadata": {},
     "output_type": "execute_result"
    }
   ],
   "source": [
    "df"
   ]
  },
  {
   "attachments": {},
   "cell_type": "markdown",
   "metadata": {},
   "source": [
    "## Microsoft Excel File"
   ]
  },
  {
   "attachments": {},
   "cell_type": "markdown",
   "metadata": {},
   "source": [
    "A Microsoft Excel File, file extensions .xlsx (or .xls for older files) is a collection of sheets. The data in each individual sheet is similar to a csv file. The Excel file can also be modified in Microsoft Excel to visually format the data:"
   ]
  },
  {
   "attachments": {},
   "cell_type": "markdown",
   "metadata": {},
   "source": [
    "<img src='./images/img_007.png' alt='img_007' width='800'/>"
   ]
  },
  {
   "attachments": {},
   "cell_type": "markdown",
   "metadata": {},
   "source": [
    "This formatting capability makes the raw Excel File less human readable than the more basic csv file when examined in a text editor:"
   ]
  },
  {
   "attachments": {},
   "cell_type": "raw",
   "metadata": {},
   "source": [
    "PK\u0003\u0004\u0014 \u0006 \b   ! ï\b‡¾ˆ\u0001  \u0004\u0006  \u0013 \b\u0002[Content_Types].xml ¢\u0004\u0002(  \u0002                                                                                                                                                                                                                                                                                                                                                                                                                                                                                                                                ¬TÍN\u00021\u0010¾›ø\u000e›^\n",
    "[ð`Œañ€zT\u0013ñ\u0001J;°\n",
    "Ý¶é\f\boïlQb\f²!îe›Ýv¾Ÿ™î7¾ß6®Ø@B\u001b|%FåP\u0014àu0Ö/+ñ>{\u001aÜŠ\u0002Iy£\\ðP‰\u001d ¸Ÿ\\^Œg»\bXpµÇJÔDñNJÔ54\n",
    "Ë\u0010ÁóÎ\"¤F\u0011¿¦¥ŒJ¯Ô\u0012äõpx#uð\u0004ž\u0006ÔbˆÉø\u0001\u0016jí¨xÜòç½’¹õ¢˜îÏµT•P1:«\u0015±P¹ñæ\u0017É ,\u0016Vƒ\tzÝ0t‰12X\u0003PãÊ˜,3¦7 bc(äQÎ\u0004\u000eÏ#ýrUre\u0016†µxÅÖÿ`hwþvõU÷ÂãHÖ@ñª\u0012=«†½Ë­“\u001f!­æ!¬ÊÓ ç¶&·¨l”õßºOðçÃ(ó2êYHë/\u0003wè ¾c óóÿ\u00122L\u0007!ÒÎ\u0001öÝö\fÚÅ\\«\u0004æøö.{\u0017ð\u0013»«åjÎ\u001dÔ.}=ƒvðkåô´æ+Úó\u0010\u000e¸§ø9R^SˆÈ©•à|\u0001ß\u0011ÑV\u000f\"\u0003A\"\u000b‡8ö³\u001d\u00189òþí\u0018ÚL5`ŽpËœá“O   ÿÿ\u0003 PK\u0003\u0004\u0014 \u0006 \b   ! µU0#ô   L\u0002  \u000b \b\u0002_rels/.rels ¢\u0004\u0002(  \u0002                                                                                                                                                                                                                                                                                                                                                                                                                                                                                                                                ¬’MOÃ0\f†ïHü‡È÷ÕÝ\u0010BKwAH»!T~€IÜ\u000fµ£$\u001bÝ¿'\u001c\u0010T\u001aƒ\u0003G½~üÊÛÝ<êÈ!öâ4¬‹\u0012\u0014;#¶w­†—úqu\u0007*&r–Fq¬áÄ\u0011vÕõÕö™GJy(v½*«¸¨¡KÉß#FÓñD±\u0010Ï.W\u001a\t\u0013¥\u001c†\u0016=™ZÆMYÞbø®\u0001ÕBSí­†°·7 ê“Ï›×–¦é\n",
    "?ˆ9LìÒ™\u0015ÈsbgÙ®|Èl!õù\u001aUSh9i°bžr:\"y_dlÀóD›¿\u0013ý|-NœÈR\"4\u0012ø2ÏGÇ% õZ´4ñËyÄ7\tÃ«ÈðÉ‚‹\u001f¨Þ\u0001  ÿÿ\u0003 PK\u0003\u0004\u0014 \u0006 \b   ! fc’K”\u0003  ï\b  \u000f   xl/workbook.xml¬Umo£8\u0010þ~Òþ\u0007Äw\n",
    "æ-\u00015]‘ »•ÚU•fÛ;)Rå€S¬\u0002ælÓ$ªö¿ï\u0018BÚnN§\\÷¢ÄŽ=Ããgfž1çŸ·U©=\u0013.(«'::³tÔ\u0019Ëiý8Ñ¿/Rc¬kBâ:Ç%«ÉDß\u0011¡¾øôÇù†ñ§\u0015cO\u001a Ôb¢\u0017R6¡iŠ¬ \u0015\u0016g¬!5XÖŒWXÂ’?š¢á\u0004ç¢ DV¥i[–oV˜Öz\u0010òS0ØzM3\u0012³¬­H-{\u0010NJ,¾(h#\u0006´*;\u0005®Âü©mŒŒU\n",
    "@¬hIå®\u0003Õµ*\u000b/\u001fkÆñª„°·ÈÓ¶\u001c¾>ü\u0005ƒ=œ\u0004¦££*šq&ØZž\u0001´Ù“>Š\u001fY&BïR°=ÎÁiH®ÉÉ3U5<°âþ\u0007Yù\u0007,ÿ\u0015\fY¿†@ZVBHÞ\u0007Ñ¼\u00037[¿8_Ó’ÜõÒÕpÓ|Ã•ªT©k%\u00162É©$ùD\u001fÁ’mÈ»\n",
    "Þ6Ó––`µ}äXºyqó\n",
    "×r²Æm)\u0017 ä\u0001\u001e:Ã÷\u0003ÛSž Œ¨”„×X’\u0019«%èp\u001f×ïj®Ãž\u0015\f\u0014®ÍÉß-å\u0004\u001a\u000bô\u0005±Âˆ³\u0010¯Ä\n",
    "–…Öòr¢ÏÂåw\u0001á/›\u001dm–COˆå\u0017*¿¶+Ø•\u0005«šI¢ú\u0014ÜT\u0017‹‡’®8æ»¥ÊžX¾Q1>n™ÿ cœ©ä˜>‚þÿ¯™‚@x8hõFr\n",
    "þ_ÆWP¯[ü\fÕ\u0003äûæ¾„ò ç¡Îxˆ\u001e^Ævâ¸‘32\\+N\n",
    "\u0017y¶\u0011ÙþÈ\b‚$M\u001d?E£™÷\u0003‚á~˜1ÜÊb/\f\u0005=Ñ]PÁ‘é\u001ao\u0007\u000b²Â–æ¯4^¬ýÇPó/Ã`û¡\u0002V©½£d#^%¤–ÚöžÖ9Û@\b£ ‚Ú\u001d–êƒMg¼§¹,ÀÃuíÃÞWB\u001f\u000b`<F¾ê\u0017n+b\u0013ý%NÒ™ŠÑˆ\u0012\u000fâOüÈ\bÆŽkØÉ\u0018Y±’ÑtÖ\u00112ß0êîZ`ÖÍZÝõÇ­º\u0011\\êjîr¬k<TgðË\u001cu5\u001c\u001eËp™A?¨©s\u0004êv <ÈV^\tÙÍ E\n",
    "ôkE#+p\n",
    "+q<Ã\u001d\u0007¶1v\u001dÛ˜¹±x£$N¦]yÔ»\"ü?nÌ®#Âá%¤X\u0016˜Ë\u0005ÇÙ\u0013¼ºæd=Å\u0002ôÔ\u0007\u0004|ß’zã©å E7EJKeL§¾kxqêx#\u0014Ï ÅJK=Y\u0015þúƒ÷ÕØìž&X¶ÐËª»u¨Æt¿{Ø\\÷\u001bû:½k½p\u001e«¼ïŸþ7Ç[ˆ¾$':§w':Î¾]/®Oô½J\u0016\u000f÷é©ÎÑõ4ŽN÷æóè¯Eòçp„ù\t5»‚«±“©9Èäâ'   ÿÿ\u0003 PK\u0003\u0004\u0014 \u0006 \b   ! ’\u0007”ì\u0004\u0001  ?\u0003  \u001a \b\u0001xl/_rels/workbook.xml.rels ¢\u0004\u0001(  \u0001                                                                                                                                                                                                                                                                ¬’ËjÄ0\fE÷…þƒÑ¾q2}P†qfÑR˜m›~€p”8Lb\u0007[}äïkR:ÉÀn²1HÂ÷\u001e‰»Ûw­ø$\u001f\u001ag\u0015dI\n",
    "‚¬veck\u0005ïÅËÍ#ˆÀhKl%\u0005\u0003\u0005Øç×W»Wj‘ã§`š>ˆ¨bƒ\u0002ÃÜo¥\fÚP‡!q=Ù8©œïcékÙ£>bMr“¦\u000fÒÏ5 ?Ó\u0014‡R?”· Š¡Îÿk»ªj4=;ýÑ‘å\u000b\u00162ðÐÆ\u0005D¾&Vð['‘\u0011äeûÍšö\u001cÏB“ûXÊñÍ–\u0018²5\u0019¾œ?\u0006CÄ\u0013Ç©\u0015ä8Y„¹_\u0013Fc«Ÿ\f6v‚9µ–.r·j(\fz*ßØÇÌÏ³1oÿÁÈ³Øç?   ÿÿ\u0003 PK\u0003\u0004\u0014 \u0006 \b   ! îõ\u000eº\u0004  G\u000e  \u0018   xl/worksheets/sheet1.xmlœ“ÙŽ›0\u0014†ï+õ\u001d,ß³/\u0001\u00142J&M;7UÕérí\u0018\u0013¬`LmgkÕwï1!™‘\"UÑH€×óÿØ?Ó‡£hÑž)ÍeWâÀõ1b\u001d•\u0015ï6%þþmåd\u0018iCºŠ´²c%>1\u001ffïßM\u000fRmuÃ˜A@èt‰\u001bcúÂó4m˜ Ú•=ë`¥–J\u0010\u0003Cµñt¯\u0018©† Ñz¡ï§ž ¼ÃgB¡îaÈºæ”-%Ý\tÖ™3D±–\u0018Ð¯\u001bÞë\u000bMÐ{p‚¨í®w¨\u0014= Ö¼åæ4@1\u0012´xÚtR‘u\u000bu\u001fƒ˜PtTð„ðF—4ÃüM&Á©’ZÖÆ\u0005²wÖ|[~îå\u001e¡WÒmýwa‚ØSlÏí\u0005¾ Â·I\n",
    "’++|Eo„¥W˜=.UìxUâ?ó,Ÿ?.“\u000fN°ò3'^D\u000b'_.\"'H£I²LÓ,[øñlZq¸a[\u0015R¬.ñ<(>N°7›\u000eþùÁÙA¿ê#CÖÏ¬eÔ0È\u0011`ô[JñL‰½º \u0002S_ÇŸ­!ÛqÖšx-åÖâž Ð‡¼zÀØ¼„\u001a¾g¬…í«  ú× ÅöAˆwUòºQµ\u001aŒÿE¡ŠÕd×š¯òð‰ñMc uì&p ÖQEuZ2MÁÊÜ\u0012Ë¥²\u0005\b|‘àöŸ\u0004+’ãÐ\u001exeš!>N¢ \u0004Èši³â–‰\u0011Ýi#ÅÏqÏH:3`çÀH1º027Ló‘òŸÈÉ\u0018\tí\u0018™»I\u001cæi6\u0001èm 7¨ÿ\u0007  ÿÿ   ÿÿœ–Ûnƒ0\f@\u0005å}\u0010 P\u0001ÒZ.ßÁ(¨{é&¨ºíï—` ‰\u0001./­ê\u0013\u0003§vLÜ_›æžU÷*»/«K\b#VÿYÝzñíx Ö7óªúxùÉš¾nn÷„P›û$kÉ¾J8!\u0001±D \u0017¿>R\u0016;4vê‘8\u0001!\u0012Í„k\u0012ç%ÁM\"[\u0012Ì3‘|‰ ¢XI‚®S\u0002\u0012j÷êÏ—q„žÙ‘ûŒ#\t'ÄÓ²†È\u0011\u0010lð‡nû<Å¤¿·5Ã™ÚÝ¦'÷…ÛRN+ÿ\u000bj‡~¤¯\u0010]9‡½.\\ÙgœÙÞ!b\u0001,l\u0010`>ÀÔöBn,D—@ûÚc\u0007ë2ù32%lÊ¤H&\u0010ë2§Ø¶Lµ»\u001d*öZuÍ…X]Ó&$ãÇL\u0014rÿ.š€¤'þœjÈ¬T£6( >Ùõ]Ÿê\u000bÑ%Ð;ìŠºÛßÎ\u00126í\u001e] À.nä)¶mWí6ì‚QG–ì\u000b\u0013åk<9:PrÈ¡<¢&. >{\u001ckyüˆP\u0003”@ë\u001e™z,£ç\u0005³_¤„M‘\u0011\u0012\tÄºÈ)¶-Ríþ¿HÈ¡Dâv‡ø$2 z¿»‘:\u0019‡IP\u0002½G¤˜\u0016ûEJØ\u0014ÉpÃ\u0003\u0002&Q1œ§˜2‰vgj÷¦Iº(ITù9$Q*‘œ\u0002â³Jì\u000eÂ{ÜÉãg÷p–pB\"}8ãé\f\b\u0013Ç™è=<zæàv\u001djû·ôý=„Æ$ã‘-¦\u001a\u0014Cm\u0015# ~©\u001dÌ\u0013jèêEO¸8\"Õ[\tnjG½øü\u0002  ÿÿ   ÿÿLŽÁ\n",
    "‚P\u0010Eå1\u001fYD\u0014êªM‹ ð\u000bF\u001duÈÞ<Æ± ¯ï\u0019ˆíæ\\\u000e÷N\u0016°£\u001bjÇ~t\u0003µ–Ãvs\u0004§ÜõËm\u0012~é\u0001\\%fò\\¨'lHgÚƒkEl¤ÈæÞ’l\n",
    ".` -ùC9œÀ‰2yCcñ9\u0004QSd\u0003÷\"5®q¸\u0004Ž}qÿÌM\u000ezmRˆe†Õ@wT\u001b]-“¥ð—®ön¶“Uð\u0016}Œ=‘\u0015_   ÿÿ\u0003 PK\u0003\u0004\u0014 \u0006 \b   ! Á\u0017\u0010¾N\u0007  Æ   \u0013   xl/theme/theme1.xmlìYÍ‹\u001b7\u0014¿\u0017ú?\fswü5ã%ÞàÏl“Ý$d”\u001cµ¶ìQV32’¼\u001b\u0013\u0002%9õR(¤¥—Bo=”Ò@\u0003\n",
    "½ô\t$´é\u001fÑ'ÍØ#­å$›lJZv\n",
    "‹Gþ½§§÷ž~zótñÒ½˜zG˜\u000bÂ’–_¾Pò=œŒØ˜$Ó–k8(4|OH”Œ\u0011e\tnù\u000b,üKÛŸ~r\u0011mÉ\bÇØ\u0003ùDl¡–\u001fI9Û*\u0016Å\b†‘¸Àf8ß&ŒÇHÂ#Ÿ\u0016Ç\u001c\u001dƒÞ˜\u0016+¥R­\u0018#’ø^‚bP{}2!#ì\n",
    "•J{©¼Oá1‘B\n",
    "Œ(ßWª±%¡±ãÃ²Bˆ…èRî\u001d!Úòaž1;\u001eâ{Ò÷(\u0012\u0012~hù%ýç\u0017·/\u0016ÑV&Då\u0006YCn ÿ2¹L`|XÑsòéÁjÒ \bƒZ{¥_\u0003¨\\ÇõëýZ¿¶Ò§\u0001h4‚•¦¶Ø:ë•na\n",
    "PúÕ¡»WïUË\u0016ÞÐ_]³¹\u001dª…× T°†\u001f\fºàE\u000b¯A)>\\Ã‡f§gë× \u0014_[Ã×Kí^P·ôkPDIr¸†.…µjw¹Ú\u0015dÂèŽ\u0013Þ\fƒA½’)ÏQ\n",
    "«ìRSLX\"7åZŒî2> €\u0002R$IâÉÅ\fOÐ\b²¸‹(9àÄÛ%Ó\b\u0012o†\u0012&`¸T)\n",
    "JUø¯>þ¦#Š¶02¤•]`‰X\u001bRöxbÄÉL¶ü+ Õ7 /ž={þðéó‡¿=ôèùÃ_²¹µ*Kn\u0007%SSîÕ_ÿýý\u0017Þ_¿þðêñ7éÔ'ñÂÄ¿üùË—¿ÿñ:õ°âÜ\u0015/¾}òòé“\u0017ß}õçO\u001dÚÛ\u001c\u001d˜ð!‰±ð®ácï&‹a\u000eûñ\u0001?Ä0BÄ’@\u0011èv¨îËÈ\u0002^[ êÂu°íÂÛ\u001cXÆ\u0005¼<¿kÙº\u001fñ¹$Ž™¯F±\u0005ÜcŒv\u0018w:àªšËððpžLÝ“ó¹‰»‰Ð‘kî.J¬ ÷ç3 WâRÙ°eæ\n",
    "Š\u0012‰¦8ÁÒS¿±CŒ\u001d«»Cˆå×=2âL°‰ôî\u0010¯ƒˆÓ%Cr`%R.´CbˆËÂe „ÚòÍÞm¯Ã¨kÕ=|d#a[ ê0~ˆ©åÆËh.QìR9D15\u001d¾‹dä2rÁG&®/$DzŠ)óúc,„Kæ:‡õ\u001aA¿\n",
    "\fã\u000eû\u001e]Ä6’KrèÒ¹‹\u00183‘=vØP<sÚL’ÈÄ~&\u000e!E‘wƒI\u0017|Ù;D=C\u001cP²1Ü·\t¶Âýf\"¸\u0005äjš”'ˆúeÎ\u001d±¼Œ™½\u001f\u0017t‚°‹eÚ<¶ØµÍ‰3;:ó©•Ú»\u0018StŒÆ\u0018{·>sXÐa3Ëç¹ÑW\"`•\u001dìJ¬+ÈÎUõœ`\u0001e’ªkÖ)r—\b+e÷ñ”m°goq‚x\u0016(‰\u0011ß¤ù\u001aDÝJ]8åœTzŽ\u000eMà5\u0002å\u001fä‹Ó)×\u0005è0’»¿Ië\bYg—z\u0016î|]p+~o³Ç`_Þ=í¾\u0004\u0019|j\u0019 ö·öÍ\u0010Qk‚<a†\b\n",
    "\f\u0017Ý‚ˆ\u0015þ\\D«Zlî”›Ø›6\u000f\u0003\u0014FV½\u0013“äÅÏ‰²'üwÊ\u001ew\u0001s\u0006\u0005[ñû”:›(eçD³\t÷\u001f,kzhžÜÀp’¬sÖyUs^ÕøÿûªfÓ^>¯eÎk™óZÆõöõAj™¼|Ê&ïòèžO¼±å3!”îË\u0005Å»Bw}\u0004¼ÑŒ\u00070¨ÛQº'¹j\u0001Î\"øš5˜,Ü”#-ãq&?'2ÚÐ\fZCeÝÀœŠLõTx3& c¤‡u+\u0015ŸÐ­ûNóxÓNg¹¬ºš©\u000b\u0005’ùx)\\C—J¦èZ=ïÞ­Ôë~èTwY—\u0006(ÙÓ\u0018aLf\u001bQu\u0018Q_\u000eB\u0014^g„^Ù™XÑtXÑPê—¡ZFqå\n",
    "0m\u0015\u0015xåöàE½å‡AÚA†f\u001c”çc\u0015§´™¼Œ®\n",
    "Î™Fz“3©™\u0001Pb/3 tSÙºqyjuiª½E¤-#Œt³0Ò0‚\u0017á,;Í–ûYÆº™‡Ô2O¹b¹\u001br3ê\u000f\u0011kE\"'¸&&SÐÄ;nùµj\b·*#4kù\u0013è\u0018Ã×x\u0006¹#Ô[\u0017¢S¸v\u0019Ižnøwa–\u0019\u0017²‡D”:\\“NÊ\u00061‘˜{”Ä-_-•\n",
    "4Ñ\u001c¢m+W€\u0010>Zãš@+\u001f›q\u0010t;Èx2Á#i†Ý\u0018QžN\u001fáS®pþªÅß\u001d¬$Ù\u001cÂ½\u001f½\u0003:ç7\u0011¤XX/+\u0007Ž‰€‹ƒrêÍ1›°\u0015‘åùwâ`Êh×¼ŠÒ9”Ž#:‹Pv¢˜džÂ5‰®ÌÑO+\u001f\u0018OÙšÁ¡ë.<˜ª\u0003ö½OÝ7\u001fÕÊs\u0006iæg¦Å*êÔt“é‡;ä\n",
    "«òCÔ²*¥nýN-r®k.¹\u000e\u0012ÕyJ¼áÔ}‹\u0003Á0-ŸÌ2MY¼NÃŠ³³QÛ´3,\b\fOÔ6ømuF8=ñ®'?ÈÌZu@,ëJøúÊÜ¼Õf\u0007w<zp8§RèPBo—#(úÒ\u001bÈ”6`‹Ü“Y\bß¼9'-ÿ~)l\u0007ÝJØ-”\u001aa¿\u0010TƒR¡\u0011¶«…v\u0018VËý°\\êu*\u000fà`‘Q\\\u000eÓëú\u0001\\aÐEvi¯Ç×.îãå-Í…\u0011‹‹L_Ì\u0017µáúâ¾\\Ù|qï\u0011 ûµÊ Ymvj…fµ=(\u0004½N£ÐìÖ:…^­[ï\n",
    "zÝ°Ñ\u001c<ð½#\n",
    "\u000eÚÕnPë7\n",
    "µr·[\bj%e~£Y¨\u0007•J;¨·\u001bý ý +c`å)}d¾ ÷j»¶ÿ\u0001  ÿÿ\u0003 PK\u0003\u0004\u0014 \u0006 \b   ! ^®l\u0013œ\u0004  \u0001\u001c  \n",
    "   xl/styles.xmlìYmoâ8\u0010þ~Òý‡(ßi^JX@„ÕRŠ´ÒÞê¤v¥ûj\u0012\u0007¬ú\u00059¦\u000b{ºÿ¾c;\u0001³t—@KUtÛ\u000f4™Ø\u001fÏØã™ñàýŠQï\u0011Ë’\bžúÑUè{˜g\"'|–ú_î'­®ï•\n",
    "ñ\u001cQÁqê¯qé¿\u001fþùÇ TkŠïæ\u0018+\u000f x™ús¥\u0016ý (³9f¨¼\u0012\u000bÌáK!$C\n",
    "^å,(\u0017\u0012£¼Ô\u0018\n",
    "â0ì\u0004\f\u0011î[„>Ëš€0$\u001f–‹V&Ø\u0002)2%”¨µÁò=–õ?Î¸hJê*j£Ì[E\u001d\u0019{+Y\u000fb¤{ã0’IQŠB]\u0001n Š‚dxŸn/è\u0005(Û\"\u0001òiHQ\u0012„ñÎÜWòD¤v ñ#Ñæó‡ƒBpUz™Xr•ú1\u0010Õ*è?pñ•Oô'°pÕj8(¿yˆ‚$òƒá \u0013THOé@sFÂ\u0011Ã¶Å\n",
    "¢d*‰nV FèÚŠc-0Ö®Ú1\u0002º×Â@ó°l†ƒ©nuö±Ì%ŒI(u4`\u0005Ã\u0001,\u0015…%ŸÀW¯z¾_/`ª\u001cVµ¥\fŸ\u000e¶žI´ŽâÄé\u0010˜\u0001a–Bæ°‹jÝG!èÙÊ†\u0003Š\u000b\u0005Jd6×ÿ•XÀïT(\u0005Km8È\tš\tŽ¨Ö[ÝÃí\tÛ\u000fvZê«9ì”ÚP„çx…óÔï´\n",
    "\u0019=D5B£ö†‹¡Ò¨9P®\u00197jo'wxnµV.‰ó±ö°\u0016¿D5oVé‹ÚüÌëùmþa›_â¦¹<×t\u0006Æ§mÞŸ\u0010©Ü;œR\u0019¦ôN»õŠí‘\u0001Î}Ux|É&L}\u0004×\u000e¡˜>GëG8ŸªG{:Ø\u0017}j¸h\u0016Û…mŸ„ë­ŠÍ Ç²Š ð¨z{h± ë‘9\u001c«¸b\u0007-j\u001fžä\u001eÜç%›b91¥\u0006=4H\fM\u000eiòÙƒ4°–\u000eÈ\u001aê¥\u0001ÚõIhZ\u0015O­$°Ã.7\u001d/6Q®ÃôgØÉ\u0019±;/€­§ð”NÞ½¨½ ‘zÉ]±\u0007wŽ]ñìA\u001a¬ãÞ/õbœ\u001b¸3ÇgîxÌïót¾’úŸµW \u000eätI¨\"ü\to\t˜ùÊñ¿:5\u0002›·\u0010›é„&ÓQ’<T™Ž\u0011d\u0002‚p^º\"¼R˜çN'±T”p·I9G¹øê4YÚç:\u0011\\\\} dÆ­xŠJ¬\u0011\fƒ³gQödñê”äËÂœBõë\u0018ÒH#¨f¥ŸmvóZ1›#\u0005ÆVæ§\u0019íÓ¨¾Bø®MN2“\u0001Î…$ßÀóî¦ƒÎTmxàD\t1x@[c¹\u00119l€ù¼ÏX¿,õ‚9§^ÞRÊö,\u0005Fà€\\\u0005æyÀX°†¿ß*tJ\u0012¯´Ý.uYýÞj&Æ‡\u0005ó:nùÿ°NÞbuì\u0018W[í‰h\u0001*‰ÍKa›zèþ¢Ú\u0001µåÆ£Š,M¡uaµ\u0006f8'KvL\n",
    "ö@ý*ì\u000eOÔa\u000fô¨+±?ÌW+\u0014â_¥oJL!b\u0013TCÄžã\u0002-©ºß|Lýíó_F\tÊV­þ&B\u0019ˆÔß>Òµî¨£OPˆ‰?•Pœ†ÿÞR’Ôÿ÷vô®7¾Ä­n8ê¶Ú×8iõ’Ñ¸•´oFãñ¤\u0017ÆáÍÎ}Í3nkÌõ\u0012ÔU¢v¿¤p§#«ÉVäï¶²Ôw^,}SY\u0007Ú.÷^Ü\t?$QØš\\‡Q«ÝAÝV·s´&I\u0014;íÑm2I\u001cîÉ‰·:a\u0010Eö~H“OúŠ0“\u0006ìÒ¿w¥`$xýÅ$‚Ú\u0012Áöînø\u001d  ÿÿ\u0003 PK\u0003\u0004\u0014 \u0006 \b   ! äÐÐºÿ   \u0005\u0002  \u0014   xl/sharedStrings.xmld‘ÁJÄ0\u0010†ï‚ï0ä¬›*(º´YT\u0010¼ë\u0003dÛi\u001b6™Y“©µoo\u0016zæ–|ÿŸÉGR\u001f~ƒ‡\u001fŒÉ15ênW)@j¹s44êëóýöIA\u0012KõLØ¨\u0005“:˜ë«:%|–R£F‘ó^ëÔŽ\u0018lÚñ\u0019)'=Ç`%oã Ó9¢íÒˆ(ÁëûªzÔÁ:RÐòD’ï}V0‘ûžðm\u0005\u000fÊÔÉ™ZL²\u0002L #BžWk1µ¾$k*q‹\u001c\u0015­#³ßÖ:+¸emf\u0003ÇeË_¶@fG'7°.Š<ÛöYüèm{‚<v[ðNÄãåi\u000bÿ‘gø€™©Ã\"›Ç<tá\tl,ä_\u000b\t\u0017ŠRïù¿ŒÎßhþ   ÿÿ\u0003 PK\u0003\u0004\u0014 \u0006 \b   ! A¿ø`Ù   Ê\u0001  #   xl/worksheets/_rels/sheet1.xml.rels¬‘ÁNÃ0\f@ïHüCä;I»\u0003Bhé.\biW\u0018\u001fà¥n\u001bÑ:Ql\u0010û{‚v¡Ó$.œ,Ûòó“½Ý}-³ù¤\"1±‡Ö6`ˆCê#\u001eÞ\u000eÏw\u000f`D‘{œ\u0013“‡\u0013\tìºÛ›í\u000bÍ¨uH¦˜ÅT\n",
    "‹‡I5?:'a¢\u0005Å¦L\\;C*\u000bjMËè2†w\u001cÉmšæÞ•ß\fèVL³ï=”}¿\u0001s8åºùov\u001a†\u0018è)……X¯¬pŠÇ™*\u0010ËHêÁÚsEÎ¡µU\u0016Üuö?=r‰¬T^Iµ\u001eZVF\u0017=w‘·ö\u0018ùGÒ­>Ð}\u0003  ÿÿ\u0003 PK\u0003\u0004\u0014 \u0006 \b   ! Ø Ç÷[\u0004  \b\u0014  '   xl/printerSettings/printerSettings1.binìXmO\\E\u0014>ç™Ù¹³\u000bË.ì–.”—e+Ðb¡`iE¥-ëB\u000bZimk­oMˆ‹†Ä€Ñö³¤‰_Œ1ÆMü\u000fþ\u0006?ù#Lü\u001b&Æà3÷.,UCW$„„žÉdçõœgÎœsæÜ]“Û2.U™—{R–š\\\u0019ÖIi•Ô.âW9W0¿©¨¤åIÛ´¯³\u0015É}@@6–½ªL·Ì±õ…Ê¥AÂöïßwÖVÖ7Ö9ømwc†\u000bÃÚ”\u0013ùÓöf\u0004iûM¡&+².\u001b¬e¹.«ü]•/dM>fÿ–|&äË¸U“\u001bré_Á\u0005\f[‘Èæ;6µ®\u0006jŒE\n",
    "®®ÊvÎæ)3ÚÝñ&­\u0019mC;²è@ÎH&ÌÂ Þ†\b\u001eéÀ(Œh˜\u0004ù¨ÕT†<#D&âB_¦ä¶l”b]³ð\"†Õ²¦Ê®\u001c•%\u001b3l\bPéØæ”:»\u0019Ù9oç$\u0017F}Ùø²}J\u0010\u0005wDêä“m\u0001‹:åïJC:‰BºêêË0R\bpmÅøŠ¬Ö©¦ 8p\u0007ÒÈ€g7YíÐœÉ£S»´ Eœ@7N¢dzÐ‹SèC?\u00060ˆ2†PÁi¼€aŒ`\u0014gp\u0016cxQÏé¸NèyÔ)}I/è´^ÔKú2fô\u0015¼Š×0‹Ë¸‚«˜CU_GMçýæ\u0002®á:\u0016±„7ð&nÐB\u00036\u0017«ÝV\b.èÝf,ÁÙ¹¬é09Ík§éB\u0001Em CŒÎöÙ~;`\u0007\u001dÑiEOk\u0003žÑ³:¦D‡ñúDý|}\u0012O¡Ó\u0019ÄèÌ¬^Ö+zUç´\u000e\u000bn\u0007œ\n",
    "àÞÂ2nâ\u0016ÞÆm_¹ƒ»x\u0007÷ð.îã=¼ï·ô\u0003|ˆð b\u0012‹kÞˆÆ¶¥í\u001aë7œ Ñ¯;áºÝIWŠz¢^=¥}Ú¯\u0003:hê;GÐâ°\u0016G´8ªEáõû!øNI5.<\\¶Ðú@£ôyëó‰E\u001bšºI™Xw*>1rå\u001fr.rÞ¥]Æµ¹v—uÁÐyÙèr\u0005#4orÊRõ¾'±~gè˜¼m\u000724°p#\u001a›\u000b\u0013&)<‘Nï\n",
    "Ö·sÖ¬\u000e$ªà‚j€\u001f\\o—R‚ïÖf¤Ì@5gÙN³LÓ;ž´‰Ì²?Æú;Ýøsö§¾Þ{¶úà1\u0003ÜO\u0016R*…R\u0003\u0003¹\u0006Æ9vé\n",
    "¡\u0004\"»˜¾\u000fÝj\u001c[V\u0018WöG‘€|\u0019Z[¢¯D–7ÖWeêâÄR­ÖºÄƒÝ\u0007%µ\n",
    "yŸz9ÐmÉ½1¨o\u001d\u00054G\u0002Ã\u000fDQ“›²,×d‰ÙÂ\u0002[wÙªòUl•þïþÅƒt¤ÍÍÍ\u001dÜ?Ó[\u001b\u00141s‰èÅŒ\u0003­Ñ<Ó…O˜B<¢K?d¢p‡ý‡,kL$>eêð,Ú‘|8×Ì Z*15kg„Âãø°±à?¶B\u0011ù%Á“Š\u0015À(“&1¥Ù\u0013\u001c½»¾÷ŠÃ9ÛQ’\u0004f*±i]Ï€u°\u0006À÷¡ñì\u0014wÉeød\"<lÿÂ»¶›Šá…KÒïƒT;y¶ø´\u001d\u001f“:v'mzD°…Ý5¨\"Xâ¶é%ß—a”\u0019K\\C{;ñzn\"GI\u0003©$ã\u000e«Šáµ6S÷¬æÂ\u0007”\u000eëˆŽ6> º¥µrì/9ù—åðÕÐ\bÕÍÔiŸ\u0010T¶Xš¤ü${N‡­¿   ÿÿ\u0003 PK\u0003\u0004\u0014 \u0006 \b   !  *J¹ã\u0002  '\u0006  \u0014   xl/tables/table1.xmlœ”]£6\u0014†ï+í@Ü{ð\u0017\u0018¢$+ŒM5RÛ‹ýø\u0001\u001eâLÐ\u0002ŽŒ³›¨êï!™e‚f*µ½ƒcû9ç¼ï±×\u001fÏ}\u0017}·~lÝ°‰É\u0003Ž#;4n×\u000eÏ›øë—\u001aåq4\u00063ìLç\u0006»‰/vŒ?n?ü²\u000eæ©³\u0011œ\u001eÆM|\bá¸J’±9ØÞŒ\u000fîh\u0007XÙ;ß› ¿þ9\u0019ÞšÝx°6ô]B1Î’Þ´C|#¬úæß@zã¿Ž¨qýÑ„ö©íÚp¹²â¨oVÏƒóSU›øì£³g?ágÿ\u0006Þ·w£Û‡\u0007€%n¿o\u001bû¦FÂ\u0013o¿·“4¯(ö?YÙÌ‚ºÚ\u001dh\n",
    "L¿:MŸ\u0016Th&•DœT\u0015â\"\u0015¨Ð\u0019C\u0018\u0013&…$%cò¯8\u001aL\u000fÍ}™z„Ó»v<væòÇ\"èí~\u0013—dõ«ˆ£à‚éÆOîÇçƒû\u0001î‚·\u00070Áz\b©óþ\u00112ß‡¤ó°ö²PÀñ)Ï\"H`û\f]¬äñvmNÁÕm\u0017¬î«øM&ÛÛhU®;õÃ\u00185î4„M, Áµ [üUAö\"aŽ\u0005¡˜J„e‘\"ÎT‰J]iD5'˜\u0012šâLÌ\u0012ŽÁƒ~&˜—nE¼L{ÅÓÉ Ÿx]\u0015iÓ\u0012Õ˜+Ä©\u0014¨¬*Ž””¬Ê±ÆDÑ\u0019ß\u000eaÏÞÃOã9ãËª$¹&\u0002ÉLÃ ÈZ£œ\u0013‚04¢…JY­ñŒr®[ðÓ÷øüž/E)°L\u0015ªy!\u0010×\u0015F’\u0015 VJU†+ÉêšÌü}çÌ²\u0001\u000eê7¦kN\tvw³ †Û\n",
    "ÿ[I\u0011{ |üÓ†urgÜ[\u0017Óû:•ÊŠ”è\u001aUT€Ì\\+TRp‘³¢â²$T\u0015l®\u0013\f´\u000b\u001dØ{:d÷ü´*\u0018æ‚¡*\u0015\u0019èœ)TÔ sMy™g¬¨SžÎüÐöK>}\u000f\u0017íÕG¡\u0018×¥\"ˆš\"®ª\u001cåJÀ\u0014Âô<+ò\\W3¿úŸ¿,z SŽ{ÅÆ\u0017É>‡Kg\u001f‡½»\u0006®Áßí®=õ0®#Üóºõc¸9t½ÞSì7ó&4½\n",
    "Á·G\u000b¯7¼%Ó®Û¡9Š_\u000bÙþ\n",
    "  ÿÿ\u0003 PK\u0003\u0004\u0014 \u0006 \b   ! @]à+§   þ   \u0010   xl/calcChain.xml\\ÎA\n",
    "Â0\u0010\u0005Ð½à\u001dÂìmjÕ*Ò´\u000bÅ\u0013è\u0001B:6dR’ z{#h…n\u0006æ}øü¦{:Ë\u001e\u0018¢ñ$`]”À”ï\n",
    "\n",
    "\u0002n×Ëê ,&I½´žPÀ\u000b#tírÑ(iÕIKC,7P\u0014 S\u001aœG¥ÑÉXø\u0011)'w\u001fœLù\n",
    "\u0003c@ÙG˜œåUYÖÜå\u0002h\u001bÅ‚€ó\u0006˜É\u001b€ÙÏå?Þ~y‚Ý\u001cê9ìçPýOËÛ7   ÿÿ\u0003 PK\u0003\u0004\u0014 \u0006 \b   ! ºq\u0010WC\u0001  Y\u0002  \u0011 \b\u0001docProps/core.xml ¢\u0004\u0001(  \u0001                                                                                                                                                                                                                                                                Œ’ÍNÃ0\u0010„ïH¼Cä{b'©h±’T\u0002Ô\u0013•*\u0011ÄÏÍ²·mDìX¶!íÛã$m\b*\u0007ŽÞ™ývvålyuð\u0005ÆVÊQ\u001c\u0011\u0014€â¨Ô.GÏå*\\ À:¦\u0004«\u001b\u00059:‚EËâú*ãšòÆÀÆ4\u001aŒ«À\u0006ž¤,å:G{ç4ÅØò=Hf#ïP^Ü6F2çŸf‡5ã\u001fl\u00078!ä\u0006KpL0Çp\u0007\fõHD'¤à#Ršº\u0007\bŽ¡\u0006\tÊY\u001cG1þñ:0ÒþÙÐ+\u0013§¬ÜQûNq§lÁ\u0007qt\u001fl5\u001aÛ¶Ú´áóÇøuýøÔ¯\u001aVª»\u0015\u0007Td‚Sn€¹Æ\u0014›·JgxRèŽW3ëÖþÎÛ\n",
    "ÄÝñä¹¬{N\u001f{€\b|\u0010:Ä>+/éýC¹BEB’4$ó0™•1¡)¡Éí{7öW\u0017l(ÈÓðÿ\u0010çe<£\t¡d1!ž\u0001E†/>Cñ\n",
    "  ÿÿ\u0003 PK\u0003\u0004\u0014 \u0006 \b   ! ˜¸\u0011ˆ\u0001  \u001a\u0003  \u0010 \b\u0001docProps/app.xml ¢\u0004\u0001(  \u0001                                                                                                                                                                                                                                                                œ’AoÛ0\f…ï\u0003ö\u001f\f\u0001=6rº¡\u0018\u0002YÅnèaÃ\u0002$íÎœLÇBeI\u0010Y#Ù¯Ÿl/©³í´\u001bùøðô‰’º;t®è1‘\n",
    "¾\u0012ËE)\n",
    "ô&ÔÖï+ñ¸û|ýA\u0014ÄàkpÁc%ŽHâN¿}£6)DLl‘Š\u001cá©\u0012-s\\II¦Å\u000eh‘Ç>Oš:àÜ¦½\fMc\n",
    "Þ\u0007óÒ¡gyS–·\u0012\u000fŒ¾Æú:ž\u0003Å”¸êùCë`\u0006>zÚ\u001dc\u0006ÖêcŒÎ\u001aà|KýÕš\u0014(4\\|:\u0018tJÎ‡*ÓmÑ¼$ËG]*9oÕÖ€Ãu\u000eÖ\n",
    "8B%_\u0005õ€0,m\u00036‘V=¯z4\u001cRAög^Û(~ á€S‰\u001e’\u0005Ï\u0019k°MÍX»Hœô÷ž©EdR2\u001b&q,çÞymßëåhÈÅ¥q\b˜@òà\u0012qgÙ!}k6ø\u001fÄË9ñÈ0ñN8Ûo:sÎ7^9ŸôGö:t\u0011üQ_ý.®”<Iê‹õÏô\u0018wá\u001e\u0018O{½\u0014Õ¶…„u~ŠóÞÏ‚zÈ+Mn\bY·à÷XŸ<\u000f†_ð4}u½¼]”ïÊüÀ3MÉ×O­\u0001  ÿÿ\u0003 PK\u0001\u0002- \u0014 \u0006 \b   ! ï\b‡¾ˆ\u0001  \u0004\u0006  \u0013                 [Content_Types].xmlPK\u0001\u0002- \u0014 \u0006 \b   ! µU0#ô   L\u0002  \u000b             Á\u0003  _rels/.relsPK\u0001\u0002- \u0014 \u0006 \b   ! fc’K”\u0003  ï\b  \u000f             æ\u0006  xl/workbook.xmlPK\u0001\u0002- \u0014 \u0006 \b   ! ’\u0007”ì\u0004\u0001  ?\u0003  \u001a             §\n",
    "  xl/_rels/workbook.xml.relsPK\u0001\u0002- \u0014 \u0006 \b   ! îõ\u000eº\u0004  G\u000e  \u0018             ë\f  xl/worksheets/sheet1.xmlPK\u0001\u0002- \u0014 \u0006 \b   ! Á\u0017\u0010¾N\u0007  Æ   \u0013             Û\u0011  xl/theme/theme1.xmlPK\u0001\u0002- \u0014 \u0006 \b   ! ^®l\u0013œ\u0004  \u0001\u001c  \n",
    "             Z\u0019  xl/styles.xmlPK\u0001\u0002- \u0014 \u0006 \b   ! äÐÐºÿ   \u0005\u0002  \u0014             !\u001e  xl/sharedStrings.xmlPK\u0001\u0002- \u0014 \u0006 \b   ! A¿ø`Ù   Ê\u0001  #             R\u001f  xl/worksheets/_rels/sheet1.xml.relsPK\u0001\u0002- \u0014 \u0006 \b   ! Ø Ç÷[\u0004  \b\u0014  '             l   xl/printerSettings/printerSettings1.binPK\u0001\u0002- \u0014 \u0006 \b   !  *J¹ã\u0002  '\u0006  \u0014             \f%  xl/tables/table1.xmlPK\u0001\u0002- \u0014 \u0006 \b   ! @]à+§   þ   \u0010             !(  xl/calcChain.xmlPK\u0001\u0002- \u0014 \u0006 \b   ! ºq\u0010WC\u0001  Y\u0002  \u0011             ö(  docProps/core.xmlPK\u0001\u0002- \u0014 \u0006 \b   ! ˜¸\u0011ˆ\u0001  \u001a\u0003  \u0010             p+  docProps/app.xmlPK\u0005\u0006    \u000e \u000e ¦\u0003  6.    "
   ]
  },
  {
   "attachments": {},
   "cell_type": "markdown",
   "metadata": {},
   "source": [
    "However the additional formatting is not important and only the data is read in by Python. The related function ```read_excel``` is used to read in the data from an Excel File. The delimiter is predefined in an Excel File however the Excel File can have multiple sheets so the keyword input argument ```sheet_name``` is available, this defaults to the name ```'Sheet1'``` which is the default for an Excel Spreadsheet:"
   ]
  },
  {
   "cell_type": "code",
   "execution_count": 374,
   "metadata": {},
   "outputs": [
    {
     "name": "stdout",
     "output_type": "stream",
     "text": [
      "\u001b[1;31mSignature:\u001b[0m\n",
      "\u001b[0mpd\u001b[0m\u001b[1;33m.\u001b[0m\u001b[0mread_excel\u001b[0m\u001b[1;33m(\u001b[0m\u001b[1;33m\n",
      "\u001b[0m    \u001b[0mio\u001b[0m\u001b[1;33m,\u001b[0m\u001b[1;33m\n",
      "\u001b[0m    \u001b[0msheet_name\u001b[0m\u001b[1;33m:\u001b[0m \u001b[1;34m'str | int | list[IntStrT] | None'\u001b[0m \u001b[1;33m=\u001b[0m \u001b[1;36m0\u001b[0m\u001b[1;33m,\u001b[0m\u001b[1;33m\n",
      "\u001b[0m    \u001b[1;33m*\u001b[0m\u001b[1;33m,\u001b[0m\u001b[1;33m\n",
      "\u001b[0m    \u001b[0mheader\u001b[0m\u001b[1;33m:\u001b[0m \u001b[1;34m'int | Sequence[int] | None'\u001b[0m \u001b[1;33m=\u001b[0m \u001b[1;36m0\u001b[0m\u001b[1;33m,\u001b[0m\u001b[1;33m\n",
      "\u001b[0m    \u001b[0mnames\u001b[0m\u001b[1;33m:\u001b[0m \u001b[1;34m'list[str] | None'\u001b[0m \u001b[1;33m=\u001b[0m \u001b[1;32mNone\u001b[0m\u001b[1;33m,\u001b[0m\u001b[1;33m\n",
      "\u001b[0m    \u001b[0mindex_col\u001b[0m\u001b[1;33m:\u001b[0m \u001b[1;34m'int | Sequence[int] | None'\u001b[0m \u001b[1;33m=\u001b[0m \u001b[1;32mNone\u001b[0m\u001b[1;33m,\u001b[0m\u001b[1;33m\n",
      "\u001b[0m    \u001b[0musecols\u001b[0m\u001b[1;33m:\u001b[0m \u001b[1;34m'int | str | Sequence[int] | Sequence[str] | Callable[[str], bool] | None'\u001b[0m \u001b[1;33m=\u001b[0m \u001b[1;32mNone\u001b[0m\u001b[1;33m,\u001b[0m\u001b[1;33m\n",
      "\u001b[0m    \u001b[0mdtype\u001b[0m\u001b[1;33m:\u001b[0m \u001b[1;34m'DtypeArg | None'\u001b[0m \u001b[1;33m=\u001b[0m \u001b[1;32mNone\u001b[0m\u001b[1;33m,\u001b[0m\u001b[1;33m\n",
      "\u001b[0m    \u001b[0mengine\u001b[0m\u001b[1;33m:\u001b[0m \u001b[1;34m\"Literal['xlrd', 'openpyxl', 'odf', 'pyxlsb'] | None\"\u001b[0m \u001b[1;33m=\u001b[0m \u001b[1;32mNone\u001b[0m\u001b[1;33m,\u001b[0m\u001b[1;33m\n",
      "\u001b[0m    \u001b[0mconverters\u001b[0m\u001b[1;33m:\u001b[0m \u001b[1;34m'dict[str, Callable] | dict[int, Callable] | None'\u001b[0m \u001b[1;33m=\u001b[0m \u001b[1;32mNone\u001b[0m\u001b[1;33m,\u001b[0m\u001b[1;33m\n",
      "\u001b[0m    \u001b[0mtrue_values\u001b[0m\u001b[1;33m:\u001b[0m \u001b[1;34m'Iterable[Hashable] | None'\u001b[0m \u001b[1;33m=\u001b[0m \u001b[1;32mNone\u001b[0m\u001b[1;33m,\u001b[0m\u001b[1;33m\n",
      "\u001b[0m    \u001b[0mfalse_values\u001b[0m\u001b[1;33m:\u001b[0m \u001b[1;34m'Iterable[Hashable] | None'\u001b[0m \u001b[1;33m=\u001b[0m \u001b[1;32mNone\u001b[0m\u001b[1;33m,\u001b[0m\u001b[1;33m\n",
      "\u001b[0m    \u001b[0mskiprows\u001b[0m\u001b[1;33m:\u001b[0m \u001b[1;34m'Sequence[int] | int | Callable[[int], object] | None'\u001b[0m \u001b[1;33m=\u001b[0m \u001b[1;32mNone\u001b[0m\u001b[1;33m,\u001b[0m\u001b[1;33m\n",
      "\u001b[0m    \u001b[0mnrows\u001b[0m\u001b[1;33m:\u001b[0m \u001b[1;34m'int | None'\u001b[0m \u001b[1;33m=\u001b[0m \u001b[1;32mNone\u001b[0m\u001b[1;33m,\u001b[0m\u001b[1;33m\n",
      "\u001b[0m    \u001b[0mna_values\u001b[0m\u001b[1;33m=\u001b[0m\u001b[1;32mNone\u001b[0m\u001b[1;33m,\u001b[0m\u001b[1;33m\n",
      "\u001b[0m    \u001b[0mkeep_default_na\u001b[0m\u001b[1;33m:\u001b[0m \u001b[1;34m'bool'\u001b[0m \u001b[1;33m=\u001b[0m \u001b[1;32mTrue\u001b[0m\u001b[1;33m,\u001b[0m\u001b[1;33m\n",
      "\u001b[0m    \u001b[0mna_filter\u001b[0m\u001b[1;33m:\u001b[0m \u001b[1;34m'bool'\u001b[0m \u001b[1;33m=\u001b[0m \u001b[1;32mTrue\u001b[0m\u001b[1;33m,\u001b[0m\u001b[1;33m\n",
      "\u001b[0m    \u001b[0mverbose\u001b[0m\u001b[1;33m:\u001b[0m \u001b[1;34m'bool'\u001b[0m \u001b[1;33m=\u001b[0m \u001b[1;32mFalse\u001b[0m\u001b[1;33m,\u001b[0m\u001b[1;33m\n",
      "\u001b[0m    \u001b[0mparse_dates\u001b[0m\u001b[1;33m:\u001b[0m \u001b[1;34m'list | dict | bool'\u001b[0m \u001b[1;33m=\u001b[0m \u001b[1;32mFalse\u001b[0m\u001b[1;33m,\u001b[0m\u001b[1;33m\n",
      "\u001b[0m    \u001b[0mdate_parser\u001b[0m\u001b[1;33m:\u001b[0m \u001b[1;34m'Callable | lib.NoDefault'\u001b[0m \u001b[1;33m=\u001b[0m \u001b[1;33m<\u001b[0m\u001b[0mno_default\u001b[0m\u001b[1;33m>\u001b[0m\u001b[1;33m,\u001b[0m\u001b[1;33m\n",
      "\u001b[0m    \u001b[0mdate_format\u001b[0m\u001b[1;33m:\u001b[0m \u001b[1;34m'dict[Hashable, str] | str | None'\u001b[0m \u001b[1;33m=\u001b[0m \u001b[1;32mNone\u001b[0m\u001b[1;33m,\u001b[0m\u001b[1;33m\n",
      "\u001b[0m    \u001b[0mthousands\u001b[0m\u001b[1;33m:\u001b[0m \u001b[1;34m'str | None'\u001b[0m \u001b[1;33m=\u001b[0m \u001b[1;32mNone\u001b[0m\u001b[1;33m,\u001b[0m\u001b[1;33m\n",
      "\u001b[0m    \u001b[0mdecimal\u001b[0m\u001b[1;33m:\u001b[0m \u001b[1;34m'str'\u001b[0m \u001b[1;33m=\u001b[0m \u001b[1;34m'.'\u001b[0m\u001b[1;33m,\u001b[0m\u001b[1;33m\n",
      "\u001b[0m    \u001b[0mcomment\u001b[0m\u001b[1;33m:\u001b[0m \u001b[1;34m'str | None'\u001b[0m \u001b[1;33m=\u001b[0m \u001b[1;32mNone\u001b[0m\u001b[1;33m,\u001b[0m\u001b[1;33m\n",
      "\u001b[0m    \u001b[0mskipfooter\u001b[0m\u001b[1;33m:\u001b[0m \u001b[1;34m'int'\u001b[0m \u001b[1;33m=\u001b[0m \u001b[1;36m0\u001b[0m\u001b[1;33m,\u001b[0m\u001b[1;33m\n",
      "\u001b[0m    \u001b[0mstorage_options\u001b[0m\u001b[1;33m:\u001b[0m \u001b[1;34m'StorageOptions | None'\u001b[0m \u001b[1;33m=\u001b[0m \u001b[1;32mNone\u001b[0m\u001b[1;33m,\u001b[0m\u001b[1;33m\n",
      "\u001b[0m    \u001b[0mdtype_backend\u001b[0m\u001b[1;33m:\u001b[0m \u001b[1;34m'DtypeBackend | lib.NoDefault'\u001b[0m \u001b[1;33m=\u001b[0m \u001b[1;33m<\u001b[0m\u001b[0mno_default\u001b[0m\u001b[1;33m>\u001b[0m\u001b[1;33m,\u001b[0m\u001b[1;33m\n",
      "\u001b[0m    \u001b[0mengine_kwargs\u001b[0m\u001b[1;33m:\u001b[0m \u001b[1;34m'dict | None'\u001b[0m \u001b[1;33m=\u001b[0m \u001b[1;32mNone\u001b[0m\u001b[1;33m,\u001b[0m\u001b[1;33m\n",
      "\u001b[0m\u001b[1;33m)\u001b[0m \u001b[1;33m->\u001b[0m \u001b[1;34m'DataFrame | dict[IntStrT, DataFrame]'\u001b[0m\u001b[1;33m\u001b[0m\u001b[1;33m\u001b[0m\u001b[0m\n",
      "\u001b[1;31mDocstring:\u001b[0m\n",
      "Read an Excel file into a pandas DataFrame.\n",
      "\n",
      "Supports `xls`, `xlsx`, `xlsm`, `xlsb`, `odf`, `ods` and `odt` file extensions\n",
      "read from a local filesystem or URL. Supports an option to read\n",
      "a single sheet or a list of sheets.\n",
      "\n",
      "Parameters\n",
      "----------\n",
      "io : str, bytes, ExcelFile, xlrd.Book, path object, or file-like object\n",
      "    Any valid string path is acceptable. The string could be a URL. Valid\n",
      "    URL schemes include http, ftp, s3, and file. For file URLs, a host is\n",
      "    expected. A local file could be: ``file://localhost/path/to/table.xlsx``.\n",
      "\n",
      "    If you want to pass in a path object, pandas accepts any ``os.PathLike``.\n",
      "\n",
      "    By file-like object, we refer to objects with a ``read()`` method,\n",
      "    such as a file handle (e.g. via builtin ``open`` function)\n",
      "    or ``StringIO``.\n",
      "\n",
      "    .. deprecated:: 2.1.0\n",
      "        Passing byte strings is deprecated. To read from a\n",
      "        byte string, wrap it in a ``BytesIO`` object.\n",
      "sheet_name : str, int, list, or None, default 0\n",
      "    Strings are used for sheet names. Integers are used in zero-indexed\n",
      "    sheet positions (chart sheets do not count as a sheet position).\n",
      "    Lists of strings/integers are used to request multiple sheets.\n",
      "    Specify None to get all worksheets.\n",
      "\n",
      "    Available cases:\n",
      "\n",
      "    * Defaults to ``0``: 1st sheet as a `DataFrame`\n",
      "    * ``1``: 2nd sheet as a `DataFrame`\n",
      "    * ``\"Sheet1\"``: Load sheet with name \"Sheet1\"\n",
      "    * ``[0, 1, \"Sheet5\"]``: Load first, second and sheet named \"Sheet5\"\n",
      "      as a dict of `DataFrame`\n",
      "    * None: All worksheets.\n",
      "\n",
      "header : int, list of int, default 0\n",
      "    Row (0-indexed) to use for the column labels of the parsed\n",
      "    DataFrame. If a list of integers is passed those row positions will\n",
      "    be combined into a ``MultiIndex``. Use None if there is no header.\n",
      "names : array-like, default None\n",
      "    List of column names to use. If file contains no header row,\n",
      "    then you should explicitly pass header=None.\n",
      "index_col : int, str, list of int, default None\n",
      "    Column (0-indexed) to use as the row labels of the DataFrame.\n",
      "    Pass None if there is no such column.  If a list is passed,\n",
      "    those columns will be combined into a ``MultiIndex``.  If a\n",
      "    subset of data is selected with ``usecols``, index_col\n",
      "    is based on the subset.\n",
      "\n",
      "    Missing values will be forward filled to allow roundtripping with\n",
      "    ``to_excel`` for ``merged_cells=True``. To avoid forward filling the\n",
      "    missing values use ``set_index`` after reading the data instead of\n",
      "    ``index_col``.\n",
      "usecols : str, list-like, or callable, default None\n",
      "    * If None, then parse all columns.\n",
      "    * If str, then indicates comma separated list of Excel column letters\n",
      "      and column ranges (e.g. \"A:E\" or \"A,C,E:F\"). Ranges are inclusive of\n",
      "      both sides.\n",
      "    * If list of int, then indicates list of column numbers to be parsed\n",
      "      (0-indexed).\n",
      "    * If list of string, then indicates list of column names to be parsed.\n",
      "    * If callable, then evaluate each column name against it and parse the\n",
      "      column if the callable returns ``True``.\n",
      "\n",
      "    Returns a subset of the columns according to behavior above.\n",
      "dtype : Type name or dict of column -> type, default None\n",
      "    Data type for data or columns. E.g. {'a': np.float64, 'b': np.int32}\n",
      "    Use `object` to preserve data as stored in Excel and not interpret dtype.\n",
      "    If converters are specified, they will be applied INSTEAD\n",
      "    of dtype conversion.\n",
      "engine : str, default None\n",
      "    If io is not a buffer or path, this must be set to identify io.\n",
      "    Supported engines: \"xlrd\", \"openpyxl\", \"odf\", \"pyxlsb\".\n",
      "    Engine compatibility :\n",
      "\n",
      "    - \"xlrd\" supports old-style Excel files (.xls).\n",
      "    - \"openpyxl\" supports newer Excel file formats.\n",
      "    - \"odf\" supports OpenDocument file formats (.odf, .ods, .odt).\n",
      "    - \"pyxlsb\" supports Binary Excel files.\n",
      "\n",
      "    .. versionchanged:: 1.2.0\n",
      "        The engine `xlrd <https://xlrd.readthedocs.io/en/latest/>`_\n",
      "        now only supports old-style ``.xls`` files.\n",
      "        When ``engine=None``, the following logic will be\n",
      "        used to determine the engine:\n",
      "\n",
      "       - If ``path_or_buffer`` is an OpenDocument format (.odf, .ods, .odt),\n",
      "         then `odf <https://pypi.org/project/odfpy/>`_ will be used.\n",
      "       - Otherwise if ``path_or_buffer`` is an xls format,\n",
      "         ``xlrd`` will be used.\n",
      "       - Otherwise if ``path_or_buffer`` is in xlsb format,\n",
      "         ``pyxlsb`` will be used.\n",
      "\n",
      "         .. versionadded:: 1.3.0\n",
      "       - Otherwise ``openpyxl`` will be used.\n",
      "\n",
      "         .. versionchanged:: 1.3.0\n",
      "\n",
      "converters : dict, default None\n",
      "    Dict of functions for converting values in certain columns. Keys can\n",
      "    either be integers or column labels, values are functions that take one\n",
      "    input argument, the Excel cell content, and return the transformed\n",
      "    content.\n",
      "true_values : list, default None\n",
      "    Values to consider as True.\n",
      "false_values : list, default None\n",
      "    Values to consider as False.\n",
      "skiprows : list-like, int, or callable, optional\n",
      "    Line numbers to skip (0-indexed) or number of lines to skip (int) at the\n",
      "    start of the file. If callable, the callable function will be evaluated\n",
      "    against the row indices, returning True if the row should be skipped and\n",
      "    False otherwise. An example of a valid callable argument would be ``lambda\n",
      "    x: x in [0, 2]``.\n",
      "nrows : int, default None\n",
      "    Number of rows to parse.\n",
      "na_values : scalar, str, list-like, or dict, default None\n",
      "    Additional strings to recognize as NA/NaN. If dict passed, specific\n",
      "    per-column NA values. By default the following values are interpreted\n",
      "    as NaN: '', '#N/A', '#N/A N/A', '#NA', '-1.#IND', '-1.#QNAN', '-NaN', '-nan',\n",
      "    '1.#IND', '1.#QNAN', '<NA>', 'N/A', 'NA', 'NULL', 'NaN', 'None',\n",
      "    'n/a', 'nan', 'null'.\n",
      "keep_default_na : bool, default True\n",
      "    Whether or not to include the default NaN values when parsing the data.\n",
      "    Depending on whether `na_values` is passed in, the behavior is as follows:\n",
      "\n",
      "    * If `keep_default_na` is True, and `na_values` are specified, `na_values`\n",
      "      is appended to the default NaN values used for parsing.\n",
      "    * If `keep_default_na` is True, and `na_values` are not specified, only\n",
      "      the default NaN values are used for parsing.\n",
      "    * If `keep_default_na` is False, and `na_values` are specified, only\n",
      "      the NaN values specified `na_values` are used for parsing.\n",
      "    * If `keep_default_na` is False, and `na_values` are not specified, no\n",
      "      strings will be parsed as NaN.\n",
      "\n",
      "    Note that if `na_filter` is passed in as False, the `keep_default_na` and\n",
      "    `na_values` parameters will be ignored.\n",
      "na_filter : bool, default True\n",
      "    Detect missing value markers (empty strings and the value of na_values). In\n",
      "    data without any NAs, passing na_filter=False can improve the performance\n",
      "    of reading a large file.\n",
      "verbose : bool, default False\n",
      "    Indicate number of NA values placed in non-numeric columns.\n",
      "parse_dates : bool, list-like, or dict, default False\n",
      "    The behavior is as follows:\n",
      "\n",
      "    * bool. If True -> try parsing the index.\n",
      "    * list of int or names. e.g. If [1, 2, 3] -> try parsing columns 1, 2, 3\n",
      "      each as a separate date column.\n",
      "    * list of lists. e.g.  If [[1, 3]] -> combine columns 1 and 3 and parse as\n",
      "      a single date column.\n",
      "    * dict, e.g. {'foo' : [1, 3]} -> parse columns 1, 3 as date and call\n",
      "      result 'foo'\n",
      "\n",
      "    If a column or index contains an unparsable date, the entire column or\n",
      "    index will be returned unaltered as an object data type. If you don`t want to\n",
      "    parse some cells as date just change their type in Excel to \"Text\".\n",
      "    For non-standard datetime parsing, use ``pd.to_datetime`` after ``pd.read_excel``.\n",
      "\n",
      "    Note: A fast-path exists for iso8601-formatted dates.\n",
      "date_parser : function, optional\n",
      "    Function to use for converting a sequence of string columns to an array of\n",
      "    datetime instances. The default uses ``dateutil.parser.parser`` to do the\n",
      "    conversion. Pandas will try to call `date_parser` in three different ways,\n",
      "    advancing to the next if an exception occurs: 1) Pass one or more arrays\n",
      "    (as defined by `parse_dates`) as arguments; 2) concatenate (row-wise) the\n",
      "    string values from the columns defined by `parse_dates` into a single array\n",
      "    and pass that; and 3) call `date_parser` once for each row using one or\n",
      "    more strings (corresponding to the columns defined by `parse_dates`) as\n",
      "    arguments.\n",
      "\n",
      "    .. deprecated:: 2.0.0\n",
      "       Use ``date_format`` instead, or read in as ``object`` and then apply\n",
      "       :func:`to_datetime` as-needed.\n",
      "date_format : str or dict of column -> format, default ``None``\n",
      "   If used in conjunction with ``parse_dates``, will parse dates according to this\n",
      "   format. For anything more complex,\n",
      "   please read in as ``object`` and then apply :func:`to_datetime` as-needed.\n",
      "\n",
      "   .. versionadded:: 2.0.0\n",
      "thousands : str, default None\n",
      "    Thousands separator for parsing string columns to numeric.  Note that\n",
      "    this parameter is only necessary for columns stored as TEXT in Excel,\n",
      "    any numeric columns will automatically be parsed, regardless of display\n",
      "    format.\n",
      "decimal : str, default '.'\n",
      "    Character to recognize as decimal point for parsing string columns to numeric.\n",
      "    Note that this parameter is only necessary for columns stored as TEXT in Excel,\n",
      "    any numeric columns will automatically be parsed, regardless of display\n",
      "    format.(e.g. use ',' for European data).\n",
      "\n",
      "    .. versionadded:: 1.4.0\n",
      "\n",
      "comment : str, default None\n",
      "    Comments out remainder of line. Pass a character or characters to this\n",
      "    argument to indicate comments in the input file. Any data between the\n",
      "    comment string and the end of the current line is ignored.\n",
      "skipfooter : int, default 0\n",
      "    Rows at the end to skip (0-indexed).\n",
      "storage_options : dict, optional\n",
      "    Extra options that make sense for a particular storage connection, e.g.\n",
      "    host, port, username, password, etc. For HTTP(S) URLs the key-value pairs\n",
      "    are forwarded to ``urllib.request.Request`` as header options. For other\n",
      "    URLs (e.g. starting with \"s3://\", and \"gcs://\") the key-value pairs are\n",
      "    forwarded to ``fsspec.open``. Please see ``fsspec`` and ``urllib`` for more\n",
      "    details, and for more examples on storage options refer `here\n",
      "    <https://pandas.pydata.org/docs/user_guide/io.html?\n",
      "    highlight=storage_options#reading-writing-remote-files>`_.\n",
      "\n",
      "    .. versionadded:: 1.2.0\n",
      "\n",
      "dtype_backend : {'numpy_nullable', 'pyarrow'}, default 'numpy_nullable'\n",
      "    Back-end data type applied to the resultant :class:`DataFrame`\n",
      "    (still experimental). Behaviour is as follows:\n",
      "\n",
      "    * ``\"numpy_nullable\"``: returns nullable-dtype-backed :class:`DataFrame`\n",
      "      (default).\n",
      "    * ``\"pyarrow\"``: returns pyarrow-backed nullable :class:`ArrowDtype`\n",
      "      DataFrame.\n",
      "\n",
      "    .. versionadded:: 2.0\n",
      "\n",
      "engine_kwargs : dict, optional\n",
      "    Arbitrary keyword arguments passed to excel engine.\n",
      "\n",
      "Returns\n",
      "-------\n",
      "DataFrame or dict of DataFrames\n",
      "    DataFrame from the passed in Excel file. See notes in sheet_name\n",
      "    argument for more information on when a dict of DataFrames is returned.\n",
      "\n",
      "See Also\n",
      "--------\n",
      "DataFrame.to_excel : Write DataFrame to an Excel file.\n",
      "DataFrame.to_csv : Write DataFrame to a comma-separated values (csv) file.\n",
      "read_csv : Read a comma-separated values (csv) file into DataFrame.\n",
      "read_fwf : Read a table of fixed-width formatted lines into DataFrame.\n",
      "\n",
      "Notes\n",
      "-----\n",
      "For specific information on the methods used for each Excel engine, refer to the pandas\n",
      ":ref:`user guide <io.excel_reader>`\n",
      "\n",
      "Examples\n",
      "--------\n",
      "The file can be read using the file name as string or an open file object:\n",
      "\n",
      ">>> pd.read_excel('tmp.xlsx', index_col=0)  # doctest: +SKIP\n",
      "       Name  Value\n",
      "0   string1      1\n",
      "1   string2      2\n",
      "2  #Comment      3\n",
      "\n",
      ">>> pd.read_excel(open('tmp.xlsx', 'rb'),\n",
      "...               sheet_name='Sheet3')  # doctest: +SKIP\n",
      "   Unnamed: 0      Name  Value\n",
      "0           0   string1      1\n",
      "1           1   string2      2\n",
      "2           2  #Comment      3\n",
      "\n",
      "Index and header can be specified via the `index_col` and `header` arguments\n",
      "\n",
      ">>> pd.read_excel('tmp.xlsx', index_col=None, header=None)  # doctest: +SKIP\n",
      "     0         1      2\n",
      "0  NaN      Name  Value\n",
      "1  0.0   string1      1\n",
      "2  1.0   string2      2\n",
      "3  2.0  #Comment      3\n",
      "\n",
      "Column types are inferred but can be explicitly specified\n",
      "\n",
      ">>> pd.read_excel('tmp.xlsx', index_col=0,\n",
      "...               dtype={'Name': str, 'Value': float})  # doctest: +SKIP\n",
      "       Name  Value\n",
      "0   string1    1.0\n",
      "1   string2    2.0\n",
      "2  #Comment    3.0\n",
      "\n",
      "True, False, and NA values, and thousands separators have defaults,\n",
      "but can be explicitly specified, too. Supply the values you would like\n",
      "as strings or lists of strings!\n",
      "\n",
      ">>> pd.read_excel('tmp.xlsx', index_col=0,\n",
      "...               na_values=['string1', 'string2'])  # doctest: +SKIP\n",
      "       Name  Value\n",
      "0       NaN      1\n",
      "1       NaN      2\n",
      "2  #Comment      3\n",
      "\n",
      "Comment lines in the excel input file can be skipped using the `comment` kwarg\n",
      "\n",
      ">>> pd.read_excel('tmp.xlsx', index_col=0, comment='#')  # doctest: +SKIP\n",
      "      Name  Value\n",
      "0  string1    1.0\n",
      "1  string2    2.0\n",
      "2     None    NaN\n",
      "\u001b[1;31mFile:\u001b[0m      c:\\users\\phili\\anaconda3\\envs\\vscode-env\\lib\\site-packages\\pandas\\io\\excel\\_base.py\n",
      "\u001b[1;31mType:\u001b[0m      function"
     ]
    }
   ],
   "source": [
    "pd.read_excel?"
   ]
  },
  {
   "cell_type": "code",
   "execution_count": 375,
   "metadata": {},
   "outputs": [],
   "source": [
    "df = pd.read_excel(r'.\\files\\Book3.xlsx', sheet_name='Sheet1')"
   ]
  },
  {
   "cell_type": "code",
   "execution_count": 376,
   "metadata": {},
   "outputs": [
    {
     "data": {
      "text/html": [
       "<div>\n",
       "<style scoped>\n",
       "    .dataframe tbody tr th:only-of-type {\n",
       "        vertical-align: middle;\n",
       "    }\n",
       "\n",
       "    .dataframe tbody tr th {\n",
       "        vertical-align: top;\n",
       "    }\n",
       "\n",
       "    .dataframe thead th {\n",
       "        text-align: right;\n",
       "    }\n",
       "</style>\n",
       "<table border=\"1\" class=\"dataframe\">\n",
       "  <thead>\n",
       "    <tr style=\"text-align: right;\">\n",
       "      <th></th>\n",
       "      <th>string</th>\n",
       "      <th>integer</th>\n",
       "      <th>boolean</th>\n",
       "      <th>floatingpoint</th>\n",
       "      <th>date</th>\n",
       "      <th>time</th>\n",
       "      <th>category</th>\n",
       "    </tr>\n",
       "  </thead>\n",
       "  <tbody>\n",
       "    <tr>\n",
       "      <th>0</th>\n",
       "      <td>the fat black cat</td>\n",
       "      <td>4</td>\n",
       "      <td>True</td>\n",
       "      <td>0.86</td>\n",
       "      <td>2023-07-24 11:30:00</td>\n",
       "      <td>11:36:00</td>\n",
       "      <td>A</td>\n",
       "    </tr>\n",
       "    <tr>\n",
       "      <th>1</th>\n",
       "      <td>sat on the mat</td>\n",
       "      <td>4</td>\n",
       "      <td>True</td>\n",
       "      <td>0.86</td>\n",
       "      <td>2023-07-25 00:00:00</td>\n",
       "      <td>12:36:00</td>\n",
       "      <td>A</td>\n",
       "    </tr>\n",
       "    <tr>\n",
       "      <th>2</th>\n",
       "      <td>twinkle, twinkle</td>\n",
       "      <td>2</td>\n",
       "      <td>True</td>\n",
       "      <td>-1.14</td>\n",
       "      <td>2023-07-26 00:00:00</td>\n",
       "      <td>13:36:00</td>\n",
       "      <td>B</td>\n",
       "    </tr>\n",
       "    <tr>\n",
       "      <th>3</th>\n",
       "      <td>little star</td>\n",
       "      <td>2</td>\n",
       "      <td>True</td>\n",
       "      <td>-1.14</td>\n",
       "      <td>2023-07-27 00:00:00</td>\n",
       "      <td>14:36:00</td>\n",
       "      <td>B</td>\n",
       "    </tr>\n",
       "    <tr>\n",
       "      <th>4</th>\n",
       "      <td>how I wonder</td>\n",
       "      <td>3</td>\n",
       "      <td>False</td>\n",
       "      <td>-0.14</td>\n",
       "      <td>2023-07-28 00:00:00</td>\n",
       "      <td>15:36:00</td>\n",
       "      <td>B</td>\n",
       "    </tr>\n",
       "    <tr>\n",
       "      <th>5</th>\n",
       "      <td>what you are</td>\n",
       "      <td>4</td>\n",
       "      <td>True</td>\n",
       "      <td>0.86</td>\n",
       "      <td>2023-07-29 00:00:00</td>\n",
       "      <td>16:36:00</td>\n",
       "      <td>B</td>\n",
       "    </tr>\n",
       "  </tbody>\n",
       "</table>\n",
       "</div>"
      ],
      "text/plain": [
       "              string  integer  boolean  floatingpoint                date  \\\n",
       "0  the fat black cat        4     True           0.86 2023-07-24 11:30:00   \n",
       "1     sat on the mat        4     True           0.86 2023-07-25 00:00:00   \n",
       "2   twinkle, twinkle        2     True          -1.14 2023-07-26 00:00:00   \n",
       "3        little star        2     True          -1.14 2023-07-27 00:00:00   \n",
       "4       how I wonder        3    False          -0.14 2023-07-28 00:00:00   \n",
       "5       what you are        4     True           0.86 2023-07-29 00:00:00   \n",
       "\n",
       "       time category  \n",
       "0  11:36:00        A  \n",
       "1  12:36:00        A  \n",
       "2  13:36:00        B  \n",
       "3  14:36:00        B  \n",
       "4  15:36:00        B  \n",
       "5  16:36:00        B  "
      ]
     },
     "execution_count": 376,
     "metadata": {},
     "output_type": "execute_result"
    }
   ],
   "source": [
    "df"
   ]
  },
  {
   "attachments": {},
   "cell_type": "markdown",
   "metadata": {},
   "source": [
    "Sheets in an Excel File are ordered and the ordering of the sheets is analogous to a ```RangeIndex``` (```'Sheet1'``` corresponds to an index of ```0``` because of zero-order indexing):"
   ]
  },
  {
   "cell_type": "code",
   "execution_count": 377,
   "metadata": {},
   "outputs": [],
   "source": [
    "df = pd.read_excel(r'.\\files\\Book3.xlsx', sheet_name=0)"
   ]
  },
  {
   "cell_type": "code",
   "execution_count": 378,
   "metadata": {},
   "outputs": [
    {
     "data": {
      "text/html": [
       "<div>\n",
       "<style scoped>\n",
       "    .dataframe tbody tr th:only-of-type {\n",
       "        vertical-align: middle;\n",
       "    }\n",
       "\n",
       "    .dataframe tbody tr th {\n",
       "        vertical-align: top;\n",
       "    }\n",
       "\n",
       "    .dataframe thead th {\n",
       "        text-align: right;\n",
       "    }\n",
       "</style>\n",
       "<table border=\"1\" class=\"dataframe\">\n",
       "  <thead>\n",
       "    <tr style=\"text-align: right;\">\n",
       "      <th></th>\n",
       "      <th>string</th>\n",
       "      <th>integer</th>\n",
       "      <th>boolean</th>\n",
       "      <th>floatingpoint</th>\n",
       "      <th>date</th>\n",
       "      <th>time</th>\n",
       "      <th>category</th>\n",
       "    </tr>\n",
       "  </thead>\n",
       "  <tbody>\n",
       "    <tr>\n",
       "      <th>0</th>\n",
       "      <td>the fat black cat</td>\n",
       "      <td>4</td>\n",
       "      <td>True</td>\n",
       "      <td>0.86</td>\n",
       "      <td>2023-07-24 11:30:00</td>\n",
       "      <td>11:36:00</td>\n",
       "      <td>A</td>\n",
       "    </tr>\n",
       "    <tr>\n",
       "      <th>1</th>\n",
       "      <td>sat on the mat</td>\n",
       "      <td>4</td>\n",
       "      <td>True</td>\n",
       "      <td>0.86</td>\n",
       "      <td>2023-07-25 00:00:00</td>\n",
       "      <td>12:36:00</td>\n",
       "      <td>A</td>\n",
       "    </tr>\n",
       "    <tr>\n",
       "      <th>2</th>\n",
       "      <td>twinkle, twinkle</td>\n",
       "      <td>2</td>\n",
       "      <td>True</td>\n",
       "      <td>-1.14</td>\n",
       "      <td>2023-07-26 00:00:00</td>\n",
       "      <td>13:36:00</td>\n",
       "      <td>B</td>\n",
       "    </tr>\n",
       "    <tr>\n",
       "      <th>3</th>\n",
       "      <td>little star</td>\n",
       "      <td>2</td>\n",
       "      <td>True</td>\n",
       "      <td>-1.14</td>\n",
       "      <td>2023-07-27 00:00:00</td>\n",
       "      <td>14:36:00</td>\n",
       "      <td>B</td>\n",
       "    </tr>\n",
       "    <tr>\n",
       "      <th>4</th>\n",
       "      <td>how I wonder</td>\n",
       "      <td>3</td>\n",
       "      <td>False</td>\n",
       "      <td>-0.14</td>\n",
       "      <td>2023-07-28 00:00:00</td>\n",
       "      <td>15:36:00</td>\n",
       "      <td>B</td>\n",
       "    </tr>\n",
       "    <tr>\n",
       "      <th>5</th>\n",
       "      <td>what you are</td>\n",
       "      <td>4</td>\n",
       "      <td>True</td>\n",
       "      <td>0.86</td>\n",
       "      <td>2023-07-29 00:00:00</td>\n",
       "      <td>16:36:00</td>\n",
       "      <td>B</td>\n",
       "    </tr>\n",
       "  </tbody>\n",
       "</table>\n",
       "</div>"
      ],
      "text/plain": [
       "              string  integer  boolean  floatingpoint                date  \\\n",
       "0  the fat black cat        4     True           0.86 2023-07-24 11:30:00   \n",
       "1     sat on the mat        4     True           0.86 2023-07-25 00:00:00   \n",
       "2   twinkle, twinkle        2     True          -1.14 2023-07-26 00:00:00   \n",
       "3        little star        2     True          -1.14 2023-07-27 00:00:00   \n",
       "4       how I wonder        3    False          -0.14 2023-07-28 00:00:00   \n",
       "5       what you are        4     True           0.86 2023-07-29 00:00:00   \n",
       "\n",
       "       time category  \n",
       "0  11:36:00        A  \n",
       "1  12:36:00        A  \n",
       "2  13:36:00        B  \n",
       "3  14:36:00        B  \n",
       "4  15:36:00        B  \n",
       "5  16:36:00        B  "
      ]
     },
     "execution_count": 378,
     "metadata": {},
     "output_type": "execute_result"
    }
   ],
   "source": [
    "df"
   ]
  },
  {
   "attachments": {},
   "cell_type": "markdown",
   "metadata": {},
   "source": [
    "In a .xlsx file, a column is normally formatted for a datetime format and the xlsx file contains the formatting information. This is used by the ```read_excel``` function and therefore there is usually more success parsing dates from an .xlsx file:"
   ]
  },
  {
   "cell_type": "code",
   "execution_count": 379,
   "metadata": {},
   "outputs": [],
   "source": [
    "df = pd.read_excel(r'./files/Book3.xlsx', sheet_name='Sheet1', parse_dates=True)"
   ]
  },
  {
   "cell_type": "code",
   "execution_count": 380,
   "metadata": {},
   "outputs": [
    {
     "data": {
      "text/html": [
       "<div>\n",
       "<style scoped>\n",
       "    .dataframe tbody tr th:only-of-type {\n",
       "        vertical-align: middle;\n",
       "    }\n",
       "\n",
       "    .dataframe tbody tr th {\n",
       "        vertical-align: top;\n",
       "    }\n",
       "\n",
       "    .dataframe thead th {\n",
       "        text-align: right;\n",
       "    }\n",
       "</style>\n",
       "<table border=\"1\" class=\"dataframe\">\n",
       "  <thead>\n",
       "    <tr style=\"text-align: right;\">\n",
       "      <th></th>\n",
       "      <th>string</th>\n",
       "      <th>integer</th>\n",
       "      <th>boolean</th>\n",
       "      <th>floatingpoint</th>\n",
       "      <th>date</th>\n",
       "      <th>time</th>\n",
       "      <th>category</th>\n",
       "    </tr>\n",
       "  </thead>\n",
       "  <tbody>\n",
       "    <tr>\n",
       "      <th>0</th>\n",
       "      <td>the fat black cat</td>\n",
       "      <td>4</td>\n",
       "      <td>True</td>\n",
       "      <td>0.86</td>\n",
       "      <td>2023-07-24 11:30:00</td>\n",
       "      <td>11:36:00</td>\n",
       "      <td>A</td>\n",
       "    </tr>\n",
       "    <tr>\n",
       "      <th>1</th>\n",
       "      <td>sat on the mat</td>\n",
       "      <td>4</td>\n",
       "      <td>True</td>\n",
       "      <td>0.86</td>\n",
       "      <td>2023-07-25 00:00:00</td>\n",
       "      <td>12:36:00</td>\n",
       "      <td>A</td>\n",
       "    </tr>\n",
       "    <tr>\n",
       "      <th>2</th>\n",
       "      <td>twinkle, twinkle</td>\n",
       "      <td>2</td>\n",
       "      <td>True</td>\n",
       "      <td>-1.14</td>\n",
       "      <td>2023-07-26 00:00:00</td>\n",
       "      <td>13:36:00</td>\n",
       "      <td>B</td>\n",
       "    </tr>\n",
       "    <tr>\n",
       "      <th>3</th>\n",
       "      <td>little star</td>\n",
       "      <td>2</td>\n",
       "      <td>True</td>\n",
       "      <td>-1.14</td>\n",
       "      <td>2023-07-27 00:00:00</td>\n",
       "      <td>14:36:00</td>\n",
       "      <td>B</td>\n",
       "    </tr>\n",
       "    <tr>\n",
       "      <th>4</th>\n",
       "      <td>how I wonder</td>\n",
       "      <td>3</td>\n",
       "      <td>False</td>\n",
       "      <td>-0.14</td>\n",
       "      <td>2023-07-28 00:00:00</td>\n",
       "      <td>15:36:00</td>\n",
       "      <td>B</td>\n",
       "    </tr>\n",
       "    <tr>\n",
       "      <th>5</th>\n",
       "      <td>what you are</td>\n",
       "      <td>4</td>\n",
       "      <td>True</td>\n",
       "      <td>0.86</td>\n",
       "      <td>2023-07-29 00:00:00</td>\n",
       "      <td>16:36:00</td>\n",
       "      <td>B</td>\n",
       "    </tr>\n",
       "  </tbody>\n",
       "</table>\n",
       "</div>"
      ],
      "text/plain": [
       "              string  integer  boolean  floatingpoint                date  \\\n",
       "0  the fat black cat        4     True           0.86 2023-07-24 11:30:00   \n",
       "1     sat on the mat        4     True           0.86 2023-07-25 00:00:00   \n",
       "2   twinkle, twinkle        2     True          -1.14 2023-07-26 00:00:00   \n",
       "3        little star        2     True          -1.14 2023-07-27 00:00:00   \n",
       "4       how I wonder        3    False          -0.14 2023-07-28 00:00:00   \n",
       "5       what you are        4     True           0.86 2023-07-29 00:00:00   \n",
       "\n",
       "       time category  \n",
       "0  11:36:00        A  \n",
       "1  12:36:00        A  \n",
       "2  13:36:00        B  \n",
       "3  14:36:00        B  \n",
       "4  15:36:00        B  \n",
       "5  16:36:00        B  "
      ]
     },
     "execution_count": 380,
     "metadata": {},
     "output_type": "execute_result"
    }
   ],
   "source": [
    "df"
   ]
  },
  {
   "attachments": {},
   "cell_type": "markdown",
   "metadata": {},
   "source": [
    "The date column is parsed as a date but the time column isn't:"
   ]
  },
  {
   "cell_type": "code",
   "execution_count": 381,
   "metadata": {},
   "outputs": [
    {
     "data": {
      "text/plain": [
       "string                   object\n",
       "integer                   int64\n",
       "boolean                    bool\n",
       "floatingpoint           float64\n",
       "date             datetime64[ns]\n",
       "time                     object\n",
       "category                 object\n",
       "dtype: object"
      ]
     },
     "execution_count": 381,
     "metadata": {},
     "output_type": "execute_result"
    }
   ],
   "source": [
    "df.dtypes"
   ]
  },
  {
   "attachments": {},
   "cell_type": "markdown",
   "metadata": {},
   "source": [
    "When reading from a csv, the date and time columns are usually read in as ```str``` and have to be manipulated to get the correct format. If the ```date``` ```Series``` of datatype ```datetime64``` is cast to a ```str```:"
   ]
  },
  {
   "cell_type": "code",
   "execution_count": 382,
   "metadata": {},
   "outputs": [
    {
     "data": {
      "text/plain": [
       "0    2023-07-24 11:30:00\n",
       "1    2023-07-25 00:00:00\n",
       "2    2023-07-26 00:00:00\n",
       "3    2023-07-27 00:00:00\n",
       "4    2023-07-28 00:00:00\n",
       "5    2023-07-29 00:00:00\n",
       "Name: date, dtype: object"
      ]
     },
     "execution_count": 382,
     "metadata": {},
     "output_type": "execute_result"
    }
   ],
   "source": [
    "df['date'].astype('str')"
   ]
  },
  {
   "cell_type": "markdown",
   "metadata": {},
   "source": [
    "Then the ```str``` can be indexed to only get the date component:"
   ]
  },
  {
   "cell_type": "code",
   "execution_count": 383,
   "metadata": {},
   "outputs": [
    {
     "data": {
      "text/plain": [
       "0    2023-07-24\n",
       "1    2023-07-25\n",
       "2    2023-07-26\n",
       "3    2023-07-27\n",
       "4    2023-07-28\n",
       "5    2023-07-29\n",
       "Name: date, dtype: object"
      ]
     },
     "execution_count": 383,
     "metadata": {},
     "output_type": "execute_result"
    }
   ],
   "source": [
    "df['date'].astype('str').str[:10]"
   ]
  },
  {
   "cell_type": "markdown",
   "metadata": {},
   "source": [
    "And time component:"
   ]
  },
  {
   "cell_type": "code",
   "execution_count": 384,
   "metadata": {},
   "outputs": [
    {
     "data": {
      "text/plain": [
       "0    11:30:00\n",
       "1    00:00:00\n",
       "2    00:00:00\n",
       "3    00:00:00\n",
       "4    00:00:00\n",
       "5    00:00:00\n",
       "Name: date, dtype: object"
      ]
     },
     "execution_count": 384,
     "metadata": {},
     "output_type": "execute_result"
    }
   ],
   "source": [
    "df['date'].astype('str').str[11:]"
   ]
  },
  {
   "attachments": {},
   "cell_type": "markdown",
   "metadata": {},
   "source": [
    "These components can be used to create a timestamp:"
   ]
  },
  {
   "cell_type": "code",
   "execution_count": 385,
   "metadata": {},
   "outputs": [
    {
     "data": {
      "text/plain": [
       "0    2023-07-24 T11:30:00\n",
       "1    2023-07-25 T00:00:00\n",
       "2    2023-07-26 T00:00:00\n",
       "3    2023-07-27 T00:00:00\n",
       "4    2023-07-28 T00:00:00\n",
       "5    2023-07-29 T00:00:00\n",
       "Name: date, dtype: object"
      ]
     },
     "execution_count": 385,
     "metadata": {},
     "output_type": "execute_result"
    }
   ],
   "source": [
    "df['date'].astype('str').str[:10] + ' T' + df['date'].astype('str').str[11:]"
   ]
  },
  {
   "cell_type": "code",
   "execution_count": 386,
   "metadata": {},
   "outputs": [],
   "source": [
    "df['datetime'] = df['date'].astype('str').str[:10] + ' T' + df['date'].astype('str').str[11:]"
   ]
  },
  {
   "cell_type": "code",
   "execution_count": 387,
   "metadata": {},
   "outputs": [
    {
     "data": {
      "text/html": [
       "<div>\n",
       "<style scoped>\n",
       "    .dataframe tbody tr th:only-of-type {\n",
       "        vertical-align: middle;\n",
       "    }\n",
       "\n",
       "    .dataframe tbody tr th {\n",
       "        vertical-align: top;\n",
       "    }\n",
       "\n",
       "    .dataframe thead th {\n",
       "        text-align: right;\n",
       "    }\n",
       "</style>\n",
       "<table border=\"1\" class=\"dataframe\">\n",
       "  <thead>\n",
       "    <tr style=\"text-align: right;\">\n",
       "      <th></th>\n",
       "      <th>string</th>\n",
       "      <th>integer</th>\n",
       "      <th>boolean</th>\n",
       "      <th>floatingpoint</th>\n",
       "      <th>date</th>\n",
       "      <th>time</th>\n",
       "      <th>category</th>\n",
       "      <th>datetime</th>\n",
       "    </tr>\n",
       "  </thead>\n",
       "  <tbody>\n",
       "    <tr>\n",
       "      <th>0</th>\n",
       "      <td>the fat black cat</td>\n",
       "      <td>4</td>\n",
       "      <td>True</td>\n",
       "      <td>0.86</td>\n",
       "      <td>2023-07-24 11:30:00</td>\n",
       "      <td>11:36:00</td>\n",
       "      <td>A</td>\n",
       "      <td>2023-07-24 T11:30:00</td>\n",
       "    </tr>\n",
       "    <tr>\n",
       "      <th>1</th>\n",
       "      <td>sat on the mat</td>\n",
       "      <td>4</td>\n",
       "      <td>True</td>\n",
       "      <td>0.86</td>\n",
       "      <td>2023-07-25 00:00:00</td>\n",
       "      <td>12:36:00</td>\n",
       "      <td>A</td>\n",
       "      <td>2023-07-25 T00:00:00</td>\n",
       "    </tr>\n",
       "    <tr>\n",
       "      <th>2</th>\n",
       "      <td>twinkle, twinkle</td>\n",
       "      <td>2</td>\n",
       "      <td>True</td>\n",
       "      <td>-1.14</td>\n",
       "      <td>2023-07-26 00:00:00</td>\n",
       "      <td>13:36:00</td>\n",
       "      <td>B</td>\n",
       "      <td>2023-07-26 T00:00:00</td>\n",
       "    </tr>\n",
       "    <tr>\n",
       "      <th>3</th>\n",
       "      <td>little star</td>\n",
       "      <td>2</td>\n",
       "      <td>True</td>\n",
       "      <td>-1.14</td>\n",
       "      <td>2023-07-27 00:00:00</td>\n",
       "      <td>14:36:00</td>\n",
       "      <td>B</td>\n",
       "      <td>2023-07-27 T00:00:00</td>\n",
       "    </tr>\n",
       "    <tr>\n",
       "      <th>4</th>\n",
       "      <td>how I wonder</td>\n",
       "      <td>3</td>\n",
       "      <td>False</td>\n",
       "      <td>-0.14</td>\n",
       "      <td>2023-07-28 00:00:00</td>\n",
       "      <td>15:36:00</td>\n",
       "      <td>B</td>\n",
       "      <td>2023-07-28 T00:00:00</td>\n",
       "    </tr>\n",
       "    <tr>\n",
       "      <th>5</th>\n",
       "      <td>what you are</td>\n",
       "      <td>4</td>\n",
       "      <td>True</td>\n",
       "      <td>0.86</td>\n",
       "      <td>2023-07-29 00:00:00</td>\n",
       "      <td>16:36:00</td>\n",
       "      <td>B</td>\n",
       "      <td>2023-07-29 T00:00:00</td>\n",
       "    </tr>\n",
       "  </tbody>\n",
       "</table>\n",
       "</div>"
      ],
      "text/plain": [
       "              string  integer  boolean  floatingpoint                date  \\\n",
       "0  the fat black cat        4     True           0.86 2023-07-24 11:30:00   \n",
       "1     sat on the mat        4     True           0.86 2023-07-25 00:00:00   \n",
       "2   twinkle, twinkle        2     True          -1.14 2023-07-26 00:00:00   \n",
       "3        little star        2     True          -1.14 2023-07-27 00:00:00   \n",
       "4       how I wonder        3    False          -0.14 2023-07-28 00:00:00   \n",
       "5       what you are        4     True           0.86 2023-07-29 00:00:00   \n",
       "\n",
       "       time category              datetime  \n",
       "0  11:36:00        A  2023-07-24 T11:30:00  \n",
       "1  12:36:00        A  2023-07-25 T00:00:00  \n",
       "2  13:36:00        B  2023-07-26 T00:00:00  \n",
       "3  14:36:00        B  2023-07-27 T00:00:00  \n",
       "4  15:36:00        B  2023-07-28 T00:00:00  \n",
       "5  16:36:00        B  2023-07-29 T00:00:00  "
      ]
     },
     "execution_count": 387,
     "metadata": {},
     "output_type": "execute_result"
    }
   ],
   "source": [
    "df"
   ]
  },
  {
   "cell_type": "markdown",
   "metadata": {},
   "source": [
    "And this can be cast into ```'datetime[ns]'```:"
   ]
  },
  {
   "cell_type": "code",
   "execution_count": 388,
   "metadata": {},
   "outputs": [
    {
     "data": {
      "text/plain": [
       "0   2023-07-24 11:30:00\n",
       "1   2023-07-25 00:00:00\n",
       "2   2023-07-26 00:00:00\n",
       "3   2023-07-27 00:00:00\n",
       "4   2023-07-28 00:00:00\n",
       "5   2023-07-29 00:00:00\n",
       "Name: datetime, dtype: datetime64[ns]"
      ]
     },
     "execution_count": 388,
     "metadata": {},
     "output_type": "execute_result"
    }
   ],
   "source": [
    "df['datetime'].astype('datetime64[ns]')"
   ]
  },
  {
   "cell_type": "code",
   "execution_count": 389,
   "metadata": {},
   "outputs": [
    {
     "data": {
      "text/html": [
       "<div>\n",
       "<style scoped>\n",
       "    .dataframe tbody tr th:only-of-type {\n",
       "        vertical-align: middle;\n",
       "    }\n",
       "\n",
       "    .dataframe tbody tr th {\n",
       "        vertical-align: top;\n",
       "    }\n",
       "\n",
       "    .dataframe thead th {\n",
       "        text-align: right;\n",
       "    }\n",
       "</style>\n",
       "<table border=\"1\" class=\"dataframe\">\n",
       "  <thead>\n",
       "    <tr style=\"text-align: right;\">\n",
       "      <th></th>\n",
       "      <th>string</th>\n",
       "      <th>integer</th>\n",
       "      <th>boolean</th>\n",
       "      <th>floatingpoint</th>\n",
       "      <th>category</th>\n",
       "      <th>datetime</th>\n",
       "    </tr>\n",
       "  </thead>\n",
       "  <tbody>\n",
       "    <tr>\n",
       "      <th>0</th>\n",
       "      <td>the fat black cat</td>\n",
       "      <td>4</td>\n",
       "      <td>True</td>\n",
       "      <td>0.86</td>\n",
       "      <td>A</td>\n",
       "      <td>2023-07-24 11:30:00</td>\n",
       "    </tr>\n",
       "    <tr>\n",
       "      <th>1</th>\n",
       "      <td>sat on the mat</td>\n",
       "      <td>4</td>\n",
       "      <td>True</td>\n",
       "      <td>0.86</td>\n",
       "      <td>A</td>\n",
       "      <td>2023-07-25 00:00:00</td>\n",
       "    </tr>\n",
       "    <tr>\n",
       "      <th>2</th>\n",
       "      <td>twinkle, twinkle</td>\n",
       "      <td>2</td>\n",
       "      <td>True</td>\n",
       "      <td>-1.14</td>\n",
       "      <td>B</td>\n",
       "      <td>2023-07-26 00:00:00</td>\n",
       "    </tr>\n",
       "    <tr>\n",
       "      <th>3</th>\n",
       "      <td>little star</td>\n",
       "      <td>2</td>\n",
       "      <td>True</td>\n",
       "      <td>-1.14</td>\n",
       "      <td>B</td>\n",
       "      <td>2023-07-27 00:00:00</td>\n",
       "    </tr>\n",
       "    <tr>\n",
       "      <th>4</th>\n",
       "      <td>how I wonder</td>\n",
       "      <td>3</td>\n",
       "      <td>False</td>\n",
       "      <td>-0.14</td>\n",
       "      <td>B</td>\n",
       "      <td>2023-07-28 00:00:00</td>\n",
       "    </tr>\n",
       "    <tr>\n",
       "      <th>5</th>\n",
       "      <td>what you are</td>\n",
       "      <td>4</td>\n",
       "      <td>True</td>\n",
       "      <td>0.86</td>\n",
       "      <td>B</td>\n",
       "      <td>2023-07-29 00:00:00</td>\n",
       "    </tr>\n",
       "  </tbody>\n",
       "</table>\n",
       "</div>"
      ],
      "text/plain": [
       "              string  integer  boolean  floatingpoint category  \\\n",
       "0  the fat black cat        4     True           0.86        A   \n",
       "1     sat on the mat        4     True           0.86        A   \n",
       "2   twinkle, twinkle        2     True          -1.14        B   \n",
       "3        little star        2     True          -1.14        B   \n",
       "4       how I wonder        3    False          -0.14        B   \n",
       "5       what you are        4     True           0.86        B   \n",
       "\n",
       "             datetime  \n",
       "0 2023-07-24 11:30:00  \n",
       "1 2023-07-25 00:00:00  \n",
       "2 2023-07-26 00:00:00  \n",
       "3 2023-07-27 00:00:00  \n",
       "4 2023-07-28 00:00:00  \n",
       "5 2023-07-29 00:00:00  "
      ]
     },
     "execution_count": 389,
     "metadata": {},
     "output_type": "execute_result"
    }
   ],
   "source": [
    "df['datetime'] = df['datetime'].astype('datetime64[ns]')\n",
    "del df['date']\n",
    "del df['time']\n",
    "df"
   ]
  },
  {
   "attachments": {},
   "cell_type": "markdown",
   "metadata": {},
   "source": [
    "The categorical ```Series``` can be made categorical:"
   ]
  },
  {
   "cell_type": "code",
   "execution_count": 390,
   "metadata": {},
   "outputs": [
    {
     "data": {
      "text/plain": [
       "0    A\n",
       "1    A\n",
       "2    B\n",
       "3    B\n",
       "4    B\n",
       "5    B\n",
       "Name: category, dtype: category\n",
       "Categories (2, object): ['A', 'B']"
      ]
     },
     "execution_count": 390,
     "metadata": {},
     "output_type": "execute_result"
    }
   ],
   "source": [
    "df['category'].astype('category')"
   ]
  },
  {
   "cell_type": "code",
   "execution_count": 391,
   "metadata": {},
   "outputs": [],
   "source": [
    "df['category'] = df['category'].astype('category')"
   ]
  },
  {
   "attachments": {},
   "cell_type": "markdown",
   "metadata": {},
   "source": [
    "Then to reorder the columns, indexing is quite commonly used:"
   ]
  },
  {
   "cell_type": "code",
   "execution_count": 392,
   "metadata": {},
   "outputs": [
    {
     "data": {
      "text/html": [
       "<div>\n",
       "<style scoped>\n",
       "    .dataframe tbody tr th:only-of-type {\n",
       "        vertical-align: middle;\n",
       "    }\n",
       "\n",
       "    .dataframe tbody tr th {\n",
       "        vertical-align: top;\n",
       "    }\n",
       "\n",
       "    .dataframe thead th {\n",
       "        text-align: right;\n",
       "    }\n",
       "</style>\n",
       "<table border=\"1\" class=\"dataframe\">\n",
       "  <thead>\n",
       "    <tr style=\"text-align: right;\">\n",
       "      <th></th>\n",
       "      <th>string</th>\n",
       "      <th>integer</th>\n",
       "      <th>boolean</th>\n",
       "      <th>floatingpoint</th>\n",
       "      <th>category</th>\n",
       "      <th>datetime</th>\n",
       "    </tr>\n",
       "  </thead>\n",
       "  <tbody>\n",
       "    <tr>\n",
       "      <th>0</th>\n",
       "      <td>the fat black cat</td>\n",
       "      <td>4</td>\n",
       "      <td>True</td>\n",
       "      <td>0.86</td>\n",
       "      <td>A</td>\n",
       "      <td>2023-07-24 11:30:00</td>\n",
       "    </tr>\n",
       "    <tr>\n",
       "      <th>1</th>\n",
       "      <td>sat on the mat</td>\n",
       "      <td>4</td>\n",
       "      <td>True</td>\n",
       "      <td>0.86</td>\n",
       "      <td>A</td>\n",
       "      <td>2023-07-25 00:00:00</td>\n",
       "    </tr>\n",
       "    <tr>\n",
       "      <th>2</th>\n",
       "      <td>twinkle, twinkle</td>\n",
       "      <td>2</td>\n",
       "      <td>True</td>\n",
       "      <td>-1.14</td>\n",
       "      <td>B</td>\n",
       "      <td>2023-07-26 00:00:00</td>\n",
       "    </tr>\n",
       "    <tr>\n",
       "      <th>3</th>\n",
       "      <td>little star</td>\n",
       "      <td>2</td>\n",
       "      <td>True</td>\n",
       "      <td>-1.14</td>\n",
       "      <td>B</td>\n",
       "      <td>2023-07-27 00:00:00</td>\n",
       "    </tr>\n",
       "    <tr>\n",
       "      <th>4</th>\n",
       "      <td>how I wonder</td>\n",
       "      <td>3</td>\n",
       "      <td>False</td>\n",
       "      <td>-0.14</td>\n",
       "      <td>B</td>\n",
       "      <td>2023-07-28 00:00:00</td>\n",
       "    </tr>\n",
       "    <tr>\n",
       "      <th>5</th>\n",
       "      <td>what you are</td>\n",
       "      <td>4</td>\n",
       "      <td>True</td>\n",
       "      <td>0.86</td>\n",
       "      <td>B</td>\n",
       "      <td>2023-07-29 00:00:00</td>\n",
       "    </tr>\n",
       "  </tbody>\n",
       "</table>\n",
       "</div>"
      ],
      "text/plain": [
       "              string  integer  boolean  floatingpoint category  \\\n",
       "0  the fat black cat        4     True           0.86        A   \n",
       "1     sat on the mat        4     True           0.86        A   \n",
       "2   twinkle, twinkle        2     True          -1.14        B   \n",
       "3        little star        2     True          -1.14        B   \n",
       "4       how I wonder        3    False          -0.14        B   \n",
       "5       what you are        4     True           0.86        B   \n",
       "\n",
       "             datetime  \n",
       "0 2023-07-24 11:30:00  \n",
       "1 2023-07-25 00:00:00  \n",
       "2 2023-07-26 00:00:00  \n",
       "3 2023-07-27 00:00:00  \n",
       "4 2023-07-28 00:00:00  \n",
       "5 2023-07-29 00:00:00  "
      ]
     },
     "execution_count": 392,
     "metadata": {},
     "output_type": "execute_result"
    }
   ],
   "source": [
    "df"
   ]
  },
  {
   "cell_type": "code",
   "execution_count": 393,
   "metadata": {},
   "outputs": [
    {
     "data": {
      "text/html": [
       "<div>\n",
       "<style scoped>\n",
       "    .dataframe tbody tr th:only-of-type {\n",
       "        vertical-align: middle;\n",
       "    }\n",
       "\n",
       "    .dataframe tbody tr th {\n",
       "        vertical-align: top;\n",
       "    }\n",
       "\n",
       "    .dataframe thead th {\n",
       "        text-align: right;\n",
       "    }\n",
       "</style>\n",
       "<table border=\"1\" class=\"dataframe\">\n",
       "  <thead>\n",
       "    <tr style=\"text-align: right;\">\n",
       "      <th></th>\n",
       "      <th>string</th>\n",
       "      <th>integer</th>\n",
       "      <th>boolean</th>\n",
       "      <th>floatingpoint</th>\n",
       "      <th>datetime</th>\n",
       "      <th>category</th>\n",
       "    </tr>\n",
       "  </thead>\n",
       "  <tbody>\n",
       "    <tr>\n",
       "      <th>0</th>\n",
       "      <td>the fat black cat</td>\n",
       "      <td>4</td>\n",
       "      <td>True</td>\n",
       "      <td>0.86</td>\n",
       "      <td>2023-07-24 11:30:00</td>\n",
       "      <td>A</td>\n",
       "    </tr>\n",
       "    <tr>\n",
       "      <th>1</th>\n",
       "      <td>sat on the mat</td>\n",
       "      <td>4</td>\n",
       "      <td>True</td>\n",
       "      <td>0.86</td>\n",
       "      <td>2023-07-25 00:00:00</td>\n",
       "      <td>A</td>\n",
       "    </tr>\n",
       "    <tr>\n",
       "      <th>2</th>\n",
       "      <td>twinkle, twinkle</td>\n",
       "      <td>2</td>\n",
       "      <td>True</td>\n",
       "      <td>-1.14</td>\n",
       "      <td>2023-07-26 00:00:00</td>\n",
       "      <td>B</td>\n",
       "    </tr>\n",
       "    <tr>\n",
       "      <th>3</th>\n",
       "      <td>little star</td>\n",
       "      <td>2</td>\n",
       "      <td>True</td>\n",
       "      <td>-1.14</td>\n",
       "      <td>2023-07-27 00:00:00</td>\n",
       "      <td>B</td>\n",
       "    </tr>\n",
       "    <tr>\n",
       "      <th>4</th>\n",
       "      <td>how I wonder</td>\n",
       "      <td>3</td>\n",
       "      <td>False</td>\n",
       "      <td>-0.14</td>\n",
       "      <td>2023-07-28 00:00:00</td>\n",
       "      <td>B</td>\n",
       "    </tr>\n",
       "    <tr>\n",
       "      <th>5</th>\n",
       "      <td>what you are</td>\n",
       "      <td>4</td>\n",
       "      <td>True</td>\n",
       "      <td>0.86</td>\n",
       "      <td>2023-07-29 00:00:00</td>\n",
       "      <td>B</td>\n",
       "    </tr>\n",
       "  </tbody>\n",
       "</table>\n",
       "</div>"
      ],
      "text/plain": [
       "              string  integer  boolean  floatingpoint            datetime  \\\n",
       "0  the fat black cat        4     True           0.86 2023-07-24 11:30:00   \n",
       "1     sat on the mat        4     True           0.86 2023-07-25 00:00:00   \n",
       "2   twinkle, twinkle        2     True          -1.14 2023-07-26 00:00:00   \n",
       "3        little star        2     True          -1.14 2023-07-27 00:00:00   \n",
       "4       how I wonder        3    False          -0.14 2023-07-28 00:00:00   \n",
       "5       what you are        4     True           0.86 2023-07-29 00:00:00   \n",
       "\n",
       "  category  \n",
       "0        A  \n",
       "1        A  \n",
       "2        B  \n",
       "3        B  \n",
       "4        B  \n",
       "5        B  "
      ]
     },
     "execution_count": 393,
     "metadata": {},
     "output_type": "execute_result"
    }
   ],
   "source": [
    "df[['string', 'integer', 'boolean', 'floatingpoint', 'datetime', 'category']]"
   ]
  },
  {
   "attachments": {},
   "cell_type": "markdown",
   "metadata": {},
   "source": [
    "The instance name ```df``` can be reassigned to this output:"
   ]
  },
  {
   "cell_type": "code",
   "execution_count": 394,
   "metadata": {},
   "outputs": [],
   "source": [
    "df = df[['string', 'integer', 'boolean', 'floatingpoint', 'datetime', 'category']]"
   ]
  },
  {
   "attachments": {},
   "cell_type": "markdown",
   "metadata": {},
   "source": [
    "## Writing DataFrames to Objects and Files"
   ]
  },
  {
   "attachments": {},
   "cell_type": "markdown",
   "metadata": {},
   "source": [
    "The ```DataFrame``` class has a number of methods for writing to files:"
   ]
  },
  {
   "cell_type": "code",
   "execution_count": 395,
   "metadata": {},
   "outputs": [
    {
     "name": "stdout",
     "output_type": "stream",
     "text": [
      "to_clipboard to_csv to_dict to_excel to_feather to_gbq to_hdf to_html to_json to_latex to_markdown to_numpy to_orc to_parquet to_period to_pickle to_records to_sql to_stata to_string to_timestamp to_xarray to_xml "
     ]
    }
   ],
   "source": [
    "for identifier in dir(df):\n",
    "    if identifier.startswith('to_'):\n",
    "        print(identifier, end=' ')"
   ]
  },
  {
   "attachments": {},
   "cell_type": "markdown",
   "metadata": {},
   "source": [
    "## Python Dictionary"
   ]
  },
  {
   "attachments": {},
   "cell_type": "markdown",
   "metadata": {},
   "source": [
    "A  ```DataFrame``` instance can be written to a dictionary using:"
   ]
  },
  {
   "cell_type": "code",
   "execution_count": 396,
   "metadata": {},
   "outputs": [
    {
     "data": {
      "text/plain": [
       "{'string': {0: 'the fat black cat',\n",
       "  1: 'sat on the mat',\n",
       "  2: 'twinkle, twinkle',\n",
       "  3: 'little star',\n",
       "  4: 'how I wonder',\n",
       "  5: 'what you are'},\n",
       " 'integer': {0: 4, 1: 4, 2: 2, 3: 2, 4: 3, 5: 4},\n",
       " 'boolean': {0: True, 1: True, 2: True, 3: True, 4: False, 5: True},\n",
       " 'floatingpoint': {0: 0.8599999999999999,\n",
       "  1: 0.8599999999999999,\n",
       "  2: -1.1400000000000001,\n",
       "  3: -1.1400000000000001,\n",
       "  4: -0.14000000000000012,\n",
       "  5: 0.8599999999999999},\n",
       " 'datetime': {0: Timestamp('2023-07-24 11:30:00'),\n",
       "  1: Timestamp('2023-07-25 00:00:00'),\n",
       "  2: Timestamp('2023-07-26 00:00:00'),\n",
       "  3: Timestamp('2023-07-27 00:00:00'),\n",
       "  4: Timestamp('2023-07-28 00:00:00'),\n",
       "  5: Timestamp('2023-07-29 00:00:00')},\n",
       " 'category': {0: 'A', 1: 'A', 2: 'B', 3: 'B', 4: 'B', 5: 'B'}}"
      ]
     },
     "execution_count": 396,
     "metadata": {},
     "output_type": "execute_result"
    }
   ],
   "source": [
    "df.to_dict()"
   ]
  },
  {
   "attachments": {},
   "cell_type": "markdown",
   "metadata": {},
   "source": [
    "Note that this is the same form that can be used to instantiate a ```DataFrame```:"
   ]
  },
  {
   "cell_type": "code",
   "execution_count": 397,
   "metadata": {},
   "outputs": [
    {
     "data": {
      "text/html": [
       "<div>\n",
       "<style scoped>\n",
       "    .dataframe tbody tr th:only-of-type {\n",
       "        vertical-align: middle;\n",
       "    }\n",
       "\n",
       "    .dataframe tbody tr th {\n",
       "        vertical-align: top;\n",
       "    }\n",
       "\n",
       "    .dataframe thead th {\n",
       "        text-align: right;\n",
       "    }\n",
       "</style>\n",
       "<table border=\"1\" class=\"dataframe\">\n",
       "  <thead>\n",
       "    <tr style=\"text-align: right;\">\n",
       "      <th></th>\n",
       "      <th>string</th>\n",
       "      <th>integer</th>\n",
       "      <th>boolean</th>\n",
       "      <th>floatingpoint</th>\n",
       "      <th>datetime</th>\n",
       "      <th>category</th>\n",
       "    </tr>\n",
       "  </thead>\n",
       "  <tbody>\n",
       "    <tr>\n",
       "      <th>0</th>\n",
       "      <td>the fat black cat</td>\n",
       "      <td>4</td>\n",
       "      <td>True</td>\n",
       "      <td>0.86</td>\n",
       "      <td>2023-07-24 11:30:00</td>\n",
       "      <td>A</td>\n",
       "    </tr>\n",
       "    <tr>\n",
       "      <th>1</th>\n",
       "      <td>sat on the mat</td>\n",
       "      <td>4</td>\n",
       "      <td>True</td>\n",
       "      <td>0.86</td>\n",
       "      <td>2023-07-25 00:00:00</td>\n",
       "      <td>A</td>\n",
       "    </tr>\n",
       "    <tr>\n",
       "      <th>2</th>\n",
       "      <td>twinkle, twinkle</td>\n",
       "      <td>2</td>\n",
       "      <td>True</td>\n",
       "      <td>-1.14</td>\n",
       "      <td>2023-07-26 00:00:00</td>\n",
       "      <td>B</td>\n",
       "    </tr>\n",
       "    <tr>\n",
       "      <th>3</th>\n",
       "      <td>little star</td>\n",
       "      <td>2</td>\n",
       "      <td>True</td>\n",
       "      <td>-1.14</td>\n",
       "      <td>2023-07-27 00:00:00</td>\n",
       "      <td>B</td>\n",
       "    </tr>\n",
       "    <tr>\n",
       "      <th>4</th>\n",
       "      <td>how I wonder</td>\n",
       "      <td>3</td>\n",
       "      <td>False</td>\n",
       "      <td>-0.14</td>\n",
       "      <td>2023-07-28 00:00:00</td>\n",
       "      <td>B</td>\n",
       "    </tr>\n",
       "    <tr>\n",
       "      <th>5</th>\n",
       "      <td>what you are</td>\n",
       "      <td>4</td>\n",
       "      <td>True</td>\n",
       "      <td>0.86</td>\n",
       "      <td>2023-07-29 00:00:00</td>\n",
       "      <td>B</td>\n",
       "    </tr>\n",
       "  </tbody>\n",
       "</table>\n",
       "</div>"
      ],
      "text/plain": [
       "              string  integer  boolean  floatingpoint            datetime  \\\n",
       "0  the fat black cat        4     True           0.86 2023-07-24 11:30:00   \n",
       "1     sat on the mat        4     True           0.86 2023-07-25 00:00:00   \n",
       "2   twinkle, twinkle        2     True          -1.14 2023-07-26 00:00:00   \n",
       "3        little star        2     True          -1.14 2023-07-27 00:00:00   \n",
       "4       how I wonder        3    False          -0.14 2023-07-28 00:00:00   \n",
       "5       what you are        4     True           0.86 2023-07-29 00:00:00   \n",
       "\n",
       "  category  \n",
       "0        A  \n",
       "1        A  \n",
       "2        B  \n",
       "3        B  \n",
       "4        B  \n",
       "5        B  "
      ]
     },
     "execution_count": 397,
     "metadata": {},
     "output_type": "execute_result"
    }
   ],
   "source": [
    "pd.DataFrame(data=df.to_dict())"
   ]
  },
  {
   "attachments": {},
   "cell_type": "markdown",
   "metadata": {},
   "source": [
    "## JSON"
   ]
  },
  {
   "attachments": {},
   "cell_type": "markdown",
   "metadata": {},
   "source": [
    "JavaScript Object Notation (JSON) has become a commonly used standard data stream. It is common to retrieve data from a website stored in a JSON table and convert it to a ```DataFrame```:"
   ]
  },
  {
   "cell_type": "code",
   "execution_count": 398,
   "metadata": {},
   "outputs": [
    {
     "data": {
      "text/plain": [
       "'{\"string\":{\"0\":\"the fat black cat\",\"1\":\"sat on the mat\",\"2\":\"twinkle, twinkle\",\"3\":\"little star\",\"4\":\"how I wonder\",\"5\":\"what you are\"},\"integer\":{\"0\":4,\"1\":4,\"2\":2,\"3\":2,\"4\":3,\"5\":4},\"boolean\":{\"0\":true,\"1\":true,\"2\":true,\"3\":true,\"4\":false,\"5\":true},\"floatingpoint\":{\"0\":0.86,\"1\":0.86,\"2\":-1.14,\"3\":-1.14,\"4\":-0.14,\"5\":0.86},\"datetime\":{\"0\":1690198200000,\"1\":1690243200000,\"2\":1690329600000,\"3\":1690416000000,\"4\":1690502400000,\"5\":1690588800000},\"category\":{\"0\":\"A\",\"1\":\"A\",\"2\":\"B\",\"3\":\"B\",\"4\":\"B\",\"5\":\"B\"}}'"
      ]
     },
     "execution_count": 398,
     "metadata": {},
     "output_type": "execute_result"
    }
   ],
   "source": [
    "df.to_json()"
   ]
  },
  {
   "cell_type": "markdown",
   "metadata": {},
   "source": [
    "Notice the above is similar to a ```str``` of a Python ```dict``` however there are some subtle differences between the two file formats:"
   ]
  },
  {
   "cell_type": "code",
   "execution_count": 399,
   "metadata": {},
   "outputs": [],
   "source": [
    "dataframe_string = df.to_json()"
   ]
  },
  {
   "cell_type": "markdown",
   "metadata": {},
   "source": [
    "The ```StringIO``` class can prepare a ```str``` for input output operations:"
   ]
  },
  {
   "cell_type": "code",
   "execution_count": 400,
   "metadata": {},
   "outputs": [],
   "source": [
    "from io import StringIO\n",
    "dataframe_string_io = StringIO(dataframe_string)"
   ]
  },
  {
   "cell_type": "markdown",
   "metadata": {},
   "source": [
    "This ```StringIO``` instance can be read in using the complementary ```read_json``` function, returning a ```DataFrame```:"
   ]
  },
  {
   "cell_type": "code",
   "execution_count": 401,
   "metadata": {},
   "outputs": [
    {
     "data": {
      "text/html": [
       "<div>\n",
       "<style scoped>\n",
       "    .dataframe tbody tr th:only-of-type {\n",
       "        vertical-align: middle;\n",
       "    }\n",
       "\n",
       "    .dataframe tbody tr th {\n",
       "        vertical-align: top;\n",
       "    }\n",
       "\n",
       "    .dataframe thead th {\n",
       "        text-align: right;\n",
       "    }\n",
       "</style>\n",
       "<table border=\"1\" class=\"dataframe\">\n",
       "  <thead>\n",
       "    <tr style=\"text-align: right;\">\n",
       "      <th></th>\n",
       "      <th>string</th>\n",
       "      <th>integer</th>\n",
       "      <th>boolean</th>\n",
       "      <th>floatingpoint</th>\n",
       "      <th>datetime</th>\n",
       "      <th>category</th>\n",
       "    </tr>\n",
       "  </thead>\n",
       "  <tbody>\n",
       "    <tr>\n",
       "      <th>0</th>\n",
       "      <td>the fat black cat</td>\n",
       "      <td>4</td>\n",
       "      <td>True</td>\n",
       "      <td>0.86</td>\n",
       "      <td>2023-07-24 11:30:00</td>\n",
       "      <td>A</td>\n",
       "    </tr>\n",
       "    <tr>\n",
       "      <th>1</th>\n",
       "      <td>sat on the mat</td>\n",
       "      <td>4</td>\n",
       "      <td>True</td>\n",
       "      <td>0.86</td>\n",
       "      <td>2023-07-25 00:00:00</td>\n",
       "      <td>A</td>\n",
       "    </tr>\n",
       "    <tr>\n",
       "      <th>2</th>\n",
       "      <td>twinkle, twinkle</td>\n",
       "      <td>2</td>\n",
       "      <td>True</td>\n",
       "      <td>-1.14</td>\n",
       "      <td>2023-07-26 00:00:00</td>\n",
       "      <td>B</td>\n",
       "    </tr>\n",
       "    <tr>\n",
       "      <th>3</th>\n",
       "      <td>little star</td>\n",
       "      <td>2</td>\n",
       "      <td>True</td>\n",
       "      <td>-1.14</td>\n",
       "      <td>2023-07-27 00:00:00</td>\n",
       "      <td>B</td>\n",
       "    </tr>\n",
       "    <tr>\n",
       "      <th>4</th>\n",
       "      <td>how I wonder</td>\n",
       "      <td>3</td>\n",
       "      <td>False</td>\n",
       "      <td>-0.14</td>\n",
       "      <td>2023-07-28 00:00:00</td>\n",
       "      <td>B</td>\n",
       "    </tr>\n",
       "    <tr>\n",
       "      <th>5</th>\n",
       "      <td>what you are</td>\n",
       "      <td>4</td>\n",
       "      <td>True</td>\n",
       "      <td>0.86</td>\n",
       "      <td>2023-07-29 00:00:00</td>\n",
       "      <td>B</td>\n",
       "    </tr>\n",
       "  </tbody>\n",
       "</table>\n",
       "</div>"
      ],
      "text/plain": [
       "              string  integer  boolean  floatingpoint            datetime  \\\n",
       "0  the fat black cat        4     True           0.86 2023-07-24 11:30:00   \n",
       "1     sat on the mat        4     True           0.86 2023-07-25 00:00:00   \n",
       "2   twinkle, twinkle        2     True          -1.14 2023-07-26 00:00:00   \n",
       "3        little star        2     True          -1.14 2023-07-27 00:00:00   \n",
       "4       how I wonder        3    False          -0.14 2023-07-28 00:00:00   \n",
       "5       what you are        4     True           0.86 2023-07-29 00:00:00   \n",
       "\n",
       "  category  \n",
       "0        A  \n",
       "1        A  \n",
       "2        B  \n",
       "3        B  \n",
       "4        B  \n",
       "5        B  "
      ]
     },
     "execution_count": 401,
     "metadata": {},
     "output_type": "execute_result"
    }
   ],
   "source": [
    "pd.read_json(dataframe_string_io)"
   ]
  },
  {
   "attachments": {},
   "cell_type": "markdown",
   "metadata": {},
   "source": [
    "## Markdown"
   ]
  },
  {
   "attachments": {},
   "cell_type": "markdown",
   "metadata": {},
   "source": [
    "A DataFrame can be written to markdown using:"
   ]
  },
  {
   "cell_type": "code",
   "execution_count": 402,
   "metadata": {},
   "outputs": [
    {
     "data": {
      "text/plain": [
       "'|    | string            |   integer | boolean   |   floatingpoint | datetime            | category   |\\n|---:|:------------------|----------:|:----------|----------------:|:--------------------|:-----------|\\n|  0 | the fat black cat |         4 | True      |            0.86 | 2023-07-24 11:30:00 | A          |\\n|  1 | sat on the mat    |         4 | True      |            0.86 | 2023-07-25 00:00:00 | A          |\\n|  2 | twinkle, twinkle  |         2 | True      |           -1.14 | 2023-07-26 00:00:00 | B          |\\n|  3 | little star       |         2 | True      |           -1.14 | 2023-07-27 00:00:00 | B          |\\n|  4 | how I wonder      |         3 | False     |           -0.14 | 2023-07-28 00:00:00 | B          |\\n|  5 | what you are      |         4 | True      |            0.86 | 2023-07-29 00:00:00 | B          |'"
      ]
     },
     "execution_count": 402,
     "metadata": {},
     "output_type": "execute_result"
    }
   ],
   "source": [
    "df.to_markdown()"
   ]
  },
  {
   "attachments": {},
   "cell_type": "markdown",
   "metadata": {},
   "source": [
    "If this is printed:"
   ]
  },
  {
   "cell_type": "code",
   "execution_count": 403,
   "metadata": {},
   "outputs": [
    {
     "name": "stdout",
     "output_type": "stream",
     "text": [
      "|    | string            |   integer | boolean   |   floatingpoint | datetime            | category   |\n",
      "|---:|:------------------|----------:|:----------|----------------:|:--------------------|:-----------|\n",
      "|  0 | the fat black cat |         4 | True      |            0.86 | 2023-07-24 11:30:00 | A          |\n",
      "|  1 | sat on the mat    |         4 | True      |            0.86 | 2023-07-25 00:00:00 | A          |\n",
      "|  2 | twinkle, twinkle  |         2 | True      |           -1.14 | 2023-07-26 00:00:00 | B          |\n",
      "|  3 | little star       |         2 | True      |           -1.14 | 2023-07-27 00:00:00 | B          |\n",
      "|  4 | how I wonder      |         3 | False     |           -0.14 | 2023-07-28 00:00:00 | B          |\n",
      "|  5 | what you are      |         4 | True      |            0.86 | 2023-07-29 00:00:00 | B          |\n"
     ]
    }
   ],
   "source": [
    "print(df.to_markdown())"
   ]
  },
  {
   "attachments": {},
   "cell_type": "markdown",
   "metadata": {},
   "source": [
    "When the cell output is copied to a markdown cell it displays:"
   ]
  },
  {
   "attachments": {},
   "cell_type": "markdown",
   "metadata": {},
   "source": [
    "|    | string            |   integer | boolean   |   floatingpoint | datetime            | category   |\n",
    "|---:|:------------------|----------:|:----------|----------------:|:--------------------|:-----------|\n",
    "|  0 | the fat black cat |         4 | True      |            0.86 | 2023-07-24 11:36:00 | A          |\n",
    "|  1 | sat on the mat    |         4 | True      |            0.86 | 2023-07-25 12:36:00 | A          |\n",
    "|  2 | twinkle, twinkle  |         2 | True      |           -1.14 | 2023-07-26 13:36:00 | B          |\n",
    "|  3 | little star       |         2 | True      |           -1.14 | 2023-07-27 14:36:00 | B          |\n",
    "|  4 | how I wonder      |         3 | False     |           -0.14 | 2023-07-28 15:36:00 | B          |\n",
    "|  5 | what you are      |         4 | True      |            0.86 | 2023-07-29 16:36:00 | B          |"
   ]
  },
  {
   "attachments": {},
   "cell_type": "markdown",
   "metadata": {},
   "source": [
    "There is no analogous function to read in data from this format:"
   ]
  },
  {
   "attachments": {},
   "cell_type": "markdown",
   "metadata": {},
   "source": [
    "## CSV and Text Files"
   ]
  },
  {
   "attachments": {},
   "cell_type": "markdown",
   "metadata": {},
   "source": [
    "The DataFrame can be written to_csv:"
   ]
  },
  {
   "cell_type": "code",
   "execution_count": 404,
   "metadata": {},
   "outputs": [],
   "source": [
    "df.to_csv(r'.\\files\\Book4.csv')"
   ]
  },
  {
   "attachments": {},
   "cell_type": "markdown",
   "metadata": {},
   "source": [
    "This has the raw form:"
   ]
  },
  {
   "cell_type": "raw",
   "metadata": {},
   "source": [
    ",string,integer,boolean,floatingpoint,datetime,category\\n\n",
    "0,the fat black cat,4,True,0.8599999999999999,2023-07-24 11:36:00,A\\n\n",
    "1,sat on the mat,4,True,0.8599999999999999,2023-07-25 12:36:00,A\\n\n",
    "2,\"twinkle, twinkle\",2,True,-1.1400000000000001,2023-07-26 13:36:00,B\\n\n",
    "3,little star,2,True,-1.1400000000000001,2023-07-27 14:36:00,B\\n\n",
    "4,how I wonder,3,False,-0.14000000000000012,2023-07-28 15:36:00,B\\n\n",
    "5,what you are,4,True,0.8599999999999999,2023-07-29 16:36:00,B\\n"
   ]
  },
  {
   "attachments": {},
   "cell_type": "markdown",
   "metadata": {},
   "source": [
    "Notice that an index was added, meaning if this is read into a ```DataFrame``` instance using the defaults there is an Unnamed ```Series``` corresponding to the index read in:"
   ]
  },
  {
   "cell_type": "code",
   "execution_count": 405,
   "metadata": {},
   "outputs": [
    {
     "data": {
      "text/html": [
       "<div>\n",
       "<style scoped>\n",
       "    .dataframe tbody tr th:only-of-type {\n",
       "        vertical-align: middle;\n",
       "    }\n",
       "\n",
       "    .dataframe tbody tr th {\n",
       "        vertical-align: top;\n",
       "    }\n",
       "\n",
       "    .dataframe thead th {\n",
       "        text-align: right;\n",
       "    }\n",
       "</style>\n",
       "<table border=\"1\" class=\"dataframe\">\n",
       "  <thead>\n",
       "    <tr style=\"text-align: right;\">\n",
       "      <th></th>\n",
       "      <th>Unnamed: 0</th>\n",
       "      <th>string</th>\n",
       "      <th>integer</th>\n",
       "      <th>boolean</th>\n",
       "      <th>floatingpoint</th>\n",
       "      <th>datetime</th>\n",
       "      <th>category</th>\n",
       "    </tr>\n",
       "  </thead>\n",
       "  <tbody>\n",
       "    <tr>\n",
       "      <th>0</th>\n",
       "      <td>0</td>\n",
       "      <td>the fat black cat</td>\n",
       "      <td>4</td>\n",
       "      <td>True</td>\n",
       "      <td>0.86</td>\n",
       "      <td>2023-07-24 11:30:00</td>\n",
       "      <td>A</td>\n",
       "    </tr>\n",
       "    <tr>\n",
       "      <th>1</th>\n",
       "      <td>1</td>\n",
       "      <td>sat on the mat</td>\n",
       "      <td>4</td>\n",
       "      <td>True</td>\n",
       "      <td>0.86</td>\n",
       "      <td>2023-07-25 00:00:00</td>\n",
       "      <td>A</td>\n",
       "    </tr>\n",
       "    <tr>\n",
       "      <th>2</th>\n",
       "      <td>2</td>\n",
       "      <td>twinkle, twinkle</td>\n",
       "      <td>2</td>\n",
       "      <td>True</td>\n",
       "      <td>-1.14</td>\n",
       "      <td>2023-07-26 00:00:00</td>\n",
       "      <td>B</td>\n",
       "    </tr>\n",
       "    <tr>\n",
       "      <th>3</th>\n",
       "      <td>3</td>\n",
       "      <td>little star</td>\n",
       "      <td>2</td>\n",
       "      <td>True</td>\n",
       "      <td>-1.14</td>\n",
       "      <td>2023-07-27 00:00:00</td>\n",
       "      <td>B</td>\n",
       "    </tr>\n",
       "    <tr>\n",
       "      <th>4</th>\n",
       "      <td>4</td>\n",
       "      <td>how I wonder</td>\n",
       "      <td>3</td>\n",
       "      <td>False</td>\n",
       "      <td>-0.14</td>\n",
       "      <td>2023-07-28 00:00:00</td>\n",
       "      <td>B</td>\n",
       "    </tr>\n",
       "    <tr>\n",
       "      <th>5</th>\n",
       "      <td>5</td>\n",
       "      <td>what you are</td>\n",
       "      <td>4</td>\n",
       "      <td>True</td>\n",
       "      <td>0.86</td>\n",
       "      <td>2023-07-29 00:00:00</td>\n",
       "      <td>B</td>\n",
       "    </tr>\n",
       "  </tbody>\n",
       "</table>\n",
       "</div>"
      ],
      "text/plain": [
       "   Unnamed: 0             string  integer  boolean  floatingpoint  \\\n",
       "0           0  the fat black cat        4     True           0.86   \n",
       "1           1     sat on the mat        4     True           0.86   \n",
       "2           2   twinkle, twinkle        2     True          -1.14   \n",
       "3           3        little star        2     True          -1.14   \n",
       "4           4       how I wonder        3    False          -0.14   \n",
       "5           5       what you are        4     True           0.86   \n",
       "\n",
       "              datetime category  \n",
       "0  2023-07-24 11:30:00        A  \n",
       "1  2023-07-25 00:00:00        A  \n",
       "2  2023-07-26 00:00:00        B  \n",
       "3  2023-07-27 00:00:00        B  \n",
       "4  2023-07-28 00:00:00        B  \n",
       "5  2023-07-29 00:00:00        B  "
      ]
     },
     "execution_count": 405,
     "metadata": {},
     "output_type": "execute_result"
    }
   ],
   "source": [
    "pd.read_csv(r'.\\files\\Book4.csv')"
   ]
  },
  {
   "attachments": {},
   "cell_type": "markdown",
   "metadata": {},
   "source": [
    "This can be assigned to the ```Index``` using the keyword input argument ```index_col```:"
   ]
  },
  {
   "cell_type": "code",
   "execution_count": 406,
   "metadata": {},
   "outputs": [
    {
     "data": {
      "text/html": [
       "<div>\n",
       "<style scoped>\n",
       "    .dataframe tbody tr th:only-of-type {\n",
       "        vertical-align: middle;\n",
       "    }\n",
       "\n",
       "    .dataframe tbody tr th {\n",
       "        vertical-align: top;\n",
       "    }\n",
       "\n",
       "    .dataframe thead th {\n",
       "        text-align: right;\n",
       "    }\n",
       "</style>\n",
       "<table border=\"1\" class=\"dataframe\">\n",
       "  <thead>\n",
       "    <tr style=\"text-align: right;\">\n",
       "      <th></th>\n",
       "      <th>string</th>\n",
       "      <th>integer</th>\n",
       "      <th>boolean</th>\n",
       "      <th>floatingpoint</th>\n",
       "      <th>datetime</th>\n",
       "      <th>category</th>\n",
       "    </tr>\n",
       "  </thead>\n",
       "  <tbody>\n",
       "    <tr>\n",
       "      <th>0</th>\n",
       "      <td>the fat black cat</td>\n",
       "      <td>4</td>\n",
       "      <td>True</td>\n",
       "      <td>0.86</td>\n",
       "      <td>2023-07-24 11:30:00</td>\n",
       "      <td>A</td>\n",
       "    </tr>\n",
       "    <tr>\n",
       "      <th>1</th>\n",
       "      <td>sat on the mat</td>\n",
       "      <td>4</td>\n",
       "      <td>True</td>\n",
       "      <td>0.86</td>\n",
       "      <td>2023-07-25 00:00:00</td>\n",
       "      <td>A</td>\n",
       "    </tr>\n",
       "    <tr>\n",
       "      <th>2</th>\n",
       "      <td>twinkle, twinkle</td>\n",
       "      <td>2</td>\n",
       "      <td>True</td>\n",
       "      <td>-1.14</td>\n",
       "      <td>2023-07-26 00:00:00</td>\n",
       "      <td>B</td>\n",
       "    </tr>\n",
       "    <tr>\n",
       "      <th>3</th>\n",
       "      <td>little star</td>\n",
       "      <td>2</td>\n",
       "      <td>True</td>\n",
       "      <td>-1.14</td>\n",
       "      <td>2023-07-27 00:00:00</td>\n",
       "      <td>B</td>\n",
       "    </tr>\n",
       "    <tr>\n",
       "      <th>4</th>\n",
       "      <td>how I wonder</td>\n",
       "      <td>3</td>\n",
       "      <td>False</td>\n",
       "      <td>-0.14</td>\n",
       "      <td>2023-07-28 00:00:00</td>\n",
       "      <td>B</td>\n",
       "    </tr>\n",
       "    <tr>\n",
       "      <th>5</th>\n",
       "      <td>what you are</td>\n",
       "      <td>4</td>\n",
       "      <td>True</td>\n",
       "      <td>0.86</td>\n",
       "      <td>2023-07-29 00:00:00</td>\n",
       "      <td>B</td>\n",
       "    </tr>\n",
       "  </tbody>\n",
       "</table>\n",
       "</div>"
      ],
      "text/plain": [
       "              string  integer  boolean  floatingpoint             datetime  \\\n",
       "0  the fat black cat        4     True           0.86  2023-07-24 11:30:00   \n",
       "1     sat on the mat        4     True           0.86  2023-07-25 00:00:00   \n",
       "2   twinkle, twinkle        2     True          -1.14  2023-07-26 00:00:00   \n",
       "3        little star        2     True          -1.14  2023-07-27 00:00:00   \n",
       "4       how I wonder        3    False          -0.14  2023-07-28 00:00:00   \n",
       "5       what you are        4     True           0.86  2023-07-29 00:00:00   \n",
       "\n",
       "  category  \n",
       "0        A  \n",
       "1        A  \n",
       "2        B  \n",
       "3        B  \n",
       "4        B  \n",
       "5        B  "
      ]
     },
     "execution_count": 406,
     "metadata": {},
     "output_type": "execute_result"
    }
   ],
   "source": [
    "pd.read_csv(r'.\\files\\Book4.csv', index_col=0)"
   ]
  },
  {
   "attachments": {},
   "cell_type": "markdown",
   "metadata": {},
   "source": [
    "Alternatively the ```DataFrame``` can be exported without the ```Index```:"
   ]
  },
  {
   "cell_type": "code",
   "execution_count": 407,
   "metadata": {},
   "outputs": [
    {
     "name": "stdout",
     "output_type": "stream",
     "text": [
      "\u001b[1;31mSignature:\u001b[0m\n",
      "\u001b[0mdf\u001b[0m\u001b[1;33m.\u001b[0m\u001b[0mto_csv\u001b[0m\u001b[1;33m(\u001b[0m\u001b[1;33m\n",
      "\u001b[0m    \u001b[0mpath_or_buf\u001b[0m\u001b[1;33m:\u001b[0m \u001b[1;34m'FilePath | WriteBuffer[bytes] | WriteBuffer[str] | None'\u001b[0m \u001b[1;33m=\u001b[0m \u001b[1;32mNone\u001b[0m\u001b[1;33m,\u001b[0m\u001b[1;33m\n",
      "\u001b[0m    \u001b[0msep\u001b[0m\u001b[1;33m:\u001b[0m \u001b[1;34m'str'\u001b[0m \u001b[1;33m=\u001b[0m \u001b[1;34m','\u001b[0m\u001b[1;33m,\u001b[0m\u001b[1;33m\n",
      "\u001b[0m    \u001b[0mna_rep\u001b[0m\u001b[1;33m:\u001b[0m \u001b[1;34m'str'\u001b[0m \u001b[1;33m=\u001b[0m \u001b[1;34m''\u001b[0m\u001b[1;33m,\u001b[0m\u001b[1;33m\n",
      "\u001b[0m    \u001b[0mfloat_format\u001b[0m\u001b[1;33m:\u001b[0m \u001b[1;34m'str | Callable | None'\u001b[0m \u001b[1;33m=\u001b[0m \u001b[1;32mNone\u001b[0m\u001b[1;33m,\u001b[0m\u001b[1;33m\n",
      "\u001b[0m    \u001b[0mcolumns\u001b[0m\u001b[1;33m:\u001b[0m \u001b[1;34m'Sequence[Hashable] | None'\u001b[0m \u001b[1;33m=\u001b[0m \u001b[1;32mNone\u001b[0m\u001b[1;33m,\u001b[0m\u001b[1;33m\n",
      "\u001b[0m    \u001b[0mheader\u001b[0m\u001b[1;33m:\u001b[0m \u001b[1;34m'bool_t | list[str]'\u001b[0m \u001b[1;33m=\u001b[0m \u001b[1;32mTrue\u001b[0m\u001b[1;33m,\u001b[0m\u001b[1;33m\n",
      "\u001b[0m    \u001b[0mindex\u001b[0m\u001b[1;33m:\u001b[0m \u001b[1;34m'bool_t'\u001b[0m \u001b[1;33m=\u001b[0m \u001b[1;32mTrue\u001b[0m\u001b[1;33m,\u001b[0m\u001b[1;33m\n",
      "\u001b[0m    \u001b[0mindex_label\u001b[0m\u001b[1;33m:\u001b[0m \u001b[1;34m'IndexLabel | None'\u001b[0m \u001b[1;33m=\u001b[0m \u001b[1;32mNone\u001b[0m\u001b[1;33m,\u001b[0m\u001b[1;33m\n",
      "\u001b[0m    \u001b[0mmode\u001b[0m\u001b[1;33m:\u001b[0m \u001b[1;34m'str'\u001b[0m \u001b[1;33m=\u001b[0m \u001b[1;34m'w'\u001b[0m\u001b[1;33m,\u001b[0m\u001b[1;33m\n",
      "\u001b[0m    \u001b[0mencoding\u001b[0m\u001b[1;33m:\u001b[0m \u001b[1;34m'str | None'\u001b[0m \u001b[1;33m=\u001b[0m \u001b[1;32mNone\u001b[0m\u001b[1;33m,\u001b[0m\u001b[1;33m\n",
      "\u001b[0m    \u001b[0mcompression\u001b[0m\u001b[1;33m:\u001b[0m \u001b[1;34m'CompressionOptions'\u001b[0m \u001b[1;33m=\u001b[0m \u001b[1;34m'infer'\u001b[0m\u001b[1;33m,\u001b[0m\u001b[1;33m\n",
      "\u001b[0m    \u001b[0mquoting\u001b[0m\u001b[1;33m:\u001b[0m \u001b[1;34m'int | None'\u001b[0m \u001b[1;33m=\u001b[0m \u001b[1;32mNone\u001b[0m\u001b[1;33m,\u001b[0m\u001b[1;33m\n",
      "\u001b[0m    \u001b[0mquotechar\u001b[0m\u001b[1;33m:\u001b[0m \u001b[1;34m'str'\u001b[0m \u001b[1;33m=\u001b[0m \u001b[1;34m'\"'\u001b[0m\u001b[1;33m,\u001b[0m\u001b[1;33m\n",
      "\u001b[0m    \u001b[0mlineterminator\u001b[0m\u001b[1;33m:\u001b[0m \u001b[1;34m'str | None'\u001b[0m \u001b[1;33m=\u001b[0m \u001b[1;32mNone\u001b[0m\u001b[1;33m,\u001b[0m\u001b[1;33m\n",
      "\u001b[0m    \u001b[0mchunksize\u001b[0m\u001b[1;33m:\u001b[0m \u001b[1;34m'int | None'\u001b[0m \u001b[1;33m=\u001b[0m \u001b[1;32mNone\u001b[0m\u001b[1;33m,\u001b[0m\u001b[1;33m\n",
      "\u001b[0m    \u001b[0mdate_format\u001b[0m\u001b[1;33m:\u001b[0m \u001b[1;34m'str | None'\u001b[0m \u001b[1;33m=\u001b[0m \u001b[1;32mNone\u001b[0m\u001b[1;33m,\u001b[0m\u001b[1;33m\n",
      "\u001b[0m    \u001b[0mdoublequote\u001b[0m\u001b[1;33m:\u001b[0m \u001b[1;34m'bool_t'\u001b[0m \u001b[1;33m=\u001b[0m \u001b[1;32mTrue\u001b[0m\u001b[1;33m,\u001b[0m\u001b[1;33m\n",
      "\u001b[0m    \u001b[0mescapechar\u001b[0m\u001b[1;33m:\u001b[0m \u001b[1;34m'str | None'\u001b[0m \u001b[1;33m=\u001b[0m \u001b[1;32mNone\u001b[0m\u001b[1;33m,\u001b[0m\u001b[1;33m\n",
      "\u001b[0m    \u001b[0mdecimal\u001b[0m\u001b[1;33m:\u001b[0m \u001b[1;34m'str'\u001b[0m \u001b[1;33m=\u001b[0m \u001b[1;34m'.'\u001b[0m\u001b[1;33m,\u001b[0m\u001b[1;33m\n",
      "\u001b[0m    \u001b[0merrors\u001b[0m\u001b[1;33m:\u001b[0m \u001b[1;34m'OpenFileErrors'\u001b[0m \u001b[1;33m=\u001b[0m \u001b[1;34m'strict'\u001b[0m\u001b[1;33m,\u001b[0m\u001b[1;33m\n",
      "\u001b[0m    \u001b[0mstorage_options\u001b[0m\u001b[1;33m:\u001b[0m \u001b[1;34m'StorageOptions | None'\u001b[0m \u001b[1;33m=\u001b[0m \u001b[1;32mNone\u001b[0m\u001b[1;33m,\u001b[0m\u001b[1;33m\n",
      "\u001b[0m\u001b[1;33m)\u001b[0m \u001b[1;33m->\u001b[0m \u001b[1;34m'str | None'\u001b[0m\u001b[1;33m\u001b[0m\u001b[1;33m\u001b[0m\u001b[0m\n",
      "\u001b[1;31mDocstring:\u001b[0m\n",
      "Write object to a comma-separated values (csv) file.\n",
      "\n",
      "Parameters\n",
      "----------\n",
      "path_or_buf : str, path object, file-like object, or None, default None\n",
      "    String, path object (implementing os.PathLike[str]), or file-like\n",
      "    object implementing a write() function. If None, the result is\n",
      "    returned as a string. If a non-binary file object is passed, it should\n",
      "    be opened with `newline=''`, disabling universal newlines. If a binary\n",
      "    file object is passed, `mode` might need to contain a `'b'`.\n",
      "\n",
      "    .. versionchanged:: 1.2.0\n",
      "\n",
      "       Support for binary file objects was introduced.\n",
      "\n",
      "sep : str, default ','\n",
      "    String of length 1. Field delimiter for the output file.\n",
      "na_rep : str, default ''\n",
      "    Missing data representation.\n",
      "float_format : str, Callable, default None\n",
      "    Format string for floating point numbers. If a Callable is given, it takes\n",
      "    precedence over other numeric formatting parameters, like decimal.\n",
      "columns : sequence, optional\n",
      "    Columns to write.\n",
      "header : bool or list of str, default True\n",
      "    Write out the column names. If a list of strings is given it is\n",
      "    assumed to be aliases for the column names.\n",
      "index : bool, default True\n",
      "    Write row names (index).\n",
      "index_label : str or sequence, or False, default None\n",
      "    Column label for index column(s) if desired. If None is given, and\n",
      "    `header` and `index` are True, then the index names are used. A\n",
      "    sequence should be given if the object uses MultiIndex. If\n",
      "    False do not print fields for index names. Use index_label=False\n",
      "    for easier importing in R.\n",
      "mode : {'w', 'x', 'a'}, default 'w'\n",
      "    Forwarded to either `open(mode=)` or `fsspec.open(mode=)` to control\n",
      "    the file opening. Typical values include:\n",
      "\n",
      "    - 'w', truncate the file first.\n",
      "    - 'x', exclusive creation, failing if the file already exists.\n",
      "    - 'a', append to the end of file if it exists.\n",
      "\n",
      "encoding : str, optional\n",
      "    A string representing the encoding to use in the output file,\n",
      "    defaults to 'utf-8'. `encoding` is not supported if `path_or_buf`\n",
      "    is a non-binary file object.\n",
      "compression : str or dict, default 'infer'\n",
      "    For on-the-fly compression of the output data. If 'infer' and 'path_or_buf' is\n",
      "    path-like, then detect compression from the following extensions: '.gz',\n",
      "    '.bz2', '.zip', '.xz', '.zst', '.tar', '.tar.gz', '.tar.xz' or '.tar.bz2'\n",
      "    (otherwise no compression).\n",
      "    Set to ``None`` for no compression.\n",
      "    Can also be a dict with key ``'method'`` set\n",
      "    to one of {``'zip'``, ``'gzip'``, ``'bz2'``, ``'zstd'``, ``'xz'``, ``'tar'``} and\n",
      "    other key-value pairs are forwarded to\n",
      "    ``zipfile.ZipFile``, ``gzip.GzipFile``,\n",
      "    ``bz2.BZ2File``, ``zstandard.ZstdCompressor``, ``lzma.LZMAFile`` or\n",
      "    ``tarfile.TarFile``, respectively.\n",
      "    As an example, the following could be passed for faster compression and to create\n",
      "    a reproducible gzip archive:\n",
      "    ``compression={'method': 'gzip', 'compresslevel': 1, 'mtime': 1}``.\n",
      "\n",
      "    .. versionadded:: 1.5.0\n",
      "        Added support for `.tar` files.\n",
      "\n",
      "       May be a dict with key 'method' as compression mode\n",
      "       and other entries as additional compression options if\n",
      "       compression mode is 'zip'.\n",
      "\n",
      "       Passing compression options as keys in dict is\n",
      "       supported for compression modes 'gzip', 'bz2', 'zstd', and 'zip'.\n",
      "\n",
      "    .. versionchanged:: 1.2.0\n",
      "\n",
      "        Compression is supported for binary file objects.\n",
      "\n",
      "    .. versionchanged:: 1.2.0\n",
      "\n",
      "        Previous versions forwarded dict entries for 'gzip' to\n",
      "        `gzip.open` instead of `gzip.GzipFile` which prevented\n",
      "        setting `mtime`.\n",
      "\n",
      "quoting : optional constant from csv module\n",
      "    Defaults to csv.QUOTE_MINIMAL. If you have set a `float_format`\n",
      "    then floats are converted to strings and thus csv.QUOTE_NONNUMERIC\n",
      "    will treat them as non-numeric.\n",
      "quotechar : str, default '\\\"'\n",
      "    String of length 1. Character used to quote fields.\n",
      "lineterminator : str, optional\n",
      "    The newline character or character sequence to use in the output\n",
      "    file. Defaults to `os.linesep`, which depends on the OS in which\n",
      "    this method is called ('\\\\n' for linux, '\\\\r\\\\n' for Windows, i.e.).\n",
      "\n",
      "    .. versionchanged:: 1.5.0\n",
      "\n",
      "        Previously was line_terminator, changed for consistency with\n",
      "        read_csv and the standard library 'csv' module.\n",
      "\n",
      "chunksize : int or None\n",
      "    Rows to write at a time.\n",
      "date_format : str, default None\n",
      "    Format string for datetime objects.\n",
      "doublequote : bool, default True\n",
      "    Control quoting of `quotechar` inside a field.\n",
      "escapechar : str, default None\n",
      "    String of length 1. Character used to escape `sep` and `quotechar`\n",
      "    when appropriate.\n",
      "decimal : str, default '.'\n",
      "    Character recognized as decimal separator. E.g. use ',' for\n",
      "    European data.\n",
      "errors : str, default 'strict'\n",
      "    Specifies how encoding and decoding errors are to be handled.\n",
      "    See the errors argument for :func:`open` for a full list\n",
      "    of options.\n",
      "\n",
      "storage_options : dict, optional\n",
      "    Extra options that make sense for a particular storage connection, e.g.\n",
      "    host, port, username, password, etc. For HTTP(S) URLs the key-value pairs\n",
      "    are forwarded to ``urllib.request.Request`` as header options. For other\n",
      "    URLs (e.g. starting with \"s3://\", and \"gcs://\") the key-value pairs are\n",
      "    forwarded to ``fsspec.open``. Please see ``fsspec`` and ``urllib`` for more\n",
      "    details, and for more examples on storage options refer `here\n",
      "    <https://pandas.pydata.org/docs/user_guide/io.html?\n",
      "    highlight=storage_options#reading-writing-remote-files>`_.\n",
      "\n",
      "    .. versionadded:: 1.2.0\n",
      "\n",
      "Returns\n",
      "-------\n",
      "None or str\n",
      "    If path_or_buf is None, returns the resulting csv format as a\n",
      "    string. Otherwise returns None.\n",
      "\n",
      "See Also\n",
      "--------\n",
      "read_csv : Load a CSV file into a DataFrame.\n",
      "to_excel : Write DataFrame to an Excel file.\n",
      "\n",
      "Examples\n",
      "--------\n",
      ">>> df = pd.DataFrame({'name': ['Raphael', 'Donatello'],\n",
      "...                    'mask': ['red', 'purple'],\n",
      "...                    'weapon': ['sai', 'bo staff']})\n",
      ">>> df.to_csv(index=False)\n",
      "'name,mask,weapon\\nRaphael,red,sai\\nDonatello,purple,bo staff\\n'\n",
      "\n",
      "Create 'out.zip' containing 'out.csv'\n",
      "\n",
      ">>> compression_opts = dict(method='zip',\n",
      "...                         archive_name='out.csv')  # doctest: +SKIP\n",
      ">>> df.to_csv('out.zip', index=False,\n",
      "...           compression=compression_opts)  # doctest: +SKIP\n",
      "\n",
      "To write a csv file to a new folder or nested folder you will first\n",
      "need to create it using either Pathlib or os:\n",
      "\n",
      ">>> from pathlib import Path  # doctest: +SKIP\n",
      ">>> filepath = Path('folder/subfolder/out.csv')  # doctest: +SKIP\n",
      ">>> filepath.parent.mkdir(parents=True, exist_ok=True)  # doctest: +SKIP\n",
      ">>> df.to_csv(filepath)  # doctest: +SKIP\n",
      "\n",
      ">>> import os  # doctest: +SKIP\n",
      ">>> os.makedirs('folder/subfolder', exist_ok=True)  # doctest: +SKIP\n",
      ">>> df.to_csv('folder/subfolder/out.csv')  # doctest: +SKIP\n",
      "\u001b[1;31mFile:\u001b[0m      c:\\users\\phili\\anaconda3\\envs\\vscode-env\\lib\\site-packages\\pandas\\core\\generic.py\n",
      "\u001b[1;31mType:\u001b[0m      method"
     ]
    }
   ],
   "source": [
    "df.to_csv?"
   ]
  },
  {
   "cell_type": "code",
   "execution_count": 408,
   "metadata": {},
   "outputs": [],
   "source": [
    "df.to_csv(r'.\\files\\Book5.csv', index=False)"
   ]
  },
  {
   "cell_type": "raw",
   "metadata": {},
   "source": [
    "string,integer,boolean,floatingpoint,datetime,category\\n\n",
    "the fat black cat,4,True,0.8599999999999999,2023-07-24 11:36:00,A\\n\n",
    "sat on the mat,4,True,0.8599999999999999,2023-07-25 12:36:00,A\\n\n",
    "\"twinkle, twinkle\",2,True,-1.1400000000000001,2023-07-26 13:36:00,B\\n\n",
    "little star,2,True,-1.1400000000000001,2023-07-27 14:36:00,B\\n\n",
    "how I wonder,3,False,-0.14000000000000012,2023-07-28 15:36:00,B\\n\n",
    "what you are,4,True,0.8599999999999999,2023-07-29 16:36:00,B\\n"
   ]
  },
  {
   "attachments": {},
   "cell_type": "markdown",
   "metadata": {},
   "source": [
    "To save to a text file, the seperator needs to be specified:"
   ]
  },
  {
   "cell_type": "code",
   "execution_count": 409,
   "metadata": {},
   "outputs": [],
   "source": [
    "df.to_csv(r'.\\files\\Book6.txt', sep='\\t', index=False)"
   ]
  },
  {
   "cell_type": "raw",
   "metadata": {},
   "source": [
    "string\\tinteger\\tboolean\\tfloatingpoint\\tdatetime\\tcategory\\n\n",
    "the fat black cat\\t4\\tTrue\\t0.8599999999999999\\t2023-07-24 11:36:00\\tA\\n\n",
    "sat on the mat\\t4\\tTrue\\t0.8599999999999999\\t2023-07-25 12:36:00\\tA\\n\n",
    "twinkle, twinkle\\t2\\tTrue\\t-1.1400000000000001\\t2023-07-26 13:36:00\\tB\\n\n",
    "little star\\t2\\tTrue\\t-1.1400000000000001\\t2023-07-27 14:36:00\\tB\\n\n",
    "how I wonder\\t3\\tFalse\\t-0.14000000000000012\\t2023-07-28 15:36:00\\tB\\n\n",
    "what you are\\t4\\tTrue\\t0.8599999999999999\\t2023-07-29 16:36:00\\tB\\n"
   ]
  },
  {
   "attachments": {},
   "cell_type": "markdown",
   "metadata": {},
   "source": [
    "## Excel File"
   ]
  },
  {
   "attachments": {},
   "cell_type": "markdown",
   "metadata": {},
   "source": [
    "Supposing there are three DataFrame instances:"
   ]
  },
  {
   "cell_type": "code",
   "execution_count": 410,
   "metadata": {},
   "outputs": [
    {
     "data": {
      "text/html": [
       "<div>\n",
       "<style scoped>\n",
       "    .dataframe tbody tr th:only-of-type {\n",
       "        vertical-align: middle;\n",
       "    }\n",
       "\n",
       "    .dataframe tbody tr th {\n",
       "        vertical-align: top;\n",
       "    }\n",
       "\n",
       "    .dataframe thead th {\n",
       "        text-align: right;\n",
       "    }\n",
       "</style>\n",
       "<table border=\"1\" class=\"dataframe\">\n",
       "  <thead>\n",
       "    <tr style=\"text-align: right;\">\n",
       "      <th></th>\n",
       "      <th>string</th>\n",
       "      <th>integer</th>\n",
       "      <th>boolean</th>\n",
       "      <th>floatingpoint</th>\n",
       "      <th>datetime</th>\n",
       "      <th>category</th>\n",
       "    </tr>\n",
       "  </thead>\n",
       "  <tbody>\n",
       "    <tr>\n",
       "      <th>0</th>\n",
       "      <td>the fat black cat</td>\n",
       "      <td>4</td>\n",
       "      <td>True</td>\n",
       "      <td>0.86</td>\n",
       "      <td>2023-07-24 11:30:00</td>\n",
       "      <td>A</td>\n",
       "    </tr>\n",
       "    <tr>\n",
       "      <th>1</th>\n",
       "      <td>sat on the mat</td>\n",
       "      <td>4</td>\n",
       "      <td>True</td>\n",
       "      <td>0.86</td>\n",
       "      <td>2023-07-25 00:00:00</td>\n",
       "      <td>A</td>\n",
       "    </tr>\n",
       "    <tr>\n",
       "      <th>2</th>\n",
       "      <td>twinkle, twinkle</td>\n",
       "      <td>2</td>\n",
       "      <td>True</td>\n",
       "      <td>-1.14</td>\n",
       "      <td>2023-07-26 00:00:00</td>\n",
       "      <td>B</td>\n",
       "    </tr>\n",
       "    <tr>\n",
       "      <th>3</th>\n",
       "      <td>little star</td>\n",
       "      <td>2</td>\n",
       "      <td>True</td>\n",
       "      <td>-1.14</td>\n",
       "      <td>2023-07-27 00:00:00</td>\n",
       "      <td>B</td>\n",
       "    </tr>\n",
       "    <tr>\n",
       "      <th>4</th>\n",
       "      <td>how I wonder</td>\n",
       "      <td>3</td>\n",
       "      <td>False</td>\n",
       "      <td>-0.14</td>\n",
       "      <td>2023-07-28 00:00:00</td>\n",
       "      <td>B</td>\n",
       "    </tr>\n",
       "    <tr>\n",
       "      <th>5</th>\n",
       "      <td>what you are</td>\n",
       "      <td>4</td>\n",
       "      <td>True</td>\n",
       "      <td>0.86</td>\n",
       "      <td>2023-07-29 00:00:00</td>\n",
       "      <td>B</td>\n",
       "    </tr>\n",
       "  </tbody>\n",
       "</table>\n",
       "</div>"
      ],
      "text/plain": [
       "              string  integer  boolean  floatingpoint            datetime  \\\n",
       "0  the fat black cat        4     True           0.86 2023-07-24 11:30:00   \n",
       "1     sat on the mat        4     True           0.86 2023-07-25 00:00:00   \n",
       "2   twinkle, twinkle        2     True          -1.14 2023-07-26 00:00:00   \n",
       "3        little star        2     True          -1.14 2023-07-27 00:00:00   \n",
       "4       how I wonder        3    False          -0.14 2023-07-28 00:00:00   \n",
       "5       what you are        4     True           0.86 2023-07-29 00:00:00   \n",
       "\n",
       "  category  \n",
       "0        A  \n",
       "1        A  \n",
       "2        B  \n",
       "3        B  \n",
       "4        B  \n",
       "5        B  "
      ]
     },
     "execution_count": 410,
     "metadata": {},
     "output_type": "execute_result"
    }
   ],
   "source": [
    "df"
   ]
  },
  {
   "cell_type": "code",
   "execution_count": 411,
   "metadata": {},
   "outputs": [],
   "source": [
    "df2 = df[['string', 'integer', 'boolean']]"
   ]
  },
  {
   "cell_type": "code",
   "execution_count": 412,
   "metadata": {},
   "outputs": [
    {
     "data": {
      "text/html": [
       "<div>\n",
       "<style scoped>\n",
       "    .dataframe tbody tr th:only-of-type {\n",
       "        vertical-align: middle;\n",
       "    }\n",
       "\n",
       "    .dataframe tbody tr th {\n",
       "        vertical-align: top;\n",
       "    }\n",
       "\n",
       "    .dataframe thead th {\n",
       "        text-align: right;\n",
       "    }\n",
       "</style>\n",
       "<table border=\"1\" class=\"dataframe\">\n",
       "  <thead>\n",
       "    <tr style=\"text-align: right;\">\n",
       "      <th></th>\n",
       "      <th>string</th>\n",
       "      <th>integer</th>\n",
       "      <th>boolean</th>\n",
       "    </tr>\n",
       "  </thead>\n",
       "  <tbody>\n",
       "    <tr>\n",
       "      <th>0</th>\n",
       "      <td>the fat black cat</td>\n",
       "      <td>4</td>\n",
       "      <td>True</td>\n",
       "    </tr>\n",
       "    <tr>\n",
       "      <th>1</th>\n",
       "      <td>sat on the mat</td>\n",
       "      <td>4</td>\n",
       "      <td>True</td>\n",
       "    </tr>\n",
       "    <tr>\n",
       "      <th>2</th>\n",
       "      <td>twinkle, twinkle</td>\n",
       "      <td>2</td>\n",
       "      <td>True</td>\n",
       "    </tr>\n",
       "    <tr>\n",
       "      <th>3</th>\n",
       "      <td>little star</td>\n",
       "      <td>2</td>\n",
       "      <td>True</td>\n",
       "    </tr>\n",
       "    <tr>\n",
       "      <th>4</th>\n",
       "      <td>how I wonder</td>\n",
       "      <td>3</td>\n",
       "      <td>False</td>\n",
       "    </tr>\n",
       "    <tr>\n",
       "      <th>5</th>\n",
       "      <td>what you are</td>\n",
       "      <td>4</td>\n",
       "      <td>True</td>\n",
       "    </tr>\n",
       "  </tbody>\n",
       "</table>\n",
       "</div>"
      ],
      "text/plain": [
       "              string  integer  boolean\n",
       "0  the fat black cat        4     True\n",
       "1     sat on the mat        4     True\n",
       "2   twinkle, twinkle        2     True\n",
       "3        little star        2     True\n",
       "4       how I wonder        3    False\n",
       "5       what you are        4     True"
      ]
     },
     "execution_count": 412,
     "metadata": {},
     "output_type": "execute_result"
    }
   ],
   "source": [
    "df2"
   ]
  },
  {
   "cell_type": "code",
   "execution_count": 413,
   "metadata": {},
   "outputs": [],
   "source": [
    "df3 = df[['string', 'datetime', 'category']]"
   ]
  },
  {
   "cell_type": "code",
   "execution_count": 414,
   "metadata": {},
   "outputs": [
    {
     "data": {
      "text/html": [
       "<div>\n",
       "<style scoped>\n",
       "    .dataframe tbody tr th:only-of-type {\n",
       "        vertical-align: middle;\n",
       "    }\n",
       "\n",
       "    .dataframe tbody tr th {\n",
       "        vertical-align: top;\n",
       "    }\n",
       "\n",
       "    .dataframe thead th {\n",
       "        text-align: right;\n",
       "    }\n",
       "</style>\n",
       "<table border=\"1\" class=\"dataframe\">\n",
       "  <thead>\n",
       "    <tr style=\"text-align: right;\">\n",
       "      <th></th>\n",
       "      <th>string</th>\n",
       "      <th>datetime</th>\n",
       "      <th>category</th>\n",
       "    </tr>\n",
       "  </thead>\n",
       "  <tbody>\n",
       "    <tr>\n",
       "      <th>0</th>\n",
       "      <td>the fat black cat</td>\n",
       "      <td>2023-07-24 11:30:00</td>\n",
       "      <td>A</td>\n",
       "    </tr>\n",
       "    <tr>\n",
       "      <th>1</th>\n",
       "      <td>sat on the mat</td>\n",
       "      <td>2023-07-25 00:00:00</td>\n",
       "      <td>A</td>\n",
       "    </tr>\n",
       "    <tr>\n",
       "      <th>2</th>\n",
       "      <td>twinkle, twinkle</td>\n",
       "      <td>2023-07-26 00:00:00</td>\n",
       "      <td>B</td>\n",
       "    </tr>\n",
       "    <tr>\n",
       "      <th>3</th>\n",
       "      <td>little star</td>\n",
       "      <td>2023-07-27 00:00:00</td>\n",
       "      <td>B</td>\n",
       "    </tr>\n",
       "    <tr>\n",
       "      <th>4</th>\n",
       "      <td>how I wonder</td>\n",
       "      <td>2023-07-28 00:00:00</td>\n",
       "      <td>B</td>\n",
       "    </tr>\n",
       "    <tr>\n",
       "      <th>5</th>\n",
       "      <td>what you are</td>\n",
       "      <td>2023-07-29 00:00:00</td>\n",
       "      <td>B</td>\n",
       "    </tr>\n",
       "  </tbody>\n",
       "</table>\n",
       "</div>"
      ],
      "text/plain": [
       "              string            datetime category\n",
       "0  the fat black cat 2023-07-24 11:30:00        A\n",
       "1     sat on the mat 2023-07-25 00:00:00        A\n",
       "2   twinkle, twinkle 2023-07-26 00:00:00        B\n",
       "3        little star 2023-07-27 00:00:00        B\n",
       "4       how I wonder 2023-07-28 00:00:00        B\n",
       "5       what you are 2023-07-29 00:00:00        B"
      ]
     },
     "execution_count": 414,
     "metadata": {},
     "output_type": "execute_result"
    }
   ],
   "source": [
    "df3"
   ]
  },
  {
   "attachments": {},
   "cell_type": "markdown",
   "metadata": {},
   "source": [
    "The method ```to_excel``` allows the writing of multiple ```DataFrame``` instances to individual sheets within an Excel File:"
   ]
  },
  {
   "cell_type": "code",
   "execution_count": 415,
   "metadata": {},
   "outputs": [
    {
     "name": "stdout",
     "output_type": "stream",
     "text": [
      "\u001b[1;31mSignature:\u001b[0m\n",
      "\u001b[0mdf\u001b[0m\u001b[1;33m.\u001b[0m\u001b[0mto_excel\u001b[0m\u001b[1;33m(\u001b[0m\u001b[1;33m\n",
      "\u001b[0m    \u001b[0mexcel_writer\u001b[0m\u001b[1;33m:\u001b[0m \u001b[1;34m'FilePath | WriteExcelBuffer | ExcelWriter'\u001b[0m\u001b[1;33m,\u001b[0m\u001b[1;33m\n",
      "\u001b[0m    \u001b[0msheet_name\u001b[0m\u001b[1;33m:\u001b[0m \u001b[1;34m'str'\u001b[0m \u001b[1;33m=\u001b[0m \u001b[1;34m'Sheet1'\u001b[0m\u001b[1;33m,\u001b[0m\u001b[1;33m\n",
      "\u001b[0m    \u001b[0mna_rep\u001b[0m\u001b[1;33m:\u001b[0m \u001b[1;34m'str'\u001b[0m \u001b[1;33m=\u001b[0m \u001b[1;34m''\u001b[0m\u001b[1;33m,\u001b[0m\u001b[1;33m\n",
      "\u001b[0m    \u001b[0mfloat_format\u001b[0m\u001b[1;33m:\u001b[0m \u001b[1;34m'str | None'\u001b[0m \u001b[1;33m=\u001b[0m \u001b[1;32mNone\u001b[0m\u001b[1;33m,\u001b[0m\u001b[1;33m\n",
      "\u001b[0m    \u001b[0mcolumns\u001b[0m\u001b[1;33m:\u001b[0m \u001b[1;34m'Sequence[Hashable] | None'\u001b[0m \u001b[1;33m=\u001b[0m \u001b[1;32mNone\u001b[0m\u001b[1;33m,\u001b[0m\u001b[1;33m\n",
      "\u001b[0m    \u001b[0mheader\u001b[0m\u001b[1;33m:\u001b[0m \u001b[1;34m'Sequence[Hashable] | bool_t'\u001b[0m \u001b[1;33m=\u001b[0m \u001b[1;32mTrue\u001b[0m\u001b[1;33m,\u001b[0m\u001b[1;33m\n",
      "\u001b[0m    \u001b[0mindex\u001b[0m\u001b[1;33m:\u001b[0m \u001b[1;34m'bool_t'\u001b[0m \u001b[1;33m=\u001b[0m \u001b[1;32mTrue\u001b[0m\u001b[1;33m,\u001b[0m\u001b[1;33m\n",
      "\u001b[0m    \u001b[0mindex_label\u001b[0m\u001b[1;33m:\u001b[0m \u001b[1;34m'IndexLabel | None'\u001b[0m \u001b[1;33m=\u001b[0m \u001b[1;32mNone\u001b[0m\u001b[1;33m,\u001b[0m\u001b[1;33m\n",
      "\u001b[0m    \u001b[0mstartrow\u001b[0m\u001b[1;33m:\u001b[0m \u001b[1;34m'int'\u001b[0m \u001b[1;33m=\u001b[0m \u001b[1;36m0\u001b[0m\u001b[1;33m,\u001b[0m\u001b[1;33m\n",
      "\u001b[0m    \u001b[0mstartcol\u001b[0m\u001b[1;33m:\u001b[0m \u001b[1;34m'int'\u001b[0m \u001b[1;33m=\u001b[0m \u001b[1;36m0\u001b[0m\u001b[1;33m,\u001b[0m\u001b[1;33m\n",
      "\u001b[0m    \u001b[0mengine\u001b[0m\u001b[1;33m:\u001b[0m \u001b[1;34m\"Literal['openpyxl', 'xlsxwriter'] | None\"\u001b[0m \u001b[1;33m=\u001b[0m \u001b[1;32mNone\u001b[0m\u001b[1;33m,\u001b[0m\u001b[1;33m\n",
      "\u001b[0m    \u001b[0mmerge_cells\u001b[0m\u001b[1;33m:\u001b[0m \u001b[1;34m'bool_t'\u001b[0m \u001b[1;33m=\u001b[0m \u001b[1;32mTrue\u001b[0m\u001b[1;33m,\u001b[0m\u001b[1;33m\n",
      "\u001b[0m    \u001b[0minf_rep\u001b[0m\u001b[1;33m:\u001b[0m \u001b[1;34m'str'\u001b[0m \u001b[1;33m=\u001b[0m \u001b[1;34m'inf'\u001b[0m\u001b[1;33m,\u001b[0m\u001b[1;33m\n",
      "\u001b[0m    \u001b[0mfreeze_panes\u001b[0m\u001b[1;33m:\u001b[0m \u001b[1;34m'tuple[int, int] | None'\u001b[0m \u001b[1;33m=\u001b[0m \u001b[1;32mNone\u001b[0m\u001b[1;33m,\u001b[0m\u001b[1;33m\n",
      "\u001b[0m    \u001b[0mstorage_options\u001b[0m\u001b[1;33m:\u001b[0m \u001b[1;34m'StorageOptions | None'\u001b[0m \u001b[1;33m=\u001b[0m \u001b[1;32mNone\u001b[0m\u001b[1;33m,\u001b[0m\u001b[1;33m\n",
      "\u001b[0m    \u001b[0mengine_kwargs\u001b[0m\u001b[1;33m:\u001b[0m \u001b[1;34m'dict[str, Any] | None'\u001b[0m \u001b[1;33m=\u001b[0m \u001b[1;32mNone\u001b[0m\u001b[1;33m,\u001b[0m\u001b[1;33m\n",
      "\u001b[0m\u001b[1;33m)\u001b[0m \u001b[1;33m->\u001b[0m \u001b[1;34m'None'\u001b[0m\u001b[1;33m\u001b[0m\u001b[1;33m\u001b[0m\u001b[0m\n",
      "\u001b[1;31mDocstring:\u001b[0m\n",
      "Write object to an Excel sheet.\n",
      "\n",
      "To write a single object to an Excel .xlsx file it is only necessary to\n",
      "specify a target file name. To write to multiple sheets it is necessary to\n",
      "create an `ExcelWriter` object with a target file name, and specify a sheet\n",
      "in the file to write to.\n",
      "\n",
      "Multiple sheets may be written to by specifying unique `sheet_name`.\n",
      "With all data written to the file it is necessary to save the changes.\n",
      "Note that creating an `ExcelWriter` object with a file name that already\n",
      "exists will result in the contents of the existing file being erased.\n",
      "\n",
      "Parameters\n",
      "----------\n",
      "excel_writer : path-like, file-like, or ExcelWriter object\n",
      "    File path or existing ExcelWriter.\n",
      "sheet_name : str, default 'Sheet1'\n",
      "    Name of sheet which will contain DataFrame.\n",
      "na_rep : str, default ''\n",
      "    Missing data representation.\n",
      "float_format : str, optional\n",
      "    Format string for floating point numbers. For example\n",
      "    ``float_format=\"%.2f\"`` will format 0.1234 to 0.12.\n",
      "columns : sequence or list of str, optional\n",
      "    Columns to write.\n",
      "header : bool or list of str, default True\n",
      "    Write out the column names. If a list of string is given it is\n",
      "    assumed to be aliases for the column names.\n",
      "index : bool, default True\n",
      "    Write row names (index).\n",
      "index_label : str or sequence, optional\n",
      "    Column label for index column(s) if desired. If not specified, and\n",
      "    `header` and `index` are True, then the index names are used. A\n",
      "    sequence should be given if the DataFrame uses MultiIndex.\n",
      "startrow : int, default 0\n",
      "    Upper left cell row to dump data frame.\n",
      "startcol : int, default 0\n",
      "    Upper left cell column to dump data frame.\n",
      "engine : str, optional\n",
      "    Write engine to use, 'openpyxl' or 'xlsxwriter'. You can also set this\n",
      "    via the options ``io.excel.xlsx.writer`` or\n",
      "    ``io.excel.xlsm.writer``.\n",
      "\n",
      "merge_cells : bool, default True\n",
      "    Write MultiIndex and Hierarchical Rows as merged cells.\n",
      "inf_rep : str, default 'inf'\n",
      "    Representation for infinity (there is no native representation for\n",
      "    infinity in Excel).\n",
      "freeze_panes : tuple of int (length 2), optional\n",
      "    Specifies the one-based bottommost row and rightmost column that\n",
      "    is to be frozen.\n",
      "storage_options : dict, optional\n",
      "    Extra options that make sense for a particular storage connection, e.g.\n",
      "    host, port, username, password, etc. For HTTP(S) URLs the key-value pairs\n",
      "    are forwarded to ``urllib.request.Request`` as header options. For other\n",
      "    URLs (e.g. starting with \"s3://\", and \"gcs://\") the key-value pairs are\n",
      "    forwarded to ``fsspec.open``. Please see ``fsspec`` and ``urllib`` for more\n",
      "    details, and for more examples on storage options refer `here\n",
      "    <https://pandas.pydata.org/docs/user_guide/io.html?\n",
      "    highlight=storage_options#reading-writing-remote-files>`_.\n",
      "\n",
      "    .. versionadded:: 1.2.0\n",
      "engine_kwargs : dict, optional\n",
      "    Arbitrary keyword arguments passed to excel engine.\n",
      "\n",
      "See Also\n",
      "--------\n",
      "to_csv : Write DataFrame to a comma-separated values (csv) file.\n",
      "ExcelWriter : Class for writing DataFrame objects into excel sheets.\n",
      "read_excel : Read an Excel file into a pandas DataFrame.\n",
      "read_csv : Read a comma-separated values (csv) file into DataFrame.\n",
      "io.formats.style.Styler.to_excel : Add styles to Excel sheet.\n",
      "\n",
      "Notes\n",
      "-----\n",
      "For compatibility with :meth:`~DataFrame.to_csv`,\n",
      "to_excel serializes lists and dicts to strings before writing.\n",
      "\n",
      "Once a workbook has been saved it is not possible to write further\n",
      "data without rewriting the whole workbook.\n",
      "\n",
      "Examples\n",
      "--------\n",
      "\n",
      "Create, write to and save a workbook:\n",
      "\n",
      ">>> df1 = pd.DataFrame([['a', 'b'], ['c', 'd']],\n",
      "...                    index=['row 1', 'row 2'],\n",
      "...                    columns=['col 1', 'col 2'])\n",
      ">>> df1.to_excel(\"output.xlsx\")  # doctest: +SKIP\n",
      "\n",
      "To specify the sheet name:\n",
      "\n",
      ">>> df1.to_excel(\"output.xlsx\",\n",
      "...              sheet_name='Sheet_name_1')  # doctest: +SKIP\n",
      "\n",
      "If you wish to write to more than one sheet in the workbook, it is\n",
      "necessary to specify an ExcelWriter object:\n",
      "\n",
      ">>> df2 = df1.copy()\n",
      ">>> with pd.ExcelWriter('output.xlsx') as writer:  # doctest: +SKIP\n",
      "...     df1.to_excel(writer, sheet_name='Sheet_name_1')\n",
      "...     df2.to_excel(writer, sheet_name='Sheet_name_2')\n",
      "\n",
      "ExcelWriter can also be used to append to an existing Excel file:\n",
      "\n",
      ">>> with pd.ExcelWriter('output.xlsx',\n",
      "...                     mode='a') as writer:  # doctest: +SKIP\n",
      "...     df1.to_excel(writer, sheet_name='Sheet_name_3')\n",
      "\n",
      "To set the library that is used to write the Excel file,\n",
      "you can pass the `engine` keyword (the default engine is\n",
      "automatically chosen depending on the file extension):\n",
      "\n",
      ">>> df1.to_excel('output1.xlsx', engine='xlsxwriter')  # doctest: +SKIP\n",
      "\u001b[1;31mFile:\u001b[0m      c:\\users\\phili\\anaconda3\\envs\\vscode-env\\lib\\site-packages\\pandas\\core\\generic.py\n",
      "\u001b[1;31mType:\u001b[0m      method"
     ]
    }
   ],
   "source": [
    "df.to_excel?"
   ]
  },
  {
   "attachments": {},
   "cell_type": "markdown",
   "metadata": {},
   "source": [
    "To write ```DataFrame``` instances to multiple sheets an ```ExcelWriter``` instance has to be instantiated and given the instruction to create a blank Excel File:"
   ]
  },
  {
   "cell_type": "code",
   "execution_count": 416,
   "metadata": {},
   "outputs": [],
   "source": [
    "writer = pd.ExcelWriter(path=r'.\\files\\Book7.xlsx')"
   ]
  },
  {
   "attachments": {},
   "cell_type": "markdown",
   "metadata": {},
   "source": [
    "The ```DataFrame``` method ```to_excel``` can then be used to instruct the ```ExcelWriter``` instance to write the ```DataFrame``` instance to a specified sheet:"
   ]
  },
  {
   "cell_type": "code",
   "execution_count": 417,
   "metadata": {},
   "outputs": [],
   "source": [
    "df.to_excel(excel_writer=writer, sheet_name='df')\n",
    "df2.to_excel(excel_writer=writer, sheet_name='df2')\n",
    "df3.to_excel(excel_writer=writer, sheet_name='df3')"
   ]
  },
  {
   "attachments": {},
   "cell_type": "markdown",
   "metadata": {},
   "source": [
    "Details about the sheets being written can be seen using the ```ExcelWriter``` attribute ```sheets``` which is a mapping where the key is the sheet name and the value is the sheet being written:"
   ]
  },
  {
   "cell_type": "code",
   "execution_count": 418,
   "metadata": {},
   "outputs": [
    {
     "data": {
      "text/plain": [
       "{'df': <xlsxwriter.worksheet.Worksheet at 0x218bb2a9160>,\n",
       " 'df2': <xlsxwriter.worksheet.Worksheet at 0x218bb3c4290>,\n",
       " 'df3': <xlsxwriter.worksheet.Worksheet at 0x218b87450d0>}"
      ]
     },
     "execution_count": 418,
     "metadata": {},
     "output_type": "execute_result"
    }
   ],
   "source": [
    "writer.sheets"
   ]
  },
  {
   "attachments": {},
   "cell_type": "markdown",
   "metadata": {},
   "source": [
    "Finally the ```ExcelWriter``` instance can be closed. This will release the Excel SpreadSheet from Python:"
   ]
  },
  {
   "cell_type": "code",
   "execution_count": 419,
   "metadata": {},
   "outputs": [],
   "source": [
    "writer.close()"
   ]
  },
  {
   "attachments": {},
   "cell_type": "markdown",
   "metadata": {},
   "source": [
    "<img src='./images/img_008.png' alt='img_008' width='800'/>\n",
    "\n",
    "<img src='./images/img_009.png' alt='img_009' width='800'/>\n",
    "\n",
    "<img src='./images/img_010.png' alt='img_010' width='800'/>"
   ]
  },
  {
   "attachments": {},
   "cell_type": "markdown",
   "metadata": {},
   "source": [
    "The identifiers of the ```ExcelWriter``` class can be examined:"
   ]
  },
  {
   "cell_type": "code",
   "execution_count": 420,
   "metadata": {},
   "outputs": [
    {
     "name": "stdout",
     "output_type": "stream",
     "text": [
      "datamodel attribute: ['__abstractmethods__', '__annotations__', '__dict__', '__doc__', '__module__', '__orig_bases__', '__parameters__', '__weakref__']\n",
      "datamodel method: ['__class__', '__class_getitem__', '__delattr__', '__dir__', '__enter__', '__eq__', '__exit__', '__format__', '__fspath__', '__ge__', '__getattribute__', '__getstate__', '__gt__', '__hash__', '__init__', '__init_subclass__', '__le__', '__lt__', '__ne__', '__new__', '__reduce__', '__reduce_ex__', '__repr__', '__setattr__', '__sizeof__', '__str__', '__subclasshook__']\n",
      "attribute: ['book', 'date_format', 'datetime_format', 'engine', 'if_sheet_exists', 'sheets', 'supported_extensions']\n",
      "method: ['check_extension', 'close']\n"
     ]
    }
   ],
   "source": [
    "print('datamodel attribute:', end=' ')\n",
    "print_identifier_group(pd.ExcelWriter, kind='datamodel_attribute')\n",
    "print('datamodel method:', end=' ')\n",
    "print_identifier_group(pd.ExcelWriter, kind='datamodel_method')\n",
    "print('attribute:', end=' ')\n",
    "print_identifier_group(pd.ExcelWriter, kind='attribute')\n",
    "print('method:', end=' ')\n",
    "print_identifier_group(pd.ExcelWriter, kind='function')"
   ]
  },
  {
   "cell_type": "markdown",
   "metadata": {},
   "source": [
    "Notice it has the datamodel identifiers ```__enter__``` and ```__exit__``` which means it can be used within a ```with``` code block. The ```with``` code block will automatically close the ```ExcelWriter``` class when the block ends and is the safest to create the file, write multiple sheets to it and close the file::"
   ]
  },
  {
   "cell_type": "code",
   "execution_count": 421,
   "metadata": {},
   "outputs": [],
   "source": [
    "with pd.ExcelWriter(r'.\\files\\Book8.xlsx') as writer:  \n",
    "    df.to_excel(writer, sheet_name='df1', index=False)\n",
    "    df2.to_excel(writer, sheet_name='df2', index=False)\n",
    "    df3.to_excel(writer, sheet_name='df3', index=False)"
   ]
  },
  {
   "attachments": {},
   "cell_type": "markdown",
   "metadata": {},
   "source": [
    "<img src='./images/img_011.png' alt='img_011' width='800'/>\n",
    "\n",
    "<img src='./images/img_012.png' alt='img_012' width='800'/>\n",
    "\n",
    "<img src='./images/img_013.png' alt='img_013' width='800'/>"
   ]
  }
 ],
 "metadata": {
  "kernelspec": {
   "display_name": "jupyterlab",
   "language": "python",
   "name": "python3"
  },
  "language_info": {
   "codemirror_mode": {
    "name": "ipython",
    "version": 3
   },
   "file_extension": ".py",
   "mimetype": "text/x-python",
   "name": "python",
   "nbconvert_exporter": "python",
   "pygments_lexer": "ipython3",
   "version": "3.12.1"
  },
  "orig_nbformat": 4,
  "vscode": {
   "interpreter": {
    "hash": "4648373dafda34926c036cc9e466ef2f8d360789320441bb704a9be21d427d2a"
   }
  }
 },
 "nbformat": 4,
 "nbformat_minor": 2
}
