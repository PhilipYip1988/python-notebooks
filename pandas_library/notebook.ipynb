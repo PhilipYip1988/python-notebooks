{
 "cells": [
  {
   "attachments": {},
   "cell_type": "markdown",
   "metadata": {},
   "source": [
    "# Pandas Library"
   ]
  },
  {
   "attachments": {},
   "cell_type": "markdown",
   "metadata": {},
   "source": [
    "pandas is an abbreviation for the **P**ython **an**d **D**ata **A**naly**s**is Library. It is a library that uses three main data structures:\n",
    "\n",
    "* the Index class\n",
    "* the Series class\n",
    "* the DataFrame class"
   ]
  },
  {
   "attachments": {},
   "cell_type": "markdown",
   "metadata": {},
   "source": [
    "Most Index classes are numeric, that is zero-order integer steps of one."
   ]
  },
  {
   "attachments": {},
   "cell_type": "markdown",
   "metadata": {},
   "source": [
    "The Index, similar to a tuple, list or 1darray has a single dimension which can be represented either as a row:\n",
    "\n",
    "|index|0|1|2|3|\n",
    "|---|---|---|---|---|\n",
    "\n",
    "Or as a column when convenient:\n",
    "\n",
    "|index|\n",
    "|---|\n",
    "|0|\n",
    "|1|\n",
    "|2|\n",
    "|3|\n"
   ]
  },
  {
   "attachments": {},
   "cell_type": "markdown",
   "metadata": {},
   "source": [
    "The Series class has a value at each index and a name. It is essentially a numpy 1darray that has a name. A Series is normally represented as a column (notice the Index associated with the Series is also displayed as a column):"
   ]
  },
  {
   "attachments": {},
   "cell_type": "markdown",
   "metadata": {},
   "source": [
    "|index|'x'|\n",
    "|---|---|\n",
    "|0|1.1|\n",
    "|1|2.1|\n",
    "|2|3.1|\n",
    "|3|4.1|"
   ]
  },
  {
   "attachments": {},
   "cell_type": "markdown",
   "metadata": {},
   "source": [
    "A DataFrame class is essentially a grouping of series instances that have the same index:"
   ]
  },
  {
   "attachments": {},
   "cell_type": "markdown",
   "metadata": {},
   "source": [
    "|index|'x'|'y'|\n",
    "|---|---|---|\n",
    "|0|1.1|1.2|\n",
    "|1|2.1|2.2|\n",
    "|2|3.1|3.2|\n",
    "|3|4.1|4.2|"
   ]
  },
  {
   "cell_type": "markdown",
   "metadata": {},
   "source": [
    "## Categorize_Identifiers Module"
   ]
  },
  {
   "cell_type": "markdown",
   "metadata": {},
   "source": [
    "This notebook will use the following functions ```dir2```, ```variables``` and ```view``` in the custom module ```categorize_identifiers``` which is found in the same directory as this notebook file. ```dir2``` is a variant of ```dir``` that groups identifiers into a ```dict``` under categories and ```variables``` is an IPython based a variable inspector. ```view``` is used to view a ```Collection``` in more detail:"
   ]
  },
  {
   "cell_type": "code",
   "execution_count": 1,
   "metadata": {},
   "outputs": [],
   "source": [
    "from categorize_identifiers import dir2, variables, view"
   ]
  },
  {
   "attachments": {},
   "cell_type": "markdown",
   "metadata": {},
   "source": [
    "## Importing Libraries"
   ]
  },
  {
   "attachments": {},
   "cell_type": "markdown",
   "metadata": {},
   "source": [
    "To use the data science libraries they need to be imported:"
   ]
  },
  {
   "cell_type": "code",
   "execution_count": 2,
   "metadata": {},
   "outputs": [],
   "source": [
    "import numpy as np \n",
    "import pandas as pd"
   ]
  },
  {
   "attachments": {},
   "cell_type": "markdown",
   "metadata": {},
   "source": [
    "Once imported the identifiers can be viewed:"
   ]
  },
  {
   "cell_type": "code",
   "execution_count": 3,
   "metadata": {
    "scrolled": true
   },
   "outputs": [
    {
     "name": "stdout",
     "output_type": "stream",
     "text": [
      "{'attribute': ['annotations', 'options'],\n",
      " 'constant': ['IndexSlice', 'NA', 'NaT'],\n",
      " 'module': ['api',\n",
      "            'arrays',\n",
      "            'compat',\n",
      "            'core',\n",
      "            'errors',\n",
      "            'io',\n",
      "            'offsets',\n",
      "            'pandas',\n",
      "            'plotting',\n",
      "            'testing',\n",
      "            'tseries',\n",
      "            'util'],\n",
      " 'method': ['array',\n",
      "            'bdate_range',\n",
      "            'concat',\n",
      "            'crosstab',\n",
      "            'cut',\n",
      "            'date_range',\n",
      "            'describe_option',\n",
      "            'eval',\n",
      "            'factorize',\n",
      "            'from_dummies',\n",
      "            'get_dummies',\n",
      "            'get_option',\n",
      "            'infer_freq',\n",
      "            'interval_range',\n",
      "            'isna',\n",
      "            'isnull',\n",
      "            'json_normalize',\n",
      "            'lreshape',\n",
      "            'melt',\n",
      "            'merge',\n",
      "            'merge_asof',\n",
      "            'merge_ordered',\n",
      "            'notna',\n",
      "            'notnull',\n",
      "            'period_range',\n",
      "            'pivot',\n",
      "            'pivot_table',\n",
      "            'qcut',\n",
      "            'read_clipboard',\n",
      "            'read_csv',\n",
      "            'read_excel',\n",
      "            'read_feather',\n",
      "            'read_fwf',\n",
      "            'read_gbq',\n",
      "            'read_hdf',\n",
      "            'read_html',\n",
      "            'read_json',\n",
      "            'read_orc',\n",
      "            'read_parquet',\n",
      "            'read_pickle',\n",
      "            'read_sas',\n",
      "            'read_spss',\n",
      "            'read_sql',\n",
      "            'read_sql_query',\n",
      "            'read_sql_table',\n",
      "            'read_stata',\n",
      "            'read_table',\n",
      "            'read_xml',\n",
      "            'reset_option',\n",
      "            'set_eng_float_format',\n",
      "            'set_option',\n",
      "            'show_versions',\n",
      "            'test',\n",
      "            'timedelta_range',\n",
      "            'to_datetime',\n",
      "            'to_numeric',\n",
      "            'to_pickle',\n",
      "            'to_timedelta',\n",
      "            'unique',\n",
      "            'value_counts',\n",
      "            'wide_to_long'],\n",
      " 'lower_class': ['option_context'],\n",
      " 'upper_class': ['ArrowDtype',\n",
      "                 'BooleanDtype',\n",
      "                 'Categorical',\n",
      "                 'CategoricalDtype',\n",
      "                 'CategoricalIndex',\n",
      "                 'DataFrame',\n",
      "                 'DateOffset',\n",
      "                 'DatetimeIndex',\n",
      "                 'DatetimeTZDtype',\n",
      "                 'ExcelFile',\n",
      "                 'ExcelWriter',\n",
      "                 'Flags',\n",
      "                 'Float32Dtype',\n",
      "                 'Float64Dtype',\n",
      "                 'Grouper',\n",
      "                 'HDFStore',\n",
      "                 'Index',\n",
      "                 'Int16Dtype',\n",
      "                 'Int32Dtype',\n",
      "                 'Int64Dtype',\n",
      "                 'Int8Dtype',\n",
      "                 'Interval',\n",
      "                 'IntervalDtype',\n",
      "                 'IntervalIndex',\n",
      "                 'MultiIndex',\n",
      "                 'NamedAgg',\n",
      "                 'Period',\n",
      "                 'PeriodDtype',\n",
      "                 'PeriodIndex',\n",
      "                 'RangeIndex',\n",
      "                 'Series',\n",
      "                 'SparseDtype',\n",
      "                 'StringDtype',\n",
      "                 'Timedelta',\n",
      "                 'TimedeltaIndex',\n",
      "                 'Timestamp',\n",
      "                 'UInt16Dtype',\n",
      "                 'UInt32Dtype',\n",
      "                 'UInt64Dtype',\n",
      "                 'UInt8Dtype'],\n",
      " 'datamodel_attribute': ['__all__',\n",
      "                         '__builtins__',\n",
      "                         '__cached__',\n",
      "                         '__doc__',\n",
      "                         '__docformat__',\n",
      "                         '__file__',\n",
      "                         '__git_version__',\n",
      "                         '__loader__',\n",
      "                         '__name__',\n",
      "                         '__package__',\n",
      "                         '__path__',\n",
      "                         '__spec__',\n",
      "                         '__version__'],\n",
      " 'internal_attribute': ['_built_with_meson',\n",
      "                        '_config',\n",
      "                        '_is_numpy_dev',\n",
      "                        '_libs',\n",
      "                        '_pandas_datetime_CAPI',\n",
      "                        '_pandas_parser_CAPI',\n",
      "                        '_testing',\n",
      "                        '_typing',\n",
      "                        '_version_meson']}\n"
     ]
    }
   ],
   "source": [
    "dir2(pd, exclude_external_modules=True)"
   ]
  },
  {
   "cell_type": "markdown",
   "metadata": {},
   "source": [
    "In general ```pd``` uses object orientated programming (OOP) opposed to functional programming. Most of the functions within ```pd``` are used to read in data from a file and output a ```pd.DataFrame``` instance."
   ]
  },
  {
   "attachments": {},
   "cell_type": "markdown",
   "metadata": {},
   "source": [
    "The classes are all in PascalCase. The main classes are:\n",
    "\n",
    "* Index\n",
    "* Series\n",
    "* DataFrame\n",
    " \n",
    "There are some variations of Index such as RangeIndex, MultiIndex, DateIndex and TimedeltaIndex. \n",
    "\n",
    "The OOP approach means methods are normally called from instances to analyse or manipulate data from the instance. The identifiers for the main three classes can be examined."
   ]
  },
  {
   "cell_type": "code",
   "execution_count": null,
   "metadata": {},
   "outputs": [],
   "source": []
  },
  {
   "cell_type": "code",
   "execution_count": 4,
   "metadata": {
    "scrolled": true
   },
   "outputs": [
    {
     "name": "stdout",
     "output_type": "stream",
     "text": [
      "{'attribute': ['array',\n",
      "               'dtype',\n",
      "               'empty',\n",
      "               'has_duplicates',\n",
      "               'hasnans',\n",
      "               'inferred_type',\n",
      "               'is_monotonic_decreasing',\n",
      "               'is_monotonic_increasing',\n",
      "               'is_unique',\n",
      "               'name',\n",
      "               'names',\n",
      "               'nbytes',\n",
      "               'ndim',\n",
      "               'nlevels',\n",
      "               'shape',\n",
      "               'size',\n",
      "               'values'],\n",
      " 'constant': ['T'],\n",
      " 'method': ['all',\n",
      "            'any',\n",
      "            'append',\n",
      "            'argmax',\n",
      "            'argmin',\n",
      "            'argsort',\n",
      "            'asof',\n",
      "            'asof_locs',\n",
      "            'astype',\n",
      "            'copy',\n",
      "            'delete',\n",
      "            'diff',\n",
      "            'difference',\n",
      "            'drop',\n",
      "            'drop_duplicates',\n",
      "            'droplevel',\n",
      "            'dropna',\n",
      "            'duplicated',\n",
      "            'equals',\n",
      "            'factorize',\n",
      "            'fillna',\n",
      "            'format',\n",
      "            'get_indexer',\n",
      "            'get_indexer_for',\n",
      "            'get_indexer_non_unique',\n",
      "            'get_level_values',\n",
      "            'get_loc',\n",
      "            'get_slice_bound',\n",
      "            'groupby',\n",
      "            'holds_integer',\n",
      "            'identical',\n",
      "            'infer_objects',\n",
      "            'insert',\n",
      "            'intersection',\n",
      "            'is_',\n",
      "            'is_boolean',\n",
      "            'is_categorical',\n",
      "            'is_floating',\n",
      "            'is_integer',\n",
      "            'is_interval',\n",
      "            'is_numeric',\n",
      "            'is_object',\n",
      "            'isin',\n",
      "            'isna',\n",
      "            'isnull',\n",
      "            'item',\n",
      "            'join',\n",
      "            'map',\n",
      "            'max',\n",
      "            'memory_usage',\n",
      "            'min',\n",
      "            'notna',\n",
      "            'notnull',\n",
      "            'nunique',\n",
      "            'putmask',\n",
      "            'ravel',\n",
      "            'reindex',\n",
      "            'rename',\n",
      "            'repeat',\n",
      "            'round',\n",
      "            'searchsorted',\n",
      "            'set_names',\n",
      "            'shift',\n",
      "            'slice_indexer',\n",
      "            'slice_locs',\n",
      "            'sort',\n",
      "            'sort_values',\n",
      "            'sortlevel',\n",
      "            'symmetric_difference',\n",
      "            'take',\n",
      "            'to_flat_index',\n",
      "            'to_frame',\n",
      "            'to_list',\n",
      "            'to_numpy',\n",
      "            'to_series',\n",
      "            'tolist',\n",
      "            'transpose',\n",
      "            'union',\n",
      "            'unique',\n",
      "            'value_counts',\n",
      "            'view',\n",
      "            'where'],\n",
      " 'lower_class': ['str'],\n",
      " 'datamodel_attribute': ['__annotations__',\n",
      "                         '__array_priority__',\n",
      "                         '__dict__',\n",
      "                         '__doc__',\n",
      "                         '__hash__',\n",
      "                         '__module__',\n",
      "                         '__pandas_priority__',\n",
      "                         '__weakref__'],\n",
      " 'datamodel_method': ['__abs__',\n",
      "                      '__add__',\n",
      "                      '__and__',\n",
      "                      '__array__',\n",
      "                      '__array_ufunc__',\n",
      "                      '__array_wrap__',\n",
      "                      '__bool__',\n",
      "                      '__class__',\n",
      "                      '__contains__',\n",
      "                      '__copy__',\n",
      "                      '__deepcopy__',\n",
      "                      '__delattr__',\n",
      "                      '__dir__',\n",
      "                      '__divmod__',\n",
      "                      '__eq__',\n",
      "                      '__floordiv__',\n",
      "                      '__format__',\n",
      "                      '__ge__',\n",
      "                      '__getattribute__',\n",
      "                      '__getitem__',\n",
      "                      '__getstate__',\n",
      "                      '__gt__',\n",
      "                      '__iadd__',\n",
      "                      '__init__',\n",
      "                      '__init_subclass__',\n",
      "                      '__invert__',\n",
      "                      '__iter__',\n",
      "                      '__le__',\n",
      "                      '__len__',\n",
      "                      '__lt__',\n",
      "                      '__mod__',\n",
      "                      '__mul__',\n",
      "                      '__ne__',\n",
      "                      '__neg__',\n",
      "                      '__new__',\n",
      "                      '__nonzero__',\n",
      "                      '__or__',\n",
      "                      '__pos__',\n",
      "                      '__pow__',\n",
      "                      '__radd__',\n",
      "                      '__rand__',\n",
      "                      '__rdivmod__',\n",
      "                      '__reduce__',\n",
      "                      '__reduce_ex__',\n",
      "                      '__repr__',\n",
      "                      '__rfloordiv__',\n",
      "                      '__rmod__',\n",
      "                      '__rmul__',\n",
      "                      '__ror__',\n",
      "                      '__rpow__',\n",
      "                      '__rsub__',\n",
      "                      '__rtruediv__',\n",
      "                      '__rxor__',\n",
      "                      '__setattr__',\n",
      "                      '__setitem__',\n",
      "                      '__sizeof__',\n",
      "                      '__str__',\n",
      "                      '__sub__',\n",
      "                      '__subclasshook__',\n",
      "                      '__truediv__',\n",
      "                      '__xor__'],\n",
      " 'internal_attribute': ['_accessors',\n",
      "                        '_attributes',\n",
      "                        '_can_hold_na',\n",
      "                        '_can_hold_strings',\n",
      "                        '_can_use_libjoin',\n",
      "                        '_comparables',\n",
      "                        '_constructor',\n",
      "                        '_data_cls',\n",
      "                        '_default_na_rep',\n",
      "                        '_dir_additions_for_owner',\n",
      "                        '_engine',\n",
      "                        '_engine_type',\n",
      "                        '_engine_types',\n",
      "                        '_formatter_func',\n",
      "                        '_hidden_attrs',\n",
      "                        '_id',\n",
      "                        '_index_as_unique',\n",
      "                        '_is_all_dates',\n",
      "                        '_is_multi',\n",
      "                        '_is_strictly_monotonic_decreasing',\n",
      "                        '_is_strictly_monotonic_increasing',\n",
      "                        '_isnan',\n",
      "                        '_na_value',\n",
      "                        '_name',\n",
      "                        '_no_setting_name',\n",
      "                        '_references',\n",
      "                        '_requires_unique_msg',\n",
      "                        '_should_fallback_to_positional',\n",
      "                        '_supports_partial_string_indexing',\n",
      "                        '_typ',\n",
      "                        '_values'],\n",
      " 'internal_method': ['_arith_method',\n",
      "                     '_assert_can_do_setop',\n",
      "                     '_can_hold_identifiers_and_holds_name',\n",
      "                     '_check_indexing_error',\n",
      "                     '_check_indexing_method',\n",
      "                     '_cleanup',\n",
      "                     '_cmp_method',\n",
      "                     '_concat',\n",
      "                     '_construct_result',\n",
      "                     '_convert_can_do_setop',\n",
      "                     '_convert_slice_indexer',\n",
      "                     '_convert_tolerance',\n",
      "                     '_difference',\n",
      "                     '_difference_compat',\n",
      "                     '_dir_additions',\n",
      "                     '_dir_deletions',\n",
      "                     '_drop_level_numbers',\n",
      "                     '_dti_setop_align_tzs',\n",
      "                     '_dtype_to_subclass',\n",
      "                     '_duplicated',\n",
      "                     '_ensure_array',\n",
      "                     '_filter_indexer_tolerance',\n",
      "                     '_find_common_type_compat',\n",
      "                     '_format_attrs',\n",
      "                     '_format_data',\n",
      "                     '_format_duplicate_message',\n",
      "                     '_format_flat',\n",
      "                     '_format_with_header',\n",
      "                     '_from_join_target',\n",
      "                     '_get_default_index_names',\n",
      "                     '_get_engine_target',\n",
      "                     '_get_fill_indexer',\n",
      "                     '_get_fill_indexer_searchsorted',\n",
      "                     '_get_indexer',\n",
      "                     '_get_indexer_non_comparable',\n",
      "                     '_get_indexer_strict',\n",
      "                     '_get_join_target',\n",
      "                     '_get_level_names',\n",
      "                     '_get_level_number',\n",
      "                     '_get_level_values',\n",
      "                     '_get_names',\n",
      "                     '_get_nearest_indexer',\n",
      "                     '_get_reconciled_name_object',\n",
      "                     '_get_string_slice',\n",
      "                     '_get_values_for_csv',\n",
      "                     '_getitem_slice',\n",
      "                     '_holds_integer',\n",
      "                     '_inner_indexer',\n",
      "                     '_intersection',\n",
      "                     '_intersection_via_get_indexer',\n",
      "                     '_is_comparable_dtype',\n",
      "                     '_is_memory_usage_qualified',\n",
      "                     '_join_level',\n",
      "                     '_join_monotonic',\n",
      "                     '_join_multi',\n",
      "                     '_join_non_unique',\n",
      "                     '_join_via_get_indexer',\n",
      "                     '_left_indexer',\n",
      "                     '_left_indexer_unique',\n",
      "                     '_logical_method',\n",
      "                     '_map_values',\n",
      "                     '_maybe_cast_indexer',\n",
      "                     '_maybe_cast_listlike_indexer',\n",
      "                     '_maybe_cast_slice_bound',\n",
      "                     '_maybe_check_unique',\n",
      "                     '_maybe_disable_logical_methods',\n",
      "                     '_maybe_disallow_fill',\n",
      "                     '_maybe_downcast_for_indexing',\n",
      "                     '_maybe_preserve_names',\n",
      "                     '_memory_usage',\n",
      "                     '_mpl_repr',\n",
      "                     '_outer_indexer',\n",
      "                     '_raise_if_missing',\n",
      "                     '_raise_invalid_indexer',\n",
      "                     '_raise_scalar_data_error',\n",
      "                     '_reindex_non_unique',\n",
      "                     '_rename',\n",
      "                     '_reset_cache',\n",
      "                     '_reset_identity',\n",
      "                     '_searchsorted_monotonic',\n",
      "                     '_set_names',\n",
      "                     '_shallow_copy',\n",
      "                     '_should_compare',\n",
      "                     '_should_partial_index',\n",
      "                     '_simple_new',\n",
      "                     '_sort_levels_monotonic',\n",
      "                     '_summary',\n",
      "                     '_transform_index',\n",
      "                     '_unary_method',\n",
      "                     '_union',\n",
      "                     '_validate_can_reindex',\n",
      "                     '_validate_fill_value',\n",
      "                     '_validate_index_level',\n",
      "                     '_validate_indexer',\n",
      "                     '_validate_names',\n",
      "                     '_validate_positional_slice',\n",
      "                     '_validate_sort_keyword',\n",
      "                     '_view',\n",
      "                     '_with_infer',\n",
      "                     '_wrap_difference_result',\n",
      "                     '_wrap_intersection_result',\n",
      "                     '_wrap_joined_index',\n",
      "                     '_wrap_reindex_result',\n",
      "                     '_wrap_setop_result']}\n"
     ]
    }
   ],
   "source": [
    "dir2(pd.Index, exclude_external_modules=True)"
   ]
  },
  {
   "cell_type": "code",
   "execution_count": null,
   "metadata": {
    "scrolled": true
   },
   "outputs": [],
   "source": []
  },
  {
   "cell_type": "code",
   "execution_count": 9,
   "metadata": {
    "scrolled": true
   },
   "outputs": [
    {
     "name": "stdout",
     "output_type": "stream",
     "text": [
      "{'attribute': ['at',\n",
      "               'attrs',\n",
      "               'axes',\n",
      "               'dtypes',\n",
      "               'flags',\n",
      "               'iat',\n",
      "               'iloc',\n",
      "               'index',\n",
      "               'loc'],\n",
      " 'method': ['abs',\n",
      "            'add',\n",
      "            'add_prefix',\n",
      "            'add_suffix',\n",
      "            'agg',\n",
      "            'aggregate',\n",
      "            'align',\n",
      "            'apply',\n",
      "            'asfreq',\n",
      "            'at_time',\n",
      "            'autocorr',\n",
      "            'backfill',\n",
      "            'between',\n",
      "            'between_time',\n",
      "            'bfill',\n",
      "            'bool',\n",
      "            'case_when',\n",
      "            'clip',\n",
      "            'combine',\n",
      "            'combine_first',\n",
      "            'compare',\n",
      "            'convert_dtypes',\n",
      "            'corr',\n",
      "            'count',\n",
      "            'cov',\n",
      "            'cummax',\n",
      "            'cummin',\n",
      "            'cumprod',\n",
      "            'cumsum',\n",
      "            'describe',\n",
      "            'div',\n",
      "            'divide',\n",
      "            'divmod',\n",
      "            'dot',\n",
      "            'eq',\n",
      "            'ewm',\n",
      "            'expanding',\n",
      "            'explode',\n",
      "            'ffill',\n",
      "            'filter',\n",
      "            'first',\n",
      "            'first_valid_index',\n",
      "            'floordiv',\n",
      "            'ge',\n",
      "            'get',\n",
      "            'gt',\n",
      "            'head',\n",
      "            'hist',\n",
      "            'idxmax',\n",
      "            'idxmin',\n",
      "            'info',\n",
      "            'interpolate',\n",
      "            'items',\n",
      "            'keys',\n",
      "            'kurt',\n",
      "            'kurtosis',\n",
      "            'last',\n",
      "            'last_valid_index',\n",
      "            'le',\n",
      "            'lt',\n",
      "            'mask',\n",
      "            'mean',\n",
      "            'median',\n",
      "            'mod',\n",
      "            'mode',\n",
      "            'mul',\n",
      "            'multiply',\n",
      "            'ne',\n",
      "            'nlargest',\n",
      "            'nsmallest',\n",
      "            'pad',\n",
      "            'pct_change',\n",
      "            'pipe',\n",
      "            'pop',\n",
      "            'pow',\n",
      "            'prod',\n",
      "            'product',\n",
      "            'quantile',\n",
      "            'radd',\n",
      "            'rank',\n",
      "            'rdiv',\n",
      "            'rdivmod',\n",
      "            'reindex_like',\n",
      "            'rename_axis',\n",
      "            'reorder_levels',\n",
      "            'replace',\n",
      "            'resample',\n",
      "            'reset_index',\n",
      "            'rfloordiv',\n",
      "            'rmod',\n",
      "            'rmul',\n",
      "            'rolling',\n",
      "            'rpow',\n",
      "            'rsub',\n",
      "            'rtruediv',\n",
      "            'sample',\n",
      "            'sem',\n",
      "            'set_axis',\n",
      "            'set_flags',\n",
      "            'skew',\n",
      "            'sort_index',\n",
      "            'squeeze',\n",
      "            'std',\n",
      "            'sub',\n",
      "            'subtract',\n",
      "            'sum',\n",
      "            'swapaxes',\n",
      "            'swaplevel',\n",
      "            'tail',\n",
      "            'to_clipboard',\n",
      "            'to_csv',\n",
      "            'to_dict',\n",
      "            'to_excel',\n",
      "            'to_hdf',\n",
      "            'to_json',\n",
      "            'to_latex',\n",
      "            'to_markdown',\n",
      "            'to_period',\n",
      "            'to_pickle',\n",
      "            'to_sql',\n",
      "            'to_string',\n",
      "            'to_timestamp',\n",
      "            'to_xarray',\n",
      "            'transform',\n",
      "            'truediv',\n",
      "            'truncate',\n",
      "            'tz_convert',\n",
      "            'tz_localize',\n",
      "            'unstack',\n",
      "            'update',\n",
      "            'var',\n",
      "            'xs'],\n",
      " 'lower_class': ['cat', 'dt', 'list', 'plot', 'sparse', 'struct'],\n",
      " 'datamodel_method': ['__column_consortium_standard__',\n",
      "                      '__delitem__',\n",
      "                      '__finalize__',\n",
      "                      '__float__',\n",
      "                      '__getattr__',\n",
      "                      '__iand__',\n",
      "                      '__ifloordiv__',\n",
      "                      '__imod__',\n",
      "                      '__imul__',\n",
      "                      '__int__',\n",
      "                      '__ior__',\n",
      "                      '__ipow__',\n",
      "                      '__isub__',\n",
      "                      '__itruediv__',\n",
      "                      '__ixor__',\n",
      "                      '__matmul__',\n",
      "                      '__rmatmul__',\n",
      "                      '__round__',\n",
      "                      '__setstate__'],\n",
      " 'internal_attribute': ['_AXIS_LEN',\n",
      "                        '_AXIS_ORDERS',\n",
      "                        '_AXIS_TO_AXIS_NUMBER',\n",
      "                        '_HANDLED_TYPES',\n",
      "                        '_agg_examples_doc',\n",
      "                        '_agg_see_also_doc',\n",
      "                        '_constructor_expanddim',\n",
      "                        '_data',\n",
      "                        '_info_axis',\n",
      "                        '_info_axis_name',\n",
      "                        '_info_axis_number',\n",
      "                        '_internal_names',\n",
      "                        '_internal_names_set',\n",
      "                        '_is_cached',\n",
      "                        '_is_copy',\n",
      "                        '_is_mixed_type',\n",
      "                        '_is_view',\n",
      "                        '_metadata'],\n",
      " 'internal_method': ['_accum_func',\n",
      "                     '_align_for_op',\n",
      "                     '_align_frame',\n",
      "                     '_align_series',\n",
      "                     '_append',\n",
      "                     '_as_manager',\n",
      "                     '_binop',\n",
      "                     '_check_inplace_and_allows_duplicate_labels',\n",
      "                     '_check_is_chained_assignment_possible',\n",
      "                     '_check_label_or_level_ambiguity',\n",
      "                     '_check_setitem_copy',\n",
      "                     '_clear_item_cache',\n",
      "                     '_clip_with_one_bound',\n",
      "                     '_clip_with_scalar',\n",
      "                     '_consolidate',\n",
      "                     '_consolidate_inplace',\n",
      "                     '_construct_axes_dict',\n",
      "                     '_constructor_expanddim_from_mgr',\n",
      "                     '_constructor_from_mgr',\n",
      "                     '_deprecate_downcast',\n",
      "                     '_drop_axis',\n",
      "                     '_drop_labels_or_levels',\n",
      "                     '_expanddim_from_mgr',\n",
      "                     '_find_valid_index',\n",
      "                     '_flex_method',\n",
      "                     '_from_mgr',\n",
      "                     '_get_axis',\n",
      "                     '_get_axis_name',\n",
      "                     '_get_axis_number',\n",
      "                     '_get_axis_resolvers',\n",
      "                     '_get_block_manager_axis',\n",
      "                     '_get_bool_data',\n",
      "                     '_get_cacher',\n",
      "                     '_get_cleaned_column_resolvers',\n",
      "                     '_get_index_resolvers',\n",
      "                     '_get_label_or_level_values',\n",
      "                     '_get_numeric_data',\n",
      "                     '_get_rows_with_mask',\n",
      "                     '_get_value',\n",
      "                     '_get_values_tuple',\n",
      "                     '_get_with',\n",
      "                     '_gotitem',\n",
      "                     '_indexed_same',\n",
      "                     '_init_dict',\n",
      "                     '_init_mgr',\n",
      "                     '_inplace_method',\n",
      "                     '_is_label_or_level_reference',\n",
      "                     '_is_label_reference',\n",
      "                     '_is_level_reference',\n",
      "                     '_is_view_after_cow_rules',\n",
      "                     '_ixs',\n",
      "                     '_logical_func',\n",
      "                     '_maybe_update_cacher',\n",
      "                     '_min_count_stat_function',\n",
      "                     '_needs_reindex_multi',\n",
      "                     '_pad_or_backfill',\n",
      "                     '_protect_consolidate',\n",
      "                     '_reduce',\n",
      "                     '_reindex_axes',\n",
      "                     '_reindex_indexer',\n",
      "                     '_reindex_multi',\n",
      "                     '_reindex_with_indexers',\n",
      "                     '_replace_single',\n",
      "                     '_repr_data_resource_',\n",
      "                     '_repr_latex_',\n",
      "                     '_reset_cacher',\n",
      "                     '_set_as_cached',\n",
      "                     '_set_axis',\n",
      "                     '_set_axis_name',\n",
      "                     '_set_axis_nocheck',\n",
      "                     '_set_is_copy',\n",
      "                     '_set_labels',\n",
      "                     '_set_name',\n",
      "                     '_set_value',\n",
      "                     '_set_values',\n",
      "                     '_set_with',\n",
      "                     '_set_with_engine',\n",
      "                     '_shift_with_freq',\n",
      "                     '_slice',\n",
      "                     '_stat_function',\n",
      "                     '_stat_function_ddof',\n",
      "                     '_take_with_is_copy',\n",
      "                     '_to_latex_via_styler',\n",
      "                     '_update_inplace',\n",
      "                     '_validate_dtype',\n",
      "                     '_where']}\n"
     ]
    }
   ],
   "source": [
    "dir2(pd.Series, pd.Index, unique_only=True, exclude_external_modules=True)"
   ]
  },
  {
   "cell_type": "code",
   "execution_count": null,
   "metadata": {
    "scrolled": true
   },
   "outputs": [],
   "source": []
  },
  {
   "cell_type": "code",
   "execution_count": 10,
   "metadata": {
    "scrolled": true
   },
   "outputs": [
    {
     "name": "stdout",
     "output_type": "stream",
     "text": [
      "{'attribute': ['columns', 'style'],\n",
      " 'method': ['applymap',\n",
      "            'assign',\n",
      "            'boxplot',\n",
      "            'corrwith',\n",
      "            'eval',\n",
      "            'from_dict',\n",
      "            'from_records',\n",
      "            'insert',\n",
      "            'isetitem',\n",
      "            'iterrows',\n",
      "            'itertuples',\n",
      "            'join',\n",
      "            'melt',\n",
      "            'merge',\n",
      "            'pivot',\n",
      "            'pivot_table',\n",
      "            'query',\n",
      "            'select_dtypes',\n",
      "            'set_index',\n",
      "            'stack',\n",
      "            'to_feather',\n",
      "            'to_gbq',\n",
      "            'to_html',\n",
      "            'to_orc',\n",
      "            'to_parquet',\n",
      "            'to_records',\n",
      "            'to_stata',\n",
      "            'to_xml'],\n",
      " 'datamodel_method': ['__arrow_c_stream__',\n",
      "                      '__dataframe__',\n",
      "                      '__dataframe_consortium_standard__'],\n",
      " 'internal_attribute': ['_can_fast_transpose',\n",
      "                        '_is_homogeneous_type',\n",
      "                        '_series'],\n",
      " 'internal_method': ['_arith_method_with_reindex',\n",
      "                     '_box_col_values',\n",
      "                     '_combine_frame',\n",
      "                     '_constructor_sliced',\n",
      "                     '_constructor_sliced_from_mgr',\n",
      "                     '_create_data_for_split_and_tight_to_dict',\n",
      "                     '_dispatch_frame_op',\n",
      "                     '_ensure_valid_index',\n",
      "                     '_flex_arith_method',\n",
      "                     '_flex_cmp_method',\n",
      "                     '_from_arrays',\n",
      "                     '_get_agg_axis',\n",
      "                     '_get_column_array',\n",
      "                     '_get_item_cache',\n",
      "                     '_get_values_for_csv',\n",
      "                     '_getitem_bool_array',\n",
      "                     '_getitem_multilevel',\n",
      "                     '_getitem_nocopy',\n",
      "                     '_info_repr',\n",
      "                     '_iset_item',\n",
      "                     '_iset_item_mgr',\n",
      "                     '_iset_not_inplace',\n",
      "                     '_iter_column_arrays',\n",
      "                     '_maybe_align_series_as_frame',\n",
      "                     '_maybe_cache_changed',\n",
      "                     '_reduce_axis1',\n",
      "                     '_replace_columnwise',\n",
      "                     '_repr_fits_horizontal_',\n",
      "                     '_repr_fits_vertical_',\n",
      "                     '_repr_html_',\n",
      "                     '_sanitize_column',\n",
      "                     '_set_item',\n",
      "                     '_set_item_frame_value',\n",
      "                     '_set_item_mgr',\n",
      "                     '_setitem_array',\n",
      "                     '_setitem_frame',\n",
      "                     '_setitem_slice',\n",
      "                     '_should_reindex_frame_op',\n",
      "                     '_sliced_from_mgr',\n",
      "                     '_to_dict_of_blocks']}\n"
     ]
    }
   ],
   "source": [
    "dir2(pd.DataFrame, pd.Series, unique_only=True, exclude_external_modules=True)"
   ]
  },
  {
   "attachments": {},
   "cell_type": "markdown",
   "metadata": {},
   "source": [
    "## Series"
   ]
  },
  {
   "attachments": {},
   "cell_type": "markdown",
   "metadata": {},
   "source": [
    "The initialisation signature for a pandas ```Series``` class can be examined:"
   ]
  },
  {
   "cell_type": "code",
   "execution_count": null,
   "metadata": {},
   "outputs": [],
   "source": [
    "pd.Series?"
   ]
  },
  {
   "attachments": {},
   "cell_type": "markdown",
   "metadata": {},
   "source": [
    "The main keyword input arguments are:\n",
    "\n",
    "* data\n",
    "* index\n",
    "* dtype\n",
    "* name\n"
   ]
  },
  {
   "attachments": {},
   "cell_type": "markdown",
   "metadata": {},
   "source": [
    "If these are not supplied an empty series instance with no index, no name and a generic object datatype is instantiated:"
   ]
  },
  {
   "cell_type": "code",
   "execution_count": null,
   "metadata": {},
   "outputs": [],
   "source": [
    "pd.Series()"
   ]
  },
  {
   "attachments": {},
   "cell_type": "markdown",
   "metadata": {},
   "source": [
    "Normally data is supplied in the form of a numpy 1darray:"
   ]
  },
  {
   "cell_type": "code",
   "execution_count": null,
   "metadata": {},
   "outputs": [],
   "source": [
    "pd.Series(data=np.array([1, 2, 3]))"
   ]
  },
  {
   "attachments": {},
   "cell_type": "markdown",
   "metadata": {},
   "source": [
    "Since a ndarray itself is initialised from a list, this can be abbreviated to:"
   ]
  },
  {
   "cell_type": "code",
   "execution_count": null,
   "metadata": {},
   "outputs": [],
   "source": [
    "pd.Series(data=[1, 2, 3])"
   ]
  },
  {
   "attachments": {},
   "cell_type": "markdown",
   "metadata": {},
   "source": [
    "When ```dtype=None```, the data type will be inferred from the data:"
   ]
  },
  {
   "cell_type": "code",
   "execution_count": null,
   "metadata": {},
   "outputs": [],
   "source": [
    "pd.Series(data=[1., 2., 3.])"
   ]
  },
  {
   "cell_type": "code",
   "execution_count": null,
   "metadata": {},
   "outputs": [],
   "source": [
    "from datetime import datetime, timedelta\n",
    "pd.Series(data=[datetime.now(), \n",
    "                datetime.now() + timedelta(days=1),\n",
    "                datetime.now() + timedelta(days=2)])"
   ]
  },
  {
   "cell_type": "code",
   "execution_count": null,
   "metadata": {},
   "outputs": [],
   "source": [
    "pd.Series(data=['a', 'b', 'c'])"
   ]
  },
  {
   "attachments": {},
   "cell_type": "markdown",
   "metadata": {},
   "source": [
    "Anything with a string in it is classed as non-numeric and has the generic dtype ```object``` (meaning it can be any Python object)."
   ]
  },
  {
   "attachments": {},
   "cell_type": "markdown",
   "metadata": {},
   "source": [
    "The dtype can be manually overidden when supplying the numpy 1darray by using the ```np.array``` input argument ```dtype```:"
   ]
  },
  {
   "cell_type": "code",
   "execution_count": null,
   "metadata": {},
   "outputs": [],
   "source": [
    "pd.Series(data=np.array([1., 2., 3.], dtype=np.int32))"
   ]
  },
  {
   "attachments": {},
   "cell_type": "markdown",
   "metadata": {},
   "source": [
    "Or by alternatively using the ```Series``` keyword input argument ```dtype```:"
   ]
  },
  {
   "cell_type": "code",
   "execution_count": null,
   "metadata": {},
   "outputs": [],
   "source": [
    "pd.Series(data=[1., 2., 3.], dtype=np.int32)"
   ]
  },
  {
   "attachments": {},
   "cell_type": "markdown",
   "metadata": {},
   "source": [
    "Notice that the index is zero-ordered numeric in integer steps of 1 by default. This can be manually changed by use of the keyword input argument ```index``` and providing an ```Index``` instance, ```ndarray``` instance or ```list``` instance of index values:"
   ]
  },
  {
   "cell_type": "code",
   "execution_count": null,
   "metadata": {},
   "outputs": [],
   "source": [
    "pd.Series(index=['a', 'b', 'c'], data=[1., 2., 3.], dtype=np.int32)"
   ]
  },
  {
   "attachments": {},
   "cell_type": "markdown",
   "metadata": {},
   "source": [
    "A ```Series``` usually also has a ```name```:"
   ]
  },
  {
   "cell_type": "code",
   "execution_count": null,
   "metadata": {},
   "outputs": [],
   "source": [
    "pd.Series(index=['a', 'b', 'c'], data=[1., 2., 3.], dtype=np.int32, name='x')"
   ]
  },
  {
   "attachments": {},
   "cell_type": "markdown",
   "metadata": {},
   "source": [
    "Normally the ```data``` and ```name``` are supplied and the ```index``` and ```dtype``` are inferred:"
   ]
  },
  {
   "cell_type": "code",
   "execution_count": null,
   "metadata": {},
   "outputs": [],
   "source": [
    "pd.Series([1.1, 2.1, 3.1, 4.1], name='x')"
   ]
  },
  {
   "attachments": {},
   "cell_type": "markdown",
   "metadata": {},
   "source": [
    "## DataFrame"
   ]
  },
  {
   "attachments": {},
   "cell_type": "markdown",
   "metadata": {},
   "source": [
    "The initialisation signature for a pandas DataFrame can be examined:"
   ]
  },
  {
   "cell_type": "code",
   "execution_count": null,
   "metadata": {},
   "outputs": [],
   "source": [
    "pd.DataFrame?"
   ]
  },
  {
   "attachments": {},
   "cell_type": "markdown",
   "metadata": {},
   "source": [
    "The keyword input arguments for a ```DataFrame``` instance are similar to those found for a ```Series``` instance however because a ```DataFrame``` is a collection of ```Series``` most of these are plural:\n",
    "\n",
    "* data (plural)\n",
    "* index (singular)\n",
    "* columns (plural of name)\n",
    "* dtype (plural)"
   ]
  },
  {
   "cell_type": "code",
   "execution_count": null,
   "metadata": {},
   "outputs": [],
   "source": [
    "pd.DataFrame(data=[[1.1, 1.2], \n",
    "                   [2.1, 2.2],\n",
    "                   [3.1, 3.2],\n",
    "                   [4.1, 4.2]],\n",
    "             index=['a', 'b', 'c', 'd'],\n",
    "             columns=('x', 'y'),\n",
    "             dtype=(np.float64, np.float64))"
   ]
  },
  {
   "attachments": {},
   "cell_type": "markdown",
   "metadata": {},
   "source": [
    "The dtype has to be supplied as a ```tuple``` containing the ```dtype``` for each ```Series``` instance in the ```DataFrame``` instance. If it is supplied as a list of dtypes a ```TypeError``` will display.\n",
    "\n",
    "Once again normally the ```dtype``` and ```index``` are inferred:"
   ]
  },
  {
   "cell_type": "code",
   "execution_count": null,
   "metadata": {},
   "outputs": [],
   "source": [
    "pd.DataFrame(data=[[1.1, 1.2], \n",
    "                   [2.1, 2.2],\n",
    "                   [3.1, 3.2],\n",
    "                   [4.1, 4.2]],\n",
    "             columns=('x', 'y'))"
   ]
  },
  {
   "attachments": {},
   "cell_type": "markdown",
   "metadata": {},
   "source": [
    "It is common to supply ```columns``` and ```data``` in the form of a mapping. The mapping has a key: value pair. The key should be a string which will become the column name and the value should be a 1darray or list which corresponds to the data:"
   ]
  },
  {
   "cell_type": "code",
   "execution_count": null,
   "metadata": {},
   "outputs": [],
   "source": [
    "pd.DataFrame({'x': np.array([1.1, 2.1, 3.1, 3.1]),\n",
    "              'y': np.array([1.2, 2.2, 3.2, 4.2])})"
   ]
  },
  {
   "attachments": {},
   "cell_type": "markdown",
   "metadata": {},
   "source": [
    "## Series Identifiers"
   ]
  },
  {
   "attachments": {},
   "cell_type": "markdown",
   "metadata": {},
   "source": [
    "If the following ```NDArray``` (1D) and ```Series``` instances are created:"
   ]
  },
  {
   "cell_type": "code",
   "execution_count": null,
   "metadata": {},
   "outputs": [],
   "source": [
    "xarray = np.array([1.1, 2.1, 3.1, 4.1])"
   ]
  },
  {
   "cell_type": "code",
   "execution_count": null,
   "metadata": {},
   "outputs": [],
   "source": [
    "xarray"
   ]
  },
  {
   "cell_type": "code",
   "execution_count": null,
   "metadata": {},
   "outputs": [],
   "source": [
    "xseries = pd.Series(xarray, name='x')"
   ]
  },
  {
   "cell_type": "code",
   "execution_count": null,
   "metadata": {},
   "outputs": [],
   "source": [
    "xseries"
   ]
  },
  {
   "cell_type": "markdown",
   "metadata": {},
   "source": [
    "The ```Series``` is more commonly instantiated directly from a ```list```:"
   ]
  },
  {
   "cell_type": "code",
   "execution_count": null,
   "metadata": {},
   "outputs": [],
   "source": [
    "yseries = pd.Series([1.1, -2.1, -3.1, None], name='y', dtype=float)"
   ]
  },
  {
   "cell_type": "code",
   "execution_count": null,
   "metadata": {},
   "outputs": [],
   "source": [
    "yseries"
   ]
  },
  {
   "attachments": {},
   "cell_type": "markdown",
   "metadata": {},
   "source": [
    "Its identifiers can be viewed. Notice that the following are consistent with a ```1darray``` instance because a ```Series``` instance is based on a ```NDArray``` (1D). This means the previous knowledge from the ```numpy``` tutorial is applicable to the ```Series```:"
   ]
  },
  {
   "cell_type": "code",
   "execution_count": null,
   "metadata": {},
   "outputs": [],
   "source": [
    "print('datamodel attribute:', end=' ')\n",
    "print_identifier_group(xarray, kind='datamodel_attribute', second=xseries, show_only_intersection_identifiers=True)\n",
    "print('datamodel method:', end=' ')\n",
    "print_identifier_group(xarray, kind='datamodel_method', second=xseries, show_only_intersection_identifiers=True)\n",
    "print('attribute:', end=' ')\n",
    "print_identifier_group(xarray, kind='attribute', second=xseries, show_only_intersection_identifiers=True)\n",
    "print('method:', end=' ')\n",
    "print_identifier_group(xarray, kind='function', second=xseries, show_only_intersection_identifiers=True)"
   ]
  },
  {
   "cell_type": "markdown",
   "metadata": {},
   "source": [
    "Some of the identifiers in a ```NDArray``` (1D) are not applicable to a ```Series``` such as the functions which work over multiple dimensions:"
   ]
  },
  {
   "cell_type": "code",
   "execution_count": null,
   "metadata": {},
   "outputs": [],
   "source": [
    "print('datamodel attribute:', end=' ')\n",
    "print_identifier_group(xarray, kind='datamodel_attribute', second=xseries, show_unique_identifiers=True)\n",
    "print('datamodel method:', end=' ')\n",
    "print_identifier_group(xarray, kind='datamodel_method', second=xseries, show_unique_identifiers=True)\n",
    "print('attribute:', end=' ')\n",
    "print_identifier_group(xarray, kind='attribute', second=xseries, show_unique_identifiers=True)\n",
    "print('method:', end=' ')\n",
    "print_identifier_group(xarray, kind='function', second=xseries, show_unique_identifiers=True)"
   ]
  },
  {
   "cell_type": "markdown",
   "metadata": {},
   "source": [
    "There are also additional identifiers in the ```Series``` class that are not available in the ```NDArray``` (1D):"
   ]
  },
  {
   "cell_type": "code",
   "execution_count": null,
   "metadata": {},
   "outputs": [],
   "source": [
    "print('datamodel attribute:', end=' ')\n",
    "print_identifier_group(xseries, kind='datamodel_attribute', second=xarray, show_unique_identifiers=True)\n",
    "print('datamodel method:', end=' ')\n",
    "print_identifier_group(xseries, kind='datamodel_method', second=xarray, show_unique_identifiers=True)\n",
    "print('attribute:', end=' ')\n",
    "print_identifier_group(xseries, kind='attribute', second=xarray, show_unique_identifiers=True)\n",
    "print('method:', end=' ')\n",
    "print_identifier_group(xseries, kind='function', second=xarray, show_unique_identifiers=True)"
   ]
  },
  {
   "attachments": {},
   "cell_type": "markdown",
   "metadata": {},
   "source": [
    "Many of the additional attributes return the supplied value in the initialisation signature:"
   ]
  },
  {
   "cell_type": "code",
   "execution_count": null,
   "metadata": {},
   "outputs": [],
   "source": [
    "xseries.array"
   ]
  },
  {
   "cell_type": "code",
   "execution_count": null,
   "metadata": {},
   "outputs": [],
   "source": [
    "xseries.name"
   ]
  },
  {
   "cell_type": "code",
   "execution_count": null,
   "metadata": {},
   "outputs": [],
   "source": [
    "xseries.index"
   ]
  },
  {
   "cell_type": "code",
   "execution_count": null,
   "metadata": {},
   "outputs": [],
   "source": [
    "xseries.values"
   ]
  },
  {
   "cell_type": "code",
   "execution_count": null,
   "metadata": {},
   "outputs": [],
   "source": [
    "xseries.dtypes"
   ]
  },
  {
   "cell_type": "markdown",
   "metadata": {},
   "source": [
    "Many of the additional methods duplicate the behaviour of an equivalent datamodel method for example ```abs``` and ```__abs__``` (dunder abs). Recall that the datamodel identifier ```__abs__``` defines the way the ```builtins``` function ```abs``` operates with an instance of the ```Series``` class and its use is generally preferred:"
   ]
  },
  {
   "cell_type": "code",
   "execution_count": null,
   "metadata": {},
   "outputs": [],
   "source": [
    "yseries"
   ]
  },
  {
   "cell_type": "code",
   "execution_count": null,
   "metadata": {},
   "outputs": [],
   "source": [
    "abs(yseries)"
   ]
  },
  {
   "cell_type": "code",
   "execution_count": null,
   "metadata": {},
   "outputs": [],
   "source": [
    "yseries.abs()"
   ]
  },
  {
   "cell_type": "markdown",
   "metadata": {},
   "source": [
    " The supplementary method ```add``` largely duplicates the behaviour of the datamodel ```__add__``` (dunder add) which recall defines the behaviour of the ```+``` operator which use is generally preferred:"
   ]
  },
  {
   "cell_type": "code",
   "execution_count": null,
   "metadata": {},
   "outputs": [],
   "source": [
    "xseries.__add__(yseries)"
   ]
  },
  {
   "cell_type": "code",
   "execution_count": null,
   "metadata": {},
   "outputs": [],
   "source": [
    "xseries + yseries"
   ]
  },
  {
   "cell_type": "markdown",
   "metadata": {},
   "source": [
    "The ```add``` method however includes additional options via keyword input arguments such as ```fill_value``` which can be used for an addition involving a missing value: "
   ]
  },
  {
   "cell_type": "code",
   "execution_count": null,
   "metadata": {},
   "outputs": [],
   "source": [
    "xseries.add(yseries)"
   ]
  },
  {
   "cell_type": "code",
   "execution_count": null,
   "metadata": {},
   "outputs": [],
   "source": [
    "xseries.add(yseries, fill_value=0)"
   ]
  },
  {
   "attachments": {},
   "cell_type": "markdown",
   "metadata": {},
   "source": [
    "## DataFrame Identifiers"
   ]
  },
  {
   "attachments": {},
   "cell_type": "markdown",
   "metadata": {},
   "source": [
    "If the following dataframe is constructed:"
   ]
  },
  {
   "cell_type": "code",
   "execution_count": null,
   "metadata": {},
   "outputs": [],
   "source": [
    "df = pd.DataFrame({'x': np.array([1.1, 2.1, 3.1, 3.1]),\n",
    "                   'y': np.array([1.2, 2.2, 3.2, 4.2])})"
   ]
  },
  {
   "cell_type": "code",
   "execution_count": null,
   "metadata": {},
   "outputs": [],
   "source": [
    "df"
   ]
  },
  {
   "cell_type": "markdown",
   "metadata": {},
   "source": [
    "A large number of identifiers can be seen to be consistent between a ```DataFrame``` and a ```Series``` instance such as almost all of the datamodel identifiers. These identifiers operate across 2 dimensions across a ```DataFrame``` instance instead of 1 dimension along a ```Series```:"
   ]
  },
  {
   "cell_type": "code",
   "execution_count": null,
   "metadata": {},
   "outputs": [],
   "source": [
    "print('datamodel attribute:', end=' ')\n",
    "print_identifier_group(df, kind='datamodel_attribute', second=xseries, show_only_intersection_identifiers=True)\n",
    "print('datamodel method:', end=' ')\n",
    "print_identifier_group(df, kind='datamodel_method', second=xseries, show_only_intersection_identifiers=True)\n",
    "print('attribute:', end=' ')\n",
    "print_identifier_group(df, kind='attribute', second=xseries, show_only_intersection_identifiers=True)\n",
    "print('method:', end=' ')\n",
    "print_identifier_group(df, kind='function', second=xseries, show_only_intersection_identifiers=True)"
   ]
  },
  {
   "cell_type": "markdown",
   "metadata": {},
   "source": [
    "The ```Series``` has ```Series``` specific attributes which are not available for a ```DataFrame``` instance. The datamodel methods in a ```Series``` not present in a ```DataFrame``` are for type-casting:"
   ]
  },
  {
   "cell_type": "code",
   "execution_count": null,
   "metadata": {},
   "outputs": [],
   "source": [
    "print('datamodel attribute:', end=' ')\n",
    "print_identifier_group(xseries, kind='datamodel_attribute', second=df, show_unique_identifiers=True)\n",
    "print('datamodel method:', end=' ')\n",
    "print_identifier_group(xseries, kind='datamodel_method', second=df, show_unique_identifiers=True)\n",
    "print('attribute:', end=' ')\n",
    "print_identifier_group(xseries, kind='attribute', second=df, show_unique_identifiers=True)\n",
    "print('method:', end=' ')\n",
    "print_identifier_group(xseries, kind='function', second=df, show_unique_identifiers=True)"
   ]
  },
  {
   "cell_type": "markdown",
   "metadata": {},
   "source": [
    "The ```DataFrame``` instead has ```DataFrame``` specific attributes such as the name of each ```Series``` in the ```DataFrame```. The ```DataFrame``` also has supplementary methods such as ```insert``` which is used to insert a ```Series``` instance into a ```DataFrame``` instance or ```join``` and ```merge``` used to join or merge ```DataFrame``` instances respectively. The datamodel methods in a ```DataFrame``` not present in a ```Series``` are for type-casting (to a ```DataFrame```):"
   ]
  },
  {
   "cell_type": "code",
   "execution_count": null,
   "metadata": {},
   "outputs": [],
   "source": [
    "print('datamodel attribute:', end=' ')\n",
    "print_identifier_group(df, kind='datamodel_attribute', second=xseries, show_unique_identifiers=True)\n",
    "print('datamodel method:', end=' ')\n",
    "print_identifier_group(df, kind='datamodel_method', second=xseries, show_unique_identifiers=True)\n",
    "print('attribute:', end=' ')\n",
    "print_identifier_group(df, kind='attribute', second=xseries, show_unique_identifiers=True)\n",
    "print('method:', end=' ')\n",
    "print_identifier_group(df, kind='function', second=xseries, show_unique_identifiers=True)"
   ]
  },
  {
   "attachments": {},
   "cell_type": "markdown",
   "metadata": {},
   "source": [
    "Notice the columns attribute returns a list of the names of each ```Series``` in the ```DataFrame```:"
   ]
  },
  {
   "cell_type": "code",
   "execution_count": null,
   "metadata": {},
   "outputs": [],
   "source": [
    "df.columns"
   ]
  },
  {
   "attachments": {},
   "cell_type": "markdown",
   "metadata": {},
   "source": [
    "Since the following conditions are satisfied:"
   ]
  },
  {
   "cell_type": "code",
   "execution_count": null,
   "metadata": {},
   "outputs": [],
   "source": [
    "'x'.isidentifier()"
   ]
  },
  {
   "cell_type": "code",
   "execution_count": null,
   "metadata": {},
   "outputs": [],
   "source": [
    "'y'.isidentifier()"
   ]
  },
  {
   "attachments": {},
   "cell_type": "markdown",
   "metadata": {},
   "source": [
    "And these identifier names don't clash with any of the other ```DataFrame``` identifiers, the following become ```DataFrame``` attributes and correspond to each ```Series``` in the ```DataFrame```:"
   ]
  },
  {
   "cell_type": "code",
   "execution_count": null,
   "metadata": {},
   "outputs": [],
   "source": [
    "df.x"
   ]
  },
  {
   "cell_type": "code",
   "execution_count": null,
   "metadata": {},
   "outputs": [],
   "source": [
    "df.y"
   ]
  },
  {
   "attachments": {},
   "cell_type": "markdown",
   "metadata": {},
   "source": [
    "## Mutability"
   ]
  },
  {
   "attachments": {},
   "cell_type": "markdown",
   "metadata": {},
   "source": [
    "The ```Index```, ```Series``` and ```DataFrame``` classes are mutable Collections meaning they have the immutable datamodel identifier ```__getitem__``` (dunder getitem) as well as the mutable identifier ```__setitem__``` (dunder setitem):"
   ]
  },
  {
   "cell_type": "code",
   "execution_count": null,
   "metadata": {},
   "outputs": [],
   "source": [
    "'__getitem__' in dir(pd.Series)"
   ]
  },
  {
   "cell_type": "code",
   "execution_count": null,
   "metadata": {},
   "outputs": [],
   "source": [
    "'__setitem__' in dir(pd.Series)"
   ]
  },
  {
   "cell_type": "code",
   "execution_count": null,
   "metadata": {},
   "outputs": [],
   "source": [
    "'__delitem__' in dir(pd.Series)"
   ]
  },
  {
   "attachments": {},
   "cell_type": "markdown",
   "metadata": {},
   "source": [
    "This means the following array can be indexed into:"
   ]
  },
  {
   "cell_type": "code",
   "execution_count": null,
   "metadata": {},
   "outputs": [],
   "source": [
    "xseries = pd.Series([1.1, 2.1, 3.1, 4.1], name='x')"
   ]
  },
  {
   "cell_type": "code",
   "execution_count": null,
   "metadata": {},
   "outputs": [],
   "source": [
    "xseries"
   ]
  },
  {
   "attachments": {},
   "cell_type": "markdown",
   "metadata": {},
   "source": [
    "Recall the datamodel ```__getitem__``` (dunder getitem) defines how a ```Collection``` responds to indexing using square brackets:"
   ]
  },
  {
   "cell_type": "code",
   "execution_count": null,
   "metadata": {},
   "outputs": [],
   "source": [
    "xseries[0]"
   ]
  },
  {
   "attachments": {},
   "cell_type": "markdown",
   "metadata": {},
   "source": [
    "Recall that the mutable method ```__setitem__``` (dunder setitem) defines how a ```MutableCollection``` responds to indexing using square brackets followed by assignment to a new value:"
   ]
  },
  {
   "cell_type": "code",
   "execution_count": null,
   "metadata": {},
   "outputs": [],
   "source": [
    "xseries[0] = None"
   ]
  },
  {
   "cell_type": "code",
   "execution_count": null,
   "metadata": {},
   "outputs": [],
   "source": [
    "xseries"
   ]
  },
  {
   "attachments": {},
   "cell_type": "markdown",
   "metadata": {},
   "source": [
    "Recall that the mutable method ```__delitem__``` (dunder delitem) defines how a ```MutableCollection``` responds to a ```del``` statement of an element indexing using square brackets:"
   ]
  },
  {
   "cell_type": "code",
   "execution_count": null,
   "metadata": {},
   "outputs": [],
   "source": [
    "del xseries[2]"
   ]
  },
  {
   "cell_type": "code",
   "execution_count": null,
   "metadata": {},
   "outputs": [],
   "source": [
    "xseries"
   ]
  },
  {
   "attachments": {},
   "cell_type": "markdown",
   "metadata": {},
   "source": [
    "Despite the ```NDArray```, ```Series``` and ```DataFrame``` being mutable datatypes, most the identifiers are immutable by default. If the docstring of the method ```dropna``` is examined:"
   ]
  },
  {
   "cell_type": "code",
   "execution_count": null,
   "metadata": {},
   "outputs": [],
   "source": [
    "xseries.dropna?"
   ]
  },
  {
   "attachments": {},
   "cell_type": "markdown",
   "metadata": {},
   "source": [
    "Notice it has the keyword input arguments ```inplace```. ```inplace``` has the default value of ```False``` making the method immutable by default and therefore returns a new ```Series```:"
   ]
  },
  {
   "cell_type": "code",
   "execution_count": null,
   "metadata": {},
   "outputs": [],
   "source": [
    "xseries.dropna() # Return value"
   ]
  },
  {
   "cell_type": "code",
   "execution_count": null,
   "metadata": {},
   "outputs": [],
   "source": [
    "xseries # Unchanged"
   ]
  },
  {
   "attachments": {},
   "cell_type": "markdown",
   "metadata": {},
   "source": [
    "When ```inplace``` is set to ```True``` the method becomes mutable:"
   ]
  },
  {
   "cell_type": "code",
   "execution_count": null,
   "metadata": {},
   "outputs": [],
   "source": [
    "xseries.dropna(inplace=True) # No return value"
   ]
  },
  {
   "cell_type": "code",
   "execution_count": null,
   "metadata": {},
   "outputs": [],
   "source": [
    "xseries # Modified inplace"
   ]
  },
  {
   "attachments": {},
   "cell_type": "markdown",
   "metadata": {},
   "source": [
    "The same behaviour can be seen on the method ```reset_index```:"
   ]
  },
  {
   "cell_type": "code",
   "execution_count": null,
   "metadata": {},
   "outputs": [],
   "source": [
    "xseries.reset_index?"
   ]
  },
  {
   "attachments": {},
   "cell_type": "markdown",
   "metadata": {},
   "source": [
    "With default value this method is immutable and returns a ```DataFrame``` since the old index is now added as the first ```Series```:"
   ]
  },
  {
   "cell_type": "code",
   "execution_count": null,
   "metadata": {},
   "outputs": [],
   "source": [
    "xseries.reset_index() # Return value"
   ]
  },
  {
   "attachments": {},
   "cell_type": "markdown",
   "metadata": {},
   "source": [
    "If the ```drop``` keyword input argument is set to ```True```, a ```Series``` will instead be returned:"
   ]
  },
  {
   "cell_type": "code",
   "execution_count": null,
   "metadata": {},
   "outputs": [],
   "source": [
    "xseries.reset_index(drop=True) # Return value"
   ]
  },
  {
   "attachments": {},
   "cell_type": "markdown",
   "metadata": {},
   "source": [
    "Once again the ```inplace``` keyword input argument can be assigned to ```True``` making the method mutable:"
   ]
  },
  {
   "cell_type": "code",
   "execution_count": null,
   "metadata": {},
   "outputs": [],
   "source": [
    "xseries.reset_index(drop=True, inplace=True) # No return value"
   ]
  },
  {
   "cell_type": "code",
   "execution_count": null,
   "metadata": {},
   "outputs": [],
   "source": [
    "xseries # Modified inplace"
   ]
  },
  {
   "cell_type": "markdown",
   "metadata": {},
   "source": [
    "The following ```Series``` methods have the parameter ```inplace``` and are therefore immutable by default but are mutable when this parameter is assigned to ```True```:"
   ]
  },
  {
   "cell_type": "code",
   "execution_count": null,
   "metadata": {},
   "outputs": [],
   "source": [
    "print_identifier_group(xseries, kind='function', has_parameter='inplace')"
   ]
  },
  {
   "cell_type": "markdown",
   "metadata": {},
   "source": [
    "Notice that most of these are used to fill, interpolate or drop values along a ```Series``` in response to missing data. \n",
    "\n",
    "```sort_values``` for example can be used to sort the values along a ```Series```, by default ```inplace=False``` and the method is immutable:"
   ]
  },
  {
   "cell_type": "code",
   "execution_count": null,
   "metadata": {},
   "outputs": [],
   "source": [
    "xseries.sort_values(ascending=False) # Return value"
   ]
  },
  {
   "attachments": {},
   "cell_type": "markdown",
   "metadata": {},
   "source": [
    "Recall when an immutable method is used with assignment, the new value returned on the right of the assignment operator is assigned to the instance name or label on the left of the assignment operator. If the instance name is conceptualised as a label, then a reassignment peels the label from the original instance and places it on the new instance created:"
   ]
  },
  {
   "cell_type": "code",
   "execution_count": null,
   "metadata": {},
   "outputs": [],
   "source": [
    "xseries = xseries.sort_values(ascending=False)"
   ]
  },
  {
   "cell_type": "code",
   "execution_count": null,
   "metadata": {},
   "outputs": [],
   "source": [
    "xseries"
   ]
  },
  {
   "attachments": {},
   "cell_type": "markdown",
   "metadata": {},
   "source": [
    "On the other hand when a method is immutable, there is no return value and the ```Series``` is updated inplace:"
   ]
  },
  {
   "cell_type": "code",
   "execution_count": null,
   "metadata": {},
   "outputs": [],
   "source": [
    "xseries.sort_values(ascending=True, inplace=True) # No return value"
   ]
  },
  {
   "cell_type": "code",
   "execution_count": null,
   "metadata": {},
   "outputs": [],
   "source": [
    "xseries"
   ]
  },
  {
   "attachments": {},
   "cell_type": "markdown",
   "metadata": {},
   "source": [
    "If assignment is used with an mutable function, the return value of the function is ```None``` and therefore ```None``` will be assigned to the ```new_label```:"
   ]
  },
  {
   "cell_type": "code",
   "execution_count": null,
   "metadata": {},
   "outputs": [],
   "source": [
    "new_label = xseries.sort_values(ascending=True, inplace=True) "
   ]
  },
  {
   "cell_type": "code",
   "execution_count": null,
   "metadata": {},
   "outputs": [],
   "source": [
    "new_label"
   ]
  },
  {
   "cell_type": "markdown",
   "metadata": {},
   "source": [
    "And therefore reassignment with the ```inplace``` parameter set to ```True``` should be avoided as the value will being reassigned will be ```None```:"
   ]
  },
  {
   "cell_type": "code",
   "execution_count": null,
   "metadata": {},
   "outputs": [],
   "source": [
    "xseries = xseries.sort_values(ascending=True, inplace=True) "
   ]
  },
  {
   "cell_type": "code",
   "execution_count": null,
   "metadata": {},
   "outputs": [],
   "source": [
    "xseries"
   ]
  },
  {
   "attachments": {},
   "cell_type": "markdown",
   "metadata": {},
   "source": [
    "By convention immutable methods have a ```return``` value and mutable methods have no ```return``` value. An exception to this is the mutable method ```pop``` which returns the popped value and mutates the ```Series``` in place:"
   ]
  },
  {
   "cell_type": "code",
   "execution_count": null,
   "metadata": {},
   "outputs": [],
   "source": [
    "xseries = pd.Series([4.1, 2.1, 3.1, 1.1], name='x')"
   ]
  },
  {
   "cell_type": "code",
   "execution_count": null,
   "metadata": {},
   "outputs": [],
   "source": [
    "xseries"
   ]
  },
  {
   "cell_type": "code",
   "execution_count": null,
   "metadata": {},
   "outputs": [],
   "source": [
    "xseries.pop(item=1) # Return value"
   ]
  },
  {
   "cell_type": "code",
   "execution_count": null,
   "metadata": {},
   "outputs": [],
   "source": [
    "xseries # Mutated"
   ]
  },
  {
   "attachments": {},
   "cell_type": "markdown",
   "metadata": {},
   "source": [
    "The methods that have consistent names to the mutable methods in a ```list``` will also be mutable with no ```return``` value. Most of the other methods are immutable and have a ```return``` value."
   ]
  },
  {
   "cell_type": "markdown",
   "metadata": {},
   "source": [
    "## Axis"
   ]
  },
  {
   "cell_type": "markdown",
   "metadata": {},
   "source": [
    "Another common keyword is ```axis```:"
   ]
  },
  {
   "cell_type": "code",
   "execution_count": null,
   "metadata": {},
   "outputs": [],
   "source": [
    "print_identifier_group(xseries, kind='function', has_parameter='axis')"
   ]
  },
  {
   "cell_type": "markdown",
   "metadata": {},
   "source": [
    "A ```Series``` is a column and only has a single ```axis``` available, ```0```. The operation can be conceptualised as sorting the data in the rows by use of the ```Series``` name and therefore ```axis``` can also be assigned to the ```str``` instance ```'rows'```:"
   ]
  },
  {
   "cell_type": "code",
   "execution_count": null,
   "metadata": {},
   "outputs": [],
   "source": [
    "xseries.sort_values(ascending=True, axis=0)"
   ]
  },
  {
   "cell_type": "code",
   "execution_count": null,
   "metadata": {},
   "outputs": [],
   "source": [
    "xseries.sort_values(ascending=True, axis='rows')"
   ]
  },
  {
   "cell_type": "markdown",
   "metadata": {},
   "source": [
    "For a ```DataFrame``` there are two values for ```axis```, ```0``` which is the default and ```1```:"
   ]
  },
  {
   "cell_type": "code",
   "execution_count": null,
   "metadata": {},
   "outputs": [],
   "source": [
    "df = pd.DataFrame({'x': np.array([5.1, 2.1, 2.1, 4.1]),\n",
    "                   'y': np.array([6.2, 7.0, 2.1, 1.2])},\n",
    "                   index=['a', 'b', 'c', 'd'])"
   ]
  },
  {
   "cell_type": "code",
   "execution_count": null,
   "metadata": {},
   "outputs": [],
   "source": [
    "df"
   ]
  },
  {
   "cell_type": "markdown",
   "metadata": {},
   "source": [
    "The default ```axis``` is ```0``` which is equivalent to the ```str``` instance ```'rows'```. This is an instruction to sort the data in the rows ```by``` the ordering of the data in the columns:"
   ]
  },
  {
   "cell_type": "code",
   "execution_count": null,
   "metadata": {},
   "outputs": [],
   "source": [
    "df.sort_values(by=['x', 'y'], axis='rows')"
   ]
  },
  {
   "cell_type": "markdown",
   "metadata": {},
   "source": [
    "Notice that the data is sorted in ascending order by ```'x'``` and in the case where the two values in ```'x'``` have duplicate values are sorted by ```'y'``` :"
   ]
  },
  {
   "cell_type": "code",
   "execution_count": null,
   "metadata": {},
   "outputs": [],
   "source": [
    "df"
   ]
  },
  {
   "cell_type": "markdown",
   "metadata": {},
   "source": [
    "The ```axis``` can be changed to ```1``` which is equivalent to the ```str``` instance ```'columns'```. This is an instruction to sort the data in the columns ```by``` the ordering of the data in the index:"
   ]
  },
  {
   "cell_type": "code",
   "execution_count": null,
   "metadata": {},
   "outputs": [],
   "source": [
    "df.sort_values(by=['c', 'd'], axis='columns')"
   ]
  },
  {
   "cell_type": "markdown",
   "metadata": {},
   "source": [
    "The data is sorted in ascending order first by ```'c'``` but the data in the two ```Series``` instances ```'x'``` and ```'y'``` have the same value 2.1 so there is no instruction to specify the order of the ```Series```. The next index value ```'d'``` is used and the value in the ```Series``` instance ```y``` is 1.2 and the ```Series``` instance ```'x'``` is 4.1, therefore ```'y'``` is ordered before ```'x'```."
   ]
  },
  {
   "cell_type": "markdown",
   "metadata": {},
   "source": [
    "In the ```NDArray``` negative indexes are quite commonly used to select an ```axis```. This are not used for the ```Series``` (1D) and ```DataFrame``` (2D) instances which are of fixed dimensions."
   ]
  },
  {
   "attachments": {},
   "cell_type": "markdown",
   "metadata": {},
   "source": [
    "## Indexing and Slicing"
   ]
  },
  {
   "attachments": {},
   "cell_type": "markdown",
   "metadata": {},
   "source": [
    "Supposing the following dictionary instance is instantiated:"
   ]
  },
  {
   "cell_type": "code",
   "execution_count": null,
   "metadata": {},
   "outputs": [],
   "source": [
    "mapping = {'x': np.array([1.1, 2.1, 3.1, 4.1]),\n",
    "           'y': np.array([1.2, 2.2, 3.2, 4.2])}"
   ]
  },
  {
   "cell_type": "code",
   "execution_count": null,
   "metadata": {},
   "outputs": [],
   "source": [
    "mapping"
   ]
  },
  {
   "attachments": {},
   "cell_type": "markdown",
   "metadata": {},
   "source": [
    "A ```DataFrame``` instance can be instantiated by assigning the ```mapping``` to the keyword input argument ```data```:"
   ]
  },
  {
   "cell_type": "code",
   "execution_count": null,
   "metadata": {},
   "outputs": [],
   "source": [
    "df = pd.DataFrame(data=mapping)"
   ]
  },
  {
   "cell_type": "code",
   "execution_count": null,
   "metadata": {},
   "outputs": [],
   "source": [
    "df"
   ]
  },
  {
   "attachments": {},
   "cell_type": "markdown",
   "metadata": {},
   "source": [
    "A ```mapping``` can be indexed with a ```key```. This returns the ```value``` the ```key``` references, in this case the ```NDArray```:"
   ]
  },
  {
   "cell_type": "code",
   "execution_count": null,
   "metadata": {},
   "outputs": [],
   "source": [
    "mapping['x']"
   ]
  },
  {
   "attachments": {},
   "cell_type": "markdown",
   "metadata": {},
   "source": [
    "Analogously, when a ```DataFrame``` is indexed using the ```name``` of a ```Series```, the ```Series``` is returned:"
   ]
  },
  {
   "cell_type": "code",
   "execution_count": null,
   "metadata": {},
   "outputs": [],
   "source": [
    "df['x']"
   ]
  },
  {
   "attachments": {},
   "cell_type": "markdown",
   "metadata": {},
   "source": [
    "A value in the ```NDArray``` instance can be indexed by use of a second set of square brackets to enclose the numeric index:"
   ]
  },
  {
   "cell_type": "code",
   "execution_count": null,
   "metadata": {},
   "outputs": [],
   "source": [
    "mapping['x'][1]"
   ]
  },
  {
   "attachments": {},
   "cell_type": "markdown",
   "metadata": {},
   "source": [
    "Analogously, a ```value``` in the ```Series``` can be indexed by use of a second set of square brackets to enclose the numeric index:"
   ]
  },
  {
   "cell_type": "code",
   "execution_count": null,
   "metadata": {},
   "outputs": [],
   "source": [
    "df['x'][1]"
   ]
  },
  {
   "attachments": {},
   "cell_type": "markdown",
   "metadata": {},
   "source": [
    "If the DataFrame instance is examined:"
   ]
  },
  {
   "attachments": {},
   "cell_type": "markdown",
   "metadata": {},
   "source": [
    "|index|'x'|'y'|\n",
    "|---|---|---|\n",
    "|0|1.1|1.2|\n",
    "|1|2.1|2.2|\n",
    "|2|3.1|3.2|\n",
    "|3|4.1|4.2|"
   ]
  },
  {
   "attachments": {},
   "cell_type": "markdown",
   "metadata": {},
   "source": [
    "The first set of brackets select the Series:"
   ]
  },
  {
   "attachments": {},
   "cell_type": "markdown",
   "metadata": {},
   "source": [
    "|index|'x'|\n",
    "|---|---|\n",
    "|0|1.1|\n",
    "|1|2.1|\n",
    "|2|3.1|\n",
    "|3|4.1|"
   ]
  },
  {
   "attachments": {},
   "cell_type": "markdown",
   "metadata": {},
   "source": [
    "And the second set of brackets selects the index retrieving the value:"
   ]
  },
  {
   "attachments": {},
   "cell_type": "markdown",
   "metadata": {},
   "source": [
    "2.1"
   ]
  },
  {
   "attachments": {},
   "cell_type": "markdown",
   "metadata": {},
   "source": [
    "If the DataFrame is examined:"
   ]
  },
  {
   "attachments": {},
   "cell_type": "markdown",
   "metadata": {},
   "source": [
    "|index|'x'|'y'|\n",
    "|---|---|---|\n",
    "|0|1.1|1.2|\n",
    "|1|2.1|2.2|\n",
    "|2|3.1|3.2|\n",
    "|3|4.1|4.2|"
   ]
  },
  {
   "attachments": {},
   "cell_type": "markdown",
   "metadata": {},
   "source": [
    "Sometimes the value for each ```Series``` at a value within the ```Index``` instance is desired:"
   ]
  },
  {
   "attachments": {},
   "cell_type": "markdown",
   "metadata": {},
   "source": [
    "|index|'x'|'y'|\n",
    "|---|---|---|\n",
    "|1|2.1|2.2|"
   ]
  },
  {
   "attachments": {},
   "cell_type": "markdown",
   "metadata": {},
   "source": [
    "This is done by use of the property location ```loc```. Note that ```loc``` returns the above *row* as a ```Series``` which is displayed by default as a *column*:"
   ]
  },
  {
   "attachments": {},
   "cell_type": "markdown",
   "metadata": {},
   "source": [
    "|index|1|\n",
    "|---|---|\n",
    "|'x'|2.1|\n",
    "|'y'|2.1|"
   ]
  },
  {
   "attachments": {},
   "cell_type": "markdown",
   "metadata": {},
   "source": [
    "```loc``` is callable and has a docstring:"
   ]
  },
  {
   "cell_type": "code",
   "execution_count": null,
   "metadata": {},
   "outputs": [],
   "source": [
    "callable(df.loc)"
   ]
  },
  {
   "cell_type": "code",
   "execution_count": null,
   "metadata": {},
   "outputs": [],
   "source": [
    "df.loc?"
   ]
  },
  {
   "attachments": {},
   "cell_type": "markdown",
   "metadata": {},
   "source": [
    "However unlike most callables it is not called using parenthesis:"
   ]
  },
  {
   "cell_type": "code",
   "execution_count": null,
   "metadata": {},
   "outputs": [],
   "source": [
    "df.loc"
   ]
  },
  {
   "cell_type": "code",
   "execution_count": null,
   "metadata": {},
   "outputs": [],
   "source": [
    "df.loc()"
   ]
  },
  {
   "attachments": {},
   "cell_type": "markdown",
   "metadata": {},
   "source": [
    "Instead ```loc``` is a property. Under the hood it uses syntactic sugar around the datamodel method ```__getitem__``` that switches the order of indexing from the default ```[column, index]``` to ```[index, column]```:"
   ]
  },
  {
   "cell_type": "code",
   "execution_count": null,
   "metadata": {},
   "outputs": [],
   "source": [
    "df.loc[1]"
   ]
  },
  {
   "cell_type": "code",
   "execution_count": null,
   "metadata": {},
   "outputs": [],
   "source": [
    "df.loc[1]['x']"
   ]
  },
  {
   "attachments": {},
   "cell_type": "markdown",
   "metadata": {},
   "source": [
    "```loc``` can also uses index values:"
   ]
  },
  {
   "cell_type": "code",
   "execution_count": null,
   "metadata": {},
   "outputs": [],
   "source": [
    "df.loc[[0, 2]]"
   ]
  },
  {
   "attachments": {},
   "cell_type": "markdown",
   "metadata": {},
   "source": [
    "The related property integer location ```iloc``` always uses a numeric index. Since ```iloc``` has a numeric index, additional numeric operations can be used such as slicing:"
   ]
  },
  {
   "cell_type": "code",
   "execution_count": null,
   "metadata": {},
   "outputs": [],
   "source": [
    "df.iloc[[0, 2]]"
   ]
  },
  {
   "cell_type": "code",
   "execution_count": null,
   "metadata": {},
   "outputs": [],
   "source": [
    "df.iloc[0:2]"
   ]
  },
  {
   "attachments": {},
   "cell_type": "markdown",
   "metadata": {},
   "source": [
    "If the following DataFrame instance is created with index labels i.e. a non-numeric index:"
   ]
  },
  {
   "attachments": {},
   "cell_type": "markdown",
   "metadata": {},
   "source": [
    "|index|'x'|'y'|\n",
    "|---|---|---|\n",
    "|'a'|1.1|1.2|\n",
    "|'b'|2.1|2.2|\n",
    "|'c'|3.1|3.2|\n",
    "|'d'|4.1|4.2|"
   ]
  },
  {
   "cell_type": "code",
   "execution_count": null,
   "metadata": {},
   "outputs": [],
   "source": [
    "df = pd.DataFrame(index=['a', 'b', 'c', 'd'],\n",
    "                  data=mapping)"
   ]
  },
  {
   "cell_type": "code",
   "execution_count": null,
   "metadata": {},
   "outputs": [],
   "source": [
    "df"
   ]
  },
  {
   "attachments": {},
   "cell_type": "markdown",
   "metadata": {},
   "source": [
    "The difference between ```loc``` and ```iloc``` can be seen more clearly. For ```loc``` the index label is used:"
   ]
  },
  {
   "cell_type": "code",
   "execution_count": null,
   "metadata": {},
   "outputs": [],
   "source": [
    "df.loc['b']"
   ]
  },
  {
   "attachments": {},
   "cell_type": "markdown",
   "metadata": {},
   "source": [
    "Despite the labels being non-numeric ```iloc``` handles the index values numerically:"
   ]
  },
  {
   "cell_type": "code",
   "execution_count": null,
   "metadata": {},
   "outputs": [],
   "source": [
    "df.iloc[1]"
   ]
  },
  {
   "attachments": {},
   "cell_type": "markdown",
   "metadata": {},
   "source": [
    "Under the hood ```iloc``` essentially uses the ```DataFrame``` instances reset index:"
   ]
  },
  {
   "cell_type": "code",
   "execution_count": null,
   "metadata": {},
   "outputs": [],
   "source": [
    "df.reset_index(drop=True)"
   ]
  },
  {
   "cell_type": "code",
   "execution_count": null,
   "metadata": {},
   "outputs": [],
   "source": [
    "df.iloc[1]"
   ]
  },
  {
   "attachments": {},
   "cell_type": "markdown",
   "metadata": {},
   "source": [
    "When ```loc``` and ```iloc``` are used to select a single index, the data for each ```Series``` at this index is itself displayed as a ```Series```:"
   ]
  },
  {
   "cell_type": "code",
   "execution_count": null,
   "metadata": {},
   "outputs": [],
   "source": [
    "df.loc['b']"
   ]
  },
  {
   "cell_type": "code",
   "execution_count": null,
   "metadata": {},
   "outputs": [],
   "source": [
    "df.iloc[1]"
   ]
  },
  {
   "attachments": {},
   "cell_type": "markdown",
   "metadata": {},
   "source": [
    "Because each of the above are a ```Series``` instance, they can in turn be indexed into:"
   ]
  },
  {
   "cell_type": "code",
   "execution_count": null,
   "metadata": {},
   "outputs": [],
   "source": [
    "df.loc['b']['y']"
   ]
  },
  {
   "cell_type": "code",
   "execution_count": null,
   "metadata": {},
   "outputs": [],
   "source": [
    "df.iloc[1]['y']"
   ]
  },
  {
   "attachments": {},
   "cell_type": "markdown",
   "metadata": {},
   "source": [
    "When ```iloc``` and ```loc``` are instead used to select data from multiple indexes a ```DataFrame``` instance is output:"
   ]
  },
  {
   "cell_type": "code",
   "execution_count": null,
   "metadata": {},
   "outputs": [],
   "source": [
    "df.loc[['a', 'b']]"
   ]
  },
  {
   "cell_type": "code",
   "execution_count": null,
   "metadata": {},
   "outputs": [],
   "source": [
    "df.iloc[0:2]"
   ]
  },
  {
   "attachments": {},
   "cell_type": "markdown",
   "metadata": {},
   "source": [
    "And because each of these is a ```DataFrame``` instance, the ```Series``` within the ```DataFrame``` instance can then be indexed using the ```Series``` name:"
   ]
  },
  {
   "cell_type": "code",
   "execution_count": null,
   "metadata": {},
   "outputs": [],
   "source": [
    "df.loc[['a', 'b']]['x']"
   ]
  },
  {
   "cell_type": "code",
   "execution_count": null,
   "metadata": {},
   "outputs": [],
   "source": [
    "df.iloc[0:2]['x']"
   ]
  },
  {
   "attachments": {},
   "cell_type": "markdown",
   "metadata": {},
   "source": [
    "```at``` is used for a scalar selector and requires both the index and the ```Series``` name: "
   ]
  },
  {
   "cell_type": "code",
   "execution_count": null,
   "metadata": {},
   "outputs": [],
   "source": [
    "df.at['a', 'y']"
   ]
  },
  {
   "attachments": {},
   "cell_type": "markdown",
   "metadata": {},
   "source": [
    "The related integer at ```iat``` is also a scalar selector and requires both the index and column to be specified as integers:"
   ]
  },
  {
   "cell_type": "code",
   "execution_count": null,
   "metadata": {},
   "outputs": [],
   "source": [
    "df.iat[0, 1]"
   ]
  },
  {
   "attachments": {},
   "cell_type": "markdown",
   "metadata": {},
   "source": [
    "Conceptualise, the ```DataFrame``` being cast to a ```NDArray``` (2D) and indexing a value from it:"
   ]
  },
  {
   "cell_type": "code",
   "execution_count": null,
   "metadata": {},
   "outputs": [],
   "source": [
    "df.to_numpy()"
   ]
  },
  {
   "cell_type": "code",
   "execution_count": null,
   "metadata": {},
   "outputs": [],
   "source": [
    "df.to_numpy()[0, 1]"
   ]
  },
  {
   "attachments": {},
   "cell_type": "markdown",
   "metadata": {},
   "source": [
    "To recap, for a ```DataFrame``` instance:\n",
    "\n",
    "* ```__getitem__``` selects a ```Series``` by default\n",
    "* ```loc``` and ```iloc``` change the behaviour to select an observation from the ```Index``` instance label\n",
    "* ```at``` and ```iat``` select a scalar element\n"
   ]
  },
  {
   "attachments": {},
   "cell_type": "markdown",
   "metadata": {},
   "source": [
    "```loc``` can also be used to add a new observation to the ```DataFrame``` instance:"
   ]
  },
  {
   "cell_type": "code",
   "execution_count": null,
   "metadata": {},
   "outputs": [],
   "source": [
    "df"
   ]
  },
  {
   "cell_type": "code",
   "execution_count": null,
   "metadata": {},
   "outputs": [],
   "source": [
    "df.loc['f'] = {'x': 6.1, 'y': 6.2}"
   ]
  },
  {
   "cell_type": "code",
   "execution_count": null,
   "metadata": {},
   "outputs": [],
   "source": [
    "df.loc['e'] = {'x': 5.1, 'y': 5.2}"
   ]
  },
  {
   "cell_type": "markdown",
   "metadata": {},
   "source": [
    "The ordering of rows (also known as observations) follows the insertion order: "
   ]
  },
  {
   "cell_type": "code",
   "execution_count": null,
   "metadata": {},
   "outputs": [],
   "source": [
    "df"
   ]
  },
  {
   "cell_type": "markdown",
   "metadata": {},
   "source": [
    "The ```DataFrame``` method ```sort_index``` can be used to reorder the index: "
   ]
  },
  {
   "cell_type": "code",
   "execution_count": null,
   "metadata": {},
   "outputs": [],
   "source": [
    "df.sort_index(inplace=True)"
   ]
  },
  {
   "cell_type": "code",
   "execution_count": null,
   "metadata": {},
   "outputs": [],
   "source": [
    "df # modified inplace"
   ]
  },
  {
   "cell_type": "markdown",
   "metadata": {},
   "source": [
    "The ```Index``` instance can also be reset to a numeric index using the ```DataFrame``` instance ```reset_index```:"
   ]
  },
  {
   "cell_type": "code",
   "execution_count": null,
   "metadata": {},
   "outputs": [],
   "source": [
    "df.reset_index(drop=True, inplace=True)"
   ]
  },
  {
   "cell_type": "code",
   "execution_count": null,
   "metadata": {},
   "outputs": [],
   "source": [
    "df # modified inplace"
   ]
  },
  {
   "attachments": {},
   "cell_type": "markdown",
   "metadata": {},
   "source": [
    "The length of the ```DataFrame``` gives the number of rows (observations):"
   ]
  },
  {
   "cell_type": "code",
   "execution_count": null,
   "metadata": {},
   "outputs": [],
   "source": [
    "len(df)"
   ]
  },
  {
   "cell_type": "markdown",
   "metadata": {},
   "source": [
    "Python uses zero-order indexing and the ```Index``` starts at ```0``` (inclusive) and stops at ```len(df)``` (exclusive)."
   ]
  },
  {
   "attachments": {},
   "cell_type": "markdown",
   "metadata": {},
   "source": [
    "```iloc``` cannot be used to index into an index value that doesn't exist and cannot be used to add a new observation. However ```loc``` can be used to add a numeric index using the ```len``` of the ```DataFrame``` instance:"
   ]
  },
  {
   "cell_type": "code",
   "execution_count": null,
   "metadata": {},
   "outputs": [],
   "source": [
    "df.loc[len(df)] = {'x': 7.1, 'y': 7.2}"
   ]
  },
  {
   "cell_type": "code",
   "execution_count": null,
   "metadata": {},
   "outputs": [],
   "source": [
    "df"
   ]
  },
  {
   "attachments": {},
   "cell_type": "markdown",
   "metadata": {},
   "source": [
    "## DataFrame Properties"
   ]
  },
  {
   "attachments": {},
   "cell_type": "markdown",
   "metadata": {},
   "source": [
    "Supposing the following ```DataFrame``` is instantiated to ```df```:"
   ]
  },
  {
   "cell_type": "code",
   "execution_count": null,
   "metadata": {},
   "outputs": [],
   "source": [
    "df = pd.DataFrame(index=['a', 'b', 'c', 'd', 'e', 'f', 'g'],\n",
    "                  data={'x': np.array([1.1, 2.1, 3.1, 4.1, 5.1, 6.1, 7.1]),\n",
    "                        'y': np.array([1.2, 2.2, 3.2, 4.2, 5.2, 6.2, 7.2])})"
   ]
  },
  {
   "cell_type": "code",
   "execution_count": null,
   "metadata": {},
   "outputs": [],
   "source": [
    "df"
   ]
  },
  {
   "attachments": {},
   "cell_type": "markdown",
   "metadata": {},
   "source": [
    "The ```DataFrame``` instance has the following dimension related properties. The attribute ```empty``` returns a boolean that is ```True``` only with an empty DataFrame:"
   ]
  },
  {
   "cell_type": "code",
   "execution_count": null,
   "metadata": {},
   "outputs": [],
   "source": [
    "df.empty"
   ]
  },
  {
   "cell_type": "code",
   "execution_count": null,
   "metadata": {},
   "outputs": [],
   "source": [
    "pd.DataFrame(None).empty"
   ]
  },
  {
   "attachments": {},
   "cell_type": "markdown",
   "metadata": {},
   "source": [
    "A ```DataFrame``` instance has a length, which is returned by the ```builtins``` function ```len```. This was seen previously to correspond to the number of rows (number of observations):"
   ]
  },
  {
   "cell_type": "code",
   "execution_count": null,
   "metadata": {},
   "outputs": [],
   "source": [
    "len(df)"
   ]
  },
  {
   "attachments": {},
   "cell_type": "markdown",
   "metadata": {},
   "source": [
    "A ```DataFrame``` instance has the attribute ```shape``` which is a ```tuple``` of dimensions. The 1st dimension is the number of rows (observations in the index) and the 2nd value is the number of ```Series``` (columns):"
   ]
  },
  {
   "cell_type": "code",
   "execution_count": null,
   "metadata": {},
   "outputs": [],
   "source": [
    "df.shape"
   ]
  },
  {
   "attachments": {},
   "cell_type": "markdown",
   "metadata": {},
   "source": [
    "A ```DataFrame``` instance has the attribute ```ndim``` which gives the number fo dimensions and is always ```2```:"
   ]
  },
  {
   "cell_type": "code",
   "execution_count": null,
   "metadata": {},
   "outputs": [],
   "source": [
    "df.ndim"
   ]
  },
  {
   "attachments": {},
   "cell_type": "markdown",
   "metadata": {},
   "source": [
    "Recall this is equivalent to the length of the ```shape``` ```tuple```:"
   ]
  },
  {
   "cell_type": "code",
   "execution_count": null,
   "metadata": {},
   "outputs": [],
   "source": [
    "len(df.shape)"
   ]
  },
  {
   "attachments": {},
   "cell_type": "markdown",
   "metadata": {},
   "source": [
    "The ```DataFrame``` instance has a ```size``` attribute which is the product of the elements in the ```shape``` ```tuple```:"
   ]
  },
  {
   "cell_type": "code",
   "execution_count": null,
   "metadata": {},
   "outputs": [],
   "source": [
    "df.size"
   ]
  },
  {
   "attachments": {},
   "cell_type": "markdown",
   "metadata": {},
   "source": [
    "The ```index``` attribute returns the ```Index``` instance associated with the ```DataFrame```. An ```Index``` instance has a single dimension that can either be depicted as a row or a column. The output below displays this as a row although the index itself is conventionally depicted as a column when incorporated as part of a ```DataFrame```:"
   ]
  },
  {
   "cell_type": "code",
   "execution_count": null,
   "metadata": {},
   "outputs": [],
   "source": [
    "df.index"
   ]
  },
  {
   "attachments": {},
   "cell_type": "markdown",
   "metadata": {},
   "source": [
    "When no ```index``` is supplied during ```DataFrame``` instantiation a ```RangeIndex``` is automatically generated:"
   ]
  },
  {
   "cell_type": "code",
   "execution_count": null,
   "metadata": {},
   "outputs": [],
   "source": [
    "df2 = pd.DataFrame(data={'x': np.array([1.1, 2.1, 3.1, 3.1]),\n",
    "                         'y': np.array([1.2, 2.2, 3.2, 4.2])})"
   ]
  },
  {
   "cell_type": "code",
   "execution_count": null,
   "metadata": {},
   "outputs": [],
   "source": [
    "df2.index"
   ]
  },
  {
   "attachments": {},
   "cell_type": "markdown",
   "metadata": {},
   "source": [
    "The ```columns``` attribute also returns an ```Index``` instance corresponding to the names of each ```Series``` in the ```DataFrame```:"
   ]
  },
  {
   "cell_type": "code",
   "execution_count": null,
   "metadata": {},
   "outputs": [],
   "source": [
    "df.columns"
   ]
  },
  {
   "attachments": {},
   "cell_type": "markdown",
   "metadata": {},
   "source": [
    "The attribute ```axes``` returns a 2 element list, where the first element is the ```index``` attribute and the second element is the ```columns``` attribute:"
   ]
  },
  {
   "cell_type": "code",
   "execution_count": null,
   "metadata": {},
   "outputs": [],
   "source": [
    "df.axes"
   ]
  },
  {
   "attachments": {},
   "cell_type": "markdown",
   "metadata": {},
   "source": [
    "The attribute ```values``` returns the values in the ```DataFrame``` in the form of a ```NDArray``` (2D):"
   ]
  },
  {
   "cell_type": "code",
   "execution_count": null,
   "metadata": {},
   "outputs": [],
   "source": [
    "df.values"
   ]
  },
  {
   "attachments": {},
   "cell_type": "markdown",
   "metadata": {},
   "source": [
    "The attribute ```dtypes``` returns the datatypes of each ```Series``` and of the ```DataFrame```:"
   ]
  },
  {
   "cell_type": "code",
   "execution_count": null,
   "metadata": {},
   "outputs": [],
   "source": [
    "df.dtypes"
   ]
  },
  {
   "attachments": {},
   "cell_type": "markdown",
   "metadata": {},
   "source": [
    "The ```Series``` instances ```x``` and ```y``` are each of the datatype ```float64```, the ```DataFrame``` instance ```df``` is of the datatype ```object```. A ```DataFrame``` instance is always of the type ```object```."
   ]
  },
  {
   "attachments": {},
   "cell_type": "markdown",
   "metadata": {},
   "source": [
    "Each existing ```Series``` is accessible as an attribute:"
   ]
  },
  {
   "cell_type": "code",
   "execution_count": null,
   "metadata": {},
   "outputs": [],
   "source": [
    "df.x"
   ]
  },
  {
   "cell_type": "code",
   "execution_count": null,
   "metadata": {},
   "outputs": [],
   "source": [
    "df.y"
   ]
  },
  {
   "attachments": {},
   "cell_type": "markdown",
   "metadata": {},
   "source": [
    "The formal representation of the ```DataFrame``` instance ```df``` can be examined in a cell:"
   ]
  },
  {
   "cell_type": "code",
   "execution_count": null,
   "metadata": {},
   "outputs": [],
   "source": [
    "df"
   ]
  },
  {
   "attachments": {},
   "cell_type": "markdown",
   "metadata": {},
   "source": [
    "The attribute ```style``` can instead be used to display a ```DataFrame``` instance using a specific style. The default style is shown:"
   ]
  },
  {
   "cell_type": "code",
   "execution_count": null,
   "metadata": {},
   "outputs": [],
   "source": [
    "df.style"
   ]
  },
  {
   "attachments": {},
   "cell_type": "markdown",
   "metadata": {},
   "source": [
    "This ```style``` attribute has a number of stackable methods which return a modified ```style``` and can therefore be stacked to apply custom formatting:"
   ]
  },
  {
   "cell_type": "code",
   "execution_count": null,
   "metadata": {},
   "outputs": [],
   "source": [
    "print_identifier_group(df.style, kind='function')"
   ]
  },
  {
   "cell_type": "code",
   "execution_count": null,
   "metadata": {},
   "outputs": [],
   "source": [
    "df.style.format(precision=3).set_caption('DataFrame Instance')"
   ]
  },
  {
   "attachments": {},
   "cell_type": "markdown",
   "metadata": {},
   "source": [
    "The attributes ```attrs``` is an empty dictionary by default and is designed to store metadata associated with the ```DataFrame``` instance:"
   ]
  },
  {
   "cell_type": "code",
   "execution_count": null,
   "metadata": {},
   "outputs": [],
   "source": [
    "df.attrs"
   ]
  },
  {
   "attachments": {},
   "cell_type": "markdown",
   "metadata": {},
   "source": [
    "This metadata can include a text description giving information about how the data was collection or contain a link to where the data was sourced from:"
   ]
  },
  {
   "cell_type": "code",
   "execution_count": null,
   "metadata": {},
   "outputs": [],
   "source": [
    "df.attrs = {'description': 'this DataFrame was instantiated from a dict',\n",
    "            'documentation': r'https://pandas.pydata.org/docs/getting_started/index.html'}"
   ]
  },
  {
   "attachments": {},
   "cell_type": "markdown",
   "metadata": {},
   "source": [
    "The ```DataFrame``` method ```info``` gives information about the ```DataFrame```:"
   ]
  },
  {
   "cell_type": "code",
   "execution_count": null,
   "metadata": {},
   "outputs": [],
   "source": [
    "df.info()"
   ]
  },
  {
   "attachments": {},
   "cell_type": "markdown",
   "metadata": {},
   "source": [
    "The ```DataFrame``` method ```describe``` method gives supplementary descriptive statistics on each numeric ```Series```:"
   ]
  },
  {
   "cell_type": "code",
   "execution_count": null,
   "metadata": {},
   "outputs": [],
   "source": [
    "df.describe()"
   ]
  },
  {
   "attachments": {},
   "cell_type": "markdown",
   "metadata": {},
   "source": [
    "The ```DataFrame``` methods ```head``` and ```tail``` give the top 5 and last 5 observations by default and are usually used to preview a large ```DataFrame``` instance:"
   ]
  },
  {
   "cell_type": "code",
   "execution_count": null,
   "metadata": {},
   "outputs": [],
   "source": [
    "df"
   ]
  },
  {
   "cell_type": "code",
   "execution_count": null,
   "metadata": {},
   "outputs": [],
   "source": [
    "df.head()"
   ]
  },
  {
   "cell_type": "code",
   "execution_count": null,
   "metadata": {},
   "outputs": [],
   "source": [
    "df.tail()"
   ]
  },
  {
   "attachments": {},
   "cell_type": "markdown",
   "metadata": {},
   "source": [
    "The number of observations ```n``` defaults to ```5``` and can be changed:"
   ]
  },
  {
   "cell_type": "code",
   "execution_count": null,
   "metadata": {},
   "outputs": [],
   "source": [
    "df.head(n=3)"
   ]
  },
  {
   "attachments": {},
   "cell_type": "markdown",
   "metadata": {},
   "source": [
    "The ```DataFrame``` method ```nunique``` gives the number of unique observations for each ```Series```:"
   ]
  },
  {
   "cell_type": "code",
   "execution_count": null,
   "metadata": {},
   "outputs": [],
   "source": [
    "df.nunique()"
   ]
  },
  {
   "attachments": {},
   "cell_type": "markdown",
   "metadata": {},
   "source": [
    "## Attribute Access - Dictionary Syntax vs Dot Syntax"
   ]
  },
  {
   "attachments": {},
   "cell_type": "markdown",
   "metadata": {},
   "source": [
    "If the following ```DataFrame``` is instantiated to ```df```:"
   ]
  },
  {
   "cell_type": "code",
   "execution_count": null,
   "metadata": {},
   "outputs": [],
   "source": [
    "df = pd.DataFrame(index = np.array(['a', 'b', 'c', 'd']),\n",
    "                  data={'x': np.array([1.1, 2.1, 3.1, 4.1]),\n",
    "                        'y': np.array([1.2, 2.2, 3.2, 4.2])})"
   ]
  },
  {
   "cell_type": "code",
   "execution_count": null,
   "metadata": {},
   "outputs": [],
   "source": [
    "df"
   ]
  },
  {
   "attachments": {},
   "cell_type": "markdown",
   "metadata": {},
   "source": [
    "Each ```Series``` can be accessed from the ```DataFrame``` instance ```df``` by indexing into ```df``` using the corresponding ```Series``` ```name``` enclosed in square brackets. This style of ```Series``` access is analogous to retrieving a value from a ```dict``` by use of its ```key```:"
   ]
  },
  {
   "cell_type": "code",
   "execution_count": null,
   "metadata": {},
   "outputs": [],
   "source": [
    "df['x']"
   ]
  },
  {
   "attachments": {},
   "cell_type": "markdown",
   "metadata": {},
   "source": [
    "Since the following is ```True```:"
   ]
  },
  {
   "cell_type": "code",
   "execution_count": null,
   "metadata": {},
   "outputs": [],
   "source": [
    "'x'.isidentifier()"
   ]
  },
  {
   "attachments": {},
   "cell_type": "markdown",
   "metadata": {},
   "source": [
    "```x``` becomes an attribute and can also be accessed using:"
   ]
  },
  {
   "cell_type": "code",
   "execution_count": null,
   "metadata": {},
   "outputs": [],
   "source": [
    "df.x"
   ]
  },
  {
   "cell_type": "code",
   "execution_count": null,
   "metadata": {},
   "outputs": [],
   "source": [
    "df.x is df['x']"
   ]
  },
  {
   "attachments": {},
   "cell_type": "markdown",
   "metadata": {},
   "source": [
    "A ```Series``` ```name``` only becomes an attribute of a DataFrame **after** it is instantiated and if it is a valid identifier:"
   ]
  },
  {
   "cell_type": "code",
   "execution_count": null,
   "metadata": {},
   "outputs": [],
   "source": [
    "df['z1'] = np.array([1.3, 2.3, 2.3, 2.4])"
   ]
  },
  {
   "cell_type": "code",
   "execution_count": null,
   "metadata": {},
   "outputs": [],
   "source": [
    "df"
   ]
  },
  {
   "cell_type": "code",
   "execution_count": null,
   "metadata": {},
   "outputs": [],
   "source": [
    "df.z1"
   ]
  },
  {
   "attachments": {},
   "cell_type": "markdown",
   "metadata": {},
   "source": [
    "A ```UserWarning``` displays if the dot syntax is used in an attempt to create a new attribute, leaving the ```df``` instance unchanged. \n",
    "\n",
    "Notice when an invalid identifier is used as the ```nam``` for a new ```Series```:"
   ]
  },
  {
   "cell_type": "code",
   "execution_count": null,
   "metadata": {},
   "outputs": [],
   "source": [
    "'1'.isidentifier()"
   ]
  },
  {
   "cell_type": "code",
   "execution_count": null,
   "metadata": {},
   "outputs": [],
   "source": [
    "df['1'] = np.array([1.3, 2.3, 2.3, 2.4])"
   ]
  },
  {
   "cell_type": "markdown",
   "metadata": {},
   "source": [
    "That it does not show as an attribute:"
   ]
  },
  {
   "cell_type": "code",
   "execution_count": null,
   "metadata": {},
   "outputs": [],
   "source": [
    "print_identifier_group(df, kind='attribute')"
   ]
  },
  {
   "attachments": {},
   "cell_type": "markdown",
   "metadata": {},
   "source": [
    "For this reason ```Series``` names should generally follow the naming conventions of Python identifiers."
   ]
  },
  {
   "attachments": {},
   "cell_type": "markdown",
   "metadata": {},
   "source": [
    "Although the dot attribute access from the ```DataFrame``` instance ```df``` is unavailable for this Series instance ```'1'```. The Series instance ```'1'``` can still be accessed by indexing into the ```DataFrame``` instance ```df``` using the ```Series``` ```name``` ```'1'```:"
   ]
  },
  {
   "cell_type": "code",
   "execution_count": null,
   "metadata": {},
   "outputs": [],
   "source": [
    "df['1']"
   ]
  },
  {
   "attachments": {},
   "cell_type": "markdown",
   "metadata": {},
   "source": [
    "Accessing a ```Series``` via dictionary-style indexing is therefore more powerful and this syntax is generally preferred."
   ]
  },
  {
   "attachments": {},
   "cell_type": "markdown",
   "metadata": {},
   "source": [
    "The major drawback of the dictionary-style indexing syntax is with code-completion. Notice no docstring displays when ```?``` is used:"
   ]
  },
  {
   "cell_type": "code",
   "execution_count": null,
   "metadata": {},
   "outputs": [],
   "source": [
    "df['x'].info?"
   ]
  },
  {
   "cell_type": "code",
   "execution_count": null,
   "metadata": {},
   "outputs": [],
   "source": [
    "df['x'].info()"
   ]
  },
  {
   "attachments": {},
   "cell_type": "markdown",
   "metadata": {},
   "source": [
    "However if the attribute is used, the docstring displays:"
   ]
  },
  {
   "cell_type": "code",
   "execution_count": null,
   "metadata": {},
   "outputs": [],
   "source": [
    "df.x.info?"
   ]
  },
  {
   "cell_type": "code",
   "execution_count": null,
   "metadata": {},
   "outputs": [],
   "source": [
    "df.x.info()"
   ]
  },
  {
   "attachments": {},
   "cell_type": "markdown",
   "metadata": {},
   "source": [
    "The ```Series``` method info gives the same result in both cases."
   ]
  },
  {
   "attachments": {},
   "cell_type": "markdown",
   "metadata": {},
   "source": [
    "When the ```name``` used in an  ```Index``` is also a valid identifier:"
   ]
  },
  {
   "cell_type": "code",
   "execution_count": null,
   "metadata": {},
   "outputs": [],
   "source": [
    "'a'.isidentifier()"
   ]
  },
  {
   "attachments": {},
   "cell_type": "markdown",
   "metadata": {},
   "source": [
    "It will be available as an attribute for each  ```Series```:"
   ]
  },
  {
   "cell_type": "code",
   "execution_count": null,
   "metadata": {},
   "outputs": [],
   "source": [
    "df.x.a"
   ]
  },
  {
   "attachments": {},
   "cell_type": "markdown",
   "metadata": {},
   "source": [
    "The default ```Index``` is numeric ```RangeIndex``` of integer steps which are invalid identifiers:"
   ]
  },
  {
   "cell_type": "code",
   "execution_count": null,
   "metadata": {},
   "outputs": [],
   "source": [
    "'0'.isidentifier()"
   ]
  },
  {
   "attachments": {},
   "cell_type": "markdown",
   "metadata": {},
   "source": [
    "And therefore when the default ```RangeIndex``` is used:"
   ]
  },
  {
   "cell_type": "code",
   "execution_count": null,
   "metadata": {},
   "outputs": [],
   "source": [
    "df = pd.DataFrame(data={'x': np.array([1.1, 2.1, 3.1, 4.1]),\n",
    "                        'y': np.array([1.2, 2.2, 3.2, 4.2])})"
   ]
  },
  {
   "cell_type": "code",
   "execution_count": null,
   "metadata": {},
   "outputs": [],
   "source": [
    "df"
   ]
  },
  {
   "attachments": {},
   "cell_type": "markdown",
   "metadata": {},
   "source": [
    "Because these are invalid identifiers they do not show as attributes for any of the ```Series``` belonging to the ```DataFrame``` instance:"
   ]
  },
  {
   "cell_type": "code",
   "execution_count": null,
   "metadata": {},
   "outputs": [],
   "source": [
    "print_identifier_group(df['x'], kind='attribute')"
   ]
  },
  {
   "attachments": {},
   "cell_type": "markdown",
   "metadata": {},
   "source": [
    "However the ```rows``` can be selected by indexing the numeric index in square brackets:"
   ]
  },
  {
   "cell_type": "code",
   "execution_count": null,
   "metadata": {},
   "outputs": [],
   "source": [
    "df['x'][1]"
   ]
  },
  {
   "attachments": {},
   "cell_type": "markdown",
   "metadata": {},
   "source": [
    "## Combining DataFrames"
   ]
  },
  {
   "attachments": {},
   "cell_type": "markdown",
   "metadata": {},
   "source": [
    "```DataFrame``` methods are generally setup for ```Series```. For example if the following ```DataFrame``` instance is examined:"
   ]
  },
  {
   "cell_type": "code",
   "execution_count": null,
   "metadata": {},
   "outputs": [],
   "source": [
    "df = pd.DataFrame(data={'x': np.array([1.1, 2.1, 3.1, 4.1]),\n",
    "                        'y': np.array([1.2, 2.2, 3.2, 4.2])})"
   ]
  },
  {
   "cell_type": "code",
   "execution_count": null,
   "metadata": {},
   "outputs": [],
   "source": [
    "df"
   ]
  },
  {
   "attachments": {},
   "cell_type": "markdown",
   "metadata": {},
   "source": [
    "A ```Series``` is typically appended to the end of the ```DataFrame``` by use of:"
   ]
  },
  {
   "cell_type": "code",
   "execution_count": null,
   "metadata": {},
   "outputs": [],
   "source": [
    "df['z'] = np.array([1.3, 2.3, 3.3, 4.3])"
   ]
  },
  {
   "cell_type": "code",
   "execution_count": null,
   "metadata": {},
   "outputs": [],
   "source": [
    "df"
   ]
  },
  {
   "attachments": {},
   "cell_type": "markdown",
   "metadata": {},
   "source": [
    "Alternatively a ```Series``` can be inserted at a specified index using the mutable method ```insert```:"
   ]
  },
  {
   "cell_type": "code",
   "execution_count": null,
   "metadata": {},
   "outputs": [],
   "source": [
    "df.insert?"
   ]
  },
  {
   "cell_type": "code",
   "execution_count": null,
   "metadata": {},
   "outputs": [],
   "source": [
    "df.insert(loc=0, column='w', value=np.array([1.0, 2.0, 3.0, 4.0]))"
   ]
  },
  {
   "cell_type": "code",
   "execution_count": null,
   "metadata": {},
   "outputs": [],
   "source": [
    "df"
   ]
  },
  {
   "attachments": {},
   "cell_type": "markdown",
   "metadata": {},
   "source": [
    "Recall to append an observation to a ```DataFrame```, ```loc``` is typically used and assigned to a mapping where the keys are the column names and the values are the associated values at that observation:"
   ]
  },
  {
   "cell_type": "code",
   "execution_count": null,
   "metadata": {},
   "outputs": [],
   "source": [
    "df.loc[len(df)] = {'w': 5.0, 'x': 5.1, 'y': 5.2, 'z': 5.3}"
   ]
  },
  {
   "cell_type": "code",
   "execution_count": null,
   "metadata": {},
   "outputs": [],
   "source": [
    "df"
   ]
  },
  {
   "attachments": {},
   "cell_type": "markdown",
   "metadata": {},
   "source": [
    "When multiple observations are to be appended to a ```DataFrame``` they are normally in the form of a ```DataFrame```:"
   ]
  },
  {
   "cell_type": "code",
   "execution_count": null,
   "metadata": {},
   "outputs": [],
   "source": [
    "df2 = pd.DataFrame(index=np.array([5, 6]),\n",
    "                                  data = {'w': np.array([6.0, 7.0]),\n",
    "                                          'x': np.array([6.1, 7.1]),\n",
    "                                          'y': np.array([6.2, 7.2]),\n",
    "                                          'z': np.array([6.3, 7.3])})"
   ]
  },
  {
   "cell_type": "code",
   "execution_count": null,
   "metadata": {},
   "outputs": [],
   "source": [
    "df"
   ]
  },
  {
   "cell_type": "code",
   "execution_count": null,
   "metadata": {},
   "outputs": [],
   "source": [
    "df2"
   ]
  },
  {
   "attachments": {},
   "cell_type": "markdown",
   "metadata": {},
   "source": [
    "The function ```pd.concat``` can be used to concatenate these two ```DataFrame``` instances:"
   ]
  },
  {
   "cell_type": "code",
   "execution_count": null,
   "metadata": {},
   "outputs": [],
   "source": [
    "pd.concat?"
   ]
  },
  {
   "attachments": {},
   "cell_type": "markdown",
   "metadata": {},
   "source": [
    "For example, ```df``` and ```df2``` can be concatenated along ```axis``` ```0``` which recall is ```'rows'``` (the index):"
   ]
  },
  {
   "cell_type": "code",
   "execution_count": null,
   "metadata": {},
   "outputs": [],
   "source": [
    "pd.concat(objs=[df, df2], axis='rows') #'index'"
   ]
  },
  {
   "attachments": {},
   "cell_type": "markdown",
   "metadata": {},
   "source": [
    "If these ```DataFrame``` instances are created with the default indexes:"
   ]
  },
  {
   "cell_type": "code",
   "execution_count": null,
   "metadata": {},
   "outputs": [],
   "source": [
    "df.reset_index(drop=True, inplace=True)\n",
    "df"
   ]
  },
  {
   "cell_type": "code",
   "execution_count": null,
   "metadata": {},
   "outputs": [],
   "source": [
    "df2.reset_index(drop=True, inplace=True)\n",
    "df2"
   ]
  },
  {
   "attachments": {},
   "cell_type": "markdown",
   "metadata": {},
   "source": [
    "Notice the index now has duplicate entires:"
   ]
  },
  {
   "cell_type": "code",
   "execution_count": null,
   "metadata": {},
   "outputs": [],
   "source": [
    "pd.concat(objs=[df, df2])"
   ]
  },
  {
   "attachments": {},
   "cell_type": "markdown",
   "metadata": {},
   "source": [
    "In such a scenario it is common to assign ```ignore_index``` to ```True``` which will recreate a numeric ```RangeIndex```:"
   ]
  },
  {
   "cell_type": "code",
   "execution_count": null,
   "metadata": {},
   "outputs": [],
   "source": [
    "pd.concat([df, df2], ignore_index=True)"
   ]
  },
  {
   "attachments": {},
   "cell_type": "markdown",
   "metadata": {},
   "source": [
    "When a ```DataFrame``` instance has a ```Series``` not in common with the second ```DataFrame``` instance being concatenated:"
   ]
  },
  {
   "cell_type": "code",
   "execution_count": null,
   "metadata": {},
   "outputs": [],
   "source": [
    "df = pd.DataFrame(data={'x': np.array([1.1, 2.1, 3.1, 4.1]),\n",
    "                        'y': np.array([1.2, 2.2, 3.2, 4.2])})"
   ]
  },
  {
   "cell_type": "code",
   "execution_count": null,
   "metadata": {},
   "outputs": [],
   "source": [
    "df2 = pd.DataFrame(data = {'w': np.array([6.0, 7.0]),\n",
    "                           'z': np.array([6.3, 7.3])})"
   ]
  },
  {
   "cell_type": "code",
   "execution_count": null,
   "metadata": {},
   "outputs": [],
   "source": [
    "df"
   ]
  },
  {
   "cell_type": "code",
   "execution_count": null,
   "metadata": {},
   "outputs": [],
   "source": [
    "df2"
   ]
  },
  {
   "attachments": {},
   "cell_type": "markdown",
   "metadata": {},
   "source": [
    "The ```DataFrame``` instances can be ```'outer'``` joined (the default). This will lead to ```NaN``` values where no data was supplied:"
   ]
  },
  {
   "cell_type": "code",
   "execution_count": null,
   "metadata": {},
   "outputs": [],
   "source": [
    "pd.concat(objs=[df, df2], axis='columns', join='outer') #'columns'"
   ]
  },
  {
   "attachments": {},
   "cell_type": "markdown",
   "metadata": {},
   "source": [
    "Alternatively the two ```DataFrame``` instances can be ```'inner'``` joined, which will drop the observations that are missing data:"
   ]
  },
  {
   "cell_type": "code",
   "execution_count": null,
   "metadata": {},
   "outputs": [],
   "source": [
    "pd.concat([df, df2], axis='columns', join='inner') #'columns'"
   ]
  },
  {
   "attachments": {},
   "cell_type": "markdown",
   "metadata": {},
   "source": [
    "The ```DataFrame``` method ```align``` can be used to align the data of a ```DataFrame``` with another ```DataFrame``` instance for the purpose of comparison:"
   ]
  },
  {
   "cell_type": "code",
   "execution_count": null,
   "metadata": {},
   "outputs": [],
   "source": [
    "df3 = pd.concat([df, df2], axis=1, join='inner') #'columns'"
   ]
  },
  {
   "cell_type": "code",
   "execution_count": null,
   "metadata": {},
   "outputs": [],
   "source": [
    "df.align(other=df3)"
   ]
  },
  {
   "attachments": {},
   "cell_type": "markdown",
   "metadata": {},
   "source": [
    "## Not Available Values"
   ]
  },
  {
   "attachments": {},
   "cell_type": "markdown",
   "metadata": {},
   "source": [
    "The following ```DataFrame``` can be instantiated to ```df``` with multiple ```None``` values:"
   ]
  },
  {
   "cell_type": "code",
   "execution_count": null,
   "metadata": {},
   "outputs": [],
   "source": [
    "df = pd.DataFrame(index=['a', 'b', 'c', 'd', 'e', 'f', 'g'],\n",
    "                  data={'x': np.array([1.1, None, 3.1, None, 5.1, None, 7.1]),\n",
    "                        'y': np.array([1.2, None, 3.2, 4.2, 5.2, 6.2, 7.2])})"
   ]
  },
  {
   "attachments": {},
   "cell_type": "markdown",
   "metadata": {},
   "source": [
    "The ```DataFrame``` instance ```df``` information can be examined. Notice that there are 7 rows; 4 rows have available (non-null) values in ```Series``` instance ```x``` and ```6``` rows have available (non-null) values in ```Series``` instance ```y```:"
   ]
  },
  {
   "cell_type": "code",
   "execution_count": null,
   "metadata": {},
   "outputs": [],
   "source": [
    "df.info()"
   ]
  },
  {
   "attachments": {},
   "cell_type": "markdown",
   "metadata": {},
   "source": [
    "The ```DataFrame``` instance ```df``` descriptive statistics can be viewed:"
   ]
  },
  {
   "cell_type": "code",
   "execution_count": null,
   "metadata": {},
   "outputs": [],
   "source": [
    "df.describe()"
   ]
  },
  {
   "attachments": {},
   "cell_type": "markdown",
   "metadata": {},
   "source": [
    "Notice in the information that the datatype is now ```object``` instead of ```float64```. The ```DataFrame``` instance uses the datatype ```object``` for each ```Series``` because each of these ```Series``` contain the value ```None``` which is a generic Python ```object```:"
   ]
  },
  {
   "cell_type": "code",
   "execution_count": null,
   "metadata": {},
   "outputs": [],
   "source": [
    "df"
   ]
  },
  {
   "cell_type": "markdown",
   "metadata": {},
   "source": [
    "The datatype of each ```Series``` in the ```DataFrame``` can be changed to a ```float``` using the method ```astype```:"
   ]
  },
  {
   "cell_type": "code",
   "execution_count": null,
   "metadata": {},
   "outputs": [],
   "source": [
    "df.astype(float)"
   ]
  },
  {
   "attachments": {},
   "cell_type": "markdown",
   "metadata": {},
   "source": [
    "Notice the values that were previously ```None``` are cast into ```NaN``` (Not a Number). ```NaN``` conceptually is similar to ```None``` however it has a datatype of ```float``` and is therefore designated as being numeric. ```Series``` instances that only have numeric data inclusive of ```NaN``` therefore have the datatype ```float```. Both ```None``` and ```NaN``` are classified as ```not available``` values and are known collectively as ```null``` values.\n",
    "\n",
    "The changes can be seen when the ```DataFrame``` method ```info``` is used on the returned ```DataFrame``` instance:"
   ]
  },
  {
   "cell_type": "code",
   "execution_count": null,
   "metadata": {},
   "outputs": [],
   "source": [
    "df.astype(float).info()"
   ]
  },
  {
   "cell_type": "markdown",
   "metadata": {},
   "source": [
    "Notice the changes when the ```DataFrame``` method ```describe``` is used on the returned ```DataFrame``` instance. Because each ```Series``` is numeric additional statics can be calculated:"
   ]
  },
  {
   "cell_type": "code",
   "execution_count": null,
   "metadata": {},
   "outputs": [],
   "source": [
    "df.astype(float).describe()"
   ]
  },
  {
   "attachments": {},
   "cell_type": "markdown",
   "metadata": {},
   "source": [
    "The ```DataFrame``` method drop not available ```dropna``` can be used to drop not available values (```None``` or ```NaN``` values) outputting a new ```DataFrame``` instance. Notice the number of rows is now reduced to 4: "
   ]
  },
  {
   "cell_type": "code",
   "execution_count": null,
   "metadata": {},
   "outputs": [],
   "source": [
    "df.dropna()"
   ]
  },
  {
   "attachments": {},
   "cell_type": "markdown",
   "metadata": {},
   "source": [
    "If the ```DataFrame``` method ```info``` is used on this new ```DataFrame``` instance, notice the datatype of each ```Series``` is still ```object``` and not ```float64```:"
   ]
  },
  {
   "cell_type": "code",
   "execution_count": null,
   "metadata": {},
   "outputs": [],
   "source": [
    "df.dropna().info()"
   ]
  },
  {
   "attachments": {},
   "cell_type": "markdown",
   "metadata": {},
   "source": [
    "The ```DataFrame``` method ```astype``` can be used to change the datatype of each ```Series``` in the returned ```DataFrame``` to ```float``` once again and this once again outputs a new ```DataFrame``` instance. If the ```DataFrame``` method ```info``` is examined for this new ```DataFrame``` instance, each ```Series``` now has a ```float64``` datatype:"
   ]
  },
  {
   "cell_type": "code",
   "execution_count": null,
   "metadata": {},
   "outputs": [],
   "source": [
    "df.dropna().astype(float).info()"
   ]
  },
  {
   "cell_type": "markdown",
   "metadata": {},
   "source": [
    "Note ```DataFrame``` methods are often stacked for convenience:\n",
    "\n",
    "* df # Original DataFrame instance 1\n",
    "* df.drop(na) # returns a DataFrame instance 2\n",
    "* df.drop(na).astype(float) # returns a DataFrame instance 3\n",
    "\n",
    "A ```Series``` can also be selected from ```DataFrame``` instance 3:"
   ]
  },
  {
   "cell_type": "code",
   "execution_count": null,
   "metadata": {},
   "outputs": [],
   "source": [
    "df.dropna().astype(float)['x']"
   ]
  },
  {
   "cell_type": "markdown",
   "metadata": {},
   "source": [
    "And a ```Series``` method ```astype``` can be used on this ```Series``` returning another ```Series```:"
   ]
  },
  {
   "cell_type": "code",
   "execution_count": null,
   "metadata": {},
   "outputs": [],
   "source": [
    "df.dropna().astype(float)['x'].astype(int)"
   ]
  },
  {
   "attachments": {},
   "cell_type": "markdown",
   "metadata": {},
   "source": [
    "The ```DataFrame``` method ```dropna``` was demonstrated over a small ```DataFrame``` instance with a small number of rows. This method is however usually only typically employed on a ```DataFrame``` that contains a large number of rows that has enough data for further analysis without that isn't influence too much by the missing values. For a sparse dataset, it is common to attempt to fill in the missign values in some way. The ```DataFrame``` method ```fillna``` can be used to fill in not available values. These can be filled with a constant value:"
   ]
  },
  {
   "cell_type": "code",
   "execution_count": null,
   "metadata": {},
   "outputs": [],
   "source": [
    "df.fillna(0)"
   ]
  },
  {
   "cell_type": "code",
   "execution_count": null,
   "metadata": {},
   "outputs": [],
   "source": [
    "df.fillna(np.inf)"
   ]
  },
  {
   "attachments": {},
   "cell_type": "markdown",
   "metadata": {},
   "source": [
    "Alternatively the ```DataFrame``` method ```ffill``` can be used to linearly forward fill missing data. When using the forward fill, the previous available value is used to replace the not available value:"
   ]
  },
  {
   "cell_type": "code",
   "execution_count": null,
   "metadata": {},
   "outputs": [],
   "source": [
    "df.ffill()"
   ]
  },
  {
   "cell_type": "markdown",
   "metadata": {},
   "source": [
    "This can be aligned with the original ```DataFrame``` instance for comparison:"
   ]
  },
  {
   "cell_type": "code",
   "execution_count": null,
   "metadata": {},
   "outputs": [],
   "source": [
    "df.ffill().align(df)"
   ]
  },
  {
   "cell_type": "markdown",
   "metadata": {},
   "source": [
    "The related ```DataFrame``` method ```bfill``` can be used to linearly backwards fill missing data. When using the backward fill, the subsequent available value is used to replace the not available value:"
   ]
  },
  {
   "cell_type": "code",
   "execution_count": null,
   "metadata": {},
   "outputs": [],
   "source": [
    "df.bfill().align(df)"
   ]
  },
  {
   "attachments": {},
   "cell_type": "markdown",
   "metadata": {},
   "source": [
    "The ```DataFrame``` method ```interpolate``` method can use neighbouring datapoints to interpolate a missing value. It has a keyword input argument ```method``` which can be used to specify an interpolation method. Note that all the data in the ```DataFrame``` must be cast to numeric for the ```interpolate``` method to be used:"
   ]
  },
  {
   "cell_type": "code",
   "execution_count": null,
   "metadata": {},
   "outputs": [],
   "source": [
    "df.astype(float).interpolate(method='linear')"
   ]
  },
  {
   "cell_type": "markdown",
   "metadata": {},
   "source": [
    "Sometimes it is preferable to use the ```Series``` method ```interpolate``` which is consistent:"
   ]
  },
  {
   "cell_type": "code",
   "execution_count": null,
   "metadata": {},
   "outputs": [],
   "source": [
    "df['x'].astype(float).interpolate(method='linear')"
   ]
  },
  {
   "cell_type": "markdown",
   "metadata": {},
   "source": [
    "Many of the interpolation methods need a numeric index to work properly:"
   ]
  },
  {
   "cell_type": "code",
   "execution_count": null,
   "metadata": {},
   "outputs": [],
   "source": [
    "df['x'].astype(float).reset_index(drop=True).interpolate(method='linear')"
   ]
  },
  {
   "cell_type": "markdown",
   "metadata": {},
   "source": [
    "A new ```DataFrame``` instance can be created where each ```Series``` is an interpolated method used on the original ```Series``` ```'x'```. The ```Series``` methods ```astype``` and ```reset_index``` will be used to cast the ```Series``` ```'x'``` to a ```float``` with a numeric index. The original index from the ```Series``` ```'x'``` can be assigned to the new ```DataFrame``` instance after the interpolation:"
   ]
  },
  {
   "cell_type": "code",
   "execution_count": null,
   "metadata": {},
   "outputs": [],
   "source": [
    "df2 = pd.DataFrame({'x': df['x'].astype(float).reset_index(drop=True),\n",
    "                    'x_1': df['x'].astype(float).reset_index(drop=True).interpolate(method='linear'),\n",
    "                    'x_2': df['x'].astype(float).reset_index(drop=True).interpolate(method='polynomial', order=2),\n",
    "                    'x_3': df['x'].astype(float).reset_index(drop=True).interpolate(method='polynomial', order=3)})\n",
    "df2.index = df['x'].index"
   ]
  },
  {
   "cell_type": "code",
   "execution_count": null,
   "metadata": {},
   "outputs": [],
   "source": [
    "df2"
   ]
  },
  {
   "attachments": {},
   "cell_type": "markdown",
   "metadata": {},
   "source": [
    "The ```DataFrame``` method ```isna``` returns a boolean ```DataFrame``` instance which is ```True``` for not available values and ```False``` otherwise:"
   ]
  },
  {
   "cell_type": "code",
   "execution_count": null,
   "metadata": {},
   "outputs": [],
   "source": [
    "df.isna()"
   ]
  },
  {
   "attachments": {},
   "cell_type": "markdown",
   "metadata": {},
   "source": [
    "The opposite method ```notna``` returns a boolean ```DataFrame``` of inverse values:"
   ]
  },
  {
   "cell_type": "code",
   "execution_count": null,
   "metadata": {},
   "outputs": [],
   "source": [
    "df.notna().align(df.isna())"
   ]
  },
  {
   "attachments": {},
   "cell_type": "markdown",
   "metadata": {},
   "source": [
    "These two methods have the alias ```isnull``` and ```notnull``` respectively which are used for consistency with the R programming language."
   ]
  },
  {
   "cell_type": "markdown",
   "metadata": {},
   "source": [
    "The boolean mask above can be used to index into the ```DataFrame``` instance:"
   ]
  },
  {
   "cell_type": "code",
   "execution_count": null,
   "metadata": {},
   "outputs": [],
   "source": [
    "bool_mask = df.notna()"
   ]
  },
  {
   "attachments": {},
   "cell_type": "markdown",
   "metadata": {},
   "source": [
    "Notice indexing using the boolean mask updates ```None``` to ```NaN```:"
   ]
  },
  {
   "cell_type": "code",
   "execution_count": null,
   "metadata": {},
   "outputs": [],
   "source": [
    "df"
   ]
  },
  {
   "cell_type": "code",
   "execution_count": null,
   "metadata": {},
   "outputs": [],
   "source": [
    "df[bool_mask]"
   ]
  },
  {
   "attachments": {},
   "cell_type": "markdown",
   "metadata": {},
   "source": [
    "## String Series and String Methods"
   ]
  },
  {
   "attachments": {},
   "cell_type": "markdown",
   "metadata": {},
   "source": [
    "Supposing the following list of words is instantiated:"
   ]
  },
  {
   "cell_type": "code",
   "execution_count": null,
   "metadata": {},
   "outputs": [],
   "source": [
    "words = 'the quick brown for jumped over the lazy dog'.split()"
   ]
  },
  {
   "cell_type": "code",
   "execution_count": null,
   "metadata": {},
   "outputs": [],
   "source": [
    "words"
   ]
  },
  {
   "attachments": {},
   "cell_type": "markdown",
   "metadata": {},
   "source": [
    "Using ```len``` of words will return the number of words in the outer collection which is the ```list``` and not the length of each inner collection which is the word:"
   ]
  },
  {
   "cell_type": "code",
   "execution_count": null,
   "metadata": {},
   "outputs": [],
   "source": [
    "len(words)"
   ]
  },
  {
   "attachments": {},
   "cell_type": "markdown",
   "metadata": {},
   "source": [
    "To instead get a ```list``` of the length of each word, ```list``` comprehension can be used:"
   ]
  },
  {
   "cell_type": "code",
   "execution_count": null,
   "metadata": {},
   "outputs": [],
   "source": [
    "[len(word) for word in words]"
   ]
  },
  {
   "attachments": {},
   "cell_type": "markdown",
   "metadata": {},
   "source": [
    "This can also be done using ```map```:"
   ]
  },
  {
   "cell_type": "code",
   "execution_count": null,
   "metadata": {},
   "outputs": [],
   "source": [
    "map(len, words)"
   ]
  },
  {
   "cell_type": "code",
   "execution_count": null,
   "metadata": {},
   "outputs": [],
   "source": [
    "list(map(len, words))"
   ]
  },
  {
   "attachments": {},
   "cell_type": "markdown",
   "metadata": {},
   "source": [
    "If an analogous ```Series``` is instantiated to ```words```:"
   ]
  },
  {
   "cell_type": "code",
   "execution_count": null,
   "metadata": {},
   "outputs": [],
   "source": [
    "words = pd.Series(data='the quick brown for jumped over the lazy dog'.split())"
   ]
  },
  {
   "cell_type": "code",
   "execution_count": null,
   "metadata": {},
   "outputs": [],
   "source": [
    "words"
   ]
  },
  {
   "attachments": {},
   "cell_type": "markdown",
   "metadata": {},
   "source": [
    "Using ```len``` on the ```Series``` will return the number of rows:"
   ]
  },
  {
   "cell_type": "code",
   "execution_count": null,
   "metadata": {},
   "outputs": [],
   "source": [
    "len(words)"
   ]
  },
  {
   "attachments": {},
   "cell_type": "markdown",
   "metadata": {},
   "source": [
    "The ```Series``` method ```map``` is similar to the ```builtins``` function ```map``` and can be used to individually ```map``` a ```function``` to the ```Series```:"
   ]
  },
  {
   "cell_type": "code",
   "execution_count": null,
   "metadata": {},
   "outputs": [],
   "source": [
    "words.map(len)"
   ]
  },
  {
   "attachments": {},
   "cell_type": "markdown",
   "metadata": {},
   "source": [
    "Since every element in the ```Series``` is a ```str``` instance, a ```str``` method can be applied to each element using ```map``` and a ```lambda``` expression:"
   ]
  },
  {
   "cell_type": "code",
   "execution_count": null,
   "metadata": {},
   "outputs": [],
   "source": [
    "words.map(lambda str: str.upper())"
   ]
  },
  {
   "cell_type": "markdown",
   "metadata": {},
   "source": [
    "Recall that ```str``` instances are ordinal and the ```builtins``` universal ```max``` function can be mapped to get a ```Series``` that has the letter corresponding to the highest ordinal value in the word:"
   ]
  },
  {
   "cell_type": "code",
   "execution_count": null,
   "metadata": {},
   "outputs": [],
   "source": [
    "words.map(max)"
   ]
  },
  {
   "cell_type": "markdown",
   "metadata": {},
   "source": [
    "If the ```DataFrame``` is instantiated to ```df```:"
   ]
  },
  {
   "cell_type": "code",
   "execution_count": null,
   "metadata": {},
   "outputs": [],
   "source": [
    "df = pd.DataFrame({'words': words,\n",
    "                   'maximum': words.map(max)})"
   ]
  },
  {
   "cell_type": "code",
   "execution_count": null,
   "metadata": {},
   "outputs": [],
   "source": [
    "df"
   ]
  },
  {
   "cell_type": "markdown",
   "metadata": {},
   "source": [
    "The ```DataFrame``` has a consistent method ```map``` which operates element by element:"
   ]
  },
  {
   "cell_type": "code",
   "execution_count": null,
   "metadata": {},
   "outputs": [],
   "source": [
    "df.map(max)"
   ]
  },
  {
   "cell_type": "markdown",
   "metadata": {},
   "source": [
    "The ```DataFrame``` also has the method ```apply``` which operates along an ```axis```:"
   ]
  },
  {
   "cell_type": "code",
   "execution_count": null,
   "metadata": {},
   "outputs": [],
   "source": [
    "df.apply(max, axis='rows')"
   ]
  },
  {
   "cell_type": "code",
   "execution_count": null,
   "metadata": {},
   "outputs": [],
   "source": [
    "df.apply(max, axis='columns')"
   ]
  },
  {
   "cell_type": "markdown",
   "metadata": {},
   "source": [
    "Most universal functions are implemented as ```Series``` and ```DataFrame``` methods:"
   ]
  },
  {
   "cell_type": "code",
   "execution_count": null,
   "metadata": {},
   "outputs": [],
   "source": [
    "words.max(axis='rows')"
   ]
  },
  {
   "cell_type": "code",
   "execution_count": null,
   "metadata": {},
   "outputs": [],
   "source": [
    "words.min(axis='rows')"
   ]
  },
  {
   "attachments": {},
   "cell_type": "markdown",
   "metadata": {},
   "source": [
    "A ```Series``` has the attribute ```str``` which can be used to quickly access ```str``` methods:"
   ]
  },
  {
   "cell_type": "code",
   "execution_count": null,
   "metadata": {},
   "outputs": [],
   "source": [
    "words.str.zfill(20)"
   ]
  },
  {
   "attachments": {},
   "cell_type": "markdown",
   "metadata": {},
   "source": [
    "The ```str``` datamodel method ```__len__``` is available under the ```str``` attribute as ```len```:"
   ]
  },
  {
   "cell_type": "code",
   "execution_count": null,
   "metadata": {},
   "outputs": [],
   "source": [
    "words.str.len()"
   ]
  },
  {
   "cell_type": "markdown",
   "metadata": {},
   "source": [
    "If the lengths of each strings are examined:"
   ]
  },
  {
   "cell_type": "code",
   "execution_count": null,
   "metadata": {},
   "outputs": [],
   "source": [
    "lengths = words.map(len)"
   ]
  },
  {
   "cell_type": "code",
   "execution_count": null,
   "metadata": {},
   "outputs": [],
   "source": [
    "lengths"
   ]
  },
  {
   "cell_type": "markdown",
   "metadata": {},
   "source": [
    "A function can be created to cast a numeric length into a ```str``` for example ```3``` to ```'three'```:"
   ]
  },
  {
   "cell_type": "code",
   "execution_count": null,
   "metadata": {},
   "outputs": [],
   "source": [
    "def get_length_str(length):\n",
    "    match length:\n",
    "        case 3:\n",
    "            return 'three'\n",
    "        case 4:\n",
    "            return 'four'\n",
    "        case 5:\n",
    "            return 'five'\n",
    "        case 6:\n",
    "            return 'six' "
   ]
  },
  {
   "cell_type": "markdown",
   "metadata": {},
   "source": [
    "This function can be applied to the ```length``` ```Series``` using ```map```:"
   ]
  },
  {
   "cell_type": "code",
   "execution_count": null,
   "metadata": {},
   "outputs": [],
   "source": [
    "lengths.map(get_length_str)"
   ]
  },
  {
   "attachments": {},
   "cell_type": "markdown",
   "metadata": {},
   "source": [
    "## Numeric Series"
   ]
  },
  {
   "attachments": {},
   "cell_type": "markdown",
   "metadata": {},
   "source": [
    "If a ```DataFrame``` with numeric ```Series``` ```x```, ```y``` and ```z``` is instantiated to ```df```:"
   ]
  },
  {
   "cell_type": "code",
   "execution_count": null,
   "metadata": {},
   "outputs": [],
   "source": [
    "df = pd.DataFrame({'x': [1, 2, 3, 4, 5],\n",
    "                   'y': [-2, -4, 6, 8, 10],\n",
    "                   'z': [12, 24, 48, -63, -999]})"
   ]
  },
  {
   "cell_type": "code",
   "execution_count": null,
   "metadata": {},
   "outputs": [],
   "source": [
    "df"
   ]
  },
  {
   "attachments": {},
   "cell_type": "markdown",
   "metadata": {},
   "source": [
    "The ```DataFrame``` method ```apply``` can be used to apply the builtins universal function ```max```:"
   ]
  },
  {
   "cell_type": "code",
   "execution_count": null,
   "metadata": {},
   "outputs": [],
   "source": [
    "df.apply(max, axis='rows')"
   ]
  },
  {
   "cell_type": "code",
   "execution_count": null,
   "metadata": {},
   "outputs": [],
   "source": [
    "df.apply(max, axis='columns') "
   ]
  },
  {
   "attachments": {},
   "cell_type": "markdown",
   "metadata": {},
   "source": [
    "Note however that most the universal functions from ```builtins``` or ```numpy``` are implemented directly as ```DataFrame``` methods:"
   ]
  },
  {
   "cell_type": "code",
   "execution_count": null,
   "metadata": {},
   "outputs": [],
   "source": [
    "df.max(axis='rows')"
   ]
  },
  {
   "cell_type": "code",
   "execution_count": null,
   "metadata": {},
   "outputs": [],
   "source": [
    "df.min(axis='rows')"
   ]
  },
  {
   "cell_type": "code",
   "execution_count": null,
   "metadata": {},
   "outputs": [],
   "source": [
    "df.mean(axis='rows')"
   ]
  },
  {
   "cell_type": "code",
   "execution_count": null,
   "metadata": {},
   "outputs": [],
   "source": [
    "df.var(axis='rows')"
   ]
  },
  {
   "cell_type": "code",
   "execution_count": null,
   "metadata": {},
   "outputs": [],
   "source": [
    "df.std(axis='rows')"
   ]
  },
  {
   "attachments": {},
   "cell_type": "markdown",
   "metadata": {},
   "source": [
    "And the datamodel identifiers for a numeric ```Series``` are configured for numeric operations:"
   ]
  },
  {
   "cell_type": "code",
   "execution_count": null,
   "metadata": {},
   "outputs": [],
   "source": [
    "df['x'] + df['y']"
   ]
  },
  {
   "cell_type": "code",
   "execution_count": null,
   "metadata": {},
   "outputs": [],
   "source": [
    "df['x'] + 5"
   ]
  },
  {
   "attachments": {},
   "cell_type": "markdown",
   "metadata": {},
   "source": [
    "The ```apply``` function can also be used with a ```tuple``` of universal functions outputting a ```DataFrame``` instance opposed to a Series:"
   ]
  },
  {
   "cell_type": "code",
   "execution_count": null,
   "metadata": {},
   "outputs": [],
   "source": [
    "df.apply((len, max, min, np.mean, np.var, np.std))"
   ]
  },
  {
   "attachments": {},
   "cell_type": "markdown",
   "metadata": {},
   "source": [
    "## Categorical Series"
   ]
  },
  {
   "attachments": {},
   "cell_type": "markdown",
   "metadata": {},
   "source": [
    "Another common type of ```Series``` is a category ```Series```:"
   ]
  },
  {
   "cell_type": "code",
   "execution_count": null,
   "metadata": {},
   "outputs": [],
   "source": [
    "df = pd.DataFrame({'student_names': ['student' + str(num) for num in range(1, 9)],\n",
    "                   'grades': ['b', 'F', 'A', 'C', 'a', 'C', 'B', 'A']})"
   ]
  },
  {
   "attachments": {},
   "cell_type": "markdown",
   "metadata": {},
   "source": [
    "When instantiated, the categories will normally be recognised as ```str``` instances:"
   ]
  },
  {
   "cell_type": "code",
   "execution_count": null,
   "metadata": {},
   "outputs": [],
   "source": [
    "df"
   ]
  },
  {
   "attachments": {},
   "cell_type": "markdown",
   "metadata": {},
   "source": [
    "And the datatypes will therefore be ```object``` for each ```Series```:"
   ]
  },
  {
   "cell_type": "code",
   "execution_count": null,
   "metadata": {},
   "outputs": [],
   "source": [
    "df.dtypes"
   ]
  },
  {
   "attachments": {},
   "cell_type": "markdown",
   "metadata": {},
   "source": [
    "The datatype of a ```Series``` can be changed using the method ```astype```. To change to category use the input argument ```'category'```:"
   ]
  },
  {
   "cell_type": "code",
   "execution_count": null,
   "metadata": {},
   "outputs": [],
   "source": [
    "df['grades'].astype('category')"
   ]
  },
  {
   "attachments": {},
   "cell_type": "markdown",
   "metadata": {},
   "source": [
    "The original ```Series``` can be reassigned to the new ```Series``` that are now categorical:"
   ]
  },
  {
   "cell_type": "code",
   "execution_count": null,
   "metadata": {},
   "outputs": [],
   "source": [
    "df['grades'] = df['grades'].astype('category')"
   ]
  },
  {
   "attachments": {},
   "cell_type": "markdown",
   "metadata": {},
   "source": [
    "If the ```DataFrame``` instance is examined, it looks the same:"
   ]
  },
  {
   "cell_type": "code",
   "execution_count": null,
   "metadata": {},
   "outputs": [],
   "source": [
    "df"
   ]
  },
  {
   "attachments": {},
   "cell_type": "markdown",
   "metadata": {},
   "source": [
    "However its datatype is updated:"
   ]
  },
  {
   "cell_type": "code",
   "execution_count": null,
   "metadata": {},
   "outputs": [],
   "source": [
    "df.dtypes"
   ]
  },
  {
   "attachments": {},
   "cell_type": "markdown",
   "metadata": {},
   "source": [
    "A categorical ```Series``` also has the attribute ```cat``` which groups together attributes and methods commonly used for categorical ```Series```:"
   ]
  },
  {
   "cell_type": "code",
   "execution_count": null,
   "metadata": {},
   "outputs": [],
   "source": [
    "print('attributes', end=' ')\n",
    "print_identifier_group(df['grades'].cat, kind='attribute')\n",
    "print('methods', end=' ')\n",
    "print_identifier_group(df['grades'].cat, kind='function')"
   ]
  },
  {
   "cell_type": "markdown",
   "metadata": {},
   "source": [
    "The ```Series.cat``` attribute ```categories``` can be used to get the names of the existing categories:"
   ]
  },
  {
   "cell_type": "code",
   "execution_count": null,
   "metadata": {},
   "outputs": [],
   "source": [
    "df['grades'].cat.categories"
   ]
  },
  {
   "cell_type": "markdown",
   "metadata": {},
   "source": [
    "Notice that these categories have uppercase and lowercase variants. A ```list``` comprehension can be used with a ```str``` method to change the lowercase grades to uppercase:"
   ]
  },
  {
   "cell_type": "code",
   "execution_count": null,
   "metadata": {},
   "outputs": [],
   "source": [
    "old_grade_categories = df['grades'].cat.categories\n",
    "new_grade_categories = [grade.upper() for grade in old_grade_categories]\n",
    "new_grade_categories"
   ]
  },
  {
   "cell_type": "markdown",
   "metadata": {},
   "source": [
    "A category mapping can then be created:"
   ]
  },
  {
   "cell_type": "code",
   "execution_count": null,
   "metadata": {},
   "outputs": [],
   "source": [
    "category_mapping = dict(zip(old_grade_categories, new_grade_categories))\n",
    "category_mapping"
   ]
  },
  {
   "cell_type": "markdown",
   "metadata": {},
   "source": [
    "This is the type of ```mapping``` that can be used with the ```Series.cat``` method ```rename_categories``` however at present this method does not support merging of categories and flags a ```ValueError``` because some of the ```values``` are the same:"
   ]
  },
  {
   "cell_type": "code",
   "execution_count": null,
   "metadata": {},
   "outputs": [],
   "source": [
    "# df['grades'].cat.rename_categories(category_mapping)"
   ]
  },
  {
   "cell_type": "markdown",
   "metadata": {},
   "source": [
    "It is therefore easier to manipulate the ```str``` datatype ```Series``` and then cast it to a ```category``` datatype ```Series```:"
   ]
  },
  {
   "cell_type": "code",
   "execution_count": null,
   "metadata": {},
   "outputs": [],
   "source": [
    "df['grades'] = df['grades'].str.lower().astype('category')\n",
    "df['grades']"
   ]
  },
  {
   "cell_type": "markdown",
   "metadata": {},
   "source": [
    "When all the values in the mapping are unique, the ```DataFrame``` method ```rename_category``` works as expected:"
   ]
  },
  {
   "cell_type": "code",
   "execution_count": null,
   "metadata": {},
   "outputs": [],
   "source": [
    "old_grade_categories = df['grades'].cat.categories\n",
    "new_grade_categories = [grade.upper() for grade in old_grade_categories]\n",
    "category_mapping = dict(zip(old_grade_categories, new_grade_categories))\n",
    "category_mapping"
   ]
  },
  {
   "cell_type": "code",
   "execution_count": null,
   "metadata": {},
   "outputs": [],
   "source": [
    "df['grades'] = df['grades'].cat.rename_categories(category_mapping)\n",
    "df['grades']"
   ]
  },
  {
   "attachments": {},
   "cell_type": "markdown",
   "metadata": {},
   "source": [
    "Categories are often used for boolean selectors:"
   ]
  },
  {
   "cell_type": "code",
   "execution_count": null,
   "metadata": {},
   "outputs": [],
   "source": [
    "df[df['grades'] == 'A']"
   ]
  },
  {
   "cell_type": "code",
   "execution_count": null,
   "metadata": {},
   "outputs": [],
   "source": [
    "df[df['grades'] == 'B']"
   ]
  },
  {
   "cell_type": "code",
   "execution_count": null,
   "metadata": {},
   "outputs": [],
   "source": [
    "df[(df['grades'] == 'A') | (df['grades'] == 'B')]"
   ]
  },
  {
   "attachments": {},
   "cell_type": "markdown",
   "metadata": {},
   "source": [
    "Only the equal to ```==``` and not equal to ```!=``` operators are defined for unordered categoricals. A ```TypeError``` displays if one of the other comparison operators is attempted to be used:"
   ]
  },
  {
   "attachments": {},
   "cell_type": "markdown",
   "metadata": {},
   "source": [
    "The ```Series.cat``` method ```as_ordered``` can be used to ordinally order categories:"
   ]
  },
  {
   "cell_type": "code",
   "execution_count": null,
   "metadata": {},
   "outputs": [],
   "source": [
    "df['grades'].cat.as_ordered()"
   ]
  },
  {
   "attachments": {},
   "cell_type": "markdown",
   "metadata": {},
   "source": [
    "In this case, the order desired is reverse the ordinal values because ```'A'``` corresponds to a higher grade than ```'F'```:"
   ]
  },
  {
   "cell_type": "code",
   "execution_count": null,
   "metadata": {},
   "outputs": [],
   "source": [
    "df['grades'].cat.reorder_categories(new_categories = ('F', 'C', 'B', 'A'),\n",
    "                                    ordered=True)"
   ]
  },
  {
   "attachments": {},
   "cell_type": "markdown",
   "metadata": {},
   "source": [
    "The original ```Series``` can be reassigned:"
   ]
  },
  {
   "cell_type": "code",
   "execution_count": null,
   "metadata": {},
   "outputs": [],
   "source": [
    "df['grades'] = df['grades'].cat.reorder_categories(new_categories = ('F', 'C', 'B', 'A'),\n",
    "                                                   ordered=True)"
   ]
  },
  {
   "cell_type": "code",
   "execution_count": null,
   "metadata": {},
   "outputs": [],
   "source": [
    "df[df['grades'] >= 'B']"
   ]
  },
  {
   "attachments": {},
   "cell_type": "markdown",
   "metadata": {},
   "source": [
    "When sorting out data in ```DataFrames```, ordinal ```Series``` are quite often used:"
   ]
  },
  {
   "cell_type": "code",
   "execution_count": null,
   "metadata": {},
   "outputs": [],
   "source": [
    "df.sort_values(['grades', 'student_names'])"
   ]
  },
  {
   "cell_type": "markdown",
   "metadata": {},
   "source": [
    "If the ```DataFrame``` method ```count``` is used, it will return the number of rows in each ```Series``` and return this information as a new ```Series```:"
   ]
  },
  {
   "cell_type": "code",
   "execution_count": null,
   "metadata": {},
   "outputs": [],
   "source": [
    "df.count()"
   ]
  },
  {
   "attachments": {},
   "cell_type": "markdown",
   "metadata": {},
   "source": [
    "A ```GroupBy``` instance can be created:"
   ]
  },
  {
   "cell_type": "code",
   "execution_count": null,
   "metadata": {},
   "outputs": [],
   "source": [
    "gbo = df.groupby(df['grades'], observed=True)"
   ]
  },
  {
   "cell_type": "markdown",
   "metadata": {},
   "source": [
    "This ```gbo``` instance is essentially a ```DataFrame``` with an additional groupby instruction that is applied when a ```DataFrame``` method such as ```count``` is used. Notice that a ```DataFrame``` instance is returned:"
   ]
  },
  {
   "cell_type": "code",
   "execution_count": null,
   "metadata": {},
   "outputs": [],
   "source": [
    "gbo.count()"
   ]
  },
  {
   "cell_type": "markdown",
   "metadata": {},
   "source": [
    "A ```GroupBy``` instance can be created from a ```Series```:"
   ]
  },
  {
   "cell_type": "code",
   "execution_count": null,
   "metadata": {},
   "outputs": [],
   "source": [
    "gbo = df['grades'].groupby(df['grades'], observed=True)"
   ]
  },
  {
   "attachments": {},
   "cell_type": "markdown",
   "metadata": {},
   "source": [
    "This ```gbo``` instance is essentially a ```Series``` with an additional groupby instruction that is applied when a ```Series``` method such as ```count``` is used. A ```Series``` instance is returned:"
   ]
  },
  {
   "cell_type": "code",
   "execution_count": null,
   "metadata": {},
   "outputs": [],
   "source": [
    "gbo.count()"
   ]
  },
  {
   "attachments": {},
   "cell_type": "markdown",
   "metadata": {},
   "source": [
    "Some ```Series``` methods like ```describe``` provide information spanning over multiple ```Series``` and will therefore return a ```DataFrame``` instance: "
   ]
  },
  {
   "cell_type": "code",
   "execution_count": null,
   "metadata": {},
   "outputs": [],
   "source": [
    "gbo.describe()"
   ]
  },
  {
   "attachments": {},
   "cell_type": "markdown",
   "metadata": {},
   "source": [
    "Notice the slight difference with the column grouping ```student_names``` being used to group the statistical information (```count```, ```unique```, ```top``` and ```freq```) which for that specific ```Series```."
   ]
  },
  {
   "cell_type": "code",
   "execution_count": null,
   "metadata": {},
   "outputs": [],
   "source": [
    "df"
   ]
  },
  {
   "attachments": {},
   "cell_type": "markdown",
   "metadata": {},
   "source": [
    "The difference can be seen more clearly if a second category is added to the ```DataFrame```:"
   ]
  },
  {
   "cell_type": "code",
   "execution_count": null,
   "metadata": {},
   "outputs": [],
   "source": [
    "import random\n",
    "random.seed(0)\n",
    "df['sex'] = pd.Series([random.choice(['F', 'M']) for num in range(8)])\n",
    "df['sex'] = df['sex'].astype('category')"
   ]
  },
  {
   "cell_type": "code",
   "execution_count": null,
   "metadata": {},
   "outputs": [],
   "source": [
    "df"
   ]
  },
  {
   "cell_type": "markdown",
   "metadata": {},
   "source": [
    "Now when the ```DataFrame``` instance ```df``` is grouped by the ```Series``` ```grades``` followed by the ```DataFrame``` method ```describe```. Descriptive statistics are shown for each ```Series``` and each of these statistics is grouped using a multilevel ```Index```:"
   ]
  },
  {
   "cell_type": "code",
   "execution_count": null,
   "metadata": {},
   "outputs": [],
   "source": [
    "df.groupby('grades', observed=True).describe()"
   ]
  },
  {
   "cell_type": "markdown",
   "metadata": {},
   "source": [
    "If this ```DataFrame``` is indexed into using the top level column name:"
   ]
  },
  {
   "cell_type": "code",
   "execution_count": null,
   "metadata": {},
   "outputs": [],
   "source": [
    "df.groupby('grades', observed=True).describe()['sex']"
   ]
  },
  {
   "cell_type": "markdown",
   "metadata": {},
   "source": [
    "This returns a single-index ```DataFrame``` which can also be indexed into for example by using the column name ```count```:"
   ]
  },
  {
   "cell_type": "code",
   "execution_count": null,
   "metadata": {},
   "outputs": [],
   "source": [
    "df.groupby('grades', observed=True).describe()['sex']['count']"
   ]
  },
  {
   "cell_type": "markdown",
   "metadata": {},
   "source": [
    "The ```DataFrame``` can be grouped by a list of multiple ```Series``` names. This gives a multi-level index for both the ```Series``` and ```Index```:"
   ]
  },
  {
   "cell_type": "code",
   "execution_count": null,
   "metadata": {},
   "outputs": [],
   "source": [
    "df.groupby(['grades', 'sex'], observed=True).describe()"
   ]
  },
  {
   "cell_type": "markdown",
   "metadata": {},
   "source": [
    "Returning to:"
   ]
  },
  {
   "cell_type": "code",
   "execution_count": null,
   "metadata": {},
   "outputs": [],
   "source": [
    "df"
   ]
  },
  {
   "cell_type": "markdown",
   "metadata": {},
   "source": [
    "A function can be made to generate a random ```score``` in response to a ```grade```:"
   ]
  },
  {
   "cell_type": "code",
   "execution_count": null,
   "metadata": {},
   "outputs": [],
   "source": [
    "def generate_score(grade):\n",
    "    random.seed(0)\n",
    "    match grade:\n",
    "        case 'A':\n",
    "            return random.randint(70, 101)\n",
    "        case 'B':\n",
    "            return random.randint(60, 70)  \n",
    "        case 'C':\n",
    "            return random.randint(50, 60)\n",
    "        case 'F':\n",
    "            return random.randint(0, 50)"
   ]
  },
  {
   "cell_type": "markdown",
   "metadata": {},
   "source": [
    "This custom function can be applied to the ```grades``` ```Series``` to generate a ```Series``` of random marks for each student:"
   ]
  },
  {
   "cell_type": "code",
   "execution_count": null,
   "metadata": {},
   "outputs": [],
   "source": [
    "df['scores'] = df['grades'].map(generate_score)"
   ]
  },
  {
   "cell_type": "code",
   "execution_count": null,
   "metadata": {},
   "outputs": [],
   "source": [
    "df"
   ]
  },
  {
   "attachments": {},
   "cell_type": "markdown",
   "metadata": {},
   "source": [
    "Categories can be created from ordinal values using the pandas function ```pd.cut```:"
   ]
  },
  {
   "cell_type": "code",
   "execution_count": null,
   "metadata": {},
   "outputs": [],
   "source": [
    "pd.cut(x=df['scores'], bins=[0, 50, 60, 70, 101])"
   ]
  },
  {
   "attachments": {},
   "cell_type": "markdown",
   "metadata": {},
   "source": [
    "In the output below the ```(``` means inclusive of the boundary and the ```]``` means exclusive of the top boundary. For convenience this will be inserted into the ```DataFrame``` at column index 3. Recall ```insert``` is an immutable method and occurs in place:"
   ]
  },
  {
   "cell_type": "code",
   "execution_count": null,
   "metadata": {},
   "outputs": [],
   "source": [
    "df.insert(3, 'score_cats', pd.cut(x=df['scores'], bins=[0, 50, 60, 70, 101]))"
   ]
  },
  {
   "cell_type": "code",
   "execution_count": null,
   "metadata": {},
   "outputs": [],
   "source": [
    "df"
   ]
  },
  {
   "cell_type": "markdown",
   "metadata": {},
   "source": [
    "```cut``` can be used with the keyword labels. Notice that there are ```5``` values for ```bins``` and ```4``` values for ```labels```, this is because each bin is between two values:"
   ]
  },
  {
   "cell_type": "code",
   "execution_count": null,
   "metadata": {},
   "outputs": [],
   "source": [
    "pd.cut(x=df['scores'], bins=[0, 50, 60, 70, 101], labels=['F', 'C', 'B', 'A'])"
   ]
  },
  {
   "cell_type": "markdown",
   "metadata": {},
   "source": [
    "Notice that these categories are also automatically ordinal:"
   ]
  },
  {
   "cell_type": "code",
   "execution_count": null,
   "metadata": {},
   "outputs": [],
   "source": [
    "df.insert(4, 'calculated_grades', pd.cut(x=df['scores'], bins=[0, 50, 60, 70, 101], labels=['F', 'C', 'B', 'A']))"
   ]
  },
  {
   "cell_type": "code",
   "execution_count": null,
   "metadata": {},
   "outputs": [],
   "source": [
    "df"
   ]
  },
  {
   "attachments": {},
   "cell_type": "markdown",
   "metadata": {},
   "source": [
    "## DateTime"
   ]
  },
  {
   "attachments": {},
   "cell_type": "markdown",
   "metadata": {},
   "source": [
    "In ```pandas``` date and time intervals are based upon the datatypes ```datetime64``` or ```timedelta64``` from the ```numpy``` library:"
   ]
  },
  {
   "attachments": {},
   "cell_type": "markdown",
   "metadata": {},
   "source": [
    "The ```datetime64``` class is normally initialised using a timestamp string of the following format:\n",
    "\n",
    "```python\n",
    "np.datetime64('YYYY-MM-DD')\n",
    "np.datetime64('YYYY-MM-DDThh:mm:ss:μμμμμμ')\n",
    "```"
   ]
  },
  {
   "attachments": {},
   "cell_type": "markdown",
   "metadata": {},
   "source": [
    "For example:"
   ]
  },
  {
   "cell_type": "code",
   "execution_count": null,
   "metadata": {},
   "outputs": [],
   "source": [
    "np.datetime64('2023-07-25')"
   ]
  },
  {
   "cell_type": "code",
   "execution_count": null,
   "metadata": {},
   "outputs": [],
   "source": [
    "np.datetime64('2023-07-25T14:30:15.123456')"
   ]
  },
  {
   "attachments": {},
   "cell_type": "markdown",
   "metadata": {},
   "source": [
    "The ```timedelta64``` is normally initialised using a set of tuples where ```X``` is the quantity followed by the unit:\n",
    "\n",
    "```python\n",
    "np.datetime64(X, 'U')\n",
    "```"
   ]
  },
  {
   "cell_type": "markdown",
   "metadata": {},
   "source": [
    "These are usually combined using addition:"
   ]
  },
  {
   "cell_type": "code",
   "execution_count": null,
   "metadata": {},
   "outputs": [],
   "source": [
    "np.timedelta64(1, 'D') + np.timedelta64(1, 'h') + np.timedelta64(1, 's') + np.timedelta64(1, 'ms')"
   ]
  },
  {
   "attachments": {},
   "cell_type": "markdown",
   "metadata": {},
   "source": [
    "These can be used to make an ```Index``` or ```Series``` respectively, using the ```np.arange``` function:"
   ]
  },
  {
   "cell_type": "code",
   "execution_count": null,
   "metadata": {},
   "outputs": [],
   "source": [
    "start_time = np.datetime64('2023-07-25')\n",
    "end_time = np.datetime64('2023-07-26')\n",
    "time_interval = np.timedelta64(1, 'h')"
   ]
  },
  {
   "cell_type": "code",
   "execution_count": null,
   "metadata": {},
   "outputs": [],
   "source": [
    "times = np.arange(start=start_time, #inclusive\n",
    "                  stop=end_time, #exclusive\n",
    "                  step=time_interval)"
   ]
  },
  {
   "cell_type": "code",
   "execution_count": null,
   "metadata": {},
   "outputs": [],
   "source": [
    "times"
   ]
  },
  {
   "attachments": {},
   "cell_type": "markdown",
   "metadata": {},
   "source": [
    "These times can be cast into an ```Index``` or ```Series```:"
   ]
  },
  {
   "cell_type": "code",
   "execution_count": null,
   "metadata": {},
   "outputs": [],
   "source": [
    "pd.Index(times)"
   ]
  },
  {
   "cell_type": "code",
   "execution_count": null,
   "metadata": {},
   "outputs": [],
   "source": [
    "pd.Series(data=times, name='times')"
   ]
  },
  {
   "attachments": {},
   "cell_type": "markdown",
   "metadata": {},
   "source": [
    "The ```Index``` of the datatype ```datetime64``` can be used as a time index alongside measurement Series for example emulated temperature, ph and humidity data:"
   ]
  },
  {
   "cell_type": "code",
   "execution_count": null,
   "metadata": {},
   "outputs": [],
   "source": [
    "np.random.seed(0)"
   ]
  },
  {
   "cell_type": "code",
   "execution_count": null,
   "metadata": {},
   "outputs": [],
   "source": [
    "df = pd.DataFrame(index=pd.Index(times),\n",
    "                  data={'temperature': 25 + np.random.randn(24),\n",
    "                        'ph': 7 + np.random.randn(24) / 10,\n",
    "                        'humidity': 100 - np.random.randint(0, 100, 24)})"
   ]
  },
  {
   "cell_type": "code",
   "execution_count": null,
   "metadata": {},
   "outputs": [],
   "source": [
    "df"
   ]
  },
  {
   "attachments": {},
   "cell_type": "markdown",
   "metadata": {},
   "source": [
    "```loc``` can be used to retrieve the data at a specified ```datetime64```:"
   ]
  },
  {
   "cell_type": "code",
   "execution_count": null,
   "metadata": {},
   "outputs": [],
   "source": [
    "df.loc['2023-07-25T01:00:00']"
   ]
  },
  {
   "attachments": {},
   "cell_type": "markdown",
   "metadata": {},
   "source": [
    "```iloc``` can also be used with the ```int``` which would correspond to the ```RangeIndex``` if the ```Index``` is reset:"
   ]
  },
  {
   "cell_type": "code",
   "execution_count": null,
   "metadata": {},
   "outputs": [],
   "source": [
    "df.iloc[1]"
   ]
  },
  {
   "attachments": {},
   "cell_type": "markdown",
   "metadata": {},
   "source": [
    "A comparison between two times can be made:"
   ]
  },
  {
   "cell_type": "code",
   "execution_count": null,
   "metadata": {},
   "outputs": [],
   "source": [
    "df.loc['2023-07-25 16:00:00'] - df.loc['2023-07-25T01:00:00']"
   ]
  },
  {
   "attachments": {},
   "cell_type": "markdown",
   "metadata": {},
   "source": [
    "In addition to the ```Index``` of datatype ```datetime64``` the ```Series``` instance ```times``` can be added to the ```DataFrame``` instance ```df```:"
   ]
  },
  {
   "cell_type": "code",
   "execution_count": null,
   "metadata": {},
   "outputs": [],
   "source": [
    "df['times'] = times"
   ]
  },
  {
   "cell_type": "code",
   "execution_count": null,
   "metadata": {},
   "outputs": [],
   "source": [
    "df"
   ]
  },
  {
   "attachments": {},
   "cell_type": "markdown",
   "metadata": {},
   "source": [
    "When ```loc``` is used to calculate the difference between two measurements at the two different times, the time difference, i.e. ```timedelta64``` will be calculated:"
   ]
  },
  {
   "cell_type": "code",
   "execution_count": null,
   "metadata": {},
   "outputs": [],
   "source": [
    "df.loc['2023-07-25 16:00:00'] - df.loc['2023-07-25T01:00:00']"
   ]
  },
  {
   "attachments": {},
   "cell_type": "markdown",
   "metadata": {},
   "source": [
    "The ```Series``` method ```tz_localize``` can be used to specify a ```timezone``` using the input argument ```tz```. For example in the UK:"
   ]
  },
  {
   "cell_type": "code",
   "execution_count": null,
   "metadata": {},
   "outputs": [],
   "source": [
    "df['times'].tz_localize(tz='Europe/London')"
   ]
  },
  {
   "attachments": {},
   "cell_type": "markdown",
   "metadata": {},
   "source": [
    "And in the Czech Republic:"
   ]
  },
  {
   "cell_type": "code",
   "execution_count": null,
   "metadata": {},
   "outputs": [],
   "source": [
    "df['times'].tz_localize(tz='Europe/Prague')"
   ]
  },
  {
   "attachments": {},
   "cell_type": "markdown",
   "metadata": {},
   "source": [
    "Care needs to be taken with non-UTC timezones as clock changes leads to ambiguous times. In the UK one of biannual clock changes can be examined:"
   ]
  },
  {
   "cell_type": "code",
   "execution_count": null,
   "metadata": {},
   "outputs": [],
   "source": [
    "start_time = np.datetime64('2023-10-28T11:00:00')\n",
    "end_time = np.datetime64('2023-10-29T03:00:00')\n",
    "time_interval = np.timedelta64(30, 'm')"
   ]
  },
  {
   "cell_type": "code",
   "execution_count": null,
   "metadata": {},
   "outputs": [],
   "source": [
    "utc_times = np.arange(start=start_time, #inclusive\n",
    "                      stop=end_time, #exclusive\n",
    "                      step=time_interval)"
   ]
  },
  {
   "cell_type": "code",
   "execution_count": null,
   "metadata": {},
   "outputs": [],
   "source": [
    "pd.Index(utc_times).tz_localize(tz='Europe/London', ambiguous=True)"
   ]
  },
  {
   "cell_type": "code",
   "execution_count": null,
   "metadata": {},
   "outputs": [],
   "source": [
    "pd.Index(utc_times).tz_localize(tz='Europe/London', ambiguous='NaT')"
   ]
  },
  {
   "attachments": {},
   "cell_type": "markdown",
   "metadata": {},
   "source": [
    "## Reading Data from Files"
   ]
  },
  {
   "attachments": {},
   "cell_type": "markdown",
   "metadata": {},
   "source": [
    "The ```Series``` and ```DataFrames``` previously examined were created from scratch using ```builtins``` datatypes. It is also common to read data in from another source. The ```pandas``` library therefore has a number of functions for reading in data from external files. The function names all have a ```read_``` prefix followed by the file type:"
   ]
  },
  {
   "cell_type": "code",
   "execution_count": null,
   "metadata": {},
   "outputs": [],
   "source": [
    "for identifier in dir(pd):\n",
    "    if identifier.startswith('read_'):\n",
    "        print(identifier, end=' ')"
   ]
  },
  {
   "cell_type": "markdown",
   "metadata": {},
   "source": [
    "Some of the most common formats will be explored."
   ]
  },
  {
   "attachments": {},
   "cell_type": "markdown",
   "metadata": {},
   "source": [
    "### Comma Separated Values File"
   ]
  },
  {
   "attachments": {},
   "cell_type": "markdown",
   "metadata": {},
   "source": [
    "CSV is an abbreviation for Comma Separated Values although lower case csv is typically used for the file format. The file format has a similar structure to a ```tuple```, where each element is separated by a comma. In the case of a csv file, each column is separated by a comma and the newline character ```\\n``` is an instruction to move onto the next row:"
   ]
  },
  {
   "cell_type": "raw",
   "metadata": {},
   "source": [
    "string,integer,bool,float,date,time,category\\n\n",
    "the fat black cat,4,TRUE,0.86,24/07/2023,11:36:00,A\\n\n",
    "sat on the mat,4,TRUE,0.86,25/07/2023,12:36:00,A\\n\n",
    "\"twinkle, twinkle\",2,TRUE,-1.14,26/07/2023,13:36:00,B\\n\n",
    "little star,2,TRUE,-1.14,27/07/2023,14:36:00,B\\n\n",
    "how I wonder,3,FALSE,-0.14,28/07/2023,15:36:00,B\\n\n",
    "what you are,4,TRUE,0.86,29/07/2023,16:36:00,B\\n"
   ]
  },
  {
   "attachments": {},
   "cell_type": "markdown",
   "metadata": {},
   "source": [
    "When opened in a program such as Microsoft Excel, these display as a grid:"
   ]
  },
  {
   "attachments": {},
   "cell_type": "markdown",
   "metadata": {},
   "source": [
    "<img src='./images/img_001.png' alt='img_001' width='800'/>"
   ]
  },
  {
   "attachments": {},
   "cell_type": "markdown",
   "metadata": {},
   "source": [
    "Notice that the comma in ```twinkle, twinkle``` is not a delimiter but part of the ```str```. For this reason ```\"twinkle, twinkle\"``` was is enclosed in quotations."
   ]
  },
  {
   "attachments": {},
   "cell_type": "markdown",
   "metadata": {},
   "source": [
    "The csv has a file name in this case:"
   ]
  },
  {
   "cell_type": "raw",
   "metadata": {},
   "source": [
    "Book1.csv"
   ]
  },
  {
   "attachments": {},
   "cell_type": "markdown",
   "metadata": {},
   "source": [
    "Because it is in the same folder as the interactive Python notebook, the file path can be specified as the following string:"
   ]
  },
  {
   "attachments": {},
   "cell_type": "markdown",
   "metadata": {},
   "source": [
    "<img src='./images/img_002.png' alt='img_002' width='800'/>"
   ]
  },
  {
   "cell_type": "code",
   "execution_count": null,
   "metadata": {},
   "outputs": [],
   "source": [
    "file_path = r'.\\Book1.csv'"
   ]
  },
  {
   "cell_type": "code",
   "execution_count": null,
   "metadata": {},
   "outputs": [],
   "source": [
    "file_path"
   ]
  },
  {
   "attachments": {},
   "cell_type": "markdown",
   "metadata": {},
   "source": [
    "* r means raw string. In a raw string \\ is used to indicate a \\ instead of an instruction to insert an escape character.\n",
    "* .\\ means in the same folder as the interactive Python notebook"
   ]
  },
  {
   "attachments": {},
   "cell_type": "markdown",
   "metadata": {},
   "source": [
    "If the file is moved into a sub folder called files:"
   ]
  },
  {
   "attachments": {},
   "cell_type": "markdown",
   "metadata": {},
   "source": [
    "<img src='./images/img_003.png' alt='img_003' width='800'/>"
   ]
  },
  {
   "attachments": {},
   "cell_type": "markdown",
   "metadata": {},
   "source": [
    "Then the file path becomes:"
   ]
  },
  {
   "cell_type": "code",
   "execution_count": null,
   "metadata": {},
   "outputs": [],
   "source": [
    "file_path = r'.\\files\\Book1.csv'"
   ]
  },
  {
   "cell_type": "code",
   "execution_count": null,
   "metadata": {},
   "outputs": [],
   "source": [
    "file_path"
   ]
  },
  {
   "attachments": {},
   "cell_type": "markdown",
   "metadata": {},
   "source": [
    "If the file is place up a level from the interactive notebook, the file path becomes:"
   ]
  },
  {
   "attachments": {},
   "cell_type": "markdown",
   "metadata": {},
   "source": [
    "<img src='./images/img_005.png' alt='img_005' width='800'/>"
   ]
  },
  {
   "cell_type": "code",
   "execution_count": null,
   "metadata": {},
   "outputs": [],
   "source": [
    "file_path = r'..\\Book1.csv'"
   ]
  },
  {
   "cell_type": "code",
   "execution_count": null,
   "metadata": {},
   "outputs": [],
   "source": [
    "file_path"
   ]
  },
  {
   "attachments": {},
   "cell_type": "markdown",
   "metadata": {},
   "source": [
    "And if a subfolder (that is in the folder up a level from the interactive Python notebook file) is made called files:"
   ]
  },
  {
   "attachments": {},
   "cell_type": "markdown",
   "metadata": {},
   "source": [
    "<img src='./images/img_006.png' alt='img_006' width='800'/>"
   ]
  },
  {
   "cell_type": "code",
   "execution_count": null,
   "metadata": {},
   "outputs": [],
   "source": [
    "file_path = r'..\\files\\Book1.csv'"
   ]
  },
  {
   "cell_type": "code",
   "execution_count": null,
   "metadata": {},
   "outputs": [],
   "source": [
    "file_path"
   ]
  },
  {
   "attachments": {},
   "cell_type": "markdown",
   "metadata": {},
   "source": [
    "The function ```read_csv``` is used to read in a csv file returning a ```DataFrame``` instance:"
   ]
  },
  {
   "cell_type": "code",
   "execution_count": null,
   "metadata": {},
   "outputs": [],
   "source": [
    "pd.read_csv?"
   ]
  },
  {
   "attachments": {},
   "cell_type": "markdown",
   "metadata": {},
   "source": [
    "The ```read_csv``` has a larger number of input arguments. Note that most of these are keyword input arguments and are therefore assigned to a default value which is consistent to the default behaviour of a csv file. When the file is in the expected format only the ```filepath_or_buffer``` needs to be specified:"
   ]
  },
  {
   "cell_type": "code",
   "execution_count": null,
   "metadata": {},
   "outputs": [],
   "source": [
    "df = pd.read_csv(filepath_or_buffer = 'Book1.csv')"
   ]
  },
  {
   "cell_type": "code",
   "execution_count": null,
   "metadata": {},
   "outputs": [],
   "source": [
    "df"
   ]
  },
  {
   "attachments": {},
   "cell_type": "markdown",
   "metadata": {},
   "source": [
    "The first input argument is normally used positionally:"
   ]
  },
  {
   "cell_type": "code",
   "execution_count": null,
   "metadata": {},
   "outputs": [],
   "source": [
    "df = pd.read_csv(r'.\\files\\Book1.csv')"
   ]
  },
  {
   "cell_type": "code",
   "execution_count": null,
   "metadata": {},
   "outputs": [],
   "source": [
    "df"
   ]
  },
  {
   "attachments": {},
   "cell_type": "markdown",
   "metadata": {},
   "source": [
    "Notice the ```Series``` names in the file are in the expected format and taken from the first line. A csv does not have an index by default and so a ```RangeIndex``` is automatically generated:"
   ]
  },
  {
   "cell_type": "raw",
   "metadata": {},
   "source": [
    "string,integer,bool,float,date,time,category\\n\n",
    "the fat black cat,4,TRUE,0.86,24/07/2023,11:36:00,A\\n\n",
    "sat on the mat,4,TRUE,0.86,25/07/2023,12:36:00,A\\n\n",
    "\"twinkle, twinkle\",2,TRUE,-1.14,26/07/2023,13:36:00,B\\n\n",
    "little star,2,TRUE,-1.14,27/07/2023,14:36:00,B\\n\n",
    "how I wonder,3,FALSE,-0.14,28/07/2023,15:36:00,B\\n\n",
    "what you are,4,TRUE,0.86,29/07/2023,16:36:00,B\\n"
   ]
  },
  {
   "cell_type": "code",
   "execution_count": null,
   "metadata": {},
   "outputs": [],
   "source": [
    "df.axes"
   ]
  },
  {
   "attachments": {},
   "cell_type": "markdown",
   "metadata": {},
   "source": [
    "## Tab Delimited Text File"
   ]
  },
  {
   "attachments": {},
   "cell_type": "markdown",
   "metadata": {},
   "source": [
    "A text file, has the file extension txt and is very similar to a csv file but uses ```\\t``` instead of ```,``` as a delimiter:"
   ]
  },
  {
   "cell_type": "raw",
   "metadata": {},
   "source": [
    "string\\tinteger\\tbool\\tfloat\\tdate\\ttime\\tcategory\\n\n",
    "the fat black cat\\t4\\tTRUE\\t0.86\\t24/07/2023\\t11:36:00\\tA\\n\n",
    "sat on the mat\\t4\\tTRUE\\t0.86\\t25/07/2023\\t12:36:00\\tA\\n\n",
    "\"twinkle, twinkle\"\\t2\\tTRUE\\t-1.14\\t26/07/2023\\t13:36:00\\tB\\n\n",
    "little star\\t2\\tTRUE\\t-1.14\\t27/07/2023\\t14:36:00\\tB\\n\n",
    "how I wonder\\t3\\tFALSE\\t-0.14\\t28/07/2023\\t15:36:00\\tB\\n\n",
    "what you are\\t4\\tTRUE\\t0.86\\t29/07/2023\\t16:36:00\\tB\\n"
   ]
  },
  {
   "attachments": {},
   "cell_type": "markdown",
   "metadata": {},
   "source": [
    "The same function ```read_csv``` is used to read in a txt file. However this function by default looks for a ```,``` as a delimiter to move onto the next column and as it is not present, the data is all shown in a single column:"
   ]
  },
  {
   "cell_type": "code",
   "execution_count": null,
   "metadata": {},
   "outputs": [],
   "source": [
    "df = pd.read_csv(r'.\\files\\Book2.txt')"
   ]
  },
  {
   "cell_type": "code",
   "execution_count": null,
   "metadata": {},
   "outputs": [],
   "source": [
    "df"
   ]
  },
  {
   "attachments": {},
   "cell_type": "markdown",
   "metadata": {},
   "source": [
    "If the delimiter is specified as ```'\\t'``` the data will instead be read in properly:"
   ]
  },
  {
   "cell_type": "code",
   "execution_count": null,
   "metadata": {},
   "outputs": [],
   "source": [
    "df = pd.read_csv(r'.\\files\\Book2.txt', delimiter='\\t')"
   ]
  },
  {
   "cell_type": "code",
   "execution_count": null,
   "metadata": {},
   "outputs": [],
   "source": [
    "df"
   ]
  },
  {
   "attachments": {},
   "cell_type": "markdown",
   "metadata": {},
   "source": [
    "## Microsoft Excel File"
   ]
  },
  {
   "attachments": {},
   "cell_type": "markdown",
   "metadata": {},
   "source": [
    "A Microsoft Excel File, file extensions .xlsx (or .xls for older files) is a collection of sheets. The data in each individual sheet is similar to a csv file. The Excel file can also be modified in Microsoft Excel to visually format the data:"
   ]
  },
  {
   "attachments": {},
   "cell_type": "markdown",
   "metadata": {},
   "source": [
    "<img src='./images/img_007.png' alt='img_007' width='800'/>"
   ]
  },
  {
   "attachments": {},
   "cell_type": "markdown",
   "metadata": {},
   "source": [
    "This formatting capability makes the raw Excel File less human readable than the more basic csv file when examined in a text editor:"
   ]
  },
  {
   "attachments": {},
   "cell_type": "raw",
   "metadata": {},
   "source": [
    "PK\u0003\u0004\u0014 \u0006 \b   ! ï\b‡¾ˆ\u0001  \u0004\u0006  \u0013 \b\u0002[Content_Types].xml ¢\u0004\u0002(  \u0002                                                                                                                                                                                                                                                                                                                                                                                                                                                                                                                                ¬TÍN\u00021\u0010¾›ø\u000e›^\n",
    "[ð`Œañ€zT\u0013ñ\u0001J;°\n",
    "Ý¶é\f",
    "\boïlQb\f",
    "²!îe›Ýv¾Ÿ™î7¾ß6®Ø@B\u001b|%FåP\u0014àu0Ö/+ñ>{\u001aÜŠ\u0002Iy£\\ðP‰\u001d",
    " ¸Ÿ\\^Œg»\bXpµÇJÔDñNJÔ54\n",
    "Ë\u0010ÁóÎ\"¤F\u0011¿¦¥ŒJ¯Ô\u0012äõpx#uð\u0004ž\u0006ÔbˆÉø\u0001\u0016jí¨xÜòç½’¹õ¢˜îÏµT•P1:«\u0015±P¹ñæ\u0017É ,\u0016Vƒ\tzÝ0t‰12X\u0003PãÊ˜,3¦7 bc(äQÎ\u0004\u000eÏ#ýrUre\u0016†µxÅÖÿ`hwþvõU÷ÂãHÖ@ñª\u0012=«†½Ë­“\u001f!­æ!¬ÊÓ ç¶&·¨l”õßºOðçÃ(ó2êYHë/\u0003wè ¾c óóÿ\u00122L\u0007!ÒÎ\u0001öÝö\f",
    "ÚÅ\\«\u0004æøö.{\u0017ð\u0013»«åjÎ\u001d",
    "Ô.}=ƒvðkåô´æ+Úó\u0010\u000e¸§ø9R^SˆÈ©•à|\u0001ß\u0011ÑV\u000f\"\u0003A\"\u000b",
    "‡8ö³\u001d",
    "\u00189òþí\u0018ÚL5`ŽpËœá“O   ÿÿ\u0003 PK\u0003\u0004\u0014 \u0006 \b   ! µU0#ô   L\u0002  \u000b",
    " \b\u0002_rels/.rels ¢\u0004\u0002(  \u0002                                                                                                                                                                                                                                                                                                                                                                                                                                                                                                                                ¬’MOÃ0\f",
    "†ïHü‡È÷ÕÝ\u0010BKwAH»!T~€IÜ\u000fµ£$\u001bÝ¿'\u001c",
    "\u0010T\u001aƒ\u0003G½~üÊÛÝ<êÈ!öâ4¬‹\u0012\u0014;#¶w­†—úqu\u0007*&r–Fq¬áÄ\u0011vÕõÕö™GJy(v½*«¸¨¡KÉß#FÓñD±\u0010Ï.W\u001a\t\u0013¥\u001c",
    "†\u0016=™ZÆMYÞbø®\u0001ÕBSí­†°·7 ê“Ï›×–¦é\n",
    "?ˆ9LìÒ™\u0015ÈsbgÙ®|Èl!õù\u001aUSh9i°bžr:\"y_dlÀóD›¿\u0013ý|-NœÈR\"4\u0012ø2ÏGÇ% õZ´4ñËyÄ7\tÃ«ÈðÉ‚‹\u001f¨Þ\u0001  ÿÿ\u0003 PK\u0003\u0004\u0014 \u0006 \b   ! fc’K”\u0003  ï\b  \u000f   xl/workbook.xml¬Umo£8\u0010þ~Òþ\u0007Äw\n",
    "æ-\u00015]‘ »•ÚU•fÛ;)Rå€S¬\u0002ælÓ$ªö¿ï\u0018BÚnN§\\÷¢ÄŽ=Ããgfž1çŸ·U©=\u0013.(«'::³tÔ\u0019Ëiý8Ñ¿/Rc¬kBâ:Ç%«ÉDß\u0011¡¾øôÇù†ñ§\u0015cO\u001a Ôb¢\u0017R6¡iŠ¬ \u0015\u0016g¬!5XÖŒWXÂ’?š¢á\u0004ç¢ DV¥i[–oV˜Öz\u0010òS0ØzM3\u0012³¬­H-{\u0010NJ,¾(h#\u0006´*;\u0005®Âü©mŒŒU\n",
    "@¬hIå®\u0003Õµ*\u000b",
    "/\u001fkÆñª„°·ÈÓ¶\u001c",
    "¾>ü\u0005ƒ=œ\u0004¦££*šq&ØZž\u0001´Ù“>Š\u001fY&BïR°=ÎÁiH®ÉÉ3U5<°âþ\u0007Yù\u0007,ÿ\u0015\f",
    "Y¿†@ZVBHÞ\u0007Ñ¼\u00037[¿8_Ó’ÜõÒÕpÓ|Ã•ªT©k%\u00162É©$ùD\u001fÁ’mÈ»\n",
    "Þ6Ó––`µ}äXºyqó\n",
    "×r²Æm)\u0017 ä\u0001\u001e",
    ":Ã÷\u0003ÛSž Œ¨”„×X’\u0019«%èp\u001f×ïj®Ãž\u0015\f",
    "\u0014®ÍÉß-å\u0004\u001a\u000b",
    "ô\u0005±Âˆ³\u0010¯Ä\n",
    "–…Öòr¢ÏÂåw\u0001á/›\u001d",
    "m–COˆå\u0017*¿¶+Ø•\u0005«šI¢ú\u0014ÜT\u0017‹‡’®8æ»¥ÊžX¾Q1>n™ÿ cœ©ä˜>‚þÿ¯™‚@x8hõFr\n",
    "þ_ÆWP¯[ü\f",
    "Õ\u0003äûæ¾„ò ç¡Îxˆ\u001e",
    "^Ævâ¸‘32\\+N\n",
    "\u0017y¶\u0011ÙþÈ\b‚$M\u001d",
    "?E£™÷\u0003‚á~˜1ÜÊb/\f",
    "\u0005=Ñ]PÁ‘é\u001ao\u0007\u000b",
    "²Â–æ¯4^¬ýÇPó/Ã`û¡\u0002V©½£d#^%¤–ÚöžÖ9Û@\b£ ‚Ú\u001d",
    "–êƒMg¼§¹,ÀÃuíÃÞWB\u001f\u000b",
    "`<F¾ê\u0017n+b\u0013ý%NÒ™ŠÑˆ\u0012\u000fâOüÈ\bÆŽkØÉ\u0018Y±’ÑtÖ\u00112ß0êîZ`ÖÍZÝõÇ­º\u0011\\êjîr¬k<TgðË\u001c",
    "u5\u001c",
    "\u001e",
    "Ëp™A?¨©s\u0004êv <ÈV^\tÙÍ E\n",
    "ôkE#+p\n",
    "+q<Ã\u001d",
    "\u0007¶1v\u001d",
    "Û˜¹±x£$N¦]yÔ»\"ü?nÌ®#Âá%¤X\u0016˜Ë\u0005ÇÙ\u0013¼ºæd=Å\u0002ôÔ\u0007\u0004|ß’zã©å E7EJKeL§¾kxqêx#\u0014Ï ÅJK=Y\u0015þúƒ÷ÕØìž&X¶ÐËª»u¨Æt¿{Ø\\÷\u001bû:½k½p\u001e",
    "«¼ïŸþ7Ç[ˆ¾$':§w':Î¾]/®Oô½J\u0016\u000f÷é©ÎÑõ4ŽN÷æóè¯Eòçp„ù\t5»‚«±“©9Èäâ'   ÿÿ\u0003 PK\u0003\u0004\u0014 \u0006 \b   ! ’\u0007”ì\u0004\u0001  ?\u0003  \u001a \b\u0001xl/_rels/workbook.xml.rels ¢\u0004\u0001(  \u0001                                                                                                                                                                                                                                                                ¬’ËjÄ0\f",
    "E÷…þƒÑ¾q2}P†qfÑR˜m›~€p”8Lb\u0007[}äïkR:ÉÀn²1HÂ÷\u001e",
    "‰»Ûw­ø$\u001f\u001ag\u0015dI\n",
    "‚¬veck\u0005ïÅËÍ#ˆÀhKl%\u0005\u0003\u0005Øç×W»Wj‘ã§`š>ˆ¨bƒ\u0002ÃÜo¥\f",
    "ÚP‡!q=Ù8©œïcékÙ£>bMr“¦\u000fÒÏ5 ?Ó\u0014‡R?”· Š¡Îÿk»ªj4=;ýÑ‘å\u000b",
    "\u00162ðÐÆ\u0005D¾&Vð['‘\u0011äeûÍšö\u001c",
    "ÏB“ûXÊñÍ–\u0018²5\u0019¾œ?\u0006CÄ\u0013Ç©\u0015ä8Y„¹_\u0013Fc«Ÿ\f",
    "6v‚9µ–.r·j(\f",
    "z*ßØÇÌÏ³1oÿÁÈ³Øç?   ÿÿ\u0003 PK\u0003\u0004\u0014 \u0006 \b   ! îõ\u000eº\u0004  G\u000e  \u0018   xl/worksheets/sheet1.xmlœ“ÙŽ›0\u0014†ï+õ\u001d",
    ",ß³/\u0001\u00142J&M;7UÕérí\u0018\u0013¬`LmgkÕwï1!™‘\"UÑH€×óÿØ?Ó‡£hÑž)ÍeWâÀõ1b\u001d",
    "•\u0015ï6%þþmåd\u0018iCºŠ´²c%>1\u001ffïßM\u000fRmuÃ˜A@èt‰\u001bcúÂó4m˜ Ú•=ë`¥–J\u0010\u0003Cµñt¯\u0018©† Ñz¡ï§ž ¼ÃgB¡îaÈºæ”-%Ý\tÖ™3D±–\u0018Ð¯\u001bÞë\u000b",
    "MÐ{p‚¨í®w¨\u0014= Ö¼åæ4@1\u0012´xÚtR‘u\u000b",
    "u\u001fƒ˜PtTð„ðF—4ÃüM&Á©’ZÖÆ\u0005²wÖ|[~îå\u001e",
    "¡WÒmýwa‚ØSlÏí\u0005¾ Â·I\n",
    "’++|Eo„¥W˜=.UìxUâ?ó,Ÿ?.“\u000fN°ò3'^D\u000b",
    "'_.\"'H£I²LÓ,[øñlZq¸a[\u0015R¬.ñ<(>N°7›\u000eþùÁÙA¿ê#CÖÏ¬eÔ0È\u0011`ô[JñL‰½º \u0002S_ÇŸ­!ÛqÖšx-åÖâž Ð‡¼zÀØ¼„\u001a¾g¬…í«  ú× ÅöAˆwUòºQµ\u001aŒÿE¡ŠÕd×š¯òð‰ñMc uì&p ÖQEuZ2MÁÊÜ\u0012Ë¥²\u0005\b|‘àöŸ\u0004+’ãÐ\u001e",
    "xeš!>N¢ \u0004Èši³â–‰\u0011Ýi#ÅÏqÏH:3`çÀH1º027Ló‘òŸÈÉ\u0018\tí\u0018™»I\u001c",
    "æi6\u0001èm 7¨ÿ\u0007  ÿÿ   ÿÿœ–Ûnƒ0\f",
    "@\u0005å}\u0010 P\u0001ÒZ.ßÁ(¨{é&¨ºíï—` ‰\u0001./­ê\u0013\u0003§vLÜ_›æžU÷*»/«K\b#VÿYÝzñíx Ö7óªúxùÉš¾nn÷„P›û$kÉ¾J8!\u0001±D \u0017¿>R\u0016;4vê‘8\u0001!\u0012Í„k\u0012ç%ÁM\"[\u0012Ì3‘|‰ ¢XI‚®S\u0002\u0012j÷êÏ—q„žÙ‘ûŒ#\t'ÄÓ²†È\u0011\u0010lð‡nû<Å¤¿·5Ã™ÚÝ¦'÷…ÛRN+ÿ\u000b",
    "j‡~¤¯\u0010]9‡½.\\ÙgœÙÞ!b\u0001,l\u0010`>ÀÔöBn,D—@ûÚc\u0007ë2ù32%lÊ¤H&\u0010ë2§Ø¶Lµ»\u001d",
    "*öZuÍ…X]Ó&$ãÇL\u0014rÿ.š€¤'þœjÈ¬T£6( >Ùõ]Ÿê\u000b",
    "Ñ%Ð;ìŠºÛßÎ\u00126í\u001e",
    "] À.nä)¶mWí6ì‚QG–ì\u000b",
    "\u0013åk<9:PrÈ¡<¢&. >{\u001c",
    "kyüˆP\u0003”@ë\u001e",
    "™z,£ç\u0005³_¤„M‘\u0011\u0012\tÄºÈ)¶-Ríþ¿HÈ¡Dâv‡ø$2 z¿»‘:\u0019‡IP\u0002½G¤˜\u0016ûEJØ\u0014ÉpÃ\u0003\u0002&Q1œ§˜2‰vgj÷¦Iº(ITù9$Q*‘œ\u0002â³Jì\u000eÂ{ÜÉãg÷p–pB\"}8ãé\f",
    "\b\u0013Ç™è=<zæàv\u001d",
    "jû·ôý=„Æ$ã‘-¦\u001a\u0014Cm\u0015# ~©\u001d",
    "Ì\u0013jèêEO¸8\"Õ[\tnjG½øü\u0002  ÿÿ   ÿÿLŽÁ\n",
    "‚P\u0010Eå1\u001fYD\u0014êªM‹ ð\u000b",
    "F\u001d",
    "uÈÞ<Æ± ¯ï\u0019ˆíæ\\\u000e÷N\u0016°£\u001bjÇ~t\u0003µ–Ãvs\u0004§ÜõËm\u0012~é\u0001\\%fò\\¨'lHgÚƒkEl¤ÈæÞ’l\n",
    ".` -ùC9œÀ‰2yCcñ9\u0004QSd\u0003÷\"5®q¸\u0004Ž}qÿÌM\u000ezmRˆe†Õ@wT\u001b]-“¥ð—®ön¶“Uð\u0016}Œ=‘\u0015_   ÿÿ\u0003 PK\u0003\u0004\u0014 \u0006 \b   ! Á\u0017\u0010¾N\u0007  Æ   \u0013   xl/theme/theme1.xmlìYÍ‹\u001b7\u0014¿\u0017ú?\f",
    "swü5ã%ÞàÏl“Ý$d”\u001c",
    "µ¶ìQV32’¼\u001b\u0013\u0002%9õR(¤¥—Bo=”Ò@\u0003\n",
    "½ô\t$´é\u001fÑ'ÍØ#­å$›lJZv\n",
    "‹Gþ½§§÷ž~zótñÒ½˜zG˜\u000b",
    "Â’–_¾Pò=œŒØ˜$Ó–k8(4|OH”Œ\u0011e\tnù\u000b",
    ",üKÛŸ~r\u0011mÉ\bÇØ\u0003ùDl¡–\u001fI9Û*\u0016Å\b†‘¸Àf8ß&ŒÇHÂ#Ÿ\u0016Ç\u001c",
    "\u001d",
    "ƒÞ˜\u0016+¥R­\u0018#’ø^‚bP{}2!#ì\n",
    "•J{©¼Oá1‘B\n",
    "Œ(ßWª±%¡±ãÃ²Bˆ…èRî\u001d",
    "!Úòaž1;\u001e",
    "â{Ò÷(\u0012\u0012~hù%ýç\u0017·/\u0016ÑV&Då\u0006YCn ÿ2¹L`|XÑsòéÁjÒ \bƒZ{¥_\u0003¨\\ÇõëýZ¿¶Ò§\u0001h4‚•¦¶Ø:ë•na\n",
    "PúÕ¡»WïUË\u0016ÞÐ_]³¹\u001d",
    "ª…× T°†\u001f\f",
    "ºàE\u000b",
    "¯A)>\\Ã‡f§gë× \u0014_[Ã×Kí^P·ôkPDIr¸†.…µjw¹Ú\u0015dÂèŽ\u0013Þ\f",
    "ƒA½’)ÏQ\n",
    "«ìRSLX\"7åZŒî2> €\u0002R$IâÉÅ\f",
    "OÐ\b²¸‹(9àÄÛ%Ó\b\u0012o†\u0012&`¸T)\n",
    "JUø¯>þ¦#Š¶02¤•]`‰X\u001bRöxbÄÉL¶ü+ Õ7 /ž={þðéó‡¿=ôèùÃ_²¹µ*Kn\u0007%SSîÕ_ÿýý\u0017Þ_¿þðêñ7éÔ'ñÂÄ¿üùË—¿ÿñ:õ°âÜ\u0015/¾}òòé“\u0017ß}õçO\u001d",
    "ÚÛ\u001c",
    "\u001d",
    "˜ð!‰±ð®ácï&‹a\u000eûñ\u0001?Ä0BÄ’@\u0011èv¨îËÈ\u0002^[ êÂu°íÂÛ\u001c",
    "XÆ\u0005¼<¿kÙº\u001fñ¹$Ž™¯F±\u0005ÜcŒv\u0018w:àªšËððpžLÝ“ó¹‰»‰Ð‘kî.J¬ ÷ç3 WâRÙ°eæ\n",
    "Š\u0012‰¦8ÁÒS¿±CŒ\u001d",
    "«»Cˆå×=2âL°‰ôî\u0010¯ƒˆÓ%Cr`%R.´CbˆËÂe „ÚòÍÞm¯Ã¨kÕ=|d#a[ ê0~ˆ©åÆËh.QìR9D15\u001d",
    "¾‹dä2rÁG&®/$DzŠ)óúc,„Kæ:‡õ\u001aA¿\n",
    "\f",
    "ã\u000eû\u001e",
    "]Ä6’KrèÒ¹‹\u00183‘=vØP<sÚL’ÈÄ~&\u000e!E‘wƒI\u0017|Ù;D=C\u001c",
    "P²1Ü·\t¶Âýf\"¸\u0005äjš”'ˆúeÎ\u001d",
    "±¼Œ™½\u001f\u0017t‚°‹eÚ<¶ØµÍ‰3;:ó©•Ú»\u0018StŒÆ\u0018{·>sXÐa3Ëç¹ÑW\"`•\u001d",
    "ìJ¬+ÈÎUõœ`\u0001e’ªkÖ)r—\b+e÷ñ”m°goq‚x\u0016(‰\u0011ß¤ù\u001aDÝJ]8åœTzŽ\u000eMà5\u0002å\u001fä‹Ó)×\u0005è0’»¿Ië\bYg—z\u0016î|]p+~o³Ç`_Þ=í¾\u0004\u0019|j\u0019 ö·öÍ\u0010Qk‚<a†\b\n",
    "\f",
    "\u0017Ý‚ˆ\u0015þ\\D«Zlî”›Ø›6\u000f\u0003\u0014FV½\u0013“äÅÏ‰²'üwÊ\u001e",
    "w\u0001s\u0006\u0005[ñû”:›(eçD³\t÷\u001f,kzhžÜÀp’¬sÖyUs^ÕøÿûªfÓ^>¯eÎk™óZÆõöõAj™¼|Ê&ïòèžO¼±å3!”îË\u0005Å»Bw}\u0004¼ÑŒ\u00070¨ÛQº'¹j\u0001Î\"øš5˜,Ü”#-ãq&?'2ÚÐ\f",
    "ZCeÝÀœŠLõTx3& c¤‡u+\u0015ŸÐ­ûNóxÓNg¹¬ºš©\u000b",
    "\u0005’ùx)\\C—J¦èZ=ïÞ­Ôë~èTwY—\u0006(ÙÓ\u0018aLf\u001bQu\u0018Q_\u000eB\u0014^g„^Ù™XÑtXÑPê—¡ZFqå\n",
    "0m\u0015\u0015xåöàE½å‡AÚA†f\u001c",
    "”çc\u0015§´™¼Œ®\n",
    "Î™Fz“3©™\u0001Pb/3 tSÙºqyjuiª½E¤-#Œt³0Ò0‚\u0017á,;Í–ûYÆº™‡Ô2O¹b¹\u001br3ê\u000f\u0011kE\"'¸&&SÐÄ;nùµj\b·*#4kù\u0013è\u0018Ã×x\u0006¹#Ô[\u0017¢S¸v\u0019Ižnøwa–\u0019\u0017²‡D”:\\“NÊ\u00061‘˜{”Ä-_-•\n",
    "4Ñ\u001c",
    "¢m+W€\u0010>Zãš@+\u001f›q\u0010t;Èx2Á#i†Ý\u0018QžN\u001fáS®pþªÅß\u001d",
    "¬$Ù\u001c",
    "Â½\u001f½\u0003:ç7\u0011¤XX/+\u0007Ž‰€‹ƒrêÍ1›°\u0015‘åùwâ`Êh×¼ŠÒ9”Ž#:‹Pv¢˜džÂ5‰®ÌÑO+\u001f\u0018OÙšÁ¡ë.<˜ª\u0003ö½OÝ7\u001fÕÊs\u0006iæg¦Å*êÔt“é‡;ä\n",
    "«òCÔ²*¥nýN-r®k.¹\u000e\u0012ÕyJ¼áÔ}‹\u0003Á0-ŸÌ2MY¼NÃŠ³³QÛ´3,\b\f",
    "OÔ6ømuF8=ñ®'?ÈÌZu@,ëJøúÊÜ¼Õf\u0007w<zp8§RèPBo—#(úÒ\u001bÈ”6`‹Ü“Y\bß¼9'-ÿ~)l\u0007ÝJØ-”\u001aa¿\u0010TƒR¡\u0011¶«…v\u0018VËý°\\êu*\u000fà`‘Q\\\u000eÓëú\u0001\\aÐEvi¯Ç×.îãå-Í…\u0011‹‹L_Ì\u0017µáúâ¾\\Ù|qï\u0011 ûµÊ Ymvj…fµ=(\u0004½N£ÐìÖ:…^­[ï\n",
    "zÝ°Ñ\u001c",
    "<ð½#\n",
    "\u000eÚÕnPë7\n",
    "µr·[\bj%e~£Y¨\u0007•J;¨·\u001bý ý +c`å)}d¾ ÷j»¶ÿ\u0001  ÿÿ\u0003 PK\u0003\u0004\u0014 \u0006 \b   ! ^®l\u0013œ\u0004  \u0001\u001c",
    "  \n",
    "   xl/styles.xmlìYmoâ8\u0010þ~Òý‡(ßi^JX@„ÕRŠ´ÒÞê¤v¥ûj\u0012\u0007¬ú\u00059¦\u000b",
    "{ºÿ¾c;\u0001³t—@KUtÛ\u000f4™Ø\u001fÏØã™ñàýŠQï\u0011Ë’\bžúÑUè{˜g\"'|–ú_î'­®ï•\n",
    "ñ\u001c",
    "QÁqê¯qé¿\u001fþùÇ TkŠïæ\u0018+\u000f x™ús¥\u0016ý (³9f¨¼\u0012\u000b",
    "ÌáK!$C\n",
    "^å,(\u0017\u0012£¼Ô\u0018\n",
    "â0ì\u0004\f",
    "\u0011î[„>Ëš€0$\u001f–‹V&Ø\u0002)2%”¨µÁò=–õ?Î¸hJê*j£Ì[E\u001d",
    "\u0019{+Y\u000fb¤{ã0’IQŠB]\u0001n Š‚dxŸn/è\u0005(Û\"\u0001òiHQ\u0012„ñÎÜWòD¤v ñ#Ñæó‡ƒBpUz™Xr•ú1\u0010Õ*è?pñ•Oô'°pÕj8(¿yˆ‚$òƒá \u0013THOé@sFÂ\u0011Ã¶Å\n",
    "¢d*‰nV FèÚŠc-0Ö®Ú1\u0002º×Â@ó°l†ƒ©nuö±Ì%ŒI(u4`\u0005Ã\u0001,\u0015…%ŸÀW¯z¾_/`ª\u001c",
    "Vµ¥\f",
    "Ÿ\u000e¶žI´ŽâÄé\u0010˜\u0001a–Bæ°‹jÝG!èÙÊ†\u0003Š\u000b",
    "\u0005Jd6×ÿ•XÀïT(\u0005Km8È\tš\tŽ¨Ö[ÝÃí\tÛ\u000fvZê«9ì”ÚP„çx…óÔï´\n",
    "\u0019=D5B£ö†‹¡Ò¨9P®\u00197jo'wxnµV.‰ó±ö°\u0016¿D5oVé‹ÚüÌëùmþa›_â¦¹<×t\u0006Æ§mÞŸ\u0010©Ü;œR\u0019¦ôN»õŠí‘\u0001Î}Ux|É&L}\u0004×\u000e¡˜>GëG8ŸªG{:Ø\u0017}j¸h\u0016Û…mŸ„ë­ŠÍ Ç²Š ð¨z{h± ë‘9\u001c",
    "«¸b\u0007-j\u001fžä\u001e",
    "Üç%›b91¥\u0006=4H\f",
    "M\u000eiòÙƒ4°–\u000eÈ\u001aê¥\u0001ÚõIhZ\u0015O­$°Ã.7\u001d",
    "/6Q®ÃôgØÉ\u0019±;/€­§ð”NÞ½¨½ ‘zÉ]±\u0007wŽ]ñìA\u001a¬ãÞ/õbœ\u001b¸3ÇgîxÌïót¾’úŸµW \u000eätI¨\"ü\to\t˜ùÊñ¿:5\u0002›·\u0010›é„&ÓQ’<T™Ž\u0011d\u0002‚p^º\"¼R˜çN'±T”p·I9G¹øê4YÚç:\u0011\\\\} dÆ­xŠJ¬\u0011\f",
    "ƒ³gQödñê”äËÂœBõë\u0018ÒH#¨f¥ŸmvóZ1›#\u0005ÆVæ§\u0019íÓ¨¾Bø®MN2“\u0001Î…$ßÀóî¦ƒÎTmxàD\t1x@[c¹\u00119l€ù¼ÏX¿,õ‚9§^ÞRÊö,\u0005Fà€\\\u0005æyÀX°†¿ß*tJ\u0012¯´Ý.uYýÞj&Æ‡\u0005ó:nùÿ°NÞbuì\u0018W[í‰h\u0001*‰ÍKa›zèþ¢Ú\u0001µåÆ£Š,M¡uaµ\u0006f8'KvL\n",
    "ö@ý*ì\u000eOÔa\u000fô¨+±?ÌW+\u0014â_¥oJL!b\u0013TCÄžã\u0002-©ºß|Lýíó_F\tÊV­þ&B\u0019ˆÔß>Òµî¨£OPˆ‰?•Pœ†ÿÞR’Ôÿ÷vô®7¾Ä­n8ê¶Ú×8iõ’Ñ¸•´oFãñ¤\u0017ÆáÍÎ}Í3nkÌõ\u0012ÔU¢v¿¤p§#«ÉVäï¶²Ôw^,}SY\u0007Ú.÷^Ü\t?$QØš\\‡Q«ÝAÝV·s´&I\u0014;íÑm2I\u001c",
    "îÉ‰·:a\u0010Eö~H“OúŠ0“\u0006ìÒ¿w¥`$xýÅ$‚Ú\u0012Áöînø\u001d",
    "  ÿÿ\u0003 PK\u0003\u0004\u0014 \u0006 \b   ! äÐÐºÿ   \u0005\u0002  \u0014   xl/sharedStrings.xmld‘ÁJÄ0\u0010†ï‚ï0ä¬›*(º´YT\u0010¼ë\u0003dÛi\u001b6™Y“©µoo\u0016zæ–|ÿŸÉGR\u001f~ƒ‡\u001fŒÉ15ênW)@j¹s44êëóýöIA\u0012KõLØ¨\u0005“:˜ë«:%|–R£F‘ó^ëÔŽ\u0018lÚñ\u0019)'=Ç`%oã Ó9¢íÒˆ(ÁëûªzÔÁ:RÐòD’ï}V0‘ûžðm\u0005\u000fÊÔÉ™ZL²\u0002L #BžWk1µ¾$k*q‹\u001c",
    "\u0015­#³ßÖ:+¸emf\u0003ÇeË_¶@fG'7°.Š<ÛöYüèm{‚<v[ðNÄãåi\u000b",
    "ÿ‘gø€™©Ã\"›Ç<tá\tl,ä_\u000b",
    "\t\u0017ŠRïù¿ŒÎßhþ   ÿÿ\u0003 PK\u0003\u0004\u0014 \u0006 \b   ! A¿ø`Ù   Ê\u0001  #   xl/worksheets/_rels/sheet1.xml.rels¬‘ÁNÃ0\f",
    "@ïHüCä;I»\u0003Bhé.\biW\u0018\u001fà¥n\u001bÑ:Ql\u0010û{‚v¡Ó$.œ,Ûòó“½Ý}-³ù¤\"1±‡Ö6`ˆCê#\u001e",
    "Þ\u000eÏw\u000f`D‘{œ\u0013“‡\u0013\tìºÛ›í\u000b",
    "Í¨uH¦˜ÅT\n",
    "‹‡I5?:'a¢\u0005Å¦L\\;C*\u000b",
    "jMËè2†w\u001c",
    "ÉmšæÞ•ß\f",
    "èVL³ï=”}¿\u0001s8åºùov\u001a†\u0018è)……X¯¬pŠÇ™*\u0010ËHêÁÚsEÎ¡µU\u0016Üuö?=r‰¬T^Iµ\u001e",
    "ZVF\u0017=w‘·ö\u0018ùGÒ­>Ð}\u0003  ÿÿ\u0003 PK\u0003\u0004\u0014 \u0006 \b   ! Ø Ç÷[\u0004  \b\u0014  '   xl/printerSettings/printerSettings1.binìXmO\\E\u0014>ç™Ù¹³\u000b",
    "Ë.ì–.”—e+Ðb¡`iE¥-ëB\u000b",
    "Zimk­oMˆ‹†Ä€Ñö³¤‰_Œ1ÆMü\u000fþ\u0006?ù#Lü\u001b&Æà3÷.,UCW$„„žÉdçõœgÎœsæÜ]“Û2.U™—{R–š\\\u0019ÖIi•Ô.âW9W0¿©¨¤åIÛ´¯³\u0015É}@@6–½ªL·Ì±õ…Ê¥AÂöïßwÖVÖ7Ö9ømwc†\u000b",
    "ÃÚ”\u0013ùÓöf\u0004iûM¡&+².\u001b¬e¹.«ü]•/dM>fÿ–|&äË¸U“\u001bré_Á\u0005\f",
    "[‘Èæ;6µ®\u0006jŒE\n",
    "®®ÊvÎæ)3ÚÝñ&­\u0019mC;²è@ÎH&ÌÂ Þ†\b\u001e",
    "éÀ(Œh˜\u0004ù¨ÕT†<#D&âB_¦ä¶l”b]³ð\"†Õ²¦Ê®\u001c",
    "•%\u001b3l\bPéØæ”:»\u0019Ù9oç$\u0017F}Ùø²}J\u0010\u0005wDêä“m\u0001‹:åïJC:‰BºêêË0R\bpmÅøŠ¬Ö©¦ 8p\u0007ÒÈ€g7YíÐœÉ£S»´ Eœ@7N¢dzÐ‹SèC?\u00060ˆ2†PÁi¼€aŒ`\u0014gp\u0016cxQÏé¸NèyÔ)}I/è´^ÔKú2fô\u0015¼Š×0‹Ë¸‚«˜CU_GMçýæ\u0002®á:\u0016±„7ð&nÐB\u00036\u0017«ÝV\b.èÝf,ÁÙ¹¬é09Ík§éB\u0001Em CŒÎöÙ~;`\u0007\u001d",
    "ÑiEOk\u0003žÑ³:¦D‡ñúDý|}\u0012O¡Ó\u0019ÄèÌ¬^Ö+zUç´\u000e\u000b",
    "n\u0007œ\n",
    "àÞÂ2nâ\u0016ÞÆm_¹ƒ»x\u0007÷ð.îã=¼ï·ô\u0003|ˆð b\u0012‹kÞˆÆ¶¥í\u001aë7œ Ñ¯;áºÝIWŠz¢^=¥}Ú¯\u0003:hê;GÐâ°\u0016G´8ªEáõû!øNI5.<\\¶Ðú@£ôyëó‰E\u001bšºI™Xw*>1rå\u001fr.rÞ¥]Æµ¹v—uÁÐyÙèr\u0005#4orÊRõ¾'±~gè˜¼m\u000724°p#\u001a›\u000b",
    "\u0013&)<‘Nï\n",
    "Ö·sÖ¬\u000e$ªà‚j€\u001f\\o—R‚ïÖf¤Ì@5gÙN³LÓ;ž´‰Ì²?Æú;Ýøsö§¾Þ{¶úà1\u0003ÜO\u0016R*…R\u0003\u0003¹\u0006Æ9vé\n",
    "¡\u0004\"»˜¾\u000fÝj\u001c",
    "[V\u0018WöG‘€|\u0019Z[¢¯D–7ÖWeêâÄR­ÖºÄƒÝ\u0007%µ\n",
    "yŸz9ÐmÉ½1¨o\u001d",
    "\u00054G\u0002Ã\u000fDQ“›²,×d‰ÙÂ\u0002[wÙªòUl•þïþÅƒt¤ÍÍÍ\u001d",
    "Ü?Ó[\u001b\u00141s‰èÅŒ\u0003­Ñ<Ó…O˜B<¢K?d¢p‡ý‡,kL$>eêð,Ú‘|8×Ì Z*15kg„Âãø°±à?¶B\u0011ù%Á“Š\u0015À(“&1¥Ù\u0013\u001c",
    "½»¾÷ŠÃ9ÛQ’\u0004f*±i]Ï€u°\u0006À÷¡ñì\u0014wÉeød\"<lÿÂ»¶›Šá…KÒïƒT;y¶ø´\u001d",
    "\u001f“:v'mzD°…Ý5¨\"Xâ¶é%ß—a”\u0019K\\C{;ñzn\"GI\u0003©$ã\u000e«Šáµ6S÷¬æÂ\u0007”\u000eëˆŽ6> º¥µrì/9ù—åðÕÐ\bÕÍÔiŸ\u0010T¶Xš¤ü${N‡­¿   ÿÿ\u0003 PK\u0003\u0004\u0014 \u0006 \b   !  *J¹ã\u0002  '\u0006  \u0014   xl/tables/table1.xmlœ”]£6\u0014†ï+í@Ü{ð\u0017\u0018¢$+ŒM5RÛ‹ýø\u0001\u001e",
    "âLÐ\u0002ŽŒ³›¨êï!™e‚f*µ½ƒcû9ç¼ï±×\u001fÏ}\u0017}·~lÝ°‰É\u0003Ž#;4n×\u000eÏ›øë—\u001aåq4\u00063ìLç\u0006»‰/vŒ?n?ü²\u000eæ©³\u0011œ\u001e",
    "ÆM|\bá¸J’±9ØÞŒ\u000fîh\u0007XÙ;ß› ¿þ9\u0019ÞšÝx°6ô]B1Î’Þ´C|#¬úæß@zã¿Ž¨qýÑ„ö©íÚp¹²â¨oVÏƒóSU›øì£³g?ágÿ\u0006Þ·w£Û‡\u0007€%n¿o\u001bû¦FÂ\u0013o¿·“4¯(ö?YÙÌ‚ºÚ\u001d",
    "h\n",
    "L¿:MŸ\u0016Th&•DœT\u0015â\"\u0015¨Ð\u0019C\u0018\u0013&…$%cò¯8\u001aL\u000fÍ}™z„Ó»v<væòÇ\"èí~\u0013—dõ«ˆ£à‚éÆOîÇçƒû\u0001î‚·\u00070Áz\b©óþ\u00112ß‡¤ó°ö²PÀñ)Ï\"H`û\f",
    "]¬äñvmNÁÕm\u0017¬î«øM&ÛÛhU®;õÃ\u00185î4„M, Áµ [üUAö\"aŽ\u0005¡˜J„e‘\"ÎT‰J]iD5'˜\u0012šâLÌ\u0012ŽÁƒ~&˜—nE¼L{ÅÓÉ Ÿx]\u0015iÓ\u0012Õ˜+Ä©\u0014¨¬*Ž””¬Ê±ÆDÑ\u0019ß\u000eaÏÞÃOã9ãËª$¹&\u0002ÉLÃ ÈZ£œ\u0013‚04¢…JY­ñŒr®[ðÓ÷øüž/E)°L\u0015ªy!\u0010×\u0015F’\u0015 VJU†+ÉêšÌü}çÌ²\u0001\u000eê7¦kN\tvw³ †Û\n",
    "ÿ[I\u0011{ |üÓ†urgÜ[\u0017Óû:•ÊŠ”è\u001aUT€Ì\\+TRp‘³¢â²$T\u0015l®\u0013\f",
    "´\u000b",
    "\u001d",
    "Ø{:d÷ü´*\u0018æ‚¡*\u0015\u0019èœ)TÔ sMy™g¬¨SžÎüÐöK>}\u000f\u0017íÕG¡\u0018×¥\"ˆš\"®ª\u001c",
    "åJÀ\u0014Âô<+ò\\W3¿úŸ¿,z SŽ{ÅÆ\u0017É>‡Kg\u001f‡½»\u0006®Áßí®=õ0®#Üóºõc¸9t½ÞSì7ó&4½\n",
    "Á·G\u000b",
    "¯7¼%Ó®Û¡9Š_\u000b",
    "Ùþ\n",
    "  ÿÿ\u0003 PK\u0003\u0004\u0014 \u0006 \b   ! @]à+§   þ   \u0010   xl/calcChain.xml\\ÎA\n",
    "Â0\u0010\u0005Ð½à\u001d",
    "ÂìmjÕ*Ò´\u000b",
    "Å\u0013è\u0001B:6dR’ z{#h…n\u0006æ}øü¦{:Ë\u001e",
    "\u0018¢ñ$`]”À”ï\n",
    "\n",
    "\u0002n×Ëê ,&I½´žPÀ\u000b",
    "#tírÑ(iÕIKC,7P\u0014 S\u001aœG¥ÑÉXø\u0011)'w\u001fœLù\n",
    "\u0003c@ÙG˜œåUYÖÜå\u0002h\u001bÅ‚€ó\u0006˜É\u001b€ÙÏå?Þ~y‚Ý\u001c",
    "ê9ìçPýOËÛ7   ÿÿ\u0003 PK\u0003\u0004\u0014 \u0006 \b   ! ºq\u0010WC\u0001  Y\u0002  \u0011 \b\u0001docProps/core.xml ¢\u0004\u0001(  \u0001                                                                                                                                                                                                                                                                Œ’ÍNÃ0\u0010„ïH¼Cä{b'©h±’T\u0002Ô\u0013•*\u0011ÄÏÍ²·mDìX¶!íÛã$m\b*\u0007ŽÞ™ývvålyuð\u0005ÆVÊQ\u001c",
    "\u0011\u0014€â¨Ô.GÏå*\\ À:¦\u0004«\u001b\u00059:‚EËâú*ãšòÆÀÆ4\u001aŒ«À\u0006ž¤,å:G{ç4ÅØò=Hf#ïP^Ü6F2çŸf‡5ã\u001fl\u00078!ä\u0006KpL0Çp\u0007\f",
    "õHD'¤à#Ršº\u0007\bŽ¡\u0006\tÊY\u001c",
    "G1þñ:0ÒþÙÐ+\u0013§¬ÜQûNq§lÁ\u0007qt\u001fl5\u001aÛ¶Ú´áóÇøuýøÔ¯\u001aVª»\u0015\u0007Td‚Sn€¹Æ\u0014›·JgxRèŽW3ëÖþÎÛ\n",
    "ÄÝñä¹¬{N\u001f{€\b|\u0010:Ä>+/éýC¹BEB’4$ó0™•1¡)¡Éí{7öW\u0017l(ÈÓðÿ\u0010çe<£\t¡d1!ž\u0001E†/>Cñ\n",
    "  ÿÿ\u0003 PK\u0003\u0004\u0014 \u0006 \b   ! ˜¸\u0011ˆ\u0001  \u001a\u0003  \u0010 \b\u0001docProps/app.xml ¢\u0004\u0001(  \u0001                                                                                                                                                                                                                                                                œ’AoÛ0\f",
    "…ï\u0003ö\u001f\f",
    "\u0001=6rº¡\u0018\u0002YÅnèaÃ\u0002$íÎœLÇBeI\u0010Y#Ù¯Ÿl/©³í´\u001bùøðô‰’º;t®è1‘\n",
    "¾\u0012ËE)\n",
    "ô&ÔÖï+ñ¸û|ýA\u0014ÄàkpÁc%ŽHâN¿}£6)DLl‘Š\u001c",
    "á©\u0012-s\\II¦Å\u000eh‘Ç>Oš:àÜ¦½\f",
    "Mc\n",
    "Þ\u0007óÒ¡gyS–·\u0012\u000fŒ¾Æú:ž\u0003Å”¸êùCë`\u0006>zÚ\u001d",
    "c\u0006ÖêcŒÎ\u001aà|KýÕš\u0014(4\\|:\u0018tJÎ‡*ÓmÑ¼$ËG]*9oÕÖ€Ãu\u000eÖ\n",
    "8B%_\u0005õ€0,m\u00036‘V=¯z4\u001c",
    "RAög^Û(~ á€S‰\u001e",
    "’\u0005Ï\u0019k°MÍX»Hœô÷ž©EdR2\u001b&q,çÞymßëåhÈÅ¥q\b˜@òà\u0012qgÙ!}k6ø\u001fÄË9ñÈ0ñN8Ûo:sÎ7^9ŸôGö:t\u0011üQ_ý.®”<Iê‹õÏô\u0018wá\u001e",
    "\u0018O{½\u0014Õ¶…„u~ŠóÞÏ‚zÈ+Mn\bY·à÷XŸ<\u000f†_ð4}u½¼]”ïÊüÀ3MÉ×O­\u0001  ÿÿ\u0003 PK\u0001\u0002- \u0014 \u0006 \b   ! ï\b‡¾ˆ\u0001  \u0004\u0006  \u0013                 [Content_Types].xmlPK\u0001\u0002- \u0014 \u0006 \b   ! µU0#ô   L\u0002  \u000b",
    "             Á\u0003  _rels/.relsPK\u0001\u0002- \u0014 \u0006 \b   ! fc’K”\u0003  ï\b  \u000f             æ\u0006  xl/workbook.xmlPK\u0001\u0002- \u0014 \u0006 \b   ! ’\u0007”ì\u0004\u0001  ?\u0003  \u001a             §\n",
    "  xl/_rels/workbook.xml.relsPK\u0001\u0002- \u0014 \u0006 \b   ! îõ\u000eº\u0004  G\u000e  \u0018             ë\f",
    "  xl/worksheets/sheet1.xmlPK\u0001\u0002- \u0014 \u0006 \b   ! Á\u0017\u0010¾N\u0007  Æ   \u0013             Û\u0011  xl/theme/theme1.xmlPK\u0001\u0002- \u0014 \u0006 \b   ! ^®l\u0013œ\u0004  \u0001\u001c",
    "  \n",
    "             Z\u0019  xl/styles.xmlPK\u0001\u0002- \u0014 \u0006 \b   ! äÐÐºÿ   \u0005\u0002  \u0014             !\u001e",
    "  xl/sharedStrings.xmlPK\u0001\u0002- \u0014 \u0006 \b   ! A¿ø`Ù   Ê\u0001  #             R\u001f  xl/worksheets/_rels/sheet1.xml.relsPK\u0001\u0002- \u0014 \u0006 \b   ! Ø Ç÷[\u0004  \b\u0014  '             l   xl/printerSettings/printerSettings1.binPK\u0001\u0002- \u0014 \u0006 \b   !  *J¹ã\u0002  '\u0006  \u0014             \f",
    "%  xl/tables/table1.xmlPK\u0001\u0002- \u0014 \u0006 \b   ! @]à+§   þ   \u0010             !(  xl/calcChain.xmlPK\u0001\u0002- \u0014 \u0006 \b   ! ºq\u0010WC\u0001  Y\u0002  \u0011             ö(  docProps/core.xmlPK\u0001\u0002- \u0014 \u0006 \b   ! ˜¸\u0011ˆ\u0001  \u001a\u0003  \u0010             p+  docProps/app.xmlPK\u0005\u0006    \u000e \u000e ¦\u0003  6.    "
   ]
  },
  {
   "attachments": {},
   "cell_type": "markdown",
   "metadata": {},
   "source": [
    "However the additional formatting is not important and only the data is read in by Python. The related function ```read_excel``` is used to read in the data from an Excel File. The delimiter is predefined in an Excel File however the Excel File can have multiple sheets so the keyword input argument ```sheet_name``` is available, this defaults to the name ```'Sheet1'``` which is the default for an Excel Spreadsheet:"
   ]
  },
  {
   "cell_type": "code",
   "execution_count": null,
   "metadata": {},
   "outputs": [],
   "source": [
    "pd.read_excel?"
   ]
  },
  {
   "cell_type": "code",
   "execution_count": null,
   "metadata": {},
   "outputs": [],
   "source": [
    "df = pd.read_excel(r'.\\files\\Book3.xlsx', sheet_name='Sheet1')"
   ]
  },
  {
   "cell_type": "code",
   "execution_count": null,
   "metadata": {},
   "outputs": [],
   "source": [
    "df"
   ]
  },
  {
   "attachments": {},
   "cell_type": "markdown",
   "metadata": {},
   "source": [
    "Sheets in an Excel File are ordered and the ordering of the sheets is analogous to a ```RangeIndex``` (```'Sheet1'``` corresponds to an index of ```0``` because of zero-order indexing):"
   ]
  },
  {
   "cell_type": "code",
   "execution_count": null,
   "metadata": {},
   "outputs": [],
   "source": [
    "df = pd.read_excel(r'.\\files\\Book3.xlsx', sheet_name=0)"
   ]
  },
  {
   "cell_type": "code",
   "execution_count": null,
   "metadata": {},
   "outputs": [],
   "source": [
    "df"
   ]
  },
  {
   "attachments": {},
   "cell_type": "markdown",
   "metadata": {},
   "source": [
    "In a .xlsx file, a column is normally formatted for a datetime format and the xlsx file contains the formatting information. This is used by the ```read_excel``` function and therefore there is usually more success parsing dates from an .xlsx file:"
   ]
  },
  {
   "cell_type": "code",
   "execution_count": null,
   "metadata": {},
   "outputs": [],
   "source": [
    "df = pd.read_excel(r'./files/Book3.xlsx', sheet_name='Sheet1', parse_dates=True)"
   ]
  },
  {
   "cell_type": "code",
   "execution_count": null,
   "metadata": {},
   "outputs": [],
   "source": [
    "df"
   ]
  },
  {
   "attachments": {},
   "cell_type": "markdown",
   "metadata": {},
   "source": [
    "The date column is parsed as a date but the time column isn't:"
   ]
  },
  {
   "cell_type": "code",
   "execution_count": null,
   "metadata": {},
   "outputs": [],
   "source": [
    "df.dtypes"
   ]
  },
  {
   "attachments": {},
   "cell_type": "markdown",
   "metadata": {},
   "source": [
    "When reading from a csv, the date and time columns are usually read in as ```str``` and have to be manipulated to get the correct format. If the ```date``` ```Series``` of datatype ```datetime64``` is cast to a ```str```:"
   ]
  },
  {
   "cell_type": "code",
   "execution_count": null,
   "metadata": {},
   "outputs": [],
   "source": [
    "df['date'].astype('str')"
   ]
  },
  {
   "cell_type": "markdown",
   "metadata": {},
   "source": [
    "Then the ```str``` can be indexed to only get the date component:"
   ]
  },
  {
   "cell_type": "code",
   "execution_count": null,
   "metadata": {},
   "outputs": [],
   "source": [
    "df['date'].astype('str').str[:10]"
   ]
  },
  {
   "cell_type": "markdown",
   "metadata": {},
   "source": [
    "And time component:"
   ]
  },
  {
   "cell_type": "code",
   "execution_count": null,
   "metadata": {},
   "outputs": [],
   "source": [
    "df['date'].astype('str').str[11:]"
   ]
  },
  {
   "attachments": {},
   "cell_type": "markdown",
   "metadata": {},
   "source": [
    "These components can be used to create a timestamp:"
   ]
  },
  {
   "cell_type": "code",
   "execution_count": null,
   "metadata": {},
   "outputs": [],
   "source": [
    "df['date'].astype('str').str[:10] + ' T' + df['date'].astype('str').str[11:]"
   ]
  },
  {
   "cell_type": "code",
   "execution_count": null,
   "metadata": {},
   "outputs": [],
   "source": [
    "df['datetime'] = df['date'].astype('str').str[:10] + ' T' + df['date'].astype('str').str[11:]"
   ]
  },
  {
   "cell_type": "code",
   "execution_count": null,
   "metadata": {},
   "outputs": [],
   "source": [
    "df"
   ]
  },
  {
   "cell_type": "markdown",
   "metadata": {},
   "source": [
    "And this can be cast into ```'datetime[ns]'```:"
   ]
  },
  {
   "cell_type": "code",
   "execution_count": null,
   "metadata": {},
   "outputs": [],
   "source": [
    "df['datetime'].astype('datetime64[ns]')"
   ]
  },
  {
   "cell_type": "code",
   "execution_count": null,
   "metadata": {},
   "outputs": [],
   "source": [
    "df['datetime'] = df['datetime'].astype('datetime64[ns]')\n",
    "del df['date']\n",
    "del df['time']\n",
    "df"
   ]
  },
  {
   "attachments": {},
   "cell_type": "markdown",
   "metadata": {},
   "source": [
    "The categorical ```Series``` can be made categorical:"
   ]
  },
  {
   "cell_type": "code",
   "execution_count": null,
   "metadata": {},
   "outputs": [],
   "source": [
    "df['category'].astype('category')"
   ]
  },
  {
   "cell_type": "code",
   "execution_count": null,
   "metadata": {},
   "outputs": [],
   "source": [
    "df['category'] = df['category'].astype('category')"
   ]
  },
  {
   "attachments": {},
   "cell_type": "markdown",
   "metadata": {},
   "source": [
    "Then to reorder the columns, indexing is quite commonly used:"
   ]
  },
  {
   "cell_type": "code",
   "execution_count": null,
   "metadata": {},
   "outputs": [],
   "source": [
    "df"
   ]
  },
  {
   "cell_type": "code",
   "execution_count": null,
   "metadata": {},
   "outputs": [],
   "source": [
    "df[['string', 'integer', 'boolean', 'floatingpoint', 'datetime', 'category']]"
   ]
  },
  {
   "attachments": {},
   "cell_type": "markdown",
   "metadata": {},
   "source": [
    "The instance name ```df``` can be reassigned to this output:"
   ]
  },
  {
   "cell_type": "code",
   "execution_count": null,
   "metadata": {},
   "outputs": [],
   "source": [
    "df = df[['string', 'integer', 'boolean', 'floatingpoint', 'datetime', 'category']]"
   ]
  },
  {
   "attachments": {},
   "cell_type": "markdown",
   "metadata": {},
   "source": [
    "## Writing DataFrames to Objects and Files"
   ]
  },
  {
   "attachments": {},
   "cell_type": "markdown",
   "metadata": {},
   "source": [
    "The ```DataFrame``` class has a number of methods for writing to files:"
   ]
  },
  {
   "cell_type": "code",
   "execution_count": null,
   "metadata": {},
   "outputs": [],
   "source": [
    "for identifier in dir(df):\n",
    "    if identifier.startswith('to_'):\n",
    "        print(identifier, end=' ')"
   ]
  },
  {
   "attachments": {},
   "cell_type": "markdown",
   "metadata": {},
   "source": [
    "## Python Dictionary"
   ]
  },
  {
   "attachments": {},
   "cell_type": "markdown",
   "metadata": {},
   "source": [
    "A  ```DataFrame``` instance can be written to a dictionary using:"
   ]
  },
  {
   "cell_type": "code",
   "execution_count": null,
   "metadata": {},
   "outputs": [],
   "source": [
    "df.to_dict()"
   ]
  },
  {
   "attachments": {},
   "cell_type": "markdown",
   "metadata": {},
   "source": [
    "Note that this is the same form that can be used to instantiate a ```DataFrame```:"
   ]
  },
  {
   "cell_type": "code",
   "execution_count": null,
   "metadata": {},
   "outputs": [],
   "source": [
    "pd.DataFrame(data=df.to_dict())"
   ]
  },
  {
   "attachments": {},
   "cell_type": "markdown",
   "metadata": {},
   "source": [
    "## JSON"
   ]
  },
  {
   "attachments": {},
   "cell_type": "markdown",
   "metadata": {},
   "source": [
    "JavaScript Object Notation (JSON) has become a commonly used standard data stream. It is common to retrieve data from a website stored in a JSON table and convert it to a ```DataFrame```:"
   ]
  },
  {
   "cell_type": "code",
   "execution_count": null,
   "metadata": {},
   "outputs": [],
   "source": [
    "df.to_json()"
   ]
  },
  {
   "cell_type": "markdown",
   "metadata": {},
   "source": [
    "Notice the above is similar to a ```str``` of a Python ```dict``` however there are some subtle differences between the two file formats:"
   ]
  },
  {
   "cell_type": "code",
   "execution_count": null,
   "metadata": {},
   "outputs": [],
   "source": [
    "dataframe_string = df.to_json()"
   ]
  },
  {
   "cell_type": "markdown",
   "metadata": {},
   "source": [
    "The ```StringIO``` class can prepare a ```str``` for input output operations:"
   ]
  },
  {
   "cell_type": "code",
   "execution_count": null,
   "metadata": {},
   "outputs": [],
   "source": [
    "from io import StringIO\n",
    "dataframe_string_io = StringIO(dataframe_string)"
   ]
  },
  {
   "cell_type": "markdown",
   "metadata": {},
   "source": [
    "This ```StringIO``` instance can be read in using the complementary ```read_json``` function, returning a ```DataFrame```:"
   ]
  },
  {
   "cell_type": "code",
   "execution_count": null,
   "metadata": {},
   "outputs": [],
   "source": [
    "pd.read_json(dataframe_string_io)"
   ]
  },
  {
   "attachments": {},
   "cell_type": "markdown",
   "metadata": {},
   "source": [
    "## Markdown"
   ]
  },
  {
   "attachments": {},
   "cell_type": "markdown",
   "metadata": {},
   "source": [
    "A DataFrame can be written to markdown using:"
   ]
  },
  {
   "cell_type": "code",
   "execution_count": null,
   "metadata": {},
   "outputs": [],
   "source": [
    "df.to_markdown()"
   ]
  },
  {
   "attachments": {},
   "cell_type": "markdown",
   "metadata": {},
   "source": [
    "If this is printed:"
   ]
  },
  {
   "cell_type": "code",
   "execution_count": null,
   "metadata": {},
   "outputs": [],
   "source": [
    "print(df.to_markdown())"
   ]
  },
  {
   "attachments": {},
   "cell_type": "markdown",
   "metadata": {},
   "source": [
    "When the cell output is copied to a markdown cell it displays:"
   ]
  },
  {
   "attachments": {},
   "cell_type": "markdown",
   "metadata": {},
   "source": [
    "|    | string            |   integer | boolean   |   floatingpoint | datetime            | category   |\n",
    "|---:|:------------------|----------:|:----------|----------------:|:--------------------|:-----------|\n",
    "|  0 | the fat black cat |         4 | True      |            0.86 | 2023-07-24 11:36:00 | A          |\n",
    "|  1 | sat on the mat    |         4 | True      |            0.86 | 2023-07-25 12:36:00 | A          |\n",
    "|  2 | twinkle, twinkle  |         2 | True      |           -1.14 | 2023-07-26 13:36:00 | B          |\n",
    "|  3 | little star       |         2 | True      |           -1.14 | 2023-07-27 14:36:00 | B          |\n",
    "|  4 | how I wonder      |         3 | False     |           -0.14 | 2023-07-28 15:36:00 | B          |\n",
    "|  5 | what you are      |         4 | True      |            0.86 | 2023-07-29 16:36:00 | B          |"
   ]
  },
  {
   "attachments": {},
   "cell_type": "markdown",
   "metadata": {},
   "source": [
    "There is no analogous function to read in data from this format:"
   ]
  },
  {
   "attachments": {},
   "cell_type": "markdown",
   "metadata": {},
   "source": [
    "## CSV and Text Files"
   ]
  },
  {
   "attachments": {},
   "cell_type": "markdown",
   "metadata": {},
   "source": [
    "The DataFrame can be written to_csv:"
   ]
  },
  {
   "cell_type": "code",
   "execution_count": null,
   "metadata": {},
   "outputs": [],
   "source": [
    "df.to_csv(r'.\\files\\Book4.csv')"
   ]
  },
  {
   "attachments": {},
   "cell_type": "markdown",
   "metadata": {},
   "source": [
    "This has the raw form:"
   ]
  },
  {
   "cell_type": "raw",
   "metadata": {},
   "source": [
    ",string,integer,boolean,floatingpoint,datetime,category\\n\n",
    "0,the fat black cat,4,True,0.8599999999999999,2023-07-24 11:36:00,A\\n\n",
    "1,sat on the mat,4,True,0.8599999999999999,2023-07-25 12:36:00,A\\n\n",
    "2,\"twinkle, twinkle\",2,True,-1.1400000000000001,2023-07-26 13:36:00,B\\n\n",
    "3,little star,2,True,-1.1400000000000001,2023-07-27 14:36:00,B\\n\n",
    "4,how I wonder,3,False,-0.14000000000000012,2023-07-28 15:36:00,B\\n\n",
    "5,what you are,4,True,0.8599999999999999,2023-07-29 16:36:00,B\\n"
   ]
  },
  {
   "attachments": {},
   "cell_type": "markdown",
   "metadata": {},
   "source": [
    "Notice that an index was added, meaning if this is read into a ```DataFrame``` instance using the defaults there is an Unnamed ```Series``` corresponding to the index read in:"
   ]
  },
  {
   "cell_type": "code",
   "execution_count": null,
   "metadata": {},
   "outputs": [],
   "source": [
    "pd.read_csv(r'.\\files\\Book4.csv')"
   ]
  },
  {
   "attachments": {},
   "cell_type": "markdown",
   "metadata": {},
   "source": [
    "This can be assigned to the ```Index``` using the keyword input argument ```index_col```:"
   ]
  },
  {
   "cell_type": "code",
   "execution_count": null,
   "metadata": {},
   "outputs": [],
   "source": [
    "pd.read_csv(r'.\\files\\Book4.csv', index_col=0)"
   ]
  },
  {
   "attachments": {},
   "cell_type": "markdown",
   "metadata": {},
   "source": [
    "Alternatively the ```DataFrame``` can be exported without the ```Index```:"
   ]
  },
  {
   "cell_type": "code",
   "execution_count": null,
   "metadata": {},
   "outputs": [],
   "source": [
    "df.to_csv?"
   ]
  },
  {
   "cell_type": "code",
   "execution_count": null,
   "metadata": {},
   "outputs": [],
   "source": [
    "df.to_csv(r'.\\files\\Book5.csv', index=False)"
   ]
  },
  {
   "cell_type": "raw",
   "metadata": {},
   "source": [
    "string,integer,boolean,floatingpoint,datetime,category\\n\n",
    "the fat black cat,4,True,0.8599999999999999,2023-07-24 11:36:00,A\\n\n",
    "sat on the mat,4,True,0.8599999999999999,2023-07-25 12:36:00,A\\n\n",
    "\"twinkle, twinkle\",2,True,-1.1400000000000001,2023-07-26 13:36:00,B\\n\n",
    "little star,2,True,-1.1400000000000001,2023-07-27 14:36:00,B\\n\n",
    "how I wonder,3,False,-0.14000000000000012,2023-07-28 15:36:00,B\\n\n",
    "what you are,4,True,0.8599999999999999,2023-07-29 16:36:00,B\\n"
   ]
  },
  {
   "attachments": {},
   "cell_type": "markdown",
   "metadata": {},
   "source": [
    "To save to a text file, the seperator needs to be specified:"
   ]
  },
  {
   "cell_type": "code",
   "execution_count": null,
   "metadata": {},
   "outputs": [],
   "source": [
    "df.to_csv(r'.\\files\\Book6.txt', sep='\\t', index=False)"
   ]
  },
  {
   "cell_type": "raw",
   "metadata": {},
   "source": [
    "string\\tinteger\\tboolean\\tfloatingpoint\\tdatetime\\tcategory\\n\n",
    "the fat black cat\\t4\\tTrue\\t0.8599999999999999\\t2023-07-24 11:36:00\\tA\\n\n",
    "sat on the mat\\t4\\tTrue\\t0.8599999999999999\\t2023-07-25 12:36:00\\tA\\n\n",
    "twinkle, twinkle\\t2\\tTrue\\t-1.1400000000000001\\t2023-07-26 13:36:00\\tB\\n\n",
    "little star\\t2\\tTrue\\t-1.1400000000000001\\t2023-07-27 14:36:00\\tB\\n\n",
    "how I wonder\\t3\\tFalse\\t-0.14000000000000012\\t2023-07-28 15:36:00\\tB\\n\n",
    "what you are\\t4\\tTrue\\t0.8599999999999999\\t2023-07-29 16:36:00\\tB\\n"
   ]
  },
  {
   "attachments": {},
   "cell_type": "markdown",
   "metadata": {},
   "source": [
    "## Excel File"
   ]
  },
  {
   "attachments": {},
   "cell_type": "markdown",
   "metadata": {},
   "source": [
    "Supposing there are three DataFrame instances:"
   ]
  },
  {
   "cell_type": "code",
   "execution_count": null,
   "metadata": {},
   "outputs": [],
   "source": [
    "df"
   ]
  },
  {
   "cell_type": "code",
   "execution_count": null,
   "metadata": {},
   "outputs": [],
   "source": [
    "df2 = df[['string', 'integer', 'boolean']]"
   ]
  },
  {
   "cell_type": "code",
   "execution_count": null,
   "metadata": {},
   "outputs": [],
   "source": [
    "df2"
   ]
  },
  {
   "cell_type": "code",
   "execution_count": null,
   "metadata": {},
   "outputs": [],
   "source": [
    "df3 = df[['string', 'datetime', 'category']]"
   ]
  },
  {
   "cell_type": "code",
   "execution_count": null,
   "metadata": {},
   "outputs": [],
   "source": [
    "df3"
   ]
  },
  {
   "attachments": {},
   "cell_type": "markdown",
   "metadata": {},
   "source": [
    "The method ```to_excel``` allows the writing of multiple ```DataFrame``` instances to individual sheets within an Excel File:"
   ]
  },
  {
   "cell_type": "code",
   "execution_count": null,
   "metadata": {},
   "outputs": [],
   "source": [
    "df.to_excel?"
   ]
  },
  {
   "attachments": {},
   "cell_type": "markdown",
   "metadata": {},
   "source": [
    "To write ```DataFrame``` instances to multiple sheets an ```ExcelWriter``` instance has to be instantiated and given the instruction to create a blank Excel File:"
   ]
  },
  {
   "cell_type": "code",
   "execution_count": null,
   "metadata": {},
   "outputs": [],
   "source": [
    "writer = pd.ExcelWriter(path=r'.\\files\\Book7.xlsx')"
   ]
  },
  {
   "attachments": {},
   "cell_type": "markdown",
   "metadata": {},
   "source": [
    "The ```DataFrame``` method ```to_excel``` can then be used to instruct the ```ExcelWriter``` instance to write the ```DataFrame``` instance to a specified sheet:"
   ]
  },
  {
   "cell_type": "code",
   "execution_count": null,
   "metadata": {},
   "outputs": [],
   "source": [
    "df.to_excel(excel_writer=writer, sheet_name='df')\n",
    "df2.to_excel(excel_writer=writer, sheet_name='df2')\n",
    "df3.to_excel(excel_writer=writer, sheet_name='df3')"
   ]
  },
  {
   "attachments": {},
   "cell_type": "markdown",
   "metadata": {},
   "source": [
    "Details about the sheets being written can be seen using the ```ExcelWriter``` attribute ```sheets``` which is a mapping where the key is the sheet name and the value is the sheet being written:"
   ]
  },
  {
   "cell_type": "code",
   "execution_count": null,
   "metadata": {},
   "outputs": [],
   "source": [
    "writer.sheets"
   ]
  },
  {
   "attachments": {},
   "cell_type": "markdown",
   "metadata": {},
   "source": [
    "Finally the ```ExcelWriter``` instance can be closed. This will release the Excel SpreadSheet from Python:"
   ]
  },
  {
   "cell_type": "code",
   "execution_count": null,
   "metadata": {},
   "outputs": [],
   "source": [
    "writer.close()"
   ]
  },
  {
   "attachments": {},
   "cell_type": "markdown",
   "metadata": {},
   "source": [
    "<img src='./images/img_008.png' alt='img_008' width='800'/>\n",
    "\n",
    "<img src='./images/img_009.png' alt='img_009' width='800'/>\n",
    "\n",
    "<img src='./images/img_010.png' alt='img_010' width='800'/>"
   ]
  },
  {
   "attachments": {},
   "cell_type": "markdown",
   "metadata": {},
   "source": [
    "The identifiers of the ```ExcelWriter``` class can be examined:"
   ]
  },
  {
   "cell_type": "code",
   "execution_count": null,
   "metadata": {},
   "outputs": [],
   "source": [
    "print('datamodel attribute:', end=' ')\n",
    "print_identifier_group(pd.ExcelWriter, kind='datamodel_attribute')\n",
    "print('datamodel method:', end=' ')\n",
    "print_identifier_group(pd.ExcelWriter, kind='datamodel_method')\n",
    "print('attribute:', end=' ')\n",
    "print_identifier_group(pd.ExcelWriter, kind='attribute')\n",
    "print('method:', end=' ')\n",
    "print_identifier_group(pd.ExcelWriter, kind='function')"
   ]
  },
  {
   "cell_type": "markdown",
   "metadata": {},
   "source": [
    "Notice it has the datamodel identifiers ```__enter__``` and ```__exit__``` which means it can be used within a ```with``` code block. The ```with``` code block will automatically close the ```ExcelWriter``` class when the block ends and is the safest to create the file, write multiple sheets to it and close the file::"
   ]
  },
  {
   "cell_type": "code",
   "execution_count": null,
   "metadata": {},
   "outputs": [],
   "source": [
    "with pd.ExcelWriter(r'.\\files\\Book8.xlsx') as writer:  \n",
    "    df.to_excel(writer, sheet_name='df1', index=False)\n",
    "    df2.to_excel(writer, sheet_name='df2', index=False)\n",
    "    df3.to_excel(writer, sheet_name='df3', index=False)"
   ]
  },
  {
   "attachments": {},
   "cell_type": "markdown",
   "metadata": {},
   "source": [
    "<img src='./images/img_011.png' alt='img_011' width='800'/>\n",
    "\n",
    "<img src='./images/img_012.png' alt='img_012' width='800'/>\n",
    "\n",
    "<img src='./images/img_013.png' alt='img_013' width='800'/>"
   ]
  }
 ],
 "metadata": {
  "kernelspec": {
   "display_name": "Python 3 (ipykernel)",
   "language": "python",
   "name": "python3"
  },
  "language_info": {
   "codemirror_mode": {
    "name": "ipython",
    "version": 3
   },
   "file_extension": ".py",
   "mimetype": "text/x-python",
   "name": "python",
   "nbconvert_exporter": "python",
   "pygments_lexer": "ipython3",
   "version": "3.12.1"
  },
  "vscode": {
   "interpreter": {
    "hash": "4648373dafda34926c036cc9e466ef2f8d360789320441bb704a9be21d427d2a"
   }
  }
 },
 "nbformat": 4,
 "nbformat_minor": 4
}
