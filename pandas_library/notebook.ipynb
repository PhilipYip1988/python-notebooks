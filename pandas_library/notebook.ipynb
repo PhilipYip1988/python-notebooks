{
 "cells": [
  {
   "attachments": {},
   "cell_type": "markdown",
   "metadata": {},
   "source": [
    "# Pandas Library"
   ]
  },
  {
   "attachments": {},
   "cell_type": "markdown",
   "metadata": {},
   "source": [
    "pandas is an abbreviation for the **P**ython **an**d **D**ata **A**naly**s**is Library. It is a library that uses three main data structures:\n",
    "\n",
    "* the Index class\n",
    "* the Series class\n",
    "* the DataFrame class"
   ]
  },
  {
   "attachments": {},
   "cell_type": "markdown",
   "metadata": {},
   "source": [
    "Most Index classes are numeric, that is zero-order integer steps of one."
   ]
  },
  {
   "attachments": {},
   "cell_type": "markdown",
   "metadata": {},
   "source": [
    "The Index, similar to a tuple, list or 1darray has a single dimension which can be represented either as a row:\n",
    "\n",
    "|index|0|1|2|3|\n",
    "|---|---|---|---|---|\n",
    "\n",
    "Or as a column when convenient:\n",
    "\n",
    "|index|\n",
    "|---|\n",
    "|0|\n",
    "|1|\n",
    "|2|\n",
    "|3|\n"
   ]
  },
  {
   "attachments": {},
   "cell_type": "markdown",
   "metadata": {},
   "source": [
    "The Series class has a value at each index and a name. It is essentially a numpy 1darray that has a name. A Series is normally represented as a column (notice the Index associated with the Series is also displayed as a column):"
   ]
  },
  {
   "attachments": {},
   "cell_type": "markdown",
   "metadata": {},
   "source": [
    "|index|'x'|\n",
    "|---|---|\n",
    "|0|1.1|\n",
    "|1|2.1|\n",
    "|2|3.1|\n",
    "|3|4.1|"
   ]
  },
  {
   "attachments": {},
   "cell_type": "markdown",
   "metadata": {},
   "source": [
    "A DataFrame class is essentially a grouping of series instances that have the same index:"
   ]
  },
  {
   "attachments": {},
   "cell_type": "markdown",
   "metadata": {},
   "source": [
    "|index|'x'|'y'|\n",
    "|---|---|---|\n",
    "|0|1.1|1.2|\n",
    "|1|2.1|2.2|\n",
    "|2|3.1|3.2|\n",
    "|3|4.1|4.2|"
   ]
  },
  {
   "cell_type": "markdown",
   "metadata": {},
   "source": [
    "## Categorize_Identifiers Module"
   ]
  },
  {
   "cell_type": "markdown",
   "metadata": {},
   "source": [
    "This notebook will use the following functions ```dir2```, ```variables``` and ```view``` in the custom module ```categorize_identifiers``` which is found in the same directory as this notebook file. ```dir2``` is a variant of ```dir``` that groups identifiers into a ```dict``` under categories and ```variables``` is an IPython based a variable inspector. ```view``` is used to view a ```Collection``` in more detail:"
   ]
  },
  {
   "cell_type": "code",
   "execution_count": 1,
   "metadata": {},
   "outputs": [],
   "source": [
    "from categorize_identifiers import dir2, variables, view"
   ]
  },
  {
   "cell_type": "markdown",
   "metadata": {},
   "source": [
    "The following will be imported in order to simplify the output of ```dir2```:"
   ]
  },
  {
   "cell_type": "code",
   "execution_count": 2,
   "metadata": {},
   "outputs": [],
   "source": [
    "import operator\n",
    "reverse_operators = ['radd', 'rmod', 'rmul', 'rpow', 'rsub', 'rtruediv']"
   ]
  },
  {
   "attachments": {},
   "cell_type": "markdown",
   "metadata": {},
   "source": [
    "## Importing Libraries"
   ]
  },
  {
   "attachments": {},
   "cell_type": "markdown",
   "metadata": {},
   "source": [
    "To use the data science libraries they need to be imported:"
   ]
  },
  {
   "cell_type": "code",
   "execution_count": 3,
   "metadata": {},
   "outputs": [],
   "source": [
    "import numpy as np \n",
    "import pandas as pd"
   ]
  },
  {
   "attachments": {},
   "cell_type": "markdown",
   "metadata": {},
   "source": [
    "Once imported the identifiers can be viewed:"
   ]
  },
  {
   "cell_type": "code",
   "execution_count": 8,
   "metadata": {
    "scrolled": true
   },
   "outputs": [
    {
     "name": "stdout",
     "output_type": "stream",
     "text": [
      "{'attribute': ['annotations', 'options'],\n",
      " 'constant': ['IndexSlice', 'NA', 'NaT'],\n",
      " 'module': ['api',\n",
      "            'arrays',\n",
      "            'compat',\n",
      "            'core',\n",
      "            'errors',\n",
      "            'io',\n",
      "            'offsets',\n",
      "            'pandas',\n",
      "            'plotting',\n",
      "            'testing',\n",
      "            'tseries',\n",
      "            'util'],\n",
      " 'method': ['array',\n",
      "            'bdate_range',\n",
      "            'concat',\n",
      "            'crosstab',\n",
      "            'cut',\n",
      "            'date_range',\n",
      "            'describe_option',\n",
      "            'eval',\n",
      "            'factorize',\n",
      "            'from_dummies',\n",
      "            'get_dummies',\n",
      "            'get_option',\n",
      "            'infer_freq',\n",
      "            'interval_range',\n",
      "            'isna',\n",
      "            'isnull',\n",
      "            'json_normalize',\n",
      "            'lreshape',\n",
      "            'melt',\n",
      "            'merge',\n",
      "            'merge_asof',\n",
      "            'merge_ordered',\n",
      "            'notna',\n",
      "            'notnull',\n",
      "            'period_range',\n",
      "            'pivot',\n",
      "            'pivot_table',\n",
      "            'qcut',\n",
      "            'read_clipboard',\n",
      "            'read_csv',\n",
      "            'read_excel',\n",
      "            'read_feather',\n",
      "            'read_fwf',\n",
      "            'read_gbq',\n",
      "            'read_hdf',\n",
      "            'read_html',\n",
      "            'read_json',\n",
      "            'read_orc',\n",
      "            'read_parquet',\n",
      "            'read_pickle',\n",
      "            'read_sas',\n",
      "            'read_spss',\n",
      "            'read_sql',\n",
      "            'read_sql_query',\n",
      "            'read_sql_table',\n",
      "            'read_stata',\n",
      "            'read_table',\n",
      "            'read_xml',\n",
      "            'reset_option',\n",
      "            'set_eng_float_format',\n",
      "            'set_option',\n",
      "            'show_versions',\n",
      "            'test',\n",
      "            'timedelta_range',\n",
      "            'to_datetime',\n",
      "            'to_numeric',\n",
      "            'to_pickle',\n",
      "            'to_timedelta',\n",
      "            'unique',\n",
      "            'value_counts',\n",
      "            'wide_to_long'],\n",
      " 'lower_class': ['option_context'],\n",
      " 'upper_class': ['ArrowDtype',\n",
      "                 'BooleanDtype',\n",
      "                 'Categorical',\n",
      "                 'CategoricalDtype',\n",
      "                 'CategoricalIndex',\n",
      "                 'DataFrame',\n",
      "                 'DateOffset',\n",
      "                 'DatetimeIndex',\n",
      "                 'DatetimeTZDtype',\n",
      "                 'ExcelFile',\n",
      "                 'ExcelWriter',\n",
      "                 'Flags',\n",
      "                 'Float32Dtype',\n",
      "                 'Float64Dtype',\n",
      "                 'Grouper',\n",
      "                 'HDFStore',\n",
      "                 'Index',\n",
      "                 'Int16Dtype',\n",
      "                 'Int32Dtype',\n",
      "                 'Int64Dtype',\n",
      "                 'Int8Dtype',\n",
      "                 'Interval',\n",
      "                 'IntervalDtype',\n",
      "                 'IntervalIndex',\n",
      "                 'MultiIndex',\n",
      "                 'NamedAgg',\n",
      "                 'Period',\n",
      "                 'PeriodDtype',\n",
      "                 'PeriodIndex',\n",
      "                 'RangeIndex',\n",
      "                 'Series',\n",
      "                 'SparseDtype',\n",
      "                 'StringDtype',\n",
      "                 'Timedelta',\n",
      "                 'TimedeltaIndex',\n",
      "                 'Timestamp',\n",
      "                 'UInt16Dtype',\n",
      "                 'UInt32Dtype',\n",
      "                 'UInt64Dtype',\n",
      "                 'UInt8Dtype'],\n",
      " 'datamodel_attribute': ['__all__',\n",
      "                         '__builtins__',\n",
      "                         '__cached__',\n",
      "                         '__doc__',\n",
      "                         '__docformat__',\n",
      "                         '__file__',\n",
      "                         '__git_version__',\n",
      "                         '__loader__',\n",
      "                         '__name__',\n",
      "                         '__package__',\n",
      "                         '__path__',\n",
      "                         '__spec__',\n",
      "                         '__version__']}\n"
     ]
    }
   ],
   "source": [
    "dir2(pd, exclude_external_modules=True, drop_internal=True)"
   ]
  },
  {
   "cell_type": "markdown",
   "metadata": {},
   "source": [
    "In general ```pd``` uses object orientated programming (OOP) opposed to functional programming. Most of the functions within ```pd``` are used to read in data from a file and output a ```pd.DataFrame``` instance."
   ]
  },
  {
   "attachments": {},
   "cell_type": "markdown",
   "metadata": {},
   "source": [
    "The classes are all in PascalCase. The main classes are:\n",
    "\n",
    "* pd.Index\n",
    "* pd.Series\n",
    "* pd.DataFrame\n",
    " \n",
    "The OOP approach means methods are normally called from instances to analyse or manipulate data from the instance. The identifiers for the main three classes can be examined. The relationship between the identifiers in the three classes above will first be examined before later examining the classes in detail."
   ]
  },
  {
   "cell_type": "markdown",
   "metadata": {},
   "source": [
    "The ```pd.Series``` can be conceptualised as a ```np.ndarray``` with a ```name``` and therefore has consistent attributes, methods and numerical datamodel methods:"
   ]
  },
  {
   "cell_type": "code",
   "execution_count": 9,
   "metadata": {
    "scrolled": true
   },
   "outputs": [
    {
     "name": "stdout",
     "output_type": "stream",
     "text": [
      "{'attribute': ['dtype', 'flags', 'nbytes', 'ndim', 'shape', 'size'],\n",
      " 'constant': ['T'],\n",
      " 'method': ['all',\n",
      "            'any',\n",
      "            'argmax',\n",
      "            'argmin',\n",
      "            'argsort',\n",
      "            'astype',\n",
      "            'clip',\n",
      "            'copy',\n",
      "            'cumprod',\n",
      "            'cumsum',\n",
      "            'dot',\n",
      "            'item',\n",
      "            'max',\n",
      "            'mean',\n",
      "            'min',\n",
      "            'prod',\n",
      "            'ravel',\n",
      "            'repeat',\n",
      "            'round',\n",
      "            'searchsorted',\n",
      "            'squeeze',\n",
      "            'std',\n",
      "            'sum',\n",
      "            'swapaxes',\n",
      "            'take',\n",
      "            'tolist',\n",
      "            'transpose',\n",
      "            'var',\n",
      "            'view'],\n",
      " 'datamodel_attribute': ['__array_priority__', '__doc__', '__hash__'],\n",
      " 'datamodel_method': ['__abs__',\n",
      "                      '__add__',\n",
      "                      '__and__',\n",
      "                      '__array__',\n",
      "                      '__array_ufunc__',\n",
      "                      '__bool__',\n",
      "                      '__class__',\n",
      "                      '__contains__',\n",
      "                      '__copy__',\n",
      "                      '__deepcopy__',\n",
      "                      '__delattr__',\n",
      "                      '__delitem__',\n",
      "                      '__dir__',\n",
      "                      '__divmod__',\n",
      "                      '__eq__',\n",
      "                      '__float__',\n",
      "                      '__floordiv__',\n",
      "                      '__format__',\n",
      "                      '__ge__',\n",
      "                      '__getattribute__',\n",
      "                      '__getitem__',\n",
      "                      '__getstate__',\n",
      "                      '__gt__',\n",
      "                      '__iadd__',\n",
      "                      '__iand__',\n",
      "                      '__ifloordiv__',\n",
      "                      '__imod__',\n",
      "                      '__imul__',\n",
      "                      '__init__',\n",
      "                      '__init_subclass__',\n",
      "                      '__int__',\n",
      "                      '__invert__',\n",
      "                      '__ior__',\n",
      "                      '__ipow__',\n",
      "                      '__isub__',\n",
      "                      '__iter__',\n",
      "                      '__itruediv__',\n",
      "                      '__ixor__',\n",
      "                      '__le__',\n",
      "                      '__len__',\n",
      "                      '__lt__',\n",
      "                      '__matmul__',\n",
      "                      '__mod__',\n",
      "                      '__mul__',\n",
      "                      '__ne__',\n",
      "                      '__neg__',\n",
      "                      '__new__',\n",
      "                      '__or__',\n",
      "                      '__pos__',\n",
      "                      '__pow__',\n",
      "                      '__radd__',\n",
      "                      '__rand__',\n",
      "                      '__rdivmod__',\n",
      "                      '__reduce__',\n",
      "                      '__reduce_ex__',\n",
      "                      '__repr__',\n",
      "                      '__rfloordiv__',\n",
      "                      '__rmatmul__',\n",
      "                      '__rmod__',\n",
      "                      '__rmul__',\n",
      "                      '__ror__',\n",
      "                      '__rpow__',\n",
      "                      '__rsub__',\n",
      "                      '__rtruediv__',\n",
      "                      '__rxor__',\n",
      "                      '__setattr__',\n",
      "                      '__setitem__',\n",
      "                      '__setstate__',\n",
      "                      '__sizeof__',\n",
      "                      '__str__',\n",
      "                      '__sub__',\n",
      "                      '__subclasshook__',\n",
      "                      '__truediv__',\n",
      "                      '__xor__']}\n"
     ]
    }
   ],
   "source": [
    "dir2(pd.Series, np.ndarray, consistent_only=True, exclude_external_modules=True, drop_internal=True)"
   ]
  },
  {
   "cell_type": "markdown",
   "metadata": {},
   "source": [
    "A number of the ```__builtins__``` functions are also available as ```pd.Series``` methods:"
   ]
  },
  {
   "cell_type": "code",
   "execution_count": 16,
   "metadata": {
    "scrolled": true
   },
   "outputs": [
    {
     "name": "stdout",
     "output_type": "stream",
     "text": [
      "{'method': ['abs',\n",
      "            'all',\n",
      "            'any',\n",
      "            'bool',\n",
      "            'divmod',\n",
      "            'filter',\n",
      "            'map',\n",
      "            'max',\n",
      "            'min',\n",
      "            'pow',\n",
      "            'round',\n",
      "            'sum'],\n",
      " 'lower_class': ['list', 'str'],\n",
      " 'datamodel_attribute': ['__doc__']}\n"
     ]
    }
   ],
   "source": [
    "dir2(pd.Series, __builtins__, consistent_only=True)"
   ]
  },
  {
   "cell_type": "markdown",
   "metadata": {},
   "source": [
    "Many of the datamodel operators defined for numeric operation are also available as a method:"
   ]
  },
  {
   "cell_type": "code",
   "execution_count": 18,
   "metadata": {
    "scrolled": true
   },
   "outputs": [
    {
     "name": "stdout",
     "output_type": "stream",
     "text": [
      "{'attribute': ['index'],\n",
      " 'method': ['abs',\n",
      "            'add',\n",
      "            'eq',\n",
      "            'floordiv',\n",
      "            'ge',\n",
      "            'gt',\n",
      "            'le',\n",
      "            'lt',\n",
      "            'mod',\n",
      "            'mul',\n",
      "            'ne',\n",
      "            'pow',\n",
      "            'sub',\n",
      "            'truediv'],\n",
      " 'datamodel_attribute': ['__doc__'],\n",
      " 'datamodel_method': ['__abs__',\n",
      "                      '__add__',\n",
      "                      '__and__',\n",
      "                      '__contains__',\n",
      "                      '__delitem__',\n",
      "                      '__eq__',\n",
      "                      '__floordiv__',\n",
      "                      '__ge__',\n",
      "                      '__getitem__',\n",
      "                      '__gt__',\n",
      "                      '__iadd__',\n",
      "                      '__iand__',\n",
      "                      '__ifloordiv__',\n",
      "                      '__imod__',\n",
      "                      '__imul__',\n",
      "                      '__invert__',\n",
      "                      '__ior__',\n",
      "                      '__ipow__',\n",
      "                      '__isub__',\n",
      "                      '__itruediv__',\n",
      "                      '__ixor__',\n",
      "                      '__le__',\n",
      "                      '__lt__',\n",
      "                      '__matmul__',\n",
      "                      '__mod__',\n",
      "                      '__mul__',\n",
      "                      '__ne__',\n",
      "                      '__neg__',\n",
      "                      '__or__',\n",
      "                      '__pos__',\n",
      "                      '__pow__',\n",
      "                      '__setitem__',\n",
      "                      '__sub__',\n",
      "                      '__truediv__',\n",
      "                      '__xor__']}\n"
     ]
    }
   ],
   "source": [
    "dir2(pd.Series, operator, consistent_only=True)"
   ]
  },
  {
   "cell_type": "markdown",
   "metadata": {},
   "source": [
    "The ```pd.Series``` has additional attributes such as:\n",
    "\n",
    "* ```array``` which returns the underlying ```np.ndarray``` (1darray) instance. \n",
    "* ```name``` which is a ```str``` instance corresponding to the series name.\n",
    "* ```index``` which returns the ```pd.Index``` instance.\n",
    "* ```at```, ```iat```, ```loc``` and ```iloc``` are used for additional indexing purposes.\n",
    "* ```attrs``` is used to store optional metadata.\n",
    "* ```hasnans```, ```empty``` and ```is_unique``` are ```bool``` instances that are ```True``` if the series has values that aren't available, is empty or consists on only unique values respectively ```is_monotonic_decreasing``` and ```is_monotonic_decreasing``` are also ```bool``` instances that are ```True``` if the series is reverse ordered or ordered.\n",
    "\n",
    "The ```pd.Series``` has additional methods. Many of these are statistical methods and have a similar name to functions found in the statistics module. There are also a large number of ```to``` methods which convert the ```pd.Series``` to another datatype or file format.\n",
    "\n",
    "There are also lowercase classes:\n",
    "\n",
    "* ```cat``` which groups together categorical identifiers\n",
    "* ```dt``` which groups together datetime (datetime.datetime or datetime.timedelta) identifiers\n",
    "* ```list``` which groups together list identifiers\n",
    "* ```str``` which groups together str identifiers\n",
    "\n",
    "The lowercase classes are appropriate when the ```pd.Series``` datatype matches one of the class types above."
   ]
  },
  {
   "cell_type": "code",
   "execution_count": 19,
   "metadata": {
    "scrolled": true
   },
   "outputs": [
    {
     "name": "stdout",
     "output_type": "stream",
     "text": [
      "{'attribute': ['array',\n",
      "               'at',\n",
      "               'attrs',\n",
      "               'axes',\n",
      "               'dtypes',\n",
      "               'empty',\n",
      "               'hasnans',\n",
      "               'iat',\n",
      "               'iloc',\n",
      "               'is_monotonic_decreasing',\n",
      "               'is_monotonic_increasing',\n",
      "               'is_unique',\n",
      "               'loc',\n",
      "               'name',\n",
      "               'values'],\n",
      " 'method': ['add_prefix',\n",
      "            'add_suffix',\n",
      "            'agg',\n",
      "            'aggregate',\n",
      "            'align',\n",
      "            'apply',\n",
      "            'asfreq',\n",
      "            'asof',\n",
      "            'at_time',\n",
      "            'autocorr',\n",
      "            'backfill',\n",
      "            'between',\n",
      "            'between_time',\n",
      "            'bfill',\n",
      "            'bool',\n",
      "            'case_when',\n",
      "            'combine',\n",
      "            'combine_first',\n",
      "            'compare',\n",
      "            'convert_dtypes',\n",
      "            'corr',\n",
      "            'count',\n",
      "            'cov',\n",
      "            'cummax',\n",
      "            'cummin',\n",
      "            'describe',\n",
      "            'diff',\n",
      "            'div',\n",
      "            'divide',\n",
      "            'divmod',\n",
      "            'drop',\n",
      "            'drop_duplicates',\n",
      "            'droplevel',\n",
      "            'dropna',\n",
      "            'duplicated',\n",
      "            'equals',\n",
      "            'ewm',\n",
      "            'expanding',\n",
      "            'explode',\n",
      "            'factorize',\n",
      "            'ffill',\n",
      "            'fillna',\n",
      "            'filter',\n",
      "            'first',\n",
      "            'first_valid_index',\n",
      "            'get',\n",
      "            'groupby',\n",
      "            'head',\n",
      "            'hist',\n",
      "            'idxmax',\n",
      "            'idxmin',\n",
      "            'infer_objects',\n",
      "            'info',\n",
      "            'interpolate',\n",
      "            'isin',\n",
      "            'isna',\n",
      "            'isnull',\n",
      "            'items',\n",
      "            'keys',\n",
      "            'kurt',\n",
      "            'kurtosis',\n",
      "            'last',\n",
      "            'last_valid_index',\n",
      "            'map',\n",
      "            'mask',\n",
      "            'median',\n",
      "            'memory_usage',\n",
      "            'mode',\n",
      "            'multiply',\n",
      "            'nlargest',\n",
      "            'notna',\n",
      "            'notnull',\n",
      "            'nsmallest',\n",
      "            'nunique',\n",
      "            'pad',\n",
      "            'pct_change',\n",
      "            'pipe',\n",
      "            'pop',\n",
      "            'product',\n",
      "            'quantile',\n",
      "            'rank',\n",
      "            'rdiv',\n",
      "            'rdivmod',\n",
      "            'reindex',\n",
      "            'reindex_like',\n",
      "            'rename',\n",
      "            'rename_axis',\n",
      "            'reorder_levels',\n",
      "            'replace',\n",
      "            'resample',\n",
      "            'reset_index',\n",
      "            'rfloordiv',\n",
      "            'rolling',\n",
      "            'sample',\n",
      "            'sem',\n",
      "            'set_axis',\n",
      "            'set_flags',\n",
      "            'shift',\n",
      "            'skew',\n",
      "            'sort_index',\n",
      "            'sort_values',\n",
      "            'subtract',\n",
      "            'swaplevel',\n",
      "            'tail',\n",
      "            'to_clipboard',\n",
      "            'to_csv',\n",
      "            'to_dict',\n",
      "            'to_excel',\n",
      "            'to_frame',\n",
      "            'to_hdf',\n",
      "            'to_json',\n",
      "            'to_latex',\n",
      "            'to_list',\n",
      "            'to_markdown',\n",
      "            'to_numpy',\n",
      "            'to_period',\n",
      "            'to_pickle',\n",
      "            'to_sql',\n",
      "            'to_string',\n",
      "            'to_timestamp',\n",
      "            'to_xarray',\n",
      "            'transform',\n",
      "            'truncate',\n",
      "            'tz_convert',\n",
      "            'tz_localize',\n",
      "            'unique',\n",
      "            'unstack',\n",
      "            'update',\n",
      "            'value_counts',\n",
      "            'where',\n",
      "            'xs'],\n",
      " 'lower_class': ['cat', 'dt', 'list', 'plot', 'sparse', 'str', 'struct'],\n",
      " 'datamodel_attribute': ['__annotations__',\n",
      "                         '__dict__',\n",
      "                         '__module__',\n",
      "                         '__pandas_priority__',\n",
      "                         '__weakref__'],\n",
      " 'datamodel_method': ['__column_consortium_standard__',\n",
      "                      '__finalize__',\n",
      "                      '__getattr__',\n",
      "                      '__nonzero__',\n",
      "                      '__round__']}\n"
     ]
    }
   ],
   "source": [
    "dir2(pd.Series, [np.ndarray, operator], unique_only=True, \n",
    "     exclude_external_modules=True, exclude_identifier_list=reverse_operators, drop_internal=True)"
   ]
  },
  {
   "cell_type": "markdown",
   "metadata": {},
   "source": [
    "A ```pd.DataFrame``` is essentially a grouping of ```pd.Series``` instances and therefore has many identifiers in common.\n",
    "\n",
    "The attributes ```dtypes``` and ```values``` are used as plural equivalents to ```dtype``` and ```array``` seen in the ```pd.Series```. ```dtypes``` reflects the fact each ```pd.Series``` in the ```pd.DataFrame``` instance can have a different datatype. However when each ```pd.Series``` are numeric then ```pd.values``` is the 2d ```ndarray``` instance. Most of the statistical methods will only also work when each ```pd.Series``` in the ```pd.DataFrame``` instance are numeric. It is more common to use statistical functions on a ```pd.Series```. "
   ]
  },
  {
   "cell_type": "code",
   "execution_count": 21,
   "metadata": {
    "scrolled": true
   },
   "outputs": [
    {
     "name": "stdout",
     "output_type": "stream",
     "text": [
      "{'attribute': ['at',\n",
      "               'attrs',\n",
      "               'axes',\n",
      "               'dtypes',\n",
      "               'empty',\n",
      "               'flags',\n",
      "               'iat',\n",
      "               'iloc',\n",
      "               'index',\n",
      "               'loc',\n",
      "               'ndim',\n",
      "               'shape',\n",
      "               'size',\n",
      "               'values'],\n",
      " 'constant': ['T'],\n",
      " 'method': ['abs',\n",
      "            'add',\n",
      "            'add_prefix',\n",
      "            'add_suffix',\n",
      "            'agg',\n",
      "            'aggregate',\n",
      "            'align',\n",
      "            'all',\n",
      "            'any',\n",
      "            'apply',\n",
      "            'asfreq',\n",
      "            'asof',\n",
      "            'astype',\n",
      "            'at_time',\n",
      "            'backfill',\n",
      "            'between_time',\n",
      "            'bfill',\n",
      "            'bool',\n",
      "            'clip',\n",
      "            'combine',\n",
      "            'combine_first',\n",
      "            'compare',\n",
      "            'convert_dtypes',\n",
      "            'copy',\n",
      "            'corr',\n",
      "            'count',\n",
      "            'cov',\n",
      "            'cummax',\n",
      "            'cummin',\n",
      "            'cumprod',\n",
      "            'cumsum',\n",
      "            'describe',\n",
      "            'diff',\n",
      "            'div',\n",
      "            'divide',\n",
      "            'dot',\n",
      "            'drop',\n",
      "            'drop_duplicates',\n",
      "            'droplevel',\n",
      "            'dropna',\n",
      "            'duplicated',\n",
      "            'eq',\n",
      "            'equals',\n",
      "            'ewm',\n",
      "            'expanding',\n",
      "            'explode',\n",
      "            'ffill',\n",
      "            'fillna',\n",
      "            'filter',\n",
      "            'first',\n",
      "            'first_valid_index',\n",
      "            'floordiv',\n",
      "            'ge',\n",
      "            'get',\n",
      "            'groupby',\n",
      "            'gt',\n",
      "            'head',\n",
      "            'hist',\n",
      "            'idxmax',\n",
      "            'idxmin',\n",
      "            'infer_objects',\n",
      "            'info',\n",
      "            'interpolate',\n",
      "            'isin',\n",
      "            'isna',\n",
      "            'isnull',\n",
      "            'items',\n",
      "            'keys',\n",
      "            'kurt',\n",
      "            'kurtosis',\n",
      "            'last',\n",
      "            'last_valid_index',\n",
      "            'le',\n",
      "            'lt',\n",
      "            'map',\n",
      "            'mask',\n",
      "            'max',\n",
      "            'mean',\n",
      "            'median',\n",
      "            'memory_usage',\n",
      "            'min',\n",
      "            'mod',\n",
      "            'mode',\n",
      "            'mul',\n",
      "            'multiply',\n",
      "            'ne',\n",
      "            'nlargest',\n",
      "            'notna',\n",
      "            'notnull',\n",
      "            'nsmallest',\n",
      "            'nunique',\n",
      "            'pad',\n",
      "            'pct_change',\n",
      "            'pipe',\n",
      "            'pop',\n",
      "            'pow',\n",
      "            'prod',\n",
      "            'product',\n",
      "            'quantile',\n",
      "            'radd',\n",
      "            'rank',\n",
      "            'rdiv',\n",
      "            'reindex',\n",
      "            'reindex_like',\n",
      "            'rename',\n",
      "            'rename_axis',\n",
      "            'reorder_levels',\n",
      "            'replace',\n",
      "            'resample',\n",
      "            'reset_index',\n",
      "            'rfloordiv',\n",
      "            'rmod',\n",
      "            'rmul',\n",
      "            'rolling',\n",
      "            'round',\n",
      "            'rpow',\n",
      "            'rsub',\n",
      "            'rtruediv',\n",
      "            'sample',\n",
      "            'sem',\n",
      "            'set_axis',\n",
      "            'set_flags',\n",
      "            'shift',\n",
      "            'skew',\n",
      "            'sort_index',\n",
      "            'sort_values',\n",
      "            'squeeze',\n",
      "            'std',\n",
      "            'sub',\n",
      "            'subtract',\n",
      "            'sum',\n",
      "            'swapaxes',\n",
      "            'swaplevel',\n",
      "            'tail',\n",
      "            'take',\n",
      "            'to_clipboard',\n",
      "            'to_csv',\n",
      "            'to_dict',\n",
      "            'to_excel',\n",
      "            'to_hdf',\n",
      "            'to_json',\n",
      "            'to_latex',\n",
      "            'to_markdown',\n",
      "            'to_numpy',\n",
      "            'to_period',\n",
      "            'to_pickle',\n",
      "            'to_sql',\n",
      "            'to_string',\n",
      "            'to_timestamp',\n",
      "            'to_xarray',\n",
      "            'transform',\n",
      "            'transpose',\n",
      "            'truediv',\n",
      "            'truncate',\n",
      "            'tz_convert',\n",
      "            'tz_localize',\n",
      "            'unstack',\n",
      "            'update',\n",
      "            'value_counts',\n",
      "            'var',\n",
      "            'where',\n",
      "            'xs'],\n",
      " 'lower_class': ['plot', 'sparse'],\n",
      " 'datamodel_attribute': ['__annotations__',\n",
      "                         '__array_priority__',\n",
      "                         '__dict__',\n",
      "                         '__doc__',\n",
      "                         '__hash__',\n",
      "                         '__module__',\n",
      "                         '__pandas_priority__',\n",
      "                         '__weakref__'],\n",
      " 'datamodel_method': ['__abs__',\n",
      "                      '__add__',\n",
      "                      '__and__',\n",
      "                      '__array__',\n",
      "                      '__array_ufunc__',\n",
      "                      '__bool__',\n",
      "                      '__class__',\n",
      "                      '__contains__',\n",
      "                      '__copy__',\n",
      "                      '__deepcopy__',\n",
      "                      '__delattr__',\n",
      "                      '__delitem__',\n",
      "                      '__dir__',\n",
      "                      '__divmod__',\n",
      "                      '__eq__',\n",
      "                      '__finalize__',\n",
      "                      '__floordiv__',\n",
      "                      '__format__',\n",
      "                      '__ge__',\n",
      "                      '__getattr__',\n",
      "                      '__getattribute__',\n",
      "                      '__getitem__',\n",
      "                      '__getstate__',\n",
      "                      '__gt__',\n",
      "                      '__iadd__',\n",
      "                      '__iand__',\n",
      "                      '__ifloordiv__',\n",
      "                      '__imod__',\n",
      "                      '__imul__',\n",
      "                      '__init__',\n",
      "                      '__init_subclass__',\n",
      "                      '__invert__',\n",
      "                      '__ior__',\n",
      "                      '__ipow__',\n",
      "                      '__isub__',\n",
      "                      '__iter__',\n",
      "                      '__itruediv__',\n",
      "                      '__ixor__',\n",
      "                      '__le__',\n",
      "                      '__len__',\n",
      "                      '__lt__',\n",
      "                      '__matmul__',\n",
      "                      '__mod__',\n",
      "                      '__mul__',\n",
      "                      '__ne__',\n",
      "                      '__neg__',\n",
      "                      '__new__',\n",
      "                      '__nonzero__',\n",
      "                      '__or__',\n",
      "                      '__pos__',\n",
      "                      '__pow__',\n",
      "                      '__radd__',\n",
      "                      '__rand__',\n",
      "                      '__rdivmod__',\n",
      "                      '__reduce__',\n",
      "                      '__reduce_ex__',\n",
      "                      '__repr__',\n",
      "                      '__rfloordiv__',\n",
      "                      '__rmatmul__',\n",
      "                      '__rmod__',\n",
      "                      '__rmul__',\n",
      "                      '__ror__',\n",
      "                      '__round__',\n",
      "                      '__rpow__',\n",
      "                      '__rsub__',\n",
      "                      '__rtruediv__',\n",
      "                      '__rxor__',\n",
      "                      '__setattr__',\n",
      "                      '__setitem__',\n",
      "                      '__setstate__',\n",
      "                      '__sizeof__',\n",
      "                      '__str__',\n",
      "                      '__sub__',\n",
      "                      '__subclasshook__',\n",
      "                      '__truediv__',\n",
      "                      '__xor__']}\n"
     ]
    }
   ],
   "source": [
    "dir2(pd.DataFrame, pd.Series, consistent_only=True, drop_internal=True)"
   ]
  },
  {
   "cell_type": "markdown",
   "metadata": {},
   "source": [
    "The ```pd.DataFrame``` class only has a small number of additional identifiers such as the attributes ```columns``` which is a ```list``` of ```str``` instances with each ```str``` corresponding to the appropriate ```pd.Series.name``` available in the ```pd.DataFrame```. The ```pd.DataFrame``` instance is mutable and the ```insert``` method can be used to insert another ```pd.Series``` instance. ```join``` and ```merge``` are used to join and merge ```pd.DataFrame``` instances.\n",
    "\n",
    "The ```style``` attribute is an additional attribute which can be used to control the style of the ```pd.DataFrame``` instance when displayed in a cell output."
   ]
  },
  {
   "cell_type": "code",
   "execution_count": 22,
   "metadata": {
    "scrolled": true
   },
   "outputs": [
    {
     "name": "stdout",
     "output_type": "stream",
     "text": [
      "{'attribute': ['columns', 'style'],\n",
      " 'method': ['applymap',\n",
      "            'assign',\n",
      "            'boxplot',\n",
      "            'corrwith',\n",
      "            'eval',\n",
      "            'from_dict',\n",
      "            'from_records',\n",
      "            'insert',\n",
      "            'isetitem',\n",
      "            'iterrows',\n",
      "            'itertuples',\n",
      "            'join',\n",
      "            'melt',\n",
      "            'merge',\n",
      "            'pivot',\n",
      "            'pivot_table',\n",
      "            'query',\n",
      "            'select_dtypes',\n",
      "            'set_index',\n",
      "            'stack',\n",
      "            'to_feather',\n",
      "            'to_gbq',\n",
      "            'to_html',\n",
      "            'to_orc',\n",
      "            'to_parquet',\n",
      "            'to_records',\n",
      "            'to_stata',\n",
      "            'to_xml'],\n",
      " 'datamodel_method': ['__arrow_c_stream__',\n",
      "                      '__dataframe__',\n",
      "                      '__dataframe_consortium_standard__']}\n"
     ]
    }
   ],
   "source": [
    "dir2(pd.DataFrame, pd.Series, unique_only=True, drop_internal=True)"
   ]
  },
  {
   "cell_type": "markdown",
   "metadata": {},
   "source": [
    "The identifiers in a ```pd.Series``` instance are singular identifiers typically only used across a ```pd.Series``` instance. These include the lowercase classes used to work a specific datatype across a ```pd.Series```:"
   ]
  },
  {
   "cell_type": "code",
   "execution_count": 23,
   "metadata": {
    "scrolled": true
   },
   "outputs": [
    {
     "name": "stdout",
     "output_type": "stream",
     "text": [
      "{'attribute': ['array',\n",
      "               'dtype',\n",
      "               'hasnans',\n",
      "               'is_monotonic_decreasing',\n",
      "               'is_monotonic_increasing',\n",
      "               'is_unique',\n",
      "               'name',\n",
      "               'nbytes'],\n",
      " 'method': ['argmax',\n",
      "            'argmin',\n",
      "            'argsort',\n",
      "            'autocorr',\n",
      "            'between',\n",
      "            'case_when',\n",
      "            'divmod',\n",
      "            'factorize',\n",
      "            'item',\n",
      "            'ravel',\n",
      "            'rdivmod',\n",
      "            'repeat',\n",
      "            'searchsorted',\n",
      "            'to_frame',\n",
      "            'to_list',\n",
      "            'tolist',\n",
      "            'unique',\n",
      "            'view'],\n",
      " 'lower_class': ['cat', 'dt', 'list', 'str', 'struct'],\n",
      " 'datamodel_method': ['__column_consortium_standard__', '__float__', '__int__']}\n"
     ]
    }
   ],
   "source": [
    "dir2(pd.Series, pd.DataFrame, unique_only=True, drop_internal=True)"
   ]
  },
  {
   "cell_type": "markdown",
   "metadata": {},
   "source": [
    "Each ```pd.Series``` is associated with a ```pd.Index``` and every ```pd.Series``` in a ```pd.DataFrame``` uses the same ```pd.Index```. Many identifiers for the ```pd.Index``` can be seen to be consistent with a ```pd.Series``` as it is also based on an ```np.ndarray```:"
   ]
  },
  {
   "cell_type": "code",
   "execution_count": 24,
   "metadata": {
    "scrolled": true
   },
   "outputs": [
    {
     "name": "stdout",
     "output_type": "stream",
     "text": [
      "{'attribute': ['array',\n",
      "               'dtype',\n",
      "               'empty',\n",
      "               'hasnans',\n",
      "               'is_monotonic_decreasing',\n",
      "               'is_monotonic_increasing',\n",
      "               'is_unique',\n",
      "               'name',\n",
      "               'nbytes',\n",
      "               'ndim',\n",
      "               'shape',\n",
      "               'size',\n",
      "               'values'],\n",
      " 'constant': ['T'],\n",
      " 'method': ['all',\n",
      "            'any',\n",
      "            'argmax',\n",
      "            'argmin',\n",
      "            'argsort',\n",
      "            'asof',\n",
      "            'astype',\n",
      "            'copy',\n",
      "            'diff',\n",
      "            'drop',\n",
      "            'drop_duplicates',\n",
      "            'droplevel',\n",
      "            'dropna',\n",
      "            'duplicated',\n",
      "            'equals',\n",
      "            'factorize',\n",
      "            'fillna',\n",
      "            'groupby',\n",
      "            'infer_objects',\n",
      "            'isin',\n",
      "            'isna',\n",
      "            'isnull',\n",
      "            'item',\n",
      "            'map',\n",
      "            'max',\n",
      "            'memory_usage',\n",
      "            'min',\n",
      "            'notna',\n",
      "            'notnull',\n",
      "            'nunique',\n",
      "            'ravel',\n",
      "            'reindex',\n",
      "            'rename',\n",
      "            'repeat',\n",
      "            'round',\n",
      "            'searchsorted',\n",
      "            'shift',\n",
      "            'sort_values',\n",
      "            'take',\n",
      "            'to_frame',\n",
      "            'to_list',\n",
      "            'to_numpy',\n",
      "            'tolist',\n",
      "            'transpose',\n",
      "            'unique',\n",
      "            'value_counts',\n",
      "            'view',\n",
      "            'where'],\n",
      " 'lower_class': ['str'],\n",
      " 'datamodel_attribute': ['__annotations__',\n",
      "                         '__array_priority__',\n",
      "                         '__dict__',\n",
      "                         '__doc__',\n",
      "                         '__hash__',\n",
      "                         '__module__',\n",
      "                         '__pandas_priority__',\n",
      "                         '__weakref__'],\n",
      " 'datamodel_method': ['__abs__',\n",
      "                      '__add__',\n",
      "                      '__and__',\n",
      "                      '__array__',\n",
      "                      '__array_ufunc__',\n",
      "                      '__bool__',\n",
      "                      '__class__',\n",
      "                      '__contains__',\n",
      "                      '__copy__',\n",
      "                      '__deepcopy__',\n",
      "                      '__delattr__',\n",
      "                      '__dir__',\n",
      "                      '__divmod__',\n",
      "                      '__eq__',\n",
      "                      '__floordiv__',\n",
      "                      '__format__',\n",
      "                      '__ge__',\n",
      "                      '__getattribute__',\n",
      "                      '__getitem__',\n",
      "                      '__getstate__',\n",
      "                      '__gt__',\n",
      "                      '__iadd__',\n",
      "                      '__init__',\n",
      "                      '__init_subclass__',\n",
      "                      '__invert__',\n",
      "                      '__iter__',\n",
      "                      '__le__',\n",
      "                      '__len__',\n",
      "                      '__lt__',\n",
      "                      '__mod__',\n",
      "                      '__mul__',\n",
      "                      '__ne__',\n",
      "                      '__neg__',\n",
      "                      '__new__',\n",
      "                      '__nonzero__',\n",
      "                      '__or__',\n",
      "                      '__pos__',\n",
      "                      '__pow__',\n",
      "                      '__radd__',\n",
      "                      '__rand__',\n",
      "                      '__rdivmod__',\n",
      "                      '__reduce__',\n",
      "                      '__reduce_ex__',\n",
      "                      '__repr__',\n",
      "                      '__rfloordiv__',\n",
      "                      '__rmod__',\n",
      "                      '__rmul__',\n",
      "                      '__ror__',\n",
      "                      '__rpow__',\n",
      "                      '__rsub__',\n",
      "                      '__rtruediv__',\n",
      "                      '__rxor__',\n",
      "                      '__setattr__',\n",
      "                      '__setitem__',\n",
      "                      '__sizeof__',\n",
      "                      '__str__',\n",
      "                      '__sub__',\n",
      "                      '__subclasshook__',\n",
      "                      '__truediv__',\n",
      "                      '__xor__']}\n"
     ]
    }
   ],
   "source": [
    "dir2(pd.Index, pd.Series, consistent_only=True, exclude_external_modules=True, drop_internal=True)"
   ]
  },
  {
   "cell_type": "markdown",
   "metadata": {},
   "source": [
    "the ```pd.Index``` class only has a small number of identifiers not found in a ```pd.Series``` instance. The ```pd.Index``` is typically numeric but each value in the ```Series``` can be assigned a ```name``` and the attribute ```names``` retrieves these. Typically each ```name``` should be unique for the purpose of indexing and the attribute ```has_duplicates``` is used to check for duplicate values and the ```pd.Series``` or ```pd.DataFrame``` method ```reset_index``` can be used in this case to return a unique index of numeric values. More complicated indexes can be multilevel and the ```nlevels``` attribute gives details about the amount of levels in the index:"
   ]
  },
  {
   "cell_type": "code",
   "execution_count": 25,
   "metadata": {
    "scrolled": true
   },
   "outputs": [
    {
     "name": "stdout",
     "output_type": "stream",
     "text": [
      "{'attribute': ['has_duplicates', 'inferred_type', 'names', 'nlevels'],\n",
      " 'method': ['append',\n",
      "            'asof_locs',\n",
      "            'delete',\n",
      "            'difference',\n",
      "            'format',\n",
      "            'get_indexer',\n",
      "            'get_indexer_for',\n",
      "            'get_indexer_non_unique',\n",
      "            'get_level_values',\n",
      "            'get_loc',\n",
      "            'get_slice_bound',\n",
      "            'holds_integer',\n",
      "            'identical',\n",
      "            'insert',\n",
      "            'intersection',\n",
      "            'is_',\n",
      "            'is_boolean',\n",
      "            'is_categorical',\n",
      "            'is_floating',\n",
      "            'is_integer',\n",
      "            'is_interval',\n",
      "            'is_numeric',\n",
      "            'is_object',\n",
      "            'join',\n",
      "            'putmask',\n",
      "            'set_names',\n",
      "            'slice_indexer',\n",
      "            'slice_locs',\n",
      "            'sort',\n",
      "            'sortlevel',\n",
      "            'symmetric_difference',\n",
      "            'to_flat_index',\n",
      "            'to_series',\n",
      "            'union'],\n",
      " 'datamodel_method': ['__array_wrap__']}\n"
     ]
    }
   ],
   "source": [
    "dir2(pd.Index, pd.Series, unique_only=True, exclude_external_modules=True, drop_internal=True)"
   ]
  },
  {
   "attachments": {},
   "cell_type": "markdown",
   "metadata": {},
   "source": [
    "## Series"
   ]
  },
  {
   "attachments": {},
   "cell_type": "markdown",
   "metadata": {},
   "source": [
    "The initialisation signature for the ```pd.Series``` class can be examined:"
   ]
  },
  {
   "cell_type": "code",
   "execution_count": 26,
   "metadata": {
    "scrolled": true
   },
   "outputs": [
    {
     "data": {
      "text/plain": [
       "\u001b[1;31mInit signature:\u001b[0m\n",
       "\u001b[0mpd\u001b[0m\u001b[1;33m.\u001b[0m\u001b[0mSeries\u001b[0m\u001b[1;33m(\u001b[0m\u001b[1;33m\n",
       "\u001b[0m    \u001b[0mdata\u001b[0m\u001b[1;33m=\u001b[0m\u001b[1;32mNone\u001b[0m\u001b[1;33m,\u001b[0m\u001b[1;33m\n",
       "\u001b[0m    \u001b[0mindex\u001b[0m\u001b[1;33m=\u001b[0m\u001b[1;32mNone\u001b[0m\u001b[1;33m,\u001b[0m\u001b[1;33m\n",
       "\u001b[0m    \u001b[0mdtype\u001b[0m\u001b[1;33m:\u001b[0m \u001b[1;34m'Dtype | None'\u001b[0m \u001b[1;33m=\u001b[0m \u001b[1;32mNone\u001b[0m\u001b[1;33m,\u001b[0m\u001b[1;33m\n",
       "\u001b[0m    \u001b[0mname\u001b[0m\u001b[1;33m=\u001b[0m\u001b[1;32mNone\u001b[0m\u001b[1;33m,\u001b[0m\u001b[1;33m\n",
       "\u001b[0m    \u001b[0mcopy\u001b[0m\u001b[1;33m:\u001b[0m \u001b[1;34m'bool | None'\u001b[0m \u001b[1;33m=\u001b[0m \u001b[1;32mNone\u001b[0m\u001b[1;33m,\u001b[0m\u001b[1;33m\n",
       "\u001b[0m    \u001b[0mfastpath\u001b[0m\u001b[1;33m:\u001b[0m \u001b[1;34m'bool | lib.NoDefault'\u001b[0m \u001b[1;33m=\u001b[0m \u001b[1;33m<\u001b[0m\u001b[0mno_default\u001b[0m\u001b[1;33m>\u001b[0m\u001b[1;33m,\u001b[0m\u001b[1;33m\n",
       "\u001b[0m\u001b[1;33m)\u001b[0m \u001b[1;33m->\u001b[0m \u001b[1;34m'None'\u001b[0m\u001b[1;33m\u001b[0m\u001b[1;33m\u001b[0m\u001b[0m\n",
       "\u001b[1;31mDocstring:\u001b[0m     \n",
       "One-dimensional ndarray with axis labels (including time series).\n",
       "\n",
       "Labels need not be unique but must be a hashable type. The object\n",
       "supports both integer- and label-based indexing and provides a host of\n",
       "methods for performing operations involving the index. Statistical\n",
       "methods from ndarray have been overridden to automatically exclude\n",
       "missing data (currently represented as NaN).\n",
       "\n",
       "Operations between Series (+, -, /, \\*, \\*\\*) align values based on their\n",
       "associated index values-- they need not be the same length. The result\n",
       "index will be the sorted union of the two indexes.\n",
       "\n",
       "Parameters\n",
       "----------\n",
       "data : array-like, Iterable, dict, or scalar value\n",
       "    Contains data stored in Series. If data is a dict, argument order is\n",
       "    maintained.\n",
       "index : array-like or Index (1d)\n",
       "    Values must be hashable and have the same length as `data`.\n",
       "    Non-unique index values are allowed. Will default to\n",
       "    RangeIndex (0, 1, 2, ..., n) if not provided. If data is dict-like\n",
       "    and index is None, then the keys in the data are used as the index. If the\n",
       "    index is not None, the resulting Series is reindexed with the index values.\n",
       "dtype : str, numpy.dtype, or ExtensionDtype, optional\n",
       "    Data type for the output Series. If not specified, this will be\n",
       "    inferred from `data`.\n",
       "    See the :ref:`user guide <basics.dtypes>` for more usages.\n",
       "name : Hashable, default None\n",
       "    The name to give to the Series.\n",
       "copy : bool, default False\n",
       "    Copy input data. Only affects Series or 1d ndarray input. See examples.\n",
       "\n",
       "Notes\n",
       "-----\n",
       "Please reference the :ref:`User Guide <basics.series>` for more information.\n",
       "\n",
       "Examples\n",
       "--------\n",
       "Constructing Series from a dictionary with an Index specified\n",
       "\n",
       ">>> d = {'a': 1, 'b': 2, 'c': 3}\n",
       ">>> ser = pd.Series(data=d, index=['a', 'b', 'c'])\n",
       ">>> ser\n",
       "a   1\n",
       "b   2\n",
       "c   3\n",
       "dtype: int64\n",
       "\n",
       "The keys of the dictionary match with the Index values, hence the Index\n",
       "values have no effect.\n",
       "\n",
       ">>> d = {'a': 1, 'b': 2, 'c': 3}\n",
       ">>> ser = pd.Series(data=d, index=['x', 'y', 'z'])\n",
       ">>> ser\n",
       "x   NaN\n",
       "y   NaN\n",
       "z   NaN\n",
       "dtype: float64\n",
       "\n",
       "Note that the Index is first build with the keys from the dictionary.\n",
       "After this the Series is reindexed with the given Index values, hence we\n",
       "get all NaN as a result.\n",
       "\n",
       "Constructing Series from a list with `copy=False`.\n",
       "\n",
       ">>> r = [1, 2]\n",
       ">>> ser = pd.Series(r, copy=False)\n",
       ">>> ser.iloc[0] = 999\n",
       ">>> r\n",
       "[1, 2]\n",
       ">>> ser\n",
       "0    999\n",
       "1      2\n",
       "dtype: int64\n",
       "\n",
       "Due to input data type the Series has a `copy` of\n",
       "the original data even though `copy=False`, so\n",
       "the data is unchanged.\n",
       "\n",
       "Constructing Series from a 1d ndarray with `copy=False`.\n",
       "\n",
       ">>> r = np.array([1, 2])\n",
       ">>> ser = pd.Series(r, copy=False)\n",
       ">>> ser.iloc[0] = 999\n",
       ">>> r\n",
       "array([999,   2])\n",
       ">>> ser\n",
       "0    999\n",
       "1      2\n",
       "dtype: int64\n",
       "\n",
       "Due to input data type the Series has a `view` on\n",
       "the original data, so\n",
       "the data is changed as well.\n",
       "\u001b[1;31mFile:\u001b[0m           c:\\users\\pyip\\miniconda3\\envs\\jupyter-env\\lib\\site-packages\\pandas\\core\\series.py\n",
       "\u001b[1;31mType:\u001b[0m           type\n",
       "\u001b[1;31mSubclasses:\u001b[0m     SubclassedSeries"
      ]
     },
     "metadata": {},
     "output_type": "display_data"
    }
   ],
   "source": [
    "pd.Series?"
   ]
  },
  {
   "attachments": {},
   "cell_type": "markdown",
   "metadata": {},
   "source": [
    "The main keyword input arguments are:\n",
    "\n",
    "* data\n",
    "* index\n",
    "* dtype\n",
    "* name\n"
   ]
  },
  {
   "attachments": {},
   "cell_type": "markdown",
   "metadata": {},
   "source": [
    "If these are not supplied an empty series instance with no index, no name and a generic object datatype is instantiated:"
   ]
  },
  {
   "cell_type": "code",
   "execution_count": 27,
   "metadata": {},
   "outputs": [
    {
     "data": {
      "text/plain": [
       "Series([], dtype: object)"
      ]
     },
     "execution_count": 27,
     "metadata": {},
     "output_type": "execute_result"
    }
   ],
   "source": [
    "pd.Series()"
   ]
  },
  {
   "attachments": {},
   "cell_type": "markdown",
   "metadata": {},
   "source": [
    "Normally data is supplied in the form of a numpy 1darray:"
   ]
  },
  {
   "cell_type": "code",
   "execution_count": 28,
   "metadata": {},
   "outputs": [
    {
     "data": {
      "text/plain": [
       "0    1\n",
       "1    2\n",
       "2    3\n",
       "dtype: int32"
      ]
     },
     "execution_count": 28,
     "metadata": {},
     "output_type": "execute_result"
    }
   ],
   "source": [
    "pd.Series(data=np.array([1, 2, 3]))"
   ]
  },
  {
   "attachments": {},
   "cell_type": "markdown",
   "metadata": {},
   "source": [
    "Since a ndarray itself is initialised from a list, this can be abbreviated to:"
   ]
  },
  {
   "cell_type": "code",
   "execution_count": 29,
   "metadata": {},
   "outputs": [
    {
     "data": {
      "text/plain": [
       "0    1\n",
       "1    2\n",
       "2    3\n",
       "dtype: int64"
      ]
     },
     "execution_count": 29,
     "metadata": {},
     "output_type": "execute_result"
    }
   ],
   "source": [
    "pd.Series(data=[1, 2, 3])"
   ]
  },
  {
   "attachments": {},
   "cell_type": "markdown",
   "metadata": {},
   "source": [
    "When ```dtype=None```, the data type will be inferred from the data:"
   ]
  },
  {
   "cell_type": "code",
   "execution_count": 30,
   "metadata": {},
   "outputs": [
    {
     "data": {
      "text/plain": [
       "0    1.0\n",
       "1    2.0\n",
       "2    3.0\n",
       "dtype: float64"
      ]
     },
     "execution_count": 30,
     "metadata": {},
     "output_type": "execute_result"
    }
   ],
   "source": [
    "pd.Series(data=[1., 2., 3.])"
   ]
  },
  {
   "cell_type": "code",
   "execution_count": 31,
   "metadata": {},
   "outputs": [
    {
     "data": {
      "text/plain": [
       "0   2024-02-13 13:44:22.235566\n",
       "1   2024-02-14 13:44:22.235566\n",
       "2   2024-02-15 13:44:22.235566\n",
       "dtype: datetime64[ns]"
      ]
     },
     "execution_count": 31,
     "metadata": {},
     "output_type": "execute_result"
    }
   ],
   "source": [
    "from datetime import datetime, timedelta\n",
    "pd.Series(data=[datetime.now(), \n",
    "                datetime.now() + timedelta(days=1),\n",
    "                datetime.now() + timedelta(days=2)])"
   ]
  },
  {
   "cell_type": "code",
   "execution_count": 32,
   "metadata": {},
   "outputs": [
    {
     "data": {
      "text/plain": [
       "0    a\n",
       "1    b\n",
       "2    c\n",
       "dtype: object"
      ]
     },
     "execution_count": 32,
     "metadata": {},
     "output_type": "execute_result"
    }
   ],
   "source": [
    "pd.Series(data=['a', 'b', 'c'])"
   ]
  },
  {
   "attachments": {},
   "cell_type": "markdown",
   "metadata": {},
   "source": [
    "Anything with a ```str``` in it is classed as non-numeric and has the generic dtype ```object``` (meaning it can be any Python object)."
   ]
  },
  {
   "attachments": {},
   "cell_type": "markdown",
   "metadata": {},
   "source": [
    "The dtype can be manually overidden when supplying the numpy 1darray by using the ```np.array``` input argument ```dtype```:"
   ]
  },
  {
   "cell_type": "code",
   "execution_count": 33,
   "metadata": {},
   "outputs": [
    {
     "data": {
      "text/plain": [
       "0    1\n",
       "1    2\n",
       "2    3\n",
       "dtype: int32"
      ]
     },
     "execution_count": 33,
     "metadata": {},
     "output_type": "execute_result"
    }
   ],
   "source": [
    "pd.Series(data=np.array([1., 2., 3.], dtype=np.int32))"
   ]
  },
  {
   "attachments": {},
   "cell_type": "markdown",
   "metadata": {},
   "source": [
    "Or by alternatively using the ```Series``` keyword input argument ```dtype```:"
   ]
  },
  {
   "cell_type": "code",
   "execution_count": 34,
   "metadata": {},
   "outputs": [
    {
     "data": {
      "text/plain": [
       "0    1\n",
       "1    2\n",
       "2    3\n",
       "dtype: int32"
      ]
     },
     "execution_count": 34,
     "metadata": {},
     "output_type": "execute_result"
    }
   ],
   "source": [
    "pd.Series(data=[1., 2., 3.], dtype=np.int32)"
   ]
  },
  {
   "attachments": {},
   "cell_type": "markdown",
   "metadata": {},
   "source": [
    "Notice that the index is zero-ordered numeric in integer steps of 1 by default. This can be manually changed by use of the keyword input argument ```index``` and providing an ```Index``` instance, ```ndarray``` instance or ```list``` instance of index values:"
   ]
  },
  {
   "cell_type": "code",
   "execution_count": 35,
   "metadata": {},
   "outputs": [
    {
     "data": {
      "text/plain": [
       "a    1\n",
       "b    2\n",
       "c    3\n",
       "dtype: int32"
      ]
     },
     "execution_count": 35,
     "metadata": {},
     "output_type": "execute_result"
    }
   ],
   "source": [
    "pd.Series(index=['a', 'b', 'c'], data=[1., 2., 3.], dtype=np.int32)"
   ]
  },
  {
   "attachments": {},
   "cell_type": "markdown",
   "metadata": {},
   "source": [
    "A ```Series``` usually also has a ```name```:"
   ]
  },
  {
   "cell_type": "code",
   "execution_count": 36,
   "metadata": {},
   "outputs": [
    {
     "data": {
      "text/plain": [
       "a    1\n",
       "b    2\n",
       "c    3\n",
       "Name: x, dtype: int32"
      ]
     },
     "execution_count": 36,
     "metadata": {},
     "output_type": "execute_result"
    }
   ],
   "source": [
    "pd.Series(index=['a', 'b', 'c'], data=[1., 2., 3.], dtype=np.int32, name='x')"
   ]
  },
  {
   "attachments": {},
   "cell_type": "markdown",
   "metadata": {},
   "source": [
    "Normally the ```data``` and ```name``` are supplied and the ```index``` and ```dtype``` are inferred:"
   ]
  },
  {
   "cell_type": "code",
   "execution_count": 37,
   "metadata": {},
   "outputs": [
    {
     "data": {
      "text/plain": [
       "0    1.1\n",
       "1    2.1\n",
       "2    3.1\n",
       "3    4.1\n",
       "Name: x, dtype: float64"
      ]
     },
     "execution_count": 37,
     "metadata": {},
     "output_type": "execute_result"
    }
   ],
   "source": [
    "pd.Series([1.1, 2.1, 3.1, 4.1], name='x')"
   ]
  },
  {
   "attachments": {},
   "cell_type": "markdown",
   "metadata": {},
   "source": [
    "## DataFrame"
   ]
  },
  {
   "attachments": {},
   "cell_type": "markdown",
   "metadata": {},
   "source": [
    "The initialisation signature for the ```pd.DataFrame``` class can be examined:"
   ]
  },
  {
   "cell_type": "code",
   "execution_count": 38,
   "metadata": {
    "scrolled": true
   },
   "outputs": [
    {
     "data": {
      "text/plain": [
       "\u001b[1;31mInit signature:\u001b[0m\n",
       "\u001b[0mpd\u001b[0m\u001b[1;33m.\u001b[0m\u001b[0mDataFrame\u001b[0m\u001b[1;33m(\u001b[0m\u001b[1;33m\n",
       "\u001b[0m    \u001b[0mdata\u001b[0m\u001b[1;33m=\u001b[0m\u001b[1;32mNone\u001b[0m\u001b[1;33m,\u001b[0m\u001b[1;33m\n",
       "\u001b[0m    \u001b[0mindex\u001b[0m\u001b[1;33m:\u001b[0m \u001b[1;34m'Axes | None'\u001b[0m \u001b[1;33m=\u001b[0m \u001b[1;32mNone\u001b[0m\u001b[1;33m,\u001b[0m\u001b[1;33m\n",
       "\u001b[0m    \u001b[0mcolumns\u001b[0m\u001b[1;33m:\u001b[0m \u001b[1;34m'Axes | None'\u001b[0m \u001b[1;33m=\u001b[0m \u001b[1;32mNone\u001b[0m\u001b[1;33m,\u001b[0m\u001b[1;33m\n",
       "\u001b[0m    \u001b[0mdtype\u001b[0m\u001b[1;33m:\u001b[0m \u001b[1;34m'Dtype | None'\u001b[0m \u001b[1;33m=\u001b[0m \u001b[1;32mNone\u001b[0m\u001b[1;33m,\u001b[0m\u001b[1;33m\n",
       "\u001b[0m    \u001b[0mcopy\u001b[0m\u001b[1;33m:\u001b[0m \u001b[1;34m'bool | None'\u001b[0m \u001b[1;33m=\u001b[0m \u001b[1;32mNone\u001b[0m\u001b[1;33m,\u001b[0m\u001b[1;33m\n",
       "\u001b[0m\u001b[1;33m)\u001b[0m \u001b[1;33m->\u001b[0m \u001b[1;34m'None'\u001b[0m\u001b[1;33m\u001b[0m\u001b[1;33m\u001b[0m\u001b[0m\n",
       "\u001b[1;31mDocstring:\u001b[0m     \n",
       "Two-dimensional, size-mutable, potentially heterogeneous tabular data.\n",
       "\n",
       "Data structure also contains labeled axes (rows and columns).\n",
       "Arithmetic operations align on both row and column labels. Can be\n",
       "thought of as a dict-like container for Series objects. The primary\n",
       "pandas data structure.\n",
       "\n",
       "Parameters\n",
       "----------\n",
       "data : ndarray (structured or homogeneous), Iterable, dict, or DataFrame\n",
       "    Dict can contain Series, arrays, constants, dataclass or list-like objects. If\n",
       "    data is a dict, column order follows insertion-order. If a dict contains Series\n",
       "    which have an index defined, it is aligned by its index. This alignment also\n",
       "    occurs if data is a Series or a DataFrame itself. Alignment is done on\n",
       "    Series/DataFrame inputs.\n",
       "\n",
       "    If data is a list of dicts, column order follows insertion-order.\n",
       "\n",
       "index : Index or array-like\n",
       "    Index to use for resulting frame. Will default to RangeIndex if\n",
       "    no indexing information part of input data and no index provided.\n",
       "columns : Index or array-like\n",
       "    Column labels to use for resulting frame when data does not have them,\n",
       "    defaulting to RangeIndex(0, 1, 2, ..., n). If data contains column labels,\n",
       "    will perform column selection instead.\n",
       "dtype : dtype, default None\n",
       "    Data type to force. Only a single dtype is allowed. If None, infer.\n",
       "copy : bool or None, default None\n",
       "    Copy data from inputs.\n",
       "    For dict data, the default of None behaves like ``copy=True``.  For DataFrame\n",
       "    or 2d ndarray input, the default of None behaves like ``copy=False``.\n",
       "    If data is a dict containing one or more Series (possibly of different dtypes),\n",
       "    ``copy=False`` will ensure that these inputs are not copied.\n",
       "\n",
       "    .. versionchanged:: 1.3.0\n",
       "\n",
       "See Also\n",
       "--------\n",
       "DataFrame.from_records : Constructor from tuples, also record arrays.\n",
       "DataFrame.from_dict : From dicts of Series, arrays, or dicts.\n",
       "read_csv : Read a comma-separated values (csv) file into DataFrame.\n",
       "read_table : Read general delimited file into DataFrame.\n",
       "read_clipboard : Read text from clipboard into DataFrame.\n",
       "\n",
       "Notes\n",
       "-----\n",
       "Please reference the :ref:`User Guide <basics.dataframe>` for more information.\n",
       "\n",
       "Examples\n",
       "--------\n",
       "Constructing DataFrame from a dictionary.\n",
       "\n",
       ">>> d = {'col1': [1, 2], 'col2': [3, 4]}\n",
       ">>> df = pd.DataFrame(data=d)\n",
       ">>> df\n",
       "   col1  col2\n",
       "0     1     3\n",
       "1     2     4\n",
       "\n",
       "Notice that the inferred dtype is int64.\n",
       "\n",
       ">>> df.dtypes\n",
       "col1    int64\n",
       "col2    int64\n",
       "dtype: object\n",
       "\n",
       "To enforce a single dtype:\n",
       "\n",
       ">>> df = pd.DataFrame(data=d, dtype=np.int8)\n",
       ">>> df.dtypes\n",
       "col1    int8\n",
       "col2    int8\n",
       "dtype: object\n",
       "\n",
       "Constructing DataFrame from a dictionary including Series:\n",
       "\n",
       ">>> d = {'col1': [0, 1, 2, 3], 'col2': pd.Series([2, 3], index=[2, 3])}\n",
       ">>> pd.DataFrame(data=d, index=[0, 1, 2, 3])\n",
       "   col1  col2\n",
       "0     0   NaN\n",
       "1     1   NaN\n",
       "2     2   2.0\n",
       "3     3   3.0\n",
       "\n",
       "Constructing DataFrame from numpy ndarray:\n",
       "\n",
       ">>> df2 = pd.DataFrame(np.array([[1, 2, 3], [4, 5, 6], [7, 8, 9]]),\n",
       "...                    columns=['a', 'b', 'c'])\n",
       ">>> df2\n",
       "   a  b  c\n",
       "0  1  2  3\n",
       "1  4  5  6\n",
       "2  7  8  9\n",
       "\n",
       "Constructing DataFrame from a numpy ndarray that has labeled columns:\n",
       "\n",
       ">>> data = np.array([(1, 2, 3), (4, 5, 6), (7, 8, 9)],\n",
       "...                 dtype=[(\"a\", \"i4\"), (\"b\", \"i4\"), (\"c\", \"i4\")])\n",
       ">>> df3 = pd.DataFrame(data, columns=['c', 'a'])\n",
       "...\n",
       ">>> df3\n",
       "   c  a\n",
       "0  3  1\n",
       "1  6  4\n",
       "2  9  7\n",
       "\n",
       "Constructing DataFrame from dataclass:\n",
       "\n",
       ">>> from dataclasses import make_dataclass\n",
       ">>> Point = make_dataclass(\"Point\", [(\"x\", int), (\"y\", int)])\n",
       ">>> pd.DataFrame([Point(0, 0), Point(0, 3), Point(2, 3)])\n",
       "   x  y\n",
       "0  0  0\n",
       "1  0  3\n",
       "2  2  3\n",
       "\n",
       "Constructing DataFrame from Series/DataFrame:\n",
       "\n",
       ">>> ser = pd.Series([1, 2, 3], index=[\"a\", \"b\", \"c\"])\n",
       ">>> df = pd.DataFrame(data=ser, index=[\"a\", \"c\"])\n",
       ">>> df\n",
       "   0\n",
       "a  1\n",
       "c  3\n",
       "\n",
       ">>> df1 = pd.DataFrame([1, 2, 3], index=[\"a\", \"b\", \"c\"], columns=[\"x\"])\n",
       ">>> df2 = pd.DataFrame(data=df1, index=[\"a\", \"c\"])\n",
       ">>> df2\n",
       "   x\n",
       "a  1\n",
       "c  3\n",
       "\u001b[1;31mFile:\u001b[0m           c:\\users\\pyip\\miniconda3\\envs\\jupyter-env\\lib\\site-packages\\pandas\\core\\frame.py\n",
       "\u001b[1;31mType:\u001b[0m           type\n",
       "\u001b[1;31mSubclasses:\u001b[0m     SubclassedDataFrame"
      ]
     },
     "metadata": {},
     "output_type": "display_data"
    }
   ],
   "source": [
    "pd.DataFrame?"
   ]
  },
  {
   "attachments": {},
   "cell_type": "markdown",
   "metadata": {},
   "source": [
    "The keyword input arguments for a ```DataFrame``` instance are similar to those found for a ```Series``` instance however because a ```DataFrame``` is a collection of ```Series``` most of these are plural:\n",
    "\n",
    "* data (plural)\n",
    "* index (singular)\n",
    "* columns (plural of name)\n",
    "* dtype (plural)"
   ]
  },
  {
   "cell_type": "code",
   "execution_count": 45,
   "metadata": {},
   "outputs": [
    {
     "data": {
      "text/html": [
       "<div>\n",
       "<style scoped>\n",
       "    .dataframe tbody tr th:only-of-type {\n",
       "        vertical-align: middle;\n",
       "    }\n",
       "\n",
       "    .dataframe tbody tr th {\n",
       "        vertical-align: top;\n",
       "    }\n",
       "\n",
       "    .dataframe thead th {\n",
       "        text-align: right;\n",
       "    }\n",
       "</style>\n",
       "<table border=\"1\" class=\"dataframe\">\n",
       "  <thead>\n",
       "    <tr style=\"text-align: right;\">\n",
       "      <th></th>\n",
       "      <th>x</th>\n",
       "      <th>y</th>\n",
       "    </tr>\n",
       "  </thead>\n",
       "  <tbody>\n",
       "    <tr>\n",
       "      <th>a</th>\n",
       "      <td>1.1</td>\n",
       "      <td>1.2</td>\n",
       "    </tr>\n",
       "    <tr>\n",
       "      <th>b</th>\n",
       "      <td>2.1</td>\n",
       "      <td>2.2</td>\n",
       "    </tr>\n",
       "    <tr>\n",
       "      <th>c</th>\n",
       "      <td>3.1</td>\n",
       "      <td>3.2</td>\n",
       "    </tr>\n",
       "    <tr>\n",
       "      <th>d</th>\n",
       "      <td>4.1</td>\n",
       "      <td>4.2</td>\n",
       "    </tr>\n",
       "  </tbody>\n",
       "</table>\n",
       "</div>"
      ],
      "text/plain": [
       "     x    y\n",
       "a  1.1  1.2\n",
       "b  2.1  2.2\n",
       "c  3.1  3.2\n",
       "d  4.1  4.2"
      ]
     },
     "execution_count": 45,
     "metadata": {},
     "output_type": "execute_result"
    }
   ],
   "source": [
    "pd.DataFrame(data=[[1.1, 1.2], \n",
    "                   [2.1, 2.2],\n",
    "                   [3.1, 3.2],\n",
    "                   [4.1, 4.2]],\n",
    "             index=['a', 'b', 'c', 'd'],\n",
    "             columns=('x', 'y'),\n",
    "             dtype=(np.float64, np.float64))"
   ]
  },
  {
   "attachments": {},
   "cell_type": "markdown",
   "metadata": {},
   "source": [
    "The dtype has to be supplied as a ```tuple``` containing the ```dtype``` for each ```Series``` instance in the ```DataFrame``` instance. If it is supplied as a list of dtypes a ```TypeError``` will display.\n",
    "\n",
    "Once again normally the ```dtype``` and ```index``` are inferred:"
   ]
  },
  {
   "cell_type": "code",
   "execution_count": 46,
   "metadata": {},
   "outputs": [
    {
     "data": {
      "text/html": [
       "<div>\n",
       "<style scoped>\n",
       "    .dataframe tbody tr th:only-of-type {\n",
       "        vertical-align: middle;\n",
       "    }\n",
       "\n",
       "    .dataframe tbody tr th {\n",
       "        vertical-align: top;\n",
       "    }\n",
       "\n",
       "    .dataframe thead th {\n",
       "        text-align: right;\n",
       "    }\n",
       "</style>\n",
       "<table border=\"1\" class=\"dataframe\">\n",
       "  <thead>\n",
       "    <tr style=\"text-align: right;\">\n",
       "      <th></th>\n",
       "      <th>x</th>\n",
       "      <th>y</th>\n",
       "    </tr>\n",
       "  </thead>\n",
       "  <tbody>\n",
       "    <tr>\n",
       "      <th>0</th>\n",
       "      <td>1.1</td>\n",
       "      <td>1.2</td>\n",
       "    </tr>\n",
       "    <tr>\n",
       "      <th>1</th>\n",
       "      <td>2.1</td>\n",
       "      <td>2.2</td>\n",
       "    </tr>\n",
       "    <tr>\n",
       "      <th>2</th>\n",
       "      <td>3.1</td>\n",
       "      <td>3.2</td>\n",
       "    </tr>\n",
       "    <tr>\n",
       "      <th>3</th>\n",
       "      <td>4.1</td>\n",
       "      <td>4.2</td>\n",
       "    </tr>\n",
       "  </tbody>\n",
       "</table>\n",
       "</div>"
      ],
      "text/plain": [
       "     x    y\n",
       "0  1.1  1.2\n",
       "1  2.1  2.2\n",
       "2  3.1  3.2\n",
       "3  4.1  4.2"
      ]
     },
     "execution_count": 46,
     "metadata": {},
     "output_type": "execute_result"
    }
   ],
   "source": [
    "pd.DataFrame(data=[[1.1, 1.2], \n",
    "                   [2.1, 2.2],\n",
    "                   [3.1, 3.2],\n",
    "                   [4.1, 4.2]],\n",
    "             columns=('x', 'y'))"
   ]
  },
  {
   "attachments": {},
   "cell_type": "markdown",
   "metadata": {},
   "source": [
    "It is common to supply ```columns``` and ```data``` in the form of a mapping. The ```key``` should be a ```str``` instance which will become the column name and the ```value``` should be a ```np.ndarray``` (1d) or ```list``` instance which corresponds to the data for that ```pd.Series```:"
   ]
  },
  {
   "cell_type": "code",
   "execution_count": 47,
   "metadata": {},
   "outputs": [
    {
     "data": {
      "text/html": [
       "<div>\n",
       "<style scoped>\n",
       "    .dataframe tbody tr th:only-of-type {\n",
       "        vertical-align: middle;\n",
       "    }\n",
       "\n",
       "    .dataframe tbody tr th {\n",
       "        vertical-align: top;\n",
       "    }\n",
       "\n",
       "    .dataframe thead th {\n",
       "        text-align: right;\n",
       "    }\n",
       "</style>\n",
       "<table border=\"1\" class=\"dataframe\">\n",
       "  <thead>\n",
       "    <tr style=\"text-align: right;\">\n",
       "      <th></th>\n",
       "      <th>x</th>\n",
       "      <th>y</th>\n",
       "    </tr>\n",
       "  </thead>\n",
       "  <tbody>\n",
       "    <tr>\n",
       "      <th>0</th>\n",
       "      <td>1.1</td>\n",
       "      <td>1.2</td>\n",
       "    </tr>\n",
       "    <tr>\n",
       "      <th>1</th>\n",
       "      <td>2.1</td>\n",
       "      <td>2.2</td>\n",
       "    </tr>\n",
       "    <tr>\n",
       "      <th>2</th>\n",
       "      <td>3.1</td>\n",
       "      <td>3.2</td>\n",
       "    </tr>\n",
       "    <tr>\n",
       "      <th>3</th>\n",
       "      <td>3.1</td>\n",
       "      <td>4.2</td>\n",
       "    </tr>\n",
       "  </tbody>\n",
       "</table>\n",
       "</div>"
      ],
      "text/plain": [
       "     x    y\n",
       "0  1.1  1.2\n",
       "1  2.1  2.2\n",
       "2  3.1  3.2\n",
       "3  3.1  4.2"
      ]
     },
     "execution_count": 47,
     "metadata": {},
     "output_type": "execute_result"
    }
   ],
   "source": [
    "pd.DataFrame({'x': np.array([1.1, 2.1, 3.1, 3.1]),\n",
    "              'y': np.array([1.2, 2.2, 3.2, 4.2])})"
   ]
  },
  {
   "attachments": {},
   "cell_type": "markdown",
   "metadata": {},
   "source": [
    "## Reading Data from Files"
   ]
  },
  {
   "attachments": {},
   "cell_type": "markdown",
   "metadata": {},
   "source": [
    "The ```Series``` and ```DataFrames``` previously examined were created from scratch using ```builtins``` datatypes. It is also common to read data in from another source. The ```pandas``` library therefore has a number of functions for reading in data from external files. The function names all have a ```read_``` prefix followed by the file type:"
   ]
  },
  {
   "cell_type": "code",
   "execution_count": 51,
   "metadata": {
    "scrolled": true
   },
   "outputs": [
    {
     "name": "stdout",
     "output_type": "stream",
     "text": [
      "read_clipboard\n",
      "read_csv\n",
      "read_excel\n",
      "read_feather\n",
      "read_fwf\n",
      "read_gbq\n",
      "read_hdf\n",
      "read_html\n",
      "read_json\n",
      "read_orc\n",
      "read_parquet\n",
      "read_pickle\n",
      "read_sas\n",
      "read_spss\n",
      "read_sql\n",
      "read_sql_query\n",
      "read_sql_table\n",
      "read_stata\n",
      "read_table\n",
      "read_xml\n"
     ]
    }
   ],
   "source": [
    "for identifier in dir(pd):\n",
    "    if identifier.startswith('read_'):\n",
    "        print(identifier)"
   ]
  },
  {
   "cell_type": "markdown",
   "metadata": {},
   "source": [
    "Some of the more common formats will be explored."
   ]
  },
  {
   "attachments": {},
   "cell_type": "markdown",
   "metadata": {},
   "source": [
    "### Comma Separated Values File"
   ]
  },
  {
   "attachments": {},
   "cell_type": "markdown",
   "metadata": {},
   "source": [
    "CSV is an abbreviation for Comma Separated Values. \n",
    "\n",
    "The file format uses:\n",
    "* ```a``` , as a column separator which is where the name comma separated values comes from\n",
    "* ```\\n```, as a row separator\n",
    "\n",
    "A csv with escape characters explicitly shown looks as follows:"
   ]
  },
  {
   "cell_type": "markdown",
   "metadata": {},
   "source": [
    "```powershell\n",
    "string,integer,bool,float,date,time,category\\n\n",
    "the fat black cat,4,TRUE,0.86,24/07/2023,11:36:00,A\\n\n",
    "sat on the mat,4,TRUE,0.86,25/07/2023,12:36:00,A\\n\n",
    "\"twinkle, twinkle\",2,TRUE,-1.14,26/07/2023,13:36:00,B\\n\n",
    "little star,2,TRUE,-1.14,27/07/2023,14:36:00,B\\n\n",
    "how I wonder,3,FALSE,-0.14,28/07/2023,15:36:00,B\\n\n",
    "what you are,4,TRUE,0.86,29/07/2023,16:36:00,B\\n\n",
    "```"
   ]
  },
  {
   "cell_type": "markdown",
   "metadata": {},
   "source": [
    "This can be written to a csv file:"
   ]
  },
  {
   "cell_type": "code",
   "execution_count": 66,
   "metadata": {},
   "outputs": [
    {
     "name": "stdout",
     "output_type": "stream",
     "text": [
      "Overwriting ./files/Book1.csv\n"
     ]
    }
   ],
   "source": [
    "%%writefile ./files/Book1.csv\n",
    "string,integer,bool,float,date,time,category\n",
    "the fat black cat,4,TRUE,0.86,24/07/2023,11:36:00,A\n",
    "sat on the mat,4,TRUE,0.86,25/07/2023,12:36:00,A\n",
    "\"twinkle, twinkle\",2,TRUE,-1.14,26/07/2023,13:36:00,B\n",
    "little star,2,TRUE,-1.14,27/07/2023,14:36:00,B\n",
    "how I wonder,3,FALSE,-0.14,28/07/2023,15:36:00,B\n",
    "what you are,4,TRUE,0.86,29/07/2023,16:36:00,B"
   ]
  },
  {
   "attachments": {},
   "cell_type": "markdown",
   "metadata": {},
   "source": [
    "When opened in a program such as Microsoft Excel, these delimiters display as a grid:"
   ]
  },
  {
   "attachments": {},
   "cell_type": "markdown",
   "metadata": {},
   "source": [
    "<img src='./images/img_001.png' alt='img_001' width='800'/>"
   ]
  },
  {
   "attachments": {},
   "cell_type": "markdown",
   "metadata": {},
   "source": [
    "Notice that the comma in ```twinkle, twinkle``` is not a delimiter but part of the ```str```. For this reason ```\"twinkle, twinkle\"``` was is enclosed in quotations."
   ]
  },
  {
   "attachments": {},
   "cell_type": "markdown",
   "metadata": {},
   "source": [
    "The ```pd.read_csv``` function is used to read in a csv file returning a ```DataFrame``` instance:"
   ]
  },
  {
   "cell_type": "code",
   "execution_count": 74,
   "metadata": {
    "scrolled": true
   },
   "outputs": [
    {
     "data": {
      "text/plain": [
       "\u001b[1;31mSignature:\u001b[0m\n",
       "\u001b[0mpd\u001b[0m\u001b[1;33m.\u001b[0m\u001b[0mread_csv\u001b[0m\u001b[1;33m(\u001b[0m\u001b[1;33m\n",
       "\u001b[0m    \u001b[0mfilepath_or_buffer\u001b[0m\u001b[1;33m:\u001b[0m \u001b[1;34m'FilePath | ReadCsvBuffer[bytes] | ReadCsvBuffer[str]'\u001b[0m\u001b[1;33m,\u001b[0m\u001b[1;33m\n",
       "\u001b[0m    \u001b[1;33m*\u001b[0m\u001b[1;33m,\u001b[0m\u001b[1;33m\n",
       "\u001b[0m    \u001b[0msep\u001b[0m\u001b[1;33m:\u001b[0m \u001b[1;34m'str | None | lib.NoDefault'\u001b[0m \u001b[1;33m=\u001b[0m \u001b[1;33m<\u001b[0m\u001b[0mno_default\u001b[0m\u001b[1;33m>\u001b[0m\u001b[1;33m,\u001b[0m\u001b[1;33m\n",
       "\u001b[0m    \u001b[0mdelimiter\u001b[0m\u001b[1;33m:\u001b[0m \u001b[1;34m'str | None | lib.NoDefault'\u001b[0m \u001b[1;33m=\u001b[0m \u001b[1;32mNone\u001b[0m\u001b[1;33m,\u001b[0m\u001b[1;33m\n",
       "\u001b[0m    \u001b[0mheader\u001b[0m\u001b[1;33m:\u001b[0m \u001b[1;34m\"int | Sequence[int] | None | Literal['infer']\"\u001b[0m \u001b[1;33m=\u001b[0m \u001b[1;34m'infer'\u001b[0m\u001b[1;33m,\u001b[0m\u001b[1;33m\n",
       "\u001b[0m    \u001b[0mnames\u001b[0m\u001b[1;33m:\u001b[0m \u001b[1;34m'Sequence[Hashable] | None | lib.NoDefault'\u001b[0m \u001b[1;33m=\u001b[0m \u001b[1;33m<\u001b[0m\u001b[0mno_default\u001b[0m\u001b[1;33m>\u001b[0m\u001b[1;33m,\u001b[0m\u001b[1;33m\n",
       "\u001b[0m    \u001b[0mindex_col\u001b[0m\u001b[1;33m:\u001b[0m \u001b[1;34m'IndexLabel | Literal[False] | None'\u001b[0m \u001b[1;33m=\u001b[0m \u001b[1;32mNone\u001b[0m\u001b[1;33m,\u001b[0m\u001b[1;33m\n",
       "\u001b[0m    \u001b[0musecols\u001b[0m\u001b[1;33m:\u001b[0m \u001b[1;34m'UsecolsArgType'\u001b[0m \u001b[1;33m=\u001b[0m \u001b[1;32mNone\u001b[0m\u001b[1;33m,\u001b[0m\u001b[1;33m\n",
       "\u001b[0m    \u001b[0mdtype\u001b[0m\u001b[1;33m:\u001b[0m \u001b[1;34m'DtypeArg | None'\u001b[0m \u001b[1;33m=\u001b[0m \u001b[1;32mNone\u001b[0m\u001b[1;33m,\u001b[0m\u001b[1;33m\n",
       "\u001b[0m    \u001b[0mengine\u001b[0m\u001b[1;33m:\u001b[0m \u001b[1;34m'CSVEngine | None'\u001b[0m \u001b[1;33m=\u001b[0m \u001b[1;32mNone\u001b[0m\u001b[1;33m,\u001b[0m\u001b[1;33m\n",
       "\u001b[0m    \u001b[0mconverters\u001b[0m\u001b[1;33m:\u001b[0m \u001b[1;34m'Mapping[Hashable, Callable] | None'\u001b[0m \u001b[1;33m=\u001b[0m \u001b[1;32mNone\u001b[0m\u001b[1;33m,\u001b[0m\u001b[1;33m\n",
       "\u001b[0m    \u001b[0mtrue_values\u001b[0m\u001b[1;33m:\u001b[0m \u001b[1;34m'list | None'\u001b[0m \u001b[1;33m=\u001b[0m \u001b[1;32mNone\u001b[0m\u001b[1;33m,\u001b[0m\u001b[1;33m\n",
       "\u001b[0m    \u001b[0mfalse_values\u001b[0m\u001b[1;33m:\u001b[0m \u001b[1;34m'list | None'\u001b[0m \u001b[1;33m=\u001b[0m \u001b[1;32mNone\u001b[0m\u001b[1;33m,\u001b[0m\u001b[1;33m\n",
       "\u001b[0m    \u001b[0mskipinitialspace\u001b[0m\u001b[1;33m:\u001b[0m \u001b[1;34m'bool'\u001b[0m \u001b[1;33m=\u001b[0m \u001b[1;32mFalse\u001b[0m\u001b[1;33m,\u001b[0m\u001b[1;33m\n",
       "\u001b[0m    \u001b[0mskiprows\u001b[0m\u001b[1;33m:\u001b[0m \u001b[1;34m'list[int] | int | Callable[[Hashable], bool] | None'\u001b[0m \u001b[1;33m=\u001b[0m \u001b[1;32mNone\u001b[0m\u001b[1;33m,\u001b[0m\u001b[1;33m\n",
       "\u001b[0m    \u001b[0mskipfooter\u001b[0m\u001b[1;33m:\u001b[0m \u001b[1;34m'int'\u001b[0m \u001b[1;33m=\u001b[0m \u001b[1;36m0\u001b[0m\u001b[1;33m,\u001b[0m\u001b[1;33m\n",
       "\u001b[0m    \u001b[0mnrows\u001b[0m\u001b[1;33m:\u001b[0m \u001b[1;34m'int | None'\u001b[0m \u001b[1;33m=\u001b[0m \u001b[1;32mNone\u001b[0m\u001b[1;33m,\u001b[0m\u001b[1;33m\n",
       "\u001b[0m    \u001b[0mna_values\u001b[0m\u001b[1;33m:\u001b[0m \u001b[1;34m'Hashable | Iterable[Hashable] | Mapping[Hashable, Iterable[Hashable]] | None'\u001b[0m \u001b[1;33m=\u001b[0m \u001b[1;32mNone\u001b[0m\u001b[1;33m,\u001b[0m\u001b[1;33m\n",
       "\u001b[0m    \u001b[0mkeep_default_na\u001b[0m\u001b[1;33m:\u001b[0m \u001b[1;34m'bool'\u001b[0m \u001b[1;33m=\u001b[0m \u001b[1;32mTrue\u001b[0m\u001b[1;33m,\u001b[0m\u001b[1;33m\n",
       "\u001b[0m    \u001b[0mna_filter\u001b[0m\u001b[1;33m:\u001b[0m \u001b[1;34m'bool'\u001b[0m \u001b[1;33m=\u001b[0m \u001b[1;32mTrue\u001b[0m\u001b[1;33m,\u001b[0m\u001b[1;33m\n",
       "\u001b[0m    \u001b[0mverbose\u001b[0m\u001b[1;33m:\u001b[0m \u001b[1;34m'bool | lib.NoDefault'\u001b[0m \u001b[1;33m=\u001b[0m \u001b[1;33m<\u001b[0m\u001b[0mno_default\u001b[0m\u001b[1;33m>\u001b[0m\u001b[1;33m,\u001b[0m\u001b[1;33m\n",
       "\u001b[0m    \u001b[0mskip_blank_lines\u001b[0m\u001b[1;33m:\u001b[0m \u001b[1;34m'bool'\u001b[0m \u001b[1;33m=\u001b[0m \u001b[1;32mTrue\u001b[0m\u001b[1;33m,\u001b[0m\u001b[1;33m\n",
       "\u001b[0m    \u001b[0mparse_dates\u001b[0m\u001b[1;33m:\u001b[0m \u001b[1;34m'bool | Sequence[Hashable] | None'\u001b[0m \u001b[1;33m=\u001b[0m \u001b[1;32mNone\u001b[0m\u001b[1;33m,\u001b[0m\u001b[1;33m\n",
       "\u001b[0m    \u001b[0minfer_datetime_format\u001b[0m\u001b[1;33m:\u001b[0m \u001b[1;34m'bool | lib.NoDefault'\u001b[0m \u001b[1;33m=\u001b[0m \u001b[1;33m<\u001b[0m\u001b[0mno_default\u001b[0m\u001b[1;33m>\u001b[0m\u001b[1;33m,\u001b[0m\u001b[1;33m\n",
       "\u001b[0m    \u001b[0mkeep_date_col\u001b[0m\u001b[1;33m:\u001b[0m \u001b[1;34m'bool | lib.NoDefault'\u001b[0m \u001b[1;33m=\u001b[0m \u001b[1;33m<\u001b[0m\u001b[0mno_default\u001b[0m\u001b[1;33m>\u001b[0m\u001b[1;33m,\u001b[0m\u001b[1;33m\n",
       "\u001b[0m    \u001b[0mdate_parser\u001b[0m\u001b[1;33m:\u001b[0m \u001b[1;34m'Callable | lib.NoDefault'\u001b[0m \u001b[1;33m=\u001b[0m \u001b[1;33m<\u001b[0m\u001b[0mno_default\u001b[0m\u001b[1;33m>\u001b[0m\u001b[1;33m,\u001b[0m\u001b[1;33m\n",
       "\u001b[0m    \u001b[0mdate_format\u001b[0m\u001b[1;33m:\u001b[0m \u001b[1;34m'str | dict[Hashable, str] | None'\u001b[0m \u001b[1;33m=\u001b[0m \u001b[1;32mNone\u001b[0m\u001b[1;33m,\u001b[0m\u001b[1;33m\n",
       "\u001b[0m    \u001b[0mdayfirst\u001b[0m\u001b[1;33m:\u001b[0m \u001b[1;34m'bool'\u001b[0m \u001b[1;33m=\u001b[0m \u001b[1;32mFalse\u001b[0m\u001b[1;33m,\u001b[0m\u001b[1;33m\n",
       "\u001b[0m    \u001b[0mcache_dates\u001b[0m\u001b[1;33m:\u001b[0m \u001b[1;34m'bool'\u001b[0m \u001b[1;33m=\u001b[0m \u001b[1;32mTrue\u001b[0m\u001b[1;33m,\u001b[0m\u001b[1;33m\n",
       "\u001b[0m    \u001b[0miterator\u001b[0m\u001b[1;33m:\u001b[0m \u001b[1;34m'bool'\u001b[0m \u001b[1;33m=\u001b[0m \u001b[1;32mFalse\u001b[0m\u001b[1;33m,\u001b[0m\u001b[1;33m\n",
       "\u001b[0m    \u001b[0mchunksize\u001b[0m\u001b[1;33m:\u001b[0m \u001b[1;34m'int | None'\u001b[0m \u001b[1;33m=\u001b[0m \u001b[1;32mNone\u001b[0m\u001b[1;33m,\u001b[0m\u001b[1;33m\n",
       "\u001b[0m    \u001b[0mcompression\u001b[0m\u001b[1;33m:\u001b[0m \u001b[1;34m'CompressionOptions'\u001b[0m \u001b[1;33m=\u001b[0m \u001b[1;34m'infer'\u001b[0m\u001b[1;33m,\u001b[0m\u001b[1;33m\n",
       "\u001b[0m    \u001b[0mthousands\u001b[0m\u001b[1;33m:\u001b[0m \u001b[1;34m'str | None'\u001b[0m \u001b[1;33m=\u001b[0m \u001b[1;32mNone\u001b[0m\u001b[1;33m,\u001b[0m\u001b[1;33m\n",
       "\u001b[0m    \u001b[0mdecimal\u001b[0m\u001b[1;33m:\u001b[0m \u001b[1;34m'str'\u001b[0m \u001b[1;33m=\u001b[0m \u001b[1;34m'.'\u001b[0m\u001b[1;33m,\u001b[0m\u001b[1;33m\n",
       "\u001b[0m    \u001b[0mlineterminator\u001b[0m\u001b[1;33m:\u001b[0m \u001b[1;34m'str | None'\u001b[0m \u001b[1;33m=\u001b[0m \u001b[1;32mNone\u001b[0m\u001b[1;33m,\u001b[0m\u001b[1;33m\n",
       "\u001b[0m    \u001b[0mquotechar\u001b[0m\u001b[1;33m:\u001b[0m \u001b[1;34m'str'\u001b[0m \u001b[1;33m=\u001b[0m \u001b[1;34m'\"'\u001b[0m\u001b[1;33m,\u001b[0m\u001b[1;33m\n",
       "\u001b[0m    \u001b[0mquoting\u001b[0m\u001b[1;33m:\u001b[0m \u001b[1;34m'int'\u001b[0m \u001b[1;33m=\u001b[0m \u001b[1;36m0\u001b[0m\u001b[1;33m,\u001b[0m\u001b[1;33m\n",
       "\u001b[0m    \u001b[0mdoublequote\u001b[0m\u001b[1;33m:\u001b[0m \u001b[1;34m'bool'\u001b[0m \u001b[1;33m=\u001b[0m \u001b[1;32mTrue\u001b[0m\u001b[1;33m,\u001b[0m\u001b[1;33m\n",
       "\u001b[0m    \u001b[0mescapechar\u001b[0m\u001b[1;33m:\u001b[0m \u001b[1;34m'str | None'\u001b[0m \u001b[1;33m=\u001b[0m \u001b[1;32mNone\u001b[0m\u001b[1;33m,\u001b[0m\u001b[1;33m\n",
       "\u001b[0m    \u001b[0mcomment\u001b[0m\u001b[1;33m:\u001b[0m \u001b[1;34m'str | None'\u001b[0m \u001b[1;33m=\u001b[0m \u001b[1;32mNone\u001b[0m\u001b[1;33m,\u001b[0m\u001b[1;33m\n",
       "\u001b[0m    \u001b[0mencoding\u001b[0m\u001b[1;33m:\u001b[0m \u001b[1;34m'str | None'\u001b[0m \u001b[1;33m=\u001b[0m \u001b[1;32mNone\u001b[0m\u001b[1;33m,\u001b[0m\u001b[1;33m\n",
       "\u001b[0m    \u001b[0mencoding_errors\u001b[0m\u001b[1;33m:\u001b[0m \u001b[1;34m'str | None'\u001b[0m \u001b[1;33m=\u001b[0m \u001b[1;34m'strict'\u001b[0m\u001b[1;33m,\u001b[0m\u001b[1;33m\n",
       "\u001b[0m    \u001b[0mdialect\u001b[0m\u001b[1;33m:\u001b[0m \u001b[1;34m'str | csv.Dialect | None'\u001b[0m \u001b[1;33m=\u001b[0m \u001b[1;32mNone\u001b[0m\u001b[1;33m,\u001b[0m\u001b[1;33m\n",
       "\u001b[0m    \u001b[0mon_bad_lines\u001b[0m\u001b[1;33m:\u001b[0m \u001b[1;34m'str'\u001b[0m \u001b[1;33m=\u001b[0m \u001b[1;34m'error'\u001b[0m\u001b[1;33m,\u001b[0m\u001b[1;33m\n",
       "\u001b[0m    \u001b[0mdelim_whitespace\u001b[0m\u001b[1;33m:\u001b[0m \u001b[1;34m'bool | lib.NoDefault'\u001b[0m \u001b[1;33m=\u001b[0m \u001b[1;33m<\u001b[0m\u001b[0mno_default\u001b[0m\u001b[1;33m>\u001b[0m\u001b[1;33m,\u001b[0m\u001b[1;33m\n",
       "\u001b[0m    \u001b[0mlow_memory\u001b[0m\u001b[1;33m:\u001b[0m \u001b[1;34m'bool'\u001b[0m \u001b[1;33m=\u001b[0m \u001b[1;32mTrue\u001b[0m\u001b[1;33m,\u001b[0m\u001b[1;33m\n",
       "\u001b[0m    \u001b[0mmemory_map\u001b[0m\u001b[1;33m:\u001b[0m \u001b[1;34m'bool'\u001b[0m \u001b[1;33m=\u001b[0m \u001b[1;32mFalse\u001b[0m\u001b[1;33m,\u001b[0m\u001b[1;33m\n",
       "\u001b[0m    \u001b[0mfloat_precision\u001b[0m\u001b[1;33m:\u001b[0m \u001b[1;34m\"Literal['high', 'legacy'] | None\"\u001b[0m \u001b[1;33m=\u001b[0m \u001b[1;32mNone\u001b[0m\u001b[1;33m,\u001b[0m\u001b[1;33m\n",
       "\u001b[0m    \u001b[0mstorage_options\u001b[0m\u001b[1;33m:\u001b[0m \u001b[1;34m'StorageOptions | None'\u001b[0m \u001b[1;33m=\u001b[0m \u001b[1;32mNone\u001b[0m\u001b[1;33m,\u001b[0m\u001b[1;33m\n",
       "\u001b[0m    \u001b[0mdtype_backend\u001b[0m\u001b[1;33m:\u001b[0m \u001b[1;34m'DtypeBackend | lib.NoDefault'\u001b[0m \u001b[1;33m=\u001b[0m \u001b[1;33m<\u001b[0m\u001b[0mno_default\u001b[0m\u001b[1;33m>\u001b[0m\u001b[1;33m,\u001b[0m\u001b[1;33m\n",
       "\u001b[0m\u001b[1;33m)\u001b[0m \u001b[1;33m->\u001b[0m \u001b[1;34m'DataFrame | TextFileReader'\u001b[0m\u001b[1;33m\u001b[0m\u001b[1;33m\u001b[0m\u001b[0m\n",
       "\u001b[1;31mDocstring:\u001b[0m\n",
       "Read a comma-separated values (csv) file into DataFrame.\n",
       "\n",
       "Also supports optionally iterating or breaking of the file\n",
       "into chunks.\n",
       "\n",
       "Additional help can be found in the online docs for\n",
       "`IO Tools <https://pandas.pydata.org/pandas-docs/stable/user_guide/io.html>`_.\n",
       "\n",
       "Parameters\n",
       "----------\n",
       "filepath_or_buffer : str, path object or file-like object\n",
       "    Any valid string path is acceptable. The string could be a URL. Valid\n",
       "    URL schemes include http, ftp, s3, gs, and file. For file URLs, a host is\n",
       "    expected. A local file could be: file://localhost/path/to/table.csv.\n",
       "\n",
       "    If you want to pass in a path object, pandas accepts any ``os.PathLike``.\n",
       "\n",
       "    By file-like object, we refer to objects with a ``read()`` method, such as\n",
       "    a file handle (e.g. via builtin ``open`` function) or ``StringIO``.\n",
       "sep : str, default ','\n",
       "    Character or regex pattern to treat as the delimiter. If ``sep=None``, the\n",
       "    C engine cannot automatically detect\n",
       "    the separator, but the Python parsing engine can, meaning the latter will\n",
       "    be used and automatically detect the separator from only the first valid\n",
       "    row of the file by Python's builtin sniffer tool, ``csv.Sniffer``.\n",
       "    In addition, separators longer than 1 character and different from\n",
       "    ``'\\s+'`` will be interpreted as regular expressions and will also force\n",
       "    the use of the Python parsing engine. Note that regex delimiters are prone\n",
       "    to ignoring quoted data. Regex example: ``'\\r\\t'``.\n",
       "delimiter : str, optional\n",
       "    Alias for ``sep``.\n",
       "header : int, Sequence of int, 'infer' or None, default 'infer'\n",
       "    Row number(s) containing column labels and marking the start of the\n",
       "    data (zero-indexed). Default behavior is to infer the column names: if no ``names``\n",
       "    are passed the behavior is identical to ``header=0`` and column\n",
       "    names are inferred from the first line of the file, if column\n",
       "    names are passed explicitly to ``names`` then the behavior is identical to\n",
       "    ``header=None``. Explicitly pass ``header=0`` to be able to\n",
       "    replace existing names. The header can be a list of integers that\n",
       "    specify row locations for a :class:`~pandas.MultiIndex` on the columns\n",
       "    e.g. ``[0, 1, 3]``. Intervening rows that are not specified will be\n",
       "    skipped (e.g. 2 in this example is skipped). Note that this\n",
       "    parameter ignores commented lines and empty lines if\n",
       "    ``skip_blank_lines=True``, so ``header=0`` denotes the first line of\n",
       "    data rather than the first line of the file.\n",
       "names : Sequence of Hashable, optional\n",
       "    Sequence of column labels to apply. If the file contains a header row,\n",
       "    then you should explicitly pass ``header=0`` to override the column names.\n",
       "    Duplicates in this list are not allowed.\n",
       "index_col : Hashable, Sequence of Hashable or False, optional\n",
       "  Column(s) to use as row label(s), denoted either by column labels or column\n",
       "  indices.  If a sequence of labels or indices is given, :class:`~pandas.MultiIndex`\n",
       "  will be formed for the row labels.\n",
       "\n",
       "  Note: ``index_col=False`` can be used to force pandas to *not* use the first\n",
       "  column as the index, e.g., when you have a malformed file with delimiters at\n",
       "  the end of each line.\n",
       "usecols : Sequence of Hashable or Callable, optional\n",
       "    Subset of columns to select, denoted either by column labels or column indices.\n",
       "    If list-like, all elements must either\n",
       "    be positional (i.e. integer indices into the document columns) or strings\n",
       "    that correspond to column names provided either by the user in ``names`` or\n",
       "    inferred from the document header row(s). If ``names`` are given, the document\n",
       "    header row(s) are not taken into account. For example, a valid list-like\n",
       "    ``usecols`` parameter would be ``[0, 1, 2]`` or ``['foo', 'bar', 'baz']``.\n",
       "    Element order is ignored, so ``usecols=[0, 1]`` is the same as ``[1, 0]``.\n",
       "    To instantiate a :class:`~pandas.DataFrame` from ``data`` with element order\n",
       "    preserved use ``pd.read_csv(data, usecols=['foo', 'bar'])[['foo', 'bar']]``\n",
       "    for columns in ``['foo', 'bar']`` order or\n",
       "    ``pd.read_csv(data, usecols=['foo', 'bar'])[['bar', 'foo']]``\n",
       "    for ``['bar', 'foo']`` order.\n",
       "\n",
       "    If callable, the callable function will be evaluated against the column\n",
       "    names, returning names where the callable function evaluates to ``True``. An\n",
       "    example of a valid callable argument would be ``lambda x: x.upper() in\n",
       "    ['AAA', 'BBB', 'DDD']``. Using this parameter results in much faster\n",
       "    parsing time and lower memory usage.\n",
       "dtype : dtype or dict of {Hashable : dtype}, optional\n",
       "    Data type(s) to apply to either the whole dataset or individual columns.\n",
       "    E.g., ``{'a': np.float64, 'b': np.int32, 'c': 'Int64'}``\n",
       "    Use ``str`` or ``object`` together with suitable ``na_values`` settings\n",
       "    to preserve and not interpret ``dtype``.\n",
       "    If ``converters`` are specified, they will be applied INSTEAD\n",
       "    of ``dtype`` conversion.\n",
       "\n",
       "    .. versionadded:: 1.5.0\n",
       "\n",
       "        Support for ``defaultdict`` was added. Specify a ``defaultdict`` as input where\n",
       "        the default determines the ``dtype`` of the columns which are not explicitly\n",
       "        listed.\n",
       "engine : {'c', 'python', 'pyarrow'}, optional\n",
       "    Parser engine to use. The C and pyarrow engines are faster, while the python engine\n",
       "    is currently more feature-complete. Multithreading is currently only supported by\n",
       "    the pyarrow engine.\n",
       "\n",
       "    .. versionadded:: 1.4.0\n",
       "\n",
       "        The 'pyarrow' engine was added as an *experimental* engine, and some features\n",
       "        are unsupported, or may not work correctly, with this engine.\n",
       "converters : dict of {Hashable : Callable}, optional\n",
       "    Functions for converting values in specified columns. Keys can either\n",
       "    be column labels or column indices.\n",
       "true_values : list, optional\n",
       "    Values to consider as ``True`` in addition to case-insensitive variants of 'True'.\n",
       "false_values : list, optional\n",
       "    Values to consider as ``False`` in addition to case-insensitive variants of 'False'.\n",
       "skipinitialspace : bool, default False\n",
       "    Skip spaces after delimiter.\n",
       "skiprows : int, list of int or Callable, optional\n",
       "    Line numbers to skip (0-indexed) or number of lines to skip (``int``)\n",
       "    at the start of the file.\n",
       "\n",
       "    If callable, the callable function will be evaluated against the row\n",
       "    indices, returning ``True`` if the row should be skipped and ``False`` otherwise.\n",
       "    An example of a valid callable argument would be ``lambda x: x in [0, 2]``.\n",
       "skipfooter : int, default 0\n",
       "    Number of lines at bottom of file to skip (Unsupported with ``engine='c'``).\n",
       "nrows : int, optional\n",
       "    Number of rows of file to read. Useful for reading pieces of large files.\n",
       "na_values : Hashable, Iterable of Hashable or dict of {Hashable : Iterable}, optional\n",
       "    Additional strings to recognize as ``NA``/``NaN``. If ``dict`` passed, specific\n",
       "    per-column ``NA`` values.  By default the following values are interpreted as\n",
       "    ``NaN``: \" \", \"#N/A\", \"#N/A N/A\", \"#NA\", \"-1.#IND\", \"-1.#QNAN\", \"-NaN\", \"-nan\",\n",
       "    \"1.#IND\", \"1.#QNAN\", \"<NA>\", \"N/A\", \"NA\", \"NULL\", \"NaN\", \"None\",\n",
       "    \"n/a\", \"nan\", \"null \".\n",
       "\n",
       "keep_default_na : bool, default True\n",
       "    Whether or not to include the default ``NaN`` values when parsing the data.\n",
       "    Depending on whether ``na_values`` is passed in, the behavior is as follows:\n",
       "\n",
       "    * If ``keep_default_na`` is ``True``, and ``na_values`` are specified, ``na_values``\n",
       "      is appended to the default ``NaN`` values used for parsing.\n",
       "    * If ``keep_default_na`` is ``True``, and ``na_values`` are not specified, only\n",
       "      the default ``NaN`` values are used for parsing.\n",
       "    * If ``keep_default_na`` is ``False``, and ``na_values`` are specified, only\n",
       "      the ``NaN`` values specified ``na_values`` are used for parsing.\n",
       "    * If ``keep_default_na`` is ``False``, and ``na_values`` are not specified, no\n",
       "      strings will be parsed as ``NaN``.\n",
       "\n",
       "    Note that if ``na_filter`` is passed in as ``False``, the ``keep_default_na`` and\n",
       "    ``na_values`` parameters will be ignored.\n",
       "na_filter : bool, default True\n",
       "    Detect missing value markers (empty strings and the value of ``na_values``). In\n",
       "    data without any ``NA`` values, passing ``na_filter=False`` can improve the\n",
       "    performance of reading a large file.\n",
       "verbose : bool, default False\n",
       "    Indicate number of ``NA`` values placed in non-numeric columns.\n",
       "skip_blank_lines : bool, default True\n",
       "    If ``True``, skip over blank lines rather than interpreting as ``NaN`` values.\n",
       "parse_dates : bool, list of Hashable, list of lists or dict of {Hashable : list}, default False\n",
       "    The behavior is as follows:\n",
       "\n",
       "    * ``bool``. If ``True`` -> try parsing the index. Note: Automatically set to\n",
       "      ``True`` if ``date_format`` or ``date_parser`` arguments have been passed.\n",
       "    * ``list`` of ``int`` or names. e.g. If ``[1, 2, 3]`` -> try parsing columns 1, 2, 3\n",
       "      each as a separate date column.\n",
       "    * ``list`` of ``list``. e.g.  If ``[[1, 3]]`` -> combine columns 1 and 3 and parse\n",
       "      as a single date column. Values are joined with a space before parsing.\n",
       "    * ``dict``, e.g. ``{'foo' : [1, 3]}`` -> parse columns 1, 3 as date and call\n",
       "      result 'foo'. Values are joined with a space before parsing.\n",
       "\n",
       "    If a column or index cannot be represented as an array of ``datetime``,\n",
       "    say because of an unparsable value or a mixture of timezones, the column\n",
       "    or index will be returned unaltered as an ``object`` data type. For\n",
       "    non-standard ``datetime`` parsing, use :func:`~pandas.to_datetime` after\n",
       "    :func:`~pandas.read_csv`.\n",
       "\n",
       "    Note: A fast-path exists for iso8601-formatted dates.\n",
       "infer_datetime_format : bool, default False\n",
       "    If ``True`` and ``parse_dates`` is enabled, pandas will attempt to infer the\n",
       "    format of the ``datetime`` strings in the columns, and if it can be inferred,\n",
       "    switch to a faster method of parsing them. In some cases this can increase\n",
       "    the parsing speed by 5-10x.\n",
       "\n",
       "    .. deprecated:: 2.0.0\n",
       "        A strict version of this argument is now the default, passing it has no effect.\n",
       "\n",
       "keep_date_col : bool, default False\n",
       "    If ``True`` and ``parse_dates`` specifies combining multiple columns then\n",
       "    keep the original columns.\n",
       "date_parser : Callable, optional\n",
       "    Function to use for converting a sequence of string columns to an array of\n",
       "    ``datetime`` instances. The default uses ``dateutil.parser.parser`` to do the\n",
       "    conversion. pandas will try to call ``date_parser`` in three different ways,\n",
       "    advancing to the next if an exception occurs: 1) Pass one or more arrays\n",
       "    (as defined by ``parse_dates``) as arguments; 2) concatenate (row-wise) the\n",
       "    string values from the columns defined by ``parse_dates`` into a single array\n",
       "    and pass that; and 3) call ``date_parser`` once for each row using one or\n",
       "    more strings (corresponding to the columns defined by ``parse_dates``) as\n",
       "    arguments.\n",
       "\n",
       "    .. deprecated:: 2.0.0\n",
       "       Use ``date_format`` instead, or read in as ``object`` and then apply\n",
       "       :func:`~pandas.to_datetime` as-needed.\n",
       "date_format : str or dict of column -> format, optional\n",
       "    Format to use for parsing dates when used in conjunction with ``parse_dates``.\n",
       "    The strftime to parse time, e.g. :const:`\"%d/%m/%Y\"`. See\n",
       "    `strftime documentation\n",
       "    <https://docs.python.org/3/library/datetime.html\n",
       "    #strftime-and-strptime-behavior>`_ for more information on choices, though\n",
       "    note that :const:`\"%f\"` will parse all the way up to nanoseconds.\n",
       "    You can also pass:\n",
       "\n",
       "    - \"ISO8601\", to parse any `ISO8601 <https://en.wikipedia.org/wiki/ISO_8601>`_\n",
       "        time string (not necessarily in exactly the same format);\n",
       "    - \"mixed\", to infer the format for each element individually. This is risky,\n",
       "        and you should probably use it along with `dayfirst`.\n",
       "\n",
       "    .. versionadded:: 2.0.0\n",
       "dayfirst : bool, default False\n",
       "    DD/MM format dates, international and European format.\n",
       "cache_dates : bool, default True\n",
       "    If ``True``, use a cache of unique, converted dates to apply the ``datetime``\n",
       "    conversion. May produce significant speed-up when parsing duplicate\n",
       "    date strings, especially ones with timezone offsets.\n",
       "\n",
       "iterator : bool, default False\n",
       "    Return ``TextFileReader`` object for iteration or getting chunks with\n",
       "    ``get_chunk()``.\n",
       "chunksize : int, optional\n",
       "    Number of lines to read from the file per chunk. Passing a value will cause the\n",
       "    function to return a ``TextFileReader`` object for iteration.\n",
       "    See the `IO Tools docs\n",
       "    <https://pandas.pydata.org/pandas-docs/stable/io.html#io-chunking>`_\n",
       "    for more information on ``iterator`` and ``chunksize``.\n",
       "\n",
       "compression : str or dict, default 'infer'\n",
       "    For on-the-fly decompression of on-disk data. If 'infer' and 'filepath_or_buffer' is\n",
       "    path-like, then detect compression from the following extensions: '.gz',\n",
       "    '.bz2', '.zip', '.xz', '.zst', '.tar', '.tar.gz', '.tar.xz' or '.tar.bz2'\n",
       "    (otherwise no compression).\n",
       "    If using 'zip' or 'tar', the ZIP file must contain only one data file to be read in.\n",
       "    Set to ``None`` for no decompression.\n",
       "    Can also be a dict with key ``'method'`` set\n",
       "    to one of {``'zip'``, ``'gzip'``, ``'bz2'``, ``'zstd'``, ``'xz'``, ``'tar'``} and\n",
       "    other key-value pairs are forwarded to\n",
       "    ``zipfile.ZipFile``, ``gzip.GzipFile``,\n",
       "    ``bz2.BZ2File``, ``zstandard.ZstdDecompressor``, ``lzma.LZMAFile`` or\n",
       "    ``tarfile.TarFile``, respectively.\n",
       "    As an example, the following could be passed for Zstandard decompression using a\n",
       "    custom compression dictionary:\n",
       "    ``compression={'method': 'zstd', 'dict_data': my_compression_dict}``.\n",
       "\n",
       "    .. versionadded:: 1.5.0\n",
       "        Added support for `.tar` files.\n",
       "\n",
       "    .. versionchanged:: 1.4.0 Zstandard support.\n",
       "\n",
       "thousands : str (length 1), optional\n",
       "    Character acting as the thousands separator in numerical values.\n",
       "decimal : str (length 1), default '.'\n",
       "    Character to recognize as decimal point (e.g., use ',' for European data).\n",
       "lineterminator : str (length 1), optional\n",
       "    Character used to denote a line break. Only valid with C parser.\n",
       "quotechar : str (length 1), optional\n",
       "    Character used to denote the start and end of a quoted item. Quoted\n",
       "    items can include the ``delimiter`` and it will be ignored.\n",
       "quoting : {0 or csv.QUOTE_MINIMAL, 1 or csv.QUOTE_ALL, 2 or csv.QUOTE_NONNUMERIC, 3 or csv.QUOTE_NONE}, default csv.QUOTE_MINIMAL\n",
       "    Control field quoting behavior per ``csv.QUOTE_*`` constants. Default is\n",
       "    ``csv.QUOTE_MINIMAL`` (i.e., 0) which implies that only fields containing special\n",
       "    characters are quoted (e.g., characters defined in ``quotechar``, ``delimiter``,\n",
       "    or ``lineterminator``.\n",
       "doublequote : bool, default True\n",
       "   When ``quotechar`` is specified and ``quoting`` is not ``QUOTE_NONE``, indicate\n",
       "   whether or not to interpret two consecutive ``quotechar`` elements INSIDE a\n",
       "   field as a single ``quotechar`` element.\n",
       "escapechar : str (length 1), optional\n",
       "    Character used to escape other characters.\n",
       "comment : str (length 1), optional\n",
       "    Character indicating that the remainder of line should not be parsed.\n",
       "    If found at the beginning\n",
       "    of a line, the line will be ignored altogether. This parameter must be a\n",
       "    single character. Like empty lines (as long as ``skip_blank_lines=True``),\n",
       "    fully commented lines are ignored by the parameter ``header`` but not by\n",
       "    ``skiprows``. For example, if ``comment='#'``, parsing\n",
       "    ``#empty\\na,b,c\\n1,2,3`` with ``header=0`` will result in ``'a,b,c'`` being\n",
       "    treated as the header.\n",
       "encoding : str, optional, default 'utf-8'\n",
       "    Encoding to use for UTF when reading/writing (ex. ``'utf-8'``). `List of Python\n",
       "    standard encodings\n",
       "    <https://docs.python.org/3/library/codecs.html#standard-encodings>`_ .\n",
       "\n",
       "encoding_errors : str, optional, default 'strict'\n",
       "    How encoding errors are treated. `List of possible values\n",
       "    <https://docs.python.org/3/library/codecs.html#error-handlers>`_ .\n",
       "\n",
       "    .. versionadded:: 1.3.0\n",
       "\n",
       "dialect : str or csv.Dialect, optional\n",
       "    If provided, this parameter will override values (default or not) for the\n",
       "    following parameters: ``delimiter``, ``doublequote``, ``escapechar``,\n",
       "    ``skipinitialspace``, ``quotechar``, and ``quoting``. If it is necessary to\n",
       "    override values, a ``ParserWarning`` will be issued. See ``csv.Dialect``\n",
       "    documentation for more details.\n",
       "on_bad_lines : {'error', 'warn', 'skip'} or Callable, default 'error'\n",
       "    Specifies what to do upon encountering a bad line (a line with too many fields).\n",
       "    Allowed values are :\n",
       "\n",
       "    - ``'error'``, raise an Exception when a bad line is encountered.\n",
       "    - ``'warn'``, raise a warning when a bad line is encountered and skip that line.\n",
       "    - ``'skip'``, skip bad lines without raising or warning when they are encountered.\n",
       "\n",
       "    .. versionadded:: 1.3.0\n",
       "\n",
       "    .. versionadded:: 1.4.0\n",
       "\n",
       "        - Callable, function with signature\n",
       "          ``(bad_line: list[str]) -> list[str] | None`` that will process a single\n",
       "          bad line. ``bad_line`` is a list of strings split by the ``sep``.\n",
       "          If the function returns ``None``, the bad line will be ignored.\n",
       "          If the function returns a new ``list`` of strings with more elements than\n",
       "          expected, a ``ParserWarning`` will be emitted while dropping extra elements.\n",
       "          Only supported when ``engine='python'``\n",
       "\n",
       "    .. versionchanged:: 2.2.0\n",
       "\n",
       "        - Callable, function with signature\n",
       "          as described in `pyarrow documentation\n",
       "          <https://arrow.apache.org/docs/python/generated/pyarrow.csv.ParseOptions.html\n",
       "          #pyarrow.csv.ParseOptions.invalid_row_handler>`_ when ``engine='pyarrow'``\n",
       "\n",
       "delim_whitespace : bool, default False\n",
       "    Specifies whether or not whitespace (e.g. ``' '`` or ``'\\t'``) will be\n",
       "    used as the ``sep`` delimiter. Equivalent to setting ``sep='\\s+'``. If this option\n",
       "    is set to ``True``, nothing should be passed in for the ``delimiter``\n",
       "    parameter.\n",
       "\n",
       "    .. deprecated:: 2.2.0\n",
       "        Use ``sep=\"\\s+\"`` instead.\n",
       "low_memory : bool, default True\n",
       "    Internally process the file in chunks, resulting in lower memory use\n",
       "    while parsing, but possibly mixed type inference.  To ensure no mixed\n",
       "    types either set ``False``, or specify the type with the ``dtype`` parameter.\n",
       "    Note that the entire file is read into a single :class:`~pandas.DataFrame`\n",
       "    regardless, use the ``chunksize`` or ``iterator`` parameter to return the data in\n",
       "    chunks. (Only valid with C parser).\n",
       "memory_map : bool, default False\n",
       "    If a filepath is provided for ``filepath_or_buffer``, map the file object\n",
       "    directly onto memory and access the data directly from there. Using this\n",
       "    option can improve performance because there is no longer any I/O overhead.\n",
       "float_precision : {'high', 'legacy', 'round_trip'}, optional\n",
       "    Specifies which converter the C engine should use for floating-point\n",
       "    values. The options are ``None`` or ``'high'`` for the ordinary converter,\n",
       "    ``'legacy'`` for the original lower precision pandas converter, and\n",
       "    ``'round_trip'`` for the round-trip converter.\n",
       "\n",
       "storage_options : dict, optional\n",
       "    Extra options that make sense for a particular storage connection, e.g.\n",
       "    host, port, username, password, etc. For HTTP(S) URLs the key-value pairs\n",
       "    are forwarded to ``urllib.request.Request`` as header options. For other\n",
       "    URLs (e.g. starting with \"s3://\", and \"gcs://\") the key-value pairs are\n",
       "    forwarded to ``fsspec.open``. Please see ``fsspec`` and ``urllib`` for more\n",
       "    details, and for more examples on storage options refer `here\n",
       "    <https://pandas.pydata.org/docs/user_guide/io.html?\n",
       "    highlight=storage_options#reading-writing-remote-files>`_.\n",
       "\n",
       "dtype_backend : {'numpy_nullable', 'pyarrow'}, default 'numpy_nullable'\n",
       "    Back-end data type applied to the resultant :class:`DataFrame`\n",
       "    (still experimental). Behaviour is as follows:\n",
       "\n",
       "    * ``\"numpy_nullable\"``: returns nullable-dtype-backed :class:`DataFrame`\n",
       "      (default).\n",
       "    * ``\"pyarrow\"``: returns pyarrow-backed nullable :class:`ArrowDtype`\n",
       "      DataFrame.\n",
       "\n",
       "    .. versionadded:: 2.0\n",
       "\n",
       "Returns\n",
       "-------\n",
       "DataFrame or TextFileReader\n",
       "    A comma-separated values (csv) file is returned as two-dimensional\n",
       "    data structure with labeled axes.\n",
       "\n",
       "See Also\n",
       "--------\n",
       "DataFrame.to_csv : Write DataFrame to a comma-separated values (csv) file.\n",
       "read_table : Read general delimited file into DataFrame.\n",
       "read_fwf : Read a table of fixed-width formatted lines into DataFrame.\n",
       "\n",
       "Examples\n",
       "--------\n",
       ">>> pd.read_csv('data.csv')  # doctest: +SKIP\n",
       "\u001b[1;31mFile:\u001b[0m      c:\\users\\pyip\\miniconda3\\envs\\jupyter-env\\lib\\site-packages\\pandas\\io\\parsers\\readers.py\n",
       "\u001b[1;31mType:\u001b[0m      function"
      ]
     },
     "metadata": {},
     "output_type": "display_data"
    }
   ],
   "source": [
    "pd.read_csv?"
   ]
  },
  {
   "attachments": {},
   "cell_type": "markdown",
   "metadata": {},
   "source": [
    "The ```pd.read_csv``` function has a larger number of input parameters. Note that most of these are named input parameters and are therefore assigned to a default value which is consistent to the default behaviour of a csv file. When the file is in the expected format only the ```filepath_or_buffer``` needs to be specified and this is normally provided positionally:"
   ]
  },
  {
   "cell_type": "code",
   "execution_count": 77,
   "metadata": {},
   "outputs": [],
   "source": [
    "df = pd.read_csv('./files/Book1.csv')"
   ]
  },
  {
   "cell_type": "code",
   "execution_count": 76,
   "metadata": {},
   "outputs": [
    {
     "data": {
      "text/html": [
       "<div>\n",
       "<style scoped>\n",
       "    .dataframe tbody tr th:only-of-type {\n",
       "        vertical-align: middle;\n",
       "    }\n",
       "\n",
       "    .dataframe tbody tr th {\n",
       "        vertical-align: top;\n",
       "    }\n",
       "\n",
       "    .dataframe thead th {\n",
       "        text-align: right;\n",
       "    }\n",
       "</style>\n",
       "<table border=\"1\" class=\"dataframe\">\n",
       "  <thead>\n",
       "    <tr style=\"text-align: right;\">\n",
       "      <th></th>\n",
       "      <th>string</th>\n",
       "      <th>integer</th>\n",
       "      <th>boolean</th>\n",
       "      <th>floatingpoint</th>\n",
       "      <th>date</th>\n",
       "      <th>time</th>\n",
       "      <th>category</th>\n",
       "    </tr>\n",
       "  </thead>\n",
       "  <tbody>\n",
       "    <tr>\n",
       "      <th>0</th>\n",
       "      <td>the fat black cat</td>\n",
       "      <td>4</td>\n",
       "      <td>True</td>\n",
       "      <td>0.86</td>\n",
       "      <td>24/07/2023</td>\n",
       "      <td>11:36:00</td>\n",
       "      <td>A</td>\n",
       "    </tr>\n",
       "    <tr>\n",
       "      <th>1</th>\n",
       "      <td>sat on the mat</td>\n",
       "      <td>4</td>\n",
       "      <td>True</td>\n",
       "      <td>0.86</td>\n",
       "      <td>25/07/2023</td>\n",
       "      <td>12:36:00</td>\n",
       "      <td>A</td>\n",
       "    </tr>\n",
       "    <tr>\n",
       "      <th>2</th>\n",
       "      <td>twinkle, twinkle</td>\n",
       "      <td>2</td>\n",
       "      <td>True</td>\n",
       "      <td>-1.14</td>\n",
       "      <td>26/07/2023</td>\n",
       "      <td>13:36:00</td>\n",
       "      <td>B</td>\n",
       "    </tr>\n",
       "    <tr>\n",
       "      <th>3</th>\n",
       "      <td>little star</td>\n",
       "      <td>2</td>\n",
       "      <td>True</td>\n",
       "      <td>-1.14</td>\n",
       "      <td>27/07/2023</td>\n",
       "      <td>14:36:00</td>\n",
       "      <td>B</td>\n",
       "    </tr>\n",
       "    <tr>\n",
       "      <th>4</th>\n",
       "      <td>how I wonder</td>\n",
       "      <td>3</td>\n",
       "      <td>False</td>\n",
       "      <td>-0.14</td>\n",
       "      <td>28/07/2023</td>\n",
       "      <td>15:36:00</td>\n",
       "      <td>B</td>\n",
       "    </tr>\n",
       "    <tr>\n",
       "      <th>5</th>\n",
       "      <td>what you are</td>\n",
       "      <td>4</td>\n",
       "      <td>True</td>\n",
       "      <td>0.86</td>\n",
       "      <td>29/07/2023</td>\n",
       "      <td>16:36:00</td>\n",
       "      <td>B</td>\n",
       "    </tr>\n",
       "  </tbody>\n",
       "</table>\n",
       "</div>"
      ],
      "text/plain": [
       "              string  integer  boolean  floatingpoint        date      time  \\\n",
       "0  the fat black cat        4     True           0.86  24/07/2023  11:36:00   \n",
       "1     sat on the mat        4     True           0.86  25/07/2023  12:36:00   \n",
       "2   twinkle, twinkle        2     True          -1.14  26/07/2023  13:36:00   \n",
       "3        little star        2     True          -1.14  27/07/2023  14:36:00   \n",
       "4       how I wonder        3    False          -0.14  28/07/2023  15:36:00   \n",
       "5       what you are        4     True           0.86  29/07/2023  16:36:00   \n",
       "\n",
       "  category  \n",
       "0        A  \n",
       "1        A  \n",
       "2        B  \n",
       "3        B  \n",
       "4        B  \n",
       "5        B  "
      ]
     },
     "execution_count": 76,
     "metadata": {},
     "output_type": "execute_result"
    }
   ],
   "source": [
    "df"
   ]
  },
  {
   "attachments": {},
   "cell_type": "markdown",
   "metadata": {},
   "source": [
    "Notice the ```Series``` names in the file are in the expected format and taken from the first line. A csv does not have an index by default and so a ```RangeIndex``` has automatically been generated."
   ]
  },
  {
   "cell_type": "code",
   "execution_count": 78,
   "metadata": {},
   "outputs": [
    {
     "data": {
      "text/plain": [
       "[RangeIndex(start=0, stop=6, step=1),\n",
       " Index(['string', 'integer', 'bool', 'float', 'date', 'time', 'category'], dtype='object')]"
      ]
     },
     "execution_count": 78,
     "metadata": {},
     "output_type": "execute_result"
    }
   ],
   "source": [
    "df.axes"
   ]
  },
  {
   "attachments": {},
   "cell_type": "markdown",
   "metadata": {},
   "source": [
    "### Tab Delimited Text File"
   ]
  },
  {
   "attachments": {},
   "cell_type": "markdown",
   "metadata": {},
   "source": [
    "A text file, has the file extension txt and is very similar to a csv file but uses ```\\t``` instead of ```,``` as a delimiter:"
   ]
  },
  {
   "cell_type": "markdown",
   "metadata": {},
   "source": [
    "```powershell\n",
    "string\\tinteger\\tbool\\tfloat\\tdate\\ttime\\tcategory\\n\n",
    "the fat black cat\\t4\\tTRUE\\t0.86\\t24/07/2023\\t11:36:00\\tA\\n\n",
    "sat on the mat\\t4\\tTRUE\\t0.86\\t25/07/2023\\t12:36:00\\tA\\n\n",
    "\"twinkle, twinkle\"\\t2\\tTRUE\\t-1.14\\t26/07/2023\\t13:36:00\\tB\\n\n",
    "little star\\t2\\tTRUE\\t-1.14\\t27/07/2023\\t14:36:00\\tB\\n\n",
    "how I wonder\\t3\\tFALSE\\t-0.14\\t28/07/2023\\t15:36:00\\tB\\n\n",
    "what you are\\t4\\tTRUE\\t0.86\\t29/07/2023\\t16:36:00\\tB\\n\n",
    "```"
   ]
  },
  {
   "cell_type": "code",
   "execution_count": 79,
   "metadata": {},
   "outputs": [
    {
     "name": "stdout",
     "output_type": "stream",
     "text": [
      "Overwriting ./files/Book2.txt\n"
     ]
    }
   ],
   "source": [
    "%%writefile ./files/Book2.txt\n",
    "string\tinteger\tboolean\tfloatingpoint\tdate\ttime\tcategory\n",
    "the fat black cat\t4\tTRUE\t0.86\t24/07/2023\t11:36:00\tA\n",
    "sat on the mat\t4\tTRUE\t0.86\t25/07/2023\t12:36:00\tA\n",
    "\"twinkle, twinkle\"\t2\tTRUE\t-1.14\t26/07/2023\t13:36:00\tB\n",
    "little star\t2\tTRUE\t-1.14\t27/07/2023\t14:36:00\tB\n",
    "how I wonder\t3\tFALSE\t-0.14\t28/07/2023\t15:36:00\tB\n",
    "what you are\t4\tTRUE\t0.86\t29/07/2023\t16:36:00\tB"
   ]
  },
  {
   "attachments": {},
   "cell_type": "markdown",
   "metadata": {},
   "source": [
    "The same ```pd.read_csv``` function is used to read in a txt file. However this function by default looks for a ```,``` as a delimiter to move onto the next column and as it is not present, the data is all shown in a single column:"
   ]
  },
  {
   "cell_type": "code",
   "execution_count": 80,
   "metadata": {},
   "outputs": [],
   "source": [
    "df = pd.read_csv(r'.\\files\\Book2.txt')"
   ]
  },
  {
   "cell_type": "code",
   "execution_count": 81,
   "metadata": {},
   "outputs": [
    {
     "data": {
      "text/html": [
       "<div>\n",
       "<style scoped>\n",
       "    .dataframe tbody tr th:only-of-type {\n",
       "        vertical-align: middle;\n",
       "    }\n",
       "\n",
       "    .dataframe tbody tr th {\n",
       "        vertical-align: top;\n",
       "    }\n",
       "\n",
       "    .dataframe thead th {\n",
       "        text-align: right;\n",
       "    }\n",
       "</style>\n",
       "<table border=\"1\" class=\"dataframe\">\n",
       "  <thead>\n",
       "    <tr style=\"text-align: right;\">\n",
       "      <th></th>\n",
       "      <th>string\\tinteger\\tboolean\\tfloatingpoint\\tdate\\ttime\\tcategory</th>\n",
       "    </tr>\n",
       "  </thead>\n",
       "  <tbody>\n",
       "    <tr>\n",
       "      <th>0</th>\n",
       "      <td>the fat black cat\\t4\\tTRUE\\t0.86\\t24/07/2023\\t11:36:00\\tA</td>\n",
       "    </tr>\n",
       "    <tr>\n",
       "      <th>1</th>\n",
       "      <td>sat on the mat\\t4\\tTRUE\\t0.86\\t25/07/2023\\t12:36:00\\tA</td>\n",
       "    </tr>\n",
       "    <tr>\n",
       "      <th>2</th>\n",
       "      <td>twinkle, twinkle\\t2\\tTRUE\\t-1.14\\t26/07/2023\\t13:36:00\\tB</td>\n",
       "    </tr>\n",
       "    <tr>\n",
       "      <th>3</th>\n",
       "      <td>little star\\t2\\tTRUE\\t-1.14\\t27/07/2023\\t14:36:00\\tB</td>\n",
       "    </tr>\n",
       "    <tr>\n",
       "      <th>4</th>\n",
       "      <td>how I wonder\\t3\\tFALSE\\t-0.14\\t28/07/2023\\t15:36:00\\tB</td>\n",
       "    </tr>\n",
       "    <tr>\n",
       "      <th>5</th>\n",
       "      <td>what you are\\t4\\tTRUE\\t0.86\\t29/07/2023\\t16:36:00\\tB</td>\n",
       "    </tr>\n",
       "  </tbody>\n",
       "</table>\n",
       "</div>"
      ],
      "text/plain": [
       "  string\\tinteger\\tboolean\\tfloatingpoint\\tdate\\ttime\\tcategory\n",
       "0     the fat black cat\\t4\\tTRUE\\t0.86\\t24/07/2023\\t11:36:00\\tA\n",
       "1        sat on the mat\\t4\\tTRUE\\t0.86\\t25/07/2023\\t12:36:00\\tA\n",
       "2     twinkle, twinkle\\t2\\tTRUE\\t-1.14\\t26/07/2023\\t13:36:00\\tB\n",
       "3          little star\\t2\\tTRUE\\t-1.14\\t27/07/2023\\t14:36:00\\tB\n",
       "4        how I wonder\\t3\\tFALSE\\t-0.14\\t28/07/2023\\t15:36:00\\tB\n",
       "5          what you are\\t4\\tTRUE\\t0.86\\t29/07/2023\\t16:36:00\\tB"
      ]
     },
     "execution_count": 81,
     "metadata": {},
     "output_type": "execute_result"
    }
   ],
   "source": [
    "df"
   ]
  },
  {
   "attachments": {},
   "cell_type": "markdown",
   "metadata": {},
   "source": [
    "If the delimiter is specified as ```'\\t'``` the data will instead be read in properly:"
   ]
  },
  {
   "cell_type": "code",
   "execution_count": 139,
   "metadata": {},
   "outputs": [],
   "source": [
    "df = pd.read_csv(r'.\\files\\Book2.txt', delimiter='\\t')"
   ]
  },
  {
   "cell_type": "code",
   "execution_count": 142,
   "metadata": {},
   "outputs": [
    {
     "data": {
      "text/html": [
       "<div>\n",
       "<style scoped>\n",
       "    .dataframe tbody tr th:only-of-type {\n",
       "        vertical-align: middle;\n",
       "    }\n",
       "\n",
       "    .dataframe tbody tr th {\n",
       "        vertical-align: top;\n",
       "    }\n",
       "\n",
       "    .dataframe thead th {\n",
       "        text-align: right;\n",
       "    }\n",
       "</style>\n",
       "<table border=\"1\" class=\"dataframe\">\n",
       "  <thead>\n",
       "    <tr style=\"text-align: right;\">\n",
       "      <th></th>\n",
       "      <th>string</th>\n",
       "      <th>integer</th>\n",
       "      <th>boolean</th>\n",
       "      <th>floatingpoint</th>\n",
       "      <th>date</th>\n",
       "      <th>time</th>\n",
       "      <th>category</th>\n",
       "    </tr>\n",
       "  </thead>\n",
       "  <tbody>\n",
       "    <tr>\n",
       "      <th>0</th>\n",
       "      <td>the fat black cat</td>\n",
       "      <td>4</td>\n",
       "      <td>True</td>\n",
       "      <td>0.86</td>\n",
       "      <td>24/07/2023</td>\n",
       "      <td>11:36:00</td>\n",
       "      <td>A</td>\n",
       "    </tr>\n",
       "    <tr>\n",
       "      <th>1</th>\n",
       "      <td>sat on the mat</td>\n",
       "      <td>4</td>\n",
       "      <td>True</td>\n",
       "      <td>0.86</td>\n",
       "      <td>25/07/2023</td>\n",
       "      <td>12:36:00</td>\n",
       "      <td>A</td>\n",
       "    </tr>\n",
       "    <tr>\n",
       "      <th>2</th>\n",
       "      <td>twinkle, twinkle</td>\n",
       "      <td>2</td>\n",
       "      <td>True</td>\n",
       "      <td>-1.14</td>\n",
       "      <td>26/07/2023</td>\n",
       "      <td>13:36:00</td>\n",
       "      <td>B</td>\n",
       "    </tr>\n",
       "    <tr>\n",
       "      <th>3</th>\n",
       "      <td>little star</td>\n",
       "      <td>2</td>\n",
       "      <td>True</td>\n",
       "      <td>-1.14</td>\n",
       "      <td>27/07/2023</td>\n",
       "      <td>14:36:00</td>\n",
       "      <td>B</td>\n",
       "    </tr>\n",
       "    <tr>\n",
       "      <th>4</th>\n",
       "      <td>how I wonder</td>\n",
       "      <td>3</td>\n",
       "      <td>False</td>\n",
       "      <td>-0.14</td>\n",
       "      <td>28/07/2023</td>\n",
       "      <td>15:36:00</td>\n",
       "      <td>B</td>\n",
       "    </tr>\n",
       "    <tr>\n",
       "      <th>5</th>\n",
       "      <td>what you are</td>\n",
       "      <td>4</td>\n",
       "      <td>True</td>\n",
       "      <td>0.86</td>\n",
       "      <td>29/07/2023</td>\n",
       "      <td>16:36:00</td>\n",
       "      <td>B</td>\n",
       "    </tr>\n",
       "  </tbody>\n",
       "</table>\n",
       "</div>"
      ],
      "text/plain": [
       "              string  integer  boolean  floatingpoint        date      time  \\\n",
       "0  the fat black cat        4     True           0.86  24/07/2023  11:36:00   \n",
       "1     sat on the mat        4     True           0.86  25/07/2023  12:36:00   \n",
       "2   twinkle, twinkle        2     True          -1.14  26/07/2023  13:36:00   \n",
       "3        little star        2     True          -1.14  27/07/2023  14:36:00   \n",
       "4       how I wonder        3    False          -0.14  28/07/2023  15:36:00   \n",
       "5       what you are        4     True           0.86  29/07/2023  16:36:00   \n",
       "\n",
       "  category  \n",
       "0        A  \n",
       "1        A  \n",
       "2        B  \n",
       "3        B  \n",
       "4        B  \n",
       "5        B  "
      ]
     },
     "execution_count": 142,
     "metadata": {},
     "output_type": "execute_result"
    }
   ],
   "source": [
    "df"
   ]
  },
  {
   "cell_type": "markdown",
   "metadata": {},
   "source": [
    "### JavaScript Object Notation"
   ]
  },
  {
   "cell_type": "markdown",
   "metadata": {},
   "source": [
    "If the data is in the form of a JSON ```str``` instance:"
   ]
  },
  {
   "cell_type": "code",
   "execution_count": 144,
   "metadata": {},
   "outputs": [],
   "source": [
    "json_string = '{\"string\":{\"0\":\"the fat black cat\",\"1\":\"sat on the mat\",\"2\":\"twinkle, twinkle\",\"3\":\"little star\",\"4\":\"how I wonder\",\"5\":\"what you are\"},\"integer\":{\"0\":4,\"1\":4,\"2\":2,\"3\":2,\"4\":3,\"5\":4},\"boolean\":{\"0\":true,\"1\":true,\"2\":true,\"3\":true,\"4\":false,\"5\":true},\"floatingpoint\":{\"0\":0.86,\"1\":0.86,\"2\":-1.14,\"3\":-1.14,\"4\":-0.14,\"5\":0.86},\"date\":{\"0\":\"24\\\\/07\\\\/2023\",\"1\":\"25\\\\/07\\\\/2023\",\"2\":\"26\\\\/07\\\\/2023\",\"3\":\"27\\\\/07\\\\/2023\",\"4\":\"28\\\\/07\\\\/2023\",\"5\":\"29\\\\/07\\\\/2023\"},\"time\":{\"0\":\"11:36:00\",\"1\":\"12:36:00\",\"2\":\"13:36:00\",\"3\":\"14:36:00\",\"4\":\"15:36:00\",\"5\":\"16:36:00\"},\"category\":{\"0\":\"A\",\"1\":\"A\",\"2\":\"B\",\"3\":\"B\",\"4\":\"B\",\"5\":\"B\"}}'"
   ]
  },
  {
   "cell_type": "markdown",
   "metadata": {},
   "source": [
    "It can be cast into a ```StringIO``` instance:"
   ]
  },
  {
   "cell_type": "code",
   "execution_count": 147,
   "metadata": {},
   "outputs": [],
   "source": [
    "import io"
   ]
  },
  {
   "cell_type": "code",
   "execution_count": 149,
   "metadata": {},
   "outputs": [
    {
     "data": {
      "text/plain": [
       "<_io.StringIO at 0x221d995bb80>"
      ]
     },
     "execution_count": 149,
     "metadata": {},
     "output_type": "execute_result"
    }
   ],
   "source": [
    "io.StringIO(json_string)"
   ]
  },
  {
   "cell_type": "markdown",
   "metadata": {},
   "source": [
    "And then read in using the ```pd.read_json``` function:"
   ]
  },
  {
   "cell_type": "code",
   "execution_count": 148,
   "metadata": {},
   "outputs": [
    {
     "data": {
      "text/html": [
       "<div>\n",
       "<style scoped>\n",
       "    .dataframe tbody tr th:only-of-type {\n",
       "        vertical-align: middle;\n",
       "    }\n",
       "\n",
       "    .dataframe tbody tr th {\n",
       "        vertical-align: top;\n",
       "    }\n",
       "\n",
       "    .dataframe thead th {\n",
       "        text-align: right;\n",
       "    }\n",
       "</style>\n",
       "<table border=\"1\" class=\"dataframe\">\n",
       "  <thead>\n",
       "    <tr style=\"text-align: right;\">\n",
       "      <th></th>\n",
       "      <th>string</th>\n",
       "      <th>integer</th>\n",
       "      <th>boolean</th>\n",
       "      <th>floatingpoint</th>\n",
       "      <th>date</th>\n",
       "      <th>time</th>\n",
       "      <th>category</th>\n",
       "    </tr>\n",
       "  </thead>\n",
       "  <tbody>\n",
       "    <tr>\n",
       "      <th>0</th>\n",
       "      <td>the fat black cat</td>\n",
       "      <td>4</td>\n",
       "      <td>True</td>\n",
       "      <td>0.86</td>\n",
       "      <td>2023-07-24</td>\n",
       "      <td>11:36:00</td>\n",
       "      <td>A</td>\n",
       "    </tr>\n",
       "    <tr>\n",
       "      <th>1</th>\n",
       "      <td>sat on the mat</td>\n",
       "      <td>4</td>\n",
       "      <td>True</td>\n",
       "      <td>0.86</td>\n",
       "      <td>2023-07-25</td>\n",
       "      <td>12:36:00</td>\n",
       "      <td>A</td>\n",
       "    </tr>\n",
       "    <tr>\n",
       "      <th>2</th>\n",
       "      <td>twinkle, twinkle</td>\n",
       "      <td>2</td>\n",
       "      <td>True</td>\n",
       "      <td>-1.14</td>\n",
       "      <td>2023-07-26</td>\n",
       "      <td>13:36:00</td>\n",
       "      <td>B</td>\n",
       "    </tr>\n",
       "    <tr>\n",
       "      <th>3</th>\n",
       "      <td>little star</td>\n",
       "      <td>2</td>\n",
       "      <td>True</td>\n",
       "      <td>-1.14</td>\n",
       "      <td>2023-07-27</td>\n",
       "      <td>14:36:00</td>\n",
       "      <td>B</td>\n",
       "    </tr>\n",
       "    <tr>\n",
       "      <th>4</th>\n",
       "      <td>how I wonder</td>\n",
       "      <td>3</td>\n",
       "      <td>False</td>\n",
       "      <td>-0.14</td>\n",
       "      <td>2023-07-28</td>\n",
       "      <td>15:36:00</td>\n",
       "      <td>B</td>\n",
       "    </tr>\n",
       "    <tr>\n",
       "      <th>5</th>\n",
       "      <td>what you are</td>\n",
       "      <td>4</td>\n",
       "      <td>True</td>\n",
       "      <td>0.86</td>\n",
       "      <td>2023-07-29</td>\n",
       "      <td>16:36:00</td>\n",
       "      <td>B</td>\n",
       "    </tr>\n",
       "  </tbody>\n",
       "</table>\n",
       "</div>"
      ],
      "text/plain": [
       "              string  integer  boolean  floatingpoint       date      time  \\\n",
       "0  the fat black cat        4     True           0.86 2023-07-24  11:36:00   \n",
       "1     sat on the mat        4     True           0.86 2023-07-25  12:36:00   \n",
       "2   twinkle, twinkle        2     True          -1.14 2023-07-26  13:36:00   \n",
       "3        little star        2     True          -1.14 2023-07-27  14:36:00   \n",
       "4       how I wonder        3    False          -0.14 2023-07-28  15:36:00   \n",
       "5       what you are        4     True           0.86 2023-07-29  16:36:00   \n",
       "\n",
       "  category  \n",
       "0        A  \n",
       "1        A  \n",
       "2        B  \n",
       "3        B  \n",
       "4        B  \n",
       "5        B  "
      ]
     },
     "execution_count": 148,
     "metadata": {},
     "output_type": "execute_result"
    }
   ],
   "source": [
    "pd.read_json(io.StringIO(json_string))"
   ]
  },
  {
   "attachments": {},
   "cell_type": "markdown",
   "metadata": {},
   "source": [
    "### Microsoft Excel File"
   ]
  },
  {
   "attachments": {},
   "cell_type": "markdown",
   "metadata": {},
   "source": [
    "A Microsoft Excel File, file extensions .xlsx (or .xls for older files) is a collection of sheets. The data in each individual sheet is similar to an individual csv file, although obscured because Excel applies formatting options to the data:"
   ]
  },
  {
   "attachments": {},
   "cell_type": "markdown",
   "metadata": {},
   "source": [
    "<img src='./images/img_002.png' alt='img_002' width='800'/>"
   ]
  },
  {
   "attachments": {},
   "cell_type": "markdown",
   "metadata": {},
   "source": [
    "The related function ```read_excel``` is used to read in the data from an Excel File. The delimiter is predefined in an Excel File however the Excel File can have multiple sheets so the keyword input argument ```sheet_name``` is available, this defaults to the name ```'Sheet1'``` which is the default for an Excel Spreadsheet:"
   ]
  },
  {
   "cell_type": "code",
   "execution_count": 84,
   "metadata": {
    "scrolled": true
   },
   "outputs": [
    {
     "data": {
      "text/plain": [
       "\u001b[1;31mSignature:\u001b[0m\n",
       "\u001b[0mpd\u001b[0m\u001b[1;33m.\u001b[0m\u001b[0mread_excel\u001b[0m\u001b[1;33m(\u001b[0m\u001b[1;33m\n",
       "\u001b[0m    \u001b[0mio\u001b[0m\u001b[1;33m,\u001b[0m\u001b[1;33m\n",
       "\u001b[0m    \u001b[0msheet_name\u001b[0m\u001b[1;33m:\u001b[0m \u001b[1;34m'str | int | list[IntStrT] | None'\u001b[0m \u001b[1;33m=\u001b[0m \u001b[1;36m0\u001b[0m\u001b[1;33m,\u001b[0m\u001b[1;33m\n",
       "\u001b[0m    \u001b[1;33m*\u001b[0m\u001b[1;33m,\u001b[0m\u001b[1;33m\n",
       "\u001b[0m    \u001b[0mheader\u001b[0m\u001b[1;33m:\u001b[0m \u001b[1;34m'int | Sequence[int] | None'\u001b[0m \u001b[1;33m=\u001b[0m \u001b[1;36m0\u001b[0m\u001b[1;33m,\u001b[0m\u001b[1;33m\n",
       "\u001b[0m    \u001b[0mnames\u001b[0m\u001b[1;33m:\u001b[0m \u001b[1;34m'SequenceNotStr[Hashable] | range | None'\u001b[0m \u001b[1;33m=\u001b[0m \u001b[1;32mNone\u001b[0m\u001b[1;33m,\u001b[0m\u001b[1;33m\n",
       "\u001b[0m    \u001b[0mindex_col\u001b[0m\u001b[1;33m:\u001b[0m \u001b[1;34m'int | str | Sequence[int] | None'\u001b[0m \u001b[1;33m=\u001b[0m \u001b[1;32mNone\u001b[0m\u001b[1;33m,\u001b[0m\u001b[1;33m\n",
       "\u001b[0m    \u001b[0musecols\u001b[0m\u001b[1;33m:\u001b[0m \u001b[1;34m'int | str | Sequence[int] | Sequence[str] | Callable[[str], bool] | None'\u001b[0m \u001b[1;33m=\u001b[0m \u001b[1;32mNone\u001b[0m\u001b[1;33m,\u001b[0m\u001b[1;33m\n",
       "\u001b[0m    \u001b[0mdtype\u001b[0m\u001b[1;33m:\u001b[0m \u001b[1;34m'DtypeArg | None'\u001b[0m \u001b[1;33m=\u001b[0m \u001b[1;32mNone\u001b[0m\u001b[1;33m,\u001b[0m\u001b[1;33m\n",
       "\u001b[0m    \u001b[0mengine\u001b[0m\u001b[1;33m:\u001b[0m \u001b[1;34m\"Literal['xlrd', 'openpyxl', 'odf', 'pyxlsb', 'calamine'] | None\"\u001b[0m \u001b[1;33m=\u001b[0m \u001b[1;32mNone\u001b[0m\u001b[1;33m,\u001b[0m\u001b[1;33m\n",
       "\u001b[0m    \u001b[0mconverters\u001b[0m\u001b[1;33m:\u001b[0m \u001b[1;34m'dict[str, Callable] | dict[int, Callable] | None'\u001b[0m \u001b[1;33m=\u001b[0m \u001b[1;32mNone\u001b[0m\u001b[1;33m,\u001b[0m\u001b[1;33m\n",
       "\u001b[0m    \u001b[0mtrue_values\u001b[0m\u001b[1;33m:\u001b[0m \u001b[1;34m'Iterable[Hashable] | None'\u001b[0m \u001b[1;33m=\u001b[0m \u001b[1;32mNone\u001b[0m\u001b[1;33m,\u001b[0m\u001b[1;33m\n",
       "\u001b[0m    \u001b[0mfalse_values\u001b[0m\u001b[1;33m:\u001b[0m \u001b[1;34m'Iterable[Hashable] | None'\u001b[0m \u001b[1;33m=\u001b[0m \u001b[1;32mNone\u001b[0m\u001b[1;33m,\u001b[0m\u001b[1;33m\n",
       "\u001b[0m    \u001b[0mskiprows\u001b[0m\u001b[1;33m:\u001b[0m \u001b[1;34m'Sequence[int] | int | Callable[[int], object] | None'\u001b[0m \u001b[1;33m=\u001b[0m \u001b[1;32mNone\u001b[0m\u001b[1;33m,\u001b[0m\u001b[1;33m\n",
       "\u001b[0m    \u001b[0mnrows\u001b[0m\u001b[1;33m:\u001b[0m \u001b[1;34m'int | None'\u001b[0m \u001b[1;33m=\u001b[0m \u001b[1;32mNone\u001b[0m\u001b[1;33m,\u001b[0m\u001b[1;33m\n",
       "\u001b[0m    \u001b[0mna_values\u001b[0m\u001b[1;33m=\u001b[0m\u001b[1;32mNone\u001b[0m\u001b[1;33m,\u001b[0m\u001b[1;33m\n",
       "\u001b[0m    \u001b[0mkeep_default_na\u001b[0m\u001b[1;33m:\u001b[0m \u001b[1;34m'bool'\u001b[0m \u001b[1;33m=\u001b[0m \u001b[1;32mTrue\u001b[0m\u001b[1;33m,\u001b[0m\u001b[1;33m\n",
       "\u001b[0m    \u001b[0mna_filter\u001b[0m\u001b[1;33m:\u001b[0m \u001b[1;34m'bool'\u001b[0m \u001b[1;33m=\u001b[0m \u001b[1;32mTrue\u001b[0m\u001b[1;33m,\u001b[0m\u001b[1;33m\n",
       "\u001b[0m    \u001b[0mverbose\u001b[0m\u001b[1;33m:\u001b[0m \u001b[1;34m'bool'\u001b[0m \u001b[1;33m=\u001b[0m \u001b[1;32mFalse\u001b[0m\u001b[1;33m,\u001b[0m\u001b[1;33m\n",
       "\u001b[0m    \u001b[0mparse_dates\u001b[0m\u001b[1;33m:\u001b[0m \u001b[1;34m'list | dict | bool'\u001b[0m \u001b[1;33m=\u001b[0m \u001b[1;32mFalse\u001b[0m\u001b[1;33m,\u001b[0m\u001b[1;33m\n",
       "\u001b[0m    \u001b[0mdate_parser\u001b[0m\u001b[1;33m:\u001b[0m \u001b[1;34m'Callable | lib.NoDefault'\u001b[0m \u001b[1;33m=\u001b[0m \u001b[1;33m<\u001b[0m\u001b[0mno_default\u001b[0m\u001b[1;33m>\u001b[0m\u001b[1;33m,\u001b[0m\u001b[1;33m\n",
       "\u001b[0m    \u001b[0mdate_format\u001b[0m\u001b[1;33m:\u001b[0m \u001b[1;34m'dict[Hashable, str] | str | None'\u001b[0m \u001b[1;33m=\u001b[0m \u001b[1;32mNone\u001b[0m\u001b[1;33m,\u001b[0m\u001b[1;33m\n",
       "\u001b[0m    \u001b[0mthousands\u001b[0m\u001b[1;33m:\u001b[0m \u001b[1;34m'str | None'\u001b[0m \u001b[1;33m=\u001b[0m \u001b[1;32mNone\u001b[0m\u001b[1;33m,\u001b[0m\u001b[1;33m\n",
       "\u001b[0m    \u001b[0mdecimal\u001b[0m\u001b[1;33m:\u001b[0m \u001b[1;34m'str'\u001b[0m \u001b[1;33m=\u001b[0m \u001b[1;34m'.'\u001b[0m\u001b[1;33m,\u001b[0m\u001b[1;33m\n",
       "\u001b[0m    \u001b[0mcomment\u001b[0m\u001b[1;33m:\u001b[0m \u001b[1;34m'str | None'\u001b[0m \u001b[1;33m=\u001b[0m \u001b[1;32mNone\u001b[0m\u001b[1;33m,\u001b[0m\u001b[1;33m\n",
       "\u001b[0m    \u001b[0mskipfooter\u001b[0m\u001b[1;33m:\u001b[0m \u001b[1;34m'int'\u001b[0m \u001b[1;33m=\u001b[0m \u001b[1;36m0\u001b[0m\u001b[1;33m,\u001b[0m\u001b[1;33m\n",
       "\u001b[0m    \u001b[0mstorage_options\u001b[0m\u001b[1;33m:\u001b[0m \u001b[1;34m'StorageOptions | None'\u001b[0m \u001b[1;33m=\u001b[0m \u001b[1;32mNone\u001b[0m\u001b[1;33m,\u001b[0m\u001b[1;33m\n",
       "\u001b[0m    \u001b[0mdtype_backend\u001b[0m\u001b[1;33m:\u001b[0m \u001b[1;34m'DtypeBackend | lib.NoDefault'\u001b[0m \u001b[1;33m=\u001b[0m \u001b[1;33m<\u001b[0m\u001b[0mno_default\u001b[0m\u001b[1;33m>\u001b[0m\u001b[1;33m,\u001b[0m\u001b[1;33m\n",
       "\u001b[0m    \u001b[0mengine_kwargs\u001b[0m\u001b[1;33m:\u001b[0m \u001b[1;34m'dict | None'\u001b[0m \u001b[1;33m=\u001b[0m \u001b[1;32mNone\u001b[0m\u001b[1;33m,\u001b[0m\u001b[1;33m\n",
       "\u001b[0m\u001b[1;33m)\u001b[0m \u001b[1;33m->\u001b[0m \u001b[1;34m'DataFrame | dict[IntStrT, DataFrame]'\u001b[0m\u001b[1;33m\u001b[0m\u001b[1;33m\u001b[0m\u001b[0m\n",
       "\u001b[1;31mDocstring:\u001b[0m\n",
       "Read an Excel file into a ``pandas`` ``DataFrame``.\n",
       "\n",
       "Supports `xls`, `xlsx`, `xlsm`, `xlsb`, `odf`, `ods` and `odt` file extensions\n",
       "read from a local filesystem or URL. Supports an option to read\n",
       "a single sheet or a list of sheets.\n",
       "\n",
       "Parameters\n",
       "----------\n",
       "io : str, bytes, ExcelFile, xlrd.Book, path object, or file-like object\n",
       "    Any valid string path is acceptable. The string could be a URL. Valid\n",
       "    URL schemes include http, ftp, s3, and file. For file URLs, a host is\n",
       "    expected. A local file could be: ``file://localhost/path/to/table.xlsx``.\n",
       "\n",
       "    If you want to pass in a path object, pandas accepts any ``os.PathLike``.\n",
       "\n",
       "    By file-like object, we refer to objects with a ``read()`` method,\n",
       "    such as a file handle (e.g. via builtin ``open`` function)\n",
       "    or ``StringIO``.\n",
       "\n",
       "    .. deprecated:: 2.1.0\n",
       "        Passing byte strings is deprecated. To read from a\n",
       "        byte string, wrap it in a ``BytesIO`` object.\n",
       "sheet_name : str, int, list, or None, default 0\n",
       "    Strings are used for sheet names. Integers are used in zero-indexed\n",
       "    sheet positions (chart sheets do not count as a sheet position).\n",
       "    Lists of strings/integers are used to request multiple sheets.\n",
       "    Specify ``None`` to get all worksheets.\n",
       "\n",
       "    Available cases:\n",
       "\n",
       "    * Defaults to ``0``: 1st sheet as a `DataFrame`\n",
       "    * ``1``: 2nd sheet as a `DataFrame`\n",
       "    * ``\"Sheet1\"``: Load sheet with name \"Sheet1\"\n",
       "    * ``[0, 1, \"Sheet5\"]``: Load first, second and sheet named \"Sheet5\"\n",
       "      as a dict of `DataFrame`\n",
       "    * ``None``: All worksheets.\n",
       "\n",
       "header : int, list of int, default 0\n",
       "    Row (0-indexed) to use for the column labels of the parsed\n",
       "    DataFrame. If a list of integers is passed those row positions will\n",
       "    be combined into a ``MultiIndex``. Use None if there is no header.\n",
       "names : array-like, default None\n",
       "    List of column names to use. If file contains no header row,\n",
       "    then you should explicitly pass header=None.\n",
       "index_col : int, str, list of int, default None\n",
       "    Column (0-indexed) to use as the row labels of the DataFrame.\n",
       "    Pass None if there is no such column.  If a list is passed,\n",
       "    those columns will be combined into a ``MultiIndex``.  If a\n",
       "    subset of data is selected with ``usecols``, index_col\n",
       "    is based on the subset.\n",
       "\n",
       "    Missing values will be forward filled to allow roundtripping with\n",
       "    ``to_excel`` for ``merged_cells=True``. To avoid forward filling the\n",
       "    missing values use ``set_index`` after reading the data instead of\n",
       "    ``index_col``.\n",
       "usecols : str, list-like, or callable, default None\n",
       "    * If None, then parse all columns.\n",
       "    * If str, then indicates comma separated list of Excel column letters\n",
       "      and column ranges (e.g. \"A:E\" or \"A,C,E:F\"). Ranges are inclusive of\n",
       "      both sides.\n",
       "    * If list of int, then indicates list of column numbers to be parsed\n",
       "      (0-indexed).\n",
       "    * If list of string, then indicates list of column names to be parsed.\n",
       "    * If callable, then evaluate each column name against it and parse the\n",
       "      column if the callable returns ``True``.\n",
       "\n",
       "    Returns a subset of the columns according to behavior above.\n",
       "dtype : Type name or dict of column -> type, default None\n",
       "    Data type for data or columns. E.g. {'a': np.float64, 'b': np.int32}\n",
       "    Use ``object`` to preserve data as stored in Excel and not interpret dtype,\n",
       "    which will necessarily result in ``object`` dtype.\n",
       "    If converters are specified, they will be applied INSTEAD\n",
       "    of dtype conversion.\n",
       "    If you use ``None``, it will infer the dtype of each column based on the data.\n",
       "engine : {'openpyxl', 'calamine', 'odf', 'pyxlsb', 'xlrd'}, default None\n",
       "    If io is not a buffer or path, this must be set to identify io.\n",
       "    Engine compatibility :\n",
       "\n",
       "    - ``openpyxl`` supports newer Excel file formats.\n",
       "    - ``calamine`` supports Excel (.xls, .xlsx, .xlsm, .xlsb)\n",
       "      and OpenDocument (.ods) file formats.\n",
       "    - ``odf`` supports OpenDocument file formats (.odf, .ods, .odt).\n",
       "    - ``pyxlsb`` supports Binary Excel files.\n",
       "    - ``xlrd`` supports old-style Excel files (.xls).\n",
       "\n",
       "    When ``engine=None``, the following logic will be used to determine the engine:\n",
       "\n",
       "    - If ``path_or_buffer`` is an OpenDocument format (.odf, .ods, .odt),\n",
       "      then `odf <https://pypi.org/project/odfpy/>`_ will be used.\n",
       "    - Otherwise if ``path_or_buffer`` is an xls format, ``xlrd`` will be used.\n",
       "    - Otherwise if ``path_or_buffer`` is in xlsb format, ``pyxlsb`` will be used.\n",
       "    - Otherwise ``openpyxl`` will be used.\n",
       "converters : dict, default None\n",
       "    Dict of functions for converting values in certain columns. Keys can\n",
       "    either be integers or column labels, values are functions that take one\n",
       "    input argument, the Excel cell content, and return the transformed\n",
       "    content.\n",
       "true_values : list, default None\n",
       "    Values to consider as True.\n",
       "false_values : list, default None\n",
       "    Values to consider as False.\n",
       "skiprows : list-like, int, or callable, optional\n",
       "    Line numbers to skip (0-indexed) or number of lines to skip (int) at the\n",
       "    start of the file. If callable, the callable function will be evaluated\n",
       "    against the row indices, returning True if the row should be skipped and\n",
       "    False otherwise. An example of a valid callable argument would be ``lambda\n",
       "    x: x in [0, 2]``.\n",
       "nrows : int, default None\n",
       "    Number of rows to parse.\n",
       "na_values : scalar, str, list-like, or dict, default None\n",
       "    Additional strings to recognize as NA/NaN. If dict passed, specific\n",
       "    per-column NA values. By default the following values are interpreted\n",
       "    as NaN: '', '#N/A', '#N/A N/A', '#NA', '-1.#IND', '-1.#QNAN', '-NaN', '-nan',\n",
       "    '1.#IND', '1.#QNAN', '<NA>', 'N/A', 'NA', 'NULL', 'NaN', 'None',\n",
       "    'n/a', 'nan', 'null'.\n",
       "keep_default_na : bool, default True\n",
       "    Whether or not to include the default NaN values when parsing the data.\n",
       "    Depending on whether ``na_values`` is passed in, the behavior is as follows:\n",
       "\n",
       "    * If ``keep_default_na`` is True, and ``na_values`` are specified,\n",
       "      ``na_values`` is appended to the default NaN values used for parsing.\n",
       "    * If ``keep_default_na`` is True, and ``na_values`` are not specified, only\n",
       "      the default NaN values are used for parsing.\n",
       "    * If ``keep_default_na`` is False, and ``na_values`` are specified, only\n",
       "      the NaN values specified ``na_values`` are used for parsing.\n",
       "    * If ``keep_default_na`` is False, and ``na_values`` are not specified, no\n",
       "      strings will be parsed as NaN.\n",
       "\n",
       "    Note that if `na_filter` is passed in as False, the ``keep_default_na`` and\n",
       "    ``na_values`` parameters will be ignored.\n",
       "na_filter : bool, default True\n",
       "    Detect missing value markers (empty strings and the value of na_values). In\n",
       "    data without any NAs, passing ``na_filter=False`` can improve the\n",
       "    performance of reading a large file.\n",
       "verbose : bool, default False\n",
       "    Indicate number of NA values placed in non-numeric columns.\n",
       "parse_dates : bool, list-like, or dict, default False\n",
       "    The behavior is as follows:\n",
       "\n",
       "    * ``bool``. If True -> try parsing the index.\n",
       "    * ``list`` of int or names. e.g. If [1, 2, 3] -> try parsing columns 1, 2, 3\n",
       "      each as a separate date column.\n",
       "    * ``list`` of lists. e.g.  If [[1, 3]] -> combine columns 1 and 3 and parse as\n",
       "      a single date column.\n",
       "    * ``dict``, e.g. {'foo' : [1, 3]} -> parse columns 1, 3 as date and call\n",
       "      result 'foo'\n",
       "\n",
       "    If a column or index contains an unparsable date, the entire column or\n",
       "    index will be returned unaltered as an object data type. If you don`t want to\n",
       "    parse some cells as date just change their type in Excel to \"Text\".\n",
       "    For non-standard datetime parsing, use ``pd.to_datetime`` after ``pd.read_excel``.\n",
       "\n",
       "    Note: A fast-path exists for iso8601-formatted dates.\n",
       "date_parser : function, optional\n",
       "    Function to use for converting a sequence of string columns to an array of\n",
       "    datetime instances. The default uses ``dateutil.parser.parser`` to do the\n",
       "    conversion. Pandas will try to call `date_parser` in three different ways,\n",
       "    advancing to the next if an exception occurs: 1) Pass one or more arrays\n",
       "    (as defined by `parse_dates`) as arguments; 2) concatenate (row-wise) the\n",
       "    string values from the columns defined by `parse_dates` into a single array\n",
       "    and pass that; and 3) call `date_parser` once for each row using one or\n",
       "    more strings (corresponding to the columns defined by `parse_dates`) as\n",
       "    arguments.\n",
       "\n",
       "    .. deprecated:: 2.0.0\n",
       "       Use ``date_format`` instead, or read in as ``object`` and then apply\n",
       "       :func:`to_datetime` as-needed.\n",
       "date_format : str or dict of column -> format, default ``None``\n",
       "   If used in conjunction with ``parse_dates``, will parse dates according to this\n",
       "   format. For anything more complex,\n",
       "   please read in as ``object`` and then apply :func:`to_datetime` as-needed.\n",
       "\n",
       "   .. versionadded:: 2.0.0\n",
       "thousands : str, default None\n",
       "    Thousands separator for parsing string columns to numeric.  Note that\n",
       "    this parameter is only necessary for columns stored as TEXT in Excel,\n",
       "    any numeric columns will automatically be parsed, regardless of display\n",
       "    format.\n",
       "decimal : str, default '.'\n",
       "    Character to recognize as decimal point for parsing string columns to numeric.\n",
       "    Note that this parameter is only necessary for columns stored as TEXT in Excel,\n",
       "    any numeric columns will automatically be parsed, regardless of display\n",
       "    format.(e.g. use ',' for European data).\n",
       "\n",
       "    .. versionadded:: 1.4.0\n",
       "\n",
       "comment : str, default None\n",
       "    Comments out remainder of line. Pass a character or characters to this\n",
       "    argument to indicate comments in the input file. Any data between the\n",
       "    comment string and the end of the current line is ignored.\n",
       "skipfooter : int, default 0\n",
       "    Rows at the end to skip (0-indexed).\n",
       "storage_options : dict, optional\n",
       "    Extra options that make sense for a particular storage connection, e.g.\n",
       "    host, port, username, password, etc. For HTTP(S) URLs the key-value pairs\n",
       "    are forwarded to ``urllib.request.Request`` as header options. For other\n",
       "    URLs (e.g. starting with \"s3://\", and \"gcs://\") the key-value pairs are\n",
       "    forwarded to ``fsspec.open``. Please see ``fsspec`` and ``urllib`` for more\n",
       "    details, and for more examples on storage options refer `here\n",
       "    <https://pandas.pydata.org/docs/user_guide/io.html?\n",
       "    highlight=storage_options#reading-writing-remote-files>`_.\n",
       "\n",
       "dtype_backend : {'numpy_nullable', 'pyarrow'}, default 'numpy_nullable'\n",
       "    Back-end data type applied to the resultant :class:`DataFrame`\n",
       "    (still experimental). Behaviour is as follows:\n",
       "\n",
       "    * ``\"numpy_nullable\"``: returns nullable-dtype-backed :class:`DataFrame`\n",
       "      (default).\n",
       "    * ``\"pyarrow\"``: returns pyarrow-backed nullable :class:`ArrowDtype`\n",
       "      DataFrame.\n",
       "\n",
       "    .. versionadded:: 2.0\n",
       "\n",
       "engine_kwargs : dict, optional\n",
       "    Arbitrary keyword arguments passed to excel engine.\n",
       "\n",
       "Returns\n",
       "-------\n",
       "DataFrame or dict of DataFrames\n",
       "    DataFrame from the passed in Excel file. See notes in sheet_name\n",
       "    argument for more information on when a dict of DataFrames is returned.\n",
       "\n",
       "See Also\n",
       "--------\n",
       "DataFrame.to_excel : Write DataFrame to an Excel file.\n",
       "DataFrame.to_csv : Write DataFrame to a comma-separated values (csv) file.\n",
       "read_csv : Read a comma-separated values (csv) file into DataFrame.\n",
       "read_fwf : Read a table of fixed-width formatted lines into DataFrame.\n",
       "\n",
       "Notes\n",
       "-----\n",
       "For specific information on the methods used for each Excel engine, refer to the pandas\n",
       ":ref:`user guide <io.excel_reader>`\n",
       "\n",
       "Examples\n",
       "--------\n",
       "The file can be read using the file name as string or an open file object:\n",
       "\n",
       ">>> pd.read_excel('tmp.xlsx', index_col=0)  # doctest: +SKIP\n",
       "       Name  Value\n",
       "0   string1      1\n",
       "1   string2      2\n",
       "2  #Comment      3\n",
       "\n",
       ">>> pd.read_excel(open('tmp.xlsx', 'rb'),\n",
       "...               sheet_name='Sheet3')  # doctest: +SKIP\n",
       "   Unnamed: 0      Name  Value\n",
       "0           0   string1      1\n",
       "1           1   string2      2\n",
       "2           2  #Comment      3\n",
       "\n",
       "Index and header can be specified via the `index_col` and `header` arguments\n",
       "\n",
       ">>> pd.read_excel('tmp.xlsx', index_col=None, header=None)  # doctest: +SKIP\n",
       "     0         1      2\n",
       "0  NaN      Name  Value\n",
       "1  0.0   string1      1\n",
       "2  1.0   string2      2\n",
       "3  2.0  #Comment      3\n",
       "\n",
       "Column types are inferred but can be explicitly specified\n",
       "\n",
       ">>> pd.read_excel('tmp.xlsx', index_col=0,\n",
       "...               dtype={'Name': str, 'Value': float})  # doctest: +SKIP\n",
       "       Name  Value\n",
       "0   string1    1.0\n",
       "1   string2    2.0\n",
       "2  #Comment    3.0\n",
       "\n",
       "True, False, and NA values, and thousands separators have defaults,\n",
       "but can be explicitly specified, too. Supply the values you would like\n",
       "as strings or lists of strings!\n",
       "\n",
       ">>> pd.read_excel('tmp.xlsx', index_col=0,\n",
       "...               na_values=['string1', 'string2'])  # doctest: +SKIP\n",
       "       Name  Value\n",
       "0       NaN      1\n",
       "1       NaN      2\n",
       "2  #Comment      3\n",
       "\n",
       "Comment lines in the excel input file can be skipped using the\n",
       "``comment`` kwarg.\n",
       "\n",
       ">>> pd.read_excel('tmp.xlsx', index_col=0, comment='#')  # doctest: +SKIP\n",
       "      Name  Value\n",
       "0  string1    1.0\n",
       "1  string2    2.0\n",
       "2     None    NaN\n",
       "\u001b[1;31mFile:\u001b[0m      c:\\users\\pyip\\miniconda3\\envs\\jupyter-env\\lib\\site-packages\\pandas\\io\\excel\\_base.py\n",
       "\u001b[1;31mType:\u001b[0m      function"
      ]
     },
     "metadata": {},
     "output_type": "display_data"
    }
   ],
   "source": [
    "pd.read_excel?"
   ]
  },
  {
   "cell_type": "code",
   "execution_count": 85,
   "metadata": {},
   "outputs": [],
   "source": [
    "df = pd.read_excel('./files/Book3.xlsx', sheet_name='Sheet1')"
   ]
  },
  {
   "cell_type": "code",
   "execution_count": 86,
   "metadata": {},
   "outputs": [
    {
     "data": {
      "text/html": [
       "<div>\n",
       "<style scoped>\n",
       "    .dataframe tbody tr th:only-of-type {\n",
       "        vertical-align: middle;\n",
       "    }\n",
       "\n",
       "    .dataframe tbody tr th {\n",
       "        vertical-align: top;\n",
       "    }\n",
       "\n",
       "    .dataframe thead th {\n",
       "        text-align: right;\n",
       "    }\n",
       "</style>\n",
       "<table border=\"1\" class=\"dataframe\">\n",
       "  <thead>\n",
       "    <tr style=\"text-align: right;\">\n",
       "      <th></th>\n",
       "      <th>string</th>\n",
       "      <th>integer</th>\n",
       "      <th>boolean</th>\n",
       "      <th>floatingpoint</th>\n",
       "      <th>date</th>\n",
       "      <th>time</th>\n",
       "      <th>category</th>\n",
       "    </tr>\n",
       "  </thead>\n",
       "  <tbody>\n",
       "    <tr>\n",
       "      <th>0</th>\n",
       "      <td>the fat black cat</td>\n",
       "      <td>4</td>\n",
       "      <td>True</td>\n",
       "      <td>0.86</td>\n",
       "      <td>2023-07-24 11:30:00</td>\n",
       "      <td>11:36:00</td>\n",
       "      <td>A</td>\n",
       "    </tr>\n",
       "    <tr>\n",
       "      <th>1</th>\n",
       "      <td>sat on the mat</td>\n",
       "      <td>4</td>\n",
       "      <td>True</td>\n",
       "      <td>0.86</td>\n",
       "      <td>2023-07-25 00:00:00</td>\n",
       "      <td>12:36:00</td>\n",
       "      <td>A</td>\n",
       "    </tr>\n",
       "    <tr>\n",
       "      <th>2</th>\n",
       "      <td>twinkle, twinkle</td>\n",
       "      <td>2</td>\n",
       "      <td>True</td>\n",
       "      <td>-1.14</td>\n",
       "      <td>2023-07-26 00:00:00</td>\n",
       "      <td>13:36:00</td>\n",
       "      <td>B</td>\n",
       "    </tr>\n",
       "    <tr>\n",
       "      <th>3</th>\n",
       "      <td>little star</td>\n",
       "      <td>2</td>\n",
       "      <td>True</td>\n",
       "      <td>-1.14</td>\n",
       "      <td>2023-07-27 00:00:00</td>\n",
       "      <td>14:36:00</td>\n",
       "      <td>B</td>\n",
       "    </tr>\n",
       "    <tr>\n",
       "      <th>4</th>\n",
       "      <td>how I wonder</td>\n",
       "      <td>3</td>\n",
       "      <td>False</td>\n",
       "      <td>-0.14</td>\n",
       "      <td>2023-07-28 00:00:00</td>\n",
       "      <td>15:36:00</td>\n",
       "      <td>B</td>\n",
       "    </tr>\n",
       "    <tr>\n",
       "      <th>5</th>\n",
       "      <td>what you are</td>\n",
       "      <td>4</td>\n",
       "      <td>True</td>\n",
       "      <td>0.86</td>\n",
       "      <td>2023-07-29 00:00:00</td>\n",
       "      <td>16:36:00</td>\n",
       "      <td>B</td>\n",
       "    </tr>\n",
       "  </tbody>\n",
       "</table>\n",
       "</div>"
      ],
      "text/plain": [
       "              string  integer  boolean  floatingpoint                date  \\\n",
       "0  the fat black cat        4     True           0.86 2023-07-24 11:30:00   \n",
       "1     sat on the mat        4     True           0.86 2023-07-25 00:00:00   \n",
       "2   twinkle, twinkle        2     True          -1.14 2023-07-26 00:00:00   \n",
       "3        little star        2     True          -1.14 2023-07-27 00:00:00   \n",
       "4       how I wonder        3    False          -0.14 2023-07-28 00:00:00   \n",
       "5       what you are        4     True           0.86 2023-07-29 00:00:00   \n",
       "\n",
       "       time category  \n",
       "0  11:36:00        A  \n",
       "1  12:36:00        A  \n",
       "2  13:36:00        B  \n",
       "3  14:36:00        B  \n",
       "4  15:36:00        B  \n",
       "5  16:36:00        B  "
      ]
     },
     "execution_count": 86,
     "metadata": {},
     "output_type": "execute_result"
    }
   ],
   "source": [
    "df"
   ]
  },
  {
   "attachments": {},
   "cell_type": "markdown",
   "metadata": {},
   "source": [
    "Sheets in an Excel File are ordered and the ordering of the sheets is analogous to a ```RangeIndex``` (```'Sheet1'``` corresponds to an index of ```0``` because of zero-order indexing). This parameter is often supplied positionally:"
   ]
  },
  {
   "cell_type": "code",
   "execution_count": 87,
   "metadata": {},
   "outputs": [],
   "source": [
    "df = pd.read_excel('./files/Book3.xlsx', 0)"
   ]
  },
  {
   "cell_type": "code",
   "execution_count": 88,
   "metadata": {},
   "outputs": [
    {
     "data": {
      "text/html": [
       "<div>\n",
       "<style scoped>\n",
       "    .dataframe tbody tr th:only-of-type {\n",
       "        vertical-align: middle;\n",
       "    }\n",
       "\n",
       "    .dataframe tbody tr th {\n",
       "        vertical-align: top;\n",
       "    }\n",
       "\n",
       "    .dataframe thead th {\n",
       "        text-align: right;\n",
       "    }\n",
       "</style>\n",
       "<table border=\"1\" class=\"dataframe\">\n",
       "  <thead>\n",
       "    <tr style=\"text-align: right;\">\n",
       "      <th></th>\n",
       "      <th>string</th>\n",
       "      <th>integer</th>\n",
       "      <th>boolean</th>\n",
       "      <th>floatingpoint</th>\n",
       "      <th>date</th>\n",
       "      <th>time</th>\n",
       "      <th>category</th>\n",
       "    </tr>\n",
       "  </thead>\n",
       "  <tbody>\n",
       "    <tr>\n",
       "      <th>0</th>\n",
       "      <td>the fat black cat</td>\n",
       "      <td>4</td>\n",
       "      <td>True</td>\n",
       "      <td>0.86</td>\n",
       "      <td>2023-07-24 11:30:00</td>\n",
       "      <td>11:36:00</td>\n",
       "      <td>A</td>\n",
       "    </tr>\n",
       "    <tr>\n",
       "      <th>1</th>\n",
       "      <td>sat on the mat</td>\n",
       "      <td>4</td>\n",
       "      <td>True</td>\n",
       "      <td>0.86</td>\n",
       "      <td>2023-07-25 00:00:00</td>\n",
       "      <td>12:36:00</td>\n",
       "      <td>A</td>\n",
       "    </tr>\n",
       "    <tr>\n",
       "      <th>2</th>\n",
       "      <td>twinkle, twinkle</td>\n",
       "      <td>2</td>\n",
       "      <td>True</td>\n",
       "      <td>-1.14</td>\n",
       "      <td>2023-07-26 00:00:00</td>\n",
       "      <td>13:36:00</td>\n",
       "      <td>B</td>\n",
       "    </tr>\n",
       "    <tr>\n",
       "      <th>3</th>\n",
       "      <td>little star</td>\n",
       "      <td>2</td>\n",
       "      <td>True</td>\n",
       "      <td>-1.14</td>\n",
       "      <td>2023-07-27 00:00:00</td>\n",
       "      <td>14:36:00</td>\n",
       "      <td>B</td>\n",
       "    </tr>\n",
       "    <tr>\n",
       "      <th>4</th>\n",
       "      <td>how I wonder</td>\n",
       "      <td>3</td>\n",
       "      <td>False</td>\n",
       "      <td>-0.14</td>\n",
       "      <td>2023-07-28 00:00:00</td>\n",
       "      <td>15:36:00</td>\n",
       "      <td>B</td>\n",
       "    </tr>\n",
       "    <tr>\n",
       "      <th>5</th>\n",
       "      <td>what you are</td>\n",
       "      <td>4</td>\n",
       "      <td>True</td>\n",
       "      <td>0.86</td>\n",
       "      <td>2023-07-29 00:00:00</td>\n",
       "      <td>16:36:00</td>\n",
       "      <td>B</td>\n",
       "    </tr>\n",
       "  </tbody>\n",
       "</table>\n",
       "</div>"
      ],
      "text/plain": [
       "              string  integer  boolean  floatingpoint                date  \\\n",
       "0  the fat black cat        4     True           0.86 2023-07-24 11:30:00   \n",
       "1     sat on the mat        4     True           0.86 2023-07-25 00:00:00   \n",
       "2   twinkle, twinkle        2     True          -1.14 2023-07-26 00:00:00   \n",
       "3        little star        2     True          -1.14 2023-07-27 00:00:00   \n",
       "4       how I wonder        3    False          -0.14 2023-07-28 00:00:00   \n",
       "5       what you are        4     True           0.86 2023-07-29 00:00:00   \n",
       "\n",
       "       time category  \n",
       "0  11:36:00        A  \n",
       "1  12:36:00        A  \n",
       "2  13:36:00        B  \n",
       "3  14:36:00        B  \n",
       "4  15:36:00        B  \n",
       "5  16:36:00        B  "
      ]
     },
     "execution_count": 88,
     "metadata": {},
     "output_type": "execute_result"
    }
   ],
   "source": [
    "df"
   ]
  },
  {
   "attachments": {},
   "cell_type": "markdown",
   "metadata": {},
   "source": [
    "In a .xlsx file, a column is normally formatted for the appropriate datatype. For example a datetime format and the .xlsx file contains the formatting information. This information can be used by the ```read_excel``` function:"
   ]
  },
  {
   "cell_type": "code",
   "execution_count": 94,
   "metadata": {},
   "outputs": [],
   "source": [
    "df = pd.read_excel('./files/Book3.xlsx', 0, parse_dates=True)"
   ]
  },
  {
   "cell_type": "code",
   "execution_count": 95,
   "metadata": {},
   "outputs": [
    {
     "data": {
      "text/html": [
       "<div>\n",
       "<style scoped>\n",
       "    .dataframe tbody tr th:only-of-type {\n",
       "        vertical-align: middle;\n",
       "    }\n",
       "\n",
       "    .dataframe tbody tr th {\n",
       "        vertical-align: top;\n",
       "    }\n",
       "\n",
       "    .dataframe thead th {\n",
       "        text-align: right;\n",
       "    }\n",
       "</style>\n",
       "<table border=\"1\" class=\"dataframe\">\n",
       "  <thead>\n",
       "    <tr style=\"text-align: right;\">\n",
       "      <th></th>\n",
       "      <th>string</th>\n",
       "      <th>integer</th>\n",
       "      <th>boolean</th>\n",
       "      <th>floatingpoint</th>\n",
       "      <th>date</th>\n",
       "      <th>time</th>\n",
       "      <th>category</th>\n",
       "    </tr>\n",
       "  </thead>\n",
       "  <tbody>\n",
       "    <tr>\n",
       "      <th>0</th>\n",
       "      <td>the fat black cat</td>\n",
       "      <td>4</td>\n",
       "      <td>True</td>\n",
       "      <td>0.86</td>\n",
       "      <td>2023-07-24 11:30:00</td>\n",
       "      <td>11:36:00</td>\n",
       "      <td>A</td>\n",
       "    </tr>\n",
       "    <tr>\n",
       "      <th>1</th>\n",
       "      <td>sat on the mat</td>\n",
       "      <td>4</td>\n",
       "      <td>True</td>\n",
       "      <td>0.86</td>\n",
       "      <td>2023-07-25 00:00:00</td>\n",
       "      <td>12:36:00</td>\n",
       "      <td>A</td>\n",
       "    </tr>\n",
       "    <tr>\n",
       "      <th>2</th>\n",
       "      <td>twinkle, twinkle</td>\n",
       "      <td>2</td>\n",
       "      <td>True</td>\n",
       "      <td>-1.14</td>\n",
       "      <td>2023-07-26 00:00:00</td>\n",
       "      <td>13:36:00</td>\n",
       "      <td>B</td>\n",
       "    </tr>\n",
       "    <tr>\n",
       "      <th>3</th>\n",
       "      <td>little star</td>\n",
       "      <td>2</td>\n",
       "      <td>True</td>\n",
       "      <td>-1.14</td>\n",
       "      <td>2023-07-27 00:00:00</td>\n",
       "      <td>14:36:00</td>\n",
       "      <td>B</td>\n",
       "    </tr>\n",
       "    <tr>\n",
       "      <th>4</th>\n",
       "      <td>how I wonder</td>\n",
       "      <td>3</td>\n",
       "      <td>False</td>\n",
       "      <td>-0.14</td>\n",
       "      <td>2023-07-28 00:00:00</td>\n",
       "      <td>15:36:00</td>\n",
       "      <td>B</td>\n",
       "    </tr>\n",
       "    <tr>\n",
       "      <th>5</th>\n",
       "      <td>what you are</td>\n",
       "      <td>4</td>\n",
       "      <td>True</td>\n",
       "      <td>0.86</td>\n",
       "      <td>2023-07-29 00:00:00</td>\n",
       "      <td>16:36:00</td>\n",
       "      <td>B</td>\n",
       "    </tr>\n",
       "  </tbody>\n",
       "</table>\n",
       "</div>"
      ],
      "text/plain": [
       "              string  integer  boolean  floatingpoint                date  \\\n",
       "0  the fat black cat        4     True           0.86 2023-07-24 11:30:00   \n",
       "1     sat on the mat        4     True           0.86 2023-07-25 00:00:00   \n",
       "2   twinkle, twinkle        2     True          -1.14 2023-07-26 00:00:00   \n",
       "3        little star        2     True          -1.14 2023-07-27 00:00:00   \n",
       "4       how I wonder        3    False          -0.14 2023-07-28 00:00:00   \n",
       "5       what you are        4     True           0.86 2023-07-29 00:00:00   \n",
       "\n",
       "       time category  \n",
       "0  11:36:00        A  \n",
       "1  12:36:00        A  \n",
       "2  13:36:00        B  \n",
       "3  14:36:00        B  \n",
       "4  15:36:00        B  \n",
       "5  16:36:00        B  "
      ]
     },
     "execution_count": 95,
     "metadata": {},
     "output_type": "execute_result"
    }
   ],
   "source": [
    "df"
   ]
  },
  {
   "attachments": {},
   "cell_type": "markdown",
   "metadata": {},
   "source": [
    "The date column is parsed as a date correctly but the time column wasn't parsed as a time column:"
   ]
  },
  {
   "cell_type": "code",
   "execution_count": 96,
   "metadata": {},
   "outputs": [
    {
     "data": {
      "text/plain": [
       "string                   object\n",
       "integer                   int64\n",
       "boolean                    bool\n",
       "floatingpoint           float64\n",
       "date             datetime64[ns]\n",
       "time                     object\n",
       "category                 object\n",
       "dtype: object"
      ]
     },
     "execution_count": 96,
     "metadata": {},
     "output_type": "execute_result"
    }
   ],
   "source": [
    "df.dtypes"
   ]
  },
  {
   "cell_type": "markdown",
   "metadata": {},
   "source": [
    "The ```df['time']``` ```pd.Series``` instance can be cast into a ```str``` instance:"
   ]
  },
  {
   "cell_type": "code",
   "execution_count": 122,
   "metadata": {},
   "outputs": [
    {
     "data": {
      "text/plain": [
       "0    11:36:00\n",
       "1    12:36:00\n",
       "2    13:36:00\n",
       "3    14:36:00\n",
       "4    15:36:00\n",
       "5    16:36:00\n",
       "Name: time, dtype: object"
      ]
     },
     "execution_count": 122,
     "metadata": {},
     "output_type": "execute_result"
    }
   ],
   "source": [
    "df['time'].astype('str')"
   ]
  },
  {
   "cell_type": "markdown",
   "metadata": {},
   "source": [
    "The ```pd.Series``` method ```astype``` has limited support for converting to a ```timedelta64``` and instead te ```pd``` function ```to_timedelta``` needs to be used:"
   ]
  },
  {
   "cell_type": "code",
   "execution_count": 123,
   "metadata": {},
   "outputs": [
    {
     "data": {
      "text/plain": [
       "0   0 days 11:36:00\n",
       "1   0 days 12:36:00\n",
       "2   0 days 13:36:00\n",
       "3   0 days 14:36:00\n",
       "4   0 days 15:36:00\n",
       "5   0 days 16:36:00\n",
       "Name: time, dtype: timedelta64[ns]"
      ]
     },
     "execution_count": 123,
     "metadata": {},
     "output_type": "execute_result"
    }
   ],
   "source": [
    "pd.to_timedelta(df['time'].astype('str'))"
   ]
  },
  {
   "cell_type": "markdown",
   "metadata": {},
   "source": [
    "This can be reassigned to the ```pd.Series``` instance name ```df['time']```. This will update the ```df``` instance inplace:"
   ]
  },
  {
   "cell_type": "code",
   "execution_count": 124,
   "metadata": {},
   "outputs": [],
   "source": [
    "df['time'] = pd.to_timedelta(df['time'].astype('str'))"
   ]
  },
  {
   "cell_type": "code",
   "execution_count": 125,
   "metadata": {},
   "outputs": [
    {
     "data": {
      "text/html": [
       "<div>\n",
       "<style scoped>\n",
       "    .dataframe tbody tr th:only-of-type {\n",
       "        vertical-align: middle;\n",
       "    }\n",
       "\n",
       "    .dataframe tbody tr th {\n",
       "        vertical-align: top;\n",
       "    }\n",
       "\n",
       "    .dataframe thead th {\n",
       "        text-align: right;\n",
       "    }\n",
       "</style>\n",
       "<table border=\"1\" class=\"dataframe\">\n",
       "  <thead>\n",
       "    <tr style=\"text-align: right;\">\n",
       "      <th></th>\n",
       "      <th>string</th>\n",
       "      <th>integer</th>\n",
       "      <th>boolean</th>\n",
       "      <th>floatingpoint</th>\n",
       "      <th>date</th>\n",
       "      <th>time</th>\n",
       "      <th>category</th>\n",
       "    </tr>\n",
       "  </thead>\n",
       "  <tbody>\n",
       "    <tr>\n",
       "      <th>0</th>\n",
       "      <td>the fat black cat</td>\n",
       "      <td>4</td>\n",
       "      <td>True</td>\n",
       "      <td>0.86</td>\n",
       "      <td>2023-07-24 11:30:00</td>\n",
       "      <td>0 days 11:36:00</td>\n",
       "      <td>A</td>\n",
       "    </tr>\n",
       "    <tr>\n",
       "      <th>1</th>\n",
       "      <td>sat on the mat</td>\n",
       "      <td>4</td>\n",
       "      <td>True</td>\n",
       "      <td>0.86</td>\n",
       "      <td>2023-07-25 00:00:00</td>\n",
       "      <td>0 days 12:36:00</td>\n",
       "      <td>A</td>\n",
       "    </tr>\n",
       "    <tr>\n",
       "      <th>2</th>\n",
       "      <td>twinkle, twinkle</td>\n",
       "      <td>2</td>\n",
       "      <td>True</td>\n",
       "      <td>-1.14</td>\n",
       "      <td>2023-07-26 00:00:00</td>\n",
       "      <td>0 days 13:36:00</td>\n",
       "      <td>B</td>\n",
       "    </tr>\n",
       "    <tr>\n",
       "      <th>3</th>\n",
       "      <td>little star</td>\n",
       "      <td>2</td>\n",
       "      <td>True</td>\n",
       "      <td>-1.14</td>\n",
       "      <td>2023-07-27 00:00:00</td>\n",
       "      <td>0 days 14:36:00</td>\n",
       "      <td>B</td>\n",
       "    </tr>\n",
       "    <tr>\n",
       "      <th>4</th>\n",
       "      <td>how I wonder</td>\n",
       "      <td>3</td>\n",
       "      <td>False</td>\n",
       "      <td>-0.14</td>\n",
       "      <td>2023-07-28 00:00:00</td>\n",
       "      <td>0 days 15:36:00</td>\n",
       "      <td>B</td>\n",
       "    </tr>\n",
       "    <tr>\n",
       "      <th>5</th>\n",
       "      <td>what you are</td>\n",
       "      <td>4</td>\n",
       "      <td>True</td>\n",
       "      <td>0.86</td>\n",
       "      <td>2023-07-29 00:00:00</td>\n",
       "      <td>0 days 16:36:00</td>\n",
       "      <td>B</td>\n",
       "    </tr>\n",
       "  </tbody>\n",
       "</table>\n",
       "</div>"
      ],
      "text/plain": [
       "              string  integer  boolean  floatingpoint                date  \\\n",
       "0  the fat black cat        4     True           0.86 2023-07-24 11:30:00   \n",
       "1     sat on the mat        4     True           0.86 2023-07-25 00:00:00   \n",
       "2   twinkle, twinkle        2     True          -1.14 2023-07-26 00:00:00   \n",
       "3        little star        2     True          -1.14 2023-07-27 00:00:00   \n",
       "4       how I wonder        3    False          -0.14 2023-07-28 00:00:00   \n",
       "5       what you are        4     True           0.86 2023-07-29 00:00:00   \n",
       "\n",
       "             time category  \n",
       "0 0 days 11:36:00        A  \n",
       "1 0 days 12:36:00        A  \n",
       "2 0 days 13:36:00        B  \n",
       "3 0 days 14:36:00        B  \n",
       "4 0 days 15:36:00        B  \n",
       "5 0 days 16:36:00        B  "
      ]
     },
     "execution_count": 125,
     "metadata": {},
     "output_type": "execute_result"
    }
   ],
   "source": [
    "df"
   ]
  },
  {
   "cell_type": "code",
   "execution_count": 126,
   "metadata": {},
   "outputs": [
    {
     "data": {
      "text/plain": [
       "string                    object\n",
       "integer                    int64\n",
       "boolean                     bool\n",
       "floatingpoint            float64\n",
       "date              datetime64[ns]\n",
       "time             timedelta64[ns]\n",
       "category                  object\n",
       "dtype: object"
      ]
     },
     "execution_count": 126,
     "metadata": {},
     "output_type": "execute_result"
    }
   ],
   "source": [
    "df.dtypes"
   ]
  },
  {
   "attachments": {},
   "cell_type": "markdown",
   "metadata": {},
   "source": [
    "The ```df['category']``` ```pd.Series``` instance can be cast into a ```pd.Categorical``` instance:"
   ]
  },
  {
   "cell_type": "code",
   "execution_count": 131,
   "metadata": {},
   "outputs": [
    {
     "data": {
      "text/plain": [
       "0    A\n",
       "1    A\n",
       "2    B\n",
       "3    B\n",
       "4    B\n",
       "5    B\n",
       "Name: category, dtype: category\n",
       "Categories (2, object): ['A', 'B']"
      ]
     },
     "execution_count": 131,
     "metadata": {},
     "output_type": "execute_result"
    }
   ],
   "source": [
    "df['category'].astype('category')"
   ]
  },
  {
   "cell_type": "code",
   "execution_count": 132,
   "metadata": {},
   "outputs": [],
   "source": [
    "df['category'] = df['category'].astype('category')"
   ]
  },
  {
   "cell_type": "code",
   "execution_count": 133,
   "metadata": {},
   "outputs": [
    {
     "data": {
      "text/html": [
       "<div>\n",
       "<style scoped>\n",
       "    .dataframe tbody tr th:only-of-type {\n",
       "        vertical-align: middle;\n",
       "    }\n",
       "\n",
       "    .dataframe tbody tr th {\n",
       "        vertical-align: top;\n",
       "    }\n",
       "\n",
       "    .dataframe thead th {\n",
       "        text-align: right;\n",
       "    }\n",
       "</style>\n",
       "<table border=\"1\" class=\"dataframe\">\n",
       "  <thead>\n",
       "    <tr style=\"text-align: right;\">\n",
       "      <th></th>\n",
       "      <th>string</th>\n",
       "      <th>integer</th>\n",
       "      <th>boolean</th>\n",
       "      <th>floatingpoint</th>\n",
       "      <th>date</th>\n",
       "      <th>time</th>\n",
       "      <th>category</th>\n",
       "    </tr>\n",
       "  </thead>\n",
       "  <tbody>\n",
       "    <tr>\n",
       "      <th>0</th>\n",
       "      <td>the fat black cat</td>\n",
       "      <td>4</td>\n",
       "      <td>True</td>\n",
       "      <td>0.86</td>\n",
       "      <td>2023-07-24 11:30:00</td>\n",
       "      <td>0 days 11:36:00</td>\n",
       "      <td>A</td>\n",
       "    </tr>\n",
       "    <tr>\n",
       "      <th>1</th>\n",
       "      <td>sat on the mat</td>\n",
       "      <td>4</td>\n",
       "      <td>True</td>\n",
       "      <td>0.86</td>\n",
       "      <td>2023-07-25 00:00:00</td>\n",
       "      <td>0 days 12:36:00</td>\n",
       "      <td>A</td>\n",
       "    </tr>\n",
       "    <tr>\n",
       "      <th>2</th>\n",
       "      <td>twinkle, twinkle</td>\n",
       "      <td>2</td>\n",
       "      <td>True</td>\n",
       "      <td>-1.14</td>\n",
       "      <td>2023-07-26 00:00:00</td>\n",
       "      <td>0 days 13:36:00</td>\n",
       "      <td>B</td>\n",
       "    </tr>\n",
       "    <tr>\n",
       "      <th>3</th>\n",
       "      <td>little star</td>\n",
       "      <td>2</td>\n",
       "      <td>True</td>\n",
       "      <td>-1.14</td>\n",
       "      <td>2023-07-27 00:00:00</td>\n",
       "      <td>0 days 14:36:00</td>\n",
       "      <td>B</td>\n",
       "    </tr>\n",
       "    <tr>\n",
       "      <th>4</th>\n",
       "      <td>how I wonder</td>\n",
       "      <td>3</td>\n",
       "      <td>False</td>\n",
       "      <td>-0.14</td>\n",
       "      <td>2023-07-28 00:00:00</td>\n",
       "      <td>0 days 15:36:00</td>\n",
       "      <td>B</td>\n",
       "    </tr>\n",
       "    <tr>\n",
       "      <th>5</th>\n",
       "      <td>what you are</td>\n",
       "      <td>4</td>\n",
       "      <td>True</td>\n",
       "      <td>0.86</td>\n",
       "      <td>2023-07-29 00:00:00</td>\n",
       "      <td>0 days 16:36:00</td>\n",
       "      <td>B</td>\n",
       "    </tr>\n",
       "  </tbody>\n",
       "</table>\n",
       "</div>"
      ],
      "text/plain": [
       "              string  integer  boolean  floatingpoint                date  \\\n",
       "0  the fat black cat        4     True           0.86 2023-07-24 11:30:00   \n",
       "1     sat on the mat        4     True           0.86 2023-07-25 00:00:00   \n",
       "2   twinkle, twinkle        2     True          -1.14 2023-07-26 00:00:00   \n",
       "3        little star        2     True          -1.14 2023-07-27 00:00:00   \n",
       "4       how I wonder        3    False          -0.14 2023-07-28 00:00:00   \n",
       "5       what you are        4     True           0.86 2023-07-29 00:00:00   \n",
       "\n",
       "             time category  \n",
       "0 0 days 11:36:00        A  \n",
       "1 0 days 12:36:00        A  \n",
       "2 0 days 13:36:00        B  \n",
       "3 0 days 14:36:00        B  \n",
       "4 0 days 15:36:00        B  \n",
       "5 0 days 16:36:00        B  "
      ]
     },
     "execution_count": 133,
     "metadata": {},
     "output_type": "execute_result"
    }
   ],
   "source": [
    "df"
   ]
  },
  {
   "cell_type": "code",
   "execution_count": 134,
   "metadata": {},
   "outputs": [
    {
     "data": {
      "text/plain": [
       "string                    object\n",
       "integer                    int64\n",
       "boolean                     bool\n",
       "floatingpoint            float64\n",
       "date              datetime64[ns]\n",
       "time             timedelta64[ns]\n",
       "category                category\n",
       "dtype: object"
      ]
     },
     "execution_count": 134,
     "metadata": {},
     "output_type": "execute_result"
    }
   ],
   "source": [
    "df.dtypes"
   ]
  },
  {
   "attachments": {},
   "cell_type": "markdown",
   "metadata": {},
   "source": [
    "To reorder the columns, indexing is quite commonly used:"
   ]
  },
  {
   "cell_type": "code",
   "execution_count": 136,
   "metadata": {},
   "outputs": [
    {
     "data": {
      "text/html": [
       "<div>\n",
       "<style scoped>\n",
       "    .dataframe tbody tr th:only-of-type {\n",
       "        vertical-align: middle;\n",
       "    }\n",
       "\n",
       "    .dataframe tbody tr th {\n",
       "        vertical-align: top;\n",
       "    }\n",
       "\n",
       "    .dataframe thead th {\n",
       "        text-align: right;\n",
       "    }\n",
       "</style>\n",
       "<table border=\"1\" class=\"dataframe\">\n",
       "  <thead>\n",
       "    <tr style=\"text-align: right;\">\n",
       "      <th></th>\n",
       "      <th>string</th>\n",
       "      <th>integer</th>\n",
       "      <th>boolean</th>\n",
       "      <th>floatingpoint</th>\n",
       "      <th>date</th>\n",
       "      <th>time</th>\n",
       "      <th>category</th>\n",
       "    </tr>\n",
       "  </thead>\n",
       "  <tbody>\n",
       "    <tr>\n",
       "      <th>0</th>\n",
       "      <td>the fat black cat</td>\n",
       "      <td>4</td>\n",
       "      <td>True</td>\n",
       "      <td>0.86</td>\n",
       "      <td>2023-07-24 11:30:00</td>\n",
       "      <td>0 days 11:36:00</td>\n",
       "      <td>A</td>\n",
       "    </tr>\n",
       "    <tr>\n",
       "      <th>1</th>\n",
       "      <td>sat on the mat</td>\n",
       "      <td>4</td>\n",
       "      <td>True</td>\n",
       "      <td>0.86</td>\n",
       "      <td>2023-07-25 00:00:00</td>\n",
       "      <td>0 days 12:36:00</td>\n",
       "      <td>A</td>\n",
       "    </tr>\n",
       "    <tr>\n",
       "      <th>2</th>\n",
       "      <td>twinkle, twinkle</td>\n",
       "      <td>2</td>\n",
       "      <td>True</td>\n",
       "      <td>-1.14</td>\n",
       "      <td>2023-07-26 00:00:00</td>\n",
       "      <td>0 days 13:36:00</td>\n",
       "      <td>B</td>\n",
       "    </tr>\n",
       "    <tr>\n",
       "      <th>3</th>\n",
       "      <td>little star</td>\n",
       "      <td>2</td>\n",
       "      <td>True</td>\n",
       "      <td>-1.14</td>\n",
       "      <td>2023-07-27 00:00:00</td>\n",
       "      <td>0 days 14:36:00</td>\n",
       "      <td>B</td>\n",
       "    </tr>\n",
       "    <tr>\n",
       "      <th>4</th>\n",
       "      <td>how I wonder</td>\n",
       "      <td>3</td>\n",
       "      <td>False</td>\n",
       "      <td>-0.14</td>\n",
       "      <td>2023-07-28 00:00:00</td>\n",
       "      <td>0 days 15:36:00</td>\n",
       "      <td>B</td>\n",
       "    </tr>\n",
       "    <tr>\n",
       "      <th>5</th>\n",
       "      <td>what you are</td>\n",
       "      <td>4</td>\n",
       "      <td>True</td>\n",
       "      <td>0.86</td>\n",
       "      <td>2023-07-29 00:00:00</td>\n",
       "      <td>0 days 16:36:00</td>\n",
       "      <td>B</td>\n",
       "    </tr>\n",
       "  </tbody>\n",
       "</table>\n",
       "</div>"
      ],
      "text/plain": [
       "              string  integer  boolean  floatingpoint                date  \\\n",
       "0  the fat black cat        4     True           0.86 2023-07-24 11:30:00   \n",
       "1     sat on the mat        4     True           0.86 2023-07-25 00:00:00   \n",
       "2   twinkle, twinkle        2     True          -1.14 2023-07-26 00:00:00   \n",
       "3        little star        2     True          -1.14 2023-07-27 00:00:00   \n",
       "4       how I wonder        3    False          -0.14 2023-07-28 00:00:00   \n",
       "5       what you are        4     True           0.86 2023-07-29 00:00:00   \n",
       "\n",
       "             time category  \n",
       "0 0 days 11:36:00        A  \n",
       "1 0 days 12:36:00        A  \n",
       "2 0 days 13:36:00        B  \n",
       "3 0 days 14:36:00        B  \n",
       "4 0 days 15:36:00        B  \n",
       "5 0 days 16:36:00        B  "
      ]
     },
     "execution_count": 136,
     "metadata": {},
     "output_type": "execute_result"
    }
   ],
   "source": [
    "df[['string', 'integer', 'boolean', 'floatingpoint', 'date', 'time', 'category']]"
   ]
  },
  {
   "attachments": {},
   "cell_type": "markdown",
   "metadata": {},
   "source": [
    "The instance name ```df``` can be reassigned to this output:"
   ]
  },
  {
   "cell_type": "code",
   "execution_count": 137,
   "metadata": {},
   "outputs": [],
   "source": [
    "df = df[['string', 'integer', 'boolean', 'floatingpoint', 'date', 'time', 'category']]"
   ]
  },
  {
   "cell_type": "code",
   "execution_count": 138,
   "metadata": {},
   "outputs": [
    {
     "data": {
      "text/html": [
       "<div>\n",
       "<style scoped>\n",
       "    .dataframe tbody tr th:only-of-type {\n",
       "        vertical-align: middle;\n",
       "    }\n",
       "\n",
       "    .dataframe tbody tr th {\n",
       "        vertical-align: top;\n",
       "    }\n",
       "\n",
       "    .dataframe thead th {\n",
       "        text-align: right;\n",
       "    }\n",
       "</style>\n",
       "<table border=\"1\" class=\"dataframe\">\n",
       "  <thead>\n",
       "    <tr style=\"text-align: right;\">\n",
       "      <th></th>\n",
       "      <th>string</th>\n",
       "      <th>integer</th>\n",
       "      <th>boolean</th>\n",
       "      <th>floatingpoint</th>\n",
       "      <th>date</th>\n",
       "      <th>time</th>\n",
       "      <th>category</th>\n",
       "    </tr>\n",
       "  </thead>\n",
       "  <tbody>\n",
       "    <tr>\n",
       "      <th>0</th>\n",
       "      <td>the fat black cat</td>\n",
       "      <td>4</td>\n",
       "      <td>True</td>\n",
       "      <td>0.86</td>\n",
       "      <td>2023-07-24 11:30:00</td>\n",
       "      <td>0 days 11:36:00</td>\n",
       "      <td>A</td>\n",
       "    </tr>\n",
       "    <tr>\n",
       "      <th>1</th>\n",
       "      <td>sat on the mat</td>\n",
       "      <td>4</td>\n",
       "      <td>True</td>\n",
       "      <td>0.86</td>\n",
       "      <td>2023-07-25 00:00:00</td>\n",
       "      <td>0 days 12:36:00</td>\n",
       "      <td>A</td>\n",
       "    </tr>\n",
       "    <tr>\n",
       "      <th>2</th>\n",
       "      <td>twinkle, twinkle</td>\n",
       "      <td>2</td>\n",
       "      <td>True</td>\n",
       "      <td>-1.14</td>\n",
       "      <td>2023-07-26 00:00:00</td>\n",
       "      <td>0 days 13:36:00</td>\n",
       "      <td>B</td>\n",
       "    </tr>\n",
       "    <tr>\n",
       "      <th>3</th>\n",
       "      <td>little star</td>\n",
       "      <td>2</td>\n",
       "      <td>True</td>\n",
       "      <td>-1.14</td>\n",
       "      <td>2023-07-27 00:00:00</td>\n",
       "      <td>0 days 14:36:00</td>\n",
       "      <td>B</td>\n",
       "    </tr>\n",
       "    <tr>\n",
       "      <th>4</th>\n",
       "      <td>how I wonder</td>\n",
       "      <td>3</td>\n",
       "      <td>False</td>\n",
       "      <td>-0.14</td>\n",
       "      <td>2023-07-28 00:00:00</td>\n",
       "      <td>0 days 15:36:00</td>\n",
       "      <td>B</td>\n",
       "    </tr>\n",
       "    <tr>\n",
       "      <th>5</th>\n",
       "      <td>what you are</td>\n",
       "      <td>4</td>\n",
       "      <td>True</td>\n",
       "      <td>0.86</td>\n",
       "      <td>2023-07-29 00:00:00</td>\n",
       "      <td>0 days 16:36:00</td>\n",
       "      <td>B</td>\n",
       "    </tr>\n",
       "  </tbody>\n",
       "</table>\n",
       "</div>"
      ],
      "text/plain": [
       "              string  integer  boolean  floatingpoint                date  \\\n",
       "0  the fat black cat        4     True           0.86 2023-07-24 11:30:00   \n",
       "1     sat on the mat        4     True           0.86 2023-07-25 00:00:00   \n",
       "2   twinkle, twinkle        2     True          -1.14 2023-07-26 00:00:00   \n",
       "3        little star        2     True          -1.14 2023-07-27 00:00:00   \n",
       "4       how I wonder        3    False          -0.14 2023-07-28 00:00:00   \n",
       "5       what you are        4     True           0.86 2023-07-29 00:00:00   \n",
       "\n",
       "             time category  \n",
       "0 0 days 11:36:00        A  \n",
       "1 0 days 12:36:00        A  \n",
       "2 0 days 13:36:00        B  \n",
       "3 0 days 14:36:00        B  \n",
       "4 0 days 15:36:00        B  \n",
       "5 0 days 16:36:00        B  "
      ]
     },
     "execution_count": 138,
     "metadata": {},
     "output_type": "execute_result"
    }
   ],
   "source": [
    "df"
   ]
  },
  {
   "attachments": {},
   "cell_type": "markdown",
   "metadata": {},
   "source": [
    "## Writing DataFrames to Objects and Files"
   ]
  },
  {
   "attachments": {},
   "cell_type": "markdown",
   "metadata": {},
   "source": [
    "The ```DataFrame``` class has a number of methods for writing to files:"
   ]
  },
  {
   "cell_type": "code",
   "execution_count": 152,
   "metadata": {
    "scrolled": true
   },
   "outputs": [
    {
     "name": "stdout",
     "output_type": "stream",
     "text": [
      "to_clipboard\n",
      "to_csv\n",
      "to_dict\n",
      "to_excel\n",
      "to_feather\n",
      "to_gbq\n",
      "to_hdf\n",
      "to_html\n",
      "to_json\n",
      "to_latex\n",
      "to_markdown\n",
      "to_numpy\n",
      "to_orc\n",
      "to_parquet\n",
      "to_period\n",
      "to_pickle\n",
      "to_records\n",
      "to_sql\n",
      "to_stata\n",
      "to_string\n",
      "to_timestamp\n",
      "to_xarray\n",
      "to_xml\n"
     ]
    }
   ],
   "source": [
    "for identifier in dir(df):\n",
    "    if identifier.startswith('to_'):\n",
    "        print(identifier)"
   ]
  },
  {
   "attachments": {},
   "cell_type": "markdown",
   "metadata": {},
   "source": [
    "### Python Dictionary"
   ]
  },
  {
   "attachments": {},
   "cell_type": "markdown",
   "metadata": {},
   "source": [
    "A  ```pd.DataFrame``` instance can be written to a ```dict``` instance using:"
   ]
  },
  {
   "cell_type": "code",
   "execution_count": 153,
   "metadata": {},
   "outputs": [
    {
     "data": {
      "text/plain": [
       "{'string': {0: 'the fat black cat',\n",
       "  1: 'sat on the mat',\n",
       "  2: 'twinkle, twinkle',\n",
       "  3: 'little star',\n",
       "  4: 'how I wonder',\n",
       "  5: 'what you are'},\n",
       " 'integer': {0: 4, 1: 4, 2: 2, 3: 2, 4: 3, 5: 4},\n",
       " 'boolean': {0: True, 1: True, 2: True, 3: True, 4: False, 5: True},\n",
       " 'floatingpoint': {0: 0.86, 1: 0.86, 2: -1.14, 3: -1.14, 4: -0.14, 5: 0.86},\n",
       " 'date': {0: '24/07/2023',\n",
       "  1: '25/07/2023',\n",
       "  2: '26/07/2023',\n",
       "  3: '27/07/2023',\n",
       "  4: '28/07/2023',\n",
       "  5: '29/07/2023'},\n",
       " 'time': {0: '11:36:00',\n",
       "  1: '12:36:00',\n",
       "  2: '13:36:00',\n",
       "  3: '14:36:00',\n",
       "  4: '15:36:00',\n",
       "  5: '16:36:00'},\n",
       " 'category': {0: 'A', 1: 'A', 2: 'B', 3: 'B', 4: 'B', 5: 'B'}}"
      ]
     },
     "execution_count": 153,
     "metadata": {},
     "output_type": "execute_result"
    }
   ],
   "source": [
    "df.to_dict()"
   ]
  },
  {
   "attachments": {},
   "cell_type": "markdown",
   "metadata": {},
   "source": [
    "This is read into a ```pd.DataFrame``` instance using:"
   ]
  },
  {
   "cell_type": "code",
   "execution_count": 154,
   "metadata": {},
   "outputs": [
    {
     "data": {
      "text/html": [
       "<div>\n",
       "<style scoped>\n",
       "    .dataframe tbody tr th:only-of-type {\n",
       "        vertical-align: middle;\n",
       "    }\n",
       "\n",
       "    .dataframe tbody tr th {\n",
       "        vertical-align: top;\n",
       "    }\n",
       "\n",
       "    .dataframe thead th {\n",
       "        text-align: right;\n",
       "    }\n",
       "</style>\n",
       "<table border=\"1\" class=\"dataframe\">\n",
       "  <thead>\n",
       "    <tr style=\"text-align: right;\">\n",
       "      <th></th>\n",
       "      <th>string</th>\n",
       "      <th>integer</th>\n",
       "      <th>boolean</th>\n",
       "      <th>floatingpoint</th>\n",
       "      <th>date</th>\n",
       "      <th>time</th>\n",
       "      <th>category</th>\n",
       "    </tr>\n",
       "  </thead>\n",
       "  <tbody>\n",
       "    <tr>\n",
       "      <th>0</th>\n",
       "      <td>the fat black cat</td>\n",
       "      <td>4</td>\n",
       "      <td>True</td>\n",
       "      <td>0.86</td>\n",
       "      <td>24/07/2023</td>\n",
       "      <td>11:36:00</td>\n",
       "      <td>A</td>\n",
       "    </tr>\n",
       "    <tr>\n",
       "      <th>1</th>\n",
       "      <td>sat on the mat</td>\n",
       "      <td>4</td>\n",
       "      <td>True</td>\n",
       "      <td>0.86</td>\n",
       "      <td>25/07/2023</td>\n",
       "      <td>12:36:00</td>\n",
       "      <td>A</td>\n",
       "    </tr>\n",
       "    <tr>\n",
       "      <th>2</th>\n",
       "      <td>twinkle, twinkle</td>\n",
       "      <td>2</td>\n",
       "      <td>True</td>\n",
       "      <td>-1.14</td>\n",
       "      <td>26/07/2023</td>\n",
       "      <td>13:36:00</td>\n",
       "      <td>B</td>\n",
       "    </tr>\n",
       "    <tr>\n",
       "      <th>3</th>\n",
       "      <td>little star</td>\n",
       "      <td>2</td>\n",
       "      <td>True</td>\n",
       "      <td>-1.14</td>\n",
       "      <td>27/07/2023</td>\n",
       "      <td>14:36:00</td>\n",
       "      <td>B</td>\n",
       "    </tr>\n",
       "    <tr>\n",
       "      <th>4</th>\n",
       "      <td>how I wonder</td>\n",
       "      <td>3</td>\n",
       "      <td>False</td>\n",
       "      <td>-0.14</td>\n",
       "      <td>28/07/2023</td>\n",
       "      <td>15:36:00</td>\n",
       "      <td>B</td>\n",
       "    </tr>\n",
       "    <tr>\n",
       "      <th>5</th>\n",
       "      <td>what you are</td>\n",
       "      <td>4</td>\n",
       "      <td>True</td>\n",
       "      <td>0.86</td>\n",
       "      <td>29/07/2023</td>\n",
       "      <td>16:36:00</td>\n",
       "      <td>B</td>\n",
       "    </tr>\n",
       "  </tbody>\n",
       "</table>\n",
       "</div>"
      ],
      "text/plain": [
       "              string  integer  boolean  floatingpoint        date      time  \\\n",
       "0  the fat black cat        4     True           0.86  24/07/2023  11:36:00   \n",
       "1     sat on the mat        4     True           0.86  25/07/2023  12:36:00   \n",
       "2   twinkle, twinkle        2     True          -1.14  26/07/2023  13:36:00   \n",
       "3        little star        2     True          -1.14  27/07/2023  14:36:00   \n",
       "4       how I wonder        3    False          -0.14  28/07/2023  15:36:00   \n",
       "5       what you are        4     True           0.86  29/07/2023  16:36:00   \n",
       "\n",
       "  category  \n",
       "0        A  \n",
       "1        A  \n",
       "2        B  \n",
       "3        B  \n",
       "4        B  \n",
       "5        B  "
      ]
     },
     "execution_count": 154,
     "metadata": {},
     "output_type": "execute_result"
    }
   ],
   "source": [
    "pd.DataFrame(data=df.to_dict())"
   ]
  },
  {
   "attachments": {},
   "cell_type": "markdown",
   "metadata": {},
   "source": [
    "### Comma Separated Values File"
   ]
  },
  {
   "attachments": {},
   "cell_type": "markdown",
   "metadata": {},
   "source": [
    "A ```pd.DataFrame``` can be written to a file using:"
   ]
  },
  {
   "cell_type": "code",
   "execution_count": 159,
   "metadata": {},
   "outputs": [],
   "source": [
    "df.to_csv('./files/Book4.csv')"
   ]
  },
  {
   "attachments": {},
   "cell_type": "markdown",
   "metadata": {},
   "source": [
    "Notice that an index was added, meaning if this is read into a ```pd.DataFrame``` instance using the defaults there is an Unnamed ```pd.Series``` corresponding to the index read in:"
   ]
  },
  {
   "cell_type": "code",
   "execution_count": 161,
   "metadata": {},
   "outputs": [
    {
     "data": {
      "text/html": [
       "<div>\n",
       "<style scoped>\n",
       "    .dataframe tbody tr th:only-of-type {\n",
       "        vertical-align: middle;\n",
       "    }\n",
       "\n",
       "    .dataframe tbody tr th {\n",
       "        vertical-align: top;\n",
       "    }\n",
       "\n",
       "    .dataframe thead th {\n",
       "        text-align: right;\n",
       "    }\n",
       "</style>\n",
       "<table border=\"1\" class=\"dataframe\">\n",
       "  <thead>\n",
       "    <tr style=\"text-align: right;\">\n",
       "      <th></th>\n",
       "      <th>Unnamed: 0</th>\n",
       "      <th>string</th>\n",
       "      <th>integer</th>\n",
       "      <th>boolean</th>\n",
       "      <th>floatingpoint</th>\n",
       "      <th>date</th>\n",
       "      <th>time</th>\n",
       "      <th>category</th>\n",
       "    </tr>\n",
       "  </thead>\n",
       "  <tbody>\n",
       "    <tr>\n",
       "      <th>0</th>\n",
       "      <td>0</td>\n",
       "      <td>the fat black cat</td>\n",
       "      <td>4</td>\n",
       "      <td>True</td>\n",
       "      <td>0.86</td>\n",
       "      <td>24/07/2023</td>\n",
       "      <td>11:36:00</td>\n",
       "      <td>A</td>\n",
       "    </tr>\n",
       "    <tr>\n",
       "      <th>1</th>\n",
       "      <td>1</td>\n",
       "      <td>sat on the mat</td>\n",
       "      <td>4</td>\n",
       "      <td>True</td>\n",
       "      <td>0.86</td>\n",
       "      <td>25/07/2023</td>\n",
       "      <td>12:36:00</td>\n",
       "      <td>A</td>\n",
       "    </tr>\n",
       "    <tr>\n",
       "      <th>2</th>\n",
       "      <td>2</td>\n",
       "      <td>twinkle, twinkle</td>\n",
       "      <td>2</td>\n",
       "      <td>True</td>\n",
       "      <td>-1.14</td>\n",
       "      <td>26/07/2023</td>\n",
       "      <td>13:36:00</td>\n",
       "      <td>B</td>\n",
       "    </tr>\n",
       "    <tr>\n",
       "      <th>3</th>\n",
       "      <td>3</td>\n",
       "      <td>little star</td>\n",
       "      <td>2</td>\n",
       "      <td>True</td>\n",
       "      <td>-1.14</td>\n",
       "      <td>27/07/2023</td>\n",
       "      <td>14:36:00</td>\n",
       "      <td>B</td>\n",
       "    </tr>\n",
       "    <tr>\n",
       "      <th>4</th>\n",
       "      <td>4</td>\n",
       "      <td>how I wonder</td>\n",
       "      <td>3</td>\n",
       "      <td>False</td>\n",
       "      <td>-0.14</td>\n",
       "      <td>28/07/2023</td>\n",
       "      <td>15:36:00</td>\n",
       "      <td>B</td>\n",
       "    </tr>\n",
       "    <tr>\n",
       "      <th>5</th>\n",
       "      <td>5</td>\n",
       "      <td>what you are</td>\n",
       "      <td>4</td>\n",
       "      <td>True</td>\n",
       "      <td>0.86</td>\n",
       "      <td>29/07/2023</td>\n",
       "      <td>16:36:00</td>\n",
       "      <td>B</td>\n",
       "    </tr>\n",
       "  </tbody>\n",
       "</table>\n",
       "</div>"
      ],
      "text/plain": [
       "   Unnamed: 0             string  integer  boolean  floatingpoint        date  \\\n",
       "0           0  the fat black cat        4     True           0.86  24/07/2023   \n",
       "1           1     sat on the mat        4     True           0.86  25/07/2023   \n",
       "2           2   twinkle, twinkle        2     True          -1.14  26/07/2023   \n",
       "3           3        little star        2     True          -1.14  27/07/2023   \n",
       "4           4       how I wonder        3    False          -0.14  28/07/2023   \n",
       "5           5       what you are        4     True           0.86  29/07/2023   \n",
       "\n",
       "       time category  \n",
       "0  11:36:00        A  \n",
       "1  12:36:00        A  \n",
       "2  13:36:00        B  \n",
       "3  14:36:00        B  \n",
       "4  15:36:00        B  \n",
       "5  16:36:00        B  "
      ]
     },
     "execution_count": 161,
     "metadata": {},
     "output_type": "execute_result"
    }
   ],
   "source": [
    "pd.read_csv('./files/Book4.csv')"
   ]
  },
  {
   "attachments": {},
   "cell_type": "markdown",
   "metadata": {},
   "source": [
    "This can be assigned to the ```pd.Index``` instance associated with the ```pd.DataFrame``` using the keyword input argument ```index_col```:"
   ]
  },
  {
   "cell_type": "code",
   "execution_count": 162,
   "metadata": {},
   "outputs": [
    {
     "data": {
      "text/html": [
       "<div>\n",
       "<style scoped>\n",
       "    .dataframe tbody tr th:only-of-type {\n",
       "        vertical-align: middle;\n",
       "    }\n",
       "\n",
       "    .dataframe tbody tr th {\n",
       "        vertical-align: top;\n",
       "    }\n",
       "\n",
       "    .dataframe thead th {\n",
       "        text-align: right;\n",
       "    }\n",
       "</style>\n",
       "<table border=\"1\" class=\"dataframe\">\n",
       "  <thead>\n",
       "    <tr style=\"text-align: right;\">\n",
       "      <th></th>\n",
       "      <th>string</th>\n",
       "      <th>integer</th>\n",
       "      <th>boolean</th>\n",
       "      <th>floatingpoint</th>\n",
       "      <th>date</th>\n",
       "      <th>time</th>\n",
       "      <th>category</th>\n",
       "    </tr>\n",
       "  </thead>\n",
       "  <tbody>\n",
       "    <tr>\n",
       "      <th>0</th>\n",
       "      <td>the fat black cat</td>\n",
       "      <td>4</td>\n",
       "      <td>True</td>\n",
       "      <td>0.86</td>\n",
       "      <td>24/07/2023</td>\n",
       "      <td>11:36:00</td>\n",
       "      <td>A</td>\n",
       "    </tr>\n",
       "    <tr>\n",
       "      <th>1</th>\n",
       "      <td>sat on the mat</td>\n",
       "      <td>4</td>\n",
       "      <td>True</td>\n",
       "      <td>0.86</td>\n",
       "      <td>25/07/2023</td>\n",
       "      <td>12:36:00</td>\n",
       "      <td>A</td>\n",
       "    </tr>\n",
       "    <tr>\n",
       "      <th>2</th>\n",
       "      <td>twinkle, twinkle</td>\n",
       "      <td>2</td>\n",
       "      <td>True</td>\n",
       "      <td>-1.14</td>\n",
       "      <td>26/07/2023</td>\n",
       "      <td>13:36:00</td>\n",
       "      <td>B</td>\n",
       "    </tr>\n",
       "    <tr>\n",
       "      <th>3</th>\n",
       "      <td>little star</td>\n",
       "      <td>2</td>\n",
       "      <td>True</td>\n",
       "      <td>-1.14</td>\n",
       "      <td>27/07/2023</td>\n",
       "      <td>14:36:00</td>\n",
       "      <td>B</td>\n",
       "    </tr>\n",
       "    <tr>\n",
       "      <th>4</th>\n",
       "      <td>how I wonder</td>\n",
       "      <td>3</td>\n",
       "      <td>False</td>\n",
       "      <td>-0.14</td>\n",
       "      <td>28/07/2023</td>\n",
       "      <td>15:36:00</td>\n",
       "      <td>B</td>\n",
       "    </tr>\n",
       "    <tr>\n",
       "      <th>5</th>\n",
       "      <td>what you are</td>\n",
       "      <td>4</td>\n",
       "      <td>True</td>\n",
       "      <td>0.86</td>\n",
       "      <td>29/07/2023</td>\n",
       "      <td>16:36:00</td>\n",
       "      <td>B</td>\n",
       "    </tr>\n",
       "  </tbody>\n",
       "</table>\n",
       "</div>"
      ],
      "text/plain": [
       "              string  integer  boolean  floatingpoint        date      time  \\\n",
       "0  the fat black cat        4     True           0.86  24/07/2023  11:36:00   \n",
       "1     sat on the mat        4     True           0.86  25/07/2023  12:36:00   \n",
       "2   twinkle, twinkle        2     True          -1.14  26/07/2023  13:36:00   \n",
       "3        little star        2     True          -1.14  27/07/2023  14:36:00   \n",
       "4       how I wonder        3    False          -0.14  28/07/2023  15:36:00   \n",
       "5       what you are        4     True           0.86  29/07/2023  16:36:00   \n",
       "\n",
       "  category  \n",
       "0        A  \n",
       "1        A  \n",
       "2        B  \n",
       "3        B  \n",
       "4        B  \n",
       "5        B  "
      ]
     },
     "execution_count": 162,
     "metadata": {},
     "output_type": "execute_result"
    }
   ],
   "source": [
    "pd.read_csv('./files/Book4.csv', index_col=0)"
   ]
  },
  {
   "attachments": {},
   "cell_type": "markdown",
   "metadata": {},
   "source": [
    "Alternatively the ```pd.DataFrame``` instance can be exported without the ```pd.Index``` information:"
   ]
  },
  {
   "cell_type": "code",
   "execution_count": 163,
   "metadata": {
    "scrolled": true
   },
   "outputs": [
    {
     "data": {
      "text/plain": [
       "\u001b[1;31mSignature:\u001b[0m\n",
       "\u001b[0mdf\u001b[0m\u001b[1;33m.\u001b[0m\u001b[0mto_csv\u001b[0m\u001b[1;33m(\u001b[0m\u001b[1;33m\n",
       "\u001b[0m    \u001b[0mpath_or_buf\u001b[0m\u001b[1;33m:\u001b[0m \u001b[1;34m'FilePath | WriteBuffer[bytes] | WriteBuffer[str] | None'\u001b[0m \u001b[1;33m=\u001b[0m \u001b[1;32mNone\u001b[0m\u001b[1;33m,\u001b[0m\u001b[1;33m\n",
       "\u001b[0m    \u001b[1;33m*\u001b[0m\u001b[1;33m,\u001b[0m\u001b[1;33m\n",
       "\u001b[0m    \u001b[0msep\u001b[0m\u001b[1;33m:\u001b[0m \u001b[1;34m'str'\u001b[0m \u001b[1;33m=\u001b[0m \u001b[1;34m','\u001b[0m\u001b[1;33m,\u001b[0m\u001b[1;33m\n",
       "\u001b[0m    \u001b[0mna_rep\u001b[0m\u001b[1;33m:\u001b[0m \u001b[1;34m'str'\u001b[0m \u001b[1;33m=\u001b[0m \u001b[1;34m''\u001b[0m\u001b[1;33m,\u001b[0m\u001b[1;33m\n",
       "\u001b[0m    \u001b[0mfloat_format\u001b[0m\u001b[1;33m:\u001b[0m \u001b[1;34m'str | Callable | None'\u001b[0m \u001b[1;33m=\u001b[0m \u001b[1;32mNone\u001b[0m\u001b[1;33m,\u001b[0m\u001b[1;33m\n",
       "\u001b[0m    \u001b[0mcolumns\u001b[0m\u001b[1;33m:\u001b[0m \u001b[1;34m'Sequence[Hashable] | None'\u001b[0m \u001b[1;33m=\u001b[0m \u001b[1;32mNone\u001b[0m\u001b[1;33m,\u001b[0m\u001b[1;33m\n",
       "\u001b[0m    \u001b[0mheader\u001b[0m\u001b[1;33m:\u001b[0m \u001b[1;34m'bool_t | list[str]'\u001b[0m \u001b[1;33m=\u001b[0m \u001b[1;32mTrue\u001b[0m\u001b[1;33m,\u001b[0m\u001b[1;33m\n",
       "\u001b[0m    \u001b[0mindex\u001b[0m\u001b[1;33m:\u001b[0m \u001b[1;34m'bool_t'\u001b[0m \u001b[1;33m=\u001b[0m \u001b[1;32mTrue\u001b[0m\u001b[1;33m,\u001b[0m\u001b[1;33m\n",
       "\u001b[0m    \u001b[0mindex_label\u001b[0m\u001b[1;33m:\u001b[0m \u001b[1;34m'IndexLabel | None'\u001b[0m \u001b[1;33m=\u001b[0m \u001b[1;32mNone\u001b[0m\u001b[1;33m,\u001b[0m\u001b[1;33m\n",
       "\u001b[0m    \u001b[0mmode\u001b[0m\u001b[1;33m:\u001b[0m \u001b[1;34m'str'\u001b[0m \u001b[1;33m=\u001b[0m \u001b[1;34m'w'\u001b[0m\u001b[1;33m,\u001b[0m\u001b[1;33m\n",
       "\u001b[0m    \u001b[0mencoding\u001b[0m\u001b[1;33m:\u001b[0m \u001b[1;34m'str | None'\u001b[0m \u001b[1;33m=\u001b[0m \u001b[1;32mNone\u001b[0m\u001b[1;33m,\u001b[0m\u001b[1;33m\n",
       "\u001b[0m    \u001b[0mcompression\u001b[0m\u001b[1;33m:\u001b[0m \u001b[1;34m'CompressionOptions'\u001b[0m \u001b[1;33m=\u001b[0m \u001b[1;34m'infer'\u001b[0m\u001b[1;33m,\u001b[0m\u001b[1;33m\n",
       "\u001b[0m    \u001b[0mquoting\u001b[0m\u001b[1;33m:\u001b[0m \u001b[1;34m'int | None'\u001b[0m \u001b[1;33m=\u001b[0m \u001b[1;32mNone\u001b[0m\u001b[1;33m,\u001b[0m\u001b[1;33m\n",
       "\u001b[0m    \u001b[0mquotechar\u001b[0m\u001b[1;33m:\u001b[0m \u001b[1;34m'str'\u001b[0m \u001b[1;33m=\u001b[0m \u001b[1;34m'\"'\u001b[0m\u001b[1;33m,\u001b[0m\u001b[1;33m\n",
       "\u001b[0m    \u001b[0mlineterminator\u001b[0m\u001b[1;33m:\u001b[0m \u001b[1;34m'str | None'\u001b[0m \u001b[1;33m=\u001b[0m \u001b[1;32mNone\u001b[0m\u001b[1;33m,\u001b[0m\u001b[1;33m\n",
       "\u001b[0m    \u001b[0mchunksize\u001b[0m\u001b[1;33m:\u001b[0m \u001b[1;34m'int | None'\u001b[0m \u001b[1;33m=\u001b[0m \u001b[1;32mNone\u001b[0m\u001b[1;33m,\u001b[0m\u001b[1;33m\n",
       "\u001b[0m    \u001b[0mdate_format\u001b[0m\u001b[1;33m:\u001b[0m \u001b[1;34m'str | None'\u001b[0m \u001b[1;33m=\u001b[0m \u001b[1;32mNone\u001b[0m\u001b[1;33m,\u001b[0m\u001b[1;33m\n",
       "\u001b[0m    \u001b[0mdoublequote\u001b[0m\u001b[1;33m:\u001b[0m \u001b[1;34m'bool_t'\u001b[0m \u001b[1;33m=\u001b[0m \u001b[1;32mTrue\u001b[0m\u001b[1;33m,\u001b[0m\u001b[1;33m\n",
       "\u001b[0m    \u001b[0mescapechar\u001b[0m\u001b[1;33m:\u001b[0m \u001b[1;34m'str | None'\u001b[0m \u001b[1;33m=\u001b[0m \u001b[1;32mNone\u001b[0m\u001b[1;33m,\u001b[0m\u001b[1;33m\n",
       "\u001b[0m    \u001b[0mdecimal\u001b[0m\u001b[1;33m:\u001b[0m \u001b[1;34m'str'\u001b[0m \u001b[1;33m=\u001b[0m \u001b[1;34m'.'\u001b[0m\u001b[1;33m,\u001b[0m\u001b[1;33m\n",
       "\u001b[0m    \u001b[0merrors\u001b[0m\u001b[1;33m:\u001b[0m \u001b[1;34m'OpenFileErrors'\u001b[0m \u001b[1;33m=\u001b[0m \u001b[1;34m'strict'\u001b[0m\u001b[1;33m,\u001b[0m\u001b[1;33m\n",
       "\u001b[0m    \u001b[0mstorage_options\u001b[0m\u001b[1;33m:\u001b[0m \u001b[1;34m'StorageOptions | None'\u001b[0m \u001b[1;33m=\u001b[0m \u001b[1;32mNone\u001b[0m\u001b[1;33m,\u001b[0m\u001b[1;33m\n",
       "\u001b[0m\u001b[1;33m)\u001b[0m \u001b[1;33m->\u001b[0m \u001b[1;34m'str | None'\u001b[0m\u001b[1;33m\u001b[0m\u001b[1;33m\u001b[0m\u001b[0m\n",
       "\u001b[1;31mDocstring:\u001b[0m\n",
       "Write object to a comma-separated values (csv) file.\n",
       "\n",
       "Parameters\n",
       "----------\n",
       "path_or_buf : str, path object, file-like object, or None, default None\n",
       "    String, path object (implementing os.PathLike[str]), or file-like\n",
       "    object implementing a write() function. If None, the result is\n",
       "    returned as a string. If a non-binary file object is passed, it should\n",
       "    be opened with `newline=''`, disabling universal newlines. If a binary\n",
       "    file object is passed, `mode` might need to contain a `'b'`.\n",
       "sep : str, default ','\n",
       "    String of length 1. Field delimiter for the output file.\n",
       "na_rep : str, default ''\n",
       "    Missing data representation.\n",
       "float_format : str, Callable, default None\n",
       "    Format string for floating point numbers. If a Callable is given, it takes\n",
       "    precedence over other numeric formatting parameters, like decimal.\n",
       "columns : sequence, optional\n",
       "    Columns to write.\n",
       "header : bool or list of str, default True\n",
       "    Write out the column names. If a list of strings is given it is\n",
       "    assumed to be aliases for the column names.\n",
       "index : bool, default True\n",
       "    Write row names (index).\n",
       "index_label : str or sequence, or False, default None\n",
       "    Column label for index column(s) if desired. If None is given, and\n",
       "    `header` and `index` are True, then the index names are used. A\n",
       "    sequence should be given if the object uses MultiIndex. If\n",
       "    False do not print fields for index names. Use index_label=False\n",
       "    for easier importing in R.\n",
       "mode : {'w', 'x', 'a'}, default 'w'\n",
       "    Forwarded to either `open(mode=)` or `fsspec.open(mode=)` to control\n",
       "    the file opening. Typical values include:\n",
       "\n",
       "    - 'w', truncate the file first.\n",
       "    - 'x', exclusive creation, failing if the file already exists.\n",
       "    - 'a', append to the end of file if it exists.\n",
       "\n",
       "encoding : str, optional\n",
       "    A string representing the encoding to use in the output file,\n",
       "    defaults to 'utf-8'. `encoding` is not supported if `path_or_buf`\n",
       "    is a non-binary file object.\n",
       "compression : str or dict, default 'infer'\n",
       "    For on-the-fly compression of the output data. If 'infer' and 'path_or_buf' is\n",
       "    path-like, then detect compression from the following extensions: '.gz',\n",
       "    '.bz2', '.zip', '.xz', '.zst', '.tar', '.tar.gz', '.tar.xz' or '.tar.bz2'\n",
       "    (otherwise no compression).\n",
       "    Set to ``None`` for no compression.\n",
       "    Can also be a dict with key ``'method'`` set\n",
       "    to one of {``'zip'``, ``'gzip'``, ``'bz2'``, ``'zstd'``, ``'xz'``, ``'tar'``} and\n",
       "    other key-value pairs are forwarded to\n",
       "    ``zipfile.ZipFile``, ``gzip.GzipFile``,\n",
       "    ``bz2.BZ2File``, ``zstandard.ZstdCompressor``, ``lzma.LZMAFile`` or\n",
       "    ``tarfile.TarFile``, respectively.\n",
       "    As an example, the following could be passed for faster compression and to create\n",
       "    a reproducible gzip archive:\n",
       "    ``compression={'method': 'gzip', 'compresslevel': 1, 'mtime': 1}``.\n",
       "\n",
       "    .. versionadded:: 1.5.0\n",
       "        Added support for `.tar` files.\n",
       "\n",
       "       May be a dict with key 'method' as compression mode\n",
       "       and other entries as additional compression options if\n",
       "       compression mode is 'zip'.\n",
       "\n",
       "       Passing compression options as keys in dict is\n",
       "       supported for compression modes 'gzip', 'bz2', 'zstd', and 'zip'.\n",
       "quoting : optional constant from csv module\n",
       "    Defaults to csv.QUOTE_MINIMAL. If you have set a `float_format`\n",
       "    then floats are converted to strings and thus csv.QUOTE_NONNUMERIC\n",
       "    will treat them as non-numeric.\n",
       "quotechar : str, default '\\\"'\n",
       "    String of length 1. Character used to quote fields.\n",
       "lineterminator : str, optional\n",
       "    The newline character or character sequence to use in the output\n",
       "    file. Defaults to `os.linesep`, which depends on the OS in which\n",
       "    this method is called ('\\\\n' for linux, '\\\\r\\\\n' for Windows, i.e.).\n",
       "\n",
       "    .. versionchanged:: 1.5.0\n",
       "\n",
       "        Previously was line_terminator, changed for consistency with\n",
       "        read_csv and the standard library 'csv' module.\n",
       "\n",
       "chunksize : int or None\n",
       "    Rows to write at a time.\n",
       "date_format : str, default None\n",
       "    Format string for datetime objects.\n",
       "doublequote : bool, default True\n",
       "    Control quoting of `quotechar` inside a field.\n",
       "escapechar : str, default None\n",
       "    String of length 1. Character used to escape `sep` and `quotechar`\n",
       "    when appropriate.\n",
       "decimal : str, default '.'\n",
       "    Character recognized as decimal separator. E.g. use ',' for\n",
       "    European data.\n",
       "errors : str, default 'strict'\n",
       "    Specifies how encoding and decoding errors are to be handled.\n",
       "    See the errors argument for :func:`open` for a full list\n",
       "    of options.\n",
       "\n",
       "storage_options : dict, optional\n",
       "    Extra options that make sense for a particular storage connection, e.g.\n",
       "    host, port, username, password, etc. For HTTP(S) URLs the key-value pairs\n",
       "    are forwarded to ``urllib.request.Request`` as header options. For other\n",
       "    URLs (e.g. starting with \"s3://\", and \"gcs://\") the key-value pairs are\n",
       "    forwarded to ``fsspec.open``. Please see ``fsspec`` and ``urllib`` for more\n",
       "    details, and for more examples on storage options refer `here\n",
       "    <https://pandas.pydata.org/docs/user_guide/io.html?\n",
       "    highlight=storage_options#reading-writing-remote-files>`_.\n",
       "\n",
       "Returns\n",
       "-------\n",
       "None or str\n",
       "    If path_or_buf is None, returns the resulting csv format as a\n",
       "    string. Otherwise returns None.\n",
       "\n",
       "See Also\n",
       "--------\n",
       "read_csv : Load a CSV file into a DataFrame.\n",
       "to_excel : Write DataFrame to an Excel file.\n",
       "\n",
       "Examples\n",
       "--------\n",
       "Create 'out.csv' containing 'df' without indices\n",
       "\n",
       ">>> df = pd.DataFrame({'name': ['Raphael', 'Donatello'],\n",
       "...                    'mask': ['red', 'purple'],\n",
       "...                    'weapon': ['sai', 'bo staff']})\n",
       ">>> df.to_csv('out.csv', index=False)  # doctest: +SKIP\n",
       "\n",
       "Create 'out.zip' containing 'out.csv'\n",
       "\n",
       ">>> df.to_csv(index=False)\n",
       "'name,mask,weapon\\nRaphael,red,sai\\nDonatello,purple,bo staff\\n'\n",
       ">>> compression_opts = dict(method='zip',\n",
       "...                         archive_name='out.csv')  # doctest: +SKIP\n",
       ">>> df.to_csv('out.zip', index=False,\n",
       "...           compression=compression_opts)  # doctest: +SKIP\n",
       "\n",
       "To write a csv file to a new folder or nested folder you will first\n",
       "need to create it using either Pathlib or os:\n",
       "\n",
       ">>> from pathlib import Path  # doctest: +SKIP\n",
       ">>> filepath = Path('folder/subfolder/out.csv')  # doctest: +SKIP\n",
       ">>> filepath.parent.mkdir(parents=True, exist_ok=True)  # doctest: +SKIP\n",
       ">>> df.to_csv(filepath)  # doctest: +SKIP\n",
       "\n",
       ">>> import os  # doctest: +SKIP\n",
       ">>> os.makedirs('folder/subfolder', exist_ok=True)  # doctest: +SKIP\n",
       ">>> df.to_csv('folder/subfolder/out.csv')  # doctest: +SKIP\n",
       "\u001b[1;31mFile:\u001b[0m      c:\\users\\pyip\\miniconda3\\envs\\jupyter-env\\lib\\site-packages\\pandas\\core\\generic.py\n",
       "\u001b[1;31mType:\u001b[0m      method"
      ]
     },
     "metadata": {},
     "output_type": "display_data"
    }
   ],
   "source": [
    "df.to_csv?"
   ]
  },
  {
   "cell_type": "code",
   "execution_count": 164,
   "metadata": {},
   "outputs": [],
   "source": [
    "df.to_csv('./files/Book5.csv', index=False)"
   ]
  },
  {
   "cell_type": "markdown",
   "metadata": {},
   "source": [
    "### Tab Delimited Text File"
   ]
  },
  {
   "attachments": {},
   "cell_type": "markdown",
   "metadata": {},
   "source": [
    "To save to a text file, the separator needs to be specified:"
   ]
  },
  {
   "cell_type": "code",
   "execution_count": 165,
   "metadata": {},
   "outputs": [],
   "source": [
    "df.to_csv('./files/Book6.txt', sep='\\t', index=False)"
   ]
  },
  {
   "cell_type": "markdown",
   "metadata": {},
   "source": [
    "This is read into a ```pd.DataFrame``` instance using:"
   ]
  },
  {
   "cell_type": "code",
   "execution_count": 166,
   "metadata": {},
   "outputs": [
    {
     "data": {
      "text/html": [
       "<div>\n",
       "<style scoped>\n",
       "    .dataframe tbody tr th:only-of-type {\n",
       "        vertical-align: middle;\n",
       "    }\n",
       "\n",
       "    .dataframe tbody tr th {\n",
       "        vertical-align: top;\n",
       "    }\n",
       "\n",
       "    .dataframe thead th {\n",
       "        text-align: right;\n",
       "    }\n",
       "</style>\n",
       "<table border=\"1\" class=\"dataframe\">\n",
       "  <thead>\n",
       "    <tr style=\"text-align: right;\">\n",
       "      <th></th>\n",
       "      <th>string</th>\n",
       "      <th>integer</th>\n",
       "      <th>boolean</th>\n",
       "      <th>floatingpoint</th>\n",
       "      <th>date</th>\n",
       "      <th>time</th>\n",
       "      <th>category</th>\n",
       "    </tr>\n",
       "  </thead>\n",
       "  <tbody>\n",
       "    <tr>\n",
       "      <th>0</th>\n",
       "      <td>the fat black cat</td>\n",
       "      <td>4</td>\n",
       "      <td>True</td>\n",
       "      <td>0.86</td>\n",
       "      <td>24/07/2023</td>\n",
       "      <td>11:36:00</td>\n",
       "      <td>A</td>\n",
       "    </tr>\n",
       "    <tr>\n",
       "      <th>1</th>\n",
       "      <td>sat on the mat</td>\n",
       "      <td>4</td>\n",
       "      <td>True</td>\n",
       "      <td>0.86</td>\n",
       "      <td>25/07/2023</td>\n",
       "      <td>12:36:00</td>\n",
       "      <td>A</td>\n",
       "    </tr>\n",
       "    <tr>\n",
       "      <th>2</th>\n",
       "      <td>twinkle, twinkle</td>\n",
       "      <td>2</td>\n",
       "      <td>True</td>\n",
       "      <td>-1.14</td>\n",
       "      <td>26/07/2023</td>\n",
       "      <td>13:36:00</td>\n",
       "      <td>B</td>\n",
       "    </tr>\n",
       "    <tr>\n",
       "      <th>3</th>\n",
       "      <td>little star</td>\n",
       "      <td>2</td>\n",
       "      <td>True</td>\n",
       "      <td>-1.14</td>\n",
       "      <td>27/07/2023</td>\n",
       "      <td>14:36:00</td>\n",
       "      <td>B</td>\n",
       "    </tr>\n",
       "    <tr>\n",
       "      <th>4</th>\n",
       "      <td>how I wonder</td>\n",
       "      <td>3</td>\n",
       "      <td>False</td>\n",
       "      <td>-0.14</td>\n",
       "      <td>28/07/2023</td>\n",
       "      <td>15:36:00</td>\n",
       "      <td>B</td>\n",
       "    </tr>\n",
       "    <tr>\n",
       "      <th>5</th>\n",
       "      <td>what you are</td>\n",
       "      <td>4</td>\n",
       "      <td>True</td>\n",
       "      <td>0.86</td>\n",
       "      <td>29/07/2023</td>\n",
       "      <td>16:36:00</td>\n",
       "      <td>B</td>\n",
       "    </tr>\n",
       "  </tbody>\n",
       "</table>\n",
       "</div>"
      ],
      "text/plain": [
       "              string  integer  boolean  floatingpoint        date      time  \\\n",
       "0  the fat black cat        4     True           0.86  24/07/2023  11:36:00   \n",
       "1     sat on the mat        4     True           0.86  25/07/2023  12:36:00   \n",
       "2   twinkle, twinkle        2     True          -1.14  26/07/2023  13:36:00   \n",
       "3        little star        2     True          -1.14  27/07/2023  14:36:00   \n",
       "4       how I wonder        3    False          -0.14  28/07/2023  15:36:00   \n",
       "5       what you are        4     True           0.86  29/07/2023  16:36:00   \n",
       "\n",
       "  category  \n",
       "0        A  \n",
       "1        A  \n",
       "2        B  \n",
       "3        B  \n",
       "4        B  \n",
       "5        B  "
      ]
     },
     "execution_count": 166,
     "metadata": {},
     "output_type": "execute_result"
    }
   ],
   "source": [
    "pd.read_csv('./files/Book6.txt', sep='\\t')"
   ]
  },
  {
   "attachments": {},
   "cell_type": "markdown",
   "metadata": {},
   "source": [
    "### JavaScript Object Notation"
   ]
  },
  {
   "attachments": {},
   "cell_type": "markdown",
   "metadata": {},
   "source": [
    "A ```pd.DataFrame``` can be written to a JSON ```str``` using:"
   ]
  },
  {
   "cell_type": "code",
   "execution_count": 155,
   "metadata": {},
   "outputs": [
    {
     "data": {
      "text/plain": [
       "'{\"string\":{\"0\":\"the fat black cat\",\"1\":\"sat on the mat\",\"2\":\"twinkle, twinkle\",\"3\":\"little star\",\"4\":\"how I wonder\",\"5\":\"what you are\"},\"integer\":{\"0\":4,\"1\":4,\"2\":2,\"3\":2,\"4\":3,\"5\":4},\"boolean\":{\"0\":true,\"1\":true,\"2\":true,\"3\":true,\"4\":false,\"5\":true},\"floatingpoint\":{\"0\":0.86,\"1\":0.86,\"2\":-1.14,\"3\":-1.14,\"4\":-0.14,\"5\":0.86},\"date\":{\"0\":\"24\\\\/07\\\\/2023\",\"1\":\"25\\\\/07\\\\/2023\",\"2\":\"26\\\\/07\\\\/2023\",\"3\":\"27\\\\/07\\\\/2023\",\"4\":\"28\\\\/07\\\\/2023\",\"5\":\"29\\\\/07\\\\/2023\"},\"time\":{\"0\":\"11:36:00\",\"1\":\"12:36:00\",\"2\":\"13:36:00\",\"3\":\"14:36:00\",\"4\":\"15:36:00\",\"5\":\"16:36:00\"},\"category\":{\"0\":\"A\",\"1\":\"A\",\"2\":\"B\",\"3\":\"B\",\"4\":\"B\",\"5\":\"B\"}}'"
      ]
     },
     "execution_count": 155,
     "metadata": {},
     "output_type": "execute_result"
    }
   ],
   "source": [
    "df.to_json()"
   ]
  },
  {
   "cell_type": "markdown",
   "metadata": {},
   "source": [
    "Note that this is the same form that can be used to instantiate a ```pd.DataFrame``` instance:"
   ]
  },
  {
   "cell_type": "code",
   "execution_count": 158,
   "metadata": {
    "scrolled": true
   },
   "outputs": [
    {
     "data": {
      "text/html": [
       "<div>\n",
       "<style scoped>\n",
       "    .dataframe tbody tr th:only-of-type {\n",
       "        vertical-align: middle;\n",
       "    }\n",
       "\n",
       "    .dataframe tbody tr th {\n",
       "        vertical-align: top;\n",
       "    }\n",
       "\n",
       "    .dataframe thead th {\n",
       "        text-align: right;\n",
       "    }\n",
       "</style>\n",
       "<table border=\"1\" class=\"dataframe\">\n",
       "  <thead>\n",
       "    <tr style=\"text-align: right;\">\n",
       "      <th></th>\n",
       "      <th>string</th>\n",
       "      <th>integer</th>\n",
       "      <th>boolean</th>\n",
       "      <th>floatingpoint</th>\n",
       "      <th>date</th>\n",
       "      <th>time</th>\n",
       "      <th>category</th>\n",
       "    </tr>\n",
       "  </thead>\n",
       "  <tbody>\n",
       "    <tr>\n",
       "      <th>0</th>\n",
       "      <td>the fat black cat</td>\n",
       "      <td>4</td>\n",
       "      <td>True</td>\n",
       "      <td>0.86</td>\n",
       "      <td>2023-07-24</td>\n",
       "      <td>11:36:00</td>\n",
       "      <td>A</td>\n",
       "    </tr>\n",
       "    <tr>\n",
       "      <th>1</th>\n",
       "      <td>sat on the mat</td>\n",
       "      <td>4</td>\n",
       "      <td>True</td>\n",
       "      <td>0.86</td>\n",
       "      <td>2023-07-25</td>\n",
       "      <td>12:36:00</td>\n",
       "      <td>A</td>\n",
       "    </tr>\n",
       "    <tr>\n",
       "      <th>2</th>\n",
       "      <td>twinkle, twinkle</td>\n",
       "      <td>2</td>\n",
       "      <td>True</td>\n",
       "      <td>-1.14</td>\n",
       "      <td>2023-07-26</td>\n",
       "      <td>13:36:00</td>\n",
       "      <td>B</td>\n",
       "    </tr>\n",
       "    <tr>\n",
       "      <th>3</th>\n",
       "      <td>little star</td>\n",
       "      <td>2</td>\n",
       "      <td>True</td>\n",
       "      <td>-1.14</td>\n",
       "      <td>2023-07-27</td>\n",
       "      <td>14:36:00</td>\n",
       "      <td>B</td>\n",
       "    </tr>\n",
       "    <tr>\n",
       "      <th>4</th>\n",
       "      <td>how I wonder</td>\n",
       "      <td>3</td>\n",
       "      <td>False</td>\n",
       "      <td>-0.14</td>\n",
       "      <td>2023-07-28</td>\n",
       "      <td>15:36:00</td>\n",
       "      <td>B</td>\n",
       "    </tr>\n",
       "    <tr>\n",
       "      <th>5</th>\n",
       "      <td>what you are</td>\n",
       "      <td>4</td>\n",
       "      <td>True</td>\n",
       "      <td>0.86</td>\n",
       "      <td>2023-07-29</td>\n",
       "      <td>16:36:00</td>\n",
       "      <td>B</td>\n",
       "    </tr>\n",
       "  </tbody>\n",
       "</table>\n",
       "</div>"
      ],
      "text/plain": [
       "              string  integer  boolean  floatingpoint       date      time  \\\n",
       "0  the fat black cat        4     True           0.86 2023-07-24  11:36:00   \n",
       "1     sat on the mat        4     True           0.86 2023-07-25  12:36:00   \n",
       "2   twinkle, twinkle        2     True          -1.14 2023-07-26  13:36:00   \n",
       "3        little star        2     True          -1.14 2023-07-27  14:36:00   \n",
       "4       how I wonder        3    False          -0.14 2023-07-28  15:36:00   \n",
       "5       what you are        4     True           0.86 2023-07-29  16:36:00   \n",
       "\n",
       "  category  \n",
       "0        A  \n",
       "1        A  \n",
       "2        B  \n",
       "3        B  \n",
       "4        B  \n",
       "5        B  "
      ]
     },
     "execution_count": 158,
     "metadata": {},
     "output_type": "execute_result"
    }
   ],
   "source": [
    "pd.read_json(io.StringIO(df.to_json()))"
   ]
  },
  {
   "attachments": {},
   "cell_type": "markdown",
   "metadata": {},
   "source": [
    "Supposing there are three DataFrame instances:"
   ]
  },
  {
   "attachments": {},
   "cell_type": "markdown",
   "metadata": {},
   "source": [
    "### Microsoft Excel File"
   ]
  },
  {
   "cell_type": "markdown",
   "metadata": {},
   "source": [
    "Recall that an Excel file has sheets. For convenience multiple ```pd.DataFrame``` instances can be created by indexing into the ```pd.DataFrame``` instance ```df``` and indexing using a ```list``` of ```str``` instances, where each ```str``` instance corresponds to the name of a ```pd.Series```:"
   ]
  },
  {
   "cell_type": "code",
   "execution_count": 167,
   "metadata": {},
   "outputs": [
    {
     "data": {
      "text/html": [
       "<div>\n",
       "<style scoped>\n",
       "    .dataframe tbody tr th:only-of-type {\n",
       "        vertical-align: middle;\n",
       "    }\n",
       "\n",
       "    .dataframe tbody tr th {\n",
       "        vertical-align: top;\n",
       "    }\n",
       "\n",
       "    .dataframe thead th {\n",
       "        text-align: right;\n",
       "    }\n",
       "</style>\n",
       "<table border=\"1\" class=\"dataframe\">\n",
       "  <thead>\n",
       "    <tr style=\"text-align: right;\">\n",
       "      <th></th>\n",
       "      <th>string</th>\n",
       "      <th>integer</th>\n",
       "      <th>boolean</th>\n",
       "      <th>floatingpoint</th>\n",
       "      <th>date</th>\n",
       "      <th>time</th>\n",
       "      <th>category</th>\n",
       "    </tr>\n",
       "  </thead>\n",
       "  <tbody>\n",
       "    <tr>\n",
       "      <th>0</th>\n",
       "      <td>the fat black cat</td>\n",
       "      <td>4</td>\n",
       "      <td>True</td>\n",
       "      <td>0.86</td>\n",
       "      <td>24/07/2023</td>\n",
       "      <td>11:36:00</td>\n",
       "      <td>A</td>\n",
       "    </tr>\n",
       "    <tr>\n",
       "      <th>1</th>\n",
       "      <td>sat on the mat</td>\n",
       "      <td>4</td>\n",
       "      <td>True</td>\n",
       "      <td>0.86</td>\n",
       "      <td>25/07/2023</td>\n",
       "      <td>12:36:00</td>\n",
       "      <td>A</td>\n",
       "    </tr>\n",
       "    <tr>\n",
       "      <th>2</th>\n",
       "      <td>twinkle, twinkle</td>\n",
       "      <td>2</td>\n",
       "      <td>True</td>\n",
       "      <td>-1.14</td>\n",
       "      <td>26/07/2023</td>\n",
       "      <td>13:36:00</td>\n",
       "      <td>B</td>\n",
       "    </tr>\n",
       "    <tr>\n",
       "      <th>3</th>\n",
       "      <td>little star</td>\n",
       "      <td>2</td>\n",
       "      <td>True</td>\n",
       "      <td>-1.14</td>\n",
       "      <td>27/07/2023</td>\n",
       "      <td>14:36:00</td>\n",
       "      <td>B</td>\n",
       "    </tr>\n",
       "    <tr>\n",
       "      <th>4</th>\n",
       "      <td>how I wonder</td>\n",
       "      <td>3</td>\n",
       "      <td>False</td>\n",
       "      <td>-0.14</td>\n",
       "      <td>28/07/2023</td>\n",
       "      <td>15:36:00</td>\n",
       "      <td>B</td>\n",
       "    </tr>\n",
       "    <tr>\n",
       "      <th>5</th>\n",
       "      <td>what you are</td>\n",
       "      <td>4</td>\n",
       "      <td>True</td>\n",
       "      <td>0.86</td>\n",
       "      <td>29/07/2023</td>\n",
       "      <td>16:36:00</td>\n",
       "      <td>B</td>\n",
       "    </tr>\n",
       "  </tbody>\n",
       "</table>\n",
       "</div>"
      ],
      "text/plain": [
       "              string  integer  boolean  floatingpoint        date      time  \\\n",
       "0  the fat black cat        4     True           0.86  24/07/2023  11:36:00   \n",
       "1     sat on the mat        4     True           0.86  25/07/2023  12:36:00   \n",
       "2   twinkle, twinkle        2     True          -1.14  26/07/2023  13:36:00   \n",
       "3        little star        2     True          -1.14  27/07/2023  14:36:00   \n",
       "4       how I wonder        3    False          -0.14  28/07/2023  15:36:00   \n",
       "5       what you are        4     True           0.86  29/07/2023  16:36:00   \n",
       "\n",
       "  category  \n",
       "0        A  \n",
       "1        A  \n",
       "2        B  \n",
       "3        B  \n",
       "4        B  \n",
       "5        B  "
      ]
     },
     "execution_count": 167,
     "metadata": {},
     "output_type": "execute_result"
    }
   ],
   "source": [
    "df"
   ]
  },
  {
   "cell_type": "code",
   "execution_count": 168,
   "metadata": {},
   "outputs": [],
   "source": [
    "df1 = df[['string', 'integer', 'time']]"
   ]
  },
  {
   "cell_type": "code",
   "execution_count": 177,
   "metadata": {},
   "outputs": [
    {
     "data": {
      "text/html": [
       "<div>\n",
       "<style scoped>\n",
       "    .dataframe tbody tr th:only-of-type {\n",
       "        vertical-align: middle;\n",
       "    }\n",
       "\n",
       "    .dataframe tbody tr th {\n",
       "        vertical-align: top;\n",
       "    }\n",
       "\n",
       "    .dataframe thead th {\n",
       "        text-align: right;\n",
       "    }\n",
       "</style>\n",
       "<table border=\"1\" class=\"dataframe\">\n",
       "  <thead>\n",
       "    <tr style=\"text-align: right;\">\n",
       "      <th></th>\n",
       "      <th>string</th>\n",
       "      <th>integer</th>\n",
       "      <th>time</th>\n",
       "    </tr>\n",
       "  </thead>\n",
       "  <tbody>\n",
       "    <tr>\n",
       "      <th>0</th>\n",
       "      <td>the fat black cat</td>\n",
       "      <td>4</td>\n",
       "      <td>11:36:00</td>\n",
       "    </tr>\n",
       "    <tr>\n",
       "      <th>1</th>\n",
       "      <td>sat on the mat</td>\n",
       "      <td>4</td>\n",
       "      <td>12:36:00</td>\n",
       "    </tr>\n",
       "    <tr>\n",
       "      <th>2</th>\n",
       "      <td>twinkle, twinkle</td>\n",
       "      <td>2</td>\n",
       "      <td>13:36:00</td>\n",
       "    </tr>\n",
       "    <tr>\n",
       "      <th>3</th>\n",
       "      <td>little star</td>\n",
       "      <td>2</td>\n",
       "      <td>14:36:00</td>\n",
       "    </tr>\n",
       "    <tr>\n",
       "      <th>4</th>\n",
       "      <td>how I wonder</td>\n",
       "      <td>3</td>\n",
       "      <td>15:36:00</td>\n",
       "    </tr>\n",
       "    <tr>\n",
       "      <th>5</th>\n",
       "      <td>what you are</td>\n",
       "      <td>4</td>\n",
       "      <td>16:36:00</td>\n",
       "    </tr>\n",
       "  </tbody>\n",
       "</table>\n",
       "</div>"
      ],
      "text/plain": [
       "              string  integer      time\n",
       "0  the fat black cat        4  11:36:00\n",
       "1     sat on the mat        4  12:36:00\n",
       "2   twinkle, twinkle        2  13:36:00\n",
       "3        little star        2  14:36:00\n",
       "4       how I wonder        3  15:36:00\n",
       "5       what you are        4  16:36:00"
      ]
     },
     "execution_count": 177,
     "metadata": {},
     "output_type": "execute_result"
    }
   ],
   "source": [
    "df1"
   ]
  },
  {
   "cell_type": "code",
   "execution_count": 170,
   "metadata": {},
   "outputs": [],
   "source": [
    "df2 = df[['string', 'integer', 'boolean']]"
   ]
  },
  {
   "cell_type": "code",
   "execution_count": 171,
   "metadata": {},
   "outputs": [
    {
     "data": {
      "text/html": [
       "<div>\n",
       "<style scoped>\n",
       "    .dataframe tbody tr th:only-of-type {\n",
       "        vertical-align: middle;\n",
       "    }\n",
       "\n",
       "    .dataframe tbody tr th {\n",
       "        vertical-align: top;\n",
       "    }\n",
       "\n",
       "    .dataframe thead th {\n",
       "        text-align: right;\n",
       "    }\n",
       "</style>\n",
       "<table border=\"1\" class=\"dataframe\">\n",
       "  <thead>\n",
       "    <tr style=\"text-align: right;\">\n",
       "      <th></th>\n",
       "      <th>string</th>\n",
       "      <th>integer</th>\n",
       "      <th>boolean</th>\n",
       "    </tr>\n",
       "  </thead>\n",
       "  <tbody>\n",
       "    <tr>\n",
       "      <th>0</th>\n",
       "      <td>the fat black cat</td>\n",
       "      <td>4</td>\n",
       "      <td>True</td>\n",
       "    </tr>\n",
       "    <tr>\n",
       "      <th>1</th>\n",
       "      <td>sat on the mat</td>\n",
       "      <td>4</td>\n",
       "      <td>True</td>\n",
       "    </tr>\n",
       "    <tr>\n",
       "      <th>2</th>\n",
       "      <td>twinkle, twinkle</td>\n",
       "      <td>2</td>\n",
       "      <td>True</td>\n",
       "    </tr>\n",
       "    <tr>\n",
       "      <th>3</th>\n",
       "      <td>little star</td>\n",
       "      <td>2</td>\n",
       "      <td>True</td>\n",
       "    </tr>\n",
       "    <tr>\n",
       "      <th>4</th>\n",
       "      <td>how I wonder</td>\n",
       "      <td>3</td>\n",
       "      <td>False</td>\n",
       "    </tr>\n",
       "    <tr>\n",
       "      <th>5</th>\n",
       "      <td>what you are</td>\n",
       "      <td>4</td>\n",
       "      <td>True</td>\n",
       "    </tr>\n",
       "  </tbody>\n",
       "</table>\n",
       "</div>"
      ],
      "text/plain": [
       "              string  integer  boolean\n",
       "0  the fat black cat        4     True\n",
       "1     sat on the mat        4     True\n",
       "2   twinkle, twinkle        2     True\n",
       "3        little star        2     True\n",
       "4       how I wonder        3    False\n",
       "5       what you are        4     True"
      ]
     },
     "execution_count": 171,
     "metadata": {},
     "output_type": "execute_result"
    }
   ],
   "source": [
    "df2"
   ]
  },
  {
   "cell_type": "code",
   "execution_count": 174,
   "metadata": {},
   "outputs": [],
   "source": [
    "df3 = df[['string', 'date', 'category']]"
   ]
  },
  {
   "cell_type": "code",
   "execution_count": 175,
   "metadata": {},
   "outputs": [
    {
     "data": {
      "text/html": [
       "<div>\n",
       "<style scoped>\n",
       "    .dataframe tbody tr th:only-of-type {\n",
       "        vertical-align: middle;\n",
       "    }\n",
       "\n",
       "    .dataframe tbody tr th {\n",
       "        vertical-align: top;\n",
       "    }\n",
       "\n",
       "    .dataframe thead th {\n",
       "        text-align: right;\n",
       "    }\n",
       "</style>\n",
       "<table border=\"1\" class=\"dataframe\">\n",
       "  <thead>\n",
       "    <tr style=\"text-align: right;\">\n",
       "      <th></th>\n",
       "      <th>string</th>\n",
       "      <th>date</th>\n",
       "      <th>category</th>\n",
       "    </tr>\n",
       "  </thead>\n",
       "  <tbody>\n",
       "    <tr>\n",
       "      <th>0</th>\n",
       "      <td>the fat black cat</td>\n",
       "      <td>24/07/2023</td>\n",
       "      <td>A</td>\n",
       "    </tr>\n",
       "    <tr>\n",
       "      <th>1</th>\n",
       "      <td>sat on the mat</td>\n",
       "      <td>25/07/2023</td>\n",
       "      <td>A</td>\n",
       "    </tr>\n",
       "    <tr>\n",
       "      <th>2</th>\n",
       "      <td>twinkle, twinkle</td>\n",
       "      <td>26/07/2023</td>\n",
       "      <td>B</td>\n",
       "    </tr>\n",
       "    <tr>\n",
       "      <th>3</th>\n",
       "      <td>little star</td>\n",
       "      <td>27/07/2023</td>\n",
       "      <td>B</td>\n",
       "    </tr>\n",
       "    <tr>\n",
       "      <th>4</th>\n",
       "      <td>how I wonder</td>\n",
       "      <td>28/07/2023</td>\n",
       "      <td>B</td>\n",
       "    </tr>\n",
       "    <tr>\n",
       "      <th>5</th>\n",
       "      <td>what you are</td>\n",
       "      <td>29/07/2023</td>\n",
       "      <td>B</td>\n",
       "    </tr>\n",
       "  </tbody>\n",
       "</table>\n",
       "</div>"
      ],
      "text/plain": [
       "              string        date category\n",
       "0  the fat black cat  24/07/2023        A\n",
       "1     sat on the mat  25/07/2023        A\n",
       "2   twinkle, twinkle  26/07/2023        B\n",
       "3        little star  27/07/2023        B\n",
       "4       how I wonder  28/07/2023        B\n",
       "5       what you are  29/07/2023        B"
      ]
     },
     "execution_count": 175,
     "metadata": {},
     "output_type": "execute_result"
    }
   ],
   "source": [
    "df3"
   ]
  },
  {
   "attachments": {},
   "cell_type": "markdown",
   "metadata": {},
   "source": [
    "The ```pd.DataFrame``` method ```to_excel``` allows the writing of multiple ```pd.DataFrame``` instances to individual sheets within an Excel File:"
   ]
  },
  {
   "cell_type": "code",
   "execution_count": 178,
   "metadata": {
    "scrolled": true
   },
   "outputs": [
    {
     "data": {
      "text/plain": [
       "\u001b[1;31mSignature:\u001b[0m\n",
       "\u001b[0mdf\u001b[0m\u001b[1;33m.\u001b[0m\u001b[0mto_excel\u001b[0m\u001b[1;33m(\u001b[0m\u001b[1;33m\n",
       "\u001b[0m    \u001b[0mexcel_writer\u001b[0m\u001b[1;33m:\u001b[0m \u001b[1;34m'FilePath | WriteExcelBuffer | ExcelWriter'\u001b[0m\u001b[1;33m,\u001b[0m\u001b[1;33m\n",
       "\u001b[0m    \u001b[1;33m*\u001b[0m\u001b[1;33m,\u001b[0m\u001b[1;33m\n",
       "\u001b[0m    \u001b[0msheet_name\u001b[0m\u001b[1;33m:\u001b[0m \u001b[1;34m'str'\u001b[0m \u001b[1;33m=\u001b[0m \u001b[1;34m'Sheet1'\u001b[0m\u001b[1;33m,\u001b[0m\u001b[1;33m\n",
       "\u001b[0m    \u001b[0mna_rep\u001b[0m\u001b[1;33m:\u001b[0m \u001b[1;34m'str'\u001b[0m \u001b[1;33m=\u001b[0m \u001b[1;34m''\u001b[0m\u001b[1;33m,\u001b[0m\u001b[1;33m\n",
       "\u001b[0m    \u001b[0mfloat_format\u001b[0m\u001b[1;33m:\u001b[0m \u001b[1;34m'str | None'\u001b[0m \u001b[1;33m=\u001b[0m \u001b[1;32mNone\u001b[0m\u001b[1;33m,\u001b[0m\u001b[1;33m\n",
       "\u001b[0m    \u001b[0mcolumns\u001b[0m\u001b[1;33m:\u001b[0m \u001b[1;34m'Sequence[Hashable] | None'\u001b[0m \u001b[1;33m=\u001b[0m \u001b[1;32mNone\u001b[0m\u001b[1;33m,\u001b[0m\u001b[1;33m\n",
       "\u001b[0m    \u001b[0mheader\u001b[0m\u001b[1;33m:\u001b[0m \u001b[1;34m'Sequence[Hashable] | bool_t'\u001b[0m \u001b[1;33m=\u001b[0m \u001b[1;32mTrue\u001b[0m\u001b[1;33m,\u001b[0m\u001b[1;33m\n",
       "\u001b[0m    \u001b[0mindex\u001b[0m\u001b[1;33m:\u001b[0m \u001b[1;34m'bool_t'\u001b[0m \u001b[1;33m=\u001b[0m \u001b[1;32mTrue\u001b[0m\u001b[1;33m,\u001b[0m\u001b[1;33m\n",
       "\u001b[0m    \u001b[0mindex_label\u001b[0m\u001b[1;33m:\u001b[0m \u001b[1;34m'IndexLabel | None'\u001b[0m \u001b[1;33m=\u001b[0m \u001b[1;32mNone\u001b[0m\u001b[1;33m,\u001b[0m\u001b[1;33m\n",
       "\u001b[0m    \u001b[0mstartrow\u001b[0m\u001b[1;33m:\u001b[0m \u001b[1;34m'int'\u001b[0m \u001b[1;33m=\u001b[0m \u001b[1;36m0\u001b[0m\u001b[1;33m,\u001b[0m\u001b[1;33m\n",
       "\u001b[0m    \u001b[0mstartcol\u001b[0m\u001b[1;33m:\u001b[0m \u001b[1;34m'int'\u001b[0m \u001b[1;33m=\u001b[0m \u001b[1;36m0\u001b[0m\u001b[1;33m,\u001b[0m\u001b[1;33m\n",
       "\u001b[0m    \u001b[0mengine\u001b[0m\u001b[1;33m:\u001b[0m \u001b[1;34m\"Literal['openpyxl', 'xlsxwriter'] | None\"\u001b[0m \u001b[1;33m=\u001b[0m \u001b[1;32mNone\u001b[0m\u001b[1;33m,\u001b[0m\u001b[1;33m\n",
       "\u001b[0m    \u001b[0mmerge_cells\u001b[0m\u001b[1;33m:\u001b[0m \u001b[1;34m'bool_t'\u001b[0m \u001b[1;33m=\u001b[0m \u001b[1;32mTrue\u001b[0m\u001b[1;33m,\u001b[0m\u001b[1;33m\n",
       "\u001b[0m    \u001b[0minf_rep\u001b[0m\u001b[1;33m:\u001b[0m \u001b[1;34m'str'\u001b[0m \u001b[1;33m=\u001b[0m \u001b[1;34m'inf'\u001b[0m\u001b[1;33m,\u001b[0m\u001b[1;33m\n",
       "\u001b[0m    \u001b[0mfreeze_panes\u001b[0m\u001b[1;33m:\u001b[0m \u001b[1;34m'tuple[int, int] | None'\u001b[0m \u001b[1;33m=\u001b[0m \u001b[1;32mNone\u001b[0m\u001b[1;33m,\u001b[0m\u001b[1;33m\n",
       "\u001b[0m    \u001b[0mstorage_options\u001b[0m\u001b[1;33m:\u001b[0m \u001b[1;34m'StorageOptions | None'\u001b[0m \u001b[1;33m=\u001b[0m \u001b[1;32mNone\u001b[0m\u001b[1;33m,\u001b[0m\u001b[1;33m\n",
       "\u001b[0m    \u001b[0mengine_kwargs\u001b[0m\u001b[1;33m:\u001b[0m \u001b[1;34m'dict[str, Any] | None'\u001b[0m \u001b[1;33m=\u001b[0m \u001b[1;32mNone\u001b[0m\u001b[1;33m,\u001b[0m\u001b[1;33m\n",
       "\u001b[0m\u001b[1;33m)\u001b[0m \u001b[1;33m->\u001b[0m \u001b[1;34m'None'\u001b[0m\u001b[1;33m\u001b[0m\u001b[1;33m\u001b[0m\u001b[0m\n",
       "\u001b[1;31mDocstring:\u001b[0m\n",
       "Write object to an Excel sheet.\n",
       "\n",
       "To write a single object to an Excel .xlsx file it is only necessary to\n",
       "specify a target file name. To write to multiple sheets it is necessary to\n",
       "create an `ExcelWriter` object with a target file name, and specify a sheet\n",
       "in the file to write to.\n",
       "\n",
       "Multiple sheets may be written to by specifying unique `sheet_name`.\n",
       "With all data written to the file it is necessary to save the changes.\n",
       "Note that creating an `ExcelWriter` object with a file name that already\n",
       "exists will result in the contents of the existing file being erased.\n",
       "\n",
       "Parameters\n",
       "----------\n",
       "excel_writer : path-like, file-like, or ExcelWriter object\n",
       "    File path or existing ExcelWriter.\n",
       "sheet_name : str, default 'Sheet1'\n",
       "    Name of sheet which will contain DataFrame.\n",
       "na_rep : str, default ''\n",
       "    Missing data representation.\n",
       "float_format : str, optional\n",
       "    Format string for floating point numbers. For example\n",
       "    ``float_format=\"%.2f\"`` will format 0.1234 to 0.12.\n",
       "columns : sequence or list of str, optional\n",
       "    Columns to write.\n",
       "header : bool or list of str, default True\n",
       "    Write out the column names. If a list of string is given it is\n",
       "    assumed to be aliases for the column names.\n",
       "index : bool, default True\n",
       "    Write row names (index).\n",
       "index_label : str or sequence, optional\n",
       "    Column label for index column(s) if desired. If not specified, and\n",
       "    `header` and `index` are True, then the index names are used. A\n",
       "    sequence should be given if the DataFrame uses MultiIndex.\n",
       "startrow : int, default 0\n",
       "    Upper left cell row to dump data frame.\n",
       "startcol : int, default 0\n",
       "    Upper left cell column to dump data frame.\n",
       "engine : str, optional\n",
       "    Write engine to use, 'openpyxl' or 'xlsxwriter'. You can also set this\n",
       "    via the options ``io.excel.xlsx.writer`` or\n",
       "    ``io.excel.xlsm.writer``.\n",
       "\n",
       "merge_cells : bool, default True\n",
       "    Write MultiIndex and Hierarchical Rows as merged cells.\n",
       "inf_rep : str, default 'inf'\n",
       "    Representation for infinity (there is no native representation for\n",
       "    infinity in Excel).\n",
       "freeze_panes : tuple of int (length 2), optional\n",
       "    Specifies the one-based bottommost row and rightmost column that\n",
       "    is to be frozen.\n",
       "storage_options : dict, optional\n",
       "    Extra options that make sense for a particular storage connection, e.g.\n",
       "    host, port, username, password, etc. For HTTP(S) URLs the key-value pairs\n",
       "    are forwarded to ``urllib.request.Request`` as header options. For other\n",
       "    URLs (e.g. starting with \"s3://\", and \"gcs://\") the key-value pairs are\n",
       "    forwarded to ``fsspec.open``. Please see ``fsspec`` and ``urllib`` for more\n",
       "    details, and for more examples on storage options refer `here\n",
       "    <https://pandas.pydata.org/docs/user_guide/io.html?\n",
       "    highlight=storage_options#reading-writing-remote-files>`_.\n",
       "\n",
       "    .. versionadded:: 1.2.0\n",
       "engine_kwargs : dict, optional\n",
       "    Arbitrary keyword arguments passed to excel engine.\n",
       "\n",
       "See Also\n",
       "--------\n",
       "to_csv : Write DataFrame to a comma-separated values (csv) file.\n",
       "ExcelWriter : Class for writing DataFrame objects into excel sheets.\n",
       "read_excel : Read an Excel file into a pandas DataFrame.\n",
       "read_csv : Read a comma-separated values (csv) file into DataFrame.\n",
       "io.formats.style.Styler.to_excel : Add styles to Excel sheet.\n",
       "\n",
       "Notes\n",
       "-----\n",
       "For compatibility with :meth:`~DataFrame.to_csv`,\n",
       "to_excel serializes lists and dicts to strings before writing.\n",
       "\n",
       "Once a workbook has been saved it is not possible to write further\n",
       "data without rewriting the whole workbook.\n",
       "\n",
       "Examples\n",
       "--------\n",
       "\n",
       "Create, write to and save a workbook:\n",
       "\n",
       ">>> df1 = pd.DataFrame([['a', 'b'], ['c', 'd']],\n",
       "...                    index=['row 1', 'row 2'],\n",
       "...                    columns=['col 1', 'col 2'])\n",
       ">>> df1.to_excel(\"output.xlsx\")  # doctest: +SKIP\n",
       "\n",
       "To specify the sheet name:\n",
       "\n",
       ">>> df1.to_excel(\"output.xlsx\",\n",
       "...              sheet_name='Sheet_name_1')  # doctest: +SKIP\n",
       "\n",
       "If you wish to write to more than one sheet in the workbook, it is\n",
       "necessary to specify an ExcelWriter object:\n",
       "\n",
       ">>> df2 = df1.copy()\n",
       ">>> with pd.ExcelWriter('output.xlsx') as writer:  # doctest: +SKIP\n",
       "...     df1.to_excel(writer, sheet_name='Sheet_name_1')\n",
       "...     df2.to_excel(writer, sheet_name='Sheet_name_2')\n",
       "\n",
       "ExcelWriter can also be used to append to an existing Excel file:\n",
       "\n",
       ">>> with pd.ExcelWriter('output.xlsx',\n",
       "...                     mode='a') as writer:  # doctest: +SKIP\n",
       "...     df1.to_excel(writer, sheet_name='Sheet_name_3')\n",
       "\n",
       "To set the library that is used to write the Excel file,\n",
       "you can pass the `engine` keyword (the default engine is\n",
       "automatically chosen depending on the file extension):\n",
       "\n",
       ">>> df1.to_excel('output1.xlsx', engine='xlsxwriter')  # doctest: +SKIP\n",
       "\u001b[1;31mFile:\u001b[0m      c:\\users\\pyip\\miniconda3\\envs\\jupyter-env\\lib\\site-packages\\pandas\\core\\generic.py\n",
       "\u001b[1;31mType:\u001b[0m      method"
      ]
     },
     "metadata": {},
     "output_type": "display_data"
    }
   ],
   "source": [
    "df.to_excel?"
   ]
  },
  {
   "attachments": {},
   "cell_type": "markdown",
   "metadata": {},
   "source": [
    "To write ```pd.DataFrame``` instances to multiple sheets an ```pd.ExcelWriter``` instance has to be instantiated and given the instruction to create a blank Excel File:"
   ]
  },
  {
   "cell_type": "code",
   "execution_count": 179,
   "metadata": {},
   "outputs": [],
   "source": [
    "writer = pd.ExcelWriter(path='./files/Book7.xlsx')"
   ]
  },
  {
   "attachments": {},
   "cell_type": "markdown",
   "metadata": {},
   "source": [
    "The ```DataFrame``` method ```to_excel``` can then be used to instruct the ```ExcelWriter``` instance to write the ```df.DataFrame``` instance to a specified sheet:"
   ]
  },
  {
   "cell_type": "code",
   "execution_count": 180,
   "metadata": {},
   "outputs": [],
   "source": [
    "df1.to_excel(excel_writer=writer, sheet_name='sheet1')\n",
    "df2.to_excel(excel_writer=writer, sheet_name='sheet2')\n",
    "df3.to_excel(excel_writer=writer, sheet_name='sheet3')"
   ]
  },
  {
   "attachments": {},
   "cell_type": "markdown",
   "metadata": {},
   "source": [
    "Details about the sheets being written can be seen using the ```ExcelWriter``` attribute ```sheets``` which is a mapping where the key is the sheet name and the value is the sheet being written:"
   ]
  },
  {
   "cell_type": "code",
   "execution_count": 181,
   "metadata": {},
   "outputs": [
    {
     "data": {
      "text/plain": [
       "{'sheet1': <xlsxwriter.worksheet.Worksheet at 0x221db0e2030>,\n",
       " 'sheet2': <xlsxwriter.worksheet.Worksheet at 0x221d9cce450>,\n",
       " 'sheet3': <xlsxwriter.worksheet.Worksheet at 0x221d774fe60>}"
      ]
     },
     "execution_count": 181,
     "metadata": {},
     "output_type": "execute_result"
    }
   ],
   "source": [
    "writer.sheets"
   ]
  },
  {
   "attachments": {},
   "cell_type": "markdown",
   "metadata": {},
   "source": [
    "Finally the ```ExcelWriter``` instance can be closed. This will release the Excel SpreadSheet from Python:"
   ]
  },
  {
   "cell_type": "code",
   "execution_count": 182,
   "metadata": {},
   "outputs": [],
   "source": [
    "writer.close()"
   ]
  },
  {
   "attachments": {},
   "cell_type": "markdown",
   "metadata": {},
   "source": [
    "<img src='./images/img_003.png' alt='img_003' width='800'/>\n",
    "\n",
    "<img src='./images/img_004.png' alt='img_004' width='800'/>\n",
    "\n",
    "<img src='./images/img_005.png' alt='img_005' width='800'/>"
   ]
  },
  {
   "attachments": {},
   "cell_type": "markdown",
   "metadata": {},
   "source": [
    "The identifiers of the ```ExcelWriter``` class can be examined:"
   ]
  },
  {
   "cell_type": "code",
   "execution_count": 184,
   "metadata": {
    "scrolled": true
   },
   "outputs": [
    {
     "name": "stdout",
     "output_type": "stream",
     "text": [
      "{'attribute': ['book',\n",
      "               'date_format',\n",
      "               'datetime_format',\n",
      "               'engine',\n",
      "               'if_sheet_exists',\n",
      "               'sheets',\n",
      "               'supported_extensions'],\n",
      " 'method': ['check_extension', 'close'],\n",
      " 'datamodel_attribute': ['__annotations__',\n",
      "                         '__dict__',\n",
      "                         '__doc__',\n",
      "                         '__module__',\n",
      "                         '__orig_bases__',\n",
      "                         '__parameters__',\n",
      "                         '__weakref__'],\n",
      " 'datamodel_method': ['__class__',\n",
      "                      '__class_getitem__',\n",
      "                      '__delattr__',\n",
      "                      '__dir__',\n",
      "                      '__enter__',\n",
      "                      '__eq__',\n",
      "                      '__exit__',\n",
      "                      '__format__',\n",
      "                      '__fspath__',\n",
      "                      '__ge__',\n",
      "                      '__getattribute__',\n",
      "                      '__getstate__',\n",
      "                      '__gt__',\n",
      "                      '__hash__',\n",
      "                      '__init__',\n",
      "                      '__init_subclass__',\n",
      "                      '__le__',\n",
      "                      '__lt__',\n",
      "                      '__ne__',\n",
      "                      '__new__',\n",
      "                      '__reduce__',\n",
      "                      '__reduce_ex__',\n",
      "                      '__repr__',\n",
      "                      '__setattr__',\n",
      "                      '__sizeof__',\n",
      "                      '__str__',\n",
      "                      '__subclasshook__']}\n"
     ]
    }
   ],
   "source": [
    "dir2(pd.ExcelWriter, drop_internal=True)"
   ]
  },
  {
   "cell_type": "markdown",
   "metadata": {},
   "source": [
    "Notice it has the datamodel identifiers ```__enter__``` and ```__exit__``` which means it can be used within a ```with``` code block. The ```with``` code block will automatically close the ```ExcelWriter``` class when the block ends and is the safest to create the file, write multiple sheets to it and close the file::"
   ]
  },
  {
   "cell_type": "code",
   "execution_count": 185,
   "metadata": {},
   "outputs": [],
   "source": [
    "with pd.ExcelWriter('./files/Book8.xlsx') as writer:  \n",
    "    df1.to_excel(writer, sheet_name='df1', index=False)\n",
    "    df2.to_excel(writer, sheet_name='df2', index=False)\n",
    "    df3.to_excel(writer, sheet_name='df3', index=False)"
   ]
  },
  {
   "cell_type": "markdown",
   "metadata": {},
   "source": [
    "### Markdown"
   ]
  },
  {
   "cell_type": "markdown",
   "metadata": {},
   "source": [
    "A ```pd.DataFrame``` instance can be exported into a markdown ```str``` using:"
   ]
  },
  {
   "cell_type": "code",
   "execution_count": 191,
   "metadata": {},
   "outputs": [
    {
     "data": {
      "text/plain": [
       "'|    | string            |   integer | boolean   |   floatingpoint | date       | time     | category   |\\n|---:|:------------------|----------:|:----------|----------------:|:-----------|:---------|:-----------|\\n|  0 | the fat black cat |         4 | True      |            0.86 | 24/07/2023 | 11:36:00 | A          |\\n|  1 | sat on the mat    |         4 | True      |            0.86 | 25/07/2023 | 12:36:00 | A          |\\n|  2 | twinkle, twinkle  |         2 | True      |           -1.14 | 26/07/2023 | 13:36:00 | B          |\\n|  3 | little star       |         2 | True      |           -1.14 | 27/07/2023 | 14:36:00 | B          |\\n|  4 | how I wonder      |         3 | False     |           -0.14 | 28/07/2023 | 15:36:00 | B          |\\n|  5 | what you are      |         4 | True      |            0.86 | 29/07/2023 | 16:36:00 | B          |'"
      ]
     },
     "execution_count": 191,
     "metadata": {},
     "output_type": "execute_result"
    }
   ],
   "source": [
    "df.to_markdown()"
   ]
  },
  {
   "cell_type": "markdown",
   "metadata": {},
   "source": [
    "When this is printed, it has the following form:"
   ]
  },
  {
   "cell_type": "code",
   "execution_count": 190,
   "metadata": {},
   "outputs": [
    {
     "name": "stdout",
     "output_type": "stream",
     "text": [
      "|    | string            |   integer | boolean   |   floatingpoint | date       | time     | category   |\n",
      "|---:|:------------------|----------:|:----------|----------------:|:-----------|:---------|:-----------|\n",
      "|  0 | the fat black cat |         4 | True      |            0.86 | 24/07/2023 | 11:36:00 | A          |\n",
      "|  1 | sat on the mat    |         4 | True      |            0.86 | 25/07/2023 | 12:36:00 | A          |\n",
      "|  2 | twinkle, twinkle  |         2 | True      |           -1.14 | 26/07/2023 | 13:36:00 | B          |\n",
      "|  3 | little star       |         2 | True      |           -1.14 | 27/07/2023 | 14:36:00 | B          |\n",
      "|  4 | how I wonder      |         3 | False     |           -0.14 | 28/07/2023 | 15:36:00 | B          |\n",
      "|  5 | what you are      |         4 | True      |            0.86 | 29/07/2023 | 16:36:00 | B          |\n"
     ]
    }
   ],
   "source": [
    "print(df.to_markdown())"
   ]
  },
  {
   "cell_type": "markdown",
   "metadata": {},
   "source": [
    "And when this printed format is copied into a markdown cell, it looks like:\n",
    "\n",
    "|    | string            |   integer | boolean   |   floatingpoint | date       | time     | category   |\r\n",
    "|---:|:------------------|----------:|:----------|----------------:|:-----------|:---------|:-----------|\r\n",
    "|  0 | the fat black cat |         4 | True      |            0.86 | 24/07/2023 | 11:36:00 | A          |\r\n",
    "|  1 | sat on the mat    |         4 | True      |            0.86 | 25/07/2023 | 12:36:00 | A          |\r\n",
    "|  2 | twinkle, twinkle  |         2 | True      |           -1.14 | 26/07/2023 | 13:36:00 | B          |\r\n",
    "|  3 | little star       |         2 | True      |           -1.14 | 27/07/2023 | 14:36:00 | B          |\r\n",
    "|  4 | how I wonder      |         3 | False     |           -0.14 | 28/07/2023 | 15:36:00 | B          |\r\n",
    "|  5 | what you are      |         4 | True      |            0.86 | 29/07/2023 | 16:36:00 | B          |"
   ]
  },
  {
   "attachments": {},
   "cell_type": "markdown",
   "metadata": {},
   "source": [
    "## Series Identifiers"
   ]
  },
  {
   "cell_type": "markdown",
   "metadata": {},
   "source": [
    "The identifiers for a ```pd.Series``` are:"
   ]
  },
  {
   "cell_type": "code",
   "execution_count": 216,
   "metadata": {
    "scrolled": true
   },
   "outputs": [
    {
     "name": "stdout",
     "output_type": "stream",
     "text": [
      "{'attribute': ['array',\n",
      "               'at',\n",
      "               'attrs',\n",
      "               'axes',\n",
      "               'dtype',\n",
      "               'dtypes',\n",
      "               'empty',\n",
      "               'flags',\n",
      "               'hasnans',\n",
      "               'iat',\n",
      "               'iloc',\n",
      "               'index',\n",
      "               'is_monotonic_decreasing',\n",
      "               'is_monotonic_increasing',\n",
      "               'is_unique',\n",
      "               'loc',\n",
      "               'name',\n",
      "               'nbytes',\n",
      "               'ndim',\n",
      "               'shape',\n",
      "               'size',\n",
      "               'values'],\n",
      " 'constant': ['T'],\n",
      " 'method': ['abs',\n",
      "            'add',\n",
      "            'add_prefix',\n",
      "            'add_suffix',\n",
      "            'agg',\n",
      "            'aggregate',\n",
      "            'align',\n",
      "            'all',\n",
      "            'any',\n",
      "            'apply',\n",
      "            'argmax',\n",
      "            'argmin',\n",
      "            'argsort',\n",
      "            'asfreq',\n",
      "            'asof',\n",
      "            'astype',\n",
      "            'at_time',\n",
      "            'autocorr',\n",
      "            'backfill',\n",
      "            'between',\n",
      "            'between_time',\n",
      "            'bfill',\n",
      "            'bool',\n",
      "            'case_when',\n",
      "            'clip',\n",
      "            'combine',\n",
      "            'combine_first',\n",
      "            'compare',\n",
      "            'convert_dtypes',\n",
      "            'copy',\n",
      "            'corr',\n",
      "            'count',\n",
      "            'cov',\n",
      "            'cummax',\n",
      "            'cummin',\n",
      "            'cumprod',\n",
      "            'cumsum',\n",
      "            'describe',\n",
      "            'diff',\n",
      "            'div',\n",
      "            'divide',\n",
      "            'divmod',\n",
      "            'dot',\n",
      "            'drop',\n",
      "            'drop_duplicates',\n",
      "            'droplevel',\n",
      "            'dropna',\n",
      "            'duplicated',\n",
      "            'eq',\n",
      "            'equals',\n",
      "            'ewm',\n",
      "            'expanding',\n",
      "            'explode',\n",
      "            'factorize',\n",
      "            'ffill',\n",
      "            'fillna',\n",
      "            'filter',\n",
      "            'first',\n",
      "            'first_valid_index',\n",
      "            'floordiv',\n",
      "            'ge',\n",
      "            'get',\n",
      "            'groupby',\n",
      "            'gt',\n",
      "            'head',\n",
      "            'hist',\n",
      "            'idxmax',\n",
      "            'idxmin',\n",
      "            'infer_objects',\n",
      "            'info',\n",
      "            'interpolate',\n",
      "            'isin',\n",
      "            'isna',\n",
      "            'isnull',\n",
      "            'item',\n",
      "            'items',\n",
      "            'keys',\n",
      "            'kurt',\n",
      "            'kurtosis',\n",
      "            'last',\n",
      "            'last_valid_index',\n",
      "            'le',\n",
      "            'lt',\n",
      "            'map',\n",
      "            'mask',\n",
      "            'max',\n",
      "            'mean',\n",
      "            'median',\n",
      "            'memory_usage',\n",
      "            'min',\n",
      "            'mod',\n",
      "            'mode',\n",
      "            'mul',\n",
      "            'multiply',\n",
      "            'ne',\n",
      "            'nlargest',\n",
      "            'notna',\n",
      "            'notnull',\n",
      "            'nsmallest',\n",
      "            'nunique',\n",
      "            'pad',\n",
      "            'pct_change',\n",
      "            'pipe',\n",
      "            'pop',\n",
      "            'pow',\n",
      "            'prod',\n",
      "            'product',\n",
      "            'quantile',\n",
      "            'radd',\n",
      "            'rank',\n",
      "            'ravel',\n",
      "            'rdiv',\n",
      "            'rdivmod',\n",
      "            'reindex',\n",
      "            'reindex_like',\n",
      "            'rename',\n",
      "            'rename_axis',\n",
      "            'reorder_levels',\n",
      "            'repeat',\n",
      "            'replace',\n",
      "            'resample',\n",
      "            'reset_index',\n",
      "            'rfloordiv',\n",
      "            'rmod',\n",
      "            'rmul',\n",
      "            'rolling',\n",
      "            'round',\n",
      "            'rpow',\n",
      "            'rsub',\n",
      "            'rtruediv',\n",
      "            'sample',\n",
      "            'searchsorted',\n",
      "            'sem',\n",
      "            'set_axis',\n",
      "            'set_flags',\n",
      "            'shift',\n",
      "            'skew',\n",
      "            'sort_index',\n",
      "            'sort_values',\n",
      "            'squeeze',\n",
      "            'std',\n",
      "            'sub',\n",
      "            'subtract',\n",
      "            'sum',\n",
      "            'swapaxes',\n",
      "            'swaplevel',\n",
      "            'tail',\n",
      "            'take',\n",
      "            'to_clipboard',\n",
      "            'to_csv',\n",
      "            'to_dict',\n",
      "            'to_excel',\n",
      "            'to_frame',\n",
      "            'to_hdf',\n",
      "            'to_json',\n",
      "            'to_latex',\n",
      "            'to_list',\n",
      "            'to_markdown',\n",
      "            'to_numpy',\n",
      "            'to_period',\n",
      "            'to_pickle',\n",
      "            'to_sql',\n",
      "            'to_string',\n",
      "            'to_timestamp',\n",
      "            'to_xarray',\n",
      "            'tolist',\n",
      "            'transform',\n",
      "            'transpose',\n",
      "            'truediv',\n",
      "            'truncate',\n",
      "            'tz_convert',\n",
      "            'tz_localize',\n",
      "            'unique',\n",
      "            'unstack',\n",
      "            'update',\n",
      "            'value_counts',\n",
      "            'var',\n",
      "            'view',\n",
      "            'where',\n",
      "            'xs'],\n",
      " 'lower_class': ['cat', 'dt', 'list', 'plot', 'sparse', 'str', 'struct'],\n",
      " 'datamodel_attribute': ['__annotations__',\n",
      "                         '__array_priority__',\n",
      "                         '__dict__',\n",
      "                         '__doc__',\n",
      "                         '__hash__',\n",
      "                         '__module__',\n",
      "                         '__pandas_priority__',\n",
      "                         '__weakref__'],\n",
      " 'datamodel_method': ['__abs__',\n",
      "                      '__add__',\n",
      "                      '__and__',\n",
      "                      '__array__',\n",
      "                      '__array_ufunc__',\n",
      "                      '__bool__',\n",
      "                      '__class__',\n",
      "                      '__column_consortium_standard__',\n",
      "                      '__contains__',\n",
      "                      '__copy__',\n",
      "                      '__deepcopy__',\n",
      "                      '__delattr__',\n",
      "                      '__delitem__',\n",
      "                      '__dir__',\n",
      "                      '__divmod__',\n",
      "                      '__eq__',\n",
      "                      '__finalize__',\n",
      "                      '__float__',\n",
      "                      '__floordiv__',\n",
      "                      '__format__',\n",
      "                      '__ge__',\n",
      "                      '__getattr__',\n",
      "                      '__getattribute__',\n",
      "                      '__getitem__',\n",
      "                      '__getstate__',\n",
      "                      '__gt__',\n",
      "                      '__iadd__',\n",
      "                      '__iand__',\n",
      "                      '__ifloordiv__',\n",
      "                      '__imod__',\n",
      "                      '__imul__',\n",
      "                      '__init__',\n",
      "                      '__init_subclass__',\n",
      "                      '__int__',\n",
      "                      '__invert__',\n",
      "                      '__ior__',\n",
      "                      '__ipow__',\n",
      "                      '__isub__',\n",
      "                      '__iter__',\n",
      "                      '__itruediv__',\n",
      "                      '__ixor__',\n",
      "                      '__le__',\n",
      "                      '__len__',\n",
      "                      '__lt__',\n",
      "                      '__matmul__',\n",
      "                      '__mod__',\n",
      "                      '__mul__',\n",
      "                      '__ne__',\n",
      "                      '__neg__',\n",
      "                      '__new__',\n",
      "                      '__nonzero__',\n",
      "                      '__or__',\n",
      "                      '__pos__',\n",
      "                      '__pow__',\n",
      "                      '__radd__',\n",
      "                      '__rand__',\n",
      "                      '__rdivmod__',\n",
      "                      '__reduce__',\n",
      "                      '__reduce_ex__',\n",
      "                      '__repr__',\n",
      "                      '__rfloordiv__',\n",
      "                      '__rmatmul__',\n",
      "                      '__rmod__',\n",
      "                      '__rmul__',\n",
      "                      '__ror__',\n",
      "                      '__round__',\n",
      "                      '__rpow__',\n",
      "                      '__rsub__',\n",
      "                      '__rtruediv__',\n",
      "                      '__rxor__',\n",
      "                      '__setattr__',\n",
      "                      '__setitem__',\n",
      "                      '__setstate__',\n",
      "                      '__sizeof__',\n",
      "                      '__str__',\n",
      "                      '__sub__',\n",
      "                      '__subclasshook__',\n",
      "                      '__truediv__',\n",
      "                      '__xor__']}\n"
     ]
    }
   ],
   "source": [
    "dir2(pd.Series, drop_internal=True)"
   ]
  },
  {
   "cell_type": "markdown",
   "metadata": {},
   "source": [
    "The initialisation signature for a ```pd.Series``` can be examined:"
   ]
  },
  {
   "cell_type": "code",
   "execution_count": 228,
   "metadata": {
    "scrolled": true
   },
   "outputs": [
    {
     "data": {
      "text/plain": [
       "\u001b[1;31mInit signature:\u001b[0m\n",
       "\u001b[0mpd\u001b[0m\u001b[1;33m.\u001b[0m\u001b[0mSeries\u001b[0m\u001b[1;33m(\u001b[0m\u001b[1;33m\n",
       "\u001b[0m    \u001b[0mdata\u001b[0m\u001b[1;33m=\u001b[0m\u001b[1;32mNone\u001b[0m\u001b[1;33m,\u001b[0m\u001b[1;33m\n",
       "\u001b[0m    \u001b[0mindex\u001b[0m\u001b[1;33m=\u001b[0m\u001b[1;32mNone\u001b[0m\u001b[1;33m,\u001b[0m\u001b[1;33m\n",
       "\u001b[0m    \u001b[0mdtype\u001b[0m\u001b[1;33m:\u001b[0m \u001b[1;34m'Dtype | None'\u001b[0m \u001b[1;33m=\u001b[0m \u001b[1;32mNone\u001b[0m\u001b[1;33m,\u001b[0m\u001b[1;33m\n",
       "\u001b[0m    \u001b[0mname\u001b[0m\u001b[1;33m=\u001b[0m\u001b[1;32mNone\u001b[0m\u001b[1;33m,\u001b[0m\u001b[1;33m\n",
       "\u001b[0m    \u001b[0mcopy\u001b[0m\u001b[1;33m:\u001b[0m \u001b[1;34m'bool | None'\u001b[0m \u001b[1;33m=\u001b[0m \u001b[1;32mNone\u001b[0m\u001b[1;33m,\u001b[0m\u001b[1;33m\n",
       "\u001b[0m    \u001b[0mfastpath\u001b[0m\u001b[1;33m:\u001b[0m \u001b[1;34m'bool | lib.NoDefault'\u001b[0m \u001b[1;33m=\u001b[0m \u001b[1;33m<\u001b[0m\u001b[0mno_default\u001b[0m\u001b[1;33m>\u001b[0m\u001b[1;33m,\u001b[0m\u001b[1;33m\n",
       "\u001b[0m\u001b[1;33m)\u001b[0m \u001b[1;33m->\u001b[0m \u001b[1;34m'None'\u001b[0m\u001b[1;33m\u001b[0m\u001b[1;33m\u001b[0m\u001b[0m\n",
       "\u001b[1;31mDocstring:\u001b[0m     \n",
       "One-dimensional ndarray with axis labels (including time series).\n",
       "\n",
       "Labels need not be unique but must be a hashable type. The object\n",
       "supports both integer- and label-based indexing and provides a host of\n",
       "methods for performing operations involving the index. Statistical\n",
       "methods from ndarray have been overridden to automatically exclude\n",
       "missing data (currently represented as NaN).\n",
       "\n",
       "Operations between Series (+, -, /, \\*, \\*\\*) align values based on their\n",
       "associated index values-- they need not be the same length. The result\n",
       "index will be the sorted union of the two indexes.\n",
       "\n",
       "Parameters\n",
       "----------\n",
       "data : array-like, Iterable, dict, or scalar value\n",
       "    Contains data stored in Series. If data is a dict, argument order is\n",
       "    maintained.\n",
       "index : array-like or Index (1d)\n",
       "    Values must be hashable and have the same length as `data`.\n",
       "    Non-unique index values are allowed. Will default to\n",
       "    RangeIndex (0, 1, 2, ..., n) if not provided. If data is dict-like\n",
       "    and index is None, then the keys in the data are used as the index. If the\n",
       "    index is not None, the resulting Series is reindexed with the index values.\n",
       "dtype : str, numpy.dtype, or ExtensionDtype, optional\n",
       "    Data type for the output Series. If not specified, this will be\n",
       "    inferred from `data`.\n",
       "    See the :ref:`user guide <basics.dtypes>` for more usages.\n",
       "name : Hashable, default None\n",
       "    The name to give to the Series.\n",
       "copy : bool, default False\n",
       "    Copy input data. Only affects Series or 1d ndarray input. See examples.\n",
       "\n",
       "Notes\n",
       "-----\n",
       "Please reference the :ref:`User Guide <basics.series>` for more information.\n",
       "\n",
       "Examples\n",
       "--------\n",
       "Constructing Series from a dictionary with an Index specified\n",
       "\n",
       ">>> d = {'a': 1, 'b': 2, 'c': 3}\n",
       ">>> ser = pd.Series(data=d, index=['a', 'b', 'c'])\n",
       ">>> ser\n",
       "a   1\n",
       "b   2\n",
       "c   3\n",
       "dtype: int64\n",
       "\n",
       "The keys of the dictionary match with the Index values, hence the Index\n",
       "values have no effect.\n",
       "\n",
       ">>> d = {'a': 1, 'b': 2, 'c': 3}\n",
       ">>> ser = pd.Series(data=d, index=['x', 'y', 'z'])\n",
       ">>> ser\n",
       "x   NaN\n",
       "y   NaN\n",
       "z   NaN\n",
       "dtype: float64\n",
       "\n",
       "Note that the Index is first build with the keys from the dictionary.\n",
       "After this the Series is reindexed with the given Index values, hence we\n",
       "get all NaN as a result.\n",
       "\n",
       "Constructing Series from a list with `copy=False`.\n",
       "\n",
       ">>> r = [1, 2]\n",
       ">>> ser = pd.Series(r, copy=False)\n",
       ">>> ser.iloc[0] = 999\n",
       ">>> r\n",
       "[1, 2]\n",
       ">>> ser\n",
       "0    999\n",
       "1      2\n",
       "dtype: int64\n",
       "\n",
       "Due to input data type the Series has a `copy` of\n",
       "the original data even though `copy=False`, so\n",
       "the data is unchanged.\n",
       "\n",
       "Constructing Series from a 1d ndarray with `copy=False`.\n",
       "\n",
       ">>> r = np.array([1, 2])\n",
       ">>> ser = pd.Series(r, copy=False)\n",
       ">>> ser.iloc[0] = 999\n",
       ">>> r\n",
       "array([999,   2])\n",
       ">>> ser\n",
       "0    999\n",
       "1      2\n",
       "dtype: int64\n",
       "\n",
       "Due to input data type the Series has a `view` on\n",
       "the original data, so\n",
       "the data is changed as well.\n",
       "\u001b[1;31mFile:\u001b[0m           c:\\users\\pyip\\miniconda3\\envs\\jupyter-env\\lib\\site-packages\\pandas\\core\\series.py\n",
       "\u001b[1;31mType:\u001b[0m           type\n",
       "\u001b[1;31mSubclasses:\u001b[0m     SubclassedSeries"
      ]
     },
     "metadata": {},
     "output_type": "display_data"
    }
   ],
   "source": [
    "pd.Series?"
   ]
  },
  {
   "cell_type": "markdown",
   "metadata": {},
   "source": [
    "A ```pd.Series``` can be instantiated by supplying ```data``` to a ```list``` of values and providing a ```name```:"
   ]
  },
  {
   "cell_type": "code",
   "execution_count": 478,
   "metadata": {},
   "outputs": [],
   "source": [
    "t = pd.Series(name='t')\n",
    "u = pd.Series([[], [], [], []], name='u')\n",
    "v = pd.Series([1.1, 2.2, 3.1, 4.1], name='v')\n",
    "w = pd.Series([-1.1, 2.2, -3.1, 4.1], name='w')\n",
    "x = pd.Series([1.1, -2.1, -2.1, None], name='x', dtype=float)\n",
    "y = pd.Series(['A', 'A', 'B', 'B'], index=['a', 'b', 'c', 'd'], name='y')\n",
    "z = pd.Series(['A', 'B', 'C', None], index=['a', 'b', 'c', 'd'], name='z')"
   ]
  },
  {
   "cell_type": "markdown",
   "metadata": {},
   "source": [
    "### Attributes"
   ]
  },
  {
   "cell_type": "code",
   "execution_count": 479,
   "metadata": {},
   "outputs": [
    {
     "data": {
      "text/plain": [
       "(Series([], Name: t, dtype: object),\n",
       " 0    []\n",
       " 1    []\n",
       " 2    []\n",
       " 3    []\n",
       " Name: u, dtype: object,\n",
       " 0    1.1\n",
       " 1    2.2\n",
       " 2    3.1\n",
       " 3    4.1\n",
       " Name: v, dtype: float64,\n",
       " 0   -1.1\n",
       " 1    2.2\n",
       " 2   -3.1\n",
       " 3    4.1\n",
       " Name: w, dtype: float64,\n",
       " 0    1.1\n",
       " 1   -2.1\n",
       " 2   -2.1\n",
       " 3    NaN\n",
       " Name: x, dtype: float64,\n",
       " a    A\n",
       " b    A\n",
       " c    B\n",
       " d    B\n",
       " Name: y, dtype: object,\n",
       " a       A\n",
       " b       B\n",
       " c       C\n",
       " d    None\n",
       " Name: z, dtype: object)"
      ]
     },
     "execution_count": 479,
     "metadata": {},
     "output_type": "execute_result"
    }
   ],
   "source": [
    "t, u, v, w, x, y, z"
   ]
  },
  {
   "cell_type": "code",
   "execution_count": null,
   "metadata": {},
   "outputs": [],
   "source": []
  },
  {
   "cell_type": "code",
   "execution_count": 468,
   "metadata": {},
   "outputs": [
    {
     "data": {
      "text/plain": [
       "<NumpyExtensionArray>\n",
       "[[], [], [], []]\n",
       "Length: 4, dtype: object"
      ]
     },
     "execution_count": 468,
     "metadata": {},
     "output_type": "execute_result"
    }
   ],
   "source": [
    "u.array"
   ]
  },
  {
   "cell_type": "code",
   "execution_count": 471,
   "metadata": {},
   "outputs": [
    {
     "data": {
      "text/plain": [
       "array([list([]), list([]), list([]), list([])], dtype=object)"
      ]
     },
     "execution_count": 471,
     "metadata": {},
     "output_type": "execute_result"
    }
   ],
   "source": [
    "u.values"
   ]
  },
  {
   "cell_type": "code",
   "execution_count": 469,
   "metadata": {},
   "outputs": [
    {
     "data": {
      "text/plain": [
       "dtype('O')"
      ]
     },
     "execution_count": 469,
     "metadata": {},
     "output_type": "execute_result"
    }
   ],
   "source": [
    "u.dtype"
   ]
  },
  {
   "cell_type": "code",
   "execution_count": 470,
   "metadata": {},
   "outputs": [
    {
     "data": {
      "text/plain": [
       "'u'"
      ]
     },
     "execution_count": 470,
     "metadata": {},
     "output_type": "execute_result"
    }
   ],
   "source": [
    "u.name"
   ]
  },
  {
   "cell_type": "code",
   "execution_count": 472,
   "metadata": {},
   "outputs": [
    {
     "data": {
      "text/plain": [
       "dtype('O')"
      ]
     },
     "execution_count": 472,
     "metadata": {},
     "output_type": "execute_result"
    }
   ],
   "source": [
    "u.dtypes"
   ]
  },
  {
   "cell_type": "code",
   "execution_count": 473,
   "metadata": {},
   "outputs": [
    {
     "data": {
      "text/plain": [
       "(4,)"
      ]
     },
     "execution_count": 473,
     "metadata": {},
     "output_type": "execute_result"
    }
   ],
   "source": [
    "u.shape"
   ]
  },
  {
   "cell_type": "markdown",
   "metadata": {},
   "source": [
    "### Boolean Attributes"
   ]
  },
  {
   "cell_type": "code",
   "execution_count": 474,
   "metadata": {},
   "outputs": [
    {
     "data": {
      "text/plain": [
       "(0    1.1\n",
       " 1    2.2\n",
       " 2    3.1\n",
       " 3    4.1\n",
       " Name: v, dtype: float64,\n",
       " 0    1.1\n",
       " 1   -2.1\n",
       " 2   -2.1\n",
       " 3    NaN\n",
       " Name: x, dtype: float64)"
      ]
     },
     "execution_count": 474,
     "metadata": {},
     "output_type": "execute_result"
    }
   ],
   "source": [
    "v, x"
   ]
  },
  {
   "cell_type": "code",
   "execution_count": 475,
   "metadata": {},
   "outputs": [
    {
     "data": {
      "text/plain": [
       "False"
      ]
     },
     "execution_count": 475,
     "metadata": {},
     "output_type": "execute_result"
    }
   ],
   "source": [
    "v.hasnans"
   ]
  },
  {
   "cell_type": "code",
   "execution_count": 476,
   "metadata": {},
   "outputs": [
    {
     "data": {
      "text/plain": [
       "True"
      ]
     },
     "execution_count": 476,
     "metadata": {},
     "output_type": "execute_result"
    }
   ],
   "source": [
    "x.hasnans"
   ]
  },
  {
   "cell_type": "code",
   "execution_count": null,
   "metadata": {},
   "outputs": [],
   "source": []
  },
  {
   "cell_type": "code",
   "execution_count": 477,
   "metadata": {},
   "outputs": [
    {
     "data": {
      "text/plain": [
       "False"
      ]
     },
     "execution_count": 477,
     "metadata": {},
     "output_type": "execute_result"
    }
   ],
   "source": [
    "u.empty"
   ]
  },
  {
   "cell_type": "code",
   "execution_count": 450,
   "metadata": {},
   "outputs": [
    {
     "data": {
      "text/plain": [
       "(False, False, False, False, False)"
      ]
     },
     "execution_count": 450,
     "metadata": {},
     "output_type": "execute_result"
    }
   ],
   "source": [
    "v.empty, w.empty, x.empty, y.empty, z.empty"
   ]
  },
  {
   "cell_type": "code",
   "execution_count": 451,
   "metadata": {},
   "outputs": [
    {
     "data": {
      "text/plain": [
       "(True, True, False, False, True)"
      ]
     },
     "execution_count": 451,
     "metadata": {},
     "output_type": "execute_result"
    }
   ],
   "source": [
    "v.is_unique, w.is_unique, x.is_unique, y.is_unique, z.is_unique"
   ]
  },
  {
   "cell_type": "code",
   "execution_count": 452,
   "metadata": {},
   "outputs": [
    {
     "data": {
      "text/plain": [
       "(True, False, False, True, False)"
      ]
     },
     "execution_count": 452,
     "metadata": {},
     "output_type": "execute_result"
    }
   ],
   "source": [
    "v.is_monotonic_increasing, w.is_monotonic_increasing, x.is_monotonic_increasing, y.is_monotonic_increasing, z.is_monotonic_increasing"
   ]
  },
  {
   "cell_type": "code",
   "execution_count": 453,
   "metadata": {},
   "outputs": [
    {
     "data": {
      "text/plain": [
       "(False, False, False, False, False)"
      ]
     },
     "execution_count": 453,
     "metadata": {},
     "output_type": "execute_result"
    }
   ],
   "source": [
    "v.is_monotonic_decreasing, w.is_monotonic_decreasing, x.is_monotonic_decreasing, y.is_monotonic_decreasing, z.is_monotonic_decreasing"
   ]
  },
  {
   "cell_type": "markdown",
   "metadata": {},
   "source": [
    "### Indexing"
   ]
  },
  {
   "cell_type": "code",
   "execution_count": 371,
   "metadata": {},
   "outputs": [
    {
     "data": {
      "text/plain": [
       "0    1.1\n",
       "1    2.2\n",
       "2    3.1\n",
       "3    4.1\n",
       "Name: w, dtype: float64"
      ]
     },
     "execution_count": 371,
     "metadata": {},
     "output_type": "execute_result"
    }
   ],
   "source": [
    "w"
   ]
  },
  {
   "cell_type": "code",
   "execution_count": 372,
   "metadata": {},
   "outputs": [
    {
     "data": {
      "text/plain": [
       "1.1"
      ]
     },
     "execution_count": 372,
     "metadata": {},
     "output_type": "execute_result"
    }
   ],
   "source": [
    "x.loc[0]"
   ]
  },
  {
   "cell_type": "code",
   "execution_count": 373,
   "metadata": {},
   "outputs": [
    {
     "data": {
      "text/plain": [
       "1.1"
      ]
     },
     "execution_count": 373,
     "metadata": {},
     "output_type": "execute_result"
    }
   ],
   "source": [
    "x.iloc[0]"
   ]
  },
  {
   "cell_type": "code",
   "execution_count": 374,
   "metadata": {},
   "outputs": [
    {
     "data": {
      "text/plain": [
       "1.1"
      ]
     },
     "execution_count": 374,
     "metadata": {},
     "output_type": "execute_result"
    }
   ],
   "source": [
    "x.at[0]"
   ]
  },
  {
   "cell_type": "code",
   "execution_count": 375,
   "metadata": {},
   "outputs": [
    {
     "data": {
      "text/plain": [
       "1.1"
      ]
     },
     "execution_count": 375,
     "metadata": {},
     "output_type": "execute_result"
    }
   ],
   "source": [
    "x.iat[0]"
   ]
  },
  {
   "cell_type": "code",
   "execution_count": 387,
   "metadata": {},
   "outputs": [
    {
     "data": {
      "text/plain": [
       "a    A\n",
       "b    B\n",
       "c    C\n",
       "d    D\n",
       "Name: z, dtype: object"
      ]
     },
     "execution_count": 387,
     "metadata": {},
     "output_type": "execute_result"
    }
   ],
   "source": [
    "z"
   ]
  },
  {
   "cell_type": "code",
   "execution_count": 388,
   "metadata": {},
   "outputs": [
    {
     "data": {
      "text/plain": [
       "'A'"
      ]
     },
     "execution_count": 388,
     "metadata": {},
     "output_type": "execute_result"
    }
   ],
   "source": [
    "z.loc['a']"
   ]
  },
  {
   "cell_type": "code",
   "execution_count": 389,
   "metadata": {},
   "outputs": [
    {
     "data": {
      "text/plain": [
       "'A'"
      ]
     },
     "execution_count": 389,
     "metadata": {},
     "output_type": "execute_result"
    }
   ],
   "source": [
    "z.iloc[0]"
   ]
  },
  {
   "cell_type": "code",
   "execution_count": 390,
   "metadata": {},
   "outputs": [
    {
     "data": {
      "text/plain": [
       "'A'"
      ]
     },
     "execution_count": 390,
     "metadata": {},
     "output_type": "execute_result"
    }
   ],
   "source": [
    "z.at['a']"
   ]
  },
  {
   "cell_type": "code",
   "execution_count": 391,
   "metadata": {},
   "outputs": [
    {
     "data": {
      "text/plain": [
       "'A'"
      ]
     },
     "execution_count": 391,
     "metadata": {},
     "output_type": "execute_result"
    }
   ],
   "source": [
    "z.iat[0]"
   ]
  },
  {
   "cell_type": "markdown",
   "metadata": {},
   "source": [
    "### String Methods"
   ]
  },
  {
   "cell_type": "code",
   "execution_count": 392,
   "metadata": {},
   "outputs": [
    {
     "data": {
      "text/plain": [
       "a    A\n",
       "b    B\n",
       "c    C\n",
       "d    D\n",
       "Name: z, dtype: object"
      ]
     },
     "execution_count": 392,
     "metadata": {},
     "output_type": "execute_result"
    }
   ],
   "source": [
    "z"
   ]
  },
  {
   "cell_type": "code",
   "execution_count": 393,
   "metadata": {
    "scrolled": true
   },
   "outputs": [
    {
     "name": "stdout",
     "output_type": "stream",
     "text": [
      "{'method': ['capitalize',\n",
      "            'casefold',\n",
      "            'cat',\n",
      "            'center',\n",
      "            'contains',\n",
      "            'count',\n",
      "            'decode',\n",
      "            'encode',\n",
      "            'endswith',\n",
      "            'extract',\n",
      "            'extractall',\n",
      "            'find',\n",
      "            'findall',\n",
      "            'fullmatch',\n",
      "            'get',\n",
      "            'get_dummies',\n",
      "            'index',\n",
      "            'isalnum',\n",
      "            'isalpha',\n",
      "            'isdecimal',\n",
      "            'isdigit',\n",
      "            'islower',\n",
      "            'isnumeric',\n",
      "            'isspace',\n",
      "            'istitle',\n",
      "            'isupper',\n",
      "            'join',\n",
      "            'len',\n",
      "            'ljust',\n",
      "            'lower',\n",
      "            'lstrip',\n",
      "            'match',\n",
      "            'normalize',\n",
      "            'pad',\n",
      "            'partition',\n",
      "            'removeprefix',\n",
      "            'removesuffix',\n",
      "            'repeat',\n",
      "            'replace',\n",
      "            'rfind',\n",
      "            'rindex',\n",
      "            'rjust',\n",
      "            'rpartition',\n",
      "            'rsplit',\n",
      "            'rstrip',\n",
      "            'slice',\n",
      "            'slice_replace',\n",
      "            'split',\n",
      "            'startswith',\n",
      "            'strip',\n",
      "            'swapcase',\n",
      "            'title',\n",
      "            'translate',\n",
      "            'upper',\n",
      "            'wrap',\n",
      "            'zfill'],\n",
      " 'datamodel_attribute': ['__annotations__',\n",
      "                         '__dict__',\n",
      "                         '__doc__',\n",
      "                         '__frozen',\n",
      "                         '__module__',\n",
      "                         '__weakref__'],\n",
      " 'datamodel_method': ['__class__',\n",
      "                      '__delattr__',\n",
      "                      '__dir__',\n",
      "                      '__eq__',\n",
      "                      '__format__',\n",
      "                      '__ge__',\n",
      "                      '__getattribute__',\n",
      "                      '__getitem__',\n",
      "                      '__getstate__',\n",
      "                      '__gt__',\n",
      "                      '__hash__',\n",
      "                      '__init__',\n",
      "                      '__init_subclass__',\n",
      "                      '__iter__',\n",
      "                      '__le__',\n",
      "                      '__lt__',\n",
      "                      '__ne__',\n",
      "                      '__new__',\n",
      "                      '__reduce__',\n",
      "                      '__reduce_ex__',\n",
      "                      '__repr__',\n",
      "                      '__setattr__',\n",
      "                      '__sizeof__',\n",
      "                      '__str__',\n",
      "                      '__subclasshook__']}\n"
     ]
    }
   ],
   "source": [
    "dir2(z.str, drop_internal=True)"
   ]
  },
  {
   "cell_type": "code",
   "execution_count": 396,
   "metadata": {},
   "outputs": [
    {
     "data": {
      "text/plain": [
       "a    a\n",
       "b    b\n",
       "c    c\n",
       "d    d\n",
       "Name: z, dtype: object"
      ]
     },
     "execution_count": 396,
     "metadata": {},
     "output_type": "execute_result"
    }
   ],
   "source": [
    "z.str.lower()"
   ]
  },
  {
   "cell_type": "code",
   "execution_count": 395,
   "metadata": {},
   "outputs": [
    {
     "data": {
      "text/plain": [
       "a    AAAAA\n",
       "b    BBBBB\n",
       "c    CCCCC\n",
       "d    DDDDD\n",
       "Name: z, dtype: object"
      ]
     },
     "execution_count": 395,
     "metadata": {},
     "output_type": "execute_result"
    }
   ],
   "source": [
    "z.apply(lambda string: 5 * string)"
   ]
  },
  {
   "cell_type": "code",
   "execution_count": 412,
   "metadata": {},
   "outputs": [
    {
     "data": {
      "text/plain": [
       "a    AAAAA\n",
       "b    BBBBB\n",
       "c    CCCCC\n",
       "d    DDDDD\n",
       "Name: z, dtype: object"
      ]
     },
     "execution_count": 412,
     "metadata": {},
     "output_type": "execute_result"
    }
   ],
   "source": [
    "5 * z"
   ]
  },
  {
   "cell_type": "markdown",
   "metadata": {},
   "source": [
    "### Numeric Methods"
   ]
  },
  {
   "cell_type": "code",
   "execution_count": 414,
   "metadata": {},
   "outputs": [
    {
     "data": {
      "text/plain": [
       "0    1.1\n",
       "1    2.2\n",
       "2    3.1\n",
       "3    4.1\n",
       "Name: w, dtype: float64"
      ]
     },
     "execution_count": 414,
     "metadata": {},
     "output_type": "execute_result"
    }
   ],
   "source": [
    "w"
   ]
  },
  {
   "cell_type": "code",
   "execution_count": 415,
   "metadata": {},
   "outputs": [
    {
     "data": {
      "text/plain": [
       "0     5.5\n",
       "1    11.0\n",
       "2    15.5\n",
       "3    20.5\n",
       "Name: w, dtype: float64"
      ]
     },
     "execution_count": 415,
     "metadata": {},
     "output_type": "execute_result"
    }
   ],
   "source": [
    "5 * w"
   ]
  },
  {
   "cell_type": "code",
   "execution_count": null,
   "metadata": {},
   "outputs": [],
   "source": []
  },
  {
   "cell_type": "code",
   "execution_count": 455,
   "metadata": {},
   "outputs": [
    {
     "data": {
      "text/plain": [
       "0   -1.1\n",
       "1    2.2\n",
       "2   -3.1\n",
       "3    4.1\n",
       "Name: w, dtype: float64"
      ]
     },
     "execution_count": 455,
     "metadata": {},
     "output_type": "execute_result"
    }
   ],
   "source": [
    "w"
   ]
  },
  {
   "cell_type": "code",
   "execution_count": null,
   "metadata": {},
   "outputs": [],
   "source": []
  },
  {
   "cell_type": "code",
   "execution_count": 456,
   "metadata": {},
   "outputs": [
    {
     "data": {
      "text/plain": [
       "0    1.1\n",
       "1    2.2\n",
       "2    3.1\n",
       "3    4.1\n",
       "Name: w, dtype: float64"
      ]
     },
     "execution_count": 456,
     "metadata": {},
     "output_type": "execute_result"
    }
   ],
   "source": [
    "abs(w)"
   ]
  },
  {
   "cell_type": "code",
   "execution_count": 457,
   "metadata": {},
   "outputs": [
    {
     "data": {
      "text/plain": [
       "0    1.1\n",
       "1    2.2\n",
       "2    3.1\n",
       "3    4.1\n",
       "Name: w, dtype: float64"
      ]
     },
     "execution_count": 457,
     "metadata": {},
     "output_type": "execute_result"
    }
   ],
   "source": [
    "w.abs()"
   ]
  },
  {
   "cell_type": "code",
   "execution_count": null,
   "metadata": {},
   "outputs": [],
   "source": []
  },
  {
   "cell_type": "code",
   "execution_count": 462,
   "metadata": {},
   "outputs": [],
   "source": [
    "import statistics"
   ]
  },
  {
   "cell_type": "code",
   "execution_count": 463,
   "metadata": {},
   "outputs": [
    {
     "data": {
      "text/plain": [
       "0.5249999999999999"
      ]
     },
     "execution_count": 463,
     "metadata": {},
     "output_type": "execute_result"
    }
   ],
   "source": [
    "statistics.mean(w)"
   ]
  },
  {
   "cell_type": "code",
   "execution_count": 464,
   "metadata": {},
   "outputs": [
    {
     "data": {
      "text/plain": [
       "0.5249999999999999"
      ]
     },
     "execution_count": 464,
     "metadata": {},
     "output_type": "execute_result"
    }
   ],
   "source": [
    "w.mean()"
   ]
  },
  {
   "cell_type": "code",
   "execution_count": null,
   "metadata": {},
   "outputs": [],
   "source": []
  },
  {
   "cell_type": "markdown",
   "metadata": {},
   "source": [
    "### Categorical Methods"
   ]
  },
  {
   "cell_type": "code",
   "execution_count": 397,
   "metadata": {},
   "outputs": [
    {
     "data": {
      "text/plain": [
       "a    A\n",
       "b    A\n",
       "c    B\n",
       "d    B\n",
       "Name: y, dtype: object"
      ]
     },
     "execution_count": 397,
     "metadata": {},
     "output_type": "execute_result"
    }
   ],
   "source": [
    "y"
   ]
  },
  {
   "cell_type": "code",
   "execution_count": 402,
   "metadata": {},
   "outputs": [],
   "source": [
    "y = y.astype('category')"
   ]
  },
  {
   "cell_type": "code",
   "execution_count": 403,
   "metadata": {},
   "outputs": [
    {
     "data": {
      "text/plain": [
       "a    A\n",
       "b    A\n",
       "c    B\n",
       "d    B\n",
       "Name: y, dtype: category\n",
       "Categories (2, object): ['A', 'B']"
      ]
     },
     "execution_count": 403,
     "metadata": {},
     "output_type": "execute_result"
    }
   ],
   "source": [
    "y"
   ]
  },
  {
   "cell_type": "code",
   "execution_count": 404,
   "metadata": {
    "scrolled": true
   },
   "outputs": [
    {
     "name": "stdout",
     "output_type": "stream",
     "text": [
      "{'attribute': ['categories', 'codes', 'ordered'],\n",
      " 'method': ['add_categories',\n",
      "            'as_ordered',\n",
      "            'as_unordered',\n",
      "            'remove_categories',\n",
      "            'remove_unused_categories',\n",
      "            'rename_categories',\n",
      "            'reorder_categories',\n",
      "            'set_categories'],\n",
      " 'datamodel_attribute': ['__annotations__',\n",
      "                         '__dict__',\n",
      "                         '__doc__',\n",
      "                         '__frozen',\n",
      "                         '__module__',\n",
      "                         '__weakref__'],\n",
      " 'datamodel_method': ['__class__',\n",
      "                      '__delattr__',\n",
      "                      '__dir__',\n",
      "                      '__eq__',\n",
      "                      '__format__',\n",
      "                      '__ge__',\n",
      "                      '__getattribute__',\n",
      "                      '__getstate__',\n",
      "                      '__gt__',\n",
      "                      '__hash__',\n",
      "                      '__init__',\n",
      "                      '__init_subclass__',\n",
      "                      '__le__',\n",
      "                      '__lt__',\n",
      "                      '__ne__',\n",
      "                      '__new__',\n",
      "                      '__reduce__',\n",
      "                      '__reduce_ex__',\n",
      "                      '__repr__',\n",
      "                      '__setattr__',\n",
      "                      '__sizeof__',\n",
      "                      '__str__',\n",
      "                      '__subclasshook__']}\n"
     ]
    }
   ],
   "source": [
    "dir2(y.cat, drop_internal=True)"
   ]
  },
  {
   "cell_type": "code",
   "execution_count": 406,
   "metadata": {},
   "outputs": [],
   "source": [
    "y = y.cat.as_ordered()"
   ]
  },
  {
   "cell_type": "code",
   "execution_count": 407,
   "metadata": {},
   "outputs": [
    {
     "data": {
      "text/plain": [
       "a    A\n",
       "b    A\n",
       "c    B\n",
       "d    B\n",
       "Name: y, dtype: category\n",
       "Categories (2, object): ['A' < 'B']"
      ]
     },
     "execution_count": 407,
     "metadata": {},
     "output_type": "execute_result"
    }
   ],
   "source": [
    "y"
   ]
  },
  {
   "cell_type": "code",
   "execution_count": 410,
   "metadata": {},
   "outputs": [
    {
     "data": {
      "text/plain": [
       "a     True\n",
       "b     True\n",
       "c    False\n",
       "d    False\n",
       "Name: y, dtype: bool"
      ]
     },
     "execution_count": 410,
     "metadata": {},
     "output_type": "execute_result"
    }
   ],
   "source": [
    "y == 'A'"
   ]
  },
  {
   "cell_type": "code",
   "execution_count": 411,
   "metadata": {},
   "outputs": [
    {
     "data": {
      "text/plain": [
       "a    A\n",
       "b    A\n",
       "Name: y, dtype: category\n",
       "Categories (2, object): ['A' < 'B']"
      ]
     },
     "execution_count": 411,
     "metadata": {},
     "output_type": "execute_result"
    }
   ],
   "source": [
    "y[y == 'A']"
   ]
  },
  {
   "cell_type": "code",
   "execution_count": null,
   "metadata": {},
   "outputs": [],
   "source": []
  },
  {
   "cell_type": "code",
   "execution_count": null,
   "metadata": {},
   "outputs": [],
   "source": []
  },
  {
   "cell_type": "code",
   "execution_count": 458,
   "metadata": {},
   "outputs": [
    {
     "data": {
      "text/plain": [
       "0    0.0\n",
       "1    4.4\n",
       "2    0.0\n",
       "3    8.2\n",
       "dtype: float64"
      ]
     },
     "execution_count": 458,
     "metadata": {},
     "output_type": "execute_result"
    }
   ],
   "source": [
    "v + w"
   ]
  },
  {
   "cell_type": "code",
   "execution_count": null,
   "metadata": {},
   "outputs": [],
   "source": []
  },
  {
   "cell_type": "code",
   "execution_count": 461,
   "metadata": {},
   "outputs": [
    {
     "data": {
      "text/plain": [
       "a       A\n",
       "b       B\n",
       "c       C\n",
       "d    None\n",
       "Name: z, dtype: object"
      ]
     },
     "execution_count": 461,
     "metadata": {},
     "output_type": "execute_result"
    }
   ],
   "source": [
    "z"
   ]
  },
  {
   "cell_type": "code",
   "execution_count": 460,
   "metadata": {},
   "outputs": [
    {
     "data": {
      "text/plain": [
       "a     AA\n",
       "b     BB\n",
       "c     CC\n",
       "d    NaN\n",
       "Name: z, dtype: object"
      ]
     },
     "execution_count": 460,
     "metadata": {},
     "output_type": "execute_result"
    }
   ],
   "source": [
    "z + z"
   ]
  },
  {
   "attachments": {},
   "cell_type": "markdown",
   "metadata": {},
   "source": [
    "## DataFrame Identifiers"
   ]
  },
  {
   "attachments": {},
   "cell_type": "markdown",
   "metadata": {},
   "source": [
    "If the following dataframe is constructed:"
   ]
  },
  {
   "cell_type": "code",
   "execution_count": null,
   "metadata": {},
   "outputs": [],
   "source": [
    "df = pd.DataFrame({'x': np.array([1.1, 2.1, 3.1, 3.1]),\n",
    "                   'y': np.array([1.2, 2.2, 3.2, 4.2])})"
   ]
  },
  {
   "cell_type": "code",
   "execution_count": null,
   "metadata": {},
   "outputs": [],
   "source": [
    "df"
   ]
  },
  {
   "cell_type": "markdown",
   "metadata": {},
   "source": [
    "A large number of identifiers can be seen to be consistent between a ```DataFrame``` and a ```Series``` instance such as almost all of the datamodel identifiers. These identifiers operate across 2 dimensions across a ```DataFrame``` instance instead of 1 dimension along a ```Series```:"
   ]
  },
  {
   "cell_type": "code",
   "execution_count": null,
   "metadata": {},
   "outputs": [],
   "source": [
    "print('datamodel attribute:', end=' ')\n",
    "print_identifier_group(df, kind='datamodel_attribute', second=xseries, show_only_intersection_identifiers=True)\n",
    "print('datamodel method:', end=' ')\n",
    "print_identifier_group(df, kind='datamodel_method', second=xseries, show_only_intersection_identifiers=True)\n",
    "print('attribute:', end=' ')\n",
    "print_identifier_group(df, kind='attribute', second=xseries, show_only_intersection_identifiers=True)\n",
    "print('method:', end=' ')\n",
    "print_identifier_group(df, kind='function', second=xseries, show_only_intersection_identifiers=True)"
   ]
  },
  {
   "cell_type": "markdown",
   "metadata": {},
   "source": [
    "The ```Series``` has ```Series``` specific attributes which are not available for a ```DataFrame``` instance. The datamodel methods in a ```Series``` not present in a ```DataFrame``` are for type-casting:"
   ]
  },
  {
   "cell_type": "code",
   "execution_count": null,
   "metadata": {},
   "outputs": [],
   "source": [
    "print('datamodel attribute:', end=' ')\n",
    "print_identifier_group(xseries, kind='datamodel_attribute', second=df, show_unique_identifiers=True)\n",
    "print('datamodel method:', end=' ')\n",
    "print_identifier_group(xseries, kind='datamodel_method', second=df, show_unique_identifiers=True)\n",
    "print('attribute:', end=' ')\n",
    "print_identifier_group(xseries, kind='attribute', second=df, show_unique_identifiers=True)\n",
    "print('method:', end=' ')\n",
    "print_identifier_group(xseries, kind='function', second=df, show_unique_identifiers=True)"
   ]
  },
  {
   "cell_type": "markdown",
   "metadata": {},
   "source": [
    "The ```DataFrame``` instead has ```DataFrame``` specific attributes such as the name of each ```Series``` in the ```DataFrame```. The ```DataFrame``` also has supplementary methods such as ```insert``` which is used to insert a ```Series``` instance into a ```DataFrame``` instance or ```join``` and ```merge``` used to join or merge ```DataFrame``` instances respectively. The datamodel methods in a ```DataFrame``` not present in a ```Series``` are for type-casting (to a ```DataFrame```):"
   ]
  },
  {
   "cell_type": "code",
   "execution_count": null,
   "metadata": {},
   "outputs": [],
   "source": [
    "print('datamodel attribute:', end=' ')\n",
    "print_identifier_group(df, kind='datamodel_attribute', second=xseries, show_unique_identifiers=True)\n",
    "print('datamodel method:', end=' ')\n",
    "print_identifier_group(df, kind='datamodel_method', second=xseries, show_unique_identifiers=True)\n",
    "print('attribute:', end=' ')\n",
    "print_identifier_group(df, kind='attribute', second=xseries, show_unique_identifiers=True)\n",
    "print('method:', end=' ')\n",
    "print_identifier_group(df, kind='function', second=xseries, show_unique_identifiers=True)"
   ]
  },
  {
   "attachments": {},
   "cell_type": "markdown",
   "metadata": {},
   "source": [
    "Notice the columns attribute returns a list of the names of each ```Series``` in the ```DataFrame```:"
   ]
  },
  {
   "cell_type": "code",
   "execution_count": null,
   "metadata": {},
   "outputs": [],
   "source": [
    "df.columns"
   ]
  },
  {
   "attachments": {},
   "cell_type": "markdown",
   "metadata": {},
   "source": [
    "Since the following conditions are satisfied:"
   ]
  },
  {
   "cell_type": "code",
   "execution_count": null,
   "metadata": {},
   "outputs": [],
   "source": [
    "'x'.isidentifier()"
   ]
  },
  {
   "cell_type": "code",
   "execution_count": null,
   "metadata": {},
   "outputs": [],
   "source": [
    "'y'.isidentifier()"
   ]
  },
  {
   "attachments": {},
   "cell_type": "markdown",
   "metadata": {},
   "source": [
    "And these identifier names don't clash with any of the other ```DataFrame``` identifiers, the following become ```DataFrame``` attributes and correspond to each ```Series``` in the ```DataFrame```:"
   ]
  },
  {
   "cell_type": "code",
   "execution_count": null,
   "metadata": {},
   "outputs": [],
   "source": [
    "df.x"
   ]
  },
  {
   "cell_type": "code",
   "execution_count": null,
   "metadata": {},
   "outputs": [],
   "source": [
    "df.y"
   ]
  },
  {
   "attachments": {},
   "cell_type": "markdown",
   "metadata": {},
   "source": [
    "## Mutability"
   ]
  },
  {
   "attachments": {},
   "cell_type": "markdown",
   "metadata": {},
   "source": [
    "The ```Index```, ```Series``` and ```DataFrame``` classes are mutable Collections meaning they have the immutable datamodel identifier ```__getitem__``` (dunder getitem) as well as the mutable identifier ```__setitem__``` (dunder setitem):"
   ]
  },
  {
   "cell_type": "code",
   "execution_count": null,
   "metadata": {},
   "outputs": [],
   "source": [
    "'__getitem__' in dir(pd.Series)"
   ]
  },
  {
   "cell_type": "code",
   "execution_count": null,
   "metadata": {},
   "outputs": [],
   "source": [
    "'__setitem__' in dir(pd.Series)"
   ]
  },
  {
   "cell_type": "code",
   "execution_count": null,
   "metadata": {},
   "outputs": [],
   "source": [
    "'__delitem__' in dir(pd.Series)"
   ]
  },
  {
   "attachments": {},
   "cell_type": "markdown",
   "metadata": {},
   "source": [
    "This means the following array can be indexed into:"
   ]
  },
  {
   "cell_type": "code",
   "execution_count": null,
   "metadata": {},
   "outputs": [],
   "source": [
    "xseries = pd.Series([1.1, 2.1, 3.1, 4.1], name='x')"
   ]
  },
  {
   "cell_type": "code",
   "execution_count": null,
   "metadata": {},
   "outputs": [],
   "source": [
    "xseries"
   ]
  },
  {
   "attachments": {},
   "cell_type": "markdown",
   "metadata": {},
   "source": [
    "Recall the datamodel ```__getitem__``` (dunder getitem) defines how a ```Collection``` responds to indexing using square brackets:"
   ]
  },
  {
   "cell_type": "code",
   "execution_count": null,
   "metadata": {},
   "outputs": [],
   "source": [
    "xseries[0]"
   ]
  },
  {
   "attachments": {},
   "cell_type": "markdown",
   "metadata": {},
   "source": [
    "Recall that the mutable method ```__setitem__``` (dunder setitem) defines how a ```MutableCollection``` responds to indexing using square brackets followed by assignment to a new value:"
   ]
  },
  {
   "cell_type": "code",
   "execution_count": null,
   "metadata": {},
   "outputs": [],
   "source": [
    "xseries[0] = None"
   ]
  },
  {
   "cell_type": "code",
   "execution_count": null,
   "metadata": {},
   "outputs": [],
   "source": [
    "xseries"
   ]
  },
  {
   "attachments": {},
   "cell_type": "markdown",
   "metadata": {},
   "source": [
    "Recall that the mutable method ```__delitem__``` (dunder delitem) defines how a ```MutableCollection``` responds to a ```del``` statement of an element indexing using square brackets:"
   ]
  },
  {
   "cell_type": "code",
   "execution_count": null,
   "metadata": {},
   "outputs": [],
   "source": [
    "del xseries[2]"
   ]
  },
  {
   "cell_type": "code",
   "execution_count": null,
   "metadata": {},
   "outputs": [],
   "source": [
    "xseries"
   ]
  },
  {
   "attachments": {},
   "cell_type": "markdown",
   "metadata": {},
   "source": [
    "Despite the ```NDArray```, ```Series``` and ```DataFrame``` being mutable datatypes, most the identifiers are immutable by default. If the docstring of the method ```dropna``` is examined:"
   ]
  },
  {
   "cell_type": "code",
   "execution_count": null,
   "metadata": {},
   "outputs": [],
   "source": [
    "xseries.dropna?"
   ]
  },
  {
   "attachments": {},
   "cell_type": "markdown",
   "metadata": {},
   "source": [
    "Notice it has the keyword input arguments ```inplace```. ```inplace``` has the default value of ```False``` making the method immutable by default and therefore returns a new ```Series```:"
   ]
  },
  {
   "cell_type": "code",
   "execution_count": null,
   "metadata": {},
   "outputs": [],
   "source": [
    "xseries.dropna() # Return value"
   ]
  },
  {
   "cell_type": "code",
   "execution_count": null,
   "metadata": {},
   "outputs": [],
   "source": [
    "xseries # Unchanged"
   ]
  },
  {
   "attachments": {},
   "cell_type": "markdown",
   "metadata": {},
   "source": [
    "When ```inplace``` is set to ```True``` the method becomes mutable:"
   ]
  },
  {
   "cell_type": "code",
   "execution_count": null,
   "metadata": {},
   "outputs": [],
   "source": [
    "xseries.dropna(inplace=True) # No return value"
   ]
  },
  {
   "cell_type": "code",
   "execution_count": null,
   "metadata": {},
   "outputs": [],
   "source": [
    "xseries # Modified inplace"
   ]
  },
  {
   "attachments": {},
   "cell_type": "markdown",
   "metadata": {},
   "source": [
    "The same behaviour can be seen on the method ```reset_index```:"
   ]
  },
  {
   "cell_type": "code",
   "execution_count": null,
   "metadata": {},
   "outputs": [],
   "source": [
    "xseries.reset_index?"
   ]
  },
  {
   "attachments": {},
   "cell_type": "markdown",
   "metadata": {},
   "source": [
    "With default value this method is immutable and returns a ```DataFrame``` since the old index is now added as the first ```Series```:"
   ]
  },
  {
   "cell_type": "code",
   "execution_count": null,
   "metadata": {},
   "outputs": [],
   "source": [
    "xseries.reset_index() # Return value"
   ]
  },
  {
   "attachments": {},
   "cell_type": "markdown",
   "metadata": {},
   "source": [
    "If the ```drop``` keyword input argument is set to ```True```, a ```Series``` will instead be returned:"
   ]
  },
  {
   "cell_type": "code",
   "execution_count": null,
   "metadata": {},
   "outputs": [],
   "source": [
    "xseries.reset_index(drop=True) # Return value"
   ]
  },
  {
   "attachments": {},
   "cell_type": "markdown",
   "metadata": {},
   "source": [
    "Once again the ```inplace``` keyword input argument can be assigned to ```True``` making the method mutable:"
   ]
  },
  {
   "cell_type": "code",
   "execution_count": null,
   "metadata": {},
   "outputs": [],
   "source": [
    "xseries.reset_index(drop=True, inplace=True) # No return value"
   ]
  },
  {
   "cell_type": "code",
   "execution_count": null,
   "metadata": {},
   "outputs": [],
   "source": [
    "xseries # Modified inplace"
   ]
  },
  {
   "cell_type": "markdown",
   "metadata": {},
   "source": [
    "The following ```Series``` methods have the parameter ```inplace``` and are therefore immutable by default but are mutable when this parameter is assigned to ```True```:"
   ]
  },
  {
   "cell_type": "code",
   "execution_count": null,
   "metadata": {},
   "outputs": [],
   "source": [
    "print_identifier_group(xseries, kind='function', has_parameter='inplace')"
   ]
  },
  {
   "cell_type": "markdown",
   "metadata": {},
   "source": [
    "Notice that most of these are used to fill, interpolate or drop values along a ```Series``` in response to missing data. \n",
    "\n",
    "```sort_values``` for example can be used to sort the values along a ```Series```, by default ```inplace=False``` and the method is immutable:"
   ]
  },
  {
   "cell_type": "code",
   "execution_count": null,
   "metadata": {},
   "outputs": [],
   "source": [
    "xseries.sort_values(ascending=False) # Return value"
   ]
  },
  {
   "attachments": {},
   "cell_type": "markdown",
   "metadata": {},
   "source": [
    "Recall when an immutable method is used with assignment, the new value returned on the right of the assignment operator is assigned to the instance name or label on the left of the assignment operator. If the instance name is conceptualised as a label, then a reassignment peels the label from the original instance and places it on the new instance created:"
   ]
  },
  {
   "cell_type": "code",
   "execution_count": null,
   "metadata": {},
   "outputs": [],
   "source": [
    "xseries = xseries.sort_values(ascending=False)"
   ]
  },
  {
   "cell_type": "code",
   "execution_count": null,
   "metadata": {},
   "outputs": [],
   "source": [
    "xseries"
   ]
  },
  {
   "attachments": {},
   "cell_type": "markdown",
   "metadata": {},
   "source": [
    "On the other hand when a method is immutable, there is no return value and the ```Series``` is updated inplace:"
   ]
  },
  {
   "cell_type": "code",
   "execution_count": null,
   "metadata": {},
   "outputs": [],
   "source": [
    "xseries.sort_values(ascending=True, inplace=True) # No return value"
   ]
  },
  {
   "cell_type": "code",
   "execution_count": null,
   "metadata": {},
   "outputs": [],
   "source": [
    "xseries"
   ]
  },
  {
   "attachments": {},
   "cell_type": "markdown",
   "metadata": {},
   "source": [
    "If assignment is used with an mutable function, the return value of the function is ```None``` and therefore ```None``` will be assigned to the ```new_label```:"
   ]
  },
  {
   "cell_type": "code",
   "execution_count": null,
   "metadata": {},
   "outputs": [],
   "source": [
    "new_label = xseries.sort_values(ascending=True, inplace=True) "
   ]
  },
  {
   "cell_type": "code",
   "execution_count": null,
   "metadata": {},
   "outputs": [],
   "source": [
    "new_label"
   ]
  },
  {
   "cell_type": "markdown",
   "metadata": {},
   "source": [
    "And therefore reassignment with the ```inplace``` parameter set to ```True``` should be avoided as the value will being reassigned will be ```None```:"
   ]
  },
  {
   "cell_type": "code",
   "execution_count": null,
   "metadata": {},
   "outputs": [],
   "source": [
    "xseries = xseries.sort_values(ascending=True, inplace=True) "
   ]
  },
  {
   "cell_type": "code",
   "execution_count": null,
   "metadata": {},
   "outputs": [],
   "source": [
    "xseries"
   ]
  },
  {
   "attachments": {},
   "cell_type": "markdown",
   "metadata": {},
   "source": [
    "By convention immutable methods have a ```return``` value and mutable methods have no ```return``` value. An exception to this is the mutable method ```pop``` which returns the popped value and mutates the ```Series``` in place:"
   ]
  },
  {
   "cell_type": "code",
   "execution_count": null,
   "metadata": {},
   "outputs": [],
   "source": [
    "xseries = pd.Series([4.1, 2.1, 3.1, 1.1], name='x')"
   ]
  },
  {
   "cell_type": "code",
   "execution_count": null,
   "metadata": {},
   "outputs": [],
   "source": [
    "xseries"
   ]
  },
  {
   "cell_type": "code",
   "execution_count": null,
   "metadata": {},
   "outputs": [],
   "source": [
    "xseries.pop(item=1) # Return value"
   ]
  },
  {
   "cell_type": "code",
   "execution_count": null,
   "metadata": {},
   "outputs": [],
   "source": [
    "xseries # Mutated"
   ]
  },
  {
   "attachments": {},
   "cell_type": "markdown",
   "metadata": {},
   "source": [
    "The methods that have consistent names to the mutable methods in a ```list``` will also be mutable with no ```return``` value. Most of the other methods are immutable and have a ```return``` value."
   ]
  },
  {
   "cell_type": "markdown",
   "metadata": {},
   "source": [
    "## Axis"
   ]
  },
  {
   "cell_type": "markdown",
   "metadata": {},
   "source": [
    "Another common keyword is ```axis```:"
   ]
  },
  {
   "cell_type": "code",
   "execution_count": null,
   "metadata": {},
   "outputs": [],
   "source": [
    "print_identifier_group(xseries, kind='function', has_parameter='axis')"
   ]
  },
  {
   "cell_type": "markdown",
   "metadata": {},
   "source": [
    "A ```Series``` is a column and only has a single ```axis``` available, ```0```. The operation can be conceptualised as sorting the data in the rows by use of the ```Series``` name and therefore ```axis``` can also be assigned to the ```str``` instance ```'rows'```:"
   ]
  },
  {
   "cell_type": "code",
   "execution_count": null,
   "metadata": {},
   "outputs": [],
   "source": [
    "xseries.sort_values(ascending=True, axis=0)"
   ]
  },
  {
   "cell_type": "code",
   "execution_count": null,
   "metadata": {},
   "outputs": [],
   "source": [
    "xseries.sort_values(ascending=True, axis='rows')"
   ]
  },
  {
   "cell_type": "markdown",
   "metadata": {},
   "source": [
    "For a ```DataFrame``` there are two values for ```axis```, ```0``` which is the default and ```1```:"
   ]
  },
  {
   "cell_type": "code",
   "execution_count": null,
   "metadata": {},
   "outputs": [],
   "source": [
    "df = pd.DataFrame({'x': np.array([5.1, 2.1, 2.1, 4.1]),\n",
    "                   'y': np.array([6.2, 7.0, 2.1, 1.2])},\n",
    "                   index=['a', 'b', 'c', 'd'])"
   ]
  },
  {
   "cell_type": "code",
   "execution_count": null,
   "metadata": {},
   "outputs": [],
   "source": [
    "df"
   ]
  },
  {
   "cell_type": "markdown",
   "metadata": {},
   "source": [
    "The default ```axis``` is ```0``` which is equivalent to the ```str``` instance ```'rows'```. This is an instruction to sort the data in the rows ```by``` the ordering of the data in the columns:"
   ]
  },
  {
   "cell_type": "code",
   "execution_count": null,
   "metadata": {},
   "outputs": [],
   "source": [
    "df.sort_values(by=['x', 'y'], axis='rows')"
   ]
  },
  {
   "cell_type": "markdown",
   "metadata": {},
   "source": [
    "Notice that the data is sorted in ascending order by ```'x'``` and in the case where the two values in ```'x'``` have duplicate values are sorted by ```'y'``` :"
   ]
  },
  {
   "cell_type": "code",
   "execution_count": null,
   "metadata": {},
   "outputs": [],
   "source": [
    "df"
   ]
  },
  {
   "cell_type": "markdown",
   "metadata": {},
   "source": [
    "The ```axis``` can be changed to ```1``` which is equivalent to the ```str``` instance ```'columns'```. This is an instruction to sort the data in the columns ```by``` the ordering of the data in the index:"
   ]
  },
  {
   "cell_type": "code",
   "execution_count": null,
   "metadata": {},
   "outputs": [],
   "source": [
    "df.sort_values(by=['c', 'd'], axis='columns')"
   ]
  },
  {
   "cell_type": "markdown",
   "metadata": {},
   "source": [
    "The data is sorted in ascending order first by ```'c'``` but the data in the two ```Series``` instances ```'x'``` and ```'y'``` have the same value 2.1 so there is no instruction to specify the order of the ```Series```. The next index value ```'d'``` is used and the value in the ```Series``` instance ```y``` is 1.2 and the ```Series``` instance ```'x'``` is 4.1, therefore ```'y'``` is ordered before ```'x'```."
   ]
  },
  {
   "cell_type": "markdown",
   "metadata": {},
   "source": [
    "In the ```NDArray``` negative indexes are quite commonly used to select an ```axis```. This are not used for the ```Series``` (1D) and ```DataFrame``` (2D) instances which are of fixed dimensions."
   ]
  },
  {
   "attachments": {},
   "cell_type": "markdown",
   "metadata": {},
   "source": [
    "## Indexing and Slicing"
   ]
  },
  {
   "attachments": {},
   "cell_type": "markdown",
   "metadata": {},
   "source": [
    "Supposing the following dictionary instance is instantiated:"
   ]
  },
  {
   "cell_type": "code",
   "execution_count": null,
   "metadata": {},
   "outputs": [],
   "source": [
    "mapping = {'x': np.array([1.1, 2.1, 3.1, 4.1]),\n",
    "           'y': np.array([1.2, 2.2, 3.2, 4.2])}"
   ]
  },
  {
   "cell_type": "code",
   "execution_count": null,
   "metadata": {},
   "outputs": [],
   "source": [
    "mapping"
   ]
  },
  {
   "attachments": {},
   "cell_type": "markdown",
   "metadata": {},
   "source": [
    "A ```DataFrame``` instance can be instantiated by assigning the ```mapping``` to the keyword input argument ```data```:"
   ]
  },
  {
   "cell_type": "code",
   "execution_count": null,
   "metadata": {},
   "outputs": [],
   "source": [
    "df = pd.DataFrame(data=mapping)"
   ]
  },
  {
   "cell_type": "code",
   "execution_count": null,
   "metadata": {},
   "outputs": [],
   "source": [
    "df"
   ]
  },
  {
   "attachments": {},
   "cell_type": "markdown",
   "metadata": {},
   "source": [
    "A ```mapping``` can be indexed with a ```key```. This returns the ```value``` the ```key``` references, in this case the ```NDArray```:"
   ]
  },
  {
   "cell_type": "code",
   "execution_count": null,
   "metadata": {},
   "outputs": [],
   "source": [
    "mapping['x']"
   ]
  },
  {
   "attachments": {},
   "cell_type": "markdown",
   "metadata": {},
   "source": [
    "Analogously, when a ```DataFrame``` is indexed using the ```name``` of a ```Series```, the ```Series``` is returned:"
   ]
  },
  {
   "cell_type": "code",
   "execution_count": null,
   "metadata": {},
   "outputs": [],
   "source": [
    "df['x']"
   ]
  },
  {
   "attachments": {},
   "cell_type": "markdown",
   "metadata": {},
   "source": [
    "A value in the ```NDArray``` instance can be indexed by use of a second set of square brackets to enclose the numeric index:"
   ]
  },
  {
   "cell_type": "code",
   "execution_count": null,
   "metadata": {},
   "outputs": [],
   "source": [
    "mapping['x'][1]"
   ]
  },
  {
   "attachments": {},
   "cell_type": "markdown",
   "metadata": {},
   "source": [
    "Analogously, a ```value``` in the ```Series``` can be indexed by use of a second set of square brackets to enclose the numeric index:"
   ]
  },
  {
   "cell_type": "code",
   "execution_count": null,
   "metadata": {},
   "outputs": [],
   "source": [
    "df['x'][1]"
   ]
  },
  {
   "attachments": {},
   "cell_type": "markdown",
   "metadata": {},
   "source": [
    "If the DataFrame instance is examined:"
   ]
  },
  {
   "attachments": {},
   "cell_type": "markdown",
   "metadata": {},
   "source": [
    "|index|'x'|'y'|\n",
    "|---|---|---|\n",
    "|0|1.1|1.2|\n",
    "|1|2.1|2.2|\n",
    "|2|3.1|3.2|\n",
    "|3|4.1|4.2|"
   ]
  },
  {
   "attachments": {},
   "cell_type": "markdown",
   "metadata": {},
   "source": [
    "The first set of brackets select the Series:"
   ]
  },
  {
   "attachments": {},
   "cell_type": "markdown",
   "metadata": {},
   "source": [
    "|index|'x'|\n",
    "|---|---|\n",
    "|0|1.1|\n",
    "|1|2.1|\n",
    "|2|3.1|\n",
    "|3|4.1|"
   ]
  },
  {
   "attachments": {},
   "cell_type": "markdown",
   "metadata": {},
   "source": [
    "And the second set of brackets selects the index retrieving the value:"
   ]
  },
  {
   "attachments": {},
   "cell_type": "markdown",
   "metadata": {},
   "source": [
    "2.1"
   ]
  },
  {
   "attachments": {},
   "cell_type": "markdown",
   "metadata": {},
   "source": [
    "If the DataFrame is examined:"
   ]
  },
  {
   "attachments": {},
   "cell_type": "markdown",
   "metadata": {},
   "source": [
    "|index|'x'|'y'|\n",
    "|---|---|---|\n",
    "|0|1.1|1.2|\n",
    "|1|2.1|2.2|\n",
    "|2|3.1|3.2|\n",
    "|3|4.1|4.2|"
   ]
  },
  {
   "attachments": {},
   "cell_type": "markdown",
   "metadata": {},
   "source": [
    "Sometimes the value for each ```Series``` at a value within the ```Index``` instance is desired:"
   ]
  },
  {
   "attachments": {},
   "cell_type": "markdown",
   "metadata": {},
   "source": [
    "|index|'x'|'y'|\n",
    "|---|---|---|\n",
    "|1|2.1|2.2|"
   ]
  },
  {
   "attachments": {},
   "cell_type": "markdown",
   "metadata": {},
   "source": [
    "This is done by use of the property location ```loc```. Note that ```loc``` returns the above *row* as a ```Series``` which is displayed by default as a *column*:"
   ]
  },
  {
   "attachments": {},
   "cell_type": "markdown",
   "metadata": {},
   "source": [
    "|index|1|\n",
    "|---|---|\n",
    "|'x'|2.1|\n",
    "|'y'|2.1|"
   ]
  },
  {
   "attachments": {},
   "cell_type": "markdown",
   "metadata": {},
   "source": [
    "```loc``` is callable and has a docstring:"
   ]
  },
  {
   "cell_type": "code",
   "execution_count": null,
   "metadata": {},
   "outputs": [],
   "source": [
    "callable(df.loc)"
   ]
  },
  {
   "cell_type": "code",
   "execution_count": null,
   "metadata": {},
   "outputs": [],
   "source": [
    "df.loc?"
   ]
  },
  {
   "attachments": {},
   "cell_type": "markdown",
   "metadata": {},
   "source": [
    "However unlike most callables it is not called using parenthesis:"
   ]
  },
  {
   "cell_type": "code",
   "execution_count": null,
   "metadata": {},
   "outputs": [],
   "source": [
    "df.loc"
   ]
  },
  {
   "cell_type": "code",
   "execution_count": null,
   "metadata": {},
   "outputs": [],
   "source": [
    "df.loc()"
   ]
  },
  {
   "attachments": {},
   "cell_type": "markdown",
   "metadata": {},
   "source": [
    "Instead ```loc``` is a property. Under the hood it uses syntactic sugar around the datamodel method ```__getitem__``` that switches the order of indexing from the default ```[column, index]``` to ```[index, column]```:"
   ]
  },
  {
   "cell_type": "code",
   "execution_count": null,
   "metadata": {},
   "outputs": [],
   "source": [
    "df.loc[1]"
   ]
  },
  {
   "cell_type": "code",
   "execution_count": null,
   "metadata": {},
   "outputs": [],
   "source": [
    "df.loc[1]['x']"
   ]
  },
  {
   "attachments": {},
   "cell_type": "markdown",
   "metadata": {},
   "source": [
    "```loc``` can also uses index values:"
   ]
  },
  {
   "cell_type": "code",
   "execution_count": null,
   "metadata": {},
   "outputs": [],
   "source": [
    "df.loc[[0, 2]]"
   ]
  },
  {
   "attachments": {},
   "cell_type": "markdown",
   "metadata": {},
   "source": [
    "The related property integer location ```iloc``` always uses a numeric index. Since ```iloc``` has a numeric index, additional numeric operations can be used such as slicing:"
   ]
  },
  {
   "cell_type": "code",
   "execution_count": null,
   "metadata": {},
   "outputs": [],
   "source": [
    "df.iloc[[0, 2]]"
   ]
  },
  {
   "cell_type": "code",
   "execution_count": null,
   "metadata": {},
   "outputs": [],
   "source": [
    "df.iloc[0:2]"
   ]
  },
  {
   "attachments": {},
   "cell_type": "markdown",
   "metadata": {},
   "source": [
    "If the following DataFrame instance is created with index labels i.e. a non-numeric index:"
   ]
  },
  {
   "attachments": {},
   "cell_type": "markdown",
   "metadata": {},
   "source": [
    "|index|'x'|'y'|\n",
    "|---|---|---|\n",
    "|'a'|1.1|1.2|\n",
    "|'b'|2.1|2.2|\n",
    "|'c'|3.1|3.2|\n",
    "|'d'|4.1|4.2|"
   ]
  },
  {
   "cell_type": "code",
   "execution_count": null,
   "metadata": {},
   "outputs": [],
   "source": [
    "df = pd.DataFrame(index=['a', 'b', 'c', 'd'],\n",
    "                  data=mapping)"
   ]
  },
  {
   "cell_type": "code",
   "execution_count": null,
   "metadata": {},
   "outputs": [],
   "source": [
    "df"
   ]
  },
  {
   "attachments": {},
   "cell_type": "markdown",
   "metadata": {},
   "source": [
    "The difference between ```loc``` and ```iloc``` can be seen more clearly. For ```loc``` the index label is used:"
   ]
  },
  {
   "cell_type": "code",
   "execution_count": null,
   "metadata": {},
   "outputs": [],
   "source": [
    "df.loc['b']"
   ]
  },
  {
   "attachments": {},
   "cell_type": "markdown",
   "metadata": {},
   "source": [
    "Despite the labels being non-numeric ```iloc``` handles the index values numerically:"
   ]
  },
  {
   "cell_type": "code",
   "execution_count": null,
   "metadata": {},
   "outputs": [],
   "source": [
    "df.iloc[1]"
   ]
  },
  {
   "attachments": {},
   "cell_type": "markdown",
   "metadata": {},
   "source": [
    "Under the hood ```iloc``` essentially uses the ```DataFrame``` instances reset index:"
   ]
  },
  {
   "cell_type": "code",
   "execution_count": null,
   "metadata": {},
   "outputs": [],
   "source": [
    "df.reset_index(drop=True)"
   ]
  },
  {
   "cell_type": "code",
   "execution_count": null,
   "metadata": {},
   "outputs": [],
   "source": [
    "df.iloc[1]"
   ]
  },
  {
   "attachments": {},
   "cell_type": "markdown",
   "metadata": {},
   "source": [
    "When ```loc``` and ```iloc``` are used to select a single index, the data for each ```Series``` at this index is itself displayed as a ```Series```:"
   ]
  },
  {
   "cell_type": "code",
   "execution_count": null,
   "metadata": {},
   "outputs": [],
   "source": [
    "df.loc['b']"
   ]
  },
  {
   "cell_type": "code",
   "execution_count": null,
   "metadata": {},
   "outputs": [],
   "source": [
    "df.iloc[1]"
   ]
  },
  {
   "attachments": {},
   "cell_type": "markdown",
   "metadata": {},
   "source": [
    "Because each of the above are a ```Series``` instance, they can in turn be indexed into:"
   ]
  },
  {
   "cell_type": "code",
   "execution_count": null,
   "metadata": {},
   "outputs": [],
   "source": [
    "df.loc['b']['y']"
   ]
  },
  {
   "cell_type": "code",
   "execution_count": null,
   "metadata": {},
   "outputs": [],
   "source": [
    "df.iloc[1]['y']"
   ]
  },
  {
   "attachments": {},
   "cell_type": "markdown",
   "metadata": {},
   "source": [
    "When ```iloc``` and ```loc``` are instead used to select data from multiple indexes a ```DataFrame``` instance is output:"
   ]
  },
  {
   "cell_type": "code",
   "execution_count": null,
   "metadata": {},
   "outputs": [],
   "source": [
    "df.loc[['a', 'b']]"
   ]
  },
  {
   "cell_type": "code",
   "execution_count": null,
   "metadata": {},
   "outputs": [],
   "source": [
    "df.iloc[0:2]"
   ]
  },
  {
   "attachments": {},
   "cell_type": "markdown",
   "metadata": {},
   "source": [
    "And because each of these is a ```DataFrame``` instance, the ```Series``` within the ```DataFrame``` instance can then be indexed using the ```Series``` name:"
   ]
  },
  {
   "cell_type": "code",
   "execution_count": null,
   "metadata": {},
   "outputs": [],
   "source": [
    "df.loc[['a', 'b']]['x']"
   ]
  },
  {
   "cell_type": "code",
   "execution_count": null,
   "metadata": {},
   "outputs": [],
   "source": [
    "df.iloc[0:2]['x']"
   ]
  },
  {
   "attachments": {},
   "cell_type": "markdown",
   "metadata": {},
   "source": [
    "```at``` is used for a scalar selector and requires both the index and the ```Series``` name: "
   ]
  },
  {
   "cell_type": "code",
   "execution_count": null,
   "metadata": {},
   "outputs": [],
   "source": [
    "df.at['a', 'y']"
   ]
  },
  {
   "attachments": {},
   "cell_type": "markdown",
   "metadata": {},
   "source": [
    "The related integer at ```iat``` is also a scalar selector and requires both the index and column to be specified as integers:"
   ]
  },
  {
   "cell_type": "code",
   "execution_count": null,
   "metadata": {},
   "outputs": [],
   "source": [
    "df.iat[0, 1]"
   ]
  },
  {
   "attachments": {},
   "cell_type": "markdown",
   "metadata": {},
   "source": [
    "Conceptualise, the ```DataFrame``` being cast to a ```NDArray``` (2D) and indexing a value from it:"
   ]
  },
  {
   "cell_type": "code",
   "execution_count": null,
   "metadata": {},
   "outputs": [],
   "source": [
    "df.to_numpy()"
   ]
  },
  {
   "cell_type": "code",
   "execution_count": null,
   "metadata": {},
   "outputs": [],
   "source": [
    "df.to_numpy()[0, 1]"
   ]
  },
  {
   "attachments": {},
   "cell_type": "markdown",
   "metadata": {},
   "source": [
    "To recap, for a ```DataFrame``` instance:\n",
    "\n",
    "* ```__getitem__``` selects a ```Series``` by default\n",
    "* ```loc``` and ```iloc``` change the behaviour to select an observation from the ```Index``` instance label\n",
    "* ```at``` and ```iat``` select a scalar element\n"
   ]
  },
  {
   "attachments": {},
   "cell_type": "markdown",
   "metadata": {},
   "source": [
    "```loc``` can also be used to add a new observation to the ```DataFrame``` instance:"
   ]
  },
  {
   "cell_type": "code",
   "execution_count": null,
   "metadata": {},
   "outputs": [],
   "source": [
    "df"
   ]
  },
  {
   "cell_type": "code",
   "execution_count": null,
   "metadata": {},
   "outputs": [],
   "source": [
    "df.loc['f'] = {'x': 6.1, 'y': 6.2}"
   ]
  },
  {
   "cell_type": "code",
   "execution_count": null,
   "metadata": {},
   "outputs": [],
   "source": [
    "df.loc['e'] = {'x': 5.1, 'y': 5.2}"
   ]
  },
  {
   "cell_type": "markdown",
   "metadata": {},
   "source": [
    "The ordering of rows (also known as observations) follows the insertion order: "
   ]
  },
  {
   "cell_type": "code",
   "execution_count": null,
   "metadata": {},
   "outputs": [],
   "source": [
    "df"
   ]
  },
  {
   "cell_type": "markdown",
   "metadata": {},
   "source": [
    "The ```DataFrame``` method ```sort_index``` can be used to reorder the index: "
   ]
  },
  {
   "cell_type": "code",
   "execution_count": null,
   "metadata": {},
   "outputs": [],
   "source": [
    "df.sort_index(inplace=True)"
   ]
  },
  {
   "cell_type": "code",
   "execution_count": null,
   "metadata": {},
   "outputs": [],
   "source": [
    "df # modified inplace"
   ]
  },
  {
   "cell_type": "markdown",
   "metadata": {},
   "source": [
    "The ```Index``` instance can also be reset to a numeric index using the ```DataFrame``` instance ```reset_index```:"
   ]
  },
  {
   "cell_type": "code",
   "execution_count": null,
   "metadata": {},
   "outputs": [],
   "source": [
    "df.reset_index(drop=True, inplace=True)"
   ]
  },
  {
   "cell_type": "code",
   "execution_count": null,
   "metadata": {},
   "outputs": [],
   "source": [
    "df # modified inplace"
   ]
  },
  {
   "attachments": {},
   "cell_type": "markdown",
   "metadata": {},
   "source": [
    "The length of the ```DataFrame``` gives the number of rows (observations):"
   ]
  },
  {
   "cell_type": "code",
   "execution_count": null,
   "metadata": {},
   "outputs": [],
   "source": [
    "len(df)"
   ]
  },
  {
   "cell_type": "markdown",
   "metadata": {},
   "source": [
    "Python uses zero-order indexing and the ```Index``` starts at ```0``` (inclusive) and stops at ```len(df)``` (exclusive)."
   ]
  },
  {
   "attachments": {},
   "cell_type": "markdown",
   "metadata": {},
   "source": [
    "```iloc``` cannot be used to index into an index value that doesn't exist and cannot be used to add a new observation. However ```loc``` can be used to add a numeric index using the ```len``` of the ```DataFrame``` instance:"
   ]
  },
  {
   "cell_type": "code",
   "execution_count": null,
   "metadata": {},
   "outputs": [],
   "source": [
    "df.loc[len(df)] = {'x': 7.1, 'y': 7.2}"
   ]
  },
  {
   "cell_type": "code",
   "execution_count": null,
   "metadata": {},
   "outputs": [],
   "source": [
    "df"
   ]
  },
  {
   "attachments": {},
   "cell_type": "markdown",
   "metadata": {},
   "source": [
    "## DataFrame Properties"
   ]
  },
  {
   "attachments": {},
   "cell_type": "markdown",
   "metadata": {},
   "source": [
    "Supposing the following ```DataFrame``` is instantiated to ```df```:"
   ]
  },
  {
   "cell_type": "code",
   "execution_count": null,
   "metadata": {},
   "outputs": [],
   "source": [
    "df = pd.DataFrame(index=['a', 'b', 'c', 'd', 'e', 'f', 'g'],\n",
    "                  data={'x': np.array([1.1, 2.1, 3.1, 4.1, 5.1, 6.1, 7.1]),\n",
    "                        'y': np.array([1.2, 2.2, 3.2, 4.2, 5.2, 6.2, 7.2])})"
   ]
  },
  {
   "cell_type": "code",
   "execution_count": null,
   "metadata": {},
   "outputs": [],
   "source": [
    "df"
   ]
  },
  {
   "attachments": {},
   "cell_type": "markdown",
   "metadata": {},
   "source": [
    "The ```DataFrame``` instance has the following dimension related properties. The attribute ```empty``` returns a boolean that is ```True``` only with an empty DataFrame:"
   ]
  },
  {
   "cell_type": "code",
   "execution_count": null,
   "metadata": {},
   "outputs": [],
   "source": [
    "df.empty"
   ]
  },
  {
   "cell_type": "code",
   "execution_count": null,
   "metadata": {},
   "outputs": [],
   "source": [
    "pd.DataFrame(None).empty"
   ]
  },
  {
   "attachments": {},
   "cell_type": "markdown",
   "metadata": {},
   "source": [
    "A ```DataFrame``` instance has a length, which is returned by the ```builtins``` function ```len```. This was seen previously to correspond to the number of rows (number of observations):"
   ]
  },
  {
   "cell_type": "code",
   "execution_count": null,
   "metadata": {},
   "outputs": [],
   "source": [
    "len(df)"
   ]
  },
  {
   "attachments": {},
   "cell_type": "markdown",
   "metadata": {},
   "source": [
    "A ```DataFrame``` instance has the attribute ```shape``` which is a ```tuple``` of dimensions. The 1st dimension is the number of rows (observations in the index) and the 2nd value is the number of ```Series``` (columns):"
   ]
  },
  {
   "cell_type": "code",
   "execution_count": null,
   "metadata": {},
   "outputs": [],
   "source": [
    "df.shape"
   ]
  },
  {
   "attachments": {},
   "cell_type": "markdown",
   "metadata": {},
   "source": [
    "A ```DataFrame``` instance has the attribute ```ndim``` which gives the number fo dimensions and is always ```2```:"
   ]
  },
  {
   "cell_type": "code",
   "execution_count": null,
   "metadata": {},
   "outputs": [],
   "source": [
    "df.ndim"
   ]
  },
  {
   "attachments": {},
   "cell_type": "markdown",
   "metadata": {},
   "source": [
    "Recall this is equivalent to the length of the ```shape``` ```tuple```:"
   ]
  },
  {
   "cell_type": "code",
   "execution_count": null,
   "metadata": {},
   "outputs": [],
   "source": [
    "len(df.shape)"
   ]
  },
  {
   "attachments": {},
   "cell_type": "markdown",
   "metadata": {},
   "source": [
    "The ```DataFrame``` instance has a ```size``` attribute which is the product of the elements in the ```shape``` ```tuple```:"
   ]
  },
  {
   "cell_type": "code",
   "execution_count": null,
   "metadata": {},
   "outputs": [],
   "source": [
    "df.size"
   ]
  },
  {
   "attachments": {},
   "cell_type": "markdown",
   "metadata": {},
   "source": [
    "The ```index``` attribute returns the ```Index``` instance associated with the ```DataFrame```. An ```Index``` instance has a single dimension that can either be depicted as a row or a column. The output below displays this as a row although the index itself is conventionally depicted as a column when incorporated as part of a ```DataFrame```:"
   ]
  },
  {
   "cell_type": "code",
   "execution_count": null,
   "metadata": {},
   "outputs": [],
   "source": [
    "df.index"
   ]
  },
  {
   "attachments": {},
   "cell_type": "markdown",
   "metadata": {},
   "source": [
    "When no ```index``` is supplied during ```DataFrame``` instantiation a ```RangeIndex``` is automatically generated:"
   ]
  },
  {
   "cell_type": "code",
   "execution_count": null,
   "metadata": {},
   "outputs": [],
   "source": [
    "df2 = pd.DataFrame(data={'x': np.array([1.1, 2.1, 3.1, 3.1]),\n",
    "                         'y': np.array([1.2, 2.2, 3.2, 4.2])})"
   ]
  },
  {
   "cell_type": "code",
   "execution_count": null,
   "metadata": {},
   "outputs": [],
   "source": [
    "df2.index"
   ]
  },
  {
   "attachments": {},
   "cell_type": "markdown",
   "metadata": {},
   "source": [
    "The ```columns``` attribute also returns an ```Index``` instance corresponding to the names of each ```Series``` in the ```DataFrame```:"
   ]
  },
  {
   "cell_type": "code",
   "execution_count": null,
   "metadata": {},
   "outputs": [],
   "source": [
    "df.columns"
   ]
  },
  {
   "attachments": {},
   "cell_type": "markdown",
   "metadata": {},
   "source": [
    "The attribute ```axes``` returns a 2 element list, where the first element is the ```index``` attribute and the second element is the ```columns``` attribute:"
   ]
  },
  {
   "cell_type": "code",
   "execution_count": null,
   "metadata": {},
   "outputs": [],
   "source": [
    "df.axes"
   ]
  },
  {
   "attachments": {},
   "cell_type": "markdown",
   "metadata": {},
   "source": [
    "The attribute ```values``` returns the values in the ```DataFrame``` in the form of a ```NDArray``` (2D):"
   ]
  },
  {
   "cell_type": "code",
   "execution_count": null,
   "metadata": {},
   "outputs": [],
   "source": [
    "df.values"
   ]
  },
  {
   "attachments": {},
   "cell_type": "markdown",
   "metadata": {},
   "source": [
    "The attribute ```dtypes``` returns the datatypes of each ```Series``` and of the ```DataFrame```:"
   ]
  },
  {
   "cell_type": "code",
   "execution_count": null,
   "metadata": {},
   "outputs": [],
   "source": [
    "df.dtypes"
   ]
  },
  {
   "attachments": {},
   "cell_type": "markdown",
   "metadata": {},
   "source": [
    "The ```Series``` instances ```x``` and ```y``` are each of the datatype ```float64```, the ```DataFrame``` instance ```df``` is of the datatype ```object```. A ```DataFrame``` instance is always of the type ```object```."
   ]
  },
  {
   "attachments": {},
   "cell_type": "markdown",
   "metadata": {},
   "source": [
    "Each existing ```Series``` is accessible as an attribute:"
   ]
  },
  {
   "cell_type": "code",
   "execution_count": null,
   "metadata": {},
   "outputs": [],
   "source": [
    "df.x"
   ]
  },
  {
   "cell_type": "code",
   "execution_count": null,
   "metadata": {},
   "outputs": [],
   "source": [
    "df.y"
   ]
  },
  {
   "attachments": {},
   "cell_type": "markdown",
   "metadata": {},
   "source": [
    "The formal representation of the ```DataFrame``` instance ```df``` can be examined in a cell:"
   ]
  },
  {
   "cell_type": "code",
   "execution_count": null,
   "metadata": {},
   "outputs": [],
   "source": [
    "df"
   ]
  },
  {
   "attachments": {},
   "cell_type": "markdown",
   "metadata": {},
   "source": [
    "The attribute ```style``` can instead be used to display a ```DataFrame``` instance using a specific style. The default style is shown:"
   ]
  },
  {
   "cell_type": "code",
   "execution_count": null,
   "metadata": {},
   "outputs": [],
   "source": [
    "df.style"
   ]
  },
  {
   "attachments": {},
   "cell_type": "markdown",
   "metadata": {},
   "source": [
    "This ```style``` attribute has a number of stackable methods which return a modified ```style``` and can therefore be stacked to apply custom formatting:"
   ]
  },
  {
   "cell_type": "code",
   "execution_count": null,
   "metadata": {},
   "outputs": [],
   "source": [
    "print_identifier_group(df.style, kind='function')"
   ]
  },
  {
   "cell_type": "code",
   "execution_count": null,
   "metadata": {},
   "outputs": [],
   "source": [
    "df.style.format(precision=3).set_caption('DataFrame Instance')"
   ]
  },
  {
   "attachments": {},
   "cell_type": "markdown",
   "metadata": {},
   "source": [
    "The attributes ```attrs``` is an empty dictionary by default and is designed to store metadata associated with the ```DataFrame``` instance:"
   ]
  },
  {
   "cell_type": "code",
   "execution_count": null,
   "metadata": {},
   "outputs": [],
   "source": [
    "df.attrs"
   ]
  },
  {
   "attachments": {},
   "cell_type": "markdown",
   "metadata": {},
   "source": [
    "This metadata can include a text description giving information about how the data was collection or contain a link to where the data was sourced from:"
   ]
  },
  {
   "cell_type": "code",
   "execution_count": null,
   "metadata": {},
   "outputs": [],
   "source": [
    "df.attrs = {'description': 'this DataFrame was instantiated from a dict',\n",
    "            'documentation': r'https://pandas.pydata.org/docs/getting_started/index.html'}"
   ]
  },
  {
   "attachments": {},
   "cell_type": "markdown",
   "metadata": {},
   "source": [
    "The ```DataFrame``` method ```info``` gives information about the ```DataFrame```:"
   ]
  },
  {
   "cell_type": "code",
   "execution_count": null,
   "metadata": {},
   "outputs": [],
   "source": [
    "df.info()"
   ]
  },
  {
   "attachments": {},
   "cell_type": "markdown",
   "metadata": {},
   "source": [
    "The ```DataFrame``` method ```describe``` method gives supplementary descriptive statistics on each numeric ```Series```:"
   ]
  },
  {
   "cell_type": "code",
   "execution_count": null,
   "metadata": {},
   "outputs": [],
   "source": [
    "df.describe()"
   ]
  },
  {
   "attachments": {},
   "cell_type": "markdown",
   "metadata": {},
   "source": [
    "The ```DataFrame``` methods ```head``` and ```tail``` give the top 5 and last 5 observations by default and are usually used to preview a large ```DataFrame``` instance:"
   ]
  },
  {
   "cell_type": "code",
   "execution_count": null,
   "metadata": {},
   "outputs": [],
   "source": [
    "df"
   ]
  },
  {
   "cell_type": "code",
   "execution_count": null,
   "metadata": {},
   "outputs": [],
   "source": [
    "df.head()"
   ]
  },
  {
   "cell_type": "code",
   "execution_count": null,
   "metadata": {},
   "outputs": [],
   "source": [
    "df.tail()"
   ]
  },
  {
   "attachments": {},
   "cell_type": "markdown",
   "metadata": {},
   "source": [
    "The number of observations ```n``` defaults to ```5``` and can be changed:"
   ]
  },
  {
   "cell_type": "code",
   "execution_count": null,
   "metadata": {},
   "outputs": [],
   "source": [
    "df.head(n=3)"
   ]
  },
  {
   "attachments": {},
   "cell_type": "markdown",
   "metadata": {},
   "source": [
    "The ```DataFrame``` method ```nunique``` gives the number of unique observations for each ```Series```:"
   ]
  },
  {
   "cell_type": "code",
   "execution_count": null,
   "metadata": {},
   "outputs": [],
   "source": [
    "df.nunique()"
   ]
  },
  {
   "attachments": {},
   "cell_type": "markdown",
   "metadata": {},
   "source": [
    "## Attribute Access - Dictionary Syntax vs Dot Syntax"
   ]
  },
  {
   "attachments": {},
   "cell_type": "markdown",
   "metadata": {},
   "source": [
    "If the following ```DataFrame``` is instantiated to ```df```:"
   ]
  },
  {
   "cell_type": "code",
   "execution_count": null,
   "metadata": {},
   "outputs": [],
   "source": [
    "df = pd.DataFrame(index = np.array(['a', 'b', 'c', 'd']),\n",
    "                  data={'x': np.array([1.1, 2.1, 3.1, 4.1]),\n",
    "                        'y': np.array([1.2, 2.2, 3.2, 4.2])})"
   ]
  },
  {
   "cell_type": "code",
   "execution_count": null,
   "metadata": {},
   "outputs": [],
   "source": [
    "df"
   ]
  },
  {
   "attachments": {},
   "cell_type": "markdown",
   "metadata": {},
   "source": [
    "Each ```Series``` can be accessed from the ```DataFrame``` instance ```df``` by indexing into ```df``` using the corresponding ```Series``` ```name``` enclosed in square brackets. This style of ```Series``` access is analogous to retrieving a value from a ```dict``` by use of its ```key```:"
   ]
  },
  {
   "cell_type": "code",
   "execution_count": null,
   "metadata": {},
   "outputs": [],
   "source": [
    "df['x']"
   ]
  },
  {
   "attachments": {},
   "cell_type": "markdown",
   "metadata": {},
   "source": [
    "Since the following is ```True```:"
   ]
  },
  {
   "cell_type": "code",
   "execution_count": null,
   "metadata": {},
   "outputs": [],
   "source": [
    "'x'.isidentifier()"
   ]
  },
  {
   "attachments": {},
   "cell_type": "markdown",
   "metadata": {},
   "source": [
    "```x``` becomes an attribute and can also be accessed using:"
   ]
  },
  {
   "cell_type": "code",
   "execution_count": null,
   "metadata": {},
   "outputs": [],
   "source": [
    "df.x"
   ]
  },
  {
   "cell_type": "code",
   "execution_count": null,
   "metadata": {},
   "outputs": [],
   "source": [
    "df.x is df['x']"
   ]
  },
  {
   "attachments": {},
   "cell_type": "markdown",
   "metadata": {},
   "source": [
    "A ```Series``` ```name``` only becomes an attribute of a DataFrame **after** it is instantiated and if it is a valid identifier:"
   ]
  },
  {
   "cell_type": "code",
   "execution_count": null,
   "metadata": {},
   "outputs": [],
   "source": [
    "df['z1'] = np.array([1.3, 2.3, 2.3, 2.4])"
   ]
  },
  {
   "cell_type": "code",
   "execution_count": null,
   "metadata": {},
   "outputs": [],
   "source": [
    "df"
   ]
  },
  {
   "cell_type": "code",
   "execution_count": null,
   "metadata": {},
   "outputs": [],
   "source": [
    "df.z1"
   ]
  },
  {
   "attachments": {},
   "cell_type": "markdown",
   "metadata": {},
   "source": [
    "A ```UserWarning``` displays if the dot syntax is used in an attempt to create a new attribute, leaving the ```df``` instance unchanged. \n",
    "\n",
    "Notice when an invalid identifier is used as the ```nam``` for a new ```Series```:"
   ]
  },
  {
   "cell_type": "code",
   "execution_count": null,
   "metadata": {},
   "outputs": [],
   "source": [
    "'1'.isidentifier()"
   ]
  },
  {
   "cell_type": "code",
   "execution_count": null,
   "metadata": {},
   "outputs": [],
   "source": [
    "df['1'] = np.array([1.3, 2.3, 2.3, 2.4])"
   ]
  },
  {
   "cell_type": "markdown",
   "metadata": {},
   "source": [
    "That it does not show as an attribute:"
   ]
  },
  {
   "cell_type": "code",
   "execution_count": null,
   "metadata": {},
   "outputs": [],
   "source": [
    "print_identifier_group(df, kind='attribute')"
   ]
  },
  {
   "attachments": {},
   "cell_type": "markdown",
   "metadata": {},
   "source": [
    "For this reason ```Series``` names should generally follow the naming conventions of Python identifiers."
   ]
  },
  {
   "attachments": {},
   "cell_type": "markdown",
   "metadata": {},
   "source": [
    "Although the dot attribute access from the ```DataFrame``` instance ```df``` is unavailable for this Series instance ```'1'```. The Series instance ```'1'``` can still be accessed by indexing into the ```DataFrame``` instance ```df``` using the ```Series``` ```name``` ```'1'```:"
   ]
  },
  {
   "cell_type": "code",
   "execution_count": null,
   "metadata": {},
   "outputs": [],
   "source": [
    "df['1']"
   ]
  },
  {
   "attachments": {},
   "cell_type": "markdown",
   "metadata": {},
   "source": [
    "Accessing a ```Series``` via dictionary-style indexing is therefore more powerful and this syntax is generally preferred."
   ]
  },
  {
   "attachments": {},
   "cell_type": "markdown",
   "metadata": {},
   "source": [
    "The major drawback of the dictionary-style indexing syntax is with code-completion. Notice no docstring displays when ```?``` is used:"
   ]
  },
  {
   "cell_type": "code",
   "execution_count": null,
   "metadata": {},
   "outputs": [],
   "source": [
    "df['x'].info?"
   ]
  },
  {
   "cell_type": "code",
   "execution_count": null,
   "metadata": {},
   "outputs": [],
   "source": [
    "df['x'].info()"
   ]
  },
  {
   "attachments": {},
   "cell_type": "markdown",
   "metadata": {},
   "source": [
    "However if the attribute is used, the docstring displays:"
   ]
  },
  {
   "cell_type": "code",
   "execution_count": null,
   "metadata": {},
   "outputs": [],
   "source": [
    "df.x.info?"
   ]
  },
  {
   "cell_type": "code",
   "execution_count": null,
   "metadata": {},
   "outputs": [],
   "source": [
    "df.x.info()"
   ]
  },
  {
   "attachments": {},
   "cell_type": "markdown",
   "metadata": {},
   "source": [
    "The ```Series``` method info gives the same result in both cases."
   ]
  },
  {
   "attachments": {},
   "cell_type": "markdown",
   "metadata": {},
   "source": [
    "When the ```name``` used in an  ```Index``` is also a valid identifier:"
   ]
  },
  {
   "cell_type": "code",
   "execution_count": null,
   "metadata": {},
   "outputs": [],
   "source": [
    "'a'.isidentifier()"
   ]
  },
  {
   "attachments": {},
   "cell_type": "markdown",
   "metadata": {},
   "source": [
    "It will be available as an attribute for each  ```Series```:"
   ]
  },
  {
   "cell_type": "code",
   "execution_count": null,
   "metadata": {},
   "outputs": [],
   "source": [
    "df.x.a"
   ]
  },
  {
   "attachments": {},
   "cell_type": "markdown",
   "metadata": {},
   "source": [
    "The default ```Index``` is numeric ```RangeIndex``` of integer steps which are invalid identifiers:"
   ]
  },
  {
   "cell_type": "code",
   "execution_count": null,
   "metadata": {},
   "outputs": [],
   "source": [
    "'0'.isidentifier()"
   ]
  },
  {
   "attachments": {},
   "cell_type": "markdown",
   "metadata": {},
   "source": [
    "And therefore when the default ```RangeIndex``` is used:"
   ]
  },
  {
   "cell_type": "code",
   "execution_count": null,
   "metadata": {},
   "outputs": [],
   "source": [
    "df = pd.DataFrame(data={'x': np.array([1.1, 2.1, 3.1, 4.1]),\n",
    "                        'y': np.array([1.2, 2.2, 3.2, 4.2])})"
   ]
  },
  {
   "cell_type": "code",
   "execution_count": null,
   "metadata": {},
   "outputs": [],
   "source": [
    "df"
   ]
  },
  {
   "attachments": {},
   "cell_type": "markdown",
   "metadata": {},
   "source": [
    "Because these are invalid identifiers they do not show as attributes for any of the ```Series``` belonging to the ```DataFrame``` instance:"
   ]
  },
  {
   "cell_type": "code",
   "execution_count": null,
   "metadata": {},
   "outputs": [],
   "source": [
    "print_identifier_group(df['x'], kind='attribute')"
   ]
  },
  {
   "attachments": {},
   "cell_type": "markdown",
   "metadata": {},
   "source": [
    "However the ```rows``` can be selected by indexing the numeric index in square brackets:"
   ]
  },
  {
   "cell_type": "code",
   "execution_count": null,
   "metadata": {},
   "outputs": [],
   "source": [
    "df['x'][1]"
   ]
  },
  {
   "attachments": {},
   "cell_type": "markdown",
   "metadata": {},
   "source": [
    "## Combining DataFrames"
   ]
  },
  {
   "attachments": {},
   "cell_type": "markdown",
   "metadata": {},
   "source": [
    "```DataFrame``` methods are generally setup for ```Series```. For example if the following ```DataFrame``` instance is examined:"
   ]
  },
  {
   "cell_type": "code",
   "execution_count": null,
   "metadata": {},
   "outputs": [],
   "source": [
    "df = pd.DataFrame(data={'x': np.array([1.1, 2.1, 3.1, 4.1]),\n",
    "                        'y': np.array([1.2, 2.2, 3.2, 4.2])})"
   ]
  },
  {
   "cell_type": "code",
   "execution_count": null,
   "metadata": {},
   "outputs": [],
   "source": [
    "df"
   ]
  },
  {
   "attachments": {},
   "cell_type": "markdown",
   "metadata": {},
   "source": [
    "A ```Series``` is typically appended to the end of the ```DataFrame``` by use of:"
   ]
  },
  {
   "cell_type": "code",
   "execution_count": null,
   "metadata": {},
   "outputs": [],
   "source": [
    "df['z'] = np.array([1.3, 2.3, 3.3, 4.3])"
   ]
  },
  {
   "cell_type": "code",
   "execution_count": null,
   "metadata": {},
   "outputs": [],
   "source": [
    "df"
   ]
  },
  {
   "attachments": {},
   "cell_type": "markdown",
   "metadata": {},
   "source": [
    "Alternatively a ```Series``` can be inserted at a specified index using the mutable method ```insert```:"
   ]
  },
  {
   "cell_type": "code",
   "execution_count": null,
   "metadata": {},
   "outputs": [],
   "source": [
    "df.insert?"
   ]
  },
  {
   "cell_type": "code",
   "execution_count": null,
   "metadata": {},
   "outputs": [],
   "source": [
    "df.insert(loc=0, column='w', value=np.array([1.0, 2.0, 3.0, 4.0]))"
   ]
  },
  {
   "cell_type": "code",
   "execution_count": null,
   "metadata": {},
   "outputs": [],
   "source": [
    "df"
   ]
  },
  {
   "attachments": {},
   "cell_type": "markdown",
   "metadata": {},
   "source": [
    "Recall to append an observation to a ```DataFrame```, ```loc``` is typically used and assigned to a mapping where the keys are the column names and the values are the associated values at that observation:"
   ]
  },
  {
   "cell_type": "code",
   "execution_count": null,
   "metadata": {},
   "outputs": [],
   "source": [
    "df.loc[len(df)] = {'w': 5.0, 'x': 5.1, 'y': 5.2, 'z': 5.3}"
   ]
  },
  {
   "cell_type": "code",
   "execution_count": null,
   "metadata": {},
   "outputs": [],
   "source": [
    "df"
   ]
  },
  {
   "attachments": {},
   "cell_type": "markdown",
   "metadata": {},
   "source": [
    "When multiple observations are to be appended to a ```DataFrame``` they are normally in the form of a ```DataFrame```:"
   ]
  },
  {
   "cell_type": "code",
   "execution_count": null,
   "metadata": {},
   "outputs": [],
   "source": [
    "df2 = pd.DataFrame(index=np.array([5, 6]),\n",
    "                                  data = {'w': np.array([6.0, 7.0]),\n",
    "                                          'x': np.array([6.1, 7.1]),\n",
    "                                          'y': np.array([6.2, 7.2]),\n",
    "                                          'z': np.array([6.3, 7.3])})"
   ]
  },
  {
   "cell_type": "code",
   "execution_count": null,
   "metadata": {},
   "outputs": [],
   "source": [
    "df"
   ]
  },
  {
   "cell_type": "code",
   "execution_count": null,
   "metadata": {},
   "outputs": [],
   "source": [
    "df2"
   ]
  },
  {
   "attachments": {},
   "cell_type": "markdown",
   "metadata": {},
   "source": [
    "The function ```pd.concat``` can be used to concatenate these two ```DataFrame``` instances:"
   ]
  },
  {
   "cell_type": "code",
   "execution_count": null,
   "metadata": {},
   "outputs": [],
   "source": [
    "pd.concat?"
   ]
  },
  {
   "attachments": {},
   "cell_type": "markdown",
   "metadata": {},
   "source": [
    "For example, ```df``` and ```df2``` can be concatenated along ```axis``` ```0``` which recall is ```'rows'``` (the index):"
   ]
  },
  {
   "cell_type": "code",
   "execution_count": null,
   "metadata": {},
   "outputs": [],
   "source": [
    "pd.concat(objs=[df, df2], axis='rows') #'index'"
   ]
  },
  {
   "attachments": {},
   "cell_type": "markdown",
   "metadata": {},
   "source": [
    "If these ```DataFrame``` instances are created with the default indexes:"
   ]
  },
  {
   "cell_type": "code",
   "execution_count": null,
   "metadata": {},
   "outputs": [],
   "source": [
    "df.reset_index(drop=True, inplace=True)\n",
    "df"
   ]
  },
  {
   "cell_type": "code",
   "execution_count": null,
   "metadata": {},
   "outputs": [],
   "source": [
    "df2.reset_index(drop=True, inplace=True)\n",
    "df2"
   ]
  },
  {
   "attachments": {},
   "cell_type": "markdown",
   "metadata": {},
   "source": [
    "Notice the index now has duplicate entires:"
   ]
  },
  {
   "cell_type": "code",
   "execution_count": null,
   "metadata": {},
   "outputs": [],
   "source": [
    "pd.concat(objs=[df, df2])"
   ]
  },
  {
   "attachments": {},
   "cell_type": "markdown",
   "metadata": {},
   "source": [
    "In such a scenario it is common to assign ```ignore_index``` to ```True``` which will recreate a numeric ```RangeIndex```:"
   ]
  },
  {
   "cell_type": "code",
   "execution_count": null,
   "metadata": {},
   "outputs": [],
   "source": [
    "pd.concat([df, df2], ignore_index=True)"
   ]
  },
  {
   "attachments": {},
   "cell_type": "markdown",
   "metadata": {},
   "source": [
    "When a ```DataFrame``` instance has a ```Series``` not in common with the second ```DataFrame``` instance being concatenated:"
   ]
  },
  {
   "cell_type": "code",
   "execution_count": null,
   "metadata": {},
   "outputs": [],
   "source": [
    "df = pd.DataFrame(data={'x': np.array([1.1, 2.1, 3.1, 4.1]),\n",
    "                        'y': np.array([1.2, 2.2, 3.2, 4.2])})"
   ]
  },
  {
   "cell_type": "code",
   "execution_count": null,
   "metadata": {},
   "outputs": [],
   "source": [
    "df2 = pd.DataFrame(data = {'w': np.array([6.0, 7.0]),\n",
    "                           'z': np.array([6.3, 7.3])})"
   ]
  },
  {
   "cell_type": "code",
   "execution_count": null,
   "metadata": {},
   "outputs": [],
   "source": [
    "df"
   ]
  },
  {
   "cell_type": "code",
   "execution_count": null,
   "metadata": {},
   "outputs": [],
   "source": [
    "df2"
   ]
  },
  {
   "attachments": {},
   "cell_type": "markdown",
   "metadata": {},
   "source": [
    "The ```DataFrame``` instances can be ```'outer'``` joined (the default). This will lead to ```NaN``` values where no data was supplied:"
   ]
  },
  {
   "cell_type": "code",
   "execution_count": null,
   "metadata": {},
   "outputs": [],
   "source": [
    "pd.concat(objs=[df, df2], axis='columns', join='outer') #'columns'"
   ]
  },
  {
   "attachments": {},
   "cell_type": "markdown",
   "metadata": {},
   "source": [
    "Alternatively the two ```DataFrame``` instances can be ```'inner'``` joined, which will drop the observations that are missing data:"
   ]
  },
  {
   "cell_type": "code",
   "execution_count": null,
   "metadata": {},
   "outputs": [],
   "source": [
    "pd.concat([df, df2], axis='columns', join='inner') #'columns'"
   ]
  },
  {
   "attachments": {},
   "cell_type": "markdown",
   "metadata": {},
   "source": [
    "The ```DataFrame``` method ```align``` can be used to align the data of a ```DataFrame``` with another ```DataFrame``` instance for the purpose of comparison:"
   ]
  },
  {
   "cell_type": "code",
   "execution_count": null,
   "metadata": {},
   "outputs": [],
   "source": [
    "df3 = pd.concat([df, df2], axis=1, join='inner') #'columns'"
   ]
  },
  {
   "cell_type": "code",
   "execution_count": null,
   "metadata": {},
   "outputs": [],
   "source": [
    "df.align(other=df3)"
   ]
  },
  {
   "attachments": {},
   "cell_type": "markdown",
   "metadata": {},
   "source": [
    "## Not Available Values"
   ]
  },
  {
   "attachments": {},
   "cell_type": "markdown",
   "metadata": {},
   "source": [
    "The following ```DataFrame``` can be instantiated to ```df``` with multiple ```None``` values:"
   ]
  },
  {
   "cell_type": "code",
   "execution_count": null,
   "metadata": {},
   "outputs": [],
   "source": [
    "df = pd.DataFrame(index=['a', 'b', 'c', 'd', 'e', 'f', 'g'],\n",
    "                  data={'x': np.array([1.1, None, 3.1, None, 5.1, None, 7.1]),\n",
    "                        'y': np.array([1.2, None, 3.2, 4.2, 5.2, 6.2, 7.2])})"
   ]
  },
  {
   "attachments": {},
   "cell_type": "markdown",
   "metadata": {},
   "source": [
    "The ```DataFrame``` instance ```df``` information can be examined. Notice that there are 7 rows; 4 rows have available (non-null) values in ```Series``` instance ```x``` and ```6``` rows have available (non-null) values in ```Series``` instance ```y```:"
   ]
  },
  {
   "cell_type": "code",
   "execution_count": null,
   "metadata": {},
   "outputs": [],
   "source": [
    "df.info()"
   ]
  },
  {
   "attachments": {},
   "cell_type": "markdown",
   "metadata": {},
   "source": [
    "The ```DataFrame``` instance ```df``` descriptive statistics can be viewed:"
   ]
  },
  {
   "cell_type": "code",
   "execution_count": null,
   "metadata": {},
   "outputs": [],
   "source": [
    "df.describe()"
   ]
  },
  {
   "attachments": {},
   "cell_type": "markdown",
   "metadata": {},
   "source": [
    "Notice in the information that the datatype is now ```object``` instead of ```float64```. The ```DataFrame``` instance uses the datatype ```object``` for each ```Series``` because each of these ```Series``` contain the value ```None``` which is a generic Python ```object```:"
   ]
  },
  {
   "cell_type": "code",
   "execution_count": null,
   "metadata": {},
   "outputs": [],
   "source": [
    "df"
   ]
  },
  {
   "cell_type": "markdown",
   "metadata": {},
   "source": [
    "The datatype of each ```Series``` in the ```DataFrame``` can be changed to a ```float``` using the method ```astype```:"
   ]
  },
  {
   "cell_type": "code",
   "execution_count": null,
   "metadata": {},
   "outputs": [],
   "source": [
    "df.astype(float)"
   ]
  },
  {
   "attachments": {},
   "cell_type": "markdown",
   "metadata": {},
   "source": [
    "Notice the values that were previously ```None``` are cast into ```NaN``` (Not a Number). ```NaN``` conceptually is similar to ```None``` however it has a datatype of ```float``` and is therefore designated as being numeric. ```Series``` instances that only have numeric data inclusive of ```NaN``` therefore have the datatype ```float```. Both ```None``` and ```NaN``` are classified as ```not available``` values and are known collectively as ```null``` values.\n",
    "\n",
    "The changes can be seen when the ```DataFrame``` method ```info``` is used on the returned ```DataFrame``` instance:"
   ]
  },
  {
   "cell_type": "code",
   "execution_count": null,
   "metadata": {},
   "outputs": [],
   "source": [
    "df.astype(float).info()"
   ]
  },
  {
   "cell_type": "markdown",
   "metadata": {},
   "source": [
    "Notice the changes when the ```DataFrame``` method ```describe``` is used on the returned ```DataFrame``` instance. Because each ```Series``` is numeric additional statics can be calculated:"
   ]
  },
  {
   "cell_type": "code",
   "execution_count": null,
   "metadata": {},
   "outputs": [],
   "source": [
    "df.astype(float).describe()"
   ]
  },
  {
   "attachments": {},
   "cell_type": "markdown",
   "metadata": {},
   "source": [
    "The ```DataFrame``` method drop not available ```dropna``` can be used to drop not available values (```None``` or ```NaN``` values) outputting a new ```DataFrame``` instance. Notice the number of rows is now reduced to 4: "
   ]
  },
  {
   "cell_type": "code",
   "execution_count": null,
   "metadata": {},
   "outputs": [],
   "source": [
    "df.dropna()"
   ]
  },
  {
   "attachments": {},
   "cell_type": "markdown",
   "metadata": {},
   "source": [
    "If the ```DataFrame``` method ```info``` is used on this new ```DataFrame``` instance, notice the datatype of each ```Series``` is still ```object``` and not ```float64```:"
   ]
  },
  {
   "cell_type": "code",
   "execution_count": null,
   "metadata": {},
   "outputs": [],
   "source": [
    "df.dropna().info()"
   ]
  },
  {
   "attachments": {},
   "cell_type": "markdown",
   "metadata": {},
   "source": [
    "The ```DataFrame``` method ```astype``` can be used to change the datatype of each ```Series``` in the returned ```DataFrame``` to ```float``` once again and this once again outputs a new ```DataFrame``` instance. If the ```DataFrame``` method ```info``` is examined for this new ```DataFrame``` instance, each ```Series``` now has a ```float64``` datatype:"
   ]
  },
  {
   "cell_type": "code",
   "execution_count": null,
   "metadata": {},
   "outputs": [],
   "source": [
    "df.dropna().astype(float).info()"
   ]
  },
  {
   "cell_type": "markdown",
   "metadata": {},
   "source": [
    "Note ```DataFrame``` methods are often stacked for convenience:\n",
    "\n",
    "* df # Original DataFrame instance 1\n",
    "* df.drop(na) # returns a DataFrame instance 2\n",
    "* df.drop(na).astype(float) # returns a DataFrame instance 3\n",
    "\n",
    "A ```Series``` can also be selected from ```DataFrame``` instance 3:"
   ]
  },
  {
   "cell_type": "code",
   "execution_count": null,
   "metadata": {},
   "outputs": [],
   "source": [
    "df.dropna().astype(float)['x']"
   ]
  },
  {
   "cell_type": "markdown",
   "metadata": {},
   "source": [
    "And a ```Series``` method ```astype``` can be used on this ```Series``` returning another ```Series```:"
   ]
  },
  {
   "cell_type": "code",
   "execution_count": null,
   "metadata": {},
   "outputs": [],
   "source": [
    "df.dropna().astype(float)['x'].astype(int)"
   ]
  },
  {
   "attachments": {},
   "cell_type": "markdown",
   "metadata": {},
   "source": [
    "The ```DataFrame``` method ```dropna``` was demonstrated over a small ```DataFrame``` instance with a small number of rows. This method is however usually only typically employed on a ```DataFrame``` that contains a large number of rows that has enough data for further analysis without that isn't influence too much by the missing values. For a sparse dataset, it is common to attempt to fill in the missign values in some way. The ```DataFrame``` method ```fillna``` can be used to fill in not available values. These can be filled with a constant value:"
   ]
  },
  {
   "cell_type": "code",
   "execution_count": null,
   "metadata": {},
   "outputs": [],
   "source": [
    "df.fillna(0)"
   ]
  },
  {
   "cell_type": "code",
   "execution_count": null,
   "metadata": {},
   "outputs": [],
   "source": [
    "df.fillna(np.inf)"
   ]
  },
  {
   "attachments": {},
   "cell_type": "markdown",
   "metadata": {},
   "source": [
    "Alternatively the ```DataFrame``` method ```ffill``` can be used to linearly forward fill missing data. When using the forward fill, the previous available value is used to replace the not available value:"
   ]
  },
  {
   "cell_type": "code",
   "execution_count": null,
   "metadata": {},
   "outputs": [],
   "source": [
    "df.ffill()"
   ]
  },
  {
   "cell_type": "markdown",
   "metadata": {},
   "source": [
    "This can be aligned with the original ```DataFrame``` instance for comparison:"
   ]
  },
  {
   "cell_type": "code",
   "execution_count": null,
   "metadata": {},
   "outputs": [],
   "source": [
    "df.ffill().align(df)"
   ]
  },
  {
   "cell_type": "markdown",
   "metadata": {},
   "source": [
    "The related ```DataFrame``` method ```bfill``` can be used to linearly backwards fill missing data. When using the backward fill, the subsequent available value is used to replace the not available value:"
   ]
  },
  {
   "cell_type": "code",
   "execution_count": null,
   "metadata": {},
   "outputs": [],
   "source": [
    "df.bfill().align(df)"
   ]
  },
  {
   "attachments": {},
   "cell_type": "markdown",
   "metadata": {},
   "source": [
    "The ```DataFrame``` method ```interpolate``` method can use neighbouring datapoints to interpolate a missing value. It has a keyword input argument ```method``` which can be used to specify an interpolation method. Note that all the data in the ```DataFrame``` must be cast to numeric for the ```interpolate``` method to be used:"
   ]
  },
  {
   "cell_type": "code",
   "execution_count": null,
   "metadata": {},
   "outputs": [],
   "source": [
    "df.astype(float).interpolate(method='linear')"
   ]
  },
  {
   "cell_type": "markdown",
   "metadata": {},
   "source": [
    "Sometimes it is preferable to use the ```Series``` method ```interpolate``` which is consistent:"
   ]
  },
  {
   "cell_type": "code",
   "execution_count": null,
   "metadata": {},
   "outputs": [],
   "source": [
    "df['x'].astype(float).interpolate(method='linear')"
   ]
  },
  {
   "cell_type": "markdown",
   "metadata": {},
   "source": [
    "Many of the interpolation methods need a numeric index to work properly:"
   ]
  },
  {
   "cell_type": "code",
   "execution_count": null,
   "metadata": {},
   "outputs": [],
   "source": [
    "df['x'].astype(float).reset_index(drop=True).interpolate(method='linear')"
   ]
  },
  {
   "cell_type": "markdown",
   "metadata": {},
   "source": [
    "A new ```DataFrame``` instance can be created where each ```Series``` is an interpolated method used on the original ```Series``` ```'x'```. The ```Series``` methods ```astype``` and ```reset_index``` will be used to cast the ```Series``` ```'x'``` to a ```float``` with a numeric index. The original index from the ```Series``` ```'x'``` can be assigned to the new ```DataFrame``` instance after the interpolation:"
   ]
  },
  {
   "cell_type": "code",
   "execution_count": null,
   "metadata": {},
   "outputs": [],
   "source": [
    "df2 = pd.DataFrame({'x': df['x'].astype(float).reset_index(drop=True),\n",
    "                    'x_1': df['x'].astype(float).reset_index(drop=True).interpolate(method='linear'),\n",
    "                    'x_2': df['x'].astype(float).reset_index(drop=True).interpolate(method='polynomial', order=2),\n",
    "                    'x_3': df['x'].astype(float).reset_index(drop=True).interpolate(method='polynomial', order=3)})\n",
    "df2.index = df['x'].index"
   ]
  },
  {
   "cell_type": "code",
   "execution_count": null,
   "metadata": {},
   "outputs": [],
   "source": [
    "df2"
   ]
  },
  {
   "attachments": {},
   "cell_type": "markdown",
   "metadata": {},
   "source": [
    "The ```DataFrame``` method ```isna``` returns a boolean ```DataFrame``` instance which is ```True``` for not available values and ```False``` otherwise:"
   ]
  },
  {
   "cell_type": "code",
   "execution_count": null,
   "metadata": {},
   "outputs": [],
   "source": [
    "df.isna()"
   ]
  },
  {
   "attachments": {},
   "cell_type": "markdown",
   "metadata": {},
   "source": [
    "The opposite method ```notna``` returns a boolean ```DataFrame``` of inverse values:"
   ]
  },
  {
   "cell_type": "code",
   "execution_count": null,
   "metadata": {},
   "outputs": [],
   "source": [
    "df.notna().align(df.isna())"
   ]
  },
  {
   "attachments": {},
   "cell_type": "markdown",
   "metadata": {},
   "source": [
    "These two methods have the alias ```isnull``` and ```notnull``` respectively which are used for consistency with the R programming language."
   ]
  },
  {
   "cell_type": "markdown",
   "metadata": {},
   "source": [
    "The boolean mask above can be used to index into the ```DataFrame``` instance:"
   ]
  },
  {
   "cell_type": "code",
   "execution_count": null,
   "metadata": {},
   "outputs": [],
   "source": [
    "bool_mask = df.notna()"
   ]
  },
  {
   "attachments": {},
   "cell_type": "markdown",
   "metadata": {},
   "source": [
    "Notice indexing using the boolean mask updates ```None``` to ```NaN```:"
   ]
  },
  {
   "cell_type": "code",
   "execution_count": null,
   "metadata": {},
   "outputs": [],
   "source": [
    "df"
   ]
  },
  {
   "cell_type": "code",
   "execution_count": null,
   "metadata": {},
   "outputs": [],
   "source": [
    "df[bool_mask]"
   ]
  },
  {
   "attachments": {},
   "cell_type": "markdown",
   "metadata": {},
   "source": [
    "## String Series and String Methods"
   ]
  },
  {
   "attachments": {},
   "cell_type": "markdown",
   "metadata": {},
   "source": [
    "Supposing the following list of words is instantiated:"
   ]
  },
  {
   "cell_type": "code",
   "execution_count": null,
   "metadata": {},
   "outputs": [],
   "source": [
    "words = 'the quick brown for jumped over the lazy dog'.split()"
   ]
  },
  {
   "cell_type": "code",
   "execution_count": null,
   "metadata": {},
   "outputs": [],
   "source": [
    "words"
   ]
  },
  {
   "attachments": {},
   "cell_type": "markdown",
   "metadata": {},
   "source": [
    "Using ```len``` of words will return the number of words in the outer collection which is the ```list``` and not the length of each inner collection which is the word:"
   ]
  },
  {
   "cell_type": "code",
   "execution_count": null,
   "metadata": {},
   "outputs": [],
   "source": [
    "len(words)"
   ]
  },
  {
   "attachments": {},
   "cell_type": "markdown",
   "metadata": {},
   "source": [
    "To instead get a ```list``` of the length of each word, ```list``` comprehension can be used:"
   ]
  },
  {
   "cell_type": "code",
   "execution_count": null,
   "metadata": {},
   "outputs": [],
   "source": [
    "[len(word) for word in words]"
   ]
  },
  {
   "attachments": {},
   "cell_type": "markdown",
   "metadata": {},
   "source": [
    "This can also be done using ```map```:"
   ]
  },
  {
   "cell_type": "code",
   "execution_count": null,
   "metadata": {},
   "outputs": [],
   "source": [
    "map(len, words)"
   ]
  },
  {
   "cell_type": "code",
   "execution_count": null,
   "metadata": {},
   "outputs": [],
   "source": [
    "list(map(len, words))"
   ]
  },
  {
   "attachments": {},
   "cell_type": "markdown",
   "metadata": {},
   "source": [
    "If an analogous ```Series``` is instantiated to ```words```:"
   ]
  },
  {
   "cell_type": "code",
   "execution_count": null,
   "metadata": {},
   "outputs": [],
   "source": [
    "words = pd.Series(data='the quick brown for jumped over the lazy dog'.split())"
   ]
  },
  {
   "cell_type": "code",
   "execution_count": null,
   "metadata": {},
   "outputs": [],
   "source": [
    "words"
   ]
  },
  {
   "attachments": {},
   "cell_type": "markdown",
   "metadata": {},
   "source": [
    "Using ```len``` on the ```Series``` will return the number of rows:"
   ]
  },
  {
   "cell_type": "code",
   "execution_count": null,
   "metadata": {},
   "outputs": [],
   "source": [
    "len(words)"
   ]
  },
  {
   "attachments": {},
   "cell_type": "markdown",
   "metadata": {},
   "source": [
    "The ```Series``` method ```map``` is similar to the ```builtins``` function ```map``` and can be used to individually ```map``` a ```function``` to the ```Series```:"
   ]
  },
  {
   "cell_type": "code",
   "execution_count": null,
   "metadata": {},
   "outputs": [],
   "source": [
    "words.map(len)"
   ]
  },
  {
   "attachments": {},
   "cell_type": "markdown",
   "metadata": {},
   "source": [
    "Since every element in the ```Series``` is a ```str``` instance, a ```str``` method can be applied to each element using ```map``` and a ```lambda``` expression:"
   ]
  },
  {
   "cell_type": "code",
   "execution_count": null,
   "metadata": {},
   "outputs": [],
   "source": [
    "words.map(lambda str: str.upper())"
   ]
  },
  {
   "cell_type": "markdown",
   "metadata": {},
   "source": [
    "Recall that ```str``` instances are ordinal and the ```builtins``` universal ```max``` function can be mapped to get a ```Series``` that has the letter corresponding to the highest ordinal value in the word:"
   ]
  },
  {
   "cell_type": "code",
   "execution_count": null,
   "metadata": {},
   "outputs": [],
   "source": [
    "words.map(max)"
   ]
  },
  {
   "cell_type": "markdown",
   "metadata": {},
   "source": [
    "If the ```DataFrame``` is instantiated to ```df```:"
   ]
  },
  {
   "cell_type": "code",
   "execution_count": null,
   "metadata": {},
   "outputs": [],
   "source": [
    "df = pd.DataFrame({'words': words,\n",
    "                   'maximum': words.map(max)})"
   ]
  },
  {
   "cell_type": "code",
   "execution_count": null,
   "metadata": {},
   "outputs": [],
   "source": [
    "df"
   ]
  },
  {
   "cell_type": "markdown",
   "metadata": {},
   "source": [
    "The ```DataFrame``` has a consistent method ```map``` which operates element by element:"
   ]
  },
  {
   "cell_type": "code",
   "execution_count": null,
   "metadata": {},
   "outputs": [],
   "source": [
    "df.map(max)"
   ]
  },
  {
   "cell_type": "markdown",
   "metadata": {},
   "source": [
    "The ```DataFrame``` also has the method ```apply``` which operates along an ```axis```:"
   ]
  },
  {
   "cell_type": "code",
   "execution_count": null,
   "metadata": {},
   "outputs": [],
   "source": [
    "df.apply(max, axis='rows')"
   ]
  },
  {
   "cell_type": "code",
   "execution_count": null,
   "metadata": {},
   "outputs": [],
   "source": [
    "df.apply(max, axis='columns')"
   ]
  },
  {
   "cell_type": "markdown",
   "metadata": {},
   "source": [
    "Most universal functions are implemented as ```Series``` and ```DataFrame``` methods:"
   ]
  },
  {
   "cell_type": "code",
   "execution_count": null,
   "metadata": {},
   "outputs": [],
   "source": [
    "words.max(axis='rows')"
   ]
  },
  {
   "cell_type": "code",
   "execution_count": null,
   "metadata": {},
   "outputs": [],
   "source": [
    "words.min(axis='rows')"
   ]
  },
  {
   "attachments": {},
   "cell_type": "markdown",
   "metadata": {},
   "source": [
    "A ```Series``` has the attribute ```str``` which can be used to quickly access ```str``` methods:"
   ]
  },
  {
   "cell_type": "code",
   "execution_count": null,
   "metadata": {},
   "outputs": [],
   "source": [
    "words.str.zfill(20)"
   ]
  },
  {
   "attachments": {},
   "cell_type": "markdown",
   "metadata": {},
   "source": [
    "The ```str``` datamodel method ```__len__``` is available under the ```str``` attribute as ```len```:"
   ]
  },
  {
   "cell_type": "code",
   "execution_count": null,
   "metadata": {},
   "outputs": [],
   "source": [
    "words.str.len()"
   ]
  },
  {
   "cell_type": "markdown",
   "metadata": {},
   "source": [
    "If the lengths of each strings are examined:"
   ]
  },
  {
   "cell_type": "code",
   "execution_count": null,
   "metadata": {},
   "outputs": [],
   "source": [
    "lengths = words.map(len)"
   ]
  },
  {
   "cell_type": "code",
   "execution_count": null,
   "metadata": {},
   "outputs": [],
   "source": [
    "lengths"
   ]
  },
  {
   "cell_type": "markdown",
   "metadata": {},
   "source": [
    "A function can be created to cast a numeric length into a ```str``` for example ```3``` to ```'three'```:"
   ]
  },
  {
   "cell_type": "code",
   "execution_count": null,
   "metadata": {},
   "outputs": [],
   "source": [
    "def get_length_str(length):\n",
    "    match length:\n",
    "        case 3:\n",
    "            return 'three'\n",
    "        case 4:\n",
    "            return 'four'\n",
    "        case 5:\n",
    "            return 'five'\n",
    "        case 6:\n",
    "            return 'six' "
   ]
  },
  {
   "cell_type": "markdown",
   "metadata": {},
   "source": [
    "This function can be applied to the ```length``` ```Series``` using ```map```:"
   ]
  },
  {
   "cell_type": "code",
   "execution_count": null,
   "metadata": {},
   "outputs": [],
   "source": [
    "lengths.map(get_length_str)"
   ]
  },
  {
   "attachments": {},
   "cell_type": "markdown",
   "metadata": {},
   "source": [
    "## Numeric Series"
   ]
  },
  {
   "attachments": {},
   "cell_type": "markdown",
   "metadata": {},
   "source": [
    "If a ```DataFrame``` with numeric ```Series``` ```x```, ```y``` and ```z``` is instantiated to ```df```:"
   ]
  },
  {
   "cell_type": "code",
   "execution_count": null,
   "metadata": {},
   "outputs": [],
   "source": [
    "df = pd.DataFrame({'x': [1, 2, 3, 4, 5],\n",
    "                   'y': [-2, -4, 6, 8, 10],\n",
    "                   'z': [12, 24, 48, -63, -999]})"
   ]
  },
  {
   "cell_type": "code",
   "execution_count": null,
   "metadata": {},
   "outputs": [],
   "source": [
    "df"
   ]
  },
  {
   "attachments": {},
   "cell_type": "markdown",
   "metadata": {},
   "source": [
    "The ```DataFrame``` method ```apply``` can be used to apply the builtins universal function ```max```:"
   ]
  },
  {
   "cell_type": "code",
   "execution_count": null,
   "metadata": {},
   "outputs": [],
   "source": [
    "df.apply(max, axis='rows')"
   ]
  },
  {
   "cell_type": "code",
   "execution_count": null,
   "metadata": {},
   "outputs": [],
   "source": [
    "df.apply(max, axis='columns') "
   ]
  },
  {
   "attachments": {},
   "cell_type": "markdown",
   "metadata": {},
   "source": [
    "Note however that most the universal functions from ```builtins``` or ```numpy``` are implemented directly as ```DataFrame``` methods:"
   ]
  },
  {
   "cell_type": "code",
   "execution_count": null,
   "metadata": {},
   "outputs": [],
   "source": [
    "df.max(axis='rows')"
   ]
  },
  {
   "cell_type": "code",
   "execution_count": null,
   "metadata": {},
   "outputs": [],
   "source": [
    "df.min(axis='rows')"
   ]
  },
  {
   "cell_type": "code",
   "execution_count": null,
   "metadata": {},
   "outputs": [],
   "source": [
    "df.mean(axis='rows')"
   ]
  },
  {
   "cell_type": "code",
   "execution_count": null,
   "metadata": {},
   "outputs": [],
   "source": [
    "df.var(axis='rows')"
   ]
  },
  {
   "cell_type": "code",
   "execution_count": null,
   "metadata": {},
   "outputs": [],
   "source": [
    "df.std(axis='rows')"
   ]
  },
  {
   "attachments": {},
   "cell_type": "markdown",
   "metadata": {},
   "source": [
    "And the datamodel identifiers for a numeric ```Series``` are configured for numeric operations:"
   ]
  },
  {
   "cell_type": "code",
   "execution_count": null,
   "metadata": {},
   "outputs": [],
   "source": [
    "df['x'] + df['y']"
   ]
  },
  {
   "cell_type": "code",
   "execution_count": null,
   "metadata": {},
   "outputs": [],
   "source": [
    "df['x'] + 5"
   ]
  },
  {
   "attachments": {},
   "cell_type": "markdown",
   "metadata": {},
   "source": [
    "The ```apply``` function can also be used with a ```tuple``` of universal functions outputting a ```DataFrame``` instance opposed to a Series:"
   ]
  },
  {
   "cell_type": "code",
   "execution_count": null,
   "metadata": {},
   "outputs": [],
   "source": [
    "df.apply((len, max, min, np.mean, np.var, np.std))"
   ]
  },
  {
   "attachments": {},
   "cell_type": "markdown",
   "metadata": {},
   "source": [
    "## Categorical Series"
   ]
  },
  {
   "attachments": {},
   "cell_type": "markdown",
   "metadata": {},
   "source": [
    "Another common type of ```Series``` is a category ```Series```:"
   ]
  },
  {
   "cell_type": "code",
   "execution_count": null,
   "metadata": {},
   "outputs": [],
   "source": [
    "df = pd.DataFrame({'student_names': ['student' + str(num) for num in range(1, 9)],\n",
    "                   'grades': ['b', 'F', 'A', 'C', 'a', 'C', 'B', 'A']})"
   ]
  },
  {
   "attachments": {},
   "cell_type": "markdown",
   "metadata": {},
   "source": [
    "When instantiated, the categories will normally be recognised as ```str``` instances:"
   ]
  },
  {
   "cell_type": "code",
   "execution_count": null,
   "metadata": {},
   "outputs": [],
   "source": [
    "df"
   ]
  },
  {
   "attachments": {},
   "cell_type": "markdown",
   "metadata": {},
   "source": [
    "And the datatypes will therefore be ```object``` for each ```Series```:"
   ]
  },
  {
   "cell_type": "code",
   "execution_count": null,
   "metadata": {},
   "outputs": [],
   "source": [
    "df.dtypes"
   ]
  },
  {
   "attachments": {},
   "cell_type": "markdown",
   "metadata": {},
   "source": [
    "The datatype of a ```Series``` can be changed using the method ```astype```. To change to category use the input argument ```'category'```:"
   ]
  },
  {
   "cell_type": "code",
   "execution_count": null,
   "metadata": {},
   "outputs": [],
   "source": [
    "df['grades'].astype('category')"
   ]
  },
  {
   "attachments": {},
   "cell_type": "markdown",
   "metadata": {},
   "source": [
    "The original ```Series``` can be reassigned to the new ```Series``` that are now categorical:"
   ]
  },
  {
   "cell_type": "code",
   "execution_count": null,
   "metadata": {},
   "outputs": [],
   "source": [
    "df['grades'] = df['grades'].astype('category')"
   ]
  },
  {
   "attachments": {},
   "cell_type": "markdown",
   "metadata": {},
   "source": [
    "If the ```DataFrame``` instance is examined, it looks the same:"
   ]
  },
  {
   "cell_type": "code",
   "execution_count": null,
   "metadata": {},
   "outputs": [],
   "source": [
    "df"
   ]
  },
  {
   "attachments": {},
   "cell_type": "markdown",
   "metadata": {},
   "source": [
    "However its datatype is updated:"
   ]
  },
  {
   "cell_type": "code",
   "execution_count": null,
   "metadata": {},
   "outputs": [],
   "source": [
    "df.dtypes"
   ]
  },
  {
   "attachments": {},
   "cell_type": "markdown",
   "metadata": {},
   "source": [
    "A categorical ```Series``` also has the attribute ```cat``` which groups together attributes and methods commonly used for categorical ```Series```:"
   ]
  },
  {
   "cell_type": "code",
   "execution_count": null,
   "metadata": {},
   "outputs": [],
   "source": [
    "print('attributes', end=' ')\n",
    "print_identifier_group(df['grades'].cat, kind='attribute')\n",
    "print('methods', end=' ')\n",
    "print_identifier_group(df['grades'].cat, kind='function')"
   ]
  },
  {
   "cell_type": "markdown",
   "metadata": {},
   "source": [
    "The ```Series.cat``` attribute ```categories``` can be used to get the names of the existing categories:"
   ]
  },
  {
   "cell_type": "code",
   "execution_count": null,
   "metadata": {},
   "outputs": [],
   "source": [
    "df['grades'].cat.categories"
   ]
  },
  {
   "cell_type": "markdown",
   "metadata": {},
   "source": [
    "Notice that these categories have uppercase and lowercase variants. A ```list``` comprehension can be used with a ```str``` method to change the lowercase grades to uppercase:"
   ]
  },
  {
   "cell_type": "code",
   "execution_count": null,
   "metadata": {},
   "outputs": [],
   "source": [
    "old_grade_categories = df['grades'].cat.categories\n",
    "new_grade_categories = [grade.upper() for grade in old_grade_categories]\n",
    "new_grade_categories"
   ]
  },
  {
   "cell_type": "markdown",
   "metadata": {},
   "source": [
    "A category mapping can then be created:"
   ]
  },
  {
   "cell_type": "code",
   "execution_count": null,
   "metadata": {},
   "outputs": [],
   "source": [
    "category_mapping = dict(zip(old_grade_categories, new_grade_categories))\n",
    "category_mapping"
   ]
  },
  {
   "cell_type": "markdown",
   "metadata": {},
   "source": [
    "This is the type of ```mapping``` that can be used with the ```Series.cat``` method ```rename_categories``` however at present this method does not support merging of categories and flags a ```ValueError``` because some of the ```values``` are the same:"
   ]
  },
  {
   "cell_type": "code",
   "execution_count": null,
   "metadata": {},
   "outputs": [],
   "source": [
    "# df['grades'].cat.rename_categories(category_mapping)"
   ]
  },
  {
   "cell_type": "markdown",
   "metadata": {},
   "source": [
    "It is therefore easier to manipulate the ```str``` datatype ```Series``` and then cast it to a ```category``` datatype ```Series```:"
   ]
  },
  {
   "cell_type": "code",
   "execution_count": null,
   "metadata": {},
   "outputs": [],
   "source": [
    "df['grades'] = df['grades'].str.lower().astype('category')\n",
    "df['grades']"
   ]
  },
  {
   "cell_type": "markdown",
   "metadata": {},
   "source": [
    "When all the values in the mapping are unique, the ```DataFrame``` method ```rename_category``` works as expected:"
   ]
  },
  {
   "cell_type": "code",
   "execution_count": null,
   "metadata": {},
   "outputs": [],
   "source": [
    "old_grade_categories = df['grades'].cat.categories\n",
    "new_grade_categories = [grade.upper() for grade in old_grade_categories]\n",
    "category_mapping = dict(zip(old_grade_categories, new_grade_categories))\n",
    "category_mapping"
   ]
  },
  {
   "cell_type": "code",
   "execution_count": null,
   "metadata": {},
   "outputs": [],
   "source": [
    "df['grades'] = df['grades'].cat.rename_categories(category_mapping)\n",
    "df['grades']"
   ]
  },
  {
   "attachments": {},
   "cell_type": "markdown",
   "metadata": {},
   "source": [
    "Categories are often used for boolean selectors:"
   ]
  },
  {
   "cell_type": "code",
   "execution_count": null,
   "metadata": {},
   "outputs": [],
   "source": [
    "df[df['grades'] == 'A']"
   ]
  },
  {
   "cell_type": "code",
   "execution_count": null,
   "metadata": {},
   "outputs": [],
   "source": [
    "df[df['grades'] == 'B']"
   ]
  },
  {
   "cell_type": "code",
   "execution_count": null,
   "metadata": {},
   "outputs": [],
   "source": [
    "df[(df['grades'] == 'A') | (df['grades'] == 'B')]"
   ]
  },
  {
   "attachments": {},
   "cell_type": "markdown",
   "metadata": {},
   "source": [
    "Only the equal to ```==``` and not equal to ```!=``` operators are defined for unordered categoricals. A ```TypeError``` displays if one of the other comparison operators is attempted to be used:"
   ]
  },
  {
   "attachments": {},
   "cell_type": "markdown",
   "metadata": {},
   "source": [
    "The ```Series.cat``` method ```as_ordered``` can be used to ordinally order categories:"
   ]
  },
  {
   "cell_type": "code",
   "execution_count": null,
   "metadata": {},
   "outputs": [],
   "source": [
    "df['grades'].cat.as_ordered()"
   ]
  },
  {
   "attachments": {},
   "cell_type": "markdown",
   "metadata": {},
   "source": [
    "In this case, the order desired is reverse the ordinal values because ```'A'``` corresponds to a higher grade than ```'F'```:"
   ]
  },
  {
   "cell_type": "code",
   "execution_count": null,
   "metadata": {},
   "outputs": [],
   "source": [
    "df['grades'].cat.reorder_categories(new_categories = ('F', 'C', 'B', 'A'),\n",
    "                                    ordered=True)"
   ]
  },
  {
   "attachments": {},
   "cell_type": "markdown",
   "metadata": {},
   "source": [
    "The original ```Series``` can be reassigned:"
   ]
  },
  {
   "cell_type": "code",
   "execution_count": null,
   "metadata": {},
   "outputs": [],
   "source": [
    "df['grades'] = df['grades'].cat.reorder_categories(new_categories = ('F', 'C', 'B', 'A'),\n",
    "                                                   ordered=True)"
   ]
  },
  {
   "cell_type": "code",
   "execution_count": null,
   "metadata": {},
   "outputs": [],
   "source": [
    "df[df['grades'] >= 'B']"
   ]
  },
  {
   "attachments": {},
   "cell_type": "markdown",
   "metadata": {},
   "source": [
    "When sorting out data in ```DataFrames```, ordinal ```Series``` are quite often used:"
   ]
  },
  {
   "cell_type": "code",
   "execution_count": null,
   "metadata": {},
   "outputs": [],
   "source": [
    "df.sort_values(['grades', 'student_names'])"
   ]
  },
  {
   "cell_type": "markdown",
   "metadata": {},
   "source": [
    "If the ```DataFrame``` method ```count``` is used, it will return the number of rows in each ```Series``` and return this information as a new ```Series```:"
   ]
  },
  {
   "cell_type": "code",
   "execution_count": null,
   "metadata": {},
   "outputs": [],
   "source": [
    "df.count()"
   ]
  },
  {
   "attachments": {},
   "cell_type": "markdown",
   "metadata": {},
   "source": [
    "A ```GroupBy``` instance can be created:"
   ]
  },
  {
   "cell_type": "code",
   "execution_count": null,
   "metadata": {},
   "outputs": [],
   "source": [
    "gbo = df.groupby(df['grades'], observed=True)"
   ]
  },
  {
   "cell_type": "markdown",
   "metadata": {},
   "source": [
    "This ```gbo``` instance is essentially a ```DataFrame``` with an additional groupby instruction that is applied when a ```DataFrame``` method such as ```count``` is used. Notice that a ```DataFrame``` instance is returned:"
   ]
  },
  {
   "cell_type": "code",
   "execution_count": null,
   "metadata": {},
   "outputs": [],
   "source": [
    "gbo.count()"
   ]
  },
  {
   "cell_type": "markdown",
   "metadata": {},
   "source": [
    "A ```GroupBy``` instance can be created from a ```Series```:"
   ]
  },
  {
   "cell_type": "code",
   "execution_count": null,
   "metadata": {},
   "outputs": [],
   "source": [
    "gbo = df['grades'].groupby(df['grades'], observed=True)"
   ]
  },
  {
   "attachments": {},
   "cell_type": "markdown",
   "metadata": {},
   "source": [
    "This ```gbo``` instance is essentially a ```Series``` with an additional groupby instruction that is applied when a ```Series``` method such as ```count``` is used. A ```Series``` instance is returned:"
   ]
  },
  {
   "cell_type": "code",
   "execution_count": null,
   "metadata": {},
   "outputs": [],
   "source": [
    "gbo.count()"
   ]
  },
  {
   "attachments": {},
   "cell_type": "markdown",
   "metadata": {},
   "source": [
    "Some ```Series``` methods like ```describe``` provide information spanning over multiple ```Series``` and will therefore return a ```DataFrame``` instance: "
   ]
  },
  {
   "cell_type": "code",
   "execution_count": null,
   "metadata": {},
   "outputs": [],
   "source": [
    "gbo.describe()"
   ]
  },
  {
   "attachments": {},
   "cell_type": "markdown",
   "metadata": {},
   "source": [
    "Notice the slight difference with the column grouping ```student_names``` being used to group the statistical information (```count```, ```unique```, ```top``` and ```freq```) which for that specific ```Series```."
   ]
  },
  {
   "cell_type": "code",
   "execution_count": null,
   "metadata": {},
   "outputs": [],
   "source": [
    "df"
   ]
  },
  {
   "attachments": {},
   "cell_type": "markdown",
   "metadata": {},
   "source": [
    "The difference can be seen more clearly if a second category is added to the ```DataFrame```:"
   ]
  },
  {
   "cell_type": "code",
   "execution_count": null,
   "metadata": {},
   "outputs": [],
   "source": [
    "import random\n",
    "random.seed(0)\n",
    "df['sex'] = pd.Series([random.choice(['F', 'M']) for num in range(8)])\n",
    "df['sex'] = df['sex'].astype('category')"
   ]
  },
  {
   "cell_type": "code",
   "execution_count": null,
   "metadata": {},
   "outputs": [],
   "source": [
    "df"
   ]
  },
  {
   "cell_type": "markdown",
   "metadata": {},
   "source": [
    "Now when the ```DataFrame``` instance ```df``` is grouped by the ```Series``` ```grades``` followed by the ```DataFrame``` method ```describe```. Descriptive statistics are shown for each ```Series``` and each of these statistics is grouped using a multilevel ```Index```:"
   ]
  },
  {
   "cell_type": "code",
   "execution_count": null,
   "metadata": {},
   "outputs": [],
   "source": [
    "df.groupby('grades', observed=True).describe()"
   ]
  },
  {
   "cell_type": "markdown",
   "metadata": {},
   "source": [
    "If this ```DataFrame``` is indexed into using the top level column name:"
   ]
  },
  {
   "cell_type": "code",
   "execution_count": null,
   "metadata": {},
   "outputs": [],
   "source": [
    "df.groupby('grades', observed=True).describe()['sex']"
   ]
  },
  {
   "cell_type": "markdown",
   "metadata": {},
   "source": [
    "This returns a single-index ```DataFrame``` which can also be indexed into for example by using the column name ```count```:"
   ]
  },
  {
   "cell_type": "code",
   "execution_count": null,
   "metadata": {},
   "outputs": [],
   "source": [
    "df.groupby('grades', observed=True).describe()['sex']['count']"
   ]
  },
  {
   "cell_type": "markdown",
   "metadata": {},
   "source": [
    "The ```DataFrame``` can be grouped by a list of multiple ```Series``` names. This gives a multi-level index for both the ```Series``` and ```Index```:"
   ]
  },
  {
   "cell_type": "code",
   "execution_count": null,
   "metadata": {},
   "outputs": [],
   "source": [
    "df.groupby(['grades', 'sex'], observed=True).describe()"
   ]
  },
  {
   "cell_type": "markdown",
   "metadata": {},
   "source": [
    "Returning to:"
   ]
  },
  {
   "cell_type": "code",
   "execution_count": null,
   "metadata": {},
   "outputs": [],
   "source": [
    "df"
   ]
  },
  {
   "cell_type": "markdown",
   "metadata": {},
   "source": [
    "A function can be made to generate a random ```score``` in response to a ```grade```:"
   ]
  },
  {
   "cell_type": "code",
   "execution_count": null,
   "metadata": {},
   "outputs": [],
   "source": [
    "def generate_score(grade):\n",
    "    random.seed(0)\n",
    "    match grade:\n",
    "        case 'A':\n",
    "            return random.randint(70, 101)\n",
    "        case 'B':\n",
    "            return random.randint(60, 70)  \n",
    "        case 'C':\n",
    "            return random.randint(50, 60)\n",
    "        case 'F':\n",
    "            return random.randint(0, 50)"
   ]
  },
  {
   "cell_type": "markdown",
   "metadata": {},
   "source": [
    "This custom function can be applied to the ```grades``` ```Series``` to generate a ```Series``` of random marks for each student:"
   ]
  },
  {
   "cell_type": "code",
   "execution_count": null,
   "metadata": {},
   "outputs": [],
   "source": [
    "df['scores'] = df['grades'].map(generate_score)"
   ]
  },
  {
   "cell_type": "code",
   "execution_count": null,
   "metadata": {},
   "outputs": [],
   "source": [
    "df"
   ]
  },
  {
   "attachments": {},
   "cell_type": "markdown",
   "metadata": {},
   "source": [
    "Categories can be created from ordinal values using the pandas function ```pd.cut```:"
   ]
  },
  {
   "cell_type": "code",
   "execution_count": null,
   "metadata": {},
   "outputs": [],
   "source": [
    "pd.cut(x=df['scores'], bins=[0, 50, 60, 70, 101])"
   ]
  },
  {
   "attachments": {},
   "cell_type": "markdown",
   "metadata": {},
   "source": [
    "In the output below the ```(``` means inclusive of the boundary and the ```]``` means exclusive of the top boundary. For convenience this will be inserted into the ```DataFrame``` at column index 3. Recall ```insert``` is an immutable method and occurs in place:"
   ]
  },
  {
   "cell_type": "code",
   "execution_count": null,
   "metadata": {},
   "outputs": [],
   "source": [
    "df.insert(3, 'score_cats', pd.cut(x=df['scores'], bins=[0, 50, 60, 70, 101]))"
   ]
  },
  {
   "cell_type": "code",
   "execution_count": null,
   "metadata": {},
   "outputs": [],
   "source": [
    "df"
   ]
  },
  {
   "cell_type": "markdown",
   "metadata": {},
   "source": [
    "```cut``` can be used with the keyword labels. Notice that there are ```5``` values for ```bins``` and ```4``` values for ```labels```, this is because each bin is between two values:"
   ]
  },
  {
   "cell_type": "code",
   "execution_count": null,
   "metadata": {},
   "outputs": [],
   "source": [
    "pd.cut(x=df['scores'], bins=[0, 50, 60, 70, 101], labels=['F', 'C', 'B', 'A'])"
   ]
  },
  {
   "cell_type": "markdown",
   "metadata": {},
   "source": [
    "Notice that these categories are also automatically ordinal:"
   ]
  },
  {
   "cell_type": "code",
   "execution_count": null,
   "metadata": {},
   "outputs": [],
   "source": [
    "df.insert(4, 'calculated_grades', pd.cut(x=df['scores'], bins=[0, 50, 60, 70, 101], labels=['F', 'C', 'B', 'A']))"
   ]
  },
  {
   "cell_type": "code",
   "execution_count": null,
   "metadata": {},
   "outputs": [],
   "source": [
    "df"
   ]
  },
  {
   "attachments": {},
   "cell_type": "markdown",
   "metadata": {},
   "source": [
    "## DateTime"
   ]
  },
  {
   "attachments": {},
   "cell_type": "markdown",
   "metadata": {},
   "source": [
    "In ```pandas``` date and time intervals are based upon the datatypes ```datetime64``` or ```timedelta64``` from the ```numpy``` library:"
   ]
  },
  {
   "attachments": {},
   "cell_type": "markdown",
   "metadata": {},
   "source": [
    "The ```datetime64``` class is normally initialised using a timestamp string of the following format:\n",
    "\n",
    "```python\n",
    "np.datetime64('YYYY-MM-DD')\n",
    "np.datetime64('YYYY-MM-DDThh:mm:ss:μμμμμμ')\n",
    "```"
   ]
  },
  {
   "attachments": {},
   "cell_type": "markdown",
   "metadata": {},
   "source": [
    "For example:"
   ]
  },
  {
   "cell_type": "code",
   "execution_count": null,
   "metadata": {},
   "outputs": [],
   "source": [
    "np.datetime64('2023-07-25')"
   ]
  },
  {
   "cell_type": "code",
   "execution_count": null,
   "metadata": {},
   "outputs": [],
   "source": [
    "np.datetime64('2023-07-25T14:30:15.123456')"
   ]
  },
  {
   "attachments": {},
   "cell_type": "markdown",
   "metadata": {},
   "source": [
    "The ```timedelta64``` is normally initialised using a set of tuples where ```X``` is the quantity followed by the unit:\n",
    "\n",
    "```python\n",
    "np.datetime64(X, 'U')\n",
    "```"
   ]
  },
  {
   "cell_type": "markdown",
   "metadata": {},
   "source": [
    "These are usually combined using addition:"
   ]
  },
  {
   "cell_type": "code",
   "execution_count": null,
   "metadata": {},
   "outputs": [],
   "source": [
    "np.timedelta64(1, 'D') + np.timedelta64(1, 'h') + np.timedelta64(1, 's') + np.timedelta64(1, 'ms')"
   ]
  },
  {
   "attachments": {},
   "cell_type": "markdown",
   "metadata": {},
   "source": [
    "These can be used to make an ```Index``` or ```Series``` respectively, using the ```np.arange``` function:"
   ]
  },
  {
   "cell_type": "code",
   "execution_count": null,
   "metadata": {},
   "outputs": [],
   "source": [
    "start_time = np.datetime64('2023-07-25')\n",
    "end_time = np.datetime64('2023-07-26')\n",
    "time_interval = np.timedelta64(1, 'h')"
   ]
  },
  {
   "cell_type": "code",
   "execution_count": null,
   "metadata": {},
   "outputs": [],
   "source": [
    "times = np.arange(start=start_time, #inclusive\n",
    "                  stop=end_time, #exclusive\n",
    "                  step=time_interval)"
   ]
  },
  {
   "cell_type": "code",
   "execution_count": null,
   "metadata": {},
   "outputs": [],
   "source": [
    "times"
   ]
  },
  {
   "attachments": {},
   "cell_type": "markdown",
   "metadata": {},
   "source": [
    "These times can be cast into an ```Index``` or ```Series```:"
   ]
  },
  {
   "cell_type": "code",
   "execution_count": null,
   "metadata": {},
   "outputs": [],
   "source": [
    "pd.Index(times)"
   ]
  },
  {
   "cell_type": "code",
   "execution_count": null,
   "metadata": {},
   "outputs": [],
   "source": [
    "pd.Series(data=times, name='times')"
   ]
  },
  {
   "attachments": {},
   "cell_type": "markdown",
   "metadata": {},
   "source": [
    "The ```Index``` of the datatype ```datetime64``` can be used as a time index alongside measurement Series for example emulated temperature, ph and humidity data:"
   ]
  },
  {
   "cell_type": "code",
   "execution_count": null,
   "metadata": {},
   "outputs": [],
   "source": [
    "np.random.seed(0)"
   ]
  },
  {
   "cell_type": "code",
   "execution_count": null,
   "metadata": {},
   "outputs": [],
   "source": [
    "df = pd.DataFrame(index=pd.Index(times),\n",
    "                  data={'temperature': 25 + np.random.randn(24),\n",
    "                        'ph': 7 + np.random.randn(24) / 10,\n",
    "                        'humidity': 100 - np.random.randint(0, 100, 24)})"
   ]
  },
  {
   "cell_type": "code",
   "execution_count": null,
   "metadata": {},
   "outputs": [],
   "source": [
    "df"
   ]
  },
  {
   "attachments": {},
   "cell_type": "markdown",
   "metadata": {},
   "source": [
    "```loc``` can be used to retrieve the data at a specified ```datetime64```:"
   ]
  },
  {
   "cell_type": "code",
   "execution_count": null,
   "metadata": {},
   "outputs": [],
   "source": [
    "df.loc['2023-07-25T01:00:00']"
   ]
  },
  {
   "attachments": {},
   "cell_type": "markdown",
   "metadata": {},
   "source": [
    "```iloc``` can also be used with the ```int``` which would correspond to the ```RangeIndex``` if the ```Index``` is reset:"
   ]
  },
  {
   "cell_type": "code",
   "execution_count": null,
   "metadata": {},
   "outputs": [],
   "source": [
    "df.iloc[1]"
   ]
  },
  {
   "attachments": {},
   "cell_type": "markdown",
   "metadata": {},
   "source": [
    "A comparison between two times can be made:"
   ]
  },
  {
   "cell_type": "code",
   "execution_count": null,
   "metadata": {},
   "outputs": [],
   "source": [
    "df.loc['2023-07-25 16:00:00'] - df.loc['2023-07-25T01:00:00']"
   ]
  },
  {
   "attachments": {},
   "cell_type": "markdown",
   "metadata": {},
   "source": [
    "In addition to the ```Index``` of datatype ```datetime64``` the ```Series``` instance ```times``` can be added to the ```DataFrame``` instance ```df```:"
   ]
  },
  {
   "cell_type": "code",
   "execution_count": null,
   "metadata": {},
   "outputs": [],
   "source": [
    "df['times'] = times"
   ]
  },
  {
   "cell_type": "code",
   "execution_count": null,
   "metadata": {},
   "outputs": [],
   "source": [
    "df"
   ]
  },
  {
   "attachments": {},
   "cell_type": "markdown",
   "metadata": {},
   "source": [
    "When ```loc``` is used to calculate the difference between two measurements at the two different times, the time difference, i.e. ```timedelta64``` will be calculated:"
   ]
  },
  {
   "cell_type": "code",
   "execution_count": null,
   "metadata": {},
   "outputs": [],
   "source": [
    "df.loc['2023-07-25 16:00:00'] - df.loc['2023-07-25T01:00:00']"
   ]
  },
  {
   "attachments": {},
   "cell_type": "markdown",
   "metadata": {},
   "source": [
    "The ```Series``` method ```tz_localize``` can be used to specify a ```timezone``` using the input argument ```tz```. For example in the UK:"
   ]
  },
  {
   "cell_type": "code",
   "execution_count": null,
   "metadata": {},
   "outputs": [],
   "source": [
    "df['times'].tz_localize(tz='Europe/London')"
   ]
  },
  {
   "attachments": {},
   "cell_type": "markdown",
   "metadata": {},
   "source": [
    "And in the Czech Republic:"
   ]
  },
  {
   "cell_type": "code",
   "execution_count": null,
   "metadata": {},
   "outputs": [],
   "source": [
    "df['times'].tz_localize(tz='Europe/Prague')"
   ]
  },
  {
   "attachments": {},
   "cell_type": "markdown",
   "metadata": {},
   "source": [
    "Care needs to be taken with non-UTC timezones as clock changes leads to ambiguous times. In the UK one of biannual clock changes can be examined:"
   ]
  },
  {
   "cell_type": "code",
   "execution_count": null,
   "metadata": {},
   "outputs": [],
   "source": [
    "start_time = np.datetime64('2023-10-28T11:00:00')\n",
    "end_time = np.datetime64('2023-10-29T03:00:00')\n",
    "time_interval = np.timedelta64(30, 'm')"
   ]
  },
  {
   "cell_type": "code",
   "execution_count": null,
   "metadata": {},
   "outputs": [],
   "source": [
    "utc_times = np.arange(start=start_time, #inclusive\n",
    "                      stop=end_time, #exclusive\n",
    "                      step=time_interval)"
   ]
  },
  {
   "cell_type": "code",
   "execution_count": null,
   "metadata": {},
   "outputs": [],
   "source": [
    "pd.Index(utc_times).tz_localize(tz='Europe/London', ambiguous=True)"
   ]
  },
  {
   "cell_type": "code",
   "execution_count": null,
   "metadata": {},
   "outputs": [],
   "source": [
    "pd.Index(utc_times).tz_localize(tz='Europe/London', ambiguous='NaT')"
   ]
  }
 ],
 "metadata": {
  "kernelspec": {
   "display_name": "Python 3 (ipykernel)",
   "language": "python",
   "name": "python3"
  },
  "language_info": {
   "codemirror_mode": {
    "name": "ipython",
    "version": 3
   },
   "file_extension": ".py",
   "mimetype": "text/x-python",
   "name": "python",
   "nbconvert_exporter": "python",
   "pygments_lexer": "ipython3",
   "version": "3.12.1"
  },
  "vscode": {
   "interpreter": {
    "hash": "4648373dafda34926c036cc9e466ef2f8d360789320441bb704a9be21d427d2a"
   }
  }
 },
 "nbformat": 4,
 "nbformat_minor": 4
}
