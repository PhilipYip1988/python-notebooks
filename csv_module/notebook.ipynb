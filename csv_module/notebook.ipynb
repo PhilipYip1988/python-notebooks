{
 "cells": [
  {
   "cell_type": "markdown",
   "metadata": {},
   "source": [
    "# csv module"
   ]
  },
  {
   "cell_type": "markdown",
   "metadata": {},
   "source": [
    "The Comma Seperated Values module ```csv``` is used in conjunction with the input output module ```io``` previously examined for reading and writing data to a file."
   ]
  },
  {
   "cell_type": "markdown",
   "metadata": {},
   "source": [
    "## csv, txt and prn files"
   ]
  },
  {
   "cell_type": "markdown",
   "metadata": {},
   "source": [
    "Before using the csv module, it is useful to examine the file structures that will be used."
   ]
  },
  {
   "cell_type": "markdown",
   "metadata": {},
   "source": [
    "A ```csv``` file is displayed as a grid in a program such as Excel or OnlyOffice Desktop Editors:"
   ]
  },
  {
   "cell_type": "markdown",
   "metadata": {},
   "source": [
    "<img src='images/img_001.png' alt='img_001' width='450'/>"
   ]
  },
  {
   "cell_type": "markdown",
   "metadata": {},
   "source": [
    "If the spreadsheet is saved using the file extension ```.csv``` in this case as ```Book1.csv```:"
   ]
  },
  {
   "cell_type": "markdown",
   "metadata": {},
   "source": [
    "<img src='images/img_002.png' alt='img_002' width='450'/>"
   ]
  },
  {
   "cell_type": "markdown",
   "metadata": {},
   "source": [
    "There may be a warning about possible data loss because a csv file is always a single sheet and can only be used to store raw data. It does not store formatting information for each cell. Note the ```csv``` module does not support the conventional ```.xlsx``` file format which essentialy includes multiple sheets in a workbook and has formatting for each cell:"
   ]
  },
  {
   "cell_type": "markdown",
   "metadata": {},
   "source": [
    "<img src='images/img_003.png' alt='img_003' width='450'/>"
   ]
  },
  {
   "cell_type": "markdown",
   "metadata": {},
   "source": [
    "This can be examined in a Notepad++. Notice that there are essentially 2 delimiters in the file the ```,``` is an instruction to move onto the next column and the ```CRLF``` is an instruction to move onto the next row. Recall ```CR``` is an abbreviation for Carriage Return and ```LF``` is an abbreviation for Line Feed and these ASCII commands originate from the mechanism of a typewritter. The encoding is seen at the bottom and is ```utf-8```:"
   ]
  },
  {
   "cell_type": "markdown",
   "metadata": {},
   "source": [
    "<img src='images/img_004.png' alt='img_004' width='450'/>"
   ]
  },
  {
   "cell_type": "markdown",
   "metadata": {},
   "source": [
    "Compare this to a conventional text file ```text2.txt``` which has only a single column and only uses 1 delimiter the ```CRLF``` to move onto the next row. The encoding is seen at the bottom and is ```utf-8```:"
   ]
  },
  {
   "cell_type": "markdown",
   "metadata": {},
   "source": [
    "<img src='images/img_005.png' alt='img_005' width='450'/>"
   ]
  },
  {
   "cell_type": "markdown",
   "metadata": {},
   "source": [
    "If the spreadsheet is saved as a tab delimited ```sheet3.txt``` it will use the same file extension:"
   ]
  },
  {
   "cell_type": "markdown",
   "metadata": {},
   "source": [
    "<img src='images/img_006.png' alt='img_006' width='450'/>"
   ]
  },
  {
   "cell_type": "markdown",
   "metadata": {},
   "source": [
    "This can be examined in a Notepad++. The ```↹``` is an instruction to move onto the next column and the ```CRLF``` is an instruction to move onto the next row. The encoding is seen at the bottom and is ```utf-8```:"
   ]
  },
  {
   "cell_type": "markdown",
   "metadata": {},
   "source": [
    "<img src='images/img_007.png' alt='img_007' width='450'/>"
   ]
  },
  {
   "cell_type": "markdown",
   "metadata": {},
   "source": [
    "The data in a spreadsheet can be numeric or text:"
   ]
  },
  {
   "cell_type": "markdown",
   "metadata": {},
   "source": [
    "<img src='images/img_008.png' alt='img_008' width='450'/>"
   ]
  },
  {
   "cell_type": "markdown",
   "metadata": {},
   "source": [
    "This can be saved as ```sheet4.csv```:"
   ]
  },
  {
   "cell_type": "markdown",
   "metadata": {},
   "source": [
    "<img src='images/img_009.png' alt='img_009' width='450'/>"
   ]
  },
  {
   "cell_type": "markdown",
   "metadata": {},
   "source": [
    "Notice that once again the ```,``` is an instruction to move onto the next column and the ```CRLF``` is an instruction to move onto the next row. The encoding is seen at the bottom and is ```utf-8```:"
   ]
  },
  {
   "cell_type": "markdown",
   "metadata": {},
   "source": [
    "<img src='images/img_010.png' alt='img_010' width='450'/>"
   ]
  },
  {
   "cell_type": "markdown",
   "metadata": {},
   "source": [
    "However the ```,``` can be included in a string. Moreover in some languages ```,``` is used instead of ```.``` as a decimal point:"
   ]
  },
  {
   "cell_type": "markdown",
   "metadata": {},
   "source": [
    "<img src='images/img_011.png' alt='img_011' width='450'/>"
   ]
  },
  {
   "cell_type": "markdown",
   "metadata": {},
   "source": [
    "When this is saved as a ```sheet5.csv```:"
   ]
  },
  {
   "cell_type": "markdown",
   "metadata": {},
   "source": [
    "<img src='images/img_012.png' alt='img_012' width='450'/>"
   ]
  },
  {
   "cell_type": "markdown",
   "metadata": {},
   "source": [
    "Notice that all the strings enclosing a ```,``` are now enclosed in quotations. The encoding is seen at the bottom and notice this is not ```utf-8``` and instead ```utf-8-bom``` is used:"
   ]
  },
  {
   "cell_type": "markdown",
   "metadata": {},
   "source": [
    "<img src='images/img_013.png' alt='img_013' width='450'/>"
   ]
  },
  {
   "cell_type": "markdown",
   "metadata": {},
   "source": [
    "If Excel is configured to use regional settings of languages which use the ```,``` as a decimal point, the semicolon ```;``` may be used in place of the ```,``` as a delimiter. This was manually input in notepad++ and the encoding is ```utf-8```:"
   ]
  },
  {
   "cell_type": "markdown",
   "metadata": {},
   "source": [
    "<img src='images/img_014.png' alt='img_014' width='450'/>"
   ]
  },
  {
   "cell_type": "markdown",
   "metadata": {},
   "source": [
    "If the following spreadseheet is created:"
   ]
  },
  {
   "cell_type": "markdown",
   "metadata": {},
   "source": [
    "<img src='images/img_015.png' alt='img_015' width='450'/>"
   ]
  },
  {
   "cell_type": "markdown",
   "metadata": {},
   "source": [
    "It can be saved as ```sheet7.prn```, this is the print format which uses spacing to format columns:"
   ]
  },
  {
   "cell_type": "markdown",
   "metadata": {},
   "source": [
    "<img src='images/img_016.png' alt='img_016' width='450'/>"
   ]
  },
  {
   "cell_type": "markdown",
   "metadata": {},
   "source": [
    "Note the headings of each column is left aligned while the data is right aligned. Once again the encoding is ```utf-8```:"
   ]
  },
  {
   "cell_type": "markdown",
   "metadata": {},
   "source": [
    "<img src='images/img_017.png' alt='img_017' width='450'/>"
   ]
  },
  {
   "cell_type": "markdown",
   "metadata": {},
   "source": [
    "Previously ```\",\"``` was seen to enclose a ```,``` in a ```.csv``` file. More complicated quotations are used to enclose text which contains ```\",\"```:"
   ]
  },
  {
   "cell_type": "markdown",
   "metadata": {},
   "source": [
    "<img src='images/img_018.png' alt='img_018' width='450'/>"
   ]
  },
  {
   "cell_type": "markdown",
   "metadata": {},
   "source": [
    "<img src='images/img_019.png' alt='img_019' width='450'/>"
   ]
  },
  {
   "cell_type": "markdown",
   "metadata": {},
   "source": [
    "## reading in a file"
   ]
  },
  {
   "cell_type": "markdown",
   "metadata": {},
   "source": [
    "<img src='images/img_005.png' alt='img_005' width='450'/>"
   ]
  },
  {
   "cell_type": "code",
   "execution_count": 7,
   "metadata": {},
   "outputs": [
    {
     "data": {
      "text/plain": [
       "['x\\r\\n', '0\\r\\n', '1\\r\\n', '2\\r\\n', '3\\r\\n', '4\\r\\n', '5\\r\\n']"
      ]
     },
     "execution_count": 7,
     "metadata": {},
     "output_type": "execute_result"
    }
   ],
   "source": [
    "with open('text2.txt', mode='r', encoding='utf-8', newline='\\r\\n') as file:\n",
    "    data = file.readlines()\n",
    "\n",
    "data"
   ]
  },
  {
   "cell_type": "code",
   "execution_count": null,
   "metadata": {},
   "outputs": [],
   "source": [
    "open()"
   ]
  },
  {
   "cell_type": "markdown",
   "metadata": {},
   "source": [
    "<img src='images/img_013.png' alt='img_013' width='450'/>"
   ]
  },
  {
   "cell_type": "markdown",
   "metadata": {},
   "source": []
  },
  {
   "cell_type": "code",
   "execution_count": 12,
   "metadata": {},
   "outputs": [
    {
     "data": {
      "text/plain": [
       "['\\ufefflibraries,version\\r\\n',\n",
       " 'python,\"3,11,5\"\\r\\n',\n",
       " 'numpy,\"1,26,0\"\\r\\n',\n",
       " 'pandas,\"2,1,1\"\\r\\n',\n",
       " 'matplotlib,\"3,8,0\"\\r\\n',\n",
       " 'seaborn,\"0,13,0\"\\r\\n']"
      ]
     },
     "execution_count": 12,
     "metadata": {},
     "output_type": "execute_result"
    }
   ],
   "source": [
    "with open('sheet5.csv', mode='r', encoding='utf-8', newline='\\r\\n') as file:\n",
    "    data = file.readlines()\n",
    "\n",
    "data"
   ]
  },
  {
   "cell_type": "code",
   "execution_count": 11,
   "metadata": {},
   "outputs": [
    {
     "data": {
      "text/plain": [
       "['libraries,version\\r\\n',\n",
       " 'python,\"3,11,5\"\\r\\n',\n",
       " 'numpy,\"1,26,0\"\\r\\n',\n",
       " 'pandas,\"2,1,1\"\\r\\n',\n",
       " 'matplotlib,\"3,8,0\"\\r\\n',\n",
       " 'seaborn,\"0,13,0\"\\r\\n']"
      ]
     },
     "execution_count": 11,
     "metadata": {},
     "output_type": "execute_result"
    }
   ],
   "source": [
    "with open('sheet5.csv', mode='r', encoding='utf-8-sig', newline='\\r\\n') as file:\n",
    "    data = file.readlines()\n",
    "\n",
    "data"
   ]
  },
  {
   "cell_type": "markdown",
   "metadata": {},
   "source": [
    "### reading in a file with csv functionality"
   ]
  },
  {
   "cell_type": "code",
   "execution_count": 17,
   "metadata": {},
   "outputs": [],
   "source": [
    "from helper_module import print_identifier_group"
   ]
  },
  {
   "cell_type": "code",
   "execution_count": 14,
   "metadata": {},
   "outputs": [],
   "source": [
    "import csv"
   ]
  },
  {
   "cell_type": "code",
   "execution_count": 16,
   "metadata": {},
   "outputs": [],
   "source": [
    "with open('sheet5.csv', mode='r', encoding='utf-8-sig', newline='\\r\\n') as file:\n",
    "    csv_file = csv.reader(file, delimiter=',', quotechar='\"')\n"
   ]
  },
  {
   "cell_type": "code",
   "execution_count": 19,
   "metadata": {},
   "outputs": [
    {
     "name": "stdout",
     "output_type": "stream",
     "text": [
      "['__doc__', '__module__']\n"
     ]
    }
   ],
   "source": [
    "print_identifier_group(csv_file, kind='datamodel_attribute')"
   ]
  },
  {
   "cell_type": "code",
   "execution_count": 20,
   "metadata": {},
   "outputs": [
    {
     "name": "stdout",
     "output_type": "stream",
     "text": [
      "['__class__', '__delattr__', '__dir__', '__eq__', '__format__', '__ge__', '__getattribute__', '__getstate__', '__gt__', '__hash__', '__init__', '__init_subclass__', '__iter__', '__le__', '__lt__', '__ne__', '__new__', '__next__', '__reduce__', '__reduce_ex__', '__repr__', '__setattr__', '__sizeof__', '__str__', '__subclasshook__']\n"
     ]
    }
   ],
   "source": [
    "print_identifier_group(csv_file, kind='datamodel_method')"
   ]
  },
  {
   "cell_type": "code",
   "execution_count": 21,
   "metadata": {},
   "outputs": [
    {
     "name": "stdout",
     "output_type": "stream",
     "text": [
      "['dialect', 'line_num']\n"
     ]
    }
   ],
   "source": [
    "print_identifier_group(csv_file, kind='attribute')"
   ]
  },
  {
   "cell_type": "code",
   "execution_count": 22,
   "metadata": {},
   "outputs": [
    {
     "name": "stdout",
     "output_type": "stream",
     "text": [
      "[]\n"
     ]
    }
   ],
   "source": [
    "print_identifier_group(csv_file, kind='method')"
   ]
  },
  {
   "cell_type": "code",
   "execution_count": 32,
   "metadata": {},
   "outputs": [
    {
     "name": "stdout",
     "output_type": "stream",
     "text": [
      "0 ['libraries', 'version']\n"
     ]
    }
   ],
   "source": [
    "with open('sheet5.csv', mode='r', encoding='utf-8-sig', newline='\\r\\n') as file:\n",
    "    csv_file = csv.reader(file, delimiter=',', quotechar='\"')\n",
    "    print(csv_file.line_num, next(csv_file))"
   ]
  },
  {
   "cell_type": "code",
   "execution_count": 36,
   "metadata": {},
   "outputs": [],
   "source": [
    "csv_data = {}"
   ]
  },
  {
   "cell_type": "code",
   "execution_count": 37,
   "metadata": {},
   "outputs": [],
   "source": [
    "with open('sheet5.csv', mode='r', encoding='utf-8-sig', newline='\\r\\n') as file:\n",
    "    csv_file = csv.reader(file, delimiter=',', quotechar='\"')\n",
    "    for row in csv_file:\n",
    "        csv_data[f'row_{csv_file.line_num}'] = row"
   ]
  },
  {
   "cell_type": "code",
   "execution_count": 38,
   "metadata": {},
   "outputs": [
    {
     "data": {
      "text/plain": [
       "{'row_1': ['libraries', 'version'],\n",
       " 'row_2': ['python', '3,11,5'],\n",
       " 'row_3': ['numpy', '1,26,0'],\n",
       " 'row_4': ['pandas', '2,1,1'],\n",
       " 'row_5': ['matplotlib', '3,8,0'],\n",
       " 'row_6': ['seaborn', '0,13,0']}"
      ]
     },
     "execution_count": 38,
     "metadata": {},
     "output_type": "execute_result"
    }
   ],
   "source": [
    "csv_data"
   ]
  },
  {
   "cell_type": "code",
   "execution_count": 39,
   "metadata": {},
   "outputs": [
    {
     "data": {
      "text/plain": [
       "'libraries'"
      ]
     },
     "execution_count": 39,
     "metadata": {},
     "output_type": "execute_result"
    }
   ],
   "source": [
    "csv_data['row_1'][0]"
   ]
  },
  {
   "cell_type": "markdown",
   "metadata": {},
   "source": []
  },
  {
   "cell_type": "code",
   "execution_count": 41,
   "metadata": {},
   "outputs": [],
   "source": [
    "csv_data = {}"
   ]
  },
  {
   "cell_type": "code",
   "execution_count": 42,
   "metadata": {},
   "outputs": [],
   "source": [
    "with open('sheet5.csv', mode='r', encoding='utf-8-sig', newline='\\r\\n') as file:\n",
    "    csv_file = csv.reader(file, delimiter='\\t', quotechar='\"')\n",
    "    for row in csv_file:\n",
    "        csv_data[f'row_{csv_file.line_num}'] = row"
   ]
  },
  {
   "cell_type": "code",
   "execution_count": 43,
   "metadata": {},
   "outputs": [
    {
     "data": {
      "text/plain": [
       "{'row_1': ['libraries,version'],\n",
       " 'row_2': ['python,\"3,11,5\"'],\n",
       " 'row_3': ['numpy,\"1,26,0\"'],\n",
       " 'row_4': ['pandas,\"2,1,1\"'],\n",
       " 'row_5': ['matplotlib,\"3,8,0\"'],\n",
       " 'row_6': ['seaborn,\"0,13,0\"']}"
      ]
     },
     "execution_count": 43,
     "metadata": {},
     "output_type": "execute_result"
    }
   ],
   "source": [
    "csv_data"
   ]
  },
  {
   "cell_type": "markdown",
   "metadata": {},
   "source": []
  },
  {
   "cell_type": "code",
   "execution_count": 44,
   "metadata": {},
   "outputs": [],
   "source": [
    "csv_data = {}"
   ]
  },
  {
   "cell_type": "code",
   "execution_count": 45,
   "metadata": {},
   "outputs": [],
   "source": [
    "with open('sheet5.csv', mode='r', encoding='utf-8-sig', newline='\\r\\n') as file:\n",
    "    csv_file = csv.reader(file, delimiter=',', quotechar=\"'\")\n",
    "    for row in csv_file:\n",
    "        csv_data[f'row_{csv_file.line_num}'] = row"
   ]
  },
  {
   "cell_type": "code",
   "execution_count": 46,
   "metadata": {},
   "outputs": [
    {
     "data": {
      "text/plain": [
       "{'row_1': ['libraries', 'version'],\n",
       " 'row_2': ['python', '\"3', '11', '5\"'],\n",
       " 'row_3': ['numpy', '\"1', '26', '0\"'],\n",
       " 'row_4': ['pandas', '\"2', '1', '1\"'],\n",
       " 'row_5': ['matplotlib', '\"3', '8', '0\"'],\n",
       " 'row_6': ['seaborn', '\"0', '13', '0\"']}"
      ]
     },
     "execution_count": 46,
     "metadata": {},
     "output_type": "execute_result"
    }
   ],
   "source": [
    "csv_data"
   ]
  },
  {
   "cell_type": "markdown",
   "metadata": {},
   "source": []
  },
  {
   "cell_type": "code",
   "execution_count": 53,
   "metadata": {},
   "outputs": [],
   "source": [
    "with open('sheet9.csv', mode='w', encoding='utf-8', newline='\\r\\n') as file:\n",
    "    csv_file = csv.writer(file, delimiter=',', quotechar='\"')"
   ]
  },
  {
   "cell_type": "code",
   "execution_count": 54,
   "metadata": {},
   "outputs": [
    {
     "name": "stdout",
     "output_type": "stream",
     "text": [
      "['__doc__', '__module__']\n"
     ]
    }
   ],
   "source": [
    "print_identifier_group(csv_file, kind='datamodel_attribute')"
   ]
  },
  {
   "cell_type": "code",
   "execution_count": 55,
   "metadata": {},
   "outputs": [
    {
     "name": "stdout",
     "output_type": "stream",
     "text": [
      "['__class__', '__delattr__', '__dir__', '__eq__', '__format__', '__ge__', '__getattribute__', '__getstate__', '__gt__', '__hash__', '__init__', '__init_subclass__', '__le__', '__lt__', '__ne__', '__new__', '__reduce__', '__reduce_ex__', '__repr__', '__setattr__', '__sizeof__', '__str__', '__subclasshook__']\n"
     ]
    }
   ],
   "source": [
    "print_identifier_group(csv_file, kind='datamodel_method')"
   ]
  },
  {
   "cell_type": "code",
   "execution_count": 56,
   "metadata": {},
   "outputs": [
    {
     "name": "stdout",
     "output_type": "stream",
     "text": [
      "['dialect']\n"
     ]
    }
   ],
   "source": [
    "print_identifier_group(csv_file, kind='attribute')"
   ]
  },
  {
   "cell_type": "code",
   "execution_count": 57,
   "metadata": {},
   "outputs": [
    {
     "name": "stdout",
     "output_type": "stream",
     "text": [
      "['writerow', 'writerows']\n"
     ]
    }
   ],
   "source": [
    "print_identifier_group(csv_file, kind='method')"
   ]
  },
  {
   "cell_type": "markdown",
   "metadata": {},
   "source": []
  },
  {
   "cell_type": "code",
   "execution_count": 66,
   "metadata": {},
   "outputs": [
    {
     "data": {
      "text/plain": [
       "_csv.writer"
      ]
     },
     "execution_count": 66,
     "metadata": {},
     "output_type": "execute_result"
    }
   ],
   "source": [
    "type(csv_file)"
   ]
  },
  {
   "cell_type": "code",
   "execution_count": 67,
   "metadata": {},
   "outputs": [
    {
     "data": {
      "text/plain": [
       "_io.TextIOWrapper"
      ]
     },
     "execution_count": 67,
     "metadata": {},
     "output_type": "execute_result"
    }
   ],
   "source": [
    "type(file)"
   ]
  },
  {
   "cell_type": "markdown",
   "metadata": {},
   "source": [
    "Recall there is a difference on Windows which uses ```'\\r\\n'``` and Linux/Mac which use ```'\\n'```\n",
    "\n",
    "On Windows however the ```writerow``` method of the ```writer``` class automatically prepends ```'\\r'``` to the specified ```newline``` and therefore ```\\r\\n``` becomes ```\\r\\r\\n``` which is incorrect. This behaviour was also seen previously when the ```write``` method of ```file``` which is an instance of the ```TextIOWrapper``` class was discussed in the previous notebook on the ```io``` module."
   ]
  },
  {
   "cell_type": "code",
   "execution_count": 65,
   "metadata": {},
   "outputs": [],
   "source": [
    "with open('sheet9.csv', mode='w', encoding='utf-8', newline='\\r\\n') as file:\n",
    "    csv_file = csv.writer(file, delimiter=',', quotechar='\"')\n",
    "    csv_file.writerow(['x', 'y', 'z'])\n",
    "    csv_file.writerow([1, 2, 3])\n",
    "    csv_file.writerow([2, 4, 6])    "
   ]
  },
  {
   "cell_type": "markdown",
   "metadata": {},
   "source": []
  },
  {
   "cell_type": "markdown",
   "metadata": {},
   "source": [
    "Note using ```newline='\\r\\n'``` gives ```\\r\\r\\n```"
   ]
  },
  {
   "cell_type": "code",
   "execution_count": null,
   "metadata": {},
   "outputs": [],
   "source": [
    "with open('sheet10.csv', mode='w', encoding='utf-8', newline='\\r\\n') as file:\n",
    "    csv_file = csv.writer(file, delimiter=',', quotechar='\"')\n",
    "    csv_file.writerow(['x', 'y', 'z'])\n",
    "    csv_file.writerow([1, 2, 3])\n",
    "    csv_file.writerow([2, 4, 6])    "
   ]
  },
  {
   "cell_type": "markdown",
   "metadata": {},
   "source": []
  },
  {
   "cell_type": "code",
   "execution_count": 60,
   "metadata": {},
   "outputs": [],
   "source": [
    "with open('sheet11.csv', mode='w', encoding='utf-8', newline='\\n') as file:\n",
    "    csv_file = csv.writer(file, delimiter=',', quotechar='\"')\n",
    "    csv_file.writerows([['x', 'y', 'z'],\n",
    "                        [1, 2, 3],\n",
    "                        [2, 4, 6]])    "
   ]
  }
 ],
 "metadata": {
  "kernelspec": {
   "display_name": "Python 3",
   "language": "python",
   "name": "python3"
  },
  "language_info": {
   "codemirror_mode": {
    "name": "ipython",
    "version": 3
   },
   "file_extension": ".py",
   "mimetype": "text/x-python",
   "name": "python",
   "nbconvert_exporter": "python",
   "pygments_lexer": "ipython3",
   "version": "3.11.5"
  }
 },
 "nbformat": 4,
 "nbformat_minor": 2
}
