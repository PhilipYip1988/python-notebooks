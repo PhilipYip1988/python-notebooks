{
 "cells": [
  {
   "cell_type": "markdown",
   "metadata": {},
   "source": [
    "# Python Formatters"
   ]
  },
  {
   "cell_type": "markdown",
   "metadata": {},
   "source": [
    "The os module will be imported and used to identifiy if the OS is Windows or Linux:"
   ]
  },
  {
   "cell_type": "code",
   "execution_count": 1,
   "metadata": {},
   "outputs": [],
   "source": [
    "import os"
   ]
  },
  {
   "cell_type": "markdown",
   "metadata": {},
   "source": [
    "The following function write_file will be created to create an example script1.py file:"
   ]
  },
  {
   "cell_type": "code",
   "execution_count": 2,
   "metadata": {},
   "outputs": [],
   "source": [
    "def write_file():\n",
    "    lines = [\"var1= 'Hello'\",\n",
    "            'var2 =\"World\"',\n",
    "            'import numpy as np',\n",
    "            'x=np.array([0,1,2,3,4])',\n",
    "            'y=np.array([0,2,4, 6 ,8])',\n",
    "            'import pandas as pd',\n",
    "            'df=pd.DataFrame({\\'x\\':x,\"y\":y})',\n",
    "            'import datetime',\n",
    "            'now=datetime.datetime(year = 2023,month=12 ,day=1)',\n",
    "            'hour=datetime.timedelta(hours=1)',\n",
    "            'import collections',\n",
    "            'counts=collections.Counter([1, 2,2 ,2,3,3])',\n",
    "            'import itertools',\n",
    "            'cycle=itertools.cycle([1,2,3])',\n",
    "            'import sys, os',\n",
    "            'sys.getsizeof(cycle)',\n",
    "            \"os.environ['USERPROFILE']\",\n",
    "            'num1 = 0xabb4ab8a',\n",
    "            'import string']\n",
    "    with open('script1.py', mode='w', encoding='utf-8', errors='strict', newline='\\r\\n') as file:\n",
    "        file.writelines(line + '\\n' for line in lines)"
   ]
  },
  {
   "cell_type": "markdown",
   "metadata": {},
   "source": [
    "This function can be used to write the Python file script1.py"
   ]
  },
  {
   "cell_type": "code",
   "execution_count": 3,
   "metadata": {},
   "outputs": [],
   "source": [
    "write_file()"
   ]
  },
  {
   "cell_type": "markdown",
   "metadata": {},
   "source": [
    "It can be viewed in a cell using the PowerShell command ```type``` or the ipython magic command ```%load script1```:"
   ]
  },
  {
   "cell_type": "code",
   "execution_count": 4,
   "metadata": {},
   "outputs": [
    {
     "name": "stdout",
     "output_type": "stream",
     "text": [
      "var1= 'Hello'\n",
      "var2 =\"World\"\n",
      "import numpy as np\n",
      "x=np.array([0,1,2,3,4])\n",
      "y=np.array([0,2,4, 6 ,8])\n",
      "import pandas as pd\n",
      "df=pd.DataFrame({'x':x,\"y\":y})\n",
      "import datetime\n",
      "now=datetime.datetime(year = 2023,month=12 ,day=1)\n",
      "hour=datetime.timedelta(hours=1)\n",
      "import collections\n",
      "counts=collections.Counter([1, 2,2 ,2,3,3])\n",
      "import itertools\n",
      "cycle=itertools.cycle([1,2,3])\n",
      "import sys, os\n",
      "sys.getsizeof(cycle)\n",
      "os.environ['USERPROFILE']\n",
      "num1 = 0xabb4ab8a\n",
      "import string\n"
     ]
    }
   ],
   "source": [
    "if os.name == 'nt':\n",
    "    !C:\\Windows\\System32\\WindowsPowerShell\\v1.0\\powershell type script1.py"
   ]
  },
  {
   "cell_type": "markdown",
   "metadata": {},
   "source": [
    "## AutoPEP8 Formatter"
   ]
  },
  {
   "cell_type": "markdown",
   "metadata": {},
   "source": [
    "The [PEP8 Python Style Guide](https://peps.python.org/pep-0008/) makes a number of recommendations for formatting Python code to make it more readible.\n",
    "\n",
    "The autopep8 formatter automatically adjust codes to meet this requirement:\n",
    "\n",
    "* Moves all imports to the top of the script file grouping:\n",
    "    * grouping Python standard modules\n",
    "    * grouping Python third-party modules\n",
    "* Uses spacing \n",
    "    * to emphasis the delimiter in a collection or a function call \n",
    "    * to emphasise an operator outwith a function call\n"
   ]
  },
  {
   "cell_type": "code",
   "execution_count": 5,
   "metadata": {},
   "outputs": [
    {
     "name": "stdout",
     "output_type": "stream",
     "text": [
      "import os\n",
      "import sys\n",
      "import string\n",
      "import itertools\n",
      "import collections\n",
      "import datetime\n",
      "import pandas as pd\n",
      "import numpy as np\n",
      "var1 = 'Hello'\n",
      "var2 = \"World\"\n",
      "x = np.array([0, 1, 2, 3, 4])\n",
      "y = np.array([0, 2, 4, 6, 8])\n",
      "df = pd.DataFrame({'x': x, \"y\": y})\n",
      "now = datetime.datetime(year=2023, month=12, day=1)\n",
      "hour = datetime.timedelta(hours=1)\n",
      "counts = collections.Counter([1, 2, 2, 2, 3, 3])\n",
      "cycle = itertools.cycle([1, 2, 3])\n",
      "sys.getsizeof(cycle)\n",
      "os.environ['USERPROFILE']\n",
      "num1 = 0xabb4ab8a\n"
     ]
    }
   ],
   "source": [
    "if os.name == 'nt':\n",
    "    !C:\\Windows\\System32\\WindowsPowerShell\\v1.0\\powershell ~\\anaconda3\\scripts\\autopep8 script1.py"
   ]
  },
  {
   "cell_type": "markdown",
   "metadata": {},
   "source": [
    "The changes aren't made in place and the inplace flag ```-i``` can be used:"
   ]
  },
  {
   "cell_type": "code",
   "execution_count": 6,
   "metadata": {},
   "outputs": [],
   "source": [
    "if os.name == 'nt':\n",
    "    !C:\\Windows\\System32\\WindowsPowerShell\\v1.0\\powershell ~\\anaconda3\\scripts\\autopep8 -i script1.py"
   ]
  },
  {
   "cell_type": "markdown",
   "metadata": {},
   "source": [
    "It can be viewed in a cell using the PowerShell command ```type``` or the ipython magic command ```%load script1```:"
   ]
  },
  {
   "cell_type": "code",
   "execution_count": 7,
   "metadata": {},
   "outputs": [
    {
     "name": "stdout",
     "output_type": "stream",
     "text": [
      "import os\n",
      "import sys\n",
      "import string\n",
      "import itertools\n",
      "import collections\n",
      "import datetime\n",
      "import pandas as pd\n",
      "import numpy as np\n",
      "var1 = 'Hello'\n",
      "var2 = \"World\"\n",
      "x = np.array([0, 1, 2, 3, 4])\n",
      "y = np.array([0, 2, 4, 6, 8])\n",
      "df = pd.DataFrame({'x': x, \"y\": y})\n",
      "now = datetime.datetime(year=2023, month=12, day=1)\n",
      "hour = datetime.timedelta(hours=1)\n",
      "counts = collections.Counter([1, 2, 2, 2, 3, 3])\n",
      "cycle = itertools.cycle([1, 2, 3])\n",
      "sys.getsizeof(cycle)\n",
      "os.environ['USERPROFILE']\n",
      "num1 = 0xabb4ab8a\n"
     ]
    }
   ],
   "source": [
    "if os.name == 'nt':\n",
    "    !C:\\Windows\\System32\\WindowsPowerShell\\v1.0\\powershell type script1.py"
   ]
  },
  {
   "cell_type": "markdown",
   "metadata": {},
   "source": [
    "If the autopep8 extension is installed in VSCode then autopep8 can be used in VSCode by pressing Ctrl, ⇧ and p to open the command palette and using the Format Document command or Format Document with command which allows selection of the default formatter. For a notebook there is the Format Notebook command.\n",
    "\n",
    "Spyder has the ability to format a file with autopep8 from the source menu."
   ]
  },
  {
   "cell_type": "markdown",
   "metadata": {},
   "source": [
    "## Import Sort Formatter"
   ]
  },
  {
   "cell_type": "markdown",
   "metadata": {},
   "source": [
    "The PEP8 Python style guide only recommends grouping modules by standard modules and third-party modules respectively. It is quite common to group each category alphabetically and this can be done with the import sort isort:"
   ]
  },
  {
   "cell_type": "code",
   "execution_count": 8,
   "metadata": {},
   "outputs": [
    {
     "name": "stdout",
     "output_type": "stream",
     "text": [
      "Fixing C:\\Users\\phili\\OneDrive\\Documents\\GitHub\\python-notebooks\\formatters\\script1.py\n"
     ]
    }
   ],
   "source": [
    "if os.name == 'nt':\n",
    "    !C:\\Windows\\System32\\WindowsPowerShell\\v1.0\\powershell ~\\anaconda3\\scripts\\isort script1.py"
   ]
  },
  {
   "cell_type": "markdown",
   "metadata": {},
   "source": [
    "Unlike autopep8, this library updates the Python script file inplace. It can be viewed in a cell using the PowerShell command ```type``` or the ipython magic command ```%load script1```:"
   ]
  },
  {
   "cell_type": "code",
   "execution_count": 9,
   "metadata": {},
   "outputs": [
    {
     "name": "stdout",
     "output_type": "stream",
     "text": [
      "import collections\n",
      "import datetime\n",
      "import itertools\n",
      "import os\n",
      "import string\n",
      "import sys\n",
      "\n",
      "import numpy as np\n",
      "import pandas as pd\n",
      "\n",
      "var1 = 'Hello'\n",
      "var2 = \"World\"\n",
      "x = np.array([0, 1, 2, 3, 4])\n",
      "y = np.array([0, 2, 4, 6, 8])\n",
      "df = pd.DataFrame({'x': x, \"y\": y})\n",
      "now = datetime.datetime(year=2023, month=12, day=1)\n",
      "hour = datetime.timedelta(hours=1)\n",
      "counts = collections.Counter([1, 2, 2, 2, 3, 3])\n",
      "cycle = itertools.cycle([1, 2, 3])\n",
      "sys.getsizeof(cycle)\n",
      "os.environ['USERPROFILE']\n",
      "num1 = 0xabb4ab8a\n"
     ]
    }
   ],
   "source": [
    "if os.name == 'nt':\n",
    "    !C:\\Windows\\System32\\WindowsPowerShell\\v1.0\\powershell type script1.py"
   ]
  },
  {
   "cell_type": "markdown",
   "metadata": {},
   "source": [
    "If the isort extension is installed in VSCode then isort can be used in VSCode by pressing Ctrl, ⇧ and p to open the command palette and using the Import Organize command. \n",
    "\n",
    "Spyder does not currently have integration with isort."
   ]
  },
  {
   "cell_type": "markdown",
   "metadata": {},
   "source": [
    "## Black Formatter"
   ]
  },
  {
   "cell_type": "markdown",
   "metadata": {},
   "source": [
    "The PEP8 Python style guide does not recommend use of a quotation style in Python and thus var1 and var2 are inconsistent using single and double quotes respectively. The keys in df are also inconsistent:"
   ]
  },
  {
   "cell_type": "code",
   "execution_count": 10,
   "metadata": {},
   "outputs": [
    {
     "name": "stderr",
     "output_type": "stream",
     "text": [
      "reformatted script1.py\n",
      "\n",
      "All done! ✨ 🍰 ✨\n",
      "1 file reformatted.\n"
     ]
    }
   ],
   "source": [
    "if os.name == 'nt':\n",
    "    !C:\\Windows\\System32\\WindowsPowerShell\\v1.0\\powershell ~\\anaconda3\\scripts\\black script1.py"
   ]
  },
  {
   "cell_type": "markdown",
   "metadata": {},
   "source": [
    "It can be viewed in a cell using the PowerShell command ```type``` or the ipython magic command ```%load script1```:"
   ]
  },
  {
   "cell_type": "code",
   "execution_count": 11,
   "metadata": {},
   "outputs": [
    {
     "name": "stdout",
     "output_type": "stream",
     "text": [
      "import collections\n",
      "import datetime\n",
      "import itertools\n",
      "import os\n",
      "import string\n",
      "import sys\n",
      "\n",
      "import numpy as np\n",
      "import pandas as pd\n",
      "\n",
      "var1 = \"Hello\"\n",
      "var2 = \"World\"\n",
      "x = np.array([0, 1, 2, 3, 4])\n",
      "y = np.array([0, 2, 4, 6, 8])\n",
      "df = pd.DataFrame({\"x\": x, \"y\": y})\n",
      "now = datetime.datetime(year=2023, month=12, day=1)\n",
      "hour = datetime.timedelta(hours=1)\n",
      "counts = collections.Counter([1, 2, 2, 2, 3, 3])\n",
      "cycle = itertools.cycle([1, 2, 3])\n",
      "sys.getsizeof(cycle)\n",
      "os.environ[\"USERPROFILE\"]\n",
      "num1 = 0xABB4AB8A\n"
     ]
    }
   ],
   "source": [
    "if os.name == 'nt':\n",
    "    !C:\\Windows\\System32\\WindowsPowerShell\\v1.0\\powershell type script1.py"
   ]
  },
  {
   "cell_type": "markdown",
   "metadata": {},
   "source": [
    "Notice that black does not work well unless autopep8 and isort have been previously used:"
   ]
  },
  {
   "cell_type": "code",
   "execution_count": 12,
   "metadata": {},
   "outputs": [
    {
     "name": "stderr",
     "output_type": "stream",
     "text": [
      "reformatted script1.py\n",
      "\n",
      "All done! ✨ 🍰 ✨\n",
      "1 file reformatted.\n"
     ]
    }
   ],
   "source": [
    "write_file()\n",
    "if os.name == 'nt':\n",
    "    !C:\\Windows\\System32\\WindowsPowerShell\\v1.0\\powershell ~\\anaconda3\\scripts\\black script1.py"
   ]
  },
  {
   "cell_type": "code",
   "execution_count": 13,
   "metadata": {},
   "outputs": [
    {
     "name": "stdout",
     "output_type": "stream",
     "text": [
      "var1 = \"Hello\"\n",
      "var2 = \"World\"\n",
      "import numpy as np\n",
      "\n",
      "x = np.array([0, 1, 2, 3, 4])\n",
      "y = np.array([0, 2, 4, 6, 8])\n",
      "import pandas as pd\n",
      "\n",
      "df = pd.DataFrame({\"x\": x, \"y\": y})\n",
      "import datetime\n",
      "\n",
      "now = datetime.datetime(year=2023, month=12, day=1)\n",
      "hour = datetime.timedelta(hours=1)\n",
      "import collections\n",
      "\n",
      "counts = collections.Counter([1, 2, 2, 2, 3, 3])\n",
      "import itertools\n",
      "\n",
      "cycle = itertools.cycle([1, 2, 3])\n",
      "import sys, os\n",
      "\n",
      "sys.getsizeof(cycle)\n",
      "os.environ[\"USERPROFILE\"]\n",
      "num1 = 0xABB4AB8A\n",
      "import string\n"
     ]
    }
   ],
   "source": [
    "if os.name == 'nt':\n",
    "    !C:\\Windows\\System32\\WindowsPowerShell\\v1.0\\powershell type script1.py"
   ]
  },
  {
   "cell_type": "markdown",
   "metadata": {},
   "source": [
    "Typically the three commands are run in a code block:"
   ]
  },
  {
   "cell_type": "code",
   "execution_count": 14,
   "metadata": {},
   "outputs": [
    {
     "name": "stdout",
     "output_type": "stream",
     "text": [
      "Fixing C:\\Users\\phili\\OneDrive\\Documents\\GitHub\\python-notebooks\\formatters\\script1.py\n"
     ]
    },
    {
     "name": "stderr",
     "output_type": "stream",
     "text": [
      "reformatted script1.py\n",
      "\n",
      "All done! ✨ 🍰 ✨\n",
      "1 file reformatted.\n"
     ]
    }
   ],
   "source": [
    "write_file()\n",
    "if os.name == 'nt':\n",
    "    !C:\\Windows\\System32\\WindowsPowerShell\\v1.0\\powershell ~\\anaconda3\\scripts\\autopep8 -i script1.py\n",
    "    !C:\\Windows\\System32\\WindowsPowerShell\\v1.0\\powershell ~\\anaconda3\\scripts\\isort script1.py\n",
    "    !C:\\Windows\\System32\\WindowsPowerShell\\v1.0\\powershell ~\\anaconda3\\scripts\\black script1.py"
   ]
  },
  {
   "cell_type": "code",
   "execution_count": 15,
   "metadata": {},
   "outputs": [
    {
     "name": "stdout",
     "output_type": "stream",
     "text": [
      "import collections\n",
      "import datetime\n",
      "import itertools\n",
      "import os\n",
      "import string\n",
      "import sys\n",
      "\n",
      "import numpy as np\n",
      "import pandas as pd\n",
      "\n",
      "var1 = \"Hello\"\n",
      "var2 = \"World\"\n",
      "x = np.array([0, 1, 2, 3, 4])\n",
      "y = np.array([0, 2, 4, 6, 8])\n",
      "df = pd.DataFrame({\"x\": x, \"y\": y})\n",
      "now = datetime.datetime(year=2023, month=12, day=1)\n",
      "hour = datetime.timedelta(hours=1)\n",
      "counts = collections.Counter([1, 2, 2, 2, 3, 3])\n",
      "cycle = itertools.cycle([1, 2, 3])\n",
      "sys.getsizeof(cycle)\n",
      "os.environ[\"USERPROFILE\"]\n",
      "num1 = 0xABB4AB8A\n"
     ]
    }
   ],
   "source": [
    "if os.name == 'nt':\n",
    "    !C:\\Windows\\System32\\WindowsPowerShell\\v1.0\\powershell type script1.py"
   ]
  },
  {
   "cell_type": "markdown",
   "metadata": {},
   "source": [
    "If the black extension is installed in VSCode then black can be used in VSCode by pressing Ctrl, ⇧ and p to open the command palette and using the Format Document command or Format Document with command which allows selection of the default formatter. For a notebook there is the Format Notebook command.\n",
    "\n",
    "Spyder has the ability to format a file with black from the source menu. The Spyder options need to be used to change the default formatter from autopep8 to black."
   ]
  },
  {
   "cell_type": "markdown",
   "metadata": {},
   "source": [
    "Unfortunately the opinionated choices enforced by black are inconsistent with the Python interpretter itself which preferences single-quotations:"
   ]
  },
  {
   "cell_type": "code",
   "execution_count": 16,
   "metadata": {},
   "outputs": [
    {
     "data": {
      "text/plain": [
       "'hello'"
      ]
     },
     "execution_count": 16,
     "metadata": {},
     "output_type": "execute_result"
    }
   ],
   "source": [
    "\"hello\""
   ]
  },
  {
   "cell_type": "markdown",
   "metadata": {},
   "source": [
    "Unless a string literal is included:"
   ]
  },
  {
   "cell_type": "code",
   "execution_count": 17,
   "metadata": {},
   "outputs": [
    {
     "data": {
      "text/plain": [
       "\"The string is 'hello'\""
      ]
     },
     "execution_count": 17,
     "metadata": {},
     "output_type": "execute_result"
    }
   ],
   "source": [
    "'The string is \\'hello\\''"
   ]
  },
  {
   "cell_type": "markdown",
   "metadata": {},
   "source": [
    "## Ruff Formatter"
   ]
  },
  {
   "cell_type": "markdown",
   "metadata": {},
   "source": [
    "The Rust Fast Formatter has been under rapid development and is similar to black but can easily be configured. At current it is not preinstalled by Anaconda and is only available of the conda-forge channel:"
   ]
  },
  {
   "cell_type": "code",
   "execution_count": 18,
   "metadata": {},
   "outputs": [
    {
     "name": "stdout",
     "output_type": "stream",
     "text": [
      "Fixing C:\\Users\\phili\\OneDrive\\Documents\\GitHub\\python-notebooks\\formatters\\script1.py\n",
      "1 file reformatted\n"
     ]
    }
   ],
   "source": [
    "write_file()\n",
    "if os.name == 'nt':\n",
    "    !C:\\Windows\\System32\\WindowsPowerShell\\v1.0\\powershell ~\\anaconda3\\scripts\\autopep8 -i script1.py\n",
    "    !C:\\Windows\\System32\\WindowsPowerShell\\v1.0\\powershell ~\\anaconda3\\scripts\\isort script1.py\n",
    "    !C:\\Windows\\System32\\WindowsPowerShell\\v1.0\\powershell ~\\anaconda3\\envs\\vscode-env\\scripts\\ruff format script1.py"
   ]
  },
  {
   "cell_type": "code",
   "execution_count": 19,
   "metadata": {},
   "outputs": [
    {
     "name": "stdout",
     "output_type": "stream",
     "text": [
      "import collections\n",
      "import datetime\n",
      "import itertools\n",
      "import os\n",
      "import string\n",
      "import sys\n",
      "\n",
      "import numpy as np\n",
      "import pandas as pd\n",
      "\n",
      "var1 = \"Hello\"\n",
      "var2 = \"World\"\n",
      "x = np.array([0, 1, 2, 3, 4])\n",
      "y = np.array([0, 2, 4, 6, 8])\n",
      "df = pd.DataFrame({\"x\": x, \"y\": y})\n",
      "now = datetime.datetime(year=2023, month=12, day=1)\n",
      "hour = datetime.timedelta(hours=1)\n",
      "counts = collections.Counter([1, 2, 2, 2, 3, 3])\n",
      "cycle = itertools.cycle([1, 2, 3])\n",
      "sys.getsizeof(cycle)\n",
      "os.environ[\"USERPROFILE\"]\n",
      "num1 = 0xABB4AB8A\n"
     ]
    }
   ],
   "source": [
    "if os.name == 'nt':\n",
    "    !C:\\Windows\\System32\\WindowsPowerShell\\v1.0\\powershell type script1.py"
   ]
  },
  {
   "cell_type": "markdown",
   "metadata": {},
   "source": [
    "## Ruff Configuration File"
   ]
  },
  {
   "cell_type": "markdown",
   "metadata": {},
   "source": [
    "A ruff.toml file can be created:"
   ]
  },
  {
   "cell_type": "code",
   "execution_count": 20,
   "metadata": {},
   "outputs": [],
   "source": [
    "def create_toml():\n",
    "    lines = ['[format]',\n",
    "            '# Use single quotes for strings.',\n",
    "            'quote-style = \"single\"']\n",
    "    with open('ruff.toml', mode='w', encoding='utf-8', errors='strict', newline='\\r\\n') as file:\n",
    "        file.writelines(line + '\\n' for line in lines)         "
   ]
  },
  {
   "cell_type": "code",
   "execution_count": 21,
   "metadata": {},
   "outputs": [],
   "source": [
    "create_toml()"
   ]
  },
  {
   "cell_type": "markdown",
   "metadata": {},
   "source": [
    "This looks like the following:"
   ]
  },
  {
   "cell_type": "code",
   "execution_count": 22,
   "metadata": {},
   "outputs": [
    {
     "name": "stdout",
     "output_type": "stream",
     "text": [
      "[format]\n",
      "# Use single quotes for strings.\n",
      "quote-style = \"single\"\n"
     ]
    }
   ],
   "source": [
    "!C:\\Windows\\System32\\WindowsPowerShell\\v1.0\\powershell type ruff.toml"
   ]
  },
  {
   "cell_type": "markdown",
   "metadata": {},
   "source": [
    "Other configuration options are available see [Configuring Ruff](https://docs.astral.sh/ruff/configuration/):"
   ]
  },
  {
   "cell_type": "code",
   "execution_count": 23,
   "metadata": {},
   "outputs": [
    {
     "name": "stdout",
     "output_type": "stream",
     "text": [
      "Fixing C:\\Users\\phili\\OneDrive\\Documents\\GitHub\\python-notebooks\\formatters\\script1.py\n",
      "1 file reformatted\n"
     ]
    }
   ],
   "source": [
    "write_file()\n",
    "if os.name == 'nt':\n",
    "    !C:\\Windows\\System32\\WindowsPowerShell\\v1.0\\powershell ~\\anaconda3\\scripts\\autopep8 -i script1.py\n",
    "    !C:\\Windows\\System32\\WindowsPowerShell\\v1.0\\powershell ~\\anaconda3\\scripts\\isort script1.py\n",
    "    !C:\\Windows\\System32\\WindowsPowerShell\\v1.0\\powershell ~\\anaconda3\\envs\\vscode-env\\scripts\\ruff format script1.py --config ruff.toml"
   ]
  },
  {
   "cell_type": "markdown",
   "metadata": {},
   "source": [
    "The changes can be viewed in a cell using the ipython magic command ```%load script1```:"
   ]
  },
  {
   "cell_type": "code",
   "execution_count": 24,
   "metadata": {},
   "outputs": [
    {
     "name": "stdout",
     "output_type": "stream",
     "text": [
      "import collections\n",
      "import datetime\n",
      "import itertools\n",
      "import os\n",
      "import string\n",
      "import sys\n",
      "\n",
      "import numpy as np\n",
      "import pandas as pd\n",
      "\n",
      "var1 = 'Hello'\n",
      "var2 = 'World'\n",
      "x = np.array([0, 1, 2, 3, 4])\n",
      "y = np.array([0, 2, 4, 6, 8])\n",
      "df = pd.DataFrame({'x': x, 'y': y})\n",
      "now = datetime.datetime(year=2023, month=12, day=1)\n",
      "hour = datetime.timedelta(hours=1)\n",
      "counts = collections.Counter([1, 2, 2, 2, 3, 3])\n",
      "cycle = itertools.cycle([1, 2, 3])\n",
      "sys.getsizeof(cycle)\n",
      "os.environ['USERPROFILE']\n",
      "num1 = 0xABB4AB8A\n"
     ]
    }
   ],
   "source": [
    "if os.name == 'nt':\n",
    "    !C:\\Windows\\System32\\WindowsPowerShell\\v1.0\\powershell type script1.py"
   ]
  },
  {
   "cell_type": "markdown",
   "metadata": {},
   "source": [
    "If the ruff extension is installed in VSCode then ruff can be used in VSCode by pressing Ctrl, ⇧ and p to open the command palette and using the Format Document with Ruff command or Format. For a notebook there is the Format Notebook with Ruff command.\n",
    "\n",
    "Spyder does not current have integration with Ruff."
   ]
  },
  {
   "cell_type": "markdown",
   "metadata": {},
   "source": [
    "The configuration file will be removed so that this notebook reruns properly:"
   ]
  },
  {
   "cell_type": "code",
   "execution_count": 25,
   "metadata": {},
   "outputs": [],
   "source": [
    "os.remove('ruff.toml')"
   ]
  }
 ],
 "metadata": {
  "kernelspec": {
   "display_name": "Python 3",
   "language": "python",
   "name": "python3"
  },
  "language_info": {
   "codemirror_mode": {
    "name": "ipython",
    "version": 3
   },
   "file_extension": ".py",
   "mimetype": "text/x-python",
   "name": "python",
   "nbconvert_exporter": "python",
   "pygments_lexer": "ipython3",
   "version": "3.12.0"
  }
 },
 "nbformat": 4,
 "nbformat_minor": 2
}
