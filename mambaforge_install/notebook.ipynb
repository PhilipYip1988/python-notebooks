{
 "cells": [
  {
   "cell_type": "code",
   "execution_count": 6,
   "metadata": {},
   "outputs": [
    {
     "name": "stdout",
     "output_type": "stream",
     "text": [
      "<img src='images_vscode/img_001.png' alt='img_001' width='450'/>\n",
      "<img src='images_vscode/img_002.png' alt='img_002' width='450'/>\n",
      "<img src='images_vscode/img_003.png' alt='img_003' width='450'/>\n",
      "<img src='images_vscode/img_004.png' alt='img_004' width='450'/>\n",
      "<img src='images_vscode/img_005.png' alt='img_005' width='450'/>\n",
      "<img src='images_vscode/img_006.png' alt='img_006' width='450'/>\n",
      "<img src='images_vscode/img_007.png' alt='img_007' width='450'/>\n",
      "<img src='images_vscode/img_008.png' alt='img_008' width='450'/>\n",
      "<img src='images_vscode/img_009.png' alt='img_009' width='450'/>\n",
      "<img src='images_vscode/img_010.png' alt='img_010' width='450'/>\n",
      "<img src='images_vscode/img_011.png' alt='img_011' width='450'/>\n",
      "<img src='images_vscode/img_012.png' alt='img_012' width='450'/>\n",
      "<img src='images_vscode/img_013.png' alt='img_013' width='450'/>\n",
      "<img src='images_vscode/img_014.png' alt='img_014' width='450'/>\n",
      "<img src='images_vscode/img_015.png' alt='img_015' width='450'/>\n",
      "<img src='images_vscode/img_016.png' alt='img_016' width='450'/>\n",
      "<img src='images_vscode/img_017.png' alt='img_017' width='450'/>\n",
      "<img src='images_vscode/img_018.png' alt='img_018' width='450'/>\n",
      "<img src='images_vscode/img_019.png' alt='img_019' width='450'/>\n",
      "<img src='images_vscode/img_020.png' alt='img_020' width='450'/>\n",
      "<img src='images_vscode/img_021.png' alt='img_021' width='450'/>\n",
      "<img src='images_vscode/img_022.png' alt='img_022' width='450'/>\n",
      "<img src='images_vscode/img_023.png' alt='img_023' width='450'/>\n",
      "<img src='images_vscode/img_024.png' alt='img_024' width='450'/>\n",
      "<img src='images_vscode/img_025.png' alt='img_025' width='450'/>\n",
      "<img src='images_vscode/img_026.png' alt='img_026' width='450'/>\n",
      "<img src='images_vscode/img_027.png' alt='img_027' width='450'/>\n",
      "<img src='images_vscode/img_028.png' alt='img_028' width='450'/>\n",
      "<img src='images_vscode/img_029.png' alt='img_029' width='450'/>\n",
      "<img src='images_vscode/img_030.png' alt='img_030' width='450'/>\n",
      "<img src='images_vscode/img_031.png' alt='img_031' width='450'/>\n",
      "<img src='images_vscode/img_032.png' alt='img_032' width='450'/>\n",
      "<img src='images_vscode/img_033.png' alt='img_033' width='450'/>\n",
      "<img src='images_vscode/img_034.png' alt='img_034' width='450'/>\n",
      "<img src='images_vscode/img_035.png' alt='img_035' width='450'/>\n",
      "<img src='images_vscode/img_036.png' alt='img_036' width='450'/>\n",
      "<img src='images_vscode/img_037.png' alt='img_037' width='450'/>\n",
      "<img src='images_vscode/img_038.png' alt='img_038' width='450'/>\n"
     ]
    }
   ],
   "source": [
    "for num in range(1, 39):\n",
    "    #print(f'![](images_mambaforge/img_{num:03d}.png)')\n",
    "    \n",
    "    print(f\"<img src='images_vscode/img_{num:03d}.png' alt='img_{num:03d}' width='450'/>\")"
   ]
  },
  {
   "cell_type": "code",
   "execution_count": null,
   "metadata": {},
   "outputs": [],
   "source": []
  }
 ],
 "metadata": {
  "kernelspec": {
   "display_name": "jupyterlab",
   "language": "python",
   "name": "python3"
  },
  "language_info": {
   "codemirror_mode": {
    "name": "ipython",
    "version": 3
   },
   "file_extension": ".py",
   "mimetype": "text/x-python",
   "name": "python",
   "nbconvert_exporter": "python",
   "pygments_lexer": "ipython3",
   "version": "3.11.4"
  },
  "orig_nbformat": 4,
  "vscode": {
   "interpreter": {
    "hash": "4648373dafda34926c036cc9e466ef2f8d360789320441bb704a9be21d427d2a"
   }
  }
 },
 "nbformat": 4,
 "nbformat_minor": 2
}
