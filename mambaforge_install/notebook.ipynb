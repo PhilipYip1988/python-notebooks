{
 "cells": [
  {
   "cell_type": "code",
   "execution_count": 6,
   "metadata": {},
   "outputs": [
    {
     "name": "stdout",
     "output_type": "stream",
     "text": [
      "<img src='images_thonny/img_001.png' alt='img_001' width='450'/>\n",
      "<img src='images_thonny/img_002.png' alt='img_002' width='450'/>\n",
      "<img src='images_thonny/img_003.png' alt='img_003' width='450'/>\n",
      "<img src='images_thonny/img_004.png' alt='img_004' width='450'/>\n",
      "<img src='images_thonny/img_005.png' alt='img_005' width='450'/>\n",
      "<img src='images_thonny/img_006.png' alt='img_006' width='450'/>\n",
      "<img src='images_thonny/img_007.png' alt='img_007' width='450'/>\n",
      "<img src='images_thonny/img_008.png' alt='img_008' width='450'/>\n",
      "<img src='images_thonny/img_009.png' alt='img_009' width='450'/>\n",
      "<img src='images_thonny/img_010.png' alt='img_010' width='450'/>\n",
      "<img src='images_thonny/img_011.png' alt='img_011' width='450'/>\n",
      "<img src='images_thonny/img_012.png' alt='img_012' width='450'/>\n",
      "<img src='images_thonny/img_013.png' alt='img_013' width='450'/>\n",
      "<img src='images_thonny/img_014.png' alt='img_014' width='450'/>\n",
      "<img src='images_thonny/img_015.png' alt='img_015' width='450'/>\n",
      "<img src='images_thonny/img_016.png' alt='img_016' width='450'/>\n",
      "<img src='images_thonny/img_017.png' alt='img_017' width='450'/>\n",
      "<img src='images_thonny/img_018.png' alt='img_018' width='450'/>\n",
      "<img src='images_thonny/img_019.png' alt='img_019' width='450'/>\n",
      "<img src='images_thonny/img_020.png' alt='img_020' width='450'/>\n",
      "<img src='images_thonny/img_021.png' alt='img_021' width='450'/>\n",
      "<img src='images_thonny/img_022.png' alt='img_022' width='450'/>\n",
      "<img src='images_thonny/img_023.png' alt='img_023' width='450'/>\n",
      "<img src='images_thonny/img_024.png' alt='img_024' width='450'/>\n",
      "<img src='images_thonny/img_025.png' alt='img_025' width='450'/>\n",
      "<img src='images_thonny/img_026.png' alt='img_026' width='450'/>\n",
      "<img src='images_thonny/img_027.png' alt='img_027' width='450'/>\n",
      "<img src='images_thonny/img_028.png' alt='img_028' width='450'/>\n"
     ]
    }
   ],
   "source": [
    "for num in range(1, 29):\n",
    "    #print(f'![](images_ipython/img_{num:03d}.png)')\n",
    "    \n",
    "    print(f\"<img src='images_thonny/img_{num:03d}.png' alt='img_{num:03d}' width='450'/>\")"
   ]
  },
  {
   "cell_type": "markdown",
   "metadata": {},
   "source": [
    "%windir%\\system32\\cmd.exe \"/K\" C:\\Users\\Philip\\mambaforge\\Scripts\\activate.bat C:\\Users\\Philip\\mambaforge"
   ]
  },
  {
   "cell_type": "code",
   "execution_count": null,
   "metadata": {},
   "outputs": [],
   "source": []
  }
 ],
 "metadata": {
  "kernelspec": {
   "display_name": "jupyterlab",
   "language": "python",
   "name": "python3"
  },
  "language_info": {
   "codemirror_mode": {
    "name": "ipython",
    "version": 3
   },
   "file_extension": ".py",
   "mimetype": "text/x-python",
   "name": "python",
   "nbconvert_exporter": "python",
   "pygments_lexer": "ipython3",
   "version": "3.11.4"
  },
  "orig_nbformat": 4,
  "vscode": {
   "interpreter": {
    "hash": "4648373dafda34926c036cc9e466ef2f8d360789320441bb704a9be21d427d2a"
   }
  }
 },
 "nbformat": 4,
 "nbformat_minor": 2
}
