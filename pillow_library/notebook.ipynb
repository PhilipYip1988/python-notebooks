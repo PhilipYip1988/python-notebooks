{
 "cells": [
  {
   "cell_type": "markdown",
   "metadata": {},
   "source": [
    "# The python imaging library"
   ]
  },
  {
   "cell_type": "markdown",
   "metadata": {},
   "source": [
    "The Python Imaging Library is used for image manipulation. It can be imported using:"
   ]
  },
  {
   "cell_type": "code",
   "execution_count": 1,
   "metadata": {},
   "outputs": [],
   "source": [
    "import PIL"
   ]
  },
  {
   "cell_type": "markdown",
   "metadata": {},
   "source": [
    "And details about its version can be seen using:"
   ]
  },
  {
   "cell_type": "code",
   "execution_count": 2,
   "metadata": {},
   "outputs": [
    {
     "data": {
      "text/plain": [
       "'10.0.1'"
      ]
     },
     "execution_count": 2,
     "metadata": {},
     "output_type": "execute_result"
    }
   ],
   "source": [
    "PIL.__version__"
   ]
  },
  {
   "cell_type": "markdown",
   "metadata": {},
   "source": [
    "Typically the ```Image``` module is imported using:"
   ]
  },
  {
   "cell_type": "code",
   "execution_count": 3,
   "metadata": {},
   "outputs": [],
   "source": [
    "from PIL import Image"
   ]
  },
  {
   "cell_type": "markdown",
   "metadata": {},
   "source": [
    "Image data is essentially in the form of an ```NDarray```. A four pixel black and white numpy array can be created using a bool datatype:"
   ]
  },
  {
   "cell_type": "code",
   "execution_count": 4,
   "metadata": {},
   "outputs": [],
   "source": [
    "import numpy as np"
   ]
  },
  {
   "cell_type": "code",
   "execution_count": 5,
   "metadata": {},
   "outputs": [],
   "source": [
    "image_data = np.array([[0, 1],\n",
    "                       [1, 0]], dtype=bool)"
   ]
  },
  {
   "cell_type": "markdown",
   "metadata": {},
   "source": [
    "An instance of the ```Image``` class can be initialised using the function ```fromarray```:"
   ]
  },
  {
   "cell_type": "code",
   "execution_count": 6,
   "metadata": {},
   "outputs": [],
   "source": [
    "image = Image.fromarray(image_data)"
   ]
  },
  {
   "cell_type": "markdown",
   "metadata": {},
   "source": [
    "Note that the ```Image``` class is found in the ```Image``` module:"
   ]
  },
  {
   "cell_type": "code",
   "execution_count": 7,
   "metadata": {},
   "outputs": [
    {
     "data": {
      "text/plain": [
       "PIL.Image.Image"
      ]
     },
     "execution_count": 7,
     "metadata": {},
     "output_type": "execute_result"
    }
   ],
   "source": [
    "type(image)"
   ]
  },
  {
   "cell_type": "markdown",
   "metadata": {},
   "source": [
    "This image can be displayed using the ```pyplot``` function ```imshow```:"
   ]
  },
  {
   "cell_type": "code",
   "execution_count": 8,
   "metadata": {},
   "outputs": [],
   "source": [
    "import matplotlib.pyplot as plt"
   ]
  },
  {
   "cell_type": "code",
   "execution_count": 9,
   "metadata": {},
   "outputs": [
    {
     "data": {
      "image/png": "[encoded data removed]",
      "text/plain": [
       "<Figure size 640x480 with 1 Axes>"
      ]
     },
     "metadata": {},
     "output_type": "display_data"
    }
   ],
   "source": [
    "fig, ax = plt.subplots();\n",
    "ax.imshow(image, cmap='gray', interpolation='none');\n",
    "ax.set_xticks(np.arange(2), [str(i) for i in range(2)]);\n",
    "ax.set_yticks(np.arange(2), [str(i) for i in range(2)]);\n",
    "ax.set_xlabel('column');\n",
    "ax.set_ylabel('row');"
   ]
  },
  {
   "cell_type": "markdown",
   "metadata": {},
   "source": [
    "A grayscale image typically uses an unsigned 8 bit integer datatype with values ranging from ```0:256``` where the minimum value ```0``` is black, the maximum value ```255``` is white and intermediate values are gray. Conceptualise each pixel on a computer screen as a white LED that has a brightness that scales to this 8 bit integer:"
   ]
  },
  {
   "cell_type": "code",
   "execution_count": 11,
   "metadata": {},
   "outputs": [],
   "source": [
    "image_data = np.array([[000,  85],\n",
    "                       [170, 255]], dtype=np.uint8)"
   ]
  },
  {
   "cell_type": "code",
   "execution_count": 12,
   "metadata": {},
   "outputs": [],
   "source": [
    "image = Image.fromarray(image_data)"
   ]
  },
  {
   "cell_type": "code",
   "execution_count": 13,
   "metadata": {},
   "outputs": [
    {
     "data": {
      "image/png": "[encoded data removed]",
      "text/plain": [
       "<Figure size 640x480 with 1 Axes>"
      ]
     },
     "metadata": {},
     "output_type": "display_data"
    }
   ],
   "source": [
    "fig, ax = plt.subplots();\n",
    "ax.imshow(image, cmap='gray', interpolation='none');\n",
    "ax.set_xticks(np.arange(2), [str(i) for i in range(2)]);\n",
    "ax.set_yticks(np.arange(2), [str(i) for i in range(2)]);\n",
    "ax.set_xlabel('column');\n",
    "ax.set_ylabel('row');"
   ]
  },
  {
   "cell_type": "markdown",
   "metadata": {},
   "source": [
    "The human eye has three color receptors that are short wavelength (blue) sensitive, medium wavelength (green) sensitive and long wavelength (red) sensitive. Each pixel in a computer screen is effectively a Red, Green, Blue (RGB) LED and each color channel has an independent 8 bit unsigned integer that controls the perspective LEDs brightness. The color for each pixel is therefore expressed using a 3 element ```tuple``` of the form ```(r, g, b)```:"
   ]
  },
  {
   "cell_type": "code",
   "execution_count": 14,
   "metadata": {},
   "outputs": [],
   "source": [
    "image_data = np.array([[(  0,   0,   0), (255,   0,   0)],\n",
    "                       [(  0, 255,   0), (   0,  0, 255)]], dtype=np.uint8)"
   ]
  },
  {
   "cell_type": "code",
   "execution_count": 15,
   "metadata": {},
   "outputs": [],
   "source": [
    "image = Image.fromarray(image_data)"
   ]
  },
  {
   "cell_type": "code",
   "execution_count": 16,
   "metadata": {},
   "outputs": [
    {
     "data": {
      "image/png": "[encoded data removed]",
      "text/plain": [
       "<Figure size 640x480 with 1 Axes>"
      ]
     },
     "metadata": {},
     "output_type": "display_data"
    }
   ],
   "source": [
    "fig, ax = plt.subplots();\n",
    "ax.imshow(image);\n",
    "ax.set_xticks(np.arange(2), [str(i) for i in range(2)]);\n",
    "ax.set_yticks(np.arange(2), [str(i) for i in range(2)]);\n",
    "ax.set_xlabel('column');\n",
    "ax.set_ylabel('row');"
   ]
  },
  {
   "cell_type": "markdown",
   "metadata": {},
   "source": [
    "The above diagram shows the absense of color (black) and the three primary colors (red, green and blue). Physiologically our eyes measure light ratios at these wavelengths and our brain maps these ratios to a color. The three secondary colors are the result of mixing light of maximum intensity from two color channels cyan (green and blue), magenta (red and blue), yellow (red and green). If all three channels are at maximum intensity white (red, green and blue) is perceived:"
   ]
  },
  {
   "cell_type": "code",
   "execution_count": 47,
   "metadata": {},
   "outputs": [],
   "source": [
    "image_data = np.array([[(  0,   0,   0), (255,   0,   0), (  0, 255,   0), (  0,   0, 255)],\n",
    "                       [(  0, 255, 255), (255,   0, 255), (255, 255,   0), (255, 255, 255)]], dtype=np.uint8)"
   ]
  },
  {
   "cell_type": "code",
   "execution_count": 18,
   "metadata": {},
   "outputs": [],
   "source": [
    "image = Image.fromarray(image_data)"
   ]
  },
  {
   "cell_type": "code",
   "execution_count": 20,
   "metadata": {},
   "outputs": [
    {
     "data": {
      "image/png": "[encoded data removed]",
      "text/plain": [
       "<Figure size 640x480 with 1 Axes>"
      ]
     },
     "metadata": {},
     "output_type": "display_data"
    }
   ],
   "source": [
    "fig, ax = plt.subplots();\n",
    "ax.imshow(image);\n",
    "ax.set_xticks(np.arange(4), [str(i) for i in range(4)]);\n",
    "ax.set_yticks(np.arange(2), [str(i) for i in range(2)]);\n",
    "ax.set_xlabel('column');\n",
    "ax.set_ylabel('row');"
   ]
  },
  {
   "cell_type": "code",
   "execution_count": 50,
   "metadata": {},
   "outputs": [],
   "source": [
    "image_data = np.array([['#000000', '#ff0000', '#00ff00', '#0000ff'],\n",
    "                       ['#00ffff', '#ff00ff', '#ffff00', '#ffff00']])"
   ]
  },
  {
   "cell_type": "code",
   "execution_count": 51,
   "metadata": {},
   "outputs": [],
   "source": [
    "import PIL.ImageColor"
   ]
  },
  {
   "cell_type": "code",
   "execution_count": 52,
   "metadata": {},
   "outputs": [
    {
     "data": {
      "text/plain": [
       "(255, 0, 0)"
      ]
     },
     "execution_count": 52,
     "metadata": {},
     "output_type": "execute_result"
    }
   ],
   "source": [
    " \n",
    "PIL.ImageColor.getcolor('#ff0000', 'RGB')"
   ]
  },
  {
   "cell_type": "code",
   "execution_count": null,
   "metadata": {},
   "outputs": [],
   "source": []
  },
  {
   "cell_type": "code",
   "execution_count": 53,
   "metadata": {},
   "outputs": [
    {
     "data": {
      "text/plain": [
       "(2, 4)"
      ]
     },
     "execution_count": 53,
     "metadata": {},
     "output_type": "execute_result"
    }
   ],
   "source": [
    "image_data.shape"
   ]
  },
  {
   "cell_type": "code",
   "execution_count": 55,
   "metadata": {},
   "outputs": [
    {
     "data": {
      "text/plain": [
       "array(['#000000', '#ff0000', '#00ff00', '#0000ff', '#00ffff', '#ff00ff',\n",
       "       '#ffff00', '#ffff00'], dtype='<U7')"
      ]
     },
     "execution_count": 55,
     "metadata": {},
     "output_type": "execute_result"
    }
   ],
   "source": [
    "image_data.flatten()"
   ]
  },
  {
   "cell_type": "code",
   "execution_count": null,
   "metadata": {},
   "outputs": [],
   "source": [
    "np.vectorize()"
   ]
  },
  {
   "cell_type": "markdown",
   "metadata": {},
   "source": []
  },
  {
   "cell_type": "code",
   "execution_count": 36,
   "metadata": {},
   "outputs": [],
   "source": [
    "def hex_to_rgb(hex_color):\n",
    "    rgb_tuple = PIL.ImageColor.getcolor(hex_color, 'RGB')\n",
    "    return tuple(int(x) for x in rgb_tuple)"
   ]
  },
  {
   "cell_type": "code",
   "execution_count": 37,
   "metadata": {},
   "outputs": [],
   "source": [
    "rgb_tuples = np.vectorize(hex_to_rgb)(image_data)"
   ]
  },
  {
   "cell_type": "code",
   "execution_count": 38,
   "metadata": {},
   "outputs": [
    {
     "data": {
      "text/plain": [
       "(array([[  0, 255,   0,   0],\n",
       "        [  0, 255, 255, 255]]),\n",
       " array([[  0,   0, 255,   0],\n",
       "        [255,   0, 255, 255]]),\n",
       " array([[  0,   0,   0, 255],\n",
       "        [255, 255,   0,   0]]))"
      ]
     },
     "execution_count": 38,
     "metadata": {},
     "output_type": "execute_result"
    }
   ],
   "source": [
    "rgb_tuples"
   ]
  },
  {
   "cell_type": "code",
   "execution_count": 39,
   "metadata": {},
   "outputs": [
    {
     "name": "stdout",
     "output_type": "stream",
     "text": [
      "Hexadecimal colors:\n",
      "[['#000000' '#ff0000' '#00ff00' '#0000ff']\n",
      " ['#00ffff' '#ff00ff' '#ffff00' '#ffff00']]\n",
      "\n",
      "RGB tuples:\n",
      "(array([[  0, 255,   0,   0],\n",
      "       [  0, 255, 255, 255]]), array([[  0,   0, 255,   0],\n",
      "       [255,   0, 255, 255]]), array([[  0,   0,   0, 255],\n",
      "       [255, 255,   0,   0]]))\n"
     ]
    }
   ],
   "source": [
    "\n",
    "import numpy as np\n",
    "from PIL import ImageColor\n",
    "\n",
    "# Define the function to convert a hexadecimal string to an RGB tuple\n",
    "def hex_to_rgb(hex_color):\n",
    "    rgb_tuple = ImageColor.getcolor(hex_color, \"RGB\")\n",
    "    return tuple(int(x) for x in rgb_tuple)\n",
    "\n",
    "# Array of hexadecimal color values (2D)\n",
    "image_data = np.array([['#000000', '#ff0000', '#00ff00', '#0000ff'],\n",
    "                       ['#00ffff', '#ff00ff', '#ffff00', '#ffff00']])\n",
    "\n",
    "# Use np.vectorize to apply the conversion function element-wise to the array\n",
    "rgb_tuples = np.vectorize(hex_to_rgb)(image_data)\n",
    "\n",
    "print(\"Hexadecimal colors:\")\n",
    "print(image_data)\n",
    "print(\"\\nRGB tuples:\")\n",
    "print(rgb_tuples)"
   ]
  },
  {
   "cell_type": "code",
   "execution_count": 40,
   "metadata": {},
   "outputs": [
    {
     "name": "stdout",
     "output_type": "stream",
     "text": [
      "Hexadecimal colors:\n",
      "[['#000000' '#ff0000' '#00ff00' '#0000ff']\n",
      " ['#00ffff' '#ff00ff' '#ffff00' '#ffff00']]\n",
      "\n",
      "RGB tuples:\n",
      "(array([[  0, 255,   0,   0],\n",
      "       [  0, 255, 255, 255]]), array([[  0,   0, 255,   0],\n",
      "       [255,   0, 255, 255]]), array([[  0,   0,   0, 255],\n",
      "       [255, 255,   0,   0]]))\n"
     ]
    }
   ],
   "source": [
    "import numpy as np\n",
    "from PIL import ImageColor\n",
    "\n",
    "# Define the function to convert a hexadecimal string to an RGB tuple\n",
    "def hex_to_rgb(hex_color):\n",
    "    rgb_tuple = ImageColor.getcolor(hex_color, \"RGB\")\n",
    "    return rgb_tuple[:3]  # Extract only the RGB values\n",
    "\n",
    "# Array of hexadecimal color values (2D)\n",
    "image_data = np.array([['#000000', '#ff0000', '#00ff00', '#0000ff'],\n",
    "                       ['#00ffff', '#ff00ff', '#ffff00', '#ffff00']])\n",
    "\n",
    "# Use np.vectorize to apply the conversion function element-wise to the array\n",
    "rgb_tuples = np.vectorize(hex_to_rgb)(image_data)\n",
    "\n",
    "print(\"Hexadecimal colors:\")\n",
    "print(image_data)\n",
    "print(\"\\nRGB tuples:\")\n",
    "print(rgb_tuples)\n"
   ]
  },
  {
   "cell_type": "code",
   "execution_count": null,
   "metadata": {},
   "outputs": [],
   "source": [
    "from PIL import Image\n",
    "import numpy as np\n",
    "import matplotlib.pyplot as plt\n",
    "\n",
    "# Create a new image with RGB color mode and size 2x2 pixels\n",
    "image = Image.new('RGB', (2, 2))\n",
    "\n",
    "# Set individual pixel colors\n",
    "pixel_colors = [(0, 0, 0), (255, 0, 0), (0, 255, 0), (0, 0, 255)]  # k, r, g, b\n",
    "\n",
    "# Assign the colors to the pixels\n",
    "image.putpixel((0, 0), pixel_colors[0])  # Black\n",
    "image.putpixel((1, 0), pixel_colors[1])  # Red\n",
    "image.putpixel((0, 1), pixel_colors[2])  # Green\n",
    "image.putpixel((1, 1), pixel_colors[3])  # Blue\n",
    "\n",
    "# Convert the image to a NumPy array\n",
    "image_np = np.array(image)\n",
    "\n",
    "# Create a figure with a single subplot\n",
    "fig, ax = plt.subplots(1, 1, figsize=(4, 4))\n",
    "\n",
    "# Plot the color image\n",
    "ax.imshow(image_np)\n",
    "ax.set_title('Color Image')\n",
    "ax.set_xticks(range(image_np.shape[1]))\n",
    "ax.set_yticks(range(image_np.shape[0]))\n",
    "ax.set_xticklabels(range(image_np.shape[1]))\n",
    "ax.set_yticklabels(range(image_np.shape[0]))\n",
    "ax.set_xlabel('X (Pixel Column)')\n",
    "ax.set_ylabel('Y (Pixel Row)')\n",
    "\n",
    "plt.tight_layout()\n",
    "plt.show()\n"
   ]
  },
  {
   "cell_type": "markdown",
   "metadata": {},
   "source": []
  },
  {
   "cell_type": "code",
   "execution_count": null,
   "metadata": {},
   "outputs": [],
   "source": [
    "# Create a 2x2 monochrome image\n",
    "image_data = np.array([[0, 1],\n",
    "                       [1, 0]], dtype=np.uint8) * 255  # 0 for black, 1 for white\n",
    "\n",
    "# Create a Pillow image from the data\n",
    "image = Image.fromarray(image_data)\n",
    "\n",
    "# Plot the image using Matplotlib\n",
    "plt.imshow(image, cmap='gray', interpolation='none')\n",
    "\n",
    "# Set row and column labels as integers\n",
    "plt.xticks(np.arange(2), [str(i) for i in range(2)])\n",
    "plt.yticks(np.arange(2), [str(i) for i in range(2)])\n",
    "\n",
    "# Add row and column numbers\n",
    "for i in range(2):\n",
    "    for j in range(2):\n",
    "        plt.text(j, i, f'({i}, {j})', ha='center', va='center', color='red')\n",
    "\n",
    "# Set labels and show the plot\n",
    "plt.xlabel('Column')\n",
    "plt.ylabel('Row')\n",
    "plt.title('2x2 Monochrome Image with Row and Column Numbers')\n",
    "plt.show()\n"
   ]
  },
  {
   "cell_type": "markdown",
   "metadata": {},
   "source": []
  },
  {
   "cell_type": "markdown",
   "metadata": {},
   "source": []
  },
  {
   "cell_type": "code",
   "execution_count": 42,
   "metadata": {},
   "outputs": [
    {
     "data": {
      "text/plain": [
       "(array([[  0, 255,   0,   0],\n",
       "        [  0, 255, 255, 255]], dtype=uint8),\n",
       " array([[  0,   0, 255,   0],\n",
       "        [255,   0, 255, 255]], dtype=uint8),\n",
       " array([[  0,   0,   0, 255],\n",
       "        [255, 255,   0,   0]], dtype=uint8))"
      ]
     },
     "execution_count": 42,
     "metadata": {},
     "output_type": "execute_result"
    }
   ],
   "source": [
    "import numpy as np\n",
    "from PIL import ImageColor\n",
    "\n",
    "# Define the function to convert a hexadecimal string to an RGB tuple\n",
    "def hex_to_rgb(hex_color):\n",
    "    # Convert the hex color to an RGB tuple and convert the tuple elements to uint8\n",
    "    return tuple(np.uint8(np.array(ImageColor.getcolor(hex_color, \"RGB\"))))\n",
    "\n",
    "# Array of hexadecimal color values (2D)\n",
    "image_data = np.array([['#000000', '#ff0000', '#00ff00', '#0000ff'],\n",
    "                       ['#00ffff', '#ff00ff', '#ffff00', '#ffff00']])\n",
    "\n",
    "# Use np.vectorize to apply the conversion function element-wise to the array\n",
    "np.vectorize(hex_to_rgb)(image_data)\n"
   ]
  },
  {
   "cell_type": "markdown",
   "metadata": {},
   "source": []
  },
  {
   "cell_type": "code",
   "execution_count": 46,
   "metadata": {},
   "outputs": [
    {
     "data": {
      "text/plain": [
       "(array([[  0, 255,   0,   0],\n",
       "        [  0, 255, 255, 255]], dtype=uint8),\n",
       " array([[  0,   0, 255,   0],\n",
       "        [255,   0, 255, 255]], dtype=uint8),\n",
       " array([[  0,   0,   0, 255],\n",
       "        [255, 255,   0,   0]], dtype=uint8))"
      ]
     },
     "execution_count": 46,
     "metadata": {},
     "output_type": "execute_result"
    }
   ],
   "source": [
    "import numpy as np\n",
    "from PIL import ImageColor\n",
    "\n",
    "# Define the function to convert a hexadecimal string to an RGB tuple\n",
    "def hex_to_rgb(hex_color):\n",
    "    # Convert the hex color to an RGB tuple and convert the tuple elements to uint8\n",
    "    return tuple(np.uint8(np.array(ImageColor.getcolor(hex_color, \"RGB\"))))\n",
    "\n",
    "# Array of hexadecimal color values (2D)\n",
    "hex_colors = np.array([['#000000', '#ff0000', '#00ff00', '#0000ff'],\n",
    "                       ['#00ffff', '#ff00ff', '#ffff00', '#ffff00']])\n",
    "\n",
    "# Use np.vectorize to apply the conversion function element-wise to the array\n",
    "# Convert the result to np.uint8 for the correct data type\n",
    "np.vectorize(hex_to_rgb, otypes=[np.uint8, np.uint8, np.uint8])(hex_colors)\n",
    "\n",
    "\n"
   ]
  },
  {
   "cell_type": "code",
   "execution_count": null,
   "metadata": {},
   "outputs": [],
   "source": [
    "import numpy as np\n",
    "from PIL import Image\n",
    "import matplotlib.pyplot as plt\n",
    "\n",
    "# Define the 5x5 pattern\n",
    "pattern = np.array([[0, 1, 0, 1, 0],\n",
    "                    [1, 0, 1, 0, 1],\n",
    "                    [0, 1, 0, 1, 0],\n",
    "                    [1, 0, 1, 0, 1],\n",
    "                    [0, 1, 0, 1, 0]], dtype=np.uint8) * 255  # 0 for black, 1 for white\n",
    "\n",
    "# Create a Pillow image from the data\n",
    "image = Image.fromarray(pattern)\n",
    "\n",
    "# Plot the image using Matplotlib\n",
    "plt.imshow(image, cmap='gray', interpolation='none')\n",
    "\n",
    "# Set row and column labels as integers\n",
    "plt.xticks(np.arange(5), [str(i) for i in range(5)])\n",
    "plt.yticks(np.arange(5), [str(i) for i in range(5)])\n",
    "\n",
    "# Add row and column numbers\n",
    "for i in range(5):\n",
    "    for j in range(5):\n",
    "        plt.text(j, i, f'({i}, {j})', ha='center', va='center', color='red')\n",
    "\n",
    "# Set labels and show the plot\n",
    "plt.xlabel('Column')\n",
    "plt.ylabel('Row')\n",
    "plt.title('5x5 Monochrome Image with Row and Column Numbers')\n",
    "plt.show()\n"
   ]
  },
  {
   "cell_type": "markdown",
   "metadata": {},
   "source": []
  },
  {
   "cell_type": "code",
   "execution_count": 49,
   "metadata": {},
   "outputs": [
    {
     "data": {
      "text/plain": [
       "(array([[  0,   0,   0, 255],\n",
       "        [255, 255,   0,   0]], dtype=uint8),\n",
       " array([[  0,   0, 255,   0],\n",
       "        [255,   0, 255, 255]], dtype=uint8),\n",
       " array([[  0, 255,   0,   0],\n",
       "        [  0, 255, 255, 255]], dtype=uint8))"
      ]
     },
     "execution_count": 49,
     "metadata": {},
     "output_type": "execute_result"
    }
   ],
   "source": [
    "import numpy as np\n",
    "from PIL import ImageColor\n",
    "\n",
    "# Define the function to convert a hexadecimal string to an RGB tuple with correct format\n",
    "def hex_to_rgb_corrected(hex_color):\n",
    "    rgb_tuple = ImageColor.getcolor(hex_color, \"RGB\")\n",
    "    return tuple(reversed(rgb_tuple))[:3]  # Correct the format and extract only the RGB values\n",
    "\n",
    "# Array of hexadecimal color values (2D)\n",
    "hex_colors = np.array([['#000000', '#ff0000', '#00ff00', '#0000ff'],\n",
    "                       ['#00ffff', '#ff00ff', '#ffff00', '#ffff00']])\n",
    "\n",
    "# Use np.vectorize to apply the conversion function element-wise to the array\n",
    "np.vectorize(hex_to_rgb_corrected, otypes=[np.uint8, np.uint8, np.uint8])(hex_colors)\n",
    "\n",
    "\n",
    "\n"
   ]
  },
  {
   "cell_type": "code",
   "execution_count": null,
   "metadata": {},
   "outputs": [],
   "source": [
    "def show_character(pattern):\n",
    "    image = Image.fromarray(pattern)\n",
    "\n",
    "    fig, ax = plt.subplots();\n",
    "    ax.imshow(image, cmap='gray', interpolation='none');\n",
    "\n",
    "    ax.set_xticks(np.arange(5), [str(i) for i in range(5)]);\n",
    "    ax.set_yticks(np.arange(5), [str(i) for i in range(5)]);\n",
    "\n",
    "    for i in range(5):\n",
    "        for j in range(5):\n",
    "            ax.text(j, i, f'({i}, {j})', ha='center', va='center', color='red');\n",
    "\n",
    "    # Set labels and show the plot\n",
    "    ax.set_xlabel('Column');\n",
    "    ax.set_ylabel('Row');\n",
    "    ax.set_title('5x5 Monochrome Image with Row and Column Numbers');\n"
   ]
  },
  {
   "cell_type": "code",
   "execution_count": null,
   "metadata": {},
   "outputs": [],
   "source": [
    "from charmat import character_matrix, character_matrix_inverted"
   ]
  },
  {
   "cell_type": "code",
   "execution_count": null,
   "metadata": {},
   "outputs": [],
   "source": [
    "show_character(character_matrix['A'])"
   ]
  },
  {
   "cell_type": "code",
   "execution_count": null,
   "metadata": {},
   "outputs": [],
   "source": [
    "show_character(character_matrix_inverted['A'])"
   ]
  },
  {
   "cell_type": "code",
   "execution_count": null,
   "metadata": {},
   "outputs": [],
   "source": [
    "show_character(character_matrix_inverted['B'])"
   ]
  },
  {
   "cell_type": "code",
   "execution_count": null,
   "metadata": {},
   "outputs": [],
   "source": [
    "show_character(character_matrix_inverted['C'])"
   ]
  },
  {
   "cell_type": "markdown",
   "metadata": {},
   "source": []
  },
  {
   "cell_type": "markdown",
   "metadata": {},
   "source": []
  },
  {
   "cell_type": "code",
   "execution_count": null,
   "metadata": {},
   "outputs": [],
   "source": [
    "def show_text(line='HELLO WORLD!'):\n",
    "    from charmat import character_matrix_inverted\n",
    "    fig, ax = plt.subplots(nrows=1, ncols=16);\n",
    "\n",
    "    if len(line) == 16:\n",
    "        pass\n",
    "    elif len(line) < 16:\n",
    "        line = line.ljust(16)\n",
    "    else:\n",
    "        line = line[:16]\n",
    "\n",
    "    for idx, letter in enumerate(line):\n",
    "        pattern = character_matrix_inverted[letter]\n",
    "        image = Image.fromarray(pattern)\n",
    "        ax[idx].imshow(image, cmap='gray', interpolation='none');\n",
    "        ax[idx].axis('off');\n",
    "    "
   ]
  },
  {
   "cell_type": "code",
   "execution_count": null,
   "metadata": {},
   "outputs": [],
   "source": []
  },
  {
   "cell_type": "code",
   "execution_count": null,
   "metadata": {},
   "outputs": [],
   "source": [
    "show_text()"
   ]
  },
  {
   "cell_type": "code",
   "execution_count": null,
   "metadata": {},
   "outputs": [],
   "source": [
    "show_text('BYE WORLD!')"
   ]
  },
  {
   "cell_type": "code",
   "execution_count": null,
   "metadata": {},
   "outputs": [],
   "source": [
    "from PIL import Image\n",
    "import numpy as np\n",
    "import matplotlib.pyplot as plt\n",
    "\n",
    "# Create a new image with RGB color mode and size 2x2 pixels\n",
    "image = Image.new('RGB', (2, 2))\n",
    "\n",
    "# Set individual pixel colors\n",
    "pixel_colors = [(0, 0, 0), (255, 0, 0), (0, 255, 0), (0, 0, 255)]  # k, r, g, b\n",
    "\n",
    "# Assign the colors to the pixels\n",
    "image.putpixel((0, 0), pixel_colors[0])  # Black\n",
    "image.putpixel((1, 0), pixel_colors[1])  # Red\n",
    "image.putpixel((0, 1), pixel_colors[2])  # Green\n",
    "image.putpixel((1, 1), pixel_colors[3])  # Blue\n",
    "\n",
    "# Convert the image to a NumPy array\n",
    "image_np = np.array(image)\n",
    "\n",
    "# Create a figure with a single subplot\n",
    "fig, ax = plt.subplots(1, 1, figsize=(4, 4))\n",
    "\n",
    "# Plot the color image\n",
    "ax.imshow(image_np)\n",
    "ax.set_title('Color Image')\n",
    "ax.set_xticks(range(image_np.shape[1]))\n",
    "ax.set_yticks(range(image_np.shape[0]))\n",
    "ax.set_xticklabels(range(image_np.shape[1]))\n",
    "ax.set_yticklabels(range(image_np.shape[0]))\n",
    "ax.set_xlabel('X (Pixel Column)')\n",
    "ax.set_ylabel('Y (Pixel Row)')\n",
    "\n",
    "plt.tight_layout()\n",
    "plt.show()\n"
   ]
  },
  {
   "cell_type": "markdown",
   "metadata": {},
   "source": []
  },
  {
   "cell_type": "markdown",
   "metadata": {},
   "source": []
  },
  {
   "cell_type": "markdown",
   "metadata": {},
   "source": []
  },
  {
   "cell_type": "code",
   "execution_count": null,
   "metadata": {},
   "outputs": [],
   "source": [
    "from PIL import Image\n",
    "import numpy as np\n",
    "import matplotlib.pyplot as plt\n",
    "\n",
    "# Create a new image with RGB color mode and size 2x4 pixels\n",
    "image = Image.new('RGB', (4, 2))\n",
    "\n",
    "# Set individual pixel colors in the new order k, r, g, b, c, y, m, w\n",
    "pixel_colors = [(0, 0, 0), (255, 0, 0), (0, 255, 0), (0, 0, 255),\n",
    "                (0, 255, 255), (255, 255, 0), (255, 0, 255),\n",
    "                (255, 255, 255)]  # k, r, g, b, c, y, m, w\n",
    "\n",
    "for i in range(2):\n",
    "    for j in range(4):\n",
    "        image.putpixel((j, i), pixel_colors[i*4 + j])\n",
    "\n",
    "# Convert the image to a NumPy array\n",
    "image_np = np.array(image)\n",
    "\n",
    "# Split the image into color channels\n",
    "red_channel = image_np[:,:,0]\n",
    "green_channel = image_np[:,:,1]\n",
    "blue_channel = image_np[:,:,2]\n",
    "\n",
    "# Create a figure with 2x2 subplots\n",
    "fig, axs = plt.subplots(2, 2, figsize=(8, 8))\n",
    "\n",
    "# Plot each color channel\n",
    "axs[0, 0].imshow(red_channel, cmap='Reds')\n",
    "axs[0, 0].set_title('Red Channel')\n",
    "axs[0, 0].set_xticks(range(red_channel.shape[1]))\n",
    "axs[0, 0].set_yticks(range(red_channel.shape[0]))\n",
    "axs[0, 0].set_xticklabels(range(red_channel.shape[1]))\n",
    "axs[0, 0].set_yticklabels(range(red_channel.shape[0]))\n",
    "axs[0, 0].set_xlabel('X (Pixel Column)')\n",
    "axs[0, 0].set_ylabel('Y (Pixel Row)')\n",
    "\n",
    "axs[0, 1].imshow(green_channel, cmap='Greens')\n",
    "axs[0, 1].set_title('Green Channel')\n",
    "axs[0, 1].set_xticks(range(green_channel.shape[1]))\n",
    "axs[0, 1].set_yticks(range(green_channel.shape[0]))\n",
    "axs[0, 1].set_xticklabels(range(green_channel.shape[1]))\n",
    "axs[0, 1].set_yticklabels(range(green_channel.shape[0]))\n",
    "axs[0, 1].set_xlabel('X (Pixel Column)')\n",
    "axs[0, 1].set_ylabel('Y (Pixel Row)')\n",
    "\n",
    "axs[1, 0].imshow(blue_channel, cmap='Blues')\n",
    "axs[1, 0].set_title('Blue Channel')\n",
    "axs[1, 0].set_xticks(range(blue_channel.shape[1]))\n",
    "axs[1, 0].set_yticks(range(blue_channel.shape[0]))\n",
    "axs[1, 0].set_xticklabels(range(blue_channel.shape[1]))\n",
    "axs[1, 0].set_yticklabels(range(blue_channel.shape[0]))\n",
    "axs[1, 0].set_xlabel('X (Pixel Column)')\n",
    "axs[1, 0].set_ylabel('Y (Pixel Row)')\n",
    "\n",
    "# Plot the color image\n",
    "axs[1, 1].imshow(image_np)\n",
    "axs[1, 1].set_title('Color Image')\n",
    "axs[1, 1].set_xticks(range(image_np.shape[1]))\n",
    "axs[1, 1].set_yticks(range(image_np.shape[0]))\n",
    "axs[1, 1].set_xticklabels(range(image_np.shape[1]))\n",
    "axs[1, 1].set_yticklabels(range(image_np.shape[0]))\n",
    "axs[1, 1].set_xlabel('X (Pixel Column)')\n",
    "axs[1, 1].set_ylabel('Y (Pixel Row)')\n",
    "\n",
    "plt.tight_layout()\n",
    "plt.show()"
   ]
  },
  {
   "cell_type": "markdown",
   "metadata": {},
   "source": []
  }
 ],
 "metadata": {
  "kernelspec": {
   "display_name": "Python 3",
   "language": "python",
   "name": "python3"
  },
  "language_info": {
   "codemirror_mode": {
    "name": "ipython",
    "version": 3
   },
   "file_extension": ".py",
   "mimetype": "text/x-python",
   "name": "python",
   "nbconvert_exporter": "python",
   "pygments_lexer": "ipython3",
   "version": "3.11.5"
  }
 },
 "nbformat": 4,
 "nbformat_minor": 2
}
