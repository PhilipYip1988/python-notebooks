{
 "cells": [
  {
   "cell_type": "markdown",
   "metadata": {},
   "source": [
    "# The python imaging library"
   ]
  },
  {
   "cell_type": "markdown",
   "metadata": {},
   "source": [
    "The Python Imaging Library is used for image manipulation. It can be imported using:"
   ]
  },
  {
   "cell_type": "code",
   "execution_count": 1,
   "metadata": {},
   "outputs": [],
   "source": [
    "import PIL"
   ]
  },
  {
   "cell_type": "markdown",
   "metadata": {},
   "source": [
    "And details about its version can be seen using:"
   ]
  },
  {
   "cell_type": "code",
   "execution_count": 2,
   "metadata": {},
   "outputs": [
    {
     "data": {
      "text/plain": [
       "'10.0.0'"
      ]
     },
     "execution_count": 2,
     "metadata": {},
     "output_type": "execute_result"
    }
   ],
   "source": [
    "PIL.__version__"
   ]
  },
  {
   "cell_type": "markdown",
   "metadata": {},
   "source": [
    "## Image Module"
   ]
  },
  {
   "cell_type": "markdown",
   "metadata": {},
   "source": [
    "The core ```Image``` module is designed for fast access to data stored in a few basic pixel formats and is imported using:"
   ]
  },
  {
   "cell_type": "code",
   "execution_count": 3,
   "metadata": {},
   "outputs": [],
   "source": [
    "from PIL import Image"
   ]
  },
  {
   "cell_type": "markdown",
   "metadata": {},
   "source": [
    "Image data is essentially in the form of an ```NDarray```. A four pixel black and white numpy array can be created using a bool datatype:"
   ]
  },
  {
   "cell_type": "code",
   "execution_count": 28,
   "metadata": {},
   "outputs": [],
   "source": [
    "import numpy as np"
   ]
  },
  {
   "cell_type": "code",
   "execution_count": 29,
   "metadata": {},
   "outputs": [],
   "source": [
    "image_data = np.array([[0, 1],\n",
    "                       [1, 0]], dtype=bool)"
   ]
  },
  {
   "cell_type": "markdown",
   "metadata": {},
   "source": [
    "An instance of the ```Image``` class can be initialised using the function ```fromarray```:"
   ]
  },
  {
   "cell_type": "code",
   "execution_count": 30,
   "metadata": {},
   "outputs": [],
   "source": [
    "image = Image.fromarray(image_data)"
   ]
  },
  {
   "cell_type": "markdown",
   "metadata": {},
   "source": [
    "Note that the ```Image``` class is found in the ```Image``` module:"
   ]
  },
  {
   "cell_type": "code",
   "execution_count": 31,
   "metadata": {},
   "outputs": [
    {
     "data": {
      "text/plain": [
       "PIL.Image.Image"
      ]
     },
     "execution_count": 31,
     "metadata": {},
     "output_type": "execute_result"
    }
   ],
   "source": [
    "type(image)"
   ]
  },
  {
   "cell_type": "markdown",
   "metadata": {},
   "source": [
    "This ```Image``` instance has the attributes ```width``` and ```height``` which correspond to the number of columns and number of rows respectively:"
   ]
  },
  {
   "cell_type": "code",
   "execution_count": 32,
   "metadata": {},
   "outputs": [
    {
     "data": {
      "text/plain": [
       "2"
      ]
     },
     "execution_count": 32,
     "metadata": {},
     "output_type": "execute_result"
    }
   ],
   "source": [
    "ncols = image.width\n",
    "ncols"
   ]
  },
  {
   "cell_type": "code",
   "execution_count": 33,
   "metadata": {},
   "outputs": [
    {
     "data": {
      "text/plain": [
       "2"
      ]
     },
     "execution_count": 33,
     "metadata": {},
     "output_type": "execute_result"
    }
   ],
   "source": [
    "nrows = image.height\n",
    "nrows"
   ]
  },
  {
   "cell_type": "markdown",
   "metadata": {},
   "source": [
    "The tuple size which is effectively ```(ncols, nrows)```:"
   ]
  },
  {
   "cell_type": "code",
   "execution_count": 34,
   "metadata": {},
   "outputs": [
    {
     "data": {
      "text/plain": [
       "(2, 2)"
      ]
     },
     "execution_count": 34,
     "metadata": {},
     "output_type": "execute_result"
    }
   ],
   "source": [
    "image.size"
   ]
  },
  {
   "cell_type": "markdown",
   "metadata": {},
   "source": [
    "The ```mode``` which is ```'1'``` meaning binary:"
   ]
  },
  {
   "cell_type": "code",
   "execution_count": 35,
   "metadata": {},
   "outputs": [
    {
     "data": {
      "text/plain": [
       "'1'"
      ]
     },
     "execution_count": 35,
     "metadata": {},
     "output_type": "execute_result"
    }
   ],
   "source": [
    "mode = image.mode\n",
    "mode"
   ]
  },
  {
   "cell_type": "markdown",
   "metadata": {},
   "source": [
    "And the image format, in this case which is ```None```:"
   ]
  },
  {
   "cell_type": "code",
   "execution_count": 15,
   "metadata": {},
   "outputs": [],
   "source": [
    "fmt = image.format\n",
    "fmt"
   ]
  },
  {
   "cell_type": "markdown",
   "metadata": {},
   "source": [
    "The image can be shown using the ```show``` method, this will open up the image in the Oeprating Systems default image viewer hanging the OIPython Kernel until the default image viewer is closed. Note that most image viewers aren't cofigured to view an image with so few pixels:"
   ]
  },
  {
   "cell_type": "raw",
   "metadata": {},
   "source": [
    "image.show()"
   ]
  },
  {
   "cell_type": "code",
   "execution_count": null,
   "metadata": {},
   "outputs": [],
   "source": []
  },
  {
   "cell_type": "markdown",
   "metadata": {},
   "source": [
    "The image can be saved using the ```save``` method:"
   ]
  },
  {
   "cell_type": "code",
   "execution_count": 36,
   "metadata": {},
   "outputs": [],
   "source": [
    "image.save('binary.png')"
   ]
  },
  {
   "cell_type": "code",
   "execution_count": 37,
   "metadata": {},
   "outputs": [],
   "source": [
    "image.save('binary.jpg')"
   ]
  },
  {
   "cell_type": "markdown",
   "metadata": {},
   "source": [
    "Such an image can be opened in an image manipulation program like paint, which needs to be zoomed into maximum to view this image with so few pixels:"
   ]
  },
  {
   "cell_type": "markdown",
   "metadata": {},
   "source": [
    "<img src='images/img_001.png' alt='img_001' width='450'/>"
   ]
  },
  {
   "cell_type": "markdown",
   "metadata": {},
   "source": [
    "The image can be displayed using the ```pyplot``` function ```imshow```:"
   ]
  },
  {
   "cell_type": "code",
   "execution_count": 39,
   "metadata": {},
   "outputs": [],
   "source": [
    "import matplotlib.pyplot as plt"
   ]
  },
  {
   "cell_type": "code",
   "execution_count": 40,
   "metadata": {},
   "outputs": [
    {
     "data": {
      "image/png": "[encoded data removed]",
      "text/plain": [
       "<Figure size 640x480 with 1 Axes>"
      ]
     },
     "metadata": {},
     "output_type": "display_data"
    }
   ],
   "source": [
    "fig, ax = plt.subplots();\n",
    "ax.imshow(image, cmap='gray', interpolation='none');\n",
    "ax.set_xticks(np.arange(2), [str(i) for i in range(2)]);\n",
    "ax.set_yticks(np.arange(2), [str(i) for i in range(2)]);\n",
    "ax.set_xlabel('column');\n",
    "ax.set_ylabel('row');"
   ]
  },
  {
   "cell_type": "markdown",
   "metadata": {},
   "source": [
    "A grayscale image typically uses an unsigned 8 bit integer datatype with values ranging from ```0:256``` where the minimum value ```0``` is black, the maximum value ```255``` is white and intermediate values are gray. Conceptualise each pixel on a computer screen as a white LED that has a brightness that scales to this 8 bit integer:"
   ]
  },
  {
   "cell_type": "code",
   "execution_count": 42,
   "metadata": {},
   "outputs": [],
   "source": [
    "image_data = np.array([[  0,  85],\n",
    "                       [170, 255]], dtype=np.uint8)"
   ]
  },
  {
   "cell_type": "code",
   "execution_count": 43,
   "metadata": {},
   "outputs": [],
   "source": [
    "image = Image.fromarray(image_data)"
   ]
  },
  {
   "cell_type": "code",
   "execution_count": 44,
   "metadata": {},
   "outputs": [
    {
     "data": {
      "image/png": "[encoded data removed]",
      "text/plain": [
       "<Figure size 640x480 with 1 Axes>"
      ]
     },
     "metadata": {},
     "output_type": "display_data"
    }
   ],
   "source": [
    "fig, ax = plt.subplots();\n",
    "ax.imshow(image, cmap='gray', interpolation='none');\n",
    "ax.set_xticks(np.arange(2), [str(i) for i in range(2)]);\n",
    "ax.set_yticks(np.arange(2), [str(i) for i in range(2)]);\n",
    "ax.set_xlabel('column');\n",
    "ax.set_ylabel('row');"
   ]
  },
  {
   "cell_type": "markdown",
   "metadata": {},
   "source": [
    "The image attributes can be examined:"
   ]
  },
  {
   "cell_type": "code",
   "execution_count": 45,
   "metadata": {},
   "outputs": [
    {
     "data": {
      "text/plain": [
       "2"
      ]
     },
     "execution_count": 45,
     "metadata": {},
     "output_type": "execute_result"
    }
   ],
   "source": [
    "ncols = image.width\n",
    "ncols"
   ]
  },
  {
   "cell_type": "code",
   "execution_count": 46,
   "metadata": {},
   "outputs": [
    {
     "data": {
      "text/plain": [
       "2"
      ]
     },
     "execution_count": 46,
     "metadata": {},
     "output_type": "execute_result"
    }
   ],
   "source": [
    "nrows = image.height\n",
    "nrows"
   ]
  },
  {
   "cell_type": "code",
   "execution_count": 47,
   "metadata": {},
   "outputs": [
    {
     "data": {
      "text/plain": [
       "(2, 2)"
      ]
     },
     "execution_count": 47,
     "metadata": {},
     "output_type": "execute_result"
    }
   ],
   "source": [
    "image.size"
   ]
  },
  {
   "cell_type": "code",
   "execution_count": 48,
   "metadata": {},
   "outputs": [
    {
     "data": {
      "text/plain": [
       "'L'"
      ]
     },
     "execution_count": 48,
     "metadata": {},
     "output_type": "execute_result"
    }
   ],
   "source": [
    "image.mode"
   ]
  },
  {
   "cell_type": "code",
   "execution_count": 49,
   "metadata": {},
   "outputs": [],
   "source": [
    "image.format"
   ]
  },
  {
   "cell_type": "markdown",
   "metadata": {},
   "source": [
    "The main difference from the above is the mode which is ```'L'``` which is an abbreviation for the Luma transform which essentially means grayscale. This will be examined in more detail later after a color image has been examined."
   ]
  },
  {
   "cell_type": "markdown",
   "metadata": {},
   "source": [
    "The human eye has three color receptors that are short wavelength (blue) sensitive, medium wavelength (green) sensitive and long wavelength (red) sensitive. Each pixel in a computer screen is effectively a Red, Green, Blue (RGB) LED and each color channel has an independent 8 bit unsigned integer that controls the perspective LEDs brightness. The color for each pixel is therefore expressed using a 3 element ```tuple``` of the form ```(r, g, b)```:"
   ]
  },
  {
   "cell_type": "code",
   "execution_count": 51,
   "metadata": {},
   "outputs": [],
   "source": [
    "image_data = np.array([[(  0,   0,   0), (255,   0,   0)],\n",
    "                       [(  0, 255,   0), (   0,  0, 255)]], dtype=np.uint8)"
   ]
  },
  {
   "cell_type": "code",
   "execution_count": 52,
   "metadata": {},
   "outputs": [
    {
     "data": {
      "text/plain": [
       "array([[[  0,   0,   0],\n",
       "        [255,   0,   0]],\n",
       "\n",
       "       [[  0, 255,   0],\n",
       "        [  0,   0, 255]]], dtype=uint8)"
      ]
     },
     "execution_count": 52,
     "metadata": {},
     "output_type": "execute_result"
    }
   ],
   "source": [
    "image_data"
   ]
  },
  {
   "cell_type": "code",
   "execution_count": 53,
   "metadata": {},
   "outputs": [],
   "source": [
    "image = Image.fromarray(image_data)"
   ]
  },
  {
   "cell_type": "code",
   "execution_count": 54,
   "metadata": {},
   "outputs": [
    {
     "data": {
      "image/png": "[encoded data removed]",
      "text/plain": [
       "<Figure size 640x480 with 1 Axes>"
      ]
     },
     "metadata": {},
     "output_type": "display_data"
    }
   ],
   "source": [
    "fig, ax = plt.subplots();\n",
    "ax.imshow(image);\n",
    "ax.set_xticks(np.arange(2), [str(i) for i in range(2)]);\n",
    "ax.set_yticks(np.arange(2), [str(i) for i in range(2)]);\n",
    "ax.set_xlabel('column');\n",
    "ax.set_ylabel('row');"
   ]
  },
  {
   "cell_type": "markdown",
   "metadata": {},
   "source": [
    "The image attributes can be examined:"
   ]
  },
  {
   "cell_type": "code",
   "execution_count": 55,
   "metadata": {},
   "outputs": [
    {
     "data": {
      "text/plain": [
       "2"
      ]
     },
     "execution_count": 55,
     "metadata": {},
     "output_type": "execute_result"
    }
   ],
   "source": [
    "ncols = image.width\n",
    "ncols"
   ]
  },
  {
   "cell_type": "code",
   "execution_count": 56,
   "metadata": {},
   "outputs": [
    {
     "data": {
      "text/plain": [
       "2"
      ]
     },
     "execution_count": 56,
     "metadata": {},
     "output_type": "execute_result"
    }
   ],
   "source": [
    "nrows = image.height\n",
    "nrows"
   ]
  },
  {
   "cell_type": "code",
   "execution_count": 57,
   "metadata": {},
   "outputs": [
    {
     "data": {
      "text/plain": [
       "(2, 2)"
      ]
     },
     "execution_count": 57,
     "metadata": {},
     "output_type": "execute_result"
    }
   ],
   "source": [
    "image.size"
   ]
  },
  {
   "cell_type": "code",
   "execution_count": 58,
   "metadata": {},
   "outputs": [
    {
     "data": {
      "text/plain": [
       "'RGB'"
      ]
     },
     "execution_count": 58,
     "metadata": {},
     "output_type": "execute_result"
    }
   ],
   "source": [
    "image.mode"
   ]
  },
  {
   "cell_type": "code",
   "execution_count": 59,
   "metadata": {},
   "outputs": [],
   "source": [
    "image.format"
   ]
  },
  {
   "cell_type": "markdown",
   "metadata": {},
   "source": [
    "The main difference from the above is the mode which is ```'RGB'``` which is an abbreviation for Red, Blue and Green."
   ]
  },
  {
   "cell_type": "markdown",
   "metadata": {},
   "source": [
    "The above diagram shows the absense of color (black) and the three primary colors (red, green and blue). Physiologically our eyes measure light ratios at these wavelengths and our brain maps these ratios to a color. The three secondary colors are the result of mixing light of maximum intensity from two color channels cyan (green and blue), magenta (red and blue), yellow (red and green). If all three channels are at maximum intensity white (red, green and blue) is perceived:"
   ]
  },
  {
   "cell_type": "code",
   "execution_count": 60,
   "metadata": {},
   "outputs": [],
   "source": [
    "image_data = np.array([[(  0,   0,   0), (255,   0,   0), (  0, 255,   0), (  0,   0, 255)],\n",
    "                       [(  0, 255, 255), (255,   0, 255), (255, 255,   0), (255, 255, 255)]], dtype=np.uint8)"
   ]
  },
  {
   "cell_type": "code",
   "execution_count": 61,
   "metadata": {},
   "outputs": [
    {
     "data": {
      "text/plain": [
       "array([[[  0,   0,   0],\n",
       "        [255,   0,   0],\n",
       "        [  0, 255,   0],\n",
       "        [  0,   0, 255]],\n",
       "\n",
       "       [[  0, 255, 255],\n",
       "        [255,   0, 255],\n",
       "        [255, 255,   0],\n",
       "        [255, 255, 255]]], dtype=uint8)"
      ]
     },
     "execution_count": 61,
     "metadata": {},
     "output_type": "execute_result"
    }
   ],
   "source": [
    "image_data"
   ]
  },
  {
   "cell_type": "code",
   "execution_count": 62,
   "metadata": {},
   "outputs": [],
   "source": [
    "image = Image.fromarray(image_data)"
   ]
  },
  {
   "cell_type": "code",
   "execution_count": 63,
   "metadata": {},
   "outputs": [
    {
     "data": {
      "image/png": "[encoded data removed]",
      "text/plain": [
       "<Figure size 640x480 with 1 Axes>"
      ]
     },
     "metadata": {},
     "output_type": "display_data"
    }
   ],
   "source": [
    "fig, ax = plt.subplots();\n",
    "ax.imshow(image);\n",
    "ax.set_xticks(np.arange(4), [str(i) for i in range(4)]);\n",
    "ax.set_yticks(np.arange(2), [str(i) for i in range(2)]);\n",
    "ax.set_xlabel('column');\n",
    "ax.set_ylabel('row');"
   ]
  },
  {
   "cell_type": "markdown",
   "metadata": {},
   "source": [
    "The image attributes can be examined:"
   ]
  },
  {
   "cell_type": "code",
   "execution_count": 64,
   "metadata": {},
   "outputs": [
    {
     "data": {
      "text/plain": [
       "4"
      ]
     },
     "execution_count": 64,
     "metadata": {},
     "output_type": "execute_result"
    }
   ],
   "source": [
    "ncols = image.width\n",
    "ncols"
   ]
  },
  {
   "cell_type": "code",
   "execution_count": 66,
   "metadata": {},
   "outputs": [
    {
     "data": {
      "text/plain": [
       "2"
      ]
     },
     "execution_count": 66,
     "metadata": {},
     "output_type": "execute_result"
    }
   ],
   "source": [
    "nrows = image.height\n",
    "nrows"
   ]
  },
  {
   "cell_type": "code",
   "execution_count": 67,
   "metadata": {},
   "outputs": [
    {
     "data": {
      "text/plain": [
       "(4, 2)"
      ]
     },
     "execution_count": 67,
     "metadata": {},
     "output_type": "execute_result"
    }
   ],
   "source": [
    "image.size"
   ]
  },
  {
   "cell_type": "code",
   "execution_count": 68,
   "metadata": {},
   "outputs": [
    {
     "data": {
      "text/plain": [
       "'RGB'"
      ]
     },
     "execution_count": 68,
     "metadata": {},
     "output_type": "execute_result"
    }
   ],
   "source": [
    "image.mode"
   ]
  },
  {
   "cell_type": "code",
   "execution_count": 69,
   "metadata": {},
   "outputs": [],
   "source": [
    "image.format"
   ]
  },
  {
   "cell_type": "markdown",
   "metadata": {},
   "source": [
    "If we return to the array ```image_data```:"
   ]
  },
  {
   "cell_type": "code",
   "execution_count": 70,
   "metadata": {},
   "outputs": [
    {
     "data": {
      "text/plain": [
       "array([[[  0,   0,   0],\n",
       "        [255,   0,   0],\n",
       "        [  0, 255,   0],\n",
       "        [  0,   0, 255]],\n",
       "\n",
       "       [[  0, 255, 255],\n",
       "        [255,   0, 255],\n",
       "        [255, 255,   0],\n",
       "        [255, 255, 255]]], dtype=uint8)"
      ]
     },
     "execution_count": 70,
     "metadata": {},
     "output_type": "execute_result"
    }
   ],
   "source": [
    "image_data"
   ]
  },
  {
   "cell_type": "markdown",
   "metadata": {},
   "source": [
    "Each color channel can be seperated by slicing:"
   ]
  },
  {
   "cell_type": "code",
   "execution_count": 72,
   "metadata": {},
   "outputs": [
    {
     "data": {
      "text/plain": [
       "array([[  0, 255,   0,   0],\n",
       "       [  0, 255, 255, 255]], dtype=uint8)"
      ]
     },
     "execution_count": 72,
     "metadata": {},
     "output_type": "execute_result"
    }
   ],
   "source": [
    "reds = image_data[:, :, 0]\n",
    "reds"
   ]
  },
  {
   "cell_type": "code",
   "execution_count": 74,
   "metadata": {},
   "outputs": [
    {
     "data": {
      "text/plain": [
       "array([[  0,   0, 255,   0],\n",
       "       [255,   0, 255, 255]], dtype=uint8)"
      ]
     },
     "execution_count": 74,
     "metadata": {},
     "output_type": "execute_result"
    }
   ],
   "source": [
    "greens = image_data[:, :, 1]\n",
    "greens"
   ]
  },
  {
   "cell_type": "code",
   "execution_count": 76,
   "metadata": {},
   "outputs": [
    {
     "data": {
      "text/plain": [
       "array([[  0,   0,   0, 255],\n",
       "       [255, 255,   0, 255]], dtype=uint8)"
      ]
     },
     "execution_count": 76,
     "metadata": {},
     "output_type": "execute_result"
    }
   ],
   "source": [
    "blues = image_data[:, :, 2]\n",
    "blues"
   ]
  },
  {
   "cell_type": "markdown",
   "metadata": {},
   "source": [
    "A black and white image could be taken by summing a third of each channel i.e."
   ]
  },
  {
   "cell_type": "markdown",
   "metadata": {},
   "source": [
    "$$\\frac{\\text{reds}}{3} + \\frac{\\text{greens}}{3} + \\frac{\\text{blues}}{3}$$"
   ]
  },
  {
   "cell_type": "markdown",
   "metadata": {},
   "source": [
    "However the Luma transform uses slightly different proportions to mimic our eyes has a slightly different sensitivity to each color channel:"
   ]
  },
  {
   "cell_type": "markdown",
   "metadata": {},
   "source": [
    "$$\\text{reds}\\cdot\\frac{299}{1000} + \\text{greens}\\cdot\\frac{587}{1000} + \\text{blues}\\cdot\\frac{114}{1000}$$"
   ]
  },
  {
   "cell_type": "code",
   "execution_count": 91,
   "metadata": {},
   "outputs": [],
   "source": [
    "luma_grayscale = np.array(reds * (299 / 1000) + greens * (587 / 1000) + blues * (114 / 1000), dtype='uint8')"
   ]
  },
  {
   "cell_type": "code",
   "execution_count": 90,
   "metadata": {},
   "outputs": [
    {
     "data": {
      "text/plain": [
       "array([[  0,  76, 149,  29],\n",
       "       [178, 105, 225, 255]], dtype=uint8)"
      ]
     },
     "execution_count": 90,
     "metadata": {},
     "output_type": "execute_result"
    }
   ],
   "source": [
    "luma_grayscale"
   ]
  },
  {
   "cell_type": "code",
   "execution_count": 92,
   "metadata": {},
   "outputs": [],
   "source": [
    "image = Image.fromarray(luma_grayscale)"
   ]
  },
  {
   "cell_type": "code",
   "execution_count": 94,
   "metadata": {},
   "outputs": [
    {
     "data": {
      "image/png": "[encoded data removed]",
      "text/plain": [
       "<Figure size 640x480 with 1 Axes>"
      ]
     },
     "metadata": {},
     "output_type": "display_data"
    }
   ],
   "source": [
    "fig, ax = plt.subplots();\n",
    "ax.imshow(image, cmap='gray');\n",
    "ax.set_xticks(np.arange(4), [str(i) for i in range(4)]);\n",
    "ax.set_yticks(np.arange(2), [str(i) for i in range(2)]);\n",
    "ax.set_xlabel('column');\n",
    "ax.set_ylabel('row');"
   ]
  },
  {
   "cell_type": "markdown",
   "metadata": {},
   "source": [
    "Coloured images can be ```'RGB'``` or ```'RGBA'```, the fourth channel is the alpha channel which is the transparency of the color:"
   ]
  },
  {
   "cell_type": "code",
   "execution_count": 117,
   "metadata": {},
   "outputs": [],
   "source": [
    "image_data = np.array([[(  0,   0,   0,  15), (255,   0,   0,  15), (  0, 255,   0,  15), (  0,   0, 255,  15)],\n",
    "                       [(  0, 255, 255,  15), (255,   0, 255,  15), (255, 255,   0,  15), (255, 255, 255,  15)],\n",
    "                       [(  0,   0,   0,  85), (255,   0,   0,  85), (  0, 255,   0,  85), (  0,   0, 255,  85)],\n",
    "                       [(  0, 255, 255,  85), (255,   0, 255,  85), (255, 255,   0,  85), (255, 255, 255,  85)],\n",
    "                       [(  0,   0,   0, 170), (255,   0,   0, 170), (  0, 255,   0, 170), (  0,   0, 255, 170)],\n",
    "                       [(  0, 255, 255, 170), (255,   0, 255, 170), (255, 255,   0, 170), (255, 255, 255, 170)],\n",
    "                       [(  0,   0,   0, 255), (255,   0,   0, 255), (  0, 255,   0, 255), (  0,   0, 255, 255)],\n",
    "                       [(  0, 255, 255, 255), (255,   0, 255, 255), (255, 255,   0, 255), (255, 255, 255, 255)]], \n",
    "                      dtype=np.uint8)"
   ]
  },
  {
   "cell_type": "code",
   "execution_count": 119,
   "metadata": {},
   "outputs": [],
   "source": [
    "image = Image.fromarray(image_data)"
   ]
  },
  {
   "cell_type": "code",
   "execution_count": 120,
   "metadata": {},
   "outputs": [
    {
     "data": {
      "image/png": "[encoded data removed]",
      "text/plain": [
       "<Figure size 640x480 with 1 Axes>"
      ]
     },
     "metadata": {},
     "output_type": "display_data"
    }
   ],
   "source": [
    "fig, ax = plt.subplots();\n",
    "ax.imshow(image);\n",
    "ax.set_xticks(np.arange(4), [str(i) for i in range(4)]);\n",
    "ax.set_yticks(np.arange(8), [str(i) for i in range(8)]);\n",
    "ax.set_xlabel('column');\n",
    "ax.set_ylabel('row');"
   ]
  },
  {
   "cell_type": "markdown",
   "metadata": {},
   "source": [
    "Since each color uses an 8 bit channel, they are often expressed in hexadecimal form ```#rrggbbaa```, where ```rr```, ```gg```, ```bb``` and an optional ```aa``` are two hexadecimal characters corresponding to each channel. All the [CSS color names](https://matplotlib.org/stable/gallery/color/named_colors.html) are also recognised as strings."
   ]
  },
  {
   "cell_type": "markdown",
   "metadata": {},
   "source": [
    "## ImageColor Module"
   ]
  },
  {
   "cell_type": "markdown",
   "metadata": {},
   "source": [
    "The ```ImageColor``` module contains a number of functions for converting a color to the desired format, i.e. a ```(r, g, b)``` tuple:"
   ]
  },
  {
   "cell_type": "code",
   "execution_count": 121,
   "metadata": {},
   "outputs": [],
   "source": [
    "from PIL import ImageColor"
   ]
  },
  {
   "cell_type": "markdown",
   "metadata": {},
   "source": [
    "The main function is ```getrgb```:"
   ]
  },
  {
   "cell_type": "code",
   "execution_count": 127,
   "metadata": {},
   "outputs": [
    {
     "data": {
      "text/plain": [
       "(65, 105, 225)"
      ]
     },
     "execution_count": 127,
     "metadata": {},
     "output_type": "execute_result"
    }
   ],
   "source": [
    "ImageColor.getrgb('royalblue')"
   ]
  },
  {
   "cell_type": "code",
   "execution_count": 129,
   "metadata": {},
   "outputs": [
    {
     "data": {
      "text/plain": [
       "(255, 99, 71)"
      ]
     },
     "execution_count": 129,
     "metadata": {},
     "output_type": "execute_result"
    }
   ],
   "source": [
    "ImageColor.getrgb('tomato')"
   ]
  },
  {
   "cell_type": "code",
   "execution_count": 124,
   "metadata": {},
   "outputs": [
    {
     "data": {
      "text/plain": [
       "(255, 0, 0)"
      ]
     },
     "execution_count": 124,
     "metadata": {},
     "output_type": "execute_result"
    }
   ],
   "source": [
    "ImageColor.getrgb('#ff0000')"
   ]
  },
  {
   "cell_type": "code",
   "execution_count": 125,
   "metadata": {},
   "outputs": [
    {
     "data": {
      "text/plain": [
       "(255, 0, 0, 255)"
      ]
     },
     "execution_count": 125,
     "metadata": {},
     "output_type": "execute_result"
    }
   ],
   "source": [
    "ImageColor.getrgb('#ff0000ff')"
   ]
  },
  {
   "cell_type": "markdown",
   "metadata": {},
   "source": [
    "Unfortunately the function does not scale to an array of values:"
   ]
  },
  {
   "cell_type": "code",
   "execution_count": 157,
   "metadata": {},
   "outputs": [],
   "source": [
    "image_data = np.array([['dimgray', 'tomato', 'springgreen', 'royalblue'],\n",
    "                       ['turquoise', 'fuchsia', 'gold', 'snow']])"
   ]
  },
  {
   "cell_type": "markdown",
   "metadata": {},
   "source": [
    "The ```.getcolor``` function is designed for a scalar and not broadcast across an ```ndarray```. Therefore it is easier to flatten the image:"
   ]
  },
  {
   "cell_type": "code",
   "execution_count": 158,
   "metadata": {},
   "outputs": [
    {
     "data": {
      "text/plain": [
       "(2, 4)"
      ]
     },
     "execution_count": 158,
     "metadata": {},
     "output_type": "execute_result"
    }
   ],
   "source": [
    "dimensions = image_data.shape\n",
    "dimensions"
   ]
  },
  {
   "cell_type": "code",
   "execution_count": 159,
   "metadata": {},
   "outputs": [],
   "source": [
    "image_data = image_data.flatten()"
   ]
  },
  {
   "cell_type": "markdown",
   "metadata": {},
   "source": [
    "Perform a ```list comprehension```:"
   ]
  },
  {
   "cell_type": "code",
   "execution_count": 163,
   "metadata": {},
   "outputs": [],
   "source": [
    "image_data = np.array([ImageColor.getrgb(pixel) for pixel in image_data], dtype='uint8')"
   ]
  },
  {
   "cell_type": "code",
   "execution_count": 164,
   "metadata": {},
   "outputs": [
    {
     "data": {
      "text/plain": [
       "array([[105, 105, 105],\n",
       "       [255,  99,  71],\n",
       "       [  0, 255, 127],\n",
       "       [ 65, 105, 225],\n",
       "       [ 64, 224, 208],\n",
       "       [255,   0, 255],\n",
       "       [255, 215,   0],\n",
       "       [255, 250, 250]], dtype=uint8)"
      ]
     },
     "execution_count": 164,
     "metadata": {},
     "output_type": "execute_result"
    }
   ],
   "source": [
    "image_data"
   ]
  },
  {
   "cell_type": "markdown",
   "metadata": {},
   "source": [
    "And then reshape:"
   ]
  },
  {
   "cell_type": "code",
   "execution_count": 165,
   "metadata": {},
   "outputs": [],
   "source": [
    "image_data = image_data.reshape(dimensions + (3,))"
   ]
  },
  {
   "cell_type": "code",
   "execution_count": 166,
   "metadata": {},
   "outputs": [
    {
     "data": {
      "text/plain": [
       "array([[[105, 105, 105],\n",
       "        [255,  99,  71],\n",
       "        [  0, 255, 127],\n",
       "        [ 65, 105, 225]],\n",
       "\n",
       "       [[ 64, 224, 208],\n",
       "        [255,   0, 255],\n",
       "        [255, 215,   0],\n",
       "        [255, 250, 250]]], dtype=uint8)"
      ]
     },
     "execution_count": 166,
     "metadata": {},
     "output_type": "execute_result"
    }
   ],
   "source": [
    "image_data"
   ]
  },
  {
   "cell_type": "code",
   "execution_count": 167,
   "metadata": {},
   "outputs": [],
   "source": [
    "image = Image.fromarray(image_data)"
   ]
  },
  {
   "cell_type": "code",
   "execution_count": 168,
   "metadata": {},
   "outputs": [
    {
     "data": {
      "image/png": "[encoded data removed]",
      "text/plain": [
       "<Figure size 640x480 with 1 Axes>"
      ]
     },
     "metadata": {},
     "output_type": "display_data"
    }
   ],
   "source": [
    "fig, ax = plt.subplots();\n",
    "ax.imshow(image);\n",
    "ax.set_xticks(np.arange(4), [str(i) for i in range(4)]);\n",
    "ax.set_yticks(np.arange(2), [str(i) for i in range(2)]);\n",
    "ax.set_xlabel('column');\n",
    "ax.set_ylabel('row');"
   ]
  },
  {
   "cell_type": "markdown",
   "metadata": {},
   "source": []
  },
  {
   "cell_type": "markdown",
   "metadata": {},
   "source": [
    "Demonstrate filters..."
   ]
  },
  {
   "cell_type": "markdown",
   "metadata": {},
   "source": []
  },
  {
   "cell_type": "markdown",
   "metadata": {},
   "source": []
  },
  {
   "cell_type": "markdown",
   "metadata": {},
   "source": []
  },
  {
   "cell_type": "markdown",
   "metadata": {},
   "source": []
  },
  {
   "cell_type": "markdown",
   "metadata": {},
   "source": []
  },
  {
   "cell_type": "code",
   "execution_count": null,
   "metadata": {},
   "outputs": [],
   "source": [
    "import numpy as np\n",
    "from PIL import Image\n",
    "import matplotlib.pyplot as plt\n",
    "\n",
    "# Define the 5x5 pattern\n",
    "pattern = np.array([[0, 1, 0, 1, 0],\n",
    "                    [1, 0, 1, 0, 1],\n",
    "                    [0, 1, 0, 1, 0],\n",
    "                    [1, 0, 1, 0, 1],\n",
    "                    [0, 1, 0, 1, 0]], dtype=np.uint8) * 255  # 0 for black, 1 for white\n",
    "\n",
    "# Create a Pillow image from the data\n",
    "image = Image.fromarray(pattern)\n",
    "\n",
    "# Plot the image using Matplotlib\n",
    "plt.imshow(image, cmap='gray', interpolation='none')\n",
    "\n",
    "# Set row and column labels as integers\n",
    "plt.xticks(np.arange(5), [str(i) for i in range(5)])\n",
    "plt.yticks(np.arange(5), [str(i) for i in range(5)])\n",
    "\n",
    "# Add row and column numbers\n",
    "for i in range(5):\n",
    "    for j in range(5):\n",
    "        plt.text(j, i, f'({i}, {j})', ha='center', va='center', color='red')\n",
    "\n",
    "# Set labels and show the plot\n",
    "plt.xlabel('Column')\n",
    "plt.ylabel('Row')\n",
    "plt.title('5x5 Monochrome Image with Row and Column Numbers')\n",
    "plt.show()\n"
   ]
  },
  {
   "cell_type": "markdown",
   "metadata": {},
   "source": []
  },
  {
   "cell_type": "markdown",
   "metadata": {},
   "source": []
  },
  {
   "cell_type": "code",
   "execution_count": null,
   "metadata": {},
   "outputs": [],
   "source": [
    "import numpy as np\n",
    "from PIL import ImageColor\n",
    "\n",
    "# Define the function to convert a hexadecimal string to an RGB tuple with correct format\n",
    "def hex_to_rgb_corrected(hex_color):\n",
    "    rgb_tuple = ImageColor.getcolor(hex_color, \"RGB\")\n",
    "    return tuple(reversed(rgb_tuple))[:3]  # Correct the format and extract only the RGB values\n",
    "\n",
    "# Array of hexadecimal color values (2D)\n",
    "hex_colors = np.array([['#000000', '#ff0000', '#00ff00', '#0000ff'],\n",
    "                       ['#00ffff', '#ff00ff', '#ffff00', '#ffff00']])\n",
    "\n",
    "# Use np.vectorize to apply the conversion function element-wise to the array\n",
    "np.vectorize(hex_to_rgb_corrected, otypes=[np.uint8, np.uint8, np.uint8])(hex_colors)\n",
    "\n",
    "\n",
    "\n"
   ]
  },
  {
   "cell_type": "code",
   "execution_count": null,
   "metadata": {},
   "outputs": [],
   "source": [
    "def show_character(pattern):\n",
    "    image = Image.fromarray(pattern)\n",
    "\n",
    "    fig, ax = plt.subplots();\n",
    "    ax.imshow(image, cmap='gray', interpolation='none');\n",
    "\n",
    "    ax.set_xticks(np.arange(5), [str(i) for i in range(5)]);\n",
    "    ax.set_yticks(np.arange(5), [str(i) for i in range(5)]);\n",
    "\n",
    "    for i in range(5):\n",
    "        for j in range(5):\n",
    "            ax.text(j, i, f'({i}, {j})', ha='center', va='center', color='red');\n",
    "\n",
    "    # Set labels and show the plot\n",
    "    ax.set_xlabel('Column');\n",
    "    ax.set_ylabel('Row');\n",
    "    ax.set_title('5x5 Monochrome Image with Row and Column Numbers');\n"
   ]
  },
  {
   "cell_type": "code",
   "execution_count": null,
   "metadata": {},
   "outputs": [],
   "source": [
    "from charmat import character_matrix, character_matrix_inverted"
   ]
  },
  {
   "cell_type": "code",
   "execution_count": null,
   "metadata": {},
   "outputs": [],
   "source": [
    "show_character(character_matrix['A'])"
   ]
  },
  {
   "cell_type": "code",
   "execution_count": null,
   "metadata": {},
   "outputs": [],
   "source": [
    "show_character(character_matrix_inverted['A'])"
   ]
  },
  {
   "cell_type": "code",
   "execution_count": null,
   "metadata": {},
   "outputs": [],
   "source": [
    "show_character(character_matrix_inverted['B'])"
   ]
  },
  {
   "cell_type": "code",
   "execution_count": null,
   "metadata": {},
   "outputs": [],
   "source": [
    "show_character(character_matrix_inverted['C'])"
   ]
  },
  {
   "cell_type": "markdown",
   "metadata": {},
   "source": []
  },
  {
   "cell_type": "markdown",
   "metadata": {},
   "source": []
  },
  {
   "cell_type": "code",
   "execution_count": null,
   "metadata": {},
   "outputs": [],
   "source": [
    "def show_text(line='HELLO WORLD!'):\n",
    "    from charmat import character_matrix_inverted\n",
    "    fig, ax = plt.subplots(nrows=1, ncols=16);\n",
    "\n",
    "    if len(line) == 16:\n",
    "        pass\n",
    "    elif len(line) < 16:\n",
    "        line = line.ljust(16)\n",
    "    else:\n",
    "        line = line[:16]\n",
    "\n",
    "    for idx, letter in enumerate(line):\n",
    "        pattern = character_matrix_inverted[letter]\n",
    "        image = Image.fromarray(pattern)\n",
    "        ax[idx].imshow(image, cmap='gray', interpolation='none');\n",
    "        ax[idx].axis('off');\n",
    "    "
   ]
  },
  {
   "cell_type": "code",
   "execution_count": null,
   "metadata": {},
   "outputs": [],
   "source": []
  },
  {
   "cell_type": "code",
   "execution_count": null,
   "metadata": {},
   "outputs": [],
   "source": [
    "show_text()"
   ]
  },
  {
   "cell_type": "code",
   "execution_count": null,
   "metadata": {},
   "outputs": [],
   "source": [
    "show_text('BYE WORLD!')"
   ]
  },
  {
   "cell_type": "code",
   "execution_count": null,
   "metadata": {},
   "outputs": [],
   "source": [
    "from PIL import Image\n",
    "import numpy as np\n",
    "import matplotlib.pyplot as plt\n",
    "\n",
    "# Create a new image with RGB color mode and size 2x2 pixels\n",
    "image = Image.new('RGB', (2, 2))\n",
    "\n",
    "# Set individual pixel colors\n",
    "pixel_colors = [(0, 0, 0), (255, 0, 0), (0, 255, 0), (0, 0, 255)]  # k, r, g, b\n",
    "\n",
    "# Assign the colors to the pixels\n",
    "image.putpixel((0, 0), pixel_colors[0])  # Black\n",
    "image.putpixel((1, 0), pixel_colors[1])  # Red\n",
    "image.putpixel((0, 1), pixel_colors[2])  # Green\n",
    "image.putpixel((1, 1), pixel_colors[3])  # Blue\n",
    "\n",
    "# Convert the image to a NumPy array\n",
    "image_np = np.array(image)\n",
    "\n",
    "# Create a figure with a single subplot\n",
    "fig, ax = plt.subplots(1, 1, figsize=(4, 4))\n",
    "\n",
    "# Plot the color image\n",
    "ax.imshow(image_np)\n",
    "ax.set_title('Color Image')\n",
    "ax.set_xticks(range(image_np.shape[1]))\n",
    "ax.set_yticks(range(image_np.shape[0]))\n",
    "ax.set_xticklabels(range(image_np.shape[1]))\n",
    "ax.set_yticklabels(range(image_np.shape[0]))\n",
    "ax.set_xlabel('X (Pixel Column)')\n",
    "ax.set_ylabel('Y (Pixel Row)')\n",
    "\n",
    "plt.tight_layout()\n",
    "plt.show()\n"
   ]
  },
  {
   "cell_type": "markdown",
   "metadata": {},
   "source": []
  },
  {
   "cell_type": "markdown",
   "metadata": {},
   "source": []
  },
  {
   "cell_type": "markdown",
   "metadata": {},
   "source": []
  },
  {
   "cell_type": "code",
   "execution_count": null,
   "metadata": {},
   "outputs": [],
   "source": [
    "from PIL import Image\n",
    "import numpy as np\n",
    "import matplotlib.pyplot as plt\n",
    "\n",
    "# Create a new image with RGB color mode and size 2x4 pixels\n",
    "image = Image.new('RGB', (4, 2))\n",
    "\n",
    "# Set individual pixel colors in the new order k, r, g, b, c, y, m, w\n",
    "pixel_colors = [(0, 0, 0), (255, 0, 0), (0, 255, 0), (0, 0, 255),\n",
    "                (0, 255, 255), (255, 255, 0), (255, 0, 255),\n",
    "                (255, 255, 255)]  # k, r, g, b, c, y, m, w\n",
    "\n",
    "for i in range(2):\n",
    "    for j in range(4):\n",
    "        image.putpixel((j, i), pixel_colors[i*4 + j])\n",
    "\n",
    "# Convert the image to a NumPy array\n",
    "image_np = np.array(image)\n",
    "\n",
    "# Split the image into color channels\n",
    "red_channel = image_np[:,:,0]\n",
    "green_channel = image_np[:,:,1]\n",
    "blue_channel = image_np[:,:,2]\n",
    "\n",
    "# Create a figure with 2x2 subplots\n",
    "fig, axs = plt.subplots(2, 2, figsize=(8, 8))\n",
    "\n",
    "# Plot each color channel\n",
    "axs[0, 0].imshow(red_channel, cmap='Reds')\n",
    "axs[0, 0].set_title('Red Channel')\n",
    "axs[0, 0].set_xticks(range(red_channel.shape[1]))\n",
    "axs[0, 0].set_yticks(range(red_channel.shape[0]))\n",
    "axs[0, 0].set_xticklabels(range(red_channel.shape[1]))\n",
    "axs[0, 0].set_yticklabels(range(red_channel.shape[0]))\n",
    "axs[0, 0].set_xlabel('X (Pixel Column)')\n",
    "axs[0, 0].set_ylabel('Y (Pixel Row)')\n",
    "\n",
    "axs[0, 1].imshow(green_channel, cmap='Greens')\n",
    "axs[0, 1].set_title('Green Channel')\n",
    "axs[0, 1].set_xticks(range(green_channel.shape[1]))\n",
    "axs[0, 1].set_yticks(range(green_channel.shape[0]))\n",
    "axs[0, 1].set_xticklabels(range(green_channel.shape[1]))\n",
    "axs[0, 1].set_yticklabels(range(green_channel.shape[0]))\n",
    "axs[0, 1].set_xlabel('X (Pixel Column)')\n",
    "axs[0, 1].set_ylabel('Y (Pixel Row)')\n",
    "\n",
    "axs[1, 0].imshow(blue_channel, cmap='Blues')\n",
    "axs[1, 0].set_title('Blue Channel')\n",
    "axs[1, 0].set_xticks(range(blue_channel.shape[1]))\n",
    "axs[1, 0].set_yticks(range(blue_channel.shape[0]))\n",
    "axs[1, 0].set_xticklabels(range(blue_channel.shape[1]))\n",
    "axs[1, 0].set_yticklabels(range(blue_channel.shape[0]))\n",
    "axs[1, 0].set_xlabel('X (Pixel Column)')\n",
    "axs[1, 0].set_ylabel('Y (Pixel Row)')\n",
    "\n",
    "# Plot the color image\n",
    "axs[1, 1].imshow(image_np)\n",
    "axs[1, 1].set_title('Color Image')\n",
    "axs[1, 1].set_xticks(range(image_np.shape[1]))\n",
    "axs[1, 1].set_yticks(range(image_np.shape[0]))\n",
    "axs[1, 1].set_xticklabels(range(image_np.shape[1]))\n",
    "axs[1, 1].set_yticklabels(range(image_np.shape[0]))\n",
    "axs[1, 1].set_xlabel('X (Pixel Column)')\n",
    "axs[1, 1].set_ylabel('Y (Pixel Row)')\n",
    "\n",
    "plt.tight_layout()\n",
    "plt.show()"
   ]
  },
  {
   "cell_type": "markdown",
   "metadata": {},
   "source": []
  },
  {
   "cell_type": "code",
   "execution_count": null,
   "metadata": {},
   "outputs": [],
   "source": [
    "NROWS = 100\n",
    "NCOLS = 200\n",
    "NCOLORS = 3\n",
    "\n",
    "image_data = np.zeros((NROWS, NCOLS, NCOLORS))"
   ]
  },
  {
   "cell_type": "code",
   "execution_count": null,
   "metadata": {},
   "outputs": [],
   "source": [
    "fig, ax = plt.subplots();\n",
    "ax.imshow(image_data);\n",
    "ax.set_xlabel('column');\n",
    "ax.set_ylabel('row');"
   ]
  },
  {
   "cell_type": "code",
   "execution_count": null,
   "metadata": {},
   "outputs": [],
   "source": [
    "NROWS = 100\n",
    "NCOLS = 200\n",
    "NCOLORS = 3\n",
    "\n",
    "image_data = np.zeros((NROWS, NCOLS, NCOLORS))"
   ]
  },
  {
   "cell_type": "code",
   "execution_count": null,
   "metadata": {},
   "outputs": [],
   "source": [
    "ROWS = slice(0, 50)\n",
    "COLS = slice(0, 25)\n",
    "RED = 0\n",
    "GREEN = 1\n",
    "BLUE = 2"
   ]
  },
  {
   "cell_type": "code",
   "execution_count": null,
   "metadata": {},
   "outputs": [],
   "source": [
    "image_data[ROWS, COLS]"
   ]
  }
 ],
 "metadata": {
  "kernelspec": {
   "display_name": "Python 3",
   "language": "python",
   "name": "python3"
  },
  "language_info": {
   "codemirror_mode": {
    "name": "ipython",
    "version": 3
   },
   "file_extension": ".py",
   "mimetype": "text/x-python",
   "name": "python",
   "nbconvert_exporter": "python",
   "pygments_lexer": "ipython3",
   "version": "3.11.5"
  }
 },
 "nbformat": 4,
 "nbformat_minor": 2
}
