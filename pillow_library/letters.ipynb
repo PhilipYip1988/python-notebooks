{
 "cells": [
  {
   "cell_type": "code",
   "execution_count": null,
   "metadata": {},
   "outputs": [],
   "source": []
  },
  {
   "cell_type": "code",
   "execution_count": 4,
   "metadata": {},
   "outputs": [],
   "source": [
    "a = \"\"\"[\n",
    "    [., ., ., ., .,],\n",
    "    [., ., #, ., .,],\n",
    "    [., #, ., #, .,],\n",
    "    [., #, #, #, .,],\n",
    "    [., #, ., #, .,],\n",
    "    [., #, ., #, .,],\n",
    "    [., #, ., #, .,],\n",
    "    [., ., ., ., .,],\n",
    "]\"\"\"\n",
    "\n"
   ]
  },
  {
   "cell_type": "code",
   "execution_count": 7,
   "metadata": {},
   "outputs": [
    {
     "data": {
      "text/plain": [
       "'[[0,0,0,0,0,],[0,0,1,0,0,],[0,1,0,1,0,],[0,1,1,1,0,],[0,1,0,1,0,],[0,1,0,1,0,],[0,1,0,1,0,],[0,0,0,0,0,],]'"
      ]
     },
     "execution_count": 7,
     "metadata": {},
     "output_type": "execute_result"
    }
   ],
   "source": []
  },
  {
   "cell_type": "code",
   "execution_count": 8,
   "metadata": {},
   "outputs": [],
   "source": [
    "import ast\n",
    "a = a.replace('.', '0').replace('#', '1').strip().replace(\" \", \"\").replace(\"\\n\", \"\")\n",
    "a = ast.literal_eval(a)"
   ]
  },
  {
   "cell_type": "code",
   "execution_count": 9,
   "metadata": {},
   "outputs": [
    {
     "data": {
      "text/plain": [
       "[[0, 0, 0, 0, 0],\n",
       " [0, 0, 1, 0, 0],\n",
       " [0, 1, 0, 1, 0],\n",
       " [0, 1, 1, 1, 0],\n",
       " [0, 1, 0, 1, 0],\n",
       " [0, 1, 0, 1, 0],\n",
       " [0, 1, 0, 1, 0],\n",
       " [0, 0, 0, 0, 0]]"
      ]
     },
     "execution_count": 9,
     "metadata": {},
     "output_type": "execute_result"
    }
   ],
   "source": [
    "a"
   ]
  }
 ],
 "metadata": {
  "kernelspec": {
   "display_name": "Python 3",
   "language": "python",
   "name": "python3"
  },
  "language_info": {
   "codemirror_mode": {
    "name": "ipython",
    "version": 3
   },
   "file_extension": ".py",
   "mimetype": "text/x-python",
   "name": "python",
   "nbconvert_exporter": "python",
   "pygments_lexer": "ipython3",
   "version": "3.11.5"
  }
 },
 "nbformat": 4,
 "nbformat_minor": 2
}
