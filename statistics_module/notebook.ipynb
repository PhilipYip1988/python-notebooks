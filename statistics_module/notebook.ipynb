{
 "cells": [
  {
   "attachments": {},
   "cell_type": "markdown",
   "metadata": {},
   "source": [
    "# statistics module"
   ]
  },
  {
   "attachments": {},
   "cell_type": "markdown",
   "metadata": {},
   "source": [
    "The statistics module provides a number of basic statistical functions including averages, variance and standard deviation.\n",
    "\n",
    "The statistics module is normally imported using a 2 letter alias:"
   ]
  },
  {
   "cell_type": "code",
   "execution_count": 1,
   "metadata": {},
   "outputs": [],
   "source": [
    "import statistics as st"
   ]
  },
  {
   "attachments": {},
   "cell_type": "markdown",
   "metadata": {},
   "source": [
    "The docstring of the statistics module is pretty detailed can be examined by inputting:"
   ]
  },
  {
   "cell_type": "code",
   "execution_count": 3,
   "metadata": {},
   "outputs": [
    {
     "name": "stdout",
     "output_type": "stream",
     "text": [
      "\u001b[1;31mType:\u001b[0m        module\n",
      "\u001b[1;31mString form:\u001b[0m <module 'statistics' from 'c:\\\\Users\\\\pyip\\\\AppData\\\\Local\\\\mambaforge\\\\envs\\\\jupyterlab\\\\Lib\\\\statistics.py'>\n",
      "\u001b[1;31mFile:\u001b[0m        c:\\users\\pyip\\appdata\\local\\mambaforge\\envs\\jupyterlab\\lib\\statistics.py\n",
      "\u001b[1;31mDocstring:\u001b[0m  \n",
      "Basic statistics module.\n",
      "\n",
      "This module provides functions for calculating statistics of data, including\n",
      "averages, variance, and standard deviation.\n",
      "\n",
      "Calculating averages\n",
      "--------------------\n",
      "\n",
      "==================  ==================================================\n",
      "Function            Description\n",
      "==================  ==================================================\n",
      "mean                Arithmetic mean (average) of data.\n",
      "fmean               Fast, floating point arithmetic mean.\n",
      "geometric_mean      Geometric mean of data.\n",
      "harmonic_mean       Harmonic mean of data.\n",
      "median              Median (middle value) of data.\n",
      "median_low          Low median of data.\n",
      "median_high         High median of data.\n",
      "median_grouped      Median, or 50th percentile, of grouped data.\n",
      "mode                Mode (most common value) of data.\n",
      "multimode           List of modes (most common values of data).\n",
      "quantiles           Divide data into intervals with equal probability.\n",
      "==================  ==================================================\n",
      "\n",
      "Calculate the arithmetic mean (\"the average\") of data:\n",
      "\n",
      ">>> mean([-1.0, 2.5, 3.25, 5.75])\n",
      "2.625\n",
      "\n",
      "\n",
      "Calculate the standard median of discrete data:\n",
      "\n",
      ">>> median([2, 3, 4, 5])\n",
      "3.5\n",
      "\n",
      "\n",
      "Calculate the median, or 50th percentile, of data grouped into class intervals\n",
      "centred on the data values provided. E.g. if your data points are rounded to\n",
      "the nearest whole number:\n",
      "\n",
      ">>> median_grouped([2, 2, 3, 3, 3, 4])  #doctest: +ELLIPSIS\n",
      "2.8333333333...\n",
      "\n",
      "This should be interpreted in this way: you have two data points in the class\n",
      "interval 1.5-2.5, three data points in the class interval 2.5-3.5, and one in\n",
      "the class interval 3.5-4.5. The median of these data points is 2.8333...\n",
      "\n",
      "\n",
      "Calculating variability or spread\n",
      "---------------------------------\n",
      "\n",
      "==================  =============================================\n",
      "Function            Description\n",
      "==================  =============================================\n",
      "pvariance           Population variance of data.\n",
      "variance            Sample variance of data.\n",
      "pstdev              Population standard deviation of data.\n",
      "stdev               Sample standard deviation of data.\n",
      "==================  =============================================\n",
      "\n",
      "Calculate the standard deviation of sample data:\n",
      "\n",
      ">>> stdev([2.5, 3.25, 5.5, 11.25, 11.75])  #doctest: +ELLIPSIS\n",
      "4.38961843444...\n",
      "\n",
      "If you have previously calculated the mean, you can pass it as the optional\n",
      "second argument to the four \"spread\" functions to avoid recalculating it:\n",
      "\n",
      ">>> data = [1, 2, 2, 4, 4, 4, 5, 6]\n",
      ">>> mu = mean(data)\n",
      ">>> pvariance(data, mu)\n",
      "2.5\n",
      "\n",
      "\n",
      "Statistics for relations between two inputs\n",
      "-------------------------------------------\n",
      "\n",
      "==================  ====================================================\n",
      "Function            Description\n",
      "==================  ====================================================\n",
      "covariance          Sample covariance for two variables.\n",
      "correlation         Pearson's correlation coefficient for two variables.\n",
      "linear_regression   Intercept and slope for simple linear regression.\n",
      "==================  ====================================================\n",
      "\n",
      "Calculate covariance, Pearson's correlation, and simple linear regression\n",
      "for two inputs:\n",
      "\n",
      ">>> x = [1, 2, 3, 4, 5, 6, 7, 8, 9]\n",
      ">>> y = [1, 2, 3, 1, 2, 3, 1, 2, 3]\n",
      ">>> covariance(x, y)\n",
      "0.75\n",
      ">>> correlation(x, y)  #doctest: +ELLIPSIS\n",
      "0.31622776601...\n",
      ">>> linear_regression(x, y)  #doctest:\n",
      "LinearRegression(slope=0.1, intercept=1.5)\n",
      "\n",
      "\n",
      "Exceptions\n",
      "----------\n",
      "\n",
      "A single exception is defined: StatisticsError is a subclass of ValueError."
     ]
    }
   ],
   "source": [
    "? st"
   ]
  },
  {
   "attachments": {},
   "cell_type": "markdown",
   "metadata": {},
   "source": [
    "As seen from the documentation, the module contains a collection of functions for calculating averages."
   ]
  },
  {
   "attachments": {},
   "cell_type": "markdown",
   "metadata": {},
   "source": [
    "As seen from the documentation, the module contains a collection of functions for calculating averages:"
   ]
  },
  {
   "attachments": {},
   "cell_type": "markdown",
   "metadata": {},
   "source": [
    "|function|description|\n",
    "|---|---|\n",
    "|mean|Arithmetic mean (average) of data.|\n",
    "|fmean|Fast, floating point arithmetic mean.|\n",
    "|median|Median (middle value) of data.|\n",
    "|median_low|Low median of data.|\n",
    "|median_high|High median of data.|\n",
    "|mode|Mode (most common value) of data.|\n",
    "|multimode|List of modes (most common values of data).|\n",
    "|quantiles|Divide data into intervals with equal probability.|\n",
    "|geometric_mean|Geometric mean of data.|\n",
    "|harmonic_mean|Harmonic mean of data.|\n",
    "|median_grouped|Median, or 50th percentile, of grouped data.|"
   ]
  },
  {
   "attachments": {},
   "cell_type": "markdown",
   "metadata": {},
   "source": [
    "And for calculating the associated variability or spread of one dataset:"
   ]
  },
  {
   "attachments": {},
   "cell_type": "markdown",
   "metadata": {},
   "source": [
    "|function|description|\n",
    "|---|---|\n",
    "|pvariance|Population variance of data.|\n",
    "|variance|Sample variance of data.|\n",
    "|stdev|Sample standard deviation of data.|\n",
    "|pstdev|Population standard deviation of data.|"
   ]
  },
  {
   "attachments": {},
   "cell_type": "markdown",
   "metadata": {},
   "source": [
    "Or of two datasets:"
   ]
  },
  {
   "attachments": {},
   "cell_type": "markdown",
   "metadata": {},
   "source": [
    "|function|description|\n",
    "|---|---|\n",
    "|covariance|Sample covariance for two variables.|\n",
    "|correlation|Pearson's correlation coefficient for two variables.|\n",
    "|linear_regression|Intercept and slope for simple linear regression.|"
   ]
  },
  {
   "attachments": {},
   "cell_type": "markdown",
   "metadata": {},
   "source": [
    "These statistical averages can be examined from a very simple dataset:"
   ]
  },
  {
   "attachments": {},
   "cell_type": "markdown",
   "metadata": {},
   "source": [
    "$$\\text{data}=[\\begin{matrix}7&5&3&1&2&4&6&4\\end{matrix}]$$"
   ]
  },
  {
   "cell_type": "code",
   "execution_count": 5,
   "metadata": {},
   "outputs": [],
   "source": [
    "data = [7, 5, 3, 1, 2, 4, 6, 4]"
   ]
  },
  {
   "attachments": {},
   "cell_type": "markdown",
   "metadata": {},
   "source": [
    "This dataset can be sorted:"
   ]
  },
  {
   "attachments": {},
   "cell_type": "markdown",
   "metadata": {},
   "source": [
    "$$\\text{data}=\\left[\\begin{matrix}1&2&3&4&4&5&6&7\\end{matrix}\\right]$$"
   ]
  },
  {
   "cell_type": "code",
   "execution_count": 6,
   "metadata": {},
   "outputs": [],
   "source": [
    "data.sort()"
   ]
  },
  {
   "cell_type": "code",
   "execution_count": 7,
   "metadata": {},
   "outputs": [
    {
     "data": {
      "text/plain": [
       "[1, 2, 3, 4, 4, 5, 6, 7]"
      ]
     },
     "execution_count": 7,
     "metadata": {},
     "output_type": "execute_result"
    }
   ],
   "source": [
    "data"
   ]
  },
  {
   "attachments": {},
   "cell_type": "markdown",
   "metadata": {},
   "source": [
    "The index of each element in the dataset can be shown. The length has a value of 1 higher than the last index. The last index is 7 so the length is 8:"
   ]
  },
  {
   "attachments": {},
   "cell_type": "markdown",
   "metadata": {},
   "source": [
    "$$\\text{data}=\\left[\\begin{matrix}{\\underset{0}{1}}&{\\underset{1}{2}}&{\\underset{2}{3}}&{\\underset{3}{4}}&{\\underset{4}{4}}&{\\underset{5}{5}}&{\\underset{6}{6}}&{\\underset{7}{7}}\\end{matrix}\\right]$$"
   ]
  },
  {
   "cell_type": "code",
   "execution_count": 8,
   "metadata": {},
   "outputs": [],
   "source": [
    "lendata = len(data)"
   ]
  },
  {
   "cell_type": "code",
   "execution_count": 9,
   "metadata": {},
   "outputs": [
    {
     "data": {
      "text/plain": [
       "8"
      ]
     },
     "execution_count": 9,
     "metadata": {},
     "output_type": "execute_result"
    }
   ],
   "source": [
    "lendata"
   ]
  },
  {
   "attachments": {},
   "cell_type": "markdown",
   "metadata": {},
   "source": [
    "The sum of the data can be calculated using:"
   ]
  },
  {
   "attachments": {},
   "cell_type": "markdown",
   "metadata": {},
   "source": [
    "$$\\text{sum}=1+2+3+4+4+5+6+7=32$$"
   ]
  },
  {
   "cell_type": "code",
   "execution_count": 10,
   "metadata": {},
   "outputs": [],
   "source": [
    "sumdata = sum(data)"
   ]
  },
  {
   "cell_type": "code",
   "execution_count": 11,
   "metadata": {},
   "outputs": [
    {
     "data": {
      "text/plain": [
       "32"
      ]
     },
     "execution_count": 11,
     "metadata": {},
     "output_type": "execute_result"
    }
   ],
   "source": [
    "sumdata"
   ]
  },
  {
   "attachments": {},
   "cell_type": "markdown",
   "metadata": {},
   "source": [
    "The integer mean can be calculated:"
   ]
  },
  {
   "attachments": {},
   "cell_type": "markdown",
   "metadata": {},
   "source": [
    "$$\\text{intmean}=32//8=4$$"
   ]
  },
  {
   "attachments": {},
   "cell_type": "markdown",
   "metadata": {},
   "source": [
    "$$\\text{intmod}=32﹪8=0$$"
   ]
  },
  {
   "cell_type": "code",
   "execution_count": 12,
   "metadata": {},
   "outputs": [
    {
     "data": {
      "text/plain": [
       "4"
      ]
     },
     "execution_count": 12,
     "metadata": {},
     "output_type": "execute_result"
    }
   ],
   "source": [
    "sum(data) // len(data)"
   ]
  },
  {
   "cell_type": "code",
   "execution_count": 13,
   "metadata": {},
   "outputs": [
    {
     "data": {
      "text/plain": [
       "0"
      ]
     },
     "execution_count": 13,
     "metadata": {},
     "output_type": "execute_result"
    }
   ],
   "source": [
    "sum(data) % len(data)"
   ]
  },
  {
   "attachments": {},
   "cell_type": "markdown",
   "metadata": {},
   "source": [
    "The floating point mean can be calculated:"
   ]
  },
  {
   "attachments": {},
   "cell_type": "markdown",
   "metadata": {},
   "source": [
    "$$\\text{floatmean}=32/8=4.0$$"
   ]
  },
  {
   "cell_type": "code",
   "execution_count": 14,
   "metadata": {},
   "outputs": [
    {
     "data": {
      "text/plain": [
       "4.0"
      ]
     },
     "execution_count": 14,
     "metadata": {},
     "output_type": "execute_result"
    }
   ],
   "source": [
    "sum(data) / len(data)"
   ]
  },
  {
   "attachments": {},
   "cell_type": "markdown",
   "metadata": {},
   "source": [
    "The function mean returns the integer mean for no modulus and the float mean, when a modulus is present. The docstring can be examined using:"
   ]
  },
  {
   "cell_type": "code",
   "execution_count": 15,
   "metadata": {},
   "outputs": [
    {
     "name": "stdout",
     "output_type": "stream",
     "text": [
      "\u001b[1;31mSignature:\u001b[0m  \u001b[0mst\u001b[0m\u001b[1;33m.\u001b[0m\u001b[0mmean\u001b[0m\u001b[1;33m(\u001b[0m\u001b[0mdata\u001b[0m\u001b[1;33m)\u001b[0m\u001b[1;33m\u001b[0m\u001b[1;33m\u001b[0m\u001b[0m\n",
      "\u001b[1;31mDocstring:\u001b[0m\n",
      "Return the sample arithmetic mean of data.\n",
      "\n",
      ">>> mean([1, 2, 3, 4, 4])\n",
      "2.8\n",
      "\n",
      ">>> from fractions import Fraction as F\n",
      ">>> mean([F(3, 7), F(1, 21), F(5, 3), F(1, 3)])\n",
      "Fraction(13, 21)\n",
      "\n",
      ">>> from decimal import Decimal as D\n",
      ">>> mean([D(\"0.5\"), D(\"0.75\"), D(\"0.625\"), D(\"0.375\")])\n",
      "Decimal('0.5625')\n",
      "\n",
      "If ``data`` is empty, StatisticsError will be raised.\n",
      "\u001b[1;31mFile:\u001b[0m      c:\\users\\pyip\\appdata\\local\\mambaforge\\envs\\jupyterlab\\lib\\statistics.py\n",
      "\u001b[1;31mType:\u001b[0m      function"
     ]
    }
   ],
   "source": [
    "? st.mean"
   ]
  },
  {
   "attachments": {},
   "cell_type": "markdown",
   "metadata": {},
   "source": [
    "The mean of the dataset can be calculated using:"
   ]
  },
  {
   "cell_type": "code",
   "execution_count": 16,
   "metadata": {},
   "outputs": [
    {
     "data": {
      "text/plain": [
       "4"
      ]
     },
     "execution_count": 16,
     "metadata": {},
     "output_type": "execute_result"
    }
   ],
   "source": [
    "st.mean(data)"
   ]
  },
  {
   "attachments": {},
   "cell_type": "markdown",
   "metadata": {},
   "source": [
    "The function floating point mean, fmean on the other hand always returns the floating point mean. The docstring can be examined:"
   ]
  },
  {
   "cell_type": "code",
   "execution_count": 17,
   "metadata": {},
   "outputs": [
    {
     "name": "stdout",
     "output_type": "stream",
     "text": [
      "\u001b[1;31mSignature:\u001b[0m  \u001b[0mst\u001b[0m\u001b[1;33m.\u001b[0m\u001b[0mfmean\u001b[0m\u001b[1;33m(\u001b[0m\u001b[0mdata\u001b[0m\u001b[1;33m,\u001b[0m \u001b[0mweights\u001b[0m\u001b[1;33m=\u001b[0m\u001b[1;32mNone\u001b[0m\u001b[1;33m)\u001b[0m\u001b[1;33m\u001b[0m\u001b[1;33m\u001b[0m\u001b[0m\n",
      "\u001b[1;31mDocstring:\u001b[0m\n",
      "Convert data to floats and compute the arithmetic mean.\n",
      "\n",
      "This runs faster than the mean() function and it always returns a float.\n",
      "If the input dataset is empty, it raises a StatisticsError.\n",
      "\n",
      ">>> fmean([3.5, 4.0, 5.25])\n",
      "4.25\n",
      "\u001b[1;31mFile:\u001b[0m      c:\\users\\pyip\\appdata\\local\\mambaforge\\envs\\jupyterlab\\lib\\statistics.py\n",
      "\u001b[1;31mType:\u001b[0m      function"
     ]
    }
   ],
   "source": [
    "? st.fmean"
   ]
  },
  {
   "attachments": {},
   "cell_type": "markdown",
   "metadata": {},
   "source": [
    "The floating point mean of the dataset can be calculated using:"
   ]
  },
  {
   "cell_type": "code",
   "execution_count": 18,
   "metadata": {},
   "outputs": [
    {
     "data": {
      "text/plain": [
       "4.0"
      ]
     },
     "execution_count": 18,
     "metadata": {},
     "output_type": "execute_result"
    }
   ],
   "source": [
    "st.fmean(data)"
   ]
  },
  {
   "attachments": {},
   "cell_type": "markdown",
   "metadata": {},
   "source": [
    "The median is the middle point of the data which can be selected directly when the data is odd. When the data has an even number of values it is the mean of these two middle values:"
   ]
  },
  {
   "attachments": {},
   "cell_type": "markdown",
   "metadata": {},
   "source": [
    "$$\\text{data}=\\left[\\begin{matrix}1&2&3&\\textbf{4}&\\textbf{4}&5&6&7\\end{matrix}\\right]$$"
   ]
  },
  {
   "attachments": {},
   "cell_type": "markdown",
   "metadata": {},
   "source": [
    "$$\\text{median}=\\frac{4+4}{2}=4$$"
   ]
  },
  {
   "attachments": {},
   "cell_type": "markdown",
   "metadata": {},
   "source": [
    "The docstring of the function median can be examined:"
   ]
  },
  {
   "cell_type": "code",
   "execution_count": 19,
   "metadata": {},
   "outputs": [
    {
     "name": "stdout",
     "output_type": "stream",
     "text": [
      "\u001b[1;31mSignature:\u001b[0m  \u001b[0mst\u001b[0m\u001b[1;33m.\u001b[0m\u001b[0mmedian\u001b[0m\u001b[1;33m(\u001b[0m\u001b[0mdata\u001b[0m\u001b[1;33m)\u001b[0m\u001b[1;33m\u001b[0m\u001b[1;33m\u001b[0m\u001b[0m\n",
      "\u001b[1;31mDocstring:\u001b[0m\n",
      "Return the median (middle value) of numeric data.\n",
      "\n",
      "When the number of data points is odd, return the middle data point.\n",
      "When the number of data points is even, the median is interpolated by\n",
      "taking the average of the two middle values:\n",
      "\n",
      ">>> median([1, 3, 5])\n",
      "3\n",
      ">>> median([1, 3, 5, 7])\n",
      "4.0\n",
      "\u001b[1;31mFile:\u001b[0m      c:\\users\\pyip\\appdata\\local\\mambaforge\\envs\\jupyterlab\\lib\\statistics.py\n",
      "\u001b[1;31mType:\u001b[0m      function"
     ]
    }
   ],
   "source": [
    "? st.median"
   ]
  },
  {
   "attachments": {},
   "cell_type": "markdown",
   "metadata": {},
   "source": [
    "The median of the dataset can be calculated using:"
   ]
  },
  {
   "cell_type": "code",
   "execution_count": 20,
   "metadata": {},
   "outputs": [
    {
     "data": {
      "text/plain": [
       "4.0"
      ]
     },
     "execution_count": 20,
     "metadata": {},
     "output_type": "execute_result"
    }
   ],
   "source": [
    "st.median(data)"
   ]
  },
  {
   "attachments": {},
   "cell_type": "markdown",
   "metadata": {},
   "source": [
    "Alternatively the value on the left is the median low value and can be read off directly:"
   ]
  },
  {
   "attachments": {},
   "cell_type": "markdown",
   "metadata": {},
   "source": [
    "$$\\text{data}=\\left[\\begin{matrix}1&2&3&\\textbf{4}&4&5&6&7\\end{matrix}\\right]$$"
   ]
  },
  {
   "attachments": {},
   "cell_type": "markdown",
   "metadata": {},
   "source": [
    "The docstring of the function median_low can be examined:"
   ]
  },
  {
   "cell_type": "code",
   "execution_count": 21,
   "metadata": {},
   "outputs": [
    {
     "name": "stdout",
     "output_type": "stream",
     "text": [
      "\u001b[1;31mSignature:\u001b[0m  \u001b[0mst\u001b[0m\u001b[1;33m.\u001b[0m\u001b[0mmedian_low\u001b[0m\u001b[1;33m(\u001b[0m\u001b[0mdata\u001b[0m\u001b[1;33m)\u001b[0m\u001b[1;33m\u001b[0m\u001b[1;33m\u001b[0m\u001b[0m\n",
      "\u001b[1;31mDocstring:\u001b[0m\n",
      "Return the low median of numeric data.\n",
      "\n",
      "When the number of data points is odd, the middle value is returned.\n",
      "When it is even, the smaller of the two middle values is returned.\n",
      "\n",
      ">>> median_low([1, 3, 5])\n",
      "3\n",
      ">>> median_low([1, 3, 5, 7])\n",
      "3\n",
      "\u001b[1;31mFile:\u001b[0m      c:\\users\\pyip\\appdata\\local\\mambaforge\\envs\\jupyterlab\\lib\\statistics.py\n",
      "\u001b[1;31mType:\u001b[0m      function"
     ]
    }
   ],
   "source": [
    "? st.median_low"
   ]
  },
  {
   "attachments": {},
   "cell_type": "markdown",
   "metadata": {},
   "source": [
    "The median low of the dataset can be calculated using:"
   ]
  },
  {
   "cell_type": "code",
   "execution_count": 22,
   "metadata": {},
   "outputs": [
    {
     "data": {
      "text/plain": [
       "4"
      ]
     },
     "execution_count": 22,
     "metadata": {},
     "output_type": "execute_result"
    }
   ],
   "source": [
    "st.median_low(data)"
   ]
  },
  {
   "attachments": {},
   "cell_type": "markdown",
   "metadata": {},
   "source": [
    "And the value on the right is the median high value and can be read off directly:"
   ]
  },
  {
   "attachments": {},
   "cell_type": "markdown",
   "metadata": {},
   "source": [
    "$$\\text{data}=\\left[\\begin{matrix}1&2&3&4&\\textbf{4}&5&6&7\\end{matrix}\\right]$$"
   ]
  },
  {
   "attachments": {},
   "cell_type": "markdown",
   "metadata": {},
   "source": [
    "The docstring of the function median_high can be examined:"
   ]
  },
  {
   "cell_type": "code",
   "execution_count": 23,
   "metadata": {},
   "outputs": [
    {
     "name": "stdout",
     "output_type": "stream",
     "text": [
      "\u001b[1;31mSignature:\u001b[0m  \u001b[0mst\u001b[0m\u001b[1;33m.\u001b[0m\u001b[0mmedian_high\u001b[0m\u001b[1;33m(\u001b[0m\u001b[0mdata\u001b[0m\u001b[1;33m)\u001b[0m\u001b[1;33m\u001b[0m\u001b[1;33m\u001b[0m\u001b[0m\n",
      "\u001b[1;31mDocstring:\u001b[0m\n",
      "Return the high median of data.\n",
      "\n",
      "When the number of data points is odd, the middle value is returned.\n",
      "When it is even, the larger of the two middle values is returned.\n",
      "\n",
      ">>> median_high([1, 3, 5])\n",
      "3\n",
      ">>> median_high([1, 3, 5, 7])\n",
      "5\n",
      "\u001b[1;31mFile:\u001b[0m      c:\\users\\pyip\\appdata\\local\\mambaforge\\envs\\jupyterlab\\lib\\statistics.py\n",
      "\u001b[1;31mType:\u001b[0m      function"
     ]
    }
   ],
   "source": [
    "? st.median_high"
   ]
  },
  {
   "attachments": {},
   "cell_type": "markdown",
   "metadata": {},
   "source": [
    "The median high of the dataset can be calculated using:"
   ]
  },
  {
   "cell_type": "code",
   "execution_count": 24,
   "metadata": {},
   "outputs": [
    {
     "data": {
      "text/plain": [
       "4"
      ]
     },
     "execution_count": 24,
     "metadata": {},
     "output_type": "execute_result"
    }
   ],
   "source": [
    "st.median_high(data)"
   ]
  },
  {
   "attachments": {},
   "cell_type": "markdown",
   "metadata": {},
   "source": [
    "The mode is the most commonly occuring value:"
   ]
  },
  {
   "attachments": {},
   "cell_type": "markdown",
   "metadata": {},
   "source": [
    "$$\\text{data}=\\left[\\begin{matrix}1&2&3&\\textbf{4}&\\textbf{4}&5&6&7\\end{matrix}\\right]$$"
   ]
  },
  {
   "attachments": {},
   "cell_type": "markdown",
   "metadata": {},
   "source": [
    "The docstring of the function mode can be examined:"
   ]
  },
  {
   "cell_type": "code",
   "execution_count": 25,
   "metadata": {},
   "outputs": [
    {
     "name": "stdout",
     "output_type": "stream",
     "text": [
      "\u001b[1;31mSignature:\u001b[0m  \u001b[0mst\u001b[0m\u001b[1;33m.\u001b[0m\u001b[0mmode\u001b[0m\u001b[1;33m(\u001b[0m\u001b[0mdata\u001b[0m\u001b[1;33m)\u001b[0m\u001b[1;33m\u001b[0m\u001b[1;33m\u001b[0m\u001b[0m\n",
      "\u001b[1;31mDocstring:\u001b[0m\n",
      "Return the most common data point from discrete or nominal data.\n",
      "\n",
      "``mode`` assumes discrete data, and returns a single value. This is the\n",
      "standard treatment of the mode as commonly taught in schools:\n",
      "\n",
      "    >>> mode([1, 1, 2, 3, 3, 3, 3, 4])\n",
      "    3\n",
      "\n",
      "This also works with nominal (non-numeric) data:\n",
      "\n",
      "    >>> mode([\"red\", \"blue\", \"blue\", \"red\", \"green\", \"red\", \"red\"])\n",
      "    'red'\n",
      "\n",
      "If there are multiple modes with same frequency, return the first one\n",
      "encountered:\n",
      "\n",
      "    >>> mode(['red', 'red', 'green', 'blue', 'blue'])\n",
      "    'red'\n",
      "\n",
      "If *data* is empty, ``mode``, raises StatisticsError.\n",
      "\u001b[1;31mFile:\u001b[0m      c:\\users\\pyip\\appdata\\local\\mambaforge\\envs\\jupyterlab\\lib\\statistics.py\n",
      "\u001b[1;31mType:\u001b[0m      function"
     ]
    }
   ],
   "source": [
    "? st.mode"
   ]
  },
  {
   "attachments": {},
   "cell_type": "markdown",
   "metadata": {},
   "source": [
    "The mode of the dataset can be calculated using:"
   ]
  },
  {
   "cell_type": "code",
   "execution_count": 26,
   "metadata": {},
   "outputs": [
    {
     "data": {
      "text/plain": [
       "4"
      ]
     },
     "execution_count": 26,
     "metadata": {},
     "output_type": "execute_result"
    }
   ],
   "source": [
    "st.mode(data)"
   ]
  },
  {
   "attachments": {},
   "cell_type": "markdown",
   "metadata": {},
   "source": [
    "The mode can be an important metric in a trial run. For example if a fashion designer wants to issue a prototype design of clothe, they may simplify manufacturing by starting only with the mode cloth size, as it has the largest customer base. If the trial of the first cloth batch is successful, they may complicate the manufacturer process to accomodate other sizes."
   ]
  },
  {
   "attachments": {},
   "cell_type": "markdown",
   "metadata": {},
   "source": [
    "Sometimes a dataset will have multiple mode values, using mode will only give one of these values:"
   ]
  },
  {
   "cell_type": "code",
   "execution_count": 27,
   "metadata": {},
   "outputs": [],
   "source": [
    "data2 = [1, 2, 2, 2, 2, 3, 4, 4, 4, 4, 6, 6, 7]"
   ]
  },
  {
   "cell_type": "code",
   "execution_count": 28,
   "metadata": {},
   "outputs": [
    {
     "data": {
      "text/plain": [
       "2"
      ]
     },
     "execution_count": 28,
     "metadata": {},
     "output_type": "execute_result"
    }
   ],
   "source": [
    "st.mode(data2)"
   ]
  },
  {
   "attachments": {},
   "cell_type": "markdown",
   "metadata": {},
   "source": [
    "There is an associated, multiple mode function. The docstring of the function multi_mode can be examined:"
   ]
  },
  {
   "cell_type": "code",
   "execution_count": 29,
   "metadata": {},
   "outputs": [
    {
     "data": {
      "text/plain": [
       "[2, 4]"
      ]
     },
     "execution_count": 29,
     "metadata": {},
     "output_type": "execute_result"
    }
   ],
   "source": [
    "st.multimode(data2)"
   ]
  },
  {
   "attachments": {},
   "cell_type": "markdown",
   "metadata": {},
   "source": [
    "The multiple mode function only retrieves modes that have the highest number of counts. It will not show modes that have only a slightly lower number of counts. For this purpose, recall that the Counter class is used:"
   ]
  },
  {
   "cell_type": "code",
   "execution_count": 30,
   "metadata": {},
   "outputs": [],
   "source": [
    "from collections import Counter"
   ]
  },
  {
   "cell_type": "code",
   "execution_count": 31,
   "metadata": {},
   "outputs": [
    {
     "data": {
      "text/plain": [
       "[(2, 4), (4, 4), (6, 2), (1, 1), (3, 1), (7, 1)]"
      ]
     },
     "execution_count": 31,
     "metadata": {},
     "output_type": "execute_result"
    }
   ],
   "source": [
    "Counter(data2).most_common()"
   ]
  },
  {
   "attachments": {},
   "cell_type": "markdown",
   "metadata": {},
   "source": [
    "The concept of variance is to compute the average distance a datapoint differs from the mean."
   ]
  },
  {
   "attachments": {},
   "cell_type": "markdown",
   "metadata": {},
   "source": [
    "Notice when when the sum of (each datapoint minus the mean) is calculated, the positive values and negative values cancel each other out and the result is 0:"
   ]
  },
  {
   "attachments": {},
   "cell_type": "markdown",
   "metadata": {},
   "source": [
    "$$\\sum_{i=0}^{n}\\left(x-\\mu\\right)=\\left(1-4\\right)+\\left(2-4\\right)+\\left(3-4\\right)+\\left(4-4\\right)+\\left(4-4\\right)+\\left(5-4\\right)+\\left(6-4\\right)+\\left(7-4\\right)$$"
   ]
  },
  {
   "attachments": {},
   "cell_type": "markdown",
   "metadata": {},
   "source": [
    "$$\\left(-3\\right)+\\left(-2\\right)+\\left(-1\\right)+\\left(0\\right)+\\left(0\\right)+\\left(1\\right)+\\left(2\\right)+(3)$$"
   ]
  },
  {
   "attachments": {},
   "cell_type": "markdown",
   "metadata": {},
   "source": [
    "$$-3-2-1+0+0+1+2+3$$"
   ]
  },
  {
   "attachments": {},
   "cell_type": "markdown",
   "metadata": {},
   "source": [
    "$$0$$"
   ]
  },
  {
   "attachments": {},
   "cell_type": "markdown",
   "metadata": {},
   "source": [
    "Instead the sum of (each datapoint minus the mean) squared is calculated. A negative value multiplied by itself is positive and this therefore always gives a positive value:"
   ]
  },
  {
   "attachments": {},
   "cell_type": "markdown",
   "metadata": {},
   "source": [
    "$$\\sum_{i=0}^{n}\\left(x-\\mu\\right)^2=\\left(1-4\\right)^2+\\left(2-4\\right)^2+\\left(3-4\\right)^2+\\left(4-4\\right)^2+\\left(4-4\\right)^2+\\left(5-4\\right)^2+\\left(6-4\\right)^2+\\left(7-4\\right)^2$$\n"
   ]
  },
  {
   "attachments": {},
   "cell_type": "markdown",
   "metadata": {},
   "source": [
    "$$\\left(-3\\right)^2+\\left(-2\\right)^2+\\left(-1\\right)^2+\\left(0\\right)^2+\\left(0\\right)^2+\\left(1\\right)^2+\\left(2\\right)^2+\\left(3\\right)^2$$"
   ]
  },
  {
   "attachments": {},
   "cell_type": "markdown",
   "metadata": {},
   "source": [
    "$$9+4+1+0+0+1+4+9$$"
   ]
  },
  {
   "attachments": {},
   "cell_type": "markdown",
   "metadata": {},
   "source": [
    "$$28$$"
   ]
  },
  {
   "attachments": {},
   "cell_type": "markdown",
   "metadata": {},
   "source": [
    "The mean is a normalised sum, and the population variance is the normalised sum of (each datapoint minus the mean) squared. The normalisation factor is the number of datapoints:"
   ]
  },
  {
   "attachments": {},
   "cell_type": "markdown",
   "metadata": {},
   "source": [
    "$$\\frac{28}{8}=3.5$$"
   ]
  },
  {
   "attachments": {},
   "cell_type": "markdown",
   "metadata": {},
   "source": [
    "The variance takes into account a difference in the number of degrees of freedom and uses the number of datapoints minus one as a normalisation factor:"
   ]
  },
  {
   "attachments": {},
   "cell_type": "markdown",
   "metadata": {},
   "source": [
    "$$\\frac{28}{(8-1)}=\\frac{28}{7}=4.0$$"
   ]
  },
  {
   "cell_type": "markdown",
   "metadata": {},
   "source": [
    "The docstring of the function pvariance and variance can be examined:"
   ]
  },
  {
   "cell_type": "code",
   "execution_count": 33,
   "metadata": {},
   "outputs": [
    {
     "name": "stdout",
     "output_type": "stream",
     "text": [
      "\u001b[1;31mSignature:\u001b[0m  \u001b[0mst\u001b[0m\u001b[1;33m.\u001b[0m\u001b[0mpvariance\u001b[0m\u001b[1;33m(\u001b[0m\u001b[0mdata\u001b[0m\u001b[1;33m,\u001b[0m \u001b[0mmu\u001b[0m\u001b[1;33m=\u001b[0m\u001b[1;32mNone\u001b[0m\u001b[1;33m)\u001b[0m\u001b[1;33m\u001b[0m\u001b[1;33m\u001b[0m\u001b[0m\n",
      "\u001b[1;31mDocstring:\u001b[0m\n",
      "Return the population variance of ``data``.\n",
      "\n",
      "data should be a sequence or iterable of Real-valued numbers, with at least one\n",
      "value. The optional argument mu, if given, should be the mean of\n",
      "the data. If it is missing or None, the mean is automatically calculated.\n",
      "\n",
      "Use this function to calculate the variance from the entire population.\n",
      "To estimate the variance from a sample, the ``variance`` function is\n",
      "usually a better choice.\n",
      "\n",
      "Examples:\n",
      "\n",
      ">>> data = [0.0, 0.25, 0.25, 1.25, 1.5, 1.75, 2.75, 3.25]\n",
      ">>> pvariance(data)\n",
      "1.25\n",
      "\n",
      "If you have already calculated the mean of the data, you can pass it as\n",
      "the optional second argument to avoid recalculating it:\n",
      "\n",
      ">>> mu = mean(data)\n",
      ">>> pvariance(data, mu)\n",
      "1.25\n",
      "\n",
      "Decimals and Fractions are supported:\n",
      "\n",
      ">>> from decimal import Decimal as D\n",
      ">>> pvariance([D(\"27.5\"), D(\"30.25\"), D(\"30.25\"), D(\"34.5\"), D(\"41.75\")])\n",
      "Decimal('24.815')\n",
      "\n",
      ">>> from fractions import Fraction as F\n",
      ">>> pvariance([F(1, 4), F(5, 4), F(1, 2)])\n",
      "Fraction(13, 72)\n",
      "\u001b[1;31mFile:\u001b[0m      c:\\users\\pyip\\appdata\\local\\mambaforge\\envs\\jupyterlab\\lib\\statistics.py\n",
      "\u001b[1;31mType:\u001b[0m      function"
     ]
    }
   ],
   "source": [
    "? st.pvariance"
   ]
  },
  {
   "cell_type": "code",
   "execution_count": 34,
   "metadata": {},
   "outputs": [
    {
     "name": "stdout",
     "output_type": "stream",
     "text": [
      "\u001b[1;31mSignature:\u001b[0m  \u001b[0mst\u001b[0m\u001b[1;33m.\u001b[0m\u001b[0mvariance\u001b[0m\u001b[1;33m(\u001b[0m\u001b[0mdata\u001b[0m\u001b[1;33m,\u001b[0m \u001b[0mxbar\u001b[0m\u001b[1;33m=\u001b[0m\u001b[1;32mNone\u001b[0m\u001b[1;33m)\u001b[0m\u001b[1;33m\u001b[0m\u001b[1;33m\u001b[0m\u001b[0m\n",
      "\u001b[1;31mDocstring:\u001b[0m\n",
      "Return the sample variance of data.\n",
      "\n",
      "data should be an iterable of Real-valued numbers, with at least two\n",
      "values. The optional argument xbar, if given, should be the mean of\n",
      "the data. If it is missing or None, the mean is automatically calculated.\n",
      "\n",
      "Use this function when your data is a sample from a population. To\n",
      "calculate the variance from the entire population, see ``pvariance``.\n",
      "\n",
      "Examples:\n",
      "\n",
      ">>> data = [2.75, 1.75, 1.25, 0.25, 0.5, 1.25, 3.5]\n",
      ">>> variance(data)\n",
      "1.3720238095238095\n",
      "\n",
      "If you have already calculated the mean of your data, you can pass it as\n",
      "the optional second argument ``xbar`` to avoid recalculating it:\n",
      "\n",
      ">>> m = mean(data)\n",
      ">>> variance(data, m)\n",
      "1.3720238095238095\n",
      "\n",
      "This function does not check that ``xbar`` is actually the mean of\n",
      "``data``. Giving arbitrary values for ``xbar`` may lead to invalid or\n",
      "impossible results.\n",
      "\n",
      "Decimals and Fractions are supported:\n",
      "\n",
      ">>> from decimal import Decimal as D\n",
      ">>> variance([D(\"27.5\"), D(\"30.25\"), D(\"30.25\"), D(\"34.5\"), D(\"41.75\")])\n",
      "Decimal('31.01875')\n",
      "\n",
      ">>> from fractions import Fraction as F\n",
      ">>> variance([F(1, 6), F(1, 2), F(5, 3)])\n",
      "Fraction(67, 108)\n",
      "\u001b[1;31mFile:\u001b[0m      c:\\users\\pyip\\appdata\\local\\mambaforge\\envs\\jupyterlab\\lib\\statistics.py\n",
      "\u001b[1;31mType:\u001b[0m      function"
     ]
    }
   ],
   "source": [
    "? st.variance"
   ]
  },
  {
   "attachments": {},
   "cell_type": "markdown",
   "metadata": {},
   "source": [
    "The population variance and variance can be calculated using:"
   ]
  },
  {
   "cell_type": "code",
   "execution_count": 35,
   "metadata": {},
   "outputs": [
    {
     "data": {
      "text/plain": [
       "3.5"
      ]
     },
     "execution_count": 35,
     "metadata": {},
     "output_type": "execute_result"
    }
   ],
   "source": [
    "st.pvariance(data)"
   ]
  },
  {
   "cell_type": "code",
   "execution_count": 36,
   "metadata": {},
   "outputs": [
    {
     "data": {
      "text/plain": [
       "4"
      ]
     },
     "execution_count": 36,
     "metadata": {},
     "output_type": "execute_result"
    }
   ],
   "source": [
    "st.variance(data)"
   ]
  },
  {
   "attachments": {},
   "cell_type": "markdown",
   "metadata": {},
   "source": [
    "Due to the squaring used when calculating the population variance or variance, these measurements have units of the mean squared. The standard deviation is the square root of the variance, which is measured in the same units as the mean:"
   ]
  },
  {
   "attachments": {},
   "cell_type": "markdown",
   "metadata": {},
   "source": [
    "$$\\sqrt{3.5}=1.8708$$"
   ]
  },
  {
   "attachments": {},
   "cell_type": "markdown",
   "metadata": {},
   "source": [
    "The docstring of the function pstdev and stdev can be examined:"
   ]
  },
  {
   "cell_type": "code",
   "execution_count": 38,
   "metadata": {},
   "outputs": [
    {
     "name": "stdout",
     "output_type": "stream",
     "text": [
      "\u001b[1;31mSignature:\u001b[0m  \u001b[0mst\u001b[0m\u001b[1;33m.\u001b[0m\u001b[0mpstdev\u001b[0m\u001b[1;33m(\u001b[0m\u001b[0mdata\u001b[0m\u001b[1;33m,\u001b[0m \u001b[0mmu\u001b[0m\u001b[1;33m=\u001b[0m\u001b[1;32mNone\u001b[0m\u001b[1;33m)\u001b[0m\u001b[1;33m\u001b[0m\u001b[1;33m\u001b[0m\u001b[0m\n",
      "\u001b[1;31mDocstring:\u001b[0m\n",
      "Return the square root of the population variance.\n",
      "\n",
      "See ``pvariance`` for arguments and other details.\n",
      "\n",
      ">>> pstdev([1.5, 2.5, 2.5, 2.75, 3.25, 4.75])\n",
      "0.986893273527251\n",
      "\u001b[1;31mFile:\u001b[0m      c:\\users\\pyip\\appdata\\local\\mambaforge\\envs\\jupyterlab\\lib\\statistics.py\n",
      "\u001b[1;31mType:\u001b[0m      function"
     ]
    }
   ],
   "source": [
    "? st.pstdev"
   ]
  },
  {
   "cell_type": "code",
   "execution_count": 39,
   "metadata": {},
   "outputs": [
    {
     "name": "stdout",
     "output_type": "stream",
     "text": [
      "\u001b[1;31mSignature:\u001b[0m  \u001b[0mst\u001b[0m\u001b[1;33m.\u001b[0m\u001b[0mstdev\u001b[0m\u001b[1;33m(\u001b[0m\u001b[0mdata\u001b[0m\u001b[1;33m,\u001b[0m \u001b[0mxbar\u001b[0m\u001b[1;33m=\u001b[0m\u001b[1;32mNone\u001b[0m\u001b[1;33m)\u001b[0m\u001b[1;33m\u001b[0m\u001b[1;33m\u001b[0m\u001b[0m\n",
      "\u001b[1;31mDocstring:\u001b[0m\n",
      "Return the square root of the sample variance.\n",
      "\n",
      "See ``variance`` for arguments and other details.\n",
      "\n",
      ">>> stdev([1.5, 2.5, 2.5, 2.75, 3.25, 4.75])\n",
      "1.0810874155219827\n",
      "\u001b[1;31mFile:\u001b[0m      c:\\users\\pyip\\appdata\\local\\mambaforge\\envs\\jupyterlab\\lib\\statistics.py\n",
      "\u001b[1;31mType:\u001b[0m      function"
     ]
    }
   ],
   "source": [
    "? st.stdev"
   ]
  },
  {
   "attachments": {},
   "cell_type": "markdown",
   "metadata": {},
   "source": [
    "A distribution is normally quoted using the mean and standard deviation in the form:"
   ]
  },
  {
   "attachments": {},
   "cell_type": "markdown",
   "metadata": {},
   "source": [
    "$$4.0\\pm2.0$$"
   ]
  },
  {
   "attachments": {},
   "cell_type": "markdown",
   "metadata": {},
   "source": [
    "The median value is less susceptible to large outliers and in such a scenario can be more accurate when describing a small dataset. For example if an outlier is purposely introduced, there is not much change in the median but the mean is highly distorted:"
   ]
  },
  {
   "cell_type": "code",
   "execution_count": 40,
   "metadata": {},
   "outputs": [],
   "source": [
    "data.append(999)"
   ]
  },
  {
   "cell_type": "code",
   "execution_count": 41,
   "metadata": {},
   "outputs": [
    {
     "data": {
      "text/plain": [
       "[1, 2, 3, 4, 4, 5, 6, 7, 999]"
      ]
     },
     "execution_count": 41,
     "metadata": {},
     "output_type": "execute_result"
    }
   ],
   "source": [
    "data"
   ]
  },
  {
   "cell_type": "code",
   "execution_count": 42,
   "metadata": {},
   "outputs": [
    {
     "data": {
      "text/plain": [
       "114.55555555555556"
      ]
     },
     "execution_count": 42,
     "metadata": {},
     "output_type": "execute_result"
    }
   ],
   "source": [
    "st.mean(data)"
   ]
  },
  {
   "cell_type": "code",
   "execution_count": 43,
   "metadata": {},
   "outputs": [
    {
     "data": {
      "text/plain": [
       "4"
      ]
     },
     "execution_count": 43,
     "metadata": {},
     "output_type": "execute_result"
    }
   ],
   "source": [
    "st.median(data)"
   ]
  },
  {
   "cell_type": "code",
   "execution_count": 44,
   "metadata": {},
   "outputs": [
    {
     "data": {
      "text/plain": [
       "331.67194300660674"
      ]
     },
     "execution_count": 44,
     "metadata": {},
     "output_type": "execute_result"
    }
   ],
   "source": [
    "st.stdev(data)"
   ]
  },
  {
   "attachments": {},
   "cell_type": "markdown",
   "metadata": {},
   "source": [
    "The outlier can be removed from the data:"
   ]
  },
  {
   "cell_type": "code",
   "execution_count": 45,
   "metadata": {},
   "outputs": [
    {
     "data": {
      "text/plain": [
       "999"
      ]
     },
     "execution_count": 45,
     "metadata": {},
     "output_type": "execute_result"
    }
   ],
   "source": [
    "data.pop()"
   ]
  },
  {
   "cell_type": "code",
   "execution_count": 46,
   "metadata": {},
   "outputs": [
    {
     "data": {
      "text/plain": [
       "[1, 2, 3, 4, 4, 5, 6, 7]"
      ]
     },
     "execution_count": 46,
     "metadata": {},
     "output_type": "execute_result"
    }
   ],
   "source": [
    "data"
   ]
  },
  {
   "attachments": {},
   "cell_type": "markdown",
   "metadata": {},
   "source": [
    "The quantiles function is used to group data into quantiles, that is quarters with equal proability."
   ]
  },
  {
   "attachments": {},
   "cell_type": "markdown",
   "metadata": {},
   "source": [
    "The docstring of the function quantiles can be examined:"
   ]
  },
  {
   "cell_type": "code",
   "execution_count": 47,
   "metadata": {},
   "outputs": [
    {
     "name": "stdout",
     "output_type": "stream",
     "text": [
      "\u001b[1;31mSignature:\u001b[0m  \u001b[0mst\u001b[0m\u001b[1;33m.\u001b[0m\u001b[0mquantiles\u001b[0m\u001b[1;33m(\u001b[0m\u001b[0mdata\u001b[0m\u001b[1;33m,\u001b[0m \u001b[1;33m*\u001b[0m\u001b[1;33m,\u001b[0m \u001b[0mn\u001b[0m\u001b[1;33m=\u001b[0m\u001b[1;36m4\u001b[0m\u001b[1;33m,\u001b[0m \u001b[0mmethod\u001b[0m\u001b[1;33m=\u001b[0m\u001b[1;34m'exclusive'\u001b[0m\u001b[1;33m)\u001b[0m\u001b[1;33m\u001b[0m\u001b[1;33m\u001b[0m\u001b[0m\n",
      "\u001b[1;31mDocstring:\u001b[0m\n",
      "Divide *data* into *n* continuous intervals with equal probability.\n",
      "\n",
      "Returns a list of (n - 1) cut points separating the intervals.\n",
      "\n",
      "Set *n* to 4 for quartiles (the default).  Set *n* to 10 for deciles.\n",
      "Set *n* to 100 for percentiles which gives the 99 cuts points that\n",
      "separate *data* in to 100 equal sized groups.\n",
      "\n",
      "The *data* can be any iterable containing sample.\n",
      "The cut points are linearly interpolated between data points.\n",
      "\n",
      "If *method* is set to *inclusive*, *data* is treated as population\n",
      "data.  The minimum value is treated as the 0th percentile and the\n",
      "maximum value is treated as the 100th percentile.\n",
      "\u001b[1;31mFile:\u001b[0m      c:\\users\\pyip\\appdata\\local\\mambaforge\\envs\\jupyterlab\\lib\\statistics.py\n",
      "\u001b[1;31mType:\u001b[0m      function"
     ]
    }
   ],
   "source": [
    "? st.quantiles"
   ]
  },
  {
   "attachments": {},
   "cell_type": "markdown",
   "metadata": {},
   "source": [
    "The quantile values can be calculated by:"
   ]
  },
  {
   "cell_type": "code",
   "execution_count": 48,
   "metadata": {},
   "outputs": [],
   "source": [
    "data3 = [1, 1, 2, 2, 3, 4, 4, 4, 5, 6, 7, 8, 8, 8, 9, 9]"
   ]
  },
  {
   "cell_type": "code",
   "execution_count": 49,
   "metadata": {},
   "outputs": [
    {
     "data": {
      "text/plain": [
       "[1, 1, 2, 2, 3, 4, 4, 4, 5, 6, 7, 8, 8, 8, 9, 9]"
      ]
     },
     "execution_count": 49,
     "metadata": {},
     "output_type": "execute_result"
    }
   ],
   "source": [
    "data3"
   ]
  },
  {
   "cell_type": "code",
   "execution_count": 51,
   "metadata": {},
   "outputs": [
    {
     "data": {
      "text/plain": [
       "[2.25, 4.5, 8.0]"
      ]
     },
     "execution_count": 51,
     "metadata": {},
     "output_type": "execute_result"
    }
   ],
   "source": [
    "st.quantiles(data3)"
   ]
  },
  {
   "attachments": {},
   "cell_type": "markdown",
   "metadata": {},
   "source": [
    "The quantile values can be used to cut the data into quantiles using:"
   ]
  },
  {
   "cell_type": "code",
   "execution_count": 52,
   "metadata": {},
   "outputs": [
    {
     "name": "stdout",
     "output_type": "stream",
     "text": [
      "[1, 1, 2, 2]\n",
      "[3, 4, 4, 4]\n",
      "[5, 6, 7]\n",
      "[8, 8, 8, 9, 9]\n"
     ]
    }
   ],
   "source": [
    "q1 = []\n",
    "q2 = []\n",
    "q3 = []\n",
    "q4 = []\n",
    "for num in data3:\n",
    "    if(num < st.quantiles(data3)[0]):\n",
    "        q1.append(num)\n",
    "    elif (num < st.quantiles(data3)[1]):\n",
    "        q2.append(num)\n",
    "    elif (num < st.quantiles(data3)[2]):\n",
    "        q3.append(num)\n",
    "    else:\n",
    "        q4.append(num)\n",
    "print(q1, q2, q3, q4, sep='\\n')"
   ]
  },
  {
   "attachments": {},
   "cell_type": "markdown",
   "metadata": {},
   "source": [
    "The mean is calculated using a normalised sum. The geometric mean instead uses a normalised product:"
   ]
  },
  {
   "attachments": {},
   "cell_type": "markdown",
   "metadata": {},
   "source": [
    "$$\\text{data}=\\left[\\begin{matrix}1&2&3&4&4&5&6&7\\end{matrix}\\right]$$"
   ]
  },
  {
   "attachments": {},
   "cell_type": "markdown",
   "metadata": {},
   "source": [
    "$$\\text{prod}=1\\ast2\\ast3\\ast4\\ast4\\ast5\\ast6\\ast7=20160$$"
   ]
  },
  {
   "attachments": {},
   "cell_type": "markdown",
   "metadata": {},
   "source": [
    "$$\\text{len}=8$$"
   ]
  },
  {
   "attachments": {},
   "cell_type": "markdown",
   "metadata": {},
   "source": [
    "To normalise the product the nth root is taken:"
   ]
  },
  {
   "attachments": {},
   "cell_type": "markdown",
   "metadata": {},
   "source": [
    "$$\\left(1\\ast2\\ast3\\ast4\\ast4\\ast5\\ast6\\ast7\\right)\\ast\\ast(1/8)=3.4519$$"
   ]
  },
  {
   "attachments": {},
   "cell_type": "markdown",
   "metadata": {},
   "source": [
    "The docstring of the function geometric mean can be examined:"
   ]
  },
  {
   "cell_type": "code",
   "execution_count": 53,
   "metadata": {},
   "outputs": [
    {
     "name": "stdout",
     "output_type": "stream",
     "text": [
      "\u001b[1;31mSignature:\u001b[0m  \u001b[0mst\u001b[0m\u001b[1;33m.\u001b[0m\u001b[0mgeometric_mean\u001b[0m\u001b[1;33m(\u001b[0m\u001b[0mdata\u001b[0m\u001b[1;33m)\u001b[0m\u001b[1;33m\u001b[0m\u001b[1;33m\u001b[0m\u001b[0m\n",
      "\u001b[1;31mDocstring:\u001b[0m\n",
      "Convert data to floats and compute the geometric mean.\n",
      "\n",
      "Raises a StatisticsError if the input dataset is empty,\n",
      "if it contains a zero, or if it contains a negative value.\n",
      "\n",
      "No special efforts are made to achieve exact results.\n",
      "(However, this may change in the future.)\n",
      "\n",
      ">>> round(geometric_mean([54, 24, 36]), 9)\n",
      "36.0\n",
      "\u001b[1;31mFile:\u001b[0m      c:\\users\\pyip\\appdata\\local\\mambaforge\\envs\\jupyterlab\\lib\\statistics.py\n",
      "\u001b[1;31mType:\u001b[0m      function"
     ]
    }
   ],
   "source": [
    "? st.geometric_mean"
   ]
  },
  {
   "attachments": {},
   "cell_type": "markdown",
   "metadata": {},
   "source": [
    "The geometric mean can be calculated using:"
   ]
  },
  {
   "cell_type": "code",
   "execution_count": 54,
   "metadata": {},
   "outputs": [
    {
     "data": {
      "text/plain": [
       "3.451924719784297"
      ]
     },
     "execution_count": 54,
     "metadata": {},
     "output_type": "execute_result"
    }
   ],
   "source": [
    "st.geometric_mean(data)"
   ]
  },
  {
   "attachments": {},
   "cell_type": "markdown",
   "metadata": {},
   "source": [
    "For this dataset it can be manually calculated using:"
   ]
  },
  {
   "cell_type": "code",
   "execution_count": 55,
   "metadata": {},
   "outputs": [
    {
     "data": {
      "text/plain": [
       "3.451924719784297"
      ]
     },
     "execution_count": 55,
     "metadata": {},
     "output_type": "execute_result"
    }
   ],
   "source": [
    "(1*2*3*4*4*5*6*7) ** (1/8)"
   ]
  },
  {
   "attachments": {},
   "cell_type": "markdown",
   "metadata": {},
   "source": [
    "The harmonic mean is calculated using the inverse sum. "
   ]
  },
  {
   "attachments": {},
   "cell_type": "markdown",
   "metadata": {},
   "source": [
    "$$\\text{data}=\\left[\\begin{matrix}1&2&3&4&4&5&6&7\\end{matrix}\\right]$$\n"
   ]
  },
  {
   "attachments": {},
   "cell_type": "markdown",
   "metadata": {},
   "source": [
    "$$\\text{invsum}=\\left(\\frac{1}{1}+\\frac{1}{2}+\\frac{1}{3}+\\frac{1}{4}+\\frac{1}{4}+\\frac{1}{5}+\\frac{1}{6}+\\frac{1}{7}\\right)$$"
   ]
  },
  {
   "attachments": {},
   "cell_type": "markdown",
   "metadata": {},
   "source": [
    "This is normalised by the length:"
   ]
  },
  {
   "attachments": {},
   "cell_type": "markdown",
   "metadata": {},
   "source": [
    "$$\\text{len}=8$$"
   ]
  },
  {
   "attachments": {},
   "cell_type": "markdown",
   "metadata": {},
   "source": [
    "$$\\frac{\\left(\\frac{1}{1}+\\frac{1}{2}+\\frac{1}{3}+\\frac{1}{4}+\\frac{1}{4}+\\frac{1}{5}+\\frac{1}{6}+\\frac{1}{7}\\right)}{8}$$"
   ]
  },
  {
   "attachments": {},
   "cell_type": "markdown",
   "metadata": {},
   "source": [
    "Then finally the inverse of this is taken:"
   ]
  },
  {
   "attachments": {},
   "cell_type": "markdown",
   "metadata": {},
   "source": [
    "$$\\frac{8}{\\left(\\frac{1}{1}+\\frac{1}{2}+\\frac{1}{3}+\\frac{1}{4}+\\frac{1}{4}+\\frac{1}{5}+\\frac{1}{6}+\\frac{1}{7}\\right)}$$"
   ]
  },
  {
   "attachments": {},
   "cell_type": "markdown",
   "metadata": {},
   "source": [
    "The docstring of the function harmonic mean can be examined:"
   ]
  },
  {
   "cell_type": "code",
   "execution_count": 56,
   "metadata": {},
   "outputs": [
    {
     "name": "stdout",
     "output_type": "stream",
     "text": [
      "\u001b[1;31mSignature:\u001b[0m  \u001b[0mst\u001b[0m\u001b[1;33m.\u001b[0m\u001b[0mharmonic_mean\u001b[0m\u001b[1;33m(\u001b[0m\u001b[0mdata\u001b[0m\u001b[1;33m,\u001b[0m \u001b[0mweights\u001b[0m\u001b[1;33m=\u001b[0m\u001b[1;32mNone\u001b[0m\u001b[1;33m)\u001b[0m\u001b[1;33m\u001b[0m\u001b[1;33m\u001b[0m\u001b[0m\n",
      "\u001b[1;31mDocstring:\u001b[0m\n",
      "Return the harmonic mean of data.\n",
      "\n",
      "The harmonic mean is the reciprocal of the arithmetic mean of the\n",
      "reciprocals of the data.  It can be used for averaging ratios or\n",
      "rates, for example speeds.\n",
      "\n",
      "Suppose a car travels 40 km/hr for 5 km and then speeds-up to\n",
      "60 km/hr for another 5 km. What is the average speed?\n",
      "\n",
      "    >>> harmonic_mean([40, 60])\n",
      "    48.0\n",
      "\n",
      "Suppose a car travels 40 km/hr for 5 km, and when traffic clears,\n",
      "speeds-up to 60 km/hr for the remaining 30 km of the journey. What\n",
      "is the average speed?\n",
      "\n",
      "    >>> harmonic_mean([40, 60], weights=[5, 30])\n",
      "    56.0\n",
      "\n",
      "If ``data`` is empty, or any element is less than zero,\n",
      "``harmonic_mean`` will raise ``StatisticsError``.\n",
      "\u001b[1;31mFile:\u001b[0m      c:\\users\\pyip\\appdata\\local\\mambaforge\\envs\\jupyterlab\\lib\\statistics.py\n",
      "\u001b[1;31mType:\u001b[0m      function"
     ]
    }
   ],
   "source": [
    "? st.harmonic_mean"
   ]
  },
  {
   "attachments": {},
   "cell_type": "markdown",
   "metadata": {},
   "source": [
    "The harmonic mean can be calculated using:"
   ]
  },
  {
   "cell_type": "code",
   "execution_count": 57,
   "metadata": {},
   "outputs": [
    {
     "data": {
      "text/plain": [
       "2.814070351758794"
      ]
     },
     "execution_count": 57,
     "metadata": {},
     "output_type": "execute_result"
    }
   ],
   "source": [
    "st.harmonic_mean(data)"
   ]
  },
  {
   "attachments": {},
   "cell_type": "markdown",
   "metadata": {},
   "source": [
    "For this dataset it can be manually calculated using:"
   ]
  },
  {
   "cell_type": "code",
   "execution_count": 58,
   "metadata": {},
   "outputs": [
    {
     "data": {
      "text/plain": [
       "2.814070351758794"
      ]
     },
     "execution_count": 58,
     "metadata": {},
     "output_type": "execute_result"
    }
   ],
   "source": [
    "8 / ((1/1)+(1/2)+(1/3)+(1/4)+(1/4)+(1/5)+(1/6)+(1/7))"
   ]
  },
  {
   "attachments": {},
   "cell_type": "markdown",
   "metadata": {},
   "source": [
    "Supposing the following grouped data is obtained from a histogram of values:"
   ]
  },
  {
   "attachments": {},
   "cell_type": "markdown",
   "metadata": {},
   "source": [
    "$$\\text{data4} = \\left[\\begin{matrix}2&2&3&3&3&4\\end{matrix}\\right]$$\n"
   ]
  },
  {
   "attachments": {},
   "cell_type": "markdown",
   "metadata": {},
   "source": [
    "Then for each individual datapoint the range is between:"
   ]
  },
  {
   "attachments": {},
   "cell_type": "markdown",
   "metadata": {},
   "source": [
    "|central value|range|\n",
    "|---|---|\n",
    "|2|$1.5\\text{ to } 2.5$|\n",
    "|2|$1.5\\text{ to } 2.5$|\n",
    "|3|$2.5\\text{ to } 3.5$|\n",
    "|3|$2.5\\text{ to } 3.5$|\n",
    "|3|$2.5\\text{ to } 3.5$|\n",
    "|4|$3.5\\text{ to } 4.5$|"
   ]
  },
  {
   "attachments": {},
   "cell_type": "markdown",
   "metadata": {},
   "source": [
    "There are 6 datapoints so $n=6$ and each datapoint spans an interval $i=1$. "
   ]
  },
  {
   "attachments": {},
   "cell_type": "markdown",
   "metadata": {},
   "source": [
    "The median range is $2.5\\text{ to } 3.5$, this has a lower limit of $l=2.5$ and has a frequency $f=3$."
   ]
  },
  {
   "attachments": {},
   "cell_type": "markdown",
   "metadata": {},
   "source": [
    "There are 2 datapoints before the median range, so $b=2$."
   ]
  },
  {
   "attachments": {},
   "cell_type": "markdown",
   "metadata": {},
   "source": [
    "The median grouped is defined as:"
   ]
  },
  {
   "attachments": {},
   "cell_type": "markdown",
   "metadata": {},
   "source": [
    "$$l+\\frac{\\left(\\frac{n}{2}-b\\right)}{f}\\ast i$$"
   ]
  },
  {
   "attachments": {},
   "cell_type": "markdown",
   "metadata": {},
   "source": [
    "$$2.5+\\frac{\\left(\\frac{6}{2}-2\\right)}{3}\\ast1$$"
   ]
  },
  {
   "attachments": {},
   "cell_type": "markdown",
   "metadata": {},
   "source": [
    "$$2.833$$"
   ]
  },
  {
   "attachments": {},
   "cell_type": "markdown",
   "metadata": {},
   "source": [
    "The docstring of the function median_grouped can be examined:"
   ]
  },
  {
   "cell_type": "code",
   "execution_count": 60,
   "metadata": {},
   "outputs": [
    {
     "name": "stdout",
     "output_type": "stream",
     "text": [
      "\u001b[1;31mSignature:\u001b[0m  \u001b[0mst\u001b[0m\u001b[1;33m.\u001b[0m\u001b[0mmedian_grouped\u001b[0m\u001b[1;33m(\u001b[0m\u001b[0mdata\u001b[0m\u001b[1;33m,\u001b[0m \u001b[0minterval\u001b[0m\u001b[1;33m=\u001b[0m\u001b[1;36m1.0\u001b[0m\u001b[1;33m)\u001b[0m\u001b[1;33m\u001b[0m\u001b[1;33m\u001b[0m\u001b[0m\n",
      "\u001b[1;31mDocstring:\u001b[0m\n",
      "Estimates the median for numeric data binned around the midpoints\n",
      "of consecutive, fixed-width intervals.\n",
      "\n",
      "The *data* can be any iterable of numeric data with each value being\n",
      "exactly the midpoint of a bin.  At least one value must be present.\n",
      "\n",
      "The *interval* is width of each bin.\n",
      "\n",
      "For example, demographic information may have been summarized into\n",
      "consecutive ten-year age groups with each group being represented\n",
      "by the 5-year midpoints of the intervals:\n",
      "\n",
      "    >>> demographics = Counter({\n",
      "    ...    25: 172,   # 20 to 30 years old\n",
      "    ...    35: 484,   # 30 to 40 years old\n",
      "    ...    45: 387,   # 40 to 50 years old\n",
      "    ...    55:  22,   # 50 to 60 years old\n",
      "    ...    65:   6,   # 60 to 70 years old\n",
      "    ... })\n",
      "\n",
      "The 50th percentile (median) is the 536th person out of the 1071\n",
      "member cohort.  That person is in the 30 to 40 year old age group.\n",
      "\n",
      "The regular median() function would assume that everyone in the\n",
      "tricenarian age group was exactly 35 years old.  A more tenable\n",
      "assumption is that the 484 members of that age group are evenly\n",
      "distributed between 30 and 40.  For that, we use median_grouped().\n",
      "\n",
      "    >>> data = list(demographics.elements())\n",
      "    >>> median(data)\n",
      "    35\n",
      "    >>> round(median_grouped(data, interval=10), 1)\n",
      "    37.5\n",
      "\n",
      "The caller is responsible for making sure the data points are separated\n",
      "by exact multiples of *interval*.  This is essential for getting a\n",
      "correct result.  The function does not check this precondition.\n",
      "\n",
      "Inputs may be any numeric type that can be coerced to a float during\n",
      "the interpolation step.\n",
      "\u001b[1;31mFile:\u001b[0m      c:\\users\\pyip\\appdata\\local\\mambaforge\\envs\\jupyterlab\\lib\\statistics.py\n",
      "\u001b[1;31mType:\u001b[0m      function"
     ]
    }
   ],
   "source": [
    "? st.median_grouped"
   ]
  },
  {
   "attachments": {},
   "cell_type": "markdown",
   "metadata": {},
   "source": [
    "The only keyword argument is the interval which has a default value of 1.0. All the rest of the parameters can be inferred from the data. The median grouped of the data can be calculated using:"
   ]
  },
  {
   "cell_type": "code",
   "execution_count": 61,
   "metadata": {},
   "outputs": [],
   "source": [
    "data4 = [2, 2, 3, 3, 3, 4]"
   ]
  },
  {
   "cell_type": "code",
   "execution_count": 62,
   "metadata": {},
   "outputs": [
    {
     "data": {
      "text/plain": [
       "2.8333333333333335"
      ]
     },
     "execution_count": 62,
     "metadata": {},
     "output_type": "execute_result"
    }
   ],
   "source": [
    "st.median_grouped(data4, interval=1)"
   ]
  },
  {
   "cell_type": "code",
   "execution_count": 63,
   "metadata": {},
   "outputs": [
    {
     "data": {
      "text/plain": [
       "2.8333333333333335"
      ]
     },
     "execution_count": 63,
     "metadata": {},
     "output_type": "execute_result"
    }
   ],
   "source": [
    "2.5 + (((6 / 2) - 2) / 3) * 1"
   ]
  },
  {
   "attachments": {},
   "cell_type": "markdown",
   "metadata": {},
   "source": [
    "The covariance is a measure of the joint variability of two datasets of the same size. To examine this the following lists will be created and their respective mean and variance will be calculated: "
   ]
  },
  {
   "cell_type": "code",
   "execution_count": 64,
   "metadata": {},
   "outputs": [],
   "source": [
    "data5 = [1, 2, 3, 4]"
   ]
  },
  {
   "cell_type": "code",
   "execution_count": 65,
   "metadata": {},
   "outputs": [],
   "source": [
    "mean_data5 = st.mean(data5)"
   ]
  },
  {
   "cell_type": "code",
   "execution_count": 67,
   "metadata": {},
   "outputs": [
    {
     "data": {
      "text/plain": [
       "2.5"
      ]
     },
     "execution_count": 67,
     "metadata": {},
     "output_type": "execute_result"
    }
   ],
   "source": [
    "mean_data5"
   ]
  },
  {
   "cell_type": "code",
   "execution_count": 66,
   "metadata": {},
   "outputs": [],
   "source": [
    "var_data5 = st.variance(data5)"
   ]
  },
  {
   "cell_type": "code",
   "execution_count": 68,
   "metadata": {},
   "outputs": [
    {
     "data": {
      "text/plain": [
       "1.6666666666666667"
      ]
     },
     "execution_count": 68,
     "metadata": {},
     "output_type": "execute_result"
    }
   ],
   "source": [
    "var_data5"
   ]
  },
  {
   "cell_type": "code",
   "execution_count": 69,
   "metadata": {},
   "outputs": [],
   "source": [
    "data6 = [1, 2, 3, 2]"
   ]
  },
  {
   "cell_type": "code",
   "execution_count": 73,
   "metadata": {},
   "outputs": [],
   "source": [
    "mean_data6 = st.mean(data6)"
   ]
  },
  {
   "cell_type": "code",
   "execution_count": 74,
   "metadata": {},
   "outputs": [
    {
     "data": {
      "text/plain": [
       "2"
      ]
     },
     "execution_count": 74,
     "metadata": {},
     "output_type": "execute_result"
    }
   ],
   "source": [
    "mean_data6"
   ]
  },
  {
   "cell_type": "code",
   "execution_count": 75,
   "metadata": {},
   "outputs": [],
   "source": [
    "var_data6 = st.variance(data6)"
   ]
  },
  {
   "cell_type": "code",
   "execution_count": 76,
   "metadata": {},
   "outputs": [
    {
     "data": {
      "text/plain": [
       "0.6666666666666666"
      ]
     },
     "execution_count": 76,
     "metadata": {},
     "output_type": "execute_result"
    }
   ],
   "source": [
    "var_data6"
   ]
  },
  {
   "attachments": {},
   "cell_type": "markdown",
   "metadata": {},
   "source": [
    "The covariance of two datasets is similar to the variance of a single dataset. Instead of summing the squared differences from the mean, of a single dataset. The sum of the product of the difference from the mean of the first dataset is multiplied by the difference from the mean of the second dataset:"
   ]
  },
  {
   "attachments": {},
   "cell_type": "markdown",
   "metadata": {},
   "source": [
    "$$\\sum_{i=0}^{n}{\\left(x_i-\\mu_x\\right)\\ast(y_i-\\mu_y)}=\\left(1-2.5\\right)\\ast\\left(1-2\\right)+\\left(2-2.5\\right)\\ast\\left(2-2\\right)+\\left(3-2.5\\right)\\ast\\left(3-2\\right)+\\left(4-2.5\\right)\\ast(2-2)=2.0$$"
   ]
  },
  {
   "attachments": {},
   "cell_type": "markdown",
   "metadata": {},
   "source": [
    "The covariance takes into account a difference in the number of degrees of freedom and uses the number of datapoints minus one as a normalisation factor:"
   ]
  },
  {
   "attachments": {},
   "cell_type": "markdown",
   "metadata": {},
   "source": [
    "$$\\frac{2.0}{4-1}=\\frac{2}{3}=0.667$$"
   ]
  },
  {
   "attachments": {},
   "cell_type": "markdown",
   "metadata": {},
   "source": [
    "The docstring of the function covariance can be examined:"
   ]
  },
  {
   "cell_type": "code",
   "execution_count": null,
   "metadata": {},
   "outputs": [],
   "source": []
  }
 ],
 "metadata": {
  "kernelspec": {
   "display_name": "jupyterlab",
   "language": "python",
   "name": "python3"
  },
  "language_info": {
   "codemirror_mode": {
    "name": "ipython",
    "version": 3
   },
   "file_extension": ".py",
   "mimetype": "text/x-python",
   "name": "python",
   "nbconvert_exporter": "python",
   "pygments_lexer": "ipython3",
   "version": "3.11.4"
  },
  "orig_nbformat": 4,
  "vscode": {
   "interpreter": {
    "hash": "4648373dafda34926c036cc9e466ef2f8d360789320441bb704a9be21d427d2a"
   }
  }
 },
 "nbformat": 4,
 "nbformat_minor": 2
}
